{
 "cells": [
  {
   "cell_type": "code",
   "execution_count": 1,
   "id": "623e619b",
   "metadata": {
    "_cell_guid": "b1076dfc-b9ad-4769-8c92-a6c4dae69d19",
    "_uuid": "8f2839f25d086af736a60e9eeb907d3b93b6e0e5",
    "execution": {
     "iopub.execute_input": "2024-06-03T09:23:12.026856Z",
     "iopub.status.busy": "2024-06-03T09:23:12.026431Z",
     "iopub.status.idle": "2024-06-03T09:23:12.937225Z",
     "shell.execute_reply": "2024-06-03T09:23:12.936015Z"
    },
    "papermill": {
     "duration": 0.923412,
     "end_time": "2024-06-03T09:23:12.940310",
     "exception": false,
     "start_time": "2024-06-03T09:23:12.016898",
     "status": "completed"
    },
    "tags": []
   },
   "outputs": [
    {
     "name": "stdout",
     "output_type": "stream",
     "text": [
      "/kaggle/input/crime-cast-forecasting-crime-categories/sample.csv\n",
      "/kaggle/input/crime-cast-forecasting-crime-categories/train.csv\n",
      "/kaggle/input/crime-cast-forecasting-crime-categories/test.csv\n"
     ]
    }
   ],
   "source": [
    "# This Python 3 environment comes with many helpful analytics libraries installed\n",
    "# It is defined by the kaggle/python Docker image: https://github.com/kaggle/docker-python\n",
    "# For example, here's several helpful packages to load\n",
    "\n",
    "import numpy as np # linear algebra\n",
    "import pandas as pd # data processing, CSV file I/O (e.g. pd.read_csv)\n",
    "\n",
    "# Input data files are available in the read-only \"../input/\" directory\n",
    "# For example, running this (by clicking run or pressing Shift+Enter) will list all files under the input directory\n",
    "\n",
    "import os\n",
    "for dirname, _, filenames in os.walk('/kaggle/input'):\n",
    "    for filename in filenames:\n",
    "        print(os.path.join(dirname, filename))\n",
    "\n",
    "# You can write up to 20GB to the current directory (/kaggle/working/) that gets preserved as output when you create a version using \"Save & Run All\" \n",
    "# You can also write temporary files to /kaggle/temp/, but they won't be saved outside of the current session"
   ]
  },
  {
   "cell_type": "code",
   "execution_count": 2,
   "id": "3aa787e7",
   "metadata": {
    "execution": {
     "iopub.execute_input": "2024-06-03T09:23:12.958105Z",
     "iopub.status.busy": "2024-06-03T09:23:12.957533Z",
     "iopub.status.idle": "2024-06-03T09:23:13.137787Z",
     "shell.execute_reply": "2024-06-03T09:23:13.136559Z"
    },
    "papermill": {
     "duration": 0.192204,
     "end_time": "2024-06-03T09:23:13.140517",
     "exception": false,
     "start_time": "2024-06-03T09:23:12.948313",
     "status": "completed"
    },
    "tags": []
   },
   "outputs": [],
   "source": [
    "train=pd.read_csv('/kaggle/input/crime-cast-forecasting-crime-categories/train.csv')"
   ]
  },
  {
   "cell_type": "code",
   "execution_count": 3,
   "id": "622933bc",
   "metadata": {
    "execution": {
     "iopub.execute_input": "2024-06-03T09:23:13.158746Z",
     "iopub.status.busy": "2024-06-03T09:23:13.158150Z",
     "iopub.status.idle": "2024-06-03T09:23:13.221503Z",
     "shell.execute_reply": "2024-06-03T09:23:13.220459Z"
    },
    "papermill": {
     "duration": 0.074683,
     "end_time": "2024-06-03T09:23:13.223896",
     "exception": false,
     "start_time": "2024-06-03T09:23:13.149213",
     "status": "completed"
    },
    "tags": []
   },
   "outputs": [
    {
     "data": {
      "text/html": [
       "<div>\n",
       "<style scoped>\n",
       "    .dataframe tbody tr th:only-of-type {\n",
       "        vertical-align: middle;\n",
       "    }\n",
       "\n",
       "    .dataframe tbody tr th {\n",
       "        vertical-align: top;\n",
       "    }\n",
       "\n",
       "    .dataframe thead th {\n",
       "        text-align: right;\n",
       "    }\n",
       "</style>\n",
       "<table border=\"1\" class=\"dataframe\">\n",
       "  <thead>\n",
       "    <tr style=\"text-align: right;\">\n",
       "      <th></th>\n",
       "      <th>Location</th>\n",
       "      <th>Cross_Street</th>\n",
       "      <th>Latitude</th>\n",
       "      <th>Longitude</th>\n",
       "      <th>Date_Reported</th>\n",
       "      <th>Date_Occurred</th>\n",
       "      <th>Time_Occurred</th>\n",
       "      <th>Area_ID</th>\n",
       "      <th>Area_Name</th>\n",
       "      <th>Reporting_District_no</th>\n",
       "      <th>...</th>\n",
       "      <th>Victim_Age</th>\n",
       "      <th>Victim_Sex</th>\n",
       "      <th>Victim_Descent</th>\n",
       "      <th>Premise_Code</th>\n",
       "      <th>Premise_Description</th>\n",
       "      <th>Weapon_Used_Code</th>\n",
       "      <th>Weapon_Description</th>\n",
       "      <th>Status</th>\n",
       "      <th>Status_Description</th>\n",
       "      <th>Crime_Category</th>\n",
       "    </tr>\n",
       "  </thead>\n",
       "  <tbody>\n",
       "    <tr>\n",
       "      <th>0</th>\n",
       "      <td>4500    CARPENTER                    AV</td>\n",
       "      <td>NaN</td>\n",
       "      <td>34.1522</td>\n",
       "      <td>-118.3910</td>\n",
       "      <td>03/09/2020 12:00:00 AM</td>\n",
       "      <td>03/06/2020 12:00:00 AM</td>\n",
       "      <td>1800.0</td>\n",
       "      <td>15.0</td>\n",
       "      <td>N Hollywood</td>\n",
       "      <td>1563.0</td>\n",
       "      <td>...</td>\n",
       "      <td>75.0</td>\n",
       "      <td>M</td>\n",
       "      <td>W</td>\n",
       "      <td>101.0</td>\n",
       "      <td>STREET</td>\n",
       "      <td>NaN</td>\n",
       "      <td>NaN</td>\n",
       "      <td>IC</td>\n",
       "      <td>Invest Cont</td>\n",
       "      <td>Property Crimes</td>\n",
       "    </tr>\n",
       "    <tr>\n",
       "      <th>1</th>\n",
       "      <td>45TH                         ST</td>\n",
       "      <td>ALAMEDA                      ST</td>\n",
       "      <td>34.0028</td>\n",
       "      <td>-118.2391</td>\n",
       "      <td>02/27/2020 12:00:00 AM</td>\n",
       "      <td>02/27/2020 12:00:00 AM</td>\n",
       "      <td>1345.0</td>\n",
       "      <td>13.0</td>\n",
       "      <td>Newton</td>\n",
       "      <td>1367.0</td>\n",
       "      <td>...</td>\n",
       "      <td>41.0</td>\n",
       "      <td>M</td>\n",
       "      <td>H</td>\n",
       "      <td>216.0</td>\n",
       "      <td>SWAP MEET</td>\n",
       "      <td>400.0</td>\n",
       "      <td>STRONG-ARM (HANDS, FIST, FEET OR BODILY FORCE)</td>\n",
       "      <td>IC</td>\n",
       "      <td>Invest Cont</td>\n",
       "      <td>Property Crimes</td>\n",
       "    </tr>\n",
       "    <tr>\n",
       "      <th>2</th>\n",
       "      <td>600 E  MARTIN LUTHER KING JR        BL</td>\n",
       "      <td>NaN</td>\n",
       "      <td>34.0111</td>\n",
       "      <td>-118.2653</td>\n",
       "      <td>08/21/2020 12:00:00 AM</td>\n",
       "      <td>08/21/2020 12:00:00 AM</td>\n",
       "      <td>605.0</td>\n",
       "      <td>13.0</td>\n",
       "      <td>Newton</td>\n",
       "      <td>1343.0</td>\n",
       "      <td>...</td>\n",
       "      <td>67.0</td>\n",
       "      <td>M</td>\n",
       "      <td>B</td>\n",
       "      <td>501.0</td>\n",
       "      <td>SINGLE FAMILY DWELLING</td>\n",
       "      <td>NaN</td>\n",
       "      <td>NaN</td>\n",
       "      <td>IC</td>\n",
       "      <td>Invest Cont</td>\n",
       "      <td>Property Crimes</td>\n",
       "    </tr>\n",
       "    <tr>\n",
       "      <th>3</th>\n",
       "      <td>14900    ORO GRANDE                   ST</td>\n",
       "      <td>NaN</td>\n",
       "      <td>34.2953</td>\n",
       "      <td>-118.4590</td>\n",
       "      <td>11/08/2020 12:00:00 AM</td>\n",
       "      <td>11/06/2020 12:00:00 AM</td>\n",
       "      <td>1800.0</td>\n",
       "      <td>19.0</td>\n",
       "      <td>Mission</td>\n",
       "      <td>1924.0</td>\n",
       "      <td>...</td>\n",
       "      <td>61.0</td>\n",
       "      <td>M</td>\n",
       "      <td>H</td>\n",
       "      <td>101.0</td>\n",
       "      <td>STREET</td>\n",
       "      <td>NaN</td>\n",
       "      <td>NaN</td>\n",
       "      <td>IC</td>\n",
       "      <td>Invest Cont</td>\n",
       "      <td>Property Crimes</td>\n",
       "    </tr>\n",
       "    <tr>\n",
       "      <th>4</th>\n",
       "      <td>7100 S  VERMONT                      AV</td>\n",
       "      <td>NaN</td>\n",
       "      <td>33.9787</td>\n",
       "      <td>-118.2918</td>\n",
       "      <td>02/25/2020 12:00:00 AM</td>\n",
       "      <td>02/25/2020 12:00:00 AM</td>\n",
       "      <td>1130.0</td>\n",
       "      <td>12.0</td>\n",
       "      <td>77th Street</td>\n",
       "      <td>1245.0</td>\n",
       "      <td>...</td>\n",
       "      <td>0.0</td>\n",
       "      <td>X</td>\n",
       "      <td>X</td>\n",
       "      <td>401.0</td>\n",
       "      <td>MINI-MART</td>\n",
       "      <td>400.0</td>\n",
       "      <td>STRONG-ARM (HANDS, FIST, FEET OR BODILY FORCE)</td>\n",
       "      <td>IC</td>\n",
       "      <td>Invest Cont</td>\n",
       "      <td>Property Crimes</td>\n",
       "    </tr>\n",
       "    <tr>\n",
       "      <th>...</th>\n",
       "      <td>...</td>\n",
       "      <td>...</td>\n",
       "      <td>...</td>\n",
       "      <td>...</td>\n",
       "      <td>...</td>\n",
       "      <td>...</td>\n",
       "      <td>...</td>\n",
       "      <td>...</td>\n",
       "      <td>...</td>\n",
       "      <td>...</td>\n",
       "      <td>...</td>\n",
       "      <td>...</td>\n",
       "      <td>...</td>\n",
       "      <td>...</td>\n",
       "      <td>...</td>\n",
       "      <td>...</td>\n",
       "      <td>...</td>\n",
       "      <td>...</td>\n",
       "      <td>...</td>\n",
       "      <td>...</td>\n",
       "      <td>...</td>\n",
       "    </tr>\n",
       "    <tr>\n",
       "      <th>19995</th>\n",
       "      <td>5100 W  ADAMS                        BL</td>\n",
       "      <td>NaN</td>\n",
       "      <td>34.0334</td>\n",
       "      <td>-118.3523</td>\n",
       "      <td>05/24/2020 12:00:00 AM</td>\n",
       "      <td>05/24/2020 12:00:00 AM</td>\n",
       "      <td>700.0</td>\n",
       "      <td>3.0</td>\n",
       "      <td>Southwest</td>\n",
       "      <td>303.0</td>\n",
       "      <td>...</td>\n",
       "      <td>51.0</td>\n",
       "      <td>M</td>\n",
       "      <td>H</td>\n",
       "      <td>501.0</td>\n",
       "      <td>SINGLE FAMILY DWELLING</td>\n",
       "      <td>400.0</td>\n",
       "      <td>STRONG-ARM (HANDS, FIST, FEET OR BODILY FORCE)</td>\n",
       "      <td>IC</td>\n",
       "      <td>Invest Cont</td>\n",
       "      <td>Violent Crimes</td>\n",
       "    </tr>\n",
       "    <tr>\n",
       "      <th>19996</th>\n",
       "      <td>16900    ROSCOE                       BL</td>\n",
       "      <td>NaN</td>\n",
       "      <td>34.2212</td>\n",
       "      <td>-118.5011</td>\n",
       "      <td>12/25/2020 12:00:00 AM</td>\n",
       "      <td>12/25/2020 12:00:00 AM</td>\n",
       "      <td>259.0</td>\n",
       "      <td>10.0</td>\n",
       "      <td>West Valley</td>\n",
       "      <td>1008.0</td>\n",
       "      <td>...</td>\n",
       "      <td>0.0</td>\n",
       "      <td>M</td>\n",
       "      <td>W</td>\n",
       "      <td>301.0</td>\n",
       "      <td>GAS STATION</td>\n",
       "      <td>NaN</td>\n",
       "      <td>NaN</td>\n",
       "      <td>IC</td>\n",
       "      <td>Invest Cont</td>\n",
       "      <td>Property Crimes</td>\n",
       "    </tr>\n",
       "    <tr>\n",
       "      <th>19997</th>\n",
       "      <td>1000 S  SHENANDOAH                   ST</td>\n",
       "      <td>NaN</td>\n",
       "      <td>34.0571</td>\n",
       "      <td>-118.3815</td>\n",
       "      <td>09/25/2020 12:00:00 AM</td>\n",
       "      <td>09/25/2020 12:00:00 AM</td>\n",
       "      <td>1400.0</td>\n",
       "      <td>8.0</td>\n",
       "      <td>West LA</td>\n",
       "      <td>849.0</td>\n",
       "      <td>...</td>\n",
       "      <td>42.0</td>\n",
       "      <td>M</td>\n",
       "      <td>H</td>\n",
       "      <td>102.0</td>\n",
       "      <td>SIDEWALK</td>\n",
       "      <td>NaN</td>\n",
       "      <td>NaN</td>\n",
       "      <td>IC</td>\n",
       "      <td>Invest Cont</td>\n",
       "      <td>Property Crimes</td>\n",
       "    </tr>\n",
       "    <tr>\n",
       "      <th>19998</th>\n",
       "      <td>300 W  SEPULVEDA                    ST</td>\n",
       "      <td>NaN</td>\n",
       "      <td>33.7451</td>\n",
       "      <td>-118.2835</td>\n",
       "      <td>06/10/2020 12:00:00 AM</td>\n",
       "      <td>06/10/2020 12:00:00 AM</td>\n",
       "      <td>600.0</td>\n",
       "      <td>5.0</td>\n",
       "      <td>Harbor</td>\n",
       "      <td>558.0</td>\n",
       "      <td>...</td>\n",
       "      <td>76.0</td>\n",
       "      <td>F</td>\n",
       "      <td>H</td>\n",
       "      <td>501.0</td>\n",
       "      <td>SINGLE FAMILY DWELLING</td>\n",
       "      <td>NaN</td>\n",
       "      <td>NaN</td>\n",
       "      <td>IC</td>\n",
       "      <td>Invest Cont</td>\n",
       "      <td>Crimes against Public Order</td>\n",
       "    </tr>\n",
       "    <tr>\n",
       "      <th>19999</th>\n",
       "      <td>DALTON                       AV</td>\n",
       "      <td>VERNON                       AV</td>\n",
       "      <td>34.0037</td>\n",
       "      <td>-118.3034</td>\n",
       "      <td>02/18/2020 12:00:00 AM</td>\n",
       "      <td>02/17/2020 12:00:00 AM</td>\n",
       "      <td>1800.0</td>\n",
       "      <td>3.0</td>\n",
       "      <td>Southwest</td>\n",
       "      <td>397.0</td>\n",
       "      <td>...</td>\n",
       "      <td>0.0</td>\n",
       "      <td>NaN</td>\n",
       "      <td>NaN</td>\n",
       "      <td>101.0</td>\n",
       "      <td>STREET</td>\n",
       "      <td>NaN</td>\n",
       "      <td>NaN</td>\n",
       "      <td>IC</td>\n",
       "      <td>Invest Cont</td>\n",
       "      <td>Property Crimes</td>\n",
       "    </tr>\n",
       "  </tbody>\n",
       "</table>\n",
       "<p>20000 rows × 22 columns</p>\n",
       "</div>"
      ],
      "text/plain": [
       "                                       Location  \\\n",
       "0       4500    CARPENTER                    AV   \n",
       "1               45TH                         ST   \n",
       "2        600 E  MARTIN LUTHER KING JR        BL   \n",
       "3      14900    ORO GRANDE                   ST   \n",
       "4       7100 S  VERMONT                      AV   \n",
       "...                                         ...   \n",
       "19995   5100 W  ADAMS                        BL   \n",
       "19996  16900    ROSCOE                       BL   \n",
       "19997   1000 S  SHENANDOAH                   ST   \n",
       "19998    300 W  SEPULVEDA                    ST   \n",
       "19999           DALTON                       AV   \n",
       "\n",
       "                          Cross_Street  Latitude  Longitude  \\\n",
       "0                                  NaN   34.1522  -118.3910   \n",
       "1      ALAMEDA                      ST   34.0028  -118.2391   \n",
       "2                                  NaN   34.0111  -118.2653   \n",
       "3                                  NaN   34.2953  -118.4590   \n",
       "4                                  NaN   33.9787  -118.2918   \n",
       "...                                ...       ...        ...   \n",
       "19995                              NaN   34.0334  -118.3523   \n",
       "19996                              NaN   34.2212  -118.5011   \n",
       "19997                              NaN   34.0571  -118.3815   \n",
       "19998                              NaN   33.7451  -118.2835   \n",
       "19999  VERNON                       AV   34.0037  -118.3034   \n",
       "\n",
       "                Date_Reported           Date_Occurred  Time_Occurred  Area_ID  \\\n",
       "0      03/09/2020 12:00:00 AM  03/06/2020 12:00:00 AM         1800.0     15.0   \n",
       "1      02/27/2020 12:00:00 AM  02/27/2020 12:00:00 AM         1345.0     13.0   \n",
       "2      08/21/2020 12:00:00 AM  08/21/2020 12:00:00 AM          605.0     13.0   \n",
       "3      11/08/2020 12:00:00 AM  11/06/2020 12:00:00 AM         1800.0     19.0   \n",
       "4      02/25/2020 12:00:00 AM  02/25/2020 12:00:00 AM         1130.0     12.0   \n",
       "...                       ...                     ...            ...      ...   \n",
       "19995  05/24/2020 12:00:00 AM  05/24/2020 12:00:00 AM          700.0      3.0   \n",
       "19996  12/25/2020 12:00:00 AM  12/25/2020 12:00:00 AM          259.0     10.0   \n",
       "19997  09/25/2020 12:00:00 AM  09/25/2020 12:00:00 AM         1400.0      8.0   \n",
       "19998  06/10/2020 12:00:00 AM  06/10/2020 12:00:00 AM          600.0      5.0   \n",
       "19999  02/18/2020 12:00:00 AM  02/17/2020 12:00:00 AM         1800.0      3.0   \n",
       "\n",
       "         Area_Name  Reporting_District_no  ...  Victim_Age Victim_Sex  \\\n",
       "0      N Hollywood                 1563.0  ...        75.0          M   \n",
       "1           Newton                 1367.0  ...        41.0          M   \n",
       "2           Newton                 1343.0  ...        67.0          M   \n",
       "3          Mission                 1924.0  ...        61.0          M   \n",
       "4      77th Street                 1245.0  ...         0.0          X   \n",
       "...            ...                    ...  ...         ...        ...   \n",
       "19995    Southwest                  303.0  ...        51.0          M   \n",
       "19996  West Valley                 1008.0  ...         0.0          M   \n",
       "19997      West LA                  849.0  ...        42.0          M   \n",
       "19998       Harbor                  558.0  ...        76.0          F   \n",
       "19999    Southwest                  397.0  ...         0.0        NaN   \n",
       "\n",
       "       Victim_Descent Premise_Code     Premise_Description  Weapon_Used_Code  \\\n",
       "0                   W        101.0                  STREET               NaN   \n",
       "1                   H        216.0               SWAP MEET             400.0   \n",
       "2                   B        501.0  SINGLE FAMILY DWELLING               NaN   \n",
       "3                   H        101.0                  STREET               NaN   \n",
       "4                   X        401.0               MINI-MART             400.0   \n",
       "...               ...          ...                     ...               ...   \n",
       "19995               H        501.0  SINGLE FAMILY DWELLING             400.0   \n",
       "19996               W        301.0             GAS STATION               NaN   \n",
       "19997               H        102.0                SIDEWALK               NaN   \n",
       "19998               H        501.0  SINGLE FAMILY DWELLING               NaN   \n",
       "19999             NaN        101.0                  STREET               NaN   \n",
       "\n",
       "                                   Weapon_Description  Status  \\\n",
       "0                                                 NaN      IC   \n",
       "1      STRONG-ARM (HANDS, FIST, FEET OR BODILY FORCE)      IC   \n",
       "2                                                 NaN      IC   \n",
       "3                                                 NaN      IC   \n",
       "4      STRONG-ARM (HANDS, FIST, FEET OR BODILY FORCE)      IC   \n",
       "...                                               ...     ...   \n",
       "19995  STRONG-ARM (HANDS, FIST, FEET OR BODILY FORCE)      IC   \n",
       "19996                                             NaN      IC   \n",
       "19997                                             NaN      IC   \n",
       "19998                                             NaN      IC   \n",
       "19999                                             NaN      IC   \n",
       "\n",
       "      Status_Description               Crime_Category  \n",
       "0            Invest Cont              Property Crimes  \n",
       "1            Invest Cont              Property Crimes  \n",
       "2            Invest Cont              Property Crimes  \n",
       "3            Invest Cont              Property Crimes  \n",
       "4            Invest Cont              Property Crimes  \n",
       "...                  ...                          ...  \n",
       "19995        Invest Cont               Violent Crimes  \n",
       "19996        Invest Cont              Property Crimes  \n",
       "19997        Invest Cont              Property Crimes  \n",
       "19998        Invest Cont  Crimes against Public Order  \n",
       "19999        Invest Cont              Property Crimes  \n",
       "\n",
       "[20000 rows x 22 columns]"
      ]
     },
     "execution_count": 3,
     "metadata": {},
     "output_type": "execute_result"
    }
   ],
   "source": [
    "train\n"
   ]
  },
  {
   "cell_type": "code",
   "execution_count": 4,
   "id": "81853089",
   "metadata": {
    "execution": {
     "iopub.execute_input": "2024-06-03T09:23:13.241824Z",
     "iopub.status.busy": "2024-06-03T09:23:13.241396Z",
     "iopub.status.idle": "2024-06-03T09:23:13.275830Z",
     "shell.execute_reply": "2024-06-03T09:23:13.274769Z"
    },
    "papermill": {
     "duration": 0.046034,
     "end_time": "2024-06-03T09:23:13.278161",
     "exception": false,
     "start_time": "2024-06-03T09:23:13.232127",
     "status": "completed"
    },
    "tags": []
   },
   "outputs": [
    {
     "name": "stdout",
     "output_type": "stream",
     "text": [
      "<class 'pandas.core.frame.DataFrame'>\n",
      "RangeIndex: 20000 entries, 0 to 19999\n",
      "Data columns (total 22 columns):\n",
      " #   Column                 Non-Null Count  Dtype  \n",
      "---  ------                 --------------  -----  \n",
      " 0   Location               20000 non-null  object \n",
      " 1   Cross_Street           3448 non-null   object \n",
      " 2   Latitude               20000 non-null  float64\n",
      " 3   Longitude              20000 non-null  float64\n",
      " 4   Date_Reported          20000 non-null  object \n",
      " 5   Date_Occurred          20000 non-null  object \n",
      " 6   Time_Occurred          20000 non-null  float64\n",
      " 7   Area_ID                20000 non-null  float64\n",
      " 8   Area_Name              20000 non-null  object \n",
      " 9   Reporting_District_no  20000 non-null  float64\n",
      " 10  Part 1-2               20000 non-null  float64\n",
      " 11  Modus_Operandi         17259 non-null  object \n",
      " 12  Victim_Age             20000 non-null  float64\n",
      " 13  Victim_Sex             17376 non-null  object \n",
      " 14  Victim_Descent         17376 non-null  object \n",
      " 15  Premise_Code           20000 non-null  float64\n",
      " 16  Premise_Description    19995 non-null  object \n",
      " 17  Weapon_Used_Code       7335 non-null   float64\n",
      " 18  Weapon_Description     7335 non-null   object \n",
      " 19  Status                 20000 non-null  object \n",
      " 20  Status_Description     20000 non-null  object \n",
      " 21  Crime_Category         20000 non-null  object \n",
      "dtypes: float64(9), object(13)\n",
      "memory usage: 3.4+ MB\n"
     ]
    }
   ],
   "source": [
    "train.info()"
   ]
  },
  {
   "cell_type": "code",
   "execution_count": 5,
   "id": "916c5d27",
   "metadata": {
    "execution": {
     "iopub.execute_input": "2024-06-03T09:23:13.295910Z",
     "iopub.status.busy": "2024-06-03T09:23:13.295507Z",
     "iopub.status.idle": "2024-06-03T09:23:13.305408Z",
     "shell.execute_reply": "2024-06-03T09:23:13.304342Z"
    },
    "papermill": {
     "duration": 0.021399,
     "end_time": "2024-06-03T09:23:13.307686",
     "exception": false,
     "start_time": "2024-06-03T09:23:13.286287",
     "status": "completed"
    },
    "tags": []
   },
   "outputs": [
    {
     "data": {
      "text/plain": [
       "array([1., 2.])"
      ]
     },
     "execution_count": 5,
     "metadata": {},
     "output_type": "execute_result"
    }
   ],
   "source": [
    "train['Part 1-2'].unique()"
   ]
  },
  {
   "cell_type": "code",
   "execution_count": 6,
   "id": "fc381e1d",
   "metadata": {
    "execution": {
     "iopub.execute_input": "2024-06-03T09:23:13.325681Z",
     "iopub.status.busy": "2024-06-03T09:23:13.325274Z",
     "iopub.status.idle": "2024-06-03T09:23:13.332362Z",
     "shell.execute_reply": "2024-06-03T09:23:13.331393Z"
    },
    "papermill": {
     "duration": 0.018819,
     "end_time": "2024-06-03T09:23:13.334843",
     "exception": false,
     "start_time": "2024-06-03T09:23:13.316024",
     "status": "completed"
    },
    "tags": []
   },
   "outputs": [
    {
     "data": {
      "text/plain": [
       "array([1563., 1367., 1343., ..., 1778., 1199.,  812.])"
      ]
     },
     "execution_count": 6,
     "metadata": {},
     "output_type": "execute_result"
    }
   ],
   "source": [
    "train['Reporting_District_no'].unique()"
   ]
  },
  {
   "cell_type": "code",
   "execution_count": 7,
   "id": "7b805527",
   "metadata": {
    "execution": {
     "iopub.execute_input": "2024-06-03T09:23:13.353515Z",
     "iopub.status.busy": "2024-06-03T09:23:13.353159Z",
     "iopub.status.idle": "2024-06-03T09:23:13.361428Z",
     "shell.execute_reply": "2024-06-03T09:23:13.360303Z"
    },
    "papermill": {
     "duration": 0.020534,
     "end_time": "2024-06-03T09:23:13.363823",
     "exception": false,
     "start_time": "2024-06-03T09:23:13.343289",
     "status": "completed"
    },
    "tags": []
   },
   "outputs": [
    {
     "data": {
      "text/plain": [
       "array(['N Hollywood', 'Newton', 'Mission', '77th Street', 'Northeast',\n",
       "       'Hollenbeck', 'Pacific', 'Van Nuys', 'Devonshire', 'Wilshire',\n",
       "       'Hollywood', 'Harbor', 'Topanga', 'Central', 'West Valley',\n",
       "       'Olympic', 'Foothill', 'West LA', 'Southeast', 'Southwest',\n",
       "       'Rampart'], dtype=object)"
      ]
     },
     "execution_count": 7,
     "metadata": {},
     "output_type": "execute_result"
    }
   ],
   "source": [
    "train['Area_Name'].unique()"
   ]
  },
  {
   "cell_type": "code",
   "execution_count": 8,
   "id": "e81206fa",
   "metadata": {
    "execution": {
     "iopub.execute_input": "2024-06-03T09:23:13.382855Z",
     "iopub.status.busy": "2024-06-03T09:23:13.382449Z",
     "iopub.status.idle": "2024-06-03T09:23:13.393674Z",
     "shell.execute_reply": "2024-06-03T09:23:13.392668Z"
    },
    "papermill": {
     "duration": 0.023481,
     "end_time": "2024-06-03T09:23:13.395968",
     "exception": false,
     "start_time": "2024-06-03T09:23:13.372487",
     "status": "completed"
    },
    "tags": []
   },
   "outputs": [
    {
     "data": {
      "text/plain": [
       "Area_ID\n",
       "12.0    1345\n",
       "14.0    1157\n",
       "1.0     1156\n",
       "3.0     1130\n",
       "18.0    1067\n",
       "15.0    1065\n",
       "6.0     1014\n",
       "13.0     999\n",
       "20.0     960\n",
       "7.0      943\n",
       "2.0      931\n",
       "8.0      910\n",
       "9.0      902\n",
       "5.0      872\n",
       "19.0     870\n",
       "11.0     839\n",
       "21.0     792\n",
       "10.0     790\n",
       "17.0     769\n",
       "4.0      755\n",
       "16.0     734\n",
       "Name: count, dtype: int64"
      ]
     },
     "execution_count": 8,
     "metadata": {},
     "output_type": "execute_result"
    }
   ],
   "source": [
    "train['Area_ID'].value_counts()"
   ]
  },
  {
   "cell_type": "code",
   "execution_count": 9,
   "id": "4c2c2ce0",
   "metadata": {
    "execution": {
     "iopub.execute_input": "2024-06-03T09:23:13.416076Z",
     "iopub.status.busy": "2024-06-03T09:23:13.415148Z",
     "iopub.status.idle": "2024-06-03T09:23:13.424390Z",
     "shell.execute_reply": "2024-06-03T09:23:13.423179Z"
    },
    "papermill": {
     "duration": 0.022269,
     "end_time": "2024-06-03T09:23:13.426805",
     "exception": false,
     "start_time": "2024-06-03T09:23:13.404536",
     "status": "completed"
    },
    "tags": []
   },
   "outputs": [
    {
     "data": {
      "text/plain": [
       "array([101., 216., 501., 401., 502., 202., 104., 108., 121., 102., 203.,\n",
       "       122., 707., 503., 506., 509., 710., 103., 602., 519., 406., 751.,\n",
       "       210., 123., 801., 601., 243., 242., 504., 124., 505., 119., 252.,\n",
       "       109., 704., 152., 120., 301., 404., 720., 405., 402., 213., 514.,\n",
       "       248., 702., 708., 834., 212., 416., 954., 158., 403., 701., 721.,\n",
       "       725., 605., 726., 912., 729., 139., 145., 208., 719., 201., 141.,\n",
       "       107., 222., 144., 116., 507., 221., 254., 757., 217., 110., 408.,\n",
       "       146., 510., 750., 229., 727., 249., 236., 738., 516., 735., 716.,\n",
       "       908., 232., 517., 722., 515., 874., 518., 118., 127., 151., 932.,\n",
       "       411., 415., 910., 414., 220., 255., 407., 239., 156., 233., 717.,\n",
       "       900., 956., 949., 218., 732., 936., 244., 835., 715., 410., 231.,\n",
       "       728., 417., 207., 247., 206., 913., 733., 409., 811., 235., 724.,\n",
       "       902., 712., 941., 117., 412., 705., 512., 907., 142., 903., 953.,\n",
       "       511., 753., 736., 205., 897., 875., 138., 709., 128., 209., 230.,\n",
       "       916., 723., 140., 157., 969., 135., 302., 958., 251., 921., 730.,\n",
       "       809., 740., 957., 917., 905., 214., 148., 706., 909., 896., 418.,\n",
       "       744., 911., 802., 154., 413., 895., 966., 219., 234., 948., 922.,\n",
       "       603., 238., 906., 951., 935., 950., 112., 920., 968., 703., 227.,\n",
       "       111., 868., 508., 943., 754., 225., 931., 215., 241., 741., 228.,\n",
       "       915., 944., 755., 945., 904., 718., 739., 250.])"
      ]
     },
     "execution_count": 9,
     "metadata": {},
     "output_type": "execute_result"
    }
   ],
   "source": [
    "train['Premise_Code'].unique()"
   ]
  },
  {
   "cell_type": "code",
   "execution_count": 10,
   "id": "71706a23",
   "metadata": {
    "execution": {
     "iopub.execute_input": "2024-06-03T09:23:13.447497Z",
     "iopub.status.busy": "2024-06-03T09:23:13.446479Z",
     "iopub.status.idle": "2024-06-03T09:23:13.454426Z",
     "shell.execute_reply": "2024-06-03T09:23:13.453332Z"
    },
    "papermill": {
     "duration": 0.020478,
     "end_time": "2024-06-03T09:23:13.456560",
     "exception": false,
     "start_time": "2024-06-03T09:23:13.436082",
     "status": "completed"
    },
    "tags": []
   },
   "outputs": [
    {
     "data": {
      "text/plain": [
       "array(['W', 'H', 'B', 'X', nan, 'O', 'A', 'K', 'C', 'F', 'I', 'J', 'Z',\n",
       "       'V', 'P', 'D', 'U', 'G'], dtype=object)"
      ]
     },
     "execution_count": 10,
     "metadata": {},
     "output_type": "execute_result"
    }
   ],
   "source": [
    "train['Victim_Descent'].unique()"
   ]
  },
  {
   "cell_type": "code",
   "execution_count": 11,
   "id": "cb1d928c",
   "metadata": {
    "execution": {
     "iopub.execute_input": "2024-06-03T09:23:13.476017Z",
     "iopub.status.busy": "2024-06-03T09:23:13.475645Z",
     "iopub.status.idle": "2024-06-03T09:23:13.482739Z",
     "shell.execute_reply": "2024-06-03T09:23:13.481654Z"
    },
    "papermill": {
     "duration": 0.019444,
     "end_time": "2024-06-03T09:23:13.484929",
     "exception": false,
     "start_time": "2024-06-03T09:23:13.465485",
     "status": "completed"
    },
    "tags": []
   },
   "outputs": [
    {
     "data": {
      "text/plain": [
       "array(['M', 'X', 'F', nan, 'H'], dtype=object)"
      ]
     },
     "execution_count": 11,
     "metadata": {},
     "output_type": "execute_result"
    }
   ],
   "source": [
    "train['Victim_Sex'].unique()"
   ]
  },
  {
   "cell_type": "code",
   "execution_count": 12,
   "id": "f5f28b92",
   "metadata": {
    "execution": {
     "iopub.execute_input": "2024-06-03T09:23:13.504495Z",
     "iopub.status.busy": "2024-06-03T09:23:13.504113Z",
     "iopub.status.idle": "2024-06-03T09:23:13.512587Z",
     "shell.execute_reply": "2024-06-03T09:23:13.511246Z"
    },
    "papermill": {
     "duration": 0.02103,
     "end_time": "2024-06-03T09:23:13.514917",
     "exception": false,
     "start_time": "2024-06-03T09:23:13.493887",
     "status": "completed"
    },
    "tags": []
   },
   "outputs": [
    {
     "data": {
      "text/plain": [
       "array([75., 41., 67., 61.,  0., 50., 68., 22., 31., 46., 72., 26., 38.,\n",
       "       37., 42., 40., 53., 60., 29., 13., 33., 27., 15., 23., 74., 63.,\n",
       "       78., 51., 44., 34., 69., 36., 52., 25., 49., 48., 32., 18., 35.,\n",
       "       24., 39., 16., 28., 47., 30., 64., 76.,  5., 58., 45., 57., 19.,\n",
       "       55., 54., 21., 65., 17., 20., 77., 82., 56., -2., 84., 59., 43.,\n",
       "        7., 70., 66., 62., 14., 80., 71., 81., 96., 12., 11.,  4., 83.,\n",
       "       10.,  8.,  6., 88., 86., 73.,  9., 87., 85., 93., 95., 99., 79.,\n",
       "        3.,  2., 91., 92., 90., 89., 98., -1., 94.])"
      ]
     },
     "execution_count": 12,
     "metadata": {},
     "output_type": "execute_result"
    }
   ],
   "source": [
    "train['Victim_Age'].unique()"
   ]
  },
  {
   "cell_type": "code",
   "execution_count": 13,
   "id": "33b65bd5",
   "metadata": {
    "execution": {
     "iopub.execute_input": "2024-06-03T09:23:13.535531Z",
     "iopub.status.busy": "2024-06-03T09:23:13.535140Z",
     "iopub.status.idle": "2024-06-03T09:23:13.544669Z",
     "shell.execute_reply": "2024-06-03T09:23:13.543625Z"
    },
    "papermill": {
     "duration": 0.022921,
     "end_time": "2024-06-03T09:23:13.546983",
     "exception": false,
     "start_time": "2024-06-03T09:23:13.524062",
     "status": "completed"
    },
    "tags": []
   },
   "outputs": [
    {
     "data": {
      "text/plain": [
       "array(['0385', '0906 0352 0371 0446 1822 0344 0416 0417', '0329 1202',\n",
       "       ..., '0416 0446 2004 0913', '1822 0209 0344 1414 1420',\n",
       "       '1202 2038 0913 0602 1242 0553'], dtype=object)"
      ]
     },
     "execution_count": 13,
     "metadata": {},
     "output_type": "execute_result"
    }
   ],
   "source": [
    "train['Modus_Operandi'].unique()"
   ]
  },
  {
   "cell_type": "code",
   "execution_count": 14,
   "id": "2a44b3de",
   "metadata": {
    "execution": {
     "iopub.execute_input": "2024-06-03T09:23:13.567236Z",
     "iopub.status.busy": "2024-06-03T09:23:13.566860Z",
     "iopub.status.idle": "2024-06-03T09:23:13.575720Z",
     "shell.execute_reply": "2024-06-03T09:23:13.574659Z"
    },
    "papermill": {
     "duration": 0.02181,
     "end_time": "2024-06-03T09:23:13.578113",
     "exception": false,
     "start_time": "2024-06-03T09:23:13.556303",
     "status": "completed"
    },
    "tags": []
   },
   "outputs": [
    {
     "data": {
      "text/plain": [
       "array(['STREET', 'SWAP MEET', 'SINGLE FAMILY DWELLING', 'MINI-MART',\n",
       "       'MULTI-UNIT DWELLING (APARTMENT, DUPLEX, ETC)', 'LIQUOR STORE',\n",
       "       'DRIVEWAY', 'PARKING LOT', 'YARD (RESIDENTIAL/BUSINESS)',\n",
       "       'SIDEWALK', 'OTHER BUSINESS', 'VEHICLE, PASSENGER/TRUCK',\n",
       "       'GARAGE/CARPORT', 'HOTEL', 'ABANDONED BUILDING ABANDONED HOUSE',\n",
       "       \"MOBILE HOME/TRAILERS/CONSTRUCTION TRAILERS/RV'S/MOTORHOME\",\n",
       "       'OTHER PREMISE', 'ALLEY', 'BANK', 'SHORT-TERM VACATION RENTAL',\n",
       "       'OTHER STORE', 'WEBSITE', 'RESTAURANT/FAST FOOD',\n",
       "       'PARKING UNDERGROUND/BUILDING', 'MTA BUS', 'SAVINGS & LOAN',\n",
       "       \"DIY CENTER (LOWE'S,HOME DEPOT,OSH,CONTRACTORS WAREHOUSE)\",\n",
       "       'DISCOUNT STORE (99 CENT,DOLLAR,ETC.', 'OTHER RESIDENCE',\n",
       "       'BUS STOP', 'MOTEL', 'PORCH, RESIDENTIAL',\n",
       "       \"COFFEE SHOP (STARBUCKS, COFFEE BEAN, PEET'S, ETC.)\",\n",
       "       'PARK/PLAYGROUND', 'ELEMENTARY SCHOOL', 'UNDERPASS/BRIDGE*',\n",
       "       'STORAGE SHED', 'GAS STATION', 'DEPARTMENT STORE',\n",
       "       'JUNIOR HIGH SCHOOL', 'CLOTHING STORE', 'MARKET', 'WAREHOUSE',\n",
       "       'GROUP HOME', 'CELL PHONE STORE', 'OFFICE BUILDING/OFFICE',\n",
       "       'CHURCH/CHAPEL (CHANGED 03-03 FROM CHURCH/TEMPLE)',\n",
       "       'LA UNION STATION (NOT LINE SPECIFIC)',\n",
       "       'TRANSPORTATION FACILITY (AIRPORT)', 'THE BEVERLY CENTER',\n",
       "       'MTA - EXPO LINE - EXPO/BUNDY', 'TRANSIENT ENCAMPMENT',\n",
       "       'DRUG STORE', 'HOSPITAL', 'HIGH SCHOOL',\n",
       "       'GOVERNMENT FACILITY (FEDERAL,STATE, COUNTY & CITY)',\n",
       "       'AUTOMATED TELLER MACHINE (ATM)', 'POLICE FACILITY',\n",
       "       'MTA - RED LINE - UNIVERSAL CITY/STUDIO CITY',\n",
       "       'SPECIALTY SCHOOL/OTHER', 'AMUSEMENT PARK*', 'MAIL BOX',\n",
       "       'AUTO SALES LOT', 'MEDICAL/DENTAL OFFICES', 'JEWELRY STORE',\n",
       "       'CEMETARY*', 'VACANT LOT', 'LAUNDROMAT', 'GOLF COURSE*',\n",
       "       'OTHER/OUTSIDE', 'CONDOMINIUM/TOWNHOUSE', 'PUBLIC STORAGE',\n",
       "       'STUDIO (FILM/PHOTOGRAPHIC/MUSIC)', 'BASKETBALL COURTS',\n",
       "       'AUTO REPAIR SHOP', 'FREEWAY', 'AUTO SUPPLY STORE*', 'PATIO*',\n",
       "       'NURSING/CONVALESCENT/RETIREMENT HOME', 'CYBERSPACE',\n",
       "       'CHECK CASHING*', 'SHOPPING MALL (COMMON AREA)',\n",
       "       'NURSERY/FLOWER SHOP', 'VISION CARE FACILITY*', 'LIBRARY',\n",
       "       \"SINGLE RESIDENCE OCCUPANCY (SRO'S) LOCATIONS\",\n",
       "       'NIGHT CLUB (OPEN EVENINGS ONLY)', 'THEATRE/MOVIE',\n",
       "       'MTA - RED LINE - VERMONT/SUNSET',\n",
       "       'DELIVERY SERVICE (FED EX, UPS, COURIERS,COURIER SERVICE)*',\n",
       "       'MISSIONS/SHELTERS', 'COLLEGE/JUNIOR COLLEGE/UNIVERSITY',\n",
       "       'APARTMENT/CONDO COMMON LAUNDRY ROOM',\n",
       "       'MTA - ORANGE LINE - WOODLEY',\n",
       "       'TRANSITIONAL HOUSING/HALFWAY HOUSE', 'CONSTRUCTION SITE',\n",
       "       'TRASH CAN/TRASH DUMPSTER', 'TOW YARD*', 'MTA - BLUE LINE - PICO',\n",
       "       'PET STORE', 'THE GROVE', 'MTA - RED LINE - HOLLYWOOD/VINE',\n",
       "       'BOOK STORE', 'NAIL SALON',\n",
       "       'AUTO DEALERSHIP (CHEVY, FORD, BMW, MERCEDES, ETC.)',\n",
       "       'HARDWARE/BUILDING SUPPLY',\n",
       "       'MEDICAL MARIJUANA FACILITIES/BUSINESSES', 'VALET',\n",
       "       'TATTOO PARLOR*', 'HEALTH SPA/GYM',\n",
       "       'MTA - RED LINE - UNION STATION', 'MTA - GREEN LINE - AVALON',\n",
       "       'MTA - EXPO LINE - EXPO/LA BREA', 'BEAUTY/BARBER SHOP',\n",
       "       'POST OFFICE', 'MTA - BLUE LINE - VERNON', 'TOBACCO SHOP',\n",
       "       '7TH AND METRO CENTER (NOT LINE SPECIFIC)',\n",
       "       'HORSE RACING/SANTA ANITA PARK*',\n",
       "       'MEMBERSHIP STORE (COSTCO,SAMS CLUB)*', 'DAY CARE/CHILDREN*',\n",
       "       'ELEVATOR', 'THE BEVERLY CONNECTION', 'BAR/COCKTAIL/NIGHTCLUB',\n",
       "       'CAR WASH', 'TV/RADIO/APPLIANCE',\n",
       "       'MTA - RED LINE - NORTH HOLLYWOOD',\n",
       "       'BAR/SPORTS BAR (OPEN DAY & NIGHT)', 'BEAUTY SUPPLY STORE',\n",
       "       'OTHER RR TRAIN (UNION PAC, SANTE FE ETC',\n",
       "       'PHARMACY INSIDE STORE OR SUPERMARKET*',\n",
       "       'TRADE SCHOOL (MEDICAL-TECHNICAL-BUSINESS)*',\n",
       "       'MTA - RED LINE - PERSHING SQUARE', 'COLISEUM',\n",
       "       'MTA - EXPO LINE - PICO', 'BEACH',\n",
       "       'ELECTRONICS STORE (IE:RADIO SHACK, ETC.)',\n",
       "       'SLIPS/DOCK/MARINA/BOAT', 'FOSTER HOME BOYS OR GIRLS*',\n",
       "       'MTA - RED LINE - VERMONT/SANTA MONICA', 'DRIVE THRU*',\n",
       "       'MTA - RED LINE - 7TH AND METRO CENTER',\n",
       "       'MTA - EXPO LINE - EXPO/SEPULVEDA',\n",
       "       'PROJECT/TENEMENT/PUBLIC HOUSING', 'DETENTION/JAIL FACILITY',\n",
       "       'SKATEBOARD FACILITY/SKATEBOARD PARK*', 'GUN/SPORTING GOODS',\n",
       "       'MTA - SILVER LINE - HARBOR GATEWAY TRANSIT CTR',\n",
       "       'MTA - ORANGE LINE - BALBOA', 'STAIRWELL*',\n",
       "       'PUBLIC RESTROOM(INDOORS-INSIDE)',\n",
       "       'BUS STOP/LAYOVER (ALSO QUERY 124)', 'EQUIPMENT RENTAL',\n",
       "       'DAY CARE/ADULTS*', 'MTA - PURPLE LINE - CIVIC CENTER/GRAND PARK',\n",
       "       'PRIVATE SCHOOL/PRESCHOOL', 'BALCONY*',\n",
       "       \"VEHICLE STORAGE LOT (CARS, TRUCKS, RV'S, BOATS, TRAILERS, ETC.)\",\n",
       "       'MTA - GOLD LINE - HERITAGE SQ', 'MTA PROPERTY OR PARKING LOT',\n",
       "       'FACTORY', 'MTA - GREEN LINE - AVIATION/LAX', 'RECYCLING CENTER',\n",
       "       'MTA - PURPLE LINE - WILSHIRE/NORMANDIE', 'SYNAGOGUE/TEMPLE',\n",
       "       'METROLINK TRAIN', 'OTHER PLACE OF WORSHIP',\n",
       "       'MTA - GREEN LINE - HARBOR FWY',\n",
       "       'MTA - PURPLE LINE - PERSHING SQUARE',\n",
       "       'MTA - RED LINE - WILSHIRE/VERMONT',\n",
       "       'BUS DEPOT/TERMINAL, OTHER THAN MTA', 'PUBLIC RESTROOM/OUTSIDE*',\n",
       "       \"SEX ORIENTED/BOOK STORE/STRIP CLUB/GENTLEMAN'S CLUB\",\n",
       "       'MTA - RED LINE - HOLLYWOOD/WESTERN',\n",
       "       'MTA - SILVER LINE - ROSECRANS', nan, 'HIGH-RISE BUILDING',\n",
       "       'MTA - RED LINE - HOLLYWOOD/HIGHLAND',\n",
       "       'MUNICIPAL BUS LINE INCLUDES LADOT/DASH', 'TRAIN TRACKS',\n",
       "       'FURNITURE STORE', 'MTA - SILVER LINE - HARBOR FWY',\n",
       "       'MTA - GOLD LINE - UNION STATION', 'CLEANER/LAUNDROMAT',\n",
       "       'OPTICAL OFFICE INSIDE STORE OR SUPERMARKET*',\n",
       "       'MTA - EXPO LINE - FARMDALE',\n",
       "       'MTA - PURPLE LINE - WILSHIRE/WESTERN', 'CREDIT UNION',\n",
       "       'TELECOMMUNICATION FACILITY/LOCATION',\n",
       "       'MTA - RED LINE - VERMONT/BEVERLY', 'MTA - EXPO LINE - PALMS',\n",
       "       'MTA - BLUE LINE - WASHINGTON',\n",
       "       'MTA - EXPO LINE - LA CIENEGA/JEFFERSON', 'BUS, SCHOOL, CHURCH',\n",
       "       'MTA - PURPLE LINE - WILSHIRE/VERMONT',\n",
       "       'MTA - GOLD LINE - LINCOLN/CYPRESS',\n",
       "       'ENTERTAINMENT/COMEDY CLUB (OTHER)',\n",
       "       'ABORTION CLINIC/ABORTION FACILITY*', 'BUS-CHARTER/PRIVATE',\n",
       "       'MTA - ORANGE LINE - NORTH HOLLYWOOD',\n",
       "       'FRAT HOUSE/SORORITY/DORMITORY', 'MTA - EXPO LINE - JEFFERSON/USC',\n",
       "       'MUSEUM', 'RECORD-CD MUSIC/COMPUTER GAME STORE',\n",
       "       'MTA - BLUE LINE - 7TH AND METRO CENTER',\n",
       "       'TRAIN DEPOT/TERMINAL, OTHER THAN MTA', 'ENERGY PLANT/FACILITY',\n",
       "       'STAPLES CENTER *', 'BOWLING ALLEY*',\n",
       "       'MTA - PURPLE LINE - UNION STATION',\n",
       "       'MTA - EXPO LINE - EXPO PARK/USC', 'VETERINARIAN/ANIMAL HOSPITAL',\n",
       "       'MTA - EXPO LINE - EXPO/VERMONT',\n",
       "       'MTA - RED LINE - WESTLAKE/MACARTHUR PARK', 'MASSAGE PARLOR',\n",
       "       'SPORTS ARENA', 'COMPUTER SERVICES/REPAIRS/SALES'], dtype=object)"
      ]
     },
     "execution_count": 14,
     "metadata": {},
     "output_type": "execute_result"
    }
   ],
   "source": [
    "train['Premise_Description'].unique()"
   ]
  },
  {
   "cell_type": "code",
   "execution_count": 15,
   "id": "1bb2ed78",
   "metadata": {
    "execution": {
     "iopub.execute_input": "2024-06-03T09:23:13.599648Z",
     "iopub.status.busy": "2024-06-03T09:23:13.598569Z",
     "iopub.status.idle": "2024-06-03T09:23:13.607086Z",
     "shell.execute_reply": "2024-06-03T09:23:13.606053Z"
    },
    "papermill": {
     "duration": 0.022112,
     "end_time": "2024-06-03T09:23:13.609877",
     "exception": false,
     "start_time": "2024-06-03T09:23:13.587765",
     "status": "completed"
    },
    "tags": []
   },
   "outputs": [
    {
     "data": {
      "text/plain": [
       "array([ nan, 400., 511., 207., 102., 500., 307., 506., 312., 200., 302.,\n",
       "       304., 109., 306., 215., 106., 114., 112., 305., 223., 204., 311.,\n",
       "       515., 512., 218., 309., 212., 205., 103., 201., 219., 308., 113.,\n",
       "       301., 310., 211., 214., 101., 107., 216., 111., 221., 104., 303.,\n",
       "       206., 514., 105., 503., 510., 504., 501., 202., 513., 508., 210.,\n",
       "       122., 115., 213.])"
      ]
     },
     "execution_count": 15,
     "metadata": {},
     "output_type": "execute_result"
    }
   ],
   "source": [
    "train['Weapon_Used_Code'].unique()"
   ]
  },
  {
   "cell_type": "code",
   "execution_count": 16,
   "id": "0a92dd18",
   "metadata": {
    "execution": {
     "iopub.execute_input": "2024-06-03T09:23:13.631494Z",
     "iopub.status.busy": "2024-06-03T09:23:13.631128Z",
     "iopub.status.idle": "2024-06-03T09:23:13.638969Z",
     "shell.execute_reply": "2024-06-03T09:23:13.637858Z"
    },
    "papermill": {
     "duration": 0.021335,
     "end_time": "2024-06-03T09:23:13.641147",
     "exception": false,
     "start_time": "2024-06-03T09:23:13.619812",
     "status": "completed"
    },
    "tags": []
   },
   "outputs": [
    {
     "data": {
      "text/plain": [
       "array([nan, 'STRONG-ARM (HANDS, FIST, FEET OR BODILY FORCE)',\n",
       "       'VERBAL THREAT', 'OTHER KNIFE', 'HAND GUN',\n",
       "       'UNKNOWN WEAPON/OTHER WEAPON', 'VEHICLE', 'FIRE',\n",
       "       'PIPE/METAL PIPE', 'KNIFE WITH BLADE 6INCHES OR LESS',\n",
       "       'BLUNT INSTRUMENT', 'CLUB/BAT', 'SEMI-AUTOMATIC PISTOL',\n",
       "       'ROCK/THROWN OBJECT', 'MACHETE', 'UNKNOWN FIREARM',\n",
       "       'AIR PISTOL/REVOLVER/RIFLE/BB GUN', 'TOY GUN', 'FIXED OBJECT',\n",
       "       'UNKNOWN TYPE CUTTING INSTRUMENT', 'FOLDING KNIFE', 'HAMMER',\n",
       "       'PHYSICAL PRESENCE', 'MACE/PEPPER SPRAY',\n",
       "       'OTHER CUTTING INSTRUMENT', 'BOARD', 'BOTTLE', 'KITCHEN KNIFE',\n",
       "       'RIFLE', 'KNIFE WITH BLADE OVER 6 INCHES IN LENGTH', 'SCREWDRIVER',\n",
       "       'STICK', 'SIMULATED GUN', 'BELT FLAILING INSTRUMENT/CHAIN',\n",
       "       'CONCRETE BLOCK/BRICK', 'AXE', 'ICE PICK', 'REVOLVER',\n",
       "       'OTHER FIREARM', 'SCISSORS', 'STARTER PISTOL/REVOLVER', 'GLASS',\n",
       "       'SHOTGUN', 'BRASS KNUCKLES', 'SWITCH BLADE', 'TIRE IRON',\n",
       "       'SAWED OFF RIFLE/SHOTGUN', 'CAUSTIC CHEMICAL/POISON',\n",
       "       'SCALDING LIQUID', 'DEMAND NOTE', 'BOMB THREAT', 'BOWIE KNIFE',\n",
       "       'STUN GUN', 'MARTIAL ARTS WEAPONS', 'RAZOR BLADE',\n",
       "       'HECKLER & KOCH 93 SEMIAUTOMATIC ASSAULT RIFLE',\n",
       "       'ASSAULT WEAPON/UZI/AK47/ETC', 'CLEAVER'], dtype=object)"
      ]
     },
     "execution_count": 16,
     "metadata": {},
     "output_type": "execute_result"
    }
   ],
   "source": [
    "train['Weapon_Description'].unique()"
   ]
  },
  {
   "cell_type": "code",
   "execution_count": 17,
   "id": "ee5163ea",
   "metadata": {
    "execution": {
     "iopub.execute_input": "2024-06-03T09:23:13.663295Z",
     "iopub.status.busy": "2024-06-03T09:23:13.662552Z",
     "iopub.status.idle": "2024-06-03T09:23:13.671155Z",
     "shell.execute_reply": "2024-06-03T09:23:13.670063Z"
    },
    "papermill": {
     "duration": 0.022442,
     "end_time": "2024-06-03T09:23:13.673481",
     "exception": false,
     "start_time": "2024-06-03T09:23:13.651039",
     "status": "completed"
    },
    "tags": []
   },
   "outputs": [
    {
     "data": {
      "text/plain": [
       "array(['Property Crimes', 'Violent Crimes', 'Other Crimes',\n",
       "       'Crimes against Public Order', 'Fraud and White-Collar Crimes',\n",
       "       'Crimes against Persons'], dtype=object)"
      ]
     },
     "execution_count": 17,
     "metadata": {},
     "output_type": "execute_result"
    }
   ],
   "source": [
    "train['Crime_Category'].unique()"
   ]
  },
  {
   "cell_type": "code",
   "execution_count": 18,
   "id": "ff04851b",
   "metadata": {
    "execution": {
     "iopub.execute_input": "2024-06-03T09:23:13.694961Z",
     "iopub.status.busy": "2024-06-03T09:23:13.694550Z",
     "iopub.status.idle": "2024-06-03T09:23:13.702537Z",
     "shell.execute_reply": "2024-06-03T09:23:13.701453Z"
    },
    "papermill": {
     "duration": 0.021176,
     "end_time": "2024-06-03T09:23:13.704722",
     "exception": false,
     "start_time": "2024-06-03T09:23:13.683546",
     "status": "completed"
    },
    "tags": []
   },
   "outputs": [
    {
     "data": {
      "text/plain": [
       "array(['Invest Cont', 'Adult Other', 'Adult Arrest', 'Juv Arrest',\n",
       "       'Juv Other'], dtype=object)"
      ]
     },
     "execution_count": 18,
     "metadata": {},
     "output_type": "execute_result"
    }
   ],
   "source": [
    "train['Status_Description'].unique()"
   ]
  },
  {
   "cell_type": "code",
   "execution_count": 19,
   "id": "5ee97cb7",
   "metadata": {
    "execution": {
     "iopub.execute_input": "2024-06-03T09:23:13.726115Z",
     "iopub.status.busy": "2024-06-03T09:23:13.725743Z",
     "iopub.status.idle": "2024-06-03T09:23:13.733673Z",
     "shell.execute_reply": "2024-06-03T09:23:13.732713Z"
    },
    "papermill": {
     "duration": 0.02148,
     "end_time": "2024-06-03T09:23:13.736224",
     "exception": false,
     "start_time": "2024-06-03T09:23:13.714744",
     "status": "completed"
    },
    "tags": []
   },
   "outputs": [
    {
     "data": {
      "text/plain": [
       "array(['IC', 'AO', 'AA', 'JA', 'JO'], dtype=object)"
      ]
     },
     "execution_count": 19,
     "metadata": {},
     "output_type": "execute_result"
    }
   ],
   "source": [
    "train['Status'].unique()"
   ]
  },
  {
   "cell_type": "code",
   "execution_count": 20,
   "id": "de1a8266",
   "metadata": {
    "execution": {
     "iopub.execute_input": "2024-06-03T09:23:13.758787Z",
     "iopub.status.busy": "2024-06-03T09:23:13.758262Z",
     "iopub.status.idle": "2024-06-03T09:23:13.784606Z",
     "shell.execute_reply": "2024-06-03T09:23:13.782511Z"
    },
    "papermill": {
     "duration": 0.040169,
     "end_time": "2024-06-03T09:23:13.787194",
     "exception": false,
     "start_time": "2024-06-03T09:23:13.747025",
     "status": "completed"
    },
    "tags": []
   },
   "outputs": [
    {
     "name": "stdout",
     "output_type": "stream",
     "text": [
      "<class 'pandas.core.frame.DataFrame'>\n",
      "RangeIndex: 20000 entries, 0 to 19999\n",
      "Data columns (total 22 columns):\n",
      " #   Column                 Non-Null Count  Dtype  \n",
      "---  ------                 --------------  -----  \n",
      " 0   Location               20000 non-null  object \n",
      " 1   Cross_Street           3448 non-null   object \n",
      " 2   Latitude               20000 non-null  float64\n",
      " 3   Longitude              20000 non-null  float64\n",
      " 4   Date_Reported          20000 non-null  object \n",
      " 5   Date_Occurred          20000 non-null  object \n",
      " 6   Time_Occurred          20000 non-null  float64\n",
      " 7   Area_ID                20000 non-null  float64\n",
      " 8   Area_Name              20000 non-null  object \n",
      " 9   Reporting_District_no  20000 non-null  float64\n",
      " 10  Part 1-2               20000 non-null  float64\n",
      " 11  Modus_Operandi         17259 non-null  object \n",
      " 12  Victim_Age             20000 non-null  float64\n",
      " 13  Victim_Sex             17376 non-null  object \n",
      " 14  Victim_Descent         17376 non-null  object \n",
      " 15  Premise_Code           20000 non-null  float64\n",
      " 16  Premise_Description    19995 non-null  object \n",
      " 17  Weapon_Used_Code       7335 non-null   float64\n",
      " 18  Weapon_Description     7335 non-null   object \n",
      " 19  Status                 20000 non-null  object \n",
      " 20  Status_Description     20000 non-null  object \n",
      " 21  Crime_Category         20000 non-null  object \n",
      "dtypes: float64(9), object(13)\n",
      "memory usage: 3.4+ MB\n"
     ]
    }
   ],
   "source": [
    "train.info()"
   ]
  },
  {
   "cell_type": "code",
   "execution_count": 21,
   "id": "75e86bab",
   "metadata": {
    "execution": {
     "iopub.execute_input": "2024-06-03T09:23:13.809922Z",
     "iopub.status.busy": "2024-06-03T09:23:13.809510Z",
     "iopub.status.idle": "2024-06-03T09:23:13.818031Z",
     "shell.execute_reply": "2024-06-03T09:23:13.816530Z"
    },
    "papermill": {
     "duration": 0.022884,
     "end_time": "2024-06-03T09:23:13.820737",
     "exception": false,
     "start_time": "2024-06-03T09:23:13.797853",
     "status": "completed"
    },
    "tags": []
   },
   "outputs": [],
   "source": [
    "train1=train[['Latitude','Longitude','Date_Reported','Date_Occurred','Time_Occurred','Area_ID','Victim_Age','Victim_Sex','Premise_Description','Weapon_Used_Code','Status','Crime_Category']]"
   ]
  },
  {
   "cell_type": "code",
   "execution_count": 22,
   "id": "d26319b4",
   "metadata": {
    "execution": {
     "iopub.execute_input": "2024-06-03T09:23:13.843550Z",
     "iopub.status.busy": "2024-06-03T09:23:13.843190Z",
     "iopub.status.idle": "2024-06-03T09:23:13.865622Z",
     "shell.execute_reply": "2024-06-03T09:23:13.864138Z"
    },
    "papermill": {
     "duration": 0.036714,
     "end_time": "2024-06-03T09:23:13.868227",
     "exception": false,
     "start_time": "2024-06-03T09:23:13.831513",
     "status": "completed"
    },
    "tags": []
   },
   "outputs": [
    {
     "data": {
      "text/html": [
       "<div>\n",
       "<style scoped>\n",
       "    .dataframe tbody tr th:only-of-type {\n",
       "        vertical-align: middle;\n",
       "    }\n",
       "\n",
       "    .dataframe tbody tr th {\n",
       "        vertical-align: top;\n",
       "    }\n",
       "\n",
       "    .dataframe thead th {\n",
       "        text-align: right;\n",
       "    }\n",
       "</style>\n",
       "<table border=\"1\" class=\"dataframe\">\n",
       "  <thead>\n",
       "    <tr style=\"text-align: right;\">\n",
       "      <th></th>\n",
       "      <th>Latitude</th>\n",
       "      <th>Longitude</th>\n",
       "      <th>Date_Reported</th>\n",
       "      <th>Date_Occurred</th>\n",
       "      <th>Time_Occurred</th>\n",
       "      <th>Area_ID</th>\n",
       "      <th>Victim_Age</th>\n",
       "      <th>Victim_Sex</th>\n",
       "      <th>Premise_Description</th>\n",
       "      <th>Weapon_Used_Code</th>\n",
       "      <th>Status</th>\n",
       "      <th>Crime_Category</th>\n",
       "    </tr>\n",
       "  </thead>\n",
       "  <tbody>\n",
       "    <tr>\n",
       "      <th>0</th>\n",
       "      <td>34.1522</td>\n",
       "      <td>-118.3910</td>\n",
       "      <td>03/09/2020 12:00:00 AM</td>\n",
       "      <td>03/06/2020 12:00:00 AM</td>\n",
       "      <td>1800.0</td>\n",
       "      <td>15.0</td>\n",
       "      <td>75.0</td>\n",
       "      <td>M</td>\n",
       "      <td>STREET</td>\n",
       "      <td>NaN</td>\n",
       "      <td>IC</td>\n",
       "      <td>Property Crimes</td>\n",
       "    </tr>\n",
       "    <tr>\n",
       "      <th>1</th>\n",
       "      <td>34.0028</td>\n",
       "      <td>-118.2391</td>\n",
       "      <td>02/27/2020 12:00:00 AM</td>\n",
       "      <td>02/27/2020 12:00:00 AM</td>\n",
       "      <td>1345.0</td>\n",
       "      <td>13.0</td>\n",
       "      <td>41.0</td>\n",
       "      <td>M</td>\n",
       "      <td>SWAP MEET</td>\n",
       "      <td>400.0</td>\n",
       "      <td>IC</td>\n",
       "      <td>Property Crimes</td>\n",
       "    </tr>\n",
       "    <tr>\n",
       "      <th>2</th>\n",
       "      <td>34.0111</td>\n",
       "      <td>-118.2653</td>\n",
       "      <td>08/21/2020 12:00:00 AM</td>\n",
       "      <td>08/21/2020 12:00:00 AM</td>\n",
       "      <td>605.0</td>\n",
       "      <td>13.0</td>\n",
       "      <td>67.0</td>\n",
       "      <td>M</td>\n",
       "      <td>SINGLE FAMILY DWELLING</td>\n",
       "      <td>NaN</td>\n",
       "      <td>IC</td>\n",
       "      <td>Property Crimes</td>\n",
       "    </tr>\n",
       "    <tr>\n",
       "      <th>3</th>\n",
       "      <td>34.2953</td>\n",
       "      <td>-118.4590</td>\n",
       "      <td>11/08/2020 12:00:00 AM</td>\n",
       "      <td>11/06/2020 12:00:00 AM</td>\n",
       "      <td>1800.0</td>\n",
       "      <td>19.0</td>\n",
       "      <td>61.0</td>\n",
       "      <td>M</td>\n",
       "      <td>STREET</td>\n",
       "      <td>NaN</td>\n",
       "      <td>IC</td>\n",
       "      <td>Property Crimes</td>\n",
       "    </tr>\n",
       "    <tr>\n",
       "      <th>4</th>\n",
       "      <td>33.9787</td>\n",
       "      <td>-118.2918</td>\n",
       "      <td>02/25/2020 12:00:00 AM</td>\n",
       "      <td>02/25/2020 12:00:00 AM</td>\n",
       "      <td>1130.0</td>\n",
       "      <td>12.0</td>\n",
       "      <td>0.0</td>\n",
       "      <td>X</td>\n",
       "      <td>MINI-MART</td>\n",
       "      <td>400.0</td>\n",
       "      <td>IC</td>\n",
       "      <td>Property Crimes</td>\n",
       "    </tr>\n",
       "    <tr>\n",
       "      <th>...</th>\n",
       "      <td>...</td>\n",
       "      <td>...</td>\n",
       "      <td>...</td>\n",
       "      <td>...</td>\n",
       "      <td>...</td>\n",
       "      <td>...</td>\n",
       "      <td>...</td>\n",
       "      <td>...</td>\n",
       "      <td>...</td>\n",
       "      <td>...</td>\n",
       "      <td>...</td>\n",
       "      <td>...</td>\n",
       "    </tr>\n",
       "    <tr>\n",
       "      <th>19995</th>\n",
       "      <td>34.0334</td>\n",
       "      <td>-118.3523</td>\n",
       "      <td>05/24/2020 12:00:00 AM</td>\n",
       "      <td>05/24/2020 12:00:00 AM</td>\n",
       "      <td>700.0</td>\n",
       "      <td>3.0</td>\n",
       "      <td>51.0</td>\n",
       "      <td>M</td>\n",
       "      <td>SINGLE FAMILY DWELLING</td>\n",
       "      <td>400.0</td>\n",
       "      <td>IC</td>\n",
       "      <td>Violent Crimes</td>\n",
       "    </tr>\n",
       "    <tr>\n",
       "      <th>19996</th>\n",
       "      <td>34.2212</td>\n",
       "      <td>-118.5011</td>\n",
       "      <td>12/25/2020 12:00:00 AM</td>\n",
       "      <td>12/25/2020 12:00:00 AM</td>\n",
       "      <td>259.0</td>\n",
       "      <td>10.0</td>\n",
       "      <td>0.0</td>\n",
       "      <td>M</td>\n",
       "      <td>GAS STATION</td>\n",
       "      <td>NaN</td>\n",
       "      <td>IC</td>\n",
       "      <td>Property Crimes</td>\n",
       "    </tr>\n",
       "    <tr>\n",
       "      <th>19997</th>\n",
       "      <td>34.0571</td>\n",
       "      <td>-118.3815</td>\n",
       "      <td>09/25/2020 12:00:00 AM</td>\n",
       "      <td>09/25/2020 12:00:00 AM</td>\n",
       "      <td>1400.0</td>\n",
       "      <td>8.0</td>\n",
       "      <td>42.0</td>\n",
       "      <td>M</td>\n",
       "      <td>SIDEWALK</td>\n",
       "      <td>NaN</td>\n",
       "      <td>IC</td>\n",
       "      <td>Property Crimes</td>\n",
       "    </tr>\n",
       "    <tr>\n",
       "      <th>19998</th>\n",
       "      <td>33.7451</td>\n",
       "      <td>-118.2835</td>\n",
       "      <td>06/10/2020 12:00:00 AM</td>\n",
       "      <td>06/10/2020 12:00:00 AM</td>\n",
       "      <td>600.0</td>\n",
       "      <td>5.0</td>\n",
       "      <td>76.0</td>\n",
       "      <td>F</td>\n",
       "      <td>SINGLE FAMILY DWELLING</td>\n",
       "      <td>NaN</td>\n",
       "      <td>IC</td>\n",
       "      <td>Crimes against Public Order</td>\n",
       "    </tr>\n",
       "    <tr>\n",
       "      <th>19999</th>\n",
       "      <td>34.0037</td>\n",
       "      <td>-118.3034</td>\n",
       "      <td>02/18/2020 12:00:00 AM</td>\n",
       "      <td>02/17/2020 12:00:00 AM</td>\n",
       "      <td>1800.0</td>\n",
       "      <td>3.0</td>\n",
       "      <td>0.0</td>\n",
       "      <td>NaN</td>\n",
       "      <td>STREET</td>\n",
       "      <td>NaN</td>\n",
       "      <td>IC</td>\n",
       "      <td>Property Crimes</td>\n",
       "    </tr>\n",
       "  </tbody>\n",
       "</table>\n",
       "<p>20000 rows × 12 columns</p>\n",
       "</div>"
      ],
      "text/plain": [
       "       Latitude  Longitude           Date_Reported           Date_Occurred  \\\n",
       "0       34.1522  -118.3910  03/09/2020 12:00:00 AM  03/06/2020 12:00:00 AM   \n",
       "1       34.0028  -118.2391  02/27/2020 12:00:00 AM  02/27/2020 12:00:00 AM   \n",
       "2       34.0111  -118.2653  08/21/2020 12:00:00 AM  08/21/2020 12:00:00 AM   \n",
       "3       34.2953  -118.4590  11/08/2020 12:00:00 AM  11/06/2020 12:00:00 AM   \n",
       "4       33.9787  -118.2918  02/25/2020 12:00:00 AM  02/25/2020 12:00:00 AM   \n",
       "...         ...        ...                     ...                     ...   \n",
       "19995   34.0334  -118.3523  05/24/2020 12:00:00 AM  05/24/2020 12:00:00 AM   \n",
       "19996   34.2212  -118.5011  12/25/2020 12:00:00 AM  12/25/2020 12:00:00 AM   \n",
       "19997   34.0571  -118.3815  09/25/2020 12:00:00 AM  09/25/2020 12:00:00 AM   \n",
       "19998   33.7451  -118.2835  06/10/2020 12:00:00 AM  06/10/2020 12:00:00 AM   \n",
       "19999   34.0037  -118.3034  02/18/2020 12:00:00 AM  02/17/2020 12:00:00 AM   \n",
       "\n",
       "       Time_Occurred  Area_ID  Victim_Age Victim_Sex     Premise_Description  \\\n",
       "0             1800.0     15.0        75.0          M                  STREET   \n",
       "1             1345.0     13.0        41.0          M               SWAP MEET   \n",
       "2              605.0     13.0        67.0          M  SINGLE FAMILY DWELLING   \n",
       "3             1800.0     19.0        61.0          M                  STREET   \n",
       "4             1130.0     12.0         0.0          X               MINI-MART   \n",
       "...              ...      ...         ...        ...                     ...   \n",
       "19995          700.0      3.0        51.0          M  SINGLE FAMILY DWELLING   \n",
       "19996          259.0     10.0         0.0          M             GAS STATION   \n",
       "19997         1400.0      8.0        42.0          M                SIDEWALK   \n",
       "19998          600.0      5.0        76.0          F  SINGLE FAMILY DWELLING   \n",
       "19999         1800.0      3.0         0.0        NaN                  STREET   \n",
       "\n",
       "       Weapon_Used_Code Status               Crime_Category  \n",
       "0                   NaN     IC              Property Crimes  \n",
       "1                 400.0     IC              Property Crimes  \n",
       "2                   NaN     IC              Property Crimes  \n",
       "3                   NaN     IC              Property Crimes  \n",
       "4                 400.0     IC              Property Crimes  \n",
       "...                 ...    ...                          ...  \n",
       "19995             400.0     IC               Violent Crimes  \n",
       "19996               NaN     IC              Property Crimes  \n",
       "19997               NaN     IC              Property Crimes  \n",
       "19998               NaN     IC  Crimes against Public Order  \n",
       "19999               NaN     IC              Property Crimes  \n",
       "\n",
       "[20000 rows x 12 columns]"
      ]
     },
     "execution_count": 22,
     "metadata": {},
     "output_type": "execute_result"
    }
   ],
   "source": [
    "train1"
   ]
  },
  {
   "cell_type": "code",
   "execution_count": 23,
   "id": "e7c8687a",
   "metadata": {
    "execution": {
     "iopub.execute_input": "2024-06-03T09:23:13.891678Z",
     "iopub.status.busy": "2024-06-03T09:23:13.891242Z",
     "iopub.status.idle": "2024-06-03T09:23:13.900630Z",
     "shell.execute_reply": "2024-06-03T09:23:13.899391Z"
    },
    "papermill": {
     "duration": 0.024053,
     "end_time": "2024-06-03T09:23:13.903228",
     "exception": false,
     "start_time": "2024-06-03T09:23:13.879175",
     "status": "completed"
    },
    "tags": []
   },
   "outputs": [
    {
     "data": {
      "text/plain": [
       "0        03/06/2020 12:00:00 AM\n",
       "1        02/27/2020 12:00:00 AM\n",
       "2        08/21/2020 12:00:00 AM\n",
       "3        11/06/2020 12:00:00 AM\n",
       "4        02/25/2020 12:00:00 AM\n",
       "                  ...          \n",
       "19995    05/24/2020 12:00:00 AM\n",
       "19996    12/25/2020 12:00:00 AM\n",
       "19997    09/25/2020 12:00:00 AM\n",
       "19998    06/10/2020 12:00:00 AM\n",
       "19999    02/17/2020 12:00:00 AM\n",
       "Name: Date_Occurred, Length: 20000, dtype: object"
      ]
     },
     "execution_count": 23,
     "metadata": {},
     "output_type": "execute_result"
    }
   ],
   "source": [
    "train1['Date_Occurred']"
   ]
  },
  {
   "cell_type": "code",
   "execution_count": 24,
   "id": "fd6aa286",
   "metadata": {
    "execution": {
     "iopub.execute_input": "2024-06-03T09:23:13.927006Z",
     "iopub.status.busy": "2024-06-03T09:23:13.926621Z",
     "iopub.status.idle": "2024-06-03T09:23:13.933873Z",
     "shell.execute_reply": "2024-06-03T09:23:13.932851Z"
    },
    "papermill": {
     "duration": 0.022129,
     "end_time": "2024-06-03T09:23:13.936182",
     "exception": false,
     "start_time": "2024-06-03T09:23:13.914053",
     "status": "completed"
    },
    "tags": []
   },
   "outputs": [],
   "source": [
    "label=train1['Crime_Category']\n",
    "train1=train1.drop('Crime_Category',axis=1)"
   ]
  },
  {
   "cell_type": "code",
   "execution_count": 25,
   "id": "d20ff4f2",
   "metadata": {
    "execution": {
     "iopub.execute_input": "2024-06-03T09:23:13.960540Z",
     "iopub.status.busy": "2024-06-03T09:23:13.959675Z",
     "iopub.status.idle": "2024-06-03T09:23:13.976974Z",
     "shell.execute_reply": "2024-06-03T09:23:13.975596Z"
    },
    "papermill": {
     "duration": 0.03218,
     "end_time": "2024-06-03T09:23:13.979646",
     "exception": false,
     "start_time": "2024-06-03T09:23:13.947466",
     "status": "completed"
    },
    "tags": []
   },
   "outputs": [
    {
     "name": "stdout",
     "output_type": "stream",
     "text": [
      "<class 'pandas.core.frame.DataFrame'>\n",
      "RangeIndex: 20000 entries, 0 to 19999\n",
      "Data columns (total 11 columns):\n",
      " #   Column               Non-Null Count  Dtype  \n",
      "---  ------               --------------  -----  \n",
      " 0   Latitude             20000 non-null  float64\n",
      " 1   Longitude            20000 non-null  float64\n",
      " 2   Date_Reported        20000 non-null  object \n",
      " 3   Date_Occurred        20000 non-null  object \n",
      " 4   Time_Occurred        20000 non-null  float64\n",
      " 5   Area_ID              20000 non-null  float64\n",
      " 6   Victim_Age           20000 non-null  float64\n",
      " 7   Victim_Sex           17376 non-null  object \n",
      " 8   Premise_Description  19995 non-null  object \n",
      " 9   Weapon_Used_Code     7335 non-null   float64\n",
      " 10  Status               20000 non-null  object \n",
      "dtypes: float64(6), object(5)\n",
      "memory usage: 1.7+ MB\n"
     ]
    }
   ],
   "source": [
    "train1.info()"
   ]
  },
  {
   "cell_type": "code",
   "execution_count": 26,
   "id": "6953d0eb",
   "metadata": {
    "execution": {
     "iopub.execute_input": "2024-06-03T09:23:14.003250Z",
     "iopub.status.busy": "2024-06-03T09:23:14.002869Z",
     "iopub.status.idle": "2024-06-03T09:23:14.011521Z",
     "shell.execute_reply": "2024-06-03T09:23:14.010505Z"
    },
    "papermill": {
     "duration": 0.02311,
     "end_time": "2024-06-03T09:23:14.013973",
     "exception": false,
     "start_time": "2024-06-03T09:23:13.990863",
     "status": "completed"
    },
    "tags": []
   },
   "outputs": [
    {
     "data": {
      "text/plain": [
       "0                    Property Crimes\n",
       "1                    Property Crimes\n",
       "2                    Property Crimes\n",
       "3                    Property Crimes\n",
       "4                    Property Crimes\n",
       "                    ...             \n",
       "19995                 Violent Crimes\n",
       "19996                Property Crimes\n",
       "19997                Property Crimes\n",
       "19998    Crimes against Public Order\n",
       "19999                Property Crimes\n",
       "Name: Crime_Category, Length: 20000, dtype: object"
      ]
     },
     "execution_count": 26,
     "metadata": {},
     "output_type": "execute_result"
    }
   ],
   "source": [
    "label"
   ]
  },
  {
   "cell_type": "code",
   "execution_count": 27,
   "id": "0f829cb6",
   "metadata": {
    "execution": {
     "iopub.execute_input": "2024-06-03T09:23:14.038118Z",
     "iopub.status.busy": "2024-06-03T09:23:14.037751Z",
     "iopub.status.idle": "2024-06-03T09:23:15.427723Z",
     "shell.execute_reply": "2024-06-03T09:23:15.426465Z"
    },
    "papermill": {
     "duration": 1.405083,
     "end_time": "2024-06-03T09:23:15.430403",
     "exception": false,
     "start_time": "2024-06-03T09:23:14.025320",
     "status": "completed"
    },
    "tags": []
   },
   "outputs": [],
   "source": [
    "from sklearn.model_selection import train_test_split\n",
    "xtrain,xtest,ytrain,ytest=train_test_split(train1,label,test_size=0.2,random_state=1,shuffle=True,stratify=label)"
   ]
  },
  {
   "cell_type": "code",
   "execution_count": 28,
   "id": "248a38b0",
   "metadata": {
    "execution": {
     "iopub.execute_input": "2024-06-03T09:23:15.455323Z",
     "iopub.status.busy": "2024-06-03T09:23:15.454920Z",
     "iopub.status.idle": "2024-06-03T09:23:15.476796Z",
     "shell.execute_reply": "2024-06-03T09:23:15.475561Z"
    },
    "papermill": {
     "duration": 0.037641,
     "end_time": "2024-06-03T09:23:15.479473",
     "exception": false,
     "start_time": "2024-06-03T09:23:15.441832",
     "status": "completed"
    },
    "tags": []
   },
   "outputs": [
    {
     "data": {
      "text/html": [
       "<div>\n",
       "<style scoped>\n",
       "    .dataframe tbody tr th:only-of-type {\n",
       "        vertical-align: middle;\n",
       "    }\n",
       "\n",
       "    .dataframe tbody tr th {\n",
       "        vertical-align: top;\n",
       "    }\n",
       "\n",
       "    .dataframe thead th {\n",
       "        text-align: right;\n",
       "    }\n",
       "</style>\n",
       "<table border=\"1\" class=\"dataframe\">\n",
       "  <thead>\n",
       "    <tr style=\"text-align: right;\">\n",
       "      <th></th>\n",
       "      <th>Latitude</th>\n",
       "      <th>Longitude</th>\n",
       "      <th>Date_Reported</th>\n",
       "      <th>Date_Occurred</th>\n",
       "      <th>Time_Occurred</th>\n",
       "      <th>Area_ID</th>\n",
       "      <th>Victim_Age</th>\n",
       "      <th>Victim_Sex</th>\n",
       "      <th>Premise_Description</th>\n",
       "      <th>Weapon_Used_Code</th>\n",
       "      <th>Status</th>\n",
       "    </tr>\n",
       "  </thead>\n",
       "  <tbody>\n",
       "    <tr>\n",
       "      <th>2777</th>\n",
       "      <td>34.0076</td>\n",
       "      <td>-118.2583</td>\n",
       "      <td>05/11/2020 12:00:00 AM</td>\n",
       "      <td>05/08/2020 12:00:00 AM</td>\n",
       "      <td>1700.0</td>\n",
       "      <td>13.0</td>\n",
       "      <td>57.0</td>\n",
       "      <td>F</td>\n",
       "      <td>MULTI-UNIT DWELLING (APARTMENT, DUPLEX, ETC)</td>\n",
       "      <td>NaN</td>\n",
       "      <td>IC</td>\n",
       "    </tr>\n",
       "    <tr>\n",
       "      <th>13011</th>\n",
       "      <td>34.2647</td>\n",
       "      <td>-118.4019</td>\n",
       "      <td>06/22/2020 12:00:00 AM</td>\n",
       "      <td>06/21/2020 12:00:00 AM</td>\n",
       "      <td>1800.0</td>\n",
       "      <td>16.0</td>\n",
       "      <td>49.0</td>\n",
       "      <td>M</td>\n",
       "      <td>VEHICLE, PASSENGER/TRUCK</td>\n",
       "      <td>NaN</td>\n",
       "      <td>IC</td>\n",
       "    </tr>\n",
       "    <tr>\n",
       "      <th>6112</th>\n",
       "      <td>33.9747</td>\n",
       "      <td>-118.2827</td>\n",
       "      <td>06/15/2020 12:00:00 AM</td>\n",
       "      <td>06/15/2020 12:00:00 AM</td>\n",
       "      <td>1905.0</td>\n",
       "      <td>12.0</td>\n",
       "      <td>0.0</td>\n",
       "      <td>X</td>\n",
       "      <td>RESTAURANT/FAST FOOD</td>\n",
       "      <td>NaN</td>\n",
       "      <td>IC</td>\n",
       "    </tr>\n",
       "    <tr>\n",
       "      <th>10185</th>\n",
       "      <td>34.0757</td>\n",
       "      <td>-118.1711</td>\n",
       "      <td>01/17/2020 12:00:00 AM</td>\n",
       "      <td>01/14/2020 12:00:00 AM</td>\n",
       "      <td>1800.0</td>\n",
       "      <td>4.0</td>\n",
       "      <td>51.0</td>\n",
       "      <td>M</td>\n",
       "      <td>PUBLIC STORAGE</td>\n",
       "      <td>NaN</td>\n",
       "      <td>IC</td>\n",
       "    </tr>\n",
       "    <tr>\n",
       "      <th>11906</th>\n",
       "      <td>33.9433</td>\n",
       "      <td>-118.2541</td>\n",
       "      <td>09/15/2020 12:00:00 AM</td>\n",
       "      <td>09/15/2020 12:00:00 AM</td>\n",
       "      <td>905.0</td>\n",
       "      <td>18.0</td>\n",
       "      <td>30.0</td>\n",
       "      <td>M</td>\n",
       "      <td>PARKING LOT</td>\n",
       "      <td>511.0</td>\n",
       "      <td>IC</td>\n",
       "    </tr>\n",
       "    <tr>\n",
       "      <th>...</th>\n",
       "      <td>...</td>\n",
       "      <td>...</td>\n",
       "      <td>...</td>\n",
       "      <td>...</td>\n",
       "      <td>...</td>\n",
       "      <td>...</td>\n",
       "      <td>...</td>\n",
       "      <td>...</td>\n",
       "      <td>...</td>\n",
       "      <td>...</td>\n",
       "      <td>...</td>\n",
       "    </tr>\n",
       "    <tr>\n",
       "      <th>4672</th>\n",
       "      <td>33.9994</td>\n",
       "      <td>-118.2456</td>\n",
       "      <td>06/18/2020 12:00:00 AM</td>\n",
       "      <td>06/17/2020 12:00:00 AM</td>\n",
       "      <td>1400.0</td>\n",
       "      <td>13.0</td>\n",
       "      <td>0.0</td>\n",
       "      <td>NaN</td>\n",
       "      <td>STREET</td>\n",
       "      <td>NaN</td>\n",
       "      <td>IC</td>\n",
       "    </tr>\n",
       "    <tr>\n",
       "      <th>17352</th>\n",
       "      <td>34.0734</td>\n",
       "      <td>-118.3765</td>\n",
       "      <td>07/14/2020 12:00:00 AM</td>\n",
       "      <td>07/14/2020 12:00:00 AM</td>\n",
       "      <td>1600.0</td>\n",
       "      <td>7.0</td>\n",
       "      <td>22.0</td>\n",
       "      <td>M</td>\n",
       "      <td>PARKING LOT</td>\n",
       "      <td>500.0</td>\n",
       "      <td>AO</td>\n",
       "    </tr>\n",
       "    <tr>\n",
       "      <th>15682</th>\n",
       "      <td>34.0816</td>\n",
       "      <td>-118.3627</td>\n",
       "      <td>10/29/2020 12:00:00 AM</td>\n",
       "      <td>10/28/2020 12:00:00 AM</td>\n",
       "      <td>2100.0</td>\n",
       "      <td>7.0</td>\n",
       "      <td>0.0</td>\n",
       "      <td>NaN</td>\n",
       "      <td>STREET</td>\n",
       "      <td>NaN</td>\n",
       "      <td>IC</td>\n",
       "    </tr>\n",
       "    <tr>\n",
       "      <th>4633</th>\n",
       "      <td>33.9542</td>\n",
       "      <td>-118.2684</td>\n",
       "      <td>04/03/2020 12:00:00 AM</td>\n",
       "      <td>04/03/2020 12:00:00 AM</td>\n",
       "      <td>230.0</td>\n",
       "      <td>18.0</td>\n",
       "      <td>0.0</td>\n",
       "      <td>NaN</td>\n",
       "      <td>STREET</td>\n",
       "      <td>NaN</td>\n",
       "      <td>IC</td>\n",
       "    </tr>\n",
       "    <tr>\n",
       "      <th>19598</th>\n",
       "      <td>33.9538</td>\n",
       "      <td>-118.4407</td>\n",
       "      <td>09/30/2020 12:00:00 AM</td>\n",
       "      <td>09/30/2020 12:00:00 AM</td>\n",
       "      <td>1700.0</td>\n",
       "      <td>14.0</td>\n",
       "      <td>37.0</td>\n",
       "      <td>F</td>\n",
       "      <td>OFFICE BUILDING/OFFICE</td>\n",
       "      <td>NaN</td>\n",
       "      <td>IC</td>\n",
       "    </tr>\n",
       "  </tbody>\n",
       "</table>\n",
       "<p>16000 rows × 11 columns</p>\n",
       "</div>"
      ],
      "text/plain": [
       "       Latitude  Longitude           Date_Reported           Date_Occurred  \\\n",
       "2777    34.0076  -118.2583  05/11/2020 12:00:00 AM  05/08/2020 12:00:00 AM   \n",
       "13011   34.2647  -118.4019  06/22/2020 12:00:00 AM  06/21/2020 12:00:00 AM   \n",
       "6112    33.9747  -118.2827  06/15/2020 12:00:00 AM  06/15/2020 12:00:00 AM   \n",
       "10185   34.0757  -118.1711  01/17/2020 12:00:00 AM  01/14/2020 12:00:00 AM   \n",
       "11906   33.9433  -118.2541  09/15/2020 12:00:00 AM  09/15/2020 12:00:00 AM   \n",
       "...         ...        ...                     ...                     ...   \n",
       "4672    33.9994  -118.2456  06/18/2020 12:00:00 AM  06/17/2020 12:00:00 AM   \n",
       "17352   34.0734  -118.3765  07/14/2020 12:00:00 AM  07/14/2020 12:00:00 AM   \n",
       "15682   34.0816  -118.3627  10/29/2020 12:00:00 AM  10/28/2020 12:00:00 AM   \n",
       "4633    33.9542  -118.2684  04/03/2020 12:00:00 AM  04/03/2020 12:00:00 AM   \n",
       "19598   33.9538  -118.4407  09/30/2020 12:00:00 AM  09/30/2020 12:00:00 AM   \n",
       "\n",
       "       Time_Occurred  Area_ID  Victim_Age Victim_Sex  \\\n",
       "2777          1700.0     13.0        57.0          F   \n",
       "13011         1800.0     16.0        49.0          M   \n",
       "6112          1905.0     12.0         0.0          X   \n",
       "10185         1800.0      4.0        51.0          M   \n",
       "11906          905.0     18.0        30.0          M   \n",
       "...              ...      ...         ...        ...   \n",
       "4672          1400.0     13.0         0.0        NaN   \n",
       "17352         1600.0      7.0        22.0          M   \n",
       "15682         2100.0      7.0         0.0        NaN   \n",
       "4633           230.0     18.0         0.0        NaN   \n",
       "19598         1700.0     14.0        37.0          F   \n",
       "\n",
       "                                Premise_Description  Weapon_Used_Code Status  \n",
       "2777   MULTI-UNIT DWELLING (APARTMENT, DUPLEX, ETC)               NaN     IC  \n",
       "13011                      VEHICLE, PASSENGER/TRUCK               NaN     IC  \n",
       "6112                           RESTAURANT/FAST FOOD               NaN     IC  \n",
       "10185                                PUBLIC STORAGE               NaN     IC  \n",
       "11906                                   PARKING LOT             511.0     IC  \n",
       "...                                             ...               ...    ...  \n",
       "4672                                         STREET               NaN     IC  \n",
       "17352                                   PARKING LOT             500.0     AO  \n",
       "15682                                        STREET               NaN     IC  \n",
       "4633                                         STREET               NaN     IC  \n",
       "19598                        OFFICE BUILDING/OFFICE               NaN     IC  \n",
       "\n",
       "[16000 rows x 11 columns]"
      ]
     },
     "execution_count": 28,
     "metadata": {},
     "output_type": "execute_result"
    }
   ],
   "source": [
    "xtrain"
   ]
  },
  {
   "cell_type": "code",
   "execution_count": 29,
   "id": "5b961ec1",
   "metadata": {
    "execution": {
     "iopub.execute_input": "2024-06-03T09:23:15.504181Z",
     "iopub.status.busy": "2024-06-03T09:23:15.503443Z",
     "iopub.status.idle": "2024-06-03T09:23:15.516667Z",
     "shell.execute_reply": "2024-06-03T09:23:15.515589Z"
    },
    "papermill": {
     "duration": 0.028315,
     "end_time": "2024-06-03T09:23:15.519227",
     "exception": false,
     "start_time": "2024-06-03T09:23:15.490912",
     "status": "completed"
    },
    "tags": []
   },
   "outputs": [
    {
     "data": {
      "text/plain": [
       "Latitude                   0\n",
       "Longitude                  0\n",
       "Date_Reported              0\n",
       "Date_Occurred              0\n",
       "Time_Occurred              0\n",
       "Area_ID                    0\n",
       "Victim_Age                 0\n",
       "Victim_Sex              2084\n",
       "Premise_Description        5\n",
       "Weapon_Used_Code       10128\n",
       "Status                     0\n",
       "dtype: int64"
      ]
     },
     "execution_count": 29,
     "metadata": {},
     "output_type": "execute_result"
    }
   ],
   "source": [
    "xtrain.isnull().sum()"
   ]
  },
  {
   "cell_type": "code",
   "execution_count": 30,
   "id": "2f6cf285",
   "metadata": {
    "execution": {
     "iopub.execute_input": "2024-06-03T09:23:15.544088Z",
     "iopub.status.busy": "2024-06-03T09:23:15.543705Z",
     "iopub.status.idle": "2024-06-03T09:23:15.552106Z",
     "shell.execute_reply": "2024-06-03T09:23:15.550720Z"
    },
    "papermill": {
     "duration": 0.023846,
     "end_time": "2024-06-03T09:23:15.554807",
     "exception": false,
     "start_time": "2024-06-03T09:23:15.530961",
     "status": "completed"
    },
    "tags": []
   },
   "outputs": [
    {
     "data": {
      "text/plain": [
       "array(['F', 'M', 'X', nan, 'H'], dtype=object)"
      ]
     },
     "execution_count": 30,
     "metadata": {},
     "output_type": "execute_result"
    }
   ],
   "source": [
    "xtrain['Victim_Sex'].unique()"
   ]
  },
  {
   "cell_type": "code",
   "execution_count": 31,
   "id": "c1c576c6",
   "metadata": {
    "execution": {
     "iopub.execute_input": "2024-06-03T09:23:15.580750Z",
     "iopub.status.busy": "2024-06-03T09:23:15.579562Z",
     "iopub.status.idle": "2024-06-03T09:23:15.589896Z",
     "shell.execute_reply": "2024-06-03T09:23:15.588800Z"
    },
    "papermill": {
     "duration": 0.025492,
     "end_time": "2024-06-03T09:23:15.592233",
     "exception": false,
     "start_time": "2024-06-03T09:23:15.566741",
     "status": "completed"
    },
    "tags": []
   },
   "outputs": [
    {
     "data": {
      "text/plain": [
       "Victim_Sex\n",
       "M    6842\n",
       "F    5736\n",
       "X    1337\n",
       "H       1\n",
       "Name: count, dtype: int64"
      ]
     },
     "execution_count": 31,
     "metadata": {},
     "output_type": "execute_result"
    }
   ],
   "source": [
    "xtrain['Victim_Sex'].value_counts()"
   ]
  },
  {
   "cell_type": "code",
   "execution_count": null,
   "id": "53d6111f",
   "metadata": {
    "papermill": {
     "duration": 0.011132,
     "end_time": "2024-06-03T09:23:15.615251",
     "exception": false,
     "start_time": "2024-06-03T09:23:15.604119",
     "status": "completed"
    },
    "tags": []
   },
   "outputs": [],
   "source": []
  }
 ],
 "metadata": {
  "kaggle": {
   "accelerator": "none",
   "dataSources": [
    {
     "databundleVersionId": 8446444,
     "sourceId": 77420,
     "sourceType": "competition"
    }
   ],
   "dockerImageVersionId": 30715,
   "isGpuEnabled": false,
   "isInternetEnabled": false,
   "language": "python",
   "sourceType": "notebook"
  },
  "kernelspec": {
   "display_name": "Python 3",
   "language": "python",
   "name": "python3"
  },
  "language_info": {
   "codemirror_mode": {
    "name": "ipython",
    "version": 3
   },
   "file_extension": ".py",
   "mimetype": "text/x-python",
   "name": "python",
   "nbconvert_exporter": "python",
   "pygments_lexer": "ipython3",
   "version": "3.10.13"
  },
  "papermill": {
   "default_parameters": {},
   "duration": 7.009137,
   "end_time": "2024-06-03T09:23:16.249192",
   "environment_variables": {},
   "exception": null,
   "input_path": "__notebook__.ipynb",
   "output_path": "__notebook__.ipynb",
   "parameters": {},
   "start_time": "2024-06-03T09:23:09.240055",
   "version": "2.5.0"
  }
 },
 "nbformat": 4,
 "nbformat_minor": 5
}
