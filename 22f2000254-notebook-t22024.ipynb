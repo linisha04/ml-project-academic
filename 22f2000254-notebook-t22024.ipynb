{
 "cells": [
  {
   "cell_type": "code",
   "execution_count": 1,
   "id": "f21f4e7f",
   "metadata": {
    "_cell_guid": "b1076dfc-b9ad-4769-8c92-a6c4dae69d19",
    "_uuid": "8f2839f25d086af736a60e9eeb907d3b93b6e0e5",
    "execution": {
     "iopub.execute_input": "2024-06-24T09:48:05.971438Z",
     "iopub.status.busy": "2024-06-24T09:48:05.970101Z",
     "iopub.status.idle": "2024-06-24T09:48:07.037697Z",
     "shell.execute_reply": "2024-06-24T09:48:07.036307Z"
    },
    "papermill": {
     "duration": 1.105015,
     "end_time": "2024-06-24T09:48:07.040692",
     "exception": false,
     "start_time": "2024-06-24T09:48:05.935677",
     "status": "completed"
    },
    "tags": []
   },
   "outputs": [
    {
     "name": "stdout",
     "output_type": "stream",
     "text": [
      "/kaggle/input/crime-cast-forecasting-crime-categories/sample.csv\n",
      "/kaggle/input/crime-cast-forecasting-crime-categories/train.csv\n",
      "/kaggle/input/crime-cast-forecasting-crime-categories/test.csv\n"
     ]
    }
   ],
   "source": [
    "# This Python 3 environment comes with many helpful analytics libraries installed\n",
    "# It is defined by the kaggle/python Docker image: https://github.com/kaggle/docker-python\n",
    "# For example, here's several helpful packages to load\n",
    "\n",
    "import numpy as np # linear algebra\n",
    "import pandas as pd # data processing, CSV file I/O (e.g. pd.read_csv)\n",
    "\n",
    "# Input data files are available in the read-only \"../input/\" directory\n",
    "# For example, running this (by clicking run or pressing Shift+Enter), will list all files under the input directory\n",
    "\n",
    "import os\n",
    "for dirname, _, filenames in os.walk('/kaggle/input'):\n",
    "    for filename in filenames:\n",
    "        print(os.path.join(dirname, filename))\n",
    "\n",
    "# You can write up to 20GB to the current directory (/kaggle/working/) that gets preserved as output when you create a version using \"Save & Run All\" \n",
    "# You can also write temporary files to /kaggle/temp/, but they won't be saved outside of the current session"
   ]
  },
  {
   "cell_type": "code",
   "execution_count": 2,
   "id": "2aa59692",
   "metadata": {
    "execution": {
     "iopub.execute_input": "2024-06-24T09:48:07.110983Z",
     "iopub.status.busy": "2024-06-24T09:48:07.110453Z",
     "iopub.status.idle": "2024-06-24T09:48:09.122352Z",
     "shell.execute_reply": "2024-06-24T09:48:09.121115Z"
    },
    "papermill": {
     "duration": 2.050375,
     "end_time": "2024-06-24T09:48:09.125349",
     "exception": false,
     "start_time": "2024-06-24T09:48:07.074974",
     "status": "completed"
    },
    "tags": []
   },
   "outputs": [],
   "source": [
    "import matplotlib.pyplot as plt\n",
    "import seaborn as sns \n",
    "\n",
    "\n",
    "import datetime\n",
    "\n",
    "\n",
    "from sklearn.model_selection import train_test_split "
   ]
  },
  {
   "cell_type": "code",
   "execution_count": 3,
   "id": "6cdd4ab5",
   "metadata": {
    "execution": {
     "iopub.execute_input": "2024-06-24T09:48:09.191997Z",
     "iopub.status.busy": "2024-06-24T09:48:09.191610Z",
     "iopub.status.idle": "2024-06-24T09:48:09.437509Z",
     "shell.execute_reply": "2024-06-24T09:48:09.436302Z"
    },
    "papermill": {
     "duration": 0.2828,
     "end_time": "2024-06-24T09:48:09.440807",
     "exception": false,
     "start_time": "2024-06-24T09:48:09.158007",
     "status": "completed"
    },
    "tags": []
   },
   "outputs": [],
   "source": [
    "train =pd.read_csv('/kaggle/input/crime-cast-forecasting-crime-categories/train.csv')\n",
    "test=pd.read_csv('/kaggle/input/crime-cast-forecasting-crime-categories/test.csv')\n"
   ]
  },
  {
   "cell_type": "code",
   "execution_count": 4,
   "id": "b2b24fe0",
   "metadata": {
    "execution": {
     "iopub.execute_input": "2024-06-24T09:48:09.507702Z",
     "iopub.status.busy": "2024-06-24T09:48:09.506767Z",
     "iopub.status.idle": "2024-06-24T09:48:09.577513Z",
     "shell.execute_reply": "2024-06-24T09:48:09.576320Z"
    },
    "papermill": {
     "duration": 0.107614,
     "end_time": "2024-06-24T09:48:09.580969",
     "exception": false,
     "start_time": "2024-06-24T09:48:09.473355",
     "status": "completed"
    },
    "tags": []
   },
   "outputs": [
    {
     "data": {
      "text/html": [
       "<div>\n",
       "<style scoped>\n",
       "    .dataframe tbody tr th:only-of-type {\n",
       "        vertical-align: middle;\n",
       "    }\n",
       "\n",
       "    .dataframe tbody tr th {\n",
       "        vertical-align: top;\n",
       "    }\n",
       "\n",
       "    .dataframe thead th {\n",
       "        text-align: right;\n",
       "    }\n",
       "</style>\n",
       "<table border=\"1\" class=\"dataframe\">\n",
       "  <thead>\n",
       "    <tr style=\"text-align: right;\">\n",
       "      <th></th>\n",
       "      <th>Location</th>\n",
       "      <th>Cross_Street</th>\n",
       "      <th>Latitude</th>\n",
       "      <th>Longitude</th>\n",
       "      <th>Date_Reported</th>\n",
       "      <th>Date_Occurred</th>\n",
       "      <th>Time_Occurred</th>\n",
       "      <th>Area_ID</th>\n",
       "      <th>Area_Name</th>\n",
       "      <th>Reporting_District_no</th>\n",
       "      <th>...</th>\n",
       "      <th>Victim_Age</th>\n",
       "      <th>Victim_Sex</th>\n",
       "      <th>Victim_Descent</th>\n",
       "      <th>Premise_Code</th>\n",
       "      <th>Premise_Description</th>\n",
       "      <th>Weapon_Used_Code</th>\n",
       "      <th>Weapon_Description</th>\n",
       "      <th>Status</th>\n",
       "      <th>Status_Description</th>\n",
       "      <th>Crime_Category</th>\n",
       "    </tr>\n",
       "  </thead>\n",
       "  <tbody>\n",
       "    <tr>\n",
       "      <th>0</th>\n",
       "      <td>4500    CARPENTER                    AV</td>\n",
       "      <td>NaN</td>\n",
       "      <td>34.1522</td>\n",
       "      <td>-118.3910</td>\n",
       "      <td>03/09/2020 12:00:00 AM</td>\n",
       "      <td>03/06/2020 12:00:00 AM</td>\n",
       "      <td>1800.0</td>\n",
       "      <td>15.0</td>\n",
       "      <td>N Hollywood</td>\n",
       "      <td>1563.0</td>\n",
       "      <td>...</td>\n",
       "      <td>75.0</td>\n",
       "      <td>M</td>\n",
       "      <td>W</td>\n",
       "      <td>101.0</td>\n",
       "      <td>STREET</td>\n",
       "      <td>NaN</td>\n",
       "      <td>NaN</td>\n",
       "      <td>IC</td>\n",
       "      <td>Invest Cont</td>\n",
       "      <td>Property Crimes</td>\n",
       "    </tr>\n",
       "    <tr>\n",
       "      <th>1</th>\n",
       "      <td>45TH                         ST</td>\n",
       "      <td>ALAMEDA                      ST</td>\n",
       "      <td>34.0028</td>\n",
       "      <td>-118.2391</td>\n",
       "      <td>02/27/2020 12:00:00 AM</td>\n",
       "      <td>02/27/2020 12:00:00 AM</td>\n",
       "      <td>1345.0</td>\n",
       "      <td>13.0</td>\n",
       "      <td>Newton</td>\n",
       "      <td>1367.0</td>\n",
       "      <td>...</td>\n",
       "      <td>41.0</td>\n",
       "      <td>M</td>\n",
       "      <td>H</td>\n",
       "      <td>216.0</td>\n",
       "      <td>SWAP MEET</td>\n",
       "      <td>400.0</td>\n",
       "      <td>STRONG-ARM (HANDS, FIST, FEET OR BODILY FORCE)</td>\n",
       "      <td>IC</td>\n",
       "      <td>Invest Cont</td>\n",
       "      <td>Property Crimes</td>\n",
       "    </tr>\n",
       "    <tr>\n",
       "      <th>2</th>\n",
       "      <td>600 E  MARTIN LUTHER KING JR        BL</td>\n",
       "      <td>NaN</td>\n",
       "      <td>34.0111</td>\n",
       "      <td>-118.2653</td>\n",
       "      <td>08/21/2020 12:00:00 AM</td>\n",
       "      <td>08/21/2020 12:00:00 AM</td>\n",
       "      <td>605.0</td>\n",
       "      <td>13.0</td>\n",
       "      <td>Newton</td>\n",
       "      <td>1343.0</td>\n",
       "      <td>...</td>\n",
       "      <td>67.0</td>\n",
       "      <td>M</td>\n",
       "      <td>B</td>\n",
       "      <td>501.0</td>\n",
       "      <td>SINGLE FAMILY DWELLING</td>\n",
       "      <td>NaN</td>\n",
       "      <td>NaN</td>\n",
       "      <td>IC</td>\n",
       "      <td>Invest Cont</td>\n",
       "      <td>Property Crimes</td>\n",
       "    </tr>\n",
       "    <tr>\n",
       "      <th>3</th>\n",
       "      <td>14900    ORO GRANDE                   ST</td>\n",
       "      <td>NaN</td>\n",
       "      <td>34.2953</td>\n",
       "      <td>-118.4590</td>\n",
       "      <td>11/08/2020 12:00:00 AM</td>\n",
       "      <td>11/06/2020 12:00:00 AM</td>\n",
       "      <td>1800.0</td>\n",
       "      <td>19.0</td>\n",
       "      <td>Mission</td>\n",
       "      <td>1924.0</td>\n",
       "      <td>...</td>\n",
       "      <td>61.0</td>\n",
       "      <td>M</td>\n",
       "      <td>H</td>\n",
       "      <td>101.0</td>\n",
       "      <td>STREET</td>\n",
       "      <td>NaN</td>\n",
       "      <td>NaN</td>\n",
       "      <td>IC</td>\n",
       "      <td>Invest Cont</td>\n",
       "      <td>Property Crimes</td>\n",
       "    </tr>\n",
       "    <tr>\n",
       "      <th>4</th>\n",
       "      <td>7100 S  VERMONT                      AV</td>\n",
       "      <td>NaN</td>\n",
       "      <td>33.9787</td>\n",
       "      <td>-118.2918</td>\n",
       "      <td>02/25/2020 12:00:00 AM</td>\n",
       "      <td>02/25/2020 12:00:00 AM</td>\n",
       "      <td>1130.0</td>\n",
       "      <td>12.0</td>\n",
       "      <td>77th Street</td>\n",
       "      <td>1245.0</td>\n",
       "      <td>...</td>\n",
       "      <td>0.0</td>\n",
       "      <td>X</td>\n",
       "      <td>X</td>\n",
       "      <td>401.0</td>\n",
       "      <td>MINI-MART</td>\n",
       "      <td>400.0</td>\n",
       "      <td>STRONG-ARM (HANDS, FIST, FEET OR BODILY FORCE)</td>\n",
       "      <td>IC</td>\n",
       "      <td>Invest Cont</td>\n",
       "      <td>Property Crimes</td>\n",
       "    </tr>\n",
       "    <tr>\n",
       "      <th>...</th>\n",
       "      <td>...</td>\n",
       "      <td>...</td>\n",
       "      <td>...</td>\n",
       "      <td>...</td>\n",
       "      <td>...</td>\n",
       "      <td>...</td>\n",
       "      <td>...</td>\n",
       "      <td>...</td>\n",
       "      <td>...</td>\n",
       "      <td>...</td>\n",
       "      <td>...</td>\n",
       "      <td>...</td>\n",
       "      <td>...</td>\n",
       "      <td>...</td>\n",
       "      <td>...</td>\n",
       "      <td>...</td>\n",
       "      <td>...</td>\n",
       "      <td>...</td>\n",
       "      <td>...</td>\n",
       "      <td>...</td>\n",
       "      <td>...</td>\n",
       "    </tr>\n",
       "    <tr>\n",
       "      <th>19995</th>\n",
       "      <td>5100 W  ADAMS                        BL</td>\n",
       "      <td>NaN</td>\n",
       "      <td>34.0334</td>\n",
       "      <td>-118.3523</td>\n",
       "      <td>05/24/2020 12:00:00 AM</td>\n",
       "      <td>05/24/2020 12:00:00 AM</td>\n",
       "      <td>700.0</td>\n",
       "      <td>3.0</td>\n",
       "      <td>Southwest</td>\n",
       "      <td>303.0</td>\n",
       "      <td>...</td>\n",
       "      <td>51.0</td>\n",
       "      <td>M</td>\n",
       "      <td>H</td>\n",
       "      <td>501.0</td>\n",
       "      <td>SINGLE FAMILY DWELLING</td>\n",
       "      <td>400.0</td>\n",
       "      <td>STRONG-ARM (HANDS, FIST, FEET OR BODILY FORCE)</td>\n",
       "      <td>IC</td>\n",
       "      <td>Invest Cont</td>\n",
       "      <td>Violent Crimes</td>\n",
       "    </tr>\n",
       "    <tr>\n",
       "      <th>19996</th>\n",
       "      <td>16900    ROSCOE                       BL</td>\n",
       "      <td>NaN</td>\n",
       "      <td>34.2212</td>\n",
       "      <td>-118.5011</td>\n",
       "      <td>12/25/2020 12:00:00 AM</td>\n",
       "      <td>12/25/2020 12:00:00 AM</td>\n",
       "      <td>259.0</td>\n",
       "      <td>10.0</td>\n",
       "      <td>West Valley</td>\n",
       "      <td>1008.0</td>\n",
       "      <td>...</td>\n",
       "      <td>0.0</td>\n",
       "      <td>M</td>\n",
       "      <td>W</td>\n",
       "      <td>301.0</td>\n",
       "      <td>GAS STATION</td>\n",
       "      <td>NaN</td>\n",
       "      <td>NaN</td>\n",
       "      <td>IC</td>\n",
       "      <td>Invest Cont</td>\n",
       "      <td>Property Crimes</td>\n",
       "    </tr>\n",
       "    <tr>\n",
       "      <th>19997</th>\n",
       "      <td>1000 S  SHENANDOAH                   ST</td>\n",
       "      <td>NaN</td>\n",
       "      <td>34.0571</td>\n",
       "      <td>-118.3815</td>\n",
       "      <td>09/25/2020 12:00:00 AM</td>\n",
       "      <td>09/25/2020 12:00:00 AM</td>\n",
       "      <td>1400.0</td>\n",
       "      <td>8.0</td>\n",
       "      <td>West LA</td>\n",
       "      <td>849.0</td>\n",
       "      <td>...</td>\n",
       "      <td>42.0</td>\n",
       "      <td>M</td>\n",
       "      <td>H</td>\n",
       "      <td>102.0</td>\n",
       "      <td>SIDEWALK</td>\n",
       "      <td>NaN</td>\n",
       "      <td>NaN</td>\n",
       "      <td>IC</td>\n",
       "      <td>Invest Cont</td>\n",
       "      <td>Property Crimes</td>\n",
       "    </tr>\n",
       "    <tr>\n",
       "      <th>19998</th>\n",
       "      <td>300 W  SEPULVEDA                    ST</td>\n",
       "      <td>NaN</td>\n",
       "      <td>33.7451</td>\n",
       "      <td>-118.2835</td>\n",
       "      <td>06/10/2020 12:00:00 AM</td>\n",
       "      <td>06/10/2020 12:00:00 AM</td>\n",
       "      <td>600.0</td>\n",
       "      <td>5.0</td>\n",
       "      <td>Harbor</td>\n",
       "      <td>558.0</td>\n",
       "      <td>...</td>\n",
       "      <td>76.0</td>\n",
       "      <td>F</td>\n",
       "      <td>H</td>\n",
       "      <td>501.0</td>\n",
       "      <td>SINGLE FAMILY DWELLING</td>\n",
       "      <td>NaN</td>\n",
       "      <td>NaN</td>\n",
       "      <td>IC</td>\n",
       "      <td>Invest Cont</td>\n",
       "      <td>Crimes against Public Order</td>\n",
       "    </tr>\n",
       "    <tr>\n",
       "      <th>19999</th>\n",
       "      <td>DALTON                       AV</td>\n",
       "      <td>VERNON                       AV</td>\n",
       "      <td>34.0037</td>\n",
       "      <td>-118.3034</td>\n",
       "      <td>02/18/2020 12:00:00 AM</td>\n",
       "      <td>02/17/2020 12:00:00 AM</td>\n",
       "      <td>1800.0</td>\n",
       "      <td>3.0</td>\n",
       "      <td>Southwest</td>\n",
       "      <td>397.0</td>\n",
       "      <td>...</td>\n",
       "      <td>0.0</td>\n",
       "      <td>NaN</td>\n",
       "      <td>NaN</td>\n",
       "      <td>101.0</td>\n",
       "      <td>STREET</td>\n",
       "      <td>NaN</td>\n",
       "      <td>NaN</td>\n",
       "      <td>IC</td>\n",
       "      <td>Invest Cont</td>\n",
       "      <td>Property Crimes</td>\n",
       "    </tr>\n",
       "  </tbody>\n",
       "</table>\n",
       "<p>20000 rows × 22 columns</p>\n",
       "</div>"
      ],
      "text/plain": [
       "                                       Location  \\\n",
       "0       4500    CARPENTER                    AV   \n",
       "1               45TH                         ST   \n",
       "2        600 E  MARTIN LUTHER KING JR        BL   \n",
       "3      14900    ORO GRANDE                   ST   \n",
       "4       7100 S  VERMONT                      AV   \n",
       "...                                         ...   \n",
       "19995   5100 W  ADAMS                        BL   \n",
       "19996  16900    ROSCOE                       BL   \n",
       "19997   1000 S  SHENANDOAH                   ST   \n",
       "19998    300 W  SEPULVEDA                    ST   \n",
       "19999           DALTON                       AV   \n",
       "\n",
       "                          Cross_Street  Latitude  Longitude  \\\n",
       "0                                  NaN   34.1522  -118.3910   \n",
       "1      ALAMEDA                      ST   34.0028  -118.2391   \n",
       "2                                  NaN   34.0111  -118.2653   \n",
       "3                                  NaN   34.2953  -118.4590   \n",
       "4                                  NaN   33.9787  -118.2918   \n",
       "...                                ...       ...        ...   \n",
       "19995                              NaN   34.0334  -118.3523   \n",
       "19996                              NaN   34.2212  -118.5011   \n",
       "19997                              NaN   34.0571  -118.3815   \n",
       "19998                              NaN   33.7451  -118.2835   \n",
       "19999  VERNON                       AV   34.0037  -118.3034   \n",
       "\n",
       "                Date_Reported           Date_Occurred  Time_Occurred  Area_ID  \\\n",
       "0      03/09/2020 12:00:00 AM  03/06/2020 12:00:00 AM         1800.0     15.0   \n",
       "1      02/27/2020 12:00:00 AM  02/27/2020 12:00:00 AM         1345.0     13.0   \n",
       "2      08/21/2020 12:00:00 AM  08/21/2020 12:00:00 AM          605.0     13.0   \n",
       "3      11/08/2020 12:00:00 AM  11/06/2020 12:00:00 AM         1800.0     19.0   \n",
       "4      02/25/2020 12:00:00 AM  02/25/2020 12:00:00 AM         1130.0     12.0   \n",
       "...                       ...                     ...            ...      ...   \n",
       "19995  05/24/2020 12:00:00 AM  05/24/2020 12:00:00 AM          700.0      3.0   \n",
       "19996  12/25/2020 12:00:00 AM  12/25/2020 12:00:00 AM          259.0     10.0   \n",
       "19997  09/25/2020 12:00:00 AM  09/25/2020 12:00:00 AM         1400.0      8.0   \n",
       "19998  06/10/2020 12:00:00 AM  06/10/2020 12:00:00 AM          600.0      5.0   \n",
       "19999  02/18/2020 12:00:00 AM  02/17/2020 12:00:00 AM         1800.0      3.0   \n",
       "\n",
       "         Area_Name  Reporting_District_no  ...  Victim_Age Victim_Sex  \\\n",
       "0      N Hollywood                 1563.0  ...        75.0          M   \n",
       "1           Newton                 1367.0  ...        41.0          M   \n",
       "2           Newton                 1343.0  ...        67.0          M   \n",
       "3          Mission                 1924.0  ...        61.0          M   \n",
       "4      77th Street                 1245.0  ...         0.0          X   \n",
       "...            ...                    ...  ...         ...        ...   \n",
       "19995    Southwest                  303.0  ...        51.0          M   \n",
       "19996  West Valley                 1008.0  ...         0.0          M   \n",
       "19997      West LA                  849.0  ...        42.0          M   \n",
       "19998       Harbor                  558.0  ...        76.0          F   \n",
       "19999    Southwest                  397.0  ...         0.0        NaN   \n",
       "\n",
       "       Victim_Descent Premise_Code     Premise_Description  Weapon_Used_Code  \\\n",
       "0                   W        101.0                  STREET               NaN   \n",
       "1                   H        216.0               SWAP MEET             400.0   \n",
       "2                   B        501.0  SINGLE FAMILY DWELLING               NaN   \n",
       "3                   H        101.0                  STREET               NaN   \n",
       "4                   X        401.0               MINI-MART             400.0   \n",
       "...               ...          ...                     ...               ...   \n",
       "19995               H        501.0  SINGLE FAMILY DWELLING             400.0   \n",
       "19996               W        301.0             GAS STATION               NaN   \n",
       "19997               H        102.0                SIDEWALK               NaN   \n",
       "19998               H        501.0  SINGLE FAMILY DWELLING               NaN   \n",
       "19999             NaN        101.0                  STREET               NaN   \n",
       "\n",
       "                                   Weapon_Description  Status  \\\n",
       "0                                                 NaN      IC   \n",
       "1      STRONG-ARM (HANDS, FIST, FEET OR BODILY FORCE)      IC   \n",
       "2                                                 NaN      IC   \n",
       "3                                                 NaN      IC   \n",
       "4      STRONG-ARM (HANDS, FIST, FEET OR BODILY FORCE)      IC   \n",
       "...                                               ...     ...   \n",
       "19995  STRONG-ARM (HANDS, FIST, FEET OR BODILY FORCE)      IC   \n",
       "19996                                             NaN      IC   \n",
       "19997                                             NaN      IC   \n",
       "19998                                             NaN      IC   \n",
       "19999                                             NaN      IC   \n",
       "\n",
       "      Status_Description               Crime_Category  \n",
       "0            Invest Cont              Property Crimes  \n",
       "1            Invest Cont              Property Crimes  \n",
       "2            Invest Cont              Property Crimes  \n",
       "3            Invest Cont              Property Crimes  \n",
       "4            Invest Cont              Property Crimes  \n",
       "...                  ...                          ...  \n",
       "19995        Invest Cont               Violent Crimes  \n",
       "19996        Invest Cont              Property Crimes  \n",
       "19997        Invest Cont              Property Crimes  \n",
       "19998        Invest Cont  Crimes against Public Order  \n",
       "19999        Invest Cont              Property Crimes  \n",
       "\n",
       "[20000 rows x 22 columns]"
      ]
     },
     "execution_count": 4,
     "metadata": {},
     "output_type": "execute_result"
    }
   ],
   "source": [
    "train"
   ]
  },
  {
   "cell_type": "code",
   "execution_count": 5,
   "id": "0c3372ba",
   "metadata": {
    "execution": {
     "iopub.execute_input": "2024-06-24T09:48:09.649634Z",
     "iopub.status.busy": "2024-06-24T09:48:09.649205Z",
     "iopub.status.idle": "2024-06-24T09:48:09.656489Z",
     "shell.execute_reply": "2024-06-24T09:48:09.655321Z"
    },
    "papermill": {
     "duration": 0.044523,
     "end_time": "2024-06-24T09:48:09.659273",
     "exception": false,
     "start_time": "2024-06-24T09:48:09.614750",
     "status": "completed"
    },
    "tags": []
   },
   "outputs": [
    {
     "data": {
      "text/plain": [
       "(20000, 22)"
      ]
     },
     "execution_count": 5,
     "metadata": {},
     "output_type": "execute_result"
    }
   ],
   "source": [
    "train.shape"
   ]
  },
  {
   "cell_type": "code",
   "execution_count": 6,
   "id": "e4ed9a79",
   "metadata": {
    "execution": {
     "iopub.execute_input": "2024-06-24T09:48:09.727835Z",
     "iopub.status.busy": "2024-06-24T09:48:09.727459Z",
     "iopub.status.idle": "2024-06-24T09:48:09.778486Z",
     "shell.execute_reply": "2024-06-24T09:48:09.777016Z"
    },
    "papermill": {
     "duration": 0.088404,
     "end_time": "2024-06-24T09:48:09.781338",
     "exception": false,
     "start_time": "2024-06-24T09:48:09.692934",
     "status": "completed"
    },
    "tags": []
   },
   "outputs": [
    {
     "name": "stdout",
     "output_type": "stream",
     "text": [
      "<class 'pandas.core.frame.DataFrame'>\n",
      "RangeIndex: 20000 entries, 0 to 19999\n",
      "Data columns (total 22 columns):\n",
      " #   Column                 Non-Null Count  Dtype  \n",
      "---  ------                 --------------  -----  \n",
      " 0   Location               20000 non-null  object \n",
      " 1   Cross_Street           3448 non-null   object \n",
      " 2   Latitude               20000 non-null  float64\n",
      " 3   Longitude              20000 non-null  float64\n",
      " 4   Date_Reported          20000 non-null  object \n",
      " 5   Date_Occurred          20000 non-null  object \n",
      " 6   Time_Occurred          20000 non-null  float64\n",
      " 7   Area_ID                20000 non-null  float64\n",
      " 8   Area_Name              20000 non-null  object \n",
      " 9   Reporting_District_no  20000 non-null  float64\n",
      " 10  Part 1-2               20000 non-null  float64\n",
      " 11  Modus_Operandi         17259 non-null  object \n",
      " 12  Victim_Age             20000 non-null  float64\n",
      " 13  Victim_Sex             17376 non-null  object \n",
      " 14  Victim_Descent         17376 non-null  object \n",
      " 15  Premise_Code           20000 non-null  float64\n",
      " 16  Premise_Description    19995 non-null  object \n",
      " 17  Weapon_Used_Code       7335 non-null   float64\n",
      " 18  Weapon_Description     7335 non-null   object \n",
      " 19  Status                 20000 non-null  object \n",
      " 20  Status_Description     20000 non-null  object \n",
      " 21  Crime_Category         20000 non-null  object \n",
      "dtypes: float64(9), object(13)\n",
      "memory usage: 3.4+ MB\n"
     ]
    }
   ],
   "source": [
    "train.info()"
   ]
  },
  {
   "cell_type": "code",
   "execution_count": 7,
   "id": "ec7d5624",
   "metadata": {
    "execution": {
     "iopub.execute_input": "2024-06-24T09:48:09.851205Z",
     "iopub.status.busy": "2024-06-24T09:48:09.850744Z",
     "iopub.status.idle": "2024-06-24T09:48:09.888051Z",
     "shell.execute_reply": "2024-06-24T09:48:09.886974Z"
    },
    "papermill": {
     "duration": 0.075512,
     "end_time": "2024-06-24T09:48:09.890861",
     "exception": false,
     "start_time": "2024-06-24T09:48:09.815349",
     "status": "completed"
    },
    "tags": []
   },
   "outputs": [
    {
     "data": {
      "text/plain": [
       "Location                     0\n",
       "Cross_Street             16552\n",
       "Latitude                     0\n",
       "Longitude                    0\n",
       "Date_Reported                0\n",
       "Date_Occurred                0\n",
       "Time_Occurred                0\n",
       "Area_ID                      0\n",
       "Area_Name                    0\n",
       "Reporting_District_no        0\n",
       "Part 1-2                     0\n",
       "Modus_Operandi            2741\n",
       "Victim_Age                   0\n",
       "Victim_Sex                2624\n",
       "Victim_Descent            2624\n",
       "Premise_Code                 0\n",
       "Premise_Description          5\n",
       "Weapon_Used_Code         12665\n",
       "Weapon_Description       12665\n",
       "Status                       0\n",
       "Status_Description           0\n",
       "Crime_Category               0\n",
       "dtype: int64"
      ]
     },
     "execution_count": 7,
     "metadata": {},
     "output_type": "execute_result"
    }
   ],
   "source": [
    "train.isnull().sum()"
   ]
  },
  {
   "cell_type": "code",
   "execution_count": 8,
   "id": "ad337fbd",
   "metadata": {
    "execution": {
     "iopub.execute_input": "2024-06-24T09:48:09.961293Z",
     "iopub.status.busy": "2024-06-24T09:48:09.960834Z",
     "iopub.status.idle": "2024-06-24T09:48:09.978132Z",
     "shell.execute_reply": "2024-06-24T09:48:09.976848Z"
    },
    "papermill": {
     "duration": 0.054912,
     "end_time": "2024-06-24T09:48:09.980830",
     "exception": false,
     "start_time": "2024-06-24T09:48:09.925918",
     "status": "completed"
    },
    "tags": []
   },
   "outputs": [
    {
     "data": {
      "text/plain": [
       "Location                    0\n",
       "Cross_Street             4190\n",
       "Latitude                    0\n",
       "Longitude                   0\n",
       "Date_Reported               0\n",
       "Date_Occurred               0\n",
       "Time_Occurred               0\n",
       "Area_ID                     0\n",
       "Area_Name                   0\n",
       "Reporting_District_no       0\n",
       "Part 1-2                    0\n",
       "Modus_Operandi            684\n",
       "Victim_Age                  0\n",
       "Victim_Sex                643\n",
       "Victim_Descent            643\n",
       "Premise_Code                0\n",
       "Premise_Description         1\n",
       "Weapon_Used_Code         3153\n",
       "Weapon_Description       3153\n",
       "Status                      0\n",
       "Status_Description          0\n",
       "dtype: int64"
      ]
     },
     "execution_count": 8,
     "metadata": {},
     "output_type": "execute_result"
    }
   ],
   "source": [
    "test.isnull().sum()"
   ]
  },
  {
   "cell_type": "code",
   "execution_count": 9,
   "id": "ed8cadbe",
   "metadata": {
    "execution": {
     "iopub.execute_input": "2024-06-24T09:48:10.050821Z",
     "iopub.status.busy": "2024-06-24T09:48:10.050383Z",
     "iopub.status.idle": "2024-06-24T09:48:10.057449Z",
     "shell.execute_reply": "2024-06-24T09:48:10.056329Z"
    },
    "papermill": {
     "duration": 0.045401,
     "end_time": "2024-06-24T09:48:10.059974",
     "exception": false,
     "start_time": "2024-06-24T09:48:10.014573",
     "status": "completed"
    },
    "tags": []
   },
   "outputs": [
    {
     "data": {
      "text/plain": [
       "(5000, 21)"
      ]
     },
     "execution_count": 9,
     "metadata": {},
     "output_type": "execute_result"
    }
   ],
   "source": [
    "test.shape"
   ]
  },
  {
   "cell_type": "code",
   "execution_count": 10,
   "id": "eff04a18",
   "metadata": {
    "execution": {
     "iopub.execute_input": "2024-06-24T09:48:10.214478Z",
     "iopub.status.busy": "2024-06-24T09:48:10.213372Z",
     "iopub.status.idle": "2024-06-24T09:48:10.223307Z",
     "shell.execute_reply": "2024-06-24T09:48:10.222336Z"
    },
    "papermill": {
     "duration": 0.125748,
     "end_time": "2024-06-24T09:48:10.226897",
     "exception": false,
     "start_time": "2024-06-24T09:48:10.101149",
     "status": "completed"
    },
    "tags": []
   },
   "outputs": [
    {
     "data": {
      "text/plain": [
       "0         4500    CARPENTER                    AV\n",
       "1                 45TH                         ST\n",
       "2          600 E  MARTIN LUTHER KING JR        BL\n",
       "3        14900    ORO GRANDE                   ST\n",
       "4         7100 S  VERMONT                      AV\n",
       "                           ...                   \n",
       "19995     5100 W  ADAMS                        BL\n",
       "19996    16900    ROSCOE                       BL\n",
       "19997     1000 S  SHENANDOAH                   ST\n",
       "19998      300 W  SEPULVEDA                    ST\n",
       "19999             DALTON                       AV\n",
       "Name: Location, Length: 20000, dtype: object"
      ]
     },
     "execution_count": 10,
     "metadata": {},
     "output_type": "execute_result"
    }
   ],
   "source": [
    "train['Location']"
   ]
  },
  {
   "cell_type": "code",
   "execution_count": 11,
   "id": "706bb309",
   "metadata": {
    "execution": {
     "iopub.execute_input": "2024-06-24T09:48:10.312355Z",
     "iopub.status.busy": "2024-06-24T09:48:10.311409Z",
     "iopub.status.idle": "2024-06-24T09:48:10.333486Z",
     "shell.execute_reply": "2024-06-24T09:48:10.332112Z"
    },
    "papermill": {
     "duration": 0.063282,
     "end_time": "2024-06-24T09:48:10.336222",
     "exception": false,
     "start_time": "2024-06-24T09:48:10.272940",
     "status": "completed"
    },
    "tags": []
   },
   "outputs": [
    {
     "data": {
      "text/plain": [
       "Location\n",
       "6TH                                        33\n",
       "7TH                                        32\n",
       "VERMONT                      AV            31\n",
       "6TH                          ST            31\n",
       "7TH                          ST            30\n",
       "                                           ..\n",
       "2700 E  1ST                          ST     1\n",
       "9300    SWINTON                      AV     1\n",
       "MCKINLEY                                    1\n",
       "WADE                         ST             1\n",
       "DALTON                       AV             1\n",
       "Name: count, Length: 12399, dtype: int64"
      ]
     },
     "execution_count": 11,
     "metadata": {},
     "output_type": "execute_result"
    }
   ],
   "source": [
    "train['Location'].value_counts()"
   ]
  },
  {
   "cell_type": "code",
   "execution_count": 12,
   "id": "d5120e65",
   "metadata": {
    "execution": {
     "iopub.execute_input": "2024-06-24T09:48:10.419400Z",
     "iopub.status.busy": "2024-06-24T09:48:10.418060Z",
     "iopub.status.idle": "2024-06-24T09:48:10.430315Z",
     "shell.execute_reply": "2024-06-24T09:48:10.429167Z"
    },
    "papermill": {
     "duration": 0.055785,
     "end_time": "2024-06-24T09:48:10.433996",
     "exception": false,
     "start_time": "2024-06-24T09:48:10.378211",
     "status": "completed"
    },
    "tags": []
   },
   "outputs": [
    {
     "data": {
      "text/plain": [
       "array(['4500    CARPENTER                    AV',\n",
       "       '45TH                         ST',\n",
       "       '600 E  MARTIN LUTHER KING JR        BL', ...,\n",
       "       '15800    STRATHERN                    ST',\n",
       "       '5100 W  ADAMS                        BL',\n",
       "       'DALTON                       AV'], dtype=object)"
      ]
     },
     "execution_count": 12,
     "metadata": {},
     "output_type": "execute_result"
    }
   ],
   "source": [
    "train['Location'].unique()"
   ]
  },
  {
   "cell_type": "code",
   "execution_count": 13,
   "id": "8287f4a4",
   "metadata": {
    "execution": {
     "iopub.execute_input": "2024-06-24T09:48:10.515666Z",
     "iopub.status.busy": "2024-06-24T09:48:10.514518Z",
     "iopub.status.idle": "2024-06-24T09:48:10.527444Z",
     "shell.execute_reply": "2024-06-24T09:48:10.526010Z"
    },
    "papermill": {
     "duration": 0.051551,
     "end_time": "2024-06-24T09:48:10.530081",
     "exception": false,
     "start_time": "2024-06-24T09:48:10.478530",
     "status": "completed"
    },
    "tags": []
   },
   "outputs": [
    {
     "data": {
      "text/plain": [
       "Crime_Category\n",
       "Property Crimes                  11666\n",
       "Violent Crimes                    4767\n",
       "Crimes against Public Order       1808\n",
       "Fraud and White-Collar Crimes     1355\n",
       "Crimes against Persons             225\n",
       "Other Crimes                       179\n",
       "Name: count, dtype: int64"
      ]
     },
     "execution_count": 13,
     "metadata": {},
     "output_type": "execute_result"
    }
   ],
   "source": [
    "train['Crime_Category'].value_counts()"
   ]
  },
  {
   "cell_type": "code",
   "execution_count": 14,
   "id": "eed1e0d1",
   "metadata": {
    "execution": {
     "iopub.execute_input": "2024-06-24T09:48:10.601934Z",
     "iopub.status.busy": "2024-06-24T09:48:10.601470Z",
     "iopub.status.idle": "2024-06-24T09:48:10.727869Z",
     "shell.execute_reply": "2024-06-24T09:48:10.726354Z"
    },
    "papermill": {
     "duration": 0.165889,
     "end_time": "2024-06-24T09:48:10.731385",
     "exception": false,
     "start_time": "2024-06-24T09:48:10.565496",
     "status": "completed"
    },
    "tags": []
   },
   "outputs": [
    {
     "data": {
      "text/html": [
       "<div>\n",
       "<style scoped>\n",
       "    .dataframe tbody tr th:only-of-type {\n",
       "        vertical-align: middle;\n",
       "    }\n",
       "\n",
       "    .dataframe tbody tr th {\n",
       "        vertical-align: top;\n",
       "    }\n",
       "\n",
       "    .dataframe thead th {\n",
       "        text-align: right;\n",
       "    }\n",
       "</style>\n",
       "<table border=\"1\" class=\"dataframe\">\n",
       "  <thead>\n",
       "    <tr style=\"text-align: right;\">\n",
       "      <th></th>\n",
       "      <th>Location</th>\n",
       "      <th>Cross_Street</th>\n",
       "      <th>Date_Reported</th>\n",
       "      <th>Date_Occurred</th>\n",
       "      <th>Area_Name</th>\n",
       "      <th>Modus_Operandi</th>\n",
       "      <th>Victim_Sex</th>\n",
       "      <th>Victim_Descent</th>\n",
       "      <th>Premise_Description</th>\n",
       "      <th>Weapon_Description</th>\n",
       "      <th>Status</th>\n",
       "      <th>Status_Description</th>\n",
       "      <th>Crime_Category</th>\n",
       "    </tr>\n",
       "  </thead>\n",
       "  <tbody>\n",
       "    <tr>\n",
       "      <th>count</th>\n",
       "      <td>20000</td>\n",
       "      <td>3448</td>\n",
       "      <td>20000</td>\n",
       "      <td>20000</td>\n",
       "      <td>20000</td>\n",
       "      <td>17259</td>\n",
       "      <td>17376</td>\n",
       "      <td>17376</td>\n",
       "      <td>19995</td>\n",
       "      <td>7335</td>\n",
       "      <td>20000</td>\n",
       "      <td>20000</td>\n",
       "      <td>20000</td>\n",
       "    </tr>\n",
       "    <tr>\n",
       "      <th>unique</th>\n",
       "      <td>12399</td>\n",
       "      <td>1495</td>\n",
       "      <td>811</td>\n",
       "      <td>366</td>\n",
       "      <td>21</td>\n",
       "      <td>10489</td>\n",
       "      <td>4</td>\n",
       "      <td>17</td>\n",
       "      <td>216</td>\n",
       "      <td>57</td>\n",
       "      <td>5</td>\n",
       "      <td>5</td>\n",
       "      <td>6</td>\n",
       "    </tr>\n",
       "    <tr>\n",
       "      <th>top</th>\n",
       "      <td>6TH</td>\n",
       "      <td>BROADWAY</td>\n",
       "      <td>07/13/2020 12:00:00 AM</td>\n",
       "      <td>01/01/2020 12:00:00 AM</td>\n",
       "      <td>77th Street</td>\n",
       "      <td>0344</td>\n",
       "      <td>M</td>\n",
       "      <td>H</td>\n",
       "      <td>STREET</td>\n",
       "      <td>STRONG-ARM (HANDS, FIST, FEET OR BODILY FORCE)</td>\n",
       "      <td>IC</td>\n",
       "      <td>Invest Cont</td>\n",
       "      <td>Property Crimes</td>\n",
       "    </tr>\n",
       "    <tr>\n",
       "      <th>freq</th>\n",
       "      <td>33</td>\n",
       "      <td>56</td>\n",
       "      <td>87</td>\n",
       "      <td>137</td>\n",
       "      <td>1345</td>\n",
       "      <td>826</td>\n",
       "      <td>8538</td>\n",
       "      <td>6143</td>\n",
       "      <td>5033</td>\n",
       "      <td>3990</td>\n",
       "      <td>15236</td>\n",
       "      <td>15236</td>\n",
       "      <td>11666</td>\n",
       "    </tr>\n",
       "  </tbody>\n",
       "</table>\n",
       "</div>"
      ],
      "text/plain": [
       "       Location Cross_Street           Date_Reported           Date_Occurred  \\\n",
       "count     20000         3448                   20000                   20000   \n",
       "unique    12399         1495                     811                     366   \n",
       "top         6TH     BROADWAY  07/13/2020 12:00:00 AM  01/01/2020 12:00:00 AM   \n",
       "freq         33           56                      87                     137   \n",
       "\n",
       "          Area_Name Modus_Operandi Victim_Sex Victim_Descent  \\\n",
       "count         20000          17259      17376          17376   \n",
       "unique           21          10489          4             17   \n",
       "top     77th Street           0344          M              H   \n",
       "freq           1345            826       8538           6143   \n",
       "\n",
       "       Premise_Description                              Weapon_Description  \\\n",
       "count                19995                                            7335   \n",
       "unique                 216                                              57   \n",
       "top                 STREET  STRONG-ARM (HANDS, FIST, FEET OR BODILY FORCE)   \n",
       "freq                  5033                                            3990   \n",
       "\n",
       "       Status Status_Description   Crime_Category  \n",
       "count   20000              20000            20000  \n",
       "unique      5                  5                6  \n",
       "top        IC        Invest Cont  Property Crimes  \n",
       "freq    15236              15236            11666  "
      ]
     },
     "execution_count": 14,
     "metadata": {},
     "output_type": "execute_result"
    }
   ],
   "source": [
    "train.describe(include='object')"
   ]
  },
  {
   "cell_type": "code",
   "execution_count": 15,
   "id": "2d81a6dc",
   "metadata": {
    "execution": {
     "iopub.execute_input": "2024-06-24T09:48:10.810051Z",
     "iopub.status.busy": "2024-06-24T09:48:10.809637Z",
     "iopub.status.idle": "2024-06-24T09:48:10.857687Z",
     "shell.execute_reply": "2024-06-24T09:48:10.856354Z"
    },
    "papermill": {
     "duration": 0.089812,
     "end_time": "2024-06-24T09:48:10.860614",
     "exception": false,
     "start_time": "2024-06-24T09:48:10.770802",
     "status": "completed"
    },
    "tags": []
   },
   "outputs": [
    {
     "data": {
      "text/html": [
       "<div>\n",
       "<style scoped>\n",
       "    .dataframe tbody tr th:only-of-type {\n",
       "        vertical-align: middle;\n",
       "    }\n",
       "\n",
       "    .dataframe tbody tr th {\n",
       "        vertical-align: top;\n",
       "    }\n",
       "\n",
       "    .dataframe thead th {\n",
       "        text-align: right;\n",
       "    }\n",
       "</style>\n",
       "<table border=\"1\" class=\"dataframe\">\n",
       "  <thead>\n",
       "    <tr style=\"text-align: right;\">\n",
       "      <th></th>\n",
       "      <th>Latitude</th>\n",
       "      <th>Longitude</th>\n",
       "      <th>Time_Occurred</th>\n",
       "      <th>Area_ID</th>\n",
       "      <th>Reporting_District_no</th>\n",
       "      <th>Part 1-2</th>\n",
       "      <th>Victim_Age</th>\n",
       "      <th>Premise_Code</th>\n",
       "      <th>Weapon_Used_Code</th>\n",
       "    </tr>\n",
       "  </thead>\n",
       "  <tbody>\n",
       "    <tr>\n",
       "      <th>count</th>\n",
       "      <td>20000.000000</td>\n",
       "      <td>20000.000000</td>\n",
       "      <td>20000.000000</td>\n",
       "      <td>20000.000000</td>\n",
       "      <td>20000.000000</td>\n",
       "      <td>20000.000000</td>\n",
       "      <td>20000.000000</td>\n",
       "      <td>20000.000000</td>\n",
       "      <td>7335.000000</td>\n",
       "    </tr>\n",
       "    <tr>\n",
       "      <th>mean</th>\n",
       "      <td>33.940704</td>\n",
       "      <td>-117.893072</td>\n",
       "      <td>1352.380350</td>\n",
       "      <td>10.834250</td>\n",
       "      <td>1129.599200</td>\n",
       "      <td>1.418150</td>\n",
       "      <td>30.135000</td>\n",
       "      <td>297.176950</td>\n",
       "      <td>366.405044</td>\n",
       "    </tr>\n",
       "    <tr>\n",
       "      <th>std</th>\n",
       "      <td>2.126810</td>\n",
       "      <td>7.377726</td>\n",
       "      <td>646.100291</td>\n",
       "      <td>6.033166</td>\n",
       "      <td>603.330519</td>\n",
       "      <td>0.493267</td>\n",
       "      <td>21.863645</td>\n",
       "      <td>212.007298</td>\n",
       "      <td>120.485687</td>\n",
       "    </tr>\n",
       "    <tr>\n",
       "      <th>min</th>\n",
       "      <td>0.000000</td>\n",
       "      <td>-118.663400</td>\n",
       "      <td>1.000000</td>\n",
       "      <td>1.000000</td>\n",
       "      <td>101.000000</td>\n",
       "      <td>1.000000</td>\n",
       "      <td>-2.000000</td>\n",
       "      <td>101.000000</td>\n",
       "      <td>101.000000</td>\n",
       "    </tr>\n",
       "    <tr>\n",
       "      <th>25%</th>\n",
       "      <td>34.009200</td>\n",
       "      <td>-118.429700</td>\n",
       "      <td>930.000000</td>\n",
       "      <td>6.000000</td>\n",
       "      <td>632.000000</td>\n",
       "      <td>1.000000</td>\n",
       "      <td>12.000000</td>\n",
       "      <td>101.000000</td>\n",
       "      <td>312.000000</td>\n",
       "    </tr>\n",
       "    <tr>\n",
       "      <th>50%</th>\n",
       "      <td>34.058700</td>\n",
       "      <td>-118.323000</td>\n",
       "      <td>1430.000000</td>\n",
       "      <td>11.000000</td>\n",
       "      <td>1162.000000</td>\n",
       "      <td>1.000000</td>\n",
       "      <td>31.000000</td>\n",
       "      <td>203.000000</td>\n",
       "      <td>400.000000</td>\n",
       "    </tr>\n",
       "    <tr>\n",
       "      <th>75%</th>\n",
       "      <td>34.165025</td>\n",
       "      <td>-118.274400</td>\n",
       "      <td>1900.000000</td>\n",
       "      <td>16.000000</td>\n",
       "      <td>1622.000000</td>\n",
       "      <td>2.000000</td>\n",
       "      <td>46.000000</td>\n",
       "      <td>501.000000</td>\n",
       "      <td>400.000000</td>\n",
       "    </tr>\n",
       "    <tr>\n",
       "      <th>max</th>\n",
       "      <td>34.328100</td>\n",
       "      <td>0.000000</td>\n",
       "      <td>2359.000000</td>\n",
       "      <td>21.000000</td>\n",
       "      <td>2197.000000</td>\n",
       "      <td>2.000000</td>\n",
       "      <td>99.000000</td>\n",
       "      <td>969.000000</td>\n",
       "      <td>515.000000</td>\n",
       "    </tr>\n",
       "  </tbody>\n",
       "</table>\n",
       "</div>"
      ],
      "text/plain": [
       "           Latitude     Longitude  Time_Occurred       Area_ID  \\\n",
       "count  20000.000000  20000.000000   20000.000000  20000.000000   \n",
       "mean      33.940704   -117.893072    1352.380350     10.834250   \n",
       "std        2.126810      7.377726     646.100291      6.033166   \n",
       "min        0.000000   -118.663400       1.000000      1.000000   \n",
       "25%       34.009200   -118.429700     930.000000      6.000000   \n",
       "50%       34.058700   -118.323000    1430.000000     11.000000   \n",
       "75%       34.165025   -118.274400    1900.000000     16.000000   \n",
       "max       34.328100      0.000000    2359.000000     21.000000   \n",
       "\n",
       "       Reporting_District_no      Part 1-2    Victim_Age  Premise_Code  \\\n",
       "count           20000.000000  20000.000000  20000.000000  20000.000000   \n",
       "mean             1129.599200      1.418150     30.135000    297.176950   \n",
       "std               603.330519      0.493267     21.863645    212.007298   \n",
       "min               101.000000      1.000000     -2.000000    101.000000   \n",
       "25%               632.000000      1.000000     12.000000    101.000000   \n",
       "50%              1162.000000      1.000000     31.000000    203.000000   \n",
       "75%              1622.000000      2.000000     46.000000    501.000000   \n",
       "max              2197.000000      2.000000     99.000000    969.000000   \n",
       "\n",
       "       Weapon_Used_Code  \n",
       "count       7335.000000  \n",
       "mean         366.405044  \n",
       "std          120.485687  \n",
       "min          101.000000  \n",
       "25%          312.000000  \n",
       "50%          400.000000  \n",
       "75%          400.000000  \n",
       "max          515.000000  "
      ]
     },
     "execution_count": 15,
     "metadata": {},
     "output_type": "execute_result"
    }
   ],
   "source": [
    "train.describe()"
   ]
  },
  {
   "cell_type": "markdown",
   "id": "3e005a46",
   "metadata": {
    "papermill": {
     "duration": 0.036281,
     "end_time": "2024-06-24T09:48:10.933164",
     "exception": false,
     "start_time": "2024-06-24T09:48:10.896883",
     "status": "completed"
    },
    "tags": []
   },
   "source": [
    "* Latitude range: [0:34] ( General range is -90 to 90 )\n",
    "* Longitude range: [-118: 0] (General range is 180 to 180)\n",
    "\n"
   ]
  },
  {
   "cell_type": "code",
   "execution_count": 16,
   "id": "2d77bd9e",
   "metadata": {
    "execution": {
     "iopub.execute_input": "2024-06-24T09:48:11.006834Z",
     "iopub.status.busy": "2024-06-24T09:48:11.006435Z",
     "iopub.status.idle": "2024-06-24T09:48:11.012982Z",
     "shell.execute_reply": "2024-06-24T09:48:11.011720Z"
    },
    "papermill": {
     "duration": 0.046246,
     "end_time": "2024-06-24T09:48:11.015662",
     "exception": false,
     "start_time": "2024-06-24T09:48:10.969416",
     "status": "completed"
    },
    "tags": []
   },
   "outputs": [],
   "source": [
    "def day_category(x):\n",
    "    if 400<=x<1200:\n",
    "        return 'Morning'\n",
    "    elif 1200<=x<1700:\n",
    "        return 'Daytime'\n",
    "    elif 1800<=x<2100:\n",
    "        return 'Evening'\n",
    "    else:\n",
    "        return 'Night'"
   ]
  },
  {
   "cell_type": "code",
   "execution_count": 17,
   "id": "803ffbef",
   "metadata": {
    "execution": {
     "iopub.execute_input": "2024-06-24T09:48:11.090463Z",
     "iopub.status.busy": "2024-06-24T09:48:11.090020Z",
     "iopub.status.idle": "2024-06-24T09:48:11.112678Z",
     "shell.execute_reply": "2024-06-24T09:48:11.111154Z"
    },
    "papermill": {
     "duration": 0.062768,
     "end_time": "2024-06-24T09:48:11.115498",
     "exception": false,
     "start_time": "2024-06-24T09:48:11.052730",
     "status": "completed"
    },
    "tags": []
   },
   "outputs": [],
   "source": [
    "train['day_category']=train['Time_Occurred'].apply(day_category )"
   ]
  },
  {
   "cell_type": "code",
   "execution_count": 18,
   "id": "1725fa0b",
   "metadata": {
    "execution": {
     "iopub.execute_input": "2024-06-24T09:48:11.190336Z",
     "iopub.status.busy": "2024-06-24T09:48:11.189880Z",
     "iopub.status.idle": "2024-06-24T09:48:11.244493Z",
     "shell.execute_reply": "2024-06-24T09:48:11.243302Z"
    },
    "papermill": {
     "duration": 0.094383,
     "end_time": "2024-06-24T09:48:11.247303",
     "exception": false,
     "start_time": "2024-06-24T09:48:11.152920",
     "status": "completed"
    },
    "tags": []
   },
   "outputs": [
    {
     "data": {
      "text/html": [
       "<div>\n",
       "<style scoped>\n",
       "    .dataframe tbody tr th:only-of-type {\n",
       "        vertical-align: middle;\n",
       "    }\n",
       "\n",
       "    .dataframe tbody tr th {\n",
       "        vertical-align: top;\n",
       "    }\n",
       "\n",
       "    .dataframe thead th {\n",
       "        text-align: right;\n",
       "    }\n",
       "</style>\n",
       "<table border=\"1\" class=\"dataframe\">\n",
       "  <thead>\n",
       "    <tr style=\"text-align: right;\">\n",
       "      <th></th>\n",
       "      <th>Location</th>\n",
       "      <th>Cross_Street</th>\n",
       "      <th>Latitude</th>\n",
       "      <th>Longitude</th>\n",
       "      <th>Date_Reported</th>\n",
       "      <th>Date_Occurred</th>\n",
       "      <th>Time_Occurred</th>\n",
       "      <th>Area_ID</th>\n",
       "      <th>Area_Name</th>\n",
       "      <th>Reporting_District_no</th>\n",
       "      <th>...</th>\n",
       "      <th>Victim_Sex</th>\n",
       "      <th>Victim_Descent</th>\n",
       "      <th>Premise_Code</th>\n",
       "      <th>Premise_Description</th>\n",
       "      <th>Weapon_Used_Code</th>\n",
       "      <th>Weapon_Description</th>\n",
       "      <th>Status</th>\n",
       "      <th>Status_Description</th>\n",
       "      <th>Crime_Category</th>\n",
       "      <th>day_category</th>\n",
       "    </tr>\n",
       "  </thead>\n",
       "  <tbody>\n",
       "    <tr>\n",
       "      <th>0</th>\n",
       "      <td>4500    CARPENTER                    AV</td>\n",
       "      <td>NaN</td>\n",
       "      <td>34.1522</td>\n",
       "      <td>-118.3910</td>\n",
       "      <td>03/09/2020 12:00:00 AM</td>\n",
       "      <td>03/06/2020 12:00:00 AM</td>\n",
       "      <td>1800.0</td>\n",
       "      <td>15.0</td>\n",
       "      <td>N Hollywood</td>\n",
       "      <td>1563.0</td>\n",
       "      <td>...</td>\n",
       "      <td>M</td>\n",
       "      <td>W</td>\n",
       "      <td>101.0</td>\n",
       "      <td>STREET</td>\n",
       "      <td>NaN</td>\n",
       "      <td>NaN</td>\n",
       "      <td>IC</td>\n",
       "      <td>Invest Cont</td>\n",
       "      <td>Property Crimes</td>\n",
       "      <td>Evening</td>\n",
       "    </tr>\n",
       "    <tr>\n",
       "      <th>1</th>\n",
       "      <td>45TH                         ST</td>\n",
       "      <td>ALAMEDA                      ST</td>\n",
       "      <td>34.0028</td>\n",
       "      <td>-118.2391</td>\n",
       "      <td>02/27/2020 12:00:00 AM</td>\n",
       "      <td>02/27/2020 12:00:00 AM</td>\n",
       "      <td>1345.0</td>\n",
       "      <td>13.0</td>\n",
       "      <td>Newton</td>\n",
       "      <td>1367.0</td>\n",
       "      <td>...</td>\n",
       "      <td>M</td>\n",
       "      <td>H</td>\n",
       "      <td>216.0</td>\n",
       "      <td>SWAP MEET</td>\n",
       "      <td>400.0</td>\n",
       "      <td>STRONG-ARM (HANDS, FIST, FEET OR BODILY FORCE)</td>\n",
       "      <td>IC</td>\n",
       "      <td>Invest Cont</td>\n",
       "      <td>Property Crimes</td>\n",
       "      <td>Daytime</td>\n",
       "    </tr>\n",
       "    <tr>\n",
       "      <th>2</th>\n",
       "      <td>600 E  MARTIN LUTHER KING JR        BL</td>\n",
       "      <td>NaN</td>\n",
       "      <td>34.0111</td>\n",
       "      <td>-118.2653</td>\n",
       "      <td>08/21/2020 12:00:00 AM</td>\n",
       "      <td>08/21/2020 12:00:00 AM</td>\n",
       "      <td>605.0</td>\n",
       "      <td>13.0</td>\n",
       "      <td>Newton</td>\n",
       "      <td>1343.0</td>\n",
       "      <td>...</td>\n",
       "      <td>M</td>\n",
       "      <td>B</td>\n",
       "      <td>501.0</td>\n",
       "      <td>SINGLE FAMILY DWELLING</td>\n",
       "      <td>NaN</td>\n",
       "      <td>NaN</td>\n",
       "      <td>IC</td>\n",
       "      <td>Invest Cont</td>\n",
       "      <td>Property Crimes</td>\n",
       "      <td>Morning</td>\n",
       "    </tr>\n",
       "    <tr>\n",
       "      <th>3</th>\n",
       "      <td>14900    ORO GRANDE                   ST</td>\n",
       "      <td>NaN</td>\n",
       "      <td>34.2953</td>\n",
       "      <td>-118.4590</td>\n",
       "      <td>11/08/2020 12:00:00 AM</td>\n",
       "      <td>11/06/2020 12:00:00 AM</td>\n",
       "      <td>1800.0</td>\n",
       "      <td>19.0</td>\n",
       "      <td>Mission</td>\n",
       "      <td>1924.0</td>\n",
       "      <td>...</td>\n",
       "      <td>M</td>\n",
       "      <td>H</td>\n",
       "      <td>101.0</td>\n",
       "      <td>STREET</td>\n",
       "      <td>NaN</td>\n",
       "      <td>NaN</td>\n",
       "      <td>IC</td>\n",
       "      <td>Invest Cont</td>\n",
       "      <td>Property Crimes</td>\n",
       "      <td>Evening</td>\n",
       "    </tr>\n",
       "    <tr>\n",
       "      <th>4</th>\n",
       "      <td>7100 S  VERMONT                      AV</td>\n",
       "      <td>NaN</td>\n",
       "      <td>33.9787</td>\n",
       "      <td>-118.2918</td>\n",
       "      <td>02/25/2020 12:00:00 AM</td>\n",
       "      <td>02/25/2020 12:00:00 AM</td>\n",
       "      <td>1130.0</td>\n",
       "      <td>12.0</td>\n",
       "      <td>77th Street</td>\n",
       "      <td>1245.0</td>\n",
       "      <td>...</td>\n",
       "      <td>X</td>\n",
       "      <td>X</td>\n",
       "      <td>401.0</td>\n",
       "      <td>MINI-MART</td>\n",
       "      <td>400.0</td>\n",
       "      <td>STRONG-ARM (HANDS, FIST, FEET OR BODILY FORCE)</td>\n",
       "      <td>IC</td>\n",
       "      <td>Invest Cont</td>\n",
       "      <td>Property Crimes</td>\n",
       "      <td>Morning</td>\n",
       "    </tr>\n",
       "    <tr>\n",
       "      <th>...</th>\n",
       "      <td>...</td>\n",
       "      <td>...</td>\n",
       "      <td>...</td>\n",
       "      <td>...</td>\n",
       "      <td>...</td>\n",
       "      <td>...</td>\n",
       "      <td>...</td>\n",
       "      <td>...</td>\n",
       "      <td>...</td>\n",
       "      <td>...</td>\n",
       "      <td>...</td>\n",
       "      <td>...</td>\n",
       "      <td>...</td>\n",
       "      <td>...</td>\n",
       "      <td>...</td>\n",
       "      <td>...</td>\n",
       "      <td>...</td>\n",
       "      <td>...</td>\n",
       "      <td>...</td>\n",
       "      <td>...</td>\n",
       "      <td>...</td>\n",
       "    </tr>\n",
       "    <tr>\n",
       "      <th>19995</th>\n",
       "      <td>5100 W  ADAMS                        BL</td>\n",
       "      <td>NaN</td>\n",
       "      <td>34.0334</td>\n",
       "      <td>-118.3523</td>\n",
       "      <td>05/24/2020 12:00:00 AM</td>\n",
       "      <td>05/24/2020 12:00:00 AM</td>\n",
       "      <td>700.0</td>\n",
       "      <td>3.0</td>\n",
       "      <td>Southwest</td>\n",
       "      <td>303.0</td>\n",
       "      <td>...</td>\n",
       "      <td>M</td>\n",
       "      <td>H</td>\n",
       "      <td>501.0</td>\n",
       "      <td>SINGLE FAMILY DWELLING</td>\n",
       "      <td>400.0</td>\n",
       "      <td>STRONG-ARM (HANDS, FIST, FEET OR BODILY FORCE)</td>\n",
       "      <td>IC</td>\n",
       "      <td>Invest Cont</td>\n",
       "      <td>Violent Crimes</td>\n",
       "      <td>Morning</td>\n",
       "    </tr>\n",
       "    <tr>\n",
       "      <th>19996</th>\n",
       "      <td>16900    ROSCOE                       BL</td>\n",
       "      <td>NaN</td>\n",
       "      <td>34.2212</td>\n",
       "      <td>-118.5011</td>\n",
       "      <td>12/25/2020 12:00:00 AM</td>\n",
       "      <td>12/25/2020 12:00:00 AM</td>\n",
       "      <td>259.0</td>\n",
       "      <td>10.0</td>\n",
       "      <td>West Valley</td>\n",
       "      <td>1008.0</td>\n",
       "      <td>...</td>\n",
       "      <td>M</td>\n",
       "      <td>W</td>\n",
       "      <td>301.0</td>\n",
       "      <td>GAS STATION</td>\n",
       "      <td>NaN</td>\n",
       "      <td>NaN</td>\n",
       "      <td>IC</td>\n",
       "      <td>Invest Cont</td>\n",
       "      <td>Property Crimes</td>\n",
       "      <td>Night</td>\n",
       "    </tr>\n",
       "    <tr>\n",
       "      <th>19997</th>\n",
       "      <td>1000 S  SHENANDOAH                   ST</td>\n",
       "      <td>NaN</td>\n",
       "      <td>34.0571</td>\n",
       "      <td>-118.3815</td>\n",
       "      <td>09/25/2020 12:00:00 AM</td>\n",
       "      <td>09/25/2020 12:00:00 AM</td>\n",
       "      <td>1400.0</td>\n",
       "      <td>8.0</td>\n",
       "      <td>West LA</td>\n",
       "      <td>849.0</td>\n",
       "      <td>...</td>\n",
       "      <td>M</td>\n",
       "      <td>H</td>\n",
       "      <td>102.0</td>\n",
       "      <td>SIDEWALK</td>\n",
       "      <td>NaN</td>\n",
       "      <td>NaN</td>\n",
       "      <td>IC</td>\n",
       "      <td>Invest Cont</td>\n",
       "      <td>Property Crimes</td>\n",
       "      <td>Daytime</td>\n",
       "    </tr>\n",
       "    <tr>\n",
       "      <th>19998</th>\n",
       "      <td>300 W  SEPULVEDA                    ST</td>\n",
       "      <td>NaN</td>\n",
       "      <td>33.7451</td>\n",
       "      <td>-118.2835</td>\n",
       "      <td>06/10/2020 12:00:00 AM</td>\n",
       "      <td>06/10/2020 12:00:00 AM</td>\n",
       "      <td>600.0</td>\n",
       "      <td>5.0</td>\n",
       "      <td>Harbor</td>\n",
       "      <td>558.0</td>\n",
       "      <td>...</td>\n",
       "      <td>F</td>\n",
       "      <td>H</td>\n",
       "      <td>501.0</td>\n",
       "      <td>SINGLE FAMILY DWELLING</td>\n",
       "      <td>NaN</td>\n",
       "      <td>NaN</td>\n",
       "      <td>IC</td>\n",
       "      <td>Invest Cont</td>\n",
       "      <td>Crimes against Public Order</td>\n",
       "      <td>Morning</td>\n",
       "    </tr>\n",
       "    <tr>\n",
       "      <th>19999</th>\n",
       "      <td>DALTON                       AV</td>\n",
       "      <td>VERNON                       AV</td>\n",
       "      <td>34.0037</td>\n",
       "      <td>-118.3034</td>\n",
       "      <td>02/18/2020 12:00:00 AM</td>\n",
       "      <td>02/17/2020 12:00:00 AM</td>\n",
       "      <td>1800.0</td>\n",
       "      <td>3.0</td>\n",
       "      <td>Southwest</td>\n",
       "      <td>397.0</td>\n",
       "      <td>...</td>\n",
       "      <td>NaN</td>\n",
       "      <td>NaN</td>\n",
       "      <td>101.0</td>\n",
       "      <td>STREET</td>\n",
       "      <td>NaN</td>\n",
       "      <td>NaN</td>\n",
       "      <td>IC</td>\n",
       "      <td>Invest Cont</td>\n",
       "      <td>Property Crimes</td>\n",
       "      <td>Evening</td>\n",
       "    </tr>\n",
       "  </tbody>\n",
       "</table>\n",
       "<p>20000 rows × 23 columns</p>\n",
       "</div>"
      ],
      "text/plain": [
       "                                       Location  \\\n",
       "0       4500    CARPENTER                    AV   \n",
       "1               45TH                         ST   \n",
       "2        600 E  MARTIN LUTHER KING JR        BL   \n",
       "3      14900    ORO GRANDE                   ST   \n",
       "4       7100 S  VERMONT                      AV   \n",
       "...                                         ...   \n",
       "19995   5100 W  ADAMS                        BL   \n",
       "19996  16900    ROSCOE                       BL   \n",
       "19997   1000 S  SHENANDOAH                   ST   \n",
       "19998    300 W  SEPULVEDA                    ST   \n",
       "19999           DALTON                       AV   \n",
       "\n",
       "                          Cross_Street  Latitude  Longitude  \\\n",
       "0                                  NaN   34.1522  -118.3910   \n",
       "1      ALAMEDA                      ST   34.0028  -118.2391   \n",
       "2                                  NaN   34.0111  -118.2653   \n",
       "3                                  NaN   34.2953  -118.4590   \n",
       "4                                  NaN   33.9787  -118.2918   \n",
       "...                                ...       ...        ...   \n",
       "19995                              NaN   34.0334  -118.3523   \n",
       "19996                              NaN   34.2212  -118.5011   \n",
       "19997                              NaN   34.0571  -118.3815   \n",
       "19998                              NaN   33.7451  -118.2835   \n",
       "19999  VERNON                       AV   34.0037  -118.3034   \n",
       "\n",
       "                Date_Reported           Date_Occurred  Time_Occurred  Area_ID  \\\n",
       "0      03/09/2020 12:00:00 AM  03/06/2020 12:00:00 AM         1800.0     15.0   \n",
       "1      02/27/2020 12:00:00 AM  02/27/2020 12:00:00 AM         1345.0     13.0   \n",
       "2      08/21/2020 12:00:00 AM  08/21/2020 12:00:00 AM          605.0     13.0   \n",
       "3      11/08/2020 12:00:00 AM  11/06/2020 12:00:00 AM         1800.0     19.0   \n",
       "4      02/25/2020 12:00:00 AM  02/25/2020 12:00:00 AM         1130.0     12.0   \n",
       "...                       ...                     ...            ...      ...   \n",
       "19995  05/24/2020 12:00:00 AM  05/24/2020 12:00:00 AM          700.0      3.0   \n",
       "19996  12/25/2020 12:00:00 AM  12/25/2020 12:00:00 AM          259.0     10.0   \n",
       "19997  09/25/2020 12:00:00 AM  09/25/2020 12:00:00 AM         1400.0      8.0   \n",
       "19998  06/10/2020 12:00:00 AM  06/10/2020 12:00:00 AM          600.0      5.0   \n",
       "19999  02/18/2020 12:00:00 AM  02/17/2020 12:00:00 AM         1800.0      3.0   \n",
       "\n",
       "         Area_Name  Reporting_District_no  ...  Victim_Sex Victim_Descent  \\\n",
       "0      N Hollywood                 1563.0  ...           M              W   \n",
       "1           Newton                 1367.0  ...           M              H   \n",
       "2           Newton                 1343.0  ...           M              B   \n",
       "3          Mission                 1924.0  ...           M              H   \n",
       "4      77th Street                 1245.0  ...           X              X   \n",
       "...            ...                    ...  ...         ...            ...   \n",
       "19995    Southwest                  303.0  ...           M              H   \n",
       "19996  West Valley                 1008.0  ...           M              W   \n",
       "19997      West LA                  849.0  ...           M              H   \n",
       "19998       Harbor                  558.0  ...           F              H   \n",
       "19999    Southwest                  397.0  ...         NaN            NaN   \n",
       "\n",
       "       Premise_Code     Premise_Description Weapon_Used_Code  \\\n",
       "0             101.0                  STREET              NaN   \n",
       "1             216.0               SWAP MEET            400.0   \n",
       "2             501.0  SINGLE FAMILY DWELLING              NaN   \n",
       "3             101.0                  STREET              NaN   \n",
       "4             401.0               MINI-MART            400.0   \n",
       "...             ...                     ...              ...   \n",
       "19995         501.0  SINGLE FAMILY DWELLING            400.0   \n",
       "19996         301.0             GAS STATION              NaN   \n",
       "19997         102.0                SIDEWALK              NaN   \n",
       "19998         501.0  SINGLE FAMILY DWELLING              NaN   \n",
       "19999         101.0                  STREET              NaN   \n",
       "\n",
       "                                   Weapon_Description Status  \\\n",
       "0                                                 NaN     IC   \n",
       "1      STRONG-ARM (HANDS, FIST, FEET OR BODILY FORCE)     IC   \n",
       "2                                                 NaN     IC   \n",
       "3                                                 NaN     IC   \n",
       "4      STRONG-ARM (HANDS, FIST, FEET OR BODILY FORCE)     IC   \n",
       "...                                               ...    ...   \n",
       "19995  STRONG-ARM (HANDS, FIST, FEET OR BODILY FORCE)     IC   \n",
       "19996                                             NaN     IC   \n",
       "19997                                             NaN     IC   \n",
       "19998                                             NaN     IC   \n",
       "19999                                             NaN     IC   \n",
       "\n",
       "       Status_Description               Crime_Category day_category  \n",
       "0             Invest Cont              Property Crimes      Evening  \n",
       "1             Invest Cont              Property Crimes      Daytime  \n",
       "2             Invest Cont              Property Crimes      Morning  \n",
       "3             Invest Cont              Property Crimes      Evening  \n",
       "4             Invest Cont              Property Crimes      Morning  \n",
       "...                   ...                          ...          ...  \n",
       "19995         Invest Cont               Violent Crimes      Morning  \n",
       "19996         Invest Cont              Property Crimes        Night  \n",
       "19997         Invest Cont              Property Crimes      Daytime  \n",
       "19998         Invest Cont  Crimes against Public Order      Morning  \n",
       "19999         Invest Cont              Property Crimes      Evening  \n",
       "\n",
       "[20000 rows x 23 columns]"
      ]
     },
     "execution_count": 18,
     "metadata": {},
     "output_type": "execute_result"
    }
   ],
   "source": [
    "train"
   ]
  },
  {
   "cell_type": "code",
   "execution_count": 19,
   "id": "f6df24e6",
   "metadata": {
    "execution": {
     "iopub.execute_input": "2024-06-24T09:48:11.321946Z",
     "iopub.status.busy": "2024-06-24T09:48:11.321532Z",
     "iopub.status.idle": "2024-06-24T09:48:11.327663Z",
     "shell.execute_reply": "2024-06-24T09:48:11.326327Z"
    },
    "papermill": {
     "duration": 0.045899,
     "end_time": "2024-06-24T09:48:11.330083",
     "exception": false,
     "start_time": "2024-06-24T09:48:11.284184",
     "status": "completed"
    },
    "tags": []
   },
   "outputs": [],
   "source": [
    "\n",
    "def extract_date(d):\n",
    "    date=d.split(' ')[0]\n",
    "    \n",
    "    \n",
    "    date=pd.to_datetime(date).date()\n",
    "    \n",
    "    \n",
    "    return date\n",
    "    "
   ]
  },
  {
   "cell_type": "code",
   "execution_count": 20,
   "id": "c9c6a723",
   "metadata": {
    "execution": {
     "iopub.execute_input": "2024-06-24T09:48:11.405160Z",
     "iopub.status.busy": "2024-06-24T09:48:11.404740Z",
     "iopub.status.idle": "2024-06-24T09:48:33.083427Z",
     "shell.execute_reply": "2024-06-24T09:48:33.082096Z"
    },
    "papermill": {
     "duration": 21.720125,
     "end_time": "2024-06-24T09:48:33.086270",
     "exception": false,
     "start_time": "2024-06-24T09:48:11.366145",
     "status": "completed"
    },
    "tags": []
   },
   "outputs": [],
   "source": [
    "train['Date_Reported']=train['Date_Reported'].apply(extract_date)\n",
    "train['Date_Occurred']=train['Date_Occurred'].apply(extract_date)\n"
   ]
  },
  {
   "cell_type": "code",
   "execution_count": 21,
   "id": "b17f58d4",
   "metadata": {
    "execution": {
     "iopub.execute_input": "2024-06-24T09:48:33.160276Z",
     "iopub.status.busy": "2024-06-24T09:48:33.159812Z",
     "iopub.status.idle": "2024-06-24T09:48:33.167747Z",
     "shell.execute_reply": "2024-06-24T09:48:33.166702Z"
    },
    "papermill": {
     "duration": 0.047969,
     "end_time": "2024-06-24T09:48:33.170420",
     "exception": false,
     "start_time": "2024-06-24T09:48:33.122451",
     "status": "completed"
    },
    "tags": []
   },
   "outputs": [
    {
     "data": {
      "text/plain": [
       "datetime.date"
      ]
     },
     "execution_count": 21,
     "metadata": {},
     "output_type": "execute_result"
    }
   ],
   "source": [
    "type(train['Date_Reported'][0])"
   ]
  },
  {
   "cell_type": "code",
   "execution_count": 22,
   "id": "193c803f",
   "metadata": {
    "execution": {
     "iopub.execute_input": "2024-06-24T09:48:33.247930Z",
     "iopub.status.busy": "2024-06-24T09:48:33.247520Z",
     "iopub.status.idle": "2024-06-24T09:48:33.256158Z",
     "shell.execute_reply": "2024-06-24T09:48:33.254693Z"
    },
    "papermill": {
     "duration": 0.051668,
     "end_time": "2024-06-24T09:48:33.258711",
     "exception": false,
     "start_time": "2024-06-24T09:48:33.207043",
     "status": "completed"
    },
    "tags": []
   },
   "outputs": [
    {
     "data": {
      "text/plain": [
       "3"
      ]
     },
     "execution_count": 22,
     "metadata": {},
     "output_type": "execute_result"
    }
   ],
   "source": [
    "k=train['Date_Reported'][0]-train['Date_Occurred'][0]\n",
    "k.days"
   ]
  },
  {
   "cell_type": "code",
   "execution_count": 23,
   "id": "869844c8",
   "metadata": {
    "execution": {
     "iopub.execute_input": "2024-06-24T09:48:33.334334Z",
     "iopub.status.busy": "2024-06-24T09:48:33.333873Z",
     "iopub.status.idle": "2024-06-24T09:48:33.383202Z",
     "shell.execute_reply": "2024-06-24T09:48:33.381679Z"
    },
    "papermill": {
     "duration": 0.091222,
     "end_time": "2024-06-24T09:48:33.386701",
     "exception": false,
     "start_time": "2024-06-24T09:48:33.295479",
     "status": "completed"
    },
    "tags": []
   },
   "outputs": [],
   "source": [
    "train['Date_Reported']=pd.to_datetime(train['Date_Reported']).dt.date\n",
    "train['Date_Occurred']=pd.to_datetime(train['Date_Occurred']).dt.date\n",
    "\n",
    "train['reporting_delay_day_count']=(train['Date_Reported']-train['Date_Occurred'])"
   ]
  },
  {
   "cell_type": "code",
   "execution_count": 24,
   "id": "e2680d45",
   "metadata": {
    "execution": {
     "iopub.execute_input": "2024-06-24T09:48:33.463189Z",
     "iopub.status.busy": "2024-06-24T09:48:33.462618Z",
     "iopub.status.idle": "2024-06-24T09:48:33.485921Z",
     "shell.execute_reply": "2024-06-24T09:48:33.484596Z"
    },
    "papermill": {
     "duration": 0.064265,
     "end_time": "2024-06-24T09:48:33.488960",
     "exception": false,
     "start_time": "2024-06-24T09:48:33.424695",
     "status": "completed"
    },
    "tags": []
   },
   "outputs": [],
   "source": [
    "def day_count(d):\n",
    "    return d.days\n",
    "train['reporting_delay_day_count']=train['reporting_delay_day_count'].apply(day_count)"
   ]
  },
  {
   "cell_type": "code",
   "execution_count": 25,
   "id": "ba618753",
   "metadata": {
    "execution": {
     "iopub.execute_input": "2024-06-24T09:48:33.565084Z",
     "iopub.status.busy": "2024-06-24T09:48:33.564638Z",
     "iopub.status.idle": "2024-06-24T09:48:33.574249Z",
     "shell.execute_reply": "2024-06-24T09:48:33.572974Z"
    },
    "papermill": {
     "duration": 0.050312,
     "end_time": "2024-06-24T09:48:33.576606",
     "exception": false,
     "start_time": "2024-06-24T09:48:33.526294",
     "status": "completed"
    },
    "tags": []
   },
   "outputs": [
    {
     "data": {
      "text/plain": [
       "0        3\n",
       "1        0\n",
       "2        0\n",
       "3        2\n",
       "4        0\n",
       "        ..\n",
       "19995    0\n",
       "19996    0\n",
       "19997    0\n",
       "19998    0\n",
       "19999    1\n",
       "Name: reporting_delay_day_count, Length: 20000, dtype: int64"
      ]
     },
     "execution_count": 25,
     "metadata": {},
     "output_type": "execute_result"
    }
   ],
   "source": [
    "train['reporting_delay_day_count']"
   ]
  },
  {
   "cell_type": "code",
   "execution_count": 26,
   "id": "154f3479",
   "metadata": {
    "execution": {
     "iopub.execute_input": "2024-06-24T09:48:33.652728Z",
     "iopub.status.busy": "2024-06-24T09:48:33.652282Z",
     "iopub.status.idle": "2024-06-24T09:48:33.696006Z",
     "shell.execute_reply": "2024-06-24T09:48:33.694347Z"
    },
    "papermill": {
     "duration": 0.08515,
     "end_time": "2024-06-24T09:48:33.699059",
     "exception": false,
     "start_time": "2024-06-24T09:48:33.613909",
     "status": "completed"
    },
    "tags": []
   },
   "outputs": [
    {
     "name": "stdout",
     "output_type": "stream",
     "text": [
      "<class 'pandas.core.frame.DataFrame'>\n",
      "RangeIndex: 20000 entries, 0 to 19999\n",
      "Data columns (total 24 columns):\n",
      " #   Column                     Non-Null Count  Dtype  \n",
      "---  ------                     --------------  -----  \n",
      " 0   Location                   20000 non-null  object \n",
      " 1   Cross_Street               3448 non-null   object \n",
      " 2   Latitude                   20000 non-null  float64\n",
      " 3   Longitude                  20000 non-null  float64\n",
      " 4   Date_Reported              20000 non-null  object \n",
      " 5   Date_Occurred              20000 non-null  object \n",
      " 6   Time_Occurred              20000 non-null  float64\n",
      " 7   Area_ID                    20000 non-null  float64\n",
      " 8   Area_Name                  20000 non-null  object \n",
      " 9   Reporting_District_no      20000 non-null  float64\n",
      " 10  Part 1-2                   20000 non-null  float64\n",
      " 11  Modus_Operandi             17259 non-null  object \n",
      " 12  Victim_Age                 20000 non-null  float64\n",
      " 13  Victim_Sex                 17376 non-null  object \n",
      " 14  Victim_Descent             17376 non-null  object \n",
      " 15  Premise_Code               20000 non-null  float64\n",
      " 16  Premise_Description        19995 non-null  object \n",
      " 17  Weapon_Used_Code           7335 non-null   float64\n",
      " 18  Weapon_Description         7335 non-null   object \n",
      " 19  Status                     20000 non-null  object \n",
      " 20  Status_Description         20000 non-null  object \n",
      " 21  Crime_Category             20000 non-null  object \n",
      " 22  day_category               20000 non-null  object \n",
      " 23  reporting_delay_day_count  20000 non-null  int64  \n",
      "dtypes: float64(9), int64(1), object(14)\n",
      "memory usage: 3.7+ MB\n"
     ]
    }
   ],
   "source": [
    "train.info()"
   ]
  },
  {
   "cell_type": "code",
   "execution_count": 27,
   "id": "b8d12358",
   "metadata": {
    "execution": {
     "iopub.execute_input": "2024-06-24T09:48:33.776961Z",
     "iopub.status.busy": "2024-06-24T09:48:33.776536Z",
     "iopub.status.idle": "2024-06-24T09:48:33.790196Z",
     "shell.execute_reply": "2024-06-24T09:48:33.788929Z"
    },
    "papermill": {
     "duration": 0.055881,
     "end_time": "2024-06-24T09:48:33.792801",
     "exception": false,
     "start_time": "2024-06-24T09:48:33.736920",
     "status": "completed"
    },
    "tags": []
   },
   "outputs": [
    {
     "data": {
      "text/plain": [
       "Premise_Description\n",
       "STREET                                          5033\n",
       "SINGLE FAMILY DWELLING                          3379\n",
       "MULTI-UNIT DWELLING (APARTMENT, DUPLEX, ETC)    2491\n",
       "PARKING LOT                                     1437\n",
       "SIDEWALK                                         978\n",
       "                                                ... \n",
       "BUS DEPOT/TERMINAL, OTHER THAN MTA                 1\n",
       "MTA - RED LINE - HOLLYWOOD/WESTERN                 1\n",
       "MTA - SILVER LINE - ROSECRANS                      1\n",
       "HIGH-RISE BUILDING                                 1\n",
       "COMPUTER SERVICES/REPAIRS/SALES                    1\n",
       "Name: count, Length: 216, dtype: int64"
      ]
     },
     "execution_count": 27,
     "metadata": {},
     "output_type": "execute_result"
    }
   ],
   "source": [
    "train['Premise_Description'].value_counts()"
   ]
  },
  {
   "cell_type": "code",
   "execution_count": 28,
   "id": "8e466a50",
   "metadata": {
    "execution": {
     "iopub.execute_input": "2024-06-24T09:48:33.868366Z",
     "iopub.status.busy": "2024-06-24T09:48:33.867904Z",
     "iopub.status.idle": "2024-06-24T09:48:33.877411Z",
     "shell.execute_reply": "2024-06-24T09:48:33.876090Z"
    },
    "papermill": {
     "duration": 0.050481,
     "end_time": "2024-06-24T09:48:33.880072",
     "exception": false,
     "start_time": "2024-06-24T09:48:33.829591",
     "status": "completed"
    },
    "tags": []
   },
   "outputs": [],
   "source": [
    "k=train['Premise_Description'].value_counts()"
   ]
  },
  {
   "cell_type": "code",
   "execution_count": 29,
   "id": "92cc0ceb",
   "metadata": {
    "execution": {
     "iopub.execute_input": "2024-06-24T09:48:33.957870Z",
     "iopub.status.busy": "2024-06-24T09:48:33.957423Z",
     "iopub.status.idle": "2024-06-24T09:48:33.965075Z",
     "shell.execute_reply": "2024-06-24T09:48:33.963973Z"
    },
    "papermill": {
     "duration": 0.049915,
     "end_time": "2024-06-24T09:48:33.967545",
     "exception": false,
     "start_time": "2024-06-24T09:48:33.917630",
     "status": "completed"
    },
    "tags": []
   },
   "outputs": [
    {
     "data": {
      "text/plain": [
       "'SINGLE FAMILY DWELLING'"
      ]
     },
     "execution_count": 29,
     "metadata": {},
     "output_type": "execute_result"
    }
   ],
   "source": [
    "train['Premise_Description'][2]"
   ]
  },
  {
   "cell_type": "code",
   "execution_count": 30,
   "id": "00c7adbd",
   "metadata": {
    "execution": {
     "iopub.execute_input": "2024-06-24T09:48:34.043367Z",
     "iopub.status.busy": "2024-06-24T09:48:34.042882Z",
     "iopub.status.idle": "2024-06-24T09:48:34.050448Z",
     "shell.execute_reply": "2024-06-24T09:48:34.049291Z"
    },
    "papermill": {
     "duration": 0.048753,
     "end_time": "2024-06-24T09:48:34.053327",
     "exception": false,
     "start_time": "2024-06-24T09:48:34.004574",
     "status": "completed"
    },
    "tags": []
   },
   "outputs": [
    {
     "name": "stdout",
     "output_type": "stream",
     "text": [
      "Premise_Description\n",
      "DELIVERY SERVICE (FED EX, UPS, COURIERS,COURIER SERVICE)*    7\n",
      "MTA - RED LINE - UNION STATION                               6\n",
      "HARDWARE/BUILDING SUPPLY                                     6\n",
      "BAR/SPORTS BAR (OPEN DAY & NIGHT)                            6\n",
      "THE BEVERLY CONNECTION                                       6\n",
      "NAIL SALON                                                   6\n",
      "PHARMACY INSIDE STORE OR SUPERMARKET*                        6\n",
      "CHECK CASHING*                                               6\n",
      "NIGHT CLUB (OPEN EVENINGS ONLY)                              6\n",
      "ELEVATOR                                                     5\n",
      "Name: count, dtype: int64\n"
     ]
    }
   ],
   "source": [
    "print(k[90:100])"
   ]
  },
  {
   "cell_type": "code",
   "execution_count": 31,
   "id": "15e5038d",
   "metadata": {
    "execution": {
     "iopub.execute_input": "2024-06-24T09:48:34.130620Z",
     "iopub.status.busy": "2024-06-24T09:48:34.130184Z",
     "iopub.status.idle": "2024-06-24T09:48:34.140056Z",
     "shell.execute_reply": "2024-06-24T09:48:34.138621Z"
    },
    "papermill": {
     "duration": 0.05247,
     "end_time": "2024-06-24T09:48:34.143255",
     "exception": false,
     "start_time": "2024-06-24T09:48:34.090785",
     "status": "completed"
    },
    "tags": []
   },
   "outputs": [
    {
     "data": {
      "text/plain": [
       "0                        STREET\n",
       "1                     SWAP MEET\n",
       "2        SINGLE FAMILY DWELLING\n",
       "3                        STREET\n",
       "4                     MINI-MART\n",
       "                  ...          \n",
       "19995    SINGLE FAMILY DWELLING\n",
       "19996               GAS STATION\n",
       "19997                  SIDEWALK\n",
       "19998    SINGLE FAMILY DWELLING\n",
       "19999                    STREET\n",
       "Name: Premise_Description, Length: 20000, dtype: object"
      ]
     },
     "execution_count": 31,
     "metadata": {},
     "output_type": "execute_result"
    }
   ],
   "source": [
    "train['Premise_Description']"
   ]
  },
  {
   "cell_type": "code",
   "execution_count": 32,
   "id": "e8b3a846",
   "metadata": {
    "execution": {
     "iopub.execute_input": "2024-06-24T09:48:34.221890Z",
     "iopub.status.busy": "2024-06-24T09:48:34.221462Z",
     "iopub.status.idle": "2024-06-24T09:48:34.230346Z",
     "shell.execute_reply": "2024-06-24T09:48:34.229185Z"
    },
    "papermill": {
     "duration": 0.051979,
     "end_time": "2024-06-24T09:48:34.232925",
     "exception": false,
     "start_time": "2024-06-24T09:48:34.180946",
     "status": "completed"
    },
    "tags": []
   },
   "outputs": [],
   "source": [
    "df=train[['Latitude','Longitude','reporting_delay_day_count','day_category','Victim_Age','Victim_Sex','Victim_Descent','Premise_Code','Weapon_Description','Weapon_Used_Code','Area_ID','Modus_Operandi','Part 1-2','Status','Crime_Category']]"
   ]
  },
  {
   "cell_type": "code",
   "execution_count": 33,
   "id": "b8077495",
   "metadata": {
    "execution": {
     "iopub.execute_input": "2024-06-24T09:48:34.309830Z",
     "iopub.status.busy": "2024-06-24T09:48:34.309409Z",
     "iopub.status.idle": "2024-06-24T09:48:34.334398Z",
     "shell.execute_reply": "2024-06-24T09:48:34.333152Z"
    },
    "papermill": {
     "duration": 0.066826,
     "end_time": "2024-06-24T09:48:34.337116",
     "exception": false,
     "start_time": "2024-06-24T09:48:34.270290",
     "status": "completed"
    },
    "tags": []
   },
   "outputs": [
    {
     "data": {
      "text/plain": [
       "Latitude                         0\n",
       "Longitude                        0\n",
       "reporting_delay_day_count        0\n",
       "day_category                     0\n",
       "Victim_Age                       0\n",
       "Victim_Sex                    2624\n",
       "Victim_Descent                2624\n",
       "Premise_Code                     0\n",
       "Weapon_Description           12665\n",
       "Weapon_Used_Code             12665\n",
       "Area_ID                          0\n",
       "Modus_Operandi                2741\n",
       "Part 1-2                         0\n",
       "Status                           0\n",
       "Crime_Category                   0\n",
       "dtype: int64"
      ]
     },
     "execution_count": 33,
     "metadata": {},
     "output_type": "execute_result"
    }
   ],
   "source": [
    "df.isnull().sum()"
   ]
  },
  {
   "cell_type": "code",
   "execution_count": 34,
   "id": "5c00a127",
   "metadata": {
    "execution": {
     "iopub.execute_input": "2024-06-24T09:48:34.415216Z",
     "iopub.status.busy": "2024-06-24T09:48:34.414776Z",
     "iopub.status.idle": "2024-06-24T09:48:34.427512Z",
     "shell.execute_reply": "2024-06-24T09:48:34.426221Z"
    },
    "papermill": {
     "duration": 0.055368,
     "end_time": "2024-06-24T09:48:34.430198",
     "exception": false,
     "start_time": "2024-06-24T09:48:34.374830",
     "status": "completed"
    },
    "tags": []
   },
   "outputs": [
    {
     "data": {
      "text/plain": [
       "Victim_Sex\n",
       "M    8538\n",
       "F    7176\n",
       "X    1660\n",
       "H       2\n",
       "Name: count, dtype: int64"
      ]
     },
     "execution_count": 34,
     "metadata": {},
     "output_type": "execute_result"
    }
   ],
   "source": [
    "df['Victim_Sex'].value_counts()"
   ]
  },
  {
   "cell_type": "code",
   "execution_count": 35,
   "id": "9067b255",
   "metadata": {
    "execution": {
     "iopub.execute_input": "2024-06-24T09:48:34.509843Z",
     "iopub.status.busy": "2024-06-24T09:48:34.509410Z",
     "iopub.status.idle": "2024-06-24T09:48:34.540415Z",
     "shell.execute_reply": "2024-06-24T09:48:34.538943Z"
    },
    "papermill": {
     "duration": 0.074179,
     "end_time": "2024-06-24T09:48:34.543299",
     "exception": false,
     "start_time": "2024-06-24T09:48:34.469120",
     "status": "completed"
    },
    "tags": []
   },
   "outputs": [],
   "source": [
    "def victim_gender(val):\n",
    "    if val=='H' or pd.isna(val):\n",
    "        val='X'\n",
    "    return val\n",
    "\n",
    "\n",
    "df.loc[:,'Victim_Sex'] = df['Victim_Sex'].apply(victim_gender)"
   ]
  },
  {
   "cell_type": "code",
   "execution_count": 36,
   "id": "0ff13f53",
   "metadata": {
    "execution": {
     "iopub.execute_input": "2024-06-24T09:48:34.622277Z",
     "iopub.status.busy": "2024-06-24T09:48:34.621823Z",
     "iopub.status.idle": "2024-06-24T09:48:34.652511Z",
     "shell.execute_reply": "2024-06-24T09:48:34.651205Z"
    },
    "papermill": {
     "duration": 0.073639,
     "end_time": "2024-06-24T09:48:34.655261",
     "exception": false,
     "start_time": "2024-06-24T09:48:34.581622",
     "status": "completed"
    },
    "tags": []
   },
   "outputs": [
    {
     "data": {
      "text/html": [
       "<div>\n",
       "<style scoped>\n",
       "    .dataframe tbody tr th:only-of-type {\n",
       "        vertical-align: middle;\n",
       "    }\n",
       "\n",
       "    .dataframe tbody tr th {\n",
       "        vertical-align: top;\n",
       "    }\n",
       "\n",
       "    .dataframe thead th {\n",
       "        text-align: right;\n",
       "    }\n",
       "</style>\n",
       "<table border=\"1\" class=\"dataframe\">\n",
       "  <thead>\n",
       "    <tr style=\"text-align: right;\">\n",
       "      <th></th>\n",
       "      <th>Latitude</th>\n",
       "      <th>Longitude</th>\n",
       "      <th>reporting_delay_day_count</th>\n",
       "      <th>day_category</th>\n",
       "      <th>Victim_Age</th>\n",
       "      <th>Victim_Sex</th>\n",
       "      <th>Victim_Descent</th>\n",
       "      <th>Premise_Code</th>\n",
       "      <th>Weapon_Description</th>\n",
       "      <th>Weapon_Used_Code</th>\n",
       "      <th>Area_ID</th>\n",
       "      <th>Modus_Operandi</th>\n",
       "      <th>Part 1-2</th>\n",
       "      <th>Status</th>\n",
       "      <th>Crime_Category</th>\n",
       "    </tr>\n",
       "  </thead>\n",
       "  <tbody>\n",
       "    <tr>\n",
       "      <th>0</th>\n",
       "      <td>34.1522</td>\n",
       "      <td>-118.3910</td>\n",
       "      <td>3</td>\n",
       "      <td>Evening</td>\n",
       "      <td>75.0</td>\n",
       "      <td>M</td>\n",
       "      <td>W</td>\n",
       "      <td>101.0</td>\n",
       "      <td>NaN</td>\n",
       "      <td>NaN</td>\n",
       "      <td>15.0</td>\n",
       "      <td>0385</td>\n",
       "      <td>1.0</td>\n",
       "      <td>IC</td>\n",
       "      <td>Property Crimes</td>\n",
       "    </tr>\n",
       "    <tr>\n",
       "      <th>1</th>\n",
       "      <td>34.0028</td>\n",
       "      <td>-118.2391</td>\n",
       "      <td>0</td>\n",
       "      <td>Daytime</td>\n",
       "      <td>41.0</td>\n",
       "      <td>M</td>\n",
       "      <td>H</td>\n",
       "      <td>216.0</td>\n",
       "      <td>STRONG-ARM (HANDS, FIST, FEET OR BODILY FORCE)</td>\n",
       "      <td>400.0</td>\n",
       "      <td>13.0</td>\n",
       "      <td>0906 0352 0371 0446 1822 0344 0416 0417</td>\n",
       "      <td>1.0</td>\n",
       "      <td>IC</td>\n",
       "      <td>Property Crimes</td>\n",
       "    </tr>\n",
       "    <tr>\n",
       "      <th>2</th>\n",
       "      <td>34.0111</td>\n",
       "      <td>-118.2653</td>\n",
       "      <td>0</td>\n",
       "      <td>Morning</td>\n",
       "      <td>67.0</td>\n",
       "      <td>M</td>\n",
       "      <td>B</td>\n",
       "      <td>501.0</td>\n",
       "      <td>NaN</td>\n",
       "      <td>NaN</td>\n",
       "      <td>13.0</td>\n",
       "      <td>0329 1202</td>\n",
       "      <td>2.0</td>\n",
       "      <td>IC</td>\n",
       "      <td>Property Crimes</td>\n",
       "    </tr>\n",
       "    <tr>\n",
       "      <th>3</th>\n",
       "      <td>34.2953</td>\n",
       "      <td>-118.4590</td>\n",
       "      <td>2</td>\n",
       "      <td>Evening</td>\n",
       "      <td>61.0</td>\n",
       "      <td>M</td>\n",
       "      <td>H</td>\n",
       "      <td>101.0</td>\n",
       "      <td>NaN</td>\n",
       "      <td>NaN</td>\n",
       "      <td>19.0</td>\n",
       "      <td>0329 1300</td>\n",
       "      <td>1.0</td>\n",
       "      <td>IC</td>\n",
       "      <td>Property Crimes</td>\n",
       "    </tr>\n",
       "    <tr>\n",
       "      <th>4</th>\n",
       "      <td>33.9787</td>\n",
       "      <td>-118.2918</td>\n",
       "      <td>0</td>\n",
       "      <td>Morning</td>\n",
       "      <td>0.0</td>\n",
       "      <td>X</td>\n",
       "      <td>X</td>\n",
       "      <td>401.0</td>\n",
       "      <td>STRONG-ARM (HANDS, FIST, FEET OR BODILY FORCE)</td>\n",
       "      <td>400.0</td>\n",
       "      <td>12.0</td>\n",
       "      <td>0416 0945 1822 0400 0417 0344</td>\n",
       "      <td>1.0</td>\n",
       "      <td>IC</td>\n",
       "      <td>Property Crimes</td>\n",
       "    </tr>\n",
       "    <tr>\n",
       "      <th>...</th>\n",
       "      <td>...</td>\n",
       "      <td>...</td>\n",
       "      <td>...</td>\n",
       "      <td>...</td>\n",
       "      <td>...</td>\n",
       "      <td>...</td>\n",
       "      <td>...</td>\n",
       "      <td>...</td>\n",
       "      <td>...</td>\n",
       "      <td>...</td>\n",
       "      <td>...</td>\n",
       "      <td>...</td>\n",
       "      <td>...</td>\n",
       "      <td>...</td>\n",
       "      <td>...</td>\n",
       "    </tr>\n",
       "    <tr>\n",
       "      <th>19995</th>\n",
       "      <td>34.0334</td>\n",
       "      <td>-118.3523</td>\n",
       "      <td>0</td>\n",
       "      <td>Morning</td>\n",
       "      <td>51.0</td>\n",
       "      <td>M</td>\n",
       "      <td>H</td>\n",
       "      <td>501.0</td>\n",
       "      <td>STRONG-ARM (HANDS, FIST, FEET OR BODILY FORCE)</td>\n",
       "      <td>400.0</td>\n",
       "      <td>3.0</td>\n",
       "      <td>0416 0446 2004 0913</td>\n",
       "      <td>2.0</td>\n",
       "      <td>IC</td>\n",
       "      <td>Violent Crimes</td>\n",
       "    </tr>\n",
       "    <tr>\n",
       "      <th>19996</th>\n",
       "      <td>34.2212</td>\n",
       "      <td>-118.5011</td>\n",
       "      <td>0</td>\n",
       "      <td>Night</td>\n",
       "      <td>0.0</td>\n",
       "      <td>M</td>\n",
       "      <td>W</td>\n",
       "      <td>301.0</td>\n",
       "      <td>NaN</td>\n",
       "      <td>NaN</td>\n",
       "      <td>10.0</td>\n",
       "      <td>1822 0209 0344 1414 1420</td>\n",
       "      <td>1.0</td>\n",
       "      <td>IC</td>\n",
       "      <td>Property Crimes</td>\n",
       "    </tr>\n",
       "    <tr>\n",
       "      <th>19997</th>\n",
       "      <td>34.0571</td>\n",
       "      <td>-118.3815</td>\n",
       "      <td>0</td>\n",
       "      <td>Daytime</td>\n",
       "      <td>42.0</td>\n",
       "      <td>M</td>\n",
       "      <td>H</td>\n",
       "      <td>102.0</td>\n",
       "      <td>NaN</td>\n",
       "      <td>NaN</td>\n",
       "      <td>8.0</td>\n",
       "      <td>0344 1822 1420</td>\n",
       "      <td>1.0</td>\n",
       "      <td>IC</td>\n",
       "      <td>Property Crimes</td>\n",
       "    </tr>\n",
       "    <tr>\n",
       "      <th>19998</th>\n",
       "      <td>33.7451</td>\n",
       "      <td>-118.2835</td>\n",
       "      <td>0</td>\n",
       "      <td>Morning</td>\n",
       "      <td>76.0</td>\n",
       "      <td>F</td>\n",
       "      <td>H</td>\n",
       "      <td>501.0</td>\n",
       "      <td>NaN</td>\n",
       "      <td>NaN</td>\n",
       "      <td>5.0</td>\n",
       "      <td>1202 2038 0913 0602 1242 0553</td>\n",
       "      <td>2.0</td>\n",
       "      <td>IC</td>\n",
       "      <td>Crimes against Public Order</td>\n",
       "    </tr>\n",
       "    <tr>\n",
       "      <th>19999</th>\n",
       "      <td>34.0037</td>\n",
       "      <td>-118.3034</td>\n",
       "      <td>1</td>\n",
       "      <td>Evening</td>\n",
       "      <td>0.0</td>\n",
       "      <td>X</td>\n",
       "      <td>NaN</td>\n",
       "      <td>101.0</td>\n",
       "      <td>NaN</td>\n",
       "      <td>NaN</td>\n",
       "      <td>3.0</td>\n",
       "      <td>NaN</td>\n",
       "      <td>1.0</td>\n",
       "      <td>IC</td>\n",
       "      <td>Property Crimes</td>\n",
       "    </tr>\n",
       "  </tbody>\n",
       "</table>\n",
       "<p>20000 rows × 15 columns</p>\n",
       "</div>"
      ],
      "text/plain": [
       "       Latitude  Longitude  reporting_delay_day_count day_category  \\\n",
       "0       34.1522  -118.3910                          3      Evening   \n",
       "1       34.0028  -118.2391                          0      Daytime   \n",
       "2       34.0111  -118.2653                          0      Morning   \n",
       "3       34.2953  -118.4590                          2      Evening   \n",
       "4       33.9787  -118.2918                          0      Morning   \n",
       "...         ...        ...                        ...          ...   \n",
       "19995   34.0334  -118.3523                          0      Morning   \n",
       "19996   34.2212  -118.5011                          0        Night   \n",
       "19997   34.0571  -118.3815                          0      Daytime   \n",
       "19998   33.7451  -118.2835                          0      Morning   \n",
       "19999   34.0037  -118.3034                          1      Evening   \n",
       "\n",
       "       Victim_Age Victim_Sex Victim_Descent  Premise_Code  \\\n",
       "0            75.0          M              W         101.0   \n",
       "1            41.0          M              H         216.0   \n",
       "2            67.0          M              B         501.0   \n",
       "3            61.0          M              H         101.0   \n",
       "4             0.0          X              X         401.0   \n",
       "...           ...        ...            ...           ...   \n",
       "19995        51.0          M              H         501.0   \n",
       "19996         0.0          M              W         301.0   \n",
       "19997        42.0          M              H         102.0   \n",
       "19998        76.0          F              H         501.0   \n",
       "19999         0.0          X            NaN         101.0   \n",
       "\n",
       "                                   Weapon_Description  Weapon_Used_Code  \\\n",
       "0                                                 NaN               NaN   \n",
       "1      STRONG-ARM (HANDS, FIST, FEET OR BODILY FORCE)             400.0   \n",
       "2                                                 NaN               NaN   \n",
       "3                                                 NaN               NaN   \n",
       "4      STRONG-ARM (HANDS, FIST, FEET OR BODILY FORCE)             400.0   \n",
       "...                                               ...               ...   \n",
       "19995  STRONG-ARM (HANDS, FIST, FEET OR BODILY FORCE)             400.0   \n",
       "19996                                             NaN               NaN   \n",
       "19997                                             NaN               NaN   \n",
       "19998                                             NaN               NaN   \n",
       "19999                                             NaN               NaN   \n",
       "\n",
       "       Area_ID                           Modus_Operandi  Part 1-2 Status  \\\n",
       "0         15.0                                     0385       1.0     IC   \n",
       "1         13.0  0906 0352 0371 0446 1822 0344 0416 0417       1.0     IC   \n",
       "2         13.0                                0329 1202       2.0     IC   \n",
       "3         19.0                                0329 1300       1.0     IC   \n",
       "4         12.0            0416 0945 1822 0400 0417 0344       1.0     IC   \n",
       "...        ...                                      ...       ...    ...   \n",
       "19995      3.0                      0416 0446 2004 0913       2.0     IC   \n",
       "19996     10.0                 1822 0209 0344 1414 1420       1.0     IC   \n",
       "19997      8.0                           0344 1822 1420       1.0     IC   \n",
       "19998      5.0            1202 2038 0913 0602 1242 0553       2.0     IC   \n",
       "19999      3.0                                      NaN       1.0     IC   \n",
       "\n",
       "                    Crime_Category  \n",
       "0                  Property Crimes  \n",
       "1                  Property Crimes  \n",
       "2                  Property Crimes  \n",
       "3                  Property Crimes  \n",
       "4                  Property Crimes  \n",
       "...                            ...  \n",
       "19995               Violent Crimes  \n",
       "19996              Property Crimes  \n",
       "19997              Property Crimes  \n",
       "19998  Crimes against Public Order  \n",
       "19999              Property Crimes  \n",
       "\n",
       "[20000 rows x 15 columns]"
      ]
     },
     "execution_count": 36,
     "metadata": {},
     "output_type": "execute_result"
    }
   ],
   "source": [
    "df"
   ]
  },
  {
   "cell_type": "code",
   "execution_count": 37,
   "id": "96441606",
   "metadata": {
    "execution": {
     "iopub.execute_input": "2024-06-24T09:48:34.734410Z",
     "iopub.status.busy": "2024-06-24T09:48:34.733951Z",
     "iopub.status.idle": "2024-06-24T09:48:34.746532Z",
     "shell.execute_reply": "2024-06-24T09:48:34.745325Z"
    },
    "papermill": {
     "duration": 0.055002,
     "end_time": "2024-06-24T09:48:34.749059",
     "exception": false,
     "start_time": "2024-06-24T09:48:34.694057",
     "status": "completed"
    },
    "tags": []
   },
   "outputs": [
    {
     "data": {
      "text/plain": [
       "Victim_Sex\n",
       "M    8538\n",
       "F    7176\n",
       "X    4286\n",
       "Name: count, dtype: int64"
      ]
     },
     "execution_count": 37,
     "metadata": {},
     "output_type": "execute_result"
    }
   ],
   "source": [
    "df['Victim_Sex'].value_counts()"
   ]
  },
  {
   "cell_type": "code",
   "execution_count": 38,
   "id": "9e8c2c1d",
   "metadata": {
    "execution": {
     "iopub.execute_input": "2024-06-24T09:48:34.829215Z",
     "iopub.status.busy": "2024-06-24T09:48:34.828756Z",
     "iopub.status.idle": "2024-06-24T09:48:34.838099Z",
     "shell.execute_reply": "2024-06-24T09:48:34.836866Z"
    },
    "papermill": {
     "duration": 0.053522,
     "end_time": "2024-06-24T09:48:34.840961",
     "exception": false,
     "start_time": "2024-06-24T09:48:34.787439",
     "status": "completed"
    },
    "tags": []
   },
   "outputs": [
    {
     "data": {
      "text/plain": [
       "array(['W', 'H', 'B', 'X', nan, 'O', 'A', 'K', 'C', 'F', 'I', 'J', 'Z',\n",
       "       'V', 'P', 'D', 'U', 'G'], dtype=object)"
      ]
     },
     "execution_count": 38,
     "metadata": {},
     "output_type": "execute_result"
    }
   ],
   "source": [
    "df['Victim_Descent'].unique()"
   ]
  },
  {
   "cell_type": "code",
   "execution_count": 39,
   "id": "4d530098",
   "metadata": {
    "execution": {
     "iopub.execute_input": "2024-06-24T09:48:34.920960Z",
     "iopub.status.busy": "2024-06-24T09:48:34.920467Z",
     "iopub.status.idle": "2024-06-24T09:48:34.938538Z",
     "shell.execute_reply": "2024-06-24T09:48:34.937318Z"
    },
    "papermill": {
     "duration": 0.061605,
     "end_time": "2024-06-24T09:48:34.941492",
     "exception": false,
     "start_time": "2024-06-24T09:48:34.879887",
     "status": "completed"
    },
    "tags": []
   },
   "outputs": [
    {
     "data": {
      "text/plain": [
       "Weapon_Description                            \n",
       "STRONG-ARM (HANDS, FIST, FEET OR BODILY FORCE)    0.543967\n",
       "UNKNOWN WEAPON/OTHER WEAPON                       0.107566\n",
       "VERBAL THREAT                                     0.074438\n",
       "HAND GUN                                          0.052897\n",
       "KNIFE WITH BLADE 6INCHES OR LESS                  0.021813\n",
       "SEMI-AUTOMATIC PISTOL                             0.020995\n",
       "UNKNOWN FIREARM                                   0.017860\n",
       "OTHER KNIFE                                       0.017042\n",
       "VEHICLE                                           0.011452\n",
       "MACE/PEPPER SPRAY                                 0.010907\n",
       "ROCK/THROWN OBJECT                                0.008589\n",
       "BOTTLE                                            0.007498\n",
       "PIPE/METAL PIPE                                   0.007089\n",
       "CLUB/BAT                                          0.006953\n",
       "STICK                                             0.006680\n",
       "KITCHEN KNIFE                                     0.006135\n",
       "KNIFE WITH BLADE OVER 6 INCHES IN LENGTH          0.005862\n",
       "AIR PISTOL/REVOLVER/RIFLE/BB GUN                  0.005590\n",
       "FOLDING KNIFE                                     0.005044\n",
       "BLUNT INSTRUMENT                                  0.005044\n",
       "SIMULATED GUN                                     0.004772\n",
       "REVOLVER                                          0.004635\n",
       "BELT FLAILING INSTRUMENT/CHAIN                    0.003545\n",
       "CONCRETE BLOCK/BRICK                              0.003545\n",
       "MACHETE                                           0.003408\n",
       "UNKNOWN TYPE CUTTING INSTRUMENT                   0.003272\n",
       "SCREWDRIVER                                       0.003136\n",
       "HAMMER                                            0.003136\n",
       "FIRE                                              0.002999\n",
       "PHYSICAL PRESENCE                                 0.002454\n",
       "OTHER FIREARM                                     0.002454\n",
       "OTHER CUTTING INSTRUMENT                          0.002318\n",
       "FIXED OBJECT                                      0.002181\n",
       "GLASS                                             0.001909\n",
       "SCISSORS                                          0.001772\n",
       "RIFLE                                             0.001636\n",
       "BOARD                                             0.001500\n",
       "TOY GUN                                           0.001091\n",
       "SHOTGUN                                           0.000954\n",
       "TIRE IRON                                         0.000954\n",
       "AXE                                               0.000818\n",
       "STUN GUN                                          0.000545\n",
       "BRASS KNUCKLES                                    0.000545\n",
       "SCALDING LIQUID                                   0.000409\n",
       "SWITCH BLADE                                      0.000409\n",
       "SAWED OFF RIFLE/SHOTGUN                           0.000273\n",
       "DEMAND NOTE                                       0.000273\n",
       "ICE PICK                                          0.000273\n",
       "MARTIAL ARTS WEAPONS                              0.000273\n",
       "BOWIE KNIFE                                       0.000136\n",
       "STARTER PISTOL/REVOLVER                           0.000136\n",
       "BOMB THREAT                                       0.000136\n",
       "RAZOR BLADE                                       0.000136\n",
       "CAUSTIC CHEMICAL/POISON                           0.000136\n",
       "CLEAVER                                           0.000136\n",
       "ASSAULT WEAPON/UZI/AK47/ETC                       0.000136\n",
       "HECKLER & KOCH 93 SEMIAUTOMATIC ASSAULT RIFLE     0.000136\n",
       "Name: proportion, dtype: float64"
      ]
     },
     "execution_count": 39,
     "metadata": {},
     "output_type": "execute_result"
    }
   ],
   "source": [
    "unique_values_weapon=pd.DataFrame(df['Weapon_Description'])\n",
    "unique_values_weapon.value_counts(normalize=True)"
   ]
  },
  {
   "cell_type": "markdown",
   "id": "af390983",
   "metadata": {
    "papermill": {
     "duration": 0.038662,
     "end_time": "2024-06-24T09:48:35.020282",
     "exception": false,
     "start_time": "2024-06-24T09:48:34.981620",
     "status": "completed"
    },
    "tags": []
   },
   "source": []
  },
  {
   "cell_type": "code",
   "execution_count": 40,
   "id": "e0ca5d79",
   "metadata": {
    "execution": {
     "iopub.execute_input": "2024-06-24T09:48:35.103427Z",
     "iopub.status.busy": "2024-06-24T09:48:35.102467Z",
     "iopub.status.idle": "2024-06-24T09:48:35.121667Z",
     "shell.execute_reply": "2024-06-24T09:48:35.120297Z"
    },
    "papermill": {
     "duration": 0.06244,
     "end_time": "2024-06-24T09:48:35.124443",
     "exception": false,
     "start_time": "2024-06-24T09:48:35.062003",
     "status": "completed"
    },
    "tags": []
   },
   "outputs": [],
   "source": [
    "distribution = df['Weapon_Description'].dropna().value_counts(normalize=True)\n",
    "\n",
    "missing = df['Weapon_Description'].isnull().sum()\n",
    "\n",
    "imputed_values = np.random.choice(distribution.index, size=missing, p=distribution.values)\n",
    "\n",
    "# Impute the missing values\n",
    "df.loc[df['Weapon_Description'].isnull(), 'Weapon_Description'] = imputed_values\n"
   ]
  },
  {
   "cell_type": "code",
   "execution_count": 41,
   "id": "d9b2894d",
   "metadata": {
    "execution": {
     "iopub.execute_input": "2024-06-24T09:48:35.204067Z",
     "iopub.status.busy": "2024-06-24T09:48:35.203620Z",
     "iopub.status.idle": "2024-06-24T09:48:35.224462Z",
     "shell.execute_reply": "2024-06-24T09:48:35.223283Z"
    },
    "papermill": {
     "duration": 0.06428,
     "end_time": "2024-06-24T09:48:35.227501",
     "exception": false,
     "start_time": "2024-06-24T09:48:35.163221",
     "status": "completed"
    },
    "tags": []
   },
   "outputs": [],
   "source": [
    "distribution = df['Victim_Descent'].dropna().value_counts(normalize=True)\n",
    "\n",
    "missing = df['Victim_Descent'].isnull().sum()\n",
    "\n",
    "imputed_values = np.random.choice(distribution.index, size=missing, p=distribution.values)\n",
    "\n",
    "# Impute the missing values\n",
    "df.loc[df['Victim_Descent'].isnull(), 'Victim_Descent'] = imputed_values"
   ]
  },
  {
   "cell_type": "code",
   "execution_count": 42,
   "id": "0bc1739e",
   "metadata": {
    "execution": {
     "iopub.execute_input": "2024-06-24T09:48:35.308684Z",
     "iopub.status.busy": "2024-06-24T09:48:35.307948Z",
     "iopub.status.idle": "2024-06-24T09:48:35.333701Z",
     "shell.execute_reply": "2024-06-24T09:48:35.332259Z"
    },
    "papermill": {
     "duration": 0.069345,
     "end_time": "2024-06-24T09:48:35.336681",
     "exception": false,
     "start_time": "2024-06-24T09:48:35.267336",
     "status": "completed"
    },
    "tags": []
   },
   "outputs": [
    {
     "data": {
      "text/plain": [
       "Latitude                         0\n",
       "Longitude                        0\n",
       "reporting_delay_day_count        0\n",
       "day_category                     0\n",
       "Victim_Age                       0\n",
       "Victim_Sex                       0\n",
       "Victim_Descent                   0\n",
       "Premise_Code                     0\n",
       "Weapon_Description               0\n",
       "Weapon_Used_Code             12665\n",
       "Area_ID                          0\n",
       "Modus_Operandi                2741\n",
       "Part 1-2                         0\n",
       "Status                           0\n",
       "Crime_Category                   0\n",
       "dtype: int64"
      ]
     },
     "execution_count": 42,
     "metadata": {},
     "output_type": "execute_result"
    }
   ],
   "source": [
    "df.isnull().sum()\n"
   ]
  },
  {
   "cell_type": "markdown",
   "id": "f5f77871",
   "metadata": {
    "execution": {
     "iopub.execute_input": "2024-06-18T11:25:46.853966Z",
     "iopub.status.busy": "2024-06-18T11:25:46.853487Z",
     "iopub.status.idle": "2024-06-18T11:25:48.288787Z",
     "shell.execute_reply": "2024-06-18T11:25:48.287061Z",
     "shell.execute_reply.started": "2024-06-18T11:25:46.853929Z"
    },
    "papermill": {
     "duration": 0.038623,
     "end_time": "2024-06-24T09:48:35.414814",
     "exception": false,
     "start_time": "2024-06-24T09:48:35.376191",
     "status": "completed"
    },
    "tags": []
   },
   "source": [
    " df.drop('Weapon_Used_Code',inplace=True,axis=1)"
   ]
  },
  {
   "cell_type": "code",
   "execution_count": 43,
   "id": "f5023686",
   "metadata": {
    "execution": {
     "iopub.execute_input": "2024-06-24T09:48:35.495530Z",
     "iopub.status.busy": "2024-06-24T09:48:35.495063Z",
     "iopub.status.idle": "2024-06-24T09:48:35.505403Z",
     "shell.execute_reply": "2024-06-24T09:48:35.504052Z"
    },
    "papermill": {
     "duration": 0.054154,
     "end_time": "2024-06-24T09:48:35.508316",
     "exception": false,
     "start_time": "2024-06-24T09:48:35.454162",
     "status": "completed"
    },
    "tags": []
   },
   "outputs": [
    {
     "name": "stderr",
     "output_type": "stream",
     "text": [
      "/tmp/ipykernel_18/3662583146.py:1: SettingWithCopyWarning: \n",
      "A value is trying to be set on a copy of a slice from a DataFrame\n",
      "\n",
      "See the caveats in the documentation: https://pandas.pydata.org/pandas-docs/stable/user_guide/indexing.html#returning-a-view-versus-a-copy\n",
      "  df.drop('Weapon_Used_Code',inplace=True,axis=1)\n"
     ]
    }
   ],
   "source": [
    "df.drop('Weapon_Used_Code',inplace=True,axis=1)\n"
   ]
  },
  {
   "cell_type": "code",
   "execution_count": 44,
   "id": "f8e2965d",
   "metadata": {
    "execution": {
     "iopub.execute_input": "2024-06-24T09:48:35.590605Z",
     "iopub.status.busy": "2024-06-24T09:48:35.590142Z",
     "iopub.status.idle": "2024-06-24T09:48:35.619035Z",
     "shell.execute_reply": "2024-06-24T09:48:35.617834Z"
    },
    "papermill": {
     "duration": 0.073884,
     "end_time": "2024-06-24T09:48:35.621700",
     "exception": false,
     "start_time": "2024-06-24T09:48:35.547816",
     "status": "completed"
    },
    "tags": []
   },
   "outputs": [
    {
     "name": "stdout",
     "output_type": "stream",
     "text": [
      "<class 'pandas.core.frame.DataFrame'>\n",
      "RangeIndex: 20000 entries, 0 to 19999\n",
      "Data columns (total 14 columns):\n",
      " #   Column                     Non-Null Count  Dtype  \n",
      "---  ------                     --------------  -----  \n",
      " 0   Latitude                   20000 non-null  float64\n",
      " 1   Longitude                  20000 non-null  float64\n",
      " 2   reporting_delay_day_count  20000 non-null  int64  \n",
      " 3   day_category               20000 non-null  object \n",
      " 4   Victim_Age                 20000 non-null  float64\n",
      " 5   Victim_Sex                 20000 non-null  object \n",
      " 6   Victim_Descent             20000 non-null  object \n",
      " 7   Premise_Code               20000 non-null  float64\n",
      " 8   Weapon_Description         20000 non-null  object \n",
      " 9   Area_ID                    20000 non-null  float64\n",
      " 10  Modus_Operandi             17259 non-null  object \n",
      " 11  Part 1-2                   20000 non-null  float64\n",
      " 12  Status                     20000 non-null  object \n",
      " 13  Crime_Category             20000 non-null  object \n",
      "dtypes: float64(6), int64(1), object(7)\n",
      "memory usage: 2.1+ MB\n"
     ]
    }
   ],
   "source": [
    "df.info()"
   ]
  },
  {
   "cell_type": "code",
   "execution_count": 45,
   "id": "313c4c89",
   "metadata": {
    "execution": {
     "iopub.execute_input": "2024-06-24T09:48:35.703724Z",
     "iopub.status.busy": "2024-06-24T09:48:35.703295Z",
     "iopub.status.idle": "2024-06-24T09:48:35.778034Z",
     "shell.execute_reply": "2024-06-24T09:48:35.776840Z"
    },
    "papermill": {
     "duration": 0.118995,
     "end_time": "2024-06-24T09:48:35.780895",
     "exception": false,
     "start_time": "2024-06-24T09:48:35.661900",
     "status": "completed"
    },
    "tags": []
   },
   "outputs": [],
   "source": [
    "# def number_of_activities(s):\n",
    "#     activities=[]\n",
    "#     s=str(s)\n",
    "#     a=s.split(' ')\n",
    "#     for i in a:\n",
    "#         if a not in activities:\n",
    "#             activities.append(a)\n",
    "#     return activities\n",
    "\n",
    "def number_of_activities(s):\n",
    "    if pd.isna(s):  # Handle NaN values\n",
    "        return ''\n",
    "    activities = set()  # Using a set to avoid duplicates efficiently\n",
    "    for activity in s.split(' '):\n",
    "        activities.add(str(activity))\n",
    "    activities=' '.join(activities)    \n",
    "    return activities\n",
    "df.loc[:,'Modus_Operandi']=df['Modus_Operandi'].apply(number_of_activities)\n",
    "# df.drop('Modus_Operandi',axis=1)\n",
    "# df['Modus_Operandi']=df['unique_activities']\n",
    "# df.drop('unique_activities',axis=1,inplace=True)"
   ]
  },
  {
   "cell_type": "code",
   "execution_count": 46,
   "id": "432d1d6f",
   "metadata": {
    "execution": {
     "iopub.execute_input": "2024-06-24T09:48:35.861509Z",
     "iopub.status.busy": "2024-06-24T09:48:35.861036Z",
     "iopub.status.idle": "2024-06-24T09:48:35.886058Z",
     "shell.execute_reply": "2024-06-24T09:48:35.883984Z"
    },
    "papermill": {
     "duration": 0.068644,
     "end_time": "2024-06-24T09:48:35.888748",
     "exception": false,
     "start_time": "2024-06-24T09:48:35.820104",
     "status": "completed"
    },
    "tags": []
   },
   "outputs": [
    {
     "name": "stderr",
     "output_type": "stream",
     "text": [
      "/tmp/ipykernel_18/3589716598.py:1: SettingWithCopyWarning: \n",
      "A value is trying to be set on a copy of a slice from a DataFrame.\n",
      "Try using .loc[row_indexer,col_indexer] = value instead\n",
      "\n",
      "See the caveats in the documentation: https://pandas.pydata.org/pandas-docs/stable/user_guide/indexing.html#returning-a-view-versus-a-copy\n",
      "  df.loc[:,'max_activity']=df['Modus_Operandi'].apply(lambda x: len(x))\n"
     ]
    }
   ],
   "source": [
    "df.loc[:,'max_activity']=df['Modus_Operandi'].apply(lambda x: len(x))"
   ]
  },
  {
   "cell_type": "code",
   "execution_count": 47,
   "id": "dcbad545",
   "metadata": {
    "execution": {
     "iopub.execute_input": "2024-06-24T09:48:35.970891Z",
     "iopub.status.busy": "2024-06-24T09:48:35.970422Z",
     "iopub.status.idle": "2024-06-24T09:48:35.996748Z",
     "shell.execute_reply": "2024-06-24T09:48:35.995317Z"
    },
    "papermill": {
     "duration": 0.070816,
     "end_time": "2024-06-24T09:48:35.999562",
     "exception": false,
     "start_time": "2024-06-24T09:48:35.928746",
     "status": "completed"
    },
    "tags": []
   },
   "outputs": [],
   "source": [
    "df.loc[:,'Premise_Code']=df['Premise_Code'].apply(lambda x : int(x))"
   ]
  },
  {
   "cell_type": "code",
   "execution_count": 48,
   "id": "f9c052f8",
   "metadata": {
    "execution": {
     "iopub.execute_input": "2024-06-24T09:48:36.080871Z",
     "iopub.status.busy": "2024-06-24T09:48:36.080437Z",
     "iopub.status.idle": "2024-06-24T09:48:36.122738Z",
     "shell.execute_reply": "2024-06-24T09:48:36.121554Z"
    },
    "papermill": {
     "duration": 0.085937,
     "end_time": "2024-06-24T09:48:36.125618",
     "exception": false,
     "start_time": "2024-06-24T09:48:36.039681",
     "status": "completed"
    },
    "tags": []
   },
   "outputs": [],
   "source": [
    "df.loc[:,'Area_ID']=df['Area_ID'].apply(lambda x : int(x))\n",
    "df.loc[:,'Part 1-2']=df['Part 1-2'].apply(lambda x : int(x))\n"
   ]
  },
  {
   "cell_type": "code",
   "execution_count": 49,
   "id": "4aa6c363",
   "metadata": {
    "execution": {
     "iopub.execute_input": "2024-06-24T09:48:36.206718Z",
     "iopub.status.busy": "2024-06-24T09:48:36.205946Z",
     "iopub.status.idle": "2024-06-24T09:48:36.219347Z",
     "shell.execute_reply": "2024-06-24T09:48:36.217603Z"
    },
    "papermill": {
     "duration": 0.05758,
     "end_time": "2024-06-24T09:48:36.222703",
     "exception": false,
     "start_time": "2024-06-24T09:48:36.165123",
     "status": "completed"
    },
    "tags": []
   },
   "outputs": [
    {
     "data": {
      "text/plain": [
       "Victim_Age\n",
       " 0.0     4828\n",
       " 30.0     448\n",
       " 31.0     446\n",
       " 26.0     442\n",
       " 29.0     425\n",
       "         ... \n",
       " 98.0       2\n",
       "-2.0        2\n",
       " 92.0       2\n",
       " 96.0       2\n",
       " 94.0       2\n",
       "Name: count, Length: 100, dtype: int64"
      ]
     },
     "execution_count": 49,
     "metadata": {},
     "output_type": "execute_result"
    }
   ],
   "source": [
    "df['Victim_Age'].value_counts()"
   ]
  },
  {
   "cell_type": "code",
   "execution_count": 50,
   "id": "deb066fb",
   "metadata": {
    "execution": {
     "iopub.execute_input": "2024-06-24T09:48:36.304819Z",
     "iopub.status.busy": "2024-06-24T09:48:36.304359Z",
     "iopub.status.idle": "2024-06-24T09:48:36.315025Z",
     "shell.execute_reply": "2024-06-24T09:48:36.313668Z"
    },
    "papermill": {
     "duration": 0.054535,
     "end_time": "2024-06-24T09:48:36.317459",
     "exception": false,
     "start_time": "2024-06-24T09:48:36.262924",
     "status": "completed"
    },
    "tags": []
   },
   "outputs": [
    {
     "data": {
      "text/plain": [
       "Victim_Age\n",
       " 0.0     4828\n",
       " 30.0     448\n",
       " 31.0     446\n",
       " 26.0     442\n",
       " 29.0     425\n",
       "         ... \n",
       " 98.0       2\n",
       "-2.0        2\n",
       " 92.0       2\n",
       " 96.0       2\n",
       " 94.0       2\n",
       "Name: count, Length: 100, dtype: int64"
      ]
     },
     "execution_count": 50,
     "metadata": {},
     "output_type": "execute_result"
    }
   ],
   "source": [
    "df['Victim_Age'].value_counts()"
   ]
  },
  {
   "cell_type": "code",
   "execution_count": 51,
   "id": "c2d4f345",
   "metadata": {
    "execution": {
     "iopub.execute_input": "2024-06-24T09:48:36.399756Z",
     "iopub.status.busy": "2024-06-24T09:48:36.399311Z",
     "iopub.status.idle": "2024-06-24T09:48:36.406206Z",
     "shell.execute_reply": "2024-06-24T09:48:36.405045Z"
    },
    "papermill": {
     "duration": 0.051198,
     "end_time": "2024-06-24T09:48:36.408616",
     "exception": false,
     "start_time": "2024-06-24T09:48:36.357418",
     "status": "completed"
    },
    "tags": []
   },
   "outputs": [],
   "source": [
    "df.loc[df['Victim_Age']<0,'Victim_Age']=0"
   ]
  },
  {
   "cell_type": "code",
   "execution_count": 52,
   "id": "94bafe53",
   "metadata": {
    "execution": {
     "iopub.execute_input": "2024-06-24T09:48:36.490124Z",
     "iopub.status.busy": "2024-06-24T09:48:36.489685Z",
     "iopub.status.idle": "2024-06-24T09:48:36.500670Z",
     "shell.execute_reply": "2024-06-24T09:48:36.499338Z"
    },
    "papermill": {
     "duration": 0.054998,
     "end_time": "2024-06-24T09:48:36.503297",
     "exception": false,
     "start_time": "2024-06-24T09:48:36.448299",
     "status": "completed"
    },
    "tags": []
   },
   "outputs": [
    {
     "data": {
      "text/plain": [
       "Victim_Age\n",
       "0.0     4834\n",
       "30.0     448\n",
       "31.0     446\n",
       "26.0     442\n",
       "29.0     425\n",
       "        ... \n",
       "93.0       5\n",
       "92.0       2\n",
       "96.0       2\n",
       "98.0       2\n",
       "94.0       2\n",
       "Name: count, Length: 98, dtype: int64"
      ]
     },
     "execution_count": 52,
     "metadata": {},
     "output_type": "execute_result"
    }
   ],
   "source": [
    "df['Victim_Age'].value_counts()"
   ]
  },
  {
   "cell_type": "code",
   "execution_count": 53,
   "id": "865d1bd3",
   "metadata": {
    "execution": {
     "iopub.execute_input": "2024-06-24T09:48:36.586767Z",
     "iopub.status.busy": "2024-06-24T09:48:36.586314Z",
     "iopub.status.idle": "2024-06-24T09:48:36.594432Z",
     "shell.execute_reply": "2024-06-24T09:48:36.593281Z"
    },
    "papermill": {
     "duration": 0.053316,
     "end_time": "2024-06-24T09:48:36.597091",
     "exception": false,
     "start_time": "2024-06-24T09:48:36.543775",
     "status": "completed"
    },
    "tags": []
   },
   "outputs": [
    {
     "data": {
      "text/plain": [
       "30.1354"
      ]
     },
     "execution_count": 53,
     "metadata": {},
     "output_type": "execute_result"
    }
   ],
   "source": [
    "df['Victim_Age'].mean()"
   ]
  },
  {
   "cell_type": "code",
   "execution_count": 54,
   "id": "1a51e06d",
   "metadata": {
    "execution": {
     "iopub.execute_input": "2024-06-24T09:48:36.679678Z",
     "iopub.status.busy": "2024-06-24T09:48:36.679200Z",
     "iopub.status.idle": "2024-06-24T09:48:37.026120Z",
     "shell.execute_reply": "2024-06-24T09:48:37.025083Z"
    },
    "papermill": {
     "duration": 0.390735,
     "end_time": "2024-06-24T09:48:37.028570",
     "exception": false,
     "start_time": "2024-06-24T09:48:36.637835",
     "status": "completed"
    },
    "tags": []
   },
   "outputs": [
    {
     "data": {
      "text/plain": [
       "<Axes: ylabel='Frequency'>"
      ]
     },
     "execution_count": 54,
     "metadata": {},
     "output_type": "execute_result"
    },
    {
     "data": {
      "image/png": "[encoded data removed]",
      "text/plain": [
       "<Figure size 640x480 with 1 Axes>"
      ]
     },
     "metadata": {},
     "output_type": "display_data"
    }
   ],
   "source": [
    "df['Victim_Age'].plot.hist()"
   ]
  },
  {
   "cell_type": "code",
   "execution_count": 55,
   "id": "acdff93f",
   "metadata": {
    "execution": {
     "iopub.execute_input": "2024-06-24T09:48:37.112551Z",
     "iopub.status.busy": "2024-06-24T09:48:37.111589Z",
     "iopub.status.idle": "2024-06-24T09:48:37.152479Z",
     "shell.execute_reply": "2024-06-24T09:48:37.151088Z"
    },
    "papermill": {
     "duration": 0.085369,
     "end_time": "2024-06-24T09:48:37.155189",
     "exception": false,
     "start_time": "2024-06-24T09:48:37.069820",
     "status": "completed"
    },
    "tags": []
   },
   "outputs": [
    {
     "data": {
      "text/html": [
       "<div>\n",
       "<style scoped>\n",
       "    .dataframe tbody tr th:only-of-type {\n",
       "        vertical-align: middle;\n",
       "    }\n",
       "\n",
       "    .dataframe tbody tr th {\n",
       "        vertical-align: top;\n",
       "    }\n",
       "\n",
       "    .dataframe thead th {\n",
       "        text-align: right;\n",
       "    }\n",
       "</style>\n",
       "<table border=\"1\" class=\"dataframe\">\n",
       "  <thead>\n",
       "    <tr style=\"text-align: right;\">\n",
       "      <th></th>\n",
       "      <th>Latitude</th>\n",
       "      <th>Longitude</th>\n",
       "      <th>reporting_delay_day_count</th>\n",
       "      <th>Victim_Age</th>\n",
       "      <th>Premise_Code</th>\n",
       "      <th>Area_ID</th>\n",
       "      <th>Part 1-2</th>\n",
       "      <th>max_activity</th>\n",
       "    </tr>\n",
       "  </thead>\n",
       "  <tbody>\n",
       "    <tr>\n",
       "      <th>count</th>\n",
       "      <td>20000.000000</td>\n",
       "      <td>20000.000000</td>\n",
       "      <td>20000.000000</td>\n",
       "      <td>20000.00000</td>\n",
       "      <td>20000.000000</td>\n",
       "      <td>20000.000000</td>\n",
       "      <td>20000.000000</td>\n",
       "      <td>20000.000000</td>\n",
       "    </tr>\n",
       "    <tr>\n",
       "      <th>mean</th>\n",
       "      <td>33.940704</td>\n",
       "      <td>-117.893072</td>\n",
       "      <td>22.120000</td>\n",
       "      <td>30.13540</td>\n",
       "      <td>297.176950</td>\n",
       "      <td>10.834250</td>\n",
       "      <td>1.418150</td>\n",
       "      <td>14.633300</td>\n",
       "    </tr>\n",
       "    <tr>\n",
       "      <th>std</th>\n",
       "      <td>2.126810</td>\n",
       "      <td>7.377726</td>\n",
       "      <td>116.418619</td>\n",
       "      <td>21.86308</td>\n",
       "      <td>212.007298</td>\n",
       "      <td>6.033166</td>\n",
       "      <td>0.493267</td>\n",
       "      <td>11.527028</td>\n",
       "    </tr>\n",
       "    <tr>\n",
       "      <th>min</th>\n",
       "      <td>0.000000</td>\n",
       "      <td>-118.663400</td>\n",
       "      <td>0.000000</td>\n",
       "      <td>0.00000</td>\n",
       "      <td>101.000000</td>\n",
       "      <td>1.000000</td>\n",
       "      <td>1.000000</td>\n",
       "      <td>0.000000</td>\n",
       "    </tr>\n",
       "    <tr>\n",
       "      <th>25%</th>\n",
       "      <td>34.009200</td>\n",
       "      <td>-118.429700</td>\n",
       "      <td>0.000000</td>\n",
       "      <td>12.00000</td>\n",
       "      <td>101.000000</td>\n",
       "      <td>6.000000</td>\n",
       "      <td>1.000000</td>\n",
       "      <td>4.000000</td>\n",
       "    </tr>\n",
       "    <tr>\n",
       "      <th>50%</th>\n",
       "      <td>34.058700</td>\n",
       "      <td>-118.323000</td>\n",
       "      <td>0.000000</td>\n",
       "      <td>31.00000</td>\n",
       "      <td>203.000000</td>\n",
       "      <td>11.000000</td>\n",
       "      <td>1.000000</td>\n",
       "      <td>14.000000</td>\n",
       "    </tr>\n",
       "    <tr>\n",
       "      <th>75%</th>\n",
       "      <td>34.165025</td>\n",
       "      <td>-118.274400</td>\n",
       "      <td>2.000000</td>\n",
       "      <td>46.00000</td>\n",
       "      <td>501.000000</td>\n",
       "      <td>16.000000</td>\n",
       "      <td>2.000000</td>\n",
       "      <td>19.000000</td>\n",
       "    </tr>\n",
       "    <tr>\n",
       "      <th>max</th>\n",
       "      <td>34.328100</td>\n",
       "      <td>0.000000</td>\n",
       "      <td>1437.000000</td>\n",
       "      <td>99.00000</td>\n",
       "      <td>969.000000</td>\n",
       "      <td>21.000000</td>\n",
       "      <td>2.000000</td>\n",
       "      <td>49.000000</td>\n",
       "    </tr>\n",
       "  </tbody>\n",
       "</table>\n",
       "</div>"
      ],
      "text/plain": [
       "           Latitude     Longitude  reporting_delay_day_count   Victim_Age  \\\n",
       "count  20000.000000  20000.000000               20000.000000  20000.00000   \n",
       "mean      33.940704   -117.893072                  22.120000     30.13540   \n",
       "std        2.126810      7.377726                 116.418619     21.86308   \n",
       "min        0.000000   -118.663400                   0.000000      0.00000   \n",
       "25%       34.009200   -118.429700                   0.000000     12.00000   \n",
       "50%       34.058700   -118.323000                   0.000000     31.00000   \n",
       "75%       34.165025   -118.274400                   2.000000     46.00000   \n",
       "max       34.328100      0.000000                1437.000000     99.00000   \n",
       "\n",
       "       Premise_Code       Area_ID      Part 1-2  max_activity  \n",
       "count  20000.000000  20000.000000  20000.000000  20000.000000  \n",
       "mean     297.176950     10.834250      1.418150     14.633300  \n",
       "std      212.007298      6.033166      0.493267     11.527028  \n",
       "min      101.000000      1.000000      1.000000      0.000000  \n",
       "25%      101.000000      6.000000      1.000000      4.000000  \n",
       "50%      203.000000     11.000000      1.000000     14.000000  \n",
       "75%      501.000000     16.000000      2.000000     19.000000  \n",
       "max      969.000000     21.000000      2.000000     49.000000  "
      ]
     },
     "execution_count": 55,
     "metadata": {},
     "output_type": "execute_result"
    }
   ],
   "source": [
    "df.describe()"
   ]
  },
  {
   "cell_type": "code",
   "execution_count": 56,
   "id": "a80352ae",
   "metadata": {
    "execution": {
     "iopub.execute_input": "2024-06-24T09:48:37.241800Z",
     "iopub.status.busy": "2024-06-24T09:48:37.240591Z",
     "iopub.status.idle": "2024-06-24T09:48:37.248635Z",
     "shell.execute_reply": "2024-06-24T09:48:37.247458Z"
    },
    "papermill": {
     "duration": 0.054886,
     "end_time": "2024-06-24T09:48:37.251202",
     "exception": false,
     "start_time": "2024-06-24T09:48:37.196316",
     "status": "completed"
    },
    "tags": []
   },
   "outputs": [],
   "source": [
    "df.loc[df['Victim_Age']==0,'Victim_Age']=df['Victim_Age'].mean()"
   ]
  },
  {
   "cell_type": "code",
   "execution_count": 57,
   "id": "62df7e84",
   "metadata": {
    "execution": {
     "iopub.execute_input": "2024-06-24T09:48:37.335011Z",
     "iopub.status.busy": "2024-06-24T09:48:37.334079Z",
     "iopub.status.idle": "2024-06-24T09:48:37.615380Z",
     "shell.execute_reply": "2024-06-24T09:48:37.614112Z"
    },
    "papermill": {
     "duration": 0.326239,
     "end_time": "2024-06-24T09:48:37.618116",
     "exception": false,
     "start_time": "2024-06-24T09:48:37.291877",
     "status": "completed"
    },
    "tags": []
   },
   "outputs": [
    {
     "data": {
      "text/plain": [
       "<Axes: ylabel='Frequency'>"
      ]
     },
     "execution_count": 57,
     "metadata": {},
     "output_type": "execute_result"
    },
    {
     "data": {
      "image/png": "[encoded data removed]",
      "text/plain": [
       "<Figure size 640x480 with 1 Axes>"
      ]
     },
     "metadata": {},
     "output_type": "display_data"
    }
   ],
   "source": [
    "df['Victim_Age'].plot.hist()"
   ]
  },
  {
   "cell_type": "code",
   "execution_count": 58,
   "id": "284d2021",
   "metadata": {
    "execution": {
     "iopub.execute_input": "2024-06-24T09:48:37.705081Z",
     "iopub.status.busy": "2024-06-24T09:48:37.704605Z",
     "iopub.status.idle": "2024-06-24T09:48:37.714758Z",
     "shell.execute_reply": "2024-06-24T09:48:37.713569Z"
    },
    "papermill": {
     "duration": 0.057418,
     "end_time": "2024-06-24T09:48:37.717281",
     "exception": false,
     "start_time": "2024-06-24T09:48:37.659863",
     "status": "completed"
    },
    "tags": []
   },
   "outputs": [
    {
     "data": {
      "text/plain": [
       "Part 1-2\n",
       "1.0    11637\n",
       "2.0     8363\n",
       "Name: count, dtype: int64"
      ]
     },
     "execution_count": 58,
     "metadata": {},
     "output_type": "execute_result"
    }
   ],
   "source": [
    "df['Part 1-2'].value_counts()"
   ]
  },
  {
   "cell_type": "code",
   "execution_count": 59,
   "id": "6cb6aa55",
   "metadata": {
    "execution": {
     "iopub.execute_input": "2024-06-24T09:48:37.802758Z",
     "iopub.status.busy": "2024-06-24T09:48:37.802332Z",
     "iopub.status.idle": "2024-06-24T09:48:37.827268Z",
     "shell.execute_reply": "2024-06-24T09:48:37.826029Z"
    },
    "papermill": {
     "duration": 0.070103,
     "end_time": "2024-06-24T09:48:37.829727",
     "exception": false,
     "start_time": "2024-06-24T09:48:37.759624",
     "status": "completed"
    },
    "tags": []
   },
   "outputs": [],
   "source": [
    "df.loc[:,'Part 1-2']=df['Part 1-2'].apply(lambda x: int(x))"
   ]
  },
  {
   "cell_type": "code",
   "execution_count": 60,
   "id": "28b62ade",
   "metadata": {
    "execution": {
     "iopub.execute_input": "2024-06-24T09:48:37.915727Z",
     "iopub.status.busy": "2024-06-24T09:48:37.914390Z",
     "iopub.status.idle": "2024-06-24T09:48:37.943565Z",
     "shell.execute_reply": "2024-06-24T09:48:37.942140Z"
    },
    "papermill": {
     "duration": 0.075144,
     "end_time": "2024-06-24T09:48:37.946461",
     "exception": false,
     "start_time": "2024-06-24T09:48:37.871317",
     "status": "completed"
    },
    "tags": []
   },
   "outputs": [
    {
     "data": {
      "text/html": [
       "<div>\n",
       "<style scoped>\n",
       "    .dataframe tbody tr th:only-of-type {\n",
       "        vertical-align: middle;\n",
       "    }\n",
       "\n",
       "    .dataframe tbody tr th {\n",
       "        vertical-align: top;\n",
       "    }\n",
       "\n",
       "    .dataframe thead th {\n",
       "        text-align: right;\n",
       "    }\n",
       "</style>\n",
       "<table border=\"1\" class=\"dataframe\">\n",
       "  <thead>\n",
       "    <tr style=\"text-align: right;\">\n",
       "      <th></th>\n",
       "      <th>Latitude</th>\n",
       "      <th>Longitude</th>\n",
       "      <th>reporting_delay_day_count</th>\n",
       "      <th>day_category</th>\n",
       "      <th>Victim_Age</th>\n",
       "      <th>Victim_Sex</th>\n",
       "      <th>Victim_Descent</th>\n",
       "      <th>Premise_Code</th>\n",
       "      <th>Weapon_Description</th>\n",
       "      <th>Area_ID</th>\n",
       "      <th>Modus_Operandi</th>\n",
       "      <th>Part 1-2</th>\n",
       "      <th>Status</th>\n",
       "      <th>Crime_Category</th>\n",
       "      <th>max_activity</th>\n",
       "    </tr>\n",
       "  </thead>\n",
       "  <tbody>\n",
       "    <tr>\n",
       "      <th>0</th>\n",
       "      <td>34.1522</td>\n",
       "      <td>-118.3910</td>\n",
       "      <td>3</td>\n",
       "      <td>Evening</td>\n",
       "      <td>75.0000</td>\n",
       "      <td>M</td>\n",
       "      <td>W</td>\n",
       "      <td>101.0</td>\n",
       "      <td>UNKNOWN WEAPON/OTHER WEAPON</td>\n",
       "      <td>15.0</td>\n",
       "      <td>0385</td>\n",
       "      <td>1.0</td>\n",
       "      <td>IC</td>\n",
       "      <td>Property Crimes</td>\n",
       "      <td>4</td>\n",
       "    </tr>\n",
       "    <tr>\n",
       "      <th>1</th>\n",
       "      <td>34.0028</td>\n",
       "      <td>-118.2391</td>\n",
       "      <td>0</td>\n",
       "      <td>Daytime</td>\n",
       "      <td>41.0000</td>\n",
       "      <td>M</td>\n",
       "      <td>H</td>\n",
       "      <td>216.0</td>\n",
       "      <td>STRONG-ARM (HANDS, FIST, FEET OR BODILY FORCE)</td>\n",
       "      <td>13.0</td>\n",
       "      <td>0906 0344 0446 0371 1822 0416 0417 0352</td>\n",
       "      <td>1.0</td>\n",
       "      <td>IC</td>\n",
       "      <td>Property Crimes</td>\n",
       "      <td>39</td>\n",
       "    </tr>\n",
       "    <tr>\n",
       "      <th>2</th>\n",
       "      <td>34.0111</td>\n",
       "      <td>-118.2653</td>\n",
       "      <td>0</td>\n",
       "      <td>Morning</td>\n",
       "      <td>67.0000</td>\n",
       "      <td>M</td>\n",
       "      <td>B</td>\n",
       "      <td>501.0</td>\n",
       "      <td>UNKNOWN FIREARM</td>\n",
       "      <td>13.0</td>\n",
       "      <td>1202 0329</td>\n",
       "      <td>2.0</td>\n",
       "      <td>IC</td>\n",
       "      <td>Property Crimes</td>\n",
       "      <td>9</td>\n",
       "    </tr>\n",
       "    <tr>\n",
       "      <th>3</th>\n",
       "      <td>34.2953</td>\n",
       "      <td>-118.4590</td>\n",
       "      <td>2</td>\n",
       "      <td>Evening</td>\n",
       "      <td>61.0000</td>\n",
       "      <td>M</td>\n",
       "      <td>H</td>\n",
       "      <td>101.0</td>\n",
       "      <td>VERBAL THREAT</td>\n",
       "      <td>19.0</td>\n",
       "      <td>1300 0329</td>\n",
       "      <td>1.0</td>\n",
       "      <td>IC</td>\n",
       "      <td>Property Crimes</td>\n",
       "      <td>9</td>\n",
       "    </tr>\n",
       "    <tr>\n",
       "      <th>4</th>\n",
       "      <td>33.9787</td>\n",
       "      <td>-118.2918</td>\n",
       "      <td>0</td>\n",
       "      <td>Morning</td>\n",
       "      <td>30.1354</td>\n",
       "      <td>X</td>\n",
       "      <td>X</td>\n",
       "      <td>401.0</td>\n",
       "      <td>STRONG-ARM (HANDS, FIST, FEET OR BODILY FORCE)</td>\n",
       "      <td>12.0</td>\n",
       "      <td>0400 0344 0945 0416 1822 0417</td>\n",
       "      <td>1.0</td>\n",
       "      <td>IC</td>\n",
       "      <td>Property Crimes</td>\n",
       "      <td>29</td>\n",
       "    </tr>\n",
       "    <tr>\n",
       "      <th>...</th>\n",
       "      <td>...</td>\n",
       "      <td>...</td>\n",
       "      <td>...</td>\n",
       "      <td>...</td>\n",
       "      <td>...</td>\n",
       "      <td>...</td>\n",
       "      <td>...</td>\n",
       "      <td>...</td>\n",
       "      <td>...</td>\n",
       "      <td>...</td>\n",
       "      <td>...</td>\n",
       "      <td>...</td>\n",
       "      <td>...</td>\n",
       "      <td>...</td>\n",
       "      <td>...</td>\n",
       "    </tr>\n",
       "    <tr>\n",
       "      <th>19995</th>\n",
       "      <td>34.0334</td>\n",
       "      <td>-118.3523</td>\n",
       "      <td>0</td>\n",
       "      <td>Morning</td>\n",
       "      <td>51.0000</td>\n",
       "      <td>M</td>\n",
       "      <td>H</td>\n",
       "      <td>501.0</td>\n",
       "      <td>STRONG-ARM (HANDS, FIST, FEET OR BODILY FORCE)</td>\n",
       "      <td>3.0</td>\n",
       "      <td>2004 0913 0416 0446</td>\n",
       "      <td>2.0</td>\n",
       "      <td>IC</td>\n",
       "      <td>Violent Crimes</td>\n",
       "      <td>19</td>\n",
       "    </tr>\n",
       "    <tr>\n",
       "      <th>19996</th>\n",
       "      <td>34.2212</td>\n",
       "      <td>-118.5011</td>\n",
       "      <td>0</td>\n",
       "      <td>Night</td>\n",
       "      <td>30.1354</td>\n",
       "      <td>M</td>\n",
       "      <td>W</td>\n",
       "      <td>301.0</td>\n",
       "      <td>STRONG-ARM (HANDS, FIST, FEET OR BODILY FORCE)</td>\n",
       "      <td>10.0</td>\n",
       "      <td>1420 1414 0209 0344 1822</td>\n",
       "      <td>1.0</td>\n",
       "      <td>IC</td>\n",
       "      <td>Property Crimes</td>\n",
       "      <td>24</td>\n",
       "    </tr>\n",
       "    <tr>\n",
       "      <th>19997</th>\n",
       "      <td>34.0571</td>\n",
       "      <td>-118.3815</td>\n",
       "      <td>0</td>\n",
       "      <td>Daytime</td>\n",
       "      <td>42.0000</td>\n",
       "      <td>M</td>\n",
       "      <td>H</td>\n",
       "      <td>102.0</td>\n",
       "      <td>STRONG-ARM (HANDS, FIST, FEET OR BODILY FORCE)</td>\n",
       "      <td>8.0</td>\n",
       "      <td>1420 0344 1822</td>\n",
       "      <td>1.0</td>\n",
       "      <td>IC</td>\n",
       "      <td>Property Crimes</td>\n",
       "      <td>14</td>\n",
       "    </tr>\n",
       "    <tr>\n",
       "      <th>19998</th>\n",
       "      <td>33.7451</td>\n",
       "      <td>-118.2835</td>\n",
       "      <td>0</td>\n",
       "      <td>Morning</td>\n",
       "      <td>76.0000</td>\n",
       "      <td>F</td>\n",
       "      <td>H</td>\n",
       "      <td>501.0</td>\n",
       "      <td>STRONG-ARM (HANDS, FIST, FEET OR BODILY FORCE)</td>\n",
       "      <td>5.0</td>\n",
       "      <td>2038 1202 0553 1242 0602 0913</td>\n",
       "      <td>2.0</td>\n",
       "      <td>IC</td>\n",
       "      <td>Crimes against Public Order</td>\n",
       "      <td>29</td>\n",
       "    </tr>\n",
       "    <tr>\n",
       "      <th>19999</th>\n",
       "      <td>34.0037</td>\n",
       "      <td>-118.3034</td>\n",
       "      <td>1</td>\n",
       "      <td>Evening</td>\n",
       "      <td>30.1354</td>\n",
       "      <td>X</td>\n",
       "      <td>A</td>\n",
       "      <td>101.0</td>\n",
       "      <td>VEHICLE</td>\n",
       "      <td>3.0</td>\n",
       "      <td></td>\n",
       "      <td>1.0</td>\n",
       "      <td>IC</td>\n",
       "      <td>Property Crimes</td>\n",
       "      <td>0</td>\n",
       "    </tr>\n",
       "  </tbody>\n",
       "</table>\n",
       "<p>20000 rows × 15 columns</p>\n",
       "</div>"
      ],
      "text/plain": [
       "       Latitude  Longitude  reporting_delay_day_count day_category  \\\n",
       "0       34.1522  -118.3910                          3      Evening   \n",
       "1       34.0028  -118.2391                          0      Daytime   \n",
       "2       34.0111  -118.2653                          0      Morning   \n",
       "3       34.2953  -118.4590                          2      Evening   \n",
       "4       33.9787  -118.2918                          0      Morning   \n",
       "...         ...        ...                        ...          ...   \n",
       "19995   34.0334  -118.3523                          0      Morning   \n",
       "19996   34.2212  -118.5011                          0        Night   \n",
       "19997   34.0571  -118.3815                          0      Daytime   \n",
       "19998   33.7451  -118.2835                          0      Morning   \n",
       "19999   34.0037  -118.3034                          1      Evening   \n",
       "\n",
       "       Victim_Age Victim_Sex Victim_Descent  Premise_Code  \\\n",
       "0         75.0000          M              W         101.0   \n",
       "1         41.0000          M              H         216.0   \n",
       "2         67.0000          M              B         501.0   \n",
       "3         61.0000          M              H         101.0   \n",
       "4         30.1354          X              X         401.0   \n",
       "...           ...        ...            ...           ...   \n",
       "19995     51.0000          M              H         501.0   \n",
       "19996     30.1354          M              W         301.0   \n",
       "19997     42.0000          M              H         102.0   \n",
       "19998     76.0000          F              H         501.0   \n",
       "19999     30.1354          X              A         101.0   \n",
       "\n",
       "                                   Weapon_Description  Area_ID  \\\n",
       "0                         UNKNOWN WEAPON/OTHER WEAPON     15.0   \n",
       "1      STRONG-ARM (HANDS, FIST, FEET OR BODILY FORCE)     13.0   \n",
       "2                                     UNKNOWN FIREARM     13.0   \n",
       "3                                       VERBAL THREAT     19.0   \n",
       "4      STRONG-ARM (HANDS, FIST, FEET OR BODILY FORCE)     12.0   \n",
       "...                                               ...      ...   \n",
       "19995  STRONG-ARM (HANDS, FIST, FEET OR BODILY FORCE)      3.0   \n",
       "19996  STRONG-ARM (HANDS, FIST, FEET OR BODILY FORCE)     10.0   \n",
       "19997  STRONG-ARM (HANDS, FIST, FEET OR BODILY FORCE)      8.0   \n",
       "19998  STRONG-ARM (HANDS, FIST, FEET OR BODILY FORCE)      5.0   \n",
       "19999                                         VEHICLE      3.0   \n",
       "\n",
       "                                Modus_Operandi  Part 1-2 Status  \\\n",
       "0                                         0385       1.0     IC   \n",
       "1      0906 0344 0446 0371 1822 0416 0417 0352       1.0     IC   \n",
       "2                                    1202 0329       2.0     IC   \n",
       "3                                    1300 0329       1.0     IC   \n",
       "4                0400 0344 0945 0416 1822 0417       1.0     IC   \n",
       "...                                        ...       ...    ...   \n",
       "19995                      2004 0913 0416 0446       2.0     IC   \n",
       "19996                 1420 1414 0209 0344 1822       1.0     IC   \n",
       "19997                           1420 0344 1822       1.0     IC   \n",
       "19998            2038 1202 0553 1242 0602 0913       2.0     IC   \n",
       "19999                                                1.0     IC   \n",
       "\n",
       "                    Crime_Category  max_activity  \n",
       "0                  Property Crimes             4  \n",
       "1                  Property Crimes            39  \n",
       "2                  Property Crimes             9  \n",
       "3                  Property Crimes             9  \n",
       "4                  Property Crimes            29  \n",
       "...                            ...           ...  \n",
       "19995               Violent Crimes            19  \n",
       "19996              Property Crimes            24  \n",
       "19997              Property Crimes            14  \n",
       "19998  Crimes against Public Order            29  \n",
       "19999              Property Crimes             0  \n",
       "\n",
       "[20000 rows x 15 columns]"
      ]
     },
     "execution_count": 60,
     "metadata": {},
     "output_type": "execute_result"
    }
   ],
   "source": [
    "df"
   ]
  },
  {
   "cell_type": "code",
   "execution_count": 61,
   "id": "3ad8ee81",
   "metadata": {
    "execution": {
     "iopub.execute_input": "2024-06-24T09:48:38.033332Z",
     "iopub.status.busy": "2024-06-24T09:48:38.032871Z",
     "iopub.status.idle": "2024-06-24T09:48:38.057803Z",
     "shell.execute_reply": "2024-06-24T09:48:38.056319Z"
    },
    "papermill": {
     "duration": 0.071114,
     "end_time": "2024-06-24T09:48:38.060596",
     "exception": false,
     "start_time": "2024-06-24T09:48:37.989482",
     "status": "completed"
    },
    "tags": []
   },
   "outputs": [],
   "source": [
    "df.loc[:,'Victim_Age']=df['Victim_Age'].apply(lambda x: int(x))"
   ]
  },
  {
   "cell_type": "code",
   "execution_count": 62,
   "id": "e5223838",
   "metadata": {
    "execution": {
     "iopub.execute_input": "2024-06-24T09:48:38.148690Z",
     "iopub.status.busy": "2024-06-24T09:48:38.147519Z",
     "iopub.status.idle": "2024-06-24T09:48:38.174433Z",
     "shell.execute_reply": "2024-06-24T09:48:38.173038Z"
    },
    "papermill": {
     "duration": 0.074115,
     "end_time": "2024-06-24T09:48:38.177134",
     "exception": false,
     "start_time": "2024-06-24T09:48:38.103019",
     "status": "completed"
    },
    "tags": []
   },
   "outputs": [
    {
     "data": {
      "text/plain": [
       "Latitude                     0\n",
       "Longitude                    0\n",
       "reporting_delay_day_count    0\n",
       "day_category                 0\n",
       "Victim_Age                   0\n",
       "Victim_Sex                   0\n",
       "Victim_Descent               0\n",
       "Premise_Code                 0\n",
       "Weapon_Description           0\n",
       "Area_ID                      0\n",
       "Modus_Operandi               0\n",
       "Part 1-2                     0\n",
       "Status                       0\n",
       "Crime_Category               0\n",
       "max_activity                 0\n",
       "dtype: int64"
      ]
     },
     "execution_count": 62,
     "metadata": {},
     "output_type": "execute_result"
    }
   ],
   "source": [
    "df.isnull().sum()"
   ]
  },
  {
   "cell_type": "code",
   "execution_count": 63,
   "id": "8b337e92",
   "metadata": {
    "execution": {
     "iopub.execute_input": "2024-06-24T09:48:38.267692Z",
     "iopub.status.busy": "2024-06-24T09:48:38.267223Z",
     "iopub.status.idle": "2024-06-24T09:48:38.296189Z",
     "shell.execute_reply": "2024-06-24T09:48:38.295098Z"
    },
    "papermill": {
     "duration": 0.078321,
     "end_time": "2024-06-24T09:48:38.299411",
     "exception": false,
     "start_time": "2024-06-24T09:48:38.221090",
     "status": "completed"
    },
    "tags": []
   },
   "outputs": [
    {
     "data": {
      "text/html": [
       "<div>\n",
       "<style scoped>\n",
       "    .dataframe tbody tr th:only-of-type {\n",
       "        vertical-align: middle;\n",
       "    }\n",
       "\n",
       "    .dataframe tbody tr th {\n",
       "        vertical-align: top;\n",
       "    }\n",
       "\n",
       "    .dataframe thead th {\n",
       "        text-align: right;\n",
       "    }\n",
       "</style>\n",
       "<table border=\"1\" class=\"dataframe\">\n",
       "  <thead>\n",
       "    <tr style=\"text-align: right;\">\n",
       "      <th></th>\n",
       "      <th>Latitude</th>\n",
       "      <th>Longitude</th>\n",
       "      <th>reporting_delay_day_count</th>\n",
       "      <th>day_category</th>\n",
       "      <th>Victim_Age</th>\n",
       "      <th>Victim_Sex</th>\n",
       "      <th>Victim_Descent</th>\n",
       "      <th>Premise_Code</th>\n",
       "      <th>Weapon_Description</th>\n",
       "      <th>Area_ID</th>\n",
       "      <th>Modus_Operandi</th>\n",
       "      <th>Part 1-2</th>\n",
       "      <th>Status</th>\n",
       "      <th>Crime_Category</th>\n",
       "      <th>max_activity</th>\n",
       "    </tr>\n",
       "  </thead>\n",
       "  <tbody>\n",
       "    <tr>\n",
       "      <th>0</th>\n",
       "      <td>34.1522</td>\n",
       "      <td>-118.3910</td>\n",
       "      <td>3</td>\n",
       "      <td>Evening</td>\n",
       "      <td>75.0</td>\n",
       "      <td>M</td>\n",
       "      <td>W</td>\n",
       "      <td>101.0</td>\n",
       "      <td>UNKNOWN WEAPON/OTHER WEAPON</td>\n",
       "      <td>15.0</td>\n",
       "      <td>0385</td>\n",
       "      <td>1.0</td>\n",
       "      <td>IC</td>\n",
       "      <td>Property Crimes</td>\n",
       "      <td>4</td>\n",
       "    </tr>\n",
       "    <tr>\n",
       "      <th>1</th>\n",
       "      <td>34.0028</td>\n",
       "      <td>-118.2391</td>\n",
       "      <td>0</td>\n",
       "      <td>Daytime</td>\n",
       "      <td>41.0</td>\n",
       "      <td>M</td>\n",
       "      <td>H</td>\n",
       "      <td>216.0</td>\n",
       "      <td>STRONG-ARM (HANDS, FIST, FEET OR BODILY FORCE)</td>\n",
       "      <td>13.0</td>\n",
       "      <td>0906 0344 0446 0371 1822 0416 0417 0352</td>\n",
       "      <td>1.0</td>\n",
       "      <td>IC</td>\n",
       "      <td>Property Crimes</td>\n",
       "      <td>39</td>\n",
       "    </tr>\n",
       "    <tr>\n",
       "      <th>2</th>\n",
       "      <td>34.0111</td>\n",
       "      <td>-118.2653</td>\n",
       "      <td>0</td>\n",
       "      <td>Morning</td>\n",
       "      <td>67.0</td>\n",
       "      <td>M</td>\n",
       "      <td>B</td>\n",
       "      <td>501.0</td>\n",
       "      <td>UNKNOWN FIREARM</td>\n",
       "      <td>13.0</td>\n",
       "      <td>1202 0329</td>\n",
       "      <td>2.0</td>\n",
       "      <td>IC</td>\n",
       "      <td>Property Crimes</td>\n",
       "      <td>9</td>\n",
       "    </tr>\n",
       "    <tr>\n",
       "      <th>3</th>\n",
       "      <td>34.2953</td>\n",
       "      <td>-118.4590</td>\n",
       "      <td>2</td>\n",
       "      <td>Evening</td>\n",
       "      <td>61.0</td>\n",
       "      <td>M</td>\n",
       "      <td>H</td>\n",
       "      <td>101.0</td>\n",
       "      <td>VERBAL THREAT</td>\n",
       "      <td>19.0</td>\n",
       "      <td>1300 0329</td>\n",
       "      <td>1.0</td>\n",
       "      <td>IC</td>\n",
       "      <td>Property Crimes</td>\n",
       "      <td>9</td>\n",
       "    </tr>\n",
       "    <tr>\n",
       "      <th>4</th>\n",
       "      <td>33.9787</td>\n",
       "      <td>-118.2918</td>\n",
       "      <td>0</td>\n",
       "      <td>Morning</td>\n",
       "      <td>30.0</td>\n",
       "      <td>X</td>\n",
       "      <td>X</td>\n",
       "      <td>401.0</td>\n",
       "      <td>STRONG-ARM (HANDS, FIST, FEET OR BODILY FORCE)</td>\n",
       "      <td>12.0</td>\n",
       "      <td>0400 0344 0945 0416 1822 0417</td>\n",
       "      <td>1.0</td>\n",
       "      <td>IC</td>\n",
       "      <td>Property Crimes</td>\n",
       "      <td>29</td>\n",
       "    </tr>\n",
       "    <tr>\n",
       "      <th>...</th>\n",
       "      <td>...</td>\n",
       "      <td>...</td>\n",
       "      <td>...</td>\n",
       "      <td>...</td>\n",
       "      <td>...</td>\n",
       "      <td>...</td>\n",
       "      <td>...</td>\n",
       "      <td>...</td>\n",
       "      <td>...</td>\n",
       "      <td>...</td>\n",
       "      <td>...</td>\n",
       "      <td>...</td>\n",
       "      <td>...</td>\n",
       "      <td>...</td>\n",
       "      <td>...</td>\n",
       "    </tr>\n",
       "    <tr>\n",
       "      <th>19995</th>\n",
       "      <td>34.0334</td>\n",
       "      <td>-118.3523</td>\n",
       "      <td>0</td>\n",
       "      <td>Morning</td>\n",
       "      <td>51.0</td>\n",
       "      <td>M</td>\n",
       "      <td>H</td>\n",
       "      <td>501.0</td>\n",
       "      <td>STRONG-ARM (HANDS, FIST, FEET OR BODILY FORCE)</td>\n",
       "      <td>3.0</td>\n",
       "      <td>2004 0913 0416 0446</td>\n",
       "      <td>2.0</td>\n",
       "      <td>IC</td>\n",
       "      <td>Violent Crimes</td>\n",
       "      <td>19</td>\n",
       "    </tr>\n",
       "    <tr>\n",
       "      <th>19996</th>\n",
       "      <td>34.2212</td>\n",
       "      <td>-118.5011</td>\n",
       "      <td>0</td>\n",
       "      <td>Night</td>\n",
       "      <td>30.0</td>\n",
       "      <td>M</td>\n",
       "      <td>W</td>\n",
       "      <td>301.0</td>\n",
       "      <td>STRONG-ARM (HANDS, FIST, FEET OR BODILY FORCE)</td>\n",
       "      <td>10.0</td>\n",
       "      <td>1420 1414 0209 0344 1822</td>\n",
       "      <td>1.0</td>\n",
       "      <td>IC</td>\n",
       "      <td>Property Crimes</td>\n",
       "      <td>24</td>\n",
       "    </tr>\n",
       "    <tr>\n",
       "      <th>19997</th>\n",
       "      <td>34.0571</td>\n",
       "      <td>-118.3815</td>\n",
       "      <td>0</td>\n",
       "      <td>Daytime</td>\n",
       "      <td>42.0</td>\n",
       "      <td>M</td>\n",
       "      <td>H</td>\n",
       "      <td>102.0</td>\n",
       "      <td>STRONG-ARM (HANDS, FIST, FEET OR BODILY FORCE)</td>\n",
       "      <td>8.0</td>\n",
       "      <td>1420 0344 1822</td>\n",
       "      <td>1.0</td>\n",
       "      <td>IC</td>\n",
       "      <td>Property Crimes</td>\n",
       "      <td>14</td>\n",
       "    </tr>\n",
       "    <tr>\n",
       "      <th>19998</th>\n",
       "      <td>33.7451</td>\n",
       "      <td>-118.2835</td>\n",
       "      <td>0</td>\n",
       "      <td>Morning</td>\n",
       "      <td>76.0</td>\n",
       "      <td>F</td>\n",
       "      <td>H</td>\n",
       "      <td>501.0</td>\n",
       "      <td>STRONG-ARM (HANDS, FIST, FEET OR BODILY FORCE)</td>\n",
       "      <td>5.0</td>\n",
       "      <td>2038 1202 0553 1242 0602 0913</td>\n",
       "      <td>2.0</td>\n",
       "      <td>IC</td>\n",
       "      <td>Crimes against Public Order</td>\n",
       "      <td>29</td>\n",
       "    </tr>\n",
       "    <tr>\n",
       "      <th>19999</th>\n",
       "      <td>34.0037</td>\n",
       "      <td>-118.3034</td>\n",
       "      <td>1</td>\n",
       "      <td>Evening</td>\n",
       "      <td>30.0</td>\n",
       "      <td>X</td>\n",
       "      <td>A</td>\n",
       "      <td>101.0</td>\n",
       "      <td>VEHICLE</td>\n",
       "      <td>3.0</td>\n",
       "      <td></td>\n",
       "      <td>1.0</td>\n",
       "      <td>IC</td>\n",
       "      <td>Property Crimes</td>\n",
       "      <td>0</td>\n",
       "    </tr>\n",
       "  </tbody>\n",
       "</table>\n",
       "<p>20000 rows × 15 columns</p>\n",
       "</div>"
      ],
      "text/plain": [
       "       Latitude  Longitude  reporting_delay_day_count day_category  \\\n",
       "0       34.1522  -118.3910                          3      Evening   \n",
       "1       34.0028  -118.2391                          0      Daytime   \n",
       "2       34.0111  -118.2653                          0      Morning   \n",
       "3       34.2953  -118.4590                          2      Evening   \n",
       "4       33.9787  -118.2918                          0      Morning   \n",
       "...         ...        ...                        ...          ...   \n",
       "19995   34.0334  -118.3523                          0      Morning   \n",
       "19996   34.2212  -118.5011                          0        Night   \n",
       "19997   34.0571  -118.3815                          0      Daytime   \n",
       "19998   33.7451  -118.2835                          0      Morning   \n",
       "19999   34.0037  -118.3034                          1      Evening   \n",
       "\n",
       "       Victim_Age Victim_Sex Victim_Descent  Premise_Code  \\\n",
       "0            75.0          M              W         101.0   \n",
       "1            41.0          M              H         216.0   \n",
       "2            67.0          M              B         501.0   \n",
       "3            61.0          M              H         101.0   \n",
       "4            30.0          X              X         401.0   \n",
       "...           ...        ...            ...           ...   \n",
       "19995        51.0          M              H         501.0   \n",
       "19996        30.0          M              W         301.0   \n",
       "19997        42.0          M              H         102.0   \n",
       "19998        76.0          F              H         501.0   \n",
       "19999        30.0          X              A         101.0   \n",
       "\n",
       "                                   Weapon_Description  Area_ID  \\\n",
       "0                         UNKNOWN WEAPON/OTHER WEAPON     15.0   \n",
       "1      STRONG-ARM (HANDS, FIST, FEET OR BODILY FORCE)     13.0   \n",
       "2                                     UNKNOWN FIREARM     13.0   \n",
       "3                                       VERBAL THREAT     19.0   \n",
       "4      STRONG-ARM (HANDS, FIST, FEET OR BODILY FORCE)     12.0   \n",
       "...                                               ...      ...   \n",
       "19995  STRONG-ARM (HANDS, FIST, FEET OR BODILY FORCE)      3.0   \n",
       "19996  STRONG-ARM (HANDS, FIST, FEET OR BODILY FORCE)     10.0   \n",
       "19997  STRONG-ARM (HANDS, FIST, FEET OR BODILY FORCE)      8.0   \n",
       "19998  STRONG-ARM (HANDS, FIST, FEET OR BODILY FORCE)      5.0   \n",
       "19999                                         VEHICLE      3.0   \n",
       "\n",
       "                                Modus_Operandi  Part 1-2 Status  \\\n",
       "0                                         0385       1.0     IC   \n",
       "1      0906 0344 0446 0371 1822 0416 0417 0352       1.0     IC   \n",
       "2                                    1202 0329       2.0     IC   \n",
       "3                                    1300 0329       1.0     IC   \n",
       "4                0400 0344 0945 0416 1822 0417       1.0     IC   \n",
       "...                                        ...       ...    ...   \n",
       "19995                      2004 0913 0416 0446       2.0     IC   \n",
       "19996                 1420 1414 0209 0344 1822       1.0     IC   \n",
       "19997                           1420 0344 1822       1.0     IC   \n",
       "19998            2038 1202 0553 1242 0602 0913       2.0     IC   \n",
       "19999                                                1.0     IC   \n",
       "\n",
       "                    Crime_Category  max_activity  \n",
       "0                  Property Crimes             4  \n",
       "1                  Property Crimes            39  \n",
       "2                  Property Crimes             9  \n",
       "3                  Property Crimes             9  \n",
       "4                  Property Crimes            29  \n",
       "...                            ...           ...  \n",
       "19995               Violent Crimes            19  \n",
       "19996              Property Crimes            24  \n",
       "19997              Property Crimes            14  \n",
       "19998  Crimes against Public Order            29  \n",
       "19999              Property Crimes             0  \n",
       "\n",
       "[20000 rows x 15 columns]"
      ]
     },
     "execution_count": 63,
     "metadata": {},
     "output_type": "execute_result"
    }
   ],
   "source": [
    "df"
   ]
  },
  {
   "cell_type": "code",
   "execution_count": 64,
   "id": "93222467",
   "metadata": {
    "execution": {
     "iopub.execute_input": "2024-06-24T09:48:38.389924Z",
     "iopub.status.busy": "2024-06-24T09:48:38.389481Z",
     "iopub.status.idle": "2024-06-24T09:48:38.402267Z",
     "shell.execute_reply": "2024-06-24T09:48:38.400822Z"
    },
    "papermill": {
     "duration": 0.06196,
     "end_time": "2024-06-24T09:48:38.405074",
     "exception": false,
     "start_time": "2024-06-24T09:48:38.343114",
     "status": "completed"
    },
    "tags": []
   },
   "outputs": [
    {
     "data": {
      "text/plain": [
       "Area_ID\n",
       "12.0    1345\n",
       "14.0    1157\n",
       "1.0     1156\n",
       "3.0     1130\n",
       "18.0    1067\n",
       "15.0    1065\n",
       "6.0     1014\n",
       "13.0     999\n",
       "20.0     960\n",
       "7.0      943\n",
       "2.0      931\n",
       "8.0      910\n",
       "9.0      902\n",
       "5.0      872\n",
       "19.0     870\n",
       "11.0     839\n",
       "21.0     792\n",
       "10.0     790\n",
       "17.0     769\n",
       "4.0      755\n",
       "16.0     734\n",
       "Name: count, dtype: int64"
      ]
     },
     "execution_count": 64,
     "metadata": {},
     "output_type": "execute_result"
    }
   ],
   "source": [
    "df['Area_ID'].value_counts()"
   ]
  },
  {
   "cell_type": "code",
   "execution_count": 65,
   "id": "e9eac77b",
   "metadata": {
    "execution": {
     "iopub.execute_input": "2024-06-24T09:48:38.495672Z",
     "iopub.status.busy": "2024-06-24T09:48:38.495186Z",
     "iopub.status.idle": "2024-06-24T09:48:38.505401Z",
     "shell.execute_reply": "2024-06-24T09:48:38.504165Z"
    },
    "papermill": {
     "duration": 0.058037,
     "end_time": "2024-06-24T09:48:38.508158",
     "exception": false,
     "start_time": "2024-06-24T09:48:38.450121",
     "status": "completed"
    },
    "tags": []
   },
   "outputs": [
    {
     "name": "stderr",
     "output_type": "stream",
     "text": [
      "/tmp/ipykernel_18/876014097.py:1: SettingWithCopyWarning: \n",
      "A value is trying to be set on a copy of a slice from a DataFrame\n",
      "\n",
      "See the caveats in the documentation: https://pandas.pydata.org/pandas-docs/stable/user_guide/indexing.html#returning-a-view-versus-a-copy\n",
      "  df.drop('max_activity',axis=1,inplace=True)\n"
     ]
    }
   ],
   "source": [
    "df.drop('max_activity',axis=1,inplace=True)"
   ]
  },
  {
   "cell_type": "code",
   "execution_count": 66,
   "id": "6b499ceb",
   "metadata": {
    "execution": {
     "iopub.execute_input": "2024-06-24T09:48:38.599438Z",
     "iopub.status.busy": "2024-06-24T09:48:38.598953Z",
     "iopub.status.idle": "2024-06-24T09:48:38.611554Z",
     "shell.execute_reply": "2024-06-24T09:48:38.610368Z"
    },
    "papermill": {
     "duration": 0.062093,
     "end_time": "2024-06-24T09:48:38.614514",
     "exception": false,
     "start_time": "2024-06-24T09:48:38.552421",
     "status": "completed"
    },
    "tags": []
   },
   "outputs": [],
   "source": [
    "\n",
    "df.loc[df['Weapon_Description'] == 'STRONG-ARM (HANDS, FIST, FEET OR BODILY FORCE)', 'Weapon_Description'] = 'Physical Force'\n"
   ]
  },
  {
   "cell_type": "code",
   "execution_count": 67,
   "id": "544840c8",
   "metadata": {
    "execution": {
     "iopub.execute_input": "2024-06-24T09:48:38.703456Z",
     "iopub.status.busy": "2024-06-24T09:48:38.703004Z",
     "iopub.status.idle": "2024-06-24T09:48:38.716193Z",
     "shell.execute_reply": "2024-06-24T09:48:38.714990Z"
    },
    "papermill": {
     "duration": 0.060696,
     "end_time": "2024-06-24T09:48:38.718707",
     "exception": false,
     "start_time": "2024-06-24T09:48:38.658011",
     "status": "completed"
    },
    "tags": []
   },
   "outputs": [
    {
     "data": {
      "text/plain": [
       "Weapon_Description\n",
       "Physical Force                                   10817\n",
       "UNKNOWN WEAPON/OTHER WEAPON                       2201\n",
       "VERBAL THREAT                                     1464\n",
       "HAND GUN                                          1083\n",
       "KNIFE WITH BLADE 6INCHES OR LESS                   432\n",
       "SEMI-AUTOMATIC PISTOL                              401\n",
       "UNKNOWN FIREARM                                    394\n",
       "OTHER KNIFE                                        349\n",
       "MACE/PEPPER SPRAY                                  234\n",
       "VEHICLE                                            221\n",
       "ROCK/THROWN OBJECT                                 171\n",
       "KITCHEN KNIFE                                      153\n",
       "BOTTLE                                             141\n",
       "PIPE/METAL PIPE                                    140\n",
       "STICK                                              138\n",
       "CLUB/BAT                                           135\n",
       "AIR PISTOL/REVOLVER/RIFLE/BB GUN                   110\n",
       "KNIFE WITH BLADE OVER 6 INCHES IN LENGTH           107\n",
       "BLUNT INSTRUMENT                                   104\n",
       "FOLDING KNIFE                                       95\n",
       "SIMULATED GUN                                       90\n",
       "REVOLVER                                            89\n",
       "CONCRETE BLOCK/BRICK                                74\n",
       "BELT FLAILING INSTRUMENT/CHAIN                      69\n",
       "MACHETE                                             64\n",
       "HAMMER                                              63\n",
       "SCREWDRIVER                                         62\n",
       "FIRE                                                62\n",
       "UNKNOWN TYPE CUTTING INSTRUMENT                     62\n",
       "OTHER FIREARM                                       55\n",
       "PHYSICAL PRESENCE                                   52\n",
       "FIXED OBJECT                                        49\n",
       "OTHER CUTTING INSTRUMENT                            48\n",
       "GLASS                                               41\n",
       "SCISSORS                                            33\n",
       "RIFLE                                               29\n",
       "BOARD                                               29\n",
       "TIRE IRON                                           19\n",
       "TOY GUN                                             16\n",
       "SHOTGUN                                             15\n",
       "BRASS KNUCKLES                                      13\n",
       "AXE                                                 12\n",
       "STUN GUN                                             7\n",
       "DEMAND NOTE                                          7\n",
       "SCALDING LIQUID                                      6\n",
       "ICE PICK                                             6\n",
       "SWITCH BLADE                                         6\n",
       "BOMB THREAT                                          5\n",
       "RAZOR BLADE                                          5\n",
       "BOWIE KNIFE                                          4\n",
       "SAWED OFF RIFLE/SHOTGUN                              3\n",
       "CAUSTIC CHEMICAL/POISON                              3\n",
       "STARTER PISTOL/REVOLVER                              3\n",
       "ASSAULT WEAPON/UZI/AK47/ETC                          3\n",
       "HECKLER & KOCH 93 SEMIAUTOMATIC ASSAULT RIFLE        2\n",
       "CLEAVER                                              2\n",
       "MARTIAL ARTS WEAPONS                                 2\n",
       "Name: count, dtype: int64"
      ]
     },
     "execution_count": 67,
     "metadata": {},
     "output_type": "execute_result"
    }
   ],
   "source": [
    "df['Weapon_Description'].value_counts()"
   ]
  },
  {
   "cell_type": "code",
   "execution_count": 68,
   "id": "19d00d3e",
   "metadata": {
    "execution": {
     "iopub.execute_input": "2024-06-24T09:48:38.809009Z",
     "iopub.status.busy": "2024-06-24T09:48:38.808586Z",
     "iopub.status.idle": "2024-06-24T09:48:38.882904Z",
     "shell.execute_reply": "2024-06-24T09:48:38.881724Z"
    },
    "papermill": {
     "duration": 0.123204,
     "end_time": "2024-06-24T09:48:38.885951",
     "exception": false,
     "start_time": "2024-06-24T09:48:38.762747",
     "status": "completed"
    },
    "tags": []
   },
   "outputs": [],
   "source": [
    "\n",
    "def gun(s):\n",
    "    t=s.replace('/',' ')\n",
    "    listt=t.split(' ' or '/')\n",
    "    gun_keywords=['gun','pistol','revolver','rifle','shotgun']\n",
    "    \n",
    "    sharp_heavy_object=['blade','stone','knife','metal','screwdriver','cleaver', 'glass','machete' ,'iron' , 'cutting','axe' ,'instrument','hammer','weapon','object','bottle','weapons','brass','scissors']\n",
    "    \n",
    "    other_weapon = ['bomb','threat', 'demand', 'poison', 'ice', 'scalding', 'board','block' ,'brick', 'stick', 'bat', 'spray']\n",
    "    \n",
    "    physical_presence=['physical','presence']\n",
    "    \n",
    "    fire=['firearm' , 'fire' ]\n",
    "\n",
    "    for i in listt:\n",
    "        if i.lower() in gun_keywords:\n",
    "            return 'Gun'\n",
    "        elif i.lower() in sharp_heavy_object:\n",
    "            return 'sharp_heavy_object'\n",
    "        \n",
    "        elif i.lower() in fire:\n",
    "            return 'fire'\n",
    "        elif i.lower() in other_weapon:\n",
    "            return 'other_weapon'\n",
    "        elif i.lower() in physical_presence:\n",
    "            return 'Physical Force'\n",
    "        \n",
    "    return s\n",
    "    \n",
    "\n",
    "\n",
    "\n",
    "df.loc[:,'Weapon_Description']=df['Weapon_Description'].apply(gun)"
   ]
  },
  {
   "cell_type": "code",
   "execution_count": 69,
   "id": "c53d0087",
   "metadata": {
    "execution": {
     "iopub.execute_input": "2024-06-24T09:48:38.975471Z",
     "iopub.status.busy": "2024-06-24T09:48:38.974991Z",
     "iopub.status.idle": "2024-06-24T09:48:38.987559Z",
     "shell.execute_reply": "2024-06-24T09:48:38.986347Z"
    },
    "papermill": {
     "duration": 0.060539,
     "end_time": "2024-06-24T09:48:38.990294",
     "exception": false,
     "start_time": "2024-06-24T09:48:38.929755",
     "status": "completed"
    },
    "tags": []
   },
   "outputs": [
    {
     "data": {
      "text/plain": [
       "Weapon_Description\n",
       "Physical Force        10869\n",
       "sharp_heavy_object     4450\n",
       "other_weapon           2101\n",
       "Gun                    1848\n",
       "fire                    511\n",
       "VEHICLE                 221\n",
       "Name: count, dtype: int64"
      ]
     },
     "execution_count": 69,
     "metadata": {},
     "output_type": "execute_result"
    }
   ],
   "source": [
    "df['Weapon_Description'].value_counts()"
   ]
  },
  {
   "cell_type": "code",
   "execution_count": 70,
   "id": "d9ce153f",
   "metadata": {
    "execution": {
     "iopub.execute_input": "2024-06-24T09:48:39.081817Z",
     "iopub.status.busy": "2024-06-24T09:48:39.081414Z",
     "iopub.status.idle": "2024-06-24T09:48:39.090551Z",
     "shell.execute_reply": "2024-06-24T09:48:39.089337Z"
    },
    "papermill": {
     "duration": 0.057064,
     "end_time": "2024-06-24T09:48:39.093156",
     "exception": false,
     "start_time": "2024-06-24T09:48:39.036092",
     "status": "completed"
    },
    "tags": []
   },
   "outputs": [
    {
     "data": {
      "text/plain": [
       "217"
      ]
     },
     "execution_count": 70,
     "metadata": {},
     "output_type": "execute_result"
    }
   ],
   "source": [
    "len(df['Premise_Code'].value_counts())"
   ]
  },
  {
   "cell_type": "code",
   "execution_count": 71,
   "id": "78a2de40",
   "metadata": {
    "execution": {
     "iopub.execute_input": "2024-06-24T09:48:39.183351Z",
     "iopub.status.busy": "2024-06-24T09:48:39.182931Z",
     "iopub.status.idle": "2024-06-24T09:48:39.192136Z",
     "shell.execute_reply": "2024-06-24T09:48:39.190932Z"
    },
    "papermill": {
     "duration": 0.056582,
     "end_time": "2024-06-24T09:48:39.194515",
     "exception": false,
     "start_time": "2024-06-24T09:48:39.137933",
     "status": "completed"
    },
    "tags": []
   },
   "outputs": [
    {
     "data": {
      "text/plain": [
       "21"
      ]
     },
     "execution_count": 71,
     "metadata": {},
     "output_type": "execute_result"
    }
   ],
   "source": [
    "len(df['Area_ID'].value_counts())"
   ]
  },
  {
   "cell_type": "code",
   "execution_count": 72,
   "id": "c29a0ff8",
   "metadata": {
    "execution": {
     "iopub.execute_input": "2024-06-24T09:48:39.288593Z",
     "iopub.status.busy": "2024-06-24T09:48:39.288079Z",
     "iopub.status.idle": "2024-06-24T09:48:39.294618Z",
     "shell.execute_reply": "2024-06-24T09:48:39.293343Z"
    },
    "papermill": {
     "duration": 0.055309,
     "end_time": "2024-06-24T09:48:39.297101",
     "exception": false,
     "start_time": "2024-06-24T09:48:39.241792",
     "status": "completed"
    },
    "tags": []
   },
   "outputs": [],
   "source": [
    "numeric_columns=[['Latitude','Longitude','reporting_delay_day_count','Victim_Age']]\n",
    "categorical_columns=[['day_category','Victim_Sex','Victim_Descent','Premise_Code','Area_ID','Part 1-2','Status']] #ohe\n",
    "multilabel_binarizer=[['Modus_Operandi']] \n"
   ]
  },
  {
   "cell_type": "code",
   "execution_count": 73,
   "id": "18bc9183",
   "metadata": {
    "execution": {
     "iopub.execute_input": "2024-06-24T09:48:39.390161Z",
     "iopub.status.busy": "2024-06-24T09:48:39.389724Z",
     "iopub.status.idle": "2024-06-24T09:48:39.420715Z",
     "shell.execute_reply": "2024-06-24T09:48:39.419306Z"
    },
    "papermill": {
     "duration": 0.081631,
     "end_time": "2024-06-24T09:48:39.423815",
     "exception": false,
     "start_time": "2024-06-24T09:48:39.342184",
     "status": "completed"
    },
    "tags": []
   },
   "outputs": [
    {
     "data": {
      "text/html": [
       "<div>\n",
       "<style scoped>\n",
       "    .dataframe tbody tr th:only-of-type {\n",
       "        vertical-align: middle;\n",
       "    }\n",
       "\n",
       "    .dataframe tbody tr th {\n",
       "        vertical-align: top;\n",
       "    }\n",
       "\n",
       "    .dataframe thead th {\n",
       "        text-align: right;\n",
       "    }\n",
       "</style>\n",
       "<table border=\"1\" class=\"dataframe\">\n",
       "  <thead>\n",
       "    <tr style=\"text-align: right;\">\n",
       "      <th></th>\n",
       "      <th>Latitude</th>\n",
       "      <th>Longitude</th>\n",
       "      <th>reporting_delay_day_count</th>\n",
       "      <th>day_category</th>\n",
       "      <th>Victim_Age</th>\n",
       "      <th>Victim_Sex</th>\n",
       "      <th>Victim_Descent</th>\n",
       "      <th>Premise_Code</th>\n",
       "      <th>Weapon_Description</th>\n",
       "      <th>Area_ID</th>\n",
       "      <th>Modus_Operandi</th>\n",
       "      <th>Part 1-2</th>\n",
       "      <th>Status</th>\n",
       "      <th>Crime_Category</th>\n",
       "    </tr>\n",
       "  </thead>\n",
       "  <tbody>\n",
       "    <tr>\n",
       "      <th>0</th>\n",
       "      <td>34.1522</td>\n",
       "      <td>-118.3910</td>\n",
       "      <td>3</td>\n",
       "      <td>Evening</td>\n",
       "      <td>75.0</td>\n",
       "      <td>M</td>\n",
       "      <td>W</td>\n",
       "      <td>101.0</td>\n",
       "      <td>sharp_heavy_object</td>\n",
       "      <td>15.0</td>\n",
       "      <td>0385</td>\n",
       "      <td>1.0</td>\n",
       "      <td>IC</td>\n",
       "      <td>Property Crimes</td>\n",
       "    </tr>\n",
       "    <tr>\n",
       "      <th>1</th>\n",
       "      <td>34.0028</td>\n",
       "      <td>-118.2391</td>\n",
       "      <td>0</td>\n",
       "      <td>Daytime</td>\n",
       "      <td>41.0</td>\n",
       "      <td>M</td>\n",
       "      <td>H</td>\n",
       "      <td>216.0</td>\n",
       "      <td>Physical Force</td>\n",
       "      <td>13.0</td>\n",
       "      <td>0906 0344 0446 0371 1822 0416 0417 0352</td>\n",
       "      <td>1.0</td>\n",
       "      <td>IC</td>\n",
       "      <td>Property Crimes</td>\n",
       "    </tr>\n",
       "    <tr>\n",
       "      <th>2</th>\n",
       "      <td>34.0111</td>\n",
       "      <td>-118.2653</td>\n",
       "      <td>0</td>\n",
       "      <td>Morning</td>\n",
       "      <td>67.0</td>\n",
       "      <td>M</td>\n",
       "      <td>B</td>\n",
       "      <td>501.0</td>\n",
       "      <td>fire</td>\n",
       "      <td>13.0</td>\n",
       "      <td>1202 0329</td>\n",
       "      <td>2.0</td>\n",
       "      <td>IC</td>\n",
       "      <td>Property Crimes</td>\n",
       "    </tr>\n",
       "    <tr>\n",
       "      <th>3</th>\n",
       "      <td>34.2953</td>\n",
       "      <td>-118.4590</td>\n",
       "      <td>2</td>\n",
       "      <td>Evening</td>\n",
       "      <td>61.0</td>\n",
       "      <td>M</td>\n",
       "      <td>H</td>\n",
       "      <td>101.0</td>\n",
       "      <td>other_weapon</td>\n",
       "      <td>19.0</td>\n",
       "      <td>1300 0329</td>\n",
       "      <td>1.0</td>\n",
       "      <td>IC</td>\n",
       "      <td>Property Crimes</td>\n",
       "    </tr>\n",
       "    <tr>\n",
       "      <th>4</th>\n",
       "      <td>33.9787</td>\n",
       "      <td>-118.2918</td>\n",
       "      <td>0</td>\n",
       "      <td>Morning</td>\n",
       "      <td>30.0</td>\n",
       "      <td>X</td>\n",
       "      <td>X</td>\n",
       "      <td>401.0</td>\n",
       "      <td>Physical Force</td>\n",
       "      <td>12.0</td>\n",
       "      <td>0400 0344 0945 0416 1822 0417</td>\n",
       "      <td>1.0</td>\n",
       "      <td>IC</td>\n",
       "      <td>Property Crimes</td>\n",
       "    </tr>\n",
       "    <tr>\n",
       "      <th>...</th>\n",
       "      <td>...</td>\n",
       "      <td>...</td>\n",
       "      <td>...</td>\n",
       "      <td>...</td>\n",
       "      <td>...</td>\n",
       "      <td>...</td>\n",
       "      <td>...</td>\n",
       "      <td>...</td>\n",
       "      <td>...</td>\n",
       "      <td>...</td>\n",
       "      <td>...</td>\n",
       "      <td>...</td>\n",
       "      <td>...</td>\n",
       "      <td>...</td>\n",
       "    </tr>\n",
       "    <tr>\n",
       "      <th>19995</th>\n",
       "      <td>34.0334</td>\n",
       "      <td>-118.3523</td>\n",
       "      <td>0</td>\n",
       "      <td>Morning</td>\n",
       "      <td>51.0</td>\n",
       "      <td>M</td>\n",
       "      <td>H</td>\n",
       "      <td>501.0</td>\n",
       "      <td>Physical Force</td>\n",
       "      <td>3.0</td>\n",
       "      <td>2004 0913 0416 0446</td>\n",
       "      <td>2.0</td>\n",
       "      <td>IC</td>\n",
       "      <td>Violent Crimes</td>\n",
       "    </tr>\n",
       "    <tr>\n",
       "      <th>19996</th>\n",
       "      <td>34.2212</td>\n",
       "      <td>-118.5011</td>\n",
       "      <td>0</td>\n",
       "      <td>Night</td>\n",
       "      <td>30.0</td>\n",
       "      <td>M</td>\n",
       "      <td>W</td>\n",
       "      <td>301.0</td>\n",
       "      <td>Physical Force</td>\n",
       "      <td>10.0</td>\n",
       "      <td>1420 1414 0209 0344 1822</td>\n",
       "      <td>1.0</td>\n",
       "      <td>IC</td>\n",
       "      <td>Property Crimes</td>\n",
       "    </tr>\n",
       "    <tr>\n",
       "      <th>19997</th>\n",
       "      <td>34.0571</td>\n",
       "      <td>-118.3815</td>\n",
       "      <td>0</td>\n",
       "      <td>Daytime</td>\n",
       "      <td>42.0</td>\n",
       "      <td>M</td>\n",
       "      <td>H</td>\n",
       "      <td>102.0</td>\n",
       "      <td>Physical Force</td>\n",
       "      <td>8.0</td>\n",
       "      <td>1420 0344 1822</td>\n",
       "      <td>1.0</td>\n",
       "      <td>IC</td>\n",
       "      <td>Property Crimes</td>\n",
       "    </tr>\n",
       "    <tr>\n",
       "      <th>19998</th>\n",
       "      <td>33.7451</td>\n",
       "      <td>-118.2835</td>\n",
       "      <td>0</td>\n",
       "      <td>Morning</td>\n",
       "      <td>76.0</td>\n",
       "      <td>F</td>\n",
       "      <td>H</td>\n",
       "      <td>501.0</td>\n",
       "      <td>Physical Force</td>\n",
       "      <td>5.0</td>\n",
       "      <td>2038 1202 0553 1242 0602 0913</td>\n",
       "      <td>2.0</td>\n",
       "      <td>IC</td>\n",
       "      <td>Crimes against Public Order</td>\n",
       "    </tr>\n",
       "    <tr>\n",
       "      <th>19999</th>\n",
       "      <td>34.0037</td>\n",
       "      <td>-118.3034</td>\n",
       "      <td>1</td>\n",
       "      <td>Evening</td>\n",
       "      <td>30.0</td>\n",
       "      <td>X</td>\n",
       "      <td>A</td>\n",
       "      <td>101.0</td>\n",
       "      <td>VEHICLE</td>\n",
       "      <td>3.0</td>\n",
       "      <td></td>\n",
       "      <td>1.0</td>\n",
       "      <td>IC</td>\n",
       "      <td>Property Crimes</td>\n",
       "    </tr>\n",
       "  </tbody>\n",
       "</table>\n",
       "<p>20000 rows × 14 columns</p>\n",
       "</div>"
      ],
      "text/plain": [
       "       Latitude  Longitude  reporting_delay_day_count day_category  \\\n",
       "0       34.1522  -118.3910                          3      Evening   \n",
       "1       34.0028  -118.2391                          0      Daytime   \n",
       "2       34.0111  -118.2653                          0      Morning   \n",
       "3       34.2953  -118.4590                          2      Evening   \n",
       "4       33.9787  -118.2918                          0      Morning   \n",
       "...         ...        ...                        ...          ...   \n",
       "19995   34.0334  -118.3523                          0      Morning   \n",
       "19996   34.2212  -118.5011                          0        Night   \n",
       "19997   34.0571  -118.3815                          0      Daytime   \n",
       "19998   33.7451  -118.2835                          0      Morning   \n",
       "19999   34.0037  -118.3034                          1      Evening   \n",
       "\n",
       "       Victim_Age Victim_Sex Victim_Descent  Premise_Code  Weapon_Description  \\\n",
       "0            75.0          M              W         101.0  sharp_heavy_object   \n",
       "1            41.0          M              H         216.0      Physical Force   \n",
       "2            67.0          M              B         501.0                fire   \n",
       "3            61.0          M              H         101.0        other_weapon   \n",
       "4            30.0          X              X         401.0      Physical Force   \n",
       "...           ...        ...            ...           ...                 ...   \n",
       "19995        51.0          M              H         501.0      Physical Force   \n",
       "19996        30.0          M              W         301.0      Physical Force   \n",
       "19997        42.0          M              H         102.0      Physical Force   \n",
       "19998        76.0          F              H         501.0      Physical Force   \n",
       "19999        30.0          X              A         101.0             VEHICLE   \n",
       "\n",
       "       Area_ID                           Modus_Operandi  Part 1-2 Status  \\\n",
       "0         15.0                                     0385       1.0     IC   \n",
       "1         13.0  0906 0344 0446 0371 1822 0416 0417 0352       1.0     IC   \n",
       "2         13.0                                1202 0329       2.0     IC   \n",
       "3         19.0                                1300 0329       1.0     IC   \n",
       "4         12.0            0400 0344 0945 0416 1822 0417       1.0     IC   \n",
       "...        ...                                      ...       ...    ...   \n",
       "19995      3.0                      2004 0913 0416 0446       2.0     IC   \n",
       "19996     10.0                 1420 1414 0209 0344 1822       1.0     IC   \n",
       "19997      8.0                           1420 0344 1822       1.0     IC   \n",
       "19998      5.0            2038 1202 0553 1242 0602 0913       2.0     IC   \n",
       "19999      3.0                                                1.0     IC   \n",
       "\n",
       "                    Crime_Category  \n",
       "0                  Property Crimes  \n",
       "1                  Property Crimes  \n",
       "2                  Property Crimes  \n",
       "3                  Property Crimes  \n",
       "4                  Property Crimes  \n",
       "...                            ...  \n",
       "19995               Violent Crimes  \n",
       "19996              Property Crimes  \n",
       "19997              Property Crimes  \n",
       "19998  Crimes against Public Order  \n",
       "19999              Property Crimes  \n",
       "\n",
       "[20000 rows x 14 columns]"
      ]
     },
     "execution_count": 73,
     "metadata": {},
     "output_type": "execute_result"
    }
   ],
   "source": [
    "df"
   ]
  },
  {
   "cell_type": "code",
   "execution_count": 74,
   "id": "9f20a58e",
   "metadata": {
    "execution": {
     "iopub.execute_input": "2024-06-24T09:48:39.519857Z",
     "iopub.status.busy": "2024-06-24T09:48:39.519357Z",
     "iopub.status.idle": "2024-06-24T09:48:39.530302Z",
     "shell.execute_reply": "2024-06-24T09:48:39.529057Z"
    },
    "papermill": {
     "duration": 0.06305,
     "end_time": "2024-06-24T09:48:39.533475",
     "exception": false,
     "start_time": "2024-06-24T09:48:39.470425",
     "status": "completed"
    },
    "tags": []
   },
   "outputs": [
    {
     "name": "stderr",
     "output_type": "stream",
     "text": [
      "/tmp/ipykernel_18/448365884.py:3: SettingWithCopyWarning: \n",
      "A value is trying to be set on a copy of a slice from a DataFrame\n",
      "\n",
      "See the caveats in the documentation: https://pandas.pydata.org/pandas-docs/stable/user_guide/indexing.html#returning-a-view-versus-a-copy\n",
      "  df.drop('Crime_Category',axis=1,inplace=True)\n"
     ]
    }
   ],
   "source": [
    "y=df['Crime_Category']\n",
    "\n",
    "df.drop('Crime_Category',axis=1,inplace=True)"
   ]
  },
  {
   "cell_type": "code",
   "execution_count": 75,
   "id": "64c9b610",
   "metadata": {
    "execution": {
     "iopub.execute_input": "2024-06-24T09:48:39.627772Z",
     "iopub.status.busy": "2024-06-24T09:48:39.627292Z",
     "iopub.status.idle": "2024-06-24T09:48:39.655338Z",
     "shell.execute_reply": "2024-06-24T09:48:39.653473Z"
    },
    "papermill": {
     "duration": 0.078283,
     "end_time": "2024-06-24T09:48:39.658723",
     "exception": false,
     "start_time": "2024-06-24T09:48:39.580440",
     "status": "completed"
    },
    "tags": []
   },
   "outputs": [
    {
     "name": "stdout",
     "output_type": "stream",
     "text": [
      "<class 'pandas.core.frame.DataFrame'>\n",
      "RangeIndex: 20000 entries, 0 to 19999\n",
      "Data columns (total 13 columns):\n",
      " #   Column                     Non-Null Count  Dtype  \n",
      "---  ------                     --------------  -----  \n",
      " 0   Latitude                   20000 non-null  float64\n",
      " 1   Longitude                  20000 non-null  float64\n",
      " 2   reporting_delay_day_count  20000 non-null  int64  \n",
      " 3   day_category               20000 non-null  object \n",
      " 4   Victim_Age                 20000 non-null  float64\n",
      " 5   Victim_Sex                 20000 non-null  object \n",
      " 6   Victim_Descent             20000 non-null  object \n",
      " 7   Premise_Code               20000 non-null  float64\n",
      " 8   Weapon_Description         20000 non-null  object \n",
      " 9   Area_ID                    20000 non-null  float64\n",
      " 10  Modus_Operandi             20000 non-null  object \n",
      " 11  Part 1-2                   20000 non-null  float64\n",
      " 12  Status                     20000 non-null  object \n",
      "dtypes: float64(6), int64(1), object(6)\n",
      "memory usage: 2.0+ MB\n"
     ]
    }
   ],
   "source": [
    "df.info()"
   ]
  },
  {
   "cell_type": "code",
   "execution_count": 76,
   "id": "1a3b651b",
   "metadata": {
    "execution": {
     "iopub.execute_input": "2024-06-24T09:48:39.750864Z",
     "iopub.status.busy": "2024-06-24T09:48:39.750417Z",
     "iopub.status.idle": "2024-06-24T09:48:39.761202Z",
     "shell.execute_reply": "2024-06-24T09:48:39.760036Z"
    },
    "papermill": {
     "duration": 0.0605,
     "end_time": "2024-06-24T09:48:39.763953",
     "exception": false,
     "start_time": "2024-06-24T09:48:39.703453",
     "status": "completed"
    },
    "tags": []
   },
   "outputs": [
    {
     "name": "stderr",
     "output_type": "stream",
     "text": [
      "/tmp/ipykernel_18/1308723833.py:1: SettingWithCopyWarning: \n",
      "A value is trying to be set on a copy of a slice from a DataFrame\n",
      "\n",
      "See the caveats in the documentation: https://pandas.pydata.org/pandas-docs/stable/user_guide/indexing.html#returning-a-view-versus-a-copy\n",
      "  df.drop('Premise_Code',axis=1,inplace=True)\n"
     ]
    }
   ],
   "source": [
    "df.drop('Premise_Code',axis=1,inplace=True)"
   ]
  },
  {
   "cell_type": "code",
   "execution_count": 77,
   "id": "93f56725",
   "metadata": {
    "execution": {
     "iopub.execute_input": "2024-06-24T09:48:39.855617Z",
     "iopub.status.busy": "2024-06-24T09:48:39.855145Z",
     "iopub.status.idle": "2024-06-24T09:48:39.863627Z",
     "shell.execute_reply": "2024-06-24T09:48:39.862103Z"
    },
    "papermill": {
     "duration": 0.057757,
     "end_time": "2024-06-24T09:48:39.866408",
     "exception": false,
     "start_time": "2024-06-24T09:48:39.808651",
     "status": "completed"
    },
    "tags": []
   },
   "outputs": [
    {
     "data": {
      "text/plain": [
       "(20000,)"
      ]
     },
     "execution_count": 77,
     "metadata": {},
     "output_type": "execute_result"
    }
   ],
   "source": [
    "y.shape"
   ]
  },
  {
   "cell_type": "code",
   "execution_count": 78,
   "id": "8fe56db8",
   "metadata": {
    "execution": {
     "iopub.execute_input": "2024-06-24T09:48:39.966263Z",
     "iopub.status.busy": "2024-06-24T09:48:39.965728Z",
     "iopub.status.idle": "2024-06-24T09:48:40.010197Z",
     "shell.execute_reply": "2024-06-24T09:48:40.008927Z"
    },
    "papermill": {
     "duration": 0.098328,
     "end_time": "2024-06-24T09:48:40.013118",
     "exception": false,
     "start_time": "2024-06-24T09:48:39.914790",
     "status": "completed"
    },
    "tags": []
   },
   "outputs": [],
   "source": [
    "from sklearn.model_selection import train_test_split\n",
    "\n",
    "xtrain, xtest ,ytrain , ytest= train_test_split(df , y , test_size=0.2 , random_state=42 , shuffle=True ,stratify = y  )"
   ]
  },
  {
   "cell_type": "code",
   "execution_count": 79,
   "id": "839026b9",
   "metadata": {
    "execution": {
     "iopub.execute_input": "2024-06-24T09:48:40.111659Z",
     "iopub.status.busy": "2024-06-24T09:48:40.111192Z",
     "iopub.status.idle": "2024-06-24T09:48:40.118114Z",
     "shell.execute_reply": "2024-06-24T09:48:40.116937Z"
    },
    "papermill": {
     "duration": 0.06093,
     "end_time": "2024-06-24T09:48:40.120733",
     "exception": false,
     "start_time": "2024-06-24T09:48:40.059803",
     "status": "completed"
    },
    "tags": []
   },
   "outputs": [
    {
     "name": "stdout",
     "output_type": "stream",
     "text": [
      "(16000, 12)\n",
      "(16000,)\n",
      "(4000, 12)\n",
      "(4000,)\n"
     ]
    }
   ],
   "source": [
    "print(xtrain.shape) \n",
    "print(ytrain.shape)\n",
    "print(xtest.shape)\n",
    "print(ytest.shape)"
   ]
  },
  {
   "cell_type": "code",
   "execution_count": 80,
   "id": "69fe139e",
   "metadata": {
    "execution": {
     "iopub.execute_input": "2024-06-24T09:48:40.219718Z",
     "iopub.status.busy": "2024-06-24T09:48:40.218803Z",
     "iopub.status.idle": "2024-06-24T09:48:40.315651Z",
     "shell.execute_reply": "2024-06-24T09:48:40.314090Z"
    },
    "papermill": {
     "duration": 0.152131,
     "end_time": "2024-06-24T09:48:40.318544",
     "exception": false,
     "start_time": "2024-06-24T09:48:40.166413",
     "status": "completed"
    },
    "tags": []
   },
   "outputs": [
    {
     "name": "stdout",
     "output_type": "stream",
     "text": [
      "Dummy train score 0.5833125\n",
      "Dummy predicted train score 1.0\n",
      "Dummy test score 0.58325\n",
      "Dummy predicted test score 1.0\n"
     ]
    }
   ],
   "source": [
    "from sklearn.dummy import DummyClassifier\n",
    "\n",
    "dummy_clf=DummyClassifier(random_state=42 , strategy=\"most_frequent\")\n",
    "dummy_clf.fit(xtrain, ytrain)\n",
    "print('Dummy train score', dummy_clf.score(ytrain,ytrain))\n",
    "print('Dummy predicted train score', dummy_clf.score(xtrain,dummy_clf.predict(xtrain)))\n",
    "\n",
    "print('Dummy test score', dummy_clf.score(xtest, ytest))\n",
    "\n",
    "print('Dummy predicted test score', dummy_clf.score(xtest, dummy_clf.predict(xtest)))"
   ]
  },
  {
   "cell_type": "markdown",
   "id": "b571e084",
   "metadata": {
    "papermill": {
     "duration": 0.044939,
     "end_time": "2024-06-24T09:48:40.411381",
     "exception": false,
     "start_time": "2024-06-24T09:48:40.366442",
     "status": "completed"
    },
    "tags": []
   },
   "source": [
    "Logistic "
   ]
  },
  {
   "cell_type": "code",
   "execution_count": 81,
   "id": "f86fc146",
   "metadata": {
    "execution": {
     "iopub.execute_input": "2024-06-24T09:48:40.504490Z",
     "iopub.status.busy": "2024-06-24T09:48:40.504045Z",
     "iopub.status.idle": "2024-06-24T09:48:40.650730Z",
     "shell.execute_reply": "2024-06-24T09:48:40.649548Z"
    },
    "papermill": {
     "duration": 0.196531,
     "end_time": "2024-06-24T09:48:40.653861",
     "exception": false,
     "start_time": "2024-06-24T09:48:40.457330",
     "status": "completed"
    },
    "tags": []
   },
   "outputs": [],
   "source": [
    "from sklearn.linear_model import LogisticRegression\n",
    "from sklearn.pipeline import Pipeline\n",
    "from sklearn.compose import ColumnTransformer"
   ]
  },
  {
   "cell_type": "code",
   "execution_count": 82,
   "id": "3c801490",
   "metadata": {
    "execution": {
     "iopub.execute_input": "2024-06-24T09:48:40.746907Z",
     "iopub.status.busy": "2024-06-24T09:48:40.746476Z",
     "iopub.status.idle": "2024-06-24T09:48:40.773076Z",
     "shell.execute_reply": "2024-06-24T09:48:40.771799Z"
    },
    "papermill": {
     "duration": 0.076398,
     "end_time": "2024-06-24T09:48:40.776132",
     "exception": false,
     "start_time": "2024-06-24T09:48:40.699734",
     "status": "completed"
    },
    "tags": []
   },
   "outputs": [
    {
     "name": "stdout",
     "output_type": "stream",
     "text": [
      "<class 'pandas.core.frame.DataFrame'>\n",
      "RangeIndex: 20000 entries, 0 to 19999\n",
      "Data columns (total 12 columns):\n",
      " #   Column                     Non-Null Count  Dtype  \n",
      "---  ------                     --------------  -----  \n",
      " 0   Latitude                   20000 non-null  float64\n",
      " 1   Longitude                  20000 non-null  float64\n",
      " 2   reporting_delay_day_count  20000 non-null  int64  \n",
      " 3   day_category               20000 non-null  object \n",
      " 4   Victim_Age                 20000 non-null  float64\n",
      " 5   Victim_Sex                 20000 non-null  object \n",
      " 6   Victim_Descent             20000 non-null  object \n",
      " 7   Weapon_Description         20000 non-null  object \n",
      " 8   Area_ID                    20000 non-null  float64\n",
      " 9   Modus_Operandi             20000 non-null  object \n",
      " 10  Part 1-2                   20000 non-null  float64\n",
      " 11  Status                     20000 non-null  object \n",
      "dtypes: float64(5), int64(1), object(6)\n",
      "memory usage: 1.8+ MB\n"
     ]
    }
   ],
   "source": [
    "df.info()"
   ]
  },
  {
   "cell_type": "code",
   "execution_count": 83,
   "id": "206fa3d2",
   "metadata": {
    "execution": {
     "iopub.execute_input": "2024-06-24T09:48:40.870975Z",
     "iopub.status.busy": "2024-06-24T09:48:40.870082Z",
     "iopub.status.idle": "2024-06-24T09:48:40.894007Z",
     "shell.execute_reply": "2024-06-24T09:48:40.892626Z"
    },
    "papermill": {
     "duration": 0.074351,
     "end_time": "2024-06-24T09:48:40.897098",
     "exception": false,
     "start_time": "2024-06-24T09:48:40.822747",
     "status": "completed"
    },
    "tags": []
   },
   "outputs": [
    {
     "name": "stdout",
     "output_type": "stream",
     "text": [
      "<class 'pandas.core.frame.DataFrame'>\n",
      "Index: 16000 entries, 6735 to 554\n",
      "Data columns (total 12 columns):\n",
      " #   Column                     Non-Null Count  Dtype  \n",
      "---  ------                     --------------  -----  \n",
      " 0   Latitude                   16000 non-null  float64\n",
      " 1   Longitude                  16000 non-null  float64\n",
      " 2   reporting_delay_day_count  16000 non-null  int64  \n",
      " 3   day_category               16000 non-null  object \n",
      " 4   Victim_Age                 16000 non-null  float64\n",
      " 5   Victim_Sex                 16000 non-null  object \n",
      " 6   Victim_Descent             16000 non-null  object \n",
      " 7   Weapon_Description         16000 non-null  object \n",
      " 8   Area_ID                    16000 non-null  float64\n",
      " 9   Modus_Operandi             16000 non-null  object \n",
      " 10  Part 1-2                   16000 non-null  float64\n",
      " 11  Status                     16000 non-null  object \n",
      "dtypes: float64(5), int64(1), object(6)\n",
      "memory usage: 1.6+ MB\n"
     ]
    }
   ],
   "source": [
    "xtrain.info()"
   ]
  },
  {
   "cell_type": "code",
   "execution_count": 84,
   "id": "0a8b4fac",
   "metadata": {
    "execution": {
     "iopub.execute_input": "2024-06-24T09:48:40.991027Z",
     "iopub.status.busy": "2024-06-24T09:48:40.990609Z",
     "iopub.status.idle": "2024-06-24T09:48:40.998737Z",
     "shell.execute_reply": "2024-06-24T09:48:40.997346Z"
    },
    "papermill": {
     "duration": 0.058055,
     "end_time": "2024-06-24T09:48:41.001337",
     "exception": false,
     "start_time": "2024-06-24T09:48:40.943282",
     "status": "completed"
    },
    "tags": []
   },
   "outputs": [],
   "source": [
    "from sklearn.base import BaseEstimator, TransformerMixin\n",
    "from sklearn.preprocessing import MultiLabelBinarizer\n",
    "\n",
    "class MultiLabelBinarizerWrapper(BaseEstimator, TransformerMixin):\n",
    "    def __init__(self):\n",
    "        self.mlb = MultiLabelBinarizer()\n",
    "\n",
    "    def fit(self, X, y=None):\n",
    "        self.mlb.fit(X)\n",
    "        return self\n",
    "\n",
    "    def transform(self, X):\n",
    "        return self.mlb.transform(X)"
   ]
  },
  {
   "cell_type": "code",
   "execution_count": 85,
   "id": "84b7edd1",
   "metadata": {
    "execution": {
     "iopub.execute_input": "2024-06-24T09:48:41.094991Z",
     "iopub.status.busy": "2024-06-24T09:48:41.094541Z",
     "iopub.status.idle": "2024-06-24T09:48:41.116356Z",
     "shell.execute_reply": "2024-06-24T09:48:41.115008Z"
    },
    "papermill": {
     "duration": 0.072541,
     "end_time": "2024-06-24T09:48:41.119402",
     "exception": false,
     "start_time": "2024-06-24T09:48:41.046861",
     "status": "completed"
    },
    "tags": []
   },
   "outputs": [],
   "source": [
    "\n",
    "from sklearn.preprocessing import StandardScaler , OneHotEncoder  , MultiLabelBinarizer\n",
    "from sklearn.feature_extraction.text import CountVectorizer\n",
    "ct=ColumnTransformer(transformers=[\n",
    "    \n",
    "    ('numerical_cols' , StandardScaler(),['Latitude','Longitude','reporting_delay_day_count','Victim_Age']),\n",
    "    ('categorical_cols' , OneHotEncoder(handle_unknown='ignore'),['day_category','Victim_Sex','Victim_Descent','Part 1-2','Area_ID','Status','Weapon_Description']),\n",
    "    ('multi_label_binarizer', MultiLabelBinarizerWrapper(), 'Modus_Operandi')\n",
    "])\n",
    "    "
   ]
  },
  {
   "cell_type": "code",
   "execution_count": 86,
   "id": "9cd3d0a6",
   "metadata": {
    "execution": {
     "iopub.execute_input": "2024-06-24T09:48:41.212737Z",
     "iopub.status.busy": "2024-06-24T09:48:41.212332Z",
     "iopub.status.idle": "2024-06-24T09:48:41.221374Z",
     "shell.execute_reply": "2024-06-24T09:48:41.220333Z"
    },
    "papermill": {
     "duration": 0.058281,
     "end_time": "2024-06-24T09:48:41.223718",
     "exception": false,
     "start_time": "2024-06-24T09:48:41.165437",
     "status": "completed"
    },
    "tags": []
   },
   "outputs": [
    {
     "data": {
      "text/plain": [
       "21"
      ]
     },
     "execution_count": 86,
     "metadata": {},
     "output_type": "execute_result"
    }
   ],
   "source": [
    "len(df['Area_ID'].value_counts())"
   ]
  },
  {
   "cell_type": "code",
   "execution_count": 87,
   "id": "3ebda029",
   "metadata": {
    "execution": {
     "iopub.execute_input": "2024-06-24T09:48:41.320604Z",
     "iopub.status.busy": "2024-06-24T09:48:41.320118Z",
     "iopub.status.idle": "2024-06-24T09:48:41.325525Z",
     "shell.execute_reply": "2024-06-24T09:48:41.324266Z"
    },
    "papermill": {
     "duration": 0.055896,
     "end_time": "2024-06-24T09:48:41.328039",
     "exception": false,
     "start_time": "2024-06-24T09:48:41.272143",
     "status": "completed"
    },
    "tags": []
   },
   "outputs": [],
   "source": [
    "# pipe_logistic = Pipeline(steps=[('ct',ct),('logistic_reg',LogisticRegression(solver='saga',C=0.1,warm_start=True, max_iter=1500 ,random_state=42))])"
   ]
  },
  {
   "cell_type": "code",
   "execution_count": 88,
   "id": "f56ebc9f",
   "metadata": {
    "execution": {
     "iopub.execute_input": "2024-06-24T09:48:41.423086Z",
     "iopub.status.busy": "2024-06-24T09:48:41.422695Z",
     "iopub.status.idle": "2024-06-24T09:48:41.428057Z",
     "shell.execute_reply": "2024-06-24T09:48:41.426864Z"
    },
    "papermill": {
     "duration": 0.055686,
     "end_time": "2024-06-24T09:48:41.430681",
     "exception": false,
     "start_time": "2024-06-24T09:48:41.374995",
     "status": "completed"
    },
    "tags": []
   },
   "outputs": [],
   "source": [
    "# pipe_logistic.fit(xtrain,ytrain)"
   ]
  },
  {
   "cell_type": "code",
   "execution_count": 89,
   "id": "ce67468b",
   "metadata": {
    "execution": {
     "iopub.execute_input": "2024-06-24T09:48:41.524834Z",
     "iopub.status.busy": "2024-06-24T09:48:41.524388Z",
     "iopub.status.idle": "2024-06-24T09:48:41.529663Z",
     "shell.execute_reply": "2024-06-24T09:48:41.528466Z"
    },
    "papermill": {
     "duration": 0.055993,
     "end_time": "2024-06-24T09:48:41.532343",
     "exception": false,
     "start_time": "2024-06-24T09:48:41.476350",
     "status": "completed"
    },
    "tags": []
   },
   "outputs": [],
   "source": [
    "# pipe_logistic.score(xtest,ytest)"
   ]
  },
  {
   "cell_type": "code",
   "execution_count": 90,
   "id": "a33eb205",
   "metadata": {
    "execution": {
     "iopub.execute_input": "2024-06-24T09:48:41.625160Z",
     "iopub.status.busy": "2024-06-24T09:48:41.624760Z",
     "iopub.status.idle": "2024-06-24T09:48:41.630633Z",
     "shell.execute_reply": "2024-06-24T09:48:41.629441Z"
    },
    "papermill": {
     "duration": 0.055498,
     "end_time": "2024-06-24T09:48:41.633262",
     "exception": false,
     "start_time": "2024-06-24T09:48:41.577764",
     "status": "completed"
    },
    "tags": []
   },
   "outputs": [],
   "source": [
    "from sklearn.svm import SVC\n",
    "pipe_svc=Pipeline(steps=[('ct',ct),('svc',SVC(decision_function_shape='ovo'))])"
   ]
  },
  {
   "cell_type": "code",
   "execution_count": 91,
   "id": "c419fbfb",
   "metadata": {
    "execution": {
     "iopub.execute_input": "2024-06-24T09:48:41.725790Z",
     "iopub.status.busy": "2024-06-24T09:48:41.725356Z",
     "iopub.status.idle": "2024-06-24T09:48:42.605900Z",
     "shell.execute_reply": "2024-06-24T09:48:42.604628Z"
    },
    "papermill": {
     "duration": 0.930244,
     "end_time": "2024-06-24T09:48:42.608950",
     "exception": false,
     "start_time": "2024-06-24T09:48:41.678706",
     "status": "completed"
    },
    "tags": []
   },
   "outputs": [
    {
     "data": {
      "text/html": [
       "<style>#sk-container-id-1 {color: black;background-color: white;}#sk-container-id-1 pre{padding: 0;}#sk-container-id-1 div.sk-toggleable {background-color: white;}#sk-container-id-1 label.sk-toggleable__label {cursor: pointer;display: block;width: 100%;margin-bottom: 0;padding: 0.3em;box-sizing: border-box;text-align: center;}#sk-container-id-1 label.sk-toggleable__label-arrow:before {content: \"▸\";float: left;margin-right: 0.25em;color: #696969;}#sk-container-id-1 label.sk-toggleable__label-arrow:hover:before {color: black;}#sk-container-id-1 div.sk-estimator:hover label.sk-toggleable__label-arrow:before {color: black;}#sk-container-id-1 div.sk-toggleable__content {max-height: 0;max-width: 0;overflow: hidden;text-align: left;background-color: #f0f8ff;}#sk-container-id-1 div.sk-toggleable__content pre {margin: 0.2em;color: black;border-radius: 0.25em;background-color: #f0f8ff;}#sk-container-id-1 input.sk-toggleable__control:checked~div.sk-toggleable__content {max-height: 200px;max-width: 100%;overflow: auto;}#sk-container-id-1 input.sk-toggleable__control:checked~label.sk-toggleable__label-arrow:before {content: \"▾\";}#sk-container-id-1 div.sk-estimator input.sk-toggleable__control:checked~label.sk-toggleable__label {background-color: #d4ebff;}#sk-container-id-1 div.sk-label input.sk-toggleable__control:checked~label.sk-toggleable__label {background-color: #d4ebff;}#sk-container-id-1 input.sk-hidden--visually {border: 0;clip: rect(1px 1px 1px 1px);clip: rect(1px, 1px, 1px, 1px);height: 1px;margin: -1px;overflow: hidden;padding: 0;position: absolute;width: 1px;}#sk-container-id-1 div.sk-estimator {font-family: monospace;background-color: #f0f8ff;border: 1px dotted black;border-radius: 0.25em;box-sizing: border-box;margin-bottom: 0.5em;}#sk-container-id-1 div.sk-estimator:hover {background-color: #d4ebff;}#sk-container-id-1 div.sk-parallel-item::after {content: \"\";width: 100%;border-bottom: 1px solid gray;flex-grow: 1;}#sk-container-id-1 div.sk-label:hover label.sk-toggleable__label {background-color: #d4ebff;}#sk-container-id-1 div.sk-serial::before {content: \"\";position: absolute;border-left: 1px solid gray;box-sizing: border-box;top: 0;bottom: 0;left: 50%;z-index: 0;}#sk-container-id-1 div.sk-serial {display: flex;flex-direction: column;align-items: center;background-color: white;padding-right: 0.2em;padding-left: 0.2em;position: relative;}#sk-container-id-1 div.sk-item {position: relative;z-index: 1;}#sk-container-id-1 div.sk-parallel {display: flex;align-items: stretch;justify-content: center;background-color: white;position: relative;}#sk-container-id-1 div.sk-item::before, #sk-container-id-1 div.sk-parallel-item::before {content: \"\";position: absolute;border-left: 1px solid gray;box-sizing: border-box;top: 0;bottom: 0;left: 50%;z-index: -1;}#sk-container-id-1 div.sk-parallel-item {display: flex;flex-direction: column;z-index: 1;position: relative;background-color: white;}#sk-container-id-1 div.sk-parallel-item:first-child::after {align-self: flex-end;width: 50%;}#sk-container-id-1 div.sk-parallel-item:last-child::after {align-self: flex-start;width: 50%;}#sk-container-id-1 div.sk-parallel-item:only-child::after {width: 0;}#sk-container-id-1 div.sk-dashed-wrapped {border: 1px dashed gray;margin: 0 0.4em 0.5em 0.4em;box-sizing: border-box;padding-bottom: 0.4em;background-color: white;}#sk-container-id-1 div.sk-label label {font-family: monospace;font-weight: bold;display: inline-block;line-height: 1.2em;}#sk-container-id-1 div.sk-label-container {text-align: center;}#sk-container-id-1 div.sk-container {/* jupyter's `normalize.less` sets `[hidden] { display: none; }` but bootstrap.min.css set `[hidden] { display: none !important; }` so we also need the `!important` here to be able to override the default hidden behavior on the sphinx rendered scikit-learn.org. See: https://github.com/scikit-learn/scikit-learn/issues/21755 */display: inline-block !important;position: relative;}#sk-container-id-1 div.sk-text-repr-fallback {display: none;}</style><div id=\"sk-container-id-1\" class=\"sk-top-container\"><div class=\"sk-text-repr-fallback\"><pre>Pipeline(steps=[(&#x27;ct&#x27;,\n",
       "                 ColumnTransformer(transformers=[(&#x27;numerical_cols&#x27;,\n",
       "                                                  StandardScaler(),\n",
       "                                                  [&#x27;Latitude&#x27;, &#x27;Longitude&#x27;,\n",
       "                                                   &#x27;reporting_delay_day_count&#x27;,\n",
       "                                                   &#x27;Victim_Age&#x27;]),\n",
       "                                                 (&#x27;categorical_cols&#x27;,\n",
       "                                                  OneHotEncoder(handle_unknown=&#x27;ignore&#x27;),\n",
       "                                                  [&#x27;day_category&#x27;, &#x27;Victim_Sex&#x27;,\n",
       "                                                   &#x27;Victim_Descent&#x27;, &#x27;Part 1-2&#x27;,\n",
       "                                                   &#x27;Area_ID&#x27;, &#x27;Status&#x27;,\n",
       "                                                   &#x27;Weapon_Description&#x27;]),\n",
       "                                                 (&#x27;multi_label_binarizer&#x27;,\n",
       "                                                  MultiLabelBinarizerWrapper(),\n",
       "                                                  &#x27;Modus_Operandi&#x27;)])),\n",
       "                (&#x27;svc&#x27;, SVC(decision_function_shape=&#x27;ovo&#x27;))])</pre><b>In a Jupyter environment, please rerun this cell to show the HTML representation or trust the notebook. <br />On GitHub, the HTML representation is unable to render, please try loading this page with nbviewer.org.</b></div><div class=\"sk-container\" hidden><div class=\"sk-item sk-dashed-wrapped\"><div class=\"sk-label-container\"><div class=\"sk-label sk-toggleable\"><input class=\"sk-toggleable__control sk-hidden--visually\" id=\"sk-estimator-id-1\" type=\"checkbox\" ><label for=\"sk-estimator-id-1\" class=\"sk-toggleable__label sk-toggleable__label-arrow\">Pipeline</label><div class=\"sk-toggleable__content\"><pre>Pipeline(steps=[(&#x27;ct&#x27;,\n",
       "                 ColumnTransformer(transformers=[(&#x27;numerical_cols&#x27;,\n",
       "                                                  StandardScaler(),\n",
       "                                                  [&#x27;Latitude&#x27;, &#x27;Longitude&#x27;,\n",
       "                                                   &#x27;reporting_delay_day_count&#x27;,\n",
       "                                                   &#x27;Victim_Age&#x27;]),\n",
       "                                                 (&#x27;categorical_cols&#x27;,\n",
       "                                                  OneHotEncoder(handle_unknown=&#x27;ignore&#x27;),\n",
       "                                                  [&#x27;day_category&#x27;, &#x27;Victim_Sex&#x27;,\n",
       "                                                   &#x27;Victim_Descent&#x27;, &#x27;Part 1-2&#x27;,\n",
       "                                                   &#x27;Area_ID&#x27;, &#x27;Status&#x27;,\n",
       "                                                   &#x27;Weapon_Description&#x27;]),\n",
       "                                                 (&#x27;multi_label_binarizer&#x27;,\n",
       "                                                  MultiLabelBinarizerWrapper(),\n",
       "                                                  &#x27;Modus_Operandi&#x27;)])),\n",
       "                (&#x27;svc&#x27;, SVC(decision_function_shape=&#x27;ovo&#x27;))])</pre></div></div></div><div class=\"sk-serial\"><div class=\"sk-item sk-dashed-wrapped\"><div class=\"sk-label-container\"><div class=\"sk-label sk-toggleable\"><input class=\"sk-toggleable__control sk-hidden--visually\" id=\"sk-estimator-id-2\" type=\"checkbox\" ><label for=\"sk-estimator-id-2\" class=\"sk-toggleable__label sk-toggleable__label-arrow\">ct: ColumnTransformer</label><div class=\"sk-toggleable__content\"><pre>ColumnTransformer(transformers=[(&#x27;numerical_cols&#x27;, StandardScaler(),\n",
       "                                 [&#x27;Latitude&#x27;, &#x27;Longitude&#x27;,\n",
       "                                  &#x27;reporting_delay_day_count&#x27;, &#x27;Victim_Age&#x27;]),\n",
       "                                (&#x27;categorical_cols&#x27;,\n",
       "                                 OneHotEncoder(handle_unknown=&#x27;ignore&#x27;),\n",
       "                                 [&#x27;day_category&#x27;, &#x27;Victim_Sex&#x27;,\n",
       "                                  &#x27;Victim_Descent&#x27;, &#x27;Part 1-2&#x27;, &#x27;Area_ID&#x27;,\n",
       "                                  &#x27;Status&#x27;, &#x27;Weapon_Description&#x27;]),\n",
       "                                (&#x27;multi_label_binarizer&#x27;,\n",
       "                                 MultiLabelBinarizerWrapper(),\n",
       "                                 &#x27;Modus_Operandi&#x27;)])</pre></div></div></div><div class=\"sk-parallel\"><div class=\"sk-parallel-item\"><div class=\"sk-item\"><div class=\"sk-label-container\"><div class=\"sk-label sk-toggleable\"><input class=\"sk-toggleable__control sk-hidden--visually\" id=\"sk-estimator-id-3\" type=\"checkbox\" ><label for=\"sk-estimator-id-3\" class=\"sk-toggleable__label sk-toggleable__label-arrow\">numerical_cols</label><div class=\"sk-toggleable__content\"><pre>[&#x27;Latitude&#x27;, &#x27;Longitude&#x27;, &#x27;reporting_delay_day_count&#x27;, &#x27;Victim_Age&#x27;]</pre></div></div></div><div class=\"sk-serial\"><div class=\"sk-item\"><div class=\"sk-estimator sk-toggleable\"><input class=\"sk-toggleable__control sk-hidden--visually\" id=\"sk-estimator-id-4\" type=\"checkbox\" ><label for=\"sk-estimator-id-4\" class=\"sk-toggleable__label sk-toggleable__label-arrow\">StandardScaler</label><div class=\"sk-toggleable__content\"><pre>StandardScaler()</pre></div></div></div></div></div></div><div class=\"sk-parallel-item\"><div class=\"sk-item\"><div class=\"sk-label-container\"><div class=\"sk-label sk-toggleable\"><input class=\"sk-toggleable__control sk-hidden--visually\" id=\"sk-estimator-id-5\" type=\"checkbox\" ><label for=\"sk-estimator-id-5\" class=\"sk-toggleable__label sk-toggleable__label-arrow\">categorical_cols</label><div class=\"sk-toggleable__content\"><pre>[&#x27;day_category&#x27;, &#x27;Victim_Sex&#x27;, &#x27;Victim_Descent&#x27;, &#x27;Part 1-2&#x27;, &#x27;Area_ID&#x27;, &#x27;Status&#x27;, &#x27;Weapon_Description&#x27;]</pre></div></div></div><div class=\"sk-serial\"><div class=\"sk-item\"><div class=\"sk-estimator sk-toggleable\"><input class=\"sk-toggleable__control sk-hidden--visually\" id=\"sk-estimator-id-6\" type=\"checkbox\" ><label for=\"sk-estimator-id-6\" class=\"sk-toggleable__label sk-toggleable__label-arrow\">OneHotEncoder</label><div class=\"sk-toggleable__content\"><pre>OneHotEncoder(handle_unknown=&#x27;ignore&#x27;)</pre></div></div></div></div></div></div><div class=\"sk-parallel-item\"><div class=\"sk-item\"><div class=\"sk-label-container\"><div class=\"sk-label sk-toggleable\"><input class=\"sk-toggleable__control sk-hidden--visually\" id=\"sk-estimator-id-7\" type=\"checkbox\" ><label for=\"sk-estimator-id-7\" class=\"sk-toggleable__label sk-toggleable__label-arrow\">multi_label_binarizer</label><div class=\"sk-toggleable__content\"><pre>Modus_Operandi</pre></div></div></div><div class=\"sk-serial\"><div class=\"sk-item\"><div class=\"sk-estimator sk-toggleable\"><input class=\"sk-toggleable__control sk-hidden--visually\" id=\"sk-estimator-id-8\" type=\"checkbox\" ><label for=\"sk-estimator-id-8\" class=\"sk-toggleable__label sk-toggleable__label-arrow\">MultiLabelBinarizerWrapper</label><div class=\"sk-toggleable__content\"><pre>MultiLabelBinarizerWrapper()</pre></div></div></div></div></div></div></div></div><div class=\"sk-item\"><div class=\"sk-estimator sk-toggleable\"><input class=\"sk-toggleable__control sk-hidden--visually\" id=\"sk-estimator-id-9\" type=\"checkbox\" ><label for=\"sk-estimator-id-9\" class=\"sk-toggleable__label sk-toggleable__label-arrow\">SVC</label><div class=\"sk-toggleable__content\"><pre>SVC(decision_function_shape=&#x27;ovo&#x27;)</pre></div></div></div></div></div></div></div>"
      ],
      "text/plain": [
       "Pipeline(steps=[('ct',\n",
       "                 ColumnTransformer(transformers=[('numerical_cols',\n",
       "                                                  StandardScaler(),\n",
       "                                                  ['Latitude', 'Longitude',\n",
       "                                                   'reporting_delay_day_count',\n",
       "                                                   'Victim_Age']),\n",
       "                                                 ('categorical_cols',\n",
       "                                                  OneHotEncoder(handle_unknown='ignore'),\n",
       "                                                  ['day_category', 'Victim_Sex',\n",
       "                                                   'Victim_Descent', 'Part 1-2',\n",
       "                                                   'Area_ID', 'Status',\n",
       "                                                   'Weapon_Description']),\n",
       "                                                 ('multi_label_binarizer',\n",
       "                                                  MultiLabelBinarizerWrapper(),\n",
       "                                                  'Modus_Operandi')])),\n",
       "                ('svc', SVC(decision_function_shape='ovo'))])"
      ]
     },
     "execution_count": 91,
     "metadata": {},
     "output_type": "execute_result"
    }
   ],
   "source": [
    "pipe_svc.fit(xtest,ytest)"
   ]
  },
  {
   "cell_type": "code",
   "execution_count": 92,
   "id": "a6ddfb39",
   "metadata": {
    "execution": {
     "iopub.execute_input": "2024-06-24T09:48:42.703616Z",
     "iopub.status.busy": "2024-06-24T09:48:42.703160Z",
     "iopub.status.idle": "2024-06-24T09:48:43.600052Z",
     "shell.execute_reply": "2024-06-24T09:48:43.598724Z"
    },
    "papermill": {
     "duration": 0.94702,
     "end_time": "2024-06-24T09:48:43.603052",
     "exception": false,
     "start_time": "2024-06-24T09:48:42.656032",
     "status": "completed"
    },
    "tags": []
   },
   "outputs": [
    {
     "data": {
      "text/plain": [
       "0.865"
      ]
     },
     "execution_count": 92,
     "metadata": {},
     "output_type": "execute_result"
    }
   ],
   "source": [
    "pipe_svc.score(xtest,ytest)"
   ]
  },
  {
   "cell_type": "markdown",
   "id": "351ed1d1",
   "metadata": {
    "papermill": {
     "duration": 0.048938,
     "end_time": "2024-06-24T09:48:43.699748",
     "exception": false,
     "start_time": "2024-06-24T09:48:43.650810",
     "status": "completed"
    },
    "tags": []
   },
   "source": [
    "Test \n"
   ]
  },
  {
   "cell_type": "code",
   "execution_count": 93,
   "id": "7b19ea4d",
   "metadata": {
    "execution": {
     "iopub.execute_input": "2024-06-24T09:48:43.796099Z",
     "iopub.status.busy": "2024-06-24T09:48:43.795080Z",
     "iopub.status.idle": "2024-06-24T09:48:49.299780Z",
     "shell.execute_reply": "2024-06-24T09:48:49.298366Z"
    },
    "papermill": {
     "duration": 5.555896,
     "end_time": "2024-06-24T09:48:49.302873",
     "exception": false,
     "start_time": "2024-06-24T09:48:43.746977",
     "status": "completed"
    },
    "tags": []
   },
   "outputs": [],
   "source": [
    "test=pd.read_csv('/kaggle/input/crime-cast-forecasting-crime-categories/test.csv')\n",
    "test['day_category']=test['Time_Occurred'].apply(day_category )\n",
    "\n",
    "\n",
    "test['Date_Reported']=test['Date_Reported'].apply(extract_date)\n",
    "test['Date_Occurred']=test['Date_Occurred'].apply(extract_date)\n",
    "\n",
    "\n",
    "\n",
    "\n",
    "\n",
    "\n",
    "test['Date_Reported']=pd.to_datetime(test['Date_Reported']).dt.date\n",
    "test['Date_Occurred']=pd.to_datetime(test['Date_Occurred']).dt.date\n",
    "\n",
    "test['reporting_delay_day_count']=(test['Date_Reported']-test['Date_Occurred'])\n",
    "\n",
    "\n",
    "\n",
    "\n",
    "\n",
    "\n",
    "def day_count(d):\n",
    "    return d.days\n",
    "test['reporting_delay_day_count']=test['reporting_delay_day_count'].apply(day_count)\n",
    "\n",
    "\n",
    "\n",
    "\n",
    "\n",
    "\n",
    "def victim_gender(val):\n",
    "    if val=='H' or pd.isna(val):\n",
    "        val='X'\n",
    "    return val\n",
    "\n",
    "\n",
    "test.loc[:,'Victim_Sex'] = test['Victim_Sex'].apply(victim_gender)\n",
    "\n",
    "\n",
    "\n",
    "\n",
    "\n",
    "unique_values_weapon_test=pd.DataFrame(test['Weapon_Description'])\n",
    "unique_values_weapon_test.value_counts(normalize=True)\n",
    "\n",
    "\n",
    "\n",
    "\n",
    "\n",
    "\n",
    "\n",
    "distribution_test = test['Weapon_Description'].dropna().value_counts(normalize=True)\n",
    "\n",
    "missing_test = test['Weapon_Description'].isnull().sum()\n",
    "\n",
    "imputed_values_test = np.random.choice(distribution_test.index, size=missing_test, p=distribution_test.values)\n",
    "\n",
    "# Impute the missing values\n",
    "test.loc[test['Weapon_Description'].isnull(), 'Weapon_Description'] = imputed_values_test\n",
    "\n"
   ]
  },
  {
   "cell_type": "code",
   "execution_count": 94,
   "id": "d3cc33c9",
   "metadata": {
    "execution": {
     "iopub.execute_input": "2024-06-24T09:48:49.407252Z",
     "iopub.status.busy": "2024-06-24T09:48:49.406487Z",
     "iopub.status.idle": "2024-06-24T09:48:49.425151Z",
     "shell.execute_reply": "2024-06-24T09:48:49.423863Z"
    },
    "papermill": {
     "duration": 0.073572,
     "end_time": "2024-06-24T09:48:49.427883",
     "exception": false,
     "start_time": "2024-06-24T09:48:49.354311",
     "status": "completed"
    },
    "tags": []
   },
   "outputs": [
    {
     "data": {
      "text/plain": [
       "Location                        0\n",
       "Cross_Street                 4190\n",
       "Latitude                        0\n",
       "Longitude                       0\n",
       "Date_Reported                   0\n",
       "Date_Occurred                   0\n",
       "Time_Occurred                   0\n",
       "Area_ID                         0\n",
       "Area_Name                       0\n",
       "Reporting_District_no           0\n",
       "Part 1-2                        0\n",
       "Modus_Operandi                684\n",
       "Victim_Age                      0\n",
       "Victim_Sex                      0\n",
       "Victim_Descent                643\n",
       "Premise_Code                    0\n",
       "Premise_Description             1\n",
       "Weapon_Used_Code             3153\n",
       "Weapon_Description              0\n",
       "Status                          0\n",
       "Status_Description              0\n",
       "day_category                    0\n",
       "reporting_delay_day_count       0\n",
       "dtype: int64"
      ]
     },
     "execution_count": 94,
     "metadata": {},
     "output_type": "execute_result"
    }
   ],
   "source": [
    "test.isnull().sum()"
   ]
  },
  {
   "cell_type": "code",
   "execution_count": 95,
   "id": "75bc4458",
   "metadata": {
    "execution": {
     "iopub.execute_input": "2024-06-24T09:48:49.528350Z",
     "iopub.status.busy": "2024-06-24T09:48:49.527787Z",
     "iopub.status.idle": "2024-06-24T09:48:49.543559Z",
     "shell.execute_reply": "2024-06-24T09:48:49.542293Z"
    },
    "papermill": {
     "duration": 0.068453,
     "end_time": "2024-06-24T09:48:49.546487",
     "exception": false,
     "start_time": "2024-06-24T09:48:49.478034",
     "status": "completed"
    },
    "tags": []
   },
   "outputs": [],
   "source": [
    "distribution_test = test['Victim_Descent'].dropna().value_counts(normalize=True)\n",
    "\n",
    "missing_test = test['Victim_Descent'].isnull().sum()\n",
    "\n",
    "imputed_values_test = np.random.choice(distribution_test.index, size=missing_test, p=distribution_test.values)\n",
    "\n",
    "# Impute the missing values\n",
    "test.loc[test['Victim_Descent'].isnull(), 'Victim_Descent'] = imputed_values_test"
   ]
  },
  {
   "cell_type": "code",
   "execution_count": 96,
   "id": "c5c52fc5",
   "metadata": {
    "execution": {
     "iopub.execute_input": "2024-06-24T09:48:49.663804Z",
     "iopub.status.busy": "2024-06-24T09:48:49.662863Z",
     "iopub.status.idle": "2024-06-24T09:48:49.697355Z",
     "shell.execute_reply": "2024-06-24T09:48:49.696000Z"
    },
    "papermill": {
     "duration": 0.098256,
     "end_time": "2024-06-24T09:48:49.700696",
     "exception": false,
     "start_time": "2024-06-24T09:48:49.602440",
     "status": "completed"
    },
    "tags": []
   },
   "outputs": [],
   "source": [
    "test['Modus_Operandi']=test['Modus_Operandi'].apply(number_of_activities)\n",
    "test['Part 1-2']=test['Part 1-2'].apply(lambda x : int(x))\n",
    "test['Victim_Age']=test['Victim_Age'].apply(lambda x: int(x))"
   ]
  },
  {
   "cell_type": "code",
   "execution_count": 97,
   "id": "66d4ad92",
   "metadata": {
    "execution": {
     "iopub.execute_input": "2024-06-24T09:48:49.800767Z",
     "iopub.status.busy": "2024-06-24T09:48:49.800352Z",
     "iopub.status.idle": "2024-06-24T09:48:49.826328Z",
     "shell.execute_reply": "2024-06-24T09:48:49.825081Z"
    },
    "papermill": {
     "duration": 0.077106,
     "end_time": "2024-06-24T09:48:49.829595",
     "exception": false,
     "start_time": "2024-06-24T09:48:49.752489",
     "status": "completed"
    },
    "tags": []
   },
   "outputs": [],
   "source": [
    "test.loc[test['Weapon_Description'] == 'STRONG-ARM (HANDS, FIST, FEET OR BODILY FORCE)', 'Weapon_Description'] = 'Physical Force'\n",
    "\n",
    "\n",
    "\n",
    "test.loc[:,'Weapon_Description']=test['Weapon_Description'].apply(gun)"
   ]
  },
  {
   "cell_type": "code",
   "execution_count": 98,
   "id": "80391cb8",
   "metadata": {
    "execution": {
     "iopub.execute_input": "2024-06-24T09:48:49.929392Z",
     "iopub.status.busy": "2024-06-24T09:48:49.928442Z",
     "iopub.status.idle": "2024-06-24T09:48:49.953819Z",
     "shell.execute_reply": "2024-06-24T09:48:49.952079Z"
    },
    "papermill": {
     "duration": 0.076613,
     "end_time": "2024-06-24T09:48:49.957215",
     "exception": false,
     "start_time": "2024-06-24T09:48:49.880602",
     "status": "completed"
    },
    "tags": []
   },
   "outputs": [
    {
     "name": "stdout",
     "output_type": "stream",
     "text": [
      "<class 'pandas.core.frame.DataFrame'>\n",
      "Index: 16000 entries, 6735 to 554\n",
      "Data columns (total 12 columns):\n",
      " #   Column                     Non-Null Count  Dtype  \n",
      "---  ------                     --------------  -----  \n",
      " 0   Latitude                   16000 non-null  float64\n",
      " 1   Longitude                  16000 non-null  float64\n",
      " 2   reporting_delay_day_count  16000 non-null  int64  \n",
      " 3   day_category               16000 non-null  object \n",
      " 4   Victim_Age                 16000 non-null  float64\n",
      " 5   Victim_Sex                 16000 non-null  object \n",
      " 6   Victim_Descent             16000 non-null  object \n",
      " 7   Weapon_Description         16000 non-null  object \n",
      " 8   Area_ID                    16000 non-null  float64\n",
      " 9   Modus_Operandi             16000 non-null  object \n",
      " 10  Part 1-2                   16000 non-null  float64\n",
      " 11  Status                     16000 non-null  object \n",
      "dtypes: float64(5), int64(1), object(6)\n",
      "memory usage: 1.6+ MB\n"
     ]
    }
   ],
   "source": [
    "xtrain.info()"
   ]
  },
  {
   "cell_type": "code",
   "execution_count": 99,
   "id": "8fa7b1d5",
   "metadata": {
    "execution": {
     "iopub.execute_input": "2024-06-24T09:48:50.056795Z",
     "iopub.status.busy": "2024-06-24T09:48:50.056385Z",
     "iopub.status.idle": "2024-06-24T09:48:50.065667Z",
     "shell.execute_reply": "2024-06-24T09:48:50.064257Z"
    },
    "papermill": {
     "duration": 0.060121,
     "end_time": "2024-06-24T09:48:50.068769",
     "exception": false,
     "start_time": "2024-06-24T09:48:50.008648",
     "status": "completed"
    },
    "tags": []
   },
   "outputs": [],
   "source": [
    "test=test[['Latitude','Longitude','reporting_delay_day_count','day_category','Area_ID','Victim_Age','Victim_Sex','Modus_Operandi','Victim_Descent','Part 1-2','Weapon_Description','Status']]"
   ]
  },
  {
   "cell_type": "code",
   "execution_count": 100,
   "id": "77ced734",
   "metadata": {
    "execution": {
     "iopub.execute_input": "2024-06-24T09:48:50.174997Z",
     "iopub.status.busy": "2024-06-24T09:48:50.174581Z",
     "iopub.status.idle": "2024-06-24T09:48:50.194268Z",
     "shell.execute_reply": "2024-06-24T09:48:50.193007Z"
    },
    "papermill": {
     "duration": 0.071614,
     "end_time": "2024-06-24T09:48:50.197510",
     "exception": false,
     "start_time": "2024-06-24T09:48:50.125896",
     "status": "completed"
    },
    "tags": []
   },
   "outputs": [
    {
     "name": "stdout",
     "output_type": "stream",
     "text": [
      "<class 'pandas.core.frame.DataFrame'>\n",
      "RangeIndex: 5000 entries, 0 to 4999\n",
      "Data columns (total 12 columns):\n",
      " #   Column                     Non-Null Count  Dtype  \n",
      "---  ------                     --------------  -----  \n",
      " 0   Latitude                   5000 non-null   float64\n",
      " 1   Longitude                  5000 non-null   float64\n",
      " 2   reporting_delay_day_count  5000 non-null   int64  \n",
      " 3   day_category               5000 non-null   object \n",
      " 4   Area_ID                    5000 non-null   float64\n",
      " 5   Victim_Age                 5000 non-null   int64  \n",
      " 6   Victim_Sex                 5000 non-null   object \n",
      " 7   Modus_Operandi             5000 non-null   object \n",
      " 8   Victim_Descent             5000 non-null   object \n",
      " 9   Part 1-2                   5000 non-null   int64  \n",
      " 10  Weapon_Description         5000 non-null   object \n",
      " 11  Status                     5000 non-null   object \n",
      "dtypes: float64(3), int64(3), object(6)\n",
      "memory usage: 468.9+ KB\n"
     ]
    }
   ],
   "source": [
    "test.info()"
   ]
  },
  {
   "cell_type": "code",
   "execution_count": 101,
   "id": "cac6cf3c",
   "metadata": {
    "execution": {
     "iopub.execute_input": "2024-06-24T09:48:50.327051Z",
     "iopub.status.busy": "2024-06-24T09:48:50.325908Z",
     "iopub.status.idle": "2024-06-24T09:48:50.352126Z",
     "shell.execute_reply": "2024-06-24T09:48:50.350790Z"
    },
    "papermill": {
     "duration": 0.090212,
     "end_time": "2024-06-24T09:48:50.355154",
     "exception": false,
     "start_time": "2024-06-24T09:48:50.264942",
     "status": "completed"
    },
    "tags": []
   },
   "outputs": [
    {
     "data": {
      "text/html": [
       "<div>\n",
       "<style scoped>\n",
       "    .dataframe tbody tr th:only-of-type {\n",
       "        vertical-align: middle;\n",
       "    }\n",
       "\n",
       "    .dataframe tbody tr th {\n",
       "        vertical-align: top;\n",
       "    }\n",
       "\n",
       "    .dataframe thead th {\n",
       "        text-align: right;\n",
       "    }\n",
       "</style>\n",
       "<table border=\"1\" class=\"dataframe\">\n",
       "  <thead>\n",
       "    <tr style=\"text-align: right;\">\n",
       "      <th></th>\n",
       "      <th>Latitude</th>\n",
       "      <th>Longitude</th>\n",
       "      <th>reporting_delay_day_count</th>\n",
       "      <th>day_category</th>\n",
       "      <th>Area_ID</th>\n",
       "      <th>Victim_Age</th>\n",
       "      <th>Victim_Sex</th>\n",
       "      <th>Modus_Operandi</th>\n",
       "      <th>Victim_Descent</th>\n",
       "      <th>Part 1-2</th>\n",
       "      <th>Weapon_Description</th>\n",
       "      <th>Status</th>\n",
       "    </tr>\n",
       "  </thead>\n",
       "  <tbody>\n",
       "    <tr>\n",
       "      <th>0</th>\n",
       "      <td>34.0128</td>\n",
       "      <td>-118.3045</td>\n",
       "      <td>0</td>\n",
       "      <td>Evening</td>\n",
       "      <td>3.0</td>\n",
       "      <td>28</td>\n",
       "      <td>F</td>\n",
       "      <td>1813 2000 1241 0416 1821 1243</td>\n",
       "      <td>H</td>\n",
       "      <td>2</td>\n",
       "      <td>Physical Force</td>\n",
       "      <td>IC</td>\n",
       "    </tr>\n",
       "    <tr>\n",
       "      <th>1</th>\n",
       "      <td>34.0726</td>\n",
       "      <td>-118.3029</td>\n",
       "      <td>37</td>\n",
       "      <td>Night</td>\n",
       "      <td>20.0</td>\n",
       "      <td>26</td>\n",
       "      <td>M</td>\n",
       "      <td>0394 0344</td>\n",
       "      <td>B</td>\n",
       "      <td>1</td>\n",
       "      <td>sharp_heavy_object</td>\n",
       "      <td>IC</td>\n",
       "    </tr>\n",
       "    <tr>\n",
       "      <th>2</th>\n",
       "      <td>33.9348</td>\n",
       "      <td>-118.2695</td>\n",
       "      <td>1</td>\n",
       "      <td>Morning</td>\n",
       "      <td>18.0</td>\n",
       "      <td>62</td>\n",
       "      <td>F</td>\n",
       "      <td>0701 1202 0355 0100 1914 1822</td>\n",
       "      <td>B</td>\n",
       "      <td>2</td>\n",
       "      <td>other_weapon</td>\n",
       "      <td>IC</td>\n",
       "    </tr>\n",
       "    <tr>\n",
       "      <th>3</th>\n",
       "      <td>34.0497</td>\n",
       "      <td>-118.3442</td>\n",
       "      <td>20</td>\n",
       "      <td>Night</td>\n",
       "      <td>7.0</td>\n",
       "      <td>0</td>\n",
       "      <td>X</td>\n",
       "      <td></td>\n",
       "      <td>H</td>\n",
       "      <td>1</td>\n",
       "      <td>Gun</td>\n",
       "      <td>IC</td>\n",
       "    </tr>\n",
       "    <tr>\n",
       "      <th>4</th>\n",
       "      <td>34.1611</td>\n",
       "      <td>-118.3704</td>\n",
       "      <td>1</td>\n",
       "      <td>Night</td>\n",
       "      <td>15.0</td>\n",
       "      <td>37</td>\n",
       "      <td>F</td>\n",
       "      <td>1501</td>\n",
       "      <td>W</td>\n",
       "      <td>2</td>\n",
       "      <td>Physical Force</td>\n",
       "      <td>AO</td>\n",
       "    </tr>\n",
       "    <tr>\n",
       "      <th>...</th>\n",
       "      <td>...</td>\n",
       "      <td>...</td>\n",
       "      <td>...</td>\n",
       "      <td>...</td>\n",
       "      <td>...</td>\n",
       "      <td>...</td>\n",
       "      <td>...</td>\n",
       "      <td>...</td>\n",
       "      <td>...</td>\n",
       "      <td>...</td>\n",
       "      <td>...</td>\n",
       "      <td>...</td>\n",
       "    </tr>\n",
       "    <tr>\n",
       "      <th>4995</th>\n",
       "      <td>34.0409</td>\n",
       "      <td>-118.3408</td>\n",
       "      <td>1</td>\n",
       "      <td>Night</td>\n",
       "      <td>7.0</td>\n",
       "      <td>0</td>\n",
       "      <td>X</td>\n",
       "      <td></td>\n",
       "      <td>H</td>\n",
       "      <td>1</td>\n",
       "      <td>Gun</td>\n",
       "      <td>IC</td>\n",
       "    </tr>\n",
       "    <tr>\n",
       "      <th>4996</th>\n",
       "      <td>34.0347</td>\n",
       "      <td>-118.2253</td>\n",
       "      <td>7</td>\n",
       "      <td>Daytime</td>\n",
       "      <td>4.0</td>\n",
       "      <td>0</td>\n",
       "      <td>X</td>\n",
       "      <td>1300 0325</td>\n",
       "      <td>X</td>\n",
       "      <td>1</td>\n",
       "      <td>Physical Force</td>\n",
       "      <td>IC</td>\n",
       "    </tr>\n",
       "    <tr>\n",
       "      <th>4997</th>\n",
       "      <td>34.2392</td>\n",
       "      <td>-118.4698</td>\n",
       "      <td>0</td>\n",
       "      <td>Night</td>\n",
       "      <td>19.0</td>\n",
       "      <td>38</td>\n",
       "      <td>M</td>\n",
       "      <td>0913 1817 0416</td>\n",
       "      <td>H</td>\n",
       "      <td>2</td>\n",
       "      <td>Physical Force</td>\n",
       "      <td>AA</td>\n",
       "    </tr>\n",
       "    <tr>\n",
       "      <th>4998</th>\n",
       "      <td>34.0453</td>\n",
       "      <td>-118.2443</td>\n",
       "      <td>1</td>\n",
       "      <td>Night</td>\n",
       "      <td>1.0</td>\n",
       "      <td>41</td>\n",
       "      <td>M</td>\n",
       "      <td>0416</td>\n",
       "      <td>B</td>\n",
       "      <td>2</td>\n",
       "      <td>sharp_heavy_object</td>\n",
       "      <td>AO</td>\n",
       "    </tr>\n",
       "    <tr>\n",
       "      <th>4999</th>\n",
       "      <td>33.9438</td>\n",
       "      <td>-118.2695</td>\n",
       "      <td>0</td>\n",
       "      <td>Night</td>\n",
       "      <td>18.0</td>\n",
       "      <td>49</td>\n",
       "      <td>M</td>\n",
       "      <td>1822 0329</td>\n",
       "      <td>B</td>\n",
       "      <td>2</td>\n",
       "      <td>Physical Force</td>\n",
       "      <td>IC</td>\n",
       "    </tr>\n",
       "  </tbody>\n",
       "</table>\n",
       "<p>5000 rows × 12 columns</p>\n",
       "</div>"
      ],
      "text/plain": [
       "      Latitude  Longitude  reporting_delay_day_count day_category  Area_ID  \\\n",
       "0      34.0128  -118.3045                          0      Evening      3.0   \n",
       "1      34.0726  -118.3029                         37        Night     20.0   \n",
       "2      33.9348  -118.2695                          1      Morning     18.0   \n",
       "3      34.0497  -118.3442                         20        Night      7.0   \n",
       "4      34.1611  -118.3704                          1        Night     15.0   \n",
       "...        ...        ...                        ...          ...      ...   \n",
       "4995   34.0409  -118.3408                          1        Night      7.0   \n",
       "4996   34.0347  -118.2253                          7      Daytime      4.0   \n",
       "4997   34.2392  -118.4698                          0        Night     19.0   \n",
       "4998   34.0453  -118.2443                          1        Night      1.0   \n",
       "4999   33.9438  -118.2695                          0        Night     18.0   \n",
       "\n",
       "      Victim_Age Victim_Sex                 Modus_Operandi Victim_Descent  \\\n",
       "0             28          F  1813 2000 1241 0416 1821 1243              H   \n",
       "1             26          M                      0394 0344              B   \n",
       "2             62          F  0701 1202 0355 0100 1914 1822              B   \n",
       "3              0          X                                             H   \n",
       "4             37          F                           1501              W   \n",
       "...          ...        ...                            ...            ...   \n",
       "4995           0          X                                             H   \n",
       "4996           0          X                      1300 0325              X   \n",
       "4997          38          M                 0913 1817 0416              H   \n",
       "4998          41          M                           0416              B   \n",
       "4999          49          M                      1822 0329              B   \n",
       "\n",
       "      Part 1-2  Weapon_Description Status  \n",
       "0            2      Physical Force     IC  \n",
       "1            1  sharp_heavy_object     IC  \n",
       "2            2        other_weapon     IC  \n",
       "3            1                 Gun     IC  \n",
       "4            2      Physical Force     AO  \n",
       "...        ...                 ...    ...  \n",
       "4995         1                 Gun     IC  \n",
       "4996         1      Physical Force     IC  \n",
       "4997         2      Physical Force     AA  \n",
       "4998         2  sharp_heavy_object     AO  \n",
       "4999         2      Physical Force     IC  \n",
       "\n",
       "[5000 rows x 12 columns]"
      ]
     },
     "execution_count": 101,
     "metadata": {},
     "output_type": "execute_result"
    }
   ],
   "source": [
    "test"
   ]
  },
  {
   "cell_type": "code",
   "execution_count": 102,
   "id": "1aba7c1b",
   "metadata": {
    "execution": {
     "iopub.execute_input": "2024-06-24T09:48:50.458698Z",
     "iopub.status.busy": "2024-06-24T09:48:50.458270Z",
     "iopub.status.idle": "2024-06-24T09:48:50.465716Z",
     "shell.execute_reply": "2024-06-24T09:48:50.464412Z"
    },
    "papermill": {
     "duration": 0.064625,
     "end_time": "2024-06-24T09:48:50.468310",
     "exception": false,
     "start_time": "2024-06-24T09:48:50.403685",
     "status": "completed"
    },
    "tags": []
   },
   "outputs": [
    {
     "data": {
      "text/plain": [
       "(5000, 12)"
      ]
     },
     "execution_count": 102,
     "metadata": {},
     "output_type": "execute_result"
    }
   ],
   "source": [
    "test.shape"
   ]
  },
  {
   "cell_type": "code",
   "execution_count": 103,
   "id": "ccbbba80",
   "metadata": {
    "execution": {
     "iopub.execute_input": "2024-06-24T09:48:50.567185Z",
     "iopub.status.busy": "2024-06-24T09:48:50.566162Z",
     "iopub.status.idle": "2024-06-24T09:48:50.588177Z",
     "shell.execute_reply": "2024-06-24T09:48:50.587052Z"
    },
    "papermill": {
     "duration": 0.074508,
     "end_time": "2024-06-24T09:48:50.590904",
     "exception": false,
     "start_time": "2024-06-24T09:48:50.516396",
     "status": "completed"
    },
    "tags": []
   },
   "outputs": [
    {
     "data": {
      "text/html": [
       "<div>\n",
       "<style scoped>\n",
       "    .dataframe tbody tr th:only-of-type {\n",
       "        vertical-align: middle;\n",
       "    }\n",
       "\n",
       "    .dataframe tbody tr th {\n",
       "        vertical-align: top;\n",
       "    }\n",
       "\n",
       "    .dataframe thead th {\n",
       "        text-align: right;\n",
       "    }\n",
       "</style>\n",
       "<table border=\"1\" class=\"dataframe\">\n",
       "  <thead>\n",
       "    <tr style=\"text-align: right;\">\n",
       "      <th></th>\n",
       "      <th>ID</th>\n",
       "      <th>Crime_Category</th>\n",
       "      <th>Unnamed: 2</th>\n",
       "    </tr>\n",
       "  </thead>\n",
       "  <tbody>\n",
       "    <tr>\n",
       "      <th>0</th>\n",
       "      <td>1</td>\n",
       "      <td>Crimes against Persons</td>\n",
       "      <td>NaN</td>\n",
       "    </tr>\n",
       "    <tr>\n",
       "      <th>1</th>\n",
       "      <td>2</td>\n",
       "      <td>Crimes against Public Order</td>\n",
       "      <td>NaN</td>\n",
       "    </tr>\n",
       "    <tr>\n",
       "      <th>2</th>\n",
       "      <td>3</td>\n",
       "      <td>Other Crimes</td>\n",
       "      <td>NaN</td>\n",
       "    </tr>\n",
       "    <tr>\n",
       "      <th>3</th>\n",
       "      <td>4</td>\n",
       "      <td>Crimes against Public Order</td>\n",
       "      <td>NaN</td>\n",
       "    </tr>\n",
       "    <tr>\n",
       "      <th>4</th>\n",
       "      <td>5</td>\n",
       "      <td>Other Crimes</td>\n",
       "      <td>NaN</td>\n",
       "    </tr>\n",
       "    <tr>\n",
       "      <th>...</th>\n",
       "      <td>...</td>\n",
       "      <td>...</td>\n",
       "      <td>...</td>\n",
       "    </tr>\n",
       "    <tr>\n",
       "      <th>995</th>\n",
       "      <td>996</td>\n",
       "      <td>Fraud and White-Collar Crimes</td>\n",
       "      <td>NaN</td>\n",
       "    </tr>\n",
       "    <tr>\n",
       "      <th>996</th>\n",
       "      <td>997</td>\n",
       "      <td>Property Crimes</td>\n",
       "      <td>NaN</td>\n",
       "    </tr>\n",
       "    <tr>\n",
       "      <th>997</th>\n",
       "      <td>998</td>\n",
       "      <td>Violent Crimes</td>\n",
       "      <td>NaN</td>\n",
       "    </tr>\n",
       "    <tr>\n",
       "      <th>998</th>\n",
       "      <td>999</td>\n",
       "      <td>Property Crimes</td>\n",
       "      <td>NaN</td>\n",
       "    </tr>\n",
       "    <tr>\n",
       "      <th>999</th>\n",
       "      <td>1000</td>\n",
       "      <td>Violent Crimes</td>\n",
       "      <td>NaN</td>\n",
       "    </tr>\n",
       "  </tbody>\n",
       "</table>\n",
       "<p>1000 rows × 3 columns</p>\n",
       "</div>"
      ],
      "text/plain": [
       "       ID                Crime_Category   Unnamed: 2\n",
       "0       1         Crimes against Persons         NaN\n",
       "1       2    Crimes against Public Order         NaN\n",
       "2       3                   Other Crimes         NaN\n",
       "3       4    Crimes against Public Order         NaN\n",
       "4       5                   Other Crimes         NaN\n",
       "..    ...                            ...         ...\n",
       "995   996  Fraud and White-Collar Crimes         NaN\n",
       "996   997                Property Crimes         NaN\n",
       "997   998                 Violent Crimes         NaN\n",
       "998   999                Property Crimes         NaN\n",
       "999  1000                 Violent Crimes         NaN\n",
       "\n",
       "[1000 rows x 3 columns]"
      ]
     },
     "execution_count": 103,
     "metadata": {},
     "output_type": "execute_result"
    }
   ],
   "source": [
    "sample=pd.read_csv('/kaggle/input/crime-cast-forecasting-crime-categories/sample.csv')\n",
    "sample"
   ]
  },
  {
   "cell_type": "code",
   "execution_count": 104,
   "id": "c08f15f1",
   "metadata": {
    "execution": {
     "iopub.execute_input": "2024-06-24T09:48:50.688951Z",
     "iopub.status.busy": "2024-06-24T09:48:50.688562Z",
     "iopub.status.idle": "2024-06-24T09:48:50.702188Z",
     "shell.execute_reply": "2024-06-24T09:48:50.700666Z"
    },
    "papermill": {
     "duration": 0.065381,
     "end_time": "2024-06-24T09:48:50.704688",
     "exception": false,
     "start_time": "2024-06-24T09:48:50.639307",
     "status": "completed"
    },
    "tags": []
   },
   "outputs": [
    {
     "data": {
      "text/plain": [
       "Latitude                     0\n",
       "Longitude                    0\n",
       "reporting_delay_day_count    0\n",
       "day_category                 0\n",
       "Area_ID                      0\n",
       "Victim_Age                   0\n",
       "Victim_Sex                   0\n",
       "Modus_Operandi               0\n",
       "Victim_Descent               0\n",
       "Part 1-2                     0\n",
       "Weapon_Description           0\n",
       "Status                       0\n",
       "dtype: int64"
      ]
     },
     "execution_count": 104,
     "metadata": {},
     "output_type": "execute_result"
    }
   ],
   "source": [
    "test.isnull().sum()"
   ]
  },
  {
   "cell_type": "code",
   "execution_count": 105,
   "id": "9fe8d41d",
   "metadata": {
    "execution": {
     "iopub.execute_input": "2024-06-24T09:48:50.802032Z",
     "iopub.status.busy": "2024-06-24T09:48:50.801606Z",
     "iopub.status.idle": "2024-06-24T09:48:51.974449Z",
     "shell.execute_reply": "2024-06-24T09:48:51.973198Z"
    },
    "papermill": {
     "duration": 1.22519,
     "end_time": "2024-06-24T09:48:51.977403",
     "exception": false,
     "start_time": "2024-06-24T09:48:50.752213",
     "status": "completed"
    },
    "tags": []
   },
   "outputs": [],
   "source": [
    "y_pred=pipe_svc.predict(test)\n",
    "submission=pd.DataFrame({'ID': np.arange(1,5000+1), 'Crime_Category': y_pred})\n",
    "\n",
    "submission.to_csv('submission.csv',index=False)"
   ]
  },
  {
   "cell_type": "code",
   "execution_count": null,
   "id": "3d32d791",
   "metadata": {
    "papermill": {
     "duration": 0.047614,
     "end_time": "2024-06-24T09:48:52.073925",
     "exception": false,
     "start_time": "2024-06-24T09:48:52.026311",
     "status": "completed"
    },
    "tags": []
   },
   "outputs": [],
   "source": []
  }
 ],
 "metadata": {
  "kaggle": {
   "accelerator": "none",
   "dataSources": [
    {
     "databundleVersionId": 8446444,
     "sourceId": 77420,
     "sourceType": "competition"
    }
   ],
   "dockerImageVersionId": 30715,
   "isGpuEnabled": false,
   "isInternetEnabled": false,
   "language": "python",
   "sourceType": "notebook"
  },
  "kernelspec": {
   "display_name": "Python 3",
   "language": "python",
   "name": "python3"
  },
  "language_info": {
   "codemirror_mode": {
    "name": "ipython",
    "version": 3
   },
   "file_extension": ".py",
   "mimetype": "text/x-python",
   "name": "python",
   "nbconvert_exporter": "python",
   "pygments_lexer": "ipython3",
   "version": "3.10.13"
  },
  "papermill": {
   "default_parameters": {},
   "duration": 50.256893,
   "end_time": "2024-06-24T09:48:52.844693",
   "environment_variables": {},
   "exception": null,
   "input_path": "__notebook__.ipynb",
   "output_path": "__notebook__.ipynb",
   "parameters": {},
   "start_time": "2024-06-24T09:48:02.587800",
   "version": "2.5.0"
  }
 },
 "nbformat": 4,
 "nbformat_minor": 5
}
