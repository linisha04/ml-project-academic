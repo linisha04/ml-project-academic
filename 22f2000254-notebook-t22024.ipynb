{
 "cells": [
  {
   "cell_type": "code",
   "execution_count": 1,
   "id": "49c35f76",
   "metadata": {
    "_cell_guid": "b1076dfc-b9ad-4769-8c92-a6c4dae69d19",
    "_uuid": "8f2839f25d086af736a60e9eeb907d3b93b6e0e5",
    "execution": {
     "iopub.execute_input": "2024-06-24T09:51:43.138126Z",
     "iopub.status.busy": "2024-06-24T09:51:43.137719Z",
     "iopub.status.idle": "2024-06-24T09:51:44.024197Z",
     "shell.execute_reply": "2024-06-24T09:51:44.023006Z"
    },
    "papermill": {
     "duration": 0.914308,
     "end_time": "2024-06-24T09:51:44.026995",
     "exception": false,
     "start_time": "2024-06-24T09:51:43.112687",
     "status": "completed"
    },
    "tags": []
   },
   "outputs": [
    {
     "name": "stdout",
     "output_type": "stream",
     "text": [
      "/kaggle/input/crime-cast-forecasting-crime-categories/sample.csv\n",
      "/kaggle/input/crime-cast-forecasting-crime-categories/train.csv\n",
      "/kaggle/input/crime-cast-forecasting-crime-categories/test.csv\n"
     ]
    }
   ],
   "source": [
    "# This Python 3 environment comes with many helpful analytics libraries installed\n",
    "# It is defined by the kaggle/python Docker image: https://github.com/kaggle/docker-python\n",
    "# For example, here's several helpful packages to load\n",
    "\n",
    "import numpy as np # linear algebra\n",
    "import pandas as pd # data processing, CSV file I/O (e.g. pd.read_csv)\n",
    "\n",
    "# Input data files are available in the read-only \"../input/\" directory\n",
    "# For example, running this (by clicking run or pressing Shift+Enter), will list all files under the input directory\n",
    "\n",
    "import os\n",
    "for dirname, _, filenames in os.walk('/kaggle/input'):\n",
    "    for filename in filenames:\n",
    "        print(os.path.join(dirname, filename))\n",
    "\n",
    "# You can write up to 20GB to the current directory (/kaggle/working/) that gets preserved as output when you create a version using \"Save & Run All\" \n",
    "# You can also write temporary files to /kaggle/temp/, but they won't be saved outside of the current session"
   ]
  },
  {
   "cell_type": "code",
   "execution_count": 2,
   "id": "1bcf3bc7",
   "metadata": {
    "execution": {
     "iopub.execute_input": "2024-06-24T09:51:44.076577Z",
     "iopub.status.busy": "2024-06-24T09:51:44.075555Z",
     "iopub.status.idle": "2024-06-24T09:51:45.702291Z",
     "shell.execute_reply": "2024-06-24T09:51:45.701076Z"
    },
    "papermill": {
     "duration": 1.653636,
     "end_time": "2024-06-24T09:51:45.704842",
     "exception": false,
     "start_time": "2024-06-24T09:51:44.051206",
     "status": "completed"
    },
    "tags": []
   },
   "outputs": [],
   "source": [
    "import matplotlib.pyplot as plt\n",
    "import seaborn as sns \n",
    "\n",
    "\n",
    "import datetime\n",
    "\n",
    "\n",
    "from sklearn.model_selection import train_test_split "
   ]
  },
  {
   "cell_type": "code",
   "execution_count": 3,
   "id": "9001a13f",
   "metadata": {
    "execution": {
     "iopub.execute_input": "2024-06-24T09:51:45.751553Z",
     "iopub.status.busy": "2024-06-24T09:51:45.750617Z",
     "iopub.status.idle": "2024-06-24T09:51:45.952094Z",
     "shell.execute_reply": "2024-06-24T09:51:45.951242Z"
    },
    "papermill": {
     "duration": 0.227293,
     "end_time": "2024-06-24T09:51:45.954474",
     "exception": false,
     "start_time": "2024-06-24T09:51:45.727181",
     "status": "completed"
    },
    "tags": []
   },
   "outputs": [],
   "source": [
    "train =pd.read_csv('/kaggle/input/crime-cast-forecasting-crime-categories/train.csv')\n",
    "test=pd.read_csv('/kaggle/input/crime-cast-forecasting-crime-categories/test.csv')\n"
   ]
  },
  {
   "cell_type": "code",
   "execution_count": 4,
   "id": "712470f8",
   "metadata": {
    "execution": {
     "iopub.execute_input": "2024-06-24T09:51:46.002538Z",
     "iopub.status.busy": "2024-06-24T09:51:46.002155Z",
     "iopub.status.idle": "2024-06-24T09:51:46.063097Z",
     "shell.execute_reply": "2024-06-24T09:51:46.061944Z"
    },
    "papermill": {
     "duration": 0.086719,
     "end_time": "2024-06-24T09:51:46.065279",
     "exception": false,
     "start_time": "2024-06-24T09:51:45.978560",
     "status": "completed"
    },
    "tags": []
   },
   "outputs": [
    {
     "data": {
      "text/html": [
       "<div>\n",
       "<style scoped>\n",
       "    .dataframe tbody tr th:only-of-type {\n",
       "        vertical-align: middle;\n",
       "    }\n",
       "\n",
       "    .dataframe tbody tr th {\n",
       "        vertical-align: top;\n",
       "    }\n",
       "\n",
       "    .dataframe thead th {\n",
       "        text-align: right;\n",
       "    }\n",
       "</style>\n",
       "<table border=\"1\" class=\"dataframe\">\n",
       "  <thead>\n",
       "    <tr style=\"text-align: right;\">\n",
       "      <th></th>\n",
       "      <th>Location</th>\n",
       "      <th>Cross_Street</th>\n",
       "      <th>Latitude</th>\n",
       "      <th>Longitude</th>\n",
       "      <th>Date_Reported</th>\n",
       "      <th>Date_Occurred</th>\n",
       "      <th>Time_Occurred</th>\n",
       "      <th>Area_ID</th>\n",
       "      <th>Area_Name</th>\n",
       "      <th>Reporting_District_no</th>\n",
       "      <th>...</th>\n",
       "      <th>Victim_Age</th>\n",
       "      <th>Victim_Sex</th>\n",
       "      <th>Victim_Descent</th>\n",
       "      <th>Premise_Code</th>\n",
       "      <th>Premise_Description</th>\n",
       "      <th>Weapon_Used_Code</th>\n",
       "      <th>Weapon_Description</th>\n",
       "      <th>Status</th>\n",
       "      <th>Status_Description</th>\n",
       "      <th>Crime_Category</th>\n",
       "    </tr>\n",
       "  </thead>\n",
       "  <tbody>\n",
       "    <tr>\n",
       "      <th>0</th>\n",
       "      <td>4500    CARPENTER                    AV</td>\n",
       "      <td>NaN</td>\n",
       "      <td>34.1522</td>\n",
       "      <td>-118.3910</td>\n",
       "      <td>03/09/2020 12:00:00 AM</td>\n",
       "      <td>03/06/2020 12:00:00 AM</td>\n",
       "      <td>1800.0</td>\n",
       "      <td>15.0</td>\n",
       "      <td>N Hollywood</td>\n",
       "      <td>1563.0</td>\n",
       "      <td>...</td>\n",
       "      <td>75.0</td>\n",
       "      <td>M</td>\n",
       "      <td>W</td>\n",
       "      <td>101.0</td>\n",
       "      <td>STREET</td>\n",
       "      <td>NaN</td>\n",
       "      <td>NaN</td>\n",
       "      <td>IC</td>\n",
       "      <td>Invest Cont</td>\n",
       "      <td>Property Crimes</td>\n",
       "    </tr>\n",
       "    <tr>\n",
       "      <th>1</th>\n",
       "      <td>45TH                         ST</td>\n",
       "      <td>ALAMEDA                      ST</td>\n",
       "      <td>34.0028</td>\n",
       "      <td>-118.2391</td>\n",
       "      <td>02/27/2020 12:00:00 AM</td>\n",
       "      <td>02/27/2020 12:00:00 AM</td>\n",
       "      <td>1345.0</td>\n",
       "      <td>13.0</td>\n",
       "      <td>Newton</td>\n",
       "      <td>1367.0</td>\n",
       "      <td>...</td>\n",
       "      <td>41.0</td>\n",
       "      <td>M</td>\n",
       "      <td>H</td>\n",
       "      <td>216.0</td>\n",
       "      <td>SWAP MEET</td>\n",
       "      <td>400.0</td>\n",
       "      <td>STRONG-ARM (HANDS, FIST, FEET OR BODILY FORCE)</td>\n",
       "      <td>IC</td>\n",
       "      <td>Invest Cont</td>\n",
       "      <td>Property Crimes</td>\n",
       "    </tr>\n",
       "    <tr>\n",
       "      <th>2</th>\n",
       "      <td>600 E  MARTIN LUTHER KING JR        BL</td>\n",
       "      <td>NaN</td>\n",
       "      <td>34.0111</td>\n",
       "      <td>-118.2653</td>\n",
       "      <td>08/21/2020 12:00:00 AM</td>\n",
       "      <td>08/21/2020 12:00:00 AM</td>\n",
       "      <td>605.0</td>\n",
       "      <td>13.0</td>\n",
       "      <td>Newton</td>\n",
       "      <td>1343.0</td>\n",
       "      <td>...</td>\n",
       "      <td>67.0</td>\n",
       "      <td>M</td>\n",
       "      <td>B</td>\n",
       "      <td>501.0</td>\n",
       "      <td>SINGLE FAMILY DWELLING</td>\n",
       "      <td>NaN</td>\n",
       "      <td>NaN</td>\n",
       "      <td>IC</td>\n",
       "      <td>Invest Cont</td>\n",
       "      <td>Property Crimes</td>\n",
       "    </tr>\n",
       "    <tr>\n",
       "      <th>3</th>\n",
       "      <td>14900    ORO GRANDE                   ST</td>\n",
       "      <td>NaN</td>\n",
       "      <td>34.2953</td>\n",
       "      <td>-118.4590</td>\n",
       "      <td>11/08/2020 12:00:00 AM</td>\n",
       "      <td>11/06/2020 12:00:00 AM</td>\n",
       "      <td>1800.0</td>\n",
       "      <td>19.0</td>\n",
       "      <td>Mission</td>\n",
       "      <td>1924.0</td>\n",
       "      <td>...</td>\n",
       "      <td>61.0</td>\n",
       "      <td>M</td>\n",
       "      <td>H</td>\n",
       "      <td>101.0</td>\n",
       "      <td>STREET</td>\n",
       "      <td>NaN</td>\n",
       "      <td>NaN</td>\n",
       "      <td>IC</td>\n",
       "      <td>Invest Cont</td>\n",
       "      <td>Property Crimes</td>\n",
       "    </tr>\n",
       "    <tr>\n",
       "      <th>4</th>\n",
       "      <td>7100 S  VERMONT                      AV</td>\n",
       "      <td>NaN</td>\n",
       "      <td>33.9787</td>\n",
       "      <td>-118.2918</td>\n",
       "      <td>02/25/2020 12:00:00 AM</td>\n",
       "      <td>02/25/2020 12:00:00 AM</td>\n",
       "      <td>1130.0</td>\n",
       "      <td>12.0</td>\n",
       "      <td>77th Street</td>\n",
       "      <td>1245.0</td>\n",
       "      <td>...</td>\n",
       "      <td>0.0</td>\n",
       "      <td>X</td>\n",
       "      <td>X</td>\n",
       "      <td>401.0</td>\n",
       "      <td>MINI-MART</td>\n",
       "      <td>400.0</td>\n",
       "      <td>STRONG-ARM (HANDS, FIST, FEET OR BODILY FORCE)</td>\n",
       "      <td>IC</td>\n",
       "      <td>Invest Cont</td>\n",
       "      <td>Property Crimes</td>\n",
       "    </tr>\n",
       "    <tr>\n",
       "      <th>...</th>\n",
       "      <td>...</td>\n",
       "      <td>...</td>\n",
       "      <td>...</td>\n",
       "      <td>...</td>\n",
       "      <td>...</td>\n",
       "      <td>...</td>\n",
       "      <td>...</td>\n",
       "      <td>...</td>\n",
       "      <td>...</td>\n",
       "      <td>...</td>\n",
       "      <td>...</td>\n",
       "      <td>...</td>\n",
       "      <td>...</td>\n",
       "      <td>...</td>\n",
       "      <td>...</td>\n",
       "      <td>...</td>\n",
       "      <td>...</td>\n",
       "      <td>...</td>\n",
       "      <td>...</td>\n",
       "      <td>...</td>\n",
       "      <td>...</td>\n",
       "    </tr>\n",
       "    <tr>\n",
       "      <th>19995</th>\n",
       "      <td>5100 W  ADAMS                        BL</td>\n",
       "      <td>NaN</td>\n",
       "      <td>34.0334</td>\n",
       "      <td>-118.3523</td>\n",
       "      <td>05/24/2020 12:00:00 AM</td>\n",
       "      <td>05/24/2020 12:00:00 AM</td>\n",
       "      <td>700.0</td>\n",
       "      <td>3.0</td>\n",
       "      <td>Southwest</td>\n",
       "      <td>303.0</td>\n",
       "      <td>...</td>\n",
       "      <td>51.0</td>\n",
       "      <td>M</td>\n",
       "      <td>H</td>\n",
       "      <td>501.0</td>\n",
       "      <td>SINGLE FAMILY DWELLING</td>\n",
       "      <td>400.0</td>\n",
       "      <td>STRONG-ARM (HANDS, FIST, FEET OR BODILY FORCE)</td>\n",
       "      <td>IC</td>\n",
       "      <td>Invest Cont</td>\n",
       "      <td>Violent Crimes</td>\n",
       "    </tr>\n",
       "    <tr>\n",
       "      <th>19996</th>\n",
       "      <td>16900    ROSCOE                       BL</td>\n",
       "      <td>NaN</td>\n",
       "      <td>34.2212</td>\n",
       "      <td>-118.5011</td>\n",
       "      <td>12/25/2020 12:00:00 AM</td>\n",
       "      <td>12/25/2020 12:00:00 AM</td>\n",
       "      <td>259.0</td>\n",
       "      <td>10.0</td>\n",
       "      <td>West Valley</td>\n",
       "      <td>1008.0</td>\n",
       "      <td>...</td>\n",
       "      <td>0.0</td>\n",
       "      <td>M</td>\n",
       "      <td>W</td>\n",
       "      <td>301.0</td>\n",
       "      <td>GAS STATION</td>\n",
       "      <td>NaN</td>\n",
       "      <td>NaN</td>\n",
       "      <td>IC</td>\n",
       "      <td>Invest Cont</td>\n",
       "      <td>Property Crimes</td>\n",
       "    </tr>\n",
       "    <tr>\n",
       "      <th>19997</th>\n",
       "      <td>1000 S  SHENANDOAH                   ST</td>\n",
       "      <td>NaN</td>\n",
       "      <td>34.0571</td>\n",
       "      <td>-118.3815</td>\n",
       "      <td>09/25/2020 12:00:00 AM</td>\n",
       "      <td>09/25/2020 12:00:00 AM</td>\n",
       "      <td>1400.0</td>\n",
       "      <td>8.0</td>\n",
       "      <td>West LA</td>\n",
       "      <td>849.0</td>\n",
       "      <td>...</td>\n",
       "      <td>42.0</td>\n",
       "      <td>M</td>\n",
       "      <td>H</td>\n",
       "      <td>102.0</td>\n",
       "      <td>SIDEWALK</td>\n",
       "      <td>NaN</td>\n",
       "      <td>NaN</td>\n",
       "      <td>IC</td>\n",
       "      <td>Invest Cont</td>\n",
       "      <td>Property Crimes</td>\n",
       "    </tr>\n",
       "    <tr>\n",
       "      <th>19998</th>\n",
       "      <td>300 W  SEPULVEDA                    ST</td>\n",
       "      <td>NaN</td>\n",
       "      <td>33.7451</td>\n",
       "      <td>-118.2835</td>\n",
       "      <td>06/10/2020 12:00:00 AM</td>\n",
       "      <td>06/10/2020 12:00:00 AM</td>\n",
       "      <td>600.0</td>\n",
       "      <td>5.0</td>\n",
       "      <td>Harbor</td>\n",
       "      <td>558.0</td>\n",
       "      <td>...</td>\n",
       "      <td>76.0</td>\n",
       "      <td>F</td>\n",
       "      <td>H</td>\n",
       "      <td>501.0</td>\n",
       "      <td>SINGLE FAMILY DWELLING</td>\n",
       "      <td>NaN</td>\n",
       "      <td>NaN</td>\n",
       "      <td>IC</td>\n",
       "      <td>Invest Cont</td>\n",
       "      <td>Crimes against Public Order</td>\n",
       "    </tr>\n",
       "    <tr>\n",
       "      <th>19999</th>\n",
       "      <td>DALTON                       AV</td>\n",
       "      <td>VERNON                       AV</td>\n",
       "      <td>34.0037</td>\n",
       "      <td>-118.3034</td>\n",
       "      <td>02/18/2020 12:00:00 AM</td>\n",
       "      <td>02/17/2020 12:00:00 AM</td>\n",
       "      <td>1800.0</td>\n",
       "      <td>3.0</td>\n",
       "      <td>Southwest</td>\n",
       "      <td>397.0</td>\n",
       "      <td>...</td>\n",
       "      <td>0.0</td>\n",
       "      <td>NaN</td>\n",
       "      <td>NaN</td>\n",
       "      <td>101.0</td>\n",
       "      <td>STREET</td>\n",
       "      <td>NaN</td>\n",
       "      <td>NaN</td>\n",
       "      <td>IC</td>\n",
       "      <td>Invest Cont</td>\n",
       "      <td>Property Crimes</td>\n",
       "    </tr>\n",
       "  </tbody>\n",
       "</table>\n",
       "<p>20000 rows × 22 columns</p>\n",
       "</div>"
      ],
      "text/plain": [
       "                                       Location  \\\n",
       "0       4500    CARPENTER                    AV   \n",
       "1               45TH                         ST   \n",
       "2        600 E  MARTIN LUTHER KING JR        BL   \n",
       "3      14900    ORO GRANDE                   ST   \n",
       "4       7100 S  VERMONT                      AV   \n",
       "...                                         ...   \n",
       "19995   5100 W  ADAMS                        BL   \n",
       "19996  16900    ROSCOE                       BL   \n",
       "19997   1000 S  SHENANDOAH                   ST   \n",
       "19998    300 W  SEPULVEDA                    ST   \n",
       "19999           DALTON                       AV   \n",
       "\n",
       "                          Cross_Street  Latitude  Longitude  \\\n",
       "0                                  NaN   34.1522  -118.3910   \n",
       "1      ALAMEDA                      ST   34.0028  -118.2391   \n",
       "2                                  NaN   34.0111  -118.2653   \n",
       "3                                  NaN   34.2953  -118.4590   \n",
       "4                                  NaN   33.9787  -118.2918   \n",
       "...                                ...       ...        ...   \n",
       "19995                              NaN   34.0334  -118.3523   \n",
       "19996                              NaN   34.2212  -118.5011   \n",
       "19997                              NaN   34.0571  -118.3815   \n",
       "19998                              NaN   33.7451  -118.2835   \n",
       "19999  VERNON                       AV   34.0037  -118.3034   \n",
       "\n",
       "                Date_Reported           Date_Occurred  Time_Occurred  Area_ID  \\\n",
       "0      03/09/2020 12:00:00 AM  03/06/2020 12:00:00 AM         1800.0     15.0   \n",
       "1      02/27/2020 12:00:00 AM  02/27/2020 12:00:00 AM         1345.0     13.0   \n",
       "2      08/21/2020 12:00:00 AM  08/21/2020 12:00:00 AM          605.0     13.0   \n",
       "3      11/08/2020 12:00:00 AM  11/06/2020 12:00:00 AM         1800.0     19.0   \n",
       "4      02/25/2020 12:00:00 AM  02/25/2020 12:00:00 AM         1130.0     12.0   \n",
       "...                       ...                     ...            ...      ...   \n",
       "19995  05/24/2020 12:00:00 AM  05/24/2020 12:00:00 AM          700.0      3.0   \n",
       "19996  12/25/2020 12:00:00 AM  12/25/2020 12:00:00 AM          259.0     10.0   \n",
       "19997  09/25/2020 12:00:00 AM  09/25/2020 12:00:00 AM         1400.0      8.0   \n",
       "19998  06/10/2020 12:00:00 AM  06/10/2020 12:00:00 AM          600.0      5.0   \n",
       "19999  02/18/2020 12:00:00 AM  02/17/2020 12:00:00 AM         1800.0      3.0   \n",
       "\n",
       "         Area_Name  Reporting_District_no  ...  Victim_Age Victim_Sex  \\\n",
       "0      N Hollywood                 1563.0  ...        75.0          M   \n",
       "1           Newton                 1367.0  ...        41.0          M   \n",
       "2           Newton                 1343.0  ...        67.0          M   \n",
       "3          Mission                 1924.0  ...        61.0          M   \n",
       "4      77th Street                 1245.0  ...         0.0          X   \n",
       "...            ...                    ...  ...         ...        ...   \n",
       "19995    Southwest                  303.0  ...        51.0          M   \n",
       "19996  West Valley                 1008.0  ...         0.0          M   \n",
       "19997      West LA                  849.0  ...        42.0          M   \n",
       "19998       Harbor                  558.0  ...        76.0          F   \n",
       "19999    Southwest                  397.0  ...         0.0        NaN   \n",
       "\n",
       "       Victim_Descent Premise_Code     Premise_Description  Weapon_Used_Code  \\\n",
       "0                   W        101.0                  STREET               NaN   \n",
       "1                   H        216.0               SWAP MEET             400.0   \n",
       "2                   B        501.0  SINGLE FAMILY DWELLING               NaN   \n",
       "3                   H        101.0                  STREET               NaN   \n",
       "4                   X        401.0               MINI-MART             400.0   \n",
       "...               ...          ...                     ...               ...   \n",
       "19995               H        501.0  SINGLE FAMILY DWELLING             400.0   \n",
       "19996               W        301.0             GAS STATION               NaN   \n",
       "19997               H        102.0                SIDEWALK               NaN   \n",
       "19998               H        501.0  SINGLE FAMILY DWELLING               NaN   \n",
       "19999             NaN        101.0                  STREET               NaN   \n",
       "\n",
       "                                   Weapon_Description  Status  \\\n",
       "0                                                 NaN      IC   \n",
       "1      STRONG-ARM (HANDS, FIST, FEET OR BODILY FORCE)      IC   \n",
       "2                                                 NaN      IC   \n",
       "3                                                 NaN      IC   \n",
       "4      STRONG-ARM (HANDS, FIST, FEET OR BODILY FORCE)      IC   \n",
       "...                                               ...     ...   \n",
       "19995  STRONG-ARM (HANDS, FIST, FEET OR BODILY FORCE)      IC   \n",
       "19996                                             NaN      IC   \n",
       "19997                                             NaN      IC   \n",
       "19998                                             NaN      IC   \n",
       "19999                                             NaN      IC   \n",
       "\n",
       "      Status_Description               Crime_Category  \n",
       "0            Invest Cont              Property Crimes  \n",
       "1            Invest Cont              Property Crimes  \n",
       "2            Invest Cont              Property Crimes  \n",
       "3            Invest Cont              Property Crimes  \n",
       "4            Invest Cont              Property Crimes  \n",
       "...                  ...                          ...  \n",
       "19995        Invest Cont               Violent Crimes  \n",
       "19996        Invest Cont              Property Crimes  \n",
       "19997        Invest Cont              Property Crimes  \n",
       "19998        Invest Cont  Crimes against Public Order  \n",
       "19999        Invest Cont              Property Crimes  \n",
       "\n",
       "[20000 rows x 22 columns]"
      ]
     },
     "execution_count": 4,
     "metadata": {},
     "output_type": "execute_result"
    }
   ],
   "source": [
    "train"
   ]
  },
  {
   "cell_type": "code",
   "execution_count": 5,
   "id": "fb8115c0",
   "metadata": {
    "execution": {
     "iopub.execute_input": "2024-06-24T09:51:46.112721Z",
     "iopub.status.busy": "2024-06-24T09:51:46.112331Z",
     "iopub.status.idle": "2024-06-24T09:51:46.118605Z",
     "shell.execute_reply": "2024-06-24T09:51:46.117641Z"
    },
    "papermill": {
     "duration": 0.032415,
     "end_time": "2024-06-24T09:51:46.120701",
     "exception": false,
     "start_time": "2024-06-24T09:51:46.088286",
     "status": "completed"
    },
    "tags": []
   },
   "outputs": [
    {
     "data": {
      "text/plain": [
       "(20000, 22)"
      ]
     },
     "execution_count": 5,
     "metadata": {},
     "output_type": "execute_result"
    }
   ],
   "source": [
    "train.shape"
   ]
  },
  {
   "cell_type": "code",
   "execution_count": 6,
   "id": "8c27b859",
   "metadata": {
    "execution": {
     "iopub.execute_input": "2024-06-24T09:51:46.169671Z",
     "iopub.status.busy": "2024-06-24T09:51:46.169300Z",
     "iopub.status.idle": "2024-06-24T09:51:46.206002Z",
     "shell.execute_reply": "2024-06-24T09:51:46.204823Z"
    },
    "papermill": {
     "duration": 0.064352,
     "end_time": "2024-06-24T09:51:46.208393",
     "exception": false,
     "start_time": "2024-06-24T09:51:46.144041",
     "status": "completed"
    },
    "tags": []
   },
   "outputs": [
    {
     "name": "stdout",
     "output_type": "stream",
     "text": [
      "<class 'pandas.core.frame.DataFrame'>\n",
      "RangeIndex: 20000 entries, 0 to 19999\n",
      "Data columns (total 22 columns):\n",
      " #   Column                 Non-Null Count  Dtype  \n",
      "---  ------                 --------------  -----  \n",
      " 0   Location               20000 non-null  object \n",
      " 1   Cross_Street           3448 non-null   object \n",
      " 2   Latitude               20000 non-null  float64\n",
      " 3   Longitude              20000 non-null  float64\n",
      " 4   Date_Reported          20000 non-null  object \n",
      " 5   Date_Occurred          20000 non-null  object \n",
      " 6   Time_Occurred          20000 non-null  float64\n",
      " 7   Area_ID                20000 non-null  float64\n",
      " 8   Area_Name              20000 non-null  object \n",
      " 9   Reporting_District_no  20000 non-null  float64\n",
      " 10  Part 1-2               20000 non-null  float64\n",
      " 11  Modus_Operandi         17259 non-null  object \n",
      " 12  Victim_Age             20000 non-null  float64\n",
      " 13  Victim_Sex             17376 non-null  object \n",
      " 14  Victim_Descent         17376 non-null  object \n",
      " 15  Premise_Code           20000 non-null  float64\n",
      " 16  Premise_Description    19995 non-null  object \n",
      " 17  Weapon_Used_Code       7335 non-null   float64\n",
      " 18  Weapon_Description     7335 non-null   object \n",
      " 19  Status                 20000 non-null  object \n",
      " 20  Status_Description     20000 non-null  object \n",
      " 21  Crime_Category         20000 non-null  object \n",
      "dtypes: float64(9), object(13)\n",
      "memory usage: 3.4+ MB\n"
     ]
    }
   ],
   "source": [
    "train.info()"
   ]
  },
  {
   "cell_type": "code",
   "execution_count": 7,
   "id": "a7328e0c",
   "metadata": {
    "execution": {
     "iopub.execute_input": "2024-06-24T09:51:46.257448Z",
     "iopub.status.busy": "2024-06-24T09:51:46.256615Z",
     "iopub.status.idle": "2024-06-24T09:51:46.277658Z",
     "shell.execute_reply": "2024-06-24T09:51:46.276560Z"
    },
    "papermill": {
     "duration": 0.047978,
     "end_time": "2024-06-24T09:51:46.279885",
     "exception": false,
     "start_time": "2024-06-24T09:51:46.231907",
     "status": "completed"
    },
    "tags": []
   },
   "outputs": [
    {
     "data": {
      "text/plain": [
       "Location                     0\n",
       "Cross_Street             16552\n",
       "Latitude                     0\n",
       "Longitude                    0\n",
       "Date_Reported                0\n",
       "Date_Occurred                0\n",
       "Time_Occurred                0\n",
       "Area_ID                      0\n",
       "Area_Name                    0\n",
       "Reporting_District_no        0\n",
       "Part 1-2                     0\n",
       "Modus_Operandi            2741\n",
       "Victim_Age                   0\n",
       "Victim_Sex                2624\n",
       "Victim_Descent            2624\n",
       "Premise_Code                 0\n",
       "Premise_Description          5\n",
       "Weapon_Used_Code         12665\n",
       "Weapon_Description       12665\n",
       "Status                       0\n",
       "Status_Description           0\n",
       "Crime_Category               0\n",
       "dtype: int64"
      ]
     },
     "execution_count": 7,
     "metadata": {},
     "output_type": "execute_result"
    }
   ],
   "source": [
    "train.isnull().sum()"
   ]
  },
  {
   "cell_type": "code",
   "execution_count": 8,
   "id": "27f776a1",
   "metadata": {
    "execution": {
     "iopub.execute_input": "2024-06-24T09:51:46.330864Z",
     "iopub.status.busy": "2024-06-24T09:51:46.329878Z",
     "iopub.status.idle": "2024-06-24T09:51:46.341105Z",
     "shell.execute_reply": "2024-06-24T09:51:46.340102Z"
    },
    "papermill": {
     "duration": 0.038528,
     "end_time": "2024-06-24T09:51:46.343331",
     "exception": false,
     "start_time": "2024-06-24T09:51:46.304803",
     "status": "completed"
    },
    "tags": []
   },
   "outputs": [
    {
     "data": {
      "text/plain": [
       "Location                    0\n",
       "Cross_Street             4190\n",
       "Latitude                    0\n",
       "Longitude                   0\n",
       "Date_Reported               0\n",
       "Date_Occurred               0\n",
       "Time_Occurred               0\n",
       "Area_ID                     0\n",
       "Area_Name                   0\n",
       "Reporting_District_no       0\n",
       "Part 1-2                    0\n",
       "Modus_Operandi            684\n",
       "Victim_Age                  0\n",
       "Victim_Sex                643\n",
       "Victim_Descent            643\n",
       "Premise_Code                0\n",
       "Premise_Description         1\n",
       "Weapon_Used_Code         3153\n",
       "Weapon_Description       3153\n",
       "Status                      0\n",
       "Status_Description          0\n",
       "dtype: int64"
      ]
     },
     "execution_count": 8,
     "metadata": {},
     "output_type": "execute_result"
    }
   ],
   "source": [
    "test.isnull().sum()"
   ]
  },
  {
   "cell_type": "code",
   "execution_count": 9,
   "id": "8d943d74",
   "metadata": {
    "execution": {
     "iopub.execute_input": "2024-06-24T09:51:46.392712Z",
     "iopub.status.busy": "2024-06-24T09:51:46.392293Z",
     "iopub.status.idle": "2024-06-24T09:51:46.398753Z",
     "shell.execute_reply": "2024-06-24T09:51:46.397767Z"
    },
    "papermill": {
     "duration": 0.033906,
     "end_time": "2024-06-24T09:51:46.401233",
     "exception": false,
     "start_time": "2024-06-24T09:51:46.367327",
     "status": "completed"
    },
    "tags": []
   },
   "outputs": [
    {
     "data": {
      "text/plain": [
       "(5000, 21)"
      ]
     },
     "execution_count": 9,
     "metadata": {},
     "output_type": "execute_result"
    }
   ],
   "source": [
    "test.shape"
   ]
  },
  {
   "cell_type": "code",
   "execution_count": 10,
   "id": "ec992176",
   "metadata": {
    "execution": {
     "iopub.execute_input": "2024-06-24T09:51:46.508439Z",
     "iopub.status.busy": "2024-06-24T09:51:46.508011Z",
     "iopub.status.idle": "2024-06-24T09:51:46.516533Z",
     "shell.execute_reply": "2024-06-24T09:51:46.515419Z"
    },
    "papermill": {
     "duration": 0.093352,
     "end_time": "2024-06-24T09:51:46.518733",
     "exception": false,
     "start_time": "2024-06-24T09:51:46.425381",
     "status": "completed"
    },
    "tags": []
   },
   "outputs": [
    {
     "data": {
      "text/plain": [
       "0         4500    CARPENTER                    AV\n",
       "1                 45TH                         ST\n",
       "2          600 E  MARTIN LUTHER KING JR        BL\n",
       "3        14900    ORO GRANDE                   ST\n",
       "4         7100 S  VERMONT                      AV\n",
       "                           ...                   \n",
       "19995     5100 W  ADAMS                        BL\n",
       "19996    16900    ROSCOE                       BL\n",
       "19997     1000 S  SHENANDOAH                   ST\n",
       "19998      300 W  SEPULVEDA                    ST\n",
       "19999             DALTON                       AV\n",
       "Name: Location, Length: 20000, dtype: object"
      ]
     },
     "execution_count": 10,
     "metadata": {},
     "output_type": "execute_result"
    }
   ],
   "source": [
    "train['Location']"
   ]
  },
  {
   "cell_type": "code",
   "execution_count": 11,
   "id": "73c3d406",
   "metadata": {
    "execution": {
     "iopub.execute_input": "2024-06-24T09:51:46.569216Z",
     "iopub.status.busy": "2024-06-24T09:51:46.568807Z",
     "iopub.status.idle": "2024-06-24T09:51:46.585901Z",
     "shell.execute_reply": "2024-06-24T09:51:46.584811Z"
    },
    "papermill": {
     "duration": 0.044851,
     "end_time": "2024-06-24T09:51:46.588315",
     "exception": false,
     "start_time": "2024-06-24T09:51:46.543464",
     "status": "completed"
    },
    "tags": []
   },
   "outputs": [
    {
     "data": {
      "text/plain": [
       "Location\n",
       "6TH                                        33\n",
       "7TH                                        32\n",
       "VERMONT                      AV            31\n",
       "6TH                          ST            31\n",
       "7TH                          ST            30\n",
       "                                           ..\n",
       "2700 E  1ST                          ST     1\n",
       "9300    SWINTON                      AV     1\n",
       "MCKINLEY                                    1\n",
       "WADE                         ST             1\n",
       "DALTON                       AV             1\n",
       "Name: count, Length: 12399, dtype: int64"
      ]
     },
     "execution_count": 11,
     "metadata": {},
     "output_type": "execute_result"
    }
   ],
   "source": [
    "train['Location'].value_counts()"
   ]
  },
  {
   "cell_type": "code",
   "execution_count": 12,
   "id": "f18bb791",
   "metadata": {
    "execution": {
     "iopub.execute_input": "2024-06-24T09:51:46.640399Z",
     "iopub.status.busy": "2024-06-24T09:51:46.639971Z",
     "iopub.status.idle": "2024-06-24T09:51:46.650237Z",
     "shell.execute_reply": "2024-06-24T09:51:46.648996Z"
    },
    "papermill": {
     "duration": 0.039346,
     "end_time": "2024-06-24T09:51:46.652693",
     "exception": false,
     "start_time": "2024-06-24T09:51:46.613347",
     "status": "completed"
    },
    "tags": []
   },
   "outputs": [
    {
     "data": {
      "text/plain": [
       "array(['4500    CARPENTER                    AV',\n",
       "       '45TH                         ST',\n",
       "       '600 E  MARTIN LUTHER KING JR        BL', ...,\n",
       "       '15800    STRATHERN                    ST',\n",
       "       '5100 W  ADAMS                        BL',\n",
       "       'DALTON                       AV'], dtype=object)"
      ]
     },
     "execution_count": 12,
     "metadata": {},
     "output_type": "execute_result"
    }
   ],
   "source": [
    "train['Location'].unique()"
   ]
  },
  {
   "cell_type": "code",
   "execution_count": 13,
   "id": "a876f5c3",
   "metadata": {
    "execution": {
     "iopub.execute_input": "2024-06-24T09:51:46.705820Z",
     "iopub.status.busy": "2024-06-24T09:51:46.705417Z",
     "iopub.status.idle": "2024-06-24T09:51:46.716386Z",
     "shell.execute_reply": "2024-06-24T09:51:46.714886Z"
    },
    "papermill": {
     "duration": 0.040885,
     "end_time": "2024-06-24T09:51:46.719167",
     "exception": false,
     "start_time": "2024-06-24T09:51:46.678282",
     "status": "completed"
    },
    "tags": []
   },
   "outputs": [
    {
     "data": {
      "text/plain": [
       "Crime_Category\n",
       "Property Crimes                  11666\n",
       "Violent Crimes                    4767\n",
       "Crimes against Public Order       1808\n",
       "Fraud and White-Collar Crimes     1355\n",
       "Crimes against Persons             225\n",
       "Other Crimes                       179\n",
       "Name: count, dtype: int64"
      ]
     },
     "execution_count": 13,
     "metadata": {},
     "output_type": "execute_result"
    }
   ],
   "source": [
    "train['Crime_Category'].value_counts()"
   ]
  },
  {
   "cell_type": "code",
   "execution_count": 14,
   "id": "48f57b42",
   "metadata": {
    "execution": {
     "iopub.execute_input": "2024-06-24T09:51:46.769453Z",
     "iopub.status.busy": "2024-06-24T09:51:46.769058Z",
     "iopub.status.idle": "2024-06-24T09:51:46.839546Z",
     "shell.execute_reply": "2024-06-24T09:51:46.838529Z"
    },
    "papermill": {
     "duration": 0.09851,
     "end_time": "2024-06-24T09:51:46.841930",
     "exception": false,
     "start_time": "2024-06-24T09:51:46.743420",
     "status": "completed"
    },
    "tags": []
   },
   "outputs": [
    {
     "data": {
      "text/html": [
       "<div>\n",
       "<style scoped>\n",
       "    .dataframe tbody tr th:only-of-type {\n",
       "        vertical-align: middle;\n",
       "    }\n",
       "\n",
       "    .dataframe tbody tr th {\n",
       "        vertical-align: top;\n",
       "    }\n",
       "\n",
       "    .dataframe thead th {\n",
       "        text-align: right;\n",
       "    }\n",
       "</style>\n",
       "<table border=\"1\" class=\"dataframe\">\n",
       "  <thead>\n",
       "    <tr style=\"text-align: right;\">\n",
       "      <th></th>\n",
       "      <th>Location</th>\n",
       "      <th>Cross_Street</th>\n",
       "      <th>Date_Reported</th>\n",
       "      <th>Date_Occurred</th>\n",
       "      <th>Area_Name</th>\n",
       "      <th>Modus_Operandi</th>\n",
       "      <th>Victim_Sex</th>\n",
       "      <th>Victim_Descent</th>\n",
       "      <th>Premise_Description</th>\n",
       "      <th>Weapon_Description</th>\n",
       "      <th>Status</th>\n",
       "      <th>Status_Description</th>\n",
       "      <th>Crime_Category</th>\n",
       "    </tr>\n",
       "  </thead>\n",
       "  <tbody>\n",
       "    <tr>\n",
       "      <th>count</th>\n",
       "      <td>20000</td>\n",
       "      <td>3448</td>\n",
       "      <td>20000</td>\n",
       "      <td>20000</td>\n",
       "      <td>20000</td>\n",
       "      <td>17259</td>\n",
       "      <td>17376</td>\n",
       "      <td>17376</td>\n",
       "      <td>19995</td>\n",
       "      <td>7335</td>\n",
       "      <td>20000</td>\n",
       "      <td>20000</td>\n",
       "      <td>20000</td>\n",
       "    </tr>\n",
       "    <tr>\n",
       "      <th>unique</th>\n",
       "      <td>12399</td>\n",
       "      <td>1495</td>\n",
       "      <td>811</td>\n",
       "      <td>366</td>\n",
       "      <td>21</td>\n",
       "      <td>10489</td>\n",
       "      <td>4</td>\n",
       "      <td>17</td>\n",
       "      <td>216</td>\n",
       "      <td>57</td>\n",
       "      <td>5</td>\n",
       "      <td>5</td>\n",
       "      <td>6</td>\n",
       "    </tr>\n",
       "    <tr>\n",
       "      <th>top</th>\n",
       "      <td>6TH</td>\n",
       "      <td>BROADWAY</td>\n",
       "      <td>07/13/2020 12:00:00 AM</td>\n",
       "      <td>01/01/2020 12:00:00 AM</td>\n",
       "      <td>77th Street</td>\n",
       "      <td>0344</td>\n",
       "      <td>M</td>\n",
       "      <td>H</td>\n",
       "      <td>STREET</td>\n",
       "      <td>STRONG-ARM (HANDS, FIST, FEET OR BODILY FORCE)</td>\n",
       "      <td>IC</td>\n",
       "      <td>Invest Cont</td>\n",
       "      <td>Property Crimes</td>\n",
       "    </tr>\n",
       "    <tr>\n",
       "      <th>freq</th>\n",
       "      <td>33</td>\n",
       "      <td>56</td>\n",
       "      <td>87</td>\n",
       "      <td>137</td>\n",
       "      <td>1345</td>\n",
       "      <td>826</td>\n",
       "      <td>8538</td>\n",
       "      <td>6143</td>\n",
       "      <td>5033</td>\n",
       "      <td>3990</td>\n",
       "      <td>15236</td>\n",
       "      <td>15236</td>\n",
       "      <td>11666</td>\n",
       "    </tr>\n",
       "  </tbody>\n",
       "</table>\n",
       "</div>"
      ],
      "text/plain": [
       "       Location Cross_Street           Date_Reported           Date_Occurred  \\\n",
       "count     20000         3448                   20000                   20000   \n",
       "unique    12399         1495                     811                     366   \n",
       "top         6TH     BROADWAY  07/13/2020 12:00:00 AM  01/01/2020 12:00:00 AM   \n",
       "freq         33           56                      87                     137   \n",
       "\n",
       "          Area_Name Modus_Operandi Victim_Sex Victim_Descent  \\\n",
       "count         20000          17259      17376          17376   \n",
       "unique           21          10489          4             17   \n",
       "top     77th Street           0344          M              H   \n",
       "freq           1345            826       8538           6143   \n",
       "\n",
       "       Premise_Description                              Weapon_Description  \\\n",
       "count                19995                                            7335   \n",
       "unique                 216                                              57   \n",
       "top                 STREET  STRONG-ARM (HANDS, FIST, FEET OR BODILY FORCE)   \n",
       "freq                  5033                                            3990   \n",
       "\n",
       "       Status Status_Description   Crime_Category  \n",
       "count   20000              20000            20000  \n",
       "unique      5                  5                6  \n",
       "top        IC        Invest Cont  Property Crimes  \n",
       "freq    15236              15236            11666  "
      ]
     },
     "execution_count": 14,
     "metadata": {},
     "output_type": "execute_result"
    }
   ],
   "source": [
    "train.describe(include='object')"
   ]
  },
  {
   "cell_type": "code",
   "execution_count": 15,
   "id": "e75b1768",
   "metadata": {
    "execution": {
     "iopub.execute_input": "2024-06-24T09:51:46.892562Z",
     "iopub.status.busy": "2024-06-24T09:51:46.892017Z",
     "iopub.status.idle": "2024-06-24T09:51:46.933388Z",
     "shell.execute_reply": "2024-06-24T09:51:46.932327Z"
    },
    "papermill": {
     "duration": 0.069424,
     "end_time": "2024-06-24T09:51:46.935775",
     "exception": false,
     "start_time": "2024-06-24T09:51:46.866351",
     "status": "completed"
    },
    "tags": []
   },
   "outputs": [
    {
     "data": {
      "text/html": [
       "<div>\n",
       "<style scoped>\n",
       "    .dataframe tbody tr th:only-of-type {\n",
       "        vertical-align: middle;\n",
       "    }\n",
       "\n",
       "    .dataframe tbody tr th {\n",
       "        vertical-align: top;\n",
       "    }\n",
       "\n",
       "    .dataframe thead th {\n",
       "        text-align: right;\n",
       "    }\n",
       "</style>\n",
       "<table border=\"1\" class=\"dataframe\">\n",
       "  <thead>\n",
       "    <tr style=\"text-align: right;\">\n",
       "      <th></th>\n",
       "      <th>Latitude</th>\n",
       "      <th>Longitude</th>\n",
       "      <th>Time_Occurred</th>\n",
       "      <th>Area_ID</th>\n",
       "      <th>Reporting_District_no</th>\n",
       "      <th>Part 1-2</th>\n",
       "      <th>Victim_Age</th>\n",
       "      <th>Premise_Code</th>\n",
       "      <th>Weapon_Used_Code</th>\n",
       "    </tr>\n",
       "  </thead>\n",
       "  <tbody>\n",
       "    <tr>\n",
       "      <th>count</th>\n",
       "      <td>20000.000000</td>\n",
       "      <td>20000.000000</td>\n",
       "      <td>20000.000000</td>\n",
       "      <td>20000.000000</td>\n",
       "      <td>20000.000000</td>\n",
       "      <td>20000.000000</td>\n",
       "      <td>20000.000000</td>\n",
       "      <td>20000.000000</td>\n",
       "      <td>7335.000000</td>\n",
       "    </tr>\n",
       "    <tr>\n",
       "      <th>mean</th>\n",
       "      <td>33.940704</td>\n",
       "      <td>-117.893072</td>\n",
       "      <td>1352.380350</td>\n",
       "      <td>10.834250</td>\n",
       "      <td>1129.599200</td>\n",
       "      <td>1.418150</td>\n",
       "      <td>30.135000</td>\n",
       "      <td>297.176950</td>\n",
       "      <td>366.405044</td>\n",
       "    </tr>\n",
       "    <tr>\n",
       "      <th>std</th>\n",
       "      <td>2.126810</td>\n",
       "      <td>7.377726</td>\n",
       "      <td>646.100291</td>\n",
       "      <td>6.033166</td>\n",
       "      <td>603.330519</td>\n",
       "      <td>0.493267</td>\n",
       "      <td>21.863645</td>\n",
       "      <td>212.007298</td>\n",
       "      <td>120.485687</td>\n",
       "    </tr>\n",
       "    <tr>\n",
       "      <th>min</th>\n",
       "      <td>0.000000</td>\n",
       "      <td>-118.663400</td>\n",
       "      <td>1.000000</td>\n",
       "      <td>1.000000</td>\n",
       "      <td>101.000000</td>\n",
       "      <td>1.000000</td>\n",
       "      <td>-2.000000</td>\n",
       "      <td>101.000000</td>\n",
       "      <td>101.000000</td>\n",
       "    </tr>\n",
       "    <tr>\n",
       "      <th>25%</th>\n",
       "      <td>34.009200</td>\n",
       "      <td>-118.429700</td>\n",
       "      <td>930.000000</td>\n",
       "      <td>6.000000</td>\n",
       "      <td>632.000000</td>\n",
       "      <td>1.000000</td>\n",
       "      <td>12.000000</td>\n",
       "      <td>101.000000</td>\n",
       "      <td>312.000000</td>\n",
       "    </tr>\n",
       "    <tr>\n",
       "      <th>50%</th>\n",
       "      <td>34.058700</td>\n",
       "      <td>-118.323000</td>\n",
       "      <td>1430.000000</td>\n",
       "      <td>11.000000</td>\n",
       "      <td>1162.000000</td>\n",
       "      <td>1.000000</td>\n",
       "      <td>31.000000</td>\n",
       "      <td>203.000000</td>\n",
       "      <td>400.000000</td>\n",
       "    </tr>\n",
       "    <tr>\n",
       "      <th>75%</th>\n",
       "      <td>34.165025</td>\n",
       "      <td>-118.274400</td>\n",
       "      <td>1900.000000</td>\n",
       "      <td>16.000000</td>\n",
       "      <td>1622.000000</td>\n",
       "      <td>2.000000</td>\n",
       "      <td>46.000000</td>\n",
       "      <td>501.000000</td>\n",
       "      <td>400.000000</td>\n",
       "    </tr>\n",
       "    <tr>\n",
       "      <th>max</th>\n",
       "      <td>34.328100</td>\n",
       "      <td>0.000000</td>\n",
       "      <td>2359.000000</td>\n",
       "      <td>21.000000</td>\n",
       "      <td>2197.000000</td>\n",
       "      <td>2.000000</td>\n",
       "      <td>99.000000</td>\n",
       "      <td>969.000000</td>\n",
       "      <td>515.000000</td>\n",
       "    </tr>\n",
       "  </tbody>\n",
       "</table>\n",
       "</div>"
      ],
      "text/plain": [
       "           Latitude     Longitude  Time_Occurred       Area_ID  \\\n",
       "count  20000.000000  20000.000000   20000.000000  20000.000000   \n",
       "mean      33.940704   -117.893072    1352.380350     10.834250   \n",
       "std        2.126810      7.377726     646.100291      6.033166   \n",
       "min        0.000000   -118.663400       1.000000      1.000000   \n",
       "25%       34.009200   -118.429700     930.000000      6.000000   \n",
       "50%       34.058700   -118.323000    1430.000000     11.000000   \n",
       "75%       34.165025   -118.274400    1900.000000     16.000000   \n",
       "max       34.328100      0.000000    2359.000000     21.000000   \n",
       "\n",
       "       Reporting_District_no      Part 1-2    Victim_Age  Premise_Code  \\\n",
       "count           20000.000000  20000.000000  20000.000000  20000.000000   \n",
       "mean             1129.599200      1.418150     30.135000    297.176950   \n",
       "std               603.330519      0.493267     21.863645    212.007298   \n",
       "min               101.000000      1.000000     -2.000000    101.000000   \n",
       "25%               632.000000      1.000000     12.000000    101.000000   \n",
       "50%              1162.000000      1.000000     31.000000    203.000000   \n",
       "75%              1622.000000      2.000000     46.000000    501.000000   \n",
       "max              2197.000000      2.000000     99.000000    969.000000   \n",
       "\n",
       "       Weapon_Used_Code  \n",
       "count       7335.000000  \n",
       "mean         366.405044  \n",
       "std          120.485687  \n",
       "min          101.000000  \n",
       "25%          312.000000  \n",
       "50%          400.000000  \n",
       "75%          400.000000  \n",
       "max          515.000000  "
      ]
     },
     "execution_count": 15,
     "metadata": {},
     "output_type": "execute_result"
    }
   ],
   "source": [
    "train.describe()"
   ]
  },
  {
   "cell_type": "markdown",
   "id": "ad308939",
   "metadata": {
    "papermill": {
     "duration": 0.026838,
     "end_time": "2024-06-24T09:51:46.987213",
     "exception": false,
     "start_time": "2024-06-24T09:51:46.960375",
     "status": "completed"
    },
    "tags": []
   },
   "source": [
    "* Latitude range: [0:34] ( General range is -90 to 90 )\n",
    "* Longitude range: [-118: 0] (General range is 180 to 180)\n",
    "\n"
   ]
  },
  {
   "cell_type": "code",
   "execution_count": 16,
   "id": "5b8897ca",
   "metadata": {
    "execution": {
     "iopub.execute_input": "2024-06-24T09:51:47.038827Z",
     "iopub.status.busy": "2024-06-24T09:51:47.038418Z",
     "iopub.status.idle": "2024-06-24T09:51:47.044198Z",
     "shell.execute_reply": "2024-06-24T09:51:47.042981Z"
    },
    "papermill": {
     "duration": 0.034521,
     "end_time": "2024-06-24T09:51:47.046411",
     "exception": false,
     "start_time": "2024-06-24T09:51:47.011890",
     "status": "completed"
    },
    "tags": []
   },
   "outputs": [],
   "source": [
    "def day_category(x):\n",
    "    if 400<=x<1200:\n",
    "        return 'Morning'\n",
    "    elif 1200<=x<1700:\n",
    "        return 'Daytime'\n",
    "    elif 1800<=x<2100:\n",
    "        return 'Evening'\n",
    "    else:\n",
    "        return 'Night'"
   ]
  },
  {
   "cell_type": "code",
   "execution_count": 17,
   "id": "eb248de8",
   "metadata": {
    "execution": {
     "iopub.execute_input": "2024-06-24T09:51:47.098052Z",
     "iopub.status.busy": "2024-06-24T09:51:47.097662Z",
     "iopub.status.idle": "2024-06-24T09:51:47.113093Z",
     "shell.execute_reply": "2024-06-24T09:51:47.112085Z"
    },
    "papermill": {
     "duration": 0.044074,
     "end_time": "2024-06-24T09:51:47.115263",
     "exception": false,
     "start_time": "2024-06-24T09:51:47.071189",
     "status": "completed"
    },
    "tags": []
   },
   "outputs": [],
   "source": [
    "train['day_category']=train['Time_Occurred'].apply(day_category )"
   ]
  },
  {
   "cell_type": "code",
   "execution_count": 18,
   "id": "163da9a4",
   "metadata": {
    "execution": {
     "iopub.execute_input": "2024-06-24T09:51:47.171554Z",
     "iopub.status.busy": "2024-06-24T09:51:47.170525Z",
     "iopub.status.idle": "2024-06-24T09:51:47.220551Z",
     "shell.execute_reply": "2024-06-24T09:51:47.219476Z"
    },
    "papermill": {
     "duration": 0.082695,
     "end_time": "2024-06-24T09:51:47.223707",
     "exception": false,
     "start_time": "2024-06-24T09:51:47.141012",
     "status": "completed"
    },
    "tags": []
   },
   "outputs": [
    {
     "data": {
      "text/html": [
       "<div>\n",
       "<style scoped>\n",
       "    .dataframe tbody tr th:only-of-type {\n",
       "        vertical-align: middle;\n",
       "    }\n",
       "\n",
       "    .dataframe tbody tr th {\n",
       "        vertical-align: top;\n",
       "    }\n",
       "\n",
       "    .dataframe thead th {\n",
       "        text-align: right;\n",
       "    }\n",
       "</style>\n",
       "<table border=\"1\" class=\"dataframe\">\n",
       "  <thead>\n",
       "    <tr style=\"text-align: right;\">\n",
       "      <th></th>\n",
       "      <th>Location</th>\n",
       "      <th>Cross_Street</th>\n",
       "      <th>Latitude</th>\n",
       "      <th>Longitude</th>\n",
       "      <th>Date_Reported</th>\n",
       "      <th>Date_Occurred</th>\n",
       "      <th>Time_Occurred</th>\n",
       "      <th>Area_ID</th>\n",
       "      <th>Area_Name</th>\n",
       "      <th>Reporting_District_no</th>\n",
       "      <th>...</th>\n",
       "      <th>Victim_Sex</th>\n",
       "      <th>Victim_Descent</th>\n",
       "      <th>Premise_Code</th>\n",
       "      <th>Premise_Description</th>\n",
       "      <th>Weapon_Used_Code</th>\n",
       "      <th>Weapon_Description</th>\n",
       "      <th>Status</th>\n",
       "      <th>Status_Description</th>\n",
       "      <th>Crime_Category</th>\n",
       "      <th>day_category</th>\n",
       "    </tr>\n",
       "  </thead>\n",
       "  <tbody>\n",
       "    <tr>\n",
       "      <th>0</th>\n",
       "      <td>4500    CARPENTER                    AV</td>\n",
       "      <td>NaN</td>\n",
       "      <td>34.1522</td>\n",
       "      <td>-118.3910</td>\n",
       "      <td>03/09/2020 12:00:00 AM</td>\n",
       "      <td>03/06/2020 12:00:00 AM</td>\n",
       "      <td>1800.0</td>\n",
       "      <td>15.0</td>\n",
       "      <td>N Hollywood</td>\n",
       "      <td>1563.0</td>\n",
       "      <td>...</td>\n",
       "      <td>M</td>\n",
       "      <td>W</td>\n",
       "      <td>101.0</td>\n",
       "      <td>STREET</td>\n",
       "      <td>NaN</td>\n",
       "      <td>NaN</td>\n",
       "      <td>IC</td>\n",
       "      <td>Invest Cont</td>\n",
       "      <td>Property Crimes</td>\n",
       "      <td>Evening</td>\n",
       "    </tr>\n",
       "    <tr>\n",
       "      <th>1</th>\n",
       "      <td>45TH                         ST</td>\n",
       "      <td>ALAMEDA                      ST</td>\n",
       "      <td>34.0028</td>\n",
       "      <td>-118.2391</td>\n",
       "      <td>02/27/2020 12:00:00 AM</td>\n",
       "      <td>02/27/2020 12:00:00 AM</td>\n",
       "      <td>1345.0</td>\n",
       "      <td>13.0</td>\n",
       "      <td>Newton</td>\n",
       "      <td>1367.0</td>\n",
       "      <td>...</td>\n",
       "      <td>M</td>\n",
       "      <td>H</td>\n",
       "      <td>216.0</td>\n",
       "      <td>SWAP MEET</td>\n",
       "      <td>400.0</td>\n",
       "      <td>STRONG-ARM (HANDS, FIST, FEET OR BODILY FORCE)</td>\n",
       "      <td>IC</td>\n",
       "      <td>Invest Cont</td>\n",
       "      <td>Property Crimes</td>\n",
       "      <td>Daytime</td>\n",
       "    </tr>\n",
       "    <tr>\n",
       "      <th>2</th>\n",
       "      <td>600 E  MARTIN LUTHER KING JR        BL</td>\n",
       "      <td>NaN</td>\n",
       "      <td>34.0111</td>\n",
       "      <td>-118.2653</td>\n",
       "      <td>08/21/2020 12:00:00 AM</td>\n",
       "      <td>08/21/2020 12:00:00 AM</td>\n",
       "      <td>605.0</td>\n",
       "      <td>13.0</td>\n",
       "      <td>Newton</td>\n",
       "      <td>1343.0</td>\n",
       "      <td>...</td>\n",
       "      <td>M</td>\n",
       "      <td>B</td>\n",
       "      <td>501.0</td>\n",
       "      <td>SINGLE FAMILY DWELLING</td>\n",
       "      <td>NaN</td>\n",
       "      <td>NaN</td>\n",
       "      <td>IC</td>\n",
       "      <td>Invest Cont</td>\n",
       "      <td>Property Crimes</td>\n",
       "      <td>Morning</td>\n",
       "    </tr>\n",
       "    <tr>\n",
       "      <th>3</th>\n",
       "      <td>14900    ORO GRANDE                   ST</td>\n",
       "      <td>NaN</td>\n",
       "      <td>34.2953</td>\n",
       "      <td>-118.4590</td>\n",
       "      <td>11/08/2020 12:00:00 AM</td>\n",
       "      <td>11/06/2020 12:00:00 AM</td>\n",
       "      <td>1800.0</td>\n",
       "      <td>19.0</td>\n",
       "      <td>Mission</td>\n",
       "      <td>1924.0</td>\n",
       "      <td>...</td>\n",
       "      <td>M</td>\n",
       "      <td>H</td>\n",
       "      <td>101.0</td>\n",
       "      <td>STREET</td>\n",
       "      <td>NaN</td>\n",
       "      <td>NaN</td>\n",
       "      <td>IC</td>\n",
       "      <td>Invest Cont</td>\n",
       "      <td>Property Crimes</td>\n",
       "      <td>Evening</td>\n",
       "    </tr>\n",
       "    <tr>\n",
       "      <th>4</th>\n",
       "      <td>7100 S  VERMONT                      AV</td>\n",
       "      <td>NaN</td>\n",
       "      <td>33.9787</td>\n",
       "      <td>-118.2918</td>\n",
       "      <td>02/25/2020 12:00:00 AM</td>\n",
       "      <td>02/25/2020 12:00:00 AM</td>\n",
       "      <td>1130.0</td>\n",
       "      <td>12.0</td>\n",
       "      <td>77th Street</td>\n",
       "      <td>1245.0</td>\n",
       "      <td>...</td>\n",
       "      <td>X</td>\n",
       "      <td>X</td>\n",
       "      <td>401.0</td>\n",
       "      <td>MINI-MART</td>\n",
       "      <td>400.0</td>\n",
       "      <td>STRONG-ARM (HANDS, FIST, FEET OR BODILY FORCE)</td>\n",
       "      <td>IC</td>\n",
       "      <td>Invest Cont</td>\n",
       "      <td>Property Crimes</td>\n",
       "      <td>Morning</td>\n",
       "    </tr>\n",
       "    <tr>\n",
       "      <th>...</th>\n",
       "      <td>...</td>\n",
       "      <td>...</td>\n",
       "      <td>...</td>\n",
       "      <td>...</td>\n",
       "      <td>...</td>\n",
       "      <td>...</td>\n",
       "      <td>...</td>\n",
       "      <td>...</td>\n",
       "      <td>...</td>\n",
       "      <td>...</td>\n",
       "      <td>...</td>\n",
       "      <td>...</td>\n",
       "      <td>...</td>\n",
       "      <td>...</td>\n",
       "      <td>...</td>\n",
       "      <td>...</td>\n",
       "      <td>...</td>\n",
       "      <td>...</td>\n",
       "      <td>...</td>\n",
       "      <td>...</td>\n",
       "      <td>...</td>\n",
       "    </tr>\n",
       "    <tr>\n",
       "      <th>19995</th>\n",
       "      <td>5100 W  ADAMS                        BL</td>\n",
       "      <td>NaN</td>\n",
       "      <td>34.0334</td>\n",
       "      <td>-118.3523</td>\n",
       "      <td>05/24/2020 12:00:00 AM</td>\n",
       "      <td>05/24/2020 12:00:00 AM</td>\n",
       "      <td>700.0</td>\n",
       "      <td>3.0</td>\n",
       "      <td>Southwest</td>\n",
       "      <td>303.0</td>\n",
       "      <td>...</td>\n",
       "      <td>M</td>\n",
       "      <td>H</td>\n",
       "      <td>501.0</td>\n",
       "      <td>SINGLE FAMILY DWELLING</td>\n",
       "      <td>400.0</td>\n",
       "      <td>STRONG-ARM (HANDS, FIST, FEET OR BODILY FORCE)</td>\n",
       "      <td>IC</td>\n",
       "      <td>Invest Cont</td>\n",
       "      <td>Violent Crimes</td>\n",
       "      <td>Morning</td>\n",
       "    </tr>\n",
       "    <tr>\n",
       "      <th>19996</th>\n",
       "      <td>16900    ROSCOE                       BL</td>\n",
       "      <td>NaN</td>\n",
       "      <td>34.2212</td>\n",
       "      <td>-118.5011</td>\n",
       "      <td>12/25/2020 12:00:00 AM</td>\n",
       "      <td>12/25/2020 12:00:00 AM</td>\n",
       "      <td>259.0</td>\n",
       "      <td>10.0</td>\n",
       "      <td>West Valley</td>\n",
       "      <td>1008.0</td>\n",
       "      <td>...</td>\n",
       "      <td>M</td>\n",
       "      <td>W</td>\n",
       "      <td>301.0</td>\n",
       "      <td>GAS STATION</td>\n",
       "      <td>NaN</td>\n",
       "      <td>NaN</td>\n",
       "      <td>IC</td>\n",
       "      <td>Invest Cont</td>\n",
       "      <td>Property Crimes</td>\n",
       "      <td>Night</td>\n",
       "    </tr>\n",
       "    <tr>\n",
       "      <th>19997</th>\n",
       "      <td>1000 S  SHENANDOAH                   ST</td>\n",
       "      <td>NaN</td>\n",
       "      <td>34.0571</td>\n",
       "      <td>-118.3815</td>\n",
       "      <td>09/25/2020 12:00:00 AM</td>\n",
       "      <td>09/25/2020 12:00:00 AM</td>\n",
       "      <td>1400.0</td>\n",
       "      <td>8.0</td>\n",
       "      <td>West LA</td>\n",
       "      <td>849.0</td>\n",
       "      <td>...</td>\n",
       "      <td>M</td>\n",
       "      <td>H</td>\n",
       "      <td>102.0</td>\n",
       "      <td>SIDEWALK</td>\n",
       "      <td>NaN</td>\n",
       "      <td>NaN</td>\n",
       "      <td>IC</td>\n",
       "      <td>Invest Cont</td>\n",
       "      <td>Property Crimes</td>\n",
       "      <td>Daytime</td>\n",
       "    </tr>\n",
       "    <tr>\n",
       "      <th>19998</th>\n",
       "      <td>300 W  SEPULVEDA                    ST</td>\n",
       "      <td>NaN</td>\n",
       "      <td>33.7451</td>\n",
       "      <td>-118.2835</td>\n",
       "      <td>06/10/2020 12:00:00 AM</td>\n",
       "      <td>06/10/2020 12:00:00 AM</td>\n",
       "      <td>600.0</td>\n",
       "      <td>5.0</td>\n",
       "      <td>Harbor</td>\n",
       "      <td>558.0</td>\n",
       "      <td>...</td>\n",
       "      <td>F</td>\n",
       "      <td>H</td>\n",
       "      <td>501.0</td>\n",
       "      <td>SINGLE FAMILY DWELLING</td>\n",
       "      <td>NaN</td>\n",
       "      <td>NaN</td>\n",
       "      <td>IC</td>\n",
       "      <td>Invest Cont</td>\n",
       "      <td>Crimes against Public Order</td>\n",
       "      <td>Morning</td>\n",
       "    </tr>\n",
       "    <tr>\n",
       "      <th>19999</th>\n",
       "      <td>DALTON                       AV</td>\n",
       "      <td>VERNON                       AV</td>\n",
       "      <td>34.0037</td>\n",
       "      <td>-118.3034</td>\n",
       "      <td>02/18/2020 12:00:00 AM</td>\n",
       "      <td>02/17/2020 12:00:00 AM</td>\n",
       "      <td>1800.0</td>\n",
       "      <td>3.0</td>\n",
       "      <td>Southwest</td>\n",
       "      <td>397.0</td>\n",
       "      <td>...</td>\n",
       "      <td>NaN</td>\n",
       "      <td>NaN</td>\n",
       "      <td>101.0</td>\n",
       "      <td>STREET</td>\n",
       "      <td>NaN</td>\n",
       "      <td>NaN</td>\n",
       "      <td>IC</td>\n",
       "      <td>Invest Cont</td>\n",
       "      <td>Property Crimes</td>\n",
       "      <td>Evening</td>\n",
       "    </tr>\n",
       "  </tbody>\n",
       "</table>\n",
       "<p>20000 rows × 23 columns</p>\n",
       "</div>"
      ],
      "text/plain": [
       "                                       Location  \\\n",
       "0       4500    CARPENTER                    AV   \n",
       "1               45TH                         ST   \n",
       "2        600 E  MARTIN LUTHER KING JR        BL   \n",
       "3      14900    ORO GRANDE                   ST   \n",
       "4       7100 S  VERMONT                      AV   \n",
       "...                                         ...   \n",
       "19995   5100 W  ADAMS                        BL   \n",
       "19996  16900    ROSCOE                       BL   \n",
       "19997   1000 S  SHENANDOAH                   ST   \n",
       "19998    300 W  SEPULVEDA                    ST   \n",
       "19999           DALTON                       AV   \n",
       "\n",
       "                          Cross_Street  Latitude  Longitude  \\\n",
       "0                                  NaN   34.1522  -118.3910   \n",
       "1      ALAMEDA                      ST   34.0028  -118.2391   \n",
       "2                                  NaN   34.0111  -118.2653   \n",
       "3                                  NaN   34.2953  -118.4590   \n",
       "4                                  NaN   33.9787  -118.2918   \n",
       "...                                ...       ...        ...   \n",
       "19995                              NaN   34.0334  -118.3523   \n",
       "19996                              NaN   34.2212  -118.5011   \n",
       "19997                              NaN   34.0571  -118.3815   \n",
       "19998                              NaN   33.7451  -118.2835   \n",
       "19999  VERNON                       AV   34.0037  -118.3034   \n",
       "\n",
       "                Date_Reported           Date_Occurred  Time_Occurred  Area_ID  \\\n",
       "0      03/09/2020 12:00:00 AM  03/06/2020 12:00:00 AM         1800.0     15.0   \n",
       "1      02/27/2020 12:00:00 AM  02/27/2020 12:00:00 AM         1345.0     13.0   \n",
       "2      08/21/2020 12:00:00 AM  08/21/2020 12:00:00 AM          605.0     13.0   \n",
       "3      11/08/2020 12:00:00 AM  11/06/2020 12:00:00 AM         1800.0     19.0   \n",
       "4      02/25/2020 12:00:00 AM  02/25/2020 12:00:00 AM         1130.0     12.0   \n",
       "...                       ...                     ...            ...      ...   \n",
       "19995  05/24/2020 12:00:00 AM  05/24/2020 12:00:00 AM          700.0      3.0   \n",
       "19996  12/25/2020 12:00:00 AM  12/25/2020 12:00:00 AM          259.0     10.0   \n",
       "19997  09/25/2020 12:00:00 AM  09/25/2020 12:00:00 AM         1400.0      8.0   \n",
       "19998  06/10/2020 12:00:00 AM  06/10/2020 12:00:00 AM          600.0      5.0   \n",
       "19999  02/18/2020 12:00:00 AM  02/17/2020 12:00:00 AM         1800.0      3.0   \n",
       "\n",
       "         Area_Name  Reporting_District_no  ...  Victim_Sex Victim_Descent  \\\n",
       "0      N Hollywood                 1563.0  ...           M              W   \n",
       "1           Newton                 1367.0  ...           M              H   \n",
       "2           Newton                 1343.0  ...           M              B   \n",
       "3          Mission                 1924.0  ...           M              H   \n",
       "4      77th Street                 1245.0  ...           X              X   \n",
       "...            ...                    ...  ...         ...            ...   \n",
       "19995    Southwest                  303.0  ...           M              H   \n",
       "19996  West Valley                 1008.0  ...           M              W   \n",
       "19997      West LA                  849.0  ...           M              H   \n",
       "19998       Harbor                  558.0  ...           F              H   \n",
       "19999    Southwest                  397.0  ...         NaN            NaN   \n",
       "\n",
       "       Premise_Code     Premise_Description Weapon_Used_Code  \\\n",
       "0             101.0                  STREET              NaN   \n",
       "1             216.0               SWAP MEET            400.0   \n",
       "2             501.0  SINGLE FAMILY DWELLING              NaN   \n",
       "3             101.0                  STREET              NaN   \n",
       "4             401.0               MINI-MART            400.0   \n",
       "...             ...                     ...              ...   \n",
       "19995         501.0  SINGLE FAMILY DWELLING            400.0   \n",
       "19996         301.0             GAS STATION              NaN   \n",
       "19997         102.0                SIDEWALK              NaN   \n",
       "19998         501.0  SINGLE FAMILY DWELLING              NaN   \n",
       "19999         101.0                  STREET              NaN   \n",
       "\n",
       "                                   Weapon_Description Status  \\\n",
       "0                                                 NaN     IC   \n",
       "1      STRONG-ARM (HANDS, FIST, FEET OR BODILY FORCE)     IC   \n",
       "2                                                 NaN     IC   \n",
       "3                                                 NaN     IC   \n",
       "4      STRONG-ARM (HANDS, FIST, FEET OR BODILY FORCE)     IC   \n",
       "...                                               ...    ...   \n",
       "19995  STRONG-ARM (HANDS, FIST, FEET OR BODILY FORCE)     IC   \n",
       "19996                                             NaN     IC   \n",
       "19997                                             NaN     IC   \n",
       "19998                                             NaN     IC   \n",
       "19999                                             NaN     IC   \n",
       "\n",
       "       Status_Description               Crime_Category day_category  \n",
       "0             Invest Cont              Property Crimes      Evening  \n",
       "1             Invest Cont              Property Crimes      Daytime  \n",
       "2             Invest Cont              Property Crimes      Morning  \n",
       "3             Invest Cont              Property Crimes      Evening  \n",
       "4             Invest Cont              Property Crimes      Morning  \n",
       "...                   ...                          ...          ...  \n",
       "19995         Invest Cont               Violent Crimes      Morning  \n",
       "19996         Invest Cont              Property Crimes        Night  \n",
       "19997         Invest Cont              Property Crimes      Daytime  \n",
       "19998         Invest Cont  Crimes against Public Order      Morning  \n",
       "19999         Invest Cont              Property Crimes      Evening  \n",
       "\n",
       "[20000 rows x 23 columns]"
      ]
     },
     "execution_count": 18,
     "metadata": {},
     "output_type": "execute_result"
    }
   ],
   "source": [
    "train"
   ]
  },
  {
   "cell_type": "code",
   "execution_count": 19,
   "id": "54dacb2f",
   "metadata": {
    "execution": {
     "iopub.execute_input": "2024-06-24T09:51:47.287555Z",
     "iopub.status.busy": "2024-06-24T09:51:47.287174Z",
     "iopub.status.idle": "2024-06-24T09:51:47.292743Z",
     "shell.execute_reply": "2024-06-24T09:51:47.291573Z"
    },
    "papermill": {
     "duration": 0.034525,
     "end_time": "2024-06-24T09:51:47.294883",
     "exception": false,
     "start_time": "2024-06-24T09:51:47.260358",
     "status": "completed"
    },
    "tags": []
   },
   "outputs": [],
   "source": [
    "\n",
    "def extract_date(d):\n",
    "    date=d.split(' ')[0]\n",
    "    \n",
    "    \n",
    "    date=pd.to_datetime(date).date()\n",
    "    \n",
    "    \n",
    "    return date\n",
    "    "
   ]
  },
  {
   "cell_type": "code",
   "execution_count": 20,
   "id": "ec72f333",
   "metadata": {
    "execution": {
     "iopub.execute_input": "2024-06-24T09:51:47.349894Z",
     "iopub.status.busy": "2024-06-24T09:51:47.349176Z",
     "iopub.status.idle": "2024-06-24T09:52:05.779646Z",
     "shell.execute_reply": "2024-06-24T09:52:05.778594Z"
    },
    "papermill": {
     "duration": 18.46186,
     "end_time": "2024-06-24T09:52:05.782254",
     "exception": false,
     "start_time": "2024-06-24T09:51:47.320394",
     "status": "completed"
    },
    "tags": []
   },
   "outputs": [],
   "source": [
    "train['Date_Reported']=train['Date_Reported'].apply(extract_date)\n",
    "train['Date_Occurred']=train['Date_Occurred'].apply(extract_date)\n"
   ]
  },
  {
   "cell_type": "code",
   "execution_count": 21,
   "id": "a80911c0",
   "metadata": {
    "execution": {
     "iopub.execute_input": "2024-06-24T09:52:05.835269Z",
     "iopub.status.busy": "2024-06-24T09:52:05.834877Z",
     "iopub.status.idle": "2024-06-24T09:52:05.841586Z",
     "shell.execute_reply": "2024-06-24T09:52:05.840524Z"
    },
    "papermill": {
     "duration": 0.035386,
     "end_time": "2024-06-24T09:52:05.843606",
     "exception": false,
     "start_time": "2024-06-24T09:52:05.808220",
     "status": "completed"
    },
    "tags": []
   },
   "outputs": [
    {
     "data": {
      "text/plain": [
       "datetime.date"
      ]
     },
     "execution_count": 21,
     "metadata": {},
     "output_type": "execute_result"
    }
   ],
   "source": [
    "type(train['Date_Reported'][0])"
   ]
  },
  {
   "cell_type": "code",
   "execution_count": 22,
   "id": "4eed7511",
   "metadata": {
    "execution": {
     "iopub.execute_input": "2024-06-24T09:52:05.895904Z",
     "iopub.status.busy": "2024-06-24T09:52:05.895538Z",
     "iopub.status.idle": "2024-06-24T09:52:05.902009Z",
     "shell.execute_reply": "2024-06-24T09:52:05.901071Z"
    },
    "papermill": {
     "duration": 0.035367,
     "end_time": "2024-06-24T09:52:05.904272",
     "exception": false,
     "start_time": "2024-06-24T09:52:05.868905",
     "status": "completed"
    },
    "tags": []
   },
   "outputs": [
    {
     "data": {
      "text/plain": [
       "3"
      ]
     },
     "execution_count": 22,
     "metadata": {},
     "output_type": "execute_result"
    }
   ],
   "source": [
    "k=train['Date_Reported'][0]-train['Date_Occurred'][0]\n",
    "k.days"
   ]
  },
  {
   "cell_type": "code",
   "execution_count": 23,
   "id": "0c899c6a",
   "metadata": {
    "execution": {
     "iopub.execute_input": "2024-06-24T09:52:05.957102Z",
     "iopub.status.busy": "2024-06-24T09:52:05.956700Z",
     "iopub.status.idle": "2024-06-24T09:52:05.986573Z",
     "shell.execute_reply": "2024-06-24T09:52:05.985591Z"
    },
    "papermill": {
     "duration": 0.059577,
     "end_time": "2024-06-24T09:52:05.989158",
     "exception": false,
     "start_time": "2024-06-24T09:52:05.929581",
     "status": "completed"
    },
    "tags": []
   },
   "outputs": [],
   "source": [
    "train['Date_Reported']=pd.to_datetime(train['Date_Reported']).dt.date\n",
    "train['Date_Occurred']=pd.to_datetime(train['Date_Occurred']).dt.date\n",
    "\n",
    "train['reporting_delay_day_count']=(train['Date_Reported']-train['Date_Occurred'])"
   ]
  },
  {
   "cell_type": "code",
   "execution_count": 24,
   "id": "ed2c7c28",
   "metadata": {
    "execution": {
     "iopub.execute_input": "2024-06-24T09:52:06.042008Z",
     "iopub.status.busy": "2024-06-24T09:52:06.041074Z",
     "iopub.status.idle": "2024-06-24T09:52:06.056520Z",
     "shell.execute_reply": "2024-06-24T09:52:06.055496Z"
    },
    "papermill": {
     "duration": 0.044184,
     "end_time": "2024-06-24T09:52:06.058699",
     "exception": false,
     "start_time": "2024-06-24T09:52:06.014515",
     "status": "completed"
    },
    "tags": []
   },
   "outputs": [],
   "source": [
    "def day_count(d):\n",
    "    return d.days\n",
    "train['reporting_delay_day_count']=train['reporting_delay_day_count'].apply(day_count)"
   ]
  },
  {
   "cell_type": "code",
   "execution_count": 25,
   "id": "86bdf3b5",
   "metadata": {
    "execution": {
     "iopub.execute_input": "2024-06-24T09:52:06.111905Z",
     "iopub.status.busy": "2024-06-24T09:52:06.110812Z",
     "iopub.status.idle": "2024-06-24T09:52:06.119328Z",
     "shell.execute_reply": "2024-06-24T09:52:06.118341Z"
    },
    "papermill": {
     "duration": 0.036996,
     "end_time": "2024-06-24T09:52:06.121346",
     "exception": false,
     "start_time": "2024-06-24T09:52:06.084350",
     "status": "completed"
    },
    "tags": []
   },
   "outputs": [
    {
     "data": {
      "text/plain": [
       "0        3\n",
       "1        0\n",
       "2        0\n",
       "3        2\n",
       "4        0\n",
       "        ..\n",
       "19995    0\n",
       "19996    0\n",
       "19997    0\n",
       "19998    0\n",
       "19999    1\n",
       "Name: reporting_delay_day_count, Length: 20000, dtype: int64"
      ]
     },
     "execution_count": 25,
     "metadata": {},
     "output_type": "execute_result"
    }
   ],
   "source": [
    "train['reporting_delay_day_count']"
   ]
  },
  {
   "cell_type": "code",
   "execution_count": 26,
   "id": "b2ecb3f9",
   "metadata": {
    "execution": {
     "iopub.execute_input": "2024-06-24T09:52:06.174208Z",
     "iopub.status.busy": "2024-06-24T09:52:06.173805Z",
     "iopub.status.idle": "2024-06-24T09:52:06.199501Z",
     "shell.execute_reply": "2024-06-24T09:52:06.198073Z"
    },
    "papermill": {
     "duration": 0.055036,
     "end_time": "2024-06-24T09:52:06.201854",
     "exception": false,
     "start_time": "2024-06-24T09:52:06.146818",
     "status": "completed"
    },
    "tags": []
   },
   "outputs": [
    {
     "name": "stdout",
     "output_type": "stream",
     "text": [
      "<class 'pandas.core.frame.DataFrame'>\n",
      "RangeIndex: 20000 entries, 0 to 19999\n",
      "Data columns (total 24 columns):\n",
      " #   Column                     Non-Null Count  Dtype  \n",
      "---  ------                     --------------  -----  \n",
      " 0   Location                   20000 non-null  object \n",
      " 1   Cross_Street               3448 non-null   object \n",
      " 2   Latitude                   20000 non-null  float64\n",
      " 3   Longitude                  20000 non-null  float64\n",
      " 4   Date_Reported              20000 non-null  object \n",
      " 5   Date_Occurred              20000 non-null  object \n",
      " 6   Time_Occurred              20000 non-null  float64\n",
      " 7   Area_ID                    20000 non-null  float64\n",
      " 8   Area_Name                  20000 non-null  object \n",
      " 9   Reporting_District_no      20000 non-null  float64\n",
      " 10  Part 1-2                   20000 non-null  float64\n",
      " 11  Modus_Operandi             17259 non-null  object \n",
      " 12  Victim_Age                 20000 non-null  float64\n",
      " 13  Victim_Sex                 17376 non-null  object \n",
      " 14  Victim_Descent             17376 non-null  object \n",
      " 15  Premise_Code               20000 non-null  float64\n",
      " 16  Premise_Description        19995 non-null  object \n",
      " 17  Weapon_Used_Code           7335 non-null   float64\n",
      " 18  Weapon_Description         7335 non-null   object \n",
      " 19  Status                     20000 non-null  object \n",
      " 20  Status_Description         20000 non-null  object \n",
      " 21  Crime_Category             20000 non-null  object \n",
      " 22  day_category               20000 non-null  object \n",
      " 23  reporting_delay_day_count  20000 non-null  int64  \n",
      "dtypes: float64(9), int64(1), object(14)\n",
      "memory usage: 3.7+ MB\n"
     ]
    }
   ],
   "source": [
    "train.info()"
   ]
  },
  {
   "cell_type": "code",
   "execution_count": 27,
   "id": "0469915a",
   "metadata": {
    "execution": {
     "iopub.execute_input": "2024-06-24T09:52:06.254561Z",
     "iopub.status.busy": "2024-06-24T09:52:06.254169Z",
     "iopub.status.idle": "2024-06-24T09:52:06.264322Z",
     "shell.execute_reply": "2024-06-24T09:52:06.263163Z"
    },
    "papermill": {
     "duration": 0.038901,
     "end_time": "2024-06-24T09:52:06.266443",
     "exception": false,
     "start_time": "2024-06-24T09:52:06.227542",
     "status": "completed"
    },
    "tags": []
   },
   "outputs": [
    {
     "data": {
      "text/plain": [
       "Premise_Description\n",
       "STREET                                          5033\n",
       "SINGLE FAMILY DWELLING                          3379\n",
       "MULTI-UNIT DWELLING (APARTMENT, DUPLEX, ETC)    2491\n",
       "PARKING LOT                                     1437\n",
       "SIDEWALK                                         978\n",
       "                                                ... \n",
       "BUS DEPOT/TERMINAL, OTHER THAN MTA                 1\n",
       "MTA - RED LINE - HOLLYWOOD/WESTERN                 1\n",
       "MTA - SILVER LINE - ROSECRANS                      1\n",
       "HIGH-RISE BUILDING                                 1\n",
       "COMPUTER SERVICES/REPAIRS/SALES                    1\n",
       "Name: count, Length: 216, dtype: int64"
      ]
     },
     "execution_count": 27,
     "metadata": {},
     "output_type": "execute_result"
    }
   ],
   "source": [
    "train['Premise_Description'].value_counts()"
   ]
  },
  {
   "cell_type": "code",
   "execution_count": 28,
   "id": "697ac698",
   "metadata": {
    "execution": {
     "iopub.execute_input": "2024-06-24T09:52:06.319992Z",
     "iopub.status.busy": "2024-06-24T09:52:06.319644Z",
     "iopub.status.idle": "2024-06-24T09:52:06.326240Z",
     "shell.execute_reply": "2024-06-24T09:52:06.325187Z"
    },
    "papermill": {
     "duration": 0.035661,
     "end_time": "2024-06-24T09:52:06.328316",
     "exception": false,
     "start_time": "2024-06-24T09:52:06.292655",
     "status": "completed"
    },
    "tags": []
   },
   "outputs": [],
   "source": [
    "k=train['Premise_Description'].value_counts()"
   ]
  },
  {
   "cell_type": "code",
   "execution_count": 29,
   "id": "8e5caebf",
   "metadata": {
    "execution": {
     "iopub.execute_input": "2024-06-24T09:52:06.383645Z",
     "iopub.status.busy": "2024-06-24T09:52:06.383295Z",
     "iopub.status.idle": "2024-06-24T09:52:06.389872Z",
     "shell.execute_reply": "2024-06-24T09:52:06.388710Z"
    },
    "papermill": {
     "duration": 0.036794,
     "end_time": "2024-06-24T09:52:06.391983",
     "exception": false,
     "start_time": "2024-06-24T09:52:06.355189",
     "status": "completed"
    },
    "tags": []
   },
   "outputs": [
    {
     "data": {
      "text/plain": [
       "'SINGLE FAMILY DWELLING'"
      ]
     },
     "execution_count": 29,
     "metadata": {},
     "output_type": "execute_result"
    }
   ],
   "source": [
    "train['Premise_Description'][2]"
   ]
  },
  {
   "cell_type": "code",
   "execution_count": 30,
   "id": "24a9db4b",
   "metadata": {
    "execution": {
     "iopub.execute_input": "2024-06-24T09:52:06.445800Z",
     "iopub.status.busy": "2024-06-24T09:52:06.445166Z",
     "iopub.status.idle": "2024-06-24T09:52:06.451400Z",
     "shell.execute_reply": "2024-06-24T09:52:06.450263Z"
    },
    "papermill": {
     "duration": 0.035633,
     "end_time": "2024-06-24T09:52:06.453845",
     "exception": false,
     "start_time": "2024-06-24T09:52:06.418212",
     "status": "completed"
    },
    "tags": []
   },
   "outputs": [
    {
     "name": "stdout",
     "output_type": "stream",
     "text": [
      "Premise_Description\n",
      "DELIVERY SERVICE (FED EX, UPS, COURIERS,COURIER SERVICE)*    7\n",
      "MTA - RED LINE - UNION STATION                               6\n",
      "HARDWARE/BUILDING SUPPLY                                     6\n",
      "BAR/SPORTS BAR (OPEN DAY & NIGHT)                            6\n",
      "THE BEVERLY CONNECTION                                       6\n",
      "NAIL SALON                                                   6\n",
      "PHARMACY INSIDE STORE OR SUPERMARKET*                        6\n",
      "CHECK CASHING*                                               6\n",
      "NIGHT CLUB (OPEN EVENINGS ONLY)                              6\n",
      "ELEVATOR                                                     5\n",
      "Name: count, dtype: int64\n"
     ]
    }
   ],
   "source": [
    "print(k[90:100])"
   ]
  },
  {
   "cell_type": "code",
   "execution_count": 31,
   "id": "d86c3be5",
   "metadata": {
    "execution": {
     "iopub.execute_input": "2024-06-24T09:52:06.507974Z",
     "iopub.status.busy": "2024-06-24T09:52:06.507312Z",
     "iopub.status.idle": "2024-06-24T09:52:06.515316Z",
     "shell.execute_reply": "2024-06-24T09:52:06.514305Z"
    },
    "papermill": {
     "duration": 0.037263,
     "end_time": "2024-06-24T09:52:06.517395",
     "exception": false,
     "start_time": "2024-06-24T09:52:06.480132",
     "status": "completed"
    },
    "tags": []
   },
   "outputs": [
    {
     "data": {
      "text/plain": [
       "0                        STREET\n",
       "1                     SWAP MEET\n",
       "2        SINGLE FAMILY DWELLING\n",
       "3                        STREET\n",
       "4                     MINI-MART\n",
       "                  ...          \n",
       "19995    SINGLE FAMILY DWELLING\n",
       "19996               GAS STATION\n",
       "19997                  SIDEWALK\n",
       "19998    SINGLE FAMILY DWELLING\n",
       "19999                    STREET\n",
       "Name: Premise_Description, Length: 20000, dtype: object"
      ]
     },
     "execution_count": 31,
     "metadata": {},
     "output_type": "execute_result"
    }
   ],
   "source": [
    "train['Premise_Description']"
   ]
  },
  {
   "cell_type": "code",
   "execution_count": 32,
   "id": "cd7541d2",
   "metadata": {
    "execution": {
     "iopub.execute_input": "2024-06-24T09:52:06.572166Z",
     "iopub.status.busy": "2024-06-24T09:52:06.571766Z",
     "iopub.status.idle": "2024-06-24T09:52:06.579996Z",
     "shell.execute_reply": "2024-06-24T09:52:06.579082Z"
    },
    "papermill": {
     "duration": 0.038801,
     "end_time": "2024-06-24T09:52:06.582385",
     "exception": false,
     "start_time": "2024-06-24T09:52:06.543584",
     "status": "completed"
    },
    "tags": []
   },
   "outputs": [],
   "source": [
    "df=train[['Latitude','Longitude','reporting_delay_day_count','day_category','Victim_Age','Victim_Sex','Victim_Descent','Premise_Code','Weapon_Description','Weapon_Used_Code','Area_ID','Modus_Operandi','Part 1-2','Status','Crime_Category']]"
   ]
  },
  {
   "cell_type": "code",
   "execution_count": 33,
   "id": "2adb15d0",
   "metadata": {
    "execution": {
     "iopub.execute_input": "2024-06-24T09:52:06.637301Z",
     "iopub.status.busy": "2024-06-24T09:52:06.635918Z",
     "iopub.status.idle": "2024-06-24T09:52:06.653269Z",
     "shell.execute_reply": "2024-06-24T09:52:06.652264Z"
    },
    "papermill": {
     "duration": 0.047031,
     "end_time": "2024-06-24T09:52:06.655567",
     "exception": false,
     "start_time": "2024-06-24T09:52:06.608536",
     "status": "completed"
    },
    "tags": []
   },
   "outputs": [
    {
     "data": {
      "text/plain": [
       "Latitude                         0\n",
       "Longitude                        0\n",
       "reporting_delay_day_count        0\n",
       "day_category                     0\n",
       "Victim_Age                       0\n",
       "Victim_Sex                    2624\n",
       "Victim_Descent                2624\n",
       "Premise_Code                     0\n",
       "Weapon_Description           12665\n",
       "Weapon_Used_Code             12665\n",
       "Area_ID                          0\n",
       "Modus_Operandi                2741\n",
       "Part 1-2                         0\n",
       "Status                           0\n",
       "Crime_Category                   0\n",
       "dtype: int64"
      ]
     },
     "execution_count": 33,
     "metadata": {},
     "output_type": "execute_result"
    }
   ],
   "source": [
    "df.isnull().sum()"
   ]
  },
  {
   "cell_type": "code",
   "execution_count": 34,
   "id": "d3bac41b",
   "metadata": {
    "execution": {
     "iopub.execute_input": "2024-06-24T09:52:06.710912Z",
     "iopub.status.busy": "2024-06-24T09:52:06.710471Z",
     "iopub.status.idle": "2024-06-24T09:52:06.720002Z",
     "shell.execute_reply": "2024-06-24T09:52:06.718957Z"
    },
    "papermill": {
     "duration": 0.039801,
     "end_time": "2024-06-24T09:52:06.722141",
     "exception": false,
     "start_time": "2024-06-24T09:52:06.682340",
     "status": "completed"
    },
    "tags": []
   },
   "outputs": [
    {
     "data": {
      "text/plain": [
       "Victim_Sex\n",
       "M    8538\n",
       "F    7176\n",
       "X    1660\n",
       "H       2\n",
       "Name: count, dtype: int64"
      ]
     },
     "execution_count": 34,
     "metadata": {},
     "output_type": "execute_result"
    }
   ],
   "source": [
    "df['Victim_Sex'].value_counts()"
   ]
  },
  {
   "cell_type": "code",
   "execution_count": 35,
   "id": "3efece27",
   "metadata": {
    "execution": {
     "iopub.execute_input": "2024-06-24T09:52:06.778152Z",
     "iopub.status.busy": "2024-06-24T09:52:06.777736Z",
     "iopub.status.idle": "2024-06-24T09:52:06.797426Z",
     "shell.execute_reply": "2024-06-24T09:52:06.796278Z"
    },
    "papermill": {
     "duration": 0.049893,
     "end_time": "2024-06-24T09:52:06.799634",
     "exception": false,
     "start_time": "2024-06-24T09:52:06.749741",
     "status": "completed"
    },
    "tags": []
   },
   "outputs": [],
   "source": [
    "def victim_gender(val):\n",
    "    if val=='H' or pd.isna(val):\n",
    "        val='X'\n",
    "    return val\n",
    "\n",
    "\n",
    "df.loc[:,'Victim_Sex'] = df['Victim_Sex'].apply(victim_gender)"
   ]
  },
  {
   "cell_type": "code",
   "execution_count": 36,
   "id": "71a73a0e",
   "metadata": {
    "execution": {
     "iopub.execute_input": "2024-06-24T09:52:06.854195Z",
     "iopub.status.busy": "2024-06-24T09:52:06.853805Z",
     "iopub.status.idle": "2024-06-24T09:52:06.877772Z",
     "shell.execute_reply": "2024-06-24T09:52:06.876724Z"
    },
    "papermill": {
     "duration": 0.053663,
     "end_time": "2024-06-24T09:52:06.879988",
     "exception": false,
     "start_time": "2024-06-24T09:52:06.826325",
     "status": "completed"
    },
    "tags": []
   },
   "outputs": [
    {
     "data": {
      "text/html": [
       "<div>\n",
       "<style scoped>\n",
       "    .dataframe tbody tr th:only-of-type {\n",
       "        vertical-align: middle;\n",
       "    }\n",
       "\n",
       "    .dataframe tbody tr th {\n",
       "        vertical-align: top;\n",
       "    }\n",
       "\n",
       "    .dataframe thead th {\n",
       "        text-align: right;\n",
       "    }\n",
       "</style>\n",
       "<table border=\"1\" class=\"dataframe\">\n",
       "  <thead>\n",
       "    <tr style=\"text-align: right;\">\n",
       "      <th></th>\n",
       "      <th>Latitude</th>\n",
       "      <th>Longitude</th>\n",
       "      <th>reporting_delay_day_count</th>\n",
       "      <th>day_category</th>\n",
       "      <th>Victim_Age</th>\n",
       "      <th>Victim_Sex</th>\n",
       "      <th>Victim_Descent</th>\n",
       "      <th>Premise_Code</th>\n",
       "      <th>Weapon_Description</th>\n",
       "      <th>Weapon_Used_Code</th>\n",
       "      <th>Area_ID</th>\n",
       "      <th>Modus_Operandi</th>\n",
       "      <th>Part 1-2</th>\n",
       "      <th>Status</th>\n",
       "      <th>Crime_Category</th>\n",
       "    </tr>\n",
       "  </thead>\n",
       "  <tbody>\n",
       "    <tr>\n",
       "      <th>0</th>\n",
       "      <td>34.1522</td>\n",
       "      <td>-118.3910</td>\n",
       "      <td>3</td>\n",
       "      <td>Evening</td>\n",
       "      <td>75.0</td>\n",
       "      <td>M</td>\n",
       "      <td>W</td>\n",
       "      <td>101.0</td>\n",
       "      <td>NaN</td>\n",
       "      <td>NaN</td>\n",
       "      <td>15.0</td>\n",
       "      <td>0385</td>\n",
       "      <td>1.0</td>\n",
       "      <td>IC</td>\n",
       "      <td>Property Crimes</td>\n",
       "    </tr>\n",
       "    <tr>\n",
       "      <th>1</th>\n",
       "      <td>34.0028</td>\n",
       "      <td>-118.2391</td>\n",
       "      <td>0</td>\n",
       "      <td>Daytime</td>\n",
       "      <td>41.0</td>\n",
       "      <td>M</td>\n",
       "      <td>H</td>\n",
       "      <td>216.0</td>\n",
       "      <td>STRONG-ARM (HANDS, FIST, FEET OR BODILY FORCE)</td>\n",
       "      <td>400.0</td>\n",
       "      <td>13.0</td>\n",
       "      <td>0906 0352 0371 0446 1822 0344 0416 0417</td>\n",
       "      <td>1.0</td>\n",
       "      <td>IC</td>\n",
       "      <td>Property Crimes</td>\n",
       "    </tr>\n",
       "    <tr>\n",
       "      <th>2</th>\n",
       "      <td>34.0111</td>\n",
       "      <td>-118.2653</td>\n",
       "      <td>0</td>\n",
       "      <td>Morning</td>\n",
       "      <td>67.0</td>\n",
       "      <td>M</td>\n",
       "      <td>B</td>\n",
       "      <td>501.0</td>\n",
       "      <td>NaN</td>\n",
       "      <td>NaN</td>\n",
       "      <td>13.0</td>\n",
       "      <td>0329 1202</td>\n",
       "      <td>2.0</td>\n",
       "      <td>IC</td>\n",
       "      <td>Property Crimes</td>\n",
       "    </tr>\n",
       "    <tr>\n",
       "      <th>3</th>\n",
       "      <td>34.2953</td>\n",
       "      <td>-118.4590</td>\n",
       "      <td>2</td>\n",
       "      <td>Evening</td>\n",
       "      <td>61.0</td>\n",
       "      <td>M</td>\n",
       "      <td>H</td>\n",
       "      <td>101.0</td>\n",
       "      <td>NaN</td>\n",
       "      <td>NaN</td>\n",
       "      <td>19.0</td>\n",
       "      <td>0329 1300</td>\n",
       "      <td>1.0</td>\n",
       "      <td>IC</td>\n",
       "      <td>Property Crimes</td>\n",
       "    </tr>\n",
       "    <tr>\n",
       "      <th>4</th>\n",
       "      <td>33.9787</td>\n",
       "      <td>-118.2918</td>\n",
       "      <td>0</td>\n",
       "      <td>Morning</td>\n",
       "      <td>0.0</td>\n",
       "      <td>X</td>\n",
       "      <td>X</td>\n",
       "      <td>401.0</td>\n",
       "      <td>STRONG-ARM (HANDS, FIST, FEET OR BODILY FORCE)</td>\n",
       "      <td>400.0</td>\n",
       "      <td>12.0</td>\n",
       "      <td>0416 0945 1822 0400 0417 0344</td>\n",
       "      <td>1.0</td>\n",
       "      <td>IC</td>\n",
       "      <td>Property Crimes</td>\n",
       "    </tr>\n",
       "    <tr>\n",
       "      <th>...</th>\n",
       "      <td>...</td>\n",
       "      <td>...</td>\n",
       "      <td>...</td>\n",
       "      <td>...</td>\n",
       "      <td>...</td>\n",
       "      <td>...</td>\n",
       "      <td>...</td>\n",
       "      <td>...</td>\n",
       "      <td>...</td>\n",
       "      <td>...</td>\n",
       "      <td>...</td>\n",
       "      <td>...</td>\n",
       "      <td>...</td>\n",
       "      <td>...</td>\n",
       "      <td>...</td>\n",
       "    </tr>\n",
       "    <tr>\n",
       "      <th>19995</th>\n",
       "      <td>34.0334</td>\n",
       "      <td>-118.3523</td>\n",
       "      <td>0</td>\n",
       "      <td>Morning</td>\n",
       "      <td>51.0</td>\n",
       "      <td>M</td>\n",
       "      <td>H</td>\n",
       "      <td>501.0</td>\n",
       "      <td>STRONG-ARM (HANDS, FIST, FEET OR BODILY FORCE)</td>\n",
       "      <td>400.0</td>\n",
       "      <td>3.0</td>\n",
       "      <td>0416 0446 2004 0913</td>\n",
       "      <td>2.0</td>\n",
       "      <td>IC</td>\n",
       "      <td>Violent Crimes</td>\n",
       "    </tr>\n",
       "    <tr>\n",
       "      <th>19996</th>\n",
       "      <td>34.2212</td>\n",
       "      <td>-118.5011</td>\n",
       "      <td>0</td>\n",
       "      <td>Night</td>\n",
       "      <td>0.0</td>\n",
       "      <td>M</td>\n",
       "      <td>W</td>\n",
       "      <td>301.0</td>\n",
       "      <td>NaN</td>\n",
       "      <td>NaN</td>\n",
       "      <td>10.0</td>\n",
       "      <td>1822 0209 0344 1414 1420</td>\n",
       "      <td>1.0</td>\n",
       "      <td>IC</td>\n",
       "      <td>Property Crimes</td>\n",
       "    </tr>\n",
       "    <tr>\n",
       "      <th>19997</th>\n",
       "      <td>34.0571</td>\n",
       "      <td>-118.3815</td>\n",
       "      <td>0</td>\n",
       "      <td>Daytime</td>\n",
       "      <td>42.0</td>\n",
       "      <td>M</td>\n",
       "      <td>H</td>\n",
       "      <td>102.0</td>\n",
       "      <td>NaN</td>\n",
       "      <td>NaN</td>\n",
       "      <td>8.0</td>\n",
       "      <td>0344 1822 1420</td>\n",
       "      <td>1.0</td>\n",
       "      <td>IC</td>\n",
       "      <td>Property Crimes</td>\n",
       "    </tr>\n",
       "    <tr>\n",
       "      <th>19998</th>\n",
       "      <td>33.7451</td>\n",
       "      <td>-118.2835</td>\n",
       "      <td>0</td>\n",
       "      <td>Morning</td>\n",
       "      <td>76.0</td>\n",
       "      <td>F</td>\n",
       "      <td>H</td>\n",
       "      <td>501.0</td>\n",
       "      <td>NaN</td>\n",
       "      <td>NaN</td>\n",
       "      <td>5.0</td>\n",
       "      <td>1202 2038 0913 0602 1242 0553</td>\n",
       "      <td>2.0</td>\n",
       "      <td>IC</td>\n",
       "      <td>Crimes against Public Order</td>\n",
       "    </tr>\n",
       "    <tr>\n",
       "      <th>19999</th>\n",
       "      <td>34.0037</td>\n",
       "      <td>-118.3034</td>\n",
       "      <td>1</td>\n",
       "      <td>Evening</td>\n",
       "      <td>0.0</td>\n",
       "      <td>X</td>\n",
       "      <td>NaN</td>\n",
       "      <td>101.0</td>\n",
       "      <td>NaN</td>\n",
       "      <td>NaN</td>\n",
       "      <td>3.0</td>\n",
       "      <td>NaN</td>\n",
       "      <td>1.0</td>\n",
       "      <td>IC</td>\n",
       "      <td>Property Crimes</td>\n",
       "    </tr>\n",
       "  </tbody>\n",
       "</table>\n",
       "<p>20000 rows × 15 columns</p>\n",
       "</div>"
      ],
      "text/plain": [
       "       Latitude  Longitude  reporting_delay_day_count day_category  \\\n",
       "0       34.1522  -118.3910                          3      Evening   \n",
       "1       34.0028  -118.2391                          0      Daytime   \n",
       "2       34.0111  -118.2653                          0      Morning   \n",
       "3       34.2953  -118.4590                          2      Evening   \n",
       "4       33.9787  -118.2918                          0      Morning   \n",
       "...         ...        ...                        ...          ...   \n",
       "19995   34.0334  -118.3523                          0      Morning   \n",
       "19996   34.2212  -118.5011                          0        Night   \n",
       "19997   34.0571  -118.3815                          0      Daytime   \n",
       "19998   33.7451  -118.2835                          0      Morning   \n",
       "19999   34.0037  -118.3034                          1      Evening   \n",
       "\n",
       "       Victim_Age Victim_Sex Victim_Descent  Premise_Code  \\\n",
       "0            75.0          M              W         101.0   \n",
       "1            41.0          M              H         216.0   \n",
       "2            67.0          M              B         501.0   \n",
       "3            61.0          M              H         101.0   \n",
       "4             0.0          X              X         401.0   \n",
       "...           ...        ...            ...           ...   \n",
       "19995        51.0          M              H         501.0   \n",
       "19996         0.0          M              W         301.0   \n",
       "19997        42.0          M              H         102.0   \n",
       "19998        76.0          F              H         501.0   \n",
       "19999         0.0          X            NaN         101.0   \n",
       "\n",
       "                                   Weapon_Description  Weapon_Used_Code  \\\n",
       "0                                                 NaN               NaN   \n",
       "1      STRONG-ARM (HANDS, FIST, FEET OR BODILY FORCE)             400.0   \n",
       "2                                                 NaN               NaN   \n",
       "3                                                 NaN               NaN   \n",
       "4      STRONG-ARM (HANDS, FIST, FEET OR BODILY FORCE)             400.0   \n",
       "...                                               ...               ...   \n",
       "19995  STRONG-ARM (HANDS, FIST, FEET OR BODILY FORCE)             400.0   \n",
       "19996                                             NaN               NaN   \n",
       "19997                                             NaN               NaN   \n",
       "19998                                             NaN               NaN   \n",
       "19999                                             NaN               NaN   \n",
       "\n",
       "       Area_ID                           Modus_Operandi  Part 1-2 Status  \\\n",
       "0         15.0                                     0385       1.0     IC   \n",
       "1         13.0  0906 0352 0371 0446 1822 0344 0416 0417       1.0     IC   \n",
       "2         13.0                                0329 1202       2.0     IC   \n",
       "3         19.0                                0329 1300       1.0     IC   \n",
       "4         12.0            0416 0945 1822 0400 0417 0344       1.0     IC   \n",
       "...        ...                                      ...       ...    ...   \n",
       "19995      3.0                      0416 0446 2004 0913       2.0     IC   \n",
       "19996     10.0                 1822 0209 0344 1414 1420       1.0     IC   \n",
       "19997      8.0                           0344 1822 1420       1.0     IC   \n",
       "19998      5.0            1202 2038 0913 0602 1242 0553       2.0     IC   \n",
       "19999      3.0                                      NaN       1.0     IC   \n",
       "\n",
       "                    Crime_Category  \n",
       "0                  Property Crimes  \n",
       "1                  Property Crimes  \n",
       "2                  Property Crimes  \n",
       "3                  Property Crimes  \n",
       "4                  Property Crimes  \n",
       "...                            ...  \n",
       "19995               Violent Crimes  \n",
       "19996              Property Crimes  \n",
       "19997              Property Crimes  \n",
       "19998  Crimes against Public Order  \n",
       "19999              Property Crimes  \n",
       "\n",
       "[20000 rows x 15 columns]"
      ]
     },
     "execution_count": 36,
     "metadata": {},
     "output_type": "execute_result"
    }
   ],
   "source": [
    "df"
   ]
  },
  {
   "cell_type": "code",
   "execution_count": 37,
   "id": "981cc448",
   "metadata": {
    "execution": {
     "iopub.execute_input": "2024-06-24T09:52:06.935237Z",
     "iopub.status.busy": "2024-06-24T09:52:06.934825Z",
     "iopub.status.idle": "2024-06-24T09:52:06.944264Z",
     "shell.execute_reply": "2024-06-24T09:52:06.943170Z"
    },
    "papermill": {
     "duration": 0.039406,
     "end_time": "2024-06-24T09:52:06.946446",
     "exception": false,
     "start_time": "2024-06-24T09:52:06.907040",
     "status": "completed"
    },
    "tags": []
   },
   "outputs": [
    {
     "data": {
      "text/plain": [
       "Victim_Sex\n",
       "M    8538\n",
       "F    7176\n",
       "X    4286\n",
       "Name: count, dtype: int64"
      ]
     },
     "execution_count": 37,
     "metadata": {},
     "output_type": "execute_result"
    }
   ],
   "source": [
    "df['Victim_Sex'].value_counts()"
   ]
  },
  {
   "cell_type": "code",
   "execution_count": 38,
   "id": "6b0cb6f6",
   "metadata": {
    "execution": {
     "iopub.execute_input": "2024-06-24T09:52:07.001596Z",
     "iopub.status.busy": "2024-06-24T09:52:07.001218Z",
     "iopub.status.idle": "2024-06-24T09:52:07.008906Z",
     "shell.execute_reply": "2024-06-24T09:52:07.007825Z"
    },
    "papermill": {
     "duration": 0.037768,
     "end_time": "2024-06-24T09:52:07.011015",
     "exception": false,
     "start_time": "2024-06-24T09:52:06.973247",
     "status": "completed"
    },
    "tags": []
   },
   "outputs": [
    {
     "data": {
      "text/plain": [
       "array(['W', 'H', 'B', 'X', nan, 'O', 'A', 'K', 'C', 'F', 'I', 'J', 'Z',\n",
       "       'V', 'P', 'D', 'U', 'G'], dtype=object)"
      ]
     },
     "execution_count": 38,
     "metadata": {},
     "output_type": "execute_result"
    }
   ],
   "source": [
    "df['Victim_Descent'].unique()"
   ]
  },
  {
   "cell_type": "code",
   "execution_count": 39,
   "id": "471c0c2c",
   "metadata": {
    "execution": {
     "iopub.execute_input": "2024-06-24T09:52:07.069296Z",
     "iopub.status.busy": "2024-06-24T09:52:07.068447Z",
     "iopub.status.idle": "2024-06-24T09:52:07.082570Z",
     "shell.execute_reply": "2024-06-24T09:52:07.081600Z"
    },
    "papermill": {
     "duration": 0.046268,
     "end_time": "2024-06-24T09:52:07.084783",
     "exception": false,
     "start_time": "2024-06-24T09:52:07.038515",
     "status": "completed"
    },
    "tags": []
   },
   "outputs": [
    {
     "data": {
      "text/plain": [
       "Weapon_Description                            \n",
       "STRONG-ARM (HANDS, FIST, FEET OR BODILY FORCE)    0.543967\n",
       "UNKNOWN WEAPON/OTHER WEAPON                       0.107566\n",
       "VERBAL THREAT                                     0.074438\n",
       "HAND GUN                                          0.052897\n",
       "KNIFE WITH BLADE 6INCHES OR LESS                  0.021813\n",
       "SEMI-AUTOMATIC PISTOL                             0.020995\n",
       "UNKNOWN FIREARM                                   0.017860\n",
       "OTHER KNIFE                                       0.017042\n",
       "VEHICLE                                           0.011452\n",
       "MACE/PEPPER SPRAY                                 0.010907\n",
       "ROCK/THROWN OBJECT                                0.008589\n",
       "BOTTLE                                            0.007498\n",
       "PIPE/METAL PIPE                                   0.007089\n",
       "CLUB/BAT                                          0.006953\n",
       "STICK                                             0.006680\n",
       "KITCHEN KNIFE                                     0.006135\n",
       "KNIFE WITH BLADE OVER 6 INCHES IN LENGTH          0.005862\n",
       "AIR PISTOL/REVOLVER/RIFLE/BB GUN                  0.005590\n",
       "FOLDING KNIFE                                     0.005044\n",
       "BLUNT INSTRUMENT                                  0.005044\n",
       "SIMULATED GUN                                     0.004772\n",
       "REVOLVER                                          0.004635\n",
       "BELT FLAILING INSTRUMENT/CHAIN                    0.003545\n",
       "CONCRETE BLOCK/BRICK                              0.003545\n",
       "MACHETE                                           0.003408\n",
       "UNKNOWN TYPE CUTTING INSTRUMENT                   0.003272\n",
       "SCREWDRIVER                                       0.003136\n",
       "HAMMER                                            0.003136\n",
       "FIRE                                              0.002999\n",
       "PHYSICAL PRESENCE                                 0.002454\n",
       "OTHER FIREARM                                     0.002454\n",
       "OTHER CUTTING INSTRUMENT                          0.002318\n",
       "FIXED OBJECT                                      0.002181\n",
       "GLASS                                             0.001909\n",
       "SCISSORS                                          0.001772\n",
       "RIFLE                                             0.001636\n",
       "BOARD                                             0.001500\n",
       "TOY GUN                                           0.001091\n",
       "SHOTGUN                                           0.000954\n",
       "TIRE IRON                                         0.000954\n",
       "AXE                                               0.000818\n",
       "STUN GUN                                          0.000545\n",
       "BRASS KNUCKLES                                    0.000545\n",
       "SCALDING LIQUID                                   0.000409\n",
       "SWITCH BLADE                                      0.000409\n",
       "SAWED OFF RIFLE/SHOTGUN                           0.000273\n",
       "DEMAND NOTE                                       0.000273\n",
       "ICE PICK                                          0.000273\n",
       "MARTIAL ARTS WEAPONS                              0.000273\n",
       "BOWIE KNIFE                                       0.000136\n",
       "STARTER PISTOL/REVOLVER                           0.000136\n",
       "BOMB THREAT                                       0.000136\n",
       "RAZOR BLADE                                       0.000136\n",
       "CAUSTIC CHEMICAL/POISON                           0.000136\n",
       "CLEAVER                                           0.000136\n",
       "ASSAULT WEAPON/UZI/AK47/ETC                       0.000136\n",
       "HECKLER & KOCH 93 SEMIAUTOMATIC ASSAULT RIFLE     0.000136\n",
       "Name: proportion, dtype: float64"
      ]
     },
     "execution_count": 39,
     "metadata": {},
     "output_type": "execute_result"
    }
   ],
   "source": [
    "unique_values_weapon=pd.DataFrame(df['Weapon_Description'])\n",
    "unique_values_weapon.value_counts(normalize=True)"
   ]
  },
  {
   "cell_type": "markdown",
   "id": "b15bba80",
   "metadata": {
    "papermill": {
     "duration": 0.027213,
     "end_time": "2024-06-24T09:52:07.140466",
     "exception": false,
     "start_time": "2024-06-24T09:52:07.113253",
     "status": "completed"
    },
    "tags": []
   },
   "source": []
  },
  {
   "cell_type": "code",
   "execution_count": 40,
   "id": "66c6f8a1",
   "metadata": {
    "execution": {
     "iopub.execute_input": "2024-06-24T09:52:07.198391Z",
     "iopub.status.busy": "2024-06-24T09:52:07.197670Z",
     "iopub.status.idle": "2024-06-24T09:52:07.212066Z",
     "shell.execute_reply": "2024-06-24T09:52:07.211010Z"
    },
    "papermill": {
     "duration": 0.045428,
     "end_time": "2024-06-24T09:52:07.214670",
     "exception": false,
     "start_time": "2024-06-24T09:52:07.169242",
     "status": "completed"
    },
    "tags": []
   },
   "outputs": [],
   "source": [
    "distribution = df['Weapon_Description'].dropna().value_counts(normalize=True)\n",
    "\n",
    "missing = df['Weapon_Description'].isnull().sum()\n",
    "\n",
    "imputed_values = np.random.choice(distribution.index, size=missing, p=distribution.values)\n",
    "\n",
    "# Impute the missing values\n",
    "df.loc[df['Weapon_Description'].isnull(), 'Weapon_Description'] = imputed_values\n"
   ]
  },
  {
   "cell_type": "code",
   "execution_count": 41,
   "id": "50f85b84",
   "metadata": {
    "execution": {
     "iopub.execute_input": "2024-06-24T09:52:07.270884Z",
     "iopub.status.busy": "2024-06-24T09:52:07.270508Z",
     "iopub.status.idle": "2024-06-24T09:52:07.283341Z",
     "shell.execute_reply": "2024-06-24T09:52:07.282372Z"
    },
    "papermill": {
     "duration": 0.043813,
     "end_time": "2024-06-24T09:52:07.285649",
     "exception": false,
     "start_time": "2024-06-24T09:52:07.241836",
     "status": "completed"
    },
    "tags": []
   },
   "outputs": [],
   "source": [
    "distribution = df['Victim_Descent'].dropna().value_counts(normalize=True)\n",
    "\n",
    "missing = df['Victim_Descent'].isnull().sum()\n",
    "\n",
    "imputed_values = np.random.choice(distribution.index, size=missing, p=distribution.values)\n",
    "\n",
    "# Impute the missing values\n",
    "df.loc[df['Victim_Descent'].isnull(), 'Victim_Descent'] = imputed_values"
   ]
  },
  {
   "cell_type": "code",
   "execution_count": 42,
   "id": "8a8b2d86",
   "metadata": {
    "execution": {
     "iopub.execute_input": "2024-06-24T09:52:07.342566Z",
     "iopub.status.busy": "2024-06-24T09:52:07.342193Z",
     "iopub.status.idle": "2024-06-24T09:52:07.357517Z",
     "shell.execute_reply": "2024-06-24T09:52:07.356364Z"
    },
    "papermill": {
     "duration": 0.046389,
     "end_time": "2024-06-24T09:52:07.359824",
     "exception": false,
     "start_time": "2024-06-24T09:52:07.313435",
     "status": "completed"
    },
    "tags": []
   },
   "outputs": [
    {
     "data": {
      "text/plain": [
       "Latitude                         0\n",
       "Longitude                        0\n",
       "reporting_delay_day_count        0\n",
       "day_category                     0\n",
       "Victim_Age                       0\n",
       "Victim_Sex                       0\n",
       "Victim_Descent                   0\n",
       "Premise_Code                     0\n",
       "Weapon_Description               0\n",
       "Weapon_Used_Code             12665\n",
       "Area_ID                          0\n",
       "Modus_Operandi                2741\n",
       "Part 1-2                         0\n",
       "Status                           0\n",
       "Crime_Category                   0\n",
       "dtype: int64"
      ]
     },
     "execution_count": 42,
     "metadata": {},
     "output_type": "execute_result"
    }
   ],
   "source": [
    "df.isnull().sum()\n"
   ]
  },
  {
   "cell_type": "markdown",
   "id": "4ed1547c",
   "metadata": {
    "execution": {
     "iopub.execute_input": "2024-06-18T11:25:46.853966Z",
     "iopub.status.busy": "2024-06-18T11:25:46.853487Z",
     "iopub.status.idle": "2024-06-18T11:25:48.288787Z",
     "shell.execute_reply": "2024-06-18T11:25:48.287061Z",
     "shell.execute_reply.started": "2024-06-18T11:25:46.853929Z"
    },
    "papermill": {
     "duration": 0.027003,
     "end_time": "2024-06-24T09:52:07.414629",
     "exception": false,
     "start_time": "2024-06-24T09:52:07.387626",
     "status": "completed"
    },
    "tags": []
   },
   "source": [
    " df.drop('Weapon_Used_Code',inplace=True,axis=1)"
   ]
  },
  {
   "cell_type": "code",
   "execution_count": 43,
   "id": "ebca4524",
   "metadata": {
    "execution": {
     "iopub.execute_input": "2024-06-24T09:52:07.470756Z",
     "iopub.status.busy": "2024-06-24T09:52:07.470387Z",
     "iopub.status.idle": "2024-06-24T09:52:07.478680Z",
     "shell.execute_reply": "2024-06-24T09:52:07.477723Z"
    },
    "papermill": {
     "duration": 0.038948,
     "end_time": "2024-06-24T09:52:07.480790",
     "exception": false,
     "start_time": "2024-06-24T09:52:07.441842",
     "status": "completed"
    },
    "tags": []
   },
   "outputs": [
    {
     "name": "stderr",
     "output_type": "stream",
     "text": [
      "/tmp/ipykernel_18/3662583146.py:1: SettingWithCopyWarning: \n",
      "A value is trying to be set on a copy of a slice from a DataFrame\n",
      "\n",
      "See the caveats in the documentation: https://pandas.pydata.org/pandas-docs/stable/user_guide/indexing.html#returning-a-view-versus-a-copy\n",
      "  df.drop('Weapon_Used_Code',inplace=True,axis=1)\n"
     ]
    }
   ],
   "source": [
    "df.drop('Weapon_Used_Code',inplace=True,axis=1)\n"
   ]
  },
  {
   "cell_type": "code",
   "execution_count": 44,
   "id": "16f75ffa",
   "metadata": {
    "execution": {
     "iopub.execute_input": "2024-06-24T09:52:07.537869Z",
     "iopub.status.busy": "2024-06-24T09:52:07.537165Z",
     "iopub.status.idle": "2024-06-24T09:52:07.555823Z",
     "shell.execute_reply": "2024-06-24T09:52:07.554709Z"
    },
    "papermill": {
     "duration": 0.049699,
     "end_time": "2024-06-24T09:52:07.558191",
     "exception": false,
     "start_time": "2024-06-24T09:52:07.508492",
     "status": "completed"
    },
    "tags": []
   },
   "outputs": [
    {
     "name": "stdout",
     "output_type": "stream",
     "text": [
      "<class 'pandas.core.frame.DataFrame'>\n",
      "RangeIndex: 20000 entries, 0 to 19999\n",
      "Data columns (total 14 columns):\n",
      " #   Column                     Non-Null Count  Dtype  \n",
      "---  ------                     --------------  -----  \n",
      " 0   Latitude                   20000 non-null  float64\n",
      " 1   Longitude                  20000 non-null  float64\n",
      " 2   reporting_delay_day_count  20000 non-null  int64  \n",
      " 3   day_category               20000 non-null  object \n",
      " 4   Victim_Age                 20000 non-null  float64\n",
      " 5   Victim_Sex                 20000 non-null  object \n",
      " 6   Victim_Descent             20000 non-null  object \n",
      " 7   Premise_Code               20000 non-null  float64\n",
      " 8   Weapon_Description         20000 non-null  object \n",
      " 9   Area_ID                    20000 non-null  float64\n",
      " 10  Modus_Operandi             17259 non-null  object \n",
      " 11  Part 1-2                   20000 non-null  float64\n",
      " 12  Status                     20000 non-null  object \n",
      " 13  Crime_Category             20000 non-null  object \n",
      "dtypes: float64(6), int64(1), object(7)\n",
      "memory usage: 2.1+ MB\n"
     ]
    }
   ],
   "source": [
    "df.info()"
   ]
  },
  {
   "cell_type": "code",
   "execution_count": 45,
   "id": "767841e0",
   "metadata": {
    "execution": {
     "iopub.execute_input": "2024-06-24T09:52:07.615422Z",
     "iopub.status.busy": "2024-06-24T09:52:07.615013Z",
     "iopub.status.idle": "2024-06-24T09:52:07.663136Z",
     "shell.execute_reply": "2024-06-24T09:52:07.662076Z"
    },
    "papermill": {
     "duration": 0.079833,
     "end_time": "2024-06-24T09:52:07.665689",
     "exception": false,
     "start_time": "2024-06-24T09:52:07.585856",
     "status": "completed"
    },
    "tags": []
   },
   "outputs": [],
   "source": [
    "# def number_of_activities(s):\n",
    "#     activities=[]\n",
    "#     s=str(s)\n",
    "#     a=s.split(' ')\n",
    "#     for i in a:\n",
    "#         if a not in activities:\n",
    "#             activities.append(a)\n",
    "#     return activities\n",
    "\n",
    "def number_of_activities(s):\n",
    "    if pd.isna(s):  # Handle NaN values\n",
    "        return ''\n",
    "    activities = set()  # Using a set to avoid duplicates efficiently\n",
    "    for activity in s.split(' '):\n",
    "        activities.add(str(activity))\n",
    "    activities=' '.join(activities)    \n",
    "    return activities\n",
    "df.loc[:,'Modus_Operandi']=df['Modus_Operandi'].apply(number_of_activities)\n",
    "# df.drop('Modus_Operandi',axis=1)\n",
    "# df['Modus_Operandi']=df['unique_activities']\n",
    "# df.drop('unique_activities',axis=1,inplace=True)"
   ]
  },
  {
   "cell_type": "code",
   "execution_count": 46,
   "id": "fcda9699",
   "metadata": {
    "execution": {
     "iopub.execute_input": "2024-06-24T09:52:07.723360Z",
     "iopub.status.busy": "2024-06-24T09:52:07.722954Z",
     "iopub.status.idle": "2024-06-24T09:52:07.737844Z",
     "shell.execute_reply": "2024-06-24T09:52:07.736797Z"
    },
    "papermill": {
     "duration": 0.046815,
     "end_time": "2024-06-24T09:52:07.740815",
     "exception": false,
     "start_time": "2024-06-24T09:52:07.694000",
     "status": "completed"
    },
    "tags": []
   },
   "outputs": [
    {
     "name": "stderr",
     "output_type": "stream",
     "text": [
      "/tmp/ipykernel_18/3589716598.py:1: SettingWithCopyWarning: \n",
      "A value is trying to be set on a copy of a slice from a DataFrame.\n",
      "Try using .loc[row_indexer,col_indexer] = value instead\n",
      "\n",
      "See the caveats in the documentation: https://pandas.pydata.org/pandas-docs/stable/user_guide/indexing.html#returning-a-view-versus-a-copy\n",
      "  df.loc[:,'max_activity']=df['Modus_Operandi'].apply(lambda x: len(x))\n"
     ]
    }
   ],
   "source": [
    "df.loc[:,'max_activity']=df['Modus_Operandi'].apply(lambda x: len(x))"
   ]
  },
  {
   "cell_type": "code",
   "execution_count": 47,
   "id": "e0c1530c",
   "metadata": {
    "execution": {
     "iopub.execute_input": "2024-06-24T09:52:07.798365Z",
     "iopub.status.busy": "2024-06-24T09:52:07.797977Z",
     "iopub.status.idle": "2024-06-24T09:52:07.814667Z",
     "shell.execute_reply": "2024-06-24T09:52:07.813584Z"
    },
    "papermill": {
     "duration": 0.047977,
     "end_time": "2024-06-24T09:52:07.817157",
     "exception": false,
     "start_time": "2024-06-24T09:52:07.769180",
     "status": "completed"
    },
    "tags": []
   },
   "outputs": [],
   "source": [
    "df.loc[:,'Premise_Code']=df['Premise_Code'].apply(lambda x : int(x))"
   ]
  },
  {
   "cell_type": "code",
   "execution_count": 48,
   "id": "2398f05d",
   "metadata": {
    "execution": {
     "iopub.execute_input": "2024-06-24T09:52:07.875654Z",
     "iopub.status.busy": "2024-06-24T09:52:07.875251Z",
     "iopub.status.idle": "2024-06-24T09:52:07.902209Z",
     "shell.execute_reply": "2024-06-24T09:52:07.901274Z"
    },
    "papermill": {
     "duration": 0.058399,
     "end_time": "2024-06-24T09:52:07.904688",
     "exception": false,
     "start_time": "2024-06-24T09:52:07.846289",
     "status": "completed"
    },
    "tags": []
   },
   "outputs": [],
   "source": [
    "df.loc[:,'Area_ID']=df['Area_ID'].apply(lambda x : int(x))\n",
    "df.loc[:,'Part 1-2']=df['Part 1-2'].apply(lambda x : int(x))\n"
   ]
  },
  {
   "cell_type": "code",
   "execution_count": 49,
   "id": "ef14be2c",
   "metadata": {
    "execution": {
     "iopub.execute_input": "2024-06-24T09:52:07.961765Z",
     "iopub.status.busy": "2024-06-24T09:52:07.961396Z",
     "iopub.status.idle": "2024-06-24T09:52:07.972395Z",
     "shell.execute_reply": "2024-06-24T09:52:07.971394Z"
    },
    "papermill": {
     "duration": 0.042139,
     "end_time": "2024-06-24T09:52:07.974521",
     "exception": false,
     "start_time": "2024-06-24T09:52:07.932382",
     "status": "completed"
    },
    "tags": []
   },
   "outputs": [
    {
     "data": {
      "text/plain": [
       "Victim_Age\n",
       " 0.0     4828\n",
       " 30.0     448\n",
       " 31.0     446\n",
       " 26.0     442\n",
       " 29.0     425\n",
       "         ... \n",
       " 98.0       2\n",
       "-2.0        2\n",
       " 92.0       2\n",
       " 96.0       2\n",
       " 94.0       2\n",
       "Name: count, Length: 100, dtype: int64"
      ]
     },
     "execution_count": 49,
     "metadata": {},
     "output_type": "execute_result"
    }
   ],
   "source": [
    "df['Victim_Age'].value_counts()"
   ]
  },
  {
   "cell_type": "code",
   "execution_count": 50,
   "id": "ff55afc0",
   "metadata": {
    "execution": {
     "iopub.execute_input": "2024-06-24T09:52:08.031887Z",
     "iopub.status.busy": "2024-06-24T09:52:08.031128Z",
     "iopub.status.idle": "2024-06-24T09:52:08.041210Z",
     "shell.execute_reply": "2024-06-24T09:52:08.039832Z"
    },
    "papermill": {
     "duration": 0.041361,
     "end_time": "2024-06-24T09:52:08.043440",
     "exception": false,
     "start_time": "2024-06-24T09:52:08.002079",
     "status": "completed"
    },
    "tags": []
   },
   "outputs": [
    {
     "data": {
      "text/plain": [
       "Victim_Age\n",
       " 0.0     4828\n",
       " 30.0     448\n",
       " 31.0     446\n",
       " 26.0     442\n",
       " 29.0     425\n",
       "         ... \n",
       " 98.0       2\n",
       "-2.0        2\n",
       " 92.0       2\n",
       " 96.0       2\n",
       " 94.0       2\n",
       "Name: count, Length: 100, dtype: int64"
      ]
     },
     "execution_count": 50,
     "metadata": {},
     "output_type": "execute_result"
    }
   ],
   "source": [
    "df['Victim_Age'].value_counts()"
   ]
  },
  {
   "cell_type": "code",
   "execution_count": 51,
   "id": "c1c6b10a",
   "metadata": {
    "execution": {
     "iopub.execute_input": "2024-06-24T09:52:08.102918Z",
     "iopub.status.busy": "2024-06-24T09:52:08.102483Z",
     "iopub.status.idle": "2024-06-24T09:52:08.109145Z",
     "shell.execute_reply": "2024-06-24T09:52:08.107825Z"
    },
    "papermill": {
     "duration": 0.038205,
     "end_time": "2024-06-24T09:52:08.111499",
     "exception": false,
     "start_time": "2024-06-24T09:52:08.073294",
     "status": "completed"
    },
    "tags": []
   },
   "outputs": [],
   "source": [
    "df.loc[df['Victim_Age']<0,'Victim_Age']=0"
   ]
  },
  {
   "cell_type": "code",
   "execution_count": 52,
   "id": "bf5afaea",
   "metadata": {
    "execution": {
     "iopub.execute_input": "2024-06-24T09:52:08.169856Z",
     "iopub.status.busy": "2024-06-24T09:52:08.169475Z",
     "iopub.status.idle": "2024-06-24T09:52:08.178937Z",
     "shell.execute_reply": "2024-06-24T09:52:08.177959Z"
    },
    "papermill": {
     "duration": 0.040843,
     "end_time": "2024-06-24T09:52:08.181182",
     "exception": false,
     "start_time": "2024-06-24T09:52:08.140339",
     "status": "completed"
    },
    "tags": []
   },
   "outputs": [
    {
     "data": {
      "text/plain": [
       "Victim_Age\n",
       "0.0     4834\n",
       "30.0     448\n",
       "31.0     446\n",
       "26.0     442\n",
       "29.0     425\n",
       "        ... \n",
       "93.0       5\n",
       "92.0       2\n",
       "96.0       2\n",
       "98.0       2\n",
       "94.0       2\n",
       "Name: count, Length: 98, dtype: int64"
      ]
     },
     "execution_count": 52,
     "metadata": {},
     "output_type": "execute_result"
    }
   ],
   "source": [
    "df['Victim_Age'].value_counts()"
   ]
  },
  {
   "cell_type": "code",
   "execution_count": 53,
   "id": "3c0adb13",
   "metadata": {
    "execution": {
     "iopub.execute_input": "2024-06-24T09:52:08.239240Z",
     "iopub.status.busy": "2024-06-24T09:52:08.238445Z",
     "iopub.status.idle": "2024-06-24T09:52:08.245859Z",
     "shell.execute_reply": "2024-06-24T09:52:08.244652Z"
    },
    "papermill": {
     "duration": 0.038654,
     "end_time": "2024-06-24T09:52:08.248109",
     "exception": false,
     "start_time": "2024-06-24T09:52:08.209455",
     "status": "completed"
    },
    "tags": []
   },
   "outputs": [
    {
     "data": {
      "text/plain": [
       "30.1354"
      ]
     },
     "execution_count": 53,
     "metadata": {},
     "output_type": "execute_result"
    }
   ],
   "source": [
    "df['Victim_Age'].mean()"
   ]
  },
  {
   "cell_type": "code",
   "execution_count": 54,
   "id": "0b6a4eb4",
   "metadata": {
    "execution": {
     "iopub.execute_input": "2024-06-24T09:52:08.306612Z",
     "iopub.status.busy": "2024-06-24T09:52:08.305940Z",
     "iopub.status.idle": "2024-06-24T09:52:08.557358Z",
     "shell.execute_reply": "2024-06-24T09:52:08.556232Z"
    },
    "papermill": {
     "duration": 0.283006,
     "end_time": "2024-06-24T09:52:08.559670",
     "exception": false,
     "start_time": "2024-06-24T09:52:08.276664",
     "status": "completed"
    },
    "tags": []
   },
   "outputs": [
    {
     "data": {
      "text/plain": [
       "<Axes: ylabel='Frequency'>"
      ]
     },
     "execution_count": 54,
     "metadata": {},
     "output_type": "execute_result"
    },
    {
     "data": {
      "image/png": "[encoded data removed]",
      "text/plain": [
       "<Figure size 640x480 with 1 Axes>"
      ]
     },
     "metadata": {},
     "output_type": "display_data"
    }
   ],
   "source": [
    "df['Victim_Age'].plot.hist()"
   ]
  },
  {
   "cell_type": "code",
   "execution_count": 55,
   "id": "dc378b8d",
   "metadata": {
    "execution": {
     "iopub.execute_input": "2024-06-24T09:52:08.618336Z",
     "iopub.status.busy": "2024-06-24T09:52:08.617419Z",
     "iopub.status.idle": "2024-06-24T09:52:08.653335Z",
     "shell.execute_reply": "2024-06-24T09:52:08.652217Z"
    },
    "papermill": {
     "duration": 0.067877,
     "end_time": "2024-06-24T09:52:08.655789",
     "exception": false,
     "start_time": "2024-06-24T09:52:08.587912",
     "status": "completed"
    },
    "tags": []
   },
   "outputs": [
    {
     "data": {
      "text/html": [
       "<div>\n",
       "<style scoped>\n",
       "    .dataframe tbody tr th:only-of-type {\n",
       "        vertical-align: middle;\n",
       "    }\n",
       "\n",
       "    .dataframe tbody tr th {\n",
       "        vertical-align: top;\n",
       "    }\n",
       "\n",
       "    .dataframe thead th {\n",
       "        text-align: right;\n",
       "    }\n",
       "</style>\n",
       "<table border=\"1\" class=\"dataframe\">\n",
       "  <thead>\n",
       "    <tr style=\"text-align: right;\">\n",
       "      <th></th>\n",
       "      <th>Latitude</th>\n",
       "      <th>Longitude</th>\n",
       "      <th>reporting_delay_day_count</th>\n",
       "      <th>Victim_Age</th>\n",
       "      <th>Premise_Code</th>\n",
       "      <th>Area_ID</th>\n",
       "      <th>Part 1-2</th>\n",
       "      <th>max_activity</th>\n",
       "    </tr>\n",
       "  </thead>\n",
       "  <tbody>\n",
       "    <tr>\n",
       "      <th>count</th>\n",
       "      <td>20000.000000</td>\n",
       "      <td>20000.000000</td>\n",
       "      <td>20000.000000</td>\n",
       "      <td>20000.00000</td>\n",
       "      <td>20000.000000</td>\n",
       "      <td>20000.000000</td>\n",
       "      <td>20000.000000</td>\n",
       "      <td>20000.000000</td>\n",
       "    </tr>\n",
       "    <tr>\n",
       "      <th>mean</th>\n",
       "      <td>33.940704</td>\n",
       "      <td>-117.893072</td>\n",
       "      <td>22.120000</td>\n",
       "      <td>30.13540</td>\n",
       "      <td>297.176950</td>\n",
       "      <td>10.834250</td>\n",
       "      <td>1.418150</td>\n",
       "      <td>14.633300</td>\n",
       "    </tr>\n",
       "    <tr>\n",
       "      <th>std</th>\n",
       "      <td>2.126810</td>\n",
       "      <td>7.377726</td>\n",
       "      <td>116.418619</td>\n",
       "      <td>21.86308</td>\n",
       "      <td>212.007298</td>\n",
       "      <td>6.033166</td>\n",
       "      <td>0.493267</td>\n",
       "      <td>11.527028</td>\n",
       "    </tr>\n",
       "    <tr>\n",
       "      <th>min</th>\n",
       "      <td>0.000000</td>\n",
       "      <td>-118.663400</td>\n",
       "      <td>0.000000</td>\n",
       "      <td>0.00000</td>\n",
       "      <td>101.000000</td>\n",
       "      <td>1.000000</td>\n",
       "      <td>1.000000</td>\n",
       "      <td>0.000000</td>\n",
       "    </tr>\n",
       "    <tr>\n",
       "      <th>25%</th>\n",
       "      <td>34.009200</td>\n",
       "      <td>-118.429700</td>\n",
       "      <td>0.000000</td>\n",
       "      <td>12.00000</td>\n",
       "      <td>101.000000</td>\n",
       "      <td>6.000000</td>\n",
       "      <td>1.000000</td>\n",
       "      <td>4.000000</td>\n",
       "    </tr>\n",
       "    <tr>\n",
       "      <th>50%</th>\n",
       "      <td>34.058700</td>\n",
       "      <td>-118.323000</td>\n",
       "      <td>0.000000</td>\n",
       "      <td>31.00000</td>\n",
       "      <td>203.000000</td>\n",
       "      <td>11.000000</td>\n",
       "      <td>1.000000</td>\n",
       "      <td>14.000000</td>\n",
       "    </tr>\n",
       "    <tr>\n",
       "      <th>75%</th>\n",
       "      <td>34.165025</td>\n",
       "      <td>-118.274400</td>\n",
       "      <td>2.000000</td>\n",
       "      <td>46.00000</td>\n",
       "      <td>501.000000</td>\n",
       "      <td>16.000000</td>\n",
       "      <td>2.000000</td>\n",
       "      <td>19.000000</td>\n",
       "    </tr>\n",
       "    <tr>\n",
       "      <th>max</th>\n",
       "      <td>34.328100</td>\n",
       "      <td>0.000000</td>\n",
       "      <td>1437.000000</td>\n",
       "      <td>99.00000</td>\n",
       "      <td>969.000000</td>\n",
       "      <td>21.000000</td>\n",
       "      <td>2.000000</td>\n",
       "      <td>49.000000</td>\n",
       "    </tr>\n",
       "  </tbody>\n",
       "</table>\n",
       "</div>"
      ],
      "text/plain": [
       "           Latitude     Longitude  reporting_delay_day_count   Victim_Age  \\\n",
       "count  20000.000000  20000.000000               20000.000000  20000.00000   \n",
       "mean      33.940704   -117.893072                  22.120000     30.13540   \n",
       "std        2.126810      7.377726                 116.418619     21.86308   \n",
       "min        0.000000   -118.663400                   0.000000      0.00000   \n",
       "25%       34.009200   -118.429700                   0.000000     12.00000   \n",
       "50%       34.058700   -118.323000                   0.000000     31.00000   \n",
       "75%       34.165025   -118.274400                   2.000000     46.00000   \n",
       "max       34.328100      0.000000                1437.000000     99.00000   \n",
       "\n",
       "       Premise_Code       Area_ID      Part 1-2  max_activity  \n",
       "count  20000.000000  20000.000000  20000.000000  20000.000000  \n",
       "mean     297.176950     10.834250      1.418150     14.633300  \n",
       "std      212.007298      6.033166      0.493267     11.527028  \n",
       "min      101.000000      1.000000      1.000000      0.000000  \n",
       "25%      101.000000      6.000000      1.000000      4.000000  \n",
       "50%      203.000000     11.000000      1.000000     14.000000  \n",
       "75%      501.000000     16.000000      2.000000     19.000000  \n",
       "max      969.000000     21.000000      2.000000     49.000000  "
      ]
     },
     "execution_count": 55,
     "metadata": {},
     "output_type": "execute_result"
    }
   ],
   "source": [
    "df.describe()"
   ]
  },
  {
   "cell_type": "code",
   "execution_count": 56,
   "id": "82bf13fa",
   "metadata": {
    "execution": {
     "iopub.execute_input": "2024-06-24T09:52:08.715991Z",
     "iopub.status.busy": "2024-06-24T09:52:08.715013Z",
     "iopub.status.idle": "2024-06-24T09:52:08.722036Z",
     "shell.execute_reply": "2024-06-24T09:52:08.720924Z"
    },
    "papermill": {
     "duration": 0.039399,
     "end_time": "2024-06-24T09:52:08.724308",
     "exception": false,
     "start_time": "2024-06-24T09:52:08.684909",
     "status": "completed"
    },
    "tags": []
   },
   "outputs": [],
   "source": [
    "df.loc[df['Victim_Age']==0,'Victim_Age']=df['Victim_Age'].mean()"
   ]
  },
  {
   "cell_type": "code",
   "execution_count": 57,
   "id": "bc00778e",
   "metadata": {
    "execution": {
     "iopub.execute_input": "2024-06-24T09:52:08.786727Z",
     "iopub.status.busy": "2024-06-24T09:52:08.786358Z",
     "iopub.status.idle": "2024-06-24T09:52:08.989387Z",
     "shell.execute_reply": "2024-06-24T09:52:08.988213Z"
    },
    "papermill": {
     "duration": 0.23724,
     "end_time": "2024-06-24T09:52:08.991801",
     "exception": false,
     "start_time": "2024-06-24T09:52:08.754561",
     "status": "completed"
    },
    "tags": []
   },
   "outputs": [
    {
     "data": {
      "text/plain": [
       "<Axes: ylabel='Frequency'>"
      ]
     },
     "execution_count": 57,
     "metadata": {},
     "output_type": "execute_result"
    },
    {
     "data": {
      "image/png": "[encoded data removed]",
      "text/plain": [
       "<Figure size 640x480 with 1 Axes>"
      ]
     },
     "metadata": {},
     "output_type": "display_data"
    }
   ],
   "source": [
    "df['Victim_Age'].plot.hist()"
   ]
  },
  {
   "cell_type": "code",
   "execution_count": 58,
   "id": "b615a4a1",
   "metadata": {
    "execution": {
     "iopub.execute_input": "2024-06-24T09:52:09.057324Z",
     "iopub.status.busy": "2024-06-24T09:52:09.056917Z",
     "iopub.status.idle": "2024-06-24T09:52:09.068156Z",
     "shell.execute_reply": "2024-06-24T09:52:09.067118Z"
    },
    "papermill": {
     "duration": 0.051317,
     "end_time": "2024-06-24T09:52:09.072444",
     "exception": false,
     "start_time": "2024-06-24T09:52:09.021127",
     "status": "completed"
    },
    "tags": []
   },
   "outputs": [
    {
     "data": {
      "text/plain": [
       "Part 1-2\n",
       "1.0    11637\n",
       "2.0     8363\n",
       "Name: count, dtype: int64"
      ]
     },
     "execution_count": 58,
     "metadata": {},
     "output_type": "execute_result"
    }
   ],
   "source": [
    "df['Part 1-2'].value_counts()"
   ]
  },
  {
   "cell_type": "code",
   "execution_count": 59,
   "id": "864e80c7",
   "metadata": {
    "execution": {
     "iopub.execute_input": "2024-06-24T09:52:09.145376Z",
     "iopub.status.busy": "2024-06-24T09:52:09.144957Z",
     "iopub.status.idle": "2024-06-24T09:52:09.162078Z",
     "shell.execute_reply": "2024-06-24T09:52:09.161081Z"
    },
    "papermill": {
     "duration": 0.050557,
     "end_time": "2024-06-24T09:52:09.164418",
     "exception": false,
     "start_time": "2024-06-24T09:52:09.113861",
     "status": "completed"
    },
    "tags": []
   },
   "outputs": [],
   "source": [
    "df.loc[:,'Part 1-2']=df['Part 1-2'].apply(lambda x: int(x))"
   ]
  },
  {
   "cell_type": "code",
   "execution_count": 60,
   "id": "eedc410c",
   "metadata": {
    "execution": {
     "iopub.execute_input": "2024-06-24T09:52:09.224588Z",
     "iopub.status.busy": "2024-06-24T09:52:09.224231Z",
     "iopub.status.idle": "2024-06-24T09:52:09.247599Z",
     "shell.execute_reply": "2024-06-24T09:52:09.246514Z"
    },
    "papermill": {
     "duration": 0.05622,
     "end_time": "2024-06-24T09:52:09.250092",
     "exception": false,
     "start_time": "2024-06-24T09:52:09.193872",
     "status": "completed"
    },
    "tags": []
   },
   "outputs": [
    {
     "data": {
      "text/html": [
       "<div>\n",
       "<style scoped>\n",
       "    .dataframe tbody tr th:only-of-type {\n",
       "        vertical-align: middle;\n",
       "    }\n",
       "\n",
       "    .dataframe tbody tr th {\n",
       "        vertical-align: top;\n",
       "    }\n",
       "\n",
       "    .dataframe thead th {\n",
       "        text-align: right;\n",
       "    }\n",
       "</style>\n",
       "<table border=\"1\" class=\"dataframe\">\n",
       "  <thead>\n",
       "    <tr style=\"text-align: right;\">\n",
       "      <th></th>\n",
       "      <th>Latitude</th>\n",
       "      <th>Longitude</th>\n",
       "      <th>reporting_delay_day_count</th>\n",
       "      <th>day_category</th>\n",
       "      <th>Victim_Age</th>\n",
       "      <th>Victim_Sex</th>\n",
       "      <th>Victim_Descent</th>\n",
       "      <th>Premise_Code</th>\n",
       "      <th>Weapon_Description</th>\n",
       "      <th>Area_ID</th>\n",
       "      <th>Modus_Operandi</th>\n",
       "      <th>Part 1-2</th>\n",
       "      <th>Status</th>\n",
       "      <th>Crime_Category</th>\n",
       "      <th>max_activity</th>\n",
       "    </tr>\n",
       "  </thead>\n",
       "  <tbody>\n",
       "    <tr>\n",
       "      <th>0</th>\n",
       "      <td>34.1522</td>\n",
       "      <td>-118.3910</td>\n",
       "      <td>3</td>\n",
       "      <td>Evening</td>\n",
       "      <td>75.0000</td>\n",
       "      <td>M</td>\n",
       "      <td>W</td>\n",
       "      <td>101.0</td>\n",
       "      <td>UNKNOWN FIREARM</td>\n",
       "      <td>15.0</td>\n",
       "      <td>0385</td>\n",
       "      <td>1.0</td>\n",
       "      <td>IC</td>\n",
       "      <td>Property Crimes</td>\n",
       "      <td>4</td>\n",
       "    </tr>\n",
       "    <tr>\n",
       "      <th>1</th>\n",
       "      <td>34.0028</td>\n",
       "      <td>-118.2391</td>\n",
       "      <td>0</td>\n",
       "      <td>Daytime</td>\n",
       "      <td>41.0000</td>\n",
       "      <td>M</td>\n",
       "      <td>H</td>\n",
       "      <td>216.0</td>\n",
       "      <td>STRONG-ARM (HANDS, FIST, FEET OR BODILY FORCE)</td>\n",
       "      <td>13.0</td>\n",
       "      <td>0906 0352 0446 0371 0344 0417 0416 1822</td>\n",
       "      <td>1.0</td>\n",
       "      <td>IC</td>\n",
       "      <td>Property Crimes</td>\n",
       "      <td>39</td>\n",
       "    </tr>\n",
       "    <tr>\n",
       "      <th>2</th>\n",
       "      <td>34.0111</td>\n",
       "      <td>-118.2653</td>\n",
       "      <td>0</td>\n",
       "      <td>Morning</td>\n",
       "      <td>67.0000</td>\n",
       "      <td>M</td>\n",
       "      <td>B</td>\n",
       "      <td>501.0</td>\n",
       "      <td>STRONG-ARM (HANDS, FIST, FEET OR BODILY FORCE)</td>\n",
       "      <td>13.0</td>\n",
       "      <td>1202 0329</td>\n",
       "      <td>2.0</td>\n",
       "      <td>IC</td>\n",
       "      <td>Property Crimes</td>\n",
       "      <td>9</td>\n",
       "    </tr>\n",
       "    <tr>\n",
       "      <th>3</th>\n",
       "      <td>34.2953</td>\n",
       "      <td>-118.4590</td>\n",
       "      <td>2</td>\n",
       "      <td>Evening</td>\n",
       "      <td>61.0000</td>\n",
       "      <td>M</td>\n",
       "      <td>H</td>\n",
       "      <td>101.0</td>\n",
       "      <td>HAND GUN</td>\n",
       "      <td>19.0</td>\n",
       "      <td>1300 0329</td>\n",
       "      <td>1.0</td>\n",
       "      <td>IC</td>\n",
       "      <td>Property Crimes</td>\n",
       "      <td>9</td>\n",
       "    </tr>\n",
       "    <tr>\n",
       "      <th>4</th>\n",
       "      <td>33.9787</td>\n",
       "      <td>-118.2918</td>\n",
       "      <td>0</td>\n",
       "      <td>Morning</td>\n",
       "      <td>30.1354</td>\n",
       "      <td>X</td>\n",
       "      <td>X</td>\n",
       "      <td>401.0</td>\n",
       "      <td>STRONG-ARM (HANDS, FIST, FEET OR BODILY FORCE)</td>\n",
       "      <td>12.0</td>\n",
       "      <td>0400 0945 0344 0417 0416 1822</td>\n",
       "      <td>1.0</td>\n",
       "      <td>IC</td>\n",
       "      <td>Property Crimes</td>\n",
       "      <td>29</td>\n",
       "    </tr>\n",
       "    <tr>\n",
       "      <th>...</th>\n",
       "      <td>...</td>\n",
       "      <td>...</td>\n",
       "      <td>...</td>\n",
       "      <td>...</td>\n",
       "      <td>...</td>\n",
       "      <td>...</td>\n",
       "      <td>...</td>\n",
       "      <td>...</td>\n",
       "      <td>...</td>\n",
       "      <td>...</td>\n",
       "      <td>...</td>\n",
       "      <td>...</td>\n",
       "      <td>...</td>\n",
       "      <td>...</td>\n",
       "      <td>...</td>\n",
       "    </tr>\n",
       "    <tr>\n",
       "      <th>19995</th>\n",
       "      <td>34.0334</td>\n",
       "      <td>-118.3523</td>\n",
       "      <td>0</td>\n",
       "      <td>Morning</td>\n",
       "      <td>51.0000</td>\n",
       "      <td>M</td>\n",
       "      <td>H</td>\n",
       "      <td>501.0</td>\n",
       "      <td>STRONG-ARM (HANDS, FIST, FEET OR BODILY FORCE)</td>\n",
       "      <td>3.0</td>\n",
       "      <td>0913 0446 0416 2004</td>\n",
       "      <td>2.0</td>\n",
       "      <td>IC</td>\n",
       "      <td>Violent Crimes</td>\n",
       "      <td>19</td>\n",
       "    </tr>\n",
       "    <tr>\n",
       "      <th>19996</th>\n",
       "      <td>34.2212</td>\n",
       "      <td>-118.5011</td>\n",
       "      <td>0</td>\n",
       "      <td>Night</td>\n",
       "      <td>30.1354</td>\n",
       "      <td>M</td>\n",
       "      <td>W</td>\n",
       "      <td>301.0</td>\n",
       "      <td>VERBAL THREAT</td>\n",
       "      <td>10.0</td>\n",
       "      <td>1420 1414 0344 0209 1822</td>\n",
       "      <td>1.0</td>\n",
       "      <td>IC</td>\n",
       "      <td>Property Crimes</td>\n",
       "      <td>24</td>\n",
       "    </tr>\n",
       "    <tr>\n",
       "      <th>19997</th>\n",
       "      <td>34.0571</td>\n",
       "      <td>-118.3815</td>\n",
       "      <td>0</td>\n",
       "      <td>Daytime</td>\n",
       "      <td>42.0000</td>\n",
       "      <td>M</td>\n",
       "      <td>H</td>\n",
       "      <td>102.0</td>\n",
       "      <td>STRONG-ARM (HANDS, FIST, FEET OR BODILY FORCE)</td>\n",
       "      <td>8.0</td>\n",
       "      <td>1420 1822 0344</td>\n",
       "      <td>1.0</td>\n",
       "      <td>IC</td>\n",
       "      <td>Property Crimes</td>\n",
       "      <td>14</td>\n",
       "    </tr>\n",
       "    <tr>\n",
       "      <th>19998</th>\n",
       "      <td>33.7451</td>\n",
       "      <td>-118.2835</td>\n",
       "      <td>0</td>\n",
       "      <td>Morning</td>\n",
       "      <td>76.0000</td>\n",
       "      <td>F</td>\n",
       "      <td>H</td>\n",
       "      <td>501.0</td>\n",
       "      <td>MACE/PEPPER SPRAY</td>\n",
       "      <td>5.0</td>\n",
       "      <td>1242 0602 1202 2038 0913 0553</td>\n",
       "      <td>2.0</td>\n",
       "      <td>IC</td>\n",
       "      <td>Crimes against Public Order</td>\n",
       "      <td>29</td>\n",
       "    </tr>\n",
       "    <tr>\n",
       "      <th>19999</th>\n",
       "      <td>34.0037</td>\n",
       "      <td>-118.3034</td>\n",
       "      <td>1</td>\n",
       "      <td>Evening</td>\n",
       "      <td>30.1354</td>\n",
       "      <td>X</td>\n",
       "      <td>W</td>\n",
       "      <td>101.0</td>\n",
       "      <td>STRONG-ARM (HANDS, FIST, FEET OR BODILY FORCE)</td>\n",
       "      <td>3.0</td>\n",
       "      <td></td>\n",
       "      <td>1.0</td>\n",
       "      <td>IC</td>\n",
       "      <td>Property Crimes</td>\n",
       "      <td>0</td>\n",
       "    </tr>\n",
       "  </tbody>\n",
       "</table>\n",
       "<p>20000 rows × 15 columns</p>\n",
       "</div>"
      ],
      "text/plain": [
       "       Latitude  Longitude  reporting_delay_day_count day_category  \\\n",
       "0       34.1522  -118.3910                          3      Evening   \n",
       "1       34.0028  -118.2391                          0      Daytime   \n",
       "2       34.0111  -118.2653                          0      Morning   \n",
       "3       34.2953  -118.4590                          2      Evening   \n",
       "4       33.9787  -118.2918                          0      Morning   \n",
       "...         ...        ...                        ...          ...   \n",
       "19995   34.0334  -118.3523                          0      Morning   \n",
       "19996   34.2212  -118.5011                          0        Night   \n",
       "19997   34.0571  -118.3815                          0      Daytime   \n",
       "19998   33.7451  -118.2835                          0      Morning   \n",
       "19999   34.0037  -118.3034                          1      Evening   \n",
       "\n",
       "       Victim_Age Victim_Sex Victim_Descent  Premise_Code  \\\n",
       "0         75.0000          M              W         101.0   \n",
       "1         41.0000          M              H         216.0   \n",
       "2         67.0000          M              B         501.0   \n",
       "3         61.0000          M              H         101.0   \n",
       "4         30.1354          X              X         401.0   \n",
       "...           ...        ...            ...           ...   \n",
       "19995     51.0000          M              H         501.0   \n",
       "19996     30.1354          M              W         301.0   \n",
       "19997     42.0000          M              H         102.0   \n",
       "19998     76.0000          F              H         501.0   \n",
       "19999     30.1354          X              W         101.0   \n",
       "\n",
       "                                   Weapon_Description  Area_ID  \\\n",
       "0                                     UNKNOWN FIREARM     15.0   \n",
       "1      STRONG-ARM (HANDS, FIST, FEET OR BODILY FORCE)     13.0   \n",
       "2      STRONG-ARM (HANDS, FIST, FEET OR BODILY FORCE)     13.0   \n",
       "3                                            HAND GUN     19.0   \n",
       "4      STRONG-ARM (HANDS, FIST, FEET OR BODILY FORCE)     12.0   \n",
       "...                                               ...      ...   \n",
       "19995  STRONG-ARM (HANDS, FIST, FEET OR BODILY FORCE)      3.0   \n",
       "19996                                   VERBAL THREAT     10.0   \n",
       "19997  STRONG-ARM (HANDS, FIST, FEET OR BODILY FORCE)      8.0   \n",
       "19998                               MACE/PEPPER SPRAY      5.0   \n",
       "19999  STRONG-ARM (HANDS, FIST, FEET OR BODILY FORCE)      3.0   \n",
       "\n",
       "                                Modus_Operandi  Part 1-2 Status  \\\n",
       "0                                         0385       1.0     IC   \n",
       "1      0906 0352 0446 0371 0344 0417 0416 1822       1.0     IC   \n",
       "2                                    1202 0329       2.0     IC   \n",
       "3                                    1300 0329       1.0     IC   \n",
       "4                0400 0945 0344 0417 0416 1822       1.0     IC   \n",
       "...                                        ...       ...    ...   \n",
       "19995                      0913 0446 0416 2004       2.0     IC   \n",
       "19996                 1420 1414 0344 0209 1822       1.0     IC   \n",
       "19997                           1420 1822 0344       1.0     IC   \n",
       "19998            1242 0602 1202 2038 0913 0553       2.0     IC   \n",
       "19999                                                1.0     IC   \n",
       "\n",
       "                    Crime_Category  max_activity  \n",
       "0                  Property Crimes             4  \n",
       "1                  Property Crimes            39  \n",
       "2                  Property Crimes             9  \n",
       "3                  Property Crimes             9  \n",
       "4                  Property Crimes            29  \n",
       "...                            ...           ...  \n",
       "19995               Violent Crimes            19  \n",
       "19996              Property Crimes            24  \n",
       "19997              Property Crimes            14  \n",
       "19998  Crimes against Public Order            29  \n",
       "19999              Property Crimes             0  \n",
       "\n",
       "[20000 rows x 15 columns]"
      ]
     },
     "execution_count": 60,
     "metadata": {},
     "output_type": "execute_result"
    }
   ],
   "source": [
    "df"
   ]
  },
  {
   "cell_type": "code",
   "execution_count": 61,
   "id": "5df671c9",
   "metadata": {
    "execution": {
     "iopub.execute_input": "2024-06-24T09:52:09.312190Z",
     "iopub.status.busy": "2024-06-24T09:52:09.311799Z",
     "iopub.status.idle": "2024-06-24T09:52:09.327902Z",
     "shell.execute_reply": "2024-06-24T09:52:09.326994Z"
    },
    "papermill": {
     "duration": 0.050325,
     "end_time": "2024-06-24T09:52:09.330437",
     "exception": false,
     "start_time": "2024-06-24T09:52:09.280112",
     "status": "completed"
    },
    "tags": []
   },
   "outputs": [],
   "source": [
    "df.loc[:,'Victim_Age']=df['Victim_Age'].apply(lambda x: int(x))"
   ]
  },
  {
   "cell_type": "code",
   "execution_count": 62,
   "id": "655ccae9",
   "metadata": {
    "execution": {
     "iopub.execute_input": "2024-06-24T09:52:09.393426Z",
     "iopub.status.busy": "2024-06-24T09:52:09.393015Z",
     "iopub.status.idle": "2024-06-24T09:52:09.409057Z",
     "shell.execute_reply": "2024-06-24T09:52:09.407829Z"
    },
    "papermill": {
     "duration": 0.050325,
     "end_time": "2024-06-24T09:52:09.411405",
     "exception": false,
     "start_time": "2024-06-24T09:52:09.361080",
     "status": "completed"
    },
    "tags": []
   },
   "outputs": [
    {
     "data": {
      "text/plain": [
       "Latitude                     0\n",
       "Longitude                    0\n",
       "reporting_delay_day_count    0\n",
       "day_category                 0\n",
       "Victim_Age                   0\n",
       "Victim_Sex                   0\n",
       "Victim_Descent               0\n",
       "Premise_Code                 0\n",
       "Weapon_Description           0\n",
       "Area_ID                      0\n",
       "Modus_Operandi               0\n",
       "Part 1-2                     0\n",
       "Status                       0\n",
       "Crime_Category               0\n",
       "max_activity                 0\n",
       "dtype: int64"
      ]
     },
     "execution_count": 62,
     "metadata": {},
     "output_type": "execute_result"
    }
   ],
   "source": [
    "df.isnull().sum()"
   ]
  },
  {
   "cell_type": "code",
   "execution_count": 63,
   "id": "f59ba95e",
   "metadata": {
    "execution": {
     "iopub.execute_input": "2024-06-24T09:52:09.472830Z",
     "iopub.status.busy": "2024-06-24T09:52:09.472461Z",
     "iopub.status.idle": "2024-06-24T09:52:09.496160Z",
     "shell.execute_reply": "2024-06-24T09:52:09.494902Z"
    },
    "papermill": {
     "duration": 0.056847,
     "end_time": "2024-06-24T09:52:09.498412",
     "exception": false,
     "start_time": "2024-06-24T09:52:09.441565",
     "status": "completed"
    },
    "tags": []
   },
   "outputs": [
    {
     "data": {
      "text/html": [
       "<div>\n",
       "<style scoped>\n",
       "    .dataframe tbody tr th:only-of-type {\n",
       "        vertical-align: middle;\n",
       "    }\n",
       "\n",
       "    .dataframe tbody tr th {\n",
       "        vertical-align: top;\n",
       "    }\n",
       "\n",
       "    .dataframe thead th {\n",
       "        text-align: right;\n",
       "    }\n",
       "</style>\n",
       "<table border=\"1\" class=\"dataframe\">\n",
       "  <thead>\n",
       "    <tr style=\"text-align: right;\">\n",
       "      <th></th>\n",
       "      <th>Latitude</th>\n",
       "      <th>Longitude</th>\n",
       "      <th>reporting_delay_day_count</th>\n",
       "      <th>day_category</th>\n",
       "      <th>Victim_Age</th>\n",
       "      <th>Victim_Sex</th>\n",
       "      <th>Victim_Descent</th>\n",
       "      <th>Premise_Code</th>\n",
       "      <th>Weapon_Description</th>\n",
       "      <th>Area_ID</th>\n",
       "      <th>Modus_Operandi</th>\n",
       "      <th>Part 1-2</th>\n",
       "      <th>Status</th>\n",
       "      <th>Crime_Category</th>\n",
       "      <th>max_activity</th>\n",
       "    </tr>\n",
       "  </thead>\n",
       "  <tbody>\n",
       "    <tr>\n",
       "      <th>0</th>\n",
       "      <td>34.1522</td>\n",
       "      <td>-118.3910</td>\n",
       "      <td>3</td>\n",
       "      <td>Evening</td>\n",
       "      <td>75.0</td>\n",
       "      <td>M</td>\n",
       "      <td>W</td>\n",
       "      <td>101.0</td>\n",
       "      <td>UNKNOWN FIREARM</td>\n",
       "      <td>15.0</td>\n",
       "      <td>0385</td>\n",
       "      <td>1.0</td>\n",
       "      <td>IC</td>\n",
       "      <td>Property Crimes</td>\n",
       "      <td>4</td>\n",
       "    </tr>\n",
       "    <tr>\n",
       "      <th>1</th>\n",
       "      <td>34.0028</td>\n",
       "      <td>-118.2391</td>\n",
       "      <td>0</td>\n",
       "      <td>Daytime</td>\n",
       "      <td>41.0</td>\n",
       "      <td>M</td>\n",
       "      <td>H</td>\n",
       "      <td>216.0</td>\n",
       "      <td>STRONG-ARM (HANDS, FIST, FEET OR BODILY FORCE)</td>\n",
       "      <td>13.0</td>\n",
       "      <td>0906 0352 0446 0371 0344 0417 0416 1822</td>\n",
       "      <td>1.0</td>\n",
       "      <td>IC</td>\n",
       "      <td>Property Crimes</td>\n",
       "      <td>39</td>\n",
       "    </tr>\n",
       "    <tr>\n",
       "      <th>2</th>\n",
       "      <td>34.0111</td>\n",
       "      <td>-118.2653</td>\n",
       "      <td>0</td>\n",
       "      <td>Morning</td>\n",
       "      <td>67.0</td>\n",
       "      <td>M</td>\n",
       "      <td>B</td>\n",
       "      <td>501.0</td>\n",
       "      <td>STRONG-ARM (HANDS, FIST, FEET OR BODILY FORCE)</td>\n",
       "      <td>13.0</td>\n",
       "      <td>1202 0329</td>\n",
       "      <td>2.0</td>\n",
       "      <td>IC</td>\n",
       "      <td>Property Crimes</td>\n",
       "      <td>9</td>\n",
       "    </tr>\n",
       "    <tr>\n",
       "      <th>3</th>\n",
       "      <td>34.2953</td>\n",
       "      <td>-118.4590</td>\n",
       "      <td>2</td>\n",
       "      <td>Evening</td>\n",
       "      <td>61.0</td>\n",
       "      <td>M</td>\n",
       "      <td>H</td>\n",
       "      <td>101.0</td>\n",
       "      <td>HAND GUN</td>\n",
       "      <td>19.0</td>\n",
       "      <td>1300 0329</td>\n",
       "      <td>1.0</td>\n",
       "      <td>IC</td>\n",
       "      <td>Property Crimes</td>\n",
       "      <td>9</td>\n",
       "    </tr>\n",
       "    <tr>\n",
       "      <th>4</th>\n",
       "      <td>33.9787</td>\n",
       "      <td>-118.2918</td>\n",
       "      <td>0</td>\n",
       "      <td>Morning</td>\n",
       "      <td>30.0</td>\n",
       "      <td>X</td>\n",
       "      <td>X</td>\n",
       "      <td>401.0</td>\n",
       "      <td>STRONG-ARM (HANDS, FIST, FEET OR BODILY FORCE)</td>\n",
       "      <td>12.0</td>\n",
       "      <td>0400 0945 0344 0417 0416 1822</td>\n",
       "      <td>1.0</td>\n",
       "      <td>IC</td>\n",
       "      <td>Property Crimes</td>\n",
       "      <td>29</td>\n",
       "    </tr>\n",
       "    <tr>\n",
       "      <th>...</th>\n",
       "      <td>...</td>\n",
       "      <td>...</td>\n",
       "      <td>...</td>\n",
       "      <td>...</td>\n",
       "      <td>...</td>\n",
       "      <td>...</td>\n",
       "      <td>...</td>\n",
       "      <td>...</td>\n",
       "      <td>...</td>\n",
       "      <td>...</td>\n",
       "      <td>...</td>\n",
       "      <td>...</td>\n",
       "      <td>...</td>\n",
       "      <td>...</td>\n",
       "      <td>...</td>\n",
       "    </tr>\n",
       "    <tr>\n",
       "      <th>19995</th>\n",
       "      <td>34.0334</td>\n",
       "      <td>-118.3523</td>\n",
       "      <td>0</td>\n",
       "      <td>Morning</td>\n",
       "      <td>51.0</td>\n",
       "      <td>M</td>\n",
       "      <td>H</td>\n",
       "      <td>501.0</td>\n",
       "      <td>STRONG-ARM (HANDS, FIST, FEET OR BODILY FORCE)</td>\n",
       "      <td>3.0</td>\n",
       "      <td>0913 0446 0416 2004</td>\n",
       "      <td>2.0</td>\n",
       "      <td>IC</td>\n",
       "      <td>Violent Crimes</td>\n",
       "      <td>19</td>\n",
       "    </tr>\n",
       "    <tr>\n",
       "      <th>19996</th>\n",
       "      <td>34.2212</td>\n",
       "      <td>-118.5011</td>\n",
       "      <td>0</td>\n",
       "      <td>Night</td>\n",
       "      <td>30.0</td>\n",
       "      <td>M</td>\n",
       "      <td>W</td>\n",
       "      <td>301.0</td>\n",
       "      <td>VERBAL THREAT</td>\n",
       "      <td>10.0</td>\n",
       "      <td>1420 1414 0344 0209 1822</td>\n",
       "      <td>1.0</td>\n",
       "      <td>IC</td>\n",
       "      <td>Property Crimes</td>\n",
       "      <td>24</td>\n",
       "    </tr>\n",
       "    <tr>\n",
       "      <th>19997</th>\n",
       "      <td>34.0571</td>\n",
       "      <td>-118.3815</td>\n",
       "      <td>0</td>\n",
       "      <td>Daytime</td>\n",
       "      <td>42.0</td>\n",
       "      <td>M</td>\n",
       "      <td>H</td>\n",
       "      <td>102.0</td>\n",
       "      <td>STRONG-ARM (HANDS, FIST, FEET OR BODILY FORCE)</td>\n",
       "      <td>8.0</td>\n",
       "      <td>1420 1822 0344</td>\n",
       "      <td>1.0</td>\n",
       "      <td>IC</td>\n",
       "      <td>Property Crimes</td>\n",
       "      <td>14</td>\n",
       "    </tr>\n",
       "    <tr>\n",
       "      <th>19998</th>\n",
       "      <td>33.7451</td>\n",
       "      <td>-118.2835</td>\n",
       "      <td>0</td>\n",
       "      <td>Morning</td>\n",
       "      <td>76.0</td>\n",
       "      <td>F</td>\n",
       "      <td>H</td>\n",
       "      <td>501.0</td>\n",
       "      <td>MACE/PEPPER SPRAY</td>\n",
       "      <td>5.0</td>\n",
       "      <td>1242 0602 1202 2038 0913 0553</td>\n",
       "      <td>2.0</td>\n",
       "      <td>IC</td>\n",
       "      <td>Crimes against Public Order</td>\n",
       "      <td>29</td>\n",
       "    </tr>\n",
       "    <tr>\n",
       "      <th>19999</th>\n",
       "      <td>34.0037</td>\n",
       "      <td>-118.3034</td>\n",
       "      <td>1</td>\n",
       "      <td>Evening</td>\n",
       "      <td>30.0</td>\n",
       "      <td>X</td>\n",
       "      <td>W</td>\n",
       "      <td>101.0</td>\n",
       "      <td>STRONG-ARM (HANDS, FIST, FEET OR BODILY FORCE)</td>\n",
       "      <td>3.0</td>\n",
       "      <td></td>\n",
       "      <td>1.0</td>\n",
       "      <td>IC</td>\n",
       "      <td>Property Crimes</td>\n",
       "      <td>0</td>\n",
       "    </tr>\n",
       "  </tbody>\n",
       "</table>\n",
       "<p>20000 rows × 15 columns</p>\n",
       "</div>"
      ],
      "text/plain": [
       "       Latitude  Longitude  reporting_delay_day_count day_category  \\\n",
       "0       34.1522  -118.3910                          3      Evening   \n",
       "1       34.0028  -118.2391                          0      Daytime   \n",
       "2       34.0111  -118.2653                          0      Morning   \n",
       "3       34.2953  -118.4590                          2      Evening   \n",
       "4       33.9787  -118.2918                          0      Morning   \n",
       "...         ...        ...                        ...          ...   \n",
       "19995   34.0334  -118.3523                          0      Morning   \n",
       "19996   34.2212  -118.5011                          0        Night   \n",
       "19997   34.0571  -118.3815                          0      Daytime   \n",
       "19998   33.7451  -118.2835                          0      Morning   \n",
       "19999   34.0037  -118.3034                          1      Evening   \n",
       "\n",
       "       Victim_Age Victim_Sex Victim_Descent  Premise_Code  \\\n",
       "0            75.0          M              W         101.0   \n",
       "1            41.0          M              H         216.0   \n",
       "2            67.0          M              B         501.0   \n",
       "3            61.0          M              H         101.0   \n",
       "4            30.0          X              X         401.0   \n",
       "...           ...        ...            ...           ...   \n",
       "19995        51.0          M              H         501.0   \n",
       "19996        30.0          M              W         301.0   \n",
       "19997        42.0          M              H         102.0   \n",
       "19998        76.0          F              H         501.0   \n",
       "19999        30.0          X              W         101.0   \n",
       "\n",
       "                                   Weapon_Description  Area_ID  \\\n",
       "0                                     UNKNOWN FIREARM     15.0   \n",
       "1      STRONG-ARM (HANDS, FIST, FEET OR BODILY FORCE)     13.0   \n",
       "2      STRONG-ARM (HANDS, FIST, FEET OR BODILY FORCE)     13.0   \n",
       "3                                            HAND GUN     19.0   \n",
       "4      STRONG-ARM (HANDS, FIST, FEET OR BODILY FORCE)     12.0   \n",
       "...                                               ...      ...   \n",
       "19995  STRONG-ARM (HANDS, FIST, FEET OR BODILY FORCE)      3.0   \n",
       "19996                                   VERBAL THREAT     10.0   \n",
       "19997  STRONG-ARM (HANDS, FIST, FEET OR BODILY FORCE)      8.0   \n",
       "19998                               MACE/PEPPER SPRAY      5.0   \n",
       "19999  STRONG-ARM (HANDS, FIST, FEET OR BODILY FORCE)      3.0   \n",
       "\n",
       "                                Modus_Operandi  Part 1-2 Status  \\\n",
       "0                                         0385       1.0     IC   \n",
       "1      0906 0352 0446 0371 0344 0417 0416 1822       1.0     IC   \n",
       "2                                    1202 0329       2.0     IC   \n",
       "3                                    1300 0329       1.0     IC   \n",
       "4                0400 0945 0344 0417 0416 1822       1.0     IC   \n",
       "...                                        ...       ...    ...   \n",
       "19995                      0913 0446 0416 2004       2.0     IC   \n",
       "19996                 1420 1414 0344 0209 1822       1.0     IC   \n",
       "19997                           1420 1822 0344       1.0     IC   \n",
       "19998            1242 0602 1202 2038 0913 0553       2.0     IC   \n",
       "19999                                                1.0     IC   \n",
       "\n",
       "                    Crime_Category  max_activity  \n",
       "0                  Property Crimes             4  \n",
       "1                  Property Crimes            39  \n",
       "2                  Property Crimes             9  \n",
       "3                  Property Crimes             9  \n",
       "4                  Property Crimes            29  \n",
       "...                            ...           ...  \n",
       "19995               Violent Crimes            19  \n",
       "19996              Property Crimes            24  \n",
       "19997              Property Crimes            14  \n",
       "19998  Crimes against Public Order            29  \n",
       "19999              Property Crimes             0  \n",
       "\n",
       "[20000 rows x 15 columns]"
      ]
     },
     "execution_count": 63,
     "metadata": {},
     "output_type": "execute_result"
    }
   ],
   "source": [
    "df"
   ]
  },
  {
   "cell_type": "code",
   "execution_count": 64,
   "id": "3b718f79",
   "metadata": {
    "execution": {
     "iopub.execute_input": "2024-06-24T09:52:09.560786Z",
     "iopub.status.busy": "2024-06-24T09:52:09.560390Z",
     "iopub.status.idle": "2024-06-24T09:52:09.570261Z",
     "shell.execute_reply": "2024-06-24T09:52:09.569205Z"
    },
    "papermill": {
     "duration": 0.043759,
     "end_time": "2024-06-24T09:52:09.572524",
     "exception": false,
     "start_time": "2024-06-24T09:52:09.528765",
     "status": "completed"
    },
    "tags": []
   },
   "outputs": [
    {
     "data": {
      "text/plain": [
       "Area_ID\n",
       "12.0    1345\n",
       "14.0    1157\n",
       "1.0     1156\n",
       "3.0     1130\n",
       "18.0    1067\n",
       "15.0    1065\n",
       "6.0     1014\n",
       "13.0     999\n",
       "20.0     960\n",
       "7.0      943\n",
       "2.0      931\n",
       "8.0      910\n",
       "9.0      902\n",
       "5.0      872\n",
       "19.0     870\n",
       "11.0     839\n",
       "21.0     792\n",
       "10.0     790\n",
       "17.0     769\n",
       "4.0      755\n",
       "16.0     734\n",
       "Name: count, dtype: int64"
      ]
     },
     "execution_count": 64,
     "metadata": {},
     "output_type": "execute_result"
    }
   ],
   "source": [
    "df['Area_ID'].value_counts()"
   ]
  },
  {
   "cell_type": "code",
   "execution_count": 65,
   "id": "a8d753f4",
   "metadata": {
    "execution": {
     "iopub.execute_input": "2024-06-24T09:52:09.634984Z",
     "iopub.status.busy": "2024-06-24T09:52:09.634610Z",
     "iopub.status.idle": "2024-06-24T09:52:09.643623Z",
     "shell.execute_reply": "2024-06-24T09:52:09.642333Z"
    },
    "papermill": {
     "duration": 0.043142,
     "end_time": "2024-06-24T09:52:09.646018",
     "exception": false,
     "start_time": "2024-06-24T09:52:09.602876",
     "status": "completed"
    },
    "tags": []
   },
   "outputs": [
    {
     "name": "stderr",
     "output_type": "stream",
     "text": [
      "/tmp/ipykernel_18/876014097.py:1: SettingWithCopyWarning: \n",
      "A value is trying to be set on a copy of a slice from a DataFrame\n",
      "\n",
      "See the caveats in the documentation: https://pandas.pydata.org/pandas-docs/stable/user_guide/indexing.html#returning-a-view-versus-a-copy\n",
      "  df.drop('max_activity',axis=1,inplace=True)\n"
     ]
    }
   ],
   "source": [
    "df.drop('max_activity',axis=1,inplace=True)"
   ]
  },
  {
   "cell_type": "code",
   "execution_count": 66,
   "id": "a6909130",
   "metadata": {
    "execution": {
     "iopub.execute_input": "2024-06-24T09:52:09.708764Z",
     "iopub.status.busy": "2024-06-24T09:52:09.708385Z",
     "iopub.status.idle": "2024-06-24T09:52:09.717424Z",
     "shell.execute_reply": "2024-06-24T09:52:09.716335Z"
    },
    "papermill": {
     "duration": 0.043303,
     "end_time": "2024-06-24T09:52:09.719803",
     "exception": false,
     "start_time": "2024-06-24T09:52:09.676500",
     "status": "completed"
    },
    "tags": []
   },
   "outputs": [],
   "source": [
    "\n",
    "df.loc[df['Weapon_Description'] == 'STRONG-ARM (HANDS, FIST, FEET OR BODILY FORCE)', 'Weapon_Description'] = 'Physical Force'\n"
   ]
  },
  {
   "cell_type": "code",
   "execution_count": 67,
   "id": "0587d649",
   "metadata": {
    "execution": {
     "iopub.execute_input": "2024-06-24T09:52:09.784385Z",
     "iopub.status.busy": "2024-06-24T09:52:09.783581Z",
     "iopub.status.idle": "2024-06-24T09:52:09.793733Z",
     "shell.execute_reply": "2024-06-24T09:52:09.792628Z"
    },
    "papermill": {
     "duration": 0.045233,
     "end_time": "2024-06-24T09:52:09.795997",
     "exception": false,
     "start_time": "2024-06-24T09:52:09.750764",
     "status": "completed"
    },
    "tags": []
   },
   "outputs": [
    {
     "data": {
      "text/plain": [
       "Weapon_Description\n",
       "Physical Force                                   10908\n",
       "UNKNOWN WEAPON/OTHER WEAPON                       2143\n",
       "VERBAL THREAT                                     1525\n",
       "HAND GUN                                          1063\n",
       "KNIFE WITH BLADE 6INCHES OR LESS                   442\n",
       "SEMI-AUTOMATIC PISTOL                              404\n",
       "UNKNOWN FIREARM                                    342\n",
       "OTHER KNIFE                                        324\n",
       "VEHICLE                                            224\n",
       "MACE/PEPPER SPRAY                                  217\n",
       "ROCK/THROWN OBJECT                                 172\n",
       "BOTTLE                                             153\n",
       "CLUB/BAT                                           138\n",
       "PIPE/METAL PIPE                                    137\n",
       "STICK                                              121\n",
       "KITCHEN KNIFE                                      116\n",
       "BLUNT INSTRUMENT                                   115\n",
       "AIR PISTOL/REVOLVER/RIFLE/BB GUN                   111\n",
       "KNIFE WITH BLADE OVER 6 INCHES IN LENGTH           109\n",
       "SIMULATED GUN                                      103\n",
       "FOLDING KNIFE                                       97\n",
       "REVOLVER                                            89\n",
       "BELT FLAILING INSTRUMENT/CHAIN                      73\n",
       "CONCRETE BLOCK/BRICK                                71\n",
       "SCREWDRIVER                                         66\n",
       "MACHETE                                             62\n",
       "FIRE                                                62\n",
       "HAMMER                                              58\n",
       "FIXED OBJECT                                        53\n",
       "GLASS                                               51\n",
       "PHYSICAL PRESENCE                                   49\n",
       "UNKNOWN TYPE CUTTING INSTRUMENT                     48\n",
       "OTHER FIREARM                                       47\n",
       "OTHER CUTTING INSTRUMENT                            43\n",
       "RIFLE                                               41\n",
       "SCISSORS                                            39\n",
       "BOARD                                               29\n",
       "TOY GUN                                             23\n",
       "TIRE IRON                                           22\n",
       "AXE                                                 17\n",
       "SHOTGUN                                             16\n",
       "STUN GUN                                            12\n",
       "SWITCH BLADE                                        11\n",
       "ICE PICK                                             7\n",
       "BRASS KNUCKLES                                       7\n",
       "MARTIAL ARTS WEAPONS                                 7\n",
       "SCALDING LIQUID                                      5\n",
       "CLEAVER                                              4\n",
       "DEMAND NOTE                                          4\n",
       "SAWED OFF RIFLE/SHOTGUN                              4\n",
       "ASSAULT WEAPON/UZI/AK47/ETC                          4\n",
       "BOMB THREAT                                          4\n",
       "HECKLER & KOCH 93 SEMIAUTOMATIC ASSAULT RIFLE        3\n",
       "BOWIE KNIFE                                          2\n",
       "STARTER PISTOL/REVOLVER                              1\n",
       "CAUSTIC CHEMICAL/POISON                              1\n",
       "RAZOR BLADE                                          1\n",
       "Name: count, dtype: int64"
      ]
     },
     "execution_count": 67,
     "metadata": {},
     "output_type": "execute_result"
    }
   ],
   "source": [
    "df['Weapon_Description'].value_counts()"
   ]
  },
  {
   "cell_type": "code",
   "execution_count": 68,
   "id": "9e1eaec8",
   "metadata": {
    "execution": {
     "iopub.execute_input": "2024-06-24T09:52:09.859667Z",
     "iopub.status.busy": "2024-06-24T09:52:09.858731Z",
     "iopub.status.idle": "2024-06-24T09:52:09.916390Z",
     "shell.execute_reply": "2024-06-24T09:52:09.915357Z"
    },
    "papermill": {
     "duration": 0.092433,
     "end_time": "2024-06-24T09:52:09.919106",
     "exception": false,
     "start_time": "2024-06-24T09:52:09.826673",
     "status": "completed"
    },
    "tags": []
   },
   "outputs": [],
   "source": [
    "\n",
    "def gun(s):\n",
    "    t=s.replace('/',' ')\n",
    "    listt=t.split(' ' or '/')\n",
    "    gun_keywords=['gun','pistol','revolver','rifle','shotgun']\n",
    "    \n",
    "    sharp_heavy_object=['blade','stone','knife','metal','screwdriver','cleaver', 'glass','machete' ,'iron' , 'cutting','axe' ,'instrument','hammer','weapon','object','bottle','weapons','brass','scissors']\n",
    "    \n",
    "    other_weapon = ['bomb','threat', 'demand', 'poison', 'ice', 'scalding', 'board','block' ,'brick', 'stick', 'bat', 'spray']\n",
    "    \n",
    "    physical_presence=['physical','presence']\n",
    "    \n",
    "    fire=['firearm' , 'fire' ]\n",
    "\n",
    "    for i in listt:\n",
    "        if i.lower() in gun_keywords:\n",
    "            return 'Gun'\n",
    "        elif i.lower() in sharp_heavy_object:\n",
    "            return 'sharp_heavy_object'\n",
    "        \n",
    "        elif i.lower() in fire:\n",
    "            return 'fire'\n",
    "        elif i.lower() in other_weapon:\n",
    "            return 'other_weapon'\n",
    "        elif i.lower() in physical_presence:\n",
    "            return 'Physical Force'\n",
    "        \n",
    "    return s\n",
    "    \n",
    "\n",
    "\n",
    "\n",
    "df.loc[:,'Weapon_Description']=df['Weapon_Description'].apply(gun)"
   ]
  },
  {
   "cell_type": "code",
   "execution_count": 69,
   "id": "ece7ed55",
   "metadata": {
    "execution": {
     "iopub.execute_input": "2024-06-24T09:52:09.983077Z",
     "iopub.status.busy": "2024-06-24T09:52:09.982340Z",
     "iopub.status.idle": "2024-06-24T09:52:09.992446Z",
     "shell.execute_reply": "2024-06-24T09:52:09.991210Z"
    },
    "papermill": {
     "duration": 0.0442,
     "end_time": "2024-06-24T09:52:09.994709",
     "exception": false,
     "start_time": "2024-06-24T09:52:09.950509",
     "status": "completed"
    },
    "tags": []
   },
   "outputs": [
    {
     "data": {
      "text/plain": [
       "Weapon_Description\n",
       "Physical Force        10957\n",
       "sharp_heavy_object     4376\n",
       "other_weapon           2122\n",
       "Gun                    1870\n",
       "fire                    451\n",
       "VEHICLE                 224\n",
       "Name: count, dtype: int64"
      ]
     },
     "execution_count": 69,
     "metadata": {},
     "output_type": "execute_result"
    }
   ],
   "source": [
    "df['Weapon_Description'].value_counts()"
   ]
  },
  {
   "cell_type": "code",
   "execution_count": 70,
   "id": "cfba3d51",
   "metadata": {
    "execution": {
     "iopub.execute_input": "2024-06-24T09:52:10.058124Z",
     "iopub.status.busy": "2024-06-24T09:52:10.057714Z",
     "iopub.status.idle": "2024-06-24T09:52:10.065575Z",
     "shell.execute_reply": "2024-06-24T09:52:10.064456Z"
    },
    "papermill": {
     "duration": 0.042784,
     "end_time": "2024-06-24T09:52:10.068381",
     "exception": false,
     "start_time": "2024-06-24T09:52:10.025597",
     "status": "completed"
    },
    "tags": []
   },
   "outputs": [
    {
     "data": {
      "text/plain": [
       "217"
      ]
     },
     "execution_count": 70,
     "metadata": {},
     "output_type": "execute_result"
    }
   ],
   "source": [
    "len(df['Premise_Code'].value_counts())"
   ]
  },
  {
   "cell_type": "code",
   "execution_count": 71,
   "id": "2340ac57",
   "metadata": {
    "execution": {
     "iopub.execute_input": "2024-06-24T09:52:10.134915Z",
     "iopub.status.busy": "2024-06-24T09:52:10.134533Z",
     "iopub.status.idle": "2024-06-24T09:52:10.142440Z",
     "shell.execute_reply": "2024-06-24T09:52:10.141299Z"
    },
    "papermill": {
     "duration": 0.042949,
     "end_time": "2024-06-24T09:52:10.144546",
     "exception": false,
     "start_time": "2024-06-24T09:52:10.101597",
     "status": "completed"
    },
    "tags": []
   },
   "outputs": [
    {
     "data": {
      "text/plain": [
       "21"
      ]
     },
     "execution_count": 71,
     "metadata": {},
     "output_type": "execute_result"
    }
   ],
   "source": [
    "len(df['Area_ID'].value_counts())"
   ]
  },
  {
   "cell_type": "code",
   "execution_count": 72,
   "id": "b1a0f7bb",
   "metadata": {
    "execution": {
     "iopub.execute_input": "2024-06-24T09:52:10.209486Z",
     "iopub.status.busy": "2024-06-24T09:52:10.209110Z",
     "iopub.status.idle": "2024-06-24T09:52:10.214188Z",
     "shell.execute_reply": "2024-06-24T09:52:10.213181Z"
    },
    "papermill": {
     "duration": 0.039984,
     "end_time": "2024-06-24T09:52:10.216288",
     "exception": false,
     "start_time": "2024-06-24T09:52:10.176304",
     "status": "completed"
    },
    "tags": []
   },
   "outputs": [],
   "source": [
    "numeric_columns=[['Latitude','Longitude','reporting_delay_day_count','Victim_Age']]\n",
    "categorical_columns=[['day_category','Victim_Sex','Victim_Descent','Premise_Code','Area_ID','Part 1-2','Status']] #ohe\n",
    "multilabel_binarizer=[['Modus_Operandi']] \n"
   ]
  },
  {
   "cell_type": "code",
   "execution_count": 73,
   "id": "30369048",
   "metadata": {
    "execution": {
     "iopub.execute_input": "2024-06-24T09:52:10.280273Z",
     "iopub.status.busy": "2024-06-24T09:52:10.279846Z",
     "iopub.status.idle": "2024-06-24T09:52:10.302144Z",
     "shell.execute_reply": "2024-06-24T09:52:10.301149Z"
    },
    "papermill": {
     "duration": 0.056614,
     "end_time": "2024-06-24T09:52:10.304261",
     "exception": false,
     "start_time": "2024-06-24T09:52:10.247647",
     "status": "completed"
    },
    "tags": []
   },
   "outputs": [
    {
     "data": {
      "text/html": [
       "<div>\n",
       "<style scoped>\n",
       "    .dataframe tbody tr th:only-of-type {\n",
       "        vertical-align: middle;\n",
       "    }\n",
       "\n",
       "    .dataframe tbody tr th {\n",
       "        vertical-align: top;\n",
       "    }\n",
       "\n",
       "    .dataframe thead th {\n",
       "        text-align: right;\n",
       "    }\n",
       "</style>\n",
       "<table border=\"1\" class=\"dataframe\">\n",
       "  <thead>\n",
       "    <tr style=\"text-align: right;\">\n",
       "      <th></th>\n",
       "      <th>Latitude</th>\n",
       "      <th>Longitude</th>\n",
       "      <th>reporting_delay_day_count</th>\n",
       "      <th>day_category</th>\n",
       "      <th>Victim_Age</th>\n",
       "      <th>Victim_Sex</th>\n",
       "      <th>Victim_Descent</th>\n",
       "      <th>Premise_Code</th>\n",
       "      <th>Weapon_Description</th>\n",
       "      <th>Area_ID</th>\n",
       "      <th>Modus_Operandi</th>\n",
       "      <th>Part 1-2</th>\n",
       "      <th>Status</th>\n",
       "      <th>Crime_Category</th>\n",
       "    </tr>\n",
       "  </thead>\n",
       "  <tbody>\n",
       "    <tr>\n",
       "      <th>0</th>\n",
       "      <td>34.1522</td>\n",
       "      <td>-118.3910</td>\n",
       "      <td>3</td>\n",
       "      <td>Evening</td>\n",
       "      <td>75.0</td>\n",
       "      <td>M</td>\n",
       "      <td>W</td>\n",
       "      <td>101.0</td>\n",
       "      <td>fire</td>\n",
       "      <td>15.0</td>\n",
       "      <td>0385</td>\n",
       "      <td>1.0</td>\n",
       "      <td>IC</td>\n",
       "      <td>Property Crimes</td>\n",
       "    </tr>\n",
       "    <tr>\n",
       "      <th>1</th>\n",
       "      <td>34.0028</td>\n",
       "      <td>-118.2391</td>\n",
       "      <td>0</td>\n",
       "      <td>Daytime</td>\n",
       "      <td>41.0</td>\n",
       "      <td>M</td>\n",
       "      <td>H</td>\n",
       "      <td>216.0</td>\n",
       "      <td>Physical Force</td>\n",
       "      <td>13.0</td>\n",
       "      <td>0906 0352 0446 0371 0344 0417 0416 1822</td>\n",
       "      <td>1.0</td>\n",
       "      <td>IC</td>\n",
       "      <td>Property Crimes</td>\n",
       "    </tr>\n",
       "    <tr>\n",
       "      <th>2</th>\n",
       "      <td>34.0111</td>\n",
       "      <td>-118.2653</td>\n",
       "      <td>0</td>\n",
       "      <td>Morning</td>\n",
       "      <td>67.0</td>\n",
       "      <td>M</td>\n",
       "      <td>B</td>\n",
       "      <td>501.0</td>\n",
       "      <td>Physical Force</td>\n",
       "      <td>13.0</td>\n",
       "      <td>1202 0329</td>\n",
       "      <td>2.0</td>\n",
       "      <td>IC</td>\n",
       "      <td>Property Crimes</td>\n",
       "    </tr>\n",
       "    <tr>\n",
       "      <th>3</th>\n",
       "      <td>34.2953</td>\n",
       "      <td>-118.4590</td>\n",
       "      <td>2</td>\n",
       "      <td>Evening</td>\n",
       "      <td>61.0</td>\n",
       "      <td>M</td>\n",
       "      <td>H</td>\n",
       "      <td>101.0</td>\n",
       "      <td>Gun</td>\n",
       "      <td>19.0</td>\n",
       "      <td>1300 0329</td>\n",
       "      <td>1.0</td>\n",
       "      <td>IC</td>\n",
       "      <td>Property Crimes</td>\n",
       "    </tr>\n",
       "    <tr>\n",
       "      <th>4</th>\n",
       "      <td>33.9787</td>\n",
       "      <td>-118.2918</td>\n",
       "      <td>0</td>\n",
       "      <td>Morning</td>\n",
       "      <td>30.0</td>\n",
       "      <td>X</td>\n",
       "      <td>X</td>\n",
       "      <td>401.0</td>\n",
       "      <td>Physical Force</td>\n",
       "      <td>12.0</td>\n",
       "      <td>0400 0945 0344 0417 0416 1822</td>\n",
       "      <td>1.0</td>\n",
       "      <td>IC</td>\n",
       "      <td>Property Crimes</td>\n",
       "    </tr>\n",
       "    <tr>\n",
       "      <th>...</th>\n",
       "      <td>...</td>\n",
       "      <td>...</td>\n",
       "      <td>...</td>\n",
       "      <td>...</td>\n",
       "      <td>...</td>\n",
       "      <td>...</td>\n",
       "      <td>...</td>\n",
       "      <td>...</td>\n",
       "      <td>...</td>\n",
       "      <td>...</td>\n",
       "      <td>...</td>\n",
       "      <td>...</td>\n",
       "      <td>...</td>\n",
       "      <td>...</td>\n",
       "    </tr>\n",
       "    <tr>\n",
       "      <th>19995</th>\n",
       "      <td>34.0334</td>\n",
       "      <td>-118.3523</td>\n",
       "      <td>0</td>\n",
       "      <td>Morning</td>\n",
       "      <td>51.0</td>\n",
       "      <td>M</td>\n",
       "      <td>H</td>\n",
       "      <td>501.0</td>\n",
       "      <td>Physical Force</td>\n",
       "      <td>3.0</td>\n",
       "      <td>0913 0446 0416 2004</td>\n",
       "      <td>2.0</td>\n",
       "      <td>IC</td>\n",
       "      <td>Violent Crimes</td>\n",
       "    </tr>\n",
       "    <tr>\n",
       "      <th>19996</th>\n",
       "      <td>34.2212</td>\n",
       "      <td>-118.5011</td>\n",
       "      <td>0</td>\n",
       "      <td>Night</td>\n",
       "      <td>30.0</td>\n",
       "      <td>M</td>\n",
       "      <td>W</td>\n",
       "      <td>301.0</td>\n",
       "      <td>other_weapon</td>\n",
       "      <td>10.0</td>\n",
       "      <td>1420 1414 0344 0209 1822</td>\n",
       "      <td>1.0</td>\n",
       "      <td>IC</td>\n",
       "      <td>Property Crimes</td>\n",
       "    </tr>\n",
       "    <tr>\n",
       "      <th>19997</th>\n",
       "      <td>34.0571</td>\n",
       "      <td>-118.3815</td>\n",
       "      <td>0</td>\n",
       "      <td>Daytime</td>\n",
       "      <td>42.0</td>\n",
       "      <td>M</td>\n",
       "      <td>H</td>\n",
       "      <td>102.0</td>\n",
       "      <td>Physical Force</td>\n",
       "      <td>8.0</td>\n",
       "      <td>1420 1822 0344</td>\n",
       "      <td>1.0</td>\n",
       "      <td>IC</td>\n",
       "      <td>Property Crimes</td>\n",
       "    </tr>\n",
       "    <tr>\n",
       "      <th>19998</th>\n",
       "      <td>33.7451</td>\n",
       "      <td>-118.2835</td>\n",
       "      <td>0</td>\n",
       "      <td>Morning</td>\n",
       "      <td>76.0</td>\n",
       "      <td>F</td>\n",
       "      <td>H</td>\n",
       "      <td>501.0</td>\n",
       "      <td>other_weapon</td>\n",
       "      <td>5.0</td>\n",
       "      <td>1242 0602 1202 2038 0913 0553</td>\n",
       "      <td>2.0</td>\n",
       "      <td>IC</td>\n",
       "      <td>Crimes against Public Order</td>\n",
       "    </tr>\n",
       "    <tr>\n",
       "      <th>19999</th>\n",
       "      <td>34.0037</td>\n",
       "      <td>-118.3034</td>\n",
       "      <td>1</td>\n",
       "      <td>Evening</td>\n",
       "      <td>30.0</td>\n",
       "      <td>X</td>\n",
       "      <td>W</td>\n",
       "      <td>101.0</td>\n",
       "      <td>Physical Force</td>\n",
       "      <td>3.0</td>\n",
       "      <td></td>\n",
       "      <td>1.0</td>\n",
       "      <td>IC</td>\n",
       "      <td>Property Crimes</td>\n",
       "    </tr>\n",
       "  </tbody>\n",
       "</table>\n",
       "<p>20000 rows × 14 columns</p>\n",
       "</div>"
      ],
      "text/plain": [
       "       Latitude  Longitude  reporting_delay_day_count day_category  \\\n",
       "0       34.1522  -118.3910                          3      Evening   \n",
       "1       34.0028  -118.2391                          0      Daytime   \n",
       "2       34.0111  -118.2653                          0      Morning   \n",
       "3       34.2953  -118.4590                          2      Evening   \n",
       "4       33.9787  -118.2918                          0      Morning   \n",
       "...         ...        ...                        ...          ...   \n",
       "19995   34.0334  -118.3523                          0      Morning   \n",
       "19996   34.2212  -118.5011                          0        Night   \n",
       "19997   34.0571  -118.3815                          0      Daytime   \n",
       "19998   33.7451  -118.2835                          0      Morning   \n",
       "19999   34.0037  -118.3034                          1      Evening   \n",
       "\n",
       "       Victim_Age Victim_Sex Victim_Descent  Premise_Code Weapon_Description  \\\n",
       "0            75.0          M              W         101.0               fire   \n",
       "1            41.0          M              H         216.0     Physical Force   \n",
       "2            67.0          M              B         501.0     Physical Force   \n",
       "3            61.0          M              H         101.0                Gun   \n",
       "4            30.0          X              X         401.0     Physical Force   \n",
       "...           ...        ...            ...           ...                ...   \n",
       "19995        51.0          M              H         501.0     Physical Force   \n",
       "19996        30.0          M              W         301.0       other_weapon   \n",
       "19997        42.0          M              H         102.0     Physical Force   \n",
       "19998        76.0          F              H         501.0       other_weapon   \n",
       "19999        30.0          X              W         101.0     Physical Force   \n",
       "\n",
       "       Area_ID                           Modus_Operandi  Part 1-2 Status  \\\n",
       "0         15.0                                     0385       1.0     IC   \n",
       "1         13.0  0906 0352 0446 0371 0344 0417 0416 1822       1.0     IC   \n",
       "2         13.0                                1202 0329       2.0     IC   \n",
       "3         19.0                                1300 0329       1.0     IC   \n",
       "4         12.0            0400 0945 0344 0417 0416 1822       1.0     IC   \n",
       "...        ...                                      ...       ...    ...   \n",
       "19995      3.0                      0913 0446 0416 2004       2.0     IC   \n",
       "19996     10.0                 1420 1414 0344 0209 1822       1.0     IC   \n",
       "19997      8.0                           1420 1822 0344       1.0     IC   \n",
       "19998      5.0            1242 0602 1202 2038 0913 0553       2.0     IC   \n",
       "19999      3.0                                                1.0     IC   \n",
       "\n",
       "                    Crime_Category  \n",
       "0                  Property Crimes  \n",
       "1                  Property Crimes  \n",
       "2                  Property Crimes  \n",
       "3                  Property Crimes  \n",
       "4                  Property Crimes  \n",
       "...                            ...  \n",
       "19995               Violent Crimes  \n",
       "19996              Property Crimes  \n",
       "19997              Property Crimes  \n",
       "19998  Crimes against Public Order  \n",
       "19999              Property Crimes  \n",
       "\n",
       "[20000 rows x 14 columns]"
      ]
     },
     "execution_count": 73,
     "metadata": {},
     "output_type": "execute_result"
    }
   ],
   "source": [
    "df"
   ]
  },
  {
   "cell_type": "code",
   "execution_count": 74,
   "id": "d54c792d",
   "metadata": {
    "execution": {
     "iopub.execute_input": "2024-06-24T09:52:10.369714Z",
     "iopub.status.busy": "2024-06-24T09:52:10.369330Z",
     "iopub.status.idle": "2024-06-24T09:52:10.377355Z",
     "shell.execute_reply": "2024-06-24T09:52:10.376411Z"
    },
    "papermill": {
     "duration": 0.043459,
     "end_time": "2024-06-24T09:52:10.379590",
     "exception": false,
     "start_time": "2024-06-24T09:52:10.336131",
     "status": "completed"
    },
    "tags": []
   },
   "outputs": [
    {
     "name": "stderr",
     "output_type": "stream",
     "text": [
      "/tmp/ipykernel_18/448365884.py:3: SettingWithCopyWarning: \n",
      "A value is trying to be set on a copy of a slice from a DataFrame\n",
      "\n",
      "See the caveats in the documentation: https://pandas.pydata.org/pandas-docs/stable/user_guide/indexing.html#returning-a-view-versus-a-copy\n",
      "  df.drop('Crime_Category',axis=1,inplace=True)\n"
     ]
    }
   ],
   "source": [
    "y=df['Crime_Category']\n",
    "\n",
    "df.drop('Crime_Category',axis=1,inplace=True)"
   ]
  },
  {
   "cell_type": "code",
   "execution_count": 75,
   "id": "a5ec40e6",
   "metadata": {
    "execution": {
     "iopub.execute_input": "2024-06-24T09:52:10.445669Z",
     "iopub.status.busy": "2024-06-24T09:52:10.445284Z",
     "iopub.status.idle": "2024-06-24T09:52:10.463625Z",
     "shell.execute_reply": "2024-06-24T09:52:10.462415Z"
    },
    "papermill": {
     "duration": 0.053966,
     "end_time": "2024-06-24T09:52:10.465939",
     "exception": false,
     "start_time": "2024-06-24T09:52:10.411973",
     "status": "completed"
    },
    "tags": []
   },
   "outputs": [
    {
     "name": "stdout",
     "output_type": "stream",
     "text": [
      "<class 'pandas.core.frame.DataFrame'>\n",
      "RangeIndex: 20000 entries, 0 to 19999\n",
      "Data columns (total 13 columns):\n",
      " #   Column                     Non-Null Count  Dtype  \n",
      "---  ------                     --------------  -----  \n",
      " 0   Latitude                   20000 non-null  float64\n",
      " 1   Longitude                  20000 non-null  float64\n",
      " 2   reporting_delay_day_count  20000 non-null  int64  \n",
      " 3   day_category               20000 non-null  object \n",
      " 4   Victim_Age                 20000 non-null  float64\n",
      " 5   Victim_Sex                 20000 non-null  object \n",
      " 6   Victim_Descent             20000 non-null  object \n",
      " 7   Premise_Code               20000 non-null  float64\n",
      " 8   Weapon_Description         20000 non-null  object \n",
      " 9   Area_ID                    20000 non-null  float64\n",
      " 10  Modus_Operandi             20000 non-null  object \n",
      " 11  Part 1-2                   20000 non-null  float64\n",
      " 12  Status                     20000 non-null  object \n",
      "dtypes: float64(6), int64(1), object(6)\n",
      "memory usage: 2.0+ MB\n"
     ]
    }
   ],
   "source": [
    "df.info()"
   ]
  },
  {
   "cell_type": "code",
   "execution_count": 76,
   "id": "413790e5",
   "metadata": {
    "execution": {
     "iopub.execute_input": "2024-06-24T09:52:10.530924Z",
     "iopub.status.busy": "2024-06-24T09:52:10.530183Z",
     "iopub.status.idle": "2024-06-24T09:52:10.539632Z",
     "shell.execute_reply": "2024-06-24T09:52:10.538494Z"
    },
    "papermill": {
     "duration": 0.04423,
     "end_time": "2024-06-24T09:52:10.541766",
     "exception": false,
     "start_time": "2024-06-24T09:52:10.497536",
     "status": "completed"
    },
    "tags": []
   },
   "outputs": [
    {
     "name": "stderr",
     "output_type": "stream",
     "text": [
      "/tmp/ipykernel_18/1308723833.py:1: SettingWithCopyWarning: \n",
      "A value is trying to be set on a copy of a slice from a DataFrame\n",
      "\n",
      "See the caveats in the documentation: https://pandas.pydata.org/pandas-docs/stable/user_guide/indexing.html#returning-a-view-versus-a-copy\n",
      "  df.drop('Premise_Code',axis=1,inplace=True)\n"
     ]
    }
   ],
   "source": [
    "df.drop('Premise_Code',axis=1,inplace=True)"
   ]
  },
  {
   "cell_type": "code",
   "execution_count": 77,
   "id": "505cd2d7",
   "metadata": {
    "execution": {
     "iopub.execute_input": "2024-06-24T09:52:10.607855Z",
     "iopub.status.busy": "2024-06-24T09:52:10.607505Z",
     "iopub.status.idle": "2024-06-24T09:52:10.614087Z",
     "shell.execute_reply": "2024-06-24T09:52:10.612987Z"
    },
    "papermill": {
     "duration": 0.041526,
     "end_time": "2024-06-24T09:52:10.616071",
     "exception": false,
     "start_time": "2024-06-24T09:52:10.574545",
     "status": "completed"
    },
    "tags": []
   },
   "outputs": [
    {
     "data": {
      "text/plain": [
       "(20000,)"
      ]
     },
     "execution_count": 77,
     "metadata": {},
     "output_type": "execute_result"
    }
   ],
   "source": [
    "y.shape"
   ]
  },
  {
   "cell_type": "code",
   "execution_count": 78,
   "id": "96bf6388",
   "metadata": {
    "execution": {
     "iopub.execute_input": "2024-06-24T09:52:10.682203Z",
     "iopub.status.busy": "2024-06-24T09:52:10.681793Z",
     "iopub.status.idle": "2024-06-24T09:52:10.711127Z",
     "shell.execute_reply": "2024-06-24T09:52:10.710090Z"
    },
    "papermill": {
     "duration": 0.065634,
     "end_time": "2024-06-24T09:52:10.713467",
     "exception": false,
     "start_time": "2024-06-24T09:52:10.647833",
     "status": "completed"
    },
    "tags": []
   },
   "outputs": [],
   "source": [
    "from sklearn.model_selection import train_test_split\n",
    "\n",
    "xtrain, xtest ,ytrain , ytest= train_test_split(df , y , test_size=0.2 , random_state=42 , shuffle=True ,stratify = y  )"
   ]
  },
  {
   "cell_type": "code",
   "execution_count": 79,
   "id": "c4eda6cb",
   "metadata": {
    "execution": {
     "iopub.execute_input": "2024-06-24T09:52:10.780249Z",
     "iopub.status.busy": "2024-06-24T09:52:10.779482Z",
     "iopub.status.idle": "2024-06-24T09:52:10.784966Z",
     "shell.execute_reply": "2024-06-24T09:52:10.784054Z"
    },
    "papermill": {
     "duration": 0.041281,
     "end_time": "2024-06-24T09:52:10.787195",
     "exception": false,
     "start_time": "2024-06-24T09:52:10.745914",
     "status": "completed"
    },
    "tags": []
   },
   "outputs": [
    {
     "name": "stdout",
     "output_type": "stream",
     "text": [
      "(16000, 12)\n",
      "(16000,)\n",
      "(4000, 12)\n",
      "(4000,)\n"
     ]
    }
   ],
   "source": [
    "print(xtrain.shape) \n",
    "print(ytrain.shape)\n",
    "print(xtest.shape)\n",
    "print(ytest.shape)"
   ]
  },
  {
   "cell_type": "code",
   "execution_count": 80,
   "id": "17fe7d3a",
   "metadata": {
    "execution": {
     "iopub.execute_input": "2024-06-24T09:52:10.852916Z",
     "iopub.status.busy": "2024-06-24T09:52:10.852541Z",
     "iopub.status.idle": "2024-06-24T09:52:10.911830Z",
     "shell.execute_reply": "2024-06-24T09:52:10.910663Z"
    },
    "papermill": {
     "duration": 0.095138,
     "end_time": "2024-06-24T09:52:10.914358",
     "exception": false,
     "start_time": "2024-06-24T09:52:10.819220",
     "status": "completed"
    },
    "tags": []
   },
   "outputs": [
    {
     "name": "stdout",
     "output_type": "stream",
     "text": [
      "Dummy train score 0.5833125\n",
      "Dummy predicted train score 1.0\n",
      "Dummy test score 0.58325\n",
      "Dummy predicted test score 1.0\n"
     ]
    }
   ],
   "source": [
    "from sklearn.dummy import DummyClassifier\n",
    "\n",
    "dummy_clf=DummyClassifier(random_state=42 , strategy=\"most_frequent\")\n",
    "dummy_clf.fit(xtrain, ytrain)\n",
    "print('Dummy train score', dummy_clf.score(ytrain,ytrain))\n",
    "print('Dummy predicted train score', dummy_clf.score(xtrain,dummy_clf.predict(xtrain)))\n",
    "\n",
    "print('Dummy test score', dummy_clf.score(xtest, ytest))\n",
    "\n",
    "print('Dummy predicted test score', dummy_clf.score(xtest, dummy_clf.predict(xtest)))"
   ]
  },
  {
   "cell_type": "markdown",
   "id": "1ff56cc1",
   "metadata": {
    "papermill": {
     "duration": 0.031961,
     "end_time": "2024-06-24T09:52:10.989502",
     "exception": false,
     "start_time": "2024-06-24T09:52:10.957541",
     "status": "completed"
    },
    "tags": []
   },
   "source": [
    "Logistic "
   ]
  },
  {
   "cell_type": "code",
   "execution_count": 81,
   "id": "0176db65",
   "metadata": {
    "execution": {
     "iopub.execute_input": "2024-06-24T09:52:11.055010Z",
     "iopub.status.busy": "2024-06-24T09:52:11.054594Z",
     "iopub.status.idle": "2024-06-24T09:52:11.162904Z",
     "shell.execute_reply": "2024-06-24T09:52:11.161840Z"
    },
    "papermill": {
     "duration": 0.144103,
     "end_time": "2024-06-24T09:52:11.165437",
     "exception": false,
     "start_time": "2024-06-24T09:52:11.021334",
     "status": "completed"
    },
    "tags": []
   },
   "outputs": [],
   "source": [
    "from sklearn.linear_model import LogisticRegression\n",
    "from sklearn.pipeline import Pipeline\n",
    "from sklearn.compose import ColumnTransformer"
   ]
  },
  {
   "cell_type": "code",
   "execution_count": 82,
   "id": "ddb46df6",
   "metadata": {
    "execution": {
     "iopub.execute_input": "2024-06-24T09:52:11.230759Z",
     "iopub.status.busy": "2024-06-24T09:52:11.230367Z",
     "iopub.status.idle": "2024-06-24T09:52:11.248017Z",
     "shell.execute_reply": "2024-06-24T09:52:11.246636Z"
    },
    "papermill": {
     "duration": 0.053385,
     "end_time": "2024-06-24T09:52:11.250603",
     "exception": false,
     "start_time": "2024-06-24T09:52:11.197218",
     "status": "completed"
    },
    "tags": []
   },
   "outputs": [
    {
     "name": "stdout",
     "output_type": "stream",
     "text": [
      "<class 'pandas.core.frame.DataFrame'>\n",
      "RangeIndex: 20000 entries, 0 to 19999\n",
      "Data columns (total 12 columns):\n",
      " #   Column                     Non-Null Count  Dtype  \n",
      "---  ------                     --------------  -----  \n",
      " 0   Latitude                   20000 non-null  float64\n",
      " 1   Longitude                  20000 non-null  float64\n",
      " 2   reporting_delay_day_count  20000 non-null  int64  \n",
      " 3   day_category               20000 non-null  object \n",
      " 4   Victim_Age                 20000 non-null  float64\n",
      " 5   Victim_Sex                 20000 non-null  object \n",
      " 6   Victim_Descent             20000 non-null  object \n",
      " 7   Weapon_Description         20000 non-null  object \n",
      " 8   Area_ID                    20000 non-null  float64\n",
      " 9   Modus_Operandi             20000 non-null  object \n",
      " 10  Part 1-2                   20000 non-null  float64\n",
      " 11  Status                     20000 non-null  object \n",
      "dtypes: float64(5), int64(1), object(6)\n",
      "memory usage: 1.8+ MB\n"
     ]
    }
   ],
   "source": [
    "df.info()"
   ]
  },
  {
   "cell_type": "code",
   "execution_count": 83,
   "id": "602da728",
   "metadata": {
    "execution": {
     "iopub.execute_input": "2024-06-24T09:52:11.318223Z",
     "iopub.status.busy": "2024-06-24T09:52:11.317783Z",
     "iopub.status.idle": "2024-06-24T09:52:11.335256Z",
     "shell.execute_reply": "2024-06-24T09:52:11.334078Z"
    },
    "papermill": {
     "duration": 0.054301,
     "end_time": "2024-06-24T09:52:11.337641",
     "exception": false,
     "start_time": "2024-06-24T09:52:11.283340",
     "status": "completed"
    },
    "tags": []
   },
   "outputs": [
    {
     "name": "stdout",
     "output_type": "stream",
     "text": [
      "<class 'pandas.core.frame.DataFrame'>\n",
      "Index: 16000 entries, 6735 to 554\n",
      "Data columns (total 12 columns):\n",
      " #   Column                     Non-Null Count  Dtype  \n",
      "---  ------                     --------------  -----  \n",
      " 0   Latitude                   16000 non-null  float64\n",
      " 1   Longitude                  16000 non-null  float64\n",
      " 2   reporting_delay_day_count  16000 non-null  int64  \n",
      " 3   day_category               16000 non-null  object \n",
      " 4   Victim_Age                 16000 non-null  float64\n",
      " 5   Victim_Sex                 16000 non-null  object \n",
      " 6   Victim_Descent             16000 non-null  object \n",
      " 7   Weapon_Description         16000 non-null  object \n",
      " 8   Area_ID                    16000 non-null  float64\n",
      " 9   Modus_Operandi             16000 non-null  object \n",
      " 10  Part 1-2                   16000 non-null  float64\n",
      " 11  Status                     16000 non-null  object \n",
      "dtypes: float64(5), int64(1), object(6)\n",
      "memory usage: 1.6+ MB\n"
     ]
    }
   ],
   "source": [
    "xtrain.info()"
   ]
  },
  {
   "cell_type": "code",
   "execution_count": 84,
   "id": "dd9b7143",
   "metadata": {
    "execution": {
     "iopub.execute_input": "2024-06-24T09:52:11.403900Z",
     "iopub.status.busy": "2024-06-24T09:52:11.403530Z",
     "iopub.status.idle": "2024-06-24T09:52:11.410181Z",
     "shell.execute_reply": "2024-06-24T09:52:11.409007Z"
    },
    "papermill": {
     "duration": 0.041914,
     "end_time": "2024-06-24T09:52:11.412352",
     "exception": false,
     "start_time": "2024-06-24T09:52:11.370438",
     "status": "completed"
    },
    "tags": []
   },
   "outputs": [],
   "source": [
    "from sklearn.base import BaseEstimator, TransformerMixin\n",
    "from sklearn.preprocessing import MultiLabelBinarizer\n",
    "\n",
    "class MultiLabelBinarizerWrapper(BaseEstimator, TransformerMixin):\n",
    "    def __init__(self):\n",
    "        self.mlb = MultiLabelBinarizer()\n",
    "\n",
    "    def fit(self, X, y=None):\n",
    "        self.mlb.fit(X)\n",
    "        return self\n",
    "\n",
    "    def transform(self, X):\n",
    "        return self.mlb.transform(X)"
   ]
  },
  {
   "cell_type": "code",
   "execution_count": 85,
   "id": "859c6d54",
   "metadata": {
    "execution": {
     "iopub.execute_input": "2024-06-24T09:52:11.478647Z",
     "iopub.status.busy": "2024-06-24T09:52:11.477856Z",
     "iopub.status.idle": "2024-06-24T09:52:11.496016Z",
     "shell.execute_reply": "2024-06-24T09:52:11.495004Z"
    },
    "papermill": {
     "duration": 0.054192,
     "end_time": "2024-06-24T09:52:11.498428",
     "exception": false,
     "start_time": "2024-06-24T09:52:11.444236",
     "status": "completed"
    },
    "tags": []
   },
   "outputs": [],
   "source": [
    "\n",
    "from sklearn.preprocessing import StandardScaler , OneHotEncoder  , MultiLabelBinarizer\n",
    "from sklearn.feature_extraction.text import CountVectorizer\n",
    "ct=ColumnTransformer(transformers=[\n",
    "    \n",
    "    ('numerical_cols' , StandardScaler(),['Latitude','Longitude','reporting_delay_day_count','Victim_Age']),\n",
    "    ('categorical_cols' , OneHotEncoder(handle_unknown='ignore'),['day_category','Victim_Sex','Victim_Descent','Part 1-2','Area_ID','Status','Weapon_Description']),\n",
    "    ('multi_label_binarizer', MultiLabelBinarizerWrapper(), 'Modus_Operandi')\n",
    "])\n",
    "    "
   ]
  },
  {
   "cell_type": "code",
   "execution_count": 86,
   "id": "de1e46d6",
   "metadata": {
    "execution": {
     "iopub.execute_input": "2024-06-24T09:52:11.564544Z",
     "iopub.status.busy": "2024-06-24T09:52:11.564169Z",
     "iopub.status.idle": "2024-06-24T09:52:11.573473Z",
     "shell.execute_reply": "2024-06-24T09:52:11.572309Z"
    },
    "papermill": {
     "duration": 0.045065,
     "end_time": "2024-06-24T09:52:11.575655",
     "exception": false,
     "start_time": "2024-06-24T09:52:11.530590",
     "status": "completed"
    },
    "tags": []
   },
   "outputs": [
    {
     "data": {
      "text/plain": [
       "21"
      ]
     },
     "execution_count": 86,
     "metadata": {},
     "output_type": "execute_result"
    }
   ],
   "source": [
    "len(df['Area_ID'].value_counts())"
   ]
  },
  {
   "cell_type": "code",
   "execution_count": 87,
   "id": "1e6e9828",
   "metadata": {
    "execution": {
     "iopub.execute_input": "2024-06-24T09:52:11.642184Z",
     "iopub.status.busy": "2024-06-24T09:52:11.641770Z",
     "iopub.status.idle": "2024-06-24T09:52:11.646315Z",
     "shell.execute_reply": "2024-06-24T09:52:11.645225Z"
    },
    "papermill": {
     "duration": 0.040307,
     "end_time": "2024-06-24T09:52:11.648603",
     "exception": false,
     "start_time": "2024-06-24T09:52:11.608296",
     "status": "completed"
    },
    "tags": []
   },
   "outputs": [],
   "source": [
    "# pipe_logistic = Pipeline(steps=[('ct',ct),('logistic_reg',LogisticRegression(solver='saga',C=0.1,warm_start=True, max_iter=1500 ,random_state=42))])"
   ]
  },
  {
   "cell_type": "code",
   "execution_count": 88,
   "id": "acb9e6dc",
   "metadata": {
    "execution": {
     "iopub.execute_input": "2024-06-24T09:52:11.716453Z",
     "iopub.status.busy": "2024-06-24T09:52:11.716077Z",
     "iopub.status.idle": "2024-06-24T09:52:11.720587Z",
     "shell.execute_reply": "2024-06-24T09:52:11.719537Z"
    },
    "papermill": {
     "duration": 0.04103,
     "end_time": "2024-06-24T09:52:11.722809",
     "exception": false,
     "start_time": "2024-06-24T09:52:11.681779",
     "status": "completed"
    },
    "tags": []
   },
   "outputs": [],
   "source": [
    "# pipe_logistic.fit(xtrain,ytrain)"
   ]
  },
  {
   "cell_type": "code",
   "execution_count": 89,
   "id": "264bb775",
   "metadata": {
    "execution": {
     "iopub.execute_input": "2024-06-24T09:52:11.789872Z",
     "iopub.status.busy": "2024-06-24T09:52:11.789106Z",
     "iopub.status.idle": "2024-06-24T09:52:11.793527Z",
     "shell.execute_reply": "2024-06-24T09:52:11.792551Z"
    },
    "papermill": {
     "duration": 0.040042,
     "end_time": "2024-06-24T09:52:11.795580",
     "exception": false,
     "start_time": "2024-06-24T09:52:11.755538",
     "status": "completed"
    },
    "tags": []
   },
   "outputs": [],
   "source": [
    "# pipe_logistic.score(xtest,ytest)"
   ]
  },
  {
   "cell_type": "code",
   "execution_count": 90,
   "id": "f1327a8f",
   "metadata": {
    "execution": {
     "iopub.execute_input": "2024-06-24T09:52:11.861673Z",
     "iopub.status.busy": "2024-06-24T09:52:11.861286Z",
     "iopub.status.idle": "2024-06-24T09:52:11.866827Z",
     "shell.execute_reply": "2024-06-24T09:52:11.865607Z"
    },
    "papermill": {
     "duration": 0.041365,
     "end_time": "2024-06-24T09:52:11.869137",
     "exception": false,
     "start_time": "2024-06-24T09:52:11.827772",
     "status": "completed"
    },
    "tags": []
   },
   "outputs": [],
   "source": [
    "from sklearn.svm import SVC\n",
    "pipe_svc=Pipeline(steps=[('ct',ct),('svc',SVC(decision_function_shape='ovr'))])"
   ]
  },
  {
   "cell_type": "code",
   "execution_count": 91,
   "id": "6a1e934e",
   "metadata": {
    "execution": {
     "iopub.execute_input": "2024-06-24T09:52:11.935669Z",
     "iopub.status.busy": "2024-06-24T09:52:11.934917Z",
     "iopub.status.idle": "2024-06-24T09:52:12.707638Z",
     "shell.execute_reply": "2024-06-24T09:52:12.706569Z"
    },
    "papermill": {
     "duration": 0.808461,
     "end_time": "2024-06-24T09:52:12.709886",
     "exception": false,
     "start_time": "2024-06-24T09:52:11.901425",
     "status": "completed"
    },
    "tags": []
   },
   "outputs": [
    {
     "data": {
      "text/html": [
       "<style>#sk-container-id-1 {color: black;background-color: white;}#sk-container-id-1 pre{padding: 0;}#sk-container-id-1 div.sk-toggleable {background-color: white;}#sk-container-id-1 label.sk-toggleable__label {cursor: pointer;display: block;width: 100%;margin-bottom: 0;padding: 0.3em;box-sizing: border-box;text-align: center;}#sk-container-id-1 label.sk-toggleable__label-arrow:before {content: \"▸\";float: left;margin-right: 0.25em;color: #696969;}#sk-container-id-1 label.sk-toggleable__label-arrow:hover:before {color: black;}#sk-container-id-1 div.sk-estimator:hover label.sk-toggleable__label-arrow:before {color: black;}#sk-container-id-1 div.sk-toggleable__content {max-height: 0;max-width: 0;overflow: hidden;text-align: left;background-color: #f0f8ff;}#sk-container-id-1 div.sk-toggleable__content pre {margin: 0.2em;color: black;border-radius: 0.25em;background-color: #f0f8ff;}#sk-container-id-1 input.sk-toggleable__control:checked~div.sk-toggleable__content {max-height: 200px;max-width: 100%;overflow: auto;}#sk-container-id-1 input.sk-toggleable__control:checked~label.sk-toggleable__label-arrow:before {content: \"▾\";}#sk-container-id-1 div.sk-estimator input.sk-toggleable__control:checked~label.sk-toggleable__label {background-color: #d4ebff;}#sk-container-id-1 div.sk-label input.sk-toggleable__control:checked~label.sk-toggleable__label {background-color: #d4ebff;}#sk-container-id-1 input.sk-hidden--visually {border: 0;clip: rect(1px 1px 1px 1px);clip: rect(1px, 1px, 1px, 1px);height: 1px;margin: -1px;overflow: hidden;padding: 0;position: absolute;width: 1px;}#sk-container-id-1 div.sk-estimator {font-family: monospace;background-color: #f0f8ff;border: 1px dotted black;border-radius: 0.25em;box-sizing: border-box;margin-bottom: 0.5em;}#sk-container-id-1 div.sk-estimator:hover {background-color: #d4ebff;}#sk-container-id-1 div.sk-parallel-item::after {content: \"\";width: 100%;border-bottom: 1px solid gray;flex-grow: 1;}#sk-container-id-1 div.sk-label:hover label.sk-toggleable__label {background-color: #d4ebff;}#sk-container-id-1 div.sk-serial::before {content: \"\";position: absolute;border-left: 1px solid gray;box-sizing: border-box;top: 0;bottom: 0;left: 50%;z-index: 0;}#sk-container-id-1 div.sk-serial {display: flex;flex-direction: column;align-items: center;background-color: white;padding-right: 0.2em;padding-left: 0.2em;position: relative;}#sk-container-id-1 div.sk-item {position: relative;z-index: 1;}#sk-container-id-1 div.sk-parallel {display: flex;align-items: stretch;justify-content: center;background-color: white;position: relative;}#sk-container-id-1 div.sk-item::before, #sk-container-id-1 div.sk-parallel-item::before {content: \"\";position: absolute;border-left: 1px solid gray;box-sizing: border-box;top: 0;bottom: 0;left: 50%;z-index: -1;}#sk-container-id-1 div.sk-parallel-item {display: flex;flex-direction: column;z-index: 1;position: relative;background-color: white;}#sk-container-id-1 div.sk-parallel-item:first-child::after {align-self: flex-end;width: 50%;}#sk-container-id-1 div.sk-parallel-item:last-child::after {align-self: flex-start;width: 50%;}#sk-container-id-1 div.sk-parallel-item:only-child::after {width: 0;}#sk-container-id-1 div.sk-dashed-wrapped {border: 1px dashed gray;margin: 0 0.4em 0.5em 0.4em;box-sizing: border-box;padding-bottom: 0.4em;background-color: white;}#sk-container-id-1 div.sk-label label {font-family: monospace;font-weight: bold;display: inline-block;line-height: 1.2em;}#sk-container-id-1 div.sk-label-container {text-align: center;}#sk-container-id-1 div.sk-container {/* jupyter's `normalize.less` sets `[hidden] { display: none; }` but bootstrap.min.css set `[hidden] { display: none !important; }` so we also need the `!important` here to be able to override the default hidden behavior on the sphinx rendered scikit-learn.org. See: https://github.com/scikit-learn/scikit-learn/issues/21755 */display: inline-block !important;position: relative;}#sk-container-id-1 div.sk-text-repr-fallback {display: none;}</style><div id=\"sk-container-id-1\" class=\"sk-top-container\"><div class=\"sk-text-repr-fallback\"><pre>Pipeline(steps=[(&#x27;ct&#x27;,\n",
       "                 ColumnTransformer(transformers=[(&#x27;numerical_cols&#x27;,\n",
       "                                                  StandardScaler(),\n",
       "                                                  [&#x27;Latitude&#x27;, &#x27;Longitude&#x27;,\n",
       "                                                   &#x27;reporting_delay_day_count&#x27;,\n",
       "                                                   &#x27;Victim_Age&#x27;]),\n",
       "                                                 (&#x27;categorical_cols&#x27;,\n",
       "                                                  OneHotEncoder(handle_unknown=&#x27;ignore&#x27;),\n",
       "                                                  [&#x27;day_category&#x27;, &#x27;Victim_Sex&#x27;,\n",
       "                                                   &#x27;Victim_Descent&#x27;, &#x27;Part 1-2&#x27;,\n",
       "                                                   &#x27;Area_ID&#x27;, &#x27;Status&#x27;,\n",
       "                                                   &#x27;Weapon_Description&#x27;]),\n",
       "                                                 (&#x27;multi_label_binarizer&#x27;,\n",
       "                                                  MultiLabelBinarizerWrapper(),\n",
       "                                                  &#x27;Modus_Operandi&#x27;)])),\n",
       "                (&#x27;svc&#x27;, SVC())])</pre><b>In a Jupyter environment, please rerun this cell to show the HTML representation or trust the notebook. <br />On GitHub, the HTML representation is unable to render, please try loading this page with nbviewer.org.</b></div><div class=\"sk-container\" hidden><div class=\"sk-item sk-dashed-wrapped\"><div class=\"sk-label-container\"><div class=\"sk-label sk-toggleable\"><input class=\"sk-toggleable__control sk-hidden--visually\" id=\"sk-estimator-id-1\" type=\"checkbox\" ><label for=\"sk-estimator-id-1\" class=\"sk-toggleable__label sk-toggleable__label-arrow\">Pipeline</label><div class=\"sk-toggleable__content\"><pre>Pipeline(steps=[(&#x27;ct&#x27;,\n",
       "                 ColumnTransformer(transformers=[(&#x27;numerical_cols&#x27;,\n",
       "                                                  StandardScaler(),\n",
       "                                                  [&#x27;Latitude&#x27;, &#x27;Longitude&#x27;,\n",
       "                                                   &#x27;reporting_delay_day_count&#x27;,\n",
       "                                                   &#x27;Victim_Age&#x27;]),\n",
       "                                                 (&#x27;categorical_cols&#x27;,\n",
       "                                                  OneHotEncoder(handle_unknown=&#x27;ignore&#x27;),\n",
       "                                                  [&#x27;day_category&#x27;, &#x27;Victim_Sex&#x27;,\n",
       "                                                   &#x27;Victim_Descent&#x27;, &#x27;Part 1-2&#x27;,\n",
       "                                                   &#x27;Area_ID&#x27;, &#x27;Status&#x27;,\n",
       "                                                   &#x27;Weapon_Description&#x27;]),\n",
       "                                                 (&#x27;multi_label_binarizer&#x27;,\n",
       "                                                  MultiLabelBinarizerWrapper(),\n",
       "                                                  &#x27;Modus_Operandi&#x27;)])),\n",
       "                (&#x27;svc&#x27;, SVC())])</pre></div></div></div><div class=\"sk-serial\"><div class=\"sk-item sk-dashed-wrapped\"><div class=\"sk-label-container\"><div class=\"sk-label sk-toggleable\"><input class=\"sk-toggleable__control sk-hidden--visually\" id=\"sk-estimator-id-2\" type=\"checkbox\" ><label for=\"sk-estimator-id-2\" class=\"sk-toggleable__label sk-toggleable__label-arrow\">ct: ColumnTransformer</label><div class=\"sk-toggleable__content\"><pre>ColumnTransformer(transformers=[(&#x27;numerical_cols&#x27;, StandardScaler(),\n",
       "                                 [&#x27;Latitude&#x27;, &#x27;Longitude&#x27;,\n",
       "                                  &#x27;reporting_delay_day_count&#x27;, &#x27;Victim_Age&#x27;]),\n",
       "                                (&#x27;categorical_cols&#x27;,\n",
       "                                 OneHotEncoder(handle_unknown=&#x27;ignore&#x27;),\n",
       "                                 [&#x27;day_category&#x27;, &#x27;Victim_Sex&#x27;,\n",
       "                                  &#x27;Victim_Descent&#x27;, &#x27;Part 1-2&#x27;, &#x27;Area_ID&#x27;,\n",
       "                                  &#x27;Status&#x27;, &#x27;Weapon_Description&#x27;]),\n",
       "                                (&#x27;multi_label_binarizer&#x27;,\n",
       "                                 MultiLabelBinarizerWrapper(),\n",
       "                                 &#x27;Modus_Operandi&#x27;)])</pre></div></div></div><div class=\"sk-parallel\"><div class=\"sk-parallel-item\"><div class=\"sk-item\"><div class=\"sk-label-container\"><div class=\"sk-label sk-toggleable\"><input class=\"sk-toggleable__control sk-hidden--visually\" id=\"sk-estimator-id-3\" type=\"checkbox\" ><label for=\"sk-estimator-id-3\" class=\"sk-toggleable__label sk-toggleable__label-arrow\">numerical_cols</label><div class=\"sk-toggleable__content\"><pre>[&#x27;Latitude&#x27;, &#x27;Longitude&#x27;, &#x27;reporting_delay_day_count&#x27;, &#x27;Victim_Age&#x27;]</pre></div></div></div><div class=\"sk-serial\"><div class=\"sk-item\"><div class=\"sk-estimator sk-toggleable\"><input class=\"sk-toggleable__control sk-hidden--visually\" id=\"sk-estimator-id-4\" type=\"checkbox\" ><label for=\"sk-estimator-id-4\" class=\"sk-toggleable__label sk-toggleable__label-arrow\">StandardScaler</label><div class=\"sk-toggleable__content\"><pre>StandardScaler()</pre></div></div></div></div></div></div><div class=\"sk-parallel-item\"><div class=\"sk-item\"><div class=\"sk-label-container\"><div class=\"sk-label sk-toggleable\"><input class=\"sk-toggleable__control sk-hidden--visually\" id=\"sk-estimator-id-5\" type=\"checkbox\" ><label for=\"sk-estimator-id-5\" class=\"sk-toggleable__label sk-toggleable__label-arrow\">categorical_cols</label><div class=\"sk-toggleable__content\"><pre>[&#x27;day_category&#x27;, &#x27;Victim_Sex&#x27;, &#x27;Victim_Descent&#x27;, &#x27;Part 1-2&#x27;, &#x27;Area_ID&#x27;, &#x27;Status&#x27;, &#x27;Weapon_Description&#x27;]</pre></div></div></div><div class=\"sk-serial\"><div class=\"sk-item\"><div class=\"sk-estimator sk-toggleable\"><input class=\"sk-toggleable__control sk-hidden--visually\" id=\"sk-estimator-id-6\" type=\"checkbox\" ><label for=\"sk-estimator-id-6\" class=\"sk-toggleable__label sk-toggleable__label-arrow\">OneHotEncoder</label><div class=\"sk-toggleable__content\"><pre>OneHotEncoder(handle_unknown=&#x27;ignore&#x27;)</pre></div></div></div></div></div></div><div class=\"sk-parallel-item\"><div class=\"sk-item\"><div class=\"sk-label-container\"><div class=\"sk-label sk-toggleable\"><input class=\"sk-toggleable__control sk-hidden--visually\" id=\"sk-estimator-id-7\" type=\"checkbox\" ><label for=\"sk-estimator-id-7\" class=\"sk-toggleable__label sk-toggleable__label-arrow\">multi_label_binarizer</label><div class=\"sk-toggleable__content\"><pre>Modus_Operandi</pre></div></div></div><div class=\"sk-serial\"><div class=\"sk-item\"><div class=\"sk-estimator sk-toggleable\"><input class=\"sk-toggleable__control sk-hidden--visually\" id=\"sk-estimator-id-8\" type=\"checkbox\" ><label for=\"sk-estimator-id-8\" class=\"sk-toggleable__label sk-toggleable__label-arrow\">MultiLabelBinarizerWrapper</label><div class=\"sk-toggleable__content\"><pre>MultiLabelBinarizerWrapper()</pre></div></div></div></div></div></div></div></div><div class=\"sk-item\"><div class=\"sk-estimator sk-toggleable\"><input class=\"sk-toggleable__control sk-hidden--visually\" id=\"sk-estimator-id-9\" type=\"checkbox\" ><label for=\"sk-estimator-id-9\" class=\"sk-toggleable__label sk-toggleable__label-arrow\">SVC</label><div class=\"sk-toggleable__content\"><pre>SVC()</pre></div></div></div></div></div></div></div>"
      ],
      "text/plain": [
       "Pipeline(steps=[('ct',\n",
       "                 ColumnTransformer(transformers=[('numerical_cols',\n",
       "                                                  StandardScaler(),\n",
       "                                                  ['Latitude', 'Longitude',\n",
       "                                                   'reporting_delay_day_count',\n",
       "                                                   'Victim_Age']),\n",
       "                                                 ('categorical_cols',\n",
       "                                                  OneHotEncoder(handle_unknown='ignore'),\n",
       "                                                  ['day_category', 'Victim_Sex',\n",
       "                                                   'Victim_Descent', 'Part 1-2',\n",
       "                                                   'Area_ID', 'Status',\n",
       "                                                   'Weapon_Description']),\n",
       "                                                 ('multi_label_binarizer',\n",
       "                                                  MultiLabelBinarizerWrapper(),\n",
       "                                                  'Modus_Operandi')])),\n",
       "                ('svc', SVC())])"
      ]
     },
     "execution_count": 91,
     "metadata": {},
     "output_type": "execute_result"
    }
   ],
   "source": [
    "pipe_svc.fit(xtest,ytest)"
   ]
  },
  {
   "cell_type": "code",
   "execution_count": 92,
   "id": "27d4505a",
   "metadata": {
    "execution": {
     "iopub.execute_input": "2024-06-24T09:52:12.777797Z",
     "iopub.status.busy": "2024-06-24T09:52:12.777426Z",
     "iopub.status.idle": "2024-06-24T09:52:13.583357Z",
     "shell.execute_reply": "2024-06-24T09:52:13.582195Z"
    },
    "papermill": {
     "duration": 0.842384,
     "end_time": "2024-06-24T09:52:13.585715",
     "exception": false,
     "start_time": "2024-06-24T09:52:12.743331",
     "status": "completed"
    },
    "tags": []
   },
   "outputs": [
    {
     "data": {
      "text/plain": [
       "0.85975"
      ]
     },
     "execution_count": 92,
     "metadata": {},
     "output_type": "execute_result"
    }
   ],
   "source": [
    "pipe_svc.score(xtest,ytest)"
   ]
  },
  {
   "cell_type": "markdown",
   "id": "dca3b9a8",
   "metadata": {
    "papermill": {
     "duration": 0.032961,
     "end_time": "2024-06-24T09:52:13.651747",
     "exception": false,
     "start_time": "2024-06-24T09:52:13.618786",
     "status": "completed"
    },
    "tags": []
   },
   "source": [
    "Test \n"
   ]
  },
  {
   "cell_type": "code",
   "execution_count": 93,
   "id": "a772a5f8",
   "metadata": {
    "execution": {
     "iopub.execute_input": "2024-06-24T09:52:13.719922Z",
     "iopub.status.busy": "2024-06-24T09:52:13.719532Z",
     "iopub.status.idle": "2024-06-24T09:52:18.353348Z",
     "shell.execute_reply": "2024-06-24T09:52:18.352179Z"
    },
    "papermill": {
     "duration": 4.670696,
     "end_time": "2024-06-24T09:52:18.355960",
     "exception": false,
     "start_time": "2024-06-24T09:52:13.685264",
     "status": "completed"
    },
    "tags": []
   },
   "outputs": [],
   "source": [
    "test=pd.read_csv('/kaggle/input/crime-cast-forecasting-crime-categories/test.csv')\n",
    "test['day_category']=test['Time_Occurred'].apply(day_category )\n",
    "\n",
    "\n",
    "test['Date_Reported']=test['Date_Reported'].apply(extract_date)\n",
    "test['Date_Occurred']=test['Date_Occurred'].apply(extract_date)\n",
    "\n",
    "\n",
    "\n",
    "\n",
    "\n",
    "\n",
    "test['Date_Reported']=pd.to_datetime(test['Date_Reported']).dt.date\n",
    "test['Date_Occurred']=pd.to_datetime(test['Date_Occurred']).dt.date\n",
    "\n",
    "test['reporting_delay_day_count']=(test['Date_Reported']-test['Date_Occurred'])\n",
    "\n",
    "\n",
    "\n",
    "\n",
    "\n",
    "\n",
    "def day_count(d):\n",
    "    return d.days\n",
    "test['reporting_delay_day_count']=test['reporting_delay_day_count'].apply(day_count)\n",
    "\n",
    "\n",
    "\n",
    "\n",
    "\n",
    "\n",
    "def victim_gender(val):\n",
    "    if val=='H' or pd.isna(val):\n",
    "        val='X'\n",
    "    return val\n",
    "\n",
    "\n",
    "test.loc[:,'Victim_Sex'] = test['Victim_Sex'].apply(victim_gender)\n",
    "\n",
    "\n",
    "\n",
    "\n",
    "\n",
    "unique_values_weapon_test=pd.DataFrame(test['Weapon_Description'])\n",
    "unique_values_weapon_test.value_counts(normalize=True)\n",
    "\n",
    "\n",
    "\n",
    "\n",
    "\n",
    "\n",
    "\n",
    "distribution_test = test['Weapon_Description'].dropna().value_counts(normalize=True)\n",
    "\n",
    "missing_test = test['Weapon_Description'].isnull().sum()\n",
    "\n",
    "imputed_values_test = np.random.choice(distribution_test.index, size=missing_test, p=distribution_test.values)\n",
    "\n",
    "# Impute the missing values\n",
    "test.loc[test['Weapon_Description'].isnull(), 'Weapon_Description'] = imputed_values_test\n",
    "\n"
   ]
  },
  {
   "cell_type": "code",
   "execution_count": 94,
   "id": "48982e72",
   "metadata": {
    "execution": {
     "iopub.execute_input": "2024-06-24T09:52:18.424809Z",
     "iopub.status.busy": "2024-06-24T09:52:18.423793Z",
     "iopub.status.idle": "2024-06-24T09:52:18.435831Z",
     "shell.execute_reply": "2024-06-24T09:52:18.434872Z"
    },
    "papermill": {
     "duration": 0.049098,
     "end_time": "2024-06-24T09:52:18.438044",
     "exception": false,
     "start_time": "2024-06-24T09:52:18.388946",
     "status": "completed"
    },
    "tags": []
   },
   "outputs": [
    {
     "data": {
      "text/plain": [
       "Location                        0\n",
       "Cross_Street                 4190\n",
       "Latitude                        0\n",
       "Longitude                       0\n",
       "Date_Reported                   0\n",
       "Date_Occurred                   0\n",
       "Time_Occurred                   0\n",
       "Area_ID                         0\n",
       "Area_Name                       0\n",
       "Reporting_District_no           0\n",
       "Part 1-2                        0\n",
       "Modus_Operandi                684\n",
       "Victim_Age                      0\n",
       "Victim_Sex                      0\n",
       "Victim_Descent                643\n",
       "Premise_Code                    0\n",
       "Premise_Description             1\n",
       "Weapon_Used_Code             3153\n",
       "Weapon_Description              0\n",
       "Status                          0\n",
       "Status_Description              0\n",
       "day_category                    0\n",
       "reporting_delay_day_count       0\n",
       "dtype: int64"
      ]
     },
     "execution_count": 94,
     "metadata": {},
     "output_type": "execute_result"
    }
   ],
   "source": [
    "test.isnull().sum()"
   ]
  },
  {
   "cell_type": "code",
   "execution_count": 95,
   "id": "f726473f",
   "metadata": {
    "execution": {
     "iopub.execute_input": "2024-06-24T09:52:18.505941Z",
     "iopub.status.busy": "2024-06-24T09:52:18.505553Z",
     "iopub.status.idle": "2024-06-24T09:52:18.516206Z",
     "shell.execute_reply": "2024-06-24T09:52:18.515153Z"
    },
    "papermill": {
     "duration": 0.047676,
     "end_time": "2024-06-24T09:52:18.518539",
     "exception": false,
     "start_time": "2024-06-24T09:52:18.470863",
     "status": "completed"
    },
    "tags": []
   },
   "outputs": [],
   "source": [
    "distribution_test = test['Victim_Descent'].dropna().value_counts(normalize=True)\n",
    "\n",
    "missing_test = test['Victim_Descent'].isnull().sum()\n",
    "\n",
    "imputed_values_test = np.random.choice(distribution_test.index, size=missing_test, p=distribution_test.values)\n",
    "\n",
    "# Impute the missing values\n",
    "test.loc[test['Victim_Descent'].isnull(), 'Victim_Descent'] = imputed_values_test"
   ]
  },
  {
   "cell_type": "code",
   "execution_count": 96,
   "id": "06408dd3",
   "metadata": {
    "execution": {
     "iopub.execute_input": "2024-06-24T09:52:18.586771Z",
     "iopub.status.busy": "2024-06-24T09:52:18.585860Z",
     "iopub.status.idle": "2024-06-24T09:52:18.608742Z",
     "shell.execute_reply": "2024-06-24T09:52:18.607617Z"
    },
    "papermill": {
     "duration": 0.059297,
     "end_time": "2024-06-24T09:52:18.610873",
     "exception": false,
     "start_time": "2024-06-24T09:52:18.551576",
     "status": "completed"
    },
    "tags": []
   },
   "outputs": [],
   "source": [
    "test['Modus_Operandi']=test['Modus_Operandi'].apply(number_of_activities)\n",
    "test['Part 1-2']=test['Part 1-2'].apply(lambda x : int(x))\n",
    "test['Victim_Age']=test['Victim_Age'].apply(lambda x: int(x))"
   ]
  },
  {
   "cell_type": "code",
   "execution_count": 97,
   "id": "6332939a",
   "metadata": {
    "execution": {
     "iopub.execute_input": "2024-06-24T09:52:18.682934Z",
     "iopub.status.busy": "2024-06-24T09:52:18.682561Z",
     "iopub.status.idle": "2024-06-24T09:52:18.708362Z",
     "shell.execute_reply": "2024-06-24T09:52:18.707206Z"
    },
    "papermill": {
     "duration": 0.066906,
     "end_time": "2024-06-24T09:52:18.710653",
     "exception": false,
     "start_time": "2024-06-24T09:52:18.643747",
     "status": "completed"
    },
    "tags": []
   },
   "outputs": [],
   "source": [
    "test.loc[test['Weapon_Description'] == 'STRONG-ARM (HANDS, FIST, FEET OR BODILY FORCE)', 'Weapon_Description'] = 'Physical Force'\n",
    "\n",
    "\n",
    "\n",
    "test.loc[:,'Weapon_Description']=test['Weapon_Description'].apply(gun)"
   ]
  },
  {
   "cell_type": "code",
   "execution_count": 98,
   "id": "7b6149c5",
   "metadata": {
    "execution": {
     "iopub.execute_input": "2024-06-24T09:52:18.784102Z",
     "iopub.status.busy": "2024-06-24T09:52:18.783659Z",
     "iopub.status.idle": "2024-06-24T09:52:18.801419Z",
     "shell.execute_reply": "2024-06-24T09:52:18.799782Z"
    },
    "papermill": {
     "duration": 0.055528,
     "end_time": "2024-06-24T09:52:18.803867",
     "exception": false,
     "start_time": "2024-06-24T09:52:18.748339",
     "status": "completed"
    },
    "tags": []
   },
   "outputs": [
    {
     "name": "stdout",
     "output_type": "stream",
     "text": [
      "<class 'pandas.core.frame.DataFrame'>\n",
      "Index: 16000 entries, 6735 to 554\n",
      "Data columns (total 12 columns):\n",
      " #   Column                     Non-Null Count  Dtype  \n",
      "---  ------                     --------------  -----  \n",
      " 0   Latitude                   16000 non-null  float64\n",
      " 1   Longitude                  16000 non-null  float64\n",
      " 2   reporting_delay_day_count  16000 non-null  int64  \n",
      " 3   day_category               16000 non-null  object \n",
      " 4   Victim_Age                 16000 non-null  float64\n",
      " 5   Victim_Sex                 16000 non-null  object \n",
      " 6   Victim_Descent             16000 non-null  object \n",
      " 7   Weapon_Description         16000 non-null  object \n",
      " 8   Area_ID                    16000 non-null  float64\n",
      " 9   Modus_Operandi             16000 non-null  object \n",
      " 10  Part 1-2                   16000 non-null  float64\n",
      " 11  Status                     16000 non-null  object \n",
      "dtypes: float64(5), int64(1), object(6)\n",
      "memory usage: 1.6+ MB\n"
     ]
    }
   ],
   "source": [
    "xtrain.info()"
   ]
  },
  {
   "cell_type": "code",
   "execution_count": 99,
   "id": "38c4866e",
   "metadata": {
    "execution": {
     "iopub.execute_input": "2024-06-24T09:52:18.878051Z",
     "iopub.status.busy": "2024-06-24T09:52:18.876962Z",
     "iopub.status.idle": "2024-06-24T09:52:18.886017Z",
     "shell.execute_reply": "2024-06-24T09:52:18.885015Z"
    },
    "papermill": {
     "duration": 0.050154,
     "end_time": "2024-06-24T09:52:18.888201",
     "exception": false,
     "start_time": "2024-06-24T09:52:18.838047",
     "status": "completed"
    },
    "tags": []
   },
   "outputs": [],
   "source": [
    "test=test[['Latitude','Longitude','reporting_delay_day_count','day_category','Area_ID','Victim_Age','Victim_Sex','Modus_Operandi','Victim_Descent','Part 1-2','Weapon_Description','Status']]"
   ]
  },
  {
   "cell_type": "code",
   "execution_count": 100,
   "id": "d4b1a51f",
   "metadata": {
    "execution": {
     "iopub.execute_input": "2024-06-24T09:52:18.963276Z",
     "iopub.status.busy": "2024-06-24T09:52:18.962298Z",
     "iopub.status.idle": "2024-06-24T09:52:18.979279Z",
     "shell.execute_reply": "2024-06-24T09:52:18.977947Z"
    },
    "papermill": {
     "duration": 0.059696,
     "end_time": "2024-06-24T09:52:18.981696",
     "exception": false,
     "start_time": "2024-06-24T09:52:18.922000",
     "status": "completed"
    },
    "tags": []
   },
   "outputs": [
    {
     "name": "stdout",
     "output_type": "stream",
     "text": [
      "<class 'pandas.core.frame.DataFrame'>\n",
      "RangeIndex: 5000 entries, 0 to 4999\n",
      "Data columns (total 12 columns):\n",
      " #   Column                     Non-Null Count  Dtype  \n",
      "---  ------                     --------------  -----  \n",
      " 0   Latitude                   5000 non-null   float64\n",
      " 1   Longitude                  5000 non-null   float64\n",
      " 2   reporting_delay_day_count  5000 non-null   int64  \n",
      " 3   day_category               5000 non-null   object \n",
      " 4   Area_ID                    5000 non-null   float64\n",
      " 5   Victim_Age                 5000 non-null   int64  \n",
      " 6   Victim_Sex                 5000 non-null   object \n",
      " 7   Modus_Operandi             5000 non-null   object \n",
      " 8   Victim_Descent             5000 non-null   object \n",
      " 9   Part 1-2                   5000 non-null   int64  \n",
      " 10  Weapon_Description         5000 non-null   object \n",
      " 11  Status                     5000 non-null   object \n",
      "dtypes: float64(3), int64(3), object(6)\n",
      "memory usage: 468.9+ KB\n"
     ]
    }
   ],
   "source": [
    "test.info()"
   ]
  },
  {
   "cell_type": "code",
   "execution_count": 101,
   "id": "9ff399c8",
   "metadata": {
    "execution": {
     "iopub.execute_input": "2024-06-24T09:52:19.069127Z",
     "iopub.status.busy": "2024-06-24T09:52:19.068629Z",
     "iopub.status.idle": "2024-06-24T09:52:19.093570Z",
     "shell.execute_reply": "2024-06-24T09:52:19.092338Z"
    },
    "papermill": {
     "duration": 0.080559,
     "end_time": "2024-06-24T09:52:19.096375",
     "exception": false,
     "start_time": "2024-06-24T09:52:19.015816",
     "status": "completed"
    },
    "tags": []
   },
   "outputs": [
    {
     "data": {
      "text/html": [
       "<div>\n",
       "<style scoped>\n",
       "    .dataframe tbody tr th:only-of-type {\n",
       "        vertical-align: middle;\n",
       "    }\n",
       "\n",
       "    .dataframe tbody tr th {\n",
       "        vertical-align: top;\n",
       "    }\n",
       "\n",
       "    .dataframe thead th {\n",
       "        text-align: right;\n",
       "    }\n",
       "</style>\n",
       "<table border=\"1\" class=\"dataframe\">\n",
       "  <thead>\n",
       "    <tr style=\"text-align: right;\">\n",
       "      <th></th>\n",
       "      <th>Latitude</th>\n",
       "      <th>Longitude</th>\n",
       "      <th>reporting_delay_day_count</th>\n",
       "      <th>day_category</th>\n",
       "      <th>Area_ID</th>\n",
       "      <th>Victim_Age</th>\n",
       "      <th>Victim_Sex</th>\n",
       "      <th>Modus_Operandi</th>\n",
       "      <th>Victim_Descent</th>\n",
       "      <th>Part 1-2</th>\n",
       "      <th>Weapon_Description</th>\n",
       "      <th>Status</th>\n",
       "    </tr>\n",
       "  </thead>\n",
       "  <tbody>\n",
       "    <tr>\n",
       "      <th>0</th>\n",
       "      <td>34.0128</td>\n",
       "      <td>-118.3045</td>\n",
       "      <td>0</td>\n",
       "      <td>Evening</td>\n",
       "      <td>3.0</td>\n",
       "      <td>28</td>\n",
       "      <td>F</td>\n",
       "      <td>1241 1243 1821 2000 1813 0416</td>\n",
       "      <td>H</td>\n",
       "      <td>2</td>\n",
       "      <td>Physical Force</td>\n",
       "      <td>IC</td>\n",
       "    </tr>\n",
       "    <tr>\n",
       "      <th>1</th>\n",
       "      <td>34.0726</td>\n",
       "      <td>-118.3029</td>\n",
       "      <td>37</td>\n",
       "      <td>Night</td>\n",
       "      <td>20.0</td>\n",
       "      <td>26</td>\n",
       "      <td>M</td>\n",
       "      <td>0394 0344</td>\n",
       "      <td>B</td>\n",
       "      <td>1</td>\n",
       "      <td>Physical Force</td>\n",
       "      <td>IC</td>\n",
       "    </tr>\n",
       "    <tr>\n",
       "      <th>2</th>\n",
       "      <td>33.9348</td>\n",
       "      <td>-118.2695</td>\n",
       "      <td>1</td>\n",
       "      <td>Morning</td>\n",
       "      <td>18.0</td>\n",
       "      <td>62</td>\n",
       "      <td>F</td>\n",
       "      <td>1914 0355 0701 1202 1822 0100</td>\n",
       "      <td>B</td>\n",
       "      <td>2</td>\n",
       "      <td>other_weapon</td>\n",
       "      <td>IC</td>\n",
       "    </tr>\n",
       "    <tr>\n",
       "      <th>3</th>\n",
       "      <td>34.0497</td>\n",
       "      <td>-118.3442</td>\n",
       "      <td>20</td>\n",
       "      <td>Night</td>\n",
       "      <td>7.0</td>\n",
       "      <td>0</td>\n",
       "      <td>X</td>\n",
       "      <td></td>\n",
       "      <td>A</td>\n",
       "      <td>1</td>\n",
       "      <td>Physical Force</td>\n",
       "      <td>IC</td>\n",
       "    </tr>\n",
       "    <tr>\n",
       "      <th>4</th>\n",
       "      <td>34.1611</td>\n",
       "      <td>-118.3704</td>\n",
       "      <td>1</td>\n",
       "      <td>Night</td>\n",
       "      <td>15.0</td>\n",
       "      <td>37</td>\n",
       "      <td>F</td>\n",
       "      <td>1501</td>\n",
       "      <td>W</td>\n",
       "      <td>2</td>\n",
       "      <td>sharp_heavy_object</td>\n",
       "      <td>AO</td>\n",
       "    </tr>\n",
       "    <tr>\n",
       "      <th>...</th>\n",
       "      <td>...</td>\n",
       "      <td>...</td>\n",
       "      <td>...</td>\n",
       "      <td>...</td>\n",
       "      <td>...</td>\n",
       "      <td>...</td>\n",
       "      <td>...</td>\n",
       "      <td>...</td>\n",
       "      <td>...</td>\n",
       "      <td>...</td>\n",
       "      <td>...</td>\n",
       "      <td>...</td>\n",
       "    </tr>\n",
       "    <tr>\n",
       "      <th>4995</th>\n",
       "      <td>34.0409</td>\n",
       "      <td>-118.3408</td>\n",
       "      <td>1</td>\n",
       "      <td>Night</td>\n",
       "      <td>7.0</td>\n",
       "      <td>0</td>\n",
       "      <td>X</td>\n",
       "      <td></td>\n",
       "      <td>F</td>\n",
       "      <td>1</td>\n",
       "      <td>sharp_heavy_object</td>\n",
       "      <td>IC</td>\n",
       "    </tr>\n",
       "    <tr>\n",
       "      <th>4996</th>\n",
       "      <td>34.0347</td>\n",
       "      <td>-118.2253</td>\n",
       "      <td>7</td>\n",
       "      <td>Daytime</td>\n",
       "      <td>4.0</td>\n",
       "      <td>0</td>\n",
       "      <td>X</td>\n",
       "      <td>1300 0325</td>\n",
       "      <td>X</td>\n",
       "      <td>1</td>\n",
       "      <td>Physical Force</td>\n",
       "      <td>IC</td>\n",
       "    </tr>\n",
       "    <tr>\n",
       "      <th>4997</th>\n",
       "      <td>34.2392</td>\n",
       "      <td>-118.4698</td>\n",
       "      <td>0</td>\n",
       "      <td>Night</td>\n",
       "      <td>19.0</td>\n",
       "      <td>38</td>\n",
       "      <td>M</td>\n",
       "      <td>0913 1817 0416</td>\n",
       "      <td>H</td>\n",
       "      <td>2</td>\n",
       "      <td>Physical Force</td>\n",
       "      <td>AA</td>\n",
       "    </tr>\n",
       "    <tr>\n",
       "      <th>4998</th>\n",
       "      <td>34.0453</td>\n",
       "      <td>-118.2443</td>\n",
       "      <td>1</td>\n",
       "      <td>Night</td>\n",
       "      <td>1.0</td>\n",
       "      <td>41</td>\n",
       "      <td>M</td>\n",
       "      <td>0416</td>\n",
       "      <td>B</td>\n",
       "      <td>2</td>\n",
       "      <td>sharp_heavy_object</td>\n",
       "      <td>AO</td>\n",
       "    </tr>\n",
       "    <tr>\n",
       "      <th>4999</th>\n",
       "      <td>33.9438</td>\n",
       "      <td>-118.2695</td>\n",
       "      <td>0</td>\n",
       "      <td>Night</td>\n",
       "      <td>18.0</td>\n",
       "      <td>49</td>\n",
       "      <td>M</td>\n",
       "      <td>0329 1822</td>\n",
       "      <td>B</td>\n",
       "      <td>2</td>\n",
       "      <td>Physical Force</td>\n",
       "      <td>IC</td>\n",
       "    </tr>\n",
       "  </tbody>\n",
       "</table>\n",
       "<p>5000 rows × 12 columns</p>\n",
       "</div>"
      ],
      "text/plain": [
       "      Latitude  Longitude  reporting_delay_day_count day_category  Area_ID  \\\n",
       "0      34.0128  -118.3045                          0      Evening      3.0   \n",
       "1      34.0726  -118.3029                         37        Night     20.0   \n",
       "2      33.9348  -118.2695                          1      Morning     18.0   \n",
       "3      34.0497  -118.3442                         20        Night      7.0   \n",
       "4      34.1611  -118.3704                          1        Night     15.0   \n",
       "...        ...        ...                        ...          ...      ...   \n",
       "4995   34.0409  -118.3408                          1        Night      7.0   \n",
       "4996   34.0347  -118.2253                          7      Daytime      4.0   \n",
       "4997   34.2392  -118.4698                          0        Night     19.0   \n",
       "4998   34.0453  -118.2443                          1        Night      1.0   \n",
       "4999   33.9438  -118.2695                          0        Night     18.0   \n",
       "\n",
       "      Victim_Age Victim_Sex                 Modus_Operandi Victim_Descent  \\\n",
       "0             28          F  1241 1243 1821 2000 1813 0416              H   \n",
       "1             26          M                      0394 0344              B   \n",
       "2             62          F  1914 0355 0701 1202 1822 0100              B   \n",
       "3              0          X                                             A   \n",
       "4             37          F                           1501              W   \n",
       "...          ...        ...                            ...            ...   \n",
       "4995           0          X                                             F   \n",
       "4996           0          X                      1300 0325              X   \n",
       "4997          38          M                 0913 1817 0416              H   \n",
       "4998          41          M                           0416              B   \n",
       "4999          49          M                      0329 1822              B   \n",
       "\n",
       "      Part 1-2  Weapon_Description Status  \n",
       "0            2      Physical Force     IC  \n",
       "1            1      Physical Force     IC  \n",
       "2            2        other_weapon     IC  \n",
       "3            1      Physical Force     IC  \n",
       "4            2  sharp_heavy_object     AO  \n",
       "...        ...                 ...    ...  \n",
       "4995         1  sharp_heavy_object     IC  \n",
       "4996         1      Physical Force     IC  \n",
       "4997         2      Physical Force     AA  \n",
       "4998         2  sharp_heavy_object     AO  \n",
       "4999         2      Physical Force     IC  \n",
       "\n",
       "[5000 rows x 12 columns]"
      ]
     },
     "execution_count": 101,
     "metadata": {},
     "output_type": "execute_result"
    }
   ],
   "source": [
    "test"
   ]
  },
  {
   "cell_type": "code",
   "execution_count": 102,
   "id": "2c62f59d",
   "metadata": {
    "execution": {
     "iopub.execute_input": "2024-06-24T09:52:19.188780Z",
     "iopub.status.busy": "2024-06-24T09:52:19.188402Z",
     "iopub.status.idle": "2024-06-24T09:52:19.195112Z",
     "shell.execute_reply": "2024-06-24T09:52:19.193909Z"
    },
    "papermill": {
     "duration": 0.056064,
     "end_time": "2024-06-24T09:52:19.197153",
     "exception": false,
     "start_time": "2024-06-24T09:52:19.141089",
     "status": "completed"
    },
    "tags": []
   },
   "outputs": [
    {
     "data": {
      "text/plain": [
       "(5000, 12)"
      ]
     },
     "execution_count": 102,
     "metadata": {},
     "output_type": "execute_result"
    }
   ],
   "source": [
    "test.shape"
   ]
  },
  {
   "cell_type": "code",
   "execution_count": 103,
   "id": "96f5c30a",
   "metadata": {
    "execution": {
     "iopub.execute_input": "2024-06-24T09:52:19.268090Z",
     "iopub.status.busy": "2024-06-24T09:52:19.266956Z",
     "iopub.status.idle": "2024-06-24T09:52:19.286394Z",
     "shell.execute_reply": "2024-06-24T09:52:19.285185Z"
    },
    "papermill": {
     "duration": 0.057463,
     "end_time": "2024-06-24T09:52:19.289107",
     "exception": false,
     "start_time": "2024-06-24T09:52:19.231644",
     "status": "completed"
    },
    "tags": []
   },
   "outputs": [
    {
     "data": {
      "text/html": [
       "<div>\n",
       "<style scoped>\n",
       "    .dataframe tbody tr th:only-of-type {\n",
       "        vertical-align: middle;\n",
       "    }\n",
       "\n",
       "    .dataframe tbody tr th {\n",
       "        vertical-align: top;\n",
       "    }\n",
       "\n",
       "    .dataframe thead th {\n",
       "        text-align: right;\n",
       "    }\n",
       "</style>\n",
       "<table border=\"1\" class=\"dataframe\">\n",
       "  <thead>\n",
       "    <tr style=\"text-align: right;\">\n",
       "      <th></th>\n",
       "      <th>ID</th>\n",
       "      <th>Crime_Category</th>\n",
       "      <th>Unnamed: 2</th>\n",
       "    </tr>\n",
       "  </thead>\n",
       "  <tbody>\n",
       "    <tr>\n",
       "      <th>0</th>\n",
       "      <td>1</td>\n",
       "      <td>Crimes against Persons</td>\n",
       "      <td>NaN</td>\n",
       "    </tr>\n",
       "    <tr>\n",
       "      <th>1</th>\n",
       "      <td>2</td>\n",
       "      <td>Crimes against Public Order</td>\n",
       "      <td>NaN</td>\n",
       "    </tr>\n",
       "    <tr>\n",
       "      <th>2</th>\n",
       "      <td>3</td>\n",
       "      <td>Other Crimes</td>\n",
       "      <td>NaN</td>\n",
       "    </tr>\n",
       "    <tr>\n",
       "      <th>3</th>\n",
       "      <td>4</td>\n",
       "      <td>Crimes against Public Order</td>\n",
       "      <td>NaN</td>\n",
       "    </tr>\n",
       "    <tr>\n",
       "      <th>4</th>\n",
       "      <td>5</td>\n",
       "      <td>Other Crimes</td>\n",
       "      <td>NaN</td>\n",
       "    </tr>\n",
       "    <tr>\n",
       "      <th>...</th>\n",
       "      <td>...</td>\n",
       "      <td>...</td>\n",
       "      <td>...</td>\n",
       "    </tr>\n",
       "    <tr>\n",
       "      <th>995</th>\n",
       "      <td>996</td>\n",
       "      <td>Fraud and White-Collar Crimes</td>\n",
       "      <td>NaN</td>\n",
       "    </tr>\n",
       "    <tr>\n",
       "      <th>996</th>\n",
       "      <td>997</td>\n",
       "      <td>Property Crimes</td>\n",
       "      <td>NaN</td>\n",
       "    </tr>\n",
       "    <tr>\n",
       "      <th>997</th>\n",
       "      <td>998</td>\n",
       "      <td>Violent Crimes</td>\n",
       "      <td>NaN</td>\n",
       "    </tr>\n",
       "    <tr>\n",
       "      <th>998</th>\n",
       "      <td>999</td>\n",
       "      <td>Property Crimes</td>\n",
       "      <td>NaN</td>\n",
       "    </tr>\n",
       "    <tr>\n",
       "      <th>999</th>\n",
       "      <td>1000</td>\n",
       "      <td>Violent Crimes</td>\n",
       "      <td>NaN</td>\n",
       "    </tr>\n",
       "  </tbody>\n",
       "</table>\n",
       "<p>1000 rows × 3 columns</p>\n",
       "</div>"
      ],
      "text/plain": [
       "       ID                Crime_Category   Unnamed: 2\n",
       "0       1         Crimes against Persons         NaN\n",
       "1       2    Crimes against Public Order         NaN\n",
       "2       3                   Other Crimes         NaN\n",
       "3       4    Crimes against Public Order         NaN\n",
       "4       5                   Other Crimes         NaN\n",
       "..    ...                            ...         ...\n",
       "995   996  Fraud and White-Collar Crimes         NaN\n",
       "996   997                Property Crimes         NaN\n",
       "997   998                 Violent Crimes         NaN\n",
       "998   999                Property Crimes         NaN\n",
       "999  1000                 Violent Crimes         NaN\n",
       "\n",
       "[1000 rows x 3 columns]"
      ]
     },
     "execution_count": 103,
     "metadata": {},
     "output_type": "execute_result"
    }
   ],
   "source": [
    "sample=pd.read_csv('/kaggle/input/crime-cast-forecasting-crime-categories/sample.csv')\n",
    "sample"
   ]
  },
  {
   "cell_type": "code",
   "execution_count": 104,
   "id": "9f132c7c",
   "metadata": {
    "execution": {
     "iopub.execute_input": "2024-06-24T09:52:19.360325Z",
     "iopub.status.busy": "2024-06-24T09:52:19.359482Z",
     "iopub.status.idle": "2024-06-24T09:52:19.372914Z",
     "shell.execute_reply": "2024-06-24T09:52:19.371859Z"
    },
    "papermill": {
     "duration": 0.051615,
     "end_time": "2024-06-24T09:52:19.375128",
     "exception": false,
     "start_time": "2024-06-24T09:52:19.323513",
     "status": "completed"
    },
    "tags": []
   },
   "outputs": [
    {
     "data": {
      "text/plain": [
       "Latitude                     0\n",
       "Longitude                    0\n",
       "reporting_delay_day_count    0\n",
       "day_category                 0\n",
       "Area_ID                      0\n",
       "Victim_Age                   0\n",
       "Victim_Sex                   0\n",
       "Modus_Operandi               0\n",
       "Victim_Descent               0\n",
       "Part 1-2                     0\n",
       "Weapon_Description           0\n",
       "Status                       0\n",
       "dtype: int64"
      ]
     },
     "execution_count": 104,
     "metadata": {},
     "output_type": "execute_result"
    }
   ],
   "source": [
    "test.isnull().sum()"
   ]
  },
  {
   "cell_type": "code",
   "execution_count": 105,
   "id": "3e16f5a6",
   "metadata": {
    "execution": {
     "iopub.execute_input": "2024-06-24T09:52:19.446957Z",
     "iopub.status.busy": "2024-06-24T09:52:19.445937Z",
     "iopub.status.idle": "2024-06-24T09:52:20.408398Z",
     "shell.execute_reply": "2024-06-24T09:52:20.407316Z"
    },
    "papermill": {
     "duration": 1.00144,
     "end_time": "2024-06-24T09:52:20.410883",
     "exception": false,
     "start_time": "2024-06-24T09:52:19.409443",
     "status": "completed"
    },
    "tags": []
   },
   "outputs": [],
   "source": [
    "y_pred=pipe_svc.predict(test)\n",
    "submission=pd.DataFrame({'ID': np.arange(1,5000+1), 'Crime_Category': y_pred})\n",
    "\n",
    "submission.to_csv('submission.csv',index=False)"
   ]
  },
  {
   "cell_type": "code",
   "execution_count": null,
   "id": "4c19b7c3",
   "metadata": {
    "papermill": {
     "duration": 0.034051,
     "end_time": "2024-06-24T09:52:20.480155",
     "exception": false,
     "start_time": "2024-06-24T09:52:20.446104",
     "status": "completed"
    },
    "tags": []
   },
   "outputs": [],
   "source": []
  },
  {
   "cell_type": "code",
   "execution_count": null,
   "id": "c3b15ad4",
   "metadata": {
    "papermill": {
     "duration": 0.033651,
     "end_time": "2024-06-24T09:52:20.547958",
     "exception": false,
     "start_time": "2024-06-24T09:52:20.514307",
     "status": "completed"
    },
    "tags": []
   },
   "outputs": [],
   "source": []
  },
  {
   "cell_type": "code",
   "execution_count": null,
   "id": "73504d85",
   "metadata": {
    "papermill": {
     "duration": 0.034024,
     "end_time": "2024-06-24T09:52:20.616171",
     "exception": false,
     "start_time": "2024-06-24T09:52:20.582147",
     "status": "completed"
    },
    "tags": []
   },
   "outputs": [],
   "source": []
  },
  {
   "cell_type": "code",
   "execution_count": null,
   "id": "3c8b3ba4",
   "metadata": {
    "papermill": {
     "duration": 0.033512,
     "end_time": "2024-06-24T09:52:20.683881",
     "exception": false,
     "start_time": "2024-06-24T09:52:20.650369",
     "status": "completed"
    },
    "tags": []
   },
   "outputs": [],
   "source": []
  },
  {
   "cell_type": "code",
   "execution_count": null,
   "id": "0760d513",
   "metadata": {
    "papermill": {
     "duration": 0.034048,
     "end_time": "2024-06-24T09:52:20.751873",
     "exception": false,
     "start_time": "2024-06-24T09:52:20.717825",
     "status": "completed"
    },
    "tags": []
   },
   "outputs": [],
   "source": []
  },
  {
   "cell_type": "code",
   "execution_count": null,
   "id": "7262ceaa",
   "metadata": {
    "papermill": {
     "duration": 0.033542,
     "end_time": "2024-06-24T09:52:20.819465",
     "exception": false,
     "start_time": "2024-06-24T09:52:20.785923",
     "status": "completed"
    },
    "tags": []
   },
   "outputs": [],
   "source": []
  }
 ],
 "metadata": {
  "kaggle": {
   "accelerator": "none",
   "dataSources": [
    {
     "databundleVersionId": 8446444,
     "sourceId": 77420,
     "sourceType": "competition"
    }
   ],
   "dockerImageVersionId": 30715,
   "isGpuEnabled": false,
   "isInternetEnabled": false,
   "language": "python",
   "sourceType": "notebook"
  },
  "kernelspec": {
   "display_name": "Python 3",
   "language": "python",
   "name": "python3"
  },
  "language_info": {
   "codemirror_mode": {
    "name": "ipython",
    "version": 3
   },
   "file_extension": ".py",
   "mimetype": "text/x-python",
   "name": "python",
   "nbconvert_exporter": "python",
   "pygments_lexer": "ipython3",
   "version": "3.10.13"
  },
  "papermill": {
   "default_parameters": {},
   "duration": 41.162582,
   "end_time": "2024-06-24T09:52:21.474349",
   "environment_variables": {},
   "exception": null,
   "input_path": "__notebook__.ipynb",
   "output_path": "__notebook__.ipynb",
   "parameters": {},
   "start_time": "2024-06-24T09:51:40.311767",
   "version": "2.5.0"
  }
 },
 "nbformat": 4,
 "nbformat_minor": 5
}
