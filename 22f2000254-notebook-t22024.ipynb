{
 "cells": [
  {
   "cell_type": "code",
   "execution_count": 1,
   "id": "327db987",
   "metadata": {
    "_cell_guid": "b1076dfc-b9ad-4769-8c92-a6c4dae69d19",
    "_uuid": "8f2839f25d086af736a60e9eeb907d3b93b6e0e5",
    "execution": {
     "iopub.execute_input": "2024-07-18T17:09:32.902062Z",
     "iopub.status.busy": "2024-07-18T17:09:32.901622Z",
     "iopub.status.idle": "2024-07-18T17:09:34.257841Z",
     "shell.execute_reply": "2024-07-18T17:09:34.256254Z"
    },
    "papermill": {
     "duration": 1.407797,
     "end_time": "2024-07-18T17:09:34.260753",
     "exception": false,
     "start_time": "2024-07-18T17:09:32.852956",
     "status": "completed"
    },
    "tags": []
   },
   "outputs": [
    {
     "name": "stdout",
     "output_type": "stream",
     "text": [
      "/kaggle/input/crime-cast-forecasting-crime-categories/sample.csv\n",
      "/kaggle/input/crime-cast-forecasting-crime-categories/train.csv\n",
      "/kaggle/input/crime-cast-forecasting-crime-categories/test.csv\n"
     ]
    }
   ],
   "source": [
    "# This Python 3 environment comes with many helpful analytics libraries installed\n",
    "# It is defined by the kaggle/python Docker image: https://github.com/kaggle/docker-python\n",
    "# For example, here's several helpful packages to load\n",
    "\n",
    "import numpy as np # linear algebra\n",
    "import pandas as pd # data processing, CSV file I/O (e.g. pd.read_csv)\n",
    "\n",
    "# Input data files are available in the read-only \"../input/\" directory\n",
    "# For example, running this (by clicking run or pressing Shift+Enter), will list all files under the input directory\n",
    "\n",
    "import os\n",
    "\n",
    "for dirname, _, filenames in os.walk('/kaggle/input'):\n",
    "    for filename in filenames:\n",
    "        print(os.path.join(dirname, filename))\n",
    "\n",
    "# You can write up to 20GB to the current directory (/kaggle/working/) that gets preserved as output when you create a version using \"Save & Run All\" \n",
    "# You can also write temporary files to /kaggle/temp/, but they won't be saved outside of the current session"
   ]
  },
  {
   "cell_type": "code",
   "execution_count": 2,
   "id": "e3d19c7e",
   "metadata": {
    "execution": {
     "iopub.execute_input": "2024-07-18T17:09:34.357775Z",
     "iopub.status.busy": "2024-07-18T17:09:34.357225Z",
     "iopub.status.idle": "2024-07-18T17:09:36.576707Z",
     "shell.execute_reply": "2024-07-18T17:09:36.575365Z"
    },
    "papermill": {
     "duration": 2.274909,
     "end_time": "2024-07-18T17:09:36.580962",
     "exception": false,
     "start_time": "2024-07-18T17:09:34.306053",
     "status": "completed"
    },
    "tags": []
   },
   "outputs": [],
   "source": [
    "import matplotlib.pyplot as plt\n",
    "import seaborn as sns \n",
    "\n",
    "\n",
    "import datetime\n",
    "\n",
    "\n",
    "from sklearn.model_selection import train_test_split \n",
    "\n",
    "\n",
    "from sklearn.metrics import classification_report , ConfusionMatrixDisplay"
   ]
  },
  {
   "cell_type": "code",
   "execution_count": 3,
   "id": "e619abdf",
   "metadata": {
    "execution": {
     "iopub.execute_input": "2024-07-18T17:09:36.678185Z",
     "iopub.status.busy": "2024-07-18T17:09:36.677712Z",
     "iopub.status.idle": "2024-07-18T17:09:37.082495Z",
     "shell.execute_reply": "2024-07-18T17:09:37.081351Z"
    },
    "papermill": {
     "duration": 0.453243,
     "end_time": "2024-07-18T17:09:37.085420",
     "exception": false,
     "start_time": "2024-07-18T17:09:36.632177",
     "status": "completed"
    },
    "tags": []
   },
   "outputs": [],
   "source": [
    "train =pd.read_csv('/kaggle/input/crime-cast-forecasting-crime-categories/train.csv')\n",
    "train2 =pd.read_csv('/kaggle/input/crime-cast-forecasting-crime-categories/train.csv')\n",
    "\n",
    "test_final=pd.read_csv('/kaggle/input/crime-cast-forecasting-crime-categories/test.csv')\n"
   ]
  },
  {
   "cell_type": "code",
   "execution_count": 4,
   "id": "381b2d0d",
   "metadata": {
    "execution": {
     "iopub.execute_input": "2024-07-18T17:09:37.173433Z",
     "iopub.status.busy": "2024-07-18T17:09:37.172837Z",
     "iopub.status.idle": "2024-07-18T17:09:37.253220Z",
     "shell.execute_reply": "2024-07-18T17:09:37.251672Z"
    },
    "papermill": {
     "duration": 0.127496,
     "end_time": "2024-07-18T17:09:37.256218",
     "exception": false,
     "start_time": "2024-07-18T17:09:37.128722",
     "status": "completed"
    },
    "tags": []
   },
   "outputs": [
    {
     "data": {
      "text/html": [
       "<div>\n",
       "<style scoped>\n",
       "    .dataframe tbody tr th:only-of-type {\n",
       "        vertical-align: middle;\n",
       "    }\n",
       "\n",
       "    .dataframe tbody tr th {\n",
       "        vertical-align: top;\n",
       "    }\n",
       "\n",
       "    .dataframe thead th {\n",
       "        text-align: right;\n",
       "    }\n",
       "</style>\n",
       "<table border=\"1\" class=\"dataframe\">\n",
       "  <thead>\n",
       "    <tr style=\"text-align: right;\">\n",
       "      <th></th>\n",
       "      <th>Location</th>\n",
       "      <th>Cross_Street</th>\n",
       "      <th>Latitude</th>\n",
       "      <th>Longitude</th>\n",
       "      <th>Date_Reported</th>\n",
       "      <th>Date_Occurred</th>\n",
       "      <th>Time_Occurred</th>\n",
       "      <th>Area_ID</th>\n",
       "      <th>Area_Name</th>\n",
       "      <th>Reporting_District_no</th>\n",
       "      <th>...</th>\n",
       "      <th>Victim_Age</th>\n",
       "      <th>Victim_Sex</th>\n",
       "      <th>Victim_Descent</th>\n",
       "      <th>Premise_Code</th>\n",
       "      <th>Premise_Description</th>\n",
       "      <th>Weapon_Used_Code</th>\n",
       "      <th>Weapon_Description</th>\n",
       "      <th>Status</th>\n",
       "      <th>Status_Description</th>\n",
       "      <th>Crime_Category</th>\n",
       "    </tr>\n",
       "  </thead>\n",
       "  <tbody>\n",
       "    <tr>\n",
       "      <th>0</th>\n",
       "      <td>4500    CARPENTER                    AV</td>\n",
       "      <td>NaN</td>\n",
       "      <td>34.1522</td>\n",
       "      <td>-118.3910</td>\n",
       "      <td>03/09/2020 12:00:00 AM</td>\n",
       "      <td>03/06/2020 12:00:00 AM</td>\n",
       "      <td>1800.0</td>\n",
       "      <td>15.0</td>\n",
       "      <td>N Hollywood</td>\n",
       "      <td>1563.0</td>\n",
       "      <td>...</td>\n",
       "      <td>75.0</td>\n",
       "      <td>M</td>\n",
       "      <td>W</td>\n",
       "      <td>101.0</td>\n",
       "      <td>STREET</td>\n",
       "      <td>NaN</td>\n",
       "      <td>NaN</td>\n",
       "      <td>IC</td>\n",
       "      <td>Invest Cont</td>\n",
       "      <td>Property Crimes</td>\n",
       "    </tr>\n",
       "    <tr>\n",
       "      <th>1</th>\n",
       "      <td>45TH                         ST</td>\n",
       "      <td>ALAMEDA                      ST</td>\n",
       "      <td>34.0028</td>\n",
       "      <td>-118.2391</td>\n",
       "      <td>02/27/2020 12:00:00 AM</td>\n",
       "      <td>02/27/2020 12:00:00 AM</td>\n",
       "      <td>1345.0</td>\n",
       "      <td>13.0</td>\n",
       "      <td>Newton</td>\n",
       "      <td>1367.0</td>\n",
       "      <td>...</td>\n",
       "      <td>41.0</td>\n",
       "      <td>M</td>\n",
       "      <td>H</td>\n",
       "      <td>216.0</td>\n",
       "      <td>SWAP MEET</td>\n",
       "      <td>400.0</td>\n",
       "      <td>STRONG-ARM (HANDS, FIST, FEET OR BODILY FORCE)</td>\n",
       "      <td>IC</td>\n",
       "      <td>Invest Cont</td>\n",
       "      <td>Property Crimes</td>\n",
       "    </tr>\n",
       "    <tr>\n",
       "      <th>2</th>\n",
       "      <td>600 E  MARTIN LUTHER KING JR        BL</td>\n",
       "      <td>NaN</td>\n",
       "      <td>34.0111</td>\n",
       "      <td>-118.2653</td>\n",
       "      <td>08/21/2020 12:00:00 AM</td>\n",
       "      <td>08/21/2020 12:00:00 AM</td>\n",
       "      <td>605.0</td>\n",
       "      <td>13.0</td>\n",
       "      <td>Newton</td>\n",
       "      <td>1343.0</td>\n",
       "      <td>...</td>\n",
       "      <td>67.0</td>\n",
       "      <td>M</td>\n",
       "      <td>B</td>\n",
       "      <td>501.0</td>\n",
       "      <td>SINGLE FAMILY DWELLING</td>\n",
       "      <td>NaN</td>\n",
       "      <td>NaN</td>\n",
       "      <td>IC</td>\n",
       "      <td>Invest Cont</td>\n",
       "      <td>Property Crimes</td>\n",
       "    </tr>\n",
       "    <tr>\n",
       "      <th>3</th>\n",
       "      <td>14900    ORO GRANDE                   ST</td>\n",
       "      <td>NaN</td>\n",
       "      <td>34.2953</td>\n",
       "      <td>-118.4590</td>\n",
       "      <td>11/08/2020 12:00:00 AM</td>\n",
       "      <td>11/06/2020 12:00:00 AM</td>\n",
       "      <td>1800.0</td>\n",
       "      <td>19.0</td>\n",
       "      <td>Mission</td>\n",
       "      <td>1924.0</td>\n",
       "      <td>...</td>\n",
       "      <td>61.0</td>\n",
       "      <td>M</td>\n",
       "      <td>H</td>\n",
       "      <td>101.0</td>\n",
       "      <td>STREET</td>\n",
       "      <td>NaN</td>\n",
       "      <td>NaN</td>\n",
       "      <td>IC</td>\n",
       "      <td>Invest Cont</td>\n",
       "      <td>Property Crimes</td>\n",
       "    </tr>\n",
       "    <tr>\n",
       "      <th>4</th>\n",
       "      <td>7100 S  VERMONT                      AV</td>\n",
       "      <td>NaN</td>\n",
       "      <td>33.9787</td>\n",
       "      <td>-118.2918</td>\n",
       "      <td>02/25/2020 12:00:00 AM</td>\n",
       "      <td>02/25/2020 12:00:00 AM</td>\n",
       "      <td>1130.0</td>\n",
       "      <td>12.0</td>\n",
       "      <td>77th Street</td>\n",
       "      <td>1245.0</td>\n",
       "      <td>...</td>\n",
       "      <td>0.0</td>\n",
       "      <td>X</td>\n",
       "      <td>X</td>\n",
       "      <td>401.0</td>\n",
       "      <td>MINI-MART</td>\n",
       "      <td>400.0</td>\n",
       "      <td>STRONG-ARM (HANDS, FIST, FEET OR BODILY FORCE)</td>\n",
       "      <td>IC</td>\n",
       "      <td>Invest Cont</td>\n",
       "      <td>Property Crimes</td>\n",
       "    </tr>\n",
       "    <tr>\n",
       "      <th>...</th>\n",
       "      <td>...</td>\n",
       "      <td>...</td>\n",
       "      <td>...</td>\n",
       "      <td>...</td>\n",
       "      <td>...</td>\n",
       "      <td>...</td>\n",
       "      <td>...</td>\n",
       "      <td>...</td>\n",
       "      <td>...</td>\n",
       "      <td>...</td>\n",
       "      <td>...</td>\n",
       "      <td>...</td>\n",
       "      <td>...</td>\n",
       "      <td>...</td>\n",
       "      <td>...</td>\n",
       "      <td>...</td>\n",
       "      <td>...</td>\n",
       "      <td>...</td>\n",
       "      <td>...</td>\n",
       "      <td>...</td>\n",
       "      <td>...</td>\n",
       "    </tr>\n",
       "    <tr>\n",
       "      <th>19995</th>\n",
       "      <td>5100 W  ADAMS                        BL</td>\n",
       "      <td>NaN</td>\n",
       "      <td>34.0334</td>\n",
       "      <td>-118.3523</td>\n",
       "      <td>05/24/2020 12:00:00 AM</td>\n",
       "      <td>05/24/2020 12:00:00 AM</td>\n",
       "      <td>700.0</td>\n",
       "      <td>3.0</td>\n",
       "      <td>Southwest</td>\n",
       "      <td>303.0</td>\n",
       "      <td>...</td>\n",
       "      <td>51.0</td>\n",
       "      <td>M</td>\n",
       "      <td>H</td>\n",
       "      <td>501.0</td>\n",
       "      <td>SINGLE FAMILY DWELLING</td>\n",
       "      <td>400.0</td>\n",
       "      <td>STRONG-ARM (HANDS, FIST, FEET OR BODILY FORCE)</td>\n",
       "      <td>IC</td>\n",
       "      <td>Invest Cont</td>\n",
       "      <td>Violent Crimes</td>\n",
       "    </tr>\n",
       "    <tr>\n",
       "      <th>19996</th>\n",
       "      <td>16900    ROSCOE                       BL</td>\n",
       "      <td>NaN</td>\n",
       "      <td>34.2212</td>\n",
       "      <td>-118.5011</td>\n",
       "      <td>12/25/2020 12:00:00 AM</td>\n",
       "      <td>12/25/2020 12:00:00 AM</td>\n",
       "      <td>259.0</td>\n",
       "      <td>10.0</td>\n",
       "      <td>West Valley</td>\n",
       "      <td>1008.0</td>\n",
       "      <td>...</td>\n",
       "      <td>0.0</td>\n",
       "      <td>M</td>\n",
       "      <td>W</td>\n",
       "      <td>301.0</td>\n",
       "      <td>GAS STATION</td>\n",
       "      <td>NaN</td>\n",
       "      <td>NaN</td>\n",
       "      <td>IC</td>\n",
       "      <td>Invest Cont</td>\n",
       "      <td>Property Crimes</td>\n",
       "    </tr>\n",
       "    <tr>\n",
       "      <th>19997</th>\n",
       "      <td>1000 S  SHENANDOAH                   ST</td>\n",
       "      <td>NaN</td>\n",
       "      <td>34.0571</td>\n",
       "      <td>-118.3815</td>\n",
       "      <td>09/25/2020 12:00:00 AM</td>\n",
       "      <td>09/25/2020 12:00:00 AM</td>\n",
       "      <td>1400.0</td>\n",
       "      <td>8.0</td>\n",
       "      <td>West LA</td>\n",
       "      <td>849.0</td>\n",
       "      <td>...</td>\n",
       "      <td>42.0</td>\n",
       "      <td>M</td>\n",
       "      <td>H</td>\n",
       "      <td>102.0</td>\n",
       "      <td>SIDEWALK</td>\n",
       "      <td>NaN</td>\n",
       "      <td>NaN</td>\n",
       "      <td>IC</td>\n",
       "      <td>Invest Cont</td>\n",
       "      <td>Property Crimes</td>\n",
       "    </tr>\n",
       "    <tr>\n",
       "      <th>19998</th>\n",
       "      <td>300 W  SEPULVEDA                    ST</td>\n",
       "      <td>NaN</td>\n",
       "      <td>33.7451</td>\n",
       "      <td>-118.2835</td>\n",
       "      <td>06/10/2020 12:00:00 AM</td>\n",
       "      <td>06/10/2020 12:00:00 AM</td>\n",
       "      <td>600.0</td>\n",
       "      <td>5.0</td>\n",
       "      <td>Harbor</td>\n",
       "      <td>558.0</td>\n",
       "      <td>...</td>\n",
       "      <td>76.0</td>\n",
       "      <td>F</td>\n",
       "      <td>H</td>\n",
       "      <td>501.0</td>\n",
       "      <td>SINGLE FAMILY DWELLING</td>\n",
       "      <td>NaN</td>\n",
       "      <td>NaN</td>\n",
       "      <td>IC</td>\n",
       "      <td>Invest Cont</td>\n",
       "      <td>Crimes against Public Order</td>\n",
       "    </tr>\n",
       "    <tr>\n",
       "      <th>19999</th>\n",
       "      <td>DALTON                       AV</td>\n",
       "      <td>VERNON                       AV</td>\n",
       "      <td>34.0037</td>\n",
       "      <td>-118.3034</td>\n",
       "      <td>02/18/2020 12:00:00 AM</td>\n",
       "      <td>02/17/2020 12:00:00 AM</td>\n",
       "      <td>1800.0</td>\n",
       "      <td>3.0</td>\n",
       "      <td>Southwest</td>\n",
       "      <td>397.0</td>\n",
       "      <td>...</td>\n",
       "      <td>0.0</td>\n",
       "      <td>NaN</td>\n",
       "      <td>NaN</td>\n",
       "      <td>101.0</td>\n",
       "      <td>STREET</td>\n",
       "      <td>NaN</td>\n",
       "      <td>NaN</td>\n",
       "      <td>IC</td>\n",
       "      <td>Invest Cont</td>\n",
       "      <td>Property Crimes</td>\n",
       "    </tr>\n",
       "  </tbody>\n",
       "</table>\n",
       "<p>20000 rows × 22 columns</p>\n",
       "</div>"
      ],
      "text/plain": [
       "                                       Location  \\\n",
       "0       4500    CARPENTER                    AV   \n",
       "1               45TH                         ST   \n",
       "2        600 E  MARTIN LUTHER KING JR        BL   \n",
       "3      14900    ORO GRANDE                   ST   \n",
       "4       7100 S  VERMONT                      AV   \n",
       "...                                         ...   \n",
       "19995   5100 W  ADAMS                        BL   \n",
       "19996  16900    ROSCOE                       BL   \n",
       "19997   1000 S  SHENANDOAH                   ST   \n",
       "19998    300 W  SEPULVEDA                    ST   \n",
       "19999           DALTON                       AV   \n",
       "\n",
       "                          Cross_Street  Latitude  Longitude  \\\n",
       "0                                  NaN   34.1522  -118.3910   \n",
       "1      ALAMEDA                      ST   34.0028  -118.2391   \n",
       "2                                  NaN   34.0111  -118.2653   \n",
       "3                                  NaN   34.2953  -118.4590   \n",
       "4                                  NaN   33.9787  -118.2918   \n",
       "...                                ...       ...        ...   \n",
       "19995                              NaN   34.0334  -118.3523   \n",
       "19996                              NaN   34.2212  -118.5011   \n",
       "19997                              NaN   34.0571  -118.3815   \n",
       "19998                              NaN   33.7451  -118.2835   \n",
       "19999  VERNON                       AV   34.0037  -118.3034   \n",
       "\n",
       "                Date_Reported           Date_Occurred  Time_Occurred  Area_ID  \\\n",
       "0      03/09/2020 12:00:00 AM  03/06/2020 12:00:00 AM         1800.0     15.0   \n",
       "1      02/27/2020 12:00:00 AM  02/27/2020 12:00:00 AM         1345.0     13.0   \n",
       "2      08/21/2020 12:00:00 AM  08/21/2020 12:00:00 AM          605.0     13.0   \n",
       "3      11/08/2020 12:00:00 AM  11/06/2020 12:00:00 AM         1800.0     19.0   \n",
       "4      02/25/2020 12:00:00 AM  02/25/2020 12:00:00 AM         1130.0     12.0   \n",
       "...                       ...                     ...            ...      ...   \n",
       "19995  05/24/2020 12:00:00 AM  05/24/2020 12:00:00 AM          700.0      3.0   \n",
       "19996  12/25/2020 12:00:00 AM  12/25/2020 12:00:00 AM          259.0     10.0   \n",
       "19997  09/25/2020 12:00:00 AM  09/25/2020 12:00:00 AM         1400.0      8.0   \n",
       "19998  06/10/2020 12:00:00 AM  06/10/2020 12:00:00 AM          600.0      5.0   \n",
       "19999  02/18/2020 12:00:00 AM  02/17/2020 12:00:00 AM         1800.0      3.0   \n",
       "\n",
       "         Area_Name  Reporting_District_no  ...  Victim_Age Victim_Sex  \\\n",
       "0      N Hollywood                 1563.0  ...        75.0          M   \n",
       "1           Newton                 1367.0  ...        41.0          M   \n",
       "2           Newton                 1343.0  ...        67.0          M   \n",
       "3          Mission                 1924.0  ...        61.0          M   \n",
       "4      77th Street                 1245.0  ...         0.0          X   \n",
       "...            ...                    ...  ...         ...        ...   \n",
       "19995    Southwest                  303.0  ...        51.0          M   \n",
       "19996  West Valley                 1008.0  ...         0.0          M   \n",
       "19997      West LA                  849.0  ...        42.0          M   \n",
       "19998       Harbor                  558.0  ...        76.0          F   \n",
       "19999    Southwest                  397.0  ...         0.0        NaN   \n",
       "\n",
       "       Victim_Descent Premise_Code     Premise_Description  Weapon_Used_Code  \\\n",
       "0                   W        101.0                  STREET               NaN   \n",
       "1                   H        216.0               SWAP MEET             400.0   \n",
       "2                   B        501.0  SINGLE FAMILY DWELLING               NaN   \n",
       "3                   H        101.0                  STREET               NaN   \n",
       "4                   X        401.0               MINI-MART             400.0   \n",
       "...               ...          ...                     ...               ...   \n",
       "19995               H        501.0  SINGLE FAMILY DWELLING             400.0   \n",
       "19996               W        301.0             GAS STATION               NaN   \n",
       "19997               H        102.0                SIDEWALK               NaN   \n",
       "19998               H        501.0  SINGLE FAMILY DWELLING               NaN   \n",
       "19999             NaN        101.0                  STREET               NaN   \n",
       "\n",
       "                                   Weapon_Description  Status  \\\n",
       "0                                                 NaN      IC   \n",
       "1      STRONG-ARM (HANDS, FIST, FEET OR BODILY FORCE)      IC   \n",
       "2                                                 NaN      IC   \n",
       "3                                                 NaN      IC   \n",
       "4      STRONG-ARM (HANDS, FIST, FEET OR BODILY FORCE)      IC   \n",
       "...                                               ...     ...   \n",
       "19995  STRONG-ARM (HANDS, FIST, FEET OR BODILY FORCE)      IC   \n",
       "19996                                             NaN      IC   \n",
       "19997                                             NaN      IC   \n",
       "19998                                             NaN      IC   \n",
       "19999                                             NaN      IC   \n",
       "\n",
       "      Status_Description               Crime_Category  \n",
       "0            Invest Cont              Property Crimes  \n",
       "1            Invest Cont              Property Crimes  \n",
       "2            Invest Cont              Property Crimes  \n",
       "3            Invest Cont              Property Crimes  \n",
       "4            Invest Cont              Property Crimes  \n",
       "...                  ...                          ...  \n",
       "19995        Invest Cont               Violent Crimes  \n",
       "19996        Invest Cont              Property Crimes  \n",
       "19997        Invest Cont              Property Crimes  \n",
       "19998        Invest Cont  Crimes against Public Order  \n",
       "19999        Invest Cont              Property Crimes  \n",
       "\n",
       "[20000 rows x 22 columns]"
      ]
     },
     "execution_count": 4,
     "metadata": {},
     "output_type": "execute_result"
    }
   ],
   "source": [
    "train"
   ]
  },
  {
   "cell_type": "markdown",
   "id": "cbcd477d",
   "metadata": {
    "papermill": {
     "duration": 0.041905,
     "end_time": "2024-07-18T17:09:37.340626",
     "exception": false,
     "start_time": "2024-07-18T17:09:37.298721",
     "status": "completed"
    },
    "tags": []
   },
   "source": [
    "* Latitude range: [0:34] ( General range is -90 to 90 )\n",
    "* Longitude range: [-118: 0] (General range is 180 to 180)\n",
    "\n"
   ]
  },
  {
   "cell_type": "code",
   "execution_count": 5,
   "id": "631f605a",
   "metadata": {
    "execution": {
     "iopub.execute_input": "2024-07-18T17:09:37.427855Z",
     "iopub.status.busy": "2024-07-18T17:09:37.427454Z",
     "iopub.status.idle": "2024-07-18T17:09:37.464876Z",
     "shell.execute_reply": "2024-07-18T17:09:37.463645Z"
    },
    "papermill": {
     "duration": 0.084813,
     "end_time": "2024-07-18T17:09:37.467610",
     "exception": false,
     "start_time": "2024-07-18T17:09:37.382797",
     "status": "completed"
    },
    "tags": []
   },
   "outputs": [
    {
     "data": {
      "text/plain": [
       "Location                     0\n",
       "Cross_Street             16552\n",
       "Latitude                     0\n",
       "Longitude                    0\n",
       "Date_Reported                0\n",
       "Date_Occurred                0\n",
       "Time_Occurred                0\n",
       "Area_ID                      0\n",
       "Area_Name                    0\n",
       "Reporting_District_no        0\n",
       "Part 1-2                     0\n",
       "Modus_Operandi            2741\n",
       "Victim_Age                   0\n",
       "Victim_Sex                2624\n",
       "Victim_Descent            2624\n",
       "Premise_Code                 0\n",
       "Premise_Description          5\n",
       "Weapon_Used_Code         12665\n",
       "Weapon_Description       12665\n",
       "Status                       0\n",
       "Status_Description           0\n",
       "Crime_Category               0\n",
       "dtype: int64"
      ]
     },
     "execution_count": 5,
     "metadata": {},
     "output_type": "execute_result"
    }
   ],
   "source": [
    "train.isnull().sum()"
   ]
  },
  {
   "cell_type": "code",
   "execution_count": 6,
   "id": "7154f6af",
   "metadata": {
    "execution": {
     "iopub.execute_input": "2024-07-18T17:09:37.626545Z",
     "iopub.status.busy": "2024-07-18T17:09:37.626065Z",
     "iopub.status.idle": "2024-07-18T17:09:37.633631Z",
     "shell.execute_reply": "2024-07-18T17:09:37.631976Z"
    },
    "papermill": {
     "duration": 0.124943,
     "end_time": "2024-07-18T17:09:37.636735",
     "exception": false,
     "start_time": "2024-07-18T17:09:37.511792",
     "status": "completed"
    },
    "tags": []
   },
   "outputs": [],
   "source": [
    "# train=train[['Latitude','Longitude','Victim_Age','','Area_ID','']]"
   ]
  },
  {
   "cell_type": "code",
   "execution_count": 7,
   "id": "c609010b",
   "metadata": {
    "execution": {
     "iopub.execute_input": "2024-07-18T17:09:37.728226Z",
     "iopub.status.busy": "2024-07-18T17:09:37.727786Z",
     "iopub.status.idle": "2024-07-18T17:09:37.783773Z",
     "shell.execute_reply": "2024-07-18T17:09:37.782443Z"
    },
    "papermill": {
     "duration": 0.105497,
     "end_time": "2024-07-18T17:09:37.786870",
     "exception": false,
     "start_time": "2024-07-18T17:09:37.681373",
     "status": "completed"
    },
    "tags": []
   },
   "outputs": [
    {
     "name": "stdout",
     "output_type": "stream",
     "text": [
      "<class 'pandas.core.frame.DataFrame'>\n",
      "RangeIndex: 20000 entries, 0 to 19999\n",
      "Data columns (total 22 columns):\n",
      " #   Column                 Non-Null Count  Dtype  \n",
      "---  ------                 --------------  -----  \n",
      " 0   Location               20000 non-null  object \n",
      " 1   Cross_Street           3448 non-null   object \n",
      " 2   Latitude               20000 non-null  float64\n",
      " 3   Longitude              20000 non-null  float64\n",
      " 4   Date_Reported          20000 non-null  object \n",
      " 5   Date_Occurred          20000 non-null  object \n",
      " 6   Time_Occurred          20000 non-null  float64\n",
      " 7   Area_ID                20000 non-null  float64\n",
      " 8   Area_Name              20000 non-null  object \n",
      " 9   Reporting_District_no  20000 non-null  float64\n",
      " 10  Part 1-2               20000 non-null  float64\n",
      " 11  Modus_Operandi         17259 non-null  object \n",
      " 12  Victim_Age             20000 non-null  float64\n",
      " 13  Victim_Sex             17376 non-null  object \n",
      " 14  Victim_Descent         17376 non-null  object \n",
      " 15  Premise_Code           20000 non-null  float64\n",
      " 16  Premise_Description    19995 non-null  object \n",
      " 17  Weapon_Used_Code       7335 non-null   float64\n",
      " 18  Weapon_Description     7335 non-null   object \n",
      " 19  Status                 20000 non-null  object \n",
      " 20  Status_Description     20000 non-null  object \n",
      " 21  Crime_Category         20000 non-null  object \n",
      "dtypes: float64(9), object(13)\n",
      "memory usage: 3.4+ MB\n"
     ]
    }
   ],
   "source": [
    "train.info()"
   ]
  },
  {
   "cell_type": "markdown",
   "id": "4c0fb168",
   "metadata": {
    "papermill": {
     "duration": 0.048395,
     "end_time": "2024-07-18T17:09:37.878707",
     "exception": false,
     "start_time": "2024-07-18T17:09:37.830312",
     "status": "completed"
    },
    "tags": []
   },
   "source": [
    "# **Categorical Columns **"
   ]
  },
  {
   "cell_type": "markdown",
   "id": "2582d479",
   "metadata": {
    "papermill": {
     "duration": 0.046088,
     "end_time": "2024-07-18T17:09:37.974383",
     "exception": false,
     "start_time": "2024-07-18T17:09:37.928295",
     "status": "completed"
    },
    "tags": []
   },
   "source": [
    "# Location"
   ]
  },
  {
   "cell_type": "code",
   "execution_count": 8,
   "id": "01ca01a4",
   "metadata": {
    "execution": {
     "iopub.execute_input": "2024-07-18T17:09:38.069820Z",
     "iopub.status.busy": "2024-07-18T17:09:38.069334Z",
     "iopub.status.idle": "2024-07-18T17:09:38.116405Z",
     "shell.execute_reply": "2024-07-18T17:09:38.114369Z"
    },
    "papermill": {
     "duration": 0.099004,
     "end_time": "2024-07-18T17:09:38.119383",
     "exception": false,
     "start_time": "2024-07-18T17:09:38.020379",
     "status": "completed"
    },
    "tags": []
   },
   "outputs": [
    {
     "name": "stdout",
     "output_type": "stream",
     "text": [
      "['4500    CARPENTER                    AV'\n",
      " '45TH                         ST'\n",
      " '600 E  MARTIN LUTHER KING JR        BL' ...\n",
      " '15800    STRATHERN                    ST'\n",
      " '5100 W  ADAMS                        BL'\n",
      " 'DALTON                       AV']\n",
      "--------------------------------\n",
      "Number of unqiue location :  12399\n",
      "--------------------------------\n",
      "['4500 CARPENTER AV' '45TH ST' '600 E MARTIN LUTHER KING JR BL' ...\n",
      " '15800 STRATHERN ST' '5100 W ADAMS BL' 'DALTON AV']\n",
      "Number of unqiue location :  12396\n"
     ]
    }
   ],
   "source": [
    "print(train['Location'].unique())\n",
    "\n",
    "\n",
    "print('--------------------------------')\n",
    "\n",
    "print('Number of unqiue location : '  , len(train['Location'].unique()))\n",
    "\n",
    "\n",
    "print('--------------------------------')\n",
    "\n",
    "\n",
    "train.loc[: , 'Location']=train['Location'].apply( lambda x : ' '.join(x.split()))\n",
    "\n",
    "print(train['Location'].unique())\n",
    "\n",
    "\n",
    "\n",
    "print('Number of unqiue location : '  , len(train['Location'].unique()))\n",
    "\n",
    "# print('Removed space' , len(train['Location'].unique()) )\n"
   ]
  },
  {
   "cell_type": "code",
   "execution_count": 9,
   "id": "7a186047",
   "metadata": {
    "execution": {
     "iopub.execute_input": "2024-07-18T17:09:38.219361Z",
     "iopub.status.busy": "2024-07-18T17:09:38.218902Z",
     "iopub.status.idle": "2024-07-18T17:09:39.089088Z",
     "shell.execute_reply": "2024-07-18T17:09:39.087535Z"
    },
    "papermill": {
     "duration": 0.923269,
     "end_time": "2024-07-18T17:09:39.092614",
     "exception": false,
     "start_time": "2024-07-18T17:09:38.169345",
     "status": "completed"
    },
    "tags": []
   },
   "outputs": [
    {
     "data": {
      "image/png": "[encoded data removed]",
      "text/plain": [
       "<Figure size 1000x600 with 1 Axes>"
      ]
     },
     "metadata": {},
     "output_type": "display_data"
    }
   ],
   "source": [
    "from wordcloud import WordCloud\n",
    "import matplotlib.pyplot as plt\n",
    "\n",
    "\n",
    "cloud = WordCloud(width=800, height=400, background_color='black').generate(str(train['Location']))\n",
    "plt.figure(figsize=(10, 6))\n",
    "plt.imshow(cloud)\n",
    "plt.show()\n"
   ]
  },
  {
   "cell_type": "code",
   "execution_count": 10,
   "id": "618e5058",
   "metadata": {
    "execution": {
     "iopub.execute_input": "2024-07-18T17:09:39.190363Z",
     "iopub.status.busy": "2024-07-18T17:09:39.189745Z",
     "iopub.status.idle": "2024-07-18T17:09:39.216014Z",
     "shell.execute_reply": "2024-07-18T17:09:39.214225Z"
    },
    "papermill": {
     "duration": 0.079593,
     "end_time": "2024-07-18T17:09:39.219233",
     "exception": false,
     "start_time": "2024-07-18T17:09:39.139640",
     "status": "completed"
    },
    "tags": []
   },
   "outputs": [
    {
     "data": {
      "text/plain": [
       "Location\n",
       "6TH                33\n",
       "7TH                32\n",
       "6TH ST             31\n",
       "VERMONT AV         31\n",
       "7TH ST             30\n",
       "                   ..\n",
       "2700 E 1ST ST       1\n",
       "9300 SWINTON AV     1\n",
       "MCKINLEY            1\n",
       "WADE ST             1\n",
       "DALTON AV           1\n",
       "Name: count, Length: 12396, dtype: int64"
      ]
     },
     "execution_count": 10,
     "metadata": {},
     "output_type": "execute_result"
    }
   ],
   "source": [
    "train['Location'].value_counts()"
   ]
  },
  {
   "cell_type": "code",
   "execution_count": 11,
   "id": "bedaa490",
   "metadata": {
    "execution": {
     "iopub.execute_input": "2024-07-18T17:09:39.319591Z",
     "iopub.status.busy": "2024-07-18T17:09:39.318251Z",
     "iopub.status.idle": "2024-07-18T17:09:39.682107Z",
     "shell.execute_reply": "2024-07-18T17:09:39.680777Z"
    },
    "papermill": {
     "duration": 0.418682,
     "end_time": "2024-07-18T17:09:39.685587",
     "exception": false,
     "start_time": "2024-07-18T17:09:39.266905",
     "status": "completed"
    },
    "tags": []
   },
   "outputs": [
    {
     "data": {
      "text/plain": [
       "<Axes: xlabel='Location'>"
      ]
     },
     "execution_count": 11,
     "metadata": {},
     "output_type": "execute_result"
    },
    {
     "data": {
      "image/png": "[encoded data removed]",
      "text/plain": [
       "<Figure size 640x480 with 1 Axes>"
      ]
     },
     "metadata": {},
     "output_type": "display_data"
    }
   ],
   "source": [
    "train['Location'].value_counts().head(10).plot(kind='bar')"
   ]
  },
  {
   "cell_type": "markdown",
   "id": "e5efb4d7",
   "metadata": {
    "papermill": {
     "duration": 0.047455,
     "end_time": "2024-07-18T17:09:39.780548",
     "exception": false,
     "start_time": "2024-07-18T17:09:39.733093",
     "status": "completed"
    },
    "tags": []
   },
   "source": [
    "# Cross_Street"
   ]
  },
  {
   "cell_type": "code",
   "execution_count": 12,
   "id": "85ce6547",
   "metadata": {
    "execution": {
     "iopub.execute_input": "2024-07-18T17:09:39.877704Z",
     "iopub.status.busy": "2024-07-18T17:09:39.877328Z",
     "iopub.status.idle": "2024-07-18T17:09:39.886489Z",
     "shell.execute_reply": "2024-07-18T17:09:39.885361Z"
    },
    "papermill": {
     "duration": 0.061168,
     "end_time": "2024-07-18T17:09:39.889245",
     "exception": false,
     "start_time": "2024-07-18T17:09:39.828077",
     "status": "completed"
    },
    "tags": []
   },
   "outputs": [
    {
     "data": {
      "text/plain": [
       "0                                    NaN\n",
       "1        ALAMEDA                      ST\n",
       "2                                    NaN\n",
       "3                                    NaN\n",
       "4                                    NaN\n",
       "                      ...               \n",
       "19995                                NaN\n",
       "19996                                NaN\n",
       "19997                                NaN\n",
       "19998                                NaN\n",
       "19999    VERNON                       AV\n",
       "Name: Cross_Street, Length: 20000, dtype: object"
      ]
     },
     "execution_count": 12,
     "metadata": {},
     "output_type": "execute_result"
    }
   ],
   "source": [
    "train['Cross_Street']"
   ]
  },
  {
   "cell_type": "code",
   "execution_count": 13,
   "id": "43a99b86",
   "metadata": {
    "execution": {
     "iopub.execute_input": "2024-07-18T17:09:39.985108Z",
     "iopub.status.busy": "2024-07-18T17:09:39.984743Z",
     "iopub.status.idle": "2024-07-18T17:09:40.014606Z",
     "shell.execute_reply": "2024-07-18T17:09:40.013257Z"
    },
    "papermill": {
     "duration": 0.080349,
     "end_time": "2024-07-18T17:09:40.017264",
     "exception": false,
     "start_time": "2024-07-18T17:09:39.936915",
     "status": "completed"
    },
    "tags": []
   },
   "outputs": [
    {
     "name": "stdout",
     "output_type": "stream",
     "text": [
      " unqiue values after replacing the null values\n",
      "['' 'ALAMEDA                      ST' 'LASSEN                       ST'\n",
      " ... 'VICTORIA' '39TH                         ST' 'HAVELOCK']\n",
      "Number of unique values :  1496\n",
      "----------------------------------------------------\n",
      "Number of null values values the cross_street column originally has  16552\n"
     ]
    }
   ],
   "source": [
    "# print('unqiue values before replacing the null values')\n",
    "# print(train['Cross_Street'].unique())\n",
    "\n",
    "# print(\"Number of unique values : \" , len(train['Cross_Street'].unique()) )\n",
    "\n",
    "# print('----------------------------------------------------')\n",
    "train.loc[:,'Cross_Street']=train['Cross_Street'].fillna('')\n",
    "\n",
    "\n",
    "print(' unqiue values after replacing the null values')\n",
    "\n",
    "\n",
    "print(train['Cross_Street'].unique())\n",
    "\n",
    "# train.loc[: , 'Cross_Street']=train['Cross_Street'].apply( lambda x : ' '.join(x.split()))\n",
    "\n",
    "train.loc[: , 'Cross_Street']=train['Cross_Street'].apply( lambda x : ' '.join(x.split()))\n",
    "\n",
    "print(\"Number of unique values : \" , len(train['Cross_Street'].unique()) )\n",
    "\n",
    "\n",
    "print('----------------------------------------------------')\n",
    "\n",
    "\n",
    "print(\"Number of null values values the cross_street column originally has \" ,16552)"
   ]
  },
  {
   "cell_type": "code",
   "execution_count": 14,
   "id": "d7c91bcf",
   "metadata": {
    "execution": {
     "iopub.execute_input": "2024-07-18T17:09:40.115411Z",
     "iopub.status.busy": "2024-07-18T17:09:40.114989Z",
     "iopub.status.idle": "2024-07-18T17:09:40.154623Z",
     "shell.execute_reply": "2024-07-18T17:09:40.153242Z"
    },
    "papermill": {
     "duration": 0.092058,
     "end_time": "2024-07-18T17:09:40.157526",
     "exception": false,
     "start_time": "2024-07-18T17:09:40.065468",
     "status": "completed"
    },
    "tags": []
   },
   "outputs": [
    {
     "data": {
      "text/plain": [
       "Location                     0\n",
       "Cross_Street                 0\n",
       "Latitude                     0\n",
       "Longitude                    0\n",
       "Date_Reported                0\n",
       "Date_Occurred                0\n",
       "Time_Occurred                0\n",
       "Area_ID                      0\n",
       "Area_Name                    0\n",
       "Reporting_District_no        0\n",
       "Part 1-2                     0\n",
       "Modus_Operandi            2741\n",
       "Victim_Age                   0\n",
       "Victim_Sex                2624\n",
       "Victim_Descent            2624\n",
       "Premise_Code                 0\n",
       "Premise_Description          5\n",
       "Weapon_Used_Code         12665\n",
       "Weapon_Description       12665\n",
       "Status                       0\n",
       "Status_Description           0\n",
       "Crime_Category               0\n",
       "dtype: int64"
      ]
     },
     "execution_count": 14,
     "metadata": {},
     "output_type": "execute_result"
    }
   ],
   "source": [
    "train.isnull().sum()"
   ]
  },
  {
   "cell_type": "markdown",
   "id": "09ab7a9c",
   "metadata": {
    "papermill": {
     "duration": 0.04616,
     "end_time": "2024-07-18T17:09:40.250441",
     "exception": false,
     "start_time": "2024-07-18T17:09:40.204281",
     "status": "completed"
    },
    "tags": []
   },
   "source": [
    "# Area_ID\n"
   ]
  },
  {
   "cell_type": "code",
   "execution_count": 15,
   "id": "b75b9adb",
   "metadata": {
    "execution": {
     "iopub.execute_input": "2024-07-18T17:09:40.345174Z",
     "iopub.status.busy": "2024-07-18T17:09:40.344728Z",
     "iopub.status.idle": "2024-07-18T17:09:40.753586Z",
     "shell.execute_reply": "2024-07-18T17:09:40.752006Z"
    },
    "papermill": {
     "duration": 0.459443,
     "end_time": "2024-07-18T17:09:40.756257",
     "exception": false,
     "start_time": "2024-07-18T17:09:40.296814",
     "status": "completed"
    },
    "tags": []
   },
   "outputs": [
    {
     "name": "stdout",
     "output_type": "stream",
     "text": [
      "unique values of area id are :\n",
      "[15. 13. 19. 12. 11.  4. 14.  9. 17.  7.  6.  5. 21.  1. 10. 20. 16.  8.\n",
      " 18.  3.  2.]\n",
      "-------------------------------------------\n",
      "Number of unique values are  21\n",
      "Number of null values are  0\n",
      "-------------------------------------------\n",
      "Area_ID\n",
      "12.0    1345\n",
      "14.0    1157\n",
      "1.0     1156\n",
      "3.0     1130\n",
      "18.0    1067\n",
      "15.0    1065\n",
      "6.0     1014\n",
      "13.0     999\n",
      "20.0     960\n",
      "7.0      943\n",
      "2.0      931\n",
      "8.0      910\n",
      "9.0      902\n",
      "5.0      872\n",
      "19.0     870\n",
      "11.0     839\n",
      "21.0     792\n",
      "10.0     790\n",
      "17.0     769\n",
      "4.0      755\n",
      "16.0     734\n",
      "Name: count, dtype: int64\n",
      "-------------------------------------------\n"
     ]
    },
    {
     "name": "stderr",
     "output_type": "stream",
     "text": [
      "/tmp/ipykernel_18/2200294362.py:14: FutureWarning: Setting an item of incompatible dtype is deprecated and will raise in a future error of pandas. Value '['15.0' '13.0' '13.0' ... '8.0' '5.0' '3.0']' has dtype incompatible with float64, please explicitly cast to a compatible dtype first.\n",
      "  train.loc[:,'Area_ID']=train['Area_ID'].astype(str)\n"
     ]
    },
    {
     "data": {
      "image/png": "[encoded data removed]",
      "text/plain": [
       "<Figure size 640x480 with 1 Axes>"
      ]
     },
     "metadata": {},
     "output_type": "display_data"
    },
    {
     "data": {
      "text/plain": [
       "<Figure size 1500x1000 with 0 Axes>"
      ]
     },
     "metadata": {},
     "output_type": "display_data"
    }
   ],
   "source": [
    "print('unique values of area id are :')\n",
    "print(train['Area_ID'].unique())\n",
    "\n",
    "print('-------------------------------------------')\n",
    "\n",
    "print('Number of unique values are ' , len(train['Area_ID'].unique()))\n",
    "\n",
    "\n",
    "print('Number of null values are ' , train['Area_ID'].isnull().sum())\n",
    "\n",
    "\n",
    "print('-------------------------------------------')\n",
    "\n",
    "train.loc[:,'Area_ID']=train['Area_ID'].astype(str)\n",
    "train.loc[:,'Area_ID']=train['Area_ID'].astype('category')\n",
    "\n",
    "print(train['Area_ID'].value_counts())\n",
    "\n",
    "\n",
    "print('-------------------------------------------')\n",
    "\n",
    "\n",
    "Area_ID_value_counts=train['Area_ID'].value_counts()\n",
    "\n",
    "Area_ID_value_counts.plot(kind='bar')\n",
    "plt.figure(figsize=(15, 10))\n",
    "\n",
    "plt.show()"
   ]
  },
  {
   "cell_type": "markdown",
   "id": "a85e6acd",
   "metadata": {
    "papermill": {
     "duration": 0.049353,
     "end_time": "2024-07-18T17:09:40.853600",
     "exception": false,
     "start_time": "2024-07-18T17:09:40.804247",
     "status": "completed"
    },
    "tags": []
   },
   "source": [
    "# Area_Name"
   ]
  },
  {
   "cell_type": "markdown",
   "id": "e19bd512",
   "metadata": {
    "papermill": {
     "duration": 0.048943,
     "end_time": "2024-07-18T17:09:40.950348",
     "exception": false,
     "start_time": "2024-07-18T17:09:40.901405",
     "status": "completed"
    },
    "tags": []
   },
   "source": [
    "Area Name == Area id columns"
   ]
  },
  {
   "cell_type": "code",
   "execution_count": 16,
   "id": "1f4d04e5",
   "metadata": {
    "execution": {
     "iopub.execute_input": "2024-07-18T17:09:41.050741Z",
     "iopub.status.busy": "2024-07-18T17:09:41.050256Z",
     "iopub.status.idle": "2024-07-18T17:09:41.069200Z",
     "shell.execute_reply": "2024-07-18T17:09:41.067887Z"
    },
    "papermill": {
     "duration": 0.0726,
     "end_time": "2024-07-18T17:09:41.072593",
     "exception": false,
     "start_time": "2024-07-18T17:09:40.999993",
     "status": "completed"
    },
    "tags": []
   },
   "outputs": [
    {
     "name": "stdout",
     "output_type": "stream",
     "text": [
      "unique areas are\n",
      "['N Hollywood' 'Newton' 'Mission' '77th Street' 'Northeast' 'Hollenbeck'\n",
      " 'Pacific' 'Van Nuys' 'Devonshire' 'Wilshire' 'Hollywood' 'Harbor'\n",
      " 'Topanga' 'Central' 'West Valley' 'Olympic' 'Foothill' 'West LA'\n",
      " 'Southeast' 'Southwest' 'Rampart']\n",
      "-------------------------------------------\n",
      "Number of unique values are  21\n",
      "-------------------------------------------\n",
      "Number of null values are  0\n",
      "-------------------------------------------\n",
      "Area_Name\n",
      "77th Street    1345\n",
      "Pacific        1157\n",
      "Central        1156\n",
      "Southwest      1130\n",
      "Southeast      1067\n",
      "N Hollywood    1065\n",
      "Hollywood      1014\n",
      "Newton          999\n",
      "Olympic         960\n",
      "Wilshire        943\n",
      "Rampart         931\n",
      "West LA         910\n",
      "Van Nuys        902\n",
      "Harbor          872\n",
      "Mission         870\n",
      "Northeast       839\n",
      "Topanga         792\n",
      "West Valley     790\n",
      "Devonshire      769\n",
      "Hollenbeck      755\n",
      "Foothill        734\n",
      "Name: count, dtype: int64\n"
     ]
    }
   ],
   "source": [
    "print('unique areas are')\n",
    "print(train['Area_Name'].unique())\n",
    "\n",
    "print('-------------------------------------------')\n",
    "\n",
    "\n",
    "print('Number of unique values are ' , len(train['Area_Name'].unique()))\n",
    "\n",
    "print('-------------------------------------------')\n",
    "\n",
    "print('Number of null values are ' , train['Area_Name'].isnull().sum())\n",
    "print('-------------------------------------------')\n",
    "\n",
    "print(train['Area_Name'].value_counts())\n"
   ]
  },
  {
   "cell_type": "markdown",
   "id": "7463d74c",
   "metadata": {
    "papermill": {
     "duration": 0.048146,
     "end_time": "2024-07-18T17:09:41.170530",
     "exception": false,
     "start_time": "2024-07-18T17:09:41.122384",
     "status": "completed"
    },
    "tags": []
   },
   "source": [
    "# Reporting_District_no"
   ]
  },
  {
   "cell_type": "code",
   "execution_count": 17,
   "id": "8e7e487d",
   "metadata": {
    "execution": {
     "iopub.execute_input": "2024-07-18T17:09:41.270551Z",
     "iopub.status.busy": "2024-07-18T17:09:41.270092Z",
     "iopub.status.idle": "2024-07-18T17:09:41.315528Z",
     "shell.execute_reply": "2024-07-18T17:09:41.313839Z"
    },
    "papermill": {
     "duration": 0.097434,
     "end_time": "2024-07-18T17:09:41.318379",
     "exception": false,
     "start_time": "2024-07-18T17:09:41.220945",
     "status": "completed"
    },
    "tags": []
   },
   "outputs": [
    {
     "name": "stdout",
     "output_type": "stream",
     "text": [
      "<class 'pandas.core.frame.DataFrame'>\n",
      "RangeIndex: 20000 entries, 0 to 19999\n",
      "Data columns (total 22 columns):\n",
      " #   Column                 Non-Null Count  Dtype  \n",
      "---  ------                 --------------  -----  \n",
      " 0   Location               20000 non-null  object \n",
      " 1   Cross_Street           20000 non-null  object \n",
      " 2   Latitude               20000 non-null  float64\n",
      " 3   Longitude              20000 non-null  float64\n",
      " 4   Date_Reported          20000 non-null  object \n",
      " 5   Date_Occurred          20000 non-null  object \n",
      " 6   Time_Occurred          20000 non-null  float64\n",
      " 7   Area_ID                20000 non-null  object \n",
      " 8   Area_Name              20000 non-null  object \n",
      " 9   Reporting_District_no  20000 non-null  float64\n",
      " 10  Part 1-2               20000 non-null  float64\n",
      " 11  Modus_Operandi         17259 non-null  object \n",
      " 12  Victim_Age             20000 non-null  float64\n",
      " 13  Victim_Sex             17376 non-null  object \n",
      " 14  Victim_Descent         17376 non-null  object \n",
      " 15  Premise_Code           20000 non-null  float64\n",
      " 16  Premise_Description    19995 non-null  object \n",
      " 17  Weapon_Used_Code       7335 non-null   float64\n",
      " 18  Weapon_Description     7335 non-null   object \n",
      " 19  Status                 20000 non-null  object \n",
      " 20  Status_Description     20000 non-null  object \n",
      " 21  Crime_Category         20000 non-null  object \n",
      "dtypes: float64(8), object(14)\n",
      "memory usage: 3.4+ MB\n"
     ]
    }
   ],
   "source": [
    "train.info()"
   ]
  },
  {
   "cell_type": "code",
   "execution_count": 18,
   "id": "89e32da3",
   "metadata": {
    "execution": {
     "iopub.execute_input": "2024-07-18T17:09:41.416879Z",
     "iopub.status.busy": "2024-07-18T17:09:41.416474Z",
     "iopub.status.idle": "2024-07-18T17:09:41.814756Z",
     "shell.execute_reply": "2024-07-18T17:09:41.813579Z"
    },
    "papermill": {
     "duration": 0.451409,
     "end_time": "2024-07-18T17:09:41.817417",
     "exception": false,
     "start_time": "2024-07-18T17:09:41.366008",
     "status": "completed"
    },
    "tags": []
   },
   "outputs": [
    {
     "name": "stdout",
     "output_type": "stream",
     "text": [
      "unique areas are\n",
      "['1563.0' '1367.0' '1343.0' ... '1778.0' '1199.0' '812.0']\n",
      "-------------------------------------------\n",
      "Number of unique values are  1120\n",
      "-------------------------------------------\n",
      "Number of null values are  0\n",
      "-------------------------------------------\n",
      "Reporting_District_no\n",
      "645.0     99\n",
      "162.0     85\n",
      "1494.0    74\n",
      "1822.0    72\n",
      "182.0     72\n",
      "          ..\n",
      "452.0      1\n",
      "871.0      1\n",
      "1476.0     1\n",
      "848.0      1\n",
      "812.0      1\n",
      "Name: count, Length: 1120, dtype: int64\n",
      "-------------------------------------------\n"
     ]
    },
    {
     "name": "stderr",
     "output_type": "stream",
     "text": [
      "/tmp/ipykernel_18/4222087248.py:1: FutureWarning: Setting an item of incompatible dtype is deprecated and will raise in a future error of pandas. Value '['1563.0' '1367.0' '1343.0' ... '849.0' '558.0' '397.0']' has dtype incompatible with float64, please explicitly cast to a compatible dtype first.\n",
      "  train.loc[:,'Reporting_District_no']=train['Reporting_District_no'].astype(str)\n"
     ]
    },
    {
     "data": {
      "image/png": "[encoded data removed]",
      "text/plain": [
       "<Figure size 640x480 with 1 Axes>"
      ]
     },
     "metadata": {},
     "output_type": "display_data"
    },
    {
     "data": {
      "text/plain": [
       "<Figure size 1000x600 with 0 Axes>"
      ]
     },
     "metadata": {},
     "output_type": "display_data"
    }
   ],
   "source": [
    "train.loc[:,'Reporting_District_no']=train['Reporting_District_no'].astype(str)\n",
    "train.loc[:,'Reporting_District_no']=train['Reporting_District_no'].astype('category')\n",
    "\n",
    "                                      \n",
    "print('unique areas are')\n",
    "print(train['Reporting_District_no'].unique())\n",
    "\n",
    "print('-------------------------------------------')\n",
    "\n",
    "\n",
    "print('Number of unique values are ' , len(train['Reporting_District_no'].unique()))\n",
    "\n",
    "print('-------------------------------------------')\n",
    "\n",
    "print('Number of null values are ' , train['Reporting_District_no'].isnull().sum())\n",
    "print('-------------------------------------------')\n",
    "\n",
    "print(train['Reporting_District_no'].value_counts())\n",
    "\n",
    "\n",
    "Reporting_District_no_value_counts=train['Reporting_District_no'].value_counts()\n",
    "print('-------------------------------------------')\n",
    "\n",
    "\n",
    "\n",
    "Reporting_District_no_value_counts.head(20).plot(kind='bar')\n",
    "plt.figure(figsize=(10, 6))\n",
    "plt.show()\n"
   ]
  },
  {
   "cell_type": "markdown",
   "id": "b254a7b3",
   "metadata": {
    "papermill": {
     "duration": 0.048298,
     "end_time": "2024-07-18T17:09:41.914406",
     "exception": false,
     "start_time": "2024-07-18T17:09:41.866108",
     "status": "completed"
    },
    "tags": []
   },
   "source": [
    "# Part 1-2"
   ]
  },
  {
   "cell_type": "code",
   "execution_count": 19,
   "id": "6ab37114",
   "metadata": {
    "execution": {
     "iopub.execute_input": "2024-07-18T17:09:42.016310Z",
     "iopub.status.busy": "2024-07-18T17:09:42.015863Z",
     "iopub.status.idle": "2024-07-18T17:09:42.300009Z",
     "shell.execute_reply": "2024-07-18T17:09:42.298703Z"
    },
    "papermill": {
     "duration": 0.338303,
     "end_time": "2024-07-18T17:09:42.302725",
     "exception": false,
     "start_time": "2024-07-18T17:09:41.964422",
     "status": "completed"
    },
    "tags": []
   },
   "outputs": [
    {
     "name": "stdout",
     "output_type": "stream",
     "text": [
      "Unique values in Part 1-2 columns are: ['1.0' '2.0']\n",
      "----------------------------------------\n",
      " value counts in Part 1-2 columns are: Part 1-2\n",
      "1.0    11637\n",
      "2.0     8363\n",
      "Name: count, dtype: int64\n",
      "----------------------------------------\n"
     ]
    },
    {
     "name": "stderr",
     "output_type": "stream",
     "text": [
      "/tmp/ipykernel_18/2574664916.py:1: FutureWarning: Setting an item of incompatible dtype is deprecated and will raise in a future error of pandas. Value '['1.0' '1.0' '2.0' ... '1.0' '2.0' '1.0']' has dtype incompatible with float64, please explicitly cast to a compatible dtype first.\n",
      "  train.loc[:,'Part 1-2']=train['Part 1-2'].astype(str)\n"
     ]
    },
    {
     "data": {
      "text/plain": [
       "<Axes: xlabel='Part 1-2'>"
      ]
     },
     "execution_count": 19,
     "metadata": {},
     "output_type": "execute_result"
    },
    {
     "data": {
      "image/png": "[encoded data removed]",
      "text/plain": [
       "<Figure size 640x480 with 1 Axes>"
      ]
     },
     "metadata": {},
     "output_type": "display_data"
    }
   ],
   "source": [
    "train.loc[:,'Part 1-2']=train['Part 1-2'].astype(str)\n",
    "\n",
    "print(\"Unique values in Part 1-2 columns are:\",train['Part 1-2'].unique())\n",
    "\n",
    "print('----------------------------------------')\n",
    "\n",
    "print(\" value counts in Part 1-2 columns are:\",train['Part 1-2'].value_counts())\n",
    "\n",
    "\n",
    "print('----------------------------------------')\n",
    "\n",
    "value_counts_part_1_2=train['Part 1-2'].value_counts()\n",
    "\n",
    "value_counts_part_1_2.plot(kind='bar')"
   ]
  },
  {
   "cell_type": "markdown",
   "id": "f2b3541b",
   "metadata": {
    "papermill": {
     "duration": 0.050022,
     "end_time": "2024-07-18T17:09:42.404752",
     "exception": false,
     "start_time": "2024-07-18T17:09:42.354730",
     "status": "completed"
    },
    "tags": []
   },
   "source": [
    "# Modus_Operandi"
   ]
  },
  {
   "cell_type": "code",
   "execution_count": 20,
   "id": "f5e38c01",
   "metadata": {
    "execution": {
     "iopub.execute_input": "2024-07-18T17:09:42.510966Z",
     "iopub.status.busy": "2024-07-18T17:09:42.509964Z",
     "iopub.status.idle": "2024-07-18T17:09:42.520762Z",
     "shell.execute_reply": "2024-07-18T17:09:42.519380Z"
    },
    "papermill": {
     "duration": 0.067037,
     "end_time": "2024-07-18T17:09:42.523369",
     "exception": false,
     "start_time": "2024-07-18T17:09:42.456332",
     "status": "completed"
    },
    "tags": []
   },
   "outputs": [
    {
     "data": {
      "text/plain": [
       "0                                           0385\n",
       "1        0906 0352 0371 0446 1822 0344 0416 0417\n",
       "2                                      0329 1202\n",
       "3                                      0329 1300\n",
       "4                  0416 0945 1822 0400 0417 0344\n",
       "                          ...                   \n",
       "19995                        0416 0446 2004 0913\n",
       "19996                   1822 0209 0344 1414 1420\n",
       "19997                             0344 1822 1420\n",
       "19998              1202 2038 0913 0602 1242 0553\n",
       "19999                                        NaN\n",
       "Name: Modus_Operandi, Length: 20000, dtype: object"
      ]
     },
     "execution_count": 20,
     "metadata": {},
     "output_type": "execute_result"
    }
   ],
   "source": [
    "train['Modus_Operandi']"
   ]
  },
  {
   "cell_type": "code",
   "execution_count": 21,
   "id": "69310bee",
   "metadata": {
    "execution": {
     "iopub.execute_input": "2024-07-18T17:09:42.626826Z",
     "iopub.status.busy": "2024-07-18T17:09:42.626421Z",
     "iopub.status.idle": "2024-07-18T17:09:42.662116Z",
     "shell.execute_reply": "2024-07-18T17:09:42.660683Z"
    },
    "papermill": {
     "duration": 0.091201,
     "end_time": "2024-07-18T17:09:42.664857",
     "exception": false,
     "start_time": "2024-07-18T17:09:42.573656",
     "status": "completed"
    },
    "tags": []
   },
   "outputs": [
    {
     "name": "stdout",
     "output_type": "stream",
     "text": [
      "Unique values in Modus_Operandi are  ['0385' '0906 0352 0371 0446 1822 0344 0416 0417' '0329 1202' ...\n",
      " '0416 0446 2004 0913' '1822 0209 0344 1414 1420'\n",
      " '1202 2038 0913 0602 1242 0553']\n",
      " \n",
      "Each  row value is combination of diff-diff activities so thats the reason we have  10489 uniques values.\n",
      "\n",
      "----------------------------------------------------------\n",
      "Modus_Operandi\n",
      "0344                                       826\n",
      "0329                                       583\n",
      "1501                                       187\n",
      "0329 1300                                  135\n",
      "0325                                       127\n",
      "                                          ... \n",
      "1609 0329 1307 0344                          1\n",
      "0344 2050 0910 2034                          1\n",
      "0400 2000 0913                               1\n",
      "1822 0342 0910 2049 2051 0305 0444 0344      1\n",
      "1202 2038 0913 0602 1242 0553                1\n",
      "Name: count, Length: 10489, dtype: int64\n",
      "\n",
      "\n",
      "----------------------------------------------------------\n",
      "Number of null values after fill with empty string are  0\n"
     ]
    }
   ],
   "source": [
    "print(\"Unique values in Modus_Operandi are \",train['Modus_Operandi'].unique())\n",
    "print(\" \")\n",
    "print(\"Each  row value is combination of diff-diff activities so thats the reason we have  10489 uniques values.\")\n",
    "\n",
    "print('')\n",
    "\n",
    "print('----------------------------------------------------------')\n",
    "\n",
    "print(train['Modus_Operandi'].value_counts())\n",
    "\n",
    "print('')\n",
    "\n",
    "Modus_Operandi_value_counts=train['Modus_Operandi'].value_counts()\n",
    "\n",
    "print('')\n",
    "\n",
    "\n",
    "\n",
    "print('----------------------------------------------------------')\n",
    "\n",
    "\n",
    "train['Modus_Operandi'] = train['Modus_Operandi'].fillna('')\n",
    "\n",
    "print(\"Number of null values after fill with empty string are \",train['Modus_Operandi'].isnull().sum())\n"
   ]
  },
  {
   "cell_type": "code",
   "execution_count": 22,
   "id": "4070ce94",
   "metadata": {
    "execution": {
     "iopub.execute_input": "2024-07-18T17:09:42.767500Z",
     "iopub.status.busy": "2024-07-18T17:09:42.767059Z",
     "iopub.status.idle": "2024-07-18T17:09:43.109300Z",
     "shell.execute_reply": "2024-07-18T17:09:43.108156Z"
    },
    "papermill": {
     "duration": 0.39733,
     "end_time": "2024-07-18T17:09:43.112029",
     "exception": false,
     "start_time": "2024-07-18T17:09:42.714699",
     "status": "completed"
    },
    "tags": []
   },
   "outputs": [
    {
     "data": {
      "text/plain": [
       "<Axes: xlabel='Modus_Operandi'>"
      ]
     },
     "execution_count": 22,
     "metadata": {},
     "output_type": "execute_result"
    },
    {
     "data": {
      "image/png": "[encoded data removed]",
      "text/plain": [
       "<Figure size 640x480 with 1 Axes>"
      ]
     },
     "metadata": {},
     "output_type": "display_data"
    }
   ],
   "source": [
    "Modus_Operandi_value_counts.head(10).plot(kind='bar')"
   ]
  },
  {
   "cell_type": "code",
   "execution_count": 23,
   "id": "7047195d",
   "metadata": {
    "execution": {
     "iopub.execute_input": "2024-07-18T17:09:43.217510Z",
     "iopub.status.busy": "2024-07-18T17:09:43.217066Z",
     "iopub.status.idle": "2024-07-18T17:09:43.265490Z",
     "shell.execute_reply": "2024-07-18T17:09:43.264261Z"
    },
    "papermill": {
     "duration": 0.103436,
     "end_time": "2024-07-18T17:09:43.268244",
     "exception": false,
     "start_time": "2024-07-18T17:09:43.164808",
     "status": "completed"
    },
    "tags": []
   },
   "outputs": [],
   "source": [
    "# def number_of_activities(s):\n",
    "#     activities=[]\n",
    "#     s=str(s)\n",
    "#     a=s.split(' ')\n",
    "#     for i in a:\n",
    "#         if a not in activities:\n",
    "#             activities.append(a)\n",
    "#     return activities\n",
    "\n",
    "def number_of_activities(s):\n",
    "    if s=='':  # Handle NaN values\n",
    "        return 0\n",
    "    activities_list=s.split()\n",
    "    activity_count = list(set(activities_list))\n",
    "#     activities = set()  # Using a set to avoid duplicates efficiently\n",
    "#     for activity in s.split(' '):\n",
    "#         activities.add(str(activity))\n",
    "#     activities=' '.join(activities)    \n",
    "    return len(activity_count)\n",
    "train['activity_count']=train['Modus_Operandi'].apply(number_of_activities)\n",
    "# df.drop('Modus_Operandi',axis=1)\n",
    "# df['Modus_Operandi']=df['unique_activities']\n",
    "# df.drop('unique_activities',axis=1,inplace=True)"
   ]
  },
  {
   "cell_type": "code",
   "execution_count": 24,
   "id": "d2d1a2e1",
   "metadata": {
    "execution": {
     "iopub.execute_input": "2024-07-18T17:09:43.374548Z",
     "iopub.status.busy": "2024-07-18T17:09:43.373774Z",
     "iopub.status.idle": "2024-07-18T17:09:43.387934Z",
     "shell.execute_reply": "2024-07-18T17:09:43.386623Z"
    },
    "papermill": {
     "duration": 0.07016,
     "end_time": "2024-07-18T17:09:43.390559",
     "exception": false,
     "start_time": "2024-07-18T17:09:43.320399",
     "status": "completed"
    },
    "tags": []
   },
   "outputs": [
    {
     "data": {
      "text/html": [
       "<div>\n",
       "<style scoped>\n",
       "    .dataframe tbody tr th:only-of-type {\n",
       "        vertical-align: middle;\n",
       "    }\n",
       "\n",
       "    .dataframe tbody tr th {\n",
       "        vertical-align: top;\n",
       "    }\n",
       "\n",
       "    .dataframe thead th {\n",
       "        text-align: right;\n",
       "    }\n",
       "</style>\n",
       "<table border=\"1\" class=\"dataframe\">\n",
       "  <thead>\n",
       "    <tr style=\"text-align: right;\">\n",
       "      <th></th>\n",
       "      <th>Modus_Operandi</th>\n",
       "      <th>activity_count</th>\n",
       "    </tr>\n",
       "  </thead>\n",
       "  <tbody>\n",
       "    <tr>\n",
       "      <th>0</th>\n",
       "      <td>0385</td>\n",
       "      <td>1</td>\n",
       "    </tr>\n",
       "    <tr>\n",
       "      <th>1</th>\n",
       "      <td>0906 0352 0371 0446 1822 0344 0416 0417</td>\n",
       "      <td>8</td>\n",
       "    </tr>\n",
       "    <tr>\n",
       "      <th>2</th>\n",
       "      <td>0329 1202</td>\n",
       "      <td>2</td>\n",
       "    </tr>\n",
       "    <tr>\n",
       "      <th>3</th>\n",
       "      <td>0329 1300</td>\n",
       "      <td>2</td>\n",
       "    </tr>\n",
       "    <tr>\n",
       "      <th>4</th>\n",
       "      <td>0416 0945 1822 0400 0417 0344</td>\n",
       "      <td>6</td>\n",
       "    </tr>\n",
       "    <tr>\n",
       "      <th>...</th>\n",
       "      <td>...</td>\n",
       "      <td>...</td>\n",
       "    </tr>\n",
       "    <tr>\n",
       "      <th>19995</th>\n",
       "      <td>0416 0446 2004 0913</td>\n",
       "      <td>4</td>\n",
       "    </tr>\n",
       "    <tr>\n",
       "      <th>19996</th>\n",
       "      <td>1822 0209 0344 1414 1420</td>\n",
       "      <td>5</td>\n",
       "    </tr>\n",
       "    <tr>\n",
       "      <th>19997</th>\n",
       "      <td>0344 1822 1420</td>\n",
       "      <td>3</td>\n",
       "    </tr>\n",
       "    <tr>\n",
       "      <th>19998</th>\n",
       "      <td>1202 2038 0913 0602 1242 0553</td>\n",
       "      <td>6</td>\n",
       "    </tr>\n",
       "    <tr>\n",
       "      <th>19999</th>\n",
       "      <td></td>\n",
       "      <td>0</td>\n",
       "    </tr>\n",
       "  </tbody>\n",
       "</table>\n",
       "<p>20000 rows × 2 columns</p>\n",
       "</div>"
      ],
      "text/plain": [
       "                                Modus_Operandi  activity_count\n",
       "0                                         0385               1\n",
       "1      0906 0352 0371 0446 1822 0344 0416 0417               8\n",
       "2                                    0329 1202               2\n",
       "3                                    0329 1300               2\n",
       "4                0416 0945 1822 0400 0417 0344               6\n",
       "...                                        ...             ...\n",
       "19995                      0416 0446 2004 0913               4\n",
       "19996                 1822 0209 0344 1414 1420               5\n",
       "19997                           0344 1822 1420               3\n",
       "19998            1202 2038 0913 0602 1242 0553               6\n",
       "19999                                                        0\n",
       "\n",
       "[20000 rows x 2 columns]"
      ]
     },
     "execution_count": 24,
     "metadata": {},
     "output_type": "execute_result"
    }
   ],
   "source": [
    "train[['Modus_Operandi','activity_count']]"
   ]
  },
  {
   "cell_type": "code",
   "execution_count": 25,
   "id": "6561de1d",
   "metadata": {
    "execution": {
     "iopub.execute_input": "2024-07-18T17:09:43.497083Z",
     "iopub.status.busy": "2024-07-18T17:09:43.496710Z",
     "iopub.status.idle": "2024-07-18T17:09:43.503933Z",
     "shell.execute_reply": "2024-07-18T17:09:43.502773Z"
    },
    "papermill": {
     "duration": 0.064233,
     "end_time": "2024-07-18T17:09:43.506470",
     "exception": false,
     "start_time": "2024-07-18T17:09:43.442237",
     "status": "completed"
    },
    "tags": []
   },
   "outputs": [],
   "source": [
    "from sklearn.base import BaseEstimator, TransformerMixin\n",
    "from sklearn.preprocessing import MultiLabelBinarizer\n",
    "\n",
    "class MultiLabelBinarizerWrapper(BaseEstimator, TransformerMixin):\n",
    "    def __init__(self):\n",
    "        self.mlb = MultiLabelBinarizer()\n",
    "\n",
    "    def fit(self, X, y=None):\n",
    "        self.mlb.fit(X)\n",
    "        return self\n",
    "\n",
    "    def transform(self, X):\n",
    "        return self.mlb.transform(X)"
   ]
  },
  {
   "cell_type": "markdown",
   "id": "4808fae0",
   "metadata": {
    "papermill": {
     "duration": 0.052696,
     "end_time": "2024-07-18T17:09:43.611234",
     "exception": false,
     "start_time": "2024-07-18T17:09:43.558538",
     "status": "completed"
    },
    "tags": []
   },
   "source": [
    "# Status and Status_Description "
   ]
  },
  {
   "cell_type": "markdown",
   "id": "1f4252cb",
   "metadata": {
    "papermill": {
     "duration": 0.051631,
     "end_time": "2024-07-18T17:09:43.718377",
     "exception": false,
     "start_time": "2024-07-18T17:09:43.666746",
     "status": "completed"
    },
    "tags": []
   },
   "source": [
    "Status and Status_Description convey same information "
   ]
  },
  {
   "cell_type": "code",
   "execution_count": 26,
   "id": "59d2c454",
   "metadata": {
    "execution": {
     "iopub.execute_input": "2024-07-18T17:09:43.824588Z",
     "iopub.status.busy": "2024-07-18T17:09:43.824205Z",
     "iopub.status.idle": "2024-07-18T17:09:44.266801Z",
     "shell.execute_reply": "2024-07-18T17:09:44.265004Z"
    },
    "papermill": {
     "duration": 0.49881,
     "end_time": "2024-07-18T17:09:44.269691",
     "exception": false,
     "start_time": "2024-07-18T17:09:43.770881",
     "status": "completed"
    },
    "tags": []
   },
   "outputs": [
    {
     "name": "stdout",
     "output_type": "stream",
     "text": [
      "Number of unique values in Status are  ['IC' 'AO' 'AA' 'JA' 'JO']\n",
      " values in Status are  Status\n",
      "IC    15236\n",
      "AO     2597\n",
      "AA     2054\n",
      "JA       70\n",
      "JO       43\n",
      "Name: count, dtype: int64\n",
      "Null values in status are 0\n",
      "\n",
      "--------------------------------------------------------------\n",
      "\n",
      "Number of unique values in Status_Description are  ['Invest Cont' 'Adult Other' 'Adult Arrest' 'Juv Arrest' 'Juv Other']\n",
      " values in Status_Description are  Status_Description\n",
      "Invest Cont     15236\n",
      "Adult Other      2597\n",
      "Adult Arrest     2054\n",
      "Juv Arrest         70\n",
      "Juv Other          43\n",
      "Name: count, dtype: int64\n",
      "Null values in Status_Description are 0\n",
      "\n",
      "--------------------------------------------------------------\n",
      "\n"
     ]
    },
    {
     "data": {
      "image/png": "[encoded data removed]",
      "text/plain": [
       "<Figure size 640x480 with 1 Axes>"
      ]
     },
     "metadata": {},
     "output_type": "display_data"
    },
    {
     "data": {
      "text/plain": [
       "<Axes: xlabel='Status_Description'>"
      ]
     },
     "execution_count": 26,
     "metadata": {},
     "output_type": "execute_result"
    },
    {
     "data": {
      "image/png": "[encoded data removed]",
      "text/plain": [
       "<Figure size 640x480 with 1 Axes>"
      ]
     },
     "metadata": {},
     "output_type": "display_data"
    }
   ],
   "source": [
    "print(\"Number of unique values in Status are \",train['Status'].unique())\n",
    "\n",
    "print(\" values in Status are \",train['Status'].value_counts())\n",
    "\n",
    "print('Null values in status are' ,train['Status'].isnull().sum() )\n",
    "\n",
    "Status_value_counts=train['Status'].value_counts()\n",
    "\n",
    "\n",
    "print('')\n",
    "print('--------------------------------------------------------------')\n",
    "print('')\n",
    "\n",
    "print(\"Number of unique values in Status_Description are \",train['Status_Description'].unique())\n",
    "\n",
    "print(\" values in Status_Description are \",train['Status_Description'].value_counts())\n",
    "\n",
    "print('Null values in Status_Description are' ,train['Status_Description'].isnull().sum() )\n",
    "\n",
    "\n",
    "Status_Description_value_counts=train['Status_Description'].value_counts()\n",
    "\n",
    "\n",
    "\n",
    "print('')\n",
    "print('--------------------------------------------------------------')\n",
    "print('')\n",
    "\n",
    "Status_value_counts.plot(kind='bar')\n",
    "plt.show()\n",
    "\n",
    "Status_Description_value_counts.plot(kind='bar')\n"
   ]
  },
  {
   "cell_type": "markdown",
   "id": "b8f1e12b",
   "metadata": {
    "papermill": {
     "duration": 0.055712,
     "end_time": "2024-07-18T17:09:44.378572",
     "exception": false,
     "start_time": "2024-07-18T17:09:44.322860",
     "status": "completed"
    },
    "tags": []
   },
   "source": [
    "# Weapon_Used_Code  and Weapon_Description"
   ]
  },
  {
   "cell_type": "markdown",
   "id": "1317387c",
   "metadata": {
    "papermill": {
     "duration": 0.053017,
     "end_time": "2024-07-18T17:09:44.485575",
     "exception": false,
     "start_time": "2024-07-18T17:09:44.432558",
     "status": "completed"
    },
    "tags": []
   },
   "source": [
    "Both columns gives same information\n"
   ]
  },
  {
   "cell_type": "code",
   "execution_count": 27,
   "id": "70515b83",
   "metadata": {
    "execution": {
     "iopub.execute_input": "2024-07-18T17:09:44.596627Z",
     "iopub.status.busy": "2024-07-18T17:09:44.596158Z",
     "iopub.status.idle": "2024-07-18T17:09:44.609537Z",
     "shell.execute_reply": "2024-07-18T17:09:44.608343Z"
    },
    "papermill": {
     "duration": 0.07098,
     "end_time": "2024-07-18T17:09:44.612287",
     "exception": false,
     "start_time": "2024-07-18T17:09:44.541307",
     "status": "completed"
    },
    "tags": []
   },
   "outputs": [
    {
     "name": "stdout",
     "output_type": "stream",
     "text": [
      "Number of null values are\n"
     ]
    },
    {
     "data": {
      "text/plain": [
       "Weapon_Description    12665\n",
       "Weapon_Used_Code      12665\n",
       "dtype: int64"
      ]
     },
     "execution_count": 27,
     "metadata": {},
     "output_type": "execute_result"
    }
   ],
   "source": [
    "print('Number of null values are')\n",
    "train[['Weapon_Description','Weapon_Used_Code']].isnull().sum()"
   ]
  },
  {
   "cell_type": "code",
   "execution_count": 28,
   "id": "d0e7b1ab",
   "metadata": {
    "execution": {
     "iopub.execute_input": "2024-07-18T17:09:44.721976Z",
     "iopub.status.busy": "2024-07-18T17:09:44.721572Z",
     "iopub.status.idle": "2024-07-18T17:09:44.734837Z",
     "shell.execute_reply": "2024-07-18T17:09:44.733550Z"
    },
    "papermill": {
     "duration": 0.071647,
     "end_time": "2024-07-18T17:09:44.737278",
     "exception": false,
     "start_time": "2024-07-18T17:09:44.665631",
     "status": "completed"
    },
    "tags": []
   },
   "outputs": [
    {
     "name": "stdout",
     "output_type": "stream",
     "text": [
      "Number of unqiue values are\n"
     ]
    },
    {
     "data": {
      "text/plain": [
       "Weapon_Description\n",
       "STRONG-ARM (HANDS, FIST, FEET OR BODILY FORCE)    3990\n",
       "UNKNOWN WEAPON/OTHER WEAPON                        789\n",
       "VERBAL THREAT                                      546\n",
       "HAND GUN                                           388\n",
       "KNIFE WITH BLADE 6INCHES OR LESS                   160\n",
       "SEMI-AUTOMATIC PISTOL                              154\n",
       "UNKNOWN FIREARM                                    131\n",
       "OTHER KNIFE                                        125\n",
       "VEHICLE                                             84\n",
       "MACE/PEPPER SPRAY                                   80\n",
       "ROCK/THROWN OBJECT                                  63\n",
       "BOTTLE                                              55\n",
       "PIPE/METAL PIPE                                     52\n",
       "CLUB/BAT                                            51\n",
       "STICK                                               49\n",
       "KITCHEN KNIFE                                       45\n",
       "KNIFE WITH BLADE OVER 6 INCHES IN LENGTH            43\n",
       "AIR PISTOL/REVOLVER/RIFLE/BB GUN                    41\n",
       "FOLDING KNIFE                                       37\n",
       "BLUNT INSTRUMENT                                    37\n",
       "SIMULATED GUN                                       35\n",
       "REVOLVER                                            34\n",
       "BELT FLAILING INSTRUMENT/CHAIN                      26\n",
       "CONCRETE BLOCK/BRICK                                26\n",
       "MACHETE                                             25\n",
       "UNKNOWN TYPE CUTTING INSTRUMENT                     24\n",
       "HAMMER                                              23\n",
       "SCREWDRIVER                                         23\n",
       "FIRE                                                22\n",
       "OTHER FIREARM                                       18\n",
       "PHYSICAL PRESENCE                                   18\n",
       "OTHER CUTTING INSTRUMENT                            17\n",
       "FIXED OBJECT                                        16\n",
       "GLASS                                               14\n",
       "SCISSORS                                            13\n",
       "RIFLE                                               12\n",
       "BOARD                                               11\n",
       "TOY GUN                                              8\n",
       "SHOTGUN                                              7\n",
       "TIRE IRON                                            7\n",
       "AXE                                                  6\n",
       "STUN GUN                                             4\n",
       "BRASS KNUCKLES                                       4\n",
       "SCALDING LIQUID                                      3\n",
       "SWITCH BLADE                                         3\n",
       "MARTIAL ARTS WEAPONS                                 2\n",
       "DEMAND NOTE                                          2\n",
       "SAWED OFF RIFLE/SHOTGUN                              2\n",
       "ICE PICK                                             2\n",
       "CAUSTIC CHEMICAL/POISON                              1\n",
       "BOMB THREAT                                          1\n",
       "BOWIE KNIFE                                          1\n",
       "STARTER PISTOL/REVOLVER                              1\n",
       "RAZOR BLADE                                          1\n",
       "HECKLER & KOCH 93 SEMIAUTOMATIC ASSAULT RIFLE        1\n",
       "ASSAULT WEAPON/UZI/AK47/ETC                          1\n",
       "CLEAVER                                              1\n",
       "Name: count, dtype: int64"
      ]
     },
     "execution_count": 28,
     "metadata": {},
     "output_type": "execute_result"
    }
   ],
   "source": [
    "print('Number of unqiue values are')\n",
    "train['Weapon_Description'].value_counts()"
   ]
  },
  {
   "cell_type": "code",
   "execution_count": 29,
   "id": "984761f0",
   "metadata": {
    "execution": {
     "iopub.execute_input": "2024-07-18T17:09:44.846216Z",
     "iopub.status.busy": "2024-07-18T17:09:44.845770Z",
     "iopub.status.idle": "2024-07-18T17:09:44.912495Z",
     "shell.execute_reply": "2024-07-18T17:09:44.911110Z"
    },
    "papermill": {
     "duration": 0.12493,
     "end_time": "2024-07-18T17:09:44.915360",
     "exception": false,
     "start_time": "2024-07-18T17:09:44.790430",
     "status": "completed"
    },
    "tags": []
   },
   "outputs": [],
   "source": [
    "train.loc[train['Weapon_Description'] == 'STRONG-ARM (HANDS, FIST, FEET OR BODILY FORCE)' , 'Weapon_Description'] = 'Physical Force'\n",
    "\n",
    "# EXPLOXIVE DEVICE                                     3\n",
    "# RAZOR                                                1\n",
    "# LIQUOR/DRUGS                                         1\n",
    "# DOG/ANIMAL (SIC ANIMAL ON)                           1\n",
    "# SWORD   \n",
    "\n",
    "\n",
    "# NA                                                3153\n",
    "# STRONG-ARM (HANDS, FIST, FEET OR BODILY FORCE)    1003\n",
    "# sharp_heavy_object                                 431\n",
    "# other_weapon                                       170\n",
    "# Gun                                                164\n",
    "# fire                                                44\n",
    "# VEHICLE                                             28\n",
    "# Physical Force                                       4\n",
    "# EXPLOXIVE DEVICE                                     3\n",
    "\n",
    "def gun(s):\n",
    "    \n",
    "    if pd.isna(s):\n",
    "        return 'NA'\n",
    "    t=s.replace('/',' ')\n",
    "    listt=t.split(' ' or '/')\n",
    "    \n",
    "    gun_keywords=['gun','pistol','revolver','rifle','shotgun','AK47','explosive','exploxive']\n",
    "    \n",
    "    sharp_heavy_object=['blade','razor','stone','sword','knife','metal','screwdriver','cleaver', 'glass','machete' ,'iron' , 'cutting','axe' ,'instrument','hammer','weapon','object','bottle','weapons','brass','scissors']\n",
    "    \n",
    "    other_weapon = ['bomb','threat', 'demand', 'poison', 'ice', 'scalding', 'board','block' ,'brick', 'stick', 'bat', 'spray','drugs','dog']\n",
    "    \n",
    "    physical_presence=['physical','presence','strong-arm']\n",
    "    \n",
    "    fire=['firearm' , 'fire' ]\n",
    "\n",
    "    for i in listt:\n",
    "        if i.lower() in gun_keywords:\n",
    "            return 'Gun'\n",
    "        elif i.lower() in sharp_heavy_object:\n",
    "            return 'sharp_heavy_object'\n",
    "        \n",
    "        elif i.lower() in fire:\n",
    "            return 'fire'\n",
    "        elif i.lower() in other_weapon:\n",
    "            return 'other_weapon'\n",
    "        elif i.lower() in physical_presence:\n",
    "            return 'Physical Force'\n",
    "        elif i.lower() == 'strong-arm':\n",
    "            return 'Physical Force'\n",
    "            \n",
    "        \n",
    "    return s\n",
    "    \n",
    "\n",
    "\n",
    "\n",
    "train.loc[:,'Weapon_Description']=train['Weapon_Description'].apply(lambda x: gun(x))"
   ]
  },
  {
   "cell_type": "code",
   "execution_count": 30,
   "id": "ac41e9d4",
   "metadata": {
    "execution": {
     "iopub.execute_input": "2024-07-18T17:09:45.032088Z",
     "iopub.status.busy": "2024-07-18T17:09:45.031703Z",
     "iopub.status.idle": "2024-07-18T17:09:45.045086Z",
     "shell.execute_reply": "2024-07-18T17:09:45.043578Z"
    },
    "papermill": {
     "duration": 0.075074,
     "end_time": "2024-07-18T17:09:45.048270",
     "exception": false,
     "start_time": "2024-07-18T17:09:44.973196",
     "status": "completed"
    },
    "tags": []
   },
   "outputs": [
    {
     "name": "stdout",
     "output_type": "stream",
     "text": [
      "Number of unqiue values are\n"
     ]
    },
    {
     "data": {
      "text/plain": [
       "Weapon_Description\n",
       "NA                    12665\n",
       "Physical Force         4008\n",
       "sharp_heavy_object     1613\n",
       "other_weapon            772\n",
       "Gun                     687\n",
       "fire                    171\n",
       "VEHICLE                  84\n",
       "Name: count, dtype: int64"
      ]
     },
     "execution_count": 30,
     "metadata": {},
     "output_type": "execute_result"
    }
   ],
   "source": [
    "print('Number of unqiue values are')\n",
    "train['Weapon_Description'].value_counts()"
   ]
  },
  {
   "cell_type": "code",
   "execution_count": 31,
   "id": "73dfc095",
   "metadata": {
    "execution": {
     "iopub.execute_input": "2024-07-18T17:09:45.158138Z",
     "iopub.status.busy": "2024-07-18T17:09:45.157725Z",
     "iopub.status.idle": "2024-07-18T17:09:45.194816Z",
     "shell.execute_reply": "2024-07-18T17:09:45.193592Z"
    },
    "papermill": {
     "duration": 0.095644,
     "end_time": "2024-07-18T17:09:45.197679",
     "exception": false,
     "start_time": "2024-07-18T17:09:45.102035",
     "status": "completed"
    },
    "tags": []
   },
   "outputs": [],
   "source": [
    "distribution = train['Weapon_Description'][train['Weapon_Description'] != 'NA'].value_counts(normalize=True)\n",
    "\n",
    "missing = train[train['Weapon_Description']=='NA']['Weapon_Description'].count()\n",
    "\n",
    "imputed_values = np.random.choice(distribution.index, size=missing, p=distribution.values)\n",
    "\n",
    "\n",
    "train.loc[train['Weapon_Description']=='NA', 'Weapon_Description'] = imputed_values"
   ]
  },
  {
   "cell_type": "code",
   "execution_count": 32,
   "id": "de6ccc74",
   "metadata": {
    "execution": {
     "iopub.execute_input": "2024-07-18T17:09:45.317274Z",
     "iopub.status.busy": "2024-07-18T17:09:45.316815Z",
     "iopub.status.idle": "2024-07-18T17:09:45.330213Z",
     "shell.execute_reply": "2024-07-18T17:09:45.328833Z"
    },
    "papermill": {
     "duration": 0.078872,
     "end_time": "2024-07-18T17:09:45.332829",
     "exception": false,
     "start_time": "2024-07-18T17:09:45.253957",
     "status": "completed"
    },
    "tags": []
   },
   "outputs": [
    {
     "data": {
      "text/plain": [
       "Weapon_Description\n",
       "Physical Force        11022\n",
       "sharp_heavy_object     4378\n",
       "other_weapon           2105\n",
       "Gun                    1836\n",
       "fire                    429\n",
       "VEHICLE                 230\n",
       "Name: count, dtype: int64"
      ]
     },
     "execution_count": 32,
     "metadata": {},
     "output_type": "execute_result"
    }
   ],
   "source": [
    "train['Weapon_Description'].value_counts()"
   ]
  },
  {
   "cell_type": "code",
   "execution_count": 33,
   "id": "41447f88",
   "metadata": {
    "execution": {
     "iopub.execute_input": "2024-07-18T17:09:45.444625Z",
     "iopub.status.busy": "2024-07-18T17:09:45.444234Z",
     "iopub.status.idle": "2024-07-18T17:09:45.491536Z",
     "shell.execute_reply": "2024-07-18T17:09:45.490175Z"
    },
    "papermill": {
     "duration": 0.107028,
     "end_time": "2024-07-18T17:09:45.494181",
     "exception": false,
     "start_time": "2024-07-18T17:09:45.387153",
     "status": "completed"
    },
    "tags": []
   },
   "outputs": [
    {
     "data": {
      "text/plain": [
       "Location                     0\n",
       "Cross_Street                 0\n",
       "Latitude                     0\n",
       "Longitude                    0\n",
       "Date_Reported                0\n",
       "Date_Occurred                0\n",
       "Time_Occurred                0\n",
       "Area_ID                      0\n",
       "Area_Name                    0\n",
       "Reporting_District_no        0\n",
       "Part 1-2                     0\n",
       "Modus_Operandi               0\n",
       "Victim_Age                   0\n",
       "Victim_Sex                2624\n",
       "Victim_Descent            2624\n",
       "Premise_Code                 0\n",
       "Premise_Description          5\n",
       "Weapon_Used_Code         12665\n",
       "Weapon_Description           0\n",
       "Status                       0\n",
       "Status_Description           0\n",
       "Crime_Category               0\n",
       "activity_count               0\n",
       "dtype: int64"
      ]
     },
     "execution_count": 33,
     "metadata": {},
     "output_type": "execute_result"
    }
   ],
   "source": [
    "train.isnull().sum()"
   ]
  },
  {
   "cell_type": "markdown",
   "id": "7098c868",
   "metadata": {
    "papermill": {
     "duration": 0.054783,
     "end_time": "2024-07-18T17:09:45.604932",
     "exception": false,
     "start_time": "2024-07-18T17:09:45.550149",
     "status": "completed"
    },
    "tags": []
   },
   "source": [
    "# Premise_Description , Premise_Code\n"
   ]
  },
  {
   "cell_type": "code",
   "execution_count": 34,
   "id": "e357682b",
   "metadata": {
    "execution": {
     "iopub.execute_input": "2024-07-18T17:09:45.718250Z",
     "iopub.status.busy": "2024-07-18T17:09:45.717808Z",
     "iopub.status.idle": "2024-07-18T17:09:45.730187Z",
     "shell.execute_reply": "2024-07-18T17:09:45.728824Z"
    },
    "papermill": {
     "duration": 0.072493,
     "end_time": "2024-07-18T17:09:45.733586",
     "exception": false,
     "start_time": "2024-07-18T17:09:45.661093",
     "status": "completed"
    },
    "tags": []
   },
   "outputs": [
    {
     "name": "stdout",
     "output_type": "stream",
     "text": [
      "Unique values are:\n",
      "\n",
      "[101. 216. 501. 401. 502. 202. 104. 108. 121. 102. 203. 122. 707. 503.\n",
      " 506. 509. 710. 103. 602. 519. 406. 751. 210. 123. 801. 601. 243. 242.\n",
      " 504. 124. 505. 119. 252. 109. 704. 152. 120. 301. 404. 720. 405. 402.\n",
      " 213. 514. 248. 702. 708. 834. 212. 416. 954. 158. 403. 701. 721. 725.\n",
      " 605. 726. 912. 729. 139. 145. 208. 719. 201. 141. 107. 222. 144. 116.\n",
      " 507. 221. 254. 757. 217. 110. 408. 146. 510. 750. 229. 727. 249. 236.\n",
      " 738. 516. 735. 716. 908. 232. 517. 722. 515. 874. 518. 118. 127. 151.\n",
      " 932. 411. 415. 910. 414. 220. 255. 407. 239. 156. 233. 717. 900. 956.\n",
      " 949. 218. 732. 936. 244. 835. 715. 410. 231. 728. 417. 207. 247. 206.\n",
      " 913. 733. 409. 811. 235. 724. 902. 712. 941. 117. 412. 705. 512. 907.\n",
      " 142. 903. 953. 511. 753. 736. 205. 897. 875. 138. 709. 128. 209. 230.\n",
      " 916. 723. 140. 157. 969. 135. 302. 958. 251. 921. 730. 809. 740. 957.\n",
      " 917. 905. 214. 148. 706. 909. 896. 418. 744. 911. 802. 154. 413. 895.\n",
      " 966. 219. 234. 948. 922. 603. 238. 906. 951. 935. 950. 112. 920. 968.\n",
      " 703. 227. 111. 868. 508. 943. 754. 225. 931. 215. 241. 741. 228. 915.\n",
      " 944. 755. 945. 904. 718. 739. 250.]\n",
      "\n",
      "\n",
      "['STREET' 'SWAP MEET' 'SINGLE FAMILY DWELLING' 'MINI-MART'\n",
      " 'MULTI-UNIT DWELLING (APARTMENT, DUPLEX, ETC)' 'LIQUOR STORE' 'DRIVEWAY'\n",
      " 'PARKING LOT' 'YARD (RESIDENTIAL/BUSINESS)' 'SIDEWALK' 'OTHER BUSINESS'\n",
      " 'VEHICLE, PASSENGER/TRUCK' 'GARAGE/CARPORT' 'HOTEL'\n",
      " 'ABANDONED BUILDING ABANDONED HOUSE'\n",
      " \"MOBILE HOME/TRAILERS/CONSTRUCTION TRAILERS/RV'S/MOTORHOME\"\n",
      " 'OTHER PREMISE' 'ALLEY' 'BANK' 'SHORT-TERM VACATION RENTAL' 'OTHER STORE'\n",
      " 'WEBSITE' 'RESTAURANT/FAST FOOD' 'PARKING UNDERGROUND/BUILDING' 'MTA BUS'\n",
      " 'SAVINGS & LOAN'\n",
      " \"DIY CENTER (LOWE'S,HOME DEPOT,OSH,CONTRACTORS WAREHOUSE)\"\n",
      " 'DISCOUNT STORE (99 CENT,DOLLAR,ETC.' 'OTHER RESIDENCE' 'BUS STOP'\n",
      " 'MOTEL' 'PORCH, RESIDENTIAL'\n",
      " \"COFFEE SHOP (STARBUCKS, COFFEE BEAN, PEET'S, ETC.)\" 'PARK/PLAYGROUND'\n",
      " 'ELEMENTARY SCHOOL' 'UNDERPASS/BRIDGE*' 'STORAGE SHED' 'GAS STATION'\n",
      " 'DEPARTMENT STORE' 'JUNIOR HIGH SCHOOL' 'CLOTHING STORE' 'MARKET'\n",
      " 'WAREHOUSE' 'GROUP HOME' 'CELL PHONE STORE' 'OFFICE BUILDING/OFFICE'\n",
      " 'CHURCH/CHAPEL (CHANGED 03-03 FROM CHURCH/TEMPLE)'\n",
      " 'LA UNION STATION (NOT LINE SPECIFIC)'\n",
      " 'TRANSPORTATION FACILITY (AIRPORT)' 'THE BEVERLY CENTER'\n",
      " 'MTA - EXPO LINE - EXPO/BUNDY' 'TRANSIENT ENCAMPMENT' 'DRUG STORE'\n",
      " 'HOSPITAL' 'HIGH SCHOOL'\n",
      " 'GOVERNMENT FACILITY (FEDERAL,STATE, COUNTY & CITY)'\n",
      " 'AUTOMATED TELLER MACHINE (ATM)' 'POLICE FACILITY'\n",
      " 'MTA - RED LINE - UNIVERSAL CITY/STUDIO CITY' 'SPECIALTY SCHOOL/OTHER'\n",
      " 'AMUSEMENT PARK*' 'MAIL BOX' 'AUTO SALES LOT' 'MEDICAL/DENTAL OFFICES'\n",
      " 'JEWELRY STORE' 'CEMETARY*' 'VACANT LOT' 'LAUNDROMAT' 'GOLF COURSE*'\n",
      " 'OTHER/OUTSIDE' 'CONDOMINIUM/TOWNHOUSE' 'PUBLIC STORAGE'\n",
      " 'STUDIO (FILM/PHOTOGRAPHIC/MUSIC)' 'BASKETBALL COURTS' 'AUTO REPAIR SHOP'\n",
      " 'FREEWAY' 'AUTO SUPPLY STORE*' 'PATIO*'\n",
      " 'NURSING/CONVALESCENT/RETIREMENT HOME' 'CYBERSPACE' 'CHECK CASHING*'\n",
      " 'SHOPPING MALL (COMMON AREA)' 'NURSERY/FLOWER SHOP'\n",
      " 'VISION CARE FACILITY*' 'LIBRARY'\n",
      " \"SINGLE RESIDENCE OCCUPANCY (SRO'S) LOCATIONS\"\n",
      " 'NIGHT CLUB (OPEN EVENINGS ONLY)' 'THEATRE/MOVIE'\n",
      " 'MTA - RED LINE - VERMONT/SUNSET'\n",
      " 'DELIVERY SERVICE (FED EX, UPS, COURIERS,COURIER SERVICE)*'\n",
      " 'MISSIONS/SHELTERS' 'COLLEGE/JUNIOR COLLEGE/UNIVERSITY'\n",
      " 'APARTMENT/CONDO COMMON LAUNDRY ROOM' 'MTA - ORANGE LINE - WOODLEY'\n",
      " 'TRANSITIONAL HOUSING/HALFWAY HOUSE' 'CONSTRUCTION SITE'\n",
      " 'TRASH CAN/TRASH DUMPSTER' 'TOW YARD*' 'MTA - BLUE LINE - PICO'\n",
      " 'PET STORE' 'THE GROVE' 'MTA - RED LINE - HOLLYWOOD/VINE' 'BOOK STORE'\n",
      " 'NAIL SALON' 'AUTO DEALERSHIP (CHEVY, FORD, BMW, MERCEDES, ETC.)'\n",
      " 'HARDWARE/BUILDING SUPPLY' 'MEDICAL MARIJUANA FACILITIES/BUSINESSES'\n",
      " 'VALET' 'TATTOO PARLOR*' 'HEALTH SPA/GYM'\n",
      " 'MTA - RED LINE - UNION STATION' 'MTA - GREEN LINE - AVALON'\n",
      " 'MTA - EXPO LINE - EXPO/LA BREA' 'BEAUTY/BARBER SHOP' 'POST OFFICE'\n",
      " 'MTA - BLUE LINE - VERNON' 'TOBACCO SHOP'\n",
      " '7TH AND METRO CENTER (NOT LINE SPECIFIC)'\n",
      " 'HORSE RACING/SANTA ANITA PARK*' 'MEMBERSHIP STORE (COSTCO,SAMS CLUB)*'\n",
      " 'DAY CARE/CHILDREN*' 'ELEVATOR' 'THE BEVERLY CONNECTION'\n",
      " 'BAR/COCKTAIL/NIGHTCLUB' 'CAR WASH' 'TV/RADIO/APPLIANCE'\n",
      " 'MTA - RED LINE - NORTH HOLLYWOOD' 'BAR/SPORTS BAR (OPEN DAY & NIGHT)'\n",
      " 'BEAUTY SUPPLY STORE' 'OTHER RR TRAIN (UNION PAC, SANTE FE ETC'\n",
      " 'PHARMACY INSIDE STORE OR SUPERMARKET*'\n",
      " 'TRADE SCHOOL (MEDICAL-TECHNICAL-BUSINESS)*'\n",
      " 'MTA - RED LINE - PERSHING SQUARE' 'COLISEUM' 'MTA - EXPO LINE - PICO'\n",
      " 'BEACH' 'ELECTRONICS STORE (IE:RADIO SHACK, ETC.)'\n",
      " 'SLIPS/DOCK/MARINA/BOAT' 'FOSTER HOME BOYS OR GIRLS*'\n",
      " 'MTA - RED LINE - VERMONT/SANTA MONICA' 'DRIVE THRU*'\n",
      " 'MTA - RED LINE - 7TH AND METRO CENTER'\n",
      " 'MTA - EXPO LINE - EXPO/SEPULVEDA' 'PROJECT/TENEMENT/PUBLIC HOUSING'\n",
      " 'DETENTION/JAIL FACILITY' 'SKATEBOARD FACILITY/SKATEBOARD PARK*'\n",
      " 'GUN/SPORTING GOODS' 'MTA - SILVER LINE - HARBOR GATEWAY TRANSIT CTR'\n",
      " 'MTA - ORANGE LINE - BALBOA' 'STAIRWELL*'\n",
      " 'PUBLIC RESTROOM(INDOORS-INSIDE)' 'BUS STOP/LAYOVER (ALSO QUERY 124)'\n",
      " 'EQUIPMENT RENTAL' 'DAY CARE/ADULTS*'\n",
      " 'MTA - PURPLE LINE - CIVIC CENTER/GRAND PARK' 'PRIVATE SCHOOL/PRESCHOOL'\n",
      " 'BALCONY*'\n",
      " \"VEHICLE STORAGE LOT (CARS, TRUCKS, RV'S, BOATS, TRAILERS, ETC.)\"\n",
      " 'MTA - GOLD LINE - HERITAGE SQ' 'MTA PROPERTY OR PARKING LOT' 'FACTORY'\n",
      " 'MTA - GREEN LINE - AVIATION/LAX' 'RECYCLING CENTER'\n",
      " 'MTA - PURPLE LINE - WILSHIRE/NORMANDIE' 'SYNAGOGUE/TEMPLE'\n",
      " 'METROLINK TRAIN' 'OTHER PLACE OF WORSHIP'\n",
      " 'MTA - GREEN LINE - HARBOR FWY' 'MTA - PURPLE LINE - PERSHING SQUARE'\n",
      " 'MTA - RED LINE - WILSHIRE/VERMONT' 'BUS DEPOT/TERMINAL, OTHER THAN MTA'\n",
      " 'PUBLIC RESTROOM/OUTSIDE*'\n",
      " \"SEX ORIENTED/BOOK STORE/STRIP CLUB/GENTLEMAN'S CLUB\"\n",
      " 'MTA - RED LINE - HOLLYWOOD/WESTERN' 'MTA - SILVER LINE - ROSECRANS' nan\n",
      " 'HIGH-RISE BUILDING' 'MTA - RED LINE - HOLLYWOOD/HIGHLAND'\n",
      " 'MUNICIPAL BUS LINE INCLUDES LADOT/DASH' 'TRAIN TRACKS' 'FURNITURE STORE'\n",
      " 'MTA - SILVER LINE - HARBOR FWY' 'MTA - GOLD LINE - UNION STATION'\n",
      " 'CLEANER/LAUNDROMAT' 'OPTICAL OFFICE INSIDE STORE OR SUPERMARKET*'\n",
      " 'MTA - EXPO LINE - FARMDALE' 'MTA - PURPLE LINE - WILSHIRE/WESTERN'\n",
      " 'CREDIT UNION' 'TELECOMMUNICATION FACILITY/LOCATION'\n",
      " 'MTA - RED LINE - VERMONT/BEVERLY' 'MTA - EXPO LINE - PALMS'\n",
      " 'MTA - BLUE LINE - WASHINGTON' 'MTA - EXPO LINE - LA CIENEGA/JEFFERSON'\n",
      " 'BUS, SCHOOL, CHURCH' 'MTA - PURPLE LINE - WILSHIRE/VERMONT'\n",
      " 'MTA - GOLD LINE - LINCOLN/CYPRESS' 'ENTERTAINMENT/COMEDY CLUB (OTHER)'\n",
      " 'ABORTION CLINIC/ABORTION FACILITY*' 'BUS-CHARTER/PRIVATE'\n",
      " 'MTA - ORANGE LINE - NORTH HOLLYWOOD' 'FRAT HOUSE/SORORITY/DORMITORY'\n",
      " 'MTA - EXPO LINE - JEFFERSON/USC' 'MUSEUM'\n",
      " 'RECORD-CD MUSIC/COMPUTER GAME STORE'\n",
      " 'MTA - BLUE LINE - 7TH AND METRO CENTER'\n",
      " 'TRAIN DEPOT/TERMINAL, OTHER THAN MTA' 'ENERGY PLANT/FACILITY'\n",
      " 'STAPLES CENTER *' 'BOWLING ALLEY*' 'MTA - PURPLE LINE - UNION STATION'\n",
      " 'MTA - EXPO LINE - EXPO PARK/USC' 'VETERINARIAN/ANIMAL HOSPITAL'\n",
      " 'MTA - EXPO LINE - EXPO/VERMONT'\n",
      " 'MTA - RED LINE - WESTLAKE/MACARTHUR PARK' 'MASSAGE PARLOR'\n",
      " 'SPORTS ARENA' 'COMPUTER SERVICES/REPAIRS/SALES']\n"
     ]
    }
   ],
   "source": [
    "print(\"Unique values are:\")\n",
    "print('')\n",
    "print(train['Premise_Code'].unique())\n",
    "\n",
    "print('')\n",
    "print('')\n",
    "\n",
    "print(train['Premise_Description'].unique())"
   ]
  },
  {
   "cell_type": "code",
   "execution_count": 35,
   "id": "67cd1e9d",
   "metadata": {
    "execution": {
     "iopub.execute_input": "2024-07-18T17:09:45.846108Z",
     "iopub.status.busy": "2024-07-18T17:09:45.845631Z",
     "iopub.status.idle": "2024-07-18T17:09:45.883887Z",
     "shell.execute_reply": "2024-07-18T17:09:45.882796Z"
    },
    "papermill": {
     "duration": 0.1,
     "end_time": "2024-07-18T17:09:45.889641",
     "exception": false,
     "start_time": "2024-07-18T17:09:45.789641",
     "status": "completed"
    },
    "tags": []
   },
   "outputs": [
    {
     "name": "stdout",
     "output_type": "stream",
     "text": [
      "value counts are:\n",
      "\n",
      "Premise_Code\n",
      "101.0    5033\n",
      "501.0    3379\n",
      "502.0    2491\n",
      "108.0    1437\n",
      "102.0     978\n",
      "         ... \n",
      "214.0       1\n",
      "909.0       1\n",
      "896.0       1\n",
      "744.0       1\n",
      "250.0       1\n",
      "Name: count, Length: 217, dtype: int64\n"
     ]
    },
    {
     "name": "stderr",
     "output_type": "stream",
     "text": [
      "/tmp/ipykernel_18/3041038907.py:1: FutureWarning: Setting an item of incompatible dtype is deprecated and will raise in a future error of pandas. Value '['101.0' '216.0' '501.0' ... '102.0' '501.0' '101.0']' has dtype incompatible with float64, please explicitly cast to a compatible dtype first.\n",
      "  train.loc[:,'Premise_Code']=train.loc[:,'Premise_Code'].astype(str)\n"
     ]
    }
   ],
   "source": [
    "train.loc[:,'Premise_Code']=train.loc[:,'Premise_Code'].astype(str)\n",
    "\n",
    "print(\"value counts are:\")\n",
    "print('')\n",
    "print(train['Premise_Code'].value_counts())\n"
   ]
  },
  {
   "cell_type": "code",
   "execution_count": 36,
   "id": "62fe64da",
   "metadata": {
    "execution": {
     "iopub.execute_input": "2024-07-18T17:09:46.008160Z",
     "iopub.status.busy": "2024-07-18T17:09:46.007761Z",
     "iopub.status.idle": "2024-07-18T17:09:46.021740Z",
     "shell.execute_reply": "2024-07-18T17:09:46.020333Z"
    },
    "papermill": {
     "duration": 0.077589,
     "end_time": "2024-07-18T17:09:46.024958",
     "exception": false,
     "start_time": "2024-07-18T17:09:45.947369",
     "status": "completed"
    },
    "tags": []
   },
   "outputs": [
    {
     "data": {
      "text/plain": [
       "217"
      ]
     },
     "execution_count": 36,
     "metadata": {},
     "output_type": "execute_result"
    }
   ],
   "source": [
    "len(train['Premise_Code'].unique())"
   ]
  },
  {
   "cell_type": "markdown",
   "id": "606fa6c5",
   "metadata": {
    "papermill": {
     "duration": 0.060122,
     "end_time": "2024-07-18T17:09:46.168524",
     "exception": false,
     "start_time": "2024-07-18T17:09:46.108402",
     "status": "completed"
    },
    "tags": []
   },
   "source": [
    "# Victim_Sex "
   ]
  },
  {
   "cell_type": "code",
   "execution_count": 37,
   "id": "fc7c603f",
   "metadata": {
    "execution": {
     "iopub.execute_input": "2024-07-18T17:09:46.285024Z",
     "iopub.status.busy": "2024-07-18T17:09:46.284597Z",
     "iopub.status.idle": "2024-07-18T17:09:46.324912Z",
     "shell.execute_reply": "2024-07-18T17:09:46.323178Z"
    },
    "papermill": {
     "duration": 0.100801,
     "end_time": "2024-07-18T17:09:46.327589",
     "exception": false,
     "start_time": "2024-07-18T17:09:46.226788",
     "status": "completed"
    },
    "tags": []
   },
   "outputs": [
    {
     "name": "stdout",
     "output_type": "stream",
     "text": [
      "Unique values of victim sex are ['M' 'X' 'F' nan 'H']\n",
      "\n",
      "\n",
      "Value counts are\n",
      "Victim_Sex\n",
      "M    8538\n",
      "F    7176\n",
      "X    1660\n",
      "H       2\n",
      "Name: count, dtype: int64\n",
      "\n",
      "\n",
      "Number of null values are 2624\n",
      "\n",
      "\n",
      "Number of null values after imputing are 0\n"
     ]
    }
   ],
   "source": [
    "print(\"Unique values of victim sex are\",train['Victim_Sex'].unique())\n",
    "\n",
    "\n",
    "print('')\n",
    "print('')\n",
    "\n",
    "print('Value counts are')\n",
    "print(train['Victim_Sex'].value_counts())\n",
    "\n",
    "print('')\n",
    "print('')\n",
    "\n",
    "\n",
    "print(\"Number of null values are\" , train['Victim_Sex'].isnull().sum())\n",
    "\n",
    "\n",
    "\n",
    "\n",
    "\n",
    "distribution_gender = train['Victim_Sex'].dropna().value_counts(normalize=True)\n",
    "\n",
    "missing_gender = train['Victim_Sex'].isna().sum()\n",
    "\n",
    "imputed_values_gender = np.random.choice(distribution_gender.index, size=missing_gender, p=distribution_gender.values)\n",
    "\n",
    "\n",
    "train.loc[train['Victim_Sex'].isna(), 'Victim_Sex'] = imputed_values_gender\n",
    "\n",
    "\n",
    "\n",
    "print('')\n",
    "print('')\n",
    "\n",
    "\n",
    "\n",
    "print(\"Number of null values after imputing are\" , train['Victim_Sex'].isnull().sum())\n",
    "\n",
    "train.loc[:,'Victim_Sex']=train.loc[:,'Victim_Sex'].replace('H','X')"
   ]
  },
  {
   "cell_type": "markdown",
   "id": "35d63867",
   "metadata": {
    "papermill": {
     "duration": 0.055421,
     "end_time": "2024-07-18T17:09:46.438453",
     "exception": false,
     "start_time": "2024-07-18T17:09:46.383032",
     "status": "completed"
    },
    "tags": []
   },
   "source": [
    "# Victim_Descent"
   ]
  },
  {
   "cell_type": "code",
   "execution_count": 38,
   "id": "1dd811de",
   "metadata": {
    "execution": {
     "iopub.execute_input": "2024-07-18T17:09:46.554349Z",
     "iopub.status.busy": "2024-07-18T17:09:46.552891Z",
     "iopub.status.idle": "2024-07-18T17:09:46.575489Z",
     "shell.execute_reply": "2024-07-18T17:09:46.573864Z"
    },
    "papermill": {
     "duration": 0.085405,
     "end_time": "2024-07-18T17:09:46.579044",
     "exception": false,
     "start_time": "2024-07-18T17:09:46.493639",
     "status": "completed"
    },
    "tags": []
   },
   "outputs": [],
   "source": [
    "distribution_Descent = train['Victim_Descent'].dropna().value_counts(normalize=True)\n",
    "\n",
    "missing_Descent = train['Victim_Descent'].isna().sum()\n",
    "\n",
    "imputed_values_Descent = np.random.choice(distribution_Descent.index, size=missing_Descent, p=distribution_Descent.values)\n",
    "\n",
    "\n",
    "train.loc[train['Victim_Descent'].isna(), 'Victim_Descent'] = imputed_values_Descent\n",
    "\n"
   ]
  },
  {
   "cell_type": "code",
   "execution_count": 39,
   "id": "414d3211",
   "metadata": {
    "execution": {
     "iopub.execute_input": "2024-07-18T17:09:46.698233Z",
     "iopub.status.busy": "2024-07-18T17:09:46.697761Z",
     "iopub.status.idle": "2024-07-18T17:09:47.089225Z",
     "shell.execute_reply": "2024-07-18T17:09:47.087088Z"
    },
    "papermill": {
     "duration": 0.456096,
     "end_time": "2024-07-18T17:09:47.092260",
     "exception": false,
     "start_time": "2024-07-18T17:09:46.636164",
     "status": "completed"
    },
    "tags": []
   },
   "outputs": [
    {
     "name": "stdout",
     "output_type": "stream",
     "text": [
      "unique values are\n",
      "['W' 'H' 'B' 'X' 'A' 'O' 'J' 'K' 'C' 'F' 'I' 'D' 'Z' 'V' 'P' 'U' 'G']\n",
      "\n",
      "\n",
      "Victim_Descent\n",
      "H    7072\n",
      "W    4870\n",
      "B    3339\n",
      "X    2138\n",
      "O    1825\n",
      "A     495\n",
      "K      93\n",
      "C      57\n",
      "F      52\n",
      "J      21\n",
      "I      14\n",
      "V       9\n",
      "P       5\n",
      "D       3\n",
      "Z       3\n",
      "U       2\n",
      "G       2\n",
      "Name: count, dtype: int64\n"
     ]
    },
    {
     "data": {
      "text/plain": [
       "<Axes: xlabel='Victim_Descent'>"
      ]
     },
     "execution_count": 39,
     "metadata": {},
     "output_type": "execute_result"
    },
    {
     "data": {
      "image/png": "[encoded data removed]",
      "text/plain": [
       "<Figure size 640x480 with 1 Axes>"
      ]
     },
     "metadata": {},
     "output_type": "display_data"
    }
   ],
   "source": [
    "print('unique values are')\n",
    "print(train['Victim_Descent'].unique())\n",
    "\n",
    "print('')\n",
    "print('')\n",
    "\n",
    "print(train['Victim_Descent'].value_counts())\n",
    "\n",
    "Victim_Descent_value_counts=train['Victim_Descent'].value_counts()\n",
    "\n",
    "Victim_Descent_value_counts.plot(kind='bar')"
   ]
  },
  {
   "cell_type": "code",
   "execution_count": 40,
   "id": "8711e7c5",
   "metadata": {
    "execution": {
     "iopub.execute_input": "2024-07-18T17:09:47.217089Z",
     "iopub.status.busy": "2024-07-18T17:09:47.216653Z",
     "iopub.status.idle": "2024-07-18T17:09:47.270597Z",
     "shell.execute_reply": "2024-07-18T17:09:47.268790Z"
    },
    "papermill": {
     "duration": 0.120064,
     "end_time": "2024-07-18T17:09:47.273652",
     "exception": false,
     "start_time": "2024-07-18T17:09:47.153588",
     "status": "completed"
    },
    "tags": []
   },
   "outputs": [
    {
     "name": "stdout",
     "output_type": "stream",
     "text": [
      "<class 'pandas.core.frame.DataFrame'>\n",
      "RangeIndex: 20000 entries, 0 to 19999\n",
      "Data columns (total 23 columns):\n",
      " #   Column                 Non-Null Count  Dtype  \n",
      "---  ------                 --------------  -----  \n",
      " 0   Location               20000 non-null  object \n",
      " 1   Cross_Street           20000 non-null  object \n",
      " 2   Latitude               20000 non-null  float64\n",
      " 3   Longitude              20000 non-null  float64\n",
      " 4   Date_Reported          20000 non-null  object \n",
      " 5   Date_Occurred          20000 non-null  object \n",
      " 6   Time_Occurred          20000 non-null  float64\n",
      " 7   Area_ID                20000 non-null  object \n",
      " 8   Area_Name              20000 non-null  object \n",
      " 9   Reporting_District_no  20000 non-null  object \n",
      " 10  Part 1-2               20000 non-null  object \n",
      " 11  Modus_Operandi         20000 non-null  object \n",
      " 12  Victim_Age             20000 non-null  float64\n",
      " 13  Victim_Sex             20000 non-null  object \n",
      " 14  Victim_Descent         20000 non-null  object \n",
      " 15  Premise_Code           20000 non-null  object \n",
      " 16  Premise_Description    19995 non-null  object \n",
      " 17  Weapon_Used_Code       7335 non-null   float64\n",
      " 18  Weapon_Description     20000 non-null  object \n",
      " 19  Status                 20000 non-null  object \n",
      " 20  Status_Description     20000 non-null  object \n",
      " 21  Crime_Category         20000 non-null  object \n",
      " 22  activity_count         20000 non-null  int64  \n",
      "dtypes: float64(5), int64(1), object(17)\n",
      "memory usage: 3.5+ MB\n"
     ]
    }
   ],
   "source": [
    "train.info()"
   ]
  },
  {
   "cell_type": "markdown",
   "id": "a906c2cc",
   "metadata": {
    "papermill": {
     "duration": 0.055812,
     "end_time": "2024-07-18T17:09:47.386227",
     "exception": false,
     "start_time": "2024-07-18T17:09:47.330415",
     "status": "completed"
    },
    "tags": []
   },
   "source": [
    "# Numerical Columns"
   ]
  },
  {
   "cell_type": "markdown",
   "id": "7e35995f",
   "metadata": {
    "papermill": {
     "duration": 0.055927,
     "end_time": "2024-07-18T17:09:47.498478",
     "exception": false,
     "start_time": "2024-07-18T17:09:47.442551",
     "status": "completed"
    },
    "tags": []
   },
   "source": [
    "# Date_Reported ,Date_Occurred"
   ]
  },
  {
   "cell_type": "code",
   "execution_count": 41,
   "id": "e2bcd814",
   "metadata": {
    "execution": {
     "iopub.execute_input": "2024-07-18T17:09:47.618744Z",
     "iopub.status.busy": "2024-07-18T17:09:47.618329Z",
     "iopub.status.idle": "2024-07-18T17:09:47.650046Z",
     "shell.execute_reply": "2024-07-18T17:09:47.648753Z"
    },
    "papermill": {
     "duration": 0.095575,
     "end_time": "2024-07-18T17:09:47.653139",
     "exception": false,
     "start_time": "2024-07-18T17:09:47.557564",
     "status": "completed"
    },
    "tags": []
   },
   "outputs": [],
   "source": [
    "def day_category(x):\n",
    "    if 400<=x<1200:\n",
    "        return 'Morning'\n",
    "    elif 1200<=x<1700:\n",
    "        return 'Daytime'\n",
    "    elif 1800<=x<2100:\n",
    "        return 'Evening'\n",
    "    else:\n",
    "        return 'Night'\n",
    "    \n",
    "train['day_category']=train['Time_Occurred'].apply(day_category )   \n",
    "train.drop('Time_Occurred',inplace=True,axis=1)"
   ]
  },
  {
   "cell_type": "code",
   "execution_count": 42,
   "id": "862c960d",
   "metadata": {
    "execution": {
     "iopub.execute_input": "2024-07-18T17:09:47.773195Z",
     "iopub.status.busy": "2024-07-18T17:09:47.772749Z",
     "iopub.status.idle": "2024-07-18T17:10:10.716205Z",
     "shell.execute_reply": "2024-07-18T17:10:10.714977Z"
    },
    "papermill": {
     "duration": 23.007199,
     "end_time": "2024-07-18T17:10:10.719082",
     "exception": false,
     "start_time": "2024-07-18T17:09:47.711883",
     "status": "completed"
    },
    "tags": []
   },
   "outputs": [],
   "source": [
    "\n",
    "def extract_date(d):\n",
    "    str(d)\n",
    "    date=d.split(' ')[0]\n",
    "    \n",
    "    \n",
    "    date=pd.to_datetime(date).date()\n",
    "    \n",
    "    \n",
    "    return date\n",
    "    \n",
    "train['Date_Reported']=train['Date_Reported'].apply(extract_date)\n",
    "train['Date_Occurred']=train['Date_Occurred'].apply(extract_date)\n",
    "    \n",
    "# k=train['Date_Reported'][0]-train['Date_Occurred'][0]\n",
    "# k.days\n",
    "\n",
    "\n",
    "#converting to datetime\n",
    "\n",
    "train['Date_Reported']=pd.to_datetime(train['Date_Reported'])\n",
    "train['Date_Occurred']=pd.to_datetime(train['Date_Occurred'])\n",
    "\n",
    "\n",
    "\n",
    "train['Day_occured']=train['Date_Occurred'].dt.weekday\n",
    "train['month_occured']=train['Date_Occurred'].dt.month\n",
    "\n",
    "#this gives daysss anf time too \n",
    "train['reporting_delay_day_count']=(train['Date_Reported']-train['Date_Occurred'])\n",
    "\n",
    "# this day count calculate the days count \n",
    "def day_count(d):\n",
    "    return d.days\n",
    "train['reporting_delay_day_count']=train['reporting_delay_day_count'].apply(day_count)\n",
    "\n",
    "\n",
    "\n",
    "\n",
    "# dropping the date reported and date occured cols\n",
    "\n"
   ]
  },
  {
   "cell_type": "code",
   "execution_count": 43,
   "id": "da35b8a2",
   "metadata": {
    "execution": {
     "iopub.execute_input": "2024-07-18T17:10:10.834002Z",
     "iopub.status.busy": "2024-07-18T17:10:10.833275Z",
     "iopub.status.idle": "2024-07-18T17:10:10.842752Z",
     "shell.execute_reply": "2024-07-18T17:10:10.841577Z"
    },
    "papermill": {
     "duration": 0.069721,
     "end_time": "2024-07-18T17:10:10.845398",
     "exception": false,
     "start_time": "2024-07-18T17:10:10.775677",
     "status": "completed"
    },
    "tags": []
   },
   "outputs": [
    {
     "name": "stdout",
     "output_type": "stream",
     "text": [
      "[75. 41. 67. 61.  0. 50. 68. 22. 31. 46. 72. 26. 38. 37. 42. 40. 53. 60.\n",
      " 29. 13. 33. 27. 15. 23. 74. 63. 78. 51. 44. 34. 69. 36. 52. 25. 49. 48.\n",
      " 32. 18. 35. 24. 39. 16. 28. 47. 30. 64. 76.  5. 58. 45. 57. 19. 55. 54.\n",
      " 21. 65. 17. 20. 77. 82. 56. -2. 84. 59. 43.  7. 70. 66. 62. 14. 80. 71.\n",
      " 81. 96. 12. 11.  4. 83. 10.  8.  6. 88. 86. 73.  9. 87. 85. 93. 95. 99.\n",
      " 79.  3.  2. 91. 92. 90. 89. 98. -1. 94.]\n"
     ]
    }
   ],
   "source": [
    "print(train['Victim_Age'].unique())\n",
    "# df.loc[df['Victim_Age']<0,'Victim_Age']=0\n",
    "train.loc[train['Victim_Age']<0,'Victim_Age']=0"
   ]
  },
  {
   "cell_type": "code",
   "execution_count": 44,
   "id": "48dc93a3",
   "metadata": {
    "execution": {
     "iopub.execute_input": "2024-07-18T17:10:10.964202Z",
     "iopub.status.busy": "2024-07-18T17:10:10.963802Z",
     "iopub.status.idle": "2024-07-18T17:10:11.014338Z",
     "shell.execute_reply": "2024-07-18T17:10:11.013212Z"
    },
    "papermill": {
     "duration": 0.113653,
     "end_time": "2024-07-18T17:10:11.017247",
     "exception": false,
     "start_time": "2024-07-18T17:10:10.903594",
     "status": "completed"
    },
    "tags": []
   },
   "outputs": [
    {
     "name": "stdout",
     "output_type": "stream",
     "text": [
      "<class 'pandas.core.frame.DataFrame'>\n",
      "RangeIndex: 20000 entries, 0 to 19999\n",
      "Data columns (total 26 columns):\n",
      " #   Column                     Non-Null Count  Dtype         \n",
      "---  ------                     --------------  -----         \n",
      " 0   Location                   20000 non-null  object        \n",
      " 1   Cross_Street               20000 non-null  object        \n",
      " 2   Latitude                   20000 non-null  float64       \n",
      " 3   Longitude                  20000 non-null  float64       \n",
      " 4   Date_Reported              20000 non-null  datetime64[ns]\n",
      " 5   Date_Occurred              20000 non-null  datetime64[ns]\n",
      " 6   Area_ID                    20000 non-null  object        \n",
      " 7   Area_Name                  20000 non-null  object        \n",
      " 8   Reporting_District_no      20000 non-null  object        \n",
      " 9   Part 1-2                   20000 non-null  object        \n",
      " 10  Modus_Operandi             20000 non-null  object        \n",
      " 11  Victim_Age                 20000 non-null  float64       \n",
      " 12  Victim_Sex                 20000 non-null  object        \n",
      " 13  Victim_Descent             20000 non-null  object        \n",
      " 14  Premise_Code               20000 non-null  object        \n",
      " 15  Premise_Description        19995 non-null  object        \n",
      " 16  Weapon_Used_Code           7335 non-null   float64       \n",
      " 17  Weapon_Description         20000 non-null  object        \n",
      " 18  Status                     20000 non-null  object        \n",
      " 19  Status_Description         20000 non-null  object        \n",
      " 20  Crime_Category             20000 non-null  object        \n",
      " 21  activity_count             20000 non-null  int64         \n",
      " 22  day_category               20000 non-null  object        \n",
      " 23  Day_occured                20000 non-null  int32         \n",
      " 24  month_occured              20000 non-null  int32         \n",
      " 25  reporting_delay_day_count  20000 non-null  int64         \n",
      "dtypes: datetime64[ns](2), float64(4), int32(2), int64(2), object(16)\n",
      "memory usage: 3.8+ MB\n"
     ]
    }
   ],
   "source": [
    "train.info()"
   ]
  },
  {
   "cell_type": "code",
   "execution_count": 45,
   "id": "ec2670d2",
   "metadata": {
    "execution": {
     "iopub.execute_input": "2024-07-18T17:10:11.134880Z",
     "iopub.status.busy": "2024-07-18T17:10:11.134510Z",
     "iopub.status.idle": "2024-07-18T17:10:11.142188Z",
     "shell.execute_reply": "2024-07-18T17:10:11.141037Z"
    },
    "papermill": {
     "duration": 0.06878,
     "end_time": "2024-07-18T17:10:11.144656",
     "exception": false,
     "start_time": "2024-07-18T17:10:11.075876",
     "status": "completed"
    },
    "tags": []
   },
   "outputs": [
    {
     "data": {
      "text/plain": [
       "array([ 3,  2,  8, 11,  1,  7,  6,  9, 10, 12,  4,  5], dtype=int32)"
      ]
     },
     "execution_count": 45,
     "metadata": {},
     "output_type": "execute_result"
    }
   ],
   "source": [
    "train['month_occured'].unique()"
   ]
  },
  {
   "cell_type": "code",
   "execution_count": 46,
   "id": "4ec33b64",
   "metadata": {
    "execution": {
     "iopub.execute_input": "2024-07-18T17:10:11.263166Z",
     "iopub.status.busy": "2024-07-18T17:10:11.262774Z",
     "iopub.status.idle": "2024-07-18T17:10:11.323159Z",
     "shell.execute_reply": "2024-07-18T17:10:11.322003Z"
    },
    "papermill": {
     "duration": 0.123012,
     "end_time": "2024-07-18T17:10:11.325789",
     "exception": false,
     "start_time": "2024-07-18T17:10:11.202777",
     "status": "completed"
    },
    "tags": []
   },
   "outputs": [
    {
     "data": {
      "text/html": [
       "<div>\n",
       "<style scoped>\n",
       "    .dataframe tbody tr th:only-of-type {\n",
       "        vertical-align: middle;\n",
       "    }\n",
       "\n",
       "    .dataframe tbody tr th {\n",
       "        vertical-align: top;\n",
       "    }\n",
       "\n",
       "    .dataframe thead th {\n",
       "        text-align: right;\n",
       "    }\n",
       "</style>\n",
       "<table border=\"1\" class=\"dataframe\">\n",
       "  <thead>\n",
       "    <tr style=\"text-align: right;\">\n",
       "      <th></th>\n",
       "      <th>Location</th>\n",
       "      <th>Cross_Street</th>\n",
       "      <th>Latitude</th>\n",
       "      <th>Longitude</th>\n",
       "      <th>Date_Reported</th>\n",
       "      <th>Date_Occurred</th>\n",
       "      <th>Area_ID</th>\n",
       "      <th>Area_Name</th>\n",
       "      <th>Reporting_District_no</th>\n",
       "      <th>Part 1-2</th>\n",
       "      <th>...</th>\n",
       "      <th>Weapon_Used_Code</th>\n",
       "      <th>Weapon_Description</th>\n",
       "      <th>Status</th>\n",
       "      <th>Status_Description</th>\n",
       "      <th>Crime_Category</th>\n",
       "      <th>activity_count</th>\n",
       "      <th>day_category</th>\n",
       "      <th>Day_occured</th>\n",
       "      <th>month_occured</th>\n",
       "      <th>reporting_delay_day_count</th>\n",
       "    </tr>\n",
       "  </thead>\n",
       "  <tbody>\n",
       "    <tr>\n",
       "      <th>0</th>\n",
       "      <td>4500 CARPENTER AV</td>\n",
       "      <td></td>\n",
       "      <td>34.1522</td>\n",
       "      <td>-118.3910</td>\n",
       "      <td>2020-03-09</td>\n",
       "      <td>2020-03-06</td>\n",
       "      <td>15.0</td>\n",
       "      <td>N Hollywood</td>\n",
       "      <td>1563.0</td>\n",
       "      <td>1.0</td>\n",
       "      <td>...</td>\n",
       "      <td>NaN</td>\n",
       "      <td>sharp_heavy_object</td>\n",
       "      <td>IC</td>\n",
       "      <td>Invest Cont</td>\n",
       "      <td>Property Crimes</td>\n",
       "      <td>1</td>\n",
       "      <td>Evening</td>\n",
       "      <td>4</td>\n",
       "      <td>3</td>\n",
       "      <td>3</td>\n",
       "    </tr>\n",
       "    <tr>\n",
       "      <th>1</th>\n",
       "      <td>45TH ST</td>\n",
       "      <td>ALAMEDA ST</td>\n",
       "      <td>34.0028</td>\n",
       "      <td>-118.2391</td>\n",
       "      <td>2020-02-27</td>\n",
       "      <td>2020-02-27</td>\n",
       "      <td>13.0</td>\n",
       "      <td>Newton</td>\n",
       "      <td>1367.0</td>\n",
       "      <td>1.0</td>\n",
       "      <td>...</td>\n",
       "      <td>400.0</td>\n",
       "      <td>Physical Force</td>\n",
       "      <td>IC</td>\n",
       "      <td>Invest Cont</td>\n",
       "      <td>Property Crimes</td>\n",
       "      <td>8</td>\n",
       "      <td>Daytime</td>\n",
       "      <td>3</td>\n",
       "      <td>2</td>\n",
       "      <td>0</td>\n",
       "    </tr>\n",
       "    <tr>\n",
       "      <th>2</th>\n",
       "      <td>600 E MARTIN LUTHER KING JR BL</td>\n",
       "      <td></td>\n",
       "      <td>34.0111</td>\n",
       "      <td>-118.2653</td>\n",
       "      <td>2020-08-21</td>\n",
       "      <td>2020-08-21</td>\n",
       "      <td>13.0</td>\n",
       "      <td>Newton</td>\n",
       "      <td>1343.0</td>\n",
       "      <td>2.0</td>\n",
       "      <td>...</td>\n",
       "      <td>NaN</td>\n",
       "      <td>Gun</td>\n",
       "      <td>IC</td>\n",
       "      <td>Invest Cont</td>\n",
       "      <td>Property Crimes</td>\n",
       "      <td>2</td>\n",
       "      <td>Morning</td>\n",
       "      <td>4</td>\n",
       "      <td>8</td>\n",
       "      <td>0</td>\n",
       "    </tr>\n",
       "    <tr>\n",
       "      <th>3</th>\n",
       "      <td>14900 ORO GRANDE ST</td>\n",
       "      <td></td>\n",
       "      <td>34.2953</td>\n",
       "      <td>-118.4590</td>\n",
       "      <td>2020-11-08</td>\n",
       "      <td>2020-11-06</td>\n",
       "      <td>19.0</td>\n",
       "      <td>Mission</td>\n",
       "      <td>1924.0</td>\n",
       "      <td>1.0</td>\n",
       "      <td>...</td>\n",
       "      <td>NaN</td>\n",
       "      <td>Physical Force</td>\n",
       "      <td>IC</td>\n",
       "      <td>Invest Cont</td>\n",
       "      <td>Property Crimes</td>\n",
       "      <td>2</td>\n",
       "      <td>Evening</td>\n",
       "      <td>4</td>\n",
       "      <td>11</td>\n",
       "      <td>2</td>\n",
       "    </tr>\n",
       "    <tr>\n",
       "      <th>4</th>\n",
       "      <td>7100 S VERMONT AV</td>\n",
       "      <td></td>\n",
       "      <td>33.9787</td>\n",
       "      <td>-118.2918</td>\n",
       "      <td>2020-02-25</td>\n",
       "      <td>2020-02-25</td>\n",
       "      <td>12.0</td>\n",
       "      <td>77th Street</td>\n",
       "      <td>1245.0</td>\n",
       "      <td>1.0</td>\n",
       "      <td>...</td>\n",
       "      <td>400.0</td>\n",
       "      <td>Physical Force</td>\n",
       "      <td>IC</td>\n",
       "      <td>Invest Cont</td>\n",
       "      <td>Property Crimes</td>\n",
       "      <td>6</td>\n",
       "      <td>Morning</td>\n",
       "      <td>1</td>\n",
       "      <td>2</td>\n",
       "      <td>0</td>\n",
       "    </tr>\n",
       "    <tr>\n",
       "      <th>...</th>\n",
       "      <td>...</td>\n",
       "      <td>...</td>\n",
       "      <td>...</td>\n",
       "      <td>...</td>\n",
       "      <td>...</td>\n",
       "      <td>...</td>\n",
       "      <td>...</td>\n",
       "      <td>...</td>\n",
       "      <td>...</td>\n",
       "      <td>...</td>\n",
       "      <td>...</td>\n",
       "      <td>...</td>\n",
       "      <td>...</td>\n",
       "      <td>...</td>\n",
       "      <td>...</td>\n",
       "      <td>...</td>\n",
       "      <td>...</td>\n",
       "      <td>...</td>\n",
       "      <td>...</td>\n",
       "      <td>...</td>\n",
       "      <td>...</td>\n",
       "    </tr>\n",
       "    <tr>\n",
       "      <th>19995</th>\n",
       "      <td>5100 W ADAMS BL</td>\n",
       "      <td></td>\n",
       "      <td>34.0334</td>\n",
       "      <td>-118.3523</td>\n",
       "      <td>2020-05-24</td>\n",
       "      <td>2020-05-24</td>\n",
       "      <td>3.0</td>\n",
       "      <td>Southwest</td>\n",
       "      <td>303.0</td>\n",
       "      <td>2.0</td>\n",
       "      <td>...</td>\n",
       "      <td>400.0</td>\n",
       "      <td>Physical Force</td>\n",
       "      <td>IC</td>\n",
       "      <td>Invest Cont</td>\n",
       "      <td>Violent Crimes</td>\n",
       "      <td>4</td>\n",
       "      <td>Morning</td>\n",
       "      <td>6</td>\n",
       "      <td>5</td>\n",
       "      <td>0</td>\n",
       "    </tr>\n",
       "    <tr>\n",
       "      <th>19996</th>\n",
       "      <td>16900 ROSCOE BL</td>\n",
       "      <td></td>\n",
       "      <td>34.2212</td>\n",
       "      <td>-118.5011</td>\n",
       "      <td>2020-12-25</td>\n",
       "      <td>2020-12-25</td>\n",
       "      <td>10.0</td>\n",
       "      <td>West Valley</td>\n",
       "      <td>1008.0</td>\n",
       "      <td>1.0</td>\n",
       "      <td>...</td>\n",
       "      <td>NaN</td>\n",
       "      <td>sharp_heavy_object</td>\n",
       "      <td>IC</td>\n",
       "      <td>Invest Cont</td>\n",
       "      <td>Property Crimes</td>\n",
       "      <td>5</td>\n",
       "      <td>Night</td>\n",
       "      <td>4</td>\n",
       "      <td>12</td>\n",
       "      <td>0</td>\n",
       "    </tr>\n",
       "    <tr>\n",
       "      <th>19997</th>\n",
       "      <td>1000 S SHENANDOAH ST</td>\n",
       "      <td></td>\n",
       "      <td>34.0571</td>\n",
       "      <td>-118.3815</td>\n",
       "      <td>2020-09-25</td>\n",
       "      <td>2020-09-25</td>\n",
       "      <td>8.0</td>\n",
       "      <td>West LA</td>\n",
       "      <td>849.0</td>\n",
       "      <td>1.0</td>\n",
       "      <td>...</td>\n",
       "      <td>NaN</td>\n",
       "      <td>Physical Force</td>\n",
       "      <td>IC</td>\n",
       "      <td>Invest Cont</td>\n",
       "      <td>Property Crimes</td>\n",
       "      <td>3</td>\n",
       "      <td>Daytime</td>\n",
       "      <td>4</td>\n",
       "      <td>9</td>\n",
       "      <td>0</td>\n",
       "    </tr>\n",
       "    <tr>\n",
       "      <th>19998</th>\n",
       "      <td>300 W SEPULVEDA ST</td>\n",
       "      <td></td>\n",
       "      <td>33.7451</td>\n",
       "      <td>-118.2835</td>\n",
       "      <td>2020-06-10</td>\n",
       "      <td>2020-06-10</td>\n",
       "      <td>5.0</td>\n",
       "      <td>Harbor</td>\n",
       "      <td>558.0</td>\n",
       "      <td>2.0</td>\n",
       "      <td>...</td>\n",
       "      <td>NaN</td>\n",
       "      <td>other_weapon</td>\n",
       "      <td>IC</td>\n",
       "      <td>Invest Cont</td>\n",
       "      <td>Crimes against Public Order</td>\n",
       "      <td>6</td>\n",
       "      <td>Morning</td>\n",
       "      <td>2</td>\n",
       "      <td>6</td>\n",
       "      <td>0</td>\n",
       "    </tr>\n",
       "    <tr>\n",
       "      <th>19999</th>\n",
       "      <td>DALTON AV</td>\n",
       "      <td>VERNON AV</td>\n",
       "      <td>34.0037</td>\n",
       "      <td>-118.3034</td>\n",
       "      <td>2020-02-18</td>\n",
       "      <td>2020-02-17</td>\n",
       "      <td>3.0</td>\n",
       "      <td>Southwest</td>\n",
       "      <td>397.0</td>\n",
       "      <td>1.0</td>\n",
       "      <td>...</td>\n",
       "      <td>NaN</td>\n",
       "      <td>Physical Force</td>\n",
       "      <td>IC</td>\n",
       "      <td>Invest Cont</td>\n",
       "      <td>Property Crimes</td>\n",
       "      <td>0</td>\n",
       "      <td>Evening</td>\n",
       "      <td>0</td>\n",
       "      <td>2</td>\n",
       "      <td>1</td>\n",
       "    </tr>\n",
       "  </tbody>\n",
       "</table>\n",
       "<p>20000 rows × 26 columns</p>\n",
       "</div>"
      ],
      "text/plain": [
       "                             Location Cross_Street  Latitude  Longitude  \\\n",
       "0                   4500 CARPENTER AV                34.1522  -118.3910   \n",
       "1                             45TH ST   ALAMEDA ST   34.0028  -118.2391   \n",
       "2      600 E MARTIN LUTHER KING JR BL                34.0111  -118.2653   \n",
       "3                 14900 ORO GRANDE ST                34.2953  -118.4590   \n",
       "4                   7100 S VERMONT AV                33.9787  -118.2918   \n",
       "...                               ...          ...       ...        ...   \n",
       "19995                 5100 W ADAMS BL                34.0334  -118.3523   \n",
       "19996                 16900 ROSCOE BL                34.2212  -118.5011   \n",
       "19997            1000 S SHENANDOAH ST                34.0571  -118.3815   \n",
       "19998              300 W SEPULVEDA ST                33.7451  -118.2835   \n",
       "19999                       DALTON AV    VERNON AV   34.0037  -118.3034   \n",
       "\n",
       "      Date_Reported Date_Occurred Area_ID    Area_Name Reporting_District_no  \\\n",
       "0        2020-03-09    2020-03-06    15.0  N Hollywood                1563.0   \n",
       "1        2020-02-27    2020-02-27    13.0       Newton                1367.0   \n",
       "2        2020-08-21    2020-08-21    13.0       Newton                1343.0   \n",
       "3        2020-11-08    2020-11-06    19.0      Mission                1924.0   \n",
       "4        2020-02-25    2020-02-25    12.0  77th Street                1245.0   \n",
       "...             ...           ...     ...          ...                   ...   \n",
       "19995    2020-05-24    2020-05-24     3.0    Southwest                 303.0   \n",
       "19996    2020-12-25    2020-12-25    10.0  West Valley                1008.0   \n",
       "19997    2020-09-25    2020-09-25     8.0      West LA                 849.0   \n",
       "19998    2020-06-10    2020-06-10     5.0       Harbor                 558.0   \n",
       "19999    2020-02-18    2020-02-17     3.0    Southwest                 397.0   \n",
       "\n",
       "      Part 1-2  ... Weapon_Used_Code  Weapon_Description Status  \\\n",
       "0          1.0  ...              NaN  sharp_heavy_object     IC   \n",
       "1          1.0  ...            400.0      Physical Force     IC   \n",
       "2          2.0  ...              NaN                 Gun     IC   \n",
       "3          1.0  ...              NaN      Physical Force     IC   \n",
       "4          1.0  ...            400.0      Physical Force     IC   \n",
       "...        ...  ...              ...                 ...    ...   \n",
       "19995      2.0  ...            400.0      Physical Force     IC   \n",
       "19996      1.0  ...              NaN  sharp_heavy_object     IC   \n",
       "19997      1.0  ...              NaN      Physical Force     IC   \n",
       "19998      2.0  ...              NaN        other_weapon     IC   \n",
       "19999      1.0  ...              NaN      Physical Force     IC   \n",
       "\n",
       "      Status_Description               Crime_Category activity_count  \\\n",
       "0            Invest Cont              Property Crimes              1   \n",
       "1            Invest Cont              Property Crimes              8   \n",
       "2            Invest Cont              Property Crimes              2   \n",
       "3            Invest Cont              Property Crimes              2   \n",
       "4            Invest Cont              Property Crimes              6   \n",
       "...                  ...                          ...            ...   \n",
       "19995        Invest Cont               Violent Crimes              4   \n",
       "19996        Invest Cont              Property Crimes              5   \n",
       "19997        Invest Cont              Property Crimes              3   \n",
       "19998        Invest Cont  Crimes against Public Order              6   \n",
       "19999        Invest Cont              Property Crimes              0   \n",
       "\n",
       "       day_category Day_occured month_occured reporting_delay_day_count  \n",
       "0           Evening           4             3                         3  \n",
       "1           Daytime           3             2                         0  \n",
       "2           Morning           4             8                         0  \n",
       "3           Evening           4            11                         2  \n",
       "4           Morning           1             2                         0  \n",
       "...             ...         ...           ...                       ...  \n",
       "19995       Morning           6             5                         0  \n",
       "19996         Night           4            12                         0  \n",
       "19997       Daytime           4             9                         0  \n",
       "19998       Morning           2             6                         0  \n",
       "19999       Evening           0             2                         1  \n",
       "\n",
       "[20000 rows x 26 columns]"
      ]
     },
     "execution_count": 46,
     "metadata": {},
     "output_type": "execute_result"
    }
   ],
   "source": [
    "train"
   ]
  },
  {
   "cell_type": "code",
   "execution_count": 47,
   "id": "01eb7c01",
   "metadata": {
    "execution": {
     "iopub.execute_input": "2024-07-18T17:10:11.443995Z",
     "iopub.status.busy": "2024-07-18T17:10:11.443614Z",
     "iopub.status.idle": "2024-07-18T17:10:11.452114Z",
     "shell.execute_reply": "2024-07-18T17:10:11.450923Z"
    },
    "papermill": {
     "duration": 0.070441,
     "end_time": "2024-07-18T17:10:11.454575",
     "exception": false,
     "start_time": "2024-07-18T17:10:11.384134",
     "status": "completed"
    },
    "tags": []
   },
   "outputs": [
    {
     "data": {
      "text/plain": [
       "array([4, 3, 1, 0, 6, 5, 2], dtype=int32)"
      ]
     },
     "execution_count": 47,
     "metadata": {},
     "output_type": "execute_result"
    }
   ],
   "source": [
    "train['Day_occured'].unique()"
   ]
  },
  {
   "cell_type": "code",
   "execution_count": 48,
   "id": "2a874e98",
   "metadata": {
    "execution": {
     "iopub.execute_input": "2024-07-18T17:10:11.574271Z",
     "iopub.status.busy": "2024-07-18T17:10:11.573837Z",
     "iopub.status.idle": "2024-07-18T17:10:11.581746Z",
     "shell.execute_reply": "2024-07-18T17:10:11.580474Z"
    },
    "papermill": {
     "duration": 0.072079,
     "end_time": "2024-07-18T17:10:11.584960",
     "exception": false,
     "start_time": "2024-07-18T17:10:11.512881",
     "status": "completed"
    },
    "tags": []
   },
   "outputs": [
    {
     "name": "stdout",
     "output_type": "stream",
     "text": [
      "[75. 41. 67. 61.  0. 50. 68. 22. 31. 46. 72. 26. 38. 37. 42. 40. 53. 60.\n",
      " 29. 13. 33. 27. 15. 23. 74. 63. 78. 51. 44. 34. 69. 36. 52. 25. 49. 48.\n",
      " 32. 18. 35. 24. 39. 16. 28. 47. 30. 64. 76.  5. 58. 45. 57. 19. 55. 54.\n",
      " 21. 65. 17. 20. 77. 82. 56. 84. 59. 43.  7. 70. 66. 62. 14. 80. 71. 81.\n",
      " 96. 12. 11.  4. 83. 10.  8.  6. 88. 86. 73.  9. 87. 85. 93. 95. 99. 79.\n",
      "  3.  2. 91. 92. 90. 89. 98. 94.]\n"
     ]
    }
   ],
   "source": [
    "print(train['Victim_Age'].unique())"
   ]
  },
  {
   "cell_type": "code",
   "execution_count": 49,
   "id": "e6d478a0",
   "metadata": {
    "execution": {
     "iopub.execute_input": "2024-07-18T17:10:11.706324Z",
     "iopub.status.busy": "2024-07-18T17:10:11.705917Z",
     "iopub.status.idle": "2024-07-18T17:10:11.733019Z",
     "shell.execute_reply": "2024-07-18T17:10:11.731916Z"
    },
    "papermill": {
     "duration": 0.090821,
     "end_time": "2024-07-18T17:10:11.736102",
     "exception": false,
     "start_time": "2024-07-18T17:10:11.645281",
     "status": "completed"
    },
    "tags": []
   },
   "outputs": [],
   "source": [
    "train.loc[:,'Victim_Age']=train.loc[:,'Victim_Age'].apply(lambda x : int(x))\n",
    "train.loc[train['Victim_Age']==0,'Victim_Age']=train['Victim_Age'].mean()\n",
    "# train.loc['Victim_Age']=train.loc['Victim_Age'].apply(lambda x: int(x))"
   ]
  },
  {
   "cell_type": "code",
   "execution_count": 50,
   "id": "947976f6",
   "metadata": {
    "execution": {
     "iopub.execute_input": "2024-07-18T17:10:11.856020Z",
     "iopub.status.busy": "2024-07-18T17:10:11.855641Z",
     "iopub.status.idle": "2024-07-18T17:10:11.861612Z",
     "shell.execute_reply": "2024-07-18T17:10:11.860397Z"
    },
    "papermill": {
     "duration": 0.068536,
     "end_time": "2024-07-18T17:10:11.864177",
     "exception": false,
     "start_time": "2024-07-18T17:10:11.795641",
     "status": "completed"
    },
    "tags": []
   },
   "outputs": [],
   "source": [
    "\n",
    "# def gun(s):\n",
    "#     t=s.replace('/',' ')\n",
    "#     listt=t.split(' ' or '/')\n",
    "#     gun_keywords=['gun','pistol','revolver','rifle','shotgun']\n",
    "    \n",
    "#     sharp_heavy_object=['blade','stone','knife','metal','screwdriver','cleaver', 'glass','machete' ,'iron' , 'cutting','axe' ,'instrument','hammer','weapon','object','bottle','weapons','brass','scissors']\n",
    "    \n",
    "#     other_weapon = ['bomb','threat', 'demand', 'poison', 'ice', 'scalding', 'board','block' ,'brick', 'stick', 'bat', 'spray']\n",
    "    \n",
    "#     physical_presence=['physical','presence']\n",
    "    \n",
    "#     fire=['firearm' , 'fire' ]\n",
    "\n",
    "#     for i in listt:\n",
    "#         if i.lower() in gun_keywords:\n",
    "#             return 'Gun'\n",
    "#         elif i.lower() in sharp_heavy_object:\n",
    "#             return 'sharp_heavy_object'\n",
    "        \n",
    "#         elif i.lower() in fire:\n",
    "#             return 'fire'\n",
    "#         elif i.lower() in other_weapon:\n",
    "#             return 'other_weapon'\n",
    "#         elif i.lower() in physical_presence:\n",
    "#             return 'Physical Force'\n",
    "        \n",
    "#     return s\n",
    "    \n",
    "\n",
    "\n",
    "\n",
    "# df.loc[:,'Weapon_Description']=df['Weapon_Description'].apply(gun)"
   ]
  },
  {
   "cell_type": "code",
   "execution_count": 51,
   "id": "a7e8faff",
   "metadata": {
    "execution": {
     "iopub.execute_input": "2024-07-18T17:10:11.982816Z",
     "iopub.status.busy": "2024-07-18T17:10:11.982419Z",
     "iopub.status.idle": "2024-07-18T17:10:12.033229Z",
     "shell.execute_reply": "2024-07-18T17:10:12.031174Z"
    },
    "papermill": {
     "duration": 0.113412,
     "end_time": "2024-07-18T17:10:12.036021",
     "exception": false,
     "start_time": "2024-07-18T17:10:11.922609",
     "status": "completed"
    },
    "tags": []
   },
   "outputs": [
    {
     "name": "stdout",
     "output_type": "stream",
     "text": [
      "<class 'pandas.core.frame.DataFrame'>\n",
      "RangeIndex: 20000 entries, 0 to 19999\n",
      "Data columns (total 26 columns):\n",
      " #   Column                     Non-Null Count  Dtype         \n",
      "---  ------                     --------------  -----         \n",
      " 0   Location                   20000 non-null  object        \n",
      " 1   Cross_Street               20000 non-null  object        \n",
      " 2   Latitude                   20000 non-null  float64       \n",
      " 3   Longitude                  20000 non-null  float64       \n",
      " 4   Date_Reported              20000 non-null  datetime64[ns]\n",
      " 5   Date_Occurred              20000 non-null  datetime64[ns]\n",
      " 6   Area_ID                    20000 non-null  object        \n",
      " 7   Area_Name                  20000 non-null  object        \n",
      " 8   Reporting_District_no      20000 non-null  object        \n",
      " 9   Part 1-2                   20000 non-null  object        \n",
      " 10  Modus_Operandi             20000 non-null  object        \n",
      " 11  Victim_Age                 20000 non-null  float64       \n",
      " 12  Victim_Sex                 20000 non-null  object        \n",
      " 13  Victim_Descent             20000 non-null  object        \n",
      " 14  Premise_Code               20000 non-null  object        \n",
      " 15  Premise_Description        19995 non-null  object        \n",
      " 16  Weapon_Used_Code           7335 non-null   float64       \n",
      " 17  Weapon_Description         20000 non-null  object        \n",
      " 18  Status                     20000 non-null  object        \n",
      " 19  Status_Description         20000 non-null  object        \n",
      " 20  Crime_Category             20000 non-null  object        \n",
      " 21  activity_count             20000 non-null  int64         \n",
      " 22  day_category               20000 non-null  object        \n",
      " 23  Day_occured                20000 non-null  int32         \n",
      " 24  month_occured              20000 non-null  int32         \n",
      " 25  reporting_delay_day_count  20000 non-null  int64         \n",
      "dtypes: datetime64[ns](2), float64(4), int32(2), int64(2), object(16)\n",
      "memory usage: 3.8+ MB\n"
     ]
    }
   ],
   "source": [
    "train.info()"
   ]
  },
  {
   "cell_type": "markdown",
   "id": "7bd66a03",
   "metadata": {
    "papermill": {
     "duration": 0.060135,
     "end_time": "2024-07-18T17:10:12.156614",
     "exception": false,
     "start_time": "2024-07-18T17:10:12.096479",
     "status": "completed"
    },
    "tags": []
   },
   "source": [
    "# new Columns "
   ]
  },
  {
   "cell_type": "code",
   "execution_count": 52,
   "id": "951608b7",
   "metadata": {
    "execution": {
     "iopub.execute_input": "2024-07-18T17:10:12.277092Z",
     "iopub.status.busy": "2024-07-18T17:10:12.276672Z",
     "iopub.status.idle": "2024-07-18T17:10:12.306766Z",
     "shell.execute_reply": "2024-07-18T17:10:12.305580Z"
    },
    "papermill": {
     "duration": 0.093696,
     "end_time": "2024-07-18T17:10:12.309623",
     "exception": false,
     "start_time": "2024-07-18T17:10:12.215927",
     "status": "completed"
    },
    "tags": []
   },
   "outputs": [
    {
     "name": "stderr",
     "output_type": "stream",
     "text": [
      "/tmp/ipykernel_18/3846608719.py:1: FutureWarning: Setting an item of incompatible dtype is deprecated and will raise in a future error of pandas. Value '['3' '2' '8' ... '9' '6' '2']' has dtype incompatible with int32, please explicitly cast to a compatible dtype first.\n",
      "  train.loc[:,'month_occured']=train['month_occured'].astype(str)\n",
      "/tmp/ipykernel_18/3846608719.py:2: FutureWarning: Setting an item of incompatible dtype is deprecated and will raise in a future error of pandas. Value '['4' '3' '4' ... '4' '2' '0']' has dtype incompatible with int32, please explicitly cast to a compatible dtype first.\n",
      "  train.loc[:,'Day_occured']=train['Day_occured'].astype(str)\n"
     ]
    }
   ],
   "source": [
    "train.loc[:,'month_occured']=train['month_occured'].astype(str)\n",
    "train.loc[:,'Day_occured']=train['Day_occured'].astype(str)"
   ]
  },
  {
   "cell_type": "code",
   "execution_count": 53,
   "id": "200cb3f9",
   "metadata": {
    "execution": {
     "iopub.execute_input": "2024-07-18T17:10:12.431383Z",
     "iopub.status.busy": "2024-07-18T17:10:12.430348Z",
     "iopub.status.idle": "2024-07-18T17:10:12.441265Z",
     "shell.execute_reply": "2024-07-18T17:10:12.440365Z"
    },
    "papermill": {
     "duration": 0.075996,
     "end_time": "2024-07-18T17:10:12.443686",
     "exception": false,
     "start_time": "2024-07-18T17:10:12.367690",
     "status": "completed"
    },
    "tags": []
   },
   "outputs": [],
   "source": [
    "numerical_columns=['Latitude','Longitude','Victim_Age','activity_count','reporting_delay_day_count']\n",
    "categorical_columns=['Area_ID','Part 1-2','Victim_Sex','Victim_Descent','Weapon_Description','Status','day_category','Day_occured','month_occured'] #ohe\n",
    "# multilabel_binarizer=[['Modus_Operandi']] \n",
    "\n",
    "new_train=train[['Latitude','Longitude','Victim_Age','activity_count','reporting_delay_day_count','Area_ID','Part 1-2','Victim_Sex','Victim_Descent','Weapon_Description','Status','day_category','Modus_Operandi']]\n",
    "new_train_y=train['Crime_Category']\n",
    "\n",
    "\n",
    "\n",
    "\n"
   ]
  },
  {
   "cell_type": "markdown",
   "id": "9f80a8cc",
   "metadata": {
    "papermill": {
     "duration": 0.06122,
     "end_time": "2024-07-18T17:10:12.564785",
     "exception": false,
     "start_time": "2024-07-18T17:10:12.503565",
     "status": "completed"
    },
    "tags": []
   },
   "source": [
    "# new Column Transformer\n"
   ]
  },
  {
   "cell_type": "code",
   "execution_count": 54,
   "id": "ce73ec40",
   "metadata": {
    "execution": {
     "iopub.execute_input": "2024-07-18T17:10:12.687391Z",
     "iopub.status.busy": "2024-07-18T17:10:12.686956Z",
     "iopub.status.idle": "2024-07-18T17:10:12.739380Z",
     "shell.execute_reply": "2024-07-18T17:10:12.738216Z"
    },
    "papermill": {
     "duration": 0.115836,
     "end_time": "2024-07-18T17:10:12.742096",
     "exception": false,
     "start_time": "2024-07-18T17:10:12.626260",
     "status": "completed"
    },
    "tags": []
   },
   "outputs": [
    {
     "data": {
      "text/plain": [
       "Location                         0\n",
       "Cross_Street                     0\n",
       "Latitude                         0\n",
       "Longitude                        0\n",
       "Date_Reported                    0\n",
       "Date_Occurred                    0\n",
       "Area_ID                          0\n",
       "Area_Name                        0\n",
       "Reporting_District_no            0\n",
       "Part 1-2                         0\n",
       "Modus_Operandi                   0\n",
       "Victim_Age                       0\n",
       "Victim_Sex                       0\n",
       "Victim_Descent                   0\n",
       "Premise_Code                     0\n",
       "Premise_Description              5\n",
       "Weapon_Used_Code             12665\n",
       "Weapon_Description               0\n",
       "Status                           0\n",
       "Status_Description               0\n",
       "Crime_Category                   0\n",
       "activity_count                   0\n",
       "day_category                     0\n",
       "Day_occured                      0\n",
       "month_occured                    0\n",
       "reporting_delay_day_count        0\n",
       "dtype: int64"
      ]
     },
     "execution_count": 54,
     "metadata": {},
     "output_type": "execute_result"
    }
   ],
   "source": [
    "train.isnull().sum()"
   ]
  },
  {
   "cell_type": "code",
   "execution_count": 55,
   "id": "5a8cafd6",
   "metadata": {
    "execution": {
     "iopub.execute_input": "2024-07-18T17:10:12.863727Z",
     "iopub.status.busy": "2024-07-18T17:10:12.863313Z",
     "iopub.status.idle": "2024-07-18T17:10:12.879024Z",
     "shell.execute_reply": "2024-07-18T17:10:12.877891Z"
    },
    "papermill": {
     "duration": 0.080215,
     "end_time": "2024-07-18T17:10:12.881890",
     "exception": false,
     "start_time": "2024-07-18T17:10:12.801675",
     "status": "completed"
    },
    "tags": []
   },
   "outputs": [],
   "source": [
    "from sklearn.compose import ColumnTransformer\n",
    "import numpy as np\n",
    "from sklearn.preprocessing import StandardScaler , OneHotEncoder \n",
    "\n",
    "new_ct=ColumnTransformer(transformers=[\n",
    "    \n",
    "    ('numerical_cols' , StandardScaler(),['Latitude','Longitude','reporting_delay_day_count','Victim_Age','activity_count']),\n",
    "    ('categorical_cols' , OneHotEncoder(handle_unknown='ignore'),['day_category','Victim_Sex','Victim_Descent','Part 1-2','Area_ID','Status','Weapon_Description']),\n",
    "    ('multi_label_binarizer', MultiLabelBinarizerWrapper(), 'Modus_Operandi'),\n",
    "#     ('target_encoder',TargetEncoder(target_type='multiclass',random_state=42),'Premise_Code')\n",
    "])"
   ]
  },
  {
   "cell_type": "code",
   "execution_count": 56,
   "id": "c9e9c3e0",
   "metadata": {
    "execution": {
     "iopub.execute_input": "2024-07-18T17:10:13.066916Z",
     "iopub.status.busy": "2024-07-18T17:10:13.066517Z",
     "iopub.status.idle": "2024-07-18T17:10:13.122900Z",
     "shell.execute_reply": "2024-07-18T17:10:13.121852Z"
    },
    "papermill": {
     "duration": 0.12022,
     "end_time": "2024-07-18T17:10:13.125459",
     "exception": false,
     "start_time": "2024-07-18T17:10:13.005239",
     "status": "completed"
    },
    "tags": []
   },
   "outputs": [
    {
     "name": "stdout",
     "output_type": "stream",
     "text": [
      "<class 'pandas.core.frame.DataFrame'>\n",
      "RangeIndex: 20000 entries, 0 to 19999\n",
      "Data columns (total 26 columns):\n",
      " #   Column                     Non-Null Count  Dtype         \n",
      "---  ------                     --------------  -----         \n",
      " 0   Location                   20000 non-null  object        \n",
      " 1   Cross_Street               20000 non-null  object        \n",
      " 2   Latitude                   20000 non-null  float64       \n",
      " 3   Longitude                  20000 non-null  float64       \n",
      " 4   Date_Reported              20000 non-null  datetime64[ns]\n",
      " 5   Date_Occurred              20000 non-null  datetime64[ns]\n",
      " 6   Area_ID                    20000 non-null  object        \n",
      " 7   Area_Name                  20000 non-null  object        \n",
      " 8   Reporting_District_no      20000 non-null  object        \n",
      " 9   Part 1-2                   20000 non-null  object        \n",
      " 10  Modus_Operandi             20000 non-null  object        \n",
      " 11  Victim_Age                 20000 non-null  float64       \n",
      " 12  Victim_Sex                 20000 non-null  object        \n",
      " 13  Victim_Descent             20000 non-null  object        \n",
      " 14  Premise_Code               20000 non-null  object        \n",
      " 15  Premise_Description        19995 non-null  object        \n",
      " 16  Weapon_Used_Code           7335 non-null   float64       \n",
      " 17  Weapon_Description         20000 non-null  object        \n",
      " 18  Status                     20000 non-null  object        \n",
      " 19  Status_Description         20000 non-null  object        \n",
      " 20  Crime_Category             20000 non-null  object        \n",
      " 21  activity_count             20000 non-null  int64         \n",
      " 22  day_category               20000 non-null  object        \n",
      " 23  Day_occured                20000 non-null  object        \n",
      " 24  month_occured              20000 non-null  object        \n",
      " 25  reporting_delay_day_count  20000 non-null  int64         \n",
      "dtypes: datetime64[ns](2), float64(4), int64(2), object(18)\n",
      "memory usage: 4.0+ MB\n"
     ]
    }
   ],
   "source": [
    "train.info()"
   ]
  },
  {
   "cell_type": "code",
   "execution_count": 57,
   "id": "836f13c2",
   "metadata": {
    "execution": {
     "iopub.execute_input": "2024-07-18T17:10:13.247618Z",
     "iopub.status.busy": "2024-07-18T17:10:13.247217Z",
     "iopub.status.idle": "2024-07-18T17:10:13.271466Z",
     "shell.execute_reply": "2024-07-18T17:10:13.270405Z"
    },
    "papermill": {
     "duration": 0.088662,
     "end_time": "2024-07-18T17:10:13.274076",
     "exception": false,
     "start_time": "2024-07-18T17:10:13.185414",
     "status": "completed"
    },
    "tags": []
   },
   "outputs": [
    {
     "data": {
      "text/html": [
       "<div>\n",
       "<style scoped>\n",
       "    .dataframe tbody tr th:only-of-type {\n",
       "        vertical-align: middle;\n",
       "    }\n",
       "\n",
       "    .dataframe tbody tr th {\n",
       "        vertical-align: top;\n",
       "    }\n",
       "\n",
       "    .dataframe thead th {\n",
       "        text-align: right;\n",
       "    }\n",
       "</style>\n",
       "<table border=\"1\" class=\"dataframe\">\n",
       "  <thead>\n",
       "    <tr style=\"text-align: right;\">\n",
       "      <th></th>\n",
       "      <th>Latitude</th>\n",
       "      <th>Longitude</th>\n",
       "      <th>Victim_Age</th>\n",
       "      <th>activity_count</th>\n",
       "      <th>reporting_delay_day_count</th>\n",
       "      <th>Area_ID</th>\n",
       "      <th>Part 1-2</th>\n",
       "      <th>Victim_Sex</th>\n",
       "      <th>Victim_Descent</th>\n",
       "      <th>Weapon_Description</th>\n",
       "      <th>Status</th>\n",
       "      <th>day_category</th>\n",
       "      <th>Modus_Operandi</th>\n",
       "    </tr>\n",
       "  </thead>\n",
       "  <tbody>\n",
       "    <tr>\n",
       "      <th>0</th>\n",
       "      <td>34.1522</td>\n",
       "      <td>-118.3910</td>\n",
       "      <td>75.0000</td>\n",
       "      <td>1</td>\n",
       "      <td>3</td>\n",
       "      <td>15.0</td>\n",
       "      <td>1.0</td>\n",
       "      <td>M</td>\n",
       "      <td>W</td>\n",
       "      <td>sharp_heavy_object</td>\n",
       "      <td>IC</td>\n",
       "      <td>Evening</td>\n",
       "      <td>0385</td>\n",
       "    </tr>\n",
       "    <tr>\n",
       "      <th>1</th>\n",
       "      <td>34.0028</td>\n",
       "      <td>-118.2391</td>\n",
       "      <td>41.0000</td>\n",
       "      <td>8</td>\n",
       "      <td>0</td>\n",
       "      <td>13.0</td>\n",
       "      <td>1.0</td>\n",
       "      <td>M</td>\n",
       "      <td>H</td>\n",
       "      <td>Physical Force</td>\n",
       "      <td>IC</td>\n",
       "      <td>Daytime</td>\n",
       "      <td>0906 0352 0371 0446 1822 0344 0416 0417</td>\n",
       "    </tr>\n",
       "    <tr>\n",
       "      <th>2</th>\n",
       "      <td>34.0111</td>\n",
       "      <td>-118.2653</td>\n",
       "      <td>67.0000</td>\n",
       "      <td>2</td>\n",
       "      <td>0</td>\n",
       "      <td>13.0</td>\n",
       "      <td>2.0</td>\n",
       "      <td>M</td>\n",
       "      <td>B</td>\n",
       "      <td>Gun</td>\n",
       "      <td>IC</td>\n",
       "      <td>Morning</td>\n",
       "      <td>0329 1202</td>\n",
       "    </tr>\n",
       "    <tr>\n",
       "      <th>3</th>\n",
       "      <td>34.2953</td>\n",
       "      <td>-118.4590</td>\n",
       "      <td>61.0000</td>\n",
       "      <td>2</td>\n",
       "      <td>2</td>\n",
       "      <td>19.0</td>\n",
       "      <td>1.0</td>\n",
       "      <td>M</td>\n",
       "      <td>H</td>\n",
       "      <td>Physical Force</td>\n",
       "      <td>IC</td>\n",
       "      <td>Evening</td>\n",
       "      <td>0329 1300</td>\n",
       "    </tr>\n",
       "    <tr>\n",
       "      <th>4</th>\n",
       "      <td>33.9787</td>\n",
       "      <td>-118.2918</td>\n",
       "      <td>30.1354</td>\n",
       "      <td>6</td>\n",
       "      <td>0</td>\n",
       "      <td>12.0</td>\n",
       "      <td>1.0</td>\n",
       "      <td>X</td>\n",
       "      <td>X</td>\n",
       "      <td>Physical Force</td>\n",
       "      <td>IC</td>\n",
       "      <td>Morning</td>\n",
       "      <td>0416 0945 1822 0400 0417 0344</td>\n",
       "    </tr>\n",
       "    <tr>\n",
       "      <th>...</th>\n",
       "      <td>...</td>\n",
       "      <td>...</td>\n",
       "      <td>...</td>\n",
       "      <td>...</td>\n",
       "      <td>...</td>\n",
       "      <td>...</td>\n",
       "      <td>...</td>\n",
       "      <td>...</td>\n",
       "      <td>...</td>\n",
       "      <td>...</td>\n",
       "      <td>...</td>\n",
       "      <td>...</td>\n",
       "      <td>...</td>\n",
       "    </tr>\n",
       "    <tr>\n",
       "      <th>19995</th>\n",
       "      <td>34.0334</td>\n",
       "      <td>-118.3523</td>\n",
       "      <td>51.0000</td>\n",
       "      <td>4</td>\n",
       "      <td>0</td>\n",
       "      <td>3.0</td>\n",
       "      <td>2.0</td>\n",
       "      <td>M</td>\n",
       "      <td>H</td>\n",
       "      <td>Physical Force</td>\n",
       "      <td>IC</td>\n",
       "      <td>Morning</td>\n",
       "      <td>0416 0446 2004 0913</td>\n",
       "    </tr>\n",
       "    <tr>\n",
       "      <th>19996</th>\n",
       "      <td>34.2212</td>\n",
       "      <td>-118.5011</td>\n",
       "      <td>30.1354</td>\n",
       "      <td>5</td>\n",
       "      <td>0</td>\n",
       "      <td>10.0</td>\n",
       "      <td>1.0</td>\n",
       "      <td>M</td>\n",
       "      <td>W</td>\n",
       "      <td>sharp_heavy_object</td>\n",
       "      <td>IC</td>\n",
       "      <td>Night</td>\n",
       "      <td>1822 0209 0344 1414 1420</td>\n",
       "    </tr>\n",
       "    <tr>\n",
       "      <th>19997</th>\n",
       "      <td>34.0571</td>\n",
       "      <td>-118.3815</td>\n",
       "      <td>42.0000</td>\n",
       "      <td>3</td>\n",
       "      <td>0</td>\n",
       "      <td>8.0</td>\n",
       "      <td>1.0</td>\n",
       "      <td>M</td>\n",
       "      <td>H</td>\n",
       "      <td>Physical Force</td>\n",
       "      <td>IC</td>\n",
       "      <td>Daytime</td>\n",
       "      <td>0344 1822 1420</td>\n",
       "    </tr>\n",
       "    <tr>\n",
       "      <th>19998</th>\n",
       "      <td>33.7451</td>\n",
       "      <td>-118.2835</td>\n",
       "      <td>76.0000</td>\n",
       "      <td>6</td>\n",
       "      <td>0</td>\n",
       "      <td>5.0</td>\n",
       "      <td>2.0</td>\n",
       "      <td>F</td>\n",
       "      <td>H</td>\n",
       "      <td>other_weapon</td>\n",
       "      <td>IC</td>\n",
       "      <td>Morning</td>\n",
       "      <td>1202 2038 0913 0602 1242 0553</td>\n",
       "    </tr>\n",
       "    <tr>\n",
       "      <th>19999</th>\n",
       "      <td>34.0037</td>\n",
       "      <td>-118.3034</td>\n",
       "      <td>30.1354</td>\n",
       "      <td>0</td>\n",
       "      <td>1</td>\n",
       "      <td>3.0</td>\n",
       "      <td>1.0</td>\n",
       "      <td>M</td>\n",
       "      <td>H</td>\n",
       "      <td>Physical Force</td>\n",
       "      <td>IC</td>\n",
       "      <td>Evening</td>\n",
       "      <td></td>\n",
       "    </tr>\n",
       "  </tbody>\n",
       "</table>\n",
       "<p>20000 rows × 13 columns</p>\n",
       "</div>"
      ],
      "text/plain": [
       "       Latitude  Longitude  Victim_Age  activity_count  \\\n",
       "0       34.1522  -118.3910     75.0000               1   \n",
       "1       34.0028  -118.2391     41.0000               8   \n",
       "2       34.0111  -118.2653     67.0000               2   \n",
       "3       34.2953  -118.4590     61.0000               2   \n",
       "4       33.9787  -118.2918     30.1354               6   \n",
       "...         ...        ...         ...             ...   \n",
       "19995   34.0334  -118.3523     51.0000               4   \n",
       "19996   34.2212  -118.5011     30.1354               5   \n",
       "19997   34.0571  -118.3815     42.0000               3   \n",
       "19998   33.7451  -118.2835     76.0000               6   \n",
       "19999   34.0037  -118.3034     30.1354               0   \n",
       "\n",
       "       reporting_delay_day_count Area_ID Part 1-2 Victim_Sex Victim_Descent  \\\n",
       "0                              3    15.0      1.0          M              W   \n",
       "1                              0    13.0      1.0          M              H   \n",
       "2                              0    13.0      2.0          M              B   \n",
       "3                              2    19.0      1.0          M              H   \n",
       "4                              0    12.0      1.0          X              X   \n",
       "...                          ...     ...      ...        ...            ...   \n",
       "19995                          0     3.0      2.0          M              H   \n",
       "19996                          0    10.0      1.0          M              W   \n",
       "19997                          0     8.0      1.0          M              H   \n",
       "19998                          0     5.0      2.0          F              H   \n",
       "19999                          1     3.0      1.0          M              H   \n",
       "\n",
       "       Weapon_Description Status day_category  \\\n",
       "0      sharp_heavy_object     IC      Evening   \n",
       "1          Physical Force     IC      Daytime   \n",
       "2                     Gun     IC      Morning   \n",
       "3          Physical Force     IC      Evening   \n",
       "4          Physical Force     IC      Morning   \n",
       "...                   ...    ...          ...   \n",
       "19995      Physical Force     IC      Morning   \n",
       "19996  sharp_heavy_object     IC        Night   \n",
       "19997      Physical Force     IC      Daytime   \n",
       "19998        other_weapon     IC      Morning   \n",
       "19999      Physical Force     IC      Evening   \n",
       "\n",
       "                                Modus_Operandi  \n",
       "0                                         0385  \n",
       "1      0906 0352 0371 0446 1822 0344 0416 0417  \n",
       "2                                    0329 1202  \n",
       "3                                    0329 1300  \n",
       "4                0416 0945 1822 0400 0417 0344  \n",
       "...                                        ...  \n",
       "19995                      0416 0446 2004 0913  \n",
       "19996                 1822 0209 0344 1414 1420  \n",
       "19997                           0344 1822 1420  \n",
       "19998            1202 2038 0913 0602 1242 0553  \n",
       "19999                                           \n",
       "\n",
       "[20000 rows x 13 columns]"
      ]
     },
     "execution_count": 57,
     "metadata": {},
     "output_type": "execute_result"
    }
   ],
   "source": [
    "new_train"
   ]
  },
  {
   "cell_type": "code",
   "execution_count": 58,
   "id": "cf7528a3",
   "metadata": {
    "execution": {
     "iopub.execute_input": "2024-07-18T17:10:13.396791Z",
     "iopub.status.busy": "2024-07-18T17:10:13.396372Z",
     "iopub.status.idle": "2024-07-18T17:10:13.508650Z",
     "shell.execute_reply": "2024-07-18T17:10:13.507388Z"
    },
    "papermill": {
     "duration": 0.177362,
     "end_time": "2024-07-18T17:10:13.511503",
     "exception": false,
     "start_time": "2024-07-18T17:10:13.334141",
     "status": "completed"
    },
    "tags": []
   },
   "outputs": [],
   "source": [
    "from sklearn.linear_model import LogisticRegression,LogisticRegressionCV\n",
    "from sklearn.pipeline import Pipeline\n",
    "from sklearn.compose import ColumnTransformer\n",
    "\n",
    "\n",
    "from sklearn.model_selection import StratifiedKFold\n",
    "\n",
    "from sklearn.metrics import accuracy_score,f1_score"
   ]
  },
  {
   "cell_type": "markdown",
   "id": "aeab98c9",
   "metadata": {
    "papermill": {
     "duration": 0.060883,
     "end_time": "2024-07-18T17:10:13.636040",
     "exception": false,
     "start_time": "2024-07-18T17:10:13.575157",
     "status": "completed"
    },
    "tags": []
   },
   "source": [
    "# train_test_split"
   ]
  },
  {
   "cell_type": "code",
   "execution_count": 59,
   "id": "5de89c8c",
   "metadata": {
    "execution": {
     "iopub.execute_input": "2024-07-18T17:10:13.759334Z",
     "iopub.status.busy": "2024-07-18T17:10:13.758900Z",
     "iopub.status.idle": "2024-07-18T17:10:13.804676Z",
     "shell.execute_reply": "2024-07-18T17:10:13.803522Z"
    },
    "papermill": {
     "duration": 0.1112,
     "end_time": "2024-07-18T17:10:13.807545",
     "exception": false,
     "start_time": "2024-07-18T17:10:13.696345",
     "status": "completed"
    },
    "tags": []
   },
   "outputs": [],
   "source": [
    "# df.shape\n",
    "\n",
    "from sklearn.model_selection import train_test_split\n",
    "\n",
    "xtrain_1 , xtest_1 , ytrain_1 , ytest_1 = train_test_split(new_train ,new_train_y ,test_size=0.2 , random_state=42 ,shuffle=True,stratify = new_train_y )"
   ]
  },
  {
   "cell_type": "markdown",
   "id": "e978c154",
   "metadata": {
    "papermill": {
     "duration": 0.059609,
     "end_time": "2024-07-18T17:10:13.928622",
     "exception": false,
     "start_time": "2024-07-18T17:10:13.869013",
     "status": "completed"
    },
    "tags": []
   },
   "source": [
    "# DummyClassifier"
   ]
  },
  {
   "cell_type": "code",
   "execution_count": 60,
   "id": "eded7d65",
   "metadata": {
    "execution": {
     "iopub.execute_input": "2024-07-18T17:10:14.054301Z",
     "iopub.status.busy": "2024-07-18T17:10:14.053893Z",
     "iopub.status.idle": "2024-07-18T17:10:15.149512Z",
     "shell.execute_reply": "2024-07-18T17:10:15.148226Z"
    },
    "papermill": {
     "duration": 1.159438,
     "end_time": "2024-07-18T17:10:15.152160",
     "exception": false,
     "start_time": "2024-07-18T17:10:13.992722",
     "status": "completed"
    },
    "tags": []
   },
   "outputs": [
    {
     "name": "stdout",
     "output_type": "stream",
     "text": [
      "Accuracy scores for each fold:  [0.5834375, 0.5834375, 0.5834375, 0.583125, 0.583125]\n",
      "Average accuracy:  0.5833125\n",
      "F1 scores for each fold:  [0.429949797710677, 0.429949797710677, 0.429949797710677, 0.42957412159494673, 0.42957412159494673]\n",
      "Average F1 score:  0.4297995272643849\n"
     ]
    }
   ],
   "source": [
    "from sklearn.dummy import DummyClassifier\n",
    "\n",
    "# dummy_clf=DummyClassifier(random_state=42 , strategy=\"most_frequent\")\n",
    "# dummy_clf.fit(xtrain, ytrain)\n",
    "# print('Dummy train score', dummy_clf.score(ytrain,ytrain))\n",
    "# print('Dummy predicted train score', dummy_clf.score(xtrain,dummy_clf.predict(xtrain)))\n",
    "\n",
    "# print('Dummy test score', dummy_clf.score(xtest, ytest))\n",
    "\n",
    "# print('Dummy predicted test score', dummy_clf.score(xtest, dummy_clf.predict(xtest)))\n",
    "data_split= StratifiedKFold(n_splits=5, shuffle=True, random_state=42)\n",
    "\n",
    "\n",
    "model_dummy=DummyClassifier(random_state=42 , strategy=\"most_frequent\")\n",
    "\n",
    "dummy_pipeline=Pipeline(steps=[('new_ct',new_ct),('model_dummy',model_dummy)])\n",
    "\n",
    "\n",
    "\n",
    "accuracy_scores_dummy_pipeline = []\n",
    "f1_scores_dummy_pipeline = []\n",
    "\n",
    "\n",
    "\n",
    "for train_index, test_index in data_split.split(xtrain_1, ytrain_1):\n",
    "    X_train, X_test = xtrain_1.iloc[train_index], xtrain_1.iloc[test_index]\n",
    "    y_train, y_test = ytrain_1.iloc[train_index], ytrain_1.iloc[test_index]\n",
    "    \n",
    "    dummy_pipeline.fit(X_train, y_train)\n",
    "    \n",
    "    y_pred = dummy_pipeline.predict(X_test)\n",
    "    accuracy = accuracy_score(y_test, y_pred)\n",
    "    f1 = f1_score(y_test, y_pred, average='weighted')\n",
    "    accuracy_scores_dummy_pipeline.append(accuracy)\n",
    "    f1_scores_dummy_pipeline.append(f1)\n",
    "    \n",
    "    \n",
    "    \n",
    "    \n",
    "    \n",
    "    \n",
    "    \n",
    "print(\"Accuracy scores for each fold: \", accuracy_scores_dummy_pipeline)\n",
    "print(\"Average accuracy: \", np.mean(accuracy_scores_dummy_pipeline))\n",
    "print(\"F1 scores for each fold: \", f1_scores_dummy_pipeline)\n",
    "print(\"Average F1 score: \", np.mean(f1_scores_dummy_pipeline))\n",
    "    \n",
    "    \n",
    "    \n"
   ]
  },
  {
   "cell_type": "markdown",
   "id": "4c5ecd88",
   "metadata": {
    "papermill": {
     "duration": 0.063624,
     "end_time": "2024-07-18T17:10:15.279323",
     "exception": false,
     "start_time": "2024-07-18T17:10:15.215699",
     "status": "completed"
    },
    "tags": []
   },
   "source": [
    "# Logistic"
   ]
  },
  {
   "cell_type": "code",
   "execution_count": 61,
   "id": "1a12c787",
   "metadata": {
    "execution": {
     "iopub.execute_input": "2024-07-18T17:10:15.402765Z",
     "iopub.status.busy": "2024-07-18T17:10:15.402358Z",
     "iopub.status.idle": "2024-07-18T17:10:21.239940Z",
     "shell.execute_reply": "2024-07-18T17:10:21.238764Z"
    },
    "papermill": {
     "duration": 5.903745,
     "end_time": "2024-07-18T17:10:21.244159",
     "exception": false,
     "start_time": "2024-07-18T17:10:15.340414",
     "status": "completed"
    },
    "tags": []
   },
   "outputs": [
    {
     "data": {
      "text/plain": [
       "0.8135"
      ]
     },
     "execution_count": 61,
     "metadata": {},
     "output_type": "execute_result"
    }
   ],
   "source": [
    "from sklearn.model_selection import train_test_split\n",
    "\n",
    "\n",
    "\n",
    "from sklearn.linear_model import LogisticRegression\n",
    "logistic_model_plain = Pipeline(steps=[('new_ct',new_ct),('logistic_reg',LogisticRegression( max_iter=1200 ,random_state=42))])\n",
    "\n",
    "logistic_model_plain.fit(xtrain_1, ytrain_1)\n",
    "\n",
    "logistic_model_plain.score(xtest_1,ytest_1)"
   ]
  },
  {
   "cell_type": "markdown",
   "id": "a732fa2c",
   "metadata": {
    "papermill": {
     "duration": 0.061441,
     "end_time": "2024-07-18T17:10:21.415702",
     "exception": false,
     "start_time": "2024-07-18T17:10:21.354261",
     "status": "completed"
    },
    "tags": []
   },
   "source": [
    "Logistic Full Model"
   ]
  },
  {
   "cell_type": "code",
   "execution_count": 62,
   "id": "992ad702",
   "metadata": {
    "execution": {
     "iopub.execute_input": "2024-07-18T17:10:21.546009Z",
     "iopub.status.busy": "2024-07-18T17:10:21.545594Z",
     "iopub.status.idle": "2024-07-18T17:10:45.462441Z",
     "shell.execute_reply": "2024-07-18T17:10:45.460689Z"
    },
    "papermill": {
     "duration": 23.98519,
     "end_time": "2024-07-18T17:10:45.465145",
     "exception": false,
     "start_time": "2024-07-18T17:10:21.479955",
     "status": "completed"
    },
    "tags": []
   },
   "outputs": [
    {
     "name": "stdout",
     "output_type": "stream",
     "text": [
      "Accuracy scores for each fold using pipe_logistic_model:  [0.82025, 0.8145, 0.814, 0.818, 0.81275]\n",
      "Average accuracy using pipe_logistic_model:  0.8159000000000001\n",
      "F1 scores for each fold using pipe_logistic_model:  [0.809539512173194, 0.8059091932768646, 0.8050970942843559, 0.8089043628642211, 0.8022249883706919]\n",
      "Average F1 score using pipe_logistic_model:  0.8063350301938655\n",
      "model_score_test list  using pipe_logistic_model  [0.82025, 0.8145, 0.814, 0.818, 0.81275]\n"
     ]
    }
   ],
   "source": [
    "from sklearn.linear_model import LogisticRegression\n",
    "\n",
    "pipe_logistic_model = Pipeline(steps=[('new_ct',new_ct),('logistic_reg',LogisticRegression( max_iter=1200 ,random_state=42))])\n",
    "\n",
    "model_score_test=[]\n",
    "accuracy_scores_logistic_pipeline = []\n",
    "f1_scores_logistic_pipeline = []\n",
    "\n",
    "\n",
    "\n",
    "for train_index, test_index in data_split.split(new_train, new_train_y):\n",
    "    X_train, X_test = new_train.iloc[train_index], new_train.iloc[test_index]\n",
    "    y_train, y_test = new_train_y.iloc[train_index], new_train_y.iloc[test_index]\n",
    "    \n",
    "    pipe_logistic_model.fit(X_train, y_train)\n",
    "    \n",
    "    y_pred_pipe_logistic_model = pipe_logistic_model.predict(X_test)\n",
    "    \n",
    "    \n",
    "    model_score=pipe_logistic_model.score(X_test,y_test)\n",
    "\n",
    "    accuracy = accuracy_score(y_test, y_pred_pipe_logistic_model)\n",
    "    f1 = f1_score(y_test, y_pred_pipe_logistic_model, average='weighted')\n",
    "    accuracy_scores_logistic_pipeline.append(accuracy)\n",
    "    f1_scores_logistic_pipeline.append(f1)\n",
    "    model_score_test.append(model_score)\n",
    "    \n",
    "    \n",
    "    \n",
    "    \n",
    "    \n",
    "    \n",
    "    \n",
    "print(\"Accuracy scores for each fold using pipe_logistic_model: \", accuracy_scores_logistic_pipeline)\n",
    "print(\"Average accuracy using pipe_logistic_model: \", np.mean(accuracy_scores_logistic_pipeline))\n",
    "print(\"F1 scores for each fold using pipe_logistic_model: \", f1_scores_logistic_pipeline)\n",
    "print(\"Average F1 score using pipe_logistic_model: \", np.mean(f1_scores_logistic_pipeline))\n",
    "print(\"model_score_test list  using pipe_logistic_model \" ,model_score_test )\n",
    "\n"
   ]
  },
  {
   "cell_type": "markdown",
   "id": "f76a01b7",
   "metadata": {
    "papermill": {
     "duration": 0.060006,
     "end_time": "2024-07-18T17:10:45.585333",
     "exception": false,
     "start_time": "2024-07-18T17:10:45.525327",
     "status": "completed"
    },
    "tags": []
   },
   "source": [
    "Logistic Half model"
   ]
  },
  {
   "cell_type": "code",
   "execution_count": 63,
   "id": "72419717",
   "metadata": {
    "execution": {
     "iopub.execute_input": "2024-07-18T17:10:45.709398Z",
     "iopub.status.busy": "2024-07-18T17:10:45.708962Z",
     "iopub.status.idle": "2024-07-18T17:11:05.097033Z",
     "shell.execute_reply": "2024-07-18T17:11:05.095915Z"
    },
    "papermill": {
     "duration": 19.454346,
     "end_time": "2024-07-18T17:11:05.101155",
     "exception": false,
     "start_time": "2024-07-18T17:10:45.646809",
     "status": "completed"
    },
    "tags": []
   },
   "outputs": [
    {
     "name": "stdout",
     "output_type": "stream",
     "text": [
      "Accuracy scores for each fold using pipe_logistic_model:  [0.8128125, 0.8221875, 0.8128125, 0.815625, 0.814375]\n",
      "Average accuracy using pipe_logistic_model:  0.8155625000000001\n",
      "F1 scores for each fold using pipe_logistic_model:  [0.8044932232808896, 0.8142190411860394, 0.8034664264496566, 0.8048925647062604, 0.8054063886749495]\n",
      "Average F1 score using pipe_logistic_model:  0.8064955288595591\n",
      "model_score_test list  using pipe_logistic_model  [0.8128125, 0.8221875, 0.8128125, 0.815625, 0.814375]\n"
     ]
    }
   ],
   "source": [
    "from sklearn.linear_model import LogisticRegression\n",
    "\n",
    "pipe_logistic_model_2 = Pipeline(steps=[('new_ct',new_ct),('logistic_reg',LogisticRegression( max_iter=1200 ,random_state=42))])\n",
    "\n",
    "model_score_test=[]\n",
    "accuracy_scores_logistic_pipeline = []\n",
    "f1_scores_logistic_pipeline = []\n",
    "\n",
    "\n",
    "\n",
    "for train_index, test_index in data_split.split(xtrain_1, ytrain_1):\n",
    "    X_train, X_test = xtrain_1.iloc[train_index], xtrain_1.iloc[test_index]\n",
    "    y_train, y_test = ytrain_1.iloc[train_index], ytrain_1.iloc[test_index]\n",
    "    \n",
    "    pipe_logistic_model_2.fit(X_train, y_train)\n",
    "    \n",
    "    y_pred_pipe_logistic_model_2 = pipe_logistic_model_2.predict(X_test)\n",
    "    \n",
    "    \n",
    "    model_score=pipe_logistic_model_2.score(X_test,y_test)\n",
    "\n",
    "    accuracy = accuracy_score(y_test, y_pred_pipe_logistic_model_2)\n",
    "    f1 = f1_score(y_test, y_pred_pipe_logistic_model_2, average='weighted')\n",
    "    accuracy_scores_logistic_pipeline.append(accuracy)\n",
    "    f1_scores_logistic_pipeline.append(f1)\n",
    "    model_score_test.append(model_score)\n",
    "    \n",
    "    \n",
    "    \n",
    "    \n",
    "    \n",
    "    \n",
    "    \n",
    "print(\"Accuracy scores for each fold using pipe_logistic_model: \", accuracy_scores_logistic_pipeline)\n",
    "print(\"Average accuracy using pipe_logistic_model: \", np.mean(accuracy_scores_logistic_pipeline))\n",
    "print(\"F1 scores for each fold using pipe_logistic_model: \", f1_scores_logistic_pipeline)\n",
    "print(\"Average F1 score using pipe_logistic_model: \", np.mean(f1_scores_logistic_pipeline))\n",
    "print(\"model_score_test list  using pipe_logistic_model \" ,model_score_test )\n",
    "\n"
   ]
  },
  {
   "cell_type": "code",
   "execution_count": 64,
   "id": "21a1cf8d",
   "metadata": {
    "execution": {
     "iopub.execute_input": "2024-07-18T17:11:05.235171Z",
     "iopub.status.busy": "2024-07-18T17:11:05.234747Z",
     "iopub.status.idle": "2024-07-18T17:11:05.299915Z",
     "shell.execute_reply": "2024-07-18T17:11:05.298317Z"
    },
    "papermill": {
     "duration": 0.136789,
     "end_time": "2024-07-18T17:11:05.304882",
     "exception": false,
     "start_time": "2024-07-18T17:11:05.168093",
     "status": "completed"
    },
    "tags": []
   },
   "outputs": [
    {
     "data": {
      "text/plain": [
       "0.81175"
      ]
     },
     "execution_count": 64,
     "metadata": {},
     "output_type": "execute_result"
    }
   ],
   "source": [
    "pipe_logistic_model_2.score(xtest_1,ytest_1)"
   ]
  },
  {
   "cell_type": "markdown",
   "id": "f4c9763f",
   "metadata": {
    "papermill": {
     "duration": 0.06374,
     "end_time": "2024-07-18T17:11:05.486912",
     "exception": false,
     "start_time": "2024-07-18T17:11:05.423172",
     "status": "completed"
    },
    "tags": []
   },
   "source": [
    "\n",
    "# SVC\n"
   ]
  },
  {
   "cell_type": "code",
   "execution_count": 65,
   "id": "65c7d9f0",
   "metadata": {
    "execution": {
     "iopub.execute_input": "2024-07-18T17:11:05.615436Z",
     "iopub.status.busy": "2024-07-18T17:11:05.614170Z",
     "iopub.status.idle": "2024-07-18T17:12:01.341578Z",
     "shell.execute_reply": "2024-07-18T17:12:01.340231Z"
    },
    "papermill": {
     "duration": 55.85731,
     "end_time": "2024-07-18T17:12:01.406041",
     "exception": false,
     "start_time": "2024-07-18T17:11:05.548731",
     "status": "completed"
    },
    "tags": []
   },
   "outputs": [
    {
     "name": "stdout",
     "output_type": "stream",
     "text": [
      "Accuracy scores for each fold using pipe_logistic_model:  [0.85, 0.860625, 0.849375, 0.85875, 0.8559375]\n",
      "Average accuracy using pipe_logistic_model:  0.8549374999999999\n",
      "F1 scores for each fold using pipe_logistic_model:  [0.8418129402835934, 0.8526758387456499, 0.8406091205588458, 0.8503790883851449, 0.8478486116102608]\n",
      "Average F1 score using pipe_logistic_model:  0.8466651199166989\n",
      "model_score_test list  using pipe_logistic_model  [0.85, 0.860625, 0.849375, 0.85875, 0.8559375]\n"
     ]
    }
   ],
   "source": [
    "from sklearn.svm import SVC\n",
    "pipe_svc_half=Pipeline(steps=[('new_ct',new_ct),('svc',SVC(decision_function_shape='ovr'))])\n",
    "\n",
    "\n",
    "model_score_test_half=[]\n",
    "accuracy_scores_SVC_half = []\n",
    "f1_scores_SVC_half = []\n",
    "\n",
    "\n",
    "\n",
    "for train_index, test_index in data_split.split(xtrain_1, ytrain_1):\n",
    "    X_train, X_test = xtrain_1.iloc[train_index], xtrain_1.iloc[test_index]\n",
    "    y_train, y_test = ytrain_1.iloc[train_index], ytrain_1.iloc[test_index]\n",
    "    \n",
    "    pipe_svc_half.fit(X_train, y_train)\n",
    "    \n",
    "    y_pred_svc_half = pipe_svc_half.predict(X_test)\n",
    "    \n",
    "    \n",
    "    model_score_svc=pipe_svc_half.score(X_test,y_test)\n",
    "    \n",
    "\n",
    "    accuracy_svc = accuracy_score(y_test, y_pred_svc_half)\n",
    "    \n",
    "    \n",
    "    f1_svc = f1_score(y_test, y_pred_svc_half, average='weighted')\n",
    "    \n",
    "    \n",
    "    accuracy_scores_SVC_half.append(accuracy_svc)\n",
    "    f1_scores_SVC_half.append(f1_svc)\n",
    "    model_score_test_half.append(model_score_svc)\n",
    "    \n",
    "    \n",
    "    \n",
    "    \n",
    "    \n",
    "    \n",
    "    \n",
    "print(\"Accuracy scores for each fold using pipe_logistic_model: \", accuracy_scores_SVC_half)\n",
    "print(\"Average accuracy using pipe_logistic_model: \", np.mean(accuracy_scores_SVC_half))\n",
    "print(\"F1 scores for each fold using pipe_logistic_model: \", f1_scores_SVC_half)\n",
    "print(\"Average F1 score using pipe_logistic_model: \", np.mean(f1_scores_SVC_half))\n",
    "print(\"model_score_test list  using pipe_logistic_model \" ,model_score_test_half )\n",
    "\n"
   ]
  },
  {
   "cell_type": "code",
   "execution_count": 66,
   "id": "7766b328",
   "metadata": {
    "execution": {
     "iopub.execute_input": "2024-07-18T17:12:01.531328Z",
     "iopub.status.busy": "2024-07-18T17:12:01.530894Z",
     "iopub.status.idle": "2024-07-18T17:13:29.030280Z",
     "shell.execute_reply": "2024-07-18T17:13:29.029015Z"
    },
    "papermill": {
     "duration": 87.630398,
     "end_time": "2024-07-18T17:13:29.098962",
     "exception": false,
     "start_time": "2024-07-18T17:12:01.468564",
     "status": "completed"
    },
    "tags": []
   },
   "outputs": [
    {
     "name": "stdout",
     "output_type": "stream",
     "text": [
      "Accuracy scores for each fold using pipe_logistic_model:  [0.863, 0.846, 0.857, 0.8555, 0.859]\n",
      "Average accuracy using pipe_logistic_model:  0.8561\n",
      "F1 scores for each fold using pipe_logistic_model:  [0.8538712133836678, 0.8381307479142449, 0.8494578553648164, 0.8473277514649681, 0.8498601017735002]\n",
      "Average F1 score using pipe_logistic_model:  0.8477295339802394\n",
      "model_score_test list  using pipe_logistic_model  [0.863, 0.846, 0.857, 0.8555, 0.859]\n"
     ]
    }
   ],
   "source": [
    "from sklearn.svm import SVC\n",
    "pipe_svc_full=Pipeline(steps=[('new_ct',new_ct),('svc',SVC(decision_function_shape='ovr'))])\n",
    "\n",
    "\n",
    "model_score_test_full=[]\n",
    "accuracy_scores_SVC_full = []\n",
    "f1_scores_SVC_full = []\n",
    "\n",
    "\n",
    "\n",
    "for train_index, test_index in data_split.split(new_train, new_train_y):\n",
    "    X_train, X_test = new_train.iloc[train_index], new_train.iloc[test_index]\n",
    "    y_train, y_test = new_train_y.iloc[train_index], new_train_y.iloc[test_index]\n",
    "    \n",
    "    pipe_svc_full.fit(X_train, y_train)\n",
    "    \n",
    "    y_pred_svc_full = pipe_svc_full.predict(X_test)\n",
    "    \n",
    "    \n",
    "    model_score_svc=pipe_svc_full.score(X_test,y_test)\n",
    "\n",
    "    accuracy_svc = accuracy_score(y_test, y_pred_svc_full)\n",
    "    \n",
    "    f1_svc = f1_score(y_test, y_pred_svc_full, average='weighted')\n",
    "    \n",
    "    \n",
    "    accuracy_scores_SVC_full.append(accuracy_svc)\n",
    "    f1_scores_SVC_full.append(f1_svc)\n",
    "    model_score_test_full.append(model_score_svc)\n",
    "    \n",
    "    \n",
    "    \n",
    "    \n",
    "    \n",
    "    \n",
    "    \n",
    "print(\"Accuracy scores for each fold using pipe_logistic_model: \", accuracy_scores_SVC_full)\n",
    "print(\"Average accuracy using pipe_logistic_model: \", np.mean(accuracy_scores_SVC_full))\n",
    "print(\"F1 scores for each fold using pipe_logistic_model: \", f1_scores_SVC_full)\n",
    "print(\"Average F1 score using pipe_logistic_model: \", np.mean(f1_scores_SVC_full))\n",
    "print(\"model_score_test list  using pipe_logistic_model \" ,model_score_test_full )\n",
    "\n"
   ]
  },
  {
   "cell_type": "markdown",
   "id": "fe61b36c",
   "metadata": {
    "papermill": {
     "duration": 0.063429,
     "end_time": "2024-07-18T17:13:29.225699",
     "exception": false,
     "start_time": "2024-07-18T17:13:29.162270",
     "status": "completed"
    },
    "tags": []
   },
   "source": [
    "# KNN"
   ]
  },
  {
   "cell_type": "code",
   "execution_count": 67,
   "id": "c01704b0",
   "metadata": {
    "execution": {
     "iopub.execute_input": "2024-07-18T17:13:29.353504Z",
     "iopub.status.busy": "2024-07-18T17:13:29.352970Z",
     "iopub.status.idle": "2024-07-18T17:13:51.428649Z",
     "shell.execute_reply": "2024-07-18T17:13:51.427319Z"
    },
    "papermill": {
     "duration": 22.143702,
     "end_time": "2024-07-18T17:13:51.431332",
     "exception": false,
     "start_time": "2024-07-18T17:13:29.287630",
     "status": "completed"
    },
    "tags": []
   },
   "outputs": [
    {
     "name": "stdout",
     "output_type": "stream",
     "text": [
      "Accuracy scores for each fold using pipe_logistic_model:  [0.8203125, 0.8165625, 0.8146875, 0.8184375, 0.8159375]\n",
      "Average accuracy using pipe_logistic_model:  0.8171875\n",
      "F1 scores for each fold using pipe_logistic_model:  [0.8032376253185498, 0.7984864107277996, 0.79780600260263, 0.8000003183308735, 0.7992157220534389]\n",
      "Average F1 score using pipe_logistic_model:  0.7997492158066584\n",
      "model_score_test list  using pipe_logistic_model  [0.8203125, 0.8165625, 0.8146875, 0.8184375, 0.8159375]\n"
     ]
    }
   ],
   "source": [
    "from sklearn.neighbors import KNeighborsClassifier\n",
    "knn_classifier_half=Pipeline(steps=[('new_ct' , new_ct ),( 'knn' ,KNeighborsClassifier(n_neighbors=16 , p=1,leaf_size=19 ,weights='distance'))])\n",
    "\n",
    "KNN_model_score_test_half=[]\n",
    "accuracy_scores_KNN_half = []\n",
    "f1_scores_KNN_half = []\n",
    "\n",
    "\n",
    "\n",
    "for train_index, test_index in data_split.split(xtrain_1, ytrain_1):\n",
    "    X_train, X_test = xtrain_1.iloc[train_index], xtrain_1.iloc[test_index]\n",
    "    y_train, y_test = ytrain_1.iloc[train_index], ytrain_1.iloc[test_index]\n",
    "    \n",
    "    knn_classifier_half.fit(X_train, y_train)\n",
    "    \n",
    "    y_pred_KNN_half = knn_classifier_half.predict(X_test)\n",
    "    \n",
    "    \n",
    "    model_score_KNN=knn_classifier_half.score(X_test,y_test)\n",
    "    \n",
    "\n",
    "    accuracy_KNN = accuracy_score(y_test, y_pred_KNN_half)\n",
    "    \n",
    "    \n",
    "    f1_KNN = f1_score(y_test, y_pred_KNN_half, average='weighted')\n",
    "    \n",
    "    \n",
    "    accuracy_scores_KNN_half.append(accuracy_KNN)\n",
    "    \n",
    "    f1_scores_KNN_half.append(f1_KNN)\n",
    "    \n",
    "    KNN_model_score_test_half.append(model_score_KNN)\n",
    "    \n",
    "    \n",
    "    \n",
    "    \n",
    "    \n",
    "    \n",
    "    \n",
    "print(\"Accuracy scores for each fold using pipe_logistic_model: \", accuracy_scores_KNN_half)\n",
    "print(\"Average accuracy using pipe_logistic_model: \", np.mean(accuracy_scores_KNN_half))\n",
    "print(\"F1 scores for each fold using pipe_logistic_model: \", f1_scores_KNN_half)\n",
    "print(\"Average F1 score using pipe_logistic_model: \", np.mean(f1_scores_KNN_half))\n",
    "print(\"model_score_test list  using pipe_logistic_model \" ,KNN_model_score_test_half )\n"
   ]
  },
  {
   "cell_type": "code",
   "execution_count": 68,
   "id": "afe17dbe",
   "metadata": {
    "execution": {
     "iopub.execute_input": "2024-07-18T17:13:51.556706Z",
     "iopub.status.busy": "2024-07-18T17:13:51.556284Z",
     "iopub.status.idle": "2024-07-18T17:13:51.563473Z",
     "shell.execute_reply": "2024-07-18T17:13:51.562214Z"
    },
    "papermill": {
     "duration": 0.072617,
     "end_time": "2024-07-18T17:13:51.566018",
     "exception": false,
     "start_time": "2024-07-18T17:13:51.493401",
     "status": "completed"
    },
    "tags": []
   },
   "outputs": [],
   "source": [
    "# from sklearn.neighbors import KNeighborsClassifier\n",
    "# knn_classifier_full=Pipeline(steps=[('new_ct' , new_ct ),( 'knn' ,KNeighborsClassifier(n_neighbors=16 , p=1,leaf_size=19 ,weights='distance'))])\n",
    "\n",
    "# KNN_model_score_test_full=[]\n",
    "# accuracy_scores_KNN_full = []\n",
    "# f1_scores_KNN_full = []\n",
    "\n",
    "\n",
    "\n",
    "# for train_index, test_index in data_split.split(new_train, new_train_y):\n",
    "#     X_train, X_test = new_train.iloc[train_index], new_train.iloc[test_index]\n",
    "#     y_train, y_test = new_train_y.iloc[train_index], new_train_y.iloc[test_index]\n",
    "    \n",
    "#     knn_classifier_full.fit(X_train, y_train)\n",
    "    \n",
    "#     y_pred_KNN_full = knn_classifier_full.predict(X_test)\n",
    "    \n",
    "    \n",
    "#     model_score_KNN=knn_classifier_full.score(X_test,y_test)\n",
    "    \n",
    "\n",
    "#     accuracy_KNN = accuracy_score(y_test, y_pred_KNN_full)\n",
    "    \n",
    "    \n",
    "#     f1_KNN = f1_score(y_test, y_pred_KNN_full, average='weighted')\n",
    "    \n",
    "    \n",
    "#     accuracy_scores_KNN_full.append(accuracy_KNN)\n",
    "    \n",
    "#     f1_scores_KNN_full.append(f1_KNN)\n",
    "    \n",
    "#     KNN_model_score_test_full.append(model_score_KNN)\n",
    "    \n",
    "    \n",
    "    \n",
    "    \n",
    "    \n",
    "    \n",
    "    \n",
    "# print(\"Accuracy scores for each fold using knn_classifier_full:    \", accuracy_scores_KNN_full)\n",
    "# print(\"Average accuracy using knn_classifier_full: \", np.mean(accuracy_scores_KNN_full))\n",
    "# print(\"F1 scores for each fold using knn_classifier_full: \", f1_scores_KNN_full)\n",
    "# print(\"Average F1 score using knn_classifier_full: \", np.mean(f1_scores_KNN_full))\n",
    "# print(\"model_score_test list  using knn_classifier_full \" ,KNN_model_score_test_full )\n"
   ]
  },
  {
   "cell_type": "markdown",
   "id": "0ddc0a4c",
   "metadata": {
    "papermill": {
     "duration": 0.06163,
     "end_time": "2024-07-18T17:13:51.690791",
     "exception": false,
     "start_time": "2024-07-18T17:13:51.629161",
     "status": "completed"
    },
    "tags": []
   },
   "source": [
    "# Desision tree"
   ]
  },
  {
   "cell_type": "code",
   "execution_count": 69,
   "id": "9e23e31d",
   "metadata": {
    "execution": {
     "iopub.execute_input": "2024-07-18T17:13:51.818816Z",
     "iopub.status.busy": "2024-07-18T17:13:51.818394Z",
     "iopub.status.idle": "2024-07-18T17:13:51.824959Z",
     "shell.execute_reply": "2024-07-18T17:13:51.823789Z"
    },
    "papermill": {
     "duration": 0.07411,
     "end_time": "2024-07-18T17:13:51.827442",
     "exception": false,
     "start_time": "2024-07-18T17:13:51.753332",
     "status": "completed"
    },
    "tags": []
   },
   "outputs": [],
   "source": [
    "# from sklearn.tree import DecisionTreeClassifier\n",
    "\n",
    "# decision_tree_half = Pipeline([ ('new_ct',new_ct),('DecisionTreeClassifier',DecisionTreeClassifier()) ])\n",
    "\n",
    "\n",
    "# decision_tree_model_score_test_half=[]\n",
    "# accuracy_scores_decision_tree_half = []\n",
    "# f1_scores_decision_tree_half = []\n",
    "\n",
    "\n",
    "\n",
    "# for train_index, test_index in data_split.split(xtrain_1, ytrain_1):\n",
    "#     X_train, X_test = xtrain_1.iloc[train_index], xtrain_1.iloc[test_index]\n",
    "#     y_train, y_test = ytrain_1.iloc[train_index], ytrain_1.iloc[test_index]\n",
    "    \n",
    "#     decision_tree_half.fit(X_train, y_train)\n",
    "    \n",
    "#     y_pred_decision_tree_half = decision_tree_half.predict(X_test)\n",
    "    \n",
    "    \n",
    "#     model_score_decision_tree=decision_tree_half.score(X_test,y_test)\n",
    "    \n",
    "\n",
    "#     accuracy_decision_tree = accuracy_score(y_test, y_pred_decision_tree_half)\n",
    "    \n",
    "    \n",
    "#     f1_decision_tree = f1_score(y_test, y_pred_decision_tree_half, average='weighted')\n",
    "    \n",
    "    \n",
    "#     accuracy_scores_decision_tree_half.append(accuracy_decision_tree)\n",
    "    \n",
    "#     f1_scores_decision_tree_half.append(f1_decision_tree)\n",
    "    \n",
    "#     decision_tree_model_score_test_half.append(model_score_decision_tree)\n",
    "    \n",
    "    \n",
    "    \n",
    "    \n",
    "    \n",
    "    \n",
    "    \n",
    "# print(\"Accuracy scores for each fold using decision_tree_half: \", accuracy_scores_decision_tree_half)\n",
    "# print(\"Average accuracy using decision_tree_half: \", np.mean(accuracy_scores_decision_tree_half))\n",
    "# print(\"F1 scores for each fold using decision_tree_half: \", f1_scores_decision_tree_half)\n",
    "# print(\"Average F1 score using decision_tree_half: \", np.mean(f1_scores_decision_tree_half))\n",
    "# print(\"model_score_test list  using decision_tree_half \" ,decision_tree_model_score_test_half )"
   ]
  },
  {
   "cell_type": "code",
   "execution_count": 70,
   "id": "64b2090e",
   "metadata": {
    "execution": {
     "iopub.execute_input": "2024-07-18T17:13:51.953747Z",
     "iopub.status.busy": "2024-07-18T17:13:51.952559Z",
     "iopub.status.idle": "2024-07-18T17:13:51.959835Z",
     "shell.execute_reply": "2024-07-18T17:13:51.958607Z"
    },
    "papermill": {
     "duration": 0.072944,
     "end_time": "2024-07-18T17:13:51.962599",
     "exception": false,
     "start_time": "2024-07-18T17:13:51.889655",
     "status": "completed"
    },
    "tags": []
   },
   "outputs": [],
   "source": [
    "# from sklearn.tree import DecisionTreeClassifier\n",
    "# from sklearn.pipeline import Pipeline\n",
    "\n",
    "# decision_tree_full = Pipeline([ ('new_ct',new_ct),('DecisionTreeClassifier',DecisionTreeClassifier()) ])\n",
    "\n",
    "\n",
    "# decision_tree_model_score_test_full=[]\n",
    "# accuracy_scores_decision_tree_full = []\n",
    "# f1_scores_decision_tree_full = []\n",
    "\n",
    "\n",
    "\n",
    "# for train_index, test_index in data_split.split(new_train, new_train_y):\n",
    "#     X_train, X_test = new_train.iloc[train_index], new_train.iloc[test_index]\n",
    "#     y_train, y_test = new_train_y.iloc[train_index], new_train_y.iloc[test_index]\n",
    "    \n",
    "#     decision_tree_full.fit(X_train, y_train)\n",
    "    \n",
    "#     y_pred_decision_tree_full = decision_tree_full.predict(X_test)\n",
    "    \n",
    "    \n",
    "#     model_score_decision_tree=decision_tree_full.score(X_test,y_test)\n",
    "    \n",
    "\n",
    "#     accuracy_decision_tree = accuracy_score(y_test, y_pred_decision_tree_full)\n",
    "    \n",
    "    \n",
    "#     f1_decision_tree = f1_score(y_test, y_pred_decision_tree_full, average='weighted')\n",
    "    \n",
    "    \n",
    "#     accuracy_scores_decision_tree_full.append(accuracy_decision_tree)\n",
    "    \n",
    "#     f1_scores_decision_tree_full.append(f1_decision_tree)\n",
    "    \n",
    "#     decision_tree_model_score_test_full.append(model_score_decision_tree)\n",
    "    \n",
    "    \n",
    "    \n",
    "    \n",
    "# print(\"Accuracy scores for each fold using decision_tree_full: \", accuracy_scores_decision_tree_full)\n",
    "# print(\"Average accuracy using decision_tree_full: \", np.mean(accuracy_scores_decision_tree_full))\n",
    "# print(\"F1 scores for each fold using decision_tree_full: \", f1_scores_decision_tree_full)\n",
    "# print(\"Average F1 score using decision_tree_full: \", np.mean(f1_scores_decision_tree_full))\n",
    "# print(\"model_score_test list  using decision_tree_full \" ,decision_tree_model_score_test_full )"
   ]
  },
  {
   "cell_type": "markdown",
   "id": "6b9fa2a2",
   "metadata": {
    "papermill": {
     "duration": 0.064981,
     "end_time": "2024-07-18T17:13:52.089215",
     "exception": false,
     "start_time": "2024-07-18T17:13:52.024234",
     "status": "completed"
    },
    "tags": []
   },
   "source": [
    "# MLP classifier\n",
    "\n"
   ]
  },
  {
   "cell_type": "code",
   "execution_count": 71,
   "id": "17238817",
   "metadata": {
    "execution": {
     "iopub.execute_input": "2024-07-18T17:13:52.220093Z",
     "iopub.status.busy": "2024-07-18T17:13:52.218928Z",
     "iopub.status.idle": "2024-07-18T17:13:52.226803Z",
     "shell.execute_reply": "2024-07-18T17:13:52.225418Z"
    },
    "papermill": {
     "duration": 0.076204,
     "end_time": "2024-07-18T17:13:52.229515",
     "exception": false,
     "start_time": "2024-07-18T17:13:52.153311",
     "status": "completed"
    },
    "tags": []
   },
   "outputs": [],
   "source": [
    "# from sklearn.neural_network import MLPClassifier\n",
    "\n",
    "# mlp_classifier=Pipeline([('new_ct',new_ct),('mlp_classifier',MLPClassifier(random_state=1 , max_iter=1100))])\n",
    "\n",
    "\n",
    "\n",
    "\n",
    "# mlp_classifier_model_score_test_half=[]\n",
    "# accuracy_scores_mlp_classifier_half = []\n",
    "# f1_scores_mlp_classifier_half = []\n",
    "\n",
    "\n",
    "\n",
    "# for train_index, test_index in data_split.split(xtrain_1, ytrain_1):\n",
    "#     X_train, X_test = xtrain_1.iloc[train_index], xtrain_1.iloc[test_index]\n",
    "#     y_train, y_test = ytrain_1.iloc[train_index], ytrain_1.iloc[test_index]\n",
    "    \n",
    "#     mlp_classifier.fit(X_train, y_train)\n",
    "    \n",
    "#     y_pred_mlp_classifier_half = mlp_classifier.predict(X_test)\n",
    "    \n",
    "    \n",
    "#     model_score_mlp_classifier=mlp_classifier.score(X_test,y_test)\n",
    "    \n",
    "\n",
    "#     accuracy_mlp_classifier = accuracy_score(y_test, y_pred_mlp_classifier_half)\n",
    "    \n",
    "    \n",
    "#     f1_mlp_classifier = f1_score(y_test, y_pred_mlp_classifier_half, average='weighted')\n",
    "    \n",
    "    \n",
    "#     accuracy_scores_mlp_classifier_half.append(accuracy_mlp_classifier)\n",
    "    \n",
    "#     f1_scores_mlp_classifier_half.append(f1_mlp_classifier)\n",
    "    \n",
    "#     mlp_classifier_model_score_test_half.append(model_score_mlp_classifier)\n",
    "\n",
    "\n",
    "# print(\"Accuracy scores for each fold using mlp_classifier: \", accuracy_scores_mlp_classifier_half)\n",
    "# print(\"Average accuracy using mlp_classifier: \", np.mean(accuracy_scores_mlp_classifier_half))\n",
    "# print(\"F1 scores for each fold using mlp_classifier: \", f1_scores_mlp_classifier_half)\n",
    "# print(\"Average F1 score using mlp_classifier: \", np.mean(f1_scores_mlp_classifier_half))\n",
    "# print(\"model_score_test list  using mlp_classifier \" ,mlp_classifier_model_score_test_half )"
   ]
  },
  {
   "cell_type": "markdown",
   "id": "9ba79a6f",
   "metadata": {
    "papermill": {
     "duration": 0.062206,
     "end_time": "2024-07-18T17:13:52.356521",
     "exception": false,
     "start_time": "2024-07-18T17:13:52.294315",
     "status": "completed"
    },
    "tags": []
   },
   "source": [
    "#  HistGradientBoostingClassifier\n"
   ]
  },
  {
   "cell_type": "code",
   "execution_count": 72,
   "id": "38e1a6f0",
   "metadata": {
    "execution": {
     "iopub.execute_input": "2024-07-18T17:13:52.488918Z",
     "iopub.status.busy": "2024-07-18T17:13:52.488483Z",
     "iopub.status.idle": "2024-07-18T17:14:14.291631Z",
     "shell.execute_reply": "2024-07-18T17:14:14.290027Z"
    },
    "papermill": {
     "duration": 21.871622,
     "end_time": "2024-07-18T17:14:14.294296",
     "exception": false,
     "start_time": "2024-07-18T17:13:52.422674",
     "status": "completed"
    },
    "tags": []
   },
   "outputs": [
    {
     "name": "stdout",
     "output_type": "stream",
     "text": [
      "Accuracy scores for each fold using histGradientBoostingClassifier:  [0.86825, 0.8605, 0.868, 0.86925, 0.874]\n",
      "Average accuracy using histGradientBoostingClassifier:  0.868\n",
      "F1 scores for each fold using histGradientBoostingClassifier:  [0.8625163414105342, 0.8554900695187355, 0.8640857727891224, 0.8649242195407165, 0.868707085487344]\n",
      "Average F1 score using histGradientBoostingClassifier:  0.8631446977492905\n",
      "model_score_test list  using histGradientBoostingClassifier  [0.86825, 0.8605, 0.868, 0.86925, 0.874]\n"
     ]
    }
   ],
   "source": [
    "from sklearn.ensemble import HistGradientBoostingClassifier\n",
    "# clf = HistGradientBoostingClassifier(max_iter=100)\n",
    "\n",
    "\n",
    "histGradientBoostingClassifier=Pipeline([('new_ct',new_ct),('histGradientBoostingClassifier',HistGradientBoostingClassifier(max_iter=1000))])\n",
    "\n",
    "histGradientBoostingClassifier_model_score_test_half=[]\n",
    "accuracy_scores_histGradientBoostingClassifier_half = []\n",
    "f1_scores_histGradientBoostingClassifier_half = []\n",
    "\n",
    "\n",
    "\n",
    "for train_index, test_index in data_split.split(new_train, new_train_y):\n",
    "    X_train, X_test = new_train.iloc[train_index], new_train.iloc[test_index]\n",
    "    y_train, y_test = new_train_y.iloc[train_index], new_train_y.iloc[test_index]\n",
    "    \n",
    "    histGradientBoostingClassifier.fit(X_train, y_train)\n",
    "    \n",
    "    y_pred_histGradientBoostingClassifier_half = histGradientBoostingClassifier.predict(X_test)\n",
    "    \n",
    "    \n",
    "    model_score_histGradientBoostingClassifier=histGradientBoostingClassifier.score(X_test,y_test)\n",
    "    \n",
    "\n",
    "    accuracy_histGradientBoostingClassifier = accuracy_score(y_test, y_pred_histGradientBoostingClassifier_half)\n",
    "    \n",
    "    \n",
    "    f1_histGradientBoostingClassifier = f1_score(y_test, y_pred_histGradientBoostingClassifier_half, average='weighted')\n",
    "    \n",
    "    \n",
    "    accuracy_scores_histGradientBoostingClassifier_half.append(accuracy_histGradientBoostingClassifier)\n",
    "    \n",
    "    f1_scores_histGradientBoostingClassifier_half.append(f1_histGradientBoostingClassifier)\n",
    "    \n",
    "    histGradientBoostingClassifier_model_score_test_half.append(model_score_histGradientBoostingClassifier)\n",
    "\n",
    "\n",
    "print(\"Accuracy scores for each fold using histGradientBoostingClassifier: \", accuracy_scores_histGradientBoostingClassifier_half)\n",
    "print(\"Average accuracy using histGradientBoostingClassifier: \", np.mean(accuracy_scores_histGradientBoostingClassifier_half))\n",
    "print(\"F1 scores for each fold using histGradientBoostingClassifier: \", f1_scores_histGradientBoostingClassifier_half)\n",
    "print(\"Average F1 score using histGradientBoostingClassifier: \", np.mean(f1_scores_histGradientBoostingClassifier_half))\n",
    "print(\"model_score_test list  using histGradientBoostingClassifier \" ,histGradientBoostingClassifier_model_score_test_half )\n",
    "\n"
   ]
  },
  {
   "cell_type": "markdown",
   "id": "370dbad9",
   "metadata": {
    "papermill": {
     "duration": 0.063147,
     "end_time": "2024-07-18T17:14:14.419817",
     "exception": false,
     "start_time": "2024-07-18T17:14:14.356670",
     "status": "completed"
    },
    "tags": []
   },
   "source": [
    "# GradientBoostingClassifier"
   ]
  },
  {
   "cell_type": "code",
   "execution_count": 73,
   "id": "e0e874a0",
   "metadata": {
    "execution": {
     "iopub.execute_input": "2024-07-18T17:14:14.548851Z",
     "iopub.status.busy": "2024-07-18T17:14:14.548449Z",
     "iopub.status.idle": "2024-07-18T17:15:05.162281Z",
     "shell.execute_reply": "2024-07-18T17:15:05.161092Z"
    },
    "papermill": {
     "duration": 50.751426,
     "end_time": "2024-07-18T17:15:05.233662",
     "exception": false,
     "start_time": "2024-07-18T17:14:14.482236",
     "status": "completed"
    },
    "tags": []
   },
   "outputs": [
    {
     "name": "stdout",
     "output_type": "stream",
     "text": [
      "Accuracy scores for each fold using gradientBoostingClassifier:  [0.8121875, 0.8209375, 0.81375, 0.820625, 0.820625]\n",
      "Average accuracy using gradientBoostingClassifier:  0.8176249999999999\n",
      "F1 scores for each fold using gradientBoostingClassifier:  [0.7980569624779997, 0.8089488224768049, 0.8011712762171616, 0.8060023454425395, 0.8077981462704673]\n",
      "Average F1 score using gradientBoostingClassifier:  0.8043955105769947\n",
      "model_score_test list  using gradientBoostingClassifier  [0.8121875, 0.8209375, 0.81375, 0.820625, 0.820625]\n"
     ]
    }
   ],
   "source": [
    "from sklearn.ensemble import GradientBoostingClassifier\n",
    "\n",
    "\n",
    "gradientBoostingClassifier=Pipeline([('new_ct',new_ct),('GradientBoostingClassifier',GradientBoostingClassifier(n_estimators=100, learning_rate=1.0, max_depth=1, random_state=0))])\n",
    "\n",
    "gradientBoostingClassifier_model_score_test_half=[]\n",
    "accuracy_scores_gradientBoostingClassifier_half = []\n",
    "f1_scores_gradientBoostingClassifier_half = []\n",
    "\n",
    "\n",
    "\n",
    "for train_index, test_index in data_split.split(xtrain_1, ytrain_1):\n",
    "    X_train, X_test = xtrain_1.iloc[train_index], xtrain_1.iloc[test_index]\n",
    "    y_train, y_test = ytrain_1.iloc[train_index], ytrain_1.iloc[test_index]\n",
    "    \n",
    "    gradientBoostingClassifier.fit(X_train, y_train)\n",
    "    \n",
    "    y_pred_gradientBoostingClassifier_half = gradientBoostingClassifier.predict(X_test)\n",
    "    \n",
    "    \n",
    "    model_score_gradientBoostingClassifier=gradientBoostingClassifier.score(X_test,y_test)\n",
    "    \n",
    "\n",
    "    accuracy_gradientBoostingClassifier = accuracy_score(y_test, y_pred_gradientBoostingClassifier_half)\n",
    "    \n",
    "    \n",
    "    f1_gradientBoostingClassifier = f1_score(y_test, y_pred_gradientBoostingClassifier_half, average='weighted')\n",
    "    \n",
    "    \n",
    "    accuracy_scores_gradientBoostingClassifier_half.append(accuracy_gradientBoostingClassifier)\n",
    "    \n",
    "    f1_scores_gradientBoostingClassifier_half.append(f1_gradientBoostingClassifier)\n",
    "    \n",
    "    gradientBoostingClassifier_model_score_test_half.append(model_score_gradientBoostingClassifier)\n",
    "\n",
    "\n",
    "print(\"Accuracy scores for each fold using gradientBoostingClassifier: \", accuracy_scores_gradientBoostingClassifier_half)\n",
    "print(\"Average accuracy using gradientBoostingClassifier: \", np.mean(accuracy_scores_gradientBoostingClassifier_half))\n",
    "print(\"F1 scores for each fold using gradientBoostingClassifier: \", f1_scores_gradientBoostingClassifier_half)\n",
    "print(\"Average F1 score using gradientBoostingClassifier: \", np.mean(f1_scores_gradientBoostingClassifier_half))\n",
    "print(\"model_score_test list  using gradientBoostingClassifier \" ,gradientBoostingClassifier_model_score_test_half )"
   ]
  },
  {
   "cell_type": "code",
   "execution_count": 74,
   "id": "293e6f7b",
   "metadata": {
    "execution": {
     "iopub.execute_input": "2024-07-18T17:15:05.362148Z",
     "iopub.status.busy": "2024-07-18T17:15:05.361712Z",
     "iopub.status.idle": "2024-07-18T17:15:05.367432Z",
     "shell.execute_reply": "2024-07-18T17:15:05.366224Z"
    },
    "papermill": {
     "duration": 0.071946,
     "end_time": "2024-07-18T17:15:05.370232",
     "exception": false,
     "start_time": "2024-07-18T17:15:05.298286",
     "status": "completed"
    },
    "tags": []
   },
   "outputs": [],
   "source": [
    "# df.info()"
   ]
  },
  {
   "cell_type": "code",
   "execution_count": 75,
   "id": "4e4ab9bb",
   "metadata": {
    "execution": {
     "iopub.execute_input": "2024-07-18T17:15:05.504926Z",
     "iopub.status.busy": "2024-07-18T17:15:05.504487Z",
     "iopub.status.idle": "2024-07-18T17:15:05.509800Z",
     "shell.execute_reply": "2024-07-18T17:15:05.508675Z"
    },
    "papermill": {
     "duration": 0.071524,
     "end_time": "2024-07-18T17:15:05.512210",
     "exception": false,
     "start_time": "2024-07-18T17:15:05.440686",
     "status": "completed"
    },
    "tags": []
   },
   "outputs": [],
   "source": [
    "# from sklearn.linear_model import LogisticRegression,LogisticRegressionCV\n",
    "# from sklearn.pipeline import Pipeline\n",
    "# from sklearn.compose import ColumnTransformer"
   ]
  },
  {
   "cell_type": "code",
   "execution_count": 76,
   "id": "690e5828",
   "metadata": {
    "execution": {
     "iopub.execute_input": "2024-07-18T17:15:05.642656Z",
     "iopub.status.busy": "2024-07-18T17:15:05.642260Z",
     "iopub.status.idle": "2024-07-18T17:15:05.648460Z",
     "shell.execute_reply": "2024-07-18T17:15:05.647228Z"
    },
    "papermill": {
     "duration": 0.07501,
     "end_time": "2024-07-18T17:15:05.651410",
     "exception": false,
     "start_time": "2024-07-18T17:15:05.576400",
     "status": "completed"
    },
    "tags": []
   },
   "outputs": [],
   "source": [
    "# from sklearn.base import BaseEstimator, TransformerMixin\n",
    "# from sklearn.preprocessing import MultiLabelBinarizer\n",
    "\n",
    "# class MultiLabelBinarizerWrapper(BaseEstimator, TransformerMixin):\n",
    "#     def __init__(self):\n",
    "#         self.mlb = MultiLabelBinarizer()\n",
    "\n",
    "#     def fit(self, X, y=None):\n",
    "#         self.mlb.fit(X)\n",
    "#         return self\n",
    "\n",
    "#     def transform(self, X):\n",
    "#         return self.mlb.transform(X)"
   ]
  },
  {
   "cell_type": "code",
   "execution_count": 77,
   "id": "6063369e",
   "metadata": {
    "execution": {
     "iopub.execute_input": "2024-07-18T17:15:05.784548Z",
     "iopub.status.busy": "2024-07-18T17:15:05.784030Z",
     "iopub.status.idle": "2024-07-18T17:15:05.790198Z",
     "shell.execute_reply": "2024-07-18T17:15:05.788982Z"
    },
    "papermill": {
     "duration": 0.07498,
     "end_time": "2024-07-18T17:15:05.792791",
     "exception": false,
     "start_time": "2024-07-18T17:15:05.717811",
     "status": "completed"
    },
    "tags": []
   },
   "outputs": [],
   "source": [
    "\n",
    "# from sklearn.preprocessing import StandardScaler , OneHotEncoder  , MultiLabelBinarizer\n",
    "# from sklearn.feature_extraction.text import CountVectorizer\n",
    "# ct=ColumnTransformer(transformers=[\n",
    "    \n",
    "#     ('numerical_cols' , StandardScaler(),['Latitude','Longitude','reporting_delay_day_count','Victim_Age']),\n",
    "#     ('categorical_cols' , OneHotEncoder(handle_unknown='ignore'),['day_category','Victim_Sex','Victim_Descent','Part 1-2','Area_ID','Status','Weapon_Description']),\n",
    "#     ('multi_label_binarizer', MultiLabelBinarizerWrapper(), 'Modus_Operandi')\n",
    "# ])\n",
    "    "
   ]
  },
  {
   "cell_type": "code",
   "execution_count": 78,
   "id": "38aca7d5",
   "metadata": {
    "execution": {
     "iopub.execute_input": "2024-07-18T17:15:05.925767Z",
     "iopub.status.busy": "2024-07-18T17:15:05.925336Z",
     "iopub.status.idle": "2024-07-18T17:15:05.930455Z",
     "shell.execute_reply": "2024-07-18T17:15:05.929426Z"
    },
    "papermill": {
     "duration": 0.074945,
     "end_time": "2024-07-18T17:15:05.933081",
     "exception": false,
     "start_time": "2024-07-18T17:15:05.858136",
     "status": "completed"
    },
    "tags": []
   },
   "outputs": [],
   "source": [
    "# len(df['Area_ID'].value_counts())"
   ]
  },
  {
   "cell_type": "code",
   "execution_count": 79,
   "id": "f6384562",
   "metadata": {
    "execution": {
     "iopub.execute_input": "2024-07-18T17:15:06.080402Z",
     "iopub.status.busy": "2024-07-18T17:15:06.079880Z",
     "iopub.status.idle": "2024-07-18T17:15:06.086197Z",
     "shell.execute_reply": "2024-07-18T17:15:06.084305Z"
    },
    "papermill": {
     "duration": 0.093155,
     "end_time": "2024-07-18T17:15:06.089692",
     "exception": false,
     "start_time": "2024-07-18T17:15:05.996537",
     "status": "completed"
    },
    "tags": []
   },
   "outputs": [],
   "source": [
    "# pipe_logistic = Pipeline(steps=[('ct',ct),('logistic_reg',LogisticRegression(solver='saga',C=0.1,warm_start=True, max_iter=1500 ,random_state=42))])"
   ]
  },
  {
   "cell_type": "code",
   "execution_count": 80,
   "id": "801babab",
   "metadata": {
    "execution": {
     "iopub.execute_input": "2024-07-18T17:15:06.259305Z",
     "iopub.status.busy": "2024-07-18T17:15:06.258206Z",
     "iopub.status.idle": "2024-07-18T17:15:06.264969Z",
     "shell.execute_reply": "2024-07-18T17:15:06.263156Z"
    },
    "papermill": {
     "duration": 0.089341,
     "end_time": "2024-07-18T17:15:06.268945",
     "exception": false,
     "start_time": "2024-07-18T17:15:06.179604",
     "status": "completed"
    },
    "tags": []
   },
   "outputs": [],
   "source": [
    "# pipe_logistic_sag = Pipeline(steps=[('ct',ct),('logistic_reg',LogisticRegressionCV(solver='sag',penalty='l2',multi_class='ovr', max_iter=2000 ,random_state=42))])\n",
    "\n",
    "# pipe_logistic_sag.fit(xtrain,ytrain)\n",
    "\n",
    "# pipe_logistic_sag.score(xtest,ytest)"
   ]
  },
  {
   "cell_type": "code",
   "execution_count": 81,
   "id": "473a8e15",
   "metadata": {
    "execution": {
     "iopub.execute_input": "2024-07-18T17:15:06.417302Z",
     "iopub.status.busy": "2024-07-18T17:15:06.416073Z",
     "iopub.status.idle": "2024-07-18T17:15:06.423394Z",
     "shell.execute_reply": "2024-07-18T17:15:06.421192Z"
    },
    "papermill": {
     "duration": 0.086199,
     "end_time": "2024-07-18T17:15:06.426546",
     "exception": false,
     "start_time": "2024-07-18T17:15:06.340347",
     "status": "completed"
    },
    "tags": []
   },
   "outputs": [],
   "source": [
    "# pipe_logistic.fit(xtrain,ytrain)"
   ]
  },
  {
   "cell_type": "code",
   "execution_count": 82,
   "id": "1b66d6b4",
   "metadata": {
    "execution": {
     "iopub.execute_input": "2024-07-18T17:15:06.563264Z",
     "iopub.status.busy": "2024-07-18T17:15:06.562715Z",
     "iopub.status.idle": "2024-07-18T17:15:06.577975Z",
     "shell.execute_reply": "2024-07-18T17:15:06.573241Z"
    },
    "papermill": {
     "duration": 0.087021,
     "end_time": "2024-07-18T17:15:06.581533",
     "exception": false,
     "start_time": "2024-07-18T17:15:06.494512",
     "status": "completed"
    },
    "tags": []
   },
   "outputs": [],
   "source": [
    "# pipe_logistic.score(xtest,ytest)"
   ]
  },
  {
   "cell_type": "code",
   "execution_count": 83,
   "id": "f8a5e280",
   "metadata": {
    "execution": {
     "iopub.execute_input": "2024-07-18T17:15:06.738172Z",
     "iopub.status.busy": "2024-07-18T17:15:06.736159Z",
     "iopub.status.idle": "2024-07-18T17:15:06.743590Z",
     "shell.execute_reply": "2024-07-18T17:15:06.742231Z"
    },
    "papermill": {
     "duration": 0.084722,
     "end_time": "2024-07-18T17:15:06.746873",
     "exception": false,
     "start_time": "2024-07-18T17:15:06.662151",
     "status": "completed"
    },
    "tags": []
   },
   "outputs": [],
   "source": [
    "# from sklearn.metrics import make_scorer ,f1_score\n",
    "# logCV_scorer=make_scorer(f1_score , average='auto')\n",
    "# pipe_logistic_multiclass = Pipeline(steps=[('ct',ct),('logistic_reg',LogisticRegressionCV(cv=3,penalty='l2',solver='saga',multi_class='multinomial',Cs=[0.1, 0.5, 1] ,max_iter=3000 ,random_state=42))])\n",
    "\n",
    "# pipe_logistic_multiclass.fit(xtrain,ytrain)\n",
    "# pipe_logistic_multiclass.score(xtrain,ytrain)\n",
    "\n",
    "# pipe_logistic_multiclass.score(xtest,ytest)\n",
    "\n",
    "\n",
    "\n",
    "\n",
    "# # 0.81175\n"
   ]
  },
  {
   "cell_type": "code",
   "execution_count": 84,
   "id": "e1e0bbf0",
   "metadata": {
    "execution": {
     "iopub.execute_input": "2024-07-18T17:15:06.881210Z",
     "iopub.status.busy": "2024-07-18T17:15:06.880112Z",
     "iopub.status.idle": "2024-07-18T17:15:06.885724Z",
     "shell.execute_reply": "2024-07-18T17:15:06.884492Z"
    },
    "papermill": {
     "duration": 0.074147,
     "end_time": "2024-07-18T17:15:06.888369",
     "exception": false,
     "start_time": "2024-07-18T17:15:06.814222",
     "status": "completed"
    },
    "tags": []
   },
   "outputs": [],
   "source": [
    "# from sklearn.metrics import make_scorer ,f1_score\n",
    "# logCV_scorer=make_scorer(f1_score , average='auto')\n",
    "# pipe_logistic_ovr = Pipeline(steps=[('ct',ct),('logistic_reg',LogisticRegressionCV(cv=5,penalty='l2',solver='liblinear',multi_class='ovr',Cs=[0.1, 0.5, 1] ,max_iter=2400 ,random_state=42))])\n",
    "# pipe_logistic_ovr.fit(xtrain,ytrain)\n",
    "# pipe_logistic_ovr.score(xtest,ytest)\n",
    "\n",
    "\n",
    "\n",
    "\n",
    "\n",
    "\n",
    "# # 0.805"
   ]
  },
  {
   "cell_type": "code",
   "execution_count": 85,
   "id": "eff6aecb",
   "metadata": {
    "execution": {
     "iopub.execute_input": "2024-07-18T17:15:07.018705Z",
     "iopub.status.busy": "2024-07-18T17:15:07.018292Z",
     "iopub.status.idle": "2024-07-18T17:15:07.024462Z",
     "shell.execute_reply": "2024-07-18T17:15:07.023140Z"
    },
    "papermill": {
     "duration": 0.074222,
     "end_time": "2024-07-18T17:15:07.026986",
     "exception": false,
     "start_time": "2024-07-18T17:15:06.952764",
     "status": "completed"
    },
    "tags": []
   },
   "outputs": [],
   "source": [
    "# from sklearn.model_selection import GridSearchCV\n",
    "# grid_logistic_estimator=Pipeline(steps=[('ct',ct),('logistic',LogisticRegression(random_state=42,penalty='l2',multi_class='multinomial' , max_iter=2500))])\n",
    "\n",
    "# param_grid_logistic={\n",
    "    \n",
    "#     'logistic__C':[0.01 , 0.1 , 1 , 10],\n",
    "    \n",
    "#     'logistic__solver':['sag', 'saga'],\n",
    "    \n",
    "# #     'logistic__penalty':['l2'] ,\n",
    "  \n",
    "# #     'logistic__max_iter' : [1000 , 1200 , 1500]\n",
    "# }\n",
    "\n",
    "# grid_logistic=GridSearchCV(grid_logistic_estimator, param_grid=param_grid_logistic , cv=5 ,n_jobs=-1)\n",
    "\n",
    "\n",
    "# grid_logistic.fit(xtrain , ytrain)\n",
    "\n",
    "\n",
    "\n",
    "# grid_logistic.score(xtest,ytest)\n",
    "\n",
    "\n",
    "\n",
    "# # 0.81225"
   ]
  },
  {
   "cell_type": "code",
   "execution_count": 86,
   "id": "85b28347",
   "metadata": {
    "execution": {
     "iopub.execute_input": "2024-07-18T17:15:07.156864Z",
     "iopub.status.busy": "2024-07-18T17:15:07.156445Z",
     "iopub.status.idle": "2024-07-18T17:15:07.161313Z",
     "shell.execute_reply": "2024-07-18T17:15:07.160145Z"
    },
    "papermill": {
     "duration": 0.071884,
     "end_time": "2024-07-18T17:15:07.163840",
     "exception": false,
     "start_time": "2024-07-18T17:15:07.091956",
     "status": "completed"
    },
    "tags": []
   },
   "outputs": [],
   "source": [
    "# grid_logistic.best_params_\n",
    "\n",
    "\n",
    "# # {'logistic__C': 10, 'logistic__solver': 'sag'}"
   ]
  },
  {
   "cell_type": "code",
   "execution_count": 87,
   "id": "79602ccc",
   "metadata": {
    "execution": {
     "iopub.execute_input": "2024-07-18T17:15:07.295037Z",
     "iopub.status.busy": "2024-07-18T17:15:07.294657Z",
     "iopub.status.idle": "2024-07-18T17:15:07.299736Z",
     "shell.execute_reply": "2024-07-18T17:15:07.298590Z"
    },
    "papermill": {
     "duration": 0.073079,
     "end_time": "2024-07-18T17:15:07.302722",
     "exception": false,
     "start_time": "2024-07-18T17:15:07.229643",
     "status": "completed"
    },
    "tags": []
   },
   "outputs": [],
   "source": [
    "# xtrain.info()"
   ]
  },
  {
   "cell_type": "code",
   "execution_count": 88,
   "id": "da7ab21c",
   "metadata": {
    "execution": {
     "iopub.execute_input": "2024-07-18T17:15:07.440585Z",
     "iopub.status.busy": "2024-07-18T17:15:07.440141Z",
     "iopub.status.idle": "2024-07-18T17:15:07.445249Z",
     "shell.execute_reply": "2024-07-18T17:15:07.444025Z"
    },
    "papermill": {
     "duration": 0.074538,
     "end_time": "2024-07-18T17:15:07.448519",
     "exception": false,
     "start_time": "2024-07-18T17:15:07.373981",
     "status": "completed"
    },
    "tags": []
   },
   "outputs": [],
   "source": [
    "# from sklearn.svm import SVC , NuSVC\n",
    "# pipe_svc=Pipeline(steps=[('ct',ct),('svc',SVC(decision_function_shape='ovr'))])"
   ]
  },
  {
   "cell_type": "code",
   "execution_count": 89,
   "id": "9e9ea07a",
   "metadata": {
    "execution": {
     "iopub.execute_input": "2024-07-18T17:15:07.580782Z",
     "iopub.status.busy": "2024-07-18T17:15:07.580326Z",
     "iopub.status.idle": "2024-07-18T17:15:07.586008Z",
     "shell.execute_reply": "2024-07-18T17:15:07.584307Z"
    },
    "papermill": {
     "duration": 0.079185,
     "end_time": "2024-07-18T17:15:07.589539",
     "exception": false,
     "start_time": "2024-07-18T17:15:07.510354",
     "status": "completed"
    },
    "tags": []
   },
   "outputs": [],
   "source": [
    "# pipe_svc.fit(xtrain,ytrain)"
   ]
  },
  {
   "cell_type": "code",
   "execution_count": 90,
   "id": "2c7afb64",
   "metadata": {
    "execution": {
     "iopub.execute_input": "2024-07-18T17:15:07.720635Z",
     "iopub.status.busy": "2024-07-18T17:15:07.720221Z",
     "iopub.status.idle": "2024-07-18T17:15:07.725241Z",
     "shell.execute_reply": "2024-07-18T17:15:07.724048Z"
    },
    "papermill": {
     "duration": 0.073371,
     "end_time": "2024-07-18T17:15:07.727961",
     "exception": false,
     "start_time": "2024-07-18T17:15:07.654590",
     "status": "completed"
    },
    "tags": []
   },
   "outputs": [],
   "source": [
    "# pipe_svc.score(xtrain,ytrain)"
   ]
  },
  {
   "cell_type": "code",
   "execution_count": 91,
   "id": "ef5b64d5",
   "metadata": {
    "execution": {
     "iopub.execute_input": "2024-07-18T17:15:07.862287Z",
     "iopub.status.busy": "2024-07-18T17:15:07.861834Z",
     "iopub.status.idle": "2024-07-18T17:15:07.867197Z",
     "shell.execute_reply": "2024-07-18T17:15:07.865994Z"
    },
    "papermill": {
     "duration": 0.075288,
     "end_time": "2024-07-18T17:15:07.869967",
     "exception": false,
     "start_time": "2024-07-18T17:15:07.794679",
     "status": "completed"
    },
    "tags": []
   },
   "outputs": [],
   "source": [
    "# pipe_svc.score(xtest,ytest)"
   ]
  },
  {
   "cell_type": "markdown",
   "id": "889618e5",
   "metadata": {
    "papermill": {
     "duration": 0.06363,
     "end_time": "2024-07-18T17:15:07.998701",
     "exception": false,
     "start_time": "2024-07-18T17:15:07.935071",
     "status": "completed"
    },
    "tags": []
   },
   "source": [
    "svc hpt"
   ]
  },
  {
   "cell_type": "code",
   "execution_count": 92,
   "id": "9bbff461",
   "metadata": {
    "execution": {
     "iopub.execute_input": "2024-07-18T17:15:08.125140Z",
     "iopub.status.busy": "2024-07-18T17:15:08.124702Z",
     "iopub.status.idle": "2024-07-18T17:15:08.131333Z",
     "shell.execute_reply": "2024-07-18T17:15:08.130045Z"
    },
    "papermill": {
     "duration": 0.073232,
     "end_time": "2024-07-18T17:15:08.134023",
     "exception": false,
     "start_time": "2024-07-18T17:15:08.060791",
     "status": "completed"
    },
    "tags": []
   },
   "outputs": [],
   "source": [
    "# from sklearn.model_selection import RandomizedSearchCV\n",
    "# from sklearn.model_selection import StratifiedKFold\n",
    "\n",
    "\n",
    "# svc_param = {\n",
    "#     'svc__kernel': ['linear', 'rbf', 'poly'] ,\n",
    "#     'svc__gamma':['scale', 'auto'],\n",
    "#     'svc__C':  [0.01,0.1,1,10,100]   \n",
    "# }\n",
    "\n",
    "# svc_cv = StratifiedKFold(n_splits=5, shuffle=True, random_state=42)\n",
    "\n",
    "# svc_random_search = RandomizedSearchCV(estimator=pipe_svc, param_distributions=svc_param, cv=svc_cv,n_iter=5, n_jobs=-1, verbose=2, random_state=42)\n",
    "\n",
    "# svc_random_search.fit(xtrain , ytrain)\n",
    "\n",
    "\n"
   ]
  },
  {
   "cell_type": "code",
   "execution_count": 93,
   "id": "97973241",
   "metadata": {
    "execution": {
     "iopub.execute_input": "2024-07-18T17:15:08.268292Z",
     "iopub.status.busy": "2024-07-18T17:15:08.267826Z",
     "iopub.status.idle": "2024-07-18T17:15:08.272983Z",
     "shell.execute_reply": "2024-07-18T17:15:08.271604Z"
    },
    "papermill": {
     "duration": 0.074365,
     "end_time": "2024-07-18T17:15:08.275720",
     "exception": false,
     "start_time": "2024-07-18T17:15:08.201355",
     "status": "completed"
    },
    "tags": []
   },
   "outputs": [],
   "source": [
    "# print('train score',svc_random_search.score(xtrain , ytrain))\n",
    "# print('test score',svc_random_search.score(xtest , ytest))\n"
   ]
  },
  {
   "cell_type": "code",
   "execution_count": 94,
   "id": "4c0c0bb1",
   "metadata": {
    "execution": {
     "iopub.execute_input": "2024-07-18T17:15:08.403504Z",
     "iopub.status.busy": "2024-07-18T17:15:08.403068Z",
     "iopub.status.idle": "2024-07-18T17:15:08.408283Z",
     "shell.execute_reply": "2024-07-18T17:15:08.407101Z"
    },
    "papermill": {
     "duration": 0.073138,
     "end_time": "2024-07-18T17:15:08.410959",
     "exception": false,
     "start_time": "2024-07-18T17:15:08.337821",
     "status": "completed"
    },
    "tags": []
   },
   "outputs": [],
   "source": [
    "# xtrain.info()"
   ]
  },
  {
   "cell_type": "code",
   "execution_count": 95,
   "id": "236e768f",
   "metadata": {
    "execution": {
     "iopub.execute_input": "2024-07-18T17:15:08.540365Z",
     "iopub.status.busy": "2024-07-18T17:15:08.539364Z",
     "iopub.status.idle": "2024-07-18T17:15:08.544795Z",
     "shell.execute_reply": "2024-07-18T17:15:08.543581Z"
    },
    "papermill": {
     "duration": 0.073072,
     "end_time": "2024-07-18T17:15:08.547366",
     "exception": false,
     "start_time": "2024-07-18T17:15:08.474294",
     "status": "completed"
    },
    "tags": []
   },
   "outputs": [],
   "source": [
    "# df.shape"
   ]
  },
  {
   "cell_type": "code",
   "execution_count": 96,
   "id": "85bef2fc",
   "metadata": {
    "execution": {
     "iopub.execute_input": "2024-07-18T17:15:08.679775Z",
     "iopub.status.busy": "2024-07-18T17:15:08.679378Z",
     "iopub.status.idle": "2024-07-18T17:15:08.684296Z",
     "shell.execute_reply": "2024-07-18T17:15:08.683059Z"
    },
    "papermill": {
     "duration": 0.075345,
     "end_time": "2024-07-18T17:15:08.687311",
     "exception": false,
     "start_time": "2024-07-18T17:15:08.611966",
     "status": "completed"
    },
    "tags": []
   },
   "outputs": [],
   "source": [
    "# test.shape"
   ]
  },
  {
   "cell_type": "code",
   "execution_count": 97,
   "id": "2ee98f3d",
   "metadata": {
    "execution": {
     "iopub.execute_input": "2024-07-18T17:15:08.818747Z",
     "iopub.status.busy": "2024-07-18T17:15:08.818351Z",
     "iopub.status.idle": "2024-07-18T17:15:08.823790Z",
     "shell.execute_reply": "2024-07-18T17:15:08.822153Z"
    },
    "papermill": {
     "duration": 0.075116,
     "end_time": "2024-07-18T17:15:08.826478",
     "exception": false,
     "start_time": "2024-07-18T17:15:08.751362",
     "status": "completed"
    },
    "tags": []
   },
   "outputs": [],
   "source": [
    "# df.info()"
   ]
  },
  {
   "cell_type": "code",
   "execution_count": 98,
   "id": "fb26f700",
   "metadata": {
    "execution": {
     "iopub.execute_input": "2024-07-18T17:15:08.959445Z",
     "iopub.status.busy": "2024-07-18T17:15:08.959042Z",
     "iopub.status.idle": "2024-07-18T17:15:08.964963Z",
     "shell.execute_reply": "2024-07-18T17:15:08.963584Z"
    },
    "papermill": {
     "duration": 0.075085,
     "end_time": "2024-07-18T17:15:08.967662",
     "exception": false,
     "start_time": "2024-07-18T17:15:08.892577",
     "status": "completed"
    },
    "tags": []
   },
   "outputs": [],
   "source": [
    "# from sklearn.linear_model import Perceptron\n",
    "\n",
    "# pipe_percep=Pipeline(steps=[('ct',ct),('perceptron',Perceptron())])\n",
    "\n",
    "# pipe_percep.fit(xtrain,ytrain)\n",
    "\n",
    "# pipe_percep.score(xtest,ytest)"
   ]
  },
  {
   "cell_type": "markdown",
   "id": "74ef2f3a",
   "metadata": {
    "papermill": {
     "duration": 0.065877,
     "end_time": "2024-07-18T17:15:09.097606",
     "exception": false,
     "start_time": "2024-07-18T17:15:09.031729",
     "status": "completed"
    },
    "tags": []
   },
   "source": [
    "KNN"
   ]
  },
  {
   "cell_type": "markdown",
   "id": "e4d3087a",
   "metadata": {
    "papermill": {
     "duration": 0.064613,
     "end_time": "2024-07-18T17:15:09.228008",
     "exception": false,
     "start_time": "2024-07-18T17:15:09.163395",
     "status": "completed"
    },
    "tags": []
   },
   "source": [
    "KNN Grid"
   ]
  },
  {
   "cell_type": "code",
   "execution_count": 99,
   "id": "de69845d",
   "metadata": {
    "execution": {
     "iopub.execute_input": "2024-07-18T17:15:09.362057Z",
     "iopub.status.busy": "2024-07-18T17:15:09.361668Z",
     "iopub.status.idle": "2024-07-18T17:15:09.367200Z",
     "shell.execute_reply": "2024-07-18T17:15:09.366067Z"
    },
    "papermill": {
     "duration": 0.075228,
     "end_time": "2024-07-18T17:15:09.370315",
     "exception": false,
     "start_time": "2024-07-18T17:15:09.295087",
     "status": "completed"
    },
    "tags": []
   },
   "outputs": [],
   "source": [
    "# from sklearn.neighbors import KNeighborsClassifier\n",
    "\n",
    "# #45  33-8077   29-81  28  27  20  16  14 12 10\n",
    "# kn_classifier=Pipeline(steps=[('ct' , ct ),( 'knn' ,KNeighborsClassifier(n_neighbors=9))])\n",
    "\n",
    "\n",
    "# kn_classifier.fit(xtrain , ytrain)\n",
    "\n",
    "\n",
    "# ypred_kn_classifier=kn_classifier.predict(xtest)\n",
    "\n",
    "\n",
    "\n",
    "# print(\"Train score = \",kn_classifier.score(xtrain,ytrain))\n",
    "# print(\"Test score = \",kn_classifier.score(xtest,ytest))\n",
    "\n",
    "# print('---------------------------------------------------------')\n",
    "# print(classification_report(ytest,ypred_kn_classifier))\n",
    "\n",
    "# print('---------------------------------------------------------')\n",
    "\n",
    "# print(ConfusionMatrixDisplay.from_estimator(kn_classifier , xtest , ytest ,xticks_rotation='vertical'))\n"
   ]
  },
  {
   "cell_type": "code",
   "execution_count": 100,
   "id": "58b032b7",
   "metadata": {
    "execution": {
     "iopub.execute_input": "2024-07-18T17:15:09.503204Z",
     "iopub.status.busy": "2024-07-18T17:15:09.502786Z",
     "iopub.status.idle": "2024-07-18T17:15:09.510729Z",
     "shell.execute_reply": "2024-07-18T17:15:09.509478Z"
    },
    "papermill": {
     "duration": 0.076067,
     "end_time": "2024-07-18T17:15:09.513250",
     "exception": false,
     "start_time": "2024-07-18T17:15:09.437183",
     "status": "completed"
    },
    "tags": []
   },
   "outputs": [],
   "source": [
    "import time\n",
    "start_time = time.time()\n",
    "# from sklearn.metrics import pairwise_distances\n",
    "from sklearn.model_selection import  RepeatedStratifiedKFold ,GridSearchCV ,RandomizedSearchCV\n",
    "\n",
    "from sklearn.decomposition import PCA\n",
    "\n",
    "\n",
    "\n",
    "# knn_param_grid= {\n",
    "    \n",
    "#     \"knn__n_neighbors\":[9,12,16 ,20],\n",
    "    \n",
    "#     \"knn__weights\":['uniform','distance'],\n",
    "    \n",
    "# #     'knn__algorithm':['ball_tree','kd_tree'],\n",
    "    \n",
    "#     'knn__leaf_size':[19,20,30,25],\n",
    "#     'knn__p':[1,2]\n",
    "# #     'knn__metric':['euclidean','manhattan'] \n",
    "# }\n",
    "\n",
    "\n",
    "# kn_classifier_grid_est=Pipeline(steps=[('ct' , ct ),( 'knn' ,KNeighborsClassifier())])\n",
    "\n",
    "# cv=RepeatedStratifiedKFold(n_splits=5 , n_repeats = 4 , random_state=42)\n",
    "\n",
    "# # kn_classifier_grid = GridSearchCV(kn_classifier_grid_est, param_grid=knn_param_grid , n_jobs=-1 , cv=cv , scoring='accuracy' , error_score=0)\n",
    "# kn_classifier_Randomgrid = RandomizedSearchCV(kn_classifier_grid_est, param_distributions=knn_param_grid , n_jobs=-1 , cv=cv , scoring='accuracy' , error_score=0)\n",
    "\n",
    "# # kn_classifier_grid.fit(xtrain , ytrain)\n",
    "# kn_classifier_Randomgrid.fit(xtrain , ytrain)\n",
    "\n",
    "# kn_classifier_Randomgrid.score(xtrain,ytrain)\n",
    "# kn_classifier_Randomgrid.score(xtest,ytest)\n",
    "\n",
    "# end_time = time.time()\n",
    "# print(\"elapsed_time = \",(end_time - start_time)//60)\n",
    "\n",
    "\n",
    "\n",
    "\n",
    "\n",
    "\n",
    "\n",
    "\n",
    "\n",
    "\n"
   ]
  },
  {
   "cell_type": "code",
   "execution_count": 101,
   "id": "1623015b",
   "metadata": {
    "execution": {
     "iopub.execute_input": "2024-07-18T17:15:09.642214Z",
     "iopub.status.busy": "2024-07-18T17:15:09.641788Z",
     "iopub.status.idle": "2024-07-18T17:15:09.647334Z",
     "shell.execute_reply": "2024-07-18T17:15:09.646061Z"
    },
    "papermill": {
     "duration": 0.073469,
     "end_time": "2024-07-18T17:15:09.650081",
     "exception": false,
     "start_time": "2024-07-18T17:15:09.576612",
     "status": "completed"
    },
    "tags": []
   },
   "outputs": [],
   "source": [
    "# kn_classifier_grid = GridSearchCV(kn_classifier_grid_est, param_grid=knn_param_grid , n_jobs=-1 , cv=cv , scoring='accuracy' , error_score=0)\n",
    "# kn_classifier_grid.fit(xtrain , ytrain)\n"
   ]
  },
  {
   "cell_type": "code",
   "execution_count": 102,
   "id": "73eac2b9",
   "metadata": {
    "execution": {
     "iopub.execute_input": "2024-07-18T17:15:09.780242Z",
     "iopub.status.busy": "2024-07-18T17:15:09.779812Z",
     "iopub.status.idle": "2024-07-18T17:15:09.785836Z",
     "shell.execute_reply": "2024-07-18T17:15:09.784668Z"
    },
    "papermill": {
     "duration": 0.074488,
     "end_time": "2024-07-18T17:15:09.788304",
     "exception": false,
     "start_time": "2024-07-18T17:15:09.713816",
     "status": "completed"
    },
    "tags": []
   },
   "outputs": [],
   "source": [
    "   #n= 16\n",
    "# kn_classifier_tuned=Pipeline(steps=[('ct' , ct ),( 'knn' ,KNeighborsClassifier(n_neighbors=19 , p=1,leaf_size=19 ,weights='distance'))])\n",
    "\n",
    "\n",
    "# kn_classifier_tuned.fit(xtrain , ytrain)\n",
    "\n",
    "\n",
    "# ypred_kn_classifier_tuned=kn_classifier_tuned.predict(xtest)\n",
    "\n",
    "\n",
    "\n",
    "# print(\"Train score = \",kn_classifier_tuned.score(xtrain,ytrain))\n",
    "# print(\"Test score = \",kn_classifier_tuned.score(xtest,ytest))\n",
    "\n",
    "# print('---------------------------------------------------------')\n",
    "# print(classification_report(ytest,ypred_kn_classifier_tuned))\n",
    "\n",
    "# print('---------------------------------------------------------')\n",
    "\n",
    "# print(ConfusionMatrixDisplay.from_estimator(kn_classifier_tuned , xtest , ytest ,xticks_rotation='vertical'))\n"
   ]
  },
  {
   "cell_type": "markdown",
   "id": "51d951b7",
   "metadata": {
    "papermill": {
     "duration": 0.063661,
     "end_time": "2024-07-18T17:15:09.917835",
     "exception": false,
     "start_time": "2024-07-18T17:15:09.854174",
     "status": "completed"
    },
    "tags": []
   },
   "source": [
    "# TEST FINAL"
   ]
  },
  {
   "cell_type": "markdown",
   "id": "056e34af",
   "metadata": {
    "papermill": {
     "duration": 0.063772,
     "end_time": "2024-07-18T17:15:10.046309",
     "exception": false,
     "start_time": "2024-07-18T17:15:09.982537",
     "status": "completed"
    },
    "tags": []
   },
   "source": [
    "# Loading the test_final data"
   ]
  },
  {
   "cell_type": "code",
   "execution_count": 103,
   "id": "9ce74535",
   "metadata": {
    "execution": {
     "iopub.execute_input": "2024-07-18T17:15:10.179311Z",
     "iopub.status.busy": "2024-07-18T17:15:10.178877Z",
     "iopub.status.idle": "2024-07-18T17:15:10.223884Z",
     "shell.execute_reply": "2024-07-18T17:15:10.222479Z"
    },
    "papermill": {
     "duration": 0.114747,
     "end_time": "2024-07-18T17:15:10.226968",
     "exception": false,
     "start_time": "2024-07-18T17:15:10.112221",
     "status": "completed"
    },
    "tags": []
   },
   "outputs": [],
   "source": [
    "test_final=pd.read_csv('/kaggle/input/crime-cast-forecasting-crime-categories/test.csv')"
   ]
  },
  {
   "cell_type": "markdown",
   "id": "2b8dd802",
   "metadata": {
    "papermill": {
     "duration": 0.070073,
     "end_time": "2024-07-18T17:15:10.360986",
     "exception": false,
     "start_time": "2024-07-18T17:15:10.290913",
     "status": "completed"
    },
    "tags": []
   },
   "source": [
    "# Converting time into day category"
   ]
  },
  {
   "cell_type": "code",
   "execution_count": 104,
   "id": "b0443135",
   "metadata": {
    "execution": {
     "iopub.execute_input": "2024-07-18T17:15:10.496566Z",
     "iopub.status.busy": "2024-07-18T17:15:10.496164Z",
     "iopub.status.idle": "2024-07-18T17:15:10.506458Z",
     "shell.execute_reply": "2024-07-18T17:15:10.505332Z"
    },
    "papermill": {
     "duration": 0.077325,
     "end_time": "2024-07-18T17:15:10.509002",
     "exception": false,
     "start_time": "2024-07-18T17:15:10.431677",
     "status": "completed"
    },
    "tags": []
   },
   "outputs": [],
   "source": [
    "test_final['day_category']=test_final.loc[:,'Time_Occurred'].apply(day_category )"
   ]
  },
  {
   "cell_type": "markdown",
   "id": "28afa4d6",
   "metadata": {
    "papermill": {
     "duration": 0.065676,
     "end_time": "2024-07-18T17:15:10.638211",
     "exception": false,
     "start_time": "2024-07-18T17:15:10.572535",
     "status": "completed"
    },
    "tags": []
   },
   "source": [
    "# Extracting the date features"
   ]
  },
  {
   "cell_type": "code",
   "execution_count": 105,
   "id": "644c4614",
   "metadata": {
    "execution": {
     "iopub.execute_input": "2024-07-18T17:15:10.770561Z",
     "iopub.status.busy": "2024-07-18T17:15:10.770156Z",
     "iopub.status.idle": "2024-07-18T17:15:16.445059Z",
     "shell.execute_reply": "2024-07-18T17:15:16.443332Z"
    },
    "papermill": {
     "duration": 5.743387,
     "end_time": "2024-07-18T17:15:16.448172",
     "exception": false,
     "start_time": "2024-07-18T17:15:10.704785",
     "status": "completed"
    },
    "tags": []
   },
   "outputs": [],
   "source": [
    "\n",
    "\n",
    "# Extracting the dates\n",
    "test_final.loc[:,'Date_Reported']=test_final.loc[:,'Date_Reported'].apply(extract_date)\n",
    "test_final.loc[:,'Date_Occurred']=test_final.loc[:,'Date_Occurred'].apply(extract_date)\n",
    "\n",
    "\n",
    "\n",
    "\n",
    "# converitng into date\n",
    "\n",
    "test_final['Date_Reported']=pd.to_datetime(test_final['Date_Reported']).dt.date\n",
    "test_final['Date_Occurred']=pd.to_datetime(test_final['Date_Occurred']).dt.date\n",
    "\n",
    "\n",
    "#             extracting the reporting delay days count\n",
    "\n",
    "test_final['reporting_delay_day_count']=(test_final['Date_Reported']-test_final['Date_Occurred'])\n",
    "\n",
    "\n",
    "\n",
    "\n",
    "# countign the days\n",
    "\n",
    "def day_count(d):\n",
    "    return d.days\n",
    "test_final.loc[:,'reporting_delay_day_count']=test_final.loc[:,'reporting_delay_day_count'].apply(day_count)\n",
    "\n",
    "\n",
    "\n",
    "\n",
    "test_final.loc[:,'reporting_delay_day_count']=test_final.loc[:,'reporting_delay_day_count'].apply(lambda x : int(x))\n",
    "\n",
    "# def victim_gender(val):\n",
    "#     if val=='H' or pd.isna(val):\n",
    "#         val='X'\n",
    "#     return val\n",
    "\n",
    "\n",
    "# test_final.loc[:,'Victim_Sex'] = test_final.alignloc[:,'Victim_Sex'].apply(victim_gender)\n",
    "\n",
    "\n",
    "\n",
    "\n",
    "\n",
    "# unique_values_weapon_test=pd.DataFrame(test_final['Weapon_Description'])\n",
    "# unique_values_weapon_test.value_counts(normalize=True)\n",
    "\n",
    "\n",
    "\n",
    "\n",
    "\n",
    "\n",
    "\n",
    "# distribution_test = test_final['Weapon_Description'].dropna().value_counts(normalize=True)\n",
    "\n",
    "# missing_test = test_final['Weapon_Description'].isnull().sum()\n",
    "\n",
    "# imputed_values_test = np.random.choice(distribution_test.index, size=missing_test, p=distribution_test.values)\n",
    "\n",
    "# # Impute the missing values\n",
    "# test_final.loc[test_final['Weapon_Description'].isnull(), 'Weapon_Description'] = imputed_values_test\n",
    "\n"
   ]
  },
  {
   "cell_type": "markdown",
   "id": "c97980c2",
   "metadata": {
    "papermill": {
     "duration": 0.067841,
     "end_time": "2024-07-18T17:15:16.586526",
     "exception": false,
     "start_time": "2024-07-18T17:15:16.518685",
     "status": "completed"
    },
    "tags": []
   },
   "source": [
    "# Handling the gender column"
   ]
  },
  {
   "cell_type": "code",
   "execution_count": 106,
   "id": "7ec11830",
   "metadata": {
    "execution": {
     "iopub.execute_input": "2024-07-18T17:15:16.724990Z",
     "iopub.status.busy": "2024-07-18T17:15:16.724601Z",
     "iopub.status.idle": "2024-07-18T17:15:16.750791Z",
     "shell.execute_reply": "2024-07-18T17:15:16.749478Z"
    },
    "papermill": {
     "duration": 0.100592,
     "end_time": "2024-07-18T17:15:16.753811",
     "exception": false,
     "start_time": "2024-07-18T17:15:16.653219",
     "status": "completed"
    },
    "tags": []
   },
   "outputs": [
    {
     "name": "stdout",
     "output_type": "stream",
     "text": [
      "Unique values of victim sex are ['F' 'M' nan 'X' 'H']\n",
      "---------------------------------------------------------------\n",
      "\n",
      "\n",
      "Value counts are\n",
      "Victim_Sex\n",
      "M    2121\n",
      "F    1840\n",
      "X     395\n",
      "H       1\n",
      "Name: count, dtype: int64\n",
      "\n",
      "\n",
      "---------------------------------------------------------------\n",
      "Number of null values are 643\n",
      "\n",
      "\n",
      "---------------------------------------------------------------\n",
      "Number of null values after imputing are 0\n",
      "---------------------------------------------------------------\n",
      "\n",
      "\n"
     ]
    }
   ],
   "source": [
    "# print(\"Number of null values are\" , test_final['Victim_Sex'].isnull().sum())\n",
    "\n",
    "# def victim_gender(val):\n",
    "#     if val=='H' or pd.isna(val):\n",
    "#         val='X'\n",
    "#     return val\n",
    "\n",
    "\n",
    "# distribution_gender = test_final['Victim_Sex'].dropna().value_counts(normalize=True)\n",
    "\n",
    "# missing_gender = test_final['Victim_Sex'].isna().sum()\n",
    "\n",
    "# imputed_values_gender = np.random.choice(distribution_gender.index, size=missing_gender, p=distribution_gender.values)\n",
    "\n",
    "\n",
    "# test_final.loc[test_final['Victim_Sex'].isna(), 'Victim_Sex'] = imputed_values_gender\n",
    "\n",
    "\n",
    "\n",
    "# test_final.loc[:,'Victim_Sex'] = test_final.loc[:,'Victim_Sex'].apply(victim_gender)\n",
    "\n",
    "\n",
    "print(\"Unique values of victim sex are\",test_final['Victim_Sex'].unique())\n",
    "\n",
    "print('---------------------------------------------------------------')\n",
    "\n",
    "\n",
    "print('')\n",
    "print('')\n",
    "\n",
    "print('Value counts are')\n",
    "print(test_final['Victim_Sex'].value_counts())\n",
    "\n",
    "print('')\n",
    "print('')\n",
    "print('---------------------------------------------------------------')\n",
    "\n",
    "\n",
    "\n",
    "print(\"Number of null values are\" , test_final['Victim_Sex'].isnull().sum())\n",
    "\n",
    "\n",
    "\n",
    "\n",
    "\n",
    "distribution_gender_test = test_final['Victim_Sex'].dropna().value_counts(normalize=True)\n",
    "\n",
    "missing_gender_test = test_final['Victim_Sex'].isna().sum()\n",
    "\n",
    "imputed_values_gender_test = np.random.choice(distribution_gender_test.index, size=missing_gender_test, p=distribution_gender_test.values)\n",
    "\n",
    "\n",
    "test_final.loc[test_final['Victim_Sex'].isna(), 'Victim_Sex'] = imputed_values_gender_test\n",
    "\n",
    "\n",
    "\n",
    "print('')\n",
    "print('')\n",
    "\n",
    "print('---------------------------------------------------------------')\n",
    "\n",
    "print(\"Number of null values after imputing are\" , test_final['Victim_Sex'].isnull().sum())\n",
    "\n",
    "test_final.loc[:,'Victim_Sex']=test_final.loc[:,'Victim_Sex'].replace('H','X')\n",
    "\n",
    "\n",
    "print('---------------------------------------------------------------')\n",
    "print('')\n",
    "print('')\n",
    "\n"
   ]
  },
  {
   "cell_type": "markdown",
   "id": "cab3362c",
   "metadata": {
    "papermill": {
     "duration": 0.064786,
     "end_time": "2024-07-18T17:15:16.884113",
     "exception": false,
     "start_time": "2024-07-18T17:15:16.819327",
     "status": "completed"
    },
    "tags": []
   },
   "source": [
    " # Weapon_Description"
   ]
  },
  {
   "cell_type": "code",
   "execution_count": 107,
   "id": "a7333e95",
   "metadata": {
    "execution": {
     "iopub.execute_input": "2024-07-18T17:15:17.012837Z",
     "iopub.status.busy": "2024-07-18T17:15:17.012441Z",
     "iopub.status.idle": "2024-07-18T17:15:17.039499Z",
     "shell.execute_reply": "2024-07-18T17:15:17.038485Z"
    },
    "papermill": {
     "duration": 0.094701,
     "end_time": "2024-07-18T17:15:17.042651",
     "exception": false,
     "start_time": "2024-07-18T17:15:16.947950",
     "status": "completed"
    },
    "tags": []
   },
   "outputs": [],
   "source": [
    "test_final.loc[train['Weapon_Description'] == 'STRONG-ARM (HANDS, FIST, FEET OR BODILY FORCE)', 'Weapon_Description'] = 'Physical Force'\n",
    "\n",
    "\n",
    "test_final.loc[:,'Weapon_Description']=test_final['Weapon_Description'].apply(lambda x: gun(x))\n",
    "\n",
    "# unique_values_weapon_test=pd.DataFrame(test_final['Weapon_Description'])\n",
    "# unique_values_weapon_test.value_counts(normalize=True)\n",
    "\n",
    "# distribution_test = test_final['Weapon_Description'].dropna().value_counts(normalize=True)\n",
    "\n",
    "# missing_test = test_final['Weapon_Description'].isnull().sum()\n",
    "\n",
    "# imputed_values_test = np.random.choice(distribution_test.index, size=missing_test, p=distribution_test.values)\n",
    "\n",
    "# # Impute the missing values\n",
    "# test_final.loc[test_final['Weapon_Description'].isnull(), 'Weapon_Description'] = imputed_values_test\n",
    "\n"
   ]
  },
  {
   "cell_type": "code",
   "execution_count": 108,
   "id": "93bb39b8",
   "metadata": {
    "execution": {
     "iopub.execute_input": "2024-07-18T17:15:17.170831Z",
     "iopub.status.busy": "2024-07-18T17:15:17.170432Z",
     "iopub.status.idle": "2024-07-18T17:15:17.184303Z",
     "shell.execute_reply": "2024-07-18T17:15:17.183064Z"
    },
    "papermill": {
     "duration": 0.080174,
     "end_time": "2024-07-18T17:15:17.187185",
     "exception": false,
     "start_time": "2024-07-18T17:15:17.107011",
     "status": "completed"
    },
    "tags": []
   },
   "outputs": [
    {
     "name": "stdout",
     "output_type": "stream",
     "text": [
      "Number of unqiue values are\n"
     ]
    },
    {
     "data": {
      "text/plain": [
       "Weapon_Description\n",
       "NA                    3153\n",
       "Physical Force        1007\n",
       "sharp_heavy_object     431\n",
       "other_weapon           170\n",
       "Gun                    167\n",
       "fire                    44\n",
       "VEHICLE                 28\n",
       "Name: count, dtype: int64"
      ]
     },
     "execution_count": 108,
     "metadata": {},
     "output_type": "execute_result"
    }
   ],
   "source": [
    "test_final\n",
    "\n",
    "print('Number of unqiue values are')\n",
    "test_final['Weapon_Description'].value_counts()"
   ]
  },
  {
   "cell_type": "code",
   "execution_count": 109,
   "id": "7e2d3ccc",
   "metadata": {
    "execution": {
     "iopub.execute_input": "2024-07-18T17:15:17.313209Z",
     "iopub.status.busy": "2024-07-18T17:15:17.312803Z",
     "iopub.status.idle": "2024-07-18T17:15:17.330375Z",
     "shell.execute_reply": "2024-07-18T17:15:17.329300Z"
    },
    "papermill": {
     "duration": 0.083611,
     "end_time": "2024-07-18T17:15:17.332949",
     "exception": false,
     "start_time": "2024-07-18T17:15:17.249338",
     "status": "completed"
    },
    "tags": []
   },
   "outputs": [],
   "source": [
    "distribution_test = test_final['Weapon_Description'][test_final['Weapon_Description'] != 'NA'].value_counts(normalize=True)\n",
    "\n",
    "missing_test = test_final[test_final['Weapon_Description']=='NA']['Weapon_Description'].count()\n",
    "\n",
    "imputed_values_test = np.random.choice(distribution_test.index, size=missing_test, p=distribution_test.values)\n",
    "\n",
    "\n",
    "test_final.loc[test_final['Weapon_Description']=='NA', 'Weapon_Description'] = imputed_values_test"
   ]
  },
  {
   "cell_type": "code",
   "execution_count": 110,
   "id": "51e1de97",
   "metadata": {
    "execution": {
     "iopub.execute_input": "2024-07-18T17:15:17.464399Z",
     "iopub.status.busy": "2024-07-18T17:15:17.463451Z",
     "iopub.status.idle": "2024-07-18T17:15:17.480892Z",
     "shell.execute_reply": "2024-07-18T17:15:17.479784Z"
    },
    "papermill": {
     "duration": 0.087637,
     "end_time": "2024-07-18T17:15:17.483408",
     "exception": false,
     "start_time": "2024-07-18T17:15:17.395771",
     "status": "completed"
    },
    "tags": []
   },
   "outputs": [
    {
     "data": {
      "text/plain": [
       "Location                        0\n",
       "Cross_Street                 4190\n",
       "Latitude                        0\n",
       "Longitude                       0\n",
       "Date_Reported                   0\n",
       "Date_Occurred                   0\n",
       "Time_Occurred                   0\n",
       "Area_ID                         0\n",
       "Area_Name                       0\n",
       "Reporting_District_no           0\n",
       "Part 1-2                        0\n",
       "Modus_Operandi                684\n",
       "Victim_Age                      0\n",
       "Victim_Sex                      0\n",
       "Victim_Descent                643\n",
       "Premise_Code                    0\n",
       "Premise_Description             1\n",
       "Weapon_Used_Code             3153\n",
       "Weapon_Description              0\n",
       "Status                          0\n",
       "Status_Description              0\n",
       "day_category                    0\n",
       "reporting_delay_day_count       0\n",
       "dtype: int64"
      ]
     },
     "execution_count": 110,
     "metadata": {},
     "output_type": "execute_result"
    }
   ],
   "source": [
    "test_final.isnull().sum()"
   ]
  },
  {
   "cell_type": "code",
   "execution_count": 111,
   "id": "1dce7fbb",
   "metadata": {
    "execution": {
     "iopub.execute_input": "2024-07-18T17:15:17.616202Z",
     "iopub.status.busy": "2024-07-18T17:15:17.615736Z",
     "iopub.status.idle": "2024-07-18T17:15:17.631785Z",
     "shell.execute_reply": "2024-07-18T17:15:17.630383Z"
    },
    "papermill": {
     "duration": 0.086736,
     "end_time": "2024-07-18T17:15:17.634762",
     "exception": false,
     "start_time": "2024-07-18T17:15:17.548026",
     "status": "completed"
    },
    "tags": []
   },
   "outputs": [],
   "source": [
    "distribution_Descent_test = test_final['Victim_Descent'].dropna().value_counts(normalize=True)\n",
    "\n",
    "missing_Descent_test = test_final['Victim_Descent'].isna().sum()\n",
    "\n",
    "imputed_values_Descent_test = np.random.choice(distribution_Descent_test.index, size=missing_Descent_test, p=distribution_Descent_test.values)\n",
    "\n",
    "\n",
    "test_final.loc[test_final['Victim_Descent'].isna(), 'Victim_Descent'] = imputed_values_Descent_test\n",
    "\n",
    "\n",
    "\n",
    "\n",
    "\n",
    "# distribution_test = test_final['Victim_Descent'].dropna().value_counts(normalize=True)\n",
    "\n",
    "# missing_test = test_final['Victim_Descent'].isnull().sum()\n",
    "\n",
    "# imputed_values_test = np.random.choice(distribution_test.index, size=missing_test, p=distribution_test.values)\n",
    "\n",
    "# # Impute the missing values\n",
    "# test_final.loc[test_final['Victim_Descent'].isnull(), 'Victim_Descent'] = imputed_values_test"
   ]
  },
  {
   "cell_type": "markdown",
   "id": "a158d821",
   "metadata": {
    "papermill": {
     "duration": 0.06427,
     "end_time": "2024-07-18T17:15:17.762306",
     "exception": false,
     "start_time": "2024-07-18T17:15:17.698036",
     "status": "completed"
    },
    "tags": []
   },
   "source": [
    "# Modus_Operandi"
   ]
  },
  {
   "cell_type": "code",
   "execution_count": 112,
   "id": "bbfad722",
   "metadata": {
    "execution": {
     "iopub.execute_input": "2024-07-18T17:15:17.894425Z",
     "iopub.status.busy": "2024-07-18T17:15:17.893345Z",
     "iopub.status.idle": "2024-07-18T17:15:17.913101Z",
     "shell.execute_reply": "2024-07-18T17:15:17.911707Z"
    },
    "papermill": {
     "duration": 0.088992,
     "end_time": "2024-07-18T17:15:17.915598",
     "exception": false,
     "start_time": "2024-07-18T17:15:17.826606",
     "status": "completed"
    },
    "tags": []
   },
   "outputs": [],
   "source": [
    "test_final.loc[:,'Modus_Operandi'] = test_final.loc[:,'Modus_Operandi'].fillna('')\n",
    "\n",
    "\n",
    "def number_of_activities(s):\n",
    "    if s=='':  # Handle NaN values\n",
    "        return 0\n",
    "    activities_list=s.split()\n",
    "    activity_count = list(set(activities_list))\n",
    "    return len(activity_count)\n",
    "\n",
    "\n",
    "test_final['activity_count']=test_final['Modus_Operandi'].apply(number_of_activities)\n",
    "\n",
    "\n",
    "\n",
    "# def number_of_activities(s):\n",
    "#     if s=='':  # Handle NaN values\n",
    "#         return 0\n",
    "#     activities_list=s.split()\n",
    "#     activity_count = list(set(activities_list))\n",
    "#     activities = set()  # Using a set to avoid duplicates efficiently\n",
    "#     for activity in s.split(' '):\n",
    "#         activities.add(str(activity))\n",
    "#     activities=' '.join(activities)    \n",
    "#     return len(activity_count)\n",
    "# train['activity_count']=train['Modus_Operandi'].apply(number_of_activities)\n"
   ]
  },
  {
   "cell_type": "code",
   "execution_count": 113,
   "id": "0b2151ed",
   "metadata": {
    "execution": {
     "iopub.execute_input": "2024-07-18T17:15:18.044307Z",
     "iopub.status.busy": "2024-07-18T17:15:18.043375Z",
     "iopub.status.idle": "2024-07-18T17:15:18.053998Z",
     "shell.execute_reply": "2024-07-18T17:15:18.052701Z"
    },
    "papermill": {
     "duration": 0.078416,
     "end_time": "2024-07-18T17:15:18.056430",
     "exception": false,
     "start_time": "2024-07-18T17:15:17.978014",
     "status": "completed"
    },
    "tags": []
   },
   "outputs": [],
   "source": [
    "# test_final['Modus_Operandi']=test_final['Modus_Operandi'].apply(number_of_activities)\n",
    "test_final['Part 1-2']=test_final['Part 1-2'].apply(lambda x : str(x))\n"
   ]
  },
  {
   "cell_type": "markdown",
   "id": "d3073974",
   "metadata": {
    "papermill": {
     "duration": 0.064339,
     "end_time": "2024-07-18T17:15:18.184333",
     "exception": false,
     "start_time": "2024-07-18T17:15:18.119994",
     "status": "completed"
    },
    "tags": []
   },
   "source": [
    "# Victim age"
   ]
  },
  {
   "cell_type": "code",
   "execution_count": 114,
   "id": "deab5812",
   "metadata": {
    "execution": {
     "iopub.execute_input": "2024-07-18T17:15:18.382336Z",
     "iopub.status.busy": "2024-07-18T17:15:18.381920Z",
     "iopub.status.idle": "2024-07-18T17:15:18.402105Z",
     "shell.execute_reply": "2024-07-18T17:15:18.400480Z"
    },
    "papermill": {
     "duration": 0.156073,
     "end_time": "2024-07-18T17:15:18.404642",
     "exception": false,
     "start_time": "2024-07-18T17:15:18.248569",
     "status": "completed"
    },
    "tags": []
   },
   "outputs": [
    {
     "name": "stdout",
     "output_type": "stream",
     "text": [
      "[28. 26. 62.  0. 37. 58. 21. 19. 31. 35. 25. 27. 20. 67. 36. 15. 24. 53.\n",
      " 30. 38. 71. 34. 16. 33. 32. 77. 39. 52. 23. 61. 50. 63. 45. 22. 73. 40.\n",
      " 60. 55. 29. 41. 51. 46. -2. 44. 99. 81. 43. 57. 12. 79. 93. 65. 54. 59.\n",
      " 83. 64. 49. 56. 47. 42. 70. 78. 68. 80. 18. 96. 48. 74. 76. 11. 14. 66.\n",
      " 72.  7. 10.  6. 69. 17. 82.  5.  9.  4. 85. 75. 88.  8. 86. 13.  3.  2.\n",
      " -1. 84. 90. 91.]\n",
      "---------------------------------------------------------------\n",
      "[28. 26. 62.  0. 37. 58. 21. 19. 31. 35. 25. 27. 20. 67. 36. 15. 24. 53.\n",
      " 30. 38. 71. 34. 16. 33. 32. 77. 39. 52. 23. 61. 50. 63. 45. 22. 73. 40.\n",
      " 60. 55. 29. 41. 51. 46. 44. 99. 81. 43. 57. 12. 79. 93. 65. 54. 59. 83.\n",
      " 64. 49. 56. 47. 42. 70. 78. 68. 80. 18. 96. 48. 74. 76. 11. 14. 66. 72.\n",
      "  7. 10.  6. 69. 17. 82.  5.  9.  4. 85. 75. 88.  8. 86. 13.  3.  2. 84.\n",
      " 90. 91.]\n",
      "---------------------------------------------------------------\n"
     ]
    }
   ],
   "source": [
    "print(test_final['Victim_Age'].unique())\n",
    "\n",
    "test_final.loc[test_final['Victim_Age']<0,'Victim_Age']=0\n",
    "\n",
    "print('---------------------------------------------------------------')\n",
    "\n",
    "\n",
    "print(test_final['Victim_Age'].unique())\n",
    "\n",
    "print('---------------------------------------------------------------')\n",
    "\n",
    "\n",
    "test_final.loc[:,'Victim_Age']=test_final.loc[:,'Victim_Age'].apply(lambda x : int(x))\n",
    "\n",
    "\n",
    "test_final.loc[test_final['Victim_Age']==0,'Victim_Age']=test_final['Victim_Age'].mean()\n"
   ]
  },
  {
   "cell_type": "code",
   "execution_count": 115,
   "id": "9b96e326",
   "metadata": {
    "execution": {
     "iopub.execute_input": "2024-07-18T17:15:18.537077Z",
     "iopub.status.busy": "2024-07-18T17:15:18.535968Z",
     "iopub.status.idle": "2024-07-18T17:15:18.541321Z",
     "shell.execute_reply": "2024-07-18T17:15:18.540078Z"
    },
    "papermill": {
     "duration": 0.072354,
     "end_time": "2024-07-18T17:15:18.543737",
     "exception": false,
     "start_time": "2024-07-18T17:15:18.471383",
     "status": "completed"
    },
    "tags": []
   },
   "outputs": [],
   "source": [
    "# test_final.loc[test_final['Weapon_Description'] == 'STRONG-ARM (HANDS, FIST, FEET OR BODILY FORCE)', 'Weapon_Description'] = 'Physical Force'\n",
    "\n",
    "\n",
    "\n",
    "# test_final.loc[:,'Weapon_Description']=test_final['Weapon_Description'].apply(gun)"
   ]
  },
  {
   "cell_type": "code",
   "execution_count": 116,
   "id": "ad78e36a",
   "metadata": {
    "execution": {
     "iopub.execute_input": "2024-07-18T17:15:18.672955Z",
     "iopub.status.busy": "2024-07-18T17:15:18.672534Z",
     "iopub.status.idle": "2024-07-18T17:15:18.678365Z",
     "shell.execute_reply": "2024-07-18T17:15:18.676972Z"
    },
    "papermill": {
     "duration": 0.073674,
     "end_time": "2024-07-18T17:15:18.680857",
     "exception": false,
     "start_time": "2024-07-18T17:15:18.607183",
     "status": "completed"
    },
    "tags": []
   },
   "outputs": [],
   "source": [
    "# test=test[['Latitude','Longitude','reporting_delay_day_count','day_category','Victim_Age','Victim_Sex','Victim_Descent','Weapon_Description','Area_ID','Modus_Operandi','Part 1-2','Status']]"
   ]
  },
  {
   "cell_type": "code",
   "execution_count": 117,
   "id": "3fb0245f",
   "metadata": {
    "execution": {
     "iopub.execute_input": "2024-07-18T17:15:18.811672Z",
     "iopub.status.busy": "2024-07-18T17:15:18.811264Z",
     "iopub.status.idle": "2024-07-18T17:15:18.826657Z",
     "shell.execute_reply": "2024-07-18T17:15:18.825612Z"
    },
    "papermill": {
     "duration": 0.082876,
     "end_time": "2024-07-18T17:15:18.829350",
     "exception": false,
     "start_time": "2024-07-18T17:15:18.746474",
     "status": "completed"
    },
    "tags": []
   },
   "outputs": [
    {
     "name": "stderr",
     "output_type": "stream",
     "text": [
      "/tmp/ipykernel_18/4105633067.py:1: FutureWarning: Setting an item of incompatible dtype is deprecated and will raise in a future error of pandas. Value '['3.0' '20.0' '18.0' ... '19.0' '1.0' '18.0']' has dtype incompatible with float64, please explicitly cast to a compatible dtype first.\n",
      "  test_final.loc[:,'Area_ID']=test_final.loc[:,'Area_ID'].apply(lambda x : str(x))\n"
     ]
    }
   ],
   "source": [
    "test_final.loc[:,'Area_ID']=test_final.loc[:,'Area_ID'].apply(lambda x : str(x))\n",
    "test_final=test_final[['Latitude','Longitude','Victim_Age','activity_count','reporting_delay_day_count','Area_ID','Part 1-2','Victim_Sex','Victim_Descent','Weapon_Description','Status','day_category','Modus_Operandi']]\n"
   ]
  },
  {
   "cell_type": "code",
   "execution_count": 118,
   "id": "79e6c331",
   "metadata": {
    "execution": {
     "iopub.execute_input": "2024-07-18T17:15:18.960323Z",
     "iopub.status.busy": "2024-07-18T17:15:18.959223Z",
     "iopub.status.idle": "2024-07-18T17:15:18.980434Z",
     "shell.execute_reply": "2024-07-18T17:15:18.978992Z"
    },
    "papermill": {
     "duration": 0.089235,
     "end_time": "2024-07-18T17:15:18.983445",
     "exception": false,
     "start_time": "2024-07-18T17:15:18.894210",
     "status": "completed"
    },
    "tags": []
   },
   "outputs": [
    {
     "name": "stdout",
     "output_type": "stream",
     "text": [
      "<class 'pandas.core.frame.DataFrame'>\n",
      "RangeIndex: 5000 entries, 0 to 4999\n",
      "Data columns (total 13 columns):\n",
      " #   Column                     Non-Null Count  Dtype  \n",
      "---  ------                     --------------  -----  \n",
      " 0   Latitude                   5000 non-null   float64\n",
      " 1   Longitude                  5000 non-null   float64\n",
      " 2   Victim_Age                 5000 non-null   float64\n",
      " 3   activity_count             5000 non-null   int64  \n",
      " 4   reporting_delay_day_count  5000 non-null   object \n",
      " 5   Area_ID                    5000 non-null   object \n",
      " 6   Part 1-2                   5000 non-null   object \n",
      " 7   Victim_Sex                 5000 non-null   object \n",
      " 8   Victim_Descent             5000 non-null   object \n",
      " 9   Weapon_Description         5000 non-null   object \n",
      " 10  Status                     5000 non-null   object \n",
      " 11  day_category               5000 non-null   object \n",
      " 12  Modus_Operandi             5000 non-null   object \n",
      "dtypes: float64(3), int64(1), object(9)\n",
      "memory usage: 507.9+ KB\n"
     ]
    }
   ],
   "source": [
    "test_final.info()"
   ]
  },
  {
   "cell_type": "code",
   "execution_count": 119,
   "id": "ba60fac6",
   "metadata": {
    "execution": {
     "iopub.execute_input": "2024-07-18T17:15:19.119920Z",
     "iopub.status.busy": "2024-07-18T17:15:19.118997Z",
     "iopub.status.idle": "2024-07-18T17:15:19.143850Z",
     "shell.execute_reply": "2024-07-18T17:15:19.142253Z"
    },
    "papermill": {
     "duration": 0.094622,
     "end_time": "2024-07-18T17:15:19.146556",
     "exception": false,
     "start_time": "2024-07-18T17:15:19.051934",
     "status": "completed"
    },
    "tags": []
   },
   "outputs": [
    {
     "data": {
      "text/html": [
       "<div>\n",
       "<style scoped>\n",
       "    .dataframe tbody tr th:only-of-type {\n",
       "        vertical-align: middle;\n",
       "    }\n",
       "\n",
       "    .dataframe tbody tr th {\n",
       "        vertical-align: top;\n",
       "    }\n",
       "\n",
       "    .dataframe thead th {\n",
       "        text-align: right;\n",
       "    }\n",
       "</style>\n",
       "<table border=\"1\" class=\"dataframe\">\n",
       "  <thead>\n",
       "    <tr style=\"text-align: right;\">\n",
       "      <th></th>\n",
       "      <th>Latitude</th>\n",
       "      <th>Longitude</th>\n",
       "      <th>Victim_Age</th>\n",
       "      <th>activity_count</th>\n",
       "      <th>reporting_delay_day_count</th>\n",
       "      <th>Area_ID</th>\n",
       "      <th>Part 1-2</th>\n",
       "      <th>Victim_Sex</th>\n",
       "      <th>Victim_Descent</th>\n",
       "      <th>Weapon_Description</th>\n",
       "      <th>Status</th>\n",
       "      <th>day_category</th>\n",
       "      <th>Modus_Operandi</th>\n",
       "    </tr>\n",
       "  </thead>\n",
       "  <tbody>\n",
       "    <tr>\n",
       "      <th>0</th>\n",
       "      <td>34.0128</td>\n",
       "      <td>-118.3045</td>\n",
       "      <td>28.000</td>\n",
       "      <td>6</td>\n",
       "      <td>0</td>\n",
       "      <td>3.0</td>\n",
       "      <td>2.0</td>\n",
       "      <td>F</td>\n",
       "      <td>H</td>\n",
       "      <td>Physical Force</td>\n",
       "      <td>IC</td>\n",
       "      <td>Evening</td>\n",
       "      <td>0416 1241 1243 1813 1821 2000</td>\n",
       "    </tr>\n",
       "    <tr>\n",
       "      <th>1</th>\n",
       "      <td>34.0726</td>\n",
       "      <td>-118.3029</td>\n",
       "      <td>26.000</td>\n",
       "      <td>2</td>\n",
       "      <td>37</td>\n",
       "      <td>20.0</td>\n",
       "      <td>1.0</td>\n",
       "      <td>M</td>\n",
       "      <td>B</td>\n",
       "      <td>Physical Force</td>\n",
       "      <td>IC</td>\n",
       "      <td>Night</td>\n",
       "      <td>0344 0394</td>\n",
       "    </tr>\n",
       "    <tr>\n",
       "      <th>2</th>\n",
       "      <td>33.9348</td>\n",
       "      <td>-118.2695</td>\n",
       "      <td>62.000</td>\n",
       "      <td>6</td>\n",
       "      <td>1</td>\n",
       "      <td>18.0</td>\n",
       "      <td>2.0</td>\n",
       "      <td>F</td>\n",
       "      <td>B</td>\n",
       "      <td>sharp_heavy_object</td>\n",
       "      <td>IC</td>\n",
       "      <td>Morning</td>\n",
       "      <td>1822 0701 1914 0355 1202 0100</td>\n",
       "    </tr>\n",
       "    <tr>\n",
       "      <th>3</th>\n",
       "      <td>34.0497</td>\n",
       "      <td>-118.3442</td>\n",
       "      <td>30.593</td>\n",
       "      <td>0</td>\n",
       "      <td>20</td>\n",
       "      <td>7.0</td>\n",
       "      <td>1.0</td>\n",
       "      <td>M</td>\n",
       "      <td>H</td>\n",
       "      <td>Physical Force</td>\n",
       "      <td>IC</td>\n",
       "      <td>Night</td>\n",
       "      <td></td>\n",
       "    </tr>\n",
       "    <tr>\n",
       "      <th>4</th>\n",
       "      <td>34.1611</td>\n",
       "      <td>-118.3704</td>\n",
       "      <td>37.000</td>\n",
       "      <td>1</td>\n",
       "      <td>1</td>\n",
       "      <td>15.0</td>\n",
       "      <td>2.0</td>\n",
       "      <td>F</td>\n",
       "      <td>W</td>\n",
       "      <td>sharp_heavy_object</td>\n",
       "      <td>AO</td>\n",
       "      <td>Night</td>\n",
       "      <td>1501</td>\n",
       "    </tr>\n",
       "    <tr>\n",
       "      <th>...</th>\n",
       "      <td>...</td>\n",
       "      <td>...</td>\n",
       "      <td>...</td>\n",
       "      <td>...</td>\n",
       "      <td>...</td>\n",
       "      <td>...</td>\n",
       "      <td>...</td>\n",
       "      <td>...</td>\n",
       "      <td>...</td>\n",
       "      <td>...</td>\n",
       "      <td>...</td>\n",
       "      <td>...</td>\n",
       "      <td>...</td>\n",
       "    </tr>\n",
       "    <tr>\n",
       "      <th>4995</th>\n",
       "      <td>34.0409</td>\n",
       "      <td>-118.3408</td>\n",
       "      <td>30.593</td>\n",
       "      <td>0</td>\n",
       "      <td>1</td>\n",
       "      <td>7.0</td>\n",
       "      <td>1.0</td>\n",
       "      <td>M</td>\n",
       "      <td>W</td>\n",
       "      <td>Physical Force</td>\n",
       "      <td>IC</td>\n",
       "      <td>Night</td>\n",
       "      <td></td>\n",
       "    </tr>\n",
       "    <tr>\n",
       "      <th>4996</th>\n",
       "      <td>34.0347</td>\n",
       "      <td>-118.2253</td>\n",
       "      <td>30.593</td>\n",
       "      <td>2</td>\n",
       "      <td>7</td>\n",
       "      <td>4.0</td>\n",
       "      <td>1.0</td>\n",
       "      <td>X</td>\n",
       "      <td>X</td>\n",
       "      <td>sharp_heavy_object</td>\n",
       "      <td>IC</td>\n",
       "      <td>Daytime</td>\n",
       "      <td>1300 0325</td>\n",
       "    </tr>\n",
       "    <tr>\n",
       "      <th>4997</th>\n",
       "      <td>34.2392</td>\n",
       "      <td>-118.4698</td>\n",
       "      <td>38.000</td>\n",
       "      <td>3</td>\n",
       "      <td>0</td>\n",
       "      <td>19.0</td>\n",
       "      <td>2.0</td>\n",
       "      <td>M</td>\n",
       "      <td>H</td>\n",
       "      <td>Physical Force</td>\n",
       "      <td>AA</td>\n",
       "      <td>Night</td>\n",
       "      <td>0913 1817 0416</td>\n",
       "    </tr>\n",
       "    <tr>\n",
       "      <th>4998</th>\n",
       "      <td>34.0453</td>\n",
       "      <td>-118.2443</td>\n",
       "      <td>41.000</td>\n",
       "      <td>1</td>\n",
       "      <td>1</td>\n",
       "      <td>1.0</td>\n",
       "      <td>2.0</td>\n",
       "      <td>M</td>\n",
       "      <td>B</td>\n",
       "      <td>sharp_heavy_object</td>\n",
       "      <td>AO</td>\n",
       "      <td>Night</td>\n",
       "      <td>0416</td>\n",
       "    </tr>\n",
       "    <tr>\n",
       "      <th>4999</th>\n",
       "      <td>33.9438</td>\n",
       "      <td>-118.2695</td>\n",
       "      <td>49.000</td>\n",
       "      <td>2</td>\n",
       "      <td>0</td>\n",
       "      <td>18.0</td>\n",
       "      <td>2.0</td>\n",
       "      <td>M</td>\n",
       "      <td>B</td>\n",
       "      <td>Physical Force</td>\n",
       "      <td>IC</td>\n",
       "      <td>Night</td>\n",
       "      <td>1822 0329</td>\n",
       "    </tr>\n",
       "  </tbody>\n",
       "</table>\n",
       "<p>5000 rows × 13 columns</p>\n",
       "</div>"
      ],
      "text/plain": [
       "      Latitude  Longitude  Victim_Age  activity_count  \\\n",
       "0      34.0128  -118.3045      28.000               6   \n",
       "1      34.0726  -118.3029      26.000               2   \n",
       "2      33.9348  -118.2695      62.000               6   \n",
       "3      34.0497  -118.3442      30.593               0   \n",
       "4      34.1611  -118.3704      37.000               1   \n",
       "...        ...        ...         ...             ...   \n",
       "4995   34.0409  -118.3408      30.593               0   \n",
       "4996   34.0347  -118.2253      30.593               2   \n",
       "4997   34.2392  -118.4698      38.000               3   \n",
       "4998   34.0453  -118.2443      41.000               1   \n",
       "4999   33.9438  -118.2695      49.000               2   \n",
       "\n",
       "     reporting_delay_day_count Area_ID Part 1-2 Victim_Sex Victim_Descent  \\\n",
       "0                            0     3.0      2.0          F              H   \n",
       "1                           37    20.0      1.0          M              B   \n",
       "2                            1    18.0      2.0          F              B   \n",
       "3                           20     7.0      1.0          M              H   \n",
       "4                            1    15.0      2.0          F              W   \n",
       "...                        ...     ...      ...        ...            ...   \n",
       "4995                         1     7.0      1.0          M              W   \n",
       "4996                         7     4.0      1.0          X              X   \n",
       "4997                         0    19.0      2.0          M              H   \n",
       "4998                         1     1.0      2.0          M              B   \n",
       "4999                         0    18.0      2.0          M              B   \n",
       "\n",
       "      Weapon_Description Status day_category                 Modus_Operandi  \n",
       "0         Physical Force     IC      Evening  0416 1241 1243 1813 1821 2000  \n",
       "1         Physical Force     IC        Night                      0344 0394  \n",
       "2     sharp_heavy_object     IC      Morning  1822 0701 1914 0355 1202 0100  \n",
       "3         Physical Force     IC        Night                                 \n",
       "4     sharp_heavy_object     AO        Night                           1501  \n",
       "...                  ...    ...          ...                            ...  \n",
       "4995      Physical Force     IC        Night                                 \n",
       "4996  sharp_heavy_object     IC      Daytime                      1300 0325  \n",
       "4997      Physical Force     AA        Night                 0913 1817 0416  \n",
       "4998  sharp_heavy_object     AO        Night                           0416  \n",
       "4999      Physical Force     IC        Night                      1822 0329  \n",
       "\n",
       "[5000 rows x 13 columns]"
      ]
     },
     "execution_count": 119,
     "metadata": {},
     "output_type": "execute_result"
    }
   ],
   "source": [
    "test_final"
   ]
  },
  {
   "cell_type": "code",
   "execution_count": 120,
   "id": "0b8f75fe",
   "metadata": {
    "execution": {
     "iopub.execute_input": "2024-07-18T17:15:19.276901Z",
     "iopub.status.busy": "2024-07-18T17:15:19.276492Z",
     "iopub.status.idle": "2024-07-18T17:15:19.283989Z",
     "shell.execute_reply": "2024-07-18T17:15:19.282904Z"
    },
    "papermill": {
     "duration": 0.075055,
     "end_time": "2024-07-18T17:15:19.286441",
     "exception": false,
     "start_time": "2024-07-18T17:15:19.211386",
     "status": "completed"
    },
    "tags": []
   },
   "outputs": [
    {
     "data": {
      "text/plain": [
       "(5000, 13)"
      ]
     },
     "execution_count": 120,
     "metadata": {},
     "output_type": "execute_result"
    }
   ],
   "source": [
    "test_final.shape"
   ]
  },
  {
   "cell_type": "code",
   "execution_count": 121,
   "id": "805c0ab0",
   "metadata": {
    "execution": {
     "iopub.execute_input": "2024-07-18T17:15:19.418531Z",
     "iopub.status.busy": "2024-07-18T17:15:19.416998Z",
     "iopub.status.idle": "2024-07-18T17:15:19.440894Z",
     "shell.execute_reply": "2024-07-18T17:15:19.439711Z"
    },
    "papermill": {
     "duration": 0.093355,
     "end_time": "2024-07-18T17:15:19.443299",
     "exception": false,
     "start_time": "2024-07-18T17:15:19.349944",
     "status": "completed"
    },
    "tags": []
   },
   "outputs": [
    {
     "data": {
      "text/html": [
       "<div>\n",
       "<style scoped>\n",
       "    .dataframe tbody tr th:only-of-type {\n",
       "        vertical-align: middle;\n",
       "    }\n",
       "\n",
       "    .dataframe tbody tr th {\n",
       "        vertical-align: top;\n",
       "    }\n",
       "\n",
       "    .dataframe thead th {\n",
       "        text-align: right;\n",
       "    }\n",
       "</style>\n",
       "<table border=\"1\" class=\"dataframe\">\n",
       "  <thead>\n",
       "    <tr style=\"text-align: right;\">\n",
       "      <th></th>\n",
       "      <th>ID</th>\n",
       "      <th>Crime_Category</th>\n",
       "      <th>Unnamed: 2</th>\n",
       "    </tr>\n",
       "  </thead>\n",
       "  <tbody>\n",
       "    <tr>\n",
       "      <th>0</th>\n",
       "      <td>1</td>\n",
       "      <td>Crimes against Persons</td>\n",
       "      <td>NaN</td>\n",
       "    </tr>\n",
       "    <tr>\n",
       "      <th>1</th>\n",
       "      <td>2</td>\n",
       "      <td>Crimes against Public Order</td>\n",
       "      <td>NaN</td>\n",
       "    </tr>\n",
       "    <tr>\n",
       "      <th>2</th>\n",
       "      <td>3</td>\n",
       "      <td>Other Crimes</td>\n",
       "      <td>NaN</td>\n",
       "    </tr>\n",
       "    <tr>\n",
       "      <th>3</th>\n",
       "      <td>4</td>\n",
       "      <td>Crimes against Public Order</td>\n",
       "      <td>NaN</td>\n",
       "    </tr>\n",
       "    <tr>\n",
       "      <th>4</th>\n",
       "      <td>5</td>\n",
       "      <td>Other Crimes</td>\n",
       "      <td>NaN</td>\n",
       "    </tr>\n",
       "    <tr>\n",
       "      <th>...</th>\n",
       "      <td>...</td>\n",
       "      <td>...</td>\n",
       "      <td>...</td>\n",
       "    </tr>\n",
       "    <tr>\n",
       "      <th>995</th>\n",
       "      <td>996</td>\n",
       "      <td>Fraud and White-Collar Crimes</td>\n",
       "      <td>NaN</td>\n",
       "    </tr>\n",
       "    <tr>\n",
       "      <th>996</th>\n",
       "      <td>997</td>\n",
       "      <td>Property Crimes</td>\n",
       "      <td>NaN</td>\n",
       "    </tr>\n",
       "    <tr>\n",
       "      <th>997</th>\n",
       "      <td>998</td>\n",
       "      <td>Violent Crimes</td>\n",
       "      <td>NaN</td>\n",
       "    </tr>\n",
       "    <tr>\n",
       "      <th>998</th>\n",
       "      <td>999</td>\n",
       "      <td>Property Crimes</td>\n",
       "      <td>NaN</td>\n",
       "    </tr>\n",
       "    <tr>\n",
       "      <th>999</th>\n",
       "      <td>1000</td>\n",
       "      <td>Violent Crimes</td>\n",
       "      <td>NaN</td>\n",
       "    </tr>\n",
       "  </tbody>\n",
       "</table>\n",
       "<p>1000 rows × 3 columns</p>\n",
       "</div>"
      ],
      "text/plain": [
       "       ID                Crime_Category   Unnamed: 2\n",
       "0       1         Crimes against Persons         NaN\n",
       "1       2    Crimes against Public Order         NaN\n",
       "2       3                   Other Crimes         NaN\n",
       "3       4    Crimes against Public Order         NaN\n",
       "4       5                   Other Crimes         NaN\n",
       "..    ...                            ...         ...\n",
       "995   996  Fraud and White-Collar Crimes         NaN\n",
       "996   997                Property Crimes         NaN\n",
       "997   998                 Violent Crimes         NaN\n",
       "998   999                Property Crimes         NaN\n",
       "999  1000                 Violent Crimes         NaN\n",
       "\n",
       "[1000 rows x 3 columns]"
      ]
     },
     "execution_count": 121,
     "metadata": {},
     "output_type": "execute_result"
    }
   ],
   "source": [
    "sample=pd.read_csv('/kaggle/input/crime-cast-forecasting-crime-categories/sample.csv')\n",
    "sample"
   ]
  },
  {
   "cell_type": "code",
   "execution_count": 122,
   "id": "5072edd2",
   "metadata": {
    "execution": {
     "iopub.execute_input": "2024-07-18T17:15:19.575724Z",
     "iopub.status.busy": "2024-07-18T17:15:19.575313Z",
     "iopub.status.idle": "2024-07-18T17:15:19.590739Z",
     "shell.execute_reply": "2024-07-18T17:15:19.589493Z"
    },
    "papermill": {
     "duration": 0.083511,
     "end_time": "2024-07-18T17:15:19.593190",
     "exception": false,
     "start_time": "2024-07-18T17:15:19.509679",
     "status": "completed"
    },
    "tags": []
   },
   "outputs": [
    {
     "data": {
      "text/plain": [
       "Latitude                     0\n",
       "Longitude                    0\n",
       "Victim_Age                   0\n",
       "activity_count               0\n",
       "reporting_delay_day_count    0\n",
       "Area_ID                      0\n",
       "Part 1-2                     0\n",
       "Victim_Sex                   0\n",
       "Victim_Descent               0\n",
       "Weapon_Description           0\n",
       "Status                       0\n",
       "day_category                 0\n",
       "Modus_Operandi               0\n",
       "dtype: int64"
      ]
     },
     "execution_count": 122,
     "metadata": {},
     "output_type": "execute_result"
    }
   ],
   "source": [
    "test_final.isnull().sum()"
   ]
  },
  {
   "cell_type": "code",
   "execution_count": 123,
   "id": "3c291b69",
   "metadata": {
    "execution": {
     "iopub.execute_input": "2024-07-18T17:15:19.723997Z",
     "iopub.status.busy": "2024-07-18T17:15:19.723584Z",
     "iopub.status.idle": "2024-07-18T17:15:19.730679Z",
     "shell.execute_reply": "2024-07-18T17:15:19.729320Z"
    },
    "papermill": {
     "duration": 0.075294,
     "end_time": "2024-07-18T17:15:19.733214",
     "exception": false,
     "start_time": "2024-07-18T17:15:19.657920",
     "status": "completed"
    },
    "tags": []
   },
   "outputs": [
    {
     "name": "stdout",
     "output_type": "stream",
     "text": [
      "Train features: Index(['Latitude', 'Longitude', 'Victim_Age', 'activity_count',\n",
      "       'reporting_delay_day_count', 'Area_ID', 'Part 1-2', 'Victim_Sex',\n",
      "       'Victim_Descent', 'Weapon_Description', 'Status', 'day_category',\n",
      "       'Modus_Operandi'],\n",
      "      dtype='object')\n",
      "Test features: Index(['Latitude', 'Longitude', 'Victim_Age', 'activity_count',\n",
      "       'reporting_delay_day_count', 'Area_ID', 'Part 1-2', 'Victim_Sex',\n",
      "       'Victim_Descent', 'Weapon_Description', 'Status', 'day_category',\n",
      "       'Modus_Operandi'],\n",
      "      dtype='object')\n"
     ]
    }
   ],
   "source": [
    "print(\"Train features:\", xtrain_1.columns)\n",
    "print(\"Test features:\", test_final.columns)"
   ]
  },
  {
   "cell_type": "code",
   "execution_count": 124,
   "id": "6d06818d",
   "metadata": {
    "execution": {
     "iopub.execute_input": "2024-07-18T17:15:19.866877Z",
     "iopub.status.busy": "2024-07-18T17:15:19.866047Z",
     "iopub.status.idle": "2024-07-18T17:15:20.032385Z",
     "shell.execute_reply": "2024-07-18T17:15:20.030832Z"
    },
    "papermill": {
     "duration": 0.236026,
     "end_time": "2024-07-18T17:15:20.035268",
     "exception": false,
     "start_time": "2024-07-18T17:15:19.799242",
     "status": "completed"
    },
    "tags": []
   },
   "outputs": [],
   "source": [
    "y_pred_submission=histGradientBoostingClassifier.predict(test_final)\n",
    "submission=pd.DataFrame({'ID': np.arange(1,5000+1), 'Crime_Category': y_pred_submission})\n",
    "\n",
    "submission.to_csv('submission.csv',index=False)"
   ]
  }
 ],
 "metadata": {
  "kaggle": {
   "accelerator": "none",
   "dataSources": [
    {
     "databundleVersionId": 8446444,
     "sourceId": 77420,
     "sourceType": "competition"
    }
   ],
   "dockerImageVersionId": 30715,
   "isGpuEnabled": false,
   "isInternetEnabled": false,
   "language": "python",
   "sourceType": "notebook"
  },
  "kernelspec": {
   "display_name": "Python 3",
   "language": "python",
   "name": "python3"
  },
  "language_info": {
   "codemirror_mode": {
    "name": "ipython",
    "version": 3
   },
   "file_extension": ".py",
   "mimetype": "text/x-python",
   "name": "python",
   "nbconvert_exporter": "python",
   "pygments_lexer": "ipython3",
   "version": "3.10.13"
  },
  "papermill": {
   "default_parameters": {},
   "duration": 351.865981,
   "end_time": "2024-07-18T17:15:20.827753",
   "environment_variables": {},
   "exception": null,
   "input_path": "__notebook__.ipynb",
   "output_path": "__notebook__.ipynb",
   "parameters": {},
   "start_time": "2024-07-18T17:09:28.961772",
   "version": "2.5.0"
  }
 },
 "nbformat": 4,
 "nbformat_minor": 5
}
