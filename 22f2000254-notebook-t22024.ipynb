{
 "cells": [
  {
   "cell_type": "code",
   "execution_count": 1,
   "id": "911aa737",
   "metadata": {
    "_cell_guid": "b1076dfc-b9ad-4769-8c92-a6c4dae69d19",
    "_uuid": "8f2839f25d086af736a60e9eeb907d3b93b6e0e5",
    "execution": {
     "iopub.execute_input": "2024-06-22T14:33:16.774595Z",
     "iopub.status.busy": "2024-06-22T14:33:16.774068Z",
     "iopub.status.idle": "2024-06-22T14:33:17.964141Z",
     "shell.execute_reply": "2024-06-22T14:33:17.962630Z"
    },
    "papermill": {
     "duration": 1.228845,
     "end_time": "2024-06-22T14:33:17.967721",
     "exception": false,
     "start_time": "2024-06-22T14:33:16.738876",
     "status": "completed"
    },
    "tags": []
   },
   "outputs": [
    {
     "name": "stdout",
     "output_type": "stream",
     "text": [
      "/kaggle/input/crime-cast-forecasting-crime-categories/sample.csv\n",
      "/kaggle/input/crime-cast-forecasting-crime-categories/train.csv\n",
      "/kaggle/input/crime-cast-forecasting-crime-categories/test.csv\n"
     ]
    }
   ],
   "source": [
    "# This Python 3 environment comes with many helpful analytics libraries installed\n",
    "# It is defined by the kaggle/python Docker image: https://github.com/kaggle/docker-python\n",
    "# For example, here's several helpful packages to load\n",
    "\n",
    "import numpy as np # linear algebra\n",
    "import pandas as pd # data processing, CSV file I/O (e.g. pd.read_csv)\n",
    "\n",
    "# Input data files are available in the read-only \"../input/\" directory\n",
    "# For example, running this (by clicking run or pressing Shift+Enter) will list all files under the input directory\n",
    "\n",
    "import os\n",
    "for dirname, _, filenames in os.walk('/kaggle/input'):\n",
    "    for filename in filenames:\n",
    "        print(os.path.join(dirname, filename))\n",
    "\n",
    "# You can write up to 20GB to the current directory (/kaggle/working/) that gets preserved as output when you create a version using \"Save & Run All\" \n",
    "# You can also write temporary files to /kaggle/temp/, but they won't be saved outside of the current session"
   ]
  },
  {
   "cell_type": "code",
   "execution_count": 2,
   "id": "2b4725c3",
   "metadata": {
    "execution": {
     "iopub.execute_input": "2024-06-22T14:33:18.036971Z",
     "iopub.status.busy": "2024-06-22T14:33:18.035511Z",
     "iopub.status.idle": "2024-06-22T14:33:20.229198Z",
     "shell.execute_reply": "2024-06-22T14:33:20.227308Z"
    },
    "papermill": {
     "duration": 2.231363,
     "end_time": "2024-06-22T14:33:20.233170",
     "exception": false,
     "start_time": "2024-06-22T14:33:18.001807",
     "status": "completed"
    },
    "tags": []
   },
   "outputs": [],
   "source": [
    "import matplotlib.pyplot as plt\n",
    "import seaborn as sns \n",
    "\n",
    "\n",
    "import datetime\n",
    "\n",
    "\n",
    "from sklearn.model_selection import train_test_split "
   ]
  },
  {
   "cell_type": "code",
   "execution_count": 3,
   "id": "edb943fc",
   "metadata": {
    "execution": {
     "iopub.execute_input": "2024-06-22T14:33:20.310562Z",
     "iopub.status.busy": "2024-06-22T14:33:20.308158Z",
     "iopub.status.idle": "2024-06-22T14:33:20.642896Z",
     "shell.execute_reply": "2024-06-22T14:33:20.641613Z"
    },
    "papermill": {
     "duration": 0.372562,
     "end_time": "2024-06-22T14:33:20.645868",
     "exception": false,
     "start_time": "2024-06-22T14:33:20.273306",
     "status": "completed"
    },
    "tags": []
   },
   "outputs": [],
   "source": [
    "train =pd.read_csv('/kaggle/input/crime-cast-forecasting-crime-categories/train.csv')\n",
    "test=pd.read_csv('/kaggle/input/crime-cast-forecasting-crime-categories/test.csv')\n"
   ]
  },
  {
   "cell_type": "code",
   "execution_count": 4,
   "id": "6a3de37c",
   "metadata": {
    "execution": {
     "iopub.execute_input": "2024-06-22T14:33:20.711725Z",
     "iopub.status.busy": "2024-06-22T14:33:20.711286Z",
     "iopub.status.idle": "2024-06-22T14:33:20.785752Z",
     "shell.execute_reply": "2024-06-22T14:33:20.784295Z"
    },
    "papermill": {
     "duration": 0.109961,
     "end_time": "2024-06-22T14:33:20.788556",
     "exception": false,
     "start_time": "2024-06-22T14:33:20.678595",
     "status": "completed"
    },
    "tags": []
   },
   "outputs": [
    {
     "data": {
      "text/html": [
       "<div>\n",
       "<style scoped>\n",
       "    .dataframe tbody tr th:only-of-type {\n",
       "        vertical-align: middle;\n",
       "    }\n",
       "\n",
       "    .dataframe tbody tr th {\n",
       "        vertical-align: top;\n",
       "    }\n",
       "\n",
       "    .dataframe thead th {\n",
       "        text-align: right;\n",
       "    }\n",
       "</style>\n",
       "<table border=\"1\" class=\"dataframe\">\n",
       "  <thead>\n",
       "    <tr style=\"text-align: right;\">\n",
       "      <th></th>\n",
       "      <th>Location</th>\n",
       "      <th>Cross_Street</th>\n",
       "      <th>Latitude</th>\n",
       "      <th>Longitude</th>\n",
       "      <th>Date_Reported</th>\n",
       "      <th>Date_Occurred</th>\n",
       "      <th>Time_Occurred</th>\n",
       "      <th>Area_ID</th>\n",
       "      <th>Area_Name</th>\n",
       "      <th>Reporting_District_no</th>\n",
       "      <th>...</th>\n",
       "      <th>Victim_Age</th>\n",
       "      <th>Victim_Sex</th>\n",
       "      <th>Victim_Descent</th>\n",
       "      <th>Premise_Code</th>\n",
       "      <th>Premise_Description</th>\n",
       "      <th>Weapon_Used_Code</th>\n",
       "      <th>Weapon_Description</th>\n",
       "      <th>Status</th>\n",
       "      <th>Status_Description</th>\n",
       "      <th>Crime_Category</th>\n",
       "    </tr>\n",
       "  </thead>\n",
       "  <tbody>\n",
       "    <tr>\n",
       "      <th>0</th>\n",
       "      <td>4500    CARPENTER                    AV</td>\n",
       "      <td>NaN</td>\n",
       "      <td>34.1522</td>\n",
       "      <td>-118.3910</td>\n",
       "      <td>03/09/2020 12:00:00 AM</td>\n",
       "      <td>03/06/2020 12:00:00 AM</td>\n",
       "      <td>1800.0</td>\n",
       "      <td>15.0</td>\n",
       "      <td>N Hollywood</td>\n",
       "      <td>1563.0</td>\n",
       "      <td>...</td>\n",
       "      <td>75.0</td>\n",
       "      <td>M</td>\n",
       "      <td>W</td>\n",
       "      <td>101.0</td>\n",
       "      <td>STREET</td>\n",
       "      <td>NaN</td>\n",
       "      <td>NaN</td>\n",
       "      <td>IC</td>\n",
       "      <td>Invest Cont</td>\n",
       "      <td>Property Crimes</td>\n",
       "    </tr>\n",
       "    <tr>\n",
       "      <th>1</th>\n",
       "      <td>45TH                         ST</td>\n",
       "      <td>ALAMEDA                      ST</td>\n",
       "      <td>34.0028</td>\n",
       "      <td>-118.2391</td>\n",
       "      <td>02/27/2020 12:00:00 AM</td>\n",
       "      <td>02/27/2020 12:00:00 AM</td>\n",
       "      <td>1345.0</td>\n",
       "      <td>13.0</td>\n",
       "      <td>Newton</td>\n",
       "      <td>1367.0</td>\n",
       "      <td>...</td>\n",
       "      <td>41.0</td>\n",
       "      <td>M</td>\n",
       "      <td>H</td>\n",
       "      <td>216.0</td>\n",
       "      <td>SWAP MEET</td>\n",
       "      <td>400.0</td>\n",
       "      <td>STRONG-ARM (HANDS, FIST, FEET OR BODILY FORCE)</td>\n",
       "      <td>IC</td>\n",
       "      <td>Invest Cont</td>\n",
       "      <td>Property Crimes</td>\n",
       "    </tr>\n",
       "    <tr>\n",
       "      <th>2</th>\n",
       "      <td>600 E  MARTIN LUTHER KING JR        BL</td>\n",
       "      <td>NaN</td>\n",
       "      <td>34.0111</td>\n",
       "      <td>-118.2653</td>\n",
       "      <td>08/21/2020 12:00:00 AM</td>\n",
       "      <td>08/21/2020 12:00:00 AM</td>\n",
       "      <td>605.0</td>\n",
       "      <td>13.0</td>\n",
       "      <td>Newton</td>\n",
       "      <td>1343.0</td>\n",
       "      <td>...</td>\n",
       "      <td>67.0</td>\n",
       "      <td>M</td>\n",
       "      <td>B</td>\n",
       "      <td>501.0</td>\n",
       "      <td>SINGLE FAMILY DWELLING</td>\n",
       "      <td>NaN</td>\n",
       "      <td>NaN</td>\n",
       "      <td>IC</td>\n",
       "      <td>Invest Cont</td>\n",
       "      <td>Property Crimes</td>\n",
       "    </tr>\n",
       "    <tr>\n",
       "      <th>3</th>\n",
       "      <td>14900    ORO GRANDE                   ST</td>\n",
       "      <td>NaN</td>\n",
       "      <td>34.2953</td>\n",
       "      <td>-118.4590</td>\n",
       "      <td>11/08/2020 12:00:00 AM</td>\n",
       "      <td>11/06/2020 12:00:00 AM</td>\n",
       "      <td>1800.0</td>\n",
       "      <td>19.0</td>\n",
       "      <td>Mission</td>\n",
       "      <td>1924.0</td>\n",
       "      <td>...</td>\n",
       "      <td>61.0</td>\n",
       "      <td>M</td>\n",
       "      <td>H</td>\n",
       "      <td>101.0</td>\n",
       "      <td>STREET</td>\n",
       "      <td>NaN</td>\n",
       "      <td>NaN</td>\n",
       "      <td>IC</td>\n",
       "      <td>Invest Cont</td>\n",
       "      <td>Property Crimes</td>\n",
       "    </tr>\n",
       "    <tr>\n",
       "      <th>4</th>\n",
       "      <td>7100 S  VERMONT                      AV</td>\n",
       "      <td>NaN</td>\n",
       "      <td>33.9787</td>\n",
       "      <td>-118.2918</td>\n",
       "      <td>02/25/2020 12:00:00 AM</td>\n",
       "      <td>02/25/2020 12:00:00 AM</td>\n",
       "      <td>1130.0</td>\n",
       "      <td>12.0</td>\n",
       "      <td>77th Street</td>\n",
       "      <td>1245.0</td>\n",
       "      <td>...</td>\n",
       "      <td>0.0</td>\n",
       "      <td>X</td>\n",
       "      <td>X</td>\n",
       "      <td>401.0</td>\n",
       "      <td>MINI-MART</td>\n",
       "      <td>400.0</td>\n",
       "      <td>STRONG-ARM (HANDS, FIST, FEET OR BODILY FORCE)</td>\n",
       "      <td>IC</td>\n",
       "      <td>Invest Cont</td>\n",
       "      <td>Property Crimes</td>\n",
       "    </tr>\n",
       "    <tr>\n",
       "      <th>...</th>\n",
       "      <td>...</td>\n",
       "      <td>...</td>\n",
       "      <td>...</td>\n",
       "      <td>...</td>\n",
       "      <td>...</td>\n",
       "      <td>...</td>\n",
       "      <td>...</td>\n",
       "      <td>...</td>\n",
       "      <td>...</td>\n",
       "      <td>...</td>\n",
       "      <td>...</td>\n",
       "      <td>...</td>\n",
       "      <td>...</td>\n",
       "      <td>...</td>\n",
       "      <td>...</td>\n",
       "      <td>...</td>\n",
       "      <td>...</td>\n",
       "      <td>...</td>\n",
       "      <td>...</td>\n",
       "      <td>...</td>\n",
       "      <td>...</td>\n",
       "    </tr>\n",
       "    <tr>\n",
       "      <th>19995</th>\n",
       "      <td>5100 W  ADAMS                        BL</td>\n",
       "      <td>NaN</td>\n",
       "      <td>34.0334</td>\n",
       "      <td>-118.3523</td>\n",
       "      <td>05/24/2020 12:00:00 AM</td>\n",
       "      <td>05/24/2020 12:00:00 AM</td>\n",
       "      <td>700.0</td>\n",
       "      <td>3.0</td>\n",
       "      <td>Southwest</td>\n",
       "      <td>303.0</td>\n",
       "      <td>...</td>\n",
       "      <td>51.0</td>\n",
       "      <td>M</td>\n",
       "      <td>H</td>\n",
       "      <td>501.0</td>\n",
       "      <td>SINGLE FAMILY DWELLING</td>\n",
       "      <td>400.0</td>\n",
       "      <td>STRONG-ARM (HANDS, FIST, FEET OR BODILY FORCE)</td>\n",
       "      <td>IC</td>\n",
       "      <td>Invest Cont</td>\n",
       "      <td>Violent Crimes</td>\n",
       "    </tr>\n",
       "    <tr>\n",
       "      <th>19996</th>\n",
       "      <td>16900    ROSCOE                       BL</td>\n",
       "      <td>NaN</td>\n",
       "      <td>34.2212</td>\n",
       "      <td>-118.5011</td>\n",
       "      <td>12/25/2020 12:00:00 AM</td>\n",
       "      <td>12/25/2020 12:00:00 AM</td>\n",
       "      <td>259.0</td>\n",
       "      <td>10.0</td>\n",
       "      <td>West Valley</td>\n",
       "      <td>1008.0</td>\n",
       "      <td>...</td>\n",
       "      <td>0.0</td>\n",
       "      <td>M</td>\n",
       "      <td>W</td>\n",
       "      <td>301.0</td>\n",
       "      <td>GAS STATION</td>\n",
       "      <td>NaN</td>\n",
       "      <td>NaN</td>\n",
       "      <td>IC</td>\n",
       "      <td>Invest Cont</td>\n",
       "      <td>Property Crimes</td>\n",
       "    </tr>\n",
       "    <tr>\n",
       "      <th>19997</th>\n",
       "      <td>1000 S  SHENANDOAH                   ST</td>\n",
       "      <td>NaN</td>\n",
       "      <td>34.0571</td>\n",
       "      <td>-118.3815</td>\n",
       "      <td>09/25/2020 12:00:00 AM</td>\n",
       "      <td>09/25/2020 12:00:00 AM</td>\n",
       "      <td>1400.0</td>\n",
       "      <td>8.0</td>\n",
       "      <td>West LA</td>\n",
       "      <td>849.0</td>\n",
       "      <td>...</td>\n",
       "      <td>42.0</td>\n",
       "      <td>M</td>\n",
       "      <td>H</td>\n",
       "      <td>102.0</td>\n",
       "      <td>SIDEWALK</td>\n",
       "      <td>NaN</td>\n",
       "      <td>NaN</td>\n",
       "      <td>IC</td>\n",
       "      <td>Invest Cont</td>\n",
       "      <td>Property Crimes</td>\n",
       "    </tr>\n",
       "    <tr>\n",
       "      <th>19998</th>\n",
       "      <td>300 W  SEPULVEDA                    ST</td>\n",
       "      <td>NaN</td>\n",
       "      <td>33.7451</td>\n",
       "      <td>-118.2835</td>\n",
       "      <td>06/10/2020 12:00:00 AM</td>\n",
       "      <td>06/10/2020 12:00:00 AM</td>\n",
       "      <td>600.0</td>\n",
       "      <td>5.0</td>\n",
       "      <td>Harbor</td>\n",
       "      <td>558.0</td>\n",
       "      <td>...</td>\n",
       "      <td>76.0</td>\n",
       "      <td>F</td>\n",
       "      <td>H</td>\n",
       "      <td>501.0</td>\n",
       "      <td>SINGLE FAMILY DWELLING</td>\n",
       "      <td>NaN</td>\n",
       "      <td>NaN</td>\n",
       "      <td>IC</td>\n",
       "      <td>Invest Cont</td>\n",
       "      <td>Crimes against Public Order</td>\n",
       "    </tr>\n",
       "    <tr>\n",
       "      <th>19999</th>\n",
       "      <td>DALTON                       AV</td>\n",
       "      <td>VERNON                       AV</td>\n",
       "      <td>34.0037</td>\n",
       "      <td>-118.3034</td>\n",
       "      <td>02/18/2020 12:00:00 AM</td>\n",
       "      <td>02/17/2020 12:00:00 AM</td>\n",
       "      <td>1800.0</td>\n",
       "      <td>3.0</td>\n",
       "      <td>Southwest</td>\n",
       "      <td>397.0</td>\n",
       "      <td>...</td>\n",
       "      <td>0.0</td>\n",
       "      <td>NaN</td>\n",
       "      <td>NaN</td>\n",
       "      <td>101.0</td>\n",
       "      <td>STREET</td>\n",
       "      <td>NaN</td>\n",
       "      <td>NaN</td>\n",
       "      <td>IC</td>\n",
       "      <td>Invest Cont</td>\n",
       "      <td>Property Crimes</td>\n",
       "    </tr>\n",
       "  </tbody>\n",
       "</table>\n",
       "<p>20000 rows × 22 columns</p>\n",
       "</div>"
      ],
      "text/plain": [
       "                                       Location  \\\n",
       "0       4500    CARPENTER                    AV   \n",
       "1               45TH                         ST   \n",
       "2        600 E  MARTIN LUTHER KING JR        BL   \n",
       "3      14900    ORO GRANDE                   ST   \n",
       "4       7100 S  VERMONT                      AV   \n",
       "...                                         ...   \n",
       "19995   5100 W  ADAMS                        BL   \n",
       "19996  16900    ROSCOE                       BL   \n",
       "19997   1000 S  SHENANDOAH                   ST   \n",
       "19998    300 W  SEPULVEDA                    ST   \n",
       "19999           DALTON                       AV   \n",
       "\n",
       "                          Cross_Street  Latitude  Longitude  \\\n",
       "0                                  NaN   34.1522  -118.3910   \n",
       "1      ALAMEDA                      ST   34.0028  -118.2391   \n",
       "2                                  NaN   34.0111  -118.2653   \n",
       "3                                  NaN   34.2953  -118.4590   \n",
       "4                                  NaN   33.9787  -118.2918   \n",
       "...                                ...       ...        ...   \n",
       "19995                              NaN   34.0334  -118.3523   \n",
       "19996                              NaN   34.2212  -118.5011   \n",
       "19997                              NaN   34.0571  -118.3815   \n",
       "19998                              NaN   33.7451  -118.2835   \n",
       "19999  VERNON                       AV   34.0037  -118.3034   \n",
       "\n",
       "                Date_Reported           Date_Occurred  Time_Occurred  Area_ID  \\\n",
       "0      03/09/2020 12:00:00 AM  03/06/2020 12:00:00 AM         1800.0     15.0   \n",
       "1      02/27/2020 12:00:00 AM  02/27/2020 12:00:00 AM         1345.0     13.0   \n",
       "2      08/21/2020 12:00:00 AM  08/21/2020 12:00:00 AM          605.0     13.0   \n",
       "3      11/08/2020 12:00:00 AM  11/06/2020 12:00:00 AM         1800.0     19.0   \n",
       "4      02/25/2020 12:00:00 AM  02/25/2020 12:00:00 AM         1130.0     12.0   \n",
       "...                       ...                     ...            ...      ...   \n",
       "19995  05/24/2020 12:00:00 AM  05/24/2020 12:00:00 AM          700.0      3.0   \n",
       "19996  12/25/2020 12:00:00 AM  12/25/2020 12:00:00 AM          259.0     10.0   \n",
       "19997  09/25/2020 12:00:00 AM  09/25/2020 12:00:00 AM         1400.0      8.0   \n",
       "19998  06/10/2020 12:00:00 AM  06/10/2020 12:00:00 AM          600.0      5.0   \n",
       "19999  02/18/2020 12:00:00 AM  02/17/2020 12:00:00 AM         1800.0      3.0   \n",
       "\n",
       "         Area_Name  Reporting_District_no  ...  Victim_Age Victim_Sex  \\\n",
       "0      N Hollywood                 1563.0  ...        75.0          M   \n",
       "1           Newton                 1367.0  ...        41.0          M   \n",
       "2           Newton                 1343.0  ...        67.0          M   \n",
       "3          Mission                 1924.0  ...        61.0          M   \n",
       "4      77th Street                 1245.0  ...         0.0          X   \n",
       "...            ...                    ...  ...         ...        ...   \n",
       "19995    Southwest                  303.0  ...        51.0          M   \n",
       "19996  West Valley                 1008.0  ...         0.0          M   \n",
       "19997      West LA                  849.0  ...        42.0          M   \n",
       "19998       Harbor                  558.0  ...        76.0          F   \n",
       "19999    Southwest                  397.0  ...         0.0        NaN   \n",
       "\n",
       "       Victim_Descent Premise_Code     Premise_Description  Weapon_Used_Code  \\\n",
       "0                   W        101.0                  STREET               NaN   \n",
       "1                   H        216.0               SWAP MEET             400.0   \n",
       "2                   B        501.0  SINGLE FAMILY DWELLING               NaN   \n",
       "3                   H        101.0                  STREET               NaN   \n",
       "4                   X        401.0               MINI-MART             400.0   \n",
       "...               ...          ...                     ...               ...   \n",
       "19995               H        501.0  SINGLE FAMILY DWELLING             400.0   \n",
       "19996               W        301.0             GAS STATION               NaN   \n",
       "19997               H        102.0                SIDEWALK               NaN   \n",
       "19998               H        501.0  SINGLE FAMILY DWELLING               NaN   \n",
       "19999             NaN        101.0                  STREET               NaN   \n",
       "\n",
       "                                   Weapon_Description  Status  \\\n",
       "0                                                 NaN      IC   \n",
       "1      STRONG-ARM (HANDS, FIST, FEET OR BODILY FORCE)      IC   \n",
       "2                                                 NaN      IC   \n",
       "3                                                 NaN      IC   \n",
       "4      STRONG-ARM (HANDS, FIST, FEET OR BODILY FORCE)      IC   \n",
       "...                                               ...     ...   \n",
       "19995  STRONG-ARM (HANDS, FIST, FEET OR BODILY FORCE)      IC   \n",
       "19996                                             NaN      IC   \n",
       "19997                                             NaN      IC   \n",
       "19998                                             NaN      IC   \n",
       "19999                                             NaN      IC   \n",
       "\n",
       "      Status_Description               Crime_Category  \n",
       "0            Invest Cont              Property Crimes  \n",
       "1            Invest Cont              Property Crimes  \n",
       "2            Invest Cont              Property Crimes  \n",
       "3            Invest Cont              Property Crimes  \n",
       "4            Invest Cont              Property Crimes  \n",
       "...                  ...                          ...  \n",
       "19995        Invest Cont               Violent Crimes  \n",
       "19996        Invest Cont              Property Crimes  \n",
       "19997        Invest Cont              Property Crimes  \n",
       "19998        Invest Cont  Crimes against Public Order  \n",
       "19999        Invest Cont              Property Crimes  \n",
       "\n",
       "[20000 rows x 22 columns]"
      ]
     },
     "execution_count": 4,
     "metadata": {},
     "output_type": "execute_result"
    }
   ],
   "source": [
    "train"
   ]
  },
  {
   "cell_type": "code",
   "execution_count": 5,
   "id": "5ed66174",
   "metadata": {
    "execution": {
     "iopub.execute_input": "2024-06-22T14:33:20.854857Z",
     "iopub.status.busy": "2024-06-22T14:33:20.854413Z",
     "iopub.status.idle": "2024-06-22T14:33:20.861722Z",
     "shell.execute_reply": "2024-06-22T14:33:20.860583Z"
    },
    "papermill": {
     "duration": 0.043575,
     "end_time": "2024-06-22T14:33:20.864311",
     "exception": false,
     "start_time": "2024-06-22T14:33:20.820736",
     "status": "completed"
    },
    "tags": []
   },
   "outputs": [
    {
     "data": {
      "text/plain": [
       "(20000, 22)"
      ]
     },
     "execution_count": 5,
     "metadata": {},
     "output_type": "execute_result"
    }
   ],
   "source": [
    "train.shape"
   ]
  },
  {
   "cell_type": "code",
   "execution_count": 6,
   "id": "b8226a0d",
   "metadata": {
    "execution": {
     "iopub.execute_input": "2024-06-22T14:33:20.930083Z",
     "iopub.status.busy": "2024-06-22T14:33:20.929670Z",
     "iopub.status.idle": "2024-06-22T14:33:20.986689Z",
     "shell.execute_reply": "2024-06-22T14:33:20.984811Z"
    },
    "papermill": {
     "duration": 0.093094,
     "end_time": "2024-06-22T14:33:20.989428",
     "exception": false,
     "start_time": "2024-06-22T14:33:20.896334",
     "status": "completed"
    },
    "tags": []
   },
   "outputs": [
    {
     "name": "stdout",
     "output_type": "stream",
     "text": [
      "<class 'pandas.core.frame.DataFrame'>\n",
      "RangeIndex: 20000 entries, 0 to 19999\n",
      "Data columns (total 22 columns):\n",
      " #   Column                 Non-Null Count  Dtype  \n",
      "---  ------                 --------------  -----  \n",
      " 0   Location               20000 non-null  object \n",
      " 1   Cross_Street           3448 non-null   object \n",
      " 2   Latitude               20000 non-null  float64\n",
      " 3   Longitude              20000 non-null  float64\n",
      " 4   Date_Reported          20000 non-null  object \n",
      " 5   Date_Occurred          20000 non-null  object \n",
      " 6   Time_Occurred          20000 non-null  float64\n",
      " 7   Area_ID                20000 non-null  float64\n",
      " 8   Area_Name              20000 non-null  object \n",
      " 9   Reporting_District_no  20000 non-null  float64\n",
      " 10  Part 1-2               20000 non-null  float64\n",
      " 11  Modus_Operandi         17259 non-null  object \n",
      " 12  Victim_Age             20000 non-null  float64\n",
      " 13  Victim_Sex             17376 non-null  object \n",
      " 14  Victim_Descent         17376 non-null  object \n",
      " 15  Premise_Code           20000 non-null  float64\n",
      " 16  Premise_Description    19995 non-null  object \n",
      " 17  Weapon_Used_Code       7335 non-null   float64\n",
      " 18  Weapon_Description     7335 non-null   object \n",
      " 19  Status                 20000 non-null  object \n",
      " 20  Status_Description     20000 non-null  object \n",
      " 21  Crime_Category         20000 non-null  object \n",
      "dtypes: float64(9), object(13)\n",
      "memory usage: 3.4+ MB\n"
     ]
    }
   ],
   "source": [
    "train.info()"
   ]
  },
  {
   "cell_type": "code",
   "execution_count": 7,
   "id": "b07ffeb9",
   "metadata": {
    "execution": {
     "iopub.execute_input": "2024-06-22T14:33:21.058625Z",
     "iopub.status.busy": "2024-06-22T14:33:21.058124Z",
     "iopub.status.idle": "2024-06-22T14:33:21.094556Z",
     "shell.execute_reply": "2024-06-22T14:33:21.093349Z"
    },
    "papermill": {
     "duration": 0.073459,
     "end_time": "2024-06-22T14:33:21.097061",
     "exception": false,
     "start_time": "2024-06-22T14:33:21.023602",
     "status": "completed"
    },
    "tags": []
   },
   "outputs": [
    {
     "data": {
      "text/plain": [
       "Location                     0\n",
       "Cross_Street             16552\n",
       "Latitude                     0\n",
       "Longitude                    0\n",
       "Date_Reported                0\n",
       "Date_Occurred                0\n",
       "Time_Occurred                0\n",
       "Area_ID                      0\n",
       "Area_Name                    0\n",
       "Reporting_District_no        0\n",
       "Part 1-2                     0\n",
       "Modus_Operandi            2741\n",
       "Victim_Age                   0\n",
       "Victim_Sex                2624\n",
       "Victim_Descent            2624\n",
       "Premise_Code                 0\n",
       "Premise_Description          5\n",
       "Weapon_Used_Code         12665\n",
       "Weapon_Description       12665\n",
       "Status                       0\n",
       "Status_Description           0\n",
       "Crime_Category               0\n",
       "dtype: int64"
      ]
     },
     "execution_count": 7,
     "metadata": {},
     "output_type": "execute_result"
    }
   ],
   "source": [
    "train.isnull().sum()"
   ]
  },
  {
   "cell_type": "code",
   "execution_count": 8,
   "id": "e010beb3",
   "metadata": {
    "execution": {
     "iopub.execute_input": "2024-06-22T14:33:21.165378Z",
     "iopub.status.busy": "2024-06-22T14:33:21.164923Z",
     "iopub.status.idle": "2024-06-22T14:33:21.182752Z",
     "shell.execute_reply": "2024-06-22T14:33:21.180960Z"
    },
    "papermill": {
     "duration": 0.055073,
     "end_time": "2024-06-22T14:33:21.185732",
     "exception": false,
     "start_time": "2024-06-22T14:33:21.130659",
     "status": "completed"
    },
    "tags": []
   },
   "outputs": [
    {
     "data": {
      "text/plain": [
       "Location                    0\n",
       "Cross_Street             4190\n",
       "Latitude                    0\n",
       "Longitude                   0\n",
       "Date_Reported               0\n",
       "Date_Occurred               0\n",
       "Time_Occurred               0\n",
       "Area_ID                     0\n",
       "Area_Name                   0\n",
       "Reporting_District_no       0\n",
       "Part 1-2                    0\n",
       "Modus_Operandi            684\n",
       "Victim_Age                  0\n",
       "Victim_Sex                643\n",
       "Victim_Descent            643\n",
       "Premise_Code                0\n",
       "Premise_Description         1\n",
       "Weapon_Used_Code         3153\n",
       "Weapon_Description       3153\n",
       "Status                      0\n",
       "Status_Description          0\n",
       "dtype: int64"
      ]
     },
     "execution_count": 8,
     "metadata": {},
     "output_type": "execute_result"
    }
   ],
   "source": [
    "test.isnull().sum()"
   ]
  },
  {
   "cell_type": "code",
   "execution_count": 9,
   "id": "755f994d",
   "metadata": {
    "execution": {
     "iopub.execute_input": "2024-06-22T14:33:21.253329Z",
     "iopub.status.busy": "2024-06-22T14:33:21.252467Z",
     "iopub.status.idle": "2024-06-22T14:33:21.259894Z",
     "shell.execute_reply": "2024-06-22T14:33:21.258721Z"
    },
    "papermill": {
     "duration": 0.044684,
     "end_time": "2024-06-22T14:33:21.263302",
     "exception": false,
     "start_time": "2024-06-22T14:33:21.218618",
     "status": "completed"
    },
    "tags": []
   },
   "outputs": [
    {
     "data": {
      "text/plain": [
       "(5000, 21)"
      ]
     },
     "execution_count": 9,
     "metadata": {},
     "output_type": "execute_result"
    }
   ],
   "source": [
    "test.shape"
   ]
  },
  {
   "cell_type": "code",
   "execution_count": 10,
   "id": "cd883919",
   "metadata": {
    "execution": {
     "iopub.execute_input": "2024-06-22T14:33:21.335746Z",
     "iopub.status.busy": "2024-06-22T14:33:21.335191Z",
     "iopub.status.idle": "2024-06-22T14:33:21.347003Z",
     "shell.execute_reply": "2024-06-22T14:33:21.345644Z"
    },
    "papermill": {
     "duration": 0.05084,
     "end_time": "2024-06-22T14:33:21.349802",
     "exception": false,
     "start_time": "2024-06-22T14:33:21.298962",
     "status": "completed"
    },
    "tags": []
   },
   "outputs": [
    {
     "data": {
      "text/plain": [
       "0         4500    CARPENTER                    AV\n",
       "1                 45TH                         ST\n",
       "2          600 E  MARTIN LUTHER KING JR        BL\n",
       "3        14900    ORO GRANDE                   ST\n",
       "4         7100 S  VERMONT                      AV\n",
       "                           ...                   \n",
       "19995     5100 W  ADAMS                        BL\n",
       "19996    16900    ROSCOE                       BL\n",
       "19997     1000 S  SHENANDOAH                   ST\n",
       "19998      300 W  SEPULVEDA                    ST\n",
       "19999             DALTON                       AV\n",
       "Name: Location, Length: 20000, dtype: object"
      ]
     },
     "execution_count": 10,
     "metadata": {},
     "output_type": "execute_result"
    }
   ],
   "source": [
    "train['Location']"
   ]
  },
  {
   "cell_type": "code",
   "execution_count": 11,
   "id": "aeeb07dd",
   "metadata": {
    "execution": {
     "iopub.execute_input": "2024-06-22T14:33:21.520404Z",
     "iopub.status.busy": "2024-06-22T14:33:21.519918Z",
     "iopub.status.idle": "2024-06-22T14:33:21.545664Z",
     "shell.execute_reply": "2024-06-22T14:33:21.544198Z"
    },
    "papermill": {
     "duration": 0.066624,
     "end_time": "2024-06-22T14:33:21.549008",
     "exception": false,
     "start_time": "2024-06-22T14:33:21.482384",
     "status": "completed"
    },
    "tags": []
   },
   "outputs": [
    {
     "data": {
      "text/plain": [
       "Location\n",
       "6TH                                        33\n",
       "7TH                                        32\n",
       "VERMONT                      AV            31\n",
       "6TH                          ST            31\n",
       "7TH                          ST            30\n",
       "                                           ..\n",
       "2700 E  1ST                          ST     1\n",
       "9300    SWINTON                      AV     1\n",
       "MCKINLEY                                    1\n",
       "WADE                         ST             1\n",
       "DALTON                       AV             1\n",
       "Name: count, Length: 12399, dtype: int64"
      ]
     },
     "execution_count": 11,
     "metadata": {},
     "output_type": "execute_result"
    }
   ],
   "source": [
    "train['Location'].value_counts()"
   ]
  },
  {
   "cell_type": "code",
   "execution_count": 12,
   "id": "c9b85b2d",
   "metadata": {
    "execution": {
     "iopub.execute_input": "2024-06-22T14:33:21.622609Z",
     "iopub.status.busy": "2024-06-22T14:33:21.622028Z",
     "iopub.status.idle": "2024-06-22T14:33:21.634687Z",
     "shell.execute_reply": "2024-06-22T14:33:21.633201Z"
    },
    "papermill": {
     "duration": 0.052085,
     "end_time": "2024-06-22T14:33:21.637574",
     "exception": false,
     "start_time": "2024-06-22T14:33:21.585489",
     "status": "completed"
    },
    "tags": []
   },
   "outputs": [
    {
     "data": {
      "text/plain": [
       "array(['4500    CARPENTER                    AV',\n",
       "       '45TH                         ST',\n",
       "       '600 E  MARTIN LUTHER KING JR        BL', ...,\n",
       "       '15800    STRATHERN                    ST',\n",
       "       '5100 W  ADAMS                        BL',\n",
       "       'DALTON                       AV'], dtype=object)"
      ]
     },
     "execution_count": 12,
     "metadata": {},
     "output_type": "execute_result"
    }
   ],
   "source": [
    "train['Location'].unique()"
   ]
  },
  {
   "cell_type": "code",
   "execution_count": 13,
   "id": "24d98483",
   "metadata": {
    "execution": {
     "iopub.execute_input": "2024-06-22T14:33:21.711744Z",
     "iopub.status.busy": "2024-06-22T14:33:21.710488Z",
     "iopub.status.idle": "2024-06-22T14:33:21.724797Z",
     "shell.execute_reply": "2024-06-22T14:33:21.723570Z"
    },
    "papermill": {
     "duration": 0.054103,
     "end_time": "2024-06-22T14:33:21.727849",
     "exception": false,
     "start_time": "2024-06-22T14:33:21.673746",
     "status": "completed"
    },
    "tags": []
   },
   "outputs": [
    {
     "data": {
      "text/plain": [
       "Crime_Category\n",
       "Property Crimes                  11666\n",
       "Violent Crimes                    4767\n",
       "Crimes against Public Order       1808\n",
       "Fraud and White-Collar Crimes     1355\n",
       "Crimes against Persons             225\n",
       "Other Crimes                       179\n",
       "Name: count, dtype: int64"
      ]
     },
     "execution_count": 13,
     "metadata": {},
     "output_type": "execute_result"
    }
   ],
   "source": [
    "train['Crime_Category'].value_counts()"
   ]
  },
  {
   "cell_type": "code",
   "execution_count": 14,
   "id": "525fc57a",
   "metadata": {
    "execution": {
     "iopub.execute_input": "2024-06-22T14:33:21.801700Z",
     "iopub.status.busy": "2024-06-22T14:33:21.800473Z",
     "iopub.status.idle": "2024-06-22T14:33:21.919425Z",
     "shell.execute_reply": "2024-06-22T14:33:21.918050Z"
    },
    "papermill": {
     "duration": 0.159437,
     "end_time": "2024-06-22T14:33:21.922564",
     "exception": false,
     "start_time": "2024-06-22T14:33:21.763127",
     "status": "completed"
    },
    "tags": []
   },
   "outputs": [
    {
     "data": {
      "text/html": [
       "<div>\n",
       "<style scoped>\n",
       "    .dataframe tbody tr th:only-of-type {\n",
       "        vertical-align: middle;\n",
       "    }\n",
       "\n",
       "    .dataframe tbody tr th {\n",
       "        vertical-align: top;\n",
       "    }\n",
       "\n",
       "    .dataframe thead th {\n",
       "        text-align: right;\n",
       "    }\n",
       "</style>\n",
       "<table border=\"1\" class=\"dataframe\">\n",
       "  <thead>\n",
       "    <tr style=\"text-align: right;\">\n",
       "      <th></th>\n",
       "      <th>Location</th>\n",
       "      <th>Cross_Street</th>\n",
       "      <th>Date_Reported</th>\n",
       "      <th>Date_Occurred</th>\n",
       "      <th>Area_Name</th>\n",
       "      <th>Modus_Operandi</th>\n",
       "      <th>Victim_Sex</th>\n",
       "      <th>Victim_Descent</th>\n",
       "      <th>Premise_Description</th>\n",
       "      <th>Weapon_Description</th>\n",
       "      <th>Status</th>\n",
       "      <th>Status_Description</th>\n",
       "      <th>Crime_Category</th>\n",
       "    </tr>\n",
       "  </thead>\n",
       "  <tbody>\n",
       "    <tr>\n",
       "      <th>count</th>\n",
       "      <td>20000</td>\n",
       "      <td>3448</td>\n",
       "      <td>20000</td>\n",
       "      <td>20000</td>\n",
       "      <td>20000</td>\n",
       "      <td>17259</td>\n",
       "      <td>17376</td>\n",
       "      <td>17376</td>\n",
       "      <td>19995</td>\n",
       "      <td>7335</td>\n",
       "      <td>20000</td>\n",
       "      <td>20000</td>\n",
       "      <td>20000</td>\n",
       "    </tr>\n",
       "    <tr>\n",
       "      <th>unique</th>\n",
       "      <td>12399</td>\n",
       "      <td>1495</td>\n",
       "      <td>811</td>\n",
       "      <td>366</td>\n",
       "      <td>21</td>\n",
       "      <td>10489</td>\n",
       "      <td>4</td>\n",
       "      <td>17</td>\n",
       "      <td>216</td>\n",
       "      <td>57</td>\n",
       "      <td>5</td>\n",
       "      <td>5</td>\n",
       "      <td>6</td>\n",
       "    </tr>\n",
       "    <tr>\n",
       "      <th>top</th>\n",
       "      <td>6TH</td>\n",
       "      <td>BROADWAY</td>\n",
       "      <td>07/13/2020 12:00:00 AM</td>\n",
       "      <td>01/01/2020 12:00:00 AM</td>\n",
       "      <td>77th Street</td>\n",
       "      <td>0344</td>\n",
       "      <td>M</td>\n",
       "      <td>H</td>\n",
       "      <td>STREET</td>\n",
       "      <td>STRONG-ARM (HANDS, FIST, FEET OR BODILY FORCE)</td>\n",
       "      <td>IC</td>\n",
       "      <td>Invest Cont</td>\n",
       "      <td>Property Crimes</td>\n",
       "    </tr>\n",
       "    <tr>\n",
       "      <th>freq</th>\n",
       "      <td>33</td>\n",
       "      <td>56</td>\n",
       "      <td>87</td>\n",
       "      <td>137</td>\n",
       "      <td>1345</td>\n",
       "      <td>826</td>\n",
       "      <td>8538</td>\n",
       "      <td>6143</td>\n",
       "      <td>5033</td>\n",
       "      <td>3990</td>\n",
       "      <td>15236</td>\n",
       "      <td>15236</td>\n",
       "      <td>11666</td>\n",
       "    </tr>\n",
       "  </tbody>\n",
       "</table>\n",
       "</div>"
      ],
      "text/plain": [
       "       Location Cross_Street           Date_Reported           Date_Occurred  \\\n",
       "count     20000         3448                   20000                   20000   \n",
       "unique    12399         1495                     811                     366   \n",
       "top         6TH     BROADWAY  07/13/2020 12:00:00 AM  01/01/2020 12:00:00 AM   \n",
       "freq         33           56                      87                     137   \n",
       "\n",
       "          Area_Name Modus_Operandi Victim_Sex Victim_Descent  \\\n",
       "count         20000          17259      17376          17376   \n",
       "unique           21          10489          4             17   \n",
       "top     77th Street           0344          M              H   \n",
       "freq           1345            826       8538           6143   \n",
       "\n",
       "       Premise_Description                              Weapon_Description  \\\n",
       "count                19995                                            7335   \n",
       "unique                 216                                              57   \n",
       "top                 STREET  STRONG-ARM (HANDS, FIST, FEET OR BODILY FORCE)   \n",
       "freq                  5033                                            3990   \n",
       "\n",
       "       Status Status_Description   Crime_Category  \n",
       "count   20000              20000            20000  \n",
       "unique      5                  5                6  \n",
       "top        IC        Invest Cont  Property Crimes  \n",
       "freq    15236              15236            11666  "
      ]
     },
     "execution_count": 14,
     "metadata": {},
     "output_type": "execute_result"
    }
   ],
   "source": [
    "train.describe(include='object')"
   ]
  },
  {
   "cell_type": "code",
   "execution_count": 15,
   "id": "dbcba0e5",
   "metadata": {
    "execution": {
     "iopub.execute_input": "2024-06-22T14:33:21.997817Z",
     "iopub.status.busy": "2024-06-22T14:33:21.997291Z",
     "iopub.status.idle": "2024-06-22T14:33:22.051447Z",
     "shell.execute_reply": "2024-06-22T14:33:22.050189Z"
    },
    "papermill": {
     "duration": 0.096723,
     "end_time": "2024-06-22T14:33:22.054369",
     "exception": false,
     "start_time": "2024-06-22T14:33:21.957646",
     "status": "completed"
    },
    "tags": []
   },
   "outputs": [
    {
     "data": {
      "text/html": [
       "<div>\n",
       "<style scoped>\n",
       "    .dataframe tbody tr th:only-of-type {\n",
       "        vertical-align: middle;\n",
       "    }\n",
       "\n",
       "    .dataframe tbody tr th {\n",
       "        vertical-align: top;\n",
       "    }\n",
       "\n",
       "    .dataframe thead th {\n",
       "        text-align: right;\n",
       "    }\n",
       "</style>\n",
       "<table border=\"1\" class=\"dataframe\">\n",
       "  <thead>\n",
       "    <tr style=\"text-align: right;\">\n",
       "      <th></th>\n",
       "      <th>Latitude</th>\n",
       "      <th>Longitude</th>\n",
       "      <th>Time_Occurred</th>\n",
       "      <th>Area_ID</th>\n",
       "      <th>Reporting_District_no</th>\n",
       "      <th>Part 1-2</th>\n",
       "      <th>Victim_Age</th>\n",
       "      <th>Premise_Code</th>\n",
       "      <th>Weapon_Used_Code</th>\n",
       "    </tr>\n",
       "  </thead>\n",
       "  <tbody>\n",
       "    <tr>\n",
       "      <th>count</th>\n",
       "      <td>20000.000000</td>\n",
       "      <td>20000.000000</td>\n",
       "      <td>20000.000000</td>\n",
       "      <td>20000.000000</td>\n",
       "      <td>20000.000000</td>\n",
       "      <td>20000.000000</td>\n",
       "      <td>20000.000000</td>\n",
       "      <td>20000.000000</td>\n",
       "      <td>7335.000000</td>\n",
       "    </tr>\n",
       "    <tr>\n",
       "      <th>mean</th>\n",
       "      <td>33.940704</td>\n",
       "      <td>-117.893072</td>\n",
       "      <td>1352.380350</td>\n",
       "      <td>10.834250</td>\n",
       "      <td>1129.599200</td>\n",
       "      <td>1.418150</td>\n",
       "      <td>30.135000</td>\n",
       "      <td>297.176950</td>\n",
       "      <td>366.405044</td>\n",
       "    </tr>\n",
       "    <tr>\n",
       "      <th>std</th>\n",
       "      <td>2.126810</td>\n",
       "      <td>7.377726</td>\n",
       "      <td>646.100291</td>\n",
       "      <td>6.033166</td>\n",
       "      <td>603.330519</td>\n",
       "      <td>0.493267</td>\n",
       "      <td>21.863645</td>\n",
       "      <td>212.007298</td>\n",
       "      <td>120.485687</td>\n",
       "    </tr>\n",
       "    <tr>\n",
       "      <th>min</th>\n",
       "      <td>0.000000</td>\n",
       "      <td>-118.663400</td>\n",
       "      <td>1.000000</td>\n",
       "      <td>1.000000</td>\n",
       "      <td>101.000000</td>\n",
       "      <td>1.000000</td>\n",
       "      <td>-2.000000</td>\n",
       "      <td>101.000000</td>\n",
       "      <td>101.000000</td>\n",
       "    </tr>\n",
       "    <tr>\n",
       "      <th>25%</th>\n",
       "      <td>34.009200</td>\n",
       "      <td>-118.429700</td>\n",
       "      <td>930.000000</td>\n",
       "      <td>6.000000</td>\n",
       "      <td>632.000000</td>\n",
       "      <td>1.000000</td>\n",
       "      <td>12.000000</td>\n",
       "      <td>101.000000</td>\n",
       "      <td>312.000000</td>\n",
       "    </tr>\n",
       "    <tr>\n",
       "      <th>50%</th>\n",
       "      <td>34.058700</td>\n",
       "      <td>-118.323000</td>\n",
       "      <td>1430.000000</td>\n",
       "      <td>11.000000</td>\n",
       "      <td>1162.000000</td>\n",
       "      <td>1.000000</td>\n",
       "      <td>31.000000</td>\n",
       "      <td>203.000000</td>\n",
       "      <td>400.000000</td>\n",
       "    </tr>\n",
       "    <tr>\n",
       "      <th>75%</th>\n",
       "      <td>34.165025</td>\n",
       "      <td>-118.274400</td>\n",
       "      <td>1900.000000</td>\n",
       "      <td>16.000000</td>\n",
       "      <td>1622.000000</td>\n",
       "      <td>2.000000</td>\n",
       "      <td>46.000000</td>\n",
       "      <td>501.000000</td>\n",
       "      <td>400.000000</td>\n",
       "    </tr>\n",
       "    <tr>\n",
       "      <th>max</th>\n",
       "      <td>34.328100</td>\n",
       "      <td>0.000000</td>\n",
       "      <td>2359.000000</td>\n",
       "      <td>21.000000</td>\n",
       "      <td>2197.000000</td>\n",
       "      <td>2.000000</td>\n",
       "      <td>99.000000</td>\n",
       "      <td>969.000000</td>\n",
       "      <td>515.000000</td>\n",
       "    </tr>\n",
       "  </tbody>\n",
       "</table>\n",
       "</div>"
      ],
      "text/plain": [
       "           Latitude     Longitude  Time_Occurred       Area_ID  \\\n",
       "count  20000.000000  20000.000000   20000.000000  20000.000000   \n",
       "mean      33.940704   -117.893072    1352.380350     10.834250   \n",
       "std        2.126810      7.377726     646.100291      6.033166   \n",
       "min        0.000000   -118.663400       1.000000      1.000000   \n",
       "25%       34.009200   -118.429700     930.000000      6.000000   \n",
       "50%       34.058700   -118.323000    1430.000000     11.000000   \n",
       "75%       34.165025   -118.274400    1900.000000     16.000000   \n",
       "max       34.328100      0.000000    2359.000000     21.000000   \n",
       "\n",
       "       Reporting_District_no      Part 1-2    Victim_Age  Premise_Code  \\\n",
       "count           20000.000000  20000.000000  20000.000000  20000.000000   \n",
       "mean             1129.599200      1.418150     30.135000    297.176950   \n",
       "std               603.330519      0.493267     21.863645    212.007298   \n",
       "min               101.000000      1.000000     -2.000000    101.000000   \n",
       "25%               632.000000      1.000000     12.000000    101.000000   \n",
       "50%              1162.000000      1.000000     31.000000    203.000000   \n",
       "75%              1622.000000      2.000000     46.000000    501.000000   \n",
       "max              2197.000000      2.000000     99.000000    969.000000   \n",
       "\n",
       "       Weapon_Used_Code  \n",
       "count       7335.000000  \n",
       "mean         366.405044  \n",
       "std          120.485687  \n",
       "min          101.000000  \n",
       "25%          312.000000  \n",
       "50%          400.000000  \n",
       "75%          400.000000  \n",
       "max          515.000000  "
      ]
     },
     "execution_count": 15,
     "metadata": {},
     "output_type": "execute_result"
    }
   ],
   "source": [
    "train.describe()"
   ]
  },
  {
   "cell_type": "markdown",
   "id": "b861634d",
   "metadata": {
    "papermill": {
     "duration": 0.03518,
     "end_time": "2024-06-22T14:33:22.125465",
     "exception": false,
     "start_time": "2024-06-22T14:33:22.090285",
     "status": "completed"
    },
    "tags": []
   },
   "source": [
    "* Latitude range: [0:34] ( General range is -90 to 90 )\n",
    "* Longitude range: [-118: 0] (General range is 180 to 180)\n",
    "\n"
   ]
  },
  {
   "cell_type": "code",
   "execution_count": 16,
   "id": "1460f678",
   "metadata": {
    "execution": {
     "iopub.execute_input": "2024-06-22T14:33:22.199381Z",
     "iopub.status.busy": "2024-06-22T14:33:22.198167Z",
     "iopub.status.idle": "2024-06-22T14:33:22.205827Z",
     "shell.execute_reply": "2024-06-22T14:33:22.204349Z"
    },
    "papermill": {
     "duration": 0.04775,
     "end_time": "2024-06-22T14:33:22.208910",
     "exception": false,
     "start_time": "2024-06-22T14:33:22.161160",
     "status": "completed"
    },
    "tags": []
   },
   "outputs": [],
   "source": [
    "def day_category(x):\n",
    "    if 400<=x<1200:\n",
    "        return 'Morning'\n",
    "    elif 1200<=x<1700:\n",
    "        return 'Daytime'\n",
    "    elif 1800<=x<2100:\n",
    "        return 'Evening'\n",
    "    else:\n",
    "        return 'Night'"
   ]
  },
  {
   "cell_type": "code",
   "execution_count": 17,
   "id": "212d91e2",
   "metadata": {
    "execution": {
     "iopub.execute_input": "2024-06-22T14:33:22.283845Z",
     "iopub.status.busy": "2024-06-22T14:33:22.283224Z",
     "iopub.status.idle": "2024-06-22T14:33:22.308092Z",
     "shell.execute_reply": "2024-06-22T14:33:22.306385Z"
    },
    "papermill": {
     "duration": 0.066806,
     "end_time": "2024-06-22T14:33:22.311693",
     "exception": false,
     "start_time": "2024-06-22T14:33:22.244887",
     "status": "completed"
    },
    "tags": []
   },
   "outputs": [],
   "source": [
    "train['day_category']=train['Time_Occurred'].apply(day_category )"
   ]
  },
  {
   "cell_type": "code",
   "execution_count": 18,
   "id": "7ea165c7",
   "metadata": {
    "execution": {
     "iopub.execute_input": "2024-06-22T14:33:22.387182Z",
     "iopub.status.busy": "2024-06-22T14:33:22.386657Z",
     "iopub.status.idle": "2024-06-22T14:33:22.447666Z",
     "shell.execute_reply": "2024-06-22T14:33:22.446406Z"
    },
    "papermill": {
     "duration": 0.101354,
     "end_time": "2024-06-22T14:33:22.450588",
     "exception": false,
     "start_time": "2024-06-22T14:33:22.349234",
     "status": "completed"
    },
    "tags": []
   },
   "outputs": [
    {
     "data": {
      "text/html": [
       "<div>\n",
       "<style scoped>\n",
       "    .dataframe tbody tr th:only-of-type {\n",
       "        vertical-align: middle;\n",
       "    }\n",
       "\n",
       "    .dataframe tbody tr th {\n",
       "        vertical-align: top;\n",
       "    }\n",
       "\n",
       "    .dataframe thead th {\n",
       "        text-align: right;\n",
       "    }\n",
       "</style>\n",
       "<table border=\"1\" class=\"dataframe\">\n",
       "  <thead>\n",
       "    <tr style=\"text-align: right;\">\n",
       "      <th></th>\n",
       "      <th>Location</th>\n",
       "      <th>Cross_Street</th>\n",
       "      <th>Latitude</th>\n",
       "      <th>Longitude</th>\n",
       "      <th>Date_Reported</th>\n",
       "      <th>Date_Occurred</th>\n",
       "      <th>Time_Occurred</th>\n",
       "      <th>Area_ID</th>\n",
       "      <th>Area_Name</th>\n",
       "      <th>Reporting_District_no</th>\n",
       "      <th>...</th>\n",
       "      <th>Victim_Sex</th>\n",
       "      <th>Victim_Descent</th>\n",
       "      <th>Premise_Code</th>\n",
       "      <th>Premise_Description</th>\n",
       "      <th>Weapon_Used_Code</th>\n",
       "      <th>Weapon_Description</th>\n",
       "      <th>Status</th>\n",
       "      <th>Status_Description</th>\n",
       "      <th>Crime_Category</th>\n",
       "      <th>day_category</th>\n",
       "    </tr>\n",
       "  </thead>\n",
       "  <tbody>\n",
       "    <tr>\n",
       "      <th>0</th>\n",
       "      <td>4500    CARPENTER                    AV</td>\n",
       "      <td>NaN</td>\n",
       "      <td>34.1522</td>\n",
       "      <td>-118.3910</td>\n",
       "      <td>03/09/2020 12:00:00 AM</td>\n",
       "      <td>03/06/2020 12:00:00 AM</td>\n",
       "      <td>1800.0</td>\n",
       "      <td>15.0</td>\n",
       "      <td>N Hollywood</td>\n",
       "      <td>1563.0</td>\n",
       "      <td>...</td>\n",
       "      <td>M</td>\n",
       "      <td>W</td>\n",
       "      <td>101.0</td>\n",
       "      <td>STREET</td>\n",
       "      <td>NaN</td>\n",
       "      <td>NaN</td>\n",
       "      <td>IC</td>\n",
       "      <td>Invest Cont</td>\n",
       "      <td>Property Crimes</td>\n",
       "      <td>Evening</td>\n",
       "    </tr>\n",
       "    <tr>\n",
       "      <th>1</th>\n",
       "      <td>45TH                         ST</td>\n",
       "      <td>ALAMEDA                      ST</td>\n",
       "      <td>34.0028</td>\n",
       "      <td>-118.2391</td>\n",
       "      <td>02/27/2020 12:00:00 AM</td>\n",
       "      <td>02/27/2020 12:00:00 AM</td>\n",
       "      <td>1345.0</td>\n",
       "      <td>13.0</td>\n",
       "      <td>Newton</td>\n",
       "      <td>1367.0</td>\n",
       "      <td>...</td>\n",
       "      <td>M</td>\n",
       "      <td>H</td>\n",
       "      <td>216.0</td>\n",
       "      <td>SWAP MEET</td>\n",
       "      <td>400.0</td>\n",
       "      <td>STRONG-ARM (HANDS, FIST, FEET OR BODILY FORCE)</td>\n",
       "      <td>IC</td>\n",
       "      <td>Invest Cont</td>\n",
       "      <td>Property Crimes</td>\n",
       "      <td>Daytime</td>\n",
       "    </tr>\n",
       "    <tr>\n",
       "      <th>2</th>\n",
       "      <td>600 E  MARTIN LUTHER KING JR        BL</td>\n",
       "      <td>NaN</td>\n",
       "      <td>34.0111</td>\n",
       "      <td>-118.2653</td>\n",
       "      <td>08/21/2020 12:00:00 AM</td>\n",
       "      <td>08/21/2020 12:00:00 AM</td>\n",
       "      <td>605.0</td>\n",
       "      <td>13.0</td>\n",
       "      <td>Newton</td>\n",
       "      <td>1343.0</td>\n",
       "      <td>...</td>\n",
       "      <td>M</td>\n",
       "      <td>B</td>\n",
       "      <td>501.0</td>\n",
       "      <td>SINGLE FAMILY DWELLING</td>\n",
       "      <td>NaN</td>\n",
       "      <td>NaN</td>\n",
       "      <td>IC</td>\n",
       "      <td>Invest Cont</td>\n",
       "      <td>Property Crimes</td>\n",
       "      <td>Morning</td>\n",
       "    </tr>\n",
       "    <tr>\n",
       "      <th>3</th>\n",
       "      <td>14900    ORO GRANDE                   ST</td>\n",
       "      <td>NaN</td>\n",
       "      <td>34.2953</td>\n",
       "      <td>-118.4590</td>\n",
       "      <td>11/08/2020 12:00:00 AM</td>\n",
       "      <td>11/06/2020 12:00:00 AM</td>\n",
       "      <td>1800.0</td>\n",
       "      <td>19.0</td>\n",
       "      <td>Mission</td>\n",
       "      <td>1924.0</td>\n",
       "      <td>...</td>\n",
       "      <td>M</td>\n",
       "      <td>H</td>\n",
       "      <td>101.0</td>\n",
       "      <td>STREET</td>\n",
       "      <td>NaN</td>\n",
       "      <td>NaN</td>\n",
       "      <td>IC</td>\n",
       "      <td>Invest Cont</td>\n",
       "      <td>Property Crimes</td>\n",
       "      <td>Evening</td>\n",
       "    </tr>\n",
       "    <tr>\n",
       "      <th>4</th>\n",
       "      <td>7100 S  VERMONT                      AV</td>\n",
       "      <td>NaN</td>\n",
       "      <td>33.9787</td>\n",
       "      <td>-118.2918</td>\n",
       "      <td>02/25/2020 12:00:00 AM</td>\n",
       "      <td>02/25/2020 12:00:00 AM</td>\n",
       "      <td>1130.0</td>\n",
       "      <td>12.0</td>\n",
       "      <td>77th Street</td>\n",
       "      <td>1245.0</td>\n",
       "      <td>...</td>\n",
       "      <td>X</td>\n",
       "      <td>X</td>\n",
       "      <td>401.0</td>\n",
       "      <td>MINI-MART</td>\n",
       "      <td>400.0</td>\n",
       "      <td>STRONG-ARM (HANDS, FIST, FEET OR BODILY FORCE)</td>\n",
       "      <td>IC</td>\n",
       "      <td>Invest Cont</td>\n",
       "      <td>Property Crimes</td>\n",
       "      <td>Morning</td>\n",
       "    </tr>\n",
       "    <tr>\n",
       "      <th>...</th>\n",
       "      <td>...</td>\n",
       "      <td>...</td>\n",
       "      <td>...</td>\n",
       "      <td>...</td>\n",
       "      <td>...</td>\n",
       "      <td>...</td>\n",
       "      <td>...</td>\n",
       "      <td>...</td>\n",
       "      <td>...</td>\n",
       "      <td>...</td>\n",
       "      <td>...</td>\n",
       "      <td>...</td>\n",
       "      <td>...</td>\n",
       "      <td>...</td>\n",
       "      <td>...</td>\n",
       "      <td>...</td>\n",
       "      <td>...</td>\n",
       "      <td>...</td>\n",
       "      <td>...</td>\n",
       "      <td>...</td>\n",
       "      <td>...</td>\n",
       "    </tr>\n",
       "    <tr>\n",
       "      <th>19995</th>\n",
       "      <td>5100 W  ADAMS                        BL</td>\n",
       "      <td>NaN</td>\n",
       "      <td>34.0334</td>\n",
       "      <td>-118.3523</td>\n",
       "      <td>05/24/2020 12:00:00 AM</td>\n",
       "      <td>05/24/2020 12:00:00 AM</td>\n",
       "      <td>700.0</td>\n",
       "      <td>3.0</td>\n",
       "      <td>Southwest</td>\n",
       "      <td>303.0</td>\n",
       "      <td>...</td>\n",
       "      <td>M</td>\n",
       "      <td>H</td>\n",
       "      <td>501.0</td>\n",
       "      <td>SINGLE FAMILY DWELLING</td>\n",
       "      <td>400.0</td>\n",
       "      <td>STRONG-ARM (HANDS, FIST, FEET OR BODILY FORCE)</td>\n",
       "      <td>IC</td>\n",
       "      <td>Invest Cont</td>\n",
       "      <td>Violent Crimes</td>\n",
       "      <td>Morning</td>\n",
       "    </tr>\n",
       "    <tr>\n",
       "      <th>19996</th>\n",
       "      <td>16900    ROSCOE                       BL</td>\n",
       "      <td>NaN</td>\n",
       "      <td>34.2212</td>\n",
       "      <td>-118.5011</td>\n",
       "      <td>12/25/2020 12:00:00 AM</td>\n",
       "      <td>12/25/2020 12:00:00 AM</td>\n",
       "      <td>259.0</td>\n",
       "      <td>10.0</td>\n",
       "      <td>West Valley</td>\n",
       "      <td>1008.0</td>\n",
       "      <td>...</td>\n",
       "      <td>M</td>\n",
       "      <td>W</td>\n",
       "      <td>301.0</td>\n",
       "      <td>GAS STATION</td>\n",
       "      <td>NaN</td>\n",
       "      <td>NaN</td>\n",
       "      <td>IC</td>\n",
       "      <td>Invest Cont</td>\n",
       "      <td>Property Crimes</td>\n",
       "      <td>Night</td>\n",
       "    </tr>\n",
       "    <tr>\n",
       "      <th>19997</th>\n",
       "      <td>1000 S  SHENANDOAH                   ST</td>\n",
       "      <td>NaN</td>\n",
       "      <td>34.0571</td>\n",
       "      <td>-118.3815</td>\n",
       "      <td>09/25/2020 12:00:00 AM</td>\n",
       "      <td>09/25/2020 12:00:00 AM</td>\n",
       "      <td>1400.0</td>\n",
       "      <td>8.0</td>\n",
       "      <td>West LA</td>\n",
       "      <td>849.0</td>\n",
       "      <td>...</td>\n",
       "      <td>M</td>\n",
       "      <td>H</td>\n",
       "      <td>102.0</td>\n",
       "      <td>SIDEWALK</td>\n",
       "      <td>NaN</td>\n",
       "      <td>NaN</td>\n",
       "      <td>IC</td>\n",
       "      <td>Invest Cont</td>\n",
       "      <td>Property Crimes</td>\n",
       "      <td>Daytime</td>\n",
       "    </tr>\n",
       "    <tr>\n",
       "      <th>19998</th>\n",
       "      <td>300 W  SEPULVEDA                    ST</td>\n",
       "      <td>NaN</td>\n",
       "      <td>33.7451</td>\n",
       "      <td>-118.2835</td>\n",
       "      <td>06/10/2020 12:00:00 AM</td>\n",
       "      <td>06/10/2020 12:00:00 AM</td>\n",
       "      <td>600.0</td>\n",
       "      <td>5.0</td>\n",
       "      <td>Harbor</td>\n",
       "      <td>558.0</td>\n",
       "      <td>...</td>\n",
       "      <td>F</td>\n",
       "      <td>H</td>\n",
       "      <td>501.0</td>\n",
       "      <td>SINGLE FAMILY DWELLING</td>\n",
       "      <td>NaN</td>\n",
       "      <td>NaN</td>\n",
       "      <td>IC</td>\n",
       "      <td>Invest Cont</td>\n",
       "      <td>Crimes against Public Order</td>\n",
       "      <td>Morning</td>\n",
       "    </tr>\n",
       "    <tr>\n",
       "      <th>19999</th>\n",
       "      <td>DALTON                       AV</td>\n",
       "      <td>VERNON                       AV</td>\n",
       "      <td>34.0037</td>\n",
       "      <td>-118.3034</td>\n",
       "      <td>02/18/2020 12:00:00 AM</td>\n",
       "      <td>02/17/2020 12:00:00 AM</td>\n",
       "      <td>1800.0</td>\n",
       "      <td>3.0</td>\n",
       "      <td>Southwest</td>\n",
       "      <td>397.0</td>\n",
       "      <td>...</td>\n",
       "      <td>NaN</td>\n",
       "      <td>NaN</td>\n",
       "      <td>101.0</td>\n",
       "      <td>STREET</td>\n",
       "      <td>NaN</td>\n",
       "      <td>NaN</td>\n",
       "      <td>IC</td>\n",
       "      <td>Invest Cont</td>\n",
       "      <td>Property Crimes</td>\n",
       "      <td>Evening</td>\n",
       "    </tr>\n",
       "  </tbody>\n",
       "</table>\n",
       "<p>20000 rows × 23 columns</p>\n",
       "</div>"
      ],
      "text/plain": [
       "                                       Location  \\\n",
       "0       4500    CARPENTER                    AV   \n",
       "1               45TH                         ST   \n",
       "2        600 E  MARTIN LUTHER KING JR        BL   \n",
       "3      14900    ORO GRANDE                   ST   \n",
       "4       7100 S  VERMONT                      AV   \n",
       "...                                         ...   \n",
       "19995   5100 W  ADAMS                        BL   \n",
       "19996  16900    ROSCOE                       BL   \n",
       "19997   1000 S  SHENANDOAH                   ST   \n",
       "19998    300 W  SEPULVEDA                    ST   \n",
       "19999           DALTON                       AV   \n",
       "\n",
       "                          Cross_Street  Latitude  Longitude  \\\n",
       "0                                  NaN   34.1522  -118.3910   \n",
       "1      ALAMEDA                      ST   34.0028  -118.2391   \n",
       "2                                  NaN   34.0111  -118.2653   \n",
       "3                                  NaN   34.2953  -118.4590   \n",
       "4                                  NaN   33.9787  -118.2918   \n",
       "...                                ...       ...        ...   \n",
       "19995                              NaN   34.0334  -118.3523   \n",
       "19996                              NaN   34.2212  -118.5011   \n",
       "19997                              NaN   34.0571  -118.3815   \n",
       "19998                              NaN   33.7451  -118.2835   \n",
       "19999  VERNON                       AV   34.0037  -118.3034   \n",
       "\n",
       "                Date_Reported           Date_Occurred  Time_Occurred  Area_ID  \\\n",
       "0      03/09/2020 12:00:00 AM  03/06/2020 12:00:00 AM         1800.0     15.0   \n",
       "1      02/27/2020 12:00:00 AM  02/27/2020 12:00:00 AM         1345.0     13.0   \n",
       "2      08/21/2020 12:00:00 AM  08/21/2020 12:00:00 AM          605.0     13.0   \n",
       "3      11/08/2020 12:00:00 AM  11/06/2020 12:00:00 AM         1800.0     19.0   \n",
       "4      02/25/2020 12:00:00 AM  02/25/2020 12:00:00 AM         1130.0     12.0   \n",
       "...                       ...                     ...            ...      ...   \n",
       "19995  05/24/2020 12:00:00 AM  05/24/2020 12:00:00 AM          700.0      3.0   \n",
       "19996  12/25/2020 12:00:00 AM  12/25/2020 12:00:00 AM          259.0     10.0   \n",
       "19997  09/25/2020 12:00:00 AM  09/25/2020 12:00:00 AM         1400.0      8.0   \n",
       "19998  06/10/2020 12:00:00 AM  06/10/2020 12:00:00 AM          600.0      5.0   \n",
       "19999  02/18/2020 12:00:00 AM  02/17/2020 12:00:00 AM         1800.0      3.0   \n",
       "\n",
       "         Area_Name  Reporting_District_no  ...  Victim_Sex Victim_Descent  \\\n",
       "0      N Hollywood                 1563.0  ...           M              W   \n",
       "1           Newton                 1367.0  ...           M              H   \n",
       "2           Newton                 1343.0  ...           M              B   \n",
       "3          Mission                 1924.0  ...           M              H   \n",
       "4      77th Street                 1245.0  ...           X              X   \n",
       "...            ...                    ...  ...         ...            ...   \n",
       "19995    Southwest                  303.0  ...           M              H   \n",
       "19996  West Valley                 1008.0  ...           M              W   \n",
       "19997      West LA                  849.0  ...           M              H   \n",
       "19998       Harbor                  558.0  ...           F              H   \n",
       "19999    Southwest                  397.0  ...         NaN            NaN   \n",
       "\n",
       "       Premise_Code     Premise_Description Weapon_Used_Code  \\\n",
       "0             101.0                  STREET              NaN   \n",
       "1             216.0               SWAP MEET            400.0   \n",
       "2             501.0  SINGLE FAMILY DWELLING              NaN   \n",
       "3             101.0                  STREET              NaN   \n",
       "4             401.0               MINI-MART            400.0   \n",
       "...             ...                     ...              ...   \n",
       "19995         501.0  SINGLE FAMILY DWELLING            400.0   \n",
       "19996         301.0             GAS STATION              NaN   \n",
       "19997         102.0                SIDEWALK              NaN   \n",
       "19998         501.0  SINGLE FAMILY DWELLING              NaN   \n",
       "19999         101.0                  STREET              NaN   \n",
       "\n",
       "                                   Weapon_Description Status  \\\n",
       "0                                                 NaN     IC   \n",
       "1      STRONG-ARM (HANDS, FIST, FEET OR BODILY FORCE)     IC   \n",
       "2                                                 NaN     IC   \n",
       "3                                                 NaN     IC   \n",
       "4      STRONG-ARM (HANDS, FIST, FEET OR BODILY FORCE)     IC   \n",
       "...                                               ...    ...   \n",
       "19995  STRONG-ARM (HANDS, FIST, FEET OR BODILY FORCE)     IC   \n",
       "19996                                             NaN     IC   \n",
       "19997                                             NaN     IC   \n",
       "19998                                             NaN     IC   \n",
       "19999                                             NaN     IC   \n",
       "\n",
       "       Status_Description               Crime_Category day_category  \n",
       "0             Invest Cont              Property Crimes      Evening  \n",
       "1             Invest Cont              Property Crimes      Daytime  \n",
       "2             Invest Cont              Property Crimes      Morning  \n",
       "3             Invest Cont              Property Crimes      Evening  \n",
       "4             Invest Cont              Property Crimes      Morning  \n",
       "...                   ...                          ...          ...  \n",
       "19995         Invest Cont               Violent Crimes      Morning  \n",
       "19996         Invest Cont              Property Crimes        Night  \n",
       "19997         Invest Cont              Property Crimes      Daytime  \n",
       "19998         Invest Cont  Crimes against Public Order      Morning  \n",
       "19999         Invest Cont              Property Crimes      Evening  \n",
       "\n",
       "[20000 rows x 23 columns]"
      ]
     },
     "execution_count": 18,
     "metadata": {},
     "output_type": "execute_result"
    }
   ],
   "source": [
    "train"
   ]
  },
  {
   "cell_type": "code",
   "execution_count": 19,
   "id": "193e011f",
   "metadata": {
    "execution": {
     "iopub.execute_input": "2024-06-22T14:33:22.526361Z",
     "iopub.status.busy": "2024-06-22T14:33:22.525850Z",
     "iopub.status.idle": "2024-06-22T14:33:22.532386Z",
     "shell.execute_reply": "2024-06-22T14:33:22.531029Z"
    },
    "papermill": {
     "duration": 0.047276,
     "end_time": "2024-06-22T14:33:22.535228",
     "exception": false,
     "start_time": "2024-06-22T14:33:22.487952",
     "status": "completed"
    },
    "tags": []
   },
   "outputs": [],
   "source": [
    "\n",
    "def extract_date(d):\n",
    "    date=d.split(' ')[0]\n",
    "    \n",
    "    \n",
    "    date=pd.to_datetime(date).date()\n",
    "    \n",
    "    \n",
    "    return date\n",
    "    "
   ]
  },
  {
   "cell_type": "code",
   "execution_count": 20,
   "id": "4c7e342d",
   "metadata": {
    "execution": {
     "iopub.execute_input": "2024-06-22T14:33:22.611230Z",
     "iopub.status.busy": "2024-06-22T14:33:22.610727Z",
     "iopub.status.idle": "2024-06-22T14:33:44.833190Z",
     "shell.execute_reply": "2024-06-22T14:33:44.831758Z"
    },
    "papermill": {
     "duration": 22.264036,
     "end_time": "2024-06-22T14:33:44.836667",
     "exception": false,
     "start_time": "2024-06-22T14:33:22.572631",
     "status": "completed"
    },
    "tags": []
   },
   "outputs": [],
   "source": [
    "train['Date_Reported']=train['Date_Reported'].apply(extract_date)\n",
    "train['Date_Occurred']=train['Date_Occurred'].apply(extract_date)\n"
   ]
  },
  {
   "cell_type": "code",
   "execution_count": 21,
   "id": "accaaff8",
   "metadata": {
    "execution": {
     "iopub.execute_input": "2024-06-22T14:33:44.912434Z",
     "iopub.status.busy": "2024-06-22T14:33:44.911920Z",
     "iopub.status.idle": "2024-06-22T14:33:44.921230Z",
     "shell.execute_reply": "2024-06-22T14:33:44.919694Z"
    },
    "papermill": {
     "duration": 0.05013,
     "end_time": "2024-06-22T14:33:44.924280",
     "exception": false,
     "start_time": "2024-06-22T14:33:44.874150",
     "status": "completed"
    },
    "tags": []
   },
   "outputs": [
    {
     "data": {
      "text/plain": [
       "datetime.date"
      ]
     },
     "execution_count": 21,
     "metadata": {},
     "output_type": "execute_result"
    }
   ],
   "source": [
    "type(train['Date_Reported'][0])"
   ]
  },
  {
   "cell_type": "code",
   "execution_count": 22,
   "id": "3b29cb7e",
   "metadata": {
    "execution": {
     "iopub.execute_input": "2024-06-22T14:33:45.001643Z",
     "iopub.status.busy": "2024-06-22T14:33:45.000379Z",
     "iopub.status.idle": "2024-06-22T14:33:45.010040Z",
     "shell.execute_reply": "2024-06-22T14:33:45.008595Z"
    },
    "papermill": {
     "duration": 0.051187,
     "end_time": "2024-06-22T14:33:45.012852",
     "exception": false,
     "start_time": "2024-06-22T14:33:44.961665",
     "status": "completed"
    },
    "tags": []
   },
   "outputs": [
    {
     "data": {
      "text/plain": [
       "3"
      ]
     },
     "execution_count": 22,
     "metadata": {},
     "output_type": "execute_result"
    }
   ],
   "source": [
    "k=train['Date_Reported'][0]-train['Date_Occurred'][0]\n",
    "k.days"
   ]
  },
  {
   "cell_type": "code",
   "execution_count": 23,
   "id": "fe651078",
   "metadata": {
    "execution": {
     "iopub.execute_input": "2024-06-22T14:33:45.092887Z",
     "iopub.status.busy": "2024-06-22T14:33:45.091596Z",
     "iopub.status.idle": "2024-06-22T14:33:45.143271Z",
     "shell.execute_reply": "2024-06-22T14:33:45.141879Z"
    },
    "papermill": {
     "duration": 0.09588,
     "end_time": "2024-06-22T14:33:45.146644",
     "exception": false,
     "start_time": "2024-06-22T14:33:45.050764",
     "status": "completed"
    },
    "tags": []
   },
   "outputs": [],
   "source": [
    "train['Date_Reported']=pd.to_datetime(train['Date_Reported']).dt.date\n",
    "train['Date_Occurred']=pd.to_datetime(train['Date_Occurred']).dt.date\n",
    "\n",
    "train['reporting_delay_day_count']=(train['Date_Reported']-train['Date_Occurred'])"
   ]
  },
  {
   "cell_type": "code",
   "execution_count": 24,
   "id": "a701e967",
   "metadata": {
    "execution": {
     "iopub.execute_input": "2024-06-22T14:33:45.223109Z",
     "iopub.status.busy": "2024-06-22T14:33:45.221477Z",
     "iopub.status.idle": "2024-06-22T14:33:45.245738Z",
     "shell.execute_reply": "2024-06-22T14:33:45.244582Z"
    },
    "papermill": {
     "duration": 0.06576,
     "end_time": "2024-06-22T14:33:45.248918",
     "exception": false,
     "start_time": "2024-06-22T14:33:45.183158",
     "status": "completed"
    },
    "tags": []
   },
   "outputs": [],
   "source": [
    "def day_count(d):\n",
    "    return d.days\n",
    "train['reporting_delay_day_count']=train['reporting_delay_day_count'].apply(day_count)"
   ]
  },
  {
   "cell_type": "code",
   "execution_count": 25,
   "id": "ef59b151",
   "metadata": {
    "execution": {
     "iopub.execute_input": "2024-06-22T14:33:45.325573Z",
     "iopub.status.busy": "2024-06-22T14:33:45.325120Z",
     "iopub.status.idle": "2024-06-22T14:33:45.335345Z",
     "shell.execute_reply": "2024-06-22T14:33:45.333962Z"
    },
    "papermill": {
     "duration": 0.053,
     "end_time": "2024-06-22T14:33:45.338661",
     "exception": false,
     "start_time": "2024-06-22T14:33:45.285661",
     "status": "completed"
    },
    "tags": []
   },
   "outputs": [
    {
     "data": {
      "text/plain": [
       "0        3\n",
       "1        0\n",
       "2        0\n",
       "3        2\n",
       "4        0\n",
       "        ..\n",
       "19995    0\n",
       "19996    0\n",
       "19997    0\n",
       "19998    0\n",
       "19999    1\n",
       "Name: reporting_delay_day_count, Length: 20000, dtype: int64"
      ]
     },
     "execution_count": 25,
     "metadata": {},
     "output_type": "execute_result"
    }
   ],
   "source": [
    "train['reporting_delay_day_count']"
   ]
  },
  {
   "cell_type": "code",
   "execution_count": 26,
   "id": "2247afa2",
   "metadata": {
    "execution": {
     "iopub.execute_input": "2024-06-22T14:33:45.415723Z",
     "iopub.status.busy": "2024-06-22T14:33:45.415191Z",
     "iopub.status.idle": "2024-06-22T14:33:45.458683Z",
     "shell.execute_reply": "2024-06-22T14:33:45.457502Z"
    },
    "papermill": {
     "duration": 0.086102,
     "end_time": "2024-06-22T14:33:45.461697",
     "exception": false,
     "start_time": "2024-06-22T14:33:45.375595",
     "status": "completed"
    },
    "tags": []
   },
   "outputs": [
    {
     "name": "stdout",
     "output_type": "stream",
     "text": [
      "<class 'pandas.core.frame.DataFrame'>\n",
      "RangeIndex: 20000 entries, 0 to 19999\n",
      "Data columns (total 24 columns):\n",
      " #   Column                     Non-Null Count  Dtype  \n",
      "---  ------                     --------------  -----  \n",
      " 0   Location                   20000 non-null  object \n",
      " 1   Cross_Street               3448 non-null   object \n",
      " 2   Latitude                   20000 non-null  float64\n",
      " 3   Longitude                  20000 non-null  float64\n",
      " 4   Date_Reported              20000 non-null  object \n",
      " 5   Date_Occurred              20000 non-null  object \n",
      " 6   Time_Occurred              20000 non-null  float64\n",
      " 7   Area_ID                    20000 non-null  float64\n",
      " 8   Area_Name                  20000 non-null  object \n",
      " 9   Reporting_District_no      20000 non-null  float64\n",
      " 10  Part 1-2                   20000 non-null  float64\n",
      " 11  Modus_Operandi             17259 non-null  object \n",
      " 12  Victim_Age                 20000 non-null  float64\n",
      " 13  Victim_Sex                 17376 non-null  object \n",
      " 14  Victim_Descent             17376 non-null  object \n",
      " 15  Premise_Code               20000 non-null  float64\n",
      " 16  Premise_Description        19995 non-null  object \n",
      " 17  Weapon_Used_Code           7335 non-null   float64\n",
      " 18  Weapon_Description         7335 non-null   object \n",
      " 19  Status                     20000 non-null  object \n",
      " 20  Status_Description         20000 non-null  object \n",
      " 21  Crime_Category             20000 non-null  object \n",
      " 22  day_category               20000 non-null  object \n",
      " 23  reporting_delay_day_count  20000 non-null  int64  \n",
      "dtypes: float64(9), int64(1), object(14)\n",
      "memory usage: 3.7+ MB\n"
     ]
    }
   ],
   "source": [
    "train.info()"
   ]
  },
  {
   "cell_type": "code",
   "execution_count": 27,
   "id": "1023c988",
   "metadata": {
    "execution": {
     "iopub.execute_input": "2024-06-22T14:33:45.539078Z",
     "iopub.status.busy": "2024-06-22T14:33:45.538679Z",
     "iopub.status.idle": "2024-06-22T14:33:45.552744Z",
     "shell.execute_reply": "2024-06-22T14:33:45.551612Z"
    },
    "papermill": {
     "duration": 0.055799,
     "end_time": "2024-06-22T14:33:45.555420",
     "exception": false,
     "start_time": "2024-06-22T14:33:45.499621",
     "status": "completed"
    },
    "tags": []
   },
   "outputs": [
    {
     "data": {
      "text/plain": [
       "Premise_Description\n",
       "STREET                                          5033\n",
       "SINGLE FAMILY DWELLING                          3379\n",
       "MULTI-UNIT DWELLING (APARTMENT, DUPLEX, ETC)    2491\n",
       "PARKING LOT                                     1437\n",
       "SIDEWALK                                         978\n",
       "                                                ... \n",
       "BUS DEPOT/TERMINAL, OTHER THAN MTA                 1\n",
       "MTA - RED LINE - HOLLYWOOD/WESTERN                 1\n",
       "MTA - SILVER LINE - ROSECRANS                      1\n",
       "HIGH-RISE BUILDING                                 1\n",
       "COMPUTER SERVICES/REPAIRS/SALES                    1\n",
       "Name: count, Length: 216, dtype: int64"
      ]
     },
     "execution_count": 27,
     "metadata": {},
     "output_type": "execute_result"
    }
   ],
   "source": [
    "train['Premise_Description'].value_counts()"
   ]
  },
  {
   "cell_type": "code",
   "execution_count": 28,
   "id": "69cc338c",
   "metadata": {
    "execution": {
     "iopub.execute_input": "2024-06-22T14:33:45.632984Z",
     "iopub.status.busy": "2024-06-22T14:33:45.632521Z",
     "iopub.status.idle": "2024-06-22T14:33:45.642608Z",
     "shell.execute_reply": "2024-06-22T14:33:45.641312Z"
    },
    "papermill": {
     "duration": 0.051235,
     "end_time": "2024-06-22T14:33:45.645375",
     "exception": false,
     "start_time": "2024-06-22T14:33:45.594140",
     "status": "completed"
    },
    "tags": []
   },
   "outputs": [],
   "source": [
    "k=train['Premise_Description'].value_counts()"
   ]
  },
  {
   "cell_type": "code",
   "execution_count": 29,
   "id": "7ea3eb45",
   "metadata": {
    "execution": {
     "iopub.execute_input": "2024-06-22T14:33:45.721670Z",
     "iopub.status.busy": "2024-06-22T14:33:45.721159Z",
     "iopub.status.idle": "2024-06-22T14:33:45.729990Z",
     "shell.execute_reply": "2024-06-22T14:33:45.728618Z"
    },
    "papermill": {
     "duration": 0.050326,
     "end_time": "2024-06-22T14:33:45.732905",
     "exception": false,
     "start_time": "2024-06-22T14:33:45.682579",
     "status": "completed"
    },
    "tags": []
   },
   "outputs": [
    {
     "data": {
      "text/plain": [
       "'SINGLE FAMILY DWELLING'"
      ]
     },
     "execution_count": 29,
     "metadata": {},
     "output_type": "execute_result"
    }
   ],
   "source": [
    "train['Premise_Description'][2]"
   ]
  },
  {
   "cell_type": "code",
   "execution_count": 30,
   "id": "a25380b2",
   "metadata": {
    "execution": {
     "iopub.execute_input": "2024-06-22T14:33:45.808931Z",
     "iopub.status.busy": "2024-06-22T14:33:45.808518Z",
     "iopub.status.idle": "2024-06-22T14:33:45.816370Z",
     "shell.execute_reply": "2024-06-22T14:33:45.814925Z"
    },
    "papermill": {
     "duration": 0.049689,
     "end_time": "2024-06-22T14:33:45.819497",
     "exception": false,
     "start_time": "2024-06-22T14:33:45.769808",
     "status": "completed"
    },
    "tags": []
   },
   "outputs": [
    {
     "name": "stdout",
     "output_type": "stream",
     "text": [
      "Premise_Description\n",
      "DELIVERY SERVICE (FED EX, UPS, COURIERS,COURIER SERVICE)*    7\n",
      "MTA - RED LINE - UNION STATION                               6\n",
      "HARDWARE/BUILDING SUPPLY                                     6\n",
      "BAR/SPORTS BAR (OPEN DAY & NIGHT)                            6\n",
      "THE BEVERLY CONNECTION                                       6\n",
      "NAIL SALON                                                   6\n",
      "PHARMACY INSIDE STORE OR SUPERMARKET*                        6\n",
      "CHECK CASHING*                                               6\n",
      "NIGHT CLUB (OPEN EVENINGS ONLY)                              6\n",
      "ELEVATOR                                                     5\n",
      "Name: count, dtype: int64\n"
     ]
    }
   ],
   "source": [
    "print(k[90:100])"
   ]
  },
  {
   "cell_type": "code",
   "execution_count": 31,
   "id": "073713ff",
   "metadata": {
    "execution": {
     "iopub.execute_input": "2024-06-22T14:33:45.896623Z",
     "iopub.status.busy": "2024-06-22T14:33:45.896011Z",
     "iopub.status.idle": "2024-06-22T14:33:45.907688Z",
     "shell.execute_reply": "2024-06-22T14:33:45.906072Z"
    },
    "papermill": {
     "duration": 0.053624,
     "end_time": "2024-06-22T14:33:45.911054",
     "exception": false,
     "start_time": "2024-06-22T14:33:45.857430",
     "status": "completed"
    },
    "tags": []
   },
   "outputs": [
    {
     "data": {
      "text/plain": [
       "0                        STREET\n",
       "1                     SWAP MEET\n",
       "2        SINGLE FAMILY DWELLING\n",
       "3                        STREET\n",
       "4                     MINI-MART\n",
       "                  ...          \n",
       "19995    SINGLE FAMILY DWELLING\n",
       "19996               GAS STATION\n",
       "19997                  SIDEWALK\n",
       "19998    SINGLE FAMILY DWELLING\n",
       "19999                    STREET\n",
       "Name: Premise_Description, Length: 20000, dtype: object"
      ]
     },
     "execution_count": 31,
     "metadata": {},
     "output_type": "execute_result"
    }
   ],
   "source": [
    "train['Premise_Description']"
   ]
  },
  {
   "cell_type": "code",
   "execution_count": 32,
   "id": "d791f9a3",
   "metadata": {
    "execution": {
     "iopub.execute_input": "2024-06-22T14:33:45.987695Z",
     "iopub.status.busy": "2024-06-22T14:33:45.987180Z",
     "iopub.status.idle": "2024-06-22T14:33:45.997922Z",
     "shell.execute_reply": "2024-06-22T14:33:45.996554Z"
    },
    "papermill": {
     "duration": 0.053272,
     "end_time": "2024-06-22T14:33:46.001284",
     "exception": false,
     "start_time": "2024-06-22T14:33:45.948012",
     "status": "completed"
    },
    "tags": []
   },
   "outputs": [],
   "source": [
    "df=train[['Latitude','Longitude','reporting_delay_day_count','day_category','Victim_Age','Victim_Sex','Victim_Descent','Premise_Code','Weapon_Description','Weapon_Used_Code','Area_ID','Modus_Operandi','Part 1-2','Status','Crime_Category']]"
   ]
  },
  {
   "cell_type": "code",
   "execution_count": 33,
   "id": "be016b98",
   "metadata": {
    "execution": {
     "iopub.execute_input": "2024-06-22T14:33:46.076347Z",
     "iopub.status.busy": "2024-06-22T14:33:46.075895Z",
     "iopub.status.idle": "2024-06-22T14:33:46.102981Z",
     "shell.execute_reply": "2024-06-22T14:33:46.101598Z"
    },
    "papermill": {
     "duration": 0.067682,
     "end_time": "2024-06-22T14:33:46.105795",
     "exception": false,
     "start_time": "2024-06-22T14:33:46.038113",
     "status": "completed"
    },
    "tags": []
   },
   "outputs": [
    {
     "data": {
      "text/plain": [
       "Latitude                         0\n",
       "Longitude                        0\n",
       "reporting_delay_day_count        0\n",
       "day_category                     0\n",
       "Victim_Age                       0\n",
       "Victim_Sex                    2624\n",
       "Victim_Descent                2624\n",
       "Premise_Code                     0\n",
       "Weapon_Description           12665\n",
       "Weapon_Used_Code             12665\n",
       "Area_ID                          0\n",
       "Modus_Operandi                2741\n",
       "Part 1-2                         0\n",
       "Status                           0\n",
       "Crime_Category                   0\n",
       "dtype: int64"
      ]
     },
     "execution_count": 33,
     "metadata": {},
     "output_type": "execute_result"
    }
   ],
   "source": [
    "df.isnull().sum()"
   ]
  },
  {
   "cell_type": "code",
   "execution_count": 34,
   "id": "3b47e336",
   "metadata": {
    "execution": {
     "iopub.execute_input": "2024-06-22T14:33:46.182926Z",
     "iopub.status.busy": "2024-06-22T14:33:46.182417Z",
     "iopub.status.idle": "2024-06-22T14:33:46.195440Z",
     "shell.execute_reply": "2024-06-22T14:33:46.194262Z"
    },
    "papermill": {
     "duration": 0.055136,
     "end_time": "2024-06-22T14:33:46.197998",
     "exception": false,
     "start_time": "2024-06-22T14:33:46.142862",
     "status": "completed"
    },
    "tags": []
   },
   "outputs": [
    {
     "data": {
      "text/plain": [
       "Victim_Sex\n",
       "M    8538\n",
       "F    7176\n",
       "X    1660\n",
       "H       2\n",
       "Name: count, dtype: int64"
      ]
     },
     "execution_count": 34,
     "metadata": {},
     "output_type": "execute_result"
    }
   ],
   "source": [
    "df['Victim_Sex'].value_counts()"
   ]
  },
  {
   "cell_type": "code",
   "execution_count": 35,
   "id": "f8e9abf0",
   "metadata": {
    "execution": {
     "iopub.execute_input": "2024-06-22T14:33:46.275289Z",
     "iopub.status.busy": "2024-06-22T14:33:46.274848Z",
     "iopub.status.idle": "2024-06-22T14:33:46.306322Z",
     "shell.execute_reply": "2024-06-22T14:33:46.304822Z"
    },
    "papermill": {
     "duration": 0.073322,
     "end_time": "2024-06-22T14:33:46.309447",
     "exception": false,
     "start_time": "2024-06-22T14:33:46.236125",
     "status": "completed"
    },
    "tags": []
   },
   "outputs": [],
   "source": [
    "def victim_gender(val):\n",
    "    if val=='H' or pd.isna(val):\n",
    "        val='X'\n",
    "    return val\n",
    "\n",
    "\n",
    "df.loc[:,'Victim_Sex'] = df['Victim_Sex'].apply(victim_gender)"
   ]
  },
  {
   "cell_type": "code",
   "execution_count": 36,
   "id": "8a7fabb4",
   "metadata": {
    "execution": {
     "iopub.execute_input": "2024-06-22T14:33:46.389084Z",
     "iopub.status.busy": "2024-06-22T14:33:46.388688Z",
     "iopub.status.idle": "2024-06-22T14:33:46.421431Z",
     "shell.execute_reply": "2024-06-22T14:33:46.419983Z"
    },
    "papermill": {
     "duration": 0.076352,
     "end_time": "2024-06-22T14:33:46.424672",
     "exception": false,
     "start_time": "2024-06-22T14:33:46.348320",
     "status": "completed"
    },
    "tags": []
   },
   "outputs": [
    {
     "data": {
      "text/html": [
       "<div>\n",
       "<style scoped>\n",
       "    .dataframe tbody tr th:only-of-type {\n",
       "        vertical-align: middle;\n",
       "    }\n",
       "\n",
       "    .dataframe tbody tr th {\n",
       "        vertical-align: top;\n",
       "    }\n",
       "\n",
       "    .dataframe thead th {\n",
       "        text-align: right;\n",
       "    }\n",
       "</style>\n",
       "<table border=\"1\" class=\"dataframe\">\n",
       "  <thead>\n",
       "    <tr style=\"text-align: right;\">\n",
       "      <th></th>\n",
       "      <th>Latitude</th>\n",
       "      <th>Longitude</th>\n",
       "      <th>reporting_delay_day_count</th>\n",
       "      <th>day_category</th>\n",
       "      <th>Victim_Age</th>\n",
       "      <th>Victim_Sex</th>\n",
       "      <th>Victim_Descent</th>\n",
       "      <th>Premise_Code</th>\n",
       "      <th>Weapon_Description</th>\n",
       "      <th>Weapon_Used_Code</th>\n",
       "      <th>Area_ID</th>\n",
       "      <th>Modus_Operandi</th>\n",
       "      <th>Part 1-2</th>\n",
       "      <th>Status</th>\n",
       "      <th>Crime_Category</th>\n",
       "    </tr>\n",
       "  </thead>\n",
       "  <tbody>\n",
       "    <tr>\n",
       "      <th>0</th>\n",
       "      <td>34.1522</td>\n",
       "      <td>-118.3910</td>\n",
       "      <td>3</td>\n",
       "      <td>Evening</td>\n",
       "      <td>75.0</td>\n",
       "      <td>M</td>\n",
       "      <td>W</td>\n",
       "      <td>101.0</td>\n",
       "      <td>NaN</td>\n",
       "      <td>NaN</td>\n",
       "      <td>15.0</td>\n",
       "      <td>0385</td>\n",
       "      <td>1.0</td>\n",
       "      <td>IC</td>\n",
       "      <td>Property Crimes</td>\n",
       "    </tr>\n",
       "    <tr>\n",
       "      <th>1</th>\n",
       "      <td>34.0028</td>\n",
       "      <td>-118.2391</td>\n",
       "      <td>0</td>\n",
       "      <td>Daytime</td>\n",
       "      <td>41.0</td>\n",
       "      <td>M</td>\n",
       "      <td>H</td>\n",
       "      <td>216.0</td>\n",
       "      <td>STRONG-ARM (HANDS, FIST, FEET OR BODILY FORCE)</td>\n",
       "      <td>400.0</td>\n",
       "      <td>13.0</td>\n",
       "      <td>0906 0352 0371 0446 1822 0344 0416 0417</td>\n",
       "      <td>1.0</td>\n",
       "      <td>IC</td>\n",
       "      <td>Property Crimes</td>\n",
       "    </tr>\n",
       "    <tr>\n",
       "      <th>2</th>\n",
       "      <td>34.0111</td>\n",
       "      <td>-118.2653</td>\n",
       "      <td>0</td>\n",
       "      <td>Morning</td>\n",
       "      <td>67.0</td>\n",
       "      <td>M</td>\n",
       "      <td>B</td>\n",
       "      <td>501.0</td>\n",
       "      <td>NaN</td>\n",
       "      <td>NaN</td>\n",
       "      <td>13.0</td>\n",
       "      <td>0329 1202</td>\n",
       "      <td>2.0</td>\n",
       "      <td>IC</td>\n",
       "      <td>Property Crimes</td>\n",
       "    </tr>\n",
       "    <tr>\n",
       "      <th>3</th>\n",
       "      <td>34.2953</td>\n",
       "      <td>-118.4590</td>\n",
       "      <td>2</td>\n",
       "      <td>Evening</td>\n",
       "      <td>61.0</td>\n",
       "      <td>M</td>\n",
       "      <td>H</td>\n",
       "      <td>101.0</td>\n",
       "      <td>NaN</td>\n",
       "      <td>NaN</td>\n",
       "      <td>19.0</td>\n",
       "      <td>0329 1300</td>\n",
       "      <td>1.0</td>\n",
       "      <td>IC</td>\n",
       "      <td>Property Crimes</td>\n",
       "    </tr>\n",
       "    <tr>\n",
       "      <th>4</th>\n",
       "      <td>33.9787</td>\n",
       "      <td>-118.2918</td>\n",
       "      <td>0</td>\n",
       "      <td>Morning</td>\n",
       "      <td>0.0</td>\n",
       "      <td>X</td>\n",
       "      <td>X</td>\n",
       "      <td>401.0</td>\n",
       "      <td>STRONG-ARM (HANDS, FIST, FEET OR BODILY FORCE)</td>\n",
       "      <td>400.0</td>\n",
       "      <td>12.0</td>\n",
       "      <td>0416 0945 1822 0400 0417 0344</td>\n",
       "      <td>1.0</td>\n",
       "      <td>IC</td>\n",
       "      <td>Property Crimes</td>\n",
       "    </tr>\n",
       "    <tr>\n",
       "      <th>...</th>\n",
       "      <td>...</td>\n",
       "      <td>...</td>\n",
       "      <td>...</td>\n",
       "      <td>...</td>\n",
       "      <td>...</td>\n",
       "      <td>...</td>\n",
       "      <td>...</td>\n",
       "      <td>...</td>\n",
       "      <td>...</td>\n",
       "      <td>...</td>\n",
       "      <td>...</td>\n",
       "      <td>...</td>\n",
       "      <td>...</td>\n",
       "      <td>...</td>\n",
       "      <td>...</td>\n",
       "    </tr>\n",
       "    <tr>\n",
       "      <th>19995</th>\n",
       "      <td>34.0334</td>\n",
       "      <td>-118.3523</td>\n",
       "      <td>0</td>\n",
       "      <td>Morning</td>\n",
       "      <td>51.0</td>\n",
       "      <td>M</td>\n",
       "      <td>H</td>\n",
       "      <td>501.0</td>\n",
       "      <td>STRONG-ARM (HANDS, FIST, FEET OR BODILY FORCE)</td>\n",
       "      <td>400.0</td>\n",
       "      <td>3.0</td>\n",
       "      <td>0416 0446 2004 0913</td>\n",
       "      <td>2.0</td>\n",
       "      <td>IC</td>\n",
       "      <td>Violent Crimes</td>\n",
       "    </tr>\n",
       "    <tr>\n",
       "      <th>19996</th>\n",
       "      <td>34.2212</td>\n",
       "      <td>-118.5011</td>\n",
       "      <td>0</td>\n",
       "      <td>Night</td>\n",
       "      <td>0.0</td>\n",
       "      <td>M</td>\n",
       "      <td>W</td>\n",
       "      <td>301.0</td>\n",
       "      <td>NaN</td>\n",
       "      <td>NaN</td>\n",
       "      <td>10.0</td>\n",
       "      <td>1822 0209 0344 1414 1420</td>\n",
       "      <td>1.0</td>\n",
       "      <td>IC</td>\n",
       "      <td>Property Crimes</td>\n",
       "    </tr>\n",
       "    <tr>\n",
       "      <th>19997</th>\n",
       "      <td>34.0571</td>\n",
       "      <td>-118.3815</td>\n",
       "      <td>0</td>\n",
       "      <td>Daytime</td>\n",
       "      <td>42.0</td>\n",
       "      <td>M</td>\n",
       "      <td>H</td>\n",
       "      <td>102.0</td>\n",
       "      <td>NaN</td>\n",
       "      <td>NaN</td>\n",
       "      <td>8.0</td>\n",
       "      <td>0344 1822 1420</td>\n",
       "      <td>1.0</td>\n",
       "      <td>IC</td>\n",
       "      <td>Property Crimes</td>\n",
       "    </tr>\n",
       "    <tr>\n",
       "      <th>19998</th>\n",
       "      <td>33.7451</td>\n",
       "      <td>-118.2835</td>\n",
       "      <td>0</td>\n",
       "      <td>Morning</td>\n",
       "      <td>76.0</td>\n",
       "      <td>F</td>\n",
       "      <td>H</td>\n",
       "      <td>501.0</td>\n",
       "      <td>NaN</td>\n",
       "      <td>NaN</td>\n",
       "      <td>5.0</td>\n",
       "      <td>1202 2038 0913 0602 1242 0553</td>\n",
       "      <td>2.0</td>\n",
       "      <td>IC</td>\n",
       "      <td>Crimes against Public Order</td>\n",
       "    </tr>\n",
       "    <tr>\n",
       "      <th>19999</th>\n",
       "      <td>34.0037</td>\n",
       "      <td>-118.3034</td>\n",
       "      <td>1</td>\n",
       "      <td>Evening</td>\n",
       "      <td>0.0</td>\n",
       "      <td>X</td>\n",
       "      <td>NaN</td>\n",
       "      <td>101.0</td>\n",
       "      <td>NaN</td>\n",
       "      <td>NaN</td>\n",
       "      <td>3.0</td>\n",
       "      <td>NaN</td>\n",
       "      <td>1.0</td>\n",
       "      <td>IC</td>\n",
       "      <td>Property Crimes</td>\n",
       "    </tr>\n",
       "  </tbody>\n",
       "</table>\n",
       "<p>20000 rows × 15 columns</p>\n",
       "</div>"
      ],
      "text/plain": [
       "       Latitude  Longitude  reporting_delay_day_count day_category  \\\n",
       "0       34.1522  -118.3910                          3      Evening   \n",
       "1       34.0028  -118.2391                          0      Daytime   \n",
       "2       34.0111  -118.2653                          0      Morning   \n",
       "3       34.2953  -118.4590                          2      Evening   \n",
       "4       33.9787  -118.2918                          0      Morning   \n",
       "...         ...        ...                        ...          ...   \n",
       "19995   34.0334  -118.3523                          0      Morning   \n",
       "19996   34.2212  -118.5011                          0        Night   \n",
       "19997   34.0571  -118.3815                          0      Daytime   \n",
       "19998   33.7451  -118.2835                          0      Morning   \n",
       "19999   34.0037  -118.3034                          1      Evening   \n",
       "\n",
       "       Victim_Age Victim_Sex Victim_Descent  Premise_Code  \\\n",
       "0            75.0          M              W         101.0   \n",
       "1            41.0          M              H         216.0   \n",
       "2            67.0          M              B         501.0   \n",
       "3            61.0          M              H         101.0   \n",
       "4             0.0          X              X         401.0   \n",
       "...           ...        ...            ...           ...   \n",
       "19995        51.0          M              H         501.0   \n",
       "19996         0.0          M              W         301.0   \n",
       "19997        42.0          M              H         102.0   \n",
       "19998        76.0          F              H         501.0   \n",
       "19999         0.0          X            NaN         101.0   \n",
       "\n",
       "                                   Weapon_Description  Weapon_Used_Code  \\\n",
       "0                                                 NaN               NaN   \n",
       "1      STRONG-ARM (HANDS, FIST, FEET OR BODILY FORCE)             400.0   \n",
       "2                                                 NaN               NaN   \n",
       "3                                                 NaN               NaN   \n",
       "4      STRONG-ARM (HANDS, FIST, FEET OR BODILY FORCE)             400.0   \n",
       "...                                               ...               ...   \n",
       "19995  STRONG-ARM (HANDS, FIST, FEET OR BODILY FORCE)             400.0   \n",
       "19996                                             NaN               NaN   \n",
       "19997                                             NaN               NaN   \n",
       "19998                                             NaN               NaN   \n",
       "19999                                             NaN               NaN   \n",
       "\n",
       "       Area_ID                           Modus_Operandi  Part 1-2 Status  \\\n",
       "0         15.0                                     0385       1.0     IC   \n",
       "1         13.0  0906 0352 0371 0446 1822 0344 0416 0417       1.0     IC   \n",
       "2         13.0                                0329 1202       2.0     IC   \n",
       "3         19.0                                0329 1300       1.0     IC   \n",
       "4         12.0            0416 0945 1822 0400 0417 0344       1.0     IC   \n",
       "...        ...                                      ...       ...    ...   \n",
       "19995      3.0                      0416 0446 2004 0913       2.0     IC   \n",
       "19996     10.0                 1822 0209 0344 1414 1420       1.0     IC   \n",
       "19997      8.0                           0344 1822 1420       1.0     IC   \n",
       "19998      5.0            1202 2038 0913 0602 1242 0553       2.0     IC   \n",
       "19999      3.0                                      NaN       1.0     IC   \n",
       "\n",
       "                    Crime_Category  \n",
       "0                  Property Crimes  \n",
       "1                  Property Crimes  \n",
       "2                  Property Crimes  \n",
       "3                  Property Crimes  \n",
       "4                  Property Crimes  \n",
       "...                            ...  \n",
       "19995               Violent Crimes  \n",
       "19996              Property Crimes  \n",
       "19997              Property Crimes  \n",
       "19998  Crimes against Public Order  \n",
       "19999              Property Crimes  \n",
       "\n",
       "[20000 rows x 15 columns]"
      ]
     },
     "execution_count": 36,
     "metadata": {},
     "output_type": "execute_result"
    }
   ],
   "source": [
    "df"
   ]
  },
  {
   "cell_type": "code",
   "execution_count": 37,
   "id": "daff527b",
   "metadata": {
    "execution": {
     "iopub.execute_input": "2024-06-22T14:33:46.502783Z",
     "iopub.status.busy": "2024-06-22T14:33:46.502374Z",
     "iopub.status.idle": "2024-06-22T14:33:46.515944Z",
     "shell.execute_reply": "2024-06-22T14:33:46.514458Z"
    },
    "papermill": {
     "duration": 0.055619,
     "end_time": "2024-06-22T14:33:46.518868",
     "exception": false,
     "start_time": "2024-06-22T14:33:46.463249",
     "status": "completed"
    },
    "tags": []
   },
   "outputs": [
    {
     "data": {
      "text/plain": [
       "Victim_Sex\n",
       "M    8538\n",
       "F    7176\n",
       "X    4286\n",
       "Name: count, dtype: int64"
      ]
     },
     "execution_count": 37,
     "metadata": {},
     "output_type": "execute_result"
    }
   ],
   "source": [
    "df['Victim_Sex'].value_counts()"
   ]
  },
  {
   "cell_type": "code",
   "execution_count": 38,
   "id": "cda1e3bd",
   "metadata": {
    "execution": {
     "iopub.execute_input": "2024-06-22T14:33:46.599329Z",
     "iopub.status.busy": "2024-06-22T14:33:46.598862Z",
     "iopub.status.idle": "2024-06-22T14:33:46.609554Z",
     "shell.execute_reply": "2024-06-22T14:33:46.608014Z"
    },
    "papermill": {
     "duration": 0.055295,
     "end_time": "2024-06-22T14:33:46.612592",
     "exception": false,
     "start_time": "2024-06-22T14:33:46.557297",
     "status": "completed"
    },
    "tags": []
   },
   "outputs": [
    {
     "data": {
      "text/plain": [
       "array(['W', 'H', 'B', 'X', nan, 'O', 'A', 'K', 'C', 'F', 'I', 'J', 'Z',\n",
       "       'V', 'P', 'D', 'U', 'G'], dtype=object)"
      ]
     },
     "execution_count": 38,
     "metadata": {},
     "output_type": "execute_result"
    }
   ],
   "source": [
    "df['Victim_Descent'].unique()"
   ]
  },
  {
   "cell_type": "code",
   "execution_count": 39,
   "id": "c57be31c",
   "metadata": {
    "execution": {
     "iopub.execute_input": "2024-06-22T14:33:46.691226Z",
     "iopub.status.busy": "2024-06-22T14:33:46.690820Z",
     "iopub.status.idle": "2024-06-22T14:33:46.709156Z",
     "shell.execute_reply": "2024-06-22T14:33:46.708035Z"
    },
    "papermill": {
     "duration": 0.060554,
     "end_time": "2024-06-22T14:33:46.712139",
     "exception": false,
     "start_time": "2024-06-22T14:33:46.651585",
     "status": "completed"
    },
    "tags": []
   },
   "outputs": [
    {
     "data": {
      "text/plain": [
       "Weapon_Description                            \n",
       "STRONG-ARM (HANDS, FIST, FEET OR BODILY FORCE)    0.543967\n",
       "UNKNOWN WEAPON/OTHER WEAPON                       0.107566\n",
       "VERBAL THREAT                                     0.074438\n",
       "HAND GUN                                          0.052897\n",
       "KNIFE WITH BLADE 6INCHES OR LESS                  0.021813\n",
       "SEMI-AUTOMATIC PISTOL                             0.020995\n",
       "UNKNOWN FIREARM                                   0.017860\n",
       "OTHER KNIFE                                       0.017042\n",
       "VEHICLE                                           0.011452\n",
       "MACE/PEPPER SPRAY                                 0.010907\n",
       "ROCK/THROWN OBJECT                                0.008589\n",
       "BOTTLE                                            0.007498\n",
       "PIPE/METAL PIPE                                   0.007089\n",
       "CLUB/BAT                                          0.006953\n",
       "STICK                                             0.006680\n",
       "KITCHEN KNIFE                                     0.006135\n",
       "KNIFE WITH BLADE OVER 6 INCHES IN LENGTH          0.005862\n",
       "AIR PISTOL/REVOLVER/RIFLE/BB GUN                  0.005590\n",
       "FOLDING KNIFE                                     0.005044\n",
       "BLUNT INSTRUMENT                                  0.005044\n",
       "SIMULATED GUN                                     0.004772\n",
       "REVOLVER                                          0.004635\n",
       "BELT FLAILING INSTRUMENT/CHAIN                    0.003545\n",
       "CONCRETE BLOCK/BRICK                              0.003545\n",
       "MACHETE                                           0.003408\n",
       "UNKNOWN TYPE CUTTING INSTRUMENT                   0.003272\n",
       "SCREWDRIVER                                       0.003136\n",
       "HAMMER                                            0.003136\n",
       "FIRE                                              0.002999\n",
       "PHYSICAL PRESENCE                                 0.002454\n",
       "OTHER FIREARM                                     0.002454\n",
       "OTHER CUTTING INSTRUMENT                          0.002318\n",
       "FIXED OBJECT                                      0.002181\n",
       "GLASS                                             0.001909\n",
       "SCISSORS                                          0.001772\n",
       "RIFLE                                             0.001636\n",
       "BOARD                                             0.001500\n",
       "TOY GUN                                           0.001091\n",
       "SHOTGUN                                           0.000954\n",
       "TIRE IRON                                         0.000954\n",
       "AXE                                               0.000818\n",
       "STUN GUN                                          0.000545\n",
       "BRASS KNUCKLES                                    0.000545\n",
       "SCALDING LIQUID                                   0.000409\n",
       "SWITCH BLADE                                      0.000409\n",
       "SAWED OFF RIFLE/SHOTGUN                           0.000273\n",
       "DEMAND NOTE                                       0.000273\n",
       "ICE PICK                                          0.000273\n",
       "MARTIAL ARTS WEAPONS                              0.000273\n",
       "BOWIE KNIFE                                       0.000136\n",
       "STARTER PISTOL/REVOLVER                           0.000136\n",
       "BOMB THREAT                                       0.000136\n",
       "RAZOR BLADE                                       0.000136\n",
       "CAUSTIC CHEMICAL/POISON                           0.000136\n",
       "CLEAVER                                           0.000136\n",
       "ASSAULT WEAPON/UZI/AK47/ETC                       0.000136\n",
       "HECKLER & KOCH 93 SEMIAUTOMATIC ASSAULT RIFLE     0.000136\n",
       "Name: proportion, dtype: float64"
      ]
     },
     "execution_count": 39,
     "metadata": {},
     "output_type": "execute_result"
    }
   ],
   "source": [
    "unique_values_weapon=pd.DataFrame(df['Weapon_Description'])\n",
    "unique_values_weapon.value_counts(normalize=True)"
   ]
  },
  {
   "cell_type": "markdown",
   "id": "b05b771d",
   "metadata": {
    "papermill": {
     "duration": 0.037135,
     "end_time": "2024-06-22T14:33:46.787416",
     "exception": false,
     "start_time": "2024-06-22T14:33:46.750281",
     "status": "completed"
    },
    "tags": []
   },
   "source": []
  },
  {
   "cell_type": "code",
   "execution_count": 40,
   "id": "f36ad1c6",
   "metadata": {
    "execution": {
     "iopub.execute_input": "2024-06-22T14:33:46.865397Z",
     "iopub.status.busy": "2024-06-22T14:33:46.865000Z",
     "iopub.status.idle": "2024-06-22T14:33:46.883801Z",
     "shell.execute_reply": "2024-06-22T14:33:46.882582Z"
    },
    "papermill": {
     "duration": 0.061536,
     "end_time": "2024-06-22T14:33:46.886590",
     "exception": false,
     "start_time": "2024-06-22T14:33:46.825054",
     "status": "completed"
    },
    "tags": []
   },
   "outputs": [],
   "source": [
    "distribution = df['Weapon_Description'].dropna().value_counts(normalize=True)\n",
    "\n",
    "missing = df['Weapon_Description'].isnull().sum()\n",
    "\n",
    "imputed_values = np.random.choice(distribution.index, size=missing, p=distribution.values)\n",
    "\n",
    "# Impute the missing values\n",
    "df.loc[df['Weapon_Description'].isnull(), 'Weapon_Description'] = imputed_values\n"
   ]
  },
  {
   "cell_type": "code",
   "execution_count": 41,
   "id": "dac857d4",
   "metadata": {
    "execution": {
     "iopub.execute_input": "2024-06-22T14:33:46.965411Z",
     "iopub.status.busy": "2024-06-22T14:33:46.965006Z",
     "iopub.status.idle": "2024-06-22T14:33:46.985500Z",
     "shell.execute_reply": "2024-06-22T14:33:46.984302Z"
    },
    "papermill": {
     "duration": 0.062083,
     "end_time": "2024-06-22T14:33:46.988296",
     "exception": false,
     "start_time": "2024-06-22T14:33:46.926213",
     "status": "completed"
    },
    "tags": []
   },
   "outputs": [],
   "source": [
    "distribution = df['Victim_Descent'].dropna().value_counts(normalize=True)\n",
    "\n",
    "missing = df['Victim_Descent'].isnull().sum()\n",
    "\n",
    "imputed_values = np.random.choice(distribution.index, size=missing, p=distribution.values)\n",
    "\n",
    "# Impute the missing values\n",
    "df.loc[df['Victim_Descent'].isnull(), 'Victim_Descent'] = imputed_values"
   ]
  },
  {
   "cell_type": "code",
   "execution_count": 42,
   "id": "1ffc67ce",
   "metadata": {
    "execution": {
     "iopub.execute_input": "2024-06-22T14:33:47.065258Z",
     "iopub.status.busy": "2024-06-22T14:33:47.064832Z",
     "iopub.status.idle": "2024-06-22T14:33:47.091058Z",
     "shell.execute_reply": "2024-06-22T14:33:47.089841Z"
    },
    "papermill": {
     "duration": 0.067772,
     "end_time": "2024-06-22T14:33:47.093624",
     "exception": false,
     "start_time": "2024-06-22T14:33:47.025852",
     "status": "completed"
    },
    "tags": []
   },
   "outputs": [
    {
     "data": {
      "text/plain": [
       "Latitude                         0\n",
       "Longitude                        0\n",
       "reporting_delay_day_count        0\n",
       "day_category                     0\n",
       "Victim_Age                       0\n",
       "Victim_Sex                       0\n",
       "Victim_Descent                   0\n",
       "Premise_Code                     0\n",
       "Weapon_Description               0\n",
       "Weapon_Used_Code             12665\n",
       "Area_ID                          0\n",
       "Modus_Operandi                2741\n",
       "Part 1-2                         0\n",
       "Status                           0\n",
       "Crime_Category                   0\n",
       "dtype: int64"
      ]
     },
     "execution_count": 42,
     "metadata": {},
     "output_type": "execute_result"
    }
   ],
   "source": [
    "df.isnull().sum()\n"
   ]
  },
  {
   "cell_type": "markdown",
   "id": "9114b7e7",
   "metadata": {
    "execution": {
     "iopub.execute_input": "2024-06-18T11:25:46.853966Z",
     "iopub.status.busy": "2024-06-18T11:25:46.853487Z",
     "iopub.status.idle": "2024-06-18T11:25:48.288787Z",
     "shell.execute_reply": "2024-06-18T11:25:48.287061Z",
     "shell.execute_reply.started": "2024-06-18T11:25:46.853929Z"
    },
    "papermill": {
     "duration": 0.038803,
     "end_time": "2024-06-22T14:33:47.170498",
     "exception": false,
     "start_time": "2024-06-22T14:33:47.131695",
     "status": "completed"
    },
    "tags": []
   },
   "source": [
    " df.drop('Weapon_Used_Code',inplace=True,axis=1)"
   ]
  },
  {
   "cell_type": "code",
   "execution_count": 43,
   "id": "68d49ada",
   "metadata": {
    "execution": {
     "iopub.execute_input": "2024-06-22T14:33:47.249233Z",
     "iopub.status.busy": "2024-06-22T14:33:47.248821Z",
     "iopub.status.idle": "2024-06-22T14:33:47.258496Z",
     "shell.execute_reply": "2024-06-22T14:33:47.257182Z"
    },
    "papermill": {
     "duration": 0.052353,
     "end_time": "2024-06-22T14:33:47.261191",
     "exception": false,
     "start_time": "2024-06-22T14:33:47.208838",
     "status": "completed"
    },
    "tags": []
   },
   "outputs": [
    {
     "name": "stderr",
     "output_type": "stream",
     "text": [
      "/tmp/ipykernel_18/3662583146.py:1: SettingWithCopyWarning: \n",
      "A value is trying to be set on a copy of a slice from a DataFrame\n",
      "\n",
      "See the caveats in the documentation: https://pandas.pydata.org/pandas-docs/stable/user_guide/indexing.html#returning-a-view-versus-a-copy\n",
      "  df.drop('Weapon_Used_Code',inplace=True,axis=1)\n"
     ]
    }
   ],
   "source": [
    "df.drop('Weapon_Used_Code',inplace=True,axis=1)\n"
   ]
  },
  {
   "cell_type": "code",
   "execution_count": 44,
   "id": "7fbdde80",
   "metadata": {
    "execution": {
     "iopub.execute_input": "2024-06-22T14:33:47.341265Z",
     "iopub.status.busy": "2024-06-22T14:33:47.340855Z",
     "iopub.status.idle": "2024-06-22T14:33:47.369325Z",
     "shell.execute_reply": "2024-06-22T14:33:47.367727Z"
    },
    "papermill": {
     "duration": 0.071993,
     "end_time": "2024-06-22T14:33:47.372461",
     "exception": false,
     "start_time": "2024-06-22T14:33:47.300468",
     "status": "completed"
    },
    "tags": []
   },
   "outputs": [
    {
     "name": "stdout",
     "output_type": "stream",
     "text": [
      "<class 'pandas.core.frame.DataFrame'>\n",
      "RangeIndex: 20000 entries, 0 to 19999\n",
      "Data columns (total 14 columns):\n",
      " #   Column                     Non-Null Count  Dtype  \n",
      "---  ------                     --------------  -----  \n",
      " 0   Latitude                   20000 non-null  float64\n",
      " 1   Longitude                  20000 non-null  float64\n",
      " 2   reporting_delay_day_count  20000 non-null  int64  \n",
      " 3   day_category               20000 non-null  object \n",
      " 4   Victim_Age                 20000 non-null  float64\n",
      " 5   Victim_Sex                 20000 non-null  object \n",
      " 6   Victim_Descent             20000 non-null  object \n",
      " 7   Premise_Code               20000 non-null  float64\n",
      " 8   Weapon_Description         20000 non-null  object \n",
      " 9   Area_ID                    20000 non-null  float64\n",
      " 10  Modus_Operandi             17259 non-null  object \n",
      " 11  Part 1-2                   20000 non-null  float64\n",
      " 12  Status                     20000 non-null  object \n",
      " 13  Crime_Category             20000 non-null  object \n",
      "dtypes: float64(6), int64(1), object(7)\n",
      "memory usage: 2.1+ MB\n"
     ]
    }
   ],
   "source": [
    "df.info()"
   ]
  },
  {
   "cell_type": "code",
   "execution_count": 45,
   "id": "873c1126",
   "metadata": {
    "execution": {
     "iopub.execute_input": "2024-06-22T14:33:47.451629Z",
     "iopub.status.busy": "2024-06-22T14:33:47.451196Z",
     "iopub.status.idle": "2024-06-22T14:33:47.526344Z",
     "shell.execute_reply": "2024-06-22T14:33:47.524898Z"
    },
    "papermill": {
     "duration": 0.118353,
     "end_time": "2024-06-22T14:33:47.529269",
     "exception": false,
     "start_time": "2024-06-22T14:33:47.410916",
     "status": "completed"
    },
    "tags": []
   },
   "outputs": [],
   "source": [
    "# def number_of_activities(s):\n",
    "#     activities=[]\n",
    "#     s=str(s)\n",
    "#     a=s.split(' ')\n",
    "#     for i in a:\n",
    "#         if a not in activities:\n",
    "#             activities.append(a)\n",
    "#     return activities\n",
    "\n",
    "def number_of_activities(s):\n",
    "    if pd.isna(s):  # Handle NaN values\n",
    "        return ''\n",
    "    activities = set()  # Using a set to avoid duplicates efficiently\n",
    "    for activity in s.split(' '):\n",
    "        activities.add(str(activity))\n",
    "    activities=' '.join(activities)    \n",
    "    return activities\n",
    "df.loc[:,'Modus_Operandi']=df['Modus_Operandi'].apply(number_of_activities)\n",
    "# df.drop('Modus_Operandi',axis=1)\n",
    "# df['Modus_Operandi']=df['unique_activities']\n",
    "# df.drop('unique_activities',axis=1,inplace=True)"
   ]
  },
  {
   "cell_type": "code",
   "execution_count": 46,
   "id": "a5b3ec41",
   "metadata": {
    "execution": {
     "iopub.execute_input": "2024-06-22T14:33:47.609330Z",
     "iopub.status.busy": "2024-06-22T14:33:47.608834Z",
     "iopub.status.idle": "2024-06-22T14:33:47.631551Z",
     "shell.execute_reply": "2024-06-22T14:33:47.630297Z"
    },
    "papermill": {
     "duration": 0.066409,
     "end_time": "2024-06-22T14:33:47.634082",
     "exception": false,
     "start_time": "2024-06-22T14:33:47.567673",
     "status": "completed"
    },
    "tags": []
   },
   "outputs": [
    {
     "name": "stderr",
     "output_type": "stream",
     "text": [
      "/tmp/ipykernel_18/3589716598.py:1: SettingWithCopyWarning: \n",
      "A value is trying to be set on a copy of a slice from a DataFrame.\n",
      "Try using .loc[row_indexer,col_indexer] = value instead\n",
      "\n",
      "See the caveats in the documentation: https://pandas.pydata.org/pandas-docs/stable/user_guide/indexing.html#returning-a-view-versus-a-copy\n",
      "  df.loc[:,'max_activity']=df['Modus_Operandi'].apply(lambda x: len(x))\n"
     ]
    }
   ],
   "source": [
    "df.loc[:,'max_activity']=df['Modus_Operandi'].apply(lambda x: len(x))"
   ]
  },
  {
   "cell_type": "code",
   "execution_count": 47,
   "id": "fb8c286c",
   "metadata": {
    "execution": {
     "iopub.execute_input": "2024-06-22T14:33:47.712982Z",
     "iopub.status.busy": "2024-06-22T14:33:47.712586Z",
     "iopub.status.idle": "2024-06-22T14:33:47.738503Z",
     "shell.execute_reply": "2024-06-22T14:33:47.737293Z"
    },
    "papermill": {
     "duration": 0.06919,
     "end_time": "2024-06-22T14:33:47.741501",
     "exception": false,
     "start_time": "2024-06-22T14:33:47.672311",
     "status": "completed"
    },
    "tags": []
   },
   "outputs": [],
   "source": [
    "df.loc[:,'Premise_Code']=df['Premise_Code'].apply(lambda x : int(x))"
   ]
  },
  {
   "cell_type": "code",
   "execution_count": 48,
   "id": "c6d8287d",
   "metadata": {
    "execution": {
     "iopub.execute_input": "2024-06-22T14:33:47.822171Z",
     "iopub.status.busy": "2024-06-22T14:33:47.821783Z",
     "iopub.status.idle": "2024-06-22T14:33:47.866169Z",
     "shell.execute_reply": "2024-06-22T14:33:47.864542Z"
    },
    "papermill": {
     "duration": 0.087267,
     "end_time": "2024-06-22T14:33:47.869248",
     "exception": false,
     "start_time": "2024-06-22T14:33:47.781981",
     "status": "completed"
    },
    "tags": []
   },
   "outputs": [],
   "source": [
    "df.loc[:,'Area_ID']=df['Area_ID'].apply(lambda x : int(x))\n",
    "df.loc[:,'Part 1-2']=df['Part 1-2'].apply(lambda x : int(x))\n"
   ]
  },
  {
   "cell_type": "code",
   "execution_count": 49,
   "id": "e60e8ce7",
   "metadata": {
    "execution": {
     "iopub.execute_input": "2024-06-22T14:33:47.957142Z",
     "iopub.status.busy": "2024-06-22T14:33:47.956684Z",
     "iopub.status.idle": "2024-06-22T14:33:47.970946Z",
     "shell.execute_reply": "2024-06-22T14:33:47.969624Z"
    },
    "papermill": {
     "duration": 0.059789,
     "end_time": "2024-06-22T14:33:47.973920",
     "exception": false,
     "start_time": "2024-06-22T14:33:47.914131",
     "status": "completed"
    },
    "tags": []
   },
   "outputs": [
    {
     "data": {
      "text/plain": [
       "Victim_Age\n",
       " 0.0     4828\n",
       " 30.0     448\n",
       " 31.0     446\n",
       " 26.0     442\n",
       " 29.0     425\n",
       "         ... \n",
       " 98.0       2\n",
       "-2.0        2\n",
       " 92.0       2\n",
       " 96.0       2\n",
       " 94.0       2\n",
       "Name: count, Length: 100, dtype: int64"
      ]
     },
     "execution_count": 49,
     "metadata": {},
     "output_type": "execute_result"
    }
   ],
   "source": [
    "df['Victim_Age'].value_counts()"
   ]
  },
  {
   "cell_type": "code",
   "execution_count": 50,
   "id": "43ecc6b6",
   "metadata": {
    "execution": {
     "iopub.execute_input": "2024-06-22T14:33:48.057600Z",
     "iopub.status.busy": "2024-06-22T14:33:48.056476Z",
     "iopub.status.idle": "2024-06-22T14:33:48.068752Z",
     "shell.execute_reply": "2024-06-22T14:33:48.067387Z"
    },
    "papermill": {
     "duration": 0.057411,
     "end_time": "2024-06-22T14:33:48.071783",
     "exception": false,
     "start_time": "2024-06-22T14:33:48.014372",
     "status": "completed"
    },
    "tags": []
   },
   "outputs": [
    {
     "data": {
      "text/plain": [
       "Victim_Age\n",
       " 0.0     4828\n",
       " 30.0     448\n",
       " 31.0     446\n",
       " 26.0     442\n",
       " 29.0     425\n",
       "         ... \n",
       " 98.0       2\n",
       "-2.0        2\n",
       " 92.0       2\n",
       " 96.0       2\n",
       " 94.0       2\n",
       "Name: count, Length: 100, dtype: int64"
      ]
     },
     "execution_count": 50,
     "metadata": {},
     "output_type": "execute_result"
    }
   ],
   "source": [
    "df['Victim_Age'].value_counts()"
   ]
  },
  {
   "cell_type": "code",
   "execution_count": 51,
   "id": "7c888bb3",
   "metadata": {
    "execution": {
     "iopub.execute_input": "2024-06-22T14:33:48.156586Z",
     "iopub.status.busy": "2024-06-22T14:33:48.156069Z",
     "iopub.status.idle": "2024-06-22T14:33:48.164756Z",
     "shell.execute_reply": "2024-06-22T14:33:48.163284Z"
    },
    "papermill": {
     "duration": 0.053302,
     "end_time": "2024-06-22T14:33:48.168110",
     "exception": false,
     "start_time": "2024-06-22T14:33:48.114808",
     "status": "completed"
    },
    "tags": []
   },
   "outputs": [],
   "source": [
    "df.loc[df['Victim_Age']<0,'Victim_Age']=0"
   ]
  },
  {
   "cell_type": "code",
   "execution_count": 52,
   "id": "03cd1941",
   "metadata": {
    "execution": {
     "iopub.execute_input": "2024-06-22T14:33:48.252484Z",
     "iopub.status.busy": "2024-06-22T14:33:48.251939Z",
     "iopub.status.idle": "2024-06-22T14:33:48.265707Z",
     "shell.execute_reply": "2024-06-22T14:33:48.264267Z"
    },
    "papermill": {
     "duration": 0.059725,
     "end_time": "2024-06-22T14:33:48.268659",
     "exception": false,
     "start_time": "2024-06-22T14:33:48.208934",
     "status": "completed"
    },
    "tags": []
   },
   "outputs": [
    {
     "data": {
      "text/plain": [
       "Victim_Age\n",
       "0.0     4834\n",
       "30.0     448\n",
       "31.0     446\n",
       "26.0     442\n",
       "29.0     425\n",
       "        ... \n",
       "93.0       5\n",
       "92.0       2\n",
       "96.0       2\n",
       "98.0       2\n",
       "94.0       2\n",
       "Name: count, Length: 98, dtype: int64"
      ]
     },
     "execution_count": 52,
     "metadata": {},
     "output_type": "execute_result"
    }
   ],
   "source": [
    "df['Victim_Age'].value_counts()"
   ]
  },
  {
   "cell_type": "code",
   "execution_count": 53,
   "id": "67de22f3",
   "metadata": {
    "execution": {
     "iopub.execute_input": "2024-06-22T14:33:48.355529Z",
     "iopub.status.busy": "2024-06-22T14:33:48.354402Z",
     "iopub.status.idle": "2024-06-22T14:33:48.363595Z",
     "shell.execute_reply": "2024-06-22T14:33:48.362411Z"
    },
    "papermill": {
     "duration": 0.05457,
     "end_time": "2024-06-22T14:33:48.366256",
     "exception": false,
     "start_time": "2024-06-22T14:33:48.311686",
     "status": "completed"
    },
    "tags": []
   },
   "outputs": [
    {
     "data": {
      "text/plain": [
       "30.1354"
      ]
     },
     "execution_count": 53,
     "metadata": {},
     "output_type": "execute_result"
    }
   ],
   "source": [
    "df['Victim_Age'].mean()"
   ]
  },
  {
   "cell_type": "code",
   "execution_count": 54,
   "id": "f79f8f85",
   "metadata": {
    "execution": {
     "iopub.execute_input": "2024-06-22T14:33:48.449463Z",
     "iopub.status.busy": "2024-06-22T14:33:48.448967Z",
     "iopub.status.idle": "2024-06-22T14:33:48.821637Z",
     "shell.execute_reply": "2024-06-22T14:33:48.820322Z"
    },
    "papermill": {
     "duration": 0.41805,
     "end_time": "2024-06-22T14:33:48.824523",
     "exception": false,
     "start_time": "2024-06-22T14:33:48.406473",
     "status": "completed"
    },
    "tags": []
   },
   "outputs": [
    {
     "data": {
      "text/plain": [
       "<Axes: ylabel='Frequency'>"
      ]
     },
     "execution_count": 54,
     "metadata": {},
     "output_type": "execute_result"
    },
    {
     "data": {
      "image/png": "[encoded data removed]",
      "text/plain": [
       "<Figure size 640x480 with 1 Axes>"
      ]
     },
     "metadata": {},
     "output_type": "display_data"
    }
   ],
   "source": [
    "df['Victim_Age'].plot.hist()"
   ]
  },
  {
   "cell_type": "code",
   "execution_count": 55,
   "id": "36a5adfe",
   "metadata": {
    "execution": {
     "iopub.execute_input": "2024-06-22T14:33:48.910748Z",
     "iopub.status.busy": "2024-06-22T14:33:48.909987Z",
     "iopub.status.idle": "2024-06-22T14:33:48.958124Z",
     "shell.execute_reply": "2024-06-22T14:33:48.956686Z"
    },
    "papermill": {
     "duration": 0.094819,
     "end_time": "2024-06-22T14:33:48.960983",
     "exception": false,
     "start_time": "2024-06-22T14:33:48.866164",
     "status": "completed"
    },
    "tags": []
   },
   "outputs": [
    {
     "data": {
      "text/html": [
       "<div>\n",
       "<style scoped>\n",
       "    .dataframe tbody tr th:only-of-type {\n",
       "        vertical-align: middle;\n",
       "    }\n",
       "\n",
       "    .dataframe tbody tr th {\n",
       "        vertical-align: top;\n",
       "    }\n",
       "\n",
       "    .dataframe thead th {\n",
       "        text-align: right;\n",
       "    }\n",
       "</style>\n",
       "<table border=\"1\" class=\"dataframe\">\n",
       "  <thead>\n",
       "    <tr style=\"text-align: right;\">\n",
       "      <th></th>\n",
       "      <th>Latitude</th>\n",
       "      <th>Longitude</th>\n",
       "      <th>reporting_delay_day_count</th>\n",
       "      <th>Victim_Age</th>\n",
       "      <th>Premise_Code</th>\n",
       "      <th>Area_ID</th>\n",
       "      <th>Part 1-2</th>\n",
       "      <th>max_activity</th>\n",
       "    </tr>\n",
       "  </thead>\n",
       "  <tbody>\n",
       "    <tr>\n",
       "      <th>count</th>\n",
       "      <td>20000.000000</td>\n",
       "      <td>20000.000000</td>\n",
       "      <td>20000.000000</td>\n",
       "      <td>20000.00000</td>\n",
       "      <td>20000.000000</td>\n",
       "      <td>20000.000000</td>\n",
       "      <td>20000.000000</td>\n",
       "      <td>20000.000000</td>\n",
       "    </tr>\n",
       "    <tr>\n",
       "      <th>mean</th>\n",
       "      <td>33.940704</td>\n",
       "      <td>-117.893072</td>\n",
       "      <td>22.120000</td>\n",
       "      <td>30.13540</td>\n",
       "      <td>297.176950</td>\n",
       "      <td>10.834250</td>\n",
       "      <td>1.418150</td>\n",
       "      <td>14.633300</td>\n",
       "    </tr>\n",
       "    <tr>\n",
       "      <th>std</th>\n",
       "      <td>2.126810</td>\n",
       "      <td>7.377726</td>\n",
       "      <td>116.418619</td>\n",
       "      <td>21.86308</td>\n",
       "      <td>212.007298</td>\n",
       "      <td>6.033166</td>\n",
       "      <td>0.493267</td>\n",
       "      <td>11.527028</td>\n",
       "    </tr>\n",
       "    <tr>\n",
       "      <th>min</th>\n",
       "      <td>0.000000</td>\n",
       "      <td>-118.663400</td>\n",
       "      <td>0.000000</td>\n",
       "      <td>0.00000</td>\n",
       "      <td>101.000000</td>\n",
       "      <td>1.000000</td>\n",
       "      <td>1.000000</td>\n",
       "      <td>0.000000</td>\n",
       "    </tr>\n",
       "    <tr>\n",
       "      <th>25%</th>\n",
       "      <td>34.009200</td>\n",
       "      <td>-118.429700</td>\n",
       "      <td>0.000000</td>\n",
       "      <td>12.00000</td>\n",
       "      <td>101.000000</td>\n",
       "      <td>6.000000</td>\n",
       "      <td>1.000000</td>\n",
       "      <td>4.000000</td>\n",
       "    </tr>\n",
       "    <tr>\n",
       "      <th>50%</th>\n",
       "      <td>34.058700</td>\n",
       "      <td>-118.323000</td>\n",
       "      <td>0.000000</td>\n",
       "      <td>31.00000</td>\n",
       "      <td>203.000000</td>\n",
       "      <td>11.000000</td>\n",
       "      <td>1.000000</td>\n",
       "      <td>14.000000</td>\n",
       "    </tr>\n",
       "    <tr>\n",
       "      <th>75%</th>\n",
       "      <td>34.165025</td>\n",
       "      <td>-118.274400</td>\n",
       "      <td>2.000000</td>\n",
       "      <td>46.00000</td>\n",
       "      <td>501.000000</td>\n",
       "      <td>16.000000</td>\n",
       "      <td>2.000000</td>\n",
       "      <td>19.000000</td>\n",
       "    </tr>\n",
       "    <tr>\n",
       "      <th>max</th>\n",
       "      <td>34.328100</td>\n",
       "      <td>0.000000</td>\n",
       "      <td>1437.000000</td>\n",
       "      <td>99.00000</td>\n",
       "      <td>969.000000</td>\n",
       "      <td>21.000000</td>\n",
       "      <td>2.000000</td>\n",
       "      <td>49.000000</td>\n",
       "    </tr>\n",
       "  </tbody>\n",
       "</table>\n",
       "</div>"
      ],
      "text/plain": [
       "           Latitude     Longitude  reporting_delay_day_count   Victim_Age  \\\n",
       "count  20000.000000  20000.000000               20000.000000  20000.00000   \n",
       "mean      33.940704   -117.893072                  22.120000     30.13540   \n",
       "std        2.126810      7.377726                 116.418619     21.86308   \n",
       "min        0.000000   -118.663400                   0.000000      0.00000   \n",
       "25%       34.009200   -118.429700                   0.000000     12.00000   \n",
       "50%       34.058700   -118.323000                   0.000000     31.00000   \n",
       "75%       34.165025   -118.274400                   2.000000     46.00000   \n",
       "max       34.328100      0.000000                1437.000000     99.00000   \n",
       "\n",
       "       Premise_Code       Area_ID      Part 1-2  max_activity  \n",
       "count  20000.000000  20000.000000  20000.000000  20000.000000  \n",
       "mean     297.176950     10.834250      1.418150     14.633300  \n",
       "std      212.007298      6.033166      0.493267     11.527028  \n",
       "min      101.000000      1.000000      1.000000      0.000000  \n",
       "25%      101.000000      6.000000      1.000000      4.000000  \n",
       "50%      203.000000     11.000000      1.000000     14.000000  \n",
       "75%      501.000000     16.000000      2.000000     19.000000  \n",
       "max      969.000000     21.000000      2.000000     49.000000  "
      ]
     },
     "execution_count": 55,
     "metadata": {},
     "output_type": "execute_result"
    }
   ],
   "source": [
    "df.describe()"
   ]
  },
  {
   "cell_type": "code",
   "execution_count": 56,
   "id": "ee7960f2",
   "metadata": {
    "execution": {
     "iopub.execute_input": "2024-06-22T14:33:49.044997Z",
     "iopub.status.busy": "2024-06-22T14:33:49.043695Z",
     "iopub.status.idle": "2024-06-22T14:33:49.052360Z",
     "shell.execute_reply": "2024-06-22T14:33:49.050790Z"
    },
    "papermill": {
     "duration": 0.05402,
     "end_time": "2024-06-22T14:33:49.055100",
     "exception": false,
     "start_time": "2024-06-22T14:33:49.001080",
     "status": "completed"
    },
    "tags": []
   },
   "outputs": [],
   "source": [
    "df.loc[df['Victim_Age']==0,'Victim_Age']=df['Victim_Age'].mean()"
   ]
  },
  {
   "cell_type": "code",
   "execution_count": 57,
   "id": "331e2ebc",
   "metadata": {
    "execution": {
     "iopub.execute_input": "2024-06-22T14:33:49.144525Z",
     "iopub.status.busy": "2024-06-22T14:33:49.144019Z",
     "iopub.status.idle": "2024-06-22T14:33:49.438441Z",
     "shell.execute_reply": "2024-06-22T14:33:49.437134Z"
    },
    "papermill": {
     "duration": 0.345447,
     "end_time": "2024-06-22T14:33:49.441971",
     "exception": false,
     "start_time": "2024-06-22T14:33:49.096524",
     "status": "completed"
    },
    "tags": []
   },
   "outputs": [
    {
     "data": {
      "text/plain": [
       "<Axes: ylabel='Frequency'>"
      ]
     },
     "execution_count": 57,
     "metadata": {},
     "output_type": "execute_result"
    },
    {
     "data": {
      "image/png": "[encoded data removed]",
      "text/plain": [
       "<Figure size 640x480 with 1 Axes>"
      ]
     },
     "metadata": {},
     "output_type": "display_data"
    }
   ],
   "source": [
    "df['Victim_Age'].plot.hist()"
   ]
  },
  {
   "cell_type": "code",
   "execution_count": 58,
   "id": "75cae22d",
   "metadata": {
    "execution": {
     "iopub.execute_input": "2024-06-22T14:33:49.534409Z",
     "iopub.status.busy": "2024-06-22T14:33:49.532810Z",
     "iopub.status.idle": "2024-06-22T14:33:49.544895Z",
     "shell.execute_reply": "2024-06-22T14:33:49.543697Z"
    },
    "papermill": {
     "duration": 0.062133,
     "end_time": "2024-06-22T14:33:49.548025",
     "exception": false,
     "start_time": "2024-06-22T14:33:49.485892",
     "status": "completed"
    },
    "tags": []
   },
   "outputs": [
    {
     "data": {
      "text/plain": [
       "Part 1-2\n",
       "1.0    11637\n",
       "2.0     8363\n",
       "Name: count, dtype: int64"
      ]
     },
     "execution_count": 58,
     "metadata": {},
     "output_type": "execute_result"
    }
   ],
   "source": [
    "df['Part 1-2'].value_counts()"
   ]
  },
  {
   "cell_type": "code",
   "execution_count": 59,
   "id": "7599d0ab",
   "metadata": {
    "execution": {
     "iopub.execute_input": "2024-06-22T14:33:49.637163Z",
     "iopub.status.busy": "2024-06-22T14:33:49.636744Z",
     "iopub.status.idle": "2024-06-22T14:33:49.662437Z",
     "shell.execute_reply": "2024-06-22T14:33:49.661167Z"
    },
    "papermill": {
     "duration": 0.074325,
     "end_time": "2024-06-22T14:33:49.665475",
     "exception": false,
     "start_time": "2024-06-22T14:33:49.591150",
     "status": "completed"
    },
    "tags": []
   },
   "outputs": [],
   "source": [
    "df.loc[:,'Part 1-2']=df['Part 1-2'].apply(lambda x: int(x))"
   ]
  },
  {
   "cell_type": "code",
   "execution_count": 60,
   "id": "cfe01460",
   "metadata": {
    "execution": {
     "iopub.execute_input": "2024-06-22T14:33:49.751766Z",
     "iopub.status.busy": "2024-06-22T14:33:49.751352Z",
     "iopub.status.idle": "2024-06-22T14:33:49.783458Z",
     "shell.execute_reply": "2024-06-22T14:33:49.782128Z"
    },
    "papermill": {
     "duration": 0.078762,
     "end_time": "2024-06-22T14:33:49.786558",
     "exception": false,
     "start_time": "2024-06-22T14:33:49.707796",
     "status": "completed"
    },
    "tags": []
   },
   "outputs": [
    {
     "data": {
      "text/html": [
       "<div>\n",
       "<style scoped>\n",
       "    .dataframe tbody tr th:only-of-type {\n",
       "        vertical-align: middle;\n",
       "    }\n",
       "\n",
       "    .dataframe tbody tr th {\n",
       "        vertical-align: top;\n",
       "    }\n",
       "\n",
       "    .dataframe thead th {\n",
       "        text-align: right;\n",
       "    }\n",
       "</style>\n",
       "<table border=\"1\" class=\"dataframe\">\n",
       "  <thead>\n",
       "    <tr style=\"text-align: right;\">\n",
       "      <th></th>\n",
       "      <th>Latitude</th>\n",
       "      <th>Longitude</th>\n",
       "      <th>reporting_delay_day_count</th>\n",
       "      <th>day_category</th>\n",
       "      <th>Victim_Age</th>\n",
       "      <th>Victim_Sex</th>\n",
       "      <th>Victim_Descent</th>\n",
       "      <th>Premise_Code</th>\n",
       "      <th>Weapon_Description</th>\n",
       "      <th>Area_ID</th>\n",
       "      <th>Modus_Operandi</th>\n",
       "      <th>Part 1-2</th>\n",
       "      <th>Status</th>\n",
       "      <th>Crime_Category</th>\n",
       "      <th>max_activity</th>\n",
       "    </tr>\n",
       "  </thead>\n",
       "  <tbody>\n",
       "    <tr>\n",
       "      <th>0</th>\n",
       "      <td>34.1522</td>\n",
       "      <td>-118.3910</td>\n",
       "      <td>3</td>\n",
       "      <td>Evening</td>\n",
       "      <td>75.0000</td>\n",
       "      <td>M</td>\n",
       "      <td>W</td>\n",
       "      <td>101.0</td>\n",
       "      <td>STRONG-ARM (HANDS, FIST, FEET OR BODILY FORCE)</td>\n",
       "      <td>15.0</td>\n",
       "      <td>0385</td>\n",
       "      <td>1.0</td>\n",
       "      <td>IC</td>\n",
       "      <td>Property Crimes</td>\n",
       "      <td>4</td>\n",
       "    </tr>\n",
       "    <tr>\n",
       "      <th>1</th>\n",
       "      <td>34.0028</td>\n",
       "      <td>-118.2391</td>\n",
       "      <td>0</td>\n",
       "      <td>Daytime</td>\n",
       "      <td>41.0000</td>\n",
       "      <td>M</td>\n",
       "      <td>H</td>\n",
       "      <td>216.0</td>\n",
       "      <td>STRONG-ARM (HANDS, FIST, FEET OR BODILY FORCE)</td>\n",
       "      <td>13.0</td>\n",
       "      <td>0416 0371 0352 0446 0906 0344 1822 0417</td>\n",
       "      <td>1.0</td>\n",
       "      <td>IC</td>\n",
       "      <td>Property Crimes</td>\n",
       "      <td>39</td>\n",
       "    </tr>\n",
       "    <tr>\n",
       "      <th>2</th>\n",
       "      <td>34.0111</td>\n",
       "      <td>-118.2653</td>\n",
       "      <td>0</td>\n",
       "      <td>Morning</td>\n",
       "      <td>67.0000</td>\n",
       "      <td>M</td>\n",
       "      <td>B</td>\n",
       "      <td>501.0</td>\n",
       "      <td>STRONG-ARM (HANDS, FIST, FEET OR BODILY FORCE)</td>\n",
       "      <td>13.0</td>\n",
       "      <td>0329 1202</td>\n",
       "      <td>2.0</td>\n",
       "      <td>IC</td>\n",
       "      <td>Property Crimes</td>\n",
       "      <td>9</td>\n",
       "    </tr>\n",
       "    <tr>\n",
       "      <th>3</th>\n",
       "      <td>34.2953</td>\n",
       "      <td>-118.4590</td>\n",
       "      <td>2</td>\n",
       "      <td>Evening</td>\n",
       "      <td>61.0000</td>\n",
       "      <td>M</td>\n",
       "      <td>H</td>\n",
       "      <td>101.0</td>\n",
       "      <td>VERBAL THREAT</td>\n",
       "      <td>19.0</td>\n",
       "      <td>0329 1300</td>\n",
       "      <td>1.0</td>\n",
       "      <td>IC</td>\n",
       "      <td>Property Crimes</td>\n",
       "      <td>9</td>\n",
       "    </tr>\n",
       "    <tr>\n",
       "      <th>4</th>\n",
       "      <td>33.9787</td>\n",
       "      <td>-118.2918</td>\n",
       "      <td>0</td>\n",
       "      <td>Morning</td>\n",
       "      <td>30.1354</td>\n",
       "      <td>X</td>\n",
       "      <td>X</td>\n",
       "      <td>401.0</td>\n",
       "      <td>STRONG-ARM (HANDS, FIST, FEET OR BODILY FORCE)</td>\n",
       "      <td>12.0</td>\n",
       "      <td>0416 0945 0400 0344 1822 0417</td>\n",
       "      <td>1.0</td>\n",
       "      <td>IC</td>\n",
       "      <td>Property Crimes</td>\n",
       "      <td>29</td>\n",
       "    </tr>\n",
       "    <tr>\n",
       "      <th>...</th>\n",
       "      <td>...</td>\n",
       "      <td>...</td>\n",
       "      <td>...</td>\n",
       "      <td>...</td>\n",
       "      <td>...</td>\n",
       "      <td>...</td>\n",
       "      <td>...</td>\n",
       "      <td>...</td>\n",
       "      <td>...</td>\n",
       "      <td>...</td>\n",
       "      <td>...</td>\n",
       "      <td>...</td>\n",
       "      <td>...</td>\n",
       "      <td>...</td>\n",
       "      <td>...</td>\n",
       "    </tr>\n",
       "    <tr>\n",
       "      <th>19995</th>\n",
       "      <td>34.0334</td>\n",
       "      <td>-118.3523</td>\n",
       "      <td>0</td>\n",
       "      <td>Morning</td>\n",
       "      <td>51.0000</td>\n",
       "      <td>M</td>\n",
       "      <td>H</td>\n",
       "      <td>501.0</td>\n",
       "      <td>STRONG-ARM (HANDS, FIST, FEET OR BODILY FORCE)</td>\n",
       "      <td>3.0</td>\n",
       "      <td>0416 0913 0446 2004</td>\n",
       "      <td>2.0</td>\n",
       "      <td>IC</td>\n",
       "      <td>Violent Crimes</td>\n",
       "      <td>19</td>\n",
       "    </tr>\n",
       "    <tr>\n",
       "      <th>19996</th>\n",
       "      <td>34.2212</td>\n",
       "      <td>-118.5011</td>\n",
       "      <td>0</td>\n",
       "      <td>Night</td>\n",
       "      <td>30.1354</td>\n",
       "      <td>M</td>\n",
       "      <td>W</td>\n",
       "      <td>301.0</td>\n",
       "      <td>STRONG-ARM (HANDS, FIST, FEET OR BODILY FORCE)</td>\n",
       "      <td>10.0</td>\n",
       "      <td>1414 0209 0344 1822 1420</td>\n",
       "      <td>1.0</td>\n",
       "      <td>IC</td>\n",
       "      <td>Property Crimes</td>\n",
       "      <td>24</td>\n",
       "    </tr>\n",
       "    <tr>\n",
       "      <th>19997</th>\n",
       "      <td>34.0571</td>\n",
       "      <td>-118.3815</td>\n",
       "      <td>0</td>\n",
       "      <td>Daytime</td>\n",
       "      <td>42.0000</td>\n",
       "      <td>M</td>\n",
       "      <td>H</td>\n",
       "      <td>102.0</td>\n",
       "      <td>VERBAL THREAT</td>\n",
       "      <td>8.0</td>\n",
       "      <td>0344 1822 1420</td>\n",
       "      <td>1.0</td>\n",
       "      <td>IC</td>\n",
       "      <td>Property Crimes</td>\n",
       "      <td>14</td>\n",
       "    </tr>\n",
       "    <tr>\n",
       "      <th>19998</th>\n",
       "      <td>33.7451</td>\n",
       "      <td>-118.2835</td>\n",
       "      <td>0</td>\n",
       "      <td>Morning</td>\n",
       "      <td>76.0000</td>\n",
       "      <td>F</td>\n",
       "      <td>H</td>\n",
       "      <td>501.0</td>\n",
       "      <td>STRONG-ARM (HANDS, FIST, FEET OR BODILY FORCE)</td>\n",
       "      <td>5.0</td>\n",
       "      <td>1202 0913 2038 1242 0553 0602</td>\n",
       "      <td>2.0</td>\n",
       "      <td>IC</td>\n",
       "      <td>Crimes against Public Order</td>\n",
       "      <td>29</td>\n",
       "    </tr>\n",
       "    <tr>\n",
       "      <th>19999</th>\n",
       "      <td>34.0037</td>\n",
       "      <td>-118.3034</td>\n",
       "      <td>1</td>\n",
       "      <td>Evening</td>\n",
       "      <td>30.1354</td>\n",
       "      <td>X</td>\n",
       "      <td>H</td>\n",
       "      <td>101.0</td>\n",
       "      <td>STRONG-ARM (HANDS, FIST, FEET OR BODILY FORCE)</td>\n",
       "      <td>3.0</td>\n",
       "      <td></td>\n",
       "      <td>1.0</td>\n",
       "      <td>IC</td>\n",
       "      <td>Property Crimes</td>\n",
       "      <td>0</td>\n",
       "    </tr>\n",
       "  </tbody>\n",
       "</table>\n",
       "<p>20000 rows × 15 columns</p>\n",
       "</div>"
      ],
      "text/plain": [
       "       Latitude  Longitude  reporting_delay_day_count day_category  \\\n",
       "0       34.1522  -118.3910                          3      Evening   \n",
       "1       34.0028  -118.2391                          0      Daytime   \n",
       "2       34.0111  -118.2653                          0      Morning   \n",
       "3       34.2953  -118.4590                          2      Evening   \n",
       "4       33.9787  -118.2918                          0      Morning   \n",
       "...         ...        ...                        ...          ...   \n",
       "19995   34.0334  -118.3523                          0      Morning   \n",
       "19996   34.2212  -118.5011                          0        Night   \n",
       "19997   34.0571  -118.3815                          0      Daytime   \n",
       "19998   33.7451  -118.2835                          0      Morning   \n",
       "19999   34.0037  -118.3034                          1      Evening   \n",
       "\n",
       "       Victim_Age Victim_Sex Victim_Descent  Premise_Code  \\\n",
       "0         75.0000          M              W         101.0   \n",
       "1         41.0000          M              H         216.0   \n",
       "2         67.0000          M              B         501.0   \n",
       "3         61.0000          M              H         101.0   \n",
       "4         30.1354          X              X         401.0   \n",
       "...           ...        ...            ...           ...   \n",
       "19995     51.0000          M              H         501.0   \n",
       "19996     30.1354          M              W         301.0   \n",
       "19997     42.0000          M              H         102.0   \n",
       "19998     76.0000          F              H         501.0   \n",
       "19999     30.1354          X              H         101.0   \n",
       "\n",
       "                                   Weapon_Description  Area_ID  \\\n",
       "0      STRONG-ARM (HANDS, FIST, FEET OR BODILY FORCE)     15.0   \n",
       "1      STRONG-ARM (HANDS, FIST, FEET OR BODILY FORCE)     13.0   \n",
       "2      STRONG-ARM (HANDS, FIST, FEET OR BODILY FORCE)     13.0   \n",
       "3                                       VERBAL THREAT     19.0   \n",
       "4      STRONG-ARM (HANDS, FIST, FEET OR BODILY FORCE)     12.0   \n",
       "...                                               ...      ...   \n",
       "19995  STRONG-ARM (HANDS, FIST, FEET OR BODILY FORCE)      3.0   \n",
       "19996  STRONG-ARM (HANDS, FIST, FEET OR BODILY FORCE)     10.0   \n",
       "19997                                   VERBAL THREAT      8.0   \n",
       "19998  STRONG-ARM (HANDS, FIST, FEET OR BODILY FORCE)      5.0   \n",
       "19999  STRONG-ARM (HANDS, FIST, FEET OR BODILY FORCE)      3.0   \n",
       "\n",
       "                                Modus_Operandi  Part 1-2 Status  \\\n",
       "0                                         0385       1.0     IC   \n",
       "1      0416 0371 0352 0446 0906 0344 1822 0417       1.0     IC   \n",
       "2                                    0329 1202       2.0     IC   \n",
       "3                                    0329 1300       1.0     IC   \n",
       "4                0416 0945 0400 0344 1822 0417       1.0     IC   \n",
       "...                                        ...       ...    ...   \n",
       "19995                      0416 0913 0446 2004       2.0     IC   \n",
       "19996                 1414 0209 0344 1822 1420       1.0     IC   \n",
       "19997                           0344 1822 1420       1.0     IC   \n",
       "19998            1202 0913 2038 1242 0553 0602       2.0     IC   \n",
       "19999                                                1.0     IC   \n",
       "\n",
       "                    Crime_Category  max_activity  \n",
       "0                  Property Crimes             4  \n",
       "1                  Property Crimes            39  \n",
       "2                  Property Crimes             9  \n",
       "3                  Property Crimes             9  \n",
       "4                  Property Crimes            29  \n",
       "...                            ...           ...  \n",
       "19995               Violent Crimes            19  \n",
       "19996              Property Crimes            24  \n",
       "19997              Property Crimes            14  \n",
       "19998  Crimes against Public Order            29  \n",
       "19999              Property Crimes             0  \n",
       "\n",
       "[20000 rows x 15 columns]"
      ]
     },
     "execution_count": 60,
     "metadata": {},
     "output_type": "execute_result"
    }
   ],
   "source": [
    "df"
   ]
  },
  {
   "cell_type": "code",
   "execution_count": 61,
   "id": "1653815a",
   "metadata": {
    "execution": {
     "iopub.execute_input": "2024-06-22T14:33:49.874800Z",
     "iopub.status.busy": "2024-06-22T14:33:49.873993Z",
     "iopub.status.idle": "2024-06-22T14:33:49.904748Z",
     "shell.execute_reply": "2024-06-22T14:33:49.901352Z"
    },
    "papermill": {
     "duration": 0.079413,
     "end_time": "2024-06-22T14:33:49.908511",
     "exception": false,
     "start_time": "2024-06-22T14:33:49.829098",
     "status": "completed"
    },
    "tags": []
   },
   "outputs": [],
   "source": [
    "df.loc[:,'Victim_Age']=df['Victim_Age'].apply(lambda x: int(x))"
   ]
  },
  {
   "cell_type": "code",
   "execution_count": 62,
   "id": "64e9159b",
   "metadata": {
    "execution": {
     "iopub.execute_input": "2024-06-22T14:33:49.999987Z",
     "iopub.status.busy": "2024-06-22T14:33:49.999555Z",
     "iopub.status.idle": "2024-06-22T14:33:50.027225Z",
     "shell.execute_reply": "2024-06-22T14:33:50.025734Z"
    },
    "papermill": {
     "duration": 0.076484,
     "end_time": "2024-06-22T14:33:50.030238",
     "exception": false,
     "start_time": "2024-06-22T14:33:49.953754",
     "status": "completed"
    },
    "tags": []
   },
   "outputs": [
    {
     "data": {
      "text/plain": [
       "Latitude                     0\n",
       "Longitude                    0\n",
       "reporting_delay_day_count    0\n",
       "day_category                 0\n",
       "Victim_Age                   0\n",
       "Victim_Sex                   0\n",
       "Victim_Descent               0\n",
       "Premise_Code                 0\n",
       "Weapon_Description           0\n",
       "Area_ID                      0\n",
       "Modus_Operandi               0\n",
       "Part 1-2                     0\n",
       "Status                       0\n",
       "Crime_Category               0\n",
       "max_activity                 0\n",
       "dtype: int64"
      ]
     },
     "execution_count": 62,
     "metadata": {},
     "output_type": "execute_result"
    }
   ],
   "source": [
    "df.isnull().sum()"
   ]
  },
  {
   "cell_type": "code",
   "execution_count": 63,
   "id": "d4028983",
   "metadata": {
    "execution": {
     "iopub.execute_input": "2024-06-22T14:33:50.146550Z",
     "iopub.status.busy": "2024-06-22T14:33:50.146111Z",
     "iopub.status.idle": "2024-06-22T14:33:50.182207Z",
     "shell.execute_reply": "2024-06-22T14:33:50.180712Z"
    },
    "papermill": {
     "duration": 0.104701,
     "end_time": "2024-06-22T14:33:50.185170",
     "exception": false,
     "start_time": "2024-06-22T14:33:50.080469",
     "status": "completed"
    },
    "tags": []
   },
   "outputs": [
    {
     "data": {
      "text/html": [
       "<div>\n",
       "<style scoped>\n",
       "    .dataframe tbody tr th:only-of-type {\n",
       "        vertical-align: middle;\n",
       "    }\n",
       "\n",
       "    .dataframe tbody tr th {\n",
       "        vertical-align: top;\n",
       "    }\n",
       "\n",
       "    .dataframe thead th {\n",
       "        text-align: right;\n",
       "    }\n",
       "</style>\n",
       "<table border=\"1\" class=\"dataframe\">\n",
       "  <thead>\n",
       "    <tr style=\"text-align: right;\">\n",
       "      <th></th>\n",
       "      <th>Latitude</th>\n",
       "      <th>Longitude</th>\n",
       "      <th>reporting_delay_day_count</th>\n",
       "      <th>day_category</th>\n",
       "      <th>Victim_Age</th>\n",
       "      <th>Victim_Sex</th>\n",
       "      <th>Victim_Descent</th>\n",
       "      <th>Premise_Code</th>\n",
       "      <th>Weapon_Description</th>\n",
       "      <th>Area_ID</th>\n",
       "      <th>Modus_Operandi</th>\n",
       "      <th>Part 1-2</th>\n",
       "      <th>Status</th>\n",
       "      <th>Crime_Category</th>\n",
       "      <th>max_activity</th>\n",
       "    </tr>\n",
       "  </thead>\n",
       "  <tbody>\n",
       "    <tr>\n",
       "      <th>0</th>\n",
       "      <td>34.1522</td>\n",
       "      <td>-118.3910</td>\n",
       "      <td>3</td>\n",
       "      <td>Evening</td>\n",
       "      <td>75.0</td>\n",
       "      <td>M</td>\n",
       "      <td>W</td>\n",
       "      <td>101.0</td>\n",
       "      <td>STRONG-ARM (HANDS, FIST, FEET OR BODILY FORCE)</td>\n",
       "      <td>15.0</td>\n",
       "      <td>0385</td>\n",
       "      <td>1.0</td>\n",
       "      <td>IC</td>\n",
       "      <td>Property Crimes</td>\n",
       "      <td>4</td>\n",
       "    </tr>\n",
       "    <tr>\n",
       "      <th>1</th>\n",
       "      <td>34.0028</td>\n",
       "      <td>-118.2391</td>\n",
       "      <td>0</td>\n",
       "      <td>Daytime</td>\n",
       "      <td>41.0</td>\n",
       "      <td>M</td>\n",
       "      <td>H</td>\n",
       "      <td>216.0</td>\n",
       "      <td>STRONG-ARM (HANDS, FIST, FEET OR BODILY FORCE)</td>\n",
       "      <td>13.0</td>\n",
       "      <td>0416 0371 0352 0446 0906 0344 1822 0417</td>\n",
       "      <td>1.0</td>\n",
       "      <td>IC</td>\n",
       "      <td>Property Crimes</td>\n",
       "      <td>39</td>\n",
       "    </tr>\n",
       "    <tr>\n",
       "      <th>2</th>\n",
       "      <td>34.0111</td>\n",
       "      <td>-118.2653</td>\n",
       "      <td>0</td>\n",
       "      <td>Morning</td>\n",
       "      <td>67.0</td>\n",
       "      <td>M</td>\n",
       "      <td>B</td>\n",
       "      <td>501.0</td>\n",
       "      <td>STRONG-ARM (HANDS, FIST, FEET OR BODILY FORCE)</td>\n",
       "      <td>13.0</td>\n",
       "      <td>0329 1202</td>\n",
       "      <td>2.0</td>\n",
       "      <td>IC</td>\n",
       "      <td>Property Crimes</td>\n",
       "      <td>9</td>\n",
       "    </tr>\n",
       "    <tr>\n",
       "      <th>3</th>\n",
       "      <td>34.2953</td>\n",
       "      <td>-118.4590</td>\n",
       "      <td>2</td>\n",
       "      <td>Evening</td>\n",
       "      <td>61.0</td>\n",
       "      <td>M</td>\n",
       "      <td>H</td>\n",
       "      <td>101.0</td>\n",
       "      <td>VERBAL THREAT</td>\n",
       "      <td>19.0</td>\n",
       "      <td>0329 1300</td>\n",
       "      <td>1.0</td>\n",
       "      <td>IC</td>\n",
       "      <td>Property Crimes</td>\n",
       "      <td>9</td>\n",
       "    </tr>\n",
       "    <tr>\n",
       "      <th>4</th>\n",
       "      <td>33.9787</td>\n",
       "      <td>-118.2918</td>\n",
       "      <td>0</td>\n",
       "      <td>Morning</td>\n",
       "      <td>30.0</td>\n",
       "      <td>X</td>\n",
       "      <td>X</td>\n",
       "      <td>401.0</td>\n",
       "      <td>STRONG-ARM (HANDS, FIST, FEET OR BODILY FORCE)</td>\n",
       "      <td>12.0</td>\n",
       "      <td>0416 0945 0400 0344 1822 0417</td>\n",
       "      <td>1.0</td>\n",
       "      <td>IC</td>\n",
       "      <td>Property Crimes</td>\n",
       "      <td>29</td>\n",
       "    </tr>\n",
       "    <tr>\n",
       "      <th>...</th>\n",
       "      <td>...</td>\n",
       "      <td>...</td>\n",
       "      <td>...</td>\n",
       "      <td>...</td>\n",
       "      <td>...</td>\n",
       "      <td>...</td>\n",
       "      <td>...</td>\n",
       "      <td>...</td>\n",
       "      <td>...</td>\n",
       "      <td>...</td>\n",
       "      <td>...</td>\n",
       "      <td>...</td>\n",
       "      <td>...</td>\n",
       "      <td>...</td>\n",
       "      <td>...</td>\n",
       "    </tr>\n",
       "    <tr>\n",
       "      <th>19995</th>\n",
       "      <td>34.0334</td>\n",
       "      <td>-118.3523</td>\n",
       "      <td>0</td>\n",
       "      <td>Morning</td>\n",
       "      <td>51.0</td>\n",
       "      <td>M</td>\n",
       "      <td>H</td>\n",
       "      <td>501.0</td>\n",
       "      <td>STRONG-ARM (HANDS, FIST, FEET OR BODILY FORCE)</td>\n",
       "      <td>3.0</td>\n",
       "      <td>0416 0913 0446 2004</td>\n",
       "      <td>2.0</td>\n",
       "      <td>IC</td>\n",
       "      <td>Violent Crimes</td>\n",
       "      <td>19</td>\n",
       "    </tr>\n",
       "    <tr>\n",
       "      <th>19996</th>\n",
       "      <td>34.2212</td>\n",
       "      <td>-118.5011</td>\n",
       "      <td>0</td>\n",
       "      <td>Night</td>\n",
       "      <td>30.0</td>\n",
       "      <td>M</td>\n",
       "      <td>W</td>\n",
       "      <td>301.0</td>\n",
       "      <td>STRONG-ARM (HANDS, FIST, FEET OR BODILY FORCE)</td>\n",
       "      <td>10.0</td>\n",
       "      <td>1414 0209 0344 1822 1420</td>\n",
       "      <td>1.0</td>\n",
       "      <td>IC</td>\n",
       "      <td>Property Crimes</td>\n",
       "      <td>24</td>\n",
       "    </tr>\n",
       "    <tr>\n",
       "      <th>19997</th>\n",
       "      <td>34.0571</td>\n",
       "      <td>-118.3815</td>\n",
       "      <td>0</td>\n",
       "      <td>Daytime</td>\n",
       "      <td>42.0</td>\n",
       "      <td>M</td>\n",
       "      <td>H</td>\n",
       "      <td>102.0</td>\n",
       "      <td>VERBAL THREAT</td>\n",
       "      <td>8.0</td>\n",
       "      <td>0344 1822 1420</td>\n",
       "      <td>1.0</td>\n",
       "      <td>IC</td>\n",
       "      <td>Property Crimes</td>\n",
       "      <td>14</td>\n",
       "    </tr>\n",
       "    <tr>\n",
       "      <th>19998</th>\n",
       "      <td>33.7451</td>\n",
       "      <td>-118.2835</td>\n",
       "      <td>0</td>\n",
       "      <td>Morning</td>\n",
       "      <td>76.0</td>\n",
       "      <td>F</td>\n",
       "      <td>H</td>\n",
       "      <td>501.0</td>\n",
       "      <td>STRONG-ARM (HANDS, FIST, FEET OR BODILY FORCE)</td>\n",
       "      <td>5.0</td>\n",
       "      <td>1202 0913 2038 1242 0553 0602</td>\n",
       "      <td>2.0</td>\n",
       "      <td>IC</td>\n",
       "      <td>Crimes against Public Order</td>\n",
       "      <td>29</td>\n",
       "    </tr>\n",
       "    <tr>\n",
       "      <th>19999</th>\n",
       "      <td>34.0037</td>\n",
       "      <td>-118.3034</td>\n",
       "      <td>1</td>\n",
       "      <td>Evening</td>\n",
       "      <td>30.0</td>\n",
       "      <td>X</td>\n",
       "      <td>H</td>\n",
       "      <td>101.0</td>\n",
       "      <td>STRONG-ARM (HANDS, FIST, FEET OR BODILY FORCE)</td>\n",
       "      <td>3.0</td>\n",
       "      <td></td>\n",
       "      <td>1.0</td>\n",
       "      <td>IC</td>\n",
       "      <td>Property Crimes</td>\n",
       "      <td>0</td>\n",
       "    </tr>\n",
       "  </tbody>\n",
       "</table>\n",
       "<p>20000 rows × 15 columns</p>\n",
       "</div>"
      ],
      "text/plain": [
       "       Latitude  Longitude  reporting_delay_day_count day_category  \\\n",
       "0       34.1522  -118.3910                          3      Evening   \n",
       "1       34.0028  -118.2391                          0      Daytime   \n",
       "2       34.0111  -118.2653                          0      Morning   \n",
       "3       34.2953  -118.4590                          2      Evening   \n",
       "4       33.9787  -118.2918                          0      Morning   \n",
       "...         ...        ...                        ...          ...   \n",
       "19995   34.0334  -118.3523                          0      Morning   \n",
       "19996   34.2212  -118.5011                          0        Night   \n",
       "19997   34.0571  -118.3815                          0      Daytime   \n",
       "19998   33.7451  -118.2835                          0      Morning   \n",
       "19999   34.0037  -118.3034                          1      Evening   \n",
       "\n",
       "       Victim_Age Victim_Sex Victim_Descent  Premise_Code  \\\n",
       "0            75.0          M              W         101.0   \n",
       "1            41.0          M              H         216.0   \n",
       "2            67.0          M              B         501.0   \n",
       "3            61.0          M              H         101.0   \n",
       "4            30.0          X              X         401.0   \n",
       "...           ...        ...            ...           ...   \n",
       "19995        51.0          M              H         501.0   \n",
       "19996        30.0          M              W         301.0   \n",
       "19997        42.0          M              H         102.0   \n",
       "19998        76.0          F              H         501.0   \n",
       "19999        30.0          X              H         101.0   \n",
       "\n",
       "                                   Weapon_Description  Area_ID  \\\n",
       "0      STRONG-ARM (HANDS, FIST, FEET OR BODILY FORCE)     15.0   \n",
       "1      STRONG-ARM (HANDS, FIST, FEET OR BODILY FORCE)     13.0   \n",
       "2      STRONG-ARM (HANDS, FIST, FEET OR BODILY FORCE)     13.0   \n",
       "3                                       VERBAL THREAT     19.0   \n",
       "4      STRONG-ARM (HANDS, FIST, FEET OR BODILY FORCE)     12.0   \n",
       "...                                               ...      ...   \n",
       "19995  STRONG-ARM (HANDS, FIST, FEET OR BODILY FORCE)      3.0   \n",
       "19996  STRONG-ARM (HANDS, FIST, FEET OR BODILY FORCE)     10.0   \n",
       "19997                                   VERBAL THREAT      8.0   \n",
       "19998  STRONG-ARM (HANDS, FIST, FEET OR BODILY FORCE)      5.0   \n",
       "19999  STRONG-ARM (HANDS, FIST, FEET OR BODILY FORCE)      3.0   \n",
       "\n",
       "                                Modus_Operandi  Part 1-2 Status  \\\n",
       "0                                         0385       1.0     IC   \n",
       "1      0416 0371 0352 0446 0906 0344 1822 0417       1.0     IC   \n",
       "2                                    0329 1202       2.0     IC   \n",
       "3                                    0329 1300       1.0     IC   \n",
       "4                0416 0945 0400 0344 1822 0417       1.0     IC   \n",
       "...                                        ...       ...    ...   \n",
       "19995                      0416 0913 0446 2004       2.0     IC   \n",
       "19996                 1414 0209 0344 1822 1420       1.0     IC   \n",
       "19997                           0344 1822 1420       1.0     IC   \n",
       "19998            1202 0913 2038 1242 0553 0602       2.0     IC   \n",
       "19999                                                1.0     IC   \n",
       "\n",
       "                    Crime_Category  max_activity  \n",
       "0                  Property Crimes             4  \n",
       "1                  Property Crimes            39  \n",
       "2                  Property Crimes             9  \n",
       "3                  Property Crimes             9  \n",
       "4                  Property Crimes            29  \n",
       "...                            ...           ...  \n",
       "19995               Violent Crimes            19  \n",
       "19996              Property Crimes            24  \n",
       "19997              Property Crimes            14  \n",
       "19998  Crimes against Public Order            29  \n",
       "19999              Property Crimes             0  \n",
       "\n",
       "[20000 rows x 15 columns]"
      ]
     },
     "execution_count": 63,
     "metadata": {},
     "output_type": "execute_result"
    }
   ],
   "source": [
    "df"
   ]
  },
  {
   "cell_type": "code",
   "execution_count": 64,
   "id": "9c07452d",
   "metadata": {
    "execution": {
     "iopub.execute_input": "2024-06-22T14:33:50.276337Z",
     "iopub.status.busy": "2024-06-22T14:33:50.275905Z",
     "iopub.status.idle": "2024-06-22T14:33:50.288847Z",
     "shell.execute_reply": "2024-06-22T14:33:50.287190Z"
    },
    "papermill": {
     "duration": 0.062589,
     "end_time": "2024-06-22T14:33:50.291784",
     "exception": false,
     "start_time": "2024-06-22T14:33:50.229195",
     "status": "completed"
    },
    "tags": []
   },
   "outputs": [
    {
     "data": {
      "text/plain": [
       "Area_ID\n",
       "12.0    1345\n",
       "14.0    1157\n",
       "1.0     1156\n",
       "3.0     1130\n",
       "18.0    1067\n",
       "15.0    1065\n",
       "6.0     1014\n",
       "13.0     999\n",
       "20.0     960\n",
       "7.0      943\n",
       "2.0      931\n",
       "8.0      910\n",
       "9.0      902\n",
       "5.0      872\n",
       "19.0     870\n",
       "11.0     839\n",
       "21.0     792\n",
       "10.0     790\n",
       "17.0     769\n",
       "4.0      755\n",
       "16.0     734\n",
       "Name: count, dtype: int64"
      ]
     },
     "execution_count": 64,
     "metadata": {},
     "output_type": "execute_result"
    }
   ],
   "source": [
    "df['Area_ID'].value_counts()"
   ]
  },
  {
   "cell_type": "code",
   "execution_count": 65,
   "id": "a06c3cd9",
   "metadata": {
    "execution": {
     "iopub.execute_input": "2024-06-22T14:33:50.380073Z",
     "iopub.status.busy": "2024-06-22T14:33:50.379579Z",
     "iopub.status.idle": "2024-06-22T14:33:50.391235Z",
     "shell.execute_reply": "2024-06-22T14:33:50.389633Z"
    },
    "papermill": {
     "duration": 0.059883,
     "end_time": "2024-06-22T14:33:50.394734",
     "exception": false,
     "start_time": "2024-06-22T14:33:50.334851",
     "status": "completed"
    },
    "tags": []
   },
   "outputs": [
    {
     "name": "stderr",
     "output_type": "stream",
     "text": [
      "/tmp/ipykernel_18/876014097.py:1: SettingWithCopyWarning: \n",
      "A value is trying to be set on a copy of a slice from a DataFrame\n",
      "\n",
      "See the caveats in the documentation: https://pandas.pydata.org/pandas-docs/stable/user_guide/indexing.html#returning-a-view-versus-a-copy\n",
      "  df.drop('max_activity',axis=1,inplace=True)\n"
     ]
    }
   ],
   "source": [
    "df.drop('max_activity',axis=1,inplace=True)"
   ]
  },
  {
   "cell_type": "code",
   "execution_count": 66,
   "id": "aed97668",
   "metadata": {
    "execution": {
     "iopub.execute_input": "2024-06-22T14:33:50.487565Z",
     "iopub.status.busy": "2024-06-22T14:33:50.487094Z",
     "iopub.status.idle": "2024-06-22T14:33:50.500153Z",
     "shell.execute_reply": "2024-06-22T14:33:50.498902Z"
    },
    "papermill": {
     "duration": 0.064115,
     "end_time": "2024-06-22T14:33:50.503370",
     "exception": false,
     "start_time": "2024-06-22T14:33:50.439255",
     "status": "completed"
    },
    "tags": []
   },
   "outputs": [],
   "source": [
    "\n",
    "df.loc[df['Weapon_Description'] == 'STRONG-ARM (HANDS, FIST, FEET OR BODILY FORCE)', 'Weapon_Description'] = 'Physical Force'\n"
   ]
  },
  {
   "cell_type": "code",
   "execution_count": 67,
   "id": "bb11d409",
   "metadata": {
    "execution": {
     "iopub.execute_input": "2024-06-22T14:33:50.592980Z",
     "iopub.status.busy": "2024-06-22T14:33:50.592484Z",
     "iopub.status.idle": "2024-06-22T14:33:50.607795Z",
     "shell.execute_reply": "2024-06-22T14:33:50.606447Z"
    },
    "papermill": {
     "duration": 0.06221,
     "end_time": "2024-06-22T14:33:50.610718",
     "exception": false,
     "start_time": "2024-06-22T14:33:50.548508",
     "status": "completed"
    },
    "tags": []
   },
   "outputs": [
    {
     "data": {
      "text/plain": [
       "Weapon_Description\n",
       "Physical Force                                   10911\n",
       "UNKNOWN WEAPON/OTHER WEAPON                       2177\n",
       "VERBAL THREAT                                     1510\n",
       "HAND GUN                                          1044\n",
       "KNIFE WITH BLADE 6INCHES OR LESS                   438\n",
       "SEMI-AUTOMATIC PISTOL                              414\n",
       "UNKNOWN FIREARM                                    368\n",
       "OTHER KNIFE                                        333\n",
       "VEHICLE                                            224\n",
       "MACE/PEPPER SPRAY                                  206\n",
       "ROCK/THROWN OBJECT                                 168\n",
       "BOTTLE                                             147\n",
       "PIPE/METAL PIPE                                    141\n",
       "CLUB/BAT                                           131\n",
       "STICK                                              130\n",
       "AIR PISTOL/REVOLVER/RIFLE/BB GUN                   125\n",
       "KNIFE WITH BLADE OVER 6 INCHES IN LENGTH           121\n",
       "KITCHEN KNIFE                                      115\n",
       "BLUNT INSTRUMENT                                   108\n",
       "REVOLVER                                            97\n",
       "SIMULATED GUN                                       97\n",
       "FOLDING KNIFE                                       95\n",
       "BELT FLAILING INSTRUMENT/CHAIN                      68\n",
       "HAMMER                                              65\n",
       "CONCRETE BLOCK/BRICK                                62\n",
       "SCREWDRIVER                                         59\n",
       "UNKNOWN TYPE CUTTING INSTRUMENT                     58\n",
       "FIRE                                                58\n",
       "PHYSICAL PRESENCE                                   57\n",
       "MACHETE                                             55\n",
       "OTHER FIREARM                                       47\n",
       "OTHER CUTTING INSTRUMENT                            44\n",
       "FIXED OBJECT                                        42\n",
       "GLASS                                               37\n",
       "SCISSORS                                            36\n",
       "BOARD                                               33\n",
       "RIFLE                                               28\n",
       "TOY GUN                                             23\n",
       "AXE                                                 18\n",
       "SHOTGUN                                             17\n",
       "TIRE IRON                                           15\n",
       "SWITCH BLADE                                        13\n",
       "BRASS KNUCKLES                                      10\n",
       "STUN GUN                                             7\n",
       "SCALDING LIQUID                                      7\n",
       "SAWED OFF RIFLE/SHOTGUN                              7\n",
       "MARTIAL ARTS WEAPONS                                 5\n",
       "DEMAND NOTE                                          5\n",
       "BOWIE KNIFE                                          4\n",
       "CAUSTIC CHEMICAL/POISON                              4\n",
       "ICE PICK                                             4\n",
       "STARTER PISTOL/REVOLVER                              3\n",
       "HECKLER & KOCH 93 SEMIAUTOMATIC ASSAULT RIFLE        3\n",
       "BOMB THREAT                                          2\n",
       "RAZOR BLADE                                          2\n",
       "ASSAULT WEAPON/UZI/AK47/ETC                          1\n",
       "CLEAVER                                              1\n",
       "Name: count, dtype: int64"
      ]
     },
     "execution_count": 67,
     "metadata": {},
     "output_type": "execute_result"
    }
   ],
   "source": [
    "df['Weapon_Description'].value_counts()"
   ]
  },
  {
   "cell_type": "code",
   "execution_count": 68,
   "id": "9ab535c2",
   "metadata": {
    "execution": {
     "iopub.execute_input": "2024-06-22T14:33:50.704407Z",
     "iopub.status.busy": "2024-06-22T14:33:50.703945Z",
     "iopub.status.idle": "2024-06-22T14:33:50.785542Z",
     "shell.execute_reply": "2024-06-22T14:33:50.784308Z"
    },
    "papermill": {
     "duration": 0.131701,
     "end_time": "2024-06-22T14:33:50.788748",
     "exception": false,
     "start_time": "2024-06-22T14:33:50.657047",
     "status": "completed"
    },
    "tags": []
   },
   "outputs": [],
   "source": [
    "\n",
    "def gun(s):\n",
    "    t=s.replace('/',' ')\n",
    "    listt=t.split(' ' or '/')\n",
    "    gun_keywords=['gun','pistol','revolver','rifle','shotgun']\n",
    "    \n",
    "    sharp_heavy_object=['blade','stone','knife','metal','screwdriver','cleaver', 'glass','machete' ,'iron' , 'cutting','axe' ,'instrument','hammer','weapon','object','bottle','weapons','brass','scissors']\n",
    "    \n",
    "    other_weapon = ['bomb','threat', 'demand', 'poison', 'ice', 'scalding', 'board','block' ,'brick', 'stick', 'bat', 'spray']\n",
    "    \n",
    "    physical_presence=['physical','presence']\n",
    "    \n",
    "    fire=['firearm' , 'fire' ]\n",
    "\n",
    "    for i in listt:\n",
    "        if i.lower() in gun_keywords:\n",
    "            return 'Gun'\n",
    "        elif i.lower() in sharp_heavy_object:\n",
    "            return 'sharp_heavy_object'\n",
    "        \n",
    "        elif i.lower() in fire:\n",
    "            return 'fire'\n",
    "        elif i.lower() in other_weapon:\n",
    "            return 'other_weapon'\n",
    "        elif i.lower() in physical_presence:\n",
    "            return 'Physical Force'\n",
    "        \n",
    "    return s\n",
    "    \n",
    "\n",
    "\n",
    "\n",
    "df.loc[:,'Weapon_Description']=df['Weapon_Description'].apply(gun)"
   ]
  },
  {
   "cell_type": "code",
   "execution_count": 69,
   "id": "a6e49d24",
   "metadata": {
    "execution": {
     "iopub.execute_input": "2024-06-22T14:33:50.882109Z",
     "iopub.status.busy": "2024-06-22T14:33:50.880797Z",
     "iopub.status.idle": "2024-06-22T14:33:50.895596Z",
     "shell.execute_reply": "2024-06-22T14:33:50.894184Z"
    },
    "papermill": {
     "duration": 0.065451,
     "end_time": "2024-06-22T14:33:50.898782",
     "exception": false,
     "start_time": "2024-06-22T14:33:50.833331",
     "status": "completed"
    },
    "tags": []
   },
   "outputs": [
    {
     "data": {
      "text/plain": [
       "Weapon_Description\n",
       "Physical Force        10968\n",
       "sharp_heavy_object     4376\n",
       "other_weapon           2094\n",
       "Gun                    1865\n",
       "fire                    473\n",
       "VEHICLE                 224\n",
       "Name: count, dtype: int64"
      ]
     },
     "execution_count": 69,
     "metadata": {},
     "output_type": "execute_result"
    }
   ],
   "source": [
    "df['Weapon_Description'].value_counts()"
   ]
  },
  {
   "cell_type": "code",
   "execution_count": 70,
   "id": "fcc5f234",
   "metadata": {
    "execution": {
     "iopub.execute_input": "2024-06-22T14:33:50.989586Z",
     "iopub.status.busy": "2024-06-22T14:33:50.989078Z",
     "iopub.status.idle": "2024-06-22T14:33:50.999428Z",
     "shell.execute_reply": "2024-06-22T14:33:50.997981Z"
    },
    "papermill": {
     "duration": 0.058458,
     "end_time": "2024-06-22T14:33:51.001888",
     "exception": false,
     "start_time": "2024-06-22T14:33:50.943430",
     "status": "completed"
    },
    "tags": []
   },
   "outputs": [
    {
     "data": {
      "text/plain": [
       "217"
      ]
     },
     "execution_count": 70,
     "metadata": {},
     "output_type": "execute_result"
    }
   ],
   "source": [
    "len(df['Premise_Code'].value_counts())"
   ]
  },
  {
   "cell_type": "code",
   "execution_count": 71,
   "id": "102599cc",
   "metadata": {
    "execution": {
     "iopub.execute_input": "2024-06-22T14:33:51.095907Z",
     "iopub.status.busy": "2024-06-22T14:33:51.095390Z",
     "iopub.status.idle": "2024-06-22T14:33:51.106629Z",
     "shell.execute_reply": "2024-06-22T14:33:51.104909Z"
    },
    "papermill": {
     "duration": 0.063023,
     "end_time": "2024-06-22T14:33:51.111121",
     "exception": false,
     "start_time": "2024-06-22T14:33:51.048098",
     "status": "completed"
    },
    "tags": []
   },
   "outputs": [
    {
     "data": {
      "text/plain": [
       "21"
      ]
     },
     "execution_count": 71,
     "metadata": {},
     "output_type": "execute_result"
    }
   ],
   "source": [
    "len(df['Area_ID'].value_counts())"
   ]
  },
  {
   "cell_type": "code",
   "execution_count": 72,
   "id": "51c2b870",
   "metadata": {
    "execution": {
     "iopub.execute_input": "2024-06-22T14:33:51.204111Z",
     "iopub.status.busy": "2024-06-22T14:33:51.203621Z",
     "iopub.status.idle": "2024-06-22T14:33:51.210856Z",
     "shell.execute_reply": "2024-06-22T14:33:51.209415Z"
    },
    "papermill": {
     "duration": 0.055911,
     "end_time": "2024-06-22T14:33:51.213702",
     "exception": false,
     "start_time": "2024-06-22T14:33:51.157791",
     "status": "completed"
    },
    "tags": []
   },
   "outputs": [],
   "source": [
    "numeric_columns=[['Latitude','Longitude','reporting_delay_day_count','Victim_Age']]\n",
    "categorical_columns=[['day_category','Victim_Sex','Victim_Descent','Premise_Code','Area_ID','Part 1-2','Status']] #ohe\n",
    "multilabel_binarizer=[['Modus_Operandi']] \n"
   ]
  },
  {
   "cell_type": "code",
   "execution_count": 73,
   "id": "7f58c4be",
   "metadata": {
    "execution": {
     "iopub.execute_input": "2024-06-22T14:33:51.306430Z",
     "iopub.status.busy": "2024-06-22T14:33:51.306008Z",
     "iopub.status.idle": "2024-06-22T14:33:51.339384Z",
     "shell.execute_reply": "2024-06-22T14:33:51.338195Z"
    },
    "papermill": {
     "duration": 0.084506,
     "end_time": "2024-06-22T14:33:51.342571",
     "exception": false,
     "start_time": "2024-06-22T14:33:51.258065",
     "status": "completed"
    },
    "tags": []
   },
   "outputs": [
    {
     "data": {
      "text/html": [
       "<div>\n",
       "<style scoped>\n",
       "    .dataframe tbody tr th:only-of-type {\n",
       "        vertical-align: middle;\n",
       "    }\n",
       "\n",
       "    .dataframe tbody tr th {\n",
       "        vertical-align: top;\n",
       "    }\n",
       "\n",
       "    .dataframe thead th {\n",
       "        text-align: right;\n",
       "    }\n",
       "</style>\n",
       "<table border=\"1\" class=\"dataframe\">\n",
       "  <thead>\n",
       "    <tr style=\"text-align: right;\">\n",
       "      <th></th>\n",
       "      <th>Latitude</th>\n",
       "      <th>Longitude</th>\n",
       "      <th>reporting_delay_day_count</th>\n",
       "      <th>day_category</th>\n",
       "      <th>Victim_Age</th>\n",
       "      <th>Victim_Sex</th>\n",
       "      <th>Victim_Descent</th>\n",
       "      <th>Premise_Code</th>\n",
       "      <th>Weapon_Description</th>\n",
       "      <th>Area_ID</th>\n",
       "      <th>Modus_Operandi</th>\n",
       "      <th>Part 1-2</th>\n",
       "      <th>Status</th>\n",
       "      <th>Crime_Category</th>\n",
       "    </tr>\n",
       "  </thead>\n",
       "  <tbody>\n",
       "    <tr>\n",
       "      <th>0</th>\n",
       "      <td>34.1522</td>\n",
       "      <td>-118.3910</td>\n",
       "      <td>3</td>\n",
       "      <td>Evening</td>\n",
       "      <td>75.0</td>\n",
       "      <td>M</td>\n",
       "      <td>W</td>\n",
       "      <td>101.0</td>\n",
       "      <td>Physical Force</td>\n",
       "      <td>15.0</td>\n",
       "      <td>0385</td>\n",
       "      <td>1.0</td>\n",
       "      <td>IC</td>\n",
       "      <td>Property Crimes</td>\n",
       "    </tr>\n",
       "    <tr>\n",
       "      <th>1</th>\n",
       "      <td>34.0028</td>\n",
       "      <td>-118.2391</td>\n",
       "      <td>0</td>\n",
       "      <td>Daytime</td>\n",
       "      <td>41.0</td>\n",
       "      <td>M</td>\n",
       "      <td>H</td>\n",
       "      <td>216.0</td>\n",
       "      <td>Physical Force</td>\n",
       "      <td>13.0</td>\n",
       "      <td>0416 0371 0352 0446 0906 0344 1822 0417</td>\n",
       "      <td>1.0</td>\n",
       "      <td>IC</td>\n",
       "      <td>Property Crimes</td>\n",
       "    </tr>\n",
       "    <tr>\n",
       "      <th>2</th>\n",
       "      <td>34.0111</td>\n",
       "      <td>-118.2653</td>\n",
       "      <td>0</td>\n",
       "      <td>Morning</td>\n",
       "      <td>67.0</td>\n",
       "      <td>M</td>\n",
       "      <td>B</td>\n",
       "      <td>501.0</td>\n",
       "      <td>Physical Force</td>\n",
       "      <td>13.0</td>\n",
       "      <td>0329 1202</td>\n",
       "      <td>2.0</td>\n",
       "      <td>IC</td>\n",
       "      <td>Property Crimes</td>\n",
       "    </tr>\n",
       "    <tr>\n",
       "      <th>3</th>\n",
       "      <td>34.2953</td>\n",
       "      <td>-118.4590</td>\n",
       "      <td>2</td>\n",
       "      <td>Evening</td>\n",
       "      <td>61.0</td>\n",
       "      <td>M</td>\n",
       "      <td>H</td>\n",
       "      <td>101.0</td>\n",
       "      <td>other_weapon</td>\n",
       "      <td>19.0</td>\n",
       "      <td>0329 1300</td>\n",
       "      <td>1.0</td>\n",
       "      <td>IC</td>\n",
       "      <td>Property Crimes</td>\n",
       "    </tr>\n",
       "    <tr>\n",
       "      <th>4</th>\n",
       "      <td>33.9787</td>\n",
       "      <td>-118.2918</td>\n",
       "      <td>0</td>\n",
       "      <td>Morning</td>\n",
       "      <td>30.0</td>\n",
       "      <td>X</td>\n",
       "      <td>X</td>\n",
       "      <td>401.0</td>\n",
       "      <td>Physical Force</td>\n",
       "      <td>12.0</td>\n",
       "      <td>0416 0945 0400 0344 1822 0417</td>\n",
       "      <td>1.0</td>\n",
       "      <td>IC</td>\n",
       "      <td>Property Crimes</td>\n",
       "    </tr>\n",
       "    <tr>\n",
       "      <th>...</th>\n",
       "      <td>...</td>\n",
       "      <td>...</td>\n",
       "      <td>...</td>\n",
       "      <td>...</td>\n",
       "      <td>...</td>\n",
       "      <td>...</td>\n",
       "      <td>...</td>\n",
       "      <td>...</td>\n",
       "      <td>...</td>\n",
       "      <td>...</td>\n",
       "      <td>...</td>\n",
       "      <td>...</td>\n",
       "      <td>...</td>\n",
       "      <td>...</td>\n",
       "    </tr>\n",
       "    <tr>\n",
       "      <th>19995</th>\n",
       "      <td>34.0334</td>\n",
       "      <td>-118.3523</td>\n",
       "      <td>0</td>\n",
       "      <td>Morning</td>\n",
       "      <td>51.0</td>\n",
       "      <td>M</td>\n",
       "      <td>H</td>\n",
       "      <td>501.0</td>\n",
       "      <td>Physical Force</td>\n",
       "      <td>3.0</td>\n",
       "      <td>0416 0913 0446 2004</td>\n",
       "      <td>2.0</td>\n",
       "      <td>IC</td>\n",
       "      <td>Violent Crimes</td>\n",
       "    </tr>\n",
       "    <tr>\n",
       "      <th>19996</th>\n",
       "      <td>34.2212</td>\n",
       "      <td>-118.5011</td>\n",
       "      <td>0</td>\n",
       "      <td>Night</td>\n",
       "      <td>30.0</td>\n",
       "      <td>M</td>\n",
       "      <td>W</td>\n",
       "      <td>301.0</td>\n",
       "      <td>Physical Force</td>\n",
       "      <td>10.0</td>\n",
       "      <td>1414 0209 0344 1822 1420</td>\n",
       "      <td>1.0</td>\n",
       "      <td>IC</td>\n",
       "      <td>Property Crimes</td>\n",
       "    </tr>\n",
       "    <tr>\n",
       "      <th>19997</th>\n",
       "      <td>34.0571</td>\n",
       "      <td>-118.3815</td>\n",
       "      <td>0</td>\n",
       "      <td>Daytime</td>\n",
       "      <td>42.0</td>\n",
       "      <td>M</td>\n",
       "      <td>H</td>\n",
       "      <td>102.0</td>\n",
       "      <td>other_weapon</td>\n",
       "      <td>8.0</td>\n",
       "      <td>0344 1822 1420</td>\n",
       "      <td>1.0</td>\n",
       "      <td>IC</td>\n",
       "      <td>Property Crimes</td>\n",
       "    </tr>\n",
       "    <tr>\n",
       "      <th>19998</th>\n",
       "      <td>33.7451</td>\n",
       "      <td>-118.2835</td>\n",
       "      <td>0</td>\n",
       "      <td>Morning</td>\n",
       "      <td>76.0</td>\n",
       "      <td>F</td>\n",
       "      <td>H</td>\n",
       "      <td>501.0</td>\n",
       "      <td>Physical Force</td>\n",
       "      <td>5.0</td>\n",
       "      <td>1202 0913 2038 1242 0553 0602</td>\n",
       "      <td>2.0</td>\n",
       "      <td>IC</td>\n",
       "      <td>Crimes against Public Order</td>\n",
       "    </tr>\n",
       "    <tr>\n",
       "      <th>19999</th>\n",
       "      <td>34.0037</td>\n",
       "      <td>-118.3034</td>\n",
       "      <td>1</td>\n",
       "      <td>Evening</td>\n",
       "      <td>30.0</td>\n",
       "      <td>X</td>\n",
       "      <td>H</td>\n",
       "      <td>101.0</td>\n",
       "      <td>Physical Force</td>\n",
       "      <td>3.0</td>\n",
       "      <td></td>\n",
       "      <td>1.0</td>\n",
       "      <td>IC</td>\n",
       "      <td>Property Crimes</td>\n",
       "    </tr>\n",
       "  </tbody>\n",
       "</table>\n",
       "<p>20000 rows × 14 columns</p>\n",
       "</div>"
      ],
      "text/plain": [
       "       Latitude  Longitude  reporting_delay_day_count day_category  \\\n",
       "0       34.1522  -118.3910                          3      Evening   \n",
       "1       34.0028  -118.2391                          0      Daytime   \n",
       "2       34.0111  -118.2653                          0      Morning   \n",
       "3       34.2953  -118.4590                          2      Evening   \n",
       "4       33.9787  -118.2918                          0      Morning   \n",
       "...         ...        ...                        ...          ...   \n",
       "19995   34.0334  -118.3523                          0      Morning   \n",
       "19996   34.2212  -118.5011                          0        Night   \n",
       "19997   34.0571  -118.3815                          0      Daytime   \n",
       "19998   33.7451  -118.2835                          0      Morning   \n",
       "19999   34.0037  -118.3034                          1      Evening   \n",
       "\n",
       "       Victim_Age Victim_Sex Victim_Descent  Premise_Code Weapon_Description  \\\n",
       "0            75.0          M              W         101.0     Physical Force   \n",
       "1            41.0          M              H         216.0     Physical Force   \n",
       "2            67.0          M              B         501.0     Physical Force   \n",
       "3            61.0          M              H         101.0       other_weapon   \n",
       "4            30.0          X              X         401.0     Physical Force   \n",
       "...           ...        ...            ...           ...                ...   \n",
       "19995        51.0          M              H         501.0     Physical Force   \n",
       "19996        30.0          M              W         301.0     Physical Force   \n",
       "19997        42.0          M              H         102.0       other_weapon   \n",
       "19998        76.0          F              H         501.0     Physical Force   \n",
       "19999        30.0          X              H         101.0     Physical Force   \n",
       "\n",
       "       Area_ID                           Modus_Operandi  Part 1-2 Status  \\\n",
       "0         15.0                                     0385       1.0     IC   \n",
       "1         13.0  0416 0371 0352 0446 0906 0344 1822 0417       1.0     IC   \n",
       "2         13.0                                0329 1202       2.0     IC   \n",
       "3         19.0                                0329 1300       1.0     IC   \n",
       "4         12.0            0416 0945 0400 0344 1822 0417       1.0     IC   \n",
       "...        ...                                      ...       ...    ...   \n",
       "19995      3.0                      0416 0913 0446 2004       2.0     IC   \n",
       "19996     10.0                 1414 0209 0344 1822 1420       1.0     IC   \n",
       "19997      8.0                           0344 1822 1420       1.0     IC   \n",
       "19998      5.0            1202 0913 2038 1242 0553 0602       2.0     IC   \n",
       "19999      3.0                                                1.0     IC   \n",
       "\n",
       "                    Crime_Category  \n",
       "0                  Property Crimes  \n",
       "1                  Property Crimes  \n",
       "2                  Property Crimes  \n",
       "3                  Property Crimes  \n",
       "4                  Property Crimes  \n",
       "...                            ...  \n",
       "19995               Violent Crimes  \n",
       "19996              Property Crimes  \n",
       "19997              Property Crimes  \n",
       "19998  Crimes against Public Order  \n",
       "19999              Property Crimes  \n",
       "\n",
       "[20000 rows x 14 columns]"
      ]
     },
     "execution_count": 73,
     "metadata": {},
     "output_type": "execute_result"
    }
   ],
   "source": [
    "df"
   ]
  },
  {
   "cell_type": "code",
   "execution_count": 74,
   "id": "e4d85189",
   "metadata": {
    "execution": {
     "iopub.execute_input": "2024-06-22T14:33:51.436703Z",
     "iopub.status.busy": "2024-06-22T14:33:51.436149Z",
     "iopub.status.idle": "2024-06-22T14:33:51.447180Z",
     "shell.execute_reply": "2024-06-22T14:33:51.445728Z"
    },
    "papermill": {
     "duration": 0.060275,
     "end_time": "2024-06-22T14:33:51.450032",
     "exception": false,
     "start_time": "2024-06-22T14:33:51.389757",
     "status": "completed"
    },
    "tags": []
   },
   "outputs": [
    {
     "name": "stderr",
     "output_type": "stream",
     "text": [
      "/tmp/ipykernel_18/448365884.py:3: SettingWithCopyWarning: \n",
      "A value is trying to be set on a copy of a slice from a DataFrame\n",
      "\n",
      "See the caveats in the documentation: https://pandas.pydata.org/pandas-docs/stable/user_guide/indexing.html#returning-a-view-versus-a-copy\n",
      "  df.drop('Crime_Category',axis=1,inplace=True)\n"
     ]
    }
   ],
   "source": [
    "y=df['Crime_Category']\n",
    "\n",
    "df.drop('Crime_Category',axis=1,inplace=True)"
   ]
  },
  {
   "cell_type": "code",
   "execution_count": 75,
   "id": "e9b62e3a",
   "metadata": {
    "execution": {
     "iopub.execute_input": "2024-06-22T14:33:51.542316Z",
     "iopub.status.busy": "2024-06-22T14:33:51.541787Z",
     "iopub.status.idle": "2024-06-22T14:33:51.570750Z",
     "shell.execute_reply": "2024-06-22T14:33:51.569605Z"
    },
    "papermill": {
     "duration": 0.079296,
     "end_time": "2024-06-22T14:33:51.573547",
     "exception": false,
     "start_time": "2024-06-22T14:33:51.494251",
     "status": "completed"
    },
    "tags": []
   },
   "outputs": [
    {
     "name": "stdout",
     "output_type": "stream",
     "text": [
      "<class 'pandas.core.frame.DataFrame'>\n",
      "RangeIndex: 20000 entries, 0 to 19999\n",
      "Data columns (total 13 columns):\n",
      " #   Column                     Non-Null Count  Dtype  \n",
      "---  ------                     --------------  -----  \n",
      " 0   Latitude                   20000 non-null  float64\n",
      " 1   Longitude                  20000 non-null  float64\n",
      " 2   reporting_delay_day_count  20000 non-null  int64  \n",
      " 3   day_category               20000 non-null  object \n",
      " 4   Victim_Age                 20000 non-null  float64\n",
      " 5   Victim_Sex                 20000 non-null  object \n",
      " 6   Victim_Descent             20000 non-null  object \n",
      " 7   Premise_Code               20000 non-null  float64\n",
      " 8   Weapon_Description         20000 non-null  object \n",
      " 9   Area_ID                    20000 non-null  float64\n",
      " 10  Modus_Operandi             20000 non-null  object \n",
      " 11  Part 1-2                   20000 non-null  float64\n",
      " 12  Status                     20000 non-null  object \n",
      "dtypes: float64(6), int64(1), object(6)\n",
      "memory usage: 2.0+ MB\n"
     ]
    }
   ],
   "source": [
    "df.info()"
   ]
  },
  {
   "cell_type": "code",
   "execution_count": 76,
   "id": "fc5a7436",
   "metadata": {
    "execution": {
     "iopub.execute_input": "2024-06-22T14:33:51.664701Z",
     "iopub.status.busy": "2024-06-22T14:33:51.664174Z",
     "iopub.status.idle": "2024-06-22T14:33:51.676025Z",
     "shell.execute_reply": "2024-06-22T14:33:51.674667Z"
    },
    "papermill": {
     "duration": 0.060226,
     "end_time": "2024-06-22T14:33:51.678513",
     "exception": false,
     "start_time": "2024-06-22T14:33:51.618287",
     "status": "completed"
    },
    "tags": []
   },
   "outputs": [
    {
     "name": "stderr",
     "output_type": "stream",
     "text": [
      "/tmp/ipykernel_18/1308723833.py:1: SettingWithCopyWarning: \n",
      "A value is trying to be set on a copy of a slice from a DataFrame\n",
      "\n",
      "See the caveats in the documentation: https://pandas.pydata.org/pandas-docs/stable/user_guide/indexing.html#returning-a-view-versus-a-copy\n",
      "  df.drop('Premise_Code',axis=1,inplace=True)\n"
     ]
    }
   ],
   "source": [
    "df.drop('Premise_Code',axis=1,inplace=True)"
   ]
  },
  {
   "cell_type": "code",
   "execution_count": 77,
   "id": "8a925e46",
   "metadata": {
    "execution": {
     "iopub.execute_input": "2024-06-22T14:33:51.769847Z",
     "iopub.status.busy": "2024-06-22T14:33:51.769352Z",
     "iopub.status.idle": "2024-06-22T14:33:51.778252Z",
     "shell.execute_reply": "2024-06-22T14:33:51.776926Z"
    },
    "papermill": {
     "duration": 0.058343,
     "end_time": "2024-06-22T14:33:51.780974",
     "exception": false,
     "start_time": "2024-06-22T14:33:51.722631",
     "status": "completed"
    },
    "tags": []
   },
   "outputs": [
    {
     "data": {
      "text/plain": [
       "(20000,)"
      ]
     },
     "execution_count": 77,
     "metadata": {},
     "output_type": "execute_result"
    }
   ],
   "source": [
    "y.shape"
   ]
  },
  {
   "cell_type": "code",
   "execution_count": 78,
   "id": "4a4ef174",
   "metadata": {
    "execution": {
     "iopub.execute_input": "2024-06-22T14:33:51.870367Z",
     "iopub.status.busy": "2024-06-22T14:33:51.869849Z",
     "iopub.status.idle": "2024-06-22T14:33:51.917947Z",
     "shell.execute_reply": "2024-06-22T14:33:51.916487Z"
    },
    "papermill": {
     "duration": 0.096345,
     "end_time": "2024-06-22T14:33:51.921066",
     "exception": false,
     "start_time": "2024-06-22T14:33:51.824721",
     "status": "completed"
    },
    "tags": []
   },
   "outputs": [],
   "source": [
    "from sklearn.model_selection import train_test_split\n",
    "\n",
    "xtrain, xtest ,ytrain , ytest= train_test_split(df , y , test_size=0.2 , random_state=42 , shuffle=True ,stratify = y  )"
   ]
  },
  {
   "cell_type": "code",
   "execution_count": 79,
   "id": "8ae85d60",
   "metadata": {
    "execution": {
     "iopub.execute_input": "2024-06-22T14:33:52.012049Z",
     "iopub.status.busy": "2024-06-22T14:33:52.011597Z",
     "iopub.status.idle": "2024-06-22T14:33:52.018728Z",
     "shell.execute_reply": "2024-06-22T14:33:52.017556Z"
    },
    "papermill": {
     "duration": 0.055694,
     "end_time": "2024-06-22T14:33:52.021411",
     "exception": false,
     "start_time": "2024-06-22T14:33:51.965717",
     "status": "completed"
    },
    "tags": []
   },
   "outputs": [
    {
     "name": "stdout",
     "output_type": "stream",
     "text": [
      "(16000, 12)\n",
      "(16000,)\n",
      "(4000, 12)\n",
      "(4000,)\n"
     ]
    }
   ],
   "source": [
    "print(xtrain.shape) \n",
    "print(ytrain.shape)\n",
    "print(xtest.shape)\n",
    "print(ytest.shape)"
   ]
  },
  {
   "cell_type": "code",
   "execution_count": 80,
   "id": "74564e9d",
   "metadata": {
    "execution": {
     "iopub.execute_input": "2024-06-22T14:33:52.110600Z",
     "iopub.status.busy": "2024-06-22T14:33:52.110147Z",
     "iopub.status.idle": "2024-06-22T14:33:52.191908Z",
     "shell.execute_reply": "2024-06-22T14:33:52.190753Z"
    },
    "papermill": {
     "duration": 0.129609,
     "end_time": "2024-06-22T14:33:52.194663",
     "exception": false,
     "start_time": "2024-06-22T14:33:52.065054",
     "status": "completed"
    },
    "tags": []
   },
   "outputs": [
    {
     "name": "stdout",
     "output_type": "stream",
     "text": [
      "Dummy train score 0.5833125\n",
      "Dummy predicted train score 1.0\n",
      "Dummy test score 0.58325\n",
      "Dummy predicted test score 1.0\n"
     ]
    }
   ],
   "source": [
    "from sklearn.dummy import DummyClassifier\n",
    "\n",
    "dummy_clf=DummyClassifier(random_state=42 , strategy=\"most_frequent\")\n",
    "dummy_clf.fit(xtrain, ytrain)\n",
    "print('Dummy train score', dummy_clf.score(ytrain,ytrain))\n",
    "print('Dummy predicted train score', dummy_clf.score(xtrain,dummy_clf.predict(xtrain)))\n",
    "\n",
    "print('Dummy test score', dummy_clf.score(xtest, ytest))\n",
    "\n",
    "print('Dummy predicted test score', dummy_clf.score(xtest, dummy_clf.predict(xtest)))"
   ]
  },
  {
   "cell_type": "markdown",
   "id": "e844d7f4",
   "metadata": {
    "papermill": {
     "duration": 0.044483,
     "end_time": "2024-06-22T14:33:52.284385",
     "exception": false,
     "start_time": "2024-06-22T14:33:52.239902",
     "status": "completed"
    },
    "tags": []
   },
   "source": [
    "Logistic "
   ]
  },
  {
   "cell_type": "code",
   "execution_count": 81,
   "id": "76d5c382",
   "metadata": {
    "execution": {
     "iopub.execute_input": "2024-06-22T14:33:52.373814Z",
     "iopub.status.busy": "2024-06-22T14:33:52.373348Z",
     "iopub.status.idle": "2024-06-22T14:33:52.494503Z",
     "shell.execute_reply": "2024-06-22T14:33:52.493296Z"
    },
    "papermill": {
     "duration": 0.169416,
     "end_time": "2024-06-22T14:33:52.497446",
     "exception": false,
     "start_time": "2024-06-22T14:33:52.328030",
     "status": "completed"
    },
    "tags": []
   },
   "outputs": [],
   "source": [
    "from sklearn.linear_model import LogisticRegression\n",
    "from sklearn.pipeline import Pipeline\n",
    "from sklearn.compose import ColumnTransformer"
   ]
  },
  {
   "cell_type": "code",
   "execution_count": 82,
   "id": "3be41579",
   "metadata": {
    "execution": {
     "iopub.execute_input": "2024-06-22T14:33:52.588957Z",
     "iopub.status.busy": "2024-06-22T14:33:52.588524Z",
     "iopub.status.idle": "2024-06-22T14:33:52.615450Z",
     "shell.execute_reply": "2024-06-22T14:33:52.614143Z"
    },
    "papermill": {
     "duration": 0.07651,
     "end_time": "2024-06-22T14:33:52.618560",
     "exception": false,
     "start_time": "2024-06-22T14:33:52.542050",
     "status": "completed"
    },
    "tags": []
   },
   "outputs": [
    {
     "name": "stdout",
     "output_type": "stream",
     "text": [
      "<class 'pandas.core.frame.DataFrame'>\n",
      "RangeIndex: 20000 entries, 0 to 19999\n",
      "Data columns (total 12 columns):\n",
      " #   Column                     Non-Null Count  Dtype  \n",
      "---  ------                     --------------  -----  \n",
      " 0   Latitude                   20000 non-null  float64\n",
      " 1   Longitude                  20000 non-null  float64\n",
      " 2   reporting_delay_day_count  20000 non-null  int64  \n",
      " 3   day_category               20000 non-null  object \n",
      " 4   Victim_Age                 20000 non-null  float64\n",
      " 5   Victim_Sex                 20000 non-null  object \n",
      " 6   Victim_Descent             20000 non-null  object \n",
      " 7   Weapon_Description         20000 non-null  object \n",
      " 8   Area_ID                    20000 non-null  float64\n",
      " 9   Modus_Operandi             20000 non-null  object \n",
      " 10  Part 1-2                   20000 non-null  float64\n",
      " 11  Status                     20000 non-null  object \n",
      "dtypes: float64(5), int64(1), object(6)\n",
      "memory usage: 1.8+ MB\n"
     ]
    }
   ],
   "source": [
    "df.info()"
   ]
  },
  {
   "cell_type": "code",
   "execution_count": 83,
   "id": "42d3149d",
   "metadata": {
    "execution": {
     "iopub.execute_input": "2024-06-22T14:33:52.709128Z",
     "iopub.status.busy": "2024-06-22T14:33:52.708729Z",
     "iopub.status.idle": "2024-06-22T14:33:52.733917Z",
     "shell.execute_reply": "2024-06-22T14:33:52.732553Z"
    },
    "papermill": {
     "duration": 0.073139,
     "end_time": "2024-06-22T14:33:52.736595",
     "exception": false,
     "start_time": "2024-06-22T14:33:52.663456",
     "status": "completed"
    },
    "tags": []
   },
   "outputs": [
    {
     "name": "stdout",
     "output_type": "stream",
     "text": [
      "<class 'pandas.core.frame.DataFrame'>\n",
      "Index: 16000 entries, 6735 to 554\n",
      "Data columns (total 12 columns):\n",
      " #   Column                     Non-Null Count  Dtype  \n",
      "---  ------                     --------------  -----  \n",
      " 0   Latitude                   16000 non-null  float64\n",
      " 1   Longitude                  16000 non-null  float64\n",
      " 2   reporting_delay_day_count  16000 non-null  int64  \n",
      " 3   day_category               16000 non-null  object \n",
      " 4   Victim_Age                 16000 non-null  float64\n",
      " 5   Victim_Sex                 16000 non-null  object \n",
      " 6   Victim_Descent             16000 non-null  object \n",
      " 7   Weapon_Description         16000 non-null  object \n",
      " 8   Area_ID                    16000 non-null  float64\n",
      " 9   Modus_Operandi             16000 non-null  object \n",
      " 10  Part 1-2                   16000 non-null  float64\n",
      " 11  Status                     16000 non-null  object \n",
      "dtypes: float64(5), int64(1), object(6)\n",
      "memory usage: 1.6+ MB\n"
     ]
    }
   ],
   "source": [
    "xtrain.info()"
   ]
  },
  {
   "cell_type": "code",
   "execution_count": 84,
   "id": "62b43f00",
   "metadata": {
    "execution": {
     "iopub.execute_input": "2024-06-22T14:33:52.826971Z",
     "iopub.status.busy": "2024-06-22T14:33:52.826570Z",
     "iopub.status.idle": "2024-06-22T14:33:52.834677Z",
     "shell.execute_reply": "2024-06-22T14:33:52.833413Z"
    },
    "papermill": {
     "duration": 0.05615,
     "end_time": "2024-06-22T14:33:52.837164",
     "exception": false,
     "start_time": "2024-06-22T14:33:52.781014",
     "status": "completed"
    },
    "tags": []
   },
   "outputs": [],
   "source": [
    "from sklearn.base import BaseEstimator, TransformerMixin\n",
    "from sklearn.preprocessing import MultiLabelBinarizer\n",
    "\n",
    "class MultiLabelBinarizerWrapper(BaseEstimator, TransformerMixin):\n",
    "    def __init__(self):\n",
    "        self.mlb = MultiLabelBinarizer()\n",
    "\n",
    "    def fit(self, X, y=None):\n",
    "        self.mlb.fit(X)\n",
    "        return self\n",
    "\n",
    "    def transform(self, X):\n",
    "        return self.mlb.transform(X)"
   ]
  },
  {
   "cell_type": "code",
   "execution_count": 85,
   "id": "f1382910",
   "metadata": {
    "execution": {
     "iopub.execute_input": "2024-06-22T14:33:52.927640Z",
     "iopub.status.busy": "2024-06-22T14:33:52.927181Z",
     "iopub.status.idle": "2024-06-22T14:33:52.948937Z",
     "shell.execute_reply": "2024-06-22T14:33:52.947864Z"
    },
    "papermill": {
     "duration": 0.069946,
     "end_time": "2024-06-22T14:33:52.951747",
     "exception": false,
     "start_time": "2024-06-22T14:33:52.881801",
     "status": "completed"
    },
    "tags": []
   },
   "outputs": [],
   "source": [
    "\n",
    "from sklearn.preprocessing import StandardScaler , OneHotEncoder  , MultiLabelBinarizer\n",
    "from sklearn.feature_extraction.text import CountVectorizer\n",
    "ct=ColumnTransformer(transformers=[\n",
    "    \n",
    "    ('numerical_cols' , StandardScaler(),['Latitude','Longitude','reporting_delay_day_count','Victim_Age']),\n",
    "    ('categorical_cols' , OneHotEncoder(handle_unknown='ignore'),['day_category','Victim_Sex','Victim_Descent','Part 1-2','Area_ID','Status','Weapon_Description']),\n",
    "    ('multi_label_binarizer', MultiLabelBinarizerWrapper(), 'Modus_Operandi')\n",
    "])\n",
    "    "
   ]
  },
  {
   "cell_type": "code",
   "execution_count": 86,
   "id": "d175fab1",
   "metadata": {
    "execution": {
     "iopub.execute_input": "2024-06-22T14:33:53.042484Z",
     "iopub.status.busy": "2024-06-22T14:33:53.042072Z",
     "iopub.status.idle": "2024-06-22T14:33:53.051212Z",
     "shell.execute_reply": "2024-06-22T14:33:53.049854Z"
    },
    "papermill": {
     "duration": 0.057484,
     "end_time": "2024-06-22T14:33:53.053871",
     "exception": false,
     "start_time": "2024-06-22T14:33:52.996387",
     "status": "completed"
    },
    "tags": []
   },
   "outputs": [
    {
     "data": {
      "text/plain": [
       "21"
      ]
     },
     "execution_count": 86,
     "metadata": {},
     "output_type": "execute_result"
    }
   ],
   "source": [
    "len(df['Area_ID'].value_counts())"
   ]
  },
  {
   "cell_type": "code",
   "execution_count": 87,
   "id": "88b52929",
   "metadata": {
    "execution": {
     "iopub.execute_input": "2024-06-22T14:33:53.147056Z",
     "iopub.status.busy": "2024-06-22T14:33:53.146628Z",
     "iopub.status.idle": "2024-06-22T14:33:53.152292Z",
     "shell.execute_reply": "2024-06-22T14:33:53.151138Z"
    },
    "papermill": {
     "duration": 0.056656,
     "end_time": "2024-06-22T14:33:53.154979",
     "exception": false,
     "start_time": "2024-06-22T14:33:53.098323",
     "status": "completed"
    },
    "tags": []
   },
   "outputs": [],
   "source": [
    "pipe_logistic = Pipeline(steps=[('ct',ct),('logistic_reg',LogisticRegression( max_iter=1000 ,random_state=42))])"
   ]
  },
  {
   "cell_type": "code",
   "execution_count": 88,
   "id": "e02ea54d",
   "metadata": {
    "execution": {
     "iopub.execute_input": "2024-06-22T14:33:53.248507Z",
     "iopub.status.busy": "2024-06-22T14:33:53.248111Z",
     "iopub.status.idle": "2024-06-22T14:33:57.964885Z",
     "shell.execute_reply": "2024-06-22T14:33:57.963316Z"
    },
    "papermill": {
     "duration": 4.768887,
     "end_time": "2024-06-22T14:33:57.969390",
     "exception": false,
     "start_time": "2024-06-22T14:33:53.200503",
     "status": "completed"
    },
    "tags": []
   },
   "outputs": [
    {
     "data": {
      "text/html": [
       "<style>#sk-container-id-1 {color: black;background-color: white;}#sk-container-id-1 pre{padding: 0;}#sk-container-id-1 div.sk-toggleable {background-color: white;}#sk-container-id-1 label.sk-toggleable__label {cursor: pointer;display: block;width: 100%;margin-bottom: 0;padding: 0.3em;box-sizing: border-box;text-align: center;}#sk-container-id-1 label.sk-toggleable__label-arrow:before {content: \"▸\";float: left;margin-right: 0.25em;color: #696969;}#sk-container-id-1 label.sk-toggleable__label-arrow:hover:before {color: black;}#sk-container-id-1 div.sk-estimator:hover label.sk-toggleable__label-arrow:before {color: black;}#sk-container-id-1 div.sk-toggleable__content {max-height: 0;max-width: 0;overflow: hidden;text-align: left;background-color: #f0f8ff;}#sk-container-id-1 div.sk-toggleable__content pre {margin: 0.2em;color: black;border-radius: 0.25em;background-color: #f0f8ff;}#sk-container-id-1 input.sk-toggleable__control:checked~div.sk-toggleable__content {max-height: 200px;max-width: 100%;overflow: auto;}#sk-container-id-1 input.sk-toggleable__control:checked~label.sk-toggleable__label-arrow:before {content: \"▾\";}#sk-container-id-1 div.sk-estimator input.sk-toggleable__control:checked~label.sk-toggleable__label {background-color: #d4ebff;}#sk-container-id-1 div.sk-label input.sk-toggleable__control:checked~label.sk-toggleable__label {background-color: #d4ebff;}#sk-container-id-1 input.sk-hidden--visually {border: 0;clip: rect(1px 1px 1px 1px);clip: rect(1px, 1px, 1px, 1px);height: 1px;margin: -1px;overflow: hidden;padding: 0;position: absolute;width: 1px;}#sk-container-id-1 div.sk-estimator {font-family: monospace;background-color: #f0f8ff;border: 1px dotted black;border-radius: 0.25em;box-sizing: border-box;margin-bottom: 0.5em;}#sk-container-id-1 div.sk-estimator:hover {background-color: #d4ebff;}#sk-container-id-1 div.sk-parallel-item::after {content: \"\";width: 100%;border-bottom: 1px solid gray;flex-grow: 1;}#sk-container-id-1 div.sk-label:hover label.sk-toggleable__label {background-color: #d4ebff;}#sk-container-id-1 div.sk-serial::before {content: \"\";position: absolute;border-left: 1px solid gray;box-sizing: border-box;top: 0;bottom: 0;left: 50%;z-index: 0;}#sk-container-id-1 div.sk-serial {display: flex;flex-direction: column;align-items: center;background-color: white;padding-right: 0.2em;padding-left: 0.2em;position: relative;}#sk-container-id-1 div.sk-item {position: relative;z-index: 1;}#sk-container-id-1 div.sk-parallel {display: flex;align-items: stretch;justify-content: center;background-color: white;position: relative;}#sk-container-id-1 div.sk-item::before, #sk-container-id-1 div.sk-parallel-item::before {content: \"\";position: absolute;border-left: 1px solid gray;box-sizing: border-box;top: 0;bottom: 0;left: 50%;z-index: -1;}#sk-container-id-1 div.sk-parallel-item {display: flex;flex-direction: column;z-index: 1;position: relative;background-color: white;}#sk-container-id-1 div.sk-parallel-item:first-child::after {align-self: flex-end;width: 50%;}#sk-container-id-1 div.sk-parallel-item:last-child::after {align-self: flex-start;width: 50%;}#sk-container-id-1 div.sk-parallel-item:only-child::after {width: 0;}#sk-container-id-1 div.sk-dashed-wrapped {border: 1px dashed gray;margin: 0 0.4em 0.5em 0.4em;box-sizing: border-box;padding-bottom: 0.4em;background-color: white;}#sk-container-id-1 div.sk-label label {font-family: monospace;font-weight: bold;display: inline-block;line-height: 1.2em;}#sk-container-id-1 div.sk-label-container {text-align: center;}#sk-container-id-1 div.sk-container {/* jupyter's `normalize.less` sets `[hidden] { display: none; }` but bootstrap.min.css set `[hidden] { display: none !important; }` so we also need the `!important` here to be able to override the default hidden behavior on the sphinx rendered scikit-learn.org. See: https://github.com/scikit-learn/scikit-learn/issues/21755 */display: inline-block !important;position: relative;}#sk-container-id-1 div.sk-text-repr-fallback {display: none;}</style><div id=\"sk-container-id-1\" class=\"sk-top-container\"><div class=\"sk-text-repr-fallback\"><pre>Pipeline(steps=[(&#x27;ct&#x27;,\n",
       "                 ColumnTransformer(transformers=[(&#x27;numerical_cols&#x27;,\n",
       "                                                  StandardScaler(),\n",
       "                                                  [&#x27;Latitude&#x27;, &#x27;Longitude&#x27;,\n",
       "                                                   &#x27;reporting_delay_day_count&#x27;,\n",
       "                                                   &#x27;Victim_Age&#x27;]),\n",
       "                                                 (&#x27;categorical_cols&#x27;,\n",
       "                                                  OneHotEncoder(handle_unknown=&#x27;ignore&#x27;),\n",
       "                                                  [&#x27;day_category&#x27;, &#x27;Victim_Sex&#x27;,\n",
       "                                                   &#x27;Victim_Descent&#x27;, &#x27;Part 1-2&#x27;,\n",
       "                                                   &#x27;Area_ID&#x27;, &#x27;Status&#x27;,\n",
       "                                                   &#x27;Weapon_Description&#x27;]),\n",
       "                                                 (&#x27;multi_label_binarizer&#x27;,\n",
       "                                                  MultiLabelBinarizerWrapper(),\n",
       "                                                  &#x27;Modus_Operandi&#x27;)])),\n",
       "                (&#x27;logistic_reg&#x27;,\n",
       "                 LogisticRegression(max_iter=1000, random_state=42))])</pre><b>In a Jupyter environment, please rerun this cell to show the HTML representation or trust the notebook. <br />On GitHub, the HTML representation is unable to render, please try loading this page with nbviewer.org.</b></div><div class=\"sk-container\" hidden><div class=\"sk-item sk-dashed-wrapped\"><div class=\"sk-label-container\"><div class=\"sk-label sk-toggleable\"><input class=\"sk-toggleable__control sk-hidden--visually\" id=\"sk-estimator-id-1\" type=\"checkbox\" ><label for=\"sk-estimator-id-1\" class=\"sk-toggleable__label sk-toggleable__label-arrow\">Pipeline</label><div class=\"sk-toggleable__content\"><pre>Pipeline(steps=[(&#x27;ct&#x27;,\n",
       "                 ColumnTransformer(transformers=[(&#x27;numerical_cols&#x27;,\n",
       "                                                  StandardScaler(),\n",
       "                                                  [&#x27;Latitude&#x27;, &#x27;Longitude&#x27;,\n",
       "                                                   &#x27;reporting_delay_day_count&#x27;,\n",
       "                                                   &#x27;Victim_Age&#x27;]),\n",
       "                                                 (&#x27;categorical_cols&#x27;,\n",
       "                                                  OneHotEncoder(handle_unknown=&#x27;ignore&#x27;),\n",
       "                                                  [&#x27;day_category&#x27;, &#x27;Victim_Sex&#x27;,\n",
       "                                                   &#x27;Victim_Descent&#x27;, &#x27;Part 1-2&#x27;,\n",
       "                                                   &#x27;Area_ID&#x27;, &#x27;Status&#x27;,\n",
       "                                                   &#x27;Weapon_Description&#x27;]),\n",
       "                                                 (&#x27;multi_label_binarizer&#x27;,\n",
       "                                                  MultiLabelBinarizerWrapper(),\n",
       "                                                  &#x27;Modus_Operandi&#x27;)])),\n",
       "                (&#x27;logistic_reg&#x27;,\n",
       "                 LogisticRegression(max_iter=1000, random_state=42))])</pre></div></div></div><div class=\"sk-serial\"><div class=\"sk-item sk-dashed-wrapped\"><div class=\"sk-label-container\"><div class=\"sk-label sk-toggleable\"><input class=\"sk-toggleable__control sk-hidden--visually\" id=\"sk-estimator-id-2\" type=\"checkbox\" ><label for=\"sk-estimator-id-2\" class=\"sk-toggleable__label sk-toggleable__label-arrow\">ct: ColumnTransformer</label><div class=\"sk-toggleable__content\"><pre>ColumnTransformer(transformers=[(&#x27;numerical_cols&#x27;, StandardScaler(),\n",
       "                                 [&#x27;Latitude&#x27;, &#x27;Longitude&#x27;,\n",
       "                                  &#x27;reporting_delay_day_count&#x27;, &#x27;Victim_Age&#x27;]),\n",
       "                                (&#x27;categorical_cols&#x27;,\n",
       "                                 OneHotEncoder(handle_unknown=&#x27;ignore&#x27;),\n",
       "                                 [&#x27;day_category&#x27;, &#x27;Victim_Sex&#x27;,\n",
       "                                  &#x27;Victim_Descent&#x27;, &#x27;Part 1-2&#x27;, &#x27;Area_ID&#x27;,\n",
       "                                  &#x27;Status&#x27;, &#x27;Weapon_Description&#x27;]),\n",
       "                                (&#x27;multi_label_binarizer&#x27;,\n",
       "                                 MultiLabelBinarizerWrapper(),\n",
       "                                 &#x27;Modus_Operandi&#x27;)])</pre></div></div></div><div class=\"sk-parallel\"><div class=\"sk-parallel-item\"><div class=\"sk-item\"><div class=\"sk-label-container\"><div class=\"sk-label sk-toggleable\"><input class=\"sk-toggleable__control sk-hidden--visually\" id=\"sk-estimator-id-3\" type=\"checkbox\" ><label for=\"sk-estimator-id-3\" class=\"sk-toggleable__label sk-toggleable__label-arrow\">numerical_cols</label><div class=\"sk-toggleable__content\"><pre>[&#x27;Latitude&#x27;, &#x27;Longitude&#x27;, &#x27;reporting_delay_day_count&#x27;, &#x27;Victim_Age&#x27;]</pre></div></div></div><div class=\"sk-serial\"><div class=\"sk-item\"><div class=\"sk-estimator sk-toggleable\"><input class=\"sk-toggleable__control sk-hidden--visually\" id=\"sk-estimator-id-4\" type=\"checkbox\" ><label for=\"sk-estimator-id-4\" class=\"sk-toggleable__label sk-toggleable__label-arrow\">StandardScaler</label><div class=\"sk-toggleable__content\"><pre>StandardScaler()</pre></div></div></div></div></div></div><div class=\"sk-parallel-item\"><div class=\"sk-item\"><div class=\"sk-label-container\"><div class=\"sk-label sk-toggleable\"><input class=\"sk-toggleable__control sk-hidden--visually\" id=\"sk-estimator-id-5\" type=\"checkbox\" ><label for=\"sk-estimator-id-5\" class=\"sk-toggleable__label sk-toggleable__label-arrow\">categorical_cols</label><div class=\"sk-toggleable__content\"><pre>[&#x27;day_category&#x27;, &#x27;Victim_Sex&#x27;, &#x27;Victim_Descent&#x27;, &#x27;Part 1-2&#x27;, &#x27;Area_ID&#x27;, &#x27;Status&#x27;, &#x27;Weapon_Description&#x27;]</pre></div></div></div><div class=\"sk-serial\"><div class=\"sk-item\"><div class=\"sk-estimator sk-toggleable\"><input class=\"sk-toggleable__control sk-hidden--visually\" id=\"sk-estimator-id-6\" type=\"checkbox\" ><label for=\"sk-estimator-id-6\" class=\"sk-toggleable__label sk-toggleable__label-arrow\">OneHotEncoder</label><div class=\"sk-toggleable__content\"><pre>OneHotEncoder(handle_unknown=&#x27;ignore&#x27;)</pre></div></div></div></div></div></div><div class=\"sk-parallel-item\"><div class=\"sk-item\"><div class=\"sk-label-container\"><div class=\"sk-label sk-toggleable\"><input class=\"sk-toggleable__control sk-hidden--visually\" id=\"sk-estimator-id-7\" type=\"checkbox\" ><label for=\"sk-estimator-id-7\" class=\"sk-toggleable__label sk-toggleable__label-arrow\">multi_label_binarizer</label><div class=\"sk-toggleable__content\"><pre>Modus_Operandi</pre></div></div></div><div class=\"sk-serial\"><div class=\"sk-item\"><div class=\"sk-estimator sk-toggleable\"><input class=\"sk-toggleable__control sk-hidden--visually\" id=\"sk-estimator-id-8\" type=\"checkbox\" ><label for=\"sk-estimator-id-8\" class=\"sk-toggleable__label sk-toggleable__label-arrow\">MultiLabelBinarizerWrapper</label><div class=\"sk-toggleable__content\"><pre>MultiLabelBinarizerWrapper()</pre></div></div></div></div></div></div></div></div><div class=\"sk-item\"><div class=\"sk-estimator sk-toggleable\"><input class=\"sk-toggleable__control sk-hidden--visually\" id=\"sk-estimator-id-9\" type=\"checkbox\" ><label for=\"sk-estimator-id-9\" class=\"sk-toggleable__label sk-toggleable__label-arrow\">LogisticRegression</label><div class=\"sk-toggleable__content\"><pre>LogisticRegression(max_iter=1000, random_state=42)</pre></div></div></div></div></div></div></div>"
      ],
      "text/plain": [
       "Pipeline(steps=[('ct',\n",
       "                 ColumnTransformer(transformers=[('numerical_cols',\n",
       "                                                  StandardScaler(),\n",
       "                                                  ['Latitude', 'Longitude',\n",
       "                                                   'reporting_delay_day_count',\n",
       "                                                   'Victim_Age']),\n",
       "                                                 ('categorical_cols',\n",
       "                                                  OneHotEncoder(handle_unknown='ignore'),\n",
       "                                                  ['day_category', 'Victim_Sex',\n",
       "                                                   'Victim_Descent', 'Part 1-2',\n",
       "                                                   'Area_ID', 'Status',\n",
       "                                                   'Weapon_Description']),\n",
       "                                                 ('multi_label_binarizer',\n",
       "                                                  MultiLabelBinarizerWrapper(),\n",
       "                                                  'Modus_Operandi')])),\n",
       "                ('logistic_reg',\n",
       "                 LogisticRegression(max_iter=1000, random_state=42))])"
      ]
     },
     "execution_count": 88,
     "metadata": {},
     "output_type": "execute_result"
    }
   ],
   "source": [
    "pipe_logistic.fit(xtrain,ytrain)"
   ]
  },
  {
   "cell_type": "code",
   "execution_count": 89,
   "id": "64ceabda",
   "metadata": {
    "execution": {
     "iopub.execute_input": "2024-06-22T14:33:58.087637Z",
     "iopub.status.busy": "2024-06-22T14:33:58.087236Z",
     "iopub.status.idle": "2024-06-22T14:33:58.150028Z",
     "shell.execute_reply": "2024-06-22T14:33:58.148447Z"
    },
    "papermill": {
     "duration": 0.11494,
     "end_time": "2024-06-22T14:33:58.154330",
     "exception": false,
     "start_time": "2024-06-22T14:33:58.039390",
     "status": "completed"
    },
    "tags": []
   },
   "outputs": [
    {
     "data": {
      "text/plain": [
       "0.81075"
      ]
     },
     "execution_count": 89,
     "metadata": {},
     "output_type": "execute_result"
    }
   ],
   "source": [
    "pipe_logistic.score(xtest,ytest)"
   ]
  },
  {
   "cell_type": "markdown",
   "id": "0d844b9b",
   "metadata": {
    "papermill": {
     "duration": 0.045307,
     "end_time": "2024-06-22T14:33:58.297421",
     "exception": false,
     "start_time": "2024-06-22T14:33:58.252114",
     "status": "completed"
    },
    "tags": []
   },
   "source": [
    "Test \n"
   ]
  },
  {
   "cell_type": "code",
   "execution_count": 90,
   "id": "1c385587",
   "metadata": {
    "execution": {
     "iopub.execute_input": "2024-06-22T14:33:58.390511Z",
     "iopub.status.busy": "2024-06-22T14:33:58.390102Z",
     "iopub.status.idle": "2024-06-22T14:34:04.083208Z",
     "shell.execute_reply": "2024-06-22T14:34:04.082097Z"
    },
    "papermill": {
     "duration": 5.742771,
     "end_time": "2024-06-22T14:34:04.086068",
     "exception": false,
     "start_time": "2024-06-22T14:33:58.343297",
     "status": "completed"
    },
    "tags": []
   },
   "outputs": [],
   "source": [
    "test=pd.read_csv('/kaggle/input/crime-cast-forecasting-crime-categories/test.csv')\n",
    "test['day_category']=test['Time_Occurred'].apply(day_category )\n",
    "\n",
    "\n",
    "test['Date_Reported']=test['Date_Reported'].apply(extract_date)\n",
    "test['Date_Occurred']=test['Date_Occurred'].apply(extract_date)\n",
    "\n",
    "\n",
    "\n",
    "\n",
    "\n",
    "\n",
    "test['Date_Reported']=pd.to_datetime(test['Date_Reported']).dt.date\n",
    "test['Date_Occurred']=pd.to_datetime(test['Date_Occurred']).dt.date\n",
    "\n",
    "test['reporting_delay_day_count']=(test['Date_Reported']-test['Date_Occurred'])\n",
    "\n",
    "\n",
    "\n",
    "\n",
    "\n",
    "\n",
    "def day_count(d):\n",
    "    return d.days\n",
    "test['reporting_delay_day_count']=test['reporting_delay_day_count'].apply(day_count)\n",
    "\n",
    "\n",
    "\n",
    "\n",
    "\n",
    "\n",
    "def victim_gender(val):\n",
    "    if val=='H' or pd.isna(val):\n",
    "        val='X'\n",
    "    return val\n",
    "\n",
    "\n",
    "test.loc[:,'Victim_Sex'] = test['Victim_Sex'].apply(victim_gender)\n",
    "\n",
    "\n",
    "\n",
    "\n",
    "\n",
    "unique_values_weapon_test=pd.DataFrame(test['Weapon_Description'])\n",
    "unique_values_weapon_test.value_counts(normalize=True)\n",
    "\n",
    "\n",
    "\n",
    "\n",
    "\n",
    "\n",
    "\n",
    "distribution_test = test['Weapon_Description'].dropna().value_counts(normalize=True)\n",
    "\n",
    "missing_test = test['Weapon_Description'].isnull().sum()\n",
    "\n",
    "imputed_values_test = np.random.choice(distribution_test.index, size=missing_test, p=distribution_test.values)\n",
    "\n",
    "# Impute the missing values\n",
    "test.loc[test['Weapon_Description'].isnull(), 'Weapon_Description'] = imputed_values_test\n",
    "\n"
   ]
  },
  {
   "cell_type": "code",
   "execution_count": 91,
   "id": "e9200c41",
   "metadata": {
    "execution": {
     "iopub.execute_input": "2024-06-22T14:34:04.183280Z",
     "iopub.status.busy": "2024-06-22T14:34:04.182874Z",
     "iopub.status.idle": "2024-06-22T14:34:04.201846Z",
     "shell.execute_reply": "2024-06-22T14:34:04.200725Z"
    },
    "papermill": {
     "duration": 0.07285,
     "end_time": "2024-06-22T14:34:04.204523",
     "exception": false,
     "start_time": "2024-06-22T14:34:04.131673",
     "status": "completed"
    },
    "tags": []
   },
   "outputs": [
    {
     "data": {
      "text/plain": [
       "Location                        0\n",
       "Cross_Street                 4190\n",
       "Latitude                        0\n",
       "Longitude                       0\n",
       "Date_Reported                   0\n",
       "Date_Occurred                   0\n",
       "Time_Occurred                   0\n",
       "Area_ID                         0\n",
       "Area_Name                       0\n",
       "Reporting_District_no           0\n",
       "Part 1-2                        0\n",
       "Modus_Operandi                684\n",
       "Victim_Age                      0\n",
       "Victim_Sex                      0\n",
       "Victim_Descent                643\n",
       "Premise_Code                    0\n",
       "Premise_Description             1\n",
       "Weapon_Used_Code             3153\n",
       "Weapon_Description              0\n",
       "Status                          0\n",
       "Status_Description              0\n",
       "day_category                    0\n",
       "reporting_delay_day_count       0\n",
       "dtype: int64"
      ]
     },
     "execution_count": 91,
     "metadata": {},
     "output_type": "execute_result"
    }
   ],
   "source": [
    "test.isnull().sum()"
   ]
  },
  {
   "cell_type": "code",
   "execution_count": 92,
   "id": "051cd096",
   "metadata": {
    "execution": {
     "iopub.execute_input": "2024-06-22T14:34:04.304987Z",
     "iopub.status.busy": "2024-06-22T14:34:04.304469Z",
     "iopub.status.idle": "2024-06-22T14:34:04.318941Z",
     "shell.execute_reply": "2024-06-22T14:34:04.317558Z"
    },
    "papermill": {
     "duration": 0.069905,
     "end_time": "2024-06-22T14:34:04.322038",
     "exception": false,
     "start_time": "2024-06-22T14:34:04.252133",
     "status": "completed"
    },
    "tags": []
   },
   "outputs": [],
   "source": [
    "distribution_test = test['Victim_Descent'].dropna().value_counts(normalize=True)\n",
    "\n",
    "missing_test = test['Victim_Descent'].isnull().sum()\n",
    "\n",
    "imputed_values_test = np.random.choice(distribution_test.index, size=missing_test, p=distribution_test.values)\n",
    "\n",
    "# Impute the missing values\n",
    "test.loc[test['Victim_Descent'].isnull(), 'Victim_Descent'] = imputed_values_test"
   ]
  },
  {
   "cell_type": "code",
   "execution_count": 93,
   "id": "4052e929",
   "metadata": {
    "execution": {
     "iopub.execute_input": "2024-06-22T14:34:04.421990Z",
     "iopub.status.busy": "2024-06-22T14:34:04.420774Z",
     "iopub.status.idle": "2024-06-22T14:34:04.456767Z",
     "shell.execute_reply": "2024-06-22T14:34:04.455417Z"
    },
    "papermill": {
     "duration": 0.08898,
     "end_time": "2024-06-22T14:34:04.460011",
     "exception": false,
     "start_time": "2024-06-22T14:34:04.371031",
     "status": "completed"
    },
    "tags": []
   },
   "outputs": [],
   "source": [
    "test['Modus_Operandi']=test['Modus_Operandi'].apply(number_of_activities)\n",
    "test['Part 1-2']=test['Part 1-2'].apply(lambda x : int(x))\n",
    "test['Victim_Age']=test['Victim_Age'].apply(lambda x: int(x))"
   ]
  },
  {
   "cell_type": "code",
   "execution_count": 94,
   "id": "9f62cb38",
   "metadata": {
    "execution": {
     "iopub.execute_input": "2024-06-22T14:34:04.559804Z",
     "iopub.status.busy": "2024-06-22T14:34:04.559273Z",
     "iopub.status.idle": "2024-06-22T14:34:04.586852Z",
     "shell.execute_reply": "2024-06-22T14:34:04.585489Z"
    },
    "papermill": {
     "duration": 0.080986,
     "end_time": "2024-06-22T14:34:04.589958",
     "exception": false,
     "start_time": "2024-06-22T14:34:04.508972",
     "status": "completed"
    },
    "tags": []
   },
   "outputs": [],
   "source": [
    "test.loc[test['Weapon_Description'] == 'STRONG-ARM (HANDS, FIST, FEET OR BODILY FORCE)', 'Weapon_Description'] = 'Physical Force'\n",
    "\n",
    "\n",
    "\n",
    "test.loc[:,'Weapon_Description']=test['Weapon_Description'].apply(gun)"
   ]
  },
  {
   "cell_type": "code",
   "execution_count": 95,
   "id": "05ed95d7",
   "metadata": {
    "execution": {
     "iopub.execute_input": "2024-06-22T14:34:04.688877Z",
     "iopub.status.busy": "2024-06-22T14:34:04.687595Z",
     "iopub.status.idle": "2024-06-22T14:34:04.714999Z",
     "shell.execute_reply": "2024-06-22T14:34:04.713660Z"
    },
    "papermill": {
     "duration": 0.080373,
     "end_time": "2024-06-22T14:34:04.718145",
     "exception": false,
     "start_time": "2024-06-22T14:34:04.637772",
     "status": "completed"
    },
    "tags": []
   },
   "outputs": [
    {
     "name": "stdout",
     "output_type": "stream",
     "text": [
      "<class 'pandas.core.frame.DataFrame'>\n",
      "Index: 16000 entries, 6735 to 554\n",
      "Data columns (total 12 columns):\n",
      " #   Column                     Non-Null Count  Dtype  \n",
      "---  ------                     --------------  -----  \n",
      " 0   Latitude                   16000 non-null  float64\n",
      " 1   Longitude                  16000 non-null  float64\n",
      " 2   reporting_delay_day_count  16000 non-null  int64  \n",
      " 3   day_category               16000 non-null  object \n",
      " 4   Victim_Age                 16000 non-null  float64\n",
      " 5   Victim_Sex                 16000 non-null  object \n",
      " 6   Victim_Descent             16000 non-null  object \n",
      " 7   Weapon_Description         16000 non-null  object \n",
      " 8   Area_ID                    16000 non-null  float64\n",
      " 9   Modus_Operandi             16000 non-null  object \n",
      " 10  Part 1-2                   16000 non-null  float64\n",
      " 11  Status                     16000 non-null  object \n",
      "dtypes: float64(5), int64(1), object(6)\n",
      "memory usage: 1.6+ MB\n"
     ]
    }
   ],
   "source": [
    "xtrain.info()"
   ]
  },
  {
   "cell_type": "code",
   "execution_count": 96,
   "id": "f23a175b",
   "metadata": {
    "execution": {
     "iopub.execute_input": "2024-06-22T14:34:04.817301Z",
     "iopub.status.busy": "2024-06-22T14:34:04.816795Z",
     "iopub.status.idle": "2024-06-22T14:34:04.826938Z",
     "shell.execute_reply": "2024-06-22T14:34:04.825421Z"
    },
    "papermill": {
     "duration": 0.062326,
     "end_time": "2024-06-22T14:34:04.829802",
     "exception": false,
     "start_time": "2024-06-22T14:34:04.767476",
     "status": "completed"
    },
    "tags": []
   },
   "outputs": [],
   "source": [
    "test=test[['Latitude','Longitude','reporting_delay_day_count','day_category','Area_ID','Victim_Age','Victim_Sex','Modus_Operandi','Victim_Descent','Part 1-2','Weapon_Description','Status']]"
   ]
  },
  {
   "cell_type": "code",
   "execution_count": 97,
   "id": "26d5efde",
   "metadata": {
    "execution": {
     "iopub.execute_input": "2024-06-22T14:34:04.927577Z",
     "iopub.status.busy": "2024-06-22T14:34:04.926471Z",
     "iopub.status.idle": "2024-06-22T14:34:04.945585Z",
     "shell.execute_reply": "2024-06-22T14:34:04.944286Z"
    },
    "papermill": {
     "duration": 0.07201,
     "end_time": "2024-06-22T14:34:04.949254",
     "exception": false,
     "start_time": "2024-06-22T14:34:04.877244",
     "status": "completed"
    },
    "tags": []
   },
   "outputs": [
    {
     "name": "stdout",
     "output_type": "stream",
     "text": [
      "<class 'pandas.core.frame.DataFrame'>\n",
      "RangeIndex: 5000 entries, 0 to 4999\n",
      "Data columns (total 12 columns):\n",
      " #   Column                     Non-Null Count  Dtype  \n",
      "---  ------                     --------------  -----  \n",
      " 0   Latitude                   5000 non-null   float64\n",
      " 1   Longitude                  5000 non-null   float64\n",
      " 2   reporting_delay_day_count  5000 non-null   int64  \n",
      " 3   day_category               5000 non-null   object \n",
      " 4   Area_ID                    5000 non-null   float64\n",
      " 5   Victim_Age                 5000 non-null   int64  \n",
      " 6   Victim_Sex                 5000 non-null   object \n",
      " 7   Modus_Operandi             5000 non-null   object \n",
      " 8   Victim_Descent             5000 non-null   object \n",
      " 9   Part 1-2                   5000 non-null   int64  \n",
      " 10  Weapon_Description         5000 non-null   object \n",
      " 11  Status                     5000 non-null   object \n",
      "dtypes: float64(3), int64(3), object(6)\n",
      "memory usage: 468.9+ KB\n"
     ]
    }
   ],
   "source": [
    "test.info()"
   ]
  },
  {
   "cell_type": "code",
   "execution_count": 98,
   "id": "4e784322",
   "metadata": {
    "execution": {
     "iopub.execute_input": "2024-06-22T14:34:05.046943Z",
     "iopub.status.busy": "2024-06-22T14:34:05.046448Z",
     "iopub.status.idle": "2024-06-22T14:34:05.073343Z",
     "shell.execute_reply": "2024-06-22T14:34:05.072063Z"
    },
    "papermill": {
     "duration": 0.079159,
     "end_time": "2024-06-22T14:34:05.076163",
     "exception": false,
     "start_time": "2024-06-22T14:34:04.997004",
     "status": "completed"
    },
    "tags": []
   },
   "outputs": [
    {
     "data": {
      "text/html": [
       "<div>\n",
       "<style scoped>\n",
       "    .dataframe tbody tr th:only-of-type {\n",
       "        vertical-align: middle;\n",
       "    }\n",
       "\n",
       "    .dataframe tbody tr th {\n",
       "        vertical-align: top;\n",
       "    }\n",
       "\n",
       "    .dataframe thead th {\n",
       "        text-align: right;\n",
       "    }\n",
       "</style>\n",
       "<table border=\"1\" class=\"dataframe\">\n",
       "  <thead>\n",
       "    <tr style=\"text-align: right;\">\n",
       "      <th></th>\n",
       "      <th>Latitude</th>\n",
       "      <th>Longitude</th>\n",
       "      <th>reporting_delay_day_count</th>\n",
       "      <th>day_category</th>\n",
       "      <th>Area_ID</th>\n",
       "      <th>Victim_Age</th>\n",
       "      <th>Victim_Sex</th>\n",
       "      <th>Modus_Operandi</th>\n",
       "      <th>Victim_Descent</th>\n",
       "      <th>Part 1-2</th>\n",
       "      <th>Weapon_Description</th>\n",
       "      <th>Status</th>\n",
       "    </tr>\n",
       "  </thead>\n",
       "  <tbody>\n",
       "    <tr>\n",
       "      <th>0</th>\n",
       "      <td>34.0128</td>\n",
       "      <td>-118.3045</td>\n",
       "      <td>0</td>\n",
       "      <td>Evening</td>\n",
       "      <td>3.0</td>\n",
       "      <td>28</td>\n",
       "      <td>F</td>\n",
       "      <td>0416 1821 2000 1243 1813 1241</td>\n",
       "      <td>H</td>\n",
       "      <td>2</td>\n",
       "      <td>Physical Force</td>\n",
       "      <td>IC</td>\n",
       "    </tr>\n",
       "    <tr>\n",
       "      <th>1</th>\n",
       "      <td>34.0726</td>\n",
       "      <td>-118.3029</td>\n",
       "      <td>37</td>\n",
       "      <td>Night</td>\n",
       "      <td>20.0</td>\n",
       "      <td>26</td>\n",
       "      <td>M</td>\n",
       "      <td>0344 0394</td>\n",
       "      <td>B</td>\n",
       "      <td>1</td>\n",
       "      <td>sharp_heavy_object</td>\n",
       "      <td>IC</td>\n",
       "    </tr>\n",
       "    <tr>\n",
       "      <th>2</th>\n",
       "      <td>33.9348</td>\n",
       "      <td>-118.2695</td>\n",
       "      <td>1</td>\n",
       "      <td>Morning</td>\n",
       "      <td>18.0</td>\n",
       "      <td>62</td>\n",
       "      <td>F</td>\n",
       "      <td>0701 0100 0355 1202 1914 1822</td>\n",
       "      <td>B</td>\n",
       "      <td>2</td>\n",
       "      <td>sharp_heavy_object</td>\n",
       "      <td>IC</td>\n",
       "    </tr>\n",
       "    <tr>\n",
       "      <th>3</th>\n",
       "      <td>34.0497</td>\n",
       "      <td>-118.3442</td>\n",
       "      <td>20</td>\n",
       "      <td>Night</td>\n",
       "      <td>7.0</td>\n",
       "      <td>0</td>\n",
       "      <td>X</td>\n",
       "      <td></td>\n",
       "      <td>W</td>\n",
       "      <td>1</td>\n",
       "      <td>Physical Force</td>\n",
       "      <td>IC</td>\n",
       "    </tr>\n",
       "    <tr>\n",
       "      <th>4</th>\n",
       "      <td>34.1611</td>\n",
       "      <td>-118.3704</td>\n",
       "      <td>1</td>\n",
       "      <td>Night</td>\n",
       "      <td>15.0</td>\n",
       "      <td>37</td>\n",
       "      <td>F</td>\n",
       "      <td>1501</td>\n",
       "      <td>W</td>\n",
       "      <td>2</td>\n",
       "      <td>Physical Force</td>\n",
       "      <td>AO</td>\n",
       "    </tr>\n",
       "    <tr>\n",
       "      <th>...</th>\n",
       "      <td>...</td>\n",
       "      <td>...</td>\n",
       "      <td>...</td>\n",
       "      <td>...</td>\n",
       "      <td>...</td>\n",
       "      <td>...</td>\n",
       "      <td>...</td>\n",
       "      <td>...</td>\n",
       "      <td>...</td>\n",
       "      <td>...</td>\n",
       "      <td>...</td>\n",
       "      <td>...</td>\n",
       "    </tr>\n",
       "    <tr>\n",
       "      <th>4995</th>\n",
       "      <td>34.0409</td>\n",
       "      <td>-118.3408</td>\n",
       "      <td>1</td>\n",
       "      <td>Night</td>\n",
       "      <td>7.0</td>\n",
       "      <td>0</td>\n",
       "      <td>X</td>\n",
       "      <td></td>\n",
       "      <td>W</td>\n",
       "      <td>1</td>\n",
       "      <td>Physical Force</td>\n",
       "      <td>IC</td>\n",
       "    </tr>\n",
       "    <tr>\n",
       "      <th>4996</th>\n",
       "      <td>34.0347</td>\n",
       "      <td>-118.2253</td>\n",
       "      <td>7</td>\n",
       "      <td>Daytime</td>\n",
       "      <td>4.0</td>\n",
       "      <td>0</td>\n",
       "      <td>X</td>\n",
       "      <td>0325 1300</td>\n",
       "      <td>X</td>\n",
       "      <td>1</td>\n",
       "      <td>Physical Force</td>\n",
       "      <td>IC</td>\n",
       "    </tr>\n",
       "    <tr>\n",
       "      <th>4997</th>\n",
       "      <td>34.2392</td>\n",
       "      <td>-118.4698</td>\n",
       "      <td>0</td>\n",
       "      <td>Night</td>\n",
       "      <td>19.0</td>\n",
       "      <td>38</td>\n",
       "      <td>M</td>\n",
       "      <td>0416 0913 1817</td>\n",
       "      <td>H</td>\n",
       "      <td>2</td>\n",
       "      <td>Physical Force</td>\n",
       "      <td>AA</td>\n",
       "    </tr>\n",
       "    <tr>\n",
       "      <th>4998</th>\n",
       "      <td>34.0453</td>\n",
       "      <td>-118.2443</td>\n",
       "      <td>1</td>\n",
       "      <td>Night</td>\n",
       "      <td>1.0</td>\n",
       "      <td>41</td>\n",
       "      <td>M</td>\n",
       "      <td>0416</td>\n",
       "      <td>B</td>\n",
       "      <td>2</td>\n",
       "      <td>sharp_heavy_object</td>\n",
       "      <td>AO</td>\n",
       "    </tr>\n",
       "    <tr>\n",
       "      <th>4999</th>\n",
       "      <td>33.9438</td>\n",
       "      <td>-118.2695</td>\n",
       "      <td>0</td>\n",
       "      <td>Night</td>\n",
       "      <td>18.0</td>\n",
       "      <td>49</td>\n",
       "      <td>M</td>\n",
       "      <td>0329 1822</td>\n",
       "      <td>B</td>\n",
       "      <td>2</td>\n",
       "      <td>Physical Force</td>\n",
       "      <td>IC</td>\n",
       "    </tr>\n",
       "  </tbody>\n",
       "</table>\n",
       "<p>5000 rows × 12 columns</p>\n",
       "</div>"
      ],
      "text/plain": [
       "      Latitude  Longitude  reporting_delay_day_count day_category  Area_ID  \\\n",
       "0      34.0128  -118.3045                          0      Evening      3.0   \n",
       "1      34.0726  -118.3029                         37        Night     20.0   \n",
       "2      33.9348  -118.2695                          1      Morning     18.0   \n",
       "3      34.0497  -118.3442                         20        Night      7.0   \n",
       "4      34.1611  -118.3704                          1        Night     15.0   \n",
       "...        ...        ...                        ...          ...      ...   \n",
       "4995   34.0409  -118.3408                          1        Night      7.0   \n",
       "4996   34.0347  -118.2253                          7      Daytime      4.0   \n",
       "4997   34.2392  -118.4698                          0        Night     19.0   \n",
       "4998   34.0453  -118.2443                          1        Night      1.0   \n",
       "4999   33.9438  -118.2695                          0        Night     18.0   \n",
       "\n",
       "      Victim_Age Victim_Sex                 Modus_Operandi Victim_Descent  \\\n",
       "0             28          F  0416 1821 2000 1243 1813 1241              H   \n",
       "1             26          M                      0344 0394              B   \n",
       "2             62          F  0701 0100 0355 1202 1914 1822              B   \n",
       "3              0          X                                             W   \n",
       "4             37          F                           1501              W   \n",
       "...          ...        ...                            ...            ...   \n",
       "4995           0          X                                             W   \n",
       "4996           0          X                      0325 1300              X   \n",
       "4997          38          M                 0416 0913 1817              H   \n",
       "4998          41          M                           0416              B   \n",
       "4999          49          M                      0329 1822              B   \n",
       "\n",
       "      Part 1-2  Weapon_Description Status  \n",
       "0            2      Physical Force     IC  \n",
       "1            1  sharp_heavy_object     IC  \n",
       "2            2  sharp_heavy_object     IC  \n",
       "3            1      Physical Force     IC  \n",
       "4            2      Physical Force     AO  \n",
       "...        ...                 ...    ...  \n",
       "4995         1      Physical Force     IC  \n",
       "4996         1      Physical Force     IC  \n",
       "4997         2      Physical Force     AA  \n",
       "4998         2  sharp_heavy_object     AO  \n",
       "4999         2      Physical Force     IC  \n",
       "\n",
       "[5000 rows x 12 columns]"
      ]
     },
     "execution_count": 98,
     "metadata": {},
     "output_type": "execute_result"
    }
   ],
   "source": [
    "test"
   ]
  },
  {
   "cell_type": "code",
   "execution_count": 99,
   "id": "d8498e23",
   "metadata": {
    "execution": {
     "iopub.execute_input": "2024-06-22T14:34:05.175728Z",
     "iopub.status.busy": "2024-06-22T14:34:05.174563Z",
     "iopub.status.idle": "2024-06-22T14:34:05.182691Z",
     "shell.execute_reply": "2024-06-22T14:34:05.181349Z"
    },
    "papermill": {
     "duration": 0.060924,
     "end_time": "2024-06-22T14:34:05.185160",
     "exception": false,
     "start_time": "2024-06-22T14:34:05.124236",
     "status": "completed"
    },
    "tags": []
   },
   "outputs": [
    {
     "data": {
      "text/plain": [
       "(5000, 12)"
      ]
     },
     "execution_count": 99,
     "metadata": {},
     "output_type": "execute_result"
    }
   ],
   "source": [
    "test.shape"
   ]
  },
  {
   "cell_type": "code",
   "execution_count": 100,
   "id": "3dd0bfed",
   "metadata": {
    "execution": {
     "iopub.execute_input": "2024-06-22T14:34:05.284672Z",
     "iopub.status.busy": "2024-06-22T14:34:05.284183Z",
     "iopub.status.idle": "2024-06-22T14:34:05.310801Z",
     "shell.execute_reply": "2024-06-22T14:34:05.309381Z"
    },
    "papermill": {
     "duration": 0.080508,
     "end_time": "2024-06-22T14:34:05.313986",
     "exception": false,
     "start_time": "2024-06-22T14:34:05.233478",
     "status": "completed"
    },
    "tags": []
   },
   "outputs": [
    {
     "data": {
      "text/html": [
       "<div>\n",
       "<style scoped>\n",
       "    .dataframe tbody tr th:only-of-type {\n",
       "        vertical-align: middle;\n",
       "    }\n",
       "\n",
       "    .dataframe tbody tr th {\n",
       "        vertical-align: top;\n",
       "    }\n",
       "\n",
       "    .dataframe thead th {\n",
       "        text-align: right;\n",
       "    }\n",
       "</style>\n",
       "<table border=\"1\" class=\"dataframe\">\n",
       "  <thead>\n",
       "    <tr style=\"text-align: right;\">\n",
       "      <th></th>\n",
       "      <th>ID</th>\n",
       "      <th>Crime_Category</th>\n",
       "      <th>Unnamed: 2</th>\n",
       "    </tr>\n",
       "  </thead>\n",
       "  <tbody>\n",
       "    <tr>\n",
       "      <th>0</th>\n",
       "      <td>1</td>\n",
       "      <td>Crimes against Persons</td>\n",
       "      <td>NaN</td>\n",
       "    </tr>\n",
       "    <tr>\n",
       "      <th>1</th>\n",
       "      <td>2</td>\n",
       "      <td>Crimes against Public Order</td>\n",
       "      <td>NaN</td>\n",
       "    </tr>\n",
       "    <tr>\n",
       "      <th>2</th>\n",
       "      <td>3</td>\n",
       "      <td>Other Crimes</td>\n",
       "      <td>NaN</td>\n",
       "    </tr>\n",
       "    <tr>\n",
       "      <th>3</th>\n",
       "      <td>4</td>\n",
       "      <td>Crimes against Public Order</td>\n",
       "      <td>NaN</td>\n",
       "    </tr>\n",
       "    <tr>\n",
       "      <th>4</th>\n",
       "      <td>5</td>\n",
       "      <td>Other Crimes</td>\n",
       "      <td>NaN</td>\n",
       "    </tr>\n",
       "    <tr>\n",
       "      <th>...</th>\n",
       "      <td>...</td>\n",
       "      <td>...</td>\n",
       "      <td>...</td>\n",
       "    </tr>\n",
       "    <tr>\n",
       "      <th>995</th>\n",
       "      <td>996</td>\n",
       "      <td>Fraud and White-Collar Crimes</td>\n",
       "      <td>NaN</td>\n",
       "    </tr>\n",
       "    <tr>\n",
       "      <th>996</th>\n",
       "      <td>997</td>\n",
       "      <td>Property Crimes</td>\n",
       "      <td>NaN</td>\n",
       "    </tr>\n",
       "    <tr>\n",
       "      <th>997</th>\n",
       "      <td>998</td>\n",
       "      <td>Violent Crimes</td>\n",
       "      <td>NaN</td>\n",
       "    </tr>\n",
       "    <tr>\n",
       "      <th>998</th>\n",
       "      <td>999</td>\n",
       "      <td>Property Crimes</td>\n",
       "      <td>NaN</td>\n",
       "    </tr>\n",
       "    <tr>\n",
       "      <th>999</th>\n",
       "      <td>1000</td>\n",
       "      <td>Violent Crimes</td>\n",
       "      <td>NaN</td>\n",
       "    </tr>\n",
       "  </tbody>\n",
       "</table>\n",
       "<p>1000 rows × 3 columns</p>\n",
       "</div>"
      ],
      "text/plain": [
       "       ID                Crime_Category   Unnamed: 2\n",
       "0       1         Crimes against Persons         NaN\n",
       "1       2    Crimes against Public Order         NaN\n",
       "2       3                   Other Crimes         NaN\n",
       "3       4    Crimes against Public Order         NaN\n",
       "4       5                   Other Crimes         NaN\n",
       "..    ...                            ...         ...\n",
       "995   996  Fraud and White-Collar Crimes         NaN\n",
       "996   997                Property Crimes         NaN\n",
       "997   998                 Violent Crimes         NaN\n",
       "998   999                Property Crimes         NaN\n",
       "999  1000                 Violent Crimes         NaN\n",
       "\n",
       "[1000 rows x 3 columns]"
      ]
     },
     "execution_count": 100,
     "metadata": {},
     "output_type": "execute_result"
    }
   ],
   "source": [
    "sample=pd.read_csv('/kaggle/input/crime-cast-forecasting-crime-categories/sample.csv')\n",
    "sample"
   ]
  },
  {
   "cell_type": "code",
   "execution_count": 101,
   "id": "091729b2",
   "metadata": {
    "execution": {
     "iopub.execute_input": "2024-06-22T14:34:05.415826Z",
     "iopub.status.busy": "2024-06-22T14:34:05.415254Z",
     "iopub.status.idle": "2024-06-22T14:34:05.431361Z",
     "shell.execute_reply": "2024-06-22T14:34:05.429879Z"
    },
    "papermill": {
     "duration": 0.069778,
     "end_time": "2024-06-22T14:34:05.434210",
     "exception": false,
     "start_time": "2024-06-22T14:34:05.364432",
     "status": "completed"
    },
    "tags": []
   },
   "outputs": [
    {
     "data": {
      "text/plain": [
       "Latitude                     0\n",
       "Longitude                    0\n",
       "reporting_delay_day_count    0\n",
       "day_category                 0\n",
       "Area_ID                      0\n",
       "Victim_Age                   0\n",
       "Victim_Sex                   0\n",
       "Modus_Operandi               0\n",
       "Victim_Descent               0\n",
       "Part 1-2                     0\n",
       "Weapon_Description           0\n",
       "Status                       0\n",
       "dtype: int64"
      ]
     },
     "execution_count": 101,
     "metadata": {},
     "output_type": "execute_result"
    }
   ],
   "source": [
    "test.isnull().sum()"
   ]
  },
  {
   "cell_type": "code",
   "execution_count": 102,
   "id": "a6859fed",
   "metadata": {
    "execution": {
     "iopub.execute_input": "2024-06-22T14:34:05.534785Z",
     "iopub.status.busy": "2024-06-22T14:34:05.533381Z",
     "iopub.status.idle": "2024-06-22T14:34:05.621664Z",
     "shell.execute_reply": "2024-06-22T14:34:05.619408Z"
    },
    "papermill": {
     "duration": 0.14469,
     "end_time": "2024-06-22T14:34:05.627167",
     "exception": false,
     "start_time": "2024-06-22T14:34:05.482477",
     "status": "completed"
    },
    "tags": []
   },
   "outputs": [],
   "source": [
    "y_pred=pipe_logistic.predict(test)\n",
    "submission=pd.DataFrame({'ID': np.arange(1,5000+1), 'Crime_Category': y_pred})\n",
    "\n",
    "submission.to_csv('submission.csv',index=False)"
   ]
  }
 ],
 "metadata": {
  "kaggle": {
   "accelerator": "none",
   "dataSources": [
    {
     "databundleVersionId": 8446444,
     "sourceId": 77420,
     "sourceType": "competition"
    }
   ],
   "dockerImageVersionId": 30715,
   "isGpuEnabled": false,
   "isInternetEnabled": false,
   "language": "python",
   "sourceType": "notebook"
  },
  "kernelspec": {
   "display_name": "Python 3",
   "language": "python",
   "name": "python3"
  },
  "language_info": {
   "codemirror_mode": {
    "name": "ipython",
    "version": 3
   },
   "file_extension": ".py",
   "mimetype": "text/x-python",
   "name": "python",
   "nbconvert_exporter": "python",
   "pygments_lexer": "ipython3",
   "version": "3.10.13"
  },
  "papermill": {
   "default_parameters": {},
   "duration": 53.690146,
   "end_time": "2024-06-22T14:34:06.747980",
   "environment_variables": {},
   "exception": null,
   "input_path": "__notebook__.ipynb",
   "output_path": "__notebook__.ipynb",
   "parameters": {},
   "start_time": "2024-06-22T14:33:13.057834",
   "version": "2.5.0"
  }
 },
 "nbformat": 4,
 "nbformat_minor": 5
}
