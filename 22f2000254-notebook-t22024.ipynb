{
 "cells": [
  {
   "cell_type": "code",
   "execution_count": 1,
   "id": "344f323c",
   "metadata": {
    "_cell_guid": "b1076dfc-b9ad-4769-8c92-a6c4dae69d19",
    "_uuid": "8f2839f25d086af736a60e9eeb907d3b93b6e0e5",
    "execution": {
     "iopub.execute_input": "2024-07-18T08:36:28.636177Z",
     "iopub.status.busy": "2024-07-18T08:36:28.635794Z",
     "iopub.status.idle": "2024-07-18T08:36:29.478253Z",
     "shell.execute_reply": "2024-07-18T08:36:29.476952Z"
    },
    "papermill": {
     "duration": 0.876191,
     "end_time": "2024-07-18T08:36:29.480629",
     "exception": false,
     "start_time": "2024-07-18T08:36:28.604438",
     "status": "completed"
    },
    "tags": []
   },
   "outputs": [
    {
     "name": "stdout",
     "output_type": "stream",
     "text": [
      "/kaggle/input/crime-cast-forecasting-crime-categories/sample.csv\n",
      "/kaggle/input/crime-cast-forecasting-crime-categories/train.csv\n",
      "/kaggle/input/crime-cast-forecasting-crime-categories/test.csv\n"
     ]
    }
   ],
   "source": [
    "# This Python 3 environment comes with many helpful analytics libraries installed\n",
    "# It is defined by the kaggle/python Docker image: https://github.com/kaggle/docker-python\n",
    "# For example, here's several helpful packages to load\n",
    "\n",
    "import numpy as np # linear algebra\n",
    "import pandas as pd # data processing, CSV file I/O (e.g. pd.read_csv)\n",
    "\n",
    "# Input data files are available in the read-only \"../input/\" directory\n",
    "# For example, running this (by clicking run or pressing Shift+Enter), will list all files under the input directory\n",
    "\n",
    "import os\n",
    "\n",
    "for dirname, _, filenames in os.walk('/kaggle/input'):\n",
    "    for filename in filenames:\n",
    "        print(os.path.join(dirname, filename))\n",
    "\n",
    "# You can write up to 20GB to the current directory (/kaggle/working/) that gets preserved as output when you create a version using \"Save & Run All\" \n",
    "# You can also write temporary files to /kaggle/temp/, but they won't be saved outside of the current session"
   ]
  },
  {
   "cell_type": "code",
   "execution_count": 2,
   "id": "a3e8665c",
   "metadata": {
    "execution": {
     "iopub.execute_input": "2024-07-18T08:36:29.541204Z",
     "iopub.status.busy": "2024-07-18T08:36:29.540125Z",
     "iopub.status.idle": "2024-07-18T08:36:31.138609Z",
     "shell.execute_reply": "2024-07-18T08:36:31.137506Z"
    },
    "papermill": {
     "duration": 1.630796,
     "end_time": "2024-07-18T08:36:31.141189",
     "exception": false,
     "start_time": "2024-07-18T08:36:29.510393",
     "status": "completed"
    },
    "tags": []
   },
   "outputs": [],
   "source": [
    "import matplotlib.pyplot as plt\n",
    "import seaborn as sns \n",
    "\n",
    "\n",
    "import datetime\n",
    "\n",
    "\n",
    "from sklearn.model_selection import train_test_split \n",
    "\n",
    "\n",
    "from sklearn.metrics import classification_report , ConfusionMatrixDisplay"
   ]
  },
  {
   "cell_type": "code",
   "execution_count": 3,
   "id": "81f24ed3",
   "metadata": {
    "execution": {
     "iopub.execute_input": "2024-07-18T08:36:31.199935Z",
     "iopub.status.busy": "2024-07-18T08:36:31.199568Z",
     "iopub.status.idle": "2024-07-18T08:36:31.523737Z",
     "shell.execute_reply": "2024-07-18T08:36:31.522616Z"
    },
    "papermill": {
     "duration": 0.356393,
     "end_time": "2024-07-18T08:36:31.526307",
     "exception": false,
     "start_time": "2024-07-18T08:36:31.169914",
     "status": "completed"
    },
    "tags": []
   },
   "outputs": [],
   "source": [
    "train =pd.read_csv('/kaggle/input/crime-cast-forecasting-crime-categories/train.csv')\n",
    "train2 =pd.read_csv('/kaggle/input/crime-cast-forecasting-crime-categories/train.csv')\n",
    "\n",
    "test_final=pd.read_csv('/kaggle/input/crime-cast-forecasting-crime-categories/test.csv')\n"
   ]
  },
  {
   "cell_type": "markdown",
   "id": "4d804f8d",
   "metadata": {
    "papermill": {
     "duration": 0.028069,
     "end_time": "2024-07-18T08:36:31.583338",
     "exception": false,
     "start_time": "2024-07-18T08:36:31.555269",
     "status": "completed"
    },
    "tags": []
   },
   "source": [
    "* Latitude range: [0:34] ( General range is -90 to 90 )\n",
    "* Longitude range: [-118: 0] (General range is 180 to 180)\n",
    "\n"
   ]
  },
  {
   "cell_type": "code",
   "execution_count": 4,
   "id": "22e3a300",
   "metadata": {
    "execution": {
     "iopub.execute_input": "2024-07-18T08:36:31.642229Z",
     "iopub.status.busy": "2024-07-18T08:36:31.641819Z",
     "iopub.status.idle": "2024-07-18T08:36:31.671237Z",
     "shell.execute_reply": "2024-07-18T08:36:31.670033Z"
    },
    "papermill": {
     "duration": 0.061807,
     "end_time": "2024-07-18T08:36:31.673611",
     "exception": false,
     "start_time": "2024-07-18T08:36:31.611804",
     "status": "completed"
    },
    "tags": []
   },
   "outputs": [
    {
     "data": {
      "text/plain": [
       "Location                     0\n",
       "Cross_Street             16552\n",
       "Latitude                     0\n",
       "Longitude                    0\n",
       "Date_Reported                0\n",
       "Date_Occurred                0\n",
       "Time_Occurred                0\n",
       "Area_ID                      0\n",
       "Area_Name                    0\n",
       "Reporting_District_no        0\n",
       "Part 1-2                     0\n",
       "Modus_Operandi            2741\n",
       "Victim_Age                   0\n",
       "Victim_Sex                2624\n",
       "Victim_Descent            2624\n",
       "Premise_Code                 0\n",
       "Premise_Description          5\n",
       "Weapon_Used_Code         12665\n",
       "Weapon_Description       12665\n",
       "Status                       0\n",
       "Status_Description           0\n",
       "Crime_Category               0\n",
       "dtype: int64"
      ]
     },
     "execution_count": 4,
     "metadata": {},
     "output_type": "execute_result"
    }
   ],
   "source": [
    "train.isnull().sum()"
   ]
  },
  {
   "cell_type": "code",
   "execution_count": 5,
   "id": "564bb505",
   "metadata": {
    "execution": {
     "iopub.execute_input": "2024-07-18T08:36:31.733268Z",
     "iopub.status.busy": "2024-07-18T08:36:31.732134Z",
     "iopub.status.idle": "2024-07-18T08:36:31.736977Z",
     "shell.execute_reply": "2024-07-18T08:36:31.735976Z"
    },
    "papermill": {
     "duration": 0.036827,
     "end_time": "2024-07-18T08:36:31.739191",
     "exception": false,
     "start_time": "2024-07-18T08:36:31.702364",
     "status": "completed"
    },
    "tags": []
   },
   "outputs": [],
   "source": [
    "# train=train[['Latitude','Longitude','Victim_Age','','Area_ID','']]"
   ]
  },
  {
   "cell_type": "code",
   "execution_count": 6,
   "id": "7c5397a0",
   "metadata": {
    "execution": {
     "iopub.execute_input": "2024-07-18T08:36:31.857003Z",
     "iopub.status.busy": "2024-07-18T08:36:31.856063Z",
     "iopub.status.idle": "2024-07-18T08:36:31.892929Z",
     "shell.execute_reply": "2024-07-18T08:36:31.891779Z"
    },
    "papermill": {
     "duration": 0.126557,
     "end_time": "2024-07-18T08:36:31.895374",
     "exception": false,
     "start_time": "2024-07-18T08:36:31.768817",
     "status": "completed"
    },
    "tags": []
   },
   "outputs": [
    {
     "name": "stdout",
     "output_type": "stream",
     "text": [
      "<class 'pandas.core.frame.DataFrame'>\n",
      "RangeIndex: 20000 entries, 0 to 19999\n",
      "Data columns (total 22 columns):\n",
      " #   Column                 Non-Null Count  Dtype  \n",
      "---  ------                 --------------  -----  \n",
      " 0   Location               20000 non-null  object \n",
      " 1   Cross_Street           3448 non-null   object \n",
      " 2   Latitude               20000 non-null  float64\n",
      " 3   Longitude              20000 non-null  float64\n",
      " 4   Date_Reported          20000 non-null  object \n",
      " 5   Date_Occurred          20000 non-null  object \n",
      " 6   Time_Occurred          20000 non-null  float64\n",
      " 7   Area_ID                20000 non-null  float64\n",
      " 8   Area_Name              20000 non-null  object \n",
      " 9   Reporting_District_no  20000 non-null  float64\n",
      " 10  Part 1-2               20000 non-null  float64\n",
      " 11  Modus_Operandi         17259 non-null  object \n",
      " 12  Victim_Age             20000 non-null  float64\n",
      " 13  Victim_Sex             17376 non-null  object \n",
      " 14  Victim_Descent         17376 non-null  object \n",
      " 15  Premise_Code           20000 non-null  float64\n",
      " 16  Premise_Description    19995 non-null  object \n",
      " 17  Weapon_Used_Code       7335 non-null   float64\n",
      " 18  Weapon_Description     7335 non-null   object \n",
      " 19  Status                 20000 non-null  object \n",
      " 20  Status_Description     20000 non-null  object \n",
      " 21  Crime_Category         20000 non-null  object \n",
      "dtypes: float64(9), object(13)\n",
      "memory usage: 3.4+ MB\n"
     ]
    }
   ],
   "source": [
    "train.info()"
   ]
  },
  {
   "cell_type": "markdown",
   "id": "80b38b00",
   "metadata": {
    "papermill": {
     "duration": 0.028679,
     "end_time": "2024-07-18T08:36:31.953240",
     "exception": false,
     "start_time": "2024-07-18T08:36:31.924561",
     "status": "completed"
    },
    "tags": []
   },
   "source": [
    "# **Categorical Columns **"
   ]
  },
  {
   "cell_type": "markdown",
   "id": "81f5f449",
   "metadata": {
    "papermill": {
     "duration": 0.029263,
     "end_time": "2024-07-18T08:36:32.012136",
     "exception": false,
     "start_time": "2024-07-18T08:36:31.982873",
     "status": "completed"
    },
    "tags": []
   },
   "source": [
    "# Location"
   ]
  },
  {
   "cell_type": "code",
   "execution_count": 7,
   "id": "32eb5cb1",
   "metadata": {
    "execution": {
     "iopub.execute_input": "2024-07-18T08:36:32.072263Z",
     "iopub.status.busy": "2024-07-18T08:36:32.071803Z",
     "iopub.status.idle": "2024-07-18T08:36:32.109276Z",
     "shell.execute_reply": "2024-07-18T08:36:32.108223Z"
    },
    "papermill": {
     "duration": 0.069972,
     "end_time": "2024-07-18T08:36:32.111552",
     "exception": false,
     "start_time": "2024-07-18T08:36:32.041580",
     "status": "completed"
    },
    "tags": []
   },
   "outputs": [
    {
     "name": "stdout",
     "output_type": "stream",
     "text": [
      "['4500    CARPENTER                    AV'\n",
      " '45TH                         ST'\n",
      " '600 E  MARTIN LUTHER KING JR        BL' ...\n",
      " '15800    STRATHERN                    ST'\n",
      " '5100 W  ADAMS                        BL'\n",
      " 'DALTON                       AV']\n",
      "--------------------------------\n",
      "Number of unqiue location :  12399\n",
      "--------------------------------\n",
      "['4500 CARPENTER AV' '45TH ST' '600 E MARTIN LUTHER KING JR BL' ...\n",
      " '15800 STRATHERN ST' '5100 W ADAMS BL' 'DALTON AV']\n",
      "Number of unqiue location :  12396\n"
     ]
    }
   ],
   "source": [
    "print(train['Location'].unique())\n",
    "\n",
    "\n",
    "print('--------------------------------')\n",
    "\n",
    "print('Number of unqiue location : '  , len(train['Location'].unique()))\n",
    "\n",
    "\n",
    "print('--------------------------------')\n",
    "\n",
    "\n",
    "train.loc[: , 'Location']=train['Location'].apply( lambda x : ' '.join(x.split()))\n",
    "\n",
    "print(train['Location'].unique())\n",
    "\n",
    "\n",
    "\n",
    "print('Number of unqiue location : '  , len(train['Location'].unique()))\n",
    "\n",
    "# print('Removed space' , len(train['Location'].unique()) )\n"
   ]
  },
  {
   "cell_type": "code",
   "execution_count": 8,
   "id": "521eaca9",
   "metadata": {
    "execution": {
     "iopub.execute_input": "2024-07-18T08:36:32.171907Z",
     "iopub.status.busy": "2024-07-18T08:36:32.170894Z",
     "iopub.status.idle": "2024-07-18T08:36:32.883170Z",
     "shell.execute_reply": "2024-07-18T08:36:32.882074Z"
    },
    "papermill": {
     "duration": 0.745905,
     "end_time": "2024-07-18T08:36:32.886568",
     "exception": false,
     "start_time": "2024-07-18T08:36:32.140663",
     "status": "completed"
    },
    "tags": []
   },
   "outputs": [
    {
     "data": {
      "image/png": "[encoded data removed]",
      "text/plain": [
       "<Figure size 1000x600 with 1 Axes>"
      ]
     },
     "metadata": {},
     "output_type": "display_data"
    }
   ],
   "source": [
    "from wordcloud import WordCloud\n",
    "import matplotlib.pyplot as plt\n",
    "\n",
    "\n",
    "cloud = WordCloud(width=800, height=400, background_color='black').generate(str(train['Location']))\n",
    "plt.figure(figsize=(10, 6))\n",
    "plt.imshow(cloud)\n",
    "plt.show()\n"
   ]
  },
  {
   "cell_type": "code",
   "execution_count": 9,
   "id": "f4548111",
   "metadata": {
    "execution": {
     "iopub.execute_input": "2024-07-18T08:36:32.953278Z",
     "iopub.status.busy": "2024-07-18T08:36:32.952187Z",
     "iopub.status.idle": "2024-07-18T08:36:32.969395Z",
     "shell.execute_reply": "2024-07-18T08:36:32.968382Z"
    },
    "papermill": {
     "duration": 0.052281,
     "end_time": "2024-07-18T08:36:32.971721",
     "exception": false,
     "start_time": "2024-07-18T08:36:32.919440",
     "status": "completed"
    },
    "tags": []
   },
   "outputs": [
    {
     "data": {
      "text/plain": [
       "Location\n",
       "6TH                33\n",
       "7TH                32\n",
       "6TH ST             31\n",
       "VERMONT AV         31\n",
       "7TH ST             30\n",
       "                   ..\n",
       "2700 E 1ST ST       1\n",
       "9300 SWINTON AV     1\n",
       "MCKINLEY            1\n",
       "WADE ST             1\n",
       "DALTON AV           1\n",
       "Name: count, Length: 12396, dtype: int64"
      ]
     },
     "execution_count": 9,
     "metadata": {},
     "output_type": "execute_result"
    }
   ],
   "source": [
    "train['Location'].value_counts()"
   ]
  },
  {
   "cell_type": "code",
   "execution_count": 10,
   "id": "03679170",
   "metadata": {
    "execution": {
     "iopub.execute_input": "2024-07-18T08:36:33.036906Z",
     "iopub.status.busy": "2024-07-18T08:36:33.036550Z",
     "iopub.status.idle": "2024-07-18T08:36:33.326275Z",
     "shell.execute_reply": "2024-07-18T08:36:33.325171Z"
    },
    "papermill": {
     "duration": 0.324706,
     "end_time": "2024-07-18T08:36:33.328609",
     "exception": false,
     "start_time": "2024-07-18T08:36:33.003903",
     "status": "completed"
    },
    "tags": []
   },
   "outputs": [
    {
     "data": {
      "text/plain": [
       "<Axes: xlabel='Location'>"
      ]
     },
     "execution_count": 10,
     "metadata": {},
     "output_type": "execute_result"
    },
    {
     "data": {
      "image/png": "[encoded data removed]",
      "text/plain": [
       "<Figure size 640x480 with 1 Axes>"
      ]
     },
     "metadata": {},
     "output_type": "display_data"
    }
   ],
   "source": [
    "train['Location'].value_counts().head(10).plot(kind='bar')"
   ]
  },
  {
   "cell_type": "markdown",
   "id": "d2d5d545",
   "metadata": {
    "papermill": {
     "duration": 0.031447,
     "end_time": "2024-07-18T08:36:33.392521",
     "exception": false,
     "start_time": "2024-07-18T08:36:33.361074",
     "status": "completed"
    },
    "tags": []
   },
   "source": [
    "# Cross_Street"
   ]
  },
  {
   "cell_type": "code",
   "execution_count": 11,
   "id": "3f4aca07",
   "metadata": {
    "execution": {
     "iopub.execute_input": "2024-07-18T08:36:33.471370Z",
     "iopub.status.busy": "2024-07-18T08:36:33.470916Z",
     "iopub.status.idle": "2024-07-18T08:36:33.493132Z",
     "shell.execute_reply": "2024-07-18T08:36:33.491865Z"
    },
    "papermill": {
     "duration": 0.068045,
     "end_time": "2024-07-18T08:36:33.495377",
     "exception": false,
     "start_time": "2024-07-18T08:36:33.427332",
     "status": "completed"
    },
    "tags": []
   },
   "outputs": [
    {
     "name": "stdout",
     "output_type": "stream",
     "text": [
      " unqiue values after replacing the null values\n",
      "['' 'ALAMEDA                      ST' 'LASSEN                       ST'\n",
      " ... 'VICTORIA' '39TH                         ST' 'HAVELOCK']\n",
      "Number of unique values :  1496\n",
      "----------------------------------------------------\n",
      "Number of null values values the cross_street column originally has  16552\n"
     ]
    }
   ],
   "source": [
    "# print('unqiue values before replacing the null values')\n",
    "# print(train['Cross_Street'].unique())\n",
    "\n",
    "# print(\"Number of unique values : \" , len(train['Cross_Street'].unique()) )\n",
    "\n",
    "# print('----------------------------------------------------')\n",
    "train.loc[:,'Cross_Street']=train['Cross_Street'].fillna('')\n",
    "\n",
    "\n",
    "print(' unqiue values after replacing the null values')\n",
    "\n",
    "\n",
    "print(train['Cross_Street'].unique())\n",
    "\n",
    "# train.loc[: , 'Cross_Street']=train['Cross_Street'].apply( lambda x : ' '.join(x.split()))\n",
    "\n",
    "train.loc[: , 'Cross_Street']=train['Cross_Street'].apply( lambda x : ' '.join(x.split()))\n",
    "\n",
    "print(\"Number of unique values : \" , len(train['Cross_Street'].unique()) )\n",
    "\n",
    "\n",
    "print('----------------------------------------------------')\n",
    "\n",
    "\n",
    "print(\"Number of null values values the cross_street column originally has \" ,16552)"
   ]
  },
  {
   "cell_type": "code",
   "execution_count": 12,
   "id": "6cf41ece",
   "metadata": {
    "execution": {
     "iopub.execute_input": "2024-07-18T08:36:33.561032Z",
     "iopub.status.busy": "2024-07-18T08:36:33.560634Z",
     "iopub.status.idle": "2024-07-18T08:36:33.586843Z",
     "shell.execute_reply": "2024-07-18T08:36:33.585545Z"
    },
    "papermill": {
     "duration": 0.062348,
     "end_time": "2024-07-18T08:36:33.589559",
     "exception": false,
     "start_time": "2024-07-18T08:36:33.527211",
     "status": "completed"
    },
    "tags": []
   },
   "outputs": [
    {
     "data": {
      "text/plain": [
       "Location                     0\n",
       "Cross_Street                 0\n",
       "Latitude                     0\n",
       "Longitude                    0\n",
       "Date_Reported                0\n",
       "Date_Occurred                0\n",
       "Time_Occurred                0\n",
       "Area_ID                      0\n",
       "Area_Name                    0\n",
       "Reporting_District_no        0\n",
       "Part 1-2                     0\n",
       "Modus_Operandi            2741\n",
       "Victim_Age                   0\n",
       "Victim_Sex                2624\n",
       "Victim_Descent            2624\n",
       "Premise_Code                 0\n",
       "Premise_Description          5\n",
       "Weapon_Used_Code         12665\n",
       "Weapon_Description       12665\n",
       "Status                       0\n",
       "Status_Description           0\n",
       "Crime_Category               0\n",
       "dtype: int64"
      ]
     },
     "execution_count": 12,
     "metadata": {},
     "output_type": "execute_result"
    }
   ],
   "source": [
    "train.isnull().sum()"
   ]
  },
  {
   "cell_type": "markdown",
   "id": "c6230c77",
   "metadata": {
    "papermill": {
     "duration": 0.04716,
     "end_time": "2024-07-18T08:36:33.679581",
     "exception": false,
     "start_time": "2024-07-18T08:36:33.632421",
     "status": "completed"
    },
    "tags": []
   },
   "source": [
    "# Area_ID\n"
   ]
  },
  {
   "cell_type": "code",
   "execution_count": 13,
   "id": "17dbdd2d",
   "metadata": {
    "execution": {
     "iopub.execute_input": "2024-07-18T08:36:33.748969Z",
     "iopub.status.busy": "2024-07-18T08:36:33.748575Z",
     "iopub.status.idle": "2024-07-18T08:36:34.058493Z",
     "shell.execute_reply": "2024-07-18T08:36:34.057450Z"
    },
    "papermill": {
     "duration": 0.345612,
     "end_time": "2024-07-18T08:36:34.060608",
     "exception": false,
     "start_time": "2024-07-18T08:36:33.714996",
     "status": "completed"
    },
    "tags": []
   },
   "outputs": [
    {
     "name": "stdout",
     "output_type": "stream",
     "text": [
      "unique values of area id are :\n",
      "[15. 13. 19. 12. 11.  4. 14.  9. 17.  7.  6.  5. 21.  1. 10. 20. 16.  8.\n",
      " 18.  3.  2.]\n",
      "-------------------------------------------\n",
      "Number of unique values are  21\n",
      "Number of null values are  0\n",
      "-------------------------------------------\n",
      "Area_ID\n",
      "12.0    1345\n",
      "14.0    1157\n",
      "1.0     1156\n",
      "3.0     1130\n",
      "18.0    1067\n",
      "15.0    1065\n",
      "6.0     1014\n",
      "13.0     999\n",
      "20.0     960\n",
      "7.0      943\n",
      "2.0      931\n",
      "8.0      910\n",
      "9.0      902\n",
      "5.0      872\n",
      "19.0     870\n",
      "11.0     839\n",
      "21.0     792\n",
      "10.0     790\n",
      "17.0     769\n",
      "4.0      755\n",
      "16.0     734\n",
      "Name: count, dtype: int64\n",
      "-------------------------------------------\n"
     ]
    },
    {
     "name": "stderr",
     "output_type": "stream",
     "text": [
      "/tmp/ipykernel_18/2200294362.py:14: FutureWarning: Setting an item of incompatible dtype is deprecated and will raise in a future error of pandas. Value '['15.0' '13.0' '13.0' ... '8.0' '5.0' '3.0']' has dtype incompatible with float64, please explicitly cast to a compatible dtype first.\n",
      "  train.loc[:,'Area_ID']=train['Area_ID'].astype(str)\n"
     ]
    },
    {
     "data": {
      "image/png": "[encoded data removed]",
      "text/plain": [
       "<Figure size 640x480 with 1 Axes>"
      ]
     },
     "metadata": {},
     "output_type": "display_data"
    },
    {
     "data": {
      "text/plain": [
       "<Figure size 1500x1000 with 0 Axes>"
      ]
     },
     "metadata": {},
     "output_type": "display_data"
    }
   ],
   "source": [
    "print('unique values of area id are :')\n",
    "print(train['Area_ID'].unique())\n",
    "\n",
    "print('-------------------------------------------')\n",
    "\n",
    "print('Number of unique values are ' , len(train['Area_ID'].unique()))\n",
    "\n",
    "\n",
    "print('Number of null values are ' , train['Area_ID'].isnull().sum())\n",
    "\n",
    "\n",
    "print('-------------------------------------------')\n",
    "\n",
    "train.loc[:,'Area_ID']=train['Area_ID'].astype(str)\n",
    "train.loc[:,'Area_ID']=train['Area_ID'].astype('category')\n",
    "\n",
    "print(train['Area_ID'].value_counts())\n",
    "\n",
    "\n",
    "print('-------------------------------------------')\n",
    "\n",
    "\n",
    "Area_ID_value_counts=train['Area_ID'].value_counts()\n",
    "\n",
    "Area_ID_value_counts.plot(kind='bar')\n",
    "plt.figure(figsize=(15, 10))\n",
    "\n",
    "plt.show()"
   ]
  },
  {
   "cell_type": "markdown",
   "id": "083a5f8b",
   "metadata": {
    "papermill": {
     "duration": 0.032241,
     "end_time": "2024-07-18T08:36:34.125562",
     "exception": false,
     "start_time": "2024-07-18T08:36:34.093321",
     "status": "completed"
    },
    "tags": []
   },
   "source": [
    "# Area_Name"
   ]
  },
  {
   "cell_type": "markdown",
   "id": "f8e7f18b",
   "metadata": {
    "papermill": {
     "duration": 0.033453,
     "end_time": "2024-07-18T08:36:34.191621",
     "exception": false,
     "start_time": "2024-07-18T08:36:34.158168",
     "status": "completed"
    },
    "tags": []
   },
   "source": [
    "Area Name == Area id columns"
   ]
  },
  {
   "cell_type": "code",
   "execution_count": 14,
   "id": "f7c094d1",
   "metadata": {
    "execution": {
     "iopub.execute_input": "2024-07-18T08:36:34.258812Z",
     "iopub.status.busy": "2024-07-18T08:36:34.258424Z",
     "iopub.status.idle": "2024-07-18T08:36:34.272584Z",
     "shell.execute_reply": "2024-07-18T08:36:34.271372Z"
    },
    "papermill": {
     "duration": 0.050406,
     "end_time": "2024-07-18T08:36:34.274975",
     "exception": false,
     "start_time": "2024-07-18T08:36:34.224569",
     "status": "completed"
    },
    "tags": []
   },
   "outputs": [
    {
     "name": "stdout",
     "output_type": "stream",
     "text": [
      "unique areas are\n",
      "['N Hollywood' 'Newton' 'Mission' '77th Street' 'Northeast' 'Hollenbeck'\n",
      " 'Pacific' 'Van Nuys' 'Devonshire' 'Wilshire' 'Hollywood' 'Harbor'\n",
      " 'Topanga' 'Central' 'West Valley' 'Olympic' 'Foothill' 'West LA'\n",
      " 'Southeast' 'Southwest' 'Rampart']\n",
      "-------------------------------------------\n",
      "Number of unique values are  21\n",
      "-------------------------------------------\n",
      "Number of null values are  0\n",
      "-------------------------------------------\n",
      "Area_Name\n",
      "77th Street    1345\n",
      "Pacific        1157\n",
      "Central        1156\n",
      "Southwest      1130\n",
      "Southeast      1067\n",
      "N Hollywood    1065\n",
      "Hollywood      1014\n",
      "Newton          999\n",
      "Olympic         960\n",
      "Wilshire        943\n",
      "Rampart         931\n",
      "West LA         910\n",
      "Van Nuys        902\n",
      "Harbor          872\n",
      "Mission         870\n",
      "Northeast       839\n",
      "Topanga         792\n",
      "West Valley     790\n",
      "Devonshire      769\n",
      "Hollenbeck      755\n",
      "Foothill        734\n",
      "Name: count, dtype: int64\n"
     ]
    }
   ],
   "source": [
    "print('unique areas are')\n",
    "print(train['Area_Name'].unique())\n",
    "\n",
    "print('-------------------------------------------')\n",
    "\n",
    "\n",
    "print('Number of unique values are ' , len(train['Area_Name'].unique()))\n",
    "\n",
    "print('-------------------------------------------')\n",
    "\n",
    "print('Number of null values are ' , train['Area_Name'].isnull().sum())\n",
    "print('-------------------------------------------')\n",
    "\n",
    "print(train['Area_Name'].value_counts())\n"
   ]
  },
  {
   "cell_type": "markdown",
   "id": "ce1836a4",
   "metadata": {
    "papermill": {
     "duration": 0.032488,
     "end_time": "2024-07-18T08:36:34.340542",
     "exception": false,
     "start_time": "2024-07-18T08:36:34.308054",
     "status": "completed"
    },
    "tags": []
   },
   "source": [
    "# Reporting_District_no"
   ]
  },
  {
   "cell_type": "code",
   "execution_count": 15,
   "id": "6ad9ba58",
   "metadata": {
    "execution": {
     "iopub.execute_input": "2024-07-18T08:36:34.408203Z",
     "iopub.status.busy": "2024-07-18T08:36:34.406997Z",
     "iopub.status.idle": "2024-07-18T08:36:34.432976Z",
     "shell.execute_reply": "2024-07-18T08:36:34.431819Z"
    },
    "papermill": {
     "duration": 0.061966,
     "end_time": "2024-07-18T08:36:34.435298",
     "exception": false,
     "start_time": "2024-07-18T08:36:34.373332",
     "status": "completed"
    },
    "tags": []
   },
   "outputs": [
    {
     "name": "stdout",
     "output_type": "stream",
     "text": [
      "<class 'pandas.core.frame.DataFrame'>\n",
      "RangeIndex: 20000 entries, 0 to 19999\n",
      "Data columns (total 22 columns):\n",
      " #   Column                 Non-Null Count  Dtype  \n",
      "---  ------                 --------------  -----  \n",
      " 0   Location               20000 non-null  object \n",
      " 1   Cross_Street           20000 non-null  object \n",
      " 2   Latitude               20000 non-null  float64\n",
      " 3   Longitude              20000 non-null  float64\n",
      " 4   Date_Reported          20000 non-null  object \n",
      " 5   Date_Occurred          20000 non-null  object \n",
      " 6   Time_Occurred          20000 non-null  float64\n",
      " 7   Area_ID                20000 non-null  object \n",
      " 8   Area_Name              20000 non-null  object \n",
      " 9   Reporting_District_no  20000 non-null  float64\n",
      " 10  Part 1-2               20000 non-null  float64\n",
      " 11  Modus_Operandi         17259 non-null  object \n",
      " 12  Victim_Age             20000 non-null  float64\n",
      " 13  Victim_Sex             17376 non-null  object \n",
      " 14  Victim_Descent         17376 non-null  object \n",
      " 15  Premise_Code           20000 non-null  float64\n",
      " 16  Premise_Description    19995 non-null  object \n",
      " 17  Weapon_Used_Code       7335 non-null   float64\n",
      " 18  Weapon_Description     7335 non-null   object \n",
      " 19  Status                 20000 non-null  object \n",
      " 20  Status_Description     20000 non-null  object \n",
      " 21  Crime_Category         20000 non-null  object \n",
      "dtypes: float64(8), object(14)\n",
      "memory usage: 3.4+ MB\n"
     ]
    }
   ],
   "source": [
    "train.info()"
   ]
  },
  {
   "cell_type": "code",
   "execution_count": 16,
   "id": "087d0e14",
   "metadata": {
    "execution": {
     "iopub.execute_input": "2024-07-18T08:36:34.504280Z",
     "iopub.status.busy": "2024-07-18T08:36:34.503846Z",
     "iopub.status.idle": "2024-07-18T08:36:34.822330Z",
     "shell.execute_reply": "2024-07-18T08:36:34.821109Z"
    },
    "papermill": {
     "duration": 0.354662,
     "end_time": "2024-07-18T08:36:34.824379",
     "exception": false,
     "start_time": "2024-07-18T08:36:34.469717",
     "status": "completed"
    },
    "tags": []
   },
   "outputs": [
    {
     "name": "stdout",
     "output_type": "stream",
     "text": [
      "unique areas are\n",
      "['1563.0' '1367.0' '1343.0' ... '1778.0' '1199.0' '812.0']\n",
      "-------------------------------------------\n",
      "Number of unique values are  1120\n",
      "-------------------------------------------\n",
      "Number of null values are  0\n",
      "-------------------------------------------\n",
      "Reporting_District_no\n",
      "645.0     99\n",
      "162.0     85\n",
      "1494.0    74\n",
      "1822.0    72\n",
      "182.0     72\n",
      "          ..\n",
      "452.0      1\n",
      "871.0      1\n",
      "1476.0     1\n",
      "848.0      1\n",
      "812.0      1\n",
      "Name: count, Length: 1120, dtype: int64\n",
      "-------------------------------------------\n"
     ]
    },
    {
     "name": "stderr",
     "output_type": "stream",
     "text": [
      "/tmp/ipykernel_18/4222087248.py:1: FutureWarning: Setting an item of incompatible dtype is deprecated and will raise in a future error of pandas. Value '['1563.0' '1367.0' '1343.0' ... '849.0' '558.0' '397.0']' has dtype incompatible with float64, please explicitly cast to a compatible dtype first.\n",
      "  train.loc[:,'Reporting_District_no']=train['Reporting_District_no'].astype(str)\n"
     ]
    },
    {
     "data": {
      "image/png": "[encoded data removed]",
      "text/plain": [
       "<Figure size 640x480 with 1 Axes>"
      ]
     },
     "metadata": {},
     "output_type": "display_data"
    },
    {
     "data": {
      "text/plain": [
       "<Figure size 1000x600 with 0 Axes>"
      ]
     },
     "metadata": {},
     "output_type": "display_data"
    }
   ],
   "source": [
    "train.loc[:,'Reporting_District_no']=train['Reporting_District_no'].astype(str)\n",
    "train.loc[:,'Reporting_District_no']=train['Reporting_District_no'].astype('category')\n",
    "\n",
    "                                      \n",
    "print('unique areas are')\n",
    "print(train['Reporting_District_no'].unique())\n",
    "\n",
    "print('-------------------------------------------')\n",
    "\n",
    "\n",
    "print('Number of unique values are ' , len(train['Reporting_District_no'].unique()))\n",
    "\n",
    "print('-------------------------------------------')\n",
    "\n",
    "print('Number of null values are ' , train['Reporting_District_no'].isnull().sum())\n",
    "print('-------------------------------------------')\n",
    "\n",
    "print(train['Reporting_District_no'].value_counts())\n",
    "\n",
    "\n",
    "Reporting_District_no_value_counts=train['Reporting_District_no'].value_counts()\n",
    "print('-------------------------------------------')\n",
    "\n",
    "\n",
    "\n",
    "Reporting_District_no_value_counts.head(20).plot(kind='bar')\n",
    "plt.figure(figsize=(10, 6))\n",
    "plt.show()\n"
   ]
  },
  {
   "cell_type": "markdown",
   "id": "e2c56f72",
   "metadata": {
    "papermill": {
     "duration": 0.033784,
     "end_time": "2024-07-18T08:36:34.891693",
     "exception": false,
     "start_time": "2024-07-18T08:36:34.857909",
     "status": "completed"
    },
    "tags": []
   },
   "source": [
    "# Part 1-2"
   ]
  },
  {
   "cell_type": "code",
   "execution_count": 17,
   "id": "d92f14e7",
   "metadata": {
    "execution": {
     "iopub.execute_input": "2024-07-18T08:36:34.959997Z",
     "iopub.status.busy": "2024-07-18T08:36:34.959621Z",
     "iopub.status.idle": "2024-07-18T08:36:35.183628Z",
     "shell.execute_reply": "2024-07-18T08:36:35.182565Z"
    },
    "papermill": {
     "duration": 0.261077,
     "end_time": "2024-07-18T08:36:35.186063",
     "exception": false,
     "start_time": "2024-07-18T08:36:34.924986",
     "status": "completed"
    },
    "tags": []
   },
   "outputs": [
    {
     "name": "stdout",
     "output_type": "stream",
     "text": [
      "Unique values in Part 1-2 columns are: ['1.0' '2.0']\n",
      "----------------------------------------\n",
      " value counts in Part 1-2 columns are: Part 1-2\n",
      "1.0    11637\n",
      "2.0     8363\n",
      "Name: count, dtype: int64\n",
      "----------------------------------------\n"
     ]
    },
    {
     "name": "stderr",
     "output_type": "stream",
     "text": [
      "/tmp/ipykernel_18/2574664916.py:1: FutureWarning: Setting an item of incompatible dtype is deprecated and will raise in a future error of pandas. Value '['1.0' '1.0' '2.0' ... '1.0' '2.0' '1.0']' has dtype incompatible with float64, please explicitly cast to a compatible dtype first.\n",
      "  train.loc[:,'Part 1-2']=train['Part 1-2'].astype(str)\n"
     ]
    },
    {
     "data": {
      "text/plain": [
       "<Axes: xlabel='Part 1-2'>"
      ]
     },
     "execution_count": 17,
     "metadata": {},
     "output_type": "execute_result"
    },
    {
     "data": {
      "image/png": "[encoded data removed]",
      "text/plain": [
       "<Figure size 640x480 with 1 Axes>"
      ]
     },
     "metadata": {},
     "output_type": "display_data"
    }
   ],
   "source": [
    "train.loc[:,'Part 1-2']=train['Part 1-2'].astype(str)\n",
    "\n",
    "print(\"Unique values in Part 1-2 columns are:\",train['Part 1-2'].unique())\n",
    "\n",
    "print('----------------------------------------')\n",
    "\n",
    "print(\" value counts in Part 1-2 columns are:\",train['Part 1-2'].value_counts())\n",
    "\n",
    "\n",
    "print('----------------------------------------')\n",
    "\n",
    "value_counts_part_1_2=train['Part 1-2'].value_counts()\n",
    "\n",
    "value_counts_part_1_2.plot(kind='bar')"
   ]
  },
  {
   "cell_type": "markdown",
   "id": "ee7d493c",
   "metadata": {
    "papermill": {
     "duration": 0.03383,
     "end_time": "2024-07-18T08:36:35.254305",
     "exception": false,
     "start_time": "2024-07-18T08:36:35.220475",
     "status": "completed"
    },
    "tags": []
   },
   "source": [
    "# Modus_Operandi"
   ]
  },
  {
   "cell_type": "code",
   "execution_count": 18,
   "id": "cbdbdb20",
   "metadata": {
    "execution": {
     "iopub.execute_input": "2024-07-18T08:36:35.325744Z",
     "iopub.status.busy": "2024-07-18T08:36:35.324718Z",
     "iopub.status.idle": "2024-07-18T08:36:35.332908Z",
     "shell.execute_reply": "2024-07-18T08:36:35.331950Z"
    },
    "papermill": {
     "duration": 0.046439,
     "end_time": "2024-07-18T08:36:35.334908",
     "exception": false,
     "start_time": "2024-07-18T08:36:35.288469",
     "status": "completed"
    },
    "tags": []
   },
   "outputs": [
    {
     "data": {
      "text/plain": [
       "0                                           0385\n",
       "1        0906 0352 0371 0446 1822 0344 0416 0417\n",
       "2                                      0329 1202\n",
       "3                                      0329 1300\n",
       "4                  0416 0945 1822 0400 0417 0344\n",
       "                          ...                   \n",
       "19995                        0416 0446 2004 0913\n",
       "19996                   1822 0209 0344 1414 1420\n",
       "19997                             0344 1822 1420\n",
       "19998              1202 2038 0913 0602 1242 0553\n",
       "19999                                        NaN\n",
       "Name: Modus_Operandi, Length: 20000, dtype: object"
      ]
     },
     "execution_count": 18,
     "metadata": {},
     "output_type": "execute_result"
    }
   ],
   "source": [
    "train['Modus_Operandi']"
   ]
  },
  {
   "cell_type": "code",
   "execution_count": 19,
   "id": "9484af67",
   "metadata": {
    "execution": {
     "iopub.execute_input": "2024-07-18T08:36:35.407174Z",
     "iopub.status.busy": "2024-07-18T08:36:35.406558Z",
     "iopub.status.idle": "2024-07-18T08:36:35.429833Z",
     "shell.execute_reply": "2024-07-18T08:36:35.428806Z"
    },
    "papermill": {
     "duration": 0.061815,
     "end_time": "2024-07-18T08:36:35.432225",
     "exception": false,
     "start_time": "2024-07-18T08:36:35.370410",
     "status": "completed"
    },
    "tags": []
   },
   "outputs": [
    {
     "name": "stdout",
     "output_type": "stream",
     "text": [
      "Unique values in Modus_Operandi are  ['0385' '0906 0352 0371 0446 1822 0344 0416 0417' '0329 1202' ...\n",
      " '0416 0446 2004 0913' '1822 0209 0344 1414 1420'\n",
      " '1202 2038 0913 0602 1242 0553']\n",
      " \n",
      "Each  row value is combination of diff-diff activities so thats the reason we have  10489 uniques values.\n",
      "\n",
      "----------------------------------------------------------\n",
      "Modus_Operandi\n",
      "0344                                       826\n",
      "0329                                       583\n",
      "1501                                       187\n",
      "0329 1300                                  135\n",
      "0325                                       127\n",
      "                                          ... \n",
      "1609 0329 1307 0344                          1\n",
      "0344 2050 0910 2034                          1\n",
      "0400 2000 0913                               1\n",
      "1822 0342 0910 2049 2051 0305 0444 0344      1\n",
      "1202 2038 0913 0602 1242 0553                1\n",
      "Name: count, Length: 10489, dtype: int64\n",
      "\n",
      "\n",
      "----------------------------------------------------------\n",
      "Number of null values after fill with empty string are  0\n"
     ]
    }
   ],
   "source": [
    "print(\"Unique values in Modus_Operandi are \",train['Modus_Operandi'].unique())\n",
    "print(\" \")\n",
    "print(\"Each  row value is combination of diff-diff activities so thats the reason we have  10489 uniques values.\")\n",
    "\n",
    "print('')\n",
    "\n",
    "print('----------------------------------------------------------')\n",
    "\n",
    "print(train['Modus_Operandi'].value_counts())\n",
    "\n",
    "print('')\n",
    "\n",
    "Modus_Operandi_value_counts=train['Modus_Operandi'].value_counts()\n",
    "\n",
    "print('')\n",
    "\n",
    "\n",
    "\n",
    "print('----------------------------------------------------------')\n",
    "\n",
    "\n",
    "train['Modus_Operandi'] = train['Modus_Operandi'].fillna('')\n",
    "\n",
    "print(\"Number of null values after fill with empty string are \",train['Modus_Operandi'].isnull().sum())\n"
   ]
  },
  {
   "cell_type": "code",
   "execution_count": 20,
   "id": "d430317c",
   "metadata": {
    "execution": {
     "iopub.execute_input": "2024-07-18T08:36:35.503889Z",
     "iopub.status.busy": "2024-07-18T08:36:35.503511Z",
     "iopub.status.idle": "2024-07-18T08:36:35.779406Z",
     "shell.execute_reply": "2024-07-18T08:36:35.778524Z"
    },
    "papermill": {
     "duration": 0.3138,
     "end_time": "2024-07-18T08:36:35.781721",
     "exception": false,
     "start_time": "2024-07-18T08:36:35.467921",
     "status": "completed"
    },
    "tags": []
   },
   "outputs": [
    {
     "data": {
      "text/plain": [
       "<Axes: xlabel='Modus_Operandi'>"
      ]
     },
     "execution_count": 20,
     "metadata": {},
     "output_type": "execute_result"
    },
    {
     "data": {
      "image/png": "[encoded data removed]",
      "text/plain": [
       "<Figure size 640x480 with 1 Axes>"
      ]
     },
     "metadata": {},
     "output_type": "display_data"
    }
   ],
   "source": [
    "Modus_Operandi_value_counts.head(10).plot(kind='bar')"
   ]
  },
  {
   "cell_type": "code",
   "execution_count": 21,
   "id": "3b700c19",
   "metadata": {
    "execution": {
     "iopub.execute_input": "2024-07-18T08:36:35.853286Z",
     "iopub.status.busy": "2024-07-18T08:36:35.852875Z",
     "iopub.status.idle": "2024-07-18T08:36:35.885305Z",
     "shell.execute_reply": "2024-07-18T08:36:35.884203Z"
    },
    "papermill": {
     "duration": 0.070758,
     "end_time": "2024-07-18T08:36:35.887700",
     "exception": false,
     "start_time": "2024-07-18T08:36:35.816942",
     "status": "completed"
    },
    "tags": []
   },
   "outputs": [],
   "source": [
    "# def number_of_activities(s):\n",
    "#     activities=[]\n",
    "#     s=str(s)\n",
    "#     a=s.split(' ')\n",
    "#     for i in a:\n",
    "#         if a not in activities:\n",
    "#             activities.append(a)\n",
    "#     return activities\n",
    "\n",
    "def number_of_activities(s):\n",
    "    if s=='':  # Handle NaN values\n",
    "        return 0\n",
    "    activities_list=s.split()\n",
    "    activity_count = list(set(activities_list))\n",
    "#     activities = set()  # Using a set to avoid duplicates efficiently\n",
    "#     for activity in s.split(' '):\n",
    "#         activities.add(str(activity))\n",
    "#     activities=' '.join(activities)    \n",
    "    return len(activity_count)\n",
    "train['activity_count']=train['Modus_Operandi'].apply(number_of_activities)\n",
    "# df.drop('Modus_Operandi',axis=1)\n",
    "# df['Modus_Operandi']=df['unique_activities']\n",
    "# df.drop('unique_activities',axis=1,inplace=True)"
   ]
  },
  {
   "cell_type": "code",
   "execution_count": 22,
   "id": "4b2f56cb",
   "metadata": {
    "execution": {
     "iopub.execute_input": "2024-07-18T08:36:35.959692Z",
     "iopub.status.busy": "2024-07-18T08:36:35.959310Z",
     "iopub.status.idle": "2024-07-18T08:36:35.978778Z",
     "shell.execute_reply": "2024-07-18T08:36:35.977793Z"
    },
    "papermill": {
     "duration": 0.058415,
     "end_time": "2024-07-18T08:36:35.981167",
     "exception": false,
     "start_time": "2024-07-18T08:36:35.922752",
     "status": "completed"
    },
    "tags": []
   },
   "outputs": [
    {
     "data": {
      "text/html": [
       "<div>\n",
       "<style scoped>\n",
       "    .dataframe tbody tr th:only-of-type {\n",
       "        vertical-align: middle;\n",
       "    }\n",
       "\n",
       "    .dataframe tbody tr th {\n",
       "        vertical-align: top;\n",
       "    }\n",
       "\n",
       "    .dataframe thead th {\n",
       "        text-align: right;\n",
       "    }\n",
       "</style>\n",
       "<table border=\"1\" class=\"dataframe\">\n",
       "  <thead>\n",
       "    <tr style=\"text-align: right;\">\n",
       "      <th></th>\n",
       "      <th>Modus_Operandi</th>\n",
       "      <th>activity_count</th>\n",
       "    </tr>\n",
       "  </thead>\n",
       "  <tbody>\n",
       "    <tr>\n",
       "      <th>0</th>\n",
       "      <td>0385</td>\n",
       "      <td>1</td>\n",
       "    </tr>\n",
       "    <tr>\n",
       "      <th>1</th>\n",
       "      <td>0906 0352 0371 0446 1822 0344 0416 0417</td>\n",
       "      <td>8</td>\n",
       "    </tr>\n",
       "    <tr>\n",
       "      <th>2</th>\n",
       "      <td>0329 1202</td>\n",
       "      <td>2</td>\n",
       "    </tr>\n",
       "    <tr>\n",
       "      <th>3</th>\n",
       "      <td>0329 1300</td>\n",
       "      <td>2</td>\n",
       "    </tr>\n",
       "    <tr>\n",
       "      <th>4</th>\n",
       "      <td>0416 0945 1822 0400 0417 0344</td>\n",
       "      <td>6</td>\n",
       "    </tr>\n",
       "    <tr>\n",
       "      <th>...</th>\n",
       "      <td>...</td>\n",
       "      <td>...</td>\n",
       "    </tr>\n",
       "    <tr>\n",
       "      <th>19995</th>\n",
       "      <td>0416 0446 2004 0913</td>\n",
       "      <td>4</td>\n",
       "    </tr>\n",
       "    <tr>\n",
       "      <th>19996</th>\n",
       "      <td>1822 0209 0344 1414 1420</td>\n",
       "      <td>5</td>\n",
       "    </tr>\n",
       "    <tr>\n",
       "      <th>19997</th>\n",
       "      <td>0344 1822 1420</td>\n",
       "      <td>3</td>\n",
       "    </tr>\n",
       "    <tr>\n",
       "      <th>19998</th>\n",
       "      <td>1202 2038 0913 0602 1242 0553</td>\n",
       "      <td>6</td>\n",
       "    </tr>\n",
       "    <tr>\n",
       "      <th>19999</th>\n",
       "      <td></td>\n",
       "      <td>0</td>\n",
       "    </tr>\n",
       "  </tbody>\n",
       "</table>\n",
       "<p>20000 rows × 2 columns</p>\n",
       "</div>"
      ],
      "text/plain": [
       "                                Modus_Operandi  activity_count\n",
       "0                                         0385               1\n",
       "1      0906 0352 0371 0446 1822 0344 0416 0417               8\n",
       "2                                    0329 1202               2\n",
       "3                                    0329 1300               2\n",
       "4                0416 0945 1822 0400 0417 0344               6\n",
       "...                                        ...             ...\n",
       "19995                      0416 0446 2004 0913               4\n",
       "19996                 1822 0209 0344 1414 1420               5\n",
       "19997                           0344 1822 1420               3\n",
       "19998            1202 2038 0913 0602 1242 0553               6\n",
       "19999                                                        0\n",
       "\n",
       "[20000 rows x 2 columns]"
      ]
     },
     "execution_count": 22,
     "metadata": {},
     "output_type": "execute_result"
    }
   ],
   "source": [
    "train[['Modus_Operandi','activity_count']]"
   ]
  },
  {
   "cell_type": "code",
   "execution_count": 23,
   "id": "27550801",
   "metadata": {
    "execution": {
     "iopub.execute_input": "2024-07-18T08:36:36.053357Z",
     "iopub.status.busy": "2024-07-18T08:36:36.052932Z",
     "iopub.status.idle": "2024-07-18T08:36:36.059184Z",
     "shell.execute_reply": "2024-07-18T08:36:36.058061Z"
    },
    "papermill": {
     "duration": 0.044835,
     "end_time": "2024-07-18T08:36:36.061453",
     "exception": false,
     "start_time": "2024-07-18T08:36:36.016618",
     "status": "completed"
    },
    "tags": []
   },
   "outputs": [],
   "source": [
    "from sklearn.base import BaseEstimator, TransformerMixin\n",
    "from sklearn.preprocessing import MultiLabelBinarizer\n",
    "\n",
    "class MultiLabelBinarizerWrapper(BaseEstimator, TransformerMixin):\n",
    "    def __init__(self):\n",
    "        self.mlb = MultiLabelBinarizer()\n",
    "\n",
    "    def fit(self, X, y=None):\n",
    "        self.mlb.fit(X)\n",
    "        return self\n",
    "\n",
    "    def transform(self, X):\n",
    "        return self.mlb.transform(X)"
   ]
  },
  {
   "cell_type": "markdown",
   "id": "b224da05",
   "metadata": {
    "papermill": {
     "duration": 0.035296,
     "end_time": "2024-07-18T08:36:36.132540",
     "exception": false,
     "start_time": "2024-07-18T08:36:36.097244",
     "status": "completed"
    },
    "tags": []
   },
   "source": [
    "# Status and Status_Description "
   ]
  },
  {
   "cell_type": "markdown",
   "id": "f1ed8124",
   "metadata": {
    "papermill": {
     "duration": 0.034974,
     "end_time": "2024-07-18T08:36:36.203181",
     "exception": false,
     "start_time": "2024-07-18T08:36:36.168207",
     "status": "completed"
    },
    "tags": []
   },
   "source": [
    "Status and Status_Description convey same information "
   ]
  },
  {
   "cell_type": "code",
   "execution_count": 24,
   "id": "ae189a5b",
   "metadata": {
    "execution": {
     "iopub.execute_input": "2024-07-18T08:36:36.276135Z",
     "iopub.status.busy": "2024-07-18T08:36:36.275780Z",
     "iopub.status.idle": "2024-07-18T08:36:36.726607Z",
     "shell.execute_reply": "2024-07-18T08:36:36.725493Z"
    },
    "papermill": {
     "duration": 0.490392,
     "end_time": "2024-07-18T08:36:36.728994",
     "exception": false,
     "start_time": "2024-07-18T08:36:36.238602",
     "status": "completed"
    },
    "tags": []
   },
   "outputs": [
    {
     "name": "stdout",
     "output_type": "stream",
     "text": [
      "Number of unique values in Status are  ['IC' 'AO' 'AA' 'JA' 'JO']\n",
      " values in Status are  Status\n",
      "IC    15236\n",
      "AO     2597\n",
      "AA     2054\n",
      "JA       70\n",
      "JO       43\n",
      "Name: count, dtype: int64\n",
      "Null values in status are 0\n",
      "\n",
      "--------------------------------------------------------------\n",
      "\n",
      "Number of unique values in Status_Description are  ['Invest Cont' 'Adult Other' 'Adult Arrest' 'Juv Arrest' 'Juv Other']\n",
      " values in Status_Description are  Status_Description\n",
      "Invest Cont     15236\n",
      "Adult Other      2597\n",
      "Adult Arrest     2054\n",
      "Juv Arrest         70\n",
      "Juv Other          43\n",
      "Name: count, dtype: int64\n",
      "Null values in Status_Description are 0\n",
      "\n",
      "--------------------------------------------------------------\n",
      "\n"
     ]
    },
    {
     "data": {
      "image/png": "[encoded data removed]",
      "text/plain": [
       "<Figure size 640x480 with 1 Axes>"
      ]
     },
     "metadata": {},
     "output_type": "display_data"
    },
    {
     "data": {
      "text/plain": [
       "<Axes: xlabel='Status_Description'>"
      ]
     },
     "execution_count": 24,
     "metadata": {},
     "output_type": "execute_result"
    },
    {
     "data": {
      "image/png": "[encoded data removed]",
      "text/plain": [
       "<Figure size 640x480 with 1 Axes>"
      ]
     },
     "metadata": {},
     "output_type": "display_data"
    }
   ],
   "source": [
    "print(\"Number of unique values in Status are \",train['Status'].unique())\n",
    "\n",
    "print(\" values in Status are \",train['Status'].value_counts())\n",
    "\n",
    "print('Null values in status are' ,train['Status'].isnull().sum() )\n",
    "\n",
    "Status_value_counts=train['Status'].value_counts()\n",
    "\n",
    "\n",
    "print('')\n",
    "print('--------------------------------------------------------------')\n",
    "print('')\n",
    "\n",
    "print(\"Number of unique values in Status_Description are \",train['Status_Description'].unique())\n",
    "\n",
    "print(\" values in Status_Description are \",train['Status_Description'].value_counts())\n",
    "\n",
    "print('Null values in Status_Description are' ,train['Status_Description'].isnull().sum() )\n",
    "\n",
    "\n",
    "Status_Description_value_counts=train['Status_Description'].value_counts()\n",
    "\n",
    "\n",
    "\n",
    "print('')\n",
    "print('--------------------------------------------------------------')\n",
    "print('')\n",
    "\n",
    "Status_value_counts.plot(kind='bar')\n",
    "plt.show()\n",
    "\n",
    "Status_Description_value_counts.plot(kind='bar')\n"
   ]
  },
  {
   "cell_type": "markdown",
   "id": "c89b20b5",
   "metadata": {
    "papermill": {
     "duration": 0.03573,
     "end_time": "2024-07-18T08:36:36.801223",
     "exception": false,
     "start_time": "2024-07-18T08:36:36.765493",
     "status": "completed"
    },
    "tags": []
   },
   "source": [
    "# Weapon_Used_Code  and Weapon_Description"
   ]
  },
  {
   "cell_type": "markdown",
   "id": "4ade860b",
   "metadata": {
    "papermill": {
     "duration": 0.035726,
     "end_time": "2024-07-18T08:36:36.873840",
     "exception": false,
     "start_time": "2024-07-18T08:36:36.838114",
     "status": "completed"
    },
    "tags": []
   },
   "source": [
    "Both columns gives same information\n"
   ]
  },
  {
   "cell_type": "code",
   "execution_count": 25,
   "id": "790aed5b",
   "metadata": {
    "execution": {
     "iopub.execute_input": "2024-07-18T08:36:36.949338Z",
     "iopub.status.busy": "2024-07-18T08:36:36.948507Z",
     "iopub.status.idle": "2024-07-18T08:36:36.959971Z",
     "shell.execute_reply": "2024-07-18T08:36:36.958747Z"
    },
    "papermill": {
     "duration": 0.051566,
     "end_time": "2024-07-18T08:36:36.962614",
     "exception": false,
     "start_time": "2024-07-18T08:36:36.911048",
     "status": "completed"
    },
    "tags": []
   },
   "outputs": [
    {
     "name": "stdout",
     "output_type": "stream",
     "text": [
      "Number of null values are\n"
     ]
    },
    {
     "data": {
      "text/plain": [
       "Weapon_Description    12665\n",
       "Weapon_Used_Code      12665\n",
       "dtype: int64"
      ]
     },
     "execution_count": 25,
     "metadata": {},
     "output_type": "execute_result"
    }
   ],
   "source": [
    "print('Number of null values are')\n",
    "train[['Weapon_Description','Weapon_Used_Code']].isnull().sum()"
   ]
  },
  {
   "cell_type": "code",
   "execution_count": 26,
   "id": "895c4feb",
   "metadata": {
    "execution": {
     "iopub.execute_input": "2024-07-18T08:36:37.037263Z",
     "iopub.status.busy": "2024-07-18T08:36:37.036356Z",
     "iopub.status.idle": "2024-07-18T08:36:37.046987Z",
     "shell.execute_reply": "2024-07-18T08:36:37.045753Z"
    },
    "papermill": {
     "duration": 0.051103,
     "end_time": "2024-07-18T08:36:37.049928",
     "exception": false,
     "start_time": "2024-07-18T08:36:36.998825",
     "status": "completed"
    },
    "tags": []
   },
   "outputs": [
    {
     "name": "stdout",
     "output_type": "stream",
     "text": [
      "Number of unqiue values are\n"
     ]
    },
    {
     "data": {
      "text/plain": [
       "Weapon_Description\n",
       "STRONG-ARM (HANDS, FIST, FEET OR BODILY FORCE)    3990\n",
       "UNKNOWN WEAPON/OTHER WEAPON                        789\n",
       "VERBAL THREAT                                      546\n",
       "HAND GUN                                           388\n",
       "KNIFE WITH BLADE 6INCHES OR LESS                   160\n",
       "SEMI-AUTOMATIC PISTOL                              154\n",
       "UNKNOWN FIREARM                                    131\n",
       "OTHER KNIFE                                        125\n",
       "VEHICLE                                             84\n",
       "MACE/PEPPER SPRAY                                   80\n",
       "ROCK/THROWN OBJECT                                  63\n",
       "BOTTLE                                              55\n",
       "PIPE/METAL PIPE                                     52\n",
       "CLUB/BAT                                            51\n",
       "STICK                                               49\n",
       "KITCHEN KNIFE                                       45\n",
       "KNIFE WITH BLADE OVER 6 INCHES IN LENGTH            43\n",
       "AIR PISTOL/REVOLVER/RIFLE/BB GUN                    41\n",
       "FOLDING KNIFE                                       37\n",
       "BLUNT INSTRUMENT                                    37\n",
       "SIMULATED GUN                                       35\n",
       "REVOLVER                                            34\n",
       "BELT FLAILING INSTRUMENT/CHAIN                      26\n",
       "CONCRETE BLOCK/BRICK                                26\n",
       "MACHETE                                             25\n",
       "UNKNOWN TYPE CUTTING INSTRUMENT                     24\n",
       "HAMMER                                              23\n",
       "SCREWDRIVER                                         23\n",
       "FIRE                                                22\n",
       "OTHER FIREARM                                       18\n",
       "PHYSICAL PRESENCE                                   18\n",
       "OTHER CUTTING INSTRUMENT                            17\n",
       "FIXED OBJECT                                        16\n",
       "GLASS                                               14\n",
       "SCISSORS                                            13\n",
       "RIFLE                                               12\n",
       "BOARD                                               11\n",
       "TOY GUN                                              8\n",
       "SHOTGUN                                              7\n",
       "TIRE IRON                                            7\n",
       "AXE                                                  6\n",
       "STUN GUN                                             4\n",
       "BRASS KNUCKLES                                       4\n",
       "SCALDING LIQUID                                      3\n",
       "SWITCH BLADE                                         3\n",
       "MARTIAL ARTS WEAPONS                                 2\n",
       "DEMAND NOTE                                          2\n",
       "SAWED OFF RIFLE/SHOTGUN                              2\n",
       "ICE PICK                                             2\n",
       "CAUSTIC CHEMICAL/POISON                              1\n",
       "BOMB THREAT                                          1\n",
       "BOWIE KNIFE                                          1\n",
       "STARTER PISTOL/REVOLVER                              1\n",
       "RAZOR BLADE                                          1\n",
       "HECKLER & KOCH 93 SEMIAUTOMATIC ASSAULT RIFLE        1\n",
       "ASSAULT WEAPON/UZI/AK47/ETC                          1\n",
       "CLEAVER                                              1\n",
       "Name: count, dtype: int64"
      ]
     },
     "execution_count": 26,
     "metadata": {},
     "output_type": "execute_result"
    }
   ],
   "source": [
    "print('Number of unqiue values are')\n",
    "train['Weapon_Description'].value_counts()"
   ]
  },
  {
   "cell_type": "code",
   "execution_count": 27,
   "id": "2894c44e",
   "metadata": {
    "execution": {
     "iopub.execute_input": "2024-07-18T08:36:37.125401Z",
     "iopub.status.busy": "2024-07-18T08:36:37.124652Z",
     "iopub.status.idle": "2024-07-18T08:36:37.171456Z",
     "shell.execute_reply": "2024-07-18T08:36:37.170318Z"
    },
    "papermill": {
     "duration": 0.087258,
     "end_time": "2024-07-18T08:36:37.173823",
     "exception": false,
     "start_time": "2024-07-18T08:36:37.086565",
     "status": "completed"
    },
    "tags": []
   },
   "outputs": [],
   "source": [
    "train.loc[train['Weapon_Description'] == 'STRONG-ARM (HANDS, FIST, FEET OR BODILY FORCE)' , 'Weapon_Description'] = 'Physical Force'\n",
    "\n",
    "# EXPLOXIVE DEVICE                                     3\n",
    "# RAZOR                                                1\n",
    "# LIQUOR/DRUGS                                         1\n",
    "# DOG/ANIMAL (SIC ANIMAL ON)                           1\n",
    "# SWORD   \n",
    "\n",
    "\n",
    "# NA                                                3153\n",
    "# STRONG-ARM (HANDS, FIST, FEET OR BODILY FORCE)    1003\n",
    "# sharp_heavy_object                                 431\n",
    "# other_weapon                                       170\n",
    "# Gun                                                164\n",
    "# fire                                                44\n",
    "# VEHICLE                                             28\n",
    "# Physical Force                                       4\n",
    "# EXPLOXIVE DEVICE                                     3\n",
    "\n",
    "def gun(s):\n",
    "    \n",
    "    if pd.isna(s):\n",
    "        return 'NA'\n",
    "    t=s.replace('/',' ')\n",
    "    listt=t.split(' ' or '/')\n",
    "    \n",
    "    gun_keywords=['gun','pistol','revolver','rifle','shotgun','AK47','explosive','exploxive']\n",
    "    \n",
    "    sharp_heavy_object=['blade','razor','stone','sword','knife','metal','screwdriver','cleaver', 'glass','machete' ,'iron' , 'cutting','axe' ,'instrument','hammer','weapon','object','bottle','weapons','brass','scissors']\n",
    "    \n",
    "    other_weapon = ['bomb','threat', 'demand', 'poison', 'ice', 'scalding', 'board','block' ,'brick', 'stick', 'bat', 'spray','drugs','dog']\n",
    "    \n",
    "    physical_presence=['physical','presence','strong-arm']\n",
    "    \n",
    "    fire=['firearm' , 'fire' ]\n",
    "\n",
    "    for i in listt:\n",
    "        if i.lower() in gun_keywords:\n",
    "            return 'Gun'\n",
    "        elif i.lower() in sharp_heavy_object:\n",
    "            return 'sharp_heavy_object'\n",
    "        \n",
    "        elif i.lower() in fire:\n",
    "            return 'fire'\n",
    "        elif i.lower() in other_weapon:\n",
    "            return 'other_weapon'\n",
    "        elif i.lower() in physical_presence:\n",
    "            return 'Physical Force'\n",
    "        elif i.lower() == 'strong-arm':\n",
    "            return 'Physical Force'\n",
    "            \n",
    "        \n",
    "    return s\n",
    "    \n",
    "\n",
    "\n",
    "\n",
    "train.loc[:,'Weapon_Description']=train['Weapon_Description'].apply(lambda x: gun(x))"
   ]
  },
  {
   "cell_type": "code",
   "execution_count": 28,
   "id": "a30387f9",
   "metadata": {
    "execution": {
     "iopub.execute_input": "2024-07-18T08:36:37.249946Z",
     "iopub.status.busy": "2024-07-18T08:36:37.249020Z",
     "iopub.status.idle": "2024-07-18T08:36:37.259326Z",
     "shell.execute_reply": "2024-07-18T08:36:37.258179Z"
    },
    "papermill": {
     "duration": 0.050887,
     "end_time": "2024-07-18T08:36:37.261689",
     "exception": false,
     "start_time": "2024-07-18T08:36:37.210802",
     "status": "completed"
    },
    "tags": []
   },
   "outputs": [
    {
     "name": "stdout",
     "output_type": "stream",
     "text": [
      "Number of unqiue values are\n"
     ]
    },
    {
     "data": {
      "text/plain": [
       "Weapon_Description\n",
       "NA                    12665\n",
       "Physical Force         4008\n",
       "sharp_heavy_object     1613\n",
       "other_weapon            772\n",
       "Gun                     687\n",
       "fire                    171\n",
       "VEHICLE                  84\n",
       "Name: count, dtype: int64"
      ]
     },
     "execution_count": 28,
     "metadata": {},
     "output_type": "execute_result"
    }
   ],
   "source": [
    "print('Number of unqiue values are')\n",
    "train['Weapon_Description'].value_counts()"
   ]
  },
  {
   "cell_type": "code",
   "execution_count": 29,
   "id": "a52cc955",
   "metadata": {
    "execution": {
     "iopub.execute_input": "2024-07-18T08:36:37.338055Z",
     "iopub.status.busy": "2024-07-18T08:36:37.336998Z",
     "iopub.status.idle": "2024-07-18T08:36:37.360296Z",
     "shell.execute_reply": "2024-07-18T08:36:37.359210Z"
    },
    "papermill": {
     "duration": 0.064037,
     "end_time": "2024-07-18T08:36:37.362830",
     "exception": false,
     "start_time": "2024-07-18T08:36:37.298793",
     "status": "completed"
    },
    "tags": []
   },
   "outputs": [],
   "source": [
    "distribution = train['Weapon_Description'][train['Weapon_Description'] != 'NA'].value_counts(normalize=True)\n",
    "\n",
    "missing = train[train['Weapon_Description']=='NA']['Weapon_Description'].count()\n",
    "\n",
    "imputed_values = np.random.choice(distribution.index, size=missing, p=distribution.values)\n",
    "\n",
    "\n",
    "train.loc[train['Weapon_Description']=='NA', 'Weapon_Description'] = imputed_values"
   ]
  },
  {
   "cell_type": "code",
   "execution_count": 30,
   "id": "463c2134",
   "metadata": {
    "execution": {
     "iopub.execute_input": "2024-07-18T08:36:37.438456Z",
     "iopub.status.busy": "2024-07-18T08:36:37.437672Z",
     "iopub.status.idle": "2024-07-18T08:36:37.447643Z",
     "shell.execute_reply": "2024-07-18T08:36:37.446519Z"
    },
    "papermill": {
     "duration": 0.05028,
     "end_time": "2024-07-18T08:36:37.449868",
     "exception": false,
     "start_time": "2024-07-18T08:36:37.399588",
     "status": "completed"
    },
    "tags": []
   },
   "outputs": [
    {
     "data": {
      "text/plain": [
       "Weapon_Description\n",
       "Physical Force        10975\n",
       "sharp_heavy_object     4386\n",
       "other_weapon           2118\n",
       "Gun                    1850\n",
       "fire                    452\n",
       "VEHICLE                 219\n",
       "Name: count, dtype: int64"
      ]
     },
     "execution_count": 30,
     "metadata": {},
     "output_type": "execute_result"
    }
   ],
   "source": [
    "train['Weapon_Description'].value_counts()"
   ]
  },
  {
   "cell_type": "code",
   "execution_count": 31,
   "id": "cd74a816",
   "metadata": {
    "execution": {
     "iopub.execute_input": "2024-07-18T08:36:37.529967Z",
     "iopub.status.busy": "2024-07-18T08:36:37.528893Z",
     "iopub.status.idle": "2024-07-18T08:36:37.553601Z",
     "shell.execute_reply": "2024-07-18T08:36:37.552558Z"
    },
    "papermill": {
     "duration": 0.06598,
     "end_time": "2024-07-18T08:36:37.556017",
     "exception": false,
     "start_time": "2024-07-18T08:36:37.490037",
     "status": "completed"
    },
    "tags": []
   },
   "outputs": [
    {
     "data": {
      "text/plain": [
       "Location                     0\n",
       "Cross_Street                 0\n",
       "Latitude                     0\n",
       "Longitude                    0\n",
       "Date_Reported                0\n",
       "Date_Occurred                0\n",
       "Time_Occurred                0\n",
       "Area_ID                      0\n",
       "Area_Name                    0\n",
       "Reporting_District_no        0\n",
       "Part 1-2                     0\n",
       "Modus_Operandi               0\n",
       "Victim_Age                   0\n",
       "Victim_Sex                2624\n",
       "Victim_Descent            2624\n",
       "Premise_Code                 0\n",
       "Premise_Description          5\n",
       "Weapon_Used_Code         12665\n",
       "Weapon_Description           0\n",
       "Status                       0\n",
       "Status_Description           0\n",
       "Crime_Category               0\n",
       "activity_count               0\n",
       "dtype: int64"
      ]
     },
     "execution_count": 31,
     "metadata": {},
     "output_type": "execute_result"
    }
   ],
   "source": [
    "train.isnull().sum()"
   ]
  },
  {
   "cell_type": "markdown",
   "id": "679b6ab4",
   "metadata": {
    "papermill": {
     "duration": 0.036674,
     "end_time": "2024-07-18T08:36:37.629963",
     "exception": false,
     "start_time": "2024-07-18T08:36:37.593289",
     "status": "completed"
    },
    "tags": []
   },
   "source": [
    "# Premise_Description , Premise_Code\n"
   ]
  },
  {
   "cell_type": "code",
   "execution_count": 32,
   "id": "4378fddc",
   "metadata": {
    "execution": {
     "iopub.execute_input": "2024-07-18T08:36:37.705587Z",
     "iopub.status.busy": "2024-07-18T08:36:37.705193Z",
     "iopub.status.idle": "2024-07-18T08:36:37.714884Z",
     "shell.execute_reply": "2024-07-18T08:36:37.713904Z"
    },
    "papermill": {
     "duration": 0.050851,
     "end_time": "2024-07-18T08:36:37.717754",
     "exception": false,
     "start_time": "2024-07-18T08:36:37.666903",
     "status": "completed"
    },
    "tags": []
   },
   "outputs": [
    {
     "name": "stdout",
     "output_type": "stream",
     "text": [
      "Unique values are:\n",
      "\n",
      "[101. 216. 501. 401. 502. 202. 104. 108. 121. 102. 203. 122. 707. 503.\n",
      " 506. 509. 710. 103. 602. 519. 406. 751. 210. 123. 801. 601. 243. 242.\n",
      " 504. 124. 505. 119. 252. 109. 704. 152. 120. 301. 404. 720. 405. 402.\n",
      " 213. 514. 248. 702. 708. 834. 212. 416. 954. 158. 403. 701. 721. 725.\n",
      " 605. 726. 912. 729. 139. 145. 208. 719. 201. 141. 107. 222. 144. 116.\n",
      " 507. 221. 254. 757. 217. 110. 408. 146. 510. 750. 229. 727. 249. 236.\n",
      " 738. 516. 735. 716. 908. 232. 517. 722. 515. 874. 518. 118. 127. 151.\n",
      " 932. 411. 415. 910. 414. 220. 255. 407. 239. 156. 233. 717. 900. 956.\n",
      " 949. 218. 732. 936. 244. 835. 715. 410. 231. 728. 417. 207. 247. 206.\n",
      " 913. 733. 409. 811. 235. 724. 902. 712. 941. 117. 412. 705. 512. 907.\n",
      " 142. 903. 953. 511. 753. 736. 205. 897. 875. 138. 709. 128. 209. 230.\n",
      " 916. 723. 140. 157. 969. 135. 302. 958. 251. 921. 730. 809. 740. 957.\n",
      " 917. 905. 214. 148. 706. 909. 896. 418. 744. 911. 802. 154. 413. 895.\n",
      " 966. 219. 234. 948. 922. 603. 238. 906. 951. 935. 950. 112. 920. 968.\n",
      " 703. 227. 111. 868. 508. 943. 754. 225. 931. 215. 241. 741. 228. 915.\n",
      " 944. 755. 945. 904. 718. 739. 250.]\n",
      "\n",
      "\n",
      "['STREET' 'SWAP MEET' 'SINGLE FAMILY DWELLING' 'MINI-MART'\n",
      " 'MULTI-UNIT DWELLING (APARTMENT, DUPLEX, ETC)' 'LIQUOR STORE' 'DRIVEWAY'\n",
      " 'PARKING LOT' 'YARD (RESIDENTIAL/BUSINESS)' 'SIDEWALK' 'OTHER BUSINESS'\n",
      " 'VEHICLE, PASSENGER/TRUCK' 'GARAGE/CARPORT' 'HOTEL'\n",
      " 'ABANDONED BUILDING ABANDONED HOUSE'\n",
      " \"MOBILE HOME/TRAILERS/CONSTRUCTION TRAILERS/RV'S/MOTORHOME\"\n",
      " 'OTHER PREMISE' 'ALLEY' 'BANK' 'SHORT-TERM VACATION RENTAL' 'OTHER STORE'\n",
      " 'WEBSITE' 'RESTAURANT/FAST FOOD' 'PARKING UNDERGROUND/BUILDING' 'MTA BUS'\n",
      " 'SAVINGS & LOAN'\n",
      " \"DIY CENTER (LOWE'S,HOME DEPOT,OSH,CONTRACTORS WAREHOUSE)\"\n",
      " 'DISCOUNT STORE (99 CENT,DOLLAR,ETC.' 'OTHER RESIDENCE' 'BUS STOP'\n",
      " 'MOTEL' 'PORCH, RESIDENTIAL'\n",
      " \"COFFEE SHOP (STARBUCKS, COFFEE BEAN, PEET'S, ETC.)\" 'PARK/PLAYGROUND'\n",
      " 'ELEMENTARY SCHOOL' 'UNDERPASS/BRIDGE*' 'STORAGE SHED' 'GAS STATION'\n",
      " 'DEPARTMENT STORE' 'JUNIOR HIGH SCHOOL' 'CLOTHING STORE' 'MARKET'\n",
      " 'WAREHOUSE' 'GROUP HOME' 'CELL PHONE STORE' 'OFFICE BUILDING/OFFICE'\n",
      " 'CHURCH/CHAPEL (CHANGED 03-03 FROM CHURCH/TEMPLE)'\n",
      " 'LA UNION STATION (NOT LINE SPECIFIC)'\n",
      " 'TRANSPORTATION FACILITY (AIRPORT)' 'THE BEVERLY CENTER'\n",
      " 'MTA - EXPO LINE - EXPO/BUNDY' 'TRANSIENT ENCAMPMENT' 'DRUG STORE'\n",
      " 'HOSPITAL' 'HIGH SCHOOL'\n",
      " 'GOVERNMENT FACILITY (FEDERAL,STATE, COUNTY & CITY)'\n",
      " 'AUTOMATED TELLER MACHINE (ATM)' 'POLICE FACILITY'\n",
      " 'MTA - RED LINE - UNIVERSAL CITY/STUDIO CITY' 'SPECIALTY SCHOOL/OTHER'\n",
      " 'AMUSEMENT PARK*' 'MAIL BOX' 'AUTO SALES LOT' 'MEDICAL/DENTAL OFFICES'\n",
      " 'JEWELRY STORE' 'CEMETARY*' 'VACANT LOT' 'LAUNDROMAT' 'GOLF COURSE*'\n",
      " 'OTHER/OUTSIDE' 'CONDOMINIUM/TOWNHOUSE' 'PUBLIC STORAGE'\n",
      " 'STUDIO (FILM/PHOTOGRAPHIC/MUSIC)' 'BASKETBALL COURTS' 'AUTO REPAIR SHOP'\n",
      " 'FREEWAY' 'AUTO SUPPLY STORE*' 'PATIO*'\n",
      " 'NURSING/CONVALESCENT/RETIREMENT HOME' 'CYBERSPACE' 'CHECK CASHING*'\n",
      " 'SHOPPING MALL (COMMON AREA)' 'NURSERY/FLOWER SHOP'\n",
      " 'VISION CARE FACILITY*' 'LIBRARY'\n",
      " \"SINGLE RESIDENCE OCCUPANCY (SRO'S) LOCATIONS\"\n",
      " 'NIGHT CLUB (OPEN EVENINGS ONLY)' 'THEATRE/MOVIE'\n",
      " 'MTA - RED LINE - VERMONT/SUNSET'\n",
      " 'DELIVERY SERVICE (FED EX, UPS, COURIERS,COURIER SERVICE)*'\n",
      " 'MISSIONS/SHELTERS' 'COLLEGE/JUNIOR COLLEGE/UNIVERSITY'\n",
      " 'APARTMENT/CONDO COMMON LAUNDRY ROOM' 'MTA - ORANGE LINE - WOODLEY'\n",
      " 'TRANSITIONAL HOUSING/HALFWAY HOUSE' 'CONSTRUCTION SITE'\n",
      " 'TRASH CAN/TRASH DUMPSTER' 'TOW YARD*' 'MTA - BLUE LINE - PICO'\n",
      " 'PET STORE' 'THE GROVE' 'MTA - RED LINE - HOLLYWOOD/VINE' 'BOOK STORE'\n",
      " 'NAIL SALON' 'AUTO DEALERSHIP (CHEVY, FORD, BMW, MERCEDES, ETC.)'\n",
      " 'HARDWARE/BUILDING SUPPLY' 'MEDICAL MARIJUANA FACILITIES/BUSINESSES'\n",
      " 'VALET' 'TATTOO PARLOR*' 'HEALTH SPA/GYM'\n",
      " 'MTA - RED LINE - UNION STATION' 'MTA - GREEN LINE - AVALON'\n",
      " 'MTA - EXPO LINE - EXPO/LA BREA' 'BEAUTY/BARBER SHOP' 'POST OFFICE'\n",
      " 'MTA - BLUE LINE - VERNON' 'TOBACCO SHOP'\n",
      " '7TH AND METRO CENTER (NOT LINE SPECIFIC)'\n",
      " 'HORSE RACING/SANTA ANITA PARK*' 'MEMBERSHIP STORE (COSTCO,SAMS CLUB)*'\n",
      " 'DAY CARE/CHILDREN*' 'ELEVATOR' 'THE BEVERLY CONNECTION'\n",
      " 'BAR/COCKTAIL/NIGHTCLUB' 'CAR WASH' 'TV/RADIO/APPLIANCE'\n",
      " 'MTA - RED LINE - NORTH HOLLYWOOD' 'BAR/SPORTS BAR (OPEN DAY & NIGHT)'\n",
      " 'BEAUTY SUPPLY STORE' 'OTHER RR TRAIN (UNION PAC, SANTE FE ETC'\n",
      " 'PHARMACY INSIDE STORE OR SUPERMARKET*'\n",
      " 'TRADE SCHOOL (MEDICAL-TECHNICAL-BUSINESS)*'\n",
      " 'MTA - RED LINE - PERSHING SQUARE' 'COLISEUM' 'MTA - EXPO LINE - PICO'\n",
      " 'BEACH' 'ELECTRONICS STORE (IE:RADIO SHACK, ETC.)'\n",
      " 'SLIPS/DOCK/MARINA/BOAT' 'FOSTER HOME BOYS OR GIRLS*'\n",
      " 'MTA - RED LINE - VERMONT/SANTA MONICA' 'DRIVE THRU*'\n",
      " 'MTA - RED LINE - 7TH AND METRO CENTER'\n",
      " 'MTA - EXPO LINE - EXPO/SEPULVEDA' 'PROJECT/TENEMENT/PUBLIC HOUSING'\n",
      " 'DETENTION/JAIL FACILITY' 'SKATEBOARD FACILITY/SKATEBOARD PARK*'\n",
      " 'GUN/SPORTING GOODS' 'MTA - SILVER LINE - HARBOR GATEWAY TRANSIT CTR'\n",
      " 'MTA - ORANGE LINE - BALBOA' 'STAIRWELL*'\n",
      " 'PUBLIC RESTROOM(INDOORS-INSIDE)' 'BUS STOP/LAYOVER (ALSO QUERY 124)'\n",
      " 'EQUIPMENT RENTAL' 'DAY CARE/ADULTS*'\n",
      " 'MTA - PURPLE LINE - CIVIC CENTER/GRAND PARK' 'PRIVATE SCHOOL/PRESCHOOL'\n",
      " 'BALCONY*'\n",
      " \"VEHICLE STORAGE LOT (CARS, TRUCKS, RV'S, BOATS, TRAILERS, ETC.)\"\n",
      " 'MTA - GOLD LINE - HERITAGE SQ' 'MTA PROPERTY OR PARKING LOT' 'FACTORY'\n",
      " 'MTA - GREEN LINE - AVIATION/LAX' 'RECYCLING CENTER'\n",
      " 'MTA - PURPLE LINE - WILSHIRE/NORMANDIE' 'SYNAGOGUE/TEMPLE'\n",
      " 'METROLINK TRAIN' 'OTHER PLACE OF WORSHIP'\n",
      " 'MTA - GREEN LINE - HARBOR FWY' 'MTA - PURPLE LINE - PERSHING SQUARE'\n",
      " 'MTA - RED LINE - WILSHIRE/VERMONT' 'BUS DEPOT/TERMINAL, OTHER THAN MTA'\n",
      " 'PUBLIC RESTROOM/OUTSIDE*'\n",
      " \"SEX ORIENTED/BOOK STORE/STRIP CLUB/GENTLEMAN'S CLUB\"\n",
      " 'MTA - RED LINE - HOLLYWOOD/WESTERN' 'MTA - SILVER LINE - ROSECRANS' nan\n",
      " 'HIGH-RISE BUILDING' 'MTA - RED LINE - HOLLYWOOD/HIGHLAND'\n",
      " 'MUNICIPAL BUS LINE INCLUDES LADOT/DASH' 'TRAIN TRACKS' 'FURNITURE STORE'\n",
      " 'MTA - SILVER LINE - HARBOR FWY' 'MTA - GOLD LINE - UNION STATION'\n",
      " 'CLEANER/LAUNDROMAT' 'OPTICAL OFFICE INSIDE STORE OR SUPERMARKET*'\n",
      " 'MTA - EXPO LINE - FARMDALE' 'MTA - PURPLE LINE - WILSHIRE/WESTERN'\n",
      " 'CREDIT UNION' 'TELECOMMUNICATION FACILITY/LOCATION'\n",
      " 'MTA - RED LINE - VERMONT/BEVERLY' 'MTA - EXPO LINE - PALMS'\n",
      " 'MTA - BLUE LINE - WASHINGTON' 'MTA - EXPO LINE - LA CIENEGA/JEFFERSON'\n",
      " 'BUS, SCHOOL, CHURCH' 'MTA - PURPLE LINE - WILSHIRE/VERMONT'\n",
      " 'MTA - GOLD LINE - LINCOLN/CYPRESS' 'ENTERTAINMENT/COMEDY CLUB (OTHER)'\n",
      " 'ABORTION CLINIC/ABORTION FACILITY*' 'BUS-CHARTER/PRIVATE'\n",
      " 'MTA - ORANGE LINE - NORTH HOLLYWOOD' 'FRAT HOUSE/SORORITY/DORMITORY'\n",
      " 'MTA - EXPO LINE - JEFFERSON/USC' 'MUSEUM'\n",
      " 'RECORD-CD MUSIC/COMPUTER GAME STORE'\n",
      " 'MTA - BLUE LINE - 7TH AND METRO CENTER'\n",
      " 'TRAIN DEPOT/TERMINAL, OTHER THAN MTA' 'ENERGY PLANT/FACILITY'\n",
      " 'STAPLES CENTER *' 'BOWLING ALLEY*' 'MTA - PURPLE LINE - UNION STATION'\n",
      " 'MTA - EXPO LINE - EXPO PARK/USC' 'VETERINARIAN/ANIMAL HOSPITAL'\n",
      " 'MTA - EXPO LINE - EXPO/VERMONT'\n",
      " 'MTA - RED LINE - WESTLAKE/MACARTHUR PARK' 'MASSAGE PARLOR'\n",
      " 'SPORTS ARENA' 'COMPUTER SERVICES/REPAIRS/SALES']\n"
     ]
    }
   ],
   "source": [
    "print(\"Unique values are:\")\n",
    "print('')\n",
    "print(train['Premise_Code'].unique())\n",
    "\n",
    "print('')\n",
    "print('')\n",
    "\n",
    "print(train['Premise_Description'].unique())"
   ]
  },
  {
   "cell_type": "code",
   "execution_count": 33,
   "id": "93927f8e",
   "metadata": {
    "execution": {
     "iopub.execute_input": "2024-07-18T08:36:37.794985Z",
     "iopub.status.busy": "2024-07-18T08:36:37.794136Z",
     "iopub.status.idle": "2024-07-18T08:36:37.817601Z",
     "shell.execute_reply": "2024-07-18T08:36:37.816484Z"
    },
    "papermill": {
     "duration": 0.064963,
     "end_time": "2024-07-18T08:36:37.820634",
     "exception": false,
     "start_time": "2024-07-18T08:36:37.755671",
     "status": "completed"
    },
    "tags": []
   },
   "outputs": [
    {
     "name": "stdout",
     "output_type": "stream",
     "text": [
      "value counts are:\n",
      "\n",
      "Premise_Code\n",
      "101.0    5033\n",
      "501.0    3379\n",
      "502.0    2491\n",
      "108.0    1437\n",
      "102.0     978\n",
      "         ... \n",
      "214.0       1\n",
      "909.0       1\n",
      "896.0       1\n",
      "744.0       1\n",
      "250.0       1\n",
      "Name: count, Length: 217, dtype: int64\n"
     ]
    },
    {
     "name": "stderr",
     "output_type": "stream",
     "text": [
      "/tmp/ipykernel_18/3041038907.py:1: FutureWarning: Setting an item of incompatible dtype is deprecated and will raise in a future error of pandas. Value '['101.0' '216.0' '501.0' ... '102.0' '501.0' '101.0']' has dtype incompatible with float64, please explicitly cast to a compatible dtype first.\n",
      "  train.loc[:,'Premise_Code']=train.loc[:,'Premise_Code'].astype(str)\n"
     ]
    }
   ],
   "source": [
    "train.loc[:,'Premise_Code']=train.loc[:,'Premise_Code'].astype(str)\n",
    "\n",
    "print(\"value counts are:\")\n",
    "print('')\n",
    "print(train['Premise_Code'].value_counts())\n"
   ]
  },
  {
   "cell_type": "markdown",
   "id": "4b2d8aa3",
   "metadata": {
    "papermill": {
     "duration": 0.037092,
     "end_time": "2024-07-18T08:36:37.895283",
     "exception": false,
     "start_time": "2024-07-18T08:36:37.858191",
     "status": "completed"
    },
    "tags": []
   },
   "source": [
    "# Victim_Sex "
   ]
  },
  {
   "cell_type": "code",
   "execution_count": 34,
   "id": "ea217ad2",
   "metadata": {
    "execution": {
     "iopub.execute_input": "2024-07-18T08:36:37.973907Z",
     "iopub.status.busy": "2024-07-18T08:36:37.972921Z",
     "iopub.status.idle": "2024-07-18T08:36:37.997652Z",
     "shell.execute_reply": "2024-07-18T08:36:37.996496Z"
    },
    "papermill": {
     "duration": 0.065796,
     "end_time": "2024-07-18T08:36:38.000078",
     "exception": false,
     "start_time": "2024-07-18T08:36:37.934282",
     "status": "completed"
    },
    "tags": []
   },
   "outputs": [
    {
     "name": "stdout",
     "output_type": "stream",
     "text": [
      "Unique values of victim sex are ['M' 'X' 'F' nan 'H']\n",
      "\n",
      "\n",
      "Value counts are\n",
      "Victim_Sex\n",
      "M    8538\n",
      "F    7176\n",
      "X    1660\n",
      "H       2\n",
      "Name: count, dtype: int64\n",
      "\n",
      "\n",
      "Number of null values are 2624\n",
      "\n",
      "\n",
      "Number of null values after imputing are 0\n"
     ]
    }
   ],
   "source": [
    "print(\"Unique values of victim sex are\",train['Victim_Sex'].unique())\n",
    "\n",
    "\n",
    "print('')\n",
    "print('')\n",
    "\n",
    "print('Value counts are')\n",
    "print(train['Victim_Sex'].value_counts())\n",
    "\n",
    "print('')\n",
    "print('')\n",
    "\n",
    "\n",
    "print(\"Number of null values are\" , train['Victim_Sex'].isnull().sum())\n",
    "\n",
    "\n",
    "\n",
    "\n",
    "\n",
    "distribution_gender = train['Victim_Sex'].dropna().value_counts(normalize=True)\n",
    "\n",
    "missing_gender = train['Victim_Sex'].isna().sum()\n",
    "\n",
    "imputed_values_gender = np.random.choice(distribution_gender.index, size=missing_gender, p=distribution_gender.values)\n",
    "\n",
    "\n",
    "train.loc[train['Victim_Sex'].isna(), 'Victim_Sex'] = imputed_values_gender\n",
    "\n",
    "\n",
    "\n",
    "print('')\n",
    "print('')\n",
    "\n",
    "\n",
    "\n",
    "print(\"Number of null values after imputing are\" , train['Victim_Sex'].isnull().sum())\n",
    "\n",
    "train.loc[:,'Victim_Sex']=train.loc[:,'Victim_Sex'].replace('H','X')"
   ]
  },
  {
   "cell_type": "markdown",
   "id": "078cf911",
   "metadata": {
    "papermill": {
     "duration": 0.03777,
     "end_time": "2024-07-18T08:36:38.075888",
     "exception": false,
     "start_time": "2024-07-18T08:36:38.038118",
     "status": "completed"
    },
    "tags": []
   },
   "source": [
    "# Victim_Descent"
   ]
  },
  {
   "cell_type": "code",
   "execution_count": 35,
   "id": "3bdc792e",
   "metadata": {
    "execution": {
     "iopub.execute_input": "2024-07-18T08:36:38.153220Z",
     "iopub.status.busy": "2024-07-18T08:36:38.152837Z",
     "iopub.status.idle": "2024-07-18T08:36:38.166527Z",
     "shell.execute_reply": "2024-07-18T08:36:38.165461Z"
    },
    "papermill": {
     "duration": 0.055456,
     "end_time": "2024-07-18T08:36:38.169005",
     "exception": false,
     "start_time": "2024-07-18T08:36:38.113549",
     "status": "completed"
    },
    "tags": []
   },
   "outputs": [],
   "source": [
    "distribution_Descent = train['Victim_Descent'].dropna().value_counts(normalize=True)\n",
    "\n",
    "missing_Descent = train['Victim_Descent'].isna().sum()\n",
    "\n",
    "imputed_values_Descent = np.random.choice(distribution_Descent.index, size=missing_Descent, p=distribution_Descent.values)\n",
    "\n",
    "\n",
    "train.loc[train['Victim_Descent'].isna(), 'Victim_Descent'] = imputed_values_Descent\n",
    "\n"
   ]
  },
  {
   "cell_type": "code",
   "execution_count": 36,
   "id": "b5e416fa",
   "metadata": {
    "execution": {
     "iopub.execute_input": "2024-07-18T08:36:38.246672Z",
     "iopub.status.busy": "2024-07-18T08:36:38.245903Z",
     "iopub.status.idle": "2024-07-18T08:36:38.571729Z",
     "shell.execute_reply": "2024-07-18T08:36:38.570540Z"
    },
    "papermill": {
     "duration": 0.367358,
     "end_time": "2024-07-18T08:36:38.574346",
     "exception": false,
     "start_time": "2024-07-18T08:36:38.206988",
     "status": "completed"
    },
    "tags": []
   },
   "outputs": [
    {
     "name": "stdout",
     "output_type": "stream",
     "text": [
      "unique values are\n",
      "['W' 'H' 'B' 'X' 'A' 'O' 'K' 'C' 'F' 'I' 'J' 'Z' 'V' 'P' 'D' 'U' 'G']\n",
      "\n",
      "\n",
      "Victim_Descent\n",
      "H    7048\n",
      "W    4881\n",
      "B    3340\n",
      "X    2132\n",
      "O    1846\n",
      "A     486\n",
      "K      96\n",
      "F      58\n",
      "C      57\n",
      "J      20\n",
      "I      12\n",
      "V      10\n",
      "P       5\n",
      "Z       4\n",
      "D       2\n",
      "U       2\n",
      "G       1\n",
      "Name: count, dtype: int64\n"
     ]
    },
    {
     "data": {
      "text/plain": [
       "<Axes: xlabel='Victim_Descent'>"
      ]
     },
     "execution_count": 36,
     "metadata": {},
     "output_type": "execute_result"
    },
    {
     "data": {
      "image/png": "[encoded data removed]",
      "text/plain": [
       "<Figure size 640x480 with 1 Axes>"
      ]
     },
     "metadata": {},
     "output_type": "display_data"
    }
   ],
   "source": [
    "print('unique values are')\n",
    "print(train['Victim_Descent'].unique())\n",
    "\n",
    "print('')\n",
    "print('')\n",
    "\n",
    "print(train['Victim_Descent'].value_counts())\n",
    "\n",
    "Victim_Descent_value_counts=train['Victim_Descent'].value_counts()\n",
    "\n",
    "Victim_Descent_value_counts.plot(kind='bar')"
   ]
  },
  {
   "cell_type": "code",
   "execution_count": 37,
   "id": "16a25ac7",
   "metadata": {
    "execution": {
     "iopub.execute_input": "2024-07-18T08:36:38.659649Z",
     "iopub.status.busy": "2024-07-18T08:36:38.659251Z",
     "iopub.status.idle": "2024-07-18T08:36:38.691042Z",
     "shell.execute_reply": "2024-07-18T08:36:38.689552Z"
    },
    "papermill": {
     "duration": 0.078027,
     "end_time": "2024-07-18T08:36:38.693430",
     "exception": false,
     "start_time": "2024-07-18T08:36:38.615403",
     "status": "completed"
    },
    "tags": []
   },
   "outputs": [
    {
     "name": "stdout",
     "output_type": "stream",
     "text": [
      "<class 'pandas.core.frame.DataFrame'>\n",
      "RangeIndex: 20000 entries, 0 to 19999\n",
      "Data columns (total 23 columns):\n",
      " #   Column                 Non-Null Count  Dtype  \n",
      "---  ------                 --------------  -----  \n",
      " 0   Location               20000 non-null  object \n",
      " 1   Cross_Street           20000 non-null  object \n",
      " 2   Latitude               20000 non-null  float64\n",
      " 3   Longitude              20000 non-null  float64\n",
      " 4   Date_Reported          20000 non-null  object \n",
      " 5   Date_Occurred          20000 non-null  object \n",
      " 6   Time_Occurred          20000 non-null  float64\n",
      " 7   Area_ID                20000 non-null  object \n",
      " 8   Area_Name              20000 non-null  object \n",
      " 9   Reporting_District_no  20000 non-null  object \n",
      " 10  Part 1-2               20000 non-null  object \n",
      " 11  Modus_Operandi         20000 non-null  object \n",
      " 12  Victim_Age             20000 non-null  float64\n",
      " 13  Victim_Sex             20000 non-null  object \n",
      " 14  Victim_Descent         20000 non-null  object \n",
      " 15  Premise_Code           20000 non-null  object \n",
      " 16  Premise_Description    19995 non-null  object \n",
      " 17  Weapon_Used_Code       7335 non-null   float64\n",
      " 18  Weapon_Description     20000 non-null  object \n",
      " 19  Status                 20000 non-null  object \n",
      " 20  Status_Description     20000 non-null  object \n",
      " 21  Crime_Category         20000 non-null  object \n",
      " 22  activity_count         20000 non-null  int64  \n",
      "dtypes: float64(5), int64(1), object(17)\n",
      "memory usage: 3.5+ MB\n"
     ]
    }
   ],
   "source": [
    "train.info()"
   ]
  },
  {
   "cell_type": "markdown",
   "id": "3c903094",
   "metadata": {
    "papermill": {
     "duration": 0.046755,
     "end_time": "2024-07-18T08:36:38.780371",
     "exception": false,
     "start_time": "2024-07-18T08:36:38.733616",
     "status": "completed"
    },
    "tags": []
   },
   "source": [
    "# Numerical Columns"
   ]
  },
  {
   "cell_type": "markdown",
   "id": "540ab3bf",
   "metadata": {
    "papermill": {
     "duration": 0.038832,
     "end_time": "2024-07-18T08:36:38.858290",
     "exception": false,
     "start_time": "2024-07-18T08:36:38.819458",
     "status": "completed"
    },
    "tags": []
   },
   "source": [
    "# Date_Reported ,Date_Occurred"
   ]
  },
  {
   "cell_type": "code",
   "execution_count": 38,
   "id": "794e2e96",
   "metadata": {
    "execution": {
     "iopub.execute_input": "2024-07-18T08:36:38.945360Z",
     "iopub.status.busy": "2024-07-18T08:36:38.944364Z",
     "iopub.status.idle": "2024-07-18T08:36:38.971765Z",
     "shell.execute_reply": "2024-07-18T08:36:38.970678Z"
    },
    "papermill": {
     "duration": 0.077066,
     "end_time": "2024-07-18T08:36:38.974780",
     "exception": false,
     "start_time": "2024-07-18T08:36:38.897714",
     "status": "completed"
    },
    "tags": []
   },
   "outputs": [],
   "source": [
    "def day_category(x):\n",
    "    if 400<=x<1200:\n",
    "        return 'Morning'\n",
    "    elif 1200<=x<1700:\n",
    "        return 'Daytime'\n",
    "    elif 1800<=x<2100:\n",
    "        return 'Evening'\n",
    "    else:\n",
    "        return 'Night'\n",
    "    \n",
    "train['day_category']=train['Time_Occurred'].apply(day_category )   \n",
    "train.drop('Time_Occurred',inplace=True,axis=1)"
   ]
  },
  {
   "cell_type": "code",
   "execution_count": 39,
   "id": "51385cd9",
   "metadata": {
    "execution": {
     "iopub.execute_input": "2024-07-18T08:36:39.059588Z",
     "iopub.status.busy": "2024-07-18T08:36:39.058684Z",
     "iopub.status.idle": "2024-07-18T08:36:57.436643Z",
     "shell.execute_reply": "2024-07-18T08:36:57.435652Z"
    },
    "papermill": {
     "duration": 18.420892,
     "end_time": "2024-07-18T08:36:57.439259",
     "exception": false,
     "start_time": "2024-07-18T08:36:39.018367",
     "status": "completed"
    },
    "tags": []
   },
   "outputs": [],
   "source": [
    "\n",
    "def extract_date(d):\n",
    "    str(d)\n",
    "    date=d.split(' ')[0]\n",
    "    \n",
    "    \n",
    "    date=pd.to_datetime(date).date()\n",
    "    \n",
    "    \n",
    "    return date\n",
    "    \n",
    "train['Date_Reported']=train['Date_Reported'].apply(extract_date)\n",
    "train['Date_Occurred']=train['Date_Occurred'].apply(extract_date)\n",
    "    \n",
    "# k=train['Date_Reported'][0]-train['Date_Occurred'][0]\n",
    "# k.days\n",
    "\n",
    "\n",
    "#converting to datetime\n",
    "\n",
    "train['Date_Reported']=pd.to_datetime(train['Date_Reported']).dt.date\n",
    "train['Date_Occurred']=pd.to_datetime(train['Date_Occurred']).dt.date\n",
    "\n",
    "#this gives daysss anf time too \n",
    "train['reporting_delay_day_count']=(train['Date_Reported']-train['Date_Occurred'])\n",
    "\n",
    "# this day count calculate the days count \n",
    "def day_count(d):\n",
    "    return d.days\n",
    "train['reporting_delay_day_count']=train['reporting_delay_day_count'].apply(day_count)\n",
    "\n",
    "\n",
    "\n",
    "\n",
    "# dropping the date reported and date occured cols\n",
    "\n",
    "\n",
    "train.drop(['Date_Reported','Date_Occurred'],axis=1, inplace=True)"
   ]
  },
  {
   "cell_type": "code",
   "execution_count": 40,
   "id": "03b667ea",
   "metadata": {
    "execution": {
     "iopub.execute_input": "2024-07-18T08:36:57.518195Z",
     "iopub.status.busy": "2024-07-18T08:36:57.517818Z",
     "iopub.status.idle": "2024-07-18T08:36:57.525888Z",
     "shell.execute_reply": "2024-07-18T08:36:57.524934Z"
    },
    "papermill": {
     "duration": 0.050156,
     "end_time": "2024-07-18T08:36:57.528301",
     "exception": false,
     "start_time": "2024-07-18T08:36:57.478145",
     "status": "completed"
    },
    "tags": []
   },
   "outputs": [
    {
     "name": "stdout",
     "output_type": "stream",
     "text": [
      "[75. 41. 67. 61.  0. 50. 68. 22. 31. 46. 72. 26. 38. 37. 42. 40. 53. 60.\n",
      " 29. 13. 33. 27. 15. 23. 74. 63. 78. 51. 44. 34. 69. 36. 52. 25. 49. 48.\n",
      " 32. 18. 35. 24. 39. 16. 28. 47. 30. 64. 76.  5. 58. 45. 57. 19. 55. 54.\n",
      " 21. 65. 17. 20. 77. 82. 56. -2. 84. 59. 43.  7. 70. 66. 62. 14. 80. 71.\n",
      " 81. 96. 12. 11.  4. 83. 10.  8.  6. 88. 86. 73.  9. 87. 85. 93. 95. 99.\n",
      " 79.  3.  2. 91. 92. 90. 89. 98. -1. 94.]\n"
     ]
    }
   ],
   "source": [
    "print(train['Victim_Age'].unique())\n",
    "# df.loc[df['Victim_Age']<0,'Victim_Age']=0\n",
    "train.loc[train['Victim_Age']<0,'Victim_Age']=0"
   ]
  },
  {
   "cell_type": "code",
   "execution_count": 41,
   "id": "af3c553a",
   "metadata": {
    "execution": {
     "iopub.execute_input": "2024-07-18T08:36:57.609604Z",
     "iopub.status.busy": "2024-07-18T08:36:57.608888Z",
     "iopub.status.idle": "2024-07-18T08:36:57.615775Z",
     "shell.execute_reply": "2024-07-18T08:36:57.614569Z"
    },
    "papermill": {
     "duration": 0.049311,
     "end_time": "2024-07-18T08:36:57.618181",
     "exception": false,
     "start_time": "2024-07-18T08:36:57.568870",
     "status": "completed"
    },
    "tags": []
   },
   "outputs": [
    {
     "name": "stdout",
     "output_type": "stream",
     "text": [
      "[75. 41. 67. 61.  0. 50. 68. 22. 31. 46. 72. 26. 38. 37. 42. 40. 53. 60.\n",
      " 29. 13. 33. 27. 15. 23. 74. 63. 78. 51. 44. 34. 69. 36. 52. 25. 49. 48.\n",
      " 32. 18. 35. 24. 39. 16. 28. 47. 30. 64. 76.  5. 58. 45. 57. 19. 55. 54.\n",
      " 21. 65. 17. 20. 77. 82. 56. 84. 59. 43.  7. 70. 66. 62. 14. 80. 71. 81.\n",
      " 96. 12. 11.  4. 83. 10.  8.  6. 88. 86. 73.  9. 87. 85. 93. 95. 99. 79.\n",
      "  3.  2. 91. 92. 90. 89. 98. 94.]\n"
     ]
    }
   ],
   "source": [
    "print(train['Victim_Age'].unique())"
   ]
  },
  {
   "cell_type": "code",
   "execution_count": 42,
   "id": "8c197e69",
   "metadata": {
    "execution": {
     "iopub.execute_input": "2024-07-18T08:36:57.697661Z",
     "iopub.status.busy": "2024-07-18T08:36:57.696744Z",
     "iopub.status.idle": "2024-07-18T08:36:57.714291Z",
     "shell.execute_reply": "2024-07-18T08:36:57.713229Z"
    },
    "papermill": {
     "duration": 0.059704,
     "end_time": "2024-07-18T08:36:57.716640",
     "exception": false,
     "start_time": "2024-07-18T08:36:57.656936",
     "status": "completed"
    },
    "tags": []
   },
   "outputs": [],
   "source": [
    "train.loc[:,'Victim_Age']=train.loc[:,'Victim_Age'].apply(lambda x : int(x))\n",
    "train.loc[train['Victim_Age']==0,'Victim_Age']=train['Victim_Age'].mean()\n",
    "# train.loc['Victim_Age']=train.loc['Victim_Age'].apply(lambda x: int(x))"
   ]
  },
  {
   "cell_type": "code",
   "execution_count": 43,
   "id": "73a30fbd",
   "metadata": {
    "execution": {
     "iopub.execute_input": "2024-07-18T08:36:57.795535Z",
     "iopub.status.busy": "2024-07-18T08:36:57.795120Z",
     "iopub.status.idle": "2024-07-18T08:36:57.800575Z",
     "shell.execute_reply": "2024-07-18T08:36:57.799351Z"
    },
    "papermill": {
     "duration": 0.04739,
     "end_time": "2024-07-18T08:36:57.802758",
     "exception": false,
     "start_time": "2024-07-18T08:36:57.755368",
     "status": "completed"
    },
    "tags": []
   },
   "outputs": [],
   "source": [
    "\n",
    "# def gun(s):\n",
    "#     t=s.replace('/',' ')\n",
    "#     listt=t.split(' ' or '/')\n",
    "#     gun_keywords=['gun','pistol','revolver','rifle','shotgun']\n",
    "    \n",
    "#     sharp_heavy_object=['blade','stone','knife','metal','screwdriver','cleaver', 'glass','machete' ,'iron' , 'cutting','axe' ,'instrument','hammer','weapon','object','bottle','weapons','brass','scissors']\n",
    "    \n",
    "#     other_weapon = ['bomb','threat', 'demand', 'poison', 'ice', 'scalding', 'board','block' ,'brick', 'stick', 'bat', 'spray']\n",
    "    \n",
    "#     physical_presence=['physical','presence']\n",
    "    \n",
    "#     fire=['firearm' , 'fire' ]\n",
    "\n",
    "#     for i in listt:\n",
    "#         if i.lower() in gun_keywords:\n",
    "#             return 'Gun'\n",
    "#         elif i.lower() in sharp_heavy_object:\n",
    "#             return 'sharp_heavy_object'\n",
    "        \n",
    "#         elif i.lower() in fire:\n",
    "#             return 'fire'\n",
    "#         elif i.lower() in other_weapon:\n",
    "#             return 'other_weapon'\n",
    "#         elif i.lower() in physical_presence:\n",
    "#             return 'Physical Force'\n",
    "        \n",
    "#     return s\n",
    "    \n",
    "\n",
    "\n",
    "\n",
    "# df.loc[:,'Weapon_Description']=df['Weapon_Description'].apply(gun)"
   ]
  },
  {
   "cell_type": "markdown",
   "id": "6e4b3988",
   "metadata": {
    "papermill": {
     "duration": 0.038461,
     "end_time": "2024-07-18T08:36:57.880102",
     "exception": false,
     "start_time": "2024-07-18T08:36:57.841641",
     "status": "completed"
    },
    "tags": []
   },
   "source": [
    "# new Columns "
   ]
  },
  {
   "cell_type": "code",
   "execution_count": 44,
   "id": "9443cb7e",
   "metadata": {
    "execution": {
     "iopub.execute_input": "2024-07-18T08:36:57.959840Z",
     "iopub.status.busy": "2024-07-18T08:36:57.958925Z",
     "iopub.status.idle": "2024-07-18T08:36:57.968786Z",
     "shell.execute_reply": "2024-07-18T08:36:57.967734Z"
    },
    "papermill": {
     "duration": 0.052604,
     "end_time": "2024-07-18T08:36:57.971254",
     "exception": false,
     "start_time": "2024-07-18T08:36:57.918650",
     "status": "completed"
    },
    "tags": []
   },
   "outputs": [],
   "source": [
    "numerical_columns=['Latitude','Longitude','Victim_Age','activity_count','reporting_delay_day_count']\n",
    "categorical_columns=['Area_ID','Part 1-2','Victim_Sex','Victim_Descent','Weapon_Description','Status','day_category'] #ohe\n",
    "# multilabel_binarizer=[['Modus_Operandi']] \n",
    "\n",
    "new_train=train[['Latitude','Longitude','Victim_Age','activity_count','reporting_delay_day_count','Area_ID','Part 1-2','Victim_Sex','Victim_Descent','Weapon_Description','Status','day_category','Modus_Operandi']]\n",
    "new_train_y=train['Crime_Category']\n",
    "\n",
    "\n",
    "\n",
    "\n"
   ]
  },
  {
   "cell_type": "markdown",
   "id": "3b3b1291",
   "metadata": {
    "papermill": {
     "duration": 0.038291,
     "end_time": "2024-07-18T08:36:58.048815",
     "exception": false,
     "start_time": "2024-07-18T08:36:58.010524",
     "status": "completed"
    },
    "tags": []
   },
   "source": [
    "# new Column Transformer\n"
   ]
  },
  {
   "cell_type": "code",
   "execution_count": 45,
   "id": "70c8a617",
   "metadata": {
    "execution": {
     "iopub.execute_input": "2024-07-18T08:36:58.128963Z",
     "iopub.status.busy": "2024-07-18T08:36:58.128570Z",
     "iopub.status.idle": "2024-07-18T08:36:58.141897Z",
     "shell.execute_reply": "2024-07-18T08:36:58.140639Z"
    },
    "papermill": {
     "duration": 0.056229,
     "end_time": "2024-07-18T08:36:58.144428",
     "exception": false,
     "start_time": "2024-07-18T08:36:58.088199",
     "status": "completed"
    },
    "tags": []
   },
   "outputs": [],
   "source": [
    "from sklearn.compose import ColumnTransformer\n",
    "\n",
    "from sklearn.preprocessing import StandardScaler , OneHotEncoder\n",
    "\n",
    "new_ct=ColumnTransformer(transformers=[\n",
    "    \n",
    "    ('numerical_cols' , StandardScaler(),['Latitude','Longitude','reporting_delay_day_count','Victim_Age','activity_count']),\n",
    "    ('categorical_cols' , OneHotEncoder(handle_unknown='ignore'),['day_category','Victim_Sex','Victim_Descent','Part 1-2','Area_ID','Status','Weapon_Description']),\n",
    "    ('multi_label_binarizer', MultiLabelBinarizerWrapper(), 'Modus_Operandi')\n",
    "])"
   ]
  },
  {
   "cell_type": "code",
   "execution_count": 46,
   "id": "958d98bf",
   "metadata": {
    "execution": {
     "iopub.execute_input": "2024-07-18T08:36:58.223540Z",
     "iopub.status.busy": "2024-07-18T08:36:58.223138Z",
     "iopub.status.idle": "2024-07-18T08:36:58.252017Z",
     "shell.execute_reply": "2024-07-18T08:36:58.250532Z"
    },
    "papermill": {
     "duration": 0.071004,
     "end_time": "2024-07-18T08:36:58.254225",
     "exception": false,
     "start_time": "2024-07-18T08:36:58.183221",
     "status": "completed"
    },
    "tags": []
   },
   "outputs": [
    {
     "name": "stdout",
     "output_type": "stream",
     "text": [
      "<class 'pandas.core.frame.DataFrame'>\n",
      "RangeIndex: 20000 entries, 0 to 19999\n",
      "Data columns (total 22 columns):\n",
      " #   Column                     Non-Null Count  Dtype  \n",
      "---  ------                     --------------  -----  \n",
      " 0   Location                   20000 non-null  object \n",
      " 1   Cross_Street               20000 non-null  object \n",
      " 2   Latitude                   20000 non-null  float64\n",
      " 3   Longitude                  20000 non-null  float64\n",
      " 4   Area_ID                    20000 non-null  object \n",
      " 5   Area_Name                  20000 non-null  object \n",
      " 6   Reporting_District_no      20000 non-null  object \n",
      " 7   Part 1-2                   20000 non-null  object \n",
      " 8   Modus_Operandi             20000 non-null  object \n",
      " 9   Victim_Age                 20000 non-null  float64\n",
      " 10  Victim_Sex                 20000 non-null  object \n",
      " 11  Victim_Descent             20000 non-null  object \n",
      " 12  Premise_Code               20000 non-null  object \n",
      " 13  Premise_Description        19995 non-null  object \n",
      " 14  Weapon_Used_Code           7335 non-null   float64\n",
      " 15  Weapon_Description         20000 non-null  object \n",
      " 16  Status                     20000 non-null  object \n",
      " 17  Status_Description         20000 non-null  object \n",
      " 18  Crime_Category             20000 non-null  object \n",
      " 19  activity_count             20000 non-null  int64  \n",
      " 20  day_category               20000 non-null  object \n",
      " 21  reporting_delay_day_count  20000 non-null  int64  \n",
      "dtypes: float64(4), int64(2), object(16)\n",
      "memory usage: 3.4+ MB\n"
     ]
    }
   ],
   "source": [
    "train.info()"
   ]
  },
  {
   "cell_type": "code",
   "execution_count": 47,
   "id": "f33a0328",
   "metadata": {
    "execution": {
     "iopub.execute_input": "2024-07-18T08:36:58.333425Z",
     "iopub.status.busy": "2024-07-18T08:36:58.332624Z",
     "iopub.status.idle": "2024-07-18T08:36:58.353107Z",
     "shell.execute_reply": "2024-07-18T08:36:58.352131Z"
    },
    "papermill": {
     "duration": 0.062502,
     "end_time": "2024-07-18T08:36:58.355453",
     "exception": false,
     "start_time": "2024-07-18T08:36:58.292951",
     "status": "completed"
    },
    "tags": []
   },
   "outputs": [
    {
     "data": {
      "text/html": [
       "<div>\n",
       "<style scoped>\n",
       "    .dataframe tbody tr th:only-of-type {\n",
       "        vertical-align: middle;\n",
       "    }\n",
       "\n",
       "    .dataframe tbody tr th {\n",
       "        vertical-align: top;\n",
       "    }\n",
       "\n",
       "    .dataframe thead th {\n",
       "        text-align: right;\n",
       "    }\n",
       "</style>\n",
       "<table border=\"1\" class=\"dataframe\">\n",
       "  <thead>\n",
       "    <tr style=\"text-align: right;\">\n",
       "      <th></th>\n",
       "      <th>Latitude</th>\n",
       "      <th>Longitude</th>\n",
       "      <th>Victim_Age</th>\n",
       "      <th>activity_count</th>\n",
       "      <th>reporting_delay_day_count</th>\n",
       "      <th>Area_ID</th>\n",
       "      <th>Part 1-2</th>\n",
       "      <th>Victim_Sex</th>\n",
       "      <th>Victim_Descent</th>\n",
       "      <th>Weapon_Description</th>\n",
       "      <th>Status</th>\n",
       "      <th>day_category</th>\n",
       "      <th>Modus_Operandi</th>\n",
       "    </tr>\n",
       "  </thead>\n",
       "  <tbody>\n",
       "    <tr>\n",
       "      <th>0</th>\n",
       "      <td>34.1522</td>\n",
       "      <td>-118.3910</td>\n",
       "      <td>75.0000</td>\n",
       "      <td>1</td>\n",
       "      <td>3</td>\n",
       "      <td>15.0</td>\n",
       "      <td>1.0</td>\n",
       "      <td>M</td>\n",
       "      <td>W</td>\n",
       "      <td>sharp_heavy_object</td>\n",
       "      <td>IC</td>\n",
       "      <td>Evening</td>\n",
       "      <td>0385</td>\n",
       "    </tr>\n",
       "    <tr>\n",
       "      <th>1</th>\n",
       "      <td>34.0028</td>\n",
       "      <td>-118.2391</td>\n",
       "      <td>41.0000</td>\n",
       "      <td>8</td>\n",
       "      <td>0</td>\n",
       "      <td>13.0</td>\n",
       "      <td>1.0</td>\n",
       "      <td>M</td>\n",
       "      <td>H</td>\n",
       "      <td>Physical Force</td>\n",
       "      <td>IC</td>\n",
       "      <td>Daytime</td>\n",
       "      <td>0906 0352 0371 0446 1822 0344 0416 0417</td>\n",
       "    </tr>\n",
       "    <tr>\n",
       "      <th>2</th>\n",
       "      <td>34.0111</td>\n",
       "      <td>-118.2653</td>\n",
       "      <td>67.0000</td>\n",
       "      <td>2</td>\n",
       "      <td>0</td>\n",
       "      <td>13.0</td>\n",
       "      <td>2.0</td>\n",
       "      <td>M</td>\n",
       "      <td>B</td>\n",
       "      <td>sharp_heavy_object</td>\n",
       "      <td>IC</td>\n",
       "      <td>Morning</td>\n",
       "      <td>0329 1202</td>\n",
       "    </tr>\n",
       "    <tr>\n",
       "      <th>3</th>\n",
       "      <td>34.2953</td>\n",
       "      <td>-118.4590</td>\n",
       "      <td>61.0000</td>\n",
       "      <td>2</td>\n",
       "      <td>2</td>\n",
       "      <td>19.0</td>\n",
       "      <td>1.0</td>\n",
       "      <td>M</td>\n",
       "      <td>H</td>\n",
       "      <td>Physical Force</td>\n",
       "      <td>IC</td>\n",
       "      <td>Evening</td>\n",
       "      <td>0329 1300</td>\n",
       "    </tr>\n",
       "    <tr>\n",
       "      <th>4</th>\n",
       "      <td>33.9787</td>\n",
       "      <td>-118.2918</td>\n",
       "      <td>30.1354</td>\n",
       "      <td>6</td>\n",
       "      <td>0</td>\n",
       "      <td>12.0</td>\n",
       "      <td>1.0</td>\n",
       "      <td>X</td>\n",
       "      <td>X</td>\n",
       "      <td>Physical Force</td>\n",
       "      <td>IC</td>\n",
       "      <td>Morning</td>\n",
       "      <td>0416 0945 1822 0400 0417 0344</td>\n",
       "    </tr>\n",
       "    <tr>\n",
       "      <th>...</th>\n",
       "      <td>...</td>\n",
       "      <td>...</td>\n",
       "      <td>...</td>\n",
       "      <td>...</td>\n",
       "      <td>...</td>\n",
       "      <td>...</td>\n",
       "      <td>...</td>\n",
       "      <td>...</td>\n",
       "      <td>...</td>\n",
       "      <td>...</td>\n",
       "      <td>...</td>\n",
       "      <td>...</td>\n",
       "      <td>...</td>\n",
       "    </tr>\n",
       "    <tr>\n",
       "      <th>19995</th>\n",
       "      <td>34.0334</td>\n",
       "      <td>-118.3523</td>\n",
       "      <td>51.0000</td>\n",
       "      <td>4</td>\n",
       "      <td>0</td>\n",
       "      <td>3.0</td>\n",
       "      <td>2.0</td>\n",
       "      <td>M</td>\n",
       "      <td>H</td>\n",
       "      <td>Physical Force</td>\n",
       "      <td>IC</td>\n",
       "      <td>Morning</td>\n",
       "      <td>0416 0446 2004 0913</td>\n",
       "    </tr>\n",
       "    <tr>\n",
       "      <th>19996</th>\n",
       "      <td>34.2212</td>\n",
       "      <td>-118.5011</td>\n",
       "      <td>30.1354</td>\n",
       "      <td>5</td>\n",
       "      <td>0</td>\n",
       "      <td>10.0</td>\n",
       "      <td>1.0</td>\n",
       "      <td>M</td>\n",
       "      <td>W</td>\n",
       "      <td>Physical Force</td>\n",
       "      <td>IC</td>\n",
       "      <td>Night</td>\n",
       "      <td>1822 0209 0344 1414 1420</td>\n",
       "    </tr>\n",
       "    <tr>\n",
       "      <th>19997</th>\n",
       "      <td>34.0571</td>\n",
       "      <td>-118.3815</td>\n",
       "      <td>42.0000</td>\n",
       "      <td>3</td>\n",
       "      <td>0</td>\n",
       "      <td>8.0</td>\n",
       "      <td>1.0</td>\n",
       "      <td>M</td>\n",
       "      <td>H</td>\n",
       "      <td>sharp_heavy_object</td>\n",
       "      <td>IC</td>\n",
       "      <td>Daytime</td>\n",
       "      <td>0344 1822 1420</td>\n",
       "    </tr>\n",
       "    <tr>\n",
       "      <th>19998</th>\n",
       "      <td>33.7451</td>\n",
       "      <td>-118.2835</td>\n",
       "      <td>76.0000</td>\n",
       "      <td>6</td>\n",
       "      <td>0</td>\n",
       "      <td>5.0</td>\n",
       "      <td>2.0</td>\n",
       "      <td>F</td>\n",
       "      <td>H</td>\n",
       "      <td>Physical Force</td>\n",
       "      <td>IC</td>\n",
       "      <td>Morning</td>\n",
       "      <td>1202 2038 0913 0602 1242 0553</td>\n",
       "    </tr>\n",
       "    <tr>\n",
       "      <th>19999</th>\n",
       "      <td>34.0037</td>\n",
       "      <td>-118.3034</td>\n",
       "      <td>30.1354</td>\n",
       "      <td>0</td>\n",
       "      <td>1</td>\n",
       "      <td>3.0</td>\n",
       "      <td>1.0</td>\n",
       "      <td>M</td>\n",
       "      <td>H</td>\n",
       "      <td>sharp_heavy_object</td>\n",
       "      <td>IC</td>\n",
       "      <td>Evening</td>\n",
       "      <td></td>\n",
       "    </tr>\n",
       "  </tbody>\n",
       "</table>\n",
       "<p>20000 rows × 13 columns</p>\n",
       "</div>"
      ],
      "text/plain": [
       "       Latitude  Longitude  Victim_Age  activity_count  \\\n",
       "0       34.1522  -118.3910     75.0000               1   \n",
       "1       34.0028  -118.2391     41.0000               8   \n",
       "2       34.0111  -118.2653     67.0000               2   \n",
       "3       34.2953  -118.4590     61.0000               2   \n",
       "4       33.9787  -118.2918     30.1354               6   \n",
       "...         ...        ...         ...             ...   \n",
       "19995   34.0334  -118.3523     51.0000               4   \n",
       "19996   34.2212  -118.5011     30.1354               5   \n",
       "19997   34.0571  -118.3815     42.0000               3   \n",
       "19998   33.7451  -118.2835     76.0000               6   \n",
       "19999   34.0037  -118.3034     30.1354               0   \n",
       "\n",
       "       reporting_delay_day_count Area_ID Part 1-2 Victim_Sex Victim_Descent  \\\n",
       "0                              3    15.0      1.0          M              W   \n",
       "1                              0    13.0      1.0          M              H   \n",
       "2                              0    13.0      2.0          M              B   \n",
       "3                              2    19.0      1.0          M              H   \n",
       "4                              0    12.0      1.0          X              X   \n",
       "...                          ...     ...      ...        ...            ...   \n",
       "19995                          0     3.0      2.0          M              H   \n",
       "19996                          0    10.0      1.0          M              W   \n",
       "19997                          0     8.0      1.0          M              H   \n",
       "19998                          0     5.0      2.0          F              H   \n",
       "19999                          1     3.0      1.0          M              H   \n",
       "\n",
       "       Weapon_Description Status day_category  \\\n",
       "0      sharp_heavy_object     IC      Evening   \n",
       "1          Physical Force     IC      Daytime   \n",
       "2      sharp_heavy_object     IC      Morning   \n",
       "3          Physical Force     IC      Evening   \n",
       "4          Physical Force     IC      Morning   \n",
       "...                   ...    ...          ...   \n",
       "19995      Physical Force     IC      Morning   \n",
       "19996      Physical Force     IC        Night   \n",
       "19997  sharp_heavy_object     IC      Daytime   \n",
       "19998      Physical Force     IC      Morning   \n",
       "19999  sharp_heavy_object     IC      Evening   \n",
       "\n",
       "                                Modus_Operandi  \n",
       "0                                         0385  \n",
       "1      0906 0352 0371 0446 1822 0344 0416 0417  \n",
       "2                                    0329 1202  \n",
       "3                                    0329 1300  \n",
       "4                0416 0945 1822 0400 0417 0344  \n",
       "...                                        ...  \n",
       "19995                      0416 0446 2004 0913  \n",
       "19996                 1822 0209 0344 1414 1420  \n",
       "19997                           0344 1822 1420  \n",
       "19998            1202 2038 0913 0602 1242 0553  \n",
       "19999                                           \n",
       "\n",
       "[20000 rows x 13 columns]"
      ]
     },
     "execution_count": 47,
     "metadata": {},
     "output_type": "execute_result"
    }
   ],
   "source": [
    "new_train"
   ]
  },
  {
   "cell_type": "code",
   "execution_count": 48,
   "id": "6c067f79",
   "metadata": {
    "execution": {
     "iopub.execute_input": "2024-07-18T08:36:58.436510Z",
     "iopub.status.busy": "2024-07-18T08:36:58.436078Z",
     "iopub.status.idle": "2024-07-18T08:36:58.532667Z",
     "shell.execute_reply": "2024-07-18T08:36:58.531676Z"
    },
    "papermill": {
     "duration": 0.139935,
     "end_time": "2024-07-18T08:36:58.535002",
     "exception": false,
     "start_time": "2024-07-18T08:36:58.395067",
     "status": "completed"
    },
    "tags": []
   },
   "outputs": [],
   "source": [
    "from sklearn.linear_model import LogisticRegression,LogisticRegressionCV\n",
    "from sklearn.pipeline import Pipeline\n",
    "from sklearn.compose import ColumnTransformer\n",
    "\n",
    "\n",
    "from sklearn.model_selection import StratifiedKFold\n",
    "\n",
    "from sklearn.metrics import accuracy_score,f1_score"
   ]
  },
  {
   "cell_type": "markdown",
   "id": "b5f00d77",
   "metadata": {
    "papermill": {
     "duration": 0.039807,
     "end_time": "2024-07-18T08:36:58.616699",
     "exception": false,
     "start_time": "2024-07-18T08:36:58.576892",
     "status": "completed"
    },
    "tags": []
   },
   "source": [
    "# train_test_split"
   ]
  },
  {
   "cell_type": "code",
   "execution_count": 49,
   "id": "beb1f0d4",
   "metadata": {
    "execution": {
     "iopub.execute_input": "2024-07-18T08:36:58.697205Z",
     "iopub.status.busy": "2024-07-18T08:36:58.696751Z",
     "iopub.status.idle": "2024-07-18T08:36:58.729707Z",
     "shell.execute_reply": "2024-07-18T08:36:58.728553Z"
    },
    "papermill": {
     "duration": 0.076059,
     "end_time": "2024-07-18T08:36:58.732443",
     "exception": false,
     "start_time": "2024-07-18T08:36:58.656384",
     "status": "completed"
    },
    "tags": []
   },
   "outputs": [],
   "source": [
    "# df.shape\n",
    "\n",
    "from sklearn.model_selection import train_test_split\n",
    "\n",
    "xtrain_1 , xtest_1 , ytrain_1 , ytest_1 = train_test_split(new_train ,new_train_y ,test_size=0.2 , random_state=42 ,shuffle=True,stratify = new_train_y )"
   ]
  },
  {
   "cell_type": "markdown",
   "id": "94b8c27c",
   "metadata": {
    "papermill": {
     "duration": 0.039978,
     "end_time": "2024-07-18T08:36:58.812920",
     "exception": false,
     "start_time": "2024-07-18T08:36:58.772942",
     "status": "completed"
    },
    "tags": []
   },
   "source": [
    "# DummyClassifier"
   ]
  },
  {
   "cell_type": "code",
   "execution_count": 50,
   "id": "c98768f6",
   "metadata": {
    "execution": {
     "iopub.execute_input": "2024-07-18T08:36:58.894343Z",
     "iopub.status.busy": "2024-07-18T08:36:58.893949Z",
     "iopub.status.idle": "2024-07-18T08:36:59.692172Z",
     "shell.execute_reply": "2024-07-18T08:36:59.691196Z"
    },
    "papermill": {
     "duration": 0.842218,
     "end_time": "2024-07-18T08:36:59.694692",
     "exception": false,
     "start_time": "2024-07-18T08:36:58.852474",
     "status": "completed"
    },
    "tags": []
   },
   "outputs": [
    {
     "name": "stdout",
     "output_type": "stream",
     "text": [
      "Accuracy scores for each fold:  [0.5834375, 0.5834375, 0.5834375, 0.583125, 0.583125]\n",
      "Average accuracy:  0.5833125\n",
      "F1 scores for each fold:  [0.429949797710677, 0.429949797710677, 0.429949797710677, 0.42957412159494673, 0.42957412159494673]\n",
      "Average F1 score:  0.4297995272643849\n"
     ]
    }
   ],
   "source": [
    "from sklearn.dummy import DummyClassifier\n",
    "\n",
    "# dummy_clf=DummyClassifier(random_state=42 , strategy=\"most_frequent\")\n",
    "# dummy_clf.fit(xtrain, ytrain)\n",
    "# print('Dummy train score', dummy_clf.score(ytrain,ytrain))\n",
    "# print('Dummy predicted train score', dummy_clf.score(xtrain,dummy_clf.predict(xtrain)))\n",
    "\n",
    "# print('Dummy test score', dummy_clf.score(xtest, ytest))\n",
    "\n",
    "# print('Dummy predicted test score', dummy_clf.score(xtest, dummy_clf.predict(xtest)))\n",
    "data_split= StratifiedKFold(n_splits=5, shuffle=True, random_state=42)\n",
    "\n",
    "\n",
    "model_dummy=DummyClassifier(random_state=42 , strategy=\"most_frequent\")\n",
    "\n",
    "dummy_pipeline=Pipeline(steps=[('new_ct',new_ct),('model_dummy',model_dummy)])\n",
    "\n",
    "\n",
    "\n",
    "accuracy_scores_dummy_pipeline = []\n",
    "f1_scores_dummy_pipeline = []\n",
    "\n",
    "\n",
    "\n",
    "for train_index, test_index in data_split.split(xtrain_1, ytrain_1):\n",
    "    X_train, X_test = xtrain_1.iloc[train_index], xtrain_1.iloc[test_index]\n",
    "    y_train, y_test = ytrain_1.iloc[train_index], ytrain_1.iloc[test_index]\n",
    "    \n",
    "    dummy_pipeline.fit(X_train, y_train)\n",
    "    \n",
    "    y_pred = dummy_pipeline.predict(X_test)\n",
    "    accuracy = accuracy_score(y_test, y_pred)\n",
    "    f1 = f1_score(y_test, y_pred, average='weighted')\n",
    "    accuracy_scores_dummy_pipeline.append(accuracy)\n",
    "    f1_scores_dummy_pipeline.append(f1)\n",
    "    \n",
    "    \n",
    "    \n",
    "    \n",
    "    \n",
    "    \n",
    "    \n",
    "print(\"Accuracy scores for each fold: \", accuracy_scores_dummy_pipeline)\n",
    "print(\"Average accuracy: \", np.mean(accuracy_scores_dummy_pipeline))\n",
    "print(\"F1 scores for each fold: \", f1_scores_dummy_pipeline)\n",
    "print(\"Average F1 score: \", np.mean(f1_scores_dummy_pipeline))\n",
    "    \n",
    "    \n",
    "    \n"
   ]
  },
  {
   "cell_type": "markdown",
   "id": "3d7c3728",
   "metadata": {
    "papermill": {
     "duration": 0.039192,
     "end_time": "2024-07-18T08:36:59.772837",
     "exception": false,
     "start_time": "2024-07-18T08:36:59.733645",
     "status": "completed"
    },
    "tags": []
   },
   "source": [
    "# Logistic"
   ]
  },
  {
   "cell_type": "code",
   "execution_count": 51,
   "id": "f2122f5b",
   "metadata": {
    "execution": {
     "iopub.execute_input": "2024-07-18T08:36:59.852611Z",
     "iopub.status.busy": "2024-07-18T08:36:59.852198Z",
     "iopub.status.idle": "2024-07-18T08:37:03.483339Z",
     "shell.execute_reply": "2024-07-18T08:37:03.482061Z"
    },
    "papermill": {
     "duration": 3.674026,
     "end_time": "2024-07-18T08:37:03.486308",
     "exception": false,
     "start_time": "2024-07-18T08:36:59.812282",
     "status": "completed"
    },
    "tags": []
   },
   "outputs": [
    {
     "data": {
      "text/plain": [
       "0.80925"
      ]
     },
     "execution_count": 51,
     "metadata": {},
     "output_type": "execute_result"
    }
   ],
   "source": [
    "from sklearn.model_selection import train_test_split\n",
    "\n",
    "\n",
    "\n",
    "from sklearn.linear_model import LogisticRegression\n",
    "logistic_model_plain = Pipeline(steps=[('new_ct',new_ct),('logistic_reg',LogisticRegression( max_iter=1200 ,random_state=42))])\n",
    "\n",
    "logistic_model_plain.fit(xtrain_1, ytrain_1)\n",
    "\n",
    "logistic_model_plain.score(xtest_1,ytest_1)"
   ]
  },
  {
   "cell_type": "markdown",
   "id": "99d5bc8d",
   "metadata": {
    "papermill": {
     "duration": 0.071856,
     "end_time": "2024-07-18T08:37:03.627248",
     "exception": false,
     "start_time": "2024-07-18T08:37:03.555392",
     "status": "completed"
    },
    "tags": []
   },
   "source": [
    "Logistic Full Model"
   ]
  },
  {
   "cell_type": "code",
   "execution_count": 52,
   "id": "daf3255c",
   "metadata": {
    "execution": {
     "iopub.execute_input": "2024-07-18T08:37:03.718393Z",
     "iopub.status.busy": "2024-07-18T08:37:03.717984Z",
     "iopub.status.idle": "2024-07-18T08:37:24.576118Z",
     "shell.execute_reply": "2024-07-18T08:37:24.575048Z"
    },
    "papermill": {
     "duration": 20.903927,
     "end_time": "2024-07-18T08:37:24.580120",
     "exception": false,
     "start_time": "2024-07-18T08:37:03.676193",
     "status": "completed"
    },
    "tags": []
   },
   "outputs": [
    {
     "name": "stdout",
     "output_type": "stream",
     "text": [
      "Accuracy scores for each fold using pipe_logistic_model:  [0.81775, 0.81325, 0.81275, 0.81925, 0.813]\n",
      "Average accuracy using pipe_logistic_model:  0.8151999999999999\n",
      "F1 scores for each fold using pipe_logistic_model:  [0.8076028057272622, 0.804851498276475, 0.8032593463225908, 0.8102037834161613, 0.802359819462089]\n",
      "Average F1 score using pipe_logistic_model:  0.8056554506409157\n",
      "model_score_test list  using pipe_logistic_model  [0.81775, 0.81325, 0.81275, 0.81925, 0.813]\n"
     ]
    }
   ],
   "source": [
    "from sklearn.linear_model import LogisticRegression\n",
    "\n",
    "pipe_logistic_model = Pipeline(steps=[('new_ct',new_ct),('logistic_reg',LogisticRegression( max_iter=1200 ,random_state=42))])\n",
    "\n",
    "model_score_test=[]\n",
    "accuracy_scores_logistic_pipeline = []\n",
    "f1_scores_logistic_pipeline = []\n",
    "\n",
    "\n",
    "\n",
    "for train_index, test_index in data_split.split(new_train, new_train_y):\n",
    "    X_train, X_test = new_train.iloc[train_index], new_train.iloc[test_index]\n",
    "    y_train, y_test = new_train_y.iloc[train_index], new_train_y.iloc[test_index]\n",
    "    \n",
    "    pipe_logistic_model.fit(X_train, y_train)\n",
    "    \n",
    "    y_pred_pipe_logistic_model = pipe_logistic_model.predict(X_test)\n",
    "    \n",
    "    \n",
    "    model_score=pipe_logistic_model.score(X_test,y_test)\n",
    "\n",
    "    accuracy = accuracy_score(y_test, y_pred_pipe_logistic_model)\n",
    "    f1 = f1_score(y_test, y_pred_pipe_logistic_model, average='weighted')\n",
    "    accuracy_scores_logistic_pipeline.append(accuracy)\n",
    "    f1_scores_logistic_pipeline.append(f1)\n",
    "    model_score_test.append(model_score)\n",
    "    \n",
    "    \n",
    "    \n",
    "    \n",
    "    \n",
    "    \n",
    "    \n",
    "print(\"Accuracy scores for each fold using pipe_logistic_model: \", accuracy_scores_logistic_pipeline)\n",
    "print(\"Average accuracy using pipe_logistic_model: \", np.mean(accuracy_scores_logistic_pipeline))\n",
    "print(\"F1 scores for each fold using pipe_logistic_model: \", f1_scores_logistic_pipeline)\n",
    "print(\"Average F1 score using pipe_logistic_model: \", np.mean(f1_scores_logistic_pipeline))\n",
    "print(\"model_score_test list  using pipe_logistic_model \" ,model_score_test )\n",
    "\n"
   ]
  },
  {
   "cell_type": "markdown",
   "id": "5a4d6f8d",
   "metadata": {
    "papermill": {
     "duration": 0.041031,
     "end_time": "2024-07-18T08:37:24.679717",
     "exception": false,
     "start_time": "2024-07-18T08:37:24.638686",
     "status": "completed"
    },
    "tags": []
   },
   "source": [
    "Logistic Half model"
   ]
  },
  {
   "cell_type": "code",
   "execution_count": 53,
   "id": "2afee2dc",
   "metadata": {
    "execution": {
     "iopub.execute_input": "2024-07-18T08:37:24.760862Z",
     "iopub.status.busy": "2024-07-18T08:37:24.760035Z",
     "iopub.status.idle": "2024-07-18T08:37:39.033581Z",
     "shell.execute_reply": "2024-07-18T08:37:39.032403Z"
    },
    "papermill": {
     "duration": 14.317535,
     "end_time": "2024-07-18T08:37:39.037211",
     "exception": false,
     "start_time": "2024-07-18T08:37:24.719676",
     "status": "completed"
    },
    "tags": []
   },
   "outputs": [
    {
     "name": "stdout",
     "output_type": "stream",
     "text": [
      "Accuracy scores for each fold using pipe_logistic_model:  [0.8121875, 0.8221875, 0.8121875, 0.81875, 0.813125]\n",
      "Average accuracy using pipe_logistic_model:  0.8156874999999999\n",
      "F1 scores for each fold using pipe_logistic_model:  [0.8028028168057992, 0.8136927749555574, 0.802322371425409, 0.8081318482667739, 0.8045607168697586]\n",
      "Average F1 score using pipe_logistic_model:  0.8063021056646595\n",
      "model_score_test list  using pipe_logistic_model  [0.8121875, 0.8221875, 0.8121875, 0.81875, 0.813125]\n"
     ]
    }
   ],
   "source": [
    "from sklearn.linear_model import LogisticRegression\n",
    "\n",
    "pipe_logistic_model_2 = Pipeline(steps=[('new_ct',new_ct),('logistic_reg',LogisticRegression( max_iter=1200 ,random_state=42))])\n",
    "\n",
    "model_score_test=[]\n",
    "accuracy_scores_logistic_pipeline = []\n",
    "f1_scores_logistic_pipeline = []\n",
    "\n",
    "\n",
    "\n",
    "for train_index, test_index in data_split.split(xtrain_1, ytrain_1):\n",
    "    X_train, X_test = xtrain_1.iloc[train_index], xtrain_1.iloc[test_index]\n",
    "    y_train, y_test = ytrain_1.iloc[train_index], ytrain_1.iloc[test_index]\n",
    "    \n",
    "    pipe_logistic_model_2.fit(X_train, y_train)\n",
    "    \n",
    "    y_pred_pipe_logistic_model_2 = pipe_logistic_model_2.predict(X_test)\n",
    "    \n",
    "    \n",
    "    model_score=pipe_logistic_model_2.score(X_test,y_test)\n",
    "\n",
    "    accuracy = accuracy_score(y_test, y_pred_pipe_logistic_model_2)\n",
    "    f1 = f1_score(y_test, y_pred_pipe_logistic_model_2, average='weighted')\n",
    "    accuracy_scores_logistic_pipeline.append(accuracy)\n",
    "    f1_scores_logistic_pipeline.append(f1)\n",
    "    model_score_test.append(model_score)\n",
    "    \n",
    "    \n",
    "    \n",
    "    \n",
    "    \n",
    "    \n",
    "    \n",
    "print(\"Accuracy scores for each fold using pipe_logistic_model: \", accuracy_scores_logistic_pipeline)\n",
    "print(\"Average accuracy using pipe_logistic_model: \", np.mean(accuracy_scores_logistic_pipeline))\n",
    "print(\"F1 scores for each fold using pipe_logistic_model: \", f1_scores_logistic_pipeline)\n",
    "print(\"Average F1 score using pipe_logistic_model: \", np.mean(f1_scores_logistic_pipeline))\n",
    "print(\"model_score_test list  using pipe_logistic_model \" ,model_score_test )\n",
    "\n"
   ]
  },
  {
   "cell_type": "code",
   "execution_count": 54,
   "id": "00ec0e9a",
   "metadata": {
    "execution": {
     "iopub.execute_input": "2024-07-18T08:37:39.143860Z",
     "iopub.status.busy": "2024-07-18T08:37:39.143473Z",
     "iopub.status.idle": "2024-07-18T08:37:39.188721Z",
     "shell.execute_reply": "2024-07-18T08:37:39.187292Z"
    },
    "papermill": {
     "duration": 0.089616,
     "end_time": "2024-07-18T08:37:39.191902",
     "exception": false,
     "start_time": "2024-07-18T08:37:39.102286",
     "status": "completed"
    },
    "tags": []
   },
   "outputs": [
    {
     "data": {
      "text/plain": [
       "0.8095"
      ]
     },
     "execution_count": 54,
     "metadata": {},
     "output_type": "execute_result"
    }
   ],
   "source": [
    "pipe_logistic_model_2.score(xtest_1,ytest_1)"
   ]
  },
  {
   "cell_type": "markdown",
   "id": "74165b24",
   "metadata": {
    "papermill": {
     "duration": 0.055328,
     "end_time": "2024-07-18T08:37:39.313561",
     "exception": false,
     "start_time": "2024-07-18T08:37:39.258233",
     "status": "completed"
    },
    "tags": []
   },
   "source": [
    "\n",
    "# SVC\n"
   ]
  },
  {
   "cell_type": "code",
   "execution_count": 55,
   "id": "15beae8a",
   "metadata": {
    "execution": {
     "iopub.execute_input": "2024-07-18T08:37:39.396024Z",
     "iopub.status.busy": "2024-07-18T08:37:39.395173Z",
     "iopub.status.idle": "2024-07-18T08:38:26.062284Z",
     "shell.execute_reply": "2024-07-18T08:38:26.061047Z"
    },
    "papermill": {
     "duration": 46.748806,
     "end_time": "2024-07-18T08:38:26.103086",
     "exception": false,
     "start_time": "2024-07-18T08:37:39.354280",
     "status": "completed"
    },
    "tags": []
   },
   "outputs": [
    {
     "name": "stdout",
     "output_type": "stream",
     "text": [
      "Accuracy scores for each fold using pipe_logistic_model:  [0.854375, 0.8621875, 0.8484375, 0.8559375, 0.8546875]\n",
      "Average accuracy using pipe_logistic_model:  0.8551249999999999\n",
      "F1 scores for each fold using pipe_logistic_model:  [0.8465127528562708, 0.8545933734287706, 0.8389382133683092, 0.8470225722298663, 0.8462214974463103]\n",
      "Average F1 score using pipe_logistic_model:  0.8466576818659053\n",
      "model_score_test list  using pipe_logistic_model  [0.854375, 0.8621875, 0.8484375, 0.8559375, 0.8546875]\n"
     ]
    }
   ],
   "source": [
    "from sklearn.svm import SVC\n",
    "pipe_svc_half=Pipeline(steps=[('new_ct',new_ct),('svc',SVC(decision_function_shape='ovr'))])\n",
    "\n",
    "\n",
    "model_score_test_half=[]\n",
    "accuracy_scores_SVC_half = []\n",
    "f1_scores_SVC_half = []\n",
    "\n",
    "\n",
    "\n",
    "for train_index, test_index in data_split.split(xtrain_1, ytrain_1):\n",
    "    X_train, X_test = xtrain_1.iloc[train_index], xtrain_1.iloc[test_index]\n",
    "    y_train, y_test = ytrain_1.iloc[train_index], ytrain_1.iloc[test_index]\n",
    "    \n",
    "    pipe_svc_half.fit(X_train, y_train)\n",
    "    \n",
    "    y_pred_svc_half = pipe_svc_half.predict(X_test)\n",
    "    \n",
    "    \n",
    "    model_score_svc=pipe_svc_half.score(X_test,y_test)\n",
    "    \n",
    "\n",
    "    accuracy_svc = accuracy_score(y_test, y_pred_svc_half)\n",
    "    \n",
    "    \n",
    "    f1_svc = f1_score(y_test, y_pred_svc_half, average='weighted')\n",
    "    \n",
    "    \n",
    "    accuracy_scores_SVC_half.append(accuracy_svc)\n",
    "    f1_scores_SVC_half.append(f1_svc)\n",
    "    model_score_test_half.append(model_score_svc)\n",
    "    \n",
    "    \n",
    "    \n",
    "    \n",
    "    \n",
    "    \n",
    "    \n",
    "print(\"Accuracy scores for each fold using pipe_logistic_model: \", accuracy_scores_SVC_half)\n",
    "print(\"Average accuracy using pipe_logistic_model: \", np.mean(accuracy_scores_SVC_half))\n",
    "print(\"F1 scores for each fold using pipe_logistic_model: \", f1_scores_SVC_half)\n",
    "print(\"Average F1 score using pipe_logistic_model: \", np.mean(f1_scores_SVC_half))\n",
    "print(\"model_score_test list  using pipe_logistic_model \" ,model_score_test_half )\n",
    "\n"
   ]
  },
  {
   "cell_type": "code",
   "execution_count": 56,
   "id": "ca12e5aa",
   "metadata": {
    "execution": {
     "iopub.execute_input": "2024-07-18T08:38:26.184077Z",
     "iopub.status.busy": "2024-07-18T08:38:26.183635Z",
     "iopub.status.idle": "2024-07-18T08:39:37.090777Z",
     "shell.execute_reply": "2024-07-18T08:39:37.089695Z"
    },
    "papermill": {
     "duration": 70.989732,
     "end_time": "2024-07-18T08:39:37.132449",
     "exception": false,
     "start_time": "2024-07-18T08:38:26.142717",
     "status": "completed"
    },
    "tags": []
   },
   "outputs": [
    {
     "name": "stdout",
     "output_type": "stream",
     "text": [
      "Accuracy scores for each fold using pipe_logistic_model:  [0.86475, 0.84825, 0.85375, 0.85675, 0.8575]\n",
      "Average accuracy using pipe_logistic_model:  0.8562\n",
      "F1 scores for each fold using pipe_logistic_model:  [0.8560332975873214, 0.8403544990851122, 0.8459374292368025, 0.8481429206809044, 0.8486475247658406]\n",
      "Average F1 score using pipe_logistic_model:  0.8478231342711962\n",
      "model_score_test list  using pipe_logistic_model  [0.86475, 0.84825, 0.85375, 0.85675, 0.8575]\n"
     ]
    }
   ],
   "source": [
    "from sklearn.svm import SVC\n",
    "pipe_svc_full=Pipeline(steps=[('new_ct',new_ct),('svc',SVC(decision_function_shape='ovr'))])\n",
    "\n",
    "\n",
    "model_score_test_full=[]\n",
    "accuracy_scores_SVC_full = []\n",
    "f1_scores_SVC_full = []\n",
    "\n",
    "\n",
    "\n",
    "for train_index, test_index in data_split.split(new_train, new_train_y):\n",
    "    X_train, X_test = new_train.iloc[train_index], new_train.iloc[test_index]\n",
    "    y_train, y_test = new_train_y.iloc[train_index], new_train_y.iloc[test_index]\n",
    "    \n",
    "    pipe_svc_full.fit(X_train, y_train)\n",
    "    \n",
    "    y_pred_svc_full = pipe_svc_full.predict(X_test)\n",
    "    \n",
    "    \n",
    "    model_score_svc=pipe_svc_full.score(X_test,y_test)\n",
    "\n",
    "    accuracy_svc = accuracy_score(y_test, y_pred_svc_full)\n",
    "    \n",
    "    f1_svc = f1_score(y_test, y_pred_svc_full, average='weighted')\n",
    "    \n",
    "    \n",
    "    accuracy_scores_SVC_full.append(accuracy_svc)\n",
    "    f1_scores_SVC_full.append(f1_svc)\n",
    "    model_score_test_full.append(model_score_svc)\n",
    "    \n",
    "    \n",
    "    \n",
    "    \n",
    "    \n",
    "    \n",
    "    \n",
    "print(\"Accuracy scores for each fold using pipe_logistic_model: \", accuracy_scores_SVC_full)\n",
    "print(\"Average accuracy using pipe_logistic_model: \", np.mean(accuracy_scores_SVC_full))\n",
    "print(\"F1 scores for each fold using pipe_logistic_model: \", f1_scores_SVC_full)\n",
    "print(\"Average F1 score using pipe_logistic_model: \", np.mean(f1_scores_SVC_full))\n",
    "print(\"model_score_test list  using pipe_logistic_model \" ,model_score_test_full )\n",
    "\n"
   ]
  },
  {
   "cell_type": "markdown",
   "id": "112575e3",
   "metadata": {
    "papermill": {
     "duration": 0.0412,
     "end_time": "2024-07-18T08:39:37.213548",
     "exception": false,
     "start_time": "2024-07-18T08:39:37.172348",
     "status": "completed"
    },
    "tags": []
   },
   "source": [
    "# KNN"
   ]
  },
  {
   "cell_type": "code",
   "execution_count": 57,
   "id": "a9950afd",
   "metadata": {
    "execution": {
     "iopub.execute_input": "2024-07-18T08:39:37.294818Z",
     "iopub.status.busy": "2024-07-18T08:39:37.294443Z",
     "iopub.status.idle": "2024-07-18T08:39:58.793026Z",
     "shell.execute_reply": "2024-07-18T08:39:58.791915Z"
    },
    "papermill": {
     "duration": 21.542398,
     "end_time": "2024-07-18T08:39:58.795395",
     "exception": false,
     "start_time": "2024-07-18T08:39:37.252997",
     "status": "completed"
    },
    "tags": []
   },
   "outputs": [
    {
     "name": "stdout",
     "output_type": "stream",
     "text": [
      "Accuracy scores for each fold using pipe_logistic_model:  [0.82125, 0.815625, 0.8084375, 0.815, 0.809375]\n",
      "Average accuracy using pipe_logistic_model:  0.8139375\n",
      "F1 scores for each fold using pipe_logistic_model:  [0.8036940398483794, 0.7972144773761463, 0.7893074264640038, 0.797089343642975, 0.7915004907121648]\n",
      "Average F1 score using pipe_logistic_model:  0.7957611556087338\n",
      "model_score_test list  using pipe_logistic_model  [0.82125, 0.815625, 0.8084375, 0.815, 0.809375]\n"
     ]
    }
   ],
   "source": [
    "from sklearn.neighbors import KNeighborsClassifier\n",
    "knn_classifier_half=Pipeline(steps=[('new_ct' , new_ct ),( 'knn' ,KNeighborsClassifier(n_neighbors=16 , p=1,leaf_size=19 ,weights='distance'))])\n",
    "\n",
    "KNN_model_score_test_half=[]\n",
    "accuracy_scores_KNN_half = []\n",
    "f1_scores_KNN_half = []\n",
    "\n",
    "\n",
    "\n",
    "for train_index, test_index in data_split.split(xtrain_1, ytrain_1):\n",
    "    X_train, X_test = xtrain_1.iloc[train_index], xtrain_1.iloc[test_index]\n",
    "    y_train, y_test = ytrain_1.iloc[train_index], ytrain_1.iloc[test_index]\n",
    "    \n",
    "    knn_classifier_half.fit(X_train, y_train)\n",
    "    \n",
    "    y_pred_KNN_half = knn_classifier_half.predict(X_test)\n",
    "    \n",
    "    \n",
    "    model_score_KNN=knn_classifier_half.score(X_test,y_test)\n",
    "    \n",
    "\n",
    "    accuracy_KNN = accuracy_score(y_test, y_pred_KNN_half)\n",
    "    \n",
    "    \n",
    "    f1_KNN = f1_score(y_test, y_pred_KNN_half, average='weighted')\n",
    "    \n",
    "    \n",
    "    accuracy_scores_KNN_half.append(accuracy_KNN)\n",
    "    \n",
    "    f1_scores_KNN_half.append(f1_KNN)\n",
    "    \n",
    "    KNN_model_score_test_half.append(model_score_KNN)\n",
    "    \n",
    "    \n",
    "    \n",
    "    \n",
    "    \n",
    "    \n",
    "    \n",
    "print(\"Accuracy scores for each fold using pipe_logistic_model: \", accuracy_scores_KNN_half)\n",
    "print(\"Average accuracy using pipe_logistic_model: \", np.mean(accuracy_scores_KNN_half))\n",
    "print(\"F1 scores for each fold using pipe_logistic_model: \", f1_scores_KNN_half)\n",
    "print(\"Average F1 score using pipe_logistic_model: \", np.mean(f1_scores_KNN_half))\n",
    "print(\"model_score_test list  using pipe_logistic_model \" ,KNN_model_score_test_half )\n"
   ]
  },
  {
   "cell_type": "code",
   "execution_count": 58,
   "id": "e3b8f7de",
   "metadata": {
    "execution": {
     "iopub.execute_input": "2024-07-18T08:39:58.935347Z",
     "iopub.status.busy": "2024-07-18T08:39:58.934557Z",
     "iopub.status.idle": "2024-07-18T08:40:31.711270Z",
     "shell.execute_reply": "2024-07-18T08:40:31.710219Z"
    },
    "papermill": {
     "duration": 32.858972,
     "end_time": "2024-07-18T08:40:31.752945",
     "exception": false,
     "start_time": "2024-07-18T08:39:58.893973",
     "status": "completed"
    },
    "tags": []
   },
   "outputs": [
    {
     "name": "stdout",
     "output_type": "stream",
     "text": [
      "Accuracy scores for each fold using knn_classifier_full:     [0.82125, 0.81375, 0.8125, 0.82225, 0.8265]\n",
      "Average accuracy using knn_classifier_full:  0.8192499999999999\n",
      "F1 scores for each fold using knn_classifier_full:  [0.8014027475460637, 0.7961318508038171, 0.7944292830613771, 0.8042800535960495, 0.8087053544668276]\n",
      "Average F1 score using knn_classifier_full:  0.8009898578948269\n",
      "model_score_test list  using knn_classifier_full  [0.82125, 0.81375, 0.8125, 0.82225, 0.8265]\n"
     ]
    }
   ],
   "source": [
    "from sklearn.neighbors import KNeighborsClassifier\n",
    "knn_classifier_full=Pipeline(steps=[('new_ct' , new_ct ),( 'knn' ,KNeighborsClassifier(n_neighbors=16 , p=1,leaf_size=19 ,weights='distance'))])\n",
    "\n",
    "KNN_model_score_test_full=[]\n",
    "accuracy_scores_KNN_full = []\n",
    "f1_scores_KNN_full = []\n",
    "\n",
    "\n",
    "\n",
    "for train_index, test_index in data_split.split(new_train, new_train_y):\n",
    "    X_train, X_test = new_train.iloc[train_index], new_train.iloc[test_index]\n",
    "    y_train, y_test = new_train_y.iloc[train_index], new_train_y.iloc[test_index]\n",
    "    \n",
    "    knn_classifier_full.fit(X_train, y_train)\n",
    "    \n",
    "    y_pred_KNN_full = knn_classifier_full.predict(X_test)\n",
    "    \n",
    "    \n",
    "    model_score_KNN=knn_classifier_full.score(X_test,y_test)\n",
    "    \n",
    "\n",
    "    accuracy_KNN = accuracy_score(y_test, y_pred_KNN_full)\n",
    "    \n",
    "    \n",
    "    f1_KNN = f1_score(y_test, y_pred_KNN_full, average='weighted')\n",
    "    \n",
    "    \n",
    "    accuracy_scores_KNN_full.append(accuracy_KNN)\n",
    "    \n",
    "    f1_scores_KNN_full.append(f1_KNN)\n",
    "    \n",
    "    KNN_model_score_test_full.append(model_score_KNN)\n",
    "    \n",
    "    \n",
    "    \n",
    "    \n",
    "    \n",
    "    \n",
    "    \n",
    "print(\"Accuracy scores for each fold using knn_classifier_full:    \", accuracy_scores_KNN_full)\n",
    "print(\"Average accuracy using knn_classifier_full: \", np.mean(accuracy_scores_KNN_full))\n",
    "print(\"F1 scores for each fold using knn_classifier_full: \", f1_scores_KNN_full)\n",
    "print(\"Average F1 score using knn_classifier_full: \", np.mean(f1_scores_KNN_full))\n",
    "print(\"model_score_test list  using knn_classifier_full \" ,KNN_model_score_test_full )\n"
   ]
  },
  {
   "cell_type": "markdown",
   "id": "3eb6d2d8",
   "metadata": {
    "papermill": {
     "duration": 0.03911,
     "end_time": "2024-07-18T08:40:31.831752",
     "exception": false,
     "start_time": "2024-07-18T08:40:31.792642",
     "status": "completed"
    },
    "tags": []
   },
   "source": [
    "# Desision tree"
   ]
  },
  {
   "cell_type": "code",
   "execution_count": 59,
   "id": "393d24f9",
   "metadata": {
    "execution": {
     "iopub.execute_input": "2024-07-18T08:40:31.912123Z",
     "iopub.status.busy": "2024-07-18T08:40:31.911775Z",
     "iopub.status.idle": "2024-07-18T08:40:33.690500Z",
     "shell.execute_reply": "2024-07-18T08:40:33.688710Z"
    },
    "papermill": {
     "duration": 1.821801,
     "end_time": "2024-07-18T08:40:33.693011",
     "exception": false,
     "start_time": "2024-07-18T08:40:31.871210",
     "status": "completed"
    },
    "tags": []
   },
   "outputs": [
    {
     "name": "stdout",
     "output_type": "stream",
     "text": [
      "Accuracy scores for each fold using decision_tree_half:  [0.7996875, 0.8078125, 0.8053125, 0.806875, 0.8125]\n",
      "Average accuracy using decision_tree_half:  0.8064375\n",
      "F1 scores for each fold using decision_tree_half:  [0.8021312904926959, 0.8101535880574389, 0.8055069051441163, 0.8068669738396129, 0.8102079899283072]\n",
      "Average F1 score using decision_tree_half:  0.8069733494924343\n",
      "model_score_test list  using decision_tree_half  [0.7996875, 0.8078125, 0.8053125, 0.806875, 0.8125]\n"
     ]
    }
   ],
   "source": [
    "from sklearn.tree import DecisionTreeClassifier\n",
    "\n",
    "decision_tree_half = Pipeline([ ('new_ct',new_ct),('DecisionTreeClassifier',DecisionTreeClassifier()) ])\n",
    "\n",
    "\n",
    "decision_tree_model_score_test_half=[]\n",
    "accuracy_scores_decision_tree_half = []\n",
    "f1_scores_decision_tree_half = []\n",
    "\n",
    "\n",
    "\n",
    "for train_index, test_index in data_split.split(xtrain_1, ytrain_1):\n",
    "    X_train, X_test = xtrain_1.iloc[train_index], xtrain_1.iloc[test_index]\n",
    "    y_train, y_test = ytrain_1.iloc[train_index], ytrain_1.iloc[test_index]\n",
    "    \n",
    "    decision_tree_half.fit(X_train, y_train)\n",
    "    \n",
    "    y_pred_decision_tree_half = decision_tree_half.predict(X_test)\n",
    "    \n",
    "    \n",
    "    model_score_decision_tree=decision_tree_half.score(X_test,y_test)\n",
    "    \n",
    "\n",
    "    accuracy_decision_tree = accuracy_score(y_test, y_pred_decision_tree_half)\n",
    "    \n",
    "    \n",
    "    f1_decision_tree = f1_score(y_test, y_pred_decision_tree_half, average='weighted')\n",
    "    \n",
    "    \n",
    "    accuracy_scores_decision_tree_half.append(accuracy_decision_tree)\n",
    "    \n",
    "    f1_scores_decision_tree_half.append(f1_decision_tree)\n",
    "    \n",
    "    decision_tree_model_score_test_half.append(model_score_decision_tree)\n",
    "    \n",
    "    \n",
    "    \n",
    "    \n",
    "    \n",
    "    \n",
    "    \n",
    "print(\"Accuracy scores for each fold using decision_tree_half: \", accuracy_scores_decision_tree_half)\n",
    "print(\"Average accuracy using decision_tree_half: \", np.mean(accuracy_scores_decision_tree_half))\n",
    "print(\"F1 scores for each fold using decision_tree_half: \", f1_scores_decision_tree_half)\n",
    "print(\"Average F1 score using decision_tree_half: \", np.mean(f1_scores_decision_tree_half))\n",
    "print(\"model_score_test list  using decision_tree_half \" ,decision_tree_model_score_test_half )"
   ]
  },
  {
   "cell_type": "code",
   "execution_count": 60,
   "id": "8ffd1651",
   "metadata": {
    "execution": {
     "iopub.execute_input": "2024-07-18T08:40:33.775940Z",
     "iopub.status.busy": "2024-07-18T08:40:33.774912Z",
     "iopub.status.idle": "2024-07-18T08:40:35.795136Z",
     "shell.execute_reply": "2024-07-18T08:40:35.793806Z"
    },
    "papermill": {
     "duration": 2.064388,
     "end_time": "2024-07-18T08:40:35.797619",
     "exception": false,
     "start_time": "2024-07-18T08:40:33.733231",
     "status": "completed"
    },
    "tags": []
   },
   "outputs": [
    {
     "name": "stdout",
     "output_type": "stream",
     "text": [
      "Accuracy scores for each fold using decision_tree_full:  [0.81475, 0.80925, 0.806, 0.808, 0.8145]\n",
      "Average accuracy using decision_tree_full:  0.8105\n",
      "F1 scores for each fold using decision_tree_full:  [0.8152136316218522, 0.8084749747806097, 0.8052541839564873, 0.8090678686800249, 0.8143334711471863]\n",
      "Average F1 score using decision_tree_full:  0.810468826037232\n",
      "model_score_test list  using decision_tree_full  [0.81475, 0.80925, 0.806, 0.808, 0.8145]\n"
     ]
    }
   ],
   "source": [
    "from sklearn.tree import DecisionTreeClassifier\n",
    "from sklearn.pipeline import Pipeline\n",
    "\n",
    "decision_tree_full = Pipeline([ ('new_ct',new_ct),('DecisionTreeClassifier',DecisionTreeClassifier()) ])\n",
    "\n",
    "\n",
    "decision_tree_model_score_test_full=[]\n",
    "accuracy_scores_decision_tree_full = []\n",
    "f1_scores_decision_tree_full = []\n",
    "\n",
    "\n",
    "\n",
    "for train_index, test_index in data_split.split(new_train, new_train_y):\n",
    "    X_train, X_test = new_train.iloc[train_index], new_train.iloc[test_index]\n",
    "    y_train, y_test = new_train_y.iloc[train_index], new_train_y.iloc[test_index]\n",
    "    \n",
    "    decision_tree_full.fit(X_train, y_train)\n",
    "    \n",
    "    y_pred_decision_tree_full = decision_tree_full.predict(X_test)\n",
    "    \n",
    "    \n",
    "    model_score_decision_tree=decision_tree_full.score(X_test,y_test)\n",
    "    \n",
    "\n",
    "    accuracy_decision_tree = accuracy_score(y_test, y_pred_decision_tree_full)\n",
    "    \n",
    "    \n",
    "    f1_decision_tree = f1_score(y_test, y_pred_decision_tree_full, average='weighted')\n",
    "    \n",
    "    \n",
    "    accuracy_scores_decision_tree_full.append(accuracy_decision_tree)\n",
    "    \n",
    "    f1_scores_decision_tree_full.append(f1_decision_tree)\n",
    "    \n",
    "    decision_tree_model_score_test_full.append(model_score_decision_tree)\n",
    "    \n",
    "    \n",
    "    \n",
    "    \n",
    "print(\"Accuracy scores for each fold using decision_tree_full: \", accuracy_scores_decision_tree_full)\n",
    "print(\"Average accuracy using decision_tree_full: \", np.mean(accuracy_scores_decision_tree_full))\n",
    "print(\"F1 scores for each fold using decision_tree_full: \", f1_scores_decision_tree_full)\n",
    "print(\"Average F1 score using decision_tree_full: \", np.mean(f1_scores_decision_tree_full))\n",
    "print(\"model_score_test list  using decision_tree_full \" ,decision_tree_model_score_test_full )"
   ]
  },
  {
   "cell_type": "code",
   "execution_count": 61,
   "id": "4d593c17",
   "metadata": {
    "execution": {
     "iopub.execute_input": "2024-07-18T08:40:35.879402Z",
     "iopub.status.busy": "2024-07-18T08:40:35.879018Z",
     "iopub.status.idle": "2024-07-18T08:40:35.883512Z",
     "shell.execute_reply": "2024-07-18T08:40:35.882364Z"
    },
    "papermill": {
     "duration": 0.047433,
     "end_time": "2024-07-18T08:40:35.885706",
     "exception": false,
     "start_time": "2024-07-18T08:40:35.838273",
     "status": "completed"
    },
    "tags": []
   },
   "outputs": [],
   "source": [
    "# df.info()"
   ]
  },
  {
   "cell_type": "code",
   "execution_count": 62,
   "id": "fa2de730",
   "metadata": {
    "execution": {
     "iopub.execute_input": "2024-07-18T08:40:35.966776Z",
     "iopub.status.busy": "2024-07-18T08:40:35.966377Z",
     "iopub.status.idle": "2024-07-18T08:40:35.970830Z",
     "shell.execute_reply": "2024-07-18T08:40:35.969754Z"
    },
    "papermill": {
     "duration": 0.047493,
     "end_time": "2024-07-18T08:40:35.972991",
     "exception": false,
     "start_time": "2024-07-18T08:40:35.925498",
     "status": "completed"
    },
    "tags": []
   },
   "outputs": [],
   "source": [
    "# from sklearn.linear_model import LogisticRegression,LogisticRegressionCV\n",
    "# from sklearn.pipeline import Pipeline\n",
    "# from sklearn.compose import ColumnTransformer"
   ]
  },
  {
   "cell_type": "code",
   "execution_count": 63,
   "id": "c444363d",
   "metadata": {
    "execution": {
     "iopub.execute_input": "2024-07-18T08:40:36.054060Z",
     "iopub.status.busy": "2024-07-18T08:40:36.053649Z",
     "iopub.status.idle": "2024-07-18T08:40:36.058251Z",
     "shell.execute_reply": "2024-07-18T08:40:36.057406Z"
    },
    "papermill": {
     "duration": 0.047597,
     "end_time": "2024-07-18T08:40:36.060490",
     "exception": false,
     "start_time": "2024-07-18T08:40:36.012893",
     "status": "completed"
    },
    "tags": []
   },
   "outputs": [],
   "source": [
    "# from sklearn.base import BaseEstimator, TransformerMixin\n",
    "# from sklearn.preprocessing import MultiLabelBinarizer\n",
    "\n",
    "# class MultiLabelBinarizerWrapper(BaseEstimator, TransformerMixin):\n",
    "#     def __init__(self):\n",
    "#         self.mlb = MultiLabelBinarizer()\n",
    "\n",
    "#     def fit(self, X, y=None):\n",
    "#         self.mlb.fit(X)\n",
    "#         return self\n",
    "\n",
    "#     def transform(self, X):\n",
    "#         return self.mlb.transform(X)"
   ]
  },
  {
   "cell_type": "code",
   "execution_count": 64,
   "id": "ed432c33",
   "metadata": {
    "execution": {
     "iopub.execute_input": "2024-07-18T08:40:36.142024Z",
     "iopub.status.busy": "2024-07-18T08:40:36.141648Z",
     "iopub.status.idle": "2024-07-18T08:40:36.146880Z",
     "shell.execute_reply": "2024-07-18T08:40:36.145657Z"
    },
    "papermill": {
     "duration": 0.048788,
     "end_time": "2024-07-18T08:40:36.149139",
     "exception": false,
     "start_time": "2024-07-18T08:40:36.100351",
     "status": "completed"
    },
    "tags": []
   },
   "outputs": [],
   "source": [
    "\n",
    "# from sklearn.preprocessing import StandardScaler , OneHotEncoder  , MultiLabelBinarizer\n",
    "# from sklearn.feature_extraction.text import CountVectorizer\n",
    "# ct=ColumnTransformer(transformers=[\n",
    "    \n",
    "#     ('numerical_cols' , StandardScaler(),['Latitude','Longitude','reporting_delay_day_count','Victim_Age']),\n",
    "#     ('categorical_cols' , OneHotEncoder(handle_unknown='ignore'),['day_category','Victim_Sex','Victim_Descent','Part 1-2','Area_ID','Status','Weapon_Description']),\n",
    "#     ('multi_label_binarizer', MultiLabelBinarizerWrapper(), 'Modus_Operandi')\n",
    "# ])\n",
    "    "
   ]
  },
  {
   "cell_type": "code",
   "execution_count": 65,
   "id": "8ebafa1b",
   "metadata": {
    "execution": {
     "iopub.execute_input": "2024-07-18T08:40:36.230428Z",
     "iopub.status.busy": "2024-07-18T08:40:36.230034Z",
     "iopub.status.idle": "2024-07-18T08:40:36.234378Z",
     "shell.execute_reply": "2024-07-18T08:40:36.233397Z"
    },
    "papermill": {
     "duration": 0.047275,
     "end_time": "2024-07-18T08:40:36.236467",
     "exception": false,
     "start_time": "2024-07-18T08:40:36.189192",
     "status": "completed"
    },
    "tags": []
   },
   "outputs": [],
   "source": [
    "# len(df['Area_ID'].value_counts())"
   ]
  },
  {
   "cell_type": "code",
   "execution_count": 66,
   "id": "78462f8f",
   "metadata": {
    "execution": {
     "iopub.execute_input": "2024-07-18T08:40:36.317657Z",
     "iopub.status.busy": "2024-07-18T08:40:36.317273Z",
     "iopub.status.idle": "2024-07-18T08:40:36.321876Z",
     "shell.execute_reply": "2024-07-18T08:40:36.320873Z"
    },
    "papermill": {
     "duration": 0.047817,
     "end_time": "2024-07-18T08:40:36.324069",
     "exception": false,
     "start_time": "2024-07-18T08:40:36.276252",
     "status": "completed"
    },
    "tags": []
   },
   "outputs": [],
   "source": [
    "# pipe_logistic = Pipeline(steps=[('ct',ct),('logistic_reg',LogisticRegression(solver='saga',C=0.1,warm_start=True, max_iter=1500 ,random_state=42))])"
   ]
  },
  {
   "cell_type": "code",
   "execution_count": 67,
   "id": "4957bc8b",
   "metadata": {
    "execution": {
     "iopub.execute_input": "2024-07-18T08:40:36.405885Z",
     "iopub.status.busy": "2024-07-18T08:40:36.405018Z",
     "iopub.status.idle": "2024-07-18T08:40:36.409418Z",
     "shell.execute_reply": "2024-07-18T08:40:36.408380Z"
    },
    "papermill": {
     "duration": 0.04743,
     "end_time": "2024-07-18T08:40:36.411521",
     "exception": false,
     "start_time": "2024-07-18T08:40:36.364091",
     "status": "completed"
    },
    "tags": []
   },
   "outputs": [],
   "source": [
    "# pipe_logistic_sag = Pipeline(steps=[('ct',ct),('logistic_reg',LogisticRegressionCV(solver='sag',penalty='l2',multi_class='ovr', max_iter=2000 ,random_state=42))])\n",
    "\n",
    "# pipe_logistic_sag.fit(xtrain,ytrain)\n",
    "\n",
    "# pipe_logistic_sag.score(xtest,ytest)"
   ]
  },
  {
   "cell_type": "code",
   "execution_count": 68,
   "id": "b3d4c986",
   "metadata": {
    "execution": {
     "iopub.execute_input": "2024-07-18T08:40:36.493978Z",
     "iopub.status.busy": "2024-07-18T08:40:36.493195Z",
     "iopub.status.idle": "2024-07-18T08:40:36.497895Z",
     "shell.execute_reply": "2024-07-18T08:40:36.496837Z"
    },
    "papermill": {
     "duration": 0.047885,
     "end_time": "2024-07-18T08:40:36.500293",
     "exception": false,
     "start_time": "2024-07-18T08:40:36.452408",
     "status": "completed"
    },
    "tags": []
   },
   "outputs": [],
   "source": [
    "# pipe_logistic.fit(xtrain,ytrain)"
   ]
  },
  {
   "cell_type": "code",
   "execution_count": 69,
   "id": "3eda44d7",
   "metadata": {
    "execution": {
     "iopub.execute_input": "2024-07-18T08:40:36.581725Z",
     "iopub.status.busy": "2024-07-18T08:40:36.581334Z",
     "iopub.status.idle": "2024-07-18T08:40:36.586225Z",
     "shell.execute_reply": "2024-07-18T08:40:36.585041Z"
    },
    "papermill": {
     "duration": 0.048032,
     "end_time": "2024-07-18T08:40:36.588352",
     "exception": false,
     "start_time": "2024-07-18T08:40:36.540320",
     "status": "completed"
    },
    "tags": []
   },
   "outputs": [],
   "source": [
    "# pipe_logistic.score(xtest,ytest)"
   ]
  },
  {
   "cell_type": "code",
   "execution_count": 70,
   "id": "331091ca",
   "metadata": {
    "execution": {
     "iopub.execute_input": "2024-07-18T08:40:36.670264Z",
     "iopub.status.busy": "2024-07-18T08:40:36.669844Z",
     "iopub.status.idle": "2024-07-18T08:40:36.674916Z",
     "shell.execute_reply": "2024-07-18T08:40:36.673755Z"
    },
    "papermill": {
     "duration": 0.048837,
     "end_time": "2024-07-18T08:40:36.677049",
     "exception": false,
     "start_time": "2024-07-18T08:40:36.628212",
     "status": "completed"
    },
    "tags": []
   },
   "outputs": [],
   "source": [
    "# from sklearn.metrics import make_scorer ,f1_score\n",
    "# logCV_scorer=make_scorer(f1_score , average='auto')\n",
    "# pipe_logistic_multiclass = Pipeline(steps=[('ct',ct),('logistic_reg',LogisticRegressionCV(cv=3,penalty='l2',solver='saga',multi_class='multinomial',Cs=[0.1, 0.5, 1] ,max_iter=3000 ,random_state=42))])\n",
    "\n",
    "# pipe_logistic_multiclass.fit(xtrain,ytrain)\n",
    "# pipe_logistic_multiclass.score(xtrain,ytrain)\n",
    "\n",
    "# pipe_logistic_multiclass.score(xtest,ytest)\n",
    "\n",
    "\n",
    "\n",
    "\n",
    "# # 0.81175\n"
   ]
  },
  {
   "cell_type": "code",
   "execution_count": 71,
   "id": "1d827cef",
   "metadata": {
    "execution": {
     "iopub.execute_input": "2024-07-18T08:40:36.759464Z",
     "iopub.status.busy": "2024-07-18T08:40:36.758997Z",
     "iopub.status.idle": "2024-07-18T08:40:36.764333Z",
     "shell.execute_reply": "2024-07-18T08:40:36.763031Z"
    },
    "papermill": {
     "duration": 0.049632,
     "end_time": "2024-07-18T08:40:36.766651",
     "exception": false,
     "start_time": "2024-07-18T08:40:36.717019",
     "status": "completed"
    },
    "tags": []
   },
   "outputs": [],
   "source": [
    "# from sklearn.metrics import make_scorer ,f1_score\n",
    "# logCV_scorer=make_scorer(f1_score , average='auto')\n",
    "# pipe_logistic_ovr = Pipeline(steps=[('ct',ct),('logistic_reg',LogisticRegressionCV(cv=5,penalty='l2',solver='liblinear',multi_class='ovr',Cs=[0.1, 0.5, 1] ,max_iter=2400 ,random_state=42))])\n",
    "# pipe_logistic_ovr.fit(xtrain,ytrain)\n",
    "# pipe_logistic_ovr.score(xtest,ytest)\n",
    "\n",
    "\n",
    "\n",
    "\n",
    "\n",
    "\n",
    "# # 0.805"
   ]
  },
  {
   "cell_type": "code",
   "execution_count": 72,
   "id": "a95b829e",
   "metadata": {
    "execution": {
     "iopub.execute_input": "2024-07-18T08:40:36.850424Z",
     "iopub.status.busy": "2024-07-18T08:40:36.850030Z",
     "iopub.status.idle": "2024-07-18T08:40:36.854960Z",
     "shell.execute_reply": "2024-07-18T08:40:36.853982Z"
    },
    "papermill": {
     "duration": 0.048984,
     "end_time": "2024-07-18T08:40:36.857109",
     "exception": false,
     "start_time": "2024-07-18T08:40:36.808125",
     "status": "completed"
    },
    "tags": []
   },
   "outputs": [],
   "source": [
    "# from sklearn.model_selection import GridSearchCV\n",
    "# grid_logistic_estimator=Pipeline(steps=[('ct',ct),('logistic',LogisticRegression(random_state=42,penalty='l2',multi_class='multinomial' , max_iter=2500))])\n",
    "\n",
    "# param_grid_logistic={\n",
    "    \n",
    "#     'logistic__C':[0.01 , 0.1 , 1 , 10],\n",
    "    \n",
    "#     'logistic__solver':['sag', 'saga'],\n",
    "    \n",
    "# #     'logistic__penalty':['l2'] ,\n",
    "  \n",
    "# #     'logistic__max_iter' : [1000 , 1200 , 1500]\n",
    "# }\n",
    "\n",
    "# grid_logistic=GridSearchCV(grid_logistic_estimator, param_grid=param_grid_logistic , cv=5 ,n_jobs=-1)\n",
    "\n",
    "\n",
    "# grid_logistic.fit(xtrain , ytrain)\n",
    "\n",
    "\n",
    "\n",
    "# grid_logistic.score(xtest,ytest)\n",
    "\n",
    "\n",
    "\n",
    "# # 0.81225"
   ]
  },
  {
   "cell_type": "code",
   "execution_count": 73,
   "id": "957e962f",
   "metadata": {
    "execution": {
     "iopub.execute_input": "2024-07-18T08:40:36.939110Z",
     "iopub.status.busy": "2024-07-18T08:40:36.938734Z",
     "iopub.status.idle": "2024-07-18T08:40:36.943489Z",
     "shell.execute_reply": "2024-07-18T08:40:36.942457Z"
    },
    "papermill": {
     "duration": 0.048478,
     "end_time": "2024-07-18T08:40:36.945738",
     "exception": false,
     "start_time": "2024-07-18T08:40:36.897260",
     "status": "completed"
    },
    "tags": []
   },
   "outputs": [],
   "source": [
    "# grid_logistic.best_params_\n",
    "\n",
    "\n",
    "# # {'logistic__C': 10, 'logistic__solver': 'sag'}"
   ]
  },
  {
   "cell_type": "code",
   "execution_count": 74,
   "id": "9669ebd1",
   "metadata": {
    "execution": {
     "iopub.execute_input": "2024-07-18T08:40:37.028129Z",
     "iopub.status.busy": "2024-07-18T08:40:37.027128Z",
     "iopub.status.idle": "2024-07-18T08:40:37.031943Z",
     "shell.execute_reply": "2024-07-18T08:40:37.030891Z"
    },
    "papermill": {
     "duration": 0.048212,
     "end_time": "2024-07-18T08:40:37.034164",
     "exception": false,
     "start_time": "2024-07-18T08:40:36.985952",
     "status": "completed"
    },
    "tags": []
   },
   "outputs": [],
   "source": [
    "# xtrain.info()"
   ]
  },
  {
   "cell_type": "code",
   "execution_count": 75,
   "id": "9b82ddc3",
   "metadata": {
    "execution": {
     "iopub.execute_input": "2024-07-18T08:40:37.117055Z",
     "iopub.status.busy": "2024-07-18T08:40:37.116110Z",
     "iopub.status.idle": "2024-07-18T08:40:37.120496Z",
     "shell.execute_reply": "2024-07-18T08:40:37.119392Z"
    },
    "papermill": {
     "duration": 0.047414,
     "end_time": "2024-07-18T08:40:37.122676",
     "exception": false,
     "start_time": "2024-07-18T08:40:37.075262",
     "status": "completed"
    },
    "tags": []
   },
   "outputs": [],
   "source": [
    "# from sklearn.svm import SVC , NuSVC\n",
    "# pipe_svc=Pipeline(steps=[('ct',ct),('svc',SVC(decision_function_shape='ovr'))])"
   ]
  },
  {
   "cell_type": "code",
   "execution_count": 76,
   "id": "6e0da4a0",
   "metadata": {
    "execution": {
     "iopub.execute_input": "2024-07-18T08:40:37.204042Z",
     "iopub.status.busy": "2024-07-18T08:40:37.203652Z",
     "iopub.status.idle": "2024-07-18T08:40:37.207922Z",
     "shell.execute_reply": "2024-07-18T08:40:37.206943Z"
    },
    "papermill": {
     "duration": 0.047378,
     "end_time": "2024-07-18T08:40:37.210030",
     "exception": false,
     "start_time": "2024-07-18T08:40:37.162652",
     "status": "completed"
    },
    "tags": []
   },
   "outputs": [],
   "source": [
    "# pipe_svc.fit(xtrain,ytrain)"
   ]
  },
  {
   "cell_type": "code",
   "execution_count": 77,
   "id": "5fdca2bf",
   "metadata": {
    "execution": {
     "iopub.execute_input": "2024-07-18T08:40:37.291464Z",
     "iopub.status.busy": "2024-07-18T08:40:37.291060Z",
     "iopub.status.idle": "2024-07-18T08:40:37.295797Z",
     "shell.execute_reply": "2024-07-18T08:40:37.294675Z"
    },
    "papermill": {
     "duration": 0.048014,
     "end_time": "2024-07-18T08:40:37.298231",
     "exception": false,
     "start_time": "2024-07-18T08:40:37.250217",
     "status": "completed"
    },
    "tags": []
   },
   "outputs": [],
   "source": [
    "# pipe_svc.score(xtrain,ytrain)"
   ]
  },
  {
   "cell_type": "code",
   "execution_count": 78,
   "id": "cdaa8e7b",
   "metadata": {
    "execution": {
     "iopub.execute_input": "2024-07-18T08:40:37.381248Z",
     "iopub.status.busy": "2024-07-18T08:40:37.380276Z",
     "iopub.status.idle": "2024-07-18T08:40:37.385439Z",
     "shell.execute_reply": "2024-07-18T08:40:37.384117Z"
    },
    "papermill": {
     "duration": 0.048655,
     "end_time": "2024-07-18T08:40:37.387680",
     "exception": false,
     "start_time": "2024-07-18T08:40:37.339025",
     "status": "completed"
    },
    "tags": []
   },
   "outputs": [],
   "source": [
    "# pipe_svc.score(xtest,ytest)"
   ]
  },
  {
   "cell_type": "markdown",
   "id": "e39f00fd",
   "metadata": {
    "papermill": {
     "duration": 0.039977,
     "end_time": "2024-07-18T08:40:37.469368",
     "exception": false,
     "start_time": "2024-07-18T08:40:37.429391",
     "status": "completed"
    },
    "tags": []
   },
   "source": [
    "svc hpt"
   ]
  },
  {
   "cell_type": "code",
   "execution_count": 79,
   "id": "93adc78a",
   "metadata": {
    "execution": {
     "iopub.execute_input": "2024-07-18T08:40:37.552115Z",
     "iopub.status.busy": "2024-07-18T08:40:37.551751Z",
     "iopub.status.idle": "2024-07-18T08:40:37.557359Z",
     "shell.execute_reply": "2024-07-18T08:40:37.556035Z"
    },
    "papermill": {
     "duration": 0.05014,
     "end_time": "2024-07-18T08:40:37.559680",
     "exception": false,
     "start_time": "2024-07-18T08:40:37.509540",
     "status": "completed"
    },
    "tags": []
   },
   "outputs": [],
   "source": [
    "# from sklearn.model_selection import RandomizedSearchCV\n",
    "# from sklearn.model_selection import StratifiedKFold\n",
    "\n",
    "\n",
    "# svc_param = {\n",
    "#     'svc__kernel': ['linear', 'rbf', 'poly'] ,\n",
    "#     'svc__gamma':['scale', 'auto'],\n",
    "#     'svc__C':  [0.01,0.1,1,10,100]   \n",
    "# }\n",
    "\n",
    "# svc_cv = StratifiedKFold(n_splits=5, shuffle=True, random_state=42)\n",
    "\n",
    "# svc_random_search = RandomizedSearchCV(estimator=pipe_svc, param_distributions=svc_param, cv=svc_cv,n_iter=5, n_jobs=-1, verbose=2, random_state=42)\n",
    "\n",
    "# svc_random_search.fit(xtrain , ytrain)\n",
    "\n",
    "\n"
   ]
  },
  {
   "cell_type": "code",
   "execution_count": 80,
   "id": "582ae894",
   "metadata": {
    "execution": {
     "iopub.execute_input": "2024-07-18T08:40:37.642223Z",
     "iopub.status.busy": "2024-07-18T08:40:37.640996Z",
     "iopub.status.idle": "2024-07-18T08:40:37.646113Z",
     "shell.execute_reply": "2024-07-18T08:40:37.644924Z"
    },
    "papermill": {
     "duration": 0.048584,
     "end_time": "2024-07-18T08:40:37.648506",
     "exception": false,
     "start_time": "2024-07-18T08:40:37.599922",
     "status": "completed"
    },
    "tags": []
   },
   "outputs": [],
   "source": [
    "# print('train score',svc_random_search.score(xtrain , ytrain))\n",
    "# print('test score',svc_random_search.score(xtest , ytest))\n"
   ]
  },
  {
   "cell_type": "code",
   "execution_count": 81,
   "id": "ac30a16c",
   "metadata": {
    "execution": {
     "iopub.execute_input": "2024-07-18T08:40:37.732097Z",
     "iopub.status.busy": "2024-07-18T08:40:37.731721Z",
     "iopub.status.idle": "2024-07-18T08:40:37.736316Z",
     "shell.execute_reply": "2024-07-18T08:40:37.735230Z"
    },
    "papermill": {
     "duration": 0.048883,
     "end_time": "2024-07-18T08:40:37.738527",
     "exception": false,
     "start_time": "2024-07-18T08:40:37.689644",
     "status": "completed"
    },
    "tags": []
   },
   "outputs": [],
   "source": [
    "# xtrain.info()"
   ]
  },
  {
   "cell_type": "code",
   "execution_count": 82,
   "id": "ef2a5b59",
   "metadata": {
    "execution": {
     "iopub.execute_input": "2024-07-18T08:40:37.820678Z",
     "iopub.status.busy": "2024-07-18T08:40:37.820319Z",
     "iopub.status.idle": "2024-07-18T08:40:37.824790Z",
     "shell.execute_reply": "2024-07-18T08:40:37.823700Z"
    },
    "papermill": {
     "duration": 0.047985,
     "end_time": "2024-07-18T08:40:37.827092",
     "exception": false,
     "start_time": "2024-07-18T08:40:37.779107",
     "status": "completed"
    },
    "tags": []
   },
   "outputs": [],
   "source": [
    "# df.shape"
   ]
  },
  {
   "cell_type": "code",
   "execution_count": 83,
   "id": "5f2c5c4b",
   "metadata": {
    "execution": {
     "iopub.execute_input": "2024-07-18T08:40:37.909411Z",
     "iopub.status.busy": "2024-07-18T08:40:37.908640Z",
     "iopub.status.idle": "2024-07-18T08:40:37.912977Z",
     "shell.execute_reply": "2024-07-18T08:40:37.911975Z"
    },
    "papermill": {
     "duration": 0.047537,
     "end_time": "2024-07-18T08:40:37.915167",
     "exception": false,
     "start_time": "2024-07-18T08:40:37.867630",
     "status": "completed"
    },
    "tags": []
   },
   "outputs": [],
   "source": [
    "# test.shape"
   ]
  },
  {
   "cell_type": "code",
   "execution_count": 84,
   "id": "0a0553c1",
   "metadata": {
    "execution": {
     "iopub.execute_input": "2024-07-18T08:40:37.997169Z",
     "iopub.status.busy": "2024-07-18T08:40:37.996492Z",
     "iopub.status.idle": "2024-07-18T08:40:38.001183Z",
     "shell.execute_reply": "2024-07-18T08:40:38.000112Z"
    },
    "papermill": {
     "duration": 0.048276,
     "end_time": "2024-07-18T08:40:38.003567",
     "exception": false,
     "start_time": "2024-07-18T08:40:37.955291",
     "status": "completed"
    },
    "tags": []
   },
   "outputs": [],
   "source": [
    "# df.info()"
   ]
  },
  {
   "cell_type": "code",
   "execution_count": 85,
   "id": "46fd5b5c",
   "metadata": {
    "execution": {
     "iopub.execute_input": "2024-07-18T08:40:38.086740Z",
     "iopub.status.busy": "2024-07-18T08:40:38.085992Z",
     "iopub.status.idle": "2024-07-18T08:40:38.090538Z",
     "shell.execute_reply": "2024-07-18T08:40:38.089478Z"
    },
    "papermill": {
     "duration": 0.048879,
     "end_time": "2024-07-18T08:40:38.092663",
     "exception": false,
     "start_time": "2024-07-18T08:40:38.043784",
     "status": "completed"
    },
    "tags": []
   },
   "outputs": [],
   "source": [
    "# from sklearn.linear_model import Perceptron\n",
    "\n",
    "# pipe_percep=Pipeline(steps=[('ct',ct),('perceptron',Perceptron())])\n",
    "\n",
    "# pipe_percep.fit(xtrain,ytrain)\n",
    "\n",
    "# pipe_percep.score(xtest,ytest)"
   ]
  },
  {
   "cell_type": "markdown",
   "id": "c2dfd187",
   "metadata": {
    "papermill": {
     "duration": 0.039709,
     "end_time": "2024-07-18T08:40:38.172625",
     "exception": false,
     "start_time": "2024-07-18T08:40:38.132916",
     "status": "completed"
    },
    "tags": []
   },
   "source": [
    "KNN"
   ]
  },
  {
   "cell_type": "markdown",
   "id": "5ede36d8",
   "metadata": {
    "papermill": {
     "duration": 0.039326,
     "end_time": "2024-07-18T08:40:38.251910",
     "exception": false,
     "start_time": "2024-07-18T08:40:38.212584",
     "status": "completed"
    },
    "tags": []
   },
   "source": [
    "KNN Grid"
   ]
  },
  {
   "cell_type": "code",
   "execution_count": 86,
   "id": "ef5e0f04",
   "metadata": {
    "execution": {
     "iopub.execute_input": "2024-07-18T08:40:38.334128Z",
     "iopub.status.busy": "2024-07-18T08:40:38.333180Z",
     "iopub.status.idle": "2024-07-18T08:40:38.338166Z",
     "shell.execute_reply": "2024-07-18T08:40:38.337206Z"
    },
    "papermill": {
     "duration": 0.04804,
     "end_time": "2024-07-18T08:40:38.340233",
     "exception": false,
     "start_time": "2024-07-18T08:40:38.292193",
     "status": "completed"
    },
    "tags": []
   },
   "outputs": [],
   "source": [
    "# from sklearn.neighbors import KNeighborsClassifier\n",
    "\n",
    "# #45  33-8077   29-81  28  27  20  16  14 12 10\n",
    "# kn_classifier=Pipeline(steps=[('ct' , ct ),( 'knn' ,KNeighborsClassifier(n_neighbors=9))])\n",
    "\n",
    "\n",
    "# kn_classifier.fit(xtrain , ytrain)\n",
    "\n",
    "\n",
    "# ypred_kn_classifier=kn_classifier.predict(xtest)\n",
    "\n",
    "\n",
    "\n",
    "# print(\"Train score = \",kn_classifier.score(xtrain,ytrain))\n",
    "# print(\"Test score = \",kn_classifier.score(xtest,ytest))\n",
    "\n",
    "# print('---------------------------------------------------------')\n",
    "# print(classification_report(ytest,ypred_kn_classifier))\n",
    "\n",
    "# print('---------------------------------------------------------')\n",
    "\n",
    "# print(ConfusionMatrixDisplay.from_estimator(kn_classifier , xtest , ytest ,xticks_rotation='vertical'))\n"
   ]
  },
  {
   "cell_type": "code",
   "execution_count": 87,
   "id": "8ce8522c",
   "metadata": {
    "execution": {
     "iopub.execute_input": "2024-07-18T08:40:38.422979Z",
     "iopub.status.busy": "2024-07-18T08:40:38.422037Z",
     "iopub.status.idle": "2024-07-18T08:40:38.429399Z",
     "shell.execute_reply": "2024-07-18T08:40:38.428264Z"
    },
    "papermill": {
     "duration": 0.050961,
     "end_time": "2024-07-18T08:40:38.431724",
     "exception": false,
     "start_time": "2024-07-18T08:40:38.380763",
     "status": "completed"
    },
    "tags": []
   },
   "outputs": [],
   "source": [
    "import time\n",
    "start_time = time.time()\n",
    "# from sklearn.metrics import pairwise_distances\n",
    "from sklearn.model_selection import  RepeatedStratifiedKFold ,GridSearchCV ,RandomizedSearchCV\n",
    "\n",
    "from sklearn.decomposition import PCA\n",
    "\n",
    "\n",
    "\n",
    "# knn_param_grid= {\n",
    "    \n",
    "#     \"knn__n_neighbors\":[9,12,16 ,20],\n",
    "    \n",
    "#     \"knn__weights\":['uniform','distance'],\n",
    "    \n",
    "# #     'knn__algorithm':['ball_tree','kd_tree'],\n",
    "    \n",
    "#     'knn__leaf_size':[19,20,30,25],\n",
    "#     'knn__p':[1,2]\n",
    "# #     'knn__metric':['euclidean','manhattan'] \n",
    "# }\n",
    "\n",
    "\n",
    "# kn_classifier_grid_est=Pipeline(steps=[('ct' , ct ),( 'knn' ,KNeighborsClassifier())])\n",
    "\n",
    "# cv=RepeatedStratifiedKFold(n_splits=5 , n_repeats = 4 , random_state=42)\n",
    "\n",
    "# # kn_classifier_grid = GridSearchCV(kn_classifier_grid_est, param_grid=knn_param_grid , n_jobs=-1 , cv=cv , scoring='accuracy' , error_score=0)\n",
    "# kn_classifier_Randomgrid = RandomizedSearchCV(kn_classifier_grid_est, param_distributions=knn_param_grid , n_jobs=-1 , cv=cv , scoring='accuracy' , error_score=0)\n",
    "\n",
    "# # kn_classifier_grid.fit(xtrain , ytrain)\n",
    "# kn_classifier_Randomgrid.fit(xtrain , ytrain)\n",
    "\n",
    "# kn_classifier_Randomgrid.score(xtrain,ytrain)\n",
    "# kn_classifier_Randomgrid.score(xtest,ytest)\n",
    "\n",
    "# end_time = time.time()\n",
    "# print(\"elapsed_time = \",(end_time - start_time)//60)\n",
    "\n",
    "\n",
    "\n",
    "\n",
    "\n",
    "\n",
    "\n",
    "\n",
    "\n",
    "\n"
   ]
  },
  {
   "cell_type": "code",
   "execution_count": 88,
   "id": "e0bed17b",
   "metadata": {
    "execution": {
     "iopub.execute_input": "2024-07-18T08:40:38.514007Z",
     "iopub.status.busy": "2024-07-18T08:40:38.513129Z",
     "iopub.status.idle": "2024-07-18T08:40:38.517942Z",
     "shell.execute_reply": "2024-07-18T08:40:38.516901Z"
    },
    "papermill": {
     "duration": 0.04791,
     "end_time": "2024-07-18T08:40:38.519927",
     "exception": false,
     "start_time": "2024-07-18T08:40:38.472017",
     "status": "completed"
    },
    "tags": []
   },
   "outputs": [],
   "source": [
    "# kn_classifier_grid = GridSearchCV(kn_classifier_grid_est, param_grid=knn_param_grid , n_jobs=-1 , cv=cv , scoring='accuracy' , error_score=0)\n",
    "# kn_classifier_grid.fit(xtrain , ytrain)\n"
   ]
  },
  {
   "cell_type": "code",
   "execution_count": 89,
   "id": "75e8e57c",
   "metadata": {
    "execution": {
     "iopub.execute_input": "2024-07-18T08:40:38.602337Z",
     "iopub.status.busy": "2024-07-18T08:40:38.601460Z",
     "iopub.status.idle": "2024-07-18T08:40:38.606695Z",
     "shell.execute_reply": "2024-07-18T08:40:38.605629Z"
    },
    "papermill": {
     "duration": 0.048484,
     "end_time": "2024-07-18T08:40:38.608732",
     "exception": false,
     "start_time": "2024-07-18T08:40:38.560248",
     "status": "completed"
    },
    "tags": []
   },
   "outputs": [],
   "source": [
    "   #n= 16\n",
    "# kn_classifier_tuned=Pipeline(steps=[('ct' , ct ),( 'knn' ,KNeighborsClassifier(n_neighbors=19 , p=1,leaf_size=19 ,weights='distance'))])\n",
    "\n",
    "\n",
    "# kn_classifier_tuned.fit(xtrain , ytrain)\n",
    "\n",
    "\n",
    "# ypred_kn_classifier_tuned=kn_classifier_tuned.predict(xtest)\n",
    "\n",
    "\n",
    "\n",
    "# print(\"Train score = \",kn_classifier_tuned.score(xtrain,ytrain))\n",
    "# print(\"Test score = \",kn_classifier_tuned.score(xtest,ytest))\n",
    "\n",
    "# print('---------------------------------------------------------')\n",
    "# print(classification_report(ytest,ypred_kn_classifier_tuned))\n",
    "\n",
    "# print('---------------------------------------------------------')\n",
    "\n",
    "# print(ConfusionMatrixDisplay.from_estimator(kn_classifier_tuned , xtest , ytest ,xticks_rotation='vertical'))\n"
   ]
  },
  {
   "cell_type": "markdown",
   "id": "b711596d",
   "metadata": {
    "papermill": {
     "duration": 0.039566,
     "end_time": "2024-07-18T08:40:38.688342",
     "exception": false,
     "start_time": "2024-07-18T08:40:38.648776",
     "status": "completed"
    },
    "tags": []
   },
   "source": [
    "# TEST FINAL"
   ]
  },
  {
   "cell_type": "markdown",
   "id": "f770003d",
   "metadata": {
    "papermill": {
     "duration": 0.039853,
     "end_time": "2024-07-18T08:40:38.768584",
     "exception": false,
     "start_time": "2024-07-18T08:40:38.728731",
     "status": "completed"
    },
    "tags": []
   },
   "source": [
    "# Loading the test_final data"
   ]
  },
  {
   "cell_type": "code",
   "execution_count": 90,
   "id": "3b501525",
   "metadata": {
    "execution": {
     "iopub.execute_input": "2024-07-18T08:40:38.851360Z",
     "iopub.status.busy": "2024-07-18T08:40:38.850596Z",
     "iopub.status.idle": "2024-07-18T08:40:38.880288Z",
     "shell.execute_reply": "2024-07-18T08:40:38.878955Z"
    },
    "papermill": {
     "duration": 0.073821,
     "end_time": "2024-07-18T08:40:38.882746",
     "exception": false,
     "start_time": "2024-07-18T08:40:38.808925",
     "status": "completed"
    },
    "tags": []
   },
   "outputs": [],
   "source": [
    "test_final=pd.read_csv('/kaggle/input/crime-cast-forecasting-crime-categories/test.csv')"
   ]
  },
  {
   "cell_type": "markdown",
   "id": "cc0b40eb",
   "metadata": {
    "papermill": {
     "duration": 0.039859,
     "end_time": "2024-07-18T08:40:38.963034",
     "exception": false,
     "start_time": "2024-07-18T08:40:38.923175",
     "status": "completed"
    },
    "tags": []
   },
   "source": [
    "# Converting time into day category"
   ]
  },
  {
   "cell_type": "code",
   "execution_count": 91,
   "id": "7c89f3f1",
   "metadata": {
    "execution": {
     "iopub.execute_input": "2024-07-18T08:40:39.045660Z",
     "iopub.status.busy": "2024-07-18T08:40:39.044606Z",
     "iopub.status.idle": "2024-07-18T08:40:39.052925Z",
     "shell.execute_reply": "2024-07-18T08:40:39.051926Z"
    },
    "papermill": {
     "duration": 0.051906,
     "end_time": "2024-07-18T08:40:39.055230",
     "exception": false,
     "start_time": "2024-07-18T08:40:39.003324",
     "status": "completed"
    },
    "tags": []
   },
   "outputs": [],
   "source": [
    "test_final['day_category']=test_final.loc[:,'Time_Occurred'].apply(day_category )"
   ]
  },
  {
   "cell_type": "markdown",
   "id": "87ac82a7",
   "metadata": {
    "papermill": {
     "duration": 0.040191,
     "end_time": "2024-07-18T08:40:39.136782",
     "exception": false,
     "start_time": "2024-07-18T08:40:39.096591",
     "status": "completed"
    },
    "tags": []
   },
   "source": [
    "# Extracting the date features"
   ]
  },
  {
   "cell_type": "code",
   "execution_count": 92,
   "id": "bc8927cd",
   "metadata": {
    "execution": {
     "iopub.execute_input": "2024-07-18T08:40:39.219631Z",
     "iopub.status.busy": "2024-07-18T08:40:39.218888Z",
     "iopub.status.idle": "2024-07-18T08:40:43.906999Z",
     "shell.execute_reply": "2024-07-18T08:40:43.905958Z"
    },
    "papermill": {
     "duration": 4.732499,
     "end_time": "2024-07-18T08:40:43.909609",
     "exception": false,
     "start_time": "2024-07-18T08:40:39.177110",
     "status": "completed"
    },
    "tags": []
   },
   "outputs": [],
   "source": [
    "\n",
    "\n",
    "# Extracting the dates\n",
    "test_final.loc[:,'Date_Reported']=test_final.loc[:,'Date_Reported'].apply(extract_date)\n",
    "test_final.loc[:,'Date_Occurred']=test_final.loc[:,'Date_Occurred'].apply(extract_date)\n",
    "\n",
    "\n",
    "\n",
    "\n",
    "# converitng into date\n",
    "\n",
    "test_final['Date_Reported']=pd.to_datetime(test_final['Date_Reported']).dt.date\n",
    "test_final['Date_Occurred']=pd.to_datetime(test_final['Date_Occurred']).dt.date\n",
    "\n",
    "\n",
    "#             extracting the reporting delay days count\n",
    "\n",
    "test_final['reporting_delay_day_count']=(test_final['Date_Reported']-test_final['Date_Occurred'])\n",
    "\n",
    "\n",
    "\n",
    "\n",
    "# countign the days\n",
    "\n",
    "def day_count(d):\n",
    "    return d.days\n",
    "test_final.loc[:,'reporting_delay_day_count']=test_final.loc[:,'reporting_delay_day_count'].apply(day_count)\n",
    "\n",
    "\n",
    "\n",
    "\n",
    "test_final.loc[:,'reporting_delay_day_count']=test_final.loc[:,'reporting_delay_day_count'].apply(lambda x : int(x))\n",
    "\n",
    "# def victim_gender(val):\n",
    "#     if val=='H' or pd.isna(val):\n",
    "#         val='X'\n",
    "#     return val\n",
    "\n",
    "\n",
    "# test_final.loc[:,'Victim_Sex'] = test_final.alignloc[:,'Victim_Sex'].apply(victim_gender)\n",
    "\n",
    "\n",
    "\n",
    "\n",
    "\n",
    "# unique_values_weapon_test=pd.DataFrame(test_final['Weapon_Description'])\n",
    "# unique_values_weapon_test.value_counts(normalize=True)\n",
    "\n",
    "\n",
    "\n",
    "\n",
    "\n",
    "\n",
    "\n",
    "# distribution_test = test_final['Weapon_Description'].dropna().value_counts(normalize=True)\n",
    "\n",
    "# missing_test = test_final['Weapon_Description'].isnull().sum()\n",
    "\n",
    "# imputed_values_test = np.random.choice(distribution_test.index, size=missing_test, p=distribution_test.values)\n",
    "\n",
    "# # Impute the missing values\n",
    "# test_final.loc[test_final['Weapon_Description'].isnull(), 'Weapon_Description'] = imputed_values_test\n",
    "\n"
   ]
  },
  {
   "cell_type": "markdown",
   "id": "e1e5ccb6",
   "metadata": {
    "papermill": {
     "duration": 0.039636,
     "end_time": "2024-07-18T08:40:43.989394",
     "exception": false,
     "start_time": "2024-07-18T08:40:43.949758",
     "status": "completed"
    },
    "tags": []
   },
   "source": [
    "# Handling the gender column"
   ]
  },
  {
   "cell_type": "code",
   "execution_count": 93,
   "id": "6deae9bc",
   "metadata": {
    "execution": {
     "iopub.execute_input": "2024-07-18T08:40:44.071931Z",
     "iopub.status.busy": "2024-07-18T08:40:44.071181Z",
     "iopub.status.idle": "2024-07-18T08:40:44.089878Z",
     "shell.execute_reply": "2024-07-18T08:40:44.088699Z"
    },
    "papermill": {
     "duration": 0.062303,
     "end_time": "2024-07-18T08:40:44.092040",
     "exception": false,
     "start_time": "2024-07-18T08:40:44.029737",
     "status": "completed"
    },
    "tags": []
   },
   "outputs": [
    {
     "name": "stdout",
     "output_type": "stream",
     "text": [
      "Unique values of victim sex are ['F' 'M' nan 'X' 'H']\n",
      "---------------------------------------------------------------\n",
      "\n",
      "\n",
      "Value counts are\n",
      "Victim_Sex\n",
      "M    2121\n",
      "F    1840\n",
      "X     395\n",
      "H       1\n",
      "Name: count, dtype: int64\n",
      "\n",
      "\n",
      "---------------------------------------------------------------\n",
      "Number of null values are 643\n",
      "\n",
      "\n",
      "---------------------------------------------------------------\n",
      "Number of null values after imputing are 0\n",
      "---------------------------------------------------------------\n",
      "\n",
      "\n"
     ]
    }
   ],
   "source": [
    "# print(\"Number of null values are\" , test_final['Victim_Sex'].isnull().sum())\n",
    "\n",
    "# def victim_gender(val):\n",
    "#     if val=='H' or pd.isna(val):\n",
    "#         val='X'\n",
    "#     return val\n",
    "\n",
    "\n",
    "# distribution_gender = test_final['Victim_Sex'].dropna().value_counts(normalize=True)\n",
    "\n",
    "# missing_gender = test_final['Victim_Sex'].isna().sum()\n",
    "\n",
    "# imputed_values_gender = np.random.choice(distribution_gender.index, size=missing_gender, p=distribution_gender.values)\n",
    "\n",
    "\n",
    "# test_final.loc[test_final['Victim_Sex'].isna(), 'Victim_Sex'] = imputed_values_gender\n",
    "\n",
    "\n",
    "\n",
    "# test_final.loc[:,'Victim_Sex'] = test_final.loc[:,'Victim_Sex'].apply(victim_gender)\n",
    "\n",
    "\n",
    "print(\"Unique values of victim sex are\",test_final['Victim_Sex'].unique())\n",
    "\n",
    "print('---------------------------------------------------------------')\n",
    "\n",
    "\n",
    "print('')\n",
    "print('')\n",
    "\n",
    "print('Value counts are')\n",
    "print(test_final['Victim_Sex'].value_counts())\n",
    "\n",
    "print('')\n",
    "print('')\n",
    "print('---------------------------------------------------------------')\n",
    "\n",
    "\n",
    "\n",
    "print(\"Number of null values are\" , test_final['Victim_Sex'].isnull().sum())\n",
    "\n",
    "\n",
    "\n",
    "\n",
    "\n",
    "distribution_gender_test = test_final['Victim_Sex'].dropna().value_counts(normalize=True)\n",
    "\n",
    "missing_gender_test = test_final['Victim_Sex'].isna().sum()\n",
    "\n",
    "imputed_values_gender_test = np.random.choice(distribution_gender_test.index, size=missing_gender_test, p=distribution_gender_test.values)\n",
    "\n",
    "\n",
    "test_final.loc[test_final['Victim_Sex'].isna(), 'Victim_Sex'] = imputed_values_gender_test\n",
    "\n",
    "\n",
    "\n",
    "print('')\n",
    "print('')\n",
    "\n",
    "print('---------------------------------------------------------------')\n",
    "\n",
    "print(\"Number of null values after imputing are\" , test_final['Victim_Sex'].isnull().sum())\n",
    "\n",
    "test_final.loc[:,'Victim_Sex']=test_final.loc[:,'Victim_Sex'].replace('H','X')\n",
    "\n",
    "\n",
    "print('---------------------------------------------------------------')\n",
    "print('')\n",
    "print('')\n",
    "\n"
   ]
  },
  {
   "cell_type": "markdown",
   "id": "385ca2a4",
   "metadata": {
    "papermill": {
     "duration": 0.040011,
     "end_time": "2024-07-18T08:40:44.174376",
     "exception": false,
     "start_time": "2024-07-18T08:40:44.134365",
     "status": "completed"
    },
    "tags": []
   },
   "source": [
    " # Weapon_Description"
   ]
  },
  {
   "cell_type": "code",
   "execution_count": 94,
   "id": "a6e2f3de",
   "metadata": {
    "execution": {
     "iopub.execute_input": "2024-07-18T08:40:44.256615Z",
     "iopub.status.busy": "2024-07-18T08:40:44.256253Z",
     "iopub.status.idle": "2024-07-18T08:40:44.274962Z",
     "shell.execute_reply": "2024-07-18T08:40:44.274061Z"
    },
    "papermill": {
     "duration": 0.062582,
     "end_time": "2024-07-18T08:40:44.277525",
     "exception": false,
     "start_time": "2024-07-18T08:40:44.214943",
     "status": "completed"
    },
    "tags": []
   },
   "outputs": [],
   "source": [
    "test_final.loc[train['Weapon_Description'] == 'STRONG-ARM (HANDS, FIST, FEET OR BODILY FORCE)', 'Weapon_Description'] = 'Physical Force'\n",
    "\n",
    "\n",
    "test_final.loc[:,'Weapon_Description']=test_final['Weapon_Description'].apply(lambda x: gun(x))\n",
    "\n",
    "# unique_values_weapon_test=pd.DataFrame(test_final['Weapon_Description'])\n",
    "# unique_values_weapon_test.value_counts(normalize=True)\n",
    "\n",
    "# distribution_test = test_final['Weapon_Description'].dropna().value_counts(normalize=True)\n",
    "\n",
    "# missing_test = test_final['Weapon_Description'].isnull().sum()\n",
    "\n",
    "# imputed_values_test = np.random.choice(distribution_test.index, size=missing_test, p=distribution_test.values)\n",
    "\n",
    "# # Impute the missing values\n",
    "# test_final.loc[test_final['Weapon_Description'].isnull(), 'Weapon_Description'] = imputed_values_test\n",
    "\n"
   ]
  },
  {
   "cell_type": "code",
   "execution_count": 95,
   "id": "c90611db",
   "metadata": {
    "execution": {
     "iopub.execute_input": "2024-07-18T08:40:44.360395Z",
     "iopub.status.busy": "2024-07-18T08:40:44.359487Z",
     "iopub.status.idle": "2024-07-18T08:40:44.368727Z",
     "shell.execute_reply": "2024-07-18T08:40:44.367634Z"
    },
    "papermill": {
     "duration": 0.053391,
     "end_time": "2024-07-18T08:40:44.371262",
     "exception": false,
     "start_time": "2024-07-18T08:40:44.317871",
     "status": "completed"
    },
    "tags": []
   },
   "outputs": [
    {
     "name": "stdout",
     "output_type": "stream",
     "text": [
      "Number of unqiue values are\n"
     ]
    },
    {
     "data": {
      "text/plain": [
       "Weapon_Description\n",
       "NA                    3153\n",
       "Physical Force        1007\n",
       "sharp_heavy_object     431\n",
       "other_weapon           170\n",
       "Gun                    167\n",
       "fire                    44\n",
       "VEHICLE                 28\n",
       "Name: count, dtype: int64"
      ]
     },
     "execution_count": 95,
     "metadata": {},
     "output_type": "execute_result"
    }
   ],
   "source": [
    "test_final\n",
    "\n",
    "print('Number of unqiue values are')\n",
    "test_final['Weapon_Description'].value_counts()"
   ]
  },
  {
   "cell_type": "code",
   "execution_count": 96,
   "id": "6c5822d8",
   "metadata": {
    "execution": {
     "iopub.execute_input": "2024-07-18T08:40:44.455940Z",
     "iopub.status.busy": "2024-07-18T08:40:44.455003Z",
     "iopub.status.idle": "2024-07-18T08:40:44.468568Z",
     "shell.execute_reply": "2024-07-18T08:40:44.467527Z"
    },
    "papermill": {
     "duration": 0.059111,
     "end_time": "2024-07-18T08:40:44.471015",
     "exception": false,
     "start_time": "2024-07-18T08:40:44.411904",
     "status": "completed"
    },
    "tags": []
   },
   "outputs": [],
   "source": [
    "distribution_test = test_final['Weapon_Description'][test_final['Weapon_Description'] != 'NA'].value_counts(normalize=True)\n",
    "\n",
    "missing_test = test_final[test_final['Weapon_Description']=='NA']['Weapon_Description'].count()\n",
    "\n",
    "imputed_values_test = np.random.choice(distribution_test.index, size=missing_test, p=distribution_test.values)\n",
    "\n",
    "\n",
    "test_final.loc[test_final['Weapon_Description']=='NA', 'Weapon_Description'] = imputed_values_test"
   ]
  },
  {
   "cell_type": "code",
   "execution_count": 97,
   "id": "58a3ca76",
   "metadata": {
    "execution": {
     "iopub.execute_input": "2024-07-18T08:40:44.553833Z",
     "iopub.status.busy": "2024-07-18T08:40:44.553434Z",
     "iopub.status.idle": "2024-07-18T08:40:44.566299Z",
     "shell.execute_reply": "2024-07-18T08:40:44.565327Z"
    },
    "papermill": {
     "duration": 0.056853,
     "end_time": "2024-07-18T08:40:44.568418",
     "exception": false,
     "start_time": "2024-07-18T08:40:44.511565",
     "status": "completed"
    },
    "tags": []
   },
   "outputs": [
    {
     "data": {
      "text/plain": [
       "Location                        0\n",
       "Cross_Street                 4190\n",
       "Latitude                        0\n",
       "Longitude                       0\n",
       "Date_Reported                   0\n",
       "Date_Occurred                   0\n",
       "Time_Occurred                   0\n",
       "Area_ID                         0\n",
       "Area_Name                       0\n",
       "Reporting_District_no           0\n",
       "Part 1-2                        0\n",
       "Modus_Operandi                684\n",
       "Victim_Age                      0\n",
       "Victim_Sex                      0\n",
       "Victim_Descent                643\n",
       "Premise_Code                    0\n",
       "Premise_Description             1\n",
       "Weapon_Used_Code             3153\n",
       "Weapon_Description              0\n",
       "Status                          0\n",
       "Status_Description              0\n",
       "day_category                    0\n",
       "reporting_delay_day_count       0\n",
       "dtype: int64"
      ]
     },
     "execution_count": 97,
     "metadata": {},
     "output_type": "execute_result"
    }
   ],
   "source": [
    "test_final.isnull().sum()"
   ]
  },
  {
   "cell_type": "code",
   "execution_count": 98,
   "id": "ceea40be",
   "metadata": {
    "execution": {
     "iopub.execute_input": "2024-07-18T08:40:44.653457Z",
     "iopub.status.busy": "2024-07-18T08:40:44.652690Z",
     "iopub.status.idle": "2024-07-18T08:40:44.662996Z",
     "shell.execute_reply": "2024-07-18T08:40:44.661944Z"
    },
    "papermill": {
     "duration": 0.055334,
     "end_time": "2024-07-18T08:40:44.665178",
     "exception": false,
     "start_time": "2024-07-18T08:40:44.609844",
     "status": "completed"
    },
    "tags": []
   },
   "outputs": [],
   "source": [
    "distribution_Descent_test = test_final['Victim_Descent'].dropna().value_counts(normalize=True)\n",
    "\n",
    "missing_Descent_test = test_final['Victim_Descent'].isna().sum()\n",
    "\n",
    "imputed_values_Descent_test = np.random.choice(distribution_Descent_test.index, size=missing_Descent_test, p=distribution_Descent_test.values)\n",
    "\n",
    "\n",
    "test_final.loc[test_final['Victim_Descent'].isna(), 'Victim_Descent'] = imputed_values_Descent_test\n",
    "\n",
    "\n",
    "\n",
    "\n",
    "\n",
    "# distribution_test = test_final['Victim_Descent'].dropna().value_counts(normalize=True)\n",
    "\n",
    "# missing_test = test_final['Victim_Descent'].isnull().sum()\n",
    "\n",
    "# imputed_values_test = np.random.choice(distribution_test.index, size=missing_test, p=distribution_test.values)\n",
    "\n",
    "# # Impute the missing values\n",
    "# test_final.loc[test_final['Victim_Descent'].isnull(), 'Victim_Descent'] = imputed_values_test"
   ]
  },
  {
   "cell_type": "markdown",
   "id": "2fe82b47",
   "metadata": {
    "papermill": {
     "duration": 0.040531,
     "end_time": "2024-07-18T08:40:44.746667",
     "exception": false,
     "start_time": "2024-07-18T08:40:44.706136",
     "status": "completed"
    },
    "tags": []
   },
   "source": [
    "# Modus_Operandi"
   ]
  },
  {
   "cell_type": "code",
   "execution_count": 99,
   "id": "0ea5722f",
   "metadata": {
    "execution": {
     "iopub.execute_input": "2024-07-18T08:40:44.829438Z",
     "iopub.status.busy": "2024-07-18T08:40:44.829042Z",
     "iopub.status.idle": "2024-07-18T08:40:44.844956Z",
     "shell.execute_reply": "2024-07-18T08:40:44.844051Z"
    },
    "papermill": {
     "duration": 0.060022,
     "end_time": "2024-07-18T08:40:44.847267",
     "exception": false,
     "start_time": "2024-07-18T08:40:44.787245",
     "status": "completed"
    },
    "tags": []
   },
   "outputs": [],
   "source": [
    "test_final.loc[:,'Modus_Operandi'] = test_final.loc[:,'Modus_Operandi'].fillna('')\n",
    "\n",
    "\n",
    "def number_of_activities(s):\n",
    "    if s=='':  # Handle NaN values\n",
    "        return 0\n",
    "    activities_list=s.split()\n",
    "    activity_count = list(set(activities_list))\n",
    "    return len(activity_count)\n",
    "\n",
    "\n",
    "test_final['activity_count']=test_final['Modus_Operandi'].apply(number_of_activities)\n",
    "\n",
    "\n",
    "\n",
    "# def number_of_activities(s):\n",
    "#     if s=='':  # Handle NaN values\n",
    "#         return 0\n",
    "#     activities_list=s.split()\n",
    "#     activity_count = list(set(activities_list))\n",
    "#     activities = set()  # Using a set to avoid duplicates efficiently\n",
    "#     for activity in s.split(' '):\n",
    "#         activities.add(str(activity))\n",
    "#     activities=' '.join(activities)    \n",
    "#     return len(activity_count)\n",
    "# train['activity_count']=train['Modus_Operandi'].apply(number_of_activities)\n"
   ]
  },
  {
   "cell_type": "code",
   "execution_count": 100,
   "id": "149695d5",
   "metadata": {
    "execution": {
     "iopub.execute_input": "2024-07-18T08:40:44.930702Z",
     "iopub.status.busy": "2024-07-18T08:40:44.929993Z",
     "iopub.status.idle": "2024-07-18T08:40:44.938016Z",
     "shell.execute_reply": "2024-07-18T08:40:44.936997Z"
    },
    "papermill": {
     "duration": 0.052131,
     "end_time": "2024-07-18T08:40:44.940143",
     "exception": false,
     "start_time": "2024-07-18T08:40:44.888012",
     "status": "completed"
    },
    "tags": []
   },
   "outputs": [],
   "source": [
    "# test_final['Modus_Operandi']=test_final['Modus_Operandi'].apply(number_of_activities)\n",
    "test_final['Part 1-2']=test_final['Part 1-2'].apply(lambda x : str(x))\n"
   ]
  },
  {
   "cell_type": "markdown",
   "id": "1ff19632",
   "metadata": {
    "papermill": {
     "duration": 0.040399,
     "end_time": "2024-07-18T08:40:45.021312",
     "exception": false,
     "start_time": "2024-07-18T08:40:44.980913",
     "status": "completed"
    },
    "tags": []
   },
   "source": [
    "# Victim age"
   ]
  },
  {
   "cell_type": "code",
   "execution_count": 101,
   "id": "4f32c641",
   "metadata": {
    "execution": {
     "iopub.execute_input": "2024-07-18T08:40:45.104345Z",
     "iopub.status.busy": "2024-07-18T08:40:45.103943Z",
     "iopub.status.idle": "2024-07-18T08:40:45.119874Z",
     "shell.execute_reply": "2024-07-18T08:40:45.118787Z"
    },
    "papermill": {
     "duration": 0.060096,
     "end_time": "2024-07-18T08:40:45.122202",
     "exception": false,
     "start_time": "2024-07-18T08:40:45.062106",
     "status": "completed"
    },
    "tags": []
   },
   "outputs": [
    {
     "name": "stdout",
     "output_type": "stream",
     "text": [
      "[28. 26. 62.  0. 37. 58. 21. 19. 31. 35. 25. 27. 20. 67. 36. 15. 24. 53.\n",
      " 30. 38. 71. 34. 16. 33. 32. 77. 39. 52. 23. 61. 50. 63. 45. 22. 73. 40.\n",
      " 60. 55. 29. 41. 51. 46. -2. 44. 99. 81. 43. 57. 12. 79. 93. 65. 54. 59.\n",
      " 83. 64. 49. 56. 47. 42. 70. 78. 68. 80. 18. 96. 48. 74. 76. 11. 14. 66.\n",
      " 72.  7. 10.  6. 69. 17. 82.  5.  9.  4. 85. 75. 88.  8. 86. 13.  3.  2.\n",
      " -1. 84. 90. 91.]\n",
      "---------------------------------------------------------------\n",
      "[28. 26. 62.  0. 37. 58. 21. 19. 31. 35. 25. 27. 20. 67. 36. 15. 24. 53.\n",
      " 30. 38. 71. 34. 16. 33. 32. 77. 39. 52. 23. 61. 50. 63. 45. 22. 73. 40.\n",
      " 60. 55. 29. 41. 51. 46. 44. 99. 81. 43. 57. 12. 79. 93. 65. 54. 59. 83.\n",
      " 64. 49. 56. 47. 42. 70. 78. 68. 80. 18. 96. 48. 74. 76. 11. 14. 66. 72.\n",
      "  7. 10.  6. 69. 17. 82.  5.  9.  4. 85. 75. 88.  8. 86. 13.  3.  2. 84.\n",
      " 90. 91.]\n",
      "---------------------------------------------------------------\n"
     ]
    }
   ],
   "source": [
    "print(test_final['Victim_Age'].unique())\n",
    "\n",
    "test_final.loc[test_final['Victim_Age']<0,'Victim_Age']=0\n",
    "\n",
    "print('---------------------------------------------------------------')\n",
    "\n",
    "\n",
    "print(test_final['Victim_Age'].unique())\n",
    "\n",
    "print('---------------------------------------------------------------')\n",
    "\n",
    "\n",
    "test_final.loc[:,'Victim_Age']=test_final.loc[:,'Victim_Age'].apply(lambda x : int(x))\n",
    "\n",
    "\n",
    "test_final.loc[test_final['Victim_Age']==0,'Victim_Age']=test_final['Victim_Age'].mean()\n"
   ]
  },
  {
   "cell_type": "code",
   "execution_count": 102,
   "id": "55647357",
   "metadata": {
    "execution": {
     "iopub.execute_input": "2024-07-18T08:40:45.206104Z",
     "iopub.status.busy": "2024-07-18T08:40:45.205124Z",
     "iopub.status.idle": "2024-07-18T08:40:45.209648Z",
     "shell.execute_reply": "2024-07-18T08:40:45.208686Z"
    },
    "papermill": {
     "duration": 0.048566,
     "end_time": "2024-07-18T08:40:45.211654",
     "exception": false,
     "start_time": "2024-07-18T08:40:45.163088",
     "status": "completed"
    },
    "tags": []
   },
   "outputs": [],
   "source": [
    "# test_final.loc[test_final['Weapon_Description'] == 'STRONG-ARM (HANDS, FIST, FEET OR BODILY FORCE)', 'Weapon_Description'] = 'Physical Force'\n",
    "\n",
    "\n",
    "\n",
    "# test_final.loc[:,'Weapon_Description']=test_final['Weapon_Description'].apply(gun)"
   ]
  },
  {
   "cell_type": "code",
   "execution_count": 103,
   "id": "7c5b78f6",
   "metadata": {
    "execution": {
     "iopub.execute_input": "2024-07-18T08:40:45.297174Z",
     "iopub.status.busy": "2024-07-18T08:40:45.296104Z",
     "iopub.status.idle": "2024-07-18T08:40:45.300871Z",
     "shell.execute_reply": "2024-07-18T08:40:45.299857Z"
    },
    "papermill": {
     "duration": 0.050464,
     "end_time": "2024-07-18T08:40:45.303214",
     "exception": false,
     "start_time": "2024-07-18T08:40:45.252750",
     "status": "completed"
    },
    "tags": []
   },
   "outputs": [],
   "source": [
    "# test=test[['Latitude','Longitude','reporting_delay_day_count','day_category','Victim_Age','Victim_Sex','Victim_Descent','Weapon_Description','Area_ID','Modus_Operandi','Part 1-2','Status']]"
   ]
  },
  {
   "cell_type": "code",
   "execution_count": 104,
   "id": "b35c0414",
   "metadata": {
    "execution": {
     "iopub.execute_input": "2024-07-18T08:40:45.386538Z",
     "iopub.status.busy": "2024-07-18T08:40:45.386115Z",
     "iopub.status.idle": "2024-07-18T08:40:45.398906Z",
     "shell.execute_reply": "2024-07-18T08:40:45.397929Z"
    },
    "papermill": {
     "duration": 0.056559,
     "end_time": "2024-07-18T08:40:45.401014",
     "exception": false,
     "start_time": "2024-07-18T08:40:45.344455",
     "status": "completed"
    },
    "tags": []
   },
   "outputs": [
    {
     "name": "stderr",
     "output_type": "stream",
     "text": [
      "/tmp/ipykernel_18/4105633067.py:1: FutureWarning: Setting an item of incompatible dtype is deprecated and will raise in a future error of pandas. Value '['3.0' '20.0' '18.0' ... '19.0' '1.0' '18.0']' has dtype incompatible with float64, please explicitly cast to a compatible dtype first.\n",
      "  test_final.loc[:,'Area_ID']=test_final.loc[:,'Area_ID'].apply(lambda x : str(x))\n"
     ]
    }
   ],
   "source": [
    "test_final.loc[:,'Area_ID']=test_final.loc[:,'Area_ID'].apply(lambda x : str(x))\n",
    "test_final=test_final[['Latitude','Longitude','Victim_Age','activity_count','reporting_delay_day_count','Area_ID','Part 1-2','Victim_Sex','Victim_Descent','Weapon_Description','Status','day_category','Modus_Operandi']]\n"
   ]
  },
  {
   "cell_type": "code",
   "execution_count": 105,
   "id": "5ed0acba",
   "metadata": {
    "execution": {
     "iopub.execute_input": "2024-07-18T08:40:45.485343Z",
     "iopub.status.busy": "2024-07-18T08:40:45.484615Z",
     "iopub.status.idle": "2024-07-18T08:40:45.498839Z",
     "shell.execute_reply": "2024-07-18T08:40:45.497656Z"
    },
    "papermill": {
     "duration": 0.059308,
     "end_time": "2024-07-18T08:40:45.501011",
     "exception": false,
     "start_time": "2024-07-18T08:40:45.441703",
     "status": "completed"
    },
    "tags": []
   },
   "outputs": [
    {
     "name": "stdout",
     "output_type": "stream",
     "text": [
      "<class 'pandas.core.frame.DataFrame'>\n",
      "RangeIndex: 5000 entries, 0 to 4999\n",
      "Data columns (total 13 columns):\n",
      " #   Column                     Non-Null Count  Dtype  \n",
      "---  ------                     --------------  -----  \n",
      " 0   Latitude                   5000 non-null   float64\n",
      " 1   Longitude                  5000 non-null   float64\n",
      " 2   Victim_Age                 5000 non-null   float64\n",
      " 3   activity_count             5000 non-null   int64  \n",
      " 4   reporting_delay_day_count  5000 non-null   object \n",
      " 5   Area_ID                    5000 non-null   object \n",
      " 6   Part 1-2                   5000 non-null   object \n",
      " 7   Victim_Sex                 5000 non-null   object \n",
      " 8   Victim_Descent             5000 non-null   object \n",
      " 9   Weapon_Description         5000 non-null   object \n",
      " 10  Status                     5000 non-null   object \n",
      " 11  day_category               5000 non-null   object \n",
      " 12  Modus_Operandi             5000 non-null   object \n",
      "dtypes: float64(3), int64(1), object(9)\n",
      "memory usage: 507.9+ KB\n"
     ]
    }
   ],
   "source": [
    "test_final.info()"
   ]
  },
  {
   "cell_type": "code",
   "execution_count": 106,
   "id": "5a6ecaf4",
   "metadata": {
    "execution": {
     "iopub.execute_input": "2024-07-18T08:40:45.585091Z",
     "iopub.status.busy": "2024-07-18T08:40:45.584075Z",
     "iopub.status.idle": "2024-07-18T08:40:45.603582Z",
     "shell.execute_reply": "2024-07-18T08:40:45.602458Z"
    },
    "papermill": {
     "duration": 0.064021,
     "end_time": "2024-07-18T08:40:45.605912",
     "exception": false,
     "start_time": "2024-07-18T08:40:45.541891",
     "status": "completed"
    },
    "tags": []
   },
   "outputs": [
    {
     "data": {
      "text/html": [
       "<div>\n",
       "<style scoped>\n",
       "    .dataframe tbody tr th:only-of-type {\n",
       "        vertical-align: middle;\n",
       "    }\n",
       "\n",
       "    .dataframe tbody tr th {\n",
       "        vertical-align: top;\n",
       "    }\n",
       "\n",
       "    .dataframe thead th {\n",
       "        text-align: right;\n",
       "    }\n",
       "</style>\n",
       "<table border=\"1\" class=\"dataframe\">\n",
       "  <thead>\n",
       "    <tr style=\"text-align: right;\">\n",
       "      <th></th>\n",
       "      <th>Latitude</th>\n",
       "      <th>Longitude</th>\n",
       "      <th>Victim_Age</th>\n",
       "      <th>activity_count</th>\n",
       "      <th>reporting_delay_day_count</th>\n",
       "      <th>Area_ID</th>\n",
       "      <th>Part 1-2</th>\n",
       "      <th>Victim_Sex</th>\n",
       "      <th>Victim_Descent</th>\n",
       "      <th>Weapon_Description</th>\n",
       "      <th>Status</th>\n",
       "      <th>day_category</th>\n",
       "      <th>Modus_Operandi</th>\n",
       "    </tr>\n",
       "  </thead>\n",
       "  <tbody>\n",
       "    <tr>\n",
       "      <th>0</th>\n",
       "      <td>34.0128</td>\n",
       "      <td>-118.3045</td>\n",
       "      <td>28.000</td>\n",
       "      <td>6</td>\n",
       "      <td>0</td>\n",
       "      <td>3.0</td>\n",
       "      <td>2.0</td>\n",
       "      <td>F</td>\n",
       "      <td>H</td>\n",
       "      <td>Physical Force</td>\n",
       "      <td>IC</td>\n",
       "      <td>Evening</td>\n",
       "      <td>0416 1241 1243 1813 1821 2000</td>\n",
       "    </tr>\n",
       "    <tr>\n",
       "      <th>1</th>\n",
       "      <td>34.0726</td>\n",
       "      <td>-118.3029</td>\n",
       "      <td>26.000</td>\n",
       "      <td>2</td>\n",
       "      <td>37</td>\n",
       "      <td>20.0</td>\n",
       "      <td>1.0</td>\n",
       "      <td>M</td>\n",
       "      <td>B</td>\n",
       "      <td>Gun</td>\n",
       "      <td>IC</td>\n",
       "      <td>Night</td>\n",
       "      <td>0344 0394</td>\n",
       "    </tr>\n",
       "    <tr>\n",
       "      <th>2</th>\n",
       "      <td>33.9348</td>\n",
       "      <td>-118.2695</td>\n",
       "      <td>62.000</td>\n",
       "      <td>6</td>\n",
       "      <td>1</td>\n",
       "      <td>18.0</td>\n",
       "      <td>2.0</td>\n",
       "      <td>F</td>\n",
       "      <td>B</td>\n",
       "      <td>sharp_heavy_object</td>\n",
       "      <td>IC</td>\n",
       "      <td>Morning</td>\n",
       "      <td>1822 0701 1914 0355 1202 0100</td>\n",
       "    </tr>\n",
       "    <tr>\n",
       "      <th>3</th>\n",
       "      <td>34.0497</td>\n",
       "      <td>-118.3442</td>\n",
       "      <td>30.593</td>\n",
       "      <td>0</td>\n",
       "      <td>20</td>\n",
       "      <td>7.0</td>\n",
       "      <td>1.0</td>\n",
       "      <td>M</td>\n",
       "      <td>H</td>\n",
       "      <td>Physical Force</td>\n",
       "      <td>IC</td>\n",
       "      <td>Night</td>\n",
       "      <td></td>\n",
       "    </tr>\n",
       "    <tr>\n",
       "      <th>4</th>\n",
       "      <td>34.1611</td>\n",
       "      <td>-118.3704</td>\n",
       "      <td>37.000</td>\n",
       "      <td>1</td>\n",
       "      <td>1</td>\n",
       "      <td>15.0</td>\n",
       "      <td>2.0</td>\n",
       "      <td>F</td>\n",
       "      <td>W</td>\n",
       "      <td>Physical Force</td>\n",
       "      <td>AO</td>\n",
       "      <td>Night</td>\n",
       "      <td>1501</td>\n",
       "    </tr>\n",
       "    <tr>\n",
       "      <th>...</th>\n",
       "      <td>...</td>\n",
       "      <td>...</td>\n",
       "      <td>...</td>\n",
       "      <td>...</td>\n",
       "      <td>...</td>\n",
       "      <td>...</td>\n",
       "      <td>...</td>\n",
       "      <td>...</td>\n",
       "      <td>...</td>\n",
       "      <td>...</td>\n",
       "      <td>...</td>\n",
       "      <td>...</td>\n",
       "      <td>...</td>\n",
       "    </tr>\n",
       "    <tr>\n",
       "      <th>4995</th>\n",
       "      <td>34.0409</td>\n",
       "      <td>-118.3408</td>\n",
       "      <td>30.593</td>\n",
       "      <td>0</td>\n",
       "      <td>1</td>\n",
       "      <td>7.0</td>\n",
       "      <td>1.0</td>\n",
       "      <td>X</td>\n",
       "      <td>W</td>\n",
       "      <td>Physical Force</td>\n",
       "      <td>IC</td>\n",
       "      <td>Night</td>\n",
       "      <td></td>\n",
       "    </tr>\n",
       "    <tr>\n",
       "      <th>4996</th>\n",
       "      <td>34.0347</td>\n",
       "      <td>-118.2253</td>\n",
       "      <td>30.593</td>\n",
       "      <td>2</td>\n",
       "      <td>7</td>\n",
       "      <td>4.0</td>\n",
       "      <td>1.0</td>\n",
       "      <td>X</td>\n",
       "      <td>X</td>\n",
       "      <td>Physical Force</td>\n",
       "      <td>IC</td>\n",
       "      <td>Daytime</td>\n",
       "      <td>1300 0325</td>\n",
       "    </tr>\n",
       "    <tr>\n",
       "      <th>4997</th>\n",
       "      <td>34.2392</td>\n",
       "      <td>-118.4698</td>\n",
       "      <td>38.000</td>\n",
       "      <td>3</td>\n",
       "      <td>0</td>\n",
       "      <td>19.0</td>\n",
       "      <td>2.0</td>\n",
       "      <td>M</td>\n",
       "      <td>H</td>\n",
       "      <td>Physical Force</td>\n",
       "      <td>AA</td>\n",
       "      <td>Night</td>\n",
       "      <td>0913 1817 0416</td>\n",
       "    </tr>\n",
       "    <tr>\n",
       "      <th>4998</th>\n",
       "      <td>34.0453</td>\n",
       "      <td>-118.2443</td>\n",
       "      <td>41.000</td>\n",
       "      <td>1</td>\n",
       "      <td>1</td>\n",
       "      <td>1.0</td>\n",
       "      <td>2.0</td>\n",
       "      <td>M</td>\n",
       "      <td>B</td>\n",
       "      <td>sharp_heavy_object</td>\n",
       "      <td>AO</td>\n",
       "      <td>Night</td>\n",
       "      <td>0416</td>\n",
       "    </tr>\n",
       "    <tr>\n",
       "      <th>4999</th>\n",
       "      <td>33.9438</td>\n",
       "      <td>-118.2695</td>\n",
       "      <td>49.000</td>\n",
       "      <td>2</td>\n",
       "      <td>0</td>\n",
       "      <td>18.0</td>\n",
       "      <td>2.0</td>\n",
       "      <td>M</td>\n",
       "      <td>B</td>\n",
       "      <td>other_weapon</td>\n",
       "      <td>IC</td>\n",
       "      <td>Night</td>\n",
       "      <td>1822 0329</td>\n",
       "    </tr>\n",
       "  </tbody>\n",
       "</table>\n",
       "<p>5000 rows × 13 columns</p>\n",
       "</div>"
      ],
      "text/plain": [
       "      Latitude  Longitude  Victim_Age  activity_count  \\\n",
       "0      34.0128  -118.3045      28.000               6   \n",
       "1      34.0726  -118.3029      26.000               2   \n",
       "2      33.9348  -118.2695      62.000               6   \n",
       "3      34.0497  -118.3442      30.593               0   \n",
       "4      34.1611  -118.3704      37.000               1   \n",
       "...        ...        ...         ...             ...   \n",
       "4995   34.0409  -118.3408      30.593               0   \n",
       "4996   34.0347  -118.2253      30.593               2   \n",
       "4997   34.2392  -118.4698      38.000               3   \n",
       "4998   34.0453  -118.2443      41.000               1   \n",
       "4999   33.9438  -118.2695      49.000               2   \n",
       "\n",
       "     reporting_delay_day_count Area_ID Part 1-2 Victim_Sex Victim_Descent  \\\n",
       "0                            0     3.0      2.0          F              H   \n",
       "1                           37    20.0      1.0          M              B   \n",
       "2                            1    18.0      2.0          F              B   \n",
       "3                           20     7.0      1.0          M              H   \n",
       "4                            1    15.0      2.0          F              W   \n",
       "...                        ...     ...      ...        ...            ...   \n",
       "4995                         1     7.0      1.0          X              W   \n",
       "4996                         7     4.0      1.0          X              X   \n",
       "4997                         0    19.0      2.0          M              H   \n",
       "4998                         1     1.0      2.0          M              B   \n",
       "4999                         0    18.0      2.0          M              B   \n",
       "\n",
       "      Weapon_Description Status day_category                 Modus_Operandi  \n",
       "0         Physical Force     IC      Evening  0416 1241 1243 1813 1821 2000  \n",
       "1                    Gun     IC        Night                      0344 0394  \n",
       "2     sharp_heavy_object     IC      Morning  1822 0701 1914 0355 1202 0100  \n",
       "3         Physical Force     IC        Night                                 \n",
       "4         Physical Force     AO        Night                           1501  \n",
       "...                  ...    ...          ...                            ...  \n",
       "4995      Physical Force     IC        Night                                 \n",
       "4996      Physical Force     IC      Daytime                      1300 0325  \n",
       "4997      Physical Force     AA        Night                 0913 1817 0416  \n",
       "4998  sharp_heavy_object     AO        Night                           0416  \n",
       "4999        other_weapon     IC        Night                      1822 0329  \n",
       "\n",
       "[5000 rows x 13 columns]"
      ]
     },
     "execution_count": 106,
     "metadata": {},
     "output_type": "execute_result"
    }
   ],
   "source": [
    "test_final"
   ]
  },
  {
   "cell_type": "code",
   "execution_count": 107,
   "id": "06e582c1",
   "metadata": {
    "execution": {
     "iopub.execute_input": "2024-07-18T08:40:45.692782Z",
     "iopub.status.busy": "2024-07-18T08:40:45.691929Z",
     "iopub.status.idle": "2024-07-18T08:40:45.698181Z",
     "shell.execute_reply": "2024-07-18T08:40:45.697259Z"
    },
    "papermill": {
     "duration": 0.05219,
     "end_time": "2024-07-18T08:40:45.700311",
     "exception": false,
     "start_time": "2024-07-18T08:40:45.648121",
     "status": "completed"
    },
    "tags": []
   },
   "outputs": [
    {
     "data": {
      "text/plain": [
       "(5000, 13)"
      ]
     },
     "execution_count": 107,
     "metadata": {},
     "output_type": "execute_result"
    }
   ],
   "source": [
    "test_final.shape"
   ]
  },
  {
   "cell_type": "code",
   "execution_count": 108,
   "id": "667525bd",
   "metadata": {
    "execution": {
     "iopub.execute_input": "2024-07-18T08:40:45.785763Z",
     "iopub.status.busy": "2024-07-18T08:40:45.784622Z",
     "iopub.status.idle": "2024-07-18T08:40:45.803142Z",
     "shell.execute_reply": "2024-07-18T08:40:45.802130Z"
    },
    "papermill": {
     "duration": 0.063673,
     "end_time": "2024-07-18T08:40:45.805519",
     "exception": false,
     "start_time": "2024-07-18T08:40:45.741846",
     "status": "completed"
    },
    "tags": []
   },
   "outputs": [
    {
     "data": {
      "text/html": [
       "<div>\n",
       "<style scoped>\n",
       "    .dataframe tbody tr th:only-of-type {\n",
       "        vertical-align: middle;\n",
       "    }\n",
       "\n",
       "    .dataframe tbody tr th {\n",
       "        vertical-align: top;\n",
       "    }\n",
       "\n",
       "    .dataframe thead th {\n",
       "        text-align: right;\n",
       "    }\n",
       "</style>\n",
       "<table border=\"1\" class=\"dataframe\">\n",
       "  <thead>\n",
       "    <tr style=\"text-align: right;\">\n",
       "      <th></th>\n",
       "      <th>ID</th>\n",
       "      <th>Crime_Category</th>\n",
       "      <th>Unnamed: 2</th>\n",
       "    </tr>\n",
       "  </thead>\n",
       "  <tbody>\n",
       "    <tr>\n",
       "      <th>0</th>\n",
       "      <td>1</td>\n",
       "      <td>Crimes against Persons</td>\n",
       "      <td>NaN</td>\n",
       "    </tr>\n",
       "    <tr>\n",
       "      <th>1</th>\n",
       "      <td>2</td>\n",
       "      <td>Crimes against Public Order</td>\n",
       "      <td>NaN</td>\n",
       "    </tr>\n",
       "    <tr>\n",
       "      <th>2</th>\n",
       "      <td>3</td>\n",
       "      <td>Other Crimes</td>\n",
       "      <td>NaN</td>\n",
       "    </tr>\n",
       "    <tr>\n",
       "      <th>3</th>\n",
       "      <td>4</td>\n",
       "      <td>Crimes against Public Order</td>\n",
       "      <td>NaN</td>\n",
       "    </tr>\n",
       "    <tr>\n",
       "      <th>4</th>\n",
       "      <td>5</td>\n",
       "      <td>Other Crimes</td>\n",
       "      <td>NaN</td>\n",
       "    </tr>\n",
       "    <tr>\n",
       "      <th>...</th>\n",
       "      <td>...</td>\n",
       "      <td>...</td>\n",
       "      <td>...</td>\n",
       "    </tr>\n",
       "    <tr>\n",
       "      <th>995</th>\n",
       "      <td>996</td>\n",
       "      <td>Fraud and White-Collar Crimes</td>\n",
       "      <td>NaN</td>\n",
       "    </tr>\n",
       "    <tr>\n",
       "      <th>996</th>\n",
       "      <td>997</td>\n",
       "      <td>Property Crimes</td>\n",
       "      <td>NaN</td>\n",
       "    </tr>\n",
       "    <tr>\n",
       "      <th>997</th>\n",
       "      <td>998</td>\n",
       "      <td>Violent Crimes</td>\n",
       "      <td>NaN</td>\n",
       "    </tr>\n",
       "    <tr>\n",
       "      <th>998</th>\n",
       "      <td>999</td>\n",
       "      <td>Property Crimes</td>\n",
       "      <td>NaN</td>\n",
       "    </tr>\n",
       "    <tr>\n",
       "      <th>999</th>\n",
       "      <td>1000</td>\n",
       "      <td>Violent Crimes</td>\n",
       "      <td>NaN</td>\n",
       "    </tr>\n",
       "  </tbody>\n",
       "</table>\n",
       "<p>1000 rows × 3 columns</p>\n",
       "</div>"
      ],
      "text/plain": [
       "       ID                Crime_Category   Unnamed: 2\n",
       "0       1         Crimes against Persons         NaN\n",
       "1       2    Crimes against Public Order         NaN\n",
       "2       3                   Other Crimes         NaN\n",
       "3       4    Crimes against Public Order         NaN\n",
       "4       5                   Other Crimes         NaN\n",
       "..    ...                            ...         ...\n",
       "995   996  Fraud and White-Collar Crimes         NaN\n",
       "996   997                Property Crimes         NaN\n",
       "997   998                 Violent Crimes         NaN\n",
       "998   999                Property Crimes         NaN\n",
       "999  1000                 Violent Crimes         NaN\n",
       "\n",
       "[1000 rows x 3 columns]"
      ]
     },
     "execution_count": 108,
     "metadata": {},
     "output_type": "execute_result"
    }
   ],
   "source": [
    "sample=pd.read_csv('/kaggle/input/crime-cast-forecasting-crime-categories/sample.csv')\n",
    "sample"
   ]
  },
  {
   "cell_type": "code",
   "execution_count": 109,
   "id": "02147655",
   "metadata": {
    "execution": {
     "iopub.execute_input": "2024-07-18T08:40:45.892247Z",
     "iopub.status.busy": "2024-07-18T08:40:45.891459Z",
     "iopub.status.idle": "2024-07-18T08:40:45.902799Z",
     "shell.execute_reply": "2024-07-18T08:40:45.901649Z"
    },
    "papermill": {
     "duration": 0.056438,
     "end_time": "2024-07-18T08:40:45.905111",
     "exception": false,
     "start_time": "2024-07-18T08:40:45.848673",
     "status": "completed"
    },
    "tags": []
   },
   "outputs": [
    {
     "data": {
      "text/plain": [
       "Latitude                     0\n",
       "Longitude                    0\n",
       "Victim_Age                   0\n",
       "activity_count               0\n",
       "reporting_delay_day_count    0\n",
       "Area_ID                      0\n",
       "Part 1-2                     0\n",
       "Victim_Sex                   0\n",
       "Victim_Descent               0\n",
       "Weapon_Description           0\n",
       "Status                       0\n",
       "day_category                 0\n",
       "Modus_Operandi               0\n",
       "dtype: int64"
      ]
     },
     "execution_count": 109,
     "metadata": {},
     "output_type": "execute_result"
    }
   ],
   "source": [
    "test_final.isnull().sum()"
   ]
  },
  {
   "cell_type": "code",
   "execution_count": 110,
   "id": "6f6db5c8",
   "metadata": {
    "execution": {
     "iopub.execute_input": "2024-07-18T08:40:45.991908Z",
     "iopub.status.busy": "2024-07-18T08:40:45.991180Z",
     "iopub.status.idle": "2024-07-18T08:40:45.996892Z",
     "shell.execute_reply": "2024-07-18T08:40:45.995844Z"
    },
    "papermill": {
     "duration": 0.051835,
     "end_time": "2024-07-18T08:40:45.999547",
     "exception": false,
     "start_time": "2024-07-18T08:40:45.947712",
     "status": "completed"
    },
    "tags": []
   },
   "outputs": [
    {
     "name": "stdout",
     "output_type": "stream",
     "text": [
      "Train features: Index(['Latitude', 'Longitude', 'Victim_Age', 'activity_count',\n",
      "       'reporting_delay_day_count', 'Area_ID', 'Part 1-2', 'Victim_Sex',\n",
      "       'Victim_Descent', 'Weapon_Description', 'Status', 'day_category',\n",
      "       'Modus_Operandi'],\n",
      "      dtype='object')\n",
      "Test features: Index(['Latitude', 'Longitude', 'Victim_Age', 'activity_count',\n",
      "       'reporting_delay_day_count', 'Area_ID', 'Part 1-2', 'Victim_Sex',\n",
      "       'Victim_Descent', 'Weapon_Description', 'Status', 'day_category',\n",
      "       'Modus_Operandi'],\n",
      "      dtype='object')\n"
     ]
    }
   ],
   "source": [
    "print(\"Train features:\", xtrain_1.columns)\n",
    "print(\"Test features:\", test_final.columns)"
   ]
  },
  {
   "cell_type": "code",
   "execution_count": 111,
   "id": "5887c602",
   "metadata": {
    "execution": {
     "iopub.execute_input": "2024-07-18T08:40:46.086690Z",
     "iopub.status.busy": "2024-07-18T08:40:46.085713Z",
     "iopub.status.idle": "2024-07-18T08:40:49.947964Z",
     "shell.execute_reply": "2024-07-18T08:40:49.947122Z"
    },
    "papermill": {
     "duration": 3.908005,
     "end_time": "2024-07-18T08:40:49.950514",
     "exception": false,
     "start_time": "2024-07-18T08:40:46.042509",
     "status": "completed"
    },
    "tags": []
   },
   "outputs": [],
   "source": [
    "y_pred_submission=knn_classifier_full.predict(test_final)\n",
    "submission=pd.DataFrame({'ID': np.arange(1,5000+1), 'Crime_Category': y_pred_submission})\n",
    "\n",
    "submission.to_csv('submission.csv',index=False)"
   ]
  },
  {
   "cell_type": "code",
   "execution_count": null,
   "id": "44781d0d",
   "metadata": {
    "papermill": {
     "duration": 0.04267,
     "end_time": "2024-07-18T08:40:50.035698",
     "exception": false,
     "start_time": "2024-07-18T08:40:49.993028",
     "status": "completed"
    },
    "tags": []
   },
   "outputs": [],
   "source": []
  },
  {
   "cell_type": "code",
   "execution_count": null,
   "id": "fadb64e9",
   "metadata": {
    "papermill": {
     "duration": 0.042138,
     "end_time": "2024-07-18T08:40:50.120167",
     "exception": false,
     "start_time": "2024-07-18T08:40:50.078029",
     "status": "completed"
    },
    "tags": []
   },
   "outputs": [],
   "source": []
  },
  {
   "cell_type": "code",
   "execution_count": null,
   "id": "c51bf574",
   "metadata": {
    "papermill": {
     "duration": 0.041446,
     "end_time": "2024-07-18T08:40:50.203932",
     "exception": false,
     "start_time": "2024-07-18T08:40:50.162486",
     "status": "completed"
    },
    "tags": []
   },
   "outputs": [],
   "source": []
  },
  {
   "cell_type": "code",
   "execution_count": null,
   "id": "96c3207f",
   "metadata": {
    "papermill": {
     "duration": 0.041624,
     "end_time": "2024-07-18T08:40:50.287810",
     "exception": false,
     "start_time": "2024-07-18T08:40:50.246186",
     "status": "completed"
    },
    "tags": []
   },
   "outputs": [],
   "source": []
  },
  {
   "cell_type": "code",
   "execution_count": null,
   "id": "ebe05da6",
   "metadata": {
    "papermill": {
     "duration": 0.041764,
     "end_time": "2024-07-18T08:40:50.372467",
     "exception": false,
     "start_time": "2024-07-18T08:40:50.330703",
     "status": "completed"
    },
    "tags": []
   },
   "outputs": [],
   "source": []
  },
  {
   "cell_type": "code",
   "execution_count": null,
   "id": "299189ef",
   "metadata": {
    "papermill": {
     "duration": 0.042214,
     "end_time": "2024-07-18T08:40:50.456787",
     "exception": false,
     "start_time": "2024-07-18T08:40:50.414573",
     "status": "completed"
    },
    "tags": []
   },
   "outputs": [],
   "source": []
  },
  {
   "cell_type": "code",
   "execution_count": null,
   "id": "8f945d7f",
   "metadata": {
    "papermill": {
     "duration": 0.041718,
     "end_time": "2024-07-18T08:40:50.542245",
     "exception": false,
     "start_time": "2024-07-18T08:40:50.500527",
     "status": "completed"
    },
    "tags": []
   },
   "outputs": [],
   "source": []
  }
 ],
 "metadata": {
  "kaggle": {
   "accelerator": "none",
   "dataSources": [
    {
     "databundleVersionId": 8446444,
     "sourceId": 77420,
     "sourceType": "competition"
    }
   ],
   "dockerImageVersionId": 30715,
   "isGpuEnabled": false,
   "isInternetEnabled": false,
   "language": "python",
   "sourceType": "notebook"
  },
  "kernelspec": {
   "display_name": "Python 3",
   "language": "python",
   "name": "python3"
  },
  "language_info": {
   "codemirror_mode": {
    "name": "ipython",
    "version": 3
   },
   "file_extension": ".py",
   "mimetype": "text/x-python",
   "name": "python",
   "nbconvert_exporter": "python",
   "pygments_lexer": "ipython3",
   "version": "3.10.13"
  },
  "papermill": {
   "default_parameters": {},
   "duration": 265.424208,
   "end_time": "2024-07-18T08:40:51.205691",
   "environment_variables": {},
   "exception": null,
   "input_path": "__notebook__.ipynb",
   "output_path": "__notebook__.ipynb",
   "parameters": {},
   "start_time": "2024-07-18T08:36:25.781483",
   "version": "2.5.0"
  }
 },
 "nbformat": 4,
 "nbformat_minor": 5
}
