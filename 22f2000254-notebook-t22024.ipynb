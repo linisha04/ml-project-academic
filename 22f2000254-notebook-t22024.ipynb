{
 "cells": [
  {
   "cell_type": "code",
   "execution_count": 1,
   "id": "7e3b5c71",
   "metadata": {
    "_cell_guid": "b1076dfc-b9ad-4769-8c92-a6c4dae69d19",
    "_uuid": "8f2839f25d086af736a60e9eeb907d3b93b6e0e5",
    "execution": {
     "iopub.execute_input": "2024-06-28T11:06:08.663154Z",
     "iopub.status.busy": "2024-06-28T11:06:08.662168Z",
     "iopub.status.idle": "2024-06-28T11:06:09.483912Z",
     "shell.execute_reply": "2024-06-28T11:06:09.482969Z"
    },
    "papermill": {
     "duration": 0.84876,
     "end_time": "2024-06-28T11:06:09.486356",
     "exception": false,
     "start_time": "2024-06-28T11:06:08.637596",
     "status": "completed"
    },
    "tags": []
   },
   "outputs": [
    {
     "name": "stdout",
     "output_type": "stream",
     "text": [
      "/kaggle/input/crime-cast-forecasting-crime-categories/sample.csv\n",
      "/kaggle/input/crime-cast-forecasting-crime-categories/train.csv\n",
      "/kaggle/input/crime-cast-forecasting-crime-categories/test.csv\n"
     ]
    }
   ],
   "source": [
    "# This Python 3 environment comes with many helpful analytics libraries installed\n",
    "# It is defined by the kaggle/python Docker image: https://github.com/kaggle/docker-python\n",
    "# For example, here's several helpful packages to load\n",
    "\n",
    "import numpy as np # linear algebra\n",
    "import pandas as pd # data processing, CSV file I/O (e.g. pd.read_csv)\n",
    "\n",
    "# Input data files are available in the read-only \"../input/\" directory\n",
    "# For example, running this (by clicking run or pressing Shift+Enter), will list all files under the input directory\n",
    "\n",
    "import os\n",
    "for dirname, _, filenames in os.walk('/kaggle/input'):\n",
    "    for filename in filenames:\n",
    "        print(os.path.join(dirname, filename))\n",
    "\n",
    "# You can write up to 20GB to the current directory (/kaggle/working/) that gets preserved as output when you create a version using \"Save & Run All\" \n",
    "# You can also write temporary files to /kaggle/temp/, but they won't be saved outside of the current session"
   ]
  },
  {
   "cell_type": "code",
   "execution_count": 2,
   "id": "dac956ba",
   "metadata": {
    "execution": {
     "iopub.execute_input": "2024-06-28T11:06:09.529884Z",
     "iopub.status.busy": "2024-06-28T11:06:09.529066Z",
     "iopub.status.idle": "2024-06-28T11:06:11.025143Z",
     "shell.execute_reply": "2024-06-28T11:06:11.024117Z"
    },
    "papermill": {
     "duration": 1.520508,
     "end_time": "2024-06-28T11:06:11.027834",
     "exception": false,
     "start_time": "2024-06-28T11:06:09.507326",
     "status": "completed"
    },
    "tags": []
   },
   "outputs": [],
   "source": [
    "import matplotlib.pyplot as plt\n",
    "import seaborn as sns \n",
    "\n",
    "\n",
    "import datetime\n",
    "\n",
    "\n",
    "from sklearn.model_selection import train_test_split "
   ]
  },
  {
   "cell_type": "code",
   "execution_count": 3,
   "id": "e75bc782",
   "metadata": {
    "execution": {
     "iopub.execute_input": "2024-06-28T11:06:11.076500Z",
     "iopub.status.busy": "2024-06-28T11:06:11.076029Z",
     "iopub.status.idle": "2024-06-28T11:06:11.306847Z",
     "shell.execute_reply": "2024-06-28T11:06:11.305771Z"
    },
    "papermill": {
     "duration": 0.25986,
     "end_time": "2024-06-28T11:06:11.310185",
     "exception": false,
     "start_time": "2024-06-28T11:06:11.050325",
     "status": "completed"
    },
    "tags": []
   },
   "outputs": [],
   "source": [
    "train =pd.read_csv('/kaggle/input/crime-cast-forecasting-crime-categories/train.csv')\n",
    "test=pd.read_csv('/kaggle/input/crime-cast-forecasting-crime-categories/test.csv')\n"
   ]
  },
  {
   "cell_type": "markdown",
   "id": "6aa80239",
   "metadata": {
    "papermill": {
     "duration": 0.020918,
     "end_time": "2024-06-28T11:06:11.355854",
     "exception": false,
     "start_time": "2024-06-28T11:06:11.334936",
     "status": "completed"
    },
    "tags": []
   },
   "source": [
    "* Latitude range: [0:34] ( General range is -90 to 90 )\n",
    "* Longitude range: [-118: 0] (General range is 180 to 180)\n",
    "\n"
   ]
  },
  {
   "cell_type": "code",
   "execution_count": 4,
   "id": "029feacf",
   "metadata": {
    "execution": {
     "iopub.execute_input": "2024-06-28T11:06:11.404928Z",
     "iopub.status.busy": "2024-06-28T11:06:11.403763Z",
     "iopub.status.idle": "2024-06-28T11:06:11.410379Z",
     "shell.execute_reply": "2024-06-28T11:06:11.409376Z"
    },
    "papermill": {
     "duration": 0.031699,
     "end_time": "2024-06-28T11:06:11.412677",
     "exception": false,
     "start_time": "2024-06-28T11:06:11.380978",
     "status": "completed"
    },
    "tags": []
   },
   "outputs": [],
   "source": [
    "def day_category(x):\n",
    "    if 400<=x<1200:\n",
    "        return 'Morning'\n",
    "    elif 1200<=x<1700:\n",
    "        return 'Daytime'\n",
    "    elif 1800<=x<2100:\n",
    "        return 'Evening'\n",
    "    else:\n",
    "        return 'Night'"
   ]
  },
  {
   "cell_type": "code",
   "execution_count": 5,
   "id": "8fa4458c",
   "metadata": {
    "execution": {
     "iopub.execute_input": "2024-06-28T11:06:11.456669Z",
     "iopub.status.busy": "2024-06-28T11:06:11.456289Z",
     "iopub.status.idle": "2024-06-28T11:06:11.482459Z",
     "shell.execute_reply": "2024-06-28T11:06:11.481428Z"
    },
    "papermill": {
     "duration": 0.050977,
     "end_time": "2024-06-28T11:06:11.484792",
     "exception": false,
     "start_time": "2024-06-28T11:06:11.433815",
     "status": "completed"
    },
    "tags": []
   },
   "outputs": [],
   "source": [
    "train['day_category']=train['Time_Occurred'].apply(day_category )"
   ]
  },
  {
   "cell_type": "code",
   "execution_count": 6,
   "id": "e1a7ef8e",
   "metadata": {
    "execution": {
     "iopub.execute_input": "2024-06-28T11:06:11.541211Z",
     "iopub.status.busy": "2024-06-28T11:06:11.540233Z",
     "iopub.status.idle": "2024-06-28T11:06:11.545704Z",
     "shell.execute_reply": "2024-06-28T11:06:11.544676Z"
    },
    "papermill": {
     "duration": 0.033666,
     "end_time": "2024-06-28T11:06:11.547891",
     "exception": false,
     "start_time": "2024-06-28T11:06:11.514225",
     "status": "completed"
    },
    "tags": []
   },
   "outputs": [],
   "source": [
    "\n",
    "def extract_date(d):\n",
    "    date=d.split(' ')[0]\n",
    "    \n",
    "    \n",
    "    date=pd.to_datetime(date).date()\n",
    "    \n",
    "    \n",
    "    return date\n",
    "    "
   ]
  },
  {
   "cell_type": "code",
   "execution_count": 7,
   "id": "32b7e634",
   "metadata": {
    "execution": {
     "iopub.execute_input": "2024-06-28T11:06:11.591368Z",
     "iopub.status.busy": "2024-06-28T11:06:11.590974Z",
     "iopub.status.idle": "2024-06-28T11:06:32.066192Z",
     "shell.execute_reply": "2024-06-28T11:06:32.065291Z"
    },
    "papermill": {
     "duration": 20.499842,
     "end_time": "2024-06-28T11:06:32.068760",
     "exception": false,
     "start_time": "2024-06-28T11:06:11.568918",
     "status": "completed"
    },
    "tags": []
   },
   "outputs": [],
   "source": [
    "train['Date_Reported']=train['Date_Reported'].apply(extract_date)\n",
    "train['Date_Occurred']=train['Date_Occurred'].apply(extract_date)\n"
   ]
  },
  {
   "cell_type": "code",
   "execution_count": 8,
   "id": "8a0e6f79",
   "metadata": {
    "execution": {
     "iopub.execute_input": "2024-06-28T11:06:32.111007Z",
     "iopub.status.busy": "2024-06-28T11:06:32.110613Z",
     "iopub.status.idle": "2024-06-28T11:06:32.118069Z",
     "shell.execute_reply": "2024-06-28T11:06:32.117146Z"
    },
    "papermill": {
     "duration": 0.031391,
     "end_time": "2024-06-28T11:06:32.120337",
     "exception": false,
     "start_time": "2024-06-28T11:06:32.088946",
     "status": "completed"
    },
    "tags": []
   },
   "outputs": [
    {
     "data": {
      "text/plain": [
       "3"
      ]
     },
     "execution_count": 8,
     "metadata": {},
     "output_type": "execute_result"
    }
   ],
   "source": [
    "k=train['Date_Reported'][0]-train['Date_Occurred'][0]\n",
    "k.days"
   ]
  },
  {
   "cell_type": "code",
   "execution_count": 9,
   "id": "8c33ed2d",
   "metadata": {
    "execution": {
     "iopub.execute_input": "2024-06-28T11:06:32.163837Z",
     "iopub.status.busy": "2024-06-28T11:06:32.163480Z",
     "iopub.status.idle": "2024-06-28T11:06:32.208041Z",
     "shell.execute_reply": "2024-06-28T11:06:32.207229Z"
    },
    "papermill": {
     "duration": 0.068913,
     "end_time": "2024-06-28T11:06:32.210589",
     "exception": false,
     "start_time": "2024-06-28T11:06:32.141676",
     "status": "completed"
    },
    "tags": []
   },
   "outputs": [],
   "source": [
    "train['Date_Reported']=pd.to_datetime(train['Date_Reported']).dt.date\n",
    "train['Date_Occurred']=pd.to_datetime(train['Date_Occurred']).dt.date\n",
    "\n",
    "train['reporting_delay_day_count']=(train['Date_Reported']-train['Date_Occurred'])"
   ]
  },
  {
   "cell_type": "code",
   "execution_count": 10,
   "id": "8f40907a",
   "metadata": {
    "execution": {
     "iopub.execute_input": "2024-06-28T11:06:32.254407Z",
     "iopub.status.busy": "2024-06-28T11:06:32.253697Z",
     "iopub.status.idle": "2024-06-28T11:06:32.274649Z",
     "shell.execute_reply": "2024-06-28T11:06:32.273653Z"
    },
    "papermill": {
     "duration": 0.045361,
     "end_time": "2024-06-28T11:06:32.276864",
     "exception": false,
     "start_time": "2024-06-28T11:06:32.231503",
     "status": "completed"
    },
    "tags": []
   },
   "outputs": [],
   "source": [
    "def day_count(d):\n",
    "    return d.days\n",
    "train['reporting_delay_day_count']=train['reporting_delay_day_count'].apply(day_count)"
   ]
  },
  {
   "cell_type": "code",
   "execution_count": 11,
   "id": "b522db71",
   "metadata": {
    "execution": {
     "iopub.execute_input": "2024-06-28T11:06:32.321799Z",
     "iopub.status.busy": "2024-06-28T11:06:32.321402Z",
     "iopub.status.idle": "2024-06-28T11:06:32.333086Z",
     "shell.execute_reply": "2024-06-28T11:06:32.332299Z"
    },
    "papermill": {
     "duration": 0.036917,
     "end_time": "2024-06-28T11:06:32.335375",
     "exception": false,
     "start_time": "2024-06-28T11:06:32.298458",
     "status": "completed"
    },
    "tags": []
   },
   "outputs": [],
   "source": [
    "df=train[['Latitude','Longitude','reporting_delay_day_count','day_category','Victim_Age','Victim_Sex','Victim_Descent','Premise_Code','Weapon_Description','Weapon_Used_Code','Area_ID','Modus_Operandi','Part 1-2','Status','Crime_Category']]"
   ]
  },
  {
   "cell_type": "code",
   "execution_count": 12,
   "id": "0c4c98df",
   "metadata": {
    "execution": {
     "iopub.execute_input": "2024-06-28T11:06:32.378819Z",
     "iopub.status.busy": "2024-06-28T11:06:32.378419Z",
     "iopub.status.idle": "2024-06-28T11:06:32.405871Z",
     "shell.execute_reply": "2024-06-28T11:06:32.405059Z"
    },
    "papermill": {
     "duration": 0.05119,
     "end_time": "2024-06-28T11:06:32.408088",
     "exception": false,
     "start_time": "2024-06-28T11:06:32.356898",
     "status": "completed"
    },
    "tags": []
   },
   "outputs": [],
   "source": [
    "def victim_gender(val):\n",
    "    if val=='H' or pd.isna(val):\n",
    "        val='X'\n",
    "    return val\n",
    "\n",
    "\n",
    "df.loc[:,'Victim_Sex'] = df['Victim_Sex'].apply(victim_gender)"
   ]
  },
  {
   "cell_type": "code",
   "execution_count": 13,
   "id": "ee5906e8",
   "metadata": {
    "execution": {
     "iopub.execute_input": "2024-06-28T11:06:32.451663Z",
     "iopub.status.busy": "2024-06-28T11:06:32.451276Z",
     "iopub.status.idle": "2024-06-28T11:06:32.473436Z",
     "shell.execute_reply": "2024-06-28T11:06:32.472455Z"
    },
    "papermill": {
     "duration": 0.046312,
     "end_time": "2024-06-28T11:06:32.475554",
     "exception": false,
     "start_time": "2024-06-28T11:06:32.429242",
     "status": "completed"
    },
    "tags": []
   },
   "outputs": [
    {
     "data": {
      "text/plain": [
       "Weapon_Description                            \n",
       "STRONG-ARM (HANDS, FIST, FEET OR BODILY FORCE)    0.543967\n",
       "UNKNOWN WEAPON/OTHER WEAPON                       0.107566\n",
       "VERBAL THREAT                                     0.074438\n",
       "HAND GUN                                          0.052897\n",
       "KNIFE WITH BLADE 6INCHES OR LESS                  0.021813\n",
       "SEMI-AUTOMATIC PISTOL                             0.020995\n",
       "UNKNOWN FIREARM                                   0.017860\n",
       "OTHER KNIFE                                       0.017042\n",
       "VEHICLE                                           0.011452\n",
       "MACE/PEPPER SPRAY                                 0.010907\n",
       "ROCK/THROWN OBJECT                                0.008589\n",
       "BOTTLE                                            0.007498\n",
       "PIPE/METAL PIPE                                   0.007089\n",
       "CLUB/BAT                                          0.006953\n",
       "STICK                                             0.006680\n",
       "KITCHEN KNIFE                                     0.006135\n",
       "KNIFE WITH BLADE OVER 6 INCHES IN LENGTH          0.005862\n",
       "AIR PISTOL/REVOLVER/RIFLE/BB GUN                  0.005590\n",
       "FOLDING KNIFE                                     0.005044\n",
       "BLUNT INSTRUMENT                                  0.005044\n",
       "SIMULATED GUN                                     0.004772\n",
       "REVOLVER                                          0.004635\n",
       "BELT FLAILING INSTRUMENT/CHAIN                    0.003545\n",
       "CONCRETE BLOCK/BRICK                              0.003545\n",
       "MACHETE                                           0.003408\n",
       "UNKNOWN TYPE CUTTING INSTRUMENT                   0.003272\n",
       "SCREWDRIVER                                       0.003136\n",
       "HAMMER                                            0.003136\n",
       "FIRE                                              0.002999\n",
       "PHYSICAL PRESENCE                                 0.002454\n",
       "OTHER FIREARM                                     0.002454\n",
       "OTHER CUTTING INSTRUMENT                          0.002318\n",
       "FIXED OBJECT                                      0.002181\n",
       "GLASS                                             0.001909\n",
       "SCISSORS                                          0.001772\n",
       "RIFLE                                             0.001636\n",
       "BOARD                                             0.001500\n",
       "TOY GUN                                           0.001091\n",
       "SHOTGUN                                           0.000954\n",
       "TIRE IRON                                         0.000954\n",
       "AXE                                               0.000818\n",
       "STUN GUN                                          0.000545\n",
       "BRASS KNUCKLES                                    0.000545\n",
       "SCALDING LIQUID                                   0.000409\n",
       "SWITCH BLADE                                      0.000409\n",
       "SAWED OFF RIFLE/SHOTGUN                           0.000273\n",
       "DEMAND NOTE                                       0.000273\n",
       "ICE PICK                                          0.000273\n",
       "MARTIAL ARTS WEAPONS                              0.000273\n",
       "BOWIE KNIFE                                       0.000136\n",
       "STARTER PISTOL/REVOLVER                           0.000136\n",
       "BOMB THREAT                                       0.000136\n",
       "RAZOR BLADE                                       0.000136\n",
       "CAUSTIC CHEMICAL/POISON                           0.000136\n",
       "CLEAVER                                           0.000136\n",
       "ASSAULT WEAPON/UZI/AK47/ETC                       0.000136\n",
       "HECKLER & KOCH 93 SEMIAUTOMATIC ASSAULT RIFLE     0.000136\n",
       "Name: proportion, dtype: float64"
      ]
     },
     "execution_count": 13,
     "metadata": {},
     "output_type": "execute_result"
    }
   ],
   "source": [
    "unique_values_weapon=pd.DataFrame(df['Weapon_Description'])\n",
    "unique_values_weapon.value_counts(normalize=True)"
   ]
  },
  {
   "cell_type": "code",
   "execution_count": 14,
   "id": "549acf64",
   "metadata": {
    "execution": {
     "iopub.execute_input": "2024-06-28T11:06:32.519361Z",
     "iopub.status.busy": "2024-06-28T11:06:32.518998Z",
     "iopub.status.idle": "2024-06-28T11:06:32.536314Z",
     "shell.execute_reply": "2024-06-28T11:06:32.535529Z"
    },
    "papermill": {
     "duration": 0.041994,
     "end_time": "2024-06-28T11:06:32.538564",
     "exception": false,
     "start_time": "2024-06-28T11:06:32.496570",
     "status": "completed"
    },
    "tags": []
   },
   "outputs": [],
   "source": [
    "distribution = df['Weapon_Description'].dropna().value_counts(normalize=True)\n",
    "\n",
    "missing = df['Weapon_Description'].isnull().sum()\n",
    "\n",
    "imputed_values = np.random.choice(distribution.index, size=missing, p=distribution.values)\n",
    "\n",
    "# Impute the missing values\n",
    "df.loc[df['Weapon_Description'].isnull(), 'Weapon_Description'] = imputed_values\n"
   ]
  },
  {
   "cell_type": "code",
   "execution_count": 15,
   "id": "0a822223",
   "metadata": {
    "execution": {
     "iopub.execute_input": "2024-06-28T11:06:32.582531Z",
     "iopub.status.busy": "2024-06-28T11:06:32.582144Z",
     "iopub.status.idle": "2024-06-28T11:06:32.598743Z",
     "shell.execute_reply": "2024-06-28T11:06:32.597985Z"
    },
    "papermill": {
     "duration": 0.04103,
     "end_time": "2024-06-28T11:06:32.600873",
     "exception": false,
     "start_time": "2024-06-28T11:06:32.559843",
     "status": "completed"
    },
    "tags": []
   },
   "outputs": [],
   "source": [
    "distribution = df['Victim_Descent'].dropna().value_counts(normalize=True)\n",
    "\n",
    "missing = df['Victim_Descent'].isnull().sum()\n",
    "\n",
    "imputed_values = np.random.choice(distribution.index, size=missing, p=distribution.values)\n",
    "\n",
    "# Impute the missing values\n",
    "df.loc[df['Victim_Descent'].isnull(), 'Victim_Descent'] = imputed_values"
   ]
  },
  {
   "cell_type": "markdown",
   "id": "ff3f82bd",
   "metadata": {
    "execution": {
     "iopub.execute_input": "2024-06-18T11:25:46.853966Z",
     "iopub.status.busy": "2024-06-18T11:25:46.853487Z",
     "iopub.status.idle": "2024-06-18T11:25:48.288787Z",
     "shell.execute_reply": "2024-06-18T11:25:48.287061Z",
     "shell.execute_reply.started": "2024-06-18T11:25:46.853929Z"
    },
    "papermill": {
     "duration": 0.02185,
     "end_time": "2024-06-28T11:06:32.644164",
     "exception": false,
     "start_time": "2024-06-28T11:06:32.622314",
     "status": "completed"
    },
    "tags": []
   },
   "source": [
    " df.drop('Weapon_Used_Code',inplace=True,axis=1)"
   ]
  },
  {
   "cell_type": "code",
   "execution_count": 16,
   "id": "7ce614cb",
   "metadata": {
    "execution": {
     "iopub.execute_input": "2024-06-28T11:06:32.689780Z",
     "iopub.status.busy": "2024-06-28T11:06:32.688826Z",
     "iopub.status.idle": "2024-06-28T11:06:32.697232Z",
     "shell.execute_reply": "2024-06-28T11:06:32.696242Z"
    },
    "papermill": {
     "duration": 0.033347,
     "end_time": "2024-06-28T11:06:32.699528",
     "exception": false,
     "start_time": "2024-06-28T11:06:32.666181",
     "status": "completed"
    },
    "tags": []
   },
   "outputs": [
    {
     "name": "stderr",
     "output_type": "stream",
     "text": [
      "/tmp/ipykernel_18/3662583146.py:1: SettingWithCopyWarning: \n",
      "A value is trying to be set on a copy of a slice from a DataFrame\n",
      "\n",
      "See the caveats in the documentation: https://pandas.pydata.org/pandas-docs/stable/user_guide/indexing.html#returning-a-view-versus-a-copy\n",
      "  df.drop('Weapon_Used_Code',inplace=True,axis=1)\n"
     ]
    }
   ],
   "source": [
    "df.drop('Weapon_Used_Code',inplace=True,axis=1)\n"
   ]
  },
  {
   "cell_type": "code",
   "execution_count": 17,
   "id": "73dc4530",
   "metadata": {
    "execution": {
     "iopub.execute_input": "2024-06-28T11:06:32.744150Z",
     "iopub.status.busy": "2024-06-28T11:06:32.743671Z",
     "iopub.status.idle": "2024-06-28T11:06:32.813769Z",
     "shell.execute_reply": "2024-06-28T11:06:32.812687Z"
    },
    "papermill": {
     "duration": 0.094878,
     "end_time": "2024-06-28T11:06:32.815925",
     "exception": false,
     "start_time": "2024-06-28T11:06:32.721047",
     "status": "completed"
    },
    "tags": []
   },
   "outputs": [],
   "source": [
    "# def number_of_activities(s):\n",
    "#     activities=[]\n",
    "#     s=str(s)\n",
    "#     a=s.split(' ')\n",
    "#     for i in a:\n",
    "#         if a not in activities:\n",
    "#             activities.append(a)\n",
    "#     return activities\n",
    "\n",
    "def number_of_activities(s):\n",
    "    if pd.isna(s):  # Handle NaN values\n",
    "        return ''\n",
    "    activities = set()  # Using a set to avoid duplicates efficiently\n",
    "    for activity in s.split(' '):\n",
    "        activities.add(str(activity))\n",
    "    activities=' '.join(activities)    \n",
    "    return activities\n",
    "df.loc[:,'Modus_Operandi']=df['Modus_Operandi'].apply(number_of_activities)\n",
    "# df.drop('Modus_Operandi',axis=1)\n",
    "# df['Modus_Operandi']=df['unique_activities']\n",
    "# df.drop('unique_activities',axis=1,inplace=True)"
   ]
  },
  {
   "cell_type": "code",
   "execution_count": 18,
   "id": "55a04fcc",
   "metadata": {
    "execution": {
     "iopub.execute_input": "2024-06-28T11:06:32.911982Z",
     "iopub.status.busy": "2024-06-28T11:06:32.911627Z",
     "iopub.status.idle": "2024-06-28T11:06:32.932016Z",
     "shell.execute_reply": "2024-06-28T11:06:32.930804Z"
    },
    "papermill": {
     "duration": 0.045203,
     "end_time": "2024-06-28T11:06:32.934180",
     "exception": false,
     "start_time": "2024-06-28T11:06:32.888977",
     "status": "completed"
    },
    "tags": []
   },
   "outputs": [
    {
     "name": "stderr",
     "output_type": "stream",
     "text": [
      "/tmp/ipykernel_18/3589716598.py:1: SettingWithCopyWarning: \n",
      "A value is trying to be set on a copy of a slice from a DataFrame.\n",
      "Try using .loc[row_indexer,col_indexer] = value instead\n",
      "\n",
      "See the caveats in the documentation: https://pandas.pydata.org/pandas-docs/stable/user_guide/indexing.html#returning-a-view-versus-a-copy\n",
      "  df.loc[:,'max_activity']=df['Modus_Operandi'].apply(lambda x: len(x))\n"
     ]
    }
   ],
   "source": [
    "df.loc[:,'max_activity']=df['Modus_Operandi'].apply(lambda x: len(x))"
   ]
  },
  {
   "cell_type": "code",
   "execution_count": 19,
   "id": "c839f68a",
   "metadata": {
    "execution": {
     "iopub.execute_input": "2024-06-28T11:06:32.978995Z",
     "iopub.status.busy": "2024-06-28T11:06:32.978236Z",
     "iopub.status.idle": "2024-06-28T11:06:33.002035Z",
     "shell.execute_reply": "2024-06-28T11:06:33.000975Z"
    },
    "papermill": {
     "duration": 0.048629,
     "end_time": "2024-06-28T11:06:33.004266",
     "exception": false,
     "start_time": "2024-06-28T11:06:32.955637",
     "status": "completed"
    },
    "tags": []
   },
   "outputs": [],
   "source": [
    "df.loc[:,'Premise_Code']=df['Premise_Code'].apply(lambda x : int(x))"
   ]
  },
  {
   "cell_type": "code",
   "execution_count": 20,
   "id": "234895eb",
   "metadata": {
    "execution": {
     "iopub.execute_input": "2024-06-28T11:06:33.049441Z",
     "iopub.status.busy": "2024-06-28T11:06:33.049048Z",
     "iopub.status.idle": "2024-06-28T11:06:33.088937Z",
     "shell.execute_reply": "2024-06-28T11:06:33.088076Z"
    },
    "papermill": {
     "duration": 0.06542,
     "end_time": "2024-06-28T11:06:33.091342",
     "exception": false,
     "start_time": "2024-06-28T11:06:33.025922",
     "status": "completed"
    },
    "tags": []
   },
   "outputs": [],
   "source": [
    "df.loc[:,'Area_ID']=df['Area_ID'].apply(lambda x : int(x))\n",
    "df.loc[:,'Part 1-2']=df['Part 1-2'].apply(lambda x : int(x))\n"
   ]
  },
  {
   "cell_type": "code",
   "execution_count": 21,
   "id": "f95a147b",
   "metadata": {
    "execution": {
     "iopub.execute_input": "2024-06-28T11:06:33.136884Z",
     "iopub.status.busy": "2024-06-28T11:06:33.136511Z",
     "iopub.status.idle": "2024-06-28T11:06:33.142690Z",
     "shell.execute_reply": "2024-06-28T11:06:33.141742Z"
    },
    "papermill": {
     "duration": 0.031404,
     "end_time": "2024-06-28T11:06:33.145003",
     "exception": false,
     "start_time": "2024-06-28T11:06:33.113599",
     "status": "completed"
    },
    "tags": []
   },
   "outputs": [],
   "source": [
    "df.loc[df['Victim_Age']<0,'Victim_Age']=0"
   ]
  },
  {
   "cell_type": "code",
   "execution_count": 22,
   "id": "4a7c510e",
   "metadata": {
    "execution": {
     "iopub.execute_input": "2024-06-28T11:06:33.190566Z",
     "iopub.status.busy": "2024-06-28T11:06:33.189825Z",
     "iopub.status.idle": "2024-06-28T11:06:33.196331Z",
     "shell.execute_reply": "2024-06-28T11:06:33.195424Z"
    },
    "papermill": {
     "duration": 0.031583,
     "end_time": "2024-06-28T11:06:33.198432",
     "exception": false,
     "start_time": "2024-06-28T11:06:33.166849",
     "status": "completed"
    },
    "tags": []
   },
   "outputs": [],
   "source": [
    "df.loc[df['Victim_Age']==0,'Victim_Age']=df['Victim_Age'].mean()"
   ]
  },
  {
   "cell_type": "code",
   "execution_count": 23,
   "id": "3ff2f565",
   "metadata": {
    "execution": {
     "iopub.execute_input": "2024-06-28T11:06:33.244461Z",
     "iopub.status.busy": "2024-06-28T11:06:33.243647Z",
     "iopub.status.idle": "2024-06-28T11:06:33.253231Z",
     "shell.execute_reply": "2024-06-28T11:06:33.252321Z"
    },
    "papermill": {
     "duration": 0.0352,
     "end_time": "2024-06-28T11:06:33.255521",
     "exception": false,
     "start_time": "2024-06-28T11:06:33.220321",
     "status": "completed"
    },
    "tags": []
   },
   "outputs": [
    {
     "data": {
      "text/plain": [
       "Part 1-2\n",
       "1.0    11637\n",
       "2.0     8363\n",
       "Name: count, dtype: int64"
      ]
     },
     "execution_count": 23,
     "metadata": {},
     "output_type": "execute_result"
    }
   ],
   "source": [
    "df['Part 1-2'].value_counts()"
   ]
  },
  {
   "cell_type": "code",
   "execution_count": 24,
   "id": "34e0a588",
   "metadata": {
    "execution": {
     "iopub.execute_input": "2024-06-28T11:06:33.301705Z",
     "iopub.status.busy": "2024-06-28T11:06:33.301312Z",
     "iopub.status.idle": "2024-06-28T11:06:33.323692Z",
     "shell.execute_reply": "2024-06-28T11:06:33.322850Z"
    },
    "papermill": {
     "duration": 0.04879,
     "end_time": "2024-06-28T11:06:33.326104",
     "exception": false,
     "start_time": "2024-06-28T11:06:33.277314",
     "status": "completed"
    },
    "tags": []
   },
   "outputs": [],
   "source": [
    "df.loc[:,'Part 1-2']=df['Part 1-2'].apply(lambda x: int(x))"
   ]
  },
  {
   "cell_type": "code",
   "execution_count": 25,
   "id": "40f6703c",
   "metadata": {
    "execution": {
     "iopub.execute_input": "2024-06-28T11:06:33.373293Z",
     "iopub.status.busy": "2024-06-28T11:06:33.372485Z",
     "iopub.status.idle": "2024-06-28T11:06:33.394954Z",
     "shell.execute_reply": "2024-06-28T11:06:33.393921Z"
    },
    "papermill": {
     "duration": 0.048516,
     "end_time": "2024-06-28T11:06:33.397125",
     "exception": false,
     "start_time": "2024-06-28T11:06:33.348609",
     "status": "completed"
    },
    "tags": []
   },
   "outputs": [],
   "source": [
    "df.loc[:,'Victim_Age']=df['Victim_Age'].apply(lambda x: int(x))"
   ]
  },
  {
   "cell_type": "code",
   "execution_count": 26,
   "id": "2ba61141",
   "metadata": {
    "execution": {
     "iopub.execute_input": "2024-06-28T11:06:33.444277Z",
     "iopub.status.busy": "2024-06-28T11:06:33.443593Z",
     "iopub.status.idle": "2024-06-28T11:06:33.452226Z",
     "shell.execute_reply": "2024-06-28T11:06:33.451219Z"
    },
    "papermill": {
     "duration": 0.034603,
     "end_time": "2024-06-28T11:06:33.454480",
     "exception": false,
     "start_time": "2024-06-28T11:06:33.419877",
     "status": "completed"
    },
    "tags": []
   },
   "outputs": [
    {
     "name": "stderr",
     "output_type": "stream",
     "text": [
      "/tmp/ipykernel_18/876014097.py:1: SettingWithCopyWarning: \n",
      "A value is trying to be set on a copy of a slice from a DataFrame\n",
      "\n",
      "See the caveats in the documentation: https://pandas.pydata.org/pandas-docs/stable/user_guide/indexing.html#returning-a-view-versus-a-copy\n",
      "  df.drop('max_activity',axis=1,inplace=True)\n"
     ]
    }
   ],
   "source": [
    "df.drop('max_activity',axis=1,inplace=True)"
   ]
  },
  {
   "cell_type": "code",
   "execution_count": 27,
   "id": "f94c1860",
   "metadata": {
    "execution": {
     "iopub.execute_input": "2024-06-28T11:06:33.499962Z",
     "iopub.status.busy": "2024-06-28T11:06:33.498932Z",
     "iopub.status.idle": "2024-06-28T11:06:33.509948Z",
     "shell.execute_reply": "2024-06-28T11:06:33.508955Z"
    },
    "papermill": {
     "duration": 0.036197,
     "end_time": "2024-06-28T11:06:33.512298",
     "exception": false,
     "start_time": "2024-06-28T11:06:33.476101",
     "status": "completed"
    },
    "tags": []
   },
   "outputs": [],
   "source": [
    "\n",
    "df.loc[df['Weapon_Description'] == 'STRONG-ARM (HANDS, FIST, FEET OR BODILY FORCE)', 'Weapon_Description'] = 'Physical Force'\n"
   ]
  },
  {
   "cell_type": "code",
   "execution_count": 28,
   "id": "21cde4d0",
   "metadata": {
    "execution": {
     "iopub.execute_input": "2024-06-28T11:06:33.558895Z",
     "iopub.status.busy": "2024-06-28T11:06:33.558467Z",
     "iopub.status.idle": "2024-06-28T11:06:33.631056Z",
     "shell.execute_reply": "2024-06-28T11:06:33.629493Z"
    },
    "papermill": {
     "duration": 0.099216,
     "end_time": "2024-06-28T11:06:33.633968",
     "exception": false,
     "start_time": "2024-06-28T11:06:33.534752",
     "status": "completed"
    },
    "tags": []
   },
   "outputs": [],
   "source": [
    "\n",
    "def gun(s):\n",
    "    t=s.replace('/',' ')\n",
    "    listt=t.split(' ' or '/')\n",
    "    gun_keywords=['gun','pistol','revolver','rifle','shotgun']\n",
    "    \n",
    "    sharp_heavy_object=['blade','stone','knife','metal','screwdriver','cleaver', 'glass','machete' ,'iron' , 'cutting','axe' ,'instrument','hammer','weapon','object','bottle','weapons','brass','scissors']\n",
    "    \n",
    "    other_weapon = ['bomb','threat', 'demand', 'poison', 'ice', 'scalding', 'board','block' ,'brick', 'stick', 'bat', 'spray']\n",
    "    \n",
    "    physical_presence=['physical','presence']\n",
    "    \n",
    "    fire=['firearm' , 'fire' ]\n",
    "\n",
    "    for i in listt:\n",
    "        if i.lower() in gun_keywords:\n",
    "            return 'Gun'\n",
    "        elif i.lower() in sharp_heavy_object:\n",
    "            return 'sharp_heavy_object'\n",
    "        \n",
    "        elif i.lower() in fire:\n",
    "            return 'fire'\n",
    "        elif i.lower() in other_weapon:\n",
    "            return 'other_weapon'\n",
    "        elif i.lower() in physical_presence:\n",
    "            return 'Physical Force'\n",
    "        \n",
    "    return s\n",
    "    \n",
    "\n",
    "\n",
    "\n",
    "df.loc[:,'Weapon_Description']=df['Weapon_Description'].apply(gun)"
   ]
  },
  {
   "cell_type": "code",
   "execution_count": 29,
   "id": "decfdafd",
   "metadata": {
    "execution": {
     "iopub.execute_input": "2024-06-28T11:06:33.683125Z",
     "iopub.status.busy": "2024-06-28T11:06:33.682764Z",
     "iopub.status.idle": "2024-06-28T11:06:33.690545Z",
     "shell.execute_reply": "2024-06-28T11:06:33.689560Z"
    },
    "papermill": {
     "duration": 0.033434,
     "end_time": "2024-06-28T11:06:33.692814",
     "exception": false,
     "start_time": "2024-06-28T11:06:33.659380",
     "status": "completed"
    },
    "tags": []
   },
   "outputs": [
    {
     "data": {
      "text/plain": [
       "217"
      ]
     },
     "execution_count": 29,
     "metadata": {},
     "output_type": "execute_result"
    }
   ],
   "source": [
    "len(df['Premise_Code'].value_counts())"
   ]
  },
  {
   "cell_type": "code",
   "execution_count": 30,
   "id": "7e8d39c5",
   "metadata": {
    "execution": {
     "iopub.execute_input": "2024-06-28T11:06:33.739361Z",
     "iopub.status.busy": "2024-06-28T11:06:33.738698Z",
     "iopub.status.idle": "2024-06-28T11:06:33.746139Z",
     "shell.execute_reply": "2024-06-28T11:06:33.745210Z"
    },
    "papermill": {
     "duration": 0.034189,
     "end_time": "2024-06-28T11:06:33.749174",
     "exception": false,
     "start_time": "2024-06-28T11:06:33.714985",
     "status": "completed"
    },
    "tags": []
   },
   "outputs": [
    {
     "data": {
      "text/plain": [
       "21"
      ]
     },
     "execution_count": 30,
     "metadata": {},
     "output_type": "execute_result"
    }
   ],
   "source": [
    "len(df['Area_ID'].value_counts())"
   ]
  },
  {
   "cell_type": "code",
   "execution_count": 31,
   "id": "56c40173",
   "metadata": {
    "execution": {
     "iopub.execute_input": "2024-06-28T11:06:33.807550Z",
     "iopub.status.busy": "2024-06-28T11:06:33.806858Z",
     "iopub.status.idle": "2024-06-28T11:06:33.814209Z",
     "shell.execute_reply": "2024-06-28T11:06:33.813068Z"
    },
    "papermill": {
     "duration": 0.042789,
     "end_time": "2024-06-28T11:06:33.817458",
     "exception": false,
     "start_time": "2024-06-28T11:06:33.774669",
     "status": "completed"
    },
    "tags": []
   },
   "outputs": [],
   "source": [
    "numeric_columns=[['Latitude','Longitude','reporting_delay_day_count','Victim_Age']]\n",
    "categorical_columns=[['day_category','Victim_Sex','Victim_Descent','Premise_Code','Area_ID','Part 1-2','Status']] #ohe\n",
    "multilabel_binarizer=[['Modus_Operandi']] \n"
   ]
  },
  {
   "cell_type": "code",
   "execution_count": 32,
   "id": "c0ce1955",
   "metadata": {
    "execution": {
     "iopub.execute_input": "2024-06-28T11:06:33.874115Z",
     "iopub.status.busy": "2024-06-28T11:06:33.873732Z",
     "iopub.status.idle": "2024-06-28T11:06:33.881646Z",
     "shell.execute_reply": "2024-06-28T11:06:33.880617Z"
    },
    "papermill": {
     "duration": 0.034616,
     "end_time": "2024-06-28T11:06:33.884171",
     "exception": false,
     "start_time": "2024-06-28T11:06:33.849555",
     "status": "completed"
    },
    "tags": []
   },
   "outputs": [
    {
     "name": "stderr",
     "output_type": "stream",
     "text": [
      "/tmp/ipykernel_18/448365884.py:3: SettingWithCopyWarning: \n",
      "A value is trying to be set on a copy of a slice from a DataFrame\n",
      "\n",
      "See the caveats in the documentation: https://pandas.pydata.org/pandas-docs/stable/user_guide/indexing.html#returning-a-view-versus-a-copy\n",
      "  df.drop('Crime_Category',axis=1,inplace=True)\n"
     ]
    }
   ],
   "source": [
    "y=df['Crime_Category']\n",
    "\n",
    "df.drop('Crime_Category',axis=1,inplace=True)"
   ]
  },
  {
   "cell_type": "code",
   "execution_count": 33,
   "id": "a5afc1f8",
   "metadata": {
    "execution": {
     "iopub.execute_input": "2024-06-28T11:06:33.931229Z",
     "iopub.status.busy": "2024-06-28T11:06:33.930488Z",
     "iopub.status.idle": "2024-06-28T11:06:33.938232Z",
     "shell.execute_reply": "2024-06-28T11:06:33.937301Z"
    },
    "papermill": {
     "duration": 0.034017,
     "end_time": "2024-06-28T11:06:33.940676",
     "exception": false,
     "start_time": "2024-06-28T11:06:33.906659",
     "status": "completed"
    },
    "tags": []
   },
   "outputs": [
    {
     "name": "stderr",
     "output_type": "stream",
     "text": [
      "/tmp/ipykernel_18/1308723833.py:1: SettingWithCopyWarning: \n",
      "A value is trying to be set on a copy of a slice from a DataFrame\n",
      "\n",
      "See the caveats in the documentation: https://pandas.pydata.org/pandas-docs/stable/user_guide/indexing.html#returning-a-view-versus-a-copy\n",
      "  df.drop('Premise_Code',axis=1,inplace=True)\n"
     ]
    }
   ],
   "source": [
    "df.drop('Premise_Code',axis=1,inplace=True)"
   ]
  },
  {
   "cell_type": "code",
   "execution_count": 34,
   "id": "9f1f1939",
   "metadata": {
    "execution": {
     "iopub.execute_input": "2024-06-28T11:06:33.986899Z",
     "iopub.status.busy": "2024-06-28T11:06:33.986514Z",
     "iopub.status.idle": "2024-06-28T11:06:34.024634Z",
     "shell.execute_reply": "2024-06-28T11:06:34.023674Z"
    },
    "papermill": {
     "duration": 0.063611,
     "end_time": "2024-06-28T11:06:34.026784",
     "exception": false,
     "start_time": "2024-06-28T11:06:33.963173",
     "status": "completed"
    },
    "tags": []
   },
   "outputs": [],
   "source": [
    "from sklearn.model_selection import train_test_split\n",
    "\n",
    "xtrain, xtest ,ytrain , ytest= train_test_split(df , y , test_size=0.2 , random_state=42 , shuffle=True ,stratify = y  )"
   ]
  },
  {
   "cell_type": "code",
   "execution_count": 35,
   "id": "21340874",
   "metadata": {
    "execution": {
     "iopub.execute_input": "2024-06-28T11:06:34.071986Z",
     "iopub.status.busy": "2024-06-28T11:06:34.071117Z",
     "iopub.status.idle": "2024-06-28T11:06:34.076765Z",
     "shell.execute_reply": "2024-06-28T11:06:34.075860Z"
    },
    "papermill": {
     "duration": 0.030651,
     "end_time": "2024-06-28T11:06:34.079048",
     "exception": false,
     "start_time": "2024-06-28T11:06:34.048397",
     "status": "completed"
    },
    "tags": []
   },
   "outputs": [
    {
     "name": "stdout",
     "output_type": "stream",
     "text": [
      "(16000, 12)\n",
      "(16000,)\n",
      "(4000, 12)\n",
      "(4000,)\n"
     ]
    }
   ],
   "source": [
    "print(xtrain.shape) \n",
    "print(ytrain.shape)\n",
    "print(xtest.shape)\n",
    "print(ytest.shape)"
   ]
  },
  {
   "cell_type": "code",
   "execution_count": 36,
   "id": "05e7a487",
   "metadata": {
    "execution": {
     "iopub.execute_input": "2024-06-28T11:06:34.123925Z",
     "iopub.status.busy": "2024-06-28T11:06:34.123589Z",
     "iopub.status.idle": "2024-06-28T11:06:34.194085Z",
     "shell.execute_reply": "2024-06-28T11:06:34.193166Z"
    },
    "papermill": {
     "duration": 0.095561,
     "end_time": "2024-06-28T11:06:34.196407",
     "exception": false,
     "start_time": "2024-06-28T11:06:34.100846",
     "status": "completed"
    },
    "tags": []
   },
   "outputs": [
    {
     "name": "stdout",
     "output_type": "stream",
     "text": [
      "Dummy train score 0.5833125\n",
      "Dummy predicted train score 1.0\n",
      "Dummy test score 0.58325\n",
      "Dummy predicted test score 1.0\n"
     ]
    }
   ],
   "source": [
    "from sklearn.dummy import DummyClassifier\n",
    "\n",
    "dummy_clf=DummyClassifier(random_state=42 , strategy=\"most_frequent\")\n",
    "dummy_clf.fit(xtrain, ytrain)\n",
    "print('Dummy train score', dummy_clf.score(ytrain,ytrain))\n",
    "print('Dummy predicted train score', dummy_clf.score(xtrain,dummy_clf.predict(xtrain)))\n",
    "\n",
    "print('Dummy test score', dummy_clf.score(xtest, ytest))\n",
    "\n",
    "print('Dummy predicted test score', dummy_clf.score(xtest, dummy_clf.predict(xtest)))"
   ]
  },
  {
   "cell_type": "markdown",
   "id": "5fe7823d",
   "metadata": {
    "papermill": {
     "duration": 0.021564,
     "end_time": "2024-06-28T11:06:34.239607",
     "exception": false,
     "start_time": "2024-06-28T11:06:34.218043",
     "status": "completed"
    },
    "tags": []
   },
   "source": [
    "Logistic "
   ]
  },
  {
   "cell_type": "code",
   "execution_count": 37,
   "id": "6c0fb67a",
   "metadata": {
    "execution": {
     "iopub.execute_input": "2024-06-28T11:06:34.285824Z",
     "iopub.status.busy": "2024-06-28T11:06:34.285441Z",
     "iopub.status.idle": "2024-06-28T11:06:34.313465Z",
     "shell.execute_reply": "2024-06-28T11:06:34.312224Z"
    },
    "papermill": {
     "duration": 0.054773,
     "end_time": "2024-06-28T11:06:34.316142",
     "exception": false,
     "start_time": "2024-06-28T11:06:34.261369",
     "status": "completed"
    },
    "tags": []
   },
   "outputs": [
    {
     "name": "stdout",
     "output_type": "stream",
     "text": [
      "<class 'pandas.core.frame.DataFrame'>\n",
      "RangeIndex: 20000 entries, 0 to 19999\n",
      "Data columns (total 12 columns):\n",
      " #   Column                     Non-Null Count  Dtype  \n",
      "---  ------                     --------------  -----  \n",
      " 0   Latitude                   20000 non-null  float64\n",
      " 1   Longitude                  20000 non-null  float64\n",
      " 2   reporting_delay_day_count  20000 non-null  int64  \n",
      " 3   day_category               20000 non-null  object \n",
      " 4   Victim_Age                 20000 non-null  float64\n",
      " 5   Victim_Sex                 20000 non-null  object \n",
      " 6   Victim_Descent             20000 non-null  object \n",
      " 7   Weapon_Description         20000 non-null  object \n",
      " 8   Area_ID                    20000 non-null  float64\n",
      " 9   Modus_Operandi             20000 non-null  object \n",
      " 10  Part 1-2                   20000 non-null  float64\n",
      " 11  Status                     20000 non-null  object \n",
      "dtypes: float64(5), int64(1), object(6)\n",
      "memory usage: 1.8+ MB\n"
     ]
    }
   ],
   "source": [
    "df.info()"
   ]
  },
  {
   "cell_type": "code",
   "execution_count": 38,
   "id": "a37b9abf",
   "metadata": {
    "execution": {
     "iopub.execute_input": "2024-06-28T11:06:34.362828Z",
     "iopub.status.busy": "2024-06-28T11:06:34.362432Z",
     "iopub.status.idle": "2024-06-28T11:06:34.452264Z",
     "shell.execute_reply": "2024-06-28T11:06:34.451311Z"
    },
    "papermill": {
     "duration": 0.115776,
     "end_time": "2024-06-28T11:06:34.454804",
     "exception": false,
     "start_time": "2024-06-28T11:06:34.339028",
     "status": "completed"
    },
    "tags": []
   },
   "outputs": [],
   "source": [
    "from sklearn.linear_model import LogisticRegression,LogisticRegressionCV\n",
    "from sklearn.pipeline import Pipeline\n",
    "from sklearn.compose import ColumnTransformer"
   ]
  },
  {
   "cell_type": "code",
   "execution_count": 39,
   "id": "afbb2b5e",
   "metadata": {
    "execution": {
     "iopub.execute_input": "2024-06-28T11:06:34.500469Z",
     "iopub.status.busy": "2024-06-28T11:06:34.499847Z",
     "iopub.status.idle": "2024-06-28T11:06:34.506219Z",
     "shell.execute_reply": "2024-06-28T11:06:34.505316Z"
    },
    "papermill": {
     "duration": 0.031678,
     "end_time": "2024-06-28T11:06:34.508311",
     "exception": false,
     "start_time": "2024-06-28T11:06:34.476633",
     "status": "completed"
    },
    "tags": []
   },
   "outputs": [],
   "source": [
    "from sklearn.base import BaseEstimator, TransformerMixin\n",
    "from sklearn.preprocessing import MultiLabelBinarizer\n",
    "\n",
    "class MultiLabelBinarizerWrapper(BaseEstimator, TransformerMixin):\n",
    "    def __init__(self):\n",
    "        self.mlb = MultiLabelBinarizer()\n",
    "\n",
    "    def fit(self, X, y=None):\n",
    "        self.mlb.fit(X)\n",
    "        return self\n",
    "\n",
    "    def transform(self, X):\n",
    "        return self.mlb.transform(X)"
   ]
  },
  {
   "cell_type": "code",
   "execution_count": 40,
   "id": "49e7421e",
   "metadata": {
    "execution": {
     "iopub.execute_input": "2024-06-28T11:06:34.552841Z",
     "iopub.status.busy": "2024-06-28T11:06:34.552519Z",
     "iopub.status.idle": "2024-06-28T11:06:34.568359Z",
     "shell.execute_reply": "2024-06-28T11:06:34.567430Z"
    },
    "papermill": {
     "duration": 0.040473,
     "end_time": "2024-06-28T11:06:34.570540",
     "exception": false,
     "start_time": "2024-06-28T11:06:34.530067",
     "status": "completed"
    },
    "tags": []
   },
   "outputs": [],
   "source": [
    "\n",
    "from sklearn.preprocessing import StandardScaler , OneHotEncoder  , MultiLabelBinarizer\n",
    "from sklearn.feature_extraction.text import CountVectorizer\n",
    "ct=ColumnTransformer(transformers=[\n",
    "    \n",
    "    ('numerical_cols' , StandardScaler(),['Latitude','Longitude','reporting_delay_day_count','Victim_Age']),\n",
    "    ('categorical_cols' , OneHotEncoder(handle_unknown='ignore'),['day_category','Victim_Sex','Victim_Descent','Part 1-2','Area_ID','Status','Weapon_Description']),\n",
    "    ('multi_label_binarizer', MultiLabelBinarizerWrapper(), 'Modus_Operandi')\n",
    "])\n",
    "    "
   ]
  },
  {
   "cell_type": "code",
   "execution_count": 41,
   "id": "7bd54e4c",
   "metadata": {
    "execution": {
     "iopub.execute_input": "2024-06-28T11:06:34.615616Z",
     "iopub.status.busy": "2024-06-28T11:06:34.615241Z",
     "iopub.status.idle": "2024-06-28T11:06:34.623036Z",
     "shell.execute_reply": "2024-06-28T11:06:34.622056Z"
    },
    "papermill": {
     "duration": 0.032474,
     "end_time": "2024-06-28T11:06:34.625126",
     "exception": false,
     "start_time": "2024-06-28T11:06:34.592652",
     "status": "completed"
    },
    "tags": []
   },
   "outputs": [
    {
     "data": {
      "text/plain": [
       "21"
      ]
     },
     "execution_count": 41,
     "metadata": {},
     "output_type": "execute_result"
    }
   ],
   "source": [
    "len(df['Area_ID'].value_counts())"
   ]
  },
  {
   "cell_type": "code",
   "execution_count": 42,
   "id": "7e3baae4",
   "metadata": {
    "execution": {
     "iopub.execute_input": "2024-06-28T11:06:34.672410Z",
     "iopub.status.busy": "2024-06-28T11:06:34.671243Z",
     "iopub.status.idle": "2024-06-28T11:06:34.676844Z",
     "shell.execute_reply": "2024-06-28T11:06:34.675989Z"
    },
    "papermill": {
     "duration": 0.031407,
     "end_time": "2024-06-28T11:06:34.679046",
     "exception": false,
     "start_time": "2024-06-28T11:06:34.647639",
     "status": "completed"
    },
    "tags": []
   },
   "outputs": [],
   "source": [
    "pipe_logistic = Pipeline(steps=[('ct',ct),('logistic_reg',LogisticRegression(solver='saga',C=0.1,warm_start=True, max_iter=1500 ,random_state=42))])"
   ]
  },
  {
   "cell_type": "code",
   "execution_count": 43,
   "id": "eb8bbb91",
   "metadata": {
    "execution": {
     "iopub.execute_input": "2024-06-28T11:06:34.725504Z",
     "iopub.status.busy": "2024-06-28T11:06:34.725021Z",
     "iopub.status.idle": "2024-06-28T11:06:34.729470Z",
     "shell.execute_reply": "2024-06-28T11:06:34.728540Z"
    },
    "papermill": {
     "duration": 0.029922,
     "end_time": "2024-06-28T11:06:34.731479",
     "exception": false,
     "start_time": "2024-06-28T11:06:34.701557",
     "status": "completed"
    },
    "tags": []
   },
   "outputs": [],
   "source": [
    "# pipe_logistic_sag = Pipeline(steps=[('ct',ct),('logistic_reg',LogisticRegressionCV(solver='sag',penalty='l2',multi_class='ovr', max_iter=2000 ,random_state=42))])\n",
    "\n",
    "# pipe_logistic_sag.fit(xtrain,ytrain)\n",
    "\n",
    "# pipe_logistic_sag.score(xtest,ytest)"
   ]
  },
  {
   "cell_type": "code",
   "execution_count": 44,
   "id": "90aabf2e",
   "metadata": {
    "execution": {
     "iopub.execute_input": "2024-06-28T11:06:34.778975Z",
     "iopub.status.busy": "2024-06-28T11:06:34.778638Z",
     "iopub.status.idle": "2024-06-28T11:06:52.245593Z",
     "shell.execute_reply": "2024-06-28T11:06:52.244553Z"
    },
    "papermill": {
     "duration": 17.492815,
     "end_time": "2024-06-28T11:06:52.247830",
     "exception": false,
     "start_time": "2024-06-28T11:06:34.755015",
     "status": "completed"
    },
    "tags": []
   },
   "outputs": [
    {
     "data": {
      "text/html": [
       "<style>#sk-container-id-1 {color: black;background-color: white;}#sk-container-id-1 pre{padding: 0;}#sk-container-id-1 div.sk-toggleable {background-color: white;}#sk-container-id-1 label.sk-toggleable__label {cursor: pointer;display: block;width: 100%;margin-bottom: 0;padding: 0.3em;box-sizing: border-box;text-align: center;}#sk-container-id-1 label.sk-toggleable__label-arrow:before {content: \"▸\";float: left;margin-right: 0.25em;color: #696969;}#sk-container-id-1 label.sk-toggleable__label-arrow:hover:before {color: black;}#sk-container-id-1 div.sk-estimator:hover label.sk-toggleable__label-arrow:before {color: black;}#sk-container-id-1 div.sk-toggleable__content {max-height: 0;max-width: 0;overflow: hidden;text-align: left;background-color: #f0f8ff;}#sk-container-id-1 div.sk-toggleable__content pre {margin: 0.2em;color: black;border-radius: 0.25em;background-color: #f0f8ff;}#sk-container-id-1 input.sk-toggleable__control:checked~div.sk-toggleable__content {max-height: 200px;max-width: 100%;overflow: auto;}#sk-container-id-1 input.sk-toggleable__control:checked~label.sk-toggleable__label-arrow:before {content: \"▾\";}#sk-container-id-1 div.sk-estimator input.sk-toggleable__control:checked~label.sk-toggleable__label {background-color: #d4ebff;}#sk-container-id-1 div.sk-label input.sk-toggleable__control:checked~label.sk-toggleable__label {background-color: #d4ebff;}#sk-container-id-1 input.sk-hidden--visually {border: 0;clip: rect(1px 1px 1px 1px);clip: rect(1px, 1px, 1px, 1px);height: 1px;margin: -1px;overflow: hidden;padding: 0;position: absolute;width: 1px;}#sk-container-id-1 div.sk-estimator {font-family: monospace;background-color: #f0f8ff;border: 1px dotted black;border-radius: 0.25em;box-sizing: border-box;margin-bottom: 0.5em;}#sk-container-id-1 div.sk-estimator:hover {background-color: #d4ebff;}#sk-container-id-1 div.sk-parallel-item::after {content: \"\";width: 100%;border-bottom: 1px solid gray;flex-grow: 1;}#sk-container-id-1 div.sk-label:hover label.sk-toggleable__label {background-color: #d4ebff;}#sk-container-id-1 div.sk-serial::before {content: \"\";position: absolute;border-left: 1px solid gray;box-sizing: border-box;top: 0;bottom: 0;left: 50%;z-index: 0;}#sk-container-id-1 div.sk-serial {display: flex;flex-direction: column;align-items: center;background-color: white;padding-right: 0.2em;padding-left: 0.2em;position: relative;}#sk-container-id-1 div.sk-item {position: relative;z-index: 1;}#sk-container-id-1 div.sk-parallel {display: flex;align-items: stretch;justify-content: center;background-color: white;position: relative;}#sk-container-id-1 div.sk-item::before, #sk-container-id-1 div.sk-parallel-item::before {content: \"\";position: absolute;border-left: 1px solid gray;box-sizing: border-box;top: 0;bottom: 0;left: 50%;z-index: -1;}#sk-container-id-1 div.sk-parallel-item {display: flex;flex-direction: column;z-index: 1;position: relative;background-color: white;}#sk-container-id-1 div.sk-parallel-item:first-child::after {align-self: flex-end;width: 50%;}#sk-container-id-1 div.sk-parallel-item:last-child::after {align-self: flex-start;width: 50%;}#sk-container-id-1 div.sk-parallel-item:only-child::after {width: 0;}#sk-container-id-1 div.sk-dashed-wrapped {border: 1px dashed gray;margin: 0 0.4em 0.5em 0.4em;box-sizing: border-box;padding-bottom: 0.4em;background-color: white;}#sk-container-id-1 div.sk-label label {font-family: monospace;font-weight: bold;display: inline-block;line-height: 1.2em;}#sk-container-id-1 div.sk-label-container {text-align: center;}#sk-container-id-1 div.sk-container {/* jupyter's `normalize.less` sets `[hidden] { display: none; }` but bootstrap.min.css set `[hidden] { display: none !important; }` so we also need the `!important` here to be able to override the default hidden behavior on the sphinx rendered scikit-learn.org. See: https://github.com/scikit-learn/scikit-learn/issues/21755 */display: inline-block !important;position: relative;}#sk-container-id-1 div.sk-text-repr-fallback {display: none;}</style><div id=\"sk-container-id-1\" class=\"sk-top-container\"><div class=\"sk-text-repr-fallback\"><pre>Pipeline(steps=[(&#x27;ct&#x27;,\n",
       "                 ColumnTransformer(transformers=[(&#x27;numerical_cols&#x27;,\n",
       "                                                  StandardScaler(),\n",
       "                                                  [&#x27;Latitude&#x27;, &#x27;Longitude&#x27;,\n",
       "                                                   &#x27;reporting_delay_day_count&#x27;,\n",
       "                                                   &#x27;Victim_Age&#x27;]),\n",
       "                                                 (&#x27;categorical_cols&#x27;,\n",
       "                                                  OneHotEncoder(handle_unknown=&#x27;ignore&#x27;),\n",
       "                                                  [&#x27;day_category&#x27;, &#x27;Victim_Sex&#x27;,\n",
       "                                                   &#x27;Victim_Descent&#x27;, &#x27;Part 1-2&#x27;,\n",
       "                                                   &#x27;Area_ID&#x27;, &#x27;Status&#x27;,\n",
       "                                                   &#x27;Weapon_Description&#x27;]),\n",
       "                                                 (&#x27;multi_label_binarizer&#x27;,\n",
       "                                                  MultiLabelBinarizerWrapper(),\n",
       "                                                  &#x27;Modus_Operandi&#x27;)])),\n",
       "                (&#x27;logistic_reg&#x27;,\n",
       "                 LogisticRegression(C=0.1, max_iter=1500, random_state=42,\n",
       "                                    solver=&#x27;saga&#x27;, warm_start=True))])</pre><b>In a Jupyter environment, please rerun this cell to show the HTML representation or trust the notebook. <br />On GitHub, the HTML representation is unable to render, please try loading this page with nbviewer.org.</b></div><div class=\"sk-container\" hidden><div class=\"sk-item sk-dashed-wrapped\"><div class=\"sk-label-container\"><div class=\"sk-label sk-toggleable\"><input class=\"sk-toggleable__control sk-hidden--visually\" id=\"sk-estimator-id-1\" type=\"checkbox\" ><label for=\"sk-estimator-id-1\" class=\"sk-toggleable__label sk-toggleable__label-arrow\">Pipeline</label><div class=\"sk-toggleable__content\"><pre>Pipeline(steps=[(&#x27;ct&#x27;,\n",
       "                 ColumnTransformer(transformers=[(&#x27;numerical_cols&#x27;,\n",
       "                                                  StandardScaler(),\n",
       "                                                  [&#x27;Latitude&#x27;, &#x27;Longitude&#x27;,\n",
       "                                                   &#x27;reporting_delay_day_count&#x27;,\n",
       "                                                   &#x27;Victim_Age&#x27;]),\n",
       "                                                 (&#x27;categorical_cols&#x27;,\n",
       "                                                  OneHotEncoder(handle_unknown=&#x27;ignore&#x27;),\n",
       "                                                  [&#x27;day_category&#x27;, &#x27;Victim_Sex&#x27;,\n",
       "                                                   &#x27;Victim_Descent&#x27;, &#x27;Part 1-2&#x27;,\n",
       "                                                   &#x27;Area_ID&#x27;, &#x27;Status&#x27;,\n",
       "                                                   &#x27;Weapon_Description&#x27;]),\n",
       "                                                 (&#x27;multi_label_binarizer&#x27;,\n",
       "                                                  MultiLabelBinarizerWrapper(),\n",
       "                                                  &#x27;Modus_Operandi&#x27;)])),\n",
       "                (&#x27;logistic_reg&#x27;,\n",
       "                 LogisticRegression(C=0.1, max_iter=1500, random_state=42,\n",
       "                                    solver=&#x27;saga&#x27;, warm_start=True))])</pre></div></div></div><div class=\"sk-serial\"><div class=\"sk-item sk-dashed-wrapped\"><div class=\"sk-label-container\"><div class=\"sk-label sk-toggleable\"><input class=\"sk-toggleable__control sk-hidden--visually\" id=\"sk-estimator-id-2\" type=\"checkbox\" ><label for=\"sk-estimator-id-2\" class=\"sk-toggleable__label sk-toggleable__label-arrow\">ct: ColumnTransformer</label><div class=\"sk-toggleable__content\"><pre>ColumnTransformer(transformers=[(&#x27;numerical_cols&#x27;, StandardScaler(),\n",
       "                                 [&#x27;Latitude&#x27;, &#x27;Longitude&#x27;,\n",
       "                                  &#x27;reporting_delay_day_count&#x27;, &#x27;Victim_Age&#x27;]),\n",
       "                                (&#x27;categorical_cols&#x27;,\n",
       "                                 OneHotEncoder(handle_unknown=&#x27;ignore&#x27;),\n",
       "                                 [&#x27;day_category&#x27;, &#x27;Victim_Sex&#x27;,\n",
       "                                  &#x27;Victim_Descent&#x27;, &#x27;Part 1-2&#x27;, &#x27;Area_ID&#x27;,\n",
       "                                  &#x27;Status&#x27;, &#x27;Weapon_Description&#x27;]),\n",
       "                                (&#x27;multi_label_binarizer&#x27;,\n",
       "                                 MultiLabelBinarizerWrapper(),\n",
       "                                 &#x27;Modus_Operandi&#x27;)])</pre></div></div></div><div class=\"sk-parallel\"><div class=\"sk-parallel-item\"><div class=\"sk-item\"><div class=\"sk-label-container\"><div class=\"sk-label sk-toggleable\"><input class=\"sk-toggleable__control sk-hidden--visually\" id=\"sk-estimator-id-3\" type=\"checkbox\" ><label for=\"sk-estimator-id-3\" class=\"sk-toggleable__label sk-toggleable__label-arrow\">numerical_cols</label><div class=\"sk-toggleable__content\"><pre>[&#x27;Latitude&#x27;, &#x27;Longitude&#x27;, &#x27;reporting_delay_day_count&#x27;, &#x27;Victim_Age&#x27;]</pre></div></div></div><div class=\"sk-serial\"><div class=\"sk-item\"><div class=\"sk-estimator sk-toggleable\"><input class=\"sk-toggleable__control sk-hidden--visually\" id=\"sk-estimator-id-4\" type=\"checkbox\" ><label for=\"sk-estimator-id-4\" class=\"sk-toggleable__label sk-toggleable__label-arrow\">StandardScaler</label><div class=\"sk-toggleable__content\"><pre>StandardScaler()</pre></div></div></div></div></div></div><div class=\"sk-parallel-item\"><div class=\"sk-item\"><div class=\"sk-label-container\"><div class=\"sk-label sk-toggleable\"><input class=\"sk-toggleable__control sk-hidden--visually\" id=\"sk-estimator-id-5\" type=\"checkbox\" ><label for=\"sk-estimator-id-5\" class=\"sk-toggleable__label sk-toggleable__label-arrow\">categorical_cols</label><div class=\"sk-toggleable__content\"><pre>[&#x27;day_category&#x27;, &#x27;Victim_Sex&#x27;, &#x27;Victim_Descent&#x27;, &#x27;Part 1-2&#x27;, &#x27;Area_ID&#x27;, &#x27;Status&#x27;, &#x27;Weapon_Description&#x27;]</pre></div></div></div><div class=\"sk-serial\"><div class=\"sk-item\"><div class=\"sk-estimator sk-toggleable\"><input class=\"sk-toggleable__control sk-hidden--visually\" id=\"sk-estimator-id-6\" type=\"checkbox\" ><label for=\"sk-estimator-id-6\" class=\"sk-toggleable__label sk-toggleable__label-arrow\">OneHotEncoder</label><div class=\"sk-toggleable__content\"><pre>OneHotEncoder(handle_unknown=&#x27;ignore&#x27;)</pre></div></div></div></div></div></div><div class=\"sk-parallel-item\"><div class=\"sk-item\"><div class=\"sk-label-container\"><div class=\"sk-label sk-toggleable\"><input class=\"sk-toggleable__control sk-hidden--visually\" id=\"sk-estimator-id-7\" type=\"checkbox\" ><label for=\"sk-estimator-id-7\" class=\"sk-toggleable__label sk-toggleable__label-arrow\">multi_label_binarizer</label><div class=\"sk-toggleable__content\"><pre>Modus_Operandi</pre></div></div></div><div class=\"sk-serial\"><div class=\"sk-item\"><div class=\"sk-estimator sk-toggleable\"><input class=\"sk-toggleable__control sk-hidden--visually\" id=\"sk-estimator-id-8\" type=\"checkbox\" ><label for=\"sk-estimator-id-8\" class=\"sk-toggleable__label sk-toggleable__label-arrow\">MultiLabelBinarizerWrapper</label><div class=\"sk-toggleable__content\"><pre>MultiLabelBinarizerWrapper()</pre></div></div></div></div></div></div></div></div><div class=\"sk-item\"><div class=\"sk-estimator sk-toggleable\"><input class=\"sk-toggleable__control sk-hidden--visually\" id=\"sk-estimator-id-9\" type=\"checkbox\" ><label for=\"sk-estimator-id-9\" class=\"sk-toggleable__label sk-toggleable__label-arrow\">LogisticRegression</label><div class=\"sk-toggleable__content\"><pre>LogisticRegression(C=0.1, max_iter=1500, random_state=42, solver=&#x27;saga&#x27;,\n",
       "                   warm_start=True)</pre></div></div></div></div></div></div></div>"
      ],
      "text/plain": [
       "Pipeline(steps=[('ct',\n",
       "                 ColumnTransformer(transformers=[('numerical_cols',\n",
       "                                                  StandardScaler(),\n",
       "                                                  ['Latitude', 'Longitude',\n",
       "                                                   'reporting_delay_day_count',\n",
       "                                                   'Victim_Age']),\n",
       "                                                 ('categorical_cols',\n",
       "                                                  OneHotEncoder(handle_unknown='ignore'),\n",
       "                                                  ['day_category', 'Victim_Sex',\n",
       "                                                   'Victim_Descent', 'Part 1-2',\n",
       "                                                   'Area_ID', 'Status',\n",
       "                                                   'Weapon_Description']),\n",
       "                                                 ('multi_label_binarizer',\n",
       "                                                  MultiLabelBinarizerWrapper(),\n",
       "                                                  'Modus_Operandi')])),\n",
       "                ('logistic_reg',\n",
       "                 LogisticRegression(C=0.1, max_iter=1500, random_state=42,\n",
       "                                    solver='saga', warm_start=True))])"
      ]
     },
     "execution_count": 44,
     "metadata": {},
     "output_type": "execute_result"
    }
   ],
   "source": [
    "pipe_logistic.fit(xtrain,ytrain)"
   ]
  },
  {
   "cell_type": "code",
   "execution_count": 45,
   "id": "c7e5c8ad",
   "metadata": {
    "execution": {
     "iopub.execute_input": "2024-06-28T11:06:52.295597Z",
     "iopub.status.busy": "2024-06-28T11:06:52.294921Z",
     "iopub.status.idle": "2024-06-28T11:06:52.356775Z",
     "shell.execute_reply": "2024-06-28T11:06:52.355431Z"
    },
    "papermill": {
     "duration": 0.089804,
     "end_time": "2024-06-28T11:06:52.360754",
     "exception": false,
     "start_time": "2024-06-28T11:06:52.270950",
     "status": "completed"
    },
    "tags": []
   },
   "outputs": [
    {
     "data": {
      "text/plain": [
       "0.80975"
      ]
     },
     "execution_count": 45,
     "metadata": {},
     "output_type": "execute_result"
    }
   ],
   "source": [
    "pipe_logistic.score(xtest,ytest)"
   ]
  },
  {
   "cell_type": "code",
   "execution_count": 46,
   "id": "97f4641f",
   "metadata": {
    "execution": {
     "iopub.execute_input": "2024-06-28T11:06:52.460569Z",
     "iopub.status.busy": "2024-06-28T11:06:52.460209Z",
     "iopub.status.idle": "2024-06-28T11:06:52.465112Z",
     "shell.execute_reply": "2024-06-28T11:06:52.464051Z"
    },
    "papermill": {
     "duration": 0.056726,
     "end_time": "2024-06-28T11:06:52.467096",
     "exception": false,
     "start_time": "2024-06-28T11:06:52.410370",
     "status": "completed"
    },
    "tags": []
   },
   "outputs": [],
   "source": [
    "# from sklearn.metrics import make_scorer ,f1_score\n",
    "# logCV_scorer=make_scorer(f1_score , average='auto')\n",
    "# pipe_logistic_multiclass = Pipeline(steps=[('ct',ct),('logistic_reg',LogisticRegressionCV(cv=3,penalty='l2',solver='saga',multi_class='multinomial',Cs=[0.1, 0.5, 1] ,max_iter=3000 ,random_state=42))])\n",
    "\n",
    "# pipe_logistic_multiclass.fit(xtrain,ytrain)\n",
    "# pipe_logistic_multiclass.score(xtrain,ytrain)\n",
    "\n",
    "# pipe_logistic_multiclass.score(xtest,ytest)\n",
    "\n",
    "\n",
    "\n",
    "\n",
    "# # 0.81175\n"
   ]
  },
  {
   "cell_type": "code",
   "execution_count": 47,
   "id": "3ae95356",
   "metadata": {
    "execution": {
     "iopub.execute_input": "2024-06-28T11:06:52.514881Z",
     "iopub.status.busy": "2024-06-28T11:06:52.514508Z",
     "iopub.status.idle": "2024-06-28T11:06:52.519067Z",
     "shell.execute_reply": "2024-06-28T11:06:52.518088Z"
    },
    "papermill": {
     "duration": 0.03094,
     "end_time": "2024-06-28T11:06:52.521268",
     "exception": false,
     "start_time": "2024-06-28T11:06:52.490328",
     "status": "completed"
    },
    "tags": []
   },
   "outputs": [],
   "source": [
    "# from sklearn.metrics import make_scorer ,f1_score\n",
    "# logCV_scorer=make_scorer(f1_score , average='auto')\n",
    "# pipe_logistic_ovr = Pipeline(steps=[('ct',ct),('logistic_reg',LogisticRegressionCV(cv=5,penalty='l2',solver='liblinear',multi_class='ovr',Cs=[0.1, 0.5, 1] ,max_iter=2400 ,random_state=42))])\n",
    "# pipe_logistic_ovr.fit(xtrain,ytrain)\n",
    "# pipe_logistic_ovr.score(xtest,ytest)\n",
    "\n",
    "\n",
    "\n",
    "\n",
    "\n",
    "\n",
    "# # 0.805"
   ]
  },
  {
   "cell_type": "code",
   "execution_count": 48,
   "id": "6e751a91",
   "metadata": {
    "execution": {
     "iopub.execute_input": "2024-06-28T11:06:52.570536Z",
     "iopub.status.busy": "2024-06-28T11:06:52.570144Z",
     "iopub.status.idle": "2024-06-28T11:06:52.575273Z",
     "shell.execute_reply": "2024-06-28T11:06:52.574284Z"
    },
    "papermill": {
     "duration": 0.032089,
     "end_time": "2024-06-28T11:06:52.577375",
     "exception": false,
     "start_time": "2024-06-28T11:06:52.545286",
     "status": "completed"
    },
    "tags": []
   },
   "outputs": [],
   "source": [
    "# from sklearn.model_selection import GridSearchCV\n",
    "# grid_logistic_estimator=Pipeline(steps=[('ct',ct),('logistic',LogisticRegression(random_state=42,penalty='l2',multi_class='multinomial' , max_iter=2500))])\n",
    "\n",
    "# param_grid_logistic={\n",
    "    \n",
    "#     'logistic__C':[0.01 , 0.1 , 1 , 10],\n",
    "    \n",
    "#     'logistic__solver':['sag', 'saga'],\n",
    "    \n",
    "# #     'logistic__penalty':['l2'] ,\n",
    "  \n",
    "# #     'logistic__max_iter' : [1000 , 1200 , 1500]\n",
    "# }\n",
    "\n",
    "# grid_logistic=GridSearchCV(grid_logistic_estimator, param_grid=param_grid_logistic , cv=5 ,n_jobs=-1)\n",
    "\n",
    "\n",
    "# grid_logistic.fit(xtrain , ytrain)\n",
    "\n",
    "\n",
    "\n",
    "# grid_logistic.score(xtest,ytest)\n",
    "\n",
    "\n",
    "\n",
    "# # 0.81225"
   ]
  },
  {
   "cell_type": "code",
   "execution_count": 49,
   "id": "10013fce",
   "metadata": {
    "execution": {
     "iopub.execute_input": "2024-06-28T11:06:52.625885Z",
     "iopub.status.busy": "2024-06-28T11:06:52.625537Z",
     "iopub.status.idle": "2024-06-28T11:06:52.629821Z",
     "shell.execute_reply": "2024-06-28T11:06:52.628837Z"
    },
    "papermill": {
     "duration": 0.031297,
     "end_time": "2024-06-28T11:06:52.632054",
     "exception": false,
     "start_time": "2024-06-28T11:06:52.600757",
     "status": "completed"
    },
    "tags": []
   },
   "outputs": [],
   "source": [
    "# grid_logistic.best_params_\n",
    "\n",
    "\n",
    "# # {'logistic__C': 10, 'logistic__solver': 'sag'}"
   ]
  },
  {
   "cell_type": "code",
   "execution_count": 50,
   "id": "38a84bf3",
   "metadata": {
    "execution": {
     "iopub.execute_input": "2024-06-28T11:06:52.681917Z",
     "iopub.status.busy": "2024-06-28T11:06:52.681043Z",
     "iopub.status.idle": "2024-06-28T11:06:52.686512Z",
     "shell.execute_reply": "2024-06-28T11:06:52.685329Z"
    },
    "papermill": {
     "duration": 0.032387,
     "end_time": "2024-06-28T11:06:52.688712",
     "exception": false,
     "start_time": "2024-06-28T11:06:52.656325",
     "status": "completed"
    },
    "tags": []
   },
   "outputs": [],
   "source": [
    "from sklearn.svm import SVC , NuSVC\n",
    "pipe_svc=Pipeline(steps=[('ct',ct),('svc',SVC(decision_function_shape='ovr'))])"
   ]
  },
  {
   "cell_type": "code",
   "execution_count": 51,
   "id": "3901efb1",
   "metadata": {
    "execution": {
     "iopub.execute_input": "2024-06-28T11:06:52.738137Z",
     "iopub.status.busy": "2024-06-28T11:06:52.737313Z",
     "iopub.status.idle": "2024-06-28T11:07:02.042927Z",
     "shell.execute_reply": "2024-06-28T11:07:02.041910Z"
    },
    "papermill": {
     "duration": 9.332882,
     "end_time": "2024-06-28T11:07:02.045500",
     "exception": false,
     "start_time": "2024-06-28T11:06:52.712618",
     "status": "completed"
    },
    "tags": []
   },
   "outputs": [
    {
     "data": {
      "text/html": [
       "<style>#sk-container-id-2 {color: black;background-color: white;}#sk-container-id-2 pre{padding: 0;}#sk-container-id-2 div.sk-toggleable {background-color: white;}#sk-container-id-2 label.sk-toggleable__label {cursor: pointer;display: block;width: 100%;margin-bottom: 0;padding: 0.3em;box-sizing: border-box;text-align: center;}#sk-container-id-2 label.sk-toggleable__label-arrow:before {content: \"▸\";float: left;margin-right: 0.25em;color: #696969;}#sk-container-id-2 label.sk-toggleable__label-arrow:hover:before {color: black;}#sk-container-id-2 div.sk-estimator:hover label.sk-toggleable__label-arrow:before {color: black;}#sk-container-id-2 div.sk-toggleable__content {max-height: 0;max-width: 0;overflow: hidden;text-align: left;background-color: #f0f8ff;}#sk-container-id-2 div.sk-toggleable__content pre {margin: 0.2em;color: black;border-radius: 0.25em;background-color: #f0f8ff;}#sk-container-id-2 input.sk-toggleable__control:checked~div.sk-toggleable__content {max-height: 200px;max-width: 100%;overflow: auto;}#sk-container-id-2 input.sk-toggleable__control:checked~label.sk-toggleable__label-arrow:before {content: \"▾\";}#sk-container-id-2 div.sk-estimator input.sk-toggleable__control:checked~label.sk-toggleable__label {background-color: #d4ebff;}#sk-container-id-2 div.sk-label input.sk-toggleable__control:checked~label.sk-toggleable__label {background-color: #d4ebff;}#sk-container-id-2 input.sk-hidden--visually {border: 0;clip: rect(1px 1px 1px 1px);clip: rect(1px, 1px, 1px, 1px);height: 1px;margin: -1px;overflow: hidden;padding: 0;position: absolute;width: 1px;}#sk-container-id-2 div.sk-estimator {font-family: monospace;background-color: #f0f8ff;border: 1px dotted black;border-radius: 0.25em;box-sizing: border-box;margin-bottom: 0.5em;}#sk-container-id-2 div.sk-estimator:hover {background-color: #d4ebff;}#sk-container-id-2 div.sk-parallel-item::after {content: \"\";width: 100%;border-bottom: 1px solid gray;flex-grow: 1;}#sk-container-id-2 div.sk-label:hover label.sk-toggleable__label {background-color: #d4ebff;}#sk-container-id-2 div.sk-serial::before {content: \"\";position: absolute;border-left: 1px solid gray;box-sizing: border-box;top: 0;bottom: 0;left: 50%;z-index: 0;}#sk-container-id-2 div.sk-serial {display: flex;flex-direction: column;align-items: center;background-color: white;padding-right: 0.2em;padding-left: 0.2em;position: relative;}#sk-container-id-2 div.sk-item {position: relative;z-index: 1;}#sk-container-id-2 div.sk-parallel {display: flex;align-items: stretch;justify-content: center;background-color: white;position: relative;}#sk-container-id-2 div.sk-item::before, #sk-container-id-2 div.sk-parallel-item::before {content: \"\";position: absolute;border-left: 1px solid gray;box-sizing: border-box;top: 0;bottom: 0;left: 50%;z-index: -1;}#sk-container-id-2 div.sk-parallel-item {display: flex;flex-direction: column;z-index: 1;position: relative;background-color: white;}#sk-container-id-2 div.sk-parallel-item:first-child::after {align-self: flex-end;width: 50%;}#sk-container-id-2 div.sk-parallel-item:last-child::after {align-self: flex-start;width: 50%;}#sk-container-id-2 div.sk-parallel-item:only-child::after {width: 0;}#sk-container-id-2 div.sk-dashed-wrapped {border: 1px dashed gray;margin: 0 0.4em 0.5em 0.4em;box-sizing: border-box;padding-bottom: 0.4em;background-color: white;}#sk-container-id-2 div.sk-label label {font-family: monospace;font-weight: bold;display: inline-block;line-height: 1.2em;}#sk-container-id-2 div.sk-label-container {text-align: center;}#sk-container-id-2 div.sk-container {/* jupyter's `normalize.less` sets `[hidden] { display: none; }` but bootstrap.min.css set `[hidden] { display: none !important; }` so we also need the `!important` here to be able to override the default hidden behavior on the sphinx rendered scikit-learn.org. See: https://github.com/scikit-learn/scikit-learn/issues/21755 */display: inline-block !important;position: relative;}#sk-container-id-2 div.sk-text-repr-fallback {display: none;}</style><div id=\"sk-container-id-2\" class=\"sk-top-container\"><div class=\"sk-text-repr-fallback\"><pre>Pipeline(steps=[(&#x27;ct&#x27;,\n",
       "                 ColumnTransformer(transformers=[(&#x27;numerical_cols&#x27;,\n",
       "                                                  StandardScaler(),\n",
       "                                                  [&#x27;Latitude&#x27;, &#x27;Longitude&#x27;,\n",
       "                                                   &#x27;reporting_delay_day_count&#x27;,\n",
       "                                                   &#x27;Victim_Age&#x27;]),\n",
       "                                                 (&#x27;categorical_cols&#x27;,\n",
       "                                                  OneHotEncoder(handle_unknown=&#x27;ignore&#x27;),\n",
       "                                                  [&#x27;day_category&#x27;, &#x27;Victim_Sex&#x27;,\n",
       "                                                   &#x27;Victim_Descent&#x27;, &#x27;Part 1-2&#x27;,\n",
       "                                                   &#x27;Area_ID&#x27;, &#x27;Status&#x27;,\n",
       "                                                   &#x27;Weapon_Description&#x27;]),\n",
       "                                                 (&#x27;multi_label_binarizer&#x27;,\n",
       "                                                  MultiLabelBinarizerWrapper(),\n",
       "                                                  &#x27;Modus_Operandi&#x27;)])),\n",
       "                (&#x27;svc&#x27;, SVC())])</pre><b>In a Jupyter environment, please rerun this cell to show the HTML representation or trust the notebook. <br />On GitHub, the HTML representation is unable to render, please try loading this page with nbviewer.org.</b></div><div class=\"sk-container\" hidden><div class=\"sk-item sk-dashed-wrapped\"><div class=\"sk-label-container\"><div class=\"sk-label sk-toggleable\"><input class=\"sk-toggleable__control sk-hidden--visually\" id=\"sk-estimator-id-10\" type=\"checkbox\" ><label for=\"sk-estimator-id-10\" class=\"sk-toggleable__label sk-toggleable__label-arrow\">Pipeline</label><div class=\"sk-toggleable__content\"><pre>Pipeline(steps=[(&#x27;ct&#x27;,\n",
       "                 ColumnTransformer(transformers=[(&#x27;numerical_cols&#x27;,\n",
       "                                                  StandardScaler(),\n",
       "                                                  [&#x27;Latitude&#x27;, &#x27;Longitude&#x27;,\n",
       "                                                   &#x27;reporting_delay_day_count&#x27;,\n",
       "                                                   &#x27;Victim_Age&#x27;]),\n",
       "                                                 (&#x27;categorical_cols&#x27;,\n",
       "                                                  OneHotEncoder(handle_unknown=&#x27;ignore&#x27;),\n",
       "                                                  [&#x27;day_category&#x27;, &#x27;Victim_Sex&#x27;,\n",
       "                                                   &#x27;Victim_Descent&#x27;, &#x27;Part 1-2&#x27;,\n",
       "                                                   &#x27;Area_ID&#x27;, &#x27;Status&#x27;,\n",
       "                                                   &#x27;Weapon_Description&#x27;]),\n",
       "                                                 (&#x27;multi_label_binarizer&#x27;,\n",
       "                                                  MultiLabelBinarizerWrapper(),\n",
       "                                                  &#x27;Modus_Operandi&#x27;)])),\n",
       "                (&#x27;svc&#x27;, SVC())])</pre></div></div></div><div class=\"sk-serial\"><div class=\"sk-item sk-dashed-wrapped\"><div class=\"sk-label-container\"><div class=\"sk-label sk-toggleable\"><input class=\"sk-toggleable__control sk-hidden--visually\" id=\"sk-estimator-id-11\" type=\"checkbox\" ><label for=\"sk-estimator-id-11\" class=\"sk-toggleable__label sk-toggleable__label-arrow\">ct: ColumnTransformer</label><div class=\"sk-toggleable__content\"><pre>ColumnTransformer(transformers=[(&#x27;numerical_cols&#x27;, StandardScaler(),\n",
       "                                 [&#x27;Latitude&#x27;, &#x27;Longitude&#x27;,\n",
       "                                  &#x27;reporting_delay_day_count&#x27;, &#x27;Victim_Age&#x27;]),\n",
       "                                (&#x27;categorical_cols&#x27;,\n",
       "                                 OneHotEncoder(handle_unknown=&#x27;ignore&#x27;),\n",
       "                                 [&#x27;day_category&#x27;, &#x27;Victim_Sex&#x27;,\n",
       "                                  &#x27;Victim_Descent&#x27;, &#x27;Part 1-2&#x27;, &#x27;Area_ID&#x27;,\n",
       "                                  &#x27;Status&#x27;, &#x27;Weapon_Description&#x27;]),\n",
       "                                (&#x27;multi_label_binarizer&#x27;,\n",
       "                                 MultiLabelBinarizerWrapper(),\n",
       "                                 &#x27;Modus_Operandi&#x27;)])</pre></div></div></div><div class=\"sk-parallel\"><div class=\"sk-parallel-item\"><div class=\"sk-item\"><div class=\"sk-label-container\"><div class=\"sk-label sk-toggleable\"><input class=\"sk-toggleable__control sk-hidden--visually\" id=\"sk-estimator-id-12\" type=\"checkbox\" ><label for=\"sk-estimator-id-12\" class=\"sk-toggleable__label sk-toggleable__label-arrow\">numerical_cols</label><div class=\"sk-toggleable__content\"><pre>[&#x27;Latitude&#x27;, &#x27;Longitude&#x27;, &#x27;reporting_delay_day_count&#x27;, &#x27;Victim_Age&#x27;]</pre></div></div></div><div class=\"sk-serial\"><div class=\"sk-item\"><div class=\"sk-estimator sk-toggleable\"><input class=\"sk-toggleable__control sk-hidden--visually\" id=\"sk-estimator-id-13\" type=\"checkbox\" ><label for=\"sk-estimator-id-13\" class=\"sk-toggleable__label sk-toggleable__label-arrow\">StandardScaler</label><div class=\"sk-toggleable__content\"><pre>StandardScaler()</pre></div></div></div></div></div></div><div class=\"sk-parallel-item\"><div class=\"sk-item\"><div class=\"sk-label-container\"><div class=\"sk-label sk-toggleable\"><input class=\"sk-toggleable__control sk-hidden--visually\" id=\"sk-estimator-id-14\" type=\"checkbox\" ><label for=\"sk-estimator-id-14\" class=\"sk-toggleable__label sk-toggleable__label-arrow\">categorical_cols</label><div class=\"sk-toggleable__content\"><pre>[&#x27;day_category&#x27;, &#x27;Victim_Sex&#x27;, &#x27;Victim_Descent&#x27;, &#x27;Part 1-2&#x27;, &#x27;Area_ID&#x27;, &#x27;Status&#x27;, &#x27;Weapon_Description&#x27;]</pre></div></div></div><div class=\"sk-serial\"><div class=\"sk-item\"><div class=\"sk-estimator sk-toggleable\"><input class=\"sk-toggleable__control sk-hidden--visually\" id=\"sk-estimator-id-15\" type=\"checkbox\" ><label for=\"sk-estimator-id-15\" class=\"sk-toggleable__label sk-toggleable__label-arrow\">OneHotEncoder</label><div class=\"sk-toggleable__content\"><pre>OneHotEncoder(handle_unknown=&#x27;ignore&#x27;)</pre></div></div></div></div></div></div><div class=\"sk-parallel-item\"><div class=\"sk-item\"><div class=\"sk-label-container\"><div class=\"sk-label sk-toggleable\"><input class=\"sk-toggleable__control sk-hidden--visually\" id=\"sk-estimator-id-16\" type=\"checkbox\" ><label for=\"sk-estimator-id-16\" class=\"sk-toggleable__label sk-toggleable__label-arrow\">multi_label_binarizer</label><div class=\"sk-toggleable__content\"><pre>Modus_Operandi</pre></div></div></div><div class=\"sk-serial\"><div class=\"sk-item\"><div class=\"sk-estimator sk-toggleable\"><input class=\"sk-toggleable__control sk-hidden--visually\" id=\"sk-estimator-id-17\" type=\"checkbox\" ><label for=\"sk-estimator-id-17\" class=\"sk-toggleable__label sk-toggleable__label-arrow\">MultiLabelBinarizerWrapper</label><div class=\"sk-toggleable__content\"><pre>MultiLabelBinarizerWrapper()</pre></div></div></div></div></div></div></div></div><div class=\"sk-item\"><div class=\"sk-estimator sk-toggleable\"><input class=\"sk-toggleable__control sk-hidden--visually\" id=\"sk-estimator-id-18\" type=\"checkbox\" ><label for=\"sk-estimator-id-18\" class=\"sk-toggleable__label sk-toggleable__label-arrow\">SVC</label><div class=\"sk-toggleable__content\"><pre>SVC()</pre></div></div></div></div></div></div></div>"
      ],
      "text/plain": [
       "Pipeline(steps=[('ct',\n",
       "                 ColumnTransformer(transformers=[('numerical_cols',\n",
       "                                                  StandardScaler(),\n",
       "                                                  ['Latitude', 'Longitude',\n",
       "                                                   'reporting_delay_day_count',\n",
       "                                                   'Victim_Age']),\n",
       "                                                 ('categorical_cols',\n",
       "                                                  OneHotEncoder(handle_unknown='ignore'),\n",
       "                                                  ['day_category', 'Victim_Sex',\n",
       "                                                   'Victim_Descent', 'Part 1-2',\n",
       "                                                   'Area_ID', 'Status',\n",
       "                                                   'Weapon_Description']),\n",
       "                                                 ('multi_label_binarizer',\n",
       "                                                  MultiLabelBinarizerWrapper(),\n",
       "                                                  'Modus_Operandi')])),\n",
       "                ('svc', SVC())])"
      ]
     },
     "execution_count": 51,
     "metadata": {},
     "output_type": "execute_result"
    }
   ],
   "source": [
    "pipe_svc.fit(xtrain,ytrain)"
   ]
  },
  {
   "cell_type": "code",
   "execution_count": 52,
   "id": "95863539",
   "metadata": {
    "execution": {
     "iopub.execute_input": "2024-06-28T11:07:02.096046Z",
     "iopub.status.busy": "2024-06-28T11:07:02.095237Z",
     "iopub.status.idle": "2024-06-28T11:07:04.695540Z",
     "shell.execute_reply": "2024-06-28T11:07:04.694531Z"
    },
    "papermill": {
     "duration": 2.627997,
     "end_time": "2024-06-28T11:07:04.697852",
     "exception": false,
     "start_time": "2024-06-28T11:07:02.069855",
     "status": "completed"
    },
    "tags": []
   },
   "outputs": [
    {
     "data": {
      "text/plain": [
       "0.846"
      ]
     },
     "execution_count": 52,
     "metadata": {},
     "output_type": "execute_result"
    }
   ],
   "source": [
    "pipe_svc.score(xtest,ytest)"
   ]
  },
  {
   "cell_type": "code",
   "execution_count": 53,
   "id": "0aef81b4",
   "metadata": {
    "execution": {
     "iopub.execute_input": "2024-06-28T11:07:04.747534Z",
     "iopub.status.busy": "2024-06-28T11:07:04.747117Z",
     "iopub.status.idle": "2024-06-28T11:07:04.751612Z",
     "shell.execute_reply": "2024-06-28T11:07:04.750656Z"
    },
    "papermill": {
     "duration": 0.031777,
     "end_time": "2024-06-28T11:07:04.753714",
     "exception": false,
     "start_time": "2024-06-28T11:07:04.721937",
     "status": "completed"
    },
    "tags": []
   },
   "outputs": [],
   "source": [
    "# from sklearn.linear_model import Perceptron\n",
    "\n",
    "# pipe_percep=Pipeline(steps=[('ct',ct),('perceptron',Perceptron())])\n",
    "\n",
    "# pipe_percep.fit(xtrain,ytrain)\n",
    "\n",
    "# pipe_percep.score(xtest,ytest)"
   ]
  },
  {
   "cell_type": "markdown",
   "id": "bbc872ff",
   "metadata": {
    "papermill": {
     "duration": 0.024348,
     "end_time": "2024-06-28T11:07:04.802068",
     "exception": false,
     "start_time": "2024-06-28T11:07:04.777720",
     "status": "completed"
    },
    "tags": []
   },
   "source": [
    "KNN"
   ]
  },
  {
   "cell_type": "code",
   "execution_count": 54,
   "id": "51966425",
   "metadata": {
    "execution": {
     "iopub.execute_input": "2024-06-28T11:07:04.852419Z",
     "iopub.status.busy": "2024-06-28T11:07:04.852033Z",
     "iopub.status.idle": "2024-06-28T11:07:05.644961Z",
     "shell.execute_reply": "2024-06-28T11:07:05.643831Z"
    },
    "papermill": {
     "duration": 0.821316,
     "end_time": "2024-06-28T11:07:05.647314",
     "exception": false,
     "start_time": "2024-06-28T11:07:04.825998",
     "status": "completed"
    },
    "tags": []
   },
   "outputs": [
    {
     "data": {
      "text/plain": [
       "0.80875"
      ]
     },
     "execution_count": 54,
     "metadata": {},
     "output_type": "execute_result"
    }
   ],
   "source": [
    "from sklearn.neighbors import KNeighborsClassifier\n",
    "\n",
    "\n",
    "kn_classifier=Pipeline(steps=[('ct' , ct ),( 'knn' ,KNeighborsClassifier(n_neighbors=10))])\n",
    "\n",
    "\n",
    "kn_classifier.fit(xtrain , ytrain)\n",
    "\n",
    "kn_classifier.score(xtest,ytest)"
   ]
  },
  {
   "cell_type": "markdown",
   "id": "a5069bd3",
   "metadata": {
    "papermill": {
     "duration": 0.024667,
     "end_time": "2024-06-28T11:07:05.696845",
     "exception": false,
     "start_time": "2024-06-28T11:07:05.672178",
     "status": "completed"
    },
    "tags": []
   },
   "source": [
    "##### Test \n"
   ]
  },
  {
   "cell_type": "code",
   "execution_count": 55,
   "id": "30e3c30a",
   "metadata": {
    "execution": {
     "iopub.execute_input": "2024-06-28T11:07:05.749176Z",
     "iopub.status.busy": "2024-06-28T11:07:05.748805Z",
     "iopub.status.idle": "2024-06-28T11:07:10.926498Z",
     "shell.execute_reply": "2024-06-28T11:07:10.925652Z"
    },
    "papermill": {
     "duration": 5.206772,
     "end_time": "2024-06-28T11:07:10.929078",
     "exception": false,
     "start_time": "2024-06-28T11:07:05.722306",
     "status": "completed"
    },
    "tags": []
   },
   "outputs": [],
   "source": [
    "test=pd.read_csv('/kaggle/input/crime-cast-forecasting-crime-categories/test.csv')\n",
    "test['day_category']=test['Time_Occurred'].apply(day_category )\n",
    "\n",
    "\n",
    "test['Date_Reported']=test['Date_Reported'].apply(extract_date)\n",
    "test['Date_Occurred']=test['Date_Occurred'].apply(extract_date)\n",
    "\n",
    "\n",
    "\n",
    "\n",
    "\n",
    "\n",
    "test['Date_Reported']=pd.to_datetime(test['Date_Reported']).dt.date\n",
    "test['Date_Occurred']=pd.to_datetime(test['Date_Occurred']).dt.date\n",
    "\n",
    "test['reporting_delay_day_count']=(test['Date_Reported']-test['Date_Occurred'])\n",
    "\n",
    "\n",
    "\n",
    "\n",
    "\n",
    "\n",
    "def day_count(d):\n",
    "    return d.days\n",
    "test['reporting_delay_day_count']=test['reporting_delay_day_count'].apply(day_count)\n",
    "\n",
    "\n",
    "\n",
    "\n",
    "\n",
    "\n",
    "def victim_gender(val):\n",
    "    if val=='H' or pd.isna(val):\n",
    "        val='X'\n",
    "    return val\n",
    "\n",
    "\n",
    "test.loc[:,'Victim_Sex'] = test['Victim_Sex'].apply(victim_gender)\n",
    "\n",
    "\n",
    "\n",
    "\n",
    "\n",
    "unique_values_weapon_test=pd.DataFrame(test['Weapon_Description'])\n",
    "unique_values_weapon_test.value_counts(normalize=True)\n",
    "\n",
    "\n",
    "\n",
    "\n",
    "\n",
    "\n",
    "\n",
    "distribution_test = test['Weapon_Description'].dropna().value_counts(normalize=True)\n",
    "\n",
    "missing_test = test['Weapon_Description'].isnull().sum()\n",
    "\n",
    "imputed_values_test = np.random.choice(distribution_test.index, size=missing_test, p=distribution_test.values)\n",
    "\n",
    "# Impute the missing values\n",
    "test.loc[test['Weapon_Description'].isnull(), 'Weapon_Description'] = imputed_values_test\n",
    "\n"
   ]
  },
  {
   "cell_type": "code",
   "execution_count": 56,
   "id": "deb568fd",
   "metadata": {
    "execution": {
     "iopub.execute_input": "2024-06-28T11:07:10.980552Z",
     "iopub.status.busy": "2024-06-28T11:07:10.980121Z",
     "iopub.status.idle": "2024-06-28T11:07:10.996014Z",
     "shell.execute_reply": "2024-06-28T11:07:10.994925Z"
    },
    "papermill": {
     "duration": 0.043367,
     "end_time": "2024-06-28T11:07:10.998197",
     "exception": false,
     "start_time": "2024-06-28T11:07:10.954830",
     "status": "completed"
    },
    "tags": []
   },
   "outputs": [
    {
     "data": {
      "text/plain": [
       "Location                        0\n",
       "Cross_Street                 4190\n",
       "Latitude                        0\n",
       "Longitude                       0\n",
       "Date_Reported                   0\n",
       "Date_Occurred                   0\n",
       "Time_Occurred                   0\n",
       "Area_ID                         0\n",
       "Area_Name                       0\n",
       "Reporting_District_no           0\n",
       "Part 1-2                        0\n",
       "Modus_Operandi                684\n",
       "Victim_Age                      0\n",
       "Victim_Sex                      0\n",
       "Victim_Descent                643\n",
       "Premise_Code                    0\n",
       "Premise_Description             1\n",
       "Weapon_Used_Code             3153\n",
       "Weapon_Description              0\n",
       "Status                          0\n",
       "Status_Description              0\n",
       "day_category                    0\n",
       "reporting_delay_day_count       0\n",
       "dtype: int64"
      ]
     },
     "execution_count": 56,
     "metadata": {},
     "output_type": "execute_result"
    }
   ],
   "source": [
    "test.isnull().sum()"
   ]
  },
  {
   "cell_type": "code",
   "execution_count": 57,
   "id": "5b12a867",
   "metadata": {
    "execution": {
     "iopub.execute_input": "2024-06-28T11:07:11.049442Z",
     "iopub.status.busy": "2024-06-28T11:07:11.049061Z",
     "iopub.status.idle": "2024-06-28T11:07:11.060167Z",
     "shell.execute_reply": "2024-06-28T11:07:11.059264Z"
    },
    "papermill": {
     "duration": 0.039171,
     "end_time": "2024-06-28T11:07:11.062412",
     "exception": false,
     "start_time": "2024-06-28T11:07:11.023241",
     "status": "completed"
    },
    "tags": []
   },
   "outputs": [],
   "source": [
    "distribution_test = test['Victim_Descent'].dropna().value_counts(normalize=True)\n",
    "\n",
    "missing_test = test['Victim_Descent'].isnull().sum()\n",
    "\n",
    "imputed_values_test = np.random.choice(distribution_test.index, size=missing_test, p=distribution_test.values)\n",
    "\n",
    "# Impute the missing values\n",
    "test.loc[test['Victim_Descent'].isnull(), 'Victim_Descent'] = imputed_values_test"
   ]
  },
  {
   "cell_type": "code",
   "execution_count": 58,
   "id": "3400438a",
   "metadata": {
    "execution": {
     "iopub.execute_input": "2024-06-28T11:07:11.114049Z",
     "iopub.status.busy": "2024-06-28T11:07:11.113680Z",
     "iopub.status.idle": "2024-06-28T11:07:11.145050Z",
     "shell.execute_reply": "2024-06-28T11:07:11.144009Z"
    },
    "papermill": {
     "duration": 0.059556,
     "end_time": "2024-06-28T11:07:11.147416",
     "exception": false,
     "start_time": "2024-06-28T11:07:11.087860",
     "status": "completed"
    },
    "tags": []
   },
   "outputs": [],
   "source": [
    "test['Modus_Operandi']=test['Modus_Operandi'].apply(number_of_activities)\n",
    "test['Part 1-2']=test['Part 1-2'].apply(lambda x : int(x))\n",
    "test['Victim_Age']=test['Victim_Age'].apply(lambda x: int(x))"
   ]
  },
  {
   "cell_type": "code",
   "execution_count": 59,
   "id": "64eb1c4b",
   "metadata": {
    "execution": {
     "iopub.execute_input": "2024-06-28T11:07:11.197515Z",
     "iopub.status.busy": "2024-06-28T11:07:11.197127Z",
     "iopub.status.idle": "2024-06-28T11:07:11.220115Z",
     "shell.execute_reply": "2024-06-28T11:07:11.219106Z"
    },
    "papermill": {
     "duration": 0.050893,
     "end_time": "2024-06-28T11:07:11.222457",
     "exception": false,
     "start_time": "2024-06-28T11:07:11.171564",
     "status": "completed"
    },
    "tags": []
   },
   "outputs": [],
   "source": [
    "test.loc[test['Weapon_Description'] == 'STRONG-ARM (HANDS, FIST, FEET OR BODILY FORCE)', 'Weapon_Description'] = 'Physical Force'\n",
    "\n",
    "\n",
    "\n",
    "test.loc[:,'Weapon_Description']=test['Weapon_Description'].apply(gun)"
   ]
  },
  {
   "cell_type": "code",
   "execution_count": 60,
   "id": "6723a69a",
   "metadata": {
    "execution": {
     "iopub.execute_input": "2024-06-28T11:07:11.274301Z",
     "iopub.status.busy": "2024-06-28T11:07:11.273520Z",
     "iopub.status.idle": "2024-06-28T11:07:11.295182Z",
     "shell.execute_reply": "2024-06-28T11:07:11.293818Z"
    },
    "papermill": {
     "duration": 0.049949,
     "end_time": "2024-06-28T11:07:11.297435",
     "exception": false,
     "start_time": "2024-06-28T11:07:11.247486",
     "status": "completed"
    },
    "tags": []
   },
   "outputs": [
    {
     "name": "stdout",
     "output_type": "stream",
     "text": [
      "<class 'pandas.core.frame.DataFrame'>\n",
      "Index: 16000 entries, 6735 to 554\n",
      "Data columns (total 12 columns):\n",
      " #   Column                     Non-Null Count  Dtype  \n",
      "---  ------                     --------------  -----  \n",
      " 0   Latitude                   16000 non-null  float64\n",
      " 1   Longitude                  16000 non-null  float64\n",
      " 2   reporting_delay_day_count  16000 non-null  int64  \n",
      " 3   day_category               16000 non-null  object \n",
      " 4   Victim_Age                 16000 non-null  float64\n",
      " 5   Victim_Sex                 16000 non-null  object \n",
      " 6   Victim_Descent             16000 non-null  object \n",
      " 7   Weapon_Description         16000 non-null  object \n",
      " 8   Area_ID                    16000 non-null  float64\n",
      " 9   Modus_Operandi             16000 non-null  object \n",
      " 10  Part 1-2                   16000 non-null  float64\n",
      " 11  Status                     16000 non-null  object \n",
      "dtypes: float64(5), int64(1), object(6)\n",
      "memory usage: 1.6+ MB\n"
     ]
    }
   ],
   "source": [
    "xtrain.info()"
   ]
  },
  {
   "cell_type": "code",
   "execution_count": 61,
   "id": "9fcb7675",
   "metadata": {
    "execution": {
     "iopub.execute_input": "2024-06-28T11:07:11.349460Z",
     "iopub.status.busy": "2024-06-28T11:07:11.348841Z",
     "iopub.status.idle": "2024-06-28T11:07:11.356123Z",
     "shell.execute_reply": "2024-06-28T11:07:11.355290Z"
    },
    "papermill": {
     "duration": 0.03544,
     "end_time": "2024-06-28T11:07:11.358177",
     "exception": false,
     "start_time": "2024-06-28T11:07:11.322737",
     "status": "completed"
    },
    "tags": []
   },
   "outputs": [],
   "source": [
    "test=test[['Latitude','Longitude','reporting_delay_day_count','day_category','Area_ID','Victim_Age','Victim_Sex','Modus_Operandi','Victim_Descent','Part 1-2','Weapon_Description','Status']]"
   ]
  },
  {
   "cell_type": "code",
   "execution_count": 62,
   "id": "b468bed8",
   "metadata": {
    "execution": {
     "iopub.execute_input": "2024-06-28T11:07:11.409988Z",
     "iopub.status.busy": "2024-06-28T11:07:11.409350Z",
     "iopub.status.idle": "2024-06-28T11:07:11.424011Z",
     "shell.execute_reply": "2024-06-28T11:07:11.422849Z"
    },
    "papermill": {
     "duration": 0.043484,
     "end_time": "2024-06-28T11:07:11.426313",
     "exception": false,
     "start_time": "2024-06-28T11:07:11.382829",
     "status": "completed"
    },
    "tags": []
   },
   "outputs": [
    {
     "name": "stdout",
     "output_type": "stream",
     "text": [
      "<class 'pandas.core.frame.DataFrame'>\n",
      "RangeIndex: 5000 entries, 0 to 4999\n",
      "Data columns (total 12 columns):\n",
      " #   Column                     Non-Null Count  Dtype  \n",
      "---  ------                     --------------  -----  \n",
      " 0   Latitude                   5000 non-null   float64\n",
      " 1   Longitude                  5000 non-null   float64\n",
      " 2   reporting_delay_day_count  5000 non-null   int64  \n",
      " 3   day_category               5000 non-null   object \n",
      " 4   Area_ID                    5000 non-null   float64\n",
      " 5   Victim_Age                 5000 non-null   int64  \n",
      " 6   Victim_Sex                 5000 non-null   object \n",
      " 7   Modus_Operandi             5000 non-null   object \n",
      " 8   Victim_Descent             5000 non-null   object \n",
      " 9   Part 1-2                   5000 non-null   int64  \n",
      " 10  Weapon_Description         5000 non-null   object \n",
      " 11  Status                     5000 non-null   object \n",
      "dtypes: float64(3), int64(3), object(6)\n",
      "memory usage: 468.9+ KB\n"
     ]
    }
   ],
   "source": [
    "test.info()"
   ]
  },
  {
   "cell_type": "code",
   "execution_count": 63,
   "id": "c938df86",
   "metadata": {
    "execution": {
     "iopub.execute_input": "2024-06-28T11:07:11.477206Z",
     "iopub.status.busy": "2024-06-28T11:07:11.476873Z",
     "iopub.status.idle": "2024-06-28T11:07:11.499990Z",
     "shell.execute_reply": "2024-06-28T11:07:11.499053Z"
    },
    "papermill": {
     "duration": 0.051058,
     "end_time": "2024-06-28T11:07:11.502212",
     "exception": false,
     "start_time": "2024-06-28T11:07:11.451154",
     "status": "completed"
    },
    "tags": []
   },
   "outputs": [
    {
     "data": {
      "text/html": [
       "<div>\n",
       "<style scoped>\n",
       "    .dataframe tbody tr th:only-of-type {\n",
       "        vertical-align: middle;\n",
       "    }\n",
       "\n",
       "    .dataframe tbody tr th {\n",
       "        vertical-align: top;\n",
       "    }\n",
       "\n",
       "    .dataframe thead th {\n",
       "        text-align: right;\n",
       "    }\n",
       "</style>\n",
       "<table border=\"1\" class=\"dataframe\">\n",
       "  <thead>\n",
       "    <tr style=\"text-align: right;\">\n",
       "      <th></th>\n",
       "      <th>Latitude</th>\n",
       "      <th>Longitude</th>\n",
       "      <th>reporting_delay_day_count</th>\n",
       "      <th>day_category</th>\n",
       "      <th>Area_ID</th>\n",
       "      <th>Victim_Age</th>\n",
       "      <th>Victim_Sex</th>\n",
       "      <th>Modus_Operandi</th>\n",
       "      <th>Victim_Descent</th>\n",
       "      <th>Part 1-2</th>\n",
       "      <th>Weapon_Description</th>\n",
       "      <th>Status</th>\n",
       "    </tr>\n",
       "  </thead>\n",
       "  <tbody>\n",
       "    <tr>\n",
       "      <th>0</th>\n",
       "      <td>34.0128</td>\n",
       "      <td>-118.3045</td>\n",
       "      <td>0</td>\n",
       "      <td>Evening</td>\n",
       "      <td>3.0</td>\n",
       "      <td>28</td>\n",
       "      <td>F</td>\n",
       "      <td>1243 1241 1821 0416 2000 1813</td>\n",
       "      <td>H</td>\n",
       "      <td>2</td>\n",
       "      <td>Physical Force</td>\n",
       "      <td>IC</td>\n",
       "    </tr>\n",
       "    <tr>\n",
       "      <th>1</th>\n",
       "      <td>34.0726</td>\n",
       "      <td>-118.3029</td>\n",
       "      <td>37</td>\n",
       "      <td>Night</td>\n",
       "      <td>20.0</td>\n",
       "      <td>26</td>\n",
       "      <td>M</td>\n",
       "      <td>0344 0394</td>\n",
       "      <td>B</td>\n",
       "      <td>1</td>\n",
       "      <td>sharp_heavy_object</td>\n",
       "      <td>IC</td>\n",
       "    </tr>\n",
       "    <tr>\n",
       "      <th>2</th>\n",
       "      <td>33.9348</td>\n",
       "      <td>-118.2695</td>\n",
       "      <td>1</td>\n",
       "      <td>Morning</td>\n",
       "      <td>18.0</td>\n",
       "      <td>62</td>\n",
       "      <td>F</td>\n",
       "      <td>0355 1914 1202 0701 0100 1822</td>\n",
       "      <td>B</td>\n",
       "      <td>2</td>\n",
       "      <td>Physical Force</td>\n",
       "      <td>IC</td>\n",
       "    </tr>\n",
       "    <tr>\n",
       "      <th>3</th>\n",
       "      <td>34.0497</td>\n",
       "      <td>-118.3442</td>\n",
       "      <td>20</td>\n",
       "      <td>Night</td>\n",
       "      <td>7.0</td>\n",
       "      <td>0</td>\n",
       "      <td>X</td>\n",
       "      <td></td>\n",
       "      <td>X</td>\n",
       "      <td>1</td>\n",
       "      <td>Physical Force</td>\n",
       "      <td>IC</td>\n",
       "    </tr>\n",
       "    <tr>\n",
       "      <th>4</th>\n",
       "      <td>34.1611</td>\n",
       "      <td>-118.3704</td>\n",
       "      <td>1</td>\n",
       "      <td>Night</td>\n",
       "      <td>15.0</td>\n",
       "      <td>37</td>\n",
       "      <td>F</td>\n",
       "      <td>1501</td>\n",
       "      <td>W</td>\n",
       "      <td>2</td>\n",
       "      <td>Physical Force</td>\n",
       "      <td>AO</td>\n",
       "    </tr>\n",
       "    <tr>\n",
       "      <th>...</th>\n",
       "      <td>...</td>\n",
       "      <td>...</td>\n",
       "      <td>...</td>\n",
       "      <td>...</td>\n",
       "      <td>...</td>\n",
       "      <td>...</td>\n",
       "      <td>...</td>\n",
       "      <td>...</td>\n",
       "      <td>...</td>\n",
       "      <td>...</td>\n",
       "      <td>...</td>\n",
       "      <td>...</td>\n",
       "    </tr>\n",
       "    <tr>\n",
       "      <th>4995</th>\n",
       "      <td>34.0409</td>\n",
       "      <td>-118.3408</td>\n",
       "      <td>1</td>\n",
       "      <td>Night</td>\n",
       "      <td>7.0</td>\n",
       "      <td>0</td>\n",
       "      <td>X</td>\n",
       "      <td></td>\n",
       "      <td>B</td>\n",
       "      <td>1</td>\n",
       "      <td>Physical Force</td>\n",
       "      <td>IC</td>\n",
       "    </tr>\n",
       "    <tr>\n",
       "      <th>4996</th>\n",
       "      <td>34.0347</td>\n",
       "      <td>-118.2253</td>\n",
       "      <td>7</td>\n",
       "      <td>Daytime</td>\n",
       "      <td>4.0</td>\n",
       "      <td>0</td>\n",
       "      <td>X</td>\n",
       "      <td>1300 0325</td>\n",
       "      <td>X</td>\n",
       "      <td>1</td>\n",
       "      <td>Gun</td>\n",
       "      <td>IC</td>\n",
       "    </tr>\n",
       "    <tr>\n",
       "      <th>4997</th>\n",
       "      <td>34.2392</td>\n",
       "      <td>-118.4698</td>\n",
       "      <td>0</td>\n",
       "      <td>Night</td>\n",
       "      <td>19.0</td>\n",
       "      <td>38</td>\n",
       "      <td>M</td>\n",
       "      <td>0416 1817 0913</td>\n",
       "      <td>H</td>\n",
       "      <td>2</td>\n",
       "      <td>Physical Force</td>\n",
       "      <td>AA</td>\n",
       "    </tr>\n",
       "    <tr>\n",
       "      <th>4998</th>\n",
       "      <td>34.0453</td>\n",
       "      <td>-118.2443</td>\n",
       "      <td>1</td>\n",
       "      <td>Night</td>\n",
       "      <td>1.0</td>\n",
       "      <td>41</td>\n",
       "      <td>M</td>\n",
       "      <td>0416</td>\n",
       "      <td>B</td>\n",
       "      <td>2</td>\n",
       "      <td>sharp_heavy_object</td>\n",
       "      <td>AO</td>\n",
       "    </tr>\n",
       "    <tr>\n",
       "      <th>4999</th>\n",
       "      <td>33.9438</td>\n",
       "      <td>-118.2695</td>\n",
       "      <td>0</td>\n",
       "      <td>Night</td>\n",
       "      <td>18.0</td>\n",
       "      <td>49</td>\n",
       "      <td>M</td>\n",
       "      <td>1822 0329</td>\n",
       "      <td>B</td>\n",
       "      <td>2</td>\n",
       "      <td>Physical Force</td>\n",
       "      <td>IC</td>\n",
       "    </tr>\n",
       "  </tbody>\n",
       "</table>\n",
       "<p>5000 rows × 12 columns</p>\n",
       "</div>"
      ],
      "text/plain": [
       "      Latitude  Longitude  reporting_delay_day_count day_category  Area_ID  \\\n",
       "0      34.0128  -118.3045                          0      Evening      3.0   \n",
       "1      34.0726  -118.3029                         37        Night     20.0   \n",
       "2      33.9348  -118.2695                          1      Morning     18.0   \n",
       "3      34.0497  -118.3442                         20        Night      7.0   \n",
       "4      34.1611  -118.3704                          1        Night     15.0   \n",
       "...        ...        ...                        ...          ...      ...   \n",
       "4995   34.0409  -118.3408                          1        Night      7.0   \n",
       "4996   34.0347  -118.2253                          7      Daytime      4.0   \n",
       "4997   34.2392  -118.4698                          0        Night     19.0   \n",
       "4998   34.0453  -118.2443                          1        Night      1.0   \n",
       "4999   33.9438  -118.2695                          0        Night     18.0   \n",
       "\n",
       "      Victim_Age Victim_Sex                 Modus_Operandi Victim_Descent  \\\n",
       "0             28          F  1243 1241 1821 0416 2000 1813              H   \n",
       "1             26          M                      0344 0394              B   \n",
       "2             62          F  0355 1914 1202 0701 0100 1822              B   \n",
       "3              0          X                                             X   \n",
       "4             37          F                           1501              W   \n",
       "...          ...        ...                            ...            ...   \n",
       "4995           0          X                                             B   \n",
       "4996           0          X                      1300 0325              X   \n",
       "4997          38          M                 0416 1817 0913              H   \n",
       "4998          41          M                           0416              B   \n",
       "4999          49          M                      1822 0329              B   \n",
       "\n",
       "      Part 1-2  Weapon_Description Status  \n",
       "0            2      Physical Force     IC  \n",
       "1            1  sharp_heavy_object     IC  \n",
       "2            2      Physical Force     IC  \n",
       "3            1      Physical Force     IC  \n",
       "4            2      Physical Force     AO  \n",
       "...        ...                 ...    ...  \n",
       "4995         1      Physical Force     IC  \n",
       "4996         1                 Gun     IC  \n",
       "4997         2      Physical Force     AA  \n",
       "4998         2  sharp_heavy_object     AO  \n",
       "4999         2      Physical Force     IC  \n",
       "\n",
       "[5000 rows x 12 columns]"
      ]
     },
     "execution_count": 63,
     "metadata": {},
     "output_type": "execute_result"
    }
   ],
   "source": [
    "test"
   ]
  },
  {
   "cell_type": "code",
   "execution_count": 64,
   "id": "b8ba6b9a",
   "metadata": {
    "execution": {
     "iopub.execute_input": "2024-06-28T11:07:11.554829Z",
     "iopub.status.busy": "2024-06-28T11:07:11.554048Z",
     "iopub.status.idle": "2024-06-28T11:07:11.560501Z",
     "shell.execute_reply": "2024-06-28T11:07:11.559519Z"
    },
    "papermill": {
     "duration": 0.035346,
     "end_time": "2024-06-28T11:07:11.562636",
     "exception": false,
     "start_time": "2024-06-28T11:07:11.527290",
     "status": "completed"
    },
    "tags": []
   },
   "outputs": [
    {
     "data": {
      "text/plain": [
       "(5000, 12)"
      ]
     },
     "execution_count": 64,
     "metadata": {},
     "output_type": "execute_result"
    }
   ],
   "source": [
    "test.shape"
   ]
  },
  {
   "cell_type": "code",
   "execution_count": 65,
   "id": "f55f4425",
   "metadata": {
    "execution": {
     "iopub.execute_input": "2024-06-28T11:07:11.613830Z",
     "iopub.status.busy": "2024-06-28T11:07:11.613492Z",
     "iopub.status.idle": "2024-06-28T11:07:11.633504Z",
     "shell.execute_reply": "2024-06-28T11:07:11.632570Z"
    },
    "papermill": {
     "duration": 0.047981,
     "end_time": "2024-06-28T11:07:11.635807",
     "exception": false,
     "start_time": "2024-06-28T11:07:11.587826",
     "status": "completed"
    },
    "tags": []
   },
   "outputs": [
    {
     "data": {
      "text/html": [
       "<div>\n",
       "<style scoped>\n",
       "    .dataframe tbody tr th:only-of-type {\n",
       "        vertical-align: middle;\n",
       "    }\n",
       "\n",
       "    .dataframe tbody tr th {\n",
       "        vertical-align: top;\n",
       "    }\n",
       "\n",
       "    .dataframe thead th {\n",
       "        text-align: right;\n",
       "    }\n",
       "</style>\n",
       "<table border=\"1\" class=\"dataframe\">\n",
       "  <thead>\n",
       "    <tr style=\"text-align: right;\">\n",
       "      <th></th>\n",
       "      <th>ID</th>\n",
       "      <th>Crime_Category</th>\n",
       "      <th>Unnamed: 2</th>\n",
       "    </tr>\n",
       "  </thead>\n",
       "  <tbody>\n",
       "    <tr>\n",
       "      <th>0</th>\n",
       "      <td>1</td>\n",
       "      <td>Crimes against Persons</td>\n",
       "      <td>NaN</td>\n",
       "    </tr>\n",
       "    <tr>\n",
       "      <th>1</th>\n",
       "      <td>2</td>\n",
       "      <td>Crimes against Public Order</td>\n",
       "      <td>NaN</td>\n",
       "    </tr>\n",
       "    <tr>\n",
       "      <th>2</th>\n",
       "      <td>3</td>\n",
       "      <td>Other Crimes</td>\n",
       "      <td>NaN</td>\n",
       "    </tr>\n",
       "    <tr>\n",
       "      <th>3</th>\n",
       "      <td>4</td>\n",
       "      <td>Crimes against Public Order</td>\n",
       "      <td>NaN</td>\n",
       "    </tr>\n",
       "    <tr>\n",
       "      <th>4</th>\n",
       "      <td>5</td>\n",
       "      <td>Other Crimes</td>\n",
       "      <td>NaN</td>\n",
       "    </tr>\n",
       "    <tr>\n",
       "      <th>...</th>\n",
       "      <td>...</td>\n",
       "      <td>...</td>\n",
       "      <td>...</td>\n",
       "    </tr>\n",
       "    <tr>\n",
       "      <th>995</th>\n",
       "      <td>996</td>\n",
       "      <td>Fraud and White-Collar Crimes</td>\n",
       "      <td>NaN</td>\n",
       "    </tr>\n",
       "    <tr>\n",
       "      <th>996</th>\n",
       "      <td>997</td>\n",
       "      <td>Property Crimes</td>\n",
       "      <td>NaN</td>\n",
       "    </tr>\n",
       "    <tr>\n",
       "      <th>997</th>\n",
       "      <td>998</td>\n",
       "      <td>Violent Crimes</td>\n",
       "      <td>NaN</td>\n",
       "    </tr>\n",
       "    <tr>\n",
       "      <th>998</th>\n",
       "      <td>999</td>\n",
       "      <td>Property Crimes</td>\n",
       "      <td>NaN</td>\n",
       "    </tr>\n",
       "    <tr>\n",
       "      <th>999</th>\n",
       "      <td>1000</td>\n",
       "      <td>Violent Crimes</td>\n",
       "      <td>NaN</td>\n",
       "    </tr>\n",
       "  </tbody>\n",
       "</table>\n",
       "<p>1000 rows × 3 columns</p>\n",
       "</div>"
      ],
      "text/plain": [
       "       ID                Crime_Category   Unnamed: 2\n",
       "0       1         Crimes against Persons         NaN\n",
       "1       2    Crimes against Public Order         NaN\n",
       "2       3                   Other Crimes         NaN\n",
       "3       4    Crimes against Public Order         NaN\n",
       "4       5                   Other Crimes         NaN\n",
       "..    ...                            ...         ...\n",
       "995   996  Fraud and White-Collar Crimes         NaN\n",
       "996   997                Property Crimes         NaN\n",
       "997   998                 Violent Crimes         NaN\n",
       "998   999                Property Crimes         NaN\n",
       "999  1000                 Violent Crimes         NaN\n",
       "\n",
       "[1000 rows x 3 columns]"
      ]
     },
     "execution_count": 65,
     "metadata": {},
     "output_type": "execute_result"
    }
   ],
   "source": [
    "sample=pd.read_csv('/kaggle/input/crime-cast-forecasting-crime-categories/sample.csv')\n",
    "sample"
   ]
  },
  {
   "cell_type": "code",
   "execution_count": 66,
   "id": "1762df18",
   "metadata": {
    "execution": {
     "iopub.execute_input": "2024-06-28T11:07:11.689473Z",
     "iopub.status.busy": "2024-06-28T11:07:11.688678Z",
     "iopub.status.idle": "2024-06-28T11:07:11.700290Z",
     "shell.execute_reply": "2024-06-28T11:07:11.699306Z"
    },
    "papermill": {
     "duration": 0.040457,
     "end_time": "2024-06-28T11:07:11.702486",
     "exception": false,
     "start_time": "2024-06-28T11:07:11.662029",
     "status": "completed"
    },
    "tags": []
   },
   "outputs": [
    {
     "data": {
      "text/plain": [
       "Latitude                     0\n",
       "Longitude                    0\n",
       "reporting_delay_day_count    0\n",
       "day_category                 0\n",
       "Area_ID                      0\n",
       "Victim_Age                   0\n",
       "Victim_Sex                   0\n",
       "Modus_Operandi               0\n",
       "Victim_Descent               0\n",
       "Part 1-2                     0\n",
       "Weapon_Description           0\n",
       "Status                       0\n",
       "dtype: int64"
      ]
     },
     "execution_count": 66,
     "metadata": {},
     "output_type": "execute_result"
    }
   ],
   "source": [
    "test.isnull().sum()"
   ]
  },
  {
   "cell_type": "code",
   "execution_count": 67,
   "id": "460b31d6",
   "metadata": {
    "execution": {
     "iopub.execute_input": "2024-06-28T11:07:11.755575Z",
     "iopub.status.busy": "2024-06-28T11:07:11.755159Z",
     "iopub.status.idle": "2024-06-28T11:07:12.410667Z",
     "shell.execute_reply": "2024-06-28T11:07:12.409740Z"
    },
    "papermill": {
     "duration": 0.684784,
     "end_time": "2024-06-28T11:07:12.413248",
     "exception": false,
     "start_time": "2024-06-28T11:07:11.728464",
     "status": "completed"
    },
    "tags": []
   },
   "outputs": [],
   "source": [
    "y_pred=kn_classifier.predict(test)\n",
    "submission=pd.DataFrame({'ID': np.arange(1,5000+1), 'Crime_Category': y_pred})\n",
    "\n",
    "submission.to_csv('submission.csv',index=False)"
   ]
  },
  {
   "cell_type": "code",
   "execution_count": null,
   "id": "23faf00a",
   "metadata": {
    "papermill": {
     "duration": 0.025871,
     "end_time": "2024-06-28T11:07:12.465870",
     "exception": false,
     "start_time": "2024-06-28T11:07:12.439999",
     "status": "completed"
    },
    "tags": []
   },
   "outputs": [],
   "source": []
  },
  {
   "cell_type": "code",
   "execution_count": null,
   "id": "d7278043",
   "metadata": {
    "papermill": {
     "duration": 0.025721,
     "end_time": "2024-06-28T11:07:12.517581",
     "exception": false,
     "start_time": "2024-06-28T11:07:12.491860",
     "status": "completed"
    },
    "tags": []
   },
   "outputs": [],
   "source": []
  },
  {
   "cell_type": "code",
   "execution_count": null,
   "id": "56e3fcc5",
   "metadata": {
    "papermill": {
     "duration": 0.025589,
     "end_time": "2024-06-28T11:07:12.568795",
     "exception": false,
     "start_time": "2024-06-28T11:07:12.543206",
     "status": "completed"
    },
    "tags": []
   },
   "outputs": [],
   "source": []
  },
  {
   "cell_type": "code",
   "execution_count": null,
   "id": "a6938402",
   "metadata": {
    "papermill": {
     "duration": 0.02593,
     "end_time": "2024-06-28T11:07:12.620382",
     "exception": false,
     "start_time": "2024-06-28T11:07:12.594452",
     "status": "completed"
    },
    "tags": []
   },
   "outputs": [],
   "source": []
  },
  {
   "cell_type": "code",
   "execution_count": null,
   "id": "1a8dc1a0",
   "metadata": {
    "papermill": {
     "duration": 0.025012,
     "end_time": "2024-06-28T11:07:12.671548",
     "exception": false,
     "start_time": "2024-06-28T11:07:12.646536",
     "status": "completed"
    },
    "tags": []
   },
   "outputs": [],
   "source": []
  },
  {
   "cell_type": "code",
   "execution_count": null,
   "id": "dd1af986",
   "metadata": {
    "papermill": {
     "duration": 0.025686,
     "end_time": "2024-06-28T11:07:12.722765",
     "exception": false,
     "start_time": "2024-06-28T11:07:12.697079",
     "status": "completed"
    },
    "tags": []
   },
   "outputs": [],
   "source": []
  }
 ],
 "metadata": {
  "kaggle": {
   "accelerator": "none",
   "dataSources": [
    {
     "databundleVersionId": 8446444,
     "sourceId": 77420,
     "sourceType": "competition"
    }
   ],
   "dockerImageVersionId": 30715,
   "isGpuEnabled": false,
   "isInternetEnabled": false,
   "language": "python",
   "sourceType": "notebook"
  },
  "kernelspec": {
   "display_name": "Python 3",
   "language": "python",
   "name": "python3"
  },
  "language_info": {
   "codemirror_mode": {
    "name": "ipython",
    "version": 3
   },
   "file_extension": ".py",
   "mimetype": "text/x-python",
   "name": "python",
   "nbconvert_exporter": "python",
   "pygments_lexer": "ipython3",
   "version": "3.10.13"
  },
  "papermill": {
   "default_parameters": {},
   "duration": 67.373269,
   "end_time": "2024-06-28T11:07:13.268937",
   "environment_variables": {},
   "exception": null,
   "input_path": "__notebook__.ipynb",
   "output_path": "__notebook__.ipynb",
   "parameters": {},
   "start_time": "2024-06-28T11:06:05.895668",
   "version": "2.5.0"
  }
 },
 "nbformat": 4,
 "nbformat_minor": 5
}
