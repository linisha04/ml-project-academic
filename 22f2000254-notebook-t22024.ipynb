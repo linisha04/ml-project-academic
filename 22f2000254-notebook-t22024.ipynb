{
 "cells": [
  {
   "cell_type": "code",
   "execution_count": 1,
   "id": "9217b414",
   "metadata": {
    "_cell_guid": "b1076dfc-b9ad-4769-8c92-a6c4dae69d19",
    "_uuid": "8f2839f25d086af736a60e9eeb907d3b93b6e0e5",
    "execution": {
     "iopub.execute_input": "2024-06-22T14:18:21.710884Z",
     "iopub.status.busy": "2024-06-22T14:18:21.710464Z",
     "iopub.status.idle": "2024-06-22T14:18:22.554990Z",
     "shell.execute_reply": "2024-06-22T14:18:22.553876Z"
    },
    "papermill": {
     "duration": 0.869953,
     "end_time": "2024-06-22T14:18:22.557505",
     "exception": false,
     "start_time": "2024-06-22T14:18:21.687552",
     "status": "completed"
    },
    "tags": []
   },
   "outputs": [
    {
     "name": "stdout",
     "output_type": "stream",
     "text": [
      "/kaggle/input/crime-cast-forecasting-crime-categories/sample.csv\n",
      "/kaggle/input/crime-cast-forecasting-crime-categories/train.csv\n",
      "/kaggle/input/crime-cast-forecasting-crime-categories/test.csv\n"
     ]
    }
   ],
   "source": [
    "# This Python 3 environment comes with many helpful analytics libraries installed\n",
    "# It is defined by the kaggle/python Docker image: https://github.com/kaggle/docker-python\n",
    "# For example, here's several helpful packages to load\n",
    "\n",
    "import numpy as np # linear algebra\n",
    "import pandas as pd # data processing, CSV file I/O (e.g. pd.read_csv)\n",
    "\n",
    "# Input data files are available in the read-only \"../input/\" directory\n",
    "# For example, running this (by clicking run or pressing Shift+Enter) will list all files under the input directory\n",
    "\n",
    "import os\n",
    "for dirname, _, filenames in os.walk('/kaggle/input'):\n",
    "    for filename in filenames:\n",
    "        print(os.path.join(dirname, filename))\n",
    "\n",
    "# You can write up to 20GB to the current directory (/kaggle/working/) that gets preserved as output when you create a version using \"Save & Run All\" \n",
    "# You can also write temporary files to /kaggle/temp/, but they won't be saved outside of the current session"
   ]
  },
  {
   "cell_type": "code",
   "execution_count": 2,
   "id": "ae6f4804",
   "metadata": {
    "execution": {
     "iopub.execute_input": "2024-06-22T14:18:22.603200Z",
     "iopub.status.busy": "2024-06-22T14:18:22.602107Z",
     "iopub.status.idle": "2024-06-22T14:18:24.218702Z",
     "shell.execute_reply": "2024-06-22T14:18:24.217573Z"
    },
    "papermill": {
     "duration": 1.641541,
     "end_time": "2024-06-22T14:18:24.221382",
     "exception": false,
     "start_time": "2024-06-22T14:18:22.579841",
     "status": "completed"
    },
    "tags": []
   },
   "outputs": [],
   "source": [
    "import matplotlib.pyplot as plt\n",
    "import seaborn as sns \n",
    "\n",
    "\n",
    "import datetime\n",
    "\n",
    "\n",
    "from sklearn.model_selection import train_test_split "
   ]
  },
  {
   "cell_type": "code",
   "execution_count": 3,
   "id": "81724649",
   "metadata": {
    "execution": {
     "iopub.execute_input": "2024-06-22T14:18:24.264734Z",
     "iopub.status.busy": "2024-06-22T14:18:24.264340Z",
     "iopub.status.idle": "2024-06-22T14:18:24.464310Z",
     "shell.execute_reply": "2024-06-22T14:18:24.463261Z"
    },
    "papermill": {
     "duration": 0.224592,
     "end_time": "2024-06-22T14:18:24.466932",
     "exception": false,
     "start_time": "2024-06-22T14:18:24.242340",
     "status": "completed"
    },
    "tags": []
   },
   "outputs": [],
   "source": [
    "train =pd.read_csv('/kaggle/input/crime-cast-forecasting-crime-categories/train.csv')\n",
    "test=pd.read_csv('/kaggle/input/crime-cast-forecasting-crime-categories/test.csv')\n"
   ]
  },
  {
   "cell_type": "code",
   "execution_count": 4,
   "id": "e828d747",
   "metadata": {
    "execution": {
     "iopub.execute_input": "2024-06-22T14:18:24.511983Z",
     "iopub.status.busy": "2024-06-22T14:18:24.511567Z",
     "iopub.status.idle": "2024-06-22T14:18:24.571959Z",
     "shell.execute_reply": "2024-06-22T14:18:24.570865Z"
    },
    "papermill": {
     "duration": 0.084876,
     "end_time": "2024-06-22T14:18:24.574443",
     "exception": false,
     "start_time": "2024-06-22T14:18:24.489567",
     "status": "completed"
    },
    "tags": []
   },
   "outputs": [
    {
     "data": {
      "text/html": [
       "<div>\n",
       "<style scoped>\n",
       "    .dataframe tbody tr th:only-of-type {\n",
       "        vertical-align: middle;\n",
       "    }\n",
       "\n",
       "    .dataframe tbody tr th {\n",
       "        vertical-align: top;\n",
       "    }\n",
       "\n",
       "    .dataframe thead th {\n",
       "        text-align: right;\n",
       "    }\n",
       "</style>\n",
       "<table border=\"1\" class=\"dataframe\">\n",
       "  <thead>\n",
       "    <tr style=\"text-align: right;\">\n",
       "      <th></th>\n",
       "      <th>Location</th>\n",
       "      <th>Cross_Street</th>\n",
       "      <th>Latitude</th>\n",
       "      <th>Longitude</th>\n",
       "      <th>Date_Reported</th>\n",
       "      <th>Date_Occurred</th>\n",
       "      <th>Time_Occurred</th>\n",
       "      <th>Area_ID</th>\n",
       "      <th>Area_Name</th>\n",
       "      <th>Reporting_District_no</th>\n",
       "      <th>...</th>\n",
       "      <th>Victim_Age</th>\n",
       "      <th>Victim_Sex</th>\n",
       "      <th>Victim_Descent</th>\n",
       "      <th>Premise_Code</th>\n",
       "      <th>Premise_Description</th>\n",
       "      <th>Weapon_Used_Code</th>\n",
       "      <th>Weapon_Description</th>\n",
       "      <th>Status</th>\n",
       "      <th>Status_Description</th>\n",
       "      <th>Crime_Category</th>\n",
       "    </tr>\n",
       "  </thead>\n",
       "  <tbody>\n",
       "    <tr>\n",
       "      <th>0</th>\n",
       "      <td>4500    CARPENTER                    AV</td>\n",
       "      <td>NaN</td>\n",
       "      <td>34.1522</td>\n",
       "      <td>-118.3910</td>\n",
       "      <td>03/09/2020 12:00:00 AM</td>\n",
       "      <td>03/06/2020 12:00:00 AM</td>\n",
       "      <td>1800.0</td>\n",
       "      <td>15.0</td>\n",
       "      <td>N Hollywood</td>\n",
       "      <td>1563.0</td>\n",
       "      <td>...</td>\n",
       "      <td>75.0</td>\n",
       "      <td>M</td>\n",
       "      <td>W</td>\n",
       "      <td>101.0</td>\n",
       "      <td>STREET</td>\n",
       "      <td>NaN</td>\n",
       "      <td>NaN</td>\n",
       "      <td>IC</td>\n",
       "      <td>Invest Cont</td>\n",
       "      <td>Property Crimes</td>\n",
       "    </tr>\n",
       "    <tr>\n",
       "      <th>1</th>\n",
       "      <td>45TH                         ST</td>\n",
       "      <td>ALAMEDA                      ST</td>\n",
       "      <td>34.0028</td>\n",
       "      <td>-118.2391</td>\n",
       "      <td>02/27/2020 12:00:00 AM</td>\n",
       "      <td>02/27/2020 12:00:00 AM</td>\n",
       "      <td>1345.0</td>\n",
       "      <td>13.0</td>\n",
       "      <td>Newton</td>\n",
       "      <td>1367.0</td>\n",
       "      <td>...</td>\n",
       "      <td>41.0</td>\n",
       "      <td>M</td>\n",
       "      <td>H</td>\n",
       "      <td>216.0</td>\n",
       "      <td>SWAP MEET</td>\n",
       "      <td>400.0</td>\n",
       "      <td>STRONG-ARM (HANDS, FIST, FEET OR BODILY FORCE)</td>\n",
       "      <td>IC</td>\n",
       "      <td>Invest Cont</td>\n",
       "      <td>Property Crimes</td>\n",
       "    </tr>\n",
       "    <tr>\n",
       "      <th>2</th>\n",
       "      <td>600 E  MARTIN LUTHER KING JR        BL</td>\n",
       "      <td>NaN</td>\n",
       "      <td>34.0111</td>\n",
       "      <td>-118.2653</td>\n",
       "      <td>08/21/2020 12:00:00 AM</td>\n",
       "      <td>08/21/2020 12:00:00 AM</td>\n",
       "      <td>605.0</td>\n",
       "      <td>13.0</td>\n",
       "      <td>Newton</td>\n",
       "      <td>1343.0</td>\n",
       "      <td>...</td>\n",
       "      <td>67.0</td>\n",
       "      <td>M</td>\n",
       "      <td>B</td>\n",
       "      <td>501.0</td>\n",
       "      <td>SINGLE FAMILY DWELLING</td>\n",
       "      <td>NaN</td>\n",
       "      <td>NaN</td>\n",
       "      <td>IC</td>\n",
       "      <td>Invest Cont</td>\n",
       "      <td>Property Crimes</td>\n",
       "    </tr>\n",
       "    <tr>\n",
       "      <th>3</th>\n",
       "      <td>14900    ORO GRANDE                   ST</td>\n",
       "      <td>NaN</td>\n",
       "      <td>34.2953</td>\n",
       "      <td>-118.4590</td>\n",
       "      <td>11/08/2020 12:00:00 AM</td>\n",
       "      <td>11/06/2020 12:00:00 AM</td>\n",
       "      <td>1800.0</td>\n",
       "      <td>19.0</td>\n",
       "      <td>Mission</td>\n",
       "      <td>1924.0</td>\n",
       "      <td>...</td>\n",
       "      <td>61.0</td>\n",
       "      <td>M</td>\n",
       "      <td>H</td>\n",
       "      <td>101.0</td>\n",
       "      <td>STREET</td>\n",
       "      <td>NaN</td>\n",
       "      <td>NaN</td>\n",
       "      <td>IC</td>\n",
       "      <td>Invest Cont</td>\n",
       "      <td>Property Crimes</td>\n",
       "    </tr>\n",
       "    <tr>\n",
       "      <th>4</th>\n",
       "      <td>7100 S  VERMONT                      AV</td>\n",
       "      <td>NaN</td>\n",
       "      <td>33.9787</td>\n",
       "      <td>-118.2918</td>\n",
       "      <td>02/25/2020 12:00:00 AM</td>\n",
       "      <td>02/25/2020 12:00:00 AM</td>\n",
       "      <td>1130.0</td>\n",
       "      <td>12.0</td>\n",
       "      <td>77th Street</td>\n",
       "      <td>1245.0</td>\n",
       "      <td>...</td>\n",
       "      <td>0.0</td>\n",
       "      <td>X</td>\n",
       "      <td>X</td>\n",
       "      <td>401.0</td>\n",
       "      <td>MINI-MART</td>\n",
       "      <td>400.0</td>\n",
       "      <td>STRONG-ARM (HANDS, FIST, FEET OR BODILY FORCE)</td>\n",
       "      <td>IC</td>\n",
       "      <td>Invest Cont</td>\n",
       "      <td>Property Crimes</td>\n",
       "    </tr>\n",
       "    <tr>\n",
       "      <th>...</th>\n",
       "      <td>...</td>\n",
       "      <td>...</td>\n",
       "      <td>...</td>\n",
       "      <td>...</td>\n",
       "      <td>...</td>\n",
       "      <td>...</td>\n",
       "      <td>...</td>\n",
       "      <td>...</td>\n",
       "      <td>...</td>\n",
       "      <td>...</td>\n",
       "      <td>...</td>\n",
       "      <td>...</td>\n",
       "      <td>...</td>\n",
       "      <td>...</td>\n",
       "      <td>...</td>\n",
       "      <td>...</td>\n",
       "      <td>...</td>\n",
       "      <td>...</td>\n",
       "      <td>...</td>\n",
       "      <td>...</td>\n",
       "      <td>...</td>\n",
       "    </tr>\n",
       "    <tr>\n",
       "      <th>19995</th>\n",
       "      <td>5100 W  ADAMS                        BL</td>\n",
       "      <td>NaN</td>\n",
       "      <td>34.0334</td>\n",
       "      <td>-118.3523</td>\n",
       "      <td>05/24/2020 12:00:00 AM</td>\n",
       "      <td>05/24/2020 12:00:00 AM</td>\n",
       "      <td>700.0</td>\n",
       "      <td>3.0</td>\n",
       "      <td>Southwest</td>\n",
       "      <td>303.0</td>\n",
       "      <td>...</td>\n",
       "      <td>51.0</td>\n",
       "      <td>M</td>\n",
       "      <td>H</td>\n",
       "      <td>501.0</td>\n",
       "      <td>SINGLE FAMILY DWELLING</td>\n",
       "      <td>400.0</td>\n",
       "      <td>STRONG-ARM (HANDS, FIST, FEET OR BODILY FORCE)</td>\n",
       "      <td>IC</td>\n",
       "      <td>Invest Cont</td>\n",
       "      <td>Violent Crimes</td>\n",
       "    </tr>\n",
       "    <tr>\n",
       "      <th>19996</th>\n",
       "      <td>16900    ROSCOE                       BL</td>\n",
       "      <td>NaN</td>\n",
       "      <td>34.2212</td>\n",
       "      <td>-118.5011</td>\n",
       "      <td>12/25/2020 12:00:00 AM</td>\n",
       "      <td>12/25/2020 12:00:00 AM</td>\n",
       "      <td>259.0</td>\n",
       "      <td>10.0</td>\n",
       "      <td>West Valley</td>\n",
       "      <td>1008.0</td>\n",
       "      <td>...</td>\n",
       "      <td>0.0</td>\n",
       "      <td>M</td>\n",
       "      <td>W</td>\n",
       "      <td>301.0</td>\n",
       "      <td>GAS STATION</td>\n",
       "      <td>NaN</td>\n",
       "      <td>NaN</td>\n",
       "      <td>IC</td>\n",
       "      <td>Invest Cont</td>\n",
       "      <td>Property Crimes</td>\n",
       "    </tr>\n",
       "    <tr>\n",
       "      <th>19997</th>\n",
       "      <td>1000 S  SHENANDOAH                   ST</td>\n",
       "      <td>NaN</td>\n",
       "      <td>34.0571</td>\n",
       "      <td>-118.3815</td>\n",
       "      <td>09/25/2020 12:00:00 AM</td>\n",
       "      <td>09/25/2020 12:00:00 AM</td>\n",
       "      <td>1400.0</td>\n",
       "      <td>8.0</td>\n",
       "      <td>West LA</td>\n",
       "      <td>849.0</td>\n",
       "      <td>...</td>\n",
       "      <td>42.0</td>\n",
       "      <td>M</td>\n",
       "      <td>H</td>\n",
       "      <td>102.0</td>\n",
       "      <td>SIDEWALK</td>\n",
       "      <td>NaN</td>\n",
       "      <td>NaN</td>\n",
       "      <td>IC</td>\n",
       "      <td>Invest Cont</td>\n",
       "      <td>Property Crimes</td>\n",
       "    </tr>\n",
       "    <tr>\n",
       "      <th>19998</th>\n",
       "      <td>300 W  SEPULVEDA                    ST</td>\n",
       "      <td>NaN</td>\n",
       "      <td>33.7451</td>\n",
       "      <td>-118.2835</td>\n",
       "      <td>06/10/2020 12:00:00 AM</td>\n",
       "      <td>06/10/2020 12:00:00 AM</td>\n",
       "      <td>600.0</td>\n",
       "      <td>5.0</td>\n",
       "      <td>Harbor</td>\n",
       "      <td>558.0</td>\n",
       "      <td>...</td>\n",
       "      <td>76.0</td>\n",
       "      <td>F</td>\n",
       "      <td>H</td>\n",
       "      <td>501.0</td>\n",
       "      <td>SINGLE FAMILY DWELLING</td>\n",
       "      <td>NaN</td>\n",
       "      <td>NaN</td>\n",
       "      <td>IC</td>\n",
       "      <td>Invest Cont</td>\n",
       "      <td>Crimes against Public Order</td>\n",
       "    </tr>\n",
       "    <tr>\n",
       "      <th>19999</th>\n",
       "      <td>DALTON                       AV</td>\n",
       "      <td>VERNON                       AV</td>\n",
       "      <td>34.0037</td>\n",
       "      <td>-118.3034</td>\n",
       "      <td>02/18/2020 12:00:00 AM</td>\n",
       "      <td>02/17/2020 12:00:00 AM</td>\n",
       "      <td>1800.0</td>\n",
       "      <td>3.0</td>\n",
       "      <td>Southwest</td>\n",
       "      <td>397.0</td>\n",
       "      <td>...</td>\n",
       "      <td>0.0</td>\n",
       "      <td>NaN</td>\n",
       "      <td>NaN</td>\n",
       "      <td>101.0</td>\n",
       "      <td>STREET</td>\n",
       "      <td>NaN</td>\n",
       "      <td>NaN</td>\n",
       "      <td>IC</td>\n",
       "      <td>Invest Cont</td>\n",
       "      <td>Property Crimes</td>\n",
       "    </tr>\n",
       "  </tbody>\n",
       "</table>\n",
       "<p>20000 rows × 22 columns</p>\n",
       "</div>"
      ],
      "text/plain": [
       "                                       Location  \\\n",
       "0       4500    CARPENTER                    AV   \n",
       "1               45TH                         ST   \n",
       "2        600 E  MARTIN LUTHER KING JR        BL   \n",
       "3      14900    ORO GRANDE                   ST   \n",
       "4       7100 S  VERMONT                      AV   \n",
       "...                                         ...   \n",
       "19995   5100 W  ADAMS                        BL   \n",
       "19996  16900    ROSCOE                       BL   \n",
       "19997   1000 S  SHENANDOAH                   ST   \n",
       "19998    300 W  SEPULVEDA                    ST   \n",
       "19999           DALTON                       AV   \n",
       "\n",
       "                          Cross_Street  Latitude  Longitude  \\\n",
       "0                                  NaN   34.1522  -118.3910   \n",
       "1      ALAMEDA                      ST   34.0028  -118.2391   \n",
       "2                                  NaN   34.0111  -118.2653   \n",
       "3                                  NaN   34.2953  -118.4590   \n",
       "4                                  NaN   33.9787  -118.2918   \n",
       "...                                ...       ...        ...   \n",
       "19995                              NaN   34.0334  -118.3523   \n",
       "19996                              NaN   34.2212  -118.5011   \n",
       "19997                              NaN   34.0571  -118.3815   \n",
       "19998                              NaN   33.7451  -118.2835   \n",
       "19999  VERNON                       AV   34.0037  -118.3034   \n",
       "\n",
       "                Date_Reported           Date_Occurred  Time_Occurred  Area_ID  \\\n",
       "0      03/09/2020 12:00:00 AM  03/06/2020 12:00:00 AM         1800.0     15.0   \n",
       "1      02/27/2020 12:00:00 AM  02/27/2020 12:00:00 AM         1345.0     13.0   \n",
       "2      08/21/2020 12:00:00 AM  08/21/2020 12:00:00 AM          605.0     13.0   \n",
       "3      11/08/2020 12:00:00 AM  11/06/2020 12:00:00 AM         1800.0     19.0   \n",
       "4      02/25/2020 12:00:00 AM  02/25/2020 12:00:00 AM         1130.0     12.0   \n",
       "...                       ...                     ...            ...      ...   \n",
       "19995  05/24/2020 12:00:00 AM  05/24/2020 12:00:00 AM          700.0      3.0   \n",
       "19996  12/25/2020 12:00:00 AM  12/25/2020 12:00:00 AM          259.0     10.0   \n",
       "19997  09/25/2020 12:00:00 AM  09/25/2020 12:00:00 AM         1400.0      8.0   \n",
       "19998  06/10/2020 12:00:00 AM  06/10/2020 12:00:00 AM          600.0      5.0   \n",
       "19999  02/18/2020 12:00:00 AM  02/17/2020 12:00:00 AM         1800.0      3.0   \n",
       "\n",
       "         Area_Name  Reporting_District_no  ...  Victim_Age Victim_Sex  \\\n",
       "0      N Hollywood                 1563.0  ...        75.0          M   \n",
       "1           Newton                 1367.0  ...        41.0          M   \n",
       "2           Newton                 1343.0  ...        67.0          M   \n",
       "3          Mission                 1924.0  ...        61.0          M   \n",
       "4      77th Street                 1245.0  ...         0.0          X   \n",
       "...            ...                    ...  ...         ...        ...   \n",
       "19995    Southwest                  303.0  ...        51.0          M   \n",
       "19996  West Valley                 1008.0  ...         0.0          M   \n",
       "19997      West LA                  849.0  ...        42.0          M   \n",
       "19998       Harbor                  558.0  ...        76.0          F   \n",
       "19999    Southwest                  397.0  ...         0.0        NaN   \n",
       "\n",
       "       Victim_Descent Premise_Code     Premise_Description  Weapon_Used_Code  \\\n",
       "0                   W        101.0                  STREET               NaN   \n",
       "1                   H        216.0               SWAP MEET             400.0   \n",
       "2                   B        501.0  SINGLE FAMILY DWELLING               NaN   \n",
       "3                   H        101.0                  STREET               NaN   \n",
       "4                   X        401.0               MINI-MART             400.0   \n",
       "...               ...          ...                     ...               ...   \n",
       "19995               H        501.0  SINGLE FAMILY DWELLING             400.0   \n",
       "19996               W        301.0             GAS STATION               NaN   \n",
       "19997               H        102.0                SIDEWALK               NaN   \n",
       "19998               H        501.0  SINGLE FAMILY DWELLING               NaN   \n",
       "19999             NaN        101.0                  STREET               NaN   \n",
       "\n",
       "                                   Weapon_Description  Status  \\\n",
       "0                                                 NaN      IC   \n",
       "1      STRONG-ARM (HANDS, FIST, FEET OR BODILY FORCE)      IC   \n",
       "2                                                 NaN      IC   \n",
       "3                                                 NaN      IC   \n",
       "4      STRONG-ARM (HANDS, FIST, FEET OR BODILY FORCE)      IC   \n",
       "...                                               ...     ...   \n",
       "19995  STRONG-ARM (HANDS, FIST, FEET OR BODILY FORCE)      IC   \n",
       "19996                                             NaN      IC   \n",
       "19997                                             NaN      IC   \n",
       "19998                                             NaN      IC   \n",
       "19999                                             NaN      IC   \n",
       "\n",
       "      Status_Description               Crime_Category  \n",
       "0            Invest Cont              Property Crimes  \n",
       "1            Invest Cont              Property Crimes  \n",
       "2            Invest Cont              Property Crimes  \n",
       "3            Invest Cont              Property Crimes  \n",
       "4            Invest Cont              Property Crimes  \n",
       "...                  ...                          ...  \n",
       "19995        Invest Cont               Violent Crimes  \n",
       "19996        Invest Cont              Property Crimes  \n",
       "19997        Invest Cont              Property Crimes  \n",
       "19998        Invest Cont  Crimes against Public Order  \n",
       "19999        Invest Cont              Property Crimes  \n",
       "\n",
       "[20000 rows x 22 columns]"
      ]
     },
     "execution_count": 4,
     "metadata": {},
     "output_type": "execute_result"
    }
   ],
   "source": [
    "train"
   ]
  },
  {
   "cell_type": "code",
   "execution_count": 5,
   "id": "a766621c",
   "metadata": {
    "execution": {
     "iopub.execute_input": "2024-06-22T14:18:24.619712Z",
     "iopub.status.busy": "2024-06-22T14:18:24.618957Z",
     "iopub.status.idle": "2024-06-22T14:18:24.625546Z",
     "shell.execute_reply": "2024-06-22T14:18:24.624517Z"
    },
    "papermill": {
     "duration": 0.031508,
     "end_time": "2024-06-22T14:18:24.627750",
     "exception": false,
     "start_time": "2024-06-22T14:18:24.596242",
     "status": "completed"
    },
    "tags": []
   },
   "outputs": [
    {
     "data": {
      "text/plain": [
       "(20000, 22)"
      ]
     },
     "execution_count": 5,
     "metadata": {},
     "output_type": "execute_result"
    }
   ],
   "source": [
    "train.shape"
   ]
  },
  {
   "cell_type": "code",
   "execution_count": 6,
   "id": "888539f9",
   "metadata": {
    "execution": {
     "iopub.execute_input": "2024-06-22T14:18:24.672159Z",
     "iopub.status.busy": "2024-06-22T14:18:24.671726Z",
     "iopub.status.idle": "2024-06-22T14:18:24.707475Z",
     "shell.execute_reply": "2024-06-22T14:18:24.706038Z"
    },
    "papermill": {
     "duration": 0.060555,
     "end_time": "2024-06-22T14:18:24.709835",
     "exception": false,
     "start_time": "2024-06-22T14:18:24.649280",
     "status": "completed"
    },
    "tags": []
   },
   "outputs": [
    {
     "name": "stdout",
     "output_type": "stream",
     "text": [
      "<class 'pandas.core.frame.DataFrame'>\n",
      "RangeIndex: 20000 entries, 0 to 19999\n",
      "Data columns (total 22 columns):\n",
      " #   Column                 Non-Null Count  Dtype  \n",
      "---  ------                 --------------  -----  \n",
      " 0   Location               20000 non-null  object \n",
      " 1   Cross_Street           3448 non-null   object \n",
      " 2   Latitude               20000 non-null  float64\n",
      " 3   Longitude              20000 non-null  float64\n",
      " 4   Date_Reported          20000 non-null  object \n",
      " 5   Date_Occurred          20000 non-null  object \n",
      " 6   Time_Occurred          20000 non-null  float64\n",
      " 7   Area_ID                20000 non-null  float64\n",
      " 8   Area_Name              20000 non-null  object \n",
      " 9   Reporting_District_no  20000 non-null  float64\n",
      " 10  Part 1-2               20000 non-null  float64\n",
      " 11  Modus_Operandi         17259 non-null  object \n",
      " 12  Victim_Age             20000 non-null  float64\n",
      " 13  Victim_Sex             17376 non-null  object \n",
      " 14  Victim_Descent         17376 non-null  object \n",
      " 15  Premise_Code           20000 non-null  float64\n",
      " 16  Premise_Description    19995 non-null  object \n",
      " 17  Weapon_Used_Code       7335 non-null   float64\n",
      " 18  Weapon_Description     7335 non-null   object \n",
      " 19  Status                 20000 non-null  object \n",
      " 20  Status_Description     20000 non-null  object \n",
      " 21  Crime_Category         20000 non-null  object \n",
      "dtypes: float64(9), object(13)\n",
      "memory usage: 3.4+ MB\n"
     ]
    }
   ],
   "source": [
    "train.info()"
   ]
  },
  {
   "cell_type": "code",
   "execution_count": 7,
   "id": "e4e32467",
   "metadata": {
    "execution": {
     "iopub.execute_input": "2024-06-22T14:18:24.754950Z",
     "iopub.status.busy": "2024-06-22T14:18:24.754044Z",
     "iopub.status.idle": "2024-06-22T14:18:24.775538Z",
     "shell.execute_reply": "2024-06-22T14:18:24.774495Z"
    },
    "papermill": {
     "duration": 0.046479,
     "end_time": "2024-06-22T14:18:24.777868",
     "exception": false,
     "start_time": "2024-06-22T14:18:24.731389",
     "status": "completed"
    },
    "tags": []
   },
   "outputs": [
    {
     "data": {
      "text/plain": [
       "Location                     0\n",
       "Cross_Street             16552\n",
       "Latitude                     0\n",
       "Longitude                    0\n",
       "Date_Reported                0\n",
       "Date_Occurred                0\n",
       "Time_Occurred                0\n",
       "Area_ID                      0\n",
       "Area_Name                    0\n",
       "Reporting_District_no        0\n",
       "Part 1-2                     0\n",
       "Modus_Operandi            2741\n",
       "Victim_Age                   0\n",
       "Victim_Sex                2624\n",
       "Victim_Descent            2624\n",
       "Premise_Code                 0\n",
       "Premise_Description          5\n",
       "Weapon_Used_Code         12665\n",
       "Weapon_Description       12665\n",
       "Status                       0\n",
       "Status_Description           0\n",
       "Crime_Category               0\n",
       "dtype: int64"
      ]
     },
     "execution_count": 7,
     "metadata": {},
     "output_type": "execute_result"
    }
   ],
   "source": [
    "train.isnull().sum()"
   ]
  },
  {
   "cell_type": "code",
   "execution_count": 8,
   "id": "811dd619",
   "metadata": {
    "execution": {
     "iopub.execute_input": "2024-06-22T14:18:24.823134Z",
     "iopub.status.busy": "2024-06-22T14:18:24.822387Z",
     "iopub.status.idle": "2024-06-22T14:18:24.834571Z",
     "shell.execute_reply": "2024-06-22T14:18:24.833507Z"
    },
    "papermill": {
     "duration": 0.037191,
     "end_time": "2024-06-22T14:18:24.836656",
     "exception": false,
     "start_time": "2024-06-22T14:18:24.799465",
     "status": "completed"
    },
    "tags": []
   },
   "outputs": [
    {
     "data": {
      "text/plain": [
       "Location                    0\n",
       "Cross_Street             4190\n",
       "Latitude                    0\n",
       "Longitude                   0\n",
       "Date_Reported               0\n",
       "Date_Occurred               0\n",
       "Time_Occurred               0\n",
       "Area_ID                     0\n",
       "Area_Name                   0\n",
       "Reporting_District_no       0\n",
       "Part 1-2                    0\n",
       "Modus_Operandi            684\n",
       "Victim_Age                  0\n",
       "Victim_Sex                643\n",
       "Victim_Descent            643\n",
       "Premise_Code                0\n",
       "Premise_Description         1\n",
       "Weapon_Used_Code         3153\n",
       "Weapon_Description       3153\n",
       "Status                      0\n",
       "Status_Description          0\n",
       "dtype: int64"
      ]
     },
     "execution_count": 8,
     "metadata": {},
     "output_type": "execute_result"
    }
   ],
   "source": [
    "test.isnull().sum()"
   ]
  },
  {
   "cell_type": "code",
   "execution_count": 9,
   "id": "6ba1bc39",
   "metadata": {
    "execution": {
     "iopub.execute_input": "2024-06-22T14:18:24.882694Z",
     "iopub.status.busy": "2024-06-22T14:18:24.881759Z",
     "iopub.status.idle": "2024-06-22T14:18:24.888170Z",
     "shell.execute_reply": "2024-06-22T14:18:24.887211Z"
    },
    "papermill": {
     "duration": 0.031531,
     "end_time": "2024-06-22T14:18:24.890311",
     "exception": false,
     "start_time": "2024-06-22T14:18:24.858780",
     "status": "completed"
    },
    "tags": []
   },
   "outputs": [
    {
     "data": {
      "text/plain": [
       "(5000, 21)"
      ]
     },
     "execution_count": 9,
     "metadata": {},
     "output_type": "execute_result"
    }
   ],
   "source": [
    "test.shape"
   ]
  },
  {
   "cell_type": "code",
   "execution_count": 10,
   "id": "c7b5d248",
   "metadata": {
    "execution": {
     "iopub.execute_input": "2024-06-22T14:18:24.935738Z",
     "iopub.status.busy": "2024-06-22T14:18:24.935335Z",
     "iopub.status.idle": "2024-06-22T14:18:24.943804Z",
     "shell.execute_reply": "2024-06-22T14:18:24.942740Z"
    },
    "papermill": {
     "duration": 0.033976,
     "end_time": "2024-06-22T14:18:24.946169",
     "exception": false,
     "start_time": "2024-06-22T14:18:24.912193",
     "status": "completed"
    },
    "tags": []
   },
   "outputs": [
    {
     "data": {
      "text/plain": [
       "0         4500    CARPENTER                    AV\n",
       "1                 45TH                         ST\n",
       "2          600 E  MARTIN LUTHER KING JR        BL\n",
       "3        14900    ORO GRANDE                   ST\n",
       "4         7100 S  VERMONT                      AV\n",
       "                           ...                   \n",
       "19995     5100 W  ADAMS                        BL\n",
       "19996    16900    ROSCOE                       BL\n",
       "19997     1000 S  SHENANDOAH                   ST\n",
       "19998      300 W  SEPULVEDA                    ST\n",
       "19999             DALTON                       AV\n",
       "Name: Location, Length: 20000, dtype: object"
      ]
     },
     "execution_count": 10,
     "metadata": {},
     "output_type": "execute_result"
    }
   ],
   "source": [
    "train['Location']"
   ]
  },
  {
   "cell_type": "code",
   "execution_count": 11,
   "id": "032a6976",
   "metadata": {
    "execution": {
     "iopub.execute_input": "2024-06-22T14:18:25.053301Z",
     "iopub.status.busy": "2024-06-22T14:18:25.052573Z",
     "iopub.status.idle": "2024-06-22T14:18:25.069285Z",
     "shell.execute_reply": "2024-06-22T14:18:25.068211Z"
    },
    "papermill": {
     "duration": 0.042293,
     "end_time": "2024-06-22T14:18:25.071474",
     "exception": false,
     "start_time": "2024-06-22T14:18:25.029181",
     "status": "completed"
    },
    "tags": []
   },
   "outputs": [
    {
     "data": {
      "text/plain": [
       "Location\n",
       "6TH                                        33\n",
       "7TH                                        32\n",
       "VERMONT                      AV            31\n",
       "6TH                          ST            31\n",
       "7TH                          ST            30\n",
       "                                           ..\n",
       "2700 E  1ST                          ST     1\n",
       "9300    SWINTON                      AV     1\n",
       "MCKINLEY                                    1\n",
       "WADE                         ST             1\n",
       "DALTON                       AV             1\n",
       "Name: count, Length: 12399, dtype: int64"
      ]
     },
     "execution_count": 11,
     "metadata": {},
     "output_type": "execute_result"
    }
   ],
   "source": [
    "train['Location'].value_counts()"
   ]
  },
  {
   "cell_type": "code",
   "execution_count": 12,
   "id": "6c357b44",
   "metadata": {
    "execution": {
     "iopub.execute_input": "2024-06-22T14:18:25.118092Z",
     "iopub.status.busy": "2024-06-22T14:18:25.117674Z",
     "iopub.status.idle": "2024-06-22T14:18:25.127165Z",
     "shell.execute_reply": "2024-06-22T14:18:25.126159Z"
    },
    "papermill": {
     "duration": 0.035165,
     "end_time": "2024-06-22T14:18:25.129306",
     "exception": false,
     "start_time": "2024-06-22T14:18:25.094141",
     "status": "completed"
    },
    "tags": []
   },
   "outputs": [
    {
     "data": {
      "text/plain": [
       "array(['4500    CARPENTER                    AV',\n",
       "       '45TH                         ST',\n",
       "       '600 E  MARTIN LUTHER KING JR        BL', ...,\n",
       "       '15800    STRATHERN                    ST',\n",
       "       '5100 W  ADAMS                        BL',\n",
       "       'DALTON                       AV'], dtype=object)"
      ]
     },
     "execution_count": 12,
     "metadata": {},
     "output_type": "execute_result"
    }
   ],
   "source": [
    "train['Location'].unique()"
   ]
  },
  {
   "cell_type": "code",
   "execution_count": 13,
   "id": "cd769b8b",
   "metadata": {
    "execution": {
     "iopub.execute_input": "2024-06-22T14:18:25.176966Z",
     "iopub.status.busy": "2024-06-22T14:18:25.175990Z",
     "iopub.status.idle": "2024-06-22T14:18:25.185330Z",
     "shell.execute_reply": "2024-06-22T14:18:25.184352Z"
    },
    "papermill": {
     "duration": 0.035557,
     "end_time": "2024-06-22T14:18:25.187446",
     "exception": false,
     "start_time": "2024-06-22T14:18:25.151889",
     "status": "completed"
    },
    "tags": []
   },
   "outputs": [
    {
     "data": {
      "text/plain": [
       "Crime_Category\n",
       "Property Crimes                  11666\n",
       "Violent Crimes                    4767\n",
       "Crimes against Public Order       1808\n",
       "Fraud and White-Collar Crimes     1355\n",
       "Crimes against Persons             225\n",
       "Other Crimes                       179\n",
       "Name: count, dtype: int64"
      ]
     },
     "execution_count": 13,
     "metadata": {},
     "output_type": "execute_result"
    }
   ],
   "source": [
    "train['Crime_Category'].value_counts()"
   ]
  },
  {
   "cell_type": "code",
   "execution_count": 14,
   "id": "b244b10d",
   "metadata": {
    "execution": {
     "iopub.execute_input": "2024-06-22T14:18:25.233989Z",
     "iopub.status.busy": "2024-06-22T14:18:25.233574Z",
     "iopub.status.idle": "2024-06-22T14:18:25.303315Z",
     "shell.execute_reply": "2024-06-22T14:18:25.302199Z"
    },
    "papermill": {
     "duration": 0.095999,
     "end_time": "2024-06-22T14:18:25.305795",
     "exception": false,
     "start_time": "2024-06-22T14:18:25.209796",
     "status": "completed"
    },
    "tags": []
   },
   "outputs": [
    {
     "data": {
      "text/html": [
       "<div>\n",
       "<style scoped>\n",
       "    .dataframe tbody tr th:only-of-type {\n",
       "        vertical-align: middle;\n",
       "    }\n",
       "\n",
       "    .dataframe tbody tr th {\n",
       "        vertical-align: top;\n",
       "    }\n",
       "\n",
       "    .dataframe thead th {\n",
       "        text-align: right;\n",
       "    }\n",
       "</style>\n",
       "<table border=\"1\" class=\"dataframe\">\n",
       "  <thead>\n",
       "    <tr style=\"text-align: right;\">\n",
       "      <th></th>\n",
       "      <th>Location</th>\n",
       "      <th>Cross_Street</th>\n",
       "      <th>Date_Reported</th>\n",
       "      <th>Date_Occurred</th>\n",
       "      <th>Area_Name</th>\n",
       "      <th>Modus_Operandi</th>\n",
       "      <th>Victim_Sex</th>\n",
       "      <th>Victim_Descent</th>\n",
       "      <th>Premise_Description</th>\n",
       "      <th>Weapon_Description</th>\n",
       "      <th>Status</th>\n",
       "      <th>Status_Description</th>\n",
       "      <th>Crime_Category</th>\n",
       "    </tr>\n",
       "  </thead>\n",
       "  <tbody>\n",
       "    <tr>\n",
       "      <th>count</th>\n",
       "      <td>20000</td>\n",
       "      <td>3448</td>\n",
       "      <td>20000</td>\n",
       "      <td>20000</td>\n",
       "      <td>20000</td>\n",
       "      <td>17259</td>\n",
       "      <td>17376</td>\n",
       "      <td>17376</td>\n",
       "      <td>19995</td>\n",
       "      <td>7335</td>\n",
       "      <td>20000</td>\n",
       "      <td>20000</td>\n",
       "      <td>20000</td>\n",
       "    </tr>\n",
       "    <tr>\n",
       "      <th>unique</th>\n",
       "      <td>12399</td>\n",
       "      <td>1495</td>\n",
       "      <td>811</td>\n",
       "      <td>366</td>\n",
       "      <td>21</td>\n",
       "      <td>10489</td>\n",
       "      <td>4</td>\n",
       "      <td>17</td>\n",
       "      <td>216</td>\n",
       "      <td>57</td>\n",
       "      <td>5</td>\n",
       "      <td>5</td>\n",
       "      <td>6</td>\n",
       "    </tr>\n",
       "    <tr>\n",
       "      <th>top</th>\n",
       "      <td>6TH</td>\n",
       "      <td>BROADWAY</td>\n",
       "      <td>07/13/2020 12:00:00 AM</td>\n",
       "      <td>01/01/2020 12:00:00 AM</td>\n",
       "      <td>77th Street</td>\n",
       "      <td>0344</td>\n",
       "      <td>M</td>\n",
       "      <td>H</td>\n",
       "      <td>STREET</td>\n",
       "      <td>STRONG-ARM (HANDS, FIST, FEET OR BODILY FORCE)</td>\n",
       "      <td>IC</td>\n",
       "      <td>Invest Cont</td>\n",
       "      <td>Property Crimes</td>\n",
       "    </tr>\n",
       "    <tr>\n",
       "      <th>freq</th>\n",
       "      <td>33</td>\n",
       "      <td>56</td>\n",
       "      <td>87</td>\n",
       "      <td>137</td>\n",
       "      <td>1345</td>\n",
       "      <td>826</td>\n",
       "      <td>8538</td>\n",
       "      <td>6143</td>\n",
       "      <td>5033</td>\n",
       "      <td>3990</td>\n",
       "      <td>15236</td>\n",
       "      <td>15236</td>\n",
       "      <td>11666</td>\n",
       "    </tr>\n",
       "  </tbody>\n",
       "</table>\n",
       "</div>"
      ],
      "text/plain": [
       "       Location Cross_Street           Date_Reported           Date_Occurred  \\\n",
       "count     20000         3448                   20000                   20000   \n",
       "unique    12399         1495                     811                     366   \n",
       "top         6TH     BROADWAY  07/13/2020 12:00:00 AM  01/01/2020 12:00:00 AM   \n",
       "freq         33           56                      87                     137   \n",
       "\n",
       "          Area_Name Modus_Operandi Victim_Sex Victim_Descent  \\\n",
       "count         20000          17259      17376          17376   \n",
       "unique           21          10489          4             17   \n",
       "top     77th Street           0344          M              H   \n",
       "freq           1345            826       8538           6143   \n",
       "\n",
       "       Premise_Description                              Weapon_Description  \\\n",
       "count                19995                                            7335   \n",
       "unique                 216                                              57   \n",
       "top                 STREET  STRONG-ARM (HANDS, FIST, FEET OR BODILY FORCE)   \n",
       "freq                  5033                                            3990   \n",
       "\n",
       "       Status Status_Description   Crime_Category  \n",
       "count   20000              20000            20000  \n",
       "unique      5                  5                6  \n",
       "top        IC        Invest Cont  Property Crimes  \n",
       "freq    15236              15236            11666  "
      ]
     },
     "execution_count": 14,
     "metadata": {},
     "output_type": "execute_result"
    }
   ],
   "source": [
    "train.describe(include='object')"
   ]
  },
  {
   "cell_type": "code",
   "execution_count": 15,
   "id": "8003c22d",
   "metadata": {
    "execution": {
     "iopub.execute_input": "2024-06-22T14:18:25.353128Z",
     "iopub.status.busy": "2024-06-22T14:18:25.352713Z",
     "iopub.status.idle": "2024-06-22T14:18:25.395590Z",
     "shell.execute_reply": "2024-06-22T14:18:25.394516Z"
    },
    "papermill": {
     "duration": 0.069196,
     "end_time": "2024-06-22T14:18:25.397862",
     "exception": false,
     "start_time": "2024-06-22T14:18:25.328666",
     "status": "completed"
    },
    "tags": []
   },
   "outputs": [
    {
     "data": {
      "text/html": [
       "<div>\n",
       "<style scoped>\n",
       "    .dataframe tbody tr th:only-of-type {\n",
       "        vertical-align: middle;\n",
       "    }\n",
       "\n",
       "    .dataframe tbody tr th {\n",
       "        vertical-align: top;\n",
       "    }\n",
       "\n",
       "    .dataframe thead th {\n",
       "        text-align: right;\n",
       "    }\n",
       "</style>\n",
       "<table border=\"1\" class=\"dataframe\">\n",
       "  <thead>\n",
       "    <tr style=\"text-align: right;\">\n",
       "      <th></th>\n",
       "      <th>Latitude</th>\n",
       "      <th>Longitude</th>\n",
       "      <th>Time_Occurred</th>\n",
       "      <th>Area_ID</th>\n",
       "      <th>Reporting_District_no</th>\n",
       "      <th>Part 1-2</th>\n",
       "      <th>Victim_Age</th>\n",
       "      <th>Premise_Code</th>\n",
       "      <th>Weapon_Used_Code</th>\n",
       "    </tr>\n",
       "  </thead>\n",
       "  <tbody>\n",
       "    <tr>\n",
       "      <th>count</th>\n",
       "      <td>20000.000000</td>\n",
       "      <td>20000.000000</td>\n",
       "      <td>20000.000000</td>\n",
       "      <td>20000.000000</td>\n",
       "      <td>20000.000000</td>\n",
       "      <td>20000.000000</td>\n",
       "      <td>20000.000000</td>\n",
       "      <td>20000.000000</td>\n",
       "      <td>7335.000000</td>\n",
       "    </tr>\n",
       "    <tr>\n",
       "      <th>mean</th>\n",
       "      <td>33.940704</td>\n",
       "      <td>-117.893072</td>\n",
       "      <td>1352.380350</td>\n",
       "      <td>10.834250</td>\n",
       "      <td>1129.599200</td>\n",
       "      <td>1.418150</td>\n",
       "      <td>30.135000</td>\n",
       "      <td>297.176950</td>\n",
       "      <td>366.405044</td>\n",
       "    </tr>\n",
       "    <tr>\n",
       "      <th>std</th>\n",
       "      <td>2.126810</td>\n",
       "      <td>7.377726</td>\n",
       "      <td>646.100291</td>\n",
       "      <td>6.033166</td>\n",
       "      <td>603.330519</td>\n",
       "      <td>0.493267</td>\n",
       "      <td>21.863645</td>\n",
       "      <td>212.007298</td>\n",
       "      <td>120.485687</td>\n",
       "    </tr>\n",
       "    <tr>\n",
       "      <th>min</th>\n",
       "      <td>0.000000</td>\n",
       "      <td>-118.663400</td>\n",
       "      <td>1.000000</td>\n",
       "      <td>1.000000</td>\n",
       "      <td>101.000000</td>\n",
       "      <td>1.000000</td>\n",
       "      <td>-2.000000</td>\n",
       "      <td>101.000000</td>\n",
       "      <td>101.000000</td>\n",
       "    </tr>\n",
       "    <tr>\n",
       "      <th>25%</th>\n",
       "      <td>34.009200</td>\n",
       "      <td>-118.429700</td>\n",
       "      <td>930.000000</td>\n",
       "      <td>6.000000</td>\n",
       "      <td>632.000000</td>\n",
       "      <td>1.000000</td>\n",
       "      <td>12.000000</td>\n",
       "      <td>101.000000</td>\n",
       "      <td>312.000000</td>\n",
       "    </tr>\n",
       "    <tr>\n",
       "      <th>50%</th>\n",
       "      <td>34.058700</td>\n",
       "      <td>-118.323000</td>\n",
       "      <td>1430.000000</td>\n",
       "      <td>11.000000</td>\n",
       "      <td>1162.000000</td>\n",
       "      <td>1.000000</td>\n",
       "      <td>31.000000</td>\n",
       "      <td>203.000000</td>\n",
       "      <td>400.000000</td>\n",
       "    </tr>\n",
       "    <tr>\n",
       "      <th>75%</th>\n",
       "      <td>34.165025</td>\n",
       "      <td>-118.274400</td>\n",
       "      <td>1900.000000</td>\n",
       "      <td>16.000000</td>\n",
       "      <td>1622.000000</td>\n",
       "      <td>2.000000</td>\n",
       "      <td>46.000000</td>\n",
       "      <td>501.000000</td>\n",
       "      <td>400.000000</td>\n",
       "    </tr>\n",
       "    <tr>\n",
       "      <th>max</th>\n",
       "      <td>34.328100</td>\n",
       "      <td>0.000000</td>\n",
       "      <td>2359.000000</td>\n",
       "      <td>21.000000</td>\n",
       "      <td>2197.000000</td>\n",
       "      <td>2.000000</td>\n",
       "      <td>99.000000</td>\n",
       "      <td>969.000000</td>\n",
       "      <td>515.000000</td>\n",
       "    </tr>\n",
       "  </tbody>\n",
       "</table>\n",
       "</div>"
      ],
      "text/plain": [
       "           Latitude     Longitude  Time_Occurred       Area_ID  \\\n",
       "count  20000.000000  20000.000000   20000.000000  20000.000000   \n",
       "mean      33.940704   -117.893072    1352.380350     10.834250   \n",
       "std        2.126810      7.377726     646.100291      6.033166   \n",
       "min        0.000000   -118.663400       1.000000      1.000000   \n",
       "25%       34.009200   -118.429700     930.000000      6.000000   \n",
       "50%       34.058700   -118.323000    1430.000000     11.000000   \n",
       "75%       34.165025   -118.274400    1900.000000     16.000000   \n",
       "max       34.328100      0.000000    2359.000000     21.000000   \n",
       "\n",
       "       Reporting_District_no      Part 1-2    Victim_Age  Premise_Code  \\\n",
       "count           20000.000000  20000.000000  20000.000000  20000.000000   \n",
       "mean             1129.599200      1.418150     30.135000    297.176950   \n",
       "std               603.330519      0.493267     21.863645    212.007298   \n",
       "min               101.000000      1.000000     -2.000000    101.000000   \n",
       "25%               632.000000      1.000000     12.000000    101.000000   \n",
       "50%              1162.000000      1.000000     31.000000    203.000000   \n",
       "75%              1622.000000      2.000000     46.000000    501.000000   \n",
       "max              2197.000000      2.000000     99.000000    969.000000   \n",
       "\n",
       "       Weapon_Used_Code  \n",
       "count       7335.000000  \n",
       "mean         366.405044  \n",
       "std          120.485687  \n",
       "min          101.000000  \n",
       "25%          312.000000  \n",
       "50%          400.000000  \n",
       "75%          400.000000  \n",
       "max          515.000000  "
      ]
     },
     "execution_count": 15,
     "metadata": {},
     "output_type": "execute_result"
    }
   ],
   "source": [
    "train.describe()"
   ]
  },
  {
   "cell_type": "markdown",
   "id": "08450c20",
   "metadata": {
    "papermill": {
     "duration": 0.0235,
     "end_time": "2024-06-22T14:18:25.444744",
     "exception": false,
     "start_time": "2024-06-22T14:18:25.421244",
     "status": "completed"
    },
    "tags": []
   },
   "source": [
    "* Latitude range: [0:34] ( General range is -90 to 90 )\n",
    "* Longitude range: [-118: 0] (General range is 180 to 180)\n",
    "\n"
   ]
  },
  {
   "cell_type": "code",
   "execution_count": 16,
   "id": "95e8c10c",
   "metadata": {
    "execution": {
     "iopub.execute_input": "2024-06-22T14:18:25.501966Z",
     "iopub.status.busy": "2024-06-22T14:18:25.501423Z",
     "iopub.status.idle": "2024-06-22T14:18:25.512346Z",
     "shell.execute_reply": "2024-06-22T14:18:25.510502Z"
    },
    "papermill": {
     "duration": 0.04352,
     "end_time": "2024-06-22T14:18:25.515636",
     "exception": false,
     "start_time": "2024-06-22T14:18:25.472116",
     "status": "completed"
    },
    "tags": []
   },
   "outputs": [],
   "source": [
    "def day_category(x):\n",
    "    if 400<=x<1200:\n",
    "        return 'Morning'\n",
    "    elif 1200<=x<1700:\n",
    "        return 'Daytime'\n",
    "    elif 1800<=x<2100:\n",
    "        return 'Evening'\n",
    "    else:\n",
    "        return 'Night'"
   ]
  },
  {
   "cell_type": "code",
   "execution_count": 17,
   "id": "aaf2d7e9",
   "metadata": {
    "execution": {
     "iopub.execute_input": "2024-06-22T14:18:25.564238Z",
     "iopub.status.busy": "2024-06-22T14:18:25.563434Z",
     "iopub.status.idle": "2024-06-22T14:18:25.578209Z",
     "shell.execute_reply": "2024-06-22T14:18:25.577126Z"
    },
    "papermill": {
     "duration": 0.041419,
     "end_time": "2024-06-22T14:18:25.580338",
     "exception": false,
     "start_time": "2024-06-22T14:18:25.538919",
     "status": "completed"
    },
    "tags": []
   },
   "outputs": [],
   "source": [
    "train['day_category']=train['Time_Occurred'].apply(day_category )"
   ]
  },
  {
   "cell_type": "code",
   "execution_count": 18,
   "id": "e2476751",
   "metadata": {
    "execution": {
     "iopub.execute_input": "2024-06-22T14:18:25.633813Z",
     "iopub.status.busy": "2024-06-22T14:18:25.632791Z",
     "iopub.status.idle": "2024-06-22T14:18:25.696456Z",
     "shell.execute_reply": "2024-06-22T14:18:25.695105Z"
    },
    "papermill": {
     "duration": 0.095943,
     "end_time": "2024-06-22T14:18:25.699471",
     "exception": false,
     "start_time": "2024-06-22T14:18:25.603528",
     "status": "completed"
    },
    "tags": []
   },
   "outputs": [
    {
     "data": {
      "text/html": [
       "<div>\n",
       "<style scoped>\n",
       "    .dataframe tbody tr th:only-of-type {\n",
       "        vertical-align: middle;\n",
       "    }\n",
       "\n",
       "    .dataframe tbody tr th {\n",
       "        vertical-align: top;\n",
       "    }\n",
       "\n",
       "    .dataframe thead th {\n",
       "        text-align: right;\n",
       "    }\n",
       "</style>\n",
       "<table border=\"1\" class=\"dataframe\">\n",
       "  <thead>\n",
       "    <tr style=\"text-align: right;\">\n",
       "      <th></th>\n",
       "      <th>Location</th>\n",
       "      <th>Cross_Street</th>\n",
       "      <th>Latitude</th>\n",
       "      <th>Longitude</th>\n",
       "      <th>Date_Reported</th>\n",
       "      <th>Date_Occurred</th>\n",
       "      <th>Time_Occurred</th>\n",
       "      <th>Area_ID</th>\n",
       "      <th>Area_Name</th>\n",
       "      <th>Reporting_District_no</th>\n",
       "      <th>...</th>\n",
       "      <th>Victim_Sex</th>\n",
       "      <th>Victim_Descent</th>\n",
       "      <th>Premise_Code</th>\n",
       "      <th>Premise_Description</th>\n",
       "      <th>Weapon_Used_Code</th>\n",
       "      <th>Weapon_Description</th>\n",
       "      <th>Status</th>\n",
       "      <th>Status_Description</th>\n",
       "      <th>Crime_Category</th>\n",
       "      <th>day_category</th>\n",
       "    </tr>\n",
       "  </thead>\n",
       "  <tbody>\n",
       "    <tr>\n",
       "      <th>0</th>\n",
       "      <td>4500    CARPENTER                    AV</td>\n",
       "      <td>NaN</td>\n",
       "      <td>34.1522</td>\n",
       "      <td>-118.3910</td>\n",
       "      <td>03/09/2020 12:00:00 AM</td>\n",
       "      <td>03/06/2020 12:00:00 AM</td>\n",
       "      <td>1800.0</td>\n",
       "      <td>15.0</td>\n",
       "      <td>N Hollywood</td>\n",
       "      <td>1563.0</td>\n",
       "      <td>...</td>\n",
       "      <td>M</td>\n",
       "      <td>W</td>\n",
       "      <td>101.0</td>\n",
       "      <td>STREET</td>\n",
       "      <td>NaN</td>\n",
       "      <td>NaN</td>\n",
       "      <td>IC</td>\n",
       "      <td>Invest Cont</td>\n",
       "      <td>Property Crimes</td>\n",
       "      <td>Evening</td>\n",
       "    </tr>\n",
       "    <tr>\n",
       "      <th>1</th>\n",
       "      <td>45TH                         ST</td>\n",
       "      <td>ALAMEDA                      ST</td>\n",
       "      <td>34.0028</td>\n",
       "      <td>-118.2391</td>\n",
       "      <td>02/27/2020 12:00:00 AM</td>\n",
       "      <td>02/27/2020 12:00:00 AM</td>\n",
       "      <td>1345.0</td>\n",
       "      <td>13.0</td>\n",
       "      <td>Newton</td>\n",
       "      <td>1367.0</td>\n",
       "      <td>...</td>\n",
       "      <td>M</td>\n",
       "      <td>H</td>\n",
       "      <td>216.0</td>\n",
       "      <td>SWAP MEET</td>\n",
       "      <td>400.0</td>\n",
       "      <td>STRONG-ARM (HANDS, FIST, FEET OR BODILY FORCE)</td>\n",
       "      <td>IC</td>\n",
       "      <td>Invest Cont</td>\n",
       "      <td>Property Crimes</td>\n",
       "      <td>Daytime</td>\n",
       "    </tr>\n",
       "    <tr>\n",
       "      <th>2</th>\n",
       "      <td>600 E  MARTIN LUTHER KING JR        BL</td>\n",
       "      <td>NaN</td>\n",
       "      <td>34.0111</td>\n",
       "      <td>-118.2653</td>\n",
       "      <td>08/21/2020 12:00:00 AM</td>\n",
       "      <td>08/21/2020 12:00:00 AM</td>\n",
       "      <td>605.0</td>\n",
       "      <td>13.0</td>\n",
       "      <td>Newton</td>\n",
       "      <td>1343.0</td>\n",
       "      <td>...</td>\n",
       "      <td>M</td>\n",
       "      <td>B</td>\n",
       "      <td>501.0</td>\n",
       "      <td>SINGLE FAMILY DWELLING</td>\n",
       "      <td>NaN</td>\n",
       "      <td>NaN</td>\n",
       "      <td>IC</td>\n",
       "      <td>Invest Cont</td>\n",
       "      <td>Property Crimes</td>\n",
       "      <td>Morning</td>\n",
       "    </tr>\n",
       "    <tr>\n",
       "      <th>3</th>\n",
       "      <td>14900    ORO GRANDE                   ST</td>\n",
       "      <td>NaN</td>\n",
       "      <td>34.2953</td>\n",
       "      <td>-118.4590</td>\n",
       "      <td>11/08/2020 12:00:00 AM</td>\n",
       "      <td>11/06/2020 12:00:00 AM</td>\n",
       "      <td>1800.0</td>\n",
       "      <td>19.0</td>\n",
       "      <td>Mission</td>\n",
       "      <td>1924.0</td>\n",
       "      <td>...</td>\n",
       "      <td>M</td>\n",
       "      <td>H</td>\n",
       "      <td>101.0</td>\n",
       "      <td>STREET</td>\n",
       "      <td>NaN</td>\n",
       "      <td>NaN</td>\n",
       "      <td>IC</td>\n",
       "      <td>Invest Cont</td>\n",
       "      <td>Property Crimes</td>\n",
       "      <td>Evening</td>\n",
       "    </tr>\n",
       "    <tr>\n",
       "      <th>4</th>\n",
       "      <td>7100 S  VERMONT                      AV</td>\n",
       "      <td>NaN</td>\n",
       "      <td>33.9787</td>\n",
       "      <td>-118.2918</td>\n",
       "      <td>02/25/2020 12:00:00 AM</td>\n",
       "      <td>02/25/2020 12:00:00 AM</td>\n",
       "      <td>1130.0</td>\n",
       "      <td>12.0</td>\n",
       "      <td>77th Street</td>\n",
       "      <td>1245.0</td>\n",
       "      <td>...</td>\n",
       "      <td>X</td>\n",
       "      <td>X</td>\n",
       "      <td>401.0</td>\n",
       "      <td>MINI-MART</td>\n",
       "      <td>400.0</td>\n",
       "      <td>STRONG-ARM (HANDS, FIST, FEET OR BODILY FORCE)</td>\n",
       "      <td>IC</td>\n",
       "      <td>Invest Cont</td>\n",
       "      <td>Property Crimes</td>\n",
       "      <td>Morning</td>\n",
       "    </tr>\n",
       "    <tr>\n",
       "      <th>...</th>\n",
       "      <td>...</td>\n",
       "      <td>...</td>\n",
       "      <td>...</td>\n",
       "      <td>...</td>\n",
       "      <td>...</td>\n",
       "      <td>...</td>\n",
       "      <td>...</td>\n",
       "      <td>...</td>\n",
       "      <td>...</td>\n",
       "      <td>...</td>\n",
       "      <td>...</td>\n",
       "      <td>...</td>\n",
       "      <td>...</td>\n",
       "      <td>...</td>\n",
       "      <td>...</td>\n",
       "      <td>...</td>\n",
       "      <td>...</td>\n",
       "      <td>...</td>\n",
       "      <td>...</td>\n",
       "      <td>...</td>\n",
       "      <td>...</td>\n",
       "    </tr>\n",
       "    <tr>\n",
       "      <th>19995</th>\n",
       "      <td>5100 W  ADAMS                        BL</td>\n",
       "      <td>NaN</td>\n",
       "      <td>34.0334</td>\n",
       "      <td>-118.3523</td>\n",
       "      <td>05/24/2020 12:00:00 AM</td>\n",
       "      <td>05/24/2020 12:00:00 AM</td>\n",
       "      <td>700.0</td>\n",
       "      <td>3.0</td>\n",
       "      <td>Southwest</td>\n",
       "      <td>303.0</td>\n",
       "      <td>...</td>\n",
       "      <td>M</td>\n",
       "      <td>H</td>\n",
       "      <td>501.0</td>\n",
       "      <td>SINGLE FAMILY DWELLING</td>\n",
       "      <td>400.0</td>\n",
       "      <td>STRONG-ARM (HANDS, FIST, FEET OR BODILY FORCE)</td>\n",
       "      <td>IC</td>\n",
       "      <td>Invest Cont</td>\n",
       "      <td>Violent Crimes</td>\n",
       "      <td>Morning</td>\n",
       "    </tr>\n",
       "    <tr>\n",
       "      <th>19996</th>\n",
       "      <td>16900    ROSCOE                       BL</td>\n",
       "      <td>NaN</td>\n",
       "      <td>34.2212</td>\n",
       "      <td>-118.5011</td>\n",
       "      <td>12/25/2020 12:00:00 AM</td>\n",
       "      <td>12/25/2020 12:00:00 AM</td>\n",
       "      <td>259.0</td>\n",
       "      <td>10.0</td>\n",
       "      <td>West Valley</td>\n",
       "      <td>1008.0</td>\n",
       "      <td>...</td>\n",
       "      <td>M</td>\n",
       "      <td>W</td>\n",
       "      <td>301.0</td>\n",
       "      <td>GAS STATION</td>\n",
       "      <td>NaN</td>\n",
       "      <td>NaN</td>\n",
       "      <td>IC</td>\n",
       "      <td>Invest Cont</td>\n",
       "      <td>Property Crimes</td>\n",
       "      <td>Night</td>\n",
       "    </tr>\n",
       "    <tr>\n",
       "      <th>19997</th>\n",
       "      <td>1000 S  SHENANDOAH                   ST</td>\n",
       "      <td>NaN</td>\n",
       "      <td>34.0571</td>\n",
       "      <td>-118.3815</td>\n",
       "      <td>09/25/2020 12:00:00 AM</td>\n",
       "      <td>09/25/2020 12:00:00 AM</td>\n",
       "      <td>1400.0</td>\n",
       "      <td>8.0</td>\n",
       "      <td>West LA</td>\n",
       "      <td>849.0</td>\n",
       "      <td>...</td>\n",
       "      <td>M</td>\n",
       "      <td>H</td>\n",
       "      <td>102.0</td>\n",
       "      <td>SIDEWALK</td>\n",
       "      <td>NaN</td>\n",
       "      <td>NaN</td>\n",
       "      <td>IC</td>\n",
       "      <td>Invest Cont</td>\n",
       "      <td>Property Crimes</td>\n",
       "      <td>Daytime</td>\n",
       "    </tr>\n",
       "    <tr>\n",
       "      <th>19998</th>\n",
       "      <td>300 W  SEPULVEDA                    ST</td>\n",
       "      <td>NaN</td>\n",
       "      <td>33.7451</td>\n",
       "      <td>-118.2835</td>\n",
       "      <td>06/10/2020 12:00:00 AM</td>\n",
       "      <td>06/10/2020 12:00:00 AM</td>\n",
       "      <td>600.0</td>\n",
       "      <td>5.0</td>\n",
       "      <td>Harbor</td>\n",
       "      <td>558.0</td>\n",
       "      <td>...</td>\n",
       "      <td>F</td>\n",
       "      <td>H</td>\n",
       "      <td>501.0</td>\n",
       "      <td>SINGLE FAMILY DWELLING</td>\n",
       "      <td>NaN</td>\n",
       "      <td>NaN</td>\n",
       "      <td>IC</td>\n",
       "      <td>Invest Cont</td>\n",
       "      <td>Crimes against Public Order</td>\n",
       "      <td>Morning</td>\n",
       "    </tr>\n",
       "    <tr>\n",
       "      <th>19999</th>\n",
       "      <td>DALTON                       AV</td>\n",
       "      <td>VERNON                       AV</td>\n",
       "      <td>34.0037</td>\n",
       "      <td>-118.3034</td>\n",
       "      <td>02/18/2020 12:00:00 AM</td>\n",
       "      <td>02/17/2020 12:00:00 AM</td>\n",
       "      <td>1800.0</td>\n",
       "      <td>3.0</td>\n",
       "      <td>Southwest</td>\n",
       "      <td>397.0</td>\n",
       "      <td>...</td>\n",
       "      <td>NaN</td>\n",
       "      <td>NaN</td>\n",
       "      <td>101.0</td>\n",
       "      <td>STREET</td>\n",
       "      <td>NaN</td>\n",
       "      <td>NaN</td>\n",
       "      <td>IC</td>\n",
       "      <td>Invest Cont</td>\n",
       "      <td>Property Crimes</td>\n",
       "      <td>Evening</td>\n",
       "    </tr>\n",
       "  </tbody>\n",
       "</table>\n",
       "<p>20000 rows × 23 columns</p>\n",
       "</div>"
      ],
      "text/plain": [
       "                                       Location  \\\n",
       "0       4500    CARPENTER                    AV   \n",
       "1               45TH                         ST   \n",
       "2        600 E  MARTIN LUTHER KING JR        BL   \n",
       "3      14900    ORO GRANDE                   ST   \n",
       "4       7100 S  VERMONT                      AV   \n",
       "...                                         ...   \n",
       "19995   5100 W  ADAMS                        BL   \n",
       "19996  16900    ROSCOE                       BL   \n",
       "19997   1000 S  SHENANDOAH                   ST   \n",
       "19998    300 W  SEPULVEDA                    ST   \n",
       "19999           DALTON                       AV   \n",
       "\n",
       "                          Cross_Street  Latitude  Longitude  \\\n",
       "0                                  NaN   34.1522  -118.3910   \n",
       "1      ALAMEDA                      ST   34.0028  -118.2391   \n",
       "2                                  NaN   34.0111  -118.2653   \n",
       "3                                  NaN   34.2953  -118.4590   \n",
       "4                                  NaN   33.9787  -118.2918   \n",
       "...                                ...       ...        ...   \n",
       "19995                              NaN   34.0334  -118.3523   \n",
       "19996                              NaN   34.2212  -118.5011   \n",
       "19997                              NaN   34.0571  -118.3815   \n",
       "19998                              NaN   33.7451  -118.2835   \n",
       "19999  VERNON                       AV   34.0037  -118.3034   \n",
       "\n",
       "                Date_Reported           Date_Occurred  Time_Occurred  Area_ID  \\\n",
       "0      03/09/2020 12:00:00 AM  03/06/2020 12:00:00 AM         1800.0     15.0   \n",
       "1      02/27/2020 12:00:00 AM  02/27/2020 12:00:00 AM         1345.0     13.0   \n",
       "2      08/21/2020 12:00:00 AM  08/21/2020 12:00:00 AM          605.0     13.0   \n",
       "3      11/08/2020 12:00:00 AM  11/06/2020 12:00:00 AM         1800.0     19.0   \n",
       "4      02/25/2020 12:00:00 AM  02/25/2020 12:00:00 AM         1130.0     12.0   \n",
       "...                       ...                     ...            ...      ...   \n",
       "19995  05/24/2020 12:00:00 AM  05/24/2020 12:00:00 AM          700.0      3.0   \n",
       "19996  12/25/2020 12:00:00 AM  12/25/2020 12:00:00 AM          259.0     10.0   \n",
       "19997  09/25/2020 12:00:00 AM  09/25/2020 12:00:00 AM         1400.0      8.0   \n",
       "19998  06/10/2020 12:00:00 AM  06/10/2020 12:00:00 AM          600.0      5.0   \n",
       "19999  02/18/2020 12:00:00 AM  02/17/2020 12:00:00 AM         1800.0      3.0   \n",
       "\n",
       "         Area_Name  Reporting_District_no  ...  Victim_Sex Victim_Descent  \\\n",
       "0      N Hollywood                 1563.0  ...           M              W   \n",
       "1           Newton                 1367.0  ...           M              H   \n",
       "2           Newton                 1343.0  ...           M              B   \n",
       "3          Mission                 1924.0  ...           M              H   \n",
       "4      77th Street                 1245.0  ...           X              X   \n",
       "...            ...                    ...  ...         ...            ...   \n",
       "19995    Southwest                  303.0  ...           M              H   \n",
       "19996  West Valley                 1008.0  ...           M              W   \n",
       "19997      West LA                  849.0  ...           M              H   \n",
       "19998       Harbor                  558.0  ...           F              H   \n",
       "19999    Southwest                  397.0  ...         NaN            NaN   \n",
       "\n",
       "       Premise_Code     Premise_Description Weapon_Used_Code  \\\n",
       "0             101.0                  STREET              NaN   \n",
       "1             216.0               SWAP MEET            400.0   \n",
       "2             501.0  SINGLE FAMILY DWELLING              NaN   \n",
       "3             101.0                  STREET              NaN   \n",
       "4             401.0               MINI-MART            400.0   \n",
       "...             ...                     ...              ...   \n",
       "19995         501.0  SINGLE FAMILY DWELLING            400.0   \n",
       "19996         301.0             GAS STATION              NaN   \n",
       "19997         102.0                SIDEWALK              NaN   \n",
       "19998         501.0  SINGLE FAMILY DWELLING              NaN   \n",
       "19999         101.0                  STREET              NaN   \n",
       "\n",
       "                                   Weapon_Description Status  \\\n",
       "0                                                 NaN     IC   \n",
       "1      STRONG-ARM (HANDS, FIST, FEET OR BODILY FORCE)     IC   \n",
       "2                                                 NaN     IC   \n",
       "3                                                 NaN     IC   \n",
       "4      STRONG-ARM (HANDS, FIST, FEET OR BODILY FORCE)     IC   \n",
       "...                                               ...    ...   \n",
       "19995  STRONG-ARM (HANDS, FIST, FEET OR BODILY FORCE)     IC   \n",
       "19996                                             NaN     IC   \n",
       "19997                                             NaN     IC   \n",
       "19998                                             NaN     IC   \n",
       "19999                                             NaN     IC   \n",
       "\n",
       "       Status_Description               Crime_Category day_category  \n",
       "0             Invest Cont              Property Crimes      Evening  \n",
       "1             Invest Cont              Property Crimes      Daytime  \n",
       "2             Invest Cont              Property Crimes      Morning  \n",
       "3             Invest Cont              Property Crimes      Evening  \n",
       "4             Invest Cont              Property Crimes      Morning  \n",
       "...                   ...                          ...          ...  \n",
       "19995         Invest Cont               Violent Crimes      Morning  \n",
       "19996         Invest Cont              Property Crimes        Night  \n",
       "19997         Invest Cont              Property Crimes      Daytime  \n",
       "19998         Invest Cont  Crimes against Public Order      Morning  \n",
       "19999         Invest Cont              Property Crimes      Evening  \n",
       "\n",
       "[20000 rows x 23 columns]"
      ]
     },
     "execution_count": 18,
     "metadata": {},
     "output_type": "execute_result"
    }
   ],
   "source": [
    "train"
   ]
  },
  {
   "cell_type": "code",
   "execution_count": 19,
   "id": "b84eba54",
   "metadata": {
    "execution": {
     "iopub.execute_input": "2024-06-22T14:18:25.756534Z",
     "iopub.status.busy": "2024-06-22T14:18:25.755582Z",
     "iopub.status.idle": "2024-06-22T14:18:25.761138Z",
     "shell.execute_reply": "2024-06-22T14:18:25.759991Z"
    },
    "papermill": {
     "duration": 0.032914,
     "end_time": "2024-06-22T14:18:25.763306",
     "exception": false,
     "start_time": "2024-06-22T14:18:25.730392",
     "status": "completed"
    },
    "tags": []
   },
   "outputs": [],
   "source": [
    "\n",
    "def extract_date(d):\n",
    "    date=d.split(' ')[0]\n",
    "    \n",
    "    \n",
    "    date=pd.to_datetime(date).date()\n",
    "    \n",
    "    \n",
    "    return date\n",
    "    "
   ]
  },
  {
   "cell_type": "code",
   "execution_count": 20,
   "id": "feb13c17",
   "metadata": {
    "execution": {
     "iopub.execute_input": "2024-06-22T14:18:25.814607Z",
     "iopub.status.busy": "2024-06-22T14:18:25.813753Z",
     "iopub.status.idle": "2024-06-22T14:18:44.074687Z",
     "shell.execute_reply": "2024-06-22T14:18:44.073818Z"
    },
    "papermill": {
     "duration": 18.290027,
     "end_time": "2024-06-22T14:18:44.077303",
     "exception": false,
     "start_time": "2024-06-22T14:18:25.787276",
     "status": "completed"
    },
    "tags": []
   },
   "outputs": [],
   "source": [
    "train['Date_Reported']=train['Date_Reported'].apply(extract_date)\n",
    "train['Date_Occurred']=train['Date_Occurred'].apply(extract_date)\n"
   ]
  },
  {
   "cell_type": "code",
   "execution_count": 21,
   "id": "6938b960",
   "metadata": {
    "execution": {
     "iopub.execute_input": "2024-06-22T14:18:44.126796Z",
     "iopub.status.busy": "2024-06-22T14:18:44.126115Z",
     "iopub.status.idle": "2024-06-22T14:18:44.132913Z",
     "shell.execute_reply": "2024-06-22T14:18:44.131882Z"
    },
    "papermill": {
     "duration": 0.034046,
     "end_time": "2024-06-22T14:18:44.135084",
     "exception": false,
     "start_time": "2024-06-22T14:18:44.101038",
     "status": "completed"
    },
    "tags": []
   },
   "outputs": [
    {
     "data": {
      "text/plain": [
       "datetime.date"
      ]
     },
     "execution_count": 21,
     "metadata": {},
     "output_type": "execute_result"
    }
   ],
   "source": [
    "type(train['Date_Reported'][0])"
   ]
  },
  {
   "cell_type": "code",
   "execution_count": 22,
   "id": "a0c096de",
   "metadata": {
    "execution": {
     "iopub.execute_input": "2024-06-22T14:18:44.184795Z",
     "iopub.status.busy": "2024-06-22T14:18:44.184425Z",
     "iopub.status.idle": "2024-06-22T14:18:44.191498Z",
     "shell.execute_reply": "2024-06-22T14:18:44.190455Z"
    },
    "papermill": {
     "duration": 0.034633,
     "end_time": "2024-06-22T14:18:44.193698",
     "exception": false,
     "start_time": "2024-06-22T14:18:44.159065",
     "status": "completed"
    },
    "tags": []
   },
   "outputs": [
    {
     "data": {
      "text/plain": [
       "3"
      ]
     },
     "execution_count": 22,
     "metadata": {},
     "output_type": "execute_result"
    }
   ],
   "source": [
    "k=train['Date_Reported'][0]-train['Date_Occurred'][0]\n",
    "k.days"
   ]
  },
  {
   "cell_type": "code",
   "execution_count": 23,
   "id": "44b73a52",
   "metadata": {
    "execution": {
     "iopub.execute_input": "2024-06-22T14:18:44.243397Z",
     "iopub.status.busy": "2024-06-22T14:18:44.242982Z",
     "iopub.status.idle": "2024-06-22T14:18:44.272681Z",
     "shell.execute_reply": "2024-06-22T14:18:44.271528Z"
    },
    "papermill": {
     "duration": 0.057752,
     "end_time": "2024-06-22T14:18:44.275378",
     "exception": false,
     "start_time": "2024-06-22T14:18:44.217626",
     "status": "completed"
    },
    "tags": []
   },
   "outputs": [],
   "source": [
    "train['Date_Reported']=pd.to_datetime(train['Date_Reported']).dt.date\n",
    "train['Date_Occurred']=pd.to_datetime(train['Date_Occurred']).dt.date\n",
    "\n",
    "train['reporting_delay_day_count']=(train['Date_Reported']-train['Date_Occurred'])"
   ]
  },
  {
   "cell_type": "code",
   "execution_count": 24,
   "id": "abf5fa5d",
   "metadata": {
    "execution": {
     "iopub.execute_input": "2024-06-22T14:18:44.325217Z",
     "iopub.status.busy": "2024-06-22T14:18:44.324802Z",
     "iopub.status.idle": "2024-06-22T14:18:44.339522Z",
     "shell.execute_reply": "2024-06-22T14:18:44.338213Z"
    },
    "papermill": {
     "duration": 0.042322,
     "end_time": "2024-06-22T14:18:44.341822",
     "exception": false,
     "start_time": "2024-06-22T14:18:44.299500",
     "status": "completed"
    },
    "tags": []
   },
   "outputs": [],
   "source": [
    "def day_count(d):\n",
    "    return d.days\n",
    "train['reporting_delay_day_count']=train['reporting_delay_day_count'].apply(day_count)"
   ]
  },
  {
   "cell_type": "code",
   "execution_count": 25,
   "id": "f8daf3eb",
   "metadata": {
    "execution": {
     "iopub.execute_input": "2024-06-22T14:18:44.391843Z",
     "iopub.status.busy": "2024-06-22T14:18:44.391412Z",
     "iopub.status.idle": "2024-06-22T14:18:44.400665Z",
     "shell.execute_reply": "2024-06-22T14:18:44.399461Z"
    },
    "papermill": {
     "duration": 0.037141,
     "end_time": "2024-06-22T14:18:44.403090",
     "exception": false,
     "start_time": "2024-06-22T14:18:44.365949",
     "status": "completed"
    },
    "tags": []
   },
   "outputs": [
    {
     "data": {
      "text/plain": [
       "0        3\n",
       "1        0\n",
       "2        0\n",
       "3        2\n",
       "4        0\n",
       "        ..\n",
       "19995    0\n",
       "19996    0\n",
       "19997    0\n",
       "19998    0\n",
       "19999    1\n",
       "Name: reporting_delay_day_count, Length: 20000, dtype: int64"
      ]
     },
     "execution_count": 25,
     "metadata": {},
     "output_type": "execute_result"
    }
   ],
   "source": [
    "train['reporting_delay_day_count']"
   ]
  },
  {
   "cell_type": "code",
   "execution_count": 26,
   "id": "db7b9fce",
   "metadata": {
    "execution": {
     "iopub.execute_input": "2024-06-22T14:18:44.453376Z",
     "iopub.status.busy": "2024-06-22T14:18:44.452662Z",
     "iopub.status.idle": "2024-06-22T14:18:44.477899Z",
     "shell.execute_reply": "2024-06-22T14:18:44.476636Z"
    },
    "papermill": {
     "duration": 0.052801,
     "end_time": "2024-06-22T14:18:44.480197",
     "exception": false,
     "start_time": "2024-06-22T14:18:44.427396",
     "status": "completed"
    },
    "tags": []
   },
   "outputs": [
    {
     "name": "stdout",
     "output_type": "stream",
     "text": [
      "<class 'pandas.core.frame.DataFrame'>\n",
      "RangeIndex: 20000 entries, 0 to 19999\n",
      "Data columns (total 24 columns):\n",
      " #   Column                     Non-Null Count  Dtype  \n",
      "---  ------                     --------------  -----  \n",
      " 0   Location                   20000 non-null  object \n",
      " 1   Cross_Street               3448 non-null   object \n",
      " 2   Latitude                   20000 non-null  float64\n",
      " 3   Longitude                  20000 non-null  float64\n",
      " 4   Date_Reported              20000 non-null  object \n",
      " 5   Date_Occurred              20000 non-null  object \n",
      " 6   Time_Occurred              20000 non-null  float64\n",
      " 7   Area_ID                    20000 non-null  float64\n",
      " 8   Area_Name                  20000 non-null  object \n",
      " 9   Reporting_District_no      20000 non-null  float64\n",
      " 10  Part 1-2                   20000 non-null  float64\n",
      " 11  Modus_Operandi             17259 non-null  object \n",
      " 12  Victim_Age                 20000 non-null  float64\n",
      " 13  Victim_Sex                 17376 non-null  object \n",
      " 14  Victim_Descent             17376 non-null  object \n",
      " 15  Premise_Code               20000 non-null  float64\n",
      " 16  Premise_Description        19995 non-null  object \n",
      " 17  Weapon_Used_Code           7335 non-null   float64\n",
      " 18  Weapon_Description         7335 non-null   object \n",
      " 19  Status                     20000 non-null  object \n",
      " 20  Status_Description         20000 non-null  object \n",
      " 21  Crime_Category             20000 non-null  object \n",
      " 22  day_category               20000 non-null  object \n",
      " 23  reporting_delay_day_count  20000 non-null  int64  \n",
      "dtypes: float64(9), int64(1), object(14)\n",
      "memory usage: 3.7+ MB\n"
     ]
    }
   ],
   "source": [
    "train.info()"
   ]
  },
  {
   "cell_type": "code",
   "execution_count": 27,
   "id": "0c2545b2",
   "metadata": {
    "execution": {
     "iopub.execute_input": "2024-06-22T14:18:44.529855Z",
     "iopub.status.busy": "2024-06-22T14:18:44.529480Z",
     "iopub.status.idle": "2024-06-22T14:18:44.539634Z",
     "shell.execute_reply": "2024-06-22T14:18:44.538427Z"
    },
    "papermill": {
     "duration": 0.03762,
     "end_time": "2024-06-22T14:18:44.541835",
     "exception": false,
     "start_time": "2024-06-22T14:18:44.504215",
     "status": "completed"
    },
    "tags": []
   },
   "outputs": [
    {
     "data": {
      "text/plain": [
       "Premise_Description\n",
       "STREET                                          5033\n",
       "SINGLE FAMILY DWELLING                          3379\n",
       "MULTI-UNIT DWELLING (APARTMENT, DUPLEX, ETC)    2491\n",
       "PARKING LOT                                     1437\n",
       "SIDEWALK                                         978\n",
       "                                                ... \n",
       "BUS DEPOT/TERMINAL, OTHER THAN MTA                 1\n",
       "MTA - RED LINE - HOLLYWOOD/WESTERN                 1\n",
       "MTA - SILVER LINE - ROSECRANS                      1\n",
       "HIGH-RISE BUILDING                                 1\n",
       "COMPUTER SERVICES/REPAIRS/SALES                    1\n",
       "Name: count, Length: 216, dtype: int64"
      ]
     },
     "execution_count": 27,
     "metadata": {},
     "output_type": "execute_result"
    }
   ],
   "source": [
    "train['Premise_Description'].value_counts()"
   ]
  },
  {
   "cell_type": "code",
   "execution_count": 28,
   "id": "ee88c775",
   "metadata": {
    "execution": {
     "iopub.execute_input": "2024-06-22T14:18:44.594182Z",
     "iopub.status.busy": "2024-06-22T14:18:44.593142Z",
     "iopub.status.idle": "2024-06-22T14:18:44.600707Z",
     "shell.execute_reply": "2024-06-22T14:18:44.599699Z"
    },
    "papermill": {
     "duration": 0.035094,
     "end_time": "2024-06-22T14:18:44.602855",
     "exception": false,
     "start_time": "2024-06-22T14:18:44.567761",
     "status": "completed"
    },
    "tags": []
   },
   "outputs": [],
   "source": [
    "k=train['Premise_Description'].value_counts()"
   ]
  },
  {
   "cell_type": "code",
   "execution_count": 29,
   "id": "67d424a3",
   "metadata": {
    "execution": {
     "iopub.execute_input": "2024-06-22T14:18:44.653440Z",
     "iopub.status.busy": "2024-06-22T14:18:44.652525Z",
     "iopub.status.idle": "2024-06-22T14:18:44.659053Z",
     "shell.execute_reply": "2024-06-22T14:18:44.658092Z"
    },
    "papermill": {
     "duration": 0.034171,
     "end_time": "2024-06-22T14:18:44.661277",
     "exception": false,
     "start_time": "2024-06-22T14:18:44.627106",
     "status": "completed"
    },
    "tags": []
   },
   "outputs": [
    {
     "data": {
      "text/plain": [
       "'SINGLE FAMILY DWELLING'"
      ]
     },
     "execution_count": 29,
     "metadata": {},
     "output_type": "execute_result"
    }
   ],
   "source": [
    "train['Premise_Description'][2]"
   ]
  },
  {
   "cell_type": "code",
   "execution_count": 30,
   "id": "942d72ed",
   "metadata": {
    "execution": {
     "iopub.execute_input": "2024-06-22T14:18:44.712951Z",
     "iopub.status.busy": "2024-06-22T14:18:44.711961Z",
     "iopub.status.idle": "2024-06-22T14:18:44.718355Z",
     "shell.execute_reply": "2024-06-22T14:18:44.717228Z"
    },
    "papermill": {
     "duration": 0.034767,
     "end_time": "2024-06-22T14:18:44.720925",
     "exception": false,
     "start_time": "2024-06-22T14:18:44.686158",
     "status": "completed"
    },
    "tags": []
   },
   "outputs": [
    {
     "name": "stdout",
     "output_type": "stream",
     "text": [
      "Premise_Description\n",
      "DELIVERY SERVICE (FED EX, UPS, COURIERS,COURIER SERVICE)*    7\n",
      "MTA - RED LINE - UNION STATION                               6\n",
      "HARDWARE/BUILDING SUPPLY                                     6\n",
      "BAR/SPORTS BAR (OPEN DAY & NIGHT)                            6\n",
      "THE BEVERLY CONNECTION                                       6\n",
      "NAIL SALON                                                   6\n",
      "PHARMACY INSIDE STORE OR SUPERMARKET*                        6\n",
      "CHECK CASHING*                                               6\n",
      "NIGHT CLUB (OPEN EVENINGS ONLY)                              6\n",
      "ELEVATOR                                                     5\n",
      "Name: count, dtype: int64\n"
     ]
    }
   ],
   "source": [
    "print(k[90:100])"
   ]
  },
  {
   "cell_type": "code",
   "execution_count": 31,
   "id": "b2a0ef87",
   "metadata": {
    "execution": {
     "iopub.execute_input": "2024-06-22T14:18:44.771866Z",
     "iopub.status.busy": "2024-06-22T14:18:44.770917Z",
     "iopub.status.idle": "2024-06-22T14:18:44.779147Z",
     "shell.execute_reply": "2024-06-22T14:18:44.778106Z"
    },
    "papermill": {
     "duration": 0.035775,
     "end_time": "2024-06-22T14:18:44.781145",
     "exception": false,
     "start_time": "2024-06-22T14:18:44.745370",
     "status": "completed"
    },
    "tags": []
   },
   "outputs": [
    {
     "data": {
      "text/plain": [
       "0                        STREET\n",
       "1                     SWAP MEET\n",
       "2        SINGLE FAMILY DWELLING\n",
       "3                        STREET\n",
       "4                     MINI-MART\n",
       "                  ...          \n",
       "19995    SINGLE FAMILY DWELLING\n",
       "19996               GAS STATION\n",
       "19997                  SIDEWALK\n",
       "19998    SINGLE FAMILY DWELLING\n",
       "19999                    STREET\n",
       "Name: Premise_Description, Length: 20000, dtype: object"
      ]
     },
     "execution_count": 31,
     "metadata": {},
     "output_type": "execute_result"
    }
   ],
   "source": [
    "train['Premise_Description']"
   ]
  },
  {
   "cell_type": "code",
   "execution_count": 32,
   "id": "69111e1f",
   "metadata": {
    "execution": {
     "iopub.execute_input": "2024-06-22T14:18:44.831872Z",
     "iopub.status.busy": "2024-06-22T14:18:44.831467Z",
     "iopub.status.idle": "2024-06-22T14:18:44.840102Z",
     "shell.execute_reply": "2024-06-22T14:18:44.838982Z"
    },
    "papermill": {
     "duration": 0.036891,
     "end_time": "2024-06-22T14:18:44.842532",
     "exception": false,
     "start_time": "2024-06-22T14:18:44.805641",
     "status": "completed"
    },
    "tags": []
   },
   "outputs": [],
   "source": [
    "df=train[['Latitude','Longitude','reporting_delay_day_count','day_category','Victim_Age','Victim_Sex','Victim_Descent','Premise_Code','Weapon_Description','Weapon_Used_Code','Area_ID','Modus_Operandi','Part 1-2','Status','Crime_Category']]"
   ]
  },
  {
   "cell_type": "code",
   "execution_count": 33,
   "id": "7d382f02",
   "metadata": {
    "execution": {
     "iopub.execute_input": "2024-06-22T14:18:44.894072Z",
     "iopub.status.busy": "2024-06-22T14:18:44.893064Z",
     "iopub.status.idle": "2024-06-22T14:18:44.909777Z",
     "shell.execute_reply": "2024-06-22T14:18:44.908736Z"
    },
    "papermill": {
     "duration": 0.044868,
     "end_time": "2024-06-22T14:18:44.912114",
     "exception": false,
     "start_time": "2024-06-22T14:18:44.867246",
     "status": "completed"
    },
    "tags": []
   },
   "outputs": [
    {
     "data": {
      "text/plain": [
       "Latitude                         0\n",
       "Longitude                        0\n",
       "reporting_delay_day_count        0\n",
       "day_category                     0\n",
       "Victim_Age                       0\n",
       "Victim_Sex                    2624\n",
       "Victim_Descent                2624\n",
       "Premise_Code                     0\n",
       "Weapon_Description           12665\n",
       "Weapon_Used_Code             12665\n",
       "Area_ID                          0\n",
       "Modus_Operandi                2741\n",
       "Part 1-2                         0\n",
       "Status                           0\n",
       "Crime_Category                   0\n",
       "dtype: int64"
      ]
     },
     "execution_count": 33,
     "metadata": {},
     "output_type": "execute_result"
    }
   ],
   "source": [
    "df.isnull().sum()"
   ]
  },
  {
   "cell_type": "code",
   "execution_count": 34,
   "id": "0d40ca74",
   "metadata": {
    "execution": {
     "iopub.execute_input": "2024-06-22T14:18:44.963973Z",
     "iopub.status.busy": "2024-06-22T14:18:44.963167Z",
     "iopub.status.idle": "2024-06-22T14:18:44.972921Z",
     "shell.execute_reply": "2024-06-22T14:18:44.971875Z"
    },
    "papermill": {
     "duration": 0.038243,
     "end_time": "2024-06-22T14:18:44.975174",
     "exception": false,
     "start_time": "2024-06-22T14:18:44.936931",
     "status": "completed"
    },
    "tags": []
   },
   "outputs": [
    {
     "data": {
      "text/plain": [
       "Victim_Sex\n",
       "M    8538\n",
       "F    7176\n",
       "X    1660\n",
       "H       2\n",
       "Name: count, dtype: int64"
      ]
     },
     "execution_count": 34,
     "metadata": {},
     "output_type": "execute_result"
    }
   ],
   "source": [
    "df['Victim_Sex'].value_counts()"
   ]
  },
  {
   "cell_type": "code",
   "execution_count": 35,
   "id": "ada7684a",
   "metadata": {
    "execution": {
     "iopub.execute_input": "2024-06-22T14:18:45.027527Z",
     "iopub.status.busy": "2024-06-22T14:18:45.026647Z",
     "iopub.status.idle": "2024-06-22T14:18:45.046579Z",
     "shell.execute_reply": "2024-06-22T14:18:45.045432Z"
    },
    "papermill": {
     "duration": 0.049285,
     "end_time": "2024-06-22T14:18:45.049238",
     "exception": false,
     "start_time": "2024-06-22T14:18:44.999953",
     "status": "completed"
    },
    "tags": []
   },
   "outputs": [],
   "source": [
    "def victim_gender(val):\n",
    "    if val=='H' or pd.isna(val):\n",
    "        val='X'\n",
    "    return val\n",
    "\n",
    "\n",
    "df.loc[:,'Victim_Sex'] = df['Victim_Sex'].apply(victim_gender)"
   ]
  },
  {
   "cell_type": "code",
   "execution_count": 36,
   "id": "1f801ad1",
   "metadata": {
    "execution": {
     "iopub.execute_input": "2024-06-22T14:18:45.101392Z",
     "iopub.status.busy": "2024-06-22T14:18:45.100970Z",
     "iopub.status.idle": "2024-06-22T14:18:45.125855Z",
     "shell.execute_reply": "2024-06-22T14:18:45.124816Z"
    },
    "papermill": {
     "duration": 0.053938,
     "end_time": "2024-06-22T14:18:45.128244",
     "exception": false,
     "start_time": "2024-06-22T14:18:45.074306",
     "status": "completed"
    },
    "tags": []
   },
   "outputs": [
    {
     "data": {
      "text/html": [
       "<div>\n",
       "<style scoped>\n",
       "    .dataframe tbody tr th:only-of-type {\n",
       "        vertical-align: middle;\n",
       "    }\n",
       "\n",
       "    .dataframe tbody tr th {\n",
       "        vertical-align: top;\n",
       "    }\n",
       "\n",
       "    .dataframe thead th {\n",
       "        text-align: right;\n",
       "    }\n",
       "</style>\n",
       "<table border=\"1\" class=\"dataframe\">\n",
       "  <thead>\n",
       "    <tr style=\"text-align: right;\">\n",
       "      <th></th>\n",
       "      <th>Latitude</th>\n",
       "      <th>Longitude</th>\n",
       "      <th>reporting_delay_day_count</th>\n",
       "      <th>day_category</th>\n",
       "      <th>Victim_Age</th>\n",
       "      <th>Victim_Sex</th>\n",
       "      <th>Victim_Descent</th>\n",
       "      <th>Premise_Code</th>\n",
       "      <th>Weapon_Description</th>\n",
       "      <th>Weapon_Used_Code</th>\n",
       "      <th>Area_ID</th>\n",
       "      <th>Modus_Operandi</th>\n",
       "      <th>Part 1-2</th>\n",
       "      <th>Status</th>\n",
       "      <th>Crime_Category</th>\n",
       "    </tr>\n",
       "  </thead>\n",
       "  <tbody>\n",
       "    <tr>\n",
       "      <th>0</th>\n",
       "      <td>34.1522</td>\n",
       "      <td>-118.3910</td>\n",
       "      <td>3</td>\n",
       "      <td>Evening</td>\n",
       "      <td>75.0</td>\n",
       "      <td>M</td>\n",
       "      <td>W</td>\n",
       "      <td>101.0</td>\n",
       "      <td>NaN</td>\n",
       "      <td>NaN</td>\n",
       "      <td>15.0</td>\n",
       "      <td>0385</td>\n",
       "      <td>1.0</td>\n",
       "      <td>IC</td>\n",
       "      <td>Property Crimes</td>\n",
       "    </tr>\n",
       "    <tr>\n",
       "      <th>1</th>\n",
       "      <td>34.0028</td>\n",
       "      <td>-118.2391</td>\n",
       "      <td>0</td>\n",
       "      <td>Daytime</td>\n",
       "      <td>41.0</td>\n",
       "      <td>M</td>\n",
       "      <td>H</td>\n",
       "      <td>216.0</td>\n",
       "      <td>STRONG-ARM (HANDS, FIST, FEET OR BODILY FORCE)</td>\n",
       "      <td>400.0</td>\n",
       "      <td>13.0</td>\n",
       "      <td>0906 0352 0371 0446 1822 0344 0416 0417</td>\n",
       "      <td>1.0</td>\n",
       "      <td>IC</td>\n",
       "      <td>Property Crimes</td>\n",
       "    </tr>\n",
       "    <tr>\n",
       "      <th>2</th>\n",
       "      <td>34.0111</td>\n",
       "      <td>-118.2653</td>\n",
       "      <td>0</td>\n",
       "      <td>Morning</td>\n",
       "      <td>67.0</td>\n",
       "      <td>M</td>\n",
       "      <td>B</td>\n",
       "      <td>501.0</td>\n",
       "      <td>NaN</td>\n",
       "      <td>NaN</td>\n",
       "      <td>13.0</td>\n",
       "      <td>0329 1202</td>\n",
       "      <td>2.0</td>\n",
       "      <td>IC</td>\n",
       "      <td>Property Crimes</td>\n",
       "    </tr>\n",
       "    <tr>\n",
       "      <th>3</th>\n",
       "      <td>34.2953</td>\n",
       "      <td>-118.4590</td>\n",
       "      <td>2</td>\n",
       "      <td>Evening</td>\n",
       "      <td>61.0</td>\n",
       "      <td>M</td>\n",
       "      <td>H</td>\n",
       "      <td>101.0</td>\n",
       "      <td>NaN</td>\n",
       "      <td>NaN</td>\n",
       "      <td>19.0</td>\n",
       "      <td>0329 1300</td>\n",
       "      <td>1.0</td>\n",
       "      <td>IC</td>\n",
       "      <td>Property Crimes</td>\n",
       "    </tr>\n",
       "    <tr>\n",
       "      <th>4</th>\n",
       "      <td>33.9787</td>\n",
       "      <td>-118.2918</td>\n",
       "      <td>0</td>\n",
       "      <td>Morning</td>\n",
       "      <td>0.0</td>\n",
       "      <td>X</td>\n",
       "      <td>X</td>\n",
       "      <td>401.0</td>\n",
       "      <td>STRONG-ARM (HANDS, FIST, FEET OR BODILY FORCE)</td>\n",
       "      <td>400.0</td>\n",
       "      <td>12.0</td>\n",
       "      <td>0416 0945 1822 0400 0417 0344</td>\n",
       "      <td>1.0</td>\n",
       "      <td>IC</td>\n",
       "      <td>Property Crimes</td>\n",
       "    </tr>\n",
       "    <tr>\n",
       "      <th>...</th>\n",
       "      <td>...</td>\n",
       "      <td>...</td>\n",
       "      <td>...</td>\n",
       "      <td>...</td>\n",
       "      <td>...</td>\n",
       "      <td>...</td>\n",
       "      <td>...</td>\n",
       "      <td>...</td>\n",
       "      <td>...</td>\n",
       "      <td>...</td>\n",
       "      <td>...</td>\n",
       "      <td>...</td>\n",
       "      <td>...</td>\n",
       "      <td>...</td>\n",
       "      <td>...</td>\n",
       "    </tr>\n",
       "    <tr>\n",
       "      <th>19995</th>\n",
       "      <td>34.0334</td>\n",
       "      <td>-118.3523</td>\n",
       "      <td>0</td>\n",
       "      <td>Morning</td>\n",
       "      <td>51.0</td>\n",
       "      <td>M</td>\n",
       "      <td>H</td>\n",
       "      <td>501.0</td>\n",
       "      <td>STRONG-ARM (HANDS, FIST, FEET OR BODILY FORCE)</td>\n",
       "      <td>400.0</td>\n",
       "      <td>3.0</td>\n",
       "      <td>0416 0446 2004 0913</td>\n",
       "      <td>2.0</td>\n",
       "      <td>IC</td>\n",
       "      <td>Violent Crimes</td>\n",
       "    </tr>\n",
       "    <tr>\n",
       "      <th>19996</th>\n",
       "      <td>34.2212</td>\n",
       "      <td>-118.5011</td>\n",
       "      <td>0</td>\n",
       "      <td>Night</td>\n",
       "      <td>0.0</td>\n",
       "      <td>M</td>\n",
       "      <td>W</td>\n",
       "      <td>301.0</td>\n",
       "      <td>NaN</td>\n",
       "      <td>NaN</td>\n",
       "      <td>10.0</td>\n",
       "      <td>1822 0209 0344 1414 1420</td>\n",
       "      <td>1.0</td>\n",
       "      <td>IC</td>\n",
       "      <td>Property Crimes</td>\n",
       "    </tr>\n",
       "    <tr>\n",
       "      <th>19997</th>\n",
       "      <td>34.0571</td>\n",
       "      <td>-118.3815</td>\n",
       "      <td>0</td>\n",
       "      <td>Daytime</td>\n",
       "      <td>42.0</td>\n",
       "      <td>M</td>\n",
       "      <td>H</td>\n",
       "      <td>102.0</td>\n",
       "      <td>NaN</td>\n",
       "      <td>NaN</td>\n",
       "      <td>8.0</td>\n",
       "      <td>0344 1822 1420</td>\n",
       "      <td>1.0</td>\n",
       "      <td>IC</td>\n",
       "      <td>Property Crimes</td>\n",
       "    </tr>\n",
       "    <tr>\n",
       "      <th>19998</th>\n",
       "      <td>33.7451</td>\n",
       "      <td>-118.2835</td>\n",
       "      <td>0</td>\n",
       "      <td>Morning</td>\n",
       "      <td>76.0</td>\n",
       "      <td>F</td>\n",
       "      <td>H</td>\n",
       "      <td>501.0</td>\n",
       "      <td>NaN</td>\n",
       "      <td>NaN</td>\n",
       "      <td>5.0</td>\n",
       "      <td>1202 2038 0913 0602 1242 0553</td>\n",
       "      <td>2.0</td>\n",
       "      <td>IC</td>\n",
       "      <td>Crimes against Public Order</td>\n",
       "    </tr>\n",
       "    <tr>\n",
       "      <th>19999</th>\n",
       "      <td>34.0037</td>\n",
       "      <td>-118.3034</td>\n",
       "      <td>1</td>\n",
       "      <td>Evening</td>\n",
       "      <td>0.0</td>\n",
       "      <td>X</td>\n",
       "      <td>NaN</td>\n",
       "      <td>101.0</td>\n",
       "      <td>NaN</td>\n",
       "      <td>NaN</td>\n",
       "      <td>3.0</td>\n",
       "      <td>NaN</td>\n",
       "      <td>1.0</td>\n",
       "      <td>IC</td>\n",
       "      <td>Property Crimes</td>\n",
       "    </tr>\n",
       "  </tbody>\n",
       "</table>\n",
       "<p>20000 rows × 15 columns</p>\n",
       "</div>"
      ],
      "text/plain": [
       "       Latitude  Longitude  reporting_delay_day_count day_category  \\\n",
       "0       34.1522  -118.3910                          3      Evening   \n",
       "1       34.0028  -118.2391                          0      Daytime   \n",
       "2       34.0111  -118.2653                          0      Morning   \n",
       "3       34.2953  -118.4590                          2      Evening   \n",
       "4       33.9787  -118.2918                          0      Morning   \n",
       "...         ...        ...                        ...          ...   \n",
       "19995   34.0334  -118.3523                          0      Morning   \n",
       "19996   34.2212  -118.5011                          0        Night   \n",
       "19997   34.0571  -118.3815                          0      Daytime   \n",
       "19998   33.7451  -118.2835                          0      Morning   \n",
       "19999   34.0037  -118.3034                          1      Evening   \n",
       "\n",
       "       Victim_Age Victim_Sex Victim_Descent  Premise_Code  \\\n",
       "0            75.0          M              W         101.0   \n",
       "1            41.0          M              H         216.0   \n",
       "2            67.0          M              B         501.0   \n",
       "3            61.0          M              H         101.0   \n",
       "4             0.0          X              X         401.0   \n",
       "...           ...        ...            ...           ...   \n",
       "19995        51.0          M              H         501.0   \n",
       "19996         0.0          M              W         301.0   \n",
       "19997        42.0          M              H         102.0   \n",
       "19998        76.0          F              H         501.0   \n",
       "19999         0.0          X            NaN         101.0   \n",
       "\n",
       "                                   Weapon_Description  Weapon_Used_Code  \\\n",
       "0                                                 NaN               NaN   \n",
       "1      STRONG-ARM (HANDS, FIST, FEET OR BODILY FORCE)             400.0   \n",
       "2                                                 NaN               NaN   \n",
       "3                                                 NaN               NaN   \n",
       "4      STRONG-ARM (HANDS, FIST, FEET OR BODILY FORCE)             400.0   \n",
       "...                                               ...               ...   \n",
       "19995  STRONG-ARM (HANDS, FIST, FEET OR BODILY FORCE)             400.0   \n",
       "19996                                             NaN               NaN   \n",
       "19997                                             NaN               NaN   \n",
       "19998                                             NaN               NaN   \n",
       "19999                                             NaN               NaN   \n",
       "\n",
       "       Area_ID                           Modus_Operandi  Part 1-2 Status  \\\n",
       "0         15.0                                     0385       1.0     IC   \n",
       "1         13.0  0906 0352 0371 0446 1822 0344 0416 0417       1.0     IC   \n",
       "2         13.0                                0329 1202       2.0     IC   \n",
       "3         19.0                                0329 1300       1.0     IC   \n",
       "4         12.0            0416 0945 1822 0400 0417 0344       1.0     IC   \n",
       "...        ...                                      ...       ...    ...   \n",
       "19995      3.0                      0416 0446 2004 0913       2.0     IC   \n",
       "19996     10.0                 1822 0209 0344 1414 1420       1.0     IC   \n",
       "19997      8.0                           0344 1822 1420       1.0     IC   \n",
       "19998      5.0            1202 2038 0913 0602 1242 0553       2.0     IC   \n",
       "19999      3.0                                      NaN       1.0     IC   \n",
       "\n",
       "                    Crime_Category  \n",
       "0                  Property Crimes  \n",
       "1                  Property Crimes  \n",
       "2                  Property Crimes  \n",
       "3                  Property Crimes  \n",
       "4                  Property Crimes  \n",
       "...                            ...  \n",
       "19995               Violent Crimes  \n",
       "19996              Property Crimes  \n",
       "19997              Property Crimes  \n",
       "19998  Crimes against Public Order  \n",
       "19999              Property Crimes  \n",
       "\n",
       "[20000 rows x 15 columns]"
      ]
     },
     "execution_count": 36,
     "metadata": {},
     "output_type": "execute_result"
    }
   ],
   "source": [
    "df"
   ]
  },
  {
   "cell_type": "code",
   "execution_count": 37,
   "id": "6a942d80",
   "metadata": {
    "execution": {
     "iopub.execute_input": "2024-06-22T14:18:45.180733Z",
     "iopub.status.busy": "2024-06-22T14:18:45.180374Z",
     "iopub.status.idle": "2024-06-22T14:18:45.190024Z",
     "shell.execute_reply": "2024-06-22T14:18:45.188976Z"
    },
    "papermill": {
     "duration": 0.038608,
     "end_time": "2024-06-22T14:18:45.192349",
     "exception": false,
     "start_time": "2024-06-22T14:18:45.153741",
     "status": "completed"
    },
    "tags": []
   },
   "outputs": [
    {
     "data": {
      "text/plain": [
       "Victim_Sex\n",
       "M    8538\n",
       "F    7176\n",
       "X    4286\n",
       "Name: count, dtype: int64"
      ]
     },
     "execution_count": 37,
     "metadata": {},
     "output_type": "execute_result"
    }
   ],
   "source": [
    "df['Victim_Sex'].value_counts()"
   ]
  },
  {
   "cell_type": "code",
   "execution_count": 38,
   "id": "c278a4c5",
   "metadata": {
    "execution": {
     "iopub.execute_input": "2024-06-22T14:18:45.245421Z",
     "iopub.status.busy": "2024-06-22T14:18:45.245021Z",
     "iopub.status.idle": "2024-06-22T14:18:45.252609Z",
     "shell.execute_reply": "2024-06-22T14:18:45.251530Z"
    },
    "papermill": {
     "duration": 0.036635,
     "end_time": "2024-06-22T14:18:45.254890",
     "exception": false,
     "start_time": "2024-06-22T14:18:45.218255",
     "status": "completed"
    },
    "tags": []
   },
   "outputs": [
    {
     "data": {
      "text/plain": [
       "array(['W', 'H', 'B', 'X', nan, 'O', 'A', 'K', 'C', 'F', 'I', 'J', 'Z',\n",
       "       'V', 'P', 'D', 'U', 'G'], dtype=object)"
      ]
     },
     "execution_count": 38,
     "metadata": {},
     "output_type": "execute_result"
    }
   ],
   "source": [
    "df['Victim_Descent'].unique()"
   ]
  },
  {
   "cell_type": "code",
   "execution_count": 39,
   "id": "4b446e3a",
   "metadata": {
    "execution": {
     "iopub.execute_input": "2024-06-22T14:18:45.309307Z",
     "iopub.status.busy": "2024-06-22T14:18:45.308273Z",
     "iopub.status.idle": "2024-06-22T14:18:45.323212Z",
     "shell.execute_reply": "2024-06-22T14:18:45.322188Z"
    },
    "papermill": {
     "duration": 0.04483,
     "end_time": "2024-06-22T14:18:45.325485",
     "exception": false,
     "start_time": "2024-06-22T14:18:45.280655",
     "status": "completed"
    },
    "tags": []
   },
   "outputs": [
    {
     "data": {
      "text/plain": [
       "Weapon_Description                            \n",
       "STRONG-ARM (HANDS, FIST, FEET OR BODILY FORCE)    0.543967\n",
       "UNKNOWN WEAPON/OTHER WEAPON                       0.107566\n",
       "VERBAL THREAT                                     0.074438\n",
       "HAND GUN                                          0.052897\n",
       "KNIFE WITH BLADE 6INCHES OR LESS                  0.021813\n",
       "SEMI-AUTOMATIC PISTOL                             0.020995\n",
       "UNKNOWN FIREARM                                   0.017860\n",
       "OTHER KNIFE                                       0.017042\n",
       "VEHICLE                                           0.011452\n",
       "MACE/PEPPER SPRAY                                 0.010907\n",
       "ROCK/THROWN OBJECT                                0.008589\n",
       "BOTTLE                                            0.007498\n",
       "PIPE/METAL PIPE                                   0.007089\n",
       "CLUB/BAT                                          0.006953\n",
       "STICK                                             0.006680\n",
       "KITCHEN KNIFE                                     0.006135\n",
       "KNIFE WITH BLADE OVER 6 INCHES IN LENGTH          0.005862\n",
       "AIR PISTOL/REVOLVER/RIFLE/BB GUN                  0.005590\n",
       "FOLDING KNIFE                                     0.005044\n",
       "BLUNT INSTRUMENT                                  0.005044\n",
       "SIMULATED GUN                                     0.004772\n",
       "REVOLVER                                          0.004635\n",
       "BELT FLAILING INSTRUMENT/CHAIN                    0.003545\n",
       "CONCRETE BLOCK/BRICK                              0.003545\n",
       "MACHETE                                           0.003408\n",
       "UNKNOWN TYPE CUTTING INSTRUMENT                   0.003272\n",
       "SCREWDRIVER                                       0.003136\n",
       "HAMMER                                            0.003136\n",
       "FIRE                                              0.002999\n",
       "PHYSICAL PRESENCE                                 0.002454\n",
       "OTHER FIREARM                                     0.002454\n",
       "OTHER CUTTING INSTRUMENT                          0.002318\n",
       "FIXED OBJECT                                      0.002181\n",
       "GLASS                                             0.001909\n",
       "SCISSORS                                          0.001772\n",
       "RIFLE                                             0.001636\n",
       "BOARD                                             0.001500\n",
       "TOY GUN                                           0.001091\n",
       "SHOTGUN                                           0.000954\n",
       "TIRE IRON                                         0.000954\n",
       "AXE                                               0.000818\n",
       "STUN GUN                                          0.000545\n",
       "BRASS KNUCKLES                                    0.000545\n",
       "SCALDING LIQUID                                   0.000409\n",
       "SWITCH BLADE                                      0.000409\n",
       "SAWED OFF RIFLE/SHOTGUN                           0.000273\n",
       "DEMAND NOTE                                       0.000273\n",
       "ICE PICK                                          0.000273\n",
       "MARTIAL ARTS WEAPONS                              0.000273\n",
       "BOWIE KNIFE                                       0.000136\n",
       "STARTER PISTOL/REVOLVER                           0.000136\n",
       "BOMB THREAT                                       0.000136\n",
       "RAZOR BLADE                                       0.000136\n",
       "CAUSTIC CHEMICAL/POISON                           0.000136\n",
       "CLEAVER                                           0.000136\n",
       "ASSAULT WEAPON/UZI/AK47/ETC                       0.000136\n",
       "HECKLER & KOCH 93 SEMIAUTOMATIC ASSAULT RIFLE     0.000136\n",
       "Name: proportion, dtype: float64"
      ]
     },
     "execution_count": 39,
     "metadata": {},
     "output_type": "execute_result"
    }
   ],
   "source": [
    "unique_values_weapon=pd.DataFrame(df['Weapon_Description'])\n",
    "unique_values_weapon.value_counts(normalize=True)"
   ]
  },
  {
   "cell_type": "markdown",
   "id": "cf24cffd",
   "metadata": {
    "papermill": {
     "duration": 0.025362,
     "end_time": "2024-06-22T14:18:45.376923",
     "exception": false,
     "start_time": "2024-06-22T14:18:45.351561",
     "status": "completed"
    },
    "tags": []
   },
   "source": []
  },
  {
   "cell_type": "code",
   "execution_count": 40,
   "id": "75b9a2fa",
   "metadata": {
    "execution": {
     "iopub.execute_input": "2024-06-22T14:18:45.430940Z",
     "iopub.status.busy": "2024-06-22T14:18:45.429959Z",
     "iopub.status.idle": "2024-06-22T14:18:45.444744Z",
     "shell.execute_reply": "2024-06-22T14:18:45.443099Z"
    },
    "papermill": {
     "duration": 0.044144,
     "end_time": "2024-06-22T14:18:45.447367",
     "exception": false,
     "start_time": "2024-06-22T14:18:45.403223",
     "status": "completed"
    },
    "tags": []
   },
   "outputs": [],
   "source": [
    "distribution = df['Weapon_Description'].dropna().value_counts(normalize=True)\n",
    "\n",
    "missing = df['Weapon_Description'].isnull().sum()\n",
    "\n",
    "imputed_values = np.random.choice(distribution.index, size=missing, p=distribution.values)\n",
    "\n",
    "# Impute the missing values\n",
    "df.loc[df['Weapon_Description'].isnull(), 'Weapon_Description'] = imputed_values\n"
   ]
  },
  {
   "cell_type": "code",
   "execution_count": 41,
   "id": "d1e9bea2",
   "metadata": {
    "execution": {
     "iopub.execute_input": "2024-06-22T14:18:45.503745Z",
     "iopub.status.busy": "2024-06-22T14:18:45.503354Z",
     "iopub.status.idle": "2024-06-22T14:18:45.517175Z",
     "shell.execute_reply": "2024-06-22T14:18:45.515990Z"
    },
    "papermill": {
     "duration": 0.044142,
     "end_time": "2024-06-22T14:18:45.519710",
     "exception": false,
     "start_time": "2024-06-22T14:18:45.475568",
     "status": "completed"
    },
    "tags": []
   },
   "outputs": [],
   "source": [
    "distribution = df['Victim_Descent'].dropna().value_counts(normalize=True)\n",
    "\n",
    "missing = df['Victim_Descent'].isnull().sum()\n",
    "\n",
    "imputed_values = np.random.choice(distribution.index, size=missing, p=distribution.values)\n",
    "\n",
    "# Impute the missing values\n",
    "df.loc[df['Victim_Descent'].isnull(), 'Victim_Descent'] = imputed_values"
   ]
  },
  {
   "cell_type": "code",
   "execution_count": 42,
   "id": "297f2c03",
   "metadata": {
    "execution": {
     "iopub.execute_input": "2024-06-22T14:18:45.575601Z",
     "iopub.status.busy": "2024-06-22T14:18:45.575239Z",
     "iopub.status.idle": "2024-06-22T14:18:45.591275Z",
     "shell.execute_reply": "2024-06-22T14:18:45.590219Z"
    },
    "papermill": {
     "duration": 0.047234,
     "end_time": "2024-06-22T14:18:45.593475",
     "exception": false,
     "start_time": "2024-06-22T14:18:45.546241",
     "status": "completed"
    },
    "tags": []
   },
   "outputs": [
    {
     "data": {
      "text/plain": [
       "Latitude                         0\n",
       "Longitude                        0\n",
       "reporting_delay_day_count        0\n",
       "day_category                     0\n",
       "Victim_Age                       0\n",
       "Victim_Sex                       0\n",
       "Victim_Descent                   0\n",
       "Premise_Code                     0\n",
       "Weapon_Description               0\n",
       "Weapon_Used_Code             12665\n",
       "Area_ID                          0\n",
       "Modus_Operandi                2741\n",
       "Part 1-2                         0\n",
       "Status                           0\n",
       "Crime_Category                   0\n",
       "dtype: int64"
      ]
     },
     "execution_count": 42,
     "metadata": {},
     "output_type": "execute_result"
    }
   ],
   "source": [
    "df.isnull().sum()\n"
   ]
  },
  {
   "cell_type": "markdown",
   "id": "55a75bc9",
   "metadata": {
    "execution": {
     "iopub.execute_input": "2024-06-18T11:25:46.853966Z",
     "iopub.status.busy": "2024-06-18T11:25:46.853487Z",
     "iopub.status.idle": "2024-06-18T11:25:48.288787Z",
     "shell.execute_reply": "2024-06-18T11:25:48.287061Z",
     "shell.execute_reply.started": "2024-06-18T11:25:46.853929Z"
    },
    "papermill": {
     "duration": 0.032895,
     "end_time": "2024-06-22T14:18:45.652170",
     "exception": false,
     "start_time": "2024-06-22T14:18:45.619275",
     "status": "completed"
    },
    "tags": []
   },
   "source": [
    " df.drop('Weapon_Used_Code',inplace=True,axis=1)"
   ]
  },
  {
   "cell_type": "code",
   "execution_count": 43,
   "id": "25d223e8",
   "metadata": {
    "execution": {
     "iopub.execute_input": "2024-06-22T14:18:45.718686Z",
     "iopub.status.busy": "2024-06-22T14:18:45.717711Z",
     "iopub.status.idle": "2024-06-22T14:18:45.727319Z",
     "shell.execute_reply": "2024-06-22T14:18:45.726081Z"
    },
    "papermill": {
     "duration": 0.043573,
     "end_time": "2024-06-22T14:18:45.729776",
     "exception": false,
     "start_time": "2024-06-22T14:18:45.686203",
     "status": "completed"
    },
    "tags": []
   },
   "outputs": [
    {
     "name": "stderr",
     "output_type": "stream",
     "text": [
      "/tmp/ipykernel_18/3662583146.py:1: SettingWithCopyWarning: \n",
      "A value is trying to be set on a copy of a slice from a DataFrame\n",
      "\n",
      "See the caveats in the documentation: https://pandas.pydata.org/pandas-docs/stable/user_guide/indexing.html#returning-a-view-versus-a-copy\n",
      "  df.drop('Weapon_Used_Code',inplace=True,axis=1)\n"
     ]
    }
   ],
   "source": [
    "df.drop('Weapon_Used_Code',inplace=True,axis=1)\n"
   ]
  },
  {
   "cell_type": "code",
   "execution_count": 44,
   "id": "e73c7e63",
   "metadata": {
    "execution": {
     "iopub.execute_input": "2024-06-22T14:18:45.783733Z",
     "iopub.status.busy": "2024-06-22T14:18:45.783349Z",
     "iopub.status.idle": "2024-06-22T14:18:45.802571Z",
     "shell.execute_reply": "2024-06-22T14:18:45.801038Z"
    },
    "papermill": {
     "duration": 0.048982,
     "end_time": "2024-06-22T14:18:45.805238",
     "exception": false,
     "start_time": "2024-06-22T14:18:45.756256",
     "status": "completed"
    },
    "tags": []
   },
   "outputs": [
    {
     "name": "stdout",
     "output_type": "stream",
     "text": [
      "<class 'pandas.core.frame.DataFrame'>\n",
      "RangeIndex: 20000 entries, 0 to 19999\n",
      "Data columns (total 14 columns):\n",
      " #   Column                     Non-Null Count  Dtype  \n",
      "---  ------                     --------------  -----  \n",
      " 0   Latitude                   20000 non-null  float64\n",
      " 1   Longitude                  20000 non-null  float64\n",
      " 2   reporting_delay_day_count  20000 non-null  int64  \n",
      " 3   day_category               20000 non-null  object \n",
      " 4   Victim_Age                 20000 non-null  float64\n",
      " 5   Victim_Sex                 20000 non-null  object \n",
      " 6   Victim_Descent             20000 non-null  object \n",
      " 7   Premise_Code               20000 non-null  float64\n",
      " 8   Weapon_Description         20000 non-null  object \n",
      " 9   Area_ID                    20000 non-null  float64\n",
      " 10  Modus_Operandi             17259 non-null  object \n",
      " 11  Part 1-2                   20000 non-null  float64\n",
      " 12  Status                     20000 non-null  object \n",
      " 13  Crime_Category             20000 non-null  object \n",
      "dtypes: float64(6), int64(1), object(7)\n",
      "memory usage: 2.1+ MB\n"
     ]
    }
   ],
   "source": [
    "df.info()"
   ]
  },
  {
   "cell_type": "code",
   "execution_count": 45,
   "id": "f2327f34",
   "metadata": {
    "execution": {
     "iopub.execute_input": "2024-06-22T14:18:45.859192Z",
     "iopub.status.busy": "2024-06-22T14:18:45.858756Z",
     "iopub.status.idle": "2024-06-22T14:18:45.908043Z",
     "shell.execute_reply": "2024-06-22T14:18:45.906949Z"
    },
    "papermill": {
     "duration": 0.07949,
     "end_time": "2024-06-22T14:18:45.910718",
     "exception": false,
     "start_time": "2024-06-22T14:18:45.831228",
     "status": "completed"
    },
    "tags": []
   },
   "outputs": [],
   "source": [
    "# def number_of_activities(s):\n",
    "#     activities=[]\n",
    "#     s=str(s)\n",
    "#     a=s.split(' ')\n",
    "#     for i in a:\n",
    "#         if a not in activities:\n",
    "#             activities.append(a)\n",
    "#     return activities\n",
    "\n",
    "def number_of_activities(s):\n",
    "    if pd.isna(s):  # Handle NaN values\n",
    "        return ''\n",
    "    activities = set()  # Using a set to avoid duplicates efficiently\n",
    "    for activity in s.split(' '):\n",
    "        activities.add(str(activity))\n",
    "    activities=' '.join(activities)    \n",
    "    return activities\n",
    "df.loc[:,'Modus_Operandi']=df['Modus_Operandi'].apply(number_of_activities)\n",
    "# df.drop('Modus_Operandi',axis=1)\n",
    "# df['Modus_Operandi']=df['unique_activities']\n",
    "# df.drop('unique_activities',axis=1,inplace=True)"
   ]
  },
  {
   "cell_type": "code",
   "execution_count": 46,
   "id": "5dd68055",
   "metadata": {
    "execution": {
     "iopub.execute_input": "2024-06-22T14:18:45.964962Z",
     "iopub.status.busy": "2024-06-22T14:18:45.964155Z",
     "iopub.status.idle": "2024-06-22T14:18:45.979061Z",
     "shell.execute_reply": "2024-06-22T14:18:45.978067Z"
    },
    "papermill": {
     "duration": 0.044399,
     "end_time": "2024-06-22T14:18:45.981451",
     "exception": false,
     "start_time": "2024-06-22T14:18:45.937052",
     "status": "completed"
    },
    "tags": []
   },
   "outputs": [
    {
     "name": "stderr",
     "output_type": "stream",
     "text": [
      "/tmp/ipykernel_18/3589716598.py:1: SettingWithCopyWarning: \n",
      "A value is trying to be set on a copy of a slice from a DataFrame.\n",
      "Try using .loc[row_indexer,col_indexer] = value instead\n",
      "\n",
      "See the caveats in the documentation: https://pandas.pydata.org/pandas-docs/stable/user_guide/indexing.html#returning-a-view-versus-a-copy\n",
      "  df.loc[:,'max_activity']=df['Modus_Operandi'].apply(lambda x: len(x))\n"
     ]
    }
   ],
   "source": [
    "df.loc[:,'max_activity']=df['Modus_Operandi'].apply(lambda x: len(x))"
   ]
  },
  {
   "cell_type": "code",
   "execution_count": 47,
   "id": "e3b263fc",
   "metadata": {
    "execution": {
     "iopub.execute_input": "2024-06-22T14:18:46.035750Z",
     "iopub.status.busy": "2024-06-22T14:18:46.035353Z",
     "iopub.status.idle": "2024-06-22T14:18:46.052035Z",
     "shell.execute_reply": "2024-06-22T14:18:46.051043Z"
    },
    "papermill": {
     "duration": 0.046683,
     "end_time": "2024-06-22T14:18:46.054228",
     "exception": false,
     "start_time": "2024-06-22T14:18:46.007545",
     "status": "completed"
    },
    "tags": []
   },
   "outputs": [],
   "source": [
    "df.loc[:,'Premise_Code']=df['Premise_Code'].apply(lambda x : int(x))"
   ]
  },
  {
   "cell_type": "code",
   "execution_count": 48,
   "id": "1d0a73e5",
   "metadata": {
    "execution": {
     "iopub.execute_input": "2024-06-22T14:18:46.108304Z",
     "iopub.status.busy": "2024-06-22T14:18:46.107878Z",
     "iopub.status.idle": "2024-06-22T14:18:46.135183Z",
     "shell.execute_reply": "2024-06-22T14:18:46.134061Z"
    },
    "papermill": {
     "duration": 0.057489,
     "end_time": "2024-06-22T14:18:46.137795",
     "exception": false,
     "start_time": "2024-06-22T14:18:46.080306",
     "status": "completed"
    },
    "tags": []
   },
   "outputs": [],
   "source": [
    "df.loc[:,'Area_ID']=df['Area_ID'].apply(lambda x : int(x))\n",
    "df.loc[:,'Part 1-2']=df['Part 1-2'].apply(lambda x : int(x))\n"
   ]
  },
  {
   "cell_type": "code",
   "execution_count": 49,
   "id": "0d85b145",
   "metadata": {
    "execution": {
     "iopub.execute_input": "2024-06-22T14:18:46.192595Z",
     "iopub.status.busy": "2024-06-22T14:18:46.191737Z",
     "iopub.status.idle": "2024-06-22T14:18:46.202998Z",
     "shell.execute_reply": "2024-06-22T14:18:46.201824Z"
    },
    "papermill": {
     "duration": 0.041104,
     "end_time": "2024-06-22T14:18:46.205216",
     "exception": false,
     "start_time": "2024-06-22T14:18:46.164112",
     "status": "completed"
    },
    "tags": []
   },
   "outputs": [
    {
     "data": {
      "text/plain": [
       "Victim_Age\n",
       " 0.0     4828\n",
       " 30.0     448\n",
       " 31.0     446\n",
       " 26.0     442\n",
       " 29.0     425\n",
       "         ... \n",
       " 98.0       2\n",
       "-2.0        2\n",
       " 92.0       2\n",
       " 96.0       2\n",
       " 94.0       2\n",
       "Name: count, Length: 100, dtype: int64"
      ]
     },
     "execution_count": 49,
     "metadata": {},
     "output_type": "execute_result"
    }
   ],
   "source": [
    "df['Victim_Age'].value_counts()"
   ]
  },
  {
   "cell_type": "code",
   "execution_count": 50,
   "id": "a40d4abb",
   "metadata": {
    "execution": {
     "iopub.execute_input": "2024-06-22T14:18:46.259743Z",
     "iopub.status.busy": "2024-06-22T14:18:46.259378Z",
     "iopub.status.idle": "2024-06-22T14:18:46.268738Z",
     "shell.execute_reply": "2024-06-22T14:18:46.267785Z"
    },
    "papermill": {
     "duration": 0.038935,
     "end_time": "2024-06-22T14:18:46.271029",
     "exception": false,
     "start_time": "2024-06-22T14:18:46.232094",
     "status": "completed"
    },
    "tags": []
   },
   "outputs": [
    {
     "data": {
      "text/plain": [
       "Victim_Age\n",
       " 0.0     4828\n",
       " 30.0     448\n",
       " 31.0     446\n",
       " 26.0     442\n",
       " 29.0     425\n",
       "         ... \n",
       " 98.0       2\n",
       "-2.0        2\n",
       " 92.0       2\n",
       " 96.0       2\n",
       " 94.0       2\n",
       "Name: count, Length: 100, dtype: int64"
      ]
     },
     "execution_count": 50,
     "metadata": {},
     "output_type": "execute_result"
    }
   ],
   "source": [
    "df['Victim_Age'].value_counts()"
   ]
  },
  {
   "cell_type": "code",
   "execution_count": 51,
   "id": "0d4b67c8",
   "metadata": {
    "execution": {
     "iopub.execute_input": "2024-06-22T14:18:46.325210Z",
     "iopub.status.busy": "2024-06-22T14:18:46.324772Z",
     "iopub.status.idle": "2024-06-22T14:18:46.331429Z",
     "shell.execute_reply": "2024-06-22T14:18:46.330450Z"
    },
    "papermill": {
     "duration": 0.036485,
     "end_time": "2024-06-22T14:18:46.333713",
     "exception": false,
     "start_time": "2024-06-22T14:18:46.297228",
     "status": "completed"
    },
    "tags": []
   },
   "outputs": [],
   "source": [
    "df.loc[df['Victim_Age']<0,'Victim_Age']=0"
   ]
  },
  {
   "cell_type": "code",
   "execution_count": 52,
   "id": "9cd516ef",
   "metadata": {
    "execution": {
     "iopub.execute_input": "2024-06-22T14:18:46.388304Z",
     "iopub.status.busy": "2024-06-22T14:18:46.387739Z",
     "iopub.status.idle": "2024-06-22T14:18:46.398116Z",
     "shell.execute_reply": "2024-06-22T14:18:46.396941Z"
    },
    "papermill": {
     "duration": 0.040068,
     "end_time": "2024-06-22T14:18:46.400381",
     "exception": false,
     "start_time": "2024-06-22T14:18:46.360313",
     "status": "completed"
    },
    "tags": []
   },
   "outputs": [
    {
     "data": {
      "text/plain": [
       "Victim_Age\n",
       "0.0     4834\n",
       "30.0     448\n",
       "31.0     446\n",
       "26.0     442\n",
       "29.0     425\n",
       "        ... \n",
       "93.0       5\n",
       "92.0       2\n",
       "96.0       2\n",
       "98.0       2\n",
       "94.0       2\n",
       "Name: count, Length: 98, dtype: int64"
      ]
     },
     "execution_count": 52,
     "metadata": {},
     "output_type": "execute_result"
    }
   ],
   "source": [
    "df['Victim_Age'].value_counts()"
   ]
  },
  {
   "cell_type": "code",
   "execution_count": 53,
   "id": "f0caadba",
   "metadata": {
    "execution": {
     "iopub.execute_input": "2024-06-22T14:18:46.456167Z",
     "iopub.status.busy": "2024-06-22T14:18:46.454976Z",
     "iopub.status.idle": "2024-06-22T14:18:46.462541Z",
     "shell.execute_reply": "2024-06-22T14:18:46.461497Z"
    },
    "papermill": {
     "duration": 0.037386,
     "end_time": "2024-06-22T14:18:46.464648",
     "exception": false,
     "start_time": "2024-06-22T14:18:46.427262",
     "status": "completed"
    },
    "tags": []
   },
   "outputs": [
    {
     "data": {
      "text/plain": [
       "30.1354"
      ]
     },
     "execution_count": 53,
     "metadata": {},
     "output_type": "execute_result"
    }
   ],
   "source": [
    "df['Victim_Age'].mean()"
   ]
  },
  {
   "cell_type": "code",
   "execution_count": 54,
   "id": "6555fa26",
   "metadata": {
    "execution": {
     "iopub.execute_input": "2024-06-22T14:18:46.519325Z",
     "iopub.status.busy": "2024-06-22T14:18:46.518897Z",
     "iopub.status.idle": "2024-06-22T14:18:46.807794Z",
     "shell.execute_reply": "2024-06-22T14:18:46.806586Z"
    },
    "papermill": {
     "duration": 0.319147,
     "end_time": "2024-06-22T14:18:46.810122",
     "exception": false,
     "start_time": "2024-06-22T14:18:46.490975",
     "status": "completed"
    },
    "tags": []
   },
   "outputs": [
    {
     "data": {
      "text/plain": [
       "<Axes: ylabel='Frequency'>"
      ]
     },
     "execution_count": 54,
     "metadata": {},
     "output_type": "execute_result"
    },
    {
     "data": {
      "image/png": "[encoded data removed]",
      "text/plain": [
       "<Figure size 640x480 with 1 Axes>"
      ]
     },
     "metadata": {},
     "output_type": "display_data"
    }
   ],
   "source": [
    "df['Victim_Age'].plot.hist()"
   ]
  },
  {
   "cell_type": "code",
   "execution_count": 55,
   "id": "08e29027",
   "metadata": {
    "execution": {
     "iopub.execute_input": "2024-06-22T14:18:46.867830Z",
     "iopub.status.busy": "2024-06-22T14:18:46.867459Z",
     "iopub.status.idle": "2024-06-22T14:18:46.904321Z",
     "shell.execute_reply": "2024-06-22T14:18:46.903060Z"
    },
    "papermill": {
     "duration": 0.069086,
     "end_time": "2024-06-22T14:18:46.906858",
     "exception": false,
     "start_time": "2024-06-22T14:18:46.837772",
     "status": "completed"
    },
    "tags": []
   },
   "outputs": [
    {
     "data": {
      "text/html": [
       "<div>\n",
       "<style scoped>\n",
       "    .dataframe tbody tr th:only-of-type {\n",
       "        vertical-align: middle;\n",
       "    }\n",
       "\n",
       "    .dataframe tbody tr th {\n",
       "        vertical-align: top;\n",
       "    }\n",
       "\n",
       "    .dataframe thead th {\n",
       "        text-align: right;\n",
       "    }\n",
       "</style>\n",
       "<table border=\"1\" class=\"dataframe\">\n",
       "  <thead>\n",
       "    <tr style=\"text-align: right;\">\n",
       "      <th></th>\n",
       "      <th>Latitude</th>\n",
       "      <th>Longitude</th>\n",
       "      <th>reporting_delay_day_count</th>\n",
       "      <th>Victim_Age</th>\n",
       "      <th>Premise_Code</th>\n",
       "      <th>Area_ID</th>\n",
       "      <th>Part 1-2</th>\n",
       "      <th>max_activity</th>\n",
       "    </tr>\n",
       "  </thead>\n",
       "  <tbody>\n",
       "    <tr>\n",
       "      <th>count</th>\n",
       "      <td>20000.000000</td>\n",
       "      <td>20000.000000</td>\n",
       "      <td>20000.000000</td>\n",
       "      <td>20000.00000</td>\n",
       "      <td>20000.000000</td>\n",
       "      <td>20000.000000</td>\n",
       "      <td>20000.000000</td>\n",
       "      <td>20000.000000</td>\n",
       "    </tr>\n",
       "    <tr>\n",
       "      <th>mean</th>\n",
       "      <td>33.940704</td>\n",
       "      <td>-117.893072</td>\n",
       "      <td>22.120000</td>\n",
       "      <td>30.13540</td>\n",
       "      <td>297.176950</td>\n",
       "      <td>10.834250</td>\n",
       "      <td>1.418150</td>\n",
       "      <td>14.633300</td>\n",
       "    </tr>\n",
       "    <tr>\n",
       "      <th>std</th>\n",
       "      <td>2.126810</td>\n",
       "      <td>7.377726</td>\n",
       "      <td>116.418619</td>\n",
       "      <td>21.86308</td>\n",
       "      <td>212.007298</td>\n",
       "      <td>6.033166</td>\n",
       "      <td>0.493267</td>\n",
       "      <td>11.527028</td>\n",
       "    </tr>\n",
       "    <tr>\n",
       "      <th>min</th>\n",
       "      <td>0.000000</td>\n",
       "      <td>-118.663400</td>\n",
       "      <td>0.000000</td>\n",
       "      <td>0.00000</td>\n",
       "      <td>101.000000</td>\n",
       "      <td>1.000000</td>\n",
       "      <td>1.000000</td>\n",
       "      <td>0.000000</td>\n",
       "    </tr>\n",
       "    <tr>\n",
       "      <th>25%</th>\n",
       "      <td>34.009200</td>\n",
       "      <td>-118.429700</td>\n",
       "      <td>0.000000</td>\n",
       "      <td>12.00000</td>\n",
       "      <td>101.000000</td>\n",
       "      <td>6.000000</td>\n",
       "      <td>1.000000</td>\n",
       "      <td>4.000000</td>\n",
       "    </tr>\n",
       "    <tr>\n",
       "      <th>50%</th>\n",
       "      <td>34.058700</td>\n",
       "      <td>-118.323000</td>\n",
       "      <td>0.000000</td>\n",
       "      <td>31.00000</td>\n",
       "      <td>203.000000</td>\n",
       "      <td>11.000000</td>\n",
       "      <td>1.000000</td>\n",
       "      <td>14.000000</td>\n",
       "    </tr>\n",
       "    <tr>\n",
       "      <th>75%</th>\n",
       "      <td>34.165025</td>\n",
       "      <td>-118.274400</td>\n",
       "      <td>2.000000</td>\n",
       "      <td>46.00000</td>\n",
       "      <td>501.000000</td>\n",
       "      <td>16.000000</td>\n",
       "      <td>2.000000</td>\n",
       "      <td>19.000000</td>\n",
       "    </tr>\n",
       "    <tr>\n",
       "      <th>max</th>\n",
       "      <td>34.328100</td>\n",
       "      <td>0.000000</td>\n",
       "      <td>1437.000000</td>\n",
       "      <td>99.00000</td>\n",
       "      <td>969.000000</td>\n",
       "      <td>21.000000</td>\n",
       "      <td>2.000000</td>\n",
       "      <td>49.000000</td>\n",
       "    </tr>\n",
       "  </tbody>\n",
       "</table>\n",
       "</div>"
      ],
      "text/plain": [
       "           Latitude     Longitude  reporting_delay_day_count   Victim_Age  \\\n",
       "count  20000.000000  20000.000000               20000.000000  20000.00000   \n",
       "mean      33.940704   -117.893072                  22.120000     30.13540   \n",
       "std        2.126810      7.377726                 116.418619     21.86308   \n",
       "min        0.000000   -118.663400                   0.000000      0.00000   \n",
       "25%       34.009200   -118.429700                   0.000000     12.00000   \n",
       "50%       34.058700   -118.323000                   0.000000     31.00000   \n",
       "75%       34.165025   -118.274400                   2.000000     46.00000   \n",
       "max       34.328100      0.000000                1437.000000     99.00000   \n",
       "\n",
       "       Premise_Code       Area_ID      Part 1-2  max_activity  \n",
       "count  20000.000000  20000.000000  20000.000000  20000.000000  \n",
       "mean     297.176950     10.834250      1.418150     14.633300  \n",
       "std      212.007298      6.033166      0.493267     11.527028  \n",
       "min      101.000000      1.000000      1.000000      0.000000  \n",
       "25%      101.000000      6.000000      1.000000      4.000000  \n",
       "50%      203.000000     11.000000      1.000000     14.000000  \n",
       "75%      501.000000     16.000000      2.000000     19.000000  \n",
       "max      969.000000     21.000000      2.000000     49.000000  "
      ]
     },
     "execution_count": 55,
     "metadata": {},
     "output_type": "execute_result"
    }
   ],
   "source": [
    "df.describe()"
   ]
  },
  {
   "cell_type": "code",
   "execution_count": 56,
   "id": "a2c14acb",
   "metadata": {
    "execution": {
     "iopub.execute_input": "2024-06-22T14:18:46.964984Z",
     "iopub.status.busy": "2024-06-22T14:18:46.964558Z",
     "iopub.status.idle": "2024-06-22T14:18:46.971691Z",
     "shell.execute_reply": "2024-06-22T14:18:46.970541Z"
    },
    "papermill": {
     "duration": 0.039938,
     "end_time": "2024-06-22T14:18:46.974228",
     "exception": false,
     "start_time": "2024-06-22T14:18:46.934290",
     "status": "completed"
    },
    "tags": []
   },
   "outputs": [],
   "source": [
    "df.loc[df['Victim_Age']==0,'Victim_Age']=df['Victim_Age'].mean()"
   ]
  },
  {
   "cell_type": "code",
   "execution_count": 57,
   "id": "28fe9e0a",
   "metadata": {
    "execution": {
     "iopub.execute_input": "2024-06-22T14:18:47.032744Z",
     "iopub.status.busy": "2024-06-22T14:18:47.031875Z",
     "iopub.status.idle": "2024-06-22T14:18:47.233874Z",
     "shell.execute_reply": "2024-06-22T14:18:47.232798Z"
    },
    "papermill": {
     "duration": 0.233279,
     "end_time": "2024-06-22T14:18:47.236371",
     "exception": false,
     "start_time": "2024-06-22T14:18:47.003092",
     "status": "completed"
    },
    "tags": []
   },
   "outputs": [
    {
     "data": {
      "text/plain": [
       "<Axes: ylabel='Frequency'>"
      ]
     },
     "execution_count": 57,
     "metadata": {},
     "output_type": "execute_result"
    },
    {
     "data": {
      "image/png": "[encoded data removed]",
      "text/plain": [
       "<Figure size 640x480 with 1 Axes>"
      ]
     },
     "metadata": {},
     "output_type": "display_data"
    }
   ],
   "source": [
    "df['Victim_Age'].plot.hist()"
   ]
  },
  {
   "cell_type": "code",
   "execution_count": 58,
   "id": "129540ea",
   "metadata": {
    "execution": {
     "iopub.execute_input": "2024-06-22T14:18:47.293531Z",
     "iopub.status.busy": "2024-06-22T14:18:47.293128Z",
     "iopub.status.idle": "2024-06-22T14:18:47.302096Z",
     "shell.execute_reply": "2024-06-22T14:18:47.300923Z"
    },
    "papermill": {
     "duration": 0.040115,
     "end_time": "2024-06-22T14:18:47.304318",
     "exception": false,
     "start_time": "2024-06-22T14:18:47.264203",
     "status": "completed"
    },
    "tags": []
   },
   "outputs": [
    {
     "data": {
      "text/plain": [
       "Part 1-2\n",
       "1.0    11637\n",
       "2.0     8363\n",
       "Name: count, dtype: int64"
      ]
     },
     "execution_count": 58,
     "metadata": {},
     "output_type": "execute_result"
    }
   ],
   "source": [
    "df['Part 1-2'].value_counts()"
   ]
  },
  {
   "cell_type": "code",
   "execution_count": 59,
   "id": "cf64316b",
   "metadata": {
    "execution": {
     "iopub.execute_input": "2024-06-22T14:18:47.362263Z",
     "iopub.status.busy": "2024-06-22T14:18:47.361395Z",
     "iopub.status.idle": "2024-06-22T14:18:47.378184Z",
     "shell.execute_reply": "2024-06-22T14:18:47.377185Z"
    },
    "papermill": {
     "duration": 0.048158,
     "end_time": "2024-06-22T14:18:47.380436",
     "exception": false,
     "start_time": "2024-06-22T14:18:47.332278",
     "status": "completed"
    },
    "tags": []
   },
   "outputs": [],
   "source": [
    "df.loc[:,'Part 1-2']=df['Part 1-2'].apply(lambda x: int(x))"
   ]
  },
  {
   "cell_type": "code",
   "execution_count": 60,
   "id": "f5f4205b",
   "metadata": {
    "execution": {
     "iopub.execute_input": "2024-06-22T14:18:47.438276Z",
     "iopub.status.busy": "2024-06-22T14:18:47.437849Z",
     "iopub.status.idle": "2024-06-22T14:18:47.462859Z",
     "shell.execute_reply": "2024-06-22T14:18:47.461749Z"
    },
    "papermill": {
     "duration": 0.057121,
     "end_time": "2024-06-22T14:18:47.465298",
     "exception": false,
     "start_time": "2024-06-22T14:18:47.408177",
     "status": "completed"
    },
    "tags": []
   },
   "outputs": [
    {
     "data": {
      "text/html": [
       "<div>\n",
       "<style scoped>\n",
       "    .dataframe tbody tr th:only-of-type {\n",
       "        vertical-align: middle;\n",
       "    }\n",
       "\n",
       "    .dataframe tbody tr th {\n",
       "        vertical-align: top;\n",
       "    }\n",
       "\n",
       "    .dataframe thead th {\n",
       "        text-align: right;\n",
       "    }\n",
       "</style>\n",
       "<table border=\"1\" class=\"dataframe\">\n",
       "  <thead>\n",
       "    <tr style=\"text-align: right;\">\n",
       "      <th></th>\n",
       "      <th>Latitude</th>\n",
       "      <th>Longitude</th>\n",
       "      <th>reporting_delay_day_count</th>\n",
       "      <th>day_category</th>\n",
       "      <th>Victim_Age</th>\n",
       "      <th>Victim_Sex</th>\n",
       "      <th>Victim_Descent</th>\n",
       "      <th>Premise_Code</th>\n",
       "      <th>Weapon_Description</th>\n",
       "      <th>Area_ID</th>\n",
       "      <th>Modus_Operandi</th>\n",
       "      <th>Part 1-2</th>\n",
       "      <th>Status</th>\n",
       "      <th>Crime_Category</th>\n",
       "      <th>max_activity</th>\n",
       "    </tr>\n",
       "  </thead>\n",
       "  <tbody>\n",
       "    <tr>\n",
       "      <th>0</th>\n",
       "      <td>34.1522</td>\n",
       "      <td>-118.3910</td>\n",
       "      <td>3</td>\n",
       "      <td>Evening</td>\n",
       "      <td>75.0000</td>\n",
       "      <td>M</td>\n",
       "      <td>W</td>\n",
       "      <td>101.0</td>\n",
       "      <td>MACHETE</td>\n",
       "      <td>15.0</td>\n",
       "      <td>0385</td>\n",
       "      <td>1.0</td>\n",
       "      <td>IC</td>\n",
       "      <td>Property Crimes</td>\n",
       "      <td>4</td>\n",
       "    </tr>\n",
       "    <tr>\n",
       "      <th>1</th>\n",
       "      <td>34.0028</td>\n",
       "      <td>-118.2391</td>\n",
       "      <td>0</td>\n",
       "      <td>Daytime</td>\n",
       "      <td>41.0000</td>\n",
       "      <td>M</td>\n",
       "      <td>H</td>\n",
       "      <td>216.0</td>\n",
       "      <td>STRONG-ARM (HANDS, FIST, FEET OR BODILY FORCE)</td>\n",
       "      <td>13.0</td>\n",
       "      <td>0352 0417 0446 0906 0344 0371 0416 1822</td>\n",
       "      <td>1.0</td>\n",
       "      <td>IC</td>\n",
       "      <td>Property Crimes</td>\n",
       "      <td>39</td>\n",
       "    </tr>\n",
       "    <tr>\n",
       "      <th>2</th>\n",
       "      <td>34.0111</td>\n",
       "      <td>-118.2653</td>\n",
       "      <td>0</td>\n",
       "      <td>Morning</td>\n",
       "      <td>67.0000</td>\n",
       "      <td>M</td>\n",
       "      <td>B</td>\n",
       "      <td>501.0</td>\n",
       "      <td>ROCK/THROWN OBJECT</td>\n",
       "      <td>13.0</td>\n",
       "      <td>0329 1202</td>\n",
       "      <td>2.0</td>\n",
       "      <td>IC</td>\n",
       "      <td>Property Crimes</td>\n",
       "      <td>9</td>\n",
       "    </tr>\n",
       "    <tr>\n",
       "      <th>3</th>\n",
       "      <td>34.2953</td>\n",
       "      <td>-118.4590</td>\n",
       "      <td>2</td>\n",
       "      <td>Evening</td>\n",
       "      <td>61.0000</td>\n",
       "      <td>M</td>\n",
       "      <td>H</td>\n",
       "      <td>101.0</td>\n",
       "      <td>STRONG-ARM (HANDS, FIST, FEET OR BODILY FORCE)</td>\n",
       "      <td>19.0</td>\n",
       "      <td>0329 1300</td>\n",
       "      <td>1.0</td>\n",
       "      <td>IC</td>\n",
       "      <td>Property Crimes</td>\n",
       "      <td>9</td>\n",
       "    </tr>\n",
       "    <tr>\n",
       "      <th>4</th>\n",
       "      <td>33.9787</td>\n",
       "      <td>-118.2918</td>\n",
       "      <td>0</td>\n",
       "      <td>Morning</td>\n",
       "      <td>30.1354</td>\n",
       "      <td>X</td>\n",
       "      <td>X</td>\n",
       "      <td>401.0</td>\n",
       "      <td>STRONG-ARM (HANDS, FIST, FEET OR BODILY FORCE)</td>\n",
       "      <td>12.0</td>\n",
       "      <td>0417 0945 0400 0344 0416 1822</td>\n",
       "      <td>1.0</td>\n",
       "      <td>IC</td>\n",
       "      <td>Property Crimes</td>\n",
       "      <td>29</td>\n",
       "    </tr>\n",
       "    <tr>\n",
       "      <th>...</th>\n",
       "      <td>...</td>\n",
       "      <td>...</td>\n",
       "      <td>...</td>\n",
       "      <td>...</td>\n",
       "      <td>...</td>\n",
       "      <td>...</td>\n",
       "      <td>...</td>\n",
       "      <td>...</td>\n",
       "      <td>...</td>\n",
       "      <td>...</td>\n",
       "      <td>...</td>\n",
       "      <td>...</td>\n",
       "      <td>...</td>\n",
       "      <td>...</td>\n",
       "      <td>...</td>\n",
       "    </tr>\n",
       "    <tr>\n",
       "      <th>19995</th>\n",
       "      <td>34.0334</td>\n",
       "      <td>-118.3523</td>\n",
       "      <td>0</td>\n",
       "      <td>Morning</td>\n",
       "      <td>51.0000</td>\n",
       "      <td>M</td>\n",
       "      <td>H</td>\n",
       "      <td>501.0</td>\n",
       "      <td>STRONG-ARM (HANDS, FIST, FEET OR BODILY FORCE)</td>\n",
       "      <td>3.0</td>\n",
       "      <td>0913 0416 2004 0446</td>\n",
       "      <td>2.0</td>\n",
       "      <td>IC</td>\n",
       "      <td>Violent Crimes</td>\n",
       "      <td>19</td>\n",
       "    </tr>\n",
       "    <tr>\n",
       "      <th>19996</th>\n",
       "      <td>34.2212</td>\n",
       "      <td>-118.5011</td>\n",
       "      <td>0</td>\n",
       "      <td>Night</td>\n",
       "      <td>30.1354</td>\n",
       "      <td>M</td>\n",
       "      <td>W</td>\n",
       "      <td>301.0</td>\n",
       "      <td>HAND GUN</td>\n",
       "      <td>10.0</td>\n",
       "      <td>1414 0209 1420 0344 1822</td>\n",
       "      <td>1.0</td>\n",
       "      <td>IC</td>\n",
       "      <td>Property Crimes</td>\n",
       "      <td>24</td>\n",
       "    </tr>\n",
       "    <tr>\n",
       "      <th>19997</th>\n",
       "      <td>34.0571</td>\n",
       "      <td>-118.3815</td>\n",
       "      <td>0</td>\n",
       "      <td>Daytime</td>\n",
       "      <td>42.0000</td>\n",
       "      <td>M</td>\n",
       "      <td>H</td>\n",
       "      <td>102.0</td>\n",
       "      <td>UNKNOWN WEAPON/OTHER WEAPON</td>\n",
       "      <td>8.0</td>\n",
       "      <td>0344 1420 1822</td>\n",
       "      <td>1.0</td>\n",
       "      <td>IC</td>\n",
       "      <td>Property Crimes</td>\n",
       "      <td>14</td>\n",
       "    </tr>\n",
       "    <tr>\n",
       "      <th>19998</th>\n",
       "      <td>33.7451</td>\n",
       "      <td>-118.2835</td>\n",
       "      <td>0</td>\n",
       "      <td>Morning</td>\n",
       "      <td>76.0000</td>\n",
       "      <td>F</td>\n",
       "      <td>H</td>\n",
       "      <td>501.0</td>\n",
       "      <td>OTHER KNIFE</td>\n",
       "      <td>5.0</td>\n",
       "      <td>0602 1202 2038 0913 0553 1242</td>\n",
       "      <td>2.0</td>\n",
       "      <td>IC</td>\n",
       "      <td>Crimes against Public Order</td>\n",
       "      <td>29</td>\n",
       "    </tr>\n",
       "    <tr>\n",
       "      <th>19999</th>\n",
       "      <td>34.0037</td>\n",
       "      <td>-118.3034</td>\n",
       "      <td>1</td>\n",
       "      <td>Evening</td>\n",
       "      <td>30.1354</td>\n",
       "      <td>X</td>\n",
       "      <td>B</td>\n",
       "      <td>101.0</td>\n",
       "      <td>STRONG-ARM (HANDS, FIST, FEET OR BODILY FORCE)</td>\n",
       "      <td>3.0</td>\n",
       "      <td></td>\n",
       "      <td>1.0</td>\n",
       "      <td>IC</td>\n",
       "      <td>Property Crimes</td>\n",
       "      <td>0</td>\n",
       "    </tr>\n",
       "  </tbody>\n",
       "</table>\n",
       "<p>20000 rows × 15 columns</p>\n",
       "</div>"
      ],
      "text/plain": [
       "       Latitude  Longitude  reporting_delay_day_count day_category  \\\n",
       "0       34.1522  -118.3910                          3      Evening   \n",
       "1       34.0028  -118.2391                          0      Daytime   \n",
       "2       34.0111  -118.2653                          0      Morning   \n",
       "3       34.2953  -118.4590                          2      Evening   \n",
       "4       33.9787  -118.2918                          0      Morning   \n",
       "...         ...        ...                        ...          ...   \n",
       "19995   34.0334  -118.3523                          0      Morning   \n",
       "19996   34.2212  -118.5011                          0        Night   \n",
       "19997   34.0571  -118.3815                          0      Daytime   \n",
       "19998   33.7451  -118.2835                          0      Morning   \n",
       "19999   34.0037  -118.3034                          1      Evening   \n",
       "\n",
       "       Victim_Age Victim_Sex Victim_Descent  Premise_Code  \\\n",
       "0         75.0000          M              W         101.0   \n",
       "1         41.0000          M              H         216.0   \n",
       "2         67.0000          M              B         501.0   \n",
       "3         61.0000          M              H         101.0   \n",
       "4         30.1354          X              X         401.0   \n",
       "...           ...        ...            ...           ...   \n",
       "19995     51.0000          M              H         501.0   \n",
       "19996     30.1354          M              W         301.0   \n",
       "19997     42.0000          M              H         102.0   \n",
       "19998     76.0000          F              H         501.0   \n",
       "19999     30.1354          X              B         101.0   \n",
       "\n",
       "                                   Weapon_Description  Area_ID  \\\n",
       "0                                             MACHETE     15.0   \n",
       "1      STRONG-ARM (HANDS, FIST, FEET OR BODILY FORCE)     13.0   \n",
       "2                                  ROCK/THROWN OBJECT     13.0   \n",
       "3      STRONG-ARM (HANDS, FIST, FEET OR BODILY FORCE)     19.0   \n",
       "4      STRONG-ARM (HANDS, FIST, FEET OR BODILY FORCE)     12.0   \n",
       "...                                               ...      ...   \n",
       "19995  STRONG-ARM (HANDS, FIST, FEET OR BODILY FORCE)      3.0   \n",
       "19996                                        HAND GUN     10.0   \n",
       "19997                     UNKNOWN WEAPON/OTHER WEAPON      8.0   \n",
       "19998                                     OTHER KNIFE      5.0   \n",
       "19999  STRONG-ARM (HANDS, FIST, FEET OR BODILY FORCE)      3.0   \n",
       "\n",
       "                                Modus_Operandi  Part 1-2 Status  \\\n",
       "0                                         0385       1.0     IC   \n",
       "1      0352 0417 0446 0906 0344 0371 0416 1822       1.0     IC   \n",
       "2                                    0329 1202       2.0     IC   \n",
       "3                                    0329 1300       1.0     IC   \n",
       "4                0417 0945 0400 0344 0416 1822       1.0     IC   \n",
       "...                                        ...       ...    ...   \n",
       "19995                      0913 0416 2004 0446       2.0     IC   \n",
       "19996                 1414 0209 1420 0344 1822       1.0     IC   \n",
       "19997                           0344 1420 1822       1.0     IC   \n",
       "19998            0602 1202 2038 0913 0553 1242       2.0     IC   \n",
       "19999                                                1.0     IC   \n",
       "\n",
       "                    Crime_Category  max_activity  \n",
       "0                  Property Crimes             4  \n",
       "1                  Property Crimes            39  \n",
       "2                  Property Crimes             9  \n",
       "3                  Property Crimes             9  \n",
       "4                  Property Crimes            29  \n",
       "...                            ...           ...  \n",
       "19995               Violent Crimes            19  \n",
       "19996              Property Crimes            24  \n",
       "19997              Property Crimes            14  \n",
       "19998  Crimes against Public Order            29  \n",
       "19999              Property Crimes             0  \n",
       "\n",
       "[20000 rows x 15 columns]"
      ]
     },
     "execution_count": 60,
     "metadata": {},
     "output_type": "execute_result"
    }
   ],
   "source": [
    "df"
   ]
  },
  {
   "cell_type": "code",
   "execution_count": 61,
   "id": "61108e53",
   "metadata": {
    "execution": {
     "iopub.execute_input": "2024-06-22T14:18:47.524298Z",
     "iopub.status.busy": "2024-06-22T14:18:47.523522Z",
     "iopub.status.idle": "2024-06-22T14:18:47.539228Z",
     "shell.execute_reply": "2024-06-22T14:18:47.538171Z"
    },
    "papermill": {
     "duration": 0.047758,
     "end_time": "2024-06-22T14:18:47.541379",
     "exception": false,
     "start_time": "2024-06-22T14:18:47.493621",
     "status": "completed"
    },
    "tags": []
   },
   "outputs": [],
   "source": [
    "df.loc[:,'Victim_Age']=df['Victim_Age'].apply(lambda x: int(x))"
   ]
  },
  {
   "cell_type": "code",
   "execution_count": 62,
   "id": "1a356a6e",
   "metadata": {
    "execution": {
     "iopub.execute_input": "2024-06-22T14:18:47.601286Z",
     "iopub.status.busy": "2024-06-22T14:18:47.600599Z",
     "iopub.status.idle": "2024-06-22T14:18:47.617060Z",
     "shell.execute_reply": "2024-06-22T14:18:47.615977Z"
    },
    "papermill": {
     "duration": 0.049734,
     "end_time": "2024-06-22T14:18:47.619312",
     "exception": false,
     "start_time": "2024-06-22T14:18:47.569578",
     "status": "completed"
    },
    "tags": []
   },
   "outputs": [
    {
     "data": {
      "text/plain": [
       "Latitude                     0\n",
       "Longitude                    0\n",
       "reporting_delay_day_count    0\n",
       "day_category                 0\n",
       "Victim_Age                   0\n",
       "Victim_Sex                   0\n",
       "Victim_Descent               0\n",
       "Premise_Code                 0\n",
       "Weapon_Description           0\n",
       "Area_ID                      0\n",
       "Modus_Operandi               0\n",
       "Part 1-2                     0\n",
       "Status                       0\n",
       "Crime_Category               0\n",
       "max_activity                 0\n",
       "dtype: int64"
      ]
     },
     "execution_count": 62,
     "metadata": {},
     "output_type": "execute_result"
    }
   ],
   "source": [
    "df.isnull().sum()"
   ]
  },
  {
   "cell_type": "code",
   "execution_count": 63,
   "id": "ff4fbfdd",
   "metadata": {
    "execution": {
     "iopub.execute_input": "2024-06-22T14:18:47.678574Z",
     "iopub.status.busy": "2024-06-22T14:18:47.677466Z",
     "iopub.status.idle": "2024-06-22T14:18:47.701112Z",
     "shell.execute_reply": "2024-06-22T14:18:47.700063Z"
    },
    "papermill": {
     "duration": 0.055914,
     "end_time": "2024-06-22T14:18:47.703411",
     "exception": false,
     "start_time": "2024-06-22T14:18:47.647497",
     "status": "completed"
    },
    "tags": []
   },
   "outputs": [
    {
     "data": {
      "text/html": [
       "<div>\n",
       "<style scoped>\n",
       "    .dataframe tbody tr th:only-of-type {\n",
       "        vertical-align: middle;\n",
       "    }\n",
       "\n",
       "    .dataframe tbody tr th {\n",
       "        vertical-align: top;\n",
       "    }\n",
       "\n",
       "    .dataframe thead th {\n",
       "        text-align: right;\n",
       "    }\n",
       "</style>\n",
       "<table border=\"1\" class=\"dataframe\">\n",
       "  <thead>\n",
       "    <tr style=\"text-align: right;\">\n",
       "      <th></th>\n",
       "      <th>Latitude</th>\n",
       "      <th>Longitude</th>\n",
       "      <th>reporting_delay_day_count</th>\n",
       "      <th>day_category</th>\n",
       "      <th>Victim_Age</th>\n",
       "      <th>Victim_Sex</th>\n",
       "      <th>Victim_Descent</th>\n",
       "      <th>Premise_Code</th>\n",
       "      <th>Weapon_Description</th>\n",
       "      <th>Area_ID</th>\n",
       "      <th>Modus_Operandi</th>\n",
       "      <th>Part 1-2</th>\n",
       "      <th>Status</th>\n",
       "      <th>Crime_Category</th>\n",
       "      <th>max_activity</th>\n",
       "    </tr>\n",
       "  </thead>\n",
       "  <tbody>\n",
       "    <tr>\n",
       "      <th>0</th>\n",
       "      <td>34.1522</td>\n",
       "      <td>-118.3910</td>\n",
       "      <td>3</td>\n",
       "      <td>Evening</td>\n",
       "      <td>75.0</td>\n",
       "      <td>M</td>\n",
       "      <td>W</td>\n",
       "      <td>101.0</td>\n",
       "      <td>MACHETE</td>\n",
       "      <td>15.0</td>\n",
       "      <td>0385</td>\n",
       "      <td>1.0</td>\n",
       "      <td>IC</td>\n",
       "      <td>Property Crimes</td>\n",
       "      <td>4</td>\n",
       "    </tr>\n",
       "    <tr>\n",
       "      <th>1</th>\n",
       "      <td>34.0028</td>\n",
       "      <td>-118.2391</td>\n",
       "      <td>0</td>\n",
       "      <td>Daytime</td>\n",
       "      <td>41.0</td>\n",
       "      <td>M</td>\n",
       "      <td>H</td>\n",
       "      <td>216.0</td>\n",
       "      <td>STRONG-ARM (HANDS, FIST, FEET OR BODILY FORCE)</td>\n",
       "      <td>13.0</td>\n",
       "      <td>0352 0417 0446 0906 0344 0371 0416 1822</td>\n",
       "      <td>1.0</td>\n",
       "      <td>IC</td>\n",
       "      <td>Property Crimes</td>\n",
       "      <td>39</td>\n",
       "    </tr>\n",
       "    <tr>\n",
       "      <th>2</th>\n",
       "      <td>34.0111</td>\n",
       "      <td>-118.2653</td>\n",
       "      <td>0</td>\n",
       "      <td>Morning</td>\n",
       "      <td>67.0</td>\n",
       "      <td>M</td>\n",
       "      <td>B</td>\n",
       "      <td>501.0</td>\n",
       "      <td>ROCK/THROWN OBJECT</td>\n",
       "      <td>13.0</td>\n",
       "      <td>0329 1202</td>\n",
       "      <td>2.0</td>\n",
       "      <td>IC</td>\n",
       "      <td>Property Crimes</td>\n",
       "      <td>9</td>\n",
       "    </tr>\n",
       "    <tr>\n",
       "      <th>3</th>\n",
       "      <td>34.2953</td>\n",
       "      <td>-118.4590</td>\n",
       "      <td>2</td>\n",
       "      <td>Evening</td>\n",
       "      <td>61.0</td>\n",
       "      <td>M</td>\n",
       "      <td>H</td>\n",
       "      <td>101.0</td>\n",
       "      <td>STRONG-ARM (HANDS, FIST, FEET OR BODILY FORCE)</td>\n",
       "      <td>19.0</td>\n",
       "      <td>0329 1300</td>\n",
       "      <td>1.0</td>\n",
       "      <td>IC</td>\n",
       "      <td>Property Crimes</td>\n",
       "      <td>9</td>\n",
       "    </tr>\n",
       "    <tr>\n",
       "      <th>4</th>\n",
       "      <td>33.9787</td>\n",
       "      <td>-118.2918</td>\n",
       "      <td>0</td>\n",
       "      <td>Morning</td>\n",
       "      <td>30.0</td>\n",
       "      <td>X</td>\n",
       "      <td>X</td>\n",
       "      <td>401.0</td>\n",
       "      <td>STRONG-ARM (HANDS, FIST, FEET OR BODILY FORCE)</td>\n",
       "      <td>12.0</td>\n",
       "      <td>0417 0945 0400 0344 0416 1822</td>\n",
       "      <td>1.0</td>\n",
       "      <td>IC</td>\n",
       "      <td>Property Crimes</td>\n",
       "      <td>29</td>\n",
       "    </tr>\n",
       "    <tr>\n",
       "      <th>...</th>\n",
       "      <td>...</td>\n",
       "      <td>...</td>\n",
       "      <td>...</td>\n",
       "      <td>...</td>\n",
       "      <td>...</td>\n",
       "      <td>...</td>\n",
       "      <td>...</td>\n",
       "      <td>...</td>\n",
       "      <td>...</td>\n",
       "      <td>...</td>\n",
       "      <td>...</td>\n",
       "      <td>...</td>\n",
       "      <td>...</td>\n",
       "      <td>...</td>\n",
       "      <td>...</td>\n",
       "    </tr>\n",
       "    <tr>\n",
       "      <th>19995</th>\n",
       "      <td>34.0334</td>\n",
       "      <td>-118.3523</td>\n",
       "      <td>0</td>\n",
       "      <td>Morning</td>\n",
       "      <td>51.0</td>\n",
       "      <td>M</td>\n",
       "      <td>H</td>\n",
       "      <td>501.0</td>\n",
       "      <td>STRONG-ARM (HANDS, FIST, FEET OR BODILY FORCE)</td>\n",
       "      <td>3.0</td>\n",
       "      <td>0913 0416 2004 0446</td>\n",
       "      <td>2.0</td>\n",
       "      <td>IC</td>\n",
       "      <td>Violent Crimes</td>\n",
       "      <td>19</td>\n",
       "    </tr>\n",
       "    <tr>\n",
       "      <th>19996</th>\n",
       "      <td>34.2212</td>\n",
       "      <td>-118.5011</td>\n",
       "      <td>0</td>\n",
       "      <td>Night</td>\n",
       "      <td>30.0</td>\n",
       "      <td>M</td>\n",
       "      <td>W</td>\n",
       "      <td>301.0</td>\n",
       "      <td>HAND GUN</td>\n",
       "      <td>10.0</td>\n",
       "      <td>1414 0209 1420 0344 1822</td>\n",
       "      <td>1.0</td>\n",
       "      <td>IC</td>\n",
       "      <td>Property Crimes</td>\n",
       "      <td>24</td>\n",
       "    </tr>\n",
       "    <tr>\n",
       "      <th>19997</th>\n",
       "      <td>34.0571</td>\n",
       "      <td>-118.3815</td>\n",
       "      <td>0</td>\n",
       "      <td>Daytime</td>\n",
       "      <td>42.0</td>\n",
       "      <td>M</td>\n",
       "      <td>H</td>\n",
       "      <td>102.0</td>\n",
       "      <td>UNKNOWN WEAPON/OTHER WEAPON</td>\n",
       "      <td>8.0</td>\n",
       "      <td>0344 1420 1822</td>\n",
       "      <td>1.0</td>\n",
       "      <td>IC</td>\n",
       "      <td>Property Crimes</td>\n",
       "      <td>14</td>\n",
       "    </tr>\n",
       "    <tr>\n",
       "      <th>19998</th>\n",
       "      <td>33.7451</td>\n",
       "      <td>-118.2835</td>\n",
       "      <td>0</td>\n",
       "      <td>Morning</td>\n",
       "      <td>76.0</td>\n",
       "      <td>F</td>\n",
       "      <td>H</td>\n",
       "      <td>501.0</td>\n",
       "      <td>OTHER KNIFE</td>\n",
       "      <td>5.0</td>\n",
       "      <td>0602 1202 2038 0913 0553 1242</td>\n",
       "      <td>2.0</td>\n",
       "      <td>IC</td>\n",
       "      <td>Crimes against Public Order</td>\n",
       "      <td>29</td>\n",
       "    </tr>\n",
       "    <tr>\n",
       "      <th>19999</th>\n",
       "      <td>34.0037</td>\n",
       "      <td>-118.3034</td>\n",
       "      <td>1</td>\n",
       "      <td>Evening</td>\n",
       "      <td>30.0</td>\n",
       "      <td>X</td>\n",
       "      <td>B</td>\n",
       "      <td>101.0</td>\n",
       "      <td>STRONG-ARM (HANDS, FIST, FEET OR BODILY FORCE)</td>\n",
       "      <td>3.0</td>\n",
       "      <td></td>\n",
       "      <td>1.0</td>\n",
       "      <td>IC</td>\n",
       "      <td>Property Crimes</td>\n",
       "      <td>0</td>\n",
       "    </tr>\n",
       "  </tbody>\n",
       "</table>\n",
       "<p>20000 rows × 15 columns</p>\n",
       "</div>"
      ],
      "text/plain": [
       "       Latitude  Longitude  reporting_delay_day_count day_category  \\\n",
       "0       34.1522  -118.3910                          3      Evening   \n",
       "1       34.0028  -118.2391                          0      Daytime   \n",
       "2       34.0111  -118.2653                          0      Morning   \n",
       "3       34.2953  -118.4590                          2      Evening   \n",
       "4       33.9787  -118.2918                          0      Morning   \n",
       "...         ...        ...                        ...          ...   \n",
       "19995   34.0334  -118.3523                          0      Morning   \n",
       "19996   34.2212  -118.5011                          0        Night   \n",
       "19997   34.0571  -118.3815                          0      Daytime   \n",
       "19998   33.7451  -118.2835                          0      Morning   \n",
       "19999   34.0037  -118.3034                          1      Evening   \n",
       "\n",
       "       Victim_Age Victim_Sex Victim_Descent  Premise_Code  \\\n",
       "0            75.0          M              W         101.0   \n",
       "1            41.0          M              H         216.0   \n",
       "2            67.0          M              B         501.0   \n",
       "3            61.0          M              H         101.0   \n",
       "4            30.0          X              X         401.0   \n",
       "...           ...        ...            ...           ...   \n",
       "19995        51.0          M              H         501.0   \n",
       "19996        30.0          M              W         301.0   \n",
       "19997        42.0          M              H         102.0   \n",
       "19998        76.0          F              H         501.0   \n",
       "19999        30.0          X              B         101.0   \n",
       "\n",
       "                                   Weapon_Description  Area_ID  \\\n",
       "0                                             MACHETE     15.0   \n",
       "1      STRONG-ARM (HANDS, FIST, FEET OR BODILY FORCE)     13.0   \n",
       "2                                  ROCK/THROWN OBJECT     13.0   \n",
       "3      STRONG-ARM (HANDS, FIST, FEET OR BODILY FORCE)     19.0   \n",
       "4      STRONG-ARM (HANDS, FIST, FEET OR BODILY FORCE)     12.0   \n",
       "...                                               ...      ...   \n",
       "19995  STRONG-ARM (HANDS, FIST, FEET OR BODILY FORCE)      3.0   \n",
       "19996                                        HAND GUN     10.0   \n",
       "19997                     UNKNOWN WEAPON/OTHER WEAPON      8.0   \n",
       "19998                                     OTHER KNIFE      5.0   \n",
       "19999  STRONG-ARM (HANDS, FIST, FEET OR BODILY FORCE)      3.0   \n",
       "\n",
       "                                Modus_Operandi  Part 1-2 Status  \\\n",
       "0                                         0385       1.0     IC   \n",
       "1      0352 0417 0446 0906 0344 0371 0416 1822       1.0     IC   \n",
       "2                                    0329 1202       2.0     IC   \n",
       "3                                    0329 1300       1.0     IC   \n",
       "4                0417 0945 0400 0344 0416 1822       1.0     IC   \n",
       "...                                        ...       ...    ...   \n",
       "19995                      0913 0416 2004 0446       2.0     IC   \n",
       "19996                 1414 0209 1420 0344 1822       1.0     IC   \n",
       "19997                           0344 1420 1822       1.0     IC   \n",
       "19998            0602 1202 2038 0913 0553 1242       2.0     IC   \n",
       "19999                                                1.0     IC   \n",
       "\n",
       "                    Crime_Category  max_activity  \n",
       "0                  Property Crimes             4  \n",
       "1                  Property Crimes            39  \n",
       "2                  Property Crimes             9  \n",
       "3                  Property Crimes             9  \n",
       "4                  Property Crimes            29  \n",
       "...                            ...           ...  \n",
       "19995               Violent Crimes            19  \n",
       "19996              Property Crimes            24  \n",
       "19997              Property Crimes            14  \n",
       "19998  Crimes against Public Order            29  \n",
       "19999              Property Crimes             0  \n",
       "\n",
       "[20000 rows x 15 columns]"
      ]
     },
     "execution_count": 63,
     "metadata": {},
     "output_type": "execute_result"
    }
   ],
   "source": [
    "df"
   ]
  },
  {
   "cell_type": "code",
   "execution_count": 64,
   "id": "278ba533",
   "metadata": {
    "execution": {
     "iopub.execute_input": "2024-06-22T14:18:47.762613Z",
     "iopub.status.busy": "2024-06-22T14:18:47.762238Z",
     "iopub.status.idle": "2024-06-22T14:18:47.771836Z",
     "shell.execute_reply": "2024-06-22T14:18:47.770777Z"
    },
    "papermill": {
     "duration": 0.041623,
     "end_time": "2024-06-22T14:18:47.773951",
     "exception": false,
     "start_time": "2024-06-22T14:18:47.732328",
     "status": "completed"
    },
    "tags": []
   },
   "outputs": [
    {
     "data": {
      "text/plain": [
       "Area_ID\n",
       "12.0    1345\n",
       "14.0    1157\n",
       "1.0     1156\n",
       "3.0     1130\n",
       "18.0    1067\n",
       "15.0    1065\n",
       "6.0     1014\n",
       "13.0     999\n",
       "20.0     960\n",
       "7.0      943\n",
       "2.0      931\n",
       "8.0      910\n",
       "9.0      902\n",
       "5.0      872\n",
       "19.0     870\n",
       "11.0     839\n",
       "21.0     792\n",
       "10.0     790\n",
       "17.0     769\n",
       "4.0      755\n",
       "16.0     734\n",
       "Name: count, dtype: int64"
      ]
     },
     "execution_count": 64,
     "metadata": {},
     "output_type": "execute_result"
    }
   ],
   "source": [
    "df['Area_ID'].value_counts()"
   ]
  },
  {
   "cell_type": "code",
   "execution_count": 65,
   "id": "dd7da3a7",
   "metadata": {
    "execution": {
     "iopub.execute_input": "2024-06-22T14:18:47.834325Z",
     "iopub.status.busy": "2024-06-22T14:18:47.833536Z",
     "iopub.status.idle": "2024-06-22T14:18:47.842281Z",
     "shell.execute_reply": "2024-06-22T14:18:47.841229Z"
    },
    "papermill": {
     "duration": 0.041384,
     "end_time": "2024-06-22T14:18:47.844571",
     "exception": false,
     "start_time": "2024-06-22T14:18:47.803187",
     "status": "completed"
    },
    "tags": []
   },
   "outputs": [
    {
     "name": "stderr",
     "output_type": "stream",
     "text": [
      "/tmp/ipykernel_18/876014097.py:1: SettingWithCopyWarning: \n",
      "A value is trying to be set on a copy of a slice from a DataFrame\n",
      "\n",
      "See the caveats in the documentation: https://pandas.pydata.org/pandas-docs/stable/user_guide/indexing.html#returning-a-view-versus-a-copy\n",
      "  df.drop('max_activity',axis=1,inplace=True)\n"
     ]
    }
   ],
   "source": [
    "df.drop('max_activity',axis=1,inplace=True)"
   ]
  },
  {
   "cell_type": "code",
   "execution_count": 66,
   "id": "bc9b13ce",
   "metadata": {
    "execution": {
     "iopub.execute_input": "2024-06-22T14:18:47.904636Z",
     "iopub.status.busy": "2024-06-22T14:18:47.903830Z",
     "iopub.status.idle": "2024-06-22T14:18:47.912401Z",
     "shell.execute_reply": "2024-06-22T14:18:47.911212Z"
    },
    "papermill": {
     "duration": 0.040802,
     "end_time": "2024-06-22T14:18:47.914475",
     "exception": false,
     "start_time": "2024-06-22T14:18:47.873673",
     "status": "completed"
    },
    "tags": []
   },
   "outputs": [],
   "source": [
    "\n",
    "df.loc[df['Weapon_Description'] == 'STRONG-ARM (HANDS, FIST, FEET OR BODILY FORCE)', 'Weapon_Description'] = 'Physical Force'\n"
   ]
  },
  {
   "cell_type": "code",
   "execution_count": 67,
   "id": "58a2ace2",
   "metadata": {
    "execution": {
     "iopub.execute_input": "2024-06-22T14:18:47.975157Z",
     "iopub.status.busy": "2024-06-22T14:18:47.974116Z",
     "iopub.status.idle": "2024-06-22T14:18:47.985049Z",
     "shell.execute_reply": "2024-06-22T14:18:47.983868Z"
    },
    "papermill": {
     "duration": 0.043783,
     "end_time": "2024-06-22T14:18:47.987476",
     "exception": false,
     "start_time": "2024-06-22T14:18:47.943693",
     "status": "completed"
    },
    "tags": []
   },
   "outputs": [
    {
     "data": {
      "text/plain": [
       "Weapon_Description\n",
       "Physical Force                                   10879\n",
       "UNKNOWN WEAPON/OTHER WEAPON                       2132\n",
       "VERBAL THREAT                                     1459\n",
       "HAND GUN                                          1075\n",
       "SEMI-AUTOMATIC PISTOL                              436\n",
       "KNIFE WITH BLADE 6INCHES OR LESS                   433\n",
       "OTHER KNIFE                                        369\n",
       "UNKNOWN FIREARM                                    356\n",
       "MACE/PEPPER SPRAY                                  246\n",
       "VEHICLE                                            219\n",
       "ROCK/THROWN OBJECT                                 160\n",
       "CLUB/BAT                                           137\n",
       "PIPE/METAL PIPE                                    136\n",
       "STICK                                              134\n",
       "BOTTLE                                             125\n",
       "KITCHEN KNIFE                                      119\n",
       "KNIFE WITH BLADE OVER 6 INCHES IN LENGTH           119\n",
       "BLUNT INSTRUMENT                                   111\n",
       "AIR PISTOL/REVOLVER/RIFLE/BB GUN                   111\n",
       "SIMULATED GUN                                      100\n",
       "FOLDING KNIFE                                      100\n",
       "REVOLVER                                            96\n",
       "BELT FLAILING INSTRUMENT/CHAIN                      76\n",
       "MACHETE                                             72\n",
       "CONCRETE BLOCK/BRICK                                70\n",
       "SCREWDRIVER                                         68\n",
       "UNKNOWN TYPE CUTTING INSTRUMENT                     66\n",
       "FIRE                                                62\n",
       "HAMMER                                              62\n",
       "OTHER FIREARM                                       59\n",
       "FIXED OBJECT                                        45\n",
       "PHYSICAL PRESENCE                                   42\n",
       "RIFLE                                               40\n",
       "OTHER CUTTING INSTRUMENT                            39\n",
       "SCISSORS                                            37\n",
       "GLASS                                               35\n",
       "BOARD                                               28\n",
       "TOY GUN                                             21\n",
       "AXE                                                 19\n",
       "TIRE IRON                                           19\n",
       "SHOTGUN                                             18\n",
       "SCALDING LIQUID                                     10\n",
       "STUN GUN                                            10\n",
       "BRASS KNUCKLES                                       8\n",
       "SWITCH BLADE                                         7\n",
       "HECKLER & KOCH 93 SEMIAUTOMATIC ASSAULT RIFLE        5\n",
       "STARTER PISTOL/REVOLVER                              4\n",
       "ICE PICK                                             4\n",
       "CLEAVER                                              4\n",
       "MARTIAL ARTS WEAPONS                                 3\n",
       "RAZOR BLADE                                          3\n",
       "CAUSTIC CHEMICAL/POISON                              3\n",
       "DEMAND NOTE                                          3\n",
       "SAWED OFF RIFLE/SHOTGUN                              2\n",
       "BOWIE KNIFE                                          2\n",
       "BOMB THREAT                                          1\n",
       "ASSAULT WEAPON/UZI/AK47/ETC                          1\n",
       "Name: count, dtype: int64"
      ]
     },
     "execution_count": 67,
     "metadata": {},
     "output_type": "execute_result"
    }
   ],
   "source": [
    "df['Weapon_Description'].value_counts()"
   ]
  },
  {
   "cell_type": "code",
   "execution_count": 68,
   "id": "4a449219",
   "metadata": {
    "execution": {
     "iopub.execute_input": "2024-06-22T14:18:48.048856Z",
     "iopub.status.busy": "2024-06-22T14:18:48.048484Z",
     "iopub.status.idle": "2024-06-22T14:18:48.105831Z",
     "shell.execute_reply": "2024-06-22T14:18:48.104702Z"
    },
    "papermill": {
     "duration": 0.091648,
     "end_time": "2024-06-22T14:18:48.108475",
     "exception": false,
     "start_time": "2024-06-22T14:18:48.016827",
     "status": "completed"
    },
    "tags": []
   },
   "outputs": [],
   "source": [
    "\n",
    "def gun(s):\n",
    "    t=s.replace('/',' ')\n",
    "    listt=t.split(' ' or '/')\n",
    "    gun_keywords=['gun','pistol','revolver','rifle','shotgun']\n",
    "    \n",
    "    sharp_heavy_object=['blade','stone','knife','metal','screwdriver','cleaver', 'glass','machete' ,'iron' , 'cutting','axe' ,'instrument','hammer','weapon','object','bottle','weapons','brass','scissors']\n",
    "    \n",
    "    other_weapon = ['bomb','threat', 'demand', 'poison', 'ice', 'scalding', 'board','block' ,'brick', 'stick', 'bat', 'spray']\n",
    "    \n",
    "    physical_presence=['physical','presence']\n",
    "    \n",
    "    fire=['firearm' , 'fire' ]\n",
    "\n",
    "    for i in listt:\n",
    "        if i.lower() in gun_keywords:\n",
    "            return 'Gun'\n",
    "        elif i.lower() in sharp_heavy_object:\n",
    "            return 'sharp_heavy_object'\n",
    "        \n",
    "        elif i.lower() in fire:\n",
    "            return 'fire'\n",
    "        elif i.lower() in other_weapon:\n",
    "            return 'other_weapon'\n",
    "        elif i.lower() in physical_presence:\n",
    "            return 'Physical Force'\n",
    "        \n",
    "    return s\n",
    "    \n",
    "\n",
    "\n",
    "\n",
    "df.loc[:,'Weapon_Description']=df['Weapon_Description'].apply(gun)"
   ]
  },
  {
   "cell_type": "code",
   "execution_count": 69,
   "id": "626eaf9c",
   "metadata": {
    "execution": {
     "iopub.execute_input": "2024-06-22T14:18:48.169029Z",
     "iopub.status.busy": "2024-06-22T14:18:48.168578Z",
     "iopub.status.idle": "2024-06-22T14:18:48.178622Z",
     "shell.execute_reply": "2024-06-22T14:18:48.177524Z"
    },
    "papermill": {
     "duration": 0.043132,
     "end_time": "2024-06-22T14:18:48.180827",
     "exception": false,
     "start_time": "2024-06-22T14:18:48.137695",
     "status": "completed"
    },
    "tags": []
   },
   "outputs": [
    {
     "data": {
      "text/plain": [
       "Weapon_Description\n",
       "Physical Force        10921\n",
       "sharp_heavy_object     4370\n",
       "other_weapon           2095\n",
       "Gun                    1918\n",
       "fire                    477\n",
       "VEHICLE                 219\n",
       "Name: count, dtype: int64"
      ]
     },
     "execution_count": 69,
     "metadata": {},
     "output_type": "execute_result"
    }
   ],
   "source": [
    "df['Weapon_Description'].value_counts()"
   ]
  },
  {
   "cell_type": "code",
   "execution_count": 70,
   "id": "bb655349",
   "metadata": {
    "execution": {
     "iopub.execute_input": "2024-06-22T14:18:48.241459Z",
     "iopub.status.busy": "2024-06-22T14:18:48.240715Z",
     "iopub.status.idle": "2024-06-22T14:18:48.248985Z",
     "shell.execute_reply": "2024-06-22T14:18:48.247929Z"
    },
    "papermill": {
     "duration": 0.041286,
     "end_time": "2024-06-22T14:18:48.251252",
     "exception": false,
     "start_time": "2024-06-22T14:18:48.209966",
     "status": "completed"
    },
    "tags": []
   },
   "outputs": [
    {
     "data": {
      "text/plain": [
       "217"
      ]
     },
     "execution_count": 70,
     "metadata": {},
     "output_type": "execute_result"
    }
   ],
   "source": [
    "len(df['Premise_Code'].value_counts())"
   ]
  },
  {
   "cell_type": "code",
   "execution_count": 71,
   "id": "9a71d861",
   "metadata": {
    "execution": {
     "iopub.execute_input": "2024-06-22T14:18:48.312501Z",
     "iopub.status.busy": "2024-06-22T14:18:48.311686Z",
     "iopub.status.idle": "2024-06-22T14:18:48.319770Z",
     "shell.execute_reply": "2024-06-22T14:18:48.318690Z"
    },
    "papermill": {
     "duration": 0.041333,
     "end_time": "2024-06-22T14:18:48.321942",
     "exception": false,
     "start_time": "2024-06-22T14:18:48.280609",
     "status": "completed"
    },
    "tags": []
   },
   "outputs": [
    {
     "data": {
      "text/plain": [
       "21"
      ]
     },
     "execution_count": 71,
     "metadata": {},
     "output_type": "execute_result"
    }
   ],
   "source": [
    "len(df['Area_ID'].value_counts())"
   ]
  },
  {
   "cell_type": "code",
   "execution_count": 72,
   "id": "6c16a8bf",
   "metadata": {
    "execution": {
     "iopub.execute_input": "2024-06-22T14:18:48.383972Z",
     "iopub.status.busy": "2024-06-22T14:18:48.383549Z",
     "iopub.status.idle": "2024-06-22T14:18:48.389337Z",
     "shell.execute_reply": "2024-06-22T14:18:48.388110Z"
    },
    "papermill": {
     "duration": 0.039197,
     "end_time": "2024-06-22T14:18:48.391616",
     "exception": false,
     "start_time": "2024-06-22T14:18:48.352419",
     "status": "completed"
    },
    "tags": []
   },
   "outputs": [],
   "source": [
    "numeric_columns=[['Latitude','Longitude','reporting_delay_day_count','Victim_Age']]\n",
    "categorical_columns=[['day_category','Victim_Sex','Victim_Descent','Premise_Code','Area_ID','Part 1-2','Status']] #ohe\n",
    "multilabel_binarizer=[['Modus_Operandi']] \n"
   ]
  },
  {
   "cell_type": "code",
   "execution_count": 73,
   "id": "142a7320",
   "metadata": {
    "execution": {
     "iopub.execute_input": "2024-06-22T14:18:48.455128Z",
     "iopub.status.busy": "2024-06-22T14:18:48.454688Z",
     "iopub.status.idle": "2024-06-22T14:18:48.478543Z",
     "shell.execute_reply": "2024-06-22T14:18:48.477405Z"
    },
    "papermill": {
     "duration": 0.058434,
     "end_time": "2024-06-22T14:18:48.481107",
     "exception": false,
     "start_time": "2024-06-22T14:18:48.422673",
     "status": "completed"
    },
    "tags": []
   },
   "outputs": [
    {
     "data": {
      "text/html": [
       "<div>\n",
       "<style scoped>\n",
       "    .dataframe tbody tr th:only-of-type {\n",
       "        vertical-align: middle;\n",
       "    }\n",
       "\n",
       "    .dataframe tbody tr th {\n",
       "        vertical-align: top;\n",
       "    }\n",
       "\n",
       "    .dataframe thead th {\n",
       "        text-align: right;\n",
       "    }\n",
       "</style>\n",
       "<table border=\"1\" class=\"dataframe\">\n",
       "  <thead>\n",
       "    <tr style=\"text-align: right;\">\n",
       "      <th></th>\n",
       "      <th>Latitude</th>\n",
       "      <th>Longitude</th>\n",
       "      <th>reporting_delay_day_count</th>\n",
       "      <th>day_category</th>\n",
       "      <th>Victim_Age</th>\n",
       "      <th>Victim_Sex</th>\n",
       "      <th>Victim_Descent</th>\n",
       "      <th>Premise_Code</th>\n",
       "      <th>Weapon_Description</th>\n",
       "      <th>Area_ID</th>\n",
       "      <th>Modus_Operandi</th>\n",
       "      <th>Part 1-2</th>\n",
       "      <th>Status</th>\n",
       "      <th>Crime_Category</th>\n",
       "    </tr>\n",
       "  </thead>\n",
       "  <tbody>\n",
       "    <tr>\n",
       "      <th>0</th>\n",
       "      <td>34.1522</td>\n",
       "      <td>-118.3910</td>\n",
       "      <td>3</td>\n",
       "      <td>Evening</td>\n",
       "      <td>75.0</td>\n",
       "      <td>M</td>\n",
       "      <td>W</td>\n",
       "      <td>101.0</td>\n",
       "      <td>sharp_heavy_object</td>\n",
       "      <td>15.0</td>\n",
       "      <td>0385</td>\n",
       "      <td>1.0</td>\n",
       "      <td>IC</td>\n",
       "      <td>Property Crimes</td>\n",
       "    </tr>\n",
       "    <tr>\n",
       "      <th>1</th>\n",
       "      <td>34.0028</td>\n",
       "      <td>-118.2391</td>\n",
       "      <td>0</td>\n",
       "      <td>Daytime</td>\n",
       "      <td>41.0</td>\n",
       "      <td>M</td>\n",
       "      <td>H</td>\n",
       "      <td>216.0</td>\n",
       "      <td>Physical Force</td>\n",
       "      <td>13.0</td>\n",
       "      <td>0352 0417 0446 0906 0344 0371 0416 1822</td>\n",
       "      <td>1.0</td>\n",
       "      <td>IC</td>\n",
       "      <td>Property Crimes</td>\n",
       "    </tr>\n",
       "    <tr>\n",
       "      <th>2</th>\n",
       "      <td>34.0111</td>\n",
       "      <td>-118.2653</td>\n",
       "      <td>0</td>\n",
       "      <td>Morning</td>\n",
       "      <td>67.0</td>\n",
       "      <td>M</td>\n",
       "      <td>B</td>\n",
       "      <td>501.0</td>\n",
       "      <td>sharp_heavy_object</td>\n",
       "      <td>13.0</td>\n",
       "      <td>0329 1202</td>\n",
       "      <td>2.0</td>\n",
       "      <td>IC</td>\n",
       "      <td>Property Crimes</td>\n",
       "    </tr>\n",
       "    <tr>\n",
       "      <th>3</th>\n",
       "      <td>34.2953</td>\n",
       "      <td>-118.4590</td>\n",
       "      <td>2</td>\n",
       "      <td>Evening</td>\n",
       "      <td>61.0</td>\n",
       "      <td>M</td>\n",
       "      <td>H</td>\n",
       "      <td>101.0</td>\n",
       "      <td>Physical Force</td>\n",
       "      <td>19.0</td>\n",
       "      <td>0329 1300</td>\n",
       "      <td>1.0</td>\n",
       "      <td>IC</td>\n",
       "      <td>Property Crimes</td>\n",
       "    </tr>\n",
       "    <tr>\n",
       "      <th>4</th>\n",
       "      <td>33.9787</td>\n",
       "      <td>-118.2918</td>\n",
       "      <td>0</td>\n",
       "      <td>Morning</td>\n",
       "      <td>30.0</td>\n",
       "      <td>X</td>\n",
       "      <td>X</td>\n",
       "      <td>401.0</td>\n",
       "      <td>Physical Force</td>\n",
       "      <td>12.0</td>\n",
       "      <td>0417 0945 0400 0344 0416 1822</td>\n",
       "      <td>1.0</td>\n",
       "      <td>IC</td>\n",
       "      <td>Property Crimes</td>\n",
       "    </tr>\n",
       "    <tr>\n",
       "      <th>...</th>\n",
       "      <td>...</td>\n",
       "      <td>...</td>\n",
       "      <td>...</td>\n",
       "      <td>...</td>\n",
       "      <td>...</td>\n",
       "      <td>...</td>\n",
       "      <td>...</td>\n",
       "      <td>...</td>\n",
       "      <td>...</td>\n",
       "      <td>...</td>\n",
       "      <td>...</td>\n",
       "      <td>...</td>\n",
       "      <td>...</td>\n",
       "      <td>...</td>\n",
       "    </tr>\n",
       "    <tr>\n",
       "      <th>19995</th>\n",
       "      <td>34.0334</td>\n",
       "      <td>-118.3523</td>\n",
       "      <td>0</td>\n",
       "      <td>Morning</td>\n",
       "      <td>51.0</td>\n",
       "      <td>M</td>\n",
       "      <td>H</td>\n",
       "      <td>501.0</td>\n",
       "      <td>Physical Force</td>\n",
       "      <td>3.0</td>\n",
       "      <td>0913 0416 2004 0446</td>\n",
       "      <td>2.0</td>\n",
       "      <td>IC</td>\n",
       "      <td>Violent Crimes</td>\n",
       "    </tr>\n",
       "    <tr>\n",
       "      <th>19996</th>\n",
       "      <td>34.2212</td>\n",
       "      <td>-118.5011</td>\n",
       "      <td>0</td>\n",
       "      <td>Night</td>\n",
       "      <td>30.0</td>\n",
       "      <td>M</td>\n",
       "      <td>W</td>\n",
       "      <td>301.0</td>\n",
       "      <td>Gun</td>\n",
       "      <td>10.0</td>\n",
       "      <td>1414 0209 1420 0344 1822</td>\n",
       "      <td>1.0</td>\n",
       "      <td>IC</td>\n",
       "      <td>Property Crimes</td>\n",
       "    </tr>\n",
       "    <tr>\n",
       "      <th>19997</th>\n",
       "      <td>34.0571</td>\n",
       "      <td>-118.3815</td>\n",
       "      <td>0</td>\n",
       "      <td>Daytime</td>\n",
       "      <td>42.0</td>\n",
       "      <td>M</td>\n",
       "      <td>H</td>\n",
       "      <td>102.0</td>\n",
       "      <td>sharp_heavy_object</td>\n",
       "      <td>8.0</td>\n",
       "      <td>0344 1420 1822</td>\n",
       "      <td>1.0</td>\n",
       "      <td>IC</td>\n",
       "      <td>Property Crimes</td>\n",
       "    </tr>\n",
       "    <tr>\n",
       "      <th>19998</th>\n",
       "      <td>33.7451</td>\n",
       "      <td>-118.2835</td>\n",
       "      <td>0</td>\n",
       "      <td>Morning</td>\n",
       "      <td>76.0</td>\n",
       "      <td>F</td>\n",
       "      <td>H</td>\n",
       "      <td>501.0</td>\n",
       "      <td>sharp_heavy_object</td>\n",
       "      <td>5.0</td>\n",
       "      <td>0602 1202 2038 0913 0553 1242</td>\n",
       "      <td>2.0</td>\n",
       "      <td>IC</td>\n",
       "      <td>Crimes against Public Order</td>\n",
       "    </tr>\n",
       "    <tr>\n",
       "      <th>19999</th>\n",
       "      <td>34.0037</td>\n",
       "      <td>-118.3034</td>\n",
       "      <td>1</td>\n",
       "      <td>Evening</td>\n",
       "      <td>30.0</td>\n",
       "      <td>X</td>\n",
       "      <td>B</td>\n",
       "      <td>101.0</td>\n",
       "      <td>Physical Force</td>\n",
       "      <td>3.0</td>\n",
       "      <td></td>\n",
       "      <td>1.0</td>\n",
       "      <td>IC</td>\n",
       "      <td>Property Crimes</td>\n",
       "    </tr>\n",
       "  </tbody>\n",
       "</table>\n",
       "<p>20000 rows × 14 columns</p>\n",
       "</div>"
      ],
      "text/plain": [
       "       Latitude  Longitude  reporting_delay_day_count day_category  \\\n",
       "0       34.1522  -118.3910                          3      Evening   \n",
       "1       34.0028  -118.2391                          0      Daytime   \n",
       "2       34.0111  -118.2653                          0      Morning   \n",
       "3       34.2953  -118.4590                          2      Evening   \n",
       "4       33.9787  -118.2918                          0      Morning   \n",
       "...         ...        ...                        ...          ...   \n",
       "19995   34.0334  -118.3523                          0      Morning   \n",
       "19996   34.2212  -118.5011                          0        Night   \n",
       "19997   34.0571  -118.3815                          0      Daytime   \n",
       "19998   33.7451  -118.2835                          0      Morning   \n",
       "19999   34.0037  -118.3034                          1      Evening   \n",
       "\n",
       "       Victim_Age Victim_Sex Victim_Descent  Premise_Code  Weapon_Description  \\\n",
       "0            75.0          M              W         101.0  sharp_heavy_object   \n",
       "1            41.0          M              H         216.0      Physical Force   \n",
       "2            67.0          M              B         501.0  sharp_heavy_object   \n",
       "3            61.0          M              H         101.0      Physical Force   \n",
       "4            30.0          X              X         401.0      Physical Force   \n",
       "...           ...        ...            ...           ...                 ...   \n",
       "19995        51.0          M              H         501.0      Physical Force   \n",
       "19996        30.0          M              W         301.0                 Gun   \n",
       "19997        42.0          M              H         102.0  sharp_heavy_object   \n",
       "19998        76.0          F              H         501.0  sharp_heavy_object   \n",
       "19999        30.0          X              B         101.0      Physical Force   \n",
       "\n",
       "       Area_ID                           Modus_Operandi  Part 1-2 Status  \\\n",
       "0         15.0                                     0385       1.0     IC   \n",
       "1         13.0  0352 0417 0446 0906 0344 0371 0416 1822       1.0     IC   \n",
       "2         13.0                                0329 1202       2.0     IC   \n",
       "3         19.0                                0329 1300       1.0     IC   \n",
       "4         12.0            0417 0945 0400 0344 0416 1822       1.0     IC   \n",
       "...        ...                                      ...       ...    ...   \n",
       "19995      3.0                      0913 0416 2004 0446       2.0     IC   \n",
       "19996     10.0                 1414 0209 1420 0344 1822       1.0     IC   \n",
       "19997      8.0                           0344 1420 1822       1.0     IC   \n",
       "19998      5.0            0602 1202 2038 0913 0553 1242       2.0     IC   \n",
       "19999      3.0                                                1.0     IC   \n",
       "\n",
       "                    Crime_Category  \n",
       "0                  Property Crimes  \n",
       "1                  Property Crimes  \n",
       "2                  Property Crimes  \n",
       "3                  Property Crimes  \n",
       "4                  Property Crimes  \n",
       "...                            ...  \n",
       "19995               Violent Crimes  \n",
       "19996              Property Crimes  \n",
       "19997              Property Crimes  \n",
       "19998  Crimes against Public Order  \n",
       "19999              Property Crimes  \n",
       "\n",
       "[20000 rows x 14 columns]"
      ]
     },
     "execution_count": 73,
     "metadata": {},
     "output_type": "execute_result"
    }
   ],
   "source": [
    "df"
   ]
  },
  {
   "cell_type": "code",
   "execution_count": 74,
   "id": "aedb3e11",
   "metadata": {
    "execution": {
     "iopub.execute_input": "2024-06-22T14:18:48.542633Z",
     "iopub.status.busy": "2024-06-22T14:18:48.542225Z",
     "iopub.status.idle": "2024-06-22T14:18:48.550726Z",
     "shell.execute_reply": "2024-06-22T14:18:48.549645Z"
    },
    "papermill": {
     "duration": 0.042071,
     "end_time": "2024-06-22T14:18:48.552956",
     "exception": false,
     "start_time": "2024-06-22T14:18:48.510885",
     "status": "completed"
    },
    "tags": []
   },
   "outputs": [
    {
     "name": "stderr",
     "output_type": "stream",
     "text": [
      "/tmp/ipykernel_18/448365884.py:3: SettingWithCopyWarning: \n",
      "A value is trying to be set on a copy of a slice from a DataFrame\n",
      "\n",
      "See the caveats in the documentation: https://pandas.pydata.org/pandas-docs/stable/user_guide/indexing.html#returning-a-view-versus-a-copy\n",
      "  df.drop('Crime_Category',axis=1,inplace=True)\n"
     ]
    }
   ],
   "source": [
    "y=df['Crime_Category']\n",
    "\n",
    "df.drop('Crime_Category',axis=1,inplace=True)"
   ]
  },
  {
   "cell_type": "code",
   "execution_count": 75,
   "id": "d32a5831",
   "metadata": {
    "execution": {
     "iopub.execute_input": "2024-06-22T14:18:48.616357Z",
     "iopub.status.busy": "2024-06-22T14:18:48.615930Z",
     "iopub.status.idle": "2024-06-22T14:18:48.633665Z",
     "shell.execute_reply": "2024-06-22T14:18:48.632484Z"
    },
    "papermill": {
     "duration": 0.051565,
     "end_time": "2024-06-22T14:18:48.636059",
     "exception": false,
     "start_time": "2024-06-22T14:18:48.584494",
     "status": "completed"
    },
    "tags": []
   },
   "outputs": [
    {
     "name": "stdout",
     "output_type": "stream",
     "text": [
      "<class 'pandas.core.frame.DataFrame'>\n",
      "RangeIndex: 20000 entries, 0 to 19999\n",
      "Data columns (total 13 columns):\n",
      " #   Column                     Non-Null Count  Dtype  \n",
      "---  ------                     --------------  -----  \n",
      " 0   Latitude                   20000 non-null  float64\n",
      " 1   Longitude                  20000 non-null  float64\n",
      " 2   reporting_delay_day_count  20000 non-null  int64  \n",
      " 3   day_category               20000 non-null  object \n",
      " 4   Victim_Age                 20000 non-null  float64\n",
      " 5   Victim_Sex                 20000 non-null  object \n",
      " 6   Victim_Descent             20000 non-null  object \n",
      " 7   Premise_Code               20000 non-null  float64\n",
      " 8   Weapon_Description         20000 non-null  object \n",
      " 9   Area_ID                    20000 non-null  float64\n",
      " 10  Modus_Operandi             20000 non-null  object \n",
      " 11  Part 1-2                   20000 non-null  float64\n",
      " 12  Status                     20000 non-null  object \n",
      "dtypes: float64(6), int64(1), object(6)\n",
      "memory usage: 2.0+ MB\n"
     ]
    }
   ],
   "source": [
    "df.info()"
   ]
  },
  {
   "cell_type": "code",
   "execution_count": 76,
   "id": "d53f225c",
   "metadata": {
    "execution": {
     "iopub.execute_input": "2024-06-22T14:18:48.698505Z",
     "iopub.status.busy": "2024-06-22T14:18:48.697513Z",
     "iopub.status.idle": "2024-06-22T14:18:48.707031Z",
     "shell.execute_reply": "2024-06-22T14:18:48.705929Z"
    },
    "papermill": {
     "duration": 0.043381,
     "end_time": "2024-06-22T14:18:48.709380",
     "exception": false,
     "start_time": "2024-06-22T14:18:48.665999",
     "status": "completed"
    },
    "tags": []
   },
   "outputs": [
    {
     "name": "stderr",
     "output_type": "stream",
     "text": [
      "/tmp/ipykernel_18/1308723833.py:1: SettingWithCopyWarning: \n",
      "A value is trying to be set on a copy of a slice from a DataFrame\n",
      "\n",
      "See the caveats in the documentation: https://pandas.pydata.org/pandas-docs/stable/user_guide/indexing.html#returning-a-view-versus-a-copy\n",
      "  df.drop('Premise_Code',axis=1,inplace=True)\n"
     ]
    }
   ],
   "source": [
    "df.drop('Premise_Code',axis=1,inplace=True)"
   ]
  },
  {
   "cell_type": "code",
   "execution_count": 77,
   "id": "24ea9230",
   "metadata": {
    "execution": {
     "iopub.execute_input": "2024-06-22T14:18:48.772285Z",
     "iopub.status.busy": "2024-06-22T14:18:48.771732Z",
     "iopub.status.idle": "2024-06-22T14:18:48.778277Z",
     "shell.execute_reply": "2024-06-22T14:18:48.777312Z"
    },
    "papermill": {
     "duration": 0.040322,
     "end_time": "2024-06-22T14:18:48.780469",
     "exception": false,
     "start_time": "2024-06-22T14:18:48.740147",
     "status": "completed"
    },
    "tags": []
   },
   "outputs": [
    {
     "data": {
      "text/plain": [
       "(20000,)"
      ]
     },
     "execution_count": 77,
     "metadata": {},
     "output_type": "execute_result"
    }
   ],
   "source": [
    "y.shape"
   ]
  },
  {
   "cell_type": "code",
   "execution_count": 78,
   "id": "c8e6a3f7",
   "metadata": {
    "execution": {
     "iopub.execute_input": "2024-06-22T14:18:48.843169Z",
     "iopub.status.busy": "2024-06-22T14:18:48.842742Z",
     "iopub.status.idle": "2024-06-22T14:18:48.873430Z",
     "shell.execute_reply": "2024-06-22T14:18:48.872367Z"
    },
    "papermill": {
     "duration": 0.065088,
     "end_time": "2024-06-22T14:18:48.875861",
     "exception": false,
     "start_time": "2024-06-22T14:18:48.810773",
     "status": "completed"
    },
    "tags": []
   },
   "outputs": [],
   "source": [
    "from sklearn.model_selection import train_test_split\n",
    "\n",
    "xtrain, xtest ,ytrain , ytest= train_test_split(df , y , test_size=0.2 , random_state=42 , shuffle=True ,stratify = y  )"
   ]
  },
  {
   "cell_type": "code",
   "execution_count": 79,
   "id": "bb68499e",
   "metadata": {
    "execution": {
     "iopub.execute_input": "2024-06-22T14:18:48.938521Z",
     "iopub.status.busy": "2024-06-22T14:18:48.938107Z",
     "iopub.status.idle": "2024-06-22T14:18:48.944040Z",
     "shell.execute_reply": "2024-06-22T14:18:48.942907Z"
    },
    "papermill": {
     "duration": 0.040397,
     "end_time": "2024-06-22T14:18:48.946664",
     "exception": false,
     "start_time": "2024-06-22T14:18:48.906267",
     "status": "completed"
    },
    "tags": []
   },
   "outputs": [
    {
     "name": "stdout",
     "output_type": "stream",
     "text": [
      "(16000, 12)\n",
      "(16000,)\n",
      "(4000, 12)\n",
      "(4000,)\n"
     ]
    }
   ],
   "source": [
    "print(xtrain.shape) \n",
    "print(ytrain.shape)\n",
    "print(xtest.shape)\n",
    "print(ytest.shape)"
   ]
  },
  {
   "cell_type": "code",
   "execution_count": 80,
   "id": "8dd25298",
   "metadata": {
    "execution": {
     "iopub.execute_input": "2024-06-22T14:18:49.009185Z",
     "iopub.status.busy": "2024-06-22T14:18:49.008755Z",
     "iopub.status.idle": "2024-06-22T14:18:49.069850Z",
     "shell.execute_reply": "2024-06-22T14:18:49.068679Z"
    },
    "papermill": {
     "duration": 0.095307,
     "end_time": "2024-06-22T14:18:49.072264",
     "exception": false,
     "start_time": "2024-06-22T14:18:48.976957",
     "status": "completed"
    },
    "tags": []
   },
   "outputs": [
    {
     "name": "stdout",
     "output_type": "stream",
     "text": [
      "Dummy train score 0.5833125\n",
      "Dummy predicted train score 1.0\n",
      "Dummy test score 0.58325\n",
      "Dummy predicted test score 1.0\n"
     ]
    }
   ],
   "source": [
    "from sklearn.dummy import DummyClassifier\n",
    "\n",
    "dummy_clf=DummyClassifier(random_state=42 , strategy=\"most_frequent\")\n",
    "dummy_clf.fit(xtrain, ytrain)\n",
    "print('Dummy train score', dummy_clf.score(ytrain,ytrain))\n",
    "print('Dummy predicted train score', dummy_clf.score(xtrain,dummy_clf.predict(xtrain)))\n",
    "\n",
    "print('Dummy test score', dummy_clf.score(xtest, ytest))\n",
    "\n",
    "print('Dummy predicted test score', dummy_clf.score(xtest, dummy_clf.predict(xtest)))"
   ]
  },
  {
   "cell_type": "markdown",
   "id": "f0b41614",
   "metadata": {
    "papermill": {
     "duration": 0.036614,
     "end_time": "2024-06-22T14:18:49.139518",
     "exception": false,
     "start_time": "2024-06-22T14:18:49.102904",
     "status": "completed"
    },
    "tags": []
   },
   "source": [
    "Logistic "
   ]
  },
  {
   "cell_type": "code",
   "execution_count": 81,
   "id": "ec907b9b",
   "metadata": {
    "execution": {
     "iopub.execute_input": "2024-06-22T14:18:49.202986Z",
     "iopub.status.busy": "2024-06-22T14:18:49.202097Z",
     "iopub.status.idle": "2024-06-22T14:18:49.300728Z",
     "shell.execute_reply": "2024-06-22T14:18:49.299727Z"
    },
    "papermill": {
     "duration": 0.133328,
     "end_time": "2024-06-22T14:18:49.303409",
     "exception": false,
     "start_time": "2024-06-22T14:18:49.170081",
     "status": "completed"
    },
    "tags": []
   },
   "outputs": [],
   "source": [
    "from sklearn.linear_model import LogisticRegression\n",
    "from sklearn.pipeline import Pipeline\n",
    "from sklearn.compose import ColumnTransformer"
   ]
  },
  {
   "cell_type": "code",
   "execution_count": 82,
   "id": "2d9626dd",
   "metadata": {
    "execution": {
     "iopub.execute_input": "2024-06-22T14:18:49.366180Z",
     "iopub.status.busy": "2024-06-22T14:18:49.365772Z",
     "iopub.status.idle": "2024-06-22T14:18:49.383021Z",
     "shell.execute_reply": "2024-06-22T14:18:49.381923Z"
    },
    "papermill": {
     "duration": 0.051613,
     "end_time": "2024-06-22T14:18:49.385451",
     "exception": false,
     "start_time": "2024-06-22T14:18:49.333838",
     "status": "completed"
    },
    "tags": []
   },
   "outputs": [
    {
     "name": "stdout",
     "output_type": "stream",
     "text": [
      "<class 'pandas.core.frame.DataFrame'>\n",
      "RangeIndex: 20000 entries, 0 to 19999\n",
      "Data columns (total 12 columns):\n",
      " #   Column                     Non-Null Count  Dtype  \n",
      "---  ------                     --------------  -----  \n",
      " 0   Latitude                   20000 non-null  float64\n",
      " 1   Longitude                  20000 non-null  float64\n",
      " 2   reporting_delay_day_count  20000 non-null  int64  \n",
      " 3   day_category               20000 non-null  object \n",
      " 4   Victim_Age                 20000 non-null  float64\n",
      " 5   Victim_Sex                 20000 non-null  object \n",
      " 6   Victim_Descent             20000 non-null  object \n",
      " 7   Weapon_Description         20000 non-null  object \n",
      " 8   Area_ID                    20000 non-null  float64\n",
      " 9   Modus_Operandi             20000 non-null  object \n",
      " 10  Part 1-2                   20000 non-null  float64\n",
      " 11  Status                     20000 non-null  object \n",
      "dtypes: float64(5), int64(1), object(6)\n",
      "memory usage: 1.8+ MB\n"
     ]
    }
   ],
   "source": [
    "df.info()"
   ]
  },
  {
   "cell_type": "code",
   "execution_count": 83,
   "id": "35e5bf3b",
   "metadata": {
    "execution": {
     "iopub.execute_input": "2024-06-22T14:18:49.448887Z",
     "iopub.status.busy": "2024-06-22T14:18:49.448505Z",
     "iopub.status.idle": "2024-06-22T14:18:49.466320Z",
     "shell.execute_reply": "2024-06-22T14:18:49.464904Z"
    },
    "papermill": {
     "duration": 0.052974,
     "end_time": "2024-06-22T14:18:49.468792",
     "exception": false,
     "start_time": "2024-06-22T14:18:49.415818",
     "status": "completed"
    },
    "tags": []
   },
   "outputs": [
    {
     "name": "stdout",
     "output_type": "stream",
     "text": [
      "<class 'pandas.core.frame.DataFrame'>\n",
      "Index: 16000 entries, 6735 to 554\n",
      "Data columns (total 12 columns):\n",
      " #   Column                     Non-Null Count  Dtype  \n",
      "---  ------                     --------------  -----  \n",
      " 0   Latitude                   16000 non-null  float64\n",
      " 1   Longitude                  16000 non-null  float64\n",
      " 2   reporting_delay_day_count  16000 non-null  int64  \n",
      " 3   day_category               16000 non-null  object \n",
      " 4   Victim_Age                 16000 non-null  float64\n",
      " 5   Victim_Sex                 16000 non-null  object \n",
      " 6   Victim_Descent             16000 non-null  object \n",
      " 7   Weapon_Description         16000 non-null  object \n",
      " 8   Area_ID                    16000 non-null  float64\n",
      " 9   Modus_Operandi             16000 non-null  object \n",
      " 10  Part 1-2                   16000 non-null  float64\n",
      " 11  Status                     16000 non-null  object \n",
      "dtypes: float64(5), int64(1), object(6)\n",
      "memory usage: 1.6+ MB\n"
     ]
    }
   ],
   "source": [
    "xtrain.info()"
   ]
  },
  {
   "cell_type": "code",
   "execution_count": 84,
   "id": "80345020",
   "metadata": {
    "execution": {
     "iopub.execute_input": "2024-06-22T14:18:49.532964Z",
     "iopub.status.busy": "2024-06-22T14:18:49.531919Z",
     "iopub.status.idle": "2024-06-22T14:18:49.538889Z",
     "shell.execute_reply": "2024-06-22T14:18:49.537702Z"
    },
    "papermill": {
     "duration": 0.041344,
     "end_time": "2024-06-22T14:18:49.541177",
     "exception": false,
     "start_time": "2024-06-22T14:18:49.499833",
     "status": "completed"
    },
    "tags": []
   },
   "outputs": [],
   "source": [
    "from sklearn.base import BaseEstimator, TransformerMixin\n",
    "from sklearn.preprocessing import MultiLabelBinarizer\n",
    "\n",
    "class MultiLabelBinarizerWrapper(BaseEstimator, TransformerMixin):\n",
    "    def __init__(self):\n",
    "        self.mlb = MultiLabelBinarizer()\n",
    "\n",
    "    def fit(self, X, y=None):\n",
    "        self.mlb.fit(X)\n",
    "        return self\n",
    "\n",
    "    def transform(self, X):\n",
    "        return self.mlb.transform(X)"
   ]
  },
  {
   "cell_type": "code",
   "execution_count": 85,
   "id": "173d4d54",
   "metadata": {
    "execution": {
     "iopub.execute_input": "2024-06-22T14:18:49.606609Z",
     "iopub.status.busy": "2024-06-22T14:18:49.605620Z",
     "iopub.status.idle": "2024-06-22T14:18:49.624030Z",
     "shell.execute_reply": "2024-06-22T14:18:49.623194Z"
    },
    "papermill": {
     "duration": 0.054628,
     "end_time": "2024-06-22T14:18:49.626421",
     "exception": false,
     "start_time": "2024-06-22T14:18:49.571793",
     "status": "completed"
    },
    "tags": []
   },
   "outputs": [],
   "source": [
    "\n",
    "from sklearn.preprocessing import StandardScaler , OneHotEncoder  , MultiLabelBinarizer\n",
    "from sklearn.feature_extraction.text import CountVectorizer\n",
    "ct=ColumnTransformer(transformers=[\n",
    "    \n",
    "    ('numerical_cols' , StandardScaler(),['Latitude','Longitude','reporting_delay_day_count','Victim_Age']),\n",
    "    ('categorical_cols' , OneHotEncoder(handle_unknown='ignore'),['day_category','Victim_Sex','Victim_Descent','Part 1-2','Area_ID','Status','Weapon_Description']),\n",
    "    ('multi_label_binarizer', MultiLabelBinarizerWrapper(), 'Modus_Operandi')\n",
    "])\n",
    "    "
   ]
  },
  {
   "cell_type": "code",
   "execution_count": 86,
   "id": "10aca354",
   "metadata": {
    "execution": {
     "iopub.execute_input": "2024-06-22T14:18:49.689994Z",
     "iopub.status.busy": "2024-06-22T14:18:49.689624Z",
     "iopub.status.idle": "2024-06-22T14:18:49.697355Z",
     "shell.execute_reply": "2024-06-22T14:18:49.696369Z"
    },
    "papermill": {
     "duration": 0.04251,
     "end_time": "2024-06-22T14:18:49.699485",
     "exception": false,
     "start_time": "2024-06-22T14:18:49.656975",
     "status": "completed"
    },
    "tags": []
   },
   "outputs": [
    {
     "data": {
      "text/plain": [
       "21"
      ]
     },
     "execution_count": 86,
     "metadata": {},
     "output_type": "execute_result"
    }
   ],
   "source": [
    "len(df['Area_ID'].value_counts())"
   ]
  },
  {
   "cell_type": "code",
   "execution_count": 87,
   "id": "6d9a0594",
   "metadata": {
    "execution": {
     "iopub.execute_input": "2024-06-22T14:18:49.763659Z",
     "iopub.status.busy": "2024-06-22T14:18:49.763284Z",
     "iopub.status.idle": "2024-06-22T14:18:49.768879Z",
     "shell.execute_reply": "2024-06-22T14:18:49.767679Z"
    },
    "papermill": {
     "duration": 0.040912,
     "end_time": "2024-06-22T14:18:49.771133",
     "exception": false,
     "start_time": "2024-06-22T14:18:49.730221",
     "status": "completed"
    },
    "tags": []
   },
   "outputs": [],
   "source": [
    "pipe_logistic = Pipeline(steps=[('ct',ct),('logistic_reg',LogisticRegression( max_iter=1000 ,random_state=42))])"
   ]
  },
  {
   "cell_type": "code",
   "execution_count": 88,
   "id": "e30ae867",
   "metadata": {
    "execution": {
     "iopub.execute_input": "2024-06-22T14:18:49.834722Z",
     "iopub.status.busy": "2024-06-22T14:18:49.834332Z",
     "iopub.status.idle": "2024-06-22T14:18:54.005648Z",
     "shell.execute_reply": "2024-06-22T14:18:54.004502Z"
    },
    "papermill": {
     "duration": 4.206583,
     "end_time": "2024-06-22T14:18:54.008724",
     "exception": false,
     "start_time": "2024-06-22T14:18:49.802141",
     "status": "completed"
    },
    "tags": []
   },
   "outputs": [
    {
     "data": {
      "text/html": [
       "<style>#sk-container-id-1 {color: black;background-color: white;}#sk-container-id-1 pre{padding: 0;}#sk-container-id-1 div.sk-toggleable {background-color: white;}#sk-container-id-1 label.sk-toggleable__label {cursor: pointer;display: block;width: 100%;margin-bottom: 0;padding: 0.3em;box-sizing: border-box;text-align: center;}#sk-container-id-1 label.sk-toggleable__label-arrow:before {content: \"▸\";float: left;margin-right: 0.25em;color: #696969;}#sk-container-id-1 label.sk-toggleable__label-arrow:hover:before {color: black;}#sk-container-id-1 div.sk-estimator:hover label.sk-toggleable__label-arrow:before {color: black;}#sk-container-id-1 div.sk-toggleable__content {max-height: 0;max-width: 0;overflow: hidden;text-align: left;background-color: #f0f8ff;}#sk-container-id-1 div.sk-toggleable__content pre {margin: 0.2em;color: black;border-radius: 0.25em;background-color: #f0f8ff;}#sk-container-id-1 input.sk-toggleable__control:checked~div.sk-toggleable__content {max-height: 200px;max-width: 100%;overflow: auto;}#sk-container-id-1 input.sk-toggleable__control:checked~label.sk-toggleable__label-arrow:before {content: \"▾\";}#sk-container-id-1 div.sk-estimator input.sk-toggleable__control:checked~label.sk-toggleable__label {background-color: #d4ebff;}#sk-container-id-1 div.sk-label input.sk-toggleable__control:checked~label.sk-toggleable__label {background-color: #d4ebff;}#sk-container-id-1 input.sk-hidden--visually {border: 0;clip: rect(1px 1px 1px 1px);clip: rect(1px, 1px, 1px, 1px);height: 1px;margin: -1px;overflow: hidden;padding: 0;position: absolute;width: 1px;}#sk-container-id-1 div.sk-estimator {font-family: monospace;background-color: #f0f8ff;border: 1px dotted black;border-radius: 0.25em;box-sizing: border-box;margin-bottom: 0.5em;}#sk-container-id-1 div.sk-estimator:hover {background-color: #d4ebff;}#sk-container-id-1 div.sk-parallel-item::after {content: \"\";width: 100%;border-bottom: 1px solid gray;flex-grow: 1;}#sk-container-id-1 div.sk-label:hover label.sk-toggleable__label {background-color: #d4ebff;}#sk-container-id-1 div.sk-serial::before {content: \"\";position: absolute;border-left: 1px solid gray;box-sizing: border-box;top: 0;bottom: 0;left: 50%;z-index: 0;}#sk-container-id-1 div.sk-serial {display: flex;flex-direction: column;align-items: center;background-color: white;padding-right: 0.2em;padding-left: 0.2em;position: relative;}#sk-container-id-1 div.sk-item {position: relative;z-index: 1;}#sk-container-id-1 div.sk-parallel {display: flex;align-items: stretch;justify-content: center;background-color: white;position: relative;}#sk-container-id-1 div.sk-item::before, #sk-container-id-1 div.sk-parallel-item::before {content: \"\";position: absolute;border-left: 1px solid gray;box-sizing: border-box;top: 0;bottom: 0;left: 50%;z-index: -1;}#sk-container-id-1 div.sk-parallel-item {display: flex;flex-direction: column;z-index: 1;position: relative;background-color: white;}#sk-container-id-1 div.sk-parallel-item:first-child::after {align-self: flex-end;width: 50%;}#sk-container-id-1 div.sk-parallel-item:last-child::after {align-self: flex-start;width: 50%;}#sk-container-id-1 div.sk-parallel-item:only-child::after {width: 0;}#sk-container-id-1 div.sk-dashed-wrapped {border: 1px dashed gray;margin: 0 0.4em 0.5em 0.4em;box-sizing: border-box;padding-bottom: 0.4em;background-color: white;}#sk-container-id-1 div.sk-label label {font-family: monospace;font-weight: bold;display: inline-block;line-height: 1.2em;}#sk-container-id-1 div.sk-label-container {text-align: center;}#sk-container-id-1 div.sk-container {/* jupyter's `normalize.less` sets `[hidden] { display: none; }` but bootstrap.min.css set `[hidden] { display: none !important; }` so we also need the `!important` here to be able to override the default hidden behavior on the sphinx rendered scikit-learn.org. See: https://github.com/scikit-learn/scikit-learn/issues/21755 */display: inline-block !important;position: relative;}#sk-container-id-1 div.sk-text-repr-fallback {display: none;}</style><div id=\"sk-container-id-1\" class=\"sk-top-container\"><div class=\"sk-text-repr-fallback\"><pre>Pipeline(steps=[(&#x27;ct&#x27;,\n",
       "                 ColumnTransformer(transformers=[(&#x27;numerical_cols&#x27;,\n",
       "                                                  StandardScaler(),\n",
       "                                                  [&#x27;Latitude&#x27;, &#x27;Longitude&#x27;,\n",
       "                                                   &#x27;reporting_delay_day_count&#x27;,\n",
       "                                                   &#x27;Victim_Age&#x27;]),\n",
       "                                                 (&#x27;categorical_cols&#x27;,\n",
       "                                                  OneHotEncoder(handle_unknown=&#x27;ignore&#x27;),\n",
       "                                                  [&#x27;day_category&#x27;, &#x27;Victim_Sex&#x27;,\n",
       "                                                   &#x27;Victim_Descent&#x27;, &#x27;Part 1-2&#x27;,\n",
       "                                                   &#x27;Area_ID&#x27;, &#x27;Status&#x27;,\n",
       "                                                   &#x27;Weapon_Description&#x27;]),\n",
       "                                                 (&#x27;multi_label_binarizer&#x27;,\n",
       "                                                  MultiLabelBinarizerWrapper(),\n",
       "                                                  &#x27;Modus_Operandi&#x27;)])),\n",
       "                (&#x27;logistic_reg&#x27;,\n",
       "                 LogisticRegression(max_iter=1000, random_state=42))])</pre><b>In a Jupyter environment, please rerun this cell to show the HTML representation or trust the notebook. <br />On GitHub, the HTML representation is unable to render, please try loading this page with nbviewer.org.</b></div><div class=\"sk-container\" hidden><div class=\"sk-item sk-dashed-wrapped\"><div class=\"sk-label-container\"><div class=\"sk-label sk-toggleable\"><input class=\"sk-toggleable__control sk-hidden--visually\" id=\"sk-estimator-id-1\" type=\"checkbox\" ><label for=\"sk-estimator-id-1\" class=\"sk-toggleable__label sk-toggleable__label-arrow\">Pipeline</label><div class=\"sk-toggleable__content\"><pre>Pipeline(steps=[(&#x27;ct&#x27;,\n",
       "                 ColumnTransformer(transformers=[(&#x27;numerical_cols&#x27;,\n",
       "                                                  StandardScaler(),\n",
       "                                                  [&#x27;Latitude&#x27;, &#x27;Longitude&#x27;,\n",
       "                                                   &#x27;reporting_delay_day_count&#x27;,\n",
       "                                                   &#x27;Victim_Age&#x27;]),\n",
       "                                                 (&#x27;categorical_cols&#x27;,\n",
       "                                                  OneHotEncoder(handle_unknown=&#x27;ignore&#x27;),\n",
       "                                                  [&#x27;day_category&#x27;, &#x27;Victim_Sex&#x27;,\n",
       "                                                   &#x27;Victim_Descent&#x27;, &#x27;Part 1-2&#x27;,\n",
       "                                                   &#x27;Area_ID&#x27;, &#x27;Status&#x27;,\n",
       "                                                   &#x27;Weapon_Description&#x27;]),\n",
       "                                                 (&#x27;multi_label_binarizer&#x27;,\n",
       "                                                  MultiLabelBinarizerWrapper(),\n",
       "                                                  &#x27;Modus_Operandi&#x27;)])),\n",
       "                (&#x27;logistic_reg&#x27;,\n",
       "                 LogisticRegression(max_iter=1000, random_state=42))])</pre></div></div></div><div class=\"sk-serial\"><div class=\"sk-item sk-dashed-wrapped\"><div class=\"sk-label-container\"><div class=\"sk-label sk-toggleable\"><input class=\"sk-toggleable__control sk-hidden--visually\" id=\"sk-estimator-id-2\" type=\"checkbox\" ><label for=\"sk-estimator-id-2\" class=\"sk-toggleable__label sk-toggleable__label-arrow\">ct: ColumnTransformer</label><div class=\"sk-toggleable__content\"><pre>ColumnTransformer(transformers=[(&#x27;numerical_cols&#x27;, StandardScaler(),\n",
       "                                 [&#x27;Latitude&#x27;, &#x27;Longitude&#x27;,\n",
       "                                  &#x27;reporting_delay_day_count&#x27;, &#x27;Victim_Age&#x27;]),\n",
       "                                (&#x27;categorical_cols&#x27;,\n",
       "                                 OneHotEncoder(handle_unknown=&#x27;ignore&#x27;),\n",
       "                                 [&#x27;day_category&#x27;, &#x27;Victim_Sex&#x27;,\n",
       "                                  &#x27;Victim_Descent&#x27;, &#x27;Part 1-2&#x27;, &#x27;Area_ID&#x27;,\n",
       "                                  &#x27;Status&#x27;, &#x27;Weapon_Description&#x27;]),\n",
       "                                (&#x27;multi_label_binarizer&#x27;,\n",
       "                                 MultiLabelBinarizerWrapper(),\n",
       "                                 &#x27;Modus_Operandi&#x27;)])</pre></div></div></div><div class=\"sk-parallel\"><div class=\"sk-parallel-item\"><div class=\"sk-item\"><div class=\"sk-label-container\"><div class=\"sk-label sk-toggleable\"><input class=\"sk-toggleable__control sk-hidden--visually\" id=\"sk-estimator-id-3\" type=\"checkbox\" ><label for=\"sk-estimator-id-3\" class=\"sk-toggleable__label sk-toggleable__label-arrow\">numerical_cols</label><div class=\"sk-toggleable__content\"><pre>[&#x27;Latitude&#x27;, &#x27;Longitude&#x27;, &#x27;reporting_delay_day_count&#x27;, &#x27;Victim_Age&#x27;]</pre></div></div></div><div class=\"sk-serial\"><div class=\"sk-item\"><div class=\"sk-estimator sk-toggleable\"><input class=\"sk-toggleable__control sk-hidden--visually\" id=\"sk-estimator-id-4\" type=\"checkbox\" ><label for=\"sk-estimator-id-4\" class=\"sk-toggleable__label sk-toggleable__label-arrow\">StandardScaler</label><div class=\"sk-toggleable__content\"><pre>StandardScaler()</pre></div></div></div></div></div></div><div class=\"sk-parallel-item\"><div class=\"sk-item\"><div class=\"sk-label-container\"><div class=\"sk-label sk-toggleable\"><input class=\"sk-toggleable__control sk-hidden--visually\" id=\"sk-estimator-id-5\" type=\"checkbox\" ><label for=\"sk-estimator-id-5\" class=\"sk-toggleable__label sk-toggleable__label-arrow\">categorical_cols</label><div class=\"sk-toggleable__content\"><pre>[&#x27;day_category&#x27;, &#x27;Victim_Sex&#x27;, &#x27;Victim_Descent&#x27;, &#x27;Part 1-2&#x27;, &#x27;Area_ID&#x27;, &#x27;Status&#x27;, &#x27;Weapon_Description&#x27;]</pre></div></div></div><div class=\"sk-serial\"><div class=\"sk-item\"><div class=\"sk-estimator sk-toggleable\"><input class=\"sk-toggleable__control sk-hidden--visually\" id=\"sk-estimator-id-6\" type=\"checkbox\" ><label for=\"sk-estimator-id-6\" class=\"sk-toggleable__label sk-toggleable__label-arrow\">OneHotEncoder</label><div class=\"sk-toggleable__content\"><pre>OneHotEncoder(handle_unknown=&#x27;ignore&#x27;)</pre></div></div></div></div></div></div><div class=\"sk-parallel-item\"><div class=\"sk-item\"><div class=\"sk-label-container\"><div class=\"sk-label sk-toggleable\"><input class=\"sk-toggleable__control sk-hidden--visually\" id=\"sk-estimator-id-7\" type=\"checkbox\" ><label for=\"sk-estimator-id-7\" class=\"sk-toggleable__label sk-toggleable__label-arrow\">multi_label_binarizer</label><div class=\"sk-toggleable__content\"><pre>Modus_Operandi</pre></div></div></div><div class=\"sk-serial\"><div class=\"sk-item\"><div class=\"sk-estimator sk-toggleable\"><input class=\"sk-toggleable__control sk-hidden--visually\" id=\"sk-estimator-id-8\" type=\"checkbox\" ><label for=\"sk-estimator-id-8\" class=\"sk-toggleable__label sk-toggleable__label-arrow\">MultiLabelBinarizerWrapper</label><div class=\"sk-toggleable__content\"><pre>MultiLabelBinarizerWrapper()</pre></div></div></div></div></div></div></div></div><div class=\"sk-item\"><div class=\"sk-estimator sk-toggleable\"><input class=\"sk-toggleable__control sk-hidden--visually\" id=\"sk-estimator-id-9\" type=\"checkbox\" ><label for=\"sk-estimator-id-9\" class=\"sk-toggleable__label sk-toggleable__label-arrow\">LogisticRegression</label><div class=\"sk-toggleable__content\"><pre>LogisticRegression(max_iter=1000, random_state=42)</pre></div></div></div></div></div></div></div>"
      ],
      "text/plain": [
       "Pipeline(steps=[('ct',\n",
       "                 ColumnTransformer(transformers=[('numerical_cols',\n",
       "                                                  StandardScaler(),\n",
       "                                                  ['Latitude', 'Longitude',\n",
       "                                                   'reporting_delay_day_count',\n",
       "                                                   'Victim_Age']),\n",
       "                                                 ('categorical_cols',\n",
       "                                                  OneHotEncoder(handle_unknown='ignore'),\n",
       "                                                  ['day_category', 'Victim_Sex',\n",
       "                                                   'Victim_Descent', 'Part 1-2',\n",
       "                                                   'Area_ID', 'Status',\n",
       "                                                   'Weapon_Description']),\n",
       "                                                 ('multi_label_binarizer',\n",
       "                                                  MultiLabelBinarizerWrapper(),\n",
       "                                                  'Modus_Operandi')])),\n",
       "                ('logistic_reg',\n",
       "                 LogisticRegression(max_iter=1000, random_state=42))])"
      ]
     },
     "execution_count": 88,
     "metadata": {},
     "output_type": "execute_result"
    }
   ],
   "source": [
    "pipe_logistic.fit(xtrain,ytrain)"
   ]
  },
  {
   "cell_type": "code",
   "execution_count": 89,
   "id": "91dc10a4",
   "metadata": {
    "execution": {
     "iopub.execute_input": "2024-06-22T14:18:54.104149Z",
     "iopub.status.busy": "2024-06-22T14:18:54.103698Z",
     "iopub.status.idle": "2024-06-22T14:18:54.148115Z",
     "shell.execute_reply": "2024-06-22T14:18:54.146966Z"
    },
    "papermill": {
     "duration": 0.088499,
     "end_time": "2024-06-22T14:18:54.151221",
     "exception": false,
     "start_time": "2024-06-22T14:18:54.062722",
     "status": "completed"
    },
    "tags": []
   },
   "outputs": [
    {
     "data": {
      "text/plain": [
       "0.80825"
      ]
     },
     "execution_count": 89,
     "metadata": {},
     "output_type": "execute_result"
    }
   ],
   "source": [
    "pipe_logistic.score(xtest,ytest)"
   ]
  },
  {
   "cell_type": "markdown",
   "id": "fadcacc6",
   "metadata": {
    "papermill": {
     "duration": 0.052677,
     "end_time": "2024-06-22T14:18:54.257771",
     "exception": false,
     "start_time": "2024-06-22T14:18:54.205094",
     "status": "completed"
    },
    "tags": []
   },
   "source": [
    "Test \n"
   ]
  },
  {
   "cell_type": "code",
   "execution_count": 90,
   "id": "cb05deb5",
   "metadata": {
    "execution": {
     "iopub.execute_input": "2024-06-22T14:18:54.322225Z",
     "iopub.status.busy": "2024-06-22T14:18:54.321492Z",
     "iopub.status.idle": "2024-06-22T14:18:59.002663Z",
     "shell.execute_reply": "2024-06-22T14:18:59.001351Z"
    },
    "papermill": {
     "duration": 4.716445,
     "end_time": "2024-06-22T14:18:59.005353",
     "exception": false,
     "start_time": "2024-06-22T14:18:54.288908",
     "status": "completed"
    },
    "tags": []
   },
   "outputs": [],
   "source": [
    "test=pd.read_csv('/kaggle/input/crime-cast-forecasting-crime-categories/test.csv')\n",
    "test['day_category']=test['Time_Occurred'].apply(day_category )\n",
    "\n",
    "\n",
    "test['Date_Reported']=test['Date_Reported'].apply(extract_date)\n",
    "test['Date_Occurred']=test['Date_Occurred'].apply(extract_date)\n",
    "\n",
    "\n",
    "\n",
    "\n",
    "\n",
    "\n",
    "test['Date_Reported']=pd.to_datetime(test['Date_Reported']).dt.date\n",
    "test['Date_Occurred']=pd.to_datetime(test['Date_Occurred']).dt.date\n",
    "\n",
    "test['reporting_delay_day_count']=(test['Date_Reported']-test['Date_Occurred'])\n",
    "\n",
    "\n",
    "\n",
    "\n",
    "\n",
    "\n",
    "def day_count(d):\n",
    "    return d.days\n",
    "test['reporting_delay_day_count']=test['reporting_delay_day_count'].apply(day_count)\n",
    "\n",
    "\n",
    "\n",
    "\n",
    "\n",
    "\n",
    "def victim_gender(val):\n",
    "    if val=='H' or pd.isna(val):\n",
    "        val='X'\n",
    "    return val\n",
    "\n",
    "\n",
    "test.loc[:,'Victim_Sex'] = test['Victim_Sex'].apply(victim_gender)\n",
    "\n",
    "\n",
    "\n",
    "\n",
    "\n",
    "unique_values_weapon_test=pd.DataFrame(test['Weapon_Description'])\n",
    "unique_values_weapon_test.value_counts(normalize=True)\n",
    "\n",
    "\n",
    "\n",
    "\n",
    "\n",
    "\n",
    "\n",
    "distribution_test = test['Weapon_Description'].dropna().value_counts(normalize=True)\n",
    "\n",
    "missing_test = test['Weapon_Description'].isnull().sum()\n",
    "\n",
    "imputed_values_test = np.random.choice(distribution_test.index, size=missing_test, p=distribution_test.values)\n",
    "\n",
    "# Impute the missing values\n",
    "test.loc[test['Weapon_Description'].isnull(), 'Weapon_Description'] = imputed_values_test\n",
    "\n"
   ]
  },
  {
   "cell_type": "code",
   "execution_count": 91,
   "id": "43a67530",
   "metadata": {
    "execution": {
     "iopub.execute_input": "2024-06-22T14:18:59.071375Z",
     "iopub.status.busy": "2024-06-22T14:18:59.070653Z",
     "iopub.status.idle": "2024-06-22T14:18:59.082752Z",
     "shell.execute_reply": "2024-06-22T14:18:59.081692Z"
    },
    "papermill": {
     "duration": 0.048057,
     "end_time": "2024-06-22T14:18:59.084981",
     "exception": false,
     "start_time": "2024-06-22T14:18:59.036924",
     "status": "completed"
    },
    "tags": []
   },
   "outputs": [
    {
     "data": {
      "text/plain": [
       "Location                        0\n",
       "Cross_Street                 4190\n",
       "Latitude                        0\n",
       "Longitude                       0\n",
       "Date_Reported                   0\n",
       "Date_Occurred                   0\n",
       "Time_Occurred                   0\n",
       "Area_ID                         0\n",
       "Area_Name                       0\n",
       "Reporting_District_no           0\n",
       "Part 1-2                        0\n",
       "Modus_Operandi                684\n",
       "Victim_Age                      0\n",
       "Victim_Sex                      0\n",
       "Victim_Descent                643\n",
       "Premise_Code                    0\n",
       "Premise_Description             1\n",
       "Weapon_Used_Code             3153\n",
       "Weapon_Description              0\n",
       "Status                          0\n",
       "Status_Description              0\n",
       "day_category                    0\n",
       "reporting_delay_day_count       0\n",
       "dtype: int64"
      ]
     },
     "execution_count": 91,
     "metadata": {},
     "output_type": "execute_result"
    }
   ],
   "source": [
    "test.isnull().sum()"
   ]
  },
  {
   "cell_type": "code",
   "execution_count": 92,
   "id": "11a687ed",
   "metadata": {
    "execution": {
     "iopub.execute_input": "2024-06-22T14:18:59.151444Z",
     "iopub.status.busy": "2024-06-22T14:18:59.151054Z",
     "iopub.status.idle": "2024-06-22T14:18:59.161363Z",
     "shell.execute_reply": "2024-06-22T14:18:59.160216Z"
    },
    "papermill": {
     "duration": 0.046209,
     "end_time": "2024-06-22T14:18:59.163574",
     "exception": false,
     "start_time": "2024-06-22T14:18:59.117365",
     "status": "completed"
    },
    "tags": []
   },
   "outputs": [],
   "source": [
    "distribution_test = test['Victim_Descent'].dropna().value_counts(normalize=True)\n",
    "\n",
    "missing_test = test['Victim_Descent'].isnull().sum()\n",
    "\n",
    "imputed_values_test = np.random.choice(distribution_test.index, size=missing_test, p=distribution_test.values)\n",
    "\n",
    "# Impute the missing values\n",
    "test.loc[test['Victim_Descent'].isnull(), 'Victim_Descent'] = imputed_values_test"
   ]
  },
  {
   "cell_type": "code",
   "execution_count": 93,
   "id": "aade8b3d",
   "metadata": {
    "execution": {
     "iopub.execute_input": "2024-06-22T14:18:59.229991Z",
     "iopub.status.busy": "2024-06-22T14:18:59.229163Z",
     "iopub.status.idle": "2024-06-22T14:18:59.252489Z",
     "shell.execute_reply": "2024-06-22T14:18:59.251265Z"
    },
    "papermill": {
     "duration": 0.059005,
     "end_time": "2024-06-22T14:18:59.254802",
     "exception": false,
     "start_time": "2024-06-22T14:18:59.195797",
     "status": "completed"
    },
    "tags": []
   },
   "outputs": [],
   "source": [
    "test['Modus_Operandi']=test['Modus_Operandi'].apply(number_of_activities)\n",
    "test['Part 1-2']=test['Part 1-2'].apply(lambda x : int(x))\n",
    "test['Victim_Age']=test['Victim_Age'].apply(lambda x: int(x))"
   ]
  },
  {
   "cell_type": "code",
   "execution_count": 94,
   "id": "95e2b838",
   "metadata": {
    "execution": {
     "iopub.execute_input": "2024-06-22T14:18:59.320917Z",
     "iopub.status.busy": "2024-06-22T14:18:59.320099Z",
     "iopub.status.idle": "2024-06-22T14:18:59.339820Z",
     "shell.execute_reply": "2024-06-22T14:18:59.338794Z"
    },
    "papermill": {
     "duration": 0.055521,
     "end_time": "2024-06-22T14:18:59.342380",
     "exception": false,
     "start_time": "2024-06-22T14:18:59.286859",
     "status": "completed"
    },
    "tags": []
   },
   "outputs": [],
   "source": [
    "test.loc[test['Weapon_Description'] == 'STRONG-ARM (HANDS, FIST, FEET OR BODILY FORCE)', 'Weapon_Description'] = 'Physical Force'\n",
    "\n",
    "\n",
    "\n",
    "test.loc[:,'Weapon_Description']=test['Weapon_Description'].apply(gun)"
   ]
  },
  {
   "cell_type": "code",
   "execution_count": 95,
   "id": "bd9a454c",
   "metadata": {
    "execution": {
     "iopub.execute_input": "2024-06-22T14:18:59.407931Z",
     "iopub.status.busy": "2024-06-22T14:18:59.407412Z",
     "iopub.status.idle": "2024-06-22T14:18:59.424626Z",
     "shell.execute_reply": "2024-06-22T14:18:59.423153Z"
    },
    "papermill": {
     "duration": 0.052103,
     "end_time": "2024-06-22T14:18:59.426922",
     "exception": false,
     "start_time": "2024-06-22T14:18:59.374819",
     "status": "completed"
    },
    "tags": []
   },
   "outputs": [
    {
     "name": "stdout",
     "output_type": "stream",
     "text": [
      "<class 'pandas.core.frame.DataFrame'>\n",
      "Index: 16000 entries, 6735 to 554\n",
      "Data columns (total 12 columns):\n",
      " #   Column                     Non-Null Count  Dtype  \n",
      "---  ------                     --------------  -----  \n",
      " 0   Latitude                   16000 non-null  float64\n",
      " 1   Longitude                  16000 non-null  float64\n",
      " 2   reporting_delay_day_count  16000 non-null  int64  \n",
      " 3   day_category               16000 non-null  object \n",
      " 4   Victim_Age                 16000 non-null  float64\n",
      " 5   Victim_Sex                 16000 non-null  object \n",
      " 6   Victim_Descent             16000 non-null  object \n",
      " 7   Weapon_Description         16000 non-null  object \n",
      " 8   Area_ID                    16000 non-null  float64\n",
      " 9   Modus_Operandi             16000 non-null  object \n",
      " 10  Part 1-2                   16000 non-null  float64\n",
      " 11  Status                     16000 non-null  object \n",
      "dtypes: float64(5), int64(1), object(6)\n",
      "memory usage: 1.6+ MB\n"
     ]
    }
   ],
   "source": [
    "xtrain.info()"
   ]
  },
  {
   "cell_type": "code",
   "execution_count": 96,
   "id": "944c1b65",
   "metadata": {
    "execution": {
     "iopub.execute_input": "2024-06-22T14:18:59.492964Z",
     "iopub.status.busy": "2024-06-22T14:18:59.491950Z",
     "iopub.status.idle": "2024-06-22T14:18:59.499996Z",
     "shell.execute_reply": "2024-06-22T14:18:59.499040Z"
    },
    "papermill": {
     "duration": 0.043524,
     "end_time": "2024-06-22T14:18:59.502249",
     "exception": false,
     "start_time": "2024-06-22T14:18:59.458725",
     "status": "completed"
    },
    "tags": []
   },
   "outputs": [],
   "source": [
    "test=test[['Latitude','Longitude','reporting_delay_day_count','day_category','Area_ID','Victim_Age','Victim_Sex','Modus_Operandi','Victim_Descent','Part 1-2','Weapon_Description','Status']]"
   ]
  },
  {
   "cell_type": "code",
   "execution_count": 97,
   "id": "53fa06ba",
   "metadata": {
    "execution": {
     "iopub.execute_input": "2024-06-22T14:18:59.567865Z",
     "iopub.status.busy": "2024-06-22T14:18:59.566911Z",
     "iopub.status.idle": "2024-06-22T14:18:59.580942Z",
     "shell.execute_reply": "2024-06-22T14:18:59.579806Z"
    },
    "papermill": {
     "duration": 0.049367,
     "end_time": "2024-06-22T14:18:59.583202",
     "exception": false,
     "start_time": "2024-06-22T14:18:59.533835",
     "status": "completed"
    },
    "tags": []
   },
   "outputs": [
    {
     "name": "stdout",
     "output_type": "stream",
     "text": [
      "<class 'pandas.core.frame.DataFrame'>\n",
      "RangeIndex: 5000 entries, 0 to 4999\n",
      "Data columns (total 12 columns):\n",
      " #   Column                     Non-Null Count  Dtype  \n",
      "---  ------                     --------------  -----  \n",
      " 0   Latitude                   5000 non-null   float64\n",
      " 1   Longitude                  5000 non-null   float64\n",
      " 2   reporting_delay_day_count  5000 non-null   int64  \n",
      " 3   day_category               5000 non-null   object \n",
      " 4   Area_ID                    5000 non-null   float64\n",
      " 5   Victim_Age                 5000 non-null   int64  \n",
      " 6   Victim_Sex                 5000 non-null   object \n",
      " 7   Modus_Operandi             5000 non-null   object \n",
      " 8   Victim_Descent             5000 non-null   object \n",
      " 9   Part 1-2                   5000 non-null   int64  \n",
      " 10  Weapon_Description         5000 non-null   object \n",
      " 11  Status                     5000 non-null   object \n",
      "dtypes: float64(3), int64(3), object(6)\n",
      "memory usage: 468.9+ KB\n"
     ]
    }
   ],
   "source": [
    "test.info()"
   ]
  },
  {
   "cell_type": "code",
   "execution_count": 98,
   "id": "73b5c491",
   "metadata": {
    "execution": {
     "iopub.execute_input": "2024-06-22T14:18:59.650461Z",
     "iopub.status.busy": "2024-06-22T14:18:59.649660Z",
     "iopub.status.idle": "2024-06-22T14:18:59.669566Z",
     "shell.execute_reply": "2024-06-22T14:18:59.668476Z"
    },
    "papermill": {
     "duration": 0.056791,
     "end_time": "2024-06-22T14:18:59.671939",
     "exception": false,
     "start_time": "2024-06-22T14:18:59.615148",
     "status": "completed"
    },
    "tags": []
   },
   "outputs": [
    {
     "data": {
      "text/html": [
       "<div>\n",
       "<style scoped>\n",
       "    .dataframe tbody tr th:only-of-type {\n",
       "        vertical-align: middle;\n",
       "    }\n",
       "\n",
       "    .dataframe tbody tr th {\n",
       "        vertical-align: top;\n",
       "    }\n",
       "\n",
       "    .dataframe thead th {\n",
       "        text-align: right;\n",
       "    }\n",
       "</style>\n",
       "<table border=\"1\" class=\"dataframe\">\n",
       "  <thead>\n",
       "    <tr style=\"text-align: right;\">\n",
       "      <th></th>\n",
       "      <th>Latitude</th>\n",
       "      <th>Longitude</th>\n",
       "      <th>reporting_delay_day_count</th>\n",
       "      <th>day_category</th>\n",
       "      <th>Area_ID</th>\n",
       "      <th>Victim_Age</th>\n",
       "      <th>Victim_Sex</th>\n",
       "      <th>Modus_Operandi</th>\n",
       "      <th>Victim_Descent</th>\n",
       "      <th>Part 1-2</th>\n",
       "      <th>Weapon_Description</th>\n",
       "      <th>Status</th>\n",
       "    </tr>\n",
       "  </thead>\n",
       "  <tbody>\n",
       "    <tr>\n",
       "      <th>0</th>\n",
       "      <td>34.0128</td>\n",
       "      <td>-118.3045</td>\n",
       "      <td>0</td>\n",
       "      <td>Evening</td>\n",
       "      <td>3.0</td>\n",
       "      <td>28</td>\n",
       "      <td>F</td>\n",
       "      <td>1241 1813 1243 2000 0416 1821</td>\n",
       "      <td>H</td>\n",
       "      <td>2</td>\n",
       "      <td>Physical Force</td>\n",
       "      <td>IC</td>\n",
       "    </tr>\n",
       "    <tr>\n",
       "      <th>1</th>\n",
       "      <td>34.0726</td>\n",
       "      <td>-118.3029</td>\n",
       "      <td>37</td>\n",
       "      <td>Night</td>\n",
       "      <td>20.0</td>\n",
       "      <td>26</td>\n",
       "      <td>M</td>\n",
       "      <td>0394 0344</td>\n",
       "      <td>B</td>\n",
       "      <td>1</td>\n",
       "      <td>sharp_heavy_object</td>\n",
       "      <td>IC</td>\n",
       "    </tr>\n",
       "    <tr>\n",
       "      <th>2</th>\n",
       "      <td>33.9348</td>\n",
       "      <td>-118.2695</td>\n",
       "      <td>1</td>\n",
       "      <td>Morning</td>\n",
       "      <td>18.0</td>\n",
       "      <td>62</td>\n",
       "      <td>F</td>\n",
       "      <td>0355 1202 1914 0701 0100 1822</td>\n",
       "      <td>B</td>\n",
       "      <td>2</td>\n",
       "      <td>Physical Force</td>\n",
       "      <td>IC</td>\n",
       "    </tr>\n",
       "    <tr>\n",
       "      <th>3</th>\n",
       "      <td>34.0497</td>\n",
       "      <td>-118.3442</td>\n",
       "      <td>20</td>\n",
       "      <td>Night</td>\n",
       "      <td>7.0</td>\n",
       "      <td>0</td>\n",
       "      <td>X</td>\n",
       "      <td></td>\n",
       "      <td>W</td>\n",
       "      <td>1</td>\n",
       "      <td>Physical Force</td>\n",
       "      <td>IC</td>\n",
       "    </tr>\n",
       "    <tr>\n",
       "      <th>4</th>\n",
       "      <td>34.1611</td>\n",
       "      <td>-118.3704</td>\n",
       "      <td>1</td>\n",
       "      <td>Night</td>\n",
       "      <td>15.0</td>\n",
       "      <td>37</td>\n",
       "      <td>F</td>\n",
       "      <td>1501</td>\n",
       "      <td>W</td>\n",
       "      <td>2</td>\n",
       "      <td>Physical Force</td>\n",
       "      <td>AO</td>\n",
       "    </tr>\n",
       "    <tr>\n",
       "      <th>...</th>\n",
       "      <td>...</td>\n",
       "      <td>...</td>\n",
       "      <td>...</td>\n",
       "      <td>...</td>\n",
       "      <td>...</td>\n",
       "      <td>...</td>\n",
       "      <td>...</td>\n",
       "      <td>...</td>\n",
       "      <td>...</td>\n",
       "      <td>...</td>\n",
       "      <td>...</td>\n",
       "      <td>...</td>\n",
       "    </tr>\n",
       "    <tr>\n",
       "      <th>4995</th>\n",
       "      <td>34.0409</td>\n",
       "      <td>-118.3408</td>\n",
       "      <td>1</td>\n",
       "      <td>Night</td>\n",
       "      <td>7.0</td>\n",
       "      <td>0</td>\n",
       "      <td>X</td>\n",
       "      <td></td>\n",
       "      <td>O</td>\n",
       "      <td>1</td>\n",
       "      <td>other_weapon</td>\n",
       "      <td>IC</td>\n",
       "    </tr>\n",
       "    <tr>\n",
       "      <th>4996</th>\n",
       "      <td>34.0347</td>\n",
       "      <td>-118.2253</td>\n",
       "      <td>7</td>\n",
       "      <td>Daytime</td>\n",
       "      <td>4.0</td>\n",
       "      <td>0</td>\n",
       "      <td>X</td>\n",
       "      <td>1300 0325</td>\n",
       "      <td>X</td>\n",
       "      <td>1</td>\n",
       "      <td>Physical Force</td>\n",
       "      <td>IC</td>\n",
       "    </tr>\n",
       "    <tr>\n",
       "      <th>4997</th>\n",
       "      <td>34.2392</td>\n",
       "      <td>-118.4698</td>\n",
       "      <td>0</td>\n",
       "      <td>Night</td>\n",
       "      <td>19.0</td>\n",
       "      <td>38</td>\n",
       "      <td>M</td>\n",
       "      <td>0913 0416 1817</td>\n",
       "      <td>H</td>\n",
       "      <td>2</td>\n",
       "      <td>Physical Force</td>\n",
       "      <td>AA</td>\n",
       "    </tr>\n",
       "    <tr>\n",
       "      <th>4998</th>\n",
       "      <td>34.0453</td>\n",
       "      <td>-118.2443</td>\n",
       "      <td>1</td>\n",
       "      <td>Night</td>\n",
       "      <td>1.0</td>\n",
       "      <td>41</td>\n",
       "      <td>M</td>\n",
       "      <td>0416</td>\n",
       "      <td>B</td>\n",
       "      <td>2</td>\n",
       "      <td>sharp_heavy_object</td>\n",
       "      <td>AO</td>\n",
       "    </tr>\n",
       "    <tr>\n",
       "      <th>4999</th>\n",
       "      <td>33.9438</td>\n",
       "      <td>-118.2695</td>\n",
       "      <td>0</td>\n",
       "      <td>Night</td>\n",
       "      <td>18.0</td>\n",
       "      <td>49</td>\n",
       "      <td>M</td>\n",
       "      <td>0329 1822</td>\n",
       "      <td>B</td>\n",
       "      <td>2</td>\n",
       "      <td>sharp_heavy_object</td>\n",
       "      <td>IC</td>\n",
       "    </tr>\n",
       "  </tbody>\n",
       "</table>\n",
       "<p>5000 rows × 12 columns</p>\n",
       "</div>"
      ],
      "text/plain": [
       "      Latitude  Longitude  reporting_delay_day_count day_category  Area_ID  \\\n",
       "0      34.0128  -118.3045                          0      Evening      3.0   \n",
       "1      34.0726  -118.3029                         37        Night     20.0   \n",
       "2      33.9348  -118.2695                          1      Morning     18.0   \n",
       "3      34.0497  -118.3442                         20        Night      7.0   \n",
       "4      34.1611  -118.3704                          1        Night     15.0   \n",
       "...        ...        ...                        ...          ...      ...   \n",
       "4995   34.0409  -118.3408                          1        Night      7.0   \n",
       "4996   34.0347  -118.2253                          7      Daytime      4.0   \n",
       "4997   34.2392  -118.4698                          0        Night     19.0   \n",
       "4998   34.0453  -118.2443                          1        Night      1.0   \n",
       "4999   33.9438  -118.2695                          0        Night     18.0   \n",
       "\n",
       "      Victim_Age Victim_Sex                 Modus_Operandi Victim_Descent  \\\n",
       "0             28          F  1241 1813 1243 2000 0416 1821              H   \n",
       "1             26          M                      0394 0344              B   \n",
       "2             62          F  0355 1202 1914 0701 0100 1822              B   \n",
       "3              0          X                                             W   \n",
       "4             37          F                           1501              W   \n",
       "...          ...        ...                            ...            ...   \n",
       "4995           0          X                                             O   \n",
       "4996           0          X                      1300 0325              X   \n",
       "4997          38          M                 0913 0416 1817              H   \n",
       "4998          41          M                           0416              B   \n",
       "4999          49          M                      0329 1822              B   \n",
       "\n",
       "      Part 1-2  Weapon_Description Status  \n",
       "0            2      Physical Force     IC  \n",
       "1            1  sharp_heavy_object     IC  \n",
       "2            2      Physical Force     IC  \n",
       "3            1      Physical Force     IC  \n",
       "4            2      Physical Force     AO  \n",
       "...        ...                 ...    ...  \n",
       "4995         1        other_weapon     IC  \n",
       "4996         1      Physical Force     IC  \n",
       "4997         2      Physical Force     AA  \n",
       "4998         2  sharp_heavy_object     AO  \n",
       "4999         2  sharp_heavy_object     IC  \n",
       "\n",
       "[5000 rows x 12 columns]"
      ]
     },
     "execution_count": 98,
     "metadata": {},
     "output_type": "execute_result"
    }
   ],
   "source": [
    "test"
   ]
  },
  {
   "cell_type": "code",
   "execution_count": 99,
   "id": "ebd8fc27",
   "metadata": {
    "execution": {
     "iopub.execute_input": "2024-06-22T14:18:59.738529Z",
     "iopub.status.busy": "2024-06-22T14:18:59.737845Z",
     "iopub.status.idle": "2024-06-22T14:18:59.744533Z",
     "shell.execute_reply": "2024-06-22T14:18:59.743491Z"
    },
    "papermill": {
     "duration": 0.04235,
     "end_time": "2024-06-22T14:18:59.746591",
     "exception": false,
     "start_time": "2024-06-22T14:18:59.704241",
     "status": "completed"
    },
    "tags": []
   },
   "outputs": [
    {
     "data": {
      "text/plain": [
       "(5000, 12)"
      ]
     },
     "execution_count": 99,
     "metadata": {},
     "output_type": "execute_result"
    }
   ],
   "source": [
    "test.shape"
   ]
  },
  {
   "cell_type": "code",
   "execution_count": 100,
   "id": "f4b34715",
   "metadata": {
    "execution": {
     "iopub.execute_input": "2024-06-22T14:18:59.813090Z",
     "iopub.status.busy": "2024-06-22T14:18:59.812271Z",
     "iopub.status.idle": "2024-06-22T14:18:59.829923Z",
     "shell.execute_reply": "2024-06-22T14:18:59.828818Z"
    },
    "papermill": {
     "duration": 0.053458,
     "end_time": "2024-06-22T14:18:59.832230",
     "exception": false,
     "start_time": "2024-06-22T14:18:59.778772",
     "status": "completed"
    },
    "tags": []
   },
   "outputs": [
    {
     "data": {
      "text/html": [
       "<div>\n",
       "<style scoped>\n",
       "    .dataframe tbody tr th:only-of-type {\n",
       "        vertical-align: middle;\n",
       "    }\n",
       "\n",
       "    .dataframe tbody tr th {\n",
       "        vertical-align: top;\n",
       "    }\n",
       "\n",
       "    .dataframe thead th {\n",
       "        text-align: right;\n",
       "    }\n",
       "</style>\n",
       "<table border=\"1\" class=\"dataframe\">\n",
       "  <thead>\n",
       "    <tr style=\"text-align: right;\">\n",
       "      <th></th>\n",
       "      <th>ID</th>\n",
       "      <th>Crime_Category</th>\n",
       "      <th>Unnamed: 2</th>\n",
       "    </tr>\n",
       "  </thead>\n",
       "  <tbody>\n",
       "    <tr>\n",
       "      <th>0</th>\n",
       "      <td>1</td>\n",
       "      <td>Crimes against Persons</td>\n",
       "      <td>NaN</td>\n",
       "    </tr>\n",
       "    <tr>\n",
       "      <th>1</th>\n",
       "      <td>2</td>\n",
       "      <td>Crimes against Public Order</td>\n",
       "      <td>NaN</td>\n",
       "    </tr>\n",
       "    <tr>\n",
       "      <th>2</th>\n",
       "      <td>3</td>\n",
       "      <td>Other Crimes</td>\n",
       "      <td>NaN</td>\n",
       "    </tr>\n",
       "    <tr>\n",
       "      <th>3</th>\n",
       "      <td>4</td>\n",
       "      <td>Crimes against Public Order</td>\n",
       "      <td>NaN</td>\n",
       "    </tr>\n",
       "    <tr>\n",
       "      <th>4</th>\n",
       "      <td>5</td>\n",
       "      <td>Other Crimes</td>\n",
       "      <td>NaN</td>\n",
       "    </tr>\n",
       "    <tr>\n",
       "      <th>...</th>\n",
       "      <td>...</td>\n",
       "      <td>...</td>\n",
       "      <td>...</td>\n",
       "    </tr>\n",
       "    <tr>\n",
       "      <th>995</th>\n",
       "      <td>996</td>\n",
       "      <td>Fraud and White-Collar Crimes</td>\n",
       "      <td>NaN</td>\n",
       "    </tr>\n",
       "    <tr>\n",
       "      <th>996</th>\n",
       "      <td>997</td>\n",
       "      <td>Property Crimes</td>\n",
       "      <td>NaN</td>\n",
       "    </tr>\n",
       "    <tr>\n",
       "      <th>997</th>\n",
       "      <td>998</td>\n",
       "      <td>Violent Crimes</td>\n",
       "      <td>NaN</td>\n",
       "    </tr>\n",
       "    <tr>\n",
       "      <th>998</th>\n",
       "      <td>999</td>\n",
       "      <td>Property Crimes</td>\n",
       "      <td>NaN</td>\n",
       "    </tr>\n",
       "    <tr>\n",
       "      <th>999</th>\n",
       "      <td>1000</td>\n",
       "      <td>Violent Crimes</td>\n",
       "      <td>NaN</td>\n",
       "    </tr>\n",
       "  </tbody>\n",
       "</table>\n",
       "<p>1000 rows × 3 columns</p>\n",
       "</div>"
      ],
      "text/plain": [
       "       ID                Crime_Category   Unnamed: 2\n",
       "0       1         Crimes against Persons         NaN\n",
       "1       2    Crimes against Public Order         NaN\n",
       "2       3                   Other Crimes         NaN\n",
       "3       4    Crimes against Public Order         NaN\n",
       "4       5                   Other Crimes         NaN\n",
       "..    ...                            ...         ...\n",
       "995   996  Fraud and White-Collar Crimes         NaN\n",
       "996   997                Property Crimes         NaN\n",
       "997   998                 Violent Crimes         NaN\n",
       "998   999                Property Crimes         NaN\n",
       "999  1000                 Violent Crimes         NaN\n",
       "\n",
       "[1000 rows x 3 columns]"
      ]
     },
     "execution_count": 100,
     "metadata": {},
     "output_type": "execute_result"
    }
   ],
   "source": [
    "sample=pd.read_csv('/kaggle/input/crime-cast-forecasting-crime-categories/sample.csv')\n",
    "sample"
   ]
  },
  {
   "cell_type": "code",
   "execution_count": 101,
   "id": "cd6e87ad",
   "metadata": {
    "execution": {
     "iopub.execute_input": "2024-06-22T14:18:59.900906Z",
     "iopub.status.busy": "2024-06-22T14:18:59.899873Z",
     "iopub.status.idle": "2024-06-22T14:18:59.961453Z",
     "shell.execute_reply": "2024-06-22T14:18:59.960098Z"
    },
    "papermill": {
     "duration": 0.099464,
     "end_time": "2024-06-22T14:18:59.964879",
     "exception": false,
     "start_time": "2024-06-22T14:18:59.865415",
     "status": "completed"
    },
    "tags": []
   },
   "outputs": [],
   "source": [
    "y_pred=pipe_logistic.predict(test)\n",
    "submission=pd.DataFrame({'ID': np.arange(1,5000+1), 'Crime_Category': y_pred, 'Unnamed: 2': 5000*[np.nan]})\n",
    "\n",
    "submission.to_csv('submission.csv',index=False)"
   ]
  },
  {
   "cell_type": "code",
   "execution_count": null,
   "id": "feda718e",
   "metadata": {
    "papermill": {
     "duration": 0.048459,
     "end_time": "2024-06-22T14:19:00.069845",
     "exception": false,
     "start_time": "2024-06-22T14:19:00.021386",
     "status": "completed"
    },
    "tags": []
   },
   "outputs": [],
   "source": []
  }
 ],
 "metadata": {
  "kaggle": {
   "accelerator": "none",
   "dataSources": [
    {
     "databundleVersionId": 8446444,
     "sourceId": 77420,
     "sourceType": "competition"
    }
   ],
   "dockerImageVersionId": 30715,
   "isGpuEnabled": false,
   "isInternetEnabled": false,
   "language": "python",
   "sourceType": "notebook"
  },
  "kernelspec": {
   "display_name": "Python 3",
   "language": "python",
   "name": "python3"
  },
  "language_info": {
   "codemirror_mode": {
    "name": "ipython",
    "version": 3
   },
   "file_extension": ".py",
   "mimetype": "text/x-python",
   "name": "python",
   "nbconvert_exporter": "python",
   "pygments_lexer": "ipython3",
   "version": "3.10.13"
  },
  "papermill": {
   "default_parameters": {},
   "duration": 42.218066,
   "end_time": "2024-06-22T14:19:00.724571",
   "environment_variables": {},
   "exception": null,
   "input_path": "__notebook__.ipynb",
   "output_path": "__notebook__.ipynb",
   "parameters": {},
   "start_time": "2024-06-22T14:18:18.506505",
   "version": "2.5.0"
  }
 },
 "nbformat": 4,
 "nbformat_minor": 5
}
