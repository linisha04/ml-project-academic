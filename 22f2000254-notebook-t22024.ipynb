{
 "cells": [
  {
   "cell_type": "code",
   "execution_count": 1,
   "id": "b5dd469d",
   "metadata": {
    "_cell_guid": "b1076dfc-b9ad-4769-8c92-a6c4dae69d19",
    "_uuid": "8f2839f25d086af736a60e9eeb907d3b93b6e0e5",
    "execution": {
     "iopub.execute_input": "2024-06-28T09:13:20.452825Z",
     "iopub.status.busy": "2024-06-28T09:13:20.452383Z",
     "iopub.status.idle": "2024-06-28T09:13:21.435689Z",
     "shell.execute_reply": "2024-06-28T09:13:21.434468Z"
    },
    "papermill": {
     "duration": 1.003865,
     "end_time": "2024-06-28T09:13:21.438550",
     "exception": false,
     "start_time": "2024-06-28T09:13:20.434685",
     "status": "completed"
    },
    "tags": []
   },
   "outputs": [
    {
     "name": "stdout",
     "output_type": "stream",
     "text": [
      "/kaggle/input/crime-cast-forecasting-crime-categories/sample.csv\n",
      "/kaggle/input/crime-cast-forecasting-crime-categories/train.csv\n",
      "/kaggle/input/crime-cast-forecasting-crime-categories/test.csv\n"
     ]
    }
   ],
   "source": [
    "# This Python 3 environment comes with many helpful analytics libraries installed\n",
    "# It is defined by the kaggle/python Docker image: https://github.com/kaggle/docker-python\n",
    "# For example, here's several helpful packages to load\n",
    "\n",
    "import numpy as np # linear algebra\n",
    "import pandas as pd # data processing, CSV file I/O (e.g. pd.read_csv)\n",
    "\n",
    "# Input data files are available in the read-only \"../input/\" directory\n",
    "# For example, running this (by clicking run or pressing Shift+Enter), will list all files under the input directory\n",
    "\n",
    "import os\n",
    "for dirname, _, filenames in os.walk('/kaggle/input'):\n",
    "    for filename in filenames:\n",
    "        print(os.path.join(dirname, filename))\n",
    "\n",
    "# You can write up to 20GB to the current directory (/kaggle/working/) that gets preserved as output when you create a version using \"Save & Run All\" \n",
    "# You can also write temporary files to /kaggle/temp/, but they won't be saved outside of the current session"
   ]
  },
  {
   "cell_type": "code",
   "execution_count": 2,
   "id": "d849046e",
   "metadata": {
    "execution": {
     "iopub.execute_input": "2024-06-28T09:13:21.473405Z",
     "iopub.status.busy": "2024-06-28T09:13:21.472152Z",
     "iopub.status.idle": "2024-06-28T09:13:23.415962Z",
     "shell.execute_reply": "2024-06-28T09:13:23.414776Z"
    },
    "papermill": {
     "duration": 1.964149,
     "end_time": "2024-06-28T09:13:23.418863",
     "exception": false,
     "start_time": "2024-06-28T09:13:21.454714",
     "status": "completed"
    },
    "tags": []
   },
   "outputs": [],
   "source": [
    "import matplotlib.pyplot as plt\n",
    "import seaborn as sns \n",
    "\n",
    "\n",
    "import datetime\n",
    "\n",
    "\n",
    "from sklearn.model_selection import train_test_split "
   ]
  },
  {
   "cell_type": "code",
   "execution_count": 3,
   "id": "e4b7c286",
   "metadata": {
    "execution": {
     "iopub.execute_input": "2024-06-28T09:13:23.453396Z",
     "iopub.status.busy": "2024-06-28T09:13:23.452977Z",
     "iopub.status.idle": "2024-06-28T09:13:23.678970Z",
     "shell.execute_reply": "2024-06-28T09:13:23.677435Z"
    },
    "papermill": {
     "duration": 0.246157,
     "end_time": "2024-06-28T09:13:23.681949",
     "exception": false,
     "start_time": "2024-06-28T09:13:23.435792",
     "status": "completed"
    },
    "tags": []
   },
   "outputs": [],
   "source": [
    "train =pd.read_csv('/kaggle/input/crime-cast-forecasting-crime-categories/train.csv')\n",
    "test=pd.read_csv('/kaggle/input/crime-cast-forecasting-crime-categories/test.csv')\n"
   ]
  },
  {
   "cell_type": "markdown",
   "id": "ac77ae51",
   "metadata": {
    "papermill": {
     "duration": 0.016015,
     "end_time": "2024-06-28T09:13:23.714015",
     "exception": false,
     "start_time": "2024-06-28T09:13:23.698000",
     "status": "completed"
    },
    "tags": []
   },
   "source": [
    "* Latitude range: [0:34] ( General range is -90 to 90 )\n",
    "* Longitude range: [-118: 0] (General range is 180 to 180)\n",
    "\n"
   ]
  },
  {
   "cell_type": "code",
   "execution_count": 4,
   "id": "bbc30d8f",
   "metadata": {
    "execution": {
     "iopub.execute_input": "2024-06-28T09:13:23.750401Z",
     "iopub.status.busy": "2024-06-28T09:13:23.749992Z",
     "iopub.status.idle": "2024-06-28T09:13:23.756381Z",
     "shell.execute_reply": "2024-06-28T09:13:23.755082Z"
    },
    "papermill": {
     "duration": 0.026874,
     "end_time": "2024-06-28T09:13:23.758814",
     "exception": false,
     "start_time": "2024-06-28T09:13:23.731940",
     "status": "completed"
    },
    "tags": []
   },
   "outputs": [],
   "source": [
    "def day_category(x):\n",
    "    if 400<=x<1200:\n",
    "        return 'Morning'\n",
    "    elif 1200<=x<1700:\n",
    "        return 'Daytime'\n",
    "    elif 1800<=x<2100:\n",
    "        return 'Evening'\n",
    "    else:\n",
    "        return 'Night'"
   ]
  },
  {
   "cell_type": "code",
   "execution_count": 5,
   "id": "e3cd5621",
   "metadata": {
    "execution": {
     "iopub.execute_input": "2024-06-28T09:13:23.793210Z",
     "iopub.status.busy": "2024-06-28T09:13:23.792764Z",
     "iopub.status.idle": "2024-06-28T09:13:23.814954Z",
     "shell.execute_reply": "2024-06-28T09:13:23.813864Z"
    },
    "papermill": {
     "duration": 0.042381,
     "end_time": "2024-06-28T09:13:23.817634",
     "exception": false,
     "start_time": "2024-06-28T09:13:23.775253",
     "status": "completed"
    },
    "tags": []
   },
   "outputs": [],
   "source": [
    "train['day_category']=train['Time_Occurred'].apply(day_category )"
   ]
  },
  {
   "cell_type": "code",
   "execution_count": 6,
   "id": "34ed9ff5",
   "metadata": {
    "execution": {
     "iopub.execute_input": "2024-06-28T09:13:23.852822Z",
     "iopub.status.busy": "2024-06-28T09:13:23.852262Z",
     "iopub.status.idle": "2024-06-28T09:13:23.858118Z",
     "shell.execute_reply": "2024-06-28T09:13:23.856956Z"
    },
    "papermill": {
     "duration": 0.026399,
     "end_time": "2024-06-28T09:13:23.860635",
     "exception": false,
     "start_time": "2024-06-28T09:13:23.834236",
     "status": "completed"
    },
    "tags": []
   },
   "outputs": [],
   "source": [
    "\n",
    "def extract_date(d):\n",
    "    date=d.split(' ')[0]\n",
    "    \n",
    "    \n",
    "    date=pd.to_datetime(date).date()\n",
    "    \n",
    "    \n",
    "    return date\n",
    "    "
   ]
  },
  {
   "cell_type": "code",
   "execution_count": 7,
   "id": "828397c1",
   "metadata": {
    "execution": {
     "iopub.execute_input": "2024-06-28T09:13:23.894101Z",
     "iopub.status.busy": "2024-06-28T09:13:23.893692Z",
     "iopub.status.idle": "2024-06-28T09:13:42.779271Z",
     "shell.execute_reply": "2024-06-28T09:13:42.778177Z"
    },
    "papermill": {
     "duration": 18.905454,
     "end_time": "2024-06-28T09:13:42.782103",
     "exception": false,
     "start_time": "2024-06-28T09:13:23.876649",
     "status": "completed"
    },
    "tags": []
   },
   "outputs": [],
   "source": [
    "train['Date_Reported']=train['Date_Reported'].apply(extract_date)\n",
    "train['Date_Occurred']=train['Date_Occurred'].apply(extract_date)\n"
   ]
  },
  {
   "cell_type": "code",
   "execution_count": 8,
   "id": "480c6730",
   "metadata": {
    "execution": {
     "iopub.execute_input": "2024-06-28T09:13:42.817282Z",
     "iopub.status.busy": "2024-06-28T09:13:42.816895Z",
     "iopub.status.idle": "2024-06-28T09:13:42.825064Z",
     "shell.execute_reply": "2024-06-28T09:13:42.824024Z"
    },
    "papermill": {
     "duration": 0.029461,
     "end_time": "2024-06-28T09:13:42.827998",
     "exception": false,
     "start_time": "2024-06-28T09:13:42.798537",
     "status": "completed"
    },
    "tags": []
   },
   "outputs": [
    {
     "data": {
      "text/plain": [
       "3"
      ]
     },
     "execution_count": 8,
     "metadata": {},
     "output_type": "execute_result"
    }
   ],
   "source": [
    "k=train['Date_Reported'][0]-train['Date_Occurred'][0]\n",
    "k.days"
   ]
  },
  {
   "cell_type": "code",
   "execution_count": 9,
   "id": "488558d9",
   "metadata": {
    "execution": {
     "iopub.execute_input": "2024-06-28T09:13:42.862139Z",
     "iopub.status.busy": "2024-06-28T09:13:42.861746Z",
     "iopub.status.idle": "2024-06-28T09:13:42.894761Z",
     "shell.execute_reply": "2024-06-28T09:13:42.893593Z"
    },
    "papermill": {
     "duration": 0.053165,
     "end_time": "2024-06-28T09:13:42.897527",
     "exception": false,
     "start_time": "2024-06-28T09:13:42.844362",
     "status": "completed"
    },
    "tags": []
   },
   "outputs": [],
   "source": [
    "train['Date_Reported']=pd.to_datetime(train['Date_Reported']).dt.date\n",
    "train['Date_Occurred']=pd.to_datetime(train['Date_Occurred']).dt.date\n",
    "\n",
    "train['reporting_delay_day_count']=(train['Date_Reported']-train['Date_Occurred'])"
   ]
  },
  {
   "cell_type": "code",
   "execution_count": 10,
   "id": "94646c43",
   "metadata": {
    "execution": {
     "iopub.execute_input": "2024-06-28T09:13:42.931381Z",
     "iopub.status.busy": "2024-06-28T09:13:42.930973Z",
     "iopub.status.idle": "2024-06-28T09:13:42.946733Z",
     "shell.execute_reply": "2024-06-28T09:13:42.945456Z"
    },
    "papermill": {
     "duration": 0.035604,
     "end_time": "2024-06-28T09:13:42.949138",
     "exception": false,
     "start_time": "2024-06-28T09:13:42.913534",
     "status": "completed"
    },
    "tags": []
   },
   "outputs": [],
   "source": [
    "def day_count(d):\n",
    "    return d.days\n",
    "train['reporting_delay_day_count']=train['reporting_delay_day_count'].apply(day_count)"
   ]
  },
  {
   "cell_type": "code",
   "execution_count": 11,
   "id": "e93a1320",
   "metadata": {
    "execution": {
     "iopub.execute_input": "2024-06-28T09:13:42.983629Z",
     "iopub.status.busy": "2024-06-28T09:13:42.983177Z",
     "iopub.status.idle": "2024-06-28T09:13:42.996549Z",
     "shell.execute_reply": "2024-06-28T09:13:42.995469Z"
    },
    "papermill": {
     "duration": 0.033606,
     "end_time": "2024-06-28T09:13:42.998929",
     "exception": false,
     "start_time": "2024-06-28T09:13:42.965323",
     "status": "completed"
    },
    "tags": []
   },
   "outputs": [],
   "source": [
    "df=train[['Latitude','Longitude','reporting_delay_day_count','day_category','Victim_Age','Victim_Sex','Victim_Descent','Premise_Code','Weapon_Description','Weapon_Used_Code','Area_ID','Modus_Operandi','Part 1-2','Status','Crime_Category']]"
   ]
  },
  {
   "cell_type": "code",
   "execution_count": 12,
   "id": "8012e587",
   "metadata": {
    "execution": {
     "iopub.execute_input": "2024-06-28T09:13:43.032375Z",
     "iopub.status.busy": "2024-06-28T09:13:43.031988Z",
     "iopub.status.idle": "2024-06-28T09:13:43.051922Z",
     "shell.execute_reply": "2024-06-28T09:13:43.050738Z"
    },
    "papermill": {
     "duration": 0.039713,
     "end_time": "2024-06-28T09:13:43.054440",
     "exception": false,
     "start_time": "2024-06-28T09:13:43.014727",
     "status": "completed"
    },
    "tags": []
   },
   "outputs": [],
   "source": [
    "def victim_gender(val):\n",
    "    if val=='H' or pd.isna(val):\n",
    "        val='X'\n",
    "    return val\n",
    "\n",
    "\n",
    "df.loc[:,'Victim_Sex'] = df['Victim_Sex'].apply(victim_gender)"
   ]
  },
  {
   "cell_type": "code",
   "execution_count": 13,
   "id": "1c1c453d",
   "metadata": {
    "execution": {
     "iopub.execute_input": "2024-06-28T09:13:43.088709Z",
     "iopub.status.busy": "2024-06-28T09:13:43.088233Z",
     "iopub.status.idle": "2024-06-28T09:13:43.111727Z",
     "shell.execute_reply": "2024-06-28T09:13:43.110275Z"
    },
    "papermill": {
     "duration": 0.043901,
     "end_time": "2024-06-28T09:13:43.114363",
     "exception": false,
     "start_time": "2024-06-28T09:13:43.070462",
     "status": "completed"
    },
    "tags": []
   },
   "outputs": [
    {
     "data": {
      "text/plain": [
       "Weapon_Description                            \n",
       "STRONG-ARM (HANDS, FIST, FEET OR BODILY FORCE)    0.543967\n",
       "UNKNOWN WEAPON/OTHER WEAPON                       0.107566\n",
       "VERBAL THREAT                                     0.074438\n",
       "HAND GUN                                          0.052897\n",
       "KNIFE WITH BLADE 6INCHES OR LESS                  0.021813\n",
       "SEMI-AUTOMATIC PISTOL                             0.020995\n",
       "UNKNOWN FIREARM                                   0.017860\n",
       "OTHER KNIFE                                       0.017042\n",
       "VEHICLE                                           0.011452\n",
       "MACE/PEPPER SPRAY                                 0.010907\n",
       "ROCK/THROWN OBJECT                                0.008589\n",
       "BOTTLE                                            0.007498\n",
       "PIPE/METAL PIPE                                   0.007089\n",
       "CLUB/BAT                                          0.006953\n",
       "STICK                                             0.006680\n",
       "KITCHEN KNIFE                                     0.006135\n",
       "KNIFE WITH BLADE OVER 6 INCHES IN LENGTH          0.005862\n",
       "AIR PISTOL/REVOLVER/RIFLE/BB GUN                  0.005590\n",
       "FOLDING KNIFE                                     0.005044\n",
       "BLUNT INSTRUMENT                                  0.005044\n",
       "SIMULATED GUN                                     0.004772\n",
       "REVOLVER                                          0.004635\n",
       "BELT FLAILING INSTRUMENT/CHAIN                    0.003545\n",
       "CONCRETE BLOCK/BRICK                              0.003545\n",
       "MACHETE                                           0.003408\n",
       "UNKNOWN TYPE CUTTING INSTRUMENT                   0.003272\n",
       "SCREWDRIVER                                       0.003136\n",
       "HAMMER                                            0.003136\n",
       "FIRE                                              0.002999\n",
       "PHYSICAL PRESENCE                                 0.002454\n",
       "OTHER FIREARM                                     0.002454\n",
       "OTHER CUTTING INSTRUMENT                          0.002318\n",
       "FIXED OBJECT                                      0.002181\n",
       "GLASS                                             0.001909\n",
       "SCISSORS                                          0.001772\n",
       "RIFLE                                             0.001636\n",
       "BOARD                                             0.001500\n",
       "TOY GUN                                           0.001091\n",
       "SHOTGUN                                           0.000954\n",
       "TIRE IRON                                         0.000954\n",
       "AXE                                               0.000818\n",
       "STUN GUN                                          0.000545\n",
       "BRASS KNUCKLES                                    0.000545\n",
       "SCALDING LIQUID                                   0.000409\n",
       "SWITCH BLADE                                      0.000409\n",
       "SAWED OFF RIFLE/SHOTGUN                           0.000273\n",
       "DEMAND NOTE                                       0.000273\n",
       "ICE PICK                                          0.000273\n",
       "MARTIAL ARTS WEAPONS                              0.000273\n",
       "BOWIE KNIFE                                       0.000136\n",
       "STARTER PISTOL/REVOLVER                           0.000136\n",
       "BOMB THREAT                                       0.000136\n",
       "RAZOR BLADE                                       0.000136\n",
       "CAUSTIC CHEMICAL/POISON                           0.000136\n",
       "CLEAVER                                           0.000136\n",
       "ASSAULT WEAPON/UZI/AK47/ETC                       0.000136\n",
       "HECKLER & KOCH 93 SEMIAUTOMATIC ASSAULT RIFLE     0.000136\n",
       "Name: proportion, dtype: float64"
      ]
     },
     "execution_count": 13,
     "metadata": {},
     "output_type": "execute_result"
    }
   ],
   "source": [
    "unique_values_weapon=pd.DataFrame(df['Weapon_Description'])\n",
    "unique_values_weapon.value_counts(normalize=True)"
   ]
  },
  {
   "cell_type": "code",
   "execution_count": 14,
   "id": "6ce01b34",
   "metadata": {
    "execution": {
     "iopub.execute_input": "2024-06-28T09:13:43.148544Z",
     "iopub.status.busy": "2024-06-28T09:13:43.148155Z",
     "iopub.status.idle": "2024-06-28T09:13:43.164035Z",
     "shell.execute_reply": "2024-06-28T09:13:43.162894Z"
    },
    "papermill": {
     "duration": 0.036319,
     "end_time": "2024-06-28T09:13:43.166960",
     "exception": false,
     "start_time": "2024-06-28T09:13:43.130641",
     "status": "completed"
    },
    "tags": []
   },
   "outputs": [],
   "source": [
    "distribution = df['Weapon_Description'].dropna().value_counts(normalize=True)\n",
    "\n",
    "missing = df['Weapon_Description'].isnull().sum()\n",
    "\n",
    "imputed_values = np.random.choice(distribution.index, size=missing, p=distribution.values)\n",
    "\n",
    "# Impute the missing values\n",
    "df.loc[df['Weapon_Description'].isnull(), 'Weapon_Description'] = imputed_values\n"
   ]
  },
  {
   "cell_type": "code",
   "execution_count": 15,
   "id": "7e2713cd",
   "metadata": {
    "execution": {
     "iopub.execute_input": "2024-06-28T09:13:43.202317Z",
     "iopub.status.busy": "2024-06-28T09:13:43.201889Z",
     "iopub.status.idle": "2024-06-28T09:13:43.215953Z",
     "shell.execute_reply": "2024-06-28T09:13:43.214587Z"
    },
    "papermill": {
     "duration": 0.03479,
     "end_time": "2024-06-28T09:13:43.218652",
     "exception": false,
     "start_time": "2024-06-28T09:13:43.183862",
     "status": "completed"
    },
    "tags": []
   },
   "outputs": [],
   "source": [
    "distribution = df['Victim_Descent'].dropna().value_counts(normalize=True)\n",
    "\n",
    "missing = df['Victim_Descent'].isnull().sum()\n",
    "\n",
    "imputed_values = np.random.choice(distribution.index, size=missing, p=distribution.values)\n",
    "\n",
    "# Impute the missing values\n",
    "df.loc[df['Victim_Descent'].isnull(), 'Victim_Descent'] = imputed_values"
   ]
  },
  {
   "cell_type": "markdown",
   "id": "4a311fcb",
   "metadata": {
    "execution": {
     "iopub.execute_input": "2024-06-18T11:25:46.853966Z",
     "iopub.status.busy": "2024-06-18T11:25:46.853487Z",
     "iopub.status.idle": "2024-06-18T11:25:48.288787Z",
     "shell.execute_reply": "2024-06-18T11:25:48.287061Z",
     "shell.execute_reply.started": "2024-06-18T11:25:46.853929Z"
    },
    "papermill": {
     "duration": 0.016226,
     "end_time": "2024-06-28T09:13:43.250989",
     "exception": false,
     "start_time": "2024-06-28T09:13:43.234763",
     "status": "completed"
    },
    "tags": []
   },
   "source": [
    " df.drop('Weapon_Used_Code',inplace=True,axis=1)"
   ]
  },
  {
   "cell_type": "code",
   "execution_count": 16,
   "id": "06badc15",
   "metadata": {
    "execution": {
     "iopub.execute_input": "2024-06-28T09:13:43.285572Z",
     "iopub.status.busy": "2024-06-28T09:13:43.285172Z",
     "iopub.status.idle": "2024-06-28T09:13:43.294076Z",
     "shell.execute_reply": "2024-06-28T09:13:43.293075Z"
    },
    "papermill": {
     "duration": 0.029299,
     "end_time": "2024-06-28T09:13:43.296461",
     "exception": false,
     "start_time": "2024-06-28T09:13:43.267162",
     "status": "completed"
    },
    "tags": []
   },
   "outputs": [
    {
     "name": "stderr",
     "output_type": "stream",
     "text": [
      "/tmp/ipykernel_18/3662583146.py:1: SettingWithCopyWarning: \n",
      "A value is trying to be set on a copy of a slice from a DataFrame\n",
      "\n",
      "See the caveats in the documentation: https://pandas.pydata.org/pandas-docs/stable/user_guide/indexing.html#returning-a-view-versus-a-copy\n",
      "  df.drop('Weapon_Used_Code',inplace=True,axis=1)\n"
     ]
    }
   ],
   "source": [
    "df.drop('Weapon_Used_Code',inplace=True,axis=1)\n"
   ]
  },
  {
   "cell_type": "code",
   "execution_count": 17,
   "id": "5f41f6d1",
   "metadata": {
    "execution": {
     "iopub.execute_input": "2024-06-28T09:13:43.330820Z",
     "iopub.status.busy": "2024-06-28T09:13:43.330426Z",
     "iopub.status.idle": "2024-06-28T09:13:43.379567Z",
     "shell.execute_reply": "2024-06-28T09:13:43.378414Z"
    },
    "papermill": {
     "duration": 0.06981,
     "end_time": "2024-06-28T09:13:43.382507",
     "exception": false,
     "start_time": "2024-06-28T09:13:43.312697",
     "status": "completed"
    },
    "tags": []
   },
   "outputs": [],
   "source": [
    "# def number_of_activities(s):\n",
    "#     activities=[]\n",
    "#     s=str(s)\n",
    "#     a=s.split(' ')\n",
    "#     for i in a:\n",
    "#         if a not in activities:\n",
    "#             activities.append(a)\n",
    "#     return activities\n",
    "\n",
    "def number_of_activities(s):\n",
    "    if pd.isna(s):  # Handle NaN values\n",
    "        return ''\n",
    "    activities = set()  # Using a set to avoid duplicates efficiently\n",
    "    for activity in s.split(' '):\n",
    "        activities.add(str(activity))\n",
    "    activities=' '.join(activities)    \n",
    "    return activities\n",
    "df.loc[:,'Modus_Operandi']=df['Modus_Operandi'].apply(number_of_activities)\n",
    "# df.drop('Modus_Operandi',axis=1)\n",
    "# df['Modus_Operandi']=df['unique_activities']\n",
    "# df.drop('unique_activities',axis=1,inplace=True)"
   ]
  },
  {
   "cell_type": "code",
   "execution_count": 18,
   "id": "d4c711f3",
   "metadata": {
    "execution": {
     "iopub.execute_input": "2024-06-28T09:13:43.480253Z",
     "iopub.status.busy": "2024-06-28T09:13:43.479269Z",
     "iopub.status.idle": "2024-06-28T09:13:43.495149Z",
     "shell.execute_reply": "2024-06-28T09:13:43.493969Z"
    },
    "papermill": {
     "duration": 0.036085,
     "end_time": "2024-06-28T09:13:43.497799",
     "exception": false,
     "start_time": "2024-06-28T09:13:43.461714",
     "status": "completed"
    },
    "tags": []
   },
   "outputs": [
    {
     "name": "stderr",
     "output_type": "stream",
     "text": [
      "/tmp/ipykernel_18/3589716598.py:1: SettingWithCopyWarning: \n",
      "A value is trying to be set on a copy of a slice from a DataFrame.\n",
      "Try using .loc[row_indexer,col_indexer] = value instead\n",
      "\n",
      "See the caveats in the documentation: https://pandas.pydata.org/pandas-docs/stable/user_guide/indexing.html#returning-a-view-versus-a-copy\n",
      "  df.loc[:,'max_activity']=df['Modus_Operandi'].apply(lambda x: len(x))\n"
     ]
    }
   ],
   "source": [
    "df.loc[:,'max_activity']=df['Modus_Operandi'].apply(lambda x: len(x))"
   ]
  },
  {
   "cell_type": "code",
   "execution_count": 19,
   "id": "4b83d141",
   "metadata": {
    "execution": {
     "iopub.execute_input": "2024-06-28T09:13:43.532149Z",
     "iopub.status.busy": "2024-06-28T09:13:43.531745Z",
     "iopub.status.idle": "2024-06-28T09:13:43.551140Z",
     "shell.execute_reply": "2024-06-28T09:13:43.549866Z"
    },
    "papermill": {
     "duration": 0.039585,
     "end_time": "2024-06-28T09:13:43.553730",
     "exception": false,
     "start_time": "2024-06-28T09:13:43.514145",
     "status": "completed"
    },
    "tags": []
   },
   "outputs": [],
   "source": [
    "df.loc[:,'Premise_Code']=df['Premise_Code'].apply(lambda x : int(x))"
   ]
  },
  {
   "cell_type": "code",
   "execution_count": 20,
   "id": "0027487f",
   "metadata": {
    "execution": {
     "iopub.execute_input": "2024-06-28T09:13:43.590223Z",
     "iopub.status.busy": "2024-06-28T09:13:43.589272Z",
     "iopub.status.idle": "2024-06-28T09:13:43.616618Z",
     "shell.execute_reply": "2024-06-28T09:13:43.615276Z"
    },
    "papermill": {
     "duration": 0.048332,
     "end_time": "2024-06-28T09:13:43.619519",
     "exception": false,
     "start_time": "2024-06-28T09:13:43.571187",
     "status": "completed"
    },
    "tags": []
   },
   "outputs": [],
   "source": [
    "df.loc[:,'Area_ID']=df['Area_ID'].apply(lambda x : int(x))\n",
    "df.loc[:,'Part 1-2']=df['Part 1-2'].apply(lambda x : int(x))\n"
   ]
  },
  {
   "cell_type": "code",
   "execution_count": 21,
   "id": "792891ce",
   "metadata": {
    "execution": {
     "iopub.execute_input": "2024-06-28T09:13:43.655022Z",
     "iopub.status.busy": "2024-06-28T09:13:43.654658Z",
     "iopub.status.idle": "2024-06-28T09:13:43.660951Z",
     "shell.execute_reply": "2024-06-28T09:13:43.659924Z"
    },
    "papermill": {
     "duration": 0.026405,
     "end_time": "2024-06-28T09:13:43.663198",
     "exception": false,
     "start_time": "2024-06-28T09:13:43.636793",
     "status": "completed"
    },
    "tags": []
   },
   "outputs": [],
   "source": [
    "df.loc[df['Victim_Age']<0,'Victim_Age']=0"
   ]
  },
  {
   "cell_type": "code",
   "execution_count": 22,
   "id": "e82bd159",
   "metadata": {
    "execution": {
     "iopub.execute_input": "2024-06-28T09:13:43.697846Z",
     "iopub.status.busy": "2024-06-28T09:13:43.697410Z",
     "iopub.status.idle": "2024-06-28T09:13:43.705191Z",
     "shell.execute_reply": "2024-06-28T09:13:43.703825Z"
    },
    "papermill": {
     "duration": 0.028043,
     "end_time": "2024-06-28T09:13:43.707781",
     "exception": false,
     "start_time": "2024-06-28T09:13:43.679738",
     "status": "completed"
    },
    "tags": []
   },
   "outputs": [],
   "source": [
    "df.loc[df['Victim_Age']==0,'Victim_Age']=df['Victim_Age'].mean()"
   ]
  },
  {
   "cell_type": "code",
   "execution_count": 23,
   "id": "e14724b5",
   "metadata": {
    "execution": {
     "iopub.execute_input": "2024-06-28T09:13:43.742588Z",
     "iopub.status.busy": "2024-06-28T09:13:43.742175Z",
     "iopub.status.idle": "2024-06-28T09:13:43.753104Z",
     "shell.execute_reply": "2024-06-28T09:13:43.751959Z"
    },
    "papermill": {
     "duration": 0.031286,
     "end_time": "2024-06-28T09:13:43.755578",
     "exception": false,
     "start_time": "2024-06-28T09:13:43.724292",
     "status": "completed"
    },
    "tags": []
   },
   "outputs": [
    {
     "data": {
      "text/plain": [
       "Part 1-2\n",
       "1.0    11637\n",
       "2.0     8363\n",
       "Name: count, dtype: int64"
      ]
     },
     "execution_count": 23,
     "metadata": {},
     "output_type": "execute_result"
    }
   ],
   "source": [
    "df['Part 1-2'].value_counts()"
   ]
  },
  {
   "cell_type": "code",
   "execution_count": 24,
   "id": "cac3e160",
   "metadata": {
    "execution": {
     "iopub.execute_input": "2024-06-28T09:13:43.791995Z",
     "iopub.status.busy": "2024-06-28T09:13:43.791623Z",
     "iopub.status.idle": "2024-06-28T09:13:43.808607Z",
     "shell.execute_reply": "2024-06-28T09:13:43.807503Z"
    },
    "papermill": {
     "duration": 0.038796,
     "end_time": "2024-06-28T09:13:43.811482",
     "exception": false,
     "start_time": "2024-06-28T09:13:43.772686",
     "status": "completed"
    },
    "tags": []
   },
   "outputs": [],
   "source": [
    "df.loc[:,'Part 1-2']=df['Part 1-2'].apply(lambda x: int(x))"
   ]
  },
  {
   "cell_type": "code",
   "execution_count": 25,
   "id": "947b3558",
   "metadata": {
    "execution": {
     "iopub.execute_input": "2024-06-28T09:13:43.850187Z",
     "iopub.status.busy": "2024-06-28T09:13:43.849354Z",
     "iopub.status.idle": "2024-06-28T09:13:43.865445Z",
     "shell.execute_reply": "2024-06-28T09:13:43.864297Z"
    },
    "papermill": {
     "duration": 0.037085,
     "end_time": "2024-06-28T09:13:43.867713",
     "exception": false,
     "start_time": "2024-06-28T09:13:43.830628",
     "status": "completed"
    },
    "tags": []
   },
   "outputs": [],
   "source": [
    "df.loc[:,'Victim_Age']=df['Victim_Age'].apply(lambda x: int(x))"
   ]
  },
  {
   "cell_type": "code",
   "execution_count": 26,
   "id": "b2d17baa",
   "metadata": {
    "execution": {
     "iopub.execute_input": "2024-06-28T09:13:43.903209Z",
     "iopub.status.busy": "2024-06-28T09:13:43.902834Z",
     "iopub.status.idle": "2024-06-28T09:13:43.912682Z",
     "shell.execute_reply": "2024-06-28T09:13:43.911404Z"
    },
    "papermill": {
     "duration": 0.031067,
     "end_time": "2024-06-28T09:13:43.915319",
     "exception": false,
     "start_time": "2024-06-28T09:13:43.884252",
     "status": "completed"
    },
    "tags": []
   },
   "outputs": [
    {
     "name": "stderr",
     "output_type": "stream",
     "text": [
      "/tmp/ipykernel_18/876014097.py:1: SettingWithCopyWarning: \n",
      "A value is trying to be set on a copy of a slice from a DataFrame\n",
      "\n",
      "See the caveats in the documentation: https://pandas.pydata.org/pandas-docs/stable/user_guide/indexing.html#returning-a-view-versus-a-copy\n",
      "  df.drop('max_activity',axis=1,inplace=True)\n"
     ]
    }
   ],
   "source": [
    "df.drop('max_activity',axis=1,inplace=True)"
   ]
  },
  {
   "cell_type": "code",
   "execution_count": 27,
   "id": "969a1f9a",
   "metadata": {
    "execution": {
     "iopub.execute_input": "2024-06-28T09:13:43.950374Z",
     "iopub.status.busy": "2024-06-28T09:13:43.949981Z",
     "iopub.status.idle": "2024-06-28T09:13:43.958902Z",
     "shell.execute_reply": "2024-06-28T09:13:43.957773Z"
    },
    "papermill": {
     "duration": 0.02918,
     "end_time": "2024-06-28T09:13:43.961219",
     "exception": false,
     "start_time": "2024-06-28T09:13:43.932039",
     "status": "completed"
    },
    "tags": []
   },
   "outputs": [],
   "source": [
    "\n",
    "df.loc[df['Weapon_Description'] == 'STRONG-ARM (HANDS, FIST, FEET OR BODILY FORCE)', 'Weapon_Description'] = 'Physical Force'\n"
   ]
  },
  {
   "cell_type": "code",
   "execution_count": 28,
   "id": "bcfe214a",
   "metadata": {
    "execution": {
     "iopub.execute_input": "2024-06-28T09:13:43.996582Z",
     "iopub.status.busy": "2024-06-28T09:13:43.995892Z",
     "iopub.status.idle": "2024-06-28T09:13:44.050939Z",
     "shell.execute_reply": "2024-06-28T09:13:44.049885Z"
    },
    "papermill": {
     "duration": 0.075668,
     "end_time": "2024-06-28T09:13:44.053564",
     "exception": false,
     "start_time": "2024-06-28T09:13:43.977896",
     "status": "completed"
    },
    "tags": []
   },
   "outputs": [],
   "source": [
    "\n",
    "def gun(s):\n",
    "    t=s.replace('/',' ')\n",
    "    listt=t.split(' ' or '/')\n",
    "    gun_keywords=['gun','pistol','revolver','rifle','shotgun']\n",
    "    \n",
    "    sharp_heavy_object=['blade','stone','knife','metal','screwdriver','cleaver', 'glass','machete' ,'iron' , 'cutting','axe' ,'instrument','hammer','weapon','object','bottle','weapons','brass','scissors']\n",
    "    \n",
    "    other_weapon = ['bomb','threat', 'demand', 'poison', 'ice', 'scalding', 'board','block' ,'brick', 'stick', 'bat', 'spray']\n",
    "    \n",
    "    physical_presence=['physical','presence']\n",
    "    \n",
    "    fire=['firearm' , 'fire' ]\n",
    "\n",
    "    for i in listt:\n",
    "        if i.lower() in gun_keywords:\n",
    "            return 'Gun'\n",
    "        elif i.lower() in sharp_heavy_object:\n",
    "            return 'sharp_heavy_object'\n",
    "        \n",
    "        elif i.lower() in fire:\n",
    "            return 'fire'\n",
    "        elif i.lower() in other_weapon:\n",
    "            return 'other_weapon'\n",
    "        elif i.lower() in physical_presence:\n",
    "            return 'Physical Force'\n",
    "        \n",
    "    return s\n",
    "    \n",
    "\n",
    "\n",
    "\n",
    "df.loc[:,'Weapon_Description']=df['Weapon_Description'].apply(gun)"
   ]
  },
  {
   "cell_type": "code",
   "execution_count": 29,
   "id": "41fb1b17",
   "metadata": {
    "execution": {
     "iopub.execute_input": "2024-06-28T09:13:44.089143Z",
     "iopub.status.busy": "2024-06-28T09:13:44.088739Z",
     "iopub.status.idle": "2024-06-28T09:13:44.097272Z",
     "shell.execute_reply": "2024-06-28T09:13:44.096109Z"
    },
    "papermill": {
     "duration": 0.029152,
     "end_time": "2024-06-28T09:13:44.099698",
     "exception": false,
     "start_time": "2024-06-28T09:13:44.070546",
     "status": "completed"
    },
    "tags": []
   },
   "outputs": [
    {
     "data": {
      "text/plain": [
       "217"
      ]
     },
     "execution_count": 29,
     "metadata": {},
     "output_type": "execute_result"
    }
   ],
   "source": [
    "len(df['Premise_Code'].value_counts())"
   ]
  },
  {
   "cell_type": "code",
   "execution_count": 30,
   "id": "094e3a6b",
   "metadata": {
    "execution": {
     "iopub.execute_input": "2024-06-28T09:13:44.135867Z",
     "iopub.status.busy": "2024-06-28T09:13:44.135421Z",
     "iopub.status.idle": "2024-06-28T09:13:44.143941Z",
     "shell.execute_reply": "2024-06-28T09:13:44.142767Z"
    },
    "papermill": {
     "duration": 0.02915,
     "end_time": "2024-06-28T09:13:44.146268",
     "exception": false,
     "start_time": "2024-06-28T09:13:44.117118",
     "status": "completed"
    },
    "tags": []
   },
   "outputs": [
    {
     "data": {
      "text/plain": [
       "21"
      ]
     },
     "execution_count": 30,
     "metadata": {},
     "output_type": "execute_result"
    }
   ],
   "source": [
    "len(df['Area_ID'].value_counts())"
   ]
  },
  {
   "cell_type": "code",
   "execution_count": 31,
   "id": "dbde417a",
   "metadata": {
    "execution": {
     "iopub.execute_input": "2024-06-28T09:13:44.181931Z",
     "iopub.status.busy": "2024-06-28T09:13:44.181517Z",
     "iopub.status.idle": "2024-06-28T09:13:44.187263Z",
     "shell.execute_reply": "2024-06-28T09:13:44.185940Z"
    },
    "papermill": {
     "duration": 0.026552,
     "end_time": "2024-06-28T09:13:44.189828",
     "exception": false,
     "start_time": "2024-06-28T09:13:44.163276",
     "status": "completed"
    },
    "tags": []
   },
   "outputs": [],
   "source": [
    "numeric_columns=[['Latitude','Longitude','reporting_delay_day_count','Victim_Age']]\n",
    "categorical_columns=[['day_category','Victim_Sex','Victim_Descent','Premise_Code','Area_ID','Part 1-2','Status']] #ohe\n",
    "multilabel_binarizer=[['Modus_Operandi']] \n"
   ]
  },
  {
   "cell_type": "code",
   "execution_count": 32,
   "id": "707ad811",
   "metadata": {
    "execution": {
     "iopub.execute_input": "2024-06-28T09:13:44.226072Z",
     "iopub.status.busy": "2024-06-28T09:13:44.225670Z",
     "iopub.status.idle": "2024-06-28T09:13:44.234909Z",
     "shell.execute_reply": "2024-06-28T09:13:44.233529Z"
    },
    "papermill": {
     "duration": 0.030584,
     "end_time": "2024-06-28T09:13:44.237527",
     "exception": false,
     "start_time": "2024-06-28T09:13:44.206943",
     "status": "completed"
    },
    "tags": []
   },
   "outputs": [
    {
     "name": "stderr",
     "output_type": "stream",
     "text": [
      "/tmp/ipykernel_18/448365884.py:3: SettingWithCopyWarning: \n",
      "A value is trying to be set on a copy of a slice from a DataFrame\n",
      "\n",
      "See the caveats in the documentation: https://pandas.pydata.org/pandas-docs/stable/user_guide/indexing.html#returning-a-view-versus-a-copy\n",
      "  df.drop('Crime_Category',axis=1,inplace=True)\n"
     ]
    }
   ],
   "source": [
    "y=df['Crime_Category']\n",
    "\n",
    "df.drop('Crime_Category',axis=1,inplace=True)"
   ]
  },
  {
   "cell_type": "code",
   "execution_count": 33,
   "id": "cca77e3d",
   "metadata": {
    "execution": {
     "iopub.execute_input": "2024-06-28T09:13:44.273767Z",
     "iopub.status.busy": "2024-06-28T09:13:44.273361Z",
     "iopub.status.idle": "2024-06-28T09:13:44.282413Z",
     "shell.execute_reply": "2024-06-28T09:13:44.281257Z"
    },
    "papermill": {
     "duration": 0.029746,
     "end_time": "2024-06-28T09:13:44.284763",
     "exception": false,
     "start_time": "2024-06-28T09:13:44.255017",
     "status": "completed"
    },
    "tags": []
   },
   "outputs": [
    {
     "name": "stderr",
     "output_type": "stream",
     "text": [
      "/tmp/ipykernel_18/1308723833.py:1: SettingWithCopyWarning: \n",
      "A value is trying to be set on a copy of a slice from a DataFrame\n",
      "\n",
      "See the caveats in the documentation: https://pandas.pydata.org/pandas-docs/stable/user_guide/indexing.html#returning-a-view-versus-a-copy\n",
      "  df.drop('Premise_Code',axis=1,inplace=True)\n"
     ]
    }
   ],
   "source": [
    "df.drop('Premise_Code',axis=1,inplace=True)"
   ]
  },
  {
   "cell_type": "code",
   "execution_count": 34,
   "id": "8c02b72d",
   "metadata": {
    "execution": {
     "iopub.execute_input": "2024-06-28T09:13:44.320523Z",
     "iopub.status.busy": "2024-06-28T09:13:44.320114Z",
     "iopub.status.idle": "2024-06-28T09:13:44.352235Z",
     "shell.execute_reply": "2024-06-28T09:13:44.351058Z"
    },
    "papermill": {
     "duration": 0.053344,
     "end_time": "2024-06-28T09:13:44.355233",
     "exception": false,
     "start_time": "2024-06-28T09:13:44.301889",
     "status": "completed"
    },
    "tags": []
   },
   "outputs": [],
   "source": [
    "from sklearn.model_selection import train_test_split\n",
    "\n",
    "xtrain, xtest ,ytrain , ytest= train_test_split(df , y , test_size=0.2 , random_state=42 , shuffle=True ,stratify = y  )"
   ]
  },
  {
   "cell_type": "code",
   "execution_count": 35,
   "id": "1662c7f8",
   "metadata": {
    "execution": {
     "iopub.execute_input": "2024-06-28T09:13:44.391901Z",
     "iopub.status.busy": "2024-06-28T09:13:44.391503Z",
     "iopub.status.idle": "2024-06-28T09:13:44.397529Z",
     "shell.execute_reply": "2024-06-28T09:13:44.396271Z"
    },
    "papermill": {
     "duration": 0.027186,
     "end_time": "2024-06-28T09:13:44.399846",
     "exception": false,
     "start_time": "2024-06-28T09:13:44.372660",
     "status": "completed"
    },
    "tags": []
   },
   "outputs": [
    {
     "name": "stdout",
     "output_type": "stream",
     "text": [
      "(16000, 12)\n",
      "(16000,)\n",
      "(4000, 12)\n",
      "(4000,)\n"
     ]
    }
   ],
   "source": [
    "print(xtrain.shape) \n",
    "print(ytrain.shape)\n",
    "print(xtest.shape)\n",
    "print(ytest.shape)"
   ]
  },
  {
   "cell_type": "code",
   "execution_count": 36,
   "id": "a7de06a7",
   "metadata": {
    "execution": {
     "iopub.execute_input": "2024-06-28T09:13:44.436369Z",
     "iopub.status.busy": "2024-06-28T09:13:44.435935Z",
     "iopub.status.idle": "2024-06-28T09:13:44.496082Z",
     "shell.execute_reply": "2024-06-28T09:13:44.494801Z"
    },
    "papermill": {
     "duration": 0.081658,
     "end_time": "2024-06-28T09:13:44.498938",
     "exception": false,
     "start_time": "2024-06-28T09:13:44.417280",
     "status": "completed"
    },
    "tags": []
   },
   "outputs": [
    {
     "name": "stdout",
     "output_type": "stream",
     "text": [
      "Dummy train score 0.5833125\n",
      "Dummy predicted train score 1.0\n",
      "Dummy test score 0.58325\n",
      "Dummy predicted test score 1.0\n"
     ]
    }
   ],
   "source": [
    "from sklearn.dummy import DummyClassifier\n",
    "\n",
    "dummy_clf=DummyClassifier(random_state=42 , strategy=\"most_frequent\")\n",
    "dummy_clf.fit(xtrain, ytrain)\n",
    "print('Dummy train score', dummy_clf.score(ytrain,ytrain))\n",
    "print('Dummy predicted train score', dummy_clf.score(xtrain,dummy_clf.predict(xtrain)))\n",
    "\n",
    "print('Dummy test score', dummy_clf.score(xtest, ytest))\n",
    "\n",
    "print('Dummy predicted test score', dummy_clf.score(xtest, dummy_clf.predict(xtest)))"
   ]
  },
  {
   "cell_type": "markdown",
   "id": "dc6d5d87",
   "metadata": {
    "papermill": {
     "duration": 0.017113,
     "end_time": "2024-06-28T09:13:44.533493",
     "exception": false,
     "start_time": "2024-06-28T09:13:44.516380",
     "status": "completed"
    },
    "tags": []
   },
   "source": [
    "Logistic "
   ]
  },
  {
   "cell_type": "code",
   "execution_count": 37,
   "id": "5054d419",
   "metadata": {
    "execution": {
     "iopub.execute_input": "2024-06-28T09:13:44.569820Z",
     "iopub.status.busy": "2024-06-28T09:13:44.569419Z",
     "iopub.status.idle": "2024-06-28T09:13:44.592024Z",
     "shell.execute_reply": "2024-06-28T09:13:44.590724Z"
    },
    "papermill": {
     "duration": 0.043901,
     "end_time": "2024-06-28T09:13:44.594493",
     "exception": false,
     "start_time": "2024-06-28T09:13:44.550592",
     "status": "completed"
    },
    "tags": []
   },
   "outputs": [
    {
     "name": "stdout",
     "output_type": "stream",
     "text": [
      "<class 'pandas.core.frame.DataFrame'>\n",
      "RangeIndex: 20000 entries, 0 to 19999\n",
      "Data columns (total 12 columns):\n",
      " #   Column                     Non-Null Count  Dtype  \n",
      "---  ------                     --------------  -----  \n",
      " 0   Latitude                   20000 non-null  float64\n",
      " 1   Longitude                  20000 non-null  float64\n",
      " 2   reporting_delay_day_count  20000 non-null  int64  \n",
      " 3   day_category               20000 non-null  object \n",
      " 4   Victim_Age                 20000 non-null  float64\n",
      " 5   Victim_Sex                 20000 non-null  object \n",
      " 6   Victim_Descent             20000 non-null  object \n",
      " 7   Weapon_Description         20000 non-null  object \n",
      " 8   Area_ID                    20000 non-null  float64\n",
      " 9   Modus_Operandi             20000 non-null  object \n",
      " 10  Part 1-2                   20000 non-null  float64\n",
      " 11  Status                     20000 non-null  object \n",
      "dtypes: float64(5), int64(1), object(6)\n",
      "memory usage: 1.8+ MB\n"
     ]
    }
   ],
   "source": [
    "df.info()"
   ]
  },
  {
   "cell_type": "code",
   "execution_count": 38,
   "id": "4be747c9",
   "metadata": {
    "execution": {
     "iopub.execute_input": "2024-06-28T09:13:44.630735Z",
     "iopub.status.busy": "2024-06-28T09:13:44.630346Z",
     "iopub.status.idle": "2024-06-28T09:13:44.744141Z",
     "shell.execute_reply": "2024-06-28T09:13:44.742998Z"
    },
    "papermill": {
     "duration": 0.13511,
     "end_time": "2024-06-28T09:13:44.746912",
     "exception": false,
     "start_time": "2024-06-28T09:13:44.611802",
     "status": "completed"
    },
    "tags": []
   },
   "outputs": [],
   "source": [
    "from sklearn.linear_model import LogisticRegression,LogisticRegressionCV\n",
    "from sklearn.pipeline import Pipeline\n",
    "from sklearn.compose import ColumnTransformer"
   ]
  },
  {
   "cell_type": "code",
   "execution_count": 39,
   "id": "b48423c4",
   "metadata": {
    "execution": {
     "iopub.execute_input": "2024-06-28T09:13:44.783116Z",
     "iopub.status.busy": "2024-06-28T09:13:44.782747Z",
     "iopub.status.idle": "2024-06-28T09:13:44.789400Z",
     "shell.execute_reply": "2024-06-28T09:13:44.788251Z"
    },
    "papermill": {
     "duration": 0.027772,
     "end_time": "2024-06-28T09:13:44.791849",
     "exception": false,
     "start_time": "2024-06-28T09:13:44.764077",
     "status": "completed"
    },
    "tags": []
   },
   "outputs": [],
   "source": [
    "from sklearn.base import BaseEstimator, TransformerMixin\n",
    "from sklearn.preprocessing import MultiLabelBinarizer\n",
    "\n",
    "class MultiLabelBinarizerWrapper(BaseEstimator, TransformerMixin):\n",
    "    def __init__(self):\n",
    "        self.mlb = MultiLabelBinarizer()\n",
    "\n",
    "    def fit(self, X, y=None):\n",
    "        self.mlb.fit(X)\n",
    "        return self\n",
    "\n",
    "    def transform(self, X):\n",
    "        return self.mlb.transform(X)"
   ]
  },
  {
   "cell_type": "code",
   "execution_count": 40,
   "id": "d13f0b53",
   "metadata": {
    "execution": {
     "iopub.execute_input": "2024-06-28T09:13:44.830275Z",
     "iopub.status.busy": "2024-06-28T09:13:44.829894Z",
     "iopub.status.idle": "2024-06-28T09:13:44.849116Z",
     "shell.execute_reply": "2024-06-28T09:13:44.847837Z"
    },
    "papermill": {
     "duration": 0.042307,
     "end_time": "2024-06-28T09:13:44.851730",
     "exception": false,
     "start_time": "2024-06-28T09:13:44.809423",
     "status": "completed"
    },
    "tags": []
   },
   "outputs": [],
   "source": [
    "\n",
    "from sklearn.preprocessing import StandardScaler , OneHotEncoder  , MultiLabelBinarizer\n",
    "from sklearn.feature_extraction.text import CountVectorizer\n",
    "ct=ColumnTransformer(transformers=[\n",
    "    \n",
    "    ('numerical_cols' , StandardScaler(),['Latitude','Longitude','reporting_delay_day_count','Victim_Age']),\n",
    "    ('categorical_cols' , OneHotEncoder(handle_unknown='ignore'),['day_category','Victim_Sex','Victim_Descent','Part 1-2','Area_ID','Status','Weapon_Description']),\n",
    "    ('multi_label_binarizer', MultiLabelBinarizerWrapper(), 'Modus_Operandi')\n",
    "])\n",
    "    "
   ]
  },
  {
   "cell_type": "code",
   "execution_count": 41,
   "id": "8118d61a",
   "metadata": {
    "execution": {
     "iopub.execute_input": "2024-06-28T09:13:44.888246Z",
     "iopub.status.busy": "2024-06-28T09:13:44.887848Z",
     "iopub.status.idle": "2024-06-28T09:13:44.896549Z",
     "shell.execute_reply": "2024-06-28T09:13:44.895537Z"
    },
    "papermill": {
     "duration": 0.02967,
     "end_time": "2024-06-28T09:13:44.898730",
     "exception": false,
     "start_time": "2024-06-28T09:13:44.869060",
     "status": "completed"
    },
    "tags": []
   },
   "outputs": [
    {
     "data": {
      "text/plain": [
       "21"
      ]
     },
     "execution_count": 41,
     "metadata": {},
     "output_type": "execute_result"
    }
   ],
   "source": [
    "len(df['Area_ID'].value_counts())"
   ]
  },
  {
   "cell_type": "code",
   "execution_count": 42,
   "id": "06ba4364",
   "metadata": {
    "execution": {
     "iopub.execute_input": "2024-06-28T09:13:44.935445Z",
     "iopub.status.busy": "2024-06-28T09:13:44.934999Z",
     "iopub.status.idle": "2024-06-28T09:13:44.940174Z",
     "shell.execute_reply": "2024-06-28T09:13:44.939158Z"
    },
    "papermill": {
     "duration": 0.025925,
     "end_time": "2024-06-28T09:13:44.942615",
     "exception": false,
     "start_time": "2024-06-28T09:13:44.916690",
     "status": "completed"
    },
    "tags": []
   },
   "outputs": [],
   "source": [
    "pipe_logistic = Pipeline(steps=[('ct',ct),('logistic_reg',LogisticRegression(solver='saga',C=0.1,warm_start=True, max_iter=1500 ,random_state=42))])"
   ]
  },
  {
   "cell_type": "code",
   "execution_count": 43,
   "id": "093713b3",
   "metadata": {
    "execution": {
     "iopub.execute_input": "2024-06-28T09:13:44.978940Z",
     "iopub.status.busy": "2024-06-28T09:13:44.978548Z",
     "iopub.status.idle": "2024-06-28T09:14:03.846654Z",
     "shell.execute_reply": "2024-06-28T09:14:03.845524Z"
    },
    "papermill": {
     "duration": 18.889146,
     "end_time": "2024-06-28T09:14:03.849054",
     "exception": false,
     "start_time": "2024-06-28T09:13:44.959908",
     "status": "completed"
    },
    "tags": []
   },
   "outputs": [
    {
     "data": {
      "text/html": [
       "<style>#sk-container-id-1 {color: black;background-color: white;}#sk-container-id-1 pre{padding: 0;}#sk-container-id-1 div.sk-toggleable {background-color: white;}#sk-container-id-1 label.sk-toggleable__label {cursor: pointer;display: block;width: 100%;margin-bottom: 0;padding: 0.3em;box-sizing: border-box;text-align: center;}#sk-container-id-1 label.sk-toggleable__label-arrow:before {content: \"▸\";float: left;margin-right: 0.25em;color: #696969;}#sk-container-id-1 label.sk-toggleable__label-arrow:hover:before {color: black;}#sk-container-id-1 div.sk-estimator:hover label.sk-toggleable__label-arrow:before {color: black;}#sk-container-id-1 div.sk-toggleable__content {max-height: 0;max-width: 0;overflow: hidden;text-align: left;background-color: #f0f8ff;}#sk-container-id-1 div.sk-toggleable__content pre {margin: 0.2em;color: black;border-radius: 0.25em;background-color: #f0f8ff;}#sk-container-id-1 input.sk-toggleable__control:checked~div.sk-toggleable__content {max-height: 200px;max-width: 100%;overflow: auto;}#sk-container-id-1 input.sk-toggleable__control:checked~label.sk-toggleable__label-arrow:before {content: \"▾\";}#sk-container-id-1 div.sk-estimator input.sk-toggleable__control:checked~label.sk-toggleable__label {background-color: #d4ebff;}#sk-container-id-1 div.sk-label input.sk-toggleable__control:checked~label.sk-toggleable__label {background-color: #d4ebff;}#sk-container-id-1 input.sk-hidden--visually {border: 0;clip: rect(1px 1px 1px 1px);clip: rect(1px, 1px, 1px, 1px);height: 1px;margin: -1px;overflow: hidden;padding: 0;position: absolute;width: 1px;}#sk-container-id-1 div.sk-estimator {font-family: monospace;background-color: #f0f8ff;border: 1px dotted black;border-radius: 0.25em;box-sizing: border-box;margin-bottom: 0.5em;}#sk-container-id-1 div.sk-estimator:hover {background-color: #d4ebff;}#sk-container-id-1 div.sk-parallel-item::after {content: \"\";width: 100%;border-bottom: 1px solid gray;flex-grow: 1;}#sk-container-id-1 div.sk-label:hover label.sk-toggleable__label {background-color: #d4ebff;}#sk-container-id-1 div.sk-serial::before {content: \"\";position: absolute;border-left: 1px solid gray;box-sizing: border-box;top: 0;bottom: 0;left: 50%;z-index: 0;}#sk-container-id-1 div.sk-serial {display: flex;flex-direction: column;align-items: center;background-color: white;padding-right: 0.2em;padding-left: 0.2em;position: relative;}#sk-container-id-1 div.sk-item {position: relative;z-index: 1;}#sk-container-id-1 div.sk-parallel {display: flex;align-items: stretch;justify-content: center;background-color: white;position: relative;}#sk-container-id-1 div.sk-item::before, #sk-container-id-1 div.sk-parallel-item::before {content: \"\";position: absolute;border-left: 1px solid gray;box-sizing: border-box;top: 0;bottom: 0;left: 50%;z-index: -1;}#sk-container-id-1 div.sk-parallel-item {display: flex;flex-direction: column;z-index: 1;position: relative;background-color: white;}#sk-container-id-1 div.sk-parallel-item:first-child::after {align-self: flex-end;width: 50%;}#sk-container-id-1 div.sk-parallel-item:last-child::after {align-self: flex-start;width: 50%;}#sk-container-id-1 div.sk-parallel-item:only-child::after {width: 0;}#sk-container-id-1 div.sk-dashed-wrapped {border: 1px dashed gray;margin: 0 0.4em 0.5em 0.4em;box-sizing: border-box;padding-bottom: 0.4em;background-color: white;}#sk-container-id-1 div.sk-label label {font-family: monospace;font-weight: bold;display: inline-block;line-height: 1.2em;}#sk-container-id-1 div.sk-label-container {text-align: center;}#sk-container-id-1 div.sk-container {/* jupyter's `normalize.less` sets `[hidden] { display: none; }` but bootstrap.min.css set `[hidden] { display: none !important; }` so we also need the `!important` here to be able to override the default hidden behavior on the sphinx rendered scikit-learn.org. See: https://github.com/scikit-learn/scikit-learn/issues/21755 */display: inline-block !important;position: relative;}#sk-container-id-1 div.sk-text-repr-fallback {display: none;}</style><div id=\"sk-container-id-1\" class=\"sk-top-container\"><div class=\"sk-text-repr-fallback\"><pre>Pipeline(steps=[(&#x27;ct&#x27;,\n",
       "                 ColumnTransformer(transformers=[(&#x27;numerical_cols&#x27;,\n",
       "                                                  StandardScaler(),\n",
       "                                                  [&#x27;Latitude&#x27;, &#x27;Longitude&#x27;,\n",
       "                                                   &#x27;reporting_delay_day_count&#x27;,\n",
       "                                                   &#x27;Victim_Age&#x27;]),\n",
       "                                                 (&#x27;categorical_cols&#x27;,\n",
       "                                                  OneHotEncoder(handle_unknown=&#x27;ignore&#x27;),\n",
       "                                                  [&#x27;day_category&#x27;, &#x27;Victim_Sex&#x27;,\n",
       "                                                   &#x27;Victim_Descent&#x27;, &#x27;Part 1-2&#x27;,\n",
       "                                                   &#x27;Area_ID&#x27;, &#x27;Status&#x27;,\n",
       "                                                   &#x27;Weapon_Description&#x27;]),\n",
       "                                                 (&#x27;multi_label_binarizer&#x27;,\n",
       "                                                  MultiLabelBinarizerWrapper(),\n",
       "                                                  &#x27;Modus_Operandi&#x27;)])),\n",
       "                (&#x27;logistic_reg&#x27;,\n",
       "                 LogisticRegression(C=0.1, max_iter=1500, random_state=42,\n",
       "                                    solver=&#x27;saga&#x27;, warm_start=True))])</pre><b>In a Jupyter environment, please rerun this cell to show the HTML representation or trust the notebook. <br />On GitHub, the HTML representation is unable to render, please try loading this page with nbviewer.org.</b></div><div class=\"sk-container\" hidden><div class=\"sk-item sk-dashed-wrapped\"><div class=\"sk-label-container\"><div class=\"sk-label sk-toggleable\"><input class=\"sk-toggleable__control sk-hidden--visually\" id=\"sk-estimator-id-1\" type=\"checkbox\" ><label for=\"sk-estimator-id-1\" class=\"sk-toggleable__label sk-toggleable__label-arrow\">Pipeline</label><div class=\"sk-toggleable__content\"><pre>Pipeline(steps=[(&#x27;ct&#x27;,\n",
       "                 ColumnTransformer(transformers=[(&#x27;numerical_cols&#x27;,\n",
       "                                                  StandardScaler(),\n",
       "                                                  [&#x27;Latitude&#x27;, &#x27;Longitude&#x27;,\n",
       "                                                   &#x27;reporting_delay_day_count&#x27;,\n",
       "                                                   &#x27;Victim_Age&#x27;]),\n",
       "                                                 (&#x27;categorical_cols&#x27;,\n",
       "                                                  OneHotEncoder(handle_unknown=&#x27;ignore&#x27;),\n",
       "                                                  [&#x27;day_category&#x27;, &#x27;Victim_Sex&#x27;,\n",
       "                                                   &#x27;Victim_Descent&#x27;, &#x27;Part 1-2&#x27;,\n",
       "                                                   &#x27;Area_ID&#x27;, &#x27;Status&#x27;,\n",
       "                                                   &#x27;Weapon_Description&#x27;]),\n",
       "                                                 (&#x27;multi_label_binarizer&#x27;,\n",
       "                                                  MultiLabelBinarizerWrapper(),\n",
       "                                                  &#x27;Modus_Operandi&#x27;)])),\n",
       "                (&#x27;logistic_reg&#x27;,\n",
       "                 LogisticRegression(C=0.1, max_iter=1500, random_state=42,\n",
       "                                    solver=&#x27;saga&#x27;, warm_start=True))])</pre></div></div></div><div class=\"sk-serial\"><div class=\"sk-item sk-dashed-wrapped\"><div class=\"sk-label-container\"><div class=\"sk-label sk-toggleable\"><input class=\"sk-toggleable__control sk-hidden--visually\" id=\"sk-estimator-id-2\" type=\"checkbox\" ><label for=\"sk-estimator-id-2\" class=\"sk-toggleable__label sk-toggleable__label-arrow\">ct: ColumnTransformer</label><div class=\"sk-toggleable__content\"><pre>ColumnTransformer(transformers=[(&#x27;numerical_cols&#x27;, StandardScaler(),\n",
       "                                 [&#x27;Latitude&#x27;, &#x27;Longitude&#x27;,\n",
       "                                  &#x27;reporting_delay_day_count&#x27;, &#x27;Victim_Age&#x27;]),\n",
       "                                (&#x27;categorical_cols&#x27;,\n",
       "                                 OneHotEncoder(handle_unknown=&#x27;ignore&#x27;),\n",
       "                                 [&#x27;day_category&#x27;, &#x27;Victim_Sex&#x27;,\n",
       "                                  &#x27;Victim_Descent&#x27;, &#x27;Part 1-2&#x27;, &#x27;Area_ID&#x27;,\n",
       "                                  &#x27;Status&#x27;, &#x27;Weapon_Description&#x27;]),\n",
       "                                (&#x27;multi_label_binarizer&#x27;,\n",
       "                                 MultiLabelBinarizerWrapper(),\n",
       "                                 &#x27;Modus_Operandi&#x27;)])</pre></div></div></div><div class=\"sk-parallel\"><div class=\"sk-parallel-item\"><div class=\"sk-item\"><div class=\"sk-label-container\"><div class=\"sk-label sk-toggleable\"><input class=\"sk-toggleable__control sk-hidden--visually\" id=\"sk-estimator-id-3\" type=\"checkbox\" ><label for=\"sk-estimator-id-3\" class=\"sk-toggleable__label sk-toggleable__label-arrow\">numerical_cols</label><div class=\"sk-toggleable__content\"><pre>[&#x27;Latitude&#x27;, &#x27;Longitude&#x27;, &#x27;reporting_delay_day_count&#x27;, &#x27;Victim_Age&#x27;]</pre></div></div></div><div class=\"sk-serial\"><div class=\"sk-item\"><div class=\"sk-estimator sk-toggleable\"><input class=\"sk-toggleable__control sk-hidden--visually\" id=\"sk-estimator-id-4\" type=\"checkbox\" ><label for=\"sk-estimator-id-4\" class=\"sk-toggleable__label sk-toggleable__label-arrow\">StandardScaler</label><div class=\"sk-toggleable__content\"><pre>StandardScaler()</pre></div></div></div></div></div></div><div class=\"sk-parallel-item\"><div class=\"sk-item\"><div class=\"sk-label-container\"><div class=\"sk-label sk-toggleable\"><input class=\"sk-toggleable__control sk-hidden--visually\" id=\"sk-estimator-id-5\" type=\"checkbox\" ><label for=\"sk-estimator-id-5\" class=\"sk-toggleable__label sk-toggleable__label-arrow\">categorical_cols</label><div class=\"sk-toggleable__content\"><pre>[&#x27;day_category&#x27;, &#x27;Victim_Sex&#x27;, &#x27;Victim_Descent&#x27;, &#x27;Part 1-2&#x27;, &#x27;Area_ID&#x27;, &#x27;Status&#x27;, &#x27;Weapon_Description&#x27;]</pre></div></div></div><div class=\"sk-serial\"><div class=\"sk-item\"><div class=\"sk-estimator sk-toggleable\"><input class=\"sk-toggleable__control sk-hidden--visually\" id=\"sk-estimator-id-6\" type=\"checkbox\" ><label for=\"sk-estimator-id-6\" class=\"sk-toggleable__label sk-toggleable__label-arrow\">OneHotEncoder</label><div class=\"sk-toggleable__content\"><pre>OneHotEncoder(handle_unknown=&#x27;ignore&#x27;)</pre></div></div></div></div></div></div><div class=\"sk-parallel-item\"><div class=\"sk-item\"><div class=\"sk-label-container\"><div class=\"sk-label sk-toggleable\"><input class=\"sk-toggleable__control sk-hidden--visually\" id=\"sk-estimator-id-7\" type=\"checkbox\" ><label for=\"sk-estimator-id-7\" class=\"sk-toggleable__label sk-toggleable__label-arrow\">multi_label_binarizer</label><div class=\"sk-toggleable__content\"><pre>Modus_Operandi</pre></div></div></div><div class=\"sk-serial\"><div class=\"sk-item\"><div class=\"sk-estimator sk-toggleable\"><input class=\"sk-toggleable__control sk-hidden--visually\" id=\"sk-estimator-id-8\" type=\"checkbox\" ><label for=\"sk-estimator-id-8\" class=\"sk-toggleable__label sk-toggleable__label-arrow\">MultiLabelBinarizerWrapper</label><div class=\"sk-toggleable__content\"><pre>MultiLabelBinarizerWrapper()</pre></div></div></div></div></div></div></div></div><div class=\"sk-item\"><div class=\"sk-estimator sk-toggleable\"><input class=\"sk-toggleable__control sk-hidden--visually\" id=\"sk-estimator-id-9\" type=\"checkbox\" ><label for=\"sk-estimator-id-9\" class=\"sk-toggleable__label sk-toggleable__label-arrow\">LogisticRegression</label><div class=\"sk-toggleable__content\"><pre>LogisticRegression(C=0.1, max_iter=1500, random_state=42, solver=&#x27;saga&#x27;,\n",
       "                   warm_start=True)</pre></div></div></div></div></div></div></div>"
      ],
      "text/plain": [
       "Pipeline(steps=[('ct',\n",
       "                 ColumnTransformer(transformers=[('numerical_cols',\n",
       "                                                  StandardScaler(),\n",
       "                                                  ['Latitude', 'Longitude',\n",
       "                                                   'reporting_delay_day_count',\n",
       "                                                   'Victim_Age']),\n",
       "                                                 ('categorical_cols',\n",
       "                                                  OneHotEncoder(handle_unknown='ignore'),\n",
       "                                                  ['day_category', 'Victim_Sex',\n",
       "                                                   'Victim_Descent', 'Part 1-2',\n",
       "                                                   'Area_ID', 'Status',\n",
       "                                                   'Weapon_Description']),\n",
       "                                                 ('multi_label_binarizer',\n",
       "                                                  MultiLabelBinarizerWrapper(),\n",
       "                                                  'Modus_Operandi')])),\n",
       "                ('logistic_reg',\n",
       "                 LogisticRegression(C=0.1, max_iter=1500, random_state=42,\n",
       "                                    solver='saga', warm_start=True))])"
      ]
     },
     "execution_count": 43,
     "metadata": {},
     "output_type": "execute_result"
    }
   ],
   "source": [
    "pipe_logistic.fit(xtrain,ytrain)"
   ]
  },
  {
   "cell_type": "code",
   "execution_count": 44,
   "id": "c39fd754",
   "metadata": {
    "execution": {
     "iopub.execute_input": "2024-06-28T09:14:03.887907Z",
     "iopub.status.busy": "2024-06-28T09:14:03.887512Z",
     "iopub.status.idle": "2024-06-28T09:14:03.940896Z",
     "shell.execute_reply": "2024-06-28T09:14:03.939371Z"
    },
    "papermill": {
     "duration": 0.076653,
     "end_time": "2024-06-28T09:14:03.944278",
     "exception": false,
     "start_time": "2024-06-28T09:14:03.867625",
     "status": "completed"
    },
    "tags": []
   },
   "outputs": [
    {
     "data": {
      "text/plain": [
       "0.81225"
      ]
     },
     "execution_count": 44,
     "metadata": {},
     "output_type": "execute_result"
    }
   ],
   "source": [
    "pipe_logistic.score(xtest,ytest)"
   ]
  },
  {
   "cell_type": "code",
   "execution_count": 45,
   "id": "48cc6438",
   "metadata": {
    "execution": {
     "iopub.execute_input": "2024-06-28T09:14:04.009371Z",
     "iopub.status.busy": "2024-06-28T09:14:04.008787Z",
     "iopub.status.idle": "2024-06-28T09:14:04.016891Z",
     "shell.execute_reply": "2024-06-28T09:14:04.015536Z"
    },
    "papermill": {
     "duration": 0.045049,
     "end_time": "2024-06-28T09:14:04.019882",
     "exception": false,
     "start_time": "2024-06-28T09:14:03.974833",
     "status": "completed"
    },
    "tags": []
   },
   "outputs": [],
   "source": [
    "from sklearn.metrics import make_scorer ,f1_score\n",
    "logCV_scorer=make_scorer(f1_score , average='auto')\n",
    "pipe_logistic_multiclass = Pipeline(steps=[('ct',ct),('logistic_reg',LogisticRegressionCV(cv=3,penalty='l2',solver='saga',multi_class='multinomial',Cs=[0.1, 0.5, 1] ,max_iter=3000 ,random_state=42))])"
   ]
  },
  {
   "cell_type": "code",
   "execution_count": 46,
   "id": "21714ed9",
   "metadata": {
    "execution": {
     "iopub.execute_input": "2024-06-28T09:14:04.069643Z",
     "iopub.status.busy": "2024-06-28T09:14:04.069202Z",
     "iopub.status.idle": "2024-06-28T09:16:20.690477Z",
     "shell.execute_reply": "2024-06-28T09:16:20.689358Z"
    },
    "papermill": {
     "duration": 136.662235,
     "end_time": "2024-06-28T09:16:20.711925",
     "exception": false,
     "start_time": "2024-06-28T09:14:04.049690",
     "status": "completed"
    },
    "tags": []
   },
   "outputs": [
    {
     "data": {
      "text/html": [
       "<style>#sk-container-id-2 {color: black;background-color: white;}#sk-container-id-2 pre{padding: 0;}#sk-container-id-2 div.sk-toggleable {background-color: white;}#sk-container-id-2 label.sk-toggleable__label {cursor: pointer;display: block;width: 100%;margin-bottom: 0;padding: 0.3em;box-sizing: border-box;text-align: center;}#sk-container-id-2 label.sk-toggleable__label-arrow:before {content: \"▸\";float: left;margin-right: 0.25em;color: #696969;}#sk-container-id-2 label.sk-toggleable__label-arrow:hover:before {color: black;}#sk-container-id-2 div.sk-estimator:hover label.sk-toggleable__label-arrow:before {color: black;}#sk-container-id-2 div.sk-toggleable__content {max-height: 0;max-width: 0;overflow: hidden;text-align: left;background-color: #f0f8ff;}#sk-container-id-2 div.sk-toggleable__content pre {margin: 0.2em;color: black;border-radius: 0.25em;background-color: #f0f8ff;}#sk-container-id-2 input.sk-toggleable__control:checked~div.sk-toggleable__content {max-height: 200px;max-width: 100%;overflow: auto;}#sk-container-id-2 input.sk-toggleable__control:checked~label.sk-toggleable__label-arrow:before {content: \"▾\";}#sk-container-id-2 div.sk-estimator input.sk-toggleable__control:checked~label.sk-toggleable__label {background-color: #d4ebff;}#sk-container-id-2 div.sk-label input.sk-toggleable__control:checked~label.sk-toggleable__label {background-color: #d4ebff;}#sk-container-id-2 input.sk-hidden--visually {border: 0;clip: rect(1px 1px 1px 1px);clip: rect(1px, 1px, 1px, 1px);height: 1px;margin: -1px;overflow: hidden;padding: 0;position: absolute;width: 1px;}#sk-container-id-2 div.sk-estimator {font-family: monospace;background-color: #f0f8ff;border: 1px dotted black;border-radius: 0.25em;box-sizing: border-box;margin-bottom: 0.5em;}#sk-container-id-2 div.sk-estimator:hover {background-color: #d4ebff;}#sk-container-id-2 div.sk-parallel-item::after {content: \"\";width: 100%;border-bottom: 1px solid gray;flex-grow: 1;}#sk-container-id-2 div.sk-label:hover label.sk-toggleable__label {background-color: #d4ebff;}#sk-container-id-2 div.sk-serial::before {content: \"\";position: absolute;border-left: 1px solid gray;box-sizing: border-box;top: 0;bottom: 0;left: 50%;z-index: 0;}#sk-container-id-2 div.sk-serial {display: flex;flex-direction: column;align-items: center;background-color: white;padding-right: 0.2em;padding-left: 0.2em;position: relative;}#sk-container-id-2 div.sk-item {position: relative;z-index: 1;}#sk-container-id-2 div.sk-parallel {display: flex;align-items: stretch;justify-content: center;background-color: white;position: relative;}#sk-container-id-2 div.sk-item::before, #sk-container-id-2 div.sk-parallel-item::before {content: \"\";position: absolute;border-left: 1px solid gray;box-sizing: border-box;top: 0;bottom: 0;left: 50%;z-index: -1;}#sk-container-id-2 div.sk-parallel-item {display: flex;flex-direction: column;z-index: 1;position: relative;background-color: white;}#sk-container-id-2 div.sk-parallel-item:first-child::after {align-self: flex-end;width: 50%;}#sk-container-id-2 div.sk-parallel-item:last-child::after {align-self: flex-start;width: 50%;}#sk-container-id-2 div.sk-parallel-item:only-child::after {width: 0;}#sk-container-id-2 div.sk-dashed-wrapped {border: 1px dashed gray;margin: 0 0.4em 0.5em 0.4em;box-sizing: border-box;padding-bottom: 0.4em;background-color: white;}#sk-container-id-2 div.sk-label label {font-family: monospace;font-weight: bold;display: inline-block;line-height: 1.2em;}#sk-container-id-2 div.sk-label-container {text-align: center;}#sk-container-id-2 div.sk-container {/* jupyter's `normalize.less` sets `[hidden] { display: none; }` but bootstrap.min.css set `[hidden] { display: none !important; }` so we also need the `!important` here to be able to override the default hidden behavior on the sphinx rendered scikit-learn.org. See: https://github.com/scikit-learn/scikit-learn/issues/21755 */display: inline-block !important;position: relative;}#sk-container-id-2 div.sk-text-repr-fallback {display: none;}</style><div id=\"sk-container-id-2\" class=\"sk-top-container\"><div class=\"sk-text-repr-fallback\"><pre>Pipeline(steps=[(&#x27;ct&#x27;,\n",
       "                 ColumnTransformer(transformers=[(&#x27;numerical_cols&#x27;,\n",
       "                                                  StandardScaler(),\n",
       "                                                  [&#x27;Latitude&#x27;, &#x27;Longitude&#x27;,\n",
       "                                                   &#x27;reporting_delay_day_count&#x27;,\n",
       "                                                   &#x27;Victim_Age&#x27;]),\n",
       "                                                 (&#x27;categorical_cols&#x27;,\n",
       "                                                  OneHotEncoder(handle_unknown=&#x27;ignore&#x27;),\n",
       "                                                  [&#x27;day_category&#x27;, &#x27;Victim_Sex&#x27;,\n",
       "                                                   &#x27;Victim_Descent&#x27;, &#x27;Part 1-2&#x27;,\n",
       "                                                   &#x27;Area_ID&#x27;, &#x27;Status&#x27;,\n",
       "                                                   &#x27;Weapon_Description&#x27;]),\n",
       "                                                 (&#x27;multi_label_binarizer&#x27;,\n",
       "                                                  MultiLabelBinarizerWrapper(),\n",
       "                                                  &#x27;Modus_Operandi&#x27;)])),\n",
       "                (&#x27;logistic_reg&#x27;,\n",
       "                 LogisticRegressionCV(Cs=[0.1, 0.5, 1], cv=3, max_iter=3000,\n",
       "                                      multi_class=&#x27;multinomial&#x27;,\n",
       "                                      random_state=42, solver=&#x27;saga&#x27;))])</pre><b>In a Jupyter environment, please rerun this cell to show the HTML representation or trust the notebook. <br />On GitHub, the HTML representation is unable to render, please try loading this page with nbviewer.org.</b></div><div class=\"sk-container\" hidden><div class=\"sk-item sk-dashed-wrapped\"><div class=\"sk-label-container\"><div class=\"sk-label sk-toggleable\"><input class=\"sk-toggleable__control sk-hidden--visually\" id=\"sk-estimator-id-10\" type=\"checkbox\" ><label for=\"sk-estimator-id-10\" class=\"sk-toggleable__label sk-toggleable__label-arrow\">Pipeline</label><div class=\"sk-toggleable__content\"><pre>Pipeline(steps=[(&#x27;ct&#x27;,\n",
       "                 ColumnTransformer(transformers=[(&#x27;numerical_cols&#x27;,\n",
       "                                                  StandardScaler(),\n",
       "                                                  [&#x27;Latitude&#x27;, &#x27;Longitude&#x27;,\n",
       "                                                   &#x27;reporting_delay_day_count&#x27;,\n",
       "                                                   &#x27;Victim_Age&#x27;]),\n",
       "                                                 (&#x27;categorical_cols&#x27;,\n",
       "                                                  OneHotEncoder(handle_unknown=&#x27;ignore&#x27;),\n",
       "                                                  [&#x27;day_category&#x27;, &#x27;Victim_Sex&#x27;,\n",
       "                                                   &#x27;Victim_Descent&#x27;, &#x27;Part 1-2&#x27;,\n",
       "                                                   &#x27;Area_ID&#x27;, &#x27;Status&#x27;,\n",
       "                                                   &#x27;Weapon_Description&#x27;]),\n",
       "                                                 (&#x27;multi_label_binarizer&#x27;,\n",
       "                                                  MultiLabelBinarizerWrapper(),\n",
       "                                                  &#x27;Modus_Operandi&#x27;)])),\n",
       "                (&#x27;logistic_reg&#x27;,\n",
       "                 LogisticRegressionCV(Cs=[0.1, 0.5, 1], cv=3, max_iter=3000,\n",
       "                                      multi_class=&#x27;multinomial&#x27;,\n",
       "                                      random_state=42, solver=&#x27;saga&#x27;))])</pre></div></div></div><div class=\"sk-serial\"><div class=\"sk-item sk-dashed-wrapped\"><div class=\"sk-label-container\"><div class=\"sk-label sk-toggleable\"><input class=\"sk-toggleable__control sk-hidden--visually\" id=\"sk-estimator-id-11\" type=\"checkbox\" ><label for=\"sk-estimator-id-11\" class=\"sk-toggleable__label sk-toggleable__label-arrow\">ct: ColumnTransformer</label><div class=\"sk-toggleable__content\"><pre>ColumnTransformer(transformers=[(&#x27;numerical_cols&#x27;, StandardScaler(),\n",
       "                                 [&#x27;Latitude&#x27;, &#x27;Longitude&#x27;,\n",
       "                                  &#x27;reporting_delay_day_count&#x27;, &#x27;Victim_Age&#x27;]),\n",
       "                                (&#x27;categorical_cols&#x27;,\n",
       "                                 OneHotEncoder(handle_unknown=&#x27;ignore&#x27;),\n",
       "                                 [&#x27;day_category&#x27;, &#x27;Victim_Sex&#x27;,\n",
       "                                  &#x27;Victim_Descent&#x27;, &#x27;Part 1-2&#x27;, &#x27;Area_ID&#x27;,\n",
       "                                  &#x27;Status&#x27;, &#x27;Weapon_Description&#x27;]),\n",
       "                                (&#x27;multi_label_binarizer&#x27;,\n",
       "                                 MultiLabelBinarizerWrapper(),\n",
       "                                 &#x27;Modus_Operandi&#x27;)])</pre></div></div></div><div class=\"sk-parallel\"><div class=\"sk-parallel-item\"><div class=\"sk-item\"><div class=\"sk-label-container\"><div class=\"sk-label sk-toggleable\"><input class=\"sk-toggleable__control sk-hidden--visually\" id=\"sk-estimator-id-12\" type=\"checkbox\" ><label for=\"sk-estimator-id-12\" class=\"sk-toggleable__label sk-toggleable__label-arrow\">numerical_cols</label><div class=\"sk-toggleable__content\"><pre>[&#x27;Latitude&#x27;, &#x27;Longitude&#x27;, &#x27;reporting_delay_day_count&#x27;, &#x27;Victim_Age&#x27;]</pre></div></div></div><div class=\"sk-serial\"><div class=\"sk-item\"><div class=\"sk-estimator sk-toggleable\"><input class=\"sk-toggleable__control sk-hidden--visually\" id=\"sk-estimator-id-13\" type=\"checkbox\" ><label for=\"sk-estimator-id-13\" class=\"sk-toggleable__label sk-toggleable__label-arrow\">StandardScaler</label><div class=\"sk-toggleable__content\"><pre>StandardScaler()</pre></div></div></div></div></div></div><div class=\"sk-parallel-item\"><div class=\"sk-item\"><div class=\"sk-label-container\"><div class=\"sk-label sk-toggleable\"><input class=\"sk-toggleable__control sk-hidden--visually\" id=\"sk-estimator-id-14\" type=\"checkbox\" ><label for=\"sk-estimator-id-14\" class=\"sk-toggleable__label sk-toggleable__label-arrow\">categorical_cols</label><div class=\"sk-toggleable__content\"><pre>[&#x27;day_category&#x27;, &#x27;Victim_Sex&#x27;, &#x27;Victim_Descent&#x27;, &#x27;Part 1-2&#x27;, &#x27;Area_ID&#x27;, &#x27;Status&#x27;, &#x27;Weapon_Description&#x27;]</pre></div></div></div><div class=\"sk-serial\"><div class=\"sk-item\"><div class=\"sk-estimator sk-toggleable\"><input class=\"sk-toggleable__control sk-hidden--visually\" id=\"sk-estimator-id-15\" type=\"checkbox\" ><label for=\"sk-estimator-id-15\" class=\"sk-toggleable__label sk-toggleable__label-arrow\">OneHotEncoder</label><div class=\"sk-toggleable__content\"><pre>OneHotEncoder(handle_unknown=&#x27;ignore&#x27;)</pre></div></div></div></div></div></div><div class=\"sk-parallel-item\"><div class=\"sk-item\"><div class=\"sk-label-container\"><div class=\"sk-label sk-toggleable\"><input class=\"sk-toggleable__control sk-hidden--visually\" id=\"sk-estimator-id-16\" type=\"checkbox\" ><label for=\"sk-estimator-id-16\" class=\"sk-toggleable__label sk-toggleable__label-arrow\">multi_label_binarizer</label><div class=\"sk-toggleable__content\"><pre>Modus_Operandi</pre></div></div></div><div class=\"sk-serial\"><div class=\"sk-item\"><div class=\"sk-estimator sk-toggleable\"><input class=\"sk-toggleable__control sk-hidden--visually\" id=\"sk-estimator-id-17\" type=\"checkbox\" ><label for=\"sk-estimator-id-17\" class=\"sk-toggleable__label sk-toggleable__label-arrow\">MultiLabelBinarizerWrapper</label><div class=\"sk-toggleable__content\"><pre>MultiLabelBinarizerWrapper()</pre></div></div></div></div></div></div></div></div><div class=\"sk-item\"><div class=\"sk-estimator sk-toggleable\"><input class=\"sk-toggleable__control sk-hidden--visually\" id=\"sk-estimator-id-18\" type=\"checkbox\" ><label for=\"sk-estimator-id-18\" class=\"sk-toggleable__label sk-toggleable__label-arrow\">LogisticRegressionCV</label><div class=\"sk-toggleable__content\"><pre>LogisticRegressionCV(Cs=[0.1, 0.5, 1], cv=3, max_iter=3000,\n",
       "                     multi_class=&#x27;multinomial&#x27;, random_state=42, solver=&#x27;saga&#x27;)</pre></div></div></div></div></div></div></div>"
      ],
      "text/plain": [
       "Pipeline(steps=[('ct',\n",
       "                 ColumnTransformer(transformers=[('numerical_cols',\n",
       "                                                  StandardScaler(),\n",
       "                                                  ['Latitude', 'Longitude',\n",
       "                                                   'reporting_delay_day_count',\n",
       "                                                   'Victim_Age']),\n",
       "                                                 ('categorical_cols',\n",
       "                                                  OneHotEncoder(handle_unknown='ignore'),\n",
       "                                                  ['day_category', 'Victim_Sex',\n",
       "                                                   'Victim_Descent', 'Part 1-2',\n",
       "                                                   'Area_ID', 'Status',\n",
       "                                                   'Weapon_Description']),\n",
       "                                                 ('multi_label_binarizer',\n",
       "                                                  MultiLabelBinarizerWrapper(),\n",
       "                                                  'Modus_Operandi')])),\n",
       "                ('logistic_reg',\n",
       "                 LogisticRegressionCV(Cs=[0.1, 0.5, 1], cv=3, max_iter=3000,\n",
       "                                      multi_class='multinomial',\n",
       "                                      random_state=42, solver='saga'))])"
      ]
     },
     "execution_count": 46,
     "metadata": {},
     "output_type": "execute_result"
    }
   ],
   "source": [
    "pipe_logistic_multiclass.fit(xtrain,ytrain)"
   ]
  },
  {
   "cell_type": "code",
   "execution_count": 47,
   "id": "9bcd190d",
   "metadata": {
    "execution": {
     "iopub.execute_input": "2024-06-28T09:16:20.750789Z",
     "iopub.status.busy": "2024-06-28T09:16:20.750287Z",
     "iopub.status.idle": "2024-06-28T09:16:20.894285Z",
     "shell.execute_reply": "2024-06-28T09:16:20.893052Z"
    },
    "papermill": {
     "duration": 0.166901,
     "end_time": "2024-06-28T09:16:20.897413",
     "exception": false,
     "start_time": "2024-06-28T09:16:20.730512",
     "status": "completed"
    },
    "tags": []
   },
   "outputs": [
    {
     "data": {
      "text/plain": [
       "0.8201875"
      ]
     },
     "execution_count": 47,
     "metadata": {},
     "output_type": "execute_result"
    }
   ],
   "source": [
    "pipe_logistic_multiclass.score(xtrain,ytrain)"
   ]
  },
  {
   "cell_type": "code",
   "execution_count": 48,
   "id": "2921d5f1",
   "metadata": {
    "execution": {
     "iopub.execute_input": "2024-06-28T09:16:20.962013Z",
     "iopub.status.busy": "2024-06-28T09:16:20.961490Z",
     "iopub.status.idle": "2024-06-28T09:16:21.011272Z",
     "shell.execute_reply": "2024-06-28T09:16:21.010137Z"
    },
    "papermill": {
     "duration": 0.084844,
     "end_time": "2024-06-28T09:16:21.013856",
     "exception": false,
     "start_time": "2024-06-28T09:16:20.929012",
     "status": "completed"
    },
    "tags": []
   },
   "outputs": [
    {
     "data": {
      "text/plain": [
       "0.8115"
      ]
     },
     "execution_count": 48,
     "metadata": {},
     "output_type": "execute_result"
    }
   ],
   "source": [
    "pipe_logistic_multiclass.score(xtest,ytest)"
   ]
  },
  {
   "cell_type": "code",
   "execution_count": 49,
   "id": "0de59cb2",
   "metadata": {
    "execution": {
     "iopub.execute_input": "2024-06-28T09:16:21.078460Z",
     "iopub.status.busy": "2024-06-28T09:16:21.077939Z",
     "iopub.status.idle": "2024-06-28T09:16:21.086264Z",
     "shell.execute_reply": "2024-06-28T09:16:21.085136Z"
    },
    "papermill": {
     "duration": 0.044267,
     "end_time": "2024-06-28T09:16:21.089008",
     "exception": false,
     "start_time": "2024-06-28T09:16:21.044741",
     "status": "completed"
    },
    "tags": []
   },
   "outputs": [],
   "source": [
    "from sklearn.model_selection import GridSearchCV\n",
    "grid_logistic_estimator=Pipeline(steps=[('ct',ct),('logistic',LogisticRegression(random_state=42,penalty='l2',multi_class='multinomial' , max_iter=2500))])\n",
    "\n",
    "param_grid_logistic={\n",
    "    \n",
    "    'logistic__C':[0.01 , 0.1 , 1 , 10],\n",
    "    \n",
    "    'logistic__solver':['sag', 'saga'],\n",
    "    \n",
    "#     'logistic__penalty':['l2'] ,\n",
    "  \n",
    "#     'logistic__max_iter' : [1000 , 1200 , 1500]\n",
    "}\n",
    "\n",
    "grid_logistic=GridSearchCV(grid_logistic_estimator, param_grid=param_grid_logistic , cv=5 ,n_jobs=-1)\n"
   ]
  },
  {
   "cell_type": "code",
   "execution_count": 50,
   "id": "6c50f610",
   "metadata": {
    "execution": {
     "iopub.execute_input": "2024-06-28T09:16:21.140162Z",
     "iopub.status.busy": "2024-06-28T09:16:21.139794Z",
     "iopub.status.idle": "2024-06-28T09:16:21.144288Z",
     "shell.execute_reply": "2024-06-28T09:16:21.143066Z"
    },
    "papermill": {
     "duration": 0.026443,
     "end_time": "2024-06-28T09:16:21.146512",
     "exception": false,
     "start_time": "2024-06-28T09:16:21.120069",
     "status": "completed"
    },
    "tags": []
   },
   "outputs": [],
   "source": [
    "# grid_logistic.fit(xtrain , ytrain)"
   ]
  },
  {
   "cell_type": "code",
   "execution_count": 51,
   "id": "0ae37707",
   "metadata": {
    "execution": {
     "iopub.execute_input": "2024-06-28T09:16:21.184712Z",
     "iopub.status.busy": "2024-06-28T09:16:21.184344Z",
     "iopub.status.idle": "2024-06-28T09:16:21.189761Z",
     "shell.execute_reply": "2024-06-28T09:16:21.188732Z"
    },
    "papermill": {
     "duration": 0.027386,
     "end_time": "2024-06-28T09:16:21.192084",
     "exception": false,
     "start_time": "2024-06-28T09:16:21.164698",
     "status": "completed"
    },
    "tags": []
   },
   "outputs": [],
   "source": [
    "from sklearn.svm import SVC , NuSVC\n",
    "pipe_svc=Pipeline(steps=[('ct',ct),('svc',SVC(decision_function_shape='ovr'))])"
   ]
  },
  {
   "cell_type": "code",
   "execution_count": 52,
   "id": "794cf1b6",
   "metadata": {
    "execution": {
     "iopub.execute_input": "2024-06-28T09:16:21.231042Z",
     "iopub.status.busy": "2024-06-28T09:16:21.230639Z",
     "iopub.status.idle": "2024-06-28T09:16:30.973425Z",
     "shell.execute_reply": "2024-06-28T09:16:30.972445Z"
    },
    "papermill": {
     "duration": 9.765385,
     "end_time": "2024-06-28T09:16:30.975893",
     "exception": false,
     "start_time": "2024-06-28T09:16:21.210508",
     "status": "completed"
    },
    "tags": []
   },
   "outputs": [
    {
     "data": {
      "text/html": [
       "<style>#sk-container-id-3 {color: black;background-color: white;}#sk-container-id-3 pre{padding: 0;}#sk-container-id-3 div.sk-toggleable {background-color: white;}#sk-container-id-3 label.sk-toggleable__label {cursor: pointer;display: block;width: 100%;margin-bottom: 0;padding: 0.3em;box-sizing: border-box;text-align: center;}#sk-container-id-3 label.sk-toggleable__label-arrow:before {content: \"▸\";float: left;margin-right: 0.25em;color: #696969;}#sk-container-id-3 label.sk-toggleable__label-arrow:hover:before {color: black;}#sk-container-id-3 div.sk-estimator:hover label.sk-toggleable__label-arrow:before {color: black;}#sk-container-id-3 div.sk-toggleable__content {max-height: 0;max-width: 0;overflow: hidden;text-align: left;background-color: #f0f8ff;}#sk-container-id-3 div.sk-toggleable__content pre {margin: 0.2em;color: black;border-radius: 0.25em;background-color: #f0f8ff;}#sk-container-id-3 input.sk-toggleable__control:checked~div.sk-toggleable__content {max-height: 200px;max-width: 100%;overflow: auto;}#sk-container-id-3 input.sk-toggleable__control:checked~label.sk-toggleable__label-arrow:before {content: \"▾\";}#sk-container-id-3 div.sk-estimator input.sk-toggleable__control:checked~label.sk-toggleable__label {background-color: #d4ebff;}#sk-container-id-3 div.sk-label input.sk-toggleable__control:checked~label.sk-toggleable__label {background-color: #d4ebff;}#sk-container-id-3 input.sk-hidden--visually {border: 0;clip: rect(1px 1px 1px 1px);clip: rect(1px, 1px, 1px, 1px);height: 1px;margin: -1px;overflow: hidden;padding: 0;position: absolute;width: 1px;}#sk-container-id-3 div.sk-estimator {font-family: monospace;background-color: #f0f8ff;border: 1px dotted black;border-radius: 0.25em;box-sizing: border-box;margin-bottom: 0.5em;}#sk-container-id-3 div.sk-estimator:hover {background-color: #d4ebff;}#sk-container-id-3 div.sk-parallel-item::after {content: \"\";width: 100%;border-bottom: 1px solid gray;flex-grow: 1;}#sk-container-id-3 div.sk-label:hover label.sk-toggleable__label {background-color: #d4ebff;}#sk-container-id-3 div.sk-serial::before {content: \"\";position: absolute;border-left: 1px solid gray;box-sizing: border-box;top: 0;bottom: 0;left: 50%;z-index: 0;}#sk-container-id-3 div.sk-serial {display: flex;flex-direction: column;align-items: center;background-color: white;padding-right: 0.2em;padding-left: 0.2em;position: relative;}#sk-container-id-3 div.sk-item {position: relative;z-index: 1;}#sk-container-id-3 div.sk-parallel {display: flex;align-items: stretch;justify-content: center;background-color: white;position: relative;}#sk-container-id-3 div.sk-item::before, #sk-container-id-3 div.sk-parallel-item::before {content: \"\";position: absolute;border-left: 1px solid gray;box-sizing: border-box;top: 0;bottom: 0;left: 50%;z-index: -1;}#sk-container-id-3 div.sk-parallel-item {display: flex;flex-direction: column;z-index: 1;position: relative;background-color: white;}#sk-container-id-3 div.sk-parallel-item:first-child::after {align-self: flex-end;width: 50%;}#sk-container-id-3 div.sk-parallel-item:last-child::after {align-self: flex-start;width: 50%;}#sk-container-id-3 div.sk-parallel-item:only-child::after {width: 0;}#sk-container-id-3 div.sk-dashed-wrapped {border: 1px dashed gray;margin: 0 0.4em 0.5em 0.4em;box-sizing: border-box;padding-bottom: 0.4em;background-color: white;}#sk-container-id-3 div.sk-label label {font-family: monospace;font-weight: bold;display: inline-block;line-height: 1.2em;}#sk-container-id-3 div.sk-label-container {text-align: center;}#sk-container-id-3 div.sk-container {/* jupyter's `normalize.less` sets `[hidden] { display: none; }` but bootstrap.min.css set `[hidden] { display: none !important; }` so we also need the `!important` here to be able to override the default hidden behavior on the sphinx rendered scikit-learn.org. See: https://github.com/scikit-learn/scikit-learn/issues/21755 */display: inline-block !important;position: relative;}#sk-container-id-3 div.sk-text-repr-fallback {display: none;}</style><div id=\"sk-container-id-3\" class=\"sk-top-container\"><div class=\"sk-text-repr-fallback\"><pre>Pipeline(steps=[(&#x27;ct&#x27;,\n",
       "                 ColumnTransformer(transformers=[(&#x27;numerical_cols&#x27;,\n",
       "                                                  StandardScaler(),\n",
       "                                                  [&#x27;Latitude&#x27;, &#x27;Longitude&#x27;,\n",
       "                                                   &#x27;reporting_delay_day_count&#x27;,\n",
       "                                                   &#x27;Victim_Age&#x27;]),\n",
       "                                                 (&#x27;categorical_cols&#x27;,\n",
       "                                                  OneHotEncoder(handle_unknown=&#x27;ignore&#x27;),\n",
       "                                                  [&#x27;day_category&#x27;, &#x27;Victim_Sex&#x27;,\n",
       "                                                   &#x27;Victim_Descent&#x27;, &#x27;Part 1-2&#x27;,\n",
       "                                                   &#x27;Area_ID&#x27;, &#x27;Status&#x27;,\n",
       "                                                   &#x27;Weapon_Description&#x27;]),\n",
       "                                                 (&#x27;multi_label_binarizer&#x27;,\n",
       "                                                  MultiLabelBinarizerWrapper(),\n",
       "                                                  &#x27;Modus_Operandi&#x27;)])),\n",
       "                (&#x27;svc&#x27;, SVC())])</pre><b>In a Jupyter environment, please rerun this cell to show the HTML representation or trust the notebook. <br />On GitHub, the HTML representation is unable to render, please try loading this page with nbviewer.org.</b></div><div class=\"sk-container\" hidden><div class=\"sk-item sk-dashed-wrapped\"><div class=\"sk-label-container\"><div class=\"sk-label sk-toggleable\"><input class=\"sk-toggleable__control sk-hidden--visually\" id=\"sk-estimator-id-19\" type=\"checkbox\" ><label for=\"sk-estimator-id-19\" class=\"sk-toggleable__label sk-toggleable__label-arrow\">Pipeline</label><div class=\"sk-toggleable__content\"><pre>Pipeline(steps=[(&#x27;ct&#x27;,\n",
       "                 ColumnTransformer(transformers=[(&#x27;numerical_cols&#x27;,\n",
       "                                                  StandardScaler(),\n",
       "                                                  [&#x27;Latitude&#x27;, &#x27;Longitude&#x27;,\n",
       "                                                   &#x27;reporting_delay_day_count&#x27;,\n",
       "                                                   &#x27;Victim_Age&#x27;]),\n",
       "                                                 (&#x27;categorical_cols&#x27;,\n",
       "                                                  OneHotEncoder(handle_unknown=&#x27;ignore&#x27;),\n",
       "                                                  [&#x27;day_category&#x27;, &#x27;Victim_Sex&#x27;,\n",
       "                                                   &#x27;Victim_Descent&#x27;, &#x27;Part 1-2&#x27;,\n",
       "                                                   &#x27;Area_ID&#x27;, &#x27;Status&#x27;,\n",
       "                                                   &#x27;Weapon_Description&#x27;]),\n",
       "                                                 (&#x27;multi_label_binarizer&#x27;,\n",
       "                                                  MultiLabelBinarizerWrapper(),\n",
       "                                                  &#x27;Modus_Operandi&#x27;)])),\n",
       "                (&#x27;svc&#x27;, SVC())])</pre></div></div></div><div class=\"sk-serial\"><div class=\"sk-item sk-dashed-wrapped\"><div class=\"sk-label-container\"><div class=\"sk-label sk-toggleable\"><input class=\"sk-toggleable__control sk-hidden--visually\" id=\"sk-estimator-id-20\" type=\"checkbox\" ><label for=\"sk-estimator-id-20\" class=\"sk-toggleable__label sk-toggleable__label-arrow\">ct: ColumnTransformer</label><div class=\"sk-toggleable__content\"><pre>ColumnTransformer(transformers=[(&#x27;numerical_cols&#x27;, StandardScaler(),\n",
       "                                 [&#x27;Latitude&#x27;, &#x27;Longitude&#x27;,\n",
       "                                  &#x27;reporting_delay_day_count&#x27;, &#x27;Victim_Age&#x27;]),\n",
       "                                (&#x27;categorical_cols&#x27;,\n",
       "                                 OneHotEncoder(handle_unknown=&#x27;ignore&#x27;),\n",
       "                                 [&#x27;day_category&#x27;, &#x27;Victim_Sex&#x27;,\n",
       "                                  &#x27;Victim_Descent&#x27;, &#x27;Part 1-2&#x27;, &#x27;Area_ID&#x27;,\n",
       "                                  &#x27;Status&#x27;, &#x27;Weapon_Description&#x27;]),\n",
       "                                (&#x27;multi_label_binarizer&#x27;,\n",
       "                                 MultiLabelBinarizerWrapper(),\n",
       "                                 &#x27;Modus_Operandi&#x27;)])</pre></div></div></div><div class=\"sk-parallel\"><div class=\"sk-parallel-item\"><div class=\"sk-item\"><div class=\"sk-label-container\"><div class=\"sk-label sk-toggleable\"><input class=\"sk-toggleable__control sk-hidden--visually\" id=\"sk-estimator-id-21\" type=\"checkbox\" ><label for=\"sk-estimator-id-21\" class=\"sk-toggleable__label sk-toggleable__label-arrow\">numerical_cols</label><div class=\"sk-toggleable__content\"><pre>[&#x27;Latitude&#x27;, &#x27;Longitude&#x27;, &#x27;reporting_delay_day_count&#x27;, &#x27;Victim_Age&#x27;]</pre></div></div></div><div class=\"sk-serial\"><div class=\"sk-item\"><div class=\"sk-estimator sk-toggleable\"><input class=\"sk-toggleable__control sk-hidden--visually\" id=\"sk-estimator-id-22\" type=\"checkbox\" ><label for=\"sk-estimator-id-22\" class=\"sk-toggleable__label sk-toggleable__label-arrow\">StandardScaler</label><div class=\"sk-toggleable__content\"><pre>StandardScaler()</pre></div></div></div></div></div></div><div class=\"sk-parallel-item\"><div class=\"sk-item\"><div class=\"sk-label-container\"><div class=\"sk-label sk-toggleable\"><input class=\"sk-toggleable__control sk-hidden--visually\" id=\"sk-estimator-id-23\" type=\"checkbox\" ><label for=\"sk-estimator-id-23\" class=\"sk-toggleable__label sk-toggleable__label-arrow\">categorical_cols</label><div class=\"sk-toggleable__content\"><pre>[&#x27;day_category&#x27;, &#x27;Victim_Sex&#x27;, &#x27;Victim_Descent&#x27;, &#x27;Part 1-2&#x27;, &#x27;Area_ID&#x27;, &#x27;Status&#x27;, &#x27;Weapon_Description&#x27;]</pre></div></div></div><div class=\"sk-serial\"><div class=\"sk-item\"><div class=\"sk-estimator sk-toggleable\"><input class=\"sk-toggleable__control sk-hidden--visually\" id=\"sk-estimator-id-24\" type=\"checkbox\" ><label for=\"sk-estimator-id-24\" class=\"sk-toggleable__label sk-toggleable__label-arrow\">OneHotEncoder</label><div class=\"sk-toggleable__content\"><pre>OneHotEncoder(handle_unknown=&#x27;ignore&#x27;)</pre></div></div></div></div></div></div><div class=\"sk-parallel-item\"><div class=\"sk-item\"><div class=\"sk-label-container\"><div class=\"sk-label sk-toggleable\"><input class=\"sk-toggleable__control sk-hidden--visually\" id=\"sk-estimator-id-25\" type=\"checkbox\" ><label for=\"sk-estimator-id-25\" class=\"sk-toggleable__label sk-toggleable__label-arrow\">multi_label_binarizer</label><div class=\"sk-toggleable__content\"><pre>Modus_Operandi</pre></div></div></div><div class=\"sk-serial\"><div class=\"sk-item\"><div class=\"sk-estimator sk-toggleable\"><input class=\"sk-toggleable__control sk-hidden--visually\" id=\"sk-estimator-id-26\" type=\"checkbox\" ><label for=\"sk-estimator-id-26\" class=\"sk-toggleable__label sk-toggleable__label-arrow\">MultiLabelBinarizerWrapper</label><div class=\"sk-toggleable__content\"><pre>MultiLabelBinarizerWrapper()</pre></div></div></div></div></div></div></div></div><div class=\"sk-item\"><div class=\"sk-estimator sk-toggleable\"><input class=\"sk-toggleable__control sk-hidden--visually\" id=\"sk-estimator-id-27\" type=\"checkbox\" ><label for=\"sk-estimator-id-27\" class=\"sk-toggleable__label sk-toggleable__label-arrow\">SVC</label><div class=\"sk-toggleable__content\"><pre>SVC()</pre></div></div></div></div></div></div></div>"
      ],
      "text/plain": [
       "Pipeline(steps=[('ct',\n",
       "                 ColumnTransformer(transformers=[('numerical_cols',\n",
       "                                                  StandardScaler(),\n",
       "                                                  ['Latitude', 'Longitude',\n",
       "                                                   'reporting_delay_day_count',\n",
       "                                                   'Victim_Age']),\n",
       "                                                 ('categorical_cols',\n",
       "                                                  OneHotEncoder(handle_unknown='ignore'),\n",
       "                                                  ['day_category', 'Victim_Sex',\n",
       "                                                   'Victim_Descent', 'Part 1-2',\n",
       "                                                   'Area_ID', 'Status',\n",
       "                                                   'Weapon_Description']),\n",
       "                                                 ('multi_label_binarizer',\n",
       "                                                  MultiLabelBinarizerWrapper(),\n",
       "                                                  'Modus_Operandi')])),\n",
       "                ('svc', SVC())])"
      ]
     },
     "execution_count": 52,
     "metadata": {},
     "output_type": "execute_result"
    }
   ],
   "source": [
    "pipe_svc.fit(xtrain,ytrain)"
   ]
  },
  {
   "cell_type": "code",
   "execution_count": 53,
   "id": "9c293f1c",
   "metadata": {
    "execution": {
     "iopub.execute_input": "2024-06-28T09:16:31.015464Z",
     "iopub.status.busy": "2024-06-28T09:16:31.015063Z",
     "iopub.status.idle": "2024-06-28T09:16:33.485991Z",
     "shell.execute_reply": "2024-06-28T09:16:33.484850Z"
    },
    "papermill": {
     "duration": 2.493541,
     "end_time": "2024-06-28T09:16:33.488371",
     "exception": false,
     "start_time": "2024-06-28T09:16:30.994830",
     "status": "completed"
    },
    "tags": []
   },
   "outputs": [
    {
     "data": {
      "text/plain": [
       "0.84675"
      ]
     },
     "execution_count": 53,
     "metadata": {},
     "output_type": "execute_result"
    }
   ],
   "source": [
    "pipe_svc.score(xtest,ytest)"
   ]
  },
  {
   "cell_type": "code",
   "execution_count": 54,
   "id": "db18e393",
   "metadata": {
    "execution": {
     "iopub.execute_input": "2024-06-28T09:16:33.530097Z",
     "iopub.status.busy": "2024-06-28T09:16:33.529104Z",
     "iopub.status.idle": "2024-06-28T09:16:33.534675Z",
     "shell.execute_reply": "2024-06-28T09:16:33.533615Z"
    },
    "papermill": {
     "duration": 0.028125,
     "end_time": "2024-06-28T09:16:33.536910",
     "exception": false,
     "start_time": "2024-06-28T09:16:33.508785",
     "status": "completed"
    },
    "tags": []
   },
   "outputs": [],
   "source": [
    "from sklearn.linear_model import Perceptron\n",
    "\n",
    "pipe_percep=Pipeline(steps=[('ct',ct),('perceptron',Perceptron())])"
   ]
  },
  {
   "cell_type": "code",
   "execution_count": 55,
   "id": "6e8110b3",
   "metadata": {
    "execution": {
     "iopub.execute_input": "2024-06-28T09:16:33.576865Z",
     "iopub.status.busy": "2024-06-28T09:16:33.576459Z",
     "iopub.status.idle": "2024-06-28T09:16:33.966542Z",
     "shell.execute_reply": "2024-06-28T09:16:33.965430Z"
    },
    "papermill": {
     "duration": 0.412923,
     "end_time": "2024-06-28T09:16:33.968772",
     "exception": false,
     "start_time": "2024-06-28T09:16:33.555849",
     "status": "completed"
    },
    "tags": []
   },
   "outputs": [
    {
     "data": {
      "text/html": [
       "<style>#sk-container-id-4 {color: black;background-color: white;}#sk-container-id-4 pre{padding: 0;}#sk-container-id-4 div.sk-toggleable {background-color: white;}#sk-container-id-4 label.sk-toggleable__label {cursor: pointer;display: block;width: 100%;margin-bottom: 0;padding: 0.3em;box-sizing: border-box;text-align: center;}#sk-container-id-4 label.sk-toggleable__label-arrow:before {content: \"▸\";float: left;margin-right: 0.25em;color: #696969;}#sk-container-id-4 label.sk-toggleable__label-arrow:hover:before {color: black;}#sk-container-id-4 div.sk-estimator:hover label.sk-toggleable__label-arrow:before {color: black;}#sk-container-id-4 div.sk-toggleable__content {max-height: 0;max-width: 0;overflow: hidden;text-align: left;background-color: #f0f8ff;}#sk-container-id-4 div.sk-toggleable__content pre {margin: 0.2em;color: black;border-radius: 0.25em;background-color: #f0f8ff;}#sk-container-id-4 input.sk-toggleable__control:checked~div.sk-toggleable__content {max-height: 200px;max-width: 100%;overflow: auto;}#sk-container-id-4 input.sk-toggleable__control:checked~label.sk-toggleable__label-arrow:before {content: \"▾\";}#sk-container-id-4 div.sk-estimator input.sk-toggleable__control:checked~label.sk-toggleable__label {background-color: #d4ebff;}#sk-container-id-4 div.sk-label input.sk-toggleable__control:checked~label.sk-toggleable__label {background-color: #d4ebff;}#sk-container-id-4 input.sk-hidden--visually {border: 0;clip: rect(1px 1px 1px 1px);clip: rect(1px, 1px, 1px, 1px);height: 1px;margin: -1px;overflow: hidden;padding: 0;position: absolute;width: 1px;}#sk-container-id-4 div.sk-estimator {font-family: monospace;background-color: #f0f8ff;border: 1px dotted black;border-radius: 0.25em;box-sizing: border-box;margin-bottom: 0.5em;}#sk-container-id-4 div.sk-estimator:hover {background-color: #d4ebff;}#sk-container-id-4 div.sk-parallel-item::after {content: \"\";width: 100%;border-bottom: 1px solid gray;flex-grow: 1;}#sk-container-id-4 div.sk-label:hover label.sk-toggleable__label {background-color: #d4ebff;}#sk-container-id-4 div.sk-serial::before {content: \"\";position: absolute;border-left: 1px solid gray;box-sizing: border-box;top: 0;bottom: 0;left: 50%;z-index: 0;}#sk-container-id-4 div.sk-serial {display: flex;flex-direction: column;align-items: center;background-color: white;padding-right: 0.2em;padding-left: 0.2em;position: relative;}#sk-container-id-4 div.sk-item {position: relative;z-index: 1;}#sk-container-id-4 div.sk-parallel {display: flex;align-items: stretch;justify-content: center;background-color: white;position: relative;}#sk-container-id-4 div.sk-item::before, #sk-container-id-4 div.sk-parallel-item::before {content: \"\";position: absolute;border-left: 1px solid gray;box-sizing: border-box;top: 0;bottom: 0;left: 50%;z-index: -1;}#sk-container-id-4 div.sk-parallel-item {display: flex;flex-direction: column;z-index: 1;position: relative;background-color: white;}#sk-container-id-4 div.sk-parallel-item:first-child::after {align-self: flex-end;width: 50%;}#sk-container-id-4 div.sk-parallel-item:last-child::after {align-self: flex-start;width: 50%;}#sk-container-id-4 div.sk-parallel-item:only-child::after {width: 0;}#sk-container-id-4 div.sk-dashed-wrapped {border: 1px dashed gray;margin: 0 0.4em 0.5em 0.4em;box-sizing: border-box;padding-bottom: 0.4em;background-color: white;}#sk-container-id-4 div.sk-label label {font-family: monospace;font-weight: bold;display: inline-block;line-height: 1.2em;}#sk-container-id-4 div.sk-label-container {text-align: center;}#sk-container-id-4 div.sk-container {/* jupyter's `normalize.less` sets `[hidden] { display: none; }` but bootstrap.min.css set `[hidden] { display: none !important; }` so we also need the `!important` here to be able to override the default hidden behavior on the sphinx rendered scikit-learn.org. See: https://github.com/scikit-learn/scikit-learn/issues/21755 */display: inline-block !important;position: relative;}#sk-container-id-4 div.sk-text-repr-fallback {display: none;}</style><div id=\"sk-container-id-4\" class=\"sk-top-container\"><div class=\"sk-text-repr-fallback\"><pre>Pipeline(steps=[(&#x27;ct&#x27;,\n",
       "                 ColumnTransformer(transformers=[(&#x27;numerical_cols&#x27;,\n",
       "                                                  StandardScaler(),\n",
       "                                                  [&#x27;Latitude&#x27;, &#x27;Longitude&#x27;,\n",
       "                                                   &#x27;reporting_delay_day_count&#x27;,\n",
       "                                                   &#x27;Victim_Age&#x27;]),\n",
       "                                                 (&#x27;categorical_cols&#x27;,\n",
       "                                                  OneHotEncoder(handle_unknown=&#x27;ignore&#x27;),\n",
       "                                                  [&#x27;day_category&#x27;, &#x27;Victim_Sex&#x27;,\n",
       "                                                   &#x27;Victim_Descent&#x27;, &#x27;Part 1-2&#x27;,\n",
       "                                                   &#x27;Area_ID&#x27;, &#x27;Status&#x27;,\n",
       "                                                   &#x27;Weapon_Description&#x27;]),\n",
       "                                                 (&#x27;multi_label_binarizer&#x27;,\n",
       "                                                  MultiLabelBinarizerWrapper(),\n",
       "                                                  &#x27;Modus_Operandi&#x27;)])),\n",
       "                (&#x27;perceptron&#x27;, Perceptron())])</pre><b>In a Jupyter environment, please rerun this cell to show the HTML representation or trust the notebook. <br />On GitHub, the HTML representation is unable to render, please try loading this page with nbviewer.org.</b></div><div class=\"sk-container\" hidden><div class=\"sk-item sk-dashed-wrapped\"><div class=\"sk-label-container\"><div class=\"sk-label sk-toggleable\"><input class=\"sk-toggleable__control sk-hidden--visually\" id=\"sk-estimator-id-28\" type=\"checkbox\" ><label for=\"sk-estimator-id-28\" class=\"sk-toggleable__label sk-toggleable__label-arrow\">Pipeline</label><div class=\"sk-toggleable__content\"><pre>Pipeline(steps=[(&#x27;ct&#x27;,\n",
       "                 ColumnTransformer(transformers=[(&#x27;numerical_cols&#x27;,\n",
       "                                                  StandardScaler(),\n",
       "                                                  [&#x27;Latitude&#x27;, &#x27;Longitude&#x27;,\n",
       "                                                   &#x27;reporting_delay_day_count&#x27;,\n",
       "                                                   &#x27;Victim_Age&#x27;]),\n",
       "                                                 (&#x27;categorical_cols&#x27;,\n",
       "                                                  OneHotEncoder(handle_unknown=&#x27;ignore&#x27;),\n",
       "                                                  [&#x27;day_category&#x27;, &#x27;Victim_Sex&#x27;,\n",
       "                                                   &#x27;Victim_Descent&#x27;, &#x27;Part 1-2&#x27;,\n",
       "                                                   &#x27;Area_ID&#x27;, &#x27;Status&#x27;,\n",
       "                                                   &#x27;Weapon_Description&#x27;]),\n",
       "                                                 (&#x27;multi_label_binarizer&#x27;,\n",
       "                                                  MultiLabelBinarizerWrapper(),\n",
       "                                                  &#x27;Modus_Operandi&#x27;)])),\n",
       "                (&#x27;perceptron&#x27;, Perceptron())])</pre></div></div></div><div class=\"sk-serial\"><div class=\"sk-item sk-dashed-wrapped\"><div class=\"sk-label-container\"><div class=\"sk-label sk-toggleable\"><input class=\"sk-toggleable__control sk-hidden--visually\" id=\"sk-estimator-id-29\" type=\"checkbox\" ><label for=\"sk-estimator-id-29\" class=\"sk-toggleable__label sk-toggleable__label-arrow\">ct: ColumnTransformer</label><div class=\"sk-toggleable__content\"><pre>ColumnTransformer(transformers=[(&#x27;numerical_cols&#x27;, StandardScaler(),\n",
       "                                 [&#x27;Latitude&#x27;, &#x27;Longitude&#x27;,\n",
       "                                  &#x27;reporting_delay_day_count&#x27;, &#x27;Victim_Age&#x27;]),\n",
       "                                (&#x27;categorical_cols&#x27;,\n",
       "                                 OneHotEncoder(handle_unknown=&#x27;ignore&#x27;),\n",
       "                                 [&#x27;day_category&#x27;, &#x27;Victim_Sex&#x27;,\n",
       "                                  &#x27;Victim_Descent&#x27;, &#x27;Part 1-2&#x27;, &#x27;Area_ID&#x27;,\n",
       "                                  &#x27;Status&#x27;, &#x27;Weapon_Description&#x27;]),\n",
       "                                (&#x27;multi_label_binarizer&#x27;,\n",
       "                                 MultiLabelBinarizerWrapper(),\n",
       "                                 &#x27;Modus_Operandi&#x27;)])</pre></div></div></div><div class=\"sk-parallel\"><div class=\"sk-parallel-item\"><div class=\"sk-item\"><div class=\"sk-label-container\"><div class=\"sk-label sk-toggleable\"><input class=\"sk-toggleable__control sk-hidden--visually\" id=\"sk-estimator-id-30\" type=\"checkbox\" ><label for=\"sk-estimator-id-30\" class=\"sk-toggleable__label sk-toggleable__label-arrow\">numerical_cols</label><div class=\"sk-toggleable__content\"><pre>[&#x27;Latitude&#x27;, &#x27;Longitude&#x27;, &#x27;reporting_delay_day_count&#x27;, &#x27;Victim_Age&#x27;]</pre></div></div></div><div class=\"sk-serial\"><div class=\"sk-item\"><div class=\"sk-estimator sk-toggleable\"><input class=\"sk-toggleable__control sk-hidden--visually\" id=\"sk-estimator-id-31\" type=\"checkbox\" ><label for=\"sk-estimator-id-31\" class=\"sk-toggleable__label sk-toggleable__label-arrow\">StandardScaler</label><div class=\"sk-toggleable__content\"><pre>StandardScaler()</pre></div></div></div></div></div></div><div class=\"sk-parallel-item\"><div class=\"sk-item\"><div class=\"sk-label-container\"><div class=\"sk-label sk-toggleable\"><input class=\"sk-toggleable__control sk-hidden--visually\" id=\"sk-estimator-id-32\" type=\"checkbox\" ><label for=\"sk-estimator-id-32\" class=\"sk-toggleable__label sk-toggleable__label-arrow\">categorical_cols</label><div class=\"sk-toggleable__content\"><pre>[&#x27;day_category&#x27;, &#x27;Victim_Sex&#x27;, &#x27;Victim_Descent&#x27;, &#x27;Part 1-2&#x27;, &#x27;Area_ID&#x27;, &#x27;Status&#x27;, &#x27;Weapon_Description&#x27;]</pre></div></div></div><div class=\"sk-serial\"><div class=\"sk-item\"><div class=\"sk-estimator sk-toggleable\"><input class=\"sk-toggleable__control sk-hidden--visually\" id=\"sk-estimator-id-33\" type=\"checkbox\" ><label for=\"sk-estimator-id-33\" class=\"sk-toggleable__label sk-toggleable__label-arrow\">OneHotEncoder</label><div class=\"sk-toggleable__content\"><pre>OneHotEncoder(handle_unknown=&#x27;ignore&#x27;)</pre></div></div></div></div></div></div><div class=\"sk-parallel-item\"><div class=\"sk-item\"><div class=\"sk-label-container\"><div class=\"sk-label sk-toggleable\"><input class=\"sk-toggleable__control sk-hidden--visually\" id=\"sk-estimator-id-34\" type=\"checkbox\" ><label for=\"sk-estimator-id-34\" class=\"sk-toggleable__label sk-toggleable__label-arrow\">multi_label_binarizer</label><div class=\"sk-toggleable__content\"><pre>Modus_Operandi</pre></div></div></div><div class=\"sk-serial\"><div class=\"sk-item\"><div class=\"sk-estimator sk-toggleable\"><input class=\"sk-toggleable__control sk-hidden--visually\" id=\"sk-estimator-id-35\" type=\"checkbox\" ><label for=\"sk-estimator-id-35\" class=\"sk-toggleable__label sk-toggleable__label-arrow\">MultiLabelBinarizerWrapper</label><div class=\"sk-toggleable__content\"><pre>MultiLabelBinarizerWrapper()</pre></div></div></div></div></div></div></div></div><div class=\"sk-item\"><div class=\"sk-estimator sk-toggleable\"><input class=\"sk-toggleable__control sk-hidden--visually\" id=\"sk-estimator-id-36\" type=\"checkbox\" ><label for=\"sk-estimator-id-36\" class=\"sk-toggleable__label sk-toggleable__label-arrow\">Perceptron</label><div class=\"sk-toggleable__content\"><pre>Perceptron()</pre></div></div></div></div></div></div></div>"
      ],
      "text/plain": [
       "Pipeline(steps=[('ct',\n",
       "                 ColumnTransformer(transformers=[('numerical_cols',\n",
       "                                                  StandardScaler(),\n",
       "                                                  ['Latitude', 'Longitude',\n",
       "                                                   'reporting_delay_day_count',\n",
       "                                                   'Victim_Age']),\n",
       "                                                 ('categorical_cols',\n",
       "                                                  OneHotEncoder(handle_unknown='ignore'),\n",
       "                                                  ['day_category', 'Victim_Sex',\n",
       "                                                   'Victim_Descent', 'Part 1-2',\n",
       "                                                   'Area_ID', 'Status',\n",
       "                                                   'Weapon_Description']),\n",
       "                                                 ('multi_label_binarizer',\n",
       "                                                  MultiLabelBinarizerWrapper(),\n",
       "                                                  'Modus_Operandi')])),\n",
       "                ('perceptron', Perceptron())])"
      ]
     },
     "execution_count": 55,
     "metadata": {},
     "output_type": "execute_result"
    }
   ],
   "source": [
    "pipe_percep.fit(xtrain,ytrain)"
   ]
  },
  {
   "cell_type": "code",
   "execution_count": 56,
   "id": "129edbb6",
   "metadata": {
    "execution": {
     "iopub.execute_input": "2024-06-28T09:16:34.009261Z",
     "iopub.status.busy": "2024-06-28T09:16:34.008420Z",
     "iopub.status.idle": "2024-06-28T09:16:34.057969Z",
     "shell.execute_reply": "2024-06-28T09:16:34.056540Z"
    },
    "papermill": {
     "duration": 0.07326,
     "end_time": "2024-06-28T09:16:34.061140",
     "exception": false,
     "start_time": "2024-06-28T09:16:33.987880",
     "status": "completed"
    },
    "tags": []
   },
   "outputs": [
    {
     "data": {
      "text/plain": [
       "0.739"
      ]
     },
     "execution_count": 56,
     "metadata": {},
     "output_type": "execute_result"
    }
   ],
   "source": [
    "pipe_percep.score(xtest,ytest)"
   ]
  },
  {
   "cell_type": "markdown",
   "id": "abbbb05f",
   "metadata": {
    "papermill": {
     "duration": 0.03264,
     "end_time": "2024-06-28T09:16:34.126231",
     "exception": false,
     "start_time": "2024-06-28T09:16:34.093591",
     "status": "completed"
    },
    "tags": []
   },
   "source": [
    "Test \n"
   ]
  },
  {
   "cell_type": "code",
   "execution_count": 57,
   "id": "cb95f5bc",
   "metadata": {
    "execution": {
     "iopub.execute_input": "2024-06-28T09:16:34.182236Z",
     "iopub.status.busy": "2024-06-28T09:16:34.181838Z",
     "iopub.status.idle": "2024-06-28T09:16:38.828676Z",
     "shell.execute_reply": "2024-06-28T09:16:38.827624Z"
    },
    "papermill": {
     "duration": 4.672434,
     "end_time": "2024-06-28T09:16:38.831263",
     "exception": false,
     "start_time": "2024-06-28T09:16:34.158829",
     "status": "completed"
    },
    "tags": []
   },
   "outputs": [],
   "source": [
    "test=pd.read_csv('/kaggle/input/crime-cast-forecasting-crime-categories/test.csv')\n",
    "test['day_category']=test['Time_Occurred'].apply(day_category )\n",
    "\n",
    "\n",
    "test['Date_Reported']=test['Date_Reported'].apply(extract_date)\n",
    "test['Date_Occurred']=test['Date_Occurred'].apply(extract_date)\n",
    "\n",
    "\n",
    "\n",
    "\n",
    "\n",
    "\n",
    "test['Date_Reported']=pd.to_datetime(test['Date_Reported']).dt.date\n",
    "test['Date_Occurred']=pd.to_datetime(test['Date_Occurred']).dt.date\n",
    "\n",
    "test['reporting_delay_day_count']=(test['Date_Reported']-test['Date_Occurred'])\n",
    "\n",
    "\n",
    "\n",
    "\n",
    "\n",
    "\n",
    "def day_count(d):\n",
    "    return d.days\n",
    "test['reporting_delay_day_count']=test['reporting_delay_day_count'].apply(day_count)\n",
    "\n",
    "\n",
    "\n",
    "\n",
    "\n",
    "\n",
    "def victim_gender(val):\n",
    "    if val=='H' or pd.isna(val):\n",
    "        val='X'\n",
    "    return val\n",
    "\n",
    "\n",
    "test.loc[:,'Victim_Sex'] = test['Victim_Sex'].apply(victim_gender)\n",
    "\n",
    "\n",
    "\n",
    "\n",
    "\n",
    "unique_values_weapon_test=pd.DataFrame(test['Weapon_Description'])\n",
    "unique_values_weapon_test.value_counts(normalize=True)\n",
    "\n",
    "\n",
    "\n",
    "\n",
    "\n",
    "\n",
    "\n",
    "distribution_test = test['Weapon_Description'].dropna().value_counts(normalize=True)\n",
    "\n",
    "missing_test = test['Weapon_Description'].isnull().sum()\n",
    "\n",
    "imputed_values_test = np.random.choice(distribution_test.index, size=missing_test, p=distribution_test.values)\n",
    "\n",
    "# Impute the missing values\n",
    "test.loc[test['Weapon_Description'].isnull(), 'Weapon_Description'] = imputed_values_test\n",
    "\n"
   ]
  },
  {
   "cell_type": "code",
   "execution_count": 58,
   "id": "964ab816",
   "metadata": {
    "execution": {
     "iopub.execute_input": "2024-06-28T09:16:38.872479Z",
     "iopub.status.busy": "2024-06-28T09:16:38.872081Z",
     "iopub.status.idle": "2024-06-28T09:16:38.884074Z",
     "shell.execute_reply": "2024-06-28T09:16:38.883097Z"
    },
    "papermill": {
     "duration": 0.035873,
     "end_time": "2024-06-28T09:16:38.886380",
     "exception": false,
     "start_time": "2024-06-28T09:16:38.850507",
     "status": "completed"
    },
    "tags": []
   },
   "outputs": [
    {
     "data": {
      "text/plain": [
       "Location                        0\n",
       "Cross_Street                 4190\n",
       "Latitude                        0\n",
       "Longitude                       0\n",
       "Date_Reported                   0\n",
       "Date_Occurred                   0\n",
       "Time_Occurred                   0\n",
       "Area_ID                         0\n",
       "Area_Name                       0\n",
       "Reporting_District_no           0\n",
       "Part 1-2                        0\n",
       "Modus_Operandi                684\n",
       "Victim_Age                      0\n",
       "Victim_Sex                      0\n",
       "Victim_Descent                643\n",
       "Premise_Code                    0\n",
       "Premise_Description             1\n",
       "Weapon_Used_Code             3153\n",
       "Weapon_Description              0\n",
       "Status                          0\n",
       "Status_Description              0\n",
       "day_category                    0\n",
       "reporting_delay_day_count       0\n",
       "dtype: int64"
      ]
     },
     "execution_count": 58,
     "metadata": {},
     "output_type": "execute_result"
    }
   ],
   "source": [
    "test.isnull().sum()"
   ]
  },
  {
   "cell_type": "code",
   "execution_count": 59,
   "id": "4a337779",
   "metadata": {
    "execution": {
     "iopub.execute_input": "2024-06-28T09:16:38.927450Z",
     "iopub.status.busy": "2024-06-28T09:16:38.927028Z",
     "iopub.status.idle": "2024-06-28T09:16:38.937927Z",
     "shell.execute_reply": "2024-06-28T09:16:38.936849Z"
    },
    "papermill": {
     "duration": 0.034365,
     "end_time": "2024-06-28T09:16:38.940392",
     "exception": false,
     "start_time": "2024-06-28T09:16:38.906027",
     "status": "completed"
    },
    "tags": []
   },
   "outputs": [],
   "source": [
    "distribution_test = test['Victim_Descent'].dropna().value_counts(normalize=True)\n",
    "\n",
    "missing_test = test['Victim_Descent'].isnull().sum()\n",
    "\n",
    "imputed_values_test = np.random.choice(distribution_test.index, size=missing_test, p=distribution_test.values)\n",
    "\n",
    "# Impute the missing values\n",
    "test.loc[test['Victim_Descent'].isnull(), 'Victim_Descent'] = imputed_values_test"
   ]
  },
  {
   "cell_type": "code",
   "execution_count": 60,
   "id": "6923bb5b",
   "metadata": {
    "execution": {
     "iopub.execute_input": "2024-06-28T09:16:38.981973Z",
     "iopub.status.busy": "2024-06-28T09:16:38.981552Z",
     "iopub.status.idle": "2024-06-28T09:16:39.004774Z",
     "shell.execute_reply": "2024-06-28T09:16:39.003646Z"
    },
    "papermill": {
     "duration": 0.04651,
     "end_time": "2024-06-28T09:16:39.007099",
     "exception": false,
     "start_time": "2024-06-28T09:16:38.960589",
     "status": "completed"
    },
    "tags": []
   },
   "outputs": [],
   "source": [
    "test['Modus_Operandi']=test['Modus_Operandi'].apply(number_of_activities)\n",
    "test['Part 1-2']=test['Part 1-2'].apply(lambda x : int(x))\n",
    "test['Victim_Age']=test['Victim_Age'].apply(lambda x: int(x))"
   ]
  },
  {
   "cell_type": "code",
   "execution_count": 61,
   "id": "98f1a29b",
   "metadata": {
    "execution": {
     "iopub.execute_input": "2024-06-28T09:16:39.047962Z",
     "iopub.status.busy": "2024-06-28T09:16:39.047552Z",
     "iopub.status.idle": "2024-06-28T09:16:39.067288Z",
     "shell.execute_reply": "2024-06-28T09:16:39.066226Z"
    },
    "papermill": {
     "duration": 0.042796,
     "end_time": "2024-06-28T09:16:39.069693",
     "exception": false,
     "start_time": "2024-06-28T09:16:39.026897",
     "status": "completed"
    },
    "tags": []
   },
   "outputs": [],
   "source": [
    "test.loc[test['Weapon_Description'] == 'STRONG-ARM (HANDS, FIST, FEET OR BODILY FORCE)', 'Weapon_Description'] = 'Physical Force'\n",
    "\n",
    "\n",
    "\n",
    "test.loc[:,'Weapon_Description']=test['Weapon_Description'].apply(gun)"
   ]
  },
  {
   "cell_type": "code",
   "execution_count": 62,
   "id": "c9270396",
   "metadata": {
    "execution": {
     "iopub.execute_input": "2024-06-28T09:16:39.110974Z",
     "iopub.status.busy": "2024-06-28T09:16:39.110140Z",
     "iopub.status.idle": "2024-06-28T09:16:39.127375Z",
     "shell.execute_reply": "2024-06-28T09:16:39.126233Z"
    },
    "papermill": {
     "duration": 0.040401,
     "end_time": "2024-06-28T09:16:39.129788",
     "exception": false,
     "start_time": "2024-06-28T09:16:39.089387",
     "status": "completed"
    },
    "tags": []
   },
   "outputs": [
    {
     "name": "stdout",
     "output_type": "stream",
     "text": [
      "<class 'pandas.core.frame.DataFrame'>\n",
      "Index: 16000 entries, 6735 to 554\n",
      "Data columns (total 12 columns):\n",
      " #   Column                     Non-Null Count  Dtype  \n",
      "---  ------                     --------------  -----  \n",
      " 0   Latitude                   16000 non-null  float64\n",
      " 1   Longitude                  16000 non-null  float64\n",
      " 2   reporting_delay_day_count  16000 non-null  int64  \n",
      " 3   day_category               16000 non-null  object \n",
      " 4   Victim_Age                 16000 non-null  float64\n",
      " 5   Victim_Sex                 16000 non-null  object \n",
      " 6   Victim_Descent             16000 non-null  object \n",
      " 7   Weapon_Description         16000 non-null  object \n",
      " 8   Area_ID                    16000 non-null  float64\n",
      " 9   Modus_Operandi             16000 non-null  object \n",
      " 10  Part 1-2                   16000 non-null  float64\n",
      " 11  Status                     16000 non-null  object \n",
      "dtypes: float64(5), int64(1), object(6)\n",
      "memory usage: 1.6+ MB\n"
     ]
    }
   ],
   "source": [
    "xtrain.info()"
   ]
  },
  {
   "cell_type": "code",
   "execution_count": 63,
   "id": "540d7e33",
   "metadata": {
    "execution": {
     "iopub.execute_input": "2024-06-28T09:16:39.170630Z",
     "iopub.status.busy": "2024-06-28T09:16:39.170178Z",
     "iopub.status.idle": "2024-06-28T09:16:39.177892Z",
     "shell.execute_reply": "2024-06-28T09:16:39.176973Z"
    },
    "papermill": {
     "duration": 0.030803,
     "end_time": "2024-06-28T09:16:39.180081",
     "exception": false,
     "start_time": "2024-06-28T09:16:39.149278",
     "status": "completed"
    },
    "tags": []
   },
   "outputs": [],
   "source": [
    "test=test[['Latitude','Longitude','reporting_delay_day_count','day_category','Area_ID','Victim_Age','Victim_Sex','Modus_Operandi','Victim_Descent','Part 1-2','Weapon_Description','Status']]"
   ]
  },
  {
   "cell_type": "code",
   "execution_count": 64,
   "id": "7603d1bc",
   "metadata": {
    "execution": {
     "iopub.execute_input": "2024-06-28T09:16:39.221753Z",
     "iopub.status.busy": "2024-06-28T09:16:39.221353Z",
     "iopub.status.idle": "2024-06-28T09:16:39.235842Z",
     "shell.execute_reply": "2024-06-28T09:16:39.234249Z"
    },
    "papermill": {
     "duration": 0.038104,
     "end_time": "2024-06-28T09:16:39.238252",
     "exception": false,
     "start_time": "2024-06-28T09:16:39.200148",
     "status": "completed"
    },
    "tags": []
   },
   "outputs": [
    {
     "name": "stdout",
     "output_type": "stream",
     "text": [
      "<class 'pandas.core.frame.DataFrame'>\n",
      "RangeIndex: 5000 entries, 0 to 4999\n",
      "Data columns (total 12 columns):\n",
      " #   Column                     Non-Null Count  Dtype  \n",
      "---  ------                     --------------  -----  \n",
      " 0   Latitude                   5000 non-null   float64\n",
      " 1   Longitude                  5000 non-null   float64\n",
      " 2   reporting_delay_day_count  5000 non-null   int64  \n",
      " 3   day_category               5000 non-null   object \n",
      " 4   Area_ID                    5000 non-null   float64\n",
      " 5   Victim_Age                 5000 non-null   int64  \n",
      " 6   Victim_Sex                 5000 non-null   object \n",
      " 7   Modus_Operandi             5000 non-null   object \n",
      " 8   Victim_Descent             5000 non-null   object \n",
      " 9   Part 1-2                   5000 non-null   int64  \n",
      " 10  Weapon_Description         5000 non-null   object \n",
      " 11  Status                     5000 non-null   object \n",
      "dtypes: float64(3), int64(3), object(6)\n",
      "memory usage: 468.9+ KB\n"
     ]
    }
   ],
   "source": [
    "test.info()"
   ]
  },
  {
   "cell_type": "code",
   "execution_count": 65,
   "id": "ae9c0801",
   "metadata": {
    "execution": {
     "iopub.execute_input": "2024-06-28T09:16:39.280121Z",
     "iopub.status.busy": "2024-06-28T09:16:39.278824Z",
     "iopub.status.idle": "2024-06-28T09:16:39.303727Z",
     "shell.execute_reply": "2024-06-28T09:16:39.302565Z"
    },
    "papermill": {
     "duration": 0.048367,
     "end_time": "2024-06-28T09:16:39.306210",
     "exception": false,
     "start_time": "2024-06-28T09:16:39.257843",
     "status": "completed"
    },
    "tags": []
   },
   "outputs": [
    {
     "data": {
      "text/html": [
       "<div>\n",
       "<style scoped>\n",
       "    .dataframe tbody tr th:only-of-type {\n",
       "        vertical-align: middle;\n",
       "    }\n",
       "\n",
       "    .dataframe tbody tr th {\n",
       "        vertical-align: top;\n",
       "    }\n",
       "\n",
       "    .dataframe thead th {\n",
       "        text-align: right;\n",
       "    }\n",
       "</style>\n",
       "<table border=\"1\" class=\"dataframe\">\n",
       "  <thead>\n",
       "    <tr style=\"text-align: right;\">\n",
       "      <th></th>\n",
       "      <th>Latitude</th>\n",
       "      <th>Longitude</th>\n",
       "      <th>reporting_delay_day_count</th>\n",
       "      <th>day_category</th>\n",
       "      <th>Area_ID</th>\n",
       "      <th>Victim_Age</th>\n",
       "      <th>Victim_Sex</th>\n",
       "      <th>Modus_Operandi</th>\n",
       "      <th>Victim_Descent</th>\n",
       "      <th>Part 1-2</th>\n",
       "      <th>Weapon_Description</th>\n",
       "      <th>Status</th>\n",
       "    </tr>\n",
       "  </thead>\n",
       "  <tbody>\n",
       "    <tr>\n",
       "      <th>0</th>\n",
       "      <td>34.0128</td>\n",
       "      <td>-118.3045</td>\n",
       "      <td>0</td>\n",
       "      <td>Evening</td>\n",
       "      <td>3.0</td>\n",
       "      <td>28</td>\n",
       "      <td>F</td>\n",
       "      <td>2000 1821 1241 0416 1243 1813</td>\n",
       "      <td>H</td>\n",
       "      <td>2</td>\n",
       "      <td>Physical Force</td>\n",
       "      <td>IC</td>\n",
       "    </tr>\n",
       "    <tr>\n",
       "      <th>1</th>\n",
       "      <td>34.0726</td>\n",
       "      <td>-118.3029</td>\n",
       "      <td>37</td>\n",
       "      <td>Night</td>\n",
       "      <td>20.0</td>\n",
       "      <td>26</td>\n",
       "      <td>M</td>\n",
       "      <td>0394 0344</td>\n",
       "      <td>B</td>\n",
       "      <td>1</td>\n",
       "      <td>other_weapon</td>\n",
       "      <td>IC</td>\n",
       "    </tr>\n",
       "    <tr>\n",
       "      <th>2</th>\n",
       "      <td>33.9348</td>\n",
       "      <td>-118.2695</td>\n",
       "      <td>1</td>\n",
       "      <td>Morning</td>\n",
       "      <td>18.0</td>\n",
       "      <td>62</td>\n",
       "      <td>F</td>\n",
       "      <td>1822 0100 1914 1202 0701 0355</td>\n",
       "      <td>B</td>\n",
       "      <td>2</td>\n",
       "      <td>sharp_heavy_object</td>\n",
       "      <td>IC</td>\n",
       "    </tr>\n",
       "    <tr>\n",
       "      <th>3</th>\n",
       "      <td>34.0497</td>\n",
       "      <td>-118.3442</td>\n",
       "      <td>20</td>\n",
       "      <td>Night</td>\n",
       "      <td>7.0</td>\n",
       "      <td>0</td>\n",
       "      <td>X</td>\n",
       "      <td></td>\n",
       "      <td>X</td>\n",
       "      <td>1</td>\n",
       "      <td>sharp_heavy_object</td>\n",
       "      <td>IC</td>\n",
       "    </tr>\n",
       "    <tr>\n",
       "      <th>4</th>\n",
       "      <td>34.1611</td>\n",
       "      <td>-118.3704</td>\n",
       "      <td>1</td>\n",
       "      <td>Night</td>\n",
       "      <td>15.0</td>\n",
       "      <td>37</td>\n",
       "      <td>F</td>\n",
       "      <td>1501</td>\n",
       "      <td>W</td>\n",
       "      <td>2</td>\n",
       "      <td>other_weapon</td>\n",
       "      <td>AO</td>\n",
       "    </tr>\n",
       "    <tr>\n",
       "      <th>...</th>\n",
       "      <td>...</td>\n",
       "      <td>...</td>\n",
       "      <td>...</td>\n",
       "      <td>...</td>\n",
       "      <td>...</td>\n",
       "      <td>...</td>\n",
       "      <td>...</td>\n",
       "      <td>...</td>\n",
       "      <td>...</td>\n",
       "      <td>...</td>\n",
       "      <td>...</td>\n",
       "      <td>...</td>\n",
       "    </tr>\n",
       "    <tr>\n",
       "      <th>4995</th>\n",
       "      <td>34.0409</td>\n",
       "      <td>-118.3408</td>\n",
       "      <td>1</td>\n",
       "      <td>Night</td>\n",
       "      <td>7.0</td>\n",
       "      <td>0</td>\n",
       "      <td>X</td>\n",
       "      <td></td>\n",
       "      <td>O</td>\n",
       "      <td>1</td>\n",
       "      <td>sharp_heavy_object</td>\n",
       "      <td>IC</td>\n",
       "    </tr>\n",
       "    <tr>\n",
       "      <th>4996</th>\n",
       "      <td>34.0347</td>\n",
       "      <td>-118.2253</td>\n",
       "      <td>7</td>\n",
       "      <td>Daytime</td>\n",
       "      <td>4.0</td>\n",
       "      <td>0</td>\n",
       "      <td>X</td>\n",
       "      <td>0325 1300</td>\n",
       "      <td>X</td>\n",
       "      <td>1</td>\n",
       "      <td>Physical Force</td>\n",
       "      <td>IC</td>\n",
       "    </tr>\n",
       "    <tr>\n",
       "      <th>4997</th>\n",
       "      <td>34.2392</td>\n",
       "      <td>-118.4698</td>\n",
       "      <td>0</td>\n",
       "      <td>Night</td>\n",
       "      <td>19.0</td>\n",
       "      <td>38</td>\n",
       "      <td>M</td>\n",
       "      <td>0416 0913 1817</td>\n",
       "      <td>H</td>\n",
       "      <td>2</td>\n",
       "      <td>Physical Force</td>\n",
       "      <td>AA</td>\n",
       "    </tr>\n",
       "    <tr>\n",
       "      <th>4998</th>\n",
       "      <td>34.0453</td>\n",
       "      <td>-118.2443</td>\n",
       "      <td>1</td>\n",
       "      <td>Night</td>\n",
       "      <td>1.0</td>\n",
       "      <td>41</td>\n",
       "      <td>M</td>\n",
       "      <td>0416</td>\n",
       "      <td>B</td>\n",
       "      <td>2</td>\n",
       "      <td>sharp_heavy_object</td>\n",
       "      <td>AO</td>\n",
       "    </tr>\n",
       "    <tr>\n",
       "      <th>4999</th>\n",
       "      <td>33.9438</td>\n",
       "      <td>-118.2695</td>\n",
       "      <td>0</td>\n",
       "      <td>Night</td>\n",
       "      <td>18.0</td>\n",
       "      <td>49</td>\n",
       "      <td>M</td>\n",
       "      <td>1822 0329</td>\n",
       "      <td>B</td>\n",
       "      <td>2</td>\n",
       "      <td>Physical Force</td>\n",
       "      <td>IC</td>\n",
       "    </tr>\n",
       "  </tbody>\n",
       "</table>\n",
       "<p>5000 rows × 12 columns</p>\n",
       "</div>"
      ],
      "text/plain": [
       "      Latitude  Longitude  reporting_delay_day_count day_category  Area_ID  \\\n",
       "0      34.0128  -118.3045                          0      Evening      3.0   \n",
       "1      34.0726  -118.3029                         37        Night     20.0   \n",
       "2      33.9348  -118.2695                          1      Morning     18.0   \n",
       "3      34.0497  -118.3442                         20        Night      7.0   \n",
       "4      34.1611  -118.3704                          1        Night     15.0   \n",
       "...        ...        ...                        ...          ...      ...   \n",
       "4995   34.0409  -118.3408                          1        Night      7.0   \n",
       "4996   34.0347  -118.2253                          7      Daytime      4.0   \n",
       "4997   34.2392  -118.4698                          0        Night     19.0   \n",
       "4998   34.0453  -118.2443                          1        Night      1.0   \n",
       "4999   33.9438  -118.2695                          0        Night     18.0   \n",
       "\n",
       "      Victim_Age Victim_Sex                 Modus_Operandi Victim_Descent  \\\n",
       "0             28          F  2000 1821 1241 0416 1243 1813              H   \n",
       "1             26          M                      0394 0344              B   \n",
       "2             62          F  1822 0100 1914 1202 0701 0355              B   \n",
       "3              0          X                                             X   \n",
       "4             37          F                           1501              W   \n",
       "...          ...        ...                            ...            ...   \n",
       "4995           0          X                                             O   \n",
       "4996           0          X                      0325 1300              X   \n",
       "4997          38          M                 0416 0913 1817              H   \n",
       "4998          41          M                           0416              B   \n",
       "4999          49          M                      1822 0329              B   \n",
       "\n",
       "      Part 1-2  Weapon_Description Status  \n",
       "0            2      Physical Force     IC  \n",
       "1            1        other_weapon     IC  \n",
       "2            2  sharp_heavy_object     IC  \n",
       "3            1  sharp_heavy_object     IC  \n",
       "4            2        other_weapon     AO  \n",
       "...        ...                 ...    ...  \n",
       "4995         1  sharp_heavy_object     IC  \n",
       "4996         1      Physical Force     IC  \n",
       "4997         2      Physical Force     AA  \n",
       "4998         2  sharp_heavy_object     AO  \n",
       "4999         2      Physical Force     IC  \n",
       "\n",
       "[5000 rows x 12 columns]"
      ]
     },
     "execution_count": 65,
     "metadata": {},
     "output_type": "execute_result"
    }
   ],
   "source": [
    "test"
   ]
  },
  {
   "cell_type": "code",
   "execution_count": 66,
   "id": "9922e1c0",
   "metadata": {
    "execution": {
     "iopub.execute_input": "2024-06-28T09:16:39.347919Z",
     "iopub.status.busy": "2024-06-28T09:16:39.347524Z",
     "iopub.status.idle": "2024-06-28T09:16:39.353969Z",
     "shell.execute_reply": "2024-06-28T09:16:39.352885Z"
    },
    "papermill": {
     "duration": 0.030518,
     "end_time": "2024-06-28T09:16:39.356616",
     "exception": false,
     "start_time": "2024-06-28T09:16:39.326098",
     "status": "completed"
    },
    "tags": []
   },
   "outputs": [
    {
     "data": {
      "text/plain": [
       "(5000, 12)"
      ]
     },
     "execution_count": 66,
     "metadata": {},
     "output_type": "execute_result"
    }
   ],
   "source": [
    "test.shape"
   ]
  },
  {
   "cell_type": "code",
   "execution_count": 67,
   "id": "d8898f41",
   "metadata": {
    "execution": {
     "iopub.execute_input": "2024-06-28T09:16:39.398447Z",
     "iopub.status.busy": "2024-06-28T09:16:39.397995Z",
     "iopub.status.idle": "2024-06-28T09:16:39.415886Z",
     "shell.execute_reply": "2024-06-28T09:16:39.414837Z"
    },
    "papermill": {
     "duration": 0.041571,
     "end_time": "2024-06-28T09:16:39.418285",
     "exception": false,
     "start_time": "2024-06-28T09:16:39.376714",
     "status": "completed"
    },
    "tags": []
   },
   "outputs": [
    {
     "data": {
      "text/html": [
       "<div>\n",
       "<style scoped>\n",
       "    .dataframe tbody tr th:only-of-type {\n",
       "        vertical-align: middle;\n",
       "    }\n",
       "\n",
       "    .dataframe tbody tr th {\n",
       "        vertical-align: top;\n",
       "    }\n",
       "\n",
       "    .dataframe thead th {\n",
       "        text-align: right;\n",
       "    }\n",
       "</style>\n",
       "<table border=\"1\" class=\"dataframe\">\n",
       "  <thead>\n",
       "    <tr style=\"text-align: right;\">\n",
       "      <th></th>\n",
       "      <th>ID</th>\n",
       "      <th>Crime_Category</th>\n",
       "      <th>Unnamed: 2</th>\n",
       "    </tr>\n",
       "  </thead>\n",
       "  <tbody>\n",
       "    <tr>\n",
       "      <th>0</th>\n",
       "      <td>1</td>\n",
       "      <td>Crimes against Persons</td>\n",
       "      <td>NaN</td>\n",
       "    </tr>\n",
       "    <tr>\n",
       "      <th>1</th>\n",
       "      <td>2</td>\n",
       "      <td>Crimes against Public Order</td>\n",
       "      <td>NaN</td>\n",
       "    </tr>\n",
       "    <tr>\n",
       "      <th>2</th>\n",
       "      <td>3</td>\n",
       "      <td>Other Crimes</td>\n",
       "      <td>NaN</td>\n",
       "    </tr>\n",
       "    <tr>\n",
       "      <th>3</th>\n",
       "      <td>4</td>\n",
       "      <td>Crimes against Public Order</td>\n",
       "      <td>NaN</td>\n",
       "    </tr>\n",
       "    <tr>\n",
       "      <th>4</th>\n",
       "      <td>5</td>\n",
       "      <td>Other Crimes</td>\n",
       "      <td>NaN</td>\n",
       "    </tr>\n",
       "    <tr>\n",
       "      <th>...</th>\n",
       "      <td>...</td>\n",
       "      <td>...</td>\n",
       "      <td>...</td>\n",
       "    </tr>\n",
       "    <tr>\n",
       "      <th>995</th>\n",
       "      <td>996</td>\n",
       "      <td>Fraud and White-Collar Crimes</td>\n",
       "      <td>NaN</td>\n",
       "    </tr>\n",
       "    <tr>\n",
       "      <th>996</th>\n",
       "      <td>997</td>\n",
       "      <td>Property Crimes</td>\n",
       "      <td>NaN</td>\n",
       "    </tr>\n",
       "    <tr>\n",
       "      <th>997</th>\n",
       "      <td>998</td>\n",
       "      <td>Violent Crimes</td>\n",
       "      <td>NaN</td>\n",
       "    </tr>\n",
       "    <tr>\n",
       "      <th>998</th>\n",
       "      <td>999</td>\n",
       "      <td>Property Crimes</td>\n",
       "      <td>NaN</td>\n",
       "    </tr>\n",
       "    <tr>\n",
       "      <th>999</th>\n",
       "      <td>1000</td>\n",
       "      <td>Violent Crimes</td>\n",
       "      <td>NaN</td>\n",
       "    </tr>\n",
       "  </tbody>\n",
       "</table>\n",
       "<p>1000 rows × 3 columns</p>\n",
       "</div>"
      ],
      "text/plain": [
       "       ID                Crime_Category   Unnamed: 2\n",
       "0       1         Crimes against Persons         NaN\n",
       "1       2    Crimes against Public Order         NaN\n",
       "2       3                   Other Crimes         NaN\n",
       "3       4    Crimes against Public Order         NaN\n",
       "4       5                   Other Crimes         NaN\n",
       "..    ...                            ...         ...\n",
       "995   996  Fraud and White-Collar Crimes         NaN\n",
       "996   997                Property Crimes         NaN\n",
       "997   998                 Violent Crimes         NaN\n",
       "998   999                Property Crimes         NaN\n",
       "999  1000                 Violent Crimes         NaN\n",
       "\n",
       "[1000 rows x 3 columns]"
      ]
     },
     "execution_count": 67,
     "metadata": {},
     "output_type": "execute_result"
    }
   ],
   "source": [
    "sample=pd.read_csv('/kaggle/input/crime-cast-forecasting-crime-categories/sample.csv')\n",
    "sample"
   ]
  },
  {
   "cell_type": "code",
   "execution_count": 68,
   "id": "06458dd4",
   "metadata": {
    "execution": {
     "iopub.execute_input": "2024-06-28T09:16:39.462981Z",
     "iopub.status.busy": "2024-06-28T09:16:39.462572Z",
     "iopub.status.idle": "2024-06-28T09:16:39.473597Z",
     "shell.execute_reply": "2024-06-28T09:16:39.472448Z"
    },
    "papermill": {
     "duration": 0.036688,
     "end_time": "2024-06-28T09:16:39.475757",
     "exception": false,
     "start_time": "2024-06-28T09:16:39.439069",
     "status": "completed"
    },
    "tags": []
   },
   "outputs": [
    {
     "data": {
      "text/plain": [
       "Latitude                     0\n",
       "Longitude                    0\n",
       "reporting_delay_day_count    0\n",
       "day_category                 0\n",
       "Area_ID                      0\n",
       "Victim_Age                   0\n",
       "Victim_Sex                   0\n",
       "Modus_Operandi               0\n",
       "Victim_Descent               0\n",
       "Part 1-2                     0\n",
       "Weapon_Description           0\n",
       "Status                       0\n",
       "dtype: int64"
      ]
     },
     "execution_count": 68,
     "metadata": {},
     "output_type": "execute_result"
    }
   ],
   "source": [
    "test.isnull().sum()"
   ]
  },
  {
   "cell_type": "code",
   "execution_count": 69,
   "id": "35b40ce1",
   "metadata": {
    "execution": {
     "iopub.execute_input": "2024-06-28T09:16:39.519733Z",
     "iopub.status.busy": "2024-06-28T09:16:39.519052Z",
     "iopub.status.idle": "2024-06-28T09:16:39.574922Z",
     "shell.execute_reply": "2024-06-28T09:16:39.573472Z"
    },
    "papermill": {
     "duration": 0.082008,
     "end_time": "2024-06-28T09:16:39.578031",
     "exception": false,
     "start_time": "2024-06-28T09:16:39.496023",
     "status": "completed"
    },
    "tags": []
   },
   "outputs": [],
   "source": [
    "y_pred=pipe_logistic_multiclass.predict(test)\n",
    "submission=pd.DataFrame({'ID': np.arange(1,5000+1), 'Crime_Category': y_pred})\n",
    "\n",
    "submission.to_csv('submission.csv',index=False)"
   ]
  },
  {
   "cell_type": "code",
   "execution_count": null,
   "id": "de5018fd",
   "metadata": {
    "papermill": {
     "duration": 0.036089,
     "end_time": "2024-06-28T09:16:39.649920",
     "exception": false,
     "start_time": "2024-06-28T09:16:39.613831",
     "status": "completed"
    },
    "tags": []
   },
   "outputs": [],
   "source": []
  },
  {
   "cell_type": "code",
   "execution_count": null,
   "id": "d2159c99",
   "metadata": {
    "papermill": {
     "duration": 0.022509,
     "end_time": "2024-06-28T09:16:39.706634",
     "exception": false,
     "start_time": "2024-06-28T09:16:39.684125",
     "status": "completed"
    },
    "tags": []
   },
   "outputs": [],
   "source": []
  },
  {
   "cell_type": "code",
   "execution_count": null,
   "id": "071fe4bb",
   "metadata": {
    "papermill": {
     "duration": 0.020148,
     "end_time": "2024-06-28T09:16:39.747351",
     "exception": false,
     "start_time": "2024-06-28T09:16:39.727203",
     "status": "completed"
    },
    "tags": []
   },
   "outputs": [],
   "source": []
  },
  {
   "cell_type": "code",
   "execution_count": null,
   "id": "ebbd3d75",
   "metadata": {
    "papermill": {
     "duration": 0.020718,
     "end_time": "2024-06-28T09:16:39.788859",
     "exception": false,
     "start_time": "2024-06-28T09:16:39.768141",
     "status": "completed"
    },
    "tags": []
   },
   "outputs": [],
   "source": []
  },
  {
   "cell_type": "code",
   "execution_count": null,
   "id": "33a3670b",
   "metadata": {
    "papermill": {
     "duration": 0.020109,
     "end_time": "2024-06-28T09:16:39.830007",
     "exception": false,
     "start_time": "2024-06-28T09:16:39.809898",
     "status": "completed"
    },
    "tags": []
   },
   "outputs": [],
   "source": []
  },
  {
   "cell_type": "code",
   "execution_count": null,
   "id": "fffe46a4",
   "metadata": {
    "papermill": {
     "duration": 0.020133,
     "end_time": "2024-06-28T09:16:39.870587",
     "exception": false,
     "start_time": "2024-06-28T09:16:39.850454",
     "status": "completed"
    },
    "tags": []
   },
   "outputs": [],
   "source": []
  }
 ],
 "metadata": {
  "kaggle": {
   "accelerator": "none",
   "dataSources": [
    {
     "databundleVersionId": 8446444,
     "sourceId": 77420,
     "sourceType": "competition"
    }
   ],
   "dockerImageVersionId": 30715,
   "isGpuEnabled": false,
   "isInternetEnabled": false,
   "language": "python",
   "sourceType": "notebook"
  },
  "kernelspec": {
   "display_name": "Python 3",
   "language": "python",
   "name": "python3"
  },
  "language_info": {
   "codemirror_mode": {
    "name": "ipython",
    "version": 3
   },
   "file_extension": ".py",
   "mimetype": "text/x-python",
   "name": "python",
   "nbconvert_exporter": "python",
   "pygments_lexer": "ipython3",
   "version": "3.10.13"
  },
  "papermill": {
   "default_parameters": {},
   "duration": 203.127706,
   "end_time": "2024-06-28T09:16:40.512878",
   "environment_variables": {},
   "exception": null,
   "input_path": "__notebook__.ipynb",
   "output_path": "__notebook__.ipynb",
   "parameters": {},
   "start_time": "2024-06-28T09:13:17.385172",
   "version": "2.5.0"
  }
 },
 "nbformat": 4,
 "nbformat_minor": 5
}
