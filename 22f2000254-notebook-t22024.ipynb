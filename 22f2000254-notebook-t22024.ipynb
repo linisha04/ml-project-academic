{
 "cells": [
  {
   "cell_type": "code",
   "execution_count": 1,
   "id": "71eea084",
   "metadata": {
    "_cell_guid": "b1076dfc-b9ad-4769-8c92-a6c4dae69d19",
    "_uuid": "8f2839f25d086af736a60e9eeb907d3b93b6e0e5",
    "execution": {
     "iopub.execute_input": "2024-07-18T08:20:18.800176Z",
     "iopub.status.busy": "2024-07-18T08:20:18.799738Z",
     "iopub.status.idle": "2024-07-18T08:20:19.749534Z",
     "shell.execute_reply": "2024-07-18T08:20:19.748206Z"
    },
    "papermill": {
     "duration": 0.983544,
     "end_time": "2024-07-18T08:20:19.752109",
     "exception": false,
     "start_time": "2024-07-18T08:20:18.768565",
     "status": "completed"
    },
    "tags": []
   },
   "outputs": [
    {
     "name": "stdout",
     "output_type": "stream",
     "text": [
      "/kaggle/input/crime-cast-forecasting-crime-categories/sample.csv\n",
      "/kaggle/input/crime-cast-forecasting-crime-categories/train.csv\n",
      "/kaggle/input/crime-cast-forecasting-crime-categories/test.csv\n"
     ]
    }
   ],
   "source": [
    "# This Python 3 environment comes with many helpful analytics libraries installed\n",
    "# It is defined by the kaggle/python Docker image: https://github.com/kaggle/docker-python\n",
    "# For example, here's several helpful packages to load\n",
    "\n",
    "import numpy as np # linear algebra\n",
    "import pandas as pd # data processing, CSV file I/O (e.g. pd.read_csv)\n",
    "\n",
    "# Input data files are available in the read-only \"../input/\" directory\n",
    "# For example, running this (by clicking run or pressing Shift+Enter), will list all files under the input directory\n",
    "\n",
    "import os\n",
    "\n",
    "for dirname, _, filenames in os.walk('/kaggle/input'):\n",
    "    for filename in filenames:\n",
    "        print(os.path.join(dirname, filename))\n",
    "\n",
    "# You can write up to 20GB to the current directory (/kaggle/working/) that gets preserved as output when you create a version using \"Save & Run All\" \n",
    "# You can also write temporary files to /kaggle/temp/, but they won't be saved outside of the current session"
   ]
  },
  {
   "cell_type": "code",
   "execution_count": 2,
   "id": "b2529dde",
   "metadata": {
    "execution": {
     "iopub.execute_input": "2024-07-18T08:20:19.812875Z",
     "iopub.status.busy": "2024-07-18T08:20:19.812370Z",
     "iopub.status.idle": "2024-07-18T08:20:21.726592Z",
     "shell.execute_reply": "2024-07-18T08:20:21.725287Z"
    },
    "papermill": {
     "duration": 1.947217,
     "end_time": "2024-07-18T08:20:21.729375",
     "exception": false,
     "start_time": "2024-07-18T08:20:19.782158",
     "status": "completed"
    },
    "tags": []
   },
   "outputs": [],
   "source": [
    "import matplotlib.pyplot as plt\n",
    "import seaborn as sns \n",
    "\n",
    "\n",
    "import datetime\n",
    "\n",
    "\n",
    "from sklearn.model_selection import train_test_split \n",
    "\n",
    "\n",
    "from sklearn.metrics import classification_report , ConfusionMatrixDisplay"
   ]
  },
  {
   "cell_type": "code",
   "execution_count": 3,
   "id": "89494ac0",
   "metadata": {
    "execution": {
     "iopub.execute_input": "2024-07-18T08:20:21.790104Z",
     "iopub.status.busy": "2024-07-18T08:20:21.789714Z",
     "iopub.status.idle": "2024-07-18T08:20:22.153633Z",
     "shell.execute_reply": "2024-07-18T08:20:22.152340Z"
    },
    "papermill": {
     "duration": 0.397283,
     "end_time": "2024-07-18T08:20:22.156378",
     "exception": false,
     "start_time": "2024-07-18T08:20:21.759095",
     "status": "completed"
    },
    "tags": []
   },
   "outputs": [],
   "source": [
    "train =pd.read_csv('/kaggle/input/crime-cast-forecasting-crime-categories/train.csv')\n",
    "train2 =pd.read_csv('/kaggle/input/crime-cast-forecasting-crime-categories/train.csv')\n",
    "\n",
    "test_final=pd.read_csv('/kaggle/input/crime-cast-forecasting-crime-categories/test.csv')\n"
   ]
  },
  {
   "cell_type": "markdown",
   "id": "ab8c3008",
   "metadata": {
    "papermill": {
     "duration": 0.029411,
     "end_time": "2024-07-18T08:20:22.215464",
     "exception": false,
     "start_time": "2024-07-18T08:20:22.186053",
     "status": "completed"
    },
    "tags": []
   },
   "source": [
    "* Latitude range: [0:34] ( General range is -90 to 90 )\n",
    "* Longitude range: [-118: 0] (General range is 180 to 180)\n",
    "\n"
   ]
  },
  {
   "cell_type": "code",
   "execution_count": 4,
   "id": "4cfa0d67",
   "metadata": {
    "execution": {
     "iopub.execute_input": "2024-07-18T08:20:22.277692Z",
     "iopub.status.busy": "2024-07-18T08:20:22.277257Z",
     "iopub.status.idle": "2024-07-18T08:20:22.310592Z",
     "shell.execute_reply": "2024-07-18T08:20:22.309287Z"
    },
    "papermill": {
     "duration": 0.067192,
     "end_time": "2024-07-18T08:20:22.313172",
     "exception": false,
     "start_time": "2024-07-18T08:20:22.245980",
     "status": "completed"
    },
    "tags": []
   },
   "outputs": [
    {
     "data": {
      "text/plain": [
       "Location                     0\n",
       "Cross_Street             16552\n",
       "Latitude                     0\n",
       "Longitude                    0\n",
       "Date_Reported                0\n",
       "Date_Occurred                0\n",
       "Time_Occurred                0\n",
       "Area_ID                      0\n",
       "Area_Name                    0\n",
       "Reporting_District_no        0\n",
       "Part 1-2                     0\n",
       "Modus_Operandi            2741\n",
       "Victim_Age                   0\n",
       "Victim_Sex                2624\n",
       "Victim_Descent            2624\n",
       "Premise_Code                 0\n",
       "Premise_Description          5\n",
       "Weapon_Used_Code         12665\n",
       "Weapon_Description       12665\n",
       "Status                       0\n",
       "Status_Description           0\n",
       "Crime_Category               0\n",
       "dtype: int64"
      ]
     },
     "execution_count": 4,
     "metadata": {},
     "output_type": "execute_result"
    }
   ],
   "source": [
    "train.isnull().sum()"
   ]
  },
  {
   "cell_type": "code",
   "execution_count": 5,
   "id": "de9c24b6",
   "metadata": {
    "execution": {
     "iopub.execute_input": "2024-07-18T08:20:22.373661Z",
     "iopub.status.busy": "2024-07-18T08:20:22.373240Z",
     "iopub.status.idle": "2024-07-18T08:20:22.378602Z",
     "shell.execute_reply": "2024-07-18T08:20:22.377361Z"
    },
    "papermill": {
     "duration": 0.038527,
     "end_time": "2024-07-18T08:20:22.381036",
     "exception": false,
     "start_time": "2024-07-18T08:20:22.342509",
     "status": "completed"
    },
    "tags": []
   },
   "outputs": [],
   "source": [
    "# train=train[['Latitude','Longitude','Victim_Age','','Area_ID','']]"
   ]
  },
  {
   "cell_type": "code",
   "execution_count": 6,
   "id": "9d4c5a0b",
   "metadata": {
    "execution": {
     "iopub.execute_input": "2024-07-18T08:20:22.503223Z",
     "iopub.status.busy": "2024-07-18T08:20:22.502786Z",
     "iopub.status.idle": "2024-07-18T08:20:22.540999Z",
     "shell.execute_reply": "2024-07-18T08:20:22.539370Z"
    },
    "papermill": {
     "duration": 0.133622,
     "end_time": "2024-07-18T08:20:22.544046",
     "exception": false,
     "start_time": "2024-07-18T08:20:22.410424",
     "status": "completed"
    },
    "tags": []
   },
   "outputs": [
    {
     "name": "stdout",
     "output_type": "stream",
     "text": [
      "<class 'pandas.core.frame.DataFrame'>\n",
      "RangeIndex: 20000 entries, 0 to 19999\n",
      "Data columns (total 22 columns):\n",
      " #   Column                 Non-Null Count  Dtype  \n",
      "---  ------                 --------------  -----  \n",
      " 0   Location               20000 non-null  object \n",
      " 1   Cross_Street           3448 non-null   object \n",
      " 2   Latitude               20000 non-null  float64\n",
      " 3   Longitude              20000 non-null  float64\n",
      " 4   Date_Reported          20000 non-null  object \n",
      " 5   Date_Occurred          20000 non-null  object \n",
      " 6   Time_Occurred          20000 non-null  float64\n",
      " 7   Area_ID                20000 non-null  float64\n",
      " 8   Area_Name              20000 non-null  object \n",
      " 9   Reporting_District_no  20000 non-null  float64\n",
      " 10  Part 1-2               20000 non-null  float64\n",
      " 11  Modus_Operandi         17259 non-null  object \n",
      " 12  Victim_Age             20000 non-null  float64\n",
      " 13  Victim_Sex             17376 non-null  object \n",
      " 14  Victim_Descent         17376 non-null  object \n",
      " 15  Premise_Code           20000 non-null  float64\n",
      " 16  Premise_Description    19995 non-null  object \n",
      " 17  Weapon_Used_Code       7335 non-null   float64\n",
      " 18  Weapon_Description     7335 non-null   object \n",
      " 19  Status                 20000 non-null  object \n",
      " 20  Status_Description     20000 non-null  object \n",
      " 21  Crime_Category         20000 non-null  object \n",
      "dtypes: float64(9), object(13)\n",
      "memory usage: 3.4+ MB\n"
     ]
    }
   ],
   "source": [
    "train.info()"
   ]
  },
  {
   "cell_type": "markdown",
   "id": "a5cc535e",
   "metadata": {
    "papermill": {
     "duration": 0.030278,
     "end_time": "2024-07-18T08:20:22.605167",
     "exception": false,
     "start_time": "2024-07-18T08:20:22.574889",
     "status": "completed"
    },
    "tags": []
   },
   "source": [
    "# **Categorical Columns **"
   ]
  },
  {
   "cell_type": "markdown",
   "id": "641581ce",
   "metadata": {
    "papermill": {
     "duration": 0.02891,
     "end_time": "2024-07-18T08:20:22.663674",
     "exception": false,
     "start_time": "2024-07-18T08:20:22.634764",
     "status": "completed"
    },
    "tags": []
   },
   "source": [
    "# Location"
   ]
  },
  {
   "cell_type": "code",
   "execution_count": 7,
   "id": "996f1f15",
   "metadata": {
    "execution": {
     "iopub.execute_input": "2024-07-18T08:20:22.726179Z",
     "iopub.status.busy": "2024-07-18T08:20:22.725757Z",
     "iopub.status.idle": "2024-07-18T08:20:22.767020Z",
     "shell.execute_reply": "2024-07-18T08:20:22.765252Z"
    },
    "papermill": {
     "duration": 0.07569,
     "end_time": "2024-07-18T08:20:22.769833",
     "exception": false,
     "start_time": "2024-07-18T08:20:22.694143",
     "status": "completed"
    },
    "tags": []
   },
   "outputs": [
    {
     "name": "stdout",
     "output_type": "stream",
     "text": [
      "['4500    CARPENTER                    AV'\n",
      " '45TH                         ST'\n",
      " '600 E  MARTIN LUTHER KING JR        BL' ...\n",
      " '15800    STRATHERN                    ST'\n",
      " '5100 W  ADAMS                        BL'\n",
      " 'DALTON                       AV']\n",
      "--------------------------------\n",
      "Number of unqiue location :  12399\n",
      "--------------------------------\n",
      "['4500 CARPENTER AV' '45TH ST' '600 E MARTIN LUTHER KING JR BL' ...\n",
      " '15800 STRATHERN ST' '5100 W ADAMS BL' 'DALTON AV']\n",
      "Number of unqiue location :  12396\n"
     ]
    }
   ],
   "source": [
    "print(train['Location'].unique())\n",
    "\n",
    "\n",
    "print('--------------------------------')\n",
    "\n",
    "print('Number of unqiue location : '  , len(train['Location'].unique()))\n",
    "\n",
    "\n",
    "print('--------------------------------')\n",
    "\n",
    "\n",
    "train.loc[: , 'Location']=train['Location'].apply( lambda x : ' '.join(x.split()))\n",
    "\n",
    "print(train['Location'].unique())\n",
    "\n",
    "\n",
    "\n",
    "print('Number of unqiue location : '  , len(train['Location'].unique()))\n",
    "\n",
    "# print('Removed space' , len(train['Location'].unique()) )\n"
   ]
  },
  {
   "cell_type": "code",
   "execution_count": 8,
   "id": "c95ada6d",
   "metadata": {
    "execution": {
     "iopub.execute_input": "2024-07-18T08:20:22.835646Z",
     "iopub.status.busy": "2024-07-18T08:20:22.834243Z",
     "iopub.status.idle": "2024-07-18T08:20:23.645743Z",
     "shell.execute_reply": "2024-07-18T08:20:23.644527Z"
    },
    "papermill": {
     "duration": 0.846845,
     "end_time": "2024-07-18T08:20:23.648694",
     "exception": false,
     "start_time": "2024-07-18T08:20:22.801849",
     "status": "completed"
    },
    "tags": []
   },
   "outputs": [
    {
     "data": {
      "image/png": "[encoded data removed]",
      "text/plain": [
       "<Figure size 1000x600 with 1 Axes>"
      ]
     },
     "metadata": {},
     "output_type": "display_data"
    }
   ],
   "source": [
    "from wordcloud import WordCloud\n",
    "import matplotlib.pyplot as plt\n",
    "\n",
    "\n",
    "cloud = WordCloud(width=800, height=400, background_color='black').generate(str(train['Location']))\n",
    "plt.figure(figsize=(10, 6))\n",
    "plt.imshow(cloud)\n",
    "plt.show()\n"
   ]
  },
  {
   "cell_type": "code",
   "execution_count": 9,
   "id": "4e746936",
   "metadata": {
    "execution": {
     "iopub.execute_input": "2024-07-18T08:20:23.734138Z",
     "iopub.status.busy": "2024-07-18T08:20:23.733577Z",
     "iopub.status.idle": "2024-07-18T08:20:23.759099Z",
     "shell.execute_reply": "2024-07-18T08:20:23.757745Z"
    },
    "papermill": {
     "duration": 0.075866,
     "end_time": "2024-07-18T08:20:23.761631",
     "exception": false,
     "start_time": "2024-07-18T08:20:23.685765",
     "status": "completed"
    },
    "tags": []
   },
   "outputs": [
    {
     "data": {
      "text/plain": [
       "Location\n",
       "6TH                33\n",
       "7TH                32\n",
       "6TH ST             31\n",
       "VERMONT AV         31\n",
       "7TH ST             30\n",
       "                   ..\n",
       "2700 E 1ST ST       1\n",
       "9300 SWINTON AV     1\n",
       "MCKINLEY            1\n",
       "WADE ST             1\n",
       "DALTON AV           1\n",
       "Name: count, Length: 12396, dtype: int64"
      ]
     },
     "execution_count": 9,
     "metadata": {},
     "output_type": "execute_result"
    }
   ],
   "source": [
    "train['Location'].value_counts()"
   ]
  },
  {
   "cell_type": "code",
   "execution_count": 10,
   "id": "ebdd6dd2",
   "metadata": {
    "execution": {
     "iopub.execute_input": "2024-07-18T08:20:23.827760Z",
     "iopub.status.busy": "2024-07-18T08:20:23.827287Z",
     "iopub.status.idle": "2024-07-18T08:20:24.149133Z",
     "shell.execute_reply": "2024-07-18T08:20:24.147923Z"
    },
    "papermill": {
     "duration": 0.358318,
     "end_time": "2024-07-18T08:20:24.151867",
     "exception": false,
     "start_time": "2024-07-18T08:20:23.793549",
     "status": "completed"
    },
    "tags": []
   },
   "outputs": [
    {
     "data": {
      "text/plain": [
       "<Axes: xlabel='Location'>"
      ]
     },
     "execution_count": 10,
     "metadata": {},
     "output_type": "execute_result"
    },
    {
     "data": {
      "image/png": "[encoded data removed]",
      "text/plain": [
       "<Figure size 640x480 with 1 Axes>"
      ]
     },
     "metadata": {},
     "output_type": "display_data"
    }
   ],
   "source": [
    "train['Location'].value_counts().head(10).plot(kind='bar')"
   ]
  },
  {
   "cell_type": "markdown",
   "id": "03158b0d",
   "metadata": {
    "papermill": {
     "duration": 0.032371,
     "end_time": "2024-07-18T08:20:24.217894",
     "exception": false,
     "start_time": "2024-07-18T08:20:24.185523",
     "status": "completed"
    },
    "tags": []
   },
   "source": [
    "# Cross_Street"
   ]
  },
  {
   "cell_type": "code",
   "execution_count": 11,
   "id": "9c355cd4",
   "metadata": {
    "execution": {
     "iopub.execute_input": "2024-07-18T08:20:24.284418Z",
     "iopub.status.busy": "2024-07-18T08:20:24.283923Z",
     "iopub.status.idle": "2024-07-18T08:20:24.309907Z",
     "shell.execute_reply": "2024-07-18T08:20:24.308366Z"
    },
    "papermill": {
     "duration": 0.063035,
     "end_time": "2024-07-18T08:20:24.312711",
     "exception": false,
     "start_time": "2024-07-18T08:20:24.249676",
     "status": "completed"
    },
    "tags": []
   },
   "outputs": [
    {
     "name": "stdout",
     "output_type": "stream",
     "text": [
      " unqiue values after replacing the null values\n",
      "['' 'ALAMEDA                      ST' 'LASSEN                       ST'\n",
      " ... 'VICTORIA' '39TH                         ST' 'HAVELOCK']\n",
      "Number of unique values :  1496\n",
      "----------------------------------------------------\n",
      "Number of null values values the cross_street column originally has  16552\n"
     ]
    }
   ],
   "source": [
    "# print('unqiue values before replacing the null values')\n",
    "# print(train['Cross_Street'].unique())\n",
    "\n",
    "# print(\"Number of unique values : \" , len(train['Cross_Street'].unique()) )\n",
    "\n",
    "# print('----------------------------------------------------')\n",
    "train.loc[:,'Cross_Street']=train['Cross_Street'].fillna('')\n",
    "\n",
    "\n",
    "print(' unqiue values after replacing the null values')\n",
    "\n",
    "\n",
    "print(train['Cross_Street'].unique())\n",
    "\n",
    "# train.loc[: , 'Cross_Street']=train['Cross_Street'].apply( lambda x : ' '.join(x.split()))\n",
    "\n",
    "train.loc[: , 'Cross_Street']=train['Cross_Street'].apply( lambda x : ' '.join(x.split()))\n",
    "\n",
    "print(\"Number of unique values : \" , len(train['Cross_Street'].unique()) )\n",
    "\n",
    "\n",
    "print('----------------------------------------------------')\n",
    "\n",
    "\n",
    "print(\"Number of null values values the cross_street column originally has \" ,16552)"
   ]
  },
  {
   "cell_type": "code",
   "execution_count": 12,
   "id": "ef3aecf2",
   "metadata": {
    "execution": {
     "iopub.execute_input": "2024-07-18T08:20:24.387431Z",
     "iopub.status.busy": "2024-07-18T08:20:24.387019Z",
     "iopub.status.idle": "2024-07-18T08:20:24.409337Z",
     "shell.execute_reply": "2024-07-18T08:20:24.408232Z"
    },
    "papermill": {
     "duration": 0.062943,
     "end_time": "2024-07-18T08:20:24.411740",
     "exception": false,
     "start_time": "2024-07-18T08:20:24.348797",
     "status": "completed"
    },
    "tags": []
   },
   "outputs": [
    {
     "data": {
      "text/plain": [
       "Location                     0\n",
       "Cross_Street                 0\n",
       "Latitude                     0\n",
       "Longitude                    0\n",
       "Date_Reported                0\n",
       "Date_Occurred                0\n",
       "Time_Occurred                0\n",
       "Area_ID                      0\n",
       "Area_Name                    0\n",
       "Reporting_District_no        0\n",
       "Part 1-2                     0\n",
       "Modus_Operandi            2741\n",
       "Victim_Age                   0\n",
       "Victim_Sex                2624\n",
       "Victim_Descent            2624\n",
       "Premise_Code                 0\n",
       "Premise_Description          5\n",
       "Weapon_Used_Code         12665\n",
       "Weapon_Description       12665\n",
       "Status                       0\n",
       "Status_Description           0\n",
       "Crime_Category               0\n",
       "dtype: int64"
      ]
     },
     "execution_count": 12,
     "metadata": {},
     "output_type": "execute_result"
    }
   ],
   "source": [
    "train.isnull().sum()"
   ]
  },
  {
   "cell_type": "markdown",
   "id": "c170142c",
   "metadata": {
    "papermill": {
     "duration": 0.033772,
     "end_time": "2024-07-18T08:20:24.478686",
     "exception": false,
     "start_time": "2024-07-18T08:20:24.444914",
     "status": "completed"
    },
    "tags": []
   },
   "source": [
    "# Area_ID\n"
   ]
  },
  {
   "cell_type": "code",
   "execution_count": 13,
   "id": "d1283a17",
   "metadata": {
    "execution": {
     "iopub.execute_input": "2024-07-18T08:20:24.547574Z",
     "iopub.status.busy": "2024-07-18T08:20:24.547130Z",
     "iopub.status.idle": "2024-07-18T08:20:24.887464Z",
     "shell.execute_reply": "2024-07-18T08:20:24.886364Z"
    },
    "papermill": {
     "duration": 0.376875,
     "end_time": "2024-07-18T08:20:24.889988",
     "exception": false,
     "start_time": "2024-07-18T08:20:24.513113",
     "status": "completed"
    },
    "tags": []
   },
   "outputs": [
    {
     "name": "stdout",
     "output_type": "stream",
     "text": [
      "unique values of area id are :\n",
      "[15. 13. 19. 12. 11.  4. 14.  9. 17.  7.  6.  5. 21.  1. 10. 20. 16.  8.\n",
      " 18.  3.  2.]\n",
      "-------------------------------------------\n",
      "Number of unique values are  21\n",
      "Number of null values are  0\n",
      "-------------------------------------------\n",
      "Area_ID\n",
      "12.0    1345\n",
      "14.0    1157\n",
      "1.0     1156\n",
      "3.0     1130\n",
      "18.0    1067\n",
      "15.0    1065\n",
      "6.0     1014\n",
      "13.0     999\n",
      "20.0     960\n",
      "7.0      943\n",
      "2.0      931\n",
      "8.0      910\n",
      "9.0      902\n",
      "5.0      872\n",
      "19.0     870\n",
      "11.0     839\n",
      "21.0     792\n",
      "10.0     790\n",
      "17.0     769\n",
      "4.0      755\n",
      "16.0     734\n",
      "Name: count, dtype: int64\n",
      "-------------------------------------------\n"
     ]
    },
    {
     "name": "stderr",
     "output_type": "stream",
     "text": [
      "/tmp/ipykernel_18/2200294362.py:14: FutureWarning: Setting an item of incompatible dtype is deprecated and will raise in a future error of pandas. Value '['15.0' '13.0' '13.0' ... '8.0' '5.0' '3.0']' has dtype incompatible with float64, please explicitly cast to a compatible dtype first.\n",
      "  train.loc[:,'Area_ID']=train['Area_ID'].astype(str)\n"
     ]
    },
    {
     "data": {
      "image/png": "[encoded data removed]",
      "text/plain": [
       "<Figure size 640x480 with 1 Axes>"
      ]
     },
     "metadata": {},
     "output_type": "display_data"
    },
    {
     "data": {
      "text/plain": [
       "<Figure size 1500x1000 with 0 Axes>"
      ]
     },
     "metadata": {},
     "output_type": "display_data"
    }
   ],
   "source": [
    "print('unique values of area id are :')\n",
    "print(train['Area_ID'].unique())\n",
    "\n",
    "print('-------------------------------------------')\n",
    "\n",
    "print('Number of unique values are ' , len(train['Area_ID'].unique()))\n",
    "\n",
    "\n",
    "print('Number of null values are ' , train['Area_ID'].isnull().sum())\n",
    "\n",
    "\n",
    "print('-------------------------------------------')\n",
    "\n",
    "train.loc[:,'Area_ID']=train['Area_ID'].astype(str)\n",
    "train.loc[:,'Area_ID']=train['Area_ID'].astype('category')\n",
    "\n",
    "print(train['Area_ID'].value_counts())\n",
    "\n",
    "\n",
    "print('-------------------------------------------')\n",
    "\n",
    "\n",
    "Area_ID_value_counts=train['Area_ID'].value_counts()\n",
    "\n",
    "Area_ID_value_counts.plot(kind='bar')\n",
    "plt.figure(figsize=(15, 10))\n",
    "\n",
    "plt.show()"
   ]
  },
  {
   "cell_type": "markdown",
   "id": "8f28f6a6",
   "metadata": {
    "papermill": {
     "duration": 0.033141,
     "end_time": "2024-07-18T08:20:24.958271",
     "exception": false,
     "start_time": "2024-07-18T08:20:24.925130",
     "status": "completed"
    },
    "tags": []
   },
   "source": [
    "# Area_Name"
   ]
  },
  {
   "cell_type": "markdown",
   "id": "58c7f4fc",
   "metadata": {
    "papermill": {
     "duration": 0.032477,
     "end_time": "2024-07-18T08:20:25.024375",
     "exception": false,
     "start_time": "2024-07-18T08:20:24.991898",
     "status": "completed"
    },
    "tags": []
   },
   "source": [
    "Area Name == Area id columns"
   ]
  },
  {
   "cell_type": "code",
   "execution_count": 14,
   "id": "d0d5f188",
   "metadata": {
    "execution": {
     "iopub.execute_input": "2024-07-18T08:20:25.092669Z",
     "iopub.status.busy": "2024-07-18T08:20:25.092254Z",
     "iopub.status.idle": "2024-07-18T08:20:25.106239Z",
     "shell.execute_reply": "2024-07-18T08:20:25.104753Z"
    },
    "papermill": {
     "duration": 0.051286,
     "end_time": "2024-07-18T08:20:25.108849",
     "exception": false,
     "start_time": "2024-07-18T08:20:25.057563",
     "status": "completed"
    },
    "tags": []
   },
   "outputs": [
    {
     "name": "stdout",
     "output_type": "stream",
     "text": [
      "unique areas are\n",
      "['N Hollywood' 'Newton' 'Mission' '77th Street' 'Northeast' 'Hollenbeck'\n",
      " 'Pacific' 'Van Nuys' 'Devonshire' 'Wilshire' 'Hollywood' 'Harbor'\n",
      " 'Topanga' 'Central' 'West Valley' 'Olympic' 'Foothill' 'West LA'\n",
      " 'Southeast' 'Southwest' 'Rampart']\n",
      "-------------------------------------------\n",
      "Number of unique values are  21\n",
      "-------------------------------------------\n",
      "Number of null values are  0\n",
      "-------------------------------------------\n",
      "Area_Name\n",
      "77th Street    1345\n",
      "Pacific        1157\n",
      "Central        1156\n",
      "Southwest      1130\n",
      "Southeast      1067\n",
      "N Hollywood    1065\n",
      "Hollywood      1014\n",
      "Newton          999\n",
      "Olympic         960\n",
      "Wilshire        943\n",
      "Rampart         931\n",
      "West LA         910\n",
      "Van Nuys        902\n",
      "Harbor          872\n",
      "Mission         870\n",
      "Northeast       839\n",
      "Topanga         792\n",
      "West Valley     790\n",
      "Devonshire      769\n",
      "Hollenbeck      755\n",
      "Foothill        734\n",
      "Name: count, dtype: int64\n"
     ]
    }
   ],
   "source": [
    "print('unique areas are')\n",
    "print(train['Area_Name'].unique())\n",
    "\n",
    "print('-------------------------------------------')\n",
    "\n",
    "\n",
    "print('Number of unique values are ' , len(train['Area_Name'].unique()))\n",
    "\n",
    "print('-------------------------------------------')\n",
    "\n",
    "print('Number of null values are ' , train['Area_Name'].isnull().sum())\n",
    "print('-------------------------------------------')\n",
    "\n",
    "print(train['Area_Name'].value_counts())\n"
   ]
  },
  {
   "cell_type": "markdown",
   "id": "6db23a75",
   "metadata": {
    "papermill": {
     "duration": 0.032765,
     "end_time": "2024-07-18T08:20:25.174685",
     "exception": false,
     "start_time": "2024-07-18T08:20:25.141920",
     "status": "completed"
    },
    "tags": []
   },
   "source": [
    "# Reporting_District_no"
   ]
  },
  {
   "cell_type": "code",
   "execution_count": 15,
   "id": "ca02d89f",
   "metadata": {
    "execution": {
     "iopub.execute_input": "2024-07-18T08:20:25.245503Z",
     "iopub.status.busy": "2024-07-18T08:20:25.245082Z",
     "iopub.status.idle": "2024-07-18T08:20:25.272925Z",
     "shell.execute_reply": "2024-07-18T08:20:25.271387Z"
    },
    "papermill": {
     "duration": 0.066022,
     "end_time": "2024-07-18T08:20:25.275808",
     "exception": false,
     "start_time": "2024-07-18T08:20:25.209786",
     "status": "completed"
    },
    "tags": []
   },
   "outputs": [
    {
     "name": "stdout",
     "output_type": "stream",
     "text": [
      "<class 'pandas.core.frame.DataFrame'>\n",
      "RangeIndex: 20000 entries, 0 to 19999\n",
      "Data columns (total 22 columns):\n",
      " #   Column                 Non-Null Count  Dtype  \n",
      "---  ------                 --------------  -----  \n",
      " 0   Location               20000 non-null  object \n",
      " 1   Cross_Street           20000 non-null  object \n",
      " 2   Latitude               20000 non-null  float64\n",
      " 3   Longitude              20000 non-null  float64\n",
      " 4   Date_Reported          20000 non-null  object \n",
      " 5   Date_Occurred          20000 non-null  object \n",
      " 6   Time_Occurred          20000 non-null  float64\n",
      " 7   Area_ID                20000 non-null  object \n",
      " 8   Area_Name              20000 non-null  object \n",
      " 9   Reporting_District_no  20000 non-null  float64\n",
      " 10  Part 1-2               20000 non-null  float64\n",
      " 11  Modus_Operandi         17259 non-null  object \n",
      " 12  Victim_Age             20000 non-null  float64\n",
      " 13  Victim_Sex             17376 non-null  object \n",
      " 14  Victim_Descent         17376 non-null  object \n",
      " 15  Premise_Code           20000 non-null  float64\n",
      " 16  Premise_Description    19995 non-null  object \n",
      " 17  Weapon_Used_Code       7335 non-null   float64\n",
      " 18  Weapon_Description     7335 non-null   object \n",
      " 19  Status                 20000 non-null  object \n",
      " 20  Status_Description     20000 non-null  object \n",
      " 21  Crime_Category         20000 non-null  object \n",
      "dtypes: float64(8), object(14)\n",
      "memory usage: 3.4+ MB\n"
     ]
    }
   ],
   "source": [
    "train.info()"
   ]
  },
  {
   "cell_type": "code",
   "execution_count": 16,
   "id": "f1194416",
   "metadata": {
    "execution": {
     "iopub.execute_input": "2024-07-18T08:20:25.343990Z",
     "iopub.status.busy": "2024-07-18T08:20:25.343590Z",
     "iopub.status.idle": "2024-07-18T08:20:25.663352Z",
     "shell.execute_reply": "2024-07-18T08:20:25.662321Z"
    },
    "papermill": {
     "duration": 0.356482,
     "end_time": "2024-07-18T08:20:25.665765",
     "exception": false,
     "start_time": "2024-07-18T08:20:25.309283",
     "status": "completed"
    },
    "tags": []
   },
   "outputs": [
    {
     "name": "stdout",
     "output_type": "stream",
     "text": [
      "unique areas are\n",
      "['1563.0' '1367.0' '1343.0' ... '1778.0' '1199.0' '812.0']\n",
      "-------------------------------------------\n",
      "Number of unique values are  1120\n",
      "-------------------------------------------\n",
      "Number of null values are  0\n",
      "-------------------------------------------\n",
      "Reporting_District_no\n",
      "645.0     99\n",
      "162.0     85\n",
      "1494.0    74\n",
      "1822.0    72\n",
      "182.0     72\n",
      "          ..\n",
      "452.0      1\n",
      "871.0      1\n",
      "1476.0     1\n",
      "848.0      1\n",
      "812.0      1\n",
      "Name: count, Length: 1120, dtype: int64\n",
      "-------------------------------------------\n"
     ]
    },
    {
     "name": "stderr",
     "output_type": "stream",
     "text": [
      "/tmp/ipykernel_18/4222087248.py:1: FutureWarning: Setting an item of incompatible dtype is deprecated and will raise in a future error of pandas. Value '['1563.0' '1367.0' '1343.0' ... '849.0' '558.0' '397.0']' has dtype incompatible with float64, please explicitly cast to a compatible dtype first.\n",
      "  train.loc[:,'Reporting_District_no']=train['Reporting_District_no'].astype(str)\n"
     ]
    },
    {
     "data": {
      "image/png": "[encoded data removed]",
      "text/plain": [
       "<Figure size 640x480 with 1 Axes>"
      ]
     },
     "metadata": {},
     "output_type": "display_data"
    },
    {
     "data": {
      "text/plain": [
       "<Figure size 1000x600 with 0 Axes>"
      ]
     },
     "metadata": {},
     "output_type": "display_data"
    }
   ],
   "source": [
    "train.loc[:,'Reporting_District_no']=train['Reporting_District_no'].astype(str)\n",
    "train.loc[:,'Reporting_District_no']=train['Reporting_District_no'].astype('category')\n",
    "\n",
    "                                      \n",
    "print('unique areas are')\n",
    "print(train['Reporting_District_no'].unique())\n",
    "\n",
    "print('-------------------------------------------')\n",
    "\n",
    "\n",
    "print('Number of unique values are ' , len(train['Reporting_District_no'].unique()))\n",
    "\n",
    "print('-------------------------------------------')\n",
    "\n",
    "print('Number of null values are ' , train['Reporting_District_no'].isnull().sum())\n",
    "print('-------------------------------------------')\n",
    "\n",
    "print(train['Reporting_District_no'].value_counts())\n",
    "\n",
    "\n",
    "Reporting_District_no_value_counts=train['Reporting_District_no'].value_counts()\n",
    "print('-------------------------------------------')\n",
    "\n",
    "\n",
    "\n",
    "Reporting_District_no_value_counts.head(20).plot(kind='bar')\n",
    "plt.figure(figsize=(10, 6))\n",
    "plt.show()\n"
   ]
  },
  {
   "cell_type": "markdown",
   "id": "d4bfb77e",
   "metadata": {
    "papermill": {
     "duration": 0.03322,
     "end_time": "2024-07-18T08:20:25.732755",
     "exception": false,
     "start_time": "2024-07-18T08:20:25.699535",
     "status": "completed"
    },
    "tags": []
   },
   "source": [
    "# Part 1-2"
   ]
  },
  {
   "cell_type": "code",
   "execution_count": 17,
   "id": "24110a9e",
   "metadata": {
    "execution": {
     "iopub.execute_input": "2024-07-18T08:20:25.802552Z",
     "iopub.status.busy": "2024-07-18T08:20:25.802096Z",
     "iopub.status.idle": "2024-07-18T08:20:26.003301Z",
     "shell.execute_reply": "2024-07-18T08:20:26.002219Z"
    },
    "papermill": {
     "duration": 0.239046,
     "end_time": "2024-07-18T08:20:26.006080",
     "exception": false,
     "start_time": "2024-07-18T08:20:25.767034",
     "status": "completed"
    },
    "tags": []
   },
   "outputs": [
    {
     "name": "stdout",
     "output_type": "stream",
     "text": [
      "Unique values in Part 1-2 columns are: ['1.0' '2.0']\n",
      "----------------------------------------\n",
      " value counts in Part 1-2 columns are: Part 1-2\n",
      "1.0    11637\n",
      "2.0     8363\n",
      "Name: count, dtype: int64\n",
      "----------------------------------------\n"
     ]
    },
    {
     "name": "stderr",
     "output_type": "stream",
     "text": [
      "/tmp/ipykernel_18/2574664916.py:1: FutureWarning: Setting an item of incompatible dtype is deprecated and will raise in a future error of pandas. Value '['1.0' '1.0' '2.0' ... '1.0' '2.0' '1.0']' has dtype incompatible with float64, please explicitly cast to a compatible dtype first.\n",
      "  train.loc[:,'Part 1-2']=train['Part 1-2'].astype(str)\n"
     ]
    },
    {
     "data": {
      "text/plain": [
       "<Axes: xlabel='Part 1-2'>"
      ]
     },
     "execution_count": 17,
     "metadata": {},
     "output_type": "execute_result"
    },
    {
     "data": {
      "image/png": "[encoded data removed]",
      "text/plain": [
       "<Figure size 640x480 with 1 Axes>"
      ]
     },
     "metadata": {},
     "output_type": "display_data"
    }
   ],
   "source": [
    "train.loc[:,'Part 1-2']=train['Part 1-2'].astype(str)\n",
    "\n",
    "print(\"Unique values in Part 1-2 columns are:\",train['Part 1-2'].unique())\n",
    "\n",
    "print('----------------------------------------')\n",
    "\n",
    "print(\" value counts in Part 1-2 columns are:\",train['Part 1-2'].value_counts())\n",
    "\n",
    "\n",
    "print('----------------------------------------')\n",
    "\n",
    "value_counts_part_1_2=train['Part 1-2'].value_counts()\n",
    "\n",
    "value_counts_part_1_2.plot(kind='bar')"
   ]
  },
  {
   "cell_type": "markdown",
   "id": "799474b1",
   "metadata": {
    "papermill": {
     "duration": 0.034105,
     "end_time": "2024-07-18T08:20:26.074885",
     "exception": false,
     "start_time": "2024-07-18T08:20:26.040780",
     "status": "completed"
    },
    "tags": []
   },
   "source": [
    "# Modus_Operandi"
   ]
  },
  {
   "cell_type": "code",
   "execution_count": 18,
   "id": "beaeb2c5",
   "metadata": {
    "execution": {
     "iopub.execute_input": "2024-07-18T08:20:26.146823Z",
     "iopub.status.busy": "2024-07-18T08:20:26.146380Z",
     "iopub.status.idle": "2024-07-18T08:20:26.155415Z",
     "shell.execute_reply": "2024-07-18T08:20:26.154077Z"
    },
    "papermill": {
     "duration": 0.048193,
     "end_time": "2024-07-18T08:20:26.158075",
     "exception": false,
     "start_time": "2024-07-18T08:20:26.109882",
     "status": "completed"
    },
    "tags": []
   },
   "outputs": [
    {
     "data": {
      "text/plain": [
       "0                                           0385\n",
       "1        0906 0352 0371 0446 1822 0344 0416 0417\n",
       "2                                      0329 1202\n",
       "3                                      0329 1300\n",
       "4                  0416 0945 1822 0400 0417 0344\n",
       "                          ...                   \n",
       "19995                        0416 0446 2004 0913\n",
       "19996                   1822 0209 0344 1414 1420\n",
       "19997                             0344 1822 1420\n",
       "19998              1202 2038 0913 0602 1242 0553\n",
       "19999                                        NaN\n",
       "Name: Modus_Operandi, Length: 20000, dtype: object"
      ]
     },
     "execution_count": 18,
     "metadata": {},
     "output_type": "execute_result"
    }
   ],
   "source": [
    "train['Modus_Operandi']"
   ]
  },
  {
   "cell_type": "code",
   "execution_count": 19,
   "id": "3bfd5800",
   "metadata": {
    "execution": {
     "iopub.execute_input": "2024-07-18T08:20:26.229260Z",
     "iopub.status.busy": "2024-07-18T08:20:26.228270Z",
     "iopub.status.idle": "2024-07-18T08:20:26.256023Z",
     "shell.execute_reply": "2024-07-18T08:20:26.254617Z"
    },
    "papermill": {
     "duration": 0.065781,
     "end_time": "2024-07-18T08:20:26.258607",
     "exception": false,
     "start_time": "2024-07-18T08:20:26.192826",
     "status": "completed"
    },
    "tags": []
   },
   "outputs": [
    {
     "name": "stdout",
     "output_type": "stream",
     "text": [
      "Unique values in Modus_Operandi are  ['0385' '0906 0352 0371 0446 1822 0344 0416 0417' '0329 1202' ...\n",
      " '0416 0446 2004 0913' '1822 0209 0344 1414 1420'\n",
      " '1202 2038 0913 0602 1242 0553']\n",
      " \n",
      "Each  row value is combination of diff-diff activities so thats the reason we have  10489 uniques values.\n",
      "\n",
      "----------------------------------------------------------\n",
      "Modus_Operandi\n",
      "0344                                       826\n",
      "0329                                       583\n",
      "1501                                       187\n",
      "0329 1300                                  135\n",
      "0325                                       127\n",
      "                                          ... \n",
      "1609 0329 1307 0344                          1\n",
      "0344 2050 0910 2034                          1\n",
      "0400 2000 0913                               1\n",
      "1822 0342 0910 2049 2051 0305 0444 0344      1\n",
      "1202 2038 0913 0602 1242 0553                1\n",
      "Name: count, Length: 10489, dtype: int64\n",
      "\n",
      "\n",
      "----------------------------------------------------------\n",
      "Number of null values after fill with empty string are  0\n"
     ]
    }
   ],
   "source": [
    "print(\"Unique values in Modus_Operandi are \",train['Modus_Operandi'].unique())\n",
    "print(\" \")\n",
    "print(\"Each  row value is combination of diff-diff activities so thats the reason we have  10489 uniques values.\")\n",
    "\n",
    "print('')\n",
    "\n",
    "print('----------------------------------------------------------')\n",
    "\n",
    "print(train['Modus_Operandi'].value_counts())\n",
    "\n",
    "print('')\n",
    "\n",
    "Modus_Operandi_value_counts=train['Modus_Operandi'].value_counts()\n",
    "\n",
    "print('')\n",
    "\n",
    "\n",
    "\n",
    "print('----------------------------------------------------------')\n",
    "\n",
    "\n",
    "train['Modus_Operandi'] = train['Modus_Operandi'].fillna('')\n",
    "\n",
    "print(\"Number of null values after fill with empty string are \",train['Modus_Operandi'].isnull().sum())\n"
   ]
  },
  {
   "cell_type": "code",
   "execution_count": 20,
   "id": "7674e28d",
   "metadata": {
    "execution": {
     "iopub.execute_input": "2024-07-18T08:20:26.331804Z",
     "iopub.status.busy": "2024-07-18T08:20:26.331420Z",
     "iopub.status.idle": "2024-07-18T08:20:26.584824Z",
     "shell.execute_reply": "2024-07-18T08:20:26.583690Z"
    },
    "papermill": {
     "duration": 0.293279,
     "end_time": "2024-07-18T08:20:26.587268",
     "exception": false,
     "start_time": "2024-07-18T08:20:26.293989",
     "status": "completed"
    },
    "tags": []
   },
   "outputs": [
    {
     "data": {
      "text/plain": [
       "<Axes: xlabel='Modus_Operandi'>"
      ]
     },
     "execution_count": 20,
     "metadata": {},
     "output_type": "execute_result"
    },
    {
     "data": {
      "image/png": "[encoded data removed]",
      "text/plain": [
       "<Figure size 640x480 with 1 Axes>"
      ]
     },
     "metadata": {},
     "output_type": "display_data"
    }
   ],
   "source": [
    "Modus_Operandi_value_counts.head(10).plot(kind='bar')"
   ]
  },
  {
   "cell_type": "code",
   "execution_count": 21,
   "id": "dd23d6eb",
   "metadata": {
    "execution": {
     "iopub.execute_input": "2024-07-18T08:20:26.660530Z",
     "iopub.status.busy": "2024-07-18T08:20:26.660122Z",
     "iopub.status.idle": "2024-07-18T08:20:26.695241Z",
     "shell.execute_reply": "2024-07-18T08:20:26.694078Z"
    },
    "papermill": {
     "duration": 0.07432,
     "end_time": "2024-07-18T08:20:26.697999",
     "exception": false,
     "start_time": "2024-07-18T08:20:26.623679",
     "status": "completed"
    },
    "tags": []
   },
   "outputs": [],
   "source": [
    "# def number_of_activities(s):\n",
    "#     activities=[]\n",
    "#     s=str(s)\n",
    "#     a=s.split(' ')\n",
    "#     for i in a:\n",
    "#         if a not in activities:\n",
    "#             activities.append(a)\n",
    "#     return activities\n",
    "\n",
    "def number_of_activities(s):\n",
    "    if s=='':  # Handle NaN values\n",
    "        return 0\n",
    "    activities_list=s.split()\n",
    "    activity_count = list(set(activities_list))\n",
    "#     activities = set()  # Using a set to avoid duplicates efficiently\n",
    "#     for activity in s.split(' '):\n",
    "#         activities.add(str(activity))\n",
    "#     activities=' '.join(activities)    \n",
    "    return len(activity_count)\n",
    "train['activity_count']=train['Modus_Operandi'].apply(number_of_activities)\n",
    "# df.drop('Modus_Operandi',axis=1)\n",
    "# df['Modus_Operandi']=df['unique_activities']\n",
    "# df.drop('unique_activities',axis=1,inplace=True)"
   ]
  },
  {
   "cell_type": "code",
   "execution_count": 22,
   "id": "5b03c565",
   "metadata": {
    "execution": {
     "iopub.execute_input": "2024-07-18T08:20:26.770325Z",
     "iopub.status.busy": "2024-07-18T08:20:26.769951Z",
     "iopub.status.idle": "2024-07-18T08:20:26.792750Z",
     "shell.execute_reply": "2024-07-18T08:20:26.791503Z"
    },
    "papermill": {
     "duration": 0.061572,
     "end_time": "2024-07-18T08:20:26.795248",
     "exception": false,
     "start_time": "2024-07-18T08:20:26.733676",
     "status": "completed"
    },
    "tags": []
   },
   "outputs": [
    {
     "data": {
      "text/html": [
       "<div>\n",
       "<style scoped>\n",
       "    .dataframe tbody tr th:only-of-type {\n",
       "        vertical-align: middle;\n",
       "    }\n",
       "\n",
       "    .dataframe tbody tr th {\n",
       "        vertical-align: top;\n",
       "    }\n",
       "\n",
       "    .dataframe thead th {\n",
       "        text-align: right;\n",
       "    }\n",
       "</style>\n",
       "<table border=\"1\" class=\"dataframe\">\n",
       "  <thead>\n",
       "    <tr style=\"text-align: right;\">\n",
       "      <th></th>\n",
       "      <th>Modus_Operandi</th>\n",
       "      <th>activity_count</th>\n",
       "    </tr>\n",
       "  </thead>\n",
       "  <tbody>\n",
       "    <tr>\n",
       "      <th>0</th>\n",
       "      <td>0385</td>\n",
       "      <td>1</td>\n",
       "    </tr>\n",
       "    <tr>\n",
       "      <th>1</th>\n",
       "      <td>0906 0352 0371 0446 1822 0344 0416 0417</td>\n",
       "      <td>8</td>\n",
       "    </tr>\n",
       "    <tr>\n",
       "      <th>2</th>\n",
       "      <td>0329 1202</td>\n",
       "      <td>2</td>\n",
       "    </tr>\n",
       "    <tr>\n",
       "      <th>3</th>\n",
       "      <td>0329 1300</td>\n",
       "      <td>2</td>\n",
       "    </tr>\n",
       "    <tr>\n",
       "      <th>4</th>\n",
       "      <td>0416 0945 1822 0400 0417 0344</td>\n",
       "      <td>6</td>\n",
       "    </tr>\n",
       "    <tr>\n",
       "      <th>...</th>\n",
       "      <td>...</td>\n",
       "      <td>...</td>\n",
       "    </tr>\n",
       "    <tr>\n",
       "      <th>19995</th>\n",
       "      <td>0416 0446 2004 0913</td>\n",
       "      <td>4</td>\n",
       "    </tr>\n",
       "    <tr>\n",
       "      <th>19996</th>\n",
       "      <td>1822 0209 0344 1414 1420</td>\n",
       "      <td>5</td>\n",
       "    </tr>\n",
       "    <tr>\n",
       "      <th>19997</th>\n",
       "      <td>0344 1822 1420</td>\n",
       "      <td>3</td>\n",
       "    </tr>\n",
       "    <tr>\n",
       "      <th>19998</th>\n",
       "      <td>1202 2038 0913 0602 1242 0553</td>\n",
       "      <td>6</td>\n",
       "    </tr>\n",
       "    <tr>\n",
       "      <th>19999</th>\n",
       "      <td></td>\n",
       "      <td>0</td>\n",
       "    </tr>\n",
       "  </tbody>\n",
       "</table>\n",
       "<p>20000 rows × 2 columns</p>\n",
       "</div>"
      ],
      "text/plain": [
       "                                Modus_Operandi  activity_count\n",
       "0                                         0385               1\n",
       "1      0906 0352 0371 0446 1822 0344 0416 0417               8\n",
       "2                                    0329 1202               2\n",
       "3                                    0329 1300               2\n",
       "4                0416 0945 1822 0400 0417 0344               6\n",
       "...                                        ...             ...\n",
       "19995                      0416 0446 2004 0913               4\n",
       "19996                 1822 0209 0344 1414 1420               5\n",
       "19997                           0344 1822 1420               3\n",
       "19998            1202 2038 0913 0602 1242 0553               6\n",
       "19999                                                        0\n",
       "\n",
       "[20000 rows x 2 columns]"
      ]
     },
     "execution_count": 22,
     "metadata": {},
     "output_type": "execute_result"
    }
   ],
   "source": [
    "train[['Modus_Operandi','activity_count']]"
   ]
  },
  {
   "cell_type": "code",
   "execution_count": 23,
   "id": "f319f730",
   "metadata": {
    "execution": {
     "iopub.execute_input": "2024-07-18T08:20:26.870234Z",
     "iopub.status.busy": "2024-07-18T08:20:26.869234Z",
     "iopub.status.idle": "2024-07-18T08:20:26.876191Z",
     "shell.execute_reply": "2024-07-18T08:20:26.875106Z"
    },
    "papermill": {
     "duration": 0.046057,
     "end_time": "2024-07-18T08:20:26.878474",
     "exception": false,
     "start_time": "2024-07-18T08:20:26.832417",
     "status": "completed"
    },
    "tags": []
   },
   "outputs": [],
   "source": [
    "from sklearn.base import BaseEstimator, TransformerMixin\n",
    "from sklearn.preprocessing import MultiLabelBinarizer\n",
    "\n",
    "class MultiLabelBinarizerWrapper(BaseEstimator, TransformerMixin):\n",
    "    def __init__(self):\n",
    "        self.mlb = MultiLabelBinarizer()\n",
    "\n",
    "    def fit(self, X, y=None):\n",
    "        self.mlb.fit(X)\n",
    "        return self\n",
    "\n",
    "    def transform(self, X):\n",
    "        return self.mlb.transform(X)"
   ]
  },
  {
   "cell_type": "markdown",
   "id": "f0a74cb6",
   "metadata": {
    "papermill": {
     "duration": 0.038654,
     "end_time": "2024-07-18T08:20:26.953197",
     "exception": false,
     "start_time": "2024-07-18T08:20:26.914543",
     "status": "completed"
    },
    "tags": []
   },
   "source": [
    "# Status and Status_Description "
   ]
  },
  {
   "cell_type": "markdown",
   "id": "05cdacea",
   "metadata": {
    "papermill": {
     "duration": 0.038224,
     "end_time": "2024-07-18T08:20:27.030232",
     "exception": false,
     "start_time": "2024-07-18T08:20:26.992008",
     "status": "completed"
    },
    "tags": []
   },
   "source": [
    "Status and Status_Description convey same information "
   ]
  },
  {
   "cell_type": "code",
   "execution_count": 24,
   "id": "b4791315",
   "metadata": {
    "execution": {
     "iopub.execute_input": "2024-07-18T08:20:27.109131Z",
     "iopub.status.busy": "2024-07-18T08:20:27.108750Z",
     "iopub.status.idle": "2024-07-18T08:20:27.499331Z",
     "shell.execute_reply": "2024-07-18T08:20:27.498103Z"
    },
    "papermill": {
     "duration": 0.433548,
     "end_time": "2024-07-18T08:20:27.501893",
     "exception": false,
     "start_time": "2024-07-18T08:20:27.068345",
     "status": "completed"
    },
    "tags": []
   },
   "outputs": [
    {
     "name": "stdout",
     "output_type": "stream",
     "text": [
      "Number of unique values in Status are  ['IC' 'AO' 'AA' 'JA' 'JO']\n",
      " values in Status are  Status\n",
      "IC    15236\n",
      "AO     2597\n",
      "AA     2054\n",
      "JA       70\n",
      "JO       43\n",
      "Name: count, dtype: int64\n",
      "Null values in status are 0\n",
      "\n",
      "--------------------------------------------------------------\n",
      "\n",
      "Number of unique values in Status_Description are  ['Invest Cont' 'Adult Other' 'Adult Arrest' 'Juv Arrest' 'Juv Other']\n",
      " values in Status_Description are  Status_Description\n",
      "Invest Cont     15236\n",
      "Adult Other      2597\n",
      "Adult Arrest     2054\n",
      "Juv Arrest         70\n",
      "Juv Other          43\n",
      "Name: count, dtype: int64\n",
      "Null values in Status_Description are 0\n",
      "\n",
      "--------------------------------------------------------------\n",
      "\n"
     ]
    },
    {
     "data": {
      "image/png": "[encoded data removed]",
      "text/plain": [
       "<Figure size 640x480 with 1 Axes>"
      ]
     },
     "metadata": {},
     "output_type": "display_data"
    },
    {
     "data": {
      "text/plain": [
       "<Axes: xlabel='Status_Description'>"
      ]
     },
     "execution_count": 24,
     "metadata": {},
     "output_type": "execute_result"
    },
    {
     "data": {
      "image/png": "[encoded data removed]",
      "text/plain": [
       "<Figure size 640x480 with 1 Axes>"
      ]
     },
     "metadata": {},
     "output_type": "display_data"
    }
   ],
   "source": [
    "print(\"Number of unique values in Status are \",train['Status'].unique())\n",
    "\n",
    "print(\" values in Status are \",train['Status'].value_counts())\n",
    "\n",
    "print('Null values in status are' ,train['Status'].isnull().sum() )\n",
    "\n",
    "Status_value_counts=train['Status'].value_counts()\n",
    "\n",
    "\n",
    "print('')\n",
    "print('--------------------------------------------------------------')\n",
    "print('')\n",
    "\n",
    "print(\"Number of unique values in Status_Description are \",train['Status_Description'].unique())\n",
    "\n",
    "print(\" values in Status_Description are \",train['Status_Description'].value_counts())\n",
    "\n",
    "print('Null values in Status_Description are' ,train['Status_Description'].isnull().sum() )\n",
    "\n",
    "\n",
    "Status_Description_value_counts=train['Status_Description'].value_counts()\n",
    "\n",
    "\n",
    "\n",
    "print('')\n",
    "print('--------------------------------------------------------------')\n",
    "print('')\n",
    "\n",
    "Status_value_counts.plot(kind='bar')\n",
    "plt.show()\n",
    "\n",
    "Status_Description_value_counts.plot(kind='bar')\n"
   ]
  },
  {
   "cell_type": "markdown",
   "id": "541cb6a6",
   "metadata": {
    "papermill": {
     "duration": 0.036408,
     "end_time": "2024-07-18T08:20:27.576851",
     "exception": false,
     "start_time": "2024-07-18T08:20:27.540443",
     "status": "completed"
    },
    "tags": []
   },
   "source": [
    "# Weapon_Used_Code  and Weapon_Description"
   ]
  },
  {
   "cell_type": "markdown",
   "id": "5017af29",
   "metadata": {
    "papermill": {
     "duration": 0.03727,
     "end_time": "2024-07-18T08:20:27.650280",
     "exception": false,
     "start_time": "2024-07-18T08:20:27.613010",
     "status": "completed"
    },
    "tags": []
   },
   "source": [
    "Both columns gives same information\n"
   ]
  },
  {
   "cell_type": "code",
   "execution_count": 25,
   "id": "b303811b",
   "metadata": {
    "execution": {
     "iopub.execute_input": "2024-07-18T08:20:27.726170Z",
     "iopub.status.busy": "2024-07-18T08:20:27.725749Z",
     "iopub.status.idle": "2024-07-18T08:20:27.738608Z",
     "shell.execute_reply": "2024-07-18T08:20:27.737031Z"
    },
    "papermill": {
     "duration": 0.054474,
     "end_time": "2024-07-18T08:20:27.741444",
     "exception": false,
     "start_time": "2024-07-18T08:20:27.686970",
     "status": "completed"
    },
    "tags": []
   },
   "outputs": [
    {
     "name": "stdout",
     "output_type": "stream",
     "text": [
      "Number of null values are\n"
     ]
    },
    {
     "data": {
      "text/plain": [
       "Weapon_Description    12665\n",
       "Weapon_Used_Code      12665\n",
       "dtype: int64"
      ]
     },
     "execution_count": 25,
     "metadata": {},
     "output_type": "execute_result"
    }
   ],
   "source": [
    "print('Number of null values are')\n",
    "train[['Weapon_Description','Weapon_Used_Code']].isnull().sum()"
   ]
  },
  {
   "cell_type": "code",
   "execution_count": 26,
   "id": "4899bd5d",
   "metadata": {
    "execution": {
     "iopub.execute_input": "2024-07-18T08:20:27.820633Z",
     "iopub.status.busy": "2024-07-18T08:20:27.819967Z",
     "iopub.status.idle": "2024-07-18T08:20:27.831777Z",
     "shell.execute_reply": "2024-07-18T08:20:27.830559Z"
    },
    "papermill": {
     "duration": 0.056381,
     "end_time": "2024-07-18T08:20:27.835250",
     "exception": false,
     "start_time": "2024-07-18T08:20:27.778869",
     "status": "completed"
    },
    "tags": []
   },
   "outputs": [
    {
     "name": "stdout",
     "output_type": "stream",
     "text": [
      "Number of unqiue values are\n"
     ]
    },
    {
     "data": {
      "text/plain": [
       "Weapon_Description\n",
       "STRONG-ARM (HANDS, FIST, FEET OR BODILY FORCE)    3990\n",
       "UNKNOWN WEAPON/OTHER WEAPON                        789\n",
       "VERBAL THREAT                                      546\n",
       "HAND GUN                                           388\n",
       "KNIFE WITH BLADE 6INCHES OR LESS                   160\n",
       "SEMI-AUTOMATIC PISTOL                              154\n",
       "UNKNOWN FIREARM                                    131\n",
       "OTHER KNIFE                                        125\n",
       "VEHICLE                                             84\n",
       "MACE/PEPPER SPRAY                                   80\n",
       "ROCK/THROWN OBJECT                                  63\n",
       "BOTTLE                                              55\n",
       "PIPE/METAL PIPE                                     52\n",
       "CLUB/BAT                                            51\n",
       "STICK                                               49\n",
       "KITCHEN KNIFE                                       45\n",
       "KNIFE WITH BLADE OVER 6 INCHES IN LENGTH            43\n",
       "AIR PISTOL/REVOLVER/RIFLE/BB GUN                    41\n",
       "FOLDING KNIFE                                       37\n",
       "BLUNT INSTRUMENT                                    37\n",
       "SIMULATED GUN                                       35\n",
       "REVOLVER                                            34\n",
       "BELT FLAILING INSTRUMENT/CHAIN                      26\n",
       "CONCRETE BLOCK/BRICK                                26\n",
       "MACHETE                                             25\n",
       "UNKNOWN TYPE CUTTING INSTRUMENT                     24\n",
       "HAMMER                                              23\n",
       "SCREWDRIVER                                         23\n",
       "FIRE                                                22\n",
       "OTHER FIREARM                                       18\n",
       "PHYSICAL PRESENCE                                   18\n",
       "OTHER CUTTING INSTRUMENT                            17\n",
       "FIXED OBJECT                                        16\n",
       "GLASS                                               14\n",
       "SCISSORS                                            13\n",
       "RIFLE                                               12\n",
       "BOARD                                               11\n",
       "TOY GUN                                              8\n",
       "SHOTGUN                                              7\n",
       "TIRE IRON                                            7\n",
       "AXE                                                  6\n",
       "STUN GUN                                             4\n",
       "BRASS KNUCKLES                                       4\n",
       "SCALDING LIQUID                                      3\n",
       "SWITCH BLADE                                         3\n",
       "MARTIAL ARTS WEAPONS                                 2\n",
       "DEMAND NOTE                                          2\n",
       "SAWED OFF RIFLE/SHOTGUN                              2\n",
       "ICE PICK                                             2\n",
       "CAUSTIC CHEMICAL/POISON                              1\n",
       "BOMB THREAT                                          1\n",
       "BOWIE KNIFE                                          1\n",
       "STARTER PISTOL/REVOLVER                              1\n",
       "RAZOR BLADE                                          1\n",
       "HECKLER & KOCH 93 SEMIAUTOMATIC ASSAULT RIFLE        1\n",
       "ASSAULT WEAPON/UZI/AK47/ETC                          1\n",
       "CLEAVER                                              1\n",
       "Name: count, dtype: int64"
      ]
     },
     "execution_count": 26,
     "metadata": {},
     "output_type": "execute_result"
    }
   ],
   "source": [
    "print('Number of unqiue values are')\n",
    "train['Weapon_Description'].value_counts()"
   ]
  },
  {
   "cell_type": "code",
   "execution_count": 27,
   "id": "255b9f88",
   "metadata": {
    "execution": {
     "iopub.execute_input": "2024-07-18T08:20:27.913499Z",
     "iopub.status.busy": "2024-07-18T08:20:27.913037Z",
     "iopub.status.idle": "2024-07-18T08:20:27.962692Z",
     "shell.execute_reply": "2024-07-18T08:20:27.961581Z"
    },
    "papermill": {
     "duration": 0.092811,
     "end_time": "2024-07-18T08:20:27.965551",
     "exception": false,
     "start_time": "2024-07-18T08:20:27.872740",
     "status": "completed"
    },
    "tags": []
   },
   "outputs": [],
   "source": [
    "train.loc[train['Weapon_Description'] == 'STRONG-ARM (HANDS, FIST, FEET OR BODILY FORCE)' , 'Weapon_Description'] = 'Physical Force'\n",
    "\n",
    "# EXPLOXIVE DEVICE                                     3\n",
    "# RAZOR                                                1\n",
    "# LIQUOR/DRUGS                                         1\n",
    "# DOG/ANIMAL (SIC ANIMAL ON)                           1\n",
    "# SWORD   \n",
    "\n",
    "\n",
    "# NA                                                3153\n",
    "# STRONG-ARM (HANDS, FIST, FEET OR BODILY FORCE)    1003\n",
    "# sharp_heavy_object                                 431\n",
    "# other_weapon                                       170\n",
    "# Gun                                                164\n",
    "# fire                                                44\n",
    "# VEHICLE                                             28\n",
    "# Physical Force                                       4\n",
    "# EXPLOXIVE DEVICE                                     3\n",
    "\n",
    "def gun(s):\n",
    "    \n",
    "    if pd.isna(s):\n",
    "        return 'NA'\n",
    "    t=s.replace('/',' ')\n",
    "    listt=t.split(' ' or '/')\n",
    "    \n",
    "    gun_keywords=['gun','pistol','revolver','rifle','shotgun','AK47','explosive','exploxive']\n",
    "    \n",
    "    sharp_heavy_object=['blade','razor','stone','sword','knife','metal','screwdriver','cleaver', 'glass','machete' ,'iron' , 'cutting','axe' ,'instrument','hammer','weapon','object','bottle','weapons','brass','scissors']\n",
    "    \n",
    "    other_weapon = ['bomb','threat', 'demand', 'poison', 'ice', 'scalding', 'board','block' ,'brick', 'stick', 'bat', 'spray','drugs','dog']\n",
    "    \n",
    "    physical_presence=['physical','presence','strong-arm']\n",
    "    \n",
    "    fire=['firearm' , 'fire' ]\n",
    "\n",
    "    for i in listt:\n",
    "        if i.lower() in gun_keywords:\n",
    "            return 'Gun'\n",
    "        elif i.lower() in sharp_heavy_object:\n",
    "            return 'sharp_heavy_object'\n",
    "        \n",
    "        elif i.lower() in fire:\n",
    "            return 'fire'\n",
    "        elif i.lower() in other_weapon:\n",
    "            return 'other_weapon'\n",
    "        elif i.lower() in physical_presence:\n",
    "            return 'Physical Force'\n",
    "        elif i.lower() == 'strong-arm':\n",
    "            return 'Physical Force'\n",
    "            \n",
    "        \n",
    "    return s\n",
    "    \n",
    "\n",
    "\n",
    "\n",
    "train.loc[:,'Weapon_Description']=train['Weapon_Description'].apply(lambda x: gun(x))"
   ]
  },
  {
   "cell_type": "code",
   "execution_count": 28,
   "id": "a42fa096",
   "metadata": {
    "execution": {
     "iopub.execute_input": "2024-07-18T08:20:28.043627Z",
     "iopub.status.busy": "2024-07-18T08:20:28.043125Z",
     "iopub.status.idle": "2024-07-18T08:20:28.054709Z",
     "shell.execute_reply": "2024-07-18T08:20:28.053474Z"
    },
    "papermill": {
     "duration": 0.053695,
     "end_time": "2024-07-18T08:20:28.057300",
     "exception": false,
     "start_time": "2024-07-18T08:20:28.003605",
     "status": "completed"
    },
    "tags": []
   },
   "outputs": [
    {
     "name": "stdout",
     "output_type": "stream",
     "text": [
      "Number of unqiue values are\n"
     ]
    },
    {
     "data": {
      "text/plain": [
       "Weapon_Description\n",
       "NA                    12665\n",
       "Physical Force         4008\n",
       "sharp_heavy_object     1613\n",
       "other_weapon            772\n",
       "Gun                     687\n",
       "fire                    171\n",
       "VEHICLE                  84\n",
       "Name: count, dtype: int64"
      ]
     },
     "execution_count": 28,
     "metadata": {},
     "output_type": "execute_result"
    }
   ],
   "source": [
    "print('Number of unqiue values are')\n",
    "train['Weapon_Description'].value_counts()"
   ]
  },
  {
   "cell_type": "code",
   "execution_count": 29,
   "id": "c9c0516f",
   "metadata": {
    "execution": {
     "iopub.execute_input": "2024-07-18T08:20:28.134227Z",
     "iopub.status.busy": "2024-07-18T08:20:28.133803Z",
     "iopub.status.idle": "2024-07-18T08:20:28.157213Z",
     "shell.execute_reply": "2024-07-18T08:20:28.155986Z"
    },
    "papermill": {
     "duration": 0.064903,
     "end_time": "2024-07-18T08:20:28.159809",
     "exception": false,
     "start_time": "2024-07-18T08:20:28.094906",
     "status": "completed"
    },
    "tags": []
   },
   "outputs": [],
   "source": [
    "distribution = train['Weapon_Description'][train['Weapon_Description'] != 'NA'].value_counts(normalize=True)\n",
    "\n",
    "missing = train[train['Weapon_Description']=='NA']['Weapon_Description'].count()\n",
    "\n",
    "imputed_values = np.random.choice(distribution.index, size=missing, p=distribution.values)\n",
    "\n",
    "\n",
    "train.loc[train['Weapon_Description']=='NA', 'Weapon_Description'] = imputed_values"
   ]
  },
  {
   "cell_type": "code",
   "execution_count": 30,
   "id": "c3508fb0",
   "metadata": {
    "execution": {
     "iopub.execute_input": "2024-07-18T08:20:28.235985Z",
     "iopub.status.busy": "2024-07-18T08:20:28.235295Z",
     "iopub.status.idle": "2024-07-18T08:20:28.245850Z",
     "shell.execute_reply": "2024-07-18T08:20:28.244613Z"
    },
    "papermill": {
     "duration": 0.051449,
     "end_time": "2024-07-18T08:20:28.248198",
     "exception": false,
     "start_time": "2024-07-18T08:20:28.196749",
     "status": "completed"
    },
    "tags": []
   },
   "outputs": [
    {
     "data": {
      "text/plain": [
       "Weapon_Description\n",
       "Physical Force        10916\n",
       "sharp_heavy_object     4346\n",
       "other_weapon           2122\n",
       "Gun                    1886\n",
       "fire                    481\n",
       "VEHICLE                 249\n",
       "Name: count, dtype: int64"
      ]
     },
     "execution_count": 30,
     "metadata": {},
     "output_type": "execute_result"
    }
   ],
   "source": [
    "train['Weapon_Description'].value_counts()"
   ]
  },
  {
   "cell_type": "code",
   "execution_count": 31,
   "id": "94f8c3a9",
   "metadata": {
    "execution": {
     "iopub.execute_input": "2024-07-18T08:20:28.326614Z",
     "iopub.status.busy": "2024-07-18T08:20:28.325464Z",
     "iopub.status.idle": "2024-07-18T08:20:28.350861Z",
     "shell.execute_reply": "2024-07-18T08:20:28.349799Z"
    },
    "papermill": {
     "duration": 0.067657,
     "end_time": "2024-07-18T08:20:28.353629",
     "exception": false,
     "start_time": "2024-07-18T08:20:28.285972",
     "status": "completed"
    },
    "tags": []
   },
   "outputs": [
    {
     "data": {
      "text/plain": [
       "Location                     0\n",
       "Cross_Street                 0\n",
       "Latitude                     0\n",
       "Longitude                    0\n",
       "Date_Reported                0\n",
       "Date_Occurred                0\n",
       "Time_Occurred                0\n",
       "Area_ID                      0\n",
       "Area_Name                    0\n",
       "Reporting_District_no        0\n",
       "Part 1-2                     0\n",
       "Modus_Operandi               0\n",
       "Victim_Age                   0\n",
       "Victim_Sex                2624\n",
       "Victim_Descent            2624\n",
       "Premise_Code                 0\n",
       "Premise_Description          5\n",
       "Weapon_Used_Code         12665\n",
       "Weapon_Description           0\n",
       "Status                       0\n",
       "Status_Description           0\n",
       "Crime_Category               0\n",
       "activity_count               0\n",
       "dtype: int64"
      ]
     },
     "execution_count": 31,
     "metadata": {},
     "output_type": "execute_result"
    }
   ],
   "source": [
    "train.isnull().sum()"
   ]
  },
  {
   "cell_type": "markdown",
   "id": "2a92cff0",
   "metadata": {
    "papermill": {
     "duration": 0.037369,
     "end_time": "2024-07-18T08:20:28.428495",
     "exception": false,
     "start_time": "2024-07-18T08:20:28.391126",
     "status": "completed"
    },
    "tags": []
   },
   "source": [
    "# Premise_Description , Premise_Code\n"
   ]
  },
  {
   "cell_type": "code",
   "execution_count": 32,
   "id": "bd217248",
   "metadata": {
    "execution": {
     "iopub.execute_input": "2024-07-18T08:20:28.509550Z",
     "iopub.status.busy": "2024-07-18T08:20:28.508392Z",
     "iopub.status.idle": "2024-07-18T08:20:28.520049Z",
     "shell.execute_reply": "2024-07-18T08:20:28.518554Z"
    },
    "papermill": {
     "duration": 0.057689,
     "end_time": "2024-07-18T08:20:28.524154",
     "exception": false,
     "start_time": "2024-07-18T08:20:28.466465",
     "status": "completed"
    },
    "tags": []
   },
   "outputs": [
    {
     "name": "stdout",
     "output_type": "stream",
     "text": [
      "Unique values are:\n",
      "\n",
      "[101. 216. 501. 401. 502. 202. 104. 108. 121. 102. 203. 122. 707. 503.\n",
      " 506. 509. 710. 103. 602. 519. 406. 751. 210. 123. 801. 601. 243. 242.\n",
      " 504. 124. 505. 119. 252. 109. 704. 152. 120. 301. 404. 720. 405. 402.\n",
      " 213. 514. 248. 702. 708. 834. 212. 416. 954. 158. 403. 701. 721. 725.\n",
      " 605. 726. 912. 729. 139. 145. 208. 719. 201. 141. 107. 222. 144. 116.\n",
      " 507. 221. 254. 757. 217. 110. 408. 146. 510. 750. 229. 727. 249. 236.\n",
      " 738. 516. 735. 716. 908. 232. 517. 722. 515. 874. 518. 118. 127. 151.\n",
      " 932. 411. 415. 910. 414. 220. 255. 407. 239. 156. 233. 717. 900. 956.\n",
      " 949. 218. 732. 936. 244. 835. 715. 410. 231. 728. 417. 207. 247. 206.\n",
      " 913. 733. 409. 811. 235. 724. 902. 712. 941. 117. 412. 705. 512. 907.\n",
      " 142. 903. 953. 511. 753. 736. 205. 897. 875. 138. 709. 128. 209. 230.\n",
      " 916. 723. 140. 157. 969. 135. 302. 958. 251. 921. 730. 809. 740. 957.\n",
      " 917. 905. 214. 148. 706. 909. 896. 418. 744. 911. 802. 154. 413. 895.\n",
      " 966. 219. 234. 948. 922. 603. 238. 906. 951. 935. 950. 112. 920. 968.\n",
      " 703. 227. 111. 868. 508. 943. 754. 225. 931. 215. 241. 741. 228. 915.\n",
      " 944. 755. 945. 904. 718. 739. 250.]\n",
      "\n",
      "\n",
      "['STREET' 'SWAP MEET' 'SINGLE FAMILY DWELLING' 'MINI-MART'\n",
      " 'MULTI-UNIT DWELLING (APARTMENT, DUPLEX, ETC)' 'LIQUOR STORE' 'DRIVEWAY'\n",
      " 'PARKING LOT' 'YARD (RESIDENTIAL/BUSINESS)' 'SIDEWALK' 'OTHER BUSINESS'\n",
      " 'VEHICLE, PASSENGER/TRUCK' 'GARAGE/CARPORT' 'HOTEL'\n",
      " 'ABANDONED BUILDING ABANDONED HOUSE'\n",
      " \"MOBILE HOME/TRAILERS/CONSTRUCTION TRAILERS/RV'S/MOTORHOME\"\n",
      " 'OTHER PREMISE' 'ALLEY' 'BANK' 'SHORT-TERM VACATION RENTAL' 'OTHER STORE'\n",
      " 'WEBSITE' 'RESTAURANT/FAST FOOD' 'PARKING UNDERGROUND/BUILDING' 'MTA BUS'\n",
      " 'SAVINGS & LOAN'\n",
      " \"DIY CENTER (LOWE'S,HOME DEPOT,OSH,CONTRACTORS WAREHOUSE)\"\n",
      " 'DISCOUNT STORE (99 CENT,DOLLAR,ETC.' 'OTHER RESIDENCE' 'BUS STOP'\n",
      " 'MOTEL' 'PORCH, RESIDENTIAL'\n",
      " \"COFFEE SHOP (STARBUCKS, COFFEE BEAN, PEET'S, ETC.)\" 'PARK/PLAYGROUND'\n",
      " 'ELEMENTARY SCHOOL' 'UNDERPASS/BRIDGE*' 'STORAGE SHED' 'GAS STATION'\n",
      " 'DEPARTMENT STORE' 'JUNIOR HIGH SCHOOL' 'CLOTHING STORE' 'MARKET'\n",
      " 'WAREHOUSE' 'GROUP HOME' 'CELL PHONE STORE' 'OFFICE BUILDING/OFFICE'\n",
      " 'CHURCH/CHAPEL (CHANGED 03-03 FROM CHURCH/TEMPLE)'\n",
      " 'LA UNION STATION (NOT LINE SPECIFIC)'\n",
      " 'TRANSPORTATION FACILITY (AIRPORT)' 'THE BEVERLY CENTER'\n",
      " 'MTA - EXPO LINE - EXPO/BUNDY' 'TRANSIENT ENCAMPMENT' 'DRUG STORE'\n",
      " 'HOSPITAL' 'HIGH SCHOOL'\n",
      " 'GOVERNMENT FACILITY (FEDERAL,STATE, COUNTY & CITY)'\n",
      " 'AUTOMATED TELLER MACHINE (ATM)' 'POLICE FACILITY'\n",
      " 'MTA - RED LINE - UNIVERSAL CITY/STUDIO CITY' 'SPECIALTY SCHOOL/OTHER'\n",
      " 'AMUSEMENT PARK*' 'MAIL BOX' 'AUTO SALES LOT' 'MEDICAL/DENTAL OFFICES'\n",
      " 'JEWELRY STORE' 'CEMETARY*' 'VACANT LOT' 'LAUNDROMAT' 'GOLF COURSE*'\n",
      " 'OTHER/OUTSIDE' 'CONDOMINIUM/TOWNHOUSE' 'PUBLIC STORAGE'\n",
      " 'STUDIO (FILM/PHOTOGRAPHIC/MUSIC)' 'BASKETBALL COURTS' 'AUTO REPAIR SHOP'\n",
      " 'FREEWAY' 'AUTO SUPPLY STORE*' 'PATIO*'\n",
      " 'NURSING/CONVALESCENT/RETIREMENT HOME' 'CYBERSPACE' 'CHECK CASHING*'\n",
      " 'SHOPPING MALL (COMMON AREA)' 'NURSERY/FLOWER SHOP'\n",
      " 'VISION CARE FACILITY*' 'LIBRARY'\n",
      " \"SINGLE RESIDENCE OCCUPANCY (SRO'S) LOCATIONS\"\n",
      " 'NIGHT CLUB (OPEN EVENINGS ONLY)' 'THEATRE/MOVIE'\n",
      " 'MTA - RED LINE - VERMONT/SUNSET'\n",
      " 'DELIVERY SERVICE (FED EX, UPS, COURIERS,COURIER SERVICE)*'\n",
      " 'MISSIONS/SHELTERS' 'COLLEGE/JUNIOR COLLEGE/UNIVERSITY'\n",
      " 'APARTMENT/CONDO COMMON LAUNDRY ROOM' 'MTA - ORANGE LINE - WOODLEY'\n",
      " 'TRANSITIONAL HOUSING/HALFWAY HOUSE' 'CONSTRUCTION SITE'\n",
      " 'TRASH CAN/TRASH DUMPSTER' 'TOW YARD*' 'MTA - BLUE LINE - PICO'\n",
      " 'PET STORE' 'THE GROVE' 'MTA - RED LINE - HOLLYWOOD/VINE' 'BOOK STORE'\n",
      " 'NAIL SALON' 'AUTO DEALERSHIP (CHEVY, FORD, BMW, MERCEDES, ETC.)'\n",
      " 'HARDWARE/BUILDING SUPPLY' 'MEDICAL MARIJUANA FACILITIES/BUSINESSES'\n",
      " 'VALET' 'TATTOO PARLOR*' 'HEALTH SPA/GYM'\n",
      " 'MTA - RED LINE - UNION STATION' 'MTA - GREEN LINE - AVALON'\n",
      " 'MTA - EXPO LINE - EXPO/LA BREA' 'BEAUTY/BARBER SHOP' 'POST OFFICE'\n",
      " 'MTA - BLUE LINE - VERNON' 'TOBACCO SHOP'\n",
      " '7TH AND METRO CENTER (NOT LINE SPECIFIC)'\n",
      " 'HORSE RACING/SANTA ANITA PARK*' 'MEMBERSHIP STORE (COSTCO,SAMS CLUB)*'\n",
      " 'DAY CARE/CHILDREN*' 'ELEVATOR' 'THE BEVERLY CONNECTION'\n",
      " 'BAR/COCKTAIL/NIGHTCLUB' 'CAR WASH' 'TV/RADIO/APPLIANCE'\n",
      " 'MTA - RED LINE - NORTH HOLLYWOOD' 'BAR/SPORTS BAR (OPEN DAY & NIGHT)'\n",
      " 'BEAUTY SUPPLY STORE' 'OTHER RR TRAIN (UNION PAC, SANTE FE ETC'\n",
      " 'PHARMACY INSIDE STORE OR SUPERMARKET*'\n",
      " 'TRADE SCHOOL (MEDICAL-TECHNICAL-BUSINESS)*'\n",
      " 'MTA - RED LINE - PERSHING SQUARE' 'COLISEUM' 'MTA - EXPO LINE - PICO'\n",
      " 'BEACH' 'ELECTRONICS STORE (IE:RADIO SHACK, ETC.)'\n",
      " 'SLIPS/DOCK/MARINA/BOAT' 'FOSTER HOME BOYS OR GIRLS*'\n",
      " 'MTA - RED LINE - VERMONT/SANTA MONICA' 'DRIVE THRU*'\n",
      " 'MTA - RED LINE - 7TH AND METRO CENTER'\n",
      " 'MTA - EXPO LINE - EXPO/SEPULVEDA' 'PROJECT/TENEMENT/PUBLIC HOUSING'\n",
      " 'DETENTION/JAIL FACILITY' 'SKATEBOARD FACILITY/SKATEBOARD PARK*'\n",
      " 'GUN/SPORTING GOODS' 'MTA - SILVER LINE - HARBOR GATEWAY TRANSIT CTR'\n",
      " 'MTA - ORANGE LINE - BALBOA' 'STAIRWELL*'\n",
      " 'PUBLIC RESTROOM(INDOORS-INSIDE)' 'BUS STOP/LAYOVER (ALSO QUERY 124)'\n",
      " 'EQUIPMENT RENTAL' 'DAY CARE/ADULTS*'\n",
      " 'MTA - PURPLE LINE - CIVIC CENTER/GRAND PARK' 'PRIVATE SCHOOL/PRESCHOOL'\n",
      " 'BALCONY*'\n",
      " \"VEHICLE STORAGE LOT (CARS, TRUCKS, RV'S, BOATS, TRAILERS, ETC.)\"\n",
      " 'MTA - GOLD LINE - HERITAGE SQ' 'MTA PROPERTY OR PARKING LOT' 'FACTORY'\n",
      " 'MTA - GREEN LINE - AVIATION/LAX' 'RECYCLING CENTER'\n",
      " 'MTA - PURPLE LINE - WILSHIRE/NORMANDIE' 'SYNAGOGUE/TEMPLE'\n",
      " 'METROLINK TRAIN' 'OTHER PLACE OF WORSHIP'\n",
      " 'MTA - GREEN LINE - HARBOR FWY' 'MTA - PURPLE LINE - PERSHING SQUARE'\n",
      " 'MTA - RED LINE - WILSHIRE/VERMONT' 'BUS DEPOT/TERMINAL, OTHER THAN MTA'\n",
      " 'PUBLIC RESTROOM/OUTSIDE*'\n",
      " \"SEX ORIENTED/BOOK STORE/STRIP CLUB/GENTLEMAN'S CLUB\"\n",
      " 'MTA - RED LINE - HOLLYWOOD/WESTERN' 'MTA - SILVER LINE - ROSECRANS' nan\n",
      " 'HIGH-RISE BUILDING' 'MTA - RED LINE - HOLLYWOOD/HIGHLAND'\n",
      " 'MUNICIPAL BUS LINE INCLUDES LADOT/DASH' 'TRAIN TRACKS' 'FURNITURE STORE'\n",
      " 'MTA - SILVER LINE - HARBOR FWY' 'MTA - GOLD LINE - UNION STATION'\n",
      " 'CLEANER/LAUNDROMAT' 'OPTICAL OFFICE INSIDE STORE OR SUPERMARKET*'\n",
      " 'MTA - EXPO LINE - FARMDALE' 'MTA - PURPLE LINE - WILSHIRE/WESTERN'\n",
      " 'CREDIT UNION' 'TELECOMMUNICATION FACILITY/LOCATION'\n",
      " 'MTA - RED LINE - VERMONT/BEVERLY' 'MTA - EXPO LINE - PALMS'\n",
      " 'MTA - BLUE LINE - WASHINGTON' 'MTA - EXPO LINE - LA CIENEGA/JEFFERSON'\n",
      " 'BUS, SCHOOL, CHURCH' 'MTA - PURPLE LINE - WILSHIRE/VERMONT'\n",
      " 'MTA - GOLD LINE - LINCOLN/CYPRESS' 'ENTERTAINMENT/COMEDY CLUB (OTHER)'\n",
      " 'ABORTION CLINIC/ABORTION FACILITY*' 'BUS-CHARTER/PRIVATE'\n",
      " 'MTA - ORANGE LINE - NORTH HOLLYWOOD' 'FRAT HOUSE/SORORITY/DORMITORY'\n",
      " 'MTA - EXPO LINE - JEFFERSON/USC' 'MUSEUM'\n",
      " 'RECORD-CD MUSIC/COMPUTER GAME STORE'\n",
      " 'MTA - BLUE LINE - 7TH AND METRO CENTER'\n",
      " 'TRAIN DEPOT/TERMINAL, OTHER THAN MTA' 'ENERGY PLANT/FACILITY'\n",
      " 'STAPLES CENTER *' 'BOWLING ALLEY*' 'MTA - PURPLE LINE - UNION STATION'\n",
      " 'MTA - EXPO LINE - EXPO PARK/USC' 'VETERINARIAN/ANIMAL HOSPITAL'\n",
      " 'MTA - EXPO LINE - EXPO/VERMONT'\n",
      " 'MTA - RED LINE - WESTLAKE/MACARTHUR PARK' 'MASSAGE PARLOR'\n",
      " 'SPORTS ARENA' 'COMPUTER SERVICES/REPAIRS/SALES']\n"
     ]
    }
   ],
   "source": [
    "print(\"Unique values are:\")\n",
    "print('')\n",
    "print(train['Premise_Code'].unique())\n",
    "\n",
    "print('')\n",
    "print('')\n",
    "\n",
    "print(train['Premise_Description'].unique())"
   ]
  },
  {
   "cell_type": "code",
   "execution_count": 33,
   "id": "785955f6",
   "metadata": {
    "execution": {
     "iopub.execute_input": "2024-07-18T08:20:28.602937Z",
     "iopub.status.busy": "2024-07-18T08:20:28.602528Z",
     "iopub.status.idle": "2024-07-18T08:20:28.628489Z",
     "shell.execute_reply": "2024-07-18T08:20:28.627134Z"
    },
    "papermill": {
     "duration": 0.067616,
     "end_time": "2024-07-18T08:20:28.631145",
     "exception": false,
     "start_time": "2024-07-18T08:20:28.563529",
     "status": "completed"
    },
    "tags": []
   },
   "outputs": [
    {
     "name": "stdout",
     "output_type": "stream",
     "text": [
      "value counts are:\n",
      "\n",
      "Premise_Code\n",
      "101.0    5033\n",
      "501.0    3379\n",
      "502.0    2491\n",
      "108.0    1437\n",
      "102.0     978\n",
      "         ... \n",
      "214.0       1\n",
      "909.0       1\n",
      "896.0       1\n",
      "744.0       1\n",
      "250.0       1\n",
      "Name: count, Length: 217, dtype: int64\n"
     ]
    },
    {
     "name": "stderr",
     "output_type": "stream",
     "text": [
      "/tmp/ipykernel_18/3041038907.py:1: FutureWarning: Setting an item of incompatible dtype is deprecated and will raise in a future error of pandas. Value '['101.0' '216.0' '501.0' ... '102.0' '501.0' '101.0']' has dtype incompatible with float64, please explicitly cast to a compatible dtype first.\n",
      "  train.loc[:,'Premise_Code']=train.loc[:,'Premise_Code'].astype(str)\n"
     ]
    }
   ],
   "source": [
    "train.loc[:,'Premise_Code']=train.loc[:,'Premise_Code'].astype(str)\n",
    "\n",
    "print(\"value counts are:\")\n",
    "print('')\n",
    "print(train['Premise_Code'].value_counts())\n"
   ]
  },
  {
   "cell_type": "markdown",
   "id": "7807dc29",
   "metadata": {
    "papermill": {
     "duration": 0.037704,
     "end_time": "2024-07-18T08:20:28.706616",
     "exception": false,
     "start_time": "2024-07-18T08:20:28.668912",
     "status": "completed"
    },
    "tags": []
   },
   "source": [
    "# Victim_Sex "
   ]
  },
  {
   "cell_type": "code",
   "execution_count": 34,
   "id": "e76a92b1",
   "metadata": {
    "execution": {
     "iopub.execute_input": "2024-07-18T08:20:28.784209Z",
     "iopub.status.busy": "2024-07-18T08:20:28.783829Z",
     "iopub.status.idle": "2024-07-18T08:20:28.809835Z",
     "shell.execute_reply": "2024-07-18T08:20:28.808568Z"
    },
    "papermill": {
     "duration": 0.068118,
     "end_time": "2024-07-18T08:20:28.812770",
     "exception": false,
     "start_time": "2024-07-18T08:20:28.744652",
     "status": "completed"
    },
    "tags": []
   },
   "outputs": [
    {
     "name": "stdout",
     "output_type": "stream",
     "text": [
      "Unique values of victim sex are ['M' 'X' 'F' nan 'H']\n",
      "\n",
      "\n",
      "Value counts are\n",
      "Victim_Sex\n",
      "M    8538\n",
      "F    7176\n",
      "X    1660\n",
      "H       2\n",
      "Name: count, dtype: int64\n",
      "\n",
      "\n",
      "Number of null values are 2624\n",
      "\n",
      "\n",
      "Number of null values after imputing are 0\n"
     ]
    }
   ],
   "source": [
    "print(\"Unique values of victim sex are\",train['Victim_Sex'].unique())\n",
    "\n",
    "\n",
    "print('')\n",
    "print('')\n",
    "\n",
    "print('Value counts are')\n",
    "print(train['Victim_Sex'].value_counts())\n",
    "\n",
    "print('')\n",
    "print('')\n",
    "\n",
    "\n",
    "print(\"Number of null values are\" , train['Victim_Sex'].isnull().sum())\n",
    "\n",
    "\n",
    "\n",
    "\n",
    "\n",
    "distribution_gender = train['Victim_Sex'].dropna().value_counts(normalize=True)\n",
    "\n",
    "missing_gender = train['Victim_Sex'].isna().sum()\n",
    "\n",
    "imputed_values_gender = np.random.choice(distribution_gender.index, size=missing_gender, p=distribution_gender.values)\n",
    "\n",
    "\n",
    "train.loc[train['Victim_Sex'].isna(), 'Victim_Sex'] = imputed_values_gender\n",
    "\n",
    "\n",
    "\n",
    "print('')\n",
    "print('')\n",
    "\n",
    "\n",
    "\n",
    "print(\"Number of null values after imputing are\" , train['Victim_Sex'].isnull().sum())\n",
    "\n",
    "train.loc[:,'Victim_Sex']=train.loc[:,'Victim_Sex'].replace('H','X')"
   ]
  },
  {
   "cell_type": "markdown",
   "id": "e24ec8c1",
   "metadata": {
    "papermill": {
     "duration": 0.04101,
     "end_time": "2024-07-18T08:20:28.892663",
     "exception": false,
     "start_time": "2024-07-18T08:20:28.851653",
     "status": "completed"
    },
    "tags": []
   },
   "source": [
    "# Victim_Descent"
   ]
  },
  {
   "cell_type": "code",
   "execution_count": 35,
   "id": "11f0a9e5",
   "metadata": {
    "execution": {
     "iopub.execute_input": "2024-07-18T08:20:28.978628Z",
     "iopub.status.busy": "2024-07-18T08:20:28.977217Z",
     "iopub.status.idle": "2024-07-18T08:20:28.991392Z",
     "shell.execute_reply": "2024-07-18T08:20:28.990217Z"
    },
    "papermill": {
     "duration": 0.059901,
     "end_time": "2024-07-18T08:20:28.994149",
     "exception": false,
     "start_time": "2024-07-18T08:20:28.934248",
     "status": "completed"
    },
    "tags": []
   },
   "outputs": [],
   "source": [
    "distribution_Descent = train['Victim_Descent'].dropna().value_counts(normalize=True)\n",
    "\n",
    "missing_Descent = train['Victim_Descent'].isna().sum()\n",
    "\n",
    "imputed_values_Descent = np.random.choice(distribution_Descent.index, size=missing_Descent, p=distribution_Descent.values)\n",
    "\n",
    "\n",
    "train.loc[train['Victim_Descent'].isna(), 'Victim_Descent'] = imputed_values_Descent\n",
    "\n"
   ]
  },
  {
   "cell_type": "code",
   "execution_count": 36,
   "id": "6799753a",
   "metadata": {
    "execution": {
     "iopub.execute_input": "2024-07-18T08:20:29.077826Z",
     "iopub.status.busy": "2024-07-18T08:20:29.077430Z",
     "iopub.status.idle": "2024-07-18T08:20:29.401710Z",
     "shell.execute_reply": "2024-07-18T08:20:29.400528Z"
    },
    "papermill": {
     "duration": 0.370473,
     "end_time": "2024-07-18T08:20:29.404262",
     "exception": false,
     "start_time": "2024-07-18T08:20:29.033789",
     "status": "completed"
    },
    "tags": []
   },
   "outputs": [
    {
     "name": "stdout",
     "output_type": "stream",
     "text": [
      "unique values are\n",
      "['W' 'H' 'B' 'X' 'O' 'A' 'K' 'C' 'F' 'I' 'J' 'Z' 'P' 'V' 'G' 'D' 'U']\n",
      "\n",
      "\n",
      "Victim_Descent\n",
      "H    7097\n",
      "W    4858\n",
      "B    3318\n",
      "X    2144\n",
      "O    1840\n",
      "A     485\n",
      "K      94\n",
      "C      58\n",
      "F      53\n",
      "J      19\n",
      "I      13\n",
      "V       8\n",
      "P       5\n",
      "Z       3\n",
      "G       2\n",
      "U       2\n",
      "D       1\n",
      "Name: count, dtype: int64\n"
     ]
    },
    {
     "data": {
      "text/plain": [
       "<Axes: xlabel='Victim_Descent'>"
      ]
     },
     "execution_count": 36,
     "metadata": {},
     "output_type": "execute_result"
    },
    {
     "data": {
      "image/png": "[encoded data removed]",
      "text/plain": [
       "<Figure size 640x480 with 1 Axes>"
      ]
     },
     "metadata": {},
     "output_type": "display_data"
    }
   ],
   "source": [
    "print('unique values are')\n",
    "print(train['Victim_Descent'].unique())\n",
    "\n",
    "print('')\n",
    "print('')\n",
    "\n",
    "print(train['Victim_Descent'].value_counts())\n",
    "\n",
    "Victim_Descent_value_counts=train['Victim_Descent'].value_counts()\n",
    "\n",
    "Victim_Descent_value_counts.plot(kind='bar')"
   ]
  },
  {
   "cell_type": "code",
   "execution_count": 37,
   "id": "5e22f1ed",
   "metadata": {
    "execution": {
     "iopub.execute_input": "2024-07-18T08:20:29.484416Z",
     "iopub.status.busy": "2024-07-18T08:20:29.483157Z",
     "iopub.status.idle": "2024-07-18T08:20:29.514658Z",
     "shell.execute_reply": "2024-07-18T08:20:29.513337Z"
    },
    "papermill": {
     "duration": 0.074679,
     "end_time": "2024-07-18T08:20:29.517491",
     "exception": false,
     "start_time": "2024-07-18T08:20:29.442812",
     "status": "completed"
    },
    "tags": []
   },
   "outputs": [
    {
     "name": "stdout",
     "output_type": "stream",
     "text": [
      "<class 'pandas.core.frame.DataFrame'>\n",
      "RangeIndex: 20000 entries, 0 to 19999\n",
      "Data columns (total 23 columns):\n",
      " #   Column                 Non-Null Count  Dtype  \n",
      "---  ------                 --------------  -----  \n",
      " 0   Location               20000 non-null  object \n",
      " 1   Cross_Street           20000 non-null  object \n",
      " 2   Latitude               20000 non-null  float64\n",
      " 3   Longitude              20000 non-null  float64\n",
      " 4   Date_Reported          20000 non-null  object \n",
      " 5   Date_Occurred          20000 non-null  object \n",
      " 6   Time_Occurred          20000 non-null  float64\n",
      " 7   Area_ID                20000 non-null  object \n",
      " 8   Area_Name              20000 non-null  object \n",
      " 9   Reporting_District_no  20000 non-null  object \n",
      " 10  Part 1-2               20000 non-null  object \n",
      " 11  Modus_Operandi         20000 non-null  object \n",
      " 12  Victim_Age             20000 non-null  float64\n",
      " 13  Victim_Sex             20000 non-null  object \n",
      " 14  Victim_Descent         20000 non-null  object \n",
      " 15  Premise_Code           20000 non-null  object \n",
      " 16  Premise_Description    19995 non-null  object \n",
      " 17  Weapon_Used_Code       7335 non-null   float64\n",
      " 18  Weapon_Description     20000 non-null  object \n",
      " 19  Status                 20000 non-null  object \n",
      " 20  Status_Description     20000 non-null  object \n",
      " 21  Crime_Category         20000 non-null  object \n",
      " 22  activity_count         20000 non-null  int64  \n",
      "dtypes: float64(5), int64(1), object(17)\n",
      "memory usage: 3.5+ MB\n"
     ]
    }
   ],
   "source": [
    "train.info()"
   ]
  },
  {
   "cell_type": "markdown",
   "id": "62493729",
   "metadata": {
    "papermill": {
     "duration": 0.038348,
     "end_time": "2024-07-18T08:20:29.595191",
     "exception": false,
     "start_time": "2024-07-18T08:20:29.556843",
     "status": "completed"
    },
    "tags": []
   },
   "source": [
    "# Numerical Columns"
   ]
  },
  {
   "cell_type": "markdown",
   "id": "09f858b8",
   "metadata": {
    "papermill": {
     "duration": 0.038112,
     "end_time": "2024-07-18T08:20:29.674019",
     "exception": false,
     "start_time": "2024-07-18T08:20:29.635907",
     "status": "completed"
    },
    "tags": []
   },
   "source": [
    "# Date_Reported ,Date_Occurred"
   ]
  },
  {
   "cell_type": "code",
   "execution_count": 38,
   "id": "28fc8ae5",
   "metadata": {
    "execution": {
     "iopub.execute_input": "2024-07-18T08:20:29.753820Z",
     "iopub.status.busy": "2024-07-18T08:20:29.753403Z",
     "iopub.status.idle": "2024-07-18T08:20:29.777575Z",
     "shell.execute_reply": "2024-07-18T08:20:29.776212Z"
    },
    "papermill": {
     "duration": 0.068159,
     "end_time": "2024-07-18T08:20:29.780413",
     "exception": false,
     "start_time": "2024-07-18T08:20:29.712254",
     "status": "completed"
    },
    "tags": []
   },
   "outputs": [],
   "source": [
    "def day_category(x):\n",
    "    if 400<=x<1200:\n",
    "        return 'Morning'\n",
    "    elif 1200<=x<1700:\n",
    "        return 'Daytime'\n",
    "    elif 1800<=x<2100:\n",
    "        return 'Evening'\n",
    "    else:\n",
    "        return 'Night'\n",
    "    \n",
    "train['day_category']=train['Time_Occurred'].apply(day_category )   \n",
    "train.drop('Time_Occurred',inplace=True,axis=1)"
   ]
  },
  {
   "cell_type": "code",
   "execution_count": 39,
   "id": "dba82d64",
   "metadata": {
    "execution": {
     "iopub.execute_input": "2024-07-18T08:20:29.859134Z",
     "iopub.status.busy": "2024-07-18T08:20:29.858736Z",
     "iopub.status.idle": "2024-07-18T08:20:48.787419Z",
     "shell.execute_reply": "2024-07-18T08:20:48.786165Z"
    },
    "papermill": {
     "duration": 18.971094,
     "end_time": "2024-07-18T08:20:48.790550",
     "exception": false,
     "start_time": "2024-07-18T08:20:29.819456",
     "status": "completed"
    },
    "tags": []
   },
   "outputs": [],
   "source": [
    "\n",
    "def extract_date(d):\n",
    "    str(d)\n",
    "    date=d.split(' ')[0]\n",
    "    \n",
    "    \n",
    "    date=pd.to_datetime(date).date()\n",
    "    \n",
    "    \n",
    "    return date\n",
    "    \n",
    "train['Date_Reported']=train['Date_Reported'].apply(extract_date)\n",
    "train['Date_Occurred']=train['Date_Occurred'].apply(extract_date)\n",
    "    \n",
    "# k=train['Date_Reported'][0]-train['Date_Occurred'][0]\n",
    "# k.days\n",
    "\n",
    "\n",
    "#converting to datetime\n",
    "\n",
    "train['Date_Reported']=pd.to_datetime(train['Date_Reported']).dt.date\n",
    "train['Date_Occurred']=pd.to_datetime(train['Date_Occurred']).dt.date\n",
    "\n",
    "#this gives daysss anf time too \n",
    "train['reporting_delay_day_count']=(train['Date_Reported']-train['Date_Occurred'])\n",
    "\n",
    "# this day count calculate the days count \n",
    "def day_count(d):\n",
    "    return d.days\n",
    "train['reporting_delay_day_count']=train['reporting_delay_day_count'].apply(day_count)\n",
    "\n",
    "\n",
    "\n",
    "\n",
    "# dropping the date reported and date occured cols\n",
    "\n",
    "\n",
    "train.drop(['Date_Reported','Date_Occurred'],axis=1, inplace=True)"
   ]
  },
  {
   "cell_type": "code",
   "execution_count": 40,
   "id": "4e404136",
   "metadata": {
    "execution": {
     "iopub.execute_input": "2024-07-18T08:20:48.870147Z",
     "iopub.status.busy": "2024-07-18T08:20:48.869748Z",
     "iopub.status.idle": "2024-07-18T08:20:48.879013Z",
     "shell.execute_reply": "2024-07-18T08:20:48.877719Z"
    },
    "papermill": {
     "duration": 0.052201,
     "end_time": "2024-07-18T08:20:48.881807",
     "exception": false,
     "start_time": "2024-07-18T08:20:48.829606",
     "status": "completed"
    },
    "tags": []
   },
   "outputs": [
    {
     "name": "stdout",
     "output_type": "stream",
     "text": [
      "[75. 41. 67. 61.  0. 50. 68. 22. 31. 46. 72. 26. 38. 37. 42. 40. 53. 60.\n",
      " 29. 13. 33. 27. 15. 23. 74. 63. 78. 51. 44. 34. 69. 36. 52. 25. 49. 48.\n",
      " 32. 18. 35. 24. 39. 16. 28. 47. 30. 64. 76.  5. 58. 45. 57. 19. 55. 54.\n",
      " 21. 65. 17. 20. 77. 82. 56. -2. 84. 59. 43.  7. 70. 66. 62. 14. 80. 71.\n",
      " 81. 96. 12. 11.  4. 83. 10.  8.  6. 88. 86. 73.  9. 87. 85. 93. 95. 99.\n",
      " 79.  3.  2. 91. 92. 90. 89. 98. -1. 94.]\n"
     ]
    }
   ],
   "source": [
    "print(train['Victim_Age'].unique())\n",
    "# df.loc[df['Victim_Age']<0,'Victim_Age']=0\n",
    "train.loc[train['Victim_Age']<0,'Victim_Age']=0"
   ]
  },
  {
   "cell_type": "code",
   "execution_count": 41,
   "id": "498ab1e8",
   "metadata": {
    "execution": {
     "iopub.execute_input": "2024-07-18T08:20:48.962041Z",
     "iopub.status.busy": "2024-07-18T08:20:48.961656Z",
     "iopub.status.idle": "2024-07-18T08:20:48.968648Z",
     "shell.execute_reply": "2024-07-18T08:20:48.967396Z"
    },
    "papermill": {
     "duration": 0.051309,
     "end_time": "2024-07-18T08:20:48.971571",
     "exception": false,
     "start_time": "2024-07-18T08:20:48.920262",
     "status": "completed"
    },
    "tags": []
   },
   "outputs": [
    {
     "name": "stdout",
     "output_type": "stream",
     "text": [
      "[75. 41. 67. 61.  0. 50. 68. 22. 31. 46. 72. 26. 38. 37. 42. 40. 53. 60.\n",
      " 29. 13. 33. 27. 15. 23. 74. 63. 78. 51. 44. 34. 69. 36. 52. 25. 49. 48.\n",
      " 32. 18. 35. 24. 39. 16. 28. 47. 30. 64. 76.  5. 58. 45. 57. 19. 55. 54.\n",
      " 21. 65. 17. 20. 77. 82. 56. 84. 59. 43.  7. 70. 66. 62. 14. 80. 71. 81.\n",
      " 96. 12. 11.  4. 83. 10.  8.  6. 88. 86. 73.  9. 87. 85. 93. 95. 99. 79.\n",
      "  3.  2. 91. 92. 90. 89. 98. 94.]\n"
     ]
    }
   ],
   "source": [
    "print(train['Victim_Age'].unique())"
   ]
  },
  {
   "cell_type": "code",
   "execution_count": 42,
   "id": "d72a7061",
   "metadata": {
    "execution": {
     "iopub.execute_input": "2024-07-18T08:20:49.051940Z",
     "iopub.status.busy": "2024-07-18T08:20:49.051541Z",
     "iopub.status.idle": "2024-07-18T08:20:49.070700Z",
     "shell.execute_reply": "2024-07-18T08:20:49.069567Z"
    },
    "papermill": {
     "duration": 0.062207,
     "end_time": "2024-07-18T08:20:49.073407",
     "exception": false,
     "start_time": "2024-07-18T08:20:49.011200",
     "status": "completed"
    },
    "tags": []
   },
   "outputs": [],
   "source": [
    "train.loc[:,'Victim_Age']=train.loc[:,'Victim_Age'].apply(lambda x : int(x))\n",
    "train.loc[train['Victim_Age']==0,'Victim_Age']=train['Victim_Age'].mean()\n",
    "# train.loc['Victim_Age']=train.loc['Victim_Age'].apply(lambda x: int(x))"
   ]
  },
  {
   "cell_type": "code",
   "execution_count": 43,
   "id": "8788c8e7",
   "metadata": {
    "execution": {
     "iopub.execute_input": "2024-07-18T08:20:49.152961Z",
     "iopub.status.busy": "2024-07-18T08:20:49.151876Z",
     "iopub.status.idle": "2024-07-18T08:20:49.157462Z",
     "shell.execute_reply": "2024-07-18T08:20:49.156528Z"
    },
    "papermill": {
     "duration": 0.047505,
     "end_time": "2024-07-18T08:20:49.159852",
     "exception": false,
     "start_time": "2024-07-18T08:20:49.112347",
     "status": "completed"
    },
    "tags": []
   },
   "outputs": [],
   "source": [
    "\n",
    "# def gun(s):\n",
    "#     t=s.replace('/',' ')\n",
    "#     listt=t.split(' ' or '/')\n",
    "#     gun_keywords=['gun','pistol','revolver','rifle','shotgun']\n",
    "    \n",
    "#     sharp_heavy_object=['blade','stone','knife','metal','screwdriver','cleaver', 'glass','machete' ,'iron' , 'cutting','axe' ,'instrument','hammer','weapon','object','bottle','weapons','brass','scissors']\n",
    "    \n",
    "#     other_weapon = ['bomb','threat', 'demand', 'poison', 'ice', 'scalding', 'board','block' ,'brick', 'stick', 'bat', 'spray']\n",
    "    \n",
    "#     physical_presence=['physical','presence']\n",
    "    \n",
    "#     fire=['firearm' , 'fire' ]\n",
    "\n",
    "#     for i in listt:\n",
    "#         if i.lower() in gun_keywords:\n",
    "#             return 'Gun'\n",
    "#         elif i.lower() in sharp_heavy_object:\n",
    "#             return 'sharp_heavy_object'\n",
    "        \n",
    "#         elif i.lower() in fire:\n",
    "#             return 'fire'\n",
    "#         elif i.lower() in other_weapon:\n",
    "#             return 'other_weapon'\n",
    "#         elif i.lower() in physical_presence:\n",
    "#             return 'Physical Force'\n",
    "        \n",
    "#     return s\n",
    "    \n",
    "\n",
    "\n",
    "\n",
    "# df.loc[:,'Weapon_Description']=df['Weapon_Description'].apply(gun)"
   ]
  },
  {
   "cell_type": "markdown",
   "id": "56ff959b",
   "metadata": {
    "papermill": {
     "duration": 0.039338,
     "end_time": "2024-07-18T08:20:49.239281",
     "exception": false,
     "start_time": "2024-07-18T08:20:49.199943",
     "status": "completed"
    },
    "tags": []
   },
   "source": [
    "# new Columns "
   ]
  },
  {
   "cell_type": "code",
   "execution_count": 44,
   "id": "52cd8b05",
   "metadata": {
    "execution": {
     "iopub.execute_input": "2024-07-18T08:20:49.318186Z",
     "iopub.status.busy": "2024-07-18T08:20:49.317804Z",
     "iopub.status.idle": "2024-07-18T08:20:49.327611Z",
     "shell.execute_reply": "2024-07-18T08:20:49.326438Z"
    },
    "papermill": {
     "duration": 0.052375,
     "end_time": "2024-07-18T08:20:49.330139",
     "exception": false,
     "start_time": "2024-07-18T08:20:49.277764",
     "status": "completed"
    },
    "tags": []
   },
   "outputs": [],
   "source": [
    "numerical_columns=['Latitude','Longitude','Victim_Age','activity_count','reporting_delay_day_count']\n",
    "categorical_columns=['Area_ID','Part 1-2','Victim_Sex','Victim_Descent','Weapon_Description','Status','day_category'] #ohe\n",
    "# multilabel_binarizer=[['Modus_Operandi']] \n",
    "\n",
    "new_train=train[['Latitude','Longitude','Victim_Age','activity_count','reporting_delay_day_count','Area_ID','Part 1-2','Victim_Sex','Victim_Descent','Weapon_Description','Status','day_category','Modus_Operandi']]\n",
    "new_train_y=train['Crime_Category']\n",
    "\n",
    "\n",
    "\n",
    "\n"
   ]
  },
  {
   "cell_type": "markdown",
   "id": "998582de",
   "metadata": {
    "papermill": {
     "duration": 0.038021,
     "end_time": "2024-07-18T08:20:49.407145",
     "exception": false,
     "start_time": "2024-07-18T08:20:49.369124",
     "status": "completed"
    },
    "tags": []
   },
   "source": [
    "# new Column Transformer\n"
   ]
  },
  {
   "cell_type": "code",
   "execution_count": 45,
   "id": "85013d97",
   "metadata": {
    "execution": {
     "iopub.execute_input": "2024-07-18T08:20:49.487258Z",
     "iopub.status.busy": "2024-07-18T08:20:49.486892Z",
     "iopub.status.idle": "2024-07-18T08:20:49.502751Z",
     "shell.execute_reply": "2024-07-18T08:20:49.501303Z"
    },
    "papermill": {
     "duration": 0.060334,
     "end_time": "2024-07-18T08:20:49.505669",
     "exception": false,
     "start_time": "2024-07-18T08:20:49.445335",
     "status": "completed"
    },
    "tags": []
   },
   "outputs": [],
   "source": [
    "from sklearn.compose import ColumnTransformer\n",
    "\n",
    "from sklearn.preprocessing import StandardScaler , OneHotEncoder\n",
    "\n",
    "new_ct=ColumnTransformer(transformers=[\n",
    "    \n",
    "    ('numerical_cols' , StandardScaler(),['Latitude','Longitude','reporting_delay_day_count','Victim_Age','activity_count']),\n",
    "    ('categorical_cols' , OneHotEncoder(handle_unknown='ignore'),['day_category','Victim_Sex','Victim_Descent','Part 1-2','Area_ID','Status','Weapon_Description']),\n",
    "    ('multi_label_binarizer', MultiLabelBinarizerWrapper(), 'Modus_Operandi')\n",
    "])"
   ]
  },
  {
   "cell_type": "code",
   "execution_count": 46,
   "id": "173ebc10",
   "metadata": {
    "execution": {
     "iopub.execute_input": "2024-07-18T08:20:49.585982Z",
     "iopub.status.busy": "2024-07-18T08:20:49.585579Z",
     "iopub.status.idle": "2024-07-18T08:20:49.614065Z",
     "shell.execute_reply": "2024-07-18T08:20:49.612752Z"
    },
    "papermill": {
     "duration": 0.071401,
     "end_time": "2024-07-18T08:20:49.616777",
     "exception": false,
     "start_time": "2024-07-18T08:20:49.545376",
     "status": "completed"
    },
    "tags": []
   },
   "outputs": [
    {
     "name": "stdout",
     "output_type": "stream",
     "text": [
      "<class 'pandas.core.frame.DataFrame'>\n",
      "RangeIndex: 20000 entries, 0 to 19999\n",
      "Data columns (total 22 columns):\n",
      " #   Column                     Non-Null Count  Dtype  \n",
      "---  ------                     --------------  -----  \n",
      " 0   Location                   20000 non-null  object \n",
      " 1   Cross_Street               20000 non-null  object \n",
      " 2   Latitude                   20000 non-null  float64\n",
      " 3   Longitude                  20000 non-null  float64\n",
      " 4   Area_ID                    20000 non-null  object \n",
      " 5   Area_Name                  20000 non-null  object \n",
      " 6   Reporting_District_no      20000 non-null  object \n",
      " 7   Part 1-2                   20000 non-null  object \n",
      " 8   Modus_Operandi             20000 non-null  object \n",
      " 9   Victim_Age                 20000 non-null  float64\n",
      " 10  Victim_Sex                 20000 non-null  object \n",
      " 11  Victim_Descent             20000 non-null  object \n",
      " 12  Premise_Code               20000 non-null  object \n",
      " 13  Premise_Description        19995 non-null  object \n",
      " 14  Weapon_Used_Code           7335 non-null   float64\n",
      " 15  Weapon_Description         20000 non-null  object \n",
      " 16  Status                     20000 non-null  object \n",
      " 17  Status_Description         20000 non-null  object \n",
      " 18  Crime_Category             20000 non-null  object \n",
      " 19  activity_count             20000 non-null  int64  \n",
      " 20  day_category               20000 non-null  object \n",
      " 21  reporting_delay_day_count  20000 non-null  int64  \n",
      "dtypes: float64(4), int64(2), object(16)\n",
      "memory usage: 3.4+ MB\n"
     ]
    }
   ],
   "source": [
    "train.info()"
   ]
  },
  {
   "cell_type": "code",
   "execution_count": 47,
   "id": "03beb59f",
   "metadata": {
    "execution": {
     "iopub.execute_input": "2024-07-18T08:20:49.696257Z",
     "iopub.status.busy": "2024-07-18T08:20:49.695289Z",
     "iopub.status.idle": "2024-07-18T08:20:49.715651Z",
     "shell.execute_reply": "2024-07-18T08:20:49.714362Z"
    },
    "papermill": {
     "duration": 0.062841,
     "end_time": "2024-07-18T08:20:49.718133",
     "exception": false,
     "start_time": "2024-07-18T08:20:49.655292",
     "status": "completed"
    },
    "tags": []
   },
   "outputs": [
    {
     "data": {
      "text/html": [
       "<div>\n",
       "<style scoped>\n",
       "    .dataframe tbody tr th:only-of-type {\n",
       "        vertical-align: middle;\n",
       "    }\n",
       "\n",
       "    .dataframe tbody tr th {\n",
       "        vertical-align: top;\n",
       "    }\n",
       "\n",
       "    .dataframe thead th {\n",
       "        text-align: right;\n",
       "    }\n",
       "</style>\n",
       "<table border=\"1\" class=\"dataframe\">\n",
       "  <thead>\n",
       "    <tr style=\"text-align: right;\">\n",
       "      <th></th>\n",
       "      <th>Latitude</th>\n",
       "      <th>Longitude</th>\n",
       "      <th>Victim_Age</th>\n",
       "      <th>activity_count</th>\n",
       "      <th>reporting_delay_day_count</th>\n",
       "      <th>Area_ID</th>\n",
       "      <th>Part 1-2</th>\n",
       "      <th>Victim_Sex</th>\n",
       "      <th>Victim_Descent</th>\n",
       "      <th>Weapon_Description</th>\n",
       "      <th>Status</th>\n",
       "      <th>day_category</th>\n",
       "      <th>Modus_Operandi</th>\n",
       "    </tr>\n",
       "  </thead>\n",
       "  <tbody>\n",
       "    <tr>\n",
       "      <th>0</th>\n",
       "      <td>34.1522</td>\n",
       "      <td>-118.3910</td>\n",
       "      <td>75.0000</td>\n",
       "      <td>1</td>\n",
       "      <td>3</td>\n",
       "      <td>15.0</td>\n",
       "      <td>1.0</td>\n",
       "      <td>M</td>\n",
       "      <td>W</td>\n",
       "      <td>Physical Force</td>\n",
       "      <td>IC</td>\n",
       "      <td>Evening</td>\n",
       "      <td>0385</td>\n",
       "    </tr>\n",
       "    <tr>\n",
       "      <th>1</th>\n",
       "      <td>34.0028</td>\n",
       "      <td>-118.2391</td>\n",
       "      <td>41.0000</td>\n",
       "      <td>8</td>\n",
       "      <td>0</td>\n",
       "      <td>13.0</td>\n",
       "      <td>1.0</td>\n",
       "      <td>M</td>\n",
       "      <td>H</td>\n",
       "      <td>Physical Force</td>\n",
       "      <td>IC</td>\n",
       "      <td>Daytime</td>\n",
       "      <td>0906 0352 0371 0446 1822 0344 0416 0417</td>\n",
       "    </tr>\n",
       "    <tr>\n",
       "      <th>2</th>\n",
       "      <td>34.0111</td>\n",
       "      <td>-118.2653</td>\n",
       "      <td>67.0000</td>\n",
       "      <td>2</td>\n",
       "      <td>0</td>\n",
       "      <td>13.0</td>\n",
       "      <td>2.0</td>\n",
       "      <td>M</td>\n",
       "      <td>B</td>\n",
       "      <td>Physical Force</td>\n",
       "      <td>IC</td>\n",
       "      <td>Morning</td>\n",
       "      <td>0329 1202</td>\n",
       "    </tr>\n",
       "    <tr>\n",
       "      <th>3</th>\n",
       "      <td>34.2953</td>\n",
       "      <td>-118.4590</td>\n",
       "      <td>61.0000</td>\n",
       "      <td>2</td>\n",
       "      <td>2</td>\n",
       "      <td>19.0</td>\n",
       "      <td>1.0</td>\n",
       "      <td>M</td>\n",
       "      <td>H</td>\n",
       "      <td>Physical Force</td>\n",
       "      <td>IC</td>\n",
       "      <td>Evening</td>\n",
       "      <td>0329 1300</td>\n",
       "    </tr>\n",
       "    <tr>\n",
       "      <th>4</th>\n",
       "      <td>33.9787</td>\n",
       "      <td>-118.2918</td>\n",
       "      <td>30.1354</td>\n",
       "      <td>6</td>\n",
       "      <td>0</td>\n",
       "      <td>12.0</td>\n",
       "      <td>1.0</td>\n",
       "      <td>X</td>\n",
       "      <td>X</td>\n",
       "      <td>Physical Force</td>\n",
       "      <td>IC</td>\n",
       "      <td>Morning</td>\n",
       "      <td>0416 0945 1822 0400 0417 0344</td>\n",
       "    </tr>\n",
       "    <tr>\n",
       "      <th>...</th>\n",
       "      <td>...</td>\n",
       "      <td>...</td>\n",
       "      <td>...</td>\n",
       "      <td>...</td>\n",
       "      <td>...</td>\n",
       "      <td>...</td>\n",
       "      <td>...</td>\n",
       "      <td>...</td>\n",
       "      <td>...</td>\n",
       "      <td>...</td>\n",
       "      <td>...</td>\n",
       "      <td>...</td>\n",
       "      <td>...</td>\n",
       "    </tr>\n",
       "    <tr>\n",
       "      <th>19995</th>\n",
       "      <td>34.0334</td>\n",
       "      <td>-118.3523</td>\n",
       "      <td>51.0000</td>\n",
       "      <td>4</td>\n",
       "      <td>0</td>\n",
       "      <td>3.0</td>\n",
       "      <td>2.0</td>\n",
       "      <td>M</td>\n",
       "      <td>H</td>\n",
       "      <td>Physical Force</td>\n",
       "      <td>IC</td>\n",
       "      <td>Morning</td>\n",
       "      <td>0416 0446 2004 0913</td>\n",
       "    </tr>\n",
       "    <tr>\n",
       "      <th>19996</th>\n",
       "      <td>34.2212</td>\n",
       "      <td>-118.5011</td>\n",
       "      <td>30.1354</td>\n",
       "      <td>5</td>\n",
       "      <td>0</td>\n",
       "      <td>10.0</td>\n",
       "      <td>1.0</td>\n",
       "      <td>M</td>\n",
       "      <td>W</td>\n",
       "      <td>other_weapon</td>\n",
       "      <td>IC</td>\n",
       "      <td>Night</td>\n",
       "      <td>1822 0209 0344 1414 1420</td>\n",
       "    </tr>\n",
       "    <tr>\n",
       "      <th>19997</th>\n",
       "      <td>34.0571</td>\n",
       "      <td>-118.3815</td>\n",
       "      <td>42.0000</td>\n",
       "      <td>3</td>\n",
       "      <td>0</td>\n",
       "      <td>8.0</td>\n",
       "      <td>1.0</td>\n",
       "      <td>M</td>\n",
       "      <td>H</td>\n",
       "      <td>sharp_heavy_object</td>\n",
       "      <td>IC</td>\n",
       "      <td>Daytime</td>\n",
       "      <td>0344 1822 1420</td>\n",
       "    </tr>\n",
       "    <tr>\n",
       "      <th>19998</th>\n",
       "      <td>33.7451</td>\n",
       "      <td>-118.2835</td>\n",
       "      <td>76.0000</td>\n",
       "      <td>6</td>\n",
       "      <td>0</td>\n",
       "      <td>5.0</td>\n",
       "      <td>2.0</td>\n",
       "      <td>F</td>\n",
       "      <td>H</td>\n",
       "      <td>Physical Force</td>\n",
       "      <td>IC</td>\n",
       "      <td>Morning</td>\n",
       "      <td>1202 2038 0913 0602 1242 0553</td>\n",
       "    </tr>\n",
       "    <tr>\n",
       "      <th>19999</th>\n",
       "      <td>34.0037</td>\n",
       "      <td>-118.3034</td>\n",
       "      <td>30.1354</td>\n",
       "      <td>0</td>\n",
       "      <td>1</td>\n",
       "      <td>3.0</td>\n",
       "      <td>1.0</td>\n",
       "      <td>M</td>\n",
       "      <td>H</td>\n",
       "      <td>Physical Force</td>\n",
       "      <td>IC</td>\n",
       "      <td>Evening</td>\n",
       "      <td></td>\n",
       "    </tr>\n",
       "  </tbody>\n",
       "</table>\n",
       "<p>20000 rows × 13 columns</p>\n",
       "</div>"
      ],
      "text/plain": [
       "       Latitude  Longitude  Victim_Age  activity_count  \\\n",
       "0       34.1522  -118.3910     75.0000               1   \n",
       "1       34.0028  -118.2391     41.0000               8   \n",
       "2       34.0111  -118.2653     67.0000               2   \n",
       "3       34.2953  -118.4590     61.0000               2   \n",
       "4       33.9787  -118.2918     30.1354               6   \n",
       "...         ...        ...         ...             ...   \n",
       "19995   34.0334  -118.3523     51.0000               4   \n",
       "19996   34.2212  -118.5011     30.1354               5   \n",
       "19997   34.0571  -118.3815     42.0000               3   \n",
       "19998   33.7451  -118.2835     76.0000               6   \n",
       "19999   34.0037  -118.3034     30.1354               0   \n",
       "\n",
       "       reporting_delay_day_count Area_ID Part 1-2 Victim_Sex Victim_Descent  \\\n",
       "0                              3    15.0      1.0          M              W   \n",
       "1                              0    13.0      1.0          M              H   \n",
       "2                              0    13.0      2.0          M              B   \n",
       "3                              2    19.0      1.0          M              H   \n",
       "4                              0    12.0      1.0          X              X   \n",
       "...                          ...     ...      ...        ...            ...   \n",
       "19995                          0     3.0      2.0          M              H   \n",
       "19996                          0    10.0      1.0          M              W   \n",
       "19997                          0     8.0      1.0          M              H   \n",
       "19998                          0     5.0      2.0          F              H   \n",
       "19999                          1     3.0      1.0          M              H   \n",
       "\n",
       "       Weapon_Description Status day_category  \\\n",
       "0          Physical Force     IC      Evening   \n",
       "1          Physical Force     IC      Daytime   \n",
       "2          Physical Force     IC      Morning   \n",
       "3          Physical Force     IC      Evening   \n",
       "4          Physical Force     IC      Morning   \n",
       "...                   ...    ...          ...   \n",
       "19995      Physical Force     IC      Morning   \n",
       "19996        other_weapon     IC        Night   \n",
       "19997  sharp_heavy_object     IC      Daytime   \n",
       "19998      Physical Force     IC      Morning   \n",
       "19999      Physical Force     IC      Evening   \n",
       "\n",
       "                                Modus_Operandi  \n",
       "0                                         0385  \n",
       "1      0906 0352 0371 0446 1822 0344 0416 0417  \n",
       "2                                    0329 1202  \n",
       "3                                    0329 1300  \n",
       "4                0416 0945 1822 0400 0417 0344  \n",
       "...                                        ...  \n",
       "19995                      0416 0446 2004 0913  \n",
       "19996                 1822 0209 0344 1414 1420  \n",
       "19997                           0344 1822 1420  \n",
       "19998            1202 2038 0913 0602 1242 0553  \n",
       "19999                                           \n",
       "\n",
       "[20000 rows x 13 columns]"
      ]
     },
     "execution_count": 47,
     "metadata": {},
     "output_type": "execute_result"
    }
   ],
   "source": [
    "new_train"
   ]
  },
  {
   "cell_type": "code",
   "execution_count": 48,
   "id": "eb2a37f9",
   "metadata": {
    "execution": {
     "iopub.execute_input": "2024-07-18T08:20:49.802749Z",
     "iopub.status.busy": "2024-07-18T08:20:49.802324Z",
     "iopub.status.idle": "2024-07-18T08:20:49.908915Z",
     "shell.execute_reply": "2024-07-18T08:20:49.907707Z"
    },
    "papermill": {
     "duration": 0.150419,
     "end_time": "2024-07-18T08:20:49.911499",
     "exception": false,
     "start_time": "2024-07-18T08:20:49.761080",
     "status": "completed"
    },
    "tags": []
   },
   "outputs": [],
   "source": [
    "from sklearn.linear_model import LogisticRegression,LogisticRegressionCV\n",
    "from sklearn.pipeline import Pipeline\n",
    "from sklearn.compose import ColumnTransformer\n",
    "\n",
    "\n",
    "from sklearn.model_selection import StratifiedKFold\n",
    "\n",
    "from sklearn.metrics import accuracy_score,f1_score"
   ]
  },
  {
   "cell_type": "markdown",
   "id": "e9b42d80",
   "metadata": {
    "papermill": {
     "duration": 0.040809,
     "end_time": "2024-07-18T08:20:49.991538",
     "exception": false,
     "start_time": "2024-07-18T08:20:49.950729",
     "status": "completed"
    },
    "tags": []
   },
   "source": [
    "# train_test_split"
   ]
  },
  {
   "cell_type": "code",
   "execution_count": 49,
   "id": "6bf04101",
   "metadata": {
    "execution": {
     "iopub.execute_input": "2024-07-18T08:20:50.073078Z",
     "iopub.status.busy": "2024-07-18T08:20:50.072700Z",
     "iopub.status.idle": "2024-07-18T08:20:50.108542Z",
     "shell.execute_reply": "2024-07-18T08:20:50.107392Z"
    },
    "papermill": {
     "duration": 0.080547,
     "end_time": "2024-07-18T08:20:50.111264",
     "exception": false,
     "start_time": "2024-07-18T08:20:50.030717",
     "status": "completed"
    },
    "tags": []
   },
   "outputs": [],
   "source": [
    "# df.shape\n",
    "\n",
    "from sklearn.model_selection import train_test_split\n",
    "\n",
    "xtrain_1 , xtest_1 , ytrain_1 , ytest_1 = train_test_split(new_train ,new_train_y ,test_size=0.2 , random_state=42 ,shuffle=True,stratify = new_train_y )"
   ]
  },
  {
   "cell_type": "markdown",
   "id": "90c5296e",
   "metadata": {
    "papermill": {
     "duration": 0.039532,
     "end_time": "2024-07-18T08:20:50.190181",
     "exception": false,
     "start_time": "2024-07-18T08:20:50.150649",
     "status": "completed"
    },
    "tags": []
   },
   "source": [
    "# DummyClassifier"
   ]
  },
  {
   "cell_type": "code",
   "execution_count": 50,
   "id": "7e593d16",
   "metadata": {
    "execution": {
     "iopub.execute_input": "2024-07-18T08:20:50.276358Z",
     "iopub.status.busy": "2024-07-18T08:20:50.275221Z",
     "iopub.status.idle": "2024-07-18T08:20:51.073946Z",
     "shell.execute_reply": "2024-07-18T08:20:51.072624Z"
    },
    "papermill": {
     "duration": 0.845376,
     "end_time": "2024-07-18T08:20:51.076476",
     "exception": false,
     "start_time": "2024-07-18T08:20:50.231100",
     "status": "completed"
    },
    "tags": []
   },
   "outputs": [
    {
     "name": "stdout",
     "output_type": "stream",
     "text": [
      "Accuracy scores for each fold:  [0.5834375, 0.5834375, 0.5834375, 0.583125, 0.583125]\n",
      "Average accuracy:  0.5833125\n",
      "F1 scores for each fold:  [0.429949797710677, 0.429949797710677, 0.429949797710677, 0.42957412159494673, 0.42957412159494673]\n",
      "Average F1 score:  0.4297995272643849\n"
     ]
    }
   ],
   "source": [
    "from sklearn.dummy import DummyClassifier\n",
    "\n",
    "# dummy_clf=DummyClassifier(random_state=42 , strategy=\"most_frequent\")\n",
    "# dummy_clf.fit(xtrain, ytrain)\n",
    "# print('Dummy train score', dummy_clf.score(ytrain,ytrain))\n",
    "# print('Dummy predicted train score', dummy_clf.score(xtrain,dummy_clf.predict(xtrain)))\n",
    "\n",
    "# print('Dummy test score', dummy_clf.score(xtest, ytest))\n",
    "\n",
    "# print('Dummy predicted test score', dummy_clf.score(xtest, dummy_clf.predict(xtest)))\n",
    "data_split= StratifiedKFold(n_splits=5, shuffle=True, random_state=42)\n",
    "\n",
    "\n",
    "model_dummy=DummyClassifier(random_state=42 , strategy=\"most_frequent\")\n",
    "\n",
    "dummy_pipeline=Pipeline(steps=[('new_ct',new_ct),('model_dummy',model_dummy)])\n",
    "\n",
    "\n",
    "\n",
    "accuracy_scores_dummy_pipeline = []\n",
    "f1_scores_dummy_pipeline = []\n",
    "\n",
    "\n",
    "\n",
    "for train_index, test_index in data_split.split(xtrain_1, ytrain_1):\n",
    "    X_train, X_test = xtrain_1.iloc[train_index], xtrain_1.iloc[test_index]\n",
    "    y_train, y_test = ytrain_1.iloc[train_index], ytrain_1.iloc[test_index]\n",
    "    \n",
    "    dummy_pipeline.fit(X_train, y_train)\n",
    "    \n",
    "    y_pred = dummy_pipeline.predict(X_test)\n",
    "    accuracy = accuracy_score(y_test, y_pred)\n",
    "    f1 = f1_score(y_test, y_pred, average='weighted')\n",
    "    accuracy_scores_dummy_pipeline.append(accuracy)\n",
    "    f1_scores_dummy_pipeline.append(f1)\n",
    "    \n",
    "    \n",
    "    \n",
    "    \n",
    "    \n",
    "    \n",
    "    \n",
    "print(\"Accuracy scores for each fold: \", accuracy_scores_dummy_pipeline)\n",
    "print(\"Average accuracy: \", np.mean(accuracy_scores_dummy_pipeline))\n",
    "print(\"F1 scores for each fold: \", f1_scores_dummy_pipeline)\n",
    "print(\"Average F1 score: \", np.mean(f1_scores_dummy_pipeline))\n",
    "    \n",
    "    \n",
    "    \n"
   ]
  },
  {
   "cell_type": "markdown",
   "id": "a874461c",
   "metadata": {
    "papermill": {
     "duration": 0.039995,
     "end_time": "2024-07-18T08:20:51.155981",
     "exception": false,
     "start_time": "2024-07-18T08:20:51.115986",
     "status": "completed"
    },
    "tags": []
   },
   "source": [
    "# Logistic"
   ]
  },
  {
   "cell_type": "code",
   "execution_count": 51,
   "id": "42fd520b",
   "metadata": {
    "execution": {
     "iopub.execute_input": "2024-07-18T08:20:51.237697Z",
     "iopub.status.busy": "2024-07-18T08:20:51.237272Z",
     "iopub.status.idle": "2024-07-18T08:20:55.173027Z",
     "shell.execute_reply": "2024-07-18T08:20:55.171795Z"
    },
    "papermill": {
     "duration": 3.980453,
     "end_time": "2024-07-18T08:20:55.176300",
     "exception": false,
     "start_time": "2024-07-18T08:20:51.195847",
     "status": "completed"
    },
    "tags": []
   },
   "outputs": [
    {
     "data": {
      "text/plain": [
       "0.816"
      ]
     },
     "execution_count": 51,
     "metadata": {},
     "output_type": "execute_result"
    }
   ],
   "source": [
    "from sklearn.model_selection import train_test_split\n",
    "\n",
    "\n",
    "\n",
    "from sklearn.linear_model import LogisticRegression\n",
    "logistic_model_plain = Pipeline(steps=[('new_ct',new_ct),('logistic_reg',LogisticRegression( max_iter=1200 ,random_state=42))])\n",
    "\n",
    "logistic_model_plain.fit(xtrain_1, ytrain_1)\n",
    "\n",
    "logistic_model_plain.score(xtest_1,ytest_1)"
   ]
  },
  {
   "cell_type": "markdown",
   "id": "0f124049",
   "metadata": {
    "papermill": {
     "duration": 0.053316,
     "end_time": "2024-07-18T08:20:55.304880",
     "exception": false,
     "start_time": "2024-07-18T08:20:55.251564",
     "status": "completed"
    },
    "tags": []
   },
   "source": [
    "Logistic Full Model"
   ]
  },
  {
   "cell_type": "code",
   "execution_count": 52,
   "id": "35caa382",
   "metadata": {
    "execution": {
     "iopub.execute_input": "2024-07-18T08:20:55.387938Z",
     "iopub.status.busy": "2024-07-18T08:20:55.387532Z",
     "iopub.status.idle": "2024-07-18T08:21:16.519379Z",
     "shell.execute_reply": "2024-07-18T08:21:16.518244Z"
    },
    "papermill": {
     "duration": 21.178143,
     "end_time": "2024-07-18T08:21:16.522853",
     "exception": false,
     "start_time": "2024-07-18T08:20:55.344710",
     "status": "completed"
    },
    "tags": []
   },
   "outputs": [
    {
     "name": "stdout",
     "output_type": "stream",
     "text": [
      "Accuracy scores for each fold using pipe_logistic_model:  [0.82025, 0.8115, 0.81225, 0.82175, 0.809]\n",
      "Average accuracy using pipe_logistic_model:  0.81495\n",
      "F1 scores for each fold using pipe_logistic_model:  [0.809439723660626, 0.8022573835241563, 0.8028973020590026, 0.8130201482676259, 0.7980089802015197]\n",
      "Average F1 score using pipe_logistic_model:  0.8051247075425861\n",
      "model_score_test list  using pipe_logistic_model  [0.82025, 0.8115, 0.81225, 0.82175, 0.809]\n"
     ]
    }
   ],
   "source": [
    "from sklearn.linear_model import LogisticRegression\n",
    "\n",
    "pipe_logistic_model = Pipeline(steps=[('new_ct',new_ct),('logistic_reg',LogisticRegression( max_iter=1200 ,random_state=42))])\n",
    "\n",
    "model_score_test=[]\n",
    "accuracy_scores_logistic_pipeline = []\n",
    "f1_scores_logistic_pipeline = []\n",
    "\n",
    "\n",
    "\n",
    "for train_index, test_index in data_split.split(new_train, new_train_y):\n",
    "    X_train, X_test = new_train.iloc[train_index], new_train.iloc[test_index]\n",
    "    y_train, y_test = new_train_y.iloc[train_index], new_train_y.iloc[test_index]\n",
    "    \n",
    "    pipe_logistic_model.fit(X_train, y_train)\n",
    "    \n",
    "    y_pred_pipe_logistic_model = pipe_logistic_model.predict(X_test)\n",
    "    \n",
    "    \n",
    "    model_score=pipe_logistic_model.score(X_test,y_test)\n",
    "\n",
    "    accuracy = accuracy_score(y_test, y_pred_pipe_logistic_model)\n",
    "    f1 = f1_score(y_test, y_pred_pipe_logistic_model, average='weighted')\n",
    "    accuracy_scores_logistic_pipeline.append(accuracy)\n",
    "    f1_scores_logistic_pipeline.append(f1)\n",
    "    model_score_test.append(model_score)\n",
    "    \n",
    "    \n",
    "    \n",
    "    \n",
    "    \n",
    "    \n",
    "    \n",
    "print(\"Accuracy scores for each fold using pipe_logistic_model: \", accuracy_scores_logistic_pipeline)\n",
    "print(\"Average accuracy using pipe_logistic_model: \", np.mean(accuracy_scores_logistic_pipeline))\n",
    "print(\"F1 scores for each fold using pipe_logistic_model: \", f1_scores_logistic_pipeline)\n",
    "print(\"Average F1 score using pipe_logistic_model: \", np.mean(f1_scores_logistic_pipeline))\n",
    "print(\"model_score_test list  using pipe_logistic_model \" ,model_score_test )\n",
    "\n"
   ]
  },
  {
   "cell_type": "markdown",
   "id": "749e7a47",
   "metadata": {
    "papermill": {
     "duration": 0.038727,
     "end_time": "2024-07-18T08:21:16.618614",
     "exception": false,
     "start_time": "2024-07-18T08:21:16.579887",
     "status": "completed"
    },
    "tags": []
   },
   "source": [
    "Logistic Half model"
   ]
  },
  {
   "cell_type": "code",
   "execution_count": 53,
   "id": "cd6f7dd1",
   "metadata": {
    "execution": {
     "iopub.execute_input": "2024-07-18T08:21:16.698716Z",
     "iopub.status.busy": "2024-07-18T08:21:16.698324Z",
     "iopub.status.idle": "2024-07-18T08:21:31.791539Z",
     "shell.execute_reply": "2024-07-18T08:21:31.790276Z"
    },
    "papermill": {
     "duration": 15.136965,
     "end_time": "2024-07-18T08:21:31.794835",
     "exception": false,
     "start_time": "2024-07-18T08:21:16.657870",
     "status": "completed"
    },
    "tags": []
   },
   "outputs": [
    {
     "name": "stdout",
     "output_type": "stream",
     "text": [
      "Accuracy scores for each fold using pipe_logistic_model:  [0.814375, 0.8171875, 0.8103125, 0.8203125, 0.808125]\n",
      "Average accuracy using pipe_logistic_model:  0.8140625\n",
      "F1 scores for each fold using pipe_logistic_model:  [0.8058343205588995, 0.807238000740563, 0.8002682626832922, 0.8099417724282472, 0.7990416333419468]\n",
      "Average F1 score using pipe_logistic_model:  0.8044647979505897\n",
      "model_score_test list  using pipe_logistic_model  [0.814375, 0.8171875, 0.8103125, 0.8203125, 0.808125]\n"
     ]
    }
   ],
   "source": [
    "from sklearn.linear_model import LogisticRegression\n",
    "\n",
    "pipe_logistic_model_2 = Pipeline(steps=[('new_ct',new_ct),('logistic_reg',LogisticRegression( max_iter=1200 ,random_state=42))])\n",
    "\n",
    "model_score_test=[]\n",
    "accuracy_scores_logistic_pipeline = []\n",
    "f1_scores_logistic_pipeline = []\n",
    "\n",
    "\n",
    "\n",
    "for train_index, test_index in data_split.split(xtrain_1, ytrain_1):\n",
    "    X_train, X_test = xtrain_1.iloc[train_index], xtrain_1.iloc[test_index]\n",
    "    y_train, y_test = ytrain_1.iloc[train_index], ytrain_1.iloc[test_index]\n",
    "    \n",
    "    pipe_logistic_model_2.fit(X_train, y_train)\n",
    "    \n",
    "    y_pred_pipe_logistic_model_2 = pipe_logistic_model_2.predict(X_test)\n",
    "    \n",
    "    \n",
    "    model_score=pipe_logistic_model_2.score(X_test,y_test)\n",
    "\n",
    "    accuracy = accuracy_score(y_test, y_pred_pipe_logistic_model_2)\n",
    "    f1 = f1_score(y_test, y_pred_pipe_logistic_model_2, average='weighted')\n",
    "    accuracy_scores_logistic_pipeline.append(accuracy)\n",
    "    f1_scores_logistic_pipeline.append(f1)\n",
    "    model_score_test.append(model_score)\n",
    "    \n",
    "    \n",
    "    \n",
    "    \n",
    "    \n",
    "    \n",
    "    \n",
    "print(\"Accuracy scores for each fold using pipe_logistic_model: \", accuracy_scores_logistic_pipeline)\n",
    "print(\"Average accuracy using pipe_logistic_model: \", np.mean(accuracy_scores_logistic_pipeline))\n",
    "print(\"F1 scores for each fold using pipe_logistic_model: \", f1_scores_logistic_pipeline)\n",
    "print(\"Average F1 score using pipe_logistic_model: \", np.mean(f1_scores_logistic_pipeline))\n",
    "print(\"model_score_test list  using pipe_logistic_model \" ,model_score_test )\n",
    "\n"
   ]
  },
  {
   "cell_type": "code",
   "execution_count": 54,
   "id": "4ac27732",
   "metadata": {
    "execution": {
     "iopub.execute_input": "2024-07-18T08:21:31.899481Z",
     "iopub.status.busy": "2024-07-18T08:21:31.899072Z",
     "iopub.status.idle": "2024-07-18T08:21:31.946775Z",
     "shell.execute_reply": "2024-07-18T08:21:31.945577Z"
    },
    "papermill": {
     "duration": 0.091058,
     "end_time": "2024-07-18T08:21:31.949236",
     "exception": false,
     "start_time": "2024-07-18T08:21:31.858178",
     "status": "completed"
    },
    "tags": []
   },
   "outputs": [
    {
     "data": {
      "text/plain": [
       "0.81475"
      ]
     },
     "execution_count": 54,
     "metadata": {},
     "output_type": "execute_result"
    }
   ],
   "source": [
    "pipe_logistic_model_2.score(xtest_1,ytest_1)"
   ]
  },
  {
   "cell_type": "markdown",
   "id": "22c5c8d3",
   "metadata": {
    "papermill": {
     "duration": 0.052194,
     "end_time": "2024-07-18T08:21:32.072902",
     "exception": false,
     "start_time": "2024-07-18T08:21:32.020708",
     "status": "completed"
    },
    "tags": []
   },
   "source": [
    "\n",
    "# SVC\n"
   ]
  },
  {
   "cell_type": "code",
   "execution_count": 55,
   "id": "4e854fdd",
   "metadata": {
    "execution": {
     "iopub.execute_input": "2024-07-18T08:21:32.153058Z",
     "iopub.status.busy": "2024-07-18T08:21:32.152692Z",
     "iopub.status.idle": "2024-07-18T08:22:22.192785Z",
     "shell.execute_reply": "2024-07-18T08:22:22.191387Z"
    },
    "papermill": {
     "duration": 50.125107,
     "end_time": "2024-07-18T08:22:22.237103",
     "exception": false,
     "start_time": "2024-07-18T08:21:32.111996",
     "status": "completed"
    },
    "tags": []
   },
   "outputs": [
    {
     "name": "stdout",
     "output_type": "stream",
     "text": [
      "Accuracy scores for each fold using pipe_logistic_model:  [0.8509375, 0.8609375, 0.849375, 0.8559375, 0.85375]\n",
      "Average accuracy using pipe_logistic_model:  0.8541875000000001\n",
      "F1 scores for each fold using pipe_logistic_model:  [0.8429099141196416, 0.85319844909912, 0.8409834266781695, 0.8473868254718212, 0.8454770850743634]\n",
      "Average F1 score using pipe_logistic_model:  0.8459911400886231\n",
      "model_score_test list  using pipe_logistic_model  [0.8509375, 0.8609375, 0.849375, 0.8559375, 0.85375]\n"
     ]
    }
   ],
   "source": [
    "from sklearn.svm import SVC\n",
    "pipe_svc_half=Pipeline(steps=[('new_ct',new_ct),('svc',SVC(decision_function_shape='ovr'))])\n",
    "\n",
    "\n",
    "model_score_test_half=[]\n",
    "accuracy_scores_SVC_half = []\n",
    "f1_scores_SVC_half = []\n",
    "\n",
    "\n",
    "\n",
    "for train_index, test_index in data_split.split(xtrain_1, ytrain_1):\n",
    "    X_train, X_test = xtrain_1.iloc[train_index], xtrain_1.iloc[test_index]\n",
    "    y_train, y_test = ytrain_1.iloc[train_index], ytrain_1.iloc[test_index]\n",
    "    \n",
    "    pipe_svc_half.fit(X_train, y_train)\n",
    "    \n",
    "    y_pred_svc_half = pipe_svc_half.predict(X_test)\n",
    "    \n",
    "    \n",
    "    model_score_svc=pipe_svc_half.score(X_test,y_test)\n",
    "    \n",
    "\n",
    "    accuracy_svc = accuracy_score(y_test, y_pred_svc_half)\n",
    "    \n",
    "    \n",
    "    f1_svc = f1_score(y_test, y_pred_svc_half, average='weighted')\n",
    "    \n",
    "    \n",
    "    accuracy_scores_SVC_half.append(accuracy_svc)\n",
    "    f1_scores_SVC_half.append(f1_svc)\n",
    "    model_score_test_half.append(model_score_svc)\n",
    "    \n",
    "    \n",
    "    \n",
    "    \n",
    "    \n",
    "    \n",
    "    \n",
    "print(\"Accuracy scores for each fold using pipe_logistic_model: \", accuracy_scores_SVC_half)\n",
    "print(\"Average accuracy using pipe_logistic_model: \", np.mean(accuracy_scores_SVC_half))\n",
    "print(\"F1 scores for each fold using pipe_logistic_model: \", f1_scores_SVC_half)\n",
    "print(\"Average F1 score using pipe_logistic_model: \", np.mean(f1_scores_SVC_half))\n",
    "print(\"model_score_test list  using pipe_logistic_model \" ,model_score_test_half )\n",
    "\n"
   ]
  },
  {
   "cell_type": "code",
   "execution_count": 56,
   "id": "9e6273e2",
   "metadata": {
    "execution": {
     "iopub.execute_input": "2024-07-18T08:22:22.319567Z",
     "iopub.status.busy": "2024-07-18T08:22:22.319126Z",
     "iopub.status.idle": "2024-07-18T08:23:41.441425Z",
     "shell.execute_reply": "2024-07-18T08:23:41.440274Z"
    },
    "papermill": {
     "duration": 79.207985,
     "end_time": "2024-07-18T08:23:41.485574",
     "exception": false,
     "start_time": "2024-07-18T08:22:22.277589",
     "status": "completed"
    },
    "tags": []
   },
   "outputs": [
    {
     "name": "stdout",
     "output_type": "stream",
     "text": [
      "Accuracy scores for each fold using pipe_logistic_model:  [0.8635, 0.846, 0.85325, 0.8555, 0.85475]\n",
      "Average accuracy using pipe_logistic_model:  0.8545999999999999\n",
      "F1 scores for each fold using pipe_logistic_model:  [0.8550341627853669, 0.8382071710703208, 0.8456999201933723, 0.8473101189717284, 0.845885628757552]\n",
      "Average F1 score using pipe_logistic_model:  0.846427400355668\n",
      "model_score_test list  using pipe_logistic_model  [0.8635, 0.846, 0.85325, 0.8555, 0.85475]\n"
     ]
    }
   ],
   "source": [
    "from sklearn.svm import SVC\n",
    "pipe_svc_full=Pipeline(steps=[('new_ct',new_ct),('svc',SVC(decision_function_shape='ovr'))])\n",
    "\n",
    "\n",
    "model_score_test_full=[]\n",
    "accuracy_scores_SVC_full = []\n",
    "f1_scores_SVC_full = []\n",
    "\n",
    "\n",
    "\n",
    "for train_index, test_index in data_split.split(new_train, new_train_y):\n",
    "    X_train, X_test = new_train.iloc[train_index], new_train.iloc[test_index]\n",
    "    y_train, y_test = new_train_y.iloc[train_index], new_train_y.iloc[test_index]\n",
    "    \n",
    "    pipe_svc_full.fit(X_train, y_train)\n",
    "    \n",
    "    y_pred_svc_full = pipe_svc_full.predict(X_test)\n",
    "    \n",
    "    \n",
    "    model_score_svc=pipe_svc_full.score(X_test,y_test)\n",
    "\n",
    "    accuracy_svc = accuracy_score(y_test, y_pred_svc_full)\n",
    "    \n",
    "    f1_svc = f1_score(y_test, y_pred_svc_full, average='weighted')\n",
    "    \n",
    "    \n",
    "    accuracy_scores_SVC_full.append(accuracy_svc)\n",
    "    f1_scores_SVC_full.append(f1_svc)\n",
    "    model_score_test_full.append(model_score_svc)\n",
    "    \n",
    "    \n",
    "    \n",
    "    \n",
    "    \n",
    "    \n",
    "    \n",
    "print(\"Accuracy scores for each fold using pipe_logistic_model: \", accuracy_scores_SVC_full)\n",
    "print(\"Average accuracy using pipe_logistic_model: \", np.mean(accuracy_scores_SVC_full))\n",
    "print(\"F1 scores for each fold using pipe_logistic_model: \", f1_scores_SVC_full)\n",
    "print(\"Average F1 score using pipe_logistic_model: \", np.mean(f1_scores_SVC_full))\n",
    "print(\"model_score_test list  using pipe_logistic_model \" ,model_score_test_full )\n",
    "\n"
   ]
  },
  {
   "cell_type": "markdown",
   "id": "57b7ef57",
   "metadata": {
    "papermill": {
     "duration": 0.039916,
     "end_time": "2024-07-18T08:23:41.633185",
     "exception": false,
     "start_time": "2024-07-18T08:23:41.593269",
     "status": "completed"
    },
    "tags": []
   },
   "source": [
    "# KNN"
   ]
  },
  {
   "cell_type": "code",
   "execution_count": 57,
   "id": "dee902c5",
   "metadata": {
    "execution": {
     "iopub.execute_input": "2024-07-18T08:23:41.715121Z",
     "iopub.status.busy": "2024-07-18T08:23:41.714706Z",
     "iopub.status.idle": "2024-07-18T08:24:03.016010Z",
     "shell.execute_reply": "2024-07-18T08:24:03.014801Z"
    },
    "papermill": {
     "duration": 21.346617,
     "end_time": "2024-07-18T08:24:03.019711",
     "exception": false,
     "start_time": "2024-07-18T08:23:41.673094",
     "status": "completed"
    },
    "tags": []
   },
   "outputs": [
    {
     "name": "stdout",
     "output_type": "stream",
     "text": [
      "Accuracy scores for each fold using pipe_logistic_model:  [0.8171875, 0.8171875, 0.8084375, 0.818125, 0.8128125]\n",
      "Average accuracy using pipe_logistic_model:  0.8147499999999999\n",
      "F1 scores for each fold using pipe_logistic_model:  [0.799195352494535, 0.7984934209925351, 0.7901654404384283, 0.8001140779338967, 0.7955404864289431]\n",
      "Average F1 score using pipe_logistic_model:  0.7967017556576677\n",
      "model_score_test list  using pipe_logistic_model  [0.8171875, 0.8171875, 0.8084375, 0.818125, 0.8128125]\n"
     ]
    }
   ],
   "source": [
    "from sklearn.neighbors import KNeighborsClassifier\n",
    "knn_classifier_half=Pipeline(steps=[('new_ct' , new_ct ),( 'knn' ,KNeighborsClassifier(n_neighbors=16 , p=1,leaf_size=19 ,weights='distance'))])\n",
    "\n",
    "KNN_model_score_test_half=[]\n",
    "accuracy_scores_KNN_half = []\n",
    "f1_scores_KNN_half = []\n",
    "\n",
    "\n",
    "\n",
    "for train_index, test_index in data_split.split(xtrain_1, ytrain_1):\n",
    "    X_train, X_test = xtrain_1.iloc[train_index], xtrain_1.iloc[test_index]\n",
    "    y_train, y_test = ytrain_1.iloc[train_index], ytrain_1.iloc[test_index]\n",
    "    \n",
    "    knn_classifier_half.fit(X_train, y_train)\n",
    "    \n",
    "    y_pred_KNN_half = knn_classifier_half.predict(X_test)\n",
    "    \n",
    "    \n",
    "    model_score_KNN=knn_classifier_half.score(X_test,y_test)\n",
    "    \n",
    "\n",
    "    accuracy_KNN = accuracy_score(y_test, y_pred_KNN_half)\n",
    "    \n",
    "    \n",
    "    f1_KNN = f1_score(y_test, y_pred_KNN_half, average='weighted')\n",
    "    \n",
    "    \n",
    "    accuracy_scores_KNN_half.append(accuracy_KNN)\n",
    "    \n",
    "    f1_scores_KNN_half.append(f1_KNN)\n",
    "    \n",
    "    KNN_model_score_test_half.append(model_score_KNN)\n",
    "    \n",
    "    \n",
    "    \n",
    "    \n",
    "    \n",
    "    \n",
    "    \n",
    "print(\"Accuracy scores for each fold using pipe_logistic_model: \", accuracy_scores_KNN_half)\n",
    "print(\"Average accuracy using pipe_logistic_model: \", np.mean(accuracy_scores_KNN_half))\n",
    "print(\"F1 scores for each fold using pipe_logistic_model: \", f1_scores_KNN_half)\n",
    "print(\"Average F1 score using pipe_logistic_model: \", np.mean(f1_scores_KNN_half))\n",
    "print(\"model_score_test list  using pipe_logistic_model \" ,KNN_model_score_test_half )\n"
   ]
  },
  {
   "cell_type": "markdown",
   "id": "e6b072a0",
   "metadata": {
    "papermill": {
     "duration": 0.042697,
     "end_time": "2024-07-18T08:24:03.103267",
     "exception": false,
     "start_time": "2024-07-18T08:24:03.060570",
     "status": "completed"
    },
    "tags": []
   },
   "source": [
    "# Desision tree"
   ]
  },
  {
   "cell_type": "code",
   "execution_count": 58,
   "id": "4afe10e2",
   "metadata": {
    "execution": {
     "iopub.execute_input": "2024-07-18T08:24:03.186512Z",
     "iopub.status.busy": "2024-07-18T08:24:03.186116Z",
     "iopub.status.idle": "2024-07-18T08:24:05.009593Z",
     "shell.execute_reply": "2024-07-18T08:24:05.008026Z"
    },
    "papermill": {
     "duration": 1.869145,
     "end_time": "2024-07-18T08:24:05.012534",
     "exception": false,
     "start_time": "2024-07-18T08:24:03.143389",
     "status": "completed"
    },
    "tags": []
   },
   "outputs": [
    {
     "name": "stdout",
     "output_type": "stream",
     "text": [
      "Accuracy scores for each fold using pipe_logistic_model:  [0.7940625, 0.8115625, 0.7971875, 0.8078125, 0.8134375]\n",
      "Average accuracy using pipe_logistic_model:  0.8048125\n",
      "F1 scores for each fold using pipe_logistic_model:  [0.7961509336747539, 0.8139144344127652, 0.7988731716533295, 0.8071798425290915, 0.8112093995401628]\n",
      "Average F1 score using pipe_logistic_model:  0.8054655563620206\n",
      "model_score_test list  using pipe_logistic_model  [0.7940625, 0.8115625, 0.7971875, 0.8078125, 0.8134375]\n"
     ]
    }
   ],
   "source": [
    "from sklearn.tree import DecisionTreeClassifier\n",
    "\n",
    "decision_tree_half = Pipeline([ ('new_ct',new_ct),('DecisionTreeClassifier',DecisionTreeClassifier()) ])\n",
    "\n",
    "\n",
    "decision_tree_model_score_test_half=[]\n",
    "accuracy_scores_decision_tree_half = []\n",
    "f1_scores_decision_tree_half = []\n",
    "\n",
    "\n",
    "\n",
    "for train_index, test_index in data_split.split(xtrain_1, ytrain_1):\n",
    "    X_train, X_test = xtrain_1.iloc[train_index], xtrain_1.iloc[test_index]\n",
    "    y_train, y_test = ytrain_1.iloc[train_index], ytrain_1.iloc[test_index]\n",
    "    \n",
    "    decision_tree_half.fit(X_train, y_train)\n",
    "    \n",
    "    y_pred_decision_tree_half = decision_tree_half.predict(X_test)\n",
    "    \n",
    "    \n",
    "    model_score_decision_tree=decision_tree_half.score(X_test,y_test)\n",
    "    \n",
    "\n",
    "    accuracy_decision_tree = accuracy_score(y_test, y_pred_decision_tree_half)\n",
    "    \n",
    "    \n",
    "    f1_decision_tree = f1_score(y_test, y_pred_decision_tree_half, average='weighted')\n",
    "    \n",
    "    \n",
    "    accuracy_scores_decision_tree_half.append(accuracy_decision_tree)\n",
    "    \n",
    "    f1_scores_decision_tree_half.append(f1_decision_tree)\n",
    "    \n",
    "    decision_tree_model_score_test_half.append(model_score_decision_tree)\n",
    "    \n",
    "    \n",
    "    \n",
    "    \n",
    "    \n",
    "    \n",
    "    \n",
    "print(\"Accuracy scores for each fold using pipe_logistic_model: \", accuracy_scores_decision_tree_half)\n",
    "print(\"Average accuracy using pipe_logistic_model: \", np.mean(accuracy_scores_decision_tree_half))\n",
    "print(\"F1 scores for each fold using pipe_logistic_model: \", f1_scores_decision_tree_half)\n",
    "print(\"Average F1 score using pipe_logistic_model: \", np.mean(f1_scores_decision_tree_half))\n",
    "print(\"model_score_test list  using pipe_logistic_model \" ,decision_tree_model_score_test_half )"
   ]
  },
  {
   "cell_type": "code",
   "execution_count": 59,
   "id": "b82667e2",
   "metadata": {
    "execution": {
     "iopub.execute_input": "2024-07-18T08:24:05.095663Z",
     "iopub.status.busy": "2024-07-18T08:24:05.095259Z",
     "iopub.status.idle": "2024-07-18T08:24:07.137057Z",
     "shell.execute_reply": "2024-07-18T08:24:07.135999Z"
    },
    "papermill": {
     "duration": 2.086213,
     "end_time": "2024-07-18T08:24:07.139539",
     "exception": false,
     "start_time": "2024-07-18T08:24:05.053326",
     "status": "completed"
    },
    "tags": []
   },
   "outputs": [
    {
     "name": "stdout",
     "output_type": "stream",
     "text": [
      "Accuracy scores for each fold using pipe_logistic_model:  [0.80675, 0.802, 0.7925, 0.805, 0.80875]\n",
      "Average accuracy using pipe_logistic_model:  0.8030000000000002\n",
      "F1 scores for each fold using pipe_logistic_model:  [0.8065984689292234, 0.8037588154358026, 0.7937650297466317, 0.8049963417842557, 0.809118140266099]\n",
      "Average F1 score using pipe_logistic_model:  0.8036473592324025\n",
      "model_score_test list  using pipe_logistic_model  [0.80675, 0.802, 0.7925, 0.805, 0.80875]\n"
     ]
    }
   ],
   "source": [
    "from sklearn.tree import DecisionTreeClassifier\n",
    "from sklearn.pipeline import Pipeline\n",
    "\n",
    "decision_tree_full = Pipeline([ ('new_ct',new_ct),('DecisionTreeClassifier',DecisionTreeClassifier()) ])\n",
    "\n",
    "\n",
    "decision_tree_model_score_test_full=[]\n",
    "accuracy_scores_decision_tree_full = []\n",
    "f1_scores_decision_tree_full = []\n",
    "\n",
    "\n",
    "\n",
    "for train_index, test_index in data_split.split(new_train, new_train_y):\n",
    "    X_train, X_test = new_train.iloc[train_index], new_train.iloc[test_index]\n",
    "    y_train, y_test = new_train_y.iloc[train_index], new_train_y.iloc[test_index]\n",
    "    \n",
    "    decision_tree_full.fit(X_train, y_train)\n",
    "    \n",
    "    y_pred_decision_tree_full = decision_tree_full.predict(X_test)\n",
    "    \n",
    "    \n",
    "    model_score_decision_tree=decision_tree_full.score(X_test,y_test)\n",
    "    \n",
    "\n",
    "    accuracy_decision_tree = accuracy_score(y_test, y_pred_decision_tree_full)\n",
    "    \n",
    "    \n",
    "    f1_decision_tree = f1_score(y_test, y_pred_decision_tree_full, average='weighted')\n",
    "    \n",
    "    \n",
    "    accuracy_scores_decision_tree_full.append(accuracy_decision_tree)\n",
    "    \n",
    "    f1_scores_decision_tree_full.append(f1_decision_tree)\n",
    "    \n",
    "    decision_tree_model_score_test_full.append(model_score_decision_tree)\n",
    "    \n",
    "    \n",
    "    \n",
    "    \n",
    "print(\"Accuracy scores for each fold using pipe_logistic_model: \", accuracy_scores_decision_tree_full)\n",
    "print(\"Average accuracy using pipe_logistic_model: \", np.mean(accuracy_scores_decision_tree_full))\n",
    "print(\"F1 scores for each fold using pipe_logistic_model: \", f1_scores_decision_tree_full)\n",
    "print(\"Average F1 score using pipe_logistic_model: \", np.mean(f1_scores_decision_tree_full))\n",
    "print(\"model_score_test list  using pipe_logistic_model \" ,decision_tree_model_score_test_full )"
   ]
  },
  {
   "cell_type": "code",
   "execution_count": 60,
   "id": "bd759c5d",
   "metadata": {
    "execution": {
     "iopub.execute_input": "2024-07-18T08:24:07.220757Z",
     "iopub.status.busy": "2024-07-18T08:24:07.220378Z",
     "iopub.status.idle": "2024-07-18T08:24:07.224965Z",
     "shell.execute_reply": "2024-07-18T08:24:07.223815Z"
    },
    "papermill": {
     "duration": 0.047843,
     "end_time": "2024-07-18T08:24:07.227236",
     "exception": false,
     "start_time": "2024-07-18T08:24:07.179393",
     "status": "completed"
    },
    "tags": []
   },
   "outputs": [],
   "source": [
    "# df.info()"
   ]
  },
  {
   "cell_type": "code",
   "execution_count": 61,
   "id": "78e6eb43",
   "metadata": {
    "execution": {
     "iopub.execute_input": "2024-07-18T08:24:07.312039Z",
     "iopub.status.busy": "2024-07-18T08:24:07.311656Z",
     "iopub.status.idle": "2024-07-18T08:24:07.316399Z",
     "shell.execute_reply": "2024-07-18T08:24:07.315227Z"
    },
    "papermill": {
     "duration": 0.048531,
     "end_time": "2024-07-18T08:24:07.318619",
     "exception": false,
     "start_time": "2024-07-18T08:24:07.270088",
     "status": "completed"
    },
    "tags": []
   },
   "outputs": [],
   "source": [
    "# from sklearn.linear_model import LogisticRegression,LogisticRegressionCV\n",
    "# from sklearn.pipeline import Pipeline\n",
    "# from sklearn.compose import ColumnTransformer"
   ]
  },
  {
   "cell_type": "code",
   "execution_count": 62,
   "id": "6b3787b9",
   "metadata": {
    "execution": {
     "iopub.execute_input": "2024-07-18T08:24:07.401801Z",
     "iopub.status.busy": "2024-07-18T08:24:07.401425Z",
     "iopub.status.idle": "2024-07-18T08:24:07.406475Z",
     "shell.execute_reply": "2024-07-18T08:24:07.405415Z"
    },
    "papermill": {
     "duration": 0.0498,
     "end_time": "2024-07-18T08:24:07.408813",
     "exception": false,
     "start_time": "2024-07-18T08:24:07.359013",
     "status": "completed"
    },
    "tags": []
   },
   "outputs": [],
   "source": [
    "# from sklearn.base import BaseEstimator, TransformerMixin\n",
    "# from sklearn.preprocessing import MultiLabelBinarizer\n",
    "\n",
    "# class MultiLabelBinarizerWrapper(BaseEstimator, TransformerMixin):\n",
    "#     def __init__(self):\n",
    "#         self.mlb = MultiLabelBinarizer()\n",
    "\n",
    "#     def fit(self, X, y=None):\n",
    "#         self.mlb.fit(X)\n",
    "#         return self\n",
    "\n",
    "#     def transform(self, X):\n",
    "#         return self.mlb.transform(X)"
   ]
  },
  {
   "cell_type": "code",
   "execution_count": 63,
   "id": "5c281f87",
   "metadata": {
    "execution": {
     "iopub.execute_input": "2024-07-18T08:24:07.490896Z",
     "iopub.status.busy": "2024-07-18T08:24:07.490146Z",
     "iopub.status.idle": "2024-07-18T08:24:07.495564Z",
     "shell.execute_reply": "2024-07-18T08:24:07.494420Z"
    },
    "papermill": {
     "duration": 0.049459,
     "end_time": "2024-07-18T08:24:07.497979",
     "exception": false,
     "start_time": "2024-07-18T08:24:07.448520",
     "status": "completed"
    },
    "tags": []
   },
   "outputs": [],
   "source": [
    "\n",
    "# from sklearn.preprocessing import StandardScaler , OneHotEncoder  , MultiLabelBinarizer\n",
    "# from sklearn.feature_extraction.text import CountVectorizer\n",
    "# ct=ColumnTransformer(transformers=[\n",
    "    \n",
    "#     ('numerical_cols' , StandardScaler(),['Latitude','Longitude','reporting_delay_day_count','Victim_Age']),\n",
    "#     ('categorical_cols' , OneHotEncoder(handle_unknown='ignore'),['day_category','Victim_Sex','Victim_Descent','Part 1-2','Area_ID','Status','Weapon_Description']),\n",
    "#     ('multi_label_binarizer', MultiLabelBinarizerWrapper(), 'Modus_Operandi')\n",
    "# ])\n",
    "    "
   ]
  },
  {
   "cell_type": "code",
   "execution_count": 64,
   "id": "178f2b41",
   "metadata": {
    "execution": {
     "iopub.execute_input": "2024-07-18T08:24:07.582603Z",
     "iopub.status.busy": "2024-07-18T08:24:07.581806Z",
     "iopub.status.idle": "2024-07-18T08:24:07.586960Z",
     "shell.execute_reply": "2024-07-18T08:24:07.585840Z"
    },
    "papermill": {
     "duration": 0.049993,
     "end_time": "2024-07-18T08:24:07.589232",
     "exception": false,
     "start_time": "2024-07-18T08:24:07.539239",
     "status": "completed"
    },
    "tags": []
   },
   "outputs": [],
   "source": [
    "# len(df['Area_ID'].value_counts())"
   ]
  },
  {
   "cell_type": "code",
   "execution_count": 65,
   "id": "1aa34523",
   "metadata": {
    "execution": {
     "iopub.execute_input": "2024-07-18T08:24:07.671892Z",
     "iopub.status.busy": "2024-07-18T08:24:07.671510Z",
     "iopub.status.idle": "2024-07-18T08:24:07.676849Z",
     "shell.execute_reply": "2024-07-18T08:24:07.675348Z"
    },
    "papermill": {
     "duration": 0.049502,
     "end_time": "2024-07-18T08:24:07.679296",
     "exception": false,
     "start_time": "2024-07-18T08:24:07.629794",
     "status": "completed"
    },
    "tags": []
   },
   "outputs": [],
   "source": [
    "# pipe_logistic = Pipeline(steps=[('ct',ct),('logistic_reg',LogisticRegression(solver='saga',C=0.1,warm_start=True, max_iter=1500 ,random_state=42))])"
   ]
  },
  {
   "cell_type": "code",
   "execution_count": 66,
   "id": "784b104f",
   "metadata": {
    "execution": {
     "iopub.execute_input": "2024-07-18T08:24:07.761233Z",
     "iopub.status.busy": "2024-07-18T08:24:07.760855Z",
     "iopub.status.idle": "2024-07-18T08:24:07.766027Z",
     "shell.execute_reply": "2024-07-18T08:24:07.764850Z"
    },
    "papermill": {
     "duration": 0.048697,
     "end_time": "2024-07-18T08:24:07.768437",
     "exception": false,
     "start_time": "2024-07-18T08:24:07.719740",
     "status": "completed"
    },
    "tags": []
   },
   "outputs": [],
   "source": [
    "# pipe_logistic_sag = Pipeline(steps=[('ct',ct),('logistic_reg',LogisticRegressionCV(solver='sag',penalty='l2',multi_class='ovr', max_iter=2000 ,random_state=42))])\n",
    "\n",
    "# pipe_logistic_sag.fit(xtrain,ytrain)\n",
    "\n",
    "# pipe_logistic_sag.score(xtest,ytest)"
   ]
  },
  {
   "cell_type": "code",
   "execution_count": 67,
   "id": "91ddaf87",
   "metadata": {
    "execution": {
     "iopub.execute_input": "2024-07-18T08:24:07.850383Z",
     "iopub.status.busy": "2024-07-18T08:24:07.849946Z",
     "iopub.status.idle": "2024-07-18T08:24:07.855303Z",
     "shell.execute_reply": "2024-07-18T08:24:07.854256Z"
    },
    "papermill": {
     "duration": 0.049281,
     "end_time": "2024-07-18T08:24:07.857737",
     "exception": false,
     "start_time": "2024-07-18T08:24:07.808456",
     "status": "completed"
    },
    "tags": []
   },
   "outputs": [],
   "source": [
    "# pipe_logistic.fit(xtrain,ytrain)"
   ]
  },
  {
   "cell_type": "code",
   "execution_count": 68,
   "id": "c61cef57",
   "metadata": {
    "execution": {
     "iopub.execute_input": "2024-07-18T08:24:07.940926Z",
     "iopub.status.busy": "2024-07-18T08:24:07.940168Z",
     "iopub.status.idle": "2024-07-18T08:24:07.944697Z",
     "shell.execute_reply": "2024-07-18T08:24:07.943593Z"
    },
    "papermill": {
     "duration": 0.048011,
     "end_time": "2024-07-18T08:24:07.946998",
     "exception": false,
     "start_time": "2024-07-18T08:24:07.898987",
     "status": "completed"
    },
    "tags": []
   },
   "outputs": [],
   "source": [
    "# pipe_logistic.score(xtest,ytest)"
   ]
  },
  {
   "cell_type": "code",
   "execution_count": 69,
   "id": "fb7880b5",
   "metadata": {
    "execution": {
     "iopub.execute_input": "2024-07-18T08:24:08.030151Z",
     "iopub.status.busy": "2024-07-18T08:24:08.029778Z",
     "iopub.status.idle": "2024-07-18T08:24:08.034981Z",
     "shell.execute_reply": "2024-07-18T08:24:08.033917Z"
    },
    "papermill": {
     "duration": 0.049138,
     "end_time": "2024-07-18T08:24:08.037124",
     "exception": false,
     "start_time": "2024-07-18T08:24:07.987986",
     "status": "completed"
    },
    "tags": []
   },
   "outputs": [],
   "source": [
    "# from sklearn.metrics import make_scorer ,f1_score\n",
    "# logCV_scorer=make_scorer(f1_score , average='auto')\n",
    "# pipe_logistic_multiclass = Pipeline(steps=[('ct',ct),('logistic_reg',LogisticRegressionCV(cv=3,penalty='l2',solver='saga',multi_class='multinomial',Cs=[0.1, 0.5, 1] ,max_iter=3000 ,random_state=42))])\n",
    "\n",
    "# pipe_logistic_multiclass.fit(xtrain,ytrain)\n",
    "# pipe_logistic_multiclass.score(xtrain,ytrain)\n",
    "\n",
    "# pipe_logistic_multiclass.score(xtest,ytest)\n",
    "\n",
    "\n",
    "\n",
    "\n",
    "# # 0.81175\n"
   ]
  },
  {
   "cell_type": "code",
   "execution_count": 70,
   "id": "ae4ea779",
   "metadata": {
    "execution": {
     "iopub.execute_input": "2024-07-18T08:24:08.124722Z",
     "iopub.status.busy": "2024-07-18T08:24:08.123599Z",
     "iopub.status.idle": "2024-07-18T08:24:08.128518Z",
     "shell.execute_reply": "2024-07-18T08:24:08.127511Z"
    },
    "papermill": {
     "duration": 0.052167,
     "end_time": "2024-07-18T08:24:08.130727",
     "exception": false,
     "start_time": "2024-07-18T08:24:08.078560",
     "status": "completed"
    },
    "tags": []
   },
   "outputs": [],
   "source": [
    "# from sklearn.metrics import make_scorer ,f1_score\n",
    "# logCV_scorer=make_scorer(f1_score , average='auto')\n",
    "# pipe_logistic_ovr = Pipeline(steps=[('ct',ct),('logistic_reg',LogisticRegressionCV(cv=5,penalty='l2',solver='liblinear',multi_class='ovr',Cs=[0.1, 0.5, 1] ,max_iter=2400 ,random_state=42))])\n",
    "# pipe_logistic_ovr.fit(xtrain,ytrain)\n",
    "# pipe_logistic_ovr.score(xtest,ytest)\n",
    "\n",
    "\n",
    "\n",
    "\n",
    "\n",
    "\n",
    "# # 0.805"
   ]
  },
  {
   "cell_type": "code",
   "execution_count": 71,
   "id": "59083624",
   "metadata": {
    "execution": {
     "iopub.execute_input": "2024-07-18T08:24:08.214573Z",
     "iopub.status.busy": "2024-07-18T08:24:08.213992Z",
     "iopub.status.idle": "2024-07-18T08:24:08.219713Z",
     "shell.execute_reply": "2024-07-18T08:24:08.218523Z"
    },
    "papermill": {
     "duration": 0.050156,
     "end_time": "2024-07-18T08:24:08.222062",
     "exception": false,
     "start_time": "2024-07-18T08:24:08.171906",
     "status": "completed"
    },
    "tags": []
   },
   "outputs": [],
   "source": [
    "# from sklearn.model_selection import GridSearchCV\n",
    "# grid_logistic_estimator=Pipeline(steps=[('ct',ct),('logistic',LogisticRegression(random_state=42,penalty='l2',multi_class='multinomial' , max_iter=2500))])\n",
    "\n",
    "# param_grid_logistic={\n",
    "    \n",
    "#     'logistic__C':[0.01 , 0.1 , 1 , 10],\n",
    "    \n",
    "#     'logistic__solver':['sag', 'saga'],\n",
    "    \n",
    "# #     'logistic__penalty':['l2'] ,\n",
    "  \n",
    "# #     'logistic__max_iter' : [1000 , 1200 , 1500]\n",
    "# }\n",
    "\n",
    "# grid_logistic=GridSearchCV(grid_logistic_estimator, param_grid=param_grid_logistic , cv=5 ,n_jobs=-1)\n",
    "\n",
    "\n",
    "# grid_logistic.fit(xtrain , ytrain)\n",
    "\n",
    "\n",
    "\n",
    "# grid_logistic.score(xtest,ytest)\n",
    "\n",
    "\n",
    "\n",
    "# # 0.81225"
   ]
  },
  {
   "cell_type": "code",
   "execution_count": 72,
   "id": "f5a2651f",
   "metadata": {
    "execution": {
     "iopub.execute_input": "2024-07-18T08:24:08.306962Z",
     "iopub.status.busy": "2024-07-18T08:24:08.306454Z",
     "iopub.status.idle": "2024-07-18T08:24:08.311632Z",
     "shell.execute_reply": "2024-07-18T08:24:08.310457Z"
    },
    "papermill": {
     "duration": 0.049528,
     "end_time": "2024-07-18T08:24:08.314009",
     "exception": false,
     "start_time": "2024-07-18T08:24:08.264481",
     "status": "completed"
    },
    "tags": []
   },
   "outputs": [],
   "source": [
    "# grid_logistic.best_params_\n",
    "\n",
    "\n",
    "# # {'logistic__C': 10, 'logistic__solver': 'sag'}"
   ]
  },
  {
   "cell_type": "code",
   "execution_count": 73,
   "id": "5577e765",
   "metadata": {
    "execution": {
     "iopub.execute_input": "2024-07-18T08:24:08.396046Z",
     "iopub.status.busy": "2024-07-18T08:24:08.395670Z",
     "iopub.status.idle": "2024-07-18T08:24:08.400686Z",
     "shell.execute_reply": "2024-07-18T08:24:08.399399Z"
    },
    "papermill": {
     "duration": 0.048383,
     "end_time": "2024-07-18T08:24:08.403148",
     "exception": false,
     "start_time": "2024-07-18T08:24:08.354765",
     "status": "completed"
    },
    "tags": []
   },
   "outputs": [],
   "source": [
    "# xtrain.info()"
   ]
  },
  {
   "cell_type": "code",
   "execution_count": 74,
   "id": "b70419cc",
   "metadata": {
    "execution": {
     "iopub.execute_input": "2024-07-18T08:24:08.486509Z",
     "iopub.status.busy": "2024-07-18T08:24:08.486050Z",
     "iopub.status.idle": "2024-07-18T08:24:08.491163Z",
     "shell.execute_reply": "2024-07-18T08:24:08.489785Z"
    },
    "papermill": {
     "duration": 0.049999,
     "end_time": "2024-07-18T08:24:08.493795",
     "exception": false,
     "start_time": "2024-07-18T08:24:08.443796",
     "status": "completed"
    },
    "tags": []
   },
   "outputs": [],
   "source": [
    "# from sklearn.svm import SVC , NuSVC\n",
    "# pipe_svc=Pipeline(steps=[('ct',ct),('svc',SVC(decision_function_shape='ovr'))])"
   ]
  },
  {
   "cell_type": "code",
   "execution_count": 75,
   "id": "79dda8e3",
   "metadata": {
    "execution": {
     "iopub.execute_input": "2024-07-18T08:24:08.579021Z",
     "iopub.status.busy": "2024-07-18T08:24:08.578170Z",
     "iopub.status.idle": "2024-07-18T08:24:08.582914Z",
     "shell.execute_reply": "2024-07-18T08:24:08.581719Z"
    },
    "papermill": {
     "duration": 0.050187,
     "end_time": "2024-07-18T08:24:08.585388",
     "exception": false,
     "start_time": "2024-07-18T08:24:08.535201",
     "status": "completed"
    },
    "tags": []
   },
   "outputs": [],
   "source": [
    "# pipe_svc.fit(xtrain,ytrain)"
   ]
  },
  {
   "cell_type": "code",
   "execution_count": 76,
   "id": "8cc1a412",
   "metadata": {
    "execution": {
     "iopub.execute_input": "2024-07-18T08:24:08.669401Z",
     "iopub.status.busy": "2024-07-18T08:24:08.668965Z",
     "iopub.status.idle": "2024-07-18T08:24:08.673837Z",
     "shell.execute_reply": "2024-07-18T08:24:08.672657Z"
    },
    "papermill": {
     "duration": 0.050313,
     "end_time": "2024-07-18T08:24:08.676120",
     "exception": false,
     "start_time": "2024-07-18T08:24:08.625807",
     "status": "completed"
    },
    "tags": []
   },
   "outputs": [],
   "source": [
    "# pipe_svc.score(xtrain,ytrain)"
   ]
  },
  {
   "cell_type": "code",
   "execution_count": 77,
   "id": "a05051f8",
   "metadata": {
    "execution": {
     "iopub.execute_input": "2024-07-18T08:24:08.757787Z",
     "iopub.status.busy": "2024-07-18T08:24:08.757375Z",
     "iopub.status.idle": "2024-07-18T08:24:08.762062Z",
     "shell.execute_reply": "2024-07-18T08:24:08.760867Z"
    },
    "papermill": {
     "duration": 0.048538,
     "end_time": "2024-07-18T08:24:08.764551",
     "exception": false,
     "start_time": "2024-07-18T08:24:08.716013",
     "status": "completed"
    },
    "tags": []
   },
   "outputs": [],
   "source": [
    "# pipe_svc.score(xtest,ytest)"
   ]
  },
  {
   "cell_type": "markdown",
   "id": "7c99cc8f",
   "metadata": {
    "papermill": {
     "duration": 0.040208,
     "end_time": "2024-07-18T08:24:08.845803",
     "exception": false,
     "start_time": "2024-07-18T08:24:08.805595",
     "status": "completed"
    },
    "tags": []
   },
   "source": [
    "svc hpt"
   ]
  },
  {
   "cell_type": "code",
   "execution_count": 78,
   "id": "b00ebb6c",
   "metadata": {
    "execution": {
     "iopub.execute_input": "2024-07-18T08:24:08.929066Z",
     "iopub.status.busy": "2024-07-18T08:24:08.928262Z",
     "iopub.status.idle": "2024-07-18T08:24:08.933544Z",
     "shell.execute_reply": "2024-07-18T08:24:08.932391Z"
    },
    "papermill": {
     "duration": 0.049739,
     "end_time": "2024-07-18T08:24:08.935956",
     "exception": false,
     "start_time": "2024-07-18T08:24:08.886217",
     "status": "completed"
    },
    "tags": []
   },
   "outputs": [],
   "source": [
    "# from sklearn.model_selection import RandomizedSearchCV\n",
    "# from sklearn.model_selection import StratifiedKFold\n",
    "\n",
    "\n",
    "# svc_param = {\n",
    "#     'svc__kernel': ['linear', 'rbf', 'poly'] ,\n",
    "#     'svc__gamma':['scale', 'auto'],\n",
    "#     'svc__C':  [0.01,0.1,1,10,100]   \n",
    "# }\n",
    "\n",
    "# svc_cv = StratifiedKFold(n_splits=5, shuffle=True, random_state=42)\n",
    "\n",
    "# svc_random_search = RandomizedSearchCV(estimator=pipe_svc, param_distributions=svc_param, cv=svc_cv,n_iter=5, n_jobs=-1, verbose=2, random_state=42)\n",
    "\n",
    "# svc_random_search.fit(xtrain , ytrain)\n",
    "\n",
    "\n"
   ]
  },
  {
   "cell_type": "code",
   "execution_count": 79,
   "id": "2795bbf7",
   "metadata": {
    "execution": {
     "iopub.execute_input": "2024-07-18T08:24:09.018797Z",
     "iopub.status.busy": "2024-07-18T08:24:09.018392Z",
     "iopub.status.idle": "2024-07-18T08:24:09.022970Z",
     "shell.execute_reply": "2024-07-18T08:24:09.021899Z"
    },
    "papermill": {
     "duration": 0.048353,
     "end_time": "2024-07-18T08:24:09.025256",
     "exception": false,
     "start_time": "2024-07-18T08:24:08.976903",
     "status": "completed"
    },
    "tags": []
   },
   "outputs": [],
   "source": [
    "# print('train score',svc_random_search.score(xtrain , ytrain))\n",
    "# print('test score',svc_random_search.score(xtest , ytest))\n"
   ]
  },
  {
   "cell_type": "code",
   "execution_count": 80,
   "id": "04a7641c",
   "metadata": {
    "execution": {
     "iopub.execute_input": "2024-07-18T08:24:09.108208Z",
     "iopub.status.busy": "2024-07-18T08:24:09.107832Z",
     "iopub.status.idle": "2024-07-18T08:24:09.112617Z",
     "shell.execute_reply": "2024-07-18T08:24:09.111404Z"
    },
    "papermill": {
     "duration": 0.049064,
     "end_time": "2024-07-18T08:24:09.114967",
     "exception": false,
     "start_time": "2024-07-18T08:24:09.065903",
     "status": "completed"
    },
    "tags": []
   },
   "outputs": [],
   "source": [
    "# xtrain.info()"
   ]
  },
  {
   "cell_type": "code",
   "execution_count": 81,
   "id": "d4ae2781",
   "metadata": {
    "execution": {
     "iopub.execute_input": "2024-07-18T08:24:09.199967Z",
     "iopub.status.busy": "2024-07-18T08:24:09.198907Z",
     "iopub.status.idle": "2024-07-18T08:24:09.203861Z",
     "shell.execute_reply": "2024-07-18T08:24:09.202560Z"
    },
    "papermill": {
     "duration": 0.049436,
     "end_time": "2024-07-18T08:24:09.206298",
     "exception": false,
     "start_time": "2024-07-18T08:24:09.156862",
     "status": "completed"
    },
    "tags": []
   },
   "outputs": [],
   "source": [
    "# df.shape"
   ]
  },
  {
   "cell_type": "code",
   "execution_count": 82,
   "id": "31509ea2",
   "metadata": {
    "execution": {
     "iopub.execute_input": "2024-07-18T08:24:09.290796Z",
     "iopub.status.busy": "2024-07-18T08:24:09.290018Z",
     "iopub.status.idle": "2024-07-18T08:24:09.294693Z",
     "shell.execute_reply": "2024-07-18T08:24:09.293517Z"
    },
    "papermill": {
     "duration": 0.048954,
     "end_time": "2024-07-18T08:24:09.296998",
     "exception": false,
     "start_time": "2024-07-18T08:24:09.248044",
     "status": "completed"
    },
    "tags": []
   },
   "outputs": [],
   "source": [
    "# test.shape"
   ]
  },
  {
   "cell_type": "code",
   "execution_count": 83,
   "id": "57d7fe19",
   "metadata": {
    "execution": {
     "iopub.execute_input": "2024-07-18T08:24:09.379039Z",
     "iopub.status.busy": "2024-07-18T08:24:09.378656Z",
     "iopub.status.idle": "2024-07-18T08:24:09.383543Z",
     "shell.execute_reply": "2024-07-18T08:24:09.382366Z"
    },
    "papermill": {
     "duration": 0.048762,
     "end_time": "2024-07-18T08:24:09.386143",
     "exception": false,
     "start_time": "2024-07-18T08:24:09.337381",
     "status": "completed"
    },
    "tags": []
   },
   "outputs": [],
   "source": [
    "# df.info()"
   ]
  },
  {
   "cell_type": "code",
   "execution_count": 84,
   "id": "88c19b7b",
   "metadata": {
    "execution": {
     "iopub.execute_input": "2024-07-18T08:24:09.469424Z",
     "iopub.status.busy": "2024-07-18T08:24:09.469001Z",
     "iopub.status.idle": "2024-07-18T08:24:09.474032Z",
     "shell.execute_reply": "2024-07-18T08:24:09.472781Z"
    },
    "papermill": {
     "duration": 0.049332,
     "end_time": "2024-07-18T08:24:09.476502",
     "exception": false,
     "start_time": "2024-07-18T08:24:09.427170",
     "status": "completed"
    },
    "tags": []
   },
   "outputs": [],
   "source": [
    "# from sklearn.linear_model import Perceptron\n",
    "\n",
    "# pipe_percep=Pipeline(steps=[('ct',ct),('perceptron',Perceptron())])\n",
    "\n",
    "# pipe_percep.fit(xtrain,ytrain)\n",
    "\n",
    "# pipe_percep.score(xtest,ytest)"
   ]
  },
  {
   "cell_type": "markdown",
   "id": "5d41e013",
   "metadata": {
    "papermill": {
     "duration": 0.039757,
     "end_time": "2024-07-18T08:24:09.556836",
     "exception": false,
     "start_time": "2024-07-18T08:24:09.517079",
     "status": "completed"
    },
    "tags": []
   },
   "source": [
    "KNN"
   ]
  },
  {
   "cell_type": "markdown",
   "id": "7f4edaf8",
   "metadata": {
    "papermill": {
     "duration": 0.04045,
     "end_time": "2024-07-18T08:24:09.639428",
     "exception": false,
     "start_time": "2024-07-18T08:24:09.598978",
     "status": "completed"
    },
    "tags": []
   },
   "source": [
    "KNN Grid"
   ]
  },
  {
   "cell_type": "code",
   "execution_count": 85,
   "id": "e569520b",
   "metadata": {
    "execution": {
     "iopub.execute_input": "2024-07-18T08:24:09.721549Z",
     "iopub.status.busy": "2024-07-18T08:24:09.721154Z",
     "iopub.status.idle": "2024-07-18T08:24:09.726362Z",
     "shell.execute_reply": "2024-07-18T08:24:09.725218Z"
    },
    "papermill": {
     "duration": 0.049148,
     "end_time": "2024-07-18T08:24:09.728887",
     "exception": false,
     "start_time": "2024-07-18T08:24:09.679739",
     "status": "completed"
    },
    "tags": []
   },
   "outputs": [],
   "source": [
    "# from sklearn.neighbors import KNeighborsClassifier\n",
    "\n",
    "# #45  33-8077   29-81  28  27  20  16  14 12 10\n",
    "# kn_classifier=Pipeline(steps=[('ct' , ct ),( 'knn' ,KNeighborsClassifier(n_neighbors=9))])\n",
    "\n",
    "\n",
    "# kn_classifier.fit(xtrain , ytrain)\n",
    "\n",
    "\n",
    "# ypred_kn_classifier=kn_classifier.predict(xtest)\n",
    "\n",
    "\n",
    "\n",
    "# print(\"Train score = \",kn_classifier.score(xtrain,ytrain))\n",
    "# print(\"Test score = \",kn_classifier.score(xtest,ytest))\n",
    "\n",
    "# print('---------------------------------------------------------')\n",
    "# print(classification_report(ytest,ypred_kn_classifier))\n",
    "\n",
    "# print('---------------------------------------------------------')\n",
    "\n",
    "# print(ConfusionMatrixDisplay.from_estimator(kn_classifier , xtest , ytest ,xticks_rotation='vertical'))\n"
   ]
  },
  {
   "cell_type": "code",
   "execution_count": 86,
   "id": "62a370d0",
   "metadata": {
    "execution": {
     "iopub.execute_input": "2024-07-18T08:24:09.811454Z",
     "iopub.status.busy": "2024-07-18T08:24:09.810945Z",
     "iopub.status.idle": "2024-07-18T08:24:09.817872Z",
     "shell.execute_reply": "2024-07-18T08:24:09.816699Z"
    },
    "papermill": {
     "duration": 0.051026,
     "end_time": "2024-07-18T08:24:09.820273",
     "exception": false,
     "start_time": "2024-07-18T08:24:09.769247",
     "status": "completed"
    },
    "tags": []
   },
   "outputs": [],
   "source": [
    "import time\n",
    "start_time = time.time()\n",
    "# from sklearn.metrics import pairwise_distances\n",
    "from sklearn.model_selection import  RepeatedStratifiedKFold ,GridSearchCV ,RandomizedSearchCV\n",
    "\n",
    "from sklearn.decomposition import PCA\n",
    "\n",
    "\n",
    "\n",
    "# knn_param_grid= {\n",
    "    \n",
    "#     \"knn__n_neighbors\":[9,12,16 ,20],\n",
    "    \n",
    "#     \"knn__weights\":['uniform','distance'],\n",
    "    \n",
    "# #     'knn__algorithm':['ball_tree','kd_tree'],\n",
    "    \n",
    "#     'knn__leaf_size':[19,20,30,25],\n",
    "#     'knn__p':[1,2]\n",
    "# #     'knn__metric':['euclidean','manhattan'] \n",
    "# }\n",
    "\n",
    "\n",
    "# kn_classifier_grid_est=Pipeline(steps=[('ct' , ct ),( 'knn' ,KNeighborsClassifier())])\n",
    "\n",
    "# cv=RepeatedStratifiedKFold(n_splits=5 , n_repeats = 4 , random_state=42)\n",
    "\n",
    "# # kn_classifier_grid = GridSearchCV(kn_classifier_grid_est, param_grid=knn_param_grid , n_jobs=-1 , cv=cv , scoring='accuracy' , error_score=0)\n",
    "# kn_classifier_Randomgrid = RandomizedSearchCV(kn_classifier_grid_est, param_distributions=knn_param_grid , n_jobs=-1 , cv=cv , scoring='accuracy' , error_score=0)\n",
    "\n",
    "# # kn_classifier_grid.fit(xtrain , ytrain)\n",
    "# kn_classifier_Randomgrid.fit(xtrain , ytrain)\n",
    "\n",
    "# kn_classifier_Randomgrid.score(xtrain,ytrain)\n",
    "# kn_classifier_Randomgrid.score(xtest,ytest)\n",
    "\n",
    "# end_time = time.time()\n",
    "# print(\"elapsed_time = \",(end_time - start_time)//60)\n",
    "\n",
    "\n",
    "\n",
    "\n",
    "\n",
    "\n",
    "\n",
    "\n",
    "\n",
    "\n"
   ]
  },
  {
   "cell_type": "code",
   "execution_count": 87,
   "id": "b173dc4e",
   "metadata": {
    "execution": {
     "iopub.execute_input": "2024-07-18T08:24:09.903198Z",
     "iopub.status.busy": "2024-07-18T08:24:09.902805Z",
     "iopub.status.idle": "2024-07-18T08:24:09.907958Z",
     "shell.execute_reply": "2024-07-18T08:24:09.906925Z"
    },
    "papermill": {
     "duration": 0.049225,
     "end_time": "2024-07-18T08:24:09.910193",
     "exception": false,
     "start_time": "2024-07-18T08:24:09.860968",
     "status": "completed"
    },
    "tags": []
   },
   "outputs": [],
   "source": [
    "# kn_classifier_grid = GridSearchCV(kn_classifier_grid_est, param_grid=knn_param_grid , n_jobs=-1 , cv=cv , scoring='accuracy' , error_score=0)\n",
    "# kn_classifier_grid.fit(xtrain , ytrain)\n"
   ]
  },
  {
   "cell_type": "code",
   "execution_count": 88,
   "id": "daa959c8",
   "metadata": {
    "execution": {
     "iopub.execute_input": "2024-07-18T08:24:09.995169Z",
     "iopub.status.busy": "2024-07-18T08:24:09.994238Z",
     "iopub.status.idle": "2024-07-18T08:24:09.999752Z",
     "shell.execute_reply": "2024-07-18T08:24:09.998551Z"
    },
    "papermill": {
     "duration": 0.050569,
     "end_time": "2024-07-18T08:24:10.002146",
     "exception": false,
     "start_time": "2024-07-18T08:24:09.951577",
     "status": "completed"
    },
    "tags": []
   },
   "outputs": [],
   "source": [
    "   #n= 16\n",
    "# kn_classifier_tuned=Pipeline(steps=[('ct' , ct ),( 'knn' ,KNeighborsClassifier(n_neighbors=19 , p=1,leaf_size=19 ,weights='distance'))])\n",
    "\n",
    "\n",
    "# kn_classifier_tuned.fit(xtrain , ytrain)\n",
    "\n",
    "\n",
    "# ypred_kn_classifier_tuned=kn_classifier_tuned.predict(xtest)\n",
    "\n",
    "\n",
    "\n",
    "# print(\"Train score = \",kn_classifier_tuned.score(xtrain,ytrain))\n",
    "# print(\"Test score = \",kn_classifier_tuned.score(xtest,ytest))\n",
    "\n",
    "# print('---------------------------------------------------------')\n",
    "# print(classification_report(ytest,ypred_kn_classifier_tuned))\n",
    "\n",
    "# print('---------------------------------------------------------')\n",
    "\n",
    "# print(ConfusionMatrixDisplay.from_estimator(kn_classifier_tuned , xtest , ytest ,xticks_rotation='vertical'))\n"
   ]
  },
  {
   "cell_type": "markdown",
   "id": "09e6cc4a",
   "metadata": {
    "papermill": {
     "duration": 0.041401,
     "end_time": "2024-07-18T08:24:10.085106",
     "exception": false,
     "start_time": "2024-07-18T08:24:10.043705",
     "status": "completed"
    },
    "tags": []
   },
   "source": [
    "# TEST FINAL"
   ]
  },
  {
   "cell_type": "markdown",
   "id": "db3aab65",
   "metadata": {
    "papermill": {
     "duration": 0.041949,
     "end_time": "2024-07-18T08:24:10.167391",
     "exception": false,
     "start_time": "2024-07-18T08:24:10.125442",
     "status": "completed"
    },
    "tags": []
   },
   "source": [
    "# Loading the test_final data"
   ]
  },
  {
   "cell_type": "code",
   "execution_count": 89,
   "id": "25d89e19",
   "metadata": {
    "execution": {
     "iopub.execute_input": "2024-07-18T08:24:10.252001Z",
     "iopub.status.busy": "2024-07-18T08:24:10.251587Z",
     "iopub.status.idle": "2024-07-18T08:24:10.282428Z",
     "shell.execute_reply": "2024-07-18T08:24:10.281359Z"
    },
    "papermill": {
     "duration": 0.075274,
     "end_time": "2024-07-18T08:24:10.285086",
     "exception": false,
     "start_time": "2024-07-18T08:24:10.209812",
     "status": "completed"
    },
    "tags": []
   },
   "outputs": [],
   "source": [
    "test_final=pd.read_csv('/kaggle/input/crime-cast-forecasting-crime-categories/test.csv')"
   ]
  },
  {
   "cell_type": "markdown",
   "id": "c0fa8f88",
   "metadata": {
    "papermill": {
     "duration": 0.040119,
     "end_time": "2024-07-18T08:24:10.365759",
     "exception": false,
     "start_time": "2024-07-18T08:24:10.325640",
     "status": "completed"
    },
    "tags": []
   },
   "source": [
    "# Converting time into day category"
   ]
  },
  {
   "cell_type": "code",
   "execution_count": 90,
   "id": "cff42655",
   "metadata": {
    "execution": {
     "iopub.execute_input": "2024-07-18T08:24:10.448335Z",
     "iopub.status.busy": "2024-07-18T08:24:10.447893Z",
     "iopub.status.idle": "2024-07-18T08:24:10.456834Z",
     "shell.execute_reply": "2024-07-18T08:24:10.455657Z"
    },
    "papermill": {
     "duration": 0.053032,
     "end_time": "2024-07-18T08:24:10.459270",
     "exception": false,
     "start_time": "2024-07-18T08:24:10.406238",
     "status": "completed"
    },
    "tags": []
   },
   "outputs": [],
   "source": [
    "test_final['day_category']=test_final.loc[:,'Time_Occurred'].apply(day_category )"
   ]
  },
  {
   "cell_type": "markdown",
   "id": "2f8ed208",
   "metadata": {
    "papermill": {
     "duration": 0.040827,
     "end_time": "2024-07-18T08:24:10.543560",
     "exception": false,
     "start_time": "2024-07-18T08:24:10.502733",
     "status": "completed"
    },
    "tags": []
   },
   "source": [
    "# Extracting the date features"
   ]
  },
  {
   "cell_type": "code",
   "execution_count": 91,
   "id": "8c9ac862",
   "metadata": {
    "execution": {
     "iopub.execute_input": "2024-07-18T08:24:10.628586Z",
     "iopub.status.busy": "2024-07-18T08:24:10.628152Z",
     "iopub.status.idle": "2024-07-18T08:24:15.402528Z",
     "shell.execute_reply": "2024-07-18T08:24:15.401207Z"
    },
    "papermill": {
     "duration": 4.818735,
     "end_time": "2024-07-18T08:24:15.405242",
     "exception": false,
     "start_time": "2024-07-18T08:24:10.586507",
     "status": "completed"
    },
    "tags": []
   },
   "outputs": [],
   "source": [
    "\n",
    "\n",
    "# Extracting the dates\n",
    "test_final.loc[:,'Date_Reported']=test_final.loc[:,'Date_Reported'].apply(extract_date)\n",
    "test_final.loc[:,'Date_Occurred']=test_final.loc[:,'Date_Occurred'].apply(extract_date)\n",
    "\n",
    "\n",
    "\n",
    "\n",
    "# converitng into date\n",
    "\n",
    "test_final['Date_Reported']=pd.to_datetime(test_final['Date_Reported']).dt.date\n",
    "test_final['Date_Occurred']=pd.to_datetime(test_final['Date_Occurred']).dt.date\n",
    "\n",
    "\n",
    "#             extracting the reporting delay days count\n",
    "\n",
    "test_final['reporting_delay_day_count']=(test_final['Date_Reported']-test_final['Date_Occurred'])\n",
    "\n",
    "\n",
    "\n",
    "\n",
    "# countign the days\n",
    "\n",
    "def day_count(d):\n",
    "    return d.days\n",
    "test_final.loc[:,'reporting_delay_day_count']=test_final.loc[:,'reporting_delay_day_count'].apply(day_count)\n",
    "\n",
    "\n",
    "\n",
    "\n",
    "test_final.loc[:,'reporting_delay_day_count']=test_final.loc[:,'reporting_delay_day_count'].apply(lambda x : int(x))\n",
    "\n",
    "# def victim_gender(val):\n",
    "#     if val=='H' or pd.isna(val):\n",
    "#         val='X'\n",
    "#     return val\n",
    "\n",
    "\n",
    "# test_final.loc[:,'Victim_Sex'] = test_final.alignloc[:,'Victim_Sex'].apply(victim_gender)\n",
    "\n",
    "\n",
    "\n",
    "\n",
    "\n",
    "# unique_values_weapon_test=pd.DataFrame(test_final['Weapon_Description'])\n",
    "# unique_values_weapon_test.value_counts(normalize=True)\n",
    "\n",
    "\n",
    "\n",
    "\n",
    "\n",
    "\n",
    "\n",
    "# distribution_test = test_final['Weapon_Description'].dropna().value_counts(normalize=True)\n",
    "\n",
    "# missing_test = test_final['Weapon_Description'].isnull().sum()\n",
    "\n",
    "# imputed_values_test = np.random.choice(distribution_test.index, size=missing_test, p=distribution_test.values)\n",
    "\n",
    "# # Impute the missing values\n",
    "# test_final.loc[test_final['Weapon_Description'].isnull(), 'Weapon_Description'] = imputed_values_test\n",
    "\n"
   ]
  },
  {
   "cell_type": "markdown",
   "id": "a0857570",
   "metadata": {
    "papermill": {
     "duration": 0.04014,
     "end_time": "2024-07-18T08:24:15.487207",
     "exception": false,
     "start_time": "2024-07-18T08:24:15.447067",
     "status": "completed"
    },
    "tags": []
   },
   "source": [
    "# Handling the gender column"
   ]
  },
  {
   "cell_type": "code",
   "execution_count": 92,
   "id": "e38c1450",
   "metadata": {
    "execution": {
     "iopub.execute_input": "2024-07-18T08:24:15.572794Z",
     "iopub.status.busy": "2024-07-18T08:24:15.572416Z",
     "iopub.status.idle": "2024-07-18T08:24:15.593036Z",
     "shell.execute_reply": "2024-07-18T08:24:15.590892Z"
    },
    "papermill": {
     "duration": 0.065544,
     "end_time": "2024-07-18T08:24:15.595837",
     "exception": false,
     "start_time": "2024-07-18T08:24:15.530293",
     "status": "completed"
    },
    "tags": []
   },
   "outputs": [
    {
     "name": "stdout",
     "output_type": "stream",
     "text": [
      "Unique values of victim sex are ['F' 'M' nan 'X' 'H']\n",
      "---------------------------------------------------------------\n",
      "\n",
      "\n",
      "Value counts are\n",
      "Victim_Sex\n",
      "M    2121\n",
      "F    1840\n",
      "X     395\n",
      "H       1\n",
      "Name: count, dtype: int64\n",
      "\n",
      "\n",
      "---------------------------------------------------------------\n",
      "Number of null values are 643\n",
      "\n",
      "\n",
      "---------------------------------------------------------------\n",
      "Number of null values after imputing are 0\n",
      "---------------------------------------------------------------\n",
      "\n",
      "\n"
     ]
    }
   ],
   "source": [
    "# print(\"Number of null values are\" , test_final['Victim_Sex'].isnull().sum())\n",
    "\n",
    "# def victim_gender(val):\n",
    "#     if val=='H' or pd.isna(val):\n",
    "#         val='X'\n",
    "#     return val\n",
    "\n",
    "\n",
    "# distribution_gender = test_final['Victim_Sex'].dropna().value_counts(normalize=True)\n",
    "\n",
    "# missing_gender = test_final['Victim_Sex'].isna().sum()\n",
    "\n",
    "# imputed_values_gender = np.random.choice(distribution_gender.index, size=missing_gender, p=distribution_gender.values)\n",
    "\n",
    "\n",
    "# test_final.loc[test_final['Victim_Sex'].isna(), 'Victim_Sex'] = imputed_values_gender\n",
    "\n",
    "\n",
    "\n",
    "# test_final.loc[:,'Victim_Sex'] = test_final.loc[:,'Victim_Sex'].apply(victim_gender)\n",
    "\n",
    "\n",
    "print(\"Unique values of victim sex are\",test_final['Victim_Sex'].unique())\n",
    "\n",
    "print('---------------------------------------------------------------')\n",
    "\n",
    "\n",
    "print('')\n",
    "print('')\n",
    "\n",
    "print('Value counts are')\n",
    "print(test_final['Victim_Sex'].value_counts())\n",
    "\n",
    "print('')\n",
    "print('')\n",
    "print('---------------------------------------------------------------')\n",
    "\n",
    "\n",
    "\n",
    "print(\"Number of null values are\" , test_final['Victim_Sex'].isnull().sum())\n",
    "\n",
    "\n",
    "\n",
    "\n",
    "\n",
    "distribution_gender_test = test_final['Victim_Sex'].dropna().value_counts(normalize=True)\n",
    "\n",
    "missing_gender_test = test_final['Victim_Sex'].isna().sum()\n",
    "\n",
    "imputed_values_gender_test = np.random.choice(distribution_gender_test.index, size=missing_gender_test, p=distribution_gender_test.values)\n",
    "\n",
    "\n",
    "test_final.loc[test_final['Victim_Sex'].isna(), 'Victim_Sex'] = imputed_values_gender_test\n",
    "\n",
    "\n",
    "\n",
    "print('')\n",
    "print('')\n",
    "\n",
    "print('---------------------------------------------------------------')\n",
    "\n",
    "print(\"Number of null values after imputing are\" , test_final['Victim_Sex'].isnull().sum())\n",
    "\n",
    "test_final.loc[:,'Victim_Sex']=test_final.loc[:,'Victim_Sex'].replace('H','X')\n",
    "\n",
    "\n",
    "print('---------------------------------------------------------------')\n",
    "print('')\n",
    "print('')\n",
    "\n"
   ]
  },
  {
   "cell_type": "markdown",
   "id": "5c5ba08b",
   "metadata": {
    "papermill": {
     "duration": 0.040784,
     "end_time": "2024-07-18T08:24:15.676910",
     "exception": false,
     "start_time": "2024-07-18T08:24:15.636126",
     "status": "completed"
    },
    "tags": []
   },
   "source": [
    " # Weapon_Description"
   ]
  },
  {
   "cell_type": "code",
   "execution_count": 93,
   "id": "e873c433",
   "metadata": {
    "execution": {
     "iopub.execute_input": "2024-07-18T08:24:15.761605Z",
     "iopub.status.busy": "2024-07-18T08:24:15.760772Z",
     "iopub.status.idle": "2024-07-18T08:24:15.780003Z",
     "shell.execute_reply": "2024-07-18T08:24:15.778833Z"
    },
    "papermill": {
     "duration": 0.06431,
     "end_time": "2024-07-18T08:24:15.782781",
     "exception": false,
     "start_time": "2024-07-18T08:24:15.718471",
     "status": "completed"
    },
    "tags": []
   },
   "outputs": [],
   "source": [
    "test_final.loc[train['Weapon_Description'] == 'STRONG-ARM (HANDS, FIST, FEET OR BODILY FORCE)', 'Weapon_Description'] = 'Physical Force'\n",
    "\n",
    "\n",
    "test_final.loc[:,'Weapon_Description']=test_final['Weapon_Description'].apply(lambda x: gun(x))\n",
    "\n",
    "# unique_values_weapon_test=pd.DataFrame(test_final['Weapon_Description'])\n",
    "# unique_values_weapon_test.value_counts(normalize=True)\n",
    "\n",
    "# distribution_test = test_final['Weapon_Description'].dropna().value_counts(normalize=True)\n",
    "\n",
    "# missing_test = test_final['Weapon_Description'].isnull().sum()\n",
    "\n",
    "# imputed_values_test = np.random.choice(distribution_test.index, size=missing_test, p=distribution_test.values)\n",
    "\n",
    "# # Impute the missing values\n",
    "# test_final.loc[test_final['Weapon_Description'].isnull(), 'Weapon_Description'] = imputed_values_test\n",
    "\n"
   ]
  },
  {
   "cell_type": "code",
   "execution_count": 94,
   "id": "89190b55",
   "metadata": {
    "execution": {
     "iopub.execute_input": "2024-07-18T08:24:15.866048Z",
     "iopub.status.busy": "2024-07-18T08:24:15.865646Z",
     "iopub.status.idle": "2024-07-18T08:24:15.875817Z",
     "shell.execute_reply": "2024-07-18T08:24:15.874693Z"
    },
    "papermill": {
     "duration": 0.054318,
     "end_time": "2024-07-18T08:24:15.877987",
     "exception": false,
     "start_time": "2024-07-18T08:24:15.823669",
     "status": "completed"
    },
    "tags": []
   },
   "outputs": [
    {
     "name": "stdout",
     "output_type": "stream",
     "text": [
      "Number of unqiue values are\n"
     ]
    },
    {
     "data": {
      "text/plain": [
       "Weapon_Description\n",
       "NA                    3153\n",
       "Physical Force        1007\n",
       "sharp_heavy_object     431\n",
       "other_weapon           170\n",
       "Gun                    167\n",
       "fire                    44\n",
       "VEHICLE                 28\n",
       "Name: count, dtype: int64"
      ]
     },
     "execution_count": 94,
     "metadata": {},
     "output_type": "execute_result"
    }
   ],
   "source": [
    "test_final\n",
    "\n",
    "print('Number of unqiue values are')\n",
    "test_final['Weapon_Description'].value_counts()"
   ]
  },
  {
   "cell_type": "code",
   "execution_count": 95,
   "id": "d697a9dc",
   "metadata": {
    "execution": {
     "iopub.execute_input": "2024-07-18T08:24:15.962935Z",
     "iopub.status.busy": "2024-07-18T08:24:15.962435Z",
     "iopub.status.idle": "2024-07-18T08:24:15.976362Z",
     "shell.execute_reply": "2024-07-18T08:24:15.975267Z"
    },
    "papermill": {
     "duration": 0.059498,
     "end_time": "2024-07-18T08:24:15.979029",
     "exception": false,
     "start_time": "2024-07-18T08:24:15.919531",
     "status": "completed"
    },
    "tags": []
   },
   "outputs": [],
   "source": [
    "distribution_test = test_final['Weapon_Description'][test_final['Weapon_Description'] != 'NA'].value_counts(normalize=True)\n",
    "\n",
    "missing_test = test_final[test_final['Weapon_Description']=='NA']['Weapon_Description'].count()\n",
    "\n",
    "imputed_values_test = np.random.choice(distribution_test.index, size=missing_test, p=distribution_test.values)\n",
    "\n",
    "\n",
    "test_final.loc[test_final['Weapon_Description']=='NA', 'Weapon_Description'] = imputed_values_test"
   ]
  },
  {
   "cell_type": "code",
   "execution_count": 96,
   "id": "4ccaf258",
   "metadata": {
    "execution": {
     "iopub.execute_input": "2024-07-18T08:24:16.066069Z",
     "iopub.status.busy": "2024-07-18T08:24:16.065706Z",
     "iopub.status.idle": "2024-07-18T08:24:16.079678Z",
     "shell.execute_reply": "2024-07-18T08:24:16.078369Z"
    },
    "papermill": {
     "duration": 0.060117,
     "end_time": "2024-07-18T08:24:16.082110",
     "exception": false,
     "start_time": "2024-07-18T08:24:16.021993",
     "status": "completed"
    },
    "tags": []
   },
   "outputs": [
    {
     "data": {
      "text/plain": [
       "Location                        0\n",
       "Cross_Street                 4190\n",
       "Latitude                        0\n",
       "Longitude                       0\n",
       "Date_Reported                   0\n",
       "Date_Occurred                   0\n",
       "Time_Occurred                   0\n",
       "Area_ID                         0\n",
       "Area_Name                       0\n",
       "Reporting_District_no           0\n",
       "Part 1-2                        0\n",
       "Modus_Operandi                684\n",
       "Victim_Age                      0\n",
       "Victim_Sex                      0\n",
       "Victim_Descent                643\n",
       "Premise_Code                    0\n",
       "Premise_Description             1\n",
       "Weapon_Used_Code             3153\n",
       "Weapon_Description              0\n",
       "Status                          0\n",
       "Status_Description              0\n",
       "day_category                    0\n",
       "reporting_delay_day_count       0\n",
       "dtype: int64"
      ]
     },
     "execution_count": 96,
     "metadata": {},
     "output_type": "execute_result"
    }
   ],
   "source": [
    "test_final.isnull().sum()"
   ]
  },
  {
   "cell_type": "code",
   "execution_count": 97,
   "id": "e06a8f99",
   "metadata": {
    "execution": {
     "iopub.execute_input": "2024-07-18T08:24:16.167214Z",
     "iopub.status.busy": "2024-07-18T08:24:16.166853Z",
     "iopub.status.idle": "2024-07-18T08:24:16.178396Z",
     "shell.execute_reply": "2024-07-18T08:24:16.176716Z"
    },
    "papermill": {
     "duration": 0.058,
     "end_time": "2024-07-18T08:24:16.181107",
     "exception": false,
     "start_time": "2024-07-18T08:24:16.123107",
     "status": "completed"
    },
    "tags": []
   },
   "outputs": [],
   "source": [
    "distribution_Descent_test = test_final['Victim_Descent'].dropna().value_counts(normalize=True)\n",
    "\n",
    "missing_Descent_test = test_final['Victim_Descent'].isna().sum()\n",
    "\n",
    "imputed_values_Descent_test = np.random.choice(distribution_Descent_test.index, size=missing_Descent_test, p=distribution_Descent_test.values)\n",
    "\n",
    "\n",
    "test_final.loc[test_final['Victim_Descent'].isna(), 'Victim_Descent'] = imputed_values_Descent_test\n",
    "\n",
    "\n",
    "\n",
    "\n",
    "\n",
    "# distribution_test = test_final['Victim_Descent'].dropna().value_counts(normalize=True)\n",
    "\n",
    "# missing_test = test_final['Victim_Descent'].isnull().sum()\n",
    "\n",
    "# imputed_values_test = np.random.choice(distribution_test.index, size=missing_test, p=distribution_test.values)\n",
    "\n",
    "# # Impute the missing values\n",
    "# test_final.loc[test_final['Victim_Descent'].isnull(), 'Victim_Descent'] = imputed_values_test"
   ]
  },
  {
   "cell_type": "markdown",
   "id": "b6e79e98",
   "metadata": {
    "papermill": {
     "duration": 0.045114,
     "end_time": "2024-07-18T08:24:16.270117",
     "exception": false,
     "start_time": "2024-07-18T08:24:16.225003",
     "status": "completed"
    },
    "tags": []
   },
   "source": [
    "# Modus_Operandi"
   ]
  },
  {
   "cell_type": "code",
   "execution_count": 98,
   "id": "9d6fa87f",
   "metadata": {
    "execution": {
     "iopub.execute_input": "2024-07-18T08:24:16.355175Z",
     "iopub.status.busy": "2024-07-18T08:24:16.354801Z",
     "iopub.status.idle": "2024-07-18T08:24:16.371752Z",
     "shell.execute_reply": "2024-07-18T08:24:16.370301Z"
    },
    "papermill": {
     "duration": 0.062484,
     "end_time": "2024-07-18T08:24:16.374229",
     "exception": false,
     "start_time": "2024-07-18T08:24:16.311745",
     "status": "completed"
    },
    "tags": []
   },
   "outputs": [],
   "source": [
    "test_final.loc[:,'Modus_Operandi'] = test_final.loc[:,'Modus_Operandi'].fillna('')\n",
    "\n",
    "\n",
    "def number_of_activities(s):\n",
    "    if s=='':  # Handle NaN values\n",
    "        return 0\n",
    "    activities_list=s.split()\n",
    "    activity_count = list(set(activities_list))\n",
    "    return len(activity_count)\n",
    "\n",
    "\n",
    "test_final['activity_count']=test_final['Modus_Operandi'].apply(number_of_activities)\n",
    "\n",
    "\n",
    "\n",
    "# def number_of_activities(s):\n",
    "#     if s=='':  # Handle NaN values\n",
    "#         return 0\n",
    "#     activities_list=s.split()\n",
    "#     activity_count = list(set(activities_list))\n",
    "#     activities = set()  # Using a set to avoid duplicates efficiently\n",
    "#     for activity in s.split(' '):\n",
    "#         activities.add(str(activity))\n",
    "#     activities=' '.join(activities)    \n",
    "#     return len(activity_count)\n",
    "# train['activity_count']=train['Modus_Operandi'].apply(number_of_activities)\n"
   ]
  },
  {
   "cell_type": "code",
   "execution_count": 99,
   "id": "0c285361",
   "metadata": {
    "execution": {
     "iopub.execute_input": "2024-07-18T08:24:16.458944Z",
     "iopub.status.busy": "2024-07-18T08:24:16.457768Z",
     "iopub.status.idle": "2024-07-18T08:24:16.466742Z",
     "shell.execute_reply": "2024-07-18T08:24:16.465432Z"
    },
    "papermill": {
     "duration": 0.05389,
     "end_time": "2024-07-18T08:24:16.469239",
     "exception": false,
     "start_time": "2024-07-18T08:24:16.415349",
     "status": "completed"
    },
    "tags": []
   },
   "outputs": [],
   "source": [
    "# test_final['Modus_Operandi']=test_final['Modus_Operandi'].apply(number_of_activities)\n",
    "test_final['Part 1-2']=test_final['Part 1-2'].apply(lambda x : str(x))\n"
   ]
  },
  {
   "cell_type": "markdown",
   "id": "f3e1a6e5",
   "metadata": {
    "papermill": {
     "duration": 0.041477,
     "end_time": "2024-07-18T08:24:16.554553",
     "exception": false,
     "start_time": "2024-07-18T08:24:16.513076",
     "status": "completed"
    },
    "tags": []
   },
   "source": [
    "# Victim age"
   ]
  },
  {
   "cell_type": "code",
   "execution_count": 100,
   "id": "9ea7df5b",
   "metadata": {
    "execution": {
     "iopub.execute_input": "2024-07-18T08:24:16.639537Z",
     "iopub.status.busy": "2024-07-18T08:24:16.639126Z",
     "iopub.status.idle": "2024-07-18T08:24:16.655814Z",
     "shell.execute_reply": "2024-07-18T08:24:16.654385Z"
    },
    "papermill": {
     "duration": 0.062491,
     "end_time": "2024-07-18T08:24:16.658071",
     "exception": false,
     "start_time": "2024-07-18T08:24:16.595580",
     "status": "completed"
    },
    "tags": []
   },
   "outputs": [
    {
     "name": "stdout",
     "output_type": "stream",
     "text": [
      "[28. 26. 62.  0. 37. 58. 21. 19. 31. 35. 25. 27. 20. 67. 36. 15. 24. 53.\n",
      " 30. 38. 71. 34. 16. 33. 32. 77. 39. 52. 23. 61. 50. 63. 45. 22. 73. 40.\n",
      " 60. 55. 29. 41. 51. 46. -2. 44. 99. 81. 43. 57. 12. 79. 93. 65. 54. 59.\n",
      " 83. 64. 49. 56. 47. 42. 70. 78. 68. 80. 18. 96. 48. 74. 76. 11. 14. 66.\n",
      " 72.  7. 10.  6. 69. 17. 82.  5.  9.  4. 85. 75. 88.  8. 86. 13.  3.  2.\n",
      " -1. 84. 90. 91.]\n",
      "---------------------------------------------------------------\n",
      "[28. 26. 62.  0. 37. 58. 21. 19. 31. 35. 25. 27. 20. 67. 36. 15. 24. 53.\n",
      " 30. 38. 71. 34. 16. 33. 32. 77. 39. 52. 23. 61. 50. 63. 45. 22. 73. 40.\n",
      " 60. 55. 29. 41. 51. 46. 44. 99. 81. 43. 57. 12. 79. 93. 65. 54. 59. 83.\n",
      " 64. 49. 56. 47. 42. 70. 78. 68. 80. 18. 96. 48. 74. 76. 11. 14. 66. 72.\n",
      "  7. 10.  6. 69. 17. 82.  5.  9.  4. 85. 75. 88.  8. 86. 13.  3.  2. 84.\n",
      " 90. 91.]\n",
      "---------------------------------------------------------------\n"
     ]
    }
   ],
   "source": [
    "print(test_final['Victim_Age'].unique())\n",
    "\n",
    "test_final.loc[test_final['Victim_Age']<0,'Victim_Age']=0\n",
    "\n",
    "print('---------------------------------------------------------------')\n",
    "\n",
    "\n",
    "print(test_final['Victim_Age'].unique())\n",
    "\n",
    "print('---------------------------------------------------------------')\n",
    "\n",
    "\n",
    "test_final.loc[:,'Victim_Age']=test_final.loc[:,'Victim_Age'].apply(lambda x : int(x))\n",
    "\n",
    "\n",
    "test_final.loc[test_final['Victim_Age']==0,'Victim_Age']=test_final['Victim_Age'].mean()\n"
   ]
  },
  {
   "cell_type": "code",
   "execution_count": 101,
   "id": "ac7918d8",
   "metadata": {
    "execution": {
     "iopub.execute_input": "2024-07-18T08:24:16.743995Z",
     "iopub.status.busy": "2024-07-18T08:24:16.743157Z",
     "iopub.status.idle": "2024-07-18T08:24:16.748168Z",
     "shell.execute_reply": "2024-07-18T08:24:16.746901Z"
    },
    "papermill": {
     "duration": 0.050779,
     "end_time": "2024-07-18T08:24:16.750619",
     "exception": false,
     "start_time": "2024-07-18T08:24:16.699840",
     "status": "completed"
    },
    "tags": []
   },
   "outputs": [],
   "source": [
    "# test_final.loc[test_final['Weapon_Description'] == 'STRONG-ARM (HANDS, FIST, FEET OR BODILY FORCE)', 'Weapon_Description'] = 'Physical Force'\n",
    "\n",
    "\n",
    "\n",
    "# test_final.loc[:,'Weapon_Description']=test_final['Weapon_Description'].apply(gun)"
   ]
  },
  {
   "cell_type": "code",
   "execution_count": 102,
   "id": "024ce4ea",
   "metadata": {
    "execution": {
     "iopub.execute_input": "2024-07-18T08:24:16.835203Z",
     "iopub.status.busy": "2024-07-18T08:24:16.834794Z",
     "iopub.status.idle": "2024-07-18T08:24:16.839470Z",
     "shell.execute_reply": "2024-07-18T08:24:16.838405Z"
    },
    "papermill": {
     "duration": 0.05019,
     "end_time": "2024-07-18T08:24:16.842062",
     "exception": false,
     "start_time": "2024-07-18T08:24:16.791872",
     "status": "completed"
    },
    "tags": []
   },
   "outputs": [],
   "source": [
    "# test=test[['Latitude','Longitude','reporting_delay_day_count','day_category','Victim_Age','Victim_Sex','Victim_Descent','Weapon_Description','Area_ID','Modus_Operandi','Part 1-2','Status']]"
   ]
  },
  {
   "cell_type": "code",
   "execution_count": 103,
   "id": "7ec96c23",
   "metadata": {
    "execution": {
     "iopub.execute_input": "2024-07-18T08:24:16.926387Z",
     "iopub.status.busy": "2024-07-18T08:24:16.925942Z",
     "iopub.status.idle": "2024-07-18T08:24:16.940331Z",
     "shell.execute_reply": "2024-07-18T08:24:16.939225Z"
    },
    "papermill": {
     "duration": 0.059446,
     "end_time": "2024-07-18T08:24:16.942946",
     "exception": false,
     "start_time": "2024-07-18T08:24:16.883500",
     "status": "completed"
    },
    "tags": []
   },
   "outputs": [
    {
     "name": "stderr",
     "output_type": "stream",
     "text": [
      "/tmp/ipykernel_18/4105633067.py:1: FutureWarning: Setting an item of incompatible dtype is deprecated and will raise in a future error of pandas. Value '['3.0' '20.0' '18.0' ... '19.0' '1.0' '18.0']' has dtype incompatible with float64, please explicitly cast to a compatible dtype first.\n",
      "  test_final.loc[:,'Area_ID']=test_final.loc[:,'Area_ID'].apply(lambda x : str(x))\n"
     ]
    }
   ],
   "source": [
    "test_final.loc[:,'Area_ID']=test_final.loc[:,'Area_ID'].apply(lambda x : str(x))\n",
    "test_final=test_final[['Latitude','Longitude','Victim_Age','activity_count','reporting_delay_day_count','Area_ID','Part 1-2','Victim_Sex','Victim_Descent','Weapon_Description','Status','day_category','Modus_Operandi']]\n"
   ]
  },
  {
   "cell_type": "code",
   "execution_count": 104,
   "id": "14cf8ba5",
   "metadata": {
    "execution": {
     "iopub.execute_input": "2024-07-18T08:24:17.030877Z",
     "iopub.status.busy": "2024-07-18T08:24:17.030481Z",
     "iopub.status.idle": "2024-07-18T08:24:17.048035Z",
     "shell.execute_reply": "2024-07-18T08:24:17.046706Z"
    },
    "papermill": {
     "duration": 0.064613,
     "end_time": "2024-07-18T08:24:17.051440",
     "exception": false,
     "start_time": "2024-07-18T08:24:16.986827",
     "status": "completed"
    },
    "tags": []
   },
   "outputs": [
    {
     "name": "stdout",
     "output_type": "stream",
     "text": [
      "<class 'pandas.core.frame.DataFrame'>\n",
      "RangeIndex: 5000 entries, 0 to 4999\n",
      "Data columns (total 13 columns):\n",
      " #   Column                     Non-Null Count  Dtype  \n",
      "---  ------                     --------------  -----  \n",
      " 0   Latitude                   5000 non-null   float64\n",
      " 1   Longitude                  5000 non-null   float64\n",
      " 2   Victim_Age                 5000 non-null   float64\n",
      " 3   activity_count             5000 non-null   int64  \n",
      " 4   reporting_delay_day_count  5000 non-null   object \n",
      " 5   Area_ID                    5000 non-null   object \n",
      " 6   Part 1-2                   5000 non-null   object \n",
      " 7   Victim_Sex                 5000 non-null   object \n",
      " 8   Victim_Descent             5000 non-null   object \n",
      " 9   Weapon_Description         5000 non-null   object \n",
      " 10  Status                     5000 non-null   object \n",
      " 11  day_category               5000 non-null   object \n",
      " 12  Modus_Operandi             5000 non-null   object \n",
      "dtypes: float64(3), int64(1), object(9)\n",
      "memory usage: 507.9+ KB\n"
     ]
    }
   ],
   "source": [
    "test_final.info()"
   ]
  },
  {
   "cell_type": "code",
   "execution_count": 105,
   "id": "df86e7d1",
   "metadata": {
    "execution": {
     "iopub.execute_input": "2024-07-18T08:24:17.140824Z",
     "iopub.status.busy": "2024-07-18T08:24:17.140442Z",
     "iopub.status.idle": "2024-07-18T08:24:17.163899Z",
     "shell.execute_reply": "2024-07-18T08:24:17.162746Z"
    },
    "papermill": {
     "duration": 0.069998,
     "end_time": "2024-07-18T08:24:17.166042",
     "exception": false,
     "start_time": "2024-07-18T08:24:17.096044",
     "status": "completed"
    },
    "tags": []
   },
   "outputs": [
    {
     "data": {
      "text/html": [
       "<div>\n",
       "<style scoped>\n",
       "    .dataframe tbody tr th:only-of-type {\n",
       "        vertical-align: middle;\n",
       "    }\n",
       "\n",
       "    .dataframe tbody tr th {\n",
       "        vertical-align: top;\n",
       "    }\n",
       "\n",
       "    .dataframe thead th {\n",
       "        text-align: right;\n",
       "    }\n",
       "</style>\n",
       "<table border=\"1\" class=\"dataframe\">\n",
       "  <thead>\n",
       "    <tr style=\"text-align: right;\">\n",
       "      <th></th>\n",
       "      <th>Latitude</th>\n",
       "      <th>Longitude</th>\n",
       "      <th>Victim_Age</th>\n",
       "      <th>activity_count</th>\n",
       "      <th>reporting_delay_day_count</th>\n",
       "      <th>Area_ID</th>\n",
       "      <th>Part 1-2</th>\n",
       "      <th>Victim_Sex</th>\n",
       "      <th>Victim_Descent</th>\n",
       "      <th>Weapon_Description</th>\n",
       "      <th>Status</th>\n",
       "      <th>day_category</th>\n",
       "      <th>Modus_Operandi</th>\n",
       "    </tr>\n",
       "  </thead>\n",
       "  <tbody>\n",
       "    <tr>\n",
       "      <th>0</th>\n",
       "      <td>34.0128</td>\n",
       "      <td>-118.3045</td>\n",
       "      <td>28.000</td>\n",
       "      <td>6</td>\n",
       "      <td>0</td>\n",
       "      <td>3.0</td>\n",
       "      <td>2.0</td>\n",
       "      <td>F</td>\n",
       "      <td>H</td>\n",
       "      <td>Physical Force</td>\n",
       "      <td>IC</td>\n",
       "      <td>Evening</td>\n",
       "      <td>0416 1241 1243 1813 1821 2000</td>\n",
       "    </tr>\n",
       "    <tr>\n",
       "      <th>1</th>\n",
       "      <td>34.0726</td>\n",
       "      <td>-118.3029</td>\n",
       "      <td>26.000</td>\n",
       "      <td>2</td>\n",
       "      <td>37</td>\n",
       "      <td>20.0</td>\n",
       "      <td>1.0</td>\n",
       "      <td>M</td>\n",
       "      <td>B</td>\n",
       "      <td>Physical Force</td>\n",
       "      <td>IC</td>\n",
       "      <td>Night</td>\n",
       "      <td>0344 0394</td>\n",
       "    </tr>\n",
       "    <tr>\n",
       "      <th>2</th>\n",
       "      <td>33.9348</td>\n",
       "      <td>-118.2695</td>\n",
       "      <td>62.000</td>\n",
       "      <td>6</td>\n",
       "      <td>1</td>\n",
       "      <td>18.0</td>\n",
       "      <td>2.0</td>\n",
       "      <td>F</td>\n",
       "      <td>B</td>\n",
       "      <td>Physical Force</td>\n",
       "      <td>IC</td>\n",
       "      <td>Morning</td>\n",
       "      <td>1822 0701 1914 0355 1202 0100</td>\n",
       "    </tr>\n",
       "    <tr>\n",
       "      <th>3</th>\n",
       "      <td>34.0497</td>\n",
       "      <td>-118.3442</td>\n",
       "      <td>30.593</td>\n",
       "      <td>0</td>\n",
       "      <td>20</td>\n",
       "      <td>7.0</td>\n",
       "      <td>1.0</td>\n",
       "      <td>M</td>\n",
       "      <td>X</td>\n",
       "      <td>sharp_heavy_object</td>\n",
       "      <td>IC</td>\n",
       "      <td>Night</td>\n",
       "      <td></td>\n",
       "    </tr>\n",
       "    <tr>\n",
       "      <th>4</th>\n",
       "      <td>34.1611</td>\n",
       "      <td>-118.3704</td>\n",
       "      <td>37.000</td>\n",
       "      <td>1</td>\n",
       "      <td>1</td>\n",
       "      <td>15.0</td>\n",
       "      <td>2.0</td>\n",
       "      <td>F</td>\n",
       "      <td>W</td>\n",
       "      <td>Physical Force</td>\n",
       "      <td>AO</td>\n",
       "      <td>Night</td>\n",
       "      <td>1501</td>\n",
       "    </tr>\n",
       "    <tr>\n",
       "      <th>...</th>\n",
       "      <td>...</td>\n",
       "      <td>...</td>\n",
       "      <td>...</td>\n",
       "      <td>...</td>\n",
       "      <td>...</td>\n",
       "      <td>...</td>\n",
       "      <td>...</td>\n",
       "      <td>...</td>\n",
       "      <td>...</td>\n",
       "      <td>...</td>\n",
       "      <td>...</td>\n",
       "      <td>...</td>\n",
       "      <td>...</td>\n",
       "    </tr>\n",
       "    <tr>\n",
       "      <th>4995</th>\n",
       "      <td>34.0409</td>\n",
       "      <td>-118.3408</td>\n",
       "      <td>30.593</td>\n",
       "      <td>0</td>\n",
       "      <td>1</td>\n",
       "      <td>7.0</td>\n",
       "      <td>1.0</td>\n",
       "      <td>M</td>\n",
       "      <td>B</td>\n",
       "      <td>sharp_heavy_object</td>\n",
       "      <td>IC</td>\n",
       "      <td>Night</td>\n",
       "      <td></td>\n",
       "    </tr>\n",
       "    <tr>\n",
       "      <th>4996</th>\n",
       "      <td>34.0347</td>\n",
       "      <td>-118.2253</td>\n",
       "      <td>30.593</td>\n",
       "      <td>2</td>\n",
       "      <td>7</td>\n",
       "      <td>4.0</td>\n",
       "      <td>1.0</td>\n",
       "      <td>X</td>\n",
       "      <td>X</td>\n",
       "      <td>Physical Force</td>\n",
       "      <td>IC</td>\n",
       "      <td>Daytime</td>\n",
       "      <td>1300 0325</td>\n",
       "    </tr>\n",
       "    <tr>\n",
       "      <th>4997</th>\n",
       "      <td>34.2392</td>\n",
       "      <td>-118.4698</td>\n",
       "      <td>38.000</td>\n",
       "      <td>3</td>\n",
       "      <td>0</td>\n",
       "      <td>19.0</td>\n",
       "      <td>2.0</td>\n",
       "      <td>M</td>\n",
       "      <td>H</td>\n",
       "      <td>Physical Force</td>\n",
       "      <td>AA</td>\n",
       "      <td>Night</td>\n",
       "      <td>0913 1817 0416</td>\n",
       "    </tr>\n",
       "    <tr>\n",
       "      <th>4998</th>\n",
       "      <td>34.0453</td>\n",
       "      <td>-118.2443</td>\n",
       "      <td>41.000</td>\n",
       "      <td>1</td>\n",
       "      <td>1</td>\n",
       "      <td>1.0</td>\n",
       "      <td>2.0</td>\n",
       "      <td>M</td>\n",
       "      <td>B</td>\n",
       "      <td>sharp_heavy_object</td>\n",
       "      <td>AO</td>\n",
       "      <td>Night</td>\n",
       "      <td>0416</td>\n",
       "    </tr>\n",
       "    <tr>\n",
       "      <th>4999</th>\n",
       "      <td>33.9438</td>\n",
       "      <td>-118.2695</td>\n",
       "      <td>49.000</td>\n",
       "      <td>2</td>\n",
       "      <td>0</td>\n",
       "      <td>18.0</td>\n",
       "      <td>2.0</td>\n",
       "      <td>M</td>\n",
       "      <td>B</td>\n",
       "      <td>Physical Force</td>\n",
       "      <td>IC</td>\n",
       "      <td>Night</td>\n",
       "      <td>1822 0329</td>\n",
       "    </tr>\n",
       "  </tbody>\n",
       "</table>\n",
       "<p>5000 rows × 13 columns</p>\n",
       "</div>"
      ],
      "text/plain": [
       "      Latitude  Longitude  Victim_Age  activity_count  \\\n",
       "0      34.0128  -118.3045      28.000               6   \n",
       "1      34.0726  -118.3029      26.000               2   \n",
       "2      33.9348  -118.2695      62.000               6   \n",
       "3      34.0497  -118.3442      30.593               0   \n",
       "4      34.1611  -118.3704      37.000               1   \n",
       "...        ...        ...         ...             ...   \n",
       "4995   34.0409  -118.3408      30.593               0   \n",
       "4996   34.0347  -118.2253      30.593               2   \n",
       "4997   34.2392  -118.4698      38.000               3   \n",
       "4998   34.0453  -118.2443      41.000               1   \n",
       "4999   33.9438  -118.2695      49.000               2   \n",
       "\n",
       "     reporting_delay_day_count Area_ID Part 1-2 Victim_Sex Victim_Descent  \\\n",
       "0                            0     3.0      2.0          F              H   \n",
       "1                           37    20.0      1.0          M              B   \n",
       "2                            1    18.0      2.0          F              B   \n",
       "3                           20     7.0      1.0          M              X   \n",
       "4                            1    15.0      2.0          F              W   \n",
       "...                        ...     ...      ...        ...            ...   \n",
       "4995                         1     7.0      1.0          M              B   \n",
       "4996                         7     4.0      1.0          X              X   \n",
       "4997                         0    19.0      2.0          M              H   \n",
       "4998                         1     1.0      2.0          M              B   \n",
       "4999                         0    18.0      2.0          M              B   \n",
       "\n",
       "      Weapon_Description Status day_category                 Modus_Operandi  \n",
       "0         Physical Force     IC      Evening  0416 1241 1243 1813 1821 2000  \n",
       "1         Physical Force     IC        Night                      0344 0394  \n",
       "2         Physical Force     IC      Morning  1822 0701 1914 0355 1202 0100  \n",
       "3     sharp_heavy_object     IC        Night                                 \n",
       "4         Physical Force     AO        Night                           1501  \n",
       "...                  ...    ...          ...                            ...  \n",
       "4995  sharp_heavy_object     IC        Night                                 \n",
       "4996      Physical Force     IC      Daytime                      1300 0325  \n",
       "4997      Physical Force     AA        Night                 0913 1817 0416  \n",
       "4998  sharp_heavy_object     AO        Night                           0416  \n",
       "4999      Physical Force     IC        Night                      1822 0329  \n",
       "\n",
       "[5000 rows x 13 columns]"
      ]
     },
     "execution_count": 105,
     "metadata": {},
     "output_type": "execute_result"
    }
   ],
   "source": [
    "test_final"
   ]
  },
  {
   "cell_type": "code",
   "execution_count": 106,
   "id": "98ba4c0c",
   "metadata": {
    "execution": {
     "iopub.execute_input": "2024-07-18T08:24:17.253152Z",
     "iopub.status.busy": "2024-07-18T08:24:17.252149Z",
     "iopub.status.idle": "2024-07-18T08:24:17.259854Z",
     "shell.execute_reply": "2024-07-18T08:24:17.258641Z"
    },
    "papermill": {
     "duration": 0.053587,
     "end_time": "2024-07-18T08:24:17.262048",
     "exception": false,
     "start_time": "2024-07-18T08:24:17.208461",
     "status": "completed"
    },
    "tags": []
   },
   "outputs": [
    {
     "data": {
      "text/plain": [
       "(5000, 13)"
      ]
     },
     "execution_count": 106,
     "metadata": {},
     "output_type": "execute_result"
    }
   ],
   "source": [
    "test_final.shape"
   ]
  },
  {
   "cell_type": "code",
   "execution_count": 107,
   "id": "0f1c13d8",
   "metadata": {
    "execution": {
     "iopub.execute_input": "2024-07-18T08:24:17.347026Z",
     "iopub.status.busy": "2024-07-18T08:24:17.346637Z",
     "iopub.status.idle": "2024-07-18T08:24:17.366769Z",
     "shell.execute_reply": "2024-07-18T08:24:17.365527Z"
    },
    "papermill": {
     "duration": 0.065623,
     "end_time": "2024-07-18T08:24:17.369612",
     "exception": false,
     "start_time": "2024-07-18T08:24:17.303989",
     "status": "completed"
    },
    "tags": []
   },
   "outputs": [
    {
     "data": {
      "text/html": [
       "<div>\n",
       "<style scoped>\n",
       "    .dataframe tbody tr th:only-of-type {\n",
       "        vertical-align: middle;\n",
       "    }\n",
       "\n",
       "    .dataframe tbody tr th {\n",
       "        vertical-align: top;\n",
       "    }\n",
       "\n",
       "    .dataframe thead th {\n",
       "        text-align: right;\n",
       "    }\n",
       "</style>\n",
       "<table border=\"1\" class=\"dataframe\">\n",
       "  <thead>\n",
       "    <tr style=\"text-align: right;\">\n",
       "      <th></th>\n",
       "      <th>ID</th>\n",
       "      <th>Crime_Category</th>\n",
       "      <th>Unnamed: 2</th>\n",
       "    </tr>\n",
       "  </thead>\n",
       "  <tbody>\n",
       "    <tr>\n",
       "      <th>0</th>\n",
       "      <td>1</td>\n",
       "      <td>Crimes against Persons</td>\n",
       "      <td>NaN</td>\n",
       "    </tr>\n",
       "    <tr>\n",
       "      <th>1</th>\n",
       "      <td>2</td>\n",
       "      <td>Crimes against Public Order</td>\n",
       "      <td>NaN</td>\n",
       "    </tr>\n",
       "    <tr>\n",
       "      <th>2</th>\n",
       "      <td>3</td>\n",
       "      <td>Other Crimes</td>\n",
       "      <td>NaN</td>\n",
       "    </tr>\n",
       "    <tr>\n",
       "      <th>3</th>\n",
       "      <td>4</td>\n",
       "      <td>Crimes against Public Order</td>\n",
       "      <td>NaN</td>\n",
       "    </tr>\n",
       "    <tr>\n",
       "      <th>4</th>\n",
       "      <td>5</td>\n",
       "      <td>Other Crimes</td>\n",
       "      <td>NaN</td>\n",
       "    </tr>\n",
       "    <tr>\n",
       "      <th>...</th>\n",
       "      <td>...</td>\n",
       "      <td>...</td>\n",
       "      <td>...</td>\n",
       "    </tr>\n",
       "    <tr>\n",
       "      <th>995</th>\n",
       "      <td>996</td>\n",
       "      <td>Fraud and White-Collar Crimes</td>\n",
       "      <td>NaN</td>\n",
       "    </tr>\n",
       "    <tr>\n",
       "      <th>996</th>\n",
       "      <td>997</td>\n",
       "      <td>Property Crimes</td>\n",
       "      <td>NaN</td>\n",
       "    </tr>\n",
       "    <tr>\n",
       "      <th>997</th>\n",
       "      <td>998</td>\n",
       "      <td>Violent Crimes</td>\n",
       "      <td>NaN</td>\n",
       "    </tr>\n",
       "    <tr>\n",
       "      <th>998</th>\n",
       "      <td>999</td>\n",
       "      <td>Property Crimes</td>\n",
       "      <td>NaN</td>\n",
       "    </tr>\n",
       "    <tr>\n",
       "      <th>999</th>\n",
       "      <td>1000</td>\n",
       "      <td>Violent Crimes</td>\n",
       "      <td>NaN</td>\n",
       "    </tr>\n",
       "  </tbody>\n",
       "</table>\n",
       "<p>1000 rows × 3 columns</p>\n",
       "</div>"
      ],
      "text/plain": [
       "       ID                Crime_Category   Unnamed: 2\n",
       "0       1         Crimes against Persons         NaN\n",
       "1       2    Crimes against Public Order         NaN\n",
       "2       3                   Other Crimes         NaN\n",
       "3       4    Crimes against Public Order         NaN\n",
       "4       5                   Other Crimes         NaN\n",
       "..    ...                            ...         ...\n",
       "995   996  Fraud and White-Collar Crimes         NaN\n",
       "996   997                Property Crimes         NaN\n",
       "997   998                 Violent Crimes         NaN\n",
       "998   999                Property Crimes         NaN\n",
       "999  1000                 Violent Crimes         NaN\n",
       "\n",
       "[1000 rows x 3 columns]"
      ]
     },
     "execution_count": 107,
     "metadata": {},
     "output_type": "execute_result"
    }
   ],
   "source": [
    "sample=pd.read_csv('/kaggle/input/crime-cast-forecasting-crime-categories/sample.csv')\n",
    "sample"
   ]
  },
  {
   "cell_type": "code",
   "execution_count": 108,
   "id": "e39e56f6",
   "metadata": {
    "execution": {
     "iopub.execute_input": "2024-07-18T08:24:17.455155Z",
     "iopub.status.busy": "2024-07-18T08:24:17.454773Z",
     "iopub.status.idle": "2024-07-18T08:24:17.467519Z",
     "shell.execute_reply": "2024-07-18T08:24:17.465993Z"
    },
    "papermill": {
     "duration": 0.058567,
     "end_time": "2024-07-18T08:24:17.470107",
     "exception": false,
     "start_time": "2024-07-18T08:24:17.411540",
     "status": "completed"
    },
    "tags": []
   },
   "outputs": [
    {
     "data": {
      "text/plain": [
       "Latitude                     0\n",
       "Longitude                    0\n",
       "Victim_Age                   0\n",
       "activity_count               0\n",
       "reporting_delay_day_count    0\n",
       "Area_ID                      0\n",
       "Part 1-2                     0\n",
       "Victim_Sex                   0\n",
       "Victim_Descent               0\n",
       "Weapon_Description           0\n",
       "Status                       0\n",
       "day_category                 0\n",
       "Modus_Operandi               0\n",
       "dtype: int64"
      ]
     },
     "execution_count": 108,
     "metadata": {},
     "output_type": "execute_result"
    }
   ],
   "source": [
    "test_final.isnull().sum()"
   ]
  },
  {
   "cell_type": "code",
   "execution_count": 109,
   "id": "ffa00016",
   "metadata": {
    "execution": {
     "iopub.execute_input": "2024-07-18T08:24:17.559746Z",
     "iopub.status.busy": "2024-07-18T08:24:17.559359Z",
     "iopub.status.idle": "2024-07-18T08:24:17.565816Z",
     "shell.execute_reply": "2024-07-18T08:24:17.564726Z"
    },
    "papermill": {
     "duration": 0.053179,
     "end_time": "2024-07-18T08:24:17.568161",
     "exception": false,
     "start_time": "2024-07-18T08:24:17.514982",
     "status": "completed"
    },
    "tags": []
   },
   "outputs": [
    {
     "name": "stdout",
     "output_type": "stream",
     "text": [
      "Train features: Index(['Latitude', 'Longitude', 'Victim_Age', 'activity_count',\n",
      "       'reporting_delay_day_count', 'Area_ID', 'Part 1-2', 'Victim_Sex',\n",
      "       'Victim_Descent', 'Weapon_Description', 'Status', 'day_category',\n",
      "       'Modus_Operandi'],\n",
      "      dtype='object')\n",
      "Test features: Index(['Latitude', 'Longitude', 'Victim_Age', 'activity_count',\n",
      "       'reporting_delay_day_count', 'Area_ID', 'Part 1-2', 'Victim_Sex',\n",
      "       'Victim_Descent', 'Weapon_Description', 'Status', 'day_category',\n",
      "       'Modus_Operandi'],\n",
      "      dtype='object')\n"
     ]
    }
   ],
   "source": [
    "print(\"Train features:\", xtrain_1.columns)\n",
    "print(\"Test features:\", test_final.columns)"
   ]
  },
  {
   "cell_type": "code",
   "execution_count": 110,
   "id": "4183a062",
   "metadata": {
    "execution": {
     "iopub.execute_input": "2024-07-18T08:24:17.655903Z",
     "iopub.status.busy": "2024-07-18T08:24:17.655512Z",
     "iopub.status.idle": "2024-07-18T08:24:17.709861Z",
     "shell.execute_reply": "2024-07-18T08:24:17.708811Z"
    },
    "papermill": {
     "duration": 0.100375,
     "end_time": "2024-07-18T08:24:17.712782",
     "exception": false,
     "start_time": "2024-07-18T08:24:17.612407",
     "status": "completed"
    },
    "tags": []
   },
   "outputs": [],
   "source": [
    "y_pred_submission=decision_tree_full.predict(test_final)\n",
    "submission=pd.DataFrame({'ID': np.arange(1,5000+1), 'Crime_Category': y_pred_submission})\n",
    "\n",
    "submission.to_csv('submission.csv',index=False)"
   ]
  },
  {
   "cell_type": "code",
   "execution_count": null,
   "id": "9bfc7173",
   "metadata": {
    "papermill": {
     "duration": 0.042346,
     "end_time": "2024-07-18T08:24:17.798370",
     "exception": false,
     "start_time": "2024-07-18T08:24:17.756024",
     "status": "completed"
    },
    "tags": []
   },
   "outputs": [],
   "source": []
  },
  {
   "cell_type": "code",
   "execution_count": null,
   "id": "6d40ee95",
   "metadata": {
    "papermill": {
     "duration": 0.04144,
     "end_time": "2024-07-18T08:24:17.882605",
     "exception": false,
     "start_time": "2024-07-18T08:24:17.841165",
     "status": "completed"
    },
    "tags": []
   },
   "outputs": [],
   "source": []
  },
  {
   "cell_type": "code",
   "execution_count": null,
   "id": "dee3a7c6",
   "metadata": {
    "papermill": {
     "duration": 0.044523,
     "end_time": "2024-07-18T08:24:17.968698",
     "exception": false,
     "start_time": "2024-07-18T08:24:17.924175",
     "status": "completed"
    },
    "tags": []
   },
   "outputs": [],
   "source": []
  },
  {
   "cell_type": "code",
   "execution_count": null,
   "id": "7755d6ab",
   "metadata": {
    "papermill": {
     "duration": 0.041684,
     "end_time": "2024-07-18T08:24:18.053195",
     "exception": false,
     "start_time": "2024-07-18T08:24:18.011511",
     "status": "completed"
    },
    "tags": []
   },
   "outputs": [],
   "source": []
  },
  {
   "cell_type": "code",
   "execution_count": null,
   "id": "82bd31ba",
   "metadata": {
    "papermill": {
     "duration": 0.041372,
     "end_time": "2024-07-18T08:24:18.137281",
     "exception": false,
     "start_time": "2024-07-18T08:24:18.095909",
     "status": "completed"
    },
    "tags": []
   },
   "outputs": [],
   "source": []
  },
  {
   "cell_type": "code",
   "execution_count": null,
   "id": "8b047d11",
   "metadata": {
    "papermill": {
     "duration": 0.043343,
     "end_time": "2024-07-18T08:24:18.222884",
     "exception": false,
     "start_time": "2024-07-18T08:24:18.179541",
     "status": "completed"
    },
    "tags": []
   },
   "outputs": [],
   "source": []
  },
  {
   "cell_type": "code",
   "execution_count": null,
   "id": "e52f39a2",
   "metadata": {
    "papermill": {
     "duration": 0.042197,
     "end_time": "2024-07-18T08:24:18.307956",
     "exception": false,
     "start_time": "2024-07-18T08:24:18.265759",
     "status": "completed"
    },
    "tags": []
   },
   "outputs": [],
   "source": []
  }
 ],
 "metadata": {
  "kaggle": {
   "accelerator": "none",
   "dataSources": [
    {
     "databundleVersionId": 8446444,
     "sourceId": 77420,
     "sourceType": "competition"
    }
   ],
   "dockerImageVersionId": 30715,
   "isGpuEnabled": false,
   "isInternetEnabled": false,
   "language": "python",
   "sourceType": "notebook"
  },
  "kernelspec": {
   "display_name": "Python 3",
   "language": "python",
   "name": "python3"
  },
  "language_info": {
   "codemirror_mode": {
    "name": "ipython",
    "version": 3
   },
   "file_extension": ".py",
   "mimetype": "text/x-python",
   "name": "python",
   "nbconvert_exporter": "python",
   "pygments_lexer": "ipython3",
   "version": "3.10.13"
  },
  "papermill": {
   "default_parameters": {},
   "duration": 243.357984,
   "end_time": "2024-07-18T08:24:19.072123",
   "environment_variables": {},
   "exception": null,
   "input_path": "__notebook__.ipynb",
   "output_path": "__notebook__.ipynb",
   "parameters": {},
   "start_time": "2024-07-18T08:20:15.714139",
   "version": "2.5.0"
  }
 },
 "nbformat": 4,
 "nbformat_minor": 5
}
