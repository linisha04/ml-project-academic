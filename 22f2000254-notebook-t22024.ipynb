{
 "cells": [
  {
   "cell_type": "code",
   "execution_count": 1,
   "id": "abb35442",
   "metadata": {
    "_cell_guid": "b1076dfc-b9ad-4769-8c92-a6c4dae69d19",
    "_uuid": "8f2839f25d086af736a60e9eeb907d3b93b6e0e5",
    "execution": {
     "iopub.execute_input": "2024-06-28T18:24:10.142085Z",
     "iopub.status.busy": "2024-06-28T18:24:10.141530Z",
     "iopub.status.idle": "2024-06-28T18:24:11.221606Z",
     "shell.execute_reply": "2024-06-28T18:24:11.220076Z"
    },
    "papermill": {
     "duration": 1.111003,
     "end_time": "2024-06-28T18:24:11.224666",
     "exception": false,
     "start_time": "2024-06-28T18:24:10.113663",
     "status": "completed"
    },
    "tags": []
   },
   "outputs": [
    {
     "name": "stdout",
     "output_type": "stream",
     "text": [
      "/kaggle/input/crime-cast-forecasting-crime-categories/sample.csv\n",
      "/kaggle/input/crime-cast-forecasting-crime-categories/train.csv\n",
      "/kaggle/input/crime-cast-forecasting-crime-categories/test.csv\n"
     ]
    }
   ],
   "source": [
    "# This Python 3 environment comes with many helpful analytics libraries installed\n",
    "# It is defined by the kaggle/python Docker image: https://github.com/kaggle/docker-python\n",
    "# For example, here's several helpful packages to load\n",
    "\n",
    "import numpy as np # linear algebra\n",
    "import pandas as pd # data processing, CSV file I/O (e.g. pd.read_csv)\n",
    "\n",
    "# Input data files are available in the read-only \"../input/\" directory\n",
    "# For example, running this (by clicking run or pressing Shift+Enter), will list all files under the input directory\n",
    "\n",
    "import os\n",
    "for dirname, _, filenames in os.walk('/kaggle/input'):\n",
    "    for filename in filenames:\n",
    "        print(os.path.join(dirname, filename))\n",
    "\n",
    "# You can write up to 20GB to the current directory (/kaggle/working/) that gets preserved as output when you create a version using \"Save & Run All\" \n",
    "# You can also write temporary files to /kaggle/temp/, but they won't be saved outside of the current session"
   ]
  },
  {
   "cell_type": "code",
   "execution_count": 2,
   "id": "7a8d4c64",
   "metadata": {
    "execution": {
     "iopub.execute_input": "2024-06-28T18:24:11.276723Z",
     "iopub.status.busy": "2024-06-28T18:24:11.276055Z",
     "iopub.status.idle": "2024-06-28T18:24:13.284583Z",
     "shell.execute_reply": "2024-06-28T18:24:13.283195Z"
    },
    "papermill": {
     "duration": 2.038446,
     "end_time": "2024-06-28T18:24:13.288133",
     "exception": false,
     "start_time": "2024-06-28T18:24:11.249687",
     "status": "completed"
    },
    "tags": []
   },
   "outputs": [],
   "source": [
    "import matplotlib.pyplot as plt\n",
    "import seaborn as sns \n",
    "\n",
    "\n",
    "import datetime\n",
    "\n",
    "\n",
    "from sklearn.model_selection import train_test_split \n",
    "\n",
    "\n",
    "from sklearn.metrics import classification_report , ConfusionMatrixDisplay"
   ]
  },
  {
   "cell_type": "code",
   "execution_count": 3,
   "id": "a01bc9a2",
   "metadata": {
    "execution": {
     "iopub.execute_input": "2024-06-28T18:24:13.341518Z",
     "iopub.status.busy": "2024-06-28T18:24:13.341046Z",
     "iopub.status.idle": "2024-06-28T18:24:13.626645Z",
     "shell.execute_reply": "2024-06-28T18:24:13.624828Z"
    },
    "papermill": {
     "duration": 0.316049,
     "end_time": "2024-06-28T18:24:13.630684",
     "exception": false,
     "start_time": "2024-06-28T18:24:13.314635",
     "status": "completed"
    },
    "tags": []
   },
   "outputs": [],
   "source": [
    "train =pd.read_csv('/kaggle/input/crime-cast-forecasting-crime-categories/train.csv')\n",
    "test=pd.read_csv('/kaggle/input/crime-cast-forecasting-crime-categories/test.csv')\n"
   ]
  },
  {
   "cell_type": "markdown",
   "id": "aca7a2f0",
   "metadata": {
    "papermill": {
     "duration": 0.034218,
     "end_time": "2024-06-28T18:24:13.699440",
     "exception": false,
     "start_time": "2024-06-28T18:24:13.665222",
     "status": "completed"
    },
    "tags": []
   },
   "source": [
    "* Latitude range: [0:34] ( General range is -90 to 90 )\n",
    "* Longitude range: [-118: 0] (General range is 180 to 180)\n",
    "\n"
   ]
  },
  {
   "cell_type": "code",
   "execution_count": 4,
   "id": "7c76da84",
   "metadata": {
    "execution": {
     "iopub.execute_input": "2024-06-28T18:24:13.759833Z",
     "iopub.status.busy": "2024-06-28T18:24:13.759185Z",
     "iopub.status.idle": "2024-06-28T18:24:13.768605Z",
     "shell.execute_reply": "2024-06-28T18:24:13.767075Z"
    },
    "papermill": {
     "duration": 0.048208,
     "end_time": "2024-06-28T18:24:13.772463",
     "exception": false,
     "start_time": "2024-06-28T18:24:13.724255",
     "status": "completed"
    },
    "tags": []
   },
   "outputs": [],
   "source": [
    "def day_category(x):\n",
    "    if 400<=x<1200:\n",
    "        return 'Morning'\n",
    "    elif 1200<=x<1700:\n",
    "        return 'Daytime'\n",
    "    elif 1800<=x<2100:\n",
    "        return 'Evening'\n",
    "    else:\n",
    "        return 'Night'"
   ]
  },
  {
   "cell_type": "code",
   "execution_count": 5,
   "id": "d5b827ee",
   "metadata": {
    "execution": {
     "iopub.execute_input": "2024-06-28T18:24:13.843125Z",
     "iopub.status.busy": "2024-06-28T18:24:13.842163Z",
     "iopub.status.idle": "2024-06-28T18:24:13.880761Z",
     "shell.execute_reply": "2024-06-28T18:24:13.879320Z"
    },
    "papermill": {
     "duration": 0.074419,
     "end_time": "2024-06-28T18:24:13.883950",
     "exception": false,
     "start_time": "2024-06-28T18:24:13.809531",
     "status": "completed"
    },
    "tags": []
   },
   "outputs": [],
   "source": [
    "train['day_category']=train['Time_Occurred'].apply(day_category )"
   ]
  },
  {
   "cell_type": "code",
   "execution_count": 6,
   "id": "82ea09f4",
   "metadata": {
    "execution": {
     "iopub.execute_input": "2024-06-28T18:24:13.938918Z",
     "iopub.status.busy": "2024-06-28T18:24:13.938504Z",
     "iopub.status.idle": "2024-06-28T18:24:13.945028Z",
     "shell.execute_reply": "2024-06-28T18:24:13.943681Z"
    },
    "papermill": {
     "duration": 0.035101,
     "end_time": "2024-06-28T18:24:13.947814",
     "exception": false,
     "start_time": "2024-06-28T18:24:13.912713",
     "status": "completed"
    },
    "tags": []
   },
   "outputs": [],
   "source": [
    "\n",
    "def extract_date(d):\n",
    "    str(d)\n",
    "    date=d.split(' ')[0]\n",
    "    \n",
    "    \n",
    "    date=pd.to_datetime(date).date()\n",
    "    \n",
    "    \n",
    "    return date\n",
    "    "
   ]
  },
  {
   "cell_type": "code",
   "execution_count": 7,
   "id": "3c9e93bf",
   "metadata": {
    "execution": {
     "iopub.execute_input": "2024-06-28T18:24:14.006681Z",
     "iopub.status.busy": "2024-06-28T18:24:14.004705Z",
     "iopub.status.idle": "2024-06-28T18:24:36.097232Z",
     "shell.execute_reply": "2024-06-28T18:24:36.095899Z"
    },
    "papermill": {
     "duration": 22.127483,
     "end_time": "2024-06-28T18:24:36.100551",
     "exception": false,
     "start_time": "2024-06-28T18:24:13.973068",
     "status": "completed"
    },
    "tags": []
   },
   "outputs": [],
   "source": [
    "train['Date_Reported']=train['Date_Reported'].apply(extract_date)\n",
    "train['Date_Occurred']=train['Date_Occurred'].apply(extract_date)\n"
   ]
  },
  {
   "cell_type": "code",
   "execution_count": 8,
   "id": "2c06e49a",
   "metadata": {
    "execution": {
     "iopub.execute_input": "2024-06-28T18:24:36.151262Z",
     "iopub.status.busy": "2024-06-28T18:24:36.150767Z",
     "iopub.status.idle": "2024-06-28T18:24:36.160405Z",
     "shell.execute_reply": "2024-06-28T18:24:36.159238Z"
    },
    "papermill": {
     "duration": 0.037859,
     "end_time": "2024-06-28T18:24:36.162811",
     "exception": false,
     "start_time": "2024-06-28T18:24:36.124952",
     "status": "completed"
    },
    "tags": []
   },
   "outputs": [
    {
     "data": {
      "text/plain": [
       "3"
      ]
     },
     "execution_count": 8,
     "metadata": {},
     "output_type": "execute_result"
    }
   ],
   "source": [
    "k=train['Date_Reported'][0]-train['Date_Occurred'][0]\n",
    "k.days"
   ]
  },
  {
   "cell_type": "code",
   "execution_count": 9,
   "id": "42fc68e7",
   "metadata": {
    "execution": {
     "iopub.execute_input": "2024-06-28T18:24:36.213657Z",
     "iopub.status.busy": "2024-06-28T18:24:36.213169Z",
     "iopub.status.idle": "2024-06-28T18:24:36.265040Z",
     "shell.execute_reply": "2024-06-28T18:24:36.263251Z"
    },
    "papermill": {
     "duration": 0.080893,
     "end_time": "2024-06-28T18:24:36.268255",
     "exception": false,
     "start_time": "2024-06-28T18:24:36.187362",
     "status": "completed"
    },
    "tags": []
   },
   "outputs": [],
   "source": [
    "train['Date_Reported']=pd.to_datetime(train['Date_Reported']).dt.date\n",
    "train['Date_Occurred']=pd.to_datetime(train['Date_Occurred']).dt.date\n",
    "\n",
    "train['reporting_delay_day_count']=(train['Date_Reported']-train['Date_Occurred'])"
   ]
  },
  {
   "cell_type": "code",
   "execution_count": 10,
   "id": "4f4a0389",
   "metadata": {
    "execution": {
     "iopub.execute_input": "2024-06-28T18:24:36.319622Z",
     "iopub.status.busy": "2024-06-28T18:24:36.319164Z",
     "iopub.status.idle": "2024-06-28T18:24:36.342329Z",
     "shell.execute_reply": "2024-06-28T18:24:36.341031Z"
    },
    "papermill": {
     "duration": 0.051645,
     "end_time": "2024-06-28T18:24:36.344822",
     "exception": false,
     "start_time": "2024-06-28T18:24:36.293177",
     "status": "completed"
    },
    "tags": []
   },
   "outputs": [],
   "source": [
    "def day_count(d):\n",
    "    return d.days\n",
    "train['reporting_delay_day_count']=train['reporting_delay_day_count'].apply(day_count)"
   ]
  },
  {
   "cell_type": "code",
   "execution_count": 11,
   "id": "4275ed58",
   "metadata": {
    "execution": {
     "iopub.execute_input": "2024-06-28T18:24:36.396120Z",
     "iopub.status.busy": "2024-06-28T18:24:36.395667Z",
     "iopub.status.idle": "2024-06-28T18:24:36.412617Z",
     "shell.execute_reply": "2024-06-28T18:24:36.411537Z"
    },
    "papermill": {
     "duration": 0.045837,
     "end_time": "2024-06-28T18:24:36.415321",
     "exception": false,
     "start_time": "2024-06-28T18:24:36.369484",
     "status": "completed"
    },
    "tags": []
   },
   "outputs": [],
   "source": [
    "df=train[['Latitude','Longitude','reporting_delay_day_count','day_category','Victim_Age','Victim_Sex','Victim_Descent','Premise_Code','Weapon_Description','Weapon_Used_Code','Area_ID','Modus_Operandi','Part 1-2','Status','Crime_Category']]"
   ]
  },
  {
   "cell_type": "code",
   "execution_count": 12,
   "id": "7d445726",
   "metadata": {
    "execution": {
     "iopub.execute_input": "2024-06-28T18:24:36.465304Z",
     "iopub.status.busy": "2024-06-28T18:24:36.464842Z",
     "iopub.status.idle": "2024-06-28T18:24:36.496521Z",
     "shell.execute_reply": "2024-06-28T18:24:36.495253Z"
    },
    "papermill": {
     "duration": 0.060503,
     "end_time": "2024-06-28T18:24:36.499798",
     "exception": false,
     "start_time": "2024-06-28T18:24:36.439295",
     "status": "completed"
    },
    "tags": []
   },
   "outputs": [],
   "source": [
    "def victim_gender(val):\n",
    "    if val=='H' or pd.isna(val):\n",
    "        val='X'\n",
    "    return val\n",
    "\n",
    "\n",
    "df.loc[:,'Victim_Sex'] = df['Victim_Sex'].apply(victim_gender)"
   ]
  },
  {
   "cell_type": "code",
   "execution_count": 13,
   "id": "42fa0a03",
   "metadata": {
    "execution": {
     "iopub.execute_input": "2024-06-28T18:24:36.551581Z",
     "iopub.status.busy": "2024-06-28T18:24:36.551150Z",
     "iopub.status.idle": "2024-06-28T18:24:36.576281Z",
     "shell.execute_reply": "2024-06-28T18:24:36.575075Z"
    },
    "papermill": {
     "duration": 0.055662,
     "end_time": "2024-06-28T18:24:36.580162",
     "exception": false,
     "start_time": "2024-06-28T18:24:36.524500",
     "status": "completed"
    },
    "tags": []
   },
   "outputs": [
    {
     "data": {
      "text/plain": [
       "Weapon_Description                            \n",
       "STRONG-ARM (HANDS, FIST, FEET OR BODILY FORCE)    0.543967\n",
       "UNKNOWN WEAPON/OTHER WEAPON                       0.107566\n",
       "VERBAL THREAT                                     0.074438\n",
       "HAND GUN                                          0.052897\n",
       "KNIFE WITH BLADE 6INCHES OR LESS                  0.021813\n",
       "SEMI-AUTOMATIC PISTOL                             0.020995\n",
       "UNKNOWN FIREARM                                   0.017860\n",
       "OTHER KNIFE                                       0.017042\n",
       "VEHICLE                                           0.011452\n",
       "MACE/PEPPER SPRAY                                 0.010907\n",
       "ROCK/THROWN OBJECT                                0.008589\n",
       "BOTTLE                                            0.007498\n",
       "PIPE/METAL PIPE                                   0.007089\n",
       "CLUB/BAT                                          0.006953\n",
       "STICK                                             0.006680\n",
       "KITCHEN KNIFE                                     0.006135\n",
       "KNIFE WITH BLADE OVER 6 INCHES IN LENGTH          0.005862\n",
       "AIR PISTOL/REVOLVER/RIFLE/BB GUN                  0.005590\n",
       "FOLDING KNIFE                                     0.005044\n",
       "BLUNT INSTRUMENT                                  0.005044\n",
       "SIMULATED GUN                                     0.004772\n",
       "REVOLVER                                          0.004635\n",
       "BELT FLAILING INSTRUMENT/CHAIN                    0.003545\n",
       "CONCRETE BLOCK/BRICK                              0.003545\n",
       "MACHETE                                           0.003408\n",
       "UNKNOWN TYPE CUTTING INSTRUMENT                   0.003272\n",
       "SCREWDRIVER                                       0.003136\n",
       "HAMMER                                            0.003136\n",
       "FIRE                                              0.002999\n",
       "PHYSICAL PRESENCE                                 0.002454\n",
       "OTHER FIREARM                                     0.002454\n",
       "OTHER CUTTING INSTRUMENT                          0.002318\n",
       "FIXED OBJECT                                      0.002181\n",
       "GLASS                                             0.001909\n",
       "SCISSORS                                          0.001772\n",
       "RIFLE                                             0.001636\n",
       "BOARD                                             0.001500\n",
       "TOY GUN                                           0.001091\n",
       "SHOTGUN                                           0.000954\n",
       "TIRE IRON                                         0.000954\n",
       "AXE                                               0.000818\n",
       "STUN GUN                                          0.000545\n",
       "BRASS KNUCKLES                                    0.000545\n",
       "SCALDING LIQUID                                   0.000409\n",
       "SWITCH BLADE                                      0.000409\n",
       "SAWED OFF RIFLE/SHOTGUN                           0.000273\n",
       "DEMAND NOTE                                       0.000273\n",
       "ICE PICK                                          0.000273\n",
       "MARTIAL ARTS WEAPONS                              0.000273\n",
       "BOWIE KNIFE                                       0.000136\n",
       "STARTER PISTOL/REVOLVER                           0.000136\n",
       "BOMB THREAT                                       0.000136\n",
       "RAZOR BLADE                                       0.000136\n",
       "CAUSTIC CHEMICAL/POISON                           0.000136\n",
       "CLEAVER                                           0.000136\n",
       "ASSAULT WEAPON/UZI/AK47/ETC                       0.000136\n",
       "HECKLER & KOCH 93 SEMIAUTOMATIC ASSAULT RIFLE     0.000136\n",
       "Name: proportion, dtype: float64"
      ]
     },
     "execution_count": 13,
     "metadata": {},
     "output_type": "execute_result"
    }
   ],
   "source": [
    "unique_values_weapon=pd.DataFrame(df['Weapon_Description'])\n",
    "unique_values_weapon.value_counts(normalize=True)"
   ]
  },
  {
   "cell_type": "code",
   "execution_count": 14,
   "id": "58269565",
   "metadata": {
    "execution": {
     "iopub.execute_input": "2024-06-28T18:24:36.630908Z",
     "iopub.status.busy": "2024-06-28T18:24:36.630502Z",
     "iopub.status.idle": "2024-06-28T18:24:36.651492Z",
     "shell.execute_reply": "2024-06-28T18:24:36.650342Z"
    },
    "papermill": {
     "duration": 0.049699,
     "end_time": "2024-06-28T18:24:36.654635",
     "exception": false,
     "start_time": "2024-06-28T18:24:36.604936",
     "status": "completed"
    },
    "tags": []
   },
   "outputs": [],
   "source": [
    "distribution = df['Weapon_Description'].dropna().value_counts(normalize=True)\n",
    "\n",
    "missing = df['Weapon_Description'].isnull().sum()\n",
    "\n",
    "imputed_values = np.random.choice(distribution.index, size=missing, p=distribution.values)\n",
    "\n",
    "# Impute the missing values\n",
    "df.loc[df['Weapon_Description'].isnull(), 'Weapon_Description'] = imputed_values\n"
   ]
  },
  {
   "cell_type": "code",
   "execution_count": 15,
   "id": "0d04e5fc",
   "metadata": {
    "execution": {
     "iopub.execute_input": "2024-06-28T18:24:36.705722Z",
     "iopub.status.busy": "2024-06-28T18:24:36.705342Z",
     "iopub.status.idle": "2024-06-28T18:24:36.724643Z",
     "shell.execute_reply": "2024-06-28T18:24:36.723495Z"
    },
    "papermill": {
     "duration": 0.047993,
     "end_time": "2024-06-28T18:24:36.727245",
     "exception": false,
     "start_time": "2024-06-28T18:24:36.679252",
     "status": "completed"
    },
    "tags": []
   },
   "outputs": [],
   "source": [
    "distribution = df['Victim_Descent'].dropna().value_counts(normalize=True)\n",
    "\n",
    "missing = df['Victim_Descent'].isnull().sum()\n",
    "\n",
    "imputed_values = np.random.choice(distribution.index, size=missing, p=distribution.values)\n",
    "\n",
    "# Impute the missing values\n",
    "df.loc[df['Victim_Descent'].isnull(), 'Victim_Descent'] = imputed_values"
   ]
  },
  {
   "cell_type": "markdown",
   "id": "e158ae13",
   "metadata": {
    "execution": {
     "iopub.execute_input": "2024-06-18T11:25:46.853966Z",
     "iopub.status.busy": "2024-06-18T11:25:46.853487Z",
     "iopub.status.idle": "2024-06-18T11:25:48.288787Z",
     "shell.execute_reply": "2024-06-18T11:25:48.287061Z",
     "shell.execute_reply.started": "2024-06-18T11:25:46.853929Z"
    },
    "papermill": {
     "duration": 0.026624,
     "end_time": "2024-06-28T18:24:36.778621",
     "exception": false,
     "start_time": "2024-06-28T18:24:36.751997",
     "status": "completed"
    },
    "tags": []
   },
   "source": [
    " df.drop('Weapon_Used_Code',inplace=True,axis=1)"
   ]
  },
  {
   "cell_type": "code",
   "execution_count": 16,
   "id": "7d66c5e3",
   "metadata": {
    "execution": {
     "iopub.execute_input": "2024-06-28T18:24:36.829958Z",
     "iopub.status.busy": "2024-06-28T18:24:36.828834Z",
     "iopub.status.idle": "2024-06-28T18:24:36.839161Z",
     "shell.execute_reply": "2024-06-28T18:24:36.837641Z"
    },
    "papermill": {
     "duration": 0.038982,
     "end_time": "2024-06-28T18:24:36.841847",
     "exception": false,
     "start_time": "2024-06-28T18:24:36.802865",
     "status": "completed"
    },
    "tags": []
   },
   "outputs": [
    {
     "name": "stderr",
     "output_type": "stream",
     "text": [
      "/tmp/ipykernel_18/3662583146.py:1: SettingWithCopyWarning: \n",
      "A value is trying to be set on a copy of a slice from a DataFrame\n",
      "\n",
      "See the caveats in the documentation: https://pandas.pydata.org/pandas-docs/stable/user_guide/indexing.html#returning-a-view-versus-a-copy\n",
      "  df.drop('Weapon_Used_Code',inplace=True,axis=1)\n"
     ]
    }
   ],
   "source": [
    "df.drop('Weapon_Used_Code',inplace=True,axis=1)\n"
   ]
  },
  {
   "cell_type": "code",
   "execution_count": 17,
   "id": "be1ae90d",
   "metadata": {
    "execution": {
     "iopub.execute_input": "2024-06-28T18:24:36.972332Z",
     "iopub.status.busy": "2024-06-28T18:24:36.971889Z",
     "iopub.status.idle": "2024-06-28T18:24:37.048187Z",
     "shell.execute_reply": "2024-06-28T18:24:37.047063Z"
    },
    "papermill": {
     "duration": 0.184011,
     "end_time": "2024-06-28T18:24:37.050927",
     "exception": false,
     "start_time": "2024-06-28T18:24:36.866916",
     "status": "completed"
    },
    "tags": []
   },
   "outputs": [],
   "source": [
    "# def number_of_activities(s):\n",
    "#     activities=[]\n",
    "#     s=str(s)\n",
    "#     a=s.split(' ')\n",
    "#     for i in a:\n",
    "#         if a not in activities:\n",
    "#             activities.append(a)\n",
    "#     return activities\n",
    "\n",
    "def number_of_activities(s):\n",
    "    if pd.isna(s):  # Handle NaN values\n",
    "        return ''\n",
    "    activities = set()  # Using a set to avoid duplicates efficiently\n",
    "    for activity in s.split(' '):\n",
    "        activities.add(str(activity))\n",
    "    activities=' '.join(activities)    \n",
    "    return activities\n",
    "df.loc[:,'Modus_Operandi']=df['Modus_Operandi'].apply(number_of_activities)\n",
    "# df.drop('Modus_Operandi',axis=1)\n",
    "# df['Modus_Operandi']=df['unique_activities']\n",
    "# df.drop('unique_activities',axis=1,inplace=True)"
   ]
  },
  {
   "cell_type": "code",
   "execution_count": 18,
   "id": "604983ea",
   "metadata": {
    "execution": {
     "iopub.execute_input": "2024-06-28T18:24:37.102434Z",
     "iopub.status.busy": "2024-06-28T18:24:37.102025Z",
     "iopub.status.idle": "2024-06-28T18:24:37.125587Z",
     "shell.execute_reply": "2024-06-28T18:24:37.124216Z"
    },
    "papermill": {
     "duration": 0.052962,
     "end_time": "2024-06-28T18:24:37.128437",
     "exception": false,
     "start_time": "2024-06-28T18:24:37.075475",
     "status": "completed"
    },
    "tags": []
   },
   "outputs": [
    {
     "name": "stderr",
     "output_type": "stream",
     "text": [
      "/tmp/ipykernel_18/3589716598.py:1: SettingWithCopyWarning: \n",
      "A value is trying to be set on a copy of a slice from a DataFrame.\n",
      "Try using .loc[row_indexer,col_indexer] = value instead\n",
      "\n",
      "See the caveats in the documentation: https://pandas.pydata.org/pandas-docs/stable/user_guide/indexing.html#returning-a-view-versus-a-copy\n",
      "  df.loc[:,'max_activity']=df['Modus_Operandi'].apply(lambda x: len(x))\n"
     ]
    }
   ],
   "source": [
    "df.loc[:,'max_activity']=df['Modus_Operandi'].apply(lambda x: len(x))"
   ]
  },
  {
   "cell_type": "code",
   "execution_count": 19,
   "id": "a1b9f6d0",
   "metadata": {
    "execution": {
     "iopub.execute_input": "2024-06-28T18:24:37.182116Z",
     "iopub.status.busy": "2024-06-28T18:24:37.180955Z",
     "iopub.status.idle": "2024-06-28T18:24:37.206153Z",
     "shell.execute_reply": "2024-06-28T18:24:37.204984Z"
    },
    "papermill": {
     "duration": 0.054386,
     "end_time": "2024-06-28T18:24:37.208930",
     "exception": false,
     "start_time": "2024-06-28T18:24:37.154544",
     "status": "completed"
    },
    "tags": []
   },
   "outputs": [],
   "source": [
    "df.loc[:,'Premise_Code']=df['Premise_Code'].apply(lambda x : int(x))"
   ]
  },
  {
   "cell_type": "code",
   "execution_count": 20,
   "id": "967f5471",
   "metadata": {
    "execution": {
     "iopub.execute_input": "2024-06-28T18:24:37.265015Z",
     "iopub.status.busy": "2024-06-28T18:24:37.264591Z",
     "iopub.status.idle": "2024-06-28T18:24:37.306656Z",
     "shell.execute_reply": "2024-06-28T18:24:37.305530Z"
    },
    "papermill": {
     "duration": 0.074927,
     "end_time": "2024-06-28T18:24:37.309500",
     "exception": false,
     "start_time": "2024-06-28T18:24:37.234573",
     "status": "completed"
    },
    "tags": []
   },
   "outputs": [],
   "source": [
    "df.loc[:,'Area_ID']=df['Area_ID'].apply(lambda x : int(x))\n",
    "df.loc[:,'Part 1-2']=df['Part 1-2'].apply(lambda x : int(x))\n"
   ]
  },
  {
   "cell_type": "code",
   "execution_count": 21,
   "id": "399250f3",
   "metadata": {
    "execution": {
     "iopub.execute_input": "2024-06-28T18:24:37.363057Z",
     "iopub.status.busy": "2024-06-28T18:24:37.362619Z",
     "iopub.status.idle": "2024-06-28T18:24:37.369577Z",
     "shell.execute_reply": "2024-06-28T18:24:37.368441Z"
    },
    "papermill": {
     "duration": 0.037499,
     "end_time": "2024-06-28T18:24:37.372231",
     "exception": false,
     "start_time": "2024-06-28T18:24:37.334732",
     "status": "completed"
    },
    "tags": []
   },
   "outputs": [],
   "source": [
    "df.loc[df['Victim_Age']<0,'Victim_Age']=0"
   ]
  },
  {
   "cell_type": "code",
   "execution_count": 22,
   "id": "e3d3ce24",
   "metadata": {
    "execution": {
     "iopub.execute_input": "2024-06-28T18:24:37.424826Z",
     "iopub.status.busy": "2024-06-28T18:24:37.423866Z",
     "iopub.status.idle": "2024-06-28T18:24:37.431384Z",
     "shell.execute_reply": "2024-06-28T18:24:37.430164Z"
    },
    "papermill": {
     "duration": 0.036514,
     "end_time": "2024-06-28T18:24:37.434179",
     "exception": false,
     "start_time": "2024-06-28T18:24:37.397665",
     "status": "completed"
    },
    "tags": []
   },
   "outputs": [],
   "source": [
    "df.loc[df['Victim_Age']==0,'Victim_Age']=df['Victim_Age'].mean()"
   ]
  },
  {
   "cell_type": "code",
   "execution_count": 23,
   "id": "220e1a6a",
   "metadata": {
    "execution": {
     "iopub.execute_input": "2024-06-28T18:24:37.485716Z",
     "iopub.status.busy": "2024-06-28T18:24:37.485267Z",
     "iopub.status.idle": "2024-06-28T18:24:37.497359Z",
     "shell.execute_reply": "2024-06-28T18:24:37.495866Z"
    },
    "papermill": {
     "duration": 0.041322,
     "end_time": "2024-06-28T18:24:37.499904",
     "exception": false,
     "start_time": "2024-06-28T18:24:37.458582",
     "status": "completed"
    },
    "tags": []
   },
   "outputs": [
    {
     "data": {
      "text/plain": [
       "Part 1-2\n",
       "1.0    11637\n",
       "2.0     8363\n",
       "Name: count, dtype: int64"
      ]
     },
     "execution_count": 23,
     "metadata": {},
     "output_type": "execute_result"
    }
   ],
   "source": [
    "df['Part 1-2'].value_counts()"
   ]
  },
  {
   "cell_type": "code",
   "execution_count": 24,
   "id": "0f588ae6",
   "metadata": {
    "execution": {
     "iopub.execute_input": "2024-06-28T18:24:37.552457Z",
     "iopub.status.busy": "2024-06-28T18:24:37.552043Z",
     "iopub.status.idle": "2024-06-28T18:24:37.576148Z",
     "shell.execute_reply": "2024-06-28T18:24:37.575067Z"
    },
    "papermill": {
     "duration": 0.054447,
     "end_time": "2024-06-28T18:24:37.579037",
     "exception": false,
     "start_time": "2024-06-28T18:24:37.524590",
     "status": "completed"
    },
    "tags": []
   },
   "outputs": [],
   "source": [
    "df.loc[:,'Part 1-2']=df['Part 1-2'].apply(lambda x: int(x))"
   ]
  },
  {
   "cell_type": "code",
   "execution_count": 25,
   "id": "1f364d34",
   "metadata": {
    "execution": {
     "iopub.execute_input": "2024-06-28T18:24:37.631625Z",
     "iopub.status.busy": "2024-06-28T18:24:37.631225Z",
     "iopub.status.idle": "2024-06-28T18:24:37.655869Z",
     "shell.execute_reply": "2024-06-28T18:24:37.654817Z"
    },
    "papermill": {
     "duration": 0.054012,
     "end_time": "2024-06-28T18:24:37.658568",
     "exception": false,
     "start_time": "2024-06-28T18:24:37.604556",
     "status": "completed"
    },
    "tags": []
   },
   "outputs": [],
   "source": [
    "df.loc[:,'Victim_Age']=df['Victim_Age'].apply(lambda x: int(x))"
   ]
  },
  {
   "cell_type": "code",
   "execution_count": 26,
   "id": "74113be7",
   "metadata": {
    "execution": {
     "iopub.execute_input": "2024-06-28T18:24:37.711113Z",
     "iopub.status.busy": "2024-06-28T18:24:37.710072Z",
     "iopub.status.idle": "2024-06-28T18:24:37.720237Z",
     "shell.execute_reply": "2024-06-28T18:24:37.718846Z"
    },
    "papermill": {
     "duration": 0.039078,
     "end_time": "2024-06-28T18:24:37.722868",
     "exception": false,
     "start_time": "2024-06-28T18:24:37.683790",
     "status": "completed"
    },
    "tags": []
   },
   "outputs": [
    {
     "name": "stderr",
     "output_type": "stream",
     "text": [
      "/tmp/ipykernel_18/876014097.py:1: SettingWithCopyWarning: \n",
      "A value is trying to be set on a copy of a slice from a DataFrame\n",
      "\n",
      "See the caveats in the documentation: https://pandas.pydata.org/pandas-docs/stable/user_guide/indexing.html#returning-a-view-versus-a-copy\n",
      "  df.drop('max_activity',axis=1,inplace=True)\n"
     ]
    }
   ],
   "source": [
    "df.drop('max_activity',axis=1,inplace=True)"
   ]
  },
  {
   "cell_type": "code",
   "execution_count": 27,
   "id": "604d739a",
   "metadata": {
    "execution": {
     "iopub.execute_input": "2024-06-28T18:24:37.775261Z",
     "iopub.status.busy": "2024-06-28T18:24:37.774257Z",
     "iopub.status.idle": "2024-06-28T18:24:37.787016Z",
     "shell.execute_reply": "2024-06-28T18:24:37.785760Z"
    },
    "papermill": {
     "duration": 0.042196,
     "end_time": "2024-06-28T18:24:37.789712",
     "exception": false,
     "start_time": "2024-06-28T18:24:37.747516",
     "status": "completed"
    },
    "tags": []
   },
   "outputs": [],
   "source": [
    "\n",
    "df.loc[df['Weapon_Description'] == 'STRONG-ARM (HANDS, FIST, FEET OR BODILY FORCE)', 'Weapon_Description'] = 'Physical Force'\n"
   ]
  },
  {
   "cell_type": "code",
   "execution_count": 28,
   "id": "b8892c9f",
   "metadata": {
    "execution": {
     "iopub.execute_input": "2024-06-28T18:24:37.842497Z",
     "iopub.status.busy": "2024-06-28T18:24:37.842082Z",
     "iopub.status.idle": "2024-06-28T18:24:37.918244Z",
     "shell.execute_reply": "2024-06-28T18:24:37.916875Z"
    },
    "papermill": {
     "duration": 0.10635,
     "end_time": "2024-06-28T18:24:37.921242",
     "exception": false,
     "start_time": "2024-06-28T18:24:37.814892",
     "status": "completed"
    },
    "tags": []
   },
   "outputs": [],
   "source": [
    "\n",
    "def gun(s):\n",
    "    t=s.replace('/',' ')\n",
    "    listt=t.split(' ' or '/')\n",
    "    gun_keywords=['gun','pistol','revolver','rifle','shotgun']\n",
    "    \n",
    "    sharp_heavy_object=['blade','stone','knife','metal','screwdriver','cleaver', 'glass','machete' ,'iron' , 'cutting','axe' ,'instrument','hammer','weapon','object','bottle','weapons','brass','scissors']\n",
    "    \n",
    "    other_weapon = ['bomb','threat', 'demand', 'poison', 'ice', 'scalding', 'board','block' ,'brick', 'stick', 'bat', 'spray']\n",
    "    \n",
    "    physical_presence=['physical','presence']\n",
    "    \n",
    "    fire=['firearm' , 'fire' ]\n",
    "\n",
    "    for i in listt:\n",
    "        if i.lower() in gun_keywords:\n",
    "            return 'Gun'\n",
    "        elif i.lower() in sharp_heavy_object:\n",
    "            return 'sharp_heavy_object'\n",
    "        \n",
    "        elif i.lower() in fire:\n",
    "            return 'fire'\n",
    "        elif i.lower() in other_weapon:\n",
    "            return 'other_weapon'\n",
    "        elif i.lower() in physical_presence:\n",
    "            return 'Physical Force'\n",
    "        \n",
    "    return s\n",
    "    \n",
    "\n",
    "\n",
    "\n",
    "df.loc[:,'Weapon_Description']=df['Weapon_Description'].apply(gun)"
   ]
  },
  {
   "cell_type": "code",
   "execution_count": 29,
   "id": "fa174ea2",
   "metadata": {
    "execution": {
     "iopub.execute_input": "2024-06-28T18:24:37.973674Z",
     "iopub.status.busy": "2024-06-28T18:24:37.973256Z",
     "iopub.status.idle": "2024-06-28T18:24:37.981860Z",
     "shell.execute_reply": "2024-06-28T18:24:37.980729Z"
    },
    "papermill": {
     "duration": 0.037858,
     "end_time": "2024-06-28T18:24:37.984307",
     "exception": false,
     "start_time": "2024-06-28T18:24:37.946449",
     "status": "completed"
    },
    "tags": []
   },
   "outputs": [
    {
     "data": {
      "text/plain": [
       "217"
      ]
     },
     "execution_count": 29,
     "metadata": {},
     "output_type": "execute_result"
    }
   ],
   "source": [
    "len(df['Premise_Code'].value_counts())"
   ]
  },
  {
   "cell_type": "code",
   "execution_count": 30,
   "id": "fc6cfcdb",
   "metadata": {
    "execution": {
     "iopub.execute_input": "2024-06-28T18:24:38.037517Z",
     "iopub.status.busy": "2024-06-28T18:24:38.037095Z",
     "iopub.status.idle": "2024-06-28T18:24:38.046154Z",
     "shell.execute_reply": "2024-06-28T18:24:38.044810Z"
    },
    "papermill": {
     "duration": 0.039073,
     "end_time": "2024-06-28T18:24:38.048787",
     "exception": false,
     "start_time": "2024-06-28T18:24:38.009714",
     "status": "completed"
    },
    "tags": []
   },
   "outputs": [
    {
     "data": {
      "text/plain": [
       "21"
      ]
     },
     "execution_count": 30,
     "metadata": {},
     "output_type": "execute_result"
    }
   ],
   "source": [
    "len(df['Area_ID'].value_counts())"
   ]
  },
  {
   "cell_type": "code",
   "execution_count": 31,
   "id": "4e6e5f83",
   "metadata": {
    "execution": {
     "iopub.execute_input": "2024-06-28T18:24:38.104054Z",
     "iopub.status.busy": "2024-06-28T18:24:38.103620Z",
     "iopub.status.idle": "2024-06-28T18:24:38.109844Z",
     "shell.execute_reply": "2024-06-28T18:24:38.108254Z"
    },
    "papermill": {
     "duration": 0.037317,
     "end_time": "2024-06-28T18:24:38.112714",
     "exception": false,
     "start_time": "2024-06-28T18:24:38.075397",
     "status": "completed"
    },
    "tags": []
   },
   "outputs": [],
   "source": [
    "numeric_columns=[['Latitude','Longitude','reporting_delay_day_count','Victim_Age']]\n",
    "categorical_columns=[['day_category','Victim_Sex','Victim_Descent','Premise_Code','Area_ID','Part 1-2','Status']] #ohe\n",
    "multilabel_binarizer=[['Modus_Operandi']] \n"
   ]
  },
  {
   "cell_type": "code",
   "execution_count": 32,
   "id": "f69b801a",
   "metadata": {
    "execution": {
     "iopub.execute_input": "2024-06-28T18:24:38.166086Z",
     "iopub.status.busy": "2024-06-28T18:24:38.165615Z",
     "iopub.status.idle": "2024-06-28T18:24:38.175095Z",
     "shell.execute_reply": "2024-06-28T18:24:38.173874Z"
    },
    "papermill": {
     "duration": 0.039401,
     "end_time": "2024-06-28T18:24:38.177955",
     "exception": false,
     "start_time": "2024-06-28T18:24:38.138554",
     "status": "completed"
    },
    "tags": []
   },
   "outputs": [
    {
     "name": "stderr",
     "output_type": "stream",
     "text": [
      "/tmp/ipykernel_18/448365884.py:3: SettingWithCopyWarning: \n",
      "A value is trying to be set on a copy of a slice from a DataFrame\n",
      "\n",
      "See the caveats in the documentation: https://pandas.pydata.org/pandas-docs/stable/user_guide/indexing.html#returning-a-view-versus-a-copy\n",
      "  df.drop('Crime_Category',axis=1,inplace=True)\n"
     ]
    }
   ],
   "source": [
    "y=df['Crime_Category']\n",
    "\n",
    "df.drop('Crime_Category',axis=1,inplace=True)"
   ]
  },
  {
   "cell_type": "code",
   "execution_count": 33,
   "id": "341a8d4a",
   "metadata": {
    "execution": {
     "iopub.execute_input": "2024-06-28T18:24:38.233062Z",
     "iopub.status.busy": "2024-06-28T18:24:38.232603Z",
     "iopub.status.idle": "2024-06-28T18:24:38.242268Z",
     "shell.execute_reply": "2024-06-28T18:24:38.241049Z"
    },
    "papermill": {
     "duration": 0.040368,
     "end_time": "2024-06-28T18:24:38.245304",
     "exception": false,
     "start_time": "2024-06-28T18:24:38.204936",
     "status": "completed"
    },
    "tags": []
   },
   "outputs": [
    {
     "name": "stderr",
     "output_type": "stream",
     "text": [
      "/tmp/ipykernel_18/1308723833.py:1: SettingWithCopyWarning: \n",
      "A value is trying to be set on a copy of a slice from a DataFrame\n",
      "\n",
      "See the caveats in the documentation: https://pandas.pydata.org/pandas-docs/stable/user_guide/indexing.html#returning-a-view-versus-a-copy\n",
      "  df.drop('Premise_Code',axis=1,inplace=True)\n"
     ]
    }
   ],
   "source": [
    "df.drop('Premise_Code',axis=1,inplace=True)"
   ]
  },
  {
   "cell_type": "code",
   "execution_count": 34,
   "id": "81120cce",
   "metadata": {
    "execution": {
     "iopub.execute_input": "2024-06-28T18:24:38.301038Z",
     "iopub.status.busy": "2024-06-28T18:24:38.299890Z",
     "iopub.status.idle": "2024-06-28T18:24:38.342586Z",
     "shell.execute_reply": "2024-06-28T18:24:38.341452Z"
    },
    "papermill": {
     "duration": 0.073987,
     "end_time": "2024-06-28T18:24:38.345534",
     "exception": false,
     "start_time": "2024-06-28T18:24:38.271547",
     "status": "completed"
    },
    "tags": []
   },
   "outputs": [],
   "source": [
    "from sklearn.model_selection import train_test_split\n",
    "\n",
    "xtrain, xtest ,ytrain , ytest= train_test_split(df , y , test_size=0.2 , random_state=42 , shuffle=True ,stratify = y  )"
   ]
  },
  {
   "cell_type": "code",
   "execution_count": 35,
   "id": "ab3908d7",
   "metadata": {
    "execution": {
     "iopub.execute_input": "2024-06-28T18:24:38.399551Z",
     "iopub.status.busy": "2024-06-28T18:24:38.399133Z",
     "iopub.status.idle": "2024-06-28T18:24:38.405511Z",
     "shell.execute_reply": "2024-06-28T18:24:38.404379Z"
    },
    "papermill": {
     "duration": 0.035918,
     "end_time": "2024-06-28T18:24:38.408265",
     "exception": false,
     "start_time": "2024-06-28T18:24:38.372347",
     "status": "completed"
    },
    "tags": []
   },
   "outputs": [
    {
     "name": "stdout",
     "output_type": "stream",
     "text": [
      "(16000, 12)\n",
      "(16000,)\n",
      "(4000, 12)\n",
      "(4000,)\n"
     ]
    }
   ],
   "source": [
    "print(xtrain.shape) \n",
    "print(ytrain.shape)\n",
    "print(xtest.shape)\n",
    "print(ytest.shape)"
   ]
  },
  {
   "cell_type": "code",
   "execution_count": 36,
   "id": "e60493f6",
   "metadata": {
    "execution": {
     "iopub.execute_input": "2024-06-28T18:24:38.461697Z",
     "iopub.status.busy": "2024-06-28T18:24:38.461311Z",
     "iopub.status.idle": "2024-06-28T18:24:38.541059Z",
     "shell.execute_reply": "2024-06-28T18:24:38.539750Z"
    },
    "papermill": {
     "duration": 0.109742,
     "end_time": "2024-06-28T18:24:38.543755",
     "exception": false,
     "start_time": "2024-06-28T18:24:38.434013",
     "status": "completed"
    },
    "tags": []
   },
   "outputs": [
    {
     "name": "stdout",
     "output_type": "stream",
     "text": [
      "Dummy train score 0.5833125\n",
      "Dummy predicted train score 1.0\n",
      "Dummy test score 0.58325\n",
      "Dummy predicted test score 1.0\n"
     ]
    }
   ],
   "source": [
    "from sklearn.dummy import DummyClassifier\n",
    "\n",
    "dummy_clf=DummyClassifier(random_state=42 , strategy=\"most_frequent\")\n",
    "dummy_clf.fit(xtrain, ytrain)\n",
    "print('Dummy train score', dummy_clf.score(ytrain,ytrain))\n",
    "print('Dummy predicted train score', dummy_clf.score(xtrain,dummy_clf.predict(xtrain)))\n",
    "\n",
    "print('Dummy test score', dummy_clf.score(xtest, ytest))\n",
    "\n",
    "print('Dummy predicted test score', dummy_clf.score(xtest, dummy_clf.predict(xtest)))"
   ]
  },
  {
   "cell_type": "markdown",
   "id": "bea22f64",
   "metadata": {
    "papermill": {
     "duration": 0.025073,
     "end_time": "2024-06-28T18:24:38.596409",
     "exception": false,
     "start_time": "2024-06-28T18:24:38.571336",
     "status": "completed"
    },
    "tags": []
   },
   "source": [
    "Logistic "
   ]
  },
  {
   "cell_type": "code",
   "execution_count": 37,
   "id": "fafc349b",
   "metadata": {
    "execution": {
     "iopub.execute_input": "2024-06-28T18:24:38.652644Z",
     "iopub.status.busy": "2024-06-28T18:24:38.652250Z",
     "iopub.status.idle": "2024-06-28T18:24:38.683631Z",
     "shell.execute_reply": "2024-06-28T18:24:38.682157Z"
    },
    "papermill": {
     "duration": 0.063152,
     "end_time": "2024-06-28T18:24:38.687001",
     "exception": false,
     "start_time": "2024-06-28T18:24:38.623849",
     "status": "completed"
    },
    "tags": []
   },
   "outputs": [
    {
     "name": "stdout",
     "output_type": "stream",
     "text": [
      "<class 'pandas.core.frame.DataFrame'>\n",
      "RangeIndex: 20000 entries, 0 to 19999\n",
      "Data columns (total 12 columns):\n",
      " #   Column                     Non-Null Count  Dtype  \n",
      "---  ------                     --------------  -----  \n",
      " 0   Latitude                   20000 non-null  float64\n",
      " 1   Longitude                  20000 non-null  float64\n",
      " 2   reporting_delay_day_count  20000 non-null  int64  \n",
      " 3   day_category               20000 non-null  object \n",
      " 4   Victim_Age                 20000 non-null  float64\n",
      " 5   Victim_Sex                 20000 non-null  object \n",
      " 6   Victim_Descent             20000 non-null  object \n",
      " 7   Weapon_Description         20000 non-null  object \n",
      " 8   Area_ID                    20000 non-null  float64\n",
      " 9   Modus_Operandi             20000 non-null  object \n",
      " 10  Part 1-2                   20000 non-null  float64\n",
      " 11  Status                     20000 non-null  object \n",
      "dtypes: float64(5), int64(1), object(6)\n",
      "memory usage: 1.8+ MB\n"
     ]
    }
   ],
   "source": [
    "df.info()"
   ]
  },
  {
   "cell_type": "code",
   "execution_count": 38,
   "id": "fc9f0b65",
   "metadata": {
    "execution": {
     "iopub.execute_input": "2024-06-28T18:24:38.741039Z",
     "iopub.status.busy": "2024-06-28T18:24:38.740586Z",
     "iopub.status.idle": "2024-06-28T18:24:38.861683Z",
     "shell.execute_reply": "2024-06-28T18:24:38.860365Z"
    },
    "papermill": {
     "duration": 0.153317,
     "end_time": "2024-06-28T18:24:38.866099",
     "exception": false,
     "start_time": "2024-06-28T18:24:38.712782",
     "status": "completed"
    },
    "tags": []
   },
   "outputs": [],
   "source": [
    "from sklearn.linear_model import LogisticRegression,LogisticRegressionCV\n",
    "from sklearn.pipeline import Pipeline\n",
    "from sklearn.compose import ColumnTransformer"
   ]
  },
  {
   "cell_type": "code",
   "execution_count": 39,
   "id": "27e0193f",
   "metadata": {
    "execution": {
     "iopub.execute_input": "2024-06-28T18:24:38.922443Z",
     "iopub.status.busy": "2024-06-28T18:24:38.920890Z",
     "iopub.status.idle": "2024-06-28T18:24:38.929488Z",
     "shell.execute_reply": "2024-06-28T18:24:38.928382Z"
    },
    "papermill": {
     "duration": 0.039474,
     "end_time": "2024-06-28T18:24:38.932131",
     "exception": false,
     "start_time": "2024-06-28T18:24:38.892657",
     "status": "completed"
    },
    "tags": []
   },
   "outputs": [],
   "source": [
    "from sklearn.base import BaseEstimator, TransformerMixin\n",
    "from sklearn.preprocessing import MultiLabelBinarizer\n",
    "\n",
    "class MultiLabelBinarizerWrapper(BaseEstimator, TransformerMixin):\n",
    "    def __init__(self):\n",
    "        self.mlb = MultiLabelBinarizer()\n",
    "\n",
    "    def fit(self, X, y=None):\n",
    "        self.mlb.fit(X)\n",
    "        return self\n",
    "\n",
    "    def transform(self, X):\n",
    "        return self.mlb.transform(X)"
   ]
  },
  {
   "cell_type": "code",
   "execution_count": 40,
   "id": "ff6be5d0",
   "metadata": {
    "execution": {
     "iopub.execute_input": "2024-06-28T18:24:38.985981Z",
     "iopub.status.busy": "2024-06-28T18:24:38.985555Z",
     "iopub.status.idle": "2024-06-28T18:24:39.007427Z",
     "shell.execute_reply": "2024-06-28T18:24:39.006240Z"
    },
    "papermill": {
     "duration": 0.052133,
     "end_time": "2024-06-28T18:24:39.010640",
     "exception": false,
     "start_time": "2024-06-28T18:24:38.958507",
     "status": "completed"
    },
    "tags": []
   },
   "outputs": [],
   "source": [
    "\n",
    "from sklearn.preprocessing import StandardScaler , OneHotEncoder  , MultiLabelBinarizer\n",
    "from sklearn.feature_extraction.text import CountVectorizer\n",
    "ct=ColumnTransformer(transformers=[\n",
    "    \n",
    "    ('numerical_cols' , StandardScaler(),['Latitude','Longitude','reporting_delay_day_count','Victim_Age']),\n",
    "    ('categorical_cols' , OneHotEncoder(handle_unknown='ignore'),['day_category','Victim_Sex','Victim_Descent','Part 1-2','Area_ID','Status','Weapon_Description']),\n",
    "    ('multi_label_binarizer', MultiLabelBinarizerWrapper(), 'Modus_Operandi')\n",
    "])\n",
    "    "
   ]
  },
  {
   "cell_type": "code",
   "execution_count": 41,
   "id": "9053af7b",
   "metadata": {
    "execution": {
     "iopub.execute_input": "2024-06-28T18:24:39.068304Z",
     "iopub.status.busy": "2024-06-28T18:24:39.067858Z",
     "iopub.status.idle": "2024-06-28T18:24:39.077514Z",
     "shell.execute_reply": "2024-06-28T18:24:39.076267Z"
    },
    "papermill": {
     "duration": 0.040928,
     "end_time": "2024-06-28T18:24:39.080198",
     "exception": false,
     "start_time": "2024-06-28T18:24:39.039270",
     "status": "completed"
    },
    "tags": []
   },
   "outputs": [
    {
     "data": {
      "text/plain": [
       "21"
      ]
     },
     "execution_count": 41,
     "metadata": {},
     "output_type": "execute_result"
    }
   ],
   "source": [
    "len(df['Area_ID'].value_counts())"
   ]
  },
  {
   "cell_type": "code",
   "execution_count": 42,
   "id": "3aec8e83",
   "metadata": {
    "execution": {
     "iopub.execute_input": "2024-06-28T18:24:39.135775Z",
     "iopub.status.busy": "2024-06-28T18:24:39.135387Z",
     "iopub.status.idle": "2024-06-28T18:24:39.141407Z",
     "shell.execute_reply": "2024-06-28T18:24:39.140069Z"
    },
    "papermill": {
     "duration": 0.036629,
     "end_time": "2024-06-28T18:24:39.143954",
     "exception": false,
     "start_time": "2024-06-28T18:24:39.107325",
     "status": "completed"
    },
    "tags": []
   },
   "outputs": [],
   "source": [
    "pipe_logistic = Pipeline(steps=[('ct',ct),('logistic_reg',LogisticRegression(solver='saga',C=0.1,warm_start=True, max_iter=1500 ,random_state=42))])"
   ]
  },
  {
   "cell_type": "code",
   "execution_count": 43,
   "id": "1970a1fd",
   "metadata": {
    "execution": {
     "iopub.execute_input": "2024-06-28T18:24:39.201748Z",
     "iopub.status.busy": "2024-06-28T18:24:39.200625Z",
     "iopub.status.idle": "2024-06-28T18:24:39.206047Z",
     "shell.execute_reply": "2024-06-28T18:24:39.204841Z"
    },
    "papermill": {
     "duration": 0.038128,
     "end_time": "2024-06-28T18:24:39.208892",
     "exception": false,
     "start_time": "2024-06-28T18:24:39.170764",
     "status": "completed"
    },
    "tags": []
   },
   "outputs": [],
   "source": [
    "# pipe_logistic_sag = Pipeline(steps=[('ct',ct),('logistic_reg',LogisticRegressionCV(solver='sag',penalty='l2',multi_class='ovr', max_iter=2000 ,random_state=42))])\n",
    "\n",
    "# pipe_logistic_sag.fit(xtrain,ytrain)\n",
    "\n",
    "# pipe_logistic_sag.score(xtest,ytest)"
   ]
  },
  {
   "cell_type": "code",
   "execution_count": 44,
   "id": "7b57aae7",
   "metadata": {
    "execution": {
     "iopub.execute_input": "2024-06-28T18:24:39.263153Z",
     "iopub.status.busy": "2024-06-28T18:24:39.262709Z",
     "iopub.status.idle": "2024-06-28T18:24:59.284200Z",
     "shell.execute_reply": "2024-06-28T18:24:59.282891Z"
    },
    "papermill": {
     "duration": 20.051779,
     "end_time": "2024-06-28T18:24:59.286958",
     "exception": false,
     "start_time": "2024-06-28T18:24:39.235179",
     "status": "completed"
    },
    "tags": []
   },
   "outputs": [
    {
     "data": {
      "text/html": [
       "<style>#sk-container-id-1 {color: black;background-color: white;}#sk-container-id-1 pre{padding: 0;}#sk-container-id-1 div.sk-toggleable {background-color: white;}#sk-container-id-1 label.sk-toggleable__label {cursor: pointer;display: block;width: 100%;margin-bottom: 0;padding: 0.3em;box-sizing: border-box;text-align: center;}#sk-container-id-1 label.sk-toggleable__label-arrow:before {content: \"▸\";float: left;margin-right: 0.25em;color: #696969;}#sk-container-id-1 label.sk-toggleable__label-arrow:hover:before {color: black;}#sk-container-id-1 div.sk-estimator:hover label.sk-toggleable__label-arrow:before {color: black;}#sk-container-id-1 div.sk-toggleable__content {max-height: 0;max-width: 0;overflow: hidden;text-align: left;background-color: #f0f8ff;}#sk-container-id-1 div.sk-toggleable__content pre {margin: 0.2em;color: black;border-radius: 0.25em;background-color: #f0f8ff;}#sk-container-id-1 input.sk-toggleable__control:checked~div.sk-toggleable__content {max-height: 200px;max-width: 100%;overflow: auto;}#sk-container-id-1 input.sk-toggleable__control:checked~label.sk-toggleable__label-arrow:before {content: \"▾\";}#sk-container-id-1 div.sk-estimator input.sk-toggleable__control:checked~label.sk-toggleable__label {background-color: #d4ebff;}#sk-container-id-1 div.sk-label input.sk-toggleable__control:checked~label.sk-toggleable__label {background-color: #d4ebff;}#sk-container-id-1 input.sk-hidden--visually {border: 0;clip: rect(1px 1px 1px 1px);clip: rect(1px, 1px, 1px, 1px);height: 1px;margin: -1px;overflow: hidden;padding: 0;position: absolute;width: 1px;}#sk-container-id-1 div.sk-estimator {font-family: monospace;background-color: #f0f8ff;border: 1px dotted black;border-radius: 0.25em;box-sizing: border-box;margin-bottom: 0.5em;}#sk-container-id-1 div.sk-estimator:hover {background-color: #d4ebff;}#sk-container-id-1 div.sk-parallel-item::after {content: \"\";width: 100%;border-bottom: 1px solid gray;flex-grow: 1;}#sk-container-id-1 div.sk-label:hover label.sk-toggleable__label {background-color: #d4ebff;}#sk-container-id-1 div.sk-serial::before {content: \"\";position: absolute;border-left: 1px solid gray;box-sizing: border-box;top: 0;bottom: 0;left: 50%;z-index: 0;}#sk-container-id-1 div.sk-serial {display: flex;flex-direction: column;align-items: center;background-color: white;padding-right: 0.2em;padding-left: 0.2em;position: relative;}#sk-container-id-1 div.sk-item {position: relative;z-index: 1;}#sk-container-id-1 div.sk-parallel {display: flex;align-items: stretch;justify-content: center;background-color: white;position: relative;}#sk-container-id-1 div.sk-item::before, #sk-container-id-1 div.sk-parallel-item::before {content: \"\";position: absolute;border-left: 1px solid gray;box-sizing: border-box;top: 0;bottom: 0;left: 50%;z-index: -1;}#sk-container-id-1 div.sk-parallel-item {display: flex;flex-direction: column;z-index: 1;position: relative;background-color: white;}#sk-container-id-1 div.sk-parallel-item:first-child::after {align-self: flex-end;width: 50%;}#sk-container-id-1 div.sk-parallel-item:last-child::after {align-self: flex-start;width: 50%;}#sk-container-id-1 div.sk-parallel-item:only-child::after {width: 0;}#sk-container-id-1 div.sk-dashed-wrapped {border: 1px dashed gray;margin: 0 0.4em 0.5em 0.4em;box-sizing: border-box;padding-bottom: 0.4em;background-color: white;}#sk-container-id-1 div.sk-label label {font-family: monospace;font-weight: bold;display: inline-block;line-height: 1.2em;}#sk-container-id-1 div.sk-label-container {text-align: center;}#sk-container-id-1 div.sk-container {/* jupyter's `normalize.less` sets `[hidden] { display: none; }` but bootstrap.min.css set `[hidden] { display: none !important; }` so we also need the `!important` here to be able to override the default hidden behavior on the sphinx rendered scikit-learn.org. See: https://github.com/scikit-learn/scikit-learn/issues/21755 */display: inline-block !important;position: relative;}#sk-container-id-1 div.sk-text-repr-fallback {display: none;}</style><div id=\"sk-container-id-1\" class=\"sk-top-container\"><div class=\"sk-text-repr-fallback\"><pre>Pipeline(steps=[(&#x27;ct&#x27;,\n",
       "                 ColumnTransformer(transformers=[(&#x27;numerical_cols&#x27;,\n",
       "                                                  StandardScaler(),\n",
       "                                                  [&#x27;Latitude&#x27;, &#x27;Longitude&#x27;,\n",
       "                                                   &#x27;reporting_delay_day_count&#x27;,\n",
       "                                                   &#x27;Victim_Age&#x27;]),\n",
       "                                                 (&#x27;categorical_cols&#x27;,\n",
       "                                                  OneHotEncoder(handle_unknown=&#x27;ignore&#x27;),\n",
       "                                                  [&#x27;day_category&#x27;, &#x27;Victim_Sex&#x27;,\n",
       "                                                   &#x27;Victim_Descent&#x27;, &#x27;Part 1-2&#x27;,\n",
       "                                                   &#x27;Area_ID&#x27;, &#x27;Status&#x27;,\n",
       "                                                   &#x27;Weapon_Description&#x27;]),\n",
       "                                                 (&#x27;multi_label_binarizer&#x27;,\n",
       "                                                  MultiLabelBinarizerWrapper(),\n",
       "                                                  &#x27;Modus_Operandi&#x27;)])),\n",
       "                (&#x27;logistic_reg&#x27;,\n",
       "                 LogisticRegression(C=0.1, max_iter=1500, random_state=42,\n",
       "                                    solver=&#x27;saga&#x27;, warm_start=True))])</pre><b>In a Jupyter environment, please rerun this cell to show the HTML representation or trust the notebook. <br />On GitHub, the HTML representation is unable to render, please try loading this page with nbviewer.org.</b></div><div class=\"sk-container\" hidden><div class=\"sk-item sk-dashed-wrapped\"><div class=\"sk-label-container\"><div class=\"sk-label sk-toggleable\"><input class=\"sk-toggleable__control sk-hidden--visually\" id=\"sk-estimator-id-1\" type=\"checkbox\" ><label for=\"sk-estimator-id-1\" class=\"sk-toggleable__label sk-toggleable__label-arrow\">Pipeline</label><div class=\"sk-toggleable__content\"><pre>Pipeline(steps=[(&#x27;ct&#x27;,\n",
       "                 ColumnTransformer(transformers=[(&#x27;numerical_cols&#x27;,\n",
       "                                                  StandardScaler(),\n",
       "                                                  [&#x27;Latitude&#x27;, &#x27;Longitude&#x27;,\n",
       "                                                   &#x27;reporting_delay_day_count&#x27;,\n",
       "                                                   &#x27;Victim_Age&#x27;]),\n",
       "                                                 (&#x27;categorical_cols&#x27;,\n",
       "                                                  OneHotEncoder(handle_unknown=&#x27;ignore&#x27;),\n",
       "                                                  [&#x27;day_category&#x27;, &#x27;Victim_Sex&#x27;,\n",
       "                                                   &#x27;Victim_Descent&#x27;, &#x27;Part 1-2&#x27;,\n",
       "                                                   &#x27;Area_ID&#x27;, &#x27;Status&#x27;,\n",
       "                                                   &#x27;Weapon_Description&#x27;]),\n",
       "                                                 (&#x27;multi_label_binarizer&#x27;,\n",
       "                                                  MultiLabelBinarizerWrapper(),\n",
       "                                                  &#x27;Modus_Operandi&#x27;)])),\n",
       "                (&#x27;logistic_reg&#x27;,\n",
       "                 LogisticRegression(C=0.1, max_iter=1500, random_state=42,\n",
       "                                    solver=&#x27;saga&#x27;, warm_start=True))])</pre></div></div></div><div class=\"sk-serial\"><div class=\"sk-item sk-dashed-wrapped\"><div class=\"sk-label-container\"><div class=\"sk-label sk-toggleable\"><input class=\"sk-toggleable__control sk-hidden--visually\" id=\"sk-estimator-id-2\" type=\"checkbox\" ><label for=\"sk-estimator-id-2\" class=\"sk-toggleable__label sk-toggleable__label-arrow\">ct: ColumnTransformer</label><div class=\"sk-toggleable__content\"><pre>ColumnTransformer(transformers=[(&#x27;numerical_cols&#x27;, StandardScaler(),\n",
       "                                 [&#x27;Latitude&#x27;, &#x27;Longitude&#x27;,\n",
       "                                  &#x27;reporting_delay_day_count&#x27;, &#x27;Victim_Age&#x27;]),\n",
       "                                (&#x27;categorical_cols&#x27;,\n",
       "                                 OneHotEncoder(handle_unknown=&#x27;ignore&#x27;),\n",
       "                                 [&#x27;day_category&#x27;, &#x27;Victim_Sex&#x27;,\n",
       "                                  &#x27;Victim_Descent&#x27;, &#x27;Part 1-2&#x27;, &#x27;Area_ID&#x27;,\n",
       "                                  &#x27;Status&#x27;, &#x27;Weapon_Description&#x27;]),\n",
       "                                (&#x27;multi_label_binarizer&#x27;,\n",
       "                                 MultiLabelBinarizerWrapper(),\n",
       "                                 &#x27;Modus_Operandi&#x27;)])</pre></div></div></div><div class=\"sk-parallel\"><div class=\"sk-parallel-item\"><div class=\"sk-item\"><div class=\"sk-label-container\"><div class=\"sk-label sk-toggleable\"><input class=\"sk-toggleable__control sk-hidden--visually\" id=\"sk-estimator-id-3\" type=\"checkbox\" ><label for=\"sk-estimator-id-3\" class=\"sk-toggleable__label sk-toggleable__label-arrow\">numerical_cols</label><div class=\"sk-toggleable__content\"><pre>[&#x27;Latitude&#x27;, &#x27;Longitude&#x27;, &#x27;reporting_delay_day_count&#x27;, &#x27;Victim_Age&#x27;]</pre></div></div></div><div class=\"sk-serial\"><div class=\"sk-item\"><div class=\"sk-estimator sk-toggleable\"><input class=\"sk-toggleable__control sk-hidden--visually\" id=\"sk-estimator-id-4\" type=\"checkbox\" ><label for=\"sk-estimator-id-4\" class=\"sk-toggleable__label sk-toggleable__label-arrow\">StandardScaler</label><div class=\"sk-toggleable__content\"><pre>StandardScaler()</pre></div></div></div></div></div></div><div class=\"sk-parallel-item\"><div class=\"sk-item\"><div class=\"sk-label-container\"><div class=\"sk-label sk-toggleable\"><input class=\"sk-toggleable__control sk-hidden--visually\" id=\"sk-estimator-id-5\" type=\"checkbox\" ><label for=\"sk-estimator-id-5\" class=\"sk-toggleable__label sk-toggleable__label-arrow\">categorical_cols</label><div class=\"sk-toggleable__content\"><pre>[&#x27;day_category&#x27;, &#x27;Victim_Sex&#x27;, &#x27;Victim_Descent&#x27;, &#x27;Part 1-2&#x27;, &#x27;Area_ID&#x27;, &#x27;Status&#x27;, &#x27;Weapon_Description&#x27;]</pre></div></div></div><div class=\"sk-serial\"><div class=\"sk-item\"><div class=\"sk-estimator sk-toggleable\"><input class=\"sk-toggleable__control sk-hidden--visually\" id=\"sk-estimator-id-6\" type=\"checkbox\" ><label for=\"sk-estimator-id-6\" class=\"sk-toggleable__label sk-toggleable__label-arrow\">OneHotEncoder</label><div class=\"sk-toggleable__content\"><pre>OneHotEncoder(handle_unknown=&#x27;ignore&#x27;)</pre></div></div></div></div></div></div><div class=\"sk-parallel-item\"><div class=\"sk-item\"><div class=\"sk-label-container\"><div class=\"sk-label sk-toggleable\"><input class=\"sk-toggleable__control sk-hidden--visually\" id=\"sk-estimator-id-7\" type=\"checkbox\" ><label for=\"sk-estimator-id-7\" class=\"sk-toggleable__label sk-toggleable__label-arrow\">multi_label_binarizer</label><div class=\"sk-toggleable__content\"><pre>Modus_Operandi</pre></div></div></div><div class=\"sk-serial\"><div class=\"sk-item\"><div class=\"sk-estimator sk-toggleable\"><input class=\"sk-toggleable__control sk-hidden--visually\" id=\"sk-estimator-id-8\" type=\"checkbox\" ><label for=\"sk-estimator-id-8\" class=\"sk-toggleable__label sk-toggleable__label-arrow\">MultiLabelBinarizerWrapper</label><div class=\"sk-toggleable__content\"><pre>MultiLabelBinarizerWrapper()</pre></div></div></div></div></div></div></div></div><div class=\"sk-item\"><div class=\"sk-estimator sk-toggleable\"><input class=\"sk-toggleable__control sk-hidden--visually\" id=\"sk-estimator-id-9\" type=\"checkbox\" ><label for=\"sk-estimator-id-9\" class=\"sk-toggleable__label sk-toggleable__label-arrow\">LogisticRegression</label><div class=\"sk-toggleable__content\"><pre>LogisticRegression(C=0.1, max_iter=1500, random_state=42, solver=&#x27;saga&#x27;,\n",
       "                   warm_start=True)</pre></div></div></div></div></div></div></div>"
      ],
      "text/plain": [
       "Pipeline(steps=[('ct',\n",
       "                 ColumnTransformer(transformers=[('numerical_cols',\n",
       "                                                  StandardScaler(),\n",
       "                                                  ['Latitude', 'Longitude',\n",
       "                                                   'reporting_delay_day_count',\n",
       "                                                   'Victim_Age']),\n",
       "                                                 ('categorical_cols',\n",
       "                                                  OneHotEncoder(handle_unknown='ignore'),\n",
       "                                                  ['day_category', 'Victim_Sex',\n",
       "                                                   'Victim_Descent', 'Part 1-2',\n",
       "                                                   'Area_ID', 'Status',\n",
       "                                                   'Weapon_Description']),\n",
       "                                                 ('multi_label_binarizer',\n",
       "                                                  MultiLabelBinarizerWrapper(),\n",
       "                                                  'Modus_Operandi')])),\n",
       "                ('logistic_reg',\n",
       "                 LogisticRegression(C=0.1, max_iter=1500, random_state=42,\n",
       "                                    solver='saga', warm_start=True))])"
      ]
     },
     "execution_count": 44,
     "metadata": {},
     "output_type": "execute_result"
    }
   ],
   "source": [
    "pipe_logistic.fit(xtrain,ytrain)"
   ]
  },
  {
   "cell_type": "code",
   "execution_count": 45,
   "id": "bbe8bbe7",
   "metadata": {
    "execution": {
     "iopub.execute_input": "2024-06-28T18:24:59.344574Z",
     "iopub.status.busy": "2024-06-28T18:24:59.343650Z",
     "iopub.status.idle": "2024-06-28T18:24:59.413603Z",
     "shell.execute_reply": "2024-06-28T18:24:59.412284Z"
    },
    "papermill": {
     "duration": 0.103399,
     "end_time": "2024-06-28T18:24:59.418202",
     "exception": false,
     "start_time": "2024-06-28T18:24:59.314803",
     "status": "completed"
    },
    "tags": []
   },
   "outputs": [
    {
     "data": {
      "text/plain": [
       "0.8115"
      ]
     },
     "execution_count": 45,
     "metadata": {},
     "output_type": "execute_result"
    }
   ],
   "source": [
    "pipe_logistic.score(xtest,ytest)"
   ]
  },
  {
   "cell_type": "code",
   "execution_count": 46,
   "id": "44fe6b0c",
   "metadata": {
    "execution": {
     "iopub.execute_input": "2024-06-28T18:24:59.526936Z",
     "iopub.status.busy": "2024-06-28T18:24:59.526473Z",
     "iopub.status.idle": "2024-06-28T18:24:59.531793Z",
     "shell.execute_reply": "2024-06-28T18:24:59.530642Z"
    },
    "papermill": {
     "duration": 0.056107,
     "end_time": "2024-06-28T18:24:59.534510",
     "exception": false,
     "start_time": "2024-06-28T18:24:59.478403",
     "status": "completed"
    },
    "tags": []
   },
   "outputs": [],
   "source": [
    "# from sklearn.metrics import make_scorer ,f1_score\n",
    "# logCV_scorer=make_scorer(f1_score , average='auto')\n",
    "# pipe_logistic_multiclass = Pipeline(steps=[('ct',ct),('logistic_reg',LogisticRegressionCV(cv=3,penalty='l2',solver='saga',multi_class='multinomial',Cs=[0.1, 0.5, 1] ,max_iter=3000 ,random_state=42))])\n",
    "\n",
    "# pipe_logistic_multiclass.fit(xtrain,ytrain)\n",
    "# pipe_logistic_multiclass.score(xtrain,ytrain)\n",
    "\n",
    "# pipe_logistic_multiclass.score(xtest,ytest)\n",
    "\n",
    "\n",
    "\n",
    "\n",
    "# # 0.81175\n"
   ]
  },
  {
   "cell_type": "code",
   "execution_count": 47,
   "id": "a5e444db",
   "metadata": {
    "execution": {
     "iopub.execute_input": "2024-06-28T18:24:59.591717Z",
     "iopub.status.busy": "2024-06-28T18:24:59.591274Z",
     "iopub.status.idle": "2024-06-28T18:24:59.597466Z",
     "shell.execute_reply": "2024-06-28T18:24:59.596182Z"
    },
    "papermill": {
     "duration": 0.037918,
     "end_time": "2024-06-28T18:24:59.600236",
     "exception": false,
     "start_time": "2024-06-28T18:24:59.562318",
     "status": "completed"
    },
    "tags": []
   },
   "outputs": [],
   "source": [
    "# from sklearn.metrics import make_scorer ,f1_score\n",
    "# logCV_scorer=make_scorer(f1_score , average='auto')\n",
    "# pipe_logistic_ovr = Pipeline(steps=[('ct',ct),('logistic_reg',LogisticRegressionCV(cv=5,penalty='l2',solver='liblinear',multi_class='ovr',Cs=[0.1, 0.5, 1] ,max_iter=2400 ,random_state=42))])\n",
    "# pipe_logistic_ovr.fit(xtrain,ytrain)\n",
    "# pipe_logistic_ovr.score(xtest,ytest)\n",
    "\n",
    "\n",
    "\n",
    "\n",
    "\n",
    "\n",
    "# # 0.805"
   ]
  },
  {
   "cell_type": "code",
   "execution_count": 48,
   "id": "9dca5857",
   "metadata": {
    "execution": {
     "iopub.execute_input": "2024-06-28T18:24:59.658027Z",
     "iopub.status.busy": "2024-06-28T18:24:59.656911Z",
     "iopub.status.idle": "2024-06-28T18:24:59.663366Z",
     "shell.execute_reply": "2024-06-28T18:24:59.662071Z"
    },
    "papermill": {
     "duration": 0.037808,
     "end_time": "2024-06-28T18:24:59.665929",
     "exception": false,
     "start_time": "2024-06-28T18:24:59.628121",
     "status": "completed"
    },
    "tags": []
   },
   "outputs": [],
   "source": [
    "# from sklearn.model_selection import GridSearchCV\n",
    "# grid_logistic_estimator=Pipeline(steps=[('ct',ct),('logistic',LogisticRegression(random_state=42,penalty='l2',multi_class='multinomial' , max_iter=2500))])\n",
    "\n",
    "# param_grid_logistic={\n",
    "    \n",
    "#     'logistic__C':[0.01 , 0.1 , 1 , 10],\n",
    "    \n",
    "#     'logistic__solver':['sag', 'saga'],\n",
    "    \n",
    "# #     'logistic__penalty':['l2'] ,\n",
    "  \n",
    "# #     'logistic__max_iter' : [1000 , 1200 , 1500]\n",
    "# }\n",
    "\n",
    "# grid_logistic=GridSearchCV(grid_logistic_estimator, param_grid=param_grid_logistic , cv=5 ,n_jobs=-1)\n",
    "\n",
    "\n",
    "# grid_logistic.fit(xtrain , ytrain)\n",
    "\n",
    "\n",
    "\n",
    "# grid_logistic.score(xtest,ytest)\n",
    "\n",
    "\n",
    "\n",
    "# # 0.81225"
   ]
  },
  {
   "cell_type": "code",
   "execution_count": 49,
   "id": "9a3e5324",
   "metadata": {
    "execution": {
     "iopub.execute_input": "2024-06-28T18:24:59.722932Z",
     "iopub.status.busy": "2024-06-28T18:24:59.721929Z",
     "iopub.status.idle": "2024-06-28T18:24:59.727387Z",
     "shell.execute_reply": "2024-06-28T18:24:59.726158Z"
    },
    "papermill": {
     "duration": 0.036975,
     "end_time": "2024-06-28T18:24:59.730064",
     "exception": false,
     "start_time": "2024-06-28T18:24:59.693089",
     "status": "completed"
    },
    "tags": []
   },
   "outputs": [],
   "source": [
    "# grid_logistic.best_params_\n",
    "\n",
    "\n",
    "# # {'logistic__C': 10, 'logistic__solver': 'sag'}"
   ]
  },
  {
   "cell_type": "code",
   "execution_count": 50,
   "id": "94a3dca2",
   "metadata": {
    "execution": {
     "iopub.execute_input": "2024-06-28T18:24:59.787539Z",
     "iopub.status.busy": "2024-06-28T18:24:59.787062Z",
     "iopub.status.idle": "2024-06-28T18:24:59.793313Z",
     "shell.execute_reply": "2024-06-28T18:24:59.792041Z"
    },
    "papermill": {
     "duration": 0.037628,
     "end_time": "2024-06-28T18:24:59.795691",
     "exception": false,
     "start_time": "2024-06-28T18:24:59.758063",
     "status": "completed"
    },
    "tags": []
   },
   "outputs": [],
   "source": [
    "from sklearn.svm import SVC , NuSVC\n",
    "pipe_svc=Pipeline(steps=[('ct',ct),('svc',SVC(decision_function_shape='ovr'))])"
   ]
  },
  {
   "cell_type": "code",
   "execution_count": 51,
   "id": "90436fef",
   "metadata": {
    "execution": {
     "iopub.execute_input": "2024-06-28T18:24:59.853854Z",
     "iopub.status.busy": "2024-06-28T18:24:59.852768Z",
     "iopub.status.idle": "2024-06-28T18:25:11.089992Z",
     "shell.execute_reply": "2024-06-28T18:25:11.088273Z"
    },
    "papermill": {
     "duration": 11.269544,
     "end_time": "2024-06-28T18:25:11.093040",
     "exception": false,
     "start_time": "2024-06-28T18:24:59.823496",
     "status": "completed"
    },
    "tags": []
   },
   "outputs": [
    {
     "data": {
      "text/html": [
       "<style>#sk-container-id-2 {color: black;background-color: white;}#sk-container-id-2 pre{padding: 0;}#sk-container-id-2 div.sk-toggleable {background-color: white;}#sk-container-id-2 label.sk-toggleable__label {cursor: pointer;display: block;width: 100%;margin-bottom: 0;padding: 0.3em;box-sizing: border-box;text-align: center;}#sk-container-id-2 label.sk-toggleable__label-arrow:before {content: \"▸\";float: left;margin-right: 0.25em;color: #696969;}#sk-container-id-2 label.sk-toggleable__label-arrow:hover:before {color: black;}#sk-container-id-2 div.sk-estimator:hover label.sk-toggleable__label-arrow:before {color: black;}#sk-container-id-2 div.sk-toggleable__content {max-height: 0;max-width: 0;overflow: hidden;text-align: left;background-color: #f0f8ff;}#sk-container-id-2 div.sk-toggleable__content pre {margin: 0.2em;color: black;border-radius: 0.25em;background-color: #f0f8ff;}#sk-container-id-2 input.sk-toggleable__control:checked~div.sk-toggleable__content {max-height: 200px;max-width: 100%;overflow: auto;}#sk-container-id-2 input.sk-toggleable__control:checked~label.sk-toggleable__label-arrow:before {content: \"▾\";}#sk-container-id-2 div.sk-estimator input.sk-toggleable__control:checked~label.sk-toggleable__label {background-color: #d4ebff;}#sk-container-id-2 div.sk-label input.sk-toggleable__control:checked~label.sk-toggleable__label {background-color: #d4ebff;}#sk-container-id-2 input.sk-hidden--visually {border: 0;clip: rect(1px 1px 1px 1px);clip: rect(1px, 1px, 1px, 1px);height: 1px;margin: -1px;overflow: hidden;padding: 0;position: absolute;width: 1px;}#sk-container-id-2 div.sk-estimator {font-family: monospace;background-color: #f0f8ff;border: 1px dotted black;border-radius: 0.25em;box-sizing: border-box;margin-bottom: 0.5em;}#sk-container-id-2 div.sk-estimator:hover {background-color: #d4ebff;}#sk-container-id-2 div.sk-parallel-item::after {content: \"\";width: 100%;border-bottom: 1px solid gray;flex-grow: 1;}#sk-container-id-2 div.sk-label:hover label.sk-toggleable__label {background-color: #d4ebff;}#sk-container-id-2 div.sk-serial::before {content: \"\";position: absolute;border-left: 1px solid gray;box-sizing: border-box;top: 0;bottom: 0;left: 50%;z-index: 0;}#sk-container-id-2 div.sk-serial {display: flex;flex-direction: column;align-items: center;background-color: white;padding-right: 0.2em;padding-left: 0.2em;position: relative;}#sk-container-id-2 div.sk-item {position: relative;z-index: 1;}#sk-container-id-2 div.sk-parallel {display: flex;align-items: stretch;justify-content: center;background-color: white;position: relative;}#sk-container-id-2 div.sk-item::before, #sk-container-id-2 div.sk-parallel-item::before {content: \"\";position: absolute;border-left: 1px solid gray;box-sizing: border-box;top: 0;bottom: 0;left: 50%;z-index: -1;}#sk-container-id-2 div.sk-parallel-item {display: flex;flex-direction: column;z-index: 1;position: relative;background-color: white;}#sk-container-id-2 div.sk-parallel-item:first-child::after {align-self: flex-end;width: 50%;}#sk-container-id-2 div.sk-parallel-item:last-child::after {align-self: flex-start;width: 50%;}#sk-container-id-2 div.sk-parallel-item:only-child::after {width: 0;}#sk-container-id-2 div.sk-dashed-wrapped {border: 1px dashed gray;margin: 0 0.4em 0.5em 0.4em;box-sizing: border-box;padding-bottom: 0.4em;background-color: white;}#sk-container-id-2 div.sk-label label {font-family: monospace;font-weight: bold;display: inline-block;line-height: 1.2em;}#sk-container-id-2 div.sk-label-container {text-align: center;}#sk-container-id-2 div.sk-container {/* jupyter's `normalize.less` sets `[hidden] { display: none; }` but bootstrap.min.css set `[hidden] { display: none !important; }` so we also need the `!important` here to be able to override the default hidden behavior on the sphinx rendered scikit-learn.org. See: https://github.com/scikit-learn/scikit-learn/issues/21755 */display: inline-block !important;position: relative;}#sk-container-id-2 div.sk-text-repr-fallback {display: none;}</style><div id=\"sk-container-id-2\" class=\"sk-top-container\"><div class=\"sk-text-repr-fallback\"><pre>Pipeline(steps=[(&#x27;ct&#x27;,\n",
       "                 ColumnTransformer(transformers=[(&#x27;numerical_cols&#x27;,\n",
       "                                                  StandardScaler(),\n",
       "                                                  [&#x27;Latitude&#x27;, &#x27;Longitude&#x27;,\n",
       "                                                   &#x27;reporting_delay_day_count&#x27;,\n",
       "                                                   &#x27;Victim_Age&#x27;]),\n",
       "                                                 (&#x27;categorical_cols&#x27;,\n",
       "                                                  OneHotEncoder(handle_unknown=&#x27;ignore&#x27;),\n",
       "                                                  [&#x27;day_category&#x27;, &#x27;Victim_Sex&#x27;,\n",
       "                                                   &#x27;Victim_Descent&#x27;, &#x27;Part 1-2&#x27;,\n",
       "                                                   &#x27;Area_ID&#x27;, &#x27;Status&#x27;,\n",
       "                                                   &#x27;Weapon_Description&#x27;]),\n",
       "                                                 (&#x27;multi_label_binarizer&#x27;,\n",
       "                                                  MultiLabelBinarizerWrapper(),\n",
       "                                                  &#x27;Modus_Operandi&#x27;)])),\n",
       "                (&#x27;svc&#x27;, SVC())])</pre><b>In a Jupyter environment, please rerun this cell to show the HTML representation or trust the notebook. <br />On GitHub, the HTML representation is unable to render, please try loading this page with nbviewer.org.</b></div><div class=\"sk-container\" hidden><div class=\"sk-item sk-dashed-wrapped\"><div class=\"sk-label-container\"><div class=\"sk-label sk-toggleable\"><input class=\"sk-toggleable__control sk-hidden--visually\" id=\"sk-estimator-id-10\" type=\"checkbox\" ><label for=\"sk-estimator-id-10\" class=\"sk-toggleable__label sk-toggleable__label-arrow\">Pipeline</label><div class=\"sk-toggleable__content\"><pre>Pipeline(steps=[(&#x27;ct&#x27;,\n",
       "                 ColumnTransformer(transformers=[(&#x27;numerical_cols&#x27;,\n",
       "                                                  StandardScaler(),\n",
       "                                                  [&#x27;Latitude&#x27;, &#x27;Longitude&#x27;,\n",
       "                                                   &#x27;reporting_delay_day_count&#x27;,\n",
       "                                                   &#x27;Victim_Age&#x27;]),\n",
       "                                                 (&#x27;categorical_cols&#x27;,\n",
       "                                                  OneHotEncoder(handle_unknown=&#x27;ignore&#x27;),\n",
       "                                                  [&#x27;day_category&#x27;, &#x27;Victim_Sex&#x27;,\n",
       "                                                   &#x27;Victim_Descent&#x27;, &#x27;Part 1-2&#x27;,\n",
       "                                                   &#x27;Area_ID&#x27;, &#x27;Status&#x27;,\n",
       "                                                   &#x27;Weapon_Description&#x27;]),\n",
       "                                                 (&#x27;multi_label_binarizer&#x27;,\n",
       "                                                  MultiLabelBinarizerWrapper(),\n",
       "                                                  &#x27;Modus_Operandi&#x27;)])),\n",
       "                (&#x27;svc&#x27;, SVC())])</pre></div></div></div><div class=\"sk-serial\"><div class=\"sk-item sk-dashed-wrapped\"><div class=\"sk-label-container\"><div class=\"sk-label sk-toggleable\"><input class=\"sk-toggleable__control sk-hidden--visually\" id=\"sk-estimator-id-11\" type=\"checkbox\" ><label for=\"sk-estimator-id-11\" class=\"sk-toggleable__label sk-toggleable__label-arrow\">ct: ColumnTransformer</label><div class=\"sk-toggleable__content\"><pre>ColumnTransformer(transformers=[(&#x27;numerical_cols&#x27;, StandardScaler(),\n",
       "                                 [&#x27;Latitude&#x27;, &#x27;Longitude&#x27;,\n",
       "                                  &#x27;reporting_delay_day_count&#x27;, &#x27;Victim_Age&#x27;]),\n",
       "                                (&#x27;categorical_cols&#x27;,\n",
       "                                 OneHotEncoder(handle_unknown=&#x27;ignore&#x27;),\n",
       "                                 [&#x27;day_category&#x27;, &#x27;Victim_Sex&#x27;,\n",
       "                                  &#x27;Victim_Descent&#x27;, &#x27;Part 1-2&#x27;, &#x27;Area_ID&#x27;,\n",
       "                                  &#x27;Status&#x27;, &#x27;Weapon_Description&#x27;]),\n",
       "                                (&#x27;multi_label_binarizer&#x27;,\n",
       "                                 MultiLabelBinarizerWrapper(),\n",
       "                                 &#x27;Modus_Operandi&#x27;)])</pre></div></div></div><div class=\"sk-parallel\"><div class=\"sk-parallel-item\"><div class=\"sk-item\"><div class=\"sk-label-container\"><div class=\"sk-label sk-toggleable\"><input class=\"sk-toggleable__control sk-hidden--visually\" id=\"sk-estimator-id-12\" type=\"checkbox\" ><label for=\"sk-estimator-id-12\" class=\"sk-toggleable__label sk-toggleable__label-arrow\">numerical_cols</label><div class=\"sk-toggleable__content\"><pre>[&#x27;Latitude&#x27;, &#x27;Longitude&#x27;, &#x27;reporting_delay_day_count&#x27;, &#x27;Victim_Age&#x27;]</pre></div></div></div><div class=\"sk-serial\"><div class=\"sk-item\"><div class=\"sk-estimator sk-toggleable\"><input class=\"sk-toggleable__control sk-hidden--visually\" id=\"sk-estimator-id-13\" type=\"checkbox\" ><label for=\"sk-estimator-id-13\" class=\"sk-toggleable__label sk-toggleable__label-arrow\">StandardScaler</label><div class=\"sk-toggleable__content\"><pre>StandardScaler()</pre></div></div></div></div></div></div><div class=\"sk-parallel-item\"><div class=\"sk-item\"><div class=\"sk-label-container\"><div class=\"sk-label sk-toggleable\"><input class=\"sk-toggleable__control sk-hidden--visually\" id=\"sk-estimator-id-14\" type=\"checkbox\" ><label for=\"sk-estimator-id-14\" class=\"sk-toggleable__label sk-toggleable__label-arrow\">categorical_cols</label><div class=\"sk-toggleable__content\"><pre>[&#x27;day_category&#x27;, &#x27;Victim_Sex&#x27;, &#x27;Victim_Descent&#x27;, &#x27;Part 1-2&#x27;, &#x27;Area_ID&#x27;, &#x27;Status&#x27;, &#x27;Weapon_Description&#x27;]</pre></div></div></div><div class=\"sk-serial\"><div class=\"sk-item\"><div class=\"sk-estimator sk-toggleable\"><input class=\"sk-toggleable__control sk-hidden--visually\" id=\"sk-estimator-id-15\" type=\"checkbox\" ><label for=\"sk-estimator-id-15\" class=\"sk-toggleable__label sk-toggleable__label-arrow\">OneHotEncoder</label><div class=\"sk-toggleable__content\"><pre>OneHotEncoder(handle_unknown=&#x27;ignore&#x27;)</pre></div></div></div></div></div></div><div class=\"sk-parallel-item\"><div class=\"sk-item\"><div class=\"sk-label-container\"><div class=\"sk-label sk-toggleable\"><input class=\"sk-toggleable__control sk-hidden--visually\" id=\"sk-estimator-id-16\" type=\"checkbox\" ><label for=\"sk-estimator-id-16\" class=\"sk-toggleable__label sk-toggleable__label-arrow\">multi_label_binarizer</label><div class=\"sk-toggleable__content\"><pre>Modus_Operandi</pre></div></div></div><div class=\"sk-serial\"><div class=\"sk-item\"><div class=\"sk-estimator sk-toggleable\"><input class=\"sk-toggleable__control sk-hidden--visually\" id=\"sk-estimator-id-17\" type=\"checkbox\" ><label for=\"sk-estimator-id-17\" class=\"sk-toggleable__label sk-toggleable__label-arrow\">MultiLabelBinarizerWrapper</label><div class=\"sk-toggleable__content\"><pre>MultiLabelBinarizerWrapper()</pre></div></div></div></div></div></div></div></div><div class=\"sk-item\"><div class=\"sk-estimator sk-toggleable\"><input class=\"sk-toggleable__control sk-hidden--visually\" id=\"sk-estimator-id-18\" type=\"checkbox\" ><label for=\"sk-estimator-id-18\" class=\"sk-toggleable__label sk-toggleable__label-arrow\">SVC</label><div class=\"sk-toggleable__content\"><pre>SVC()</pre></div></div></div></div></div></div></div>"
      ],
      "text/plain": [
       "Pipeline(steps=[('ct',\n",
       "                 ColumnTransformer(transformers=[('numerical_cols',\n",
       "                                                  StandardScaler(),\n",
       "                                                  ['Latitude', 'Longitude',\n",
       "                                                   'reporting_delay_day_count',\n",
       "                                                   'Victim_Age']),\n",
       "                                                 ('categorical_cols',\n",
       "                                                  OneHotEncoder(handle_unknown='ignore'),\n",
       "                                                  ['day_category', 'Victim_Sex',\n",
       "                                                   'Victim_Descent', 'Part 1-2',\n",
       "                                                   'Area_ID', 'Status',\n",
       "                                                   'Weapon_Description']),\n",
       "                                                 ('multi_label_binarizer',\n",
       "                                                  MultiLabelBinarizerWrapper(),\n",
       "                                                  'Modus_Operandi')])),\n",
       "                ('svc', SVC())])"
      ]
     },
     "execution_count": 51,
     "metadata": {},
     "output_type": "execute_result"
    }
   ],
   "source": [
    "pipe_svc.fit(xtrain,ytrain)"
   ]
  },
  {
   "cell_type": "code",
   "execution_count": 52,
   "id": "47a05d4c",
   "metadata": {
    "execution": {
     "iopub.execute_input": "2024-06-28T18:25:11.151620Z",
     "iopub.status.busy": "2024-06-28T18:25:11.151194Z",
     "iopub.status.idle": "2024-06-28T18:25:14.271392Z",
     "shell.execute_reply": "2024-06-28T18:25:14.270055Z"
    },
    "papermill": {
     "duration": 3.152325,
     "end_time": "2024-06-28T18:25:14.274314",
     "exception": false,
     "start_time": "2024-06-28T18:25:11.121989",
     "status": "completed"
    },
    "tags": []
   },
   "outputs": [
    {
     "data": {
      "text/plain": [
       "0.847"
      ]
     },
     "execution_count": 52,
     "metadata": {},
     "output_type": "execute_result"
    }
   ],
   "source": [
    "pipe_svc.score(xtest,ytest)"
   ]
  },
  {
   "cell_type": "code",
   "execution_count": 53,
   "id": "9eea2f6f",
   "metadata": {
    "execution": {
     "iopub.execute_input": "2024-06-28T18:25:14.335351Z",
     "iopub.status.busy": "2024-06-28T18:25:14.334544Z",
     "iopub.status.idle": "2024-06-28T18:25:14.341206Z",
     "shell.execute_reply": "2024-06-28T18:25:14.339385Z"
    },
    "papermill": {
     "duration": 0.040452,
     "end_time": "2024-06-28T18:25:14.344111",
     "exception": false,
     "start_time": "2024-06-28T18:25:14.303659",
     "status": "completed"
    },
    "tags": []
   },
   "outputs": [],
   "source": [
    "# from sklearn.linear_model import Perceptron\n",
    "\n",
    "# pipe_percep=Pipeline(steps=[('ct',ct),('perceptron',Perceptron())])\n",
    "\n",
    "# pipe_percep.fit(xtrain,ytrain)\n",
    "\n",
    "# pipe_percep.score(xtest,ytest)"
   ]
  },
  {
   "cell_type": "markdown",
   "id": "fbb47729",
   "metadata": {
    "papermill": {
     "duration": 0.027932,
     "end_time": "2024-06-28T18:25:14.400581",
     "exception": false,
     "start_time": "2024-06-28T18:25:14.372649",
     "status": "completed"
    },
    "tags": []
   },
   "source": [
    "KNN"
   ]
  },
  {
   "cell_type": "markdown",
   "id": "4917ee7e",
   "metadata": {
    "papermill": {
     "duration": 0.02851,
     "end_time": "2024-06-28T18:25:14.456670",
     "exception": false,
     "start_time": "2024-06-28T18:25:14.428160",
     "status": "completed"
    },
    "tags": []
   },
   "source": [
    "KNN Grid"
   ]
  },
  {
   "cell_type": "code",
   "execution_count": 54,
   "id": "ce242d11",
   "metadata": {
    "execution": {
     "iopub.execute_input": "2024-06-28T18:25:14.513330Z",
     "iopub.status.busy": "2024-06-28T18:25:14.512880Z",
     "iopub.status.idle": "2024-06-28T18:25:19.427361Z",
     "shell.execute_reply": "2024-06-28T18:25:19.425604Z"
    },
    "papermill": {
     "duration": 4.946795,
     "end_time": "2024-06-28T18:25:19.430424",
     "exception": false,
     "start_time": "2024-06-28T18:25:14.483629",
     "status": "completed"
    },
    "tags": []
   },
   "outputs": [
    {
     "name": "stdout",
     "output_type": "stream",
     "text": [
      "Train score =  0.8481875\n",
      "Test score =  0.809\n",
      "---------------------------------------------------------\n",
      "                               precision    recall  f1-score   support\n",
      "\n",
      "       Crimes against Persons       0.77      0.22      0.34        45\n",
      "  Crimes against Public Order       0.67      0.39      0.49       362\n",
      "Fraud and White-Collar Crimes       0.74      0.59      0.66       271\n",
      "                 Other Crimes       0.00      0.00      0.00        36\n",
      "              Property Crimes       0.86      0.94      0.90      2333\n",
      "               Violent Crimes       0.73      0.77      0.75       953\n",
      "\n",
      "                     accuracy                           0.81      4000\n",
      "                    macro avg       0.63      0.49      0.52      4000\n",
      "                 weighted avg       0.79      0.81      0.79      4000\n",
      "\n",
      "---------------------------------------------------------\n",
      "<sklearn.metrics._plot.confusion_matrix.ConfusionMatrixDisplay object at 0x7de2fea0f940>\n"
     ]
    },
    {
     "data": {
      "image/png": "[encoded data removed]",
      "text/plain": [
       "<Figure size 640x480 with 2 Axes>"
      ]
     },
     "metadata": {},
     "output_type": "display_data"
    }
   ],
   "source": [
    "from sklearn.neighbors import KNeighborsClassifier\n",
    "\n",
    "#45  33-8077   29-81  28  27  20  16  14 12 10\n",
    "kn_classifier=Pipeline(steps=[('ct' , ct ),( 'knn' ,KNeighborsClassifier(n_neighbors=9))])\n",
    "\n",
    "\n",
    "kn_classifier.fit(xtrain , ytrain)\n",
    "\n",
    "\n",
    "ypred_kn_classifier=kn_classifier.predict(xtest)\n",
    "\n",
    "\n",
    "\n",
    "print(\"Train score = \",kn_classifier.score(xtrain,ytrain))\n",
    "print(\"Test score = \",kn_classifier.score(xtest,ytest))\n",
    "\n",
    "print('---------------------------------------------------------')\n",
    "print(classification_report(ytest,ypred_kn_classifier))\n",
    "\n",
    "print('---------------------------------------------------------')\n",
    "\n",
    "print(ConfusionMatrixDisplay.from_estimator(kn_classifier , xtest , ytest ,xticks_rotation='vertical'))\n"
   ]
  },
  {
   "cell_type": "code",
   "execution_count": 55,
   "id": "901745bd",
   "metadata": {
    "execution": {
     "iopub.execute_input": "2024-06-28T18:25:19.495675Z",
     "iopub.status.busy": "2024-06-28T18:25:19.494955Z",
     "iopub.status.idle": "2024-06-28T18:25:19.505674Z",
     "shell.execute_reply": "2024-06-28T18:25:19.503861Z"
    },
    "papermill": {
     "duration": 0.046286,
     "end_time": "2024-06-28T18:25:19.508585",
     "exception": false,
     "start_time": "2024-06-28T18:25:19.462299",
     "status": "completed"
    },
    "tags": []
   },
   "outputs": [],
   "source": [
    "import time\n",
    "start_time = time.time()\n",
    "# from sklearn.metrics import pairwise_distances\n",
    "from sklearn.model_selection import  RepeatedStratifiedKFold ,GridSearchCV ,RandomizedSearchCV\n",
    "\n",
    "from sklearn.decomposition import PCA\n",
    "\n",
    "\n",
    "\n",
    "# knn_param_grid= {\n",
    "    \n",
    "#     \"knn__n_neighbors\":[9,12,16 ,20],\n",
    "    \n",
    "#     \"knn__weights\":['uniform','distance'],\n",
    "    \n",
    "# #     'knn__algorithm':['ball_tree','kd_tree'],\n",
    "    \n",
    "#     'knn__leaf_size':[19,20,30,25],\n",
    "#     'knn__p':[1,2]\n",
    "# #     'knn__metric':['euclidean','manhattan'] \n",
    "# }\n",
    "\n",
    "\n",
    "# kn_classifier_grid_est=Pipeline(steps=[('ct' , ct ),( 'knn' ,KNeighborsClassifier())])\n",
    "\n",
    "# cv=RepeatedStratifiedKFold(n_splits=5 , n_repeats = 4 , random_state=42)\n",
    "\n",
    "# # kn_classifier_grid = GridSearchCV(kn_classifier_grid_est, param_grid=knn_param_grid , n_jobs=-1 , cv=cv , scoring='accuracy' , error_score=0)\n",
    "# kn_classifier_Randomgrid = RandomizedSearchCV(kn_classifier_grid_est, param_distributions=knn_param_grid , n_jobs=-1 , cv=cv , scoring='accuracy' , error_score=0)\n",
    "\n",
    "# # kn_classifier_grid.fit(xtrain , ytrain)\n",
    "# kn_classifier_Randomgrid.fit(xtrain , ytrain)\n",
    "\n",
    "# kn_classifier_Randomgrid.score(xtrain,ytrain)\n",
    "# kn_classifier_Randomgrid.score(xtest,ytest)\n",
    "\n",
    "# end_time = time.time()\n",
    "# print(\"elapsed_time = \",(end_time - start_time)//60)\n",
    "\n",
    "\n",
    "\n",
    "\n",
    "\n",
    "\n",
    "\n",
    "\n",
    "\n",
    "\n"
   ]
  },
  {
   "cell_type": "code",
   "execution_count": 56,
   "id": "bff17477",
   "metadata": {
    "execution": {
     "iopub.execute_input": "2024-06-28T18:25:19.568803Z",
     "iopub.status.busy": "2024-06-28T18:25:19.568404Z",
     "iopub.status.idle": "2024-06-28T18:25:19.573313Z",
     "shell.execute_reply": "2024-06-28T18:25:19.572094Z"
    },
    "papermill": {
     "duration": 0.038096,
     "end_time": "2024-06-28T18:25:19.575909",
     "exception": false,
     "start_time": "2024-06-28T18:25:19.537813",
     "status": "completed"
    },
    "tags": []
   },
   "outputs": [],
   "source": [
    "# kn_classifier_grid = GridSearchCV(kn_classifier_grid_est, param_grid=knn_param_grid , n_jobs=-1 , cv=cv , scoring='accuracy' , error_score=0)\n",
    "# kn_classifier_grid.fit(xtrain , ytrain)\n"
   ]
  },
  {
   "cell_type": "code",
   "execution_count": 57,
   "id": "91f73979",
   "metadata": {
    "execution": {
     "iopub.execute_input": "2024-06-28T18:25:19.636162Z",
     "iopub.status.busy": "2024-06-28T18:25:19.635702Z",
     "iopub.status.idle": "2024-06-28T18:25:42.644757Z",
     "shell.execute_reply": "2024-06-28T18:25:42.643259Z"
    },
    "papermill": {
     "duration": 23.042608,
     "end_time": "2024-06-28T18:25:42.647746",
     "exception": false,
     "start_time": "2024-06-28T18:25:19.605138",
     "status": "completed"
    },
    "tags": []
   },
   "outputs": [
    {
     "name": "stdout",
     "output_type": "stream",
     "text": [
      "Train score =  1.0\n",
      "Test score =  0.81675\n",
      "---------------------------------------------------------\n",
      "                               precision    recall  f1-score   support\n",
      "\n",
      "       Crimes against Persons       0.83      0.11      0.20        45\n",
      "  Crimes against Public Order       0.79      0.38      0.51       362\n",
      "Fraud and White-Collar Crimes       0.83      0.61      0.70       271\n",
      "                 Other Crimes       0.00      0.00      0.00        36\n",
      "              Property Crimes       0.86      0.95      0.90      2333\n",
      "               Violent Crimes       0.72      0.79      0.75       953\n",
      "\n",
      "                     accuracy                           0.82      4000\n",
      "                    macro avg       0.67      0.47      0.51      4000\n",
      "                 weighted avg       0.81      0.82      0.80      4000\n",
      "\n",
      "---------------------------------------------------------\n",
      "<sklearn.metrics._plot.confusion_matrix.ConfusionMatrixDisplay object at 0x7de2fdf83550>\n"
     ]
    },
    {
     "data": {
      "image/png": "[encoded data removed]",
      "text/plain": [
       "<Figure size 640x480 with 2 Axes>"
      ]
     },
     "metadata": {},
     "output_type": "display_data"
    }
   ],
   "source": [
    "   #n= 16\n",
    "kn_classifier_tuned=Pipeline(steps=[('ct' , ct ),( 'knn' ,KNeighborsClassifier(n_neighbors=19 , p=1,leaf_size=19 ,weights='distance'))])\n",
    "\n",
    "\n",
    "kn_classifier_tuned.fit(xtrain , ytrain)\n",
    "\n",
    "\n",
    "ypred_kn_classifier_tuned=kn_classifier_tuned.predict(xtest)\n",
    "\n",
    "\n",
    "\n",
    "print(\"Train score = \",kn_classifier_tuned.score(xtrain,ytrain))\n",
    "print(\"Test score = \",kn_classifier_tuned.score(xtest,ytest))\n",
    "\n",
    "print('---------------------------------------------------------')\n",
    "print(classification_report(ytest,ypred_kn_classifier_tuned))\n",
    "\n",
    "print('---------------------------------------------------------')\n",
    "\n",
    "print(ConfusionMatrixDisplay.from_estimator(kn_classifier_tuned , xtest , ytest ,xticks_rotation='vertical'))\n"
   ]
  },
  {
   "cell_type": "markdown",
   "id": "f3caf9ec",
   "metadata": {
    "papermill": {
     "duration": 0.029692,
     "end_time": "2024-06-28T18:25:42.708602",
     "exception": false,
     "start_time": "2024-06-28T18:25:42.678910",
     "status": "completed"
    },
    "tags": []
   },
   "source": [
    "##### Test \n"
   ]
  },
  {
   "cell_type": "code",
   "execution_count": 58,
   "id": "f332289e",
   "metadata": {
    "execution": {
     "iopub.execute_input": "2024-06-28T18:25:42.771836Z",
     "iopub.status.busy": "2024-06-28T18:25:42.771441Z",
     "iopub.status.idle": "2024-06-28T18:25:48.366560Z",
     "shell.execute_reply": "2024-06-28T18:25:48.365288Z"
    },
    "papermill": {
     "duration": 5.630151,
     "end_time": "2024-06-28T18:25:48.369861",
     "exception": false,
     "start_time": "2024-06-28T18:25:42.739710",
     "status": "completed"
    },
    "tags": []
   },
   "outputs": [],
   "source": [
    "test=pd.read_csv('/kaggle/input/crime-cast-forecasting-crime-categories/test.csv')\n",
    "test['day_category']=test['Time_Occurred'].apply(day_category )\n",
    "\n",
    "\n",
    "test['Date_Reported']=test['Date_Reported'].apply(extract_date)\n",
    "test['Date_Occurred']=test['Date_Occurred'].apply(extract_date)\n",
    "\n",
    "\n",
    "\n",
    "\n",
    "\n",
    "\n",
    "test['Date_Reported']=pd.to_datetime(test['Date_Reported']).dt.date\n",
    "test['Date_Occurred']=pd.to_datetime(test['Date_Occurred']).dt.date\n",
    "\n",
    "test['reporting_delay_day_count']=(test['Date_Reported']-test['Date_Occurred'])\n",
    "\n",
    "\n",
    "\n",
    "\n",
    "\n",
    "\n",
    "def day_count(d):\n",
    "    return d.days\n",
    "test['reporting_delay_day_count']=test['reporting_delay_day_count'].apply(day_count)\n",
    "\n",
    "\n",
    "\n",
    "\n",
    "\n",
    "\n",
    "def victim_gender(val):\n",
    "    if val=='H' or pd.isna(val):\n",
    "        val='X'\n",
    "    return val\n",
    "\n",
    "\n",
    "test.loc[:,'Victim_Sex'] = test['Victim_Sex'].apply(victim_gender)\n",
    "\n",
    "\n",
    "\n",
    "\n",
    "\n",
    "unique_values_weapon_test=pd.DataFrame(test['Weapon_Description'])\n",
    "unique_values_weapon_test.value_counts(normalize=True)\n",
    "\n",
    "\n",
    "\n",
    "\n",
    "\n",
    "\n",
    "\n",
    "distribution_test = test['Weapon_Description'].dropna().value_counts(normalize=True)\n",
    "\n",
    "missing_test = test['Weapon_Description'].isnull().sum()\n",
    "\n",
    "imputed_values_test = np.random.choice(distribution_test.index, size=missing_test, p=distribution_test.values)\n",
    "\n",
    "# Impute the missing values\n",
    "test.loc[test['Weapon_Description'].isnull(), 'Weapon_Description'] = imputed_values_test\n",
    "\n"
   ]
  },
  {
   "cell_type": "code",
   "execution_count": 59,
   "id": "5b6e9955",
   "metadata": {
    "execution": {
     "iopub.execute_input": "2024-06-28T18:25:48.437061Z",
     "iopub.status.busy": "2024-06-28T18:25:48.436074Z",
     "iopub.status.idle": "2024-06-28T18:25:48.454040Z",
     "shell.execute_reply": "2024-06-28T18:25:48.452838Z"
    },
    "papermill": {
     "duration": 0.05514,
     "end_time": "2024-06-28T18:25:48.456880",
     "exception": false,
     "start_time": "2024-06-28T18:25:48.401740",
     "status": "completed"
    },
    "tags": []
   },
   "outputs": [
    {
     "data": {
      "text/plain": [
       "Location                        0\n",
       "Cross_Street                 4190\n",
       "Latitude                        0\n",
       "Longitude                       0\n",
       "Date_Reported                   0\n",
       "Date_Occurred                   0\n",
       "Time_Occurred                   0\n",
       "Area_ID                         0\n",
       "Area_Name                       0\n",
       "Reporting_District_no           0\n",
       "Part 1-2                        0\n",
       "Modus_Operandi                684\n",
       "Victim_Age                      0\n",
       "Victim_Sex                      0\n",
       "Victim_Descent                643\n",
       "Premise_Code                    0\n",
       "Premise_Description             1\n",
       "Weapon_Used_Code             3153\n",
       "Weapon_Description              0\n",
       "Status                          0\n",
       "Status_Description              0\n",
       "day_category                    0\n",
       "reporting_delay_day_count       0\n",
       "dtype: int64"
      ]
     },
     "execution_count": 59,
     "metadata": {},
     "output_type": "execute_result"
    }
   ],
   "source": [
    "test.isnull().sum()"
   ]
  },
  {
   "cell_type": "code",
   "execution_count": 60,
   "id": "d5a50be3",
   "metadata": {
    "execution": {
     "iopub.execute_input": "2024-06-28T18:25:48.522352Z",
     "iopub.status.busy": "2024-06-28T18:25:48.521852Z",
     "iopub.status.idle": "2024-06-28T18:25:48.535041Z",
     "shell.execute_reply": "2024-06-28T18:25:48.534007Z"
    },
    "papermill": {
     "duration": 0.049592,
     "end_time": "2024-06-28T18:25:48.537927",
     "exception": false,
     "start_time": "2024-06-28T18:25:48.488335",
     "status": "completed"
    },
    "tags": []
   },
   "outputs": [],
   "source": [
    "distribution_test = test['Victim_Descent'].dropna().value_counts(normalize=True)\n",
    "\n",
    "missing_test = test['Victim_Descent'].isnull().sum()\n",
    "\n",
    "imputed_values_test = np.random.choice(distribution_test.index, size=missing_test, p=distribution_test.values)\n",
    "\n",
    "# Impute the missing values\n",
    "test.loc[test['Victim_Descent'].isnull(), 'Victim_Descent'] = imputed_values_test"
   ]
  },
  {
   "cell_type": "code",
   "execution_count": 61,
   "id": "0247f85c",
   "metadata": {
    "execution": {
     "iopub.execute_input": "2024-06-28T18:25:48.603264Z",
     "iopub.status.busy": "2024-06-28T18:25:48.602239Z",
     "iopub.status.idle": "2024-06-28T18:25:48.637945Z",
     "shell.execute_reply": "2024-06-28T18:25:48.636656Z"
    },
    "papermill": {
     "duration": 0.071321,
     "end_time": "2024-06-28T18:25:48.641132",
     "exception": false,
     "start_time": "2024-06-28T18:25:48.569811",
     "status": "completed"
    },
    "tags": []
   },
   "outputs": [],
   "source": [
    "test['Modus_Operandi']=test['Modus_Operandi'].apply(number_of_activities)\n",
    "test['Part 1-2']=test['Part 1-2'].apply(lambda x : int(x))\n",
    "test['Victim_Age']=test['Victim_Age'].apply(lambda x: int(x))"
   ]
  },
  {
   "cell_type": "code",
   "execution_count": 62,
   "id": "bd7e99f2",
   "metadata": {
    "execution": {
     "iopub.execute_input": "2024-06-28T18:25:48.706657Z",
     "iopub.status.busy": "2024-06-28T18:25:48.706142Z",
     "iopub.status.idle": "2024-06-28T18:25:48.733722Z",
     "shell.execute_reply": "2024-06-28T18:25:48.732428Z"
    },
    "papermill": {
     "duration": 0.064184,
     "end_time": "2024-06-28T18:25:48.736841",
     "exception": false,
     "start_time": "2024-06-28T18:25:48.672657",
     "status": "completed"
    },
    "tags": []
   },
   "outputs": [],
   "source": [
    "test.loc[test['Weapon_Description'] == 'STRONG-ARM (HANDS, FIST, FEET OR BODILY FORCE)', 'Weapon_Description'] = 'Physical Force'\n",
    "\n",
    "\n",
    "\n",
    "test.loc[:,'Weapon_Description']=test['Weapon_Description'].apply(gun)"
   ]
  },
  {
   "cell_type": "code",
   "execution_count": 63,
   "id": "08eb37a0",
   "metadata": {
    "execution": {
     "iopub.execute_input": "2024-06-28T18:25:48.803220Z",
     "iopub.status.busy": "2024-06-28T18:25:48.802121Z",
     "iopub.status.idle": "2024-06-28T18:25:48.828004Z",
     "shell.execute_reply": "2024-06-28T18:25:48.826567Z"
    },
    "papermill": {
     "duration": 0.061832,
     "end_time": "2024-06-28T18:25:48.830857",
     "exception": false,
     "start_time": "2024-06-28T18:25:48.769025",
     "status": "completed"
    },
    "tags": []
   },
   "outputs": [
    {
     "name": "stdout",
     "output_type": "stream",
     "text": [
      "<class 'pandas.core.frame.DataFrame'>\n",
      "Index: 16000 entries, 6735 to 554\n",
      "Data columns (total 12 columns):\n",
      " #   Column                     Non-Null Count  Dtype  \n",
      "---  ------                     --------------  -----  \n",
      " 0   Latitude                   16000 non-null  float64\n",
      " 1   Longitude                  16000 non-null  float64\n",
      " 2   reporting_delay_day_count  16000 non-null  int64  \n",
      " 3   day_category               16000 non-null  object \n",
      " 4   Victim_Age                 16000 non-null  float64\n",
      " 5   Victim_Sex                 16000 non-null  object \n",
      " 6   Victim_Descent             16000 non-null  object \n",
      " 7   Weapon_Description         16000 non-null  object \n",
      " 8   Area_ID                    16000 non-null  float64\n",
      " 9   Modus_Operandi             16000 non-null  object \n",
      " 10  Part 1-2                   16000 non-null  float64\n",
      " 11  Status                     16000 non-null  object \n",
      "dtypes: float64(5), int64(1), object(6)\n",
      "memory usage: 1.6+ MB\n"
     ]
    }
   ],
   "source": [
    "xtrain.info()"
   ]
  },
  {
   "cell_type": "code",
   "execution_count": 64,
   "id": "f230dcbf",
   "metadata": {
    "execution": {
     "iopub.execute_input": "2024-06-28T18:25:48.897044Z",
     "iopub.status.busy": "2024-06-28T18:25:48.895853Z",
     "iopub.status.idle": "2024-06-28T18:25:48.905312Z",
     "shell.execute_reply": "2024-06-28T18:25:48.904220Z"
    },
    "papermill": {
     "duration": 0.045309,
     "end_time": "2024-06-28T18:25:48.907847",
     "exception": false,
     "start_time": "2024-06-28T18:25:48.862538",
     "status": "completed"
    },
    "tags": []
   },
   "outputs": [],
   "source": [
    "test=test[['Latitude','Longitude','reporting_delay_day_count','day_category','Area_ID','Victim_Age','Victim_Sex','Modus_Operandi','Victim_Descent','Part 1-2','Weapon_Description','Status']]"
   ]
  },
  {
   "cell_type": "code",
   "execution_count": 65,
   "id": "c812c798",
   "metadata": {
    "execution": {
     "iopub.execute_input": "2024-06-28T18:25:48.972960Z",
     "iopub.status.busy": "2024-06-28T18:25:48.972017Z",
     "iopub.status.idle": "2024-06-28T18:25:48.989355Z",
     "shell.execute_reply": "2024-06-28T18:25:48.988267Z"
    },
    "papermill": {
     "duration": 0.053826,
     "end_time": "2024-06-28T18:25:48.993211",
     "exception": false,
     "start_time": "2024-06-28T18:25:48.939385",
     "status": "completed"
    },
    "tags": []
   },
   "outputs": [
    {
     "name": "stdout",
     "output_type": "stream",
     "text": [
      "<class 'pandas.core.frame.DataFrame'>\n",
      "RangeIndex: 5000 entries, 0 to 4999\n",
      "Data columns (total 12 columns):\n",
      " #   Column                     Non-Null Count  Dtype  \n",
      "---  ------                     --------------  -----  \n",
      " 0   Latitude                   5000 non-null   float64\n",
      " 1   Longitude                  5000 non-null   float64\n",
      " 2   reporting_delay_day_count  5000 non-null   int64  \n",
      " 3   day_category               5000 non-null   object \n",
      " 4   Area_ID                    5000 non-null   float64\n",
      " 5   Victim_Age                 5000 non-null   int64  \n",
      " 6   Victim_Sex                 5000 non-null   object \n",
      " 7   Modus_Operandi             5000 non-null   object \n",
      " 8   Victim_Descent             5000 non-null   object \n",
      " 9   Part 1-2                   5000 non-null   int64  \n",
      " 10  Weapon_Description         5000 non-null   object \n",
      " 11  Status                     5000 non-null   object \n",
      "dtypes: float64(3), int64(3), object(6)\n",
      "memory usage: 468.9+ KB\n"
     ]
    }
   ],
   "source": [
    "test.info()"
   ]
  },
  {
   "cell_type": "code",
   "execution_count": 66,
   "id": "0cbe8523",
   "metadata": {
    "execution": {
     "iopub.execute_input": "2024-06-28T18:25:49.058572Z",
     "iopub.status.busy": "2024-06-28T18:25:49.058138Z",
     "iopub.status.idle": "2024-06-28T18:25:49.088013Z",
     "shell.execute_reply": "2024-06-28T18:25:49.085901Z"
    },
    "papermill": {
     "duration": 0.065915,
     "end_time": "2024-06-28T18:25:49.091175",
     "exception": false,
     "start_time": "2024-06-28T18:25:49.025260",
     "status": "completed"
    },
    "tags": []
   },
   "outputs": [
    {
     "data": {
      "text/html": [
       "<div>\n",
       "<style scoped>\n",
       "    .dataframe tbody tr th:only-of-type {\n",
       "        vertical-align: middle;\n",
       "    }\n",
       "\n",
       "    .dataframe tbody tr th {\n",
       "        vertical-align: top;\n",
       "    }\n",
       "\n",
       "    .dataframe thead th {\n",
       "        text-align: right;\n",
       "    }\n",
       "</style>\n",
       "<table border=\"1\" class=\"dataframe\">\n",
       "  <thead>\n",
       "    <tr style=\"text-align: right;\">\n",
       "      <th></th>\n",
       "      <th>Latitude</th>\n",
       "      <th>Longitude</th>\n",
       "      <th>reporting_delay_day_count</th>\n",
       "      <th>day_category</th>\n",
       "      <th>Area_ID</th>\n",
       "      <th>Victim_Age</th>\n",
       "      <th>Victim_Sex</th>\n",
       "      <th>Modus_Operandi</th>\n",
       "      <th>Victim_Descent</th>\n",
       "      <th>Part 1-2</th>\n",
       "      <th>Weapon_Description</th>\n",
       "      <th>Status</th>\n",
       "    </tr>\n",
       "  </thead>\n",
       "  <tbody>\n",
       "    <tr>\n",
       "      <th>0</th>\n",
       "      <td>34.0128</td>\n",
       "      <td>-118.3045</td>\n",
       "      <td>0</td>\n",
       "      <td>Evening</td>\n",
       "      <td>3.0</td>\n",
       "      <td>28</td>\n",
       "      <td>F</td>\n",
       "      <td>2000 0416 1243 1241 1821 1813</td>\n",
       "      <td>H</td>\n",
       "      <td>2</td>\n",
       "      <td>Physical Force</td>\n",
       "      <td>IC</td>\n",
       "    </tr>\n",
       "    <tr>\n",
       "      <th>1</th>\n",
       "      <td>34.0726</td>\n",
       "      <td>-118.3029</td>\n",
       "      <td>37</td>\n",
       "      <td>Night</td>\n",
       "      <td>20.0</td>\n",
       "      <td>26</td>\n",
       "      <td>M</td>\n",
       "      <td>0394 0344</td>\n",
       "      <td>B</td>\n",
       "      <td>1</td>\n",
       "      <td>Physical Force</td>\n",
       "      <td>IC</td>\n",
       "    </tr>\n",
       "    <tr>\n",
       "      <th>2</th>\n",
       "      <td>33.9348</td>\n",
       "      <td>-118.2695</td>\n",
       "      <td>1</td>\n",
       "      <td>Morning</td>\n",
       "      <td>18.0</td>\n",
       "      <td>62</td>\n",
       "      <td>F</td>\n",
       "      <td>1914 1822 0355 0701 1202 0100</td>\n",
       "      <td>B</td>\n",
       "      <td>2</td>\n",
       "      <td>other_weapon</td>\n",
       "      <td>IC</td>\n",
       "    </tr>\n",
       "    <tr>\n",
       "      <th>3</th>\n",
       "      <td>34.0497</td>\n",
       "      <td>-118.3442</td>\n",
       "      <td>20</td>\n",
       "      <td>Night</td>\n",
       "      <td>7.0</td>\n",
       "      <td>0</td>\n",
       "      <td>X</td>\n",
       "      <td></td>\n",
       "      <td>B</td>\n",
       "      <td>1</td>\n",
       "      <td>Physical Force</td>\n",
       "      <td>IC</td>\n",
       "    </tr>\n",
       "    <tr>\n",
       "      <th>4</th>\n",
       "      <td>34.1611</td>\n",
       "      <td>-118.3704</td>\n",
       "      <td>1</td>\n",
       "      <td>Night</td>\n",
       "      <td>15.0</td>\n",
       "      <td>37</td>\n",
       "      <td>F</td>\n",
       "      <td>1501</td>\n",
       "      <td>W</td>\n",
       "      <td>2</td>\n",
       "      <td>Physical Force</td>\n",
       "      <td>AO</td>\n",
       "    </tr>\n",
       "    <tr>\n",
       "      <th>...</th>\n",
       "      <td>...</td>\n",
       "      <td>...</td>\n",
       "      <td>...</td>\n",
       "      <td>...</td>\n",
       "      <td>...</td>\n",
       "      <td>...</td>\n",
       "      <td>...</td>\n",
       "      <td>...</td>\n",
       "      <td>...</td>\n",
       "      <td>...</td>\n",
       "      <td>...</td>\n",
       "      <td>...</td>\n",
       "    </tr>\n",
       "    <tr>\n",
       "      <th>4995</th>\n",
       "      <td>34.0409</td>\n",
       "      <td>-118.3408</td>\n",
       "      <td>1</td>\n",
       "      <td>Night</td>\n",
       "      <td>7.0</td>\n",
       "      <td>0</td>\n",
       "      <td>X</td>\n",
       "      <td></td>\n",
       "      <td>H</td>\n",
       "      <td>1</td>\n",
       "      <td>Gun</td>\n",
       "      <td>IC</td>\n",
       "    </tr>\n",
       "    <tr>\n",
       "      <th>4996</th>\n",
       "      <td>34.0347</td>\n",
       "      <td>-118.2253</td>\n",
       "      <td>7</td>\n",
       "      <td>Daytime</td>\n",
       "      <td>4.0</td>\n",
       "      <td>0</td>\n",
       "      <td>X</td>\n",
       "      <td>1300 0325</td>\n",
       "      <td>X</td>\n",
       "      <td>1</td>\n",
       "      <td>Physical Force</td>\n",
       "      <td>IC</td>\n",
       "    </tr>\n",
       "    <tr>\n",
       "      <th>4997</th>\n",
       "      <td>34.2392</td>\n",
       "      <td>-118.4698</td>\n",
       "      <td>0</td>\n",
       "      <td>Night</td>\n",
       "      <td>19.0</td>\n",
       "      <td>38</td>\n",
       "      <td>M</td>\n",
       "      <td>1817 0416 0913</td>\n",
       "      <td>H</td>\n",
       "      <td>2</td>\n",
       "      <td>Physical Force</td>\n",
       "      <td>AA</td>\n",
       "    </tr>\n",
       "    <tr>\n",
       "      <th>4998</th>\n",
       "      <td>34.0453</td>\n",
       "      <td>-118.2443</td>\n",
       "      <td>1</td>\n",
       "      <td>Night</td>\n",
       "      <td>1.0</td>\n",
       "      <td>41</td>\n",
       "      <td>M</td>\n",
       "      <td>0416</td>\n",
       "      <td>B</td>\n",
       "      <td>2</td>\n",
       "      <td>sharp_heavy_object</td>\n",
       "      <td>AO</td>\n",
       "    </tr>\n",
       "    <tr>\n",
       "      <th>4999</th>\n",
       "      <td>33.9438</td>\n",
       "      <td>-118.2695</td>\n",
       "      <td>0</td>\n",
       "      <td>Night</td>\n",
       "      <td>18.0</td>\n",
       "      <td>49</td>\n",
       "      <td>M</td>\n",
       "      <td>0329 1822</td>\n",
       "      <td>B</td>\n",
       "      <td>2</td>\n",
       "      <td>Gun</td>\n",
       "      <td>IC</td>\n",
       "    </tr>\n",
       "  </tbody>\n",
       "</table>\n",
       "<p>5000 rows × 12 columns</p>\n",
       "</div>"
      ],
      "text/plain": [
       "      Latitude  Longitude  reporting_delay_day_count day_category  Area_ID  \\\n",
       "0      34.0128  -118.3045                          0      Evening      3.0   \n",
       "1      34.0726  -118.3029                         37        Night     20.0   \n",
       "2      33.9348  -118.2695                          1      Morning     18.0   \n",
       "3      34.0497  -118.3442                         20        Night      7.0   \n",
       "4      34.1611  -118.3704                          1        Night     15.0   \n",
       "...        ...        ...                        ...          ...      ...   \n",
       "4995   34.0409  -118.3408                          1        Night      7.0   \n",
       "4996   34.0347  -118.2253                          7      Daytime      4.0   \n",
       "4997   34.2392  -118.4698                          0        Night     19.0   \n",
       "4998   34.0453  -118.2443                          1        Night      1.0   \n",
       "4999   33.9438  -118.2695                          0        Night     18.0   \n",
       "\n",
       "      Victim_Age Victim_Sex                 Modus_Operandi Victim_Descent  \\\n",
       "0             28          F  2000 0416 1243 1241 1821 1813              H   \n",
       "1             26          M                      0394 0344              B   \n",
       "2             62          F  1914 1822 0355 0701 1202 0100              B   \n",
       "3              0          X                                             B   \n",
       "4             37          F                           1501              W   \n",
       "...          ...        ...                            ...            ...   \n",
       "4995           0          X                                             H   \n",
       "4996           0          X                      1300 0325              X   \n",
       "4997          38          M                 1817 0416 0913              H   \n",
       "4998          41          M                           0416              B   \n",
       "4999          49          M                      0329 1822              B   \n",
       "\n",
       "      Part 1-2  Weapon_Description Status  \n",
       "0            2      Physical Force     IC  \n",
       "1            1      Physical Force     IC  \n",
       "2            2        other_weapon     IC  \n",
       "3            1      Physical Force     IC  \n",
       "4            2      Physical Force     AO  \n",
       "...        ...                 ...    ...  \n",
       "4995         1                 Gun     IC  \n",
       "4996         1      Physical Force     IC  \n",
       "4997         2      Physical Force     AA  \n",
       "4998         2  sharp_heavy_object     AO  \n",
       "4999         2                 Gun     IC  \n",
       "\n",
       "[5000 rows x 12 columns]"
      ]
     },
     "execution_count": 66,
     "metadata": {},
     "output_type": "execute_result"
    }
   ],
   "source": [
    "test"
   ]
  },
  {
   "cell_type": "code",
   "execution_count": 67,
   "id": "01d325bd",
   "metadata": {
    "execution": {
     "iopub.execute_input": "2024-06-28T18:25:49.159157Z",
     "iopub.status.busy": "2024-06-28T18:25:49.158701Z",
     "iopub.status.idle": "2024-06-28T18:25:49.168084Z",
     "shell.execute_reply": "2024-06-28T18:25:49.166389Z"
    },
    "papermill": {
     "duration": 0.047044,
     "end_time": "2024-06-28T18:25:49.171307",
     "exception": false,
     "start_time": "2024-06-28T18:25:49.124263",
     "status": "completed"
    },
    "tags": []
   },
   "outputs": [
    {
     "data": {
      "text/plain": [
       "(5000, 12)"
      ]
     },
     "execution_count": 67,
     "metadata": {},
     "output_type": "execute_result"
    }
   ],
   "source": [
    "test.shape"
   ]
  },
  {
   "cell_type": "code",
   "execution_count": 68,
   "id": "2b21689a",
   "metadata": {
    "execution": {
     "iopub.execute_input": "2024-06-28T18:25:49.237892Z",
     "iopub.status.busy": "2024-06-28T18:25:49.237412Z",
     "iopub.status.idle": "2024-06-28T18:25:49.260293Z",
     "shell.execute_reply": "2024-06-28T18:25:49.259067Z"
    },
    "papermill": {
     "duration": 0.059926,
     "end_time": "2024-06-28T18:25:49.262941",
     "exception": false,
     "start_time": "2024-06-28T18:25:49.203015",
     "status": "completed"
    },
    "tags": []
   },
   "outputs": [
    {
     "data": {
      "text/html": [
       "<div>\n",
       "<style scoped>\n",
       "    .dataframe tbody tr th:only-of-type {\n",
       "        vertical-align: middle;\n",
       "    }\n",
       "\n",
       "    .dataframe tbody tr th {\n",
       "        vertical-align: top;\n",
       "    }\n",
       "\n",
       "    .dataframe thead th {\n",
       "        text-align: right;\n",
       "    }\n",
       "</style>\n",
       "<table border=\"1\" class=\"dataframe\">\n",
       "  <thead>\n",
       "    <tr style=\"text-align: right;\">\n",
       "      <th></th>\n",
       "      <th>ID</th>\n",
       "      <th>Crime_Category</th>\n",
       "      <th>Unnamed: 2</th>\n",
       "    </tr>\n",
       "  </thead>\n",
       "  <tbody>\n",
       "    <tr>\n",
       "      <th>0</th>\n",
       "      <td>1</td>\n",
       "      <td>Crimes against Persons</td>\n",
       "      <td>NaN</td>\n",
       "    </tr>\n",
       "    <tr>\n",
       "      <th>1</th>\n",
       "      <td>2</td>\n",
       "      <td>Crimes against Public Order</td>\n",
       "      <td>NaN</td>\n",
       "    </tr>\n",
       "    <tr>\n",
       "      <th>2</th>\n",
       "      <td>3</td>\n",
       "      <td>Other Crimes</td>\n",
       "      <td>NaN</td>\n",
       "    </tr>\n",
       "    <tr>\n",
       "      <th>3</th>\n",
       "      <td>4</td>\n",
       "      <td>Crimes against Public Order</td>\n",
       "      <td>NaN</td>\n",
       "    </tr>\n",
       "    <tr>\n",
       "      <th>4</th>\n",
       "      <td>5</td>\n",
       "      <td>Other Crimes</td>\n",
       "      <td>NaN</td>\n",
       "    </tr>\n",
       "    <tr>\n",
       "      <th>...</th>\n",
       "      <td>...</td>\n",
       "      <td>...</td>\n",
       "      <td>...</td>\n",
       "    </tr>\n",
       "    <tr>\n",
       "      <th>995</th>\n",
       "      <td>996</td>\n",
       "      <td>Fraud and White-Collar Crimes</td>\n",
       "      <td>NaN</td>\n",
       "    </tr>\n",
       "    <tr>\n",
       "      <th>996</th>\n",
       "      <td>997</td>\n",
       "      <td>Property Crimes</td>\n",
       "      <td>NaN</td>\n",
       "    </tr>\n",
       "    <tr>\n",
       "      <th>997</th>\n",
       "      <td>998</td>\n",
       "      <td>Violent Crimes</td>\n",
       "      <td>NaN</td>\n",
       "    </tr>\n",
       "    <tr>\n",
       "      <th>998</th>\n",
       "      <td>999</td>\n",
       "      <td>Property Crimes</td>\n",
       "      <td>NaN</td>\n",
       "    </tr>\n",
       "    <tr>\n",
       "      <th>999</th>\n",
       "      <td>1000</td>\n",
       "      <td>Violent Crimes</td>\n",
       "      <td>NaN</td>\n",
       "    </tr>\n",
       "  </tbody>\n",
       "</table>\n",
       "<p>1000 rows × 3 columns</p>\n",
       "</div>"
      ],
      "text/plain": [
       "       ID                Crime_Category   Unnamed: 2\n",
       "0       1         Crimes against Persons         NaN\n",
       "1       2    Crimes against Public Order         NaN\n",
       "2       3                   Other Crimes         NaN\n",
       "3       4    Crimes against Public Order         NaN\n",
       "4       5                   Other Crimes         NaN\n",
       "..    ...                            ...         ...\n",
       "995   996  Fraud and White-Collar Crimes         NaN\n",
       "996   997                Property Crimes         NaN\n",
       "997   998                 Violent Crimes         NaN\n",
       "998   999                Property Crimes         NaN\n",
       "999  1000                 Violent Crimes         NaN\n",
       "\n",
       "[1000 rows x 3 columns]"
      ]
     },
     "execution_count": 68,
     "metadata": {},
     "output_type": "execute_result"
    }
   ],
   "source": [
    "sample=pd.read_csv('/kaggle/input/crime-cast-forecasting-crime-categories/sample.csv')\n",
    "sample"
   ]
  },
  {
   "cell_type": "code",
   "execution_count": 69,
   "id": "7f0b6956",
   "metadata": {
    "execution": {
     "iopub.execute_input": "2024-06-28T18:25:49.331426Z",
     "iopub.status.busy": "2024-06-28T18:25:49.330993Z",
     "iopub.status.idle": "2024-06-28T18:25:49.345652Z",
     "shell.execute_reply": "2024-06-28T18:25:49.344321Z"
    },
    "papermill": {
     "duration": 0.053188,
     "end_time": "2024-06-28T18:25:49.348875",
     "exception": false,
     "start_time": "2024-06-28T18:25:49.295687",
     "status": "completed"
    },
    "tags": []
   },
   "outputs": [
    {
     "data": {
      "text/plain": [
       "Latitude                     0\n",
       "Longitude                    0\n",
       "reporting_delay_day_count    0\n",
       "day_category                 0\n",
       "Area_ID                      0\n",
       "Victim_Age                   0\n",
       "Victim_Sex                   0\n",
       "Modus_Operandi               0\n",
       "Victim_Descent               0\n",
       "Part 1-2                     0\n",
       "Weapon_Description           0\n",
       "Status                       0\n",
       "dtype: int64"
      ]
     },
     "execution_count": 69,
     "metadata": {},
     "output_type": "execute_result"
    }
   ],
   "source": [
    "test.isnull().sum()"
   ]
  },
  {
   "cell_type": "code",
   "execution_count": 70,
   "id": "489ba8da",
   "metadata": {
    "execution": {
     "iopub.execute_input": "2024-06-28T18:25:49.416240Z",
     "iopub.status.busy": "2024-06-28T18:25:49.415819Z",
     "iopub.status.idle": "2024-06-28T18:25:53.222292Z",
     "shell.execute_reply": "2024-06-28T18:25:53.220526Z"
    },
    "papermill": {
     "duration": 3.844924,
     "end_time": "2024-06-28T18:25:53.226345",
     "exception": false,
     "start_time": "2024-06-28T18:25:49.381421",
     "status": "completed"
    },
    "tags": []
   },
   "outputs": [],
   "source": [
    "y_pred=kn_classifier_tuned.predict(test)\n",
    "submission=pd.DataFrame({'ID': np.arange(1,5000+1), 'Crime_Category': y_pred})\n",
    "\n",
    "submission.to_csv('submission.csv',index=False)"
   ]
  },
  {
   "cell_type": "code",
   "execution_count": null,
   "id": "8c6549af",
   "metadata": {
    "papermill": {
     "duration": 0.032991,
     "end_time": "2024-06-28T18:25:53.291460",
     "exception": false,
     "start_time": "2024-06-28T18:25:53.258469",
     "status": "completed"
    },
    "tags": []
   },
   "outputs": [],
   "source": []
  },
  {
   "cell_type": "code",
   "execution_count": null,
   "id": "69223451",
   "metadata": {
    "papermill": {
     "duration": 0.032117,
     "end_time": "2024-06-28T18:25:53.356778",
     "exception": false,
     "start_time": "2024-06-28T18:25:53.324661",
     "status": "completed"
    },
    "tags": []
   },
   "outputs": [],
   "source": []
  },
  {
   "cell_type": "code",
   "execution_count": null,
   "id": "8120cd5f",
   "metadata": {
    "papermill": {
     "duration": 0.032297,
     "end_time": "2024-06-28T18:25:53.421919",
     "exception": false,
     "start_time": "2024-06-28T18:25:53.389622",
     "status": "completed"
    },
    "tags": []
   },
   "outputs": [],
   "source": []
  },
  {
   "cell_type": "code",
   "execution_count": null,
   "id": "2b972de9",
   "metadata": {
    "papermill": {
     "duration": 0.032218,
     "end_time": "2024-06-28T18:25:53.487949",
     "exception": false,
     "start_time": "2024-06-28T18:25:53.455731",
     "status": "completed"
    },
    "tags": []
   },
   "outputs": [],
   "source": []
  },
  {
   "cell_type": "code",
   "execution_count": null,
   "id": "1820a37e",
   "metadata": {
    "papermill": {
     "duration": 0.032741,
     "end_time": "2024-06-28T18:25:53.553809",
     "exception": false,
     "start_time": "2024-06-28T18:25:53.521068",
     "status": "completed"
    },
    "tags": []
   },
   "outputs": [],
   "source": []
  },
  {
   "cell_type": "code",
   "execution_count": null,
   "id": "407670f6",
   "metadata": {
    "papermill": {
     "duration": 0.035989,
     "end_time": "2024-06-28T18:25:53.621920",
     "exception": false,
     "start_time": "2024-06-28T18:25:53.585931",
     "status": "completed"
    },
    "tags": []
   },
   "outputs": [],
   "source": []
  }
 ],
 "metadata": {
  "kaggle": {
   "accelerator": "none",
   "dataSources": [
    {
     "databundleVersionId": 8446444,
     "sourceId": 77420,
     "sourceType": "competition"
    }
   ],
   "dockerImageVersionId": 30715,
   "isGpuEnabled": false,
   "isInternetEnabled": false,
   "language": "python",
   "sourceType": "notebook"
  },
  "kernelspec": {
   "display_name": "Python 3",
   "language": "python",
   "name": "python3"
  },
  "language_info": {
   "codemirror_mode": {
    "name": "ipython",
    "version": 3
   },
   "file_extension": ".py",
   "mimetype": "text/x-python",
   "name": "python",
   "nbconvert_exporter": "python",
   "pygments_lexer": "ipython3",
   "version": "3.10.13"
  },
  "papermill": {
   "default_parameters": {},
   "duration": 107.692045,
   "end_time": "2024-06-28T18:25:54.383282",
   "environment_variables": {},
   "exception": null,
   "input_path": "__notebook__.ipynb",
   "output_path": "__notebook__.ipynb",
   "parameters": {},
   "start_time": "2024-06-28T18:24:06.691237",
   "version": "2.5.0"
  }
 },
 "nbformat": 4,
 "nbformat_minor": 5
}
