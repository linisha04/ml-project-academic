{
 "cells": [
  {
   "cell_type": "code",
   "execution_count": 1,
   "id": "53a26050",
   "metadata": {
    "_cell_guid": "b1076dfc-b9ad-4769-8c92-a6c4dae69d19",
    "_uuid": "8f2839f25d086af736a60e9eeb907d3b93b6e0e5",
    "execution": {
     "iopub.execute_input": "2024-06-22T14:48:43.938791Z",
     "iopub.status.busy": "2024-06-22T14:48:43.938412Z",
     "iopub.status.idle": "2024-06-22T14:48:44.923144Z",
     "shell.execute_reply": "2024-06-22T14:48:44.921626Z"
    },
    "papermill": {
     "duration": 1.010995,
     "end_time": "2024-06-22T14:48:44.926041",
     "exception": false,
     "start_time": "2024-06-22T14:48:43.915046",
     "status": "completed"
    },
    "tags": []
   },
   "outputs": [
    {
     "name": "stdout",
     "output_type": "stream",
     "text": [
      "/kaggle/input/crime-cast-forecasting-crime-categories/sample.csv\n",
      "/kaggle/input/crime-cast-forecasting-crime-categories/train.csv\n",
      "/kaggle/input/crime-cast-forecasting-crime-categories/test.csv\n"
     ]
    }
   ],
   "source": [
    "# This Python 3 environment comes with many helpful analytics libraries installed\n",
    "# It is defined by the kaggle/python Docker image: https://github.com/kaggle/docker-python\n",
    "# For example, here's several helpful packages to load\n",
    "\n",
    "import numpy as np # linear algebra\n",
    "import pandas as pd # data processing, CSV file I/O (e.g. pd.read_csv)\n",
    "\n",
    "# Input data files are available in the read-only \"../input/\" directory\n",
    "# For example, running this (by clicking run or pressing Shift+Enter) will list all files under the input directory\n",
    "\n",
    "import os\n",
    "for dirname, _, filenames in os.walk('/kaggle/input'):\n",
    "    for filename in filenames:\n",
    "        print(os.path.join(dirname, filename))\n",
    "\n",
    "# You can write up to 20GB to the current directory (/kaggle/working/) that gets preserved as output when you create a version using \"Save & Run All\" \n",
    "# You can also write temporary files to /kaggle/temp/, but they won't be saved outside of the current session"
   ]
  },
  {
   "cell_type": "code",
   "execution_count": 2,
   "id": "6c4517df",
   "metadata": {
    "execution": {
     "iopub.execute_input": "2024-06-22T14:48:44.972281Z",
     "iopub.status.busy": "2024-06-22T14:48:44.971758Z",
     "iopub.status.idle": "2024-06-22T14:48:46.784353Z",
     "shell.execute_reply": "2024-06-22T14:48:46.783214Z"
    },
    "papermill": {
     "duration": 1.837823,
     "end_time": "2024-06-22T14:48:46.787060",
     "exception": false,
     "start_time": "2024-06-22T14:48:44.949237",
     "status": "completed"
    },
    "tags": []
   },
   "outputs": [],
   "source": [
    "import matplotlib.pyplot as plt\n",
    "import seaborn as sns \n",
    "\n",
    "\n",
    "import datetime\n",
    "\n",
    "\n",
    "from sklearn.model_selection import train_test_split "
   ]
  },
  {
   "cell_type": "code",
   "execution_count": 3,
   "id": "70ca4056",
   "metadata": {
    "execution": {
     "iopub.execute_input": "2024-06-22T14:48:46.831803Z",
     "iopub.status.busy": "2024-06-22T14:48:46.831408Z",
     "iopub.status.idle": "2024-06-22T14:48:47.054415Z",
     "shell.execute_reply": "2024-06-22T14:48:47.052931Z"
    },
    "papermill": {
     "duration": 0.248371,
     "end_time": "2024-06-22T14:48:47.057274",
     "exception": false,
     "start_time": "2024-06-22T14:48:46.808903",
     "status": "completed"
    },
    "tags": []
   },
   "outputs": [],
   "source": [
    "train =pd.read_csv('/kaggle/input/crime-cast-forecasting-crime-categories/train.csv')\n",
    "test=pd.read_csv('/kaggle/input/crime-cast-forecasting-crime-categories/test.csv')\n"
   ]
  },
  {
   "cell_type": "code",
   "execution_count": 4,
   "id": "86ae7159",
   "metadata": {
    "execution": {
     "iopub.execute_input": "2024-06-22T14:48:47.103397Z",
     "iopub.status.busy": "2024-06-22T14:48:47.102639Z",
     "iopub.status.idle": "2024-06-22T14:48:47.169421Z",
     "shell.execute_reply": "2024-06-22T14:48:47.168125Z"
    },
    "papermill": {
     "duration": 0.092531,
     "end_time": "2024-06-22T14:48:47.171982",
     "exception": false,
     "start_time": "2024-06-22T14:48:47.079451",
     "status": "completed"
    },
    "tags": []
   },
   "outputs": [
    {
     "data": {
      "text/html": [
       "<div>\n",
       "<style scoped>\n",
       "    .dataframe tbody tr th:only-of-type {\n",
       "        vertical-align: middle;\n",
       "    }\n",
       "\n",
       "    .dataframe tbody tr th {\n",
       "        vertical-align: top;\n",
       "    }\n",
       "\n",
       "    .dataframe thead th {\n",
       "        text-align: right;\n",
       "    }\n",
       "</style>\n",
       "<table border=\"1\" class=\"dataframe\">\n",
       "  <thead>\n",
       "    <tr style=\"text-align: right;\">\n",
       "      <th></th>\n",
       "      <th>Location</th>\n",
       "      <th>Cross_Street</th>\n",
       "      <th>Latitude</th>\n",
       "      <th>Longitude</th>\n",
       "      <th>Date_Reported</th>\n",
       "      <th>Date_Occurred</th>\n",
       "      <th>Time_Occurred</th>\n",
       "      <th>Area_ID</th>\n",
       "      <th>Area_Name</th>\n",
       "      <th>Reporting_District_no</th>\n",
       "      <th>...</th>\n",
       "      <th>Victim_Age</th>\n",
       "      <th>Victim_Sex</th>\n",
       "      <th>Victim_Descent</th>\n",
       "      <th>Premise_Code</th>\n",
       "      <th>Premise_Description</th>\n",
       "      <th>Weapon_Used_Code</th>\n",
       "      <th>Weapon_Description</th>\n",
       "      <th>Status</th>\n",
       "      <th>Status_Description</th>\n",
       "      <th>Crime_Category</th>\n",
       "    </tr>\n",
       "  </thead>\n",
       "  <tbody>\n",
       "    <tr>\n",
       "      <th>0</th>\n",
       "      <td>4500    CARPENTER                    AV</td>\n",
       "      <td>NaN</td>\n",
       "      <td>34.1522</td>\n",
       "      <td>-118.3910</td>\n",
       "      <td>03/09/2020 12:00:00 AM</td>\n",
       "      <td>03/06/2020 12:00:00 AM</td>\n",
       "      <td>1800.0</td>\n",
       "      <td>15.0</td>\n",
       "      <td>N Hollywood</td>\n",
       "      <td>1563.0</td>\n",
       "      <td>...</td>\n",
       "      <td>75.0</td>\n",
       "      <td>M</td>\n",
       "      <td>W</td>\n",
       "      <td>101.0</td>\n",
       "      <td>STREET</td>\n",
       "      <td>NaN</td>\n",
       "      <td>NaN</td>\n",
       "      <td>IC</td>\n",
       "      <td>Invest Cont</td>\n",
       "      <td>Property Crimes</td>\n",
       "    </tr>\n",
       "    <tr>\n",
       "      <th>1</th>\n",
       "      <td>45TH                         ST</td>\n",
       "      <td>ALAMEDA                      ST</td>\n",
       "      <td>34.0028</td>\n",
       "      <td>-118.2391</td>\n",
       "      <td>02/27/2020 12:00:00 AM</td>\n",
       "      <td>02/27/2020 12:00:00 AM</td>\n",
       "      <td>1345.0</td>\n",
       "      <td>13.0</td>\n",
       "      <td>Newton</td>\n",
       "      <td>1367.0</td>\n",
       "      <td>...</td>\n",
       "      <td>41.0</td>\n",
       "      <td>M</td>\n",
       "      <td>H</td>\n",
       "      <td>216.0</td>\n",
       "      <td>SWAP MEET</td>\n",
       "      <td>400.0</td>\n",
       "      <td>STRONG-ARM (HANDS, FIST, FEET OR BODILY FORCE)</td>\n",
       "      <td>IC</td>\n",
       "      <td>Invest Cont</td>\n",
       "      <td>Property Crimes</td>\n",
       "    </tr>\n",
       "    <tr>\n",
       "      <th>2</th>\n",
       "      <td>600 E  MARTIN LUTHER KING JR        BL</td>\n",
       "      <td>NaN</td>\n",
       "      <td>34.0111</td>\n",
       "      <td>-118.2653</td>\n",
       "      <td>08/21/2020 12:00:00 AM</td>\n",
       "      <td>08/21/2020 12:00:00 AM</td>\n",
       "      <td>605.0</td>\n",
       "      <td>13.0</td>\n",
       "      <td>Newton</td>\n",
       "      <td>1343.0</td>\n",
       "      <td>...</td>\n",
       "      <td>67.0</td>\n",
       "      <td>M</td>\n",
       "      <td>B</td>\n",
       "      <td>501.0</td>\n",
       "      <td>SINGLE FAMILY DWELLING</td>\n",
       "      <td>NaN</td>\n",
       "      <td>NaN</td>\n",
       "      <td>IC</td>\n",
       "      <td>Invest Cont</td>\n",
       "      <td>Property Crimes</td>\n",
       "    </tr>\n",
       "    <tr>\n",
       "      <th>3</th>\n",
       "      <td>14900    ORO GRANDE                   ST</td>\n",
       "      <td>NaN</td>\n",
       "      <td>34.2953</td>\n",
       "      <td>-118.4590</td>\n",
       "      <td>11/08/2020 12:00:00 AM</td>\n",
       "      <td>11/06/2020 12:00:00 AM</td>\n",
       "      <td>1800.0</td>\n",
       "      <td>19.0</td>\n",
       "      <td>Mission</td>\n",
       "      <td>1924.0</td>\n",
       "      <td>...</td>\n",
       "      <td>61.0</td>\n",
       "      <td>M</td>\n",
       "      <td>H</td>\n",
       "      <td>101.0</td>\n",
       "      <td>STREET</td>\n",
       "      <td>NaN</td>\n",
       "      <td>NaN</td>\n",
       "      <td>IC</td>\n",
       "      <td>Invest Cont</td>\n",
       "      <td>Property Crimes</td>\n",
       "    </tr>\n",
       "    <tr>\n",
       "      <th>4</th>\n",
       "      <td>7100 S  VERMONT                      AV</td>\n",
       "      <td>NaN</td>\n",
       "      <td>33.9787</td>\n",
       "      <td>-118.2918</td>\n",
       "      <td>02/25/2020 12:00:00 AM</td>\n",
       "      <td>02/25/2020 12:00:00 AM</td>\n",
       "      <td>1130.0</td>\n",
       "      <td>12.0</td>\n",
       "      <td>77th Street</td>\n",
       "      <td>1245.0</td>\n",
       "      <td>...</td>\n",
       "      <td>0.0</td>\n",
       "      <td>X</td>\n",
       "      <td>X</td>\n",
       "      <td>401.0</td>\n",
       "      <td>MINI-MART</td>\n",
       "      <td>400.0</td>\n",
       "      <td>STRONG-ARM (HANDS, FIST, FEET OR BODILY FORCE)</td>\n",
       "      <td>IC</td>\n",
       "      <td>Invest Cont</td>\n",
       "      <td>Property Crimes</td>\n",
       "    </tr>\n",
       "    <tr>\n",
       "      <th>...</th>\n",
       "      <td>...</td>\n",
       "      <td>...</td>\n",
       "      <td>...</td>\n",
       "      <td>...</td>\n",
       "      <td>...</td>\n",
       "      <td>...</td>\n",
       "      <td>...</td>\n",
       "      <td>...</td>\n",
       "      <td>...</td>\n",
       "      <td>...</td>\n",
       "      <td>...</td>\n",
       "      <td>...</td>\n",
       "      <td>...</td>\n",
       "      <td>...</td>\n",
       "      <td>...</td>\n",
       "      <td>...</td>\n",
       "      <td>...</td>\n",
       "      <td>...</td>\n",
       "      <td>...</td>\n",
       "      <td>...</td>\n",
       "      <td>...</td>\n",
       "    </tr>\n",
       "    <tr>\n",
       "      <th>19995</th>\n",
       "      <td>5100 W  ADAMS                        BL</td>\n",
       "      <td>NaN</td>\n",
       "      <td>34.0334</td>\n",
       "      <td>-118.3523</td>\n",
       "      <td>05/24/2020 12:00:00 AM</td>\n",
       "      <td>05/24/2020 12:00:00 AM</td>\n",
       "      <td>700.0</td>\n",
       "      <td>3.0</td>\n",
       "      <td>Southwest</td>\n",
       "      <td>303.0</td>\n",
       "      <td>...</td>\n",
       "      <td>51.0</td>\n",
       "      <td>M</td>\n",
       "      <td>H</td>\n",
       "      <td>501.0</td>\n",
       "      <td>SINGLE FAMILY DWELLING</td>\n",
       "      <td>400.0</td>\n",
       "      <td>STRONG-ARM (HANDS, FIST, FEET OR BODILY FORCE)</td>\n",
       "      <td>IC</td>\n",
       "      <td>Invest Cont</td>\n",
       "      <td>Violent Crimes</td>\n",
       "    </tr>\n",
       "    <tr>\n",
       "      <th>19996</th>\n",
       "      <td>16900    ROSCOE                       BL</td>\n",
       "      <td>NaN</td>\n",
       "      <td>34.2212</td>\n",
       "      <td>-118.5011</td>\n",
       "      <td>12/25/2020 12:00:00 AM</td>\n",
       "      <td>12/25/2020 12:00:00 AM</td>\n",
       "      <td>259.0</td>\n",
       "      <td>10.0</td>\n",
       "      <td>West Valley</td>\n",
       "      <td>1008.0</td>\n",
       "      <td>...</td>\n",
       "      <td>0.0</td>\n",
       "      <td>M</td>\n",
       "      <td>W</td>\n",
       "      <td>301.0</td>\n",
       "      <td>GAS STATION</td>\n",
       "      <td>NaN</td>\n",
       "      <td>NaN</td>\n",
       "      <td>IC</td>\n",
       "      <td>Invest Cont</td>\n",
       "      <td>Property Crimes</td>\n",
       "    </tr>\n",
       "    <tr>\n",
       "      <th>19997</th>\n",
       "      <td>1000 S  SHENANDOAH                   ST</td>\n",
       "      <td>NaN</td>\n",
       "      <td>34.0571</td>\n",
       "      <td>-118.3815</td>\n",
       "      <td>09/25/2020 12:00:00 AM</td>\n",
       "      <td>09/25/2020 12:00:00 AM</td>\n",
       "      <td>1400.0</td>\n",
       "      <td>8.0</td>\n",
       "      <td>West LA</td>\n",
       "      <td>849.0</td>\n",
       "      <td>...</td>\n",
       "      <td>42.0</td>\n",
       "      <td>M</td>\n",
       "      <td>H</td>\n",
       "      <td>102.0</td>\n",
       "      <td>SIDEWALK</td>\n",
       "      <td>NaN</td>\n",
       "      <td>NaN</td>\n",
       "      <td>IC</td>\n",
       "      <td>Invest Cont</td>\n",
       "      <td>Property Crimes</td>\n",
       "    </tr>\n",
       "    <tr>\n",
       "      <th>19998</th>\n",
       "      <td>300 W  SEPULVEDA                    ST</td>\n",
       "      <td>NaN</td>\n",
       "      <td>33.7451</td>\n",
       "      <td>-118.2835</td>\n",
       "      <td>06/10/2020 12:00:00 AM</td>\n",
       "      <td>06/10/2020 12:00:00 AM</td>\n",
       "      <td>600.0</td>\n",
       "      <td>5.0</td>\n",
       "      <td>Harbor</td>\n",
       "      <td>558.0</td>\n",
       "      <td>...</td>\n",
       "      <td>76.0</td>\n",
       "      <td>F</td>\n",
       "      <td>H</td>\n",
       "      <td>501.0</td>\n",
       "      <td>SINGLE FAMILY DWELLING</td>\n",
       "      <td>NaN</td>\n",
       "      <td>NaN</td>\n",
       "      <td>IC</td>\n",
       "      <td>Invest Cont</td>\n",
       "      <td>Crimes against Public Order</td>\n",
       "    </tr>\n",
       "    <tr>\n",
       "      <th>19999</th>\n",
       "      <td>DALTON                       AV</td>\n",
       "      <td>VERNON                       AV</td>\n",
       "      <td>34.0037</td>\n",
       "      <td>-118.3034</td>\n",
       "      <td>02/18/2020 12:00:00 AM</td>\n",
       "      <td>02/17/2020 12:00:00 AM</td>\n",
       "      <td>1800.0</td>\n",
       "      <td>3.0</td>\n",
       "      <td>Southwest</td>\n",
       "      <td>397.0</td>\n",
       "      <td>...</td>\n",
       "      <td>0.0</td>\n",
       "      <td>NaN</td>\n",
       "      <td>NaN</td>\n",
       "      <td>101.0</td>\n",
       "      <td>STREET</td>\n",
       "      <td>NaN</td>\n",
       "      <td>NaN</td>\n",
       "      <td>IC</td>\n",
       "      <td>Invest Cont</td>\n",
       "      <td>Property Crimes</td>\n",
       "    </tr>\n",
       "  </tbody>\n",
       "</table>\n",
       "<p>20000 rows × 22 columns</p>\n",
       "</div>"
      ],
      "text/plain": [
       "                                       Location  \\\n",
       "0       4500    CARPENTER                    AV   \n",
       "1               45TH                         ST   \n",
       "2        600 E  MARTIN LUTHER KING JR        BL   \n",
       "3      14900    ORO GRANDE                   ST   \n",
       "4       7100 S  VERMONT                      AV   \n",
       "...                                         ...   \n",
       "19995   5100 W  ADAMS                        BL   \n",
       "19996  16900    ROSCOE                       BL   \n",
       "19997   1000 S  SHENANDOAH                   ST   \n",
       "19998    300 W  SEPULVEDA                    ST   \n",
       "19999           DALTON                       AV   \n",
       "\n",
       "                          Cross_Street  Latitude  Longitude  \\\n",
       "0                                  NaN   34.1522  -118.3910   \n",
       "1      ALAMEDA                      ST   34.0028  -118.2391   \n",
       "2                                  NaN   34.0111  -118.2653   \n",
       "3                                  NaN   34.2953  -118.4590   \n",
       "4                                  NaN   33.9787  -118.2918   \n",
       "...                                ...       ...        ...   \n",
       "19995                              NaN   34.0334  -118.3523   \n",
       "19996                              NaN   34.2212  -118.5011   \n",
       "19997                              NaN   34.0571  -118.3815   \n",
       "19998                              NaN   33.7451  -118.2835   \n",
       "19999  VERNON                       AV   34.0037  -118.3034   \n",
       "\n",
       "                Date_Reported           Date_Occurred  Time_Occurred  Area_ID  \\\n",
       "0      03/09/2020 12:00:00 AM  03/06/2020 12:00:00 AM         1800.0     15.0   \n",
       "1      02/27/2020 12:00:00 AM  02/27/2020 12:00:00 AM         1345.0     13.0   \n",
       "2      08/21/2020 12:00:00 AM  08/21/2020 12:00:00 AM          605.0     13.0   \n",
       "3      11/08/2020 12:00:00 AM  11/06/2020 12:00:00 AM         1800.0     19.0   \n",
       "4      02/25/2020 12:00:00 AM  02/25/2020 12:00:00 AM         1130.0     12.0   \n",
       "...                       ...                     ...            ...      ...   \n",
       "19995  05/24/2020 12:00:00 AM  05/24/2020 12:00:00 AM          700.0      3.0   \n",
       "19996  12/25/2020 12:00:00 AM  12/25/2020 12:00:00 AM          259.0     10.0   \n",
       "19997  09/25/2020 12:00:00 AM  09/25/2020 12:00:00 AM         1400.0      8.0   \n",
       "19998  06/10/2020 12:00:00 AM  06/10/2020 12:00:00 AM          600.0      5.0   \n",
       "19999  02/18/2020 12:00:00 AM  02/17/2020 12:00:00 AM         1800.0      3.0   \n",
       "\n",
       "         Area_Name  Reporting_District_no  ...  Victim_Age Victim_Sex  \\\n",
       "0      N Hollywood                 1563.0  ...        75.0          M   \n",
       "1           Newton                 1367.0  ...        41.0          M   \n",
       "2           Newton                 1343.0  ...        67.0          M   \n",
       "3          Mission                 1924.0  ...        61.0          M   \n",
       "4      77th Street                 1245.0  ...         0.0          X   \n",
       "...            ...                    ...  ...         ...        ...   \n",
       "19995    Southwest                  303.0  ...        51.0          M   \n",
       "19996  West Valley                 1008.0  ...         0.0          M   \n",
       "19997      West LA                  849.0  ...        42.0          M   \n",
       "19998       Harbor                  558.0  ...        76.0          F   \n",
       "19999    Southwest                  397.0  ...         0.0        NaN   \n",
       "\n",
       "       Victim_Descent Premise_Code     Premise_Description  Weapon_Used_Code  \\\n",
       "0                   W        101.0                  STREET               NaN   \n",
       "1                   H        216.0               SWAP MEET             400.0   \n",
       "2                   B        501.0  SINGLE FAMILY DWELLING               NaN   \n",
       "3                   H        101.0                  STREET               NaN   \n",
       "4                   X        401.0               MINI-MART             400.0   \n",
       "...               ...          ...                     ...               ...   \n",
       "19995               H        501.0  SINGLE FAMILY DWELLING             400.0   \n",
       "19996               W        301.0             GAS STATION               NaN   \n",
       "19997               H        102.0                SIDEWALK               NaN   \n",
       "19998               H        501.0  SINGLE FAMILY DWELLING               NaN   \n",
       "19999             NaN        101.0                  STREET               NaN   \n",
       "\n",
       "                                   Weapon_Description  Status  \\\n",
       "0                                                 NaN      IC   \n",
       "1      STRONG-ARM (HANDS, FIST, FEET OR BODILY FORCE)      IC   \n",
       "2                                                 NaN      IC   \n",
       "3                                                 NaN      IC   \n",
       "4      STRONG-ARM (HANDS, FIST, FEET OR BODILY FORCE)      IC   \n",
       "...                                               ...     ...   \n",
       "19995  STRONG-ARM (HANDS, FIST, FEET OR BODILY FORCE)      IC   \n",
       "19996                                             NaN      IC   \n",
       "19997                                             NaN      IC   \n",
       "19998                                             NaN      IC   \n",
       "19999                                             NaN      IC   \n",
       "\n",
       "      Status_Description               Crime_Category  \n",
       "0            Invest Cont              Property Crimes  \n",
       "1            Invest Cont              Property Crimes  \n",
       "2            Invest Cont              Property Crimes  \n",
       "3            Invest Cont              Property Crimes  \n",
       "4            Invest Cont              Property Crimes  \n",
       "...                  ...                          ...  \n",
       "19995        Invest Cont               Violent Crimes  \n",
       "19996        Invest Cont              Property Crimes  \n",
       "19997        Invest Cont              Property Crimes  \n",
       "19998        Invest Cont  Crimes against Public Order  \n",
       "19999        Invest Cont              Property Crimes  \n",
       "\n",
       "[20000 rows x 22 columns]"
      ]
     },
     "execution_count": 4,
     "metadata": {},
     "output_type": "execute_result"
    }
   ],
   "source": [
    "train"
   ]
  },
  {
   "cell_type": "code",
   "execution_count": 5,
   "id": "3f97d802",
   "metadata": {
    "execution": {
     "iopub.execute_input": "2024-06-22T14:48:47.218710Z",
     "iopub.status.busy": "2024-06-22T14:48:47.218298Z",
     "iopub.status.idle": "2024-06-22T14:48:47.226468Z",
     "shell.execute_reply": "2024-06-22T14:48:47.225154Z"
    },
    "papermill": {
     "duration": 0.034502,
     "end_time": "2024-06-22T14:48:47.228679",
     "exception": false,
     "start_time": "2024-06-22T14:48:47.194177",
     "status": "completed"
    },
    "tags": []
   },
   "outputs": [
    {
     "data": {
      "text/plain": [
       "(20000, 22)"
      ]
     },
     "execution_count": 5,
     "metadata": {},
     "output_type": "execute_result"
    }
   ],
   "source": [
    "train.shape"
   ]
  },
  {
   "cell_type": "code",
   "execution_count": 6,
   "id": "e3fc3ec5",
   "metadata": {
    "execution": {
     "iopub.execute_input": "2024-06-22T14:48:47.275074Z",
     "iopub.status.busy": "2024-06-22T14:48:47.274702Z",
     "iopub.status.idle": "2024-06-22T14:48:47.314448Z",
     "shell.execute_reply": "2024-06-22T14:48:47.313085Z"
    },
    "papermill": {
     "duration": 0.066824,
     "end_time": "2024-06-22T14:48:47.317431",
     "exception": false,
     "start_time": "2024-06-22T14:48:47.250607",
     "status": "completed"
    },
    "tags": []
   },
   "outputs": [
    {
     "name": "stdout",
     "output_type": "stream",
     "text": [
      "<class 'pandas.core.frame.DataFrame'>\n",
      "RangeIndex: 20000 entries, 0 to 19999\n",
      "Data columns (total 22 columns):\n",
      " #   Column                 Non-Null Count  Dtype  \n",
      "---  ------                 --------------  -----  \n",
      " 0   Location               20000 non-null  object \n",
      " 1   Cross_Street           3448 non-null   object \n",
      " 2   Latitude               20000 non-null  float64\n",
      " 3   Longitude              20000 non-null  float64\n",
      " 4   Date_Reported          20000 non-null  object \n",
      " 5   Date_Occurred          20000 non-null  object \n",
      " 6   Time_Occurred          20000 non-null  float64\n",
      " 7   Area_ID                20000 non-null  float64\n",
      " 8   Area_Name              20000 non-null  object \n",
      " 9   Reporting_District_no  20000 non-null  float64\n",
      " 10  Part 1-2               20000 non-null  float64\n",
      " 11  Modus_Operandi         17259 non-null  object \n",
      " 12  Victim_Age             20000 non-null  float64\n",
      " 13  Victim_Sex             17376 non-null  object \n",
      " 14  Victim_Descent         17376 non-null  object \n",
      " 15  Premise_Code           20000 non-null  float64\n",
      " 16  Premise_Description    19995 non-null  object \n",
      " 17  Weapon_Used_Code       7335 non-null   float64\n",
      " 18  Weapon_Description     7335 non-null   object \n",
      " 19  Status                 20000 non-null  object \n",
      " 20  Status_Description     20000 non-null  object \n",
      " 21  Crime_Category         20000 non-null  object \n",
      "dtypes: float64(9), object(13)\n",
      "memory usage: 3.4+ MB\n"
     ]
    }
   ],
   "source": [
    "train.info()"
   ]
  },
  {
   "cell_type": "code",
   "execution_count": 7,
   "id": "ca918583",
   "metadata": {
    "execution": {
     "iopub.execute_input": "2024-06-22T14:48:47.363472Z",
     "iopub.status.busy": "2024-06-22T14:48:47.363081Z",
     "iopub.status.idle": "2024-06-22T14:48:47.385096Z",
     "shell.execute_reply": "2024-06-22T14:48:47.383979Z"
    },
    "papermill": {
     "duration": 0.047894,
     "end_time": "2024-06-22T14:48:47.387555",
     "exception": false,
     "start_time": "2024-06-22T14:48:47.339661",
     "status": "completed"
    },
    "tags": []
   },
   "outputs": [
    {
     "data": {
      "text/plain": [
       "Location                     0\n",
       "Cross_Street             16552\n",
       "Latitude                     0\n",
       "Longitude                    0\n",
       "Date_Reported                0\n",
       "Date_Occurred                0\n",
       "Time_Occurred                0\n",
       "Area_ID                      0\n",
       "Area_Name                    0\n",
       "Reporting_District_no        0\n",
       "Part 1-2                     0\n",
       "Modus_Operandi            2741\n",
       "Victim_Age                   0\n",
       "Victim_Sex                2624\n",
       "Victim_Descent            2624\n",
       "Premise_Code                 0\n",
       "Premise_Description          5\n",
       "Weapon_Used_Code         12665\n",
       "Weapon_Description       12665\n",
       "Status                       0\n",
       "Status_Description           0\n",
       "Crime_Category               0\n",
       "dtype: int64"
      ]
     },
     "execution_count": 7,
     "metadata": {},
     "output_type": "execute_result"
    }
   ],
   "source": [
    "train.isnull().sum()"
   ]
  },
  {
   "cell_type": "code",
   "execution_count": 8,
   "id": "381b2207",
   "metadata": {
    "execution": {
     "iopub.execute_input": "2024-06-22T14:48:47.434831Z",
     "iopub.status.busy": "2024-06-22T14:48:47.434417Z",
     "iopub.status.idle": "2024-06-22T14:48:47.447773Z",
     "shell.execute_reply": "2024-06-22T14:48:47.446431Z"
    },
    "papermill": {
     "duration": 0.040038,
     "end_time": "2024-06-22T14:48:47.450349",
     "exception": false,
     "start_time": "2024-06-22T14:48:47.410311",
     "status": "completed"
    },
    "tags": []
   },
   "outputs": [
    {
     "data": {
      "text/plain": [
       "Location                    0\n",
       "Cross_Street             4190\n",
       "Latitude                    0\n",
       "Longitude                   0\n",
       "Date_Reported               0\n",
       "Date_Occurred               0\n",
       "Time_Occurred               0\n",
       "Area_ID                     0\n",
       "Area_Name                   0\n",
       "Reporting_District_no       0\n",
       "Part 1-2                    0\n",
       "Modus_Operandi            684\n",
       "Victim_Age                  0\n",
       "Victim_Sex                643\n",
       "Victim_Descent            643\n",
       "Premise_Code                0\n",
       "Premise_Description         1\n",
       "Weapon_Used_Code         3153\n",
       "Weapon_Description       3153\n",
       "Status                      0\n",
       "Status_Description          0\n",
       "dtype: int64"
      ]
     },
     "execution_count": 8,
     "metadata": {},
     "output_type": "execute_result"
    }
   ],
   "source": [
    "test.isnull().sum()"
   ]
  },
  {
   "cell_type": "code",
   "execution_count": 9,
   "id": "be68fad5",
   "metadata": {
    "execution": {
     "iopub.execute_input": "2024-06-22T14:48:47.497105Z",
     "iopub.status.busy": "2024-06-22T14:48:47.496729Z",
     "iopub.status.idle": "2024-06-22T14:48:47.503793Z",
     "shell.execute_reply": "2024-06-22T14:48:47.502682Z"
    },
    "papermill": {
     "duration": 0.033297,
     "end_time": "2024-06-22T14:48:47.506048",
     "exception": false,
     "start_time": "2024-06-22T14:48:47.472751",
     "status": "completed"
    },
    "tags": []
   },
   "outputs": [
    {
     "data": {
      "text/plain": [
       "(5000, 21)"
      ]
     },
     "execution_count": 9,
     "metadata": {},
     "output_type": "execute_result"
    }
   ],
   "source": [
    "test.shape"
   ]
  },
  {
   "cell_type": "code",
   "execution_count": 10,
   "id": "88b09103",
   "metadata": {
    "execution": {
     "iopub.execute_input": "2024-06-22T14:48:47.554697Z",
     "iopub.status.busy": "2024-06-22T14:48:47.554281Z",
     "iopub.status.idle": "2024-06-22T14:48:47.564134Z",
     "shell.execute_reply": "2024-06-22T14:48:47.563012Z"
    },
    "papermill": {
     "duration": 0.037118,
     "end_time": "2024-06-22T14:48:47.566683",
     "exception": false,
     "start_time": "2024-06-22T14:48:47.529565",
     "status": "completed"
    },
    "tags": []
   },
   "outputs": [
    {
     "data": {
      "text/plain": [
       "0         4500    CARPENTER                    AV\n",
       "1                 45TH                         ST\n",
       "2          600 E  MARTIN LUTHER KING JR        BL\n",
       "3        14900    ORO GRANDE                   ST\n",
       "4         7100 S  VERMONT                      AV\n",
       "                           ...                   \n",
       "19995     5100 W  ADAMS                        BL\n",
       "19996    16900    ROSCOE                       BL\n",
       "19997     1000 S  SHENANDOAH                   ST\n",
       "19998      300 W  SEPULVEDA                    ST\n",
       "19999             DALTON                       AV\n",
       "Name: Location, Length: 20000, dtype: object"
      ]
     },
     "execution_count": 10,
     "metadata": {},
     "output_type": "execute_result"
    }
   ],
   "source": [
    "train['Location']"
   ]
  },
  {
   "cell_type": "code",
   "execution_count": 11,
   "id": "fb2bf5e2",
   "metadata": {
    "execution": {
     "iopub.execute_input": "2024-06-22T14:48:47.673146Z",
     "iopub.status.busy": "2024-06-22T14:48:47.672714Z",
     "iopub.status.idle": "2024-06-22T14:48:47.690610Z",
     "shell.execute_reply": "2024-06-22T14:48:47.689150Z"
    },
    "papermill": {
     "duration": 0.04468,
     "end_time": "2024-06-22T14:48:47.693434",
     "exception": false,
     "start_time": "2024-06-22T14:48:47.648754",
     "status": "completed"
    },
    "tags": []
   },
   "outputs": [
    {
     "data": {
      "text/plain": [
       "Location\n",
       "6TH                                        33\n",
       "7TH                                        32\n",
       "VERMONT                      AV            31\n",
       "6TH                          ST            31\n",
       "7TH                          ST            30\n",
       "                                           ..\n",
       "2700 E  1ST                          ST     1\n",
       "9300    SWINTON                      AV     1\n",
       "MCKINLEY                                    1\n",
       "WADE                         ST             1\n",
       "DALTON                       AV             1\n",
       "Name: count, Length: 12399, dtype: int64"
      ]
     },
     "execution_count": 11,
     "metadata": {},
     "output_type": "execute_result"
    }
   ],
   "source": [
    "train['Location'].value_counts()"
   ]
  },
  {
   "cell_type": "code",
   "execution_count": 12,
   "id": "7b0f1897",
   "metadata": {
    "execution": {
     "iopub.execute_input": "2024-06-22T14:48:47.742609Z",
     "iopub.status.busy": "2024-06-22T14:48:47.742175Z",
     "iopub.status.idle": "2024-06-22T14:48:47.752918Z",
     "shell.execute_reply": "2024-06-22T14:48:47.751676Z"
    },
    "papermill": {
     "duration": 0.037932,
     "end_time": "2024-06-22T14:48:47.755656",
     "exception": false,
     "start_time": "2024-06-22T14:48:47.717724",
     "status": "completed"
    },
    "tags": []
   },
   "outputs": [
    {
     "data": {
      "text/plain": [
       "array(['4500    CARPENTER                    AV',\n",
       "       '45TH                         ST',\n",
       "       '600 E  MARTIN LUTHER KING JR        BL', ...,\n",
       "       '15800    STRATHERN                    ST',\n",
       "       '5100 W  ADAMS                        BL',\n",
       "       'DALTON                       AV'], dtype=object)"
      ]
     },
     "execution_count": 12,
     "metadata": {},
     "output_type": "execute_result"
    }
   ],
   "source": [
    "train['Location'].unique()"
   ]
  },
  {
   "cell_type": "code",
   "execution_count": 13,
   "id": "3e22176a",
   "metadata": {
    "execution": {
     "iopub.execute_input": "2024-06-22T14:48:47.804925Z",
     "iopub.status.busy": "2024-06-22T14:48:47.803813Z",
     "iopub.status.idle": "2024-06-22T14:48:47.814357Z",
     "shell.execute_reply": "2024-06-22T14:48:47.813278Z"
    },
    "papermill": {
     "duration": 0.037714,
     "end_time": "2024-06-22T14:48:47.816982",
     "exception": false,
     "start_time": "2024-06-22T14:48:47.779268",
     "status": "completed"
    },
    "tags": []
   },
   "outputs": [
    {
     "data": {
      "text/plain": [
       "Crime_Category\n",
       "Property Crimes                  11666\n",
       "Violent Crimes                    4767\n",
       "Crimes against Public Order       1808\n",
       "Fraud and White-Collar Crimes     1355\n",
       "Crimes against Persons             225\n",
       "Other Crimes                       179\n",
       "Name: count, dtype: int64"
      ]
     },
     "execution_count": 13,
     "metadata": {},
     "output_type": "execute_result"
    }
   ],
   "source": [
    "train['Crime_Category'].value_counts()"
   ]
  },
  {
   "cell_type": "code",
   "execution_count": 14,
   "id": "b8f048d9",
   "metadata": {
    "execution": {
     "iopub.execute_input": "2024-06-22T14:48:47.864912Z",
     "iopub.status.busy": "2024-06-22T14:48:47.864496Z",
     "iopub.status.idle": "2024-06-22T14:48:47.937028Z",
     "shell.execute_reply": "2024-06-22T14:48:47.935964Z"
    },
    "papermill": {
     "duration": 0.099551,
     "end_time": "2024-06-22T14:48:47.939650",
     "exception": false,
     "start_time": "2024-06-22T14:48:47.840099",
     "status": "completed"
    },
    "tags": []
   },
   "outputs": [
    {
     "data": {
      "text/html": [
       "<div>\n",
       "<style scoped>\n",
       "    .dataframe tbody tr th:only-of-type {\n",
       "        vertical-align: middle;\n",
       "    }\n",
       "\n",
       "    .dataframe tbody tr th {\n",
       "        vertical-align: top;\n",
       "    }\n",
       "\n",
       "    .dataframe thead th {\n",
       "        text-align: right;\n",
       "    }\n",
       "</style>\n",
       "<table border=\"1\" class=\"dataframe\">\n",
       "  <thead>\n",
       "    <tr style=\"text-align: right;\">\n",
       "      <th></th>\n",
       "      <th>Location</th>\n",
       "      <th>Cross_Street</th>\n",
       "      <th>Date_Reported</th>\n",
       "      <th>Date_Occurred</th>\n",
       "      <th>Area_Name</th>\n",
       "      <th>Modus_Operandi</th>\n",
       "      <th>Victim_Sex</th>\n",
       "      <th>Victim_Descent</th>\n",
       "      <th>Premise_Description</th>\n",
       "      <th>Weapon_Description</th>\n",
       "      <th>Status</th>\n",
       "      <th>Status_Description</th>\n",
       "      <th>Crime_Category</th>\n",
       "    </tr>\n",
       "  </thead>\n",
       "  <tbody>\n",
       "    <tr>\n",
       "      <th>count</th>\n",
       "      <td>20000</td>\n",
       "      <td>3448</td>\n",
       "      <td>20000</td>\n",
       "      <td>20000</td>\n",
       "      <td>20000</td>\n",
       "      <td>17259</td>\n",
       "      <td>17376</td>\n",
       "      <td>17376</td>\n",
       "      <td>19995</td>\n",
       "      <td>7335</td>\n",
       "      <td>20000</td>\n",
       "      <td>20000</td>\n",
       "      <td>20000</td>\n",
       "    </tr>\n",
       "    <tr>\n",
       "      <th>unique</th>\n",
       "      <td>12399</td>\n",
       "      <td>1495</td>\n",
       "      <td>811</td>\n",
       "      <td>366</td>\n",
       "      <td>21</td>\n",
       "      <td>10489</td>\n",
       "      <td>4</td>\n",
       "      <td>17</td>\n",
       "      <td>216</td>\n",
       "      <td>57</td>\n",
       "      <td>5</td>\n",
       "      <td>5</td>\n",
       "      <td>6</td>\n",
       "    </tr>\n",
       "    <tr>\n",
       "      <th>top</th>\n",
       "      <td>6TH</td>\n",
       "      <td>BROADWAY</td>\n",
       "      <td>07/13/2020 12:00:00 AM</td>\n",
       "      <td>01/01/2020 12:00:00 AM</td>\n",
       "      <td>77th Street</td>\n",
       "      <td>0344</td>\n",
       "      <td>M</td>\n",
       "      <td>H</td>\n",
       "      <td>STREET</td>\n",
       "      <td>STRONG-ARM (HANDS, FIST, FEET OR BODILY FORCE)</td>\n",
       "      <td>IC</td>\n",
       "      <td>Invest Cont</td>\n",
       "      <td>Property Crimes</td>\n",
       "    </tr>\n",
       "    <tr>\n",
       "      <th>freq</th>\n",
       "      <td>33</td>\n",
       "      <td>56</td>\n",
       "      <td>87</td>\n",
       "      <td>137</td>\n",
       "      <td>1345</td>\n",
       "      <td>826</td>\n",
       "      <td>8538</td>\n",
       "      <td>6143</td>\n",
       "      <td>5033</td>\n",
       "      <td>3990</td>\n",
       "      <td>15236</td>\n",
       "      <td>15236</td>\n",
       "      <td>11666</td>\n",
       "    </tr>\n",
       "  </tbody>\n",
       "</table>\n",
       "</div>"
      ],
      "text/plain": [
       "       Location Cross_Street           Date_Reported           Date_Occurred  \\\n",
       "count     20000         3448                   20000                   20000   \n",
       "unique    12399         1495                     811                     366   \n",
       "top         6TH     BROADWAY  07/13/2020 12:00:00 AM  01/01/2020 12:00:00 AM   \n",
       "freq         33           56                      87                     137   \n",
       "\n",
       "          Area_Name Modus_Operandi Victim_Sex Victim_Descent  \\\n",
       "count         20000          17259      17376          17376   \n",
       "unique           21          10489          4             17   \n",
       "top     77th Street           0344          M              H   \n",
       "freq           1345            826       8538           6143   \n",
       "\n",
       "       Premise_Description                              Weapon_Description  \\\n",
       "count                19995                                            7335   \n",
       "unique                 216                                              57   \n",
       "top                 STREET  STRONG-ARM (HANDS, FIST, FEET OR BODILY FORCE)   \n",
       "freq                  5033                                            3990   \n",
       "\n",
       "       Status Status_Description   Crime_Category  \n",
       "count   20000              20000            20000  \n",
       "unique      5                  5                6  \n",
       "top        IC        Invest Cont  Property Crimes  \n",
       "freq    15236              15236            11666  "
      ]
     },
     "execution_count": 14,
     "metadata": {},
     "output_type": "execute_result"
    }
   ],
   "source": [
    "train.describe(include='object')"
   ]
  },
  {
   "cell_type": "code",
   "execution_count": 15,
   "id": "83bb9c07",
   "metadata": {
    "execution": {
     "iopub.execute_input": "2024-06-22T14:48:47.988262Z",
     "iopub.status.busy": "2024-06-22T14:48:47.987737Z",
     "iopub.status.idle": "2024-06-22T14:48:48.032788Z",
     "shell.execute_reply": "2024-06-22T14:48:48.031510Z"
    },
    "papermill": {
     "duration": 0.072487,
     "end_time": "2024-06-22T14:48:48.035427",
     "exception": false,
     "start_time": "2024-06-22T14:48:47.962940",
     "status": "completed"
    },
    "tags": []
   },
   "outputs": [
    {
     "data": {
      "text/html": [
       "<div>\n",
       "<style scoped>\n",
       "    .dataframe tbody tr th:only-of-type {\n",
       "        vertical-align: middle;\n",
       "    }\n",
       "\n",
       "    .dataframe tbody tr th {\n",
       "        vertical-align: top;\n",
       "    }\n",
       "\n",
       "    .dataframe thead th {\n",
       "        text-align: right;\n",
       "    }\n",
       "</style>\n",
       "<table border=\"1\" class=\"dataframe\">\n",
       "  <thead>\n",
       "    <tr style=\"text-align: right;\">\n",
       "      <th></th>\n",
       "      <th>Latitude</th>\n",
       "      <th>Longitude</th>\n",
       "      <th>Time_Occurred</th>\n",
       "      <th>Area_ID</th>\n",
       "      <th>Reporting_District_no</th>\n",
       "      <th>Part 1-2</th>\n",
       "      <th>Victim_Age</th>\n",
       "      <th>Premise_Code</th>\n",
       "      <th>Weapon_Used_Code</th>\n",
       "    </tr>\n",
       "  </thead>\n",
       "  <tbody>\n",
       "    <tr>\n",
       "      <th>count</th>\n",
       "      <td>20000.000000</td>\n",
       "      <td>20000.000000</td>\n",
       "      <td>20000.000000</td>\n",
       "      <td>20000.000000</td>\n",
       "      <td>20000.000000</td>\n",
       "      <td>20000.000000</td>\n",
       "      <td>20000.000000</td>\n",
       "      <td>20000.000000</td>\n",
       "      <td>7335.000000</td>\n",
       "    </tr>\n",
       "    <tr>\n",
       "      <th>mean</th>\n",
       "      <td>33.940704</td>\n",
       "      <td>-117.893072</td>\n",
       "      <td>1352.380350</td>\n",
       "      <td>10.834250</td>\n",
       "      <td>1129.599200</td>\n",
       "      <td>1.418150</td>\n",
       "      <td>30.135000</td>\n",
       "      <td>297.176950</td>\n",
       "      <td>366.405044</td>\n",
       "    </tr>\n",
       "    <tr>\n",
       "      <th>std</th>\n",
       "      <td>2.126810</td>\n",
       "      <td>7.377726</td>\n",
       "      <td>646.100291</td>\n",
       "      <td>6.033166</td>\n",
       "      <td>603.330519</td>\n",
       "      <td>0.493267</td>\n",
       "      <td>21.863645</td>\n",
       "      <td>212.007298</td>\n",
       "      <td>120.485687</td>\n",
       "    </tr>\n",
       "    <tr>\n",
       "      <th>min</th>\n",
       "      <td>0.000000</td>\n",
       "      <td>-118.663400</td>\n",
       "      <td>1.000000</td>\n",
       "      <td>1.000000</td>\n",
       "      <td>101.000000</td>\n",
       "      <td>1.000000</td>\n",
       "      <td>-2.000000</td>\n",
       "      <td>101.000000</td>\n",
       "      <td>101.000000</td>\n",
       "    </tr>\n",
       "    <tr>\n",
       "      <th>25%</th>\n",
       "      <td>34.009200</td>\n",
       "      <td>-118.429700</td>\n",
       "      <td>930.000000</td>\n",
       "      <td>6.000000</td>\n",
       "      <td>632.000000</td>\n",
       "      <td>1.000000</td>\n",
       "      <td>12.000000</td>\n",
       "      <td>101.000000</td>\n",
       "      <td>312.000000</td>\n",
       "    </tr>\n",
       "    <tr>\n",
       "      <th>50%</th>\n",
       "      <td>34.058700</td>\n",
       "      <td>-118.323000</td>\n",
       "      <td>1430.000000</td>\n",
       "      <td>11.000000</td>\n",
       "      <td>1162.000000</td>\n",
       "      <td>1.000000</td>\n",
       "      <td>31.000000</td>\n",
       "      <td>203.000000</td>\n",
       "      <td>400.000000</td>\n",
       "    </tr>\n",
       "    <tr>\n",
       "      <th>75%</th>\n",
       "      <td>34.165025</td>\n",
       "      <td>-118.274400</td>\n",
       "      <td>1900.000000</td>\n",
       "      <td>16.000000</td>\n",
       "      <td>1622.000000</td>\n",
       "      <td>2.000000</td>\n",
       "      <td>46.000000</td>\n",
       "      <td>501.000000</td>\n",
       "      <td>400.000000</td>\n",
       "    </tr>\n",
       "    <tr>\n",
       "      <th>max</th>\n",
       "      <td>34.328100</td>\n",
       "      <td>0.000000</td>\n",
       "      <td>2359.000000</td>\n",
       "      <td>21.000000</td>\n",
       "      <td>2197.000000</td>\n",
       "      <td>2.000000</td>\n",
       "      <td>99.000000</td>\n",
       "      <td>969.000000</td>\n",
       "      <td>515.000000</td>\n",
       "    </tr>\n",
       "  </tbody>\n",
       "</table>\n",
       "</div>"
      ],
      "text/plain": [
       "           Latitude     Longitude  Time_Occurred       Area_ID  \\\n",
       "count  20000.000000  20000.000000   20000.000000  20000.000000   \n",
       "mean      33.940704   -117.893072    1352.380350     10.834250   \n",
       "std        2.126810      7.377726     646.100291      6.033166   \n",
       "min        0.000000   -118.663400       1.000000      1.000000   \n",
       "25%       34.009200   -118.429700     930.000000      6.000000   \n",
       "50%       34.058700   -118.323000    1430.000000     11.000000   \n",
       "75%       34.165025   -118.274400    1900.000000     16.000000   \n",
       "max       34.328100      0.000000    2359.000000     21.000000   \n",
       "\n",
       "       Reporting_District_no      Part 1-2    Victim_Age  Premise_Code  \\\n",
       "count           20000.000000  20000.000000  20000.000000  20000.000000   \n",
       "mean             1129.599200      1.418150     30.135000    297.176950   \n",
       "std               603.330519      0.493267     21.863645    212.007298   \n",
       "min               101.000000      1.000000     -2.000000    101.000000   \n",
       "25%               632.000000      1.000000     12.000000    101.000000   \n",
       "50%              1162.000000      1.000000     31.000000    203.000000   \n",
       "75%              1622.000000      2.000000     46.000000    501.000000   \n",
       "max              2197.000000      2.000000     99.000000    969.000000   \n",
       "\n",
       "       Weapon_Used_Code  \n",
       "count       7335.000000  \n",
       "mean         366.405044  \n",
       "std          120.485687  \n",
       "min          101.000000  \n",
       "25%          312.000000  \n",
       "50%          400.000000  \n",
       "75%          400.000000  \n",
       "max          515.000000  "
      ]
     },
     "execution_count": 15,
     "metadata": {},
     "output_type": "execute_result"
    }
   ],
   "source": [
    "train.describe()"
   ]
  },
  {
   "cell_type": "markdown",
   "id": "c28050a6",
   "metadata": {
    "papermill": {
     "duration": 0.024338,
     "end_time": "2024-06-22T14:48:48.085122",
     "exception": false,
     "start_time": "2024-06-22T14:48:48.060784",
     "status": "completed"
    },
    "tags": []
   },
   "source": [
    "* Latitude range: [0:34] ( General range is -90 to 90 )\n",
    "* Longitude range: [-118: 0] (General range is 180 to 180)\n",
    "\n"
   ]
  },
  {
   "cell_type": "code",
   "execution_count": 16,
   "id": "b83b8b21",
   "metadata": {
    "execution": {
     "iopub.execute_input": "2024-06-22T14:48:48.145734Z",
     "iopub.status.busy": "2024-06-22T14:48:48.145142Z",
     "iopub.status.idle": "2024-06-22T14:48:48.151748Z",
     "shell.execute_reply": "2024-06-22T14:48:48.150492Z"
    },
    "papermill": {
     "duration": 0.042965,
     "end_time": "2024-06-22T14:48:48.155586",
     "exception": false,
     "start_time": "2024-06-22T14:48:48.112621",
     "status": "completed"
    },
    "tags": []
   },
   "outputs": [],
   "source": [
    "def day_category(x):\n",
    "    if 400<=x<1200:\n",
    "        return 'Morning'\n",
    "    elif 1200<=x<1700:\n",
    "        return 'Daytime'\n",
    "    elif 1800<=x<2100:\n",
    "        return 'Evening'\n",
    "    else:\n",
    "        return 'Night'"
   ]
  },
  {
   "cell_type": "code",
   "execution_count": 17,
   "id": "2d8bed5e",
   "metadata": {
    "execution": {
     "iopub.execute_input": "2024-06-22T14:48:48.210072Z",
     "iopub.status.busy": "2024-06-22T14:48:48.208829Z",
     "iopub.status.idle": "2024-06-22T14:48:48.224548Z",
     "shell.execute_reply": "2024-06-22T14:48:48.223091Z"
    },
    "papermill": {
     "duration": 0.043585,
     "end_time": "2024-06-22T14:48:48.227391",
     "exception": false,
     "start_time": "2024-06-22T14:48:48.183806",
     "status": "completed"
    },
    "tags": []
   },
   "outputs": [],
   "source": [
    "train['day_category']=train['Time_Occurred'].apply(day_category )"
   ]
  },
  {
   "cell_type": "code",
   "execution_count": 18,
   "id": "839b1d1c",
   "metadata": {
    "execution": {
     "iopub.execute_input": "2024-06-22T14:48:48.285360Z",
     "iopub.status.busy": "2024-06-22T14:48:48.284808Z",
     "iopub.status.idle": "2024-06-22T14:48:48.351476Z",
     "shell.execute_reply": "2024-06-22T14:48:48.349950Z"
    },
    "papermill": {
     "duration": 0.103456,
     "end_time": "2024-06-22T14:48:48.355690",
     "exception": false,
     "start_time": "2024-06-22T14:48:48.252234",
     "status": "completed"
    },
    "tags": []
   },
   "outputs": [
    {
     "data": {
      "text/html": [
       "<div>\n",
       "<style scoped>\n",
       "    .dataframe tbody tr th:only-of-type {\n",
       "        vertical-align: middle;\n",
       "    }\n",
       "\n",
       "    .dataframe tbody tr th {\n",
       "        vertical-align: top;\n",
       "    }\n",
       "\n",
       "    .dataframe thead th {\n",
       "        text-align: right;\n",
       "    }\n",
       "</style>\n",
       "<table border=\"1\" class=\"dataframe\">\n",
       "  <thead>\n",
       "    <tr style=\"text-align: right;\">\n",
       "      <th></th>\n",
       "      <th>Location</th>\n",
       "      <th>Cross_Street</th>\n",
       "      <th>Latitude</th>\n",
       "      <th>Longitude</th>\n",
       "      <th>Date_Reported</th>\n",
       "      <th>Date_Occurred</th>\n",
       "      <th>Time_Occurred</th>\n",
       "      <th>Area_ID</th>\n",
       "      <th>Area_Name</th>\n",
       "      <th>Reporting_District_no</th>\n",
       "      <th>...</th>\n",
       "      <th>Victim_Sex</th>\n",
       "      <th>Victim_Descent</th>\n",
       "      <th>Premise_Code</th>\n",
       "      <th>Premise_Description</th>\n",
       "      <th>Weapon_Used_Code</th>\n",
       "      <th>Weapon_Description</th>\n",
       "      <th>Status</th>\n",
       "      <th>Status_Description</th>\n",
       "      <th>Crime_Category</th>\n",
       "      <th>day_category</th>\n",
       "    </tr>\n",
       "  </thead>\n",
       "  <tbody>\n",
       "    <tr>\n",
       "      <th>0</th>\n",
       "      <td>4500    CARPENTER                    AV</td>\n",
       "      <td>NaN</td>\n",
       "      <td>34.1522</td>\n",
       "      <td>-118.3910</td>\n",
       "      <td>03/09/2020 12:00:00 AM</td>\n",
       "      <td>03/06/2020 12:00:00 AM</td>\n",
       "      <td>1800.0</td>\n",
       "      <td>15.0</td>\n",
       "      <td>N Hollywood</td>\n",
       "      <td>1563.0</td>\n",
       "      <td>...</td>\n",
       "      <td>M</td>\n",
       "      <td>W</td>\n",
       "      <td>101.0</td>\n",
       "      <td>STREET</td>\n",
       "      <td>NaN</td>\n",
       "      <td>NaN</td>\n",
       "      <td>IC</td>\n",
       "      <td>Invest Cont</td>\n",
       "      <td>Property Crimes</td>\n",
       "      <td>Evening</td>\n",
       "    </tr>\n",
       "    <tr>\n",
       "      <th>1</th>\n",
       "      <td>45TH                         ST</td>\n",
       "      <td>ALAMEDA                      ST</td>\n",
       "      <td>34.0028</td>\n",
       "      <td>-118.2391</td>\n",
       "      <td>02/27/2020 12:00:00 AM</td>\n",
       "      <td>02/27/2020 12:00:00 AM</td>\n",
       "      <td>1345.0</td>\n",
       "      <td>13.0</td>\n",
       "      <td>Newton</td>\n",
       "      <td>1367.0</td>\n",
       "      <td>...</td>\n",
       "      <td>M</td>\n",
       "      <td>H</td>\n",
       "      <td>216.0</td>\n",
       "      <td>SWAP MEET</td>\n",
       "      <td>400.0</td>\n",
       "      <td>STRONG-ARM (HANDS, FIST, FEET OR BODILY FORCE)</td>\n",
       "      <td>IC</td>\n",
       "      <td>Invest Cont</td>\n",
       "      <td>Property Crimes</td>\n",
       "      <td>Daytime</td>\n",
       "    </tr>\n",
       "    <tr>\n",
       "      <th>2</th>\n",
       "      <td>600 E  MARTIN LUTHER KING JR        BL</td>\n",
       "      <td>NaN</td>\n",
       "      <td>34.0111</td>\n",
       "      <td>-118.2653</td>\n",
       "      <td>08/21/2020 12:00:00 AM</td>\n",
       "      <td>08/21/2020 12:00:00 AM</td>\n",
       "      <td>605.0</td>\n",
       "      <td>13.0</td>\n",
       "      <td>Newton</td>\n",
       "      <td>1343.0</td>\n",
       "      <td>...</td>\n",
       "      <td>M</td>\n",
       "      <td>B</td>\n",
       "      <td>501.0</td>\n",
       "      <td>SINGLE FAMILY DWELLING</td>\n",
       "      <td>NaN</td>\n",
       "      <td>NaN</td>\n",
       "      <td>IC</td>\n",
       "      <td>Invest Cont</td>\n",
       "      <td>Property Crimes</td>\n",
       "      <td>Morning</td>\n",
       "    </tr>\n",
       "    <tr>\n",
       "      <th>3</th>\n",
       "      <td>14900    ORO GRANDE                   ST</td>\n",
       "      <td>NaN</td>\n",
       "      <td>34.2953</td>\n",
       "      <td>-118.4590</td>\n",
       "      <td>11/08/2020 12:00:00 AM</td>\n",
       "      <td>11/06/2020 12:00:00 AM</td>\n",
       "      <td>1800.0</td>\n",
       "      <td>19.0</td>\n",
       "      <td>Mission</td>\n",
       "      <td>1924.0</td>\n",
       "      <td>...</td>\n",
       "      <td>M</td>\n",
       "      <td>H</td>\n",
       "      <td>101.0</td>\n",
       "      <td>STREET</td>\n",
       "      <td>NaN</td>\n",
       "      <td>NaN</td>\n",
       "      <td>IC</td>\n",
       "      <td>Invest Cont</td>\n",
       "      <td>Property Crimes</td>\n",
       "      <td>Evening</td>\n",
       "    </tr>\n",
       "    <tr>\n",
       "      <th>4</th>\n",
       "      <td>7100 S  VERMONT                      AV</td>\n",
       "      <td>NaN</td>\n",
       "      <td>33.9787</td>\n",
       "      <td>-118.2918</td>\n",
       "      <td>02/25/2020 12:00:00 AM</td>\n",
       "      <td>02/25/2020 12:00:00 AM</td>\n",
       "      <td>1130.0</td>\n",
       "      <td>12.0</td>\n",
       "      <td>77th Street</td>\n",
       "      <td>1245.0</td>\n",
       "      <td>...</td>\n",
       "      <td>X</td>\n",
       "      <td>X</td>\n",
       "      <td>401.0</td>\n",
       "      <td>MINI-MART</td>\n",
       "      <td>400.0</td>\n",
       "      <td>STRONG-ARM (HANDS, FIST, FEET OR BODILY FORCE)</td>\n",
       "      <td>IC</td>\n",
       "      <td>Invest Cont</td>\n",
       "      <td>Property Crimes</td>\n",
       "      <td>Morning</td>\n",
       "    </tr>\n",
       "    <tr>\n",
       "      <th>...</th>\n",
       "      <td>...</td>\n",
       "      <td>...</td>\n",
       "      <td>...</td>\n",
       "      <td>...</td>\n",
       "      <td>...</td>\n",
       "      <td>...</td>\n",
       "      <td>...</td>\n",
       "      <td>...</td>\n",
       "      <td>...</td>\n",
       "      <td>...</td>\n",
       "      <td>...</td>\n",
       "      <td>...</td>\n",
       "      <td>...</td>\n",
       "      <td>...</td>\n",
       "      <td>...</td>\n",
       "      <td>...</td>\n",
       "      <td>...</td>\n",
       "      <td>...</td>\n",
       "      <td>...</td>\n",
       "      <td>...</td>\n",
       "      <td>...</td>\n",
       "    </tr>\n",
       "    <tr>\n",
       "      <th>19995</th>\n",
       "      <td>5100 W  ADAMS                        BL</td>\n",
       "      <td>NaN</td>\n",
       "      <td>34.0334</td>\n",
       "      <td>-118.3523</td>\n",
       "      <td>05/24/2020 12:00:00 AM</td>\n",
       "      <td>05/24/2020 12:00:00 AM</td>\n",
       "      <td>700.0</td>\n",
       "      <td>3.0</td>\n",
       "      <td>Southwest</td>\n",
       "      <td>303.0</td>\n",
       "      <td>...</td>\n",
       "      <td>M</td>\n",
       "      <td>H</td>\n",
       "      <td>501.0</td>\n",
       "      <td>SINGLE FAMILY DWELLING</td>\n",
       "      <td>400.0</td>\n",
       "      <td>STRONG-ARM (HANDS, FIST, FEET OR BODILY FORCE)</td>\n",
       "      <td>IC</td>\n",
       "      <td>Invest Cont</td>\n",
       "      <td>Violent Crimes</td>\n",
       "      <td>Morning</td>\n",
       "    </tr>\n",
       "    <tr>\n",
       "      <th>19996</th>\n",
       "      <td>16900    ROSCOE                       BL</td>\n",
       "      <td>NaN</td>\n",
       "      <td>34.2212</td>\n",
       "      <td>-118.5011</td>\n",
       "      <td>12/25/2020 12:00:00 AM</td>\n",
       "      <td>12/25/2020 12:00:00 AM</td>\n",
       "      <td>259.0</td>\n",
       "      <td>10.0</td>\n",
       "      <td>West Valley</td>\n",
       "      <td>1008.0</td>\n",
       "      <td>...</td>\n",
       "      <td>M</td>\n",
       "      <td>W</td>\n",
       "      <td>301.0</td>\n",
       "      <td>GAS STATION</td>\n",
       "      <td>NaN</td>\n",
       "      <td>NaN</td>\n",
       "      <td>IC</td>\n",
       "      <td>Invest Cont</td>\n",
       "      <td>Property Crimes</td>\n",
       "      <td>Night</td>\n",
       "    </tr>\n",
       "    <tr>\n",
       "      <th>19997</th>\n",
       "      <td>1000 S  SHENANDOAH                   ST</td>\n",
       "      <td>NaN</td>\n",
       "      <td>34.0571</td>\n",
       "      <td>-118.3815</td>\n",
       "      <td>09/25/2020 12:00:00 AM</td>\n",
       "      <td>09/25/2020 12:00:00 AM</td>\n",
       "      <td>1400.0</td>\n",
       "      <td>8.0</td>\n",
       "      <td>West LA</td>\n",
       "      <td>849.0</td>\n",
       "      <td>...</td>\n",
       "      <td>M</td>\n",
       "      <td>H</td>\n",
       "      <td>102.0</td>\n",
       "      <td>SIDEWALK</td>\n",
       "      <td>NaN</td>\n",
       "      <td>NaN</td>\n",
       "      <td>IC</td>\n",
       "      <td>Invest Cont</td>\n",
       "      <td>Property Crimes</td>\n",
       "      <td>Daytime</td>\n",
       "    </tr>\n",
       "    <tr>\n",
       "      <th>19998</th>\n",
       "      <td>300 W  SEPULVEDA                    ST</td>\n",
       "      <td>NaN</td>\n",
       "      <td>33.7451</td>\n",
       "      <td>-118.2835</td>\n",
       "      <td>06/10/2020 12:00:00 AM</td>\n",
       "      <td>06/10/2020 12:00:00 AM</td>\n",
       "      <td>600.0</td>\n",
       "      <td>5.0</td>\n",
       "      <td>Harbor</td>\n",
       "      <td>558.0</td>\n",
       "      <td>...</td>\n",
       "      <td>F</td>\n",
       "      <td>H</td>\n",
       "      <td>501.0</td>\n",
       "      <td>SINGLE FAMILY DWELLING</td>\n",
       "      <td>NaN</td>\n",
       "      <td>NaN</td>\n",
       "      <td>IC</td>\n",
       "      <td>Invest Cont</td>\n",
       "      <td>Crimes against Public Order</td>\n",
       "      <td>Morning</td>\n",
       "    </tr>\n",
       "    <tr>\n",
       "      <th>19999</th>\n",
       "      <td>DALTON                       AV</td>\n",
       "      <td>VERNON                       AV</td>\n",
       "      <td>34.0037</td>\n",
       "      <td>-118.3034</td>\n",
       "      <td>02/18/2020 12:00:00 AM</td>\n",
       "      <td>02/17/2020 12:00:00 AM</td>\n",
       "      <td>1800.0</td>\n",
       "      <td>3.0</td>\n",
       "      <td>Southwest</td>\n",
       "      <td>397.0</td>\n",
       "      <td>...</td>\n",
       "      <td>NaN</td>\n",
       "      <td>NaN</td>\n",
       "      <td>101.0</td>\n",
       "      <td>STREET</td>\n",
       "      <td>NaN</td>\n",
       "      <td>NaN</td>\n",
       "      <td>IC</td>\n",
       "      <td>Invest Cont</td>\n",
       "      <td>Property Crimes</td>\n",
       "      <td>Evening</td>\n",
       "    </tr>\n",
       "  </tbody>\n",
       "</table>\n",
       "<p>20000 rows × 23 columns</p>\n",
       "</div>"
      ],
      "text/plain": [
       "                                       Location  \\\n",
       "0       4500    CARPENTER                    AV   \n",
       "1               45TH                         ST   \n",
       "2        600 E  MARTIN LUTHER KING JR        BL   \n",
       "3      14900    ORO GRANDE                   ST   \n",
       "4       7100 S  VERMONT                      AV   \n",
       "...                                         ...   \n",
       "19995   5100 W  ADAMS                        BL   \n",
       "19996  16900    ROSCOE                       BL   \n",
       "19997   1000 S  SHENANDOAH                   ST   \n",
       "19998    300 W  SEPULVEDA                    ST   \n",
       "19999           DALTON                       AV   \n",
       "\n",
       "                          Cross_Street  Latitude  Longitude  \\\n",
       "0                                  NaN   34.1522  -118.3910   \n",
       "1      ALAMEDA                      ST   34.0028  -118.2391   \n",
       "2                                  NaN   34.0111  -118.2653   \n",
       "3                                  NaN   34.2953  -118.4590   \n",
       "4                                  NaN   33.9787  -118.2918   \n",
       "...                                ...       ...        ...   \n",
       "19995                              NaN   34.0334  -118.3523   \n",
       "19996                              NaN   34.2212  -118.5011   \n",
       "19997                              NaN   34.0571  -118.3815   \n",
       "19998                              NaN   33.7451  -118.2835   \n",
       "19999  VERNON                       AV   34.0037  -118.3034   \n",
       "\n",
       "                Date_Reported           Date_Occurred  Time_Occurred  Area_ID  \\\n",
       "0      03/09/2020 12:00:00 AM  03/06/2020 12:00:00 AM         1800.0     15.0   \n",
       "1      02/27/2020 12:00:00 AM  02/27/2020 12:00:00 AM         1345.0     13.0   \n",
       "2      08/21/2020 12:00:00 AM  08/21/2020 12:00:00 AM          605.0     13.0   \n",
       "3      11/08/2020 12:00:00 AM  11/06/2020 12:00:00 AM         1800.0     19.0   \n",
       "4      02/25/2020 12:00:00 AM  02/25/2020 12:00:00 AM         1130.0     12.0   \n",
       "...                       ...                     ...            ...      ...   \n",
       "19995  05/24/2020 12:00:00 AM  05/24/2020 12:00:00 AM          700.0      3.0   \n",
       "19996  12/25/2020 12:00:00 AM  12/25/2020 12:00:00 AM          259.0     10.0   \n",
       "19997  09/25/2020 12:00:00 AM  09/25/2020 12:00:00 AM         1400.0      8.0   \n",
       "19998  06/10/2020 12:00:00 AM  06/10/2020 12:00:00 AM          600.0      5.0   \n",
       "19999  02/18/2020 12:00:00 AM  02/17/2020 12:00:00 AM         1800.0      3.0   \n",
       "\n",
       "         Area_Name  Reporting_District_no  ...  Victim_Sex Victim_Descent  \\\n",
       "0      N Hollywood                 1563.0  ...           M              W   \n",
       "1           Newton                 1367.0  ...           M              H   \n",
       "2           Newton                 1343.0  ...           M              B   \n",
       "3          Mission                 1924.0  ...           M              H   \n",
       "4      77th Street                 1245.0  ...           X              X   \n",
       "...            ...                    ...  ...         ...            ...   \n",
       "19995    Southwest                  303.0  ...           M              H   \n",
       "19996  West Valley                 1008.0  ...           M              W   \n",
       "19997      West LA                  849.0  ...           M              H   \n",
       "19998       Harbor                  558.0  ...           F              H   \n",
       "19999    Southwest                  397.0  ...         NaN            NaN   \n",
       "\n",
       "       Premise_Code     Premise_Description Weapon_Used_Code  \\\n",
       "0             101.0                  STREET              NaN   \n",
       "1             216.0               SWAP MEET            400.0   \n",
       "2             501.0  SINGLE FAMILY DWELLING              NaN   \n",
       "3             101.0                  STREET              NaN   \n",
       "4             401.0               MINI-MART            400.0   \n",
       "...             ...                     ...              ...   \n",
       "19995         501.0  SINGLE FAMILY DWELLING            400.0   \n",
       "19996         301.0             GAS STATION              NaN   \n",
       "19997         102.0                SIDEWALK              NaN   \n",
       "19998         501.0  SINGLE FAMILY DWELLING              NaN   \n",
       "19999         101.0                  STREET              NaN   \n",
       "\n",
       "                                   Weapon_Description Status  \\\n",
       "0                                                 NaN     IC   \n",
       "1      STRONG-ARM (HANDS, FIST, FEET OR BODILY FORCE)     IC   \n",
       "2                                                 NaN     IC   \n",
       "3                                                 NaN     IC   \n",
       "4      STRONG-ARM (HANDS, FIST, FEET OR BODILY FORCE)     IC   \n",
       "...                                               ...    ...   \n",
       "19995  STRONG-ARM (HANDS, FIST, FEET OR BODILY FORCE)     IC   \n",
       "19996                                             NaN     IC   \n",
       "19997                                             NaN     IC   \n",
       "19998                                             NaN     IC   \n",
       "19999                                             NaN     IC   \n",
       "\n",
       "       Status_Description               Crime_Category day_category  \n",
       "0             Invest Cont              Property Crimes      Evening  \n",
       "1             Invest Cont              Property Crimes      Daytime  \n",
       "2             Invest Cont              Property Crimes      Morning  \n",
       "3             Invest Cont              Property Crimes      Evening  \n",
       "4             Invest Cont              Property Crimes      Morning  \n",
       "...                   ...                          ...          ...  \n",
       "19995         Invest Cont               Violent Crimes      Morning  \n",
       "19996         Invest Cont              Property Crimes        Night  \n",
       "19997         Invest Cont              Property Crimes      Daytime  \n",
       "19998         Invest Cont  Crimes against Public Order      Morning  \n",
       "19999         Invest Cont              Property Crimes      Evening  \n",
       "\n",
       "[20000 rows x 23 columns]"
      ]
     },
     "execution_count": 18,
     "metadata": {},
     "output_type": "execute_result"
    }
   ],
   "source": [
    "train"
   ]
  },
  {
   "cell_type": "code",
   "execution_count": 19,
   "id": "7ad4e198",
   "metadata": {
    "execution": {
     "iopub.execute_input": "2024-06-22T14:48:48.414546Z",
     "iopub.status.busy": "2024-06-22T14:48:48.414124Z",
     "iopub.status.idle": "2024-06-22T14:48:48.420029Z",
     "shell.execute_reply": "2024-06-22T14:48:48.418808Z"
    },
    "papermill": {
     "duration": 0.033988,
     "end_time": "2024-06-22T14:48:48.422570",
     "exception": false,
     "start_time": "2024-06-22T14:48:48.388582",
     "status": "completed"
    },
    "tags": []
   },
   "outputs": [],
   "source": [
    "\n",
    "def extract_date(d):\n",
    "    date=d.split(' ')[0]\n",
    "    \n",
    "    \n",
    "    date=pd.to_datetime(date).date()\n",
    "    \n",
    "    \n",
    "    return date\n",
    "    "
   ]
  },
  {
   "cell_type": "code",
   "execution_count": 20,
   "id": "1cbdca50",
   "metadata": {
    "execution": {
     "iopub.execute_input": "2024-06-22T14:48:48.478487Z",
     "iopub.status.busy": "2024-06-22T14:48:48.477916Z",
     "iopub.status.idle": "2024-06-22T14:49:07.446678Z",
     "shell.execute_reply": "2024-06-22T14:49:07.445600Z"
    },
    "papermill": {
     "duration": 19.001828,
     "end_time": "2024-06-22T14:49:07.449763",
     "exception": false,
     "start_time": "2024-06-22T14:48:48.447935",
     "status": "completed"
    },
    "tags": []
   },
   "outputs": [],
   "source": [
    "train['Date_Reported']=train['Date_Reported'].apply(extract_date)\n",
    "train['Date_Occurred']=train['Date_Occurred'].apply(extract_date)\n"
   ]
  },
  {
   "cell_type": "code",
   "execution_count": 21,
   "id": "957347b6",
   "metadata": {
    "execution": {
     "iopub.execute_input": "2024-06-22T14:49:07.500715Z",
     "iopub.status.busy": "2024-06-22T14:49:07.500306Z",
     "iopub.status.idle": "2024-06-22T14:49:07.507502Z",
     "shell.execute_reply": "2024-06-22T14:49:07.506401Z"
    },
    "papermill": {
     "duration": 0.035206,
     "end_time": "2024-06-22T14:49:07.509828",
     "exception": false,
     "start_time": "2024-06-22T14:49:07.474622",
     "status": "completed"
    },
    "tags": []
   },
   "outputs": [
    {
     "data": {
      "text/plain": [
       "datetime.date"
      ]
     },
     "execution_count": 21,
     "metadata": {},
     "output_type": "execute_result"
    }
   ],
   "source": [
    "type(train['Date_Reported'][0])"
   ]
  },
  {
   "cell_type": "code",
   "execution_count": 22,
   "id": "5f8c4b49",
   "metadata": {
    "execution": {
     "iopub.execute_input": "2024-06-22T14:49:07.561107Z",
     "iopub.status.busy": "2024-06-22T14:49:07.560354Z",
     "iopub.status.idle": "2024-06-22T14:49:07.567824Z",
     "shell.execute_reply": "2024-06-22T14:49:07.566703Z"
    },
    "papermill": {
     "duration": 0.036559,
     "end_time": "2024-06-22T14:49:07.570259",
     "exception": false,
     "start_time": "2024-06-22T14:49:07.533700",
     "status": "completed"
    },
    "tags": []
   },
   "outputs": [
    {
     "data": {
      "text/plain": [
       "3"
      ]
     },
     "execution_count": 22,
     "metadata": {},
     "output_type": "execute_result"
    }
   ],
   "source": [
    "k=train['Date_Reported'][0]-train['Date_Occurred'][0]\n",
    "k.days"
   ]
  },
  {
   "cell_type": "code",
   "execution_count": 23,
   "id": "190fce1e",
   "metadata": {
    "execution": {
     "iopub.execute_input": "2024-06-22T14:49:07.621120Z",
     "iopub.status.busy": "2024-06-22T14:49:07.620615Z",
     "iopub.status.idle": "2024-06-22T14:49:07.651289Z",
     "shell.execute_reply": "2024-06-22T14:49:07.650078Z"
    },
    "papermill": {
     "duration": 0.058886,
     "end_time": "2024-06-22T14:49:07.653903",
     "exception": false,
     "start_time": "2024-06-22T14:49:07.595017",
     "status": "completed"
    },
    "tags": []
   },
   "outputs": [],
   "source": [
    "train['Date_Reported']=pd.to_datetime(train['Date_Reported']).dt.date\n",
    "train['Date_Occurred']=pd.to_datetime(train['Date_Occurred']).dt.date\n",
    "\n",
    "train['reporting_delay_day_count']=(train['Date_Reported']-train['Date_Occurred'])"
   ]
  },
  {
   "cell_type": "code",
   "execution_count": 24,
   "id": "4f02e6e7",
   "metadata": {
    "execution": {
     "iopub.execute_input": "2024-06-22T14:49:07.704309Z",
     "iopub.status.busy": "2024-06-22T14:49:07.703850Z",
     "iopub.status.idle": "2024-06-22T14:49:07.719075Z",
     "shell.execute_reply": "2024-06-22T14:49:07.717920Z"
    },
    "papermill": {
     "duration": 0.043,
     "end_time": "2024-06-22T14:49:07.721367",
     "exception": false,
     "start_time": "2024-06-22T14:49:07.678367",
     "status": "completed"
    },
    "tags": []
   },
   "outputs": [],
   "source": [
    "def day_count(d):\n",
    "    return d.days\n",
    "train['reporting_delay_day_count']=train['reporting_delay_day_count'].apply(day_count)"
   ]
  },
  {
   "cell_type": "code",
   "execution_count": 25,
   "id": "4c1ca03c",
   "metadata": {
    "execution": {
     "iopub.execute_input": "2024-06-22T14:49:07.772252Z",
     "iopub.status.busy": "2024-06-22T14:49:07.771835Z",
     "iopub.status.idle": "2024-06-22T14:49:07.780133Z",
     "shell.execute_reply": "2024-06-22T14:49:07.779059Z"
    },
    "papermill": {
     "duration": 0.036701,
     "end_time": "2024-06-22T14:49:07.782617",
     "exception": false,
     "start_time": "2024-06-22T14:49:07.745916",
     "status": "completed"
    },
    "tags": []
   },
   "outputs": [
    {
     "data": {
      "text/plain": [
       "0        3\n",
       "1        0\n",
       "2        0\n",
       "3        2\n",
       "4        0\n",
       "        ..\n",
       "19995    0\n",
       "19996    0\n",
       "19997    0\n",
       "19998    0\n",
       "19999    1\n",
       "Name: reporting_delay_day_count, Length: 20000, dtype: int64"
      ]
     },
     "execution_count": 25,
     "metadata": {},
     "output_type": "execute_result"
    }
   ],
   "source": [
    "train['reporting_delay_day_count']"
   ]
  },
  {
   "cell_type": "code",
   "execution_count": 26,
   "id": "bd9d3f6d",
   "metadata": {
    "execution": {
     "iopub.execute_input": "2024-06-22T14:49:07.834470Z",
     "iopub.status.busy": "2024-06-22T14:49:07.833102Z",
     "iopub.status.idle": "2024-06-22T14:49:07.859612Z",
     "shell.execute_reply": "2024-06-22T14:49:07.858305Z"
    },
    "papermill": {
     "duration": 0.055096,
     "end_time": "2024-06-22T14:49:07.862069",
     "exception": false,
     "start_time": "2024-06-22T14:49:07.806973",
     "status": "completed"
    },
    "tags": []
   },
   "outputs": [
    {
     "name": "stdout",
     "output_type": "stream",
     "text": [
      "<class 'pandas.core.frame.DataFrame'>\n",
      "RangeIndex: 20000 entries, 0 to 19999\n",
      "Data columns (total 24 columns):\n",
      " #   Column                     Non-Null Count  Dtype  \n",
      "---  ------                     --------------  -----  \n",
      " 0   Location                   20000 non-null  object \n",
      " 1   Cross_Street               3448 non-null   object \n",
      " 2   Latitude                   20000 non-null  float64\n",
      " 3   Longitude                  20000 non-null  float64\n",
      " 4   Date_Reported              20000 non-null  object \n",
      " 5   Date_Occurred              20000 non-null  object \n",
      " 6   Time_Occurred              20000 non-null  float64\n",
      " 7   Area_ID                    20000 non-null  float64\n",
      " 8   Area_Name                  20000 non-null  object \n",
      " 9   Reporting_District_no      20000 non-null  float64\n",
      " 10  Part 1-2                   20000 non-null  float64\n",
      " 11  Modus_Operandi             17259 non-null  object \n",
      " 12  Victim_Age                 20000 non-null  float64\n",
      " 13  Victim_Sex                 17376 non-null  object \n",
      " 14  Victim_Descent             17376 non-null  object \n",
      " 15  Premise_Code               20000 non-null  float64\n",
      " 16  Premise_Description        19995 non-null  object \n",
      " 17  Weapon_Used_Code           7335 non-null   float64\n",
      " 18  Weapon_Description         7335 non-null   object \n",
      " 19  Status                     20000 non-null  object \n",
      " 20  Status_Description         20000 non-null  object \n",
      " 21  Crime_Category             20000 non-null  object \n",
      " 22  day_category               20000 non-null  object \n",
      " 23  reporting_delay_day_count  20000 non-null  int64  \n",
      "dtypes: float64(9), int64(1), object(14)\n",
      "memory usage: 3.7+ MB\n"
     ]
    }
   ],
   "source": [
    "train.info()"
   ]
  },
  {
   "cell_type": "code",
   "execution_count": 27,
   "id": "51717b89",
   "metadata": {
    "execution": {
     "iopub.execute_input": "2024-06-22T14:49:07.914073Z",
     "iopub.status.busy": "2024-06-22T14:49:07.913686Z",
     "iopub.status.idle": "2024-06-22T14:49:07.924637Z",
     "shell.execute_reply": "2024-06-22T14:49:07.923515Z"
    },
    "papermill": {
     "duration": 0.039722,
     "end_time": "2024-06-22T14:49:07.926985",
     "exception": false,
     "start_time": "2024-06-22T14:49:07.887263",
     "status": "completed"
    },
    "tags": []
   },
   "outputs": [
    {
     "data": {
      "text/plain": [
       "Premise_Description\n",
       "STREET                                          5033\n",
       "SINGLE FAMILY DWELLING                          3379\n",
       "MULTI-UNIT DWELLING (APARTMENT, DUPLEX, ETC)    2491\n",
       "PARKING LOT                                     1437\n",
       "SIDEWALK                                         978\n",
       "                                                ... \n",
       "BUS DEPOT/TERMINAL, OTHER THAN MTA                 1\n",
       "MTA - RED LINE - HOLLYWOOD/WESTERN                 1\n",
       "MTA - SILVER LINE - ROSECRANS                      1\n",
       "HIGH-RISE BUILDING                                 1\n",
       "COMPUTER SERVICES/REPAIRS/SALES                    1\n",
       "Name: count, Length: 216, dtype: int64"
      ]
     },
     "execution_count": 27,
     "metadata": {},
     "output_type": "execute_result"
    }
   ],
   "source": [
    "train['Premise_Description'].value_counts()"
   ]
  },
  {
   "cell_type": "code",
   "execution_count": 28,
   "id": "60f6264a",
   "metadata": {
    "execution": {
     "iopub.execute_input": "2024-06-22T14:49:07.979686Z",
     "iopub.status.busy": "2024-06-22T14:49:07.979262Z",
     "iopub.status.idle": "2024-06-22T14:49:07.987168Z",
     "shell.execute_reply": "2024-06-22T14:49:07.985849Z"
    },
    "papermill": {
     "duration": 0.036922,
     "end_time": "2024-06-22T14:49:07.989510",
     "exception": false,
     "start_time": "2024-06-22T14:49:07.952588",
     "status": "completed"
    },
    "tags": []
   },
   "outputs": [],
   "source": [
    "k=train['Premise_Description'].value_counts()"
   ]
  },
  {
   "cell_type": "code",
   "execution_count": 29,
   "id": "2498ddf0",
   "metadata": {
    "execution": {
     "iopub.execute_input": "2024-06-22T14:49:08.040782Z",
     "iopub.status.busy": "2024-06-22T14:49:08.040412Z",
     "iopub.status.idle": "2024-06-22T14:49:08.047758Z",
     "shell.execute_reply": "2024-06-22T14:49:08.046539Z"
    },
    "papermill": {
     "duration": 0.036051,
     "end_time": "2024-06-22T14:49:08.050337",
     "exception": false,
     "start_time": "2024-06-22T14:49:08.014286",
     "status": "completed"
    },
    "tags": []
   },
   "outputs": [
    {
     "data": {
      "text/plain": [
       "'SINGLE FAMILY DWELLING'"
      ]
     },
     "execution_count": 29,
     "metadata": {},
     "output_type": "execute_result"
    }
   ],
   "source": [
    "train['Premise_Description'][2]"
   ]
  },
  {
   "cell_type": "code",
   "execution_count": 30,
   "id": "d0437a16",
   "metadata": {
    "execution": {
     "iopub.execute_input": "2024-06-22T14:49:08.104828Z",
     "iopub.status.busy": "2024-06-22T14:49:08.103220Z",
     "iopub.status.idle": "2024-06-22T14:49:08.111024Z",
     "shell.execute_reply": "2024-06-22T14:49:08.109855Z"
    },
    "papermill": {
     "duration": 0.038799,
     "end_time": "2024-06-22T14:49:08.114553",
     "exception": false,
     "start_time": "2024-06-22T14:49:08.075754",
     "status": "completed"
    },
    "tags": []
   },
   "outputs": [
    {
     "name": "stdout",
     "output_type": "stream",
     "text": [
      "Premise_Description\n",
      "DELIVERY SERVICE (FED EX, UPS, COURIERS,COURIER SERVICE)*    7\n",
      "MTA - RED LINE - UNION STATION                               6\n",
      "HARDWARE/BUILDING SUPPLY                                     6\n",
      "BAR/SPORTS BAR (OPEN DAY & NIGHT)                            6\n",
      "THE BEVERLY CONNECTION                                       6\n",
      "NAIL SALON                                                   6\n",
      "PHARMACY INSIDE STORE OR SUPERMARKET*                        6\n",
      "CHECK CASHING*                                               6\n",
      "NIGHT CLUB (OPEN EVENINGS ONLY)                              6\n",
      "ELEVATOR                                                     5\n",
      "Name: count, dtype: int64\n"
     ]
    }
   ],
   "source": [
    "print(k[90:100])"
   ]
  },
  {
   "cell_type": "code",
   "execution_count": 31,
   "id": "146d54d6",
   "metadata": {
    "execution": {
     "iopub.execute_input": "2024-06-22T14:49:08.169932Z",
     "iopub.status.busy": "2024-06-22T14:49:08.169516Z",
     "iopub.status.idle": "2024-06-22T14:49:08.178258Z",
     "shell.execute_reply": "2024-06-22T14:49:08.177029Z"
    },
    "papermill": {
     "duration": 0.039091,
     "end_time": "2024-06-22T14:49:08.180594",
     "exception": false,
     "start_time": "2024-06-22T14:49:08.141503",
     "status": "completed"
    },
    "tags": []
   },
   "outputs": [
    {
     "data": {
      "text/plain": [
       "0                        STREET\n",
       "1                     SWAP MEET\n",
       "2        SINGLE FAMILY DWELLING\n",
       "3                        STREET\n",
       "4                     MINI-MART\n",
       "                  ...          \n",
       "19995    SINGLE FAMILY DWELLING\n",
       "19996               GAS STATION\n",
       "19997                  SIDEWALK\n",
       "19998    SINGLE FAMILY DWELLING\n",
       "19999                    STREET\n",
       "Name: Premise_Description, Length: 20000, dtype: object"
      ]
     },
     "execution_count": 31,
     "metadata": {},
     "output_type": "execute_result"
    }
   ],
   "source": [
    "train['Premise_Description']"
   ]
  },
  {
   "cell_type": "code",
   "execution_count": 32,
   "id": "5f26ebcd",
   "metadata": {
    "execution": {
     "iopub.execute_input": "2024-06-22T14:49:08.233591Z",
     "iopub.status.busy": "2024-06-22T14:49:08.233162Z",
     "iopub.status.idle": "2024-06-22T14:49:08.242440Z",
     "shell.execute_reply": "2024-06-22T14:49:08.241034Z"
    },
    "papermill": {
     "duration": 0.039359,
     "end_time": "2024-06-22T14:49:08.244964",
     "exception": false,
     "start_time": "2024-06-22T14:49:08.205605",
     "status": "completed"
    },
    "tags": []
   },
   "outputs": [],
   "source": [
    "df=train[['Latitude','Longitude','reporting_delay_day_count','day_category','Victim_Age','Victim_Sex','Victim_Descent','Premise_Code','Weapon_Description','Weapon_Used_Code','Area_ID','Modus_Operandi','Part 1-2','Status','Crime_Category']]"
   ]
  },
  {
   "cell_type": "code",
   "execution_count": 33,
   "id": "88098b9f",
   "metadata": {
    "execution": {
     "iopub.execute_input": "2024-06-22T14:49:08.305968Z",
     "iopub.status.busy": "2024-06-22T14:49:08.305456Z",
     "iopub.status.idle": "2024-06-22T14:49:08.328774Z",
     "shell.execute_reply": "2024-06-22T14:49:08.327402Z"
    },
    "papermill": {
     "duration": 0.061439,
     "end_time": "2024-06-22T14:49:08.331627",
     "exception": false,
     "start_time": "2024-06-22T14:49:08.270188",
     "status": "completed"
    },
    "tags": []
   },
   "outputs": [
    {
     "data": {
      "text/plain": [
       "Latitude                         0\n",
       "Longitude                        0\n",
       "reporting_delay_day_count        0\n",
       "day_category                     0\n",
       "Victim_Age                       0\n",
       "Victim_Sex                    2624\n",
       "Victim_Descent                2624\n",
       "Premise_Code                     0\n",
       "Weapon_Description           12665\n",
       "Weapon_Used_Code             12665\n",
       "Area_ID                          0\n",
       "Modus_Operandi                2741\n",
       "Part 1-2                         0\n",
       "Status                           0\n",
       "Crime_Category                   0\n",
       "dtype: int64"
      ]
     },
     "execution_count": 33,
     "metadata": {},
     "output_type": "execute_result"
    }
   ],
   "source": [
    "df.isnull().sum()"
   ]
  },
  {
   "cell_type": "code",
   "execution_count": 34,
   "id": "50184aa1",
   "metadata": {
    "execution": {
     "iopub.execute_input": "2024-06-22T14:49:08.391770Z",
     "iopub.status.busy": "2024-06-22T14:49:08.390871Z",
     "iopub.status.idle": "2024-06-22T14:49:08.401252Z",
     "shell.execute_reply": "2024-06-22T14:49:08.400065Z"
    },
    "papermill": {
     "duration": 0.039515,
     "end_time": "2024-06-22T14:49:08.403674",
     "exception": false,
     "start_time": "2024-06-22T14:49:08.364159",
     "status": "completed"
    },
    "tags": []
   },
   "outputs": [
    {
     "data": {
      "text/plain": [
       "Victim_Sex\n",
       "M    8538\n",
       "F    7176\n",
       "X    1660\n",
       "H       2\n",
       "Name: count, dtype: int64"
      ]
     },
     "execution_count": 34,
     "metadata": {},
     "output_type": "execute_result"
    }
   ],
   "source": [
    "df['Victim_Sex'].value_counts()"
   ]
  },
  {
   "cell_type": "code",
   "execution_count": 35,
   "id": "d6aed682",
   "metadata": {
    "execution": {
     "iopub.execute_input": "2024-06-22T14:49:08.459907Z",
     "iopub.status.busy": "2024-06-22T14:49:08.459423Z",
     "iopub.status.idle": "2024-06-22T14:49:08.479498Z",
     "shell.execute_reply": "2024-06-22T14:49:08.478312Z"
    },
    "papermill": {
     "duration": 0.052746,
     "end_time": "2024-06-22T14:49:08.481998",
     "exception": false,
     "start_time": "2024-06-22T14:49:08.429252",
     "status": "completed"
    },
    "tags": []
   },
   "outputs": [],
   "source": [
    "def victim_gender(val):\n",
    "    if val=='H' or pd.isna(val):\n",
    "        val='X'\n",
    "    return val\n",
    "\n",
    "\n",
    "df.loc[:,'Victim_Sex'] = df['Victim_Sex'].apply(victim_gender)"
   ]
  },
  {
   "cell_type": "code",
   "execution_count": 36,
   "id": "99779b9a",
   "metadata": {
    "execution": {
     "iopub.execute_input": "2024-06-22T14:49:08.536322Z",
     "iopub.status.busy": "2024-06-22T14:49:08.535145Z",
     "iopub.status.idle": "2024-06-22T14:49:08.560286Z",
     "shell.execute_reply": "2024-06-22T14:49:08.559218Z"
    },
    "papermill": {
     "duration": 0.055189,
     "end_time": "2024-06-22T14:49:08.562660",
     "exception": false,
     "start_time": "2024-06-22T14:49:08.507471",
     "status": "completed"
    },
    "tags": []
   },
   "outputs": [
    {
     "data": {
      "text/html": [
       "<div>\n",
       "<style scoped>\n",
       "    .dataframe tbody tr th:only-of-type {\n",
       "        vertical-align: middle;\n",
       "    }\n",
       "\n",
       "    .dataframe tbody tr th {\n",
       "        vertical-align: top;\n",
       "    }\n",
       "\n",
       "    .dataframe thead th {\n",
       "        text-align: right;\n",
       "    }\n",
       "</style>\n",
       "<table border=\"1\" class=\"dataframe\">\n",
       "  <thead>\n",
       "    <tr style=\"text-align: right;\">\n",
       "      <th></th>\n",
       "      <th>Latitude</th>\n",
       "      <th>Longitude</th>\n",
       "      <th>reporting_delay_day_count</th>\n",
       "      <th>day_category</th>\n",
       "      <th>Victim_Age</th>\n",
       "      <th>Victim_Sex</th>\n",
       "      <th>Victim_Descent</th>\n",
       "      <th>Premise_Code</th>\n",
       "      <th>Weapon_Description</th>\n",
       "      <th>Weapon_Used_Code</th>\n",
       "      <th>Area_ID</th>\n",
       "      <th>Modus_Operandi</th>\n",
       "      <th>Part 1-2</th>\n",
       "      <th>Status</th>\n",
       "      <th>Crime_Category</th>\n",
       "    </tr>\n",
       "  </thead>\n",
       "  <tbody>\n",
       "    <tr>\n",
       "      <th>0</th>\n",
       "      <td>34.1522</td>\n",
       "      <td>-118.3910</td>\n",
       "      <td>3</td>\n",
       "      <td>Evening</td>\n",
       "      <td>75.0</td>\n",
       "      <td>M</td>\n",
       "      <td>W</td>\n",
       "      <td>101.0</td>\n",
       "      <td>NaN</td>\n",
       "      <td>NaN</td>\n",
       "      <td>15.0</td>\n",
       "      <td>0385</td>\n",
       "      <td>1.0</td>\n",
       "      <td>IC</td>\n",
       "      <td>Property Crimes</td>\n",
       "    </tr>\n",
       "    <tr>\n",
       "      <th>1</th>\n",
       "      <td>34.0028</td>\n",
       "      <td>-118.2391</td>\n",
       "      <td>0</td>\n",
       "      <td>Daytime</td>\n",
       "      <td>41.0</td>\n",
       "      <td>M</td>\n",
       "      <td>H</td>\n",
       "      <td>216.0</td>\n",
       "      <td>STRONG-ARM (HANDS, FIST, FEET OR BODILY FORCE)</td>\n",
       "      <td>400.0</td>\n",
       "      <td>13.0</td>\n",
       "      <td>0906 0352 0371 0446 1822 0344 0416 0417</td>\n",
       "      <td>1.0</td>\n",
       "      <td>IC</td>\n",
       "      <td>Property Crimes</td>\n",
       "    </tr>\n",
       "    <tr>\n",
       "      <th>2</th>\n",
       "      <td>34.0111</td>\n",
       "      <td>-118.2653</td>\n",
       "      <td>0</td>\n",
       "      <td>Morning</td>\n",
       "      <td>67.0</td>\n",
       "      <td>M</td>\n",
       "      <td>B</td>\n",
       "      <td>501.0</td>\n",
       "      <td>NaN</td>\n",
       "      <td>NaN</td>\n",
       "      <td>13.0</td>\n",
       "      <td>0329 1202</td>\n",
       "      <td>2.0</td>\n",
       "      <td>IC</td>\n",
       "      <td>Property Crimes</td>\n",
       "    </tr>\n",
       "    <tr>\n",
       "      <th>3</th>\n",
       "      <td>34.2953</td>\n",
       "      <td>-118.4590</td>\n",
       "      <td>2</td>\n",
       "      <td>Evening</td>\n",
       "      <td>61.0</td>\n",
       "      <td>M</td>\n",
       "      <td>H</td>\n",
       "      <td>101.0</td>\n",
       "      <td>NaN</td>\n",
       "      <td>NaN</td>\n",
       "      <td>19.0</td>\n",
       "      <td>0329 1300</td>\n",
       "      <td>1.0</td>\n",
       "      <td>IC</td>\n",
       "      <td>Property Crimes</td>\n",
       "    </tr>\n",
       "    <tr>\n",
       "      <th>4</th>\n",
       "      <td>33.9787</td>\n",
       "      <td>-118.2918</td>\n",
       "      <td>0</td>\n",
       "      <td>Morning</td>\n",
       "      <td>0.0</td>\n",
       "      <td>X</td>\n",
       "      <td>X</td>\n",
       "      <td>401.0</td>\n",
       "      <td>STRONG-ARM (HANDS, FIST, FEET OR BODILY FORCE)</td>\n",
       "      <td>400.0</td>\n",
       "      <td>12.0</td>\n",
       "      <td>0416 0945 1822 0400 0417 0344</td>\n",
       "      <td>1.0</td>\n",
       "      <td>IC</td>\n",
       "      <td>Property Crimes</td>\n",
       "    </tr>\n",
       "    <tr>\n",
       "      <th>...</th>\n",
       "      <td>...</td>\n",
       "      <td>...</td>\n",
       "      <td>...</td>\n",
       "      <td>...</td>\n",
       "      <td>...</td>\n",
       "      <td>...</td>\n",
       "      <td>...</td>\n",
       "      <td>...</td>\n",
       "      <td>...</td>\n",
       "      <td>...</td>\n",
       "      <td>...</td>\n",
       "      <td>...</td>\n",
       "      <td>...</td>\n",
       "      <td>...</td>\n",
       "      <td>...</td>\n",
       "    </tr>\n",
       "    <tr>\n",
       "      <th>19995</th>\n",
       "      <td>34.0334</td>\n",
       "      <td>-118.3523</td>\n",
       "      <td>0</td>\n",
       "      <td>Morning</td>\n",
       "      <td>51.0</td>\n",
       "      <td>M</td>\n",
       "      <td>H</td>\n",
       "      <td>501.0</td>\n",
       "      <td>STRONG-ARM (HANDS, FIST, FEET OR BODILY FORCE)</td>\n",
       "      <td>400.0</td>\n",
       "      <td>3.0</td>\n",
       "      <td>0416 0446 2004 0913</td>\n",
       "      <td>2.0</td>\n",
       "      <td>IC</td>\n",
       "      <td>Violent Crimes</td>\n",
       "    </tr>\n",
       "    <tr>\n",
       "      <th>19996</th>\n",
       "      <td>34.2212</td>\n",
       "      <td>-118.5011</td>\n",
       "      <td>0</td>\n",
       "      <td>Night</td>\n",
       "      <td>0.0</td>\n",
       "      <td>M</td>\n",
       "      <td>W</td>\n",
       "      <td>301.0</td>\n",
       "      <td>NaN</td>\n",
       "      <td>NaN</td>\n",
       "      <td>10.0</td>\n",
       "      <td>1822 0209 0344 1414 1420</td>\n",
       "      <td>1.0</td>\n",
       "      <td>IC</td>\n",
       "      <td>Property Crimes</td>\n",
       "    </tr>\n",
       "    <tr>\n",
       "      <th>19997</th>\n",
       "      <td>34.0571</td>\n",
       "      <td>-118.3815</td>\n",
       "      <td>0</td>\n",
       "      <td>Daytime</td>\n",
       "      <td>42.0</td>\n",
       "      <td>M</td>\n",
       "      <td>H</td>\n",
       "      <td>102.0</td>\n",
       "      <td>NaN</td>\n",
       "      <td>NaN</td>\n",
       "      <td>8.0</td>\n",
       "      <td>0344 1822 1420</td>\n",
       "      <td>1.0</td>\n",
       "      <td>IC</td>\n",
       "      <td>Property Crimes</td>\n",
       "    </tr>\n",
       "    <tr>\n",
       "      <th>19998</th>\n",
       "      <td>33.7451</td>\n",
       "      <td>-118.2835</td>\n",
       "      <td>0</td>\n",
       "      <td>Morning</td>\n",
       "      <td>76.0</td>\n",
       "      <td>F</td>\n",
       "      <td>H</td>\n",
       "      <td>501.0</td>\n",
       "      <td>NaN</td>\n",
       "      <td>NaN</td>\n",
       "      <td>5.0</td>\n",
       "      <td>1202 2038 0913 0602 1242 0553</td>\n",
       "      <td>2.0</td>\n",
       "      <td>IC</td>\n",
       "      <td>Crimes against Public Order</td>\n",
       "    </tr>\n",
       "    <tr>\n",
       "      <th>19999</th>\n",
       "      <td>34.0037</td>\n",
       "      <td>-118.3034</td>\n",
       "      <td>1</td>\n",
       "      <td>Evening</td>\n",
       "      <td>0.0</td>\n",
       "      <td>X</td>\n",
       "      <td>NaN</td>\n",
       "      <td>101.0</td>\n",
       "      <td>NaN</td>\n",
       "      <td>NaN</td>\n",
       "      <td>3.0</td>\n",
       "      <td>NaN</td>\n",
       "      <td>1.0</td>\n",
       "      <td>IC</td>\n",
       "      <td>Property Crimes</td>\n",
       "    </tr>\n",
       "  </tbody>\n",
       "</table>\n",
       "<p>20000 rows × 15 columns</p>\n",
       "</div>"
      ],
      "text/plain": [
       "       Latitude  Longitude  reporting_delay_day_count day_category  \\\n",
       "0       34.1522  -118.3910                          3      Evening   \n",
       "1       34.0028  -118.2391                          0      Daytime   \n",
       "2       34.0111  -118.2653                          0      Morning   \n",
       "3       34.2953  -118.4590                          2      Evening   \n",
       "4       33.9787  -118.2918                          0      Morning   \n",
       "...         ...        ...                        ...          ...   \n",
       "19995   34.0334  -118.3523                          0      Morning   \n",
       "19996   34.2212  -118.5011                          0        Night   \n",
       "19997   34.0571  -118.3815                          0      Daytime   \n",
       "19998   33.7451  -118.2835                          0      Morning   \n",
       "19999   34.0037  -118.3034                          1      Evening   \n",
       "\n",
       "       Victim_Age Victim_Sex Victim_Descent  Premise_Code  \\\n",
       "0            75.0          M              W         101.0   \n",
       "1            41.0          M              H         216.0   \n",
       "2            67.0          M              B         501.0   \n",
       "3            61.0          M              H         101.0   \n",
       "4             0.0          X              X         401.0   \n",
       "...           ...        ...            ...           ...   \n",
       "19995        51.0          M              H         501.0   \n",
       "19996         0.0          M              W         301.0   \n",
       "19997        42.0          M              H         102.0   \n",
       "19998        76.0          F              H         501.0   \n",
       "19999         0.0          X            NaN         101.0   \n",
       "\n",
       "                                   Weapon_Description  Weapon_Used_Code  \\\n",
       "0                                                 NaN               NaN   \n",
       "1      STRONG-ARM (HANDS, FIST, FEET OR BODILY FORCE)             400.0   \n",
       "2                                                 NaN               NaN   \n",
       "3                                                 NaN               NaN   \n",
       "4      STRONG-ARM (HANDS, FIST, FEET OR BODILY FORCE)             400.0   \n",
       "...                                               ...               ...   \n",
       "19995  STRONG-ARM (HANDS, FIST, FEET OR BODILY FORCE)             400.0   \n",
       "19996                                             NaN               NaN   \n",
       "19997                                             NaN               NaN   \n",
       "19998                                             NaN               NaN   \n",
       "19999                                             NaN               NaN   \n",
       "\n",
       "       Area_ID                           Modus_Operandi  Part 1-2 Status  \\\n",
       "0         15.0                                     0385       1.0     IC   \n",
       "1         13.0  0906 0352 0371 0446 1822 0344 0416 0417       1.0     IC   \n",
       "2         13.0                                0329 1202       2.0     IC   \n",
       "3         19.0                                0329 1300       1.0     IC   \n",
       "4         12.0            0416 0945 1822 0400 0417 0344       1.0     IC   \n",
       "...        ...                                      ...       ...    ...   \n",
       "19995      3.0                      0416 0446 2004 0913       2.0     IC   \n",
       "19996     10.0                 1822 0209 0344 1414 1420       1.0     IC   \n",
       "19997      8.0                           0344 1822 1420       1.0     IC   \n",
       "19998      5.0            1202 2038 0913 0602 1242 0553       2.0     IC   \n",
       "19999      3.0                                      NaN       1.0     IC   \n",
       "\n",
       "                    Crime_Category  \n",
       "0                  Property Crimes  \n",
       "1                  Property Crimes  \n",
       "2                  Property Crimes  \n",
       "3                  Property Crimes  \n",
       "4                  Property Crimes  \n",
       "...                            ...  \n",
       "19995               Violent Crimes  \n",
       "19996              Property Crimes  \n",
       "19997              Property Crimes  \n",
       "19998  Crimes against Public Order  \n",
       "19999              Property Crimes  \n",
       "\n",
       "[20000 rows x 15 columns]"
      ]
     },
     "execution_count": 36,
     "metadata": {},
     "output_type": "execute_result"
    }
   ],
   "source": [
    "df"
   ]
  },
  {
   "cell_type": "code",
   "execution_count": 37,
   "id": "5d856459",
   "metadata": {
    "execution": {
     "iopub.execute_input": "2024-06-22T14:49:08.618325Z",
     "iopub.status.busy": "2024-06-22T14:49:08.617905Z",
     "iopub.status.idle": "2024-06-22T14:49:08.628274Z",
     "shell.execute_reply": "2024-06-22T14:49:08.627001Z"
    },
    "papermill": {
     "duration": 0.041673,
     "end_time": "2024-06-22T14:49:08.631113",
     "exception": false,
     "start_time": "2024-06-22T14:49:08.589440",
     "status": "completed"
    },
    "tags": []
   },
   "outputs": [
    {
     "data": {
      "text/plain": [
       "Victim_Sex\n",
       "M    8538\n",
       "F    7176\n",
       "X    4286\n",
       "Name: count, dtype: int64"
      ]
     },
     "execution_count": 37,
     "metadata": {},
     "output_type": "execute_result"
    }
   ],
   "source": [
    "df['Victim_Sex'].value_counts()"
   ]
  },
  {
   "cell_type": "code",
   "execution_count": 38,
   "id": "3cba04ae",
   "metadata": {
    "execution": {
     "iopub.execute_input": "2024-06-22T14:49:08.684832Z",
     "iopub.status.busy": "2024-06-22T14:49:08.684461Z",
     "iopub.status.idle": "2024-06-22T14:49:08.692269Z",
     "shell.execute_reply": "2024-06-22T14:49:08.691049Z"
    },
    "papermill": {
     "duration": 0.037657,
     "end_time": "2024-06-22T14:49:08.694677",
     "exception": false,
     "start_time": "2024-06-22T14:49:08.657020",
     "status": "completed"
    },
    "tags": []
   },
   "outputs": [
    {
     "data": {
      "text/plain": [
       "array(['W', 'H', 'B', 'X', nan, 'O', 'A', 'K', 'C', 'F', 'I', 'J', 'Z',\n",
       "       'V', 'P', 'D', 'U', 'G'], dtype=object)"
      ]
     },
     "execution_count": 38,
     "metadata": {},
     "output_type": "execute_result"
    }
   ],
   "source": [
    "df['Victim_Descent'].unique()"
   ]
  },
  {
   "cell_type": "code",
   "execution_count": 39,
   "id": "660c80a5",
   "metadata": {
    "execution": {
     "iopub.execute_input": "2024-06-22T14:49:08.750174Z",
     "iopub.status.busy": "2024-06-22T14:49:08.749149Z",
     "iopub.status.idle": "2024-06-22T14:49:08.764387Z",
     "shell.execute_reply": "2024-06-22T14:49:08.763162Z"
    },
    "papermill": {
     "duration": 0.045871,
     "end_time": "2024-06-22T14:49:08.766914",
     "exception": false,
     "start_time": "2024-06-22T14:49:08.721043",
     "status": "completed"
    },
    "tags": []
   },
   "outputs": [
    {
     "data": {
      "text/plain": [
       "Weapon_Description                            \n",
       "STRONG-ARM (HANDS, FIST, FEET OR BODILY FORCE)    0.543967\n",
       "UNKNOWN WEAPON/OTHER WEAPON                       0.107566\n",
       "VERBAL THREAT                                     0.074438\n",
       "HAND GUN                                          0.052897\n",
       "KNIFE WITH BLADE 6INCHES OR LESS                  0.021813\n",
       "SEMI-AUTOMATIC PISTOL                             0.020995\n",
       "UNKNOWN FIREARM                                   0.017860\n",
       "OTHER KNIFE                                       0.017042\n",
       "VEHICLE                                           0.011452\n",
       "MACE/PEPPER SPRAY                                 0.010907\n",
       "ROCK/THROWN OBJECT                                0.008589\n",
       "BOTTLE                                            0.007498\n",
       "PIPE/METAL PIPE                                   0.007089\n",
       "CLUB/BAT                                          0.006953\n",
       "STICK                                             0.006680\n",
       "KITCHEN KNIFE                                     0.006135\n",
       "KNIFE WITH BLADE OVER 6 INCHES IN LENGTH          0.005862\n",
       "AIR PISTOL/REVOLVER/RIFLE/BB GUN                  0.005590\n",
       "FOLDING KNIFE                                     0.005044\n",
       "BLUNT INSTRUMENT                                  0.005044\n",
       "SIMULATED GUN                                     0.004772\n",
       "REVOLVER                                          0.004635\n",
       "BELT FLAILING INSTRUMENT/CHAIN                    0.003545\n",
       "CONCRETE BLOCK/BRICK                              0.003545\n",
       "MACHETE                                           0.003408\n",
       "UNKNOWN TYPE CUTTING INSTRUMENT                   0.003272\n",
       "SCREWDRIVER                                       0.003136\n",
       "HAMMER                                            0.003136\n",
       "FIRE                                              0.002999\n",
       "PHYSICAL PRESENCE                                 0.002454\n",
       "OTHER FIREARM                                     0.002454\n",
       "OTHER CUTTING INSTRUMENT                          0.002318\n",
       "FIXED OBJECT                                      0.002181\n",
       "GLASS                                             0.001909\n",
       "SCISSORS                                          0.001772\n",
       "RIFLE                                             0.001636\n",
       "BOARD                                             0.001500\n",
       "TOY GUN                                           0.001091\n",
       "SHOTGUN                                           0.000954\n",
       "TIRE IRON                                         0.000954\n",
       "AXE                                               0.000818\n",
       "STUN GUN                                          0.000545\n",
       "BRASS KNUCKLES                                    0.000545\n",
       "SCALDING LIQUID                                   0.000409\n",
       "SWITCH BLADE                                      0.000409\n",
       "SAWED OFF RIFLE/SHOTGUN                           0.000273\n",
       "DEMAND NOTE                                       0.000273\n",
       "ICE PICK                                          0.000273\n",
       "MARTIAL ARTS WEAPONS                              0.000273\n",
       "BOWIE KNIFE                                       0.000136\n",
       "STARTER PISTOL/REVOLVER                           0.000136\n",
       "BOMB THREAT                                       0.000136\n",
       "RAZOR BLADE                                       0.000136\n",
       "CAUSTIC CHEMICAL/POISON                           0.000136\n",
       "CLEAVER                                           0.000136\n",
       "ASSAULT WEAPON/UZI/AK47/ETC                       0.000136\n",
       "HECKLER & KOCH 93 SEMIAUTOMATIC ASSAULT RIFLE     0.000136\n",
       "Name: proportion, dtype: float64"
      ]
     },
     "execution_count": 39,
     "metadata": {},
     "output_type": "execute_result"
    }
   ],
   "source": [
    "unique_values_weapon=pd.DataFrame(df['Weapon_Description'])\n",
    "unique_values_weapon.value_counts(normalize=True)"
   ]
  },
  {
   "cell_type": "markdown",
   "id": "8918643f",
   "metadata": {
    "papermill": {
     "duration": 0.026729,
     "end_time": "2024-06-22T14:49:08.819731",
     "exception": false,
     "start_time": "2024-06-22T14:49:08.793002",
     "status": "completed"
    },
    "tags": []
   },
   "source": []
  },
  {
   "cell_type": "code",
   "execution_count": 40,
   "id": "bee266a4",
   "metadata": {
    "execution": {
     "iopub.execute_input": "2024-06-22T14:49:08.874056Z",
     "iopub.status.busy": "2024-06-22T14:49:08.873679Z",
     "iopub.status.idle": "2024-06-22T14:49:08.888327Z",
     "shell.execute_reply": "2024-06-22T14:49:08.887287Z"
    },
    "papermill": {
     "duration": 0.044668,
     "end_time": "2024-06-22T14:49:08.890866",
     "exception": false,
     "start_time": "2024-06-22T14:49:08.846198",
     "status": "completed"
    },
    "tags": []
   },
   "outputs": [],
   "source": [
    "distribution = df['Weapon_Description'].dropna().value_counts(normalize=True)\n",
    "\n",
    "missing = df['Weapon_Description'].isnull().sum()\n",
    "\n",
    "imputed_values = np.random.choice(distribution.index, size=missing, p=distribution.values)\n",
    "\n",
    "# Impute the missing values\n",
    "df.loc[df['Weapon_Description'].isnull(), 'Weapon_Description'] = imputed_values\n"
   ]
  },
  {
   "cell_type": "code",
   "execution_count": 41,
   "id": "3a376208",
   "metadata": {
    "execution": {
     "iopub.execute_input": "2024-06-22T14:49:08.946866Z",
     "iopub.status.busy": "2024-06-22T14:49:08.946477Z",
     "iopub.status.idle": "2024-06-22T14:49:08.961023Z",
     "shell.execute_reply": "2024-06-22T14:49:08.959942Z"
    },
    "papermill": {
     "duration": 0.045426,
     "end_time": "2024-06-22T14:49:08.963519",
     "exception": false,
     "start_time": "2024-06-22T14:49:08.918093",
     "status": "completed"
    },
    "tags": []
   },
   "outputs": [],
   "source": [
    "distribution = df['Victim_Descent'].dropna().value_counts(normalize=True)\n",
    "\n",
    "missing = df['Victim_Descent'].isnull().sum()\n",
    "\n",
    "imputed_values = np.random.choice(distribution.index, size=missing, p=distribution.values)\n",
    "\n",
    "# Impute the missing values\n",
    "df.loc[df['Victim_Descent'].isnull(), 'Victim_Descent'] = imputed_values"
   ]
  },
  {
   "cell_type": "code",
   "execution_count": 42,
   "id": "8cdb848c",
   "metadata": {
    "execution": {
     "iopub.execute_input": "2024-06-22T14:49:09.017620Z",
     "iopub.status.busy": "2024-06-22T14:49:09.017231Z",
     "iopub.status.idle": "2024-06-22T14:49:09.034486Z",
     "shell.execute_reply": "2024-06-22T14:49:09.033197Z"
    },
    "papermill": {
     "duration": 0.047346,
     "end_time": "2024-06-22T14:49:09.037092",
     "exception": false,
     "start_time": "2024-06-22T14:49:08.989746",
     "status": "completed"
    },
    "tags": []
   },
   "outputs": [
    {
     "data": {
      "text/plain": [
       "Latitude                         0\n",
       "Longitude                        0\n",
       "reporting_delay_day_count        0\n",
       "day_category                     0\n",
       "Victim_Age                       0\n",
       "Victim_Sex                       0\n",
       "Victim_Descent                   0\n",
       "Premise_Code                     0\n",
       "Weapon_Description               0\n",
       "Weapon_Used_Code             12665\n",
       "Area_ID                          0\n",
       "Modus_Operandi                2741\n",
       "Part 1-2                         0\n",
       "Status                           0\n",
       "Crime_Category                   0\n",
       "dtype: int64"
      ]
     },
     "execution_count": 42,
     "metadata": {},
     "output_type": "execute_result"
    }
   ],
   "source": [
    "df.isnull().sum()\n"
   ]
  },
  {
   "cell_type": "markdown",
   "id": "173055b4",
   "metadata": {
    "execution": {
     "iopub.execute_input": "2024-06-18T11:25:46.853966Z",
     "iopub.status.busy": "2024-06-18T11:25:46.853487Z",
     "iopub.status.idle": "2024-06-18T11:25:48.288787Z",
     "shell.execute_reply": "2024-06-18T11:25:48.287061Z",
     "shell.execute_reply.started": "2024-06-18T11:25:46.853929Z"
    },
    "papermill": {
     "duration": 0.026098,
     "end_time": "2024-06-22T14:49:09.089676",
     "exception": false,
     "start_time": "2024-06-22T14:49:09.063578",
     "status": "completed"
    },
    "tags": []
   },
   "source": [
    " df.drop('Weapon_Used_Code',inplace=True,axis=1)"
   ]
  },
  {
   "cell_type": "code",
   "execution_count": 43,
   "id": "0d813612",
   "metadata": {
    "execution": {
     "iopub.execute_input": "2024-06-22T14:49:09.144687Z",
     "iopub.status.busy": "2024-06-22T14:49:09.144301Z",
     "iopub.status.idle": "2024-06-22T14:49:09.153619Z",
     "shell.execute_reply": "2024-06-22T14:49:09.152437Z"
    },
    "papermill": {
     "duration": 0.040121,
     "end_time": "2024-06-22T14:49:09.156382",
     "exception": false,
     "start_time": "2024-06-22T14:49:09.116261",
     "status": "completed"
    },
    "tags": []
   },
   "outputs": [
    {
     "name": "stderr",
     "output_type": "stream",
     "text": [
      "/tmp/ipykernel_18/3662583146.py:1: SettingWithCopyWarning: \n",
      "A value is trying to be set on a copy of a slice from a DataFrame\n",
      "\n",
      "See the caveats in the documentation: https://pandas.pydata.org/pandas-docs/stable/user_guide/indexing.html#returning-a-view-versus-a-copy\n",
      "  df.drop('Weapon_Used_Code',inplace=True,axis=1)\n"
     ]
    }
   ],
   "source": [
    "df.drop('Weapon_Used_Code',inplace=True,axis=1)\n"
   ]
  },
  {
   "cell_type": "code",
   "execution_count": 44,
   "id": "e0a4b154",
   "metadata": {
    "execution": {
     "iopub.execute_input": "2024-06-22T14:49:09.211863Z",
     "iopub.status.busy": "2024-06-22T14:49:09.211490Z",
     "iopub.status.idle": "2024-06-22T14:49:09.230521Z",
     "shell.execute_reply": "2024-06-22T14:49:09.229297Z"
    },
    "papermill": {
     "duration": 0.049174,
     "end_time": "2024-06-22T14:49:09.232964",
     "exception": false,
     "start_time": "2024-06-22T14:49:09.183790",
     "status": "completed"
    },
    "tags": []
   },
   "outputs": [
    {
     "name": "stdout",
     "output_type": "stream",
     "text": [
      "<class 'pandas.core.frame.DataFrame'>\n",
      "RangeIndex: 20000 entries, 0 to 19999\n",
      "Data columns (total 14 columns):\n",
      " #   Column                     Non-Null Count  Dtype  \n",
      "---  ------                     --------------  -----  \n",
      " 0   Latitude                   20000 non-null  float64\n",
      " 1   Longitude                  20000 non-null  float64\n",
      " 2   reporting_delay_day_count  20000 non-null  int64  \n",
      " 3   day_category               20000 non-null  object \n",
      " 4   Victim_Age                 20000 non-null  float64\n",
      " 5   Victim_Sex                 20000 non-null  object \n",
      " 6   Victim_Descent             20000 non-null  object \n",
      " 7   Premise_Code               20000 non-null  float64\n",
      " 8   Weapon_Description         20000 non-null  object \n",
      " 9   Area_ID                    20000 non-null  float64\n",
      " 10  Modus_Operandi             17259 non-null  object \n",
      " 11  Part 1-2                   20000 non-null  float64\n",
      " 12  Status                     20000 non-null  object \n",
      " 13  Crime_Category             20000 non-null  object \n",
      "dtypes: float64(6), int64(1), object(7)\n",
      "memory usage: 2.1+ MB\n"
     ]
    }
   ],
   "source": [
    "df.info()"
   ]
  },
  {
   "cell_type": "code",
   "execution_count": 45,
   "id": "9ae9a3e1",
   "metadata": {
    "execution": {
     "iopub.execute_input": "2024-06-22T14:49:09.292009Z",
     "iopub.status.busy": "2024-06-22T14:49:09.291081Z",
     "iopub.status.idle": "2024-06-22T14:49:09.340264Z",
     "shell.execute_reply": "2024-06-22T14:49:09.338942Z"
    },
    "papermill": {
     "duration": 0.080995,
     "end_time": "2024-06-22T14:49:09.342985",
     "exception": false,
     "start_time": "2024-06-22T14:49:09.261990",
     "status": "completed"
    },
    "tags": []
   },
   "outputs": [],
   "source": [
    "# def number_of_activities(s):\n",
    "#     activities=[]\n",
    "#     s=str(s)\n",
    "#     a=s.split(' ')\n",
    "#     for i in a:\n",
    "#         if a not in activities:\n",
    "#             activities.append(a)\n",
    "#     return activities\n",
    "\n",
    "def number_of_activities(s):\n",
    "    if pd.isna(s):  # Handle NaN values\n",
    "        return ''\n",
    "    activities = set()  # Using a set to avoid duplicates efficiently\n",
    "    for activity in s.split(' '):\n",
    "        activities.add(str(activity))\n",
    "    activities=' '.join(activities)    \n",
    "    return activities\n",
    "df.loc[:,'Modus_Operandi']=df['Modus_Operandi'].apply(number_of_activities)\n",
    "# df.drop('Modus_Operandi',axis=1)\n",
    "# df['Modus_Operandi']=df['unique_activities']\n",
    "# df.drop('unique_activities',axis=1,inplace=True)"
   ]
  },
  {
   "cell_type": "code",
   "execution_count": 46,
   "id": "26ee5f03",
   "metadata": {
    "execution": {
     "iopub.execute_input": "2024-06-22T14:49:09.398704Z",
     "iopub.status.busy": "2024-06-22T14:49:09.397887Z",
     "iopub.status.idle": "2024-06-22T14:49:09.412912Z",
     "shell.execute_reply": "2024-06-22T14:49:09.411812Z"
    },
    "papermill": {
     "duration": 0.045869,
     "end_time": "2024-06-22T14:49:09.415539",
     "exception": false,
     "start_time": "2024-06-22T14:49:09.369670",
     "status": "completed"
    },
    "tags": []
   },
   "outputs": [
    {
     "name": "stderr",
     "output_type": "stream",
     "text": [
      "/tmp/ipykernel_18/3589716598.py:1: SettingWithCopyWarning: \n",
      "A value is trying to be set on a copy of a slice from a DataFrame.\n",
      "Try using .loc[row_indexer,col_indexer] = value instead\n",
      "\n",
      "See the caveats in the documentation: https://pandas.pydata.org/pandas-docs/stable/user_guide/indexing.html#returning-a-view-versus-a-copy\n",
      "  df.loc[:,'max_activity']=df['Modus_Operandi'].apply(lambda x: len(x))\n"
     ]
    }
   ],
   "source": [
    "df.loc[:,'max_activity']=df['Modus_Operandi'].apply(lambda x: len(x))"
   ]
  },
  {
   "cell_type": "code",
   "execution_count": 47,
   "id": "72145be2",
   "metadata": {
    "execution": {
     "iopub.execute_input": "2024-06-22T14:49:09.471131Z",
     "iopub.status.busy": "2024-06-22T14:49:09.470094Z",
     "iopub.status.idle": "2024-06-22T14:49:09.487444Z",
     "shell.execute_reply": "2024-06-22T14:49:09.486301Z"
    },
    "papermill": {
     "duration": 0.047495,
     "end_time": "2024-06-22T14:49:09.489546",
     "exception": false,
     "start_time": "2024-06-22T14:49:09.442051",
     "status": "completed"
    },
    "tags": []
   },
   "outputs": [],
   "source": [
    "df.loc[:,'Premise_Code']=df['Premise_Code'].apply(lambda x : int(x))"
   ]
  },
  {
   "cell_type": "code",
   "execution_count": 48,
   "id": "4613bb50",
   "metadata": {
    "execution": {
     "iopub.execute_input": "2024-06-22T14:49:09.544151Z",
     "iopub.status.busy": "2024-06-22T14:49:09.543749Z",
     "iopub.status.idle": "2024-06-22T14:49:09.570560Z",
     "shell.execute_reply": "2024-06-22T14:49:09.569424Z"
    },
    "papermill": {
     "duration": 0.057305,
     "end_time": "2024-06-22T14:49:09.573131",
     "exception": false,
     "start_time": "2024-06-22T14:49:09.515826",
     "status": "completed"
    },
    "tags": []
   },
   "outputs": [],
   "source": [
    "df.loc[:,'Area_ID']=df['Area_ID'].apply(lambda x : int(x))\n",
    "df.loc[:,'Part 1-2']=df['Part 1-2'].apply(lambda x : int(x))\n"
   ]
  },
  {
   "cell_type": "code",
   "execution_count": 49,
   "id": "765ea886",
   "metadata": {
    "execution": {
     "iopub.execute_input": "2024-06-22T14:49:09.628227Z",
     "iopub.status.busy": "2024-06-22T14:49:09.627795Z",
     "iopub.status.idle": "2024-06-22T14:49:09.639929Z",
     "shell.execute_reply": "2024-06-22T14:49:09.638774Z"
    },
    "papermill": {
     "duration": 0.042009,
     "end_time": "2024-06-22T14:49:09.642011",
     "exception": false,
     "start_time": "2024-06-22T14:49:09.600002",
     "status": "completed"
    },
    "tags": []
   },
   "outputs": [
    {
     "data": {
      "text/plain": [
       "Victim_Age\n",
       " 0.0     4828\n",
       " 30.0     448\n",
       " 31.0     446\n",
       " 26.0     442\n",
       " 29.0     425\n",
       "         ... \n",
       " 98.0       2\n",
       "-2.0        2\n",
       " 92.0       2\n",
       " 96.0       2\n",
       " 94.0       2\n",
       "Name: count, Length: 100, dtype: int64"
      ]
     },
     "execution_count": 49,
     "metadata": {},
     "output_type": "execute_result"
    }
   ],
   "source": [
    "df['Victim_Age'].value_counts()"
   ]
  },
  {
   "cell_type": "code",
   "execution_count": 50,
   "id": "4f492b2b",
   "metadata": {
    "execution": {
     "iopub.execute_input": "2024-06-22T14:49:09.696302Z",
     "iopub.status.busy": "2024-06-22T14:49:09.695883Z",
     "iopub.status.idle": "2024-06-22T14:49:09.705434Z",
     "shell.execute_reply": "2024-06-22T14:49:09.704334Z"
    },
    "papermill": {
     "duration": 0.039308,
     "end_time": "2024-06-22T14:49:09.707618",
     "exception": false,
     "start_time": "2024-06-22T14:49:09.668310",
     "status": "completed"
    },
    "tags": []
   },
   "outputs": [
    {
     "data": {
      "text/plain": [
       "Victim_Age\n",
       " 0.0     4828\n",
       " 30.0     448\n",
       " 31.0     446\n",
       " 26.0     442\n",
       " 29.0     425\n",
       "         ... \n",
       " 98.0       2\n",
       "-2.0        2\n",
       " 92.0       2\n",
       " 96.0       2\n",
       " 94.0       2\n",
       "Name: count, Length: 100, dtype: int64"
      ]
     },
     "execution_count": 50,
     "metadata": {},
     "output_type": "execute_result"
    }
   ],
   "source": [
    "df['Victim_Age'].value_counts()"
   ]
  },
  {
   "cell_type": "code",
   "execution_count": 51,
   "id": "cc0301a4",
   "metadata": {
    "execution": {
     "iopub.execute_input": "2024-06-22T14:49:09.763386Z",
     "iopub.status.busy": "2024-06-22T14:49:09.762954Z",
     "iopub.status.idle": "2024-06-22T14:49:09.769288Z",
     "shell.execute_reply": "2024-06-22T14:49:09.768212Z"
    },
    "papermill": {
     "duration": 0.037103,
     "end_time": "2024-06-22T14:49:09.771554",
     "exception": false,
     "start_time": "2024-06-22T14:49:09.734451",
     "status": "completed"
    },
    "tags": []
   },
   "outputs": [],
   "source": [
    "df.loc[df['Victim_Age']<0,'Victim_Age']=0"
   ]
  },
  {
   "cell_type": "code",
   "execution_count": 52,
   "id": "4eed58c7",
   "metadata": {
    "execution": {
     "iopub.execute_input": "2024-06-22T14:49:09.827390Z",
     "iopub.status.busy": "2024-06-22T14:49:09.826445Z",
     "iopub.status.idle": "2024-06-22T14:49:09.836707Z",
     "shell.execute_reply": "2024-06-22T14:49:09.835643Z"
    },
    "papermill": {
     "duration": 0.040757,
     "end_time": "2024-06-22T14:49:09.839145",
     "exception": false,
     "start_time": "2024-06-22T14:49:09.798388",
     "status": "completed"
    },
    "tags": []
   },
   "outputs": [
    {
     "data": {
      "text/plain": [
       "Victim_Age\n",
       "0.0     4834\n",
       "30.0     448\n",
       "31.0     446\n",
       "26.0     442\n",
       "29.0     425\n",
       "        ... \n",
       "93.0       5\n",
       "92.0       2\n",
       "96.0       2\n",
       "98.0       2\n",
       "94.0       2\n",
       "Name: count, Length: 98, dtype: int64"
      ]
     },
     "execution_count": 52,
     "metadata": {},
     "output_type": "execute_result"
    }
   ],
   "source": [
    "df['Victim_Age'].value_counts()"
   ]
  },
  {
   "cell_type": "code",
   "execution_count": 53,
   "id": "dfd80e78",
   "metadata": {
    "execution": {
     "iopub.execute_input": "2024-06-22T14:49:09.897231Z",
     "iopub.status.busy": "2024-06-22T14:49:09.896677Z",
     "iopub.status.idle": "2024-06-22T14:49:09.905336Z",
     "shell.execute_reply": "2024-06-22T14:49:09.904281Z"
    },
    "papermill": {
     "duration": 0.03978,
     "end_time": "2024-06-22T14:49:09.907690",
     "exception": false,
     "start_time": "2024-06-22T14:49:09.867910",
     "status": "completed"
    },
    "tags": []
   },
   "outputs": [
    {
     "data": {
      "text/plain": [
       "30.1354"
      ]
     },
     "execution_count": 53,
     "metadata": {},
     "output_type": "execute_result"
    }
   ],
   "source": [
    "df['Victim_Age'].mean()"
   ]
  },
  {
   "cell_type": "code",
   "execution_count": 54,
   "id": "34c2f374",
   "metadata": {
    "execution": {
     "iopub.execute_input": "2024-06-22T14:49:09.964008Z",
     "iopub.status.busy": "2024-06-22T14:49:09.963182Z",
     "iopub.status.idle": "2024-06-22T14:49:10.260266Z",
     "shell.execute_reply": "2024-06-22T14:49:10.259089Z"
    },
    "papermill": {
     "duration": 0.328644,
     "end_time": "2024-06-22T14:49:10.263258",
     "exception": false,
     "start_time": "2024-06-22T14:49:09.934614",
     "status": "completed"
    },
    "tags": []
   },
   "outputs": [
    {
     "data": {
      "text/plain": [
       "<Axes: ylabel='Frequency'>"
      ]
     },
     "execution_count": 54,
     "metadata": {},
     "output_type": "execute_result"
    },
    {
     "data": {
      "image/png": "[encoded data removed]",
      "text/plain": [
       "<Figure size 640x480 with 1 Axes>"
      ]
     },
     "metadata": {},
     "output_type": "display_data"
    }
   ],
   "source": [
    "df['Victim_Age'].plot.hist()"
   ]
  },
  {
   "cell_type": "code",
   "execution_count": 55,
   "id": "2f28ecbd",
   "metadata": {
    "execution": {
     "iopub.execute_input": "2024-06-22T14:49:10.321018Z",
     "iopub.status.busy": "2024-06-22T14:49:10.320628Z",
     "iopub.status.idle": "2024-06-22T14:49:10.358597Z",
     "shell.execute_reply": "2024-06-22T14:49:10.357412Z"
    },
    "papermill": {
     "duration": 0.069494,
     "end_time": "2024-06-22T14:49:10.361276",
     "exception": false,
     "start_time": "2024-06-22T14:49:10.291782",
     "status": "completed"
    },
    "tags": []
   },
   "outputs": [
    {
     "data": {
      "text/html": [
       "<div>\n",
       "<style scoped>\n",
       "    .dataframe tbody tr th:only-of-type {\n",
       "        vertical-align: middle;\n",
       "    }\n",
       "\n",
       "    .dataframe tbody tr th {\n",
       "        vertical-align: top;\n",
       "    }\n",
       "\n",
       "    .dataframe thead th {\n",
       "        text-align: right;\n",
       "    }\n",
       "</style>\n",
       "<table border=\"1\" class=\"dataframe\">\n",
       "  <thead>\n",
       "    <tr style=\"text-align: right;\">\n",
       "      <th></th>\n",
       "      <th>Latitude</th>\n",
       "      <th>Longitude</th>\n",
       "      <th>reporting_delay_day_count</th>\n",
       "      <th>Victim_Age</th>\n",
       "      <th>Premise_Code</th>\n",
       "      <th>Area_ID</th>\n",
       "      <th>Part 1-2</th>\n",
       "      <th>max_activity</th>\n",
       "    </tr>\n",
       "  </thead>\n",
       "  <tbody>\n",
       "    <tr>\n",
       "      <th>count</th>\n",
       "      <td>20000.000000</td>\n",
       "      <td>20000.000000</td>\n",
       "      <td>20000.000000</td>\n",
       "      <td>20000.00000</td>\n",
       "      <td>20000.000000</td>\n",
       "      <td>20000.000000</td>\n",
       "      <td>20000.000000</td>\n",
       "      <td>20000.000000</td>\n",
       "    </tr>\n",
       "    <tr>\n",
       "      <th>mean</th>\n",
       "      <td>33.940704</td>\n",
       "      <td>-117.893072</td>\n",
       "      <td>22.120000</td>\n",
       "      <td>30.13540</td>\n",
       "      <td>297.176950</td>\n",
       "      <td>10.834250</td>\n",
       "      <td>1.418150</td>\n",
       "      <td>14.633300</td>\n",
       "    </tr>\n",
       "    <tr>\n",
       "      <th>std</th>\n",
       "      <td>2.126810</td>\n",
       "      <td>7.377726</td>\n",
       "      <td>116.418619</td>\n",
       "      <td>21.86308</td>\n",
       "      <td>212.007298</td>\n",
       "      <td>6.033166</td>\n",
       "      <td>0.493267</td>\n",
       "      <td>11.527028</td>\n",
       "    </tr>\n",
       "    <tr>\n",
       "      <th>min</th>\n",
       "      <td>0.000000</td>\n",
       "      <td>-118.663400</td>\n",
       "      <td>0.000000</td>\n",
       "      <td>0.00000</td>\n",
       "      <td>101.000000</td>\n",
       "      <td>1.000000</td>\n",
       "      <td>1.000000</td>\n",
       "      <td>0.000000</td>\n",
       "    </tr>\n",
       "    <tr>\n",
       "      <th>25%</th>\n",
       "      <td>34.009200</td>\n",
       "      <td>-118.429700</td>\n",
       "      <td>0.000000</td>\n",
       "      <td>12.00000</td>\n",
       "      <td>101.000000</td>\n",
       "      <td>6.000000</td>\n",
       "      <td>1.000000</td>\n",
       "      <td>4.000000</td>\n",
       "    </tr>\n",
       "    <tr>\n",
       "      <th>50%</th>\n",
       "      <td>34.058700</td>\n",
       "      <td>-118.323000</td>\n",
       "      <td>0.000000</td>\n",
       "      <td>31.00000</td>\n",
       "      <td>203.000000</td>\n",
       "      <td>11.000000</td>\n",
       "      <td>1.000000</td>\n",
       "      <td>14.000000</td>\n",
       "    </tr>\n",
       "    <tr>\n",
       "      <th>75%</th>\n",
       "      <td>34.165025</td>\n",
       "      <td>-118.274400</td>\n",
       "      <td>2.000000</td>\n",
       "      <td>46.00000</td>\n",
       "      <td>501.000000</td>\n",
       "      <td>16.000000</td>\n",
       "      <td>2.000000</td>\n",
       "      <td>19.000000</td>\n",
       "    </tr>\n",
       "    <tr>\n",
       "      <th>max</th>\n",
       "      <td>34.328100</td>\n",
       "      <td>0.000000</td>\n",
       "      <td>1437.000000</td>\n",
       "      <td>99.00000</td>\n",
       "      <td>969.000000</td>\n",
       "      <td>21.000000</td>\n",
       "      <td>2.000000</td>\n",
       "      <td>49.000000</td>\n",
       "    </tr>\n",
       "  </tbody>\n",
       "</table>\n",
       "</div>"
      ],
      "text/plain": [
       "           Latitude     Longitude  reporting_delay_day_count   Victim_Age  \\\n",
       "count  20000.000000  20000.000000               20000.000000  20000.00000   \n",
       "mean      33.940704   -117.893072                  22.120000     30.13540   \n",
       "std        2.126810      7.377726                 116.418619     21.86308   \n",
       "min        0.000000   -118.663400                   0.000000      0.00000   \n",
       "25%       34.009200   -118.429700                   0.000000     12.00000   \n",
       "50%       34.058700   -118.323000                   0.000000     31.00000   \n",
       "75%       34.165025   -118.274400                   2.000000     46.00000   \n",
       "max       34.328100      0.000000                1437.000000     99.00000   \n",
       "\n",
       "       Premise_Code       Area_ID      Part 1-2  max_activity  \n",
       "count  20000.000000  20000.000000  20000.000000  20000.000000  \n",
       "mean     297.176950     10.834250      1.418150     14.633300  \n",
       "std      212.007298      6.033166      0.493267     11.527028  \n",
       "min      101.000000      1.000000      1.000000      0.000000  \n",
       "25%      101.000000      6.000000      1.000000      4.000000  \n",
       "50%      203.000000     11.000000      1.000000     14.000000  \n",
       "75%      501.000000     16.000000      2.000000     19.000000  \n",
       "max      969.000000     21.000000      2.000000     49.000000  "
      ]
     },
     "execution_count": 55,
     "metadata": {},
     "output_type": "execute_result"
    }
   ],
   "source": [
    "df.describe()"
   ]
  },
  {
   "cell_type": "code",
   "execution_count": 56,
   "id": "0bb425fe",
   "metadata": {
    "execution": {
     "iopub.execute_input": "2024-06-22T14:49:10.421199Z",
     "iopub.status.busy": "2024-06-22T14:49:10.420085Z",
     "iopub.status.idle": "2024-06-22T14:49:10.427415Z",
     "shell.execute_reply": "2024-06-22T14:49:10.426424Z"
    },
    "papermill": {
     "duration": 0.039779,
     "end_time": "2024-06-22T14:49:10.429755",
     "exception": false,
     "start_time": "2024-06-22T14:49:10.389976",
     "status": "completed"
    },
    "tags": []
   },
   "outputs": [],
   "source": [
    "df.loc[df['Victim_Age']==0,'Victim_Age']=df['Victim_Age'].mean()"
   ]
  },
  {
   "cell_type": "code",
   "execution_count": 57,
   "id": "ff1f5f76",
   "metadata": {
    "execution": {
     "iopub.execute_input": "2024-06-22T14:49:10.488048Z",
     "iopub.status.busy": "2024-06-22T14:49:10.487656Z",
     "iopub.status.idle": "2024-06-22T14:49:10.731107Z",
     "shell.execute_reply": "2024-06-22T14:49:10.729820Z"
    },
    "papermill": {
     "duration": 0.27493,
     "end_time": "2024-06-22T14:49:10.733613",
     "exception": false,
     "start_time": "2024-06-22T14:49:10.458683",
     "status": "completed"
    },
    "tags": []
   },
   "outputs": [
    {
     "data": {
      "text/plain": [
       "<Axes: ylabel='Frequency'>"
      ]
     },
     "execution_count": 57,
     "metadata": {},
     "output_type": "execute_result"
    },
    {
     "data": {
      "image/png": "[encoded data removed]",
      "text/plain": [
       "<Figure size 640x480 with 1 Axes>"
      ]
     },
     "metadata": {},
     "output_type": "display_data"
    }
   ],
   "source": [
    "df['Victim_Age'].plot.hist()"
   ]
  },
  {
   "cell_type": "code",
   "execution_count": 58,
   "id": "6f341c43",
   "metadata": {
    "execution": {
     "iopub.execute_input": "2024-06-22T14:49:10.792047Z",
     "iopub.status.busy": "2024-06-22T14:49:10.791654Z",
     "iopub.status.idle": "2024-06-22T14:49:10.800549Z",
     "shell.execute_reply": "2024-06-22T14:49:10.799482Z"
    },
    "papermill": {
     "duration": 0.041028,
     "end_time": "2024-06-22T14:49:10.802965",
     "exception": false,
     "start_time": "2024-06-22T14:49:10.761937",
     "status": "completed"
    },
    "tags": []
   },
   "outputs": [
    {
     "data": {
      "text/plain": [
       "Part 1-2\n",
       "1.0    11637\n",
       "2.0     8363\n",
       "Name: count, dtype: int64"
      ]
     },
     "execution_count": 58,
     "metadata": {},
     "output_type": "execute_result"
    }
   ],
   "source": [
    "df['Part 1-2'].value_counts()"
   ]
  },
  {
   "cell_type": "code",
   "execution_count": 59,
   "id": "da135969",
   "metadata": {
    "execution": {
     "iopub.execute_input": "2024-06-22T14:49:10.861478Z",
     "iopub.status.busy": "2024-06-22T14:49:10.860708Z",
     "iopub.status.idle": "2024-06-22T14:49:10.877255Z",
     "shell.execute_reply": "2024-06-22T14:49:10.876185Z"
    },
    "papermill": {
     "duration": 0.04845,
     "end_time": "2024-06-22T14:49:10.879709",
     "exception": false,
     "start_time": "2024-06-22T14:49:10.831259",
     "status": "completed"
    },
    "tags": []
   },
   "outputs": [],
   "source": [
    "df.loc[:,'Part 1-2']=df['Part 1-2'].apply(lambda x: int(x))"
   ]
  },
  {
   "cell_type": "code",
   "execution_count": 60,
   "id": "5eb93acd",
   "metadata": {
    "execution": {
     "iopub.execute_input": "2024-06-22T14:49:10.938397Z",
     "iopub.status.busy": "2024-06-22T14:49:10.937976Z",
     "iopub.status.idle": "2024-06-22T14:49:10.963023Z",
     "shell.execute_reply": "2024-06-22T14:49:10.961960Z"
    },
    "papermill": {
     "duration": 0.05734,
     "end_time": "2024-06-22T14:49:10.965319",
     "exception": false,
     "start_time": "2024-06-22T14:49:10.907979",
     "status": "completed"
    },
    "tags": []
   },
   "outputs": [
    {
     "data": {
      "text/html": [
       "<div>\n",
       "<style scoped>\n",
       "    .dataframe tbody tr th:only-of-type {\n",
       "        vertical-align: middle;\n",
       "    }\n",
       "\n",
       "    .dataframe tbody tr th {\n",
       "        vertical-align: top;\n",
       "    }\n",
       "\n",
       "    .dataframe thead th {\n",
       "        text-align: right;\n",
       "    }\n",
       "</style>\n",
       "<table border=\"1\" class=\"dataframe\">\n",
       "  <thead>\n",
       "    <tr style=\"text-align: right;\">\n",
       "      <th></th>\n",
       "      <th>Latitude</th>\n",
       "      <th>Longitude</th>\n",
       "      <th>reporting_delay_day_count</th>\n",
       "      <th>day_category</th>\n",
       "      <th>Victim_Age</th>\n",
       "      <th>Victim_Sex</th>\n",
       "      <th>Victim_Descent</th>\n",
       "      <th>Premise_Code</th>\n",
       "      <th>Weapon_Description</th>\n",
       "      <th>Area_ID</th>\n",
       "      <th>Modus_Operandi</th>\n",
       "      <th>Part 1-2</th>\n",
       "      <th>Status</th>\n",
       "      <th>Crime_Category</th>\n",
       "      <th>max_activity</th>\n",
       "    </tr>\n",
       "  </thead>\n",
       "  <tbody>\n",
       "    <tr>\n",
       "      <th>0</th>\n",
       "      <td>34.1522</td>\n",
       "      <td>-118.3910</td>\n",
       "      <td>3</td>\n",
       "      <td>Evening</td>\n",
       "      <td>75.0000</td>\n",
       "      <td>M</td>\n",
       "      <td>W</td>\n",
       "      <td>101.0</td>\n",
       "      <td>FIRE</td>\n",
       "      <td>15.0</td>\n",
       "      <td>0385</td>\n",
       "      <td>1.0</td>\n",
       "      <td>IC</td>\n",
       "      <td>Property Crimes</td>\n",
       "      <td>4</td>\n",
       "    </tr>\n",
       "    <tr>\n",
       "      <th>1</th>\n",
       "      <td>34.0028</td>\n",
       "      <td>-118.2391</td>\n",
       "      <td>0</td>\n",
       "      <td>Daytime</td>\n",
       "      <td>41.0000</td>\n",
       "      <td>M</td>\n",
       "      <td>H</td>\n",
       "      <td>216.0</td>\n",
       "      <td>STRONG-ARM (HANDS, FIST, FEET OR BODILY FORCE)</td>\n",
       "      <td>13.0</td>\n",
       "      <td>0344 0417 1822 0906 0446 0416 0371 0352</td>\n",
       "      <td>1.0</td>\n",
       "      <td>IC</td>\n",
       "      <td>Property Crimes</td>\n",
       "      <td>39</td>\n",
       "    </tr>\n",
       "    <tr>\n",
       "      <th>2</th>\n",
       "      <td>34.0111</td>\n",
       "      <td>-118.2653</td>\n",
       "      <td>0</td>\n",
       "      <td>Morning</td>\n",
       "      <td>67.0000</td>\n",
       "      <td>M</td>\n",
       "      <td>B</td>\n",
       "      <td>501.0</td>\n",
       "      <td>STRONG-ARM (HANDS, FIST, FEET OR BODILY FORCE)</td>\n",
       "      <td>13.0</td>\n",
       "      <td>1202 0329</td>\n",
       "      <td>2.0</td>\n",
       "      <td>IC</td>\n",
       "      <td>Property Crimes</td>\n",
       "      <td>9</td>\n",
       "    </tr>\n",
       "    <tr>\n",
       "      <th>3</th>\n",
       "      <td>34.2953</td>\n",
       "      <td>-118.4590</td>\n",
       "      <td>2</td>\n",
       "      <td>Evening</td>\n",
       "      <td>61.0000</td>\n",
       "      <td>M</td>\n",
       "      <td>H</td>\n",
       "      <td>101.0</td>\n",
       "      <td>UNKNOWN WEAPON/OTHER WEAPON</td>\n",
       "      <td>19.0</td>\n",
       "      <td>0329 1300</td>\n",
       "      <td>1.0</td>\n",
       "      <td>IC</td>\n",
       "      <td>Property Crimes</td>\n",
       "      <td>9</td>\n",
       "    </tr>\n",
       "    <tr>\n",
       "      <th>4</th>\n",
       "      <td>33.9787</td>\n",
       "      <td>-118.2918</td>\n",
       "      <td>0</td>\n",
       "      <td>Morning</td>\n",
       "      <td>30.1354</td>\n",
       "      <td>X</td>\n",
       "      <td>X</td>\n",
       "      <td>401.0</td>\n",
       "      <td>STRONG-ARM (HANDS, FIST, FEET OR BODILY FORCE)</td>\n",
       "      <td>12.0</td>\n",
       "      <td>0344 0417 1822 0400 0945 0416</td>\n",
       "      <td>1.0</td>\n",
       "      <td>IC</td>\n",
       "      <td>Property Crimes</td>\n",
       "      <td>29</td>\n",
       "    </tr>\n",
       "    <tr>\n",
       "      <th>...</th>\n",
       "      <td>...</td>\n",
       "      <td>...</td>\n",
       "      <td>...</td>\n",
       "      <td>...</td>\n",
       "      <td>...</td>\n",
       "      <td>...</td>\n",
       "      <td>...</td>\n",
       "      <td>...</td>\n",
       "      <td>...</td>\n",
       "      <td>...</td>\n",
       "      <td>...</td>\n",
       "      <td>...</td>\n",
       "      <td>...</td>\n",
       "      <td>...</td>\n",
       "      <td>...</td>\n",
       "    </tr>\n",
       "    <tr>\n",
       "      <th>19995</th>\n",
       "      <td>34.0334</td>\n",
       "      <td>-118.3523</td>\n",
       "      <td>0</td>\n",
       "      <td>Morning</td>\n",
       "      <td>51.0000</td>\n",
       "      <td>M</td>\n",
       "      <td>H</td>\n",
       "      <td>501.0</td>\n",
       "      <td>STRONG-ARM (HANDS, FIST, FEET OR BODILY FORCE)</td>\n",
       "      <td>3.0</td>\n",
       "      <td>2004 0416 0913 0446</td>\n",
       "      <td>2.0</td>\n",
       "      <td>IC</td>\n",
       "      <td>Violent Crimes</td>\n",
       "      <td>19</td>\n",
       "    </tr>\n",
       "    <tr>\n",
       "      <th>19996</th>\n",
       "      <td>34.2212</td>\n",
       "      <td>-118.5011</td>\n",
       "      <td>0</td>\n",
       "      <td>Night</td>\n",
       "      <td>30.1354</td>\n",
       "      <td>M</td>\n",
       "      <td>W</td>\n",
       "      <td>301.0</td>\n",
       "      <td>STRONG-ARM (HANDS, FIST, FEET OR BODILY FORCE)</td>\n",
       "      <td>10.0</td>\n",
       "      <td>0209 0344 1420 1822 1414</td>\n",
       "      <td>1.0</td>\n",
       "      <td>IC</td>\n",
       "      <td>Property Crimes</td>\n",
       "      <td>24</td>\n",
       "    </tr>\n",
       "    <tr>\n",
       "      <th>19997</th>\n",
       "      <td>34.0571</td>\n",
       "      <td>-118.3815</td>\n",
       "      <td>0</td>\n",
       "      <td>Daytime</td>\n",
       "      <td>42.0000</td>\n",
       "      <td>M</td>\n",
       "      <td>H</td>\n",
       "      <td>102.0</td>\n",
       "      <td>UNKNOWN WEAPON/OTHER WEAPON</td>\n",
       "      <td>8.0</td>\n",
       "      <td>0344 1420 1822</td>\n",
       "      <td>1.0</td>\n",
       "      <td>IC</td>\n",
       "      <td>Property Crimes</td>\n",
       "      <td>14</td>\n",
       "    </tr>\n",
       "    <tr>\n",
       "      <th>19998</th>\n",
       "      <td>33.7451</td>\n",
       "      <td>-118.2835</td>\n",
       "      <td>0</td>\n",
       "      <td>Morning</td>\n",
       "      <td>76.0000</td>\n",
       "      <td>F</td>\n",
       "      <td>H</td>\n",
       "      <td>501.0</td>\n",
       "      <td>SEMI-AUTOMATIC PISTOL</td>\n",
       "      <td>5.0</td>\n",
       "      <td>1202 0553 1242 0913 2038 0602</td>\n",
       "      <td>2.0</td>\n",
       "      <td>IC</td>\n",
       "      <td>Crimes against Public Order</td>\n",
       "      <td>29</td>\n",
       "    </tr>\n",
       "    <tr>\n",
       "      <th>19999</th>\n",
       "      <td>34.0037</td>\n",
       "      <td>-118.3034</td>\n",
       "      <td>1</td>\n",
       "      <td>Evening</td>\n",
       "      <td>30.1354</td>\n",
       "      <td>X</td>\n",
       "      <td>W</td>\n",
       "      <td>101.0</td>\n",
       "      <td>CLUB/BAT</td>\n",
       "      <td>3.0</td>\n",
       "      <td></td>\n",
       "      <td>1.0</td>\n",
       "      <td>IC</td>\n",
       "      <td>Property Crimes</td>\n",
       "      <td>0</td>\n",
       "    </tr>\n",
       "  </tbody>\n",
       "</table>\n",
       "<p>20000 rows × 15 columns</p>\n",
       "</div>"
      ],
      "text/plain": [
       "       Latitude  Longitude  reporting_delay_day_count day_category  \\\n",
       "0       34.1522  -118.3910                          3      Evening   \n",
       "1       34.0028  -118.2391                          0      Daytime   \n",
       "2       34.0111  -118.2653                          0      Morning   \n",
       "3       34.2953  -118.4590                          2      Evening   \n",
       "4       33.9787  -118.2918                          0      Morning   \n",
       "...         ...        ...                        ...          ...   \n",
       "19995   34.0334  -118.3523                          0      Morning   \n",
       "19996   34.2212  -118.5011                          0        Night   \n",
       "19997   34.0571  -118.3815                          0      Daytime   \n",
       "19998   33.7451  -118.2835                          0      Morning   \n",
       "19999   34.0037  -118.3034                          1      Evening   \n",
       "\n",
       "       Victim_Age Victim_Sex Victim_Descent  Premise_Code  \\\n",
       "0         75.0000          M              W         101.0   \n",
       "1         41.0000          M              H         216.0   \n",
       "2         67.0000          M              B         501.0   \n",
       "3         61.0000          M              H         101.0   \n",
       "4         30.1354          X              X         401.0   \n",
       "...           ...        ...            ...           ...   \n",
       "19995     51.0000          M              H         501.0   \n",
       "19996     30.1354          M              W         301.0   \n",
       "19997     42.0000          M              H         102.0   \n",
       "19998     76.0000          F              H         501.0   \n",
       "19999     30.1354          X              W         101.0   \n",
       "\n",
       "                                   Weapon_Description  Area_ID  \\\n",
       "0                                                FIRE     15.0   \n",
       "1      STRONG-ARM (HANDS, FIST, FEET OR BODILY FORCE)     13.0   \n",
       "2      STRONG-ARM (HANDS, FIST, FEET OR BODILY FORCE)     13.0   \n",
       "3                         UNKNOWN WEAPON/OTHER WEAPON     19.0   \n",
       "4      STRONG-ARM (HANDS, FIST, FEET OR BODILY FORCE)     12.0   \n",
       "...                                               ...      ...   \n",
       "19995  STRONG-ARM (HANDS, FIST, FEET OR BODILY FORCE)      3.0   \n",
       "19996  STRONG-ARM (HANDS, FIST, FEET OR BODILY FORCE)     10.0   \n",
       "19997                     UNKNOWN WEAPON/OTHER WEAPON      8.0   \n",
       "19998                           SEMI-AUTOMATIC PISTOL      5.0   \n",
       "19999                                        CLUB/BAT      3.0   \n",
       "\n",
       "                                Modus_Operandi  Part 1-2 Status  \\\n",
       "0                                         0385       1.0     IC   \n",
       "1      0344 0417 1822 0906 0446 0416 0371 0352       1.0     IC   \n",
       "2                                    1202 0329       2.0     IC   \n",
       "3                                    0329 1300       1.0     IC   \n",
       "4                0344 0417 1822 0400 0945 0416       1.0     IC   \n",
       "...                                        ...       ...    ...   \n",
       "19995                      2004 0416 0913 0446       2.0     IC   \n",
       "19996                 0209 0344 1420 1822 1414       1.0     IC   \n",
       "19997                           0344 1420 1822       1.0     IC   \n",
       "19998            1202 0553 1242 0913 2038 0602       2.0     IC   \n",
       "19999                                                1.0     IC   \n",
       "\n",
       "                    Crime_Category  max_activity  \n",
       "0                  Property Crimes             4  \n",
       "1                  Property Crimes            39  \n",
       "2                  Property Crimes             9  \n",
       "3                  Property Crimes             9  \n",
       "4                  Property Crimes            29  \n",
       "...                            ...           ...  \n",
       "19995               Violent Crimes            19  \n",
       "19996              Property Crimes            24  \n",
       "19997              Property Crimes            14  \n",
       "19998  Crimes against Public Order            29  \n",
       "19999              Property Crimes             0  \n",
       "\n",
       "[20000 rows x 15 columns]"
      ]
     },
     "execution_count": 60,
     "metadata": {},
     "output_type": "execute_result"
    }
   ],
   "source": [
    "df"
   ]
  },
  {
   "cell_type": "code",
   "execution_count": 61,
   "id": "a564a37c",
   "metadata": {
    "execution": {
     "iopub.execute_input": "2024-06-22T14:49:11.025631Z",
     "iopub.status.busy": "2024-06-22T14:49:11.025193Z",
     "iopub.status.idle": "2024-06-22T14:49:11.041522Z",
     "shell.execute_reply": "2024-06-22T14:49:11.040562Z"
    },
    "papermill": {
     "duration": 0.049478,
     "end_time": "2024-06-22T14:49:11.043981",
     "exception": false,
     "start_time": "2024-06-22T14:49:10.994503",
     "status": "completed"
    },
    "tags": []
   },
   "outputs": [],
   "source": [
    "df.loc[:,'Victim_Age']=df['Victim_Age'].apply(lambda x: int(x))"
   ]
  },
  {
   "cell_type": "code",
   "execution_count": 62,
   "id": "0715d3db",
   "metadata": {
    "execution": {
     "iopub.execute_input": "2024-06-22T14:49:11.103070Z",
     "iopub.status.busy": "2024-06-22T14:49:11.102671Z",
     "iopub.status.idle": "2024-06-22T14:49:11.118177Z",
     "shell.execute_reply": "2024-06-22T14:49:11.117104Z"
    },
    "papermill": {
     "duration": 0.047829,
     "end_time": "2024-06-22T14:49:11.120651",
     "exception": false,
     "start_time": "2024-06-22T14:49:11.072822",
     "status": "completed"
    },
    "tags": []
   },
   "outputs": [
    {
     "data": {
      "text/plain": [
       "Latitude                     0\n",
       "Longitude                    0\n",
       "reporting_delay_day_count    0\n",
       "day_category                 0\n",
       "Victim_Age                   0\n",
       "Victim_Sex                   0\n",
       "Victim_Descent               0\n",
       "Premise_Code                 0\n",
       "Weapon_Description           0\n",
       "Area_ID                      0\n",
       "Modus_Operandi               0\n",
       "Part 1-2                     0\n",
       "Status                       0\n",
       "Crime_Category               0\n",
       "max_activity                 0\n",
       "dtype: int64"
      ]
     },
     "execution_count": 62,
     "metadata": {},
     "output_type": "execute_result"
    }
   ],
   "source": [
    "df.isnull().sum()"
   ]
  },
  {
   "cell_type": "code",
   "execution_count": 63,
   "id": "d92aff40",
   "metadata": {
    "execution": {
     "iopub.execute_input": "2024-06-22T14:49:11.181037Z",
     "iopub.status.busy": "2024-06-22T14:49:11.180635Z",
     "iopub.status.idle": "2024-06-22T14:49:11.205282Z",
     "shell.execute_reply": "2024-06-22T14:49:11.204107Z"
    },
    "papermill": {
     "duration": 0.05798,
     "end_time": "2024-06-22T14:49:11.207710",
     "exception": false,
     "start_time": "2024-06-22T14:49:11.149730",
     "status": "completed"
    },
    "tags": []
   },
   "outputs": [
    {
     "data": {
      "text/html": [
       "<div>\n",
       "<style scoped>\n",
       "    .dataframe tbody tr th:only-of-type {\n",
       "        vertical-align: middle;\n",
       "    }\n",
       "\n",
       "    .dataframe tbody tr th {\n",
       "        vertical-align: top;\n",
       "    }\n",
       "\n",
       "    .dataframe thead th {\n",
       "        text-align: right;\n",
       "    }\n",
       "</style>\n",
       "<table border=\"1\" class=\"dataframe\">\n",
       "  <thead>\n",
       "    <tr style=\"text-align: right;\">\n",
       "      <th></th>\n",
       "      <th>Latitude</th>\n",
       "      <th>Longitude</th>\n",
       "      <th>reporting_delay_day_count</th>\n",
       "      <th>day_category</th>\n",
       "      <th>Victim_Age</th>\n",
       "      <th>Victim_Sex</th>\n",
       "      <th>Victim_Descent</th>\n",
       "      <th>Premise_Code</th>\n",
       "      <th>Weapon_Description</th>\n",
       "      <th>Area_ID</th>\n",
       "      <th>Modus_Operandi</th>\n",
       "      <th>Part 1-2</th>\n",
       "      <th>Status</th>\n",
       "      <th>Crime_Category</th>\n",
       "      <th>max_activity</th>\n",
       "    </tr>\n",
       "  </thead>\n",
       "  <tbody>\n",
       "    <tr>\n",
       "      <th>0</th>\n",
       "      <td>34.1522</td>\n",
       "      <td>-118.3910</td>\n",
       "      <td>3</td>\n",
       "      <td>Evening</td>\n",
       "      <td>75.0</td>\n",
       "      <td>M</td>\n",
       "      <td>W</td>\n",
       "      <td>101.0</td>\n",
       "      <td>FIRE</td>\n",
       "      <td>15.0</td>\n",
       "      <td>0385</td>\n",
       "      <td>1.0</td>\n",
       "      <td>IC</td>\n",
       "      <td>Property Crimes</td>\n",
       "      <td>4</td>\n",
       "    </tr>\n",
       "    <tr>\n",
       "      <th>1</th>\n",
       "      <td>34.0028</td>\n",
       "      <td>-118.2391</td>\n",
       "      <td>0</td>\n",
       "      <td>Daytime</td>\n",
       "      <td>41.0</td>\n",
       "      <td>M</td>\n",
       "      <td>H</td>\n",
       "      <td>216.0</td>\n",
       "      <td>STRONG-ARM (HANDS, FIST, FEET OR BODILY FORCE)</td>\n",
       "      <td>13.0</td>\n",
       "      <td>0344 0417 1822 0906 0446 0416 0371 0352</td>\n",
       "      <td>1.0</td>\n",
       "      <td>IC</td>\n",
       "      <td>Property Crimes</td>\n",
       "      <td>39</td>\n",
       "    </tr>\n",
       "    <tr>\n",
       "      <th>2</th>\n",
       "      <td>34.0111</td>\n",
       "      <td>-118.2653</td>\n",
       "      <td>0</td>\n",
       "      <td>Morning</td>\n",
       "      <td>67.0</td>\n",
       "      <td>M</td>\n",
       "      <td>B</td>\n",
       "      <td>501.0</td>\n",
       "      <td>STRONG-ARM (HANDS, FIST, FEET OR BODILY FORCE)</td>\n",
       "      <td>13.0</td>\n",
       "      <td>1202 0329</td>\n",
       "      <td>2.0</td>\n",
       "      <td>IC</td>\n",
       "      <td>Property Crimes</td>\n",
       "      <td>9</td>\n",
       "    </tr>\n",
       "    <tr>\n",
       "      <th>3</th>\n",
       "      <td>34.2953</td>\n",
       "      <td>-118.4590</td>\n",
       "      <td>2</td>\n",
       "      <td>Evening</td>\n",
       "      <td>61.0</td>\n",
       "      <td>M</td>\n",
       "      <td>H</td>\n",
       "      <td>101.0</td>\n",
       "      <td>UNKNOWN WEAPON/OTHER WEAPON</td>\n",
       "      <td>19.0</td>\n",
       "      <td>0329 1300</td>\n",
       "      <td>1.0</td>\n",
       "      <td>IC</td>\n",
       "      <td>Property Crimes</td>\n",
       "      <td>9</td>\n",
       "    </tr>\n",
       "    <tr>\n",
       "      <th>4</th>\n",
       "      <td>33.9787</td>\n",
       "      <td>-118.2918</td>\n",
       "      <td>0</td>\n",
       "      <td>Morning</td>\n",
       "      <td>30.0</td>\n",
       "      <td>X</td>\n",
       "      <td>X</td>\n",
       "      <td>401.0</td>\n",
       "      <td>STRONG-ARM (HANDS, FIST, FEET OR BODILY FORCE)</td>\n",
       "      <td>12.0</td>\n",
       "      <td>0344 0417 1822 0400 0945 0416</td>\n",
       "      <td>1.0</td>\n",
       "      <td>IC</td>\n",
       "      <td>Property Crimes</td>\n",
       "      <td>29</td>\n",
       "    </tr>\n",
       "    <tr>\n",
       "      <th>...</th>\n",
       "      <td>...</td>\n",
       "      <td>...</td>\n",
       "      <td>...</td>\n",
       "      <td>...</td>\n",
       "      <td>...</td>\n",
       "      <td>...</td>\n",
       "      <td>...</td>\n",
       "      <td>...</td>\n",
       "      <td>...</td>\n",
       "      <td>...</td>\n",
       "      <td>...</td>\n",
       "      <td>...</td>\n",
       "      <td>...</td>\n",
       "      <td>...</td>\n",
       "      <td>...</td>\n",
       "    </tr>\n",
       "    <tr>\n",
       "      <th>19995</th>\n",
       "      <td>34.0334</td>\n",
       "      <td>-118.3523</td>\n",
       "      <td>0</td>\n",
       "      <td>Morning</td>\n",
       "      <td>51.0</td>\n",
       "      <td>M</td>\n",
       "      <td>H</td>\n",
       "      <td>501.0</td>\n",
       "      <td>STRONG-ARM (HANDS, FIST, FEET OR BODILY FORCE)</td>\n",
       "      <td>3.0</td>\n",
       "      <td>2004 0416 0913 0446</td>\n",
       "      <td>2.0</td>\n",
       "      <td>IC</td>\n",
       "      <td>Violent Crimes</td>\n",
       "      <td>19</td>\n",
       "    </tr>\n",
       "    <tr>\n",
       "      <th>19996</th>\n",
       "      <td>34.2212</td>\n",
       "      <td>-118.5011</td>\n",
       "      <td>0</td>\n",
       "      <td>Night</td>\n",
       "      <td>30.0</td>\n",
       "      <td>M</td>\n",
       "      <td>W</td>\n",
       "      <td>301.0</td>\n",
       "      <td>STRONG-ARM (HANDS, FIST, FEET OR BODILY FORCE)</td>\n",
       "      <td>10.0</td>\n",
       "      <td>0209 0344 1420 1822 1414</td>\n",
       "      <td>1.0</td>\n",
       "      <td>IC</td>\n",
       "      <td>Property Crimes</td>\n",
       "      <td>24</td>\n",
       "    </tr>\n",
       "    <tr>\n",
       "      <th>19997</th>\n",
       "      <td>34.0571</td>\n",
       "      <td>-118.3815</td>\n",
       "      <td>0</td>\n",
       "      <td>Daytime</td>\n",
       "      <td>42.0</td>\n",
       "      <td>M</td>\n",
       "      <td>H</td>\n",
       "      <td>102.0</td>\n",
       "      <td>UNKNOWN WEAPON/OTHER WEAPON</td>\n",
       "      <td>8.0</td>\n",
       "      <td>0344 1420 1822</td>\n",
       "      <td>1.0</td>\n",
       "      <td>IC</td>\n",
       "      <td>Property Crimes</td>\n",
       "      <td>14</td>\n",
       "    </tr>\n",
       "    <tr>\n",
       "      <th>19998</th>\n",
       "      <td>33.7451</td>\n",
       "      <td>-118.2835</td>\n",
       "      <td>0</td>\n",
       "      <td>Morning</td>\n",
       "      <td>76.0</td>\n",
       "      <td>F</td>\n",
       "      <td>H</td>\n",
       "      <td>501.0</td>\n",
       "      <td>SEMI-AUTOMATIC PISTOL</td>\n",
       "      <td>5.0</td>\n",
       "      <td>1202 0553 1242 0913 2038 0602</td>\n",
       "      <td>2.0</td>\n",
       "      <td>IC</td>\n",
       "      <td>Crimes against Public Order</td>\n",
       "      <td>29</td>\n",
       "    </tr>\n",
       "    <tr>\n",
       "      <th>19999</th>\n",
       "      <td>34.0037</td>\n",
       "      <td>-118.3034</td>\n",
       "      <td>1</td>\n",
       "      <td>Evening</td>\n",
       "      <td>30.0</td>\n",
       "      <td>X</td>\n",
       "      <td>W</td>\n",
       "      <td>101.0</td>\n",
       "      <td>CLUB/BAT</td>\n",
       "      <td>3.0</td>\n",
       "      <td></td>\n",
       "      <td>1.0</td>\n",
       "      <td>IC</td>\n",
       "      <td>Property Crimes</td>\n",
       "      <td>0</td>\n",
       "    </tr>\n",
       "  </tbody>\n",
       "</table>\n",
       "<p>20000 rows × 15 columns</p>\n",
       "</div>"
      ],
      "text/plain": [
       "       Latitude  Longitude  reporting_delay_day_count day_category  \\\n",
       "0       34.1522  -118.3910                          3      Evening   \n",
       "1       34.0028  -118.2391                          0      Daytime   \n",
       "2       34.0111  -118.2653                          0      Morning   \n",
       "3       34.2953  -118.4590                          2      Evening   \n",
       "4       33.9787  -118.2918                          0      Morning   \n",
       "...         ...        ...                        ...          ...   \n",
       "19995   34.0334  -118.3523                          0      Morning   \n",
       "19996   34.2212  -118.5011                          0        Night   \n",
       "19997   34.0571  -118.3815                          0      Daytime   \n",
       "19998   33.7451  -118.2835                          0      Morning   \n",
       "19999   34.0037  -118.3034                          1      Evening   \n",
       "\n",
       "       Victim_Age Victim_Sex Victim_Descent  Premise_Code  \\\n",
       "0            75.0          M              W         101.0   \n",
       "1            41.0          M              H         216.0   \n",
       "2            67.0          M              B         501.0   \n",
       "3            61.0          M              H         101.0   \n",
       "4            30.0          X              X         401.0   \n",
       "...           ...        ...            ...           ...   \n",
       "19995        51.0          M              H         501.0   \n",
       "19996        30.0          M              W         301.0   \n",
       "19997        42.0          M              H         102.0   \n",
       "19998        76.0          F              H         501.0   \n",
       "19999        30.0          X              W         101.0   \n",
       "\n",
       "                                   Weapon_Description  Area_ID  \\\n",
       "0                                                FIRE     15.0   \n",
       "1      STRONG-ARM (HANDS, FIST, FEET OR BODILY FORCE)     13.0   \n",
       "2      STRONG-ARM (HANDS, FIST, FEET OR BODILY FORCE)     13.0   \n",
       "3                         UNKNOWN WEAPON/OTHER WEAPON     19.0   \n",
       "4      STRONG-ARM (HANDS, FIST, FEET OR BODILY FORCE)     12.0   \n",
       "...                                               ...      ...   \n",
       "19995  STRONG-ARM (HANDS, FIST, FEET OR BODILY FORCE)      3.0   \n",
       "19996  STRONG-ARM (HANDS, FIST, FEET OR BODILY FORCE)     10.0   \n",
       "19997                     UNKNOWN WEAPON/OTHER WEAPON      8.0   \n",
       "19998                           SEMI-AUTOMATIC PISTOL      5.0   \n",
       "19999                                        CLUB/BAT      3.0   \n",
       "\n",
       "                                Modus_Operandi  Part 1-2 Status  \\\n",
       "0                                         0385       1.0     IC   \n",
       "1      0344 0417 1822 0906 0446 0416 0371 0352       1.0     IC   \n",
       "2                                    1202 0329       2.0     IC   \n",
       "3                                    0329 1300       1.0     IC   \n",
       "4                0344 0417 1822 0400 0945 0416       1.0     IC   \n",
       "...                                        ...       ...    ...   \n",
       "19995                      2004 0416 0913 0446       2.0     IC   \n",
       "19996                 0209 0344 1420 1822 1414       1.0     IC   \n",
       "19997                           0344 1420 1822       1.0     IC   \n",
       "19998            1202 0553 1242 0913 2038 0602       2.0     IC   \n",
       "19999                                                1.0     IC   \n",
       "\n",
       "                    Crime_Category  max_activity  \n",
       "0                  Property Crimes             4  \n",
       "1                  Property Crimes            39  \n",
       "2                  Property Crimes             9  \n",
       "3                  Property Crimes             9  \n",
       "4                  Property Crimes            29  \n",
       "...                            ...           ...  \n",
       "19995               Violent Crimes            19  \n",
       "19996              Property Crimes            24  \n",
       "19997              Property Crimes            14  \n",
       "19998  Crimes against Public Order            29  \n",
       "19999              Property Crimes             0  \n",
       "\n",
       "[20000 rows x 15 columns]"
      ]
     },
     "execution_count": 63,
     "metadata": {},
     "output_type": "execute_result"
    }
   ],
   "source": [
    "df"
   ]
  },
  {
   "cell_type": "code",
   "execution_count": 64,
   "id": "89e8ae9e",
   "metadata": {
    "execution": {
     "iopub.execute_input": "2024-06-22T14:49:11.269795Z",
     "iopub.status.busy": "2024-06-22T14:49:11.269387Z",
     "iopub.status.idle": "2024-06-22T14:49:11.279524Z",
     "shell.execute_reply": "2024-06-22T14:49:11.278385Z"
    },
    "papermill": {
     "duration": 0.044345,
     "end_time": "2024-06-22T14:49:11.281813",
     "exception": false,
     "start_time": "2024-06-22T14:49:11.237468",
     "status": "completed"
    },
    "tags": []
   },
   "outputs": [
    {
     "data": {
      "text/plain": [
       "Area_ID\n",
       "12.0    1345\n",
       "14.0    1157\n",
       "1.0     1156\n",
       "3.0     1130\n",
       "18.0    1067\n",
       "15.0    1065\n",
       "6.0     1014\n",
       "13.0     999\n",
       "20.0     960\n",
       "7.0      943\n",
       "2.0      931\n",
       "8.0      910\n",
       "9.0      902\n",
       "5.0      872\n",
       "19.0     870\n",
       "11.0     839\n",
       "21.0     792\n",
       "10.0     790\n",
       "17.0     769\n",
       "4.0      755\n",
       "16.0     734\n",
       "Name: count, dtype: int64"
      ]
     },
     "execution_count": 64,
     "metadata": {},
     "output_type": "execute_result"
    }
   ],
   "source": [
    "df['Area_ID'].value_counts()"
   ]
  },
  {
   "cell_type": "code",
   "execution_count": 65,
   "id": "cf5c600e",
   "metadata": {
    "execution": {
     "iopub.execute_input": "2024-06-22T14:49:11.342906Z",
     "iopub.status.busy": "2024-06-22T14:49:11.342484Z",
     "iopub.status.idle": "2024-06-22T14:49:11.352423Z",
     "shell.execute_reply": "2024-06-22T14:49:11.351127Z"
    },
    "papermill": {
     "duration": 0.043493,
     "end_time": "2024-06-22T14:49:11.354948",
     "exception": false,
     "start_time": "2024-06-22T14:49:11.311455",
     "status": "completed"
    },
    "tags": []
   },
   "outputs": [
    {
     "name": "stderr",
     "output_type": "stream",
     "text": [
      "/tmp/ipykernel_18/876014097.py:1: SettingWithCopyWarning: \n",
      "A value is trying to be set on a copy of a slice from a DataFrame\n",
      "\n",
      "See the caveats in the documentation: https://pandas.pydata.org/pandas-docs/stable/user_guide/indexing.html#returning-a-view-versus-a-copy\n",
      "  df.drop('max_activity',axis=1,inplace=True)\n"
     ]
    }
   ],
   "source": [
    "df.drop('max_activity',axis=1,inplace=True)"
   ]
  },
  {
   "cell_type": "code",
   "execution_count": 66,
   "id": "53212d84",
   "metadata": {
    "execution": {
     "iopub.execute_input": "2024-06-22T14:49:11.415186Z",
     "iopub.status.busy": "2024-06-22T14:49:11.414770Z",
     "iopub.status.idle": "2024-06-22T14:49:11.423397Z",
     "shell.execute_reply": "2024-06-22T14:49:11.422342Z"
    },
    "papermill": {
     "duration": 0.04144,
     "end_time": "2024-06-22T14:49:11.425771",
     "exception": false,
     "start_time": "2024-06-22T14:49:11.384331",
     "status": "completed"
    },
    "tags": []
   },
   "outputs": [],
   "source": [
    "\n",
    "df.loc[df['Weapon_Description'] == 'STRONG-ARM (HANDS, FIST, FEET OR BODILY FORCE)', 'Weapon_Description'] = 'Physical Force'\n"
   ]
  },
  {
   "cell_type": "code",
   "execution_count": 67,
   "id": "1fa7eb24",
   "metadata": {
    "execution": {
     "iopub.execute_input": "2024-06-22T14:49:11.486092Z",
     "iopub.status.busy": "2024-06-22T14:49:11.485696Z",
     "iopub.status.idle": "2024-06-22T14:49:11.496148Z",
     "shell.execute_reply": "2024-06-22T14:49:11.495059Z"
    },
    "papermill": {
     "duration": 0.043158,
     "end_time": "2024-06-22T14:49:11.498310",
     "exception": false,
     "start_time": "2024-06-22T14:49:11.455152",
     "status": "completed"
    },
    "tags": []
   },
   "outputs": [
    {
     "data": {
      "text/plain": [
       "Weapon_Description\n",
       "Physical Force                                   10941\n",
       "UNKNOWN WEAPON/OTHER WEAPON                       2153\n",
       "VERBAL THREAT                                     1448\n",
       "HAND GUN                                          1067\n",
       "KNIFE WITH BLADE 6INCHES OR LESS                   440\n",
       "SEMI-AUTOMATIC PISTOL                              418\n",
       "UNKNOWN FIREARM                                    346\n",
       "OTHER KNIFE                                        340\n",
       "VEHICLE                                            228\n",
       "MACE/PEPPER SPRAY                                  215\n",
       "ROCK/THROWN OBJECT                                 169\n",
       "BOTTLE                                             153\n",
       "PIPE/METAL PIPE                                    137\n",
       "STICK                                              135\n",
       "CLUB/BAT                                           131\n",
       "KITCHEN KNIFE                                      112\n",
       "AIR PISTOL/REVOLVER/RIFLE/BB GUN                   112\n",
       "KNIFE WITH BLADE OVER 6 INCHES IN LENGTH           101\n",
       "SIMULATED GUN                                      100\n",
       "BLUNT INSTRUMENT                                    99\n",
       "FOLDING KNIFE                                       97\n",
       "REVOLVER                                            96\n",
       "UNKNOWN TYPE CUTTING INSTRUMENT                     74\n",
       "CONCRETE BLOCK/BRICK                                73\n",
       "MACHETE                                             70\n",
       "BELT FLAILING INSTRUMENT/CHAIN                      65\n",
       "FIRE                                                64\n",
       "HAMMER                                              61\n",
       "OTHER FIREARM                                       61\n",
       "SCREWDRIVER                                         57\n",
       "PHYSICAL PRESENCE                                   51\n",
       "FIXED OBJECT                                        49\n",
       "OTHER CUTTING INSTRUMENT                            40\n",
       "SCISSORS                                            37\n",
       "RIFLE                                               35\n",
       "BOARD                                               34\n",
       "GLASS                                               34\n",
       "TIRE IRON                                           25\n",
       "TOY GUN                                             19\n",
       "AXE                                                 16\n",
       "BRASS KNUCKLES                                      14\n",
       "SHOTGUN                                             13\n",
       "STUN GUN                                            10\n",
       "MARTIAL ARTS WEAPONS                                 9\n",
       "SWITCH BLADE                                         7\n",
       "SCALDING LIQUID                                      6\n",
       "BOMB THREAT                                          6\n",
       "ASSAULT WEAPON/UZI/AK47/ETC                          6\n",
       "ICE PICK                                             6\n",
       "DEMAND NOTE                                          5\n",
       "CLEAVER                                              4\n",
       "RAZOR BLADE                                          3\n",
       "STARTER PISTOL/REVOLVER                              2\n",
       "SAWED OFF RIFLE/SHOTGUN                              2\n",
       "CAUSTIC CHEMICAL/POISON                              2\n",
       "BOWIE KNIFE                                          1\n",
       "HECKLER & KOCH 93 SEMIAUTOMATIC ASSAULT RIFLE        1\n",
       "Name: count, dtype: int64"
      ]
     },
     "execution_count": 67,
     "metadata": {},
     "output_type": "execute_result"
    }
   ],
   "source": [
    "df['Weapon_Description'].value_counts()"
   ]
  },
  {
   "cell_type": "code",
   "execution_count": 68,
   "id": "45f0df46",
   "metadata": {
    "execution": {
     "iopub.execute_input": "2024-06-22T14:49:11.559151Z",
     "iopub.status.busy": "2024-06-22T14:49:11.558755Z",
     "iopub.status.idle": "2024-06-22T14:49:11.615807Z",
     "shell.execute_reply": "2024-06-22T14:49:11.614650Z"
    },
    "papermill": {
     "duration": 0.090517,
     "end_time": "2024-06-22T14:49:11.618453",
     "exception": false,
     "start_time": "2024-06-22T14:49:11.527936",
     "status": "completed"
    },
    "tags": []
   },
   "outputs": [],
   "source": [
    "\n",
    "def gun(s):\n",
    "    t=s.replace('/',' ')\n",
    "    listt=t.split(' ' or '/')\n",
    "    gun_keywords=['gun','pistol','revolver','rifle','shotgun']\n",
    "    \n",
    "    sharp_heavy_object=['blade','stone','knife','metal','screwdriver','cleaver', 'glass','machete' ,'iron' , 'cutting','axe' ,'instrument','hammer','weapon','object','bottle','weapons','brass','scissors']\n",
    "    \n",
    "    other_weapon = ['bomb','threat', 'demand', 'poison', 'ice', 'scalding', 'board','block' ,'brick', 'stick', 'bat', 'spray']\n",
    "    \n",
    "    physical_presence=['physical','presence']\n",
    "    \n",
    "    fire=['firearm' , 'fire' ]\n",
    "\n",
    "    for i in listt:\n",
    "        if i.lower() in gun_keywords:\n",
    "            return 'Gun'\n",
    "        elif i.lower() in sharp_heavy_object:\n",
    "            return 'sharp_heavy_object'\n",
    "        \n",
    "        elif i.lower() in fire:\n",
    "            return 'fire'\n",
    "        elif i.lower() in other_weapon:\n",
    "            return 'other_weapon'\n",
    "        elif i.lower() in physical_presence:\n",
    "            return 'Physical Force'\n",
    "        \n",
    "    return s\n",
    "    \n",
    "\n",
    "\n",
    "\n",
    "df.loc[:,'Weapon_Description']=df['Weapon_Description'].apply(gun)"
   ]
  },
  {
   "cell_type": "code",
   "execution_count": 69,
   "id": "9053cb09",
   "metadata": {
    "execution": {
     "iopub.execute_input": "2024-06-22T14:49:11.680420Z",
     "iopub.status.busy": "2024-06-22T14:49:11.679543Z",
     "iopub.status.idle": "2024-06-22T14:49:11.689534Z",
     "shell.execute_reply": "2024-06-22T14:49:11.688542Z"
    },
    "papermill": {
     "duration": 0.043663,
     "end_time": "2024-06-22T14:49:11.691747",
     "exception": false,
     "start_time": "2024-06-22T14:49:11.648084",
     "status": "completed"
    },
    "tags": []
   },
   "outputs": [
    {
     "data": {
      "text/plain": [
       "Weapon_Description\n",
       "Physical Force        10992\n",
       "sharp_heavy_object     4373\n",
       "other_weapon           2061\n",
       "Gun                    1875\n",
       "fire                    471\n",
       "VEHICLE                 228\n",
       "Name: count, dtype: int64"
      ]
     },
     "execution_count": 69,
     "metadata": {},
     "output_type": "execute_result"
    }
   ],
   "source": [
    "df['Weapon_Description'].value_counts()"
   ]
  },
  {
   "cell_type": "code",
   "execution_count": 70,
   "id": "b3b475a3",
   "metadata": {
    "execution": {
     "iopub.execute_input": "2024-06-22T14:49:11.753077Z",
     "iopub.status.busy": "2024-06-22T14:49:11.752657Z",
     "iopub.status.idle": "2024-06-22T14:49:11.761311Z",
     "shell.execute_reply": "2024-06-22T14:49:11.759995Z"
    },
    "papermill": {
     "duration": 0.042334,
     "end_time": "2024-06-22T14:49:11.763711",
     "exception": false,
     "start_time": "2024-06-22T14:49:11.721377",
     "status": "completed"
    },
    "tags": []
   },
   "outputs": [
    {
     "data": {
      "text/plain": [
       "217"
      ]
     },
     "execution_count": 70,
     "metadata": {},
     "output_type": "execute_result"
    }
   ],
   "source": [
    "len(df['Premise_Code'].value_counts())"
   ]
  },
  {
   "cell_type": "code",
   "execution_count": 71,
   "id": "52f7aa90",
   "metadata": {
    "execution": {
     "iopub.execute_input": "2024-06-22T14:49:11.825732Z",
     "iopub.status.busy": "2024-06-22T14:49:11.825358Z",
     "iopub.status.idle": "2024-06-22T14:49:11.833439Z",
     "shell.execute_reply": "2024-06-22T14:49:11.832424Z"
    },
    "papermill": {
     "duration": 0.042001,
     "end_time": "2024-06-22T14:49:11.835774",
     "exception": false,
     "start_time": "2024-06-22T14:49:11.793773",
     "status": "completed"
    },
    "tags": []
   },
   "outputs": [
    {
     "data": {
      "text/plain": [
       "21"
      ]
     },
     "execution_count": 71,
     "metadata": {},
     "output_type": "execute_result"
    }
   ],
   "source": [
    "len(df['Area_ID'].value_counts())"
   ]
  },
  {
   "cell_type": "code",
   "execution_count": 72,
   "id": "f3ac53b7",
   "metadata": {
    "execution": {
     "iopub.execute_input": "2024-06-22T14:49:11.898110Z",
     "iopub.status.busy": "2024-06-22T14:49:11.897164Z",
     "iopub.status.idle": "2024-06-22T14:49:11.902493Z",
     "shell.execute_reply": "2024-06-22T14:49:11.901289Z"
    },
    "papermill": {
     "duration": 0.038792,
     "end_time": "2024-06-22T14:49:11.904680",
     "exception": false,
     "start_time": "2024-06-22T14:49:11.865888",
     "status": "completed"
    },
    "tags": []
   },
   "outputs": [],
   "source": [
    "numeric_columns=[['Latitude','Longitude','reporting_delay_day_count','Victim_Age']]\n",
    "categorical_columns=[['day_category','Victim_Sex','Victim_Descent','Premise_Code','Area_ID','Part 1-2','Status']] #ohe\n",
    "multilabel_binarizer=[['Modus_Operandi']] \n"
   ]
  },
  {
   "cell_type": "code",
   "execution_count": 73,
   "id": "620344e0",
   "metadata": {
    "execution": {
     "iopub.execute_input": "2024-06-22T14:49:11.966140Z",
     "iopub.status.busy": "2024-06-22T14:49:11.965739Z",
     "iopub.status.idle": "2024-06-22T14:49:11.988651Z",
     "shell.execute_reply": "2024-06-22T14:49:11.987495Z"
    },
    "papermill": {
     "duration": 0.05661,
     "end_time": "2024-06-22T14:49:11.991171",
     "exception": false,
     "start_time": "2024-06-22T14:49:11.934561",
     "status": "completed"
    },
    "tags": []
   },
   "outputs": [
    {
     "data": {
      "text/html": [
       "<div>\n",
       "<style scoped>\n",
       "    .dataframe tbody tr th:only-of-type {\n",
       "        vertical-align: middle;\n",
       "    }\n",
       "\n",
       "    .dataframe tbody tr th {\n",
       "        vertical-align: top;\n",
       "    }\n",
       "\n",
       "    .dataframe thead th {\n",
       "        text-align: right;\n",
       "    }\n",
       "</style>\n",
       "<table border=\"1\" class=\"dataframe\">\n",
       "  <thead>\n",
       "    <tr style=\"text-align: right;\">\n",
       "      <th></th>\n",
       "      <th>Latitude</th>\n",
       "      <th>Longitude</th>\n",
       "      <th>reporting_delay_day_count</th>\n",
       "      <th>day_category</th>\n",
       "      <th>Victim_Age</th>\n",
       "      <th>Victim_Sex</th>\n",
       "      <th>Victim_Descent</th>\n",
       "      <th>Premise_Code</th>\n",
       "      <th>Weapon_Description</th>\n",
       "      <th>Area_ID</th>\n",
       "      <th>Modus_Operandi</th>\n",
       "      <th>Part 1-2</th>\n",
       "      <th>Status</th>\n",
       "      <th>Crime_Category</th>\n",
       "    </tr>\n",
       "  </thead>\n",
       "  <tbody>\n",
       "    <tr>\n",
       "      <th>0</th>\n",
       "      <td>34.1522</td>\n",
       "      <td>-118.3910</td>\n",
       "      <td>3</td>\n",
       "      <td>Evening</td>\n",
       "      <td>75.0</td>\n",
       "      <td>M</td>\n",
       "      <td>W</td>\n",
       "      <td>101.0</td>\n",
       "      <td>fire</td>\n",
       "      <td>15.0</td>\n",
       "      <td>0385</td>\n",
       "      <td>1.0</td>\n",
       "      <td>IC</td>\n",
       "      <td>Property Crimes</td>\n",
       "    </tr>\n",
       "    <tr>\n",
       "      <th>1</th>\n",
       "      <td>34.0028</td>\n",
       "      <td>-118.2391</td>\n",
       "      <td>0</td>\n",
       "      <td>Daytime</td>\n",
       "      <td>41.0</td>\n",
       "      <td>M</td>\n",
       "      <td>H</td>\n",
       "      <td>216.0</td>\n",
       "      <td>Physical Force</td>\n",
       "      <td>13.0</td>\n",
       "      <td>0344 0417 1822 0906 0446 0416 0371 0352</td>\n",
       "      <td>1.0</td>\n",
       "      <td>IC</td>\n",
       "      <td>Property Crimes</td>\n",
       "    </tr>\n",
       "    <tr>\n",
       "      <th>2</th>\n",
       "      <td>34.0111</td>\n",
       "      <td>-118.2653</td>\n",
       "      <td>0</td>\n",
       "      <td>Morning</td>\n",
       "      <td>67.0</td>\n",
       "      <td>M</td>\n",
       "      <td>B</td>\n",
       "      <td>501.0</td>\n",
       "      <td>Physical Force</td>\n",
       "      <td>13.0</td>\n",
       "      <td>1202 0329</td>\n",
       "      <td>2.0</td>\n",
       "      <td>IC</td>\n",
       "      <td>Property Crimes</td>\n",
       "    </tr>\n",
       "    <tr>\n",
       "      <th>3</th>\n",
       "      <td>34.2953</td>\n",
       "      <td>-118.4590</td>\n",
       "      <td>2</td>\n",
       "      <td>Evening</td>\n",
       "      <td>61.0</td>\n",
       "      <td>M</td>\n",
       "      <td>H</td>\n",
       "      <td>101.0</td>\n",
       "      <td>sharp_heavy_object</td>\n",
       "      <td>19.0</td>\n",
       "      <td>0329 1300</td>\n",
       "      <td>1.0</td>\n",
       "      <td>IC</td>\n",
       "      <td>Property Crimes</td>\n",
       "    </tr>\n",
       "    <tr>\n",
       "      <th>4</th>\n",
       "      <td>33.9787</td>\n",
       "      <td>-118.2918</td>\n",
       "      <td>0</td>\n",
       "      <td>Morning</td>\n",
       "      <td>30.0</td>\n",
       "      <td>X</td>\n",
       "      <td>X</td>\n",
       "      <td>401.0</td>\n",
       "      <td>Physical Force</td>\n",
       "      <td>12.0</td>\n",
       "      <td>0344 0417 1822 0400 0945 0416</td>\n",
       "      <td>1.0</td>\n",
       "      <td>IC</td>\n",
       "      <td>Property Crimes</td>\n",
       "    </tr>\n",
       "    <tr>\n",
       "      <th>...</th>\n",
       "      <td>...</td>\n",
       "      <td>...</td>\n",
       "      <td>...</td>\n",
       "      <td>...</td>\n",
       "      <td>...</td>\n",
       "      <td>...</td>\n",
       "      <td>...</td>\n",
       "      <td>...</td>\n",
       "      <td>...</td>\n",
       "      <td>...</td>\n",
       "      <td>...</td>\n",
       "      <td>...</td>\n",
       "      <td>...</td>\n",
       "      <td>...</td>\n",
       "    </tr>\n",
       "    <tr>\n",
       "      <th>19995</th>\n",
       "      <td>34.0334</td>\n",
       "      <td>-118.3523</td>\n",
       "      <td>0</td>\n",
       "      <td>Morning</td>\n",
       "      <td>51.0</td>\n",
       "      <td>M</td>\n",
       "      <td>H</td>\n",
       "      <td>501.0</td>\n",
       "      <td>Physical Force</td>\n",
       "      <td>3.0</td>\n",
       "      <td>2004 0416 0913 0446</td>\n",
       "      <td>2.0</td>\n",
       "      <td>IC</td>\n",
       "      <td>Violent Crimes</td>\n",
       "    </tr>\n",
       "    <tr>\n",
       "      <th>19996</th>\n",
       "      <td>34.2212</td>\n",
       "      <td>-118.5011</td>\n",
       "      <td>0</td>\n",
       "      <td>Night</td>\n",
       "      <td>30.0</td>\n",
       "      <td>M</td>\n",
       "      <td>W</td>\n",
       "      <td>301.0</td>\n",
       "      <td>Physical Force</td>\n",
       "      <td>10.0</td>\n",
       "      <td>0209 0344 1420 1822 1414</td>\n",
       "      <td>1.0</td>\n",
       "      <td>IC</td>\n",
       "      <td>Property Crimes</td>\n",
       "    </tr>\n",
       "    <tr>\n",
       "      <th>19997</th>\n",
       "      <td>34.0571</td>\n",
       "      <td>-118.3815</td>\n",
       "      <td>0</td>\n",
       "      <td>Daytime</td>\n",
       "      <td>42.0</td>\n",
       "      <td>M</td>\n",
       "      <td>H</td>\n",
       "      <td>102.0</td>\n",
       "      <td>sharp_heavy_object</td>\n",
       "      <td>8.0</td>\n",
       "      <td>0344 1420 1822</td>\n",
       "      <td>1.0</td>\n",
       "      <td>IC</td>\n",
       "      <td>Property Crimes</td>\n",
       "    </tr>\n",
       "    <tr>\n",
       "      <th>19998</th>\n",
       "      <td>33.7451</td>\n",
       "      <td>-118.2835</td>\n",
       "      <td>0</td>\n",
       "      <td>Morning</td>\n",
       "      <td>76.0</td>\n",
       "      <td>F</td>\n",
       "      <td>H</td>\n",
       "      <td>501.0</td>\n",
       "      <td>Gun</td>\n",
       "      <td>5.0</td>\n",
       "      <td>1202 0553 1242 0913 2038 0602</td>\n",
       "      <td>2.0</td>\n",
       "      <td>IC</td>\n",
       "      <td>Crimes against Public Order</td>\n",
       "    </tr>\n",
       "    <tr>\n",
       "      <th>19999</th>\n",
       "      <td>34.0037</td>\n",
       "      <td>-118.3034</td>\n",
       "      <td>1</td>\n",
       "      <td>Evening</td>\n",
       "      <td>30.0</td>\n",
       "      <td>X</td>\n",
       "      <td>W</td>\n",
       "      <td>101.0</td>\n",
       "      <td>other_weapon</td>\n",
       "      <td>3.0</td>\n",
       "      <td></td>\n",
       "      <td>1.0</td>\n",
       "      <td>IC</td>\n",
       "      <td>Property Crimes</td>\n",
       "    </tr>\n",
       "  </tbody>\n",
       "</table>\n",
       "<p>20000 rows × 14 columns</p>\n",
       "</div>"
      ],
      "text/plain": [
       "       Latitude  Longitude  reporting_delay_day_count day_category  \\\n",
       "0       34.1522  -118.3910                          3      Evening   \n",
       "1       34.0028  -118.2391                          0      Daytime   \n",
       "2       34.0111  -118.2653                          0      Morning   \n",
       "3       34.2953  -118.4590                          2      Evening   \n",
       "4       33.9787  -118.2918                          0      Morning   \n",
       "...         ...        ...                        ...          ...   \n",
       "19995   34.0334  -118.3523                          0      Morning   \n",
       "19996   34.2212  -118.5011                          0        Night   \n",
       "19997   34.0571  -118.3815                          0      Daytime   \n",
       "19998   33.7451  -118.2835                          0      Morning   \n",
       "19999   34.0037  -118.3034                          1      Evening   \n",
       "\n",
       "       Victim_Age Victim_Sex Victim_Descent  Premise_Code  Weapon_Description  \\\n",
       "0            75.0          M              W         101.0                fire   \n",
       "1            41.0          M              H         216.0      Physical Force   \n",
       "2            67.0          M              B         501.0      Physical Force   \n",
       "3            61.0          M              H         101.0  sharp_heavy_object   \n",
       "4            30.0          X              X         401.0      Physical Force   \n",
       "...           ...        ...            ...           ...                 ...   \n",
       "19995        51.0          M              H         501.0      Physical Force   \n",
       "19996        30.0          M              W         301.0      Physical Force   \n",
       "19997        42.0          M              H         102.0  sharp_heavy_object   \n",
       "19998        76.0          F              H         501.0                 Gun   \n",
       "19999        30.0          X              W         101.0        other_weapon   \n",
       "\n",
       "       Area_ID                           Modus_Operandi  Part 1-2 Status  \\\n",
       "0         15.0                                     0385       1.0     IC   \n",
       "1         13.0  0344 0417 1822 0906 0446 0416 0371 0352       1.0     IC   \n",
       "2         13.0                                1202 0329       2.0     IC   \n",
       "3         19.0                                0329 1300       1.0     IC   \n",
       "4         12.0            0344 0417 1822 0400 0945 0416       1.0     IC   \n",
       "...        ...                                      ...       ...    ...   \n",
       "19995      3.0                      2004 0416 0913 0446       2.0     IC   \n",
       "19996     10.0                 0209 0344 1420 1822 1414       1.0     IC   \n",
       "19997      8.0                           0344 1420 1822       1.0     IC   \n",
       "19998      5.0            1202 0553 1242 0913 2038 0602       2.0     IC   \n",
       "19999      3.0                                                1.0     IC   \n",
       "\n",
       "                    Crime_Category  \n",
       "0                  Property Crimes  \n",
       "1                  Property Crimes  \n",
       "2                  Property Crimes  \n",
       "3                  Property Crimes  \n",
       "4                  Property Crimes  \n",
       "...                            ...  \n",
       "19995               Violent Crimes  \n",
       "19996              Property Crimes  \n",
       "19997              Property Crimes  \n",
       "19998  Crimes against Public Order  \n",
       "19999              Property Crimes  \n",
       "\n",
       "[20000 rows x 14 columns]"
      ]
     },
     "execution_count": 73,
     "metadata": {},
     "output_type": "execute_result"
    }
   ],
   "source": [
    "df"
   ]
  },
  {
   "cell_type": "code",
   "execution_count": 74,
   "id": "b27fa45a",
   "metadata": {
    "execution": {
     "iopub.execute_input": "2024-06-22T14:49:12.053583Z",
     "iopub.status.busy": "2024-06-22T14:49:12.053147Z",
     "iopub.status.idle": "2024-06-22T14:49:12.061982Z",
     "shell.execute_reply": "2024-06-22T14:49:12.060843Z"
    },
    "papermill": {
     "duration": 0.043316,
     "end_time": "2024-06-22T14:49:12.064573",
     "exception": false,
     "start_time": "2024-06-22T14:49:12.021257",
     "status": "completed"
    },
    "tags": []
   },
   "outputs": [
    {
     "name": "stderr",
     "output_type": "stream",
     "text": [
      "/tmp/ipykernel_18/448365884.py:3: SettingWithCopyWarning: \n",
      "A value is trying to be set on a copy of a slice from a DataFrame\n",
      "\n",
      "See the caveats in the documentation: https://pandas.pydata.org/pandas-docs/stable/user_guide/indexing.html#returning-a-view-versus-a-copy\n",
      "  df.drop('Crime_Category',axis=1,inplace=True)\n"
     ]
    }
   ],
   "source": [
    "y=df['Crime_Category']\n",
    "\n",
    "df.drop('Crime_Category',axis=1,inplace=True)"
   ]
  },
  {
   "cell_type": "code",
   "execution_count": 75,
   "id": "94d00290",
   "metadata": {
    "execution": {
     "iopub.execute_input": "2024-06-22T14:49:12.127426Z",
     "iopub.status.busy": "2024-06-22T14:49:12.127013Z",
     "iopub.status.idle": "2024-06-22T14:49:12.145914Z",
     "shell.execute_reply": "2024-06-22T14:49:12.144343Z"
    },
    "papermill": {
     "duration": 0.053289,
     "end_time": "2024-06-22T14:49:12.148551",
     "exception": false,
     "start_time": "2024-06-22T14:49:12.095262",
     "status": "completed"
    },
    "tags": []
   },
   "outputs": [
    {
     "name": "stdout",
     "output_type": "stream",
     "text": [
      "<class 'pandas.core.frame.DataFrame'>\n",
      "RangeIndex: 20000 entries, 0 to 19999\n",
      "Data columns (total 13 columns):\n",
      " #   Column                     Non-Null Count  Dtype  \n",
      "---  ------                     --------------  -----  \n",
      " 0   Latitude                   20000 non-null  float64\n",
      " 1   Longitude                  20000 non-null  float64\n",
      " 2   reporting_delay_day_count  20000 non-null  int64  \n",
      " 3   day_category               20000 non-null  object \n",
      " 4   Victim_Age                 20000 non-null  float64\n",
      " 5   Victim_Sex                 20000 non-null  object \n",
      " 6   Victim_Descent             20000 non-null  object \n",
      " 7   Premise_Code               20000 non-null  float64\n",
      " 8   Weapon_Description         20000 non-null  object \n",
      " 9   Area_ID                    20000 non-null  float64\n",
      " 10  Modus_Operandi             20000 non-null  object \n",
      " 11  Part 1-2                   20000 non-null  float64\n",
      " 12  Status                     20000 non-null  object \n",
      "dtypes: float64(6), int64(1), object(6)\n",
      "memory usage: 2.0+ MB\n"
     ]
    }
   ],
   "source": [
    "df.info()"
   ]
  },
  {
   "cell_type": "code",
   "execution_count": 76,
   "id": "e09aea9a",
   "metadata": {
    "execution": {
     "iopub.execute_input": "2024-06-22T14:49:12.212150Z",
     "iopub.status.busy": "2024-06-22T14:49:12.211783Z",
     "iopub.status.idle": "2024-06-22T14:49:12.221075Z",
     "shell.execute_reply": "2024-06-22T14:49:12.219971Z"
    },
    "papermill": {
     "duration": 0.044224,
     "end_time": "2024-06-22T14:49:12.223507",
     "exception": false,
     "start_time": "2024-06-22T14:49:12.179283",
     "status": "completed"
    },
    "tags": []
   },
   "outputs": [
    {
     "name": "stderr",
     "output_type": "stream",
     "text": [
      "/tmp/ipykernel_18/1308723833.py:1: SettingWithCopyWarning: \n",
      "A value is trying to be set on a copy of a slice from a DataFrame\n",
      "\n",
      "See the caveats in the documentation: https://pandas.pydata.org/pandas-docs/stable/user_guide/indexing.html#returning-a-view-versus-a-copy\n",
      "  df.drop('Premise_Code',axis=1,inplace=True)\n"
     ]
    }
   ],
   "source": [
    "df.drop('Premise_Code',axis=1,inplace=True)"
   ]
  },
  {
   "cell_type": "code",
   "execution_count": 77,
   "id": "639e76f4",
   "metadata": {
    "execution": {
     "iopub.execute_input": "2024-06-22T14:49:12.290527Z",
     "iopub.status.busy": "2024-06-22T14:49:12.289629Z",
     "iopub.status.idle": "2024-06-22T14:49:12.296839Z",
     "shell.execute_reply": "2024-06-22T14:49:12.295633Z"
    },
    "papermill": {
     "duration": 0.044058,
     "end_time": "2024-06-22T14:49:12.298982",
     "exception": false,
     "start_time": "2024-06-22T14:49:12.254924",
     "status": "completed"
    },
    "tags": []
   },
   "outputs": [
    {
     "data": {
      "text/plain": [
       "(20000,)"
      ]
     },
     "execution_count": 77,
     "metadata": {},
     "output_type": "execute_result"
    }
   ],
   "source": [
    "y.shape"
   ]
  },
  {
   "cell_type": "code",
   "execution_count": 78,
   "id": "4f218f0c",
   "metadata": {
    "execution": {
     "iopub.execute_input": "2024-06-22T14:49:12.363352Z",
     "iopub.status.busy": "2024-06-22T14:49:12.362378Z",
     "iopub.status.idle": "2024-06-22T14:49:12.393094Z",
     "shell.execute_reply": "2024-06-22T14:49:12.391907Z"
    },
    "papermill": {
     "duration": 0.065536,
     "end_time": "2024-06-22T14:49:12.395837",
     "exception": false,
     "start_time": "2024-06-22T14:49:12.330301",
     "status": "completed"
    },
    "tags": []
   },
   "outputs": [],
   "source": [
    "from sklearn.model_selection import train_test_split\n",
    "\n",
    "xtrain, xtest ,ytrain , ytest= train_test_split(df , y , test_size=0.2 , random_state=42 , shuffle=True ,stratify = y  )"
   ]
  },
  {
   "cell_type": "code",
   "execution_count": 79,
   "id": "6bc57851",
   "metadata": {
    "execution": {
     "iopub.execute_input": "2024-06-22T14:49:12.459113Z",
     "iopub.status.busy": "2024-06-22T14:49:12.458713Z",
     "iopub.status.idle": "2024-06-22T14:49:12.464291Z",
     "shell.execute_reply": "2024-06-22T14:49:12.463054Z"
    },
    "papermill": {
     "duration": 0.040053,
     "end_time": "2024-06-22T14:49:12.466667",
     "exception": false,
     "start_time": "2024-06-22T14:49:12.426614",
     "status": "completed"
    },
    "tags": []
   },
   "outputs": [
    {
     "name": "stdout",
     "output_type": "stream",
     "text": [
      "(16000, 12)\n",
      "(16000,)\n",
      "(4000, 12)\n",
      "(4000,)\n"
     ]
    }
   ],
   "source": [
    "print(xtrain.shape) \n",
    "print(ytrain.shape)\n",
    "print(xtest.shape)\n",
    "print(ytest.shape)"
   ]
  },
  {
   "cell_type": "code",
   "execution_count": 80,
   "id": "b85174f7",
   "metadata": {
    "execution": {
     "iopub.execute_input": "2024-06-22T14:49:12.534231Z",
     "iopub.status.busy": "2024-06-22T14:49:12.533845Z",
     "iopub.status.idle": "2024-06-22T14:49:12.595462Z",
     "shell.execute_reply": "2024-06-22T14:49:12.594282Z"
    },
    "papermill": {
     "duration": 0.099462,
     "end_time": "2024-06-22T14:49:12.597784",
     "exception": false,
     "start_time": "2024-06-22T14:49:12.498322",
     "status": "completed"
    },
    "tags": []
   },
   "outputs": [
    {
     "name": "stdout",
     "output_type": "stream",
     "text": [
      "Dummy train score 0.5833125\n",
      "Dummy predicted train score 1.0\n",
      "Dummy test score 0.58325\n",
      "Dummy predicted test score 1.0\n"
     ]
    }
   ],
   "source": [
    "from sklearn.dummy import DummyClassifier\n",
    "\n",
    "dummy_clf=DummyClassifier(random_state=42 , strategy=\"most_frequent\")\n",
    "dummy_clf.fit(xtrain, ytrain)\n",
    "print('Dummy train score', dummy_clf.score(ytrain,ytrain))\n",
    "print('Dummy predicted train score', dummy_clf.score(xtrain,dummy_clf.predict(xtrain)))\n",
    "\n",
    "print('Dummy test score', dummy_clf.score(xtest, ytest))\n",
    "\n",
    "print('Dummy predicted test score', dummy_clf.score(xtest, dummy_clf.predict(xtest)))"
   ]
  },
  {
   "cell_type": "markdown",
   "id": "8418fd96",
   "metadata": {
    "papermill": {
     "duration": 0.030492,
     "end_time": "2024-06-22T14:49:12.659156",
     "exception": false,
     "start_time": "2024-06-22T14:49:12.628664",
     "status": "completed"
    },
    "tags": []
   },
   "source": [
    "Logistic "
   ]
  },
  {
   "cell_type": "code",
   "execution_count": 81,
   "id": "5c667559",
   "metadata": {
    "execution": {
     "iopub.execute_input": "2024-06-22T14:49:12.722513Z",
     "iopub.status.busy": "2024-06-22T14:49:12.722099Z",
     "iopub.status.idle": "2024-06-22T14:49:12.836371Z",
     "shell.execute_reply": "2024-06-22T14:49:12.835161Z"
    },
    "papermill": {
     "duration": 0.149123,
     "end_time": "2024-06-22T14:49:12.839082",
     "exception": false,
     "start_time": "2024-06-22T14:49:12.689959",
     "status": "completed"
    },
    "tags": []
   },
   "outputs": [],
   "source": [
    "from sklearn.linear_model import LogisticRegression\n",
    "from sklearn.pipeline import Pipeline\n",
    "from sklearn.compose import ColumnTransformer"
   ]
  },
  {
   "cell_type": "code",
   "execution_count": 82,
   "id": "611193ef",
   "metadata": {
    "execution": {
     "iopub.execute_input": "2024-06-22T14:49:12.903166Z",
     "iopub.status.busy": "2024-06-22T14:49:12.902757Z",
     "iopub.status.idle": "2024-06-22T14:49:12.921061Z",
     "shell.execute_reply": "2024-06-22T14:49:12.919913Z"
    },
    "papermill": {
     "duration": 0.053177,
     "end_time": "2024-06-22T14:49:12.923595",
     "exception": false,
     "start_time": "2024-06-22T14:49:12.870418",
     "status": "completed"
    },
    "tags": []
   },
   "outputs": [
    {
     "name": "stdout",
     "output_type": "stream",
     "text": [
      "<class 'pandas.core.frame.DataFrame'>\n",
      "RangeIndex: 20000 entries, 0 to 19999\n",
      "Data columns (total 12 columns):\n",
      " #   Column                     Non-Null Count  Dtype  \n",
      "---  ------                     --------------  -----  \n",
      " 0   Latitude                   20000 non-null  float64\n",
      " 1   Longitude                  20000 non-null  float64\n",
      " 2   reporting_delay_day_count  20000 non-null  int64  \n",
      " 3   day_category               20000 non-null  object \n",
      " 4   Victim_Age                 20000 non-null  float64\n",
      " 5   Victim_Sex                 20000 non-null  object \n",
      " 6   Victim_Descent             20000 non-null  object \n",
      " 7   Weapon_Description         20000 non-null  object \n",
      " 8   Area_ID                    20000 non-null  float64\n",
      " 9   Modus_Operandi             20000 non-null  object \n",
      " 10  Part 1-2                   20000 non-null  float64\n",
      " 11  Status                     20000 non-null  object \n",
      "dtypes: float64(5), int64(1), object(6)\n",
      "memory usage: 1.8+ MB\n"
     ]
    }
   ],
   "source": [
    "df.info()"
   ]
  },
  {
   "cell_type": "code",
   "execution_count": 83,
   "id": "0fea557d",
   "metadata": {
    "execution": {
     "iopub.execute_input": "2024-06-22T14:49:12.989025Z",
     "iopub.status.busy": "2024-06-22T14:49:12.988017Z",
     "iopub.status.idle": "2024-06-22T14:49:13.007336Z",
     "shell.execute_reply": "2024-06-22T14:49:13.005823Z"
    },
    "papermill": {
     "duration": 0.054709,
     "end_time": "2024-06-22T14:49:13.010011",
     "exception": false,
     "start_time": "2024-06-22T14:49:12.955302",
     "status": "completed"
    },
    "tags": []
   },
   "outputs": [
    {
     "name": "stdout",
     "output_type": "stream",
     "text": [
      "<class 'pandas.core.frame.DataFrame'>\n",
      "Index: 16000 entries, 6735 to 554\n",
      "Data columns (total 12 columns):\n",
      " #   Column                     Non-Null Count  Dtype  \n",
      "---  ------                     --------------  -----  \n",
      " 0   Latitude                   16000 non-null  float64\n",
      " 1   Longitude                  16000 non-null  float64\n",
      " 2   reporting_delay_day_count  16000 non-null  int64  \n",
      " 3   day_category               16000 non-null  object \n",
      " 4   Victim_Age                 16000 non-null  float64\n",
      " 5   Victim_Sex                 16000 non-null  object \n",
      " 6   Victim_Descent             16000 non-null  object \n",
      " 7   Weapon_Description         16000 non-null  object \n",
      " 8   Area_ID                    16000 non-null  float64\n",
      " 9   Modus_Operandi             16000 non-null  object \n",
      " 10  Part 1-2                   16000 non-null  float64\n",
      " 11  Status                     16000 non-null  object \n",
      "dtypes: float64(5), int64(1), object(6)\n",
      "memory usage: 1.6+ MB\n"
     ]
    }
   ],
   "source": [
    "xtrain.info()"
   ]
  },
  {
   "cell_type": "code",
   "execution_count": 84,
   "id": "08c6fa9b",
   "metadata": {
    "execution": {
     "iopub.execute_input": "2024-06-22T14:49:13.077700Z",
     "iopub.status.busy": "2024-06-22T14:49:13.077286Z",
     "iopub.status.idle": "2024-06-22T14:49:13.084601Z",
     "shell.execute_reply": "2024-06-22T14:49:13.083299Z"
    },
    "papermill": {
     "duration": 0.043311,
     "end_time": "2024-06-22T14:49:13.086886",
     "exception": false,
     "start_time": "2024-06-22T14:49:13.043575",
     "status": "completed"
    },
    "tags": []
   },
   "outputs": [],
   "source": [
    "from sklearn.base import BaseEstimator, TransformerMixin\n",
    "from sklearn.preprocessing import MultiLabelBinarizer\n",
    "\n",
    "class MultiLabelBinarizerWrapper(BaseEstimator, TransformerMixin):\n",
    "    def __init__(self):\n",
    "        self.mlb = MultiLabelBinarizer()\n",
    "\n",
    "    def fit(self, X, y=None):\n",
    "        self.mlb.fit(X)\n",
    "        return self\n",
    "\n",
    "    def transform(self, X):\n",
    "        return self.mlb.transform(X)"
   ]
  },
  {
   "cell_type": "code",
   "execution_count": 85,
   "id": "96b471f1",
   "metadata": {
    "execution": {
     "iopub.execute_input": "2024-06-22T14:49:13.154055Z",
     "iopub.status.busy": "2024-06-22T14:49:13.153630Z",
     "iopub.status.idle": "2024-06-22T14:49:13.174101Z",
     "shell.execute_reply": "2024-06-22T14:49:13.173010Z"
    },
    "papermill": {
     "duration": 0.056802,
     "end_time": "2024-06-22T14:49:13.176812",
     "exception": false,
     "start_time": "2024-06-22T14:49:13.120010",
     "status": "completed"
    },
    "tags": []
   },
   "outputs": [],
   "source": [
    "\n",
    "from sklearn.preprocessing import StandardScaler , OneHotEncoder  , MultiLabelBinarizer\n",
    "from sklearn.feature_extraction.text import CountVectorizer\n",
    "ct=ColumnTransformer(transformers=[\n",
    "    \n",
    "    ('numerical_cols' , StandardScaler(),['Latitude','Longitude','reporting_delay_day_count','Victim_Age']),\n",
    "    ('categorical_cols' , OneHotEncoder(handle_unknown='ignore'),['day_category','Victim_Sex','Victim_Descent','Part 1-2','Area_ID','Status','Weapon_Description']),\n",
    "    ('multi_label_binarizer', MultiLabelBinarizerWrapper(), 'Modus_Operandi')\n",
    "])\n",
    "    "
   ]
  },
  {
   "cell_type": "code",
   "execution_count": 86,
   "id": "c15d0a2c",
   "metadata": {
    "execution": {
     "iopub.execute_input": "2024-06-22T14:49:13.243916Z",
     "iopub.status.busy": "2024-06-22T14:49:13.243233Z",
     "iopub.status.idle": "2024-06-22T14:49:13.251235Z",
     "shell.execute_reply": "2024-06-22T14:49:13.250225Z"
    },
    "papermill": {
     "duration": 0.044424,
     "end_time": "2024-06-22T14:49:13.253556",
     "exception": false,
     "start_time": "2024-06-22T14:49:13.209132",
     "status": "completed"
    },
    "tags": []
   },
   "outputs": [
    {
     "data": {
      "text/plain": [
       "21"
      ]
     },
     "execution_count": 86,
     "metadata": {},
     "output_type": "execute_result"
    }
   ],
   "source": [
    "len(df['Area_ID'].value_counts())"
   ]
  },
  {
   "cell_type": "code",
   "execution_count": 87,
   "id": "f41dfe0f",
   "metadata": {
    "execution": {
     "iopub.execute_input": "2024-06-22T14:49:13.321421Z",
     "iopub.status.busy": "2024-06-22T14:49:13.321006Z",
     "iopub.status.idle": "2024-06-22T14:49:13.327251Z",
     "shell.execute_reply": "2024-06-22T14:49:13.325975Z"
    },
    "papermill": {
     "duration": 0.042611,
     "end_time": "2024-06-22T14:49:13.330114",
     "exception": false,
     "start_time": "2024-06-22T14:49:13.287503",
     "status": "completed"
    },
    "tags": []
   },
   "outputs": [],
   "source": [
    "pipe_logistic = Pipeline(steps=[('ct',ct),('logistic_reg',LogisticRegression(solver='saga',C=0.1,warm_start=True, max_iter=1500 ,random_state=42))])"
   ]
  },
  {
   "cell_type": "code",
   "execution_count": 88,
   "id": "f1c93ebf",
   "metadata": {
    "execution": {
     "iopub.execute_input": "2024-06-22T14:49:13.395408Z",
     "iopub.status.busy": "2024-06-22T14:49:13.394951Z",
     "iopub.status.idle": "2024-06-22T14:49:32.190493Z",
     "shell.execute_reply": "2024-06-22T14:49:32.189357Z"
    },
    "papermill": {
     "duration": 18.830968,
     "end_time": "2024-06-22T14:49:32.192794",
     "exception": false,
     "start_time": "2024-06-22T14:49:13.361826",
     "status": "completed"
    },
    "tags": []
   },
   "outputs": [
    {
     "data": {
      "text/html": [
       "<style>#sk-container-id-1 {color: black;background-color: white;}#sk-container-id-1 pre{padding: 0;}#sk-container-id-1 div.sk-toggleable {background-color: white;}#sk-container-id-1 label.sk-toggleable__label {cursor: pointer;display: block;width: 100%;margin-bottom: 0;padding: 0.3em;box-sizing: border-box;text-align: center;}#sk-container-id-1 label.sk-toggleable__label-arrow:before {content: \"▸\";float: left;margin-right: 0.25em;color: #696969;}#sk-container-id-1 label.sk-toggleable__label-arrow:hover:before {color: black;}#sk-container-id-1 div.sk-estimator:hover label.sk-toggleable__label-arrow:before {color: black;}#sk-container-id-1 div.sk-toggleable__content {max-height: 0;max-width: 0;overflow: hidden;text-align: left;background-color: #f0f8ff;}#sk-container-id-1 div.sk-toggleable__content pre {margin: 0.2em;color: black;border-radius: 0.25em;background-color: #f0f8ff;}#sk-container-id-1 input.sk-toggleable__control:checked~div.sk-toggleable__content {max-height: 200px;max-width: 100%;overflow: auto;}#sk-container-id-1 input.sk-toggleable__control:checked~label.sk-toggleable__label-arrow:before {content: \"▾\";}#sk-container-id-1 div.sk-estimator input.sk-toggleable__control:checked~label.sk-toggleable__label {background-color: #d4ebff;}#sk-container-id-1 div.sk-label input.sk-toggleable__control:checked~label.sk-toggleable__label {background-color: #d4ebff;}#sk-container-id-1 input.sk-hidden--visually {border: 0;clip: rect(1px 1px 1px 1px);clip: rect(1px, 1px, 1px, 1px);height: 1px;margin: -1px;overflow: hidden;padding: 0;position: absolute;width: 1px;}#sk-container-id-1 div.sk-estimator {font-family: monospace;background-color: #f0f8ff;border: 1px dotted black;border-radius: 0.25em;box-sizing: border-box;margin-bottom: 0.5em;}#sk-container-id-1 div.sk-estimator:hover {background-color: #d4ebff;}#sk-container-id-1 div.sk-parallel-item::after {content: \"\";width: 100%;border-bottom: 1px solid gray;flex-grow: 1;}#sk-container-id-1 div.sk-label:hover label.sk-toggleable__label {background-color: #d4ebff;}#sk-container-id-1 div.sk-serial::before {content: \"\";position: absolute;border-left: 1px solid gray;box-sizing: border-box;top: 0;bottom: 0;left: 50%;z-index: 0;}#sk-container-id-1 div.sk-serial {display: flex;flex-direction: column;align-items: center;background-color: white;padding-right: 0.2em;padding-left: 0.2em;position: relative;}#sk-container-id-1 div.sk-item {position: relative;z-index: 1;}#sk-container-id-1 div.sk-parallel {display: flex;align-items: stretch;justify-content: center;background-color: white;position: relative;}#sk-container-id-1 div.sk-item::before, #sk-container-id-1 div.sk-parallel-item::before {content: \"\";position: absolute;border-left: 1px solid gray;box-sizing: border-box;top: 0;bottom: 0;left: 50%;z-index: -1;}#sk-container-id-1 div.sk-parallel-item {display: flex;flex-direction: column;z-index: 1;position: relative;background-color: white;}#sk-container-id-1 div.sk-parallel-item:first-child::after {align-self: flex-end;width: 50%;}#sk-container-id-1 div.sk-parallel-item:last-child::after {align-self: flex-start;width: 50%;}#sk-container-id-1 div.sk-parallel-item:only-child::after {width: 0;}#sk-container-id-1 div.sk-dashed-wrapped {border: 1px dashed gray;margin: 0 0.4em 0.5em 0.4em;box-sizing: border-box;padding-bottom: 0.4em;background-color: white;}#sk-container-id-1 div.sk-label label {font-family: monospace;font-weight: bold;display: inline-block;line-height: 1.2em;}#sk-container-id-1 div.sk-label-container {text-align: center;}#sk-container-id-1 div.sk-container {/* jupyter's `normalize.less` sets `[hidden] { display: none; }` but bootstrap.min.css set `[hidden] { display: none !important; }` so we also need the `!important` here to be able to override the default hidden behavior on the sphinx rendered scikit-learn.org. See: https://github.com/scikit-learn/scikit-learn/issues/21755 */display: inline-block !important;position: relative;}#sk-container-id-1 div.sk-text-repr-fallback {display: none;}</style><div id=\"sk-container-id-1\" class=\"sk-top-container\"><div class=\"sk-text-repr-fallback\"><pre>Pipeline(steps=[(&#x27;ct&#x27;,\n",
       "                 ColumnTransformer(transformers=[(&#x27;numerical_cols&#x27;,\n",
       "                                                  StandardScaler(),\n",
       "                                                  [&#x27;Latitude&#x27;, &#x27;Longitude&#x27;,\n",
       "                                                   &#x27;reporting_delay_day_count&#x27;,\n",
       "                                                   &#x27;Victim_Age&#x27;]),\n",
       "                                                 (&#x27;categorical_cols&#x27;,\n",
       "                                                  OneHotEncoder(handle_unknown=&#x27;ignore&#x27;),\n",
       "                                                  [&#x27;day_category&#x27;, &#x27;Victim_Sex&#x27;,\n",
       "                                                   &#x27;Victim_Descent&#x27;, &#x27;Part 1-2&#x27;,\n",
       "                                                   &#x27;Area_ID&#x27;, &#x27;Status&#x27;,\n",
       "                                                   &#x27;Weapon_Description&#x27;]),\n",
       "                                                 (&#x27;multi_label_binarizer&#x27;,\n",
       "                                                  MultiLabelBinarizerWrapper(),\n",
       "                                                  &#x27;Modus_Operandi&#x27;)])),\n",
       "                (&#x27;logistic_reg&#x27;,\n",
       "                 LogisticRegression(C=0.1, max_iter=1500, random_state=42,\n",
       "                                    solver=&#x27;saga&#x27;, warm_start=True))])</pre><b>In a Jupyter environment, please rerun this cell to show the HTML representation or trust the notebook. <br />On GitHub, the HTML representation is unable to render, please try loading this page with nbviewer.org.</b></div><div class=\"sk-container\" hidden><div class=\"sk-item sk-dashed-wrapped\"><div class=\"sk-label-container\"><div class=\"sk-label sk-toggleable\"><input class=\"sk-toggleable__control sk-hidden--visually\" id=\"sk-estimator-id-1\" type=\"checkbox\" ><label for=\"sk-estimator-id-1\" class=\"sk-toggleable__label sk-toggleable__label-arrow\">Pipeline</label><div class=\"sk-toggleable__content\"><pre>Pipeline(steps=[(&#x27;ct&#x27;,\n",
       "                 ColumnTransformer(transformers=[(&#x27;numerical_cols&#x27;,\n",
       "                                                  StandardScaler(),\n",
       "                                                  [&#x27;Latitude&#x27;, &#x27;Longitude&#x27;,\n",
       "                                                   &#x27;reporting_delay_day_count&#x27;,\n",
       "                                                   &#x27;Victim_Age&#x27;]),\n",
       "                                                 (&#x27;categorical_cols&#x27;,\n",
       "                                                  OneHotEncoder(handle_unknown=&#x27;ignore&#x27;),\n",
       "                                                  [&#x27;day_category&#x27;, &#x27;Victim_Sex&#x27;,\n",
       "                                                   &#x27;Victim_Descent&#x27;, &#x27;Part 1-2&#x27;,\n",
       "                                                   &#x27;Area_ID&#x27;, &#x27;Status&#x27;,\n",
       "                                                   &#x27;Weapon_Description&#x27;]),\n",
       "                                                 (&#x27;multi_label_binarizer&#x27;,\n",
       "                                                  MultiLabelBinarizerWrapper(),\n",
       "                                                  &#x27;Modus_Operandi&#x27;)])),\n",
       "                (&#x27;logistic_reg&#x27;,\n",
       "                 LogisticRegression(C=0.1, max_iter=1500, random_state=42,\n",
       "                                    solver=&#x27;saga&#x27;, warm_start=True))])</pre></div></div></div><div class=\"sk-serial\"><div class=\"sk-item sk-dashed-wrapped\"><div class=\"sk-label-container\"><div class=\"sk-label sk-toggleable\"><input class=\"sk-toggleable__control sk-hidden--visually\" id=\"sk-estimator-id-2\" type=\"checkbox\" ><label for=\"sk-estimator-id-2\" class=\"sk-toggleable__label sk-toggleable__label-arrow\">ct: ColumnTransformer</label><div class=\"sk-toggleable__content\"><pre>ColumnTransformer(transformers=[(&#x27;numerical_cols&#x27;, StandardScaler(),\n",
       "                                 [&#x27;Latitude&#x27;, &#x27;Longitude&#x27;,\n",
       "                                  &#x27;reporting_delay_day_count&#x27;, &#x27;Victim_Age&#x27;]),\n",
       "                                (&#x27;categorical_cols&#x27;,\n",
       "                                 OneHotEncoder(handle_unknown=&#x27;ignore&#x27;),\n",
       "                                 [&#x27;day_category&#x27;, &#x27;Victim_Sex&#x27;,\n",
       "                                  &#x27;Victim_Descent&#x27;, &#x27;Part 1-2&#x27;, &#x27;Area_ID&#x27;,\n",
       "                                  &#x27;Status&#x27;, &#x27;Weapon_Description&#x27;]),\n",
       "                                (&#x27;multi_label_binarizer&#x27;,\n",
       "                                 MultiLabelBinarizerWrapper(),\n",
       "                                 &#x27;Modus_Operandi&#x27;)])</pre></div></div></div><div class=\"sk-parallel\"><div class=\"sk-parallel-item\"><div class=\"sk-item\"><div class=\"sk-label-container\"><div class=\"sk-label sk-toggleable\"><input class=\"sk-toggleable__control sk-hidden--visually\" id=\"sk-estimator-id-3\" type=\"checkbox\" ><label for=\"sk-estimator-id-3\" class=\"sk-toggleable__label sk-toggleable__label-arrow\">numerical_cols</label><div class=\"sk-toggleable__content\"><pre>[&#x27;Latitude&#x27;, &#x27;Longitude&#x27;, &#x27;reporting_delay_day_count&#x27;, &#x27;Victim_Age&#x27;]</pre></div></div></div><div class=\"sk-serial\"><div class=\"sk-item\"><div class=\"sk-estimator sk-toggleable\"><input class=\"sk-toggleable__control sk-hidden--visually\" id=\"sk-estimator-id-4\" type=\"checkbox\" ><label for=\"sk-estimator-id-4\" class=\"sk-toggleable__label sk-toggleable__label-arrow\">StandardScaler</label><div class=\"sk-toggleable__content\"><pre>StandardScaler()</pre></div></div></div></div></div></div><div class=\"sk-parallel-item\"><div class=\"sk-item\"><div class=\"sk-label-container\"><div class=\"sk-label sk-toggleable\"><input class=\"sk-toggleable__control sk-hidden--visually\" id=\"sk-estimator-id-5\" type=\"checkbox\" ><label for=\"sk-estimator-id-5\" class=\"sk-toggleable__label sk-toggleable__label-arrow\">categorical_cols</label><div class=\"sk-toggleable__content\"><pre>[&#x27;day_category&#x27;, &#x27;Victim_Sex&#x27;, &#x27;Victim_Descent&#x27;, &#x27;Part 1-2&#x27;, &#x27;Area_ID&#x27;, &#x27;Status&#x27;, &#x27;Weapon_Description&#x27;]</pre></div></div></div><div class=\"sk-serial\"><div class=\"sk-item\"><div class=\"sk-estimator sk-toggleable\"><input class=\"sk-toggleable__control sk-hidden--visually\" id=\"sk-estimator-id-6\" type=\"checkbox\" ><label for=\"sk-estimator-id-6\" class=\"sk-toggleable__label sk-toggleable__label-arrow\">OneHotEncoder</label><div class=\"sk-toggleable__content\"><pre>OneHotEncoder(handle_unknown=&#x27;ignore&#x27;)</pre></div></div></div></div></div></div><div class=\"sk-parallel-item\"><div class=\"sk-item\"><div class=\"sk-label-container\"><div class=\"sk-label sk-toggleable\"><input class=\"sk-toggleable__control sk-hidden--visually\" id=\"sk-estimator-id-7\" type=\"checkbox\" ><label for=\"sk-estimator-id-7\" class=\"sk-toggleable__label sk-toggleable__label-arrow\">multi_label_binarizer</label><div class=\"sk-toggleable__content\"><pre>Modus_Operandi</pre></div></div></div><div class=\"sk-serial\"><div class=\"sk-item\"><div class=\"sk-estimator sk-toggleable\"><input class=\"sk-toggleable__control sk-hidden--visually\" id=\"sk-estimator-id-8\" type=\"checkbox\" ><label for=\"sk-estimator-id-8\" class=\"sk-toggleable__label sk-toggleable__label-arrow\">MultiLabelBinarizerWrapper</label><div class=\"sk-toggleable__content\"><pre>MultiLabelBinarizerWrapper()</pre></div></div></div></div></div></div></div></div><div class=\"sk-item\"><div class=\"sk-estimator sk-toggleable\"><input class=\"sk-toggleable__control sk-hidden--visually\" id=\"sk-estimator-id-9\" type=\"checkbox\" ><label for=\"sk-estimator-id-9\" class=\"sk-toggleable__label sk-toggleable__label-arrow\">LogisticRegression</label><div class=\"sk-toggleable__content\"><pre>LogisticRegression(C=0.1, max_iter=1500, random_state=42, solver=&#x27;saga&#x27;,\n",
       "                   warm_start=True)</pre></div></div></div></div></div></div></div>"
      ],
      "text/plain": [
       "Pipeline(steps=[('ct',\n",
       "                 ColumnTransformer(transformers=[('numerical_cols',\n",
       "                                                  StandardScaler(),\n",
       "                                                  ['Latitude', 'Longitude',\n",
       "                                                   'reporting_delay_day_count',\n",
       "                                                   'Victim_Age']),\n",
       "                                                 ('categorical_cols',\n",
       "                                                  OneHotEncoder(handle_unknown='ignore'),\n",
       "                                                  ['day_category', 'Victim_Sex',\n",
       "                                                   'Victim_Descent', 'Part 1-2',\n",
       "                                                   'Area_ID', 'Status',\n",
       "                                                   'Weapon_Description']),\n",
       "                                                 ('multi_label_binarizer',\n",
       "                                                  MultiLabelBinarizerWrapper(),\n",
       "                                                  'Modus_Operandi')])),\n",
       "                ('logistic_reg',\n",
       "                 LogisticRegression(C=0.1, max_iter=1500, random_state=42,\n",
       "                                    solver='saga', warm_start=True))])"
      ]
     },
     "execution_count": 88,
     "metadata": {},
     "output_type": "execute_result"
    }
   ],
   "source": [
    "pipe_logistic.fit(xtrain,ytrain)"
   ]
  },
  {
   "cell_type": "code",
   "execution_count": 89,
   "id": "610856fa",
   "metadata": {
    "execution": {
     "iopub.execute_input": "2024-06-22T14:49:32.260181Z",
     "iopub.status.busy": "2024-06-22T14:49:32.259750Z",
     "iopub.status.idle": "2024-06-22T14:49:32.310787Z",
     "shell.execute_reply": "2024-06-22T14:49:32.309409Z"
    },
    "papermill": {
     "duration": 0.088411,
     "end_time": "2024-06-22T14:49:32.314319",
     "exception": false,
     "start_time": "2024-06-22T14:49:32.225908",
     "status": "completed"
    },
    "tags": []
   },
   "outputs": [
    {
     "data": {
      "text/plain": [
       "0.809"
      ]
     },
     "execution_count": 89,
     "metadata": {},
     "output_type": "execute_result"
    }
   ],
   "source": [
    "pipe_logistic.score(xtest,ytest)"
   ]
  },
  {
   "cell_type": "markdown",
   "id": "c25bc14c",
   "metadata": {
    "papermill": {
     "duration": 0.05049,
     "end_time": "2024-06-22T14:49:32.421838",
     "exception": false,
     "start_time": "2024-06-22T14:49:32.371348",
     "status": "completed"
    },
    "tags": []
   },
   "source": [
    "Test \n"
   ]
  },
  {
   "cell_type": "code",
   "execution_count": 90,
   "id": "c2a4ab75",
   "metadata": {
    "execution": {
     "iopub.execute_input": "2024-06-22T14:49:32.486964Z",
     "iopub.status.busy": "2024-06-22T14:49:32.486569Z",
     "iopub.status.idle": "2024-06-22T14:49:37.236194Z",
     "shell.execute_reply": "2024-06-22T14:49:37.235283Z"
    },
    "papermill": {
     "duration": 4.785,
     "end_time": "2024-06-22T14:49:37.238771",
     "exception": false,
     "start_time": "2024-06-22T14:49:32.453771",
     "status": "completed"
    },
    "tags": []
   },
   "outputs": [],
   "source": [
    "test=pd.read_csv('/kaggle/input/crime-cast-forecasting-crime-categories/test.csv')\n",
    "test['day_category']=test['Time_Occurred'].apply(day_category )\n",
    "\n",
    "\n",
    "test['Date_Reported']=test['Date_Reported'].apply(extract_date)\n",
    "test['Date_Occurred']=test['Date_Occurred'].apply(extract_date)\n",
    "\n",
    "\n",
    "\n",
    "\n",
    "\n",
    "\n",
    "test['Date_Reported']=pd.to_datetime(test['Date_Reported']).dt.date\n",
    "test['Date_Occurred']=pd.to_datetime(test['Date_Occurred']).dt.date\n",
    "\n",
    "test['reporting_delay_day_count']=(test['Date_Reported']-test['Date_Occurred'])\n",
    "\n",
    "\n",
    "\n",
    "\n",
    "\n",
    "\n",
    "def day_count(d):\n",
    "    return d.days\n",
    "test['reporting_delay_day_count']=test['reporting_delay_day_count'].apply(day_count)\n",
    "\n",
    "\n",
    "\n",
    "\n",
    "\n",
    "\n",
    "def victim_gender(val):\n",
    "    if val=='H' or pd.isna(val):\n",
    "        val='X'\n",
    "    return val\n",
    "\n",
    "\n",
    "test.loc[:,'Victim_Sex'] = test['Victim_Sex'].apply(victim_gender)\n",
    "\n",
    "\n",
    "\n",
    "\n",
    "\n",
    "unique_values_weapon_test=pd.DataFrame(test['Weapon_Description'])\n",
    "unique_values_weapon_test.value_counts(normalize=True)\n",
    "\n",
    "\n",
    "\n",
    "\n",
    "\n",
    "\n",
    "\n",
    "distribution_test = test['Weapon_Description'].dropna().value_counts(normalize=True)\n",
    "\n",
    "missing_test = test['Weapon_Description'].isnull().sum()\n",
    "\n",
    "imputed_values_test = np.random.choice(distribution_test.index, size=missing_test, p=distribution_test.values)\n",
    "\n",
    "# Impute the missing values\n",
    "test.loc[test['Weapon_Description'].isnull(), 'Weapon_Description'] = imputed_values_test\n",
    "\n"
   ]
  },
  {
   "cell_type": "code",
   "execution_count": 91,
   "id": "8c2737c8",
   "metadata": {
    "execution": {
     "iopub.execute_input": "2024-06-22T14:49:37.305743Z",
     "iopub.status.busy": "2024-06-22T14:49:37.305326Z",
     "iopub.status.idle": "2024-06-22T14:49:37.318740Z",
     "shell.execute_reply": "2024-06-22T14:49:37.317648Z"
    },
    "papermill": {
     "duration": 0.049175,
     "end_time": "2024-06-22T14:49:37.321037",
     "exception": false,
     "start_time": "2024-06-22T14:49:37.271862",
     "status": "completed"
    },
    "tags": []
   },
   "outputs": [
    {
     "data": {
      "text/plain": [
       "Location                        0\n",
       "Cross_Street                 4190\n",
       "Latitude                        0\n",
       "Longitude                       0\n",
       "Date_Reported                   0\n",
       "Date_Occurred                   0\n",
       "Time_Occurred                   0\n",
       "Area_ID                         0\n",
       "Area_Name                       0\n",
       "Reporting_District_no           0\n",
       "Part 1-2                        0\n",
       "Modus_Operandi                684\n",
       "Victim_Age                      0\n",
       "Victim_Sex                      0\n",
       "Victim_Descent                643\n",
       "Premise_Code                    0\n",
       "Premise_Description             1\n",
       "Weapon_Used_Code             3153\n",
       "Weapon_Description              0\n",
       "Status                          0\n",
       "Status_Description              0\n",
       "day_category                    0\n",
       "reporting_delay_day_count       0\n",
       "dtype: int64"
      ]
     },
     "execution_count": 91,
     "metadata": {},
     "output_type": "execute_result"
    }
   ],
   "source": [
    "test.isnull().sum()"
   ]
  },
  {
   "cell_type": "code",
   "execution_count": 92,
   "id": "0b157688",
   "metadata": {
    "execution": {
     "iopub.execute_input": "2024-06-22T14:49:37.392326Z",
     "iopub.status.busy": "2024-06-22T14:49:37.391909Z",
     "iopub.status.idle": "2024-06-22T14:49:37.402608Z",
     "shell.execute_reply": "2024-06-22T14:49:37.401597Z"
    },
    "papermill": {
     "duration": 0.047891,
     "end_time": "2024-06-22T14:49:37.404791",
     "exception": false,
     "start_time": "2024-06-22T14:49:37.356900",
     "status": "completed"
    },
    "tags": []
   },
   "outputs": [],
   "source": [
    "distribution_test = test['Victim_Descent'].dropna().value_counts(normalize=True)\n",
    "\n",
    "missing_test = test['Victim_Descent'].isnull().sum()\n",
    "\n",
    "imputed_values_test = np.random.choice(distribution_test.index, size=missing_test, p=distribution_test.values)\n",
    "\n",
    "# Impute the missing values\n",
    "test.loc[test['Victim_Descent'].isnull(), 'Victim_Descent'] = imputed_values_test"
   ]
  },
  {
   "cell_type": "code",
   "execution_count": 93,
   "id": "718e9829",
   "metadata": {
    "execution": {
     "iopub.execute_input": "2024-06-22T14:49:37.471983Z",
     "iopub.status.busy": "2024-06-22T14:49:37.471585Z",
     "iopub.status.idle": "2024-06-22T14:49:37.494736Z",
     "shell.execute_reply": "2024-06-22T14:49:37.493725Z"
    },
    "papermill": {
     "duration": 0.060043,
     "end_time": "2024-06-22T14:49:37.497340",
     "exception": false,
     "start_time": "2024-06-22T14:49:37.437297",
     "status": "completed"
    },
    "tags": []
   },
   "outputs": [],
   "source": [
    "test['Modus_Operandi']=test['Modus_Operandi'].apply(number_of_activities)\n",
    "test['Part 1-2']=test['Part 1-2'].apply(lambda x : int(x))\n",
    "test['Victim_Age']=test['Victim_Age'].apply(lambda x: int(x))"
   ]
  },
  {
   "cell_type": "code",
   "execution_count": 94,
   "id": "2afff980",
   "metadata": {
    "execution": {
     "iopub.execute_input": "2024-06-22T14:49:37.565103Z",
     "iopub.status.busy": "2024-06-22T14:49:37.564602Z",
     "iopub.status.idle": "2024-06-22T14:49:37.585228Z",
     "shell.execute_reply": "2024-06-22T14:49:37.584080Z"
    },
    "papermill": {
     "duration": 0.057842,
     "end_time": "2024-06-22T14:49:37.587887",
     "exception": false,
     "start_time": "2024-06-22T14:49:37.530045",
     "status": "completed"
    },
    "tags": []
   },
   "outputs": [],
   "source": [
    "test.loc[test['Weapon_Description'] == 'STRONG-ARM (HANDS, FIST, FEET OR BODILY FORCE)', 'Weapon_Description'] = 'Physical Force'\n",
    "\n",
    "\n",
    "\n",
    "test.loc[:,'Weapon_Description']=test['Weapon_Description'].apply(gun)"
   ]
  },
  {
   "cell_type": "code",
   "execution_count": 95,
   "id": "dbef74e5",
   "metadata": {
    "execution": {
     "iopub.execute_input": "2024-06-22T14:49:37.654438Z",
     "iopub.status.busy": "2024-06-22T14:49:37.653653Z",
     "iopub.status.idle": "2024-06-22T14:49:37.671557Z",
     "shell.execute_reply": "2024-06-22T14:49:37.670114Z"
    },
    "papermill": {
     "duration": 0.053967,
     "end_time": "2024-06-22T14:49:37.674082",
     "exception": false,
     "start_time": "2024-06-22T14:49:37.620115",
     "status": "completed"
    },
    "tags": []
   },
   "outputs": [
    {
     "name": "stdout",
     "output_type": "stream",
     "text": [
      "<class 'pandas.core.frame.DataFrame'>\n",
      "Index: 16000 entries, 6735 to 554\n",
      "Data columns (total 12 columns):\n",
      " #   Column                     Non-Null Count  Dtype  \n",
      "---  ------                     --------------  -----  \n",
      " 0   Latitude                   16000 non-null  float64\n",
      " 1   Longitude                  16000 non-null  float64\n",
      " 2   reporting_delay_day_count  16000 non-null  int64  \n",
      " 3   day_category               16000 non-null  object \n",
      " 4   Victim_Age                 16000 non-null  float64\n",
      " 5   Victim_Sex                 16000 non-null  object \n",
      " 6   Victim_Descent             16000 non-null  object \n",
      " 7   Weapon_Description         16000 non-null  object \n",
      " 8   Area_ID                    16000 non-null  float64\n",
      " 9   Modus_Operandi             16000 non-null  object \n",
      " 10  Part 1-2                   16000 non-null  float64\n",
      " 11  Status                     16000 non-null  object \n",
      "dtypes: float64(5), int64(1), object(6)\n",
      "memory usage: 1.6+ MB\n"
     ]
    }
   ],
   "source": [
    "xtrain.info()"
   ]
  },
  {
   "cell_type": "code",
   "execution_count": 96,
   "id": "e3d4dd54",
   "metadata": {
    "execution": {
     "iopub.execute_input": "2024-06-22T14:49:37.740667Z",
     "iopub.status.busy": "2024-06-22T14:49:37.739748Z",
     "iopub.status.idle": "2024-06-22T14:49:37.747898Z",
     "shell.execute_reply": "2024-06-22T14:49:37.746868Z"
    },
    "papermill": {
     "duration": 0.044037,
     "end_time": "2024-06-22T14:49:37.750571",
     "exception": false,
     "start_time": "2024-06-22T14:49:37.706534",
     "status": "completed"
    },
    "tags": []
   },
   "outputs": [],
   "source": [
    "test=test[['Latitude','Longitude','reporting_delay_day_count','day_category','Area_ID','Victim_Age','Victim_Sex','Modus_Operandi','Victim_Descent','Part 1-2','Weapon_Description','Status']]"
   ]
  },
  {
   "cell_type": "code",
   "execution_count": 97,
   "id": "5b05a7e6",
   "metadata": {
    "execution": {
     "iopub.execute_input": "2024-06-22T14:49:37.817316Z",
     "iopub.status.busy": "2024-06-22T14:49:37.816903Z",
     "iopub.status.idle": "2024-06-22T14:49:37.832337Z",
     "shell.execute_reply": "2024-06-22T14:49:37.830803Z"
    },
    "papermill": {
     "duration": 0.051818,
     "end_time": "2024-06-22T14:49:37.835008",
     "exception": false,
     "start_time": "2024-06-22T14:49:37.783190",
     "status": "completed"
    },
    "tags": []
   },
   "outputs": [
    {
     "name": "stdout",
     "output_type": "stream",
     "text": [
      "<class 'pandas.core.frame.DataFrame'>\n",
      "RangeIndex: 5000 entries, 0 to 4999\n",
      "Data columns (total 12 columns):\n",
      " #   Column                     Non-Null Count  Dtype  \n",
      "---  ------                     --------------  -----  \n",
      " 0   Latitude                   5000 non-null   float64\n",
      " 1   Longitude                  5000 non-null   float64\n",
      " 2   reporting_delay_day_count  5000 non-null   int64  \n",
      " 3   day_category               5000 non-null   object \n",
      " 4   Area_ID                    5000 non-null   float64\n",
      " 5   Victim_Age                 5000 non-null   int64  \n",
      " 6   Victim_Sex                 5000 non-null   object \n",
      " 7   Modus_Operandi             5000 non-null   object \n",
      " 8   Victim_Descent             5000 non-null   object \n",
      " 9   Part 1-2                   5000 non-null   int64  \n",
      " 10  Weapon_Description         5000 non-null   object \n",
      " 11  Status                     5000 non-null   object \n",
      "dtypes: float64(3), int64(3), object(6)\n",
      "memory usage: 468.9+ KB\n"
     ]
    }
   ],
   "source": [
    "test.info()"
   ]
  },
  {
   "cell_type": "code",
   "execution_count": 98,
   "id": "9fad7a0f",
   "metadata": {
    "execution": {
     "iopub.execute_input": "2024-06-22T14:49:37.902277Z",
     "iopub.status.busy": "2024-06-22T14:49:37.901251Z",
     "iopub.status.idle": "2024-06-22T14:49:37.920380Z",
     "shell.execute_reply": "2024-06-22T14:49:37.919190Z"
    },
    "papermill": {
     "duration": 0.054677,
     "end_time": "2024-06-22T14:49:37.922552",
     "exception": false,
     "start_time": "2024-06-22T14:49:37.867875",
     "status": "completed"
    },
    "tags": []
   },
   "outputs": [
    {
     "data": {
      "text/html": [
       "<div>\n",
       "<style scoped>\n",
       "    .dataframe tbody tr th:only-of-type {\n",
       "        vertical-align: middle;\n",
       "    }\n",
       "\n",
       "    .dataframe tbody tr th {\n",
       "        vertical-align: top;\n",
       "    }\n",
       "\n",
       "    .dataframe thead th {\n",
       "        text-align: right;\n",
       "    }\n",
       "</style>\n",
       "<table border=\"1\" class=\"dataframe\">\n",
       "  <thead>\n",
       "    <tr style=\"text-align: right;\">\n",
       "      <th></th>\n",
       "      <th>Latitude</th>\n",
       "      <th>Longitude</th>\n",
       "      <th>reporting_delay_day_count</th>\n",
       "      <th>day_category</th>\n",
       "      <th>Area_ID</th>\n",
       "      <th>Victim_Age</th>\n",
       "      <th>Victim_Sex</th>\n",
       "      <th>Modus_Operandi</th>\n",
       "      <th>Victim_Descent</th>\n",
       "      <th>Part 1-2</th>\n",
       "      <th>Weapon_Description</th>\n",
       "      <th>Status</th>\n",
       "    </tr>\n",
       "  </thead>\n",
       "  <tbody>\n",
       "    <tr>\n",
       "      <th>0</th>\n",
       "      <td>34.0128</td>\n",
       "      <td>-118.3045</td>\n",
       "      <td>0</td>\n",
       "      <td>Evening</td>\n",
       "      <td>3.0</td>\n",
       "      <td>28</td>\n",
       "      <td>F</td>\n",
       "      <td>2000 1821 1243 1241 1813 0416</td>\n",
       "      <td>H</td>\n",
       "      <td>2</td>\n",
       "      <td>Physical Force</td>\n",
       "      <td>IC</td>\n",
       "    </tr>\n",
       "    <tr>\n",
       "      <th>1</th>\n",
       "      <td>34.0726</td>\n",
       "      <td>-118.3029</td>\n",
       "      <td>37</td>\n",
       "      <td>Night</td>\n",
       "      <td>20.0</td>\n",
       "      <td>26</td>\n",
       "      <td>M</td>\n",
       "      <td>0394 0344</td>\n",
       "      <td>B</td>\n",
       "      <td>1</td>\n",
       "      <td>sharp_heavy_object</td>\n",
       "      <td>IC</td>\n",
       "    </tr>\n",
       "    <tr>\n",
       "      <th>2</th>\n",
       "      <td>33.9348</td>\n",
       "      <td>-118.2695</td>\n",
       "      <td>1</td>\n",
       "      <td>Morning</td>\n",
       "      <td>18.0</td>\n",
       "      <td>62</td>\n",
       "      <td>F</td>\n",
       "      <td>1202 1822 0355 0701 1914 0100</td>\n",
       "      <td>B</td>\n",
       "      <td>2</td>\n",
       "      <td>other_weapon</td>\n",
       "      <td>IC</td>\n",
       "    </tr>\n",
       "    <tr>\n",
       "      <th>3</th>\n",
       "      <td>34.0497</td>\n",
       "      <td>-118.3442</td>\n",
       "      <td>20</td>\n",
       "      <td>Night</td>\n",
       "      <td>7.0</td>\n",
       "      <td>0</td>\n",
       "      <td>X</td>\n",
       "      <td></td>\n",
       "      <td>X</td>\n",
       "      <td>1</td>\n",
       "      <td>Physical Force</td>\n",
       "      <td>IC</td>\n",
       "    </tr>\n",
       "    <tr>\n",
       "      <th>4</th>\n",
       "      <td>34.1611</td>\n",
       "      <td>-118.3704</td>\n",
       "      <td>1</td>\n",
       "      <td>Night</td>\n",
       "      <td>15.0</td>\n",
       "      <td>37</td>\n",
       "      <td>F</td>\n",
       "      <td>1501</td>\n",
       "      <td>W</td>\n",
       "      <td>2</td>\n",
       "      <td>Physical Force</td>\n",
       "      <td>AO</td>\n",
       "    </tr>\n",
       "    <tr>\n",
       "      <th>...</th>\n",
       "      <td>...</td>\n",
       "      <td>...</td>\n",
       "      <td>...</td>\n",
       "      <td>...</td>\n",
       "      <td>...</td>\n",
       "      <td>...</td>\n",
       "      <td>...</td>\n",
       "      <td>...</td>\n",
       "      <td>...</td>\n",
       "      <td>...</td>\n",
       "      <td>...</td>\n",
       "      <td>...</td>\n",
       "    </tr>\n",
       "    <tr>\n",
       "      <th>4995</th>\n",
       "      <td>34.0409</td>\n",
       "      <td>-118.3408</td>\n",
       "      <td>1</td>\n",
       "      <td>Night</td>\n",
       "      <td>7.0</td>\n",
       "      <td>0</td>\n",
       "      <td>X</td>\n",
       "      <td></td>\n",
       "      <td>B</td>\n",
       "      <td>1</td>\n",
       "      <td>fire</td>\n",
       "      <td>IC</td>\n",
       "    </tr>\n",
       "    <tr>\n",
       "      <th>4996</th>\n",
       "      <td>34.0347</td>\n",
       "      <td>-118.2253</td>\n",
       "      <td>7</td>\n",
       "      <td>Daytime</td>\n",
       "      <td>4.0</td>\n",
       "      <td>0</td>\n",
       "      <td>X</td>\n",
       "      <td>0325 1300</td>\n",
       "      <td>X</td>\n",
       "      <td>1</td>\n",
       "      <td>other_weapon</td>\n",
       "      <td>IC</td>\n",
       "    </tr>\n",
       "    <tr>\n",
       "      <th>4997</th>\n",
       "      <td>34.2392</td>\n",
       "      <td>-118.4698</td>\n",
       "      <td>0</td>\n",
       "      <td>Night</td>\n",
       "      <td>19.0</td>\n",
       "      <td>38</td>\n",
       "      <td>M</td>\n",
       "      <td>0913 0416 1817</td>\n",
       "      <td>H</td>\n",
       "      <td>2</td>\n",
       "      <td>Physical Force</td>\n",
       "      <td>AA</td>\n",
       "    </tr>\n",
       "    <tr>\n",
       "      <th>4998</th>\n",
       "      <td>34.0453</td>\n",
       "      <td>-118.2443</td>\n",
       "      <td>1</td>\n",
       "      <td>Night</td>\n",
       "      <td>1.0</td>\n",
       "      <td>41</td>\n",
       "      <td>M</td>\n",
       "      <td>0416</td>\n",
       "      <td>B</td>\n",
       "      <td>2</td>\n",
       "      <td>sharp_heavy_object</td>\n",
       "      <td>AO</td>\n",
       "    </tr>\n",
       "    <tr>\n",
       "      <th>4999</th>\n",
       "      <td>33.9438</td>\n",
       "      <td>-118.2695</td>\n",
       "      <td>0</td>\n",
       "      <td>Night</td>\n",
       "      <td>18.0</td>\n",
       "      <td>49</td>\n",
       "      <td>M</td>\n",
       "      <td>0329 1822</td>\n",
       "      <td>B</td>\n",
       "      <td>2</td>\n",
       "      <td>other_weapon</td>\n",
       "      <td>IC</td>\n",
       "    </tr>\n",
       "  </tbody>\n",
       "</table>\n",
       "<p>5000 rows × 12 columns</p>\n",
       "</div>"
      ],
      "text/plain": [
       "      Latitude  Longitude  reporting_delay_day_count day_category  Area_ID  \\\n",
       "0      34.0128  -118.3045                          0      Evening      3.0   \n",
       "1      34.0726  -118.3029                         37        Night     20.0   \n",
       "2      33.9348  -118.2695                          1      Morning     18.0   \n",
       "3      34.0497  -118.3442                         20        Night      7.0   \n",
       "4      34.1611  -118.3704                          1        Night     15.0   \n",
       "...        ...        ...                        ...          ...      ...   \n",
       "4995   34.0409  -118.3408                          1        Night      7.0   \n",
       "4996   34.0347  -118.2253                          7      Daytime      4.0   \n",
       "4997   34.2392  -118.4698                          0        Night     19.0   \n",
       "4998   34.0453  -118.2443                          1        Night      1.0   \n",
       "4999   33.9438  -118.2695                          0        Night     18.0   \n",
       "\n",
       "      Victim_Age Victim_Sex                 Modus_Operandi Victim_Descent  \\\n",
       "0             28          F  2000 1821 1243 1241 1813 0416              H   \n",
       "1             26          M                      0394 0344              B   \n",
       "2             62          F  1202 1822 0355 0701 1914 0100              B   \n",
       "3              0          X                                             X   \n",
       "4             37          F                           1501              W   \n",
       "...          ...        ...                            ...            ...   \n",
       "4995           0          X                                             B   \n",
       "4996           0          X                      0325 1300              X   \n",
       "4997          38          M                 0913 0416 1817              H   \n",
       "4998          41          M                           0416              B   \n",
       "4999          49          M                      0329 1822              B   \n",
       "\n",
       "      Part 1-2  Weapon_Description Status  \n",
       "0            2      Physical Force     IC  \n",
       "1            1  sharp_heavy_object     IC  \n",
       "2            2        other_weapon     IC  \n",
       "3            1      Physical Force     IC  \n",
       "4            2      Physical Force     AO  \n",
       "...        ...                 ...    ...  \n",
       "4995         1                fire     IC  \n",
       "4996         1        other_weapon     IC  \n",
       "4997         2      Physical Force     AA  \n",
       "4998         2  sharp_heavy_object     AO  \n",
       "4999         2        other_weapon     IC  \n",
       "\n",
       "[5000 rows x 12 columns]"
      ]
     },
     "execution_count": 98,
     "metadata": {},
     "output_type": "execute_result"
    }
   ],
   "source": [
    "test"
   ]
  },
  {
   "cell_type": "code",
   "execution_count": 99,
   "id": "dcf66e86",
   "metadata": {
    "execution": {
     "iopub.execute_input": "2024-06-22T14:49:37.990853Z",
     "iopub.status.busy": "2024-06-22T14:49:37.990454Z",
     "iopub.status.idle": "2024-06-22T14:49:37.997332Z",
     "shell.execute_reply": "2024-06-22T14:49:37.996187Z"
    },
    "papermill": {
     "duration": 0.044642,
     "end_time": "2024-06-22T14:49:37.999698",
     "exception": false,
     "start_time": "2024-06-22T14:49:37.955056",
     "status": "completed"
    },
    "tags": []
   },
   "outputs": [
    {
     "data": {
      "text/plain": [
       "(5000, 12)"
      ]
     },
     "execution_count": 99,
     "metadata": {},
     "output_type": "execute_result"
    }
   ],
   "source": [
    "test.shape"
   ]
  },
  {
   "cell_type": "code",
   "execution_count": 100,
   "id": "958f3780",
   "metadata": {
    "execution": {
     "iopub.execute_input": "2024-06-22T14:49:38.067487Z",
     "iopub.status.busy": "2024-06-22T14:49:38.067085Z",
     "iopub.status.idle": "2024-06-22T14:49:38.086840Z",
     "shell.execute_reply": "2024-06-22T14:49:38.085516Z"
    },
    "papermill": {
     "duration": 0.056658,
     "end_time": "2024-06-22T14:49:38.089300",
     "exception": false,
     "start_time": "2024-06-22T14:49:38.032642",
     "status": "completed"
    },
    "tags": []
   },
   "outputs": [
    {
     "data": {
      "text/html": [
       "<div>\n",
       "<style scoped>\n",
       "    .dataframe tbody tr th:only-of-type {\n",
       "        vertical-align: middle;\n",
       "    }\n",
       "\n",
       "    .dataframe tbody tr th {\n",
       "        vertical-align: top;\n",
       "    }\n",
       "\n",
       "    .dataframe thead th {\n",
       "        text-align: right;\n",
       "    }\n",
       "</style>\n",
       "<table border=\"1\" class=\"dataframe\">\n",
       "  <thead>\n",
       "    <tr style=\"text-align: right;\">\n",
       "      <th></th>\n",
       "      <th>ID</th>\n",
       "      <th>Crime_Category</th>\n",
       "      <th>Unnamed: 2</th>\n",
       "    </tr>\n",
       "  </thead>\n",
       "  <tbody>\n",
       "    <tr>\n",
       "      <th>0</th>\n",
       "      <td>1</td>\n",
       "      <td>Crimes against Persons</td>\n",
       "      <td>NaN</td>\n",
       "    </tr>\n",
       "    <tr>\n",
       "      <th>1</th>\n",
       "      <td>2</td>\n",
       "      <td>Crimes against Public Order</td>\n",
       "      <td>NaN</td>\n",
       "    </tr>\n",
       "    <tr>\n",
       "      <th>2</th>\n",
       "      <td>3</td>\n",
       "      <td>Other Crimes</td>\n",
       "      <td>NaN</td>\n",
       "    </tr>\n",
       "    <tr>\n",
       "      <th>3</th>\n",
       "      <td>4</td>\n",
       "      <td>Crimes against Public Order</td>\n",
       "      <td>NaN</td>\n",
       "    </tr>\n",
       "    <tr>\n",
       "      <th>4</th>\n",
       "      <td>5</td>\n",
       "      <td>Other Crimes</td>\n",
       "      <td>NaN</td>\n",
       "    </tr>\n",
       "    <tr>\n",
       "      <th>...</th>\n",
       "      <td>...</td>\n",
       "      <td>...</td>\n",
       "      <td>...</td>\n",
       "    </tr>\n",
       "    <tr>\n",
       "      <th>995</th>\n",
       "      <td>996</td>\n",
       "      <td>Fraud and White-Collar Crimes</td>\n",
       "      <td>NaN</td>\n",
       "    </tr>\n",
       "    <tr>\n",
       "      <th>996</th>\n",
       "      <td>997</td>\n",
       "      <td>Property Crimes</td>\n",
       "      <td>NaN</td>\n",
       "    </tr>\n",
       "    <tr>\n",
       "      <th>997</th>\n",
       "      <td>998</td>\n",
       "      <td>Violent Crimes</td>\n",
       "      <td>NaN</td>\n",
       "    </tr>\n",
       "    <tr>\n",
       "      <th>998</th>\n",
       "      <td>999</td>\n",
       "      <td>Property Crimes</td>\n",
       "      <td>NaN</td>\n",
       "    </tr>\n",
       "    <tr>\n",
       "      <th>999</th>\n",
       "      <td>1000</td>\n",
       "      <td>Violent Crimes</td>\n",
       "      <td>NaN</td>\n",
       "    </tr>\n",
       "  </tbody>\n",
       "</table>\n",
       "<p>1000 rows × 3 columns</p>\n",
       "</div>"
      ],
      "text/plain": [
       "       ID                Crime_Category   Unnamed: 2\n",
       "0       1         Crimes against Persons         NaN\n",
       "1       2    Crimes against Public Order         NaN\n",
       "2       3                   Other Crimes         NaN\n",
       "3       4    Crimes against Public Order         NaN\n",
       "4       5                   Other Crimes         NaN\n",
       "..    ...                            ...         ...\n",
       "995   996  Fraud and White-Collar Crimes         NaN\n",
       "996   997                Property Crimes         NaN\n",
       "997   998                 Violent Crimes         NaN\n",
       "998   999                Property Crimes         NaN\n",
       "999  1000                 Violent Crimes         NaN\n",
       "\n",
       "[1000 rows x 3 columns]"
      ]
     },
     "execution_count": 100,
     "metadata": {},
     "output_type": "execute_result"
    }
   ],
   "source": [
    "sample=pd.read_csv('/kaggle/input/crime-cast-forecasting-crime-categories/sample.csv')\n",
    "sample"
   ]
  },
  {
   "cell_type": "code",
   "execution_count": 101,
   "id": "ec5f594d",
   "metadata": {
    "execution": {
     "iopub.execute_input": "2024-06-22T14:49:38.162164Z",
     "iopub.status.busy": "2024-06-22T14:49:38.161686Z",
     "iopub.status.idle": "2024-06-22T14:49:38.172516Z",
     "shell.execute_reply": "2024-06-22T14:49:38.171299Z"
    },
    "papermill": {
     "duration": 0.047622,
     "end_time": "2024-06-22T14:49:38.174747",
     "exception": false,
     "start_time": "2024-06-22T14:49:38.127125",
     "status": "completed"
    },
    "tags": []
   },
   "outputs": [
    {
     "data": {
      "text/plain": [
       "Latitude                     0\n",
       "Longitude                    0\n",
       "reporting_delay_day_count    0\n",
       "day_category                 0\n",
       "Area_ID                      0\n",
       "Victim_Age                   0\n",
       "Victim_Sex                   0\n",
       "Modus_Operandi               0\n",
       "Victim_Descent               0\n",
       "Part 1-2                     0\n",
       "Weapon_Description           0\n",
       "Status                       0\n",
       "dtype: int64"
      ]
     },
     "execution_count": 101,
     "metadata": {},
     "output_type": "execute_result"
    }
   ],
   "source": [
    "test.isnull().sum()"
   ]
  },
  {
   "cell_type": "code",
   "execution_count": 102,
   "id": "e8962145",
   "metadata": {
    "execution": {
     "iopub.execute_input": "2024-06-22T14:49:38.245180Z",
     "iopub.status.busy": "2024-06-22T14:49:38.244262Z",
     "iopub.status.idle": "2024-06-22T14:49:38.310762Z",
     "shell.execute_reply": "2024-06-22T14:49:38.308819Z"
    },
    "papermill": {
     "duration": 0.105381,
     "end_time": "2024-06-22T14:49:38.314628",
     "exception": false,
     "start_time": "2024-06-22T14:49:38.209247",
     "status": "completed"
    },
    "tags": []
   },
   "outputs": [],
   "source": [
    "y_pred=pipe_logistic.predict(test)\n",
    "submission=pd.DataFrame({'ID': np.arange(1,5000+1), 'Crime_Category': y_pred})\n",
    "\n",
    "submission.to_csv('submission.csv',index=False)"
   ]
  }
 ],
 "metadata": {
  "kaggle": {
   "accelerator": "none",
   "dataSources": [
    {
     "databundleVersionId": 8446444,
     "sourceId": 77420,
     "sourceType": "competition"
    }
   ],
   "dockerImageVersionId": 30715,
   "isGpuEnabled": false,
   "isInternetEnabled": false,
   "language": "python",
   "sourceType": "notebook"
  },
  "kernelspec": {
   "display_name": "Python 3",
   "language": "python",
   "name": "python3"
  },
  "language_info": {
   "codemirror_mode": {
    "name": "ipython",
    "version": 3
   },
   "file_extension": ".py",
   "mimetype": "text/x-python",
   "name": "python",
   "nbconvert_exporter": "python",
   "pygments_lexer": "ipython3",
   "version": "3.10.13"
  },
  "papermill": {
   "default_parameters": {},
   "duration": 58.050452,
   "end_time": "2024-06-22T14:49:39.002486",
   "environment_variables": {},
   "exception": null,
   "input_path": "__notebook__.ipynb",
   "output_path": "__notebook__.ipynb",
   "parameters": {},
   "start_time": "2024-06-22T14:48:40.952034",
   "version": "2.5.0"
  }
 },
 "nbformat": 4,
 "nbformat_minor": 5
}
