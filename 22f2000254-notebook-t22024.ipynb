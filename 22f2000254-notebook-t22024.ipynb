{
 "cells": [
  {
   "cell_type": "code",
   "execution_count": 1,
   "id": "5bb1466c",
   "metadata": {
    "_cell_guid": "b1076dfc-b9ad-4769-8c92-a6c4dae69d19",
    "_uuid": "8f2839f25d086af736a60e9eeb907d3b93b6e0e5",
    "execution": {
     "iopub.execute_input": "2024-07-14T06:08:40.150014Z",
     "iopub.status.busy": "2024-07-14T06:08:40.149515Z",
     "iopub.status.idle": "2024-07-14T06:08:41.129201Z",
     "shell.execute_reply": "2024-07-14T06:08:41.127477Z"
    },
    "papermill": {
     "duration": 1.032809,
     "end_time": "2024-07-14T06:08:41.132681",
     "exception": false,
     "start_time": "2024-07-14T06:08:40.099872",
     "status": "completed"
    },
    "tags": []
   },
   "outputs": [
    {
     "name": "stdout",
     "output_type": "stream",
     "text": [
      "/kaggle/input/crime-cast-forecasting-crime-categories/sample.csv\n",
      "/kaggle/input/crime-cast-forecasting-crime-categories/train.csv\n",
      "/kaggle/input/crime-cast-forecasting-crime-categories/test.csv\n"
     ]
    }
   ],
   "source": [
    "# This Python 3 environment comes with many helpful analytics libraries installed\n",
    "# It is defined by the kaggle/python Docker image: https://github.com/kaggle/docker-python\n",
    "# For example, here's several helpful packages to load\n",
    "\n",
    "import numpy as np # linear algebra\n",
    "import pandas as pd # data processing, CSV file I/O (e.g. pd.read_csv)\n",
    "\n",
    "# Input data files are available in the read-only \"../input/\" directory\n",
    "# For example, running this (by clicking run or pressing Shift+Enter), will list all files under the input directory\n",
    "\n",
    "import os\n",
    "\n",
    "\n",
    "for dirname, _, filenames in os.walk('/kaggle/input'):\n",
    "    for filename in filenames:\n",
    "        print(os.path.join(dirname, filename))\n",
    "\n",
    "# You can write up to 20GB to the current directory (/kaggle/working/) that gets preserved as output when you create a version using \"Save & Run All\" \n",
    "# You can also write temporary files to /kaggle/temp/, but they won't be saved outside of the current session"
   ]
  },
  {
   "cell_type": "code",
   "execution_count": 2,
   "id": "55196f52",
   "metadata": {
    "execution": {
     "iopub.execute_input": "2024-07-14T06:08:41.227274Z",
     "iopub.status.busy": "2024-07-14T06:08:41.226755Z",
     "iopub.status.idle": "2024-07-14T06:08:43.024601Z",
     "shell.execute_reply": "2024-07-14T06:08:43.023391Z"
    },
    "papermill": {
     "duration": 1.849307,
     "end_time": "2024-07-14T06:08:43.027597",
     "exception": false,
     "start_time": "2024-07-14T06:08:41.178290",
     "status": "completed"
    },
    "tags": []
   },
   "outputs": [],
   "source": [
    "import matplotlib.pyplot as plt\n",
    "import seaborn as sns \n",
    "\n",
    "\n",
    "import datetime\n",
    "\n",
    "\n",
    "from sklearn.model_selection import train_test_split \n",
    "\n",
    "\n",
    "from sklearn.metrics import classification_report , ConfusionMatrixDisplay"
   ]
  },
  {
   "cell_type": "code",
   "execution_count": 3,
   "id": "ca520415",
   "metadata": {
    "execution": {
     "iopub.execute_input": "2024-07-14T06:08:43.123115Z",
     "iopub.status.busy": "2024-07-14T06:08:43.122167Z",
     "iopub.status.idle": "2024-07-14T06:08:43.480094Z",
     "shell.execute_reply": "2024-07-14T06:08:43.478846Z"
    },
    "papermill": {
     "duration": 0.408566,
     "end_time": "2024-07-14T06:08:43.483015",
     "exception": false,
     "start_time": "2024-07-14T06:08:43.074449",
     "status": "completed"
    },
    "tags": []
   },
   "outputs": [],
   "source": [
    "train =pd.read_csv('/kaggle/input/crime-cast-forecasting-crime-categories/train.csv')\n",
    "train2 =pd.read_csv('/kaggle/input/crime-cast-forecasting-crime-categories/train.csv')\n",
    "\n",
    "test_final=pd.read_csv('/kaggle/input/crime-cast-forecasting-crime-categories/test.csv')\n"
   ]
  },
  {
   "cell_type": "markdown",
   "id": "2f96aac5",
   "metadata": {
    "papermill": {
     "duration": 0.044191,
     "end_time": "2024-07-14T06:08:43.574262",
     "exception": false,
     "start_time": "2024-07-14T06:08:43.530071",
     "status": "completed"
    },
    "tags": []
   },
   "source": [
    "* Latitude range: [0:34] ( General range is -90 to 90 )\n",
    "* Longitude range: [-118: 0] (General range is 180 to 180)\n",
    "\n"
   ]
  },
  {
   "cell_type": "code",
   "execution_count": 4,
   "id": "76a3f259",
   "metadata": {
    "execution": {
     "iopub.execute_input": "2024-07-14T06:08:43.668489Z",
     "iopub.status.busy": "2024-07-14T06:08:43.668057Z",
     "iopub.status.idle": "2024-07-14T06:08:43.712798Z",
     "shell.execute_reply": "2024-07-14T06:08:43.711554Z"
    },
    "papermill": {
     "duration": 0.095989,
     "end_time": "2024-07-14T06:08:43.716197",
     "exception": false,
     "start_time": "2024-07-14T06:08:43.620208",
     "status": "completed"
    },
    "tags": []
   },
   "outputs": [
    {
     "data": {
      "text/plain": [
       "Location                     0\n",
       "Cross_Street             16552\n",
       "Latitude                     0\n",
       "Longitude                    0\n",
       "Date_Reported                0\n",
       "Date_Occurred                0\n",
       "Time_Occurred                0\n",
       "Area_ID                      0\n",
       "Area_Name                    0\n",
       "Reporting_District_no        0\n",
       "Part 1-2                     0\n",
       "Modus_Operandi            2741\n",
       "Victim_Age                   0\n",
       "Victim_Sex                2624\n",
       "Victim_Descent            2624\n",
       "Premise_Code                 0\n",
       "Premise_Description          5\n",
       "Weapon_Used_Code         12665\n",
       "Weapon_Description       12665\n",
       "Status                       0\n",
       "Status_Description           0\n",
       "Crime_Category               0\n",
       "dtype: int64"
      ]
     },
     "execution_count": 4,
     "metadata": {},
     "output_type": "execute_result"
    }
   ],
   "source": [
    "train.isnull().sum()"
   ]
  },
  {
   "cell_type": "code",
   "execution_count": 5,
   "id": "fb6985fa",
   "metadata": {
    "execution": {
     "iopub.execute_input": "2024-07-14T06:08:43.808974Z",
     "iopub.status.busy": "2024-07-14T06:08:43.808024Z",
     "iopub.status.idle": "2024-07-14T06:08:43.813109Z",
     "shell.execute_reply": "2024-07-14T06:08:43.812093Z"
    },
    "papermill": {
     "duration": 0.053753,
     "end_time": "2024-07-14T06:08:43.815557",
     "exception": false,
     "start_time": "2024-07-14T06:08:43.761804",
     "status": "completed"
    },
    "tags": []
   },
   "outputs": [],
   "source": [
    "# train=train[['Latitude','Longitude','Victim_Age','','Area_ID','']]"
   ]
  },
  {
   "cell_type": "code",
   "execution_count": 6,
   "id": "e247d803",
   "metadata": {
    "execution": {
     "iopub.execute_input": "2024-07-14T06:08:43.970963Z",
     "iopub.status.busy": "2024-07-14T06:08:43.970582Z",
     "iopub.status.idle": "2024-07-14T06:08:44.024946Z",
     "shell.execute_reply": "2024-07-14T06:08:44.023483Z"
    },
    "papermill": {
     "duration": 0.165555,
     "end_time": "2024-07-14T06:08:44.027587",
     "exception": false,
     "start_time": "2024-07-14T06:08:43.862032",
     "status": "completed"
    },
    "tags": []
   },
   "outputs": [
    {
     "name": "stdout",
     "output_type": "stream",
     "text": [
      "<class 'pandas.core.frame.DataFrame'>\n",
      "RangeIndex: 20000 entries, 0 to 19999\n",
      "Data columns (total 22 columns):\n",
      " #   Column                 Non-Null Count  Dtype  \n",
      "---  ------                 --------------  -----  \n",
      " 0   Location               20000 non-null  object \n",
      " 1   Cross_Street           3448 non-null   object \n",
      " 2   Latitude               20000 non-null  float64\n",
      " 3   Longitude              20000 non-null  float64\n",
      " 4   Date_Reported          20000 non-null  object \n",
      " 5   Date_Occurred          20000 non-null  object \n",
      " 6   Time_Occurred          20000 non-null  float64\n",
      " 7   Area_ID                20000 non-null  float64\n",
      " 8   Area_Name              20000 non-null  object \n",
      " 9   Reporting_District_no  20000 non-null  float64\n",
      " 10  Part 1-2               20000 non-null  float64\n",
      " 11  Modus_Operandi         17259 non-null  object \n",
      " 12  Victim_Age             20000 non-null  float64\n",
      " 13  Victim_Sex             17376 non-null  object \n",
      " 14  Victim_Descent         17376 non-null  object \n",
      " 15  Premise_Code           20000 non-null  float64\n",
      " 16  Premise_Description    19995 non-null  object \n",
      " 17  Weapon_Used_Code       7335 non-null   float64\n",
      " 18  Weapon_Description     7335 non-null   object \n",
      " 19  Status                 20000 non-null  object \n",
      " 20  Status_Description     20000 non-null  object \n",
      " 21  Crime_Category         20000 non-null  object \n",
      "dtypes: float64(9), object(13)\n",
      "memory usage: 3.4+ MB\n"
     ]
    }
   ],
   "source": [
    "train.info()"
   ]
  },
  {
   "cell_type": "markdown",
   "id": "ea178913",
   "metadata": {
    "papermill": {
     "duration": 0.045326,
     "end_time": "2024-07-14T06:08:44.119268",
     "exception": false,
     "start_time": "2024-07-14T06:08:44.073942",
     "status": "completed"
    },
    "tags": []
   },
   "source": [
    "# **Categorical Columns **"
   ]
  },
  {
   "cell_type": "markdown",
   "id": "81384abf",
   "metadata": {
    "papermill": {
     "duration": 0.047152,
     "end_time": "2024-07-14T06:08:44.213866",
     "exception": false,
     "start_time": "2024-07-14T06:08:44.166714",
     "status": "completed"
    },
    "tags": []
   },
   "source": [
    "# Location"
   ]
  },
  {
   "cell_type": "code",
   "execution_count": 7,
   "id": "d67c0297",
   "metadata": {
    "execution": {
     "iopub.execute_input": "2024-07-14T06:08:44.307138Z",
     "iopub.status.busy": "2024-07-14T06:08:44.306721Z",
     "iopub.status.idle": "2024-07-14T06:08:44.351358Z",
     "shell.execute_reply": "2024-07-14T06:08:44.349837Z"
    },
    "papermill": {
     "duration": 0.095086,
     "end_time": "2024-07-14T06:08:44.354137",
     "exception": false,
     "start_time": "2024-07-14T06:08:44.259051",
     "status": "completed"
    },
    "tags": []
   },
   "outputs": [
    {
     "name": "stdout",
     "output_type": "stream",
     "text": [
      "['4500    CARPENTER                    AV'\n",
      " '45TH                         ST'\n",
      " '600 E  MARTIN LUTHER KING JR        BL' ...\n",
      " '15800    STRATHERN                    ST'\n",
      " '5100 W  ADAMS                        BL'\n",
      " 'DALTON                       AV']\n",
      "--------------------------------\n",
      "Number of unqiue location :  12399\n",
      "--------------------------------\n",
      "['4500 CARPENTER AV' '45TH ST' '600 E MARTIN LUTHER KING JR BL' ...\n",
      " '15800 STRATHERN ST' '5100 W ADAMS BL' 'DALTON AV']\n",
      "Number of unqiue location :  12396\n"
     ]
    }
   ],
   "source": [
    "print(train['Location'].unique())\n",
    "\n",
    "\n",
    "print('--------------------------------')\n",
    "\n",
    "print('Number of unqiue location : '  , len(train['Location'].unique()))\n",
    "\n",
    "\n",
    "print('--------------------------------')\n",
    "\n",
    "\n",
    "train.loc[: , 'Location']=train['Location'].apply( lambda x : ' '.join(x.split()))\n",
    "\n",
    "print(train['Location'].unique())\n",
    "\n",
    "\n",
    "\n",
    "print('Number of unqiue location : '  , len(train['Location'].unique()))\n",
    "\n",
    "# print('Removed space' , len(train['Location'].unique()) )\n"
   ]
  },
  {
   "cell_type": "code",
   "execution_count": 8,
   "id": "a7e2f92a",
   "metadata": {
    "execution": {
     "iopub.execute_input": "2024-07-14T06:08:44.448488Z",
     "iopub.status.busy": "2024-07-14T06:08:44.448045Z",
     "iopub.status.idle": "2024-07-14T06:08:45.261180Z",
     "shell.execute_reply": "2024-07-14T06:08:45.258406Z"
    },
    "papermill": {
     "duration": 0.864057,
     "end_time": "2024-07-14T06:08:45.264982",
     "exception": false,
     "start_time": "2024-07-14T06:08:44.400925",
     "status": "completed"
    },
    "tags": []
   },
   "outputs": [
    {
     "data": {
      "image/png": "[encoded data removed]",
      "text/plain": [
       "<Figure size 1000x600 with 1 Axes>"
      ]
     },
     "metadata": {},
     "output_type": "display_data"
    }
   ],
   "source": [
    "from wordcloud import WordCloud\n",
    "import matplotlib.pyplot as plt\n",
    "\n",
    "\n",
    "cloud = WordCloud(width=800, height=400, background_color='black').generate(str(train['Location']))\n",
    "plt.figure(figsize=(10, 6))\n",
    "plt.imshow(cloud)\n",
    "plt.show()\n"
   ]
  },
  {
   "cell_type": "code",
   "execution_count": 9,
   "id": "36cd6545",
   "metadata": {
    "execution": {
     "iopub.execute_input": "2024-07-14T06:08:45.386608Z",
     "iopub.status.busy": "2024-07-14T06:08:45.385964Z",
     "iopub.status.idle": "2024-07-14T06:08:45.407580Z",
     "shell.execute_reply": "2024-07-14T06:08:45.406420Z"
    },
    "papermill": {
     "duration": 0.07635,
     "end_time": "2024-07-14T06:08:45.410165",
     "exception": false,
     "start_time": "2024-07-14T06:08:45.333815",
     "status": "completed"
    },
    "tags": []
   },
   "outputs": [
    {
     "data": {
      "text/plain": [
       "Location\n",
       "6TH                33\n",
       "7TH                32\n",
       "6TH ST             31\n",
       "VERMONT AV         31\n",
       "7TH ST             30\n",
       "                   ..\n",
       "2700 E 1ST ST       1\n",
       "9300 SWINTON AV     1\n",
       "MCKINLEY            1\n",
       "WADE ST             1\n",
       "DALTON AV           1\n",
       "Name: count, Length: 12396, dtype: int64"
      ]
     },
     "execution_count": 9,
     "metadata": {},
     "output_type": "execute_result"
    }
   ],
   "source": [
    "train['Location'].value_counts()"
   ]
  },
  {
   "cell_type": "code",
   "execution_count": 10,
   "id": "c67ffa98",
   "metadata": {
    "execution": {
     "iopub.execute_input": "2024-07-14T06:08:45.509083Z",
     "iopub.status.busy": "2024-07-14T06:08:45.508037Z",
     "iopub.status.idle": "2024-07-14T06:08:45.854912Z",
     "shell.execute_reply": "2024-07-14T06:08:45.853798Z"
    },
    "papermill": {
     "duration": 0.399103,
     "end_time": "2024-07-14T06:08:45.857361",
     "exception": false,
     "start_time": "2024-07-14T06:08:45.458258",
     "status": "completed"
    },
    "tags": []
   },
   "outputs": [
    {
     "data": {
      "text/plain": [
       "<Axes: xlabel='Location'>"
      ]
     },
     "execution_count": 10,
     "metadata": {},
     "output_type": "execute_result"
    },
    {
     "data": {
      "image/png": "[encoded data removed]",
      "text/plain": [
       "<Figure size 640x480 with 1 Axes>"
      ]
     },
     "metadata": {},
     "output_type": "display_data"
    }
   ],
   "source": [
    "train['Location'].value_counts().head(10).plot(kind='bar')"
   ]
  },
  {
   "cell_type": "markdown",
   "id": "73b239e0",
   "metadata": {
    "papermill": {
     "duration": 0.048196,
     "end_time": "2024-07-14T06:08:45.954178",
     "exception": false,
     "start_time": "2024-07-14T06:08:45.905982",
     "status": "completed"
    },
    "tags": []
   },
   "source": [
    "# Cross_Street"
   ]
  },
  {
   "cell_type": "code",
   "execution_count": 11,
   "id": "20d76412",
   "metadata": {
    "execution": {
     "iopub.execute_input": "2024-07-14T06:08:46.067706Z",
     "iopub.status.busy": "2024-07-14T06:08:46.067227Z",
     "iopub.status.idle": "2024-07-14T06:08:46.096382Z",
     "shell.execute_reply": "2024-07-14T06:08:46.095210Z"
    },
    "papermill": {
     "duration": 0.08504,
     "end_time": "2024-07-14T06:08:46.098988",
     "exception": false,
     "start_time": "2024-07-14T06:08:46.013948",
     "status": "completed"
    },
    "tags": []
   },
   "outputs": [
    {
     "name": "stdout",
     "output_type": "stream",
     "text": [
      " unqiue values after replacing the null values\n",
      "['' 'ALAMEDA                      ST' 'LASSEN                       ST'\n",
      " ... 'VICTORIA' '39TH                         ST' 'HAVELOCK']\n",
      "Number of unique values :  1496\n",
      "----------------------------------------------------\n",
      "Number of null values values the cross_street column originally has  16552\n"
     ]
    }
   ],
   "source": [
    "# print('unqiue values before replacing the null values')\n",
    "# print(train['Cross_Street'].unique())\n",
    "\n",
    "# print(\"Number of unique values : \" , len(train['Cross_Street'].unique()) )\n",
    "\n",
    "# print('----------------------------------------------------')\n",
    "train.loc[:,'Cross_Street']=train['Cross_Street'].fillna('')\n",
    "\n",
    "\n",
    "print(' unqiue values after replacing the null values')\n",
    "\n",
    "\n",
    "print(train['Cross_Street'].unique())\n",
    "\n",
    "# train.loc[: , 'Cross_Street']=train['Cross_Street'].apply( lambda x : ' '.join(x.split()))\n",
    "\n",
    "train.loc[: , 'Cross_Street']=train['Cross_Street'].apply( lambda x : ' '.join(x.split()))\n",
    "\n",
    "print(\"Number of unique values : \" , len(train['Cross_Street'].unique()) )\n",
    "\n",
    "\n",
    "print('----------------------------------------------------')\n",
    "\n",
    "\n",
    "print(\"Number of null values values the cross_street column originally has \" ,16552)"
   ]
  },
  {
   "cell_type": "code",
   "execution_count": 12,
   "id": "7c06c48e",
   "metadata": {
    "execution": {
     "iopub.execute_input": "2024-07-14T06:08:46.199863Z",
     "iopub.status.busy": "2024-07-14T06:08:46.199472Z",
     "iopub.status.idle": "2024-07-14T06:08:46.239460Z",
     "shell.execute_reply": "2024-07-14T06:08:46.238189Z"
    },
    "papermill": {
     "duration": 0.093107,
     "end_time": "2024-07-14T06:08:46.242013",
     "exception": false,
     "start_time": "2024-07-14T06:08:46.148906",
     "status": "completed"
    },
    "tags": []
   },
   "outputs": [
    {
     "data": {
      "text/plain": [
       "Location                     0\n",
       "Cross_Street                 0\n",
       "Latitude                     0\n",
       "Longitude                    0\n",
       "Date_Reported                0\n",
       "Date_Occurred                0\n",
       "Time_Occurred                0\n",
       "Area_ID                      0\n",
       "Area_Name                    0\n",
       "Reporting_District_no        0\n",
       "Part 1-2                     0\n",
       "Modus_Operandi            2741\n",
       "Victim_Age                   0\n",
       "Victim_Sex                2624\n",
       "Victim_Descent            2624\n",
       "Premise_Code                 0\n",
       "Premise_Description          5\n",
       "Weapon_Used_Code         12665\n",
       "Weapon_Description       12665\n",
       "Status                       0\n",
       "Status_Description           0\n",
       "Crime_Category               0\n",
       "dtype: int64"
      ]
     },
     "execution_count": 12,
     "metadata": {},
     "output_type": "execute_result"
    }
   ],
   "source": [
    "train.isnull().sum()"
   ]
  },
  {
   "cell_type": "markdown",
   "id": "05124dc6",
   "metadata": {
    "papermill": {
     "duration": 0.049516,
     "end_time": "2024-07-14T06:08:46.341069",
     "exception": false,
     "start_time": "2024-07-14T06:08:46.291553",
     "status": "completed"
    },
    "tags": []
   },
   "source": [
    "# Area_ID\n"
   ]
  },
  {
   "cell_type": "code",
   "execution_count": 13,
   "id": "514a6013",
   "metadata": {
    "execution": {
     "iopub.execute_input": "2024-07-14T06:08:46.440383Z",
     "iopub.status.busy": "2024-07-14T06:08:46.439922Z",
     "iopub.status.idle": "2024-07-14T06:08:46.831991Z",
     "shell.execute_reply": "2024-07-14T06:08:46.830838Z"
    },
    "papermill": {
     "duration": 0.444942,
     "end_time": "2024-07-14T06:08:46.834780",
     "exception": false,
     "start_time": "2024-07-14T06:08:46.389838",
     "status": "completed"
    },
    "tags": []
   },
   "outputs": [
    {
     "name": "stdout",
     "output_type": "stream",
     "text": [
      "unique values of area id are :\n",
      "[15. 13. 19. 12. 11.  4. 14.  9. 17.  7.  6.  5. 21.  1. 10. 20. 16.  8.\n",
      " 18.  3.  2.]\n",
      "-------------------------------------------\n",
      "Number of unique values are  21\n",
      "Number of null values are  0\n",
      "-------------------------------------------\n",
      "Area_ID\n",
      "12.0    1345\n",
      "14.0    1157\n",
      "1.0     1156\n",
      "3.0     1130\n",
      "18.0    1067\n",
      "15.0    1065\n",
      "6.0     1014\n",
      "13.0     999\n",
      "20.0     960\n",
      "7.0      943\n",
      "2.0      931\n",
      "8.0      910\n",
      "9.0      902\n",
      "5.0      872\n",
      "19.0     870\n",
      "11.0     839\n",
      "21.0     792\n",
      "10.0     790\n",
      "17.0     769\n",
      "4.0      755\n",
      "16.0     734\n",
      "Name: count, dtype: int64\n",
      "-------------------------------------------\n"
     ]
    },
    {
     "name": "stderr",
     "output_type": "stream",
     "text": [
      "/tmp/ipykernel_18/2200294362.py:14: FutureWarning: Setting an item of incompatible dtype is deprecated and will raise in a future error of pandas. Value '['15.0' '13.0' '13.0' ... '8.0' '5.0' '3.0']' has dtype incompatible with float64, please explicitly cast to a compatible dtype first.\n",
      "  train.loc[:,'Area_ID']=train['Area_ID'].astype(str)\n"
     ]
    },
    {
     "data": {
      "image/png": "[encoded data removed]",
      "text/plain": [
       "<Figure size 640x480 with 1 Axes>"
      ]
     },
     "metadata": {},
     "output_type": "display_data"
    },
    {
     "data": {
      "text/plain": [
       "<Figure size 1500x1000 with 0 Axes>"
      ]
     },
     "metadata": {},
     "output_type": "display_data"
    }
   ],
   "source": [
    "print('unique values of area id are :')\n",
    "print(train['Area_ID'].unique())\n",
    "\n",
    "print('-------------------------------------------')\n",
    "\n",
    "print('Number of unique values are ' , len(train['Area_ID'].unique()))\n",
    "\n",
    "\n",
    "print('Number of null values are ' , train['Area_ID'].isnull().sum())\n",
    "\n",
    "\n",
    "print('-------------------------------------------')\n",
    "\n",
    "train.loc[:,'Area_ID']=train['Area_ID'].astype(str)\n",
    "train.loc[:,'Area_ID']=train['Area_ID'].astype('category')\n",
    "\n",
    "print(train['Area_ID'].value_counts())\n",
    "\n",
    "\n",
    "print('-------------------------------------------')\n",
    "\n",
    "\n",
    "Area_ID_value_counts=train['Area_ID'].value_counts()\n",
    "\n",
    "Area_ID_value_counts.plot(kind='bar')\n",
    "plt.figure(figsize=(15, 10))\n",
    "\n",
    "plt.show()"
   ]
  },
  {
   "cell_type": "markdown",
   "id": "322381df",
   "metadata": {
    "papermill": {
     "duration": 0.049994,
     "end_time": "2024-07-14T06:08:46.935134",
     "exception": false,
     "start_time": "2024-07-14T06:08:46.885140",
     "status": "completed"
    },
    "tags": []
   },
   "source": [
    "# Area_Name"
   ]
  },
  {
   "cell_type": "markdown",
   "id": "3729aaa5",
   "metadata": {
    "papermill": {
     "duration": 0.049913,
     "end_time": "2024-07-14T06:08:47.035215",
     "exception": false,
     "start_time": "2024-07-14T06:08:46.985302",
     "status": "completed"
    },
    "tags": []
   },
   "source": [
    "Area Name == Area id columns"
   ]
  },
  {
   "cell_type": "code",
   "execution_count": 14,
   "id": "510f48f6",
   "metadata": {
    "execution": {
     "iopub.execute_input": "2024-07-14T06:08:47.137246Z",
     "iopub.status.busy": "2024-07-14T06:08:47.136828Z",
     "iopub.status.idle": "2024-07-14T06:08:47.155774Z",
     "shell.execute_reply": "2024-07-14T06:08:47.154559Z"
    },
    "papermill": {
     "duration": 0.07363,
     "end_time": "2024-07-14T06:08:47.158889",
     "exception": false,
     "start_time": "2024-07-14T06:08:47.085259",
     "status": "completed"
    },
    "tags": []
   },
   "outputs": [
    {
     "name": "stdout",
     "output_type": "stream",
     "text": [
      "unique areas are\n",
      "['N Hollywood' 'Newton' 'Mission' '77th Street' 'Northeast' 'Hollenbeck'\n",
      " 'Pacific' 'Van Nuys' 'Devonshire' 'Wilshire' 'Hollywood' 'Harbor'\n",
      " 'Topanga' 'Central' 'West Valley' 'Olympic' 'Foothill' 'West LA'\n",
      " 'Southeast' 'Southwest' 'Rampart']\n",
      "-------------------------------------------\n",
      "Number of unique values are  21\n",
      "-------------------------------------------\n",
      "Number of null values are  0\n",
      "-------------------------------------------\n",
      "Area_Name\n",
      "77th Street    1345\n",
      "Pacific        1157\n",
      "Central        1156\n",
      "Southwest      1130\n",
      "Southeast      1067\n",
      "N Hollywood    1065\n",
      "Hollywood      1014\n",
      "Newton          999\n",
      "Olympic         960\n",
      "Wilshire        943\n",
      "Rampart         931\n",
      "West LA         910\n",
      "Van Nuys        902\n",
      "Harbor          872\n",
      "Mission         870\n",
      "Northeast       839\n",
      "Topanga         792\n",
      "West Valley     790\n",
      "Devonshire      769\n",
      "Hollenbeck      755\n",
      "Foothill        734\n",
      "Name: count, dtype: int64\n"
     ]
    }
   ],
   "source": [
    "print('unique areas are')\n",
    "print(train['Area_Name'].unique())\n",
    "\n",
    "print('-------------------------------------------')\n",
    "\n",
    "\n",
    "print('Number of unique values are ' , len(train['Area_Name'].unique()))\n",
    "\n",
    "print('-------------------------------------------')\n",
    "\n",
    "print('Number of null values are ' , train['Area_Name'].isnull().sum())\n",
    "print('-------------------------------------------')\n",
    "\n",
    "print(train['Area_Name'].value_counts())\n"
   ]
  },
  {
   "cell_type": "markdown",
   "id": "d6bfec04",
   "metadata": {
    "papermill": {
     "duration": 0.05245,
     "end_time": "2024-07-14T06:08:47.261907",
     "exception": false,
     "start_time": "2024-07-14T06:08:47.209457",
     "status": "completed"
    },
    "tags": []
   },
   "source": [
    "# Reporting_District_no"
   ]
  },
  {
   "cell_type": "code",
   "execution_count": 15,
   "id": "9a48f998",
   "metadata": {
    "execution": {
     "iopub.execute_input": "2024-07-14T06:08:47.364588Z",
     "iopub.status.busy": "2024-07-14T06:08:47.363702Z",
     "iopub.status.idle": "2024-07-14T06:08:47.407938Z",
     "shell.execute_reply": "2024-07-14T06:08:47.405909Z"
    },
    "papermill": {
     "duration": 0.098822,
     "end_time": "2024-07-14T06:08:47.410744",
     "exception": false,
     "start_time": "2024-07-14T06:08:47.311922",
     "status": "completed"
    },
    "tags": []
   },
   "outputs": [
    {
     "name": "stdout",
     "output_type": "stream",
     "text": [
      "<class 'pandas.core.frame.DataFrame'>\n",
      "RangeIndex: 20000 entries, 0 to 19999\n",
      "Data columns (total 22 columns):\n",
      " #   Column                 Non-Null Count  Dtype  \n",
      "---  ------                 --------------  -----  \n",
      " 0   Location               20000 non-null  object \n",
      " 1   Cross_Street           20000 non-null  object \n",
      " 2   Latitude               20000 non-null  float64\n",
      " 3   Longitude              20000 non-null  float64\n",
      " 4   Date_Reported          20000 non-null  object \n",
      " 5   Date_Occurred          20000 non-null  object \n",
      " 6   Time_Occurred          20000 non-null  float64\n",
      " 7   Area_ID                20000 non-null  object \n",
      " 8   Area_Name              20000 non-null  object \n",
      " 9   Reporting_District_no  20000 non-null  float64\n",
      " 10  Part 1-2               20000 non-null  float64\n",
      " 11  Modus_Operandi         17259 non-null  object \n",
      " 12  Victim_Age             20000 non-null  float64\n",
      " 13  Victim_Sex             17376 non-null  object \n",
      " 14  Victim_Descent         17376 non-null  object \n",
      " 15  Premise_Code           20000 non-null  float64\n",
      " 16  Premise_Description    19995 non-null  object \n",
      " 17  Weapon_Used_Code       7335 non-null   float64\n",
      " 18  Weapon_Description     7335 non-null   object \n",
      " 19  Status                 20000 non-null  object \n",
      " 20  Status_Description     20000 non-null  object \n",
      " 21  Crime_Category         20000 non-null  object \n",
      "dtypes: float64(8), object(14)\n",
      "memory usage: 3.4+ MB\n"
     ]
    }
   ],
   "source": [
    "train.info()"
   ]
  },
  {
   "cell_type": "code",
   "execution_count": 16,
   "id": "0353e760",
   "metadata": {
    "execution": {
     "iopub.execute_input": "2024-07-14T06:08:47.512947Z",
     "iopub.status.busy": "2024-07-14T06:08:47.512442Z",
     "iopub.status.idle": "2024-07-14T06:08:47.908639Z",
     "shell.execute_reply": "2024-07-14T06:08:47.907502Z"
    },
    "papermill": {
     "duration": 0.450808,
     "end_time": "2024-07-14T06:08:47.911423",
     "exception": false,
     "start_time": "2024-07-14T06:08:47.460615",
     "status": "completed"
    },
    "tags": []
   },
   "outputs": [
    {
     "name": "stdout",
     "output_type": "stream",
     "text": [
      "unique areas are\n",
      "['1563.0' '1367.0' '1343.0' ... '1778.0' '1199.0' '812.0']\n",
      "-------------------------------------------\n",
      "Number of unique values are  1120\n",
      "-------------------------------------------\n",
      "Number of null values are  0\n",
      "-------------------------------------------\n",
      "Reporting_District_no\n",
      "645.0     99\n",
      "162.0     85\n",
      "1494.0    74\n",
      "1822.0    72\n",
      "182.0     72\n",
      "          ..\n",
      "452.0      1\n",
      "871.0      1\n",
      "1476.0     1\n",
      "848.0      1\n",
      "812.0      1\n",
      "Name: count, Length: 1120, dtype: int64\n",
      "-------------------------------------------\n"
     ]
    },
    {
     "name": "stderr",
     "output_type": "stream",
     "text": [
      "/tmp/ipykernel_18/4222087248.py:1: FutureWarning: Setting an item of incompatible dtype is deprecated and will raise in a future error of pandas. Value '['1563.0' '1367.0' '1343.0' ... '849.0' '558.0' '397.0']' has dtype incompatible with float64, please explicitly cast to a compatible dtype first.\n",
      "  train.loc[:,'Reporting_District_no']=train['Reporting_District_no'].astype(str)\n"
     ]
    },
    {
     "data": {
      "image/png": "[encoded data removed]",
      "text/plain": [
       "<Figure size 640x480 with 1 Axes>"
      ]
     },
     "metadata": {},
     "output_type": "display_data"
    },
    {
     "data": {
      "text/plain": [
       "<Figure size 1000x600 with 0 Axes>"
      ]
     },
     "metadata": {},
     "output_type": "display_data"
    }
   ],
   "source": [
    "train.loc[:,'Reporting_District_no']=train['Reporting_District_no'].astype(str)\n",
    "train.loc[:,'Reporting_District_no']=train['Reporting_District_no'].astype('category')\n",
    "\n",
    "                                      \n",
    "print('unique areas are')\n",
    "print(train['Reporting_District_no'].unique())\n",
    "\n",
    "print('-------------------------------------------')\n",
    "\n",
    "\n",
    "print('Number of unique values are ' , len(train['Reporting_District_no'].unique()))\n",
    "\n",
    "print('-------------------------------------------')\n",
    "\n",
    "print('Number of null values are ' , train['Reporting_District_no'].isnull().sum())\n",
    "print('-------------------------------------------')\n",
    "\n",
    "print(train['Reporting_District_no'].value_counts())\n",
    "\n",
    "\n",
    "Reporting_District_no_value_counts=train['Reporting_District_no'].value_counts()\n",
    "print('-------------------------------------------')\n",
    "\n",
    "\n",
    "\n",
    "Reporting_District_no_value_counts.head(20).plot(kind='bar')\n",
    "plt.figure(figsize=(10, 6))\n",
    "plt.show()\n"
   ]
  },
  {
   "cell_type": "markdown",
   "id": "61a9f00c",
   "metadata": {
    "papermill": {
     "duration": 0.050228,
     "end_time": "2024-07-14T06:08:48.012201",
     "exception": false,
     "start_time": "2024-07-14T06:08:47.961973",
     "status": "completed"
    },
    "tags": []
   },
   "source": [
    "# Part 1-2"
   ]
  },
  {
   "cell_type": "code",
   "execution_count": 17,
   "id": "e1a6dc0b",
   "metadata": {
    "execution": {
     "iopub.execute_input": "2024-07-14T06:08:48.117408Z",
     "iopub.status.busy": "2024-07-14T06:08:48.116940Z",
     "iopub.status.idle": "2024-07-14T06:08:48.362865Z",
     "shell.execute_reply": "2024-07-14T06:08:48.361622Z"
    },
    "papermill": {
     "duration": 0.301441,
     "end_time": "2024-07-14T06:08:48.365604",
     "exception": false,
     "start_time": "2024-07-14T06:08:48.064163",
     "status": "completed"
    },
    "tags": []
   },
   "outputs": [
    {
     "name": "stdout",
     "output_type": "stream",
     "text": [
      "Unique values in Part 1-2 columns are: ['1.0' '2.0']\n",
      "----------------------------------------\n",
      " value counts in Part 1-2 columns are: Part 1-2\n",
      "1.0    11637\n",
      "2.0     8363\n",
      "Name: count, dtype: int64\n",
      "----------------------------------------\n"
     ]
    },
    {
     "name": "stderr",
     "output_type": "stream",
     "text": [
      "/tmp/ipykernel_18/2574664916.py:1: FutureWarning: Setting an item of incompatible dtype is deprecated and will raise in a future error of pandas. Value '['1.0' '1.0' '2.0' ... '1.0' '2.0' '1.0']' has dtype incompatible with float64, please explicitly cast to a compatible dtype first.\n",
      "  train.loc[:,'Part 1-2']=train['Part 1-2'].astype(str)\n"
     ]
    },
    {
     "data": {
      "text/plain": [
       "<Axes: xlabel='Part 1-2'>"
      ]
     },
     "execution_count": 17,
     "metadata": {},
     "output_type": "execute_result"
    },
    {
     "data": {
      "image/png": "[encoded data removed]",
      "text/plain": [
       "<Figure size 640x480 with 1 Axes>"
      ]
     },
     "metadata": {},
     "output_type": "display_data"
    }
   ],
   "source": [
    "train.loc[:,'Part 1-2']=train['Part 1-2'].astype(str)\n",
    "\n",
    "print(\"Unique values in Part 1-2 columns are:\",train['Part 1-2'].unique())\n",
    "\n",
    "print('----------------------------------------')\n",
    "\n",
    "print(\" value counts in Part 1-2 columns are:\",train['Part 1-2'].value_counts())\n",
    "\n",
    "\n",
    "print('----------------------------------------')\n",
    "\n",
    "value_counts_part_1_2=train['Part 1-2'].value_counts()\n",
    "\n",
    "value_counts_part_1_2.plot(kind='bar')"
   ]
  },
  {
   "cell_type": "markdown",
   "id": "e4f01661",
   "metadata": {
    "papermill": {
     "duration": 0.051704,
     "end_time": "2024-07-14T06:08:48.468752",
     "exception": false,
     "start_time": "2024-07-14T06:08:48.417048",
     "status": "completed"
    },
    "tags": []
   },
   "source": [
    "# Modus_Operandi"
   ]
  },
  {
   "cell_type": "code",
   "execution_count": 18,
   "id": "023dba12",
   "metadata": {
    "execution": {
     "iopub.execute_input": "2024-07-14T06:08:48.575479Z",
     "iopub.status.busy": "2024-07-14T06:08:48.575017Z",
     "iopub.status.idle": "2024-07-14T06:08:48.584303Z",
     "shell.execute_reply": "2024-07-14T06:08:48.583071Z"
    },
    "papermill": {
     "duration": 0.065156,
     "end_time": "2024-07-14T06:08:48.586934",
     "exception": false,
     "start_time": "2024-07-14T06:08:48.521778",
     "status": "completed"
    },
    "tags": []
   },
   "outputs": [
    {
     "data": {
      "text/plain": [
       "0                                           0385\n",
       "1        0906 0352 0371 0446 1822 0344 0416 0417\n",
       "2                                      0329 1202\n",
       "3                                      0329 1300\n",
       "4                  0416 0945 1822 0400 0417 0344\n",
       "                          ...                   \n",
       "19995                        0416 0446 2004 0913\n",
       "19996                   1822 0209 0344 1414 1420\n",
       "19997                             0344 1822 1420\n",
       "19998              1202 2038 0913 0602 1242 0553\n",
       "19999                                        NaN\n",
       "Name: Modus_Operandi, Length: 20000, dtype: object"
      ]
     },
     "execution_count": 18,
     "metadata": {},
     "output_type": "execute_result"
    }
   ],
   "source": [
    "train['Modus_Operandi']"
   ]
  },
  {
   "cell_type": "code",
   "execution_count": 19,
   "id": "5d6263e6",
   "metadata": {
    "execution": {
     "iopub.execute_input": "2024-07-14T06:08:48.693022Z",
     "iopub.status.busy": "2024-07-14T06:08:48.692591Z",
     "iopub.status.idle": "2024-07-14T06:08:48.727588Z",
     "shell.execute_reply": "2024-07-14T06:08:48.726465Z"
    },
    "papermill": {
     "duration": 0.091327,
     "end_time": "2024-07-14T06:08:48.730599",
     "exception": false,
     "start_time": "2024-07-14T06:08:48.639272",
     "status": "completed"
    },
    "tags": []
   },
   "outputs": [
    {
     "name": "stdout",
     "output_type": "stream",
     "text": [
      "Unique values in Modus_Operandi are  ['0385' '0906 0352 0371 0446 1822 0344 0416 0417' '0329 1202' ...\n",
      " '0416 0446 2004 0913' '1822 0209 0344 1414 1420'\n",
      " '1202 2038 0913 0602 1242 0553']\n",
      " \n",
      "Each  row value is combination of diff-diff activities so thats the reason we have  10489 uniques values.\n",
      "\n",
      "----------------------------------------------------------\n",
      "Modus_Operandi\n",
      "0344                                       826\n",
      "0329                                       583\n",
      "1501                                       187\n",
      "0329 1300                                  135\n",
      "0325                                       127\n",
      "                                          ... \n",
      "1609 0329 1307 0344                          1\n",
      "0344 2050 0910 2034                          1\n",
      "0400 2000 0913                               1\n",
      "1822 0342 0910 2049 2051 0305 0444 0344      1\n",
      "1202 2038 0913 0602 1242 0553                1\n",
      "Name: count, Length: 10489, dtype: int64\n",
      "\n",
      "\n",
      "----------------------------------------------------------\n",
      "Number of null values after fill with empty string are  0\n"
     ]
    }
   ],
   "source": [
    "print(\"Unique values in Modus_Operandi are \",train['Modus_Operandi'].unique())\n",
    "print(\" \")\n",
    "print(\"Each  row value is combination of diff-diff activities so thats the reason we have  10489 uniques values.\")\n",
    "\n",
    "print('')\n",
    "\n",
    "print('----------------------------------------------------------')\n",
    "\n",
    "print(train['Modus_Operandi'].value_counts())\n",
    "\n",
    "print('')\n",
    "\n",
    "Modus_Operandi_value_counts=train['Modus_Operandi'].value_counts()\n",
    "\n",
    "print('')\n",
    "\n",
    "\n",
    "\n",
    "print('----------------------------------------------------------')\n",
    "\n",
    "\n",
    "train['Modus_Operandi'] = train['Modus_Operandi'].fillna('')\n",
    "\n",
    "print(\"Number of null values after fill with empty string are \",train['Modus_Operandi'].isnull().sum())\n"
   ]
  },
  {
   "cell_type": "code",
   "execution_count": 20,
   "id": "16c3d01f",
   "metadata": {
    "execution": {
     "iopub.execute_input": "2024-07-14T06:08:48.836296Z",
     "iopub.status.busy": "2024-07-14T06:08:48.835168Z",
     "iopub.status.idle": "2024-07-14T06:08:49.150674Z",
     "shell.execute_reply": "2024-07-14T06:08:49.149438Z"
    },
    "papermill": {
     "duration": 0.371,
     "end_time": "2024-07-14T06:08:49.153216",
     "exception": false,
     "start_time": "2024-07-14T06:08:48.782216",
     "status": "completed"
    },
    "tags": []
   },
   "outputs": [
    {
     "data": {
      "text/plain": [
       "<Axes: xlabel='Modus_Operandi'>"
      ]
     },
     "execution_count": 20,
     "metadata": {},
     "output_type": "execute_result"
    },
    {
     "data": {
      "image/png": "[encoded data removed]",
      "text/plain": [
       "<Figure size 640x480 with 1 Axes>"
      ]
     },
     "metadata": {},
     "output_type": "display_data"
    }
   ],
   "source": [
    "Modus_Operandi_value_counts.head(10).plot(kind='bar')"
   ]
  },
  {
   "cell_type": "code",
   "execution_count": 21,
   "id": "973fc886",
   "metadata": {
    "execution": {
     "iopub.execute_input": "2024-07-14T06:08:49.261926Z",
     "iopub.status.busy": "2024-07-14T06:08:49.261484Z",
     "iopub.status.idle": "2024-07-14T06:08:49.308224Z",
     "shell.execute_reply": "2024-07-14T06:08:49.306899Z"
    },
    "papermill": {
     "duration": 0.105598,
     "end_time": "2024-07-14T06:08:49.311064",
     "exception": false,
     "start_time": "2024-07-14T06:08:49.205466",
     "status": "completed"
    },
    "tags": []
   },
   "outputs": [],
   "source": [
    "# def number_of_activities(s):\n",
    "#     activities=[]\n",
    "#     s=str(s)\n",
    "#     a=s.split(' ')\n",
    "#     for i in a:\n",
    "#         if a not in activities:\n",
    "#             activities.append(a)\n",
    "#     return activities\n",
    "\n",
    "def number_of_activities(s):\n",
    "    if s=='':  # Handle NaN values\n",
    "        return 0\n",
    "    activities_list=s.split()\n",
    "    activity_count = list(set(activities_list))\n",
    "#     activities = set()  # Using a set to avoid duplicates efficiently\n",
    "#     for activity in s.split(' '):\n",
    "#         activities.add(str(activity))\n",
    "#     activities=' '.join(activities)    \n",
    "    return len(activity_count)\n",
    "train['activity_count']=train['Modus_Operandi'].apply(number_of_activities)\n",
    "# df.drop('Modus_Operandi',axis=1)\n",
    "# df['Modus_Operandi']=df['unique_activities']\n",
    "# df.drop('unique_activities',axis=1,inplace=True)"
   ]
  },
  {
   "cell_type": "code",
   "execution_count": 22,
   "id": "9026c597",
   "metadata": {
    "execution": {
     "iopub.execute_input": "2024-07-14T06:08:49.418898Z",
     "iopub.status.busy": "2024-07-14T06:08:49.418446Z",
     "iopub.status.idle": "2024-07-14T06:08:49.440746Z",
     "shell.execute_reply": "2024-07-14T06:08:49.439515Z"
    },
    "papermill": {
     "duration": 0.079149,
     "end_time": "2024-07-14T06:08:49.443341",
     "exception": false,
     "start_time": "2024-07-14T06:08:49.364192",
     "status": "completed"
    },
    "tags": []
   },
   "outputs": [
    {
     "data": {
      "text/html": [
       "<div>\n",
       "<style scoped>\n",
       "    .dataframe tbody tr th:only-of-type {\n",
       "        vertical-align: middle;\n",
       "    }\n",
       "\n",
       "    .dataframe tbody tr th {\n",
       "        vertical-align: top;\n",
       "    }\n",
       "\n",
       "    .dataframe thead th {\n",
       "        text-align: right;\n",
       "    }\n",
       "</style>\n",
       "<table border=\"1\" class=\"dataframe\">\n",
       "  <thead>\n",
       "    <tr style=\"text-align: right;\">\n",
       "      <th></th>\n",
       "      <th>Modus_Operandi</th>\n",
       "      <th>activity_count</th>\n",
       "    </tr>\n",
       "  </thead>\n",
       "  <tbody>\n",
       "    <tr>\n",
       "      <th>0</th>\n",
       "      <td>0385</td>\n",
       "      <td>1</td>\n",
       "    </tr>\n",
       "    <tr>\n",
       "      <th>1</th>\n",
       "      <td>0906 0352 0371 0446 1822 0344 0416 0417</td>\n",
       "      <td>8</td>\n",
       "    </tr>\n",
       "    <tr>\n",
       "      <th>2</th>\n",
       "      <td>0329 1202</td>\n",
       "      <td>2</td>\n",
       "    </tr>\n",
       "    <tr>\n",
       "      <th>3</th>\n",
       "      <td>0329 1300</td>\n",
       "      <td>2</td>\n",
       "    </tr>\n",
       "    <tr>\n",
       "      <th>4</th>\n",
       "      <td>0416 0945 1822 0400 0417 0344</td>\n",
       "      <td>6</td>\n",
       "    </tr>\n",
       "    <tr>\n",
       "      <th>...</th>\n",
       "      <td>...</td>\n",
       "      <td>...</td>\n",
       "    </tr>\n",
       "    <tr>\n",
       "      <th>19995</th>\n",
       "      <td>0416 0446 2004 0913</td>\n",
       "      <td>4</td>\n",
       "    </tr>\n",
       "    <tr>\n",
       "      <th>19996</th>\n",
       "      <td>1822 0209 0344 1414 1420</td>\n",
       "      <td>5</td>\n",
       "    </tr>\n",
       "    <tr>\n",
       "      <th>19997</th>\n",
       "      <td>0344 1822 1420</td>\n",
       "      <td>3</td>\n",
       "    </tr>\n",
       "    <tr>\n",
       "      <th>19998</th>\n",
       "      <td>1202 2038 0913 0602 1242 0553</td>\n",
       "      <td>6</td>\n",
       "    </tr>\n",
       "    <tr>\n",
       "      <th>19999</th>\n",
       "      <td></td>\n",
       "      <td>0</td>\n",
       "    </tr>\n",
       "  </tbody>\n",
       "</table>\n",
       "<p>20000 rows × 2 columns</p>\n",
       "</div>"
      ],
      "text/plain": [
       "                                Modus_Operandi  activity_count\n",
       "0                                         0385               1\n",
       "1      0906 0352 0371 0446 1822 0344 0416 0417               8\n",
       "2                                    0329 1202               2\n",
       "3                                    0329 1300               2\n",
       "4                0416 0945 1822 0400 0417 0344               6\n",
       "...                                        ...             ...\n",
       "19995                      0416 0446 2004 0913               4\n",
       "19996                 1822 0209 0344 1414 1420               5\n",
       "19997                           0344 1822 1420               3\n",
       "19998            1202 2038 0913 0602 1242 0553               6\n",
       "19999                                                        0\n",
       "\n",
       "[20000 rows x 2 columns]"
      ]
     },
     "execution_count": 22,
     "metadata": {},
     "output_type": "execute_result"
    }
   ],
   "source": [
    "train[['Modus_Operandi','activity_count']]"
   ]
  },
  {
   "cell_type": "code",
   "execution_count": 23,
   "id": "94139a22",
   "metadata": {
    "execution": {
     "iopub.execute_input": "2024-07-14T06:08:49.552182Z",
     "iopub.status.busy": "2024-07-14T06:08:49.551755Z",
     "iopub.status.idle": "2024-07-14T06:08:49.559958Z",
     "shell.execute_reply": "2024-07-14T06:08:49.558736Z"
    },
    "papermill": {
     "duration": 0.065647,
     "end_time": "2024-07-14T06:08:49.562712",
     "exception": false,
     "start_time": "2024-07-14T06:08:49.497065",
     "status": "completed"
    },
    "tags": []
   },
   "outputs": [],
   "source": [
    "from sklearn.base import BaseEstimator, TransformerMixin\n",
    "from sklearn.preprocessing import MultiLabelBinarizer\n",
    "\n",
    "class MultiLabelBinarizerWrapper(BaseEstimator, TransformerMixin):\n",
    "    def __init__(self):\n",
    "        self.mlb = MultiLabelBinarizer()\n",
    "\n",
    "    def fit(self, X, y=None):\n",
    "        self.mlb.fit(X)\n",
    "        return self\n",
    "\n",
    "    def transform(self, X):\n",
    "        return self.mlb.transform(X)"
   ]
  },
  {
   "cell_type": "markdown",
   "id": "6824b10c",
   "metadata": {
    "papermill": {
     "duration": 0.053523,
     "end_time": "2024-07-14T06:08:49.670419",
     "exception": false,
     "start_time": "2024-07-14T06:08:49.616896",
     "status": "completed"
    },
    "tags": []
   },
   "source": [
    "# Status and Status_Description "
   ]
  },
  {
   "cell_type": "markdown",
   "id": "c4d6cfb1",
   "metadata": {
    "papermill": {
     "duration": 0.053395,
     "end_time": "2024-07-14T06:08:49.778468",
     "exception": false,
     "start_time": "2024-07-14T06:08:49.725073",
     "status": "completed"
    },
    "tags": []
   },
   "source": [
    "Status and Status_Description convey same information "
   ]
  },
  {
   "cell_type": "code",
   "execution_count": 24,
   "id": "d76c9190",
   "metadata": {
    "execution": {
     "iopub.execute_input": "2024-07-14T06:08:49.887556Z",
     "iopub.status.busy": "2024-07-14T06:08:49.886698Z",
     "iopub.status.idle": "2024-07-14T06:08:50.431603Z",
     "shell.execute_reply": "2024-07-14T06:08:50.430501Z"
    },
    "papermill": {
     "duration": 0.602616,
     "end_time": "2024-07-14T06:08:50.434064",
     "exception": false,
     "start_time": "2024-07-14T06:08:49.831448",
     "status": "completed"
    },
    "tags": []
   },
   "outputs": [
    {
     "name": "stdout",
     "output_type": "stream",
     "text": [
      "Number of unique values in Status are  ['IC' 'AO' 'AA' 'JA' 'JO']\n",
      " values in Status are  Status\n",
      "IC    15236\n",
      "AO     2597\n",
      "AA     2054\n",
      "JA       70\n",
      "JO       43\n",
      "Name: count, dtype: int64\n",
      "Null values in status are 0\n",
      "\n",
      "--------------------------------------------------------------\n",
      "\n",
      "Number of unique values in Status_Description are  ['Invest Cont' 'Adult Other' 'Adult Arrest' 'Juv Arrest' 'Juv Other']\n",
      " values in Status_Description are  Status_Description\n",
      "Invest Cont     15236\n",
      "Adult Other      2597\n",
      "Adult Arrest     2054\n",
      "Juv Arrest         70\n",
      "Juv Other          43\n",
      "Name: count, dtype: int64\n",
      "Null values in Status_Description are 0\n",
      "\n",
      "--------------------------------------------------------------\n",
      "\n"
     ]
    },
    {
     "data": {
      "image/png": "[encoded data removed]",
      "text/plain": [
       "<Figure size 640x480 with 1 Axes>"
      ]
     },
     "metadata": {},
     "output_type": "display_data"
    },
    {
     "data": {
      "text/plain": [
       "<Axes: xlabel='Status_Description'>"
      ]
     },
     "execution_count": 24,
     "metadata": {},
     "output_type": "execute_result"
    },
    {
     "data": {
      "image/png": "[encoded data removed]",
      "text/plain": [
       "<Figure size 640x480 with 1 Axes>"
      ]
     },
     "metadata": {},
     "output_type": "display_data"
    }
   ],
   "source": [
    "print(\"Number of unique values in Status are \",train['Status'].unique())\n",
    "\n",
    "print(\" values in Status are \",train['Status'].value_counts())\n",
    "\n",
    "print('Null values in status are' ,train['Status'].isnull().sum() )\n",
    "\n",
    "Status_value_counts=train['Status'].value_counts()\n",
    "\n",
    "\n",
    "print('')\n",
    "print('--------------------------------------------------------------')\n",
    "print('')\n",
    "\n",
    "print(\"Number of unique values in Status_Description are \",train['Status_Description'].unique())\n",
    "\n",
    "print(\" values in Status_Description are \",train['Status_Description'].value_counts())\n",
    "\n",
    "print('Null values in Status_Description are' ,train['Status_Description'].isnull().sum() )\n",
    "\n",
    "\n",
    "Status_Description_value_counts=train['Status_Description'].value_counts()\n",
    "\n",
    "\n",
    "\n",
    "print('')\n",
    "print('--------------------------------------------------------------')\n",
    "print('')\n",
    "\n",
    "Status_value_counts.plot(kind='bar')\n",
    "plt.show()\n",
    "\n",
    "Status_Description_value_counts.plot(kind='bar')\n"
   ]
  },
  {
   "cell_type": "markdown",
   "id": "3bde4162",
   "metadata": {
    "papermill": {
     "duration": 0.056882,
     "end_time": "2024-07-14T06:08:50.545164",
     "exception": false,
     "start_time": "2024-07-14T06:08:50.488282",
     "status": "completed"
    },
    "tags": []
   },
   "source": [
    "# Weapon_Used_Code  and Weapon_Description"
   ]
  },
  {
   "cell_type": "markdown",
   "id": "01904310",
   "metadata": {
    "papermill": {
     "duration": 0.053779,
     "end_time": "2024-07-14T06:08:50.652804",
     "exception": false,
     "start_time": "2024-07-14T06:08:50.599025",
     "status": "completed"
    },
    "tags": []
   },
   "source": [
    "Both columns gives same information\n"
   ]
  },
  {
   "cell_type": "code",
   "execution_count": 25,
   "id": "c5162dbe",
   "metadata": {
    "execution": {
     "iopub.execute_input": "2024-07-14T06:08:50.762779Z",
     "iopub.status.busy": "2024-07-14T06:08:50.762332Z",
     "iopub.status.idle": "2024-07-14T06:08:50.776016Z",
     "shell.execute_reply": "2024-07-14T06:08:50.774892Z"
    },
    "papermill": {
     "duration": 0.071877,
     "end_time": "2024-07-14T06:08:50.778893",
     "exception": false,
     "start_time": "2024-07-14T06:08:50.707016",
     "status": "completed"
    },
    "tags": []
   },
   "outputs": [
    {
     "name": "stdout",
     "output_type": "stream",
     "text": [
      "Number of null values are\n"
     ]
    },
    {
     "data": {
      "text/plain": [
       "Weapon_Description    12665\n",
       "Weapon_Used_Code      12665\n",
       "dtype: int64"
      ]
     },
     "execution_count": 25,
     "metadata": {},
     "output_type": "execute_result"
    }
   ],
   "source": [
    "print('Number of null values are')\n",
    "train[['Weapon_Description','Weapon_Used_Code']].isnull().sum()"
   ]
  },
  {
   "cell_type": "code",
   "execution_count": 26,
   "id": "1b8e4279",
   "metadata": {
    "execution": {
     "iopub.execute_input": "2024-07-14T06:08:50.891385Z",
     "iopub.status.busy": "2024-07-14T06:08:50.890858Z",
     "iopub.status.idle": "2024-07-14T06:08:50.904400Z",
     "shell.execute_reply": "2024-07-14T06:08:50.902837Z"
    },
    "papermill": {
     "duration": 0.073679,
     "end_time": "2024-07-14T06:08:50.906922",
     "exception": false,
     "start_time": "2024-07-14T06:08:50.833243",
     "status": "completed"
    },
    "tags": []
   },
   "outputs": [
    {
     "name": "stdout",
     "output_type": "stream",
     "text": [
      "Number of unqiue values are\n"
     ]
    },
    {
     "data": {
      "text/plain": [
       "Weapon_Description\n",
       "STRONG-ARM (HANDS, FIST, FEET OR BODILY FORCE)    3990\n",
       "UNKNOWN WEAPON/OTHER WEAPON                        789\n",
       "VERBAL THREAT                                      546\n",
       "HAND GUN                                           388\n",
       "KNIFE WITH BLADE 6INCHES OR LESS                   160\n",
       "SEMI-AUTOMATIC PISTOL                              154\n",
       "UNKNOWN FIREARM                                    131\n",
       "OTHER KNIFE                                        125\n",
       "VEHICLE                                             84\n",
       "MACE/PEPPER SPRAY                                   80\n",
       "ROCK/THROWN OBJECT                                  63\n",
       "BOTTLE                                              55\n",
       "PIPE/METAL PIPE                                     52\n",
       "CLUB/BAT                                            51\n",
       "STICK                                               49\n",
       "KITCHEN KNIFE                                       45\n",
       "KNIFE WITH BLADE OVER 6 INCHES IN LENGTH            43\n",
       "AIR PISTOL/REVOLVER/RIFLE/BB GUN                    41\n",
       "FOLDING KNIFE                                       37\n",
       "BLUNT INSTRUMENT                                    37\n",
       "SIMULATED GUN                                       35\n",
       "REVOLVER                                            34\n",
       "BELT FLAILING INSTRUMENT/CHAIN                      26\n",
       "CONCRETE BLOCK/BRICK                                26\n",
       "MACHETE                                             25\n",
       "UNKNOWN TYPE CUTTING INSTRUMENT                     24\n",
       "HAMMER                                              23\n",
       "SCREWDRIVER                                         23\n",
       "FIRE                                                22\n",
       "OTHER FIREARM                                       18\n",
       "PHYSICAL PRESENCE                                   18\n",
       "OTHER CUTTING INSTRUMENT                            17\n",
       "FIXED OBJECT                                        16\n",
       "GLASS                                               14\n",
       "SCISSORS                                            13\n",
       "RIFLE                                               12\n",
       "BOARD                                               11\n",
       "TOY GUN                                              8\n",
       "SHOTGUN                                              7\n",
       "TIRE IRON                                            7\n",
       "AXE                                                  6\n",
       "STUN GUN                                             4\n",
       "BRASS KNUCKLES                                       4\n",
       "SCALDING LIQUID                                      3\n",
       "SWITCH BLADE                                         3\n",
       "MARTIAL ARTS WEAPONS                                 2\n",
       "DEMAND NOTE                                          2\n",
       "SAWED OFF RIFLE/SHOTGUN                              2\n",
       "ICE PICK                                             2\n",
       "CAUSTIC CHEMICAL/POISON                              1\n",
       "BOMB THREAT                                          1\n",
       "BOWIE KNIFE                                          1\n",
       "STARTER PISTOL/REVOLVER                              1\n",
       "RAZOR BLADE                                          1\n",
       "HECKLER & KOCH 93 SEMIAUTOMATIC ASSAULT RIFLE        1\n",
       "ASSAULT WEAPON/UZI/AK47/ETC                          1\n",
       "CLEAVER                                              1\n",
       "Name: count, dtype: int64"
      ]
     },
     "execution_count": 26,
     "metadata": {},
     "output_type": "execute_result"
    }
   ],
   "source": [
    "print('Number of unqiue values are')\n",
    "train['Weapon_Description'].value_counts()"
   ]
  },
  {
   "cell_type": "code",
   "execution_count": 27,
   "id": "c22e08ad",
   "metadata": {
    "execution": {
     "iopub.execute_input": "2024-07-14T06:08:51.021144Z",
     "iopub.status.busy": "2024-07-14T06:08:51.020267Z",
     "iopub.status.idle": "2024-07-14T06:08:51.086128Z",
     "shell.execute_reply": "2024-07-14T06:08:51.084889Z"
    },
    "papermill": {
     "duration": 0.126886,
     "end_time": "2024-07-14T06:08:51.089018",
     "exception": false,
     "start_time": "2024-07-14T06:08:50.962132",
     "status": "completed"
    },
    "tags": []
   },
   "outputs": [],
   "source": [
    "train.loc[train['Weapon_Description'] == 'STRONG-ARM (HANDS, FIST, FEET OR BODILY FORCE)' , 'Weapon_Description'] = 'Physical Force'\n",
    "\n",
    "# EXPLOXIVE DEVICE                                     3\n",
    "# RAZOR                                                1\n",
    "# LIQUOR/DRUGS                                         1\n",
    "# DOG/ANIMAL (SIC ANIMAL ON)                           1\n",
    "# SWORD   \n",
    "\n",
    "\n",
    "# NA                                                3153\n",
    "# STRONG-ARM (HANDS, FIST, FEET OR BODILY FORCE)    1003\n",
    "# sharp_heavy_object                                 431\n",
    "# other_weapon                                       170\n",
    "# Gun                                                164\n",
    "# fire                                                44\n",
    "# VEHICLE                                             28\n",
    "# Physical Force                                       4\n",
    "# EXPLOXIVE DEVICE                                     3\n",
    "\n",
    "def gun(s):\n",
    "    \n",
    "    if pd.isna(s):\n",
    "        return 'NA'\n",
    "    t=s.replace('/',' ')\n",
    "    listt=t.split(' ' or '/')\n",
    "    \n",
    "    gun_keywords=['gun','pistol','revolver','rifle','shotgun','AK47','explosive','exploxive']\n",
    "    \n",
    "    sharp_heavy_object=['blade','razor','stone','sword','knife','metal','screwdriver','cleaver', 'glass','machete' ,'iron' , 'cutting','axe' ,'instrument','hammer','weapon','object','bottle','weapons','brass','scissors']\n",
    "    \n",
    "    other_weapon = ['bomb','threat', 'demand', 'poison', 'ice', 'scalding', 'board','block' ,'brick', 'stick', 'bat', 'spray','drugs','dog']\n",
    "    \n",
    "    physical_presence=['physical','presence','strong-arm']\n",
    "    \n",
    "    fire=['firearm' , 'fire' ]\n",
    "\n",
    "    for i in listt:\n",
    "        if i.lower() in gun_keywords:\n",
    "            return 'Gun'\n",
    "        elif i.lower() in sharp_heavy_object:\n",
    "            return 'sharp_heavy_object'\n",
    "        \n",
    "        elif i.lower() in fire:\n",
    "            return 'fire'\n",
    "        elif i.lower() in other_weapon:\n",
    "            return 'other_weapon'\n",
    "        elif i.lower() in physical_presence:\n",
    "            return 'Physical Force'\n",
    "        elif i.lower() == 'strong-arm':\n",
    "            return 'Physical Force'\n",
    "            \n",
    "        \n",
    "    return s\n",
    "    \n",
    "\n",
    "\n",
    "\n",
    "train.loc[:,'Weapon_Description']=train['Weapon_Description'].apply(lambda x: gun(x))"
   ]
  },
  {
   "cell_type": "code",
   "execution_count": 28,
   "id": "6a517f42",
   "metadata": {
    "execution": {
     "iopub.execute_input": "2024-07-14T06:08:51.202616Z",
     "iopub.status.busy": "2024-07-14T06:08:51.202137Z",
     "iopub.status.idle": "2024-07-14T06:08:51.215634Z",
     "shell.execute_reply": "2024-07-14T06:08:51.214241Z"
    },
    "papermill": {
     "duration": 0.073596,
     "end_time": "2024-07-14T06:08:51.218139",
     "exception": false,
     "start_time": "2024-07-14T06:08:51.144543",
     "status": "completed"
    },
    "tags": []
   },
   "outputs": [
    {
     "name": "stdout",
     "output_type": "stream",
     "text": [
      "Number of unqiue values are\n"
     ]
    },
    {
     "data": {
      "text/plain": [
       "Weapon_Description\n",
       "NA                    12665\n",
       "Physical Force         4008\n",
       "sharp_heavy_object     1613\n",
       "other_weapon            772\n",
       "Gun                     687\n",
       "fire                    171\n",
       "VEHICLE                  84\n",
       "Name: count, dtype: int64"
      ]
     },
     "execution_count": 28,
     "metadata": {},
     "output_type": "execute_result"
    }
   ],
   "source": [
    "print('Number of unqiue values are')\n",
    "train['Weapon_Description'].value_counts()"
   ]
  },
  {
   "cell_type": "code",
   "execution_count": 29,
   "id": "b9128c04",
   "metadata": {
    "execution": {
     "iopub.execute_input": "2024-07-14T06:08:51.333594Z",
     "iopub.status.busy": "2024-07-14T06:08:51.332469Z",
     "iopub.status.idle": "2024-07-14T06:08:51.364765Z",
     "shell.execute_reply": "2024-07-14T06:08:51.363392Z"
    },
    "papermill": {
     "duration": 0.092043,
     "end_time": "2024-07-14T06:08:51.367627",
     "exception": false,
     "start_time": "2024-07-14T06:08:51.275584",
     "status": "completed"
    },
    "tags": []
   },
   "outputs": [],
   "source": [
    "distribution = train['Weapon_Description'][train['Weapon_Description'] != 'NA'].value_counts(normalize=True)\n",
    "\n",
    "missing = train[train['Weapon_Description']=='NA']['Weapon_Description'].count()\n",
    "\n",
    "imputed_values = np.random.choice(distribution.index, size=missing, p=distribution.values)\n",
    "\n",
    "\n",
    "train.loc[train['Weapon_Description']=='NA', 'Weapon_Description'] = imputed_values"
   ]
  },
  {
   "cell_type": "code",
   "execution_count": 30,
   "id": "892e57d4",
   "metadata": {
    "execution": {
     "iopub.execute_input": "2024-07-14T06:08:51.480091Z",
     "iopub.status.busy": "2024-07-14T06:08:51.479678Z",
     "iopub.status.idle": "2024-07-14T06:08:51.492273Z",
     "shell.execute_reply": "2024-07-14T06:08:51.491099Z"
    },
    "papermill": {
     "duration": 0.071812,
     "end_time": "2024-07-14T06:08:51.494747",
     "exception": false,
     "start_time": "2024-07-14T06:08:51.422935",
     "status": "completed"
    },
    "tags": []
   },
   "outputs": [
    {
     "data": {
      "text/plain": [
       "Weapon_Description\n",
       "Physical Force        10861\n",
       "sharp_heavy_object     4418\n",
       "other_weapon           2130\n",
       "Gun                    1870\n",
       "fire                    487\n",
       "VEHICLE                 234\n",
       "Name: count, dtype: int64"
      ]
     },
     "execution_count": 30,
     "metadata": {},
     "output_type": "execute_result"
    }
   ],
   "source": [
    "train['Weapon_Description'].value_counts()"
   ]
  },
  {
   "cell_type": "code",
   "execution_count": 31,
   "id": "80b6c181",
   "metadata": {
    "execution": {
     "iopub.execute_input": "2024-07-14T06:08:51.609268Z",
     "iopub.status.busy": "2024-07-14T06:08:51.608073Z",
     "iopub.status.idle": "2024-07-14T06:08:51.654031Z",
     "shell.execute_reply": "2024-07-14T06:08:51.652696Z"
    },
    "papermill": {
     "duration": 0.105149,
     "end_time": "2024-07-14T06:08:51.656606",
     "exception": false,
     "start_time": "2024-07-14T06:08:51.551457",
     "status": "completed"
    },
    "tags": []
   },
   "outputs": [
    {
     "data": {
      "text/plain": [
       "Location                     0\n",
       "Cross_Street                 0\n",
       "Latitude                     0\n",
       "Longitude                    0\n",
       "Date_Reported                0\n",
       "Date_Occurred                0\n",
       "Time_Occurred                0\n",
       "Area_ID                      0\n",
       "Area_Name                    0\n",
       "Reporting_District_no        0\n",
       "Part 1-2                     0\n",
       "Modus_Operandi               0\n",
       "Victim_Age                   0\n",
       "Victim_Sex                2624\n",
       "Victim_Descent            2624\n",
       "Premise_Code                 0\n",
       "Premise_Description          5\n",
       "Weapon_Used_Code         12665\n",
       "Weapon_Description           0\n",
       "Status                       0\n",
       "Status_Description           0\n",
       "Crime_Category               0\n",
       "activity_count               0\n",
       "dtype: int64"
      ]
     },
     "execution_count": 31,
     "metadata": {},
     "output_type": "execute_result"
    }
   ],
   "source": [
    "train.isnull().sum()"
   ]
  },
  {
   "cell_type": "markdown",
   "id": "871d40b4",
   "metadata": {
    "papermill": {
     "duration": 0.05469,
     "end_time": "2024-07-14T06:08:51.767635",
     "exception": false,
     "start_time": "2024-07-14T06:08:51.712945",
     "status": "completed"
    },
    "tags": []
   },
   "source": [
    "# Premise_Description , Premise_Code\n"
   ]
  },
  {
   "cell_type": "code",
   "execution_count": 32,
   "id": "a4d429d2",
   "metadata": {
    "execution": {
     "iopub.execute_input": "2024-07-14T06:08:51.880243Z",
     "iopub.status.busy": "2024-07-14T06:08:51.879811Z",
     "iopub.status.idle": "2024-07-14T06:08:51.892099Z",
     "shell.execute_reply": "2024-07-14T06:08:51.890893Z"
    },
    "papermill": {
     "duration": 0.072871,
     "end_time": "2024-07-14T06:08:51.895583",
     "exception": false,
     "start_time": "2024-07-14T06:08:51.822712",
     "status": "completed"
    },
    "tags": []
   },
   "outputs": [
    {
     "name": "stdout",
     "output_type": "stream",
     "text": [
      "Unique values are:\n",
      "\n",
      "[101. 216. 501. 401. 502. 202. 104. 108. 121. 102. 203. 122. 707. 503.\n",
      " 506. 509. 710. 103. 602. 519. 406. 751. 210. 123. 801. 601. 243. 242.\n",
      " 504. 124. 505. 119. 252. 109. 704. 152. 120. 301. 404. 720. 405. 402.\n",
      " 213. 514. 248. 702. 708. 834. 212. 416. 954. 158. 403. 701. 721. 725.\n",
      " 605. 726. 912. 729. 139. 145. 208. 719. 201. 141. 107. 222. 144. 116.\n",
      " 507. 221. 254. 757. 217. 110. 408. 146. 510. 750. 229. 727. 249. 236.\n",
      " 738. 516. 735. 716. 908. 232. 517. 722. 515. 874. 518. 118. 127. 151.\n",
      " 932. 411. 415. 910. 414. 220. 255. 407. 239. 156. 233. 717. 900. 956.\n",
      " 949. 218. 732. 936. 244. 835. 715. 410. 231. 728. 417. 207. 247. 206.\n",
      " 913. 733. 409. 811. 235. 724. 902. 712. 941. 117. 412. 705. 512. 907.\n",
      " 142. 903. 953. 511. 753. 736. 205. 897. 875. 138. 709. 128. 209. 230.\n",
      " 916. 723. 140. 157. 969. 135. 302. 958. 251. 921. 730. 809. 740. 957.\n",
      " 917. 905. 214. 148. 706. 909. 896. 418. 744. 911. 802. 154. 413. 895.\n",
      " 966. 219. 234. 948. 922. 603. 238. 906. 951. 935. 950. 112. 920. 968.\n",
      " 703. 227. 111. 868. 508. 943. 754. 225. 931. 215. 241. 741. 228. 915.\n",
      " 944. 755. 945. 904. 718. 739. 250.]\n",
      "\n",
      "\n",
      "['STREET' 'SWAP MEET' 'SINGLE FAMILY DWELLING' 'MINI-MART'\n",
      " 'MULTI-UNIT DWELLING (APARTMENT, DUPLEX, ETC)' 'LIQUOR STORE' 'DRIVEWAY'\n",
      " 'PARKING LOT' 'YARD (RESIDENTIAL/BUSINESS)' 'SIDEWALK' 'OTHER BUSINESS'\n",
      " 'VEHICLE, PASSENGER/TRUCK' 'GARAGE/CARPORT' 'HOTEL'\n",
      " 'ABANDONED BUILDING ABANDONED HOUSE'\n",
      " \"MOBILE HOME/TRAILERS/CONSTRUCTION TRAILERS/RV'S/MOTORHOME\"\n",
      " 'OTHER PREMISE' 'ALLEY' 'BANK' 'SHORT-TERM VACATION RENTAL' 'OTHER STORE'\n",
      " 'WEBSITE' 'RESTAURANT/FAST FOOD' 'PARKING UNDERGROUND/BUILDING' 'MTA BUS'\n",
      " 'SAVINGS & LOAN'\n",
      " \"DIY CENTER (LOWE'S,HOME DEPOT,OSH,CONTRACTORS WAREHOUSE)\"\n",
      " 'DISCOUNT STORE (99 CENT,DOLLAR,ETC.' 'OTHER RESIDENCE' 'BUS STOP'\n",
      " 'MOTEL' 'PORCH, RESIDENTIAL'\n",
      " \"COFFEE SHOP (STARBUCKS, COFFEE BEAN, PEET'S, ETC.)\" 'PARK/PLAYGROUND'\n",
      " 'ELEMENTARY SCHOOL' 'UNDERPASS/BRIDGE*' 'STORAGE SHED' 'GAS STATION'\n",
      " 'DEPARTMENT STORE' 'JUNIOR HIGH SCHOOL' 'CLOTHING STORE' 'MARKET'\n",
      " 'WAREHOUSE' 'GROUP HOME' 'CELL PHONE STORE' 'OFFICE BUILDING/OFFICE'\n",
      " 'CHURCH/CHAPEL (CHANGED 03-03 FROM CHURCH/TEMPLE)'\n",
      " 'LA UNION STATION (NOT LINE SPECIFIC)'\n",
      " 'TRANSPORTATION FACILITY (AIRPORT)' 'THE BEVERLY CENTER'\n",
      " 'MTA - EXPO LINE - EXPO/BUNDY' 'TRANSIENT ENCAMPMENT' 'DRUG STORE'\n",
      " 'HOSPITAL' 'HIGH SCHOOL'\n",
      " 'GOVERNMENT FACILITY (FEDERAL,STATE, COUNTY & CITY)'\n",
      " 'AUTOMATED TELLER MACHINE (ATM)' 'POLICE FACILITY'\n",
      " 'MTA - RED LINE - UNIVERSAL CITY/STUDIO CITY' 'SPECIALTY SCHOOL/OTHER'\n",
      " 'AMUSEMENT PARK*' 'MAIL BOX' 'AUTO SALES LOT' 'MEDICAL/DENTAL OFFICES'\n",
      " 'JEWELRY STORE' 'CEMETARY*' 'VACANT LOT' 'LAUNDROMAT' 'GOLF COURSE*'\n",
      " 'OTHER/OUTSIDE' 'CONDOMINIUM/TOWNHOUSE' 'PUBLIC STORAGE'\n",
      " 'STUDIO (FILM/PHOTOGRAPHIC/MUSIC)' 'BASKETBALL COURTS' 'AUTO REPAIR SHOP'\n",
      " 'FREEWAY' 'AUTO SUPPLY STORE*' 'PATIO*'\n",
      " 'NURSING/CONVALESCENT/RETIREMENT HOME' 'CYBERSPACE' 'CHECK CASHING*'\n",
      " 'SHOPPING MALL (COMMON AREA)' 'NURSERY/FLOWER SHOP'\n",
      " 'VISION CARE FACILITY*' 'LIBRARY'\n",
      " \"SINGLE RESIDENCE OCCUPANCY (SRO'S) LOCATIONS\"\n",
      " 'NIGHT CLUB (OPEN EVENINGS ONLY)' 'THEATRE/MOVIE'\n",
      " 'MTA - RED LINE - VERMONT/SUNSET'\n",
      " 'DELIVERY SERVICE (FED EX, UPS, COURIERS,COURIER SERVICE)*'\n",
      " 'MISSIONS/SHELTERS' 'COLLEGE/JUNIOR COLLEGE/UNIVERSITY'\n",
      " 'APARTMENT/CONDO COMMON LAUNDRY ROOM' 'MTA - ORANGE LINE - WOODLEY'\n",
      " 'TRANSITIONAL HOUSING/HALFWAY HOUSE' 'CONSTRUCTION SITE'\n",
      " 'TRASH CAN/TRASH DUMPSTER' 'TOW YARD*' 'MTA - BLUE LINE - PICO'\n",
      " 'PET STORE' 'THE GROVE' 'MTA - RED LINE - HOLLYWOOD/VINE' 'BOOK STORE'\n",
      " 'NAIL SALON' 'AUTO DEALERSHIP (CHEVY, FORD, BMW, MERCEDES, ETC.)'\n",
      " 'HARDWARE/BUILDING SUPPLY' 'MEDICAL MARIJUANA FACILITIES/BUSINESSES'\n",
      " 'VALET' 'TATTOO PARLOR*' 'HEALTH SPA/GYM'\n",
      " 'MTA - RED LINE - UNION STATION' 'MTA - GREEN LINE - AVALON'\n",
      " 'MTA - EXPO LINE - EXPO/LA BREA' 'BEAUTY/BARBER SHOP' 'POST OFFICE'\n",
      " 'MTA - BLUE LINE - VERNON' 'TOBACCO SHOP'\n",
      " '7TH AND METRO CENTER (NOT LINE SPECIFIC)'\n",
      " 'HORSE RACING/SANTA ANITA PARK*' 'MEMBERSHIP STORE (COSTCO,SAMS CLUB)*'\n",
      " 'DAY CARE/CHILDREN*' 'ELEVATOR' 'THE BEVERLY CONNECTION'\n",
      " 'BAR/COCKTAIL/NIGHTCLUB' 'CAR WASH' 'TV/RADIO/APPLIANCE'\n",
      " 'MTA - RED LINE - NORTH HOLLYWOOD' 'BAR/SPORTS BAR (OPEN DAY & NIGHT)'\n",
      " 'BEAUTY SUPPLY STORE' 'OTHER RR TRAIN (UNION PAC, SANTE FE ETC'\n",
      " 'PHARMACY INSIDE STORE OR SUPERMARKET*'\n",
      " 'TRADE SCHOOL (MEDICAL-TECHNICAL-BUSINESS)*'\n",
      " 'MTA - RED LINE - PERSHING SQUARE' 'COLISEUM' 'MTA - EXPO LINE - PICO'\n",
      " 'BEACH' 'ELECTRONICS STORE (IE:RADIO SHACK, ETC.)'\n",
      " 'SLIPS/DOCK/MARINA/BOAT' 'FOSTER HOME BOYS OR GIRLS*'\n",
      " 'MTA - RED LINE - VERMONT/SANTA MONICA' 'DRIVE THRU*'\n",
      " 'MTA - RED LINE - 7TH AND METRO CENTER'\n",
      " 'MTA - EXPO LINE - EXPO/SEPULVEDA' 'PROJECT/TENEMENT/PUBLIC HOUSING'\n",
      " 'DETENTION/JAIL FACILITY' 'SKATEBOARD FACILITY/SKATEBOARD PARK*'\n",
      " 'GUN/SPORTING GOODS' 'MTA - SILVER LINE - HARBOR GATEWAY TRANSIT CTR'\n",
      " 'MTA - ORANGE LINE - BALBOA' 'STAIRWELL*'\n",
      " 'PUBLIC RESTROOM(INDOORS-INSIDE)' 'BUS STOP/LAYOVER (ALSO QUERY 124)'\n",
      " 'EQUIPMENT RENTAL' 'DAY CARE/ADULTS*'\n",
      " 'MTA - PURPLE LINE - CIVIC CENTER/GRAND PARK' 'PRIVATE SCHOOL/PRESCHOOL'\n",
      " 'BALCONY*'\n",
      " \"VEHICLE STORAGE LOT (CARS, TRUCKS, RV'S, BOATS, TRAILERS, ETC.)\"\n",
      " 'MTA - GOLD LINE - HERITAGE SQ' 'MTA PROPERTY OR PARKING LOT' 'FACTORY'\n",
      " 'MTA - GREEN LINE - AVIATION/LAX' 'RECYCLING CENTER'\n",
      " 'MTA - PURPLE LINE - WILSHIRE/NORMANDIE' 'SYNAGOGUE/TEMPLE'\n",
      " 'METROLINK TRAIN' 'OTHER PLACE OF WORSHIP'\n",
      " 'MTA - GREEN LINE - HARBOR FWY' 'MTA - PURPLE LINE - PERSHING SQUARE'\n",
      " 'MTA - RED LINE - WILSHIRE/VERMONT' 'BUS DEPOT/TERMINAL, OTHER THAN MTA'\n",
      " 'PUBLIC RESTROOM/OUTSIDE*'\n",
      " \"SEX ORIENTED/BOOK STORE/STRIP CLUB/GENTLEMAN'S CLUB\"\n",
      " 'MTA - RED LINE - HOLLYWOOD/WESTERN' 'MTA - SILVER LINE - ROSECRANS' nan\n",
      " 'HIGH-RISE BUILDING' 'MTA - RED LINE - HOLLYWOOD/HIGHLAND'\n",
      " 'MUNICIPAL BUS LINE INCLUDES LADOT/DASH' 'TRAIN TRACKS' 'FURNITURE STORE'\n",
      " 'MTA - SILVER LINE - HARBOR FWY' 'MTA - GOLD LINE - UNION STATION'\n",
      " 'CLEANER/LAUNDROMAT' 'OPTICAL OFFICE INSIDE STORE OR SUPERMARKET*'\n",
      " 'MTA - EXPO LINE - FARMDALE' 'MTA - PURPLE LINE - WILSHIRE/WESTERN'\n",
      " 'CREDIT UNION' 'TELECOMMUNICATION FACILITY/LOCATION'\n",
      " 'MTA - RED LINE - VERMONT/BEVERLY' 'MTA - EXPO LINE - PALMS'\n",
      " 'MTA - BLUE LINE - WASHINGTON' 'MTA - EXPO LINE - LA CIENEGA/JEFFERSON'\n",
      " 'BUS, SCHOOL, CHURCH' 'MTA - PURPLE LINE - WILSHIRE/VERMONT'\n",
      " 'MTA - GOLD LINE - LINCOLN/CYPRESS' 'ENTERTAINMENT/COMEDY CLUB (OTHER)'\n",
      " 'ABORTION CLINIC/ABORTION FACILITY*' 'BUS-CHARTER/PRIVATE'\n",
      " 'MTA - ORANGE LINE - NORTH HOLLYWOOD' 'FRAT HOUSE/SORORITY/DORMITORY'\n",
      " 'MTA - EXPO LINE - JEFFERSON/USC' 'MUSEUM'\n",
      " 'RECORD-CD MUSIC/COMPUTER GAME STORE'\n",
      " 'MTA - BLUE LINE - 7TH AND METRO CENTER'\n",
      " 'TRAIN DEPOT/TERMINAL, OTHER THAN MTA' 'ENERGY PLANT/FACILITY'\n",
      " 'STAPLES CENTER *' 'BOWLING ALLEY*' 'MTA - PURPLE LINE - UNION STATION'\n",
      " 'MTA - EXPO LINE - EXPO PARK/USC' 'VETERINARIAN/ANIMAL HOSPITAL'\n",
      " 'MTA - EXPO LINE - EXPO/VERMONT'\n",
      " 'MTA - RED LINE - WESTLAKE/MACARTHUR PARK' 'MASSAGE PARLOR'\n",
      " 'SPORTS ARENA' 'COMPUTER SERVICES/REPAIRS/SALES']\n"
     ]
    }
   ],
   "source": [
    "print(\"Unique values are:\")\n",
    "print('')\n",
    "print(train['Premise_Code'].unique())\n",
    "\n",
    "print('')\n",
    "print('')\n",
    "\n",
    "print(train['Premise_Description'].unique())"
   ]
  },
  {
   "cell_type": "code",
   "execution_count": 33,
   "id": "e721c120",
   "metadata": {
    "execution": {
     "iopub.execute_input": "2024-07-14T06:08:52.008658Z",
     "iopub.status.busy": "2024-07-14T06:08:52.008211Z",
     "iopub.status.idle": "2024-07-14T06:08:52.043324Z",
     "shell.execute_reply": "2024-07-14T06:08:52.042061Z"
    },
    "papermill": {
     "duration": 0.095529,
     "end_time": "2024-07-14T06:08:52.046773",
     "exception": false,
     "start_time": "2024-07-14T06:08:51.951244",
     "status": "completed"
    },
    "tags": []
   },
   "outputs": [
    {
     "name": "stdout",
     "output_type": "stream",
     "text": [
      "value counts are:\n",
      "\n",
      "Premise_Code\n",
      "101.0    5033\n",
      "501.0    3379\n",
      "502.0    2491\n",
      "108.0    1437\n",
      "102.0     978\n",
      "         ... \n",
      "214.0       1\n",
      "909.0       1\n",
      "896.0       1\n",
      "744.0       1\n",
      "250.0       1\n",
      "Name: count, Length: 217, dtype: int64\n"
     ]
    },
    {
     "name": "stderr",
     "output_type": "stream",
     "text": [
      "/tmp/ipykernel_18/3041038907.py:1: FutureWarning: Setting an item of incompatible dtype is deprecated and will raise in a future error of pandas. Value '['101.0' '216.0' '501.0' ... '102.0' '501.0' '101.0']' has dtype incompatible with float64, please explicitly cast to a compatible dtype first.\n",
      "  train.loc[:,'Premise_Code']=train.loc[:,'Premise_Code'].astype(str)\n"
     ]
    }
   ],
   "source": [
    "train.loc[:,'Premise_Code']=train.loc[:,'Premise_Code'].astype(str)\n",
    "\n",
    "print(\"value counts are:\")\n",
    "print('')\n",
    "print(train['Premise_Code'].value_counts())\n"
   ]
  },
  {
   "cell_type": "markdown",
   "id": "727c0cdd",
   "metadata": {
    "papermill": {
     "duration": 0.055672,
     "end_time": "2024-07-14T06:08:52.158925",
     "exception": false,
     "start_time": "2024-07-14T06:08:52.103253",
     "status": "completed"
    },
    "tags": []
   },
   "source": [
    "# Victim_Sex "
   ]
  },
  {
   "cell_type": "code",
   "execution_count": 34,
   "id": "7d528e06",
   "metadata": {
    "execution": {
     "iopub.execute_input": "2024-07-14T06:08:52.275967Z",
     "iopub.status.busy": "2024-07-14T06:08:52.275530Z",
     "iopub.status.idle": "2024-07-14T06:08:52.313776Z",
     "shell.execute_reply": "2024-07-14T06:08:52.312561Z"
    },
    "papermill": {
     "duration": 0.100467,
     "end_time": "2024-07-14T06:08:52.316830",
     "exception": false,
     "start_time": "2024-07-14T06:08:52.216363",
     "status": "completed"
    },
    "tags": []
   },
   "outputs": [
    {
     "name": "stdout",
     "output_type": "stream",
     "text": [
      "Unique values of victim sex are ['M' 'X' 'F' nan 'H']\n",
      "\n",
      "\n",
      "Value counts are\n",
      "Victim_Sex\n",
      "M    8538\n",
      "F    7176\n",
      "X    1660\n",
      "H       2\n",
      "Name: count, dtype: int64\n",
      "\n",
      "\n",
      "Number of null values are 2624\n",
      "\n",
      "\n",
      "Number of null values after imputing are 0\n"
     ]
    }
   ],
   "source": [
    "print(\"Unique values of victim sex are\",train['Victim_Sex'].unique())\n",
    "\n",
    "\n",
    "print('')\n",
    "print('')\n",
    "\n",
    "print('Value counts are')\n",
    "print(train['Victim_Sex'].value_counts())\n",
    "\n",
    "print('')\n",
    "print('')\n",
    "\n",
    "\n",
    "print(\"Number of null values are\" , train['Victim_Sex'].isnull().sum())\n",
    "\n",
    "\n",
    "\n",
    "\n",
    "\n",
    "distribution_gender = train['Victim_Sex'].dropna().value_counts(normalize=True)\n",
    "\n",
    "missing_gender = train['Victim_Sex'].isna().sum()\n",
    "\n",
    "imputed_values_gender = np.random.choice(distribution_gender.index, size=missing_gender, p=distribution_gender.values)\n",
    "\n",
    "\n",
    "train.loc[train['Victim_Sex'].isna(), 'Victim_Sex'] = imputed_values_gender\n",
    "\n",
    "\n",
    "\n",
    "print('')\n",
    "print('')\n",
    "\n",
    "\n",
    "\n",
    "print(\"Number of null values after imputing are\" , train['Victim_Sex'].isnull().sum())\n",
    "\n",
    "train.loc[:,'Victim_Sex']=train.loc[:,'Victim_Sex'].replace('H','X')"
   ]
  },
  {
   "cell_type": "markdown",
   "id": "bf119c6a",
   "metadata": {
    "papermill": {
     "duration": 0.056114,
     "end_time": "2024-07-14T06:08:52.429479",
     "exception": false,
     "start_time": "2024-07-14T06:08:52.373365",
     "status": "completed"
    },
    "tags": []
   },
   "source": [
    "# Victim_Descent"
   ]
  },
  {
   "cell_type": "code",
   "execution_count": 35,
   "id": "5cc6dfc0",
   "metadata": {
    "execution": {
     "iopub.execute_input": "2024-07-14T06:08:52.545176Z",
     "iopub.status.busy": "2024-07-14T06:08:52.544244Z",
     "iopub.status.idle": "2024-07-14T06:08:52.563192Z",
     "shell.execute_reply": "2024-07-14T06:08:52.562124Z"
    },
    "papermill": {
     "duration": 0.080445,
     "end_time": "2024-07-14T06:08:52.565883",
     "exception": false,
     "start_time": "2024-07-14T06:08:52.485438",
     "status": "completed"
    },
    "tags": []
   },
   "outputs": [],
   "source": [
    "distribution_Descent = train['Victim_Descent'].dropna().value_counts(normalize=True)\n",
    "\n",
    "missing_Descent = train['Victim_Descent'].isna().sum()\n",
    "\n",
    "imputed_values_Descent = np.random.choice(distribution_Descent.index, size=missing_Descent, p=distribution_Descent.values)\n",
    "\n",
    "\n",
    "train.loc[train['Victim_Descent'].isna(), 'Victim_Descent'] = imputed_values_Descent\n",
    "\n"
   ]
  },
  {
   "cell_type": "code",
   "execution_count": 36,
   "id": "349512d7",
   "metadata": {
    "execution": {
     "iopub.execute_input": "2024-07-14T06:08:52.679293Z",
     "iopub.status.busy": "2024-07-14T06:08:52.678917Z",
     "iopub.status.idle": "2024-07-14T06:08:53.053060Z",
     "shell.execute_reply": "2024-07-14T06:08:53.051926Z"
    },
    "papermill": {
     "duration": 0.433986,
     "end_time": "2024-07-14T06:08:53.055720",
     "exception": false,
     "start_time": "2024-07-14T06:08:52.621734",
     "status": "completed"
    },
    "tags": []
   },
   "outputs": [
    {
     "name": "stdout",
     "output_type": "stream",
     "text": [
      "unique values are\n",
      "['W' 'H' 'B' 'X' 'O' 'A' 'K' 'C' 'F' 'I' 'J' 'V' 'Z' 'P' 'D' 'U' 'G']\n",
      "\n",
      "\n",
      "Victim_Descent\n",
      "H    7096\n",
      "W    4851\n",
      "B    3305\n",
      "X    2143\n",
      "O    1849\n",
      "A     492\n",
      "K      96\n",
      "F      56\n",
      "C      53\n",
      "J      21\n",
      "I      14\n",
      "V      10\n",
      "P       5\n",
      "Z       4\n",
      "D       2\n",
      "U       2\n",
      "G       1\n",
      "Name: count, dtype: int64\n"
     ]
    },
    {
     "data": {
      "text/plain": [
       "<Axes: xlabel='Victim_Descent'>"
      ]
     },
     "execution_count": 36,
     "metadata": {},
     "output_type": "execute_result"
    },
    {
     "data": {
      "image/png": "[encoded data removed]",
      "text/plain": [
       "<Figure size 640x480 with 1 Axes>"
      ]
     },
     "metadata": {},
     "output_type": "display_data"
    }
   ],
   "source": [
    "print('unique values are')\n",
    "print(train['Victim_Descent'].unique())\n",
    "\n",
    "print('')\n",
    "print('')\n",
    "\n",
    "print(train['Victim_Descent'].value_counts())\n",
    "\n",
    "Victim_Descent_value_counts=train['Victim_Descent'].value_counts()\n",
    "\n",
    "Victim_Descent_value_counts.plot(kind='bar')"
   ]
  },
  {
   "cell_type": "code",
   "execution_count": 37,
   "id": "edd94004",
   "metadata": {
    "execution": {
     "iopub.execute_input": "2024-07-14T06:08:53.171794Z",
     "iopub.status.busy": "2024-07-14T06:08:53.171359Z",
     "iopub.status.idle": "2024-07-14T06:08:53.223499Z",
     "shell.execute_reply": "2024-07-14T06:08:53.222074Z"
    },
    "papermill": {
     "duration": 0.11447,
     "end_time": "2024-07-14T06:08:53.226721",
     "exception": false,
     "start_time": "2024-07-14T06:08:53.112251",
     "status": "completed"
    },
    "tags": []
   },
   "outputs": [
    {
     "name": "stdout",
     "output_type": "stream",
     "text": [
      "<class 'pandas.core.frame.DataFrame'>\n",
      "RangeIndex: 20000 entries, 0 to 19999\n",
      "Data columns (total 23 columns):\n",
      " #   Column                 Non-Null Count  Dtype  \n",
      "---  ------                 --------------  -----  \n",
      " 0   Location               20000 non-null  object \n",
      " 1   Cross_Street           20000 non-null  object \n",
      " 2   Latitude               20000 non-null  float64\n",
      " 3   Longitude              20000 non-null  float64\n",
      " 4   Date_Reported          20000 non-null  object \n",
      " 5   Date_Occurred          20000 non-null  object \n",
      " 6   Time_Occurred          20000 non-null  float64\n",
      " 7   Area_ID                20000 non-null  object \n",
      " 8   Area_Name              20000 non-null  object \n",
      " 9   Reporting_District_no  20000 non-null  object \n",
      " 10  Part 1-2               20000 non-null  object \n",
      " 11  Modus_Operandi         20000 non-null  object \n",
      " 12  Victim_Age             20000 non-null  float64\n",
      " 13  Victim_Sex             20000 non-null  object \n",
      " 14  Victim_Descent         20000 non-null  object \n",
      " 15  Premise_Code           20000 non-null  object \n",
      " 16  Premise_Description    19995 non-null  object \n",
      " 17  Weapon_Used_Code       7335 non-null   float64\n",
      " 18  Weapon_Description     20000 non-null  object \n",
      " 19  Status                 20000 non-null  object \n",
      " 20  Status_Description     20000 non-null  object \n",
      " 21  Crime_Category         20000 non-null  object \n",
      " 22  activity_count         20000 non-null  int64  \n",
      "dtypes: float64(5), int64(1), object(17)\n",
      "memory usage: 3.5+ MB\n"
     ]
    }
   ],
   "source": [
    "train.info()"
   ]
  },
  {
   "cell_type": "markdown",
   "id": "6867ef02",
   "metadata": {
    "papermill": {
     "duration": 0.056825,
     "end_time": "2024-07-14T06:08:53.342686",
     "exception": false,
     "start_time": "2024-07-14T06:08:53.285861",
     "status": "completed"
    },
    "tags": []
   },
   "source": [
    "# Numerical Columns"
   ]
  },
  {
   "cell_type": "markdown",
   "id": "a4ed29e2",
   "metadata": {
    "papermill": {
     "duration": 0.056002,
     "end_time": "2024-07-14T06:08:53.455078",
     "exception": false,
     "start_time": "2024-07-14T06:08:53.399076",
     "status": "completed"
    },
    "tags": []
   },
   "source": [
    "# Date_Reported ,Date_Occurred"
   ]
  },
  {
   "cell_type": "code",
   "execution_count": 38,
   "id": "04108d40",
   "metadata": {
    "execution": {
     "iopub.execute_input": "2024-07-14T06:08:53.569613Z",
     "iopub.status.busy": "2024-07-14T06:08:53.569185Z",
     "iopub.status.idle": "2024-07-14T06:08:53.599538Z",
     "shell.execute_reply": "2024-07-14T06:08:53.598371Z"
    },
    "papermill": {
     "duration": 0.090941,
     "end_time": "2024-07-14T06:08:53.602191",
     "exception": false,
     "start_time": "2024-07-14T06:08:53.511250",
     "status": "completed"
    },
    "tags": []
   },
   "outputs": [],
   "source": [
    "def day_category(x):\n",
    "    if 400<=x<1200:\n",
    "        return 'Morning'\n",
    "    elif 1200<=x<1700:\n",
    "        return 'Daytime'\n",
    "    elif 1800<=x<2100:\n",
    "        return 'Evening'\n",
    "    else:\n",
    "        return 'Night'\n",
    "    \n",
    "train['day_category']=train['Time_Occurred'].apply(day_category )   \n",
    "train.drop('Time_Occurred',inplace=True,axis=1)"
   ]
  },
  {
   "cell_type": "code",
   "execution_count": 39,
   "id": "7cc8a788",
   "metadata": {
    "execution": {
     "iopub.execute_input": "2024-07-14T06:08:53.716687Z",
     "iopub.status.busy": "2024-07-14T06:08:53.716201Z",
     "iopub.status.idle": "2024-07-14T06:09:15.576627Z",
     "shell.execute_reply": "2024-07-14T06:09:15.575397Z"
    },
    "papermill": {
     "duration": 21.92085,
     "end_time": "2024-07-14T06:09:15.579468",
     "exception": false,
     "start_time": "2024-07-14T06:08:53.658618",
     "status": "completed"
    },
    "tags": []
   },
   "outputs": [],
   "source": [
    "\n",
    "def extract_date(d):\n",
    "    str(d)\n",
    "    date=d.split(' ')[0]\n",
    "    \n",
    "    \n",
    "    date=pd.to_datetime(date).date()\n",
    "    \n",
    "    \n",
    "    return date\n",
    "    \n",
    "train['Date_Reported']=train['Date_Reported'].apply(extract_date)\n",
    "train['Date_Occurred']=train['Date_Occurred'].apply(extract_date)\n",
    "    \n",
    "# k=train['Date_Reported'][0]-train['Date_Occurred'][0]\n",
    "# k.days\n",
    "\n",
    "\n",
    "#converting to datetime\n",
    "\n",
    "train['Date_Reported']=pd.to_datetime(train['Date_Reported']).dt.date\n",
    "train['Date_Occurred']=pd.to_datetime(train['Date_Occurred']).dt.date\n",
    "\n",
    "#this gives daysss anf time too \n",
    "train['reporting_delay_day_count']=(train['Date_Reported']-train['Date_Occurred'])\n",
    "\n",
    "# this day count calculate the days count \n",
    "def day_count(d):\n",
    "    return d.days\n",
    "train['reporting_delay_day_count']=train['reporting_delay_day_count'].apply(day_count)\n",
    "\n",
    "\n",
    "\n",
    "\n",
    "# dropping the date reported and date occured cols\n",
    "\n",
    "\n",
    "train.drop(['Date_Reported','Date_Occurred'],axis=1, inplace=True)"
   ]
  },
  {
   "cell_type": "code",
   "execution_count": 40,
   "id": "cf657278",
   "metadata": {
    "execution": {
     "iopub.execute_input": "2024-07-14T06:09:15.694590Z",
     "iopub.status.busy": "2024-07-14T06:09:15.694035Z",
     "iopub.status.idle": "2024-07-14T06:09:15.699214Z",
     "shell.execute_reply": "2024-07-14T06:09:15.698008Z"
    },
    "papermill": {
     "duration": 0.065688,
     "end_time": "2024-07-14T06:09:15.701708",
     "exception": false,
     "start_time": "2024-07-14T06:09:15.636020",
     "status": "completed"
    },
    "tags": []
   },
   "outputs": [],
   "source": [
    "# df=train[['Latitude','Longitude','reporting_delay_day_count','day_category','Victim_Age','Victim_Sex','Victim_Descent','Premise_Code','Weapon_Description','Weapon_Used_Code','Area_ID','Modus_Operandi','Part 1-2','Status','Crime_Category']]"
   ]
  },
  {
   "cell_type": "code",
   "execution_count": 41,
   "id": "f58e7c49",
   "metadata": {
    "execution": {
     "iopub.execute_input": "2024-07-14T06:09:15.816841Z",
     "iopub.status.busy": "2024-07-14T06:09:15.816099Z",
     "iopub.status.idle": "2024-07-14T06:09:15.820843Z",
     "shell.execute_reply": "2024-07-14T06:09:15.819758Z"
    },
    "papermill": {
     "duration": 0.064735,
     "end_time": "2024-07-14T06:09:15.823261",
     "exception": false,
     "start_time": "2024-07-14T06:09:15.758526",
     "status": "completed"
    },
    "tags": []
   },
   "outputs": [],
   "source": [
    "# def victim_gender(val):\n",
    "#     if val=='H' or pd.isna(val):\n",
    "#         val='X'\n",
    "#     return val\n",
    "\n",
    "\n",
    "# df.loc[:,'Victim_Sex'] = df['Victim_Sex'].apply(victim_gender)"
   ]
  },
  {
   "cell_type": "code",
   "execution_count": 42,
   "id": "6c529e62",
   "metadata": {
    "execution": {
     "iopub.execute_input": "2024-07-14T06:09:15.938772Z",
     "iopub.status.busy": "2024-07-14T06:09:15.937748Z",
     "iopub.status.idle": "2024-07-14T06:09:15.942729Z",
     "shell.execute_reply": "2024-07-14T06:09:15.941546Z"
    },
    "papermill": {
     "duration": 0.06512,
     "end_time": "2024-07-14T06:09:15.945034",
     "exception": false,
     "start_time": "2024-07-14T06:09:15.879914",
     "status": "completed"
    },
    "tags": []
   },
   "outputs": [],
   "source": [
    "# unique_values_weapon=pd.DataFrame(df['Weapon_Description'])\n",
    "# unique_values_weapon.value_counts(normalize=True)"
   ]
  },
  {
   "cell_type": "code",
   "execution_count": 43,
   "id": "b3a73ccd",
   "metadata": {
    "execution": {
     "iopub.execute_input": "2024-07-14T06:09:16.059775Z",
     "iopub.status.busy": "2024-07-14T06:09:16.058893Z",
     "iopub.status.idle": "2024-07-14T06:09:16.063803Z",
     "shell.execute_reply": "2024-07-14T06:09:16.062759Z"
    },
    "papermill": {
     "duration": 0.064905,
     "end_time": "2024-07-14T06:09:16.066200",
     "exception": false,
     "start_time": "2024-07-14T06:09:16.001295",
     "status": "completed"
    },
    "tags": []
   },
   "outputs": [],
   "source": [
    "# distribution = df['Weapon_Description'].dropna().value_counts(normalize=True)\n",
    "\n",
    "# missing = df['Weapon_Description'].isnull().sum()\n",
    "\n",
    "# imputed_values = np.random.choice(distribution.index, size=missing, p=distribution.values)\n",
    "\n",
    "# # Impute the missing values\n",
    "# df.loc[df['Weapon_Description'].isnull(), 'Weapon_Description'] = imputed_values\n"
   ]
  },
  {
   "cell_type": "code",
   "execution_count": 44,
   "id": "13d43e73",
   "metadata": {
    "execution": {
     "iopub.execute_input": "2024-07-14T06:09:16.182522Z",
     "iopub.status.busy": "2024-07-14T06:09:16.181432Z",
     "iopub.status.idle": "2024-07-14T06:09:16.186650Z",
     "shell.execute_reply": "2024-07-14T06:09:16.185433Z"
    },
    "papermill": {
     "duration": 0.065637,
     "end_time": "2024-07-14T06:09:16.189139",
     "exception": false,
     "start_time": "2024-07-14T06:09:16.123502",
     "status": "completed"
    },
    "tags": []
   },
   "outputs": [],
   "source": [
    "# distribution = df['Victim_Descent'].dropna().value_counts(normalize=True)\n",
    "\n",
    "# missing = df['Victim_Descent'].isnull().sum()\n",
    "\n",
    "# imputed_values = np.random.choice(distribution.index, size=missing, p=distribution.values)\n",
    "\n",
    "# df.loc[df['Victim_Descent'].isnull(), 'Victim_Descent'] = imputed_values"
   ]
  },
  {
   "cell_type": "markdown",
   "id": "3dff342a",
   "metadata": {
    "execution": {
     "iopub.execute_input": "2024-06-18T11:25:46.853966Z",
     "iopub.status.busy": "2024-06-18T11:25:46.853487Z",
     "iopub.status.idle": "2024-06-18T11:25:48.288787Z",
     "shell.execute_reply": "2024-06-18T11:25:48.287061Z",
     "shell.execute_reply.started": "2024-06-18T11:25:46.853929Z"
    },
    "papermill": {
     "duration": 0.056451,
     "end_time": "2024-07-14T06:09:16.303509",
     "exception": false,
     "start_time": "2024-07-14T06:09:16.247058",
     "status": "completed"
    },
    "tags": []
   },
   "source": [
    " df.drop('Weapon_Used_Code',inplace=True,axis=1)"
   ]
  },
  {
   "cell_type": "code",
   "execution_count": 45,
   "id": "23823b6c",
   "metadata": {
    "execution": {
     "iopub.execute_input": "2024-07-14T06:09:16.421666Z",
     "iopub.status.busy": "2024-07-14T06:09:16.420351Z",
     "iopub.status.idle": "2024-07-14T06:09:16.426209Z",
     "shell.execute_reply": "2024-07-14T06:09:16.425136Z"
    },
    "papermill": {
     "duration": 0.067308,
     "end_time": "2024-07-14T06:09:16.428730",
     "exception": false,
     "start_time": "2024-07-14T06:09:16.361422",
     "status": "completed"
    },
    "tags": []
   },
   "outputs": [],
   "source": [
    "# df.drop('Weapon_Used_Code',inplace=True,axis=1)\n"
   ]
  },
  {
   "cell_type": "code",
   "execution_count": 46,
   "id": "7719eb2c",
   "metadata": {
    "execution": {
     "iopub.execute_input": "2024-07-14T06:09:16.544280Z",
     "iopub.status.busy": "2024-07-14T06:09:16.543209Z",
     "iopub.status.idle": "2024-07-14T06:09:16.548051Z",
     "shell.execute_reply": "2024-07-14T06:09:16.547076Z"
    },
    "papermill": {
     "duration": 0.065129,
     "end_time": "2024-07-14T06:09:16.550537",
     "exception": false,
     "start_time": "2024-07-14T06:09:16.485408",
     "status": "completed"
    },
    "tags": []
   },
   "outputs": [],
   "source": [
    "# df.loc[:,'max_activity']=df['Modus_Operandi'].apply(lambda x: len(x))"
   ]
  },
  {
   "cell_type": "code",
   "execution_count": 47,
   "id": "2c15383f",
   "metadata": {
    "execution": {
     "iopub.execute_input": "2024-07-14T06:09:16.665726Z",
     "iopub.status.busy": "2024-07-14T06:09:16.665280Z",
     "iopub.status.idle": "2024-07-14T06:09:16.670044Z",
     "shell.execute_reply": "2024-07-14T06:09:16.668928Z"
    },
    "papermill": {
     "duration": 0.065763,
     "end_time": "2024-07-14T06:09:16.672616",
     "exception": false,
     "start_time": "2024-07-14T06:09:16.606853",
     "status": "completed"
    },
    "tags": []
   },
   "outputs": [],
   "source": [
    "# df.loc[:,'Premise_Code']=df['Premise_Code'].apply(lambda x : int(x))"
   ]
  },
  {
   "cell_type": "code",
   "execution_count": 48,
   "id": "c03f7a98",
   "metadata": {
    "execution": {
     "iopub.execute_input": "2024-07-14T06:09:16.790098Z",
     "iopub.status.busy": "2024-07-14T06:09:16.789402Z",
     "iopub.status.idle": "2024-07-14T06:09:16.794129Z",
     "shell.execute_reply": "2024-07-14T06:09:16.793153Z"
    },
    "papermill": {
     "duration": 0.066194,
     "end_time": "2024-07-14T06:09:16.796881",
     "exception": false,
     "start_time": "2024-07-14T06:09:16.730687",
     "status": "completed"
    },
    "tags": []
   },
   "outputs": [],
   "source": [
    "# df.loc[:,'Area_ID']=df['Area_ID'].apply(lambda x : int(x))\n",
    "# df.loc[:,'Part 1-2']=df['Part 1-2'].apply(lambda x : int(x))\n"
   ]
  },
  {
   "cell_type": "code",
   "execution_count": 49,
   "id": "5620df36",
   "metadata": {
    "execution": {
     "iopub.execute_input": "2024-07-14T06:09:16.914663Z",
     "iopub.status.busy": "2024-07-14T06:09:16.913637Z",
     "iopub.status.idle": "2024-07-14T06:09:16.989860Z",
     "shell.execute_reply": "2024-07-14T06:09:16.988722Z"
    },
    "papermill": {
     "duration": 0.137808,
     "end_time": "2024-07-14T06:09:16.992488",
     "exception": false,
     "start_time": "2024-07-14T06:09:16.854680",
     "status": "completed"
    },
    "tags": []
   },
   "outputs": [
    {
     "data": {
      "text/html": [
       "<div>\n",
       "<style scoped>\n",
       "    .dataframe tbody tr th:only-of-type {\n",
       "        vertical-align: middle;\n",
       "    }\n",
       "\n",
       "    .dataframe tbody tr th {\n",
       "        vertical-align: top;\n",
       "    }\n",
       "\n",
       "    .dataframe thead th {\n",
       "        text-align: right;\n",
       "    }\n",
       "</style>\n",
       "<table border=\"1\" class=\"dataframe\">\n",
       "  <thead>\n",
       "    <tr style=\"text-align: right;\">\n",
       "      <th></th>\n",
       "      <th>Location</th>\n",
       "      <th>Cross_Street</th>\n",
       "      <th>Latitude</th>\n",
       "      <th>Longitude</th>\n",
       "      <th>Area_ID</th>\n",
       "      <th>Area_Name</th>\n",
       "      <th>Reporting_District_no</th>\n",
       "      <th>Part 1-2</th>\n",
       "      <th>Modus_Operandi</th>\n",
       "      <th>Victim_Age</th>\n",
       "      <th>...</th>\n",
       "      <th>Premise_Code</th>\n",
       "      <th>Premise_Description</th>\n",
       "      <th>Weapon_Used_Code</th>\n",
       "      <th>Weapon_Description</th>\n",
       "      <th>Status</th>\n",
       "      <th>Status_Description</th>\n",
       "      <th>Crime_Category</th>\n",
       "      <th>activity_count</th>\n",
       "      <th>day_category</th>\n",
       "      <th>reporting_delay_day_count</th>\n",
       "    </tr>\n",
       "  </thead>\n",
       "  <tbody>\n",
       "    <tr>\n",
       "      <th>0</th>\n",
       "      <td>4500 CARPENTER AV</td>\n",
       "      <td></td>\n",
       "      <td>34.1522</td>\n",
       "      <td>-118.3910</td>\n",
       "      <td>15.0</td>\n",
       "      <td>N Hollywood</td>\n",
       "      <td>1563.0</td>\n",
       "      <td>1.0</td>\n",
       "      <td>0385</td>\n",
       "      <td>75.0</td>\n",
       "      <td>...</td>\n",
       "      <td>101.0</td>\n",
       "      <td>STREET</td>\n",
       "      <td>NaN</td>\n",
       "      <td>Physical Force</td>\n",
       "      <td>IC</td>\n",
       "      <td>Invest Cont</td>\n",
       "      <td>Property Crimes</td>\n",
       "      <td>1</td>\n",
       "      <td>Evening</td>\n",
       "      <td>3</td>\n",
       "    </tr>\n",
       "    <tr>\n",
       "      <th>1</th>\n",
       "      <td>45TH ST</td>\n",
       "      <td>ALAMEDA ST</td>\n",
       "      <td>34.0028</td>\n",
       "      <td>-118.2391</td>\n",
       "      <td>13.0</td>\n",
       "      <td>Newton</td>\n",
       "      <td>1367.0</td>\n",
       "      <td>1.0</td>\n",
       "      <td>0906 0352 0371 0446 1822 0344 0416 0417</td>\n",
       "      <td>41.0</td>\n",
       "      <td>...</td>\n",
       "      <td>216.0</td>\n",
       "      <td>SWAP MEET</td>\n",
       "      <td>400.0</td>\n",
       "      <td>Physical Force</td>\n",
       "      <td>IC</td>\n",
       "      <td>Invest Cont</td>\n",
       "      <td>Property Crimes</td>\n",
       "      <td>8</td>\n",
       "      <td>Daytime</td>\n",
       "      <td>0</td>\n",
       "    </tr>\n",
       "    <tr>\n",
       "      <th>2</th>\n",
       "      <td>600 E MARTIN LUTHER KING JR BL</td>\n",
       "      <td></td>\n",
       "      <td>34.0111</td>\n",
       "      <td>-118.2653</td>\n",
       "      <td>13.0</td>\n",
       "      <td>Newton</td>\n",
       "      <td>1343.0</td>\n",
       "      <td>2.0</td>\n",
       "      <td>0329 1202</td>\n",
       "      <td>67.0</td>\n",
       "      <td>...</td>\n",
       "      <td>501.0</td>\n",
       "      <td>SINGLE FAMILY DWELLING</td>\n",
       "      <td>NaN</td>\n",
       "      <td>other_weapon</td>\n",
       "      <td>IC</td>\n",
       "      <td>Invest Cont</td>\n",
       "      <td>Property Crimes</td>\n",
       "      <td>2</td>\n",
       "      <td>Morning</td>\n",
       "      <td>0</td>\n",
       "    </tr>\n",
       "    <tr>\n",
       "      <th>3</th>\n",
       "      <td>14900 ORO GRANDE ST</td>\n",
       "      <td></td>\n",
       "      <td>34.2953</td>\n",
       "      <td>-118.4590</td>\n",
       "      <td>19.0</td>\n",
       "      <td>Mission</td>\n",
       "      <td>1924.0</td>\n",
       "      <td>1.0</td>\n",
       "      <td>0329 1300</td>\n",
       "      <td>61.0</td>\n",
       "      <td>...</td>\n",
       "      <td>101.0</td>\n",
       "      <td>STREET</td>\n",
       "      <td>NaN</td>\n",
       "      <td>sharp_heavy_object</td>\n",
       "      <td>IC</td>\n",
       "      <td>Invest Cont</td>\n",
       "      <td>Property Crimes</td>\n",
       "      <td>2</td>\n",
       "      <td>Evening</td>\n",
       "      <td>2</td>\n",
       "    </tr>\n",
       "    <tr>\n",
       "      <th>4</th>\n",
       "      <td>7100 S VERMONT AV</td>\n",
       "      <td></td>\n",
       "      <td>33.9787</td>\n",
       "      <td>-118.2918</td>\n",
       "      <td>12.0</td>\n",
       "      <td>77th Street</td>\n",
       "      <td>1245.0</td>\n",
       "      <td>1.0</td>\n",
       "      <td>0416 0945 1822 0400 0417 0344</td>\n",
       "      <td>0.0</td>\n",
       "      <td>...</td>\n",
       "      <td>401.0</td>\n",
       "      <td>MINI-MART</td>\n",
       "      <td>400.0</td>\n",
       "      <td>Physical Force</td>\n",
       "      <td>IC</td>\n",
       "      <td>Invest Cont</td>\n",
       "      <td>Property Crimes</td>\n",
       "      <td>6</td>\n",
       "      <td>Morning</td>\n",
       "      <td>0</td>\n",
       "    </tr>\n",
       "    <tr>\n",
       "      <th>...</th>\n",
       "      <td>...</td>\n",
       "      <td>...</td>\n",
       "      <td>...</td>\n",
       "      <td>...</td>\n",
       "      <td>...</td>\n",
       "      <td>...</td>\n",
       "      <td>...</td>\n",
       "      <td>...</td>\n",
       "      <td>...</td>\n",
       "      <td>...</td>\n",
       "      <td>...</td>\n",
       "      <td>...</td>\n",
       "      <td>...</td>\n",
       "      <td>...</td>\n",
       "      <td>...</td>\n",
       "      <td>...</td>\n",
       "      <td>...</td>\n",
       "      <td>...</td>\n",
       "      <td>...</td>\n",
       "      <td>...</td>\n",
       "      <td>...</td>\n",
       "    </tr>\n",
       "    <tr>\n",
       "      <th>19995</th>\n",
       "      <td>5100 W ADAMS BL</td>\n",
       "      <td></td>\n",
       "      <td>34.0334</td>\n",
       "      <td>-118.3523</td>\n",
       "      <td>3.0</td>\n",
       "      <td>Southwest</td>\n",
       "      <td>303.0</td>\n",
       "      <td>2.0</td>\n",
       "      <td>0416 0446 2004 0913</td>\n",
       "      <td>51.0</td>\n",
       "      <td>...</td>\n",
       "      <td>501.0</td>\n",
       "      <td>SINGLE FAMILY DWELLING</td>\n",
       "      <td>400.0</td>\n",
       "      <td>Physical Force</td>\n",
       "      <td>IC</td>\n",
       "      <td>Invest Cont</td>\n",
       "      <td>Violent Crimes</td>\n",
       "      <td>4</td>\n",
       "      <td>Morning</td>\n",
       "      <td>0</td>\n",
       "    </tr>\n",
       "    <tr>\n",
       "      <th>19996</th>\n",
       "      <td>16900 ROSCOE BL</td>\n",
       "      <td></td>\n",
       "      <td>34.2212</td>\n",
       "      <td>-118.5011</td>\n",
       "      <td>10.0</td>\n",
       "      <td>West Valley</td>\n",
       "      <td>1008.0</td>\n",
       "      <td>1.0</td>\n",
       "      <td>1822 0209 0344 1414 1420</td>\n",
       "      <td>0.0</td>\n",
       "      <td>...</td>\n",
       "      <td>301.0</td>\n",
       "      <td>GAS STATION</td>\n",
       "      <td>NaN</td>\n",
       "      <td>sharp_heavy_object</td>\n",
       "      <td>IC</td>\n",
       "      <td>Invest Cont</td>\n",
       "      <td>Property Crimes</td>\n",
       "      <td>5</td>\n",
       "      <td>Night</td>\n",
       "      <td>0</td>\n",
       "    </tr>\n",
       "    <tr>\n",
       "      <th>19997</th>\n",
       "      <td>1000 S SHENANDOAH ST</td>\n",
       "      <td></td>\n",
       "      <td>34.0571</td>\n",
       "      <td>-118.3815</td>\n",
       "      <td>8.0</td>\n",
       "      <td>West LA</td>\n",
       "      <td>849.0</td>\n",
       "      <td>1.0</td>\n",
       "      <td>0344 1822 1420</td>\n",
       "      <td>42.0</td>\n",
       "      <td>...</td>\n",
       "      <td>102.0</td>\n",
       "      <td>SIDEWALK</td>\n",
       "      <td>NaN</td>\n",
       "      <td>Physical Force</td>\n",
       "      <td>IC</td>\n",
       "      <td>Invest Cont</td>\n",
       "      <td>Property Crimes</td>\n",
       "      <td>3</td>\n",
       "      <td>Daytime</td>\n",
       "      <td>0</td>\n",
       "    </tr>\n",
       "    <tr>\n",
       "      <th>19998</th>\n",
       "      <td>300 W SEPULVEDA ST</td>\n",
       "      <td></td>\n",
       "      <td>33.7451</td>\n",
       "      <td>-118.2835</td>\n",
       "      <td>5.0</td>\n",
       "      <td>Harbor</td>\n",
       "      <td>558.0</td>\n",
       "      <td>2.0</td>\n",
       "      <td>1202 2038 0913 0602 1242 0553</td>\n",
       "      <td>76.0</td>\n",
       "      <td>...</td>\n",
       "      <td>501.0</td>\n",
       "      <td>SINGLE FAMILY DWELLING</td>\n",
       "      <td>NaN</td>\n",
       "      <td>other_weapon</td>\n",
       "      <td>IC</td>\n",
       "      <td>Invest Cont</td>\n",
       "      <td>Crimes against Public Order</td>\n",
       "      <td>6</td>\n",
       "      <td>Morning</td>\n",
       "      <td>0</td>\n",
       "    </tr>\n",
       "    <tr>\n",
       "      <th>19999</th>\n",
       "      <td>DALTON AV</td>\n",
       "      <td>VERNON AV</td>\n",
       "      <td>34.0037</td>\n",
       "      <td>-118.3034</td>\n",
       "      <td>3.0</td>\n",
       "      <td>Southwest</td>\n",
       "      <td>397.0</td>\n",
       "      <td>1.0</td>\n",
       "      <td></td>\n",
       "      <td>0.0</td>\n",
       "      <td>...</td>\n",
       "      <td>101.0</td>\n",
       "      <td>STREET</td>\n",
       "      <td>NaN</td>\n",
       "      <td>other_weapon</td>\n",
       "      <td>IC</td>\n",
       "      <td>Invest Cont</td>\n",
       "      <td>Property Crimes</td>\n",
       "      <td>0</td>\n",
       "      <td>Evening</td>\n",
       "      <td>1</td>\n",
       "    </tr>\n",
       "  </tbody>\n",
       "</table>\n",
       "<p>20000 rows × 22 columns</p>\n",
       "</div>"
      ],
      "text/plain": [
       "                             Location Cross_Street  Latitude  Longitude  \\\n",
       "0                   4500 CARPENTER AV                34.1522  -118.3910   \n",
       "1                             45TH ST   ALAMEDA ST   34.0028  -118.2391   \n",
       "2      600 E MARTIN LUTHER KING JR BL                34.0111  -118.2653   \n",
       "3                 14900 ORO GRANDE ST                34.2953  -118.4590   \n",
       "4                   7100 S VERMONT AV                33.9787  -118.2918   \n",
       "...                               ...          ...       ...        ...   \n",
       "19995                 5100 W ADAMS BL                34.0334  -118.3523   \n",
       "19996                 16900 ROSCOE BL                34.2212  -118.5011   \n",
       "19997            1000 S SHENANDOAH ST                34.0571  -118.3815   \n",
       "19998              300 W SEPULVEDA ST                33.7451  -118.2835   \n",
       "19999                       DALTON AV    VERNON AV   34.0037  -118.3034   \n",
       "\n",
       "      Area_ID    Area_Name Reporting_District_no Part 1-2  \\\n",
       "0        15.0  N Hollywood                1563.0      1.0   \n",
       "1        13.0       Newton                1367.0      1.0   \n",
       "2        13.0       Newton                1343.0      2.0   \n",
       "3        19.0      Mission                1924.0      1.0   \n",
       "4        12.0  77th Street                1245.0      1.0   \n",
       "...       ...          ...                   ...      ...   \n",
       "19995     3.0    Southwest                 303.0      2.0   \n",
       "19996    10.0  West Valley                1008.0      1.0   \n",
       "19997     8.0      West LA                 849.0      1.0   \n",
       "19998     5.0       Harbor                 558.0      2.0   \n",
       "19999     3.0    Southwest                 397.0      1.0   \n",
       "\n",
       "                                Modus_Operandi  Victim_Age  ... Premise_Code  \\\n",
       "0                                         0385        75.0  ...        101.0   \n",
       "1      0906 0352 0371 0446 1822 0344 0416 0417        41.0  ...        216.0   \n",
       "2                                    0329 1202        67.0  ...        501.0   \n",
       "3                                    0329 1300        61.0  ...        101.0   \n",
       "4                0416 0945 1822 0400 0417 0344         0.0  ...        401.0   \n",
       "...                                        ...         ...  ...          ...   \n",
       "19995                      0416 0446 2004 0913        51.0  ...        501.0   \n",
       "19996                 1822 0209 0344 1414 1420         0.0  ...        301.0   \n",
       "19997                           0344 1822 1420        42.0  ...        102.0   \n",
       "19998            1202 2038 0913 0602 1242 0553        76.0  ...        501.0   \n",
       "19999                                                  0.0  ...        101.0   \n",
       "\n",
       "          Premise_Description Weapon_Used_Code  Weapon_Description  Status  \\\n",
       "0                      STREET              NaN      Physical Force      IC   \n",
       "1                   SWAP MEET            400.0      Physical Force      IC   \n",
       "2      SINGLE FAMILY DWELLING              NaN        other_weapon      IC   \n",
       "3                      STREET              NaN  sharp_heavy_object      IC   \n",
       "4                   MINI-MART            400.0      Physical Force      IC   \n",
       "...                       ...              ...                 ...     ...   \n",
       "19995  SINGLE FAMILY DWELLING            400.0      Physical Force      IC   \n",
       "19996             GAS STATION              NaN  sharp_heavy_object      IC   \n",
       "19997                SIDEWALK              NaN      Physical Force      IC   \n",
       "19998  SINGLE FAMILY DWELLING              NaN        other_weapon      IC   \n",
       "19999                  STREET              NaN        other_weapon      IC   \n",
       "\n",
       "      Status_Description               Crime_Category activity_count  \\\n",
       "0            Invest Cont              Property Crimes              1   \n",
       "1            Invest Cont              Property Crimes              8   \n",
       "2            Invest Cont              Property Crimes              2   \n",
       "3            Invest Cont              Property Crimes              2   \n",
       "4            Invest Cont              Property Crimes              6   \n",
       "...                  ...                          ...            ...   \n",
       "19995        Invest Cont               Violent Crimes              4   \n",
       "19996        Invest Cont              Property Crimes              5   \n",
       "19997        Invest Cont              Property Crimes              3   \n",
       "19998        Invest Cont  Crimes against Public Order              6   \n",
       "19999        Invest Cont              Property Crimes              0   \n",
       "\n",
       "      day_category  reporting_delay_day_count  \n",
       "0          Evening                          3  \n",
       "1          Daytime                          0  \n",
       "2          Morning                          0  \n",
       "3          Evening                          2  \n",
       "4          Morning                          0  \n",
       "...            ...                        ...  \n",
       "19995      Morning                          0  \n",
       "19996        Night                          0  \n",
       "19997      Daytime                          0  \n",
       "19998      Morning                          0  \n",
       "19999      Evening                          1  \n",
       "\n",
       "[20000 rows x 22 columns]"
      ]
     },
     "execution_count": 49,
     "metadata": {},
     "output_type": "execute_result"
    }
   ],
   "source": [
    "train"
   ]
  },
  {
   "cell_type": "code",
   "execution_count": 50,
   "id": "b2c05ee9",
   "metadata": {
    "execution": {
     "iopub.execute_input": "2024-07-14T06:09:17.108746Z",
     "iopub.status.busy": "2024-07-14T06:09:17.107976Z",
     "iopub.status.idle": "2024-07-14T06:09:17.117265Z",
     "shell.execute_reply": "2024-07-14T06:09:17.115858Z"
    },
    "papermill": {
     "duration": 0.070152,
     "end_time": "2024-07-14T06:09:17.119748",
     "exception": false,
     "start_time": "2024-07-14T06:09:17.049596",
     "status": "completed"
    },
    "tags": []
   },
   "outputs": [
    {
     "name": "stdout",
     "output_type": "stream",
     "text": [
      "[75. 41. 67. 61.  0. 50. 68. 22. 31. 46. 72. 26. 38. 37. 42. 40. 53. 60.\n",
      " 29. 13. 33. 27. 15. 23. 74. 63. 78. 51. 44. 34. 69. 36. 52. 25. 49. 48.\n",
      " 32. 18. 35. 24. 39. 16. 28. 47. 30. 64. 76.  5. 58. 45. 57. 19. 55. 54.\n",
      " 21. 65. 17. 20. 77. 82. 56. -2. 84. 59. 43.  7. 70. 66. 62. 14. 80. 71.\n",
      " 81. 96. 12. 11.  4. 83. 10.  8.  6. 88. 86. 73.  9. 87. 85. 93. 95. 99.\n",
      " 79.  3.  2. 91. 92. 90. 89. 98. -1. 94.]\n"
     ]
    }
   ],
   "source": [
    "print(train['Victim_Age'].unique())\n",
    "# df.loc[df['Victim_Age']<0,'Victim_Age']=0\n",
    "train.loc[train['Victim_Age']<0,'Victim_Age']=0"
   ]
  },
  {
   "cell_type": "code",
   "execution_count": 51,
   "id": "bc093978",
   "metadata": {
    "execution": {
     "iopub.execute_input": "2024-07-14T06:09:17.239976Z",
     "iopub.status.busy": "2024-07-14T06:09:17.239193Z",
     "iopub.status.idle": "2024-07-14T06:09:17.247018Z",
     "shell.execute_reply": "2024-07-14T06:09:17.245730Z"
    },
    "papermill": {
     "duration": 0.07054,
     "end_time": "2024-07-14T06:09:17.249448",
     "exception": false,
     "start_time": "2024-07-14T06:09:17.178908",
     "status": "completed"
    },
    "tags": []
   },
   "outputs": [
    {
     "name": "stdout",
     "output_type": "stream",
     "text": [
      "[75. 41. 67. 61.  0. 50. 68. 22. 31. 46. 72. 26. 38. 37. 42. 40. 53. 60.\n",
      " 29. 13. 33. 27. 15. 23. 74. 63. 78. 51. 44. 34. 69. 36. 52. 25. 49. 48.\n",
      " 32. 18. 35. 24. 39. 16. 28. 47. 30. 64. 76.  5. 58. 45. 57. 19. 55. 54.\n",
      " 21. 65. 17. 20. 77. 82. 56. 84. 59. 43.  7. 70. 66. 62. 14. 80. 71. 81.\n",
      " 96. 12. 11.  4. 83. 10.  8.  6. 88. 86. 73.  9. 87. 85. 93. 95. 99. 79.\n",
      "  3.  2. 91. 92. 90. 89. 98. 94.]\n"
     ]
    }
   ],
   "source": [
    "print(train['Victim_Age'].unique())"
   ]
  },
  {
   "cell_type": "code",
   "execution_count": 52,
   "id": "433b0da1",
   "metadata": {
    "execution": {
     "iopub.execute_input": "2024-07-14T06:09:17.368005Z",
     "iopub.status.busy": "2024-07-14T06:09:17.367215Z",
     "iopub.status.idle": "2024-07-14T06:09:17.393170Z",
     "shell.execute_reply": "2024-07-14T06:09:17.392124Z"
    },
    "papermill": {
     "duration": 0.088566,
     "end_time": "2024-07-14T06:09:17.395672",
     "exception": false,
     "start_time": "2024-07-14T06:09:17.307106",
     "status": "completed"
    },
    "tags": []
   },
   "outputs": [],
   "source": [
    "train.loc[:,'Victim_Age']=train.loc[:,'Victim_Age'].apply(lambda x : int(x))\n",
    "train.loc[train['Victim_Age']==0,'Victim_Age']=train['Victim_Age'].mean()\n",
    "# train.loc['Victim_Age']=train.loc['Victim_Age'].apply(lambda x: int(x))"
   ]
  },
  {
   "cell_type": "code",
   "execution_count": 53,
   "id": "83d344b8",
   "metadata": {
    "execution": {
     "iopub.execute_input": "2024-07-14T06:09:17.512401Z",
     "iopub.status.busy": "2024-07-14T06:09:17.511602Z",
     "iopub.status.idle": "2024-07-14T06:09:17.516301Z",
     "shell.execute_reply": "2024-07-14T06:09:17.515282Z"
    },
    "papermill": {
     "duration": 0.065774,
     "end_time": "2024-07-14T06:09:17.518867",
     "exception": false,
     "start_time": "2024-07-14T06:09:17.453093",
     "status": "completed"
    },
    "tags": []
   },
   "outputs": [],
   "source": [
    "# df['Part 1-2'].value_counts()"
   ]
  },
  {
   "cell_type": "code",
   "execution_count": 54,
   "id": "6580dfbf",
   "metadata": {
    "execution": {
     "iopub.execute_input": "2024-07-14T06:09:17.638327Z",
     "iopub.status.busy": "2024-07-14T06:09:17.637240Z",
     "iopub.status.idle": "2024-07-14T06:09:17.642413Z",
     "shell.execute_reply": "2024-07-14T06:09:17.641222Z"
    },
    "papermill": {
     "duration": 0.067535,
     "end_time": "2024-07-14T06:09:17.644781",
     "exception": false,
     "start_time": "2024-07-14T06:09:17.577246",
     "status": "completed"
    },
    "tags": []
   },
   "outputs": [],
   "source": [
    "# df.loc[:,'Part 1-2']=df['Part 1-2'].apply(lambda x: int(x))"
   ]
  },
  {
   "cell_type": "code",
   "execution_count": 55,
   "id": "7ab8ea0b",
   "metadata": {
    "execution": {
     "iopub.execute_input": "2024-07-14T06:09:17.762876Z",
     "iopub.status.busy": "2024-07-14T06:09:17.761979Z",
     "iopub.status.idle": "2024-07-14T06:09:17.766651Z",
     "shell.execute_reply": "2024-07-14T06:09:17.765596Z"
    },
    "papermill": {
     "duration": 0.065911,
     "end_time": "2024-07-14T06:09:17.769040",
     "exception": false,
     "start_time": "2024-07-14T06:09:17.703129",
     "status": "completed"
    },
    "tags": []
   },
   "outputs": [],
   "source": [
    "# df.loc[:,'Victim_Age']=df['Victim_Age'].apply(lambda x: int(x))"
   ]
  },
  {
   "cell_type": "code",
   "execution_count": 56,
   "id": "a1dce5c3",
   "metadata": {
    "execution": {
     "iopub.execute_input": "2024-07-14T06:09:17.887119Z",
     "iopub.status.busy": "2024-07-14T06:09:17.886731Z",
     "iopub.status.idle": "2024-07-14T06:09:17.891413Z",
     "shell.execute_reply": "2024-07-14T06:09:17.890262Z"
    },
    "papermill": {
     "duration": 0.065987,
     "end_time": "2024-07-14T06:09:17.893861",
     "exception": false,
     "start_time": "2024-07-14T06:09:17.827874",
     "status": "completed"
    },
    "tags": []
   },
   "outputs": [],
   "source": [
    "# df.drop('max_activity',axis=1,inplace=True)"
   ]
  },
  {
   "cell_type": "code",
   "execution_count": 57,
   "id": "1fd49284",
   "metadata": {
    "execution": {
     "iopub.execute_input": "2024-07-14T06:09:18.012556Z",
     "iopub.status.busy": "2024-07-14T06:09:18.011826Z",
     "iopub.status.idle": "2024-07-14T06:09:18.017143Z",
     "shell.execute_reply": "2024-07-14T06:09:18.016039Z"
    },
    "papermill": {
     "duration": 0.067081,
     "end_time": "2024-07-14T06:09:18.019614",
     "exception": false,
     "start_time": "2024-07-14T06:09:17.952533",
     "status": "completed"
    },
    "tags": []
   },
   "outputs": [],
   "source": [
    "\n",
    "# df.loc[df['Weapon_Description'] == 'STRONG-ARM (HANDS, FIST, FEET OR BODILY FORCE)', 'Weapon_Description'] = 'Physical Force'\n"
   ]
  },
  {
   "cell_type": "code",
   "execution_count": 58,
   "id": "58bc53ff",
   "metadata": {
    "execution": {
     "iopub.execute_input": "2024-07-14T06:09:18.201165Z",
     "iopub.status.busy": "2024-07-14T06:09:18.200744Z",
     "iopub.status.idle": "2024-07-14T06:09:18.207100Z",
     "shell.execute_reply": "2024-07-14T06:09:18.205852Z"
    },
    "papermill": {
     "duration": 0.130845,
     "end_time": "2024-07-14T06:09:18.209661",
     "exception": false,
     "start_time": "2024-07-14T06:09:18.078816",
     "status": "completed"
    },
    "tags": []
   },
   "outputs": [],
   "source": [
    "\n",
    "# def gun(s):\n",
    "#     t=s.replace('/',' ')\n",
    "#     listt=t.split(' ' or '/')\n",
    "#     gun_keywords=['gun','pistol','revolver','rifle','shotgun']\n",
    "    \n",
    "#     sharp_heavy_object=['blade','stone','knife','metal','screwdriver','cleaver', 'glass','machete' ,'iron' , 'cutting','axe' ,'instrument','hammer','weapon','object','bottle','weapons','brass','scissors']\n",
    "    \n",
    "#     other_weapon = ['bomb','threat', 'demand', 'poison', 'ice', 'scalding', 'board','block' ,'brick', 'stick', 'bat', 'spray']\n",
    "    \n",
    "#     physical_presence=['physical','presence']\n",
    "    \n",
    "#     fire=['firearm' , 'fire' ]\n",
    "\n",
    "#     for i in listt:\n",
    "#         if i.lower() in gun_keywords:\n",
    "#             return 'Gun'\n",
    "#         elif i.lower() in sharp_heavy_object:\n",
    "#             return 'sharp_heavy_object'\n",
    "        \n",
    "#         elif i.lower() in fire:\n",
    "#             return 'fire'\n",
    "#         elif i.lower() in other_weapon:\n",
    "#             return 'other_weapon'\n",
    "#         elif i.lower() in physical_presence:\n",
    "#             return 'Physical Force'\n",
    "        \n",
    "#     return s\n",
    "    \n",
    "\n",
    "\n",
    "\n",
    "# df.loc[:,'Weapon_Description']=df['Weapon_Description'].apply(gun)"
   ]
  },
  {
   "cell_type": "code",
   "execution_count": 59,
   "id": "669f34fc",
   "metadata": {
    "execution": {
     "iopub.execute_input": "2024-07-14T06:09:18.328956Z",
     "iopub.status.busy": "2024-07-14T06:09:18.327967Z",
     "iopub.status.idle": "2024-07-14T06:09:18.332858Z",
     "shell.execute_reply": "2024-07-14T06:09:18.331784Z"
    },
    "papermill": {
     "duration": 0.067227,
     "end_time": "2024-07-14T06:09:18.335376",
     "exception": false,
     "start_time": "2024-07-14T06:09:18.268149",
     "status": "completed"
    },
    "tags": []
   },
   "outputs": [],
   "source": [
    "# len(df['Premise_Code'].value_counts())"
   ]
  },
  {
   "cell_type": "code",
   "execution_count": 60,
   "id": "98d0eb27",
   "metadata": {
    "execution": {
     "iopub.execute_input": "2024-07-14T06:09:18.457390Z",
     "iopub.status.busy": "2024-07-14T06:09:18.456534Z",
     "iopub.status.idle": "2024-07-14T06:09:18.461936Z",
     "shell.execute_reply": "2024-07-14T06:09:18.460639Z"
    },
    "papermill": {
     "duration": 0.068681,
     "end_time": "2024-07-14T06:09:18.464406",
     "exception": false,
     "start_time": "2024-07-14T06:09:18.395725",
     "status": "completed"
    },
    "tags": []
   },
   "outputs": [],
   "source": [
    "# len(df['Area_ID'].value_counts())"
   ]
  },
  {
   "cell_type": "code",
   "execution_count": 61,
   "id": "c37cd7c2",
   "metadata": {
    "execution": {
     "iopub.execute_input": "2024-07-14T06:09:18.583383Z",
     "iopub.status.busy": "2024-07-14T06:09:18.582178Z",
     "iopub.status.idle": "2024-07-14T06:09:18.630908Z",
     "shell.execute_reply": "2024-07-14T06:09:18.629625Z"
    },
    "papermill": {
     "duration": 0.110998,
     "end_time": "2024-07-14T06:09:18.633615",
     "exception": false,
     "start_time": "2024-07-14T06:09:18.522617",
     "status": "completed"
    },
    "tags": []
   },
   "outputs": [
    {
     "name": "stdout",
     "output_type": "stream",
     "text": [
      "<class 'pandas.core.frame.DataFrame'>\n",
      "RangeIndex: 20000 entries, 0 to 19999\n",
      "Data columns (total 22 columns):\n",
      " #   Column                     Non-Null Count  Dtype  \n",
      "---  ------                     --------------  -----  \n",
      " 0   Location                   20000 non-null  object \n",
      " 1   Cross_Street               20000 non-null  object \n",
      " 2   Latitude                   20000 non-null  float64\n",
      " 3   Longitude                  20000 non-null  float64\n",
      " 4   Area_ID                    20000 non-null  object \n",
      " 5   Area_Name                  20000 non-null  object \n",
      " 6   Reporting_District_no      20000 non-null  object \n",
      " 7   Part 1-2                   20000 non-null  object \n",
      " 8   Modus_Operandi             20000 non-null  object \n",
      " 9   Victim_Age                 20000 non-null  float64\n",
      " 10  Victim_Sex                 20000 non-null  object \n",
      " 11  Victim_Descent             20000 non-null  object \n",
      " 12  Premise_Code               20000 non-null  object \n",
      " 13  Premise_Description        19995 non-null  object \n",
      " 14  Weapon_Used_Code           7335 non-null   float64\n",
      " 15  Weapon_Description         20000 non-null  object \n",
      " 16  Status                     20000 non-null  object \n",
      " 17  Status_Description         20000 non-null  object \n",
      " 18  Crime_Category             20000 non-null  object \n",
      " 19  activity_count             20000 non-null  int64  \n",
      " 20  day_category               20000 non-null  object \n",
      " 21  reporting_delay_day_count  20000 non-null  int64  \n",
      "dtypes: float64(4), int64(2), object(16)\n",
      "memory usage: 3.4+ MB\n"
     ]
    }
   ],
   "source": [
    "train.info()"
   ]
  },
  {
   "cell_type": "markdown",
   "id": "b9142a3b",
   "metadata": {
    "papermill": {
     "duration": 0.057939,
     "end_time": "2024-07-14T06:09:18.749871",
     "exception": false,
     "start_time": "2024-07-14T06:09:18.691932",
     "status": "completed"
    },
    "tags": []
   },
   "source": [
    "# new Columns "
   ]
  },
  {
   "cell_type": "code",
   "execution_count": 62,
   "id": "4d83b737",
   "metadata": {
    "execution": {
     "iopub.execute_input": "2024-07-14T06:09:18.867748Z",
     "iopub.status.busy": "2024-07-14T06:09:18.867279Z",
     "iopub.status.idle": "2024-07-14T06:09:18.878566Z",
     "shell.execute_reply": "2024-07-14T06:09:18.877420Z"
    },
    "papermill": {
     "duration": 0.07346,
     "end_time": "2024-07-14T06:09:18.881521",
     "exception": false,
     "start_time": "2024-07-14T06:09:18.808061",
     "status": "completed"
    },
    "tags": []
   },
   "outputs": [],
   "source": [
    "numerical_columns=['Latitude','Longitude','Victim_Age','activity_count','reporting_delay_day_count']\n",
    "categorical_columns=['Area_ID','Part 1-2','Victim_Sex','Victim_Descent','Weapon_Description','Status','day_category'] #ohe\n",
    "# multilabel_binarizer=[['Modus_Operandi']] \n",
    "\n",
    "new_train=train[['Latitude','Longitude','Victim_Age','activity_count','reporting_delay_day_count','Area_ID','Part 1-2','Victim_Sex','Victim_Descent','Weapon_Description','Status','day_category','Modus_Operandi']]\n",
    "new_train_y=train['Crime_Category']\n",
    "\n",
    "\n",
    "\n"
   ]
  },
  {
   "cell_type": "markdown",
   "id": "04b6ee56",
   "metadata": {
    "papermill": {
     "duration": 0.057861,
     "end_time": "2024-07-14T06:09:18.998942",
     "exception": false,
     "start_time": "2024-07-14T06:09:18.941081",
     "status": "completed"
    },
    "tags": []
   },
   "source": [
    "# new Column Transformer\n"
   ]
  },
  {
   "cell_type": "code",
   "execution_count": 63,
   "id": "5356e9ca",
   "metadata": {
    "execution": {
     "iopub.execute_input": "2024-07-14T06:09:19.117514Z",
     "iopub.status.busy": "2024-07-14T06:09:19.116303Z",
     "iopub.status.idle": "2024-07-14T06:09:19.130657Z",
     "shell.execute_reply": "2024-07-14T06:09:19.129677Z"
    },
    "papermill": {
     "duration": 0.076263,
     "end_time": "2024-07-14T06:09:19.133378",
     "exception": false,
     "start_time": "2024-07-14T06:09:19.057115",
     "status": "completed"
    },
    "tags": []
   },
   "outputs": [],
   "source": [
    "from sklearn.compose import ColumnTransformer\n",
    "\n",
    "from sklearn.preprocessing import StandardScaler , OneHotEncoder\n",
    "\n",
    "new_ct=ColumnTransformer(transformers=[\n",
    "    \n",
    "    ('numerical_cols' , StandardScaler(),['Latitude','Longitude','reporting_delay_day_count','Victim_Age','activity_count']),\n",
    "    ('categorical_cols' , OneHotEncoder(handle_unknown='ignore'),['day_category','Victim_Sex','Victim_Descent','Part 1-2','Area_ID','Status','Weapon_Description']),\n",
    "    ('multi_label_binarizer', MultiLabelBinarizerWrapper(), 'Modus_Operandi')\n",
    "])"
   ]
  },
  {
   "cell_type": "code",
   "execution_count": 64,
   "id": "428e2ca5",
   "metadata": {
    "execution": {
     "iopub.execute_input": "2024-07-14T06:09:19.255288Z",
     "iopub.status.busy": "2024-07-14T06:09:19.254898Z",
     "iopub.status.idle": "2024-07-14T06:09:19.305451Z",
     "shell.execute_reply": "2024-07-14T06:09:19.303883Z"
    },
    "papermill": {
     "duration": 0.116165,
     "end_time": "2024-07-14T06:09:19.308494",
     "exception": false,
     "start_time": "2024-07-14T06:09:19.192329",
     "status": "completed"
    },
    "tags": []
   },
   "outputs": [
    {
     "name": "stdout",
     "output_type": "stream",
     "text": [
      "<class 'pandas.core.frame.DataFrame'>\n",
      "RangeIndex: 20000 entries, 0 to 19999\n",
      "Data columns (total 22 columns):\n",
      " #   Column                     Non-Null Count  Dtype  \n",
      "---  ------                     --------------  -----  \n",
      " 0   Location                   20000 non-null  object \n",
      " 1   Cross_Street               20000 non-null  object \n",
      " 2   Latitude                   20000 non-null  float64\n",
      " 3   Longitude                  20000 non-null  float64\n",
      " 4   Area_ID                    20000 non-null  object \n",
      " 5   Area_Name                  20000 non-null  object \n",
      " 6   Reporting_District_no      20000 non-null  object \n",
      " 7   Part 1-2                   20000 non-null  object \n",
      " 8   Modus_Operandi             20000 non-null  object \n",
      " 9   Victim_Age                 20000 non-null  float64\n",
      " 10  Victim_Sex                 20000 non-null  object \n",
      " 11  Victim_Descent             20000 non-null  object \n",
      " 12  Premise_Code               20000 non-null  object \n",
      " 13  Premise_Description        19995 non-null  object \n",
      " 14  Weapon_Used_Code           7335 non-null   float64\n",
      " 15  Weapon_Description         20000 non-null  object \n",
      " 16  Status                     20000 non-null  object \n",
      " 17  Status_Description         20000 non-null  object \n",
      " 18  Crime_Category             20000 non-null  object \n",
      " 19  activity_count             20000 non-null  int64  \n",
      " 20  day_category               20000 non-null  object \n",
      " 21  reporting_delay_day_count  20000 non-null  int64  \n",
      "dtypes: float64(4), int64(2), object(16)\n",
      "memory usage: 3.4+ MB\n"
     ]
    }
   ],
   "source": [
    "train.info()"
   ]
  },
  {
   "cell_type": "code",
   "execution_count": 65,
   "id": "f8ceed58",
   "metadata": {
    "execution": {
     "iopub.execute_input": "2024-07-14T06:09:19.429833Z",
     "iopub.status.busy": "2024-07-14T06:09:19.429401Z",
     "iopub.status.idle": "2024-07-14T06:09:19.455383Z",
     "shell.execute_reply": "2024-07-14T06:09:19.453138Z"
    },
    "papermill": {
     "duration": 0.088885,
     "end_time": "2024-07-14T06:09:19.458430",
     "exception": false,
     "start_time": "2024-07-14T06:09:19.369545",
     "status": "completed"
    },
    "tags": []
   },
   "outputs": [
    {
     "data": {
      "text/html": [
       "<div>\n",
       "<style scoped>\n",
       "    .dataframe tbody tr th:only-of-type {\n",
       "        vertical-align: middle;\n",
       "    }\n",
       "\n",
       "    .dataframe tbody tr th {\n",
       "        vertical-align: top;\n",
       "    }\n",
       "\n",
       "    .dataframe thead th {\n",
       "        text-align: right;\n",
       "    }\n",
       "</style>\n",
       "<table border=\"1\" class=\"dataframe\">\n",
       "  <thead>\n",
       "    <tr style=\"text-align: right;\">\n",
       "      <th></th>\n",
       "      <th>Latitude</th>\n",
       "      <th>Longitude</th>\n",
       "      <th>Victim_Age</th>\n",
       "      <th>activity_count</th>\n",
       "      <th>reporting_delay_day_count</th>\n",
       "      <th>Area_ID</th>\n",
       "      <th>Part 1-2</th>\n",
       "      <th>Victim_Sex</th>\n",
       "      <th>Victim_Descent</th>\n",
       "      <th>Weapon_Description</th>\n",
       "      <th>Status</th>\n",
       "      <th>day_category</th>\n",
       "      <th>Modus_Operandi</th>\n",
       "    </tr>\n",
       "  </thead>\n",
       "  <tbody>\n",
       "    <tr>\n",
       "      <th>0</th>\n",
       "      <td>34.1522</td>\n",
       "      <td>-118.3910</td>\n",
       "      <td>75.0000</td>\n",
       "      <td>1</td>\n",
       "      <td>3</td>\n",
       "      <td>15.0</td>\n",
       "      <td>1.0</td>\n",
       "      <td>M</td>\n",
       "      <td>W</td>\n",
       "      <td>Physical Force</td>\n",
       "      <td>IC</td>\n",
       "      <td>Evening</td>\n",
       "      <td>0385</td>\n",
       "    </tr>\n",
       "    <tr>\n",
       "      <th>1</th>\n",
       "      <td>34.0028</td>\n",
       "      <td>-118.2391</td>\n",
       "      <td>41.0000</td>\n",
       "      <td>8</td>\n",
       "      <td>0</td>\n",
       "      <td>13.0</td>\n",
       "      <td>1.0</td>\n",
       "      <td>M</td>\n",
       "      <td>H</td>\n",
       "      <td>Physical Force</td>\n",
       "      <td>IC</td>\n",
       "      <td>Daytime</td>\n",
       "      <td>0906 0352 0371 0446 1822 0344 0416 0417</td>\n",
       "    </tr>\n",
       "    <tr>\n",
       "      <th>2</th>\n",
       "      <td>34.0111</td>\n",
       "      <td>-118.2653</td>\n",
       "      <td>67.0000</td>\n",
       "      <td>2</td>\n",
       "      <td>0</td>\n",
       "      <td>13.0</td>\n",
       "      <td>2.0</td>\n",
       "      <td>M</td>\n",
       "      <td>B</td>\n",
       "      <td>other_weapon</td>\n",
       "      <td>IC</td>\n",
       "      <td>Morning</td>\n",
       "      <td>0329 1202</td>\n",
       "    </tr>\n",
       "    <tr>\n",
       "      <th>3</th>\n",
       "      <td>34.2953</td>\n",
       "      <td>-118.4590</td>\n",
       "      <td>61.0000</td>\n",
       "      <td>2</td>\n",
       "      <td>2</td>\n",
       "      <td>19.0</td>\n",
       "      <td>1.0</td>\n",
       "      <td>M</td>\n",
       "      <td>H</td>\n",
       "      <td>sharp_heavy_object</td>\n",
       "      <td>IC</td>\n",
       "      <td>Evening</td>\n",
       "      <td>0329 1300</td>\n",
       "    </tr>\n",
       "    <tr>\n",
       "      <th>4</th>\n",
       "      <td>33.9787</td>\n",
       "      <td>-118.2918</td>\n",
       "      <td>30.1354</td>\n",
       "      <td>6</td>\n",
       "      <td>0</td>\n",
       "      <td>12.0</td>\n",
       "      <td>1.0</td>\n",
       "      <td>X</td>\n",
       "      <td>X</td>\n",
       "      <td>Physical Force</td>\n",
       "      <td>IC</td>\n",
       "      <td>Morning</td>\n",
       "      <td>0416 0945 1822 0400 0417 0344</td>\n",
       "    </tr>\n",
       "    <tr>\n",
       "      <th>...</th>\n",
       "      <td>...</td>\n",
       "      <td>...</td>\n",
       "      <td>...</td>\n",
       "      <td>...</td>\n",
       "      <td>...</td>\n",
       "      <td>...</td>\n",
       "      <td>...</td>\n",
       "      <td>...</td>\n",
       "      <td>...</td>\n",
       "      <td>...</td>\n",
       "      <td>...</td>\n",
       "      <td>...</td>\n",
       "      <td>...</td>\n",
       "    </tr>\n",
       "    <tr>\n",
       "      <th>19995</th>\n",
       "      <td>34.0334</td>\n",
       "      <td>-118.3523</td>\n",
       "      <td>51.0000</td>\n",
       "      <td>4</td>\n",
       "      <td>0</td>\n",
       "      <td>3.0</td>\n",
       "      <td>2.0</td>\n",
       "      <td>M</td>\n",
       "      <td>H</td>\n",
       "      <td>Physical Force</td>\n",
       "      <td>IC</td>\n",
       "      <td>Morning</td>\n",
       "      <td>0416 0446 2004 0913</td>\n",
       "    </tr>\n",
       "    <tr>\n",
       "      <th>19996</th>\n",
       "      <td>34.2212</td>\n",
       "      <td>-118.5011</td>\n",
       "      <td>30.1354</td>\n",
       "      <td>5</td>\n",
       "      <td>0</td>\n",
       "      <td>10.0</td>\n",
       "      <td>1.0</td>\n",
       "      <td>M</td>\n",
       "      <td>W</td>\n",
       "      <td>sharp_heavy_object</td>\n",
       "      <td>IC</td>\n",
       "      <td>Night</td>\n",
       "      <td>1822 0209 0344 1414 1420</td>\n",
       "    </tr>\n",
       "    <tr>\n",
       "      <th>19997</th>\n",
       "      <td>34.0571</td>\n",
       "      <td>-118.3815</td>\n",
       "      <td>42.0000</td>\n",
       "      <td>3</td>\n",
       "      <td>0</td>\n",
       "      <td>8.0</td>\n",
       "      <td>1.0</td>\n",
       "      <td>M</td>\n",
       "      <td>H</td>\n",
       "      <td>Physical Force</td>\n",
       "      <td>IC</td>\n",
       "      <td>Daytime</td>\n",
       "      <td>0344 1822 1420</td>\n",
       "    </tr>\n",
       "    <tr>\n",
       "      <th>19998</th>\n",
       "      <td>33.7451</td>\n",
       "      <td>-118.2835</td>\n",
       "      <td>76.0000</td>\n",
       "      <td>6</td>\n",
       "      <td>0</td>\n",
       "      <td>5.0</td>\n",
       "      <td>2.0</td>\n",
       "      <td>F</td>\n",
       "      <td>H</td>\n",
       "      <td>other_weapon</td>\n",
       "      <td>IC</td>\n",
       "      <td>Morning</td>\n",
       "      <td>1202 2038 0913 0602 1242 0553</td>\n",
       "    </tr>\n",
       "    <tr>\n",
       "      <th>19999</th>\n",
       "      <td>34.0037</td>\n",
       "      <td>-118.3034</td>\n",
       "      <td>30.1354</td>\n",
       "      <td>0</td>\n",
       "      <td>1</td>\n",
       "      <td>3.0</td>\n",
       "      <td>1.0</td>\n",
       "      <td>M</td>\n",
       "      <td>H</td>\n",
       "      <td>other_weapon</td>\n",
       "      <td>IC</td>\n",
       "      <td>Evening</td>\n",
       "      <td></td>\n",
       "    </tr>\n",
       "  </tbody>\n",
       "</table>\n",
       "<p>20000 rows × 13 columns</p>\n",
       "</div>"
      ],
      "text/plain": [
       "       Latitude  Longitude  Victim_Age  activity_count  \\\n",
       "0       34.1522  -118.3910     75.0000               1   \n",
       "1       34.0028  -118.2391     41.0000               8   \n",
       "2       34.0111  -118.2653     67.0000               2   \n",
       "3       34.2953  -118.4590     61.0000               2   \n",
       "4       33.9787  -118.2918     30.1354               6   \n",
       "...         ...        ...         ...             ...   \n",
       "19995   34.0334  -118.3523     51.0000               4   \n",
       "19996   34.2212  -118.5011     30.1354               5   \n",
       "19997   34.0571  -118.3815     42.0000               3   \n",
       "19998   33.7451  -118.2835     76.0000               6   \n",
       "19999   34.0037  -118.3034     30.1354               0   \n",
       "\n",
       "       reporting_delay_day_count Area_ID Part 1-2 Victim_Sex Victim_Descent  \\\n",
       "0                              3    15.0      1.0          M              W   \n",
       "1                              0    13.0      1.0          M              H   \n",
       "2                              0    13.0      2.0          M              B   \n",
       "3                              2    19.0      1.0          M              H   \n",
       "4                              0    12.0      1.0          X              X   \n",
       "...                          ...     ...      ...        ...            ...   \n",
       "19995                          0     3.0      2.0          M              H   \n",
       "19996                          0    10.0      1.0          M              W   \n",
       "19997                          0     8.0      1.0          M              H   \n",
       "19998                          0     5.0      2.0          F              H   \n",
       "19999                          1     3.0      1.0          M              H   \n",
       "\n",
       "       Weapon_Description Status day_category  \\\n",
       "0          Physical Force     IC      Evening   \n",
       "1          Physical Force     IC      Daytime   \n",
       "2            other_weapon     IC      Morning   \n",
       "3      sharp_heavy_object     IC      Evening   \n",
       "4          Physical Force     IC      Morning   \n",
       "...                   ...    ...          ...   \n",
       "19995      Physical Force     IC      Morning   \n",
       "19996  sharp_heavy_object     IC        Night   \n",
       "19997      Physical Force     IC      Daytime   \n",
       "19998        other_weapon     IC      Morning   \n",
       "19999        other_weapon     IC      Evening   \n",
       "\n",
       "                                Modus_Operandi  \n",
       "0                                         0385  \n",
       "1      0906 0352 0371 0446 1822 0344 0416 0417  \n",
       "2                                    0329 1202  \n",
       "3                                    0329 1300  \n",
       "4                0416 0945 1822 0400 0417 0344  \n",
       "...                                        ...  \n",
       "19995                      0416 0446 2004 0913  \n",
       "19996                 1822 0209 0344 1414 1420  \n",
       "19997                           0344 1822 1420  \n",
       "19998            1202 2038 0913 0602 1242 0553  \n",
       "19999                                           \n",
       "\n",
       "[20000 rows x 13 columns]"
      ]
     },
     "execution_count": 65,
     "metadata": {},
     "output_type": "execute_result"
    }
   ],
   "source": [
    "new_train"
   ]
  },
  {
   "cell_type": "code",
   "execution_count": 66,
   "id": "a291549b",
   "metadata": {
    "execution": {
     "iopub.execute_input": "2024-07-14T06:09:19.581614Z",
     "iopub.status.busy": "2024-07-14T06:09:19.581158Z",
     "iopub.status.idle": "2024-07-14T06:09:19.682553Z",
     "shell.execute_reply": "2024-07-14T06:09:19.681344Z"
    },
    "papermill": {
     "duration": 0.165807,
     "end_time": "2024-07-14T06:09:19.685655",
     "exception": false,
     "start_time": "2024-07-14T06:09:19.519848",
     "status": "completed"
    },
    "tags": []
   },
   "outputs": [],
   "source": [
    "from sklearn.linear_model import LogisticRegression,LogisticRegressionCV\n",
    "from sklearn.pipeline import Pipeline\n",
    "from sklearn.compose import ColumnTransformer\n",
    "\n",
    "\n",
    "from sklearn.model_selection import StratifiedKFold\n",
    "\n",
    "from sklearn.metrics import accuracy_score,f1_score"
   ]
  },
  {
   "cell_type": "code",
   "execution_count": 67,
   "id": "b12434ed",
   "metadata": {
    "execution": {
     "iopub.execute_input": "2024-07-14T06:09:19.806481Z",
     "iopub.status.busy": "2024-07-14T06:09:19.805355Z",
     "iopub.status.idle": "2024-07-14T06:09:19.810390Z",
     "shell.execute_reply": "2024-07-14T06:09:19.809294Z"
    },
    "papermill": {
     "duration": 0.068376,
     "end_time": "2024-07-14T06:09:19.812992",
     "exception": false,
     "start_time": "2024-07-14T06:09:19.744616",
     "status": "completed"
    },
    "tags": []
   },
   "outputs": [],
   "source": [
    "# y=df['Crime_Category']\n",
    "\n",
    "# df.drop('Crime_Category',axis=1,inplace=True)"
   ]
  },
  {
   "cell_type": "code",
   "execution_count": 68,
   "id": "e809c02b",
   "metadata": {
    "execution": {
     "iopub.execute_input": "2024-07-14T06:09:19.934481Z",
     "iopub.status.busy": "2024-07-14T06:09:19.933657Z",
     "iopub.status.idle": "2024-07-14T06:09:19.938623Z",
     "shell.execute_reply": "2024-07-14T06:09:19.937540Z"
    },
    "papermill": {
     "duration": 0.068544,
     "end_time": "2024-07-14T06:09:19.940891",
     "exception": false,
     "start_time": "2024-07-14T06:09:19.872347",
     "status": "completed"
    },
    "tags": []
   },
   "outputs": [],
   "source": [
    "# df.drop('Premise_Code',axis=1,inplace=True)"
   ]
  },
  {
   "cell_type": "code",
   "execution_count": 69,
   "id": "cf765f3c",
   "metadata": {
    "execution": {
     "iopub.execute_input": "2024-07-14T06:09:20.061835Z",
     "iopub.status.busy": "2024-07-14T06:09:20.061448Z",
     "iopub.status.idle": "2024-07-14T06:09:20.066327Z",
     "shell.execute_reply": "2024-07-14T06:09:20.065200Z"
    },
    "papermill": {
     "duration": 0.068852,
     "end_time": "2024-07-14T06:09:20.068974",
     "exception": false,
     "start_time": "2024-07-14T06:09:20.000122",
     "status": "completed"
    },
    "tags": []
   },
   "outputs": [],
   "source": [
    "# from sklearn.model_selection import train_test_split\n",
    "\n",
    "# xtrain, xtest ,ytrain , ytest= train_test_split(df , y , test_size=0.2 , random_state=42 , shuffle=True ,stratify = y  )"
   ]
  },
  {
   "cell_type": "code",
   "execution_count": 70,
   "id": "c34dc7ed",
   "metadata": {
    "execution": {
     "iopub.execute_input": "2024-07-14T06:09:20.188898Z",
     "iopub.status.busy": "2024-07-14T06:09:20.188164Z",
     "iopub.status.idle": "2024-07-14T06:09:20.193469Z",
     "shell.execute_reply": "2024-07-14T06:09:20.192342Z"
    },
    "papermill": {
     "duration": 0.067539,
     "end_time": "2024-07-14T06:09:20.195792",
     "exception": false,
     "start_time": "2024-07-14T06:09:20.128253",
     "status": "completed"
    },
    "tags": []
   },
   "outputs": [],
   "source": [
    "# #old\n",
    "# print(xtrain.shape) \n",
    "# print(ytrain.shape)\n",
    "# print(xtest.shape)\n",
    "# print(ytest.shape)"
   ]
  },
  {
   "cell_type": "markdown",
   "id": "542f3695",
   "metadata": {
    "papermill": {
     "duration": 0.058206,
     "end_time": "2024-07-14T06:09:20.313967",
     "exception": false,
     "start_time": "2024-07-14T06:09:20.255761",
     "status": "completed"
    },
    "tags": []
   },
   "source": [
    "# train_test_split"
   ]
  },
  {
   "cell_type": "code",
   "execution_count": 71,
   "id": "3cddb634",
   "metadata": {
    "execution": {
     "iopub.execute_input": "2024-07-14T06:09:20.435381Z",
     "iopub.status.busy": "2024-07-14T06:09:20.434333Z",
     "iopub.status.idle": "2024-07-14T06:09:20.479373Z",
     "shell.execute_reply": "2024-07-14T06:09:20.478375Z"
    },
    "papermill": {
     "duration": 0.107601,
     "end_time": "2024-07-14T06:09:20.482002",
     "exception": false,
     "start_time": "2024-07-14T06:09:20.374401",
     "status": "completed"
    },
    "tags": []
   },
   "outputs": [],
   "source": [
    "# df.shape\n",
    "\n",
    "from sklearn.model_selection import train_test_split\n",
    "\n",
    "xtrain_1 , xtest_1 , ytrain_1 , ytest_1 = train_test_split(new_train ,new_train_y ,test_size=0.2 , random_state=42 ,shuffle=True,stratify = new_train_y )"
   ]
  },
  {
   "cell_type": "markdown",
   "id": "49a3e8ba",
   "metadata": {
    "papermill": {
     "duration": 0.058975,
     "end_time": "2024-07-14T06:09:20.600985",
     "exception": false,
     "start_time": "2024-07-14T06:09:20.542010",
     "status": "completed"
    },
    "tags": []
   },
   "source": [
    "# DummyClassifier"
   ]
  },
  {
   "cell_type": "code",
   "execution_count": 72,
   "id": "dc24de88",
   "metadata": {
    "execution": {
     "iopub.execute_input": "2024-07-14T06:09:20.722372Z",
     "iopub.status.busy": "2024-07-14T06:09:20.721956Z",
     "iopub.status.idle": "2024-07-14T06:09:21.773884Z",
     "shell.execute_reply": "2024-07-14T06:09:21.772686Z"
    },
    "papermill": {
     "duration": 1.115708,
     "end_time": "2024-07-14T06:09:21.776426",
     "exception": false,
     "start_time": "2024-07-14T06:09:20.660718",
     "status": "completed"
    },
    "tags": []
   },
   "outputs": [
    {
     "name": "stdout",
     "output_type": "stream",
     "text": [
      "Accuracy scores for each fold:  [0.5834375, 0.5834375, 0.5834375, 0.583125, 0.583125]\n",
      "Average accuracy:  0.5833125\n",
      "F1 scores for each fold:  [0.429949797710677, 0.429949797710677, 0.429949797710677, 0.42957412159494673, 0.42957412159494673]\n",
      "Average F1 score:  0.4297995272643849\n"
     ]
    }
   ],
   "source": [
    "from sklearn.dummy import DummyClassifier\n",
    "\n",
    "# dummy_clf=DummyClassifier(random_state=42 , strategy=\"most_frequent\")\n",
    "# dummy_clf.fit(xtrain, ytrain)\n",
    "# print('Dummy train score', dummy_clf.score(ytrain,ytrain))\n",
    "# print('Dummy predicted train score', dummy_clf.score(xtrain,dummy_clf.predict(xtrain)))\n",
    "\n",
    "# print('Dummy test score', dummy_clf.score(xtest, ytest))\n",
    "\n",
    "# print('Dummy predicted test score', dummy_clf.score(xtest, dummy_clf.predict(xtest)))\n",
    "data_split= StratifiedKFold(n_splits=5, shuffle=True, random_state=42)\n",
    "\n",
    "\n",
    "model_dummy=DummyClassifier(random_state=42 , strategy=\"most_frequent\")\n",
    "\n",
    "dummy_pipeline=Pipeline(steps=[('new_ct',new_ct),('model_dummy',model_dummy)])\n",
    "\n",
    "\n",
    "\n",
    "accuracy_scores_dummy_pipeline = []\n",
    "f1_scores_dummy_pipeline = []\n",
    "\n",
    "\n",
    "\n",
    "for train_index, test_index in data_split.split(xtrain_1, ytrain_1):\n",
    "    X_train, X_test = xtrain_1.iloc[train_index], xtrain_1.iloc[test_index]\n",
    "    y_train, y_test = ytrain_1.iloc[train_index], ytrain_1.iloc[test_index]\n",
    "    \n",
    "    dummy_pipeline.fit(X_train, y_train)\n",
    "    \n",
    "    y_pred = dummy_pipeline.predict(X_test)\n",
    "    accuracy = accuracy_score(y_test, y_pred)\n",
    "    f1 = f1_score(y_test, y_pred, average='weighted')\n",
    "    accuracy_scores_dummy_pipeline.append(accuracy)\n",
    "    f1_scores_dummy_pipeline.append(f1)\n",
    "    \n",
    "    \n",
    "    \n",
    "    \n",
    "    \n",
    "    \n",
    "    \n",
    "print(\"Accuracy scores for each fold: \", accuracy_scores_dummy_pipeline)\n",
    "print(\"Average accuracy: \", np.mean(accuracy_scores_dummy_pipeline))\n",
    "print(\"F1 scores for each fold: \", f1_scores_dummy_pipeline)\n",
    "print(\"Average F1 score: \", np.mean(f1_scores_dummy_pipeline))\n",
    "    \n",
    "    \n",
    "    \n"
   ]
  },
  {
   "cell_type": "markdown",
   "id": "a979aae6",
   "metadata": {
    "papermill": {
     "duration": 0.059582,
     "end_time": "2024-07-14T06:09:21.895402",
     "exception": false,
     "start_time": "2024-07-14T06:09:21.835820",
     "status": "completed"
    },
    "tags": []
   },
   "source": [
    "# Logistic"
   ]
  },
  {
   "cell_type": "code",
   "execution_count": 73,
   "id": "da62b091",
   "metadata": {
    "execution": {
     "iopub.execute_input": "2024-07-14T06:09:22.016800Z",
     "iopub.status.busy": "2024-07-14T06:09:22.016405Z",
     "iopub.status.idle": "2024-07-14T06:09:26.693519Z",
     "shell.execute_reply": "2024-07-14T06:09:26.691763Z"
    },
    "papermill": {
     "duration": 4.743497,
     "end_time": "2024-07-14T06:09:26.697929",
     "exception": false,
     "start_time": "2024-07-14T06:09:21.954432",
     "status": "completed"
    },
    "tags": []
   },
   "outputs": [
    {
     "data": {
      "text/plain": [
       "0.81325"
      ]
     },
     "execution_count": 73,
     "metadata": {},
     "output_type": "execute_result"
    }
   ],
   "source": [
    "from sklearn.model_selection import train_test_split\n",
    "\n",
    "\n",
    "\n",
    "from sklearn.linear_model import LogisticRegression\n",
    "logistic_model_plain = Pipeline(steps=[('new_ct',new_ct),('logistic_reg',LogisticRegression( max_iter=1200 ,random_state=42))])\n",
    "\n",
    "logistic_model_plain.fit(xtrain_1, ytrain_1)\n",
    "\n",
    "logistic_model_plain.score(xtest_1,ytest_1)"
   ]
  },
  {
   "cell_type": "markdown",
   "id": "0c490ff9",
   "metadata": {
    "papermill": {
     "duration": 0.058437,
     "end_time": "2024-07-14T06:09:26.864966",
     "exception": false,
     "start_time": "2024-07-14T06:09:26.806529",
     "status": "completed"
    },
    "tags": []
   },
   "source": [
    "Logistic Full Model"
   ]
  },
  {
   "cell_type": "code",
   "execution_count": 74,
   "id": "7ecd03d1",
   "metadata": {
    "execution": {
     "iopub.execute_input": "2024-07-14T06:09:26.984736Z",
     "iopub.status.busy": "2024-07-14T06:09:26.984272Z",
     "iopub.status.idle": "2024-07-14T06:09:50.895845Z",
     "shell.execute_reply": "2024-07-14T06:09:50.894490Z"
    },
    "papermill": {
     "duration": 23.975162,
     "end_time": "2024-07-14T06:09:50.899018",
     "exception": false,
     "start_time": "2024-07-14T06:09:26.923856",
     "status": "completed"
    },
    "tags": []
   },
   "outputs": [
    {
     "name": "stdout",
     "output_type": "stream",
     "text": [
      "Accuracy scores for each fold using pipe_logistic_model:  [0.822, 0.81625, 0.8125, 0.82125, 0.813]\n",
      "Average accuracy using pipe_logistic_model:  0.817\n",
      "F1 scores for each fold using pipe_logistic_model:  [0.811688081559696, 0.8086366900194872, 0.8038958242079617, 0.8119320077921375, 0.8023186212528606]\n",
      "Average F1 score using pipe_logistic_model:  0.8076942449664285\n",
      "model_score_test list  using pipe_logistic_model  [0.822, 0.81625, 0.8125, 0.82125, 0.813]\n"
     ]
    }
   ],
   "source": [
    "from sklearn.linear_model import LogisticRegression\n",
    "\n",
    "pipe_logistic_model = Pipeline(steps=[('new_ct',new_ct),('logistic_reg',LogisticRegression( max_iter=1200 ,random_state=42))])\n",
    "\n",
    "model_score_test=[]\n",
    "accuracy_scores_logistic_pipeline = []\n",
    "f1_scores_logistic_pipeline = []\n",
    "\n",
    "\n",
    "\n",
    "for train_index, test_index in data_split.split(new_train, new_train_y):\n",
    "    X_train, X_test = new_train.iloc[train_index], new_train.iloc[test_index]\n",
    "    y_train, y_test = new_train_y.iloc[train_index], new_train_y.iloc[test_index]\n",
    "    \n",
    "    pipe_logistic_model.fit(X_train, y_train)\n",
    "    \n",
    "    y_pred_pipe_logistic_model = pipe_logistic_model.predict(X_test)\n",
    "    \n",
    "    \n",
    "    model_score=pipe_logistic_model.score(X_test,y_test)\n",
    "\n",
    "    accuracy = accuracy_score(y_test, y_pred_pipe_logistic_model)\n",
    "    f1 = f1_score(y_test, y_pred_pipe_logistic_model, average='weighted')\n",
    "    accuracy_scores_logistic_pipeline.append(accuracy)\n",
    "    f1_scores_logistic_pipeline.append(f1)\n",
    "    model_score_test.append(model_score)\n",
    "    \n",
    "    \n",
    "    \n",
    "    \n",
    "    \n",
    "    \n",
    "    \n",
    "print(\"Accuracy scores for each fold using pipe_logistic_model: \", accuracy_scores_logistic_pipeline)\n",
    "print(\"Average accuracy using pipe_logistic_model: \", np.mean(accuracy_scores_logistic_pipeline))\n",
    "print(\"F1 scores for each fold using pipe_logistic_model: \", f1_scores_logistic_pipeline)\n",
    "print(\"Average F1 score using pipe_logistic_model: \", np.mean(f1_scores_logistic_pipeline))\n",
    "print(\"model_score_test list  using pipe_logistic_model \" ,model_score_test )\n",
    "\n"
   ]
  },
  {
   "cell_type": "markdown",
   "id": "348ac48c",
   "metadata": {
    "papermill": {
     "duration": 0.058536,
     "end_time": "2024-07-14T06:09:51.016653",
     "exception": false,
     "start_time": "2024-07-14T06:09:50.958117",
     "status": "completed"
    },
    "tags": []
   },
   "source": [
    "Logistic Half model"
   ]
  },
  {
   "cell_type": "code",
   "execution_count": 75,
   "id": "47681f08",
   "metadata": {
    "execution": {
     "iopub.execute_input": "2024-07-14T06:09:51.137332Z",
     "iopub.status.busy": "2024-07-14T06:09:51.136432Z",
     "iopub.status.idle": "2024-07-14T06:10:10.328378Z",
     "shell.execute_reply": "2024-07-14T06:10:10.327265Z"
    },
    "papermill": {
     "duration": 19.256655,
     "end_time": "2024-07-14T06:10:10.332813",
     "exception": false,
     "start_time": "2024-07-14T06:09:51.076158",
     "status": "completed"
    },
    "tags": []
   },
   "outputs": [
    {
     "name": "stdout",
     "output_type": "stream",
     "text": [
      "Accuracy scores for each fold using pipe_logistic_model:  [0.8128125, 0.82, 0.8140625, 0.8234375, 0.814375]\n",
      "Average accuracy using pipe_logistic_model:  0.8169375000000001\n",
      "F1 scores for each fold using pipe_logistic_model:  [0.8045946332072258, 0.8113726862800728, 0.8049126804765612, 0.8129613690750352, 0.805769976352871]\n",
      "Average F1 score using pipe_logistic_model:  0.8079222690783532\n",
      "model_score_test list  using pipe_logistic_model  [0.8128125, 0.82, 0.8140625, 0.8234375, 0.814375]\n"
     ]
    }
   ],
   "source": [
    "from sklearn.linear_model import LogisticRegression\n",
    "\n",
    "pipe_logistic_model_2 = Pipeline(steps=[('new_ct',new_ct),('logistic_reg',LogisticRegression( max_iter=1200 ,random_state=42))])\n",
    "\n",
    "model_score_test=[]\n",
    "accuracy_scores_logistic_pipeline = []\n",
    "f1_scores_logistic_pipeline = []\n",
    "\n",
    "\n",
    "\n",
    "for train_index, test_index in data_split.split(xtrain_1, ytrain_1):\n",
    "    X_train, X_test = xtrain_1.iloc[train_index], xtrain_1.iloc[test_index]\n",
    "    y_train, y_test = ytrain_1.iloc[train_index], ytrain_1.iloc[test_index]\n",
    "    \n",
    "    pipe_logistic_model_2.fit(X_train, y_train)\n",
    "    \n",
    "    y_pred_pipe_logistic_model_2 = pipe_logistic_model_2.predict(X_test)\n",
    "    \n",
    "    \n",
    "    model_score=pipe_logistic_model_2.score(X_test,y_test)\n",
    "\n",
    "    accuracy = accuracy_score(y_test, y_pred_pipe_logistic_model_2)\n",
    "    f1 = f1_score(y_test, y_pred_pipe_logistic_model_2, average='weighted')\n",
    "    accuracy_scores_logistic_pipeline.append(accuracy)\n",
    "    f1_scores_logistic_pipeline.append(f1)\n",
    "    model_score_test.append(model_score)\n",
    "    \n",
    "    \n",
    "    \n",
    "    \n",
    "    \n",
    "    \n",
    "    \n",
    "print(\"Accuracy scores for each fold using pipe_logistic_model: \", accuracy_scores_logistic_pipeline)\n",
    "print(\"Average accuracy using pipe_logistic_model: \", np.mean(accuracy_scores_logistic_pipeline))\n",
    "print(\"F1 scores for each fold using pipe_logistic_model: \", f1_scores_logistic_pipeline)\n",
    "print(\"Average F1 score using pipe_logistic_model: \", np.mean(f1_scores_logistic_pipeline))\n",
    "print(\"model_score_test list  using pipe_logistic_model \" ,model_score_test )\n",
    "\n"
   ]
  },
  {
   "cell_type": "code",
   "execution_count": 76,
   "id": "e7beaa68",
   "metadata": {
    "execution": {
     "iopub.execute_input": "2024-07-14T06:10:10.460374Z",
     "iopub.status.busy": "2024-07-14T06:10:10.459492Z",
     "iopub.status.idle": "2024-07-14T06:10:10.526016Z",
     "shell.execute_reply": "2024-07-14T06:10:10.524253Z"
    },
    "papermill": {
     "duration": 0.131815,
     "end_time": "2024-07-14T06:10:10.530497",
     "exception": false,
     "start_time": "2024-07-14T06:10:10.398682",
     "status": "completed"
    },
    "tags": []
   },
   "outputs": [
    {
     "data": {
      "text/plain": [
       "0.8115"
      ]
     },
     "execution_count": 76,
     "metadata": {},
     "output_type": "execute_result"
    }
   ],
   "source": [
    "pipe_logistic_model_2.score(xtest_1,ytest_1)"
   ]
  },
  {
   "cell_type": "markdown",
   "id": "7b43ae68",
   "metadata": {
    "papermill": {
     "duration": 0.05898,
     "end_time": "2024-07-14T06:10:10.697086",
     "exception": false,
     "start_time": "2024-07-14T06:10:10.638106",
     "status": "completed"
    },
    "tags": []
   },
   "source": [
    "\n",
    "# SVC\n"
   ]
  },
  {
   "cell_type": "code",
   "execution_count": 77,
   "id": "ce87ae95",
   "metadata": {
    "execution": {
     "iopub.execute_input": "2024-07-14T06:10:10.817531Z",
     "iopub.status.busy": "2024-07-14T06:10:10.817083Z",
     "iopub.status.idle": "2024-07-14T06:11:04.400562Z",
     "shell.execute_reply": "2024-07-14T06:11:04.399407Z"
    },
    "papermill": {
     "duration": 53.706466,
     "end_time": "2024-07-14T06:11:04.462742",
     "exception": false,
     "start_time": "2024-07-14T06:10:10.756276",
     "status": "completed"
    },
    "tags": []
   },
   "outputs": [
    {
     "name": "stdout",
     "output_type": "stream",
     "text": [
      "Accuracy scores for each fold using pipe_logistic_model:  [0.8490625, 0.8609375, 0.85125, 0.856875, 0.8540625]\n",
      "Average accuracy using pipe_logistic_model:  0.8544374999999998\n",
      "F1 scores for each fold using pipe_logistic_model:  [0.8411121451321637, 0.8532616427932881, 0.8423219462436009, 0.8484656477020763, 0.8455372669985587]\n",
      "Average F1 score using pipe_logistic_model:  0.8461397297739376\n",
      "model_score_test list  using pipe_logistic_model  [0.8490625, 0.8609375, 0.85125, 0.856875, 0.8540625]\n"
     ]
    }
   ],
   "source": [
    "from sklearn.svm import SVC\n",
    "pipe_svc_half=Pipeline(steps=[('new_ct',new_ct),('svc',SVC(decision_function_shape='ovr'))])\n",
    "\n",
    "\n",
    "model_score_test_half=[]\n",
    "accuracy_scores_SVC_half = []\n",
    "f1_scores_SVC_half = []\n",
    "\n",
    "\n",
    "\n",
    "for train_index, test_index in data_split.split(xtrain_1, ytrain_1):\n",
    "    X_train, X_test = xtrain_1.iloc[train_index], xtrain_1.iloc[test_index]\n",
    "    y_train, y_test = ytrain_1.iloc[train_index], ytrain_1.iloc[test_index]\n",
    "    \n",
    "    pipe_svc_half.fit(X_train, y_train)\n",
    "    \n",
    "    y_pred_svc_half = pipe_svc_half.predict(X_test)\n",
    "    \n",
    "    \n",
    "    model_score_svc=pipe_svc_half.score(X_test,y_test)\n",
    "    \n",
    "\n",
    "    accuracy_svc = accuracy_score(y_test, y_pred_svc_half)\n",
    "    \n",
    "    \n",
    "    f1_svc = f1_score(y_test, y_pred_svc_half, average='weighted')\n",
    "    \n",
    "    \n",
    "    accuracy_scores_SVC_half.append(accuracy_svc)\n",
    "    f1_scores_SVC_half.append(f1_svc)\n",
    "    model_score_test_half.append(model_score_svc)\n",
    "    \n",
    "    \n",
    "    \n",
    "    \n",
    "    \n",
    "    \n",
    "    \n",
    "print(\"Accuracy scores for each fold using pipe_logistic_model: \", accuracy_scores_SVC_half)\n",
    "print(\"Average accuracy using pipe_logistic_model: \", np.mean(accuracy_scores_SVC_half))\n",
    "print(\"F1 scores for each fold using pipe_logistic_model: \", f1_scores_SVC_half)\n",
    "print(\"Average F1 score using pipe_logistic_model: \", np.mean(f1_scores_SVC_half))\n",
    "print(\"model_score_test list  using pipe_logistic_model \" ,model_score_test_half )\n",
    "\n"
   ]
  },
  {
   "cell_type": "code",
   "execution_count": 78,
   "id": "e51d5bcf",
   "metadata": {
    "execution": {
     "iopub.execute_input": "2024-07-14T06:11:04.583519Z",
     "iopub.status.busy": "2024-07-14T06:11:04.583078Z",
     "iopub.status.idle": "2024-07-14T06:12:26.141712Z",
     "shell.execute_reply": "2024-07-14T06:12:26.140368Z"
    },
    "papermill": {
     "duration": 81.681954,
     "end_time": "2024-07-14T06:12:26.204190",
     "exception": false,
     "start_time": "2024-07-14T06:11:04.522236",
     "status": "completed"
    },
    "tags": []
   },
   "outputs": [
    {
     "name": "stdout",
     "output_type": "stream",
     "text": [
      "Accuracy scores for each fold using pipe_logistic_model:  [0.86425, 0.8465, 0.8535, 0.853, 0.85925]\n",
      "Average accuracy using pipe_logistic_model:  0.8553000000000001\n",
      "F1 scores for each fold using pipe_logistic_model:  [0.8552828288270332, 0.8387028822458978, 0.8460534132659353, 0.8442440976590341, 0.8504320625406414]\n",
      "Average F1 score using pipe_logistic_model:  0.8469430569077083\n",
      "model_score_test list  using pipe_logistic_model  [0.86425, 0.8465, 0.8535, 0.853, 0.85925]\n"
     ]
    }
   ],
   "source": [
    "from sklearn.svm import SVC\n",
    "pipe_svc_full=Pipeline(steps=[('new_ct',new_ct),('svc',SVC(decision_function_shape='ovr'))])\n",
    "\n",
    "\n",
    "model_score_test_full=[]\n",
    "accuracy_scores_SVC_full = []\n",
    "f1_scores_SVC_full = []\n",
    "\n",
    "\n",
    "\n",
    "for train_index, test_index in data_split.split(new_train, new_train_y):\n",
    "    X_train, X_test = new_train.iloc[train_index], new_train.iloc[test_index]\n",
    "    y_train, y_test = new_train_y.iloc[train_index], new_train_y.iloc[test_index]\n",
    "    \n",
    "    pipe_svc_full.fit(X_train, y_train)\n",
    "    \n",
    "    y_pred_svc_full = pipe_svc_full.predict(X_test)\n",
    "    \n",
    "    \n",
    "    model_score_svc=pipe_svc_full.score(X_test,y_test)\n",
    "\n",
    "    accuracy_svc = accuracy_score(y_test, y_pred_svc_full)\n",
    "    \n",
    "    f1_svc = f1_score(y_test, y_pred_svc_full, average='weighted')\n",
    "    \n",
    "    \n",
    "    accuracy_scores_SVC_full.append(accuracy_svc)\n",
    "    f1_scores_SVC_full.append(f1_svc)\n",
    "    model_score_test_full.append(model_score_svc)\n",
    "    \n",
    "    \n",
    "    \n",
    "    \n",
    "    \n",
    "    \n",
    "    \n",
    "print(\"Accuracy scores for each fold using pipe_logistic_model: \", accuracy_scores_SVC_full)\n",
    "print(\"Average accuracy using pipe_logistic_model: \", np.mean(accuracy_scores_SVC_full))\n",
    "print(\"F1 scores for each fold using pipe_logistic_model: \", f1_scores_SVC_full)\n",
    "print(\"Average F1 score using pipe_logistic_model: \", np.mean(f1_scores_SVC_full))\n",
    "print(\"model_score_test list  using pipe_logistic_model \" ,model_score_test_full )\n",
    "\n"
   ]
  },
  {
   "cell_type": "code",
   "execution_count": 79,
   "id": "190bbc7f",
   "metadata": {
    "execution": {
     "iopub.execute_input": "2024-07-14T06:12:26.324873Z",
     "iopub.status.busy": "2024-07-14T06:12:26.324438Z",
     "iopub.status.idle": "2024-07-14T06:12:26.329577Z",
     "shell.execute_reply": "2024-07-14T06:12:26.328402Z"
    },
    "papermill": {
     "duration": 0.068344,
     "end_time": "2024-07-14T06:12:26.332038",
     "exception": false,
     "start_time": "2024-07-14T06:12:26.263694",
     "status": "completed"
    },
    "tags": []
   },
   "outputs": [],
   "source": [
    "# df.info()"
   ]
  },
  {
   "cell_type": "code",
   "execution_count": 80,
   "id": "a3aa999e",
   "metadata": {
    "execution": {
     "iopub.execute_input": "2024-07-14T06:12:26.454601Z",
     "iopub.status.busy": "2024-07-14T06:12:26.454085Z",
     "iopub.status.idle": "2024-07-14T06:12:26.459041Z",
     "shell.execute_reply": "2024-07-14T06:12:26.457857Z"
    },
    "papermill": {
     "duration": 0.068301,
     "end_time": "2024-07-14T06:12:26.461545",
     "exception": false,
     "start_time": "2024-07-14T06:12:26.393244",
     "status": "completed"
    },
    "tags": []
   },
   "outputs": [],
   "source": [
    "# from sklearn.linear_model import LogisticRegression,LogisticRegressionCV\n",
    "# from sklearn.pipeline import Pipeline\n",
    "# from sklearn.compose import ColumnTransformer"
   ]
  },
  {
   "cell_type": "code",
   "execution_count": 81,
   "id": "f9442568",
   "metadata": {
    "execution": {
     "iopub.execute_input": "2024-07-14T06:12:26.582173Z",
     "iopub.status.busy": "2024-07-14T06:12:26.581710Z",
     "iopub.status.idle": "2024-07-14T06:12:26.587531Z",
     "shell.execute_reply": "2024-07-14T06:12:26.586370Z"
    },
    "papermill": {
     "duration": 0.069653,
     "end_time": "2024-07-14T06:12:26.590475",
     "exception": false,
     "start_time": "2024-07-14T06:12:26.520822",
     "status": "completed"
    },
    "tags": []
   },
   "outputs": [],
   "source": [
    "# from sklearn.base import BaseEstimator, TransformerMixin\n",
    "# from sklearn.preprocessing import MultiLabelBinarizer\n",
    "\n",
    "# class MultiLabelBinarizerWrapper(BaseEstimator, TransformerMixin):\n",
    "#     def __init__(self):\n",
    "#         self.mlb = MultiLabelBinarizer()\n",
    "\n",
    "#     def fit(self, X, y=None):\n",
    "#         self.mlb.fit(X)\n",
    "#         return self\n",
    "\n",
    "#     def transform(self, X):\n",
    "#         return self.mlb.transform(X)"
   ]
  },
  {
   "cell_type": "code",
   "execution_count": 82,
   "id": "c4b1b8d6",
   "metadata": {
    "execution": {
     "iopub.execute_input": "2024-07-14T06:12:26.712492Z",
     "iopub.status.busy": "2024-07-14T06:12:26.712058Z",
     "iopub.status.idle": "2024-07-14T06:12:26.717483Z",
     "shell.execute_reply": "2024-07-14T06:12:26.716186Z"
    },
    "papermill": {
     "duration": 0.069165,
     "end_time": "2024-07-14T06:12:26.720036",
     "exception": false,
     "start_time": "2024-07-14T06:12:26.650871",
     "status": "completed"
    },
    "tags": []
   },
   "outputs": [],
   "source": [
    "\n",
    "# from sklearn.preprocessing import StandardScaler , OneHotEncoder  , MultiLabelBinarizer\n",
    "# from sklearn.feature_extraction.text import CountVectorizer\n",
    "# ct=ColumnTransformer(transformers=[\n",
    "    \n",
    "#     ('numerical_cols' , StandardScaler(),['Latitude','Longitude','reporting_delay_day_count','Victim_Age']),\n",
    "#     ('categorical_cols' , OneHotEncoder(handle_unknown='ignore'),['day_category','Victim_Sex','Victim_Descent','Part 1-2','Area_ID','Status','Weapon_Description']),\n",
    "#     ('multi_label_binarizer', MultiLabelBinarizerWrapper(), 'Modus_Operandi')\n",
    "# ])\n",
    "    "
   ]
  },
  {
   "cell_type": "code",
   "execution_count": 83,
   "id": "3eea6823",
   "metadata": {
    "execution": {
     "iopub.execute_input": "2024-07-14T06:12:26.843626Z",
     "iopub.status.busy": "2024-07-14T06:12:26.843181Z",
     "iopub.status.idle": "2024-07-14T06:12:26.848388Z",
     "shell.execute_reply": "2024-07-14T06:12:26.846986Z"
    },
    "papermill": {
     "duration": 0.070222,
     "end_time": "2024-07-14T06:12:26.851117",
     "exception": false,
     "start_time": "2024-07-14T06:12:26.780895",
     "status": "completed"
    },
    "tags": []
   },
   "outputs": [],
   "source": [
    "# len(df['Area_ID'].value_counts())"
   ]
  },
  {
   "cell_type": "code",
   "execution_count": 84,
   "id": "f9ba755e",
   "metadata": {
    "execution": {
     "iopub.execute_input": "2024-07-14T06:12:26.974130Z",
     "iopub.status.busy": "2024-07-14T06:12:26.973731Z",
     "iopub.status.idle": "2024-07-14T06:12:26.978791Z",
     "shell.execute_reply": "2024-07-14T06:12:26.977567Z"
    },
    "papermill": {
     "duration": 0.070096,
     "end_time": "2024-07-14T06:12:26.981358",
     "exception": false,
     "start_time": "2024-07-14T06:12:26.911262",
     "status": "completed"
    },
    "tags": []
   },
   "outputs": [],
   "source": [
    "# pipe_logistic = Pipeline(steps=[('ct',ct),('logistic_reg',LogisticRegression(solver='saga',C=0.1,warm_start=True, max_iter=1500 ,random_state=42))])"
   ]
  },
  {
   "cell_type": "code",
   "execution_count": 85,
   "id": "c9496c56",
   "metadata": {
    "execution": {
     "iopub.execute_input": "2024-07-14T06:12:27.105128Z",
     "iopub.status.busy": "2024-07-14T06:12:27.104528Z",
     "iopub.status.idle": "2024-07-14T06:12:27.109781Z",
     "shell.execute_reply": "2024-07-14T06:12:27.108507Z"
    },
    "papermill": {
     "duration": 0.069001,
     "end_time": "2024-07-14T06:12:27.112021",
     "exception": false,
     "start_time": "2024-07-14T06:12:27.043020",
     "status": "completed"
    },
    "tags": []
   },
   "outputs": [],
   "source": [
    "# pipe_logistic_sag = Pipeline(steps=[('ct',ct),('logistic_reg',LogisticRegressionCV(solver='sag',penalty='l2',multi_class='ovr', max_iter=2000 ,random_state=42))])\n",
    "\n",
    "# pipe_logistic_sag.fit(xtrain,ytrain)\n",
    "\n",
    "# pipe_logistic_sag.score(xtest,ytest)"
   ]
  },
  {
   "cell_type": "code",
   "execution_count": 86,
   "id": "b609a28a",
   "metadata": {
    "execution": {
     "iopub.execute_input": "2024-07-14T06:12:27.234504Z",
     "iopub.status.busy": "2024-07-14T06:12:27.234076Z",
     "iopub.status.idle": "2024-07-14T06:12:27.238849Z",
     "shell.execute_reply": "2024-07-14T06:12:27.237722Z"
    },
    "papermill": {
     "duration": 0.06952,
     "end_time": "2024-07-14T06:12:27.241232",
     "exception": false,
     "start_time": "2024-07-14T06:12:27.171712",
     "status": "completed"
    },
    "tags": []
   },
   "outputs": [],
   "source": [
    "# pipe_logistic.fit(xtrain,ytrain)"
   ]
  },
  {
   "cell_type": "code",
   "execution_count": 87,
   "id": "2a8e8293",
   "metadata": {
    "execution": {
     "iopub.execute_input": "2024-07-14T06:12:27.363598Z",
     "iopub.status.busy": "2024-07-14T06:12:27.362778Z",
     "iopub.status.idle": "2024-07-14T06:12:27.367645Z",
     "shell.execute_reply": "2024-07-14T06:12:27.366476Z"
    },
    "papermill": {
     "duration": 0.069017,
     "end_time": "2024-07-14T06:12:27.370165",
     "exception": false,
     "start_time": "2024-07-14T06:12:27.301148",
     "status": "completed"
    },
    "tags": []
   },
   "outputs": [],
   "source": [
    "# pipe_logistic.score(xtest,ytest)"
   ]
  },
  {
   "cell_type": "code",
   "execution_count": 88,
   "id": "e39cddbf",
   "metadata": {
    "execution": {
     "iopub.execute_input": "2024-07-14T06:12:27.493449Z",
     "iopub.status.busy": "2024-07-14T06:12:27.493000Z",
     "iopub.status.idle": "2024-07-14T06:12:27.498635Z",
     "shell.execute_reply": "2024-07-14T06:12:27.497272Z"
    },
    "papermill": {
     "duration": 0.070115,
     "end_time": "2024-07-14T06:12:27.501219",
     "exception": false,
     "start_time": "2024-07-14T06:12:27.431104",
     "status": "completed"
    },
    "tags": []
   },
   "outputs": [],
   "source": [
    "# from sklearn.metrics import make_scorer ,f1_score\n",
    "# logCV_scorer=make_scorer(f1_score , average='auto')\n",
    "# pipe_logistic_multiclass = Pipeline(steps=[('ct',ct),('logistic_reg',LogisticRegressionCV(cv=3,penalty='l2',solver='saga',multi_class='multinomial',Cs=[0.1, 0.5, 1] ,max_iter=3000 ,random_state=42))])\n",
    "\n",
    "# pipe_logistic_multiclass.fit(xtrain,ytrain)\n",
    "# pipe_logistic_multiclass.score(xtrain,ytrain)\n",
    "\n",
    "# pipe_logistic_multiclass.score(xtest,ytest)\n",
    "\n",
    "\n",
    "\n",
    "\n",
    "# # 0.81175\n"
   ]
  },
  {
   "cell_type": "code",
   "execution_count": 89,
   "id": "f01a9cda",
   "metadata": {
    "execution": {
     "iopub.execute_input": "2024-07-14T06:12:27.625171Z",
     "iopub.status.busy": "2024-07-14T06:12:27.624179Z",
     "iopub.status.idle": "2024-07-14T06:12:27.629220Z",
     "shell.execute_reply": "2024-07-14T06:12:27.628276Z"
    },
    "papermill": {
     "duration": 0.069928,
     "end_time": "2024-07-14T06:12:27.631718",
     "exception": false,
     "start_time": "2024-07-14T06:12:27.561790",
     "status": "completed"
    },
    "tags": []
   },
   "outputs": [],
   "source": [
    "# from sklearn.metrics import make_scorer ,f1_score\n",
    "# logCV_scorer=make_scorer(f1_score , average='auto')\n",
    "# pipe_logistic_ovr = Pipeline(steps=[('ct',ct),('logistic_reg',LogisticRegressionCV(cv=5,penalty='l2',solver='liblinear',multi_class='ovr',Cs=[0.1, 0.5, 1] ,max_iter=2400 ,random_state=42))])\n",
    "# pipe_logistic_ovr.fit(xtrain,ytrain)\n",
    "# pipe_logistic_ovr.score(xtest,ytest)\n",
    "\n",
    "\n",
    "\n",
    "\n",
    "\n",
    "\n",
    "# # 0.805"
   ]
  },
  {
   "cell_type": "code",
   "execution_count": 90,
   "id": "1c8c5ce8",
   "metadata": {
    "execution": {
     "iopub.execute_input": "2024-07-14T06:12:27.757274Z",
     "iopub.status.busy": "2024-07-14T06:12:27.756181Z",
     "iopub.status.idle": "2024-07-14T06:12:27.762496Z",
     "shell.execute_reply": "2024-07-14T06:12:27.761243Z"
    },
    "papermill": {
     "duration": 0.072831,
     "end_time": "2024-07-14T06:12:27.765161",
     "exception": false,
     "start_time": "2024-07-14T06:12:27.692330",
     "status": "completed"
    },
    "tags": []
   },
   "outputs": [],
   "source": [
    "# from sklearn.model_selection import GridSearchCV\n",
    "# grid_logistic_estimator=Pipeline(steps=[('ct',ct),('logistic',LogisticRegression(random_state=42,penalty='l2',multi_class='multinomial' , max_iter=2500))])\n",
    "\n",
    "# param_grid_logistic={\n",
    "    \n",
    "#     'logistic__C':[0.01 , 0.1 , 1 , 10],\n",
    "    \n",
    "#     'logistic__solver':['sag', 'saga'],\n",
    "    \n",
    "# #     'logistic__penalty':['l2'] ,\n",
    "  \n",
    "# #     'logistic__max_iter' : [1000 , 1200 , 1500]\n",
    "# }\n",
    "\n",
    "# grid_logistic=GridSearchCV(grid_logistic_estimator, param_grid=param_grid_logistic , cv=5 ,n_jobs=-1)\n",
    "\n",
    "\n",
    "# grid_logistic.fit(xtrain , ytrain)\n",
    "\n",
    "\n",
    "\n",
    "# grid_logistic.score(xtest,ytest)\n",
    "\n",
    "\n",
    "\n",
    "# # 0.81225"
   ]
  },
  {
   "cell_type": "code",
   "execution_count": 91,
   "id": "d18e112c",
   "metadata": {
    "execution": {
     "iopub.execute_input": "2024-07-14T06:12:27.889763Z",
     "iopub.status.busy": "2024-07-14T06:12:27.889326Z",
     "iopub.status.idle": "2024-07-14T06:12:27.894583Z",
     "shell.execute_reply": "2024-07-14T06:12:27.893292Z"
    },
    "papermill": {
     "duration": 0.071546,
     "end_time": "2024-07-14T06:12:27.897282",
     "exception": false,
     "start_time": "2024-07-14T06:12:27.825736",
     "status": "completed"
    },
    "tags": []
   },
   "outputs": [],
   "source": [
    "# grid_logistic.best_params_\n",
    "\n",
    "\n",
    "# # {'logistic__C': 10, 'logistic__solver': 'sag'}"
   ]
  },
  {
   "cell_type": "code",
   "execution_count": 92,
   "id": "f32d824d",
   "metadata": {
    "execution": {
     "iopub.execute_input": "2024-07-14T06:12:28.021903Z",
     "iopub.status.busy": "2024-07-14T06:12:28.021490Z",
     "iopub.status.idle": "2024-07-14T06:12:28.026892Z",
     "shell.execute_reply": "2024-07-14T06:12:28.025630Z"
    },
    "papermill": {
     "duration": 0.070564,
     "end_time": "2024-07-14T06:12:28.029557",
     "exception": false,
     "start_time": "2024-07-14T06:12:27.958993",
     "status": "completed"
    },
    "tags": []
   },
   "outputs": [],
   "source": [
    "# xtrain.info()"
   ]
  },
  {
   "cell_type": "code",
   "execution_count": 93,
   "id": "9e204589",
   "metadata": {
    "execution": {
     "iopub.execute_input": "2024-07-14T06:12:28.154496Z",
     "iopub.status.busy": "2024-07-14T06:12:28.153946Z",
     "iopub.status.idle": "2024-07-14T06:12:28.159630Z",
     "shell.execute_reply": "2024-07-14T06:12:28.158208Z"
    },
    "papermill": {
     "duration": 0.071602,
     "end_time": "2024-07-14T06:12:28.162464",
     "exception": false,
     "start_time": "2024-07-14T06:12:28.090862",
     "status": "completed"
    },
    "tags": []
   },
   "outputs": [],
   "source": [
    "# from sklearn.svm import SVC , NuSVC\n",
    "# pipe_svc=Pipeline(steps=[('ct',ct),('svc',SVC(decision_function_shape='ovr'))])"
   ]
  },
  {
   "cell_type": "code",
   "execution_count": 94,
   "id": "5839b438",
   "metadata": {
    "execution": {
     "iopub.execute_input": "2024-07-14T06:12:28.288174Z",
     "iopub.status.busy": "2024-07-14T06:12:28.287160Z",
     "iopub.status.idle": "2024-07-14T06:12:28.292251Z",
     "shell.execute_reply": "2024-07-14T06:12:28.291128Z"
    },
    "papermill": {
     "duration": 0.069772,
     "end_time": "2024-07-14T06:12:28.294691",
     "exception": false,
     "start_time": "2024-07-14T06:12:28.224919",
     "status": "completed"
    },
    "tags": []
   },
   "outputs": [],
   "source": [
    "# pipe_svc.fit(xtrain,ytrain)"
   ]
  },
  {
   "cell_type": "code",
   "execution_count": 95,
   "id": "911c1392",
   "metadata": {
    "execution": {
     "iopub.execute_input": "2024-07-14T06:12:28.418002Z",
     "iopub.status.busy": "2024-07-14T06:12:28.417565Z",
     "iopub.status.idle": "2024-07-14T06:12:28.422529Z",
     "shell.execute_reply": "2024-07-14T06:12:28.421376Z"
    },
    "papermill": {
     "duration": 0.070125,
     "end_time": "2024-07-14T06:12:28.425148",
     "exception": false,
     "start_time": "2024-07-14T06:12:28.355023",
     "status": "completed"
    },
    "tags": []
   },
   "outputs": [],
   "source": [
    "# pipe_svc.score(xtrain,ytrain)"
   ]
  },
  {
   "cell_type": "code",
   "execution_count": 96,
   "id": "72d09f79",
   "metadata": {
    "execution": {
     "iopub.execute_input": "2024-07-14T06:12:28.550442Z",
     "iopub.status.busy": "2024-07-14T06:12:28.549972Z",
     "iopub.status.idle": "2024-07-14T06:12:28.554926Z",
     "shell.execute_reply": "2024-07-14T06:12:28.553668Z"
    },
    "papermill": {
     "duration": 0.069901,
     "end_time": "2024-07-14T06:12:28.557419",
     "exception": false,
     "start_time": "2024-07-14T06:12:28.487518",
     "status": "completed"
    },
    "tags": []
   },
   "outputs": [],
   "source": [
    "# pipe_svc.score(xtest,ytest)"
   ]
  },
  {
   "cell_type": "markdown",
   "id": "13aa3727",
   "metadata": {
    "papermill": {
     "duration": 0.061329,
     "end_time": "2024-07-14T06:12:28.680025",
     "exception": false,
     "start_time": "2024-07-14T06:12:28.618696",
     "status": "completed"
    },
    "tags": []
   },
   "source": [
    "svc hpt"
   ]
  },
  {
   "cell_type": "code",
   "execution_count": 97,
   "id": "d8bb4940",
   "metadata": {
    "execution": {
     "iopub.execute_input": "2024-07-14T06:12:28.805795Z",
     "iopub.status.busy": "2024-07-14T06:12:28.804452Z",
     "iopub.status.idle": "2024-07-14T06:12:28.810123Z",
     "shell.execute_reply": "2024-07-14T06:12:28.809138Z"
    },
    "papermill": {
     "duration": 0.071191,
     "end_time": "2024-07-14T06:12:28.812653",
     "exception": false,
     "start_time": "2024-07-14T06:12:28.741462",
     "status": "completed"
    },
    "tags": []
   },
   "outputs": [],
   "source": [
    "# from sklearn.model_selection import RandomizedSearchCV\n",
    "# from sklearn.model_selection import StratifiedKFold\n",
    "\n",
    "\n",
    "# svc_param = {\n",
    "#     'svc__kernel': ['linear', 'rbf', 'poly'] ,\n",
    "#     'svc__gamma':['scale', 'auto'],\n",
    "#     'svc__C':  [0.01,0.1,1,10,100]   \n",
    "# }\n",
    "\n",
    "# svc_cv = StratifiedKFold(n_splits=5, shuffle=True, random_state=42)\n",
    "\n",
    "# svc_random_search = RandomizedSearchCV(estimator=pipe_svc, param_distributions=svc_param, cv=svc_cv,n_iter=5, n_jobs=-1, verbose=2, random_state=42)\n",
    "\n",
    "# svc_random_search.fit(xtrain , ytrain)\n",
    "\n",
    "\n"
   ]
  },
  {
   "cell_type": "code",
   "execution_count": 98,
   "id": "0fb6a17f",
   "metadata": {
    "execution": {
     "iopub.execute_input": "2024-07-14T06:12:28.937264Z",
     "iopub.status.busy": "2024-07-14T06:12:28.936178Z",
     "iopub.status.idle": "2024-07-14T06:12:28.941279Z",
     "shell.execute_reply": "2024-07-14T06:12:28.940064Z"
    },
    "papermill": {
     "duration": 0.069618,
     "end_time": "2024-07-14T06:12:28.943676",
     "exception": false,
     "start_time": "2024-07-14T06:12:28.874058",
     "status": "completed"
    },
    "tags": []
   },
   "outputs": [],
   "source": [
    "# print('train score',svc_random_search.score(xtrain , ytrain))\n",
    "# print('test score',svc_random_search.score(xtest , ytest))\n"
   ]
  },
  {
   "cell_type": "code",
   "execution_count": 99,
   "id": "f2c2560f",
   "metadata": {
    "execution": {
     "iopub.execute_input": "2024-07-14T06:12:29.068229Z",
     "iopub.status.busy": "2024-07-14T06:12:29.067806Z",
     "iopub.status.idle": "2024-07-14T06:12:29.072940Z",
     "shell.execute_reply": "2024-07-14T06:12:29.071776Z"
    },
    "papermill": {
     "duration": 0.070413,
     "end_time": "2024-07-14T06:12:29.075475",
     "exception": false,
     "start_time": "2024-07-14T06:12:29.005062",
     "status": "completed"
    },
    "tags": []
   },
   "outputs": [],
   "source": [
    "# xtrain.info()"
   ]
  },
  {
   "cell_type": "code",
   "execution_count": 100,
   "id": "cd939eab",
   "metadata": {
    "execution": {
     "iopub.execute_input": "2024-07-14T06:12:29.201186Z",
     "iopub.status.busy": "2024-07-14T06:12:29.200767Z",
     "iopub.status.idle": "2024-07-14T06:12:29.205689Z",
     "shell.execute_reply": "2024-07-14T06:12:29.204545Z"
    },
    "papermill": {
     "duration": 0.071448,
     "end_time": "2024-07-14T06:12:29.208377",
     "exception": false,
     "start_time": "2024-07-14T06:12:29.136929",
     "status": "completed"
    },
    "tags": []
   },
   "outputs": [],
   "source": [
    "# df.shape"
   ]
  },
  {
   "cell_type": "code",
   "execution_count": 101,
   "id": "8bcfc9ef",
   "metadata": {
    "execution": {
     "iopub.execute_input": "2024-07-14T06:12:29.334124Z",
     "iopub.status.busy": "2024-07-14T06:12:29.333740Z",
     "iopub.status.idle": "2024-07-14T06:12:29.338847Z",
     "shell.execute_reply": "2024-07-14T06:12:29.337737Z"
    },
    "papermill": {
     "duration": 0.069994,
     "end_time": "2024-07-14T06:12:29.341092",
     "exception": false,
     "start_time": "2024-07-14T06:12:29.271098",
     "status": "completed"
    },
    "tags": []
   },
   "outputs": [],
   "source": [
    "# test.shape"
   ]
  },
  {
   "cell_type": "code",
   "execution_count": 102,
   "id": "3259779f",
   "metadata": {
    "execution": {
     "iopub.execute_input": "2024-07-14T06:12:29.466268Z",
     "iopub.status.busy": "2024-07-14T06:12:29.465853Z",
     "iopub.status.idle": "2024-07-14T06:12:29.470392Z",
     "shell.execute_reply": "2024-07-14T06:12:29.469380Z"
    },
    "papermill": {
     "duration": 0.069497,
     "end_time": "2024-07-14T06:12:29.472739",
     "exception": false,
     "start_time": "2024-07-14T06:12:29.403242",
     "status": "completed"
    },
    "tags": []
   },
   "outputs": [],
   "source": [
    "# df.info()"
   ]
  },
  {
   "cell_type": "code",
   "execution_count": 103,
   "id": "818df14f",
   "metadata": {
    "execution": {
     "iopub.execute_input": "2024-07-14T06:12:29.598243Z",
     "iopub.status.busy": "2024-07-14T06:12:29.597246Z",
     "iopub.status.idle": "2024-07-14T06:12:29.602388Z",
     "shell.execute_reply": "2024-07-14T06:12:29.601246Z"
    },
    "papermill": {
     "duration": 0.070503,
     "end_time": "2024-07-14T06:12:29.604858",
     "exception": false,
     "start_time": "2024-07-14T06:12:29.534355",
     "status": "completed"
    },
    "tags": []
   },
   "outputs": [],
   "source": [
    "# from sklearn.linear_model import Perceptron\n",
    "\n",
    "# pipe_percep=Pipeline(steps=[('ct',ct),('perceptron',Perceptron())])\n",
    "\n",
    "# pipe_percep.fit(xtrain,ytrain)\n",
    "\n",
    "# pipe_percep.score(xtest,ytest)"
   ]
  },
  {
   "cell_type": "markdown",
   "id": "53ba6ff4",
   "metadata": {
    "papermill": {
     "duration": 0.061667,
     "end_time": "2024-07-14T06:12:29.729541",
     "exception": false,
     "start_time": "2024-07-14T06:12:29.667874",
     "status": "completed"
    },
    "tags": []
   },
   "source": [
    "KNN"
   ]
  },
  {
   "cell_type": "markdown",
   "id": "5c9e9384",
   "metadata": {
    "papermill": {
     "duration": 0.06215,
     "end_time": "2024-07-14T06:12:29.853535",
     "exception": false,
     "start_time": "2024-07-14T06:12:29.791385",
     "status": "completed"
    },
    "tags": []
   },
   "source": [
    "KNN Grid"
   ]
  },
  {
   "cell_type": "code",
   "execution_count": 104,
   "id": "b304b9e8",
   "metadata": {
    "execution": {
     "iopub.execute_input": "2024-07-14T06:12:29.978324Z",
     "iopub.status.busy": "2024-07-14T06:12:29.977858Z",
     "iopub.status.idle": "2024-07-14T06:12:29.983571Z",
     "shell.execute_reply": "2024-07-14T06:12:29.982384Z"
    },
    "papermill": {
     "duration": 0.070713,
     "end_time": "2024-07-14T06:12:29.985997",
     "exception": false,
     "start_time": "2024-07-14T06:12:29.915284",
     "status": "completed"
    },
    "tags": []
   },
   "outputs": [],
   "source": [
    "# from sklearn.neighbors import KNeighborsClassifier\n",
    "\n",
    "# #45  33-8077   29-81  28  27  20  16  14 12 10\n",
    "# kn_classifier=Pipeline(steps=[('ct' , ct ),( 'knn' ,KNeighborsClassifier(n_neighbors=9))])\n",
    "\n",
    "\n",
    "# kn_classifier.fit(xtrain , ytrain)\n",
    "\n",
    "\n",
    "# ypred_kn_classifier=kn_classifier.predict(xtest)\n",
    "\n",
    "\n",
    "\n",
    "# print(\"Train score = \",kn_classifier.score(xtrain,ytrain))\n",
    "# print(\"Test score = \",kn_classifier.score(xtest,ytest))\n",
    "\n",
    "# print('---------------------------------------------------------')\n",
    "# print(classification_report(ytest,ypred_kn_classifier))\n",
    "\n",
    "# print('---------------------------------------------------------')\n",
    "\n",
    "# print(ConfusionMatrixDisplay.from_estimator(kn_classifier , xtest , ytest ,xticks_rotation='vertical'))\n"
   ]
  },
  {
   "cell_type": "code",
   "execution_count": 105,
   "id": "76ef66e2",
   "metadata": {
    "execution": {
     "iopub.execute_input": "2024-07-14T06:12:30.111470Z",
     "iopub.status.busy": "2024-07-14T06:12:30.110979Z",
     "iopub.status.idle": "2024-07-14T06:12:30.145896Z",
     "shell.execute_reply": "2024-07-14T06:12:30.144778Z"
    },
    "papermill": {
     "duration": 0.100395,
     "end_time": "2024-07-14T06:12:30.148879",
     "exception": false,
     "start_time": "2024-07-14T06:12:30.048484",
     "status": "completed"
    },
    "tags": []
   },
   "outputs": [],
   "source": [
    "import time\n",
    "start_time = time.time()\n",
    "# from sklearn.metrics import pairwise_distances\n",
    "from sklearn.model_selection import  RepeatedStratifiedKFold ,GridSearchCV ,RandomizedSearchCV\n",
    "\n",
    "from sklearn.decomposition import PCA\n",
    "\n",
    "\n",
    "\n",
    "# knn_param_grid= {\n",
    "    \n",
    "#     \"knn__n_neighbors\":[9,12,16 ,20],\n",
    "    \n",
    "#     \"knn__weights\":['uniform','distance'],\n",
    "    \n",
    "# #     'knn__algorithm':['ball_tree','kd_tree'],\n",
    "    \n",
    "#     'knn__leaf_size':[19,20,30,25],\n",
    "#     'knn__p':[1,2]\n",
    "# #     'knn__metric':['euclidean','manhattan'] \n",
    "# }\n",
    "\n",
    "\n",
    "# kn_classifier_grid_est=Pipeline(steps=[('ct' , ct ),( 'knn' ,KNeighborsClassifier())])\n",
    "\n",
    "# cv=RepeatedStratifiedKFold(n_splits=5 , n_repeats = 4 , random_state=42)\n",
    "\n",
    "# # kn_classifier_grid = GridSearchCV(kn_classifier_grid_est, param_grid=knn_param_grid , n_jobs=-1 , cv=cv , scoring='accuracy' , error_score=0)\n",
    "# kn_classifier_Randomgrid = RandomizedSearchCV(kn_classifier_grid_est, param_distributions=knn_param_grid , n_jobs=-1 , cv=cv , scoring='accuracy' , error_score=0)\n",
    "\n",
    "# # kn_classifier_grid.fit(xtrain , ytrain)\n",
    "# kn_classifier_Randomgrid.fit(xtrain , ytrain)\n",
    "\n",
    "# kn_classifier_Randomgrid.score(xtrain,ytrain)\n",
    "# kn_classifier_Randomgrid.score(xtest,ytest)\n",
    "\n",
    "# end_time = time.time()\n",
    "# print(\"elapsed_time = \",(end_time - start_time)//60)\n",
    "\n",
    "\n",
    "\n",
    "\n",
    "\n",
    "\n",
    "\n",
    "\n",
    "\n",
    "\n"
   ]
  },
  {
   "cell_type": "code",
   "execution_count": 106,
   "id": "a091fc7b",
   "metadata": {
    "execution": {
     "iopub.execute_input": "2024-07-14T06:12:30.278279Z",
     "iopub.status.busy": "2024-07-14T06:12:30.277859Z",
     "iopub.status.idle": "2024-07-14T06:12:30.282769Z",
     "shell.execute_reply": "2024-07-14T06:12:30.281681Z"
    },
    "papermill": {
     "duration": 0.071918,
     "end_time": "2024-07-14T06:12:30.285393",
     "exception": false,
     "start_time": "2024-07-14T06:12:30.213475",
     "status": "completed"
    },
    "tags": []
   },
   "outputs": [],
   "source": [
    "# kn_classifier_grid = GridSearchCV(kn_classifier_grid_est, param_grid=knn_param_grid , n_jobs=-1 , cv=cv , scoring='accuracy' , error_score=0)\n",
    "# kn_classifier_grid.fit(xtrain , ytrain)\n"
   ]
  },
  {
   "cell_type": "code",
   "execution_count": 107,
   "id": "1af1c25b",
   "metadata": {
    "execution": {
     "iopub.execute_input": "2024-07-14T06:12:30.412291Z",
     "iopub.status.busy": "2024-07-14T06:12:30.411263Z",
     "iopub.status.idle": "2024-07-14T06:12:30.417542Z",
     "shell.execute_reply": "2024-07-14T06:12:30.416396Z"
    },
    "papermill": {
     "duration": 0.072926,
     "end_time": "2024-07-14T06:12:30.419934",
     "exception": false,
     "start_time": "2024-07-14T06:12:30.347008",
     "status": "completed"
    },
    "tags": []
   },
   "outputs": [],
   "source": [
    "   #n= 16\n",
    "# kn_classifier_tuned=Pipeline(steps=[('ct' , ct ),( 'knn' ,KNeighborsClassifier(n_neighbors=19 , p=1,leaf_size=19 ,weights='distance'))])\n",
    "\n",
    "\n",
    "# kn_classifier_tuned.fit(xtrain , ytrain)\n",
    "\n",
    "\n",
    "# ypred_kn_classifier_tuned=kn_classifier_tuned.predict(xtest)\n",
    "\n",
    "\n",
    "\n",
    "# print(\"Train score = \",kn_classifier_tuned.score(xtrain,ytrain))\n",
    "# print(\"Test score = \",kn_classifier_tuned.score(xtest,ytest))\n",
    "\n",
    "# print('---------------------------------------------------------')\n",
    "# print(classification_report(ytest,ypred_kn_classifier_tuned))\n",
    "\n",
    "# print('---------------------------------------------------------')\n",
    "\n",
    "# print(ConfusionMatrixDisplay.from_estimator(kn_classifier_tuned , xtest , ytest ,xticks_rotation='vertical'))\n"
   ]
  },
  {
   "cell_type": "markdown",
   "id": "6e4a7c3e",
   "metadata": {
    "papermill": {
     "duration": 0.061024,
     "end_time": "2024-07-14T06:12:30.542116",
     "exception": false,
     "start_time": "2024-07-14T06:12:30.481092",
     "status": "completed"
    },
    "tags": []
   },
   "source": [
    "# TEST FINAL"
   ]
  },
  {
   "cell_type": "markdown",
   "id": "11ac4939",
   "metadata": {
    "papermill": {
     "duration": 0.061497,
     "end_time": "2024-07-14T06:12:30.664781",
     "exception": false,
     "start_time": "2024-07-14T06:12:30.603284",
     "status": "completed"
    },
    "tags": []
   },
   "source": [
    "# Loading the test_final data"
   ]
  },
  {
   "cell_type": "code",
   "execution_count": 108,
   "id": "5efd11cd",
   "metadata": {
    "execution": {
     "iopub.execute_input": "2024-07-14T06:12:30.789199Z",
     "iopub.status.busy": "2024-07-14T06:12:30.788788Z",
     "iopub.status.idle": "2024-07-14T06:12:30.824256Z",
     "shell.execute_reply": "2024-07-14T06:12:30.823016Z"
    },
    "papermill": {
     "duration": 0.100427,
     "end_time": "2024-07-14T06:12:30.826876",
     "exception": false,
     "start_time": "2024-07-14T06:12:30.726449",
     "status": "completed"
    },
    "tags": []
   },
   "outputs": [],
   "source": [
    "test_final=pd.read_csv('/kaggle/input/crime-cast-forecasting-crime-categories/test.csv')"
   ]
  },
  {
   "cell_type": "markdown",
   "id": "5cf2f330",
   "metadata": {
    "papermill": {
     "duration": 0.061387,
     "end_time": "2024-07-14T06:12:30.950987",
     "exception": false,
     "start_time": "2024-07-14T06:12:30.889600",
     "status": "completed"
    },
    "tags": []
   },
   "source": [
    "# Converting time into day category"
   ]
  },
  {
   "cell_type": "code",
   "execution_count": 109,
   "id": "e1f377e8",
   "metadata": {
    "execution": {
     "iopub.execute_input": "2024-07-14T06:12:31.077562Z",
     "iopub.status.busy": "2024-07-14T06:12:31.076297Z",
     "iopub.status.idle": "2024-07-14T06:12:31.086818Z",
     "shell.execute_reply": "2024-07-14T06:12:31.085746Z"
    },
    "papermill": {
     "duration": 0.076648,
     "end_time": "2024-07-14T06:12:31.089342",
     "exception": false,
     "start_time": "2024-07-14T06:12:31.012694",
     "status": "completed"
    },
    "tags": []
   },
   "outputs": [],
   "source": [
    "test_final['day_category']=test_final.loc[:,'Time_Occurred'].apply(day_category )"
   ]
  },
  {
   "cell_type": "markdown",
   "id": "974c4820",
   "metadata": {
    "papermill": {
     "duration": 0.063958,
     "end_time": "2024-07-14T06:12:31.214530",
     "exception": false,
     "start_time": "2024-07-14T06:12:31.150572",
     "status": "completed"
    },
    "tags": []
   },
   "source": [
    "# Extracting the date features"
   ]
  },
  {
   "cell_type": "code",
   "execution_count": 110,
   "id": "7cdca9ab",
   "metadata": {
    "execution": {
     "iopub.execute_input": "2024-07-14T06:12:31.349401Z",
     "iopub.status.busy": "2024-07-14T06:12:31.348238Z",
     "iopub.status.idle": "2024-07-14T06:12:36.800170Z",
     "shell.execute_reply": "2024-07-14T06:12:36.799061Z"
    },
    "papermill": {
     "duration": 5.519323,
     "end_time": "2024-07-14T06:12:36.803123",
     "exception": false,
     "start_time": "2024-07-14T06:12:31.283800",
     "status": "completed"
    },
    "tags": []
   },
   "outputs": [],
   "source": [
    "\n",
    "\n",
    "# Extracting the dates\n",
    "test_final.loc[:,'Date_Reported']=test_final.loc[:,'Date_Reported'].apply(extract_date)\n",
    "test_final.loc[:,'Date_Occurred']=test_final.loc[:,'Date_Occurred'].apply(extract_date)\n",
    "\n",
    "\n",
    "\n",
    "\n",
    "# converitng into date\n",
    "\n",
    "test_final['Date_Reported']=pd.to_datetime(test_final['Date_Reported']).dt.date\n",
    "test_final['Date_Occurred']=pd.to_datetime(test_final['Date_Occurred']).dt.date\n",
    "\n",
    "\n",
    "#             extracting the reporting delay days count\n",
    "\n",
    "test_final['reporting_delay_day_count']=(test_final['Date_Reported']-test_final['Date_Occurred'])\n",
    "\n",
    "\n",
    "\n",
    "\n",
    "# countign the days\n",
    "\n",
    "def day_count(d):\n",
    "    return d.days\n",
    "test_final.loc[:,'reporting_delay_day_count']=test_final.loc[:,'reporting_delay_day_count'].apply(day_count)\n",
    "\n",
    "\n",
    "\n",
    "\n",
    "test_final.loc[:,'reporting_delay_day_count']=test_final.loc[:,'reporting_delay_day_count'].apply(lambda x : int(x))\n",
    "\n",
    "# def victim_gender(val):\n",
    "#     if val=='H' or pd.isna(val):\n",
    "#         val='X'\n",
    "#     return val\n",
    "\n",
    "\n",
    "# test_final.loc[:,'Victim_Sex'] = test_final.alignloc[:,'Victim_Sex'].apply(victim_gender)\n",
    "\n",
    "\n",
    "\n",
    "\n",
    "\n",
    "# unique_values_weapon_test=pd.DataFrame(test_final['Weapon_Description'])\n",
    "# unique_values_weapon_test.value_counts(normalize=True)\n",
    "\n",
    "\n",
    "\n",
    "\n",
    "\n",
    "\n",
    "\n",
    "# distribution_test = test_final['Weapon_Description'].dropna().value_counts(normalize=True)\n",
    "\n",
    "# missing_test = test_final['Weapon_Description'].isnull().sum()\n",
    "\n",
    "# imputed_values_test = np.random.choice(distribution_test.index, size=missing_test, p=distribution_test.values)\n",
    "\n",
    "# # Impute the missing values\n",
    "# test_final.loc[test_final['Weapon_Description'].isnull(), 'Weapon_Description'] = imputed_values_test\n",
    "\n"
   ]
  },
  {
   "cell_type": "markdown",
   "id": "cc61d24a",
   "metadata": {
    "papermill": {
     "duration": 0.061329,
     "end_time": "2024-07-14T06:12:36.926602",
     "exception": false,
     "start_time": "2024-07-14T06:12:36.865273",
     "status": "completed"
    },
    "tags": []
   },
   "source": [
    "# Handling the gender column"
   ]
  },
  {
   "cell_type": "code",
   "execution_count": 111,
   "id": "7500de29",
   "metadata": {
    "execution": {
     "iopub.execute_input": "2024-07-14T06:12:37.054340Z",
     "iopub.status.busy": "2024-07-14T06:12:37.053117Z",
     "iopub.status.idle": "2024-07-14T06:12:37.077967Z",
     "shell.execute_reply": "2024-07-14T06:12:37.076100Z"
    },
    "papermill": {
     "duration": 0.092702,
     "end_time": "2024-07-14T06:12:37.080749",
     "exception": false,
     "start_time": "2024-07-14T06:12:36.988047",
     "status": "completed"
    },
    "tags": []
   },
   "outputs": [
    {
     "name": "stdout",
     "output_type": "stream",
     "text": [
      "Unique values of victim sex are ['F' 'M' nan 'X' 'H']\n",
      "---------------------------------------------------------------\n",
      "\n",
      "\n",
      "Value counts are\n",
      "Victim_Sex\n",
      "M    2121\n",
      "F    1840\n",
      "X     395\n",
      "H       1\n",
      "Name: count, dtype: int64\n",
      "\n",
      "\n",
      "---------------------------------------------------------------\n",
      "Number of null values are 643\n",
      "\n",
      "\n",
      "---------------------------------------------------------------\n",
      "Number of null values after imputing are 0\n",
      "---------------------------------------------------------------\n",
      "\n",
      "\n"
     ]
    }
   ],
   "source": [
    "# print(\"Number of null values are\" , test_final['Victim_Sex'].isnull().sum())\n",
    "\n",
    "# def victim_gender(val):\n",
    "#     if val=='H' or pd.isna(val):\n",
    "#         val='X'\n",
    "#     return val\n",
    "\n",
    "\n",
    "# distribution_gender = test_final['Victim_Sex'].dropna().value_counts(normalize=True)\n",
    "\n",
    "# missing_gender = test_final['Victim_Sex'].isna().sum()\n",
    "\n",
    "# imputed_values_gender = np.random.choice(distribution_gender.index, size=missing_gender, p=distribution_gender.values)\n",
    "\n",
    "\n",
    "# test_final.loc[test_final['Victim_Sex'].isna(), 'Victim_Sex'] = imputed_values_gender\n",
    "\n",
    "\n",
    "\n",
    "# test_final.loc[:,'Victim_Sex'] = test_final.loc[:,'Victim_Sex'].apply(victim_gender)\n",
    "\n",
    "\n",
    "print(\"Unique values of victim sex are\",test_final['Victim_Sex'].unique())\n",
    "\n",
    "print('---------------------------------------------------------------')\n",
    "\n",
    "\n",
    "print('')\n",
    "print('')\n",
    "\n",
    "print('Value counts are')\n",
    "print(test_final['Victim_Sex'].value_counts())\n",
    "\n",
    "print('')\n",
    "print('')\n",
    "print('---------------------------------------------------------------')\n",
    "\n",
    "\n",
    "\n",
    "print(\"Number of null values are\" , test_final['Victim_Sex'].isnull().sum())\n",
    "\n",
    "\n",
    "\n",
    "\n",
    "\n",
    "distribution_gender_test = test_final['Victim_Sex'].dropna().value_counts(normalize=True)\n",
    "\n",
    "missing_gender_test = test_final['Victim_Sex'].isna().sum()\n",
    "\n",
    "imputed_values_gender_test = np.random.choice(distribution_gender_test.index, size=missing_gender_test, p=distribution_gender_test.values)\n",
    "\n",
    "\n",
    "test_final.loc[test_final['Victim_Sex'].isna(), 'Victim_Sex'] = imputed_values_gender_test\n",
    "\n",
    "\n",
    "\n",
    "print('')\n",
    "print('')\n",
    "\n",
    "print('---------------------------------------------------------------')\n",
    "\n",
    "print(\"Number of null values after imputing are\" , test_final['Victim_Sex'].isnull().sum())\n",
    "\n",
    "test_final.loc[:,'Victim_Sex']=test_final.loc[:,'Victim_Sex'].replace('H','X')\n",
    "\n",
    "\n",
    "print('---------------------------------------------------------------')\n",
    "print('')\n",
    "print('')\n",
    "\n"
   ]
  },
  {
   "cell_type": "markdown",
   "id": "5853e131",
   "metadata": {
    "papermill": {
     "duration": 0.061618,
     "end_time": "2024-07-14T06:12:37.205355",
     "exception": false,
     "start_time": "2024-07-14T06:12:37.143737",
     "status": "completed"
    },
    "tags": []
   },
   "source": [
    " # Weapon_Description"
   ]
  },
  {
   "cell_type": "code",
   "execution_count": 112,
   "id": "4991e098",
   "metadata": {
    "execution": {
     "iopub.execute_input": "2024-07-14T06:12:37.332532Z",
     "iopub.status.busy": "2024-07-14T06:12:37.332095Z",
     "iopub.status.idle": "2024-07-14T06:12:37.358447Z",
     "shell.execute_reply": "2024-07-14T06:12:37.357326Z"
    },
    "papermill": {
     "duration": 0.092556,
     "end_time": "2024-07-14T06:12:37.361229",
     "exception": false,
     "start_time": "2024-07-14T06:12:37.268673",
     "status": "completed"
    },
    "tags": []
   },
   "outputs": [],
   "source": [
    "test_final.loc[train['Weapon_Description'] == 'STRONG-ARM (HANDS, FIST, FEET OR BODILY FORCE)', 'Weapon_Description'] = 'Physical Force'\n",
    "\n",
    "\n",
    "test_final.loc[:,'Weapon_Description']=test_final['Weapon_Description'].apply(lambda x: gun(x))\n",
    "\n",
    "# unique_values_weapon_test=pd.DataFrame(test_final['Weapon_Description'])\n",
    "# unique_values_weapon_test.value_counts(normalize=True)\n",
    "\n",
    "# distribution_test = test_final['Weapon_Description'].dropna().value_counts(normalize=True)\n",
    "\n",
    "# missing_test = test_final['Weapon_Description'].isnull().sum()\n",
    "\n",
    "# imputed_values_test = np.random.choice(distribution_test.index, size=missing_test, p=distribution_test.values)\n",
    "\n",
    "# # Impute the missing values\n",
    "# test_final.loc[test_final['Weapon_Description'].isnull(), 'Weapon_Description'] = imputed_values_test\n",
    "\n"
   ]
  },
  {
   "cell_type": "code",
   "execution_count": 113,
   "id": "283e3e9d",
   "metadata": {
    "execution": {
     "iopub.execute_input": "2024-07-14T06:12:37.487214Z",
     "iopub.status.busy": "2024-07-14T06:12:37.486834Z",
     "iopub.status.idle": "2024-07-14T06:12:37.497753Z",
     "shell.execute_reply": "2024-07-14T06:12:37.496305Z"
    },
    "papermill": {
     "duration": 0.076671,
     "end_time": "2024-07-14T06:12:37.500601",
     "exception": false,
     "start_time": "2024-07-14T06:12:37.423930",
     "status": "completed"
    },
    "tags": []
   },
   "outputs": [
    {
     "name": "stdout",
     "output_type": "stream",
     "text": [
      "Number of unqiue values are\n"
     ]
    },
    {
     "data": {
      "text/plain": [
       "Weapon_Description\n",
       "NA                    3153\n",
       "Physical Force        1007\n",
       "sharp_heavy_object     431\n",
       "other_weapon           170\n",
       "Gun                    167\n",
       "fire                    44\n",
       "VEHICLE                 28\n",
       "Name: count, dtype: int64"
      ]
     },
     "execution_count": 113,
     "metadata": {},
     "output_type": "execute_result"
    }
   ],
   "source": [
    "test_final\n",
    "\n",
    "print('Number of unqiue values are')\n",
    "test_final['Weapon_Description'].value_counts()"
   ]
  },
  {
   "cell_type": "code",
   "execution_count": 114,
   "id": "77433241",
   "metadata": {
    "execution": {
     "iopub.execute_input": "2024-07-14T06:12:37.625902Z",
     "iopub.status.busy": "2024-07-14T06:12:37.625515Z",
     "iopub.status.idle": "2024-07-14T06:12:37.640682Z",
     "shell.execute_reply": "2024-07-14T06:12:37.639603Z"
    },
    "papermill": {
     "duration": 0.081297,
     "end_time": "2024-07-14T06:12:37.643522",
     "exception": false,
     "start_time": "2024-07-14T06:12:37.562225",
     "status": "completed"
    },
    "tags": []
   },
   "outputs": [],
   "source": [
    "distribution_test = test_final['Weapon_Description'][test_final['Weapon_Description'] != 'NA'].value_counts(normalize=True)\n",
    "\n",
    "missing_test = test_final[test_final['Weapon_Description']=='NA']['Weapon_Description'].count()\n",
    "\n",
    "imputed_values_test = np.random.choice(distribution_test.index, size=missing_test, p=distribution_test.values)\n",
    "\n",
    "\n",
    "test_final.loc[test_final['Weapon_Description']=='NA', 'Weapon_Description'] = imputed_values_test"
   ]
  },
  {
   "cell_type": "code",
   "execution_count": 115,
   "id": "10ed0a10",
   "metadata": {
    "execution": {
     "iopub.execute_input": "2024-07-14T06:12:37.769612Z",
     "iopub.status.busy": "2024-07-14T06:12:37.769182Z",
     "iopub.status.idle": "2024-07-14T06:12:37.786827Z",
     "shell.execute_reply": "2024-07-14T06:12:37.785755Z"
    },
    "papermill": {
     "duration": 0.083268,
     "end_time": "2024-07-14T06:12:37.789382",
     "exception": false,
     "start_time": "2024-07-14T06:12:37.706114",
     "status": "completed"
    },
    "tags": []
   },
   "outputs": [
    {
     "data": {
      "text/plain": [
       "Location                        0\n",
       "Cross_Street                 4190\n",
       "Latitude                        0\n",
       "Longitude                       0\n",
       "Date_Reported                   0\n",
       "Date_Occurred                   0\n",
       "Time_Occurred                   0\n",
       "Area_ID                         0\n",
       "Area_Name                       0\n",
       "Reporting_District_no           0\n",
       "Part 1-2                        0\n",
       "Modus_Operandi                684\n",
       "Victim_Age                      0\n",
       "Victim_Sex                      0\n",
       "Victim_Descent                643\n",
       "Premise_Code                    0\n",
       "Premise_Description             1\n",
       "Weapon_Used_Code             3153\n",
       "Weapon_Description              0\n",
       "Status                          0\n",
       "Status_Description              0\n",
       "day_category                    0\n",
       "reporting_delay_day_count       0\n",
       "dtype: int64"
      ]
     },
     "execution_count": 115,
     "metadata": {},
     "output_type": "execute_result"
    }
   ],
   "source": [
    "test_final.isnull().sum()"
   ]
  },
  {
   "cell_type": "code",
   "execution_count": 116,
   "id": "50c6fbd8",
   "metadata": {
    "execution": {
     "iopub.execute_input": "2024-07-14T06:12:37.915679Z",
     "iopub.status.busy": "2024-07-14T06:12:37.915227Z",
     "iopub.status.idle": "2024-07-14T06:12:37.928758Z",
     "shell.execute_reply": "2024-07-14T06:12:37.927421Z"
    },
    "papermill": {
     "duration": 0.07988,
     "end_time": "2024-07-14T06:12:37.931522",
     "exception": false,
     "start_time": "2024-07-14T06:12:37.851642",
     "status": "completed"
    },
    "tags": []
   },
   "outputs": [],
   "source": [
    "distribution_Descent_test = test_final['Victim_Descent'].dropna().value_counts(normalize=True)\n",
    "\n",
    "missing_Descent_test = test_final['Victim_Descent'].isna().sum()\n",
    "\n",
    "imputed_values_Descent_test = np.random.choice(distribution_Descent_test.index, size=missing_Descent_test, p=distribution_Descent_test.values)\n",
    "\n",
    "\n",
    "test_final.loc[test_final['Victim_Descent'].isna(), 'Victim_Descent'] = imputed_values_Descent_test\n",
    "\n",
    "\n",
    "\n",
    "\n",
    "\n",
    "# distribution_test = test_final['Victim_Descent'].dropna().value_counts(normalize=True)\n",
    "\n",
    "# missing_test = test_final['Victim_Descent'].isnull().sum()\n",
    "\n",
    "# imputed_values_test = np.random.choice(distribution_test.index, size=missing_test, p=distribution_test.values)\n",
    "\n",
    "# # Impute the missing values\n",
    "# test_final.loc[test_final['Victim_Descent'].isnull(), 'Victim_Descent'] = imputed_values_test"
   ]
  },
  {
   "cell_type": "markdown",
   "id": "68e5bf81",
   "metadata": {
    "papermill": {
     "duration": 0.061713,
     "end_time": "2024-07-14T06:12:38.055247",
     "exception": false,
     "start_time": "2024-07-14T06:12:37.993534",
     "status": "completed"
    },
    "tags": []
   },
   "source": [
    "# Modus_Operandi"
   ]
  },
  {
   "cell_type": "code",
   "execution_count": 117,
   "id": "1c96e3a5",
   "metadata": {
    "execution": {
     "iopub.execute_input": "2024-07-14T06:12:38.250585Z",
     "iopub.status.busy": "2024-07-14T06:12:38.250132Z",
     "iopub.status.idle": "2024-07-14T06:12:38.270338Z",
     "shell.execute_reply": "2024-07-14T06:12:38.269048Z"
    },
    "papermill": {
     "duration": 0.088183,
     "end_time": "2024-07-14T06:12:38.273081",
     "exception": false,
     "start_time": "2024-07-14T06:12:38.184898",
     "status": "completed"
    },
    "tags": []
   },
   "outputs": [],
   "source": [
    "test_final.loc[:,'Modus_Operandi'] = test_final.loc[:,'Modus_Operandi'].fillna('')\n",
    "\n",
    "\n",
    "def number_of_activities(s):\n",
    "    if s=='':  # Handle NaN values\n",
    "        return 0\n",
    "    activities_list=s.split()\n",
    "    activity_count = list(set(activities_list))\n",
    "    return len(activity_count)\n",
    "\n",
    "\n",
    "test_final['activity_count']=test_final['Modus_Operandi'].apply(number_of_activities)\n",
    "\n",
    "\n",
    "\n",
    "# def number_of_activities(s):\n",
    "#     if s=='':  # Handle NaN values\n",
    "#         return 0\n",
    "#     activities_list=s.split()\n",
    "#     activity_count = list(set(activities_list))\n",
    "#     activities = set()  # Using a set to avoid duplicates efficiently\n",
    "#     for activity in s.split(' '):\n",
    "#         activities.add(str(activity))\n",
    "#     activities=' '.join(activities)    \n",
    "#     return len(activity_count)\n",
    "# train['activity_count']=train['Modus_Operandi'].apply(number_of_activities)\n"
   ]
  },
  {
   "cell_type": "code",
   "execution_count": 118,
   "id": "aaa80f86",
   "metadata": {
    "execution": {
     "iopub.execute_input": "2024-07-14T06:12:38.400332Z",
     "iopub.status.busy": "2024-07-14T06:12:38.399918Z",
     "iopub.status.idle": "2024-07-14T06:12:38.410091Z",
     "shell.execute_reply": "2024-07-14T06:12:38.408843Z"
    },
    "papermill": {
     "duration": 0.076436,
     "end_time": "2024-07-14T06:12:38.412729",
     "exception": false,
     "start_time": "2024-07-14T06:12:38.336293",
     "status": "completed"
    },
    "tags": []
   },
   "outputs": [],
   "source": [
    "# test_final['Modus_Operandi']=test_final['Modus_Operandi'].apply(number_of_activities)\n",
    "test_final['Part 1-2']=test_final['Part 1-2'].apply(lambda x : str(x))\n"
   ]
  },
  {
   "cell_type": "markdown",
   "id": "eb58a808",
   "metadata": {
    "papermill": {
     "duration": 0.062036,
     "end_time": "2024-07-14T06:12:38.538889",
     "exception": false,
     "start_time": "2024-07-14T06:12:38.476853",
     "status": "completed"
    },
    "tags": []
   },
   "source": [
    "# Victim age"
   ]
  },
  {
   "cell_type": "code",
   "execution_count": 119,
   "id": "bedf4d84",
   "metadata": {
    "execution": {
     "iopub.execute_input": "2024-07-14T06:12:38.665842Z",
     "iopub.status.busy": "2024-07-14T06:12:38.665425Z",
     "iopub.status.idle": "2024-07-14T06:12:38.685711Z",
     "shell.execute_reply": "2024-07-14T06:12:38.684419Z"
    },
    "papermill": {
     "duration": 0.086708,
     "end_time": "2024-07-14T06:12:38.688333",
     "exception": false,
     "start_time": "2024-07-14T06:12:38.601625",
     "status": "completed"
    },
    "tags": []
   },
   "outputs": [
    {
     "name": "stdout",
     "output_type": "stream",
     "text": [
      "[28. 26. 62.  0. 37. 58. 21. 19. 31. 35. 25. 27. 20. 67. 36. 15. 24. 53.\n",
      " 30. 38. 71. 34. 16. 33. 32. 77. 39. 52. 23. 61. 50. 63. 45. 22. 73. 40.\n",
      " 60. 55. 29. 41. 51. 46. -2. 44. 99. 81. 43. 57. 12. 79. 93. 65. 54. 59.\n",
      " 83. 64. 49. 56. 47. 42. 70. 78. 68. 80. 18. 96. 48. 74. 76. 11. 14. 66.\n",
      " 72.  7. 10.  6. 69. 17. 82.  5.  9.  4. 85. 75. 88.  8. 86. 13.  3.  2.\n",
      " -1. 84. 90. 91.]\n",
      "---------------------------------------------------------------\n",
      "[28. 26. 62.  0. 37. 58. 21. 19. 31. 35. 25. 27. 20. 67. 36. 15. 24. 53.\n",
      " 30. 38. 71. 34. 16. 33. 32. 77. 39. 52. 23. 61. 50. 63. 45. 22. 73. 40.\n",
      " 60. 55. 29. 41. 51. 46. 44. 99. 81. 43. 57. 12. 79. 93. 65. 54. 59. 83.\n",
      " 64. 49. 56. 47. 42. 70. 78. 68. 80. 18. 96. 48. 74. 76. 11. 14. 66. 72.\n",
      "  7. 10.  6. 69. 17. 82.  5.  9.  4. 85. 75. 88.  8. 86. 13.  3.  2. 84.\n",
      " 90. 91.]\n",
      "---------------------------------------------------------------\n"
     ]
    }
   ],
   "source": [
    "print(test_final['Victim_Age'].unique())\n",
    "\n",
    "test_final.loc[test_final['Victim_Age']<0,'Victim_Age']=0\n",
    "\n",
    "print('---------------------------------------------------------------')\n",
    "\n",
    "\n",
    "print(test_final['Victim_Age'].unique())\n",
    "\n",
    "print('---------------------------------------------------------------')\n",
    "\n",
    "\n",
    "test_final.loc[:,'Victim_Age']=test_final.loc[:,'Victim_Age'].apply(lambda x : int(x))\n",
    "\n",
    "\n",
    "test_final.loc[test_final['Victim_Age']==0,'Victim_Age']=test_final['Victim_Age'].mean()\n"
   ]
  },
  {
   "cell_type": "code",
   "execution_count": 120,
   "id": "0fdec892",
   "metadata": {
    "execution": {
     "iopub.execute_input": "2024-07-14T06:12:38.815140Z",
     "iopub.status.busy": "2024-07-14T06:12:38.814661Z",
     "iopub.status.idle": "2024-07-14T06:12:38.819901Z",
     "shell.execute_reply": "2024-07-14T06:12:38.818694Z"
    },
    "papermill": {
     "duration": 0.071575,
     "end_time": "2024-07-14T06:12:38.822416",
     "exception": false,
     "start_time": "2024-07-14T06:12:38.750841",
     "status": "completed"
    },
    "tags": []
   },
   "outputs": [],
   "source": [
    "# test_final.loc[test_final['Weapon_Description'] == 'STRONG-ARM (HANDS, FIST, FEET OR BODILY FORCE)', 'Weapon_Description'] = 'Physical Force'\n",
    "\n",
    "\n",
    "\n",
    "# test_final.loc[:,'Weapon_Description']=test_final['Weapon_Description'].apply(gun)"
   ]
  },
  {
   "cell_type": "code",
   "execution_count": 121,
   "id": "37bee8de",
   "metadata": {
    "execution": {
     "iopub.execute_input": "2024-07-14T06:12:38.949535Z",
     "iopub.status.busy": "2024-07-14T06:12:38.949108Z",
     "iopub.status.idle": "2024-07-14T06:12:38.954385Z",
     "shell.execute_reply": "2024-07-14T06:12:38.953332Z"
    },
    "papermill": {
     "duration": 0.070949,
     "end_time": "2024-07-14T06:12:38.956689",
     "exception": false,
     "start_time": "2024-07-14T06:12:38.885740",
     "status": "completed"
    },
    "tags": []
   },
   "outputs": [],
   "source": [
    "# test=test[['Latitude','Longitude','reporting_delay_day_count','day_category','Victim_Age','Victim_Sex','Victim_Descent','Weapon_Description','Area_ID','Modus_Operandi','Part 1-2','Status']]"
   ]
  },
  {
   "cell_type": "code",
   "execution_count": 122,
   "id": "da1d73a7",
   "metadata": {
    "execution": {
     "iopub.execute_input": "2024-07-14T06:12:39.084534Z",
     "iopub.status.busy": "2024-07-14T06:12:39.083419Z",
     "iopub.status.idle": "2024-07-14T06:12:39.097991Z",
     "shell.execute_reply": "2024-07-14T06:12:39.096911Z"
    },
    "papermill": {
     "duration": 0.081166,
     "end_time": "2024-07-14T06:12:39.100503",
     "exception": false,
     "start_time": "2024-07-14T06:12:39.019337",
     "status": "completed"
    },
    "tags": []
   },
   "outputs": [
    {
     "name": "stderr",
     "output_type": "stream",
     "text": [
      "/tmp/ipykernel_18/4105633067.py:1: FutureWarning: Setting an item of incompatible dtype is deprecated and will raise in a future error of pandas. Value '['3.0' '20.0' '18.0' ... '19.0' '1.0' '18.0']' has dtype incompatible with float64, please explicitly cast to a compatible dtype first.\n",
      "  test_final.loc[:,'Area_ID']=test_final.loc[:,'Area_ID'].apply(lambda x : str(x))\n"
     ]
    }
   ],
   "source": [
    "test_final.loc[:,'Area_ID']=test_final.loc[:,'Area_ID'].apply(lambda x : str(x))\n",
    "test_final=test_final[['Latitude','Longitude','Victim_Age','activity_count','reporting_delay_day_count','Area_ID','Part 1-2','Victim_Sex','Victim_Descent','Weapon_Description','Status','day_category','Modus_Operandi']]\n"
   ]
  },
  {
   "cell_type": "code",
   "execution_count": 123,
   "id": "bdf96a43",
   "metadata": {
    "execution": {
     "iopub.execute_input": "2024-07-14T06:12:39.227814Z",
     "iopub.status.busy": "2024-07-14T06:12:39.227395Z",
     "iopub.status.idle": "2024-07-14T06:12:39.247761Z",
     "shell.execute_reply": "2024-07-14T06:12:39.246372Z"
    },
    "papermill": {
     "duration": 0.087405,
     "end_time": "2024-07-14T06:12:39.250810",
     "exception": false,
     "start_time": "2024-07-14T06:12:39.163405",
     "status": "completed"
    },
    "tags": []
   },
   "outputs": [
    {
     "name": "stdout",
     "output_type": "stream",
     "text": [
      "<class 'pandas.core.frame.DataFrame'>\n",
      "RangeIndex: 5000 entries, 0 to 4999\n",
      "Data columns (total 13 columns):\n",
      " #   Column                     Non-Null Count  Dtype  \n",
      "---  ------                     --------------  -----  \n",
      " 0   Latitude                   5000 non-null   float64\n",
      " 1   Longitude                  5000 non-null   float64\n",
      " 2   Victim_Age                 5000 non-null   float64\n",
      " 3   activity_count             5000 non-null   int64  \n",
      " 4   reporting_delay_day_count  5000 non-null   object \n",
      " 5   Area_ID                    5000 non-null   object \n",
      " 6   Part 1-2                   5000 non-null   object \n",
      " 7   Victim_Sex                 5000 non-null   object \n",
      " 8   Victim_Descent             5000 non-null   object \n",
      " 9   Weapon_Description         5000 non-null   object \n",
      " 10  Status                     5000 non-null   object \n",
      " 11  day_category               5000 non-null   object \n",
      " 12  Modus_Operandi             5000 non-null   object \n",
      "dtypes: float64(3), int64(1), object(9)\n",
      "memory usage: 507.9+ KB\n"
     ]
    }
   ],
   "source": [
    "test_final.info()"
   ]
  },
  {
   "cell_type": "code",
   "execution_count": 124,
   "id": "3ff60f23",
   "metadata": {
    "execution": {
     "iopub.execute_input": "2024-07-14T06:12:39.379431Z",
     "iopub.status.busy": "2024-07-14T06:12:39.379004Z",
     "iopub.status.idle": "2024-07-14T06:12:39.403330Z",
     "shell.execute_reply": "2024-07-14T06:12:39.402131Z"
    },
    "papermill": {
     "duration": 0.091459,
     "end_time": "2024-07-14T06:12:39.405865",
     "exception": false,
     "start_time": "2024-07-14T06:12:39.314406",
     "status": "completed"
    },
    "tags": []
   },
   "outputs": [
    {
     "data": {
      "text/html": [
       "<div>\n",
       "<style scoped>\n",
       "    .dataframe tbody tr th:only-of-type {\n",
       "        vertical-align: middle;\n",
       "    }\n",
       "\n",
       "    .dataframe tbody tr th {\n",
       "        vertical-align: top;\n",
       "    }\n",
       "\n",
       "    .dataframe thead th {\n",
       "        text-align: right;\n",
       "    }\n",
       "</style>\n",
       "<table border=\"1\" class=\"dataframe\">\n",
       "  <thead>\n",
       "    <tr style=\"text-align: right;\">\n",
       "      <th></th>\n",
       "      <th>Latitude</th>\n",
       "      <th>Longitude</th>\n",
       "      <th>Victim_Age</th>\n",
       "      <th>activity_count</th>\n",
       "      <th>reporting_delay_day_count</th>\n",
       "      <th>Area_ID</th>\n",
       "      <th>Part 1-2</th>\n",
       "      <th>Victim_Sex</th>\n",
       "      <th>Victim_Descent</th>\n",
       "      <th>Weapon_Description</th>\n",
       "      <th>Status</th>\n",
       "      <th>day_category</th>\n",
       "      <th>Modus_Operandi</th>\n",
       "    </tr>\n",
       "  </thead>\n",
       "  <tbody>\n",
       "    <tr>\n",
       "      <th>0</th>\n",
       "      <td>34.0128</td>\n",
       "      <td>-118.3045</td>\n",
       "      <td>28.000</td>\n",
       "      <td>6</td>\n",
       "      <td>0</td>\n",
       "      <td>3.0</td>\n",
       "      <td>2.0</td>\n",
       "      <td>F</td>\n",
       "      <td>H</td>\n",
       "      <td>Physical Force</td>\n",
       "      <td>IC</td>\n",
       "      <td>Evening</td>\n",
       "      <td>0416 1241 1243 1813 1821 2000</td>\n",
       "    </tr>\n",
       "    <tr>\n",
       "      <th>1</th>\n",
       "      <td>34.0726</td>\n",
       "      <td>-118.3029</td>\n",
       "      <td>26.000</td>\n",
       "      <td>2</td>\n",
       "      <td>37</td>\n",
       "      <td>20.0</td>\n",
       "      <td>1.0</td>\n",
       "      <td>M</td>\n",
       "      <td>B</td>\n",
       "      <td>sharp_heavy_object</td>\n",
       "      <td>IC</td>\n",
       "      <td>Night</td>\n",
       "      <td>0344 0394</td>\n",
       "    </tr>\n",
       "    <tr>\n",
       "      <th>2</th>\n",
       "      <td>33.9348</td>\n",
       "      <td>-118.2695</td>\n",
       "      <td>62.000</td>\n",
       "      <td>6</td>\n",
       "      <td>1</td>\n",
       "      <td>18.0</td>\n",
       "      <td>2.0</td>\n",
       "      <td>F</td>\n",
       "      <td>B</td>\n",
       "      <td>other_weapon</td>\n",
       "      <td>IC</td>\n",
       "      <td>Morning</td>\n",
       "      <td>1822 0701 1914 0355 1202 0100</td>\n",
       "    </tr>\n",
       "    <tr>\n",
       "      <th>3</th>\n",
       "      <td>34.0497</td>\n",
       "      <td>-118.3442</td>\n",
       "      <td>30.593</td>\n",
       "      <td>0</td>\n",
       "      <td>20</td>\n",
       "      <td>7.0</td>\n",
       "      <td>1.0</td>\n",
       "      <td>F</td>\n",
       "      <td>W</td>\n",
       "      <td>Physical Force</td>\n",
       "      <td>IC</td>\n",
       "      <td>Night</td>\n",
       "      <td></td>\n",
       "    </tr>\n",
       "    <tr>\n",
       "      <th>4</th>\n",
       "      <td>34.1611</td>\n",
       "      <td>-118.3704</td>\n",
       "      <td>37.000</td>\n",
       "      <td>1</td>\n",
       "      <td>1</td>\n",
       "      <td>15.0</td>\n",
       "      <td>2.0</td>\n",
       "      <td>F</td>\n",
       "      <td>W</td>\n",
       "      <td>other_weapon</td>\n",
       "      <td>AO</td>\n",
       "      <td>Night</td>\n",
       "      <td>1501</td>\n",
       "    </tr>\n",
       "    <tr>\n",
       "      <th>...</th>\n",
       "      <td>...</td>\n",
       "      <td>...</td>\n",
       "      <td>...</td>\n",
       "      <td>...</td>\n",
       "      <td>...</td>\n",
       "      <td>...</td>\n",
       "      <td>...</td>\n",
       "      <td>...</td>\n",
       "      <td>...</td>\n",
       "      <td>...</td>\n",
       "      <td>...</td>\n",
       "      <td>...</td>\n",
       "      <td>...</td>\n",
       "    </tr>\n",
       "    <tr>\n",
       "      <th>4995</th>\n",
       "      <td>34.0409</td>\n",
       "      <td>-118.3408</td>\n",
       "      <td>30.593</td>\n",
       "      <td>0</td>\n",
       "      <td>1</td>\n",
       "      <td>7.0</td>\n",
       "      <td>1.0</td>\n",
       "      <td>M</td>\n",
       "      <td>H</td>\n",
       "      <td>sharp_heavy_object</td>\n",
       "      <td>IC</td>\n",
       "      <td>Night</td>\n",
       "      <td></td>\n",
       "    </tr>\n",
       "    <tr>\n",
       "      <th>4996</th>\n",
       "      <td>34.0347</td>\n",
       "      <td>-118.2253</td>\n",
       "      <td>30.593</td>\n",
       "      <td>2</td>\n",
       "      <td>7</td>\n",
       "      <td>4.0</td>\n",
       "      <td>1.0</td>\n",
       "      <td>X</td>\n",
       "      <td>X</td>\n",
       "      <td>other_weapon</td>\n",
       "      <td>IC</td>\n",
       "      <td>Daytime</td>\n",
       "      <td>1300 0325</td>\n",
       "    </tr>\n",
       "    <tr>\n",
       "      <th>4997</th>\n",
       "      <td>34.2392</td>\n",
       "      <td>-118.4698</td>\n",
       "      <td>38.000</td>\n",
       "      <td>3</td>\n",
       "      <td>0</td>\n",
       "      <td>19.0</td>\n",
       "      <td>2.0</td>\n",
       "      <td>M</td>\n",
       "      <td>H</td>\n",
       "      <td>Physical Force</td>\n",
       "      <td>AA</td>\n",
       "      <td>Night</td>\n",
       "      <td>0913 1817 0416</td>\n",
       "    </tr>\n",
       "    <tr>\n",
       "      <th>4998</th>\n",
       "      <td>34.0453</td>\n",
       "      <td>-118.2443</td>\n",
       "      <td>41.000</td>\n",
       "      <td>1</td>\n",
       "      <td>1</td>\n",
       "      <td>1.0</td>\n",
       "      <td>2.0</td>\n",
       "      <td>M</td>\n",
       "      <td>B</td>\n",
       "      <td>sharp_heavy_object</td>\n",
       "      <td>AO</td>\n",
       "      <td>Night</td>\n",
       "      <td>0416</td>\n",
       "    </tr>\n",
       "    <tr>\n",
       "      <th>4999</th>\n",
       "      <td>33.9438</td>\n",
       "      <td>-118.2695</td>\n",
       "      <td>49.000</td>\n",
       "      <td>2</td>\n",
       "      <td>0</td>\n",
       "      <td>18.0</td>\n",
       "      <td>2.0</td>\n",
       "      <td>M</td>\n",
       "      <td>B</td>\n",
       "      <td>sharp_heavy_object</td>\n",
       "      <td>IC</td>\n",
       "      <td>Night</td>\n",
       "      <td>1822 0329</td>\n",
       "    </tr>\n",
       "  </tbody>\n",
       "</table>\n",
       "<p>5000 rows × 13 columns</p>\n",
       "</div>"
      ],
      "text/plain": [
       "      Latitude  Longitude  Victim_Age  activity_count  \\\n",
       "0      34.0128  -118.3045      28.000               6   \n",
       "1      34.0726  -118.3029      26.000               2   \n",
       "2      33.9348  -118.2695      62.000               6   \n",
       "3      34.0497  -118.3442      30.593               0   \n",
       "4      34.1611  -118.3704      37.000               1   \n",
       "...        ...        ...         ...             ...   \n",
       "4995   34.0409  -118.3408      30.593               0   \n",
       "4996   34.0347  -118.2253      30.593               2   \n",
       "4997   34.2392  -118.4698      38.000               3   \n",
       "4998   34.0453  -118.2443      41.000               1   \n",
       "4999   33.9438  -118.2695      49.000               2   \n",
       "\n",
       "     reporting_delay_day_count Area_ID Part 1-2 Victim_Sex Victim_Descent  \\\n",
       "0                            0     3.0      2.0          F              H   \n",
       "1                           37    20.0      1.0          M              B   \n",
       "2                            1    18.0      2.0          F              B   \n",
       "3                           20     7.0      1.0          F              W   \n",
       "4                            1    15.0      2.0          F              W   \n",
       "...                        ...     ...      ...        ...            ...   \n",
       "4995                         1     7.0      1.0          M              H   \n",
       "4996                         7     4.0      1.0          X              X   \n",
       "4997                         0    19.0      2.0          M              H   \n",
       "4998                         1     1.0      2.0          M              B   \n",
       "4999                         0    18.0      2.0          M              B   \n",
       "\n",
       "      Weapon_Description Status day_category                 Modus_Operandi  \n",
       "0         Physical Force     IC      Evening  0416 1241 1243 1813 1821 2000  \n",
       "1     sharp_heavy_object     IC        Night                      0344 0394  \n",
       "2           other_weapon     IC      Morning  1822 0701 1914 0355 1202 0100  \n",
       "3         Physical Force     IC        Night                                 \n",
       "4           other_weapon     AO        Night                           1501  \n",
       "...                  ...    ...          ...                            ...  \n",
       "4995  sharp_heavy_object     IC        Night                                 \n",
       "4996        other_weapon     IC      Daytime                      1300 0325  \n",
       "4997      Physical Force     AA        Night                 0913 1817 0416  \n",
       "4998  sharp_heavy_object     AO        Night                           0416  \n",
       "4999  sharp_heavy_object     IC        Night                      1822 0329  \n",
       "\n",
       "[5000 rows x 13 columns]"
      ]
     },
     "execution_count": 124,
     "metadata": {},
     "output_type": "execute_result"
    }
   ],
   "source": [
    "test_final"
   ]
  },
  {
   "cell_type": "code",
   "execution_count": 125,
   "id": "a97096b7",
   "metadata": {
    "execution": {
     "iopub.execute_input": "2024-07-14T06:12:39.537032Z",
     "iopub.status.busy": "2024-07-14T06:12:39.536626Z",
     "iopub.status.idle": "2024-07-14T06:12:39.543982Z",
     "shell.execute_reply": "2024-07-14T06:12:39.542849Z"
    },
    "papermill": {
     "duration": 0.075558,
     "end_time": "2024-07-14T06:12:39.546539",
     "exception": false,
     "start_time": "2024-07-14T06:12:39.470981",
     "status": "completed"
    },
    "tags": []
   },
   "outputs": [
    {
     "data": {
      "text/plain": [
       "(5000, 13)"
      ]
     },
     "execution_count": 125,
     "metadata": {},
     "output_type": "execute_result"
    }
   ],
   "source": [
    "test_final.shape"
   ]
  },
  {
   "cell_type": "code",
   "execution_count": 126,
   "id": "1c868b59",
   "metadata": {
    "execution": {
     "iopub.execute_input": "2024-07-14T06:12:39.674439Z",
     "iopub.status.busy": "2024-07-14T06:12:39.674024Z",
     "iopub.status.idle": "2024-07-14T06:12:39.694633Z",
     "shell.execute_reply": "2024-07-14T06:12:39.693471Z"
    },
    "papermill": {
     "duration": 0.087773,
     "end_time": "2024-07-14T06:12:39.697298",
     "exception": false,
     "start_time": "2024-07-14T06:12:39.609525",
     "status": "completed"
    },
    "tags": []
   },
   "outputs": [
    {
     "data": {
      "text/html": [
       "<div>\n",
       "<style scoped>\n",
       "    .dataframe tbody tr th:only-of-type {\n",
       "        vertical-align: middle;\n",
       "    }\n",
       "\n",
       "    .dataframe tbody tr th {\n",
       "        vertical-align: top;\n",
       "    }\n",
       "\n",
       "    .dataframe thead th {\n",
       "        text-align: right;\n",
       "    }\n",
       "</style>\n",
       "<table border=\"1\" class=\"dataframe\">\n",
       "  <thead>\n",
       "    <tr style=\"text-align: right;\">\n",
       "      <th></th>\n",
       "      <th>ID</th>\n",
       "      <th>Crime_Category</th>\n",
       "      <th>Unnamed: 2</th>\n",
       "    </tr>\n",
       "  </thead>\n",
       "  <tbody>\n",
       "    <tr>\n",
       "      <th>0</th>\n",
       "      <td>1</td>\n",
       "      <td>Crimes against Persons</td>\n",
       "      <td>NaN</td>\n",
       "    </tr>\n",
       "    <tr>\n",
       "      <th>1</th>\n",
       "      <td>2</td>\n",
       "      <td>Crimes against Public Order</td>\n",
       "      <td>NaN</td>\n",
       "    </tr>\n",
       "    <tr>\n",
       "      <th>2</th>\n",
       "      <td>3</td>\n",
       "      <td>Other Crimes</td>\n",
       "      <td>NaN</td>\n",
       "    </tr>\n",
       "    <tr>\n",
       "      <th>3</th>\n",
       "      <td>4</td>\n",
       "      <td>Crimes against Public Order</td>\n",
       "      <td>NaN</td>\n",
       "    </tr>\n",
       "    <tr>\n",
       "      <th>4</th>\n",
       "      <td>5</td>\n",
       "      <td>Other Crimes</td>\n",
       "      <td>NaN</td>\n",
       "    </tr>\n",
       "    <tr>\n",
       "      <th>...</th>\n",
       "      <td>...</td>\n",
       "      <td>...</td>\n",
       "      <td>...</td>\n",
       "    </tr>\n",
       "    <tr>\n",
       "      <th>995</th>\n",
       "      <td>996</td>\n",
       "      <td>Fraud and White-Collar Crimes</td>\n",
       "      <td>NaN</td>\n",
       "    </tr>\n",
       "    <tr>\n",
       "      <th>996</th>\n",
       "      <td>997</td>\n",
       "      <td>Property Crimes</td>\n",
       "      <td>NaN</td>\n",
       "    </tr>\n",
       "    <tr>\n",
       "      <th>997</th>\n",
       "      <td>998</td>\n",
       "      <td>Violent Crimes</td>\n",
       "      <td>NaN</td>\n",
       "    </tr>\n",
       "    <tr>\n",
       "      <th>998</th>\n",
       "      <td>999</td>\n",
       "      <td>Property Crimes</td>\n",
       "      <td>NaN</td>\n",
       "    </tr>\n",
       "    <tr>\n",
       "      <th>999</th>\n",
       "      <td>1000</td>\n",
       "      <td>Violent Crimes</td>\n",
       "      <td>NaN</td>\n",
       "    </tr>\n",
       "  </tbody>\n",
       "</table>\n",
       "<p>1000 rows × 3 columns</p>\n",
       "</div>"
      ],
      "text/plain": [
       "       ID                Crime_Category   Unnamed: 2\n",
       "0       1         Crimes against Persons         NaN\n",
       "1       2    Crimes against Public Order         NaN\n",
       "2       3                   Other Crimes         NaN\n",
       "3       4    Crimes against Public Order         NaN\n",
       "4       5                   Other Crimes         NaN\n",
       "..    ...                            ...         ...\n",
       "995   996  Fraud and White-Collar Crimes         NaN\n",
       "996   997                Property Crimes         NaN\n",
       "997   998                 Violent Crimes         NaN\n",
       "998   999                Property Crimes         NaN\n",
       "999  1000                 Violent Crimes         NaN\n",
       "\n",
       "[1000 rows x 3 columns]"
      ]
     },
     "execution_count": 126,
     "metadata": {},
     "output_type": "execute_result"
    }
   ],
   "source": [
    "sample=pd.read_csv('/kaggle/input/crime-cast-forecasting-crime-categories/sample.csv')\n",
    "sample"
   ]
  },
  {
   "cell_type": "code",
   "execution_count": 127,
   "id": "528a72b5",
   "metadata": {
    "execution": {
     "iopub.execute_input": "2024-07-14T06:12:39.828099Z",
     "iopub.status.busy": "2024-07-14T06:12:39.827677Z",
     "iopub.status.idle": "2024-07-14T06:12:39.842424Z",
     "shell.execute_reply": "2024-07-14T06:12:39.841365Z"
    },
    "papermill": {
     "duration": 0.083247,
     "end_time": "2024-07-14T06:12:39.844935",
     "exception": false,
     "start_time": "2024-07-14T06:12:39.761688",
     "status": "completed"
    },
    "tags": []
   },
   "outputs": [
    {
     "data": {
      "text/plain": [
       "Latitude                     0\n",
       "Longitude                    0\n",
       "Victim_Age                   0\n",
       "activity_count               0\n",
       "reporting_delay_day_count    0\n",
       "Area_ID                      0\n",
       "Part 1-2                     0\n",
       "Victim_Sex                   0\n",
       "Victim_Descent               0\n",
       "Weapon_Description           0\n",
       "Status                       0\n",
       "day_category                 0\n",
       "Modus_Operandi               0\n",
       "dtype: int64"
      ]
     },
     "execution_count": 127,
     "metadata": {},
     "output_type": "execute_result"
    }
   ],
   "source": [
    "test_final.isnull().sum()"
   ]
  },
  {
   "cell_type": "code",
   "execution_count": 128,
   "id": "95653335",
   "metadata": {
    "execution": {
     "iopub.execute_input": "2024-07-14T06:12:39.976329Z",
     "iopub.status.busy": "2024-07-14T06:12:39.975902Z",
     "iopub.status.idle": "2024-07-14T06:12:39.982354Z",
     "shell.execute_reply": "2024-07-14T06:12:39.981237Z"
    },
    "papermill": {
     "duration": 0.075102,
     "end_time": "2024-07-14T06:12:39.985240",
     "exception": false,
     "start_time": "2024-07-14T06:12:39.910138",
     "status": "completed"
    },
    "tags": []
   },
   "outputs": [
    {
     "name": "stdout",
     "output_type": "stream",
     "text": [
      "Train features: Index(['Latitude', 'Longitude', 'Victim_Age', 'activity_count',\n",
      "       'reporting_delay_day_count', 'Area_ID', 'Part 1-2', 'Victim_Sex',\n",
      "       'Victim_Descent', 'Weapon_Description', 'Status', 'day_category',\n",
      "       'Modus_Operandi'],\n",
      "      dtype='object')\n",
      "Test features: Index(['Latitude', 'Longitude', 'Victim_Age', 'activity_count',\n",
      "       'reporting_delay_day_count', 'Area_ID', 'Part 1-2', 'Victim_Sex',\n",
      "       'Victim_Descent', 'Weapon_Description', 'Status', 'day_category',\n",
      "       'Modus_Operandi'],\n",
      "      dtype='object')\n"
     ]
    }
   ],
   "source": [
    "print(\"Train features:\", xtrain_1.columns)\n",
    "print(\"Test features:\", test_final.columns)"
   ]
  },
  {
   "cell_type": "code",
   "execution_count": 129,
   "id": "bbcaef6f",
   "metadata": {
    "execution": {
     "iopub.execute_input": "2024-07-14T06:12:40.114861Z",
     "iopub.status.busy": "2024-07-14T06:12:40.113906Z",
     "iopub.status.idle": "2024-07-14T06:12:43.860262Z",
     "shell.execute_reply": "2024-07-14T06:12:43.859160Z"
    },
    "papermill": {
     "duration": 3.814029,
     "end_time": "2024-07-14T06:12:43.863103",
     "exception": false,
     "start_time": "2024-07-14T06:12:40.049074",
     "status": "completed"
    },
    "tags": []
   },
   "outputs": [],
   "source": [
    "y_pred_submission=pipe_svc_full.predict(test_final)\n",
    "submission=pd.DataFrame({'ID': np.arange(1,5000+1), 'Crime_Category': y_pred_submission})\n",
    "\n",
    "submission.to_csv('submission.csv',index=False)"
   ]
  },
  {
   "cell_type": "code",
   "execution_count": null,
   "id": "04bb1638",
   "metadata": {
    "papermill": {
     "duration": 0.063799,
     "end_time": "2024-07-14T06:12:43.992012",
     "exception": false,
     "start_time": "2024-07-14T06:12:43.928213",
     "status": "completed"
    },
    "tags": []
   },
   "outputs": [],
   "source": []
  },
  {
   "cell_type": "code",
   "execution_count": null,
   "id": "6a8381ed",
   "metadata": {
    "papermill": {
     "duration": 0.063453,
     "end_time": "2024-07-14T06:12:44.120790",
     "exception": false,
     "start_time": "2024-07-14T06:12:44.057337",
     "status": "completed"
    },
    "tags": []
   },
   "outputs": [],
   "source": []
  },
  {
   "cell_type": "code",
   "execution_count": null,
   "id": "b73b681c",
   "metadata": {
    "papermill": {
     "duration": 0.06328,
     "end_time": "2024-07-14T06:12:44.247737",
     "exception": false,
     "start_time": "2024-07-14T06:12:44.184457",
     "status": "completed"
    },
    "tags": []
   },
   "outputs": [],
   "source": []
  },
  {
   "cell_type": "code",
   "execution_count": null,
   "id": "d9f90077",
   "metadata": {
    "papermill": {
     "duration": 0.063435,
     "end_time": "2024-07-14T06:12:44.377329",
     "exception": false,
     "start_time": "2024-07-14T06:12:44.313894",
     "status": "completed"
    },
    "tags": []
   },
   "outputs": [],
   "source": []
  },
  {
   "cell_type": "code",
   "execution_count": null,
   "id": "e92a3bff",
   "metadata": {
    "papermill": {
     "duration": 0.064018,
     "end_time": "2024-07-14T06:12:44.505023",
     "exception": false,
     "start_time": "2024-07-14T06:12:44.441005",
     "status": "completed"
    },
    "tags": []
   },
   "outputs": [],
   "source": []
  },
  {
   "cell_type": "code",
   "execution_count": null,
   "id": "989ab721",
   "metadata": {
    "papermill": {
     "duration": 0.063828,
     "end_time": "2024-07-14T06:12:44.632372",
     "exception": false,
     "start_time": "2024-07-14T06:12:44.568544",
     "status": "completed"
    },
    "tags": []
   },
   "outputs": [],
   "source": []
  },
  {
   "cell_type": "code",
   "execution_count": null,
   "id": "1c5f1b91",
   "metadata": {
    "papermill": {
     "duration": 0.063474,
     "end_time": "2024-07-14T06:12:44.760029",
     "exception": false,
     "start_time": "2024-07-14T06:12:44.696555",
     "status": "completed"
    },
    "tags": []
   },
   "outputs": [],
   "source": []
  }
 ],
 "metadata": {
  "kaggle": {
   "accelerator": "none",
   "dataSources": [
    {
     "databundleVersionId": 8446444,
     "sourceId": 77420,
     "sourceType": "competition"
    }
   ],
   "dockerImageVersionId": 30715,
   "isGpuEnabled": false,
   "isInternetEnabled": false,
   "language": "python",
   "sourceType": "notebook"
  },
  "kernelspec": {
   "display_name": "Python 3",
   "language": "python",
   "name": "python3"
  },
  "language_info": {
   "codemirror_mode": {
    "name": "ipython",
    "version": 3
   },
   "file_extension": ".py",
   "mimetype": "text/x-python",
   "name": "python",
   "nbconvert_exporter": "python",
   "pygments_lexer": "ipython3",
   "version": "3.10.13"
  },
  "papermill": {
   "default_parameters": {},
   "duration": 248.654024,
   "end_time": "2024-07-14T06:12:45.547842",
   "environment_variables": {},
   "exception": null,
   "input_path": "__notebook__.ipynb",
   "output_path": "__notebook__.ipynb",
   "parameters": {},
   "start_time": "2024-07-14T06:08:36.893818",
   "version": "2.5.0"
  }
 },
 "nbformat": 4,
 "nbformat_minor": 5
}
