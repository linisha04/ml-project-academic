{
 "cells": [
  {
   "cell_type": "code",
   "execution_count": 1,
   "id": "74d6075f",
   "metadata": {
    "_cell_guid": "b1076dfc-b9ad-4769-8c92-a6c4dae69d19",
    "_uuid": "8f2839f25d086af736a60e9eeb907d3b93b6e0e5",
    "execution": {
     "iopub.execute_input": "2024-07-24T18:25:56.134949Z",
     "iopub.status.busy": "2024-07-24T18:25:56.134510Z",
     "iopub.status.idle": "2024-07-24T18:25:57.041319Z",
     "shell.execute_reply": "2024-07-24T18:25:57.039626Z"
    },
    "papermill": {
     "duration": 0.936358,
     "end_time": "2024-07-24T18:25:57.044121",
     "exception": false,
     "start_time": "2024-07-24T18:25:56.107763",
     "status": "completed"
    },
    "tags": []
   },
   "outputs": [
    {
     "name": "stdout",
     "output_type": "stream",
     "text": [
      "/kaggle/input/crime-cast-forecasting-crime-categories/sample.csv\n",
      "/kaggle/input/crime-cast-forecasting-crime-categories/train.csv\n",
      "/kaggle/input/crime-cast-forecasting-crime-categories/test.csv\n"
     ]
    }
   ],
   "source": [
    "# This Python 3 environment comes with many helpful analytics libraries installed\n",
    "# It is defined by the kaggle/python Docker image: https://github.com/kaggle/docker-python\n",
    "# For example, here's several helpful packages to load\n",
    "\n",
    "import numpy as np # linear algebra\n",
    "import pandas as pd # data processing, CSV file I/O (e.g. pd.read_csv)\n",
    "\n",
    "# Input data files are available in the read-only \"../input/\" directory\n",
    "# For example, running this (by clicking run or pressing Shift+Enter), will list all files under the input directory\n",
    "\n",
    "import os\n",
    "\n",
    "for dirname, _, filenames in os.walk('/kaggle/input'):\n",
    "    for filename in filenames:\n",
    "        print(os.path.join(dirname, filename))\n",
    "\n",
    "# You can write up to 20GB to the current directory (/kaggle/working/) that gets preserved as output when you create a version using \"Save & Run All\" \n",
    "# You can also write temporary files to /kaggle/temp/, but they won't be saved outside of the current session"
   ]
  },
  {
   "cell_type": "code",
   "execution_count": 2,
   "id": "b403cb68",
   "metadata": {
    "execution": {
     "iopub.execute_input": "2024-07-24T18:25:57.098660Z",
     "iopub.status.busy": "2024-07-24T18:25:57.098141Z",
     "iopub.status.idle": "2024-07-24T18:25:58.795156Z",
     "shell.execute_reply": "2024-07-24T18:25:58.794055Z"
    },
    "papermill": {
     "duration": 1.726716,
     "end_time": "2024-07-24T18:25:58.797876",
     "exception": false,
     "start_time": "2024-07-24T18:25:57.071160",
     "status": "completed"
    },
    "tags": []
   },
   "outputs": [],
   "source": [
    "import matplotlib.pyplot as plt\n",
    "import seaborn as sns \n",
    "\n",
    "\n",
    "import datetime\n",
    "\n",
    "\n",
    "from sklearn.model_selection import train_test_split \n",
    "\n",
    "\n",
    "from sklearn.metrics import classification_report , ConfusionMatrixDisplay"
   ]
  },
  {
   "cell_type": "code",
   "execution_count": 3,
   "id": "04ef43a2",
   "metadata": {
    "execution": {
     "iopub.execute_input": "2024-07-24T18:25:58.850345Z",
     "iopub.status.busy": "2024-07-24T18:25:58.849545Z",
     "iopub.status.idle": "2024-07-24T18:25:59.174218Z",
     "shell.execute_reply": "2024-07-24T18:25:59.172993Z"
    },
    "papermill": {
     "duration": 0.353457,
     "end_time": "2024-07-24T18:25:59.176805",
     "exception": false,
     "start_time": "2024-07-24T18:25:58.823348",
     "status": "completed"
    },
    "tags": []
   },
   "outputs": [],
   "source": [
    "train =pd.read_csv('/kaggle/input/crime-cast-forecasting-crime-categories/train.csv')\n",
    "train2 =pd.read_csv('/kaggle/input/crime-cast-forecasting-crime-categories/train.csv')\n",
    "\n",
    "test_final=pd.read_csv('/kaggle/input/crime-cast-forecasting-crime-categories/test.csv')\n"
   ]
  },
  {
   "cell_type": "code",
   "execution_count": 4,
   "id": "331ad695",
   "metadata": {
    "execution": {
     "iopub.execute_input": "2024-07-24T18:25:59.229501Z",
     "iopub.status.busy": "2024-07-24T18:25:59.229099Z",
     "iopub.status.idle": "2024-07-24T18:25:59.290907Z",
     "shell.execute_reply": "2024-07-24T18:25:59.289638Z"
    },
    "papermill": {
     "duration": 0.091027,
     "end_time": "2024-07-24T18:25:59.293212",
     "exception": false,
     "start_time": "2024-07-24T18:25:59.202185",
     "status": "completed"
    },
    "tags": []
   },
   "outputs": [
    {
     "data": {
      "text/html": [
       "<div>\n",
       "<style scoped>\n",
       "    .dataframe tbody tr th:only-of-type {\n",
       "        vertical-align: middle;\n",
       "    }\n",
       "\n",
       "    .dataframe tbody tr th {\n",
       "        vertical-align: top;\n",
       "    }\n",
       "\n",
       "    .dataframe thead th {\n",
       "        text-align: right;\n",
       "    }\n",
       "</style>\n",
       "<table border=\"1\" class=\"dataframe\">\n",
       "  <thead>\n",
       "    <tr style=\"text-align: right;\">\n",
       "      <th></th>\n",
       "      <th>Location</th>\n",
       "      <th>Cross_Street</th>\n",
       "      <th>Latitude</th>\n",
       "      <th>Longitude</th>\n",
       "      <th>Date_Reported</th>\n",
       "      <th>Date_Occurred</th>\n",
       "      <th>Time_Occurred</th>\n",
       "      <th>Area_ID</th>\n",
       "      <th>Area_Name</th>\n",
       "      <th>Reporting_District_no</th>\n",
       "      <th>...</th>\n",
       "      <th>Victim_Age</th>\n",
       "      <th>Victim_Sex</th>\n",
       "      <th>Victim_Descent</th>\n",
       "      <th>Premise_Code</th>\n",
       "      <th>Premise_Description</th>\n",
       "      <th>Weapon_Used_Code</th>\n",
       "      <th>Weapon_Description</th>\n",
       "      <th>Status</th>\n",
       "      <th>Status_Description</th>\n",
       "      <th>Crime_Category</th>\n",
       "    </tr>\n",
       "  </thead>\n",
       "  <tbody>\n",
       "    <tr>\n",
       "      <th>0</th>\n",
       "      <td>4500    CARPENTER                    AV</td>\n",
       "      <td>NaN</td>\n",
       "      <td>34.1522</td>\n",
       "      <td>-118.3910</td>\n",
       "      <td>03/09/2020 12:00:00 AM</td>\n",
       "      <td>03/06/2020 12:00:00 AM</td>\n",
       "      <td>1800.0</td>\n",
       "      <td>15.0</td>\n",
       "      <td>N Hollywood</td>\n",
       "      <td>1563.0</td>\n",
       "      <td>...</td>\n",
       "      <td>75.0</td>\n",
       "      <td>M</td>\n",
       "      <td>W</td>\n",
       "      <td>101.0</td>\n",
       "      <td>STREET</td>\n",
       "      <td>NaN</td>\n",
       "      <td>NaN</td>\n",
       "      <td>IC</td>\n",
       "      <td>Invest Cont</td>\n",
       "      <td>Property Crimes</td>\n",
       "    </tr>\n",
       "    <tr>\n",
       "      <th>1</th>\n",
       "      <td>45TH                         ST</td>\n",
       "      <td>ALAMEDA                      ST</td>\n",
       "      <td>34.0028</td>\n",
       "      <td>-118.2391</td>\n",
       "      <td>02/27/2020 12:00:00 AM</td>\n",
       "      <td>02/27/2020 12:00:00 AM</td>\n",
       "      <td>1345.0</td>\n",
       "      <td>13.0</td>\n",
       "      <td>Newton</td>\n",
       "      <td>1367.0</td>\n",
       "      <td>...</td>\n",
       "      <td>41.0</td>\n",
       "      <td>M</td>\n",
       "      <td>H</td>\n",
       "      <td>216.0</td>\n",
       "      <td>SWAP MEET</td>\n",
       "      <td>400.0</td>\n",
       "      <td>STRONG-ARM (HANDS, FIST, FEET OR BODILY FORCE)</td>\n",
       "      <td>IC</td>\n",
       "      <td>Invest Cont</td>\n",
       "      <td>Property Crimes</td>\n",
       "    </tr>\n",
       "    <tr>\n",
       "      <th>2</th>\n",
       "      <td>600 E  MARTIN LUTHER KING JR        BL</td>\n",
       "      <td>NaN</td>\n",
       "      <td>34.0111</td>\n",
       "      <td>-118.2653</td>\n",
       "      <td>08/21/2020 12:00:00 AM</td>\n",
       "      <td>08/21/2020 12:00:00 AM</td>\n",
       "      <td>605.0</td>\n",
       "      <td>13.0</td>\n",
       "      <td>Newton</td>\n",
       "      <td>1343.0</td>\n",
       "      <td>...</td>\n",
       "      <td>67.0</td>\n",
       "      <td>M</td>\n",
       "      <td>B</td>\n",
       "      <td>501.0</td>\n",
       "      <td>SINGLE FAMILY DWELLING</td>\n",
       "      <td>NaN</td>\n",
       "      <td>NaN</td>\n",
       "      <td>IC</td>\n",
       "      <td>Invest Cont</td>\n",
       "      <td>Property Crimes</td>\n",
       "    </tr>\n",
       "    <tr>\n",
       "      <th>3</th>\n",
       "      <td>14900    ORO GRANDE                   ST</td>\n",
       "      <td>NaN</td>\n",
       "      <td>34.2953</td>\n",
       "      <td>-118.4590</td>\n",
       "      <td>11/08/2020 12:00:00 AM</td>\n",
       "      <td>11/06/2020 12:00:00 AM</td>\n",
       "      <td>1800.0</td>\n",
       "      <td>19.0</td>\n",
       "      <td>Mission</td>\n",
       "      <td>1924.0</td>\n",
       "      <td>...</td>\n",
       "      <td>61.0</td>\n",
       "      <td>M</td>\n",
       "      <td>H</td>\n",
       "      <td>101.0</td>\n",
       "      <td>STREET</td>\n",
       "      <td>NaN</td>\n",
       "      <td>NaN</td>\n",
       "      <td>IC</td>\n",
       "      <td>Invest Cont</td>\n",
       "      <td>Property Crimes</td>\n",
       "    </tr>\n",
       "    <tr>\n",
       "      <th>4</th>\n",
       "      <td>7100 S  VERMONT                      AV</td>\n",
       "      <td>NaN</td>\n",
       "      <td>33.9787</td>\n",
       "      <td>-118.2918</td>\n",
       "      <td>02/25/2020 12:00:00 AM</td>\n",
       "      <td>02/25/2020 12:00:00 AM</td>\n",
       "      <td>1130.0</td>\n",
       "      <td>12.0</td>\n",
       "      <td>77th Street</td>\n",
       "      <td>1245.0</td>\n",
       "      <td>...</td>\n",
       "      <td>0.0</td>\n",
       "      <td>X</td>\n",
       "      <td>X</td>\n",
       "      <td>401.0</td>\n",
       "      <td>MINI-MART</td>\n",
       "      <td>400.0</td>\n",
       "      <td>STRONG-ARM (HANDS, FIST, FEET OR BODILY FORCE)</td>\n",
       "      <td>IC</td>\n",
       "      <td>Invest Cont</td>\n",
       "      <td>Property Crimes</td>\n",
       "    </tr>\n",
       "    <tr>\n",
       "      <th>...</th>\n",
       "      <td>...</td>\n",
       "      <td>...</td>\n",
       "      <td>...</td>\n",
       "      <td>...</td>\n",
       "      <td>...</td>\n",
       "      <td>...</td>\n",
       "      <td>...</td>\n",
       "      <td>...</td>\n",
       "      <td>...</td>\n",
       "      <td>...</td>\n",
       "      <td>...</td>\n",
       "      <td>...</td>\n",
       "      <td>...</td>\n",
       "      <td>...</td>\n",
       "      <td>...</td>\n",
       "      <td>...</td>\n",
       "      <td>...</td>\n",
       "      <td>...</td>\n",
       "      <td>...</td>\n",
       "      <td>...</td>\n",
       "      <td>...</td>\n",
       "    </tr>\n",
       "    <tr>\n",
       "      <th>19995</th>\n",
       "      <td>5100 W  ADAMS                        BL</td>\n",
       "      <td>NaN</td>\n",
       "      <td>34.0334</td>\n",
       "      <td>-118.3523</td>\n",
       "      <td>05/24/2020 12:00:00 AM</td>\n",
       "      <td>05/24/2020 12:00:00 AM</td>\n",
       "      <td>700.0</td>\n",
       "      <td>3.0</td>\n",
       "      <td>Southwest</td>\n",
       "      <td>303.0</td>\n",
       "      <td>...</td>\n",
       "      <td>51.0</td>\n",
       "      <td>M</td>\n",
       "      <td>H</td>\n",
       "      <td>501.0</td>\n",
       "      <td>SINGLE FAMILY DWELLING</td>\n",
       "      <td>400.0</td>\n",
       "      <td>STRONG-ARM (HANDS, FIST, FEET OR BODILY FORCE)</td>\n",
       "      <td>IC</td>\n",
       "      <td>Invest Cont</td>\n",
       "      <td>Violent Crimes</td>\n",
       "    </tr>\n",
       "    <tr>\n",
       "      <th>19996</th>\n",
       "      <td>16900    ROSCOE                       BL</td>\n",
       "      <td>NaN</td>\n",
       "      <td>34.2212</td>\n",
       "      <td>-118.5011</td>\n",
       "      <td>12/25/2020 12:00:00 AM</td>\n",
       "      <td>12/25/2020 12:00:00 AM</td>\n",
       "      <td>259.0</td>\n",
       "      <td>10.0</td>\n",
       "      <td>West Valley</td>\n",
       "      <td>1008.0</td>\n",
       "      <td>...</td>\n",
       "      <td>0.0</td>\n",
       "      <td>M</td>\n",
       "      <td>W</td>\n",
       "      <td>301.0</td>\n",
       "      <td>GAS STATION</td>\n",
       "      <td>NaN</td>\n",
       "      <td>NaN</td>\n",
       "      <td>IC</td>\n",
       "      <td>Invest Cont</td>\n",
       "      <td>Property Crimes</td>\n",
       "    </tr>\n",
       "    <tr>\n",
       "      <th>19997</th>\n",
       "      <td>1000 S  SHENANDOAH                   ST</td>\n",
       "      <td>NaN</td>\n",
       "      <td>34.0571</td>\n",
       "      <td>-118.3815</td>\n",
       "      <td>09/25/2020 12:00:00 AM</td>\n",
       "      <td>09/25/2020 12:00:00 AM</td>\n",
       "      <td>1400.0</td>\n",
       "      <td>8.0</td>\n",
       "      <td>West LA</td>\n",
       "      <td>849.0</td>\n",
       "      <td>...</td>\n",
       "      <td>42.0</td>\n",
       "      <td>M</td>\n",
       "      <td>H</td>\n",
       "      <td>102.0</td>\n",
       "      <td>SIDEWALK</td>\n",
       "      <td>NaN</td>\n",
       "      <td>NaN</td>\n",
       "      <td>IC</td>\n",
       "      <td>Invest Cont</td>\n",
       "      <td>Property Crimes</td>\n",
       "    </tr>\n",
       "    <tr>\n",
       "      <th>19998</th>\n",
       "      <td>300 W  SEPULVEDA                    ST</td>\n",
       "      <td>NaN</td>\n",
       "      <td>33.7451</td>\n",
       "      <td>-118.2835</td>\n",
       "      <td>06/10/2020 12:00:00 AM</td>\n",
       "      <td>06/10/2020 12:00:00 AM</td>\n",
       "      <td>600.0</td>\n",
       "      <td>5.0</td>\n",
       "      <td>Harbor</td>\n",
       "      <td>558.0</td>\n",
       "      <td>...</td>\n",
       "      <td>76.0</td>\n",
       "      <td>F</td>\n",
       "      <td>H</td>\n",
       "      <td>501.0</td>\n",
       "      <td>SINGLE FAMILY DWELLING</td>\n",
       "      <td>NaN</td>\n",
       "      <td>NaN</td>\n",
       "      <td>IC</td>\n",
       "      <td>Invest Cont</td>\n",
       "      <td>Crimes against Public Order</td>\n",
       "    </tr>\n",
       "    <tr>\n",
       "      <th>19999</th>\n",
       "      <td>DALTON                       AV</td>\n",
       "      <td>VERNON                       AV</td>\n",
       "      <td>34.0037</td>\n",
       "      <td>-118.3034</td>\n",
       "      <td>02/18/2020 12:00:00 AM</td>\n",
       "      <td>02/17/2020 12:00:00 AM</td>\n",
       "      <td>1800.0</td>\n",
       "      <td>3.0</td>\n",
       "      <td>Southwest</td>\n",
       "      <td>397.0</td>\n",
       "      <td>...</td>\n",
       "      <td>0.0</td>\n",
       "      <td>NaN</td>\n",
       "      <td>NaN</td>\n",
       "      <td>101.0</td>\n",
       "      <td>STREET</td>\n",
       "      <td>NaN</td>\n",
       "      <td>NaN</td>\n",
       "      <td>IC</td>\n",
       "      <td>Invest Cont</td>\n",
       "      <td>Property Crimes</td>\n",
       "    </tr>\n",
       "  </tbody>\n",
       "</table>\n",
       "<p>20000 rows × 22 columns</p>\n",
       "</div>"
      ],
      "text/plain": [
       "                                       Location  \\\n",
       "0       4500    CARPENTER                    AV   \n",
       "1               45TH                         ST   \n",
       "2        600 E  MARTIN LUTHER KING JR        BL   \n",
       "3      14900    ORO GRANDE                   ST   \n",
       "4       7100 S  VERMONT                      AV   \n",
       "...                                         ...   \n",
       "19995   5100 W  ADAMS                        BL   \n",
       "19996  16900    ROSCOE                       BL   \n",
       "19997   1000 S  SHENANDOAH                   ST   \n",
       "19998    300 W  SEPULVEDA                    ST   \n",
       "19999           DALTON                       AV   \n",
       "\n",
       "                          Cross_Street  Latitude  Longitude  \\\n",
       "0                                  NaN   34.1522  -118.3910   \n",
       "1      ALAMEDA                      ST   34.0028  -118.2391   \n",
       "2                                  NaN   34.0111  -118.2653   \n",
       "3                                  NaN   34.2953  -118.4590   \n",
       "4                                  NaN   33.9787  -118.2918   \n",
       "...                                ...       ...        ...   \n",
       "19995                              NaN   34.0334  -118.3523   \n",
       "19996                              NaN   34.2212  -118.5011   \n",
       "19997                              NaN   34.0571  -118.3815   \n",
       "19998                              NaN   33.7451  -118.2835   \n",
       "19999  VERNON                       AV   34.0037  -118.3034   \n",
       "\n",
       "                Date_Reported           Date_Occurred  Time_Occurred  Area_ID  \\\n",
       "0      03/09/2020 12:00:00 AM  03/06/2020 12:00:00 AM         1800.0     15.0   \n",
       "1      02/27/2020 12:00:00 AM  02/27/2020 12:00:00 AM         1345.0     13.0   \n",
       "2      08/21/2020 12:00:00 AM  08/21/2020 12:00:00 AM          605.0     13.0   \n",
       "3      11/08/2020 12:00:00 AM  11/06/2020 12:00:00 AM         1800.0     19.0   \n",
       "4      02/25/2020 12:00:00 AM  02/25/2020 12:00:00 AM         1130.0     12.0   \n",
       "...                       ...                     ...            ...      ...   \n",
       "19995  05/24/2020 12:00:00 AM  05/24/2020 12:00:00 AM          700.0      3.0   \n",
       "19996  12/25/2020 12:00:00 AM  12/25/2020 12:00:00 AM          259.0     10.0   \n",
       "19997  09/25/2020 12:00:00 AM  09/25/2020 12:00:00 AM         1400.0      8.0   \n",
       "19998  06/10/2020 12:00:00 AM  06/10/2020 12:00:00 AM          600.0      5.0   \n",
       "19999  02/18/2020 12:00:00 AM  02/17/2020 12:00:00 AM         1800.0      3.0   \n",
       "\n",
       "         Area_Name  Reporting_District_no  ...  Victim_Age Victim_Sex  \\\n",
       "0      N Hollywood                 1563.0  ...        75.0          M   \n",
       "1           Newton                 1367.0  ...        41.0          M   \n",
       "2           Newton                 1343.0  ...        67.0          M   \n",
       "3          Mission                 1924.0  ...        61.0          M   \n",
       "4      77th Street                 1245.0  ...         0.0          X   \n",
       "...            ...                    ...  ...         ...        ...   \n",
       "19995    Southwest                  303.0  ...        51.0          M   \n",
       "19996  West Valley                 1008.0  ...         0.0          M   \n",
       "19997      West LA                  849.0  ...        42.0          M   \n",
       "19998       Harbor                  558.0  ...        76.0          F   \n",
       "19999    Southwest                  397.0  ...         0.0        NaN   \n",
       "\n",
       "       Victim_Descent Premise_Code     Premise_Description  Weapon_Used_Code  \\\n",
       "0                   W        101.0                  STREET               NaN   \n",
       "1                   H        216.0               SWAP MEET             400.0   \n",
       "2                   B        501.0  SINGLE FAMILY DWELLING               NaN   \n",
       "3                   H        101.0                  STREET               NaN   \n",
       "4                   X        401.0               MINI-MART             400.0   \n",
       "...               ...          ...                     ...               ...   \n",
       "19995               H        501.0  SINGLE FAMILY DWELLING             400.0   \n",
       "19996               W        301.0             GAS STATION               NaN   \n",
       "19997               H        102.0                SIDEWALK               NaN   \n",
       "19998               H        501.0  SINGLE FAMILY DWELLING               NaN   \n",
       "19999             NaN        101.0                  STREET               NaN   \n",
       "\n",
       "                                   Weapon_Description  Status  \\\n",
       "0                                                 NaN      IC   \n",
       "1      STRONG-ARM (HANDS, FIST, FEET OR BODILY FORCE)      IC   \n",
       "2                                                 NaN      IC   \n",
       "3                                                 NaN      IC   \n",
       "4      STRONG-ARM (HANDS, FIST, FEET OR BODILY FORCE)      IC   \n",
       "...                                               ...     ...   \n",
       "19995  STRONG-ARM (HANDS, FIST, FEET OR BODILY FORCE)      IC   \n",
       "19996                                             NaN      IC   \n",
       "19997                                             NaN      IC   \n",
       "19998                                             NaN      IC   \n",
       "19999                                             NaN      IC   \n",
       "\n",
       "      Status_Description               Crime_Category  \n",
       "0            Invest Cont              Property Crimes  \n",
       "1            Invest Cont              Property Crimes  \n",
       "2            Invest Cont              Property Crimes  \n",
       "3            Invest Cont              Property Crimes  \n",
       "4            Invest Cont              Property Crimes  \n",
       "...                  ...                          ...  \n",
       "19995        Invest Cont               Violent Crimes  \n",
       "19996        Invest Cont              Property Crimes  \n",
       "19997        Invest Cont              Property Crimes  \n",
       "19998        Invest Cont  Crimes against Public Order  \n",
       "19999        Invest Cont              Property Crimes  \n",
       "\n",
       "[20000 rows x 22 columns]"
      ]
     },
     "execution_count": 4,
     "metadata": {},
     "output_type": "execute_result"
    }
   ],
   "source": [
    "train"
   ]
  },
  {
   "cell_type": "code",
   "execution_count": 5,
   "id": "55c21a8c",
   "metadata": {
    "execution": {
     "iopub.execute_input": "2024-07-24T18:25:59.347610Z",
     "iopub.status.busy": "2024-07-24T18:25:59.347251Z",
     "iopub.status.idle": "2024-07-24T18:25:59.368924Z",
     "shell.execute_reply": "2024-07-24T18:25:59.367809Z"
    },
    "papermill": {
     "duration": 0.051773,
     "end_time": "2024-07-24T18:25:59.371336",
     "exception": false,
     "start_time": "2024-07-24T18:25:59.319563",
     "status": "completed"
    },
    "tags": []
   },
   "outputs": [
    {
     "data": {
      "text/plain": [
       "Location                     0\n",
       "Cross_Street             16552\n",
       "Latitude                     0\n",
       "Longitude                    0\n",
       "Date_Reported                0\n",
       "Date_Occurred                0\n",
       "Time_Occurred                0\n",
       "Area_ID                      0\n",
       "Area_Name                    0\n",
       "Reporting_District_no        0\n",
       "Part 1-2                     0\n",
       "Modus_Operandi            2741\n",
       "Victim_Age                   0\n",
       "Victim_Sex                2624\n",
       "Victim_Descent            2624\n",
       "Premise_Code                 0\n",
       "Premise_Description          5\n",
       "Weapon_Used_Code         12665\n",
       "Weapon_Description       12665\n",
       "Status                       0\n",
       "Status_Description           0\n",
       "Crime_Category               0\n",
       "dtype: int64"
      ]
     },
     "execution_count": 5,
     "metadata": {},
     "output_type": "execute_result"
    }
   ],
   "source": [
    "train.isnull().sum()"
   ]
  },
  {
   "cell_type": "code",
   "execution_count": 6,
   "id": "3b897ac5",
   "metadata": {
    "execution": {
     "iopub.execute_input": "2024-07-24T18:25:59.424912Z",
     "iopub.status.busy": "2024-07-24T18:25:59.424522Z",
     "iopub.status.idle": "2024-07-24T18:25:59.429364Z",
     "shell.execute_reply": "2024-07-24T18:25:59.428201Z"
    },
    "papermill": {
     "duration": 0.034623,
     "end_time": "2024-07-24T18:25:59.431780",
     "exception": false,
     "start_time": "2024-07-24T18:25:59.397157",
     "status": "completed"
    },
    "tags": []
   },
   "outputs": [],
   "source": [
    "# train=train[['Latitude','Longitude','Victim_Age','','Area_ID','']]"
   ]
  },
  {
   "cell_type": "code",
   "execution_count": 7,
   "id": "f1627ad8",
   "metadata": {
    "execution": {
     "iopub.execute_input": "2024-07-24T18:25:59.485345Z",
     "iopub.status.busy": "2024-07-24T18:25:59.484935Z",
     "iopub.status.idle": "2024-07-24T18:25:59.521231Z",
     "shell.execute_reply": "2024-07-24T18:25:59.520070Z"
    },
    "papermill": {
     "duration": 0.06578,
     "end_time": "2024-07-24T18:25:59.523630",
     "exception": false,
     "start_time": "2024-07-24T18:25:59.457850",
     "status": "completed"
    },
    "tags": []
   },
   "outputs": [
    {
     "name": "stdout",
     "output_type": "stream",
     "text": [
      "<class 'pandas.core.frame.DataFrame'>\n",
      "RangeIndex: 20000 entries, 0 to 19999\n",
      "Data columns (total 22 columns):\n",
      " #   Column                 Non-Null Count  Dtype  \n",
      "---  ------                 --------------  -----  \n",
      " 0   Location               20000 non-null  object \n",
      " 1   Cross_Street           3448 non-null   object \n",
      " 2   Latitude               20000 non-null  float64\n",
      " 3   Longitude              20000 non-null  float64\n",
      " 4   Date_Reported          20000 non-null  object \n",
      " 5   Date_Occurred          20000 non-null  object \n",
      " 6   Time_Occurred          20000 non-null  float64\n",
      " 7   Area_ID                20000 non-null  float64\n",
      " 8   Area_Name              20000 non-null  object \n",
      " 9   Reporting_District_no  20000 non-null  float64\n",
      " 10  Part 1-2               20000 non-null  float64\n",
      " 11  Modus_Operandi         17259 non-null  object \n",
      " 12  Victim_Age             20000 non-null  float64\n",
      " 13  Victim_Sex             17376 non-null  object \n",
      " 14  Victim_Descent         17376 non-null  object \n",
      " 15  Premise_Code           20000 non-null  float64\n",
      " 16  Premise_Description    19995 non-null  object \n",
      " 17  Weapon_Used_Code       7335 non-null   float64\n",
      " 18  Weapon_Description     7335 non-null   object \n",
      " 19  Status                 20000 non-null  object \n",
      " 20  Status_Description     20000 non-null  object \n",
      " 21  Crime_Category         20000 non-null  object \n",
      "dtypes: float64(9), object(13)\n",
      "memory usage: 3.4+ MB\n"
     ]
    }
   ],
   "source": [
    "train.info()"
   ]
  },
  {
   "cell_type": "markdown",
   "id": "56e95464",
   "metadata": {
    "papermill": {
     "duration": 0.026237,
     "end_time": "2024-07-24T18:25:59.575849",
     "exception": false,
     "start_time": "2024-07-24T18:25:59.549612",
     "status": "completed"
    },
    "tags": []
   },
   "source": [
    "# **Categorical Columns **"
   ]
  },
  {
   "cell_type": "markdown",
   "id": "9dc73eb3",
   "metadata": {
    "papermill": {
     "duration": 0.025535,
     "end_time": "2024-07-24T18:25:59.627175",
     "exception": false,
     "start_time": "2024-07-24T18:25:59.601640",
     "status": "completed"
    },
    "tags": []
   },
   "source": [
    "# Location"
   ]
  },
  {
   "cell_type": "code",
   "execution_count": 8,
   "id": "ec373b5d",
   "metadata": {
    "execution": {
     "iopub.execute_input": "2024-07-24T18:25:59.738281Z",
     "iopub.status.busy": "2024-07-24T18:25:59.737427Z",
     "iopub.status.idle": "2024-07-24T18:25:59.771589Z",
     "shell.execute_reply": "2024-07-24T18:25:59.770373Z"
    },
    "papermill": {
     "duration": 0.121145,
     "end_time": "2024-07-24T18:25:59.774068",
     "exception": false,
     "start_time": "2024-07-24T18:25:59.652923",
     "status": "completed"
    },
    "tags": []
   },
   "outputs": [
    {
     "name": "stdout",
     "output_type": "stream",
     "text": [
      "['4500    CARPENTER                    AV'\n",
      " '45TH                         ST'\n",
      " '600 E  MARTIN LUTHER KING JR        BL' ...\n",
      " '15800    STRATHERN                    ST'\n",
      " '5100 W  ADAMS                        BL'\n",
      " 'DALTON                       AV']\n",
      "--------------------------------\n",
      "Number of unqiue location :  12399\n",
      "--------------------------------\n",
      "['4500 CARPENTER AV' '45TH ST' '600 E MARTIN LUTHER KING JR BL' ...\n",
      " '15800 STRATHERN ST' '5100 W ADAMS BL' 'DALTON AV']\n",
      "Number of unqiue location :  12396\n"
     ]
    }
   ],
   "source": [
    "print(train['Location'].unique())\n",
    "\n",
    "\n",
    "print('--------------------------------')\n",
    "\n",
    "print('Number of unqiue location : '  , len(train['Location'].unique()))\n",
    "\n",
    "\n",
    "print('--------------------------------')\n",
    "\n",
    "\n",
    "train.loc[: , 'Location']=train['Location'].apply( lambda x : ' '.join(x.split()))\n",
    "\n",
    "print(train['Location'].unique())\n",
    "\n",
    "\n",
    "\n",
    "print('Number of unqiue location : '  , len(train['Location'].unique()))\n",
    "\n",
    "# print('Removed space' , len(train['Location'].unique()) )\n"
   ]
  },
  {
   "cell_type": "code",
   "execution_count": 9,
   "id": "eb4f7731",
   "metadata": {
    "execution": {
     "iopub.execute_input": "2024-07-24T18:25:59.829587Z",
     "iopub.status.busy": "2024-07-24T18:25:59.828678Z",
     "iopub.status.idle": "2024-07-24T18:26:00.552259Z",
     "shell.execute_reply": "2024-07-24T18:26:00.551094Z"
    },
    "papermill": {
     "duration": 0.754805,
     "end_time": "2024-07-24T18:26:00.556252",
     "exception": false,
     "start_time": "2024-07-24T18:25:59.801447",
     "status": "completed"
    },
    "tags": []
   },
   "outputs": [
    {
     "data": {
      "image/png": "[encoded data removed]",
      "text/plain": [
       "<Figure size 1000x600 with 1 Axes>"
      ]
     },
     "metadata": {},
     "output_type": "display_data"
    }
   ],
   "source": [
    "from wordcloud import WordCloud\n",
    "import matplotlib.pyplot as plt\n",
    "\n",
    "\n",
    "cloud = WordCloud(width=800, height=400, background_color='black').generate(str(train['Location']))\n",
    "plt.figure(figsize=(10, 6))\n",
    "plt.imshow(cloud)\n",
    "plt.show()\n"
   ]
  },
  {
   "cell_type": "code",
   "execution_count": 10,
   "id": "a84ab429",
   "metadata": {
    "execution": {
     "iopub.execute_input": "2024-07-24T18:26:00.615531Z",
     "iopub.status.busy": "2024-07-24T18:26:00.614647Z",
     "iopub.status.idle": "2024-07-24T18:26:00.906531Z",
     "shell.execute_reply": "2024-07-24T18:26:00.905493Z"
    },
    "papermill": {
     "duration": 0.324348,
     "end_time": "2024-07-24T18:26:00.909112",
     "exception": false,
     "start_time": "2024-07-24T18:26:00.584764",
     "status": "completed"
    },
    "tags": []
   },
   "outputs": [
    {
     "data": {
      "text/plain": [
       "<Axes: xlabel='Location'>"
      ]
     },
     "execution_count": 10,
     "metadata": {},
     "output_type": "execute_result"
    },
    {
     "data": {
      "image/png": "[encoded data removed]",
      "text/plain": [
       "<Figure size 640x480 with 1 Axes>"
      ]
     },
     "metadata": {},
     "output_type": "display_data"
    }
   ],
   "source": [
    "train['Location'].value_counts().head(10).plot(kind='bar')"
   ]
  },
  {
   "cell_type": "markdown",
   "id": "08cae87d",
   "metadata": {
    "papermill": {
     "duration": 0.028508,
     "end_time": "2024-07-24T18:26:00.966545",
     "exception": false,
     "start_time": "2024-07-24T18:26:00.938037",
     "status": "completed"
    },
    "tags": []
   },
   "source": [
    "# Cross_Street"
   ]
  },
  {
   "cell_type": "code",
   "execution_count": 11,
   "id": "4a569f96",
   "metadata": {
    "execution": {
     "iopub.execute_input": "2024-07-24T18:26:01.026044Z",
     "iopub.status.busy": "2024-07-24T18:26:01.025642Z",
     "iopub.status.idle": "2024-07-24T18:26:01.033897Z",
     "shell.execute_reply": "2024-07-24T18:26:01.032787Z"
    },
    "papermill": {
     "duration": 0.040727,
     "end_time": "2024-07-24T18:26:01.036188",
     "exception": false,
     "start_time": "2024-07-24T18:26:00.995461",
     "status": "completed"
    },
    "tags": []
   },
   "outputs": [
    {
     "data": {
      "text/plain": [
       "0                                    NaN\n",
       "1        ALAMEDA                      ST\n",
       "2                                    NaN\n",
       "3                                    NaN\n",
       "4                                    NaN\n",
       "                      ...               \n",
       "19995                                NaN\n",
       "19996                                NaN\n",
       "19997                                NaN\n",
       "19998                                NaN\n",
       "19999    VERNON                       AV\n",
       "Name: Cross_Street, Length: 20000, dtype: object"
      ]
     },
     "execution_count": 11,
     "metadata": {},
     "output_type": "execute_result"
    }
   ],
   "source": [
    "train['Cross_Street']"
   ]
  },
  {
   "cell_type": "code",
   "execution_count": 12,
   "id": "daf12b67",
   "metadata": {
    "execution": {
     "iopub.execute_input": "2024-07-24T18:26:01.096676Z",
     "iopub.status.busy": "2024-07-24T18:26:01.096010Z",
     "iopub.status.idle": "2024-07-24T18:26:01.117475Z",
     "shell.execute_reply": "2024-07-24T18:26:01.116331Z"
    },
    "papermill": {
     "duration": 0.05484,
     "end_time": "2024-07-24T18:26:01.119996",
     "exception": false,
     "start_time": "2024-07-24T18:26:01.065156",
     "status": "completed"
    },
    "tags": []
   },
   "outputs": [
    {
     "name": "stdout",
     "output_type": "stream",
     "text": [
      " unqiue values after replacing the null values\n",
      "['' 'ALAMEDA                      ST' 'LASSEN                       ST'\n",
      " ... 'VICTORIA' '39TH                         ST' 'HAVELOCK']\n",
      "Number of unique values :  1496\n",
      "----------------------------------------------------\n",
      "Number of null values values the cross_street column originally has  16552\n"
     ]
    }
   ],
   "source": [
    "# print('unqiue values before replacing the null values')\n",
    "# print(train['Cross_Street'].unique())\n",
    "\n",
    "# print(\"Number of unique values : \" , len(train['Cross_Street'].unique()) )\n",
    "\n",
    "# print('----------------------------------------------------')\n",
    "train.loc[:,'Cross_Street']=train['Cross_Street'].fillna('')\n",
    "\n",
    "\n",
    "print(' unqiue values after replacing the null values')\n",
    "\n",
    "\n",
    "print(train['Cross_Street'].unique())\n",
    "\n",
    "# train.loc[: , 'Cross_Street']=train['Cross_Street'].apply( lambda x : ' '.join(x.split()))\n",
    "\n",
    "train.loc[: , 'Cross_Street']=train['Cross_Street'].apply( lambda x : ' '.join(x.split()))\n",
    "\n",
    "print(\"Number of unique values : \" , len(train['Cross_Street'].unique()) )\n",
    "\n",
    "\n",
    "print('----------------------------------------------------')\n",
    "\n",
    "\n",
    "print(\"Number of null values values the cross_street column originally has \" ,16552)"
   ]
  },
  {
   "cell_type": "code",
   "execution_count": 13,
   "id": "a930a965",
   "metadata": {
    "execution": {
     "iopub.execute_input": "2024-07-24T18:26:01.182050Z",
     "iopub.status.busy": "2024-07-24T18:26:01.180892Z",
     "iopub.status.idle": "2024-07-24T18:26:01.202771Z",
     "shell.execute_reply": "2024-07-24T18:26:01.201712Z"
    },
    "papermill": {
     "duration": 0.05592,
     "end_time": "2024-07-24T18:26:01.205267",
     "exception": false,
     "start_time": "2024-07-24T18:26:01.149347",
     "status": "completed"
    },
    "tags": []
   },
   "outputs": [
    {
     "data": {
      "text/plain": [
       "Location                     0\n",
       "Cross_Street                 0\n",
       "Latitude                     0\n",
       "Longitude                    0\n",
       "Date_Reported                0\n",
       "Date_Occurred                0\n",
       "Time_Occurred                0\n",
       "Area_ID                      0\n",
       "Area_Name                    0\n",
       "Reporting_District_no        0\n",
       "Part 1-2                     0\n",
       "Modus_Operandi            2741\n",
       "Victim_Age                   0\n",
       "Victim_Sex                2624\n",
       "Victim_Descent            2624\n",
       "Premise_Code                 0\n",
       "Premise_Description          5\n",
       "Weapon_Used_Code         12665\n",
       "Weapon_Description       12665\n",
       "Status                       0\n",
       "Status_Description           0\n",
       "Crime_Category               0\n",
       "dtype: int64"
      ]
     },
     "execution_count": 13,
     "metadata": {},
     "output_type": "execute_result"
    }
   ],
   "source": [
    "train.isnull().sum()"
   ]
  },
  {
   "cell_type": "markdown",
   "id": "8631e831",
   "metadata": {
    "papermill": {
     "duration": 0.028891,
     "end_time": "2024-07-24T18:26:01.263543",
     "exception": false,
     "start_time": "2024-07-24T18:26:01.234652",
     "status": "completed"
    },
    "tags": []
   },
   "source": [
    "# Area_ID\n"
   ]
  },
  {
   "cell_type": "code",
   "execution_count": 14,
   "id": "dcc1c671",
   "metadata": {
    "execution": {
     "iopub.execute_input": "2024-07-24T18:26:01.323865Z",
     "iopub.status.busy": "2024-07-24T18:26:01.323456Z",
     "iopub.status.idle": "2024-07-24T18:26:01.655363Z",
     "shell.execute_reply": "2024-07-24T18:26:01.654189Z"
    },
    "papermill": {
     "duration": 0.36534,
     "end_time": "2024-07-24T18:26:01.658208",
     "exception": false,
     "start_time": "2024-07-24T18:26:01.292868",
     "status": "completed"
    },
    "tags": []
   },
   "outputs": [
    {
     "name": "stdout",
     "output_type": "stream",
     "text": [
      "unique values of area id are :\n",
      "[15. 13. 19. 12. 11.  4. 14.  9. 17.  7.  6.  5. 21.  1. 10. 20. 16.  8.\n",
      " 18.  3.  2.]\n",
      "-------------------------------------------\n",
      "Number of unique values are  21\n",
      "Number of null values are  0\n",
      "-------------------------------------------\n",
      "Area_ID\n",
      "12.0    1345\n",
      "14.0    1157\n",
      "1.0     1156\n",
      "3.0     1130\n",
      "18.0    1067\n",
      "15.0    1065\n",
      "6.0     1014\n",
      "13.0     999\n",
      "20.0     960\n",
      "7.0      943\n",
      "2.0      931\n",
      "8.0      910\n",
      "9.0      902\n",
      "5.0      872\n",
      "19.0     870\n",
      "11.0     839\n",
      "21.0     792\n",
      "10.0     790\n",
      "17.0     769\n",
      "4.0      755\n",
      "16.0     734\n",
      "Name: count, dtype: int64\n",
      "-------------------------------------------\n"
     ]
    },
    {
     "name": "stderr",
     "output_type": "stream",
     "text": [
      "/tmp/ipykernel_18/2200294362.py:14: FutureWarning: Setting an item of incompatible dtype is deprecated and will raise in a future error of pandas. Value '['15.0' '13.0' '13.0' ... '8.0' '5.0' '3.0']' has dtype incompatible with float64, please explicitly cast to a compatible dtype first.\n",
      "  train.loc[:,'Area_ID']=train['Area_ID'].astype(str)\n"
     ]
    },
    {
     "data": {
      "image/png": "[encoded data removed]",
      "text/plain": [
       "<Figure size 640x480 with 1 Axes>"
      ]
     },
     "metadata": {},
     "output_type": "display_data"
    },
    {
     "data": {
      "text/plain": [
       "<Figure size 1500x1000 with 0 Axes>"
      ]
     },
     "metadata": {},
     "output_type": "display_data"
    }
   ],
   "source": [
    "print('unique values of area id are :')\n",
    "print(train['Area_ID'].unique())\n",
    "\n",
    "print('-------------------------------------------')\n",
    "\n",
    "print('Number of unique values are ' , len(train['Area_ID'].unique()))\n",
    "\n",
    "\n",
    "print('Number of null values are ' , train['Area_ID'].isnull().sum())\n",
    "\n",
    "\n",
    "print('-------------------------------------------')\n",
    "\n",
    "train.loc[:,'Area_ID']=train['Area_ID'].astype(str)\n",
    "train.loc[:,'Area_ID']=train['Area_ID'].astype('category')\n",
    "\n",
    "print(train['Area_ID'].value_counts())\n",
    "\n",
    "\n",
    "print('-------------------------------------------')\n",
    "\n",
    "\n",
    "Area_ID_value_counts=train['Area_ID'].value_counts()\n",
    "\n",
    "Area_ID_value_counts.plot(kind='bar')\n",
    "plt.figure(figsize=(15, 10))\n",
    "\n",
    "plt.show()"
   ]
  },
  {
   "cell_type": "markdown",
   "id": "1837e1d2",
   "metadata": {
    "papermill": {
     "duration": 0.029807,
     "end_time": "2024-07-24T18:26:01.718599",
     "exception": false,
     "start_time": "2024-07-24T18:26:01.688792",
     "status": "completed"
    },
    "tags": []
   },
   "source": [
    "# Area_Name"
   ]
  },
  {
   "cell_type": "markdown",
   "id": "24947fa3",
   "metadata": {
    "papermill": {
     "duration": 0.04086,
     "end_time": "2024-07-24T18:26:01.791356",
     "exception": false,
     "start_time": "2024-07-24T18:26:01.750496",
     "status": "completed"
    },
    "tags": []
   },
   "source": [
    "Area Name == Area id columns"
   ]
  },
  {
   "cell_type": "code",
   "execution_count": 15,
   "id": "f2a3c627",
   "metadata": {
    "execution": {
     "iopub.execute_input": "2024-07-24T18:26:01.859572Z",
     "iopub.status.busy": "2024-07-24T18:26:01.858818Z",
     "iopub.status.idle": "2024-07-24T18:26:01.874753Z",
     "shell.execute_reply": "2024-07-24T18:26:01.873013Z"
    },
    "papermill": {
     "duration": 0.053556,
     "end_time": "2024-07-24T18:26:01.878005",
     "exception": false,
     "start_time": "2024-07-24T18:26:01.824449",
     "status": "completed"
    },
    "tags": []
   },
   "outputs": [
    {
     "name": "stdout",
     "output_type": "stream",
     "text": [
      "unique areas are\n",
      "['N Hollywood' 'Newton' 'Mission' '77th Street' 'Northeast' 'Hollenbeck'\n",
      " 'Pacific' 'Van Nuys' 'Devonshire' 'Wilshire' 'Hollywood' 'Harbor'\n",
      " 'Topanga' 'Central' 'West Valley' 'Olympic' 'Foothill' 'West LA'\n",
      " 'Southeast' 'Southwest' 'Rampart']\n",
      "-------------------------------------------\n",
      "Number of unique values are  21\n",
      "-------------------------------------------\n",
      "Number of null values are  0\n",
      "-------------------------------------------\n",
      "Area_Name\n",
      "77th Street    1345\n",
      "Pacific        1157\n",
      "Central        1156\n",
      "Southwest      1130\n",
      "Southeast      1067\n",
      "N Hollywood    1065\n",
      "Hollywood      1014\n",
      "Newton          999\n",
      "Olympic         960\n",
      "Wilshire        943\n",
      "Rampart         931\n",
      "West LA         910\n",
      "Van Nuys        902\n",
      "Harbor          872\n",
      "Mission         870\n",
      "Northeast       839\n",
      "Topanga         792\n",
      "West Valley     790\n",
      "Devonshire      769\n",
      "Hollenbeck      755\n",
      "Foothill        734\n",
      "Name: count, dtype: int64\n"
     ]
    }
   ],
   "source": [
    "print('unique areas are')\n",
    "print(train['Area_Name'].unique())\n",
    "\n",
    "print('-------------------------------------------')\n",
    "\n",
    "\n",
    "print('Number of unique values are ' , len(train['Area_Name'].unique()))\n",
    "\n",
    "print('-------------------------------------------')\n",
    "\n",
    "print('Number of null values are ' , train['Area_Name'].isnull().sum())\n",
    "print('-------------------------------------------')\n",
    "\n",
    "print(train['Area_Name'].value_counts())\n"
   ]
  },
  {
   "cell_type": "markdown",
   "id": "0599237c",
   "metadata": {
    "papermill": {
     "duration": 0.03398,
     "end_time": "2024-07-24T18:26:01.951414",
     "exception": false,
     "start_time": "2024-07-24T18:26:01.917434",
     "status": "completed"
    },
    "tags": []
   },
   "source": [
    "# Reporting_District_no"
   ]
  },
  {
   "cell_type": "code",
   "execution_count": 16,
   "id": "fb6686e9",
   "metadata": {
    "execution": {
     "iopub.execute_input": "2024-07-24T18:26:02.013800Z",
     "iopub.status.busy": "2024-07-24T18:26:02.013401Z",
     "iopub.status.idle": "2024-07-24T18:26:02.039578Z",
     "shell.execute_reply": "2024-07-24T18:26:02.038455Z"
    },
    "papermill": {
     "duration": 0.060152,
     "end_time": "2024-07-24T18:26:02.041923",
     "exception": false,
     "start_time": "2024-07-24T18:26:01.981771",
     "status": "completed"
    },
    "tags": []
   },
   "outputs": [
    {
     "name": "stdout",
     "output_type": "stream",
     "text": [
      "<class 'pandas.core.frame.DataFrame'>\n",
      "RangeIndex: 20000 entries, 0 to 19999\n",
      "Data columns (total 22 columns):\n",
      " #   Column                 Non-Null Count  Dtype  \n",
      "---  ------                 --------------  -----  \n",
      " 0   Location               20000 non-null  object \n",
      " 1   Cross_Street           20000 non-null  object \n",
      " 2   Latitude               20000 non-null  float64\n",
      " 3   Longitude              20000 non-null  float64\n",
      " 4   Date_Reported          20000 non-null  object \n",
      " 5   Date_Occurred          20000 non-null  object \n",
      " 6   Time_Occurred          20000 non-null  float64\n",
      " 7   Area_ID                20000 non-null  object \n",
      " 8   Area_Name              20000 non-null  object \n",
      " 9   Reporting_District_no  20000 non-null  float64\n",
      " 10  Part 1-2               20000 non-null  float64\n",
      " 11  Modus_Operandi         17259 non-null  object \n",
      " 12  Victim_Age             20000 non-null  float64\n",
      " 13  Victim_Sex             17376 non-null  object \n",
      " 14  Victim_Descent         17376 non-null  object \n",
      " 15  Premise_Code           20000 non-null  float64\n",
      " 16  Premise_Description    19995 non-null  object \n",
      " 17  Weapon_Used_Code       7335 non-null   float64\n",
      " 18  Weapon_Description     7335 non-null   object \n",
      " 19  Status                 20000 non-null  object \n",
      " 20  Status_Description     20000 non-null  object \n",
      " 21  Crime_Category         20000 non-null  object \n",
      "dtypes: float64(8), object(14)\n",
      "memory usage: 3.4+ MB\n"
     ]
    }
   ],
   "source": [
    "train.info()"
   ]
  },
  {
   "cell_type": "code",
   "execution_count": 17,
   "id": "7350f6cc",
   "metadata": {
    "execution": {
     "iopub.execute_input": "2024-07-24T18:26:02.103799Z",
     "iopub.status.busy": "2024-07-24T18:26:02.103410Z",
     "iopub.status.idle": "2024-07-24T18:26:02.437392Z",
     "shell.execute_reply": "2024-07-24T18:26:02.436296Z"
    },
    "papermill": {
     "duration": 0.367755,
     "end_time": "2024-07-24T18:26:02.439836",
     "exception": false,
     "start_time": "2024-07-24T18:26:02.072081",
     "status": "completed"
    },
    "tags": []
   },
   "outputs": [
    {
     "name": "stdout",
     "output_type": "stream",
     "text": [
      "unique areas are\n",
      "['1563.0' '1367.0' '1343.0' ... '1778.0' '1199.0' '812.0']\n",
      "-------------------------------------------\n",
      "Number of unique values are  1120\n",
      "-------------------------------------------\n",
      "Number of null values are  0\n",
      "-------------------------------------------\n",
      "Reporting_District_no\n",
      "645.0     99\n",
      "162.0     85\n",
      "1494.0    74\n",
      "1822.0    72\n",
      "182.0     72\n",
      "          ..\n",
      "452.0      1\n",
      "871.0      1\n",
      "1476.0     1\n",
      "848.0      1\n",
      "812.0      1\n",
      "Name: count, Length: 1120, dtype: int64\n",
      "-------------------------------------------\n"
     ]
    },
    {
     "name": "stderr",
     "output_type": "stream",
     "text": [
      "/tmp/ipykernel_18/4222087248.py:1: FutureWarning: Setting an item of incompatible dtype is deprecated and will raise in a future error of pandas. Value '['1563.0' '1367.0' '1343.0' ... '849.0' '558.0' '397.0']' has dtype incompatible with float64, please explicitly cast to a compatible dtype first.\n",
      "  train.loc[:,'Reporting_District_no']=train['Reporting_District_no'].astype(str)\n"
     ]
    },
    {
     "data": {
      "image/png": "[encoded data removed]",
      "text/plain": [
       "<Figure size 640x480 with 1 Axes>"
      ]
     },
     "metadata": {},
     "output_type": "display_data"
    },
    {
     "data": {
      "text/plain": [
       "<Figure size 1000x600 with 0 Axes>"
      ]
     },
     "metadata": {},
     "output_type": "display_data"
    }
   ],
   "source": [
    "train.loc[:,'Reporting_District_no']=train['Reporting_District_no'].astype(str)\n",
    "train.loc[:,'Reporting_District_no']=train['Reporting_District_no'].astype('category')\n",
    "\n",
    "                                      \n",
    "print('unique areas are')\n",
    "print(train['Reporting_District_no'].unique())\n",
    "\n",
    "print('-------------------------------------------')\n",
    "\n",
    "\n",
    "print('Number of unique values are ' , len(train['Reporting_District_no'].unique()))\n",
    "\n",
    "print('-------------------------------------------')\n",
    "\n",
    "print('Number of null values are ' , train['Reporting_District_no'].isnull().sum())\n",
    "print('-------------------------------------------')\n",
    "\n",
    "print(train['Reporting_District_no'].value_counts())\n",
    "\n",
    "\n",
    "Reporting_District_no_value_counts=train['Reporting_District_no'].value_counts()\n",
    "print('-------------------------------------------')\n",
    "\n",
    "\n",
    "\n",
    "Reporting_District_no_value_counts.head(20).plot(kind='bar')\n",
    "plt.figure(figsize=(10, 6))\n",
    "plt.show()\n"
   ]
  },
  {
   "cell_type": "code",
   "execution_count": 18,
   "id": "515e3b74",
   "metadata": {
    "execution": {
     "iopub.execute_input": "2024-07-24T18:26:02.504503Z",
     "iopub.status.busy": "2024-07-24T18:26:02.503213Z",
     "iopub.status.idle": "2024-07-24T18:26:02.510977Z",
     "shell.execute_reply": "2024-07-24T18:26:02.510010Z"
    },
    "papermill": {
     "duration": 0.042412,
     "end_time": "2024-07-24T18:26:02.513250",
     "exception": false,
     "start_time": "2024-07-24T18:26:02.470838",
     "status": "completed"
    },
    "tags": []
   },
   "outputs": [],
   "source": [
    "Top_1_Reporting_District_no=['645.0','162.0','1494.0','1822.0','182.0','1431.0','363.0','1239.0','111.0','1802.0']\n",
    "\n",
    "Top_2_Reporting_District_no=['647.0','647.0','666.0','646.0','636.0','1268.0','1267.0','1555.0','1213.0','362.0','1313.0','1241.0']\n",
    "\n",
    "Top_3_Reporting_District_no=['361.0','1842.0','152.0','1801.0','923.0','702.0','1256.0','153.0','119.0','1764.0']\n",
    "\n",
    "Top_4_Reporting_District_no=['765.0','1259.0','395.0','1823.0','529.0','1985.0','1844.0','1249.0','701.0','914.0']\n",
    "\n",
    "\n",
    "def Reporting_District_no_imputation(x):\n",
    "    if x in Top_1_Reporting_District_no:\n",
    "        return 'Top1'\n",
    "    elif x in Top_2_Reporting_District_no:\n",
    "        return 'Top2'\n",
    "    elif x in Top_3_Reporting_District_no:\n",
    "        return 'Top3'\n",
    "    elif x in Top_1_Reporting_District_no:\n",
    "        return 'Top4'\n",
    "    else:\n",
    "        return 'Rest_Reporting_District_no'"
   ]
  },
  {
   "cell_type": "code",
   "execution_count": 19,
   "id": "e669dc32",
   "metadata": {
    "execution": {
     "iopub.execute_input": "2024-07-24T18:26:02.585260Z",
     "iopub.status.busy": "2024-07-24T18:26:02.584871Z",
     "iopub.status.idle": "2024-07-24T18:26:02.613586Z",
     "shell.execute_reply": "2024-07-24T18:26:02.612389Z"
    },
    "papermill": {
     "duration": 0.071978,
     "end_time": "2024-07-24T18:26:02.615891",
     "exception": false,
     "start_time": "2024-07-24T18:26:02.543913",
     "status": "completed"
    },
    "tags": []
   },
   "outputs": [],
   "source": [
    "train.loc[:,'Reporting_District_no']=train['Reporting_District_no'].apply(lambda x: Reporting_District_no_imputation(x))"
   ]
  },
  {
   "cell_type": "code",
   "execution_count": 20,
   "id": "d0c95dec",
   "metadata": {
    "execution": {
     "iopub.execute_input": "2024-07-24T18:26:02.681911Z",
     "iopub.status.busy": "2024-07-24T18:26:02.681093Z",
     "iopub.status.idle": "2024-07-24T18:26:02.690598Z",
     "shell.execute_reply": "2024-07-24T18:26:02.689592Z"
    },
    "papermill": {
     "duration": 0.044289,
     "end_time": "2024-07-24T18:26:02.692799",
     "exception": false,
     "start_time": "2024-07-24T18:26:02.648510",
     "status": "completed"
    },
    "tags": []
   },
   "outputs": [
    {
     "data": {
      "text/plain": [
       "Reporting_District_no\n",
       "Rest_Reporting_District_no    18063\n",
       "Top1                            744\n",
       "Top2                            661\n",
       "Top3                            532\n",
       "Name: count, dtype: int64"
      ]
     },
     "execution_count": 20,
     "metadata": {},
     "output_type": "execute_result"
    }
   ],
   "source": [
    "train['Reporting_District_no'].value_counts()"
   ]
  },
  {
   "cell_type": "markdown",
   "id": "71d7d736",
   "metadata": {
    "papermill": {
     "duration": 0.030627,
     "end_time": "2024-07-24T18:26:02.754395",
     "exception": false,
     "start_time": "2024-07-24T18:26:02.723768",
     "status": "completed"
    },
    "tags": []
   },
   "source": [
    "# Part 1-2"
   ]
  },
  {
   "cell_type": "code",
   "execution_count": 21,
   "id": "8675a809",
   "metadata": {
    "execution": {
     "iopub.execute_input": "2024-07-24T18:26:02.819527Z",
     "iopub.status.busy": "2024-07-24T18:26:02.819137Z",
     "iopub.status.idle": "2024-07-24T18:26:03.048769Z",
     "shell.execute_reply": "2024-07-24T18:26:03.047669Z"
    },
    "papermill": {
     "duration": 0.265607,
     "end_time": "2024-07-24T18:26:03.051052",
     "exception": false,
     "start_time": "2024-07-24T18:26:02.785445",
     "status": "completed"
    },
    "tags": []
   },
   "outputs": [
    {
     "name": "stdout",
     "output_type": "stream",
     "text": [
      "Unique values in Part 1-2 columns are: ['1.0' '2.0']\n",
      "----------------------------------------\n",
      " value counts in Part 1-2 columns are: Part 1-2\n",
      "1.0    11637\n",
      "2.0     8363\n",
      "Name: count, dtype: int64\n",
      "----------------------------------------\n"
     ]
    },
    {
     "name": "stderr",
     "output_type": "stream",
     "text": [
      "/tmp/ipykernel_18/2574664916.py:1: FutureWarning: Setting an item of incompatible dtype is deprecated and will raise in a future error of pandas. Value '['1.0' '1.0' '2.0' ... '1.0' '2.0' '1.0']' has dtype incompatible with float64, please explicitly cast to a compatible dtype first.\n",
      "  train.loc[:,'Part 1-2']=train['Part 1-2'].astype(str)\n"
     ]
    },
    {
     "data": {
      "text/plain": [
       "<Axes: xlabel='Part 1-2'>"
      ]
     },
     "execution_count": 21,
     "metadata": {},
     "output_type": "execute_result"
    },
    {
     "data": {
      "image/png": "[encoded data removed]",
      "text/plain": [
       "<Figure size 640x480 with 1 Axes>"
      ]
     },
     "metadata": {},
     "output_type": "display_data"
    }
   ],
   "source": [
    "train.loc[:,'Part 1-2']=train['Part 1-2'].astype(str)\n",
    "\n",
    "print(\"Unique values in Part 1-2 columns are:\",train['Part 1-2'].unique())\n",
    "\n",
    "print('----------------------------------------')\n",
    "\n",
    "print(\" value counts in Part 1-2 columns are:\",train['Part 1-2'].value_counts())\n",
    "\n",
    "\n",
    "print('----------------------------------------')\n",
    "\n",
    "value_counts_part_1_2=train['Part 1-2'].value_counts()\n",
    "\n",
    "value_counts_part_1_2.plot(kind='bar')"
   ]
  },
  {
   "cell_type": "markdown",
   "id": "0987df7f",
   "metadata": {
    "papermill": {
     "duration": 0.03114,
     "end_time": "2024-07-24T18:26:03.113685",
     "exception": false,
     "start_time": "2024-07-24T18:26:03.082545",
     "status": "completed"
    },
    "tags": []
   },
   "source": [
    "# Modus_Operandi"
   ]
  },
  {
   "cell_type": "code",
   "execution_count": 22,
   "id": "ae142407",
   "metadata": {
    "execution": {
     "iopub.execute_input": "2024-07-24T18:26:03.177994Z",
     "iopub.status.busy": "2024-07-24T18:26:03.177570Z",
     "iopub.status.idle": "2024-07-24T18:26:03.186064Z",
     "shell.execute_reply": "2024-07-24T18:26:03.185060Z"
    },
    "papermill": {
     "duration": 0.043239,
     "end_time": "2024-07-24T18:26:03.188157",
     "exception": false,
     "start_time": "2024-07-24T18:26:03.144918",
     "status": "completed"
    },
    "tags": []
   },
   "outputs": [
    {
     "data": {
      "text/plain": [
       "0                                           0385\n",
       "1        0906 0352 0371 0446 1822 0344 0416 0417\n",
       "2                                      0329 1202\n",
       "3                                      0329 1300\n",
       "4                  0416 0945 1822 0400 0417 0344\n",
       "                          ...                   \n",
       "19995                        0416 0446 2004 0913\n",
       "19996                   1822 0209 0344 1414 1420\n",
       "19997                             0344 1822 1420\n",
       "19998              1202 2038 0913 0602 1242 0553\n",
       "19999                                        NaN\n",
       "Name: Modus_Operandi, Length: 20000, dtype: object"
      ]
     },
     "execution_count": 22,
     "metadata": {},
     "output_type": "execute_result"
    }
   ],
   "source": [
    "train['Modus_Operandi']"
   ]
  },
  {
   "cell_type": "code",
   "execution_count": 23,
   "id": "1d9be6f1",
   "metadata": {
    "execution": {
     "iopub.execute_input": "2024-07-24T18:26:03.252583Z",
     "iopub.status.busy": "2024-07-24T18:26:03.252179Z",
     "iopub.status.idle": "2024-07-24T18:26:03.276967Z",
     "shell.execute_reply": "2024-07-24T18:26:03.275807Z"
    },
    "papermill": {
     "duration": 0.060118,
     "end_time": "2024-07-24T18:26:03.279633",
     "exception": false,
     "start_time": "2024-07-24T18:26:03.219515",
     "status": "completed"
    },
    "tags": []
   },
   "outputs": [
    {
     "name": "stdout",
     "output_type": "stream",
     "text": [
      "Unique values in Modus_Operandi are  ['0385' '0906 0352 0371 0446 1822 0344 0416 0417' '0329 1202' ...\n",
      " '0416 0446 2004 0913' '1822 0209 0344 1414 1420'\n",
      " '1202 2038 0913 0602 1242 0553']\n",
      " \n",
      "Each  row value is combination of diff-diff activities so thats the reason we have  10489 uniques values.\n",
      "\n",
      "----------------------------------------------------------\n",
      "Modus_Operandi\n",
      "0344                                       826\n",
      "0329                                       583\n",
      "1501                                       187\n",
      "0329 1300                                  135\n",
      "0325                                       127\n",
      "                                          ... \n",
      "1609 0329 1307 0344                          1\n",
      "0344 2050 0910 2034                          1\n",
      "0400 2000 0913                               1\n",
      "1822 0342 0910 2049 2051 0305 0444 0344      1\n",
      "1202 2038 0913 0602 1242 0553                1\n",
      "Name: count, Length: 10489, dtype: int64\n",
      "\n",
      "\n",
      "----------------------------------------------------------\n",
      "Number of null values after fill with empty string are  0\n"
     ]
    }
   ],
   "source": [
    "print(\"Unique values in Modus_Operandi are \",train['Modus_Operandi'].unique())\n",
    "print(\" \")\n",
    "print(\"Each  row value is combination of diff-diff activities so thats the reason we have  10489 uniques values.\")\n",
    "\n",
    "print('')\n",
    "\n",
    "print('----------------------------------------------------------')\n",
    "\n",
    "print(train['Modus_Operandi'].value_counts())\n",
    "\n",
    "print('')\n",
    "\n",
    "Modus_Operandi_value_counts=train['Modus_Operandi'].value_counts()\n",
    "\n",
    "print('')\n",
    "\n",
    "\n",
    "\n",
    "print('----------------------------------------------------------')\n",
    "\n",
    "\n",
    "train['Modus_Operandi'] = train['Modus_Operandi'].fillna('')\n",
    "\n",
    "print(\"Number of null values after fill with empty string are \",train['Modus_Operandi'].isnull().sum())\n"
   ]
  },
  {
   "cell_type": "code",
   "execution_count": 24,
   "id": "99e2bbdc",
   "metadata": {
    "execution": {
     "iopub.execute_input": "2024-07-24T18:26:03.345886Z",
     "iopub.status.busy": "2024-07-24T18:26:03.344932Z",
     "iopub.status.idle": "2024-07-24T18:26:03.627325Z",
     "shell.execute_reply": "2024-07-24T18:26:03.625920Z"
    },
    "papermill": {
     "duration": 0.318475,
     "end_time": "2024-07-24T18:26:03.629710",
     "exception": false,
     "start_time": "2024-07-24T18:26:03.311235",
     "status": "completed"
    },
    "tags": []
   },
   "outputs": [
    {
     "data": {
      "text/plain": [
       "<Axes: xlabel='Modus_Operandi'>"
      ]
     },
     "execution_count": 24,
     "metadata": {},
     "output_type": "execute_result"
    },
    {
     "data": {
      "image/png": "[encoded data removed]",
      "text/plain": [
       "<Figure size 640x480 with 1 Axes>"
      ]
     },
     "metadata": {},
     "output_type": "display_data"
    }
   ],
   "source": [
    "Modus_Operandi_value_counts.head(10).plot(kind='bar')"
   ]
  },
  {
   "cell_type": "code",
   "execution_count": 25,
   "id": "27dc61ac",
   "metadata": {
    "execution": {
     "iopub.execute_input": "2024-07-24T18:26:03.696705Z",
     "iopub.status.busy": "2024-07-24T18:26:03.695632Z",
     "iopub.status.idle": "2024-07-24T18:26:03.727664Z",
     "shell.execute_reply": "2024-07-24T18:26:03.726487Z"
    },
    "papermill": {
     "duration": 0.067863,
     "end_time": "2024-07-24T18:26:03.730188",
     "exception": false,
     "start_time": "2024-07-24T18:26:03.662325",
     "status": "completed"
    },
    "tags": []
   },
   "outputs": [],
   "source": [
    "# def number_of_activities(s):\n",
    "#     activities=[]\n",
    "#     s=str(s)\n",
    "#     a=s.split(' ')\n",
    "#     for i in a:\n",
    "#         if a not in activities:\n",
    "#             activities.append(a)\n",
    "#     return activities\n",
    "\n",
    "def number_of_activities(s):\n",
    "    if s=='':  # Handle NaN values\n",
    "        return 0\n",
    "    activities_list=s.split()\n",
    "    activity_count = list(set(activities_list))\n",
    "#     activities = set()  # Using a set to avoid duplicates efficiently\n",
    "#     for activity in s.split(' '):\n",
    "#         activities.add(str(activity))\n",
    "#     activities=' '.join(activities)    \n",
    "    return len(activity_count)\n",
    "train['activity_count']=train['Modus_Operandi'].apply(number_of_activities)\n",
    "# df.drop('Modus_Operandi',axis=1)\n",
    "# df['Modus_Operandi']=df['unique_activities']\n",
    "# df.drop('unique_activities',axis=1,inplace=True)"
   ]
  },
  {
   "cell_type": "code",
   "execution_count": 26,
   "id": "09f59c3a",
   "metadata": {
    "execution": {
     "iopub.execute_input": "2024-07-24T18:26:03.796932Z",
     "iopub.status.busy": "2024-07-24T18:26:03.796548Z",
     "iopub.status.idle": "2024-07-24T18:26:03.810004Z",
     "shell.execute_reply": "2024-07-24T18:26:03.808965Z"
    },
    "papermill": {
     "duration": 0.049371,
     "end_time": "2024-07-24T18:26:03.812351",
     "exception": false,
     "start_time": "2024-07-24T18:26:03.762980",
     "status": "completed"
    },
    "tags": []
   },
   "outputs": [
    {
     "data": {
      "text/html": [
       "<div>\n",
       "<style scoped>\n",
       "    .dataframe tbody tr th:only-of-type {\n",
       "        vertical-align: middle;\n",
       "    }\n",
       "\n",
       "    .dataframe tbody tr th {\n",
       "        vertical-align: top;\n",
       "    }\n",
       "\n",
       "    .dataframe thead th {\n",
       "        text-align: right;\n",
       "    }\n",
       "</style>\n",
       "<table border=\"1\" class=\"dataframe\">\n",
       "  <thead>\n",
       "    <tr style=\"text-align: right;\">\n",
       "      <th></th>\n",
       "      <th>Modus_Operandi</th>\n",
       "      <th>activity_count</th>\n",
       "    </tr>\n",
       "  </thead>\n",
       "  <tbody>\n",
       "    <tr>\n",
       "      <th>0</th>\n",
       "      <td>0385</td>\n",
       "      <td>1</td>\n",
       "    </tr>\n",
       "    <tr>\n",
       "      <th>1</th>\n",
       "      <td>0906 0352 0371 0446 1822 0344 0416 0417</td>\n",
       "      <td>8</td>\n",
       "    </tr>\n",
       "    <tr>\n",
       "      <th>2</th>\n",
       "      <td>0329 1202</td>\n",
       "      <td>2</td>\n",
       "    </tr>\n",
       "    <tr>\n",
       "      <th>3</th>\n",
       "      <td>0329 1300</td>\n",
       "      <td>2</td>\n",
       "    </tr>\n",
       "    <tr>\n",
       "      <th>4</th>\n",
       "      <td>0416 0945 1822 0400 0417 0344</td>\n",
       "      <td>6</td>\n",
       "    </tr>\n",
       "    <tr>\n",
       "      <th>...</th>\n",
       "      <td>...</td>\n",
       "      <td>...</td>\n",
       "    </tr>\n",
       "    <tr>\n",
       "      <th>19995</th>\n",
       "      <td>0416 0446 2004 0913</td>\n",
       "      <td>4</td>\n",
       "    </tr>\n",
       "    <tr>\n",
       "      <th>19996</th>\n",
       "      <td>1822 0209 0344 1414 1420</td>\n",
       "      <td>5</td>\n",
       "    </tr>\n",
       "    <tr>\n",
       "      <th>19997</th>\n",
       "      <td>0344 1822 1420</td>\n",
       "      <td>3</td>\n",
       "    </tr>\n",
       "    <tr>\n",
       "      <th>19998</th>\n",
       "      <td>1202 2038 0913 0602 1242 0553</td>\n",
       "      <td>6</td>\n",
       "    </tr>\n",
       "    <tr>\n",
       "      <th>19999</th>\n",
       "      <td></td>\n",
       "      <td>0</td>\n",
       "    </tr>\n",
       "  </tbody>\n",
       "</table>\n",
       "<p>20000 rows × 2 columns</p>\n",
       "</div>"
      ],
      "text/plain": [
       "                                Modus_Operandi  activity_count\n",
       "0                                         0385               1\n",
       "1      0906 0352 0371 0446 1822 0344 0416 0417               8\n",
       "2                                    0329 1202               2\n",
       "3                                    0329 1300               2\n",
       "4                0416 0945 1822 0400 0417 0344               6\n",
       "...                                        ...             ...\n",
       "19995                      0416 0446 2004 0913               4\n",
       "19996                 1822 0209 0344 1414 1420               5\n",
       "19997                           0344 1822 1420               3\n",
       "19998            1202 2038 0913 0602 1242 0553               6\n",
       "19999                                                        0\n",
       "\n",
       "[20000 rows x 2 columns]"
      ]
     },
     "execution_count": 26,
     "metadata": {},
     "output_type": "execute_result"
    }
   ],
   "source": [
    "train[['Modus_Operandi','activity_count']]"
   ]
  },
  {
   "cell_type": "code",
   "execution_count": 27,
   "id": "b1bf21a6",
   "metadata": {
    "execution": {
     "iopub.execute_input": "2024-07-24T18:26:03.878577Z",
     "iopub.status.busy": "2024-07-24T18:26:03.878183Z",
     "iopub.status.idle": "2024-07-24T18:26:03.884648Z",
     "shell.execute_reply": "2024-07-24T18:26:03.883453Z"
    },
    "papermill": {
     "duration": 0.04228,
     "end_time": "2024-07-24T18:26:03.886763",
     "exception": false,
     "start_time": "2024-07-24T18:26:03.844483",
     "status": "completed"
    },
    "tags": []
   },
   "outputs": [],
   "source": [
    "from sklearn.base import BaseEstimator, TransformerMixin\n",
    "from sklearn.preprocessing import MultiLabelBinarizer\n",
    "\n",
    "class MultiLabelBinarizerWrapper(BaseEstimator, TransformerMixin):\n",
    "    def __init__(self):\n",
    "        self.mlb = MultiLabelBinarizer()\n",
    "\n",
    "    def fit(self, X, y=None):\n",
    "        self.mlb.fit(X)\n",
    "        return self\n",
    "\n",
    "    def transform(self, X):\n",
    "        return self.mlb.transform(X)"
   ]
  },
  {
   "cell_type": "markdown",
   "id": "7a0ce4b5",
   "metadata": {
    "papermill": {
     "duration": 0.032001,
     "end_time": "2024-07-24T18:26:03.950882",
     "exception": false,
     "start_time": "2024-07-24T18:26:03.918881",
     "status": "completed"
    },
    "tags": []
   },
   "source": [
    "# Status and Status_Description "
   ]
  },
  {
   "cell_type": "markdown",
   "id": "71b81834",
   "metadata": {
    "papermill": {
     "duration": 0.032136,
     "end_time": "2024-07-24T18:26:04.016418",
     "exception": false,
     "start_time": "2024-07-24T18:26:03.984282",
     "status": "completed"
    },
    "tags": []
   },
   "source": [
    "Status and Status_Description convey same information "
   ]
  },
  {
   "cell_type": "code",
   "execution_count": 28,
   "id": "42b6a1e5",
   "metadata": {
    "execution": {
     "iopub.execute_input": "2024-07-24T18:26:04.082962Z",
     "iopub.status.busy": "2024-07-24T18:26:04.082553Z",
     "iopub.status.idle": "2024-07-24T18:26:04.532587Z",
     "shell.execute_reply": "2024-07-24T18:26:04.531568Z"
    },
    "papermill": {
     "duration": 0.485948,
     "end_time": "2024-07-24T18:26:04.534865",
     "exception": false,
     "start_time": "2024-07-24T18:26:04.048917",
     "status": "completed"
    },
    "tags": []
   },
   "outputs": [
    {
     "name": "stdout",
     "output_type": "stream",
     "text": [
      "Number of unique values in Status are  ['IC' 'AO' 'AA' 'JA' 'JO']\n",
      " values in Status are  Status\n",
      "IC    15236\n",
      "AO     2597\n",
      "AA     2054\n",
      "JA       70\n",
      "JO       43\n",
      "Name: count, dtype: int64\n",
      "Null values in status are 0\n",
      "\n",
      "--------------------------------------------------------------\n",
      "\n",
      "Number of unique values in Status_Description are  ['Invest Cont' 'Adult Other' 'Adult Arrest' 'Juv Arrest' 'Juv Other']\n",
      " values in Status_Description are  Status_Description\n",
      "Invest Cont     15236\n",
      "Adult Other      2597\n",
      "Adult Arrest     2054\n",
      "Juv Arrest         70\n",
      "Juv Other          43\n",
      "Name: count, dtype: int64\n",
      "Null values in Status_Description are 0\n",
      "\n",
      "--------------------------------------------------------------\n",
      "\n"
     ]
    },
    {
     "data": {
      "image/png": "[encoded data removed]",
      "text/plain": [
       "<Figure size 640x480 with 1 Axes>"
      ]
     },
     "metadata": {},
     "output_type": "display_data"
    },
    {
     "data": {
      "text/plain": [
       "<Axes: xlabel='Status_Description'>"
      ]
     },
     "execution_count": 28,
     "metadata": {},
     "output_type": "execute_result"
    },
    {
     "data": {
      "image/png": "[encoded data removed]",
      "text/plain": [
       "<Figure size 640x480 with 1 Axes>"
      ]
     },
     "metadata": {},
     "output_type": "display_data"
    }
   ],
   "source": [
    "print(\"Number of unique values in Status are \",train['Status'].unique())\n",
    "\n",
    "print(\" values in Status are \",train['Status'].value_counts())\n",
    "\n",
    "print('Null values in status are' ,train['Status'].isnull().sum() )\n",
    "\n",
    "Status_value_counts=train['Status'].value_counts()\n",
    "\n",
    "\n",
    "print('')\n",
    "print('--------------------------------------------------------------')\n",
    "print('')\n",
    "\n",
    "print(\"Number of unique values in Status_Description are \",train['Status_Description'].unique())\n",
    "\n",
    "print(\" values in Status_Description are \",train['Status_Description'].value_counts())\n",
    "\n",
    "print('Null values in Status_Description are' ,train['Status_Description'].isnull().sum() )\n",
    "\n",
    "\n",
    "Status_Description_value_counts=train['Status_Description'].value_counts()\n",
    "\n",
    "\n",
    "\n",
    "print('')\n",
    "print('--------------------------------------------------------------')\n",
    "print('')\n",
    "\n",
    "Status_value_counts.plot(kind='bar')\n",
    "plt.show()\n",
    "\n",
    "Status_Description_value_counts.plot(kind='bar')\n"
   ]
  },
  {
   "cell_type": "markdown",
   "id": "60b106db",
   "metadata": {
    "papermill": {
     "duration": 0.032926,
     "end_time": "2024-07-24T18:26:04.601607",
     "exception": false,
     "start_time": "2024-07-24T18:26:04.568681",
     "status": "completed"
    },
    "tags": []
   },
   "source": [
    "# Weapon_Used_Code  and Weapon_Description"
   ]
  },
  {
   "cell_type": "markdown",
   "id": "6cdedef2",
   "metadata": {
    "papermill": {
     "duration": 0.032827,
     "end_time": "2024-07-24T18:26:04.668268",
     "exception": false,
     "start_time": "2024-07-24T18:26:04.635441",
     "status": "completed"
    },
    "tags": []
   },
   "source": [
    "Both columns gives same information\n"
   ]
  },
  {
   "cell_type": "code",
   "execution_count": 29,
   "id": "e728a070",
   "metadata": {
    "execution": {
     "iopub.execute_input": "2024-07-24T18:26:04.736502Z",
     "iopub.status.busy": "2024-07-24T18:26:04.736120Z",
     "iopub.status.idle": "2024-07-24T18:26:04.748730Z",
     "shell.execute_reply": "2024-07-24T18:26:04.747473Z"
    },
    "papermill": {
     "duration": 0.049372,
     "end_time": "2024-07-24T18:26:04.750977",
     "exception": false,
     "start_time": "2024-07-24T18:26:04.701605",
     "status": "completed"
    },
    "tags": []
   },
   "outputs": [
    {
     "name": "stdout",
     "output_type": "stream",
     "text": [
      "Number of null values are\n"
     ]
    },
    {
     "data": {
      "text/plain": [
       "Weapon_Description    12665\n",
       "Weapon_Used_Code      12665\n",
       "dtype: int64"
      ]
     },
     "execution_count": 29,
     "metadata": {},
     "output_type": "execute_result"
    }
   ],
   "source": [
    "print('Number of null values are')\n",
    "train[['Weapon_Description','Weapon_Used_Code']].isnull().sum()"
   ]
  },
  {
   "cell_type": "code",
   "execution_count": 30,
   "id": "fa2d9e83",
   "metadata": {
    "execution": {
     "iopub.execute_input": "2024-07-24T18:26:04.821456Z",
     "iopub.status.busy": "2024-07-24T18:26:04.820508Z",
     "iopub.status.idle": "2024-07-24T18:26:04.831412Z",
     "shell.execute_reply": "2024-07-24T18:26:04.830169Z"
    },
    "papermill": {
     "duration": 0.049147,
     "end_time": "2024-07-24T18:26:04.833581",
     "exception": false,
     "start_time": "2024-07-24T18:26:04.784434",
     "status": "completed"
    },
    "tags": []
   },
   "outputs": [
    {
     "name": "stdout",
     "output_type": "stream",
     "text": [
      "Number of unqiue values are\n"
     ]
    },
    {
     "data": {
      "text/plain": [
       "Weapon_Description\n",
       "STRONG-ARM (HANDS, FIST, FEET OR BODILY FORCE)    3990\n",
       "UNKNOWN WEAPON/OTHER WEAPON                        789\n",
       "VERBAL THREAT                                      546\n",
       "HAND GUN                                           388\n",
       "KNIFE WITH BLADE 6INCHES OR LESS                   160\n",
       "SEMI-AUTOMATIC PISTOL                              154\n",
       "UNKNOWN FIREARM                                    131\n",
       "OTHER KNIFE                                        125\n",
       "VEHICLE                                             84\n",
       "MACE/PEPPER SPRAY                                   80\n",
       "ROCK/THROWN OBJECT                                  63\n",
       "BOTTLE                                              55\n",
       "PIPE/METAL PIPE                                     52\n",
       "CLUB/BAT                                            51\n",
       "STICK                                               49\n",
       "KITCHEN KNIFE                                       45\n",
       "KNIFE WITH BLADE OVER 6 INCHES IN LENGTH            43\n",
       "AIR PISTOL/REVOLVER/RIFLE/BB GUN                    41\n",
       "FOLDING KNIFE                                       37\n",
       "BLUNT INSTRUMENT                                    37\n",
       "SIMULATED GUN                                       35\n",
       "REVOLVER                                            34\n",
       "BELT FLAILING INSTRUMENT/CHAIN                      26\n",
       "CONCRETE BLOCK/BRICK                                26\n",
       "MACHETE                                             25\n",
       "UNKNOWN TYPE CUTTING INSTRUMENT                     24\n",
       "HAMMER                                              23\n",
       "SCREWDRIVER                                         23\n",
       "FIRE                                                22\n",
       "OTHER FIREARM                                       18\n",
       "PHYSICAL PRESENCE                                   18\n",
       "OTHER CUTTING INSTRUMENT                            17\n",
       "FIXED OBJECT                                        16\n",
       "GLASS                                               14\n",
       "SCISSORS                                            13\n",
       "RIFLE                                               12\n",
       "BOARD                                               11\n",
       "TOY GUN                                              8\n",
       "SHOTGUN                                              7\n",
       "TIRE IRON                                            7\n",
       "AXE                                                  6\n",
       "STUN GUN                                             4\n",
       "BRASS KNUCKLES                                       4\n",
       "SCALDING LIQUID                                      3\n",
       "SWITCH BLADE                                         3\n",
       "MARTIAL ARTS WEAPONS                                 2\n",
       "DEMAND NOTE                                          2\n",
       "SAWED OFF RIFLE/SHOTGUN                              2\n",
       "ICE PICK                                             2\n",
       "CAUSTIC CHEMICAL/POISON                              1\n",
       "BOMB THREAT                                          1\n",
       "BOWIE KNIFE                                          1\n",
       "STARTER PISTOL/REVOLVER                              1\n",
       "RAZOR BLADE                                          1\n",
       "HECKLER & KOCH 93 SEMIAUTOMATIC ASSAULT RIFLE        1\n",
       "ASSAULT WEAPON/UZI/AK47/ETC                          1\n",
       "CLEAVER                                              1\n",
       "Name: count, dtype: int64"
      ]
     },
     "execution_count": 30,
     "metadata": {},
     "output_type": "execute_result"
    }
   ],
   "source": [
    "print('Number of unqiue values are')\n",
    "train['Weapon_Description'].value_counts()"
   ]
  },
  {
   "cell_type": "code",
   "execution_count": 31,
   "id": "a3bd1bf7",
   "metadata": {
    "execution": {
     "iopub.execute_input": "2024-07-24T18:26:04.903001Z",
     "iopub.status.busy": "2024-07-24T18:26:04.902594Z",
     "iopub.status.idle": "2024-07-24T18:26:04.950328Z",
     "shell.execute_reply": "2024-07-24T18:26:04.949249Z"
    },
    "papermill": {
     "duration": 0.085758,
     "end_time": "2024-07-24T18:26:04.953011",
     "exception": false,
     "start_time": "2024-07-24T18:26:04.867253",
     "status": "completed"
    },
    "tags": []
   },
   "outputs": [],
   "source": [
    "train.loc[train['Weapon_Description'] == 'STRONG-ARM (HANDS, FIST, FEET OR BODILY FORCE)' , 'Weapon_Description'] = 'Physical Force'\n",
    "\n",
    "# EXPLOXIVE DEVICE                                     3\n",
    "# RAZOR                                                1\n",
    "# LIQUOR/DRUGS                                         1\n",
    "# DOG/ANIMAL (SIC ANIMAL ON)                           1\n",
    "# SWORD   \n",
    "\n",
    "\n",
    "# NA                                                3153\n",
    "# STRONG-ARM (HANDS, FIST, FEET OR BODILY FORCE)    1003\n",
    "# sharp_heavy_object                                 431\n",
    "# other_weapon                                       170\n",
    "# Gun                                                164\n",
    "# fire                                                44\n",
    "# VEHICLE                                             28\n",
    "# Physical Force                                       4\n",
    "# EXPLOXIVE DEVICE                                     3\n",
    "\n",
    "def gun(s):\n",
    "    \n",
    "    if pd.isna(s):\n",
    "        return 'NA'\n",
    "    t=s.replace('/',' ')\n",
    "    listt=t.split(' ' or '/')\n",
    "    \n",
    "    gun_keywords=['gun','pistol','revolver','rifle','shotgun','AK47','explosive','exploxive']\n",
    "    \n",
    "    sharp_heavy_object=['blade','razor','stone','sword','knife','metal','screwdriver','cleaver', 'glass','machete' ,'iron' , 'cutting','axe' ,'instrument','hammer','weapon','object','bottle','weapons','brass','scissors']\n",
    "    \n",
    "    other_weapon = ['bomb','threat', 'demand', 'poison', 'ice', 'scalding', 'board','block' ,'brick', 'stick', 'bat', 'spray','drugs','dog']\n",
    "    \n",
    "    physical_presence=['physical','presence','strong-arm']\n",
    "    \n",
    "    fire=['firearm' , 'fire' ]\n",
    "\n",
    "    for i in listt:\n",
    "        if i.lower() in gun_keywords:\n",
    "            return 'Gun'\n",
    "        elif i.lower() in sharp_heavy_object:\n",
    "            return 'sharp_heavy_object'\n",
    "        \n",
    "        elif i.lower() in fire:\n",
    "            return 'fire'\n",
    "        elif i.lower() in other_weapon:\n",
    "            return 'other_weapon'\n",
    "        elif i.lower() in physical_presence:\n",
    "            return 'Physical Force'\n",
    "        elif i.lower() == 'strong-arm':\n",
    "            return 'Physical Force'\n",
    "            \n",
    "        \n",
    "    return s\n",
    "    \n",
    "\n",
    "\n",
    "\n",
    "train.loc[:,'Weapon_Description']=train['Weapon_Description'].apply(lambda x: gun(x))"
   ]
  },
  {
   "cell_type": "code",
   "execution_count": 32,
   "id": "b4a91219",
   "metadata": {
    "execution": {
     "iopub.execute_input": "2024-07-24T18:26:05.022587Z",
     "iopub.status.busy": "2024-07-24T18:26:05.022211Z",
     "iopub.status.idle": "2024-07-24T18:26:05.031867Z",
     "shell.execute_reply": "2024-07-24T18:26:05.030934Z"
    },
    "papermill": {
     "duration": 0.048078,
     "end_time": "2024-07-24T18:26:05.034887",
     "exception": false,
     "start_time": "2024-07-24T18:26:04.986809",
     "status": "completed"
    },
    "tags": []
   },
   "outputs": [
    {
     "name": "stdout",
     "output_type": "stream",
     "text": [
      "Number of unqiue values are\n"
     ]
    },
    {
     "data": {
      "text/plain": [
       "Weapon_Description\n",
       "NA                    12665\n",
       "Physical Force         4008\n",
       "sharp_heavy_object     1613\n",
       "other_weapon            772\n",
       "Gun                     687\n",
       "fire                    171\n",
       "VEHICLE                  84\n",
       "Name: count, dtype: int64"
      ]
     },
     "execution_count": 32,
     "metadata": {},
     "output_type": "execute_result"
    }
   ],
   "source": [
    "print('Number of unqiue values are')\n",
    "train['Weapon_Description'].value_counts()"
   ]
  },
  {
   "cell_type": "code",
   "execution_count": 33,
   "id": "0bf014f8",
   "metadata": {
    "execution": {
     "iopub.execute_input": "2024-07-24T18:26:05.105594Z",
     "iopub.status.busy": "2024-07-24T18:26:05.105102Z",
     "iopub.status.idle": "2024-07-24T18:26:05.128785Z",
     "shell.execute_reply": "2024-07-24T18:26:05.127699Z"
    },
    "papermill": {
     "duration": 0.062469,
     "end_time": "2024-07-24T18:26:05.131354",
     "exception": false,
     "start_time": "2024-07-24T18:26:05.068885",
     "status": "completed"
    },
    "tags": []
   },
   "outputs": [],
   "source": [
    "distribution = train['Weapon_Description'][train['Weapon_Description'] != 'NA'].value_counts(normalize=True)\n",
    "\n",
    "missing = train[train['Weapon_Description']=='NA']['Weapon_Description'].count()\n",
    "\n",
    "imputed_values = np.random.choice(distribution.index, size=missing, p=distribution.values)\n",
    "\n",
    "\n",
    "train.loc[train['Weapon_Description']=='NA', 'Weapon_Description'] = imputed_values"
   ]
  },
  {
   "cell_type": "code",
   "execution_count": 34,
   "id": "4abe9290",
   "metadata": {
    "execution": {
     "iopub.execute_input": "2024-07-24T18:26:05.202085Z",
     "iopub.status.busy": "2024-07-24T18:26:05.201687Z",
     "iopub.status.idle": "2024-07-24T18:26:05.211321Z",
     "shell.execute_reply": "2024-07-24T18:26:05.210375Z"
    },
    "papermill": {
     "duration": 0.047201,
     "end_time": "2024-07-24T18:26:05.213457",
     "exception": false,
     "start_time": "2024-07-24T18:26:05.166256",
     "status": "completed"
    },
    "tags": []
   },
   "outputs": [
    {
     "data": {
      "text/plain": [
       "Weapon_Description\n",
       "Physical Force        10838\n",
       "sharp_heavy_object     4434\n",
       "other_weapon           2132\n",
       "Gun                    1876\n",
       "fire                    497\n",
       "VEHICLE                 223\n",
       "Name: count, dtype: int64"
      ]
     },
     "execution_count": 34,
     "metadata": {},
     "output_type": "execute_result"
    }
   ],
   "source": [
    "train['Weapon_Description'].value_counts()"
   ]
  },
  {
   "cell_type": "code",
   "execution_count": 35,
   "id": "d46061dc",
   "metadata": {
    "execution": {
     "iopub.execute_input": "2024-07-24T18:26:05.283951Z",
     "iopub.status.busy": "2024-07-24T18:26:05.283545Z",
     "iopub.status.idle": "2024-07-24T18:26:05.308026Z",
     "shell.execute_reply": "2024-07-24T18:26:05.307014Z"
    },
    "papermill": {
     "duration": 0.062557,
     "end_time": "2024-07-24T18:26:05.310554",
     "exception": false,
     "start_time": "2024-07-24T18:26:05.247997",
     "status": "completed"
    },
    "tags": []
   },
   "outputs": [
    {
     "data": {
      "text/plain": [
       "Location                     0\n",
       "Cross_Street                 0\n",
       "Latitude                     0\n",
       "Longitude                    0\n",
       "Date_Reported                0\n",
       "Date_Occurred                0\n",
       "Time_Occurred                0\n",
       "Area_ID                      0\n",
       "Area_Name                    0\n",
       "Reporting_District_no        0\n",
       "Part 1-2                     0\n",
       "Modus_Operandi               0\n",
       "Victim_Age                   0\n",
       "Victim_Sex                2624\n",
       "Victim_Descent            2624\n",
       "Premise_Code                 0\n",
       "Premise_Description          5\n",
       "Weapon_Used_Code         12665\n",
       "Weapon_Description           0\n",
       "Status                       0\n",
       "Status_Description           0\n",
       "Crime_Category               0\n",
       "activity_count               0\n",
       "dtype: int64"
      ]
     },
     "execution_count": 35,
     "metadata": {},
     "output_type": "execute_result"
    }
   ],
   "source": [
    "train.isnull().sum()"
   ]
  },
  {
   "cell_type": "markdown",
   "id": "d8a6e5c7",
   "metadata": {
    "papermill": {
     "duration": 0.034219,
     "end_time": "2024-07-24T18:26:05.379313",
     "exception": false,
     "start_time": "2024-07-24T18:26:05.345094",
     "status": "completed"
    },
    "tags": []
   },
   "source": [
    "# Premise_Description , Premise_Code\n"
   ]
  },
  {
   "cell_type": "code",
   "execution_count": 36,
   "id": "124696b6",
   "metadata": {
    "execution": {
     "iopub.execute_input": "2024-07-24T18:26:05.450176Z",
     "iopub.status.busy": "2024-07-24T18:26:05.449772Z",
     "iopub.status.idle": "2024-07-24T18:26:05.459461Z",
     "shell.execute_reply": "2024-07-24T18:26:05.458290Z"
    },
    "papermill": {
     "duration": 0.048184,
     "end_time": "2024-07-24T18:26:05.462071",
     "exception": false,
     "start_time": "2024-07-24T18:26:05.413887",
     "status": "completed"
    },
    "tags": []
   },
   "outputs": [
    {
     "name": "stdout",
     "output_type": "stream",
     "text": [
      "Unique values are:\n",
      "\n",
      "[101. 216. 501. 401. 502. 202. 104. 108. 121. 102. 203. 122. 707. 503.\n",
      " 506. 509. 710. 103. 602. 519. 406. 751. 210. 123. 801. 601. 243. 242.\n",
      " 504. 124. 505. 119. 252. 109. 704. 152. 120. 301. 404. 720. 405. 402.\n",
      " 213. 514. 248. 702. 708. 834. 212. 416. 954. 158. 403. 701. 721. 725.\n",
      " 605. 726. 912. 729. 139. 145. 208. 719. 201. 141. 107. 222. 144. 116.\n",
      " 507. 221. 254. 757. 217. 110. 408. 146. 510. 750. 229. 727. 249. 236.\n",
      " 738. 516. 735. 716. 908. 232. 517. 722. 515. 874. 518. 118. 127. 151.\n",
      " 932. 411. 415. 910. 414. 220. 255. 407. 239. 156. 233. 717. 900. 956.\n",
      " 949. 218. 732. 936. 244. 835. 715. 410. 231. 728. 417. 207. 247. 206.\n",
      " 913. 733. 409. 811. 235. 724. 902. 712. 941. 117. 412. 705. 512. 907.\n",
      " 142. 903. 953. 511. 753. 736. 205. 897. 875. 138. 709. 128. 209. 230.\n",
      " 916. 723. 140. 157. 969. 135. 302. 958. 251. 921. 730. 809. 740. 957.\n",
      " 917. 905. 214. 148. 706. 909. 896. 418. 744. 911. 802. 154. 413. 895.\n",
      " 966. 219. 234. 948. 922. 603. 238. 906. 951. 935. 950. 112. 920. 968.\n",
      " 703. 227. 111. 868. 508. 943. 754. 225. 931. 215. 241. 741. 228. 915.\n",
      " 944. 755. 945. 904. 718. 739. 250.]\n",
      "\n",
      "\n",
      "['STREET' 'SWAP MEET' 'SINGLE FAMILY DWELLING' 'MINI-MART'\n",
      " 'MULTI-UNIT DWELLING (APARTMENT, DUPLEX, ETC)' 'LIQUOR STORE' 'DRIVEWAY'\n",
      " 'PARKING LOT' 'YARD (RESIDENTIAL/BUSINESS)' 'SIDEWALK' 'OTHER BUSINESS'\n",
      " 'VEHICLE, PASSENGER/TRUCK' 'GARAGE/CARPORT' 'HOTEL'\n",
      " 'ABANDONED BUILDING ABANDONED HOUSE'\n",
      " \"MOBILE HOME/TRAILERS/CONSTRUCTION TRAILERS/RV'S/MOTORHOME\"\n",
      " 'OTHER PREMISE' 'ALLEY' 'BANK' 'SHORT-TERM VACATION RENTAL' 'OTHER STORE'\n",
      " 'WEBSITE' 'RESTAURANT/FAST FOOD' 'PARKING UNDERGROUND/BUILDING' 'MTA BUS'\n",
      " 'SAVINGS & LOAN'\n",
      " \"DIY CENTER (LOWE'S,HOME DEPOT,OSH,CONTRACTORS WAREHOUSE)\"\n",
      " 'DISCOUNT STORE (99 CENT,DOLLAR,ETC.' 'OTHER RESIDENCE' 'BUS STOP'\n",
      " 'MOTEL' 'PORCH, RESIDENTIAL'\n",
      " \"COFFEE SHOP (STARBUCKS, COFFEE BEAN, PEET'S, ETC.)\" 'PARK/PLAYGROUND'\n",
      " 'ELEMENTARY SCHOOL' 'UNDERPASS/BRIDGE*' 'STORAGE SHED' 'GAS STATION'\n",
      " 'DEPARTMENT STORE' 'JUNIOR HIGH SCHOOL' 'CLOTHING STORE' 'MARKET'\n",
      " 'WAREHOUSE' 'GROUP HOME' 'CELL PHONE STORE' 'OFFICE BUILDING/OFFICE'\n",
      " 'CHURCH/CHAPEL (CHANGED 03-03 FROM CHURCH/TEMPLE)'\n",
      " 'LA UNION STATION (NOT LINE SPECIFIC)'\n",
      " 'TRANSPORTATION FACILITY (AIRPORT)' 'THE BEVERLY CENTER'\n",
      " 'MTA - EXPO LINE - EXPO/BUNDY' 'TRANSIENT ENCAMPMENT' 'DRUG STORE'\n",
      " 'HOSPITAL' 'HIGH SCHOOL'\n",
      " 'GOVERNMENT FACILITY (FEDERAL,STATE, COUNTY & CITY)'\n",
      " 'AUTOMATED TELLER MACHINE (ATM)' 'POLICE FACILITY'\n",
      " 'MTA - RED LINE - UNIVERSAL CITY/STUDIO CITY' 'SPECIALTY SCHOOL/OTHER'\n",
      " 'AMUSEMENT PARK*' 'MAIL BOX' 'AUTO SALES LOT' 'MEDICAL/DENTAL OFFICES'\n",
      " 'JEWELRY STORE' 'CEMETARY*' 'VACANT LOT' 'LAUNDROMAT' 'GOLF COURSE*'\n",
      " 'OTHER/OUTSIDE' 'CONDOMINIUM/TOWNHOUSE' 'PUBLIC STORAGE'\n",
      " 'STUDIO (FILM/PHOTOGRAPHIC/MUSIC)' 'BASKETBALL COURTS' 'AUTO REPAIR SHOP'\n",
      " 'FREEWAY' 'AUTO SUPPLY STORE*' 'PATIO*'\n",
      " 'NURSING/CONVALESCENT/RETIREMENT HOME' 'CYBERSPACE' 'CHECK CASHING*'\n",
      " 'SHOPPING MALL (COMMON AREA)' 'NURSERY/FLOWER SHOP'\n",
      " 'VISION CARE FACILITY*' 'LIBRARY'\n",
      " \"SINGLE RESIDENCE OCCUPANCY (SRO'S) LOCATIONS\"\n",
      " 'NIGHT CLUB (OPEN EVENINGS ONLY)' 'THEATRE/MOVIE'\n",
      " 'MTA - RED LINE - VERMONT/SUNSET'\n",
      " 'DELIVERY SERVICE (FED EX, UPS, COURIERS,COURIER SERVICE)*'\n",
      " 'MISSIONS/SHELTERS' 'COLLEGE/JUNIOR COLLEGE/UNIVERSITY'\n",
      " 'APARTMENT/CONDO COMMON LAUNDRY ROOM' 'MTA - ORANGE LINE - WOODLEY'\n",
      " 'TRANSITIONAL HOUSING/HALFWAY HOUSE' 'CONSTRUCTION SITE'\n",
      " 'TRASH CAN/TRASH DUMPSTER' 'TOW YARD*' 'MTA - BLUE LINE - PICO'\n",
      " 'PET STORE' 'THE GROVE' 'MTA - RED LINE - HOLLYWOOD/VINE' 'BOOK STORE'\n",
      " 'NAIL SALON' 'AUTO DEALERSHIP (CHEVY, FORD, BMW, MERCEDES, ETC.)'\n",
      " 'HARDWARE/BUILDING SUPPLY' 'MEDICAL MARIJUANA FACILITIES/BUSINESSES'\n",
      " 'VALET' 'TATTOO PARLOR*' 'HEALTH SPA/GYM'\n",
      " 'MTA - RED LINE - UNION STATION' 'MTA - GREEN LINE - AVALON'\n",
      " 'MTA - EXPO LINE - EXPO/LA BREA' 'BEAUTY/BARBER SHOP' 'POST OFFICE'\n",
      " 'MTA - BLUE LINE - VERNON' 'TOBACCO SHOP'\n",
      " '7TH AND METRO CENTER (NOT LINE SPECIFIC)'\n",
      " 'HORSE RACING/SANTA ANITA PARK*' 'MEMBERSHIP STORE (COSTCO,SAMS CLUB)*'\n",
      " 'DAY CARE/CHILDREN*' 'ELEVATOR' 'THE BEVERLY CONNECTION'\n",
      " 'BAR/COCKTAIL/NIGHTCLUB' 'CAR WASH' 'TV/RADIO/APPLIANCE'\n",
      " 'MTA - RED LINE - NORTH HOLLYWOOD' 'BAR/SPORTS BAR (OPEN DAY & NIGHT)'\n",
      " 'BEAUTY SUPPLY STORE' 'OTHER RR TRAIN (UNION PAC, SANTE FE ETC'\n",
      " 'PHARMACY INSIDE STORE OR SUPERMARKET*'\n",
      " 'TRADE SCHOOL (MEDICAL-TECHNICAL-BUSINESS)*'\n",
      " 'MTA - RED LINE - PERSHING SQUARE' 'COLISEUM' 'MTA - EXPO LINE - PICO'\n",
      " 'BEACH' 'ELECTRONICS STORE (IE:RADIO SHACK, ETC.)'\n",
      " 'SLIPS/DOCK/MARINA/BOAT' 'FOSTER HOME BOYS OR GIRLS*'\n",
      " 'MTA - RED LINE - VERMONT/SANTA MONICA' 'DRIVE THRU*'\n",
      " 'MTA - RED LINE - 7TH AND METRO CENTER'\n",
      " 'MTA - EXPO LINE - EXPO/SEPULVEDA' 'PROJECT/TENEMENT/PUBLIC HOUSING'\n",
      " 'DETENTION/JAIL FACILITY' 'SKATEBOARD FACILITY/SKATEBOARD PARK*'\n",
      " 'GUN/SPORTING GOODS' 'MTA - SILVER LINE - HARBOR GATEWAY TRANSIT CTR'\n",
      " 'MTA - ORANGE LINE - BALBOA' 'STAIRWELL*'\n",
      " 'PUBLIC RESTROOM(INDOORS-INSIDE)' 'BUS STOP/LAYOVER (ALSO QUERY 124)'\n",
      " 'EQUIPMENT RENTAL' 'DAY CARE/ADULTS*'\n",
      " 'MTA - PURPLE LINE - CIVIC CENTER/GRAND PARK' 'PRIVATE SCHOOL/PRESCHOOL'\n",
      " 'BALCONY*'\n",
      " \"VEHICLE STORAGE LOT (CARS, TRUCKS, RV'S, BOATS, TRAILERS, ETC.)\"\n",
      " 'MTA - GOLD LINE - HERITAGE SQ' 'MTA PROPERTY OR PARKING LOT' 'FACTORY'\n",
      " 'MTA - GREEN LINE - AVIATION/LAX' 'RECYCLING CENTER'\n",
      " 'MTA - PURPLE LINE - WILSHIRE/NORMANDIE' 'SYNAGOGUE/TEMPLE'\n",
      " 'METROLINK TRAIN' 'OTHER PLACE OF WORSHIP'\n",
      " 'MTA - GREEN LINE - HARBOR FWY' 'MTA - PURPLE LINE - PERSHING SQUARE'\n",
      " 'MTA - RED LINE - WILSHIRE/VERMONT' 'BUS DEPOT/TERMINAL, OTHER THAN MTA'\n",
      " 'PUBLIC RESTROOM/OUTSIDE*'\n",
      " \"SEX ORIENTED/BOOK STORE/STRIP CLUB/GENTLEMAN'S CLUB\"\n",
      " 'MTA - RED LINE - HOLLYWOOD/WESTERN' 'MTA - SILVER LINE - ROSECRANS' nan\n",
      " 'HIGH-RISE BUILDING' 'MTA - RED LINE - HOLLYWOOD/HIGHLAND'\n",
      " 'MUNICIPAL BUS LINE INCLUDES LADOT/DASH' 'TRAIN TRACKS' 'FURNITURE STORE'\n",
      " 'MTA - SILVER LINE - HARBOR FWY' 'MTA - GOLD LINE - UNION STATION'\n",
      " 'CLEANER/LAUNDROMAT' 'OPTICAL OFFICE INSIDE STORE OR SUPERMARKET*'\n",
      " 'MTA - EXPO LINE - FARMDALE' 'MTA - PURPLE LINE - WILSHIRE/WESTERN'\n",
      " 'CREDIT UNION' 'TELECOMMUNICATION FACILITY/LOCATION'\n",
      " 'MTA - RED LINE - VERMONT/BEVERLY' 'MTA - EXPO LINE - PALMS'\n",
      " 'MTA - BLUE LINE - WASHINGTON' 'MTA - EXPO LINE - LA CIENEGA/JEFFERSON'\n",
      " 'BUS, SCHOOL, CHURCH' 'MTA - PURPLE LINE - WILSHIRE/VERMONT'\n",
      " 'MTA - GOLD LINE - LINCOLN/CYPRESS' 'ENTERTAINMENT/COMEDY CLUB (OTHER)'\n",
      " 'ABORTION CLINIC/ABORTION FACILITY*' 'BUS-CHARTER/PRIVATE'\n",
      " 'MTA - ORANGE LINE - NORTH HOLLYWOOD' 'FRAT HOUSE/SORORITY/DORMITORY'\n",
      " 'MTA - EXPO LINE - JEFFERSON/USC' 'MUSEUM'\n",
      " 'RECORD-CD MUSIC/COMPUTER GAME STORE'\n",
      " 'MTA - BLUE LINE - 7TH AND METRO CENTER'\n",
      " 'TRAIN DEPOT/TERMINAL, OTHER THAN MTA' 'ENERGY PLANT/FACILITY'\n",
      " 'STAPLES CENTER *' 'BOWLING ALLEY*' 'MTA - PURPLE LINE - UNION STATION'\n",
      " 'MTA - EXPO LINE - EXPO PARK/USC' 'VETERINARIAN/ANIMAL HOSPITAL'\n",
      " 'MTA - EXPO LINE - EXPO/VERMONT'\n",
      " 'MTA - RED LINE - WESTLAKE/MACARTHUR PARK' 'MASSAGE PARLOR'\n",
      " 'SPORTS ARENA' 'COMPUTER SERVICES/REPAIRS/SALES']\n"
     ]
    }
   ],
   "source": [
    "print(\"Unique values are:\")\n",
    "print('')\n",
    "print(train['Premise_Code'].unique())\n",
    "\n",
    "print('')\n",
    "print('')\n",
    "\n",
    "print(train['Premise_Description'].unique())"
   ]
  },
  {
   "cell_type": "code",
   "execution_count": 37,
   "id": "1f5f8904",
   "metadata": {
    "execution": {
     "iopub.execute_input": "2024-07-24T18:26:05.533526Z",
     "iopub.status.busy": "2024-07-24T18:26:05.533144Z",
     "iopub.status.idle": "2024-07-24T18:26:05.555743Z",
     "shell.execute_reply": "2024-07-24T18:26:05.554749Z"
    },
    "papermill": {
     "duration": 0.063194,
     "end_time": "2024-07-24T18:26:05.559713",
     "exception": false,
     "start_time": "2024-07-24T18:26:05.496519",
     "status": "completed"
    },
    "tags": []
   },
   "outputs": [
    {
     "name": "stdout",
     "output_type": "stream",
     "text": [
      "value counts are:\n",
      "\n",
      "Premise_Code\n",
      "101.0    5033\n",
      "501.0    3379\n",
      "502.0    2491\n",
      "108.0    1437\n",
      "102.0     978\n",
      "         ... \n",
      "214.0       1\n",
      "909.0       1\n",
      "896.0       1\n",
      "744.0       1\n",
      "250.0       1\n",
      "Name: count, Length: 217, dtype: int64\n"
     ]
    },
    {
     "name": "stderr",
     "output_type": "stream",
     "text": [
      "/tmp/ipykernel_18/3041038907.py:1: FutureWarning: Setting an item of incompatible dtype is deprecated and will raise in a future error of pandas. Value '['101.0' '216.0' '501.0' ... '102.0' '501.0' '101.0']' has dtype incompatible with float64, please explicitly cast to a compatible dtype first.\n",
      "  train.loc[:,'Premise_Code']=train.loc[:,'Premise_Code'].astype(str)\n"
     ]
    }
   ],
   "source": [
    "train.loc[:,'Premise_Code']=train.loc[:,'Premise_Code'].astype(str)\n",
    "\n",
    "print(\"value counts are:\")\n",
    "print('')\n",
    "print(train['Premise_Code'].value_counts())\n"
   ]
  },
  {
   "cell_type": "code",
   "execution_count": 38,
   "id": "efe7d74f",
   "metadata": {
    "execution": {
     "iopub.execute_input": "2024-07-24T18:26:05.631947Z",
     "iopub.status.busy": "2024-07-24T18:26:05.631567Z",
     "iopub.status.idle": "2024-07-24T18:26:05.646711Z",
     "shell.execute_reply": "2024-07-24T18:26:05.645708Z"
    },
    "papermill": {
     "duration": 0.053933,
     "end_time": "2024-07-24T18:26:05.648996",
     "exception": false,
     "start_time": "2024-07-24T18:26:05.595063",
     "status": "completed"
    },
    "tags": []
   },
   "outputs": [],
   "source": [
    "top_10_Premise_Code=['101.0' , '501.0','502.0','108.0','108.0','102.0','203.0','122.0','707.0']\n",
    "\n",
    "def top_10_Premise_Code_function(x):\n",
    "    if (x in top_10_Premise_Code):\n",
    "        return x\n",
    "    else:\n",
    "        return '000'\n",
    "    \n",
    "train.loc[:,'Premise_Code']=train['Premise_Code'].apply(lambda x : top_10_Premise_Code_function(x))"
   ]
  },
  {
   "cell_type": "code",
   "execution_count": 39,
   "id": "f611ccfb",
   "metadata": {
    "execution": {
     "iopub.execute_input": "2024-07-24T18:26:05.720770Z",
     "iopub.status.busy": "2024-07-24T18:26:05.720348Z",
     "iopub.status.idle": "2024-07-24T18:26:05.730902Z",
     "shell.execute_reply": "2024-07-24T18:26:05.729815Z"
    },
    "papermill": {
     "duration": 0.048876,
     "end_time": "2024-07-24T18:26:05.733232",
     "exception": false,
     "start_time": "2024-07-24T18:26:05.684356",
     "status": "completed"
    },
    "tags": []
   },
   "outputs": [
    {
     "data": {
      "text/plain": [
       "Premise_Code\n",
       "101.0    5033\n",
       "000      4650\n",
       "501.0    3379\n",
       "502.0    2491\n",
       "108.0    1437\n",
       "102.0     978\n",
       "203.0     916\n",
       "122.0     679\n",
       "707.0     437\n",
       "Name: count, dtype: int64"
      ]
     },
     "execution_count": 39,
     "metadata": {},
     "output_type": "execute_result"
    }
   ],
   "source": [
    "(train['Premise_Code'].value_counts())[:10]"
   ]
  },
  {
   "cell_type": "code",
   "execution_count": 40,
   "id": "c57574ca",
   "metadata": {
    "execution": {
     "iopub.execute_input": "2024-07-24T18:26:05.805020Z",
     "iopub.status.busy": "2024-07-24T18:26:05.804620Z",
     "iopub.status.idle": "2024-07-24T18:26:05.813808Z",
     "shell.execute_reply": "2024-07-24T18:26:05.812756Z"
    },
    "papermill": {
     "duration": 0.047958,
     "end_time": "2024-07-24T18:26:05.816187",
     "exception": false,
     "start_time": "2024-07-24T18:26:05.768229",
     "status": "completed"
    },
    "tags": []
   },
   "outputs": [
    {
     "data": {
      "text/plain": [
       "9"
      ]
     },
     "execution_count": 40,
     "metadata": {},
     "output_type": "execute_result"
    }
   ],
   "source": [
    "len(train['Premise_Code'].unique())"
   ]
  },
  {
   "cell_type": "markdown",
   "id": "c6139d7b",
   "metadata": {
    "papermill": {
     "duration": 0.034647,
     "end_time": "2024-07-24T18:26:05.885859",
     "exception": false,
     "start_time": "2024-07-24T18:26:05.851212",
     "status": "completed"
    },
    "tags": []
   },
   "source": [
    "# Victim_Sex "
   ]
  },
  {
   "cell_type": "code",
   "execution_count": 41,
   "id": "163f2e00",
   "metadata": {
    "execution": {
     "iopub.execute_input": "2024-07-24T18:26:05.957880Z",
     "iopub.status.busy": "2024-07-24T18:26:05.956936Z",
     "iopub.status.idle": "2024-07-24T18:26:05.980624Z",
     "shell.execute_reply": "2024-07-24T18:26:05.979415Z"
    },
    "papermill": {
     "duration": 0.062337,
     "end_time": "2024-07-24T18:26:05.983018",
     "exception": false,
     "start_time": "2024-07-24T18:26:05.920681",
     "status": "completed"
    },
    "tags": []
   },
   "outputs": [
    {
     "name": "stdout",
     "output_type": "stream",
     "text": [
      "Unique values of victim sex are ['M' 'X' 'F' nan 'H']\n",
      "\n",
      "\n",
      "Value counts are\n",
      "Victim_Sex\n",
      "M    8538\n",
      "F    7176\n",
      "X    1660\n",
      "H       2\n",
      "Name: count, dtype: int64\n",
      "\n",
      "\n",
      "Number of null values are 2624\n",
      "\n",
      "\n",
      "Number of null values after imputing are 0\n"
     ]
    }
   ],
   "source": [
    "print(\"Unique values of victim sex are\",train['Victim_Sex'].unique())\n",
    "\n",
    "\n",
    "print('')\n",
    "print('')\n",
    "\n",
    "print('Value counts are')\n",
    "print(train['Victim_Sex'].value_counts())\n",
    "\n",
    "print('')\n",
    "print('')\n",
    "\n",
    "\n",
    "print(\"Number of null values are\" , train['Victim_Sex'].isnull().sum())\n",
    "\n",
    "\n",
    "\n",
    "\n",
    "\n",
    "distribution_gender = train['Victim_Sex'].dropna().value_counts(normalize=True)\n",
    "\n",
    "missing_gender = train['Victim_Sex'].isna().sum()\n",
    "\n",
    "imputed_values_gender = np.random.choice(distribution_gender.index, size=missing_gender, p=distribution_gender.values)\n",
    "\n",
    "\n",
    "train.loc[train['Victim_Sex'].isna(), 'Victim_Sex'] = imputed_values_gender\n",
    "\n",
    "\n",
    "\n",
    "print('')\n",
    "print('')\n",
    "\n",
    "\n",
    "\n",
    "print(\"Number of null values after imputing are\" , train['Victim_Sex'].isnull().sum())\n",
    "\n",
    "train.loc[:,'Victim_Sex']=train.loc[:,'Victim_Sex'].replace('H','X')"
   ]
  },
  {
   "cell_type": "markdown",
   "id": "f503d572",
   "metadata": {
    "papermill": {
     "duration": 0.034887,
     "end_time": "2024-07-24T18:26:06.052929",
     "exception": false,
     "start_time": "2024-07-24T18:26:06.018042",
     "status": "completed"
    },
    "tags": []
   },
   "source": [
    "# Victim_Descent"
   ]
  },
  {
   "cell_type": "code",
   "execution_count": 42,
   "id": "987c10ea",
   "metadata": {
    "execution": {
     "iopub.execute_input": "2024-07-24T18:26:06.124919Z",
     "iopub.status.busy": "2024-07-24T18:26:06.123996Z",
     "iopub.status.idle": "2024-07-24T18:26:06.136761Z",
     "shell.execute_reply": "2024-07-24T18:26:06.135744Z"
    },
    "papermill": {
     "duration": 0.051937,
     "end_time": "2024-07-24T18:26:06.139581",
     "exception": false,
     "start_time": "2024-07-24T18:26:06.087644",
     "status": "completed"
    },
    "tags": []
   },
   "outputs": [],
   "source": [
    "distribution_Descent = train['Victim_Descent'].dropna().value_counts(normalize=True)\n",
    "\n",
    "missing_Descent = train['Victim_Descent'].isna().sum()\n",
    "\n",
    "imputed_values_Descent = np.random.choice(distribution_Descent.index, size=missing_Descent, p=distribution_Descent.values)\n",
    "\n",
    "\n",
    "train.loc[train['Victim_Descent'].isna(), 'Victim_Descent'] = imputed_values_Descent\n",
    "\n"
   ]
  },
  {
   "cell_type": "code",
   "execution_count": 43,
   "id": "b3b40bed",
   "metadata": {
    "execution": {
     "iopub.execute_input": "2024-07-24T18:26:06.212392Z",
     "iopub.status.busy": "2024-07-24T18:26:06.211971Z",
     "iopub.status.idle": "2024-07-24T18:26:06.530355Z",
     "shell.execute_reply": "2024-07-24T18:26:06.529251Z"
    },
    "papermill": {
     "duration": 0.35745,
     "end_time": "2024-07-24T18:26:06.532794",
     "exception": false,
     "start_time": "2024-07-24T18:26:06.175344",
     "status": "completed"
    },
    "tags": []
   },
   "outputs": [
    {
     "name": "stdout",
     "output_type": "stream",
     "text": [
      "unique values are\n",
      "['W' 'H' 'B' 'X' 'O' 'A' 'K' 'C' 'F' 'I' 'J' 'Z' 'V' 'P' 'D' 'G' 'U']\n",
      "\n",
      "\n",
      "Victim_Descent\n",
      "H    7082\n",
      "W    4897\n",
      "B    3338\n",
      "X    2124\n",
      "O    1822\n",
      "A     479\n",
      "K      93\n",
      "C      57\n",
      "F      51\n",
      "J      19\n",
      "I      13\n",
      "V      10\n",
      "Z       5\n",
      "P       4\n",
      "D       2\n",
      "G       2\n",
      "U       2\n",
      "Name: count, dtype: int64\n"
     ]
    },
    {
     "data": {
      "text/plain": [
       "<Axes: xlabel='Victim_Descent'>"
      ]
     },
     "execution_count": 43,
     "metadata": {},
     "output_type": "execute_result"
    },
    {
     "data": {
      "image/png": "[encoded data removed]",
      "text/plain": [
       "<Figure size 640x480 with 1 Axes>"
      ]
     },
     "metadata": {},
     "output_type": "display_data"
    }
   ],
   "source": [
    "print('unique values are')\n",
    "print(train['Victim_Descent'].unique())\n",
    "\n",
    "print('')\n",
    "print('')\n",
    "\n",
    "print(train['Victim_Descent'].value_counts())\n",
    "\n",
    "Victim_Descent_value_counts=train['Victim_Descent'].value_counts()\n",
    "\n",
    "Victim_Descent_value_counts.plot(kind='bar')"
   ]
  },
  {
   "cell_type": "code",
   "execution_count": 44,
   "id": "16e3f339",
   "metadata": {
    "execution": {
     "iopub.execute_input": "2024-07-24T18:26:06.605319Z",
     "iopub.status.busy": "2024-07-24T18:26:06.604951Z",
     "iopub.status.idle": "2024-07-24T18:26:06.635206Z",
     "shell.execute_reply": "2024-07-24T18:26:06.634093Z"
    },
    "papermill": {
     "duration": 0.069545,
     "end_time": "2024-07-24T18:26:06.637491",
     "exception": false,
     "start_time": "2024-07-24T18:26:06.567946",
     "status": "completed"
    },
    "tags": []
   },
   "outputs": [
    {
     "name": "stdout",
     "output_type": "stream",
     "text": [
      "<class 'pandas.core.frame.DataFrame'>\n",
      "RangeIndex: 20000 entries, 0 to 19999\n",
      "Data columns (total 23 columns):\n",
      " #   Column                 Non-Null Count  Dtype  \n",
      "---  ------                 --------------  -----  \n",
      " 0   Location               20000 non-null  object \n",
      " 1   Cross_Street           20000 non-null  object \n",
      " 2   Latitude               20000 non-null  float64\n",
      " 3   Longitude              20000 non-null  float64\n",
      " 4   Date_Reported          20000 non-null  object \n",
      " 5   Date_Occurred          20000 non-null  object \n",
      " 6   Time_Occurred          20000 non-null  float64\n",
      " 7   Area_ID                20000 non-null  object \n",
      " 8   Area_Name              20000 non-null  object \n",
      " 9   Reporting_District_no  20000 non-null  object \n",
      " 10  Part 1-2               20000 non-null  object \n",
      " 11  Modus_Operandi         20000 non-null  object \n",
      " 12  Victim_Age             20000 non-null  float64\n",
      " 13  Victim_Sex             20000 non-null  object \n",
      " 14  Victim_Descent         20000 non-null  object \n",
      " 15  Premise_Code           20000 non-null  object \n",
      " 16  Premise_Description    19995 non-null  object \n",
      " 17  Weapon_Used_Code       7335 non-null   float64\n",
      " 18  Weapon_Description     20000 non-null  object \n",
      " 19  Status                 20000 non-null  object \n",
      " 20  Status_Description     20000 non-null  object \n",
      " 21  Crime_Category         20000 non-null  object \n",
      " 22  activity_count         20000 non-null  int64  \n",
      "dtypes: float64(5), int64(1), object(17)\n",
      "memory usage: 3.5+ MB\n"
     ]
    }
   ],
   "source": [
    "train.info()"
   ]
  },
  {
   "cell_type": "markdown",
   "id": "8424fe1f",
   "metadata": {
    "papermill": {
     "duration": 0.035419,
     "end_time": "2024-07-24T18:26:06.708939",
     "exception": false,
     "start_time": "2024-07-24T18:26:06.673520",
     "status": "completed"
    },
    "tags": []
   },
   "source": [
    "# Numerical Columns"
   ]
  },
  {
   "cell_type": "markdown",
   "id": "da73128d",
   "metadata": {
    "papermill": {
     "duration": 0.035222,
     "end_time": "2024-07-24T18:26:06.779631",
     "exception": false,
     "start_time": "2024-07-24T18:26:06.744409",
     "status": "completed"
    },
    "tags": []
   },
   "source": [
    "# Date_Reported ,Date_Occurred"
   ]
  },
  {
   "cell_type": "code",
   "execution_count": 45,
   "id": "84b6dbfe",
   "metadata": {
    "execution": {
     "iopub.execute_input": "2024-07-24T18:26:06.854381Z",
     "iopub.status.busy": "2024-07-24T18:26:06.853565Z",
     "iopub.status.idle": "2024-07-24T18:26:06.876238Z",
     "shell.execute_reply": "2024-07-24T18:26:06.875139Z"
    },
    "papermill": {
     "duration": 0.062458,
     "end_time": "2024-07-24T18:26:06.878751",
     "exception": false,
     "start_time": "2024-07-24T18:26:06.816293",
     "status": "completed"
    },
    "tags": []
   },
   "outputs": [],
   "source": [
    "def day_category(x):\n",
    "    if 400<=x<1200:\n",
    "        return 'Morning'\n",
    "    elif 1200<=x<1700:\n",
    "        return 'Daytime'\n",
    "    elif 1800<=x<2100:\n",
    "        return 'Evening'\n",
    "    else:\n",
    "        return 'Night'\n",
    "    \n",
    "train['day_category']=train['Time_Occurred'].apply(day_category )   \n",
    "train.drop('Time_Occurred',inplace=True,axis=1)"
   ]
  },
  {
   "cell_type": "code",
   "execution_count": 46,
   "id": "a3ed41ac",
   "metadata": {
    "execution": {
     "iopub.execute_input": "2024-07-24T18:26:06.952478Z",
     "iopub.status.busy": "2024-07-24T18:26:06.951558Z",
     "iopub.status.idle": "2024-07-24T18:26:25.645402Z",
     "shell.execute_reply": "2024-07-24T18:26:25.644277Z"
    },
    "papermill": {
     "duration": 18.73356,
     "end_time": "2024-07-24T18:26:25.648000",
     "exception": false,
     "start_time": "2024-07-24T18:26:06.914440",
     "status": "completed"
    },
    "tags": []
   },
   "outputs": [],
   "source": [
    "\n",
    "def extract_date(d):\n",
    "    str(d)\n",
    "    date=d.split(' ')[0]\n",
    "    \n",
    "    \n",
    "    date=pd.to_datetime(date).date()\n",
    "    \n",
    "    \n",
    "    return date\n",
    "    \n",
    "train['Date_Reported']=train['Date_Reported'].apply(extract_date)\n",
    "train['Date_Occurred']=train['Date_Occurred'].apply(extract_date)\n",
    "    \n",
    "# k=train['Date_Reported'][0]-train['Date_Occurred'][0]\n",
    "# k.days\n",
    "\n",
    "\n",
    "#converting to datetime\n",
    "\n",
    "train['Date_Reported']=pd.to_datetime(train['Date_Reported'])\n",
    "train['Date_Occurred']=pd.to_datetime(train['Date_Occurred'])\n",
    "\n",
    "\n",
    "\n",
    "train['Day_occured']=train['Date_Occurred'].dt.weekday\n",
    "train['month_occured']=train['Date_Occurred'].dt.month\n",
    "\n",
    "\n",
    "\n",
    "\n",
    "#this gives daysss anf time too \n",
    "train['reporting_delay_day_count']=(train['Date_Reported']-train['Date_Occurred'])\n",
    "\n",
    "# this day count calculate the days count \n",
    "def day_count(d):\n",
    "    return d.days\n",
    "train['reporting_delay_day_count']=train['reporting_delay_day_count'].apply(day_count)\n",
    "\n",
    "\n",
    "\n",
    "\n",
    "# dropping the date reported and date occured cols\n",
    "\n"
   ]
  },
  {
   "cell_type": "code",
   "execution_count": 47,
   "id": "223e0d4f",
   "metadata": {
    "execution": {
     "iopub.execute_input": "2024-07-24T18:26:25.721161Z",
     "iopub.status.busy": "2024-07-24T18:26:25.720760Z",
     "iopub.status.idle": "2024-07-24T18:26:25.730527Z",
     "shell.execute_reply": "2024-07-24T18:26:25.729178Z"
    },
    "papermill": {
     "duration": 0.049175,
     "end_time": "2024-07-24T18:26:25.732951",
     "exception": false,
     "start_time": "2024-07-24T18:26:25.683776",
     "status": "completed"
    },
    "tags": []
   },
   "outputs": [],
   "source": [
    "train.loc[:,'month_occured']=train['month_occured'].astype('category')\n",
    "train.loc[:,'Day_occured']=train['Day_occured'].astype('category')"
   ]
  },
  {
   "cell_type": "code",
   "execution_count": 48,
   "id": "98ca897c",
   "metadata": {
    "execution": {
     "iopub.execute_input": "2024-07-24T18:26:25.805355Z",
     "iopub.status.busy": "2024-07-24T18:26:25.804941Z",
     "iopub.status.idle": "2024-07-24T18:26:25.813239Z",
     "shell.execute_reply": "2024-07-24T18:26:25.812099Z"
    },
    "papermill": {
     "duration": 0.047334,
     "end_time": "2024-07-24T18:26:25.815568",
     "exception": false,
     "start_time": "2024-07-24T18:26:25.768234",
     "status": "completed"
    },
    "tags": []
   },
   "outputs": [
    {
     "name": "stdout",
     "output_type": "stream",
     "text": [
      "[75. 41. 67. 61.  0. 50. 68. 22. 31. 46. 72. 26. 38. 37. 42. 40. 53. 60.\n",
      " 29. 13. 33. 27. 15. 23. 74. 63. 78. 51. 44. 34. 69. 36. 52. 25. 49. 48.\n",
      " 32. 18. 35. 24. 39. 16. 28. 47. 30. 64. 76.  5. 58. 45. 57. 19. 55. 54.\n",
      " 21. 65. 17. 20. 77. 82. 56. -2. 84. 59. 43.  7. 70. 66. 62. 14. 80. 71.\n",
      " 81. 96. 12. 11.  4. 83. 10.  8.  6. 88. 86. 73.  9. 87. 85. 93. 95. 99.\n",
      " 79.  3.  2. 91. 92. 90. 89. 98. -1. 94.]\n"
     ]
    }
   ],
   "source": [
    "print(train['Victim_Age'].unique())\n",
    "# df.loc[df['Victim_Age']<0,'Victim_Age']=0\n",
    "train.loc[train['Victim_Age']<0,'Victim_Age']=0"
   ]
  },
  {
   "cell_type": "code",
   "execution_count": 49,
   "id": "09cd00bc",
   "metadata": {
    "execution": {
     "iopub.execute_input": "2024-07-24T18:26:25.889547Z",
     "iopub.status.busy": "2024-07-24T18:26:25.888367Z",
     "iopub.status.idle": "2024-07-24T18:26:25.918661Z",
     "shell.execute_reply": "2024-07-24T18:26:25.917410Z"
    },
    "papermill": {
     "duration": 0.07003,
     "end_time": "2024-07-24T18:26:25.921346",
     "exception": false,
     "start_time": "2024-07-24T18:26:25.851316",
     "status": "completed"
    },
    "tags": []
   },
   "outputs": [
    {
     "name": "stdout",
     "output_type": "stream",
     "text": [
      "<class 'pandas.core.frame.DataFrame'>\n",
      "RangeIndex: 20000 entries, 0 to 19999\n",
      "Data columns (total 26 columns):\n",
      " #   Column                     Non-Null Count  Dtype         \n",
      "---  ------                     --------------  -----         \n",
      " 0   Location                   20000 non-null  object        \n",
      " 1   Cross_Street               20000 non-null  object        \n",
      " 2   Latitude                   20000 non-null  float64       \n",
      " 3   Longitude                  20000 non-null  float64       \n",
      " 4   Date_Reported              20000 non-null  datetime64[ns]\n",
      " 5   Date_Occurred              20000 non-null  datetime64[ns]\n",
      " 6   Area_ID                    20000 non-null  object        \n",
      " 7   Area_Name                  20000 non-null  object        \n",
      " 8   Reporting_District_no      20000 non-null  object        \n",
      " 9   Part 1-2                   20000 non-null  object        \n",
      " 10  Modus_Operandi             20000 non-null  object        \n",
      " 11  Victim_Age                 20000 non-null  float64       \n",
      " 12  Victim_Sex                 20000 non-null  object        \n",
      " 13  Victim_Descent             20000 non-null  object        \n",
      " 14  Premise_Code               20000 non-null  object        \n",
      " 15  Premise_Description        19995 non-null  object        \n",
      " 16  Weapon_Used_Code           7335 non-null   float64       \n",
      " 17  Weapon_Description         20000 non-null  object        \n",
      " 18  Status                     20000 non-null  object        \n",
      " 19  Status_Description         20000 non-null  object        \n",
      " 20  Crime_Category             20000 non-null  object        \n",
      " 21  activity_count             20000 non-null  int64         \n",
      " 22  day_category               20000 non-null  object        \n",
      " 23  Day_occured                20000 non-null  int32         \n",
      " 24  month_occured              20000 non-null  int32         \n",
      " 25  reporting_delay_day_count  20000 non-null  int64         \n",
      "dtypes: datetime64[ns](2), float64(4), int32(2), int64(2), object(16)\n",
      "memory usage: 3.8+ MB\n"
     ]
    }
   ],
   "source": [
    "train.info()"
   ]
  },
  {
   "cell_type": "code",
   "execution_count": 50,
   "id": "1ad0a6fa",
   "metadata": {
    "execution": {
     "iopub.execute_input": "2024-07-24T18:26:25.994972Z",
     "iopub.status.busy": "2024-07-24T18:26:25.994565Z",
     "iopub.status.idle": "2024-07-24T18:26:26.002607Z",
     "shell.execute_reply": "2024-07-24T18:26:26.001505Z"
    },
    "papermill": {
     "duration": 0.047237,
     "end_time": "2024-07-24T18:26:26.004927",
     "exception": false,
     "start_time": "2024-07-24T18:26:25.957690",
     "status": "completed"
    },
    "tags": []
   },
   "outputs": [
    {
     "data": {
      "text/plain": [
       "array([ 3,  2,  8, 11,  1,  7,  6,  9, 10, 12,  4,  5], dtype=int32)"
      ]
     },
     "execution_count": 50,
     "metadata": {},
     "output_type": "execute_result"
    }
   ],
   "source": [
    "train['month_occured'].unique()"
   ]
  },
  {
   "cell_type": "code",
   "execution_count": 51,
   "id": "6841ba84",
   "metadata": {
    "execution": {
     "iopub.execute_input": "2024-07-24T18:26:26.079909Z",
     "iopub.status.busy": "2024-07-24T18:26:26.079512Z",
     "iopub.status.idle": "2024-07-24T18:26:26.134764Z",
     "shell.execute_reply": "2024-07-24T18:26:26.133768Z"
    },
    "papermill": {
     "duration": 0.095456,
     "end_time": "2024-07-24T18:26:26.137220",
     "exception": false,
     "start_time": "2024-07-24T18:26:26.041764",
     "status": "completed"
    },
    "tags": []
   },
   "outputs": [
    {
     "data": {
      "text/html": [
       "<div>\n",
       "<style scoped>\n",
       "    .dataframe tbody tr th:only-of-type {\n",
       "        vertical-align: middle;\n",
       "    }\n",
       "\n",
       "    .dataframe tbody tr th {\n",
       "        vertical-align: top;\n",
       "    }\n",
       "\n",
       "    .dataframe thead th {\n",
       "        text-align: right;\n",
       "    }\n",
       "</style>\n",
       "<table border=\"1\" class=\"dataframe\">\n",
       "  <thead>\n",
       "    <tr style=\"text-align: right;\">\n",
       "      <th></th>\n",
       "      <th>Location</th>\n",
       "      <th>Cross_Street</th>\n",
       "      <th>Latitude</th>\n",
       "      <th>Longitude</th>\n",
       "      <th>Date_Reported</th>\n",
       "      <th>Date_Occurred</th>\n",
       "      <th>Area_ID</th>\n",
       "      <th>Area_Name</th>\n",
       "      <th>Reporting_District_no</th>\n",
       "      <th>Part 1-2</th>\n",
       "      <th>...</th>\n",
       "      <th>Weapon_Used_Code</th>\n",
       "      <th>Weapon_Description</th>\n",
       "      <th>Status</th>\n",
       "      <th>Status_Description</th>\n",
       "      <th>Crime_Category</th>\n",
       "      <th>activity_count</th>\n",
       "      <th>day_category</th>\n",
       "      <th>Day_occured</th>\n",
       "      <th>month_occured</th>\n",
       "      <th>reporting_delay_day_count</th>\n",
       "    </tr>\n",
       "  </thead>\n",
       "  <tbody>\n",
       "    <tr>\n",
       "      <th>0</th>\n",
       "      <td>4500 CARPENTER AV</td>\n",
       "      <td></td>\n",
       "      <td>34.1522</td>\n",
       "      <td>-118.3910</td>\n",
       "      <td>2020-03-09</td>\n",
       "      <td>2020-03-06</td>\n",
       "      <td>15.0</td>\n",
       "      <td>N Hollywood</td>\n",
       "      <td>Rest_Reporting_District_no</td>\n",
       "      <td>1.0</td>\n",
       "      <td>...</td>\n",
       "      <td>NaN</td>\n",
       "      <td>Physical Force</td>\n",
       "      <td>IC</td>\n",
       "      <td>Invest Cont</td>\n",
       "      <td>Property Crimes</td>\n",
       "      <td>1</td>\n",
       "      <td>Evening</td>\n",
       "      <td>4</td>\n",
       "      <td>3</td>\n",
       "      <td>3</td>\n",
       "    </tr>\n",
       "    <tr>\n",
       "      <th>1</th>\n",
       "      <td>45TH ST</td>\n",
       "      <td>ALAMEDA ST</td>\n",
       "      <td>34.0028</td>\n",
       "      <td>-118.2391</td>\n",
       "      <td>2020-02-27</td>\n",
       "      <td>2020-02-27</td>\n",
       "      <td>13.0</td>\n",
       "      <td>Newton</td>\n",
       "      <td>Rest_Reporting_District_no</td>\n",
       "      <td>1.0</td>\n",
       "      <td>...</td>\n",
       "      <td>400.0</td>\n",
       "      <td>Physical Force</td>\n",
       "      <td>IC</td>\n",
       "      <td>Invest Cont</td>\n",
       "      <td>Property Crimes</td>\n",
       "      <td>8</td>\n",
       "      <td>Daytime</td>\n",
       "      <td>3</td>\n",
       "      <td>2</td>\n",
       "      <td>0</td>\n",
       "    </tr>\n",
       "    <tr>\n",
       "      <th>2</th>\n",
       "      <td>600 E MARTIN LUTHER KING JR BL</td>\n",
       "      <td></td>\n",
       "      <td>34.0111</td>\n",
       "      <td>-118.2653</td>\n",
       "      <td>2020-08-21</td>\n",
       "      <td>2020-08-21</td>\n",
       "      <td>13.0</td>\n",
       "      <td>Newton</td>\n",
       "      <td>Rest_Reporting_District_no</td>\n",
       "      <td>2.0</td>\n",
       "      <td>...</td>\n",
       "      <td>NaN</td>\n",
       "      <td>Physical Force</td>\n",
       "      <td>IC</td>\n",
       "      <td>Invest Cont</td>\n",
       "      <td>Property Crimes</td>\n",
       "      <td>2</td>\n",
       "      <td>Morning</td>\n",
       "      <td>4</td>\n",
       "      <td>8</td>\n",
       "      <td>0</td>\n",
       "    </tr>\n",
       "    <tr>\n",
       "      <th>3</th>\n",
       "      <td>14900 ORO GRANDE ST</td>\n",
       "      <td></td>\n",
       "      <td>34.2953</td>\n",
       "      <td>-118.4590</td>\n",
       "      <td>2020-11-08</td>\n",
       "      <td>2020-11-06</td>\n",
       "      <td>19.0</td>\n",
       "      <td>Mission</td>\n",
       "      <td>Rest_Reporting_District_no</td>\n",
       "      <td>1.0</td>\n",
       "      <td>...</td>\n",
       "      <td>NaN</td>\n",
       "      <td>Gun</td>\n",
       "      <td>IC</td>\n",
       "      <td>Invest Cont</td>\n",
       "      <td>Property Crimes</td>\n",
       "      <td>2</td>\n",
       "      <td>Evening</td>\n",
       "      <td>4</td>\n",
       "      <td>11</td>\n",
       "      <td>2</td>\n",
       "    </tr>\n",
       "    <tr>\n",
       "      <th>4</th>\n",
       "      <td>7100 S VERMONT AV</td>\n",
       "      <td></td>\n",
       "      <td>33.9787</td>\n",
       "      <td>-118.2918</td>\n",
       "      <td>2020-02-25</td>\n",
       "      <td>2020-02-25</td>\n",
       "      <td>12.0</td>\n",
       "      <td>77th Street</td>\n",
       "      <td>Rest_Reporting_District_no</td>\n",
       "      <td>1.0</td>\n",
       "      <td>...</td>\n",
       "      <td>400.0</td>\n",
       "      <td>Physical Force</td>\n",
       "      <td>IC</td>\n",
       "      <td>Invest Cont</td>\n",
       "      <td>Property Crimes</td>\n",
       "      <td>6</td>\n",
       "      <td>Morning</td>\n",
       "      <td>1</td>\n",
       "      <td>2</td>\n",
       "      <td>0</td>\n",
       "    </tr>\n",
       "    <tr>\n",
       "      <th>...</th>\n",
       "      <td>...</td>\n",
       "      <td>...</td>\n",
       "      <td>...</td>\n",
       "      <td>...</td>\n",
       "      <td>...</td>\n",
       "      <td>...</td>\n",
       "      <td>...</td>\n",
       "      <td>...</td>\n",
       "      <td>...</td>\n",
       "      <td>...</td>\n",
       "      <td>...</td>\n",
       "      <td>...</td>\n",
       "      <td>...</td>\n",
       "      <td>...</td>\n",
       "      <td>...</td>\n",
       "      <td>...</td>\n",
       "      <td>...</td>\n",
       "      <td>...</td>\n",
       "      <td>...</td>\n",
       "      <td>...</td>\n",
       "      <td>...</td>\n",
       "    </tr>\n",
       "    <tr>\n",
       "      <th>19995</th>\n",
       "      <td>5100 W ADAMS BL</td>\n",
       "      <td></td>\n",
       "      <td>34.0334</td>\n",
       "      <td>-118.3523</td>\n",
       "      <td>2020-05-24</td>\n",
       "      <td>2020-05-24</td>\n",
       "      <td>3.0</td>\n",
       "      <td>Southwest</td>\n",
       "      <td>Rest_Reporting_District_no</td>\n",
       "      <td>2.0</td>\n",
       "      <td>...</td>\n",
       "      <td>400.0</td>\n",
       "      <td>Physical Force</td>\n",
       "      <td>IC</td>\n",
       "      <td>Invest Cont</td>\n",
       "      <td>Violent Crimes</td>\n",
       "      <td>4</td>\n",
       "      <td>Morning</td>\n",
       "      <td>6</td>\n",
       "      <td>5</td>\n",
       "      <td>0</td>\n",
       "    </tr>\n",
       "    <tr>\n",
       "      <th>19996</th>\n",
       "      <td>16900 ROSCOE BL</td>\n",
       "      <td></td>\n",
       "      <td>34.2212</td>\n",
       "      <td>-118.5011</td>\n",
       "      <td>2020-12-25</td>\n",
       "      <td>2020-12-25</td>\n",
       "      <td>10.0</td>\n",
       "      <td>West Valley</td>\n",
       "      <td>Rest_Reporting_District_no</td>\n",
       "      <td>1.0</td>\n",
       "      <td>...</td>\n",
       "      <td>NaN</td>\n",
       "      <td>other_weapon</td>\n",
       "      <td>IC</td>\n",
       "      <td>Invest Cont</td>\n",
       "      <td>Property Crimes</td>\n",
       "      <td>5</td>\n",
       "      <td>Night</td>\n",
       "      <td>4</td>\n",
       "      <td>12</td>\n",
       "      <td>0</td>\n",
       "    </tr>\n",
       "    <tr>\n",
       "      <th>19997</th>\n",
       "      <td>1000 S SHENANDOAH ST</td>\n",
       "      <td></td>\n",
       "      <td>34.0571</td>\n",
       "      <td>-118.3815</td>\n",
       "      <td>2020-09-25</td>\n",
       "      <td>2020-09-25</td>\n",
       "      <td>8.0</td>\n",
       "      <td>West LA</td>\n",
       "      <td>Rest_Reporting_District_no</td>\n",
       "      <td>1.0</td>\n",
       "      <td>...</td>\n",
       "      <td>NaN</td>\n",
       "      <td>Gun</td>\n",
       "      <td>IC</td>\n",
       "      <td>Invest Cont</td>\n",
       "      <td>Property Crimes</td>\n",
       "      <td>3</td>\n",
       "      <td>Daytime</td>\n",
       "      <td>4</td>\n",
       "      <td>9</td>\n",
       "      <td>0</td>\n",
       "    </tr>\n",
       "    <tr>\n",
       "      <th>19998</th>\n",
       "      <td>300 W SEPULVEDA ST</td>\n",
       "      <td></td>\n",
       "      <td>33.7451</td>\n",
       "      <td>-118.2835</td>\n",
       "      <td>2020-06-10</td>\n",
       "      <td>2020-06-10</td>\n",
       "      <td>5.0</td>\n",
       "      <td>Harbor</td>\n",
       "      <td>Rest_Reporting_District_no</td>\n",
       "      <td>2.0</td>\n",
       "      <td>...</td>\n",
       "      <td>NaN</td>\n",
       "      <td>other_weapon</td>\n",
       "      <td>IC</td>\n",
       "      <td>Invest Cont</td>\n",
       "      <td>Crimes against Public Order</td>\n",
       "      <td>6</td>\n",
       "      <td>Morning</td>\n",
       "      <td>2</td>\n",
       "      <td>6</td>\n",
       "      <td>0</td>\n",
       "    </tr>\n",
       "    <tr>\n",
       "      <th>19999</th>\n",
       "      <td>DALTON AV</td>\n",
       "      <td>VERNON AV</td>\n",
       "      <td>34.0037</td>\n",
       "      <td>-118.3034</td>\n",
       "      <td>2020-02-18</td>\n",
       "      <td>2020-02-17</td>\n",
       "      <td>3.0</td>\n",
       "      <td>Southwest</td>\n",
       "      <td>Rest_Reporting_District_no</td>\n",
       "      <td>1.0</td>\n",
       "      <td>...</td>\n",
       "      <td>NaN</td>\n",
       "      <td>other_weapon</td>\n",
       "      <td>IC</td>\n",
       "      <td>Invest Cont</td>\n",
       "      <td>Property Crimes</td>\n",
       "      <td>0</td>\n",
       "      <td>Evening</td>\n",
       "      <td>0</td>\n",
       "      <td>2</td>\n",
       "      <td>1</td>\n",
       "    </tr>\n",
       "  </tbody>\n",
       "</table>\n",
       "<p>20000 rows × 26 columns</p>\n",
       "</div>"
      ],
      "text/plain": [
       "                             Location Cross_Street  Latitude  Longitude  \\\n",
       "0                   4500 CARPENTER AV                34.1522  -118.3910   \n",
       "1                             45TH ST   ALAMEDA ST   34.0028  -118.2391   \n",
       "2      600 E MARTIN LUTHER KING JR BL                34.0111  -118.2653   \n",
       "3                 14900 ORO GRANDE ST                34.2953  -118.4590   \n",
       "4                   7100 S VERMONT AV                33.9787  -118.2918   \n",
       "...                               ...          ...       ...        ...   \n",
       "19995                 5100 W ADAMS BL                34.0334  -118.3523   \n",
       "19996                 16900 ROSCOE BL                34.2212  -118.5011   \n",
       "19997            1000 S SHENANDOAH ST                34.0571  -118.3815   \n",
       "19998              300 W SEPULVEDA ST                33.7451  -118.2835   \n",
       "19999                       DALTON AV    VERNON AV   34.0037  -118.3034   \n",
       "\n",
       "      Date_Reported Date_Occurred Area_ID    Area_Name  \\\n",
       "0        2020-03-09    2020-03-06    15.0  N Hollywood   \n",
       "1        2020-02-27    2020-02-27    13.0       Newton   \n",
       "2        2020-08-21    2020-08-21    13.0       Newton   \n",
       "3        2020-11-08    2020-11-06    19.0      Mission   \n",
       "4        2020-02-25    2020-02-25    12.0  77th Street   \n",
       "...             ...           ...     ...          ...   \n",
       "19995    2020-05-24    2020-05-24     3.0    Southwest   \n",
       "19996    2020-12-25    2020-12-25    10.0  West Valley   \n",
       "19997    2020-09-25    2020-09-25     8.0      West LA   \n",
       "19998    2020-06-10    2020-06-10     5.0       Harbor   \n",
       "19999    2020-02-18    2020-02-17     3.0    Southwest   \n",
       "\n",
       "            Reporting_District_no Part 1-2  ... Weapon_Used_Code  \\\n",
       "0      Rest_Reporting_District_no      1.0  ...              NaN   \n",
       "1      Rest_Reporting_District_no      1.0  ...            400.0   \n",
       "2      Rest_Reporting_District_no      2.0  ...              NaN   \n",
       "3      Rest_Reporting_District_no      1.0  ...              NaN   \n",
       "4      Rest_Reporting_District_no      1.0  ...            400.0   \n",
       "...                           ...      ...  ...              ...   \n",
       "19995  Rest_Reporting_District_no      2.0  ...            400.0   \n",
       "19996  Rest_Reporting_District_no      1.0  ...              NaN   \n",
       "19997  Rest_Reporting_District_no      1.0  ...              NaN   \n",
       "19998  Rest_Reporting_District_no      2.0  ...              NaN   \n",
       "19999  Rest_Reporting_District_no      1.0  ...              NaN   \n",
       "\n",
       "       Weapon_Description Status Status_Description  \\\n",
       "0          Physical Force     IC        Invest Cont   \n",
       "1          Physical Force     IC        Invest Cont   \n",
       "2          Physical Force     IC        Invest Cont   \n",
       "3                     Gun     IC        Invest Cont   \n",
       "4          Physical Force     IC        Invest Cont   \n",
       "...                   ...    ...                ...   \n",
       "19995      Physical Force     IC        Invest Cont   \n",
       "19996        other_weapon     IC        Invest Cont   \n",
       "19997                 Gun     IC        Invest Cont   \n",
       "19998        other_weapon     IC        Invest Cont   \n",
       "19999        other_weapon     IC        Invest Cont   \n",
       "\n",
       "                    Crime_Category activity_count  day_category Day_occured  \\\n",
       "0                  Property Crimes              1       Evening           4   \n",
       "1                  Property Crimes              8       Daytime           3   \n",
       "2                  Property Crimes              2       Morning           4   \n",
       "3                  Property Crimes              2       Evening           4   \n",
       "4                  Property Crimes              6       Morning           1   \n",
       "...                            ...            ...           ...         ...   \n",
       "19995               Violent Crimes              4       Morning           6   \n",
       "19996              Property Crimes              5         Night           4   \n",
       "19997              Property Crimes              3       Daytime           4   \n",
       "19998  Crimes against Public Order              6       Morning           2   \n",
       "19999              Property Crimes              0       Evening           0   \n",
       "\n",
       "      month_occured reporting_delay_day_count  \n",
       "0                 3                         3  \n",
       "1                 2                         0  \n",
       "2                 8                         0  \n",
       "3                11                         2  \n",
       "4                 2                         0  \n",
       "...             ...                       ...  \n",
       "19995             5                         0  \n",
       "19996            12                         0  \n",
       "19997             9                         0  \n",
       "19998             6                         0  \n",
       "19999             2                         1  \n",
       "\n",
       "[20000 rows x 26 columns]"
      ]
     },
     "execution_count": 51,
     "metadata": {},
     "output_type": "execute_result"
    }
   ],
   "source": [
    "train"
   ]
  },
  {
   "cell_type": "code",
   "execution_count": 52,
   "id": "6678fbda",
   "metadata": {
    "execution": {
     "iopub.execute_input": "2024-07-24T18:26:26.223913Z",
     "iopub.status.busy": "2024-07-24T18:26:26.223491Z",
     "iopub.status.idle": "2024-07-24T18:26:26.230217Z",
     "shell.execute_reply": "2024-07-24T18:26:26.229152Z"
    },
    "papermill": {
     "duration": 0.058047,
     "end_time": "2024-07-24T18:26:26.232395",
     "exception": false,
     "start_time": "2024-07-24T18:26:26.174348",
     "status": "completed"
    },
    "tags": []
   },
   "outputs": [
    {
     "data": {
      "text/plain": [
       "array([4, 3, 1, 0, 6, 5, 2], dtype=int32)"
      ]
     },
     "execution_count": 52,
     "metadata": {},
     "output_type": "execute_result"
    }
   ],
   "source": [
    "train['Day_occured'].unique()"
   ]
  },
  {
   "cell_type": "code",
   "execution_count": 53,
   "id": "64a96f2d",
   "metadata": {
    "execution": {
     "iopub.execute_input": "2024-07-24T18:26:26.308432Z",
     "iopub.status.busy": "2024-07-24T18:26:26.307488Z",
     "iopub.status.idle": "2024-07-24T18:26:26.315137Z",
     "shell.execute_reply": "2024-07-24T18:26:26.313769Z"
    },
    "papermill": {
     "duration": 0.048758,
     "end_time": "2024-07-24T18:26:26.317934",
     "exception": false,
     "start_time": "2024-07-24T18:26:26.269176",
     "status": "completed"
    },
    "tags": []
   },
   "outputs": [
    {
     "name": "stdout",
     "output_type": "stream",
     "text": [
      "[75. 41. 67. 61.  0. 50. 68. 22. 31. 46. 72. 26. 38. 37. 42. 40. 53. 60.\n",
      " 29. 13. 33. 27. 15. 23. 74. 63. 78. 51. 44. 34. 69. 36. 52. 25. 49. 48.\n",
      " 32. 18. 35. 24. 39. 16. 28. 47. 30. 64. 76.  5. 58. 45. 57. 19. 55. 54.\n",
      " 21. 65. 17. 20. 77. 82. 56. 84. 59. 43.  7. 70. 66. 62. 14. 80. 71. 81.\n",
      " 96. 12. 11.  4. 83. 10.  8.  6. 88. 86. 73.  9. 87. 85. 93. 95. 99. 79.\n",
      "  3.  2. 91. 92. 90. 89. 98. 94.]\n"
     ]
    }
   ],
   "source": [
    "print(train['Victim_Age'].unique())"
   ]
  },
  {
   "cell_type": "code",
   "execution_count": 54,
   "id": "6f97e43c",
   "metadata": {
    "execution": {
     "iopub.execute_input": "2024-07-24T18:26:26.408862Z",
     "iopub.status.busy": "2024-07-24T18:26:26.408445Z",
     "iopub.status.idle": "2024-07-24T18:26:26.427247Z",
     "shell.execute_reply": "2024-07-24T18:26:26.426077Z"
    },
    "papermill": {
     "duration": 0.060899,
     "end_time": "2024-07-24T18:26:26.429782",
     "exception": false,
     "start_time": "2024-07-24T18:26:26.368883",
     "status": "completed"
    },
    "tags": []
   },
   "outputs": [],
   "source": [
    "train.loc[:,'Victim_Age']=train.loc[:,'Victim_Age'].apply(lambda x : int(x))\n",
    "train.loc[train['Victim_Age']==0,'Victim_Age']=train['Victim_Age'].mean()\n",
    "# train.loc['Victim_Age']=train.loc['Victim_Age'].apply(lambda x: int(x))"
   ]
  },
  {
   "cell_type": "code",
   "execution_count": 55,
   "id": "2ed95e35",
   "metadata": {
    "execution": {
     "iopub.execute_input": "2024-07-24T18:26:26.507117Z",
     "iopub.status.busy": "2024-07-24T18:26:26.506125Z",
     "iopub.status.idle": "2024-07-24T18:26:26.553856Z",
     "shell.execute_reply": "2024-07-24T18:26:26.552290Z"
    },
    "papermill": {
     "duration": 0.088934,
     "end_time": "2024-07-24T18:26:26.556226",
     "exception": false,
     "start_time": "2024-07-24T18:26:26.467292",
     "status": "completed"
    },
    "tags": []
   },
   "outputs": [
    {
     "name": "stdout",
     "output_type": "stream",
     "text": [
      "<class 'pandas.core.frame.DataFrame'>\n",
      "RangeIndex: 20000 entries, 0 to 19999\n",
      "Data columns (total 26 columns):\n",
      " #   Column                     Non-Null Count  Dtype         \n",
      "---  ------                     --------------  -----         \n",
      " 0   Location                   20000 non-null  object        \n",
      " 1   Cross_Street               20000 non-null  object        \n",
      " 2   Latitude                   20000 non-null  float64       \n",
      " 3   Longitude                  20000 non-null  float64       \n",
      " 4   Date_Reported              20000 non-null  datetime64[ns]\n",
      " 5   Date_Occurred              20000 non-null  datetime64[ns]\n",
      " 6   Area_ID                    20000 non-null  object        \n",
      " 7   Area_Name                  20000 non-null  object        \n",
      " 8   Reporting_District_no      20000 non-null  object        \n",
      " 9   Part 1-2                   20000 non-null  object        \n",
      " 10  Modus_Operandi             20000 non-null  object        \n",
      " 11  Victim_Age                 20000 non-null  float64       \n",
      " 12  Victim_Sex                 20000 non-null  object        \n",
      " 13  Victim_Descent             20000 non-null  object        \n",
      " 14  Premise_Code               20000 non-null  object        \n",
      " 15  Premise_Description        19995 non-null  object        \n",
      " 16  Weapon_Used_Code           7335 non-null   float64       \n",
      " 17  Weapon_Description         20000 non-null  object        \n",
      " 18  Status                     20000 non-null  object        \n",
      " 19  Status_Description         20000 non-null  object        \n",
      " 20  Crime_Category             20000 non-null  object        \n",
      " 21  activity_count             20000 non-null  int64         \n",
      " 22  day_category               20000 non-null  object        \n",
      " 23  Day_occured                20000 non-null  int32         \n",
      " 24  month_occured              20000 non-null  int32         \n",
      " 25  reporting_delay_day_count  20000 non-null  int64         \n",
      "dtypes: datetime64[ns](2), float64(4), int32(2), int64(2), object(16)\n",
      "memory usage: 3.8+ MB\n"
     ]
    }
   ],
   "source": [
    "train.info()"
   ]
  },
  {
   "cell_type": "markdown",
   "id": "65cdcf48",
   "metadata": {
    "papermill": {
     "duration": 0.042846,
     "end_time": "2024-07-24T18:26:26.636402",
     "exception": false,
     "start_time": "2024-07-24T18:26:26.593556",
     "status": "completed"
    },
    "tags": []
   },
   "source": [
    "# Training Features"
   ]
  },
  {
   "cell_type": "code",
   "execution_count": 56,
   "id": "61f14ed9",
   "metadata": {
    "execution": {
     "iopub.execute_input": "2024-07-24T18:26:26.721877Z",
     "iopub.status.busy": "2024-07-24T18:26:26.721394Z",
     "iopub.status.idle": "2024-07-24T18:26:26.733735Z",
     "shell.execute_reply": "2024-07-24T18:26:26.732555Z"
    },
    "papermill": {
     "duration": 0.053528,
     "end_time": "2024-07-24T18:26:26.736276",
     "exception": false,
     "start_time": "2024-07-24T18:26:26.682748",
     "status": "completed"
    },
    "tags": []
   },
   "outputs": [],
   "source": [
    "numerical_columns=['Latitude','Longitude','Victim_Age','activity_count','reporting_delay_day_count']\n",
    "categorical_columns=['Area_ID','Part 1-2','Victim_Sex','Victim_Descent','Weapon_Description','Status','day_category','Day_occured','month_occured'] #ohe\n",
    "multilabel_binarizer=[['Modus_Operandi']] \n",
    "\n",
    "new_train=train[['Premise_Code','Latitude','Longitude','Victim_Age','activity_count','reporting_delay_day_count','Area_ID','Part 1-2','Victim_Sex','Victim_Descent','Weapon_Description','Status','day_category','Modus_Operandi']]\n",
    "new_train_y=train['Crime_Category']\n",
    "\n",
    "\n",
    "\n",
    "\n"
   ]
  },
  {
   "cell_type": "markdown",
   "id": "37972c6f",
   "metadata": {
    "papermill": {
     "duration": 0.036711,
     "end_time": "2024-07-24T18:26:26.810414",
     "exception": false,
     "start_time": "2024-07-24T18:26:26.773703",
     "status": "completed"
    },
    "tags": []
   },
   "source": [
    "# new Column Transformer\n"
   ]
  },
  {
   "cell_type": "code",
   "execution_count": 57,
   "id": "865d44c6",
   "metadata": {
    "execution": {
     "iopub.execute_input": "2024-07-24T18:26:26.886308Z",
     "iopub.status.busy": "2024-07-24T18:26:26.885836Z",
     "iopub.status.idle": "2024-07-24T18:26:26.901748Z",
     "shell.execute_reply": "2024-07-24T18:26:26.900576Z"
    },
    "papermill": {
     "duration": 0.057587,
     "end_time": "2024-07-24T18:26:26.904953",
     "exception": false,
     "start_time": "2024-07-24T18:26:26.847366",
     "status": "completed"
    },
    "tags": []
   },
   "outputs": [],
   "source": [
    "from sklearn.compose import ColumnTransformer\n",
    "import numpy as np\n",
    "from sklearn.preprocessing import StandardScaler , OneHotEncoder  , LabelEncoder\n",
    "\n",
    "new_ct=ColumnTransformer(transformers=[\n",
    "    \n",
    "    ('numerical_cols' , StandardScaler(),['Latitude','Longitude','reporting_delay_day_count','Victim_Age','activity_count']),\n",
    "    ('categorical_cols' , OneHotEncoder(handle_unknown='ignore',sparse_output=False),['day_category','Victim_Sex','Victim_Descent','Part 1-2','Area_ID','Status','Weapon_Description','Premise_Code']),\n",
    "    ('multi_label_binarizer', MultiLabelBinarizerWrapper(), 'Modus_Operandi'),\n",
    "#     ('target_encoder',TargetEncoder(target_type='multiclass',random_state=42),'Premise_Code')\n",
    "])"
   ]
  },
  {
   "cell_type": "code",
   "execution_count": 58,
   "id": "a469b72c",
   "metadata": {
    "execution": {
     "iopub.execute_input": "2024-07-24T18:26:26.986473Z",
     "iopub.status.busy": "2024-07-24T18:26:26.985957Z",
     "iopub.status.idle": "2024-07-24T18:26:27.017498Z",
     "shell.execute_reply": "2024-07-24T18:26:27.015782Z"
    },
    "papermill": {
     "duration": 0.072568,
     "end_time": "2024-07-24T18:26:27.019978",
     "exception": false,
     "start_time": "2024-07-24T18:26:26.947410",
     "status": "completed"
    },
    "tags": []
   },
   "outputs": [
    {
     "name": "stdout",
     "output_type": "stream",
     "text": [
      "<class 'pandas.core.frame.DataFrame'>\n",
      "RangeIndex: 20000 entries, 0 to 19999\n",
      "Data columns (total 26 columns):\n",
      " #   Column                     Non-Null Count  Dtype         \n",
      "---  ------                     --------------  -----         \n",
      " 0   Location                   20000 non-null  object        \n",
      " 1   Cross_Street               20000 non-null  object        \n",
      " 2   Latitude                   20000 non-null  float64       \n",
      " 3   Longitude                  20000 non-null  float64       \n",
      " 4   Date_Reported              20000 non-null  datetime64[ns]\n",
      " 5   Date_Occurred              20000 non-null  datetime64[ns]\n",
      " 6   Area_ID                    20000 non-null  object        \n",
      " 7   Area_Name                  20000 non-null  object        \n",
      " 8   Reporting_District_no      20000 non-null  object        \n",
      " 9   Part 1-2                   20000 non-null  object        \n",
      " 10  Modus_Operandi             20000 non-null  object        \n",
      " 11  Victim_Age                 20000 non-null  float64       \n",
      " 12  Victim_Sex                 20000 non-null  object        \n",
      " 13  Victim_Descent             20000 non-null  object        \n",
      " 14  Premise_Code               20000 non-null  object        \n",
      " 15  Premise_Description        19995 non-null  object        \n",
      " 16  Weapon_Used_Code           7335 non-null   float64       \n",
      " 17  Weapon_Description         20000 non-null  object        \n",
      " 18  Status                     20000 non-null  object        \n",
      " 19  Status_Description         20000 non-null  object        \n",
      " 20  Crime_Category             20000 non-null  object        \n",
      " 21  activity_count             20000 non-null  int64         \n",
      " 22  day_category               20000 non-null  object        \n",
      " 23  Day_occured                20000 non-null  int32         \n",
      " 24  month_occured              20000 non-null  int32         \n",
      " 25  reporting_delay_day_count  20000 non-null  int64         \n",
      "dtypes: datetime64[ns](2), float64(4), int32(2), int64(2), object(16)\n",
      "memory usage: 3.8+ MB\n"
     ]
    }
   ],
   "source": [
    "train.info()"
   ]
  },
  {
   "cell_type": "code",
   "execution_count": 59,
   "id": "238b8cf6",
   "metadata": {
    "execution": {
     "iopub.execute_input": "2024-07-24T18:26:27.095927Z",
     "iopub.status.busy": "2024-07-24T18:26:27.095539Z",
     "iopub.status.idle": "2024-07-24T18:26:27.116817Z",
     "shell.execute_reply": "2024-07-24T18:26:27.115785Z"
    },
    "papermill": {
     "duration": 0.062376,
     "end_time": "2024-07-24T18:26:27.119572",
     "exception": false,
     "start_time": "2024-07-24T18:26:27.057196",
     "status": "completed"
    },
    "tags": []
   },
   "outputs": [
    {
     "data": {
      "text/html": [
       "<div>\n",
       "<style scoped>\n",
       "    .dataframe tbody tr th:only-of-type {\n",
       "        vertical-align: middle;\n",
       "    }\n",
       "\n",
       "    .dataframe tbody tr th {\n",
       "        vertical-align: top;\n",
       "    }\n",
       "\n",
       "    .dataframe thead th {\n",
       "        text-align: right;\n",
       "    }\n",
       "</style>\n",
       "<table border=\"1\" class=\"dataframe\">\n",
       "  <thead>\n",
       "    <tr style=\"text-align: right;\">\n",
       "      <th></th>\n",
       "      <th>Premise_Code</th>\n",
       "      <th>Latitude</th>\n",
       "      <th>Longitude</th>\n",
       "      <th>Victim_Age</th>\n",
       "      <th>activity_count</th>\n",
       "      <th>reporting_delay_day_count</th>\n",
       "      <th>Area_ID</th>\n",
       "      <th>Part 1-2</th>\n",
       "      <th>Victim_Sex</th>\n",
       "      <th>Victim_Descent</th>\n",
       "      <th>Weapon_Description</th>\n",
       "      <th>Status</th>\n",
       "      <th>day_category</th>\n",
       "      <th>Modus_Operandi</th>\n",
       "    </tr>\n",
       "  </thead>\n",
       "  <tbody>\n",
       "    <tr>\n",
       "      <th>0</th>\n",
       "      <td>101.0</td>\n",
       "      <td>34.1522</td>\n",
       "      <td>-118.3910</td>\n",
       "      <td>75.0000</td>\n",
       "      <td>1</td>\n",
       "      <td>3</td>\n",
       "      <td>15.0</td>\n",
       "      <td>1.0</td>\n",
       "      <td>M</td>\n",
       "      <td>W</td>\n",
       "      <td>Physical Force</td>\n",
       "      <td>IC</td>\n",
       "      <td>Evening</td>\n",
       "      <td>0385</td>\n",
       "    </tr>\n",
       "    <tr>\n",
       "      <th>1</th>\n",
       "      <td>000</td>\n",
       "      <td>34.0028</td>\n",
       "      <td>-118.2391</td>\n",
       "      <td>41.0000</td>\n",
       "      <td>8</td>\n",
       "      <td>0</td>\n",
       "      <td>13.0</td>\n",
       "      <td>1.0</td>\n",
       "      <td>M</td>\n",
       "      <td>H</td>\n",
       "      <td>Physical Force</td>\n",
       "      <td>IC</td>\n",
       "      <td>Daytime</td>\n",
       "      <td>0906 0352 0371 0446 1822 0344 0416 0417</td>\n",
       "    </tr>\n",
       "    <tr>\n",
       "      <th>2</th>\n",
       "      <td>501.0</td>\n",
       "      <td>34.0111</td>\n",
       "      <td>-118.2653</td>\n",
       "      <td>67.0000</td>\n",
       "      <td>2</td>\n",
       "      <td>0</td>\n",
       "      <td>13.0</td>\n",
       "      <td>2.0</td>\n",
       "      <td>M</td>\n",
       "      <td>B</td>\n",
       "      <td>Physical Force</td>\n",
       "      <td>IC</td>\n",
       "      <td>Morning</td>\n",
       "      <td>0329 1202</td>\n",
       "    </tr>\n",
       "    <tr>\n",
       "      <th>3</th>\n",
       "      <td>101.0</td>\n",
       "      <td>34.2953</td>\n",
       "      <td>-118.4590</td>\n",
       "      <td>61.0000</td>\n",
       "      <td>2</td>\n",
       "      <td>2</td>\n",
       "      <td>19.0</td>\n",
       "      <td>1.0</td>\n",
       "      <td>M</td>\n",
       "      <td>H</td>\n",
       "      <td>Gun</td>\n",
       "      <td>IC</td>\n",
       "      <td>Evening</td>\n",
       "      <td>0329 1300</td>\n",
       "    </tr>\n",
       "    <tr>\n",
       "      <th>4</th>\n",
       "      <td>000</td>\n",
       "      <td>33.9787</td>\n",
       "      <td>-118.2918</td>\n",
       "      <td>30.1354</td>\n",
       "      <td>6</td>\n",
       "      <td>0</td>\n",
       "      <td>12.0</td>\n",
       "      <td>1.0</td>\n",
       "      <td>X</td>\n",
       "      <td>X</td>\n",
       "      <td>Physical Force</td>\n",
       "      <td>IC</td>\n",
       "      <td>Morning</td>\n",
       "      <td>0416 0945 1822 0400 0417 0344</td>\n",
       "    </tr>\n",
       "    <tr>\n",
       "      <th>...</th>\n",
       "      <td>...</td>\n",
       "      <td>...</td>\n",
       "      <td>...</td>\n",
       "      <td>...</td>\n",
       "      <td>...</td>\n",
       "      <td>...</td>\n",
       "      <td>...</td>\n",
       "      <td>...</td>\n",
       "      <td>...</td>\n",
       "      <td>...</td>\n",
       "      <td>...</td>\n",
       "      <td>...</td>\n",
       "      <td>...</td>\n",
       "      <td>...</td>\n",
       "    </tr>\n",
       "    <tr>\n",
       "      <th>19995</th>\n",
       "      <td>501.0</td>\n",
       "      <td>34.0334</td>\n",
       "      <td>-118.3523</td>\n",
       "      <td>51.0000</td>\n",
       "      <td>4</td>\n",
       "      <td>0</td>\n",
       "      <td>3.0</td>\n",
       "      <td>2.0</td>\n",
       "      <td>M</td>\n",
       "      <td>H</td>\n",
       "      <td>Physical Force</td>\n",
       "      <td>IC</td>\n",
       "      <td>Morning</td>\n",
       "      <td>0416 0446 2004 0913</td>\n",
       "    </tr>\n",
       "    <tr>\n",
       "      <th>19996</th>\n",
       "      <td>000</td>\n",
       "      <td>34.2212</td>\n",
       "      <td>-118.5011</td>\n",
       "      <td>30.1354</td>\n",
       "      <td>5</td>\n",
       "      <td>0</td>\n",
       "      <td>10.0</td>\n",
       "      <td>1.0</td>\n",
       "      <td>M</td>\n",
       "      <td>W</td>\n",
       "      <td>other_weapon</td>\n",
       "      <td>IC</td>\n",
       "      <td>Night</td>\n",
       "      <td>1822 0209 0344 1414 1420</td>\n",
       "    </tr>\n",
       "    <tr>\n",
       "      <th>19997</th>\n",
       "      <td>102.0</td>\n",
       "      <td>34.0571</td>\n",
       "      <td>-118.3815</td>\n",
       "      <td>42.0000</td>\n",
       "      <td>3</td>\n",
       "      <td>0</td>\n",
       "      <td>8.0</td>\n",
       "      <td>1.0</td>\n",
       "      <td>M</td>\n",
       "      <td>H</td>\n",
       "      <td>Gun</td>\n",
       "      <td>IC</td>\n",
       "      <td>Daytime</td>\n",
       "      <td>0344 1822 1420</td>\n",
       "    </tr>\n",
       "    <tr>\n",
       "      <th>19998</th>\n",
       "      <td>501.0</td>\n",
       "      <td>33.7451</td>\n",
       "      <td>-118.2835</td>\n",
       "      <td>76.0000</td>\n",
       "      <td>6</td>\n",
       "      <td>0</td>\n",
       "      <td>5.0</td>\n",
       "      <td>2.0</td>\n",
       "      <td>F</td>\n",
       "      <td>H</td>\n",
       "      <td>other_weapon</td>\n",
       "      <td>IC</td>\n",
       "      <td>Morning</td>\n",
       "      <td>1202 2038 0913 0602 1242 0553</td>\n",
       "    </tr>\n",
       "    <tr>\n",
       "      <th>19999</th>\n",
       "      <td>101.0</td>\n",
       "      <td>34.0037</td>\n",
       "      <td>-118.3034</td>\n",
       "      <td>30.1354</td>\n",
       "      <td>0</td>\n",
       "      <td>1</td>\n",
       "      <td>3.0</td>\n",
       "      <td>1.0</td>\n",
       "      <td>F</td>\n",
       "      <td>H</td>\n",
       "      <td>other_weapon</td>\n",
       "      <td>IC</td>\n",
       "      <td>Evening</td>\n",
       "      <td></td>\n",
       "    </tr>\n",
       "  </tbody>\n",
       "</table>\n",
       "<p>20000 rows × 14 columns</p>\n",
       "</div>"
      ],
      "text/plain": [
       "      Premise_Code  Latitude  Longitude  Victim_Age  activity_count  \\\n",
       "0            101.0   34.1522  -118.3910     75.0000               1   \n",
       "1              000   34.0028  -118.2391     41.0000               8   \n",
       "2            501.0   34.0111  -118.2653     67.0000               2   \n",
       "3            101.0   34.2953  -118.4590     61.0000               2   \n",
       "4              000   33.9787  -118.2918     30.1354               6   \n",
       "...            ...       ...        ...         ...             ...   \n",
       "19995        501.0   34.0334  -118.3523     51.0000               4   \n",
       "19996          000   34.2212  -118.5011     30.1354               5   \n",
       "19997        102.0   34.0571  -118.3815     42.0000               3   \n",
       "19998        501.0   33.7451  -118.2835     76.0000               6   \n",
       "19999        101.0   34.0037  -118.3034     30.1354               0   \n",
       "\n",
       "       reporting_delay_day_count Area_ID Part 1-2 Victim_Sex Victim_Descent  \\\n",
       "0                              3    15.0      1.0          M              W   \n",
       "1                              0    13.0      1.0          M              H   \n",
       "2                              0    13.0      2.0          M              B   \n",
       "3                              2    19.0      1.0          M              H   \n",
       "4                              0    12.0      1.0          X              X   \n",
       "...                          ...     ...      ...        ...            ...   \n",
       "19995                          0     3.0      2.0          M              H   \n",
       "19996                          0    10.0      1.0          M              W   \n",
       "19997                          0     8.0      1.0          M              H   \n",
       "19998                          0     5.0      2.0          F              H   \n",
       "19999                          1     3.0      1.0          F              H   \n",
       "\n",
       "      Weapon_Description Status day_category  \\\n",
       "0         Physical Force     IC      Evening   \n",
       "1         Physical Force     IC      Daytime   \n",
       "2         Physical Force     IC      Morning   \n",
       "3                    Gun     IC      Evening   \n",
       "4         Physical Force     IC      Morning   \n",
       "...                  ...    ...          ...   \n",
       "19995     Physical Force     IC      Morning   \n",
       "19996       other_weapon     IC        Night   \n",
       "19997                Gun     IC      Daytime   \n",
       "19998       other_weapon     IC      Morning   \n",
       "19999       other_weapon     IC      Evening   \n",
       "\n",
       "                                Modus_Operandi  \n",
       "0                                         0385  \n",
       "1      0906 0352 0371 0446 1822 0344 0416 0417  \n",
       "2                                    0329 1202  \n",
       "3                                    0329 1300  \n",
       "4                0416 0945 1822 0400 0417 0344  \n",
       "...                                        ...  \n",
       "19995                      0416 0446 2004 0913  \n",
       "19996                 1822 0209 0344 1414 1420  \n",
       "19997                           0344 1822 1420  \n",
       "19998            1202 2038 0913 0602 1242 0553  \n",
       "19999                                           \n",
       "\n",
       "[20000 rows x 14 columns]"
      ]
     },
     "execution_count": 59,
     "metadata": {},
     "output_type": "execute_result"
    }
   ],
   "source": [
    "new_train"
   ]
  },
  {
   "cell_type": "code",
   "execution_count": 60,
   "id": "a73767b6",
   "metadata": {
    "execution": {
     "iopub.execute_input": "2024-07-24T18:26:27.204639Z",
     "iopub.status.busy": "2024-07-24T18:26:27.204142Z",
     "iopub.status.idle": "2024-07-24T18:26:27.313544Z",
     "shell.execute_reply": "2024-07-24T18:26:27.312312Z"
    },
    "papermill": {
     "duration": 0.151288,
     "end_time": "2024-07-24T18:26:27.316430",
     "exception": false,
     "start_time": "2024-07-24T18:26:27.165142",
     "status": "completed"
    },
    "tags": []
   },
   "outputs": [],
   "source": [
    "from sklearn.linear_model import LogisticRegression,LogisticRegressionCV\n",
    "from sklearn.pipeline import Pipeline\n",
    "from sklearn.compose import ColumnTransformer\n",
    "\n",
    "\n",
    "from sklearn.model_selection import StratifiedKFold\n",
    "\n",
    "from sklearn.metrics import accuracy_score,f1_score"
   ]
  },
  {
   "cell_type": "markdown",
   "id": "80deb705",
   "metadata": {
    "papermill": {
     "duration": 0.040828,
     "end_time": "2024-07-24T18:26:27.394376",
     "exception": false,
     "start_time": "2024-07-24T18:26:27.353548",
     "status": "completed"
    },
    "tags": []
   },
   "source": [
    "# train_test_split"
   ]
  },
  {
   "cell_type": "code",
   "execution_count": 61,
   "id": "283cbd33",
   "metadata": {
    "execution": {
     "iopub.execute_input": "2024-07-24T18:26:27.471817Z",
     "iopub.status.busy": "2024-07-24T18:26:27.470966Z",
     "iopub.status.idle": "2024-07-24T18:26:27.506149Z",
     "shell.execute_reply": "2024-07-24T18:26:27.505065Z"
    },
    "papermill": {
     "duration": 0.076674,
     "end_time": "2024-07-24T18:26:27.508754",
     "exception": false,
     "start_time": "2024-07-24T18:26:27.432080",
     "status": "completed"
    },
    "tags": []
   },
   "outputs": [],
   "source": [
    "# df.shape\n",
    "\n",
    "from sklearn.model_selection import train_test_split\n",
    "\n",
    "xtrain_1 , xtest_1 , ytrain_1 , ytest_1 = train_test_split(new_train ,new_train_y ,test_size=0.3 , random_state=42 ,shuffle=True,stratify = new_train_y )"
   ]
  },
  {
   "cell_type": "markdown",
   "id": "8bfc97d4",
   "metadata": {
    "papermill": {
     "duration": 0.037748,
     "end_time": "2024-07-24T18:26:27.584225",
     "exception": false,
     "start_time": "2024-07-24T18:26:27.546477",
     "status": "completed"
    },
    "tags": []
   },
   "source": [
    "# DummyClassifier"
   ]
  },
  {
   "cell_type": "code",
   "execution_count": 62,
   "id": "fd6245a0",
   "metadata": {
    "execution": {
     "iopub.execute_input": "2024-07-24T18:26:27.662464Z",
     "iopub.status.busy": "2024-07-24T18:26:27.662065Z",
     "iopub.status.idle": "2024-07-24T18:26:28.415981Z",
     "shell.execute_reply": "2024-07-24T18:26:28.414651Z"
    },
    "papermill": {
     "duration": 0.79558,
     "end_time": "2024-07-24T18:26:28.418470",
     "exception": false,
     "start_time": "2024-07-24T18:26:27.622890",
     "status": "completed"
    },
    "tags": []
   },
   "outputs": [
    {
     "name": "stdout",
     "output_type": "stream",
     "text": [
      "Accuracy scores for each fold:  [0.5835714285714285, 0.5832142857142857, 0.5832142857142857, 0.5832142857142857, 0.5832142857142857]\n",
      "Average accuracy:  0.5832857142857142\n",
      "F1 scores for each fold:  [0.4301108318834976, 0.42968144758467347, 0.42968144758467347, 0.42968144758467347, 0.42968144758467347]\n",
      "Average F1 score:  0.42976732444443827\n"
     ]
    }
   ],
   "source": [
    "from sklearn.dummy import DummyClassifier\n",
    "\n",
    "data_split= StratifiedKFold(n_splits=5, shuffle=True, random_state=42)\n",
    "\n",
    "\n",
    "model_dummy=DummyClassifier(random_state=42 , strategy=\"most_frequent\")\n",
    "\n",
    "dummy_pipeline=Pipeline(steps=[('new_ct',new_ct),('model_dummy',model_dummy)])\n",
    "\n",
    "\n",
    "\n",
    "accuracy_scores_dummy_pipeline = []\n",
    "f1_scores_dummy_pipeline = []\n",
    "\n",
    "\n",
    "\n",
    "for train_index, test_index in data_split.split(xtrain_1, ytrain_1):\n",
    "    X_train, X_test = xtrain_1.iloc[train_index], xtrain_1.iloc[test_index]\n",
    "    y_train, y_test = ytrain_1.iloc[train_index], ytrain_1.iloc[test_index]\n",
    "    \n",
    "    dummy_pipeline.fit(X_train, y_train)\n",
    "    \n",
    "    y_pred = dummy_pipeline.predict(X_test)\n",
    "    accuracy = accuracy_score(y_test, y_pred)\n",
    "    f1 = f1_score(y_test, y_pred, average='weighted')\n",
    "    accuracy_scores_dummy_pipeline.append(accuracy)\n",
    "    f1_scores_dummy_pipeline.append(f1)\n",
    "    \n",
    "    \n",
    "    \n",
    "    \n",
    "    \n",
    "    \n",
    "    \n",
    "print(\"Accuracy scores for each fold: \", accuracy_scores_dummy_pipeline)\n",
    "print(\"Average accuracy: \", np.mean(accuracy_scores_dummy_pipeline))\n",
    "print(\"F1 scores for each fold: \", f1_scores_dummy_pipeline)\n",
    "print(\"Average F1 score: \", np.mean(f1_scores_dummy_pipeline))\n",
    "    \n",
    "    \n",
    "    \n"
   ]
  },
  {
   "cell_type": "markdown",
   "id": "9d325005",
   "metadata": {
    "papermill": {
     "duration": 0.039078,
     "end_time": "2024-07-24T18:26:28.495139",
     "exception": false,
     "start_time": "2024-07-24T18:26:28.456061",
     "status": "completed"
    },
    "tags": []
   },
   "source": [
    "# KMEANs"
   ]
  },
  {
   "cell_type": "code",
   "execution_count": 63,
   "id": "5b2942d0",
   "metadata": {
    "execution": {
     "iopub.execute_input": "2024-07-24T18:26:28.574801Z",
     "iopub.status.busy": "2024-07-24T18:26:28.574397Z",
     "iopub.status.idle": "2024-07-24T18:26:28.578987Z",
     "shell.execute_reply": "2024-07-24T18:26:28.577937Z"
    },
    "papermill": {
     "duration": 0.046033,
     "end_time": "2024-07-24T18:26:28.581094",
     "exception": false,
     "start_time": "2024-07-24T18:26:28.535061",
     "status": "completed"
    },
    "tags": []
   },
   "outputs": [],
   "source": [
    "# from sklearn.cluster import KMeans\n",
    "# KMEANS = KMeans(init=\"random\",n_clusters=400,n_init=50,max_iter=1000,random_state=0)\n",
    "# kmeans=Pipeline(steps=[('new_ct',new_ct),('KMEANS',KMEANS)])\n",
    "\n",
    "# kmeans.fit(xtrain_1, ytrain_1)\n",
    "# # y_pred_kmeans = kmeans.predict(X_test)\n",
    "# kmeans.score(xtest_1,ytest_1)\n",
    "# # print(accuracy)\n"
   ]
  },
  {
   "cell_type": "markdown",
   "id": "43067ad4",
   "metadata": {
    "papermill": {
     "duration": 0.038102,
     "end_time": "2024-07-24T18:26:28.656639",
     "exception": false,
     "start_time": "2024-07-24T18:26:28.618537",
     "status": "completed"
    },
    "tags": []
   },
   "source": [
    "# MLP Classifier"
   ]
  },
  {
   "cell_type": "code",
   "execution_count": 64,
   "id": "fd5089f3",
   "metadata": {
    "execution": {
     "iopub.execute_input": "2024-07-24T18:26:28.736762Z",
     "iopub.status.busy": "2024-07-24T18:26:28.736377Z",
     "iopub.status.idle": "2024-07-24T18:26:28.743268Z",
     "shell.execute_reply": "2024-07-24T18:26:28.742076Z"
    },
    "papermill": {
     "duration": 0.04937,
     "end_time": "2024-07-24T18:26:28.745558",
     "exception": false,
     "start_time": "2024-07-24T18:26:28.696188",
     "status": "completed"
    },
    "tags": []
   },
   "outputs": [],
   "source": [
    "# from sklearn.neural_network import MLPClassifier\n",
    "\n",
    "# # pipe_logistic_model = Pipeline(steps=[('new_ct',new_ct),('logistic_reg',LogisticRegression( max_iter=1200 ,random_state=42))])\n",
    "\n",
    "# mlp_classifier=Pipeline(steps=[('new_ct',new_ct),('MLPClassifier',MLPClassifier(hidden_layer_sizes=(128,),max_iter=900,random_state=1))])\n",
    "# mlp_classifier.fit(xtrain_1, ytrain_1)\n",
    "# y_pred_mlp_classifier = mlp_classifier.predict(X_test)\n",
    "\n",
    "# mlp_classifier.score(xtest_1,ytest_1)\n",
    "\n",
    "\n",
    "# -------------------------------------------------------------------------------------------------------------------------------------------------------------------------------\n",
    "# -------------------------------------------------------------------------------------------------------------------------------------------------------------------------------\n",
    "# model_score_mlp_classifier=[]\n",
    "# accuracy_scores_mlp_classifier = []\n",
    "# f1_scores_mlp_classifier = []\n",
    "\n",
    "# for train_index, test_index in data_split.split(xtrain_1, ytrain_1):\n",
    "#     X_train, X_test = xtrain_1.iloc[train_index], xtrain_1.iloc[test_index]\n",
    "#     y_train, y_test = ytrain_1.iloc[train_index], ytrain_1.iloc[test_index]\n",
    "    \n",
    "#     mlp_classifier.fit(X_train, y_train)\n",
    "    \n",
    "#     y_pred_mlp_classifier = mlp_classifier.predict(X_test)\n",
    "    \n",
    "    \n",
    "#     model_score=mlp_classifier.score(X_test,y_test)\n",
    "\n",
    "#     accuracy = accuracy_score(y_test, y_pred_mlp_classifier)\n",
    "#     f1 = f1_score(y_test, y_pred_mlp_classifier, average='weighted')\n",
    "#     accuracy_scores_mlp_classifier.append(accuracy)\n",
    "#     f1_scores_mlp_classifier.append(f1)\n",
    "#     model_score_mlp_classifier.append(model_score)\n",
    "\n",
    "\n",
    "\n",
    "\n",
    "\n",
    "# print(\"Accuracy scores for each fold using mlp_classifier: \", accuracy_scores_mlp_classifier)\n",
    "# print(\"Average accuracy using mlp_classifier: \", np.mean(accuracy_scores_mlp_classifier))\n",
    "# print(\"F1 scores for each fold using mlp_classifier: \", f1_scores_mlp_classifier)\n",
    "# print(\"Average F1 score using mlp_classifier: \", np.mean(f1_scores_mlp_classifier))\n",
    "# print(\"model_score_test list  using mlp_classifier \" ,model_score_mlp_classifier )\n",
    "# print(\"average model_score_test list  using mlp_classifier \" , np.mean(model_score_mlp_classifier ))\n",
    "\n",
    "\n",
    "\n",
    "\n",
    "\n",
    "# Accuracy scores for each fold using mlp_classifier:  [0.8475, 0.8264285714285714, 0.8492857142857143, 0.85, 0.8517857142857143]\n",
    "# Average accuracy using mlp_classifier:  0.8450000000000001\n",
    "# F1 scores for each fold using mlp_classifier:  [0.8476026036623197, 0.825797945097455, 0.8468127723172977, 0.846786977387749, 0.8467937847115835]\n",
    "# Average F1 score using mlp_classifier:  0.8427588166352808\n",
    "# model_score_test list  using mlp_classifier  [0.8475, 0.8264285714285714, 0.8492857142857143, 0.85, 0.8517857142857143]\n",
    "# average model_score_test list  using mlp_classifier  0.8450000000000001\n",
    "\n",
    "\n",
    "\n",
    "\n",
    "\n",
    "\n",
    "# -------------------------------------------------------------------------------------------------------------------------------------------------------------------------------    \n",
    "# -------------------------------------------------------------------------------------------------------------------------------------------------------------------------------  \n",
    "    # learning_strategy=['constant','invscaling']\n",
    "# activation_func=['identity', 'logistic', 'tanh', 'relu']\n",
    "# alphas = np.logspace(-1, 1, 5)\n"
   ]
  },
  {
   "cell_type": "markdown",
   "id": "f23d773e",
   "metadata": {
    "papermill": {
     "duration": 0.037742,
     "end_time": "2024-07-24T18:26:28.822349",
     "exception": false,
     "start_time": "2024-07-24T18:26:28.784607",
     "status": "completed"
    },
    "tags": []
   },
   "source": []
  },
  {
   "cell_type": "markdown",
   "id": "3e227548",
   "metadata": {
    "papermill": {
     "duration": 0.037014,
     "end_time": "2024-07-24T18:26:28.896884",
     "exception": false,
     "start_time": "2024-07-24T18:26:28.859870",
     "status": "completed"
    },
    "tags": []
   },
   "source": [
    "# Logistic"
   ]
  },
  {
   "cell_type": "markdown",
   "id": "adb262ff",
   "metadata": {
    "papermill": {
     "duration": 0.03776,
     "end_time": "2024-07-24T18:26:28.973743",
     "exception": false,
     "start_time": "2024-07-24T18:26:28.935983",
     "status": "completed"
    },
    "tags": []
   },
   "source": [
    "Logistic Full Model"
   ]
  },
  {
   "cell_type": "code",
   "execution_count": 65,
   "id": "7700a438",
   "metadata": {
    "execution": {
     "iopub.execute_input": "2024-07-24T18:26:29.050311Z",
     "iopub.status.busy": "2024-07-24T18:26:29.049921Z",
     "iopub.status.idle": "2024-07-24T18:26:29.055891Z",
     "shell.execute_reply": "2024-07-24T18:26:29.054800Z"
    },
    "papermill": {
     "duration": 0.046633,
     "end_time": "2024-07-24T18:26:29.058082",
     "exception": false,
     "start_time": "2024-07-24T18:26:29.011449",
     "status": "completed"
    },
    "tags": []
   },
   "outputs": [],
   "source": [
    "# from sklearn.linear_model import LogisticRegression\n",
    "\n",
    "# pipe_logistic_model = Pipeline(steps=[('new_ct',new_ct),('logistic_reg',LogisticRegression( max_iter=1200 ,random_state=42))])\n",
    "\n",
    "# model_score_test=[]\n",
    "# accuracy_scores_logistic_pipeline = []\n",
    "# f1_scores_logistic_pipeline = []\n",
    "\n",
    "\n",
    "\n",
    "# for train_index, test_index in data_split.split(new_train, new_train_y):\n",
    "#     X_train, X_test = new_train.iloc[train_index], new_train.iloc[test_index]\n",
    "#     y_train, y_test = new_train_y.iloc[train_index], new_train_y.iloc[test_index]\n",
    "    \n",
    "#     pipe_logistic_model.fit(X_train, y_train)\n",
    "    \n",
    "#     y_pred_pipe_logistic_model = pipe_logistic_model.predict(X_test)\n",
    "    \n",
    "    \n",
    "#     model_score=pipe_logistic_model.score(X_test,y_test)\n",
    "\n",
    "#     accuracy = accuracy_score(y_test, y_pred_pipe_logistic_model)\n",
    "#     f1 = f1_score(y_test, y_pred_pipe_logistic_model, average='weighted')\n",
    "#     accuracy_scores_logistic_pipeline.append(accuracy)\n",
    "#     f1_scores_logistic_pipeline.append(f1)\n",
    "#     model_score_test.append(model_score)\n",
    "    \n",
    "    \n",
    "    \n",
    "    \n",
    "    \n",
    "    \n",
    "    \n",
    "# print(\"Accuracy scores for each fold using pipe_logistic_model: \", accuracy_scores_logistic_pipeline)\n",
    "# print(\"Average accuracy using pipe_logistic_model: \", np.mean(accuracy_scores_logistic_pipeline))\n",
    "# print(\"F1 scores for each fold using pipe_logistic_model: \", f1_scores_logistic_pipeline)\n",
    "# print(\"Average F1 score using pipe_logistic_model: \", np.mean(f1_scores_logistic_pipeline))\n",
    "# print(\"model_score_test list  using pipe_logistic_model \" ,model_score_test )\n",
    "\n",
    "\n",
    "\n",
    "# Accuracy scores for each fold using pipe_logistic_model:  [0.83425, 0.82275, 0.83175, 0.8265, 0.8315]\n",
    "# Average accuracy using pipe_logistic_model:  0.82935\n",
    "# F1 scores for each fold using pipe_logistic_model:  [0.8255777923734429, 0.8158475228942185, 0.8238784670202315, 0.8192799452863958, 0.821603454847757]\n",
    "# Average F1 score using pipe_logistic_model:  0.8212374364844092\n",
    "# model_score_test list  using pipe_logistic_model  [0.83425, 0.82275, 0.83175, 0.8265, 0.8315]\n",
    "\n",
    "\n",
    "\n"
   ]
  },
  {
   "cell_type": "markdown",
   "id": "82ecddaf",
   "metadata": {
    "papermill": {
     "duration": 0.037414,
     "end_time": "2024-07-24T18:26:29.133381",
     "exception": false,
     "start_time": "2024-07-24T18:26:29.095967",
     "status": "completed"
    },
    "tags": []
   },
   "source": [
    "Logistic Half model"
   ]
  },
  {
   "cell_type": "code",
   "execution_count": 66,
   "id": "f7eddbda",
   "metadata": {
    "execution": {
     "iopub.execute_input": "2024-07-24T18:26:29.210443Z",
     "iopub.status.busy": "2024-07-24T18:26:29.210053Z",
     "iopub.status.idle": "2024-07-24T18:26:42.124377Z",
     "shell.execute_reply": "2024-07-24T18:26:42.123249Z"
    },
    "papermill": {
     "duration": 12.956631,
     "end_time": "2024-07-24T18:26:42.127796",
     "exception": false,
     "start_time": "2024-07-24T18:26:29.171165",
     "status": "completed"
    },
    "tags": []
   },
   "outputs": [
    {
     "name": "stdout",
     "output_type": "stream",
     "text": [
      "Accuracy scores for each fold using pipe_logistic_model:  [0.8335714285714285, 0.8292857142857143, 0.8317857142857142, 0.8221428571428572, 0.82]\n",
      "Average accuracy using pipe_logistic_model:  0.8273571428571428\n",
      "F1 scores for each fold using pipe_logistic_model:  [0.8266880398886842, 0.8211086253224944, 0.8244643116472558, 0.813739401788833, 0.8131040548430712]\n",
      "Average F1 score using pipe_logistic_model:  0.8198208866980676\n",
      "model_score_test list  using pipe_logistic_model  [0.8335714285714285, 0.8292857142857143, 0.8317857142857142, 0.8221428571428572, 0.82]\n"
     ]
    }
   ],
   "source": [
    "from sklearn.linear_model import LogisticRegression\n",
    "\n",
    "pipe_logistic_model_2 = Pipeline(steps=[('new_ct',new_ct),('logistic_reg',LogisticRegression( max_iter=1200 ,random_state=42))])\n",
    "\n",
    "model_score_test=[]\n",
    "accuracy_scores_logistic_pipeline = []\n",
    "f1_scores_logistic_pipeline = []\n",
    "\n",
    "\n",
    "\n",
    "for train_index, test_index in data_split.split(xtrain_1, ytrain_1):\n",
    "    X_train, X_test = xtrain_1.iloc[train_index], xtrain_1.iloc[test_index]\n",
    "    y_train, y_test = ytrain_1.iloc[train_index], ytrain_1.iloc[test_index]\n",
    "    \n",
    "    pipe_logistic_model_2.fit(X_train, y_train)\n",
    "    \n",
    "    y_pred_pipe_logistic_model_2 = pipe_logistic_model_2.predict(X_test)\n",
    "    \n",
    "    \n",
    "    model_score=pipe_logistic_model_2.score(X_test,y_test)\n",
    "\n",
    "    accuracy = accuracy_score(y_test, y_pred_pipe_logistic_model_2)\n",
    "    f1 = f1_score(y_test, y_pred_pipe_logistic_model_2, average='weighted')\n",
    "    accuracy_scores_logistic_pipeline.append(accuracy)\n",
    "    f1_scores_logistic_pipeline.append(f1)\n",
    "    model_score_test.append(model_score)\n",
    "    \n",
    "    \n",
    "    \n",
    "    \n",
    "    \n",
    "    \n",
    "    \n",
    "print(\"Accuracy scores for each fold using pipe_logistic_model: \", accuracy_scores_logistic_pipeline)\n",
    "print(\"Average accuracy using pipe_logistic_model: \", np.mean(accuracy_scores_logistic_pipeline))\n",
    "print(\"F1 scores for each fold using pipe_logistic_model: \", f1_scores_logistic_pipeline)\n",
    "print(\"Average F1 score using pipe_logistic_model: \", np.mean(f1_scores_logistic_pipeline))\n",
    "print(\"model_score_test list  using pipe_logistic_model \" ,model_score_test )\n",
    "\n"
   ]
  },
  {
   "cell_type": "markdown",
   "id": "94fd34eb",
   "metadata": {
    "papermill": {
     "duration": 0.038529,
     "end_time": "2024-07-24T18:26:42.229825",
     "exception": false,
     "start_time": "2024-07-24T18:26:42.191296",
     "status": "completed"
    },
    "tags": []
   },
   "source": [
    "\n",
    "# SVC\n"
   ]
  },
  {
   "cell_type": "code",
   "execution_count": 67,
   "id": "e98c43d1",
   "metadata": {
    "execution": {
     "iopub.execute_input": "2024-07-24T18:26:42.306782Z",
     "iopub.status.busy": "2024-07-24T18:26:42.306014Z",
     "iopub.status.idle": "2024-07-24T18:26:42.311376Z",
     "shell.execute_reply": "2024-07-24T18:26:42.310409Z"
    },
    "papermill": {
     "duration": 0.045863,
     "end_time": "2024-07-24T18:26:42.313555",
     "exception": false,
     "start_time": "2024-07-24T18:26:42.267692",
     "status": "completed"
    },
    "tags": []
   },
   "outputs": [],
   "source": [
    "# from sklearn.svm import SVC\n",
    "# pipe_svc_half=Pipeline(steps=[('new_ct',new_ct),('svc',SVC(decision_function_shape='ovr'))])\n",
    "\n",
    "\n",
    "# model_score_test_half=[]\n",
    "# accuracy_scores_SVC_half = []\n",
    "# f1_scores_SVC_half = []\n",
    "\n",
    "\n",
    "\n",
    "# for train_index, test_index in data_split.split(xtrain_1, ytrain_1):\n",
    "#     X_train, X_test = xtrain_1.iloc[train_index], xtrain_1.iloc[test_index]\n",
    "#     y_train, y_test = ytrain_1.iloc[train_index], ytrain_1.iloc[test_index]\n",
    "    \n",
    "#     pipe_svc_half.fit(X_train, y_train)\n",
    "    \n",
    "#     y_pred_svc_half = pipe_svc_half.predict(X_test)\n",
    "    \n",
    "    \n",
    "#     model_score_svc=pipe_svc_half.score(X_test,y_test)\n",
    "    \n",
    "\n",
    "#     accuracy_svc = accuracy_score(y_test, y_pred_svc_half)\n",
    "    \n",
    "    \n",
    "#     f1_svc = f1_score(y_test, y_pred_svc_half, average='weighted')\n",
    "    \n",
    "    \n",
    "#     accuracy_scores_SVC_half.append(accuracy_svc)\n",
    "#     f1_scores_SVC_half.append(f1_svc)\n",
    "#     model_score_test_half.append(model_score_svc)\n",
    "    \n",
    "    \n",
    "    \n",
    "    \n",
    "    \n",
    "    \n",
    "    \n",
    "# print(\"Accuracy scores for each fold using pipe_logistic_model: \", accuracy_scores_SVC_half)\n",
    "# print(\"Average accuracy using pipe_logistic_model: \", np.mean(accuracy_scores_SVC_half))\n",
    "# print(\"F1 scores for each fold using pipe_logistic_model: \", f1_scores_SVC_half)\n",
    "# print(\"Average F1 score using pipe_logistic_model: \", np.mean(f1_scores_SVC_half))\n",
    "# print(\"model_score_test list  using pipe_logistic_model \" ,model_score_test_half )\n",
    "\n"
   ]
  },
  {
   "cell_type": "code",
   "execution_count": 68,
   "id": "67071517",
   "metadata": {
    "execution": {
     "iopub.execute_input": "2024-07-24T18:26:42.391084Z",
     "iopub.status.busy": "2024-07-24T18:26:42.390405Z",
     "iopub.status.idle": "2024-07-24T18:26:42.395919Z",
     "shell.execute_reply": "2024-07-24T18:26:42.394813Z"
    },
    "papermill": {
     "duration": 0.046918,
     "end_time": "2024-07-24T18:26:42.398021",
     "exception": false,
     "start_time": "2024-07-24T18:26:42.351103",
     "status": "completed"
    },
    "tags": []
   },
   "outputs": [],
   "source": [
    "# from sklearn.svm import SVC\n",
    "# pipe_svc_full=Pipeline(steps=[('new_ct',new_ct),('svc',SVC(decision_function_shape='ovr'))])\n",
    "\n",
    "\n",
    "# model_score_test_full=[]\n",
    "# accuracy_scores_SVC_full = []\n",
    "# f1_scores_SVC_full = []\n",
    "\n",
    "\n",
    "\n",
    "# for train_index, test_index in data_split.split(new_train, new_train_y):\n",
    "#     X_train, X_test = new_train.iloc[train_index], new_train.iloc[test_index]\n",
    "#     y_train, y_test = new_train_y.iloc[train_index], new_train_y.iloc[test_index]\n",
    "    \n",
    "#     pipe_svc_full.fit(X_train, y_train)\n",
    "    \n",
    "#     y_pred_svc_full = pipe_svc_full.predict(X_test)\n",
    "    \n",
    "    \n",
    "#     model_score_svc=pipe_svc_full.score(X_test,y_test)\n",
    "\n",
    "#     accuracy_svc = accuracy_score(y_test, y_pred_svc_full)\n",
    "    \n",
    "#     f1_svc = f1_score(y_test, y_pred_svc_full, average='weighted')\n",
    "    \n",
    "    \n",
    "#     accuracy_scores_SVC_full.append(accuracy_svc)\n",
    "#     f1_scores_SVC_full.append(f1_svc)\n",
    "#     model_score_test_full.append(model_score_svc)\n",
    "    \n",
    "    \n",
    "    \n",
    "    \n",
    "    \n",
    "    \n",
    "    \n",
    "# print(\"Accuracy scores for each fold using pipe_logistic_model: \", accuracy_scores_SVC_full)\n",
    "# print(\"Average accuracy using pipe_logistic_model: \", np.mean(accuracy_scores_SVC_full))\n",
    "# print(\"F1 scores for each fold using pipe_logistic_model: \", f1_scores_SVC_full)\n",
    "# print(\"Average F1 score using pipe_logistic_model: \", np.mean(f1_scores_SVC_full))\n",
    "# print(\"model_score_test list  using pipe_logistic_model \" ,model_score_test_full )\n",
    "\n"
   ]
  },
  {
   "cell_type": "markdown",
   "id": "13f9b36e",
   "metadata": {
    "papermill": {
     "duration": 0.036776,
     "end_time": "2024-07-24T18:26:42.471994",
     "exception": false,
     "start_time": "2024-07-24T18:26:42.435218",
     "status": "completed"
    },
    "tags": []
   },
   "source": [
    "# KNN"
   ]
  },
  {
   "cell_type": "code",
   "execution_count": 69,
   "id": "be861be4",
   "metadata": {
    "execution": {
     "iopub.execute_input": "2024-07-24T18:26:42.549647Z",
     "iopub.status.busy": "2024-07-24T18:26:42.549240Z",
     "iopub.status.idle": "2024-07-24T18:26:42.554664Z",
     "shell.execute_reply": "2024-07-24T18:26:42.553605Z"
    },
    "papermill": {
     "duration": 0.047819,
     "end_time": "2024-07-24T18:26:42.556907",
     "exception": false,
     "start_time": "2024-07-24T18:26:42.509088",
     "status": "completed"
    },
    "tags": []
   },
   "outputs": [],
   "source": [
    "# from sklearn.neighbors import KNeighborsClassifier\n",
    "# knn_classifier_half=Pipeline(steps=[('new_ct' , new_ct ),( 'knn' ,KNeighborsClassifier(n_neighbors=16 , p=1,leaf_size=19 ,weights='distance'))])\n",
    "\n",
    "# KNN_model_score_test_half=[]\n",
    "# accuracy_scores_KNN_half = []\n",
    "# f1_scores_KNN_half = []\n",
    "\n",
    "\n",
    "\n",
    "# for train_index, test_index in data_split.split(xtrain_1, ytrain_1):\n",
    "#     X_train, X_test = xtrain_1.iloc[train_index], xtrain_1.iloc[test_index]\n",
    "#     y_train, y_test = ytrain_1.iloc[train_index], ytrain_1.iloc[test_index]\n",
    "    \n",
    "#     knn_classifier_half.fit(X_train, y_train)\n",
    "    \n",
    "#     y_pred_KNN_half = knn_classifier_half.predict(X_test)\n",
    "    \n",
    "    \n",
    "#     model_score_KNN=knn_classifier_half.score(X_test,y_test)\n",
    "    \n",
    "\n",
    "#     accuracy_KNN = accuracy_score(y_test, y_pred_KNN_half)\n",
    "    \n",
    "    \n",
    "#     f1_KNN = f1_score(y_test, y_pred_KNN_half, average='weighted')\n",
    "    \n",
    "    \n",
    "#     accuracy_scores_KNN_half.append(accuracy_KNN)\n",
    "    \n",
    "#     f1_scores_KNN_half.append(f1_KNN)\n",
    "    \n",
    "#     KNN_model_score_test_half.append(model_score_KNN)\n",
    "    \n",
    "    \n",
    "    \n",
    "    \n",
    "    \n",
    "    \n",
    "    \n",
    "# print(\"Accuracy scores for each fold using pipe_logistic_model: \", accuracy_scores_KNN_half)\n",
    "# print(\"Average accuracy using pipe_logistic_model: \", np.mean(accuracy_scores_KNN_half))\n",
    "# print(\"F1 scores for each fold using pipe_logistic_model: \", f1_scores_KNN_half)\n",
    "# print(\"Average F1 score using pipe_logistic_model: \", np.mean(f1_scores_KNN_half))\n",
    "# print(\"model_score_test list  using pipe_logistic_model \" ,KNN_model_score_test_half )\n"
   ]
  },
  {
   "cell_type": "code",
   "execution_count": 70,
   "id": "56511dd8",
   "metadata": {
    "execution": {
     "iopub.execute_input": "2024-07-24T18:26:42.634339Z",
     "iopub.status.busy": "2024-07-24T18:26:42.633528Z",
     "iopub.status.idle": "2024-07-24T18:26:42.639364Z",
     "shell.execute_reply": "2024-07-24T18:26:42.638343Z"
    },
    "papermill": {
     "duration": 0.047161,
     "end_time": "2024-07-24T18:26:42.641562",
     "exception": false,
     "start_time": "2024-07-24T18:26:42.594401",
     "status": "completed"
    },
    "tags": []
   },
   "outputs": [],
   "source": [
    "# from sklearn.neighbors import KNeighborsClassifier\n",
    "# knn_classifier_full=Pipeline(steps=[('new_ct' , new_ct ),( 'knn' ,KNeighborsClassifier(n_neighbors=16 , p=1,leaf_size=19 ,weights='distance'))])\n",
    "\n",
    "# KNN_model_score_test_full=[]\n",
    "# accuracy_scores_KNN_full = []\n",
    "# f1_scores_KNN_full = []\n",
    "\n",
    "\n",
    "\n",
    "# for train_index, test_index in data_split.split(new_train, new_train_y):\n",
    "#     X_train, X_test = new_train.iloc[train_index], new_train.iloc[test_index]\n",
    "#     y_train, y_test = new_train_y.iloc[train_index], new_train_y.iloc[test_index]\n",
    "    \n",
    "#     knn_classifier_full.fit(X_train, y_train)\n",
    "    \n",
    "#     y_pred_KNN_full = knn_classifier_full.predict(X_test)\n",
    "    \n",
    "    \n",
    "#     model_score_KNN=knn_classifier_full.score(X_test,y_test)\n",
    "    \n",
    "\n",
    "#     accuracy_KNN = accuracy_score(y_test, y_pred_KNN_full)\n",
    "    \n",
    "    \n",
    "#     f1_KNN = f1_score(y_test, y_pred_KNN_full, average='weighted')\n",
    "    \n",
    "    \n",
    "#     accuracy_scores_KNN_full.append(accuracy_KNN)\n",
    "    \n",
    "#     f1_scores_KNN_full.append(f1_KNN)\n",
    "    \n",
    "#     KNN_model_score_test_full.append(model_score_KNN)\n",
    "    \n",
    "    \n",
    "    \n",
    "    \n",
    "    \n",
    "    \n",
    "    \n",
    "# print(\"Accuracy scores for each fold using knn_classifier_full:    \", accuracy_scores_KNN_full)\n",
    "# print(\"Average accuracy using knn_classifier_full: \", np.mean(accuracy_scores_KNN_full))\n",
    "# print(\"F1 scores for each fold using knn_classifier_full: \", f1_scores_KNN_full)\n",
    "# print(\"Average F1 score using knn_classifier_full: \", np.mean(f1_scores_KNN_full))\n",
    "# print(\"model_score_test list  using knn_classifier_full \" ,KNN_model_score_test_full )\n"
   ]
  },
  {
   "cell_type": "markdown",
   "id": "21d7cb94",
   "metadata": {
    "papermill": {
     "duration": 0.036736,
     "end_time": "2024-07-24T18:26:42.715445",
     "exception": false,
     "start_time": "2024-07-24T18:26:42.678709",
     "status": "completed"
    },
    "tags": []
   },
   "source": [
    "# Desision tree"
   ]
  },
  {
   "cell_type": "code",
   "execution_count": 71,
   "id": "588d382a",
   "metadata": {
    "execution": {
     "iopub.execute_input": "2024-07-24T18:26:42.791543Z",
     "iopub.status.busy": "2024-07-24T18:26:42.790632Z",
     "iopub.status.idle": "2024-07-24T18:26:42.796361Z",
     "shell.execute_reply": "2024-07-24T18:26:42.795365Z"
    },
    "papermill": {
     "duration": 0.046017,
     "end_time": "2024-07-24T18:26:42.798392",
     "exception": false,
     "start_time": "2024-07-24T18:26:42.752375",
     "status": "completed"
    },
    "tags": []
   },
   "outputs": [],
   "source": [
    "# from sklearn.tree import DecisionTreeClassifier\n",
    "\n",
    "# decision_tree_half = Pipeline([ ('new_ct',new_ct),('DecisionTreeClassifier',DecisionTreeClassifier()) ])\n",
    "\n",
    "\n",
    "# decision_tree_model_score_test_half=[]\n",
    "# accuracy_scores_decision_tree_half = []\n",
    "# f1_scores_decision_tree_half = []\n",
    "\n",
    "\n",
    "\n",
    "# for train_index, test_index in data_split.split(xtrain_1, ytrain_1):\n",
    "#     X_train, X_test = xtrain_1.iloc[train_index], xtrain_1.iloc[test_index]\n",
    "#     y_train, y_test = ytrain_1.iloc[train_index], ytrain_1.iloc[test_index]\n",
    "    \n",
    "#     decision_tree_half.fit(X_train, y_train)\n",
    "    \n",
    "#     y_pred_decision_tree_half = decision_tree_half.predict(X_test)\n",
    "    \n",
    "    \n",
    "#     model_score_decision_tree=decision_tree_half.score(X_test,y_test)\n",
    "    \n",
    "\n",
    "#     accuracy_decision_tree = accuracy_score(y_test, y_pred_decision_tree_half)\n",
    "    \n",
    "    \n",
    "#     f1_decision_tree = f1_score(y_test, y_pred_decision_tree_half, average='weighted')\n",
    "    \n",
    "    \n",
    "#     accuracy_scores_decision_tree_half.append(accuracy_decision_tree)\n",
    "    \n",
    "#     f1_scores_decision_tree_half.append(f1_decision_tree)\n",
    "    \n",
    "#     decision_tree_model_score_test_half.append(model_score_decision_tree)\n",
    "    \n",
    "    \n",
    "    \n",
    "    \n",
    "    \n",
    "    \n",
    "    \n",
    "# print(\"Accuracy scores for each fold using decision_tree_half: \", accuracy_scores_decision_tree_half)\n",
    "# print(\"Average accuracy using decision_tree_half: \", np.mean(accuracy_scores_decision_tree_half))\n",
    "# print(\"F1 scores for each fold using decision_tree_half: \", f1_scores_decision_tree_half)\n",
    "# print(\"Average F1 score using decision_tree_half: \", np.mean(f1_scores_decision_tree_half))\n",
    "# print(\"model_score_test list  using decision_tree_half \" ,decision_tree_model_score_test_half )"
   ]
  },
  {
   "cell_type": "code",
   "execution_count": 72,
   "id": "0a127d61",
   "metadata": {
    "execution": {
     "iopub.execute_input": "2024-07-24T18:26:42.874970Z",
     "iopub.status.busy": "2024-07-24T18:26:42.874022Z",
     "iopub.status.idle": "2024-07-24T18:26:42.879809Z",
     "shell.execute_reply": "2024-07-24T18:26:42.878930Z"
    },
    "papermill": {
     "duration": 0.04651,
     "end_time": "2024-07-24T18:26:42.882004",
     "exception": false,
     "start_time": "2024-07-24T18:26:42.835494",
     "status": "completed"
    },
    "tags": []
   },
   "outputs": [],
   "source": [
    "# from sklearn.tree import DecisionTreeClassifier\n",
    "# from sklearn.pipeline import Pipeline\n",
    "\n",
    "# decision_tree_full = Pipeline([ ('new_ct',new_ct),('DecisionTreeClassifier',DecisionTreeClassifier()) ])\n",
    "\n",
    "\n",
    "# decision_tree_model_score_test_full=[]\n",
    "# accuracy_scores_decision_tree_full = []\n",
    "# f1_scores_decision_tree_full = []\n",
    "\n",
    "\n",
    "\n",
    "# for train_index, test_index in data_split.split(new_train, new_train_y):\n",
    "#     X_train, X_test = new_train.iloc[train_index], new_train.iloc[test_index]\n",
    "#     y_train, y_test = new_train_y.iloc[train_index], new_train_y.iloc[test_index]\n",
    "    \n",
    "#     decision_tree_full.fit(X_train, y_train)\n",
    "    \n",
    "#     y_pred_decision_tree_full = decision_tree_full.predict(X_test)\n",
    "    \n",
    "    \n",
    "#     model_score_decision_tree=decision_tree_full.score(X_test,y_test)\n",
    "    \n",
    "\n",
    "#     accuracy_decision_tree = accuracy_score(y_test, y_pred_decision_tree_full)\n",
    "    \n",
    "    \n",
    "#     f1_decision_tree = f1_score(y_test, y_pred_decision_tree_full, average='weighted')\n",
    "    \n",
    "    \n",
    "#     accuracy_scores_decision_tree_full.append(accuracy_decision_tree)\n",
    "    \n",
    "#     f1_scores_decision_tree_full.append(f1_decision_tree)\n",
    "    \n",
    "#     decision_tree_model_score_test_full.append(model_score_decision_tree)\n",
    "    \n",
    "    \n",
    "    \n",
    "    \n",
    "# print(\"Accuracy scores for each fold using decision_tree_full: \", accuracy_scores_decision_tree_full)\n",
    "# print(\"Average accuracy using decision_tree_full: \", np.mean(accuracy_scores_decision_tree_full))\n",
    "# print(\"F1 scores for each fold using decision_tree_full: \", f1_scores_decision_tree_full)\n",
    "# print(\"Average F1 score using decision_tree_full: \", np.mean(f1_scores_decision_tree_full))\n",
    "# print(\"model_score_test list  using decision_tree_full \" ,decision_tree_model_score_test_full )"
   ]
  },
  {
   "cell_type": "markdown",
   "id": "263d5c6f",
   "metadata": {
    "papermill": {
     "duration": 0.03688,
     "end_time": "2024-07-24T18:26:42.956762",
     "exception": false,
     "start_time": "2024-07-24T18:26:42.919882",
     "status": "completed"
    },
    "tags": []
   },
   "source": [
    "#  HistGradientBoostingClassifier\n"
   ]
  },
  {
   "cell_type": "code",
   "execution_count": 73,
   "id": "ddf6fb15",
   "metadata": {
    "execution": {
     "iopub.execute_input": "2024-07-24T18:26:43.034881Z",
     "iopub.status.busy": "2024-07-24T18:26:43.034486Z",
     "iopub.status.idle": "2024-07-24T18:27:05.312935Z",
     "shell.execute_reply": "2024-07-24T18:27:05.311523Z"
    },
    "papermill": {
     "duration": 22.31932,
     "end_time": "2024-07-24T18:27:05.315325",
     "exception": false,
     "start_time": "2024-07-24T18:26:42.996005",
     "status": "completed"
    },
    "tags": []
   },
   "outputs": [
    {
     "name": "stdout",
     "output_type": "stream",
     "text": [
      "Accuracy scores for each fold using histGradientBoostingClassifier:  [0.876, 0.8735, 0.87675, 0.8775, 0.881]\n",
      "Average accuracy using histGradientBoostingClassifier:  0.8769500000000001\n",
      "F1 scores for each fold using histGradientBoostingClassifier:  [0.8702292405736796, 0.8696657554478582, 0.8730565740744157, 0.8743648068076739, 0.8757126009656712]\n",
      "Average F1 score using histGradientBoostingClassifier:  0.8726057955738596\n",
      "model_score_test list  using histGradientBoostingClassifier  [0.876, 0.8735, 0.87675, 0.8775, 0.881]\n"
     ]
    }
   ],
   "source": [
    "from sklearn.ensemble import HistGradientBoostingClassifier\n",
    "# clf = HistGradientBoostingClassifier(max_iter=100)\n",
    "\n",
    "\n",
    "histGradientBoostingClassifier=Pipeline([('new_ct',new_ct),('histGradientBoostingClassifier',HistGradientBoostingClassifier(max_iter=1000))])\n",
    "\n",
    "histGradientBoostingClassifier_model_score_test_half=[]\n",
    "accuracy_scores_histGradientBoostingClassifier_half = []\n",
    "f1_scores_histGradientBoostingClassifier_half = []\n",
    "\n",
    "\n",
    "\n",
    "for train_index, test_index in data_split.split(new_train, new_train_y):\n",
    "    X_train, X_test = new_train.iloc[train_index], new_train.iloc[test_index]\n",
    "    y_train, y_test = new_train_y.iloc[train_index], new_train_y.iloc[test_index]\n",
    "    \n",
    "    histGradientBoostingClassifier.fit(X_train, y_train)\n",
    "    \n",
    "    y_pred_histGradientBoostingClassifier_half = histGradientBoostingClassifier.predict(X_test)\n",
    "    \n",
    "    \n",
    "    model_score_histGradientBoostingClassifier=histGradientBoostingClassifier.score(X_test,y_test)\n",
    "    \n",
    "\n",
    "    accuracy_histGradientBoostingClassifier = accuracy_score(y_test, y_pred_histGradientBoostingClassifier_half)\n",
    "    \n",
    "    \n",
    "    f1_histGradientBoostingClassifier = f1_score(y_test, y_pred_histGradientBoostingClassifier_half, average='weighted')\n",
    "    \n",
    "    \n",
    "    accuracy_scores_histGradientBoostingClassifier_half.append(accuracy_histGradientBoostingClassifier)\n",
    "    \n",
    "    f1_scores_histGradientBoostingClassifier_half.append(f1_histGradientBoostingClassifier)\n",
    "    \n",
    "    histGradientBoostingClassifier_model_score_test_half.append(model_score_histGradientBoostingClassifier)\n",
    "\n",
    "\n",
    "print(\"Accuracy scores for each fold using histGradientBoostingClassifier: \", accuracy_scores_histGradientBoostingClassifier_half)\n",
    "print(\"Average accuracy using histGradientBoostingClassifier: \", np.mean(accuracy_scores_histGradientBoostingClassifier_half))\n",
    "print(\"F1 scores for each fold using histGradientBoostingClassifier: \", f1_scores_histGradientBoostingClassifier_half)\n",
    "print(\"Average F1 score using histGradientBoostingClassifier: \", np.mean(f1_scores_histGradientBoostingClassifier_half))\n",
    "print(\"model_score_test list  using histGradientBoostingClassifier \" ,histGradientBoostingClassifier_model_score_test_half )\n",
    "\n"
   ]
  },
  {
   "cell_type": "markdown",
   "id": "bfd16fd8",
   "metadata": {
    "papermill": {
     "duration": 0.037676,
     "end_time": "2024-07-24T18:27:05.390975",
     "exception": false,
     "start_time": "2024-07-24T18:27:05.353299",
     "status": "completed"
    },
    "tags": []
   },
   "source": [
    "# GradientBoostingClassifier"
   ]
  },
  {
   "cell_type": "code",
   "execution_count": 74,
   "id": "76b1a98e",
   "metadata": {
    "execution": {
     "iopub.execute_input": "2024-07-24T18:27:05.469671Z",
     "iopub.status.busy": "2024-07-24T18:27:05.469114Z",
     "iopub.status.idle": "2024-07-24T18:28:11.154480Z",
     "shell.execute_reply": "2024-07-24T18:28:11.153323Z"
    },
    "papermill": {
     "duration": 65.765288,
     "end_time": "2024-07-24T18:28:11.195119",
     "exception": false,
     "start_time": "2024-07-24T18:27:05.429831",
     "status": "completed"
    },
    "tags": []
   },
   "outputs": [
    {
     "name": "stdout",
     "output_type": "stream",
     "text": [
      "Accuracy scores for each fold using gradientBoostingClassifier:  [0.82925, 0.8215, 0.834, 0.822, 0.829]\n",
      "Average accuracy using gradientBoostingClassifier:  0.8271499999999999\n",
      "F1 scores for each fold using gradientBoostingClassifier:  [0.8158570683307431, 0.8108397274749872, 0.8230880047718027, 0.8098911907153774, 0.816988301293295]\n",
      "Average F1 score using gradientBoostingClassifier:  0.815332858517241\n",
      "model_score_test list  using gradientBoostingClassifier  [0.82925, 0.8215, 0.834, 0.822, 0.829]\n"
     ]
    }
   ],
   "source": [
    "from sklearn.ensemble import GradientBoostingClassifier\n",
    "\n",
    "\n",
    "gradientBoostingClassifier=Pipeline([('new_ct',new_ct),('GradientBoostingClassifier',GradientBoostingClassifier(n_estimators=100, learning_rate=1.0, max_depth=1, random_state=0))])\n",
    "\n",
    "gradientBoostingClassifier_model_score_test_half=[]\n",
    "accuracy_scores_gradientBoostingClassifier_half = []\n",
    "f1_scores_gradientBoostingClassifier_half = []\n",
    "\n",
    "\n",
    "\n",
    "for train_index, test_index in data_split.split(new_train, new_train_y):\n",
    "    X_train, X_test = new_train.iloc[train_index], new_train.iloc[test_index]\n",
    "    y_train, y_test = new_train_y.iloc[train_index], new_train_y.iloc[test_index]\n",
    "    \n",
    "    gradientBoostingClassifier.fit(X_train, y_train)\n",
    "    \n",
    "    y_pred_gradientBoostingClassifier_half = gradientBoostingClassifier.predict(X_test)\n",
    "    \n",
    "    \n",
    "    model_score_gradientBoostingClassifier=gradientBoostingClassifier.score(X_test,y_test)\n",
    "    \n",
    "\n",
    "    accuracy_gradientBoostingClassifier = accuracy_score(y_test, y_pred_gradientBoostingClassifier_half)\n",
    "    \n",
    "    \n",
    "    f1_gradientBoostingClassifier = f1_score(y_test, y_pred_gradientBoostingClassifier_half, average='weighted')\n",
    "    \n",
    "    \n",
    "    accuracy_scores_gradientBoostingClassifier_half.append(accuracy_gradientBoostingClassifier)\n",
    "    \n",
    "    f1_scores_gradientBoostingClassifier_half.append(f1_gradientBoostingClassifier)\n",
    "    \n",
    "    gradientBoostingClassifier_model_score_test_half.append(model_score_gradientBoostingClassifier)\n",
    "\n",
    "\n",
    "print(\"Accuracy scores for each fold using gradientBoostingClassifier: \", accuracy_scores_gradientBoostingClassifier_half)\n",
    "print(\"Average accuracy using gradientBoostingClassifier: \", np.mean(accuracy_scores_gradientBoostingClassifier_half))\n",
    "print(\"F1 scores for each fold using gradientBoostingClassifier: \", f1_scores_gradientBoostingClassifier_half)\n",
    "print(\"Average F1 score using gradientBoostingClassifier: \", np.mean(f1_scores_gradientBoostingClassifier_half))\n",
    "print(\"model_score_test list  using gradientBoostingClassifier \" ,gradientBoostingClassifier_model_score_test_half )"
   ]
  },
  {
   "cell_type": "markdown",
   "id": "aff706f7",
   "metadata": {
    "papermill": {
     "duration": 0.036889,
     "end_time": "2024-07-24T18:28:11.269217",
     "exception": false,
     "start_time": "2024-07-24T18:28:11.232328",
     "status": "completed"
    },
    "tags": []
   },
   "source": [
    "# TEST FINAL"
   ]
  },
  {
   "cell_type": "markdown",
   "id": "38aa9843",
   "metadata": {
    "papermill": {
     "duration": 0.038977,
     "end_time": "2024-07-24T18:28:11.345932",
     "exception": false,
     "start_time": "2024-07-24T18:28:11.306955",
     "status": "completed"
    },
    "tags": []
   },
   "source": [
    "# Loading the test_final data"
   ]
  },
  {
   "cell_type": "code",
   "execution_count": 75,
   "id": "8cab2ad1",
   "metadata": {
    "execution": {
     "iopub.execute_input": "2024-07-24T18:28:11.423454Z",
     "iopub.status.busy": "2024-07-24T18:28:11.423010Z",
     "iopub.status.idle": "2024-07-24T18:28:11.453225Z",
     "shell.execute_reply": "2024-07-24T18:28:11.452237Z"
    },
    "papermill": {
     "duration": 0.071918,
     "end_time": "2024-07-24T18:28:11.455768",
     "exception": false,
     "start_time": "2024-07-24T18:28:11.383850",
     "status": "completed"
    },
    "tags": []
   },
   "outputs": [],
   "source": [
    "test_final=pd.read_csv('/kaggle/input/crime-cast-forecasting-crime-categories/test.csv')"
   ]
  },
  {
   "cell_type": "markdown",
   "id": "134e979a",
   "metadata": {
    "papermill": {
     "duration": 0.037878,
     "end_time": "2024-07-24T18:28:11.531219",
     "exception": false,
     "start_time": "2024-07-24T18:28:11.493341",
     "status": "completed"
    },
    "tags": []
   },
   "source": [
    "# Converting time into day category"
   ]
  },
  {
   "cell_type": "code",
   "execution_count": 76,
   "id": "09393bbb",
   "metadata": {
    "execution": {
     "iopub.execute_input": "2024-07-24T18:28:11.608310Z",
     "iopub.status.busy": "2024-07-24T18:28:11.607579Z",
     "iopub.status.idle": "2024-07-24T18:28:11.615952Z",
     "shell.execute_reply": "2024-07-24T18:28:11.614744Z"
    },
    "papermill": {
     "duration": 0.049336,
     "end_time": "2024-07-24T18:28:11.618199",
     "exception": false,
     "start_time": "2024-07-24T18:28:11.568863",
     "status": "completed"
    },
    "tags": []
   },
   "outputs": [],
   "source": [
    "test_final['day_category']=test_final.loc[:,'Time_Occurred'].apply(day_category )"
   ]
  },
  {
   "cell_type": "markdown",
   "id": "31d5993e",
   "metadata": {
    "papermill": {
     "duration": 0.038511,
     "end_time": "2024-07-24T18:28:11.694751",
     "exception": false,
     "start_time": "2024-07-24T18:28:11.656240",
     "status": "completed"
    },
    "tags": []
   },
   "source": [
    "# Extracting the date features"
   ]
  },
  {
   "cell_type": "code",
   "execution_count": 77,
   "id": "ea25c60f",
   "metadata": {
    "execution": {
     "iopub.execute_input": "2024-07-24T18:28:11.778627Z",
     "iopub.status.busy": "2024-07-24T18:28:11.777647Z",
     "iopub.status.idle": "2024-07-24T18:28:16.433409Z",
     "shell.execute_reply": "2024-07-24T18:28:16.432237Z"
    },
    "papermill": {
     "duration": 4.702851,
     "end_time": "2024-07-24T18:28:16.435944",
     "exception": false,
     "start_time": "2024-07-24T18:28:11.733093",
     "status": "completed"
    },
    "tags": []
   },
   "outputs": [],
   "source": [
    "\n",
    "\n",
    "# Extracting the dates\n",
    "test_final.loc[:,'Date_Reported']=test_final.loc[:,'Date_Reported'].apply(extract_date)\n",
    "test_final.loc[:,'Date_Occurred']=test_final.loc[:,'Date_Occurred'].apply(extract_date)\n",
    "\n",
    "\n",
    "\n",
    "\n",
    "# converitng into date\n",
    "\n",
    "test_final['Date_Reported']=pd.to_datetime(test_final['Date_Reported']).dt.date\n",
    "test_final['Date_Occurred']=pd.to_datetime(test_final['Date_Occurred']).dt.date\n",
    "\n",
    "\n",
    "#             extracting the reporting delay days count\n",
    "\n",
    "test_final['reporting_delay_day_count']=(test_final['Date_Reported']-test_final['Date_Occurred'])\n",
    "\n",
    "\n",
    "\n",
    "\n",
    "# countign the days\n",
    "\n",
    "def day_count(d):\n",
    "    return d.days\n",
    "test_final.loc[:,'reporting_delay_day_count']=test_final.loc[:,'reporting_delay_day_count'].apply(day_count)\n",
    "\n",
    "\n",
    "\n",
    "\n",
    "test_final.loc[:,'reporting_delay_day_count']=test_final.loc[:,'reporting_delay_day_count'].apply(lambda x : int(x))\n",
    "\n"
   ]
  },
  {
   "cell_type": "markdown",
   "id": "7c6f7b65",
   "metadata": {
    "papermill": {
     "duration": 0.038565,
     "end_time": "2024-07-24T18:28:16.514499",
     "exception": false,
     "start_time": "2024-07-24T18:28:16.475934",
     "status": "completed"
    },
    "tags": []
   },
   "source": [
    "# Handling the gender column"
   ]
  },
  {
   "cell_type": "code",
   "execution_count": 78,
   "id": "0d88133c",
   "metadata": {
    "execution": {
     "iopub.execute_input": "2024-07-24T18:28:16.592261Z",
     "iopub.status.busy": "2024-07-24T18:28:16.591837Z",
     "iopub.status.idle": "2024-07-24T18:28:16.610212Z",
     "shell.execute_reply": "2024-07-24T18:28:16.609009Z"
    },
    "papermill": {
     "duration": 0.060323,
     "end_time": "2024-07-24T18:28:16.612538",
     "exception": false,
     "start_time": "2024-07-24T18:28:16.552215",
     "status": "completed"
    },
    "tags": []
   },
   "outputs": [
    {
     "name": "stdout",
     "output_type": "stream",
     "text": [
      "Unique values of victim sex are ['F' 'M' nan 'X' 'H']\n",
      "---------------------------------------------------------------\n",
      "\n",
      "\n",
      "Value counts are\n",
      "Victim_Sex\n",
      "M    2121\n",
      "F    1840\n",
      "X     395\n",
      "H       1\n",
      "Name: count, dtype: int64\n",
      "\n",
      "\n",
      "---------------------------------------------------------------\n",
      "Number of null values are 643\n",
      "\n",
      "\n",
      "---------------------------------------------------------------\n",
      "Number of null values after imputing are 0\n",
      "---------------------------------------------------------------\n",
      "\n",
      "\n"
     ]
    }
   ],
   "source": [
    "\n",
    "print(\"Unique values of victim sex are\",test_final['Victim_Sex'].unique())\n",
    "\n",
    "print('---------------------------------------------------------------')\n",
    "\n",
    "\n",
    "print('')\n",
    "print('')\n",
    "\n",
    "print('Value counts are')\n",
    "print(test_final['Victim_Sex'].value_counts())\n",
    "\n",
    "print('')\n",
    "print('')\n",
    "print('---------------------------------------------------------------')\n",
    "\n",
    "\n",
    "\n",
    "print(\"Number of null values are\" , test_final['Victim_Sex'].isnull().sum())\n",
    "\n",
    "\n",
    "\n",
    "\n",
    "\n",
    "distribution_gender_test = test_final['Victim_Sex'].dropna().value_counts(normalize=True)\n",
    "\n",
    "missing_gender_test = test_final['Victim_Sex'].isna().sum()\n",
    "\n",
    "imputed_values_gender_test = np.random.choice(distribution_gender_test.index, size=missing_gender_test, p=distribution_gender_test.values)\n",
    "\n",
    "\n",
    "test_final.loc[test_final['Victim_Sex'].isna(), 'Victim_Sex'] = imputed_values_gender_test\n",
    "\n",
    "\n",
    "\n",
    "print('')\n",
    "print('')\n",
    "\n",
    "print('---------------------------------------------------------------')\n",
    "\n",
    "print(\"Number of null values after imputing are\" , test_final['Victim_Sex'].isnull().sum())\n",
    "\n",
    "test_final.loc[:,'Victim_Sex']=test_final.loc[:,'Victim_Sex'].replace('H','X')\n",
    "\n",
    "\n",
    "print('---------------------------------------------------------------')\n",
    "print('')\n",
    "print('')\n",
    "\n"
   ]
  },
  {
   "cell_type": "markdown",
   "id": "da22b1a2",
   "metadata": {
    "papermill": {
     "duration": 0.037373,
     "end_time": "2024-07-24T18:28:16.688055",
     "exception": false,
     "start_time": "2024-07-24T18:28:16.650682",
     "status": "completed"
    },
    "tags": []
   },
   "source": [
    " # Weapon_Description"
   ]
  },
  {
   "cell_type": "code",
   "execution_count": 79,
   "id": "3a0cdd00",
   "metadata": {
    "execution": {
     "iopub.execute_input": "2024-07-24T18:28:16.764925Z",
     "iopub.status.busy": "2024-07-24T18:28:16.764531Z",
     "iopub.status.idle": "2024-07-24T18:28:16.784329Z",
     "shell.execute_reply": "2024-07-24T18:28:16.783197Z"
    },
    "papermill": {
     "duration": 0.061235,
     "end_time": "2024-07-24T18:28:16.786894",
     "exception": false,
     "start_time": "2024-07-24T18:28:16.725659",
     "status": "completed"
    },
    "tags": []
   },
   "outputs": [],
   "source": [
    "test_final.loc[train['Weapon_Description'] == 'STRONG-ARM (HANDS, FIST, FEET OR BODILY FORCE)', 'Weapon_Description'] = 'Physical Force'\n",
    "\n",
    "\n",
    "test_final.loc[:,'Weapon_Description']=test_final['Weapon_Description'].apply(lambda x: gun(x))\n",
    "\n",
    "# unique_values_weapon_test=pd.DataFrame(test_final['Weapon_Description'])\n",
    "# unique_values_weapon_test.value_counts(normalize=True)\n",
    "\n",
    "# distribution_test = test_final['Weapon_Description'].dropna().value_counts(normalize=True)\n",
    "\n",
    "# missing_test = test_final['Weapon_Description'].isnull().sum()\n",
    "\n",
    "# imputed_values_test = np.random.choice(distribution_test.index, size=missing_test, p=distribution_test.values)\n",
    "\n",
    "# # Impute the missing values\n",
    "# test_final.loc[test_final['Weapon_Description'].isnull(), 'Weapon_Description'] = imputed_values_test\n",
    "\n"
   ]
  },
  {
   "cell_type": "code",
   "execution_count": 80,
   "id": "98ae2dba",
   "metadata": {
    "execution": {
     "iopub.execute_input": "2024-07-24T18:28:16.866759Z",
     "iopub.status.busy": "2024-07-24T18:28:16.866341Z",
     "iopub.status.idle": "2024-07-24T18:28:16.876086Z",
     "shell.execute_reply": "2024-07-24T18:28:16.874906Z"
    },
    "papermill": {
     "duration": 0.052359,
     "end_time": "2024-07-24T18:28:16.878140",
     "exception": false,
     "start_time": "2024-07-24T18:28:16.825781",
     "status": "completed"
    },
    "tags": []
   },
   "outputs": [
    {
     "name": "stdout",
     "output_type": "stream",
     "text": [
      "Number of unqiue values are\n"
     ]
    },
    {
     "data": {
      "text/plain": [
       "Weapon_Description\n",
       "NA                    3153\n",
       "Physical Force        1007\n",
       "sharp_heavy_object     431\n",
       "other_weapon           170\n",
       "Gun                    167\n",
       "fire                    44\n",
       "VEHICLE                 28\n",
       "Name: count, dtype: int64"
      ]
     },
     "execution_count": 80,
     "metadata": {},
     "output_type": "execute_result"
    }
   ],
   "source": [
    "test_final\n",
    "\n",
    "print('Number of unqiue values are')\n",
    "test_final['Weapon_Description'].value_counts()"
   ]
  },
  {
   "cell_type": "code",
   "execution_count": 81,
   "id": "19dfb0eb",
   "metadata": {
    "execution": {
     "iopub.execute_input": "2024-07-24T18:28:16.957132Z",
     "iopub.status.busy": "2024-07-24T18:28:16.956122Z",
     "iopub.status.idle": "2024-07-24T18:28:16.968939Z",
     "shell.execute_reply": "2024-07-24T18:28:16.967906Z"
    },
    "papermill": {
     "duration": 0.055112,
     "end_time": "2024-07-24T18:28:16.971489",
     "exception": false,
     "start_time": "2024-07-24T18:28:16.916377",
     "status": "completed"
    },
    "tags": []
   },
   "outputs": [],
   "source": [
    "distribution_test = test_final['Weapon_Description'][test_final['Weapon_Description'] != 'NA'].value_counts(normalize=True)\n",
    "\n",
    "missing_test = test_final[test_final['Weapon_Description']=='NA']['Weapon_Description'].count()\n",
    "\n",
    "imputed_values_test = np.random.choice(distribution_test.index, size=missing_test, p=distribution_test.values)\n",
    "\n",
    "\n",
    "test_final.loc[test_final['Weapon_Description']=='NA', 'Weapon_Description'] = imputed_values_test"
   ]
  },
  {
   "cell_type": "code",
   "execution_count": 82,
   "id": "b7e0a295",
   "metadata": {
    "execution": {
     "iopub.execute_input": "2024-07-24T18:28:17.051308Z",
     "iopub.status.busy": "2024-07-24T18:28:17.050560Z",
     "iopub.status.idle": "2024-07-24T18:28:17.063641Z",
     "shell.execute_reply": "2024-07-24T18:28:17.062443Z"
    },
    "papermill": {
     "duration": 0.055031,
     "end_time": "2024-07-24T18:28:17.065938",
     "exception": false,
     "start_time": "2024-07-24T18:28:17.010907",
     "status": "completed"
    },
    "tags": []
   },
   "outputs": [
    {
     "data": {
      "text/plain": [
       "Location                        0\n",
       "Cross_Street                 4190\n",
       "Latitude                        0\n",
       "Longitude                       0\n",
       "Date_Reported                   0\n",
       "Date_Occurred                   0\n",
       "Time_Occurred                   0\n",
       "Area_ID                         0\n",
       "Area_Name                       0\n",
       "Reporting_District_no           0\n",
       "Part 1-2                        0\n",
       "Modus_Operandi                684\n",
       "Victim_Age                      0\n",
       "Victim_Sex                      0\n",
       "Victim_Descent                643\n",
       "Premise_Code                    0\n",
       "Premise_Description             1\n",
       "Weapon_Used_Code             3153\n",
       "Weapon_Description              0\n",
       "Status                          0\n",
       "Status_Description              0\n",
       "day_category                    0\n",
       "reporting_delay_day_count       0\n",
       "dtype: int64"
      ]
     },
     "execution_count": 82,
     "metadata": {},
     "output_type": "execute_result"
    }
   ],
   "source": [
    "test_final.isnull().sum()"
   ]
  },
  {
   "cell_type": "code",
   "execution_count": 83,
   "id": "802729e7",
   "metadata": {
    "execution": {
     "iopub.execute_input": "2024-07-24T18:28:17.145351Z",
     "iopub.status.busy": "2024-07-24T18:28:17.144549Z",
     "iopub.status.idle": "2024-07-24T18:28:17.155447Z",
     "shell.execute_reply": "2024-07-24T18:28:17.154270Z"
    },
    "papermill": {
     "duration": 0.053125,
     "end_time": "2024-07-24T18:28:17.158002",
     "exception": false,
     "start_time": "2024-07-24T18:28:17.104877",
     "status": "completed"
    },
    "tags": []
   },
   "outputs": [],
   "source": [
    "distribution_Descent_test = test_final['Victim_Descent'].dropna().value_counts(normalize=True)\n",
    "\n",
    "missing_Descent_test = test_final['Victim_Descent'].isna().sum()\n",
    "\n",
    "imputed_values_Descent_test = np.random.choice(distribution_Descent_test.index, size=missing_Descent_test, p=distribution_Descent_test.values)\n",
    "\n",
    "\n",
    "test_final.loc[test_final['Victim_Descent'].isna(), 'Victim_Descent'] = imputed_values_Descent_test\n",
    "\n",
    "\n",
    "\n",
    "\n",
    "\n",
    "# distribution_test = test_final['Victim_Descent'].dropna().value_counts(normalize=True)\n",
    "\n",
    "# missing_test = test_final['Victim_Descent'].isnull().sum()\n",
    "\n",
    "# imputed_values_test = np.random.choice(distribution_test.index, size=missing_test, p=distribution_test.values)\n",
    "\n",
    "# # Impute the missing values\n",
    "# test_final.loc[test_final['Victim_Descent'].isnull(), 'Victim_Descent'] = imputed_values_test"
   ]
  },
  {
   "cell_type": "markdown",
   "id": "dab86e8e",
   "metadata": {
    "papermill": {
     "duration": 0.038424,
     "end_time": "2024-07-24T18:28:17.236285",
     "exception": false,
     "start_time": "2024-07-24T18:28:17.197861",
     "status": "completed"
    },
    "tags": []
   },
   "source": [
    "# Modus_Operandi"
   ]
  },
  {
   "cell_type": "code",
   "execution_count": 84,
   "id": "2af6ce8a",
   "metadata": {
    "execution": {
     "iopub.execute_input": "2024-07-24T18:28:17.316332Z",
     "iopub.status.busy": "2024-07-24T18:28:17.315929Z",
     "iopub.status.idle": "2024-07-24T18:28:17.332100Z",
     "shell.execute_reply": "2024-07-24T18:28:17.330943Z"
    },
    "papermill": {
     "duration": 0.059919,
     "end_time": "2024-07-24T18:28:17.335194",
     "exception": false,
     "start_time": "2024-07-24T18:28:17.275275",
     "status": "completed"
    },
    "tags": []
   },
   "outputs": [],
   "source": [
    "test_final.loc[:,'Modus_Operandi'] = test_final.loc[:,'Modus_Operandi'].fillna('')\n",
    "\n",
    "\n",
    "def number_of_activities(s):\n",
    "    if s=='':  # Handle NaN values\n",
    "        return 0\n",
    "    activities_list=s.split()\n",
    "    activity_count = list(set(activities_list))\n",
    "    return len(activity_count)\n",
    "\n",
    "\n",
    "test_final['activity_count']=test_final['Modus_Operandi'].apply(number_of_activities)\n",
    "\n",
    "\n",
    "\n",
    "# def number_of_activities(s):\n",
    "#     if s=='':  # Handle NaN values\n",
    "#         return 0\n",
    "#     activities_list=s.split()\n",
    "#     activity_count = list(set(activities_list))\n",
    "#     activities = set()  # Using a set to avoid duplicates efficiently\n",
    "#     for activity in s.split(' '):\n",
    "#         activities.add(str(activity))\n",
    "#     activities=' '.join(activities)    \n",
    "#     return len(activity_count)\n",
    "# train['activity_count']=train['Modus_Operandi'].apply(number_of_activities)\n"
   ]
  },
  {
   "cell_type": "code",
   "execution_count": 85,
   "id": "2c901ac7",
   "metadata": {
    "execution": {
     "iopub.execute_input": "2024-07-24T18:28:17.415740Z",
     "iopub.status.busy": "2024-07-24T18:28:17.415310Z",
     "iopub.status.idle": "2024-07-24T18:28:17.423931Z",
     "shell.execute_reply": "2024-07-24T18:28:17.422812Z"
    },
    "papermill": {
     "duration": 0.050634,
     "end_time": "2024-07-24T18:28:17.426190",
     "exception": false,
     "start_time": "2024-07-24T18:28:17.375556",
     "status": "completed"
    },
    "tags": []
   },
   "outputs": [],
   "source": [
    "# test_final['Modus_Operandi']=test_final['Modus_Operandi'].apply(number_of_activities)\n",
    "test_final['Part 1-2']=test_final['Part 1-2'].apply(lambda x : str(x))\n"
   ]
  },
  {
   "cell_type": "markdown",
   "id": "75fff454",
   "metadata": {
    "papermill": {
     "duration": 0.038706,
     "end_time": "2024-07-24T18:28:17.503936",
     "exception": false,
     "start_time": "2024-07-24T18:28:17.465230",
     "status": "completed"
    },
    "tags": []
   },
   "source": [
    "# Victim age"
   ]
  },
  {
   "cell_type": "code",
   "execution_count": 86,
   "id": "4b68e771",
   "metadata": {
    "execution": {
     "iopub.execute_input": "2024-07-24T18:28:17.583041Z",
     "iopub.status.busy": "2024-07-24T18:28:17.582619Z",
     "iopub.status.idle": "2024-07-24T18:28:17.598883Z",
     "shell.execute_reply": "2024-07-24T18:28:17.597479Z"
    },
    "papermill": {
     "duration": 0.058211,
     "end_time": "2024-07-24T18:28:17.601143",
     "exception": false,
     "start_time": "2024-07-24T18:28:17.542932",
     "status": "completed"
    },
    "tags": []
   },
   "outputs": [
    {
     "name": "stdout",
     "output_type": "stream",
     "text": [
      "[28. 26. 62.  0. 37. 58. 21. 19. 31. 35. 25. 27. 20. 67. 36. 15. 24. 53.\n",
      " 30. 38. 71. 34. 16. 33. 32. 77. 39. 52. 23. 61. 50. 63. 45. 22. 73. 40.\n",
      " 60. 55. 29. 41. 51. 46. -2. 44. 99. 81. 43. 57. 12. 79. 93. 65. 54. 59.\n",
      " 83. 64. 49. 56. 47. 42. 70. 78. 68. 80. 18. 96. 48. 74. 76. 11. 14. 66.\n",
      " 72.  7. 10.  6. 69. 17. 82.  5.  9.  4. 85. 75. 88.  8. 86. 13.  3.  2.\n",
      " -1. 84. 90. 91.]\n",
      "---------------------------------------------------------------\n",
      "[28. 26. 62.  0. 37. 58. 21. 19. 31. 35. 25. 27. 20. 67. 36. 15. 24. 53.\n",
      " 30. 38. 71. 34. 16. 33. 32. 77. 39. 52. 23. 61. 50. 63. 45. 22. 73. 40.\n",
      " 60. 55. 29. 41. 51. 46. 44. 99. 81. 43. 57. 12. 79. 93. 65. 54. 59. 83.\n",
      " 64. 49. 56. 47. 42. 70. 78. 68. 80. 18. 96. 48. 74. 76. 11. 14. 66. 72.\n",
      "  7. 10.  6. 69. 17. 82.  5.  9.  4. 85. 75. 88.  8. 86. 13.  3.  2. 84.\n",
      " 90. 91.]\n",
      "---------------------------------------------------------------\n"
     ]
    }
   ],
   "source": [
    "print(test_final['Victim_Age'].unique())\n",
    "\n",
    "test_final.loc[test_final['Victim_Age']<0,'Victim_Age']=0\n",
    "\n",
    "print('---------------------------------------------------------------')\n",
    "\n",
    "\n",
    "print(test_final['Victim_Age'].unique())\n",
    "\n",
    "print('---------------------------------------------------------------')\n",
    "\n",
    "\n",
    "test_final.loc[:,'Victim_Age']=test_final.loc[:,'Victim_Age'].apply(lambda x : int(x))\n",
    "\n",
    "\n",
    "test_final.loc[test_final['Victim_Age']==0,'Victim_Age']=test_final['Victim_Age'].mean()\n"
   ]
  },
  {
   "cell_type": "code",
   "execution_count": 87,
   "id": "cdb57e51",
   "metadata": {
    "execution": {
     "iopub.execute_input": "2024-07-24T18:28:17.680754Z",
     "iopub.status.busy": "2024-07-24T18:28:17.679698Z",
     "iopub.status.idle": "2024-07-24T18:28:17.690487Z",
     "shell.execute_reply": "2024-07-24T18:28:17.689287Z"
    },
    "papermill": {
     "duration": 0.053062,
     "end_time": "2024-07-24T18:28:17.692879",
     "exception": false,
     "start_time": "2024-07-24T18:28:17.639817",
     "status": "completed"
    },
    "tags": []
   },
   "outputs": [
    {
     "name": "stderr",
     "output_type": "stream",
     "text": [
      "/tmp/ipykernel_18/2320598785.py:1: FutureWarning: Setting an item of incompatible dtype is deprecated and will raise in a future error of pandas. Value '['000' '000' '000' ... '000' '000' '000']' has dtype incompatible with float64, please explicitly cast to a compatible dtype first.\n",
      "  test_final.loc[:,'Premise_Code']=test_final['Premise_Code'].apply(lambda x : top_10_Premise_Code_function(x))\n"
     ]
    }
   ],
   "source": [
    "test_final.loc[:,'Premise_Code']=test_final['Premise_Code'].apply(lambda x : top_10_Premise_Code_function(x))"
   ]
  },
  {
   "cell_type": "code",
   "execution_count": 88,
   "id": "387efc94",
   "metadata": {
    "execution": {
     "iopub.execute_input": "2024-07-24T18:28:17.771703Z",
     "iopub.status.busy": "2024-07-24T18:28:17.771308Z",
     "iopub.status.idle": "2024-07-24T18:28:17.784429Z",
     "shell.execute_reply": "2024-07-24T18:28:17.783310Z"
    },
    "papermill": {
     "duration": 0.055578,
     "end_time": "2024-07-24T18:28:17.786962",
     "exception": false,
     "start_time": "2024-07-24T18:28:17.731384",
     "status": "completed"
    },
    "tags": []
   },
   "outputs": [
    {
     "name": "stderr",
     "output_type": "stream",
     "text": [
      "/tmp/ipykernel_18/3341163657.py:1: FutureWarning: Setting an item of incompatible dtype is deprecated and will raise in a future error of pandas. Value '['3.0' '20.0' '18.0' ... '19.0' '1.0' '18.0']' has dtype incompatible with float64, please explicitly cast to a compatible dtype first.\n",
      "  test_final.loc[:,'Area_ID']=test_final.loc[:,'Area_ID'].apply(lambda x : str(x))\n"
     ]
    }
   ],
   "source": [
    "test_final.loc[:,'Area_ID']=test_final.loc[:,'Area_ID'].apply(lambda x : str(x))\n",
    "test_final=test_final[['Premise_Code','Latitude','Longitude','Victim_Age','activity_count','reporting_delay_day_count','Area_ID','Part 1-2','Victim_Sex','Victim_Descent','Weapon_Description','Status','day_category','Modus_Operandi']]\n"
   ]
  },
  {
   "cell_type": "code",
   "execution_count": 89,
   "id": "499e4072",
   "metadata": {
    "execution": {
     "iopub.execute_input": "2024-07-24T18:28:17.866613Z",
     "iopub.status.busy": "2024-07-24T18:28:17.866198Z",
     "iopub.status.idle": "2024-07-24T18:28:17.881405Z",
     "shell.execute_reply": "2024-07-24T18:28:17.880373Z"
    },
    "papermill": {
     "duration": 0.057319,
     "end_time": "2024-07-24T18:28:17.883824",
     "exception": false,
     "start_time": "2024-07-24T18:28:17.826505",
     "status": "completed"
    },
    "tags": []
   },
   "outputs": [
    {
     "name": "stdout",
     "output_type": "stream",
     "text": [
      "<class 'pandas.core.frame.DataFrame'>\n",
      "RangeIndex: 5000 entries, 0 to 4999\n",
      "Data columns (total 14 columns):\n",
      " #   Column                     Non-Null Count  Dtype  \n",
      "---  ------                     --------------  -----  \n",
      " 0   Premise_Code               5000 non-null   object \n",
      " 1   Latitude                   5000 non-null   float64\n",
      " 2   Longitude                  5000 non-null   float64\n",
      " 3   Victim_Age                 5000 non-null   float64\n",
      " 4   activity_count             5000 non-null   int64  \n",
      " 5   reporting_delay_day_count  5000 non-null   object \n",
      " 6   Area_ID                    5000 non-null   object \n",
      " 7   Part 1-2                   5000 non-null   object \n",
      " 8   Victim_Sex                 5000 non-null   object \n",
      " 9   Victim_Descent             5000 non-null   object \n",
      " 10  Weapon_Description         5000 non-null   object \n",
      " 11  Status                     5000 non-null   object \n",
      " 12  day_category               5000 non-null   object \n",
      " 13  Modus_Operandi             5000 non-null   object \n",
      "dtypes: float64(3), int64(1), object(10)\n",
      "memory usage: 547.0+ KB\n"
     ]
    }
   ],
   "source": [
    "test_final.info()"
   ]
  },
  {
   "cell_type": "code",
   "execution_count": 90,
   "id": "d4903119",
   "metadata": {
    "execution": {
     "iopub.execute_input": "2024-07-24T18:28:17.963498Z",
     "iopub.status.busy": "2024-07-24T18:28:17.962846Z",
     "iopub.status.idle": "2024-07-24T18:28:17.984140Z",
     "shell.execute_reply": "2024-07-24T18:28:17.982946Z"
    },
    "papermill": {
     "duration": 0.063829,
     "end_time": "2024-07-24T18:28:17.986588",
     "exception": false,
     "start_time": "2024-07-24T18:28:17.922759",
     "status": "completed"
    },
    "tags": []
   },
   "outputs": [
    {
     "data": {
      "text/html": [
       "<div>\n",
       "<style scoped>\n",
       "    .dataframe tbody tr th:only-of-type {\n",
       "        vertical-align: middle;\n",
       "    }\n",
       "\n",
       "    .dataframe tbody tr th {\n",
       "        vertical-align: top;\n",
       "    }\n",
       "\n",
       "    .dataframe thead th {\n",
       "        text-align: right;\n",
       "    }\n",
       "</style>\n",
       "<table border=\"1\" class=\"dataframe\">\n",
       "  <thead>\n",
       "    <tr style=\"text-align: right;\">\n",
       "      <th></th>\n",
       "      <th>Premise_Code</th>\n",
       "      <th>Latitude</th>\n",
       "      <th>Longitude</th>\n",
       "      <th>Victim_Age</th>\n",
       "      <th>activity_count</th>\n",
       "      <th>reporting_delay_day_count</th>\n",
       "      <th>Area_ID</th>\n",
       "      <th>Part 1-2</th>\n",
       "      <th>Victim_Sex</th>\n",
       "      <th>Victim_Descent</th>\n",
       "      <th>Weapon_Description</th>\n",
       "      <th>Status</th>\n",
       "      <th>day_category</th>\n",
       "      <th>Modus_Operandi</th>\n",
       "    </tr>\n",
       "  </thead>\n",
       "  <tbody>\n",
       "    <tr>\n",
       "      <th>0</th>\n",
       "      <td>000</td>\n",
       "      <td>34.0128</td>\n",
       "      <td>-118.3045</td>\n",
       "      <td>28.000</td>\n",
       "      <td>6</td>\n",
       "      <td>0</td>\n",
       "      <td>3.0</td>\n",
       "      <td>2.0</td>\n",
       "      <td>F</td>\n",
       "      <td>H</td>\n",
       "      <td>Physical Force</td>\n",
       "      <td>IC</td>\n",
       "      <td>Evening</td>\n",
       "      <td>0416 1241 1243 1813 1821 2000</td>\n",
       "    </tr>\n",
       "    <tr>\n",
       "      <th>1</th>\n",
       "      <td>000</td>\n",
       "      <td>34.0726</td>\n",
       "      <td>-118.3029</td>\n",
       "      <td>26.000</td>\n",
       "      <td>2</td>\n",
       "      <td>37</td>\n",
       "      <td>20.0</td>\n",
       "      <td>1.0</td>\n",
       "      <td>M</td>\n",
       "      <td>B</td>\n",
       "      <td>Physical Force</td>\n",
       "      <td>IC</td>\n",
       "      <td>Night</td>\n",
       "      <td>0344 0394</td>\n",
       "    </tr>\n",
       "    <tr>\n",
       "      <th>2</th>\n",
       "      <td>000</td>\n",
       "      <td>33.9348</td>\n",
       "      <td>-118.2695</td>\n",
       "      <td>62.000</td>\n",
       "      <td>6</td>\n",
       "      <td>1</td>\n",
       "      <td>18.0</td>\n",
       "      <td>2.0</td>\n",
       "      <td>F</td>\n",
       "      <td>B</td>\n",
       "      <td>Physical Force</td>\n",
       "      <td>IC</td>\n",
       "      <td>Morning</td>\n",
       "      <td>1822 0701 1914 0355 1202 0100</td>\n",
       "    </tr>\n",
       "    <tr>\n",
       "      <th>3</th>\n",
       "      <td>000</td>\n",
       "      <td>34.0497</td>\n",
       "      <td>-118.3442</td>\n",
       "      <td>30.593</td>\n",
       "      <td>0</td>\n",
       "      <td>20</td>\n",
       "      <td>7.0</td>\n",
       "      <td>1.0</td>\n",
       "      <td>M</td>\n",
       "      <td>H</td>\n",
       "      <td>sharp_heavy_object</td>\n",
       "      <td>IC</td>\n",
       "      <td>Night</td>\n",
       "      <td></td>\n",
       "    </tr>\n",
       "    <tr>\n",
       "      <th>4</th>\n",
       "      <td>000</td>\n",
       "      <td>34.1611</td>\n",
       "      <td>-118.3704</td>\n",
       "      <td>37.000</td>\n",
       "      <td>1</td>\n",
       "      <td>1</td>\n",
       "      <td>15.0</td>\n",
       "      <td>2.0</td>\n",
       "      <td>F</td>\n",
       "      <td>W</td>\n",
       "      <td>sharp_heavy_object</td>\n",
       "      <td>AO</td>\n",
       "      <td>Night</td>\n",
       "      <td>1501</td>\n",
       "    </tr>\n",
       "    <tr>\n",
       "      <th>...</th>\n",
       "      <td>...</td>\n",
       "      <td>...</td>\n",
       "      <td>...</td>\n",
       "      <td>...</td>\n",
       "      <td>...</td>\n",
       "      <td>...</td>\n",
       "      <td>...</td>\n",
       "      <td>...</td>\n",
       "      <td>...</td>\n",
       "      <td>...</td>\n",
       "      <td>...</td>\n",
       "      <td>...</td>\n",
       "      <td>...</td>\n",
       "      <td>...</td>\n",
       "    </tr>\n",
       "    <tr>\n",
       "      <th>4995</th>\n",
       "      <td>000</td>\n",
       "      <td>34.0409</td>\n",
       "      <td>-118.3408</td>\n",
       "      <td>30.593</td>\n",
       "      <td>0</td>\n",
       "      <td>1</td>\n",
       "      <td>7.0</td>\n",
       "      <td>1.0</td>\n",
       "      <td>F</td>\n",
       "      <td>W</td>\n",
       "      <td>Physical Force</td>\n",
       "      <td>IC</td>\n",
       "      <td>Night</td>\n",
       "      <td></td>\n",
       "    </tr>\n",
       "    <tr>\n",
       "      <th>4996</th>\n",
       "      <td>000</td>\n",
       "      <td>34.0347</td>\n",
       "      <td>-118.2253</td>\n",
       "      <td>30.593</td>\n",
       "      <td>2</td>\n",
       "      <td>7</td>\n",
       "      <td>4.0</td>\n",
       "      <td>1.0</td>\n",
       "      <td>X</td>\n",
       "      <td>X</td>\n",
       "      <td>Physical Force</td>\n",
       "      <td>IC</td>\n",
       "      <td>Daytime</td>\n",
       "      <td>1300 0325</td>\n",
       "    </tr>\n",
       "    <tr>\n",
       "      <th>4997</th>\n",
       "      <td>000</td>\n",
       "      <td>34.2392</td>\n",
       "      <td>-118.4698</td>\n",
       "      <td>38.000</td>\n",
       "      <td>3</td>\n",
       "      <td>0</td>\n",
       "      <td>19.0</td>\n",
       "      <td>2.0</td>\n",
       "      <td>M</td>\n",
       "      <td>H</td>\n",
       "      <td>Physical Force</td>\n",
       "      <td>AA</td>\n",
       "      <td>Night</td>\n",
       "      <td>0913 1817 0416</td>\n",
       "    </tr>\n",
       "    <tr>\n",
       "      <th>4998</th>\n",
       "      <td>000</td>\n",
       "      <td>34.0453</td>\n",
       "      <td>-118.2443</td>\n",
       "      <td>41.000</td>\n",
       "      <td>1</td>\n",
       "      <td>1</td>\n",
       "      <td>1.0</td>\n",
       "      <td>2.0</td>\n",
       "      <td>M</td>\n",
       "      <td>B</td>\n",
       "      <td>sharp_heavy_object</td>\n",
       "      <td>AO</td>\n",
       "      <td>Night</td>\n",
       "      <td>0416</td>\n",
       "    </tr>\n",
       "    <tr>\n",
       "      <th>4999</th>\n",
       "      <td>000</td>\n",
       "      <td>33.9438</td>\n",
       "      <td>-118.2695</td>\n",
       "      <td>49.000</td>\n",
       "      <td>2</td>\n",
       "      <td>0</td>\n",
       "      <td>18.0</td>\n",
       "      <td>2.0</td>\n",
       "      <td>M</td>\n",
       "      <td>B</td>\n",
       "      <td>Physical Force</td>\n",
       "      <td>IC</td>\n",
       "      <td>Night</td>\n",
       "      <td>1822 0329</td>\n",
       "    </tr>\n",
       "  </tbody>\n",
       "</table>\n",
       "<p>5000 rows × 14 columns</p>\n",
       "</div>"
      ],
      "text/plain": [
       "     Premise_Code  Latitude  Longitude  Victim_Age  activity_count  \\\n",
       "0             000   34.0128  -118.3045      28.000               6   \n",
       "1             000   34.0726  -118.3029      26.000               2   \n",
       "2             000   33.9348  -118.2695      62.000               6   \n",
       "3             000   34.0497  -118.3442      30.593               0   \n",
       "4             000   34.1611  -118.3704      37.000               1   \n",
       "...           ...       ...        ...         ...             ...   \n",
       "4995          000   34.0409  -118.3408      30.593               0   \n",
       "4996          000   34.0347  -118.2253      30.593               2   \n",
       "4997          000   34.2392  -118.4698      38.000               3   \n",
       "4998          000   34.0453  -118.2443      41.000               1   \n",
       "4999          000   33.9438  -118.2695      49.000               2   \n",
       "\n",
       "     reporting_delay_day_count Area_ID Part 1-2 Victim_Sex Victim_Descent  \\\n",
       "0                            0     3.0      2.0          F              H   \n",
       "1                           37    20.0      1.0          M              B   \n",
       "2                            1    18.0      2.0          F              B   \n",
       "3                           20     7.0      1.0          M              H   \n",
       "4                            1    15.0      2.0          F              W   \n",
       "...                        ...     ...      ...        ...            ...   \n",
       "4995                         1     7.0      1.0          F              W   \n",
       "4996                         7     4.0      1.0          X              X   \n",
       "4997                         0    19.0      2.0          M              H   \n",
       "4998                         1     1.0      2.0          M              B   \n",
       "4999                         0    18.0      2.0          M              B   \n",
       "\n",
       "      Weapon_Description Status day_category                 Modus_Operandi  \n",
       "0         Physical Force     IC      Evening  0416 1241 1243 1813 1821 2000  \n",
       "1         Physical Force     IC        Night                      0344 0394  \n",
       "2         Physical Force     IC      Morning  1822 0701 1914 0355 1202 0100  \n",
       "3     sharp_heavy_object     IC        Night                                 \n",
       "4     sharp_heavy_object     AO        Night                           1501  \n",
       "...                  ...    ...          ...                            ...  \n",
       "4995      Physical Force     IC        Night                                 \n",
       "4996      Physical Force     IC      Daytime                      1300 0325  \n",
       "4997      Physical Force     AA        Night                 0913 1817 0416  \n",
       "4998  sharp_heavy_object     AO        Night                           0416  \n",
       "4999      Physical Force     IC        Night                      1822 0329  \n",
       "\n",
       "[5000 rows x 14 columns]"
      ]
     },
     "execution_count": 90,
     "metadata": {},
     "output_type": "execute_result"
    }
   ],
   "source": [
    "test_final"
   ]
  },
  {
   "cell_type": "code",
   "execution_count": 91,
   "id": "9d6c5ccc",
   "metadata": {
    "execution": {
     "iopub.execute_input": "2024-07-24T18:28:18.066697Z",
     "iopub.status.busy": "2024-07-24T18:28:18.066295Z",
     "iopub.status.idle": "2024-07-24T18:28:18.073650Z",
     "shell.execute_reply": "2024-07-24T18:28:18.072474Z"
    },
    "papermill": {
     "duration": 0.049958,
     "end_time": "2024-07-24T18:28:18.075862",
     "exception": false,
     "start_time": "2024-07-24T18:28:18.025904",
     "status": "completed"
    },
    "tags": []
   },
   "outputs": [
    {
     "data": {
      "text/plain": [
       "(5000, 14)"
      ]
     },
     "execution_count": 91,
     "metadata": {},
     "output_type": "execute_result"
    }
   ],
   "source": [
    "test_final.shape"
   ]
  },
  {
   "cell_type": "code",
   "execution_count": 92,
   "id": "50c7f6e6",
   "metadata": {
    "execution": {
     "iopub.execute_input": "2024-07-24T18:28:18.156445Z",
     "iopub.status.busy": "2024-07-24T18:28:18.155669Z",
     "iopub.status.idle": "2024-07-24T18:28:18.174970Z",
     "shell.execute_reply": "2024-07-24T18:28:18.173949Z"
    },
    "papermill": {
     "duration": 0.06201,
     "end_time": "2024-07-24T18:28:18.177309",
     "exception": false,
     "start_time": "2024-07-24T18:28:18.115299",
     "status": "completed"
    },
    "tags": []
   },
   "outputs": [
    {
     "data": {
      "text/html": [
       "<div>\n",
       "<style scoped>\n",
       "    .dataframe tbody tr th:only-of-type {\n",
       "        vertical-align: middle;\n",
       "    }\n",
       "\n",
       "    .dataframe tbody tr th {\n",
       "        vertical-align: top;\n",
       "    }\n",
       "\n",
       "    .dataframe thead th {\n",
       "        text-align: right;\n",
       "    }\n",
       "</style>\n",
       "<table border=\"1\" class=\"dataframe\">\n",
       "  <thead>\n",
       "    <tr style=\"text-align: right;\">\n",
       "      <th></th>\n",
       "      <th>ID</th>\n",
       "      <th>Crime_Category</th>\n",
       "      <th>Unnamed: 2</th>\n",
       "    </tr>\n",
       "  </thead>\n",
       "  <tbody>\n",
       "    <tr>\n",
       "      <th>0</th>\n",
       "      <td>1</td>\n",
       "      <td>Crimes against Persons</td>\n",
       "      <td>NaN</td>\n",
       "    </tr>\n",
       "    <tr>\n",
       "      <th>1</th>\n",
       "      <td>2</td>\n",
       "      <td>Crimes against Public Order</td>\n",
       "      <td>NaN</td>\n",
       "    </tr>\n",
       "    <tr>\n",
       "      <th>2</th>\n",
       "      <td>3</td>\n",
       "      <td>Other Crimes</td>\n",
       "      <td>NaN</td>\n",
       "    </tr>\n",
       "    <tr>\n",
       "      <th>3</th>\n",
       "      <td>4</td>\n",
       "      <td>Crimes against Public Order</td>\n",
       "      <td>NaN</td>\n",
       "    </tr>\n",
       "    <tr>\n",
       "      <th>4</th>\n",
       "      <td>5</td>\n",
       "      <td>Other Crimes</td>\n",
       "      <td>NaN</td>\n",
       "    </tr>\n",
       "    <tr>\n",
       "      <th>...</th>\n",
       "      <td>...</td>\n",
       "      <td>...</td>\n",
       "      <td>...</td>\n",
       "    </tr>\n",
       "    <tr>\n",
       "      <th>995</th>\n",
       "      <td>996</td>\n",
       "      <td>Fraud and White-Collar Crimes</td>\n",
       "      <td>NaN</td>\n",
       "    </tr>\n",
       "    <tr>\n",
       "      <th>996</th>\n",
       "      <td>997</td>\n",
       "      <td>Property Crimes</td>\n",
       "      <td>NaN</td>\n",
       "    </tr>\n",
       "    <tr>\n",
       "      <th>997</th>\n",
       "      <td>998</td>\n",
       "      <td>Violent Crimes</td>\n",
       "      <td>NaN</td>\n",
       "    </tr>\n",
       "    <tr>\n",
       "      <th>998</th>\n",
       "      <td>999</td>\n",
       "      <td>Property Crimes</td>\n",
       "      <td>NaN</td>\n",
       "    </tr>\n",
       "    <tr>\n",
       "      <th>999</th>\n",
       "      <td>1000</td>\n",
       "      <td>Violent Crimes</td>\n",
       "      <td>NaN</td>\n",
       "    </tr>\n",
       "  </tbody>\n",
       "</table>\n",
       "<p>1000 rows × 3 columns</p>\n",
       "</div>"
      ],
      "text/plain": [
       "       ID                Crime_Category   Unnamed: 2\n",
       "0       1         Crimes against Persons         NaN\n",
       "1       2    Crimes against Public Order         NaN\n",
       "2       3                   Other Crimes         NaN\n",
       "3       4    Crimes against Public Order         NaN\n",
       "4       5                   Other Crimes         NaN\n",
       "..    ...                            ...         ...\n",
       "995   996  Fraud and White-Collar Crimes         NaN\n",
       "996   997                Property Crimes         NaN\n",
       "997   998                 Violent Crimes         NaN\n",
       "998   999                Property Crimes         NaN\n",
       "999  1000                 Violent Crimes         NaN\n",
       "\n",
       "[1000 rows x 3 columns]"
      ]
     },
     "execution_count": 92,
     "metadata": {},
     "output_type": "execute_result"
    }
   ],
   "source": [
    "sample=pd.read_csv('/kaggle/input/crime-cast-forecasting-crime-categories/sample.csv')\n",
    "sample"
   ]
  },
  {
   "cell_type": "code",
   "execution_count": 93,
   "id": "3fedb440",
   "metadata": {
    "execution": {
     "iopub.execute_input": "2024-07-24T18:28:18.258906Z",
     "iopub.status.busy": "2024-07-24T18:28:18.258490Z",
     "iopub.status.idle": "2024-07-24T18:28:18.270522Z",
     "shell.execute_reply": "2024-07-24T18:28:18.269355Z"
    },
    "papermill": {
     "duration": 0.054718,
     "end_time": "2024-07-24T18:28:18.272575",
     "exception": false,
     "start_time": "2024-07-24T18:28:18.217857",
     "status": "completed"
    },
    "tags": []
   },
   "outputs": [
    {
     "data": {
      "text/plain": [
       "Premise_Code                 0\n",
       "Latitude                     0\n",
       "Longitude                    0\n",
       "Victim_Age                   0\n",
       "activity_count               0\n",
       "reporting_delay_day_count    0\n",
       "Area_ID                      0\n",
       "Part 1-2                     0\n",
       "Victim_Sex                   0\n",
       "Victim_Descent               0\n",
       "Weapon_Description           0\n",
       "Status                       0\n",
       "day_category                 0\n",
       "Modus_Operandi               0\n",
       "dtype: int64"
      ]
     },
     "execution_count": 93,
     "metadata": {},
     "output_type": "execute_result"
    }
   ],
   "source": [
    "test_final.isnull().sum()"
   ]
  },
  {
   "cell_type": "code",
   "execution_count": 94,
   "id": "c70aa61d",
   "metadata": {
    "execution": {
     "iopub.execute_input": "2024-07-24T18:28:18.354834Z",
     "iopub.status.busy": "2024-07-24T18:28:18.354077Z",
     "iopub.status.idle": "2024-07-24T18:28:18.359588Z",
     "shell.execute_reply": "2024-07-24T18:28:18.358607Z"
    },
    "papermill": {
     "duration": 0.05052,
     "end_time": "2024-07-24T18:28:18.362561",
     "exception": false,
     "start_time": "2024-07-24T18:28:18.312041",
     "status": "completed"
    },
    "tags": []
   },
   "outputs": [
    {
     "name": "stdout",
     "output_type": "stream",
     "text": [
      "Train features: Index(['Premise_Code', 'Latitude', 'Longitude', 'Victim_Age', 'activity_count',\n",
      "       'reporting_delay_day_count', 'Area_ID', 'Part 1-2', 'Victim_Sex',\n",
      "       'Victim_Descent', 'Weapon_Description', 'Status', 'day_category',\n",
      "       'Modus_Operandi'],\n",
      "      dtype='object')\n",
      "Test features: Index(['Premise_Code', 'Latitude', 'Longitude', 'Victim_Age', 'activity_count',\n",
      "       'reporting_delay_day_count', 'Area_ID', 'Part 1-2', 'Victim_Sex',\n",
      "       'Victim_Descent', 'Weapon_Description', 'Status', 'day_category',\n",
      "       'Modus_Operandi'],\n",
      "      dtype='object')\n"
     ]
    }
   ],
   "source": [
    "print(\"Train features:\", xtrain_1.columns)\n",
    "print(\"Test features:\", test_final.columns)"
   ]
  },
  {
   "cell_type": "code",
   "execution_count": 95,
   "id": "c02b7b94",
   "metadata": {
    "execution": {
     "iopub.execute_input": "2024-07-24T18:28:18.442325Z",
     "iopub.status.busy": "2024-07-24T18:28:18.441921Z",
     "iopub.status.idle": "2024-07-24T18:28:18.572778Z",
     "shell.execute_reply": "2024-07-24T18:28:18.571659Z"
    },
    "papermill": {
     "duration": 0.173924,
     "end_time": "2024-07-24T18:28:18.575426",
     "exception": false,
     "start_time": "2024-07-24T18:28:18.401502",
     "status": "completed"
    },
    "tags": []
   },
   "outputs": [],
   "source": [
    "y_pred_submission=histGradientBoostingClassifier.predict(test_final)\n",
    "submission=pd.DataFrame({'ID': np.arange(1,5000+1), 'Crime_Category': y_pred_submission})\n",
    "\n",
    "submission.to_csv('submission.csv',index=False)"
   ]
  }
 ],
 "metadata": {
  "kaggle": {
   "accelerator": "none",
   "dataSources": [
    {
     "databundleVersionId": 8446444,
     "sourceId": 77420,
     "sourceType": "competition"
    }
   ],
   "dockerImageVersionId": 30715,
   "isGpuEnabled": false,
   "isInternetEnabled": false,
   "language": "python",
   "sourceType": "notebook"
  },
  "kernelspec": {
   "display_name": "Python 3",
   "language": "python",
   "name": "python3"
  },
  "language_info": {
   "codemirror_mode": {
    "name": "ipython",
    "version": 3
   },
   "file_extension": ".py",
   "mimetype": "text/x-python",
   "name": "python",
   "nbconvert_exporter": "python",
   "pygments_lexer": "ipython3",
   "version": "3.10.13"
  },
  "papermill": {
   "default_parameters": {},
   "duration": 146.125522,
   "end_time": "2024-07-24T18:28:19.335736",
   "environment_variables": {},
   "exception": null,
   "input_path": "__notebook__.ipynb",
   "output_path": "__notebook__.ipynb",
   "parameters": {},
   "start_time": "2024-07-24T18:25:53.210214",
   "version": "2.5.0"
  }
 },
 "nbformat": 4,
 "nbformat_minor": 5
}
